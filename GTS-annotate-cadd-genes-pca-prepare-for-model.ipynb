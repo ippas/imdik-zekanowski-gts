{
 "cells": [
  {
   "cell_type": "code",
   "execution_count": 1,
   "metadata": {},
   "outputs": [
    {
     "data": {
      "text/html": [
       "<style>.container { width:100% !important; }</style>"
      ],
      "text/plain": [
       "<IPython.core.display.HTML object>"
      ]
     },
     "metadata": {},
     "output_type": "display_data"
    },
    {
     "name": "stderr",
     "output_type": "stream",
     "text": [
      "Running on Apache Spark version 2.4.5\n",
      "SparkUI available at http://p1192.prometheus:4040\n",
      "Welcome to\n",
      "     __  __     <>__\n",
      "    / /_/ /__  __/ /\n",
      "   / __  / _ `/ / /\n",
      "  /_/ /_/\\_,_/_/_/   version 0.2.62-84fa81b9ea3d\n",
      "LOGGING: writing to /net/archive/groups/plggneuromol/GTS-analysis/imdik-zekanowski-gts/hail-20210219-1557-0.2.62-84fa81b9ea3d.log\n"
     ]
    }
   ],
   "source": [
    "from IPython.display import display\n",
    "from IPython.display import HTML\n",
    "import IPython.core.display as di # Example: di.display_html('<h3>%s:</h3>' % str, raw=True)\n",
    "\n",
    "# This line will hide code by default when the notebook is exported as HTML\n",
    "# di.display_html('<script>jQuery(function() {if (jQuery(\"body.notebook_app\").length == 0) { jQuery(\".input_area\").toggle(); jQuery(\".prompt\").toggle();}});</script>', raw=True)\n",
    "\n",
    "display(HTML(\"<style>.container { width:100% !important; }</style>\"))\n",
    "\n",
    "\n",
    "import hail as hl\n",
    "hl.init(tmp_dir='/net/scratch/people/plggosborcz')"
   ]
  },
  {
   "cell_type": "code",
   "execution_count": 2,
   "metadata": {},
   "outputs": [
    {
     "data": {
      "text/html": [
       "<style>.container { width:100% !important; }</style>"
      ],
      "text/plain": [
       "<IPython.core.display.HTML object>"
      ]
     },
     "metadata": {},
     "output_type": "display_data"
    }
   ],
   "source": [
    "display(HTML(\"<style>.container { width:100% !important; }</style>\"))"
   ]
  },
  {
   "cell_type": "code",
   "execution_count": 3,
   "metadata": {},
   "outputs": [
    {
     "data": {
      "text/html": [
       "\n",
       "    <div class=\"bk-root\">\n",
       "        <a href=\"https://bokeh.org\" target=\"_blank\" class=\"bk-logo bk-logo-small bk-logo-notebook\"></a>\n",
       "        <span id=\"1001\">Loading BokehJS ...</span>\n",
       "    </div>"
      ]
     },
     "metadata": {},
     "output_type": "display_data"
    },
    {
     "data": {
      "application/javascript": [
       "\n",
       "(function(root) {\n",
       "  function now() {\n",
       "    return new Date();\n",
       "  }\n",
       "\n",
       "  var force = true;\n",
       "\n",
       "  if (typeof root._bokeh_onload_callbacks === \"undefined\" || force === true) {\n",
       "    root._bokeh_onload_callbacks = [];\n",
       "    root._bokeh_is_loading = undefined;\n",
       "  }\n",
       "\n",
       "  var JS_MIME_TYPE = 'application/javascript';\n",
       "  var HTML_MIME_TYPE = 'text/html';\n",
       "  var EXEC_MIME_TYPE = 'application/vnd.bokehjs_exec.v0+json';\n",
       "  var CLASS_NAME = 'output_bokeh rendered_html';\n",
       "\n",
       "  /**\n",
       "   * Render data to the DOM node\n",
       "   */\n",
       "  function render(props, node) {\n",
       "    var script = document.createElement(\"script\");\n",
       "    node.appendChild(script);\n",
       "  }\n",
       "\n",
       "  /**\n",
       "   * Handle when an output is cleared or removed\n",
       "   */\n",
       "  function handleClearOutput(event, handle) {\n",
       "    var cell = handle.cell;\n",
       "\n",
       "    var id = cell.output_area._bokeh_element_id;\n",
       "    var server_id = cell.output_area._bokeh_server_id;\n",
       "    // Clean up Bokeh references\n",
       "    if (id != null && id in Bokeh.index) {\n",
       "      Bokeh.index[id].model.document.clear();\n",
       "      delete Bokeh.index[id];\n",
       "    }\n",
       "\n",
       "    if (server_id !== undefined) {\n",
       "      // Clean up Bokeh references\n",
       "      var cmd = \"from bokeh.io.state import curstate; print(curstate().uuid_to_server['\" + server_id + \"'].get_sessions()[0].document.roots[0]._id)\";\n",
       "      cell.notebook.kernel.execute(cmd, {\n",
       "        iopub: {\n",
       "          output: function(msg) {\n",
       "            var id = msg.content.text.trim();\n",
       "            if (id in Bokeh.index) {\n",
       "              Bokeh.index[id].model.document.clear();\n",
       "              delete Bokeh.index[id];\n",
       "            }\n",
       "          }\n",
       "        }\n",
       "      });\n",
       "      // Destroy server and session\n",
       "      var cmd = \"import bokeh.io.notebook as ion; ion.destroy_server('\" + server_id + \"')\";\n",
       "      cell.notebook.kernel.execute(cmd);\n",
       "    }\n",
       "  }\n",
       "\n",
       "  /**\n",
       "   * Handle when a new output is added\n",
       "   */\n",
       "  function handleAddOutput(event, handle) {\n",
       "    var output_area = handle.output_area;\n",
       "    var output = handle.output;\n",
       "\n",
       "    // limit handleAddOutput to display_data with EXEC_MIME_TYPE content only\n",
       "    if ((output.output_type != \"display_data\") || (!output.data.hasOwnProperty(EXEC_MIME_TYPE))) {\n",
       "      return\n",
       "    }\n",
       "\n",
       "    var toinsert = output_area.element.find(\".\" + CLASS_NAME.split(' ')[0]);\n",
       "\n",
       "    if (output.metadata[EXEC_MIME_TYPE][\"id\"] !== undefined) {\n",
       "      toinsert[toinsert.length - 1].firstChild.textContent = output.data[JS_MIME_TYPE];\n",
       "      // store reference to embed id on output_area\n",
       "      output_area._bokeh_element_id = output.metadata[EXEC_MIME_TYPE][\"id\"];\n",
       "    }\n",
       "    if (output.metadata[EXEC_MIME_TYPE][\"server_id\"] !== undefined) {\n",
       "      var bk_div = document.createElement(\"div\");\n",
       "      bk_div.innerHTML = output.data[HTML_MIME_TYPE];\n",
       "      var script_attrs = bk_div.children[0].attributes;\n",
       "      for (var i = 0; i < script_attrs.length; i++) {\n",
       "        toinsert[toinsert.length - 1].firstChild.setAttribute(script_attrs[i].name, script_attrs[i].value);\n",
       "      }\n",
       "      // store reference to server id on output_area\n",
       "      output_area._bokeh_server_id = output.metadata[EXEC_MIME_TYPE][\"server_id\"];\n",
       "    }\n",
       "  }\n",
       "\n",
       "  function register_renderer(events, OutputArea) {\n",
       "\n",
       "    function append_mime(data, metadata, element) {\n",
       "      // create a DOM node to render to\n",
       "      var toinsert = this.create_output_subarea(\n",
       "        metadata,\n",
       "        CLASS_NAME,\n",
       "        EXEC_MIME_TYPE\n",
       "      );\n",
       "      this.keyboard_manager.register_events(toinsert);\n",
       "      // Render to node\n",
       "      var props = {data: data, metadata: metadata[EXEC_MIME_TYPE]};\n",
       "      render(props, toinsert[toinsert.length - 1]);\n",
       "      element.append(toinsert);\n",
       "      return toinsert\n",
       "    }\n",
       "\n",
       "    /* Handle when an output is cleared or removed */\n",
       "    events.on('clear_output.CodeCell', handleClearOutput);\n",
       "    events.on('delete.Cell', handleClearOutput);\n",
       "\n",
       "    /* Handle when a new output is added */\n",
       "    events.on('output_added.OutputArea', handleAddOutput);\n",
       "\n",
       "    /**\n",
       "     * Register the mime type and append_mime function with output_area\n",
       "     */\n",
       "    OutputArea.prototype.register_mime_type(EXEC_MIME_TYPE, append_mime, {\n",
       "      /* Is output safe? */\n",
       "      safe: true,\n",
       "      /* Index of renderer in `output_area.display_order` */\n",
       "      index: 0\n",
       "    });\n",
       "  }\n",
       "\n",
       "  // register the mime type if in Jupyter Notebook environment and previously unregistered\n",
       "  if (root.Jupyter !== undefined) {\n",
       "    var events = require('base/js/events');\n",
       "    var OutputArea = require('notebook/js/outputarea').OutputArea;\n",
       "\n",
       "    if (OutputArea.prototype.mime_types().indexOf(EXEC_MIME_TYPE) == -1) {\n",
       "      register_renderer(events, OutputArea);\n",
       "    }\n",
       "  }\n",
       "\n",
       "  \n",
       "  if (typeof (root._bokeh_timeout) === \"undefined\" || force === true) {\n",
       "    root._bokeh_timeout = Date.now() + 5000;\n",
       "    root._bokeh_failed_load = false;\n",
       "  }\n",
       "\n",
       "  var NB_LOAD_WARNING = {'data': {'text/html':\n",
       "     \"<div style='background-color: #fdd'>\\n\"+\n",
       "     \"<p>\\n\"+\n",
       "     \"BokehJS does not appear to have successfully loaded. If loading BokehJS from CDN, this \\n\"+\n",
       "     \"may be due to a slow or bad network connection. Possible fixes:\\n\"+\n",
       "     \"</p>\\n\"+\n",
       "     \"<ul>\\n\"+\n",
       "     \"<li>re-rerun `output_notebook()` to attempt to load from CDN again, or</li>\\n\"+\n",
       "     \"<li>use INLINE resources instead, as so:</li>\\n\"+\n",
       "     \"</ul>\\n\"+\n",
       "     \"<code>\\n\"+\n",
       "     \"from bokeh.resources import INLINE\\n\"+\n",
       "     \"output_notebook(resources=INLINE)\\n\"+\n",
       "     \"</code>\\n\"+\n",
       "     \"</div>\"}};\n",
       "\n",
       "  function display_loaded() {\n",
       "    var el = document.getElementById(\"1001\");\n",
       "    if (el != null) {\n",
       "      el.textContent = \"BokehJS is loading...\";\n",
       "    }\n",
       "    if (root.Bokeh !== undefined) {\n",
       "      if (el != null) {\n",
       "        el.textContent = \"BokehJS \" + root.Bokeh.version + \" successfully loaded.\";\n",
       "      }\n",
       "    } else if (Date.now() < root._bokeh_timeout) {\n",
       "      setTimeout(display_loaded, 100)\n",
       "    }\n",
       "  }\n",
       "\n",
       "\n",
       "  function run_callbacks() {\n",
       "    try {\n",
       "      root._bokeh_onload_callbacks.forEach(function(callback) {\n",
       "        if (callback != null)\n",
       "          callback();\n",
       "      });\n",
       "    } finally {\n",
       "      delete root._bokeh_onload_callbacks\n",
       "    }\n",
       "    console.debug(\"Bokeh: all callbacks have finished\");\n",
       "  }\n",
       "\n",
       "  function load_libs(css_urls, js_urls, callback) {\n",
       "    if (css_urls == null) css_urls = [];\n",
       "    if (js_urls == null) js_urls = [];\n",
       "\n",
       "    root._bokeh_onload_callbacks.push(callback);\n",
       "    if (root._bokeh_is_loading > 0) {\n",
       "      console.debug(\"Bokeh: BokehJS is being loaded, scheduling callback at\", now());\n",
       "      return null;\n",
       "    }\n",
       "    if (js_urls == null || js_urls.length === 0) {\n",
       "      run_callbacks();\n",
       "      return null;\n",
       "    }\n",
       "    console.debug(\"Bokeh: BokehJS not loaded, scheduling load and callback at\", now());\n",
       "    root._bokeh_is_loading = css_urls.length + js_urls.length;\n",
       "\n",
       "    function on_load() {\n",
       "      root._bokeh_is_loading--;\n",
       "      if (root._bokeh_is_loading === 0) {\n",
       "        console.debug(\"Bokeh: all BokehJS libraries/stylesheets loaded\");\n",
       "        run_callbacks()\n",
       "      }\n",
       "    }\n",
       "\n",
       "    function on_error() {\n",
       "      console.error(\"failed to load \" + url);\n",
       "    }\n",
       "\n",
       "    for (var i = 0; i < css_urls.length; i++) {\n",
       "      var url = css_urls[i];\n",
       "      const element = document.createElement(\"link\");\n",
       "      element.onload = on_load;\n",
       "      element.onerror = on_error;\n",
       "      element.rel = \"stylesheet\";\n",
       "      element.type = \"text/css\";\n",
       "      element.href = url;\n",
       "      console.debug(\"Bokeh: injecting link tag for BokehJS stylesheet: \", url);\n",
       "      document.body.appendChild(element);\n",
       "    }\n",
       "\n",
       "    for (var i = 0; i < js_urls.length; i++) {\n",
       "      var url = js_urls[i];\n",
       "      var element = document.createElement('script');\n",
       "      element.onload = on_load;\n",
       "      element.onerror = on_error;\n",
       "      element.async = false;\n",
       "      element.src = url;\n",
       "      console.debug(\"Bokeh: injecting script tag for BokehJS library: \", url);\n",
       "      document.head.appendChild(element);\n",
       "    }\n",
       "  };var element = document.getElementById(\"1001\");\n",
       "  if (element == null) {\n",
       "    console.error(\"Bokeh: ERROR: autoload.js configured with elementid '1001' but no matching script tag was found. \")\n",
       "    return false;\n",
       "  }\n",
       "\n",
       "  function inject_raw_css(css) {\n",
       "    const element = document.createElement(\"style\");\n",
       "    element.appendChild(document.createTextNode(css));\n",
       "    document.body.appendChild(element);\n",
       "  }\n",
       "\n",
       "  \n",
       "  var js_urls = [\"https://cdn.pydata.org/bokeh/release/bokeh-1.4.0.min.js\", \"https://cdn.pydata.org/bokeh/release/bokeh-widgets-1.4.0.min.js\", \"https://cdn.pydata.org/bokeh/release/bokeh-tables-1.4.0.min.js\", \"https://cdn.pydata.org/bokeh/release/bokeh-gl-1.4.0.min.js\"];\n",
       "  var css_urls = [];\n",
       "  \n",
       "\n",
       "  var inline_js = [\n",
       "    function(Bokeh) {\n",
       "      Bokeh.set_log_level(\"info\");\n",
       "    },\n",
       "    function(Bokeh) {\n",
       "    \n",
       "    \n",
       "    }\n",
       "  ];\n",
       "\n",
       "  function run_inline_js() {\n",
       "    \n",
       "    if (root.Bokeh !== undefined || force === true) {\n",
       "      \n",
       "    for (var i = 0; i < inline_js.length; i++) {\n",
       "      inline_js[i].call(root, root.Bokeh);\n",
       "    }\n",
       "    if (force === true) {\n",
       "        display_loaded();\n",
       "      }} else if (Date.now() < root._bokeh_timeout) {\n",
       "      setTimeout(run_inline_js, 100);\n",
       "    } else if (!root._bokeh_failed_load) {\n",
       "      console.log(\"Bokeh: BokehJS failed to load within specified timeout.\");\n",
       "      root._bokeh_failed_load = true;\n",
       "    } else if (force !== true) {\n",
       "      var cell = $(document.getElementById(\"1001\")).parents('.cell').data().cell;\n",
       "      cell.output_area.append_execute_result(NB_LOAD_WARNING)\n",
       "    }\n",
       "\n",
       "  }\n",
       "\n",
       "  if (root._bokeh_is_loading === 0) {\n",
       "    console.debug(\"Bokeh: BokehJS loaded, going straight to plotting\");\n",
       "    run_inline_js();\n",
       "  } else {\n",
       "    load_libs(css_urls, js_urls, function() {\n",
       "      console.debug(\"Bokeh: BokehJS plotting callback run at\", now());\n",
       "      run_inline_js();\n",
       "    });\n",
       "  }\n",
       "}(window));"
      ],
      "application/vnd.bokehjs_load.v0+json": "\n(function(root) {\n  function now() {\n    return new Date();\n  }\n\n  var force = true;\n\n  if (typeof root._bokeh_onload_callbacks === \"undefined\" || force === true) {\n    root._bokeh_onload_callbacks = [];\n    root._bokeh_is_loading = undefined;\n  }\n\n  \n\n  \n  if (typeof (root._bokeh_timeout) === \"undefined\" || force === true) {\n    root._bokeh_timeout = Date.now() + 5000;\n    root._bokeh_failed_load = false;\n  }\n\n  var NB_LOAD_WARNING = {'data': {'text/html':\n     \"<div style='background-color: #fdd'>\\n\"+\n     \"<p>\\n\"+\n     \"BokehJS does not appear to have successfully loaded. If loading BokehJS from CDN, this \\n\"+\n     \"may be due to a slow or bad network connection. Possible fixes:\\n\"+\n     \"</p>\\n\"+\n     \"<ul>\\n\"+\n     \"<li>re-rerun `output_notebook()` to attempt to load from CDN again, or</li>\\n\"+\n     \"<li>use INLINE resources instead, as so:</li>\\n\"+\n     \"</ul>\\n\"+\n     \"<code>\\n\"+\n     \"from bokeh.resources import INLINE\\n\"+\n     \"output_notebook(resources=INLINE)\\n\"+\n     \"</code>\\n\"+\n     \"</div>\"}};\n\n  function display_loaded() {\n    var el = document.getElementById(\"1001\");\n    if (el != null) {\n      el.textContent = \"BokehJS is loading...\";\n    }\n    if (root.Bokeh !== undefined) {\n      if (el != null) {\n        el.textContent = \"BokehJS \" + root.Bokeh.version + \" successfully loaded.\";\n      }\n    } else if (Date.now() < root._bokeh_timeout) {\n      setTimeout(display_loaded, 100)\n    }\n  }\n\n\n  function run_callbacks() {\n    try {\n      root._bokeh_onload_callbacks.forEach(function(callback) {\n        if (callback != null)\n          callback();\n      });\n    } finally {\n      delete root._bokeh_onload_callbacks\n    }\n    console.debug(\"Bokeh: all callbacks have finished\");\n  }\n\n  function load_libs(css_urls, js_urls, callback) {\n    if (css_urls == null) css_urls = [];\n    if (js_urls == null) js_urls = [];\n\n    root._bokeh_onload_callbacks.push(callback);\n    if (root._bokeh_is_loading > 0) {\n      console.debug(\"Bokeh: BokehJS is being loaded, scheduling callback at\", now());\n      return null;\n    }\n    if (js_urls == null || js_urls.length === 0) {\n      run_callbacks();\n      return null;\n    }\n    console.debug(\"Bokeh: BokehJS not loaded, scheduling load and callback at\", now());\n    root._bokeh_is_loading = css_urls.length + js_urls.length;\n\n    function on_load() {\n      root._bokeh_is_loading--;\n      if (root._bokeh_is_loading === 0) {\n        console.debug(\"Bokeh: all BokehJS libraries/stylesheets loaded\");\n        run_callbacks()\n      }\n    }\n\n    function on_error() {\n      console.error(\"failed to load \" + url);\n    }\n\n    for (var i = 0; i < css_urls.length; i++) {\n      var url = css_urls[i];\n      const element = document.createElement(\"link\");\n      element.onload = on_load;\n      element.onerror = on_error;\n      element.rel = \"stylesheet\";\n      element.type = \"text/css\";\n      element.href = url;\n      console.debug(\"Bokeh: injecting link tag for BokehJS stylesheet: \", url);\n      document.body.appendChild(element);\n    }\n\n    for (var i = 0; i < js_urls.length; i++) {\n      var url = js_urls[i];\n      var element = document.createElement('script');\n      element.onload = on_load;\n      element.onerror = on_error;\n      element.async = false;\n      element.src = url;\n      console.debug(\"Bokeh: injecting script tag for BokehJS library: \", url);\n      document.head.appendChild(element);\n    }\n  };var element = document.getElementById(\"1001\");\n  if (element == null) {\n    console.error(\"Bokeh: ERROR: autoload.js configured with elementid '1001' but no matching script tag was found. \")\n    return false;\n  }\n\n  function inject_raw_css(css) {\n    const element = document.createElement(\"style\");\n    element.appendChild(document.createTextNode(css));\n    document.body.appendChild(element);\n  }\n\n  \n  var js_urls = [\"https://cdn.pydata.org/bokeh/release/bokeh-1.4.0.min.js\", \"https://cdn.pydata.org/bokeh/release/bokeh-widgets-1.4.0.min.js\", \"https://cdn.pydata.org/bokeh/release/bokeh-tables-1.4.0.min.js\", \"https://cdn.pydata.org/bokeh/release/bokeh-gl-1.4.0.min.js\"];\n  var css_urls = [];\n  \n\n  var inline_js = [\n    function(Bokeh) {\n      Bokeh.set_log_level(\"info\");\n    },\n    function(Bokeh) {\n    \n    \n    }\n  ];\n\n  function run_inline_js() {\n    \n    if (root.Bokeh !== undefined || force === true) {\n      \n    for (var i = 0; i < inline_js.length; i++) {\n      inline_js[i].call(root, root.Bokeh);\n    }\n    if (force === true) {\n        display_loaded();\n      }} else if (Date.now() < root._bokeh_timeout) {\n      setTimeout(run_inline_js, 100);\n    } else if (!root._bokeh_failed_load) {\n      console.log(\"Bokeh: BokehJS failed to load within specified timeout.\");\n      root._bokeh_failed_load = true;\n    } else if (force !== true) {\n      var cell = $(document.getElementById(\"1001\")).parents('.cell').data().cell;\n      cell.output_area.append_execute_result(NB_LOAD_WARNING)\n    }\n\n  }\n\n  if (root._bokeh_is_loading === 0) {\n    console.debug(\"Bokeh: BokehJS loaded, going straight to plotting\");\n    run_inline_js();\n  } else {\n    load_libs(css_urls, js_urls, function() {\n      console.debug(\"Bokeh: BokehJS plotting callback run at\", now());\n      run_inline_js();\n    });\n  }\n}(window));"
     },
     "metadata": {},
     "output_type": "display_data"
    }
   ],
   "source": [
    "from hail.plot import show\n",
    "from pprint import pprint\n",
    "from bokeh.layouts import gridplot\n",
    "hl.plot.output_notebook()\n",
    "\n",
    "import numpy as np\n",
    "import pandas as pd\n",
    "from functools import reduce\n",
    "from itertools import chain\n",
    "import statistics as stat"
   ]
  },
  {
   "cell_type": "code",
   "execution_count": 4,
   "metadata": {},
   "outputs": [
    {
     "data": {
      "text/html": [
       "\n",
       "    <div class=\"bk-root\">\n",
       "        <a href=\"https://bokeh.org\" target=\"_blank\" class=\"bk-logo bk-logo-small bk-logo-notebook\"></a>\n",
       "        <span id=\"1002\">Loading BokehJS ...</span>\n",
       "    </div>"
      ]
     },
     "metadata": {},
     "output_type": "display_data"
    },
    {
     "data": {
      "application/javascript": [
       "\n",
       "(function(root) {\n",
       "  function now() {\n",
       "    return new Date();\n",
       "  }\n",
       "\n",
       "  var force = true;\n",
       "\n",
       "  if (typeof root._bokeh_onload_callbacks === \"undefined\" || force === true) {\n",
       "    root._bokeh_onload_callbacks = [];\n",
       "    root._bokeh_is_loading = undefined;\n",
       "  }\n",
       "\n",
       "  var JS_MIME_TYPE = 'application/javascript';\n",
       "  var HTML_MIME_TYPE = 'text/html';\n",
       "  var EXEC_MIME_TYPE = 'application/vnd.bokehjs_exec.v0+json';\n",
       "  var CLASS_NAME = 'output_bokeh rendered_html';\n",
       "\n",
       "  /**\n",
       "   * Render data to the DOM node\n",
       "   */\n",
       "  function render(props, node) {\n",
       "    var script = document.createElement(\"script\");\n",
       "    node.appendChild(script);\n",
       "  }\n",
       "\n",
       "  /**\n",
       "   * Handle when an output is cleared or removed\n",
       "   */\n",
       "  function handleClearOutput(event, handle) {\n",
       "    var cell = handle.cell;\n",
       "\n",
       "    var id = cell.output_area._bokeh_element_id;\n",
       "    var server_id = cell.output_area._bokeh_server_id;\n",
       "    // Clean up Bokeh references\n",
       "    if (id != null && id in Bokeh.index) {\n",
       "      Bokeh.index[id].model.document.clear();\n",
       "      delete Bokeh.index[id];\n",
       "    }\n",
       "\n",
       "    if (server_id !== undefined) {\n",
       "      // Clean up Bokeh references\n",
       "      var cmd = \"from bokeh.io.state import curstate; print(curstate().uuid_to_server['\" + server_id + \"'].get_sessions()[0].document.roots[0]._id)\";\n",
       "      cell.notebook.kernel.execute(cmd, {\n",
       "        iopub: {\n",
       "          output: function(msg) {\n",
       "            var id = msg.content.text.trim();\n",
       "            if (id in Bokeh.index) {\n",
       "              Bokeh.index[id].model.document.clear();\n",
       "              delete Bokeh.index[id];\n",
       "            }\n",
       "          }\n",
       "        }\n",
       "      });\n",
       "      // Destroy server and session\n",
       "      var cmd = \"import bokeh.io.notebook as ion; ion.destroy_server('\" + server_id + \"')\";\n",
       "      cell.notebook.kernel.execute(cmd);\n",
       "    }\n",
       "  }\n",
       "\n",
       "  /**\n",
       "   * Handle when a new output is added\n",
       "   */\n",
       "  function handleAddOutput(event, handle) {\n",
       "    var output_area = handle.output_area;\n",
       "    var output = handle.output;\n",
       "\n",
       "    // limit handleAddOutput to display_data with EXEC_MIME_TYPE content only\n",
       "    if ((output.output_type != \"display_data\") || (!output.data.hasOwnProperty(EXEC_MIME_TYPE))) {\n",
       "      return\n",
       "    }\n",
       "\n",
       "    var toinsert = output_area.element.find(\".\" + CLASS_NAME.split(' ')[0]);\n",
       "\n",
       "    if (output.metadata[EXEC_MIME_TYPE][\"id\"] !== undefined) {\n",
       "      toinsert[toinsert.length - 1].firstChild.textContent = output.data[JS_MIME_TYPE];\n",
       "      // store reference to embed id on output_area\n",
       "      output_area._bokeh_element_id = output.metadata[EXEC_MIME_TYPE][\"id\"];\n",
       "    }\n",
       "    if (output.metadata[EXEC_MIME_TYPE][\"server_id\"] !== undefined) {\n",
       "      var bk_div = document.createElement(\"div\");\n",
       "      bk_div.innerHTML = output.data[HTML_MIME_TYPE];\n",
       "      var script_attrs = bk_div.children[0].attributes;\n",
       "      for (var i = 0; i < script_attrs.length; i++) {\n",
       "        toinsert[toinsert.length - 1].firstChild.setAttribute(script_attrs[i].name, script_attrs[i].value);\n",
       "      }\n",
       "      // store reference to server id on output_area\n",
       "      output_area._bokeh_server_id = output.metadata[EXEC_MIME_TYPE][\"server_id\"];\n",
       "    }\n",
       "  }\n",
       "\n",
       "  function register_renderer(events, OutputArea) {\n",
       "\n",
       "    function append_mime(data, metadata, element) {\n",
       "      // create a DOM node to render to\n",
       "      var toinsert = this.create_output_subarea(\n",
       "        metadata,\n",
       "        CLASS_NAME,\n",
       "        EXEC_MIME_TYPE\n",
       "      );\n",
       "      this.keyboard_manager.register_events(toinsert);\n",
       "      // Render to node\n",
       "      var props = {data: data, metadata: metadata[EXEC_MIME_TYPE]};\n",
       "      render(props, toinsert[toinsert.length - 1]);\n",
       "      element.append(toinsert);\n",
       "      return toinsert\n",
       "    }\n",
       "\n",
       "    /* Handle when an output is cleared or removed */\n",
       "    events.on('clear_output.CodeCell', handleClearOutput);\n",
       "    events.on('delete.Cell', handleClearOutput);\n",
       "\n",
       "    /* Handle when a new output is added */\n",
       "    events.on('output_added.OutputArea', handleAddOutput);\n",
       "\n",
       "    /**\n",
       "     * Register the mime type and append_mime function with output_area\n",
       "     */\n",
       "    OutputArea.prototype.register_mime_type(EXEC_MIME_TYPE, append_mime, {\n",
       "      /* Is output safe? */\n",
       "      safe: true,\n",
       "      /* Index of renderer in `output_area.display_order` */\n",
       "      index: 0\n",
       "    });\n",
       "  }\n",
       "\n",
       "  // register the mime type if in Jupyter Notebook environment and previously unregistered\n",
       "  if (root.Jupyter !== undefined) {\n",
       "    var events = require('base/js/events');\n",
       "    var OutputArea = require('notebook/js/outputarea').OutputArea;\n",
       "\n",
       "    if (OutputArea.prototype.mime_types().indexOf(EXEC_MIME_TYPE) == -1) {\n",
       "      register_renderer(events, OutputArea);\n",
       "    }\n",
       "  }\n",
       "\n",
       "  \n",
       "  if (typeof (root._bokeh_timeout) === \"undefined\" || force === true) {\n",
       "    root._bokeh_timeout = Date.now() + 5000;\n",
       "    root._bokeh_failed_load = false;\n",
       "  }\n",
       "\n",
       "  var NB_LOAD_WARNING = {'data': {'text/html':\n",
       "     \"<div style='background-color: #fdd'>\\n\"+\n",
       "     \"<p>\\n\"+\n",
       "     \"BokehJS does not appear to have successfully loaded. If loading BokehJS from CDN, this \\n\"+\n",
       "     \"may be due to a slow or bad network connection. Possible fixes:\\n\"+\n",
       "     \"</p>\\n\"+\n",
       "     \"<ul>\\n\"+\n",
       "     \"<li>re-rerun `output_notebook()` to attempt to load from CDN again, or</li>\\n\"+\n",
       "     \"<li>use INLINE resources instead, as so:</li>\\n\"+\n",
       "     \"</ul>\\n\"+\n",
       "     \"<code>\\n\"+\n",
       "     \"from bokeh.resources import INLINE\\n\"+\n",
       "     \"output_notebook(resources=INLINE)\\n\"+\n",
       "     \"</code>\\n\"+\n",
       "     \"</div>\"}};\n",
       "\n",
       "  function display_loaded() {\n",
       "    var el = document.getElementById(\"1002\");\n",
       "    if (el != null) {\n",
       "      el.textContent = \"BokehJS is loading...\";\n",
       "    }\n",
       "    if (root.Bokeh !== undefined) {\n",
       "      if (el != null) {\n",
       "        el.textContent = \"BokehJS \" + root.Bokeh.version + \" successfully loaded.\";\n",
       "      }\n",
       "    } else if (Date.now() < root._bokeh_timeout) {\n",
       "      setTimeout(display_loaded, 100)\n",
       "    }\n",
       "  }\n",
       "\n",
       "\n",
       "  function run_callbacks() {\n",
       "    try {\n",
       "      root._bokeh_onload_callbacks.forEach(function(callback) {\n",
       "        if (callback != null)\n",
       "          callback();\n",
       "      });\n",
       "    } finally {\n",
       "      delete root._bokeh_onload_callbacks\n",
       "    }\n",
       "    console.debug(\"Bokeh: all callbacks have finished\");\n",
       "  }\n",
       "\n",
       "  function load_libs(css_urls, js_urls, callback) {\n",
       "    if (css_urls == null) css_urls = [];\n",
       "    if (js_urls == null) js_urls = [];\n",
       "\n",
       "    root._bokeh_onload_callbacks.push(callback);\n",
       "    if (root._bokeh_is_loading > 0) {\n",
       "      console.debug(\"Bokeh: BokehJS is being loaded, scheduling callback at\", now());\n",
       "      return null;\n",
       "    }\n",
       "    if (js_urls == null || js_urls.length === 0) {\n",
       "      run_callbacks();\n",
       "      return null;\n",
       "    }\n",
       "    console.debug(\"Bokeh: BokehJS not loaded, scheduling load and callback at\", now());\n",
       "    root._bokeh_is_loading = css_urls.length + js_urls.length;\n",
       "\n",
       "    function on_load() {\n",
       "      root._bokeh_is_loading--;\n",
       "      if (root._bokeh_is_loading === 0) {\n",
       "        console.debug(\"Bokeh: all BokehJS libraries/stylesheets loaded\");\n",
       "        run_callbacks()\n",
       "      }\n",
       "    }\n",
       "\n",
       "    function on_error() {\n",
       "      console.error(\"failed to load \" + url);\n",
       "    }\n",
       "\n",
       "    for (var i = 0; i < css_urls.length; i++) {\n",
       "      var url = css_urls[i];\n",
       "      const element = document.createElement(\"link\");\n",
       "      element.onload = on_load;\n",
       "      element.onerror = on_error;\n",
       "      element.rel = \"stylesheet\";\n",
       "      element.type = \"text/css\";\n",
       "      element.href = url;\n",
       "      console.debug(\"Bokeh: injecting link tag for BokehJS stylesheet: \", url);\n",
       "      document.body.appendChild(element);\n",
       "    }\n",
       "\n",
       "    for (var i = 0; i < js_urls.length; i++) {\n",
       "      var url = js_urls[i];\n",
       "      var element = document.createElement('script');\n",
       "      element.onload = on_load;\n",
       "      element.onerror = on_error;\n",
       "      element.async = false;\n",
       "      element.src = url;\n",
       "      console.debug(\"Bokeh: injecting script tag for BokehJS library: \", url);\n",
       "      document.head.appendChild(element);\n",
       "    }\n",
       "  };var element = document.getElementById(\"1002\");\n",
       "  if (element == null) {\n",
       "    console.error(\"Bokeh: ERROR: autoload.js configured with elementid '1002' but no matching script tag was found. \")\n",
       "    return false;\n",
       "  }\n",
       "\n",
       "  function inject_raw_css(css) {\n",
       "    const element = document.createElement(\"style\");\n",
       "    element.appendChild(document.createTextNode(css));\n",
       "    document.body.appendChild(element);\n",
       "  }\n",
       "\n",
       "  \n",
       "  var js_urls = [\"https://cdn.pydata.org/bokeh/release/bokeh-1.4.0.min.js\", \"https://cdn.pydata.org/bokeh/release/bokeh-widgets-1.4.0.min.js\", \"https://cdn.pydata.org/bokeh/release/bokeh-tables-1.4.0.min.js\", \"https://cdn.pydata.org/bokeh/release/bokeh-gl-1.4.0.min.js\"];\n",
       "  var css_urls = [];\n",
       "  \n",
       "\n",
       "  var inline_js = [\n",
       "    function(Bokeh) {\n",
       "      Bokeh.set_log_level(\"info\");\n",
       "    },\n",
       "    function(Bokeh) {\n",
       "    \n",
       "    \n",
       "    }\n",
       "  ];\n",
       "\n",
       "  function run_inline_js() {\n",
       "    \n",
       "    if (root.Bokeh !== undefined || force === true) {\n",
       "      \n",
       "    for (var i = 0; i < inline_js.length; i++) {\n",
       "      inline_js[i].call(root, root.Bokeh);\n",
       "    }\n",
       "    if (force === true) {\n",
       "        display_loaded();\n",
       "      }} else if (Date.now() < root._bokeh_timeout) {\n",
       "      setTimeout(run_inline_js, 100);\n",
       "    } else if (!root._bokeh_failed_load) {\n",
       "      console.log(\"Bokeh: BokehJS failed to load within specified timeout.\");\n",
       "      root._bokeh_failed_load = true;\n",
       "    } else if (force !== true) {\n",
       "      var cell = $(document.getElementById(\"1002\")).parents('.cell').data().cell;\n",
       "      cell.output_area.append_execute_result(NB_LOAD_WARNING)\n",
       "    }\n",
       "\n",
       "  }\n",
       "\n",
       "  if (root._bokeh_is_loading === 0) {\n",
       "    console.debug(\"Bokeh: BokehJS loaded, going straight to plotting\");\n",
       "    run_inline_js();\n",
       "  } else {\n",
       "    load_libs(css_urls, js_urls, function() {\n",
       "      console.debug(\"Bokeh: BokehJS plotting callback run at\", now());\n",
       "      run_inline_js();\n",
       "    });\n",
       "  }\n",
       "}(window));"
      ],
      "application/vnd.bokehjs_load.v0+json": "\n(function(root) {\n  function now() {\n    return new Date();\n  }\n\n  var force = true;\n\n  if (typeof root._bokeh_onload_callbacks === \"undefined\" || force === true) {\n    root._bokeh_onload_callbacks = [];\n    root._bokeh_is_loading = undefined;\n  }\n\n  \n\n  \n  if (typeof (root._bokeh_timeout) === \"undefined\" || force === true) {\n    root._bokeh_timeout = Date.now() + 5000;\n    root._bokeh_failed_load = false;\n  }\n\n  var NB_LOAD_WARNING = {'data': {'text/html':\n     \"<div style='background-color: #fdd'>\\n\"+\n     \"<p>\\n\"+\n     \"BokehJS does not appear to have successfully loaded. If loading BokehJS from CDN, this \\n\"+\n     \"may be due to a slow or bad network connection. Possible fixes:\\n\"+\n     \"</p>\\n\"+\n     \"<ul>\\n\"+\n     \"<li>re-rerun `output_notebook()` to attempt to load from CDN again, or</li>\\n\"+\n     \"<li>use INLINE resources instead, as so:</li>\\n\"+\n     \"</ul>\\n\"+\n     \"<code>\\n\"+\n     \"from bokeh.resources import INLINE\\n\"+\n     \"output_notebook(resources=INLINE)\\n\"+\n     \"</code>\\n\"+\n     \"</div>\"}};\n\n  function display_loaded() {\n    var el = document.getElementById(\"1002\");\n    if (el != null) {\n      el.textContent = \"BokehJS is loading...\";\n    }\n    if (root.Bokeh !== undefined) {\n      if (el != null) {\n        el.textContent = \"BokehJS \" + root.Bokeh.version + \" successfully loaded.\";\n      }\n    } else if (Date.now() < root._bokeh_timeout) {\n      setTimeout(display_loaded, 100)\n    }\n  }\n\n\n  function run_callbacks() {\n    try {\n      root._bokeh_onload_callbacks.forEach(function(callback) {\n        if (callback != null)\n          callback();\n      });\n    } finally {\n      delete root._bokeh_onload_callbacks\n    }\n    console.debug(\"Bokeh: all callbacks have finished\");\n  }\n\n  function load_libs(css_urls, js_urls, callback) {\n    if (css_urls == null) css_urls = [];\n    if (js_urls == null) js_urls = [];\n\n    root._bokeh_onload_callbacks.push(callback);\n    if (root._bokeh_is_loading > 0) {\n      console.debug(\"Bokeh: BokehJS is being loaded, scheduling callback at\", now());\n      return null;\n    }\n    if (js_urls == null || js_urls.length === 0) {\n      run_callbacks();\n      return null;\n    }\n    console.debug(\"Bokeh: BokehJS not loaded, scheduling load and callback at\", now());\n    root._bokeh_is_loading = css_urls.length + js_urls.length;\n\n    function on_load() {\n      root._bokeh_is_loading--;\n      if (root._bokeh_is_loading === 0) {\n        console.debug(\"Bokeh: all BokehJS libraries/stylesheets loaded\");\n        run_callbacks()\n      }\n    }\n\n    function on_error() {\n      console.error(\"failed to load \" + url);\n    }\n\n    for (var i = 0; i < css_urls.length; i++) {\n      var url = css_urls[i];\n      const element = document.createElement(\"link\");\n      element.onload = on_load;\n      element.onerror = on_error;\n      element.rel = \"stylesheet\";\n      element.type = \"text/css\";\n      element.href = url;\n      console.debug(\"Bokeh: injecting link tag for BokehJS stylesheet: \", url);\n      document.body.appendChild(element);\n    }\n\n    for (var i = 0; i < js_urls.length; i++) {\n      var url = js_urls[i];\n      var element = document.createElement('script');\n      element.onload = on_load;\n      element.onerror = on_error;\n      element.async = false;\n      element.src = url;\n      console.debug(\"Bokeh: injecting script tag for BokehJS library: \", url);\n      document.head.appendChild(element);\n    }\n  };var element = document.getElementById(\"1002\");\n  if (element == null) {\n    console.error(\"Bokeh: ERROR: autoload.js configured with elementid '1002' but no matching script tag was found. \")\n    return false;\n  }\n\n  function inject_raw_css(css) {\n    const element = document.createElement(\"style\");\n    element.appendChild(document.createTextNode(css));\n    document.body.appendChild(element);\n  }\n\n  \n  var js_urls = [\"https://cdn.pydata.org/bokeh/release/bokeh-1.4.0.min.js\", \"https://cdn.pydata.org/bokeh/release/bokeh-widgets-1.4.0.min.js\", \"https://cdn.pydata.org/bokeh/release/bokeh-tables-1.4.0.min.js\", \"https://cdn.pydata.org/bokeh/release/bokeh-gl-1.4.0.min.js\"];\n  var css_urls = [];\n  \n\n  var inline_js = [\n    function(Bokeh) {\n      Bokeh.set_log_level(\"info\");\n    },\n    function(Bokeh) {\n    \n    \n    }\n  ];\n\n  function run_inline_js() {\n    \n    if (root.Bokeh !== undefined || force === true) {\n      \n    for (var i = 0; i < inline_js.length; i++) {\n      inline_js[i].call(root, root.Bokeh);\n    }\n    if (force === true) {\n        display_loaded();\n      }} else if (Date.now() < root._bokeh_timeout) {\n      setTimeout(run_inline_js, 100);\n    } else if (!root._bokeh_failed_load) {\n      console.log(\"Bokeh: BokehJS failed to load within specified timeout.\");\n      root._bokeh_failed_load = true;\n    } else if (force !== true) {\n      var cell = $(document.getElementById(\"1002\")).parents('.cell').data().cell;\n      cell.output_area.append_execute_result(NB_LOAD_WARNING)\n    }\n\n  }\n\n  if (root._bokeh_is_loading === 0) {\n    console.debug(\"Bokeh: BokehJS loaded, going straight to plotting\");\n    run_inline_js();\n  } else {\n    load_libs(css_urls, js_urls, function() {\n      console.debug(\"Bokeh: BokehJS plotting callback run at\", now());\n      run_inline_js();\n    });\n  }\n}(window));"
     },
     "metadata": {},
     "output_type": "display_data"
    }
   ],
   "source": [
    "from bokeh.plotting import figure, show, output_notebook\n",
    "output_notebook()"
   ]
  },
  {
   "cell_type": "code",
   "execution_count": 5,
   "metadata": {},
   "outputs": [],
   "source": [
    "import bokeh.models.mappers"
   ]
  },
  {
   "cell_type": "markdown",
   "metadata": {},
   "source": [
    "## CADD annotation"
   ]
  },
  {
   "cell_type": "code",
   "execution_count": null,
   "metadata": {},
   "outputs": [],
   "source": [
    "mt = hl.read_matrix_table('/net/archive/groups/plggneuromol/GTS-analysis/data/GTS-with-pheno.mt')"
   ]
  },
  {
   "cell_type": "code",
   "execution_count": null,
   "metadata": {},
   "outputs": [],
   "source": [
    "cd = hl.import_table('/net/archive/groups/plggneuromol/GTS-analysis/cadd/whole_genome_SNVs.tsv.gz', force_bgz = True, delimiter='\\t', comment='#', \n",
    "                     types = {'f0':'tstr', 'f1':'tint', 'f2':'tstr', 'f3':'tstr', 'f4':'tfloat', 'f5':'tfloat'},\n",
    "                     no_header = True)"
   ]
  },
  {
   "cell_type": "code",
   "execution_count": null,
   "metadata": {},
   "outputs": [],
   "source": [
    "cd = cd.select(variants = hl.parse_variant('chr'+hl.str(cd.f0)+':'+hl.str(cd.f1)+':'+hl.str(cd.f2)+':'+hl.str(cd.f3), reference_genome='GRCh38'),\n",
    "               cadd_score = cd.f5)"
   ]
  },
  {
   "cell_type": "code",
   "execution_count": null,
   "metadata": {},
   "outputs": [],
   "source": [
    "cd = hl.read_table('/net/archive/groups/plggneuromol/GTS-analysis/data/cadd-all.mt')"
   ]
  },
  {
   "cell_type": "code",
   "execution_count": null,
   "metadata": {},
   "outputs": [],
   "source": [
    "contigs = ['chr1',\n",
    " 'chr2',\n",
    " 'chr3',\n",
    " 'chr4',\n",
    " 'chr5',\n",
    " 'chr6',\n",
    " 'chr7',\n",
    " 'chr8',\n",
    " 'chr9',\n",
    " 'chr10',\n",
    " 'chr11',\n",
    " 'chr12',\n",
    " 'chr13',\n",
    " 'chr14',\n",
    " 'chr15',\n",
    " 'chr16',\n",
    " 'chr17',\n",
    " 'chr18',\n",
    " 'chr19',\n",
    " 'chr20',\n",
    " 'chr21',\n",
    " 'chr22']"
   ]
  },
  {
   "cell_type": "code",
   "execution_count": null,
   "metadata": {},
   "outputs": [],
   "source": [
    "for c in contigs:\n",
    "    cd_chr = cd.filter(cd.variants.locus.contig == c)\n",
    "    cd_chr = cd_chr.key_by(cd_chr.variants.locus,cd_chr.variants.alleles)\n",
    "    cd_chr.write('/net/archive/groups/plggneuromol/GTS-analysis/data/cadd-per-chr/'+c+'_cadd.mt')\n",
    "    \n",
    "cd_chr = cd.filter(hl.array(contigs).contains(cd.variants.locus.contig), keep = False)\n",
    "cd_chr = cd_chr.key_by(cd_chr.variants.locus,cd_chr.variants.alleles)\n",
    "cd_chr.write('/net/archive/groups/plggneuromol/GTS-analysis/data/cadd-per-chr/other_chroms_cadd.mt')"
   ]
  },
  {
   "cell_type": "code",
   "execution_count": null,
   "metadata": {},
   "outputs": [],
   "source": [
    "#do the same for mts\n",
    "for c in contigs:\n",
    "    mt_chr = mt.filter_rows(mt.locus.contig == c)\n",
    "    cd = hl.read_table('/net/archive/groups/plggneuromol/GTS-analysis/data/cadd-per-chr/'+c+'_cadd.mt')\n",
    "    \n",
    "    mt_chr = mt_chr.annotate_rows(cadd = cd[mt_chr.row_key])\n",
    "    mt_chr.write('/net/archive/groups/plggneuromol/GTS-analysis/data/mt-annotated-per-chr/'+c+'-anno.mt')"
   ]
  },
  {
   "cell_type": "code",
   "execution_count": null,
   "metadata": {},
   "outputs": [],
   "source": [
    "cd = hl.read_table('/net/archive/groups/plggneuromol/GTS-analysis/data/cadd-per-chr/other_chroms_cadd.mt')\n",
    "\n",
    "mt_chr = mt.filter_rows(hl.array(contigs).contains(mt.locus.contig), keep = False)\n",
    "\n",
    "mt_chr = mt_chr.annotate_rows(cadd =cd[mt_chr.row_key])\n",
    "\n",
    "mt_chr.write('/net/archive/groups/plggneuromol/GTS-analysis/data/mt-annotated-per-chr/other_chroms-anno.mt')"
   ]
  },
  {
   "cell_type": "code",
   "execution_count": null,
   "metadata": {},
   "outputs": [],
   "source": [
    "#now read all the matrices and join\n",
    "mts = !ls /net/archive/groups/plggneuromol/GTS-analysis/data/mt-annotated-per-chr"
   ]
  },
  {
   "cell_type": "code",
   "execution_count": null,
   "metadata": {},
   "outputs": [],
   "source": [
    "mt_chr = []\n",
    "\n",
    "for m in mts:\n",
    "    mt_chr.append(hl.read_matrix_table('/net/archive/groups/plggneuromol/GTS-analysis/data/mt-annotated-per-chr/'+m)) "
   ]
  },
  {
   "cell_type": "code",
   "execution_count": null,
   "metadata": {},
   "outputs": [],
   "source": [
    "mt = hl.MatrixTable.union_rows(*mt_chr)"
   ]
  },
  {
   "cell_type": "code",
   "execution_count": null,
   "metadata": {},
   "outputs": [],
   "source": [
    "mt = mt.transmute_rows(cadd = mt.cadd.cadd_score)"
   ]
  },
  {
   "cell_type": "code",
   "execution_count": null,
   "metadata": {
    "scrolled": true
   },
   "outputs": [],
   "source": [
    "mt.write('/net/archive/groups/plggneuromol/GTS-analysis/data/GTS-pheno-cadd.mt')"
   ]
  },
  {
   "cell_type": "code",
   "execution_count": null,
   "metadata": {},
   "outputs": [],
   "source": [
    "mt = hl.read_matrix_table('/net/archive/groups/plggneuromol/GTS-analysis/data/GTS-pheno-cadd.mt')"
   ]
  },
  {
   "cell_type": "markdown",
   "metadata": {},
   "source": [
    "## join with gnomad"
   ]
  },
  {
   "cell_type": "code",
   "execution_count": null,
   "metadata": {},
   "outputs": [],
   "source": [
    "gd = hl.read_matrix_table('/net/archive/groups/plggneuromol/GTS-analysis/gnomad/gnomad-ready-to-join.ht')"
   ]
  },
  {
   "cell_type": "code",
   "execution_count": null,
   "metadata": {},
   "outputs": [],
   "source": [
    "#adjust column schema:\n",
    "\n",
    "gd = gd.annotate_cols(s = hl.str(hl.str(gd.col_idx)+'gnomad'),\n",
    "                      phenotypes = hl.struct(family = hl.str('gnomad'),\n",
    "                                             sex = hl.str('gnomad'),\n",
    "                                             kinship = hl.str('gnomad'),\n",
    "                                             disease = hl.str('gnomad'),\n",
    "                                             phenotype = hl.str('gnomad'),\n",
    "                                             add_pheno = hl.str('gnomad'),\n",
    "                                             heavy_tics = hl.str('gnomad')))\n",
    "                      "
   ]
  },
  {
   "cell_type": "code",
   "execution_count": null,
   "metadata": {},
   "outputs": [],
   "source": [
    "gd = gd.key_cols_by(gd.s)"
   ]
  },
  {
   "cell_type": "code",
   "execution_count": null,
   "metadata": {
    "scrolled": true
   },
   "outputs": [],
   "source": [
    "gd = gd.drop(gd.col_idx)"
   ]
  },
  {
   "cell_type": "code",
   "execution_count": null,
   "metadata": {},
   "outputs": [],
   "source": [
    "mt = mt.union_cols(gd, row_join_type='outer')"
   ]
  },
  {
   "cell_type": "code",
   "execution_count": null,
   "metadata": {},
   "outputs": [],
   "source": [
    "#filter out any rows that contain only refs:\n",
    "\n",
    "mt = mt.filter_rows(hl.agg.any(mt.GT.is_non_ref()))"
   ]
  },
  {
   "cell_type": "code",
   "execution_count": null,
   "metadata": {},
   "outputs": [],
   "source": [
    "mt.write('/net/archive/groups/plggneuromol/GTS-analysis/data/GTS-gnomad.mt')"
   ]
  },
  {
   "cell_type": "markdown",
   "metadata": {},
   "source": [
    "## annotate mt with nearest_genes_20kb\n",
    "\n"
   ]
  },
  {
   "cell_type": "code",
   "execution_count": 1,
   "metadata": {},
   "outputs": [
    {
     "ename": "NameError",
     "evalue": "name 'hl' is not defined",
     "output_type": "error",
     "traceback": [
      "\u001b[0;31m---------------------------------------------------------------------------\u001b[0m",
      "\u001b[0;31mNameError\u001b[0m                                 Traceback (most recent call last)",
      "\u001b[0;32m<ipython-input-1-77f2ed895191>\u001b[0m in \u001b[0;36m<module>\u001b[0;34m()\u001b[0m\n\u001b[0;32m----> 1\u001b[0;31m \u001b[0mgenes\u001b[0m \u001b[0;34m=\u001b[0m \u001b[0mhl\u001b[0m\u001b[0;34m.\u001b[0m\u001b[0mread_table\u001b[0m\u001b[0;34m(\u001b[0m\u001b[0;34m'/net/archive/groups/plggneuromol/GTS-analysis/analysis/vcf_preprocessing/genecode_v32.ht'\u001b[0m\u001b[0;34m)\u001b[0m\u001b[0;34m\u001b[0m\u001b[0m\n\u001b[0m\u001b[1;32m      2\u001b[0m \u001b[0mgenes\u001b[0m \u001b[0;34m=\u001b[0m \u001b[0mgenes\u001b[0m\u001b[0;34m.\u001b[0m\u001b[0mfilter\u001b[0m\u001b[0;34m(\u001b[0m\u001b[0mhl\u001b[0m\u001b[0;34m.\u001b[0m\u001b[0mis_valid_contig\u001b[0m\u001b[0;34m(\u001b[0m\u001b[0mgenes\u001b[0m\u001b[0;34m[\u001b[0m\u001b[0;34m'hg38.knownGene.chrom'\u001b[0m\u001b[0;34m]\u001b[0m\u001b[0;34m,\u001b[0m \u001b[0mreference_genome\u001b[0m\u001b[0;34m=\u001b[0m\u001b[0;34m'GRCh38'\u001b[0m\u001b[0;34m)\u001b[0m\u001b[0;34m)\u001b[0m\u001b[0;34m\u001b[0m\u001b[0m\n\u001b[1;32m      3\u001b[0m \u001b[0;34m\u001b[0m\u001b[0m\n\u001b[1;32m      4\u001b[0m \u001b[0;34m\u001b[0m\u001b[0m\n\u001b[1;32m      5\u001b[0m \u001b[0mstart\u001b[0m \u001b[0;34m=\u001b[0m \u001b[0mhl\u001b[0m\u001b[0;34m.\u001b[0m\u001b[0mcond\u001b[0m\u001b[0;34m(\u001b[0m\u001b[0mgenes\u001b[0m\u001b[0;34m[\u001b[0m\u001b[0;34m'hg38.knownGene.txStart'\u001b[0m\u001b[0;34m]\u001b[0m \u001b[0;34m<\u001b[0m \u001b[0;36m20000\u001b[0m\u001b[0;34m,\u001b[0m \u001b[0;36m1\u001b[0m\u001b[0;34m,\u001b[0m \u001b[0mgenes\u001b[0m\u001b[0;34m[\u001b[0m\u001b[0;34m'hg38.knownGene.txStart'\u001b[0m\u001b[0;34m]\u001b[0m \u001b[0;34m-\u001b[0m \u001b[0;36m20000\u001b[0m\u001b[0;34m)\u001b[0m\u001b[0;34m\u001b[0m\u001b[0m\n",
      "\u001b[0;31mNameError\u001b[0m: name 'hl' is not defined"
     ]
    }
   ],
   "source": [
    "genes = hl.read_table('/net/archive/groups/plggneuromol/GTS-analysis/analysis/vcf_preprocessing/genecode_v32.ht')\n",
    "genes = genes.filter(hl.is_valid_contig(genes['hg38.knownGene.chrom'], reference_genome='GRCh38'))\n",
    "\n",
    "\n",
    "start = hl.cond(genes['hg38.knownGene.txStart'] < 20000, 1, genes['hg38.knownGene.txStart'] - 20000)\n",
    "stop =  hl.cond(hl.contig_length(genes['hg38.knownGene.chrom'], reference_genome='GRCh38') - genes['hg38.knownGene.txEnd'] < 20000, \n",
    "                hl.contig_length(genes['hg38.knownGene.chrom'], reference_genome='GRCh38'),\n",
    "                genes['hg38.knownGene.txEnd'] + 20000)\n",
    "\n",
    "genes = genes.transmute(interval = \n",
    "                        hl.locus_interval(genes['hg38.knownGene.chrom'], \n",
    "                                          start,\n",
    "                                          stop,\n",
    "                                          reference_genome='GRCh38'))\n",
    "\n",
    "genes = genes.key_by(genes.interval)\n",
    "\n",
    "mt = mt.annotate_rows(nearest_genes_20kb = hl.array(hl.set(genes.index(mt.locus, all_matches=True)['hg38.kgXref.geneSymbol'])))"
   ]
  },
  {
   "cell_type": "markdown",
   "metadata": {},
   "source": [
    "## Make the simulated controls gender equal"
   ]
  },
  {
   "cell_type": "markdown",
   "metadata": {},
   "source": [
    "PAR coordinates in GrCh38: http://m.ensembl.org/info/genome/genebuild/human_PARS.html"
   ]
  },
  {
   "cell_type": "code",
   "execution_count": null,
   "metadata": {},
   "outputs": [],
   "source": [
    "par1 = [10001,2781479]\n",
    "par2 = [155701383,156030895]"
   ]
  },
  {
   "cell_type": "code",
   "execution_count": null,
   "metadata": {},
   "outputs": [],
   "source": [
    "rg = hl.get_reference('GRCh38')"
   ]
  },
  {
   "cell_type": "code",
   "execution_count": null,
   "metadata": {},
   "outputs": [],
   "source": [
    "rg.lengths['chrX']"
   ]
  },
  {
   "cell_type": "code",
   "execution_count": null,
   "metadata": {},
   "outputs": [],
   "source": [
    "nonpars = [[1,10000],[2781480,155701382]]"
   ]
  },
  {
   "cell_type": "markdown",
   "metadata": {},
   "source": [
    "### first see sex distribution in our samples"
   ]
  },
  {
   "cell_type": "code",
   "execution_count": null,
   "metadata": {},
   "outputs": [],
   "source": [
    "samples = mt.s.collect()"
   ]
  },
  {
   "cell_type": "code",
   "execution_count": null,
   "metadata": {},
   "outputs": [],
   "source": [
    "gnomad_females = samples[185:(185+70)] "
   ]
  },
  {
   "cell_type": "code",
   "execution_count": null,
   "metadata": {},
   "outputs": [],
   "source": [
    "gnomads_males = samples[(185+70):]"
   ]
  },
  {
   "cell_type": "code",
   "execution_count": null,
   "metadata": {},
   "outputs": [],
   "source": [
    "mt = mt.transmute_cols(phenotypes = mt.phenotypes.annotate(sex = hl.cond(mt.s.contains('gnomad'),\n",
    "                                                      hl.cond(hl.array(gnomad_females).contains(mt.s),\n",
    "                                                            'F', 'M'),\n",
    "                                                      mt.phenotypes['sex'])))"
   ]
  },
  {
   "cell_type": "code",
   "execution_count": null,
   "metadata": {},
   "outputs": [],
   "source": [
    "mt.aggregate_cols(hl.agg.counter(mt.phenotypes['sex']))"
   ]
  },
  {
   "cell_type": "code",
   "execution_count": null,
   "metadata": {},
   "outputs": [],
   "source": [
    "mt = mt.annotate_entries(GT = hl.cond(\n",
    "                         mt.locus.contig == 'chrX',\n",
    "                         hl.cond(\n",
    "                            mt.phenotypes['sex'] == 'F',\n",
    "                            mt.GT,\n",
    "                            hl.cond(\n",
    "                                mt.locus.position > nonpars[1][1], \n",
    "                                mt.GT,\n",
    "                                hl.cond(\n",
    "                                    mt.locus.position < nonpars[0][1],\n",
    "                                    hl.cond(\n",
    "                                        mt.locus.position > nonpars[0][0],\n",
    "                                        mt.GT,\n",
    "                                        hl.call(mt.GT[0], mt.GT[0])),\n",
    "                                    hl.call(mt.GT[0], mt.GT[0])))),\n",
    "                         mt.GT))     "
   ]
  },
  {
   "cell_type": "code",
   "execution_count": null,
   "metadata": {},
   "outputs": [],
   "source": [
    "#mt.write('/net/archive/groups/plggneuromol/GTS-analysis/data/GTS-gnomad-sex.mt')"
   ]
  },
  {
   "cell_type": "markdown",
   "metadata": {},
   "source": [
    "prepare matrix tables"
   ]
  },
  {
   "cell_type": "code",
   "execution_count": null,
   "metadata": {},
   "outputs": [],
   "source": [
    "mt = hl.read_matrix_table('/net/archive/groups/plggneuromol/GTS-analysis/data/GTS-gnomad-sex.mt')"
   ]
  },
  {
   "cell_type": "code",
   "execution_count": null,
   "metadata": {},
   "outputs": [],
   "source": [
    "mt = mt.filter_rows(mt.cadd > 0) # this is so I don't do too many tests"
   ]
  },
  {
   "cell_type": "code",
   "execution_count": null,
   "metadata": {},
   "outputs": [],
   "source": [
    "mt_subset = mt.sample_rows(0.002)"
   ]
  },
  {
   "cell_type": "code",
   "execution_count": null,
   "metadata": {},
   "outputs": [],
   "source": [
    "mt.count()"
   ]
  },
  {
   "cell_type": "code",
   "execution_count": null,
   "metadata": {},
   "outputs": [],
   "source": [
    "mt_subset.count()"
   ]
  },
  {
   "cell_type": "code",
   "execution_count": null,
   "metadata": {},
   "outputs": [],
   "source": [
    "mt = mt.annotate_cols(category = hl.cond(mt.s.contains('gnomad'), False, (mt.phenotypes.disease == 'YES')))\n",
    "mt_subset = mt_subset.annotate_cols(category = hl.cond(mt_subset.s.contains('gnomad'), False, (mt_subset.phenotypes.disease == 'YES')))\n",
    "\n",
    "mt = mt.filter_cols((mt.s.contains('gnomad')) | ((mt.phenotypes.family =='.') & (mt.phenotypes.disease =='YES')))\n",
    "mt_subset = mt_subset.filter_cols((mt_subset.s.contains('gnomad')) | ((mt_subset.phenotypes.family =='.') & (mt_subset.phenotypes.disease =='YES')))\n",
    "samples = mt.s.collect()\n",
    "\n",
    "#first 70 gnomad samples are females\n",
    "\n",
    "to_keep = samples[0:44] + samples[110:144]\n",
    "mt = mt.filter_cols(hl.array(to_keep).contains(mt.s)) # filter out excessive gnomads\n",
    "mt_subset = mt_subset.filter_cols(hl.array(to_keep).contains(mt_subset.s))"
   ]
  },
  {
   "cell_type": "code",
   "execution_count": null,
   "metadata": {},
   "outputs": [],
   "source": [
    "mt_test = hl.read_matrix_table('/net/archive/groups/plggneuromol/GTS-analysis/data/GTS-gnomad-sex.mt')\n",
    "mt_test = mt_test.filter_rows(mt_test.cadd > 0) \n",
    "mt_test = mt_test.annotate_cols(category = hl.cond(mt_test.s.contains('gnomad'), False, (mt_test.phenotypes.disease == 'YES')))\n",
    "mt_test = mt_test.filter_cols(mt_test.phenotypes.family == '.', keep = False)\n",
    "mt_test = mt_test.filter_cols((mt_test.phenotypes.disease == 'YES') | (mt_test.phenotypes.disease == 'NO'))"
   ]
  },
  {
   "cell_type": "code",
   "execution_count": null,
   "metadata": {},
   "outputs": [],
   "source": [
    "# generate new alternative data subsets:\n",
    "mt = hl.read_matrix_table('/net/archive/groups/plggneuromol/GTS-analysis/data/mt-for-skat.mt')\n",
    "\n",
    "\n",
    "mt_subset_2 = mt.sample_rows(0.002)\n",
    "mt_subset_2.write('/net/archive/groups/plggneuromol/GTS-analysis/data/mt-subset-2.mt')"
   ]
  },
  {
   "cell_type": "code",
   "execution_count": 7,
   "metadata": {},
   "outputs": [
    {
     "name": "stderr",
     "output_type": "stream",
     "text": [
      "2020-10-29 11:20:54 Hail: INFO: wrote matrix table with 12721 rows and 78 columns in 6622 partitions to /net/archive/groups/plggneuromol/GTS-analysis/data/mt-subset-3.mt\n"
     ]
    }
   ],
   "source": [
    "mt_subset_3 = mt.sample_rows(0.002)\n",
    "mt_subset_3.write('/net/archive/groups/plggneuromol/GTS-analysis/data/mt-subset-3.mt')"
   ]
  },
  {
   "cell_type": "code",
   "execution_count": null,
   "metadata": {},
   "outputs": [],
   "source": [
    "mt.write('/net/archive/groups/plggneuromol/GTS-analysis/data/mt-for-skat.mt')\n",
    "mt_subset.write('/net/archive/groups/plggneuromol/GTS-analysis/data/mt-subset.mt')\n",
    "mt_test.write('/net/archive/groups/plggneuromol/GTS-analysis/data/mt-test.mt')"
   ]
  },
  {
   "cell_type": "markdown",
   "metadata": {},
   "source": [
    "### Perform PCA on subseted genotypes:"
   ]
  },
  {
   "cell_type": "code",
   "execution_count": 6,
   "metadata": {},
   "outputs": [],
   "source": [
    "# this matrix table has 39 gnomads that we need for PCA, but lacks normal samples\n",
    "mt_gnomads = hl.read_matrix_table('/net/archive/groups/plggneuromol/GTS-analysis/data/mt-for-skat.mt')\n",
    "\n",
    "#this matrix table has all the samples but too many gnomads\n",
    "mt = hl.read_matrix_table('/net/archive/groups/plggneuromol/GTS-analysis/data/GTS-gnomad-sex.mt')"
   ]
  },
  {
   "cell_type": "code",
   "execution_count": 7,
   "metadata": {},
   "outputs": [],
   "source": [
    "gnomads = mt_gnomads.s.collect()"
   ]
  },
  {
   "cell_type": "code",
   "execution_count": 8,
   "metadata": {},
   "outputs": [],
   "source": [
    "gnomads = gnomads[39:]"
   ]
  },
  {
   "cell_type": "code",
   "execution_count": 9,
   "metadata": {},
   "outputs": [],
   "source": [
    "samples = mt.s.collect()"
   ]
  },
  {
   "cell_type": "code",
   "execution_count": 10,
   "metadata": {},
   "outputs": [],
   "source": [
    "samples = samples[0:185]"
   ]
  },
  {
   "cell_type": "code",
   "execution_count": 11,
   "metadata": {},
   "outputs": [],
   "source": [
    "to_keep = gnomads + samples"
   ]
  },
  {
   "cell_type": "code",
   "execution_count": 12,
   "metadata": {},
   "outputs": [],
   "source": [
    "mt = mt.filter_cols(hl.array(to_keep).contains(mt.s))"
   ]
  },
  {
   "cell_type": "code",
   "execution_count": 13,
   "metadata": {},
   "outputs": [
    {
     "data": {
      "text/plain": [
       "(11825581, 224)"
      ]
     },
     "execution_count": 13,
     "metadata": {},
     "output_type": "execute_result"
    }
   ],
   "source": [
    "mt.count()"
   ]
  },
  {
   "cell_type": "markdown",
   "metadata": {},
   "source": [
    "Remove excesive GnomADs (we only need 39, the same samples go into the SKAT test)"
   ]
  },
  {
   "cell_type": "code",
   "execution_count": 14,
   "metadata": {},
   "outputs": [],
   "source": [
    "subset = mt.sample_rows(0.001)"
   ]
  },
  {
   "cell_type": "code",
   "execution_count": 15,
   "metadata": {},
   "outputs": [
    {
     "data": {
      "text/plain": [
       "(11940, 224)"
      ]
     },
     "execution_count": 15,
     "metadata": {},
     "output_type": "execute_result"
    }
   ],
   "source": [
    "subset.count()"
   ]
  },
  {
   "cell_type": "code",
   "execution_count": 16,
   "metadata": {},
   "outputs": [
    {
     "name": "stderr",
     "output_type": "stream",
     "text": [
      "2021-02-14 18:43:10 Hail: INFO: wrote matrix table with 11940 rows and 224 columns in 6622 partitions to /net/archive/groups/plggneuromol/GTS-analysis/data/subset.mt\n"
     ]
    }
   ],
   "source": [
    "subset.write('/net/archive/groups/plggneuromol/GTS-analysis/data/subset.mt')"
   ]
  },
  {
   "cell_type": "code",
   "execution_count": 17,
   "metadata": {},
   "outputs": [],
   "source": [
    "subset = hl.read_matrix_table('/net/archive/groups/plggneuromol/GTS-analysis/data/subset.mt')"
   ]
  },
  {
   "cell_type": "code",
   "execution_count": 18,
   "metadata": {},
   "outputs": [
    {
     "name": "stderr",
     "output_type": "stream",
     "text": [
      "2021-02-14 18:43:25 Hail: INFO: hwe_normalized_pca: running PCA using 9154 variants.\n",
      "2021-02-14 18:43:39 Hail: INFO: pca: running PCA with 10 components...\n"
     ]
    }
   ],
   "source": [
    "eigenvalues, pcs, _ = hl.hwe_normalized_pca(subset.GT)"
   ]
  },
  {
   "cell_type": "code",
   "execution_count": 19,
   "metadata": {},
   "outputs": [],
   "source": [
    "mt = mt.annotate_cols(scores = pcs[mt.s].scores)"
   ]
  },
  {
   "cell_type": "code",
   "execution_count": 20,
   "metadata": {},
   "outputs": [
    {
     "name": "stderr",
     "output_type": "stream",
     "text": [
      "2021-02-14 19:14:22 Hail: INFO: wrote matrix table with 11825581 rows and 224 columns in 6622 partitions to /net/archive/groups/plggneuromol/GTS-analysis/data/pca.mt\n"
     ]
    }
   ],
   "source": [
    "mt.write('/net/archive/groups/plggneuromol/GTS-analysis/data/pca.mt')"
   ]
  },
  {
   "cell_type": "code",
   "execution_count": 6,
   "metadata": {},
   "outputs": [],
   "source": [
    "mt = hl.read_matrix_table('/net/archive/groups/plggneuromol/GTS-analysis/data/pca.mt')"
   ]
  },
  {
   "cell_type": "code",
   "execution_count": 7,
   "metadata": {},
   "outputs": [],
   "source": [
    "import bokeh.palettes\n",
    "from bokeh.models import CategoricalColorMapper\n",
    "\n",
    "colors = bokeh.palettes.plasma(26*8)"
   ]
  },
  {
   "cell_type": "code",
   "execution_count": 9,
   "metadata": {},
   "outputs": [],
   "source": [
    "del colors[1::2] #run this 3times to remove every second color\n",
    "del colors[1::2]\n",
    "del colors[1::2]"
   ]
  },
  {
   "cell_type": "code",
   "execution_count": 10,
   "metadata": {},
   "outputs": [
    {
     "data": {
      "text/plain": [
       "26"
      ]
     },
     "execution_count": 10,
     "metadata": {},
     "output_type": "execute_result"
    }
   ],
   "source": [
    "len(colors)"
   ]
  },
  {
   "cell_type": "code",
   "execution_count": 18,
   "metadata": {},
   "outputs": [],
   "source": [
    "p = hl.plot.scatter(mt.scores[6],\n",
    "                    mt.scores[7],\n",
    "                    label=(mt.phenotypes.family),\n",
    "                    title='PCA', xlabel='PC7', ylabel='PC8',\n",
    "                    colors = CategoricalColorMapper(palette=colors, factors=list(set(mt.phenotypes.family.collect()))))\n",
    "\n",
    "p.xaxis.axis_label_text_font_size = \"15pt\"\n",
    "p.xaxis.major_label_text_font_size = \"15pt\"\n",
    "p.yaxis.axis_label_text_font_size = \"15pt\"\n",
    "p.yaxis.major_label_text_font_size = \"15pt\""
   ]
  },
  {
   "cell_type": "code",
   "execution_count": 19,
   "metadata": {},
   "outputs": [
    {
     "data": {
      "text/html": [
       "\n",
       "\n",
       "\n",
       "\n",
       "\n",
       "\n",
       "  <div class=\"bk-root\" id=\"05df2648-378d-4c13-ab7b-2f93c30b4ccc\" data-root-id=\"2132\"></div>\n"
      ]
     },
     "metadata": {},
     "output_type": "display_data"
    },
    {
     "data": {
      "application/javascript": [
       "(function(root) {\n",
       "  function embed_document(root) {\n",
       "    \n",
       "  var docs_json = {\"944d3223-ec65-443a-aa0f-a199544984d3\":{\"roots\":{\"references\":[{\"attributes\":{\"below\":[{\"id\":\"2143\",\"type\":\"LinearAxis\"}],\"center\":[{\"id\":\"2147\",\"type\":\"Grid\"},{\"id\":\"2152\",\"type\":\"Grid\"}],\"left\":[{\"id\":\"2148\",\"type\":\"LinearAxis\"},{\"id\":\"2351\",\"type\":\"Legend\"},{\"id\":\"2352\",\"type\":\"ColorBar\"}],\"plot_height\":800,\"plot_width\":800,\"renderers\":[{\"id\":\"2174\",\"type\":\"GlyphRenderer\"},{\"id\":\"2180\",\"type\":\"GlyphRenderer\"},{\"id\":\"2186\",\"type\":\"GlyphRenderer\"},{\"id\":\"2192\",\"type\":\"GlyphRenderer\"},{\"id\":\"2198\",\"type\":\"GlyphRenderer\"},{\"id\":\"2204\",\"type\":\"GlyphRenderer\"},{\"id\":\"2210\",\"type\":\"GlyphRenderer\"},{\"id\":\"2216\",\"type\":\"GlyphRenderer\"},{\"id\":\"2222\",\"type\":\"GlyphRenderer\"},{\"id\":\"2228\",\"type\":\"GlyphRenderer\"},{\"id\":\"2234\",\"type\":\"GlyphRenderer\"},{\"id\":\"2240\",\"type\":\"GlyphRenderer\"},{\"id\":\"2246\",\"type\":\"GlyphRenderer\"},{\"id\":\"2252\",\"type\":\"GlyphRenderer\"},{\"id\":\"2258\",\"type\":\"GlyphRenderer\"},{\"id\":\"2264\",\"type\":\"GlyphRenderer\"},{\"id\":\"2270\",\"type\":\"GlyphRenderer\"},{\"id\":\"2276\",\"type\":\"GlyphRenderer\"},{\"id\":\"2282\",\"type\":\"GlyphRenderer\"},{\"id\":\"2288\",\"type\":\"GlyphRenderer\"},{\"id\":\"2294\",\"type\":\"GlyphRenderer\"},{\"id\":\"2300\",\"type\":\"GlyphRenderer\"},{\"id\":\"2306\",\"type\":\"GlyphRenderer\"},{\"id\":\"2312\",\"type\":\"GlyphRenderer\"},{\"id\":\"2318\",\"type\":\"GlyphRenderer\"},{\"id\":\"2324\",\"type\":\"GlyphRenderer\"}],\"title\":{\"id\":\"2133\",\"type\":\"Title\"},\"toolbar\":{\"id\":\"2159\",\"type\":\"Toolbar\"},\"x_range\":{\"id\":\"2135\",\"type\":\"DataRange1d\"},\"x_scale\":{\"id\":\"2139\",\"type\":\"LinearScale\"},\"y_range\":{\"id\":\"2137\",\"type\":\"DataRange1d\"},\"y_scale\":{\"id\":\"2141\",\"type\":\"LinearScale\"}},\"id\":\"2132\",\"subtype\":\"Figure\",\"type\":\"Plot\"},{\"attributes\":{\"column_name\":\"label\",\"group\":\"K\"},\"id\":\"2235\",\"type\":\"GroupFilter\"},{\"attributes\":{\"column_name\":\"label\",\"group\":\"R\"},\"id\":\"2271\",\"type\":\"GroupFilter\"},{\"attributes\":{\"text\":\"PCA\"},\"id\":\"2133\",\"type\":\"Title\"},{\"attributes\":{\"fill_color\":{\"field\":\"label\",\"transform\":{\"id\":\"2131\",\"type\":\"CategoricalColorMapper\"}},\"line_color\":{\"field\":\"label\",\"transform\":{\"id\":\"2131\",\"type\":\"CategoricalColorMapper\"}},\"x\":{\"field\":\"x\"},\"y\":{\"field\":\"y\"}},\"id\":\"2238\",\"type\":\"Circle\"},{\"attributes\":{\"filters\":[{\"id\":\"2271\",\"type\":\"GroupFilter\"}],\"source\":{\"id\":\"2168\",\"type\":\"ColumnDataSource\"}},\"id\":\"2272\",\"type\":\"CDSView\"},{\"attributes\":{\"label\":{\"value\":\"L\"},\"renderers\":[{\"id\":\"2246\",\"type\":\"GlyphRenderer\"}]},\"id\":\"2337\",\"type\":\"LegendItem\"},{\"attributes\":{\"filters\":[{\"id\":\"2235\",\"type\":\"GroupFilter\"}],\"source\":{\"id\":\"2168\",\"type\":\"ColumnDataSource\"}},\"id\":\"2236\",\"type\":\"CDSView\"},{\"attributes\":{\"fill_color\":{\"field\":\"label\",\"transform\":{\"id\":\"2131\",\"type\":\"CategoricalColorMapper\"}},\"line_color\":{\"field\":\"label\",\"transform\":{\"id\":\"2131\",\"type\":\"CategoricalColorMapper\"}},\"x\":{\"field\":\"x\"},\"y\":{\"field\":\"y\"}},\"id\":\"2316\",\"type\":\"Circle\"},{\"attributes\":{\"filters\":[{\"id\":\"2169\",\"type\":\"GroupFilter\"}],\"source\":{\"id\":\"2168\",\"type\":\"ColumnDataSource\"}},\"id\":\"2170\",\"type\":\"CDSView\"},{\"attributes\":{\"fill_color\":{\"field\":\"label\",\"transform\":{\"id\":\"2131\",\"type\":\"CategoricalColorMapper\"}},\"line_color\":{\"field\":\"label\",\"transform\":{\"id\":\"2131\",\"type\":\"CategoricalColorMapper\"}},\"x\":{\"field\":\"x\"},\"y\":{\"field\":\"y\"}},\"id\":\"2274\",\"type\":\"Circle\"},{\"attributes\":{\"column_name\":\"label\",\"group\":\"Y\"},\"id\":\"2307\",\"type\":\"GroupFilter\"},{\"attributes\":{\"data_source\":{\"id\":\"2168\",\"type\":\"ColumnDataSource\"},\"glyph\":{\"id\":\"2220\",\"type\":\"Circle\"},\"hover_glyph\":null,\"muted_glyph\":null,\"nonselection_glyph\":{\"id\":\"2221\",\"type\":\"Circle\"},\"selection_glyph\":null,\"view\":{\"id\":\"2218\",\"type\":\"CDSView\"}},\"id\":\"2222\",\"type\":\"GlyphRenderer\"},{\"attributes\":{\"fill_alpha\":{\"value\":0.1},\"fill_color\":{\"value\":\"#1f77b4\"},\"line_alpha\":{\"value\":0.1},\"line_color\":{\"value\":\"#1f77b4\"},\"x\":{\"field\":\"x\"},\"y\":{\"field\":\"y\"}},\"id\":\"2275\",\"type\":\"Circle\"},{\"attributes\":{\"data_source\":{\"id\":\"2168\",\"type\":\"ColumnDataSource\"},\"glyph\":{\"id\":\"2274\",\"type\":\"Circle\"},\"hover_glyph\":null,\"muted_glyph\":null,\"nonselection_glyph\":{\"id\":\"2275\",\"type\":\"Circle\"},\"selection_glyph\":null,\"view\":{\"id\":\"2272\",\"type\":\"CDSView\"}},\"id\":\"2276\",\"type\":\"GlyphRenderer\"},{\"attributes\":{\"data_source\":{\"id\":\"2168\",\"type\":\"ColumnDataSource\"},\"glyph\":{\"id\":\"2304\",\"type\":\"Circle\"},\"hover_glyph\":null,\"muted_glyph\":null,\"nonselection_glyph\":{\"id\":\"2305\",\"type\":\"Circle\"},\"selection_glyph\":null,\"view\":{\"id\":\"2302\",\"type\":\"CDSView\"}},\"id\":\"2306\",\"type\":\"GlyphRenderer\"},{\"attributes\":{\"column_name\":\"label\",\"group\":\"L\"},\"id\":\"2241\",\"type\":\"GroupFilter\"},{\"attributes\":{\"column_name\":\"label\",\"group\":\"S\"},\"id\":\"2277\",\"type\":\"GroupFilter\"},{\"attributes\":{\"data_source\":{\"id\":\"2168\",\"type\":\"ColumnDataSource\"},\"glyph\":{\"id\":\"2238\",\"type\":\"Circle\"},\"hover_glyph\":null,\"muted_glyph\":null,\"nonselection_glyph\":{\"id\":\"2239\",\"type\":\"Circle\"},\"selection_glyph\":null,\"view\":{\"id\":\"2236\",\"type\":\"CDSView\"}},\"id\":\"2240\",\"type\":\"GlyphRenderer\"},{\"attributes\":{\"filters\":[{\"id\":\"2277\",\"type\":\"GroupFilter\"}],\"source\":{\"id\":\"2168\",\"type\":\"ColumnDataSource\"}},\"id\":\"2278\",\"type\":\"CDSView\"},{\"attributes\":{\"fill_alpha\":{\"value\":0.1},\"fill_color\":{\"value\":\"#1f77b4\"},\"line_alpha\":{\"value\":0.1},\"line_color\":{\"value\":\"#1f77b4\"},\"x\":{\"field\":\"x\"},\"y\":{\"field\":\"y\"}},\"id\":\"2239\",\"type\":\"Circle\"},{\"attributes\":{\"label\":{\"value\":\"F\"},\"renderers\":[{\"id\":\"2210\",\"type\":\"GlyphRenderer\"}]},\"id\":\"2331\",\"type\":\"LegendItem\"},{\"attributes\":{},\"id\":\"2387\",\"type\":\"BasicTickFormatter\"},{\"attributes\":{\"filters\":[{\"id\":\"2247\",\"type\":\"GroupFilter\"}],\"source\":{\"id\":\"2168\",\"type\":\"ColumnDataSource\"}},\"id\":\"2248\",\"type\":\"CDSView\"},{\"attributes\":{\"label\":{\"value\":\"E\"},\"renderers\":[{\"id\":\"2204\",\"type\":\"GlyphRenderer\"}]},\"id\":\"2330\",\"type\":\"LegendItem\"},{\"attributes\":{\"fill_color\":{\"field\":\"label\",\"transform\":{\"id\":\"2131\",\"type\":\"CategoricalColorMapper\"}},\"line_color\":{\"field\":\"label\",\"transform\":{\"id\":\"2131\",\"type\":\"CategoricalColorMapper\"}},\"x\":{\"field\":\"x\"},\"y\":{\"field\":\"y\"}},\"id\":\"2280\",\"type\":\"Circle\"},{\"attributes\":{\"filters\":[{\"id\":\"2241\",\"type\":\"GroupFilter\"}],\"source\":{\"id\":\"2168\",\"type\":\"ColumnDataSource\"}},\"id\":\"2242\",\"type\":\"CDSView\"},{\"attributes\":{\"fill_alpha\":{\"value\":0.1},\"fill_color\":{\"value\":\"#1f77b4\"},\"line_alpha\":{\"value\":0.1},\"line_color\":{\"value\":\"#1f77b4\"},\"x\":{\"field\":\"x\"},\"y\":{\"field\":\"y\"}},\"id\":\"2281\",\"type\":\"Circle\"},{\"attributes\":{\"fill_alpha\":{\"value\":0.1},\"fill_color\":{\"value\":\"#1f77b4\"},\"line_alpha\":{\"value\":0.1},\"line_color\":{\"value\":\"#1f77b4\"},\"x\":{\"field\":\"x\"},\"y\":{\"field\":\"y\"}},\"id\":\"2245\",\"type\":\"Circle\"},{\"attributes\":{\"data_source\":{\"id\":\"2168\",\"type\":\"ColumnDataSource\"},\"glyph\":{\"id\":\"2280\",\"type\":\"Circle\"},\"hover_glyph\":null,\"muted_glyph\":null,\"nonselection_glyph\":{\"id\":\"2281\",\"type\":\"Circle\"},\"selection_glyph\":null,\"view\":{\"id\":\"2278\",\"type\":\"CDSView\"}},\"id\":\"2282\",\"type\":\"GlyphRenderer\"},{\"attributes\":{},\"id\":\"2386\",\"type\":\"BasicTicker\"},{\"attributes\":{\"fill_color\":{\"field\":\"label\",\"transform\":{\"id\":\"2131\",\"type\":\"CategoricalColorMapper\"}},\"line_color\":{\"field\":\"label\",\"transform\":{\"id\":\"2131\",\"type\":\"CategoricalColorMapper\"}},\"x\":{\"field\":\"x\"},\"y\":{\"field\":\"y\"}},\"id\":\"2244\",\"type\":\"Circle\"},{\"attributes\":{\"column_name\":\"label\",\"group\":\"M\"},\"id\":\"2247\",\"type\":\"GroupFilter\"},{\"attributes\":{\"column_name\":\"label\",\"group\":\"T\"},\"id\":\"2283\",\"type\":\"GroupFilter\"},{\"attributes\":{\"data_source\":{\"id\":\"2168\",\"type\":\"ColumnDataSource\"},\"glyph\":{\"id\":\"2244\",\"type\":\"Circle\"},\"hover_glyph\":null,\"muted_glyph\":null,\"nonselection_glyph\":{\"id\":\"2245\",\"type\":\"Circle\"},\"selection_glyph\":null,\"view\":{\"id\":\"2242\",\"type\":\"CDSView\"}},\"id\":\"2246\",\"type\":\"GlyphRenderer\"},{\"attributes\":{\"filters\":[{\"id\":\"2283\",\"type\":\"GroupFilter\"}],\"source\":{\"id\":\"2168\",\"type\":\"ColumnDataSource\"}},\"id\":\"2284\",\"type\":\"CDSView\"},{\"attributes\":{},\"id\":\"2390\",\"type\":\"UnionRenderers\"},{\"attributes\":{\"fill_color\":{\"field\":\"label\",\"transform\":{\"id\":\"2131\",\"type\":\"CategoricalColorMapper\"}},\"line_color\":{\"field\":\"label\",\"transform\":{\"id\":\"2131\",\"type\":\"CategoricalColorMapper\"}},\"x\":{\"field\":\"x\"},\"y\":{\"field\":\"y\"}},\"id\":\"2250\",\"type\":\"Circle\"},{\"attributes\":{},\"id\":\"2389\",\"type\":\"BasicTickFormatter\"},{\"attributes\":{\"fill_alpha\":{\"value\":0.1},\"fill_color\":{\"value\":\"#1f77b4\"},\"line_alpha\":{\"value\":0.1},\"line_color\":{\"value\":\"#1f77b4\"},\"x\":{\"field\":\"x\"},\"y\":{\"field\":\"y\"}},\"id\":\"2305\",\"type\":\"Circle\"},{\"attributes\":{\"filters\":[{\"id\":\"2313\",\"type\":\"GroupFilter\"}],\"source\":{\"id\":\"2168\",\"type\":\"ColumnDataSource\"}},\"id\":\"2314\",\"type\":\"CDSView\"},{\"attributes\":{\"fill_color\":{\"field\":\"label\",\"transform\":{\"id\":\"2131\",\"type\":\"CategoricalColorMapper\"}},\"line_color\":{\"field\":\"label\",\"transform\":{\"id\":\"2131\",\"type\":\"CategoricalColorMapper\"}},\"x\":{\"field\":\"x\"},\"y\":{\"field\":\"y\"}},\"id\":\"2286\",\"type\":\"Circle\"},{\"attributes\":{\"filters\":[{\"id\":\"2253\",\"type\":\"GroupFilter\"}],\"source\":{\"id\":\"2168\",\"type\":\"ColumnDataSource\"}},\"id\":\"2254\",\"type\":\"CDSView\"},{\"attributes\":{\"fill_color\":{\"field\":\"label\",\"transform\":{\"id\":\"2131\",\"type\":\"CategoricalColorMapper\"}},\"line_color\":{\"field\":\"label\",\"transform\":{\"id\":\"2131\",\"type\":\"CategoricalColorMapper\"}},\"x\":{\"field\":\"x\"},\"y\":{\"field\":\"y\"}},\"id\":\"2262\",\"type\":\"Circle\"},{\"attributes\":{\"fill_alpha\":{\"value\":0.1},\"fill_color\":{\"value\":\"#1f77b4\"},\"line_alpha\":{\"value\":0.1},\"line_color\":{\"value\":\"#1f77b4\"},\"x\":{\"field\":\"x\"},\"y\":{\"field\":\"y\"}},\"id\":\"2287\",\"type\":\"Circle\"},{\"attributes\":{\"data_source\":{\"id\":\"2168\",\"type\":\"ColumnDataSource\"},\"glyph\":{\"id\":\"2250\",\"type\":\"Circle\"},\"hover_glyph\":null,\"muted_glyph\":null,\"nonselection_glyph\":{\"id\":\"2251\",\"type\":\"Circle\"},\"selection_glyph\":null,\"view\":{\"id\":\"2248\",\"type\":\"CDSView\"}},\"id\":\"2252\",\"type\":\"GlyphRenderer\"},{\"attributes\":{\"data_source\":{\"id\":\"2168\",\"type\":\"ColumnDataSource\"},\"glyph\":{\"id\":\"2286\",\"type\":\"Circle\"},\"hover_glyph\":null,\"muted_glyph\":null,\"nonselection_glyph\":{\"id\":\"2287\",\"type\":\"Circle\"},\"selection_glyph\":null,\"view\":{\"id\":\"2284\",\"type\":\"CDSView\"}},\"id\":\"2288\",\"type\":\"GlyphRenderer\"},{\"attributes\":{\"column_name\":\"label\",\"group\":\"N\"},\"id\":\"2253\",\"type\":\"GroupFilter\"},{\"attributes\":{\"column_name\":\"label\",\"group\":\"U\"},\"id\":\"2289\",\"type\":\"GroupFilter\"},{\"attributes\":{\"label\":{\"value\":\"D\"},\"renderers\":[{\"id\":\"2198\",\"type\":\"GlyphRenderer\"}]},\"id\":\"2329\",\"type\":\"LegendItem\"},{\"attributes\":{\"filters\":[{\"id\":\"2289\",\"type\":\"GroupFilter\"}],\"source\":{\"id\":\"2168\",\"type\":\"ColumnDataSource\"}},\"id\":\"2290\",\"type\":\"CDSView\"},{\"attributes\":{\"label\":{\"value\":\"I\"},\"renderers\":[{\"id\":\"2228\",\"type\":\"GlyphRenderer\"}]},\"id\":\"2334\",\"type\":\"LegendItem\"},{\"attributes\":{\"fill_alpha\":{\"value\":0.1},\"fill_color\":{\"value\":\"#1f77b4\"},\"line_alpha\":{\"value\":0.1},\"line_color\":{\"value\":\"#1f77b4\"},\"x\":{\"field\":\"x\"},\"y\":{\"field\":\"y\"}},\"id\":\"2251\",\"type\":\"Circle\"},{\"attributes\":{\"label\":{\"value\":\"G\"},\"renderers\":[{\"id\":\"2216\",\"type\":\"GlyphRenderer\"}]},\"id\":\"2332\",\"type\":\"LegendItem\"},{\"attributes\":{\"column_name\":\"label\",\"group\":\"Z\"},\"id\":\"2313\",\"type\":\"GroupFilter\"},{\"attributes\":{\"label\":{\"value\":\"J\"},\"renderers\":[{\"id\":\"2234\",\"type\":\"GlyphRenderer\"}]},\"id\":\"2335\",\"type\":\"LegendItem\"},{\"attributes\":{\"fill_color\":{\"field\":\"label\",\"transform\":{\"id\":\"2131\",\"type\":\"CategoricalColorMapper\"}},\"line_color\":{\"field\":\"label\",\"transform\":{\"id\":\"2131\",\"type\":\"CategoricalColorMapper\"}},\"x\":{\"field\":\"x\"},\"y\":{\"field\":\"y\"}},\"id\":\"2256\",\"type\":\"Circle\"},{\"attributes\":{\"fill_color\":{\"field\":\"label\",\"transform\":{\"id\":\"2131\",\"type\":\"CategoricalColorMapper\"}},\"line_color\":{\"field\":\"label\",\"transform\":{\"id\":\"2131\",\"type\":\"CategoricalColorMapper\"}},\"x\":{\"field\":\"x\"},\"y\":{\"field\":\"y\"}},\"id\":\"2292\",\"type\":\"Circle\"},{\"attributes\":{\"label\":{\"value\":\"H\"},\"renderers\":[{\"id\":\"2222\",\"type\":\"GlyphRenderer\"}]},\"id\":\"2333\",\"type\":\"LegendItem\"},{\"attributes\":{\"fill_alpha\":{\"value\":0.1},\"fill_color\":{\"value\":\"#1f77b4\"},\"line_alpha\":{\"value\":0.1},\"line_color\":{\"value\":\"#1f77b4\"},\"x\":{\"field\":\"x\"},\"y\":{\"field\":\"y\"}},\"id\":\"2293\",\"type\":\"Circle\"},{\"attributes\":{\"fill_color\":{\"field\":\"label\",\"transform\":{\"id\":\"2131\",\"type\":\"CategoricalColorMapper\"}},\"line_color\":{\"field\":\"label\",\"transform\":{\"id\":\"2131\",\"type\":\"CategoricalColorMapper\"}},\"x\":{\"field\":\"x\"},\"y\":{\"field\":\"y\"}},\"id\":\"2304\",\"type\":\"Circle\"},{\"attributes\":{\"data_source\":{\"id\":\"2168\",\"type\":\"ColumnDataSource\"},\"glyph\":{\"id\":\"2256\",\"type\":\"Circle\"},\"hover_glyph\":null,\"muted_glyph\":null,\"nonselection_glyph\":{\"id\":\"2257\",\"type\":\"Circle\"},\"selection_glyph\":null,\"view\":{\"id\":\"2254\",\"type\":\"CDSView\"}},\"id\":\"2258\",\"type\":\"GlyphRenderer\"},{\"attributes\":{\"data_source\":{\"id\":\"2168\",\"type\":\"ColumnDataSource\"},\"glyph\":{\"id\":\"2292\",\"type\":\"Circle\"},\"hover_glyph\":null,\"muted_glyph\":null,\"nonselection_glyph\":{\"id\":\"2293\",\"type\":\"Circle\"},\"selection_glyph\":null,\"view\":{\"id\":\"2290\",\"type\":\"CDSView\"}},\"id\":\"2294\",\"type\":\"GlyphRenderer\"},{\"attributes\":{\"label\":{\"value\":\"C\"},\"renderers\":[{\"id\":\"2192\",\"type\":\"GlyphRenderer\"}]},\"id\":\"2328\",\"type\":\"LegendItem\"},{\"attributes\":{\"fill_alpha\":{\"value\":0.1},\"fill_color\":{\"value\":\"#1f77b4\"},\"line_alpha\":{\"value\":0.1},\"line_color\":{\"value\":\"#1f77b4\"},\"x\":{\"field\":\"x\"},\"y\":{\"field\":\"y\"}},\"id\":\"2257\",\"type\":\"Circle\"},{\"attributes\":{\"column_name\":\"label\",\"group\":\"W\"},\"id\":\"2295\",\"type\":\"GroupFilter\"},{\"attributes\":{\"filters\":[{\"id\":\"2265\",\"type\":\"GroupFilter\"}],\"source\":{\"id\":\"2168\",\"type\":\"ColumnDataSource\"}},\"id\":\"2266\",\"type\":\"CDSView\"},{\"attributes\":{\"filters\":[{\"id\":\"2295\",\"type\":\"GroupFilter\"}],\"source\":{\"id\":\"2168\",\"type\":\"ColumnDataSource\"}},\"id\":\"2296\",\"type\":\"CDSView\"},{\"attributes\":{},\"id\":\"2391\",\"type\":\"Selection\"},{\"attributes\":{\"data_source\":{\"id\":\"2168\",\"type\":\"ColumnDataSource\"},\"glyph\":{\"id\":\"2310\",\"type\":\"Circle\"},\"hover_glyph\":null,\"muted_glyph\":null,\"nonselection_glyph\":{\"id\":\"2311\",\"type\":\"Circle\"},\"selection_glyph\":null,\"view\":{\"id\":\"2308\",\"type\":\"CDSView\"}},\"id\":\"2312\",\"type\":\"GlyphRenderer\"},{\"attributes\":{\"filters\":[{\"id\":\"2259\",\"type\":\"GroupFilter\"}],\"source\":{\"id\":\"2168\",\"type\":\"ColumnDataSource\"}},\"id\":\"2260\",\"type\":\"CDSView\"},{\"attributes\":{\"data_source\":{\"id\":\"2168\",\"type\":\"ColumnDataSource\"},\"glyph\":{\"id\":\"2172\",\"type\":\"Circle\"},\"hover_glyph\":null,\"muted_glyph\":null,\"nonselection_glyph\":{\"id\":\"2173\",\"type\":\"Circle\"},\"selection_glyph\":null,\"view\":{\"id\":\"2170\",\"type\":\"CDSView\"}},\"id\":\"2174\",\"type\":\"GlyphRenderer\"},{\"attributes\":{\"fill_color\":{\"field\":\"label\",\"transform\":{\"id\":\"2131\",\"type\":\"CategoricalColorMapper\"}},\"line_color\":{\"field\":\"label\",\"transform\":{\"id\":\"2131\",\"type\":\"CategoricalColorMapper\"}},\"x\":{\"field\":\"x\"},\"y\":{\"field\":\"y\"}},\"id\":\"2298\",\"type\":\"Circle\"},{\"attributes\":{\"column_name\":\"label\",\"group\":\"O\"},\"id\":\"2259\",\"type\":\"GroupFilter\"},{\"attributes\":{\"fill_alpha\":{\"value\":0.1},\"fill_color\":{\"value\":\"#1f77b4\"},\"line_alpha\":{\"value\":0.1},\"line_color\":{\"value\":\"#1f77b4\"},\"x\":{\"field\":\"x\"},\"y\":{\"field\":\"y\"}},\"id\":\"2299\",\"type\":\"Circle\"},{\"attributes\":{\"column_name\":\"label\",\"group\":\"P\"},\"id\":\"2265\",\"type\":\"GroupFilter\"},{\"attributes\":{\"data_source\":{\"id\":\"2168\",\"type\":\"ColumnDataSource\"},\"glyph\":{\"id\":\"2298\",\"type\":\"Circle\"},\"hover_glyph\":null,\"muted_glyph\":null,\"nonselection_glyph\":{\"id\":\"2299\",\"type\":\"Circle\"},\"selection_glyph\":null,\"view\":{\"id\":\"2296\",\"type\":\"CDSView\"}},\"id\":\"2300\",\"type\":\"GlyphRenderer\"},{\"attributes\":{\"column_name\":\"label\",\"group\":\".\"},\"id\":\"2169\",\"type\":\"GroupFilter\"},{\"attributes\":{\"label\":{\"value\":\"K\"},\"renderers\":[{\"id\":\"2240\",\"type\":\"GlyphRenderer\"}]},\"id\":\"2336\",\"type\":\"LegendItem\"},{\"attributes\":{\"callback\":null},\"id\":\"2137\",\"type\":\"DataRange1d\"},{\"attributes\":{\"fill_color\":{\"field\":\"label\",\"transform\":{\"id\":\"2131\",\"type\":\"CategoricalColorMapper\"}},\"line_color\":{\"field\":\"label\",\"transform\":{\"id\":\"2131\",\"type\":\"CategoricalColorMapper\"}},\"x\":{\"field\":\"x\"},\"y\":{\"field\":\"y\"}},\"id\":\"2172\",\"type\":\"Circle\"},{\"attributes\":{\"fill_color\":{\"field\":\"label\",\"transform\":{\"id\":\"2131\",\"type\":\"CategoricalColorMapper\"}},\"line_color\":{\"field\":\"label\",\"transform\":{\"id\":\"2131\",\"type\":\"CategoricalColorMapper\"}},\"x\":{\"field\":\"x\"},\"y\":{\"field\":\"y\"}},\"id\":\"2268\",\"type\":\"Circle\"},{\"attributes\":{\"data_source\":{\"id\":\"2168\",\"type\":\"ColumnDataSource\"},\"glyph\":{\"id\":\"2262\",\"type\":\"Circle\"},\"hover_glyph\":null,\"muted_glyph\":null,\"nonselection_glyph\":{\"id\":\"2263\",\"type\":\"Circle\"},\"selection_glyph\":null,\"view\":{\"id\":\"2260\",\"type\":\"CDSView\"}},\"id\":\"2264\",\"type\":\"GlyphRenderer\"},{\"attributes\":{\"fill_alpha\":{\"value\":0.1},\"fill_color\":{\"value\":\"#1f77b4\"},\"line_alpha\":{\"value\":0.1},\"line_color\":{\"value\":\"#1f77b4\"},\"x\":{\"field\":\"x\"},\"y\":{\"field\":\"y\"}},\"id\":\"2173\",\"type\":\"Circle\"},{\"attributes\":{\"column_name\":\"label\",\"group\":\"X\"},\"id\":\"2301\",\"type\":\"GroupFilter\"},{\"attributes\":{},\"id\":\"2385\",\"type\":\"BasicTickFormatter\"},{\"attributes\":{\"fill_alpha\":{\"value\":0.1},\"fill_color\":{\"value\":\"#1f77b4\"},\"line_alpha\":{\"value\":0.1},\"line_color\":{\"value\":\"#1f77b4\"},\"x\":{\"field\":\"x\"},\"y\":{\"field\":\"y\"}},\"id\":\"2311\",\"type\":\"Circle\"},{\"attributes\":{\"fill_alpha\":{\"value\":0.1},\"fill_color\":{\"value\":\"#1f77b4\"},\"line_alpha\":{\"value\":0.1},\"line_color\":{\"value\":\"#1f77b4\"},\"x\":{\"field\":\"x\"},\"y\":{\"field\":\"y\"}},\"id\":\"2263\",\"type\":\"Circle\"},{\"attributes\":{\"label\":{\"value\":\"B\"},\"renderers\":[{\"id\":\"2186\",\"type\":\"GlyphRenderer\"}]},\"id\":\"2327\",\"type\":\"LegendItem\"},{\"attributes\":{\"fill_alpha\":{\"value\":0.1},\"fill_color\":{\"value\":\"#1f77b4\"},\"line_alpha\":{\"value\":0.1},\"line_color\":{\"value\":\"#1f77b4\"},\"x\":{\"field\":\"x\"},\"y\":{\"field\":\"y\"}},\"id\":\"2317\",\"type\":\"Circle\"},{\"attributes\":{\"factors\":[\"P\",\"W\",\"D\",\"O\",\"Y\",\"N\",\"G\",\"I\",\"F\",\"gnomad\",\"T\",\"X\",\"L\",\".\",\"C\",\"S\",\"Z\",\"A\",\"B\",\"M\",\"E\",\"U\",\"K\",\"H\",\"R\",\"J\"],\"palette\":[\"#0C0786\",\"#230590\",\"#360498\",\"#47029F\",\"#5701A4\",\"#6700A7\",\"#7601A8\",\"#8405A6\",\"#920FA2\",\"#9F1A9B\",\"#AC2593\",\"#B7308A\",\"#C13C80\",\"#CB4777\",\"#D3516F\",\"#DC5D66\",\"#E3685E\",\"#EA7455\",\"#F0814D\",\"#F68E44\",\"#FA9C3B\",\"#FCA934\",\"#FDB82C\",\"#FCC726\",\"#FAD824\",\"#F5E926\"]},\"id\":\"2131\",\"type\":\"CategoricalColorMapper\"},{\"attributes\":{\"fill_alpha\":{\"value\":0.1},\"fill_color\":{\"value\":\"#1f77b4\"},\"line_alpha\":{\"value\":0.1},\"line_color\":{\"value\":\"#1f77b4\"},\"x\":{\"field\":\"x\"},\"y\":{\"field\":\"y\"}},\"id\":\"2269\",\"type\":\"Circle\"},{\"attributes\":{\"data_source\":{\"id\":\"2168\",\"type\":\"ColumnDataSource\"},\"glyph\":{\"id\":\"2316\",\"type\":\"Circle\"},\"hover_glyph\":null,\"muted_glyph\":null,\"nonselection_glyph\":{\"id\":\"2317\",\"type\":\"Circle\"},\"selection_glyph\":null,\"view\":{\"id\":\"2314\",\"type\":\"CDSView\"}},\"id\":\"2318\",\"type\":\"GlyphRenderer\"},{\"attributes\":{\"data_source\":{\"id\":\"2168\",\"type\":\"ColumnDataSource\"},\"glyph\":{\"id\":\"2268\",\"type\":\"Circle\"},\"hover_glyph\":null,\"muted_glyph\":null,\"nonselection_glyph\":{\"id\":\"2269\",\"type\":\"Circle\"},\"selection_glyph\":null,\"view\":{\"id\":\"2266\",\"type\":\"CDSView\"}},\"id\":\"2270\",\"type\":\"GlyphRenderer\"},{\"attributes\":{\"callback\":null},\"id\":\"2135\",\"type\":\"DataRange1d\"},{\"attributes\":{\"label\":{\"value\":\"A\"},\"renderers\":[{\"id\":\"2180\",\"type\":\"GlyphRenderer\"}]},\"id\":\"2326\",\"type\":\"LegendItem\"},{\"attributes\":{\"label\":{\"value\":\".\"},\"renderers\":[{\"id\":\"2174\",\"type\":\"GlyphRenderer\"}]},\"id\":\"2325\",\"type\":\"LegendItem\"},{\"attributes\":{\"column_name\":\"label\",\"group\":\"gnomad\"},\"id\":\"2319\",\"type\":\"GroupFilter\"},{\"attributes\":{\"filters\":[{\"id\":\"2301\",\"type\":\"GroupFilter\"}],\"source\":{\"id\":\"2168\",\"type\":\"ColumnDataSource\"}},\"id\":\"2302\",\"type\":\"CDSView\"},{\"attributes\":{\"filters\":[{\"id\":\"2319\",\"type\":\"GroupFilter\"}],\"source\":{\"id\":\"2168\",\"type\":\"ColumnDataSource\"}},\"id\":\"2320\",\"type\":\"CDSView\"},{\"attributes\":{},\"id\":\"2149\",\"type\":\"BasicTicker\"},{\"attributes\":{\"fill_alpha\":{\"value\":0.1},\"fill_color\":{\"value\":\"#1f77b4\"},\"line_alpha\":{\"value\":0.1},\"line_color\":{\"value\":\"#1f77b4\"},\"x\":{\"field\":\"x\"},\"y\":{\"field\":\"y\"}},\"id\":\"2179\",\"type\":\"Circle\"},{\"attributes\":{\"data_source\":{\"id\":\"2168\",\"type\":\"ColumnDataSource\"},\"glyph\":{\"id\":\"2178\",\"type\":\"Circle\"},\"hover_glyph\":null,\"muted_glyph\":null,\"nonselection_glyph\":{\"id\":\"2179\",\"type\":\"Circle\"},\"selection_glyph\":null,\"view\":{\"id\":\"2176\",\"type\":\"CDSView\"}},\"id\":\"2180\",\"type\":\"GlyphRenderer\"},{\"attributes\":{\"fill_alpha\":{\"value\":0.1},\"fill_color\":{\"value\":\"#1f77b4\"},\"line_alpha\":{\"value\":0.1},\"line_color\":{\"value\":\"#1f77b4\"},\"x\":{\"field\":\"x\"},\"y\":{\"field\":\"y\"}},\"id\":\"2191\",\"type\":\"Circle\"},{\"attributes\":{\"data_source\":{\"id\":\"2168\",\"type\":\"ColumnDataSource\"},\"glyph\":{\"id\":\"2190\",\"type\":\"Circle\"},\"hover_glyph\":null,\"muted_glyph\":null,\"nonselection_glyph\":{\"id\":\"2191\",\"type\":\"Circle\"},\"selection_glyph\":null,\"view\":{\"id\":\"2188\",\"type\":\"CDSView\"}},\"id\":\"2192\",\"type\":\"GlyphRenderer\"},{\"attributes\":{},\"id\":\"2144\",\"type\":\"BasicTicker\"},{\"attributes\":{\"fill_color\":{\"field\":\"label\",\"transform\":{\"id\":\"2131\",\"type\":\"CategoricalColorMapper\"}},\"line_color\":{\"field\":\"label\",\"transform\":{\"id\":\"2131\",\"type\":\"CategoricalColorMapper\"}},\"x\":{\"field\":\"x\"},\"y\":{\"field\":\"y\"}},\"id\":\"2322\",\"type\":\"Circle\"},{\"attributes\":{\"fill_alpha\":{\"value\":0.1},\"fill_color\":{\"value\":\"#1f77b4\"},\"line_alpha\":{\"value\":0.1},\"line_color\":{\"value\":\"#1f77b4\"},\"x\":{\"field\":\"x\"},\"y\":{\"field\":\"y\"}},\"id\":\"2323\",\"type\":\"Circle\"},{\"attributes\":{\"column_name\":\"label\",\"group\":\"D\"},\"id\":\"2193\",\"type\":\"GroupFilter\"},{\"attributes\":{},\"id\":\"2153\",\"type\":\"PanTool\"},{\"attributes\":{\"data_source\":{\"id\":\"2168\",\"type\":\"ColumnDataSource\"},\"glyph\":{\"id\":\"2322\",\"type\":\"Circle\"},\"hover_glyph\":null,\"muted_glyph\":null,\"nonselection_glyph\":{\"id\":\"2323\",\"type\":\"Circle\"},\"selection_glyph\":null,\"view\":{\"id\":\"2320\",\"type\":\"CDSView\"}},\"id\":\"2324\",\"type\":\"GlyphRenderer\"},{\"attributes\":{\"filters\":[{\"id\":\"2193\",\"type\":\"GroupFilter\"}],\"source\":{\"id\":\"2168\",\"type\":\"ColumnDataSource\"}},\"id\":\"2194\",\"type\":\"CDSView\"},{\"attributes\":{\"label\":{\"value\":\"M\"},\"renderers\":[{\"id\":\"2252\",\"type\":\"GlyphRenderer\"}]},\"id\":\"2338\",\"type\":\"LegendItem\"},{\"attributes\":{\"active_drag\":\"auto\",\"active_inspect\":\"auto\",\"active_multi\":null,\"active_scroll\":\"auto\",\"active_tap\":\"auto\",\"tools\":[{\"id\":\"2153\",\"type\":\"PanTool\"},{\"id\":\"2154\",\"type\":\"WheelZoomTool\"},{\"id\":\"2155\",\"type\":\"BoxZoomTool\"},{\"id\":\"2156\",\"type\":\"SaveTool\"},{\"id\":\"2157\",\"type\":\"ResetTool\"},{\"id\":\"2158\",\"type\":\"HelpTool\"},{\"id\":\"2167\",\"type\":\"HoverTool\"}]},\"id\":\"2159\",\"type\":\"Toolbar\"},{\"attributes\":{\"fill_alpha\":{\"value\":0.1},\"fill_color\":{\"value\":\"#1f77b4\"},\"line_alpha\":{\"value\":0.1},\"line_color\":{\"value\":\"#1f77b4\"},\"x\":{\"field\":\"x\"},\"y\":{\"field\":\"y\"}},\"id\":\"2227\",\"type\":\"Circle\"},{\"attributes\":{\"label\":{\"value\":\"N\"},\"renderers\":[{\"id\":\"2258\",\"type\":\"GlyphRenderer\"}]},\"id\":\"2339\",\"type\":\"LegendItem\"},{\"attributes\":{\"fill_color\":{\"field\":\"label\",\"transform\":{\"id\":\"2131\",\"type\":\"CategoricalColorMapper\"}},\"line_color\":{\"field\":\"label\",\"transform\":{\"id\":\"2131\",\"type\":\"CategoricalColorMapper\"}},\"x\":{\"field\":\"x\"},\"y\":{\"field\":\"y\"}},\"id\":\"2196\",\"type\":\"Circle\"},{\"attributes\":{},\"id\":\"2154\",\"type\":\"WheelZoomTool\"},{\"attributes\":{\"label\":{\"value\":\"O\"},\"renderers\":[{\"id\":\"2264\",\"type\":\"GlyphRenderer\"}]},\"id\":\"2340\",\"type\":\"LegendItem\"},{\"attributes\":{\"fill_alpha\":{\"value\":0.1},\"fill_color\":{\"value\":\"#1f77b4\"},\"line_alpha\":{\"value\":0.1},\"line_color\":{\"value\":\"#1f77b4\"},\"x\":{\"field\":\"x\"},\"y\":{\"field\":\"y\"}},\"id\":\"2197\",\"type\":\"Circle\"},{\"attributes\":{},\"id\":\"2156\",\"type\":\"SaveTool\"},{\"attributes\":{\"data_source\":{\"id\":\"2168\",\"type\":\"ColumnDataSource\"},\"glyph\":{\"id\":\"2196\",\"type\":\"Circle\"},\"hover_glyph\":null,\"muted_glyph\":null,\"nonselection_glyph\":{\"id\":\"2197\",\"type\":\"Circle\"},\"selection_glyph\":null,\"view\":{\"id\":\"2194\",\"type\":\"CDSView\"}},\"id\":\"2198\",\"type\":\"GlyphRenderer\"},{\"attributes\":{\"label\":{\"value\":\"P\"},\"renderers\":[{\"id\":\"2270\",\"type\":\"GlyphRenderer\"}]},\"id\":\"2341\",\"type\":\"LegendItem\"},{\"attributes\":{\"overlay\":{\"id\":\"2392\",\"type\":\"BoxAnnotation\"}},\"id\":\"2155\",\"type\":\"BoxZoomTool\"},{\"attributes\":{\"callback\":null,\"tooltips\":[[\"x\",\"@x\"],[\"y\",\"@y\"],[\"label\",\"@label\"]]},\"id\":\"2167\",\"type\":\"HoverTool\"},{\"attributes\":{\"label\":{\"value\":\"R\"},\"renderers\":[{\"id\":\"2276\",\"type\":\"GlyphRenderer\"}]},\"id\":\"2342\",\"type\":\"LegendItem\"},{\"attributes\":{\"fill_color\":{\"field\":\"label\",\"transform\":{\"id\":\"2131\",\"type\":\"CategoricalColorMapper\"}},\"line_color\":{\"field\":\"label\",\"transform\":{\"id\":\"2131\",\"type\":\"CategoricalColorMapper\"}},\"x\":{\"field\":\"x\"},\"y\":{\"field\":\"y\"}},\"id\":\"2310\",\"type\":\"Circle\"},{\"attributes\":{\"column_name\":\"label\",\"group\":\"E\"},\"id\":\"2199\",\"type\":\"GroupFilter\"},{\"attributes\":{\"label\":{\"value\":\"S\"},\"renderers\":[{\"id\":\"2282\",\"type\":\"GlyphRenderer\"}]},\"id\":\"2343\",\"type\":\"LegendItem\"},{\"attributes\":{\"filters\":[{\"id\":\"2199\",\"type\":\"GroupFilter\"}],\"source\":{\"id\":\"2168\",\"type\":\"ColumnDataSource\"}},\"id\":\"2200\",\"type\":\"CDSView\"},{\"attributes\":{},\"id\":\"2158\",\"type\":\"HelpTool\"},{\"attributes\":{\"label\":{\"value\":\"T\"},\"renderers\":[{\"id\":\"2288\",\"type\":\"GlyphRenderer\"}]},\"id\":\"2344\",\"type\":\"LegendItem\"},{\"attributes\":{\"filters\":[{\"id\":\"2187\",\"type\":\"GroupFilter\"}],\"source\":{\"id\":\"2168\",\"type\":\"ColumnDataSource\"}},\"id\":\"2188\",\"type\":\"CDSView\"},{\"attributes\":{},\"id\":\"2157\",\"type\":\"ResetTool\"},{\"attributes\":{\"fill_color\":{\"field\":\"label\",\"transform\":{\"id\":\"2131\",\"type\":\"CategoricalColorMapper\"}},\"line_color\":{\"field\":\"label\",\"transform\":{\"id\":\"2131\",\"type\":\"CategoricalColorMapper\"}},\"x\":{\"field\":\"x\"},\"y\":{\"field\":\"y\"}},\"id\":\"2226\",\"type\":\"Circle\"},{\"attributes\":{\"column_name\":\"label\",\"group\":\"C\"},\"id\":\"2187\",\"type\":\"GroupFilter\"},{\"attributes\":{\"label\":{\"value\":\"U\"},\"renderers\":[{\"id\":\"2294\",\"type\":\"GlyphRenderer\"}]},\"id\":\"2345\",\"type\":\"LegendItem\"},{\"attributes\":{\"fill_color\":{\"field\":\"label\",\"transform\":{\"id\":\"2131\",\"type\":\"CategoricalColorMapper\"}},\"line_color\":{\"field\":\"label\",\"transform\":{\"id\":\"2131\",\"type\":\"CategoricalColorMapper\"}},\"x\":{\"field\":\"x\"},\"y\":{\"field\":\"y\"}},\"id\":\"2202\",\"type\":\"Circle\"},{\"attributes\":{\"callback\":null,\"data\":{\"index\":[0,1,2,3,4,5,6,7,8,9,10,11,12,13,14,15,16,17,18,19,20,21,22,23,24,25,26,27,28,29,30,31,32,33,34,35,36,37,38,39,40,41,42,43,44,45,46,47,48,49,50,51,52,53,54,55,56,57,58,59,60,61,62,63,64,65,66,67,68,69,70,71,72,73,74,75,76,77,78,79,80,81,82,83,84,85,86,87,88,89,90,91,92,93,94,95,96,97,98,99,100,101,102,103,104,105,106,107,108,109,110,111,112,113,114,115,116,117,118,119,120,121,122,123,124,125,126,127,128,129,130,131,132,133,134,135,136,137,138,139,140,141,142,143,144,145,146,147,148,149,150,151,152,153,154,155,156,157,158,159,160,161,162,163,164,165,166,167,168,169,170,171,172,173,174,175,176,177,178,179,180,181,182,183,184,185,186,187,188,189,190,191,192,193,194,195,196,197,198,199,200,201,202,203,204,205,206,207,208,209,210,211,212,213,214],\"label\":[\"D\",\"D\",\"D\",\"D\",\"D\",\"D\",\"D\",\"S\",\"X\",\"X\",\"X\",\"T\",\"T\",\"T\",\"T\",\"S\",\"T\",\"S\",\"S\",\"S\",\"T\",\"S\",\"X\",\"R\",\"E\",\"T\",\"R\",\"R\",\"E\",\"Z\",\"R\",\"T\",\"E\",\"E\",\".\",\".\",\"R\",\"E\",\"gnomad\",\"Z\",\"T\",\"F\",\"gnomad\",\"E\",\".\",\"gnomad\",\"F\",\"X\",\".\",\"gnomad\",\"J\",\"U\",\".\",\"gnomad\",\"gnomad\",\"E\",\"H\",\".\",\".\",\"gnomad\",\"U\",\"N\",\"gnomad\",\"gnomad\",\"gnomad\",\"J\",\".\",\"gnomad\",\".\",\"L\",\".\",\"gnomad\",\".\",\"F\",\".\",\"gnomad\",\"gnomad\",\".\",\"H\",\".\",\"Y\",\"L\",\"W\",\"O\",\".\",\"gnomad\",\"gnomad\",\"O\",\"U\",\"gnomad\",\"H\",\"H\",\"gnomad\",\"gnomad\",\"gnomad\",\"gnomad\",\".\",\"Y\",\"gnomad\",\".\",\"gnomad\",\"gnomad\",\"Z\",\"gnomad\",\"W\",\"J\",\"gnomad\",\"gnomad\",\".\",\"W\",\"F\",\"gnomad\",\"B\",\".\",\"R\",\"W\",\"C\",\".\",\".\",\"H\",\"F\",\"gnomad\",\"C\",\"I\",\"U\",\"M\",\"L\",\".\",\"gnomad\",\"F\",\".\",\"gnomad\",\"Y\",\"W\",\".\",\"B\",\"gnomad\",\"gnomad\",\"gnomad\",\"gnomad\",\"U\",\"gnomad\",\".\",\".\",\".\",\"F\",\"F\",\"F\",\"Y\",\"K\",\"H\",\"Y\",\"Y\",\".\",\"F\",\".\",\"W\",\"W\",\"I\",\"N\",\"gnomad\",\"F\",\"N\",\"W\",\"B\",\".\",\"W\",\".\",\"B\",\"W\",\".\",\"B\",\".\",\"Y\",\".\",\"I\",\"Y\",\"W\",\"W\",\"W\",\".\",\"I\",\"M\",\".\",\"K\",\".\",\".\",\"I\",\"I\",\"B\",\"K\",\"M\",\"G\",\"B\",\"C\",\"C\",\"G\",\"G\",\"G\",\"A\",\"A\",\"A\",\"A\",\"A\",\"C\",\"A\",\"A\",\"C\",\"C\",\"C\",\"C\",\"P\",\"P\",\"P\",\"P\"],\"x\":{\"__ndarray__\":\"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\",\"dtype\":\"float64\",\"shape\":[215]},\"y\":{\"__ndarray__\":\"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\",\"dtype\":\"float64\",\"shape\":[215]}},\"selected\":{\"id\":\"2391\",\"type\":\"Selection\"},\"selection_policy\":{\"id\":\"2390\",\"type\":\"UnionRenderers\"}},\"id\":\"2168\",\"type\":\"ColumnDataSource\"},{\"attributes\":{},\"id\":\"2139\",\"type\":\"LinearScale\"},{\"attributes\":{\"label\":{\"value\":\"W\"},\"renderers\":[{\"id\":\"2300\",\"type\":\"GlyphRenderer\"}]},\"id\":\"2346\",\"type\":\"LegendItem\"},{\"attributes\":{\"fill_alpha\":{\"value\":0.1},\"fill_color\":{\"value\":\"#1f77b4\"},\"line_alpha\":{\"value\":0.1},\"line_color\":{\"value\":\"#1f77b4\"},\"x\":{\"field\":\"x\"},\"y\":{\"field\":\"y\"}},\"id\":\"2203\",\"type\":\"Circle\"},{\"attributes\":{\"ticker\":{\"id\":\"2144\",\"type\":\"BasicTicker\"}},\"id\":\"2147\",\"type\":\"Grid\"},{\"attributes\":{\"data_source\":{\"id\":\"2168\",\"type\":\"ColumnDataSource\"},\"glyph\":{\"id\":\"2202\",\"type\":\"Circle\"},\"hover_glyph\":null,\"muted_glyph\":null,\"nonselection_glyph\":{\"id\":\"2203\",\"type\":\"Circle\"},\"selection_glyph\":null,\"view\":{\"id\":\"2200\",\"type\":\"CDSView\"}},\"id\":\"2204\",\"type\":\"GlyphRenderer\"},{\"attributes\":{\"label\":{\"value\":\"X\"},\"renderers\":[{\"id\":\"2306\",\"type\":\"GlyphRenderer\"}]},\"id\":\"2347\",\"type\":\"LegendItem\"},{\"attributes\":{\"data_source\":{\"id\":\"2168\",\"type\":\"ColumnDataSource\"},\"glyph\":{\"id\":\"2184\",\"type\":\"Circle\"},\"hover_glyph\":null,\"muted_glyph\":null,\"nonselection_glyph\":{\"id\":\"2185\",\"type\":\"Circle\"},\"selection_glyph\":null,\"view\":{\"id\":\"2182\",\"type\":\"CDSView\"}},\"id\":\"2186\",\"type\":\"GlyphRenderer\"},{\"attributes\":{\"label\":{\"value\":\"Y\"},\"renderers\":[{\"id\":\"2312\",\"type\":\"GlyphRenderer\"}]},\"id\":\"2348\",\"type\":\"LegendItem\"},{\"attributes\":{\"column_name\":\"label\",\"group\":\"A\"},\"id\":\"2175\",\"type\":\"GroupFilter\"},{\"attributes\":{\"column_name\":\"label\",\"group\":\"F\"},\"id\":\"2205\",\"type\":\"GroupFilter\"},{\"attributes\":{\"axis_label\":\"PC7\",\"axis_label_text_font_size\":{\"value\":\"15pt\"},\"formatter\":{\"id\":\"2389\",\"type\":\"BasicTickFormatter\"},\"major_label_text_font_size\":{\"value\":\"15pt\"},\"ticker\":{\"id\":\"2144\",\"type\":\"BasicTicker\"}},\"id\":\"2143\",\"type\":\"LinearAxis\"},{\"attributes\":{\"label\":{\"value\":\"Z\"},\"renderers\":[{\"id\":\"2318\",\"type\":\"GlyphRenderer\"}]},\"id\":\"2349\",\"type\":\"LegendItem\"},{\"attributes\":{\"filters\":[{\"id\":\"2205\",\"type\":\"GroupFilter\"}],\"source\":{\"id\":\"2168\",\"type\":\"ColumnDataSource\"}},\"id\":\"2206\",\"type\":\"CDSView\"},{\"attributes\":{\"axis_label\":\"PC8\",\"axis_label_text_font_size\":{\"value\":\"15pt\"},\"formatter\":{\"id\":\"2385\",\"type\":\"BasicTickFormatter\"},\"major_label_text_font_size\":{\"value\":\"15pt\"},\"ticker\":{\"id\":\"2149\",\"type\":\"BasicTicker\"}},\"id\":\"2148\",\"type\":\"LinearAxis\"},{\"attributes\":{\"label\":{\"value\":\"gnomad\"},\"renderers\":[{\"id\":\"2324\",\"type\":\"GlyphRenderer\"}]},\"id\":\"2350\",\"type\":\"LegendItem\"},{\"attributes\":{\"dimension\":1,\"ticker\":{\"id\":\"2149\",\"type\":\"BasicTicker\"}},\"id\":\"2152\",\"type\":\"Grid\"},{\"attributes\":{\"click_policy\":\"hide\",\"items\":[{\"id\":\"2325\",\"type\":\"LegendItem\"},{\"id\":\"2326\",\"type\":\"LegendItem\"},{\"id\":\"2327\",\"type\":\"LegendItem\"},{\"id\":\"2328\",\"type\":\"LegendItem\"},{\"id\":\"2329\",\"type\":\"LegendItem\"},{\"id\":\"2330\",\"type\":\"LegendItem\"},{\"id\":\"2331\",\"type\":\"LegendItem\"},{\"id\":\"2332\",\"type\":\"LegendItem\"},{\"id\":\"2333\",\"type\":\"LegendItem\"},{\"id\":\"2334\",\"type\":\"LegendItem\"},{\"id\":\"2335\",\"type\":\"LegendItem\"},{\"id\":\"2336\",\"type\":\"LegendItem\"},{\"id\":\"2337\",\"type\":\"LegendItem\"},{\"id\":\"2338\",\"type\":\"LegendItem\"},{\"id\":\"2339\",\"type\":\"LegendItem\"},{\"id\":\"2340\",\"type\":\"LegendItem\"},{\"id\":\"2341\",\"type\":\"LegendItem\"},{\"id\":\"2342\",\"type\":\"LegendItem\"},{\"id\":\"2343\",\"type\":\"LegendItem\"},{\"id\":\"2344\",\"type\":\"LegendItem\"},{\"id\":\"2345\",\"type\":\"LegendItem\"},{\"id\":\"2346\",\"type\":\"LegendItem\"},{\"id\":\"2347\",\"type\":\"LegendItem\"},{\"id\":\"2348\",\"type\":\"LegendItem\"},{\"id\":\"2349\",\"type\":\"LegendItem\"},{\"id\":\"2350\",\"type\":\"LegendItem\"}]},\"id\":\"2351\",\"type\":\"Legend\"},{\"attributes\":{\"fill_color\":{\"field\":\"label\",\"transform\":{\"id\":\"2131\",\"type\":\"CategoricalColorMapper\"}},\"line_color\":{\"field\":\"label\",\"transform\":{\"id\":\"2131\",\"type\":\"CategoricalColorMapper\"}},\"x\":{\"field\":\"x\"},\"y\":{\"field\":\"y\"}},\"id\":\"2208\",\"type\":\"Circle\"},{\"attributes\":{\"color_mapper\":null,\"formatter\":{\"id\":\"2387\",\"type\":\"BasicTickFormatter\"},\"ticker\":{\"id\":\"2386\",\"type\":\"BasicTicker\"},\"visible\":false},\"id\":\"2352\",\"type\":\"ColorBar\"},{\"attributes\":{},\"id\":\"2141\",\"type\":\"LinearScale\"},{\"attributes\":{\"fill_alpha\":{\"value\":0.1},\"fill_color\":{\"value\":\"#1f77b4\"},\"line_alpha\":{\"value\":0.1},\"line_color\":{\"value\":\"#1f77b4\"},\"x\":{\"field\":\"x\"},\"y\":{\"field\":\"y\"}},\"id\":\"2209\",\"type\":\"Circle\"},{\"attributes\":{\"data_source\":{\"id\":\"2168\",\"type\":\"ColumnDataSource\"},\"glyph\":{\"id\":\"2208\",\"type\":\"Circle\"},\"hover_glyph\":null,\"muted_glyph\":null,\"nonselection_glyph\":{\"id\":\"2209\",\"type\":\"Circle\"},\"selection_glyph\":null,\"view\":{\"id\":\"2206\",\"type\":\"CDSView\"}},\"id\":\"2210\",\"type\":\"GlyphRenderer\"},{\"attributes\":{\"column_name\":\"label\",\"group\":\"G\"},\"id\":\"2211\",\"type\":\"GroupFilter\"},{\"attributes\":{\"filters\":[{\"id\":\"2211\",\"type\":\"GroupFilter\"}],\"source\":{\"id\":\"2168\",\"type\":\"ColumnDataSource\"}},\"id\":\"2212\",\"type\":\"CDSView\"},{\"attributes\":{\"filters\":[{\"id\":\"2223\",\"type\":\"GroupFilter\"}],\"source\":{\"id\":\"2168\",\"type\":\"ColumnDataSource\"}},\"id\":\"2224\",\"type\":\"CDSView\"},{\"attributes\":{\"fill_color\":{\"field\":\"label\",\"transform\":{\"id\":\"2131\",\"type\":\"CategoricalColorMapper\"}},\"line_color\":{\"field\":\"label\",\"transform\":{\"id\":\"2131\",\"type\":\"CategoricalColorMapper\"}},\"x\":{\"field\":\"x\"},\"y\":{\"field\":\"y\"}},\"id\":\"2214\",\"type\":\"Circle\"},{\"attributes\":{\"filters\":[{\"id\":\"2175\",\"type\":\"GroupFilter\"}],\"source\":{\"id\":\"2168\",\"type\":\"ColumnDataSource\"}},\"id\":\"2176\",\"type\":\"CDSView\"},{\"attributes\":{\"fill_alpha\":{\"value\":0.1},\"fill_color\":{\"value\":\"#1f77b4\"},\"line_alpha\":{\"value\":0.1},\"line_color\":{\"value\":\"#1f77b4\"},\"x\":{\"field\":\"x\"},\"y\":{\"field\":\"y\"}},\"id\":\"2215\",\"type\":\"Circle\"},{\"attributes\":{\"data_source\":{\"id\":\"2168\",\"type\":\"ColumnDataSource\"},\"glyph\":{\"id\":\"2214\",\"type\":\"Circle\"},\"hover_glyph\":null,\"muted_glyph\":null,\"nonselection_glyph\":{\"id\":\"2215\",\"type\":\"Circle\"},\"selection_glyph\":null,\"view\":{\"id\":\"2212\",\"type\":\"CDSView\"}},\"id\":\"2216\",\"type\":\"GlyphRenderer\"},{\"attributes\":{\"fill_alpha\":{\"value\":0.1},\"fill_color\":{\"value\":\"#1f77b4\"},\"line_alpha\":{\"value\":0.1},\"line_color\":{\"value\":\"#1f77b4\"},\"x\":{\"field\":\"x\"},\"y\":{\"field\":\"y\"}},\"id\":\"2221\",\"type\":\"Circle\"},{\"attributes\":{\"fill_alpha\":{\"value\":0.1},\"fill_color\":{\"value\":\"#1f77b4\"},\"line_alpha\":{\"value\":0.1},\"line_color\":{\"value\":\"#1f77b4\"},\"x\":{\"field\":\"x\"},\"y\":{\"field\":\"y\"}},\"id\":\"2185\",\"type\":\"Circle\"},{\"attributes\":{\"column_name\":\"label\",\"group\":\"H\"},\"id\":\"2217\",\"type\":\"GroupFilter\"},{\"attributes\":{\"fill_color\":{\"field\":\"label\",\"transform\":{\"id\":\"2131\",\"type\":\"CategoricalColorMapper\"}},\"line_color\":{\"field\":\"label\",\"transform\":{\"id\":\"2131\",\"type\":\"CategoricalColorMapper\"}},\"x\":{\"field\":\"x\"},\"y\":{\"field\":\"y\"}},\"id\":\"2184\",\"type\":\"Circle\"},{\"attributes\":{\"filters\":[{\"id\":\"2217\",\"type\":\"GroupFilter\"}],\"source\":{\"id\":\"2168\",\"type\":\"ColumnDataSource\"}},\"id\":\"2218\",\"type\":\"CDSView\"},{\"attributes\":{\"bottom_units\":\"screen\",\"fill_alpha\":{\"value\":0.5},\"fill_color\":{\"value\":\"lightgrey\"},\"left_units\":\"screen\",\"level\":\"overlay\",\"line_alpha\":{\"value\":1.0},\"line_color\":{\"value\":\"black\"},\"line_dash\":[4,4],\"line_width\":{\"value\":2},\"render_mode\":\"css\",\"right_units\":\"screen\",\"top_units\":\"screen\"},\"id\":\"2392\",\"type\":\"BoxAnnotation\"},{\"attributes\":{\"fill_color\":{\"field\":\"label\",\"transform\":{\"id\":\"2131\",\"type\":\"CategoricalColorMapper\"}},\"line_color\":{\"field\":\"label\",\"transform\":{\"id\":\"2131\",\"type\":\"CategoricalColorMapper\"}},\"x\":{\"field\":\"x\"},\"y\":{\"field\":\"y\"}},\"id\":\"2220\",\"type\":\"Circle\"},{\"attributes\":{\"column_name\":\"label\",\"group\":\"I\"},\"id\":\"2223\",\"type\":\"GroupFilter\"},{\"attributes\":{\"filters\":[{\"id\":\"2181\",\"type\":\"GroupFilter\"}],\"source\":{\"id\":\"2168\",\"type\":\"ColumnDataSource\"}},\"id\":\"2182\",\"type\":\"CDSView\"},{\"attributes\":{\"data_source\":{\"id\":\"2168\",\"type\":\"ColumnDataSource\"},\"glyph\":{\"id\":\"2226\",\"type\":\"Circle\"},\"hover_glyph\":null,\"muted_glyph\":null,\"nonselection_glyph\":{\"id\":\"2227\",\"type\":\"Circle\"},\"selection_glyph\":null,\"view\":{\"id\":\"2224\",\"type\":\"CDSView\"}},\"id\":\"2228\",\"type\":\"GlyphRenderer\"},{\"attributes\":{\"column_name\":\"label\",\"group\":\"B\"},\"id\":\"2181\",\"type\":\"GroupFilter\"},{\"attributes\":{\"column_name\":\"label\",\"group\":\"J\"},\"id\":\"2229\",\"type\":\"GroupFilter\"},{\"attributes\":{\"fill_color\":{\"field\":\"label\",\"transform\":{\"id\":\"2131\",\"type\":\"CategoricalColorMapper\"}},\"line_color\":{\"field\":\"label\",\"transform\":{\"id\":\"2131\",\"type\":\"CategoricalColorMapper\"}},\"x\":{\"field\":\"x\"},\"y\":{\"field\":\"y\"}},\"id\":\"2178\",\"type\":\"Circle\"},{\"attributes\":{\"filters\":[{\"id\":\"2229\",\"type\":\"GroupFilter\"}],\"source\":{\"id\":\"2168\",\"type\":\"ColumnDataSource\"}},\"id\":\"2230\",\"type\":\"CDSView\"},{\"attributes\":{\"filters\":[{\"id\":\"2307\",\"type\":\"GroupFilter\"}],\"source\":{\"id\":\"2168\",\"type\":\"ColumnDataSource\"}},\"id\":\"2308\",\"type\":\"CDSView\"},{\"attributes\":{\"fill_color\":{\"field\":\"label\",\"transform\":{\"id\":\"2131\",\"type\":\"CategoricalColorMapper\"}},\"line_color\":{\"field\":\"label\",\"transform\":{\"id\":\"2131\",\"type\":\"CategoricalColorMapper\"}},\"x\":{\"field\":\"x\"},\"y\":{\"field\":\"y\"}},\"id\":\"2232\",\"type\":\"Circle\"},{\"attributes\":{\"fill_color\":{\"field\":\"label\",\"transform\":{\"id\":\"2131\",\"type\":\"CategoricalColorMapper\"}},\"line_color\":{\"field\":\"label\",\"transform\":{\"id\":\"2131\",\"type\":\"CategoricalColorMapper\"}},\"x\":{\"field\":\"x\"},\"y\":{\"field\":\"y\"}},\"id\":\"2190\",\"type\":\"Circle\"},{\"attributes\":{\"fill_alpha\":{\"value\":0.1},\"fill_color\":{\"value\":\"#1f77b4\"},\"line_alpha\":{\"value\":0.1},\"line_color\":{\"value\":\"#1f77b4\"},\"x\":{\"field\":\"x\"},\"y\":{\"field\":\"y\"}},\"id\":\"2233\",\"type\":\"Circle\"},{\"attributes\":{\"data_source\":{\"id\":\"2168\",\"type\":\"ColumnDataSource\"},\"glyph\":{\"id\":\"2232\",\"type\":\"Circle\"},\"hover_glyph\":null,\"muted_glyph\":null,\"nonselection_glyph\":{\"id\":\"2233\",\"type\":\"Circle\"},\"selection_glyph\":null,\"view\":{\"id\":\"2230\",\"type\":\"CDSView\"}},\"id\":\"2234\",\"type\":\"GlyphRenderer\"}],\"root_ids\":[\"2132\"]},\"title\":\"Bokeh Application\",\"version\":\"1.4.0\"}};\n",
       "  var render_items = [{\"docid\":\"944d3223-ec65-443a-aa0f-a199544984d3\",\"roots\":{\"2132\":\"05df2648-378d-4c13-ab7b-2f93c30b4ccc\"}}];\n",
       "  root.Bokeh.embed.embed_items_notebook(docs_json, render_items);\n",
       "\n",
       "  }\n",
       "  if (root.Bokeh !== undefined) {\n",
       "    embed_document(root);\n",
       "  } else {\n",
       "    var attempts = 0;\n",
       "    var timer = setInterval(function(root) {\n",
       "      if (root.Bokeh !== undefined) {\n",
       "        clearInterval(timer);\n",
       "        embed_document(root);\n",
       "      } else {\n",
       "        attempts++;\n",
       "        if (attempts > 100) {\n",
       "          clearInterval(timer);\n",
       "          console.log(\"Bokeh: ERROR: Unable to run BokehJS code because BokehJS library is missing\");\n",
       "        }\n",
       "      }\n",
       "    }, 10, root)\n",
       "  }\n",
       "})(window);"
      ],
      "application/vnd.bokehjs_exec.v0+json": ""
     },
     "metadata": {
      "application/vnd.bokehjs_exec.v0+json": {
       "id": "2132"
      }
     },
     "output_type": "display_data"
    }
   ],
   "source": [
    "show(p)"
   ]
  },
  {
   "cell_type": "code",
   "execution_count": 30,
   "metadata": {},
   "outputs": [],
   "source": [
    "PC1G = mt.filter_cols(mt.phenotypes.family == 'gnomad').scores[0].collect()"
   ]
  },
  {
   "cell_type": "code",
   "execution_count": 31,
   "metadata": {},
   "outputs": [],
   "source": [
    "PC1 = mt.filter_cols(mt.phenotypes.family == 'gnomad', keep = False).scores[0].collect()"
   ]
  },
  {
   "cell_type": "code",
   "execution_count": 34,
   "metadata": {},
   "outputs": [],
   "source": [
    "PC2G = mt.filter_cols(mt.phenotypes.family == 'gnomad').scores[1].collect()"
   ]
  },
  {
   "cell_type": "code",
   "execution_count": 35,
   "metadata": {},
   "outputs": [],
   "source": [
    "PC2 = mt.filter_cols(mt.phenotypes.family == 'gnomad', keep = False).scores[1].collect()"
   ]
  },
  {
   "cell_type": "code",
   "execution_count": 59,
   "metadata": {},
   "outputs": [
    {
     "data": {
      "text/plain": [
       "4.920407728013079"
      ]
     },
     "execution_count": 59,
     "metadata": {},
     "output_type": "execute_result"
    }
   ],
   "source": [
    "max(PC2 + PC2G)/np.std(PC2 + PC2G)"
   ]
  },
  {
   "cell_type": "code",
   "execution_count": 62,
   "metadata": {},
   "outputs": [
    {
     "name": "stdout",
     "output_type": "stream",
     "text": [
      "-0.027559738056229823\n",
      "-0.023334302662061147\n",
      "0.013371564769335048\n",
      "-0.011559144443340623\n"
     ]
    }
   ],
   "source": [
    "for a in [PC1, PC2, PC1G, PC2G]:\n",
    "    print(np.median(a))"
   ]
  },
  {
   "cell_type": "code",
   "execution_count": 57,
   "metadata": {},
   "outputs": [
    {
     "data": {
      "text/plain": [
       "0.11886923746027583"
      ]
     },
     "execution_count": 57,
     "metadata": {},
     "output_type": "execute_result"
    }
   ],
   "source": [
    "np.std(PC1 + PC1G)"
   ]
  },
  {
   "cell_type": "code",
   "execution_count": 37,
   "metadata": {},
   "outputs": [],
   "source": [
    "gts = np.column_stack((PC1, PC2))"
   ]
  },
  {
   "cell_type": "code",
   "execution_count": 38,
   "metadata": {},
   "outputs": [],
   "source": [
    "gno = np.column_stack((PC1G, PC2G))"
   ]
  },
  {
   "cell_type": "code",
   "execution_count": 49,
   "metadata": {},
   "outputs": [
    {
     "data": {
      "text/plain": [
       "0.05567942761165957"
      ]
     },
     "execution_count": 49,
     "metadata": {},
     "output_type": "execute_result"
    }
   ],
   "source": [
    "np.median(np.linalg.norm(gts, axis = 1))"
   ]
  },
  {
   "cell_type": "code",
   "execution_count": 43,
   "metadata": {},
   "outputs": [],
   "source": [
    "gno = np.column_stack((PC1G, PC2G))"
   ]
  },
  {
   "cell_type": "code",
   "execution_count": 50,
   "metadata": {},
   "outputs": [
    {
     "data": {
      "text/plain": [
       "0.01978509273443384"
      ]
     },
     "execution_count": 50,
     "metadata": {},
     "output_type": "execute_result"
    }
   ],
   "source": [
    "np.median(np.linalg.norm(gno, axis = 1))"
   ]
  },
  {
   "cell_type": "code",
   "execution_count": null,
   "metadata": {},
   "outputs": [],
   "source": []
  }
 ],
 "metadata": {
  "kernelspec": {
   "display_name": "Python 3",
   "language": "python",
   "name": "python3"
  },
  "language_info": {
   "codemirror_mode": {
    "name": "ipython",
    "version": 3
   },
   "file_extension": ".py",
   "mimetype": "text/x-python",
   "name": "python",
   "nbconvert_exporter": "python",
   "pygments_lexer": "ipython3",
   "version": "3.6.5"
  }
 },
 "nbformat": 4,
 "nbformat_minor": 2
}
