{
 "cells": [
  {
   "cell_type": "code",
   "execution_count": 2,
   "metadata": {},
   "outputs": [
    {
     "data": {
      "text/html": [
       "<style>.container { width:100% !important; }</style>"
      ],
      "text/plain": [
       "<IPython.core.display.HTML object>"
      ]
     },
     "metadata": {},
     "output_type": "display_data"
    },
    {
     "ename": "ModuleNotFoundError",
     "evalue": "No module named 'pandas.core.dtypes.dtypes'",
     "output_type": "error",
     "traceback": [
      "\u001b[0;31m---------------------------------------------------------------------------\u001b[0m",
      "\u001b[0;31mModuleNotFoundError\u001b[0m                       Traceback (most recent call last)",
      "\u001b[0;32m<ipython-input-2-61acf9c99ad5>\u001b[0m in \u001b[0;36m<module>\u001b[0;34m()\u001b[0m\n\u001b[1;32m      9\u001b[0m \u001b[0;34m\u001b[0m\u001b[0m\n\u001b[1;32m     10\u001b[0m \u001b[0;34m\u001b[0m\u001b[0m\n\u001b[0;32m---> 11\u001b[0;31m \u001b[0;32mimport\u001b[0m \u001b[0mhail\u001b[0m \u001b[0;32mas\u001b[0m \u001b[0mhl\u001b[0m\u001b[0;34m\u001b[0m\u001b[0m\n\u001b[0m\u001b[1;32m     12\u001b[0m \u001b[0mhl\u001b[0m\u001b[0;34m.\u001b[0m\u001b[0minit\u001b[0m\u001b[0;34m(\u001b[0m\u001b[0mtmp_dir\u001b[0m\u001b[0;34m=\u001b[0m\u001b[0;34m'/net/scratch/people/plggosborcz'\u001b[0m\u001b[0;34m)\u001b[0m\u001b[0;34m\u001b[0m\u001b[0m\n",
      "\u001b[0;32m/net/software/local/python/3.6.5/lib/python3.6/site-packages/hail/__init__.py\u001b[0m in \u001b[0;36m<module>\u001b[0;34m()\u001b[0m\n\u001b[1;32m     29\u001b[0m \u001b[0;31m# F401 '.expr.*' imported but unused\u001b[0m\u001b[0;34m\u001b[0m\u001b[0;34m\u001b[0m\u001b[0m\n\u001b[1;32m     30\u001b[0m \u001b[0;31m# E402 module level import not at top of file\u001b[0m\u001b[0;34m\u001b[0m\u001b[0;34m\u001b[0m\u001b[0m\n\u001b[0;32m---> 31\u001b[0;31m \u001b[0;32mfrom\u001b[0m \u001b[0;34m.\u001b[0m\u001b[0mtable\u001b[0m \u001b[0;32mimport\u001b[0m \u001b[0mTable\u001b[0m\u001b[0;34m,\u001b[0m \u001b[0mGroupedTable\u001b[0m\u001b[0;34m,\u001b[0m \u001b[0masc\u001b[0m\u001b[0;34m,\u001b[0m \u001b[0mdesc\u001b[0m  \u001b[0;31m# noqa: E402\u001b[0m\u001b[0;34m\u001b[0m\u001b[0m\n\u001b[0m\u001b[1;32m     32\u001b[0m \u001b[0;32mfrom\u001b[0m \u001b[0;34m.\u001b[0m\u001b[0mmatrixtable\u001b[0m \u001b[0;32mimport\u001b[0m \u001b[0mMatrixTable\u001b[0m\u001b[0;34m,\u001b[0m \u001b[0mGroupedMatrixTable\u001b[0m  \u001b[0;31m# noqa: E402\u001b[0m\u001b[0;34m\u001b[0m\u001b[0m\n\u001b[1;32m     33\u001b[0m \u001b[0;32mfrom\u001b[0m \u001b[0;34m.\u001b[0m\u001b[0mexpr\u001b[0m \u001b[0;32mimport\u001b[0m \u001b[0;34m*\u001b[0m  \u001b[0;31m# noqa: F401,F403,E402\u001b[0m\u001b[0;34m\u001b[0m\u001b[0m\n",
      "\u001b[0;32m/net/software/local/python/3.6.5/lib/python3.6/site-packages/hail/table.py\u001b[0m in \u001b[0;36m<module>\u001b[0;34m()\u001b[0m\n\u001b[1;32m      1\u001b[0m \u001b[0;32mimport\u001b[0m \u001b[0mcollections\u001b[0m\u001b[0;34m\u001b[0m\u001b[0m\n\u001b[1;32m      2\u001b[0m \u001b[0;32mimport\u001b[0m \u001b[0mitertools\u001b[0m\u001b[0;34m\u001b[0m\u001b[0m\n\u001b[0;32m----> 3\u001b[0;31m \u001b[0;32mimport\u001b[0m \u001b[0mpandas\u001b[0m\u001b[0;34m\u001b[0m\u001b[0m\n\u001b[0m\u001b[1;32m      4\u001b[0m \u001b[0;32mimport\u001b[0m \u001b[0mpyspark\u001b[0m\u001b[0;34m\u001b[0m\u001b[0m\n\u001b[1;32m      5\u001b[0m \u001b[0;32mfrom\u001b[0m \u001b[0mtyping\u001b[0m \u001b[0;32mimport\u001b[0m \u001b[0mOptional\u001b[0m\u001b[0;34m,\u001b[0m \u001b[0mDict\u001b[0m\u001b[0;34m,\u001b[0m \u001b[0mCallable\u001b[0m\u001b[0;34m\u001b[0m\u001b[0m\n",
      "\u001b[0;32m/net/software/local/python/3.6.5/lib/python3.6/site-packages/pandas/__init__.py\u001b[0m in \u001b[0;36m<module>\u001b[0;34m()\u001b[0m\n\u001b[1;32m     50\u001b[0m \u001b[0;32mimport\u001b[0m \u001b[0mpandas\u001b[0m\u001b[0;34m.\u001b[0m\u001b[0mcore\u001b[0m\u001b[0;34m.\u001b[0m\u001b[0mconfig_init\u001b[0m\u001b[0;34m\u001b[0m\u001b[0m\n\u001b[1;32m     51\u001b[0m \u001b[0;34m\u001b[0m\u001b[0m\n\u001b[0;32m---> 52\u001b[0;31m from pandas.core.api import (\n\u001b[0m\u001b[1;32m     53\u001b[0m     \u001b[0;31m# dtype\u001b[0m\u001b[0;34m\u001b[0m\u001b[0;34m\u001b[0m\u001b[0m\n\u001b[1;32m     54\u001b[0m     \u001b[0mInt8Dtype\u001b[0m\u001b[0;34m,\u001b[0m\u001b[0;34m\u001b[0m\u001b[0m\n",
      "\u001b[0;32m/net/software/local/python/3.6.5/lib/python3.6/site-packages/pandas/core/api.py\u001b[0m in \u001b[0;36m<module>\u001b[0;34m()\u001b[0m\n\u001b[1;32m      4\u001b[0m \u001b[0;32mfrom\u001b[0m \u001b[0mpandas\u001b[0m\u001b[0;34m.\u001b[0m\u001b[0m_libs\u001b[0m\u001b[0;34m.\u001b[0m\u001b[0mmissing\u001b[0m \u001b[0;32mimport\u001b[0m \u001b[0mNA\u001b[0m\u001b[0;34m\u001b[0m\u001b[0m\n\u001b[1;32m      5\u001b[0m \u001b[0;34m\u001b[0m\u001b[0m\n\u001b[0;32m----> 6\u001b[0;31m from pandas.core.dtypes.dtypes import (\n\u001b[0m\u001b[1;32m      7\u001b[0m     \u001b[0mCategoricalDtype\u001b[0m\u001b[0;34m,\u001b[0m\u001b[0;34m\u001b[0m\u001b[0m\n\u001b[1;32m      8\u001b[0m     \u001b[0mDatetimeTZDtype\u001b[0m\u001b[0;34m,\u001b[0m\u001b[0;34m\u001b[0m\u001b[0m\n",
      "\u001b[0;31mModuleNotFoundError\u001b[0m: No module named 'pandas.core.dtypes.dtypes'"
     ]
    }
   ],
   "source": [
    "from IPython.display import display\n",
    "from IPython.display import HTML\n",
    "import IPython.core.display as di # Example: di.display_html('<h3>%s:</h3>' % str, raw=True)\n",
    "\n",
    "# This line will hide code by default when the notebook is exported as HTML\n",
    "# di.display_html('<script>jQuery(function() {if (jQuery(\"body.notebook_app\").length == 0) { jQuery(\".input_area\").toggle(); jQuery(\".prompt\").toggle();}});</script>', raw=True)\n",
    "\n",
    "display(HTML(\"<style>.container { width:100% !important; }</style>\"))\n",
    "\n",
    "\n",
    "import hail as hl\n",
    "hl.init(tmp_dir='/net/scratch/people/plggosborcz')"
   ]
  },
  {
   "cell_type": "code",
   "execution_count": null,
   "metadata": {},
   "outputs": [],
   "source": [
    "display(HTML(\"<style>.container { width:100% !important; }</style>\"))"
   ]
  },
  {
   "cell_type": "code",
   "execution_count": null,
   "metadata": {},
   "outputs": [],
   "source": [
    "from hail.plot import show\n",
    "from pprint import pprint\n",
    "from bokeh.layouts import gridplot\n",
    "hl.plot.output_notebook()\n",
    "\n",
    "import numpy as np\n",
    "import pandas as pd\n",
    "from functools import reduce\n",
    "from itertools import chain\n",
    "import statistics as stat"
   ]
  },
  {
   "cell_type": "code",
   "execution_count": 4,
   "metadata": {},
   "outputs": [
    {
     "data": {
      "text/html": [
       "\n",
       "    <div class=\"bk-root\">\n",
       "        <a href=\"https://bokeh.pydata.org\" target=\"_blank\" class=\"bk-logo bk-logo-small bk-logo-notebook\"></a>\n",
       "        <span id=\"1002\">Loading BokehJS ...</span>\n",
       "    </div>"
      ]
     },
     "metadata": {},
     "output_type": "display_data"
    },
    {
     "data": {
      "application/javascript": [
       "\n",
       "(function(root) {\n",
       "  function now() {\n",
       "    return new Date();\n",
       "  }\n",
       "\n",
       "  var force = true;\n",
       "\n",
       "  if (typeof root._bokeh_onload_callbacks === \"undefined\" || force === true) {\n",
       "    root._bokeh_onload_callbacks = [];\n",
       "    root._bokeh_is_loading = undefined;\n",
       "  }\n",
       "\n",
       "  var JS_MIME_TYPE = 'application/javascript';\n",
       "  var HTML_MIME_TYPE = 'text/html';\n",
       "  var EXEC_MIME_TYPE = 'application/vnd.bokehjs_exec.v0+json';\n",
       "  var CLASS_NAME = 'output_bokeh rendered_html';\n",
       "\n",
       "  /**\n",
       "   * Render data to the DOM node\n",
       "   */\n",
       "  function render(props, node) {\n",
       "    var script = document.createElement(\"script\");\n",
       "    node.appendChild(script);\n",
       "  }\n",
       "\n",
       "  /**\n",
       "   * Handle when an output is cleared or removed\n",
       "   */\n",
       "  function handleClearOutput(event, handle) {\n",
       "    var cell = handle.cell;\n",
       "\n",
       "    var id = cell.output_area._bokeh_element_id;\n",
       "    var server_id = cell.output_area._bokeh_server_id;\n",
       "    // Clean up Bokeh references\n",
       "    if (id != null && id in Bokeh.index) {\n",
       "      Bokeh.index[id].model.document.clear();\n",
       "      delete Bokeh.index[id];\n",
       "    }\n",
       "\n",
       "    if (server_id !== undefined) {\n",
       "      // Clean up Bokeh references\n",
       "      var cmd = \"from bokeh.io.state import curstate; print(curstate().uuid_to_server['\" + server_id + \"'].get_sessions()[0].document.roots[0]._id)\";\n",
       "      cell.notebook.kernel.execute(cmd, {\n",
       "        iopub: {\n",
       "          output: function(msg) {\n",
       "            var id = msg.content.text.trim();\n",
       "            if (id in Bokeh.index) {\n",
       "              Bokeh.index[id].model.document.clear();\n",
       "              delete Bokeh.index[id];\n",
       "            }\n",
       "          }\n",
       "        }\n",
       "      });\n",
       "      // Destroy server and session\n",
       "      var cmd = \"import bokeh.io.notebook as ion; ion.destroy_server('\" + server_id + \"')\";\n",
       "      cell.notebook.kernel.execute(cmd);\n",
       "    }\n",
       "  }\n",
       "\n",
       "  /**\n",
       "   * Handle when a new output is added\n",
       "   */\n",
       "  function handleAddOutput(event, handle) {\n",
       "    var output_area = handle.output_area;\n",
       "    var output = handle.output;\n",
       "\n",
       "    // limit handleAddOutput to display_data with EXEC_MIME_TYPE content only\n",
       "    if ((output.output_type != \"display_data\") || (!output.data.hasOwnProperty(EXEC_MIME_TYPE))) {\n",
       "      return\n",
       "    }\n",
       "\n",
       "    var toinsert = output_area.element.find(\".\" + CLASS_NAME.split(' ')[0]);\n",
       "\n",
       "    if (output.metadata[EXEC_MIME_TYPE][\"id\"] !== undefined) {\n",
       "      toinsert[toinsert.length - 1].firstChild.textContent = output.data[JS_MIME_TYPE];\n",
       "      // store reference to embed id on output_area\n",
       "      output_area._bokeh_element_id = output.metadata[EXEC_MIME_TYPE][\"id\"];\n",
       "    }\n",
       "    if (output.metadata[EXEC_MIME_TYPE][\"server_id\"] !== undefined) {\n",
       "      var bk_div = document.createElement(\"div\");\n",
       "      bk_div.innerHTML = output.data[HTML_MIME_TYPE];\n",
       "      var script_attrs = bk_div.children[0].attributes;\n",
       "      for (var i = 0; i < script_attrs.length; i++) {\n",
       "        toinsert[toinsert.length - 1].firstChild.setAttribute(script_attrs[i].name, script_attrs[i].value);\n",
       "      }\n",
       "      // store reference to server id on output_area\n",
       "      output_area._bokeh_server_id = output.metadata[EXEC_MIME_TYPE][\"server_id\"];\n",
       "    }\n",
       "  }\n",
       "\n",
       "  function register_renderer(events, OutputArea) {\n",
       "\n",
       "    function append_mime(data, metadata, element) {\n",
       "      // create a DOM node to render to\n",
       "      var toinsert = this.create_output_subarea(\n",
       "        metadata,\n",
       "        CLASS_NAME,\n",
       "        EXEC_MIME_TYPE\n",
       "      );\n",
       "      this.keyboard_manager.register_events(toinsert);\n",
       "      // Render to node\n",
       "      var props = {data: data, metadata: metadata[EXEC_MIME_TYPE]};\n",
       "      render(props, toinsert[toinsert.length - 1]);\n",
       "      element.append(toinsert);\n",
       "      return toinsert\n",
       "    }\n",
       "\n",
       "    /* Handle when an output is cleared or removed */\n",
       "    events.on('clear_output.CodeCell', handleClearOutput);\n",
       "    events.on('delete.Cell', handleClearOutput);\n",
       "\n",
       "    /* Handle when a new output is added */\n",
       "    events.on('output_added.OutputArea', handleAddOutput);\n",
       "\n",
       "    /**\n",
       "     * Register the mime type and append_mime function with output_area\n",
       "     */\n",
       "    OutputArea.prototype.register_mime_type(EXEC_MIME_TYPE, append_mime, {\n",
       "      /* Is output safe? */\n",
       "      safe: true,\n",
       "      /* Index of renderer in `output_area.display_order` */\n",
       "      index: 0\n",
       "    });\n",
       "  }\n",
       "\n",
       "  // register the mime type if in Jupyter Notebook environment and previously unregistered\n",
       "  if (root.Jupyter !== undefined) {\n",
       "    var events = require('base/js/events');\n",
       "    var OutputArea = require('notebook/js/outputarea').OutputArea;\n",
       "\n",
       "    if (OutputArea.prototype.mime_types().indexOf(EXEC_MIME_TYPE) == -1) {\n",
       "      register_renderer(events, OutputArea);\n",
       "    }\n",
       "  }\n",
       "\n",
       "  \n",
       "  if (typeof (root._bokeh_timeout) === \"undefined\" || force === true) {\n",
       "    root._bokeh_timeout = Date.now() + 5000;\n",
       "    root._bokeh_failed_load = false;\n",
       "  }\n",
       "\n",
       "  var NB_LOAD_WARNING = {'data': {'text/html':\n",
       "     \"<div style='background-color: #fdd'>\\n\"+\n",
       "     \"<p>\\n\"+\n",
       "     \"BokehJS does not appear to have successfully loaded. If loading BokehJS from CDN, this \\n\"+\n",
       "     \"may be due to a slow or bad network connection. Possible fixes:\\n\"+\n",
       "     \"</p>\\n\"+\n",
       "     \"<ul>\\n\"+\n",
       "     \"<li>re-rerun `output_notebook()` to attempt to load from CDN again, or</li>\\n\"+\n",
       "     \"<li>use INLINE resources instead, as so:</li>\\n\"+\n",
       "     \"</ul>\\n\"+\n",
       "     \"<code>\\n\"+\n",
       "     \"from bokeh.resources import INLINE\\n\"+\n",
       "     \"output_notebook(resources=INLINE)\\n\"+\n",
       "     \"</code>\\n\"+\n",
       "     \"</div>\"}};\n",
       "\n",
       "  function display_loaded() {\n",
       "    var el = document.getElementById(\"1002\");\n",
       "    if (el != null) {\n",
       "      el.textContent = \"BokehJS is loading...\";\n",
       "    }\n",
       "    if (root.Bokeh !== undefined) {\n",
       "      if (el != null) {\n",
       "        el.textContent = \"BokehJS \" + root.Bokeh.version + \" successfully loaded.\";\n",
       "      }\n",
       "    } else if (Date.now() < root._bokeh_timeout) {\n",
       "      setTimeout(display_loaded, 100)\n",
       "    }\n",
       "  }\n",
       "\n",
       "\n",
       "  function run_callbacks() {\n",
       "    try {\n",
       "      root._bokeh_onload_callbacks.forEach(function(callback) {\n",
       "        if (callback != null)\n",
       "          callback();\n",
       "      });\n",
       "    } finally {\n",
       "      delete root._bokeh_onload_callbacks\n",
       "    }\n",
       "    console.debug(\"Bokeh: all callbacks have finished\");\n",
       "  }\n",
       "\n",
       "  function load_libs(css_urls, js_urls, callback) {\n",
       "    if (css_urls == null) css_urls = [];\n",
       "    if (js_urls == null) js_urls = [];\n",
       "\n",
       "    root._bokeh_onload_callbacks.push(callback);\n",
       "    if (root._bokeh_is_loading > 0) {\n",
       "      console.debug(\"Bokeh: BokehJS is being loaded, scheduling callback at\", now());\n",
       "      return null;\n",
       "    }\n",
       "    if (js_urls == null || js_urls.length === 0) {\n",
       "      run_callbacks();\n",
       "      return null;\n",
       "    }\n",
       "    console.debug(\"Bokeh: BokehJS not loaded, scheduling load and callback at\", now());\n",
       "    root._bokeh_is_loading = css_urls.length + js_urls.length;\n",
       "\n",
       "    function on_load() {\n",
       "      root._bokeh_is_loading--;\n",
       "      if (root._bokeh_is_loading === 0) {\n",
       "        console.debug(\"Bokeh: all BokehJS libraries/stylesheets loaded\");\n",
       "        run_callbacks()\n",
       "      }\n",
       "    }\n",
       "\n",
       "    function on_error() {\n",
       "      console.error(\"failed to load \" + url);\n",
       "    }\n",
       "\n",
       "    for (var i = 0; i < css_urls.length; i++) {\n",
       "      var url = css_urls[i];\n",
       "      const element = document.createElement(\"link\");\n",
       "      element.onload = on_load;\n",
       "      element.onerror = on_error;\n",
       "      element.rel = \"stylesheet\";\n",
       "      element.type = \"text/css\";\n",
       "      element.href = url;\n",
       "      console.debug(\"Bokeh: injecting link tag for BokehJS stylesheet: \", url);\n",
       "      document.body.appendChild(element);\n",
       "    }\n",
       "\n",
       "    for (var i = 0; i < js_urls.length; i++) {\n",
       "      var url = js_urls[i];\n",
       "      var element = document.createElement('script');\n",
       "      element.onload = on_load;\n",
       "      element.onerror = on_error;\n",
       "      element.async = false;\n",
       "      element.src = url;\n",
       "      console.debug(\"Bokeh: injecting script tag for BokehJS library: \", url);\n",
       "      document.head.appendChild(element);\n",
       "    }\n",
       "  };var element = document.getElementById(\"1002\");\n",
       "  if (element == null) {\n",
       "    console.error(\"Bokeh: ERROR: autoload.js configured with elementid '1002' but no matching script tag was found. \")\n",
       "    return false;\n",
       "  }\n",
       "\n",
       "  function inject_raw_css(css) {\n",
       "    const element = document.createElement(\"style\");\n",
       "    element.appendChild(document.createTextNode(css));\n",
       "    document.body.appendChild(element);\n",
       "  }\n",
       "\n",
       "  var js_urls = [\"https://cdn.pydata.org/bokeh/release/bokeh-1.2.0.min.js\", \"https://cdn.pydata.org/bokeh/release/bokeh-widgets-1.2.0.min.js\", \"https://cdn.pydata.org/bokeh/release/bokeh-tables-1.2.0.min.js\", \"https://cdn.pydata.org/bokeh/release/bokeh-gl-1.2.0.min.js\"];\n",
       "  var css_urls = [\"https://cdn.pydata.org/bokeh/release/bokeh-1.2.0.min.css\", \"https://cdn.pydata.org/bokeh/release/bokeh-widgets-1.2.0.min.css\", \"https://cdn.pydata.org/bokeh/release/bokeh-tables-1.2.0.min.css\"];\n",
       "\n",
       "  var inline_js = [\n",
       "    function(Bokeh) {\n",
       "      Bokeh.set_log_level(\"info\");\n",
       "    },\n",
       "    \n",
       "    function(Bokeh) {\n",
       "      \n",
       "    },\n",
       "    function(Bokeh) {} // ensure no trailing comma for IE\n",
       "  ];\n",
       "\n",
       "  function run_inline_js() {\n",
       "    \n",
       "    if ((root.Bokeh !== undefined) || (force === true)) {\n",
       "      for (var i = 0; i < inline_js.length; i++) {\n",
       "        inline_js[i].call(root, root.Bokeh);\n",
       "      }if (force === true) {\n",
       "        display_loaded();\n",
       "      }} else if (Date.now() < root._bokeh_timeout) {\n",
       "      setTimeout(run_inline_js, 100);\n",
       "    } else if (!root._bokeh_failed_load) {\n",
       "      console.log(\"Bokeh: BokehJS failed to load within specified timeout.\");\n",
       "      root._bokeh_failed_load = true;\n",
       "    } else if (force !== true) {\n",
       "      var cell = $(document.getElementById(\"1002\")).parents('.cell').data().cell;\n",
       "      cell.output_area.append_execute_result(NB_LOAD_WARNING)\n",
       "    }\n",
       "\n",
       "  }\n",
       "\n",
       "  if (root._bokeh_is_loading === 0) {\n",
       "    console.debug(\"Bokeh: BokehJS loaded, going straight to plotting\");\n",
       "    run_inline_js();\n",
       "  } else {\n",
       "    load_libs(css_urls, js_urls, function() {\n",
       "      console.debug(\"Bokeh: BokehJS plotting callback run at\", now());\n",
       "      run_inline_js();\n",
       "    });\n",
       "  }\n",
       "}(window));"
      ],
      "application/vnd.bokehjs_load.v0+json": "\n(function(root) {\n  function now() {\n    return new Date();\n  }\n\n  var force = true;\n\n  if (typeof root._bokeh_onload_callbacks === \"undefined\" || force === true) {\n    root._bokeh_onload_callbacks = [];\n    root._bokeh_is_loading = undefined;\n  }\n\n  \n\n  \n  if (typeof (root._bokeh_timeout) === \"undefined\" || force === true) {\n    root._bokeh_timeout = Date.now() + 5000;\n    root._bokeh_failed_load = false;\n  }\n\n  var NB_LOAD_WARNING = {'data': {'text/html':\n     \"<div style='background-color: #fdd'>\\n\"+\n     \"<p>\\n\"+\n     \"BokehJS does not appear to have successfully loaded. If loading BokehJS from CDN, this \\n\"+\n     \"may be due to a slow or bad network connection. Possible fixes:\\n\"+\n     \"</p>\\n\"+\n     \"<ul>\\n\"+\n     \"<li>re-rerun `output_notebook()` to attempt to load from CDN again, or</li>\\n\"+\n     \"<li>use INLINE resources instead, as so:</li>\\n\"+\n     \"</ul>\\n\"+\n     \"<code>\\n\"+\n     \"from bokeh.resources import INLINE\\n\"+\n     \"output_notebook(resources=INLINE)\\n\"+\n     \"</code>\\n\"+\n     \"</div>\"}};\n\n  function display_loaded() {\n    var el = document.getElementById(\"1002\");\n    if (el != null) {\n      el.textContent = \"BokehJS is loading...\";\n    }\n    if (root.Bokeh !== undefined) {\n      if (el != null) {\n        el.textContent = \"BokehJS \" + root.Bokeh.version + \" successfully loaded.\";\n      }\n    } else if (Date.now() < root._bokeh_timeout) {\n      setTimeout(display_loaded, 100)\n    }\n  }\n\n\n  function run_callbacks() {\n    try {\n      root._bokeh_onload_callbacks.forEach(function(callback) {\n        if (callback != null)\n          callback();\n      });\n    } finally {\n      delete root._bokeh_onload_callbacks\n    }\n    console.debug(\"Bokeh: all callbacks have finished\");\n  }\n\n  function load_libs(css_urls, js_urls, callback) {\n    if (css_urls == null) css_urls = [];\n    if (js_urls == null) js_urls = [];\n\n    root._bokeh_onload_callbacks.push(callback);\n    if (root._bokeh_is_loading > 0) {\n      console.debug(\"Bokeh: BokehJS is being loaded, scheduling callback at\", now());\n      return null;\n    }\n    if (js_urls == null || js_urls.length === 0) {\n      run_callbacks();\n      return null;\n    }\n    console.debug(\"Bokeh: BokehJS not loaded, scheduling load and callback at\", now());\n    root._bokeh_is_loading = css_urls.length + js_urls.length;\n\n    function on_load() {\n      root._bokeh_is_loading--;\n      if (root._bokeh_is_loading === 0) {\n        console.debug(\"Bokeh: all BokehJS libraries/stylesheets loaded\");\n        run_callbacks()\n      }\n    }\n\n    function on_error() {\n      console.error(\"failed to load \" + url);\n    }\n\n    for (var i = 0; i < css_urls.length; i++) {\n      var url = css_urls[i];\n      const element = document.createElement(\"link\");\n      element.onload = on_load;\n      element.onerror = on_error;\n      element.rel = \"stylesheet\";\n      element.type = \"text/css\";\n      element.href = url;\n      console.debug(\"Bokeh: injecting link tag for BokehJS stylesheet: \", url);\n      document.body.appendChild(element);\n    }\n\n    for (var i = 0; i < js_urls.length; i++) {\n      var url = js_urls[i];\n      var element = document.createElement('script');\n      element.onload = on_load;\n      element.onerror = on_error;\n      element.async = false;\n      element.src = url;\n      console.debug(\"Bokeh: injecting script tag for BokehJS library: \", url);\n      document.head.appendChild(element);\n    }\n  };var element = document.getElementById(\"1002\");\n  if (element == null) {\n    console.error(\"Bokeh: ERROR: autoload.js configured with elementid '1002' but no matching script tag was found. \")\n    return false;\n  }\n\n  function inject_raw_css(css) {\n    const element = document.createElement(\"style\");\n    element.appendChild(document.createTextNode(css));\n    document.body.appendChild(element);\n  }\n\n  var js_urls = [\"https://cdn.pydata.org/bokeh/release/bokeh-1.2.0.min.js\", \"https://cdn.pydata.org/bokeh/release/bokeh-widgets-1.2.0.min.js\", \"https://cdn.pydata.org/bokeh/release/bokeh-tables-1.2.0.min.js\", \"https://cdn.pydata.org/bokeh/release/bokeh-gl-1.2.0.min.js\"];\n  var css_urls = [\"https://cdn.pydata.org/bokeh/release/bokeh-1.2.0.min.css\", \"https://cdn.pydata.org/bokeh/release/bokeh-widgets-1.2.0.min.css\", \"https://cdn.pydata.org/bokeh/release/bokeh-tables-1.2.0.min.css\"];\n\n  var inline_js = [\n    function(Bokeh) {\n      Bokeh.set_log_level(\"info\");\n    },\n    \n    function(Bokeh) {\n      \n    },\n    function(Bokeh) {} // ensure no trailing comma for IE\n  ];\n\n  function run_inline_js() {\n    \n    if ((root.Bokeh !== undefined) || (force === true)) {\n      for (var i = 0; i < inline_js.length; i++) {\n        inline_js[i].call(root, root.Bokeh);\n      }if (force === true) {\n        display_loaded();\n      }} else if (Date.now() < root._bokeh_timeout) {\n      setTimeout(run_inline_js, 100);\n    } else if (!root._bokeh_failed_load) {\n      console.log(\"Bokeh: BokehJS failed to load within specified timeout.\");\n      root._bokeh_failed_load = true;\n    } else if (force !== true) {\n      var cell = $(document.getElementById(\"1002\")).parents('.cell').data().cell;\n      cell.output_area.append_execute_result(NB_LOAD_WARNING)\n    }\n\n  }\n\n  if (root._bokeh_is_loading === 0) {\n    console.debug(\"Bokeh: BokehJS loaded, going straight to plotting\");\n    run_inline_js();\n  } else {\n    load_libs(css_urls, js_urls, function() {\n      console.debug(\"Bokeh: BokehJS plotting callback run at\", now());\n      run_inline_js();\n    });\n  }\n}(window));"
     },
     "metadata": {},
     "output_type": "display_data"
    }
   ],
   "source": [
    "from bokeh.plotting import figure, show, output_notebook\n",
    "output_notebook()"
   ]
  },
  {
   "cell_type": "code",
   "execution_count": 5,
   "metadata": {},
   "outputs": [],
   "source": [
    "import bokeh.models.mappers"
   ]
  },
  {
   "cell_type": "markdown",
   "metadata": {},
   "source": [
    "## CADD annotation"
   ]
  },
  {
   "cell_type": "code",
   "execution_count": null,
   "metadata": {},
   "outputs": [],
   "source": [
    "mt = hl.read_matrix_table('/net/archive/groups/plggneuromol/GTS-analysis/data/GTS-with-pheno.mt')"
   ]
  },
  {
   "cell_type": "code",
   "execution_count": null,
   "metadata": {},
   "outputs": [],
   "source": [
    "cd = hl.import_table('/net/archive/groups/plggneuromol/GTS-analysis/cadd/whole_genome_SNVs.tsv.gz', force_bgz = True, delimiter='\\t', comment='#', \n",
    "                     types = {'f0':'tstr', 'f1':'tint', 'f2':'tstr', 'f3':'tstr', 'f4':'tfloat', 'f5':'tfloat'},\n",
    "                     no_header = True)"
   ]
  },
  {
   "cell_type": "code",
   "execution_count": null,
   "metadata": {},
   "outputs": [],
   "source": [
    "cd = cd.select(variants = hl.parse_variant('chr'+hl.str(cd.f0)+':'+hl.str(cd.f1)+':'+hl.str(cd.f2)+':'+hl.str(cd.f3), reference_genome='GRCh38'),\n",
    "               cadd_score = cd.f5)"
   ]
  },
  {
   "cell_type": "code",
   "execution_count": null,
   "metadata": {},
   "outputs": [],
   "source": [
    "cd = hl.read_table('/net/archive/groups/plggneuromol/GTS-analysis/data/cadd-all.mt')"
   ]
  },
  {
   "cell_type": "code",
   "execution_count": null,
   "metadata": {},
   "outputs": [],
   "source": [
    "contigs = ['chr1',\n",
    " 'chr2',\n",
    " 'chr3',\n",
    " 'chr4',\n",
    " 'chr5',\n",
    " 'chr6',\n",
    " 'chr7',\n",
    " 'chr8',\n",
    " 'chr9',\n",
    " 'chr10',\n",
    " 'chr11',\n",
    " 'chr12',\n",
    " 'chr13',\n",
    " 'chr14',\n",
    " 'chr15',\n",
    " 'chr16',\n",
    " 'chr17',\n",
    " 'chr18',\n",
    " 'chr19',\n",
    " 'chr20',\n",
    " 'chr21',\n",
    " 'chr22']"
   ]
  },
  {
   "cell_type": "code",
   "execution_count": null,
   "metadata": {},
   "outputs": [],
   "source": [
    "for c in contigs:\n",
    "    cd_chr = cd.filter(cd.variants.locus.contig == c)\n",
    "    cd_chr = cd_chr.key_by(cd_chr.variants.locus,cd_chr.variants.alleles)\n",
    "    cd_chr.write('/net/archive/groups/plggneuromol/GTS-analysis/data/cadd-per-chr/'+c+'_cadd.mt')\n",
    "    \n",
    "cd_chr = cd.filter(hl.array(contigs).contains(cd.variants.locus.contig), keep = False)\n",
    "cd_chr = cd_chr.key_by(cd_chr.variants.locus,cd_chr.variants.alleles)\n",
    "cd_chr.write('/net/archive/groups/plggneuromol/GTS-analysis/data/cadd-per-chr/other_chroms_cadd.mt')"
   ]
  },
  {
   "cell_type": "code",
   "execution_count": null,
   "metadata": {},
   "outputs": [],
   "source": [
    "#do the same for mts\n",
    "for c in contigs:\n",
    "    mt_chr = mt.filter_rows(mt.locus.contig == c)\n",
    "    cd = hl.read_table('/net/archive/groups/plggneuromol/GTS-analysis/data/cadd-per-chr/'+c+'_cadd.mt')\n",
    "    \n",
    "    mt_chr = mt_chr.annotate_rows(cadd = cd[mt_chr.row_key])\n",
    "    mt_chr.write('/net/archive/groups/plggneuromol/GTS-analysis/data/mt-annotated-per-chr/'+c+'-anno.mt')"
   ]
  },
  {
   "cell_type": "code",
   "execution_count": null,
   "metadata": {},
   "outputs": [],
   "source": [
    "cd = hl.read_table('/net/archive/groups/plggneuromol/GTS-analysis/data/cadd-per-chr/other_chroms_cadd.mt')\n",
    "\n",
    "mt_chr = mt.filter_rows(hl.array(contigs).contains(mt.locus.contig), keep = False)\n",
    "\n",
    "mt_chr = mt_chr.annotate_rows(cadd =cd[mt_chr.row_key])\n",
    "\n",
    "mt_chr.write('/net/archive/groups/plggneuromol/GTS-analysis/data/mt-annotated-per-chr/other_chroms-anno.mt')"
   ]
  },
  {
   "cell_type": "code",
   "execution_count": null,
   "metadata": {},
   "outputs": [],
   "source": [
    "#now read all the matrices and join\n",
    "mts = !ls /net/archive/groups/plggneuromol/GTS-analysis/data/mt-annotated-per-chr"
   ]
  },
  {
   "cell_type": "code",
   "execution_count": null,
   "metadata": {},
   "outputs": [],
   "source": [
    "mt_chr = []\n",
    "\n",
    "for m in mts:\n",
    "    mt_chr.append(hl.read_matrix_table('/net/archive/groups/plggneuromol/GTS-analysis/data/mt-annotated-per-chr/'+m)) "
   ]
  },
  {
   "cell_type": "code",
   "execution_count": null,
   "metadata": {},
   "outputs": [],
   "source": [
    "mt = hl.MatrixTable.union_rows(*mt_chr)"
   ]
  },
  {
   "cell_type": "code",
   "execution_count": null,
   "metadata": {},
   "outputs": [],
   "source": [
    "mt = mt.transmute_rows(cadd = mt.cadd.cadd_score)"
   ]
  },
  {
   "cell_type": "code",
   "execution_count": null,
   "metadata": {
    "scrolled": true
   },
   "outputs": [],
   "source": [
    "mt.write('/net/archive/groups/plggneuromol/GTS-analysis/data/GTS-pheno-cadd.mt')"
   ]
  },
  {
   "cell_type": "code",
   "execution_count": null,
   "metadata": {},
   "outputs": [],
   "source": [
    "mt = hl.read_matrix_table('/net/archive/groups/plggneuromol/GTS-analysis/data/GTS-pheno-cadd.mt')"
   ]
  },
  {
   "cell_type": "markdown",
   "metadata": {},
   "source": [
    "## join with gnomad"
   ]
  },
  {
   "cell_type": "code",
   "execution_count": null,
   "metadata": {},
   "outputs": [],
   "source": [
    "gd = hl.read_matrix_table('/net/archive/groups/plggneuromol/GTS-analysis/gnomad/gnomad-ready-to-join.ht')"
   ]
  },
  {
   "cell_type": "code",
   "execution_count": null,
   "metadata": {},
   "outputs": [],
   "source": [
    "#adjust column schema:\n",
    "\n",
    "gd = gd.annotate_cols(s = hl.str(hl.str(gd.col_idx)+'gnomad'),\n",
    "                      phenotypes = hl.struct(family = hl.str('gnomad'),\n",
    "                                             sex = hl.str('gnomad'),\n",
    "                                             kinship = hl.str('gnomad'),\n",
    "                                             disease = hl.str('gnomad'),\n",
    "                                             phenotype = hl.str('gnomad'),\n",
    "                                             add_pheno = hl.str('gnomad'),\n",
    "                                             heavy_tics = hl.str('gnomad')))\n",
    "                      "
   ]
  },
  {
   "cell_type": "code",
   "execution_count": null,
   "metadata": {},
   "outputs": [],
   "source": [
    "gd = gd.key_cols_by(gd.s)"
   ]
  },
  {
   "cell_type": "code",
   "execution_count": null,
   "metadata": {
    "scrolled": true
   },
   "outputs": [],
   "source": [
    "gd = gd.drop(gd.col_idx)"
   ]
  },
  {
   "cell_type": "code",
   "execution_count": null,
   "metadata": {},
   "outputs": [],
   "source": [
    "mt = mt.union_cols(gd, row_join_type='outer')"
   ]
  },
  {
   "cell_type": "code",
   "execution_count": null,
   "metadata": {},
   "outputs": [],
   "source": [
    "#filter out any rows that contain only refs:\n",
    "\n",
    "mt = mt.filter_rows(hl.agg.any(mt.GT.is_non_ref()))"
   ]
  },
  {
   "cell_type": "code",
   "execution_count": null,
   "metadata": {},
   "outputs": [],
   "source": [
    "mt.write('/net/archive/groups/plggneuromol/GTS-analysis/data/GTS-gnomad.mt')"
   ]
  },
  {
   "cell_type": "markdown",
   "metadata": {},
   "source": [
    "## annotate mt with nearest_genes_20kb\n",
    "\n"
   ]
  },
  {
   "cell_type": "code",
   "execution_count": null,
   "metadata": {},
   "outputs": [],
   "source": [
    "genes = hl.read_table('/net/archive/groups/plggneuromol/GTS-analysis/vcf_preprocessing/genecode_v32.ht')\n",
    "genes = genes.filter(hl.is_valid_contig(genes['hg38.knownGene.chrom'], reference_genome='GRCh38'))\n",
    "\n",
    "\n",
    "start = hl.cond(genes['hg38.knownGene.txStart'] < 20000, 1, genes['hg38.knownGene.txStart'] - 20000)\n",
    "stop =  hl.cond(hl.contig_length(genes['hg38.knownGene.chrom'], reference_genome='GRCh38') - genes['hg38.knownGene.txEnd'] < 20000, \n",
    "                hl.contig_length(genes['hg38.knownGene.chrom'], reference_genome='GRCh38'),\n",
    "                genes['hg38.knownGene.txEnd'] + 20000)\n",
    "\n",
    "genes = genes.transmute(interval = \n",
    "                        hl.locus_interval(genes['hg38.knownGene.chrom'], \n",
    "                                          start,\n",
    "                                          stop,\n",
    "                                          reference_genome='GRCh38'))\n",
    "\n",
    "genes = genes.key_by(genes.interval)\n",
    "\n",
    "mt = mt.annotate_rows(nearest_genes_20kb = hl.array(hl.set(genes.index(mt.locus, all_matches=True)['hg38.kgXref.geneSymbol'])))"
   ]
  },
  {
   "cell_type": "markdown",
   "metadata": {},
   "source": [
    "## Make the simulated controls gender equal"
   ]
  },
  {
   "cell_type": "markdown",
   "metadata": {},
   "source": [
    "PAR coordinates in GrCh38: http://m.ensembl.org/info/genome/genebuild/human_PARS.html"
   ]
  },
  {
   "cell_type": "code",
   "execution_count": null,
   "metadata": {},
   "outputs": [],
   "source": [
    "par1 = [10001,2781479]\n",
    "par2 = [155701383,156030895]"
   ]
  },
  {
   "cell_type": "code",
   "execution_count": null,
   "metadata": {},
   "outputs": [],
   "source": [
    "rg = hl.get_reference('GRCh38')"
   ]
  },
  {
   "cell_type": "code",
   "execution_count": null,
   "metadata": {},
   "outputs": [],
   "source": [
    "rg.lengths['chrX']"
   ]
  },
  {
   "cell_type": "code",
   "execution_count": null,
   "metadata": {},
   "outputs": [],
   "source": [
    "nonpars = [[1,10000],[2781480,155701382]]"
   ]
  },
  {
   "cell_type": "markdown",
   "metadata": {},
   "source": [
    "### first see sex distribution in our samples"
   ]
  },
  {
   "cell_type": "code",
   "execution_count": null,
   "metadata": {},
   "outputs": [],
   "source": [
    "samples = mt.s.collect()"
   ]
  },
  {
   "cell_type": "code",
   "execution_count": null,
   "metadata": {},
   "outputs": [],
   "source": [
    "gnomad_females = samples[185:(185+70)] "
   ]
  },
  {
   "cell_type": "code",
   "execution_count": null,
   "metadata": {},
   "outputs": [],
   "source": [
    "gnomads_males = samples[(185+70):]"
   ]
  },
  {
   "cell_type": "code",
   "execution_count": null,
   "metadata": {},
   "outputs": [],
   "source": [
    "mt = mt.transmute_cols(phenotypes = mt.phenotypes.annotate(sex = hl.cond(mt.s.contains('gnomad'),\n",
    "                                                      hl.cond(hl.array(gnomad_females).contains(mt.s),\n",
    "                                                            'F', 'M'),\n",
    "                                                      mt.phenotypes['sex'])))"
   ]
  },
  {
   "cell_type": "code",
   "execution_count": null,
   "metadata": {},
   "outputs": [],
   "source": [
    "mt.aggregate_cols(hl.agg.counter(mt.phenotypes['sex']))"
   ]
  },
  {
   "cell_type": "code",
   "execution_count": null,
   "metadata": {},
   "outputs": [],
   "source": [
    "mt = mt.annotate_entries(GT = hl.cond(\n",
    "                         mt.locus.contig == 'chrX',\n",
    "                         hl.cond(\n",
    "                            mt.phenotypes['sex'] == 'F',\n",
    "                            mt.GT,\n",
    "                            hl.cond(\n",
    "                                mt.locus.position > nonpars[1][1], \n",
    "                                mt.GT,\n",
    "                                hl.cond(\n",
    "                                    mt.locus.position < nonpars[0][1],\n",
    "                                    hl.cond(\n",
    "                                        mt.locus.position > nonpars[0][0],\n",
    "                                        mt.GT,\n",
    "                                        hl.call(mt.GT[0], mt.GT[0])),\n",
    "                                    hl.call(mt.GT[0], mt.GT[0])))),\n",
    "                         mt.GT))     "
   ]
  },
  {
   "cell_type": "code",
   "execution_count": null,
   "metadata": {},
   "outputs": [],
   "source": [
    "#mt.write('/net/archive/groups/plggneuromol/GTS-analysis/data/GTS-gnomad-sex.mt')"
   ]
  },
  {
   "cell_type": "markdown",
   "metadata": {},
   "source": [
    "prepare matrix tables"
   ]
  },
  {
   "cell_type": "code",
   "execution_count": null,
   "metadata": {},
   "outputs": [],
   "source": [
    "mt = hl.read_matrix_table('/net/archive/groups/plggneuromol/GTS-analysis/data/GTS-gnomad-sex.mt')"
   ]
  },
  {
   "cell_type": "code",
   "execution_count": null,
   "metadata": {},
   "outputs": [],
   "source": [
    "mt = mt.filter_rows(mt.cadd > 0) # this is so I don't do too many tests"
   ]
  },
  {
   "cell_type": "code",
   "execution_count": null,
   "metadata": {},
   "outputs": [],
   "source": [
    "mt_subset = mt.sample_rows(0.002)"
   ]
  },
  {
   "cell_type": "code",
   "execution_count": null,
   "metadata": {},
   "outputs": [],
   "source": [
    "mt.count()"
   ]
  },
  {
   "cell_type": "code",
   "execution_count": null,
   "metadata": {},
   "outputs": [],
   "source": [
    "mt_subset.count()"
   ]
  },
  {
   "cell_type": "code",
   "execution_count": null,
   "metadata": {},
   "outputs": [],
   "source": [
    "mt = mt.annotate_cols(category = hl.cond(mt.s.contains('gnomad'), False, (mt.phenotypes.disease == 'YES')))\n",
    "mt_subset = mt_subset.annotate_cols(category = hl.cond(mt_subset.s.contains('gnomad'), False, (mt_subset.phenotypes.disease == 'YES')))\n",
    "\n",
    "mt = mt.filter_cols((mt.s.contains('gnomad')) | ((mt.phenotypes.family =='.') & (mt.phenotypes.disease =='YES')))\n",
    "mt_subset = mt_subset.filter_cols((mt_subset.s.contains('gnomad')) | ((mt_subset.phenotypes.family =='.') & (mt_subset.phenotypes.disease =='YES')))\n",
    "samples = mt.s.collect()\n",
    "\n",
    "#first 70 gnomad samples are females\n",
    "\n",
    "to_keep = samples[0:44] + samples[110:144]\n",
    "mt = mt.filter_cols(hl.array(to_keep).contains(mt.s)) # filter out excessive gnomads\n",
    "mt_subset = mt_subset.filter_cols(hl.array(to_keep).contains(mt_subset.s))"
   ]
  },
  {
   "cell_type": "code",
   "execution_count": null,
   "metadata": {},
   "outputs": [],
   "source": [
    "mt_test = hl.read_matrix_table('/net/archive/groups/plggneuromol/GTS-analysis/data/GTS-gnomad-sex.mt')\n",
    "mt_test = mt_test.filter_rows(mt_test.cadd > 0) \n",
    "mt_test = mt_test.annotate_cols(category = hl.cond(mt_test.s.contains('gnomad'), False, (mt_test.phenotypes.disease == 'YES')))\n",
    "mt_test = mt_test.filter_cols(mt_test.phenotypes.family == '.', keep = False)\n",
    "mt_test = mt_test.filter_cols((mt_test.phenotypes.disease == 'YES') | (mt_test.phenotypes.disease == 'NO'))"
   ]
  },
  {
   "cell_type": "code",
   "execution_count": null,
   "metadata": {},
   "outputs": [],
   "source": [
    "# generate new alternative data subsets:\n",
    "mt = hl.read_matrix_table('/net/archive/groups/plggneuromol/GTS-analysis/data/mt-for-skat.mt')\n",
    "\n",
    "\n",
    "mt_subset_2 = mt.sample_rows(0.002)\n",
    "mt_subset_2.write('/net/archive/groups/plggneuromol/GTS-analysis/data/mt-subset-2.mt')"
   ]
  },
  {
   "cell_type": "code",
   "execution_count": 7,
   "metadata": {},
   "outputs": [
    {
     "name": "stderr",
     "output_type": "stream",
     "text": [
      "2020-10-29 11:20:54 Hail: INFO: wrote matrix table with 12721 rows and 78 columns in 6622 partitions to /net/archive/groups/plggneuromol/GTS-analysis/data/mt-subset-3.mt\n"
     ]
    }
   ],
   "source": [
    "mt_subset_3 = mt.sample_rows(0.002)\n",
    "mt_subset_3.write('/net/archive/groups/plggneuromol/GTS-analysis/data/mt-subset-3.mt')"
   ]
  },
  {
   "cell_type": "code",
   "execution_count": null,
   "metadata": {},
   "outputs": [],
   "source": [
    "mt.write('/net/archive/groups/plggneuromol/GTS-analysis/data/mt-for-skat.mt')\n",
    "mt_subset.write('/net/archive/groups/plggneuromol/GTS-analysis/data/mt-subset.mt')\n",
    "mt_test.write('/net/archive/groups/plggneuromol/GTS-analysis/data/mt-test.mt')"
   ]
  },
  {
   "cell_type": "markdown",
   "metadata": {},
   "source": [
    "### Perform PCA on subseted genotypes:"
   ]
  },
  {
   "cell_type": "code",
   "execution_count": 6,
   "metadata": {},
   "outputs": [],
   "source": [
    "# this matrix table has 39 gnomads that we need for PCA, but lacks normal samples\n",
    "mt_gnomads = hl.read_matrix_table('/net/archive/groups/plggneuromol/GTS-analysis/data/mt-for-skat.mt')\n",
    "\n",
    "#this matrix table has all the samples but too many gnomads\n",
    "mt = hl.read_matrix_table('/net/archive/groups/plggneuromol/GTS-analysis/data/GTS-gnomad-sex.mt')"
   ]
  },
  {
   "cell_type": "code",
   "execution_count": 7,
   "metadata": {},
   "outputs": [],
   "source": [
    "gnomads = mt_gnomads.s.collect()"
   ]
  },
  {
   "cell_type": "code",
   "execution_count": 8,
   "metadata": {},
   "outputs": [],
   "source": [
    "gnomads = gnomads[39:]"
   ]
  },
  {
   "cell_type": "code",
   "execution_count": 9,
   "metadata": {},
   "outputs": [],
   "source": [
    "samples = mt.s.collect()"
   ]
  },
  {
   "cell_type": "code",
   "execution_count": 10,
   "metadata": {},
   "outputs": [],
   "source": [
    "samples = samples[0:185]"
   ]
  },
  {
   "cell_type": "code",
   "execution_count": 11,
   "metadata": {},
   "outputs": [],
   "source": [
    "to_keep = gnomads + samples"
   ]
  },
  {
   "cell_type": "code",
   "execution_count": 12,
   "metadata": {},
   "outputs": [],
   "source": [
    "mt = mt.filter_cols(hl.array(to_keep).contains(mt.s))"
   ]
  },
  {
   "cell_type": "code",
   "execution_count": 13,
   "metadata": {},
   "outputs": [
    {
     "data": {
      "text/plain": [
       "(11825581, 224)"
      ]
     },
     "execution_count": 13,
     "metadata": {},
     "output_type": "execute_result"
    }
   ],
   "source": [
    "mt.count()"
   ]
  },
  {
   "cell_type": "markdown",
   "metadata": {},
   "source": [
    "Remove excesive GnomADs (we only need 39, the same samples go into the SKAT test)"
   ]
  },
  {
   "cell_type": "code",
   "execution_count": 14,
   "metadata": {},
   "outputs": [],
   "source": [
    "subset = mt.sample_rows(0.001)"
   ]
  },
  {
   "cell_type": "code",
   "execution_count": 15,
   "metadata": {},
   "outputs": [
    {
     "data": {
      "text/plain": [
       "(11940, 224)"
      ]
     },
     "execution_count": 15,
     "metadata": {},
     "output_type": "execute_result"
    }
   ],
   "source": [
    "subset.count()"
   ]
  },
  {
   "cell_type": "code",
   "execution_count": 16,
   "metadata": {},
   "outputs": [
    {
     "name": "stderr",
     "output_type": "stream",
     "text": [
      "2021-02-14 18:43:10 Hail: INFO: wrote matrix table with 11940 rows and 224 columns in 6622 partitions to /net/archive/groups/plggneuromol/GTS-analysis/data/subset.mt\n"
     ]
    }
   ],
   "source": [
    "subset.write('/net/archive/groups/plggneuromol/GTS-analysis/data/subset.mt')"
   ]
  },
  {
   "cell_type": "code",
   "execution_count": 17,
   "metadata": {},
   "outputs": [],
   "source": [
    "subset = hl.read_matrix_table('/net/archive/groups/plggneuromol/GTS-analysis/data/subset.mt')"
   ]
  },
  {
   "cell_type": "code",
   "execution_count": 18,
   "metadata": {},
   "outputs": [
    {
     "name": "stderr",
     "output_type": "stream",
     "text": [
      "2021-02-14 18:43:25 Hail: INFO: hwe_normalized_pca: running PCA using 9154 variants.\n",
      "2021-02-14 18:43:39 Hail: INFO: pca: running PCA with 10 components...\n"
     ]
    }
   ],
   "source": [
    "eigenvalues, pcs, _ = hl.hwe_normalized_pca(subset.GT)"
   ]
  },
  {
   "cell_type": "code",
   "execution_count": 19,
   "metadata": {},
   "outputs": [],
   "source": [
    "mt = mt.annotate_cols(scores = pcs[mt.s].scores)"
   ]
  },
  {
   "cell_type": "code",
   "execution_count": 20,
   "metadata": {},
   "outputs": [
    {
     "name": "stderr",
     "output_type": "stream",
     "text": [
      "2021-02-14 19:14:22 Hail: INFO: wrote matrix table with 11825581 rows and 224 columns in 6622 partitions to /net/archive/groups/plggneuromol/GTS-analysis/data/pca.mt\n"
     ]
    }
   ],
   "source": [
    "mt.write('/net/archive/groups/plggneuromol/GTS-analysis/data/pca.mt')"
   ]
  },
  {
   "cell_type": "code",
   "execution_count": 6,
   "metadata": {},
   "outputs": [],
   "source": [
    "mt = hl.read_matrix_table('/net/archive/groups/plggneuromol/GTS-analysis/data/pca.mt')"
   ]
  },
  {
   "cell_type": "code",
   "execution_count": 7,
   "metadata": {},
   "outputs": [],
   "source": [
    "import bokeh.palettes\n",
    "from bokeh.models import CategoricalColorMapper"
   ]
  },
  {
   "cell_type": "code",
   "execution_count": 16,
   "metadata": {},
   "outputs": [],
   "source": [
    "colors = bokeh.palettes.plasma(26*8)"
   ]
  },
  {
   "cell_type": "code",
   "execution_count": 17,
   "metadata": {},
   "outputs": [],
   "source": [
    "del colors[1::2] #run this 3times to remove every second color\n",
    "del colors[1::2]\n",
    "del colors[1::2]"
   ]
  },
  {
   "cell_type": "code",
   "execution_count": 18,
   "metadata": {},
   "outputs": [
    {
     "data": {
      "text/plain": [
       "26"
      ]
     },
     "execution_count": 18,
     "metadata": {},
     "output_type": "execute_result"
    }
   ],
   "source": [
    "len(colors)"
   ]
  },
  {
   "cell_type": "code",
   "execution_count": 19,
   "metadata": {},
   "outputs": [],
   "source": [
    "p = hl.plot.scatter(mt.scores[0],\n",
    "                    mt.scores[1],\n",
    "                    label=(mt.phenotypes.family),\n",
    "                    title='PCA', xlabel='PC1', ylabel='PC2',\n",
    "                    colors = CategoricalColorMapper(palette=colors, factors=list(set(mt.phenotypes.family.collect()))))\n",
    "\n",
    "p.xaxis.axis_label_text_font_size = \"15pt\"\n",
    "p.xaxis.major_label_text_font_size = \"15pt\"\n",
    "p.yaxis.axis_label_text_font_size = \"15pt\"\n",
    "p.yaxis.major_label_text_font_size = \"15pt\""
   ]
  },
  {
   "cell_type": "code",
   "execution_count": 20,
   "metadata": {},
   "outputs": [
    {
     "data": {
      "text/html": [
       "\n",
       "\n",
       "\n",
       "\n",
       "\n",
       "\n",
       "  <div class=\"bk-root\" id=\"1b3d02d1-398c-4f12-8236-58c4cca54d3d\" data-root-id=\"1004\"></div>\n"
      ]
     },
     "metadata": {},
     "output_type": "display_data"
    },
    {
     "data": {
      "application/javascript": [
       "(function(root) {\n",
       "  function embed_document(root) {\n",
       "    \n",
       "  var docs_json = {\"468633bb-dcc1-443c-887d-e475a1f29cd1\":{\"roots\":{\"references\":[{\"attributes\":{\"below\":[{\"id\":\"1015\",\"type\":\"LinearAxis\"}],\"center\":[{\"id\":\"1019\",\"type\":\"Grid\"},{\"id\":\"1024\",\"type\":\"Grid\"}],\"left\":[{\"id\":\"1020\",\"type\":\"LinearAxis\"},{\"id\":\"1223\",\"type\":\"Legend\"},{\"id\":\"1224\",\"type\":\"ColorBar\"}],\"plot_height\":800,\"plot_width\":800,\"renderers\":[{\"id\":\"1046\",\"type\":\"GlyphRenderer\"},{\"id\":\"1052\",\"type\":\"GlyphRenderer\"},{\"id\":\"1058\",\"type\":\"GlyphRenderer\"},{\"id\":\"1064\",\"type\":\"GlyphRenderer\"},{\"id\":\"1070\",\"type\":\"GlyphRenderer\"},{\"id\":\"1076\",\"type\":\"GlyphRenderer\"},{\"id\":\"1082\",\"type\":\"GlyphRenderer\"},{\"id\":\"1088\",\"type\":\"GlyphRenderer\"},{\"id\":\"1094\",\"type\":\"GlyphRenderer\"},{\"id\":\"1100\",\"type\":\"GlyphRenderer\"},{\"id\":\"1106\",\"type\":\"GlyphRenderer\"},{\"id\":\"1112\",\"type\":\"GlyphRenderer\"},{\"id\":\"1118\",\"type\":\"GlyphRenderer\"},{\"id\":\"1124\",\"type\":\"GlyphRenderer\"},{\"id\":\"1130\",\"type\":\"GlyphRenderer\"},{\"id\":\"1136\",\"type\":\"GlyphRenderer\"},{\"id\":\"1142\",\"type\":\"GlyphRenderer\"},{\"id\":\"1148\",\"type\":\"GlyphRenderer\"},{\"id\":\"1154\",\"type\":\"GlyphRenderer\"},{\"id\":\"1160\",\"type\":\"GlyphRenderer\"},{\"id\":\"1166\",\"type\":\"GlyphRenderer\"},{\"id\":\"1172\",\"type\":\"GlyphRenderer\"},{\"id\":\"1178\",\"type\":\"GlyphRenderer\"},{\"id\":\"1184\",\"type\":\"GlyphRenderer\"},{\"id\":\"1190\",\"type\":\"GlyphRenderer\"},{\"id\":\"1196\",\"type\":\"GlyphRenderer\"}],\"title\":{\"id\":\"1005\",\"type\":\"Title\"},\"toolbar\":{\"id\":\"1031\",\"type\":\"Toolbar\"},\"x_range\":{\"id\":\"1007\",\"type\":\"DataRange1d\"},\"x_scale\":{\"id\":\"1011\",\"type\":\"LinearScale\"},\"y_range\":{\"id\":\"1009\",\"type\":\"DataRange1d\"},\"y_scale\":{\"id\":\"1013\",\"type\":\"LinearScale\"}},\"id\":\"1004\",\"subtype\":\"Figure\",\"type\":\"Plot\"},{\"attributes\":{\"data_source\":{\"id\":\"1040\",\"type\":\"ColumnDataSource\"},\"glyph\":{\"id\":\"1074\",\"type\":\"Circle\"},\"hover_glyph\":null,\"muted_glyph\":null,\"nonselection_glyph\":{\"id\":\"1075\",\"type\":\"Circle\"},\"selection_glyph\":null,\"view\":{\"id\":\"1072\",\"type\":\"CDSView\"}},\"id\":\"1076\",\"type\":\"GlyphRenderer\"},{\"attributes\":{\"filters\":[{\"id\":\"1191\",\"type\":\"GroupFilter\"}],\"source\":{\"id\":\"1040\",\"type\":\"ColumnDataSource\"}},\"id\":\"1192\",\"type\":\"CDSView\"},{\"attributes\":{},\"id\":\"1029\",\"type\":\"ResetTool\"},{\"attributes\":{\"fill_color\":{\"field\":\"label\",\"transform\":{\"id\":\"1003\",\"type\":\"CategoricalColorMapper\"}},\"line_color\":{\"field\":\"label\",\"transform\":{\"id\":\"1003\",\"type\":\"CategoricalColorMapper\"}},\"x\":{\"field\":\"x\"},\"y\":{\"field\":\"y\"}},\"id\":\"1158\",\"type\":\"Circle\"},{\"attributes\":{\"column_name\":\"label\",\"group\":\"F\"},\"id\":\"1077\",\"type\":\"GroupFilter\"},{\"attributes\":{},\"id\":\"1025\",\"type\":\"PanTool\"},{\"attributes\":{\"filters\":[{\"id\":\"1077\",\"type\":\"GroupFilter\"}],\"source\":{\"id\":\"1040\",\"type\":\"ColumnDataSource\"}},\"id\":\"1078\",\"type\":\"CDSView\"},{\"attributes\":{\"fill_alpha\":{\"value\":0.1},\"fill_color\":{\"value\":\"#1f77b4\"},\"line_alpha\":{\"value\":0.1},\"line_color\":{\"value\":\"#1f77b4\"},\"x\":{\"field\":\"x\"},\"y\":{\"field\":\"y\"}},\"id\":\"1159\",\"type\":\"Circle\"},{\"attributes\":{\"data_source\":{\"id\":\"1040\",\"type\":\"ColumnDataSource\"},\"glyph\":{\"id\":\"1158\",\"type\":\"Circle\"},\"hover_glyph\":null,\"muted_glyph\":null,\"nonselection_glyph\":{\"id\":\"1159\",\"type\":\"Circle\"},\"selection_glyph\":null,\"view\":{\"id\":\"1156\",\"type\":\"CDSView\"}},\"id\":\"1160\",\"type\":\"GlyphRenderer\"},{\"attributes\":{\"label\":{\"value\":\"H\"},\"renderers\":[{\"id\":\"1094\",\"type\":\"GlyphRenderer\"}]},\"id\":\"1205\",\"type\":\"LegendItem\"},{\"attributes\":{\"bottom_units\":\"screen\",\"fill_alpha\":{\"value\":0.5},\"fill_color\":{\"value\":\"lightgrey\"},\"left_units\":\"screen\",\"level\":\"overlay\",\"line_alpha\":{\"value\":1.0},\"line_color\":{\"value\":\"black\"},\"line_dash\":[4,4],\"line_width\":{\"value\":2},\"render_mode\":\"css\",\"right_units\":\"screen\",\"top_units\":\"screen\"},\"id\":\"1232\",\"type\":\"BoxAnnotation\"},{\"attributes\":{\"column_name\":\"label\",\"group\":\"Z\"},\"id\":\"1185\",\"type\":\"GroupFilter\"},{\"attributes\":{\"label\":{\"value\":\"I\"},\"renderers\":[{\"id\":\"1100\",\"type\":\"GlyphRenderer\"}]},\"id\":\"1206\",\"type\":\"LegendItem\"},{\"attributes\":{\"callback\":null,\"tooltips\":[[\"x\",\"@x\"],[\"y\",\"@y\"],[\"label\",\"@label\"]]},\"id\":\"1039\",\"type\":\"HoverTool\"},{\"attributes\":{\"fill_color\":{\"field\":\"label\",\"transform\":{\"id\":\"1003\",\"type\":\"CategoricalColorMapper\"}},\"line_color\":{\"field\":\"label\",\"transform\":{\"id\":\"1003\",\"type\":\"CategoricalColorMapper\"}},\"x\":{\"field\":\"x\"},\"y\":{\"field\":\"y\"}},\"id\":\"1080\",\"type\":\"Circle\"},{\"attributes\":{\"column_name\":\"label\",\"group\":\"U\"},\"id\":\"1161\",\"type\":\"GroupFilter\"},{\"attributes\":{\"label\":{\"value\":\"J\"},\"renderers\":[{\"id\":\"1106\",\"type\":\"GlyphRenderer\"}]},\"id\":\"1207\",\"type\":\"LegendItem\"},{\"attributes\":{\"fill_alpha\":{\"value\":0.1},\"fill_color\":{\"value\":\"#1f77b4\"},\"line_alpha\":{\"value\":0.1},\"line_color\":{\"value\":\"#1f77b4\"},\"x\":{\"field\":\"x\"},\"y\":{\"field\":\"y\"}},\"id\":\"1081\",\"type\":\"Circle\"},{\"attributes\":{\"filters\":[{\"id\":\"1161\",\"type\":\"GroupFilter\"}],\"source\":{\"id\":\"1040\",\"type\":\"ColumnDataSource\"}},\"id\":\"1162\",\"type\":\"CDSView\"},{\"attributes\":{\"callback\":null,\"data\":{\"index\":[0,1,2,3,4,5,6,7,8,9,10,11,12,13,14,15,16,17,18,19,20,21,22,23,24,25,26,27,28,29,30,31,32,33,34,35,36,37,38,39,40,41,42,43,44,45,46,47,48,49,50,51,52,53,54,55,56,57,58,59,60,61,62,63,64,65,66,67,68,69,70,71,72,73,74,75,76,77,78,79,80,81,82,83,84,85,86,87,88,89,90,91,92,93,94,95,96,97,98,99,100,101,102,103,104,105,106,107,108,109,110,111,112,113,114,115,116,117,118,119,120,121,122,123,124,125,126,127,128,129,130,131,132,133,134,135,136,137,138,139,140,141,142,143,144,145,146,147,148,149,150,151,152,153,154,155,156,157,158,159,160,161,162,163,164,165,166,167,168,169,170,171,172,173,174,175,176,177,178,179,180,181,182,183,184,185,186,187,188,189,190,191,192,193,194,195,196,197,198,199,200,201,202,203,204,205,206,207,208,209,210,211,212,213,214,215],\"label\":[\"F\",\"F\",\"F\",\"F\",\"F\",\"F\",\"F\",\"F\",\"F\",\"F\",\"H\",\"A\",\"A\",\"A\",\"A\",\"A\",\"F\",\"E\",\"B\",\"A\",\"I\",\"H\",\"E\",\"I\",\"T\",\"G\",\"I\",\"A\",\"E\",\"B\",\"B\",\"C\",\"G\",\"H\",\"B\",\"C\",\"G\",\".\",\"T\",\"B\",\"E\",\"S\",\"I\",\"B\",\"H\",\"S\",\"C\",\"J\",\"G\",\"T\",\"E\",\"J\",\"I\",\"T\",\"H\",\"S\",\"S\",\"N\",\".\",\"H\",\"D\",\"I\",\"C\",\"O\",\"C\",\"D\",\"J\",\"L\",\"L\",\".\",\".\",\"N\",\"K\",\"E\",\"S\",\"D\",\"M\",\"O\",\"K\",\"J\",\".\",\".\",\"K\",\"C\",\"P\",\"C\",\"D\",\"D\",\"M\",\"T\",\"N\",\"B\",\"R\",\"J\",\".\",\".\",\".\",\".\",\".\",\"L\",\"M\",\"D\",\"D\",\"R\",\".\",\".\",\".\",\"E\",\".\",\"P\",\"P\",\".\",\".\",\"P\",\"R\",\".\",\"O\",\".\",\"Z\",\".\",\".\",\"S\",\".\",\".\",\"gnomad\",\"gnomad\",\".\",\"R\",\".\",\"B\",\".\",\"gnomad\",\".\",\"Z\",\".\",\"X\",\".\",\".\",\"T\",\"C\",\"C\",\"R\",\"gnomad\",\"gnomad\",\".\",\".\",\".\",\"gnomad\",\"T\",\"gnomad\",\"T\",\"gnomad\",\"U\",\"gnomad\",\"U\",\"gnomad\",\"gnomad\",\".\",\"gnomad\",\"gnomad\",\"gnomad\",\"gnomad\",\"gnomad\",\"gnomad\",\"gnomad\",\"gnomad\",\"gnomad\",\".\",\"gnomad\",\"gnomad\",\"gnomad\",\"gnomad\",\".\",\"R\",\"gnomad\",\"gnomad\",\"gnomad\",\"gnomad\",\"X\",\"U\",\"Y\",\"gnomad\",\"gnomad\",\"gnomad\",\"gnomad\",\"gnomad\",\"Y\",\"Y\",\"X\",\"X\",\"Z\",\"Y\",\"Y\",\"Y\",\"gnomad\",\".\",\"Y\",\"X\",\"U\",\"U\",\"gnomad\",\"Y\",\"W\",\"W\",\"W\",\"W\",\"W\",\"W\",\"W\",\"W\",\"W\",\"W\",\"W\",\"W\",\"W\",\"W\"],\"x\":{\"__ndarray__\":\"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\",\"dtype\":\"float64\",\"shape\":[216]},\"y\":{\"__ndarray__\":\"or6WOUwV4T9bnOgTIo/hP6UCn4Z8ieA/s90Ul5Et4T+N1yX0G2rgP8I1FUugGuA/o2WW7Mb02T9spmEg4AvXP+bxBBoZZNc/eDcejja61z/U6cL/qpSEv3QOfwqIFbO/VXzOCpDhsr8mOWxvPHa4v2yw/B5ROLW/eqI3jv+rsr82Ps/BBgfAPxHpSDKlH7i/bkRt9M5IoL+lWzESZ6+uv+5FuGHz1qy/SYQ663zshD+ygJVeAaPAv03OiyxMsqy/zvu5onelpr9Q9+jtP8qgv+B3UxmAL7K/JFS7n3BTuL9L8xggRwO/v10OYPxRr7W/OtCWt6hVsL9eAvKNmdarv7RyojFnK6a/8lNsbwLkTr83R4f6fzy3v9CE/krBi6y/OMuSZjIfor/Zs+Lkrk6Yvx/mOW6zC6W/fHi0dKJvtL8WbgA3+XW5vxiS8yCWori/aGI07hcgsb8GwRuHVeGXv+PYMzM/5n2/0pz27TDrtb/vdHeLWR2qv7b64YbCnae/WsB/uCo3ob8ApJAqVTaZvy6/wURQ2by/rMLeCRZ+pb/cK7VwlOejv8GS8bT/cZ+/6HScKcXykj/709X6nHKov2YemZpubLi/Ixu3B19le7+XGfJja7Fxv2uxWFNG6Iw/rgEFzV39tL/DcrZnXg6zv0eIKNS5tLC/mIPq11y6lr812s6stPiwv7JiYb38Tq6/p0rRnTZCrL/vRRwu8QOjv3qlAU4yGKK/fvqaWuyJob8+05NQMVGSvzyQlwN3fV+/VzoojUl+bD8UDSclKJu7v/o/IfwtZ7m/2KoWt+01s79VWx3/js+evx0JpDZ6d5e/KhjpPeqVcr/yBGWaOk2nv+HG2iTJq6a/p727hfcBpL+3UVZB5BeZv3vhdaH+7Za/1JqkLhi7sr9u66Ed0KGev8+gfJvw8ba/GwS51DbXsb9PWuhGX0mkv+NlAmLe2ny/pxsN1sQCaz9mqCrObZqvv61SPHx3D6m/6NLVQQ0HoL+Ij/yM2lSdv+paNOz4+Jm/vNca48Rbkr8tXJI0WStvv8HPnnhr/Uy/C3vC8kBOp79f+VGnqK+avxskSPAVfbq/qF+jHpygsL/9nP/d9lapv3AcqzCi15u/4Oe6S/ymjL+AiOSzs597v9cBFknFu7a/mSaeLR+glb92rWPnVMmxv/1Z63T1FLG/N74bx7bcm78nnTJisP+Uv0m970ngHLK/jpNj5vjMqb+o5OwJSW2Zv499x7aoCZO/ImYYiFSiI7/WA0wZXXyWv7Zev1eIb3U/SRsNbO8go79ggikZvjyuv5xJxlPbUZS/2SF0/Ca6jb+eDjGCjnKCv//Ua24BFXW/cyCMdt6KZ7/eQ/cngq+gv/QXdx8fCKy/x/LKzWd6bL9Q9xYe08BcPwqfoML9aZI/3RrAuMuFUj8hD1GX58t0Pw5ne3UOT5S/U7D2P5pHkb/TIMGdSi+Av1Mv5djszJe/qpBYtbpZgL8vNzIqaXZxv/89irZBgWm/yXkkSCDhQb/fG4aCdgGYv18fzmM5ypC/mXdWAo0Gir/c+uth2qN5vwIV+x1okYC/TPkA37PMRL9HjzGrw2eQP6RFPq+LGoi/mqXse0echz/y7Nqmc1uTv19jIX1wa3O/wPWNmB7Oib9dmdHvPY+Dv8lI5ZDo12c/Qxgob8B6nD9efYV4Fdyhvwt0bMvXZ5q/lb3i1CiOjr9CsAPh6s6Lv+A8Z2oj456/J1vJSr5Amb8oUAW9jt+Qv5knBTRFRIK/l4cGpfDhcb+lts5tna5svzZQiQvLKpq/PLe70ba9or8Q+3gUQjZlv+h1t+kQXG4/C64xi93wez/WraBD5vWgvz3sO4vy5Je/6ip5V5Sskr81GfjnZR6QvwCVkzPtfJe/YQWjpVMilr9rNMSGSUCDv81OCMlCW6G/gzzuxFZsjr8IEx8lWcB/v/PbHAhk7JI/ScPUGlKsh79EuRLu5rh9v4mnTPl7PZ2/iJ538PCtgr+X0Eh5bZdUv1N29HsA7XW/nr3Pzc41XD8VX9U4qjFuP0taqH6sqH8/NNc8LKPThb+ZTICt4JGMvx9BfoEUd3M/feQhgdDDor8/wQNpGdeQvxdzUAiLcpK/iir5uChUob/iZFPPu+ygv+AsQGuG45O/QP55lcFUgr86ztn79ZWFP6LLI5oVoIA/0PH7kDFspD9CZQ5WrcqIPzL+vaKCprc/91SEt+ahvT+Q1nKNXBu8PwWgkRSdEb0/uJarDVYOuT9YxDLCMhvAP+NuTlmxzcE/GI2Jwt2Vwj8u+gt6stXBPyQFcAwLrMU/\",\"dtype\":\"float64\",\"shape\":[216]}},\"selected\":{\"id\":\"1233\",\"type\":\"Selection\"},\"selection_policy\":{\"id\":\"1234\",\"type\":\"UnionRenderers\"}},\"id\":\"1040\",\"type\":\"ColumnDataSource\"},{\"attributes\":{\"data_source\":{\"id\":\"1040\",\"type\":\"ColumnDataSource\"},\"glyph\":{\"id\":\"1080\",\"type\":\"Circle\"},\"hover_glyph\":null,\"muted_glyph\":null,\"nonselection_glyph\":{\"id\":\"1081\",\"type\":\"Circle\"},\"selection_glyph\":null,\"view\":{\"id\":\"1078\",\"type\":\"CDSView\"}},\"id\":\"1082\",\"type\":\"GlyphRenderer\"},{\"attributes\":{\"dimension\":1,\"ticker\":{\"id\":\"1021\",\"type\":\"BasicTicker\"}},\"id\":\"1024\",\"type\":\"Grid\"},{\"attributes\":{\"label\":{\"value\":\"K\"},\"renderers\":[{\"id\":\"1112\",\"type\":\"GlyphRenderer\"}]},\"id\":\"1208\",\"type\":\"LegendItem\"},{\"attributes\":{\"column_name\":\"label\",\"group\":\"gnomad\"},\"id\":\"1191\",\"type\":\"GroupFilter\"},{\"attributes\":{},\"id\":\"1026\",\"type\":\"WheelZoomTool\"},{\"attributes\":{\"fill_color\":{\"field\":\"label\",\"transform\":{\"id\":\"1003\",\"type\":\"CategoricalColorMapper\"}},\"line_color\":{\"field\":\"label\",\"transform\":{\"id\":\"1003\",\"type\":\"CategoricalColorMapper\"}},\"x\":{\"field\":\"x\"},\"y\":{\"field\":\"y\"}},\"id\":\"1164\",\"type\":\"Circle\"},{\"attributes\":{\"column_name\":\"label\",\"group\":\"G\"},\"id\":\"1083\",\"type\":\"GroupFilter\"},{\"attributes\":{\"axis_label\":\"PC2\",\"axis_label_text_font_size\":{\"value\":\"15pt\"},\"formatter\":{\"id\":\"1227\",\"type\":\"BasicTickFormatter\"},\"major_label_text_font_size\":{\"value\":\"15pt\"},\"ticker\":{\"id\":\"1021\",\"type\":\"BasicTicker\"}},\"id\":\"1020\",\"type\":\"LinearAxis\"},{\"attributes\":{\"filters\":[{\"id\":\"1083\",\"type\":\"GroupFilter\"}],\"source\":{\"id\":\"1040\",\"type\":\"ColumnDataSource\"}},\"id\":\"1084\",\"type\":\"CDSView\"},{\"attributes\":{\"fill_alpha\":{\"value\":0.1},\"fill_color\":{\"value\":\"#1f77b4\"},\"line_alpha\":{\"value\":0.1},\"line_color\":{\"value\":\"#1f77b4\"},\"x\":{\"field\":\"x\"},\"y\":{\"field\":\"y\"}},\"id\":\"1165\",\"type\":\"Circle\"},{\"attributes\":{\"callback\":null},\"id\":\"1009\",\"type\":\"DataRange1d\"},{\"attributes\":{\"data_source\":{\"id\":\"1040\",\"type\":\"ColumnDataSource\"},\"glyph\":{\"id\":\"1164\",\"type\":\"Circle\"},\"hover_glyph\":null,\"muted_glyph\":null,\"nonselection_glyph\":{\"id\":\"1165\",\"type\":\"Circle\"},\"selection_glyph\":null,\"view\":{\"id\":\"1162\",\"type\":\"CDSView\"}},\"id\":\"1166\",\"type\":\"GlyphRenderer\"},{\"attributes\":{},\"id\":\"1028\",\"type\":\"SaveTool\"},{\"attributes\":{\"filters\":[{\"id\":\"1101\",\"type\":\"GroupFilter\"}],\"source\":{\"id\":\"1040\",\"type\":\"ColumnDataSource\"}},\"id\":\"1102\",\"type\":\"CDSView\"},{\"attributes\":{\"overlay\":{\"id\":\"1232\",\"type\":\"BoxAnnotation\"}},\"id\":\"1027\",\"type\":\"BoxZoomTool\"},{\"attributes\":{\"fill_color\":{\"field\":\"label\",\"transform\":{\"id\":\"1003\",\"type\":\"CategoricalColorMapper\"}},\"line_color\":{\"field\":\"label\",\"transform\":{\"id\":\"1003\",\"type\":\"CategoricalColorMapper\"}},\"x\":{\"field\":\"x\"},\"y\":{\"field\":\"y\"}},\"id\":\"1086\",\"type\":\"Circle\"},{\"attributes\":{\"column_name\":\"label\",\"group\":\"W\"},\"id\":\"1167\",\"type\":\"GroupFilter\"},{\"attributes\":{\"label\":{\"value\":\"L\"},\"renderers\":[{\"id\":\"1118\",\"type\":\"GlyphRenderer\"}]},\"id\":\"1209\",\"type\":\"LegendItem\"},{\"attributes\":{\"fill_alpha\":{\"value\":0.1},\"fill_color\":{\"value\":\"#1f77b4\"},\"line_alpha\":{\"value\":0.1},\"line_color\":{\"value\":\"#1f77b4\"},\"x\":{\"field\":\"x\"},\"y\":{\"field\":\"y\"}},\"id\":\"1087\",\"type\":\"Circle\"},{\"attributes\":{\"filters\":[{\"id\":\"1167\",\"type\":\"GroupFilter\"}],\"source\":{\"id\":\"1040\",\"type\":\"ColumnDataSource\"}},\"id\":\"1168\",\"type\":\"CDSView\"},{\"attributes\":{\"data_source\":{\"id\":\"1040\",\"type\":\"ColumnDataSource\"},\"glyph\":{\"id\":\"1086\",\"type\":\"Circle\"},\"hover_glyph\":null,\"muted_glyph\":null,\"nonselection_glyph\":{\"id\":\"1087\",\"type\":\"Circle\"},\"selection_glyph\":null,\"view\":{\"id\":\"1084\",\"type\":\"CDSView\"}},\"id\":\"1088\",\"type\":\"GlyphRenderer\"},{\"attributes\":{\"data_source\":{\"id\":\"1040\",\"type\":\"ColumnDataSource\"},\"glyph\":{\"id\":\"1188\",\"type\":\"Circle\"},\"hover_glyph\":null,\"muted_glyph\":null,\"nonselection_glyph\":{\"id\":\"1189\",\"type\":\"Circle\"},\"selection_glyph\":null,\"view\":{\"id\":\"1186\",\"type\":\"CDSView\"}},\"id\":\"1190\",\"type\":\"GlyphRenderer\"},{\"attributes\":{\"fill_color\":{\"field\":\"label\",\"transform\":{\"id\":\"1003\",\"type\":\"CategoricalColorMapper\"}},\"line_color\":{\"field\":\"label\",\"transform\":{\"id\":\"1003\",\"type\":\"CategoricalColorMapper\"}},\"x\":{\"field\":\"x\"},\"y\":{\"field\":\"y\"}},\"id\":\"1170\",\"type\":\"Circle\"},{\"attributes\":{\"column_name\":\"label\",\"group\":\"H\"},\"id\":\"1089\",\"type\":\"GroupFilter\"},{\"attributes\":{\"ticker\":{\"id\":\"1016\",\"type\":\"BasicTicker\"}},\"id\":\"1019\",\"type\":\"Grid\"},{\"attributes\":{\"filters\":[{\"id\":\"1089\",\"type\":\"GroupFilter\"}],\"source\":{\"id\":\"1040\",\"type\":\"ColumnDataSource\"}},\"id\":\"1090\",\"type\":\"CDSView\"},{\"attributes\":{\"fill_alpha\":{\"value\":0.1},\"fill_color\":{\"value\":\"#1f77b4\"},\"line_alpha\":{\"value\":0.1},\"line_color\":{\"value\":\"#1f77b4\"},\"x\":{\"field\":\"x\"},\"y\":{\"field\":\"y\"}},\"id\":\"1171\",\"type\":\"Circle\"},{\"attributes\":{},\"id\":\"1013\",\"type\":\"LinearScale\"},{\"attributes\":{\"data_source\":{\"id\":\"1040\",\"type\":\"ColumnDataSource\"},\"glyph\":{\"id\":\"1170\",\"type\":\"Circle\"},\"hover_glyph\":null,\"muted_glyph\":null,\"nonselection_glyph\":{\"id\":\"1171\",\"type\":\"Circle\"},\"selection_glyph\":null,\"view\":{\"id\":\"1168\",\"type\":\"CDSView\"}},\"id\":\"1172\",\"type\":\"GlyphRenderer\"},{\"attributes\":{\"filters\":[{\"id\":\"1041\",\"type\":\"GroupFilter\"}],\"source\":{\"id\":\"1040\",\"type\":\"ColumnDataSource\"}},\"id\":\"1042\",\"type\":\"CDSView\"},{\"attributes\":{\"column_name\":\"label\",\"group\":\"J\"},\"id\":\"1101\",\"type\":\"GroupFilter\"},{\"attributes\":{\"fill_color\":{\"field\":\"label\",\"transform\":{\"id\":\"1003\",\"type\":\"CategoricalColorMapper\"}},\"line_color\":{\"field\":\"label\",\"transform\":{\"id\":\"1003\",\"type\":\"CategoricalColorMapper\"}},\"x\":{\"field\":\"x\"},\"y\":{\"field\":\"y\"}},\"id\":\"1092\",\"type\":\"Circle\"},{\"attributes\":{\"column_name\":\"label\",\"group\":\"X\"},\"id\":\"1173\",\"type\":\"GroupFilter\"},{\"attributes\":{},\"id\":\"1011\",\"type\":\"LinearScale\"},{\"attributes\":{\"fill_alpha\":{\"value\":0.1},\"fill_color\":{\"value\":\"#1f77b4\"},\"line_alpha\":{\"value\":0.1},\"line_color\":{\"value\":\"#1f77b4\"},\"x\":{\"field\":\"x\"},\"y\":{\"field\":\"y\"}},\"id\":\"1093\",\"type\":\"Circle\"},{\"attributes\":{\"filters\":[{\"id\":\"1173\",\"type\":\"GroupFilter\"}],\"source\":{\"id\":\"1040\",\"type\":\"ColumnDataSource\"}},\"id\":\"1174\",\"type\":\"CDSView\"},{\"attributes\":{\"data_source\":{\"id\":\"1040\",\"type\":\"ColumnDataSource\"},\"glyph\":{\"id\":\"1098\",\"type\":\"Circle\"},\"hover_glyph\":null,\"muted_glyph\":null,\"nonselection_glyph\":{\"id\":\"1099\",\"type\":\"Circle\"},\"selection_glyph\":null,\"view\":{\"id\":\"1096\",\"type\":\"CDSView\"}},\"id\":\"1100\",\"type\":\"GlyphRenderer\"},{\"attributes\":{\"fill_alpha\":{\"value\":0.1},\"fill_color\":{\"value\":\"#1f77b4\"},\"line_alpha\":{\"value\":0.1},\"line_color\":{\"value\":\"#1f77b4\"},\"x\":{\"field\":\"x\"},\"y\":{\"field\":\"y\"}},\"id\":\"1189\",\"type\":\"Circle\"},{\"attributes\":{\"fill_color\":{\"field\":\"label\",\"transform\":{\"id\":\"1003\",\"type\":\"CategoricalColorMapper\"}},\"line_color\":{\"field\":\"label\",\"transform\":{\"id\":\"1003\",\"type\":\"CategoricalColorMapper\"}},\"x\":{\"field\":\"x\"},\"y\":{\"field\":\"y\"}},\"id\":\"1104\",\"type\":\"Circle\"},{\"attributes\":{\"fill_color\":{\"field\":\"label\",\"transform\":{\"id\":\"1003\",\"type\":\"CategoricalColorMapper\"}},\"line_color\":{\"field\":\"label\",\"transform\":{\"id\":\"1003\",\"type\":\"CategoricalColorMapper\"}},\"x\":{\"field\":\"x\"},\"y\":{\"field\":\"y\"}},\"id\":\"1176\",\"type\":\"Circle\"},{\"attributes\":{},\"id\":\"1030\",\"type\":\"HelpTool\"},{\"attributes\":{\"fill_alpha\":{\"value\":0.1},\"fill_color\":{\"value\":\"#1f77b4\"},\"line_alpha\":{\"value\":0.1},\"line_color\":{\"value\":\"#1f77b4\"},\"x\":{\"field\":\"x\"},\"y\":{\"field\":\"y\"}},\"id\":\"1105\",\"type\":\"Circle\"},{\"attributes\":{},\"id\":\"1234\",\"type\":\"UnionRenderers\"},{\"attributes\":{\"axis_label\":\"PC1\",\"axis_label_text_font_size\":{\"value\":\"15pt\"},\"formatter\":{\"id\":\"1231\",\"type\":\"BasicTickFormatter\"},\"major_label_text_font_size\":{\"value\":\"15pt\"},\"ticker\":{\"id\":\"1016\",\"type\":\"BasicTicker\"}},\"id\":\"1015\",\"type\":\"LinearAxis\"},{\"attributes\":{\"active_drag\":\"auto\",\"active_inspect\":\"auto\",\"active_multi\":null,\"active_scroll\":\"auto\",\"active_tap\":\"auto\",\"tools\":[{\"id\":\"1025\",\"type\":\"PanTool\"},{\"id\":\"1026\",\"type\":\"WheelZoomTool\"},{\"id\":\"1027\",\"type\":\"BoxZoomTool\"},{\"id\":\"1028\",\"type\":\"SaveTool\"},{\"id\":\"1029\",\"type\":\"ResetTool\"},{\"id\":\"1030\",\"type\":\"HelpTool\"},{\"id\":\"1039\",\"type\":\"HoverTool\"}]},\"id\":\"1031\",\"type\":\"Toolbar\"},{\"attributes\":{\"data_source\":{\"id\":\"1040\",\"type\":\"ColumnDataSource\"},\"glyph\":{\"id\":\"1104\",\"type\":\"Circle\"},\"hover_glyph\":null,\"muted_glyph\":null,\"nonselection_glyph\":{\"id\":\"1105\",\"type\":\"Circle\"},\"selection_glyph\":null,\"view\":{\"id\":\"1102\",\"type\":\"CDSView\"}},\"id\":\"1106\",\"type\":\"GlyphRenderer\"},{\"attributes\":{\"fill_color\":{\"field\":\"label\",\"transform\":{\"id\":\"1003\",\"type\":\"CategoricalColorMapper\"}},\"line_color\":{\"field\":\"label\",\"transform\":{\"id\":\"1003\",\"type\":\"CategoricalColorMapper\"}},\"x\":{\"field\":\"x\"},\"y\":{\"field\":\"y\"}},\"id\":\"1188\",\"type\":\"Circle\"},{\"attributes\":{},\"id\":\"1233\",\"type\":\"Selection\"},{\"attributes\":{\"column_name\":\"label\",\"group\":\"K\"},\"id\":\"1107\",\"type\":\"GroupFilter\"},{\"attributes\":{\"filters\":[{\"id\":\"1107\",\"type\":\"GroupFilter\"}],\"source\":{\"id\":\"1040\",\"type\":\"ColumnDataSource\"}},\"id\":\"1108\",\"type\":\"CDSView\"},{\"attributes\":{\"fill_color\":{\"field\":\"label\",\"transform\":{\"id\":\"1003\",\"type\":\"CategoricalColorMapper\"}},\"line_color\":{\"field\":\"label\",\"transform\":{\"id\":\"1003\",\"type\":\"CategoricalColorMapper\"}},\"x\":{\"field\":\"x\"},\"y\":{\"field\":\"y\"}},\"id\":\"1194\",\"type\":\"Circle\"},{\"attributes\":{},\"id\":\"1227\",\"type\":\"BasicTickFormatter\"},{\"attributes\":{\"data_source\":{\"id\":\"1040\",\"type\":\"ColumnDataSource\"},\"glyph\":{\"id\":\"1182\",\"type\":\"Circle\"},\"hover_glyph\":null,\"muted_glyph\":null,\"nonselection_glyph\":{\"id\":\"1183\",\"type\":\"Circle\"},\"selection_glyph\":null,\"view\":{\"id\":\"1180\",\"type\":\"CDSView\"}},\"id\":\"1184\",\"type\":\"GlyphRenderer\"},{\"attributes\":{},\"id\":\"1016\",\"type\":\"BasicTicker\"},{\"attributes\":{\"fill_alpha\":{\"value\":0.1},\"fill_color\":{\"value\":\"#1f77b4\"},\"line_alpha\":{\"value\":0.1},\"line_color\":{\"value\":\"#1f77b4\"},\"x\":{\"field\":\"x\"},\"y\":{\"field\":\"y\"}},\"id\":\"1195\",\"type\":\"Circle\"},{\"attributes\":{\"data_source\":{\"id\":\"1040\",\"type\":\"ColumnDataSource\"},\"glyph\":{\"id\":\"1194\",\"type\":\"Circle\"},\"hover_glyph\":null,\"muted_glyph\":null,\"nonselection_glyph\":{\"id\":\"1195\",\"type\":\"Circle\"},\"selection_glyph\":null,\"view\":{\"id\":\"1192\",\"type\":\"CDSView\"}},\"id\":\"1196\",\"type\":\"GlyphRenderer\"},{\"attributes\":{},\"id\":\"1228\",\"type\":\"BasicTicker\"},{\"attributes\":{\"fill_color\":{\"field\":\"label\",\"transform\":{\"id\":\"1003\",\"type\":\"CategoricalColorMapper\"}},\"line_color\":{\"field\":\"label\",\"transform\":{\"id\":\"1003\",\"type\":\"CategoricalColorMapper\"}},\"x\":{\"field\":\"x\"},\"y\":{\"field\":\"y\"}},\"id\":\"1110\",\"type\":\"Circle\"},{\"attributes\":{\"label\":{\"value\":\"M\"},\"renderers\":[{\"id\":\"1124\",\"type\":\"GlyphRenderer\"}]},\"id\":\"1210\",\"type\":\"LegendItem\"},{\"attributes\":{\"fill_alpha\":{\"value\":0.1},\"fill_color\":{\"value\":\"#1f77b4\"},\"line_alpha\":{\"value\":0.1},\"line_color\":{\"value\":\"#1f77b4\"},\"x\":{\"field\":\"x\"},\"y\":{\"field\":\"y\"}},\"id\":\"1111\",\"type\":\"Circle\"},{\"attributes\":{\"text\":\"PCA\"},\"id\":\"1005\",\"type\":\"Title\"},{\"attributes\":{},\"id\":\"1229\",\"type\":\"BasicTickFormatter\"},{\"attributes\":{\"data_source\":{\"id\":\"1040\",\"type\":\"ColumnDataSource\"},\"glyph\":{\"id\":\"1110\",\"type\":\"Circle\"},\"hover_glyph\":null,\"muted_glyph\":null,\"nonselection_glyph\":{\"id\":\"1111\",\"type\":\"Circle\"},\"selection_glyph\":null,\"view\":{\"id\":\"1108\",\"type\":\"CDSView\"}},\"id\":\"1112\",\"type\":\"GlyphRenderer\"},{\"attributes\":{\"label\":{\"value\":\"N\"},\"renderers\":[{\"id\":\"1130\",\"type\":\"GlyphRenderer\"}]},\"id\":\"1211\",\"type\":\"LegendItem\"},{\"attributes\":{\"callback\":null},\"id\":\"1007\",\"type\":\"DataRange1d\"},{\"attributes\":{},\"id\":\"1231\",\"type\":\"BasicTickFormatter\"},{\"attributes\":{\"label\":{\"value\":\"O\"},\"renderers\":[{\"id\":\"1136\",\"type\":\"GlyphRenderer\"}]},\"id\":\"1212\",\"type\":\"LegendItem\"},{\"attributes\":{\"column_name\":\"label\",\"group\":\"L\"},\"id\":\"1113\",\"type\":\"GroupFilter\"},{\"attributes\":{\"label\":{\"value\":\"F\"},\"renderers\":[{\"id\":\"1082\",\"type\":\"GlyphRenderer\"}]},\"id\":\"1203\",\"type\":\"LegendItem\"},{\"attributes\":{\"label\":{\"value\":\"P\"},\"renderers\":[{\"id\":\"1142\",\"type\":\"GlyphRenderer\"}]},\"id\":\"1213\",\"type\":\"LegendItem\"},{\"attributes\":{\"filters\":[{\"id\":\"1113\",\"type\":\"GroupFilter\"}],\"source\":{\"id\":\"1040\",\"type\":\"ColumnDataSource\"}},\"id\":\"1114\",\"type\":\"CDSView\"},{\"attributes\":{\"label\":{\"value\":\"E\"},\"renderers\":[{\"id\":\"1076\",\"type\":\"GlyphRenderer\"}]},\"id\":\"1202\",\"type\":\"LegendItem\"},{\"attributes\":{\"label\":{\"value\":\"R\"},\"renderers\":[{\"id\":\"1148\",\"type\":\"GlyphRenderer\"}]},\"id\":\"1214\",\"type\":\"LegendItem\"},{\"attributes\":{\"fill_alpha\":{\"value\":0.1},\"fill_color\":{\"value\":\"#1f77b4\"},\"line_alpha\":{\"value\":0.1},\"line_color\":{\"value\":\"#1f77b4\"},\"x\":{\"field\":\"x\"},\"y\":{\"field\":\"y\"}},\"id\":\"1183\",\"type\":\"Circle\"},{\"attributes\":{\"label\":{\"value\":\"S\"},\"renderers\":[{\"id\":\"1154\",\"type\":\"GlyphRenderer\"}]},\"id\":\"1215\",\"type\":\"LegendItem\"},{\"attributes\":{\"fill_alpha\":{\"value\":0.1},\"fill_color\":{\"value\":\"#1f77b4\"},\"line_alpha\":{\"value\":0.1},\"line_color\":{\"value\":\"#1f77b4\"},\"x\":{\"field\":\"x\"},\"y\":{\"field\":\"y\"}},\"id\":\"1099\",\"type\":\"Circle\"},{\"attributes\":{\"fill_color\":{\"field\":\"label\",\"transform\":{\"id\":\"1003\",\"type\":\"CategoricalColorMapper\"}},\"line_color\":{\"field\":\"label\",\"transform\":{\"id\":\"1003\",\"type\":\"CategoricalColorMapper\"}},\"x\":{\"field\":\"x\"},\"y\":{\"field\":\"y\"}},\"id\":\"1116\",\"type\":\"Circle\"},{\"attributes\":{\"label\":{\"value\":\"T\"},\"renderers\":[{\"id\":\"1160\",\"type\":\"GlyphRenderer\"}]},\"id\":\"1216\",\"type\":\"LegendItem\"},{\"attributes\":{\"fill_alpha\":{\"value\":0.1},\"fill_color\":{\"value\":\"#1f77b4\"},\"line_alpha\":{\"value\":0.1},\"line_color\":{\"value\":\"#1f77b4\"},\"x\":{\"field\":\"x\"},\"y\":{\"field\":\"y\"}},\"id\":\"1117\",\"type\":\"Circle\"},{\"attributes\":{\"data_source\":{\"id\":\"1040\",\"type\":\"ColumnDataSource\"},\"glyph\":{\"id\":\"1116\",\"type\":\"Circle\"},\"hover_glyph\":null,\"muted_glyph\":null,\"nonselection_glyph\":{\"id\":\"1117\",\"type\":\"Circle\"},\"selection_glyph\":null,\"view\":{\"id\":\"1114\",\"type\":\"CDSView\"}},\"id\":\"1118\",\"type\":\"GlyphRenderer\"},{\"attributes\":{\"label\":{\"value\":\"G\"},\"renderers\":[{\"id\":\"1088\",\"type\":\"GlyphRenderer\"}]},\"id\":\"1204\",\"type\":\"LegendItem\"},{\"attributes\":{\"label\":{\"value\":\"U\"},\"renderers\":[{\"id\":\"1166\",\"type\":\"GlyphRenderer\"}]},\"id\":\"1217\",\"type\":\"LegendItem\"},{\"attributes\":{\"label\":{\"value\":\"D\"},\"renderers\":[{\"id\":\"1070\",\"type\":\"GlyphRenderer\"}]},\"id\":\"1201\",\"type\":\"LegendItem\"},{\"attributes\":{\"factors\":[\"H\",\"U\",\"K\",\"P\",\".\",\"J\",\"M\",\"F\",\"Y\",\"B\",\"G\",\"L\",\"E\",\"T\",\"C\",\"Z\",\"W\",\"X\",\"A\",\"N\",\"gnomad\",\"R\",\"I\",\"S\",\"O\",\"D\"],\"palette\":[\"#0C0786\",\"#230590\",\"#360498\",\"#47029F\",\"#5701A4\",\"#6700A7\",\"#7601A8\",\"#8405A6\",\"#920FA2\",\"#9F1A9B\",\"#AC2593\",\"#B7308A\",\"#C13C80\",\"#CB4777\",\"#D3516F\",\"#DC5D66\",\"#E3685E\",\"#EA7455\",\"#F0814D\",\"#F68E44\",\"#FA9C3B\",\"#FCA934\",\"#FDB82C\",\"#FCC726\",\"#FAD824\",\"#F5E926\"]},\"id\":\"1003\",\"type\":\"CategoricalColorMapper\"},{\"attributes\":{\"label\":{\"value\":\"W\"},\"renderers\":[{\"id\":\"1172\",\"type\":\"GlyphRenderer\"}]},\"id\":\"1218\",\"type\":\"LegendItem\"},{\"attributes\":{\"column_name\":\"label\",\"group\":\"M\"},\"id\":\"1119\",\"type\":\"GroupFilter\"},{\"attributes\":{\"label\":{\"value\":\"X\"},\"renderers\":[{\"id\":\"1178\",\"type\":\"GlyphRenderer\"}]},\"id\":\"1219\",\"type\":\"LegendItem\"},{\"attributes\":{\"filters\":[{\"id\":\"1119\",\"type\":\"GroupFilter\"}],\"source\":{\"id\":\"1040\",\"type\":\"ColumnDataSource\"}},\"id\":\"1120\",\"type\":\"CDSView\"},{\"attributes\":{},\"id\":\"1021\",\"type\":\"BasicTicker\"},{\"attributes\":{\"filters\":[{\"id\":\"1155\",\"type\":\"GroupFilter\"}],\"source\":{\"id\":\"1040\",\"type\":\"ColumnDataSource\"}},\"id\":\"1156\",\"type\":\"CDSView\"},{\"attributes\":{\"label\":{\"value\":\"Y\"},\"renderers\":[{\"id\":\"1184\",\"type\":\"GlyphRenderer\"}]},\"id\":\"1220\",\"type\":\"LegendItem\"},{\"attributes\":{\"fill_color\":{\"field\":\"label\",\"transform\":{\"id\":\"1003\",\"type\":\"CategoricalColorMapper\"}},\"line_color\":{\"field\":\"label\",\"transform\":{\"id\":\"1003\",\"type\":\"CategoricalColorMapper\"}},\"x\":{\"field\":\"x\"},\"y\":{\"field\":\"y\"}},\"id\":\"1182\",\"type\":\"Circle\"},{\"attributes\":{\"label\":{\"value\":\"C\"},\"renderers\":[{\"id\":\"1064\",\"type\":\"GlyphRenderer\"}]},\"id\":\"1200\",\"type\":\"LegendItem\"},{\"attributes\":{\"label\":{\"value\":\"Z\"},\"renderers\":[{\"id\":\"1190\",\"type\":\"GlyphRenderer\"}]},\"id\":\"1221\",\"type\":\"LegendItem\"},{\"attributes\":{\"fill_color\":{\"field\":\"label\",\"transform\":{\"id\":\"1003\",\"type\":\"CategoricalColorMapper\"}},\"line_color\":{\"field\":\"label\",\"transform\":{\"id\":\"1003\",\"type\":\"CategoricalColorMapper\"}},\"x\":{\"field\":\"x\"},\"y\":{\"field\":\"y\"}},\"id\":\"1122\",\"type\":\"Circle\"},{\"attributes\":{\"label\":{\"value\":\"B\"},\"renderers\":[{\"id\":\"1058\",\"type\":\"GlyphRenderer\"}]},\"id\":\"1199\",\"type\":\"LegendItem\"},{\"attributes\":{\"label\":{\"value\":\"gnomad\"},\"renderers\":[{\"id\":\"1196\",\"type\":\"GlyphRenderer\"}]},\"id\":\"1222\",\"type\":\"LegendItem\"},{\"attributes\":{\"fill_alpha\":{\"value\":0.1},\"fill_color\":{\"value\":\"#1f77b4\"},\"line_alpha\":{\"value\":0.1},\"line_color\":{\"value\":\"#1f77b4\"},\"x\":{\"field\":\"x\"},\"y\":{\"field\":\"y\"}},\"id\":\"1123\",\"type\":\"Circle\"},{\"attributes\":{\"label\":{\"value\":\"A\"},\"renderers\":[{\"id\":\"1052\",\"type\":\"GlyphRenderer\"}]},\"id\":\"1198\",\"type\":\"LegendItem\"},{\"attributes\":{\"click_policy\":\"hide\",\"items\":[{\"id\":\"1197\",\"type\":\"LegendItem\"},{\"id\":\"1198\",\"type\":\"LegendItem\"},{\"id\":\"1199\",\"type\":\"LegendItem\"},{\"id\":\"1200\",\"type\":\"LegendItem\"},{\"id\":\"1201\",\"type\":\"LegendItem\"},{\"id\":\"1202\",\"type\":\"LegendItem\"},{\"id\":\"1203\",\"type\":\"LegendItem\"},{\"id\":\"1204\",\"type\":\"LegendItem\"},{\"id\":\"1205\",\"type\":\"LegendItem\"},{\"id\":\"1206\",\"type\":\"LegendItem\"},{\"id\":\"1207\",\"type\":\"LegendItem\"},{\"id\":\"1208\",\"type\":\"LegendItem\"},{\"id\":\"1209\",\"type\":\"LegendItem\"},{\"id\":\"1210\",\"type\":\"LegendItem\"},{\"id\":\"1211\",\"type\":\"LegendItem\"},{\"id\":\"1212\",\"type\":\"LegendItem\"},{\"id\":\"1213\",\"type\":\"LegendItem\"},{\"id\":\"1214\",\"type\":\"LegendItem\"},{\"id\":\"1215\",\"type\":\"LegendItem\"},{\"id\":\"1216\",\"type\":\"LegendItem\"},{\"id\":\"1217\",\"type\":\"LegendItem\"},{\"id\":\"1218\",\"type\":\"LegendItem\"},{\"id\":\"1219\",\"type\":\"LegendItem\"},{\"id\":\"1220\",\"type\":\"LegendItem\"},{\"id\":\"1221\",\"type\":\"LegendItem\"},{\"id\":\"1222\",\"type\":\"LegendItem\"}]},\"id\":\"1223\",\"type\":\"Legend\"},{\"attributes\":{\"data_source\":{\"id\":\"1040\",\"type\":\"ColumnDataSource\"},\"glyph\":{\"id\":\"1122\",\"type\":\"Circle\"},\"hover_glyph\":null,\"muted_glyph\":null,\"nonselection_glyph\":{\"id\":\"1123\",\"type\":\"Circle\"},\"selection_glyph\":null,\"view\":{\"id\":\"1120\",\"type\":\"CDSView\"}},\"id\":\"1124\",\"type\":\"GlyphRenderer\"},{\"attributes\":{\"label\":{\"value\":\".\"},\"renderers\":[{\"id\":\"1046\",\"type\":\"GlyphRenderer\"}]},\"id\":\"1197\",\"type\":\"LegendItem\"},{\"attributes\":{\"color_mapper\":null,\"formatter\":{\"id\":\"1229\",\"type\":\"BasicTickFormatter\"},\"ticker\":{\"id\":\"1228\",\"type\":\"BasicTicker\"},\"visible\":false},\"id\":\"1224\",\"type\":\"ColorBar\"},{\"attributes\":{\"fill_color\":{\"field\":\"label\",\"transform\":{\"id\":\"1003\",\"type\":\"CategoricalColorMapper\"}},\"line_color\":{\"field\":\"label\",\"transform\":{\"id\":\"1003\",\"type\":\"CategoricalColorMapper\"}},\"x\":{\"field\":\"x\"},\"y\":{\"field\":\"y\"}},\"id\":\"1044\",\"type\":\"Circle\"},{\"attributes\":{\"column_name\":\"label\",\"group\":\"N\"},\"id\":\"1125\",\"type\":\"GroupFilter\"},{\"attributes\":{\"fill_alpha\":{\"value\":0.1},\"fill_color\":{\"value\":\"#1f77b4\"},\"line_alpha\":{\"value\":0.1},\"line_color\":{\"value\":\"#1f77b4\"},\"x\":{\"field\":\"x\"},\"y\":{\"field\":\"y\"}},\"id\":\"1045\",\"type\":\"Circle\"},{\"attributes\":{\"filters\":[{\"id\":\"1125\",\"type\":\"GroupFilter\"}],\"source\":{\"id\":\"1040\",\"type\":\"ColumnDataSource\"}},\"id\":\"1126\",\"type\":\"CDSView\"},{\"attributes\":{\"data_source\":{\"id\":\"1040\",\"type\":\"ColumnDataSource\"},\"glyph\":{\"id\":\"1044\",\"type\":\"Circle\"},\"hover_glyph\":null,\"muted_glyph\":null,\"nonselection_glyph\":{\"id\":\"1045\",\"type\":\"Circle\"},\"selection_glyph\":null,\"view\":{\"id\":\"1042\",\"type\":\"CDSView\"}},\"id\":\"1046\",\"type\":\"GlyphRenderer\"},{\"attributes\":{\"fill_color\":{\"field\":\"label\",\"transform\":{\"id\":\"1003\",\"type\":\"CategoricalColorMapper\"}},\"line_color\":{\"field\":\"label\",\"transform\":{\"id\":\"1003\",\"type\":\"CategoricalColorMapper\"}},\"x\":{\"field\":\"x\"},\"y\":{\"field\":\"y\"}},\"id\":\"1128\",\"type\":\"Circle\"},{\"attributes\":{\"column_name\":\"label\",\"group\":\"A\"},\"id\":\"1047\",\"type\":\"GroupFilter\"},{\"attributes\":{\"filters\":[{\"id\":\"1047\",\"type\":\"GroupFilter\"}],\"source\":{\"id\":\"1040\",\"type\":\"ColumnDataSource\"}},\"id\":\"1048\",\"type\":\"CDSView\"},{\"attributes\":{\"fill_alpha\":{\"value\":0.1},\"fill_color\":{\"value\":\"#1f77b4\"},\"line_alpha\":{\"value\":0.1},\"line_color\":{\"value\":\"#1f77b4\"},\"x\":{\"field\":\"x\"},\"y\":{\"field\":\"y\"}},\"id\":\"1129\",\"type\":\"Circle\"},{\"attributes\":{\"data_source\":{\"id\":\"1040\",\"type\":\"ColumnDataSource\"},\"glyph\":{\"id\":\"1128\",\"type\":\"Circle\"},\"hover_glyph\":null,\"muted_glyph\":null,\"nonselection_glyph\":{\"id\":\"1129\",\"type\":\"Circle\"},\"selection_glyph\":null,\"view\":{\"id\":\"1126\",\"type\":\"CDSView\"}},\"id\":\"1130\",\"type\":\"GlyphRenderer\"},{\"attributes\":{\"fill_color\":{\"field\":\"label\",\"transform\":{\"id\":\"1003\",\"type\":\"CategoricalColorMapper\"}},\"line_color\":{\"field\":\"label\",\"transform\":{\"id\":\"1003\",\"type\":\"CategoricalColorMapper\"}},\"x\":{\"field\":\"x\"},\"y\":{\"field\":\"y\"}},\"id\":\"1098\",\"type\":\"Circle\"},{\"attributes\":{\"fill_color\":{\"field\":\"label\",\"transform\":{\"id\":\"1003\",\"type\":\"CategoricalColorMapper\"}},\"line_color\":{\"field\":\"label\",\"transform\":{\"id\":\"1003\",\"type\":\"CategoricalColorMapper\"}},\"x\":{\"field\":\"x\"},\"y\":{\"field\":\"y\"}},\"id\":\"1050\",\"type\":\"Circle\"},{\"attributes\":{\"column_name\":\"label\",\"group\":\".\"},\"id\":\"1041\",\"type\":\"GroupFilter\"},{\"attributes\":{\"column_name\":\"label\",\"group\":\"O\"},\"id\":\"1131\",\"type\":\"GroupFilter\"},{\"attributes\":{\"fill_alpha\":{\"value\":0.1},\"fill_color\":{\"value\":\"#1f77b4\"},\"line_alpha\":{\"value\":0.1},\"line_color\":{\"value\":\"#1f77b4\"},\"x\":{\"field\":\"x\"},\"y\":{\"field\":\"y\"}},\"id\":\"1051\",\"type\":\"Circle\"},{\"attributes\":{\"filters\":[{\"id\":\"1131\",\"type\":\"GroupFilter\"}],\"source\":{\"id\":\"1040\",\"type\":\"ColumnDataSource\"}},\"id\":\"1132\",\"type\":\"CDSView\"},{\"attributes\":{\"data_source\":{\"id\":\"1040\",\"type\":\"ColumnDataSource\"},\"glyph\":{\"id\":\"1050\",\"type\":\"Circle\"},\"hover_glyph\":null,\"muted_glyph\":null,\"nonselection_glyph\":{\"id\":\"1051\",\"type\":\"Circle\"},\"selection_glyph\":null,\"view\":{\"id\":\"1048\",\"type\":\"CDSView\"}},\"id\":\"1052\",\"type\":\"GlyphRenderer\"},{\"attributes\":{\"filters\":[{\"id\":\"1179\",\"type\":\"GroupFilter\"}],\"source\":{\"id\":\"1040\",\"type\":\"ColumnDataSource\"}},\"id\":\"1180\",\"type\":\"CDSView\"},{\"attributes\":{\"fill_color\":{\"field\":\"label\",\"transform\":{\"id\":\"1003\",\"type\":\"CategoricalColorMapper\"}},\"line_color\":{\"field\":\"label\",\"transform\":{\"id\":\"1003\",\"type\":\"CategoricalColorMapper\"}},\"x\":{\"field\":\"x\"},\"y\":{\"field\":\"y\"}},\"id\":\"1134\",\"type\":\"Circle\"},{\"attributes\":{\"column_name\":\"label\",\"group\":\"B\"},\"id\":\"1053\",\"type\":\"GroupFilter\"},{\"attributes\":{\"filters\":[{\"id\":\"1053\",\"type\":\"GroupFilter\"}],\"source\":{\"id\":\"1040\",\"type\":\"ColumnDataSource\"}},\"id\":\"1054\",\"type\":\"CDSView\"},{\"attributes\":{\"fill_alpha\":{\"value\":0.1},\"fill_color\":{\"value\":\"#1f77b4\"},\"line_alpha\":{\"value\":0.1},\"line_color\":{\"value\":\"#1f77b4\"},\"x\":{\"field\":\"x\"},\"y\":{\"field\":\"y\"}},\"id\":\"1135\",\"type\":\"Circle\"},{\"attributes\":{\"data_source\":{\"id\":\"1040\",\"type\":\"ColumnDataSource\"},\"glyph\":{\"id\":\"1134\",\"type\":\"Circle\"},\"hover_glyph\":null,\"muted_glyph\":null,\"nonselection_glyph\":{\"id\":\"1135\",\"type\":\"Circle\"},\"selection_glyph\":null,\"view\":{\"id\":\"1132\",\"type\":\"CDSView\"}},\"id\":\"1136\",\"type\":\"GlyphRenderer\"},{\"attributes\":{\"filters\":[{\"id\":\"1185\",\"type\":\"GroupFilter\"}],\"source\":{\"id\":\"1040\",\"type\":\"ColumnDataSource\"}},\"id\":\"1186\",\"type\":\"CDSView\"},{\"attributes\":{\"fill_color\":{\"field\":\"label\",\"transform\":{\"id\":\"1003\",\"type\":\"CategoricalColorMapper\"}},\"line_color\":{\"field\":\"label\",\"transform\":{\"id\":\"1003\",\"type\":\"CategoricalColorMapper\"}},\"x\":{\"field\":\"x\"},\"y\":{\"field\":\"y\"}},\"id\":\"1056\",\"type\":\"Circle\"},{\"attributes\":{\"column_name\":\"label\",\"group\":\"P\"},\"id\":\"1137\",\"type\":\"GroupFilter\"},{\"attributes\":{\"fill_alpha\":{\"value\":0.1},\"fill_color\":{\"value\":\"#1f77b4\"},\"line_alpha\":{\"value\":0.1},\"line_color\":{\"value\":\"#1f77b4\"},\"x\":{\"field\":\"x\"},\"y\":{\"field\":\"y\"}},\"id\":\"1057\",\"type\":\"Circle\"},{\"attributes\":{\"filters\":[{\"id\":\"1137\",\"type\":\"GroupFilter\"}],\"source\":{\"id\":\"1040\",\"type\":\"ColumnDataSource\"}},\"id\":\"1138\",\"type\":\"CDSView\"},{\"attributes\":{\"data_source\":{\"id\":\"1040\",\"type\":\"ColumnDataSource\"},\"glyph\":{\"id\":\"1056\",\"type\":\"Circle\"},\"hover_glyph\":null,\"muted_glyph\":null,\"nonselection_glyph\":{\"id\":\"1057\",\"type\":\"Circle\"},\"selection_glyph\":null,\"view\":{\"id\":\"1054\",\"type\":\"CDSView\"}},\"id\":\"1058\",\"type\":\"GlyphRenderer\"},{\"attributes\":{\"column_name\":\"label\",\"group\":\"Y\"},\"id\":\"1179\",\"type\":\"GroupFilter\"},{\"attributes\":{\"fill_color\":{\"field\":\"label\",\"transform\":{\"id\":\"1003\",\"type\":\"CategoricalColorMapper\"}},\"line_color\":{\"field\":\"label\",\"transform\":{\"id\":\"1003\",\"type\":\"CategoricalColorMapper\"}},\"x\":{\"field\":\"x\"},\"y\":{\"field\":\"y\"}},\"id\":\"1140\",\"type\":\"Circle\"},{\"attributes\":{\"column_name\":\"label\",\"group\":\"C\"},\"id\":\"1059\",\"type\":\"GroupFilter\"},{\"attributes\":{\"filters\":[{\"id\":\"1059\",\"type\":\"GroupFilter\"}],\"source\":{\"id\":\"1040\",\"type\":\"ColumnDataSource\"}},\"id\":\"1060\",\"type\":\"CDSView\"},{\"attributes\":{\"fill_alpha\":{\"value\":0.1},\"fill_color\":{\"value\":\"#1f77b4\"},\"line_alpha\":{\"value\":0.1},\"line_color\":{\"value\":\"#1f77b4\"},\"x\":{\"field\":\"x\"},\"y\":{\"field\":\"y\"}},\"id\":\"1141\",\"type\":\"Circle\"},{\"attributes\":{\"data_source\":{\"id\":\"1040\",\"type\":\"ColumnDataSource\"},\"glyph\":{\"id\":\"1140\",\"type\":\"Circle\"},\"hover_glyph\":null,\"muted_glyph\":null,\"nonselection_glyph\":{\"id\":\"1141\",\"type\":\"Circle\"},\"selection_glyph\":null,\"view\":{\"id\":\"1138\",\"type\":\"CDSView\"}},\"id\":\"1142\",\"type\":\"GlyphRenderer\"},{\"attributes\":{\"filters\":[{\"id\":\"1095\",\"type\":\"GroupFilter\"}],\"source\":{\"id\":\"1040\",\"type\":\"ColumnDataSource\"}},\"id\":\"1096\",\"type\":\"CDSView\"},{\"attributes\":{\"fill_color\":{\"field\":\"label\",\"transform\":{\"id\":\"1003\",\"type\":\"CategoricalColorMapper\"}},\"line_color\":{\"field\":\"label\",\"transform\":{\"id\":\"1003\",\"type\":\"CategoricalColorMapper\"}},\"x\":{\"field\":\"x\"},\"y\":{\"field\":\"y\"}},\"id\":\"1062\",\"type\":\"Circle\"},{\"attributes\":{\"column_name\":\"label\",\"group\":\"R\"},\"id\":\"1143\",\"type\":\"GroupFilter\"},{\"attributes\":{\"fill_alpha\":{\"value\":0.1},\"fill_color\":{\"value\":\"#1f77b4\"},\"line_alpha\":{\"value\":0.1},\"line_color\":{\"value\":\"#1f77b4\"},\"x\":{\"field\":\"x\"},\"y\":{\"field\":\"y\"}},\"id\":\"1063\",\"type\":\"Circle\"},{\"attributes\":{\"filters\":[{\"id\":\"1143\",\"type\":\"GroupFilter\"}],\"source\":{\"id\":\"1040\",\"type\":\"ColumnDataSource\"}},\"id\":\"1144\",\"type\":\"CDSView\"},{\"attributes\":{\"data_source\":{\"id\":\"1040\",\"type\":\"ColumnDataSource\"},\"glyph\":{\"id\":\"1062\",\"type\":\"Circle\"},\"hover_glyph\":null,\"muted_glyph\":null,\"nonselection_glyph\":{\"id\":\"1063\",\"type\":\"Circle\"},\"selection_glyph\":null,\"view\":{\"id\":\"1060\",\"type\":\"CDSView\"}},\"id\":\"1064\",\"type\":\"GlyphRenderer\"},{\"attributes\":{\"data_source\":{\"id\":\"1040\",\"type\":\"ColumnDataSource\"},\"glyph\":{\"id\":\"1176\",\"type\":\"Circle\"},\"hover_glyph\":null,\"muted_glyph\":null,\"nonselection_glyph\":{\"id\":\"1177\",\"type\":\"Circle\"},\"selection_glyph\":null,\"view\":{\"id\":\"1174\",\"type\":\"CDSView\"}},\"id\":\"1178\",\"type\":\"GlyphRenderer\"},{\"attributes\":{\"fill_color\":{\"field\":\"label\",\"transform\":{\"id\":\"1003\",\"type\":\"CategoricalColorMapper\"}},\"line_color\":{\"field\":\"label\",\"transform\":{\"id\":\"1003\",\"type\":\"CategoricalColorMapper\"}},\"x\":{\"field\":\"x\"},\"y\":{\"field\":\"y\"}},\"id\":\"1146\",\"type\":\"Circle\"},{\"attributes\":{\"column_name\":\"label\",\"group\":\"D\"},\"id\":\"1065\",\"type\":\"GroupFilter\"},{\"attributes\":{\"filters\":[{\"id\":\"1065\",\"type\":\"GroupFilter\"}],\"source\":{\"id\":\"1040\",\"type\":\"ColumnDataSource\"}},\"id\":\"1066\",\"type\":\"CDSView\"},{\"attributes\":{\"fill_alpha\":{\"value\":0.1},\"fill_color\":{\"value\":\"#1f77b4\"},\"line_alpha\":{\"value\":0.1},\"line_color\":{\"value\":\"#1f77b4\"},\"x\":{\"field\":\"x\"},\"y\":{\"field\":\"y\"}},\"id\":\"1147\",\"type\":\"Circle\"},{\"attributes\":{\"data_source\":{\"id\":\"1040\",\"type\":\"ColumnDataSource\"},\"glyph\":{\"id\":\"1146\",\"type\":\"Circle\"},\"hover_glyph\":null,\"muted_glyph\":null,\"nonselection_glyph\":{\"id\":\"1147\",\"type\":\"Circle\"},\"selection_glyph\":null,\"view\":{\"id\":\"1144\",\"type\":\"CDSView\"}},\"id\":\"1148\",\"type\":\"GlyphRenderer\"},{\"attributes\":{\"column_name\":\"label\",\"group\":\"I\"},\"id\":\"1095\",\"type\":\"GroupFilter\"},{\"attributes\":{\"fill_color\":{\"field\":\"label\",\"transform\":{\"id\":\"1003\",\"type\":\"CategoricalColorMapper\"}},\"line_color\":{\"field\":\"label\",\"transform\":{\"id\":\"1003\",\"type\":\"CategoricalColorMapper\"}},\"x\":{\"field\":\"x\"},\"y\":{\"field\":\"y\"}},\"id\":\"1068\",\"type\":\"Circle\"},{\"attributes\":{\"column_name\":\"label\",\"group\":\"S\"},\"id\":\"1149\",\"type\":\"GroupFilter\"},{\"attributes\":{\"fill_alpha\":{\"value\":0.1},\"fill_color\":{\"value\":\"#1f77b4\"},\"line_alpha\":{\"value\":0.1},\"line_color\":{\"value\":\"#1f77b4\"},\"x\":{\"field\":\"x\"},\"y\":{\"field\":\"y\"}},\"id\":\"1069\",\"type\":\"Circle\"},{\"attributes\":{\"filters\":[{\"id\":\"1149\",\"type\":\"GroupFilter\"}],\"source\":{\"id\":\"1040\",\"type\":\"ColumnDataSource\"}},\"id\":\"1150\",\"type\":\"CDSView\"},{\"attributes\":{\"data_source\":{\"id\":\"1040\",\"type\":\"ColumnDataSource\"},\"glyph\":{\"id\":\"1068\",\"type\":\"Circle\"},\"hover_glyph\":null,\"muted_glyph\":null,\"nonselection_glyph\":{\"id\":\"1069\",\"type\":\"Circle\"},\"selection_glyph\":null,\"view\":{\"id\":\"1066\",\"type\":\"CDSView\"}},\"id\":\"1070\",\"type\":\"GlyphRenderer\"},{\"attributes\":{\"fill_alpha\":{\"value\":0.1},\"fill_color\":{\"value\":\"#1f77b4\"},\"line_alpha\":{\"value\":0.1},\"line_color\":{\"value\":\"#1f77b4\"},\"x\":{\"field\":\"x\"},\"y\":{\"field\":\"y\"}},\"id\":\"1177\",\"type\":\"Circle\"},{\"attributes\":{\"fill_color\":{\"field\":\"label\",\"transform\":{\"id\":\"1003\",\"type\":\"CategoricalColorMapper\"}},\"line_color\":{\"field\":\"label\",\"transform\":{\"id\":\"1003\",\"type\":\"CategoricalColorMapper\"}},\"x\":{\"field\":\"x\"},\"y\":{\"field\":\"y\"}},\"id\":\"1152\",\"type\":\"Circle\"},{\"attributes\":{\"column_name\":\"label\",\"group\":\"E\"},\"id\":\"1071\",\"type\":\"GroupFilter\"},{\"attributes\":{\"filters\":[{\"id\":\"1071\",\"type\":\"GroupFilter\"}],\"source\":{\"id\":\"1040\",\"type\":\"ColumnDataSource\"}},\"id\":\"1072\",\"type\":\"CDSView\"},{\"attributes\":{\"fill_alpha\":{\"value\":0.1},\"fill_color\":{\"value\":\"#1f77b4\"},\"line_alpha\":{\"value\":0.1},\"line_color\":{\"value\":\"#1f77b4\"},\"x\":{\"field\":\"x\"},\"y\":{\"field\":\"y\"}},\"id\":\"1153\",\"type\":\"Circle\"},{\"attributes\":{\"data_source\":{\"id\":\"1040\",\"type\":\"ColumnDataSource\"},\"glyph\":{\"id\":\"1092\",\"type\":\"Circle\"},\"hover_glyph\":null,\"muted_glyph\":null,\"nonselection_glyph\":{\"id\":\"1093\",\"type\":\"Circle\"},\"selection_glyph\":null,\"view\":{\"id\":\"1090\",\"type\":\"CDSView\"}},\"id\":\"1094\",\"type\":\"GlyphRenderer\"},{\"attributes\":{\"data_source\":{\"id\":\"1040\",\"type\":\"ColumnDataSource\"},\"glyph\":{\"id\":\"1152\",\"type\":\"Circle\"},\"hover_glyph\":null,\"muted_glyph\":null,\"nonselection_glyph\":{\"id\":\"1153\",\"type\":\"Circle\"},\"selection_glyph\":null,\"view\":{\"id\":\"1150\",\"type\":\"CDSView\"}},\"id\":\"1154\",\"type\":\"GlyphRenderer\"},{\"attributes\":{\"fill_color\":{\"field\":\"label\",\"transform\":{\"id\":\"1003\",\"type\":\"CategoricalColorMapper\"}},\"line_color\":{\"field\":\"label\",\"transform\":{\"id\":\"1003\",\"type\":\"CategoricalColorMapper\"}},\"x\":{\"field\":\"x\"},\"y\":{\"field\":\"y\"}},\"id\":\"1074\",\"type\":\"Circle\"},{\"attributes\":{\"column_name\":\"label\",\"group\":\"T\"},\"id\":\"1155\",\"type\":\"GroupFilter\"},{\"attributes\":{\"fill_alpha\":{\"value\":0.1},\"fill_color\":{\"value\":\"#1f77b4\"},\"line_alpha\":{\"value\":0.1},\"line_color\":{\"value\":\"#1f77b4\"},\"x\":{\"field\":\"x\"},\"y\":{\"field\":\"y\"}},\"id\":\"1075\",\"type\":\"Circle\"}],\"root_ids\":[\"1004\"]},\"title\":\"Bokeh Application\",\"version\":\"1.2.0\"}};\n",
       "  var render_items = [{\"docid\":\"468633bb-dcc1-443c-887d-e475a1f29cd1\",\"roots\":{\"1004\":\"1b3d02d1-398c-4f12-8236-58c4cca54d3d\"}}];\n",
       "  root.Bokeh.embed.embed_items_notebook(docs_json, render_items);\n",
       "\n",
       "  }\n",
       "  if (root.Bokeh !== undefined) {\n",
       "    embed_document(root);\n",
       "  } else {\n",
       "    var attempts = 0;\n",
       "    var timer = setInterval(function(root) {\n",
       "      if (root.Bokeh !== undefined) {\n",
       "        embed_document(root);\n",
       "        clearInterval(timer);\n",
       "      }\n",
       "      attempts++;\n",
       "      if (attempts > 100) {\n",
       "        console.log(\"Bokeh: ERROR: Unable to run BokehJS code because BokehJS library is missing\");\n",
       "        clearInterval(timer);\n",
       "      }\n",
       "    }, 10, root)\n",
       "  }\n",
       "})(window);"
      ],
      "application/vnd.bokehjs_exec.v0+json": ""
     },
     "metadata": {
      "application/vnd.bokehjs_exec.v0+json": {
       "id": "1004"
      }
     },
     "output_type": "display_data"
    }
   ],
   "source": [
    "show(p)"
   ]
  },
  {
   "cell_type": "code",
   "execution_count": 30,
   "metadata": {},
   "outputs": [],
   "source": [
    "PC1G = mt.filter_cols(mt.phenotypes.family == 'gnomad').scores[0].collect()"
   ]
  },
  {
   "cell_type": "code",
   "execution_count": 31,
   "metadata": {},
   "outputs": [],
   "source": [
    "PC1 = mt.filter_cols(mt.phenotypes.family == 'gnomad', keep = False).scores[0].collect()"
   ]
  },
  {
   "cell_type": "code",
   "execution_count": 34,
   "metadata": {},
   "outputs": [],
   "source": [
    "PC2G = mt.filter_cols(mt.phenotypes.family == 'gnomad').scores[1].collect()"
   ]
  },
  {
   "cell_type": "code",
   "execution_count": 35,
   "metadata": {},
   "outputs": [],
   "source": [
    "PC2 = mt.filter_cols(mt.phenotypes.family == 'gnomad', keep = False).scores[1].collect()"
   ]
  },
  {
   "cell_type": "code",
   "execution_count": 59,
   "metadata": {},
   "outputs": [
    {
     "data": {
      "text/plain": [
       "4.920407728013079"
      ]
     },
     "execution_count": 59,
     "metadata": {},
     "output_type": "execute_result"
    }
   ],
   "source": [
    "max(PC2 + PC2G)/np.std(PC2 + PC2G)"
   ]
  },
  {
   "cell_type": "code",
   "execution_count": 62,
   "metadata": {},
   "outputs": [
    {
     "name": "stdout",
     "output_type": "stream",
     "text": [
      "-0.027559738056229823\n",
      "-0.023334302662061147\n",
      "0.013371564769335048\n",
      "-0.011559144443340623\n"
     ]
    }
   ],
   "source": [
    "for a in [PC1, PC2, PC1G, PC2G]:\n",
    "    print(np.median(a))"
   ]
  },
  {
   "cell_type": "code",
   "execution_count": 57,
   "metadata": {},
   "outputs": [
    {
     "data": {
      "text/plain": [
       "0.11886923746027583"
      ]
     },
     "execution_count": 57,
     "metadata": {},
     "output_type": "execute_result"
    }
   ],
   "source": [
    "np.std(PC1 + PC1G)"
   ]
  },
  {
   "cell_type": "code",
   "execution_count": 37,
   "metadata": {},
   "outputs": [],
   "source": [
    "gts = np.column_stack((PC1, PC2))"
   ]
  },
  {
   "cell_type": "code",
   "execution_count": 38,
   "metadata": {},
   "outputs": [],
   "source": [
    "gno = np.column_stack((PC1G, PC2G))"
   ]
  },
  {
   "cell_type": "code",
   "execution_count": 49,
   "metadata": {},
   "outputs": [
    {
     "data": {
      "text/plain": [
       "0.05567942761165957"
      ]
     },
     "execution_count": 49,
     "metadata": {},
     "output_type": "execute_result"
    }
   ],
   "source": [
    "np.median(np.linalg.norm(gts, axis = 1))"
   ]
  },
  {
   "cell_type": "code",
   "execution_count": 43,
   "metadata": {},
   "outputs": [],
   "source": [
    "gno = np.column_stack((PC1G, PC2G))"
   ]
  },
  {
   "cell_type": "code",
   "execution_count": 50,
   "metadata": {},
   "outputs": [
    {
     "data": {
      "text/plain": [
       "0.01978509273443384"
      ]
     },
     "execution_count": 50,
     "metadata": {},
     "output_type": "execute_result"
    }
   ],
   "source": [
    "np.median(np.linalg.norm(gno, axis = 1))"
   ]
  },
  {
   "cell_type": "code",
   "execution_count": null,
   "metadata": {},
   "outputs": [],
   "source": []
  }
 ],
 "metadata": {
  "kernelspec": {
   "display_name": "Python 3",
   "language": "python",
   "name": "python3"
  },
  "language_info": {
   "codemirror_mode": {
    "name": "ipython",
    "version": 3
   },
   "file_extension": ".py",
   "mimetype": "text/x-python",
   "name": "python",
   "nbconvert_exporter": "python",
   "pygments_lexer": "ipython3",
   "version": "3.6.5"
  }
 },
 "nbformat": 4,
 "nbformat_minor": 2
}
