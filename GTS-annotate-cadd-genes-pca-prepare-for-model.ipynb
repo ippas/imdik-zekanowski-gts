{
 "cells": [
  {
   "cell_type": "code",
   "execution_count": 1,
   "metadata": {},
   "outputs": [
    {
     "data": {
      "text/html": [
       "<style>.container { width:100% !important; }</style>"
      ],
      "text/plain": [
       "<IPython.core.display.HTML object>"
      ]
     },
     "metadata": {},
     "output_type": "display_data"
    },
    {
     "name": "stderr",
     "output_type": "stream",
     "text": [
      "Running on Apache Spark version 2.4.3\n",
      "SparkUI available at http://p1427.prometheus:4041\n",
      "Welcome to\n",
      "     __  __     <>__\n",
      "    / /_/ /__  __/ /\n",
      "   / __  / _ `/ / /\n",
      "  /_/ /_/\\_,_/_/_/   version 0.2.30-2ae07d872f43\n",
      "LOGGING: writing to /net/archive/groups/plggneuromol/GTS-analysis/analysis/hail-20201116-1330-0.2.30-2ae07d872f43.log\n"
     ]
    }
   ],
   "source": [
    "from IPython.display import display\n",
    "from IPython.display import HTML\n",
    "import IPython.core.display as di # Example: di.display_html('<h3>%s:</h3>' % str, raw=True)\n",
    "\n",
    "# This line will hide code by default when the notebook is exported as HTML\n",
    "# di.display_html('<script>jQuery(function() {if (jQuery(\"body.notebook_app\").length == 0) { jQuery(\".input_area\").toggle(); jQuery(\".prompt\").toggle();}});</script>', raw=True)\n",
    "\n",
    "display(HTML(\"<style>.container { width:100% !important; }</style>\"))\n",
    "\n",
    "\n",
    "import hail as hl\n",
    "hl.init(tmp_dir='/net/scratch/people/plggosborcz')"
   ]
  },
  {
   "cell_type": "code",
   "execution_count": 2,
   "metadata": {},
   "outputs": [
    {
     "data": {
      "text/html": [
       "<style>.container { width:100% !important; }</style>"
      ],
      "text/plain": [
       "<IPython.core.display.HTML object>"
      ]
     },
     "metadata": {},
     "output_type": "display_data"
    }
   ],
   "source": [
    "display(HTML(\"<style>.container { width:100% !important; }</style>\"))"
   ]
  },
  {
   "cell_type": "code",
   "execution_count": 3,
   "metadata": {},
   "outputs": [
    {
     "data": {
      "text/html": [
       "\n",
       "    <div class=\"bk-root\">\n",
       "        <a href=\"https://bokeh.pydata.org\" target=\"_blank\" class=\"bk-logo bk-logo-small bk-logo-notebook\"></a>\n",
       "        <span id=\"1001\">Loading BokehJS ...</span>\n",
       "    </div>"
      ]
     },
     "metadata": {},
     "output_type": "display_data"
    },
    {
     "data": {
      "application/javascript": [
       "\n",
       "(function(root) {\n",
       "  function now() {\n",
       "    return new Date();\n",
       "  }\n",
       "\n",
       "  var force = true;\n",
       "\n",
       "  if (typeof root._bokeh_onload_callbacks === \"undefined\" || force === true) {\n",
       "    root._bokeh_onload_callbacks = [];\n",
       "    root._bokeh_is_loading = undefined;\n",
       "  }\n",
       "\n",
       "  var JS_MIME_TYPE = 'application/javascript';\n",
       "  var HTML_MIME_TYPE = 'text/html';\n",
       "  var EXEC_MIME_TYPE = 'application/vnd.bokehjs_exec.v0+json';\n",
       "  var CLASS_NAME = 'output_bokeh rendered_html';\n",
       "\n",
       "  /**\n",
       "   * Render data to the DOM node\n",
       "   */\n",
       "  function render(props, node) {\n",
       "    var script = document.createElement(\"script\");\n",
       "    node.appendChild(script);\n",
       "  }\n",
       "\n",
       "  /**\n",
       "   * Handle when an output is cleared or removed\n",
       "   */\n",
       "  function handleClearOutput(event, handle) {\n",
       "    var cell = handle.cell;\n",
       "\n",
       "    var id = cell.output_area._bokeh_element_id;\n",
       "    var server_id = cell.output_area._bokeh_server_id;\n",
       "    // Clean up Bokeh references\n",
       "    if (id != null && id in Bokeh.index) {\n",
       "      Bokeh.index[id].model.document.clear();\n",
       "      delete Bokeh.index[id];\n",
       "    }\n",
       "\n",
       "    if (server_id !== undefined) {\n",
       "      // Clean up Bokeh references\n",
       "      var cmd = \"from bokeh.io.state import curstate; print(curstate().uuid_to_server['\" + server_id + \"'].get_sessions()[0].document.roots[0]._id)\";\n",
       "      cell.notebook.kernel.execute(cmd, {\n",
       "        iopub: {\n",
       "          output: function(msg) {\n",
       "            var id = msg.content.text.trim();\n",
       "            if (id in Bokeh.index) {\n",
       "              Bokeh.index[id].model.document.clear();\n",
       "              delete Bokeh.index[id];\n",
       "            }\n",
       "          }\n",
       "        }\n",
       "      });\n",
       "      // Destroy server and session\n",
       "      var cmd = \"import bokeh.io.notebook as ion; ion.destroy_server('\" + server_id + \"')\";\n",
       "      cell.notebook.kernel.execute(cmd);\n",
       "    }\n",
       "  }\n",
       "\n",
       "  /**\n",
       "   * Handle when a new output is added\n",
       "   */\n",
       "  function handleAddOutput(event, handle) {\n",
       "    var output_area = handle.output_area;\n",
       "    var output = handle.output;\n",
       "\n",
       "    // limit handleAddOutput to display_data with EXEC_MIME_TYPE content only\n",
       "    if ((output.output_type != \"display_data\") || (!output.data.hasOwnProperty(EXEC_MIME_TYPE))) {\n",
       "      return\n",
       "    }\n",
       "\n",
       "    var toinsert = output_area.element.find(\".\" + CLASS_NAME.split(' ')[0]);\n",
       "\n",
       "    if (output.metadata[EXEC_MIME_TYPE][\"id\"] !== undefined) {\n",
       "      toinsert[toinsert.length - 1].firstChild.textContent = output.data[JS_MIME_TYPE];\n",
       "      // store reference to embed id on output_area\n",
       "      output_area._bokeh_element_id = output.metadata[EXEC_MIME_TYPE][\"id\"];\n",
       "    }\n",
       "    if (output.metadata[EXEC_MIME_TYPE][\"server_id\"] !== undefined) {\n",
       "      var bk_div = document.createElement(\"div\");\n",
       "      bk_div.innerHTML = output.data[HTML_MIME_TYPE];\n",
       "      var script_attrs = bk_div.children[0].attributes;\n",
       "      for (var i = 0; i < script_attrs.length; i++) {\n",
       "        toinsert[toinsert.length - 1].firstChild.setAttribute(script_attrs[i].name, script_attrs[i].value);\n",
       "      }\n",
       "      // store reference to server id on output_area\n",
       "      output_area._bokeh_server_id = output.metadata[EXEC_MIME_TYPE][\"server_id\"];\n",
       "    }\n",
       "  }\n",
       "\n",
       "  function register_renderer(events, OutputArea) {\n",
       "\n",
       "    function append_mime(data, metadata, element) {\n",
       "      // create a DOM node to render to\n",
       "      var toinsert = this.create_output_subarea(\n",
       "        metadata,\n",
       "        CLASS_NAME,\n",
       "        EXEC_MIME_TYPE\n",
       "      );\n",
       "      this.keyboard_manager.register_events(toinsert);\n",
       "      // Render to node\n",
       "      var props = {data: data, metadata: metadata[EXEC_MIME_TYPE]};\n",
       "      render(props, toinsert[toinsert.length - 1]);\n",
       "      element.append(toinsert);\n",
       "      return toinsert\n",
       "    }\n",
       "\n",
       "    /* Handle when an output is cleared or removed */\n",
       "    events.on('clear_output.CodeCell', handleClearOutput);\n",
       "    events.on('delete.Cell', handleClearOutput);\n",
       "\n",
       "    /* Handle when a new output is added */\n",
       "    events.on('output_added.OutputArea', handleAddOutput);\n",
       "\n",
       "    /**\n",
       "     * Register the mime type and append_mime function with output_area\n",
       "     */\n",
       "    OutputArea.prototype.register_mime_type(EXEC_MIME_TYPE, append_mime, {\n",
       "      /* Is output safe? */\n",
       "      safe: true,\n",
       "      /* Index of renderer in `output_area.display_order` */\n",
       "      index: 0\n",
       "    });\n",
       "  }\n",
       "\n",
       "  // register the mime type if in Jupyter Notebook environment and previously unregistered\n",
       "  if (root.Jupyter !== undefined) {\n",
       "    var events = require('base/js/events');\n",
       "    var OutputArea = require('notebook/js/outputarea').OutputArea;\n",
       "\n",
       "    if (OutputArea.prototype.mime_types().indexOf(EXEC_MIME_TYPE) == -1) {\n",
       "      register_renderer(events, OutputArea);\n",
       "    }\n",
       "  }\n",
       "\n",
       "  \n",
       "  if (typeof (root._bokeh_timeout) === \"undefined\" || force === true) {\n",
       "    root._bokeh_timeout = Date.now() + 5000;\n",
       "    root._bokeh_failed_load = false;\n",
       "  }\n",
       "\n",
       "  var NB_LOAD_WARNING = {'data': {'text/html':\n",
       "     \"<div style='background-color: #fdd'>\\n\"+\n",
       "     \"<p>\\n\"+\n",
       "     \"BokehJS does not appear to have successfully loaded. If loading BokehJS from CDN, this \\n\"+\n",
       "     \"may be due to a slow or bad network connection. Possible fixes:\\n\"+\n",
       "     \"</p>\\n\"+\n",
       "     \"<ul>\\n\"+\n",
       "     \"<li>re-rerun `output_notebook()` to attempt to load from CDN again, or</li>\\n\"+\n",
       "     \"<li>use INLINE resources instead, as so:</li>\\n\"+\n",
       "     \"</ul>\\n\"+\n",
       "     \"<code>\\n\"+\n",
       "     \"from bokeh.resources import INLINE\\n\"+\n",
       "     \"output_notebook(resources=INLINE)\\n\"+\n",
       "     \"</code>\\n\"+\n",
       "     \"</div>\"}};\n",
       "\n",
       "  function display_loaded() {\n",
       "    var el = document.getElementById(\"1001\");\n",
       "    if (el != null) {\n",
       "      el.textContent = \"BokehJS is loading...\";\n",
       "    }\n",
       "    if (root.Bokeh !== undefined) {\n",
       "      if (el != null) {\n",
       "        el.textContent = \"BokehJS \" + root.Bokeh.version + \" successfully loaded.\";\n",
       "      }\n",
       "    } else if (Date.now() < root._bokeh_timeout) {\n",
       "      setTimeout(display_loaded, 100)\n",
       "    }\n",
       "  }\n",
       "\n",
       "\n",
       "  function run_callbacks() {\n",
       "    try {\n",
       "      root._bokeh_onload_callbacks.forEach(function(callback) {\n",
       "        if (callback != null)\n",
       "          callback();\n",
       "      });\n",
       "    } finally {\n",
       "      delete root._bokeh_onload_callbacks\n",
       "    }\n",
       "    console.debug(\"Bokeh: all callbacks have finished\");\n",
       "  }\n",
       "\n",
       "  function load_libs(css_urls, js_urls, callback) {\n",
       "    if (css_urls == null) css_urls = [];\n",
       "    if (js_urls == null) js_urls = [];\n",
       "\n",
       "    root._bokeh_onload_callbacks.push(callback);\n",
       "    if (root._bokeh_is_loading > 0) {\n",
       "      console.debug(\"Bokeh: BokehJS is being loaded, scheduling callback at\", now());\n",
       "      return null;\n",
       "    }\n",
       "    if (js_urls == null || js_urls.length === 0) {\n",
       "      run_callbacks();\n",
       "      return null;\n",
       "    }\n",
       "    console.debug(\"Bokeh: BokehJS not loaded, scheduling load and callback at\", now());\n",
       "    root._bokeh_is_loading = css_urls.length + js_urls.length;\n",
       "\n",
       "    function on_load() {\n",
       "      root._bokeh_is_loading--;\n",
       "      if (root._bokeh_is_loading === 0) {\n",
       "        console.debug(\"Bokeh: all BokehJS libraries/stylesheets loaded\");\n",
       "        run_callbacks()\n",
       "      }\n",
       "    }\n",
       "\n",
       "    function on_error() {\n",
       "      console.error(\"failed to load \" + url);\n",
       "    }\n",
       "\n",
       "    for (var i = 0; i < css_urls.length; i++) {\n",
       "      var url = css_urls[i];\n",
       "      const element = document.createElement(\"link\");\n",
       "      element.onload = on_load;\n",
       "      element.onerror = on_error;\n",
       "      element.rel = \"stylesheet\";\n",
       "      element.type = \"text/css\";\n",
       "      element.href = url;\n",
       "      console.debug(\"Bokeh: injecting link tag for BokehJS stylesheet: \", url);\n",
       "      document.body.appendChild(element);\n",
       "    }\n",
       "\n",
       "    for (var i = 0; i < js_urls.length; i++) {\n",
       "      var url = js_urls[i];\n",
       "      var element = document.createElement('script');\n",
       "      element.onload = on_load;\n",
       "      element.onerror = on_error;\n",
       "      element.async = false;\n",
       "      element.src = url;\n",
       "      console.debug(\"Bokeh: injecting script tag for BokehJS library: \", url);\n",
       "      document.head.appendChild(element);\n",
       "    }\n",
       "  };var element = document.getElementById(\"1001\");\n",
       "  if (element == null) {\n",
       "    console.error(\"Bokeh: ERROR: autoload.js configured with elementid '1001' but no matching script tag was found. \")\n",
       "    return false;\n",
       "  }\n",
       "\n",
       "  function inject_raw_css(css) {\n",
       "    const element = document.createElement(\"style\");\n",
       "    element.appendChild(document.createTextNode(css));\n",
       "    document.body.appendChild(element);\n",
       "  }\n",
       "\n",
       "  var js_urls = [\"https://cdn.pydata.org/bokeh/release/bokeh-1.2.0.min.js\", \"https://cdn.pydata.org/bokeh/release/bokeh-widgets-1.2.0.min.js\", \"https://cdn.pydata.org/bokeh/release/bokeh-tables-1.2.0.min.js\", \"https://cdn.pydata.org/bokeh/release/bokeh-gl-1.2.0.min.js\"];\n",
       "  var css_urls = [\"https://cdn.pydata.org/bokeh/release/bokeh-1.2.0.min.css\", \"https://cdn.pydata.org/bokeh/release/bokeh-widgets-1.2.0.min.css\", \"https://cdn.pydata.org/bokeh/release/bokeh-tables-1.2.0.min.css\"];\n",
       "\n",
       "  var inline_js = [\n",
       "    function(Bokeh) {\n",
       "      Bokeh.set_log_level(\"info\");\n",
       "    },\n",
       "    \n",
       "    function(Bokeh) {\n",
       "      \n",
       "    },\n",
       "    function(Bokeh) {} // ensure no trailing comma for IE\n",
       "  ];\n",
       "\n",
       "  function run_inline_js() {\n",
       "    \n",
       "    if ((root.Bokeh !== undefined) || (force === true)) {\n",
       "      for (var i = 0; i < inline_js.length; i++) {\n",
       "        inline_js[i].call(root, root.Bokeh);\n",
       "      }if (force === true) {\n",
       "        display_loaded();\n",
       "      }} else if (Date.now() < root._bokeh_timeout) {\n",
       "      setTimeout(run_inline_js, 100);\n",
       "    } else if (!root._bokeh_failed_load) {\n",
       "      console.log(\"Bokeh: BokehJS failed to load within specified timeout.\");\n",
       "      root._bokeh_failed_load = true;\n",
       "    } else if (force !== true) {\n",
       "      var cell = $(document.getElementById(\"1001\")).parents('.cell').data().cell;\n",
       "      cell.output_area.append_execute_result(NB_LOAD_WARNING)\n",
       "    }\n",
       "\n",
       "  }\n",
       "\n",
       "  if (root._bokeh_is_loading === 0) {\n",
       "    console.debug(\"Bokeh: BokehJS loaded, going straight to plotting\");\n",
       "    run_inline_js();\n",
       "  } else {\n",
       "    load_libs(css_urls, js_urls, function() {\n",
       "      console.debug(\"Bokeh: BokehJS plotting callback run at\", now());\n",
       "      run_inline_js();\n",
       "    });\n",
       "  }\n",
       "}(window));"
      ],
      "application/vnd.bokehjs_load.v0+json": "\n(function(root) {\n  function now() {\n    return new Date();\n  }\n\n  var force = true;\n\n  if (typeof root._bokeh_onload_callbacks === \"undefined\" || force === true) {\n    root._bokeh_onload_callbacks = [];\n    root._bokeh_is_loading = undefined;\n  }\n\n  \n\n  \n  if (typeof (root._bokeh_timeout) === \"undefined\" || force === true) {\n    root._bokeh_timeout = Date.now() + 5000;\n    root._bokeh_failed_load = false;\n  }\n\n  var NB_LOAD_WARNING = {'data': {'text/html':\n     \"<div style='background-color: #fdd'>\\n\"+\n     \"<p>\\n\"+\n     \"BokehJS does not appear to have successfully loaded. If loading BokehJS from CDN, this \\n\"+\n     \"may be due to a slow or bad network connection. Possible fixes:\\n\"+\n     \"</p>\\n\"+\n     \"<ul>\\n\"+\n     \"<li>re-rerun `output_notebook()` to attempt to load from CDN again, or</li>\\n\"+\n     \"<li>use INLINE resources instead, as so:</li>\\n\"+\n     \"</ul>\\n\"+\n     \"<code>\\n\"+\n     \"from bokeh.resources import INLINE\\n\"+\n     \"output_notebook(resources=INLINE)\\n\"+\n     \"</code>\\n\"+\n     \"</div>\"}};\n\n  function display_loaded() {\n    var el = document.getElementById(\"1001\");\n    if (el != null) {\n      el.textContent = \"BokehJS is loading...\";\n    }\n    if (root.Bokeh !== undefined) {\n      if (el != null) {\n        el.textContent = \"BokehJS \" + root.Bokeh.version + \" successfully loaded.\";\n      }\n    } else if (Date.now() < root._bokeh_timeout) {\n      setTimeout(display_loaded, 100)\n    }\n  }\n\n\n  function run_callbacks() {\n    try {\n      root._bokeh_onload_callbacks.forEach(function(callback) {\n        if (callback != null)\n          callback();\n      });\n    } finally {\n      delete root._bokeh_onload_callbacks\n    }\n    console.debug(\"Bokeh: all callbacks have finished\");\n  }\n\n  function load_libs(css_urls, js_urls, callback) {\n    if (css_urls == null) css_urls = [];\n    if (js_urls == null) js_urls = [];\n\n    root._bokeh_onload_callbacks.push(callback);\n    if (root._bokeh_is_loading > 0) {\n      console.debug(\"Bokeh: BokehJS is being loaded, scheduling callback at\", now());\n      return null;\n    }\n    if (js_urls == null || js_urls.length === 0) {\n      run_callbacks();\n      return null;\n    }\n    console.debug(\"Bokeh: BokehJS not loaded, scheduling load and callback at\", now());\n    root._bokeh_is_loading = css_urls.length + js_urls.length;\n\n    function on_load() {\n      root._bokeh_is_loading--;\n      if (root._bokeh_is_loading === 0) {\n        console.debug(\"Bokeh: all BokehJS libraries/stylesheets loaded\");\n        run_callbacks()\n      }\n    }\n\n    function on_error() {\n      console.error(\"failed to load \" + url);\n    }\n\n    for (var i = 0; i < css_urls.length; i++) {\n      var url = css_urls[i];\n      const element = document.createElement(\"link\");\n      element.onload = on_load;\n      element.onerror = on_error;\n      element.rel = \"stylesheet\";\n      element.type = \"text/css\";\n      element.href = url;\n      console.debug(\"Bokeh: injecting link tag for BokehJS stylesheet: \", url);\n      document.body.appendChild(element);\n    }\n\n    for (var i = 0; i < js_urls.length; i++) {\n      var url = js_urls[i];\n      var element = document.createElement('script');\n      element.onload = on_load;\n      element.onerror = on_error;\n      element.async = false;\n      element.src = url;\n      console.debug(\"Bokeh: injecting script tag for BokehJS library: \", url);\n      document.head.appendChild(element);\n    }\n  };var element = document.getElementById(\"1001\");\n  if (element == null) {\n    console.error(\"Bokeh: ERROR: autoload.js configured with elementid '1001' but no matching script tag was found. \")\n    return false;\n  }\n\n  function inject_raw_css(css) {\n    const element = document.createElement(\"style\");\n    element.appendChild(document.createTextNode(css));\n    document.body.appendChild(element);\n  }\n\n  var js_urls = [\"https://cdn.pydata.org/bokeh/release/bokeh-1.2.0.min.js\", \"https://cdn.pydata.org/bokeh/release/bokeh-widgets-1.2.0.min.js\", \"https://cdn.pydata.org/bokeh/release/bokeh-tables-1.2.0.min.js\", \"https://cdn.pydata.org/bokeh/release/bokeh-gl-1.2.0.min.js\"];\n  var css_urls = [\"https://cdn.pydata.org/bokeh/release/bokeh-1.2.0.min.css\", \"https://cdn.pydata.org/bokeh/release/bokeh-widgets-1.2.0.min.css\", \"https://cdn.pydata.org/bokeh/release/bokeh-tables-1.2.0.min.css\"];\n\n  var inline_js = [\n    function(Bokeh) {\n      Bokeh.set_log_level(\"info\");\n    },\n    \n    function(Bokeh) {\n      \n    },\n    function(Bokeh) {} // ensure no trailing comma for IE\n  ];\n\n  function run_inline_js() {\n    \n    if ((root.Bokeh !== undefined) || (force === true)) {\n      for (var i = 0; i < inline_js.length; i++) {\n        inline_js[i].call(root, root.Bokeh);\n      }if (force === true) {\n        display_loaded();\n      }} else if (Date.now() < root._bokeh_timeout) {\n      setTimeout(run_inline_js, 100);\n    } else if (!root._bokeh_failed_load) {\n      console.log(\"Bokeh: BokehJS failed to load within specified timeout.\");\n      root._bokeh_failed_load = true;\n    } else if (force !== true) {\n      var cell = $(document.getElementById(\"1001\")).parents('.cell').data().cell;\n      cell.output_area.append_execute_result(NB_LOAD_WARNING)\n    }\n\n  }\n\n  if (root._bokeh_is_loading === 0) {\n    console.debug(\"Bokeh: BokehJS loaded, going straight to plotting\");\n    run_inline_js();\n  } else {\n    load_libs(css_urls, js_urls, function() {\n      console.debug(\"Bokeh: BokehJS plotting callback run at\", now());\n      run_inline_js();\n    });\n  }\n}(window));"
     },
     "metadata": {},
     "output_type": "display_data"
    }
   ],
   "source": [
    "from hail.plot import show\n",
    "from pprint import pprint\n",
    "from bokeh.layouts import gridplot\n",
    "hl.plot.output_notebook()\n",
    "\n",
    "import numpy as np\n",
    "import pandas as pd\n",
    "from functools import reduce\n",
    "from itertools import chain\n",
    "import statistics as stat"
   ]
  },
  {
   "cell_type": "code",
   "execution_count": 4,
   "metadata": {},
   "outputs": [
    {
     "data": {
      "text/html": [
       "\n",
       "    <div class=\"bk-root\">\n",
       "        <a href=\"https://bokeh.pydata.org\" target=\"_blank\" class=\"bk-logo bk-logo-small bk-logo-notebook\"></a>\n",
       "        <span id=\"1002\">Loading BokehJS ...</span>\n",
       "    </div>"
      ]
     },
     "metadata": {},
     "output_type": "display_data"
    },
    {
     "data": {
      "application/javascript": [
       "\n",
       "(function(root) {\n",
       "  function now() {\n",
       "    return new Date();\n",
       "  }\n",
       "\n",
       "  var force = true;\n",
       "\n",
       "  if (typeof root._bokeh_onload_callbacks === \"undefined\" || force === true) {\n",
       "    root._bokeh_onload_callbacks = [];\n",
       "    root._bokeh_is_loading = undefined;\n",
       "  }\n",
       "\n",
       "  var JS_MIME_TYPE = 'application/javascript';\n",
       "  var HTML_MIME_TYPE = 'text/html';\n",
       "  var EXEC_MIME_TYPE = 'application/vnd.bokehjs_exec.v0+json';\n",
       "  var CLASS_NAME = 'output_bokeh rendered_html';\n",
       "\n",
       "  /**\n",
       "   * Render data to the DOM node\n",
       "   */\n",
       "  function render(props, node) {\n",
       "    var script = document.createElement(\"script\");\n",
       "    node.appendChild(script);\n",
       "  }\n",
       "\n",
       "  /**\n",
       "   * Handle when an output is cleared or removed\n",
       "   */\n",
       "  function handleClearOutput(event, handle) {\n",
       "    var cell = handle.cell;\n",
       "\n",
       "    var id = cell.output_area._bokeh_element_id;\n",
       "    var server_id = cell.output_area._bokeh_server_id;\n",
       "    // Clean up Bokeh references\n",
       "    if (id != null && id in Bokeh.index) {\n",
       "      Bokeh.index[id].model.document.clear();\n",
       "      delete Bokeh.index[id];\n",
       "    }\n",
       "\n",
       "    if (server_id !== undefined) {\n",
       "      // Clean up Bokeh references\n",
       "      var cmd = \"from bokeh.io.state import curstate; print(curstate().uuid_to_server['\" + server_id + \"'].get_sessions()[0].document.roots[0]._id)\";\n",
       "      cell.notebook.kernel.execute(cmd, {\n",
       "        iopub: {\n",
       "          output: function(msg) {\n",
       "            var id = msg.content.text.trim();\n",
       "            if (id in Bokeh.index) {\n",
       "              Bokeh.index[id].model.document.clear();\n",
       "              delete Bokeh.index[id];\n",
       "            }\n",
       "          }\n",
       "        }\n",
       "      });\n",
       "      // Destroy server and session\n",
       "      var cmd = \"import bokeh.io.notebook as ion; ion.destroy_server('\" + server_id + \"')\";\n",
       "      cell.notebook.kernel.execute(cmd);\n",
       "    }\n",
       "  }\n",
       "\n",
       "  /**\n",
       "   * Handle when a new output is added\n",
       "   */\n",
       "  function handleAddOutput(event, handle) {\n",
       "    var output_area = handle.output_area;\n",
       "    var output = handle.output;\n",
       "\n",
       "    // limit handleAddOutput to display_data with EXEC_MIME_TYPE content only\n",
       "    if ((output.output_type != \"display_data\") || (!output.data.hasOwnProperty(EXEC_MIME_TYPE))) {\n",
       "      return\n",
       "    }\n",
       "\n",
       "    var toinsert = output_area.element.find(\".\" + CLASS_NAME.split(' ')[0]);\n",
       "\n",
       "    if (output.metadata[EXEC_MIME_TYPE][\"id\"] !== undefined) {\n",
       "      toinsert[toinsert.length - 1].firstChild.textContent = output.data[JS_MIME_TYPE];\n",
       "      // store reference to embed id on output_area\n",
       "      output_area._bokeh_element_id = output.metadata[EXEC_MIME_TYPE][\"id\"];\n",
       "    }\n",
       "    if (output.metadata[EXEC_MIME_TYPE][\"server_id\"] !== undefined) {\n",
       "      var bk_div = document.createElement(\"div\");\n",
       "      bk_div.innerHTML = output.data[HTML_MIME_TYPE];\n",
       "      var script_attrs = bk_div.children[0].attributes;\n",
       "      for (var i = 0; i < script_attrs.length; i++) {\n",
       "        toinsert[toinsert.length - 1].firstChild.setAttribute(script_attrs[i].name, script_attrs[i].value);\n",
       "      }\n",
       "      // store reference to server id on output_area\n",
       "      output_area._bokeh_server_id = output.metadata[EXEC_MIME_TYPE][\"server_id\"];\n",
       "    }\n",
       "  }\n",
       "\n",
       "  function register_renderer(events, OutputArea) {\n",
       "\n",
       "    function append_mime(data, metadata, element) {\n",
       "      // create a DOM node to render to\n",
       "      var toinsert = this.create_output_subarea(\n",
       "        metadata,\n",
       "        CLASS_NAME,\n",
       "        EXEC_MIME_TYPE\n",
       "      );\n",
       "      this.keyboard_manager.register_events(toinsert);\n",
       "      // Render to node\n",
       "      var props = {data: data, metadata: metadata[EXEC_MIME_TYPE]};\n",
       "      render(props, toinsert[toinsert.length - 1]);\n",
       "      element.append(toinsert);\n",
       "      return toinsert\n",
       "    }\n",
       "\n",
       "    /* Handle when an output is cleared or removed */\n",
       "    events.on('clear_output.CodeCell', handleClearOutput);\n",
       "    events.on('delete.Cell', handleClearOutput);\n",
       "\n",
       "    /* Handle when a new output is added */\n",
       "    events.on('output_added.OutputArea', handleAddOutput);\n",
       "\n",
       "    /**\n",
       "     * Register the mime type and append_mime function with output_area\n",
       "     */\n",
       "    OutputArea.prototype.register_mime_type(EXEC_MIME_TYPE, append_mime, {\n",
       "      /* Is output safe? */\n",
       "      safe: true,\n",
       "      /* Index of renderer in `output_area.display_order` */\n",
       "      index: 0\n",
       "    });\n",
       "  }\n",
       "\n",
       "  // register the mime type if in Jupyter Notebook environment and previously unregistered\n",
       "  if (root.Jupyter !== undefined) {\n",
       "    var events = require('base/js/events');\n",
       "    var OutputArea = require('notebook/js/outputarea').OutputArea;\n",
       "\n",
       "    if (OutputArea.prototype.mime_types().indexOf(EXEC_MIME_TYPE) == -1) {\n",
       "      register_renderer(events, OutputArea);\n",
       "    }\n",
       "  }\n",
       "\n",
       "  \n",
       "  if (typeof (root._bokeh_timeout) === \"undefined\" || force === true) {\n",
       "    root._bokeh_timeout = Date.now() + 5000;\n",
       "    root._bokeh_failed_load = false;\n",
       "  }\n",
       "\n",
       "  var NB_LOAD_WARNING = {'data': {'text/html':\n",
       "     \"<div style='background-color: #fdd'>\\n\"+\n",
       "     \"<p>\\n\"+\n",
       "     \"BokehJS does not appear to have successfully loaded. If loading BokehJS from CDN, this \\n\"+\n",
       "     \"may be due to a slow or bad network connection. Possible fixes:\\n\"+\n",
       "     \"</p>\\n\"+\n",
       "     \"<ul>\\n\"+\n",
       "     \"<li>re-rerun `output_notebook()` to attempt to load from CDN again, or</li>\\n\"+\n",
       "     \"<li>use INLINE resources instead, as so:</li>\\n\"+\n",
       "     \"</ul>\\n\"+\n",
       "     \"<code>\\n\"+\n",
       "     \"from bokeh.resources import INLINE\\n\"+\n",
       "     \"output_notebook(resources=INLINE)\\n\"+\n",
       "     \"</code>\\n\"+\n",
       "     \"</div>\"}};\n",
       "\n",
       "  function display_loaded() {\n",
       "    var el = document.getElementById(\"1002\");\n",
       "    if (el != null) {\n",
       "      el.textContent = \"BokehJS is loading...\";\n",
       "    }\n",
       "    if (root.Bokeh !== undefined) {\n",
       "      if (el != null) {\n",
       "        el.textContent = \"BokehJS \" + root.Bokeh.version + \" successfully loaded.\";\n",
       "      }\n",
       "    } else if (Date.now() < root._bokeh_timeout) {\n",
       "      setTimeout(display_loaded, 100)\n",
       "    }\n",
       "  }\n",
       "\n",
       "\n",
       "  function run_callbacks() {\n",
       "    try {\n",
       "      root._bokeh_onload_callbacks.forEach(function(callback) {\n",
       "        if (callback != null)\n",
       "          callback();\n",
       "      });\n",
       "    } finally {\n",
       "      delete root._bokeh_onload_callbacks\n",
       "    }\n",
       "    console.debug(\"Bokeh: all callbacks have finished\");\n",
       "  }\n",
       "\n",
       "  function load_libs(css_urls, js_urls, callback) {\n",
       "    if (css_urls == null) css_urls = [];\n",
       "    if (js_urls == null) js_urls = [];\n",
       "\n",
       "    root._bokeh_onload_callbacks.push(callback);\n",
       "    if (root._bokeh_is_loading > 0) {\n",
       "      console.debug(\"Bokeh: BokehJS is being loaded, scheduling callback at\", now());\n",
       "      return null;\n",
       "    }\n",
       "    if (js_urls == null || js_urls.length === 0) {\n",
       "      run_callbacks();\n",
       "      return null;\n",
       "    }\n",
       "    console.debug(\"Bokeh: BokehJS not loaded, scheduling load and callback at\", now());\n",
       "    root._bokeh_is_loading = css_urls.length + js_urls.length;\n",
       "\n",
       "    function on_load() {\n",
       "      root._bokeh_is_loading--;\n",
       "      if (root._bokeh_is_loading === 0) {\n",
       "        console.debug(\"Bokeh: all BokehJS libraries/stylesheets loaded\");\n",
       "        run_callbacks()\n",
       "      }\n",
       "    }\n",
       "\n",
       "    function on_error() {\n",
       "      console.error(\"failed to load \" + url);\n",
       "    }\n",
       "\n",
       "    for (var i = 0; i < css_urls.length; i++) {\n",
       "      var url = css_urls[i];\n",
       "      const element = document.createElement(\"link\");\n",
       "      element.onload = on_load;\n",
       "      element.onerror = on_error;\n",
       "      element.rel = \"stylesheet\";\n",
       "      element.type = \"text/css\";\n",
       "      element.href = url;\n",
       "      console.debug(\"Bokeh: injecting link tag for BokehJS stylesheet: \", url);\n",
       "      document.body.appendChild(element);\n",
       "    }\n",
       "\n",
       "    for (var i = 0; i < js_urls.length; i++) {\n",
       "      var url = js_urls[i];\n",
       "      var element = document.createElement('script');\n",
       "      element.onload = on_load;\n",
       "      element.onerror = on_error;\n",
       "      element.async = false;\n",
       "      element.src = url;\n",
       "      console.debug(\"Bokeh: injecting script tag for BokehJS library: \", url);\n",
       "      document.head.appendChild(element);\n",
       "    }\n",
       "  };var element = document.getElementById(\"1002\");\n",
       "  if (element == null) {\n",
       "    console.error(\"Bokeh: ERROR: autoload.js configured with elementid '1002' but no matching script tag was found. \")\n",
       "    return false;\n",
       "  }\n",
       "\n",
       "  function inject_raw_css(css) {\n",
       "    const element = document.createElement(\"style\");\n",
       "    element.appendChild(document.createTextNode(css));\n",
       "    document.body.appendChild(element);\n",
       "  }\n",
       "\n",
       "  var js_urls = [\"https://cdn.pydata.org/bokeh/release/bokeh-1.2.0.min.js\", \"https://cdn.pydata.org/bokeh/release/bokeh-widgets-1.2.0.min.js\", \"https://cdn.pydata.org/bokeh/release/bokeh-tables-1.2.0.min.js\", \"https://cdn.pydata.org/bokeh/release/bokeh-gl-1.2.0.min.js\"];\n",
       "  var css_urls = [\"https://cdn.pydata.org/bokeh/release/bokeh-1.2.0.min.css\", \"https://cdn.pydata.org/bokeh/release/bokeh-widgets-1.2.0.min.css\", \"https://cdn.pydata.org/bokeh/release/bokeh-tables-1.2.0.min.css\"];\n",
       "\n",
       "  var inline_js = [\n",
       "    function(Bokeh) {\n",
       "      Bokeh.set_log_level(\"info\");\n",
       "    },\n",
       "    \n",
       "    function(Bokeh) {\n",
       "      \n",
       "    },\n",
       "    function(Bokeh) {} // ensure no trailing comma for IE\n",
       "  ];\n",
       "\n",
       "  function run_inline_js() {\n",
       "    \n",
       "    if ((root.Bokeh !== undefined) || (force === true)) {\n",
       "      for (var i = 0; i < inline_js.length; i++) {\n",
       "        inline_js[i].call(root, root.Bokeh);\n",
       "      }if (force === true) {\n",
       "        display_loaded();\n",
       "      }} else if (Date.now() < root._bokeh_timeout) {\n",
       "      setTimeout(run_inline_js, 100);\n",
       "    } else if (!root._bokeh_failed_load) {\n",
       "      console.log(\"Bokeh: BokehJS failed to load within specified timeout.\");\n",
       "      root._bokeh_failed_load = true;\n",
       "    } else if (force !== true) {\n",
       "      var cell = $(document.getElementById(\"1002\")).parents('.cell').data().cell;\n",
       "      cell.output_area.append_execute_result(NB_LOAD_WARNING)\n",
       "    }\n",
       "\n",
       "  }\n",
       "\n",
       "  if (root._bokeh_is_loading === 0) {\n",
       "    console.debug(\"Bokeh: BokehJS loaded, going straight to plotting\");\n",
       "    run_inline_js();\n",
       "  } else {\n",
       "    load_libs(css_urls, js_urls, function() {\n",
       "      console.debug(\"Bokeh: BokehJS plotting callback run at\", now());\n",
       "      run_inline_js();\n",
       "    });\n",
       "  }\n",
       "}(window));"
      ],
      "application/vnd.bokehjs_load.v0+json": "\n(function(root) {\n  function now() {\n    return new Date();\n  }\n\n  var force = true;\n\n  if (typeof root._bokeh_onload_callbacks === \"undefined\" || force === true) {\n    root._bokeh_onload_callbacks = [];\n    root._bokeh_is_loading = undefined;\n  }\n\n  \n\n  \n  if (typeof (root._bokeh_timeout) === \"undefined\" || force === true) {\n    root._bokeh_timeout = Date.now() + 5000;\n    root._bokeh_failed_load = false;\n  }\n\n  var NB_LOAD_WARNING = {'data': {'text/html':\n     \"<div style='background-color: #fdd'>\\n\"+\n     \"<p>\\n\"+\n     \"BokehJS does not appear to have successfully loaded. If loading BokehJS from CDN, this \\n\"+\n     \"may be due to a slow or bad network connection. Possible fixes:\\n\"+\n     \"</p>\\n\"+\n     \"<ul>\\n\"+\n     \"<li>re-rerun `output_notebook()` to attempt to load from CDN again, or</li>\\n\"+\n     \"<li>use INLINE resources instead, as so:</li>\\n\"+\n     \"</ul>\\n\"+\n     \"<code>\\n\"+\n     \"from bokeh.resources import INLINE\\n\"+\n     \"output_notebook(resources=INLINE)\\n\"+\n     \"</code>\\n\"+\n     \"</div>\"}};\n\n  function display_loaded() {\n    var el = document.getElementById(\"1002\");\n    if (el != null) {\n      el.textContent = \"BokehJS is loading...\";\n    }\n    if (root.Bokeh !== undefined) {\n      if (el != null) {\n        el.textContent = \"BokehJS \" + root.Bokeh.version + \" successfully loaded.\";\n      }\n    } else if (Date.now() < root._bokeh_timeout) {\n      setTimeout(display_loaded, 100)\n    }\n  }\n\n\n  function run_callbacks() {\n    try {\n      root._bokeh_onload_callbacks.forEach(function(callback) {\n        if (callback != null)\n          callback();\n      });\n    } finally {\n      delete root._bokeh_onload_callbacks\n    }\n    console.debug(\"Bokeh: all callbacks have finished\");\n  }\n\n  function load_libs(css_urls, js_urls, callback) {\n    if (css_urls == null) css_urls = [];\n    if (js_urls == null) js_urls = [];\n\n    root._bokeh_onload_callbacks.push(callback);\n    if (root._bokeh_is_loading > 0) {\n      console.debug(\"Bokeh: BokehJS is being loaded, scheduling callback at\", now());\n      return null;\n    }\n    if (js_urls == null || js_urls.length === 0) {\n      run_callbacks();\n      return null;\n    }\n    console.debug(\"Bokeh: BokehJS not loaded, scheduling load and callback at\", now());\n    root._bokeh_is_loading = css_urls.length + js_urls.length;\n\n    function on_load() {\n      root._bokeh_is_loading--;\n      if (root._bokeh_is_loading === 0) {\n        console.debug(\"Bokeh: all BokehJS libraries/stylesheets loaded\");\n        run_callbacks()\n      }\n    }\n\n    function on_error() {\n      console.error(\"failed to load \" + url);\n    }\n\n    for (var i = 0; i < css_urls.length; i++) {\n      var url = css_urls[i];\n      const element = document.createElement(\"link\");\n      element.onload = on_load;\n      element.onerror = on_error;\n      element.rel = \"stylesheet\";\n      element.type = \"text/css\";\n      element.href = url;\n      console.debug(\"Bokeh: injecting link tag for BokehJS stylesheet: \", url);\n      document.body.appendChild(element);\n    }\n\n    for (var i = 0; i < js_urls.length; i++) {\n      var url = js_urls[i];\n      var element = document.createElement('script');\n      element.onload = on_load;\n      element.onerror = on_error;\n      element.async = false;\n      element.src = url;\n      console.debug(\"Bokeh: injecting script tag for BokehJS library: \", url);\n      document.head.appendChild(element);\n    }\n  };var element = document.getElementById(\"1002\");\n  if (element == null) {\n    console.error(\"Bokeh: ERROR: autoload.js configured with elementid '1002' but no matching script tag was found. \")\n    return false;\n  }\n\n  function inject_raw_css(css) {\n    const element = document.createElement(\"style\");\n    element.appendChild(document.createTextNode(css));\n    document.body.appendChild(element);\n  }\n\n  var js_urls = [\"https://cdn.pydata.org/bokeh/release/bokeh-1.2.0.min.js\", \"https://cdn.pydata.org/bokeh/release/bokeh-widgets-1.2.0.min.js\", \"https://cdn.pydata.org/bokeh/release/bokeh-tables-1.2.0.min.js\", \"https://cdn.pydata.org/bokeh/release/bokeh-gl-1.2.0.min.js\"];\n  var css_urls = [\"https://cdn.pydata.org/bokeh/release/bokeh-1.2.0.min.css\", \"https://cdn.pydata.org/bokeh/release/bokeh-widgets-1.2.0.min.css\", \"https://cdn.pydata.org/bokeh/release/bokeh-tables-1.2.0.min.css\"];\n\n  var inline_js = [\n    function(Bokeh) {\n      Bokeh.set_log_level(\"info\");\n    },\n    \n    function(Bokeh) {\n      \n    },\n    function(Bokeh) {} // ensure no trailing comma for IE\n  ];\n\n  function run_inline_js() {\n    \n    if ((root.Bokeh !== undefined) || (force === true)) {\n      for (var i = 0; i < inline_js.length; i++) {\n        inline_js[i].call(root, root.Bokeh);\n      }if (force === true) {\n        display_loaded();\n      }} else if (Date.now() < root._bokeh_timeout) {\n      setTimeout(run_inline_js, 100);\n    } else if (!root._bokeh_failed_load) {\n      console.log(\"Bokeh: BokehJS failed to load within specified timeout.\");\n      root._bokeh_failed_load = true;\n    } else if (force !== true) {\n      var cell = $(document.getElementById(\"1002\")).parents('.cell').data().cell;\n      cell.output_area.append_execute_result(NB_LOAD_WARNING)\n    }\n\n  }\n\n  if (root._bokeh_is_loading === 0) {\n    console.debug(\"Bokeh: BokehJS loaded, going straight to plotting\");\n    run_inline_js();\n  } else {\n    load_libs(css_urls, js_urls, function() {\n      console.debug(\"Bokeh: BokehJS plotting callback run at\", now());\n      run_inline_js();\n    });\n  }\n}(window));"
     },
     "metadata": {},
     "output_type": "display_data"
    }
   ],
   "source": [
    "from bokeh.plotting import figure, show, output_notebook\n",
    "output_notebook()"
   ]
  },
  {
   "cell_type": "code",
   "execution_count": 28,
   "metadata": {},
   "outputs": [],
   "source": [
    "import bokeh.models.mappers"
   ]
  },
  {
   "cell_type": "markdown",
   "metadata": {},
   "source": [
    "## CADD annotation"
   ]
  },
  {
   "cell_type": "code",
   "execution_count": null,
   "metadata": {},
   "outputs": [],
   "source": [
    "mt = hl.read_matrix_table('/net/archive/groups/plggneuromol/GTS-analysis/data/GTS-with-pheno.mt')"
   ]
  },
  {
   "cell_type": "code",
   "execution_count": null,
   "metadata": {},
   "outputs": [],
   "source": [
    "cd = hl.import_table('/net/archive/groups/plggneuromol/GTS-analysis/cadd/whole_genome_SNVs.tsv.gz', force_bgz = True, delimiter='\\t', comment='#', \n",
    "                     types = {'f0':'tstr', 'f1':'tint', 'f2':'tstr', 'f3':'tstr', 'f4':'tfloat', 'f5':'tfloat'},\n",
    "                     no_header = True)"
   ]
  },
  {
   "cell_type": "code",
   "execution_count": null,
   "metadata": {},
   "outputs": [],
   "source": [
    "cd = cd.select(variants = hl.parse_variant('chr'+hl.str(cd.f0)+':'+hl.str(cd.f1)+':'+hl.str(cd.f2)+':'+hl.str(cd.f3), reference_genome='GRCh38'),\n",
    "               cadd_score = cd.f5)"
   ]
  },
  {
   "cell_type": "code",
   "execution_count": null,
   "metadata": {},
   "outputs": [],
   "source": [
    "cd = hl.read_table('/net/archive/groups/plggneuromol/GTS-analysis/data/cadd-all.mt')"
   ]
  },
  {
   "cell_type": "code",
   "execution_count": null,
   "metadata": {},
   "outputs": [],
   "source": [
    "contigs = ['chr1',\n",
    " 'chr2',\n",
    " 'chr3',\n",
    " 'chr4',\n",
    " 'chr5',\n",
    " 'chr6',\n",
    " 'chr7',\n",
    " 'chr8',\n",
    " 'chr9',\n",
    " 'chr10',\n",
    " 'chr11',\n",
    " 'chr12',\n",
    " 'chr13',\n",
    " 'chr14',\n",
    " 'chr15',\n",
    " 'chr16',\n",
    " 'chr17',\n",
    " 'chr18',\n",
    " 'chr19',\n",
    " 'chr20',\n",
    " 'chr21',\n",
    " 'chr22']"
   ]
  },
  {
   "cell_type": "code",
   "execution_count": null,
   "metadata": {},
   "outputs": [],
   "source": [
    "for c in contigs:\n",
    "    cd_chr = cd.filter(cd.variants.locus.contig == c)\n",
    "    cd_chr = cd_chr.key_by(cd_chr.variants.locus,cd_chr.variants.alleles)\n",
    "    cd_chr.write('/net/archive/groups/plggneuromol/GTS-analysis/data/cadd-per-chr/'+c+'_cadd.mt')\n",
    "    \n",
    "cd_chr = cd.filter(hl.array(contigs).contains(cd.variants.locus.contig), keep = False)\n",
    "cd_chr = cd_chr.key_by(cd_chr.variants.locus,cd_chr.variants.alleles)\n",
    "cd_chr.write('/net/archive/groups/plggneuromol/GTS-analysis/data/cadd-per-chr/other_chroms_cadd.mt')"
   ]
  },
  {
   "cell_type": "code",
   "execution_count": null,
   "metadata": {},
   "outputs": [],
   "source": [
    "#do the same for mts\n",
    "for c in contigs:\n",
    "    mt_chr = mt.filter_rows(mt.locus.contig == c)\n",
    "    cd = hl.read_table('/net/archive/groups/plggneuromol/GTS-analysis/data/cadd-per-chr/'+c+'_cadd.mt')\n",
    "    \n",
    "    mt_chr = mt_chr.annotate_rows(cadd = cd[mt_chr.row_key])\n",
    "    mt_chr.write('/net/archive/groups/plggneuromol/GTS-analysis/data/mt-annotated-per-chr/'+c+'-anno.mt')"
   ]
  },
  {
   "cell_type": "code",
   "execution_count": null,
   "metadata": {},
   "outputs": [],
   "source": [
    "cd = hl.read_table('/net/archive/groups/plggneuromol/GTS-analysis/data/cadd-per-chr/other_chroms_cadd.mt')\n",
    "\n",
    "mt_chr = mt.filter_rows(hl.array(contigs).contains(mt.locus.contig), keep = False)\n",
    "\n",
    "mt_chr = mt_chr.annotate_rows(cadd =cd[mt_chr.row_key])\n",
    "\n",
    "mt_chr.write('/net/archive/groups/plggneuromol/GTS-analysis/data/mt-annotated-per-chr/other_chroms-anno.mt')"
   ]
  },
  {
   "cell_type": "code",
   "execution_count": null,
   "metadata": {},
   "outputs": [],
   "source": [
    "#now read all the matrices and join\n",
    "mts = !ls /net/archive/groups/plggneuromol/GTS-analysis/data/mt-annotated-per-chr"
   ]
  },
  {
   "cell_type": "code",
   "execution_count": null,
   "metadata": {},
   "outputs": [],
   "source": [
    "mt_chr = []\n",
    "\n",
    "for m in mts:\n",
    "    mt_chr.append(hl.read_matrix_table('/net/archive/groups/plggneuromol/GTS-analysis/data/mt-annotated-per-chr/'+m)) "
   ]
  },
  {
   "cell_type": "code",
   "execution_count": null,
   "metadata": {},
   "outputs": [],
   "source": [
    "mt = hl.MatrixTable.union_rows(*mt_chr)"
   ]
  },
  {
   "cell_type": "code",
   "execution_count": null,
   "metadata": {},
   "outputs": [],
   "source": [
    "mt = mt.transmute_rows(cadd = mt.cadd.cadd_score)"
   ]
  },
  {
   "cell_type": "code",
   "execution_count": null,
   "metadata": {
    "scrolled": true
   },
   "outputs": [],
   "source": [
    "mt.write('/net/archive/groups/plggneuromol/GTS-analysis/data/GTS-pheno-cadd.mt')"
   ]
  },
  {
   "cell_type": "code",
   "execution_count": null,
   "metadata": {},
   "outputs": [],
   "source": [
    "mt = hl.read_matrix_table('/net/archive/groups/plggneuromol/GTS-analysis/data/GTS-pheno-cadd.mt')"
   ]
  },
  {
   "cell_type": "markdown",
   "metadata": {},
   "source": [
    "## join with gnomad"
   ]
  },
  {
   "cell_type": "code",
   "execution_count": null,
   "metadata": {},
   "outputs": [],
   "source": [
    "gd = hl.read_matrix_table('/net/archive/groups/plggneuromol/GTS-analysis/gnomad/gnomad-ready-to-join.ht')"
   ]
  },
  {
   "cell_type": "code",
   "execution_count": null,
   "metadata": {},
   "outputs": [],
   "source": [
    "#adjust column schema:\n",
    "\n",
    "gd = gd.annotate_cols(s = hl.str(hl.str(gd.col_idx)+'gnomad'),\n",
    "                      phenotypes = hl.struct(family = hl.str('gnomad'),\n",
    "                                             sex = hl.str('gnomad'),\n",
    "                                             kinship = hl.str('gnomad'),\n",
    "                                             disease = hl.str('gnomad'),\n",
    "                                             phenotype = hl.str('gnomad'),\n",
    "                                             add_pheno = hl.str('gnomad'),\n",
    "                                             heavy_tics = hl.str('gnomad')))\n",
    "                      "
   ]
  },
  {
   "cell_type": "code",
   "execution_count": null,
   "metadata": {},
   "outputs": [],
   "source": [
    "gd = gd.key_cols_by(gd.s)"
   ]
  },
  {
   "cell_type": "code",
   "execution_count": null,
   "metadata": {
    "scrolled": true
   },
   "outputs": [],
   "source": [
    "gd = gd.drop(gd.col_idx)"
   ]
  },
  {
   "cell_type": "code",
   "execution_count": null,
   "metadata": {},
   "outputs": [],
   "source": [
    "mt = mt.union_cols(gd, row_join_type='outer')"
   ]
  },
  {
   "cell_type": "code",
   "execution_count": null,
   "metadata": {},
   "outputs": [],
   "source": [
    "#filter out any rows that contain only refs:\n",
    "\n",
    "mt = mt.filter_rows(hl.agg.any(mt.GT.is_non_ref()))"
   ]
  },
  {
   "cell_type": "code",
   "execution_count": null,
   "metadata": {},
   "outputs": [],
   "source": [
    "mt.write('/net/archive/groups/plggneuromol/GTS-analysis/data/GTS-gnomad.mt')"
   ]
  },
  {
   "cell_type": "markdown",
   "metadata": {},
   "source": [
    "### Perform PCA on subseted genotypes:"
   ]
  },
  {
   "cell_type": "code",
   "execution_count": 8,
   "metadata": {},
   "outputs": [],
   "source": [
    "mt = hl.read_matrix_table('/net/archive/groups/plggneuromol/GTS-analysis/data/GTS-gnomad.mt')"
   ]
  },
  {
   "cell_type": "code",
   "execution_count": 9,
   "metadata": {},
   "outputs": [],
   "source": [
    "subset = mt.sample_rows(0.001)"
   ]
  },
  {
   "cell_type": "code",
   "execution_count": 10,
   "metadata": {},
   "outputs": [
    {
     "data": {
      "text/plain": [
       "(11731, 370)"
      ]
     },
     "execution_count": 10,
     "metadata": {},
     "output_type": "execute_result"
    }
   ],
   "source": [
    "subset.count()"
   ]
  },
  {
   "cell_type": "code",
   "execution_count": 11,
   "metadata": {},
   "outputs": [
    {
     "name": "stderr",
     "output_type": "stream",
     "text": [
      "2020-11-16 13:34:16 Hail: INFO: hwe_normalized_pca: running PCA using 11651 variants.\n",
      "2020-11-16 13:34:29 Hail: INFO: pca: running PCA with 10 components...\n"
     ]
    }
   ],
   "source": [
    "eigenvalues, pcs, _ = hl.hwe_normalized_pca(subset.GT)"
   ]
  },
  {
   "cell_type": "code",
   "execution_count": 12,
   "metadata": {},
   "outputs": [],
   "source": [
    "mt = mt.annotate_cols(scores = pcs[mt.s].scores)"
   ]
  },
  {
   "cell_type": "code",
   "execution_count": 56,
   "metadata": {},
   "outputs": [],
   "source": [
    "p = hl.plot.scatter(mt.scores[0],\n",
    "                    mt.scores[1],\n",
    "                    label=(mt.phenotypes.family),\n",
    "                    title='PCA', xlabel='PC1', ylabel='PC2')"
   ]
  },
  {
   "cell_type": "code",
   "execution_count": 57,
   "metadata": {
    "scrolled": false
   },
   "outputs": [
    {
     "data": {
      "text/html": [
       "\n",
       "\n",
       "\n",
       "\n",
       "\n",
       "\n",
       "  <div class=\"bk-root\" id=\"cda134ae-2a6e-4961-89d8-b1f57e01b9c4\" data-root-id=\"4334\"></div>\n"
      ]
     },
     "metadata": {},
     "output_type": "display_data"
    },
    {
     "data": {
      "application/javascript": [
       "(function(root) {\n",
       "  function embed_document(root) {\n",
       "    \n",
       "  var docs_json = {\"ffc9a0db-eadd-46f5-a13f-6b1e1e51a823\":{\"roots\":{\"references\":[{\"attributes\":{\"below\":[{\"id\":\"4345\",\"type\":\"LinearAxis\"}],\"center\":[{\"id\":\"4349\",\"type\":\"Grid\"},{\"id\":\"4354\",\"type\":\"Grid\"}],\"left\":[{\"id\":\"4350\",\"type\":\"LinearAxis\"},{\"id\":\"4554\",\"type\":\"Legend\"},{\"id\":\"4555\",\"type\":\"ColorBar\"}],\"plot_height\":800,\"plot_width\":800,\"renderers\":[{\"id\":\"4377\",\"type\":\"GlyphRenderer\"},{\"id\":\"4383\",\"type\":\"GlyphRenderer\"},{\"id\":\"4389\",\"type\":\"GlyphRenderer\"},{\"id\":\"4395\",\"type\":\"GlyphRenderer\"},{\"id\":\"4401\",\"type\":\"GlyphRenderer\"},{\"id\":\"4407\",\"type\":\"GlyphRenderer\"},{\"id\":\"4413\",\"type\":\"GlyphRenderer\"},{\"id\":\"4419\",\"type\":\"GlyphRenderer\"},{\"id\":\"4425\",\"type\":\"GlyphRenderer\"},{\"id\":\"4431\",\"type\":\"GlyphRenderer\"},{\"id\":\"4437\",\"type\":\"GlyphRenderer\"},{\"id\":\"4443\",\"type\":\"GlyphRenderer\"},{\"id\":\"4449\",\"type\":\"GlyphRenderer\"},{\"id\":\"4455\",\"type\":\"GlyphRenderer\"},{\"id\":\"4461\",\"type\":\"GlyphRenderer\"},{\"id\":\"4467\",\"type\":\"GlyphRenderer\"},{\"id\":\"4473\",\"type\":\"GlyphRenderer\"},{\"id\":\"4479\",\"type\":\"GlyphRenderer\"},{\"id\":\"4485\",\"type\":\"GlyphRenderer\"},{\"id\":\"4491\",\"type\":\"GlyphRenderer\"},{\"id\":\"4497\",\"type\":\"GlyphRenderer\"},{\"id\":\"4503\",\"type\":\"GlyphRenderer\"},{\"id\":\"4509\",\"type\":\"GlyphRenderer\"},{\"id\":\"4515\",\"type\":\"GlyphRenderer\"},{\"id\":\"4521\",\"type\":\"GlyphRenderer\"},{\"id\":\"4527\",\"type\":\"GlyphRenderer\"}],\"title\":{\"id\":\"4335\",\"type\":\"Title\"},\"toolbar\":{\"id\":\"4361\",\"type\":\"Toolbar\"},\"x_range\":{\"id\":\"4337\",\"type\":\"DataRange1d\"},\"x_scale\":{\"id\":\"4341\",\"type\":\"LinearScale\"},\"y_range\":{\"id\":\"4339\",\"type\":\"DataRange1d\"},\"y_scale\":{\"id\":\"4343\",\"type\":\"LinearScale\"}},\"id\":\"4334\",\"subtype\":\"Figure\",\"type\":\"Plot\"},{\"attributes\":{\"filters\":[{\"id\":\"4516\",\"type\":\"GroupFilter\"}],\"source\":{\"id\":\"4370\",\"type\":\"ColumnDataSource\"}},\"id\":\"4517\",\"type\":\"CDSView\"},{\"attributes\":{\"fill_color\":{\"field\":\"label\",\"transform\":{\"id\":\"4371\",\"type\":\"CategoricalColorMapper\"}},\"line_color\":{\"field\":\"label\",\"transform\":{\"id\":\"4371\",\"type\":\"CategoricalColorMapper\"}},\"x\":{\"field\":\"x\"},\"y\":{\"field\":\"y\"}},\"id\":\"4471\",\"type\":\"Circle\"},{\"attributes\":{\"fill_alpha\":{\"value\":0.1},\"fill_color\":{\"value\":\"#1f77b4\"},\"line_alpha\":{\"value\":0.1},\"line_color\":{\"value\":\"#1f77b4\"},\"x\":{\"field\":\"x\"},\"y\":{\"field\":\"y\"}},\"id\":\"4472\",\"type\":\"Circle\"},{\"attributes\":{\"data_source\":{\"id\":\"4370\",\"type\":\"ColumnDataSource\"},\"glyph\":{\"id\":\"4471\",\"type\":\"Circle\"},\"hover_glyph\":null,\"muted_glyph\":null,\"nonselection_glyph\":{\"id\":\"4472\",\"type\":\"Circle\"},\"selection_glyph\":null,\"view\":{\"id\":\"4469\",\"type\":\"CDSView\"}},\"id\":\"4473\",\"type\":\"GlyphRenderer\"},{\"attributes\":{\"active_drag\":\"auto\",\"active_inspect\":\"auto\",\"active_multi\":null,\"active_scroll\":\"auto\",\"active_tap\":\"auto\",\"tools\":[{\"id\":\"4355\",\"type\":\"PanTool\"},{\"id\":\"4356\",\"type\":\"WheelZoomTool\"},{\"id\":\"4357\",\"type\":\"BoxZoomTool\"},{\"id\":\"4358\",\"type\":\"SaveTool\"},{\"id\":\"4359\",\"type\":\"ResetTool\"},{\"id\":\"4360\",\"type\":\"HelpTool\"},{\"id\":\"4369\",\"type\":\"HoverTool\"}]},\"id\":\"4361\",\"type\":\"Toolbar\"},{\"attributes\":{\"column_name\":\"label\",\"group\":\"R\"},\"id\":\"4474\",\"type\":\"GroupFilter\"},{\"attributes\":{\"fill_alpha\":{\"value\":0.1},\"fill_color\":{\"value\":\"#1f77b4\"},\"line_alpha\":{\"value\":0.1},\"line_color\":{\"value\":\"#1f77b4\"},\"x\":{\"field\":\"x\"},\"y\":{\"field\":\"y\"}},\"id\":\"4436\",\"type\":\"Circle\"},{\"attributes\":{\"filters\":[{\"id\":\"4474\",\"type\":\"GroupFilter\"}],\"source\":{\"id\":\"4370\",\"type\":\"ColumnDataSource\"}},\"id\":\"4475\",\"type\":\"CDSView\"},{\"attributes\":{\"filters\":[{\"id\":\"4372\",\"type\":\"GroupFilter\"}],\"source\":{\"id\":\"4370\",\"type\":\"ColumnDataSource\"}},\"id\":\"4373\",\"type\":\"CDSView\"},{\"attributes\":{\"factors\":[\"C\",\"R\",\"X\",\"J\",\"K\",\"gnomad\",\"U\",\"W\",\".\",\"D\",\"P\",\"N\",\"T\",\"I\",\"O\",\"H\",\"G\",\"S\",\"Z\",\"B\",\"E\",\"F\",\"A\",\"Y\",\"L\",\"M\"],\"palette\":[\"#440154\",\"#470F62\",\"#481D6F\",\"#472A79\",\"#453681\",\"#404387\",\"#3C4E8A\",\"#37598C\",\"#32638D\",\"#2E6D8E\",\"#29788E\",\"#26818E\",\"#228A8D\",\"#1F948B\",\"#1E9D88\",\"#22A784\",\"#2BB17D\",\"#39B976\",\"#4BC26C\",\"#60C960\",\"#79D151\",\"#92D741\",\"#ADDC30\",\"#C7E01F\",\"#E1E318\",\"#FDE724\"]},\"id\":\"4371\",\"type\":\"CategoricalColorMapper\"},{\"attributes\":{\"column_name\":\"label\",\"group\":\"Z\"},\"id\":\"4516\",\"type\":\"GroupFilter\"},{\"attributes\":{\"fill_color\":{\"field\":\"label\",\"transform\":{\"id\":\"4371\",\"type\":\"CategoricalColorMapper\"}},\"line_color\":{\"field\":\"label\",\"transform\":{\"id\":\"4371\",\"type\":\"CategoricalColorMapper\"}},\"x\":{\"field\":\"x\"},\"y\":{\"field\":\"y\"}},\"id\":\"4477\",\"type\":\"Circle\"},{\"attributes\":{\"fill_alpha\":{\"value\":0.1},\"fill_color\":{\"value\":\"#1f77b4\"},\"line_alpha\":{\"value\":0.1},\"line_color\":{\"value\":\"#1f77b4\"},\"x\":{\"field\":\"x\"},\"y\":{\"field\":\"y\"}},\"id\":\"4478\",\"type\":\"Circle\"},{\"attributes\":{\"data_source\":{\"id\":\"4370\",\"type\":\"ColumnDataSource\"},\"glyph\":{\"id\":\"4477\",\"type\":\"Circle\"},\"hover_glyph\":null,\"muted_glyph\":null,\"nonselection_glyph\":{\"id\":\"4478\",\"type\":\"Circle\"},\"selection_glyph\":null,\"view\":{\"id\":\"4475\",\"type\":\"CDSView\"}},\"id\":\"4479\",\"type\":\"GlyphRenderer\"},{\"attributes\":{\"label\":{\"value\":\"L\"},\"renderers\":[{\"id\":\"4449\",\"type\":\"GlyphRenderer\"}]},\"id\":\"4540\",\"type\":\"LegendItem\"},{\"attributes\":{\"column_name\":\"label\",\"group\":\"S\"},\"id\":\"4480\",\"type\":\"GroupFilter\"},{\"attributes\":{\"label\":{\"value\":\"K\"},\"renderers\":[{\"id\":\"4443\",\"type\":\"GlyphRenderer\"}]},\"id\":\"4539\",\"type\":\"LegendItem\"},{\"attributes\":{\"filters\":[{\"id\":\"4480\",\"type\":\"GroupFilter\"}],\"source\":{\"id\":\"4370\",\"type\":\"ColumnDataSource\"}},\"id\":\"4481\",\"type\":\"CDSView\"},{\"attributes\":{\"label\":{\"value\":\"J\"},\"renderers\":[{\"id\":\"4437\",\"type\":\"GlyphRenderer\"}]},\"id\":\"4538\",\"type\":\"LegendItem\"},{\"attributes\":{\"data_source\":{\"id\":\"4370\",\"type\":\"ColumnDataSource\"},\"glyph\":{\"id\":\"4513\",\"type\":\"Circle\"},\"hover_glyph\":null,\"muted_glyph\":null,\"nonselection_glyph\":{\"id\":\"4514\",\"type\":\"Circle\"},\"selection_glyph\":null,\"view\":{\"id\":\"4511\",\"type\":\"CDSView\"}},\"id\":\"4515\",\"type\":\"GlyphRenderer\"},{\"attributes\":{\"label\":{\"value\":\"I\"},\"renderers\":[{\"id\":\"4431\",\"type\":\"GlyphRenderer\"}]},\"id\":\"4537\",\"type\":\"LegendItem\"},{\"attributes\":{\"fill_color\":{\"field\":\"label\",\"transform\":{\"id\":\"4371\",\"type\":\"CategoricalColorMapper\"}},\"line_color\":{\"field\":\"label\",\"transform\":{\"id\":\"4371\",\"type\":\"CategoricalColorMapper\"}},\"x\":{\"field\":\"x\"},\"y\":{\"field\":\"y\"}},\"id\":\"4483\",\"type\":\"Circle\"},{\"attributes\":{\"label\":{\"value\":\"H\"},\"renderers\":[{\"id\":\"4425\",\"type\":\"GlyphRenderer\"}]},\"id\":\"4536\",\"type\":\"LegendItem\"},{\"attributes\":{\"fill_alpha\":{\"value\":0.1},\"fill_color\":{\"value\":\"#1f77b4\"},\"line_alpha\":{\"value\":0.1},\"line_color\":{\"value\":\"#1f77b4\"},\"x\":{\"field\":\"x\"},\"y\":{\"field\":\"y\"}},\"id\":\"4484\",\"type\":\"Circle\"},{\"attributes\":{\"label\":{\"value\":\"G\"},\"renderers\":[{\"id\":\"4419\",\"type\":\"GlyphRenderer\"}]},\"id\":\"4535\",\"type\":\"LegendItem\"},{\"attributes\":{\"data_source\":{\"id\":\"4370\",\"type\":\"ColumnDataSource\"},\"glyph\":{\"id\":\"4483\",\"type\":\"Circle\"},\"hover_glyph\":null,\"muted_glyph\":null,\"nonselection_glyph\":{\"id\":\"4484\",\"type\":\"Circle\"},\"selection_glyph\":null,\"view\":{\"id\":\"4481\",\"type\":\"CDSView\"}},\"id\":\"4485\",\"type\":\"GlyphRenderer\"},{\"attributes\":{\"filters\":[{\"id\":\"4468\",\"type\":\"GroupFilter\"}],\"source\":{\"id\":\"4370\",\"type\":\"ColumnDataSource\"}},\"id\":\"4469\",\"type\":\"CDSView\"},{\"attributes\":{\"label\":{\"value\":\"F\"},\"renderers\":[{\"id\":\"4413\",\"type\":\"GlyphRenderer\"}]},\"id\":\"4534\",\"type\":\"LegendItem\"},{\"attributes\":{\"column_name\":\"label\",\"group\":\"T\"},\"id\":\"4486\",\"type\":\"GroupFilter\"},{\"attributes\":{},\"id\":\"4358\",\"type\":\"SaveTool\"},{\"attributes\":{\"label\":{\"value\":\"E\"},\"renderers\":[{\"id\":\"4407\",\"type\":\"GlyphRenderer\"}]},\"id\":\"4533\",\"type\":\"LegendItem\"},{\"attributes\":{\"filters\":[{\"id\":\"4486\",\"type\":\"GroupFilter\"}],\"source\":{\"id\":\"4370\",\"type\":\"ColumnDataSource\"}},\"id\":\"4487\",\"type\":\"CDSView\"},{\"attributes\":{\"label\":{\"value\":\"D\"},\"renderers\":[{\"id\":\"4401\",\"type\":\"GlyphRenderer\"}]},\"id\":\"4532\",\"type\":\"LegendItem\"},{\"attributes\":{\"fill_alpha\":{\"value\":0.1},\"fill_color\":{\"value\":\"#1f77b4\"},\"line_alpha\":{\"value\":0.1},\"line_color\":{\"value\":\"#1f77b4\"},\"x\":{\"field\":\"x\"},\"y\":{\"field\":\"y\"}},\"id\":\"4514\",\"type\":\"Circle\"},{\"attributes\":{\"label\":{\"value\":\"C\"},\"renderers\":[{\"id\":\"4395\",\"type\":\"GlyphRenderer\"}]},\"id\":\"4531\",\"type\":\"LegendItem\"},{\"attributes\":{\"fill_color\":{\"field\":\"label\",\"transform\":{\"id\":\"4371\",\"type\":\"CategoricalColorMapper\"}},\"line_color\":{\"field\":\"label\",\"transform\":{\"id\":\"4371\",\"type\":\"CategoricalColorMapper\"}},\"x\":{\"field\":\"x\"},\"y\":{\"field\":\"y\"}},\"id\":\"4489\",\"type\":\"Circle\"},{\"attributes\":{\"label\":{\"value\":\"B\"},\"renderers\":[{\"id\":\"4389\",\"type\":\"GlyphRenderer\"}]},\"id\":\"4530\",\"type\":\"LegendItem\"},{\"attributes\":{\"fill_alpha\":{\"value\":0.1},\"fill_color\":{\"value\":\"#1f77b4\"},\"line_alpha\":{\"value\":0.1},\"line_color\":{\"value\":\"#1f77b4\"},\"x\":{\"field\":\"x\"},\"y\":{\"field\":\"y\"}},\"id\":\"4490\",\"type\":\"Circle\"},{\"attributes\":{\"label\":{\"value\":\"A\"},\"renderers\":[{\"id\":\"4383\",\"type\":\"GlyphRenderer\"}]},\"id\":\"4529\",\"type\":\"LegendItem\"},{\"attributes\":{\"data_source\":{\"id\":\"4370\",\"type\":\"ColumnDataSource\"},\"glyph\":{\"id\":\"4489\",\"type\":\"Circle\"},\"hover_glyph\":null,\"muted_glyph\":null,\"nonselection_glyph\":{\"id\":\"4490\",\"type\":\"Circle\"},\"selection_glyph\":null,\"view\":{\"id\":\"4487\",\"type\":\"CDSView\"}},\"id\":\"4491\",\"type\":\"GlyphRenderer\"},{\"attributes\":{\"label\":{\"value\":\".\"},\"renderers\":[{\"id\":\"4377\",\"type\":\"GlyphRenderer\"}]},\"id\":\"4528\",\"type\":\"LegendItem\"},{\"attributes\":{\"fill_color\":{\"field\":\"label\",\"transform\":{\"id\":\"4371\",\"type\":\"CategoricalColorMapper\"}},\"line_color\":{\"field\":\"label\",\"transform\":{\"id\":\"4371\",\"type\":\"CategoricalColorMapper\"}},\"x\":{\"field\":\"x\"},\"y\":{\"field\":\"y\"}},\"id\":\"4375\",\"type\":\"Circle\"},{\"attributes\":{\"column_name\":\"label\",\"group\":\"U\"},\"id\":\"4492\",\"type\":\"GroupFilter\"},{\"attributes\":{\"fill_alpha\":{\"value\":0.1},\"fill_color\":{\"value\":\"#1f77b4\"},\"line_alpha\":{\"value\":0.1},\"line_color\":{\"value\":\"#1f77b4\"},\"x\":{\"field\":\"x\"},\"y\":{\"field\":\"y\"}},\"id\":\"4376\",\"type\":\"Circle\"},{\"attributes\":{\"filters\":[{\"id\":\"4492\",\"type\":\"GroupFilter\"}],\"source\":{\"id\":\"4370\",\"type\":\"ColumnDataSource\"}},\"id\":\"4493\",\"type\":\"CDSView\"},{\"attributes\":{},\"id\":\"4359\",\"type\":\"ResetTool\"},{\"attributes\":{\"data_source\":{\"id\":\"4370\",\"type\":\"ColumnDataSource\"},\"glyph\":{\"id\":\"4375\",\"type\":\"Circle\"},\"hover_glyph\":null,\"muted_glyph\":null,\"nonselection_glyph\":{\"id\":\"4376\",\"type\":\"Circle\"},\"selection_glyph\":null,\"view\":{\"id\":\"4373\",\"type\":\"CDSView\"}},\"id\":\"4377\",\"type\":\"GlyphRenderer\"},{\"attributes\":{\"fill_color\":{\"field\":\"label\",\"transform\":{\"id\":\"4371\",\"type\":\"CategoricalColorMapper\"}},\"line_color\":{\"field\":\"label\",\"transform\":{\"id\":\"4371\",\"type\":\"CategoricalColorMapper\"}},\"x\":{\"field\":\"x\"},\"y\":{\"field\":\"y\"}},\"id\":\"4513\",\"type\":\"Circle\"},{\"attributes\":{\"fill_color\":{\"field\":\"label\",\"transform\":{\"id\":\"4371\",\"type\":\"CategoricalColorMapper\"}},\"line_color\":{\"field\":\"label\",\"transform\":{\"id\":\"4371\",\"type\":\"CategoricalColorMapper\"}},\"x\":{\"field\":\"x\"},\"y\":{\"field\":\"y\"}},\"id\":\"4495\",\"type\":\"Circle\"},{\"attributes\":{},\"id\":\"4360\",\"type\":\"HelpTool\"},{\"attributes\":{\"column_name\":\"label\",\"group\":\"A\"},\"id\":\"4378\",\"type\":\"GroupFilter\"},{\"attributes\":{\"filters\":[{\"id\":\"4378\",\"type\":\"GroupFilter\"}],\"source\":{\"id\":\"4370\",\"type\":\"ColumnDataSource\"}},\"id\":\"4379\",\"type\":\"CDSView\"},{\"attributes\":{\"fill_alpha\":{\"value\":0.1},\"fill_color\":{\"value\":\"#1f77b4\"},\"line_alpha\":{\"value\":0.1},\"line_color\":{\"value\":\"#1f77b4\"},\"x\":{\"field\":\"x\"},\"y\":{\"field\":\"y\"}},\"id\":\"4496\",\"type\":\"Circle\"},{\"attributes\":{\"data_source\":{\"id\":\"4370\",\"type\":\"ColumnDataSource\"},\"glyph\":{\"id\":\"4495\",\"type\":\"Circle\"},\"hover_glyph\":null,\"muted_glyph\":null,\"nonselection_glyph\":{\"id\":\"4496\",\"type\":\"Circle\"},\"selection_glyph\":null,\"view\":{\"id\":\"4493\",\"type\":\"CDSView\"}},\"id\":\"4497\",\"type\":\"GlyphRenderer\"},{\"attributes\":{\"fill_color\":{\"field\":\"label\",\"transform\":{\"id\":\"4371\",\"type\":\"CategoricalColorMapper\"}},\"line_color\":{\"field\":\"label\",\"transform\":{\"id\":\"4371\",\"type\":\"CategoricalColorMapper\"}},\"x\":{\"field\":\"x\"},\"y\":{\"field\":\"y\"}},\"id\":\"4435\",\"type\":\"Circle\"},{\"attributes\":{\"fill_color\":{\"field\":\"label\",\"transform\":{\"id\":\"4371\",\"type\":\"CategoricalColorMapper\"}},\"line_color\":{\"field\":\"label\",\"transform\":{\"id\":\"4371\",\"type\":\"CategoricalColorMapper\"}},\"x\":{\"field\":\"x\"},\"y\":{\"field\":\"y\"}},\"id\":\"4381\",\"type\":\"Circle\"},{\"attributes\":{\"column_name\":\"label\",\"group\":\"W\"},\"id\":\"4498\",\"type\":\"GroupFilter\"},{\"attributes\":{\"fill_alpha\":{\"value\":0.1},\"fill_color\":{\"value\":\"#1f77b4\"},\"line_alpha\":{\"value\":0.1},\"line_color\":{\"value\":\"#1f77b4\"},\"x\":{\"field\":\"x\"},\"y\":{\"field\":\"y\"}},\"id\":\"4382\",\"type\":\"Circle\"},{\"attributes\":{\"filters\":[{\"id\":\"4498\",\"type\":\"GroupFilter\"}],\"source\":{\"id\":\"4370\",\"type\":\"ColumnDataSource\"}},\"id\":\"4499\",\"type\":\"CDSView\"},{\"attributes\":{\"data_source\":{\"id\":\"4370\",\"type\":\"ColumnDataSource\"},\"glyph\":{\"id\":\"4381\",\"type\":\"Circle\"},\"hover_glyph\":null,\"muted_glyph\":null,\"nonselection_glyph\":{\"id\":\"4382\",\"type\":\"Circle\"},\"selection_glyph\":null,\"view\":{\"id\":\"4379\",\"type\":\"CDSView\"}},\"id\":\"4383\",\"type\":\"GlyphRenderer\"},{\"attributes\":{\"fill_color\":{\"field\":\"label\",\"transform\":{\"id\":\"4371\",\"type\":\"CategoricalColorMapper\"}},\"line_color\":{\"field\":\"label\",\"transform\":{\"id\":\"4371\",\"type\":\"CategoricalColorMapper\"}},\"x\":{\"field\":\"x\"},\"y\":{\"field\":\"y\"}},\"id\":\"4501\",\"type\":\"Circle\"},{\"attributes\":{\"column_name\":\"label\",\"group\":\"B\"},\"id\":\"4384\",\"type\":\"GroupFilter\"},{\"attributes\":{\"filters\":[{\"id\":\"4384\",\"type\":\"GroupFilter\"}],\"source\":{\"id\":\"4370\",\"type\":\"ColumnDataSource\"}},\"id\":\"4385\",\"type\":\"CDSView\"},{\"attributes\":{\"fill_alpha\":{\"value\":0.1},\"fill_color\":{\"value\":\"#1f77b4\"},\"line_alpha\":{\"value\":0.1},\"line_color\":{\"value\":\"#1f77b4\"},\"x\":{\"field\":\"x\"},\"y\":{\"field\":\"y\"}},\"id\":\"4502\",\"type\":\"Circle\"},{\"attributes\":{\"data_source\":{\"id\":\"4370\",\"type\":\"ColumnDataSource\"},\"glyph\":{\"id\":\"4501\",\"type\":\"Circle\"},\"hover_glyph\":null,\"muted_glyph\":null,\"nonselection_glyph\":{\"id\":\"4502\",\"type\":\"Circle\"},\"selection_glyph\":null,\"view\":{\"id\":\"4499\",\"type\":\"CDSView\"}},\"id\":\"4503\",\"type\":\"GlyphRenderer\"},{\"attributes\":{\"filters\":[{\"id\":\"4522\",\"type\":\"GroupFilter\"}],\"source\":{\"id\":\"4370\",\"type\":\"ColumnDataSource\"}},\"id\":\"4523\",\"type\":\"CDSView\"},{\"attributes\":{\"fill_color\":{\"field\":\"label\",\"transform\":{\"id\":\"4371\",\"type\":\"CategoricalColorMapper\"}},\"line_color\":{\"field\":\"label\",\"transform\":{\"id\":\"4371\",\"type\":\"CategoricalColorMapper\"}},\"x\":{\"field\":\"x\"},\"y\":{\"field\":\"y\"}},\"id\":\"4387\",\"type\":\"Circle\"},{\"attributes\":{\"column_name\":\"label\",\"group\":\"X\"},\"id\":\"4504\",\"type\":\"GroupFilter\"},{\"attributes\":{\"fill_alpha\":{\"value\":0.1},\"fill_color\":{\"value\":\"#1f77b4\"},\"line_alpha\":{\"value\":0.1},\"line_color\":{\"value\":\"#1f77b4\"},\"x\":{\"field\":\"x\"},\"y\":{\"field\":\"y\"}},\"id\":\"4388\",\"type\":\"Circle\"},{\"attributes\":{\"filters\":[{\"id\":\"4504\",\"type\":\"GroupFilter\"}],\"source\":{\"id\":\"4370\",\"type\":\"ColumnDataSource\"}},\"id\":\"4505\",\"type\":\"CDSView\"},{\"attributes\":{\"data_source\":{\"id\":\"4370\",\"type\":\"ColumnDataSource\"},\"glyph\":{\"id\":\"4387\",\"type\":\"Circle\"},\"hover_glyph\":null,\"muted_glyph\":null,\"nonselection_glyph\":{\"id\":\"4388\",\"type\":\"Circle\"},\"selection_glyph\":null,\"view\":{\"id\":\"4385\",\"type\":\"CDSView\"}},\"id\":\"4389\",\"type\":\"GlyphRenderer\"},{\"attributes\":{\"data_source\":{\"id\":\"4370\",\"type\":\"ColumnDataSource\"},\"glyph\":{\"id\":\"4423\",\"type\":\"Circle\"},\"hover_glyph\":null,\"muted_glyph\":null,\"nonselection_glyph\":{\"id\":\"4424\",\"type\":\"Circle\"},\"selection_glyph\":null,\"view\":{\"id\":\"4421\",\"type\":\"CDSView\"}},\"id\":\"4425\",\"type\":\"GlyphRenderer\"},{\"attributes\":{\"callback\":null,\"data\":{\"index\":[0,1,2,3,4,5,6,7,8,9,10,11,12,13,14,15,16,17,18,19,20,21,22,23,24,25,26,27,28,29,30,31,32,33,34,35,36,37,38,39,40,41,42,43,44,45,46,47,48,49,50,51,52,53,54,55,56,57,58,59,60,61,62,63,64,65,66,67,68,69,70,71,72,73,74,75,76,77,78,79,80,81,82,83,84,85,86,87,88,89,90,91,92,93,94,95,96,97,98,99,100,101,102,103,104,105,106,107,108,109,110,111,112,113,114,115,116,117,118,119,120,121,122,123,124,125,126,127,128,129,130,131,132,133,134,135,136,137,138,139,140,141,142,143,144,145,146,147,148,149,150,151,152,153,154,155,156,157,158,159,160,161,162,163,164,165,166,167,168,169,170,171,172,173,174,175,176,177,178,179,180,181,182,183,184,185,186,187,188,189,190,191,192,193,194,195,196,197,198,199,200,201,202,203,204,205,206,207,208,209,210,211,212,213,214,215,216,217,218,219,220,221,222,223,224,225,226,227,228,229,230,231,232,233,234,235,236,237,238,239,240,241,242,243,244,245,246,247,248,249,250,251,252,253,254,255,256,257,258,259,260,261,262,263,264,265,266,267,268,269,270,271,272,273,274,275,276,277,278,279,280,281,282,283,284,285,286,287,288,289,290,291,292,293,294,295,296,297,298,299,300,301,302,303,304,305,306,307,308,309,310,311,312,313,314,315,316,317,318,319,320,321,322,323,324,325,326,327,328,329,330,331,332,333,334,335,336,337,338,339],\"label\":[\"F\",\"F\",\"F\",\"F\",\"F\",\"F\",\"F\",\"F\",\"F\",\"F\",\"A\",\"A\",\"A\",\"C\",\"D\",\"A\",\"E\",\"A\",\"E\",\"C\",\"C\",\"C\",\"E\",\"B\",\"A\",\"E\",\"E\",\"D\",\"C\",\"E\",\"B\",\"I\",\"B\",\"D\",\"D\",\"I\",\"S\",\"H\",\"R\",\"A\",\"B\",\"I\",\"F\",\"H\",\"I\",\"S\",\"I\",\"D\",\"S\",\"R\",\"P\",\"J\",\"I\",\"J\",\"P\",\"D\",\"B\",\"B\",\"J\",\"S\",\"B\",\".\",\"P\",\"D\",\"J\",\"S\",\"R\",\"P\",\"H\",\"H\",\"S\",\"K\",\"J\",\"G\",\"K\",\"G\",\".\",\".\",\".\",\"G\",\"H\",\".\",\"C\",\".\",\".\",\".\",\".\",\"G\",\"O\",\"N\",\"H\",\".\",\".\",\".\",\"O\",\"O\",\".\",\"N\",\"R\",\"T\",\".\",\".\",\"N\",\"K\",\".\",\"M\",\".\",\"L\",\"M\",\".\",\".\",\".\",\"L\",\".\",\"M\",\".\",\"T\",\"R\",\".\",\".\",\"C\",\".\",\"L\",\".\",\"T\",\".\",\".\",\".\",\".\",\"Z\",\".\",\"T\",\".\",\".\",\"T\",\".\",\"T\",\"T\",\"T\",\".\",\"T\",\".\",\".\",\".\",\"C\",\"C\",\"B\",\"gnomad\",\"R\",\"gnomad\",\"gnomad\",\"gnomad\",\"gnomad\",\"gnomad\",\"gnomad\",\"gnomad\",\"gnomad\",\"gnomad\",\"gnomad\",\"gnomad\",\"gnomad\",\"gnomad\",\"gnomad\",\"gnomad\",\"gnomad\",\"gnomad\",\"gnomad\",\"gnomad\",\"gnomad\",\"gnomad\",\"gnomad\",\"gnomad\",\"gnomad\",\"gnomad\",\"gnomad\",\"gnomad\",\"gnomad\",\"gnomad\",\"gnomad\",\"gnomad\",\"gnomad\",\"gnomad\",\"gnomad\",\"gnomad\",\"gnomad\",\"gnomad\",\"gnomad\",\"gnomad\",\"gnomad\",\"gnomad\",\"gnomad\",\"gnomad\",\"gnomad\",\"gnomad\",\"gnomad\",\"gnomad\",\"gnomad\",\"gnomad\",\"gnomad\",\"gnomad\",\"gnomad\",\"gnomad\",\"gnomad\",\"gnomad\",\"gnomad\",\"gnomad\",\"gnomad\",\"gnomad\",\"gnomad\",\"gnomad\",\"gnomad\",\"gnomad\",\"gnomad\",\"gnomad\",\"gnomad\",\"gnomad\",\"gnomad\",\"gnomad\",\"gnomad\",\"gnomad\",\"gnomad\",\"gnomad\",\"gnomad\",\"gnomad\",\"gnomad\",\"gnomad\",\"gnomad\",\"gnomad\",\"gnomad\",\"Z\",\"gnomad\",\"gnomad\",\"gnomad\",\"gnomad\",\"gnomad\",\"gnomad\",\"gnomad\",\"gnomad\",\"gnomad\",\"gnomad\",\"gnomad\",\"gnomad\",\"gnomad\",\"gnomad\",\"gnomad\",\"gnomad\",\"gnomad\",\"gnomad\",\"gnomad\",\"gnomad\",\"gnomad\",\"gnomad\",\"X\",\"gnomad\",\"gnomad\",\"gnomad\",\"gnomad\",\"gnomad\",\"gnomad\",\"gnomad\",\"gnomad\",\"gnomad\",\"gnomad\",\"gnomad\",\"gnomad\",\"gnomad\",\"gnomad\",\"gnomad\",\"gnomad\",\"gnomad\",\"gnomad\",\"gnomad\",\"gnomad\",\"gnomad\",\"gnomad\",\"gnomad\",\"gnomad\",\"gnomad\",\"gnomad\",\"gnomad\",\"gnomad\",\"gnomad\",\"gnomad\",\"gnomad\",\"gnomad\",\"gnomad\",\"Z\",\"gnomad\",\"gnomad\",\"gnomad\",\"gnomad\",\"gnomad\",\"U\",\"gnomad\",\"gnomad\",\"gnomad\",\"gnomad\",\"gnomad\",\"gnomad\",\"gnomad\",\"gnomad\",\"gnomad\",\"gnomad\",\"U\",\"gnomad\",\"gnomad\",\"gnomad\",\"gnomad\",\"gnomad\",\"gnomad\",\"gnomad\",\"gnomad\",\"U\",\"gnomad\",\"X\",\"X\",\"X\",\"X\",\"Y\",\"W\",\"Y\",\"W\",\"Y\",\"Y\",\"W\",\"Y\",\"Y\",\"Y\",\"Y\",\"W\",\"W\",\"W\",\"W\",\"W\",\"W\",\"W\",\"W\",\"W\",\"W\",\"W\"],\"x\":{\"__ndarray__\":\"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\",\"dtype\":\"float64\",\"shape\":[340]},\"y\":{\"__ndarray__\":\"RiJRlKdZ2j8RL1dl6lHaP5P/Xk8NHNg/gDPKUvgU2T9AoXbZim/WP2noHzCKQNY/6ZQGYmXj0T9h5YKiBrzTPwJ9GrnhMNI/7GktLLV8yz/kxfZtsouWv6+cB/VLJ56/t9XAwM7VhT++6NZJZxuPv9eV6eHaM6A/pYKPI+5ckL8sOWW7vJ6PP2tb3+tXvZy/B6+6ELA/iz+cjT9ZfaWSvwnX54avEHc/mOxc19wMir+pPvCFrbSCPzZ8Ok2yo54/7GcwCxLzo7/qKnBQmbV6Pxg9Rv071Is/7cWhmXLfkz/Bo44qKUl7P1OCanllkXo/xD9U/1GDpT/qhg6MB2OmP+sQLzneTKA/ZucV5zVklD+23b5BR12UP5YXlbKXxpQ/jcaa7zo7lL+Je29Pasd3P0voa7n7/pQ/aNe4utRDdz9zthdsZkiOP7qBKCjHP6A/dPGZoKuHuz8duoHxj3SPPxpzDDgknaQ/KzVubNVMm7/knMb25wyjP/N+V1j2mKU/y3vCctHqj7863Q2Om0eKP3kN19Qpmpg/ZKhNpitjhb9chF1W2XiWP2FZC76eY4m/zvF6m/Zfnz9u5YTtIFSQP18NRkjbGpY/XiSoXGnlmT8nrqBiOM6HvzTxqudbSJa/z1cFN0NXhT+ar0ClZfiJPw/9MHHJjJI/M+W4DDbfoD9cQB2N9XCVv1y5tUx5vJC/gNOEwMEQhT8XMZEqQR2aPy04iziuzoA/zdTupjoRkD9RHOryT96AvxJOfTBntJE/Ry73kaSumL+mBZiNdE2Jvz4y4OUY36Y/X6UrXSxlhr+9JpuOv3h/v0BJuInMwmc/sMxihtzjm79uAPJZmjpWvy7HtrIsLJM/3OJ3w3GIlT9U+htzwKagP2QQ8ibcf5u/fUSihD7mab/YHDnTFcZ1v6ouv7tj02y/8hSB42K/gD9uTj8XiqqCP4pbQsFJr4Q/r1P3eqlBkD8pK3HyZsxyP7G6XHEpRpG/19t1DjMzgT99HUI8sOOJP/GcSGty+HS/CcduOTLwhz+ZL+zg50aVP/BIvnuAm4G/w2McC9MVoL9j2VwOUSd9P4B/wOrY5YM/31CAv1mhiD+3peQDpgCSP3HbnWMUanO/C2Ujiqklf7984zLTNseXP9zkpzp38nW//ublOQDHjz/JobhrCelYP0PVUhqeNqO/rCInkuYyeb/aqkMU0x9mvxZTqSAp1pC/SWhFtjzpf7+SVwnQ+c9zP97T5y34lpO/JT9UiAgIZb+XrNxGTpuIv05ftl9nuWs/n5AU6e69bz9SzZzTx9Jyv5QJRCzfsmm/BA62QAXZZD/QcwyqsgKiv0kIZH6rR4q/j/yKpT6LiL+UChSoDZWLPyM1FTWvP5U/e/HY0egwjr9QkQwG5OB1PxAwYVrzjqq/s4Jo94nYPD++OJn6f1E2v65fNbjA4pK/AWROtLIPVD/5+YdMLvChv29EyH6jY5y/7VlamyMfo79XA3jZQqmVvx6oe28MnaO/l2ykN5nLi7/wNaIIw8qdv2xSSOota3S/S2sJSwR2Tb9kqGfXhEY0v21W3ndkKFM/iAuIQN0VnL/3RkjDerI7v/PJ1V/qGqu/qy9iI3djpL+1FLNLHeuhv/HqmZVTY5y/Ip0/qNMso79acm/TQeF2P/zZ3KXzbKS/Ymi/qVTBoL/9UfHBmsifv1i0HRBjaKG/VwbBRdLKnr9Pe3A26YWYvyULgD4ED5a/zhEyiqY8kL862hbtTNKmv4VeLEuoEqW/bsRaobL6oL9k3ecf3Bqfv7yvU5+Ce52/6i/tdKagf7+VwFYa8bGjvwjq2R0zwZm/hWeqTcySqL/tQpiSJNCkv1GIxgYe66C/Tg4V6JBRoL+UrOfD6sidv+hW2P3QhJu/t0y1xczBmL+6RI1GNWGTv2/S+hbMJYq/S6hdorTFg7/z5q17n2Ktv39/4kL3Faa/7rJHEeLGo79qlX6j1G2gv09fXuGI5p6/iW+6FP26mL9ox9IzfkuLv4A7Yw9oQYa/NSiJxB9woL998m6/gIKQvxfcecNiz6K/XbmR3X2xnr8pqgzUhbOXv2rnMq8O1Ja/7aXbaMugjr8d78qU9rKnv7rvztiX06O/uYR1nn7Tob+VYfUJ24OfvwvUMdEosZu/Xo6Ib2z8k79BNuwjHtORv1VDwrfGgo6/MxL+oA0uqL8dAgNf13Smv8xhKbsufaW/8oAIXaghpb94Osla5fGjv38Kd19E0KO/xsRPxBSFor9KYhujX42dv6s/N0zYnpa/Gr01aYdJp7/HaJUtmk6lv+yXkIFowaO/f+9Uk/1qor9l0gjfUEWgvzjUP48FVp+/MZ4D+hl+mb8H/KSyOUuXvwr6unCSO5K/gNRbPp4qqL+Pr6ezwBWnv0lYxj2UP6O/k2sto1x+ob+7RB7tGGigvwdiB8IY6p2/gCPum/pXnL89Wu3J/lWMv62pr+c0Lau/T9EOhiK/qL/mhBtSot2nv4EfFubp8Ka/+4hPtefnpb9VLdT8YjKkv0FItujatqG/dcyck43jm7/yHwlyueyYv8U9CFI7jpe/5qqXbL7YkL+i8MwX44KmvzQ8OGaxi6S/hOZ3RhcVor/8UWqN87qhv8sGYQyUYKG/F2/2fSern78L80P1KVacv+MUF0nZp5K/U1385RlFir8nbizaPn2vv1GR+syizae/Bg9D/diRpb+A6W1zJr+hv+3Fn/Pc3KC/Z3awLVufm7/R7zSZXwOav2pjHzNCzJe/FOXbNPvTj785qGFOF0yqv26MHmaieqe/fHbkuyVBpr+HodRdweqkv0KEBDK3OqS/egijgLHTo7/TMA3pzEKiv9tNA4vhD6C/bD6/xopKnb9TwHZhw+uavwkDBNBo9pe/+BEd4sYol7+PfmxFPqKTv3JJakgxMYK/qADcEvgEpL9tNbkPZ+6iv7wnoCKRr6C/D41IQho9n79HMAofLcucv1Qp8ft8So6/UTgF2s88hr/GuyfurICkv+iEGIX5g56/J4rFxEmZnb88XS2SFcWbvy6G/nQFi6a/2oGSlBPFo7+wtuCJ/SijvxyICLdRrJi/Xp2lZ46Pib8O/yPf0kOmvx/6i9BNm6G/k/JaPH2VoL/42N7XGfuZv3ST0zmbJqW/Enn37xk2pL9Gkul6bjagv0pYW6d8Qp6/BECjrAmjob/goeA4yv6ev/zWZ4R3GZ6/UyWCFkNgl7+9rrf+Fk2Uv9Ng7iklh6a/zdcdaOo8ob9A9qkL5J6gv/2Foj5Vu5e/qbTcwxpkq78OafyV5m+ivzAymhkTRH+/AwUcO5lGqb9jK/2GAbilv9GeOby6uqS/BIsvmA6Tmr9rasHMQpmkv0IUfn0rXaK/C/fLImUppr9AJWHX7RWhv8hN3xpq86y/5ILGnsbaob87uZR+saOkPzo4vtQceKy/usNk1Qs0qT8ouV0ZeA6vvx8CcyJryrS/ok2KsPXzqz+NJu6tXd23v/5yxtQ+OrW/EwEpChS7s78tOFN8ez+rv4FK1L7sqrA/wKdM1L+BzD/8hZwCsL7NP4c5nQ0KeNA/dl30Mupp0D/qNUru2UDSP7JmjI1e2dM/jyFF4ZgT1T+q2a6KVcHUP4bGr7BPcNg/0ExbEP4m2D8=\",\"dtype\":\"float64\",\"shape\":[340]}},\"selected\":{\"id\":\"4654\",\"type\":\"Selection\"},\"selection_policy\":{\"id\":\"4653\",\"type\":\"UnionRenderers\"}},\"id\":\"4370\",\"type\":\"ColumnDataSource\"},{\"attributes\":{\"fill_alpha\":{\"value\":0.1},\"fill_color\":{\"value\":\"#1f77b4\"},\"line_alpha\":{\"value\":0.1},\"line_color\":{\"value\":\"#1f77b4\"},\"x\":{\"field\":\"x\"},\"y\":{\"field\":\"y\"}},\"id\":\"4526\",\"type\":\"Circle\"},{\"attributes\":{\"fill_color\":{\"field\":\"label\",\"transform\":{\"id\":\"4371\",\"type\":\"CategoricalColorMapper\"}},\"line_color\":{\"field\":\"label\",\"transform\":{\"id\":\"4371\",\"type\":\"CategoricalColorMapper\"}},\"x\":{\"field\":\"x\"},\"y\":{\"field\":\"y\"}},\"id\":\"4507\",\"type\":\"Circle\"},{\"attributes\":{},\"id\":\"4648\",\"type\":\"BasicTickFormatter\"},{\"attributes\":{\"column_name\":\"label\",\"group\":\"C\"},\"id\":\"4390\",\"type\":\"GroupFilter\"},{\"attributes\":{\"column_name\":\"label\",\"group\":\"I\"},\"id\":\"4426\",\"type\":\"GroupFilter\"},{\"attributes\":{\"overlay\":{\"id\":\"4655\",\"type\":\"BoxAnnotation\"}},\"id\":\"4357\",\"type\":\"BoxZoomTool\"},{\"attributes\":{\"filters\":[{\"id\":\"4390\",\"type\":\"GroupFilter\"}],\"source\":{\"id\":\"4370\",\"type\":\"ColumnDataSource\"}},\"id\":\"4391\",\"type\":\"CDSView\"},{\"attributes\":{\"filters\":[{\"id\":\"4426\",\"type\":\"GroupFilter\"}],\"source\":{\"id\":\"4370\",\"type\":\"ColumnDataSource\"}},\"id\":\"4427\",\"type\":\"CDSView\"},{\"attributes\":{\"fill_alpha\":{\"value\":0.1},\"fill_color\":{\"value\":\"#1f77b4\"},\"line_alpha\":{\"value\":0.1},\"line_color\":{\"value\":\"#1f77b4\"},\"x\":{\"field\":\"x\"},\"y\":{\"field\":\"y\"}},\"id\":\"4508\",\"type\":\"Circle\"},{\"attributes\":{\"callback\":null},\"id\":\"4337\",\"type\":\"DataRange1d\"},{\"attributes\":{\"data_source\":{\"id\":\"4370\",\"type\":\"ColumnDataSource\"},\"glyph\":{\"id\":\"4435\",\"type\":\"Circle\"},\"hover_glyph\":null,\"muted_glyph\":null,\"nonselection_glyph\":{\"id\":\"4436\",\"type\":\"Circle\"},\"selection_glyph\":null,\"view\":{\"id\":\"4433\",\"type\":\"CDSView\"}},\"id\":\"4437\",\"type\":\"GlyphRenderer\"},{\"attributes\":{\"data_source\":{\"id\":\"4370\",\"type\":\"ColumnDataSource\"},\"glyph\":{\"id\":\"4507\",\"type\":\"Circle\"},\"hover_glyph\":null,\"muted_glyph\":null,\"nonselection_glyph\":{\"id\":\"4508\",\"type\":\"Circle\"},\"selection_glyph\":null,\"view\":{\"id\":\"4505\",\"type\":\"CDSView\"}},\"id\":\"4509\",\"type\":\"GlyphRenderer\"},{\"attributes\":{\"filters\":[{\"id\":\"4432\",\"type\":\"GroupFilter\"}],\"source\":{\"id\":\"4370\",\"type\":\"ColumnDataSource\"}},\"id\":\"4433\",\"type\":\"CDSView\"},{\"attributes\":{\"fill_color\":{\"field\":\"label\",\"transform\":{\"id\":\"4371\",\"type\":\"CategoricalColorMapper\"}},\"line_color\":{\"field\":\"label\",\"transform\":{\"id\":\"4371\",\"type\":\"CategoricalColorMapper\"}},\"x\":{\"field\":\"x\"},\"y\":{\"field\":\"y\"}},\"id\":\"4393\",\"type\":\"Circle\"},{\"attributes\":{\"column_name\":\"label\",\"group\":\"K\"},\"id\":\"4438\",\"type\":\"GroupFilter\"},{\"attributes\":{\"column_name\":\"label\",\"group\":\"Y\"},\"id\":\"4510\",\"type\":\"GroupFilter\"},{\"attributes\":{\"fill_alpha\":{\"value\":0.1},\"fill_color\":{\"value\":\"#1f77b4\"},\"line_alpha\":{\"value\":0.1},\"line_color\":{\"value\":\"#1f77b4\"},\"x\":{\"field\":\"x\"},\"y\":{\"field\":\"y\"}},\"id\":\"4394\",\"type\":\"Circle\"},{\"attributes\":{\"filters\":[{\"id\":\"4438\",\"type\":\"GroupFilter\"}],\"source\":{\"id\":\"4370\",\"type\":\"ColumnDataSource\"}},\"id\":\"4439\",\"type\":\"CDSView\"},{\"attributes\":{\"filters\":[{\"id\":\"4510\",\"type\":\"GroupFilter\"}],\"source\":{\"id\":\"4370\",\"type\":\"ColumnDataSource\"}},\"id\":\"4511\",\"type\":\"CDSView\"},{\"attributes\":{\"data_source\":{\"id\":\"4370\",\"type\":\"ColumnDataSource\"},\"glyph\":{\"id\":\"4393\",\"type\":\"Circle\"},\"hover_glyph\":null,\"muted_glyph\":null,\"nonselection_glyph\":{\"id\":\"4394\",\"type\":\"Circle\"},\"selection_glyph\":null,\"view\":{\"id\":\"4391\",\"type\":\"CDSView\"}},\"id\":\"4395\",\"type\":\"GlyphRenderer\"},{\"attributes\":{\"fill_color\":{\"field\":\"label\",\"transform\":{\"id\":\"4371\",\"type\":\"CategoricalColorMapper\"}},\"line_color\":{\"field\":\"label\",\"transform\":{\"id\":\"4371\",\"type\":\"CategoricalColorMapper\"}},\"x\":{\"field\":\"x\"},\"y\":{\"field\":\"y\"}},\"id\":\"4525\",\"type\":\"Circle\"},{\"attributes\":{\"column_name\":\"label\",\"group\":\"gnomad\"},\"id\":\"4522\",\"type\":\"GroupFilter\"},{\"attributes\":{\"data_source\":{\"id\":\"4370\",\"type\":\"ColumnDataSource\"},\"glyph\":{\"id\":\"4525\",\"type\":\"Circle\"},\"hover_glyph\":null,\"muted_glyph\":null,\"nonselection_glyph\":{\"id\":\"4526\",\"type\":\"Circle\"},\"selection_glyph\":null,\"view\":{\"id\":\"4523\",\"type\":\"CDSView\"}},\"id\":\"4527\",\"type\":\"GlyphRenderer\"},{\"attributes\":{\"callback\":null},\"id\":\"4339\",\"type\":\"DataRange1d\"},{\"attributes\":{\"fill_color\":{\"field\":\"label\",\"transform\":{\"id\":\"4371\",\"type\":\"CategoricalColorMapper\"}},\"line_color\":{\"field\":\"label\",\"transform\":{\"id\":\"4371\",\"type\":\"CategoricalColorMapper\"}},\"x\":{\"field\":\"x\"},\"y\":{\"field\":\"y\"}},\"id\":\"4441\",\"type\":\"Circle\"},{\"attributes\":{},\"id\":\"4654\",\"type\":\"Selection\"},{\"attributes\":{},\"id\":\"4355\",\"type\":\"PanTool\"},{\"attributes\":{\"column_name\":\"label\",\"group\":\"D\"},\"id\":\"4396\",\"type\":\"GroupFilter\"},{\"attributes\":{\"filters\":[{\"id\":\"4396\",\"type\":\"GroupFilter\"}],\"source\":{\"id\":\"4370\",\"type\":\"ColumnDataSource\"}},\"id\":\"4397\",\"type\":\"CDSView\"},{\"attributes\":{\"fill_alpha\":{\"value\":0.1},\"fill_color\":{\"value\":\"#1f77b4\"},\"line_alpha\":{\"value\":0.1},\"line_color\":{\"value\":\"#1f77b4\"},\"x\":{\"field\":\"x\"},\"y\":{\"field\":\"y\"}},\"id\":\"4442\",\"type\":\"Circle\"},{\"attributes\":{\"label\":{\"value\":\"M\"},\"renderers\":[{\"id\":\"4455\",\"type\":\"GlyphRenderer\"}]},\"id\":\"4541\",\"type\":\"LegendItem\"},{\"attributes\":{\"ticker\":{\"id\":\"4346\",\"type\":\"BasicTicker\"}},\"id\":\"4349\",\"type\":\"Grid\"},{\"attributes\":{\"data_source\":{\"id\":\"4370\",\"type\":\"ColumnDataSource\"},\"glyph\":{\"id\":\"4441\",\"type\":\"Circle\"},\"hover_glyph\":null,\"muted_glyph\":null,\"nonselection_glyph\":{\"id\":\"4442\",\"type\":\"Circle\"},\"selection_glyph\":null,\"view\":{\"id\":\"4439\",\"type\":\"CDSView\"}},\"id\":\"4443\",\"type\":\"GlyphRenderer\"},{\"attributes\":{},\"id\":\"4351\",\"type\":\"BasicTicker\"},{\"attributes\":{\"label\":{\"value\":\"N\"},\"renderers\":[{\"id\":\"4461\",\"type\":\"GlyphRenderer\"}]},\"id\":\"4542\",\"type\":\"LegendItem\"},{\"attributes\":{\"column_name\":\"label\",\"group\":\"J\"},\"id\":\"4432\",\"type\":\"GroupFilter\"},{\"attributes\":{\"dimension\":1,\"ticker\":{\"id\":\"4351\",\"type\":\"BasicTicker\"}},\"id\":\"4354\",\"type\":\"Grid\"},{\"attributes\":{\"fill_color\":{\"field\":\"label\",\"transform\":{\"id\":\"4371\",\"type\":\"CategoricalColorMapper\"}},\"line_color\":{\"field\":\"label\",\"transform\":{\"id\":\"4371\",\"type\":\"CategoricalColorMapper\"}},\"x\":{\"field\":\"x\"},\"y\":{\"field\":\"y\"}},\"id\":\"4399\",\"type\":\"Circle\"},{\"attributes\":{\"label\":{\"value\":\"O\"},\"renderers\":[{\"id\":\"4467\",\"type\":\"GlyphRenderer\"}]},\"id\":\"4543\",\"type\":\"LegendItem\"},{\"attributes\":{\"column_name\":\"label\",\"group\":\"L\"},\"id\":\"4444\",\"type\":\"GroupFilter\"},{\"attributes\":{\"fill_alpha\":{\"value\":0.1},\"fill_color\":{\"value\":\"#1f77b4\"},\"line_alpha\":{\"value\":0.1},\"line_color\":{\"value\":\"#1f77b4\"},\"x\":{\"field\":\"x\"},\"y\":{\"field\":\"y\"}},\"id\":\"4400\",\"type\":\"Circle\"},{\"attributes\":{\"filters\":[{\"id\":\"4444\",\"type\":\"GroupFilter\"}],\"source\":{\"id\":\"4370\",\"type\":\"ColumnDataSource\"}},\"id\":\"4445\",\"type\":\"CDSView\"},{\"attributes\":{\"label\":{\"value\":\"P\"},\"renderers\":[{\"id\":\"4473\",\"type\":\"GlyphRenderer\"}]},\"id\":\"4544\",\"type\":\"LegendItem\"},{\"attributes\":{\"data_source\":{\"id\":\"4370\",\"type\":\"ColumnDataSource\"},\"glyph\":{\"id\":\"4399\",\"type\":\"Circle\"},\"hover_glyph\":null,\"muted_glyph\":null,\"nonselection_glyph\":{\"id\":\"4400\",\"type\":\"Circle\"},\"selection_glyph\":null,\"view\":{\"id\":\"4397\",\"type\":\"CDSView\"}},\"id\":\"4401\",\"type\":\"GlyphRenderer\"},{\"attributes\":{\"data_source\":{\"id\":\"4370\",\"type\":\"ColumnDataSource\"},\"glyph\":{\"id\":\"4519\",\"type\":\"Circle\"},\"hover_glyph\":null,\"muted_glyph\":null,\"nonselection_glyph\":{\"id\":\"4520\",\"type\":\"Circle\"},\"selection_glyph\":null,\"view\":{\"id\":\"4517\",\"type\":\"CDSView\"}},\"id\":\"4521\",\"type\":\"GlyphRenderer\"},{\"attributes\":{\"label\":{\"value\":\"R\"},\"renderers\":[{\"id\":\"4479\",\"type\":\"GlyphRenderer\"}]},\"id\":\"4545\",\"type\":\"LegendItem\"},{\"attributes\":{\"fill_color\":{\"field\":\"label\",\"transform\":{\"id\":\"4371\",\"type\":\"CategoricalColorMapper\"}},\"line_color\":{\"field\":\"label\",\"transform\":{\"id\":\"4371\",\"type\":\"CategoricalColorMapper\"}},\"x\":{\"field\":\"x\"},\"y\":{\"field\":\"y\"}},\"id\":\"4447\",\"type\":\"Circle\"},{\"attributes\":{\"label\":{\"value\":\"S\"},\"renderers\":[{\"id\":\"4485\",\"type\":\"GlyphRenderer\"}]},\"id\":\"4546\",\"type\":\"LegendItem\"},{\"attributes\":{\"axis_label\":\"PC2\",\"formatter\":{\"id\":\"4650\",\"type\":\"BasicTickFormatter\"},\"ticker\":{\"id\":\"4351\",\"type\":\"BasicTicker\"}},\"id\":\"4350\",\"type\":\"LinearAxis\"},{\"attributes\":{\"column_name\":\"label\",\"group\":\"E\"},\"id\":\"4402\",\"type\":\"GroupFilter\"},{\"attributes\":{\"filters\":[{\"id\":\"4402\",\"type\":\"GroupFilter\"}],\"source\":{\"id\":\"4370\",\"type\":\"ColumnDataSource\"}},\"id\":\"4403\",\"type\":\"CDSView\"},{\"attributes\":{\"fill_alpha\":{\"value\":0.1},\"fill_color\":{\"value\":\"#1f77b4\"},\"line_alpha\":{\"value\":0.1},\"line_color\":{\"value\":\"#1f77b4\"},\"x\":{\"field\":\"x\"},\"y\":{\"field\":\"y\"}},\"id\":\"4448\",\"type\":\"Circle\"},{\"attributes\":{\"label\":{\"value\":\"T\"},\"renderers\":[{\"id\":\"4491\",\"type\":\"GlyphRenderer\"}]},\"id\":\"4547\",\"type\":\"LegendItem\"},{\"attributes\":{\"data_source\":{\"id\":\"4370\",\"type\":\"ColumnDataSource\"},\"glyph\":{\"id\":\"4429\",\"type\":\"Circle\"},\"hover_glyph\":null,\"muted_glyph\":null,\"nonselection_glyph\":{\"id\":\"4430\",\"type\":\"Circle\"},\"selection_glyph\":null,\"view\":{\"id\":\"4427\",\"type\":\"CDSView\"}},\"id\":\"4431\",\"type\":\"GlyphRenderer\"},{\"attributes\":{\"data_source\":{\"id\":\"4370\",\"type\":\"ColumnDataSource\"},\"glyph\":{\"id\":\"4447\",\"type\":\"Circle\"},\"hover_glyph\":null,\"muted_glyph\":null,\"nonselection_glyph\":{\"id\":\"4448\",\"type\":\"Circle\"},\"selection_glyph\":null,\"view\":{\"id\":\"4445\",\"type\":\"CDSView\"}},\"id\":\"4449\",\"type\":\"GlyphRenderer\"},{\"attributes\":{\"label\":{\"value\":\"U\"},\"renderers\":[{\"id\":\"4497\",\"type\":\"GlyphRenderer\"}]},\"id\":\"4548\",\"type\":\"LegendItem\"},{\"attributes\":{},\"id\":\"4341\",\"type\":\"LinearScale\"},{\"attributes\":{\"fill_color\":{\"field\":\"label\",\"transform\":{\"id\":\"4371\",\"type\":\"CategoricalColorMapper\"}},\"line_color\":{\"field\":\"label\",\"transform\":{\"id\":\"4371\",\"type\":\"CategoricalColorMapper\"}},\"x\":{\"field\":\"x\"},\"y\":{\"field\":\"y\"}},\"id\":\"4405\",\"type\":\"Circle\"},{\"attributes\":{\"label\":{\"value\":\"W\"},\"renderers\":[{\"id\":\"4503\",\"type\":\"GlyphRenderer\"}]},\"id\":\"4549\",\"type\":\"LegendItem\"},{\"attributes\":{\"column_name\":\"label\",\"group\":\"M\"},\"id\":\"4450\",\"type\":\"GroupFilter\"},{\"attributes\":{\"filters\":[{\"id\":\"4450\",\"type\":\"GroupFilter\"}],\"source\":{\"id\":\"4370\",\"type\":\"ColumnDataSource\"}},\"id\":\"4451\",\"type\":\"CDSView\"},{\"attributes\":{\"fill_alpha\":{\"value\":0.1},\"fill_color\":{\"value\":\"#1f77b4\"},\"line_alpha\":{\"value\":0.1},\"line_color\":{\"value\":\"#1f77b4\"},\"x\":{\"field\":\"x\"},\"y\":{\"field\":\"y\"}},\"id\":\"4406\",\"type\":\"Circle\"},{\"attributes\":{\"label\":{\"value\":\"X\"},\"renderers\":[{\"id\":\"4509\",\"type\":\"GlyphRenderer\"}]},\"id\":\"4550\",\"type\":\"LegendItem\"},{\"attributes\":{\"text\":\"PCA\"},\"id\":\"4335\",\"type\":\"Title\"},{\"attributes\":{\"data_source\":{\"id\":\"4370\",\"type\":\"ColumnDataSource\"},\"glyph\":{\"id\":\"4405\",\"type\":\"Circle\"},\"hover_glyph\":null,\"muted_glyph\":null,\"nonselection_glyph\":{\"id\":\"4406\",\"type\":\"Circle\"},\"selection_glyph\":null,\"view\":{\"id\":\"4403\",\"type\":\"CDSView\"}},\"id\":\"4407\",\"type\":\"GlyphRenderer\"},{\"attributes\":{\"fill_alpha\":{\"value\":0.1},\"fill_color\":{\"value\":\"#1f77b4\"},\"line_alpha\":{\"value\":0.1},\"line_color\":{\"value\":\"#1f77b4\"},\"x\":{\"field\":\"x\"},\"y\":{\"field\":\"y\"}},\"id\":\"4520\",\"type\":\"Circle\"},{\"attributes\":{\"label\":{\"value\":\"Y\"},\"renderers\":[{\"id\":\"4515\",\"type\":\"GlyphRenderer\"}]},\"id\":\"4551\",\"type\":\"LegendItem\"},{\"attributes\":{},\"id\":\"4343\",\"type\":\"LinearScale\"},{\"attributes\":{\"fill_color\":{\"field\":\"label\",\"transform\":{\"id\":\"4371\",\"type\":\"CategoricalColorMapper\"}},\"line_color\":{\"field\":\"label\",\"transform\":{\"id\":\"4371\",\"type\":\"CategoricalColorMapper\"}},\"x\":{\"field\":\"x\"},\"y\":{\"field\":\"y\"}},\"id\":\"4453\",\"type\":\"Circle\"},{\"attributes\":{\"label\":{\"value\":\"Z\"},\"renderers\":[{\"id\":\"4521\",\"type\":\"GlyphRenderer\"}]},\"id\":\"4552\",\"type\":\"LegendItem\"},{\"attributes\":{},\"id\":\"4653\",\"type\":\"UnionRenderers\"},{\"attributes\":{},\"id\":\"4346\",\"type\":\"BasicTicker\"},{\"attributes\":{\"column_name\":\"label\",\"group\":\"F\"},\"id\":\"4408\",\"type\":\"GroupFilter\"},{\"attributes\":{\"filters\":[{\"id\":\"4408\",\"type\":\"GroupFilter\"}],\"source\":{\"id\":\"4370\",\"type\":\"ColumnDataSource\"}},\"id\":\"4409\",\"type\":\"CDSView\"},{\"attributes\":{\"fill_alpha\":{\"value\":0.1},\"fill_color\":{\"value\":\"#1f77b4\"},\"line_alpha\":{\"value\":0.1},\"line_color\":{\"value\":\"#1f77b4\"},\"x\":{\"field\":\"x\"},\"y\":{\"field\":\"y\"}},\"id\":\"4454\",\"type\":\"Circle\"},{\"attributes\":{\"label\":{\"value\":\"gnomad\"},\"renderers\":[{\"id\":\"4527\",\"type\":\"GlyphRenderer\"}]},\"id\":\"4553\",\"type\":\"LegendItem\"},{\"attributes\":{\"axis_label\":\"PC1\",\"formatter\":{\"id\":\"4648\",\"type\":\"BasicTickFormatter\"},\"ticker\":{\"id\":\"4346\",\"type\":\"BasicTicker\"}},\"id\":\"4345\",\"type\":\"LinearAxis\"},{\"attributes\":{\"data_source\":{\"id\":\"4370\",\"type\":\"ColumnDataSource\"},\"glyph\":{\"id\":\"4453\",\"type\":\"Circle\"},\"hover_glyph\":null,\"muted_glyph\":null,\"nonselection_glyph\":{\"id\":\"4454\",\"type\":\"Circle\"},\"selection_glyph\":null,\"view\":{\"id\":\"4451\",\"type\":\"CDSView\"}},\"id\":\"4455\",\"type\":\"GlyphRenderer\"},{\"attributes\":{\"click_policy\":\"hide\",\"items\":[{\"id\":\"4528\",\"type\":\"LegendItem\"},{\"id\":\"4529\",\"type\":\"LegendItem\"},{\"id\":\"4530\",\"type\":\"LegendItem\"},{\"id\":\"4531\",\"type\":\"LegendItem\"},{\"id\":\"4532\",\"type\":\"LegendItem\"},{\"id\":\"4533\",\"type\":\"LegendItem\"},{\"id\":\"4534\",\"type\":\"LegendItem\"},{\"id\":\"4535\",\"type\":\"LegendItem\"},{\"id\":\"4536\",\"type\":\"LegendItem\"},{\"id\":\"4537\",\"type\":\"LegendItem\"},{\"id\":\"4538\",\"type\":\"LegendItem\"},{\"id\":\"4539\",\"type\":\"LegendItem\"},{\"id\":\"4540\",\"type\":\"LegendItem\"},{\"id\":\"4541\",\"type\":\"LegendItem\"},{\"id\":\"4542\",\"type\":\"LegendItem\"},{\"id\":\"4543\",\"type\":\"LegendItem\"},{\"id\":\"4544\",\"type\":\"LegendItem\"},{\"id\":\"4545\",\"type\":\"LegendItem\"},{\"id\":\"4546\",\"type\":\"LegendItem\"},{\"id\":\"4547\",\"type\":\"LegendItem\"},{\"id\":\"4548\",\"type\":\"LegendItem\"},{\"id\":\"4549\",\"type\":\"LegendItem\"},{\"id\":\"4550\",\"type\":\"LegendItem\"},{\"id\":\"4551\",\"type\":\"LegendItem\"},{\"id\":\"4552\",\"type\":\"LegendItem\"},{\"id\":\"4553\",\"type\":\"LegendItem\"}]},\"id\":\"4554\",\"type\":\"Legend\"},{\"attributes\":{\"fill_alpha\":{\"value\":0.1},\"fill_color\":{\"value\":\"#1f77b4\"},\"line_alpha\":{\"value\":0.1},\"line_color\":{\"value\":\"#1f77b4\"},\"x\":{\"field\":\"x\"},\"y\":{\"field\":\"y\"}},\"id\":\"4430\",\"type\":\"Circle\"},{\"attributes\":{\"color_mapper\":null,\"formatter\":{\"id\":\"4652\",\"type\":\"BasicTickFormatter\"},\"ticker\":{\"id\":\"4651\",\"type\":\"BasicTicker\"},\"visible\":false},\"id\":\"4555\",\"type\":\"ColorBar\"},{\"attributes\":{\"fill_color\":{\"field\":\"label\",\"transform\":{\"id\":\"4371\",\"type\":\"CategoricalColorMapper\"}},\"line_color\":{\"field\":\"label\",\"transform\":{\"id\":\"4371\",\"type\":\"CategoricalColorMapper\"}},\"x\":{\"field\":\"x\"},\"y\":{\"field\":\"y\"}},\"id\":\"4411\",\"type\":\"Circle\"},{\"attributes\":{\"column_name\":\"label\",\"group\":\"N\"},\"id\":\"4456\",\"type\":\"GroupFilter\"},{\"attributes\":{},\"id\":\"4652\",\"type\":\"BasicTickFormatter\"},{\"attributes\":{\"fill_alpha\":{\"value\":0.1},\"fill_color\":{\"value\":\"#1f77b4\"},\"line_alpha\":{\"value\":0.1},\"line_color\":{\"value\":\"#1f77b4\"},\"x\":{\"field\":\"x\"},\"y\":{\"field\":\"y\"}},\"id\":\"4412\",\"type\":\"Circle\"},{\"attributes\":{\"filters\":[{\"id\":\"4456\",\"type\":\"GroupFilter\"}],\"source\":{\"id\":\"4370\",\"type\":\"ColumnDataSource\"}},\"id\":\"4457\",\"type\":\"CDSView\"},{\"attributes\":{},\"id\":\"4650\",\"type\":\"BasicTickFormatter\"},{\"attributes\":{\"data_source\":{\"id\":\"4370\",\"type\":\"ColumnDataSource\"},\"glyph\":{\"id\":\"4411\",\"type\":\"Circle\"},\"hover_glyph\":null,\"muted_glyph\":null,\"nonselection_glyph\":{\"id\":\"4412\",\"type\":\"Circle\"},\"selection_glyph\":null,\"view\":{\"id\":\"4409\",\"type\":\"CDSView\"}},\"id\":\"4413\",\"type\":\"GlyphRenderer\"},{\"attributes\":{\"fill_color\":{\"field\":\"label\",\"transform\":{\"id\":\"4371\",\"type\":\"CategoricalColorMapper\"}},\"line_color\":{\"field\":\"label\",\"transform\":{\"id\":\"4371\",\"type\":\"CategoricalColorMapper\"}},\"x\":{\"field\":\"x\"},\"y\":{\"field\":\"y\"}},\"id\":\"4519\",\"type\":\"Circle\"},{\"attributes\":{\"fill_color\":{\"field\":\"label\",\"transform\":{\"id\":\"4371\",\"type\":\"CategoricalColorMapper\"}},\"line_color\":{\"field\":\"label\",\"transform\":{\"id\":\"4371\",\"type\":\"CategoricalColorMapper\"}},\"x\":{\"field\":\"x\"},\"y\":{\"field\":\"y\"}},\"id\":\"4459\",\"type\":\"Circle\"},{\"attributes\":{\"column_name\":\"label\",\"group\":\"G\"},\"id\":\"4414\",\"type\":\"GroupFilter\"},{\"attributes\":{\"callback\":null,\"tooltips\":[[\"x\",\"@x\"],[\"y\",\"@y\"],[\"label\",\"@label\"]]},\"id\":\"4369\",\"type\":\"HoverTool\"},{\"attributes\":{\"filters\":[{\"id\":\"4414\",\"type\":\"GroupFilter\"}],\"source\":{\"id\":\"4370\",\"type\":\"ColumnDataSource\"}},\"id\":\"4415\",\"type\":\"CDSView\"},{\"attributes\":{\"fill_alpha\":{\"value\":0.1},\"fill_color\":{\"value\":\"#1f77b4\"},\"line_alpha\":{\"value\":0.1},\"line_color\":{\"value\":\"#1f77b4\"},\"x\":{\"field\":\"x\"},\"y\":{\"field\":\"y\"}},\"id\":\"4460\",\"type\":\"Circle\"},{\"attributes\":{},\"id\":\"4356\",\"type\":\"WheelZoomTool\"},{\"attributes\":{\"data_source\":{\"id\":\"4370\",\"type\":\"ColumnDataSource\"},\"glyph\":{\"id\":\"4459\",\"type\":\"Circle\"},\"hover_glyph\":null,\"muted_glyph\":null,\"nonselection_glyph\":{\"id\":\"4460\",\"type\":\"Circle\"},\"selection_glyph\":null,\"view\":{\"id\":\"4457\",\"type\":\"CDSView\"}},\"id\":\"4461\",\"type\":\"GlyphRenderer\"},{\"attributes\":{\"fill_color\":{\"field\":\"label\",\"transform\":{\"id\":\"4371\",\"type\":\"CategoricalColorMapper\"}},\"line_color\":{\"field\":\"label\",\"transform\":{\"id\":\"4371\",\"type\":\"CategoricalColorMapper\"}},\"x\":{\"field\":\"x\"},\"y\":{\"field\":\"y\"}},\"id\":\"4429\",\"type\":\"Circle\"},{\"attributes\":{\"fill_color\":{\"field\":\"label\",\"transform\":{\"id\":\"4371\",\"type\":\"CategoricalColorMapper\"}},\"line_color\":{\"field\":\"label\",\"transform\":{\"id\":\"4371\",\"type\":\"CategoricalColorMapper\"}},\"x\":{\"field\":\"x\"},\"y\":{\"field\":\"y\"}},\"id\":\"4417\",\"type\":\"Circle\"},{\"attributes\":{\"column_name\":\"label\",\"group\":\".\"},\"id\":\"4372\",\"type\":\"GroupFilter\"},{\"attributes\":{\"column_name\":\"label\",\"group\":\"O\"},\"id\":\"4462\",\"type\":\"GroupFilter\"},{\"attributes\":{\"fill_alpha\":{\"value\":0.1},\"fill_color\":{\"value\":\"#1f77b4\"},\"line_alpha\":{\"value\":0.1},\"line_color\":{\"value\":\"#1f77b4\"},\"x\":{\"field\":\"x\"},\"y\":{\"field\":\"y\"}},\"id\":\"4418\",\"type\":\"Circle\"},{\"attributes\":{\"filters\":[{\"id\":\"4462\",\"type\":\"GroupFilter\"}],\"source\":{\"id\":\"4370\",\"type\":\"ColumnDataSource\"}},\"id\":\"4463\",\"type\":\"CDSView\"},{\"attributes\":{},\"id\":\"4651\",\"type\":\"BasicTicker\"},{\"attributes\":{\"data_source\":{\"id\":\"4370\",\"type\":\"ColumnDataSource\"},\"glyph\":{\"id\":\"4417\",\"type\":\"Circle\"},\"hover_glyph\":null,\"muted_glyph\":null,\"nonselection_glyph\":{\"id\":\"4418\",\"type\":\"Circle\"},\"selection_glyph\":null,\"view\":{\"id\":\"4415\",\"type\":\"CDSView\"}},\"id\":\"4419\",\"type\":\"GlyphRenderer\"},{\"attributes\":{\"fill_color\":{\"field\":\"label\",\"transform\":{\"id\":\"4371\",\"type\":\"CategoricalColorMapper\"}},\"line_color\":{\"field\":\"label\",\"transform\":{\"id\":\"4371\",\"type\":\"CategoricalColorMapper\"}},\"x\":{\"field\":\"x\"},\"y\":{\"field\":\"y\"}},\"id\":\"4465\",\"type\":\"Circle\"},{\"attributes\":{\"column_name\":\"label\",\"group\":\"H\"},\"id\":\"4420\",\"type\":\"GroupFilter\"},{\"attributes\":{\"filters\":[{\"id\":\"4420\",\"type\":\"GroupFilter\"}],\"source\":{\"id\":\"4370\",\"type\":\"ColumnDataSource\"}},\"id\":\"4421\",\"type\":\"CDSView\"},{\"attributes\":{\"fill_alpha\":{\"value\":0.1},\"fill_color\":{\"value\":\"#1f77b4\"},\"line_alpha\":{\"value\":0.1},\"line_color\":{\"value\":\"#1f77b4\"},\"x\":{\"field\":\"x\"},\"y\":{\"field\":\"y\"}},\"id\":\"4466\",\"type\":\"Circle\"},{\"attributes\":{\"data_source\":{\"id\":\"4370\",\"type\":\"ColumnDataSource\"},\"glyph\":{\"id\":\"4465\",\"type\":\"Circle\"},\"hover_glyph\":null,\"muted_glyph\":null,\"nonselection_glyph\":{\"id\":\"4466\",\"type\":\"Circle\"},\"selection_glyph\":null,\"view\":{\"id\":\"4463\",\"type\":\"CDSView\"}},\"id\":\"4467\",\"type\":\"GlyphRenderer\"},{\"attributes\":{\"bottom_units\":\"screen\",\"fill_alpha\":{\"value\":0.5},\"fill_color\":{\"value\":\"lightgrey\"},\"left_units\":\"screen\",\"level\":\"overlay\",\"line_alpha\":{\"value\":1.0},\"line_color\":{\"value\":\"black\"},\"line_dash\":[4,4],\"line_width\":{\"value\":2},\"render_mode\":\"css\",\"right_units\":\"screen\",\"top_units\":\"screen\"},\"id\":\"4655\",\"type\":\"BoxAnnotation\"},{\"attributes\":{\"fill_color\":{\"field\":\"label\",\"transform\":{\"id\":\"4371\",\"type\":\"CategoricalColorMapper\"}},\"line_color\":{\"field\":\"label\",\"transform\":{\"id\":\"4371\",\"type\":\"CategoricalColorMapper\"}},\"x\":{\"field\":\"x\"},\"y\":{\"field\":\"y\"}},\"id\":\"4423\",\"type\":\"Circle\"},{\"attributes\":{\"column_name\":\"label\",\"group\":\"P\"},\"id\":\"4468\",\"type\":\"GroupFilter\"},{\"attributes\":{\"fill_alpha\":{\"value\":0.1},\"fill_color\":{\"value\":\"#1f77b4\"},\"line_alpha\":{\"value\":0.1},\"line_color\":{\"value\":\"#1f77b4\"},\"x\":{\"field\":\"x\"},\"y\":{\"field\":\"y\"}},\"id\":\"4424\",\"type\":\"Circle\"}],\"root_ids\":[\"4334\"]},\"title\":\"Bokeh Application\",\"version\":\"1.2.0\"}};\n",
       "  var render_items = [{\"docid\":\"ffc9a0db-eadd-46f5-a13f-6b1e1e51a823\",\"roots\":{\"4334\":\"cda134ae-2a6e-4961-89d8-b1f57e01b9c4\"}}];\n",
       "  root.Bokeh.embed.embed_items_notebook(docs_json, render_items);\n",
       "\n",
       "  }\n",
       "  if (root.Bokeh !== undefined) {\n",
       "    embed_document(root);\n",
       "  } else {\n",
       "    var attempts = 0;\n",
       "    var timer = setInterval(function(root) {\n",
       "      if (root.Bokeh !== undefined) {\n",
       "        embed_document(root);\n",
       "        clearInterval(timer);\n",
       "      }\n",
       "      attempts++;\n",
       "      if (attempts > 100) {\n",
       "        console.log(\"Bokeh: ERROR: Unable to run BokehJS code because BokehJS library is missing\");\n",
       "        clearInterval(timer);\n",
       "      }\n",
       "    }, 10, root)\n",
       "  }\n",
       "})(window);"
      ],
      "application/vnd.bokehjs_exec.v0+json": ""
     },
     "metadata": {
      "application/vnd.bokehjs_exec.v0+json": {
       "id": "4334"
      }
     },
     "output_type": "display_data"
    }
   ],
   "source": [
    "show(p)"
   ]
  },
  {
   "cell_type": "markdown",
   "metadata": {},
   "source": [
    "## annotate mt with nearest_genes_20kb\n",
    "\n"
   ]
  },
  {
   "cell_type": "code",
   "execution_count": null,
   "metadata": {},
   "outputs": [],
   "source": [
    "genes = hl.read_table('/net/archive/groups/plggneuromol/GTS-analysis/vcf_preprocessing/genecode_v32.ht')\n",
    "genes = genes.filter(hl.is_valid_contig(genes['hg38.knownGene.chrom'], reference_genome='GRCh38'))\n",
    "\n",
    "\n",
    "start = hl.cond(genes['hg38.knownGene.txStart'] < 20000, 1, genes['hg38.knownGene.txStart'] - 20000)\n",
    "stop =  hl.cond(hl.contig_length(genes['hg38.knownGene.chrom'], reference_genome='GRCh38') - genes['hg38.knownGene.txEnd'] < 20000, \n",
    "                hl.contig_length(genes['hg38.knownGene.chrom'], reference_genome='GRCh38'),\n",
    "                genes['hg38.knownGene.txEnd'] + 20000)\n",
    "\n",
    "genes = genes.transmute(interval = \n",
    "                        hl.locus_interval(genes['hg38.knownGene.chrom'], \n",
    "                                          start,\n",
    "                                          stop,\n",
    "                                          reference_genome='GRCh38'))\n",
    "\n",
    "genes = genes.key_by(genes.interval)\n",
    "\n",
    "mt = mt.annotate_rows(nearest_genes_20kb = hl.array(hl.set(genes.index(mt.locus, all_matches=True)['hg38.kgXref.geneSymbol'])))"
   ]
  },
  {
   "cell_type": "markdown",
   "metadata": {},
   "source": [
    "## Make the simulated controls gender equal"
   ]
  },
  {
   "cell_type": "markdown",
   "metadata": {},
   "source": [
    "PAR coordinates in GrCh38: http://m.ensembl.org/info/genome/genebuild/human_PARS.html"
   ]
  },
  {
   "cell_type": "code",
   "execution_count": null,
   "metadata": {},
   "outputs": [],
   "source": [
    "par1 = [10001,2781479]\n",
    "par2 = [155701383,156030895]"
   ]
  },
  {
   "cell_type": "code",
   "execution_count": null,
   "metadata": {},
   "outputs": [],
   "source": [
    "rg = hl.get_reference('GRCh38')"
   ]
  },
  {
   "cell_type": "code",
   "execution_count": null,
   "metadata": {},
   "outputs": [],
   "source": [
    "rg.lengths['chrX']"
   ]
  },
  {
   "cell_type": "code",
   "execution_count": null,
   "metadata": {},
   "outputs": [],
   "source": [
    "nonpars = [[1,10000],[2781480,155701382]]"
   ]
  },
  {
   "cell_type": "markdown",
   "metadata": {},
   "source": [
    "### first see sex distribution in our samples"
   ]
  },
  {
   "cell_type": "code",
   "execution_count": null,
   "metadata": {},
   "outputs": [],
   "source": [
    "samples = mt.s.collect()"
   ]
  },
  {
   "cell_type": "code",
   "execution_count": null,
   "metadata": {},
   "outputs": [],
   "source": [
    "gnomad_females = samples[185:(185+70)] "
   ]
  },
  {
   "cell_type": "code",
   "execution_count": null,
   "metadata": {},
   "outputs": [],
   "source": [
    "gnomads_males = samples[(185+70):]"
   ]
  },
  {
   "cell_type": "code",
   "execution_count": null,
   "metadata": {},
   "outputs": [],
   "source": [
    "mt = mt.transmute_cols(phenotypes = mt.phenotypes.annotate(sex = hl.cond(mt.s.contains('gnomad'),\n",
    "                                                      hl.cond(hl.array(gnomad_females).contains(mt.s),\n",
    "                                                            'F', 'M'),\n",
    "                                                      mt.phenotypes['sex'])))"
   ]
  },
  {
   "cell_type": "code",
   "execution_count": null,
   "metadata": {},
   "outputs": [],
   "source": [
    "mt.aggregate_cols(hl.agg.counter(mt.phenotypes['sex']))"
   ]
  },
  {
   "cell_type": "code",
   "execution_count": null,
   "metadata": {},
   "outputs": [],
   "source": [
    "mt = mt.annotate_entries(GT = hl.cond(\n",
    "                         mt.locus.contig == 'chrX',\n",
    "                         hl.cond(\n",
    "                            mt.phenotypes['sex'] == 'F',\n",
    "                            mt.GT,\n",
    "                            hl.cond(\n",
    "                                mt.locus.position > nonpars[1][1], \n",
    "                                mt.GT,\n",
    "                                hl.cond(\n",
    "                                    mt.locus.position < nonpars[0][1],\n",
    "                                    hl.cond(\n",
    "                                        mt.locus.position > nonpars[0][0],\n",
    "                                        mt.GT,\n",
    "                                        hl.call(mt.GT[0], mt.GT[0])),\n",
    "                                    hl.call(mt.GT[0], mt.GT[0])))),\n",
    "                         mt.GT))     "
   ]
  },
  {
   "cell_type": "code",
   "execution_count": null,
   "metadata": {},
   "outputs": [],
   "source": [
    "#mt.write('/net/archive/groups/plggneuromol/GTS-analysis/data/GTS-gnomad-sex.mt')"
   ]
  },
  {
   "cell_type": "markdown",
   "metadata": {},
   "source": [
    "prepare matrix tables"
   ]
  },
  {
   "cell_type": "code",
   "execution_count": null,
   "metadata": {},
   "outputs": [],
   "source": [
    "mt = hl.read_matrix_table('/net/archive/groups/plggneuromol/GTS-analysis/data/GTS-gnomad-sex.mt')"
   ]
  },
  {
   "cell_type": "code",
   "execution_count": null,
   "metadata": {},
   "outputs": [],
   "source": [
    "mt = mt.filter_rows(mt.cadd > 0) # this is so I don't do too many tests"
   ]
  },
  {
   "cell_type": "code",
   "execution_count": null,
   "metadata": {},
   "outputs": [],
   "source": [
    "mt_subset = mt.sample_rows(0.002)"
   ]
  },
  {
   "cell_type": "code",
   "execution_count": null,
   "metadata": {},
   "outputs": [],
   "source": [
    "mt.count()"
   ]
  },
  {
   "cell_type": "code",
   "execution_count": null,
   "metadata": {},
   "outputs": [],
   "source": [
    "mt_subset.count()"
   ]
  },
  {
   "cell_type": "code",
   "execution_count": null,
   "metadata": {},
   "outputs": [],
   "source": [
    "mt = mt.annotate_cols(category = hl.cond(mt.s.contains('gnomad'), False, (mt.phenotypes.disease == 'YES')))\n",
    "mt_subset = mt_subset.annotate_cols(category = hl.cond(mt_subset.s.contains('gnomad'), False, (mt_subset.phenotypes.disease == 'YES')))\n",
    "\n",
    "mt = mt.filter_cols((mt.s.contains('gnomad')) | ((mt.phenotypes.family =='.') & (mt.phenotypes.disease =='YES')))\n",
    "mt_subset = mt_subset.filter_cols((mt_subset.s.contains('gnomad')) | ((mt_subset.phenotypes.family =='.') & (mt_subset.phenotypes.disease =='YES')))\n",
    "samples = mt.s.collect()\n",
    "\n",
    "#first 70 gnomad samples are females\n",
    "\n",
    "to_keep = samples[0:44] + samples[110:144]\n",
    "mt = mt.filter_cols(hl.array(to_keep).contains(mt.s)) # filter out excessive gnomads\n",
    "mt_subset = mt_subset.filter_cols(hl.array(to_keep).contains(mt_subset.s))"
   ]
  },
  {
   "cell_type": "code",
   "execution_count": null,
   "metadata": {},
   "outputs": [],
   "source": [
    "mt_test = hl.read_matrix_table('/net/archive/groups/plggneuromol/GTS-analysis/data/GTS-gnomad-sex.mt')\n",
    "mt_test = mt_test.filter_rows(mt_test.cadd > 0) \n",
    "mt_test = mt_test.annotate_cols(category = hl.cond(mt_test.s.contains('gnomad'), False, (mt_test.phenotypes.disease == 'YES')))\n",
    "mt_test = mt_test.filter_cols(mt_test.phenotypes.family == '.', keep = False)\n",
    "mt_test = mt_test.filter_cols((mt_test.phenotypes.disease == 'YES') | (mt_test.phenotypes.disease == 'NO'))"
   ]
  },
  {
   "cell_type": "code",
   "execution_count": null,
   "metadata": {},
   "outputs": [],
   "source": [
    "# generate new alternative data subsets:\n",
    "mt = hl.read_matrix_table('/net/archive/groups/plggneuromol/GTS-analysis/data/mt-for-skat.mt')\n",
    "\n",
    "\n",
    "mt_subset_2 = mt.sample_rows(0.002)\n",
    "mt_subset_2.write('/net/archive/groups/plggneuromol/GTS-analysis/data/mt-subset-2.mt')"
   ]
  },
  {
   "cell_type": "code",
   "execution_count": 7,
   "metadata": {},
   "outputs": [
    {
     "name": "stderr",
     "output_type": "stream",
     "text": [
      "2020-10-29 11:20:54 Hail: INFO: wrote matrix table with 12721 rows and 78 columns in 6622 partitions to /net/archive/groups/plggneuromol/GTS-analysis/data/mt-subset-3.mt\n"
     ]
    }
   ],
   "source": [
    "mt_subset_3 = mt.sample_rows(0.002)\n",
    "mt_subset_3.write('/net/archive/groups/plggneuromol/GTS-analysis/data/mt-subset-3.mt')"
   ]
  },
  {
   "cell_type": "code",
   "execution_count": null,
   "metadata": {},
   "outputs": [],
   "source": [
    "mt.write('/net/archive/groups/plggneuromol/GTS-analysis/data/mt-for-skat.mt')\n",
    "mt_subset.write('/net/archive/groups/plggneuromol/GTS-analysis/data/mt-subset.mt')\n",
    "mt_test.write('/net/archive/groups/plggneuromol/GTS-analysis/data/mt-test.mt')"
   ]
  }
 ],
 "metadata": {
  "kernelspec": {
   "display_name": "Python 3",
   "language": "python",
   "name": "python3"
  },
  "language_info": {
   "codemirror_mode": {
    "name": "ipython",
    "version": 3
   },
   "file_extension": ".py",
   "mimetype": "text/x-python",
   "name": "python",
   "nbconvert_exporter": "python",
   "pygments_lexer": "ipython3",
   "version": "3.6.5"
  }
 },
 "nbformat": 4,
 "nbformat_minor": 2
}
