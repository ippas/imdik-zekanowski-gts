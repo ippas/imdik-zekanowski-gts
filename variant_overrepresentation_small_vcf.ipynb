{
 "cells": [
  {
   "cell_type": "markdown",
   "metadata": {},
   "source": [
    "# Table of contents:\n",
    "\n",
    "## [1. Import mt and filter it to only contain unrelated patients](#1)\n",
    "\n",
    "\n",
    "## [2. Filter for a list of related genes and compare with Fisher exact with gnomAD (simple)](#2)"
   ]
  },
  {
   "cell_type": "code",
   "execution_count": 1,
   "metadata": {},
   "outputs": [
    {
     "data": {
      "text/html": [
       "<style>.container { width:100% !important; }</style>"
      ],
      "text/plain": [
       "<IPython.core.display.HTML object>"
      ]
     },
     "metadata": {},
     "output_type": "display_data"
    }
   ],
   "source": [
    "from IPython.display import display\n",
    "from IPython.display import HTML\n",
    "import IPython.core.display as di # Example: di.display_html('<h3>%s:</h3>' % str, raw=True)\n",
    "\n",
    "# This line will hide code by default when the notebook is exported as HTML\n",
    "# di.display_html('<script>jQuery(function() {if (jQuery(\"body.notebook_app\").length == 0) { jQuery(\".input_area\").toggle(); jQuery(\".prompt\").toggle();}});</script>', raw=True)\n",
    "\n",
    "display(HTML(\"<style>.container { width:100% !important; }</style>\"))\n"
   ]
  },
  {
   "cell_type": "code",
   "execution_count": 4,
   "metadata": {},
   "outputs": [
    {
     "name": "stderr",
     "output_type": "stream",
     "text": [
      "Running on Apache Spark version 2.4.1\n",
      "SparkUI available at http://8c03623a3bed:4041\n",
      "Welcome to\n",
      "     __  __     <>__\n",
      "    / /_/ /__  __/ /\n",
      "   / __  / _ `/ / /\n",
      "  /_/ /_/\\_,_/_/_/   version 0.2.28-61941242c15d\n",
      "LOGGING: writing to /hail/hail-20191213-1908-0.2.28-61941242c15d.log\n"
     ]
    }
   ],
   "source": [
    "import hail as hl\n",
    "hl.init() "
   ]
  },
  {
   "cell_type": "code",
   "execution_count": 5,
   "metadata": {},
   "outputs": [
    {
     "data": {
      "text/html": [
       "\n",
       "    <div class=\"bk-root\">\n",
       "        <a href=\"https://bokeh.pydata.org\" target=\"_blank\" class=\"bk-logo bk-logo-small bk-logo-notebook\"></a>\n",
       "        <span id=\"1001\">Loading BokehJS ...</span>\n",
       "    </div>"
      ]
     },
     "metadata": {},
     "output_type": "display_data"
    },
    {
     "data": {
      "application/javascript": [
       "\n",
       "(function(root) {\n",
       "  function now() {\n",
       "    return new Date();\n",
       "  }\n",
       "\n",
       "  var force = true;\n",
       "\n",
       "  if (typeof root._bokeh_onload_callbacks === \"undefined\" || force === true) {\n",
       "    root._bokeh_onload_callbacks = [];\n",
       "    root._bokeh_is_loading = undefined;\n",
       "  }\n",
       "\n",
       "  var JS_MIME_TYPE = 'application/javascript';\n",
       "  var HTML_MIME_TYPE = 'text/html';\n",
       "  var EXEC_MIME_TYPE = 'application/vnd.bokehjs_exec.v0+json';\n",
       "  var CLASS_NAME = 'output_bokeh rendered_html';\n",
       "\n",
       "  /**\n",
       "   * Render data to the DOM node\n",
       "   */\n",
       "  function render(props, node) {\n",
       "    var script = document.createElement(\"script\");\n",
       "    node.appendChild(script);\n",
       "  }\n",
       "\n",
       "  /**\n",
       "   * Handle when an output is cleared or removed\n",
       "   */\n",
       "  function handleClearOutput(event, handle) {\n",
       "    var cell = handle.cell;\n",
       "\n",
       "    var id = cell.output_area._bokeh_element_id;\n",
       "    var server_id = cell.output_area._bokeh_server_id;\n",
       "    // Clean up Bokeh references\n",
       "    if (id != null && id in Bokeh.index) {\n",
       "      Bokeh.index[id].model.document.clear();\n",
       "      delete Bokeh.index[id];\n",
       "    }\n",
       "\n",
       "    if (server_id !== undefined) {\n",
       "      // Clean up Bokeh references\n",
       "      var cmd = \"from bokeh.io.state import curstate; print(curstate().uuid_to_server['\" + server_id + \"'].get_sessions()[0].document.roots[0]._id)\";\n",
       "      cell.notebook.kernel.execute(cmd, {\n",
       "        iopub: {\n",
       "          output: function(msg) {\n",
       "            var id = msg.content.text.trim();\n",
       "            if (id in Bokeh.index) {\n",
       "              Bokeh.index[id].model.document.clear();\n",
       "              delete Bokeh.index[id];\n",
       "            }\n",
       "          }\n",
       "        }\n",
       "      });\n",
       "      // Destroy server and session\n",
       "      var cmd = \"import bokeh.io.notebook as ion; ion.destroy_server('\" + server_id + \"')\";\n",
       "      cell.notebook.kernel.execute(cmd);\n",
       "    }\n",
       "  }\n",
       "\n",
       "  /**\n",
       "   * Handle when a new output is added\n",
       "   */\n",
       "  function handleAddOutput(event, handle) {\n",
       "    var output_area = handle.output_area;\n",
       "    var output = handle.output;\n",
       "\n",
       "    // limit handleAddOutput to display_data with EXEC_MIME_TYPE content only\n",
       "    if ((output.output_type != \"display_data\") || (!output.data.hasOwnProperty(EXEC_MIME_TYPE))) {\n",
       "      return\n",
       "    }\n",
       "\n",
       "    var toinsert = output_area.element.find(\".\" + CLASS_NAME.split(' ')[0]);\n",
       "\n",
       "    if (output.metadata[EXEC_MIME_TYPE][\"id\"] !== undefined) {\n",
       "      toinsert[toinsert.length - 1].firstChild.textContent = output.data[JS_MIME_TYPE];\n",
       "      // store reference to embed id on output_area\n",
       "      output_area._bokeh_element_id = output.metadata[EXEC_MIME_TYPE][\"id\"];\n",
       "    }\n",
       "    if (output.metadata[EXEC_MIME_TYPE][\"server_id\"] !== undefined) {\n",
       "      var bk_div = document.createElement(\"div\");\n",
       "      bk_div.innerHTML = output.data[HTML_MIME_TYPE];\n",
       "      var script_attrs = bk_div.children[0].attributes;\n",
       "      for (var i = 0; i < script_attrs.length; i++) {\n",
       "        toinsert[toinsert.length - 1].firstChild.setAttribute(script_attrs[i].name, script_attrs[i].value);\n",
       "      }\n",
       "      // store reference to server id on output_area\n",
       "      output_area._bokeh_server_id = output.metadata[EXEC_MIME_TYPE][\"server_id\"];\n",
       "    }\n",
       "  }\n",
       "\n",
       "  function register_renderer(events, OutputArea) {\n",
       "\n",
       "    function append_mime(data, metadata, element) {\n",
       "      // create a DOM node to render to\n",
       "      var toinsert = this.create_output_subarea(\n",
       "        metadata,\n",
       "        CLASS_NAME,\n",
       "        EXEC_MIME_TYPE\n",
       "      );\n",
       "      this.keyboard_manager.register_events(toinsert);\n",
       "      // Render to node\n",
       "      var props = {data: data, metadata: metadata[EXEC_MIME_TYPE]};\n",
       "      render(props, toinsert[toinsert.length - 1]);\n",
       "      element.append(toinsert);\n",
       "      return toinsert\n",
       "    }\n",
       "\n",
       "    /* Handle when an output is cleared or removed */\n",
       "    events.on('clear_output.CodeCell', handleClearOutput);\n",
       "    events.on('delete.Cell', handleClearOutput);\n",
       "\n",
       "    /* Handle when a new output is added */\n",
       "    events.on('output_added.OutputArea', handleAddOutput);\n",
       "\n",
       "    /**\n",
       "     * Register the mime type and append_mime function with output_area\n",
       "     */\n",
       "    OutputArea.prototype.register_mime_type(EXEC_MIME_TYPE, append_mime, {\n",
       "      /* Is output safe? */\n",
       "      safe: true,\n",
       "      /* Index of renderer in `output_area.display_order` */\n",
       "      index: 0\n",
       "    });\n",
       "  }\n",
       "\n",
       "  // register the mime type if in Jupyter Notebook environment and previously unregistered\n",
       "  if (root.Jupyter !== undefined) {\n",
       "    var events = require('base/js/events');\n",
       "    var OutputArea = require('notebook/js/outputarea').OutputArea;\n",
       "\n",
       "    if (OutputArea.prototype.mime_types().indexOf(EXEC_MIME_TYPE) == -1) {\n",
       "      register_renderer(events, OutputArea);\n",
       "    }\n",
       "  }\n",
       "\n",
       "  \n",
       "  if (typeof (root._bokeh_timeout) === \"undefined\" || force === true) {\n",
       "    root._bokeh_timeout = Date.now() + 5000;\n",
       "    root._bokeh_failed_load = false;\n",
       "  }\n",
       "\n",
       "  var NB_LOAD_WARNING = {'data': {'text/html':\n",
       "     \"<div style='background-color: #fdd'>\\n\"+\n",
       "     \"<p>\\n\"+\n",
       "     \"BokehJS does not appear to have successfully loaded. If loading BokehJS from CDN, this \\n\"+\n",
       "     \"may be due to a slow or bad network connection. Possible fixes:\\n\"+\n",
       "     \"</p>\\n\"+\n",
       "     \"<ul>\\n\"+\n",
       "     \"<li>re-rerun `output_notebook()` to attempt to load from CDN again, or</li>\\n\"+\n",
       "     \"<li>use INLINE resources instead, as so:</li>\\n\"+\n",
       "     \"</ul>\\n\"+\n",
       "     \"<code>\\n\"+\n",
       "     \"from bokeh.resources import INLINE\\n\"+\n",
       "     \"output_notebook(resources=INLINE)\\n\"+\n",
       "     \"</code>\\n\"+\n",
       "     \"</div>\"}};\n",
       "\n",
       "  function display_loaded() {\n",
       "    var el = document.getElementById(\"1001\");\n",
       "    if (el != null) {\n",
       "      el.textContent = \"BokehJS is loading...\";\n",
       "    }\n",
       "    if (root.Bokeh !== undefined) {\n",
       "      if (el != null) {\n",
       "        el.textContent = \"BokehJS \" + root.Bokeh.version + \" successfully loaded.\";\n",
       "      }\n",
       "    } else if (Date.now() < root._bokeh_timeout) {\n",
       "      setTimeout(display_loaded, 100)\n",
       "    }\n",
       "  }\n",
       "\n",
       "\n",
       "  function run_callbacks() {\n",
       "    try {\n",
       "      root._bokeh_onload_callbacks.forEach(function(callback) {\n",
       "        if (callback != null)\n",
       "          callback();\n",
       "      });\n",
       "    } finally {\n",
       "      delete root._bokeh_onload_callbacks\n",
       "    }\n",
       "    console.debug(\"Bokeh: all callbacks have finished\");\n",
       "  }\n",
       "\n",
       "  function load_libs(css_urls, js_urls, callback) {\n",
       "    if (css_urls == null) css_urls = [];\n",
       "    if (js_urls == null) js_urls = [];\n",
       "\n",
       "    root._bokeh_onload_callbacks.push(callback);\n",
       "    if (root._bokeh_is_loading > 0) {\n",
       "      console.debug(\"Bokeh: BokehJS is being loaded, scheduling callback at\", now());\n",
       "      return null;\n",
       "    }\n",
       "    if (js_urls == null || js_urls.length === 0) {\n",
       "      run_callbacks();\n",
       "      return null;\n",
       "    }\n",
       "    console.debug(\"Bokeh: BokehJS not loaded, scheduling load and callback at\", now());\n",
       "    root._bokeh_is_loading = css_urls.length + js_urls.length;\n",
       "\n",
       "    function on_load() {\n",
       "      root._bokeh_is_loading--;\n",
       "      if (root._bokeh_is_loading === 0) {\n",
       "        console.debug(\"Bokeh: all BokehJS libraries/stylesheets loaded\");\n",
       "        run_callbacks()\n",
       "      }\n",
       "    }\n",
       "\n",
       "    function on_error() {\n",
       "      console.error(\"failed to load \" + url);\n",
       "    }\n",
       "\n",
       "    for (var i = 0; i < css_urls.length; i++) {\n",
       "      var url = css_urls[i];\n",
       "      const element = document.createElement(\"link\");\n",
       "      element.onload = on_load;\n",
       "      element.onerror = on_error;\n",
       "      element.rel = \"stylesheet\";\n",
       "      element.type = \"text/css\";\n",
       "      element.href = url;\n",
       "      console.debug(\"Bokeh: injecting link tag for BokehJS stylesheet: \", url);\n",
       "      document.body.appendChild(element);\n",
       "    }\n",
       "\n",
       "    for (var i = 0; i < js_urls.length; i++) {\n",
       "      var url = js_urls[i];\n",
       "      var element = document.createElement('script');\n",
       "      element.onload = on_load;\n",
       "      element.onerror = on_error;\n",
       "      element.async = false;\n",
       "      element.src = url;\n",
       "      console.debug(\"Bokeh: injecting script tag for BokehJS library: \", url);\n",
       "      document.head.appendChild(element);\n",
       "    }\n",
       "  };var element = document.getElementById(\"1001\");\n",
       "  if (element == null) {\n",
       "    console.error(\"Bokeh: ERROR: autoload.js configured with elementid '1001' but no matching script tag was found. \")\n",
       "    return false;\n",
       "  }\n",
       "\n",
       "  function inject_raw_css(css) {\n",
       "    const element = document.createElement(\"style\");\n",
       "    element.appendChild(document.createTextNode(css));\n",
       "    document.body.appendChild(element);\n",
       "  }\n",
       "\n",
       "  var js_urls = [\"https://cdn.pydata.org/bokeh/release/bokeh-1.2.0.min.js\", \"https://cdn.pydata.org/bokeh/release/bokeh-widgets-1.2.0.min.js\", \"https://cdn.pydata.org/bokeh/release/bokeh-tables-1.2.0.min.js\", \"https://cdn.pydata.org/bokeh/release/bokeh-gl-1.2.0.min.js\"];\n",
       "  var css_urls = [\"https://cdn.pydata.org/bokeh/release/bokeh-1.2.0.min.css\", \"https://cdn.pydata.org/bokeh/release/bokeh-widgets-1.2.0.min.css\", \"https://cdn.pydata.org/bokeh/release/bokeh-tables-1.2.0.min.css\"];\n",
       "\n",
       "  var inline_js = [\n",
       "    function(Bokeh) {\n",
       "      Bokeh.set_log_level(\"info\");\n",
       "    },\n",
       "    \n",
       "    function(Bokeh) {\n",
       "      \n",
       "    },\n",
       "    function(Bokeh) {} // ensure no trailing comma for IE\n",
       "  ];\n",
       "\n",
       "  function run_inline_js() {\n",
       "    \n",
       "    if ((root.Bokeh !== undefined) || (force === true)) {\n",
       "      for (var i = 0; i < inline_js.length; i++) {\n",
       "        inline_js[i].call(root, root.Bokeh);\n",
       "      }if (force === true) {\n",
       "        display_loaded();\n",
       "      }} else if (Date.now() < root._bokeh_timeout) {\n",
       "      setTimeout(run_inline_js, 100);\n",
       "    } else if (!root._bokeh_failed_load) {\n",
       "      console.log(\"Bokeh: BokehJS failed to load within specified timeout.\");\n",
       "      root._bokeh_failed_load = true;\n",
       "    } else if (force !== true) {\n",
       "      var cell = $(document.getElementById(\"1001\")).parents('.cell').data().cell;\n",
       "      cell.output_area.append_execute_result(NB_LOAD_WARNING)\n",
       "    }\n",
       "\n",
       "  }\n",
       "\n",
       "  if (root._bokeh_is_loading === 0) {\n",
       "    console.debug(\"Bokeh: BokehJS loaded, going straight to plotting\");\n",
       "    run_inline_js();\n",
       "  } else {\n",
       "    load_libs(css_urls, js_urls, function() {\n",
       "      console.debug(\"Bokeh: BokehJS plotting callback run at\", now());\n",
       "      run_inline_js();\n",
       "    });\n",
       "  }\n",
       "}(window));"
      ],
      "application/vnd.bokehjs_load.v0+json": "\n(function(root) {\n  function now() {\n    return new Date();\n  }\n\n  var force = true;\n\n  if (typeof root._bokeh_onload_callbacks === \"undefined\" || force === true) {\n    root._bokeh_onload_callbacks = [];\n    root._bokeh_is_loading = undefined;\n  }\n\n  \n\n  \n  if (typeof (root._bokeh_timeout) === \"undefined\" || force === true) {\n    root._bokeh_timeout = Date.now() + 5000;\n    root._bokeh_failed_load = false;\n  }\n\n  var NB_LOAD_WARNING = {'data': {'text/html':\n     \"<div style='background-color: #fdd'>\\n\"+\n     \"<p>\\n\"+\n     \"BokehJS does not appear to have successfully loaded. If loading BokehJS from CDN, this \\n\"+\n     \"may be due to a slow or bad network connection. Possible fixes:\\n\"+\n     \"</p>\\n\"+\n     \"<ul>\\n\"+\n     \"<li>re-rerun `output_notebook()` to attempt to load from CDN again, or</li>\\n\"+\n     \"<li>use INLINE resources instead, as so:</li>\\n\"+\n     \"</ul>\\n\"+\n     \"<code>\\n\"+\n     \"from bokeh.resources import INLINE\\n\"+\n     \"output_notebook(resources=INLINE)\\n\"+\n     \"</code>\\n\"+\n     \"</div>\"}};\n\n  function display_loaded() {\n    var el = document.getElementById(\"1001\");\n    if (el != null) {\n      el.textContent = \"BokehJS is loading...\";\n    }\n    if (root.Bokeh !== undefined) {\n      if (el != null) {\n        el.textContent = \"BokehJS \" + root.Bokeh.version + \" successfully loaded.\";\n      }\n    } else if (Date.now() < root._bokeh_timeout) {\n      setTimeout(display_loaded, 100)\n    }\n  }\n\n\n  function run_callbacks() {\n    try {\n      root._bokeh_onload_callbacks.forEach(function(callback) {\n        if (callback != null)\n          callback();\n      });\n    } finally {\n      delete root._bokeh_onload_callbacks\n    }\n    console.debug(\"Bokeh: all callbacks have finished\");\n  }\n\n  function load_libs(css_urls, js_urls, callback) {\n    if (css_urls == null) css_urls = [];\n    if (js_urls == null) js_urls = [];\n\n    root._bokeh_onload_callbacks.push(callback);\n    if (root._bokeh_is_loading > 0) {\n      console.debug(\"Bokeh: BokehJS is being loaded, scheduling callback at\", now());\n      return null;\n    }\n    if (js_urls == null || js_urls.length === 0) {\n      run_callbacks();\n      return null;\n    }\n    console.debug(\"Bokeh: BokehJS not loaded, scheduling load and callback at\", now());\n    root._bokeh_is_loading = css_urls.length + js_urls.length;\n\n    function on_load() {\n      root._bokeh_is_loading--;\n      if (root._bokeh_is_loading === 0) {\n        console.debug(\"Bokeh: all BokehJS libraries/stylesheets loaded\");\n        run_callbacks()\n      }\n    }\n\n    function on_error() {\n      console.error(\"failed to load \" + url);\n    }\n\n    for (var i = 0; i < css_urls.length; i++) {\n      var url = css_urls[i];\n      const element = document.createElement(\"link\");\n      element.onload = on_load;\n      element.onerror = on_error;\n      element.rel = \"stylesheet\";\n      element.type = \"text/css\";\n      element.href = url;\n      console.debug(\"Bokeh: injecting link tag for BokehJS stylesheet: \", url);\n      document.body.appendChild(element);\n    }\n\n    for (var i = 0; i < js_urls.length; i++) {\n      var url = js_urls[i];\n      var element = document.createElement('script');\n      element.onload = on_load;\n      element.onerror = on_error;\n      element.async = false;\n      element.src = url;\n      console.debug(\"Bokeh: injecting script tag for BokehJS library: \", url);\n      document.head.appendChild(element);\n    }\n  };var element = document.getElementById(\"1001\");\n  if (element == null) {\n    console.error(\"Bokeh: ERROR: autoload.js configured with elementid '1001' but no matching script tag was found. \")\n    return false;\n  }\n\n  function inject_raw_css(css) {\n    const element = document.createElement(\"style\");\n    element.appendChild(document.createTextNode(css));\n    document.body.appendChild(element);\n  }\n\n  var js_urls = [\"https://cdn.pydata.org/bokeh/release/bokeh-1.2.0.min.js\", \"https://cdn.pydata.org/bokeh/release/bokeh-widgets-1.2.0.min.js\", \"https://cdn.pydata.org/bokeh/release/bokeh-tables-1.2.0.min.js\", \"https://cdn.pydata.org/bokeh/release/bokeh-gl-1.2.0.min.js\"];\n  var css_urls = [\"https://cdn.pydata.org/bokeh/release/bokeh-1.2.0.min.css\", \"https://cdn.pydata.org/bokeh/release/bokeh-widgets-1.2.0.min.css\", \"https://cdn.pydata.org/bokeh/release/bokeh-tables-1.2.0.min.css\"];\n\n  var inline_js = [\n    function(Bokeh) {\n      Bokeh.set_log_level(\"info\");\n    },\n    \n    function(Bokeh) {\n      \n    },\n    function(Bokeh) {} // ensure no trailing comma for IE\n  ];\n\n  function run_inline_js() {\n    \n    if ((root.Bokeh !== undefined) || (force === true)) {\n      for (var i = 0; i < inline_js.length; i++) {\n        inline_js[i].call(root, root.Bokeh);\n      }if (force === true) {\n        display_loaded();\n      }} else if (Date.now() < root._bokeh_timeout) {\n      setTimeout(run_inline_js, 100);\n    } else if (!root._bokeh_failed_load) {\n      console.log(\"Bokeh: BokehJS failed to load within specified timeout.\");\n      root._bokeh_failed_load = true;\n    } else if (force !== true) {\n      var cell = $(document.getElementById(\"1001\")).parents('.cell').data().cell;\n      cell.output_area.append_execute_result(NB_LOAD_WARNING)\n    }\n\n  }\n\n  if (root._bokeh_is_loading === 0) {\n    console.debug(\"Bokeh: BokehJS loaded, going straight to plotting\");\n    run_inline_js();\n  } else {\n    load_libs(css_urls, js_urls, function() {\n      console.debug(\"Bokeh: BokehJS plotting callback run at\", now());\n      run_inline_js();\n    });\n  }\n}(window));"
     },
     "metadata": {},
     "output_type": "display_data"
    }
   ],
   "source": [
    "from hail.plot import show\n",
    "from pprint import pprint\n",
    "from bokeh.layouts import gridplot\n",
    "hl.plot.output_notebook()\n",
    "\n",
    "import numpy as np\n",
    "import pandas as pd\n",
    "from functools import reduce\n",
    "from itertools import chain"
   ]
  },
  {
   "cell_type": "markdown",
   "metadata": {},
   "source": [
    "<section id='1'> </section>\n",
    "\n",
    "# 1. Import mt and filter it to only contain unrelated patients"
   ]
  },
  {
   "cell_type": "code",
   "execution_count": 6,
   "metadata": {},
   "outputs": [],
   "source": [
    "mt = hl.read_matrix_table('data/clean.mt')"
   ]
  },
  {
   "cell_type": "code",
   "execution_count": 92,
   "metadata": {},
   "outputs": [
    {
     "data": {
      "text/plain": [
       "(47373, 149)"
      ]
     },
     "execution_count": 92,
     "metadata": {},
     "output_type": "execute_result"
    }
   ],
   "source": [
    "mt.count()"
   ]
  },
  {
   "cell_type": "code",
   "execution_count": 152,
   "metadata": {},
   "outputs": [],
   "source": [
    "mtp = mt.filter_cols(mt.phenotypes.disease == 'YES')"
   ]
  },
  {
   "cell_type": "code",
   "execution_count": 153,
   "metadata": {},
   "outputs": [
    {
     "name": "stderr",
     "output_type": "stream",
     "text": [
      "2019-12-12 19:09:21 Hail: INFO: hwe_normalized_pca: running PCA using 37093 variants.\n",
      "2019-12-12 19:09:22 Hail: INFO: pca: running PCA with 2 components...\n",
      "2019-12-12 19:09:45 Hail: INFO: Wrote all 12 blocks of 47373 x 102 matrix with block size 4096.\n",
      "2019-12-12 19:09:46 Hail: INFO: wrote matrix with 102 rows and 102 columns as 1 block of size 4096 to file:/tmp/hail.aiJ5KIRBBjfZ/CKPeZnLaR9.bm\n",
      "2019-12-12 19:09:46 Hail: INFO: Ordering unsorted dataset with network shuffle\n",
      "2019-12-12 19:09:46 Hail: INFO: wrote table with 52 rows in 1 partition to file:/tmp/hail.aiJ5KIRBBjfZ/38AYA4fa8y\n"
     ]
    }
   ],
   "source": [
    "pc_rel = hl.pc_relate(mtp.GT, 0.001, k=2, statistics='kin')\n",
    "pairs = pc_rel.filter(pc_rel['kin'] > 0.08)\n",
    "related_samples_to_remove = hl.maximal_independent_set(pairs.i, pairs.j, keep=False)\n",
    "\n",
    "pairs = pairs.annotate(j_fam = mtp.cols()[pairs.j].phenotypes.family,\n",
    "                      i_fam = mtp.cols()[pairs.i].phenotypes.family)\n"
   ]
  },
  {
   "cell_type": "code",
   "execution_count": 177,
   "metadata": {},
   "outputs": [
    {
     "name": "stderr",
     "output_type": "stream",
     "text": [
      "2019-12-12 19:17:15 Hail: INFO: Ordering unsorted dataset with network shuffle\n"
     ]
    },
    {
     "data": {
      "text/plain": [
       "29"
      ]
     },
     "execution_count": 177,
     "metadata": {},
     "output_type": "execute_result"
    }
   ],
   "source": [
    "related_samples_to_remove.count()"
   ]
  },
  {
   "cell_type": "code",
   "execution_count": 154,
   "metadata": {},
   "outputs": [],
   "source": [
    "mtp = mtp.filter_cols(hl.is_defined(related_samples_to_remove[mtp.col_key]), keep=False)"
   ]
  },
  {
   "cell_type": "code",
   "execution_count": 155,
   "metadata": {},
   "outputs": [],
   "source": [
    "mtp = mtp.key_cols_by()"
   ]
  },
  {
   "cell_type": "code",
   "execution_count": 156,
   "metadata": {},
   "outputs": [],
   "source": [
    "mtp = mtp.key_cols_by(mtp.s)"
   ]
  },
  {
   "cell_type": "code",
   "execution_count": 113,
   "metadata": {},
   "outputs": [
    {
     "name": "stderr",
     "output_type": "stream",
     "text": [
      "2019-12-12 18:57:53 Hail: INFO: Coerced sorted dataset\n",
      "2019-12-12 18:57:53 Hail: INFO: Ordering unsorted dataset with network shuffle\n"
     ]
    },
    {
     "data": {
      "text/plain": [
       "(47373, 73)"
      ]
     },
     "execution_count": 113,
     "metadata": {},
     "output_type": "execute_result"
    }
   ],
   "source": [
    "mtp.count() # this matrix is ready to compare variant frequencies with gnomAD and other dbs"
   ]
  },
  {
   "cell_type": "markdown",
   "metadata": {},
   "source": [
    "<section id='2'> </section>\n",
    "\n",
    "# 2. Filter for a list of related genes and compare with Fisher exact with gnomAD (simple)"
   ]
  },
  {
   "cell_type": "code",
   "execution_count": 114,
   "metadata": {},
   "outputs": [],
   "source": [
    "import pickle \n",
    "# get the list many_genes from GTS_main_and_patient_oriented.ipynb\n",
    "    \n",
    "with open('./py_objects/many_genes', 'rb') as l:\n",
    "    many_genes = pickle.load(l)"
   ]
  },
  {
   "cell_type": "code",
   "execution_count": 157,
   "metadata": {},
   "outputs": [],
   "source": [
    "mtp = mtp.filter_rows(hl.any(lambda x: hl.literal(many_genes).contains(x), mtp.info.ISEQ_GENES_NAMES))\n",
    "mtp = hl.variant_qc(mtp)"
   ]
  },
  {
   "cell_type": "code",
   "execution_count": 158,
   "metadata": {},
   "outputs": [],
   "source": [
    "v3_AN = mtp.info.ISEQ_GNOMAD_GENOMES_V3_AN\n",
    "v3_AC = mtp.info.ISEQ_GNOMAD_GENOMES_V3_AC[0]\n",
    "\n",
    "p_AN = mtp.variant_qc.AN\n",
    "p_AC = mtp.variant_qc.AC[1]"
   ]
  },
  {
   "cell_type": "code",
   "execution_count": 159,
   "metadata": {},
   "outputs": [],
   "source": [
    "mtp = mtp.annotate_rows(fish_exact = hl.fisher_exact_test(p_AC, p_AN, v3_AC, v3_AN))"
   ]
  },
  {
   "cell_type": "code",
   "execution_count": 103,
   "metadata": {},
   "outputs": [
    {
     "name": "stderr",
     "output_type": "stream",
     "text": [
      "2019-12-12 18:56:35 Hail: INFO: Coerced sorted dataset\n",
      "2019-12-12 18:56:35 Hail: INFO: Ordering unsorted dataset with network shuffle\n"
     ]
    },
    {
     "data": {
      "text/plain": [
       "(6951, 73)"
      ]
     },
     "execution_count": 103,
     "metadata": {},
     "output_type": "execute_result"
    }
   ],
   "source": [
    "mtp.count()"
   ]
  },
  {
   "cell_type": "code",
   "execution_count": 160,
   "metadata": {},
   "outputs": [],
   "source": [
    "p = 1e-8 "
   ]
  },
  {
   "cell_type": "code",
   "execution_count": 161,
   "metadata": {},
   "outputs": [],
   "source": [
    "mtp = mtp.filter_rows(mtp.fish_exact.p_value < p)"
   ]
  },
  {
   "cell_type": "code",
   "execution_count": 162,
   "metadata": {},
   "outputs": [],
   "source": [
    "mtp = mtp.filter_rows(mtp.info.ISEQ_HIGHEST_IMPACT.contains('HIGH'))"
   ]
  },
  {
   "cell_type": "code",
   "execution_count": 163,
   "metadata": {},
   "outputs": [],
   "source": [
    "mtp = mtp.select_cols(mtp.phenotypes.family, mtp.phenotypes.disease, mtp.phenotypes.sex, mtp.phenotypes.kinship, mtp.phenotypes.add_pheno,\n",
    "                        mtp.phenotypes.heavy_tics)"
   ]
  },
  {
   "cell_type": "code",
   "execution_count": 164,
   "metadata": {},
   "outputs": [],
   "source": [
    "mtp = mtp.select_entries(mtp.GT, mtp.GQ)"
   ]
  },
  {
   "cell_type": "code",
   "execution_count": 166,
   "metadata": {},
   "outputs": [],
   "source": [
    "mtp = mtp.annotate_rows(AN_GTS =  mtp.variant_qc.AN, AC_GTS = mtp.variant_qc.AC)"
   ]
  },
  {
   "cell_type": "code",
   "execution_count": 168,
   "metadata": {},
   "outputs": [],
   "source": [
    "mtp = mtp.select_rows(mtp.fish_exact.p_value, mtp.info.AC, mtp.info.AN, mtp.AN_GTS, mtp.AC_GTS,\n",
    "                      mtp.rsid, mtp.info.ISEQ_GNOMAD_GENOMES_V3_AF_nfe, mtp.info.ISEQ_GENES_NAMES, \n",
    "                      mtp.info.ISEQ_CLINVAR_ALLELE_ID, mtp.info.ISEQ_CLINVAR_DISEASES, mtp.info.ISEQ_HPO_INHERITANCE, \n",
    "                      mtp.info.ISEQ_HPO_PHENOTYPES, mtp.info.ISEQ_HPO_DISEASES, \n",
    "                      mtp.info.ISEQ_AGGREGATED_CLINVAR_SIGNIFICANCE, mtp.info.ANN)"
   ]
  },
  {
   "cell_type": "code",
   "execution_count": 169,
   "metadata": {},
   "outputs": [],
   "source": [
    "mtp = mtp.filter_cols(hl.agg.any(mtp.GT.is_non_ref()))"
   ]
  },
  {
   "cell_type": "code",
   "execution_count": 170,
   "metadata": {},
   "outputs": [
    {
     "name": "stderr",
     "output_type": "stream",
     "text": [
      "2019-12-12 19:12:39 Hail: INFO: Coerced sorted dataset\n",
      "2019-12-12 19:12:39 Hail: INFO: Ordering unsorted dataset with network shuffle\n",
      "2019-12-12 19:12:45 Hail: INFO: Coerced sorted dataset\n",
      "2019-12-12 19:12:45 Hail: INFO: Ordering unsorted dataset with network shuffle\n"
     ]
    }
   ],
   "source": [
    "tb = mtp.make_table()"
   ]
  },
  {
   "cell_type": "code",
   "execution_count": 171,
   "metadata": {},
   "outputs": [
    {
     "name": "stderr",
     "output_type": "stream",
     "text": [
      "2019-12-12 19:12:49 Hail: INFO: Coerced sorted dataset\n",
      "2019-12-12 19:12:49 Hail: INFO: Ordering unsorted dataset with network shuffle\n",
      "2019-12-12 19:12:55 Hail: INFO: Coerced sorted dataset\n",
      "2019-12-12 19:12:55 Hail: INFO: Ordering unsorted dataset with network shuffle\n"
     ]
    }
   ],
   "source": [
    "df = tb.to_pandas()"
   ]
  },
  {
   "cell_type": "code",
   "execution_count": 190,
   "metadata": {},
   "outputs": [],
   "source": [
    "mtc = mt.filter_cols(mt.phenotypes.disease == 'NO')"
   ]
  },
  {
   "cell_type": "code",
   "execution_count": 191,
   "metadata": {},
   "outputs": [],
   "source": [
    "mtc = mtc.semi_join_rows(mtp.rows())"
   ]
  },
  {
   "cell_type": "code",
   "execution_count": 192,
   "metadata": {},
   "outputs": [],
   "source": [
    "mtc = hl.variant_qc(mtc)"
   ]
  },
  {
   "cell_type": "code",
   "execution_count": 193,
   "metadata": {},
   "outputs": [],
   "source": [
    "mtc = mtc.select_rows(mtc.variant_qc.AC)"
   ]
  },
  {
   "cell_type": "code",
   "execution_count": 194,
   "metadata": {},
   "outputs": [],
   "source": [
    "mtc = mtc.make_table()"
   ]
  },
  {
   "cell_type": "code",
   "execution_count": 195,
   "metadata": {},
   "outputs": [
    {
     "name": "stderr",
     "output_type": "stream",
     "text": [
      "2019-12-12 19:31:55 Hail: INFO: Coerced sorted dataset\n",
      "2019-12-12 19:31:55 Hail: INFO: Ordering unsorted dataset with network shuffle\n"
     ]
    }
   ],
   "source": [
    "tb2 = mtc.to_pandas()"
   ]
  },
  {
   "cell_type": "code",
   "execution_count": 196,
   "metadata": {},
   "outputs": [],
   "source": [
    "tb2 = tb2['AC']"
   ]
  },
  {
   "cell_type": "code",
   "execution_count": 211,
   "metadata": {},
   "outputs": [
    {
     "data": {
      "text/html": [
       "<div>\n",
       "<style scoped>\n",
       "    .dataframe tbody tr th:only-of-type {\n",
       "        vertical-align: middle;\n",
       "    }\n",
       "\n",
       "    .dataframe tbody tr th {\n",
       "        vertical-align: top;\n",
       "    }\n",
       "\n",
       "    .dataframe thead th {\n",
       "        text-align: right;\n",
       "    }\n",
       "</style>\n",
       "<table border=\"1\" class=\"dataframe\">\n",
       "  <thead>\n",
       "    <tr style=\"text-align: right;\">\n",
       "      <th></th>\n",
       "      <th>locus.contig</th>\n",
       "      <th>locus.position</th>\n",
       "      <th>alleles</th>\n",
       "      <th>p_value</th>\n",
       "      <th>AC</th>\n",
       "      <th>AN</th>\n",
       "      <th>AN_GTS</th>\n",
       "      <th>AC_GTS</th>\n",
       "      <th>rsid</th>\n",
       "      <th>ISEQ_GNOMAD_GENOMES_V3_AF_nfe</th>\n",
       "      <th>ISEQ_GENES_NAMES</th>\n",
       "      <th>ISEQ_CLINVAR_ALLELE_ID</th>\n",
       "      <th>ISEQ_CLINVAR_DISEASES</th>\n",
       "      <th>ISEQ_HPO_INHERITANCE</th>\n",
       "      <th>ISEQ_HPO_PHENOTYPES</th>\n",
       "      <th>ISEQ_HPO_DISEASES</th>\n",
       "      <th>ISEQ_AGGREGATED_CLINVAR_SIGNIFICANCE</th>\n",
       "      <th>ANN</th>\n",
       "    </tr>\n",
       "  </thead>\n",
       "  <tbody>\n",
       "    <tr>\n",
       "      <th>0</th>\n",
       "      <td>chr1</td>\n",
       "      <td>45515758</td>\n",
       "      <td>[G, A]</td>\n",
       "      <td>4.398181e-09</td>\n",
       "      <td>[3]</td>\n",
       "      <td>302</td>\n",
       "      <td>146</td>\n",
       "      <td>[143, 3]</td>\n",
       "      <td>rs112565051</td>\n",
       "      <td>[0.0]</td>\n",
       "      <td>[PRDX1]</td>\n",
       "      <td>None</td>\n",
       "      <td>[Disorder_of_organic_acid_metabolism^Disorders...</td>\n",
       "      <td>[Autosomal_recessive_inheritance]</td>\n",
       "      <td>[Abnormality_of_extrapyramidal_motor_function^...</td>\n",
       "      <td>[mahcc^methylmalonic_aciduria_and_homocystinur...</td>\n",
       "      <td>None</td>\n",
       "      <td>[A|protein_protein_contact|HIGH|PRDX1|ENSG0000...</td>\n",
       "    </tr>\n",
       "    <tr>\n",
       "      <th>1</th>\n",
       "      <td>chr1</td>\n",
       "      <td>153886522</td>\n",
       "      <td>[CT, C]</td>\n",
       "      <td>2.058061e-14</td>\n",
       "      <td>[35]</td>\n",
       "      <td>302</td>\n",
       "      <td>146</td>\n",
       "      <td>[131, 15]</td>\n",
       "      <td>None</td>\n",
       "      <td>[0.00585229]</td>\n",
       "      <td>[GATAD2B]</td>\n",
       "      <td>None</td>\n",
       "      <td>[Mental_retardation_autosomal_dominant_18]</td>\n",
       "      <td>[Autosomal_dominant_inheritance]</td>\n",
       "      <td>[Abnormality_of_the_cerebral_white_matter^Abse...</td>\n",
       "      <td>[mental_retardation_autosomal_dominant_18^mrd1...</td>\n",
       "      <td>None</td>\n",
       "      <td>[C|splice_acceptor_variant&amp;intron_variant|HIGH...</td>\n",
       "    </tr>\n",
       "    <tr>\n",
       "      <th>2</th>\n",
       "      <td>chr7</td>\n",
       "      <td>107563982</td>\n",
       "      <td>[CAG, C]</td>\n",
       "      <td>2.437060e-12</td>\n",
       "      <td>[8]</td>\n",
       "      <td>302</td>\n",
       "      <td>146</td>\n",
       "      <td>[141, 5]</td>\n",
       "      <td>None</td>\n",
       "      <td>[9.3301e-05]</td>\n",
       "      <td>[COG5]</td>\n",
       "      <td>None</td>\n",
       "      <td>[Congenital_disorder_of_glycosylation^Congenit...</td>\n",
       "      <td>[Autosomal_recessive_inheritance]</td>\n",
       "      <td>[Atrophy/Degeneration_affecting_the_brainstem^...</td>\n",
       "      <td>[#613612_congenital_disorder_of_glycosylation_...</td>\n",
       "      <td>None</td>\n",
       "      <td>[C|frameshift_variant|HIGH|COG5|ENSG0000016459...</td>\n",
       "    </tr>\n",
       "    <tr>\n",
       "      <th>3</th>\n",
       "      <td>chr8</td>\n",
       "      <td>116874117</td>\n",
       "      <td>[A, C]</td>\n",
       "      <td>2.277255e-15</td>\n",
       "      <td>[20]</td>\n",
       "      <td>300</td>\n",
       "      <td>144</td>\n",
       "      <td>[138, 6]</td>\n",
       "      <td>None</td>\n",
       "      <td>[0.0]</td>\n",
       "      <td>[RAD21]</td>\n",
       "      <td>None</td>\n",
       "      <td>[Cornelia_de_Lange_syndrome_4^De_Lange_syndrom...</td>\n",
       "      <td>[Autosomal_dominant_inheritance^Autosomal_rece...</td>\n",
       "      <td>[Abnormality_of_the_autonomic_nervous_system^A...</td>\n",
       "      <td>[#614701_cornelia_de_lange_syndrome_4^cdls4^co...</td>\n",
       "      <td>None</td>\n",
       "      <td>[C|splice_donor_variant&amp;intron_variant|HIGH|RA...</td>\n",
       "    </tr>\n",
       "    <tr>\n",
       "      <th>4</th>\n",
       "      <td>chr11</td>\n",
       "      <td>74129643</td>\n",
       "      <td>[CAG, C]</td>\n",
       "      <td>5.725268e-09</td>\n",
       "      <td>[12]</td>\n",
       "      <td>302</td>\n",
       "      <td>146</td>\n",
       "      <td>[141, 5]</td>\n",
       "      <td>None</td>\n",
       "      <td>[0.000232883]</td>\n",
       "      <td>[C2CD3]</td>\n",
       "      <td>None</td>\n",
       "      <td>[Orofaciodigital_syndrome_xiv]</td>\n",
       "      <td>[Autosomal_recessive_inheritance]</td>\n",
       "      <td>[Abnormal_facial_shape^Absent_speech^Aplasia_o...</td>\n",
       "      <td>[ofd14^orofaciodigital_syndrome_xiv]</td>\n",
       "      <td>None</td>\n",
       "      <td>[C|frameshift_variant|HIGH|C2CD3|ENSG000001680...</td>\n",
       "    </tr>\n",
       "    <tr>\n",
       "      <th>5</th>\n",
       "      <td>chr16</td>\n",
       "      <td>54933218</td>\n",
       "      <td>[GC, G]</td>\n",
       "      <td>4.559169e-09</td>\n",
       "      <td>[5]</td>\n",
       "      <td>302</td>\n",
       "      <td>146</td>\n",
       "      <td>[143, 3]</td>\n",
       "      <td>None</td>\n",
       "      <td>[0.0]</td>\n",
       "      <td>[IRX5]</td>\n",
       "      <td>None</td>\n",
       "      <td>[Hamamy_syndrome]</td>\n",
       "      <td>[Autosomal_recessive_inheritance]</td>\n",
       "      <td>[Anteverted_nares^Atrial_septal_defect^Brachyc...</td>\n",
       "      <td>[hamamy_syndrome^hmms]</td>\n",
       "      <td>None</td>\n",
       "      <td>[G|frameshift_variant|HIGH|IRX5|ENSG0000017684...</td>\n",
       "    </tr>\n",
       "    <tr>\n",
       "      <th>6</th>\n",
       "      <td>chr19</td>\n",
       "      <td>1393296</td>\n",
       "      <td>[C, T]</td>\n",
       "      <td>4.058140e-09</td>\n",
       "      <td>[14]</td>\n",
       "      <td>302</td>\n",
       "      <td>146</td>\n",
       "      <td>[141, 5]</td>\n",
       "      <td>None</td>\n",
       "      <td>[0.000543006]</td>\n",
       "      <td>[NDUFS7]</td>\n",
       "      <td>None</td>\n",
       "      <td>[MITOCHONDRIAL_COMPLEX_I_DEFICIENCY_NUCLEAR_TY...</td>\n",
       "      <td>[Autosomal_recessive_inheritance]</td>\n",
       "      <td>[Abnormal_mitochondria_in_muscle_tissue^Abnorm...</td>\n",
       "      <td>[isolated_complex_i_deficiency^leigh_syndrome_...</td>\n",
       "      <td>None</td>\n",
       "      <td>[T|stop_gained|HIGH|NDUFS7|ENSG00000115286|tra...</td>\n",
       "    </tr>\n",
       "  </tbody>\n",
       "</table>\n",
       "</div>"
      ],
      "text/plain": [
       "  locus.contig  locus.position   alleles       p_value    AC   AN  AN_GTS  \\\n",
       "0         chr1        45515758    [G, A]  4.398181e-09   [3]  302     146   \n",
       "1         chr1       153886522   [CT, C]  2.058061e-14  [35]  302     146   \n",
       "2         chr7       107563982  [CAG, C]  2.437060e-12   [8]  302     146   \n",
       "3         chr8       116874117    [A, C]  2.277255e-15  [20]  300     144   \n",
       "4        chr11        74129643  [CAG, C]  5.725268e-09  [12]  302     146   \n",
       "5        chr16        54933218   [GC, G]  4.559169e-09   [5]  302     146   \n",
       "6        chr19         1393296    [C, T]  4.058140e-09  [14]  302     146   \n",
       "\n",
       "      AC_GTS         rsid ISEQ_GNOMAD_GENOMES_V3_AF_nfe ISEQ_GENES_NAMES  \\\n",
       "0   [143, 3]  rs112565051                         [0.0]          [PRDX1]   \n",
       "1  [131, 15]         None                  [0.00585229]        [GATAD2B]   \n",
       "2   [141, 5]         None                  [9.3301e-05]           [COG5]   \n",
       "3   [138, 6]         None                         [0.0]          [RAD21]   \n",
       "4   [141, 5]         None                 [0.000232883]          [C2CD3]   \n",
       "5   [143, 3]         None                         [0.0]           [IRX5]   \n",
       "6   [141, 5]         None                 [0.000543006]         [NDUFS7]   \n",
       "\n",
       "  ISEQ_CLINVAR_ALLELE_ID                              ISEQ_CLINVAR_DISEASES  \\\n",
       "0                   None  [Disorder_of_organic_acid_metabolism^Disorders...   \n",
       "1                   None         [Mental_retardation_autosomal_dominant_18]   \n",
       "2                   None  [Congenital_disorder_of_glycosylation^Congenit...   \n",
       "3                   None  [Cornelia_de_Lange_syndrome_4^De_Lange_syndrom...   \n",
       "4                   None                     [Orofaciodigital_syndrome_xiv]   \n",
       "5                   None                                  [Hamamy_syndrome]   \n",
       "6                   None  [MITOCHONDRIAL_COMPLEX_I_DEFICIENCY_NUCLEAR_TY...   \n",
       "\n",
       "                                ISEQ_HPO_INHERITANCE  \\\n",
       "0                  [Autosomal_recessive_inheritance]   \n",
       "1                   [Autosomal_dominant_inheritance]   \n",
       "2                  [Autosomal_recessive_inheritance]   \n",
       "3  [Autosomal_dominant_inheritance^Autosomal_rece...   \n",
       "4                  [Autosomal_recessive_inheritance]   \n",
       "5                  [Autosomal_recessive_inheritance]   \n",
       "6                  [Autosomal_recessive_inheritance]   \n",
       "\n",
       "                                 ISEQ_HPO_PHENOTYPES  \\\n",
       "0  [Abnormality_of_extrapyramidal_motor_function^...   \n",
       "1  [Abnormality_of_the_cerebral_white_matter^Abse...   \n",
       "2  [Atrophy/Degeneration_affecting_the_brainstem^...   \n",
       "3  [Abnormality_of_the_autonomic_nervous_system^A...   \n",
       "4  [Abnormal_facial_shape^Absent_speech^Aplasia_o...   \n",
       "5  [Anteverted_nares^Atrial_septal_defect^Brachyc...   \n",
       "6  [Abnormal_mitochondria_in_muscle_tissue^Abnorm...   \n",
       "\n",
       "                                   ISEQ_HPO_DISEASES  \\\n",
       "0  [mahcc^methylmalonic_aciduria_and_homocystinur...   \n",
       "1  [mental_retardation_autosomal_dominant_18^mrd1...   \n",
       "2  [#613612_congenital_disorder_of_glycosylation_...   \n",
       "3  [#614701_cornelia_de_lange_syndrome_4^cdls4^co...   \n",
       "4               [ofd14^orofaciodigital_syndrome_xiv]   \n",
       "5                             [hamamy_syndrome^hmms]   \n",
       "6  [isolated_complex_i_deficiency^leigh_syndrome_...   \n",
       "\n",
       "  ISEQ_AGGREGATED_CLINVAR_SIGNIFICANCE  \\\n",
       "0                                 None   \n",
       "1                                 None   \n",
       "2                                 None   \n",
       "3                                 None   \n",
       "4                                 None   \n",
       "5                                 None   \n",
       "6                                 None   \n",
       "\n",
       "                                                 ANN  \n",
       "0  [A|protein_protein_contact|HIGH|PRDX1|ENSG0000...  \n",
       "1  [C|splice_acceptor_variant&intron_variant|HIGH...  \n",
       "2  [C|frameshift_variant|HIGH|COG5|ENSG0000016459...  \n",
       "3  [C|splice_donor_variant&intron_variant|HIGH|RA...  \n",
       "4  [C|frameshift_variant|HIGH|C2CD3|ENSG000001680...  \n",
       "5  [G|frameshift_variant|HIGH|IRX5|ENSG0000017684...  \n",
       "6  [T|stop_gained|HIGH|NDUFS7|ENSG00000115286|tra...  "
      ]
     },
     "execution_count": 211,
     "metadata": {},
     "output_type": "execute_result"
    }
   ],
   "source": [
    "df.iloc[:,0:18]"
   ]
  },
  {
   "cell_type": "code",
   "execution_count": 214,
   "metadata": {},
   "outputs": [],
   "source": [
    "df2 = pd.concat([df.iloc[:,0:3],tb2,df.iloc[:,4:18]], axis=1)"
   ]
  },
  {
   "cell_type": "code",
   "execution_count": 217,
   "metadata": {},
   "outputs": [],
   "source": [
    "df2.columns = ['locus.contig', 'locus.position', 'alleles', 'counts_alts_controls', 'alts_all', 'counts_all', 'out',\n",
    "       'counts_alts_gts_not_related', 'rsid', 'ISEQ_GNOMAD_GENOMES_V3_AF_nfe', 'ISEQ_GENES_NAMES',\n",
    "       'ISEQ_CLINVAR_ALLELE_ID', 'ISEQ_CLINVAR_DISEASES',\n",
    "       'ISEQ_HPO_INHERITANCE', 'ISEQ_HPO_PHENOTYPES', 'ISEQ_HPO_DISEASES',\n",
    "       'ISEQ_AGGREGATED_CLINVAR_SIGNIFICANCE', 'ANN']"
   ]
  },
  {
   "cell_type": "code",
   "execution_count": 223,
   "metadata": {},
   "outputs": [],
   "source": [
    "df2 = df2.drop(['out'], axis = 1)"
   ]
  },
  {
   "cell_type": "code",
   "execution_count": 225,
   "metadata": {},
   "outputs": [
    {
     "data": {
      "text/html": [
       "<div>\n",
       "<style scoped>\n",
       "    .dataframe tbody tr th:only-of-type {\n",
       "        vertical-align: middle;\n",
       "    }\n",
       "\n",
       "    .dataframe tbody tr th {\n",
       "        vertical-align: top;\n",
       "    }\n",
       "\n",
       "    .dataframe thead th {\n",
       "        text-align: right;\n",
       "    }\n",
       "</style>\n",
       "<table border=\"1\" class=\"dataframe\">\n",
       "  <thead>\n",
       "    <tr style=\"text-align: right;\">\n",
       "      <th></th>\n",
       "      <th>locus.contig</th>\n",
       "      <th>locus.position</th>\n",
       "      <th>alleles</th>\n",
       "      <th>counts_alts_controls</th>\n",
       "      <th>alts_all</th>\n",
       "      <th>counts_all</th>\n",
       "      <th>counts_alts_gts_not_related</th>\n",
       "      <th>rsid</th>\n",
       "      <th>ISEQ_GNOMAD_GENOMES_V3_AF_nfe</th>\n",
       "      <th>ISEQ_GENES_NAMES</th>\n",
       "      <th>ISEQ_CLINVAR_ALLELE_ID</th>\n",
       "      <th>ISEQ_CLINVAR_DISEASES</th>\n",
       "      <th>ISEQ_HPO_INHERITANCE</th>\n",
       "      <th>ISEQ_HPO_PHENOTYPES</th>\n",
       "      <th>ISEQ_HPO_DISEASES</th>\n",
       "      <th>ISEQ_AGGREGATED_CLINVAR_SIGNIFICANCE</th>\n",
       "      <th>ANN</th>\n",
       "    </tr>\n",
       "  </thead>\n",
       "  <tbody>\n",
       "    <tr>\n",
       "      <th>0</th>\n",
       "      <td>chr1</td>\n",
       "      <td>45515758</td>\n",
       "      <td>[G, A]</td>\n",
       "      <td>[86, 0]</td>\n",
       "      <td>[3]</td>\n",
       "      <td>302</td>\n",
       "      <td>[143, 3]</td>\n",
       "      <td>rs112565051</td>\n",
       "      <td>[0.0]</td>\n",
       "      <td>[PRDX1]</td>\n",
       "      <td>None</td>\n",
       "      <td>[Disorder_of_organic_acid_metabolism^Disorders...</td>\n",
       "      <td>[Autosomal_recessive_inheritance]</td>\n",
       "      <td>[Abnormality_of_extrapyramidal_motor_function^...</td>\n",
       "      <td>[mahcc^methylmalonic_aciduria_and_homocystinur...</td>\n",
       "      <td>None</td>\n",
       "      <td>[A|protein_protein_contact|HIGH|PRDX1|ENSG0000...</td>\n",
       "    </tr>\n",
       "    <tr>\n",
       "      <th>1</th>\n",
       "      <td>chr1</td>\n",
       "      <td>153886522</td>\n",
       "      <td>[CT, C]</td>\n",
       "      <td>[73, 13]</td>\n",
       "      <td>[35]</td>\n",
       "      <td>302</td>\n",
       "      <td>[131, 15]</td>\n",
       "      <td>None</td>\n",
       "      <td>[0.00585229]</td>\n",
       "      <td>[GATAD2B]</td>\n",
       "      <td>None</td>\n",
       "      <td>[Mental_retardation_autosomal_dominant_18]</td>\n",
       "      <td>[Autosomal_dominant_inheritance]</td>\n",
       "      <td>[Abnormality_of_the_cerebral_white_matter^Abse...</td>\n",
       "      <td>[mental_retardation_autosomal_dominant_18^mrd1...</td>\n",
       "      <td>None</td>\n",
       "      <td>[C|splice_acceptor_variant&amp;intron_variant|HIGH...</td>\n",
       "    </tr>\n",
       "    <tr>\n",
       "      <th>2</th>\n",
       "      <td>chr7</td>\n",
       "      <td>107563982</td>\n",
       "      <td>[CAG, C]</td>\n",
       "      <td>[85, 1]</td>\n",
       "      <td>[8]</td>\n",
       "      <td>302</td>\n",
       "      <td>[141, 5]</td>\n",
       "      <td>None</td>\n",
       "      <td>[9.3301e-05]</td>\n",
       "      <td>[COG5]</td>\n",
       "      <td>None</td>\n",
       "      <td>[Congenital_disorder_of_glycosylation^Congenit...</td>\n",
       "      <td>[Autosomal_recessive_inheritance]</td>\n",
       "      <td>[Atrophy/Degeneration_affecting_the_brainstem^...</td>\n",
       "      <td>[#613612_congenital_disorder_of_glycosylation_...</td>\n",
       "      <td>None</td>\n",
       "      <td>[C|frameshift_variant|HIGH|COG5|ENSG0000016459...</td>\n",
       "    </tr>\n",
       "    <tr>\n",
       "      <th>3</th>\n",
       "      <td>chr8</td>\n",
       "      <td>116874117</td>\n",
       "      <td>[A, C]</td>\n",
       "      <td>[78, 8]</td>\n",
       "      <td>[20]</td>\n",
       "      <td>300</td>\n",
       "      <td>[138, 6]</td>\n",
       "      <td>None</td>\n",
       "      <td>[0.0]</td>\n",
       "      <td>[RAD21]</td>\n",
       "      <td>None</td>\n",
       "      <td>[Cornelia_de_Lange_syndrome_4^De_Lange_syndrom...</td>\n",
       "      <td>[Autosomal_dominant_inheritance^Autosomal_rece...</td>\n",
       "      <td>[Abnormality_of_the_autonomic_nervous_system^A...</td>\n",
       "      <td>[#614701_cornelia_de_lange_syndrome_4^cdls4^co...</td>\n",
       "      <td>None</td>\n",
       "      <td>[C|splice_donor_variant&amp;intron_variant|HIGH|RA...</td>\n",
       "    </tr>\n",
       "    <tr>\n",
       "      <th>4</th>\n",
       "      <td>chr11</td>\n",
       "      <td>74129643</td>\n",
       "      <td>[CAG, C]</td>\n",
       "      <td>[82, 4]</td>\n",
       "      <td>[12]</td>\n",
       "      <td>302</td>\n",
       "      <td>[141, 5]</td>\n",
       "      <td>None</td>\n",
       "      <td>[0.000232883]</td>\n",
       "      <td>[C2CD3]</td>\n",
       "      <td>None</td>\n",
       "      <td>[Orofaciodigital_syndrome_xiv]</td>\n",
       "      <td>[Autosomal_recessive_inheritance]</td>\n",
       "      <td>[Abnormal_facial_shape^Absent_speech^Aplasia_o...</td>\n",
       "      <td>[ofd14^orofaciodigital_syndrome_xiv]</td>\n",
       "      <td>None</td>\n",
       "      <td>[C|frameshift_variant|HIGH|C2CD3|ENSG000001680...</td>\n",
       "    </tr>\n",
       "    <tr>\n",
       "      <th>5</th>\n",
       "      <td>chr16</td>\n",
       "      <td>54933218</td>\n",
       "      <td>[GC, G]</td>\n",
       "      <td>[85, 1]</td>\n",
       "      <td>[5]</td>\n",
       "      <td>302</td>\n",
       "      <td>[143, 3]</td>\n",
       "      <td>None</td>\n",
       "      <td>[0.0]</td>\n",
       "      <td>[IRX5]</td>\n",
       "      <td>None</td>\n",
       "      <td>[Hamamy_syndrome]</td>\n",
       "      <td>[Autosomal_recessive_inheritance]</td>\n",
       "      <td>[Anteverted_nares^Atrial_septal_defect^Brachyc...</td>\n",
       "      <td>[hamamy_syndrome^hmms]</td>\n",
       "      <td>None</td>\n",
       "      <td>[G|frameshift_variant|HIGH|IRX5|ENSG0000017684...</td>\n",
       "    </tr>\n",
       "    <tr>\n",
       "      <th>6</th>\n",
       "      <td>chr19</td>\n",
       "      <td>1393296</td>\n",
       "      <td>[C, T]</td>\n",
       "      <td>[82, 4]</td>\n",
       "      <td>[14]</td>\n",
       "      <td>302</td>\n",
       "      <td>[141, 5]</td>\n",
       "      <td>None</td>\n",
       "      <td>[0.000543006]</td>\n",
       "      <td>[NDUFS7]</td>\n",
       "      <td>None</td>\n",
       "      <td>[MITOCHONDRIAL_COMPLEX_I_DEFICIENCY_NUCLEAR_TY...</td>\n",
       "      <td>[Autosomal_recessive_inheritance]</td>\n",
       "      <td>[Abnormal_mitochondria_in_muscle_tissue^Abnorm...</td>\n",
       "      <td>[isolated_complex_i_deficiency^leigh_syndrome_...</td>\n",
       "      <td>None</td>\n",
       "      <td>[T|stop_gained|HIGH|NDUFS7|ENSG00000115286|tra...</td>\n",
       "    </tr>\n",
       "  </tbody>\n",
       "</table>\n",
       "</div>"
      ],
      "text/plain": [
       "  locus.contig  locus.position   alleles counts_alts_controls alts_all  \\\n",
       "0         chr1        45515758    [G, A]              [86, 0]      [3]   \n",
       "1         chr1       153886522   [CT, C]             [73, 13]     [35]   \n",
       "2         chr7       107563982  [CAG, C]              [85, 1]      [8]   \n",
       "3         chr8       116874117    [A, C]              [78, 8]     [20]   \n",
       "4        chr11        74129643  [CAG, C]              [82, 4]     [12]   \n",
       "5        chr16        54933218   [GC, G]              [85, 1]      [5]   \n",
       "6        chr19         1393296    [C, T]              [82, 4]     [14]   \n",
       "\n",
       "   counts_all counts_alts_gts_not_related         rsid  \\\n",
       "0         302                    [143, 3]  rs112565051   \n",
       "1         302                   [131, 15]         None   \n",
       "2         302                    [141, 5]         None   \n",
       "3         300                    [138, 6]         None   \n",
       "4         302                    [141, 5]         None   \n",
       "5         302                    [143, 3]         None   \n",
       "6         302                    [141, 5]         None   \n",
       "\n",
       "  ISEQ_GNOMAD_GENOMES_V3_AF_nfe ISEQ_GENES_NAMES ISEQ_CLINVAR_ALLELE_ID  \\\n",
       "0                         [0.0]          [PRDX1]                   None   \n",
       "1                  [0.00585229]        [GATAD2B]                   None   \n",
       "2                  [9.3301e-05]           [COG5]                   None   \n",
       "3                         [0.0]          [RAD21]                   None   \n",
       "4                 [0.000232883]          [C2CD3]                   None   \n",
       "5                         [0.0]           [IRX5]                   None   \n",
       "6                 [0.000543006]         [NDUFS7]                   None   \n",
       "\n",
       "                               ISEQ_CLINVAR_DISEASES  \\\n",
       "0  [Disorder_of_organic_acid_metabolism^Disorders...   \n",
       "1         [Mental_retardation_autosomal_dominant_18]   \n",
       "2  [Congenital_disorder_of_glycosylation^Congenit...   \n",
       "3  [Cornelia_de_Lange_syndrome_4^De_Lange_syndrom...   \n",
       "4                     [Orofaciodigital_syndrome_xiv]   \n",
       "5                                  [Hamamy_syndrome]   \n",
       "6  [MITOCHONDRIAL_COMPLEX_I_DEFICIENCY_NUCLEAR_TY...   \n",
       "\n",
       "                                ISEQ_HPO_INHERITANCE  \\\n",
       "0                  [Autosomal_recessive_inheritance]   \n",
       "1                   [Autosomal_dominant_inheritance]   \n",
       "2                  [Autosomal_recessive_inheritance]   \n",
       "3  [Autosomal_dominant_inheritance^Autosomal_rece...   \n",
       "4                  [Autosomal_recessive_inheritance]   \n",
       "5                  [Autosomal_recessive_inheritance]   \n",
       "6                  [Autosomal_recessive_inheritance]   \n",
       "\n",
       "                                 ISEQ_HPO_PHENOTYPES  \\\n",
       "0  [Abnormality_of_extrapyramidal_motor_function^...   \n",
       "1  [Abnormality_of_the_cerebral_white_matter^Abse...   \n",
       "2  [Atrophy/Degeneration_affecting_the_brainstem^...   \n",
       "3  [Abnormality_of_the_autonomic_nervous_system^A...   \n",
       "4  [Abnormal_facial_shape^Absent_speech^Aplasia_o...   \n",
       "5  [Anteverted_nares^Atrial_septal_defect^Brachyc...   \n",
       "6  [Abnormal_mitochondria_in_muscle_tissue^Abnorm...   \n",
       "\n",
       "                                   ISEQ_HPO_DISEASES  \\\n",
       "0  [mahcc^methylmalonic_aciduria_and_homocystinur...   \n",
       "1  [mental_retardation_autosomal_dominant_18^mrd1...   \n",
       "2  [#613612_congenital_disorder_of_glycosylation_...   \n",
       "3  [#614701_cornelia_de_lange_syndrome_4^cdls4^co...   \n",
       "4               [ofd14^orofaciodigital_syndrome_xiv]   \n",
       "5                             [hamamy_syndrome^hmms]   \n",
       "6  [isolated_complex_i_deficiency^leigh_syndrome_...   \n",
       "\n",
       "  ISEQ_AGGREGATED_CLINVAR_SIGNIFICANCE  \\\n",
       "0                                 None   \n",
       "1                                 None   \n",
       "2                                 None   \n",
       "3                                 None   \n",
       "4                                 None   \n",
       "5                                 None   \n",
       "6                                 None   \n",
       "\n",
       "                                                 ANN  \n",
       "0  [A|protein_protein_contact|HIGH|PRDX1|ENSG0000...  \n",
       "1  [C|splice_acceptor_variant&intron_variant|HIGH...  \n",
       "2  [C|frameshift_variant|HIGH|COG5|ENSG0000016459...  \n",
       "3  [C|splice_donor_variant&intron_variant|HIGH|RA...  \n",
       "4  [C|frameshift_variant|HIGH|C2CD3|ENSG000001680...  \n",
       "5  [G|frameshift_variant|HIGH|IRX5|ENSG0000017684...  \n",
       "6  [T|stop_gained|HIGH|NDUFS7|ENSG00000115286|tra...  "
      ]
     },
     "execution_count": 225,
     "metadata": {},
     "output_type": "execute_result"
    }
   ],
   "source": [
    "df2"
   ]
  },
  {
   "cell_type": "code",
   "execution_count": 224,
   "metadata": {},
   "outputs": [],
   "source": [
    "df2.to_csv('fisher_exact_againts_gnov3.csv')"
   ]
  },
  {
   "cell_type": "code",
   "execution_count": 9,
   "metadata": {},
   "outputs": [],
   "source": [
    "voi = mt.filter_rows(mt.locus == hl.parse_locus('chr7:107563982', reference_genome='GRCh38'))"
   ]
  },
  {
   "cell_type": "code",
   "execution_count": 11,
   "metadata": {},
   "outputs": [],
   "source": [
    "voi = voi.filter_cols(hl.agg.any(voi.GT.is_non_ref()))"
   ]
  },
  {
   "cell_type": "code",
   "execution_count": 12,
   "metadata": {},
   "outputs": [
    {
     "data": {
      "text/html": [
       "<table><thead style=\"font-weight: bold;\"><tr><td>locus</td><td>alleles</td><td>S_170d.GT</td><td>S_7231.GT</td><td>S_7241.GT</td><td>S_7271.GT</td><td>S_7276.GT</td><td>S_7278.GT</td><td>S_7284.GT</td><td>S_7305.GT</td></tr>\n",
       "<tr><td>locus&lt;GRCh38&gt;</td><td>array&lt;str&gt;</td><td>call</td><td>call</td><td>call</td><td>call</td><td>call</td><td>call</td><td>call</td><td>call</td></tr>\n",
       "</thead><tbody><tr><td>chr7:107563982</td><td>[&quot;CAG&quot;,&quot;C&quot;]</td><td>0/1</td><td>0/1</td><td>0/1</td><td>0/1</td><td>0/1</td><td>0/1</td><td>0/1</td><td>0/1</td></tr>\n",
       "</tbody></table>"
      ],
      "text/plain": [
       "+----------------+-------------+-----------+-----------+-----------+-----------+-----------+-----------+-----------+-----------+\n",
       "| locus          | alleles     | S_170d.GT | S_7231.GT | S_7241.GT | S_7271.GT | S_7276.GT | S_7278.GT | S_7284.GT | S_7305.GT |\n",
       "+----------------+-------------+-----------+-----------+-----------+-----------+-----------+-----------+-----------+-----------+\n",
       "| locus<GRCh38>  | array<str>  | call      | call      | call      | call      | call      | call      | call      | call      |\n",
       "+----------------+-------------+-----------+-----------+-----------+-----------+-----------+-----------+-----------+-----------+\n",
       "| chr7:107563982 | [\"CAG\",\"C\"] | 0/1       | 0/1       | 0/1       | 0/1       | 0/1       | 0/1       | 0/1       | 0/1       |\n",
       "+----------------+-------------+-----------+-----------+-----------+-----------+-----------+-----------+-----------+-----------+"
      ]
     },
     "metadata": {},
     "output_type": "display_data"
    }
   ],
   "source": [
    "voi.GT.show()"
   ]
  },
  {
   "cell_type": "code",
   "execution_count": 12,
   "metadata": {},
   "outputs": [
    {
     "data": {
      "text/html": [
       "<table><thead style=\"font-weight: bold;\"><tr><td>locus</td><td>alleles</td><td>S_170d.GT</td><td>S_7231.GT</td><td>S_7241.GT</td><td>S_7271.GT</td><td>S_7276.GT</td><td>S_7278.GT</td><td>S_7284.GT</td><td>S_7305.GT</td></tr>\n",
       "<tr><td>locus&lt;GRCh38&gt;</td><td>array&lt;str&gt;</td><td>call</td><td>call</td><td>call</td><td>call</td><td>call</td><td>call</td><td>call</td><td>call</td></tr>\n",
       "</thead><tbody><tr><td>chr7:107563982</td><td>[&quot;CAG&quot;,&quot;C&quot;]</td><td>0/1</td><td>0/1</td><td>0/1</td><td>0/1</td><td>0/1</td><td>0/1</td><td>0/1</td><td>0/1</td></tr>\n",
       "</tbody></table>"
      ],
      "text/plain": [
       "+----------------+-------------+-----------+-----------+-----------+-----------+-----------+-----------+-----------+-----------+\n",
       "| locus          | alleles     | S_170d.GT | S_7231.GT | S_7241.GT | S_7271.GT | S_7276.GT | S_7278.GT | S_7284.GT | S_7305.GT |\n",
       "+----------------+-------------+-----------+-----------+-----------+-----------+-----------+-----------+-----------+-----------+\n",
       "| locus<GRCh38>  | array<str>  | call      | call      | call      | call      | call      | call      | call      | call      |\n",
       "+----------------+-------------+-----------+-----------+-----------+-----------+-----------+-----------+-----------+-----------+\n",
       "| chr7:107563982 | [\"CAG\",\"C\"] | 0/1       | 0/1       | 0/1       | 0/1       | 0/1       | 0/1       | 0/1       | 0/1       |\n",
       "+----------------+-------------+-----------+-----------+-----------+-----------+-----------+-----------+-----------+-----------+"
      ]
     },
     "metadata": {},
     "output_type": "display_data"
    }
   ],
   "source": [
    "voi.GT.show()"
   ]
  },
  {
   "cell_type": "code",
   "execution_count": 13,
   "metadata": {},
   "outputs": [
    {
     "data": {
      "text/html": [
       "<table><thead style=\"font-weight: bold;\"><tr><td>s</td><td><expr></td></tr>\n",
       "<tr><td>str</td><td>str</td></tr>\n",
       "</thead><tbody><tr><td>&quot;S_170d&quot;</td><td>&quot;YES&quot;</td></tr>\n",
       "<tr><td>&quot;S_7231&quot;</td><td>&quot;YES&quot;</td></tr>\n",
       "<tr><td>&quot;S_7241&quot;</td><td>&quot;NO&quot;</td></tr>\n",
       "<tr><td>&quot;S_7271&quot;</td><td>&quot;YES&quot;</td></tr>\n",
       "<tr><td>&quot;S_7276&quot;</td><td>&quot;YES&quot;</td></tr>\n",
       "<tr><td>&quot;S_7278&quot;</td><td>&quot;YES&quot;</td></tr>\n",
       "<tr><td>&quot;S_7284&quot;</td><td>&quot;YES&quot;</td></tr>\n",
       "<tr><td>&quot;S_7305&quot;</td><td>&quot;YES&quot;</td></tr>\n",
       "</tbody></table>"
      ],
      "text/plain": [
       "+----------+--------+\n",
       "| s        | <expr> |\n",
       "+----------+--------+\n",
       "| str      | str    |\n",
       "+----------+--------+\n",
       "| \"S_170d\" | \"YES\"  |\n",
       "| \"S_7231\" | \"YES\"  |\n",
       "| \"S_7241\" | \"NO\"   |\n",
       "| \"S_7271\" | \"YES\"  |\n",
       "| \"S_7276\" | \"YES\"  |\n",
       "| \"S_7278\" | \"YES\"  |\n",
       "| \"S_7284\" | \"YES\"  |\n",
       "| \"S_7305\" | \"YES\"  |\n",
       "+----------+--------+"
      ]
     },
     "metadata": {},
     "output_type": "display_data"
    }
   ],
   "source": [
    "voi.phenotypes.disease.show()"
   ]
  },
  {
   "cell_type": "code",
   "execution_count": 14,
   "metadata": {},
   "outputs": [
    {
     "data": {
      "text/html": [
       "<table><thead style=\"font-weight: bold;\"><tr><td>s</td><td><expr></td></tr>\n",
       "<tr><td>str</td><td>str</td></tr>\n",
       "</thead><tbody><tr><td>&quot;S_170d&quot;</td><td>&quot;B&quot;</td></tr>\n",
       "<tr><td>&quot;S_7231&quot;</td><td>&quot;E&quot;</td></tr>\n",
       "<tr><td>&quot;S_7241&quot;</td><td>&quot;C&quot;</td></tr>\n",
       "<tr><td>&quot;S_7271&quot;</td><td>&quot;G&quot;</td></tr>\n",
       "<tr><td>&quot;S_7276&quot;</td><td>&quot;H&quot;</td></tr>\n",
       "<tr><td>&quot;S_7278&quot;</td><td>&quot;H&quot;</td></tr>\n",
       "<tr><td>&quot;S_7284&quot;</td><td>&quot;F&quot;</td></tr>\n",
       "<tr><td>&quot;S_7305&quot;</td><td>&quot;J&quot;</td></tr>\n",
       "</tbody></table>"
      ],
      "text/plain": [
       "+----------+--------+\n",
       "| s        | <expr> |\n",
       "+----------+--------+\n",
       "| str      | str    |\n",
       "+----------+--------+\n",
       "| \"S_170d\" | \"B\"    |\n",
       "| \"S_7231\" | \"E\"    |\n",
       "| \"S_7241\" | \"C\"    |\n",
       "| \"S_7271\" | \"G\"    |\n",
       "| \"S_7276\" | \"H\"    |\n",
       "| \"S_7278\" | \"H\"    |\n",
       "| \"S_7284\" | \"F\"    |\n",
       "| \"S_7305\" | \"J\"    |\n",
       "+----------+--------+"
      ]
     },
     "metadata": {},
     "output_type": "display_data"
    }
   ],
   "source": [
    "voi.phenotypes.family.show()"
   ]
  },
  {
   "cell_type": "code",
   "execution_count": 16,
   "metadata": {},
   "outputs": [],
   "source": [
    "cog5 = mt.filter_rows(mt.info.ISEQ_GENES_NAMES == [\"COG5\"])"
   ]
  },
  {
   "cell_type": "code",
   "execution_count": 18,
   "metadata": {},
   "outputs": [],
   "source": [
    "cog5 = cog5.filter_cols(hl.agg.any(cog5.GT.is_non_ref()))"
   ]
  },
  {
   "cell_type": "code",
   "execution_count": 21,
   "metadata": {},
   "outputs": [
    {
     "data": {
      "text/plain": [
       "{'NO': 6, 'YES': 16, 'n/a': 2}"
      ]
     },
     "execution_count": 21,
     "metadata": {},
     "output_type": "execute_result"
    }
   ],
   "source": [
    "cog5.aggregate_cols(hl.agg.counter(cog5.phenotypes.disease))"
   ]
  },
  {
   "cell_type": "code",
   "execution_count": 36,
   "metadata": {},
   "outputs": [
    {
     "data": {
      "text/plain": [
       "{False: 81, True: 39}"
      ]
     },
     "execution_count": 36,
     "metadata": {},
     "output_type": "execute_result"
    }
   ],
   "source": [
    "cog5.aggregate_entries(hl.agg.counter(cog5.GT.is_non_ref()))"
   ]
  },
  {
   "cell_type": "code",
   "execution_count": 41,
   "metadata": {},
   "outputs": [
    {
     "name": "stderr",
     "output_type": "stream",
     "text": [
      "2019-12-13 19:38:53 Hail: ERROR: scope violation: 'MatrixTable.filter_rows' expects an expression indexed by ['row']\n",
      "    Found indices ['column'], with unexpected indices ['column']. Invalid fields:\n",
      "        'phenotypes' (indices ['column'])\n",
      "    'MatrixTable.filter_rows' supports aggregation over axes ['column'], so these fields may appear inside an aggregator function.\n"
     ]
    },
    {
     "ename": "ExpressionException",
     "evalue": "scope violation: 'MatrixTable.filter_rows' expects an expression indexed by ['row']\n    Found indices ['column'], with unexpected indices ['column']. Invalid fields:\n        'phenotypes' (indices ['column'])\n    'MatrixTable.filter_rows' supports aggregation over axes ['column'], so these fields may appear inside an aggregator function.",
     "output_type": "error",
     "traceback": [
      "\u001b[0;31m---------------------------------------------------------------------------\u001b[0m",
      "\u001b[0;31mExpressionException\u001b[0m                       Traceback (most recent call last)",
      "\u001b[0;32m<ipython-input-41-8cecdcb0bb29>\u001b[0m in \u001b[0;36m<module>\u001b[0;34m\u001b[0m\n\u001b[0;32m----> 1\u001b[0;31m \u001b[0mcog5\u001b[0m\u001b[0;34m.\u001b[0m\u001b[0mfilter_rows\u001b[0m\u001b[0;34m(\u001b[0m\u001b[0mcog5\u001b[0m\u001b[0;34m.\u001b[0m\u001b[0mphenotypes\u001b[0m\u001b[0;34m.\u001b[0m\u001b[0mdisease\u001b[0m \u001b[0;34m==\u001b[0m \u001b[0;34m'YES'\u001b[0m\u001b[0;34m)\u001b[0m\u001b[0;34m.\u001b[0m\u001b[0maggregate_entries\u001b[0m\u001b[0;34m(\u001b[0m\u001b[0mhl\u001b[0m\u001b[0;34m.\u001b[0m\u001b[0magg\u001b[0m\u001b[0;34m.\u001b[0m\u001b[0mcounter\u001b[0m\u001b[0;34m(\u001b[0m\u001b[0mcog5\u001b[0m\u001b[0;34m.\u001b[0m\u001b[0mGT\u001b[0m\u001b[0;34m.\u001b[0m\u001b[0mis_non_ref\u001b[0m\u001b[0;34m(\u001b[0m\u001b[0;34m)\u001b[0m\u001b[0;34m)\u001b[0m\u001b[0;34m)\u001b[0m\u001b[0;34m\u001b[0m\u001b[0;34m\u001b[0m\u001b[0m\n\u001b[0m",
      "\u001b[0;32m</usr/local/lib/python3.7/site-packages/decorator.py:decorator-gen-1139>\u001b[0m in \u001b[0;36mfilter_rows\u001b[0;34m(self, expr, keep)\u001b[0m\n",
      "\u001b[0;32m/usr/local/lib/python3.7/site-packages/hail/typecheck/check.py\u001b[0m in \u001b[0;36mwrapper\u001b[0;34m(__original_func, *args, **kwargs)\u001b[0m\n\u001b[1;32m    583\u001b[0m     \u001b[0;32mdef\u001b[0m \u001b[0mwrapper\u001b[0m\u001b[0;34m(\u001b[0m\u001b[0m__original_func\u001b[0m\u001b[0;34m,\u001b[0m \u001b[0;34m*\u001b[0m\u001b[0margs\u001b[0m\u001b[0;34m,\u001b[0m \u001b[0;34m**\u001b[0m\u001b[0mkwargs\u001b[0m\u001b[0;34m)\u001b[0m\u001b[0;34m:\u001b[0m\u001b[0;34m\u001b[0m\u001b[0;34m\u001b[0m\u001b[0m\n\u001b[1;32m    584\u001b[0m         \u001b[0margs_\u001b[0m\u001b[0;34m,\u001b[0m \u001b[0mkwargs_\u001b[0m \u001b[0;34m=\u001b[0m \u001b[0mcheck_all\u001b[0m\u001b[0;34m(\u001b[0m\u001b[0m__original_func\u001b[0m\u001b[0;34m,\u001b[0m \u001b[0margs\u001b[0m\u001b[0;34m,\u001b[0m \u001b[0mkwargs\u001b[0m\u001b[0;34m,\u001b[0m \u001b[0mcheckers\u001b[0m\u001b[0;34m,\u001b[0m \u001b[0mis_method\u001b[0m\u001b[0;34m=\u001b[0m\u001b[0mis_method\u001b[0m\u001b[0;34m)\u001b[0m\u001b[0;34m\u001b[0m\u001b[0;34m\u001b[0m\u001b[0m\n\u001b[0;32m--> 585\u001b[0;31m         \u001b[0;32mreturn\u001b[0m \u001b[0m__original_func\u001b[0m\u001b[0;34m(\u001b[0m\u001b[0;34m*\u001b[0m\u001b[0margs_\u001b[0m\u001b[0;34m,\u001b[0m \u001b[0;34m**\u001b[0m\u001b[0mkwargs_\u001b[0m\u001b[0;34m)\u001b[0m\u001b[0;34m\u001b[0m\u001b[0;34m\u001b[0m\u001b[0m\n\u001b[0m\u001b[1;32m    586\u001b[0m \u001b[0;34m\u001b[0m\u001b[0m\n\u001b[1;32m    587\u001b[0m     \u001b[0;32mreturn\u001b[0m \u001b[0mwrapper\u001b[0m\u001b[0;34m\u001b[0m\u001b[0;34m\u001b[0m\u001b[0m\n",
      "\u001b[0;32m/usr/local/lib/python3.7/site-packages/hail/matrixtable.py\u001b[0m in \u001b[0;36mfilter_rows\u001b[0;34m(self, expr, keep)\u001b[0m\n\u001b[1;32m   1543\u001b[0m         \"\"\"\n\u001b[1;32m   1544\u001b[0m         \u001b[0mcaller\u001b[0m \u001b[0;34m=\u001b[0m \u001b[0;34m'MatrixTable.filter_rows'\u001b[0m\u001b[0;34m\u001b[0m\u001b[0;34m\u001b[0m\u001b[0m\n\u001b[0;32m-> 1545\u001b[0;31m         \u001b[0manalyze\u001b[0m\u001b[0;34m(\u001b[0m\u001b[0mcaller\u001b[0m\u001b[0;34m,\u001b[0m \u001b[0mexpr\u001b[0m\u001b[0;34m,\u001b[0m \u001b[0mself\u001b[0m\u001b[0;34m.\u001b[0m\u001b[0m_row_indices\u001b[0m\u001b[0;34m,\u001b[0m \u001b[0;34m{\u001b[0m\u001b[0mself\u001b[0m\u001b[0;34m.\u001b[0m\u001b[0m_col_axis\u001b[0m\u001b[0;34m}\u001b[0m\u001b[0;34m)\u001b[0m\u001b[0;34m\u001b[0m\u001b[0;34m\u001b[0m\u001b[0m\n\u001b[0m\u001b[1;32m   1546\u001b[0m \u001b[0;34m\u001b[0m\u001b[0m\n\u001b[1;32m   1547\u001b[0m         \u001b[0;32mif\u001b[0m \u001b[0mexpr\u001b[0m\u001b[0;34m.\u001b[0m\u001b[0m_aggregations\u001b[0m\u001b[0;34m:\u001b[0m\u001b[0;34m\u001b[0m\u001b[0;34m\u001b[0m\u001b[0m\n",
      "\u001b[0;32m</usr/local/lib/python3.7/site-packages/decorator.py:decorator-gen-659>\u001b[0m in \u001b[0;36manalyze\u001b[0;34m(caller, expr, expected_indices, aggregation_axes, broadcast)\u001b[0m\n",
      "\u001b[0;32m/usr/local/lib/python3.7/site-packages/hail/typecheck/check.py\u001b[0m in \u001b[0;36mwrapper\u001b[0;34m(__original_func, *args, **kwargs)\u001b[0m\n\u001b[1;32m    583\u001b[0m     \u001b[0;32mdef\u001b[0m \u001b[0mwrapper\u001b[0m\u001b[0;34m(\u001b[0m\u001b[0m__original_func\u001b[0m\u001b[0;34m,\u001b[0m \u001b[0;34m*\u001b[0m\u001b[0margs\u001b[0m\u001b[0;34m,\u001b[0m \u001b[0;34m**\u001b[0m\u001b[0mkwargs\u001b[0m\u001b[0;34m)\u001b[0m\u001b[0;34m:\u001b[0m\u001b[0;34m\u001b[0m\u001b[0;34m\u001b[0m\u001b[0m\n\u001b[1;32m    584\u001b[0m         \u001b[0margs_\u001b[0m\u001b[0;34m,\u001b[0m \u001b[0mkwargs_\u001b[0m \u001b[0;34m=\u001b[0m \u001b[0mcheck_all\u001b[0m\u001b[0;34m(\u001b[0m\u001b[0m__original_func\u001b[0m\u001b[0;34m,\u001b[0m \u001b[0margs\u001b[0m\u001b[0;34m,\u001b[0m \u001b[0mkwargs\u001b[0m\u001b[0;34m,\u001b[0m \u001b[0mcheckers\u001b[0m\u001b[0;34m,\u001b[0m \u001b[0mis_method\u001b[0m\u001b[0;34m=\u001b[0m\u001b[0mis_method\u001b[0m\u001b[0;34m)\u001b[0m\u001b[0;34m\u001b[0m\u001b[0;34m\u001b[0m\u001b[0m\n\u001b[0;32m--> 585\u001b[0;31m         \u001b[0;32mreturn\u001b[0m \u001b[0m__original_func\u001b[0m\u001b[0;34m(\u001b[0m\u001b[0;34m*\u001b[0m\u001b[0margs_\u001b[0m\u001b[0;34m,\u001b[0m \u001b[0;34m**\u001b[0m\u001b[0mkwargs_\u001b[0m\u001b[0;34m)\u001b[0m\u001b[0;34m\u001b[0m\u001b[0;34m\u001b[0m\u001b[0m\n\u001b[0m\u001b[1;32m    586\u001b[0m \u001b[0;34m\u001b[0m\u001b[0m\n\u001b[1;32m    587\u001b[0m     \u001b[0;32mreturn\u001b[0m \u001b[0mwrapper\u001b[0m\u001b[0;34m\u001b[0m\u001b[0;34m\u001b[0m\u001b[0m\n",
      "\u001b[0;32m/usr/local/lib/python3.7/site-packages/hail/expr/expressions/expression_utils.py\u001b[0m in \u001b[0;36manalyze\u001b[0;34m(caller, expr, expected_indices, aggregation_axes, broadcast)\u001b[0m\n\u001b[1;32m    127\u001b[0m         \u001b[0;32mfor\u001b[0m \u001b[0me\u001b[0m \u001b[0;32min\u001b[0m \u001b[0merrors\u001b[0m\u001b[0;34m:\u001b[0m\u001b[0;34m\u001b[0m\u001b[0;34m\u001b[0m\u001b[0m\n\u001b[1;32m    128\u001b[0m             \u001b[0merror\u001b[0m\u001b[0;34m(\u001b[0m\u001b[0;34m'{}'\u001b[0m\u001b[0;34m.\u001b[0m\u001b[0mformat\u001b[0m\u001b[0;34m(\u001b[0m\u001b[0me\u001b[0m\u001b[0;34m.\u001b[0m\u001b[0mmsg\u001b[0m\u001b[0;34m)\u001b[0m\u001b[0;34m)\u001b[0m\u001b[0;34m\u001b[0m\u001b[0;34m\u001b[0m\u001b[0m\n\u001b[0;32m--> 129\u001b[0;31m         \u001b[0;32mraise\u001b[0m \u001b[0merrors\u001b[0m\u001b[0;34m[\u001b[0m\u001b[0;36m0\u001b[0m\u001b[0;34m]\u001b[0m\u001b[0;34m\u001b[0m\u001b[0;34m\u001b[0m\u001b[0m\n\u001b[0m\u001b[1;32m    130\u001b[0m \u001b[0;34m\u001b[0m\u001b[0m\n\u001b[1;32m    131\u001b[0m \u001b[0;34m\u001b[0m\u001b[0m\n",
      "\u001b[0;31mExpressionException\u001b[0m: scope violation: 'MatrixTable.filter_rows' expects an expression indexed by ['row']\n    Found indices ['column'], with unexpected indices ['column']. Invalid fields:\n        'phenotypes' (indices ['column'])\n    'MatrixTable.filter_rows' supports aggregation over axes ['column'], so these fields may appear inside an aggregator function."
     ]
    }
   ],
   "source": [
    "cog5.filter_rows(cog5.phenotypes.disease == 'YES').aggregate_entries(hl.agg.counter(cog5.GT.is_non_ref()))"
   ]
  },
  {
   "cell_type": "code",
   "execution_count": 25,
   "metadata": {},
   "outputs": [
    {
     "data": {
      "text/html": [
       "<table><thead style=\"font-weight: bold;\"><tr><td>locus</td><td>alleles</td><td>S_170d.GT</td><td>S_6982.GT</td><td>S_7212.GT</td><td>S_7227.GT</td><td>S_7231.GT</td><td>S_7237.GT</td><td>S_7241.GT</td><td>S_7249.GT</td><td>S_7254.GT</td><td>S_7260.GT</td><td>S_7271.GT</td><td>S_7275.GT</td><td>S_7276.GT</td><td>S_7278.GT</td><td>S_7279.GT</td><td>S_7284.GT</td><td>S_7290.GT</td><td>S_7293.GT</td><td>S_7301.GT</td><td>S_7304.GT</td><td>S_7305.GT</td><td>S_7306.GT</td><td>S_7308.GT</td><td>WGS_6958.GT</td></tr>\n",
       "<tr><td>locus&lt;GRCh38&gt;</td><td>array&lt;str&gt;</td><td>call</td><td>call</td><td>call</td><td>call</td><td>call</td><td>call</td><td>call</td><td>call</td><td>call</td><td>call</td><td>call</td><td>call</td><td>call</td><td>call</td><td>call</td><td>call</td><td>call</td><td>call</td><td>call</td><td>call</td><td>call</td><td>call</td><td>call</td><td>call</td></tr>\n",
       "</thead><tbody><tr><td>chr7:107256749</td><td>[&quot;T&quot;,&quot;C&quot;]</td><td>0/0</td><td>0/0</td><td>0/0</td><td>0/0</td><td>0/0</td><td>0/0</td><td>0/0</td><td>0/0</td><td>0/0</td><td>0/0</td><td>0/0</td><td>0/0</td><td>0/0</td><td>0/0</td><td>0/0</td><td>0/0</td><td>0/0</td><td>0/0</td><td>0/0</td><td>0/0</td><td>0/0</td><td>0/0</td><td>0/0</td><td>0/0</td></tr>\n",
       "<tr><td>chr7:107298208</td><td>[&quot;T&quot;,&quot;C&quot;]</td><td>0/0</td><td>0/0</td><td>0/0</td><td>0/0</td><td>0/0</td><td>0/0</td><td>0/0</td><td>0/0</td><td>0/0</td><td>0/0</td><td>0/0</td><td>0/0</td><td>0/0</td><td>0/0</td><td>0/0</td><td>0/0</td><td>0/0</td><td>0/0</td><td>0/0</td><td>0/1</td><td>0/1</td><td>0/1</td><td>0/1</td><td>0/1</td></tr>\n",
       "<tr><td>chr7:107563971</td><td>[&quot;G&quot;,&quot;GGCC&quot;]</td><td>0/0</td><td>0/1</td><td>0/1</td><td>0/0</td><td>0/1</td><td>0/1</td><td>0/1</td><td>0/1</td><td>0/1</td><td>0/1</td><td>0/1</td><td>0/0</td><td>0/1</td><td>0/1</td><td>0/1</td><td>0/0</td><td>0/1</td><td>0/0</td><td>0/0</td><td>0/0</td><td>0/0</td><td>0/0</td><td>0/0</td><td>0/0</td></tr>\n",
       "<tr><td>chr7:107563979</td><td>[&quot;A&quot;,&quot;C&quot;]</td><td>0/1</td><td>0/0</td><td>0/0</td><td>0/1</td><td>0/1</td><td>0/0</td><td>0/1</td><td>0/0</td><td>0/0</td><td>0/0</td><td>0/1</td><td>0/1</td><td>0/1</td><td>0/1</td><td>0/0</td><td>0/1</td><td>0/1</td><td>0/1</td><td>0/1</td><td>0/0</td><td>0/1</td><td>0/0</td><td>0/0</td><td>0/0</td></tr>\n",
       "<tr><td>chr7:107563982</td><td>[&quot;CAG&quot;,&quot;C&quot;]</td><td>0/1</td><td>0/0</td><td>0/0</td><td>0/0</td><td>0/1</td><td>0/0</td><td>0/1</td><td>0/0</td><td>0/0</td><td>0/0</td><td>0/1</td><td>0/0</td><td>0/1</td><td>0/1</td><td>0/0</td><td>0/1</td><td>0/0</td><td>0/0</td><td>0/0</td><td>0/0</td><td>0/1</td><td>0/0</td><td>0/0</td><td>0/0</td></tr>\n",
       "</tbody></table>"
      ],
      "text/plain": [
       "+----------------+--------------+-----------+-----------+-----------+-----------+-----------+-----------+-----------+-----------+\n",
       "| locus          | alleles      | S_170d.GT | S_6982.GT | S_7212.GT | S_7227.GT | S_7231.GT | S_7237.GT | S_7241.GT | S_7249.GT |\n",
       "+----------------+--------------+-----------+-----------+-----------+-----------+-----------+-----------+-----------+-----------+\n",
       "| locus<GRCh38>  | array<str>   | call      | call      | call      | call      | call      | call      | call      | call      |\n",
       "+----------------+--------------+-----------+-----------+-----------+-----------+-----------+-----------+-----------+-----------+\n",
       "| chr7:107256749 | [\"T\",\"C\"]    | 0/0       | 0/0       | 0/0       | 0/0       | 0/0       | 0/0       | 0/0       | 0/0       |\n",
       "| chr7:107298208 | [\"T\",\"C\"]    | 0/0       | 0/0       | 0/0       | 0/0       | 0/0       | 0/0       | 0/0       | 0/0       |\n",
       "| chr7:107563971 | [\"G\",\"GGCC\"] | 0/0       | 0/1       | 0/1       | 0/0       | 0/1       | 0/1       | 0/1       | 0/1       |\n",
       "| chr7:107563979 | [\"A\",\"C\"]    | 0/1       | 0/0       | 0/0       | 0/1       | 0/1       | 0/0       | 0/1       | 0/0       |\n",
       "| chr7:107563982 | [\"CAG\",\"C\"]  | 0/1       | 0/0       | 0/0       | 0/0       | 0/1       | 0/0       | 0/1       | 0/0       |\n",
       "+----------------+--------------+-----------+-----------+-----------+-----------+-----------+-----------+-----------+-----------+\n",
       "\n",
       "+-----------+-----------+-----------+-----------+-----------+-----------+-----------+-----------+-----------+-----------+\n",
       "| S_7254.GT | S_7260.GT | S_7271.GT | S_7275.GT | S_7276.GT | S_7278.GT | S_7279.GT | S_7284.GT | S_7290.GT | S_7293.GT |\n",
       "+-----------+-----------+-----------+-----------+-----------+-----------+-----------+-----------+-----------+-----------+\n",
       "| call      | call      | call      | call      | call      | call      | call      | call      | call      | call      |\n",
       "+-----------+-----------+-----------+-----------+-----------+-----------+-----------+-----------+-----------+-----------+\n",
       "| 0/0       | 0/0       | 0/0       | 0/0       | 0/0       | 0/0       | 0/0       | 0/0       | 0/0       | 0/0       |\n",
       "| 0/0       | 0/0       | 0/0       | 0/0       | 0/0       | 0/0       | 0/0       | 0/0       | 0/0       | 0/0       |\n",
       "| 0/1       | 0/1       | 0/1       | 0/0       | 0/1       | 0/1       | 0/1       | 0/0       | 0/1       | 0/0       |\n",
       "| 0/0       | 0/0       | 0/1       | 0/1       | 0/1       | 0/1       | 0/0       | 0/1       | 0/1       | 0/1       |\n",
       "| 0/0       | 0/0       | 0/1       | 0/0       | 0/1       | 0/1       | 0/0       | 0/1       | 0/0       | 0/0       |\n",
       "+-----------+-----------+-----------+-----------+-----------+-----------+-----------+-----------+-----------+-----------+\n",
       "\n",
       "+-----------+-----------+-----------+-----------+-----------+-------------+\n",
       "| S_7301.GT | S_7304.GT | S_7305.GT | S_7306.GT | S_7308.GT | WGS_6958.GT |\n",
       "+-----------+-----------+-----------+-----------+-----------+-------------+\n",
       "| call      | call      | call      | call      | call      | call        |\n",
       "+-----------+-----------+-----------+-----------+-----------+-------------+\n",
       "| 0/0       | 0/0       | 0/0       | 0/0       | 0/0       | 0/0         |\n",
       "| 0/0       | 0/1       | 0/1       | 0/1       | 0/1       | 0/1         |\n",
       "| 0/0       | 0/0       | 0/0       | 0/0       | 0/0       | 0/0         |\n",
       "| 0/1       | 0/0       | 0/1       | 0/0       | 0/0       | 0/0         |\n",
       "| 0/0       | 0/0       | 0/1       | 0/0       | 0/0       | 0/0         |\n",
       "+-----------+-----------+-----------+-----------+-----------+-------------+"
      ]
     },
     "metadata": {},
     "output_type": "display_data"
    }
   ],
   "source": [
    "cog5.GT.show(n_cols = 24)"
   ]
  },
  {
   "cell_type": "code",
   "execution_count": 31,
   "metadata": {},
   "outputs": [],
   "source": [
    "cog5 = cog5.annotate_cols(alt_per_person = hl.agg.counter(cog5.GT.n_alt_alleles()))"
   ]
  },
  {
   "cell_type": "code",
   "execution_count": 32,
   "metadata": {},
   "outputs": [
    {
     "data": {
      "text/html": [
       "<table><thead style=\"font-weight: bold;\"><tr><td>s</td><td>alt_per_person</td></tr>\n",
       "<tr><td>str</td><td>dict&lt;int32, int64&gt;</td></tr>\n",
       "</thead><tbody><tr><td>&quot;S_170d&quot;</td><td>{0:3,1:2}</td></tr>\n",
       "<tr><td>&quot;S_6982&quot;</td><td>{0:4,1:1}</td></tr>\n",
       "<tr><td>&quot;S_7212&quot;</td><td>{0:4,1:1}</td></tr>\n",
       "<tr><td>&quot;S_7227&quot;</td><td>{0:4,1:1}</td></tr>\n",
       "<tr><td>&quot;S_7231&quot;</td><td>{0:2,1:3}</td></tr>\n",
       "<tr><td>&quot;S_7237&quot;</td><td>{0:4,1:1}</td></tr>\n",
       "<tr><td>&quot;S_7241&quot;</td><td>{0:2,1:3}</td></tr>\n",
       "<tr><td>&quot;S_7249&quot;</td><td>{0:4,1:1}</td></tr>\n",
       "<tr><td>&quot;S_7254&quot;</td><td>{0:4,1:1}</td></tr>\n",
       "<tr><td>&quot;S_7260&quot;</td><td>{0:4,1:1}</td></tr>\n",
       "</tbody></table><p style=\"background: #fdd; padding: 0.4em;\">showing top 10 rows</p>\n"
      ],
      "text/plain": [
       "+----------+--------------------+\n",
       "| s        | alt_per_person     |\n",
       "+----------+--------------------+\n",
       "| str      | dict<int32, int64> |\n",
       "+----------+--------------------+\n",
       "| \"S_170d\" | {0:3,1:2}          |\n",
       "| \"S_6982\" | {0:4,1:1}          |\n",
       "| \"S_7212\" | {0:4,1:1}          |\n",
       "| \"S_7227\" | {0:4,1:1}          |\n",
       "| \"S_7231\" | {0:2,1:3}          |\n",
       "| \"S_7237\" | {0:4,1:1}          |\n",
       "| \"S_7241\" | {0:2,1:3}          |\n",
       "| \"S_7249\" | {0:4,1:1}          |\n",
       "| \"S_7254\" | {0:4,1:1}          |\n",
       "| \"S_7260\" | {0:4,1:1}          |\n",
       "+----------+--------------------+\n",
       "showing top 10 rows"
      ]
     },
     "metadata": {},
     "output_type": "display_data"
    }
   ],
   "source": [
    "cog5.alt_per_person.show()"
   ]
  },
  {
   "cell_type": "code",
   "execution_count": 32,
   "metadata": {},
   "outputs": [
    {
     "data": {
      "text/html": [
       "<table><thead style=\"font-weight: bold;\"><tr><td>s</td><td>alt_per_person</td></tr>\n",
       "<tr><td>str</td><td>dict&lt;int32, int64&gt;</td></tr>\n",
       "</thead><tbody><tr><td>&quot;S_170d&quot;</td><td>{0:3,1:2}</td></tr>\n",
       "<tr><td>&quot;S_6982&quot;</td><td>{0:4,1:1}</td></tr>\n",
       "<tr><td>&quot;S_7212&quot;</td><td>{0:4,1:1}</td></tr>\n",
       "<tr><td>&quot;S_7227&quot;</td><td>{0:4,1:1}</td></tr>\n",
       "<tr><td>&quot;S_7231&quot;</td><td>{0:2,1:3}</td></tr>\n",
       "<tr><td>&quot;S_7237&quot;</td><td>{0:4,1:1}</td></tr>\n",
       "<tr><td>&quot;S_7241&quot;</td><td>{0:2,1:3}</td></tr>\n",
       "<tr><td>&quot;S_7249&quot;</td><td>{0:4,1:1}</td></tr>\n",
       "<tr><td>&quot;S_7254&quot;</td><td>{0:4,1:1}</td></tr>\n",
       "<tr><td>&quot;S_7260&quot;</td><td>{0:4,1:1}</td></tr>\n",
       "</tbody></table><p style=\"background: #fdd; padding: 0.4em;\">showing top 10 rows</p>\n"
      ],
      "text/plain": [
       "+----------+--------------------+\n",
       "| s        | alt_per_person     |\n",
       "+----------+--------------------+\n",
       "| str      | dict<int32, int64> |\n",
       "+----------+--------------------+\n",
       "| \"S_170d\" | {0:3,1:2}          |\n",
       "| \"S_6982\" | {0:4,1:1}          |\n",
       "| \"S_7212\" | {0:4,1:1}          |\n",
       "| \"S_7227\" | {0:4,1:1}          |\n",
       "| \"S_7231\" | {0:2,1:3}          |\n",
       "| \"S_7237\" | {0:4,1:1}          |\n",
       "| \"S_7241\" | {0:2,1:3}          |\n",
       "| \"S_7249\" | {0:4,1:1}          |\n",
       "| \"S_7254\" | {0:4,1:1}          |\n",
       "| \"S_7260\" | {0:4,1:1}          |\n",
       "+----------+--------------------+\n",
       "showing top 10 rows"
      ]
     },
     "metadata": {},
     "output_type": "display_data"
    }
   ],
   "source": [
    "cog5.alt_per_person.show()"
   ]
  }
 ],
 "metadata": {
  "kernelspec": {
   "display_name": "Python 3",
   "language": "python",
   "name": "python3"
  },
  "language_info": {
   "codemirror_mode": {
    "name": "ipython",
    "version": 3
   },
   "file_extension": ".py",
   "mimetype": "text/x-python",
   "name": "python",
   "nbconvert_exporter": "python",
   "pygments_lexer": "ipython3",
   "version": "3.7.4"
  }
 },
 "nbformat": 4,
 "nbformat_minor": 2
}
