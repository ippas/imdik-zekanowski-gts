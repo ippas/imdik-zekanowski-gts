{
 "cells": [
  {
   "cell_type": "code",
   "execution_count": 1,
   "metadata": {},
   "outputs": [
    {
     "data": {
      "text/html": [
       "<style>.container { width:100% !important; }</style>"
      ],
      "text/plain": [
       "<IPython.core.display.HTML object>"
      ]
     },
     "metadata": {},
     "output_type": "display_data"
    },
    {
     "name": "stderr",
     "output_type": "stream",
     "text": [
      "Running on Apache Spark version 2.4.1\n",
      "SparkUI available at http://349d1de1bab4:4041\n",
      "Welcome to\n",
      "     __  __     <>__\n",
      "    / /_/ /__  __/ /\n",
      "   / __  / _ `/ / /\n",
      "  /_/ /_/\\_,_/_/_/   version 0.2.26-2dcc3d963867\n",
      "LOGGING: writing to /hail/large_vcf_analysis/hail-20191202-1407-0.2.26-2dcc3d963867.log\n"
     ]
    },
    {
     "data": {
      "text/html": [
       "\n",
       "    <div class=\"bk-root\">\n",
       "        <a href=\"https://bokeh.pydata.org\" target=\"_blank\" class=\"bk-logo bk-logo-small bk-logo-notebook\"></a>\n",
       "        <span id=\"1001\">Loading BokehJS ...</span>\n",
       "    </div>"
      ]
     },
     "metadata": {},
     "output_type": "display_data"
    },
    {
     "data": {
      "application/javascript": [
       "\n",
       "(function(root) {\n",
       "  function now() {\n",
       "    return new Date();\n",
       "  }\n",
       "\n",
       "  var force = true;\n",
       "\n",
       "  if (typeof root._bokeh_onload_callbacks === \"undefined\" || force === true) {\n",
       "    root._bokeh_onload_callbacks = [];\n",
       "    root._bokeh_is_loading = undefined;\n",
       "  }\n",
       "\n",
       "  var JS_MIME_TYPE = 'application/javascript';\n",
       "  var HTML_MIME_TYPE = 'text/html';\n",
       "  var EXEC_MIME_TYPE = 'application/vnd.bokehjs_exec.v0+json';\n",
       "  var CLASS_NAME = 'output_bokeh rendered_html';\n",
       "\n",
       "  /**\n",
       "   * Render data to the DOM node\n",
       "   */\n",
       "  function render(props, node) {\n",
       "    var script = document.createElement(\"script\");\n",
       "    node.appendChild(script);\n",
       "  }\n",
       "\n",
       "  /**\n",
       "   * Handle when an output is cleared or removed\n",
       "   */\n",
       "  function handleClearOutput(event, handle) {\n",
       "    var cell = handle.cell;\n",
       "\n",
       "    var id = cell.output_area._bokeh_element_id;\n",
       "    var server_id = cell.output_area._bokeh_server_id;\n",
       "    // Clean up Bokeh references\n",
       "    if (id != null && id in Bokeh.index) {\n",
       "      Bokeh.index[id].model.document.clear();\n",
       "      delete Bokeh.index[id];\n",
       "    }\n",
       "\n",
       "    if (server_id !== undefined) {\n",
       "      // Clean up Bokeh references\n",
       "      var cmd = \"from bokeh.io.state import curstate; print(curstate().uuid_to_server['\" + server_id + \"'].get_sessions()[0].document.roots[0]._id)\";\n",
       "      cell.notebook.kernel.execute(cmd, {\n",
       "        iopub: {\n",
       "          output: function(msg) {\n",
       "            var id = msg.content.text.trim();\n",
       "            if (id in Bokeh.index) {\n",
       "              Bokeh.index[id].model.document.clear();\n",
       "              delete Bokeh.index[id];\n",
       "            }\n",
       "          }\n",
       "        }\n",
       "      });\n",
       "      // Destroy server and session\n",
       "      var cmd = \"import bokeh.io.notebook as ion; ion.destroy_server('\" + server_id + \"')\";\n",
       "      cell.notebook.kernel.execute(cmd);\n",
       "    }\n",
       "  }\n",
       "\n",
       "  /**\n",
       "   * Handle when a new output is added\n",
       "   */\n",
       "  function handleAddOutput(event, handle) {\n",
       "    var output_area = handle.output_area;\n",
       "    var output = handle.output;\n",
       "\n",
       "    // limit handleAddOutput to display_data with EXEC_MIME_TYPE content only\n",
       "    if ((output.output_type != \"display_data\") || (!output.data.hasOwnProperty(EXEC_MIME_TYPE))) {\n",
       "      return\n",
       "    }\n",
       "\n",
       "    var toinsert = output_area.element.find(\".\" + CLASS_NAME.split(' ')[0]);\n",
       "\n",
       "    if (output.metadata[EXEC_MIME_TYPE][\"id\"] !== undefined) {\n",
       "      toinsert[toinsert.length - 1].firstChild.textContent = output.data[JS_MIME_TYPE];\n",
       "      // store reference to embed id on output_area\n",
       "      output_area._bokeh_element_id = output.metadata[EXEC_MIME_TYPE][\"id\"];\n",
       "    }\n",
       "    if (output.metadata[EXEC_MIME_TYPE][\"server_id\"] !== undefined) {\n",
       "      var bk_div = document.createElement(\"div\");\n",
       "      bk_div.innerHTML = output.data[HTML_MIME_TYPE];\n",
       "      var script_attrs = bk_div.children[0].attributes;\n",
       "      for (var i = 0; i < script_attrs.length; i++) {\n",
       "        toinsert[toinsert.length - 1].firstChild.setAttribute(script_attrs[i].name, script_attrs[i].value);\n",
       "      }\n",
       "      // store reference to server id on output_area\n",
       "      output_area._bokeh_server_id = output.metadata[EXEC_MIME_TYPE][\"server_id\"];\n",
       "    }\n",
       "  }\n",
       "\n",
       "  function register_renderer(events, OutputArea) {\n",
       "\n",
       "    function append_mime(data, metadata, element) {\n",
       "      // create a DOM node to render to\n",
       "      var toinsert = this.create_output_subarea(\n",
       "        metadata,\n",
       "        CLASS_NAME,\n",
       "        EXEC_MIME_TYPE\n",
       "      );\n",
       "      this.keyboard_manager.register_events(toinsert);\n",
       "      // Render to node\n",
       "      var props = {data: data, metadata: metadata[EXEC_MIME_TYPE]};\n",
       "      render(props, toinsert[toinsert.length - 1]);\n",
       "      element.append(toinsert);\n",
       "      return toinsert\n",
       "    }\n",
       "\n",
       "    /* Handle when an output is cleared or removed */\n",
       "    events.on('clear_output.CodeCell', handleClearOutput);\n",
       "    events.on('delete.Cell', handleClearOutput);\n",
       "\n",
       "    /* Handle when a new output is added */\n",
       "    events.on('output_added.OutputArea', handleAddOutput);\n",
       "\n",
       "    /**\n",
       "     * Register the mime type and append_mime function with output_area\n",
       "     */\n",
       "    OutputArea.prototype.register_mime_type(EXEC_MIME_TYPE, append_mime, {\n",
       "      /* Is output safe? */\n",
       "      safe: true,\n",
       "      /* Index of renderer in `output_area.display_order` */\n",
       "      index: 0\n",
       "    });\n",
       "  }\n",
       "\n",
       "  // register the mime type if in Jupyter Notebook environment and previously unregistered\n",
       "  if (root.Jupyter !== undefined) {\n",
       "    var events = require('base/js/events');\n",
       "    var OutputArea = require('notebook/js/outputarea').OutputArea;\n",
       "\n",
       "    if (OutputArea.prototype.mime_types().indexOf(EXEC_MIME_TYPE) == -1) {\n",
       "      register_renderer(events, OutputArea);\n",
       "    }\n",
       "  }\n",
       "\n",
       "  \n",
       "  if (typeof (root._bokeh_timeout) === \"undefined\" || force === true) {\n",
       "    root._bokeh_timeout = Date.now() + 5000;\n",
       "    root._bokeh_failed_load = false;\n",
       "  }\n",
       "\n",
       "  var NB_LOAD_WARNING = {'data': {'text/html':\n",
       "     \"<div style='background-color: #fdd'>\\n\"+\n",
       "     \"<p>\\n\"+\n",
       "     \"BokehJS does not appear to have successfully loaded. If loading BokehJS from CDN, this \\n\"+\n",
       "     \"may be due to a slow or bad network connection. Possible fixes:\\n\"+\n",
       "     \"</p>\\n\"+\n",
       "     \"<ul>\\n\"+\n",
       "     \"<li>re-rerun `output_notebook()` to attempt to load from CDN again, or</li>\\n\"+\n",
       "     \"<li>use INLINE resources instead, as so:</li>\\n\"+\n",
       "     \"</ul>\\n\"+\n",
       "     \"<code>\\n\"+\n",
       "     \"from bokeh.resources import INLINE\\n\"+\n",
       "     \"output_notebook(resources=INLINE)\\n\"+\n",
       "     \"</code>\\n\"+\n",
       "     \"</div>\"}};\n",
       "\n",
       "  function display_loaded() {\n",
       "    var el = document.getElementById(\"1001\");\n",
       "    if (el != null) {\n",
       "      el.textContent = \"BokehJS is loading...\";\n",
       "    }\n",
       "    if (root.Bokeh !== undefined) {\n",
       "      if (el != null) {\n",
       "        el.textContent = \"BokehJS \" + root.Bokeh.version + \" successfully loaded.\";\n",
       "      }\n",
       "    } else if (Date.now() < root._bokeh_timeout) {\n",
       "      setTimeout(display_loaded, 100)\n",
       "    }\n",
       "  }\n",
       "\n",
       "\n",
       "  function run_callbacks() {\n",
       "    try {\n",
       "      root._bokeh_onload_callbacks.forEach(function(callback) {\n",
       "        if (callback != null)\n",
       "          callback();\n",
       "      });\n",
       "    } finally {\n",
       "      delete root._bokeh_onload_callbacks\n",
       "    }\n",
       "    console.debug(\"Bokeh: all callbacks have finished\");\n",
       "  }\n",
       "\n",
       "  function load_libs(css_urls, js_urls, callback) {\n",
       "    if (css_urls == null) css_urls = [];\n",
       "    if (js_urls == null) js_urls = [];\n",
       "\n",
       "    root._bokeh_onload_callbacks.push(callback);\n",
       "    if (root._bokeh_is_loading > 0) {\n",
       "      console.debug(\"Bokeh: BokehJS is being loaded, scheduling callback at\", now());\n",
       "      return null;\n",
       "    }\n",
       "    if (js_urls == null || js_urls.length === 0) {\n",
       "      run_callbacks();\n",
       "      return null;\n",
       "    }\n",
       "    console.debug(\"Bokeh: BokehJS not loaded, scheduling load and callback at\", now());\n",
       "    root._bokeh_is_loading = css_urls.length + js_urls.length;\n",
       "\n",
       "    function on_load() {\n",
       "      root._bokeh_is_loading--;\n",
       "      if (root._bokeh_is_loading === 0) {\n",
       "        console.debug(\"Bokeh: all BokehJS libraries/stylesheets loaded\");\n",
       "        run_callbacks()\n",
       "      }\n",
       "    }\n",
       "\n",
       "    function on_error() {\n",
       "      console.error(\"failed to load \" + url);\n",
       "    }\n",
       "\n",
       "    for (var i = 0; i < css_urls.length; i++) {\n",
       "      var url = css_urls[i];\n",
       "      const element = document.createElement(\"link\");\n",
       "      element.onload = on_load;\n",
       "      element.onerror = on_error;\n",
       "      element.rel = \"stylesheet\";\n",
       "      element.type = \"text/css\";\n",
       "      element.href = url;\n",
       "      console.debug(\"Bokeh: injecting link tag for BokehJS stylesheet: \", url);\n",
       "      document.body.appendChild(element);\n",
       "    }\n",
       "\n",
       "    for (var i = 0; i < js_urls.length; i++) {\n",
       "      var url = js_urls[i];\n",
       "      var element = document.createElement('script');\n",
       "      element.onload = on_load;\n",
       "      element.onerror = on_error;\n",
       "      element.async = false;\n",
       "      element.src = url;\n",
       "      console.debug(\"Bokeh: injecting script tag for BokehJS library: \", url);\n",
       "      document.head.appendChild(element);\n",
       "    }\n",
       "  };var element = document.getElementById(\"1001\");\n",
       "  if (element == null) {\n",
       "    console.error(\"Bokeh: ERROR: autoload.js configured with elementid '1001' but no matching script tag was found. \")\n",
       "    return false;\n",
       "  }\n",
       "\n",
       "  function inject_raw_css(css) {\n",
       "    const element = document.createElement(\"style\");\n",
       "    element.appendChild(document.createTextNode(css));\n",
       "    document.body.appendChild(element);\n",
       "  }\n",
       "\n",
       "  var js_urls = [\"https://cdn.pydata.org/bokeh/release/bokeh-1.2.0.min.js\", \"https://cdn.pydata.org/bokeh/release/bokeh-widgets-1.2.0.min.js\", \"https://cdn.pydata.org/bokeh/release/bokeh-tables-1.2.0.min.js\", \"https://cdn.pydata.org/bokeh/release/bokeh-gl-1.2.0.min.js\"];\n",
       "  var css_urls = [\"https://cdn.pydata.org/bokeh/release/bokeh-1.2.0.min.css\", \"https://cdn.pydata.org/bokeh/release/bokeh-widgets-1.2.0.min.css\", \"https://cdn.pydata.org/bokeh/release/bokeh-tables-1.2.0.min.css\"];\n",
       "\n",
       "  var inline_js = [\n",
       "    function(Bokeh) {\n",
       "      Bokeh.set_log_level(\"info\");\n",
       "    },\n",
       "    \n",
       "    function(Bokeh) {\n",
       "      \n",
       "    },\n",
       "    function(Bokeh) {} // ensure no trailing comma for IE\n",
       "  ];\n",
       "\n",
       "  function run_inline_js() {\n",
       "    \n",
       "    if ((root.Bokeh !== undefined) || (force === true)) {\n",
       "      for (var i = 0; i < inline_js.length; i++) {\n",
       "        inline_js[i].call(root, root.Bokeh);\n",
       "      }if (force === true) {\n",
       "        display_loaded();\n",
       "      }} else if (Date.now() < root._bokeh_timeout) {\n",
       "      setTimeout(run_inline_js, 100);\n",
       "    } else if (!root._bokeh_failed_load) {\n",
       "      console.log(\"Bokeh: BokehJS failed to load within specified timeout.\");\n",
       "      root._bokeh_failed_load = true;\n",
       "    } else if (force !== true) {\n",
       "      var cell = $(document.getElementById(\"1001\")).parents('.cell').data().cell;\n",
       "      cell.output_area.append_execute_result(NB_LOAD_WARNING)\n",
       "    }\n",
       "\n",
       "  }\n",
       "\n",
       "  if (root._bokeh_is_loading === 0) {\n",
       "    console.debug(\"Bokeh: BokehJS loaded, going straight to plotting\");\n",
       "    run_inline_js();\n",
       "  } else {\n",
       "    load_libs(css_urls, js_urls, function() {\n",
       "      console.debug(\"Bokeh: BokehJS plotting callback run at\", now());\n",
       "      run_inline_js();\n",
       "    });\n",
       "  }\n",
       "}(window));"
      ],
      "application/vnd.bokehjs_load.v0+json": "\n(function(root) {\n  function now() {\n    return new Date();\n  }\n\n  var force = true;\n\n  if (typeof root._bokeh_onload_callbacks === \"undefined\" || force === true) {\n    root._bokeh_onload_callbacks = [];\n    root._bokeh_is_loading = undefined;\n  }\n\n  \n\n  \n  if (typeof (root._bokeh_timeout) === \"undefined\" || force === true) {\n    root._bokeh_timeout = Date.now() + 5000;\n    root._bokeh_failed_load = false;\n  }\n\n  var NB_LOAD_WARNING = {'data': {'text/html':\n     \"<div style='background-color: #fdd'>\\n\"+\n     \"<p>\\n\"+\n     \"BokehJS does not appear to have successfully loaded. If loading BokehJS from CDN, this \\n\"+\n     \"may be due to a slow or bad network connection. Possible fixes:\\n\"+\n     \"</p>\\n\"+\n     \"<ul>\\n\"+\n     \"<li>re-rerun `output_notebook()` to attempt to load from CDN again, or</li>\\n\"+\n     \"<li>use INLINE resources instead, as so:</li>\\n\"+\n     \"</ul>\\n\"+\n     \"<code>\\n\"+\n     \"from bokeh.resources import INLINE\\n\"+\n     \"output_notebook(resources=INLINE)\\n\"+\n     \"</code>\\n\"+\n     \"</div>\"}};\n\n  function display_loaded() {\n    var el = document.getElementById(\"1001\");\n    if (el != null) {\n      el.textContent = \"BokehJS is loading...\";\n    }\n    if (root.Bokeh !== undefined) {\n      if (el != null) {\n        el.textContent = \"BokehJS \" + root.Bokeh.version + \" successfully loaded.\";\n      }\n    } else if (Date.now() < root._bokeh_timeout) {\n      setTimeout(display_loaded, 100)\n    }\n  }\n\n\n  function run_callbacks() {\n    try {\n      root._bokeh_onload_callbacks.forEach(function(callback) {\n        if (callback != null)\n          callback();\n      });\n    } finally {\n      delete root._bokeh_onload_callbacks\n    }\n    console.debug(\"Bokeh: all callbacks have finished\");\n  }\n\n  function load_libs(css_urls, js_urls, callback) {\n    if (css_urls == null) css_urls = [];\n    if (js_urls == null) js_urls = [];\n\n    root._bokeh_onload_callbacks.push(callback);\n    if (root._bokeh_is_loading > 0) {\n      console.debug(\"Bokeh: BokehJS is being loaded, scheduling callback at\", now());\n      return null;\n    }\n    if (js_urls == null || js_urls.length === 0) {\n      run_callbacks();\n      return null;\n    }\n    console.debug(\"Bokeh: BokehJS not loaded, scheduling load and callback at\", now());\n    root._bokeh_is_loading = css_urls.length + js_urls.length;\n\n    function on_load() {\n      root._bokeh_is_loading--;\n      if (root._bokeh_is_loading === 0) {\n        console.debug(\"Bokeh: all BokehJS libraries/stylesheets loaded\");\n        run_callbacks()\n      }\n    }\n\n    function on_error() {\n      console.error(\"failed to load \" + url);\n    }\n\n    for (var i = 0; i < css_urls.length; i++) {\n      var url = css_urls[i];\n      const element = document.createElement(\"link\");\n      element.onload = on_load;\n      element.onerror = on_error;\n      element.rel = \"stylesheet\";\n      element.type = \"text/css\";\n      element.href = url;\n      console.debug(\"Bokeh: injecting link tag for BokehJS stylesheet: \", url);\n      document.body.appendChild(element);\n    }\n\n    for (var i = 0; i < js_urls.length; i++) {\n      var url = js_urls[i];\n      var element = document.createElement('script');\n      element.onload = on_load;\n      element.onerror = on_error;\n      element.async = false;\n      element.src = url;\n      console.debug(\"Bokeh: injecting script tag for BokehJS library: \", url);\n      document.head.appendChild(element);\n    }\n  };var element = document.getElementById(\"1001\");\n  if (element == null) {\n    console.error(\"Bokeh: ERROR: autoload.js configured with elementid '1001' but no matching script tag was found. \")\n    return false;\n  }\n\n  function inject_raw_css(css) {\n    const element = document.createElement(\"style\");\n    element.appendChild(document.createTextNode(css));\n    document.body.appendChild(element);\n  }\n\n  var js_urls = [\"https://cdn.pydata.org/bokeh/release/bokeh-1.2.0.min.js\", \"https://cdn.pydata.org/bokeh/release/bokeh-widgets-1.2.0.min.js\", \"https://cdn.pydata.org/bokeh/release/bokeh-tables-1.2.0.min.js\", \"https://cdn.pydata.org/bokeh/release/bokeh-gl-1.2.0.min.js\"];\n  var css_urls = [\"https://cdn.pydata.org/bokeh/release/bokeh-1.2.0.min.css\", \"https://cdn.pydata.org/bokeh/release/bokeh-widgets-1.2.0.min.css\", \"https://cdn.pydata.org/bokeh/release/bokeh-tables-1.2.0.min.css\"];\n\n  var inline_js = [\n    function(Bokeh) {\n      Bokeh.set_log_level(\"info\");\n    },\n    \n    function(Bokeh) {\n      \n    },\n    function(Bokeh) {} // ensure no trailing comma for IE\n  ];\n\n  function run_inline_js() {\n    \n    if ((root.Bokeh !== undefined) || (force === true)) {\n      for (var i = 0; i < inline_js.length; i++) {\n        inline_js[i].call(root, root.Bokeh);\n      }if (force === true) {\n        display_loaded();\n      }} else if (Date.now() < root._bokeh_timeout) {\n      setTimeout(run_inline_js, 100);\n    } else if (!root._bokeh_failed_load) {\n      console.log(\"Bokeh: BokehJS failed to load within specified timeout.\");\n      root._bokeh_failed_load = true;\n    } else if (force !== true) {\n      var cell = $(document.getElementById(\"1001\")).parents('.cell').data().cell;\n      cell.output_area.append_execute_result(NB_LOAD_WARNING)\n    }\n\n  }\n\n  if (root._bokeh_is_loading === 0) {\n    console.debug(\"Bokeh: BokehJS loaded, going straight to plotting\");\n    run_inline_js();\n  } else {\n    load_libs(css_urls, js_urls, function() {\n      console.debug(\"Bokeh: BokehJS plotting callback run at\", now());\n      run_inline_js();\n    });\n  }\n}(window));"
     },
     "metadata": {},
     "output_type": "display_data"
    }
   ],
   "source": [
    "from IPython.display import display\n",
    "from IPython.display import HTML\n",
    "import IPython.core.display as di # Example: di.display_html('<h3>%s:</h3>' % str, raw=True)\n",
    "\n",
    "# This line will hide code by default when the notebook is exported as HTML\n",
    "# di.display_html('<script>jQuery(function() {if (jQuery(\"body.notebook_app\").length == 0) { jQuery(\".input_area\").toggle(); jQuery(\".prompt\").toggle();}});</script>', raw=True)\n",
    "\n",
    "display(HTML(\"<style>.container { width:100% !important; }</style>\"))\n",
    "\n",
    "import hail as hl\n",
    "hl.init() \n",
    "\n",
    "from hail.plot import show\n",
    "from pprint import pprint\n",
    "from bokeh.layouts import gridplot\n",
    "hl.plot.output_notebook()\n",
    "\n",
    "import numpy as np\n",
    "import pandas as pd\n",
    "from functools import reduce"
   ]
  },
  {
   "cell_type": "markdown",
   "metadata": {},
   "source": [
    "## Import large vcf"
   ]
  },
  {
   "cell_type": "code",
   "execution_count": 6,
   "metadata": {},
   "outputs": [
    {
     "name": "stderr",
     "output_type": "stream",
     "text": [
      "2019-12-02 09:22:20 Hail: INFO: Coerced sorted dataset\n",
      "2019-12-02 09:30:57 Hail: INFO: wrote matrix table with 19133847 rows and 151 columns in 591 partitions to large_vcf.mt\n"
     ]
    }
   ],
   "source": [
    "hl.import_vcf('sample.vcf.gz', reference_genome='GRCh38', array_elements_required = False, force_bgz = True, filter=\"chrUn_KI270336v1\").write('large_vcf.mt', overwrite=True)"
   ]
  },
  {
   "cell_type": "code",
   "execution_count": 2,
   "metadata": {},
   "outputs": [],
   "source": [
    "mt = hl.read_matrix_table('large_vcf.mt')"
   ]
  },
  {
   "cell_type": "code",
   "execution_count": 3,
   "metadata": {},
   "outputs": [
    {
     "name": "stdout",
     "output_type": "stream",
     "text": [
      "----------------------------------------\n",
      "Global fields:\n",
      "    None\n",
      "----------------------------------------\n",
      "Column fields:\n",
      "    's': str\n",
      "----------------------------------------\n",
      "Row fields:\n",
      "    'locus': locus<GRCh38>\n",
      "    'alleles': array<str>\n",
      "    'rsid': str\n",
      "    'qual': float64\n",
      "    'filters': set<str>\n",
      "    'info': struct {\n",
      "        AC: array<int32>, \n",
      "        AF: array<float64>, \n",
      "        AN: int32, \n",
      "        BaseQRankSum: float64, \n",
      "        ClippingRankSum: float64, \n",
      "        DB: bool, \n",
      "        DP: int32, \n",
      "        ExcessHet: float64, \n",
      "        FS: float64, \n",
      "        InbreedingCoeff: float64, \n",
      "        MLEAC: array<int32>, \n",
      "        MLEAF: array<float64>, \n",
      "        MQ: float64, \n",
      "        MQRankSum: float64, \n",
      "        QD: float64, \n",
      "        ReadPosRankSum: float64, \n",
      "        SOR: float64\n",
      "    }\n",
      "----------------------------------------\n",
      "Entry fields:\n",
      "    'AD': array<int32>\n",
      "    'DP': int32\n",
      "    'GQ': int32\n",
      "    'GT': call\n",
      "    'PGT': call\n",
      "    'PID': str\n",
      "    'PL': array<int32>\n",
      "----------------------------------------\n",
      "Column key: ['s']\n",
      "Row key: ['locus', 'alleles']\n",
      "----------------------------------------\n"
     ]
    }
   ],
   "source": [
    "mt.describe()"
   ]
  },
  {
   "cell_type": "markdown",
   "metadata": {},
   "source": [
    "## annotate with phenotypes"
   ]
  },
  {
   "cell_type": "code",
   "execution_count": 4,
   "metadata": {},
   "outputs": [
    {
     "name": "stderr",
     "output_type": "stream",
     "text": [
      "2019-12-02 14:12:42 Hail: INFO: Reading table to impute column types\n",
      "2019-12-02 14:12:42 Hail: INFO: Finished type imputation\n",
      "  Loading column 'ID' as type 'str' (imputed)\n",
      "  Loading column 'family' as type 'str' (imputed)\n",
      "  Loading column 'sex' as type 'str' (imputed)\n",
      "  Loading column 'kinship' as type 'str' (imputed)\n",
      "  Loading column 'disease' as type 'str' (imputed)\n",
      "  Loading column 'phenotype' as type 'str' (imputed)\n",
      "  Loading column 'add_pheno' as type 'str' (imputed)\n",
      "  Loading column 'heavy_tics' as type 'str' (imputed)\n"
     ]
    }
   ],
   "source": [
    "pheno = hl.import_table('GTS-coded.csv', delimiter = ',', impute = True, key = 'ID')"
   ]
  },
  {
   "cell_type": "code",
   "execution_count": 5,
   "metadata": {},
   "outputs": [],
   "source": [
    "mt = mt.annotate_cols(phenotypes = pheno[mt.s])"
   ]
  },
  {
   "cell_type": "markdown",
   "metadata": {},
   "source": [
    "## split multiallelic sites"
   ]
  },
  {
   "cell_type": "code",
   "execution_count": 6,
   "metadata": {},
   "outputs": [],
   "source": [
    "mt = hl.split_multi_hts(mt) "
   ]
  },
  {
   "cell_type": "markdown",
   "metadata": {},
   "source": [
    "## filter 'bad' samples (based on PCA conducted before)"
   ]
  },
  {
   "cell_type": "code",
   "execution_count": 8,
   "metadata": {},
   "outputs": [],
   "source": [
    "mt = mt.filter_cols(mt.s != 'WGS_139', keep = True)\n",
    "mt = mt.filter_cols(mt.s != 'WGS_D6816', keep = True)"
   ]
  },
  {
   "cell_type": "markdown",
   "metadata": {},
   "source": [
    "## PCA on Y chromosome"
   ]
  },
  {
   "cell_type": "code",
   "execution_count": 9,
   "metadata": {},
   "outputs": [],
   "source": [
    "Y = mt.filter_rows(mt.locus.contig == \"chrY\")"
   ]
  },
  {
   "cell_type": "code",
   "execution_count": null,
   "metadata": {},
   "outputs": [],
   "source": [
    "eigenvalues, pcs, _ = hl.hwe_normalized_pca(Y.GT)"
   ]
  },
  {
   "cell_type": "code",
   "execution_count": 17,
   "metadata": {},
   "outputs": [
    {
     "name": "stdout",
     "output_type": "stream",
     "text": [
      "[7.220018436311927,\n",
      " 4.887517040285935,\n",
      " 4.1550912814250776,\n",
      " 3.057174558588287,\n",
      " 2.5849097434029624,\n",
      " 2.49667395694016,\n",
      " 2.2153717767345036,\n",
      " 2.1631550557112367,\n",
      " 1.9738811325109469,\n",
      " 1.8308060373916755]\n"
     ]
    }
   ],
   "source": [
    "pprint(eigenvalues)"
   ]
  },
  {
   "cell_type": "code",
   "execution_count": 18,
   "metadata": {},
   "outputs": [
    {
     "data": {
      "text/html": [
       "<table><thead style=\"font-weight: bold;\"><tr><td>s</td><td>scores</td></tr>\n",
       "<tr><td>str</td><td>array&lt;float64&gt;</td></tr>\n",
       "</thead><tbody><tr><td>&quot;S_136&quot;</td><td>[1.38e-01,-1.41e-01,-9.40e-02,1.79e-02,-4.09e-02,-1.25e-02,3.76e-02,3.06e-02,-6.59e-02,-1.60e...</td></tr>\n",
       "<tr><td>&quot;S_170c&quot;</td><td>[1.46e-01,-1.46e-01,-9.25e-02,2.17e-02,-4.95e-02,-1.86e-02,2.41e-02,3.74e-02,-8.90e-02,-2.09e...</td></tr>\n",
       "<tr><td>&quot;S_170d&quot;</td><td>[1.23e-01,-1.42e-01,-9.11e-02,2.20e-02,-4.93e-02,-1.27e-02,3.45e-02,2.85e-02,-7.24e-02,-1.45e...</td></tr>\n",
       "<tr><td>&quot;S_6981&quot;</td><td>[1.56e-01,1.88e-01,3.80e-01,1.59e-01,-1.40e-01,2.46e-02,-9.76e-03,2.19e-01,-1.90e-02,2.43e-03]</td></tr>\n",
       "<tr><td>&quot;S_6982&quot;</td><td>[-2.75e-01,6.86e-03,2.16e-03,2.38e-03,-7.11e-03,4.22e-03,2.75e-02,1.49e-02,-1.27e-04,8.51e-03]</td></tr>\n",
       "</tbody></table><p style=\"background: #fdd; padding: 0.4em;\">showing top 5 rows</p>\n"
      ],
      "text/plain": [
       "+----------+\n",
       "| s        |\n",
       "+----------+\n",
       "| str      |\n",
       "+----------+\n",
       "| \"S_136\"  |\n",
       "| \"S_170c\" |\n",
       "| \"S_170d\" |\n",
       "| \"S_6981\" |\n",
       "| \"S_6982\" |\n",
       "+----------+\n",
       "\n",
       "+--------------------------------------------------------------------------------------------------+\n",
       "| scores                                                                                           |\n",
       "+--------------------------------------------------------------------------------------------------+\n",
       "| array<float64>                                                                                   |\n",
       "+--------------------------------------------------------------------------------------------------+\n",
       "| [1.38e-01,-1.41e-01,-9.40e-02,1.79e-02,-4.09e-02,-1.25e-02,3.76e-02,3.06e-02,-6.59e-02,-1.60e... |\n",
       "| [1.46e-01,-1.46e-01,-9.25e-02,2.17e-02,-4.95e-02,-1.86e-02,2.41e-02,3.74e-02,-8.90e-02,-2.09e... |\n",
       "| [1.23e-01,-1.42e-01,-9.11e-02,2.20e-02,-4.93e-02,-1.27e-02,3.45e-02,2.85e-02,-7.24e-02,-1.45e... |\n",
       "| [1.56e-01,1.88e-01,3.80e-01,1.59e-01,-1.40e-01,2.46e-02,-9.76e-03,2.19e-01,-1.90e-02,2.43e-03]   |\n",
       "| [-2.75e-01,6.86e-03,2.16e-03,2.38e-03,-7.11e-03,4.22e-03,2.75e-02,1.49e-02,-1.27e-04,8.51e-03]   |\n",
       "+--------------------------------------------------------------------------------------------------+\n",
       "showing top 5 rows"
      ]
     },
     "metadata": {},
     "output_type": "display_data"
    }
   ],
   "source": [
    "pcs.show(5, width=100)"
   ]
  },
  {
   "cell_type": "code",
   "execution_count": 24,
   "metadata": {},
   "outputs": [],
   "source": [
    "Y = Y.annotate_cols(scores = pcs[Y.s].scores)"
   ]
  },
  {
   "cell_type": "code",
   "execution_count": 37,
   "metadata": {
    "scrolled": false
   },
   "outputs": [
    {
     "name": "stderr",
     "output_type": "stream",
     "text": [
      "2019-12-03 08:21:46 Hail: INFO: reading 3 of 591 data partitions\n"
     ]
    },
    {
     "data": {
      "text/html": [
       "\n",
       "\n",
       "\n",
       "\n",
       "\n",
       "\n",
       "  <div class=\"bk-root\" id=\"5adac540-b135-4cc6-9ea1-be729b11e89a\" data-root-id=\"2909\"></div>\n"
      ]
     },
     "metadata": {},
     "output_type": "display_data"
    },
    {
     "data": {
      "application/javascript": [
       "(function(root) {\n",
       "  function embed_document(root) {\n",
       "    \n",
       "  var docs_json = {\"46447c20-5768-40b2-86cf-5ed069315bab\":{\"roots\":{\"references\":[{\"attributes\":{\"below\":[{\"id\":\"2920\",\"type\":\"LinearAxis\"}],\"center\":[{\"id\":\"2924\",\"type\":\"Grid\"},{\"id\":\"2929\",\"type\":\"Grid\"}],\"left\":[{\"id\":\"2925\",\"type\":\"LinearAxis\"},{\"id\":\"2961\",\"type\":\"Legend\"},{\"id\":\"2962\",\"type\":\"ColorBar\"}],\"plot_height\":800,\"plot_width\":800,\"renderers\":[{\"id\":\"2952\",\"type\":\"GlyphRenderer\"},{\"id\":\"2958\",\"type\":\"GlyphRenderer\"}],\"title\":{\"id\":\"2910\",\"type\":\"Title\"},\"toolbar\":{\"id\":\"2936\",\"type\":\"Toolbar\"},\"x_range\":{\"id\":\"2912\",\"type\":\"DataRange1d\"},\"x_scale\":{\"id\":\"2916\",\"type\":\"LinearScale\"},\"y_range\":{\"id\":\"2914\",\"type\":\"DataRange1d\"},\"y_scale\":{\"id\":\"2918\",\"type\":\"LinearScale\"}},\"id\":\"2909\",\"subtype\":\"Figure\",\"type\":\"Plot\"},{\"attributes\":{},\"id\":\"3061\",\"type\":\"BasicTickFormatter\"},{\"attributes\":{\"fill_alpha\":{\"value\":0.1},\"fill_color\":{\"value\":\"#1f77b4\"},\"line_alpha\":{\"value\":0.1},\"line_color\":{\"value\":\"#1f77b4\"},\"x\":{\"field\":\"x\"},\"y\":{\"field\":\"y\"}},\"id\":\"2957\",\"type\":\"Circle\"},{\"attributes\":{\"fill_color\":{\"field\":\"label\",\"transform\":{\"id\":\"2946\",\"type\":\"CategoricalColorMapper\"}},\"line_color\":{\"field\":\"label\",\"transform\":{\"id\":\"2946\",\"type\":\"CategoricalColorMapper\"}},\"x\":{\"field\":\"x\"},\"y\":{\"field\":\"y\"}},\"id\":\"2956\",\"type\":\"Circle\"},{\"attributes\":{\"axis_label\":\"PC2\",\"formatter\":{\"id\":\"3061\",\"type\":\"BasicTickFormatter\"},\"ticker\":{\"id\":\"2926\",\"type\":\"BasicTicker\"}},\"id\":\"2925\",\"type\":\"LinearAxis\"},{\"attributes\":{\"ticker\":{\"id\":\"2921\",\"type\":\"BasicTicker\"}},\"id\":\"2924\",\"type\":\"Grid\"},{\"attributes\":{},\"id\":\"2926\",\"type\":\"BasicTicker\"},{\"attributes\":{\"active_drag\":\"auto\",\"active_inspect\":\"auto\",\"active_multi\":null,\"active_scroll\":\"auto\",\"active_tap\":\"auto\",\"tools\":[{\"id\":\"2930\",\"type\":\"PanTool\"},{\"id\":\"2931\",\"type\":\"WheelZoomTool\"},{\"id\":\"2932\",\"type\":\"BoxZoomTool\"},{\"id\":\"2933\",\"type\":\"SaveTool\"},{\"id\":\"2934\",\"type\":\"ResetTool\"},{\"id\":\"2935\",\"type\":\"HelpTool\"},{\"id\":\"2944\",\"type\":\"HoverTool\"}]},\"id\":\"2936\",\"type\":\"Toolbar\"},{\"attributes\":{\"axis_label\":\"PC1\",\"formatter\":{\"id\":\"3065\",\"type\":\"BasicTickFormatter\"},\"ticker\":{\"id\":\"2921\",\"type\":\"BasicTicker\"}},\"id\":\"2920\",\"type\":\"LinearAxis\"},{\"attributes\":{},\"id\":\"2921\",\"type\":\"BasicTicker\"},{\"attributes\":{\"callback\":null,\"data\":{\"index\":[0,1,2,3,4,5,6,7,8,9,10,11,12,13,14,15,16,17,18,19,20,21,22,23,24,25,26,27,28,29,30,31,32,33,34,35,36,37,38,39,40,41,42,43,44,45,46,47,48,49,50,51,52,53,54,55,56,57,58,59,60,61,62,63,64,65,66,67,68,69,70,71,72,73,74,75,76,77,78,79,80,81,82,83,84,85,86,87,88,89,90,91,92,93,94,95,96,97,98,99,100,101,102,103,104,105,106,107,108,109,110,111,112,113,114,115,116,117,118,119,120,121,122,123,124,125,126,127,128,129,130,131,132,133,134,135,136,137,138,139,140,141,142],\"label\":[\"F\",\"F\",\"F\",\"F\",\"F\",\"F\",\"F\",\"F\",\"F\",\"F\",\"F\",\"F\",\"F\",\"F\",\"F\",\"F\",\"F\",\"F\",\"F\",\"F\",\"F\",\"F\",\"F\",\"F\",\"F\",\"F\",\"F\",\"F\",\"F\",\"F\",\"F\",\"F\",\"F\",\"F\",\"F\",\"F\",\"F\",\"F\",\"F\",\"F\",\"F\",\"F\",\"F\",\"F\",\"F\",\"F\",\"F\",\"F\",\"F\",\"F\",\"M\",\"M\",\"M\",\"M\",\"M\",\"M\",\"M\",\"M\",\"M\",\"M\",\"M\",\"M\",\"M\",\"M\",\"M\",\"M\",\"M\",\"M\",\"M\",\"M\",\"M\",\"M\",\"M\",\"M\",\"M\",\"M\",\"M\",\"M\",\"M\",\"M\",\"M\",\"M\",\"M\",\"M\",\"M\",\"M\",\"M\",\"M\",\"M\",\"M\",\"M\",\"M\",\"M\",\"M\",\"M\",\"M\",\"M\",\"M\",\"M\",\"M\",\"M\",\"M\",\"M\",\"M\",\"M\",\"M\",\"M\",\"M\",\"M\",\"M\",\"M\",\"M\",\"M\",\"M\",\"M\",\"M\",\"M\",\"M\",\"M\",\"M\",\"M\",\"M\",\"M\",\"M\",\"M\",\"M\",\"M\",\"M\",\"M\",\"M\",\"M\",\"M\",\"M\",\"M\",\"M\",\"M\",\"M\",\"M\",\"M\",\"M\",\"M\",\"M\",\"M\"],\"x\":{\"__ndarray__\":\"kxq/r44x2L9oyw0t8y7Wv/tIgss6Q9W/acWH+8qf1L+eCMbD93HUv1SQZi5eZ9S/T3893pRq1L9ywm8zVC/Uv1fG7IqLD9S/4Wd4rdsc1L9DNpPaexjUv0R2d9et7dO/E9IsIpGk07/xyqnML5HTv4Z129wTjNO/suekSOh807+wMde0OWjTv22zGbfgTdO/WzdiOlcU07/rIcKCCRDTv5p6icG729K/iQ94USXl0r/bH9sEMNDSvwzHW8ZbnNK/mrBh9IuG0r92xrifJ4PSv3K5QhBfZtK/7i95i9oY0r+ydI8uGAzSv6p8g1c499G/GfkGCRPw0b8nyD+bv83Rv1bIg5xDw9G/EbHIqlTC0b/aZ+FdXa7RvxFsVva6t9G/WzEexUGX0b8GMPKkuHHRv0mdMhSQb9G/TY8fXKdc0b9EMsFixxvRv6H6CpcjFNG/p0peVBgL0b/AOJJjgN3Qv092aU2FqtC/bw9JNoGv0L8xY9rm/ljQv533LztYl86/20pM0EsMzr/cEKWfIeDNv12vmquuyL0/LYAEB3Odvj+Y5Av3H4q/P2tLfg6yh8A/EUUDE82AwD+zn8HTrr3AP/Aw975RpcE/VkB5JJG+wT8rF3WwvPfBP85OLOqh+cE/TJjOOq7uwT9VxC2l+iDCPyAgfUVhGcI/frdX0Kslwj+wb5deGEPCP/vgixhHRcI/LGZi3Id9wj82LzXPkm7CP841MEAYicI/fqvMgp1mwj95x9GWYHjCPwIDOXo5fsI/vRKgySOrwj/3Fuo0MajCP/puRdMsBsM/rNkZH2X1wj+vah301iLDP5Gz8BDDHsM/EuBrID1Bwz+22Fc1YVfDP6bi8dsIZMM/iQfuXkddwz8hWp7cb3PDPwX97T9jX8M/zZ5DK7mgwz92xnForZrDP3v0302+lcM/P9e7I2XKwz/jBEadHerDPwYlDSKi38M/uwuRecXTwz8Z84KOCQ/EP5kyYxkUJMQ/iej6+B8jxD+e6n8VXBzEPy3HS++QAcQ/uY40bkIOxD/UJsSIxivEP2UQTdIhJsQ/0I3Aij1yxD+KJhEo5WrEP6ipXNUPjcQ/gZofmhOXxD9sui/SQZvEP4Zcx+raxcQ/gbk2qgiqxD9fr0k1h9vEP+f7kwKTJ8U/O0ZbkOhixT+3KrzV/VHFP5MTTeZ7V8U/QR1IC9lTxT/F74hc2EPFPy5b8sRVkMU/6BMi2oWjxT/XBlKSOrfFPwLcPd/Y5cU/l631GlD+xT/QftyaJejFPy6z0Stx9sU/yI58NrN1xj9vH/O5mpjGP5aUclrT0MY/tqvqxRgqxz/qeHkqGZvHP21D401Yxcc/Y6ZI0km8xz/rgf7mij3IP4xeRw707sg/+2FbPGzHyD/vxyPBpyPJP4UTcIiONsk/woVHeDqSyT83WtaRnnXJP6gMQzPhnck/fNPRa/UByz8NE5xNyurLP0/rGdHU7Mw/N2GdrSS0zj8PAXDbZz/PP4Oi6S1Blc8/DF7b7gF8zz/nFCVEWbDPPw==\",\"dtype\":\"float64\",\"shape\":[143]},\"y\":{\"__ndarray__\":\"w6vEqHE/ML8w2E1Fa50jv9lvy32oFhk/6YLIFguLfT9So1Ziywx0P0iQm9Sp3lg/SBH/G/IziD+pcej8UihjP7zrDyZIxlC/IfrXVoWocD/Ea8+MfDZ6Px34hReIFiS/2FoXLzEyhj8eHSfiMxRSP3xOXD1A+Hg/fdpSuX7LgT+AyufJ8rdnv+eBbOrPW4M/RTmcNb9/QT/dZn22JoN+P0mtPeHsQVq/E1LIKenTOj8CmqRgjw6BP+en9kTiKGi/OPGkRSY/iD/M0ONrkAUtP1CIBWg1j3A/CjJkvGQGdT9Q+SzGIN+CP8rMTi93cH0/X197JK0FhT/IAkwSELJHPwny4bRsUW4/u01baiXcez/FLI/pV2VnP0Pce2Xvm4Y/UBOq9OEUfD/00Ep331qAP9Anp/DUxIk/XQQ6hZiIaj9Td1JY/ctoP6S7ouUT4oA/G9kHi7uegz/jqTU0V8B7P4YvWWM72FE/m2mL5+3qZT+7oCZom99WP3gOjdH17mc/TOjkN/5ybj90twnC9Adjv/flfoMWN8O/x7ArloALtb8W9z3yaifCvwwmDiq2Sra/GhpiYlTUnr9eM6JMUtrAPwAQZ+1nFsK/Tx7rtlEytb8NcZYKFt/Bv6O4wyNX8bW/tYjlRSonyD/VTjBomyHCv5C2gN1nurW/9O7QSQsTlb+X4C6AHsXCv0qvckzjecA/6yHCleeXwr95BqFMPjvBv2FJUs7pF7W/7mMmpxEcvz/CiasvKC7AP/30Q1+ZWMc/tO6HKxGhwr8daC8JU5vIP86L83zfrMG/x2PnNBpOyD8tOi9h5oXCvzBwRUGflLa/PmpUBTnKwb/Xz/1NBU3AP4/J04zo3cG/4IfFsuNfwb8sE6IaOMXAv8HSoox/iLS/hcO4q16gwb/61Yn5Nee+vyecAn8H3Mc/m5yEwlYjw79CN/Ys8ufBv2nwHRSuXsC/heoGLPAmyD/kYrvMKwfCv11s9Mr2qsG/tI7aSUmJwb+PCtjWra2zv0kfDSVeC8g/auq3JitB7D8eoOg7pijBv8Ho++qomrS/ABlaCFYVwb/5OtsfP8jGP0njPK6+f8G/+lFAszPEs7/kAXCSo6THP7PPuTsVUMC/hTsOnmU2vj/4g4T7/F7AvyPqd4aXTcG/uimmHW7Twr/p/h8GppXBv9FrRebexcC/lYRae71EwD8pxoGr39DFP5/Z5Ku6rcU/ZKMGKui7xD+8A2zBqFrFP9RY0JGyScG/JlojMco0wr/RCVbpz8m1vwbFjmktccQ/dPTpqs6Jwr+8gWrnB3i9P0tU/YjMbcG/E1QUO7J17T812Y2FJIzBv4UFWEY40cC/gpkYo2foxj+cEFfaiPO0v72eLPMRYsG/QHcJWVeswL/GbRJdWYjBvz/dX8ctDcG/jqRdQ/zUxj9SWy3IQTXsP2uig0ZyesG/lFqdEjlas78SvxjjlPLBv+KsVKp8LMY/BZwmICAMwr9BHD1UMPa7P4dt6Xqby8C/162XG60d7D8PGjdA6DLCvw==\",\"dtype\":\"float64\",\"shape\":[143]}},\"selected\":{\"id\":\"3068\",\"type\":\"Selection\"},\"selection_policy\":{\"id\":\"3067\",\"type\":\"UnionRenderers\"}},\"id\":\"2945\",\"type\":\"ColumnDataSource\"},{\"attributes\":{\"fill_alpha\":{\"value\":0.1},\"fill_color\":{\"value\":\"#1f77b4\"},\"line_alpha\":{\"value\":0.1},\"line_color\":{\"value\":\"#1f77b4\"},\"x\":{\"field\":\"x\"},\"y\":{\"field\":\"y\"}},\"id\":\"2951\",\"type\":\"Circle\"},{\"attributes\":{\"filters\":[{\"id\":\"2947\",\"type\":\"GroupFilter\"}],\"source\":{\"id\":\"2945\",\"type\":\"ColumnDataSource\"}},\"id\":\"2948\",\"type\":\"CDSView\"},{\"attributes\":{\"callback\":null},\"id\":\"2912\",\"type\":\"DataRange1d\"},{\"attributes\":{\"label\":{\"value\":\"M\"},\"renderers\":[{\"id\":\"2958\",\"type\":\"GlyphRenderer\"}]},\"id\":\"2960\",\"type\":\"LegendItem\"},{\"attributes\":{\"filters\":[{\"id\":\"2953\",\"type\":\"GroupFilter\"}],\"source\":{\"id\":\"2945\",\"type\":\"ColumnDataSource\"}},\"id\":\"2954\",\"type\":\"CDSView\"},{\"attributes\":{},\"id\":\"2931\",\"type\":\"WheelZoomTool\"},{\"attributes\":{},\"id\":\"2918\",\"type\":\"LinearScale\"},{\"attributes\":{},\"id\":\"2930\",\"type\":\"PanTool\"},{\"attributes\":{},\"id\":\"2933\",\"type\":\"SaveTool\"},{\"attributes\":{},\"id\":\"3065\",\"type\":\"BasicTickFormatter\"},{\"attributes\":{},\"id\":\"3062\",\"type\":\"BasicTicker\"},{\"attributes\":{\"factors\":[\"M\",\"F\"],\"palette\":[\"#1f77b4\",\"#ff7f0e\",\"#2ca02c\",\"#d62728\",\"#9467bd\",\"#8c564b\",\"#e377c2\",\"#7f7f7f\",\"#bcbd22\",\"#17becf\"]},\"id\":\"2946\",\"type\":\"CategoricalColorMapper\"},{\"attributes\":{},\"id\":\"3068\",\"type\":\"Selection\"},{\"attributes\":{},\"id\":\"2934\",\"type\":\"ResetTool\"},{\"attributes\":{\"bottom_units\":\"screen\",\"fill_alpha\":{\"value\":0.5},\"fill_color\":{\"value\":\"lightgrey\"},\"left_units\":\"screen\",\"level\":\"overlay\",\"line_alpha\":{\"value\":1.0},\"line_color\":{\"value\":\"black\"},\"line_dash\":[4,4],\"line_width\":{\"value\":2},\"render_mode\":\"css\",\"right_units\":\"screen\",\"top_units\":\"screen\"},\"id\":\"3066\",\"type\":\"BoxAnnotation\"},{\"attributes\":{\"dimension\":1,\"ticker\":{\"id\":\"2926\",\"type\":\"BasicTicker\"}},\"id\":\"2929\",\"type\":\"Grid\"},{\"attributes\":{\"column_name\":\"label\",\"group\":\"F\"},\"id\":\"2947\",\"type\":\"GroupFilter\"},{\"attributes\":{\"column_name\":\"label\",\"group\":\"M\"},\"id\":\"2953\",\"type\":\"GroupFilter\"},{\"attributes\":{\"data_source\":{\"id\":\"2945\",\"type\":\"ColumnDataSource\"},\"glyph\":{\"id\":\"2950\",\"type\":\"Circle\"},\"hover_glyph\":null,\"muted_glyph\":null,\"nonselection_glyph\":{\"id\":\"2951\",\"type\":\"Circle\"},\"selection_glyph\":null,\"view\":{\"id\":\"2948\",\"type\":\"CDSView\"}},\"id\":\"2952\",\"type\":\"GlyphRenderer\"},{\"attributes\":{},\"id\":\"3063\",\"type\":\"BasicTickFormatter\"},{\"attributes\":{\"callback\":null},\"id\":\"2914\",\"type\":\"DataRange1d\"},{\"attributes\":{\"callback\":null,\"tooltips\":[[\"x\",\"@x\"],[\"y\",\"@y\"],[\"label\",\"@label\"]]},\"id\":\"2944\",\"type\":\"HoverTool\"},{\"attributes\":{},\"id\":\"2935\",\"type\":\"HelpTool\"},{\"attributes\":{\"label\":{\"value\":\"F\"},\"renderers\":[{\"id\":\"2952\",\"type\":\"GlyphRenderer\"}]},\"id\":\"2959\",\"type\":\"LegendItem\"},{\"attributes\":{\"data_source\":{\"id\":\"2945\",\"type\":\"ColumnDataSource\"},\"glyph\":{\"id\":\"2956\",\"type\":\"Circle\"},\"hover_glyph\":null,\"muted_glyph\":null,\"nonselection_glyph\":{\"id\":\"2957\",\"type\":\"Circle\"},\"selection_glyph\":null,\"view\":{\"id\":\"2954\",\"type\":\"CDSView\"}},\"id\":\"2958\",\"type\":\"GlyphRenderer\"},{\"attributes\":{\"click_policy\":\"hide\",\"items\":[{\"id\":\"2959\",\"type\":\"LegendItem\"},{\"id\":\"2960\",\"type\":\"LegendItem\"}]},\"id\":\"2961\",\"type\":\"Legend\"},{\"attributes\":{\"overlay\":{\"id\":\"3066\",\"type\":\"BoxAnnotation\"}},\"id\":\"2932\",\"type\":\"BoxZoomTool\"},{\"attributes\":{\"fill_color\":{\"field\":\"label\",\"transform\":{\"id\":\"2946\",\"type\":\"CategoricalColorMapper\"}},\"line_color\":{\"field\":\"label\",\"transform\":{\"id\":\"2946\",\"type\":\"CategoricalColorMapper\"}},\"x\":{\"field\":\"x\"},\"y\":{\"field\":\"y\"}},\"id\":\"2950\",\"type\":\"Circle\"},{\"attributes\":{\"color_mapper\":null,\"formatter\":{\"id\":\"3063\",\"type\":\"BasicTickFormatter\"},\"ticker\":{\"id\":\"3062\",\"type\":\"BasicTicker\"},\"visible\":false},\"id\":\"2962\",\"type\":\"ColorBar\"},{\"attributes\":{},\"id\":\"3067\",\"type\":\"UnionRenderers\"},{\"attributes\":{},\"id\":\"2916\",\"type\":\"LinearScale\"},{\"attributes\":{\"text\":\"PCA\"},\"id\":\"2910\",\"type\":\"Title\"}],\"root_ids\":[\"2909\"]},\"title\":\"Bokeh Application\",\"version\":\"1.2.0\"}};\n",
       "  var render_items = [{\"docid\":\"46447c20-5768-40b2-86cf-5ed069315bab\",\"roots\":{\"2909\":\"5adac540-b135-4cc6-9ea1-be729b11e89a\"}}];\n",
       "  root.Bokeh.embed.embed_items_notebook(docs_json, render_items);\n",
       "\n",
       "  }\n",
       "  if (root.Bokeh !== undefined) {\n",
       "    embed_document(root);\n",
       "  } else {\n",
       "    var attempts = 0;\n",
       "    var timer = setInterval(function(root) {\n",
       "      if (root.Bokeh !== undefined) {\n",
       "        embed_document(root);\n",
       "        clearInterval(timer);\n",
       "      }\n",
       "      attempts++;\n",
       "      if (attempts > 100) {\n",
       "        console.log(\"Bokeh: ERROR: Unable to run BokehJS code because BokehJS library is missing\");\n",
       "        clearInterval(timer);\n",
       "      }\n",
       "    }, 10, root)\n",
       "  }\n",
       "})(window);"
      ],
      "application/vnd.bokehjs_exec.v0+json": ""
     },
     "metadata": {
      "application/vnd.bokehjs_exec.v0+json": {
       "id": "2909"
      }
     },
     "output_type": "display_data"
    }
   ],
   "source": [
    "p = hl.plot.scatter(Y.scores[0],\n",
    "                    Y.scores[1],\n",
    "                    label=Y.phenotypes.sex,\n",
    "                    title='PCA', xlabel='PC1', ylabel='PC2')\n",
    "show(p)"
   ]
  },
  {
   "cell_type": "markdown",
   "metadata": {},
   "source": [
    "## analyze DP and GQ for X chromosomes"
   ]
  },
  {
   "cell_type": "code",
   "execution_count": 26,
   "metadata": {},
   "outputs": [],
   "source": [
    "X = mt.filter_rows(mt.locus.contig == \"chrX\")"
   ]
  },
  {
   "cell_type": "code",
   "execution_count": 28,
   "metadata": {},
   "outputs": [],
   "source": [
    "X_f = X.filter_cols(X.phenotypes.sex == 'F')"
   ]
  },
  {
   "cell_type": "code",
   "execution_count": 29,
   "metadata": {},
   "outputs": [
    {
     "name": "stderr",
     "output_type": "stream",
     "text": [
      "2019-12-02 15:15:07 Hail: INFO: reading 19 of 591 data partitions\n",
      "2019-12-02 15:15:17 Hail: INFO: reading 19 of 591 data partitions\n"
     ]
    },
    {
     "data": {
      "text/plain": [
       "(720713, 54)"
      ]
     },
     "execution_count": 29,
     "metadata": {},
     "output_type": "execute_result"
    }
   ],
   "source": [
    "X_f.count()"
   ]
  },
  {
   "cell_type": "code",
   "execution_count": 30,
   "metadata": {},
   "outputs": [],
   "source": [
    "X_m = X.filter_cols(X.phenotypes.sex == 'M')"
   ]
  },
  {
   "cell_type": "code",
   "execution_count": 58,
   "metadata": {},
   "outputs": [],
   "source": [
    "X_m_hets = X_m.filter_rows(hl.agg.any(X_m.GT.is_het()))\n",
    "X_m_homs = X_m.filter_rows(hl.agg.any(X_m.GT.is_het()), keep = False)"
   ]
  },
  {
   "cell_type": "code",
   "execution_count": 59,
   "metadata": {},
   "outputs": [
    {
     "name": "stderr",
     "output_type": "stream",
     "text": [
      "2019-12-03 10:04:09 Hail: INFO: reading 19 of 591 data partitions\n",
      "2019-12-03 10:04:22 Hail: INFO: reading 19 of 591 data partitions\n"
     ]
    },
    {
     "data": {
      "text/plain": [
       "(307733, 95)"
      ]
     },
     "execution_count": 59,
     "metadata": {},
     "output_type": "execute_result"
    }
   ],
   "source": [
    "X_m_hets.count()"
   ]
  },
  {
   "cell_type": "code",
   "execution_count": 60,
   "metadata": {},
   "outputs": [
    {
     "name": "stderr",
     "output_type": "stream",
     "text": [
      "2019-12-03 10:05:37 Hail: INFO: reading 19 of 591 data partitions\n",
      "2019-12-03 10:05:50 Hail: INFO: reading 19 of 591 data partitions\n"
     ]
    },
    {
     "data": {
      "text/plain": [
       "(412980, 95)"
      ]
     },
     "execution_count": 60,
     "metadata": {},
     "output_type": "execute_result"
    }
   ],
   "source": [
    "X_m_homs.count()"
   ]
  },
  {
   "cell_type": "code",
   "execution_count": 48,
   "metadata": {},
   "outputs": [],
   "source": [
    "X_m_het = X_m.filter_entries(X_m.GT.is_het())\n",
    "X_m_hom = X_m.filter_entries(X_m.GT.is_het(), keep = False)"
   ]
  },
  {
   "cell_type": "code",
   "execution_count": 56,
   "metadata": {},
   "outputs": [
    {
     "name": "stderr",
     "output_type": "stream",
     "text": [
      "2019-12-03 09:27:56 Hail: INFO: reading 19 of 591 data partitions\n",
      "2019-12-03 09:29:14 Hail: INFO: reading 19 of 591 data partitions\n",
      "2019-12-03 09:30:32 Hail: INFO: reading 19 of 591 data partitions\n",
      "2019-12-03 09:31:51 Hail: INFO: reading 19 of 591 data partitions\n"
     ]
    },
    {
     "data": {
      "text/html": [
       "\n",
       "\n",
       "\n",
       "\n",
       "\n",
       "\n",
       "  <div class=\"bk-root\" id=\"993851b9-94bb-4a78-b812-d0c0f6205589\" data-root-id=\"6520\"></div>\n"
      ]
     },
     "metadata": {},
     "output_type": "display_data"
    },
    {
     "data": {
      "application/javascript": [
       "(function(root) {\n",
       "  function embed_document(root) {\n",
       "    \n",
       "  var docs_json = {\"e256b25c-0a76-4559-b565-40aaab53624c\":{\"roots\":{\"references\":[{\"attributes\":{\"children\":[{\"id\":\"6519\",\"type\":\"ToolbarBox\"},{\"id\":\"6517\",\"type\":\"GridBox\"}]},\"id\":\"6520\",\"type\":\"Column\"},{\"attributes\":{},\"id\":\"6314\",\"type\":\"SaveTool\"},{\"attributes\":{\"active_drag\":\"auto\",\"active_inspect\":\"auto\",\"active_multi\":null,\"active_scroll\":\"auto\",\"active_tap\":\"auto\",\"tools\":[{\"id\":\"6250\",\"type\":\"PanTool\"},{\"id\":\"6251\",\"type\":\"WheelZoomTool\"},{\"id\":\"6252\",\"type\":\"BoxZoomTool\"},{\"id\":\"6253\",\"type\":\"SaveTool\"},{\"id\":\"6254\",\"type\":\"ResetTool\"},{\"id\":\"6255\",\"type\":\"HelpTool\"}]},\"id\":\"6256\",\"type\":\"Toolbar\"},{\"attributes\":{\"bottom\":{\"value\":0},\"fill_color\":{\"value\":\"green\"},\"left\":{\"value\":50.0},\"right\":{\"value\":52.5},\"top\":{\"value\":58716}},\"id\":\"6460\",\"type\":\"Quad\"},{\"attributes\":{},\"id\":\"6250\",\"type\":\"PanTool\"},{\"attributes\":{\"callback\":null,\"data\":{},\"selected\":{\"id\":\"6493\",\"type\":\"Selection\"},\"selection_policy\":{\"id\":\"6492\",\"type\":\"UnionRenderers\"}},\"id\":\"6337\",\"type\":\"ColumnDataSource\"},{\"attributes\":{},\"id\":\"6299\",\"type\":\"LinearScale\"},{\"attributes\":{\"bottom_units\":\"screen\",\"fill_alpha\":{\"value\":0.5},\"fill_color\":{\"value\":\"lightgrey\"},\"left_units\":\"screen\",\"level\":\"overlay\",\"line_alpha\":{\"value\":1.0},\"line_color\":{\"value\":\"black\"},\"line_dash\":[4,4],\"line_width\":{\"value\":2},\"render_mode\":\"css\",\"right_units\":\"screen\",\"top_units\":\"screen\"},\"id\":\"6456\",\"type\":\"BoxAnnotation\"},{\"attributes\":{},\"id\":\"6297\",\"type\":\"LinearScale\"},{\"attributes\":{},\"id\":\"6455\",\"type\":\"BasicTickFormatter\"},{\"attributes\":{},\"id\":\"6251\",\"type\":\"WheelZoomTool\"},{\"attributes\":{\"bottom\":{\"value\":0},\"fill_alpha\":{\"value\":0.1},\"fill_color\":{\"value\":\"#1f77b4\"},\"left\":{\"value\":50.0},\"line_alpha\":{\"value\":0.1},\"line_color\":{\"value\":\"#1f77b4\"},\"right\":{\"value\":52.5},\"top\":{\"value\":58716}},\"id\":\"6461\",\"type\":\"Quad\"},{\"attributes\":{},\"id\":\"6349\",\"type\":\"Selection\"},{\"attributes\":{\"label\":{\"value\":\"DP\"},\"renderers\":[{\"id\":\"6327\",\"type\":\"GlyphRenderer\"}]},\"id\":\"6336\",\"type\":\"LegendItem\"},{\"attributes\":{\"label\":{\"value\":\"Outliers Above\"},\"renderers\":[{\"id\":\"6340\",\"type\":\"GlyphRenderer\"}]},\"id\":\"6350\",\"type\":\"LegendItem\"},{\"attributes\":{\"overlay\":{\"id\":\"6334\",\"type\":\"BoxAnnotation\"}},\"id\":\"6313\",\"type\":\"BoxZoomTool\"},{\"attributes\":{\"callback\":null,\"data\":{},\"selected\":{\"id\":\"6482\",\"type\":\"Selection\"},\"selection_policy\":{\"id\":\"6481\",\"type\":\"UnionRenderers\"}},\"id\":\"6276\",\"type\":\"ColumnDataSource\"},{\"attributes\":{},\"id\":\"6471\",\"type\":\"Selection\"},{\"attributes\":{\"data_source\":{\"id\":\"6337\",\"type\":\"ColumnDataSource\"},\"glyph\":{\"id\":\"6338\",\"type\":\"Quad\"},\"hover_glyph\":null,\"muted_glyph\":null,\"nonselection_glyph\":{\"id\":\"6339\",\"type\":\"Quad\"},\"selection_glyph\":null,\"view\":{\"id\":\"6341\",\"type\":\"CDSView\"}},\"id\":\"6340\",\"type\":\"GlyphRenderer\"},{\"attributes\":{\"source\":{\"id\":\"6276\",\"type\":\"ColumnDataSource\"}},\"id\":\"6280\",\"type\":\"CDSView\"},{\"attributes\":{\"label\":{\"value\":\"Outliers Above\"},\"renderers\":[{\"id\":\"6462\",\"type\":\"GlyphRenderer\"}]},\"id\":\"6472\",\"type\":\"LegendItem\"},{\"attributes\":{},\"id\":\"6316\",\"type\":\"HelpTool\"},{\"attributes\":{},\"id\":\"6470\",\"type\":\"UnionRenderers\"},{\"attributes\":{\"callback\":null,\"end\":52.5,\"start\":-2.5},\"id\":\"6293\",\"type\":\"Range1d\"},{\"attributes\":{},\"id\":\"6493\",\"type\":\"Selection\"},{\"attributes\":{\"label\":{\"value\":\"Outliers Above\"},\"renderers\":[{\"id\":\"6279\",\"type\":\"GlyphRenderer\"}]},\"id\":\"6289\",\"type\":\"LegendItem\"},{\"attributes\":{},\"id\":\"6333\",\"type\":\"BasicTickFormatter\"},{\"attributes\":{\"callback\":null},\"id\":\"6295\",\"type\":\"DataRange1d\"},{\"attributes\":{},\"id\":\"6255\",\"type\":\"HelpTool\"},{\"attributes\":{},\"id\":\"6492\",\"type\":\"UnionRenderers\"},{\"attributes\":{\"data_source\":{\"id\":\"6385\",\"type\":\"ColumnDataSource\"},\"glyph\":{\"id\":\"6386\",\"type\":\"Quad\"},\"hover_glyph\":null,\"muted_glyph\":null,\"nonselection_glyph\":{\"id\":\"6387\",\"type\":\"Quad\"},\"selection_glyph\":null,\"view\":{\"id\":\"6389\",\"type\":\"CDSView\"}},\"id\":\"6388\",\"type\":\"GlyphRenderer\"},{\"attributes\":{\"data_source\":{\"id\":\"6324\",\"type\":\"ColumnDataSource\"},\"glyph\":{\"id\":\"6325\",\"type\":\"Quad\"},\"hover_glyph\":null,\"muted_glyph\":null,\"nonselection_glyph\":{\"id\":\"6326\",\"type\":\"Quad\"},\"selection_glyph\":null,\"view\":{\"id\":\"6328\",\"type\":\"CDSView\"}},\"id\":\"6327\",\"type\":\"GlyphRenderer\"},{\"attributes\":{},\"id\":\"6504\",\"type\":\"Selection\"},{\"attributes\":{},\"id\":\"6302\",\"type\":\"BasicTicker\"},{\"attributes\":{},\"id\":\"6270\",\"type\":\"BasicTickFormatter\"},{\"attributes\":{},\"id\":\"6503\",\"type\":\"UnionRenderers\"},{\"attributes\":{\"bottom\":{\"value\":0},\"fill_alpha\":{\"value\":0.1},\"fill_color\":{\"value\":\"#1f77b4\"},\"left\":{\"value\":50.0},\"line_alpha\":{\"value\":0.1},\"line_color\":{\"value\":\"#1f77b4\"},\"right\":{\"value\":52.5},\"top\":{\"value\":78069}},\"id\":\"6278\",\"type\":\"Quad\"},{\"attributes\":{},\"id\":\"6312\",\"type\":\"WheelZoomTool\"},{\"attributes\":{\"text\":\"DP Histogram for X females\"},\"id\":\"6291\",\"type\":\"Title\"},{\"attributes\":{\"source\":{\"id\":\"6324\",\"type\":\"ColumnDataSource\"}},\"id\":\"6328\",\"type\":\"CDSView\"},{\"attributes\":{},\"id\":\"6315\",\"type\":\"ResetTool\"},{\"attributes\":{},\"id\":\"6307\",\"type\":\"BasicTicker\"},{\"attributes\":{\"axis_label\":\"Frequency\",\"formatter\":{\"id\":\"6331\",\"type\":\"BasicTickFormatter\"},\"ticker\":{\"id\":\"6307\",\"type\":\"BasicTicker\"}},\"id\":\"6306\",\"type\":\"LinearAxis\"},{\"attributes\":{\"axis_label\":\"DP\",\"formatter\":{\"id\":\"6394\",\"type\":\"BasicTickFormatter\"},\"ticker\":{\"id\":\"6363\",\"type\":\"BasicTicker\"}},\"id\":\"6362\",\"type\":\"LinearAxis\"},{\"attributes\":{},\"id\":\"6288\",\"type\":\"Selection\"},{\"attributes\":{\"source\":{\"id\":\"6337\",\"type\":\"ColumnDataSource\"}},\"id\":\"6341\",\"type\":\"CDSView\"},{\"attributes\":{\"items\":[{\"id\":\"6275\",\"type\":\"LegendItem\"},{\"id\":\"6289\",\"type\":\"LegendItem\"}]},\"id\":\"6274\",\"type\":\"Legend\"},{\"attributes\":{},\"id\":\"6331\",\"type\":\"BasicTickFormatter\"},{\"attributes\":{\"bottom\":{\"value\":0},\"fill_color\":{\"value\":\"green\"},\"left\":{\"value\":50.0},\"right\":{\"value\":52.5},\"top\":{\"value\":78069}},\"id\":\"6277\",\"type\":\"Quad\"},{\"attributes\":{\"callback\":null,\"data\":{\"left\":[0.0,2.5,5.0,7.5,10.0,12.5,15.0,17.5,20.0,22.5,25.0,27.5,30.0,32.5,35.0,37.5,40.0,42.5,45.0,47.5],\"right\":[2.5,5.0,7.5,10.0,12.5,15.0,17.5,20.0,22.5,25.0,27.5,30.0,32.5,35.0,37.5,40.0,42.5,45.0,47.5,50.0],\"top\":[735679,575903,1270133,1170847,2326887,2018160,3828819,3072390,6039796,3207137,4693771,2588755,2917159,1591588,1623440,461558,338780,124776,106584,63360]},\"selected\":{\"id\":\"6349\",\"type\":\"Selection\"},\"selection_policy\":{\"id\":\"6348\",\"type\":\"UnionRenderers\"}},\"id\":\"6324\",\"type\":\"ColumnDataSource\"},{\"attributes\":{},\"id\":\"6254\",\"type\":\"ResetTool\"},{\"attributes\":{},\"id\":\"6348\",\"type\":\"UnionRenderers\"},{\"attributes\":{},\"id\":\"6358\",\"type\":\"LinearScale\"},{\"attributes\":{\"callback\":null,\"data\":{},\"selected\":{\"id\":\"6515\",\"type\":\"Selection\"},\"selection_policy\":{\"id\":\"6514\",\"type\":\"UnionRenderers\"}},\"id\":\"6459\",\"type\":\"ColumnDataSource\"},{\"attributes\":{\"active_drag\":\"auto\",\"active_inspect\":\"auto\",\"active_multi\":null,\"active_scroll\":\"auto\",\"active_tap\":\"auto\",\"tools\":[{\"id\":\"6311\",\"type\":\"PanTool\"},{\"id\":\"6312\",\"type\":\"WheelZoomTool\"},{\"id\":\"6313\",\"type\":\"BoxZoomTool\"},{\"id\":\"6314\",\"type\":\"SaveTool\"},{\"id\":\"6315\",\"type\":\"ResetTool\"},{\"id\":\"6316\",\"type\":\"HelpTool\"}]},\"id\":\"6317\",\"type\":\"Toolbar\"},{\"attributes\":{},\"id\":\"6272\",\"type\":\"BasicTickFormatter\"},{\"attributes\":{},\"id\":\"6360\",\"type\":\"LinearScale\"},{\"attributes\":{\"tools\":[{\"id\":\"6250\",\"type\":\"PanTool\"},{\"id\":\"6251\",\"type\":\"WheelZoomTool\"},{\"id\":\"6252\",\"type\":\"BoxZoomTool\"},{\"id\":\"6253\",\"type\":\"SaveTool\"},{\"id\":\"6254\",\"type\":\"ResetTool\"},{\"id\":\"6255\",\"type\":\"HelpTool\"},{\"id\":\"6311\",\"type\":\"PanTool\"},{\"id\":\"6312\",\"type\":\"WheelZoomTool\"},{\"id\":\"6313\",\"type\":\"BoxZoomTool\"},{\"id\":\"6314\",\"type\":\"SaveTool\"},{\"id\":\"6315\",\"type\":\"ResetTool\"},{\"id\":\"6316\",\"type\":\"HelpTool\"},{\"id\":\"6372\",\"type\":\"PanTool\"},{\"id\":\"6373\",\"type\":\"WheelZoomTool\"},{\"id\":\"6374\",\"type\":\"BoxZoomTool\"},{\"id\":\"6375\",\"type\":\"SaveTool\"},{\"id\":\"6376\",\"type\":\"ResetTool\"},{\"id\":\"6377\",\"type\":\"HelpTool\"},{\"id\":\"6433\",\"type\":\"PanTool\"},{\"id\":\"6434\",\"type\":\"WheelZoomTool\"},{\"id\":\"6435\",\"type\":\"BoxZoomTool\"},{\"id\":\"6436\",\"type\":\"SaveTool\"},{\"id\":\"6437\",\"type\":\"ResetTool\"},{\"id\":\"6438\",\"type\":\"HelpTool\"}]},\"id\":\"6518\",\"type\":\"ProxyToolbar\"},{\"attributes\":{\"items\":[{\"id\":\"6336\",\"type\":\"LegendItem\"},{\"id\":\"6350\",\"type\":\"LegendItem\"}]},\"id\":\"6335\",\"type\":\"Legend\"},{\"attributes\":{\"background_fill_color\":{\"value\":\"#EEEEEE\"},\"below\":[{\"id\":\"6301\",\"type\":\"LinearAxis\"}],\"center\":[{\"id\":\"6305\",\"type\":\"Grid\"},{\"id\":\"6310\",\"type\":\"Grid\"},{\"id\":\"6335\",\"type\":\"Legend\"}],\"left\":[{\"id\":\"6306\",\"type\":\"LinearAxis\"}],\"plot_height\":500,\"plot_width\":500,\"renderers\":[{\"id\":\"6327\",\"type\":\"GlyphRenderer\"},{\"id\":\"6340\",\"type\":\"GlyphRenderer\"}],\"title\":{\"id\":\"6291\",\"type\":\"Title\"},\"toolbar\":{\"id\":\"6317\",\"type\":\"Toolbar\"},\"toolbar_location\":null,\"x_range\":{\"id\":\"6293\",\"type\":\"Range1d\"},\"x_scale\":{\"id\":\"6297\",\"type\":\"LinearScale\"},\"y_range\":{\"id\":\"6295\",\"type\":\"DataRange1d\"},\"y_scale\":{\"id\":\"6299\",\"type\":\"LinearScale\"}},\"id\":\"6290\",\"subtype\":\"Figure\",\"type\":\"Plot\"},{\"attributes\":{\"bottom\":{\"value\":0},\"fill_alpha\":{\"value\":0.1},\"fill_color\":{\"value\":\"#1f77b4\"},\"left\":{\"field\":\"left\"},\"line_alpha\":{\"value\":0.1},\"line_color\":{\"value\":\"#1f77b4\"},\"right\":{\"field\":\"right\"},\"top\":{\"field\":\"top\"}},\"id\":\"6326\",\"type\":\"Quad\"},{\"attributes\":{},\"id\":\"6253\",\"type\":\"SaveTool\"},{\"attributes\":{\"axis_label\":\"DP\",\"formatter\":{\"id\":\"6333\",\"type\":\"BasicTickFormatter\"},\"ticker\":{\"id\":\"6302\",\"type\":\"BasicTicker\"}},\"id\":\"6301\",\"type\":\"LinearAxis\"},{\"attributes\":{\"source\":{\"id\":\"6459\",\"type\":\"ColumnDataSource\"}},\"id\":\"6463\",\"type\":\"CDSView\"},{\"attributes\":{},\"id\":\"6287\",\"type\":\"UnionRenderers\"},{\"attributes\":{\"bottom_units\":\"screen\",\"fill_alpha\":{\"value\":0.5},\"fill_color\":{\"value\":\"lightgrey\"},\"left_units\":\"screen\",\"level\":\"overlay\",\"line_alpha\":{\"value\":1.0},\"line_color\":{\"value\":\"black\"},\"line_dash\":[4,4],\"line_width\":{\"value\":2},\"render_mode\":\"css\",\"right_units\":\"screen\",\"top_units\":\"screen\"},\"id\":\"6273\",\"type\":\"BoxAnnotation\"},{\"attributes\":{\"ticker\":{\"id\":\"6302\",\"type\":\"BasicTicker\"}},\"id\":\"6305\",\"type\":\"Grid\"},{\"attributes\":{\"bottom\":{\"value\":0},\"fill_color\":{\"value\":\"green\"},\"left\":{\"value\":50.0},\"right\":{\"value\":52.5},\"top\":{\"value\":162980}},\"id\":\"6338\",\"type\":\"Quad\"},{\"attributes\":{\"background_fill_color\":{\"value\":\"#EEEEEE\"},\"below\":[{\"id\":\"6423\",\"type\":\"LinearAxis\"}],\"center\":[{\"id\":\"6427\",\"type\":\"Grid\"},{\"id\":\"6432\",\"type\":\"Grid\"},{\"id\":\"6457\",\"type\":\"Legend\"}],\"left\":[{\"id\":\"6428\",\"type\":\"LinearAxis\"}],\"plot_height\":500,\"plot_width\":500,\"renderers\":[{\"id\":\"6449\",\"type\":\"GlyphRenderer\"},{\"id\":\"6462\",\"type\":\"GlyphRenderer\"}],\"title\":{\"id\":\"6413\",\"type\":\"Title\"},\"toolbar\":{\"id\":\"6439\",\"type\":\"Toolbar\"},\"toolbar_location\":null,\"x_range\":{\"id\":\"6415\",\"type\":\"Range1d\"},\"x_scale\":{\"id\":\"6419\",\"type\":\"LinearScale\"},\"y_range\":{\"id\":\"6417\",\"type\":\"DataRange1d\"},\"y_scale\":{\"id\":\"6421\",\"type\":\"LinearScale\"}},\"id\":\"6412\",\"subtype\":\"Figure\",\"type\":\"Plot\"},{\"attributes\":{\"bottom_units\":\"screen\",\"fill_alpha\":{\"value\":0.5},\"fill_color\":{\"value\":\"lightgrey\"},\"left_units\":\"screen\",\"level\":\"overlay\",\"line_alpha\":{\"value\":1.0},\"line_color\":{\"value\":\"black\"},\"line_dash\":[4,4],\"line_width\":{\"value\":2},\"render_mode\":\"css\",\"right_units\":\"screen\",\"top_units\":\"screen\"},\"id\":\"6334\",\"type\":\"BoxAnnotation\"},{\"attributes\":{\"bottom\":{\"value\":0},\"fill_color\":{\"value\":\"#1f77b4\"},\"left\":{\"field\":\"left\"},\"right\":{\"field\":\"right\"},\"top\":{\"field\":\"top\"}},\"id\":\"6325\",\"type\":\"Quad\"},{\"attributes\":{\"label\":{\"value\":\"DP\"},\"renderers\":[{\"id\":\"6266\",\"type\":\"GlyphRenderer\"}]},\"id\":\"6275\",\"type\":\"LegendItem\"},{\"attributes\":{\"dimension\":1,\"ticker\":{\"id\":\"6307\",\"type\":\"BasicTicker\"}},\"id\":\"6310\",\"type\":\"Grid\"},{\"attributes\":{\"background_fill_color\":{\"value\":\"#EEEEEE\"},\"below\":[{\"id\":\"6240\",\"type\":\"LinearAxis\"}],\"center\":[{\"id\":\"6244\",\"type\":\"Grid\"},{\"id\":\"6249\",\"type\":\"Grid\"},{\"id\":\"6274\",\"type\":\"Legend\"}],\"left\":[{\"id\":\"6245\",\"type\":\"LinearAxis\"}],\"plot_height\":500,\"plot_width\":500,\"renderers\":[{\"id\":\"6266\",\"type\":\"GlyphRenderer\"},{\"id\":\"6279\",\"type\":\"GlyphRenderer\"}],\"title\":{\"id\":\"6230\",\"type\":\"Title\"},\"toolbar\":{\"id\":\"6256\",\"type\":\"Toolbar\"},\"toolbar_location\":null,\"x_range\":{\"id\":\"6232\",\"type\":\"Range1d\"},\"x_scale\":{\"id\":\"6236\",\"type\":\"LinearScale\"},\"y_range\":{\"id\":\"6234\",\"type\":\"DataRange1d\"},\"y_scale\":{\"id\":\"6238\",\"type\":\"LinearScale\"}},\"id\":\"6229\",\"subtype\":\"Figure\",\"type\":\"Plot\"},{\"attributes\":{\"data_source\":{\"id\":\"6459\",\"type\":\"ColumnDataSource\"},\"glyph\":{\"id\":\"6460\",\"type\":\"Quad\"},\"hover_glyph\":null,\"muted_glyph\":null,\"nonselection_glyph\":{\"id\":\"6461\",\"type\":\"Quad\"},\"selection_glyph\":null,\"view\":{\"id\":\"6463\",\"type\":\"CDSView\"}},\"id\":\"6462\",\"type\":\"GlyphRenderer\"},{\"attributes\":{\"data_source\":{\"id\":\"6276\",\"type\":\"ColumnDataSource\"},\"glyph\":{\"id\":\"6277\",\"type\":\"Quad\"},\"hover_glyph\":null,\"muted_glyph\":null,\"nonselection_glyph\":{\"id\":\"6278\",\"type\":\"Quad\"},\"selection_glyph\":null,\"view\":{\"id\":\"6280\",\"type\":\"CDSView\"}},\"id\":\"6279\",\"type\":\"GlyphRenderer\"},{\"attributes\":{\"callback\":null,\"end\":52.5,\"start\":-2.5},\"id\":\"6232\",\"type\":\"Range1d\"},{\"attributes\":{},\"id\":\"6311\",\"type\":\"PanTool\"},{\"attributes\":{\"overlay\":{\"id\":\"6273\",\"type\":\"BoxAnnotation\"}},\"id\":\"6252\",\"type\":\"BoxZoomTool\"},{\"attributes\":{\"bottom\":{\"value\":0},\"fill_alpha\":{\"value\":0.1},\"fill_color\":{\"value\":\"#1f77b4\"},\"left\":{\"value\":50.0},\"line_alpha\":{\"value\":0.1},\"line_color\":{\"value\":\"#1f77b4\"},\"right\":{\"value\":52.5},\"top\":{\"value\":162980}},\"id\":\"6339\",\"type\":\"Quad\"},{\"attributes\":{\"children\":[[{\"id\":\"6229\",\"subtype\":\"Figure\",\"type\":\"Plot\"},0,0],[{\"id\":\"6290\",\"subtype\":\"Figure\",\"type\":\"Plot\"},0,1],[{\"id\":\"6351\",\"subtype\":\"Figure\",\"type\":\"Plot\"},1,0],[{\"id\":\"6412\",\"subtype\":\"Figure\",\"type\":\"Plot\"},1,1]]},\"id\":\"6517\",\"type\":\"GridBox\"},{\"attributes\":{\"ticker\":{\"id\":\"6424\",\"type\":\"BasicTicker\"}},\"id\":\"6427\",\"type\":\"Grid\"},{\"attributes\":{\"items\":[{\"id\":\"6458\",\"type\":\"LegendItem\"},{\"id\":\"6472\",\"type\":\"LegendItem\"}]},\"id\":\"6457\",\"type\":\"Legend\"},{\"attributes\":{\"bottom\":{\"value\":0},\"fill_color\":{\"value\":\"#1f77b4\"},\"left\":{\"field\":\"left\"},\"right\":{\"field\":\"right\"},\"top\":{\"field\":\"top\"}},\"id\":\"6386\",\"type\":\"Quad\"},{\"attributes\":{},\"id\":\"6424\",\"type\":\"BasicTicker\"},{\"attributes\":{\"dimension\":1,\"ticker\":{\"id\":\"6429\",\"type\":\"BasicTicker\"}},\"id\":\"6432\",\"type\":\"Grid\"},{\"attributes\":{},\"id\":\"6436\",\"type\":\"SaveTool\"},{\"attributes\":{\"callback\":null,\"end\":52.5,\"start\":-2.5},\"id\":\"6354\",\"type\":\"Range1d\"},{\"attributes\":{\"label\":{\"value\":\"Outliers Above\"},\"renderers\":[{\"id\":\"6401\",\"type\":\"GlyphRenderer\"}]},\"id\":\"6411\",\"type\":\"LegendItem\"},{\"attributes\":{},\"id\":\"6437\",\"type\":\"ResetTool\"},{\"attributes\":{\"callback\":null},\"id\":\"6417\",\"type\":\"DataRange1d\"},{\"attributes\":{},\"id\":\"6392\",\"type\":\"BasicTickFormatter\"},{\"attributes\":{\"background_fill_color\":{\"value\":\"#EEEEEE\"},\"below\":[{\"id\":\"6362\",\"type\":\"LinearAxis\"}],\"center\":[{\"id\":\"6366\",\"type\":\"Grid\"},{\"id\":\"6371\",\"type\":\"Grid\"},{\"id\":\"6396\",\"type\":\"Legend\"}],\"left\":[{\"id\":\"6367\",\"type\":\"LinearAxis\"}],\"plot_height\":500,\"plot_width\":500,\"renderers\":[{\"id\":\"6388\",\"type\":\"GlyphRenderer\"},{\"id\":\"6401\",\"type\":\"GlyphRenderer\"}],\"title\":{\"id\":\"6352\",\"type\":\"Title\"},\"toolbar\":{\"id\":\"6378\",\"type\":\"Toolbar\"},\"toolbar_location\":null,\"x_range\":{\"id\":\"6354\",\"type\":\"Range1d\"},\"x_scale\":{\"id\":\"6358\",\"type\":\"LinearScale\"},\"y_range\":{\"id\":\"6356\",\"type\":\"DataRange1d\"},\"y_scale\":{\"id\":\"6360\",\"type\":\"LinearScale\"}},\"id\":\"6351\",\"subtype\":\"Figure\",\"type\":\"Plot\"},{\"attributes\":{},\"id\":\"6241\",\"type\":\"BasicTicker\"},{\"attributes\":{},\"id\":\"6429\",\"type\":\"BasicTicker\"},{\"attributes\":{\"callback\":null},\"id\":\"6234\",\"type\":\"DataRange1d\"},{\"attributes\":{},\"id\":\"6419\",\"type\":\"LinearScale\"},{\"attributes\":{\"label\":{\"value\":\"DP\"},\"renderers\":[{\"id\":\"6449\",\"type\":\"GlyphRenderer\"}]},\"id\":\"6458\",\"type\":\"LegendItem\"},{\"attributes\":{},\"id\":\"6482\",\"type\":\"Selection\"},{\"attributes\":{\"items\":[{\"id\":\"6397\",\"type\":\"LegendItem\"},{\"id\":\"6411\",\"type\":\"LegendItem\"}]},\"id\":\"6396\",\"type\":\"Legend\"},{\"attributes\":{},\"id\":\"6372\",\"type\":\"PanTool\"},{\"attributes\":{\"axis_label\":\"DP\",\"formatter\":{\"id\":\"6455\",\"type\":\"BasicTickFormatter\"},\"ticker\":{\"id\":\"6424\",\"type\":\"BasicTicker\"}},\"id\":\"6423\",\"type\":\"LinearAxis\"},{\"attributes\":{},\"id\":\"6514\",\"type\":\"UnionRenderers\"},{\"attributes\":{\"toolbar\":{\"id\":\"6518\",\"type\":\"ProxyToolbar\"},\"toolbar_location\":\"above\"},\"id\":\"6519\",\"type\":\"ToolbarBox\"},{\"attributes\":{},\"id\":\"6236\",\"type\":\"LinearScale\"},{\"attributes\":{\"callback\":null,\"data\":{\"left\":[0.0,2.5,5.0,7.5,10.0,12.5,15.0,17.5,20.0,22.5,25.0,27.5,30.0,32.5,35.0,37.5,40.0,42.5,45.0,47.5],\"right\":[2.5,5.0,7.5,10.0,12.5,15.0,17.5,20.0,22.5,25.0,27.5,30.0,32.5,35.0,37.5,40.0,42.5,45.0,47.5,50.0],\"top\":[3753327,4481859,10241627,8898666,14131298,8166498,8603541,3447930,3204106,880242,881229,391400,426056,239522,291563,119632,109895,47570,45069,28636]},\"selected\":{\"id\":\"6288\",\"type\":\"Selection\"},\"selection_policy\":{\"id\":\"6287\",\"type\":\"UnionRenderers\"}},\"id\":\"6263\",\"type\":\"ColumnDataSource\"},{\"attributes\":{\"callback\":null,\"data\":{},\"selected\":{\"id\":\"6504\",\"type\":\"Selection\"},\"selection_policy\":{\"id\":\"6503\",\"type\":\"UnionRenderers\"}},\"id\":\"6398\",\"type\":\"ColumnDataSource\"},{\"attributes\":{},\"id\":\"6409\",\"type\":\"UnionRenderers\"},{\"attributes\":{\"axis_label\":\"Frequency\",\"formatter\":{\"id\":\"6392\",\"type\":\"BasicTickFormatter\"},\"ticker\":{\"id\":\"6368\",\"type\":\"BasicTicker\"}},\"id\":\"6367\",\"type\":\"LinearAxis\"},{\"attributes\":{\"ticker\":{\"id\":\"6363\",\"type\":\"BasicTicker\"}},\"id\":\"6366\",\"type\":\"Grid\"},{\"attributes\":{},\"id\":\"6434\",\"type\":\"WheelZoomTool\"},{\"attributes\":{\"ticker\":{\"id\":\"6241\",\"type\":\"BasicTicker\"}},\"id\":\"6244\",\"type\":\"Grid\"},{\"attributes\":{},\"id\":\"6238\",\"type\":\"LinearScale\"},{\"attributes\":{},\"id\":\"6421\",\"type\":\"LinearScale\"},{\"attributes\":{},\"id\":\"6363\",\"type\":\"BasicTicker\"},{\"attributes\":{},\"id\":\"6394\",\"type\":\"BasicTickFormatter\"},{\"attributes\":{\"bottom\":{\"value\":0},\"fill_alpha\":{\"value\":0.1},\"fill_color\":{\"value\":\"#1f77b4\"},\"left\":{\"value\":50.0},\"line_alpha\":{\"value\":0.1},\"line_color\":{\"value\":\"#1f77b4\"},\"right\":{\"value\":52.5},\"top\":{\"value\":15888}},\"id\":\"6400\",\"type\":\"Quad\"},{\"attributes\":{},\"id\":\"6515\",\"type\":\"Selection\"},{\"attributes\":{\"callback\":null},\"id\":\"6356\",\"type\":\"DataRange1d\"},{\"attributes\":{\"label\":{\"value\":\"DP\"},\"renderers\":[{\"id\":\"6388\",\"type\":\"GlyphRenderer\"}]},\"id\":\"6397\",\"type\":\"LegendItem\"},{\"attributes\":{},\"id\":\"6481\",\"type\":\"UnionRenderers\"},{\"attributes\":{\"overlay\":{\"id\":\"6456\",\"type\":\"BoxAnnotation\"}},\"id\":\"6435\",\"type\":\"BoxZoomTool\"},{\"attributes\":{\"callback\":null,\"end\":52.5,\"start\":-2.5},\"id\":\"6415\",\"type\":\"Range1d\"},{\"attributes\":{\"callback\":null,\"data\":{\"left\":[0.0,2.5,5.0,7.5,10.0,12.5,15.0,17.5,20.0,22.5,25.0,27.5,30.0,32.5,35.0,37.5,40.0,42.5,45.0,47.5],\"right\":[2.5,5.0,7.5,10.0,12.5,15.0,17.5,20.0,22.5,25.0,27.5,30.0,32.5,35.0,37.5,40.0,42.5,45.0,47.5,50.0],\"top\":[35433,175903,428344,300473,410001,207510,203264,99381,121485,68355,88156,48885,58722,30292,34594,17036,18080,8682,9152,6236]},\"selected\":{\"id\":\"6410\",\"type\":\"Selection\"},\"selection_policy\":{\"id\":\"6409\",\"type\":\"UnionRenderers\"}},\"id\":\"6385\",\"type\":\"ColumnDataSource\"},{\"attributes\":{\"axis_label\":\"Frequency\",\"formatter\":{\"id\":\"6270\",\"type\":\"BasicTickFormatter\"},\"ticker\":{\"id\":\"6246\",\"type\":\"BasicTicker\"}},\"id\":\"6245\",\"type\":\"LinearAxis\"},{\"attributes\":{\"text\":\"DP Histogram for X males homs\"},\"id\":\"6413\",\"type\":\"Title\"},{\"attributes\":{\"source\":{\"id\":\"6398\",\"type\":\"ColumnDataSource\"}},\"id\":\"6402\",\"type\":\"CDSView\"},{\"attributes\":{\"bottom\":{\"value\":0},\"fill_color\":{\"value\":\"#1f77b4\"},\"left\":{\"field\":\"left\"},\"right\":{\"field\":\"right\"},\"top\":{\"field\":\"top\"}},\"id\":\"6447\",\"type\":\"Quad\"},{\"attributes\":{\"bottom\":{\"value\":0},\"fill_color\":{\"value\":\"#1f77b4\"},\"left\":{\"field\":\"left\"},\"right\":{\"field\":\"right\"},\"top\":{\"field\":\"top\"}},\"id\":\"6264\",\"type\":\"Quad\"},{\"attributes\":{},\"id\":\"6410\",\"type\":\"Selection\"},{\"attributes\":{\"source\":{\"id\":\"6263\",\"type\":\"ColumnDataSource\"}},\"id\":\"6267\",\"type\":\"CDSView\"},{\"attributes\":{\"bottom\":{\"value\":0},\"fill_alpha\":{\"value\":0.1},\"fill_color\":{\"value\":\"#1f77b4\"},\"left\":{\"field\":\"left\"},\"line_alpha\":{\"value\":0.1},\"line_color\":{\"value\":\"#1f77b4\"},\"right\":{\"field\":\"right\"},\"top\":{\"field\":\"top\"}},\"id\":\"6448\",\"type\":\"Quad\"},{\"attributes\":{\"data_source\":{\"id\":\"6398\",\"type\":\"ColumnDataSource\"},\"glyph\":{\"id\":\"6399\",\"type\":\"Quad\"},\"hover_glyph\":null,\"muted_glyph\":null,\"nonselection_glyph\":{\"id\":\"6400\",\"type\":\"Quad\"},\"selection_glyph\":null,\"view\":{\"id\":\"6402\",\"type\":\"CDSView\"}},\"id\":\"6401\",\"type\":\"GlyphRenderer\"},{\"attributes\":{\"text\":\"DP Histogram for X males\"},\"id\":\"6230\",\"type\":\"Title\"},{\"attributes\":{\"bottom\":{\"value\":0},\"fill_alpha\":{\"value\":0.1},\"fill_color\":{\"value\":\"#1f77b4\"},\"left\":{\"field\":\"left\"},\"line_alpha\":{\"value\":0.1},\"line_color\":{\"value\":\"#1f77b4\"},\"right\":{\"field\":\"right\"},\"top\":{\"field\":\"top\"}},\"id\":\"6387\",\"type\":\"Quad\"},{\"attributes\":{\"overlay\":{\"id\":\"6395\",\"type\":\"BoxAnnotation\"}},\"id\":\"6374\",\"type\":\"BoxZoomTool\"},{\"attributes\":{\"bottom_units\":\"screen\",\"fill_alpha\":{\"value\":0.5},\"fill_color\":{\"value\":\"lightgrey\"},\"left_units\":\"screen\",\"level\":\"overlay\",\"line_alpha\":{\"value\":1.0},\"line_color\":{\"value\":\"black\"},\"line_dash\":[4,4],\"line_width\":{\"value\":2},\"render_mode\":\"css\",\"right_units\":\"screen\",\"top_units\":\"screen\"},\"id\":\"6395\",\"type\":\"BoxAnnotation\"},{\"attributes\":{},\"id\":\"6433\",\"type\":\"PanTool\"},{\"attributes\":{},\"id\":\"6246\",\"type\":\"BasicTicker\"},{\"attributes\":{},\"id\":\"6368\",\"type\":\"BasicTicker\"},{\"attributes\":{\"axis_label\":\"DP\",\"formatter\":{\"id\":\"6272\",\"type\":\"BasicTickFormatter\"},\"ticker\":{\"id\":\"6241\",\"type\":\"BasicTicker\"}},\"id\":\"6240\",\"type\":\"LinearAxis\"},{\"attributes\":{},\"id\":\"6375\",\"type\":\"SaveTool\"},{\"attributes\":{},\"id\":\"6373\",\"type\":\"WheelZoomTool\"},{\"attributes\":{\"bottom\":{\"value\":0},\"fill_alpha\":{\"value\":0.1},\"fill_color\":{\"value\":\"#1f77b4\"},\"left\":{\"field\":\"left\"},\"line_alpha\":{\"value\":0.1},\"line_color\":{\"value\":\"#1f77b4\"},\"right\":{\"field\":\"right\"},\"top\":{\"field\":\"top\"}},\"id\":\"6265\",\"type\":\"Quad\"},{\"attributes\":{\"callback\":null,\"data\":{\"left\":[0.0,2.5,5.0,7.5,10.0,12.5,15.0,17.5,20.0,22.5,25.0,27.5,30.0,32.5,35.0,37.5,40.0,42.5,45.0,47.5],\"right\":[2.5,5.0,7.5,10.0,12.5,15.0,17.5,20.0,22.5,25.0,27.5,30.0,32.5,35.0,37.5,40.0,42.5,45.0,47.5,50.0],\"top\":[2212539,4020556,9463656,8411334,13539937,7890312,8347225,3330712,3066742,805162,785963,339181,363609,207358,254614,101508,90513,38193,35047,21694]},\"selected\":{\"id\":\"6471\",\"type\":\"Selection\"},\"selection_policy\":{\"id\":\"6470\",\"type\":\"UnionRenderers\"}},\"id\":\"6446\",\"type\":\"ColumnDataSource\"},{\"attributes\":{\"dimension\":1,\"ticker\":{\"id\":\"6246\",\"type\":\"BasicTicker\"}},\"id\":\"6249\",\"type\":\"Grid\"},{\"attributes\":{\"active_drag\":\"auto\",\"active_inspect\":\"auto\",\"active_multi\":null,\"active_scroll\":\"auto\",\"active_tap\":\"auto\",\"tools\":[{\"id\":\"6372\",\"type\":\"PanTool\"},{\"id\":\"6373\",\"type\":\"WheelZoomTool\"},{\"id\":\"6374\",\"type\":\"BoxZoomTool\"},{\"id\":\"6375\",\"type\":\"SaveTool\"},{\"id\":\"6376\",\"type\":\"ResetTool\"},{\"id\":\"6377\",\"type\":\"HelpTool\"}]},\"id\":\"6378\",\"type\":\"Toolbar\"},{\"attributes\":{\"active_drag\":\"auto\",\"active_inspect\":\"auto\",\"active_multi\":null,\"active_scroll\":\"auto\",\"active_tap\":\"auto\",\"tools\":[{\"id\":\"6433\",\"type\":\"PanTool\"},{\"id\":\"6434\",\"type\":\"WheelZoomTool\"},{\"id\":\"6435\",\"type\":\"BoxZoomTool\"},{\"id\":\"6436\",\"type\":\"SaveTool\"},{\"id\":\"6437\",\"type\":\"ResetTool\"},{\"id\":\"6438\",\"type\":\"HelpTool\"}]},\"id\":\"6439\",\"type\":\"Toolbar\"},{\"attributes\":{\"axis_label\":\"Frequency\",\"formatter\":{\"id\":\"6453\",\"type\":\"BasicTickFormatter\"},\"ticker\":{\"id\":\"6429\",\"type\":\"BasicTicker\"}},\"id\":\"6428\",\"type\":\"LinearAxis\"},{\"attributes\":{\"bottom\":{\"value\":0},\"fill_color\":{\"value\":\"green\"},\"left\":{\"value\":50.0},\"right\":{\"value\":52.5},\"top\":{\"value\":15888}},\"id\":\"6399\",\"type\":\"Quad\"},{\"attributes\":{\"source\":{\"id\":\"6385\",\"type\":\"ColumnDataSource\"}},\"id\":\"6389\",\"type\":\"CDSView\"},{\"attributes\":{},\"id\":\"6377\",\"type\":\"HelpTool\"},{\"attributes\":{},\"id\":\"6438\",\"type\":\"HelpTool\"},{\"attributes\":{\"text\":\"DP Histogram for X males het\"},\"id\":\"6352\",\"type\":\"Title\"},{\"attributes\":{},\"id\":\"6453\",\"type\":\"BasicTickFormatter\"},{\"attributes\":{\"data_source\":{\"id\":\"6263\",\"type\":\"ColumnDataSource\"},\"glyph\":{\"id\":\"6264\",\"type\":\"Quad\"},\"hover_glyph\":null,\"muted_glyph\":null,\"nonselection_glyph\":{\"id\":\"6265\",\"type\":\"Quad\"},\"selection_glyph\":null,\"view\":{\"id\":\"6267\",\"type\":\"CDSView\"}},\"id\":\"6266\",\"type\":\"GlyphRenderer\"},{\"attributes\":{\"data_source\":{\"id\":\"6446\",\"type\":\"ColumnDataSource\"},\"glyph\":{\"id\":\"6447\",\"type\":\"Quad\"},\"hover_glyph\":null,\"muted_glyph\":null,\"nonselection_glyph\":{\"id\":\"6448\",\"type\":\"Quad\"},\"selection_glyph\":null,\"view\":{\"id\":\"6450\",\"type\":\"CDSView\"}},\"id\":\"6449\",\"type\":\"GlyphRenderer\"},{\"attributes\":{\"source\":{\"id\":\"6446\",\"type\":\"ColumnDataSource\"}},\"id\":\"6450\",\"type\":\"CDSView\"},{\"attributes\":{\"dimension\":1,\"ticker\":{\"id\":\"6368\",\"type\":\"BasicTicker\"}},\"id\":\"6371\",\"type\":\"Grid\"},{\"attributes\":{},\"id\":\"6376\",\"type\":\"ResetTool\"}],\"root_ids\":[\"6520\"]},\"title\":\"Bokeh Application\",\"version\":\"1.2.0\"}};\n",
       "  var render_items = [{\"docid\":\"e256b25c-0a76-4559-b565-40aaab53624c\",\"roots\":{\"6520\":\"993851b9-94bb-4a78-b812-d0c0f6205589\"}}];\n",
       "  root.Bokeh.embed.embed_items_notebook(docs_json, render_items);\n",
       "\n",
       "  }\n",
       "  if (root.Bokeh !== undefined) {\n",
       "    embed_document(root);\n",
       "  } else {\n",
       "    var attempts = 0;\n",
       "    var timer = setInterval(function(root) {\n",
       "      if (root.Bokeh !== undefined) {\n",
       "        embed_document(root);\n",
       "        clearInterval(timer);\n",
       "      }\n",
       "      attempts++;\n",
       "      if (attempts > 100) {\n",
       "        console.log(\"Bokeh: ERROR: Unable to run BokehJS code because BokehJS library is missing\");\n",
       "        clearInterval(timer);\n",
       "      }\n",
       "    }, 10, root)\n",
       "  }\n",
       "})(window);"
      ],
      "application/vnd.bokehjs_exec.v0+json": ""
     },
     "metadata": {
      "application/vnd.bokehjs_exec.v0+json": {
       "id": "6520"
      }
     },
     "output_type": "display_data"
    }
   ],
   "source": [
    "p1 = hl.plot.histogram(X_m.DP, range=(0,50), bins=20, title='DP Histogram for X males', legend='DP')\n",
    "p2 = hl.plot.histogram(X_f.DP, range=(0,50), bins=20, title='DP Histogram for X females', legend='DP')\n",
    "p3 = hl.plot.histogram(X_m_het.DP, range=(0,50), bins=20, title='DP Histogram for X males het', legend='DP')\n",
    "p4 = hl.plot.histogram(X_m_hom.DP, range=(0,50), bins=20, title='DP Histogram for X males homs', legend='DP')\n",
    "\n",
    "show(gridplot([p1, p2, p3, p4], ncols=2, plot_width=500, plot_height=500))"
   ]
  },
  {
   "cell_type": "code",
   "execution_count": null,
   "metadata": {},
   "outputs": [],
   "source": []
  }
 ],
 "metadata": {
  "kernelspec": {
   "display_name": "Python 3",
   "language": "python",
   "name": "python3"
  },
  "language_info": {
   "codemirror_mode": {
    "name": "ipython",
    "version": 3
   },
   "file_extension": ".py",
   "mimetype": "text/x-python",
   "name": "python",
   "nbconvert_exporter": "python",
   "pygments_lexer": "ipython3",
   "version": "3.7.4"
  }
 },
 "nbformat": 4,
 "nbformat_minor": 2
}
