{
 "cells": [
  {
   "cell_type": "code",
   "execution_count": 1,
   "id": "7b1697ee",
   "metadata": {},
   "outputs": [
    {
     "data": {
      "text/html": [
       "<style>.container { width:100% !important; }</style>"
      ],
      "text/plain": [
       "<IPython.core.display.HTML object>"
      ]
     },
     "metadata": {},
     "output_type": "display_data"
    }
   ],
   "source": [
    "from IPython.display import display\n",
    "from IPython.display import HTML\n",
    "import IPython.core.display as di # Example: di.display_html('<h3>%s:</h3>' % str, raw=True)\n",
    "\n",
    "#This line will hide code by default when the notebook is exported as HTML\n",
    "#di.display_html('<script>jQuery(function() {if (jQuery(\"body.notebook_app\").length == 0) { jQuery(\".input_area\").toggle(); jQuery(\".prompt\").toggle();}});</script>', raw=True)\n",
    "\n",
    "display(HTML(\"<style>.container { width:100% !important; }</style>\"))"
   ]
  },
  {
   "cell_type": "code",
   "execution_count": null,
   "id": "4032a68f-60a9-495a-9a50-60fc613edca6",
   "metadata": {},
   "outputs": [],
   "source": [
    "import hail as hl\n",
    "hl.init(spark_conf={'spark.driver.memory': '10G', 'spark.executor.memory': '10G'}, default_reference='GRCh38') "
   ]
  },
  {
   "cell_type": "code",
   "execution_count": null,
   "id": "40abf5b7-a9d5-499a-a6b4-a08e5fd7d4cc",
   "metadata": {},
   "outputs": [],
   "source": [
    "from hail.plot import show\n",
    "from pprint import pprint\n",
    "from bokeh.layouts import gridplot\n",
    "hl.plot.output_notebook()\n",
    "\n",
    "\n",
    "import numpy as np\n",
    "import pandas as pd\n",
    "from functools import reduce\n",
    "from itertools import chain\n",
    "\n",
    "from bokeh.plotting import output_notebook, show, figure\n",
    "from bokeh.palettes import viridis\n",
    "\n",
    "from hail.experimental.vcf_combiner.vcf_combiner import combine_gvcfs as cmb\n",
    "\n",
    "output_notebook() "
   ]
  },
  {
   "cell_type": "code",
   "execution_count": null,
   "id": "9e4f4d05-d5d3-435b-9596-06218d32885b",
   "metadata": {},
   "outputs": [],
   "source": [
    "import os\n",
    "files = os.listdir('/data/data/gvcf/')"
   ]
  },
  {
   "cell_type": "code",
   "execution_count": null,
   "id": "2e7bb834-e4c3-4491-803f-68f1752acac7",
   "metadata": {},
   "outputs": [],
   "source": [
    "gvcfs = []\n",
    "for f in files:\n",
    "    if ((f.find(\"tbi\")) == -1) & (f.find('txt') == -1):\n",
    "        gvcfs.append('/data/data/gvcf/'+f)\n",
    "        "
   ]
  },
  {
   "cell_type": "code",
   "execution_count": null,
   "id": "f966a40e-b785-4ea5-9cf7-10b83c9d7369",
   "metadata": {},
   "outputs": [],
   "source": [
    "gvcfs.sort()"
   ]
  },
  {
   "cell_type": "code",
   "execution_count": null,
   "id": "4cececf9-8226-4cd2-9957-f682c03d9bab",
   "metadata": {},
   "outputs": [],
   "source": [
    "len(gvcfs)"
   ]
  },
  {
   "cell_type": "code",
   "execution_count": null,
   "id": "e3168da1-6dd6-42b5-9044-464b83e770be",
   "metadata": {},
   "outputs": [],
   "source": [
    "header_try=open('/data/data/gvcf/header.txt').read()"
   ]
  },
  {
   "cell_type": "code",
   "execution_count": null,
   "id": "ef4647d2-8374-4228-bd29-5aa7c5a8b502",
   "metadata": {},
   "outputs": [],
   "source": [
    "samples = []\n",
    "\n",
    "for f in files:\n",
    "    if ((f.find(\"tbi\")) == -1) & (f.find('txt') == -1):\n",
    "        samples.append((f.split('.'))[0])\n",
    "\n",
    "samples.sort()"
   ]
  },
  {
   "cell_type": "code",
   "execution_count": null,
   "id": "522f11c5-2b0d-434b-b127-736ee6155588",
   "metadata": {},
   "outputs": [],
   "source": [
    "hl.experimental.run_combiner(gvcfs, out_file='/data/data/joint/gts-sparse.mt',\n",
    "                             tmp_path='/tmp', reference_genome='GRCh38', use_genome_default_intervals = True,\n",
    "                             header = '/data/data/gvcf/header.txt',\n",
    "                             sample_names = samples)"
   ]
  },
  {
   "cell_type": "code",
   "execution_count": null,
   "id": "1eb65844-11d0-4079-a495-5c4e9ac1878a",
   "metadata": {},
   "outputs": [],
   "source": [
    "sparse = hl.read_matrix_table('/data/data/joint/gts-sparse.mt')"
   ]
  },
  {
   "cell_type": "code",
   "execution_count": null,
   "id": "51769da3-41b0-4993-8e0e-7eb7a36354e5",
   "metadata": {},
   "outputs": [],
   "source": [
    "sparse.count()"
   ]
  },
  {
   "cell_type": "code",
   "execution_count": null,
   "id": "2aa50b4d-9c8c-41da-b969-821a14a1c6f1",
   "metadata": {},
   "outputs": [],
   "source": [
    "dense = hl.experimental.densify(sparse)\n",
    "\n",
    "dense.write('/data/data/joint/gts-dense.mt')"
   ]
  },
  {
   "cell_type": "code",
   "execution_count": null,
   "id": "0a91a774-bfad-45b9-b821-db92cf254ec2",
   "metadata": {},
   "outputs": [],
   "source": [
    "gts = hl.read_matrix_table('/data/data/joint/gts-dense.mt')"
   ]
  },
  {
   "cell_type": "code",
   "execution_count": null,
   "id": "e86540da-6213-4c7d-86e4-fb434da19c8d",
   "metadata": {},
   "outputs": [],
   "source": [
    "gts.count()"
   ]
  },
  {
   "cell_type": "code",
   "execution_count": null,
   "id": "629d36a2-b47f-4f1d-a897-ae4f93a0d9bf",
   "metadata": {},
   "outputs": [],
   "source": [
    "gts_gt = gts.annotate_entries(GT=hl.experimental.lgt_to_gt(gts.LGT, gts.LA))"
   ]
  },
  {
   "cell_type": "code",
   "execution_count": null,
   "id": "a35078fb-9bec-423f-8831-74e717225cd8",
   "metadata": {},
   "outputs": [],
   "source": [
    "gts_gt.write('/data/data/joint/gts-geno.mt')"
   ]
  },
  {
   "cell_type": "code",
   "execution_count": null,
   "id": "613baff7-5e06-4bab-84b5-7e3a9026e09d",
   "metadata": {},
   "outputs": [],
   "source": [
    "gts_gt = hl.read_matrix_table('/data/data/joint/gts-geno.mt')"
   ]
  },
  {
   "cell_type": "code",
   "execution_count": null,
   "id": "71f23889-c970-404e-861f-a7f49f20f24d",
   "metadata": {},
   "outputs": [],
   "source": [
    "gts_gt.count()"
   ]
  },
  {
   "cell_type": "code",
   "execution_count": null,
   "id": "4dda455e-bf8d-4456-a72a-50ceee939b16",
   "metadata": {},
   "outputs": [],
   "source": [
    "pheno = hl.import_table('/data/data/external-data/familiespattern.csv')"
   ]
  },
  {
   "cell_type": "code",
   "execution_count": null,
   "id": "f272eb9d-1a2c-4662-96cc-48a87f2059dd",
   "metadata": {},
   "outputs": [],
   "source": [
    "to_keep = pheno['sample'].collect()"
   ]
  },
  {
   "cell_type": "code",
   "execution_count": null,
   "id": "1339b6d0-450c-418a-bc6c-79d3b2bc6127",
   "metadata": {},
   "outputs": [],
   "source": [
    "gts_gt = gts_gt.filter_cols(hl.literal(to_keep).contains(gts_gt.s))"
   ]
  },
  {
   "cell_type": "code",
   "execution_count": null,
   "id": "21b81efd-32e1-4fd9-b722-dacbd824f9ec",
   "metadata": {},
   "outputs": [],
   "source": [
    "gts_gt = gts_gt.filter_rows(hl.agg.any(gts_gt.GT.is_non_ref()))"
   ]
  },
  {
   "cell_type": "code",
   "execution_count": null,
   "id": "e961cc60-b053-45a9-98ef-49612ab098a6",
   "metadata": {},
   "outputs": [],
   "source": [
    "gts_gt.write('/data/data/joint/fams-unfiltered.mt')"
   ]
  },
  {
   "cell_type": "code",
   "execution_count": null,
   "id": "b78eae54-95b3-44e8-933a-40622d628e90",
   "metadata": {},
   "outputs": [],
   "source": [
    "gts_gts = hl.read_matrix_table('/data/data/joint/fams-unfiltered.mt')"
   ]
  },
  {
   "cell_type": "code",
   "execution_count": null,
   "id": "86bc7f3e-7720-4139-856a-0083c7309e44",
   "metadata": {},
   "outputs": [],
   "source": [
    "gts_gts.count()"
   ]
  }
 ],
 "metadata": {
  "kernelspec": {
   "display_name": "Python 3 (ipykernel)",
   "language": "python",
   "name": "python3"
  },
  "language_info": {
   "codemirror_mode": {
    "name": "ipython",
    "version": 3
   },
   "file_extension": ".py",
   "mimetype": "text/x-python",
   "name": "python",
   "nbconvert_exporter": "python",
   "pygments_lexer": "ipython3",
   "version": "3.7.7"
  }
 },
 "nbformat": 4,
 "nbformat_minor": 5
}
