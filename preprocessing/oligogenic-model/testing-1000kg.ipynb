{
 "cells": [
  {
   "cell_type": "code",
   "execution_count": null,
   "id": "1ba0f642-7c9e-47ed-a737-182a271f609b",
   "metadata": {
    "tags": []
   },
   "outputs": [],
   "source": [
    "import os\n",
    "localfs_path = os.environ.get('SCRATCH_LOCAL') + '/'"
   ]
  },
  {
   "cell_type": "code",
   "execution_count": null,
   "id": "e18a89bf-f57f-4177-8e0e-469588f3b062",
   "metadata": {
    "tags": []
   },
   "outputs": [],
   "source": [
    "import hail as hl\n",
    "\n",
    "hl.init(\n",
    "    tmp_dir=(localfs_path+'tmp_hail'),\n",
    "    spark_conf={'spark.driver.memory': '30G', 'spark.executor.memory': '10G'}, # I don't know what should be here\n",
    "    default_reference='GRCh38'\n",
    ") "
   ]
  },
  {
   "cell_type": "code",
   "execution_count": 1,
   "id": "eac7749e-a8e3-43e9-830f-76a051e94e6b",
   "metadata": {},
   "outputs": [],
   "source": [
    "# 1000 genomes obejrzeć w BAM - wariant o call rate niskim - obejrzeć w próbce\n",
    "# czy warianty bez calli są wszędzie czy gdzieniegdzie?\n",
    "\n",
    "# rozwiązanie 1 - call rate jest niższe (92%) tam gdzie co najmniej jedna próbka europejska jest non-ref\n",
    "\n",
    "# ogólnie to się dziwnie stało, bo się przefiltrowały entries w którymś momencie, a nie wiem czemu??"
   ]
  },
  {
   "cell_type": "code",
   "execution_count": 24,
   "id": "389200f1-cc96-47ae-9343-450e80395a89",
   "metadata": {
    "tags": []
   },
   "outputs": [],
   "source": [
    "from hail.ggplot import *\n",
    "\n",
    "import plotly\n",
    "import plotly.io as pio\n",
    "pio.renderers.default='iframe'"
   ]
  },
  {
   "cell_type": "code",
   "execution_count": 12,
   "id": "ece8b6f1-7617-4cfb-b54d-c58cffc289aa",
   "metadata": {},
   "outputs": [],
   "source": [
    "# first filter per interval, then densify then calcuate coverage and then \n",
    "\n",
    "mt_paths = [\n",
    "    '/net/ascratch/people/plggosborcz/1kg.vds',\n",
    "    '/net/ascratch/people/plggosborcz/1kg-eur.vds',\n",
    "    '/net/ascratch/people/plggosborcz/1kg-eur-to-merge.vds',\n",
    "    '/net/pr2/projects/plgrid/plggneuromol/imdik-zekanowski-gts/data/mts/oligogenic-model/full.vds', #this is all before interval filtering\n",
    "    '/net/ascratch/people/plggosborcz/full-protein-coding.vds', #this is after interval filtering\n",
    "    '/net/ascratch/people/plggosborcz/full-rpkm.vds'\n",
    "    '/net/ascratch/people/plggosborcz/gts.vds',\n",
    "]\n",
    "\n",
    "to_filter = hl.parse_locus_interval('chr1:10000000-15000000', reference_genome='GRCh38') # 5mb"
   ]
  },
  {
   "cell_type": "code",
   "execution_count": 13,
   "id": "c7275cea-5639-408d-952a-2c7625d05486",
   "metadata": {},
   "outputs": [
    {
     "name": "stderr",
     "output_type": "stream",
     "text": [
      "2023-04-09 15:05:52.450 Hail: WARN: 'hl.vds.filter_intervals': filtering intervals when reference blocks have not been truncated\n",
      "  (by 'hl.vds.truncate_reference_blocks') requires a full pass over the reference data (expensive!)\n",
      "2023-04-09 15:05:55.652 Hail: INFO: Coerced sorted dataset\n",
      "2023-04-09 15:05:56.722 Hail: INFO: Coerced sorted dataset\n",
      "2023-04-09 15:05:57.731 Hail: INFO: Coerced sorted dataset\n",
      "2023-04-09 15:53:24.377 Hail: INFO: wrote matrix table with 4863647 rows and 288 columns in 119993 partitions to /localfs/2214337/gts.vds-filtered-vds/reference_data\n",
      "2023-04-09 15:53:29.699 Hail: INFO: wrote matrix table with 184054 rows and 288 columns in 207 partitions to /localfs/2214337/gts.vds-filtered-vds/variant_data\n",
      "2023-04-09 16:07:57.754 Hail: INFO: wrote matrix table with 184054 rows and 288 columns in 200 partitions to /localfs/2214337/gts.vds-qced\n"
     ]
    }
   ],
   "source": [
    "vdses = []\n",
    "mts = []\n",
    "\n",
    "for file in mt_paths:\n",
    "    \n",
    "    full = hl.vds.read_vds(file)\n",
    "    full = hl.vds.filter_intervals(full, [to_filter], split_reference_blocks=True)\n",
    "    full.write(localfs_path+file.split('/')[-1]+'-filtered-vds')\n",
    "               \n",
    "    full = hl.vds.read_vds(localfs_path+file.split('/')[-1]+'-filtered-vds')\n",
    "    \n",
    "    vdses.append(full)\n",
    "    \n",
    "    vd_gt = full.variant_data.transmute_entries(\n",
    "    GT = hl.vds.lgt_to_gt(full.variant_data.LGT, full.variant_data.LA))\n",
    "    mt = hl.vds.to_dense_mt(hl.vds.VariantDataset(full.reference_data, vd_gt))\n",
    "    \n",
    "    mt = mt.naive_coalesce(200)\n",
    "    \n",
    "    mt = hl.sample_qc(mt)\n",
    "\n",
    "    \n",
    "    mt = mt.annotate_cols(\n",
    "        group = hl.if_else(\n",
    "            mt.s.contains('B'),\n",
    "            'local_controls',\n",
    "            hl.if_else(\n",
    "                (mt.s.contains('NA') | mt.s.contains('HG')),\n",
    "                '1kg_controls',\n",
    "                'GTS'\n",
    "            )\n",
    "        )\n",
    "    )  \n",
    "    \n",
    "    mt = mt.checkpoint(localfs_path+file.split('/')[-1]+'-qced')\n",
    "    \n",
    "    mts.append(mt)\n",
    "\n",
    "# this already leads to mts that have different numbers of rows, so I guess to_dense_mt"
   ]
  },
  {
   "cell_type": "code",
   "execution_count": 55,
   "id": "becf2e09-6cdc-43cb-81e5-e4553d3e41df",
   "metadata": {
    "collapsed": true,
    "jupyter": {
     "outputs_hidden": true
    },
    "tags": []
   },
   "outputs": [
    {
     "ename": "FatalError",
     "evalue": "FileNotFoundException: File /localfs/2214337/1kg-eur-to-merge.vds-filtered-vds/metadata.json.gz does not exist\n\nJava stack trace:\njava.io.FileNotFoundException: File /localfs/2214337/1kg-eur-to-merge.vds-filtered-vds/metadata.json.gz does not exist\n\tat org.apache.hadoop.fs.RawLocalFileSystem.deprecatedGetFileStatus(RawLocalFileSystem.java:666)\n\tat org.apache.hadoop.fs.RawLocalFileSystem.getFileLinkStatusInternal(RawLocalFileSystem.java:987)\n\tat org.apache.hadoop.fs.RawLocalFileSystem.getFileStatus(RawLocalFileSystem.java:656)\n\tat org.apache.hadoop.fs.FilterFileSystem.getFileStatus(FilterFileSystem.java:454)\n\tat org.apache.hadoop.fs.ChecksumFileSystem$ChecksumFSInputChecker.<init>(ChecksumFileSystem.java:146)\n\tat org.apache.hadoop.fs.ChecksumFileSystem.open(ChecksumFileSystem.java:347)\n\tat org.apache.hadoop.fs.FileSystem.open(FileSystem.java:899)\n\tat is.hail.io.fs.HadoopFS.openNoCompression(HadoopFS.scala:92)\n\tat is.hail.io.fs.FS.open(FS.scala:360)\n\tat is.hail.io.fs.FS.open$(FS.scala:359)\n\tat is.hail.io.fs.HadoopFS.open(HadoopFS.scala:72)\n\tat is.hail.io.fs.FS.open(FS.scala:372)\n\tat is.hail.io.fs.FS.open$(FS.scala:371)\n\tat is.hail.io.fs.HadoopFS.open(HadoopFS.scala:72)\n\tat is.hail.io.fs.FS.open(FS.scala:369)\n\tat is.hail.io.fs.FS.open$(FS.scala:368)\n\tat is.hail.io.fs.HadoopFS.open(HadoopFS.scala:72)\n\tat is.hail.expr.ir.RelationalSpec$.readMetadata(AbstractMatrixTableSpec.scala:39)\n\tat is.hail.expr.ir.RelationalSpec$.readReferences(AbstractMatrixTableSpec.scala:74)\n\tat is.hail.variant.ReferenceGenome$.fromHailDataset(ReferenceGenome.scala:584)\n\tat is.hail.variant.ReferenceGenome.fromHailDataset(ReferenceGenome.scala)\n\tat jdk.internal.reflect.GeneratedMethodAccessor122.invoke(Unknown Source)\n\tat java.base/jdk.internal.reflect.DelegatingMethodAccessorImpl.invoke(DelegatingMethodAccessorImpl.java:43)\n\tat java.base/java.lang.reflect.Method.invoke(Method.java:566)\n\tat py4j.reflection.MethodInvoker.invoke(MethodInvoker.java:244)\n\tat py4j.reflection.ReflectionEngine.invoke(ReflectionEngine.java:357)\n\tat py4j.Gateway.invoke(Gateway.java:282)\n\tat py4j.commands.AbstractCommand.invokeMethod(AbstractCommand.java:132)\n\tat py4j.commands.CallCommand.execute(CallCommand.java:79)\n\tat py4j.GatewayConnection.run(GatewayConnection.java:238)\n\tat java.base/java.lang.Thread.run(Thread.java:834)\n\n\n\nHail version: 0.2.109-b71b065e4bb6\nError summary: FileNotFoundException: File /localfs/2214337/1kg-eur-to-merge.vds-filtered-vds/metadata.json.gz does not exist",
     "output_type": "error",
     "traceback": [
      "\u001b[0;31m---------------------------------------------------------------------------\u001b[0m",
      "\u001b[0;31mFatalError\u001b[0m                                Traceback (most recent call last)",
      "Cell \u001b[0;32mIn[55], line 1\u001b[0m\n\u001b[0;32m----> 1\u001b[0m test \u001b[38;5;241m=\u001b[39m \u001b[43mhl\u001b[49m\u001b[38;5;241;43m.\u001b[39;49m\u001b[43mread_matrix_table\u001b[49m\u001b[43m(\u001b[49m\u001b[38;5;124;43m'\u001b[39;49m\u001b[38;5;124;43m/localfs/2214337/1kg-eur-to-merge.vds-filtered-vds\u001b[39;49m\u001b[38;5;124;43m'\u001b[39;49m\u001b[43m)\u001b[49m\n",
      "File \u001b[0;32m<decorator-gen-1440>:2\u001b[0m, in \u001b[0;36mread_matrix_table\u001b[0;34m(path, _intervals, _filter_intervals, _drop_cols, _drop_rows, _create_row_uids, _create_col_uids, _n_partitions, _assert_type, _load_refs)\u001b[0m\n",
      "File \u001b[0;32m/net/pr2/projects/plgrid/plggneuromol/imdik-zekanowski-gts/venv-hail-0.2.105/lib/python3.10/site-packages/hail/typecheck/check.py:577\u001b[0m, in \u001b[0;36m_make_dec.<locals>.wrapper\u001b[0;34m(__original_func, *args, **kwargs)\u001b[0m\n\u001b[1;32m    574\u001b[0m \u001b[38;5;129m@decorator\u001b[39m\n\u001b[1;32m    575\u001b[0m \u001b[38;5;28;01mdef\u001b[39;00m \u001b[38;5;21mwrapper\u001b[39m(__original_func, \u001b[38;5;241m*\u001b[39margs, \u001b[38;5;241m*\u001b[39m\u001b[38;5;241m*\u001b[39mkwargs):\n\u001b[1;32m    576\u001b[0m     args_, kwargs_ \u001b[38;5;241m=\u001b[39m check_all(__original_func, args, kwargs, checkers, is_method\u001b[38;5;241m=\u001b[39mis_method)\n\u001b[0;32m--> 577\u001b[0m     \u001b[38;5;28;01mreturn\u001b[39;00m \u001b[43m__original_func\u001b[49m\u001b[43m(\u001b[49m\u001b[38;5;241;43m*\u001b[39;49m\u001b[43margs_\u001b[49m\u001b[43m,\u001b[49m\u001b[43m \u001b[49m\u001b[38;5;241;43m*\u001b[39;49m\u001b[38;5;241;43m*\u001b[39;49m\u001b[43mkwargs_\u001b[49m\u001b[43m)\u001b[49m\n",
      "File \u001b[0;32m/net/pr2/projects/plgrid/plggneuromol/imdik-zekanowski-gts/venv-hail-0.2.105/lib/python3.10/site-packages/hail/methods/impex.py:2507\u001b[0m, in \u001b[0;36mread_matrix_table\u001b[0;34m(path, _intervals, _filter_intervals, _drop_cols, _drop_rows, _create_row_uids, _create_col_uids, _n_partitions, _assert_type, _load_refs)\u001b[0m\n\u001b[1;32m   2495\u001b[0m \u001b[38;5;250m\u001b[39m\u001b[38;5;124;03m\"\"\"Read in a :class:`.MatrixTable` written with :meth:`.MatrixTable.write`.\u001b[39;00m\n\u001b[1;32m   2496\u001b[0m \n\u001b[1;32m   2497\u001b[0m \u001b[38;5;124;03mParameters\u001b[39;00m\n\u001b[0;32m   (...)\u001b[0m\n\u001b[1;32m   2504\u001b[0m \u001b[38;5;124;03m:class:`.MatrixTable`\u001b[39;00m\n\u001b[1;32m   2505\u001b[0m \u001b[38;5;124;03m\"\"\"\u001b[39;00m\n\u001b[1;32m   2506\u001b[0m \u001b[38;5;28;01mif\u001b[39;00m _load_refs:\n\u001b[0;32m-> 2507\u001b[0m     \u001b[38;5;28;01mfor\u001b[39;00m rg_config \u001b[38;5;129;01min\u001b[39;00m \u001b[43mEnv\u001b[49m\u001b[38;5;241;43m.\u001b[39;49m\u001b[43mbackend\u001b[49m\u001b[43m(\u001b[49m\u001b[43m)\u001b[49m\u001b[38;5;241;43m.\u001b[39;49m\u001b[43mload_references_from_dataset\u001b[49m\u001b[43m(\u001b[49m\u001b[43mpath\u001b[49m\u001b[43m)\u001b[49m:\n\u001b[1;32m   2508\u001b[0m         hl\u001b[38;5;241m.\u001b[39mReferenceGenome\u001b[38;5;241m.\u001b[39m_from_config(rg_config)\n\u001b[1;32m   2510\u001b[0m \u001b[38;5;28;01mif\u001b[39;00m _intervals \u001b[38;5;129;01mis\u001b[39;00m \u001b[38;5;129;01mnot\u001b[39;00m \u001b[38;5;28;01mNone\u001b[39;00m \u001b[38;5;129;01mand\u001b[39;00m _n_partitions \u001b[38;5;129;01mis\u001b[39;00m \u001b[38;5;129;01mnot\u001b[39;00m \u001b[38;5;28;01mNone\u001b[39;00m:\n",
      "File \u001b[0;32m/net/pr2/projects/plgrid/plggneuromol/imdik-zekanowski-gts/venv-hail-0.2.105/lib/python3.10/site-packages/hail/backend/spark_backend.py:324\u001b[0m, in \u001b[0;36mSparkBackend.load_references_from_dataset\u001b[0;34m(self, path)\u001b[0m\n\u001b[1;32m    323\u001b[0m \u001b[38;5;28;01mdef\u001b[39;00m \u001b[38;5;21mload_references_from_dataset\u001b[39m(\u001b[38;5;28mself\u001b[39m, path):\n\u001b[0;32m--> 324\u001b[0m     \u001b[38;5;28;01mreturn\u001b[39;00m json\u001b[38;5;241m.\u001b[39mloads(\u001b[38;5;28;43mself\u001b[39;49m\u001b[38;5;241;43m.\u001b[39;49m\u001b[43mhail_package\u001b[49m\u001b[43m(\u001b[49m\u001b[43m)\u001b[49m\u001b[38;5;241;43m.\u001b[39;49m\u001b[43mvariant\u001b[49m\u001b[38;5;241;43m.\u001b[39;49m\u001b[43mReferenceGenome\u001b[49m\u001b[38;5;241;43m.\u001b[39;49m\u001b[43mfromHailDataset\u001b[49m\u001b[43m(\u001b[49m\u001b[38;5;28;43mself\u001b[39;49m\u001b[38;5;241;43m.\u001b[39;49m\u001b[43mfs\u001b[49m\u001b[38;5;241;43m.\u001b[39;49m\u001b[43m_jfs\u001b[49m\u001b[43m,\u001b[49m\u001b[43m \u001b[49m\u001b[43mpath\u001b[49m\u001b[43m)\u001b[49m)\n",
      "File \u001b[0;32m/net/pr2/projects/plgrid/plggneuromol/imdik-zekanowski-gts/venv-hail-0.2.105/lib/python3.10/site-packages/py4j/java_gateway.py:1304\u001b[0m, in \u001b[0;36mJavaMember.__call__\u001b[0;34m(self, *args)\u001b[0m\n\u001b[1;32m   1298\u001b[0m command \u001b[38;5;241m=\u001b[39m proto\u001b[38;5;241m.\u001b[39mCALL_COMMAND_NAME \u001b[38;5;241m+\u001b[39m\\\n\u001b[1;32m   1299\u001b[0m     \u001b[38;5;28mself\u001b[39m\u001b[38;5;241m.\u001b[39mcommand_header \u001b[38;5;241m+\u001b[39m\\\n\u001b[1;32m   1300\u001b[0m     args_command \u001b[38;5;241m+\u001b[39m\\\n\u001b[1;32m   1301\u001b[0m     proto\u001b[38;5;241m.\u001b[39mEND_COMMAND_PART\n\u001b[1;32m   1303\u001b[0m answer \u001b[38;5;241m=\u001b[39m \u001b[38;5;28mself\u001b[39m\u001b[38;5;241m.\u001b[39mgateway_client\u001b[38;5;241m.\u001b[39msend_command(command)\n\u001b[0;32m-> 1304\u001b[0m return_value \u001b[38;5;241m=\u001b[39m \u001b[43mget_return_value\u001b[49m\u001b[43m(\u001b[49m\n\u001b[1;32m   1305\u001b[0m \u001b[43m    \u001b[49m\u001b[43manswer\u001b[49m\u001b[43m,\u001b[49m\u001b[43m \u001b[49m\u001b[38;5;28;43mself\u001b[39;49m\u001b[38;5;241;43m.\u001b[39;49m\u001b[43mgateway_client\u001b[49m\u001b[43m,\u001b[49m\u001b[43m \u001b[49m\u001b[38;5;28;43mself\u001b[39;49m\u001b[38;5;241;43m.\u001b[39;49m\u001b[43mtarget_id\u001b[49m\u001b[43m,\u001b[49m\u001b[43m \u001b[49m\u001b[38;5;28;43mself\u001b[39;49m\u001b[38;5;241;43m.\u001b[39;49m\u001b[43mname\u001b[49m\u001b[43m)\u001b[49m\n\u001b[1;32m   1307\u001b[0m \u001b[38;5;28;01mfor\u001b[39;00m temp_arg \u001b[38;5;129;01min\u001b[39;00m temp_args:\n\u001b[1;32m   1308\u001b[0m     temp_arg\u001b[38;5;241m.\u001b[39m_detach()\n",
      "File \u001b[0;32m/net/pr2/projects/plgrid/plggneuromol/imdik-zekanowski-gts/venv-hail-0.2.105/lib/python3.10/site-packages/hail/backend/py4j_backend.py:31\u001b[0m, in \u001b[0;36mhandle_java_exception.<locals>.deco\u001b[0;34m(*args, **kwargs)\u001b[0m\n\u001b[1;32m     29\u001b[0m     tpl \u001b[38;5;241m=\u001b[39m Env\u001b[38;5;241m.\u001b[39mjutils()\u001b[38;5;241m.\u001b[39mhandleForPython(e\u001b[38;5;241m.\u001b[39mjava_exception)\n\u001b[1;32m     30\u001b[0m     deepest, full, error_id \u001b[38;5;241m=\u001b[39m tpl\u001b[38;5;241m.\u001b[39m_1(), tpl\u001b[38;5;241m.\u001b[39m_2(), tpl\u001b[38;5;241m.\u001b[39m_3()\n\u001b[0;32m---> 31\u001b[0m     \u001b[38;5;28;01mraise\u001b[39;00m fatal_error_from_java_error_triplet(deepest, full, error_id) \u001b[38;5;28;01mfrom\u001b[39;00m \u001b[38;5;28mNone\u001b[39m\n\u001b[1;32m     32\u001b[0m \u001b[38;5;28;01mexcept\u001b[39;00m pyspark\u001b[38;5;241m.\u001b[39msql\u001b[38;5;241m.\u001b[39mutils\u001b[38;5;241m.\u001b[39mCapturedException \u001b[38;5;28;01mas\u001b[39;00m e:\n\u001b[1;32m     33\u001b[0m     \u001b[38;5;28;01mraise\u001b[39;00m FatalError(\u001b[38;5;124m'\u001b[39m\u001b[38;5;132;01m%s\u001b[39;00m\u001b[38;5;130;01m\\n\u001b[39;00m\u001b[38;5;130;01m\\n\u001b[39;00m\u001b[38;5;124mJava stack trace:\u001b[39m\u001b[38;5;130;01m\\n\u001b[39;00m\u001b[38;5;132;01m%s\u001b[39;00m\u001b[38;5;130;01m\\n\u001b[39;00m\u001b[38;5;124m'\u001b[39m\n\u001b[1;32m     34\u001b[0m                      \u001b[38;5;124m'\u001b[39m\u001b[38;5;124mHail version: \u001b[39m\u001b[38;5;132;01m%s\u001b[39;00m\u001b[38;5;130;01m\\n\u001b[39;00m\u001b[38;5;124m'\u001b[39m\n\u001b[1;32m     35\u001b[0m                      \u001b[38;5;124m'\u001b[39m\u001b[38;5;124mError summary: \u001b[39m\u001b[38;5;132;01m%s\u001b[39;00m\u001b[38;5;124m'\u001b[39m \u001b[38;5;241m%\u001b[39m (e\u001b[38;5;241m.\u001b[39mdesc, e\u001b[38;5;241m.\u001b[39mstackTrace, hail\u001b[38;5;241m.\u001b[39m__version__, e\u001b[38;5;241m.\u001b[39mdesc)) \u001b[38;5;28;01mfrom\u001b[39;00m \u001b[38;5;28mNone\u001b[39m\n",
      "\u001b[0;31mFatalError\u001b[0m: FileNotFoundException: File /localfs/2214337/1kg-eur-to-merge.vds-filtered-vds/metadata.json.gz does not exist\n\nJava stack trace:\njava.io.FileNotFoundException: File /localfs/2214337/1kg-eur-to-merge.vds-filtered-vds/metadata.json.gz does not exist\n\tat org.apache.hadoop.fs.RawLocalFileSystem.deprecatedGetFileStatus(RawLocalFileSystem.java:666)\n\tat org.apache.hadoop.fs.RawLocalFileSystem.getFileLinkStatusInternal(RawLocalFileSystem.java:987)\n\tat org.apache.hadoop.fs.RawLocalFileSystem.getFileStatus(RawLocalFileSystem.java:656)\n\tat org.apache.hadoop.fs.FilterFileSystem.getFileStatus(FilterFileSystem.java:454)\n\tat org.apache.hadoop.fs.ChecksumFileSystem$ChecksumFSInputChecker.<init>(ChecksumFileSystem.java:146)\n\tat org.apache.hadoop.fs.ChecksumFileSystem.open(ChecksumFileSystem.java:347)\n\tat org.apache.hadoop.fs.FileSystem.open(FileSystem.java:899)\n\tat is.hail.io.fs.HadoopFS.openNoCompression(HadoopFS.scala:92)\n\tat is.hail.io.fs.FS.open(FS.scala:360)\n\tat is.hail.io.fs.FS.open$(FS.scala:359)\n\tat is.hail.io.fs.HadoopFS.open(HadoopFS.scala:72)\n\tat is.hail.io.fs.FS.open(FS.scala:372)\n\tat is.hail.io.fs.FS.open$(FS.scala:371)\n\tat is.hail.io.fs.HadoopFS.open(HadoopFS.scala:72)\n\tat is.hail.io.fs.FS.open(FS.scala:369)\n\tat is.hail.io.fs.FS.open$(FS.scala:368)\n\tat is.hail.io.fs.HadoopFS.open(HadoopFS.scala:72)\n\tat is.hail.expr.ir.RelationalSpec$.readMetadata(AbstractMatrixTableSpec.scala:39)\n\tat is.hail.expr.ir.RelationalSpec$.readReferences(AbstractMatrixTableSpec.scala:74)\n\tat is.hail.variant.ReferenceGenome$.fromHailDataset(ReferenceGenome.scala:584)\n\tat is.hail.variant.ReferenceGenome.fromHailDataset(ReferenceGenome.scala)\n\tat jdk.internal.reflect.GeneratedMethodAccessor122.invoke(Unknown Source)\n\tat java.base/jdk.internal.reflect.DelegatingMethodAccessorImpl.invoke(DelegatingMethodAccessorImpl.java:43)\n\tat java.base/java.lang.reflect.Method.invoke(Method.java:566)\n\tat py4j.reflection.MethodInvoker.invoke(MethodInvoker.java:244)\n\tat py4j.reflection.ReflectionEngine.invoke(ReflectionEngine.java:357)\n\tat py4j.Gateway.invoke(Gateway.java:282)\n\tat py4j.commands.AbstractCommand.invokeMethod(AbstractCommand.java:132)\n\tat py4j.commands.CallCommand.execute(CallCommand.java:79)\n\tat py4j.GatewayConnection.run(GatewayConnection.java:238)\n\tat java.base/java.lang.Thread.run(Thread.java:834)\n\n\n\nHail version: 0.2.109-b71b065e4bb6\nError summary: FileNotFoundException: File /localfs/2214337/1kg-eur-to-merge.vds-filtered-vds/metadata.json.gz does not exist"
     ]
    }
   ],
   "source": [
    "test = hl.read_matrix_table('/localfs/2214337/1kg-eur-to-merge.vds-filtered-vds')"
   ]
  },
  {
   "cell_type": "code",
   "execution_count": 50,
   "id": "82338d55-e0ec-45cd-98b7-d630ca11431f",
   "metadata": {
    "tags": []
   },
   "outputs": [
    {
     "ename": "IndexError",
     "evalue": "list index out of range",
     "output_type": "error",
     "traceback": [
      "\u001b[0;31m---------------------------------------------------------------------------\u001b[0m",
      "\u001b[0;31mIndexError\u001b[0m                                Traceback (most recent call last)",
      "Cell \u001b[0;32mIn[50], line 1\u001b[0m\n\u001b[0;32m----> 1\u001b[0m \u001b[43mvdses\u001b[49m\u001b[43m[\u001b[49m\u001b[38;5;241;43m2\u001b[39;49m\u001b[43m]\u001b[49m\u001b[38;5;241m.\u001b[39mvariant_data\u001b[38;5;241m.\u001b[39mcount()\n",
      "\u001b[0;31mIndexError\u001b[0m: list index out of range"
     ]
    }
   ],
   "source": [
    "vdses[2].variant_data.count()"
   ]
  },
  {
   "cell_type": "code",
   "execution_count": 18,
   "id": "86144693-0933-4005-a0d7-299a28f7c95c",
   "metadata": {
    "tags": []
   },
   "outputs": [
    {
     "data": {
      "text/plain": [
       "(2407554, 4151)"
      ]
     },
     "execution_count": 18,
     "metadata": {},
     "output_type": "execute_result"
    }
   ],
   "source": [
    "vdses[0].reference_data.count()"
   ]
  },
  {
   "cell_type": "code",
   "execution_count": null,
   "id": "49a34c9f-d9d6-4947-b6e3-c382da07c11c",
   "metadata": {
    "tags": []
   },
   "outputs": [],
   "source": [
    "kg_vds = vdses[0]\n",
    "\n",
    "#make the 1kg table consistent with the other table:\n",
    "kg_vds.reference_data = kg_vds.reference_data.select_entries(\n",
    "    END = kg_vds.reference_data.END,\n",
    "    DP = kg_vds.reference_data.DP,\n",
    "    GQ = kg_vds.reference_data.GQ,\n",
    "    MIN_DP = kg_vds.reference_data.MIN_DP\n",
    ")\n",
    "\n",
    "kg_vds.variant_data = kg_vds.variant_data.select_entries(\n",
    "    LA = kg_vds.variant_data.LA,\n",
    "    LGT = kg_vds.variant_data.LGT,\n",
    "    LAD = kg_vds.variant_data.LAD,\n",
    "    LPGT = kg_vds.variant_data.LPGT,\n",
    "    LPL = kg_vds.variant_data.LPL,\n",
    "    RGQ = kg_vds.variant_data.RGQ,\n",
    "    gvcf_info = kg_vds.variant_data.gvcf_info.select(\n",
    "            BaseQRankSum = kg_vds.variant_data.gvcf_info.BaseQRankSum,\n",
    "            ExcessHet = hl.missing(hl.tfloat),\n",
    "            InbreedingCoeff = hl.missing(hl.tfloat),\n",
    "            MLEAC = hl.literal([0]),\n",
    "            MLEAF = hl.literal([0.1]),\n",
    "            MQRankSum = kg_vds.variant_data.gvcf_info.MQRankSum,\n",
    "            RAW_MQandDP = hl.literal([0]),\n",
    "            ReadPosRankSum = kg_vds.variant_data.gvcf_info.ReadPosRankSum\n",
    "        ),\n",
    "    DP = kg_vds.variant_data.DP,\n",
    "    GQ = kg_vds.variant_data.GQ,\n",
    "    MIN_DP = kg_vds.variant_data.MIN_DP,\n",
    "    PID = kg_vds.variant_data.PID,\n",
    "    PS = hl.missing(hl.tint),\n",
    "    SB = kg_vds.variant_data.SB\n",
    ")\n",
    "\n",
    "kg_vds.write(localfs_path+'1kg-all-to-merge.vds')"
   ]
  },
  {
   "cell_type": "code",
   "execution_count": 23,
   "id": "340cfb14-93bd-406e-96f2-e1de98ca41e8",
   "metadata": {
    "tags": []
   },
   "outputs": [
    {
     "data": {
      "text/plain": [
       "(77421, 501)"
      ]
     },
     "execution_count": 23,
     "metadata": {},
     "output_type": "execute_result"
    }
   ],
   "source": [
    "vdses[1].variant_data.count()"
   ]
  },
  {
   "cell_type": "code",
   "execution_count": 24,
   "id": "11c6f621-0f09-4b56-8153-ba5562d020eb",
   "metadata": {
    "tags": []
   },
   "outputs": [
    {
     "data": {
      "text/plain": [
       "(920934, 501)"
      ]
     },
     "execution_count": 24,
     "metadata": {},
     "output_type": "execute_result"
    }
   ],
   "source": [
    "vdses[1].reference_data.count()"
   ]
  },
  {
   "cell_type": "code",
   "execution_count": 26,
   "id": "ec19a744-001f-4254-9cff-9fab90f3ff8d",
   "metadata": {
    "tags": []
   },
   "outputs": [
    {
     "name": "stderr",
     "output_type": "stream",
     "text": [
      "2023-04-09 17:15:45.780 Hail: INFO: wrote matrix table with 920934 rows and 501 columns in 50001 partitions to /localfs/2214337/1kg-eur-to-merge.vds/reference_data\n",
      "2023-04-09 17:15:48.345 Hail: INFO: wrote matrix table with 77421 rows and 501 columns in 87 partitions to /localfs/2214337/1kg-eur-to-merge.vds/variant_data\n"
     ]
    }
   ],
   "source": [
    "kg_vds = vdses[1]\n",
    "\n",
    "#make the 1kg table consistent with the other table:\n",
    "kg_vds.reference_data = kg_vds.reference_data.select_entries(\n",
    "    END = kg_vds.reference_data.END,\n",
    "    DP = kg_vds.reference_data.DP,\n",
    "    GQ = kg_vds.reference_data.GQ,\n",
    "    MIN_DP = kg_vds.reference_data.MIN_DP\n",
    ")\n",
    "\n",
    "kg_vds.variant_data = kg_vds.variant_data.select_entries(\n",
    "    LA = kg_vds.variant_data.LA,\n",
    "    LGT = kg_vds.variant_data.LGT,\n",
    "    LAD = kg_vds.variant_data.LAD,\n",
    "    LPGT = kg_vds.variant_data.LPGT,\n",
    "    LPL = kg_vds.variant_data.LPL,\n",
    "    RGQ = kg_vds.variant_data.RGQ,\n",
    "    gvcf_info = kg_vds.variant_data.gvcf_info.select(\n",
    "            BaseQRankSum = kg_vds.variant_data.gvcf_info.BaseQRankSum,\n",
    "            ExcessHet = hl.missing(hl.tfloat),\n",
    "            InbreedingCoeff = hl.missing(hl.tfloat),\n",
    "            MLEAC = hl.literal([0]),\n",
    "            MLEAF = hl.literal([0.1]),\n",
    "            MQRankSum = kg_vds.variant_data.gvcf_info.MQRankSum,\n",
    "            RAW_MQandDP = hl.literal([0]),\n",
    "            ReadPosRankSum = kg_vds.variant_data.gvcf_info.ReadPosRankSum\n",
    "        ),\n",
    "    DP = kg_vds.variant_data.DP,\n",
    "    GQ = kg_vds.variant_data.GQ,\n",
    "    MIN_DP = kg_vds.variant_data.MIN_DP,\n",
    "    PID = kg_vds.variant_data.PID,\n",
    "    PS = hl.missing(hl.tint),\n",
    "    SB = kg_vds.variant_data.SB\n",
    ")\n",
    "\n",
    "kg_vds.write(localfs_path+'1kg-eur-to-merge.vds')"
   ]
  },
  {
   "cell_type": "markdown",
   "id": "94669c5a-24fc-4a22-93e2-cb5dbb61e657",
   "metadata": {
    "jp-MarkdownHeadingCollapsed": true,
    "tags": []
   },
   "source": [
    "now I have two joined vdses - gts with european samples and gts without european samples and I will export them to dense mts, perform matrix qc and see what happens - does it matter that I filtered the samples first (in my mind it shouldn't"
   ]
  },
  {
   "cell_type": "markdown",
   "id": "9946e6b6-c8dc-4d5f-8e7e-c6726722f05e",
   "metadata": {
    "tags": []
   },
   "source": [
    "### repartition the vds's"
   ]
  },
  {
   "cell_type": "code",
   "execution_count": 3,
   "id": "4c2d12ea-6a74-4874-80b4-0c993a2e9cc9",
   "metadata": {
    "tags": []
   },
   "outputs": [],
   "source": [
    "kg_all = hl.vds.read_vds(localfs_path+'1kg-all-to-merge.vds')\n",
    "gts = hl.vds.read_vds(localfs_path+'gts.vds-filtered-vds')\n",
    "kg_eur = hl.vds.read_vds(localfs_path+'1kg-eur-to-merge.vds')"
   ]
  },
  {
   "cell_type": "code",
   "execution_count": 8,
   "id": "66b1aa1e-71e9-4075-a75a-3e1f44d24b34",
   "metadata": {
    "tags": []
   },
   "outputs": [],
   "source": [
    "hl.vds.VariantDataset(\n",
    "    kg_all.reference_data.naive_coalesce(100),\n",
    "    kg_all.variant_data.naive_coalesce(100)).write(localfs_path+'1kg-all-to-merge-s.vds')\n",
    "\n",
    "hl.vds.VariantDataset(\n",
    "    gts.reference_data.naive_coalesce(100),\n",
    "    gts.variant_data.naive_coalesce(100)).write(localfs_path+'gts.vds-filtered-s.vds')"
   ]
  },
  {
   "cell_type": "code",
   "execution_count": 11,
   "id": "99de25cf-a8d6-4754-b8ec-9293ea64d1e7",
   "metadata": {
    "tags": []
   },
   "outputs": [
    {
     "name": "stderr",
     "output_type": "stream",
     "text": [
      "2023-04-10 11:45:07.908 Hail: INFO: wrote matrix table with 920934 rows and 501 columns in 100 partitions to /localfs/2214337/1kg-eur-to-merge-s-2.vds/reference_data\n",
      "2023-04-10 11:45:10.339 Hail: INFO: wrote matrix table with 77421 rows and 501 columns in 87 partitions to /localfs/2214337/1kg-eur-to-merge-s-2.vds/variant_data\n"
     ]
    }
   ],
   "source": [
    "hl.vds.VariantDataset(\n",
    "    kg_eur.reference_data.naive_coalesce(100),\n",
    "    kg_eur.variant_data.naive_coalesce(100)).write(localfs_path+'1kg-eur-to-merge-s-2.vds')"
   ]
  },
  {
   "cell_type": "code",
   "execution_count": 10,
   "id": "e83d7f30-931f-4a46-a18b-c08c389a668f",
   "metadata": {
    "tags": []
   },
   "outputs": [
    {
     "name": "stderr",
     "output_type": "stream",
     "text": [
      "2023-04-10 11:41:03.296 Hail: INFO: Running VDS combiner:\n",
      "    VDS arguments: 2 datasets with 4439 samples\n",
      "    GVCF arguments: 0 inputs/samples\n",
      "    Branch factor: 50\n",
      "    GVCF merge batch size: 25\n",
      "2023-04-10 11:41:03.399 Hail: INFO: VDS Combine (job 1): merging 2 datasets with 4439 samples\n",
      "2023-04-10 11:41:55.407 Hail: INFO: wrote table with 2407554 rows in 100 partitions to /localfs/2214337/gts_1kg_all_tmp_5/combiner-intermediates/2f042d3b-6004-4acf-8fac-9b3ac1d3ef07_vds-combine_job1/interval_checkpoint.ht\n",
      "2023-04-10 11:42:23.867 Hail: INFO: wrote matrix table with 4871863 rows and 4439 columns in 102 partitions to /localfs/2214337/gts_1kg_all_5.vds/reference_data\n",
      "    Total size: 2.20 GiB\n",
      "    * Rows/entries: 2.20 GiB\n",
      "    * Columns: 17.19 KiB\n",
      "    * Globals: 11.00 B\n",
      "    * Smallest partition: 1 rows (305.00 B)\n",
      "    * Largest partition:  83544 rows (30.00 MiB)\n",
      "2023-04-10 11:43:21.402 Hail: INFO: wrote matrix table with 438460 rows and 4439 columns in 102 partitions to /localfs/2214337/gts_1kg_all_5.vds/variant_data\n",
      "    Total size: 1000.34 MiB\n",
      "    * Rows/entries: 1000.33 MiB\n",
      "    * Columns: 17.19 KiB\n",
      "    * Globals: 11.00 B\n",
      "    * Smallest partition: 0 rows (20.00 B)\n",
      "    * Largest partition:  3658 rows (24.16 MiB)\n",
      "2023-04-10 11:43:21.507 Hail: INFO: Finished VDS combiner!\n"
     ]
    }
   ],
   "source": [
    "#this is with all samples\n",
    "\n",
    "combiner_all = hl.vds.new_combiner(\n",
    "    output_path = localfs_path+'gts_1kg_all_5.vds',\n",
    "    temp_path = localfs_path+'gts_1kg_all_tmp_5',\n",
    "    save_path = localfs_path+'gts_1kg_all_sv_5',\n",
    "    vds_paths=[\n",
    "        localfs_path+'1kg-all-to-merge-s.vds',\n",
    "        localfs_path+'gts.vds-filtered-s.vds'         \n",
    "    ],\n",
    "    reference_genome = 'GRCh38',\n",
    "    use_genome_default_intervals = True,\n",
    "    gvcf_batch_size = 25,\n",
    "    branch_factor=50\n",
    ")\n",
    "\n",
    "combiner_all.run()\n",
    "combiner_all.save()"
   ]
  },
  {
   "cell_type": "code",
   "execution_count": 12,
   "id": "61e20af4-6d52-4714-b4ad-aa7ab975a8fb",
   "metadata": {
    "tags": []
   },
   "outputs": [
    {
     "name": "stderr",
     "output_type": "stream",
     "text": [
      "2023-04-10 11:47:14.380 Hail: INFO: Running VDS combiner:\n",
      "    VDS arguments: 2 datasets with 789 samples\n",
      "    GVCF arguments: 0 inputs/samples\n",
      "    Branch factor: 50\n",
      "    GVCF merge batch size: 25\n",
      "2023-04-10 11:47:14.451 Hail: INFO: VDS Combine (job 1): merging 2 datasets with 789 samples\n",
      "2023-04-10 11:47:18.705 Hail: INFO: wrote table with 920934 rows in 100 partitions to /localfs/2214337/gts_1kg_eur_tmp/combiner-intermediates/7499b210-b5b6-4b7b-881c-106bc95794ec_vds-combine_job1/interval_checkpoint.ht\n",
      "2023-04-10 11:47:40.131 Hail: INFO: wrote matrix table with 4867881 rows and 789 columns in 40 partitions to /localfs/2214337/gts_1kg_eur.vds/reference_data\n",
      "    Total size: 1.56 GiB\n",
      "    * Rows/entries: 1.56 GiB\n",
      "    * Columns: 3.21 KiB\n",
      "    * Globals: 11.00 B\n",
      "    * Smallest partition: 17 rows (5.46 KiB)\n",
      "    * Largest partition:  208272 rows (65.31 MiB)\n",
      "2023-04-10 11:47:49.390 Hail: INFO: wrote matrix table with 216804 rows and 789 columns in 40 partitions to /localfs/2214337/gts_1kg_eur.vds/variant_data\n",
      "    Total size: 182.56 MiB\n",
      "    * Rows/entries: 182.55 MiB\n",
      "    * Columns: 3.21 KiB\n",
      "    * Globals: 11.00 B\n",
      "    * Smallest partition: 0 rows (20.00 B)\n",
      "    * Largest partition:  7935 rows (9.06 MiB)\n",
      "2023-04-10 11:47:49.479 Hail: INFO: Finished VDS combiner!\n"
     ]
    }
   ],
   "source": [
    "combiner_all = hl.vds.new_combiner(\n",
    "    output_path = localfs_path+'gts_1kg_eur.vds',\n",
    "    temp_path = localfs_path+'gts_1kg_eur_tmp',\n",
    "    save_path = localfs_path+'gts_1kg_eur_sv',\n",
    "    vds_paths=[\n",
    "        localfs_path+'1kg-eur-to-merge-s-2.vds',\n",
    "        localfs_path+'gts.vds-filtered-s.vds'         \n",
    "    ],\n",
    "    reference_genome = 'GRCh38',\n",
    "    use_genome_default_intervals = True,\n",
    "    gvcf_batch_size = 25,\n",
    "    branch_factor=50\n",
    ")\n",
    "\n",
    "combiner_all.run()\n",
    "combiner_all.save()"
   ]
  },
  {
   "cell_type": "code",
   "execution_count": 13,
   "id": "e381717a-7dcc-441b-a6ab-bf88a6ef296f",
   "metadata": {
    "tags": []
   },
   "outputs": [],
   "source": [
    "# now this is gts + all\n",
    "vdses = [\n",
    "    localfs_path+'gts_1kg_all_5.vds',\n",
    "    localfs_path+'gts_1kg_eur.vds'\n",
    "]\n",
    "# now this is gts + eur"
   ]
  },
  {
   "cell_type": "code",
   "execution_count": 16,
   "id": "85b07343-aca0-4c8e-9f34-eb29974bcdaf",
   "metadata": {},
   "outputs": [
    {
     "name": "stderr",
     "output_type": "stream",
     "text": [
      "2023-04-10 11:59:00.434 Hail: INFO: wrote matrix table with 216804 rows and 789 columns in 40 partitions to /localfs/2214337/gts_1kg_eur.vds-qced-new-test\n"
     ]
    }
   ],
   "source": [
    "for vds in vdses[1:]:\n",
    "    \n",
    "    full = hl.vds.read_vds(vds)\n",
    "    \n",
    "    vd_gt = full.variant_data.transmute_entries(\n",
    "    GT = hl.vds.lgt_to_gt(full.variant_data.LGT, full.variant_data.LA))\n",
    "    mt = hl.vds.to_dense_mt(hl.vds.VariantDataset(full.reference_data, vd_gt))\n",
    "    \n",
    "    mt = mt.naive_coalesce(50)\n",
    "    mt = hl.sample_qc(mt)\n",
    "    mt = hl.variant_qc(mt)\n",
    "\n",
    "    \n",
    "    mt = mt.annotate_cols(\n",
    "        group = hl.if_else(\n",
    "            mt.s.contains('B'),\n",
    "            'local_controls',\n",
    "            hl.if_else(\n",
    "                (mt.s.contains('NA') | mt.s.contains('HG')),\n",
    "                '1kg_controls',\n",
    "                'GTS'\n",
    "            )\n",
    "        )\n",
    "    )  \n",
    "    \n",
    "    mt = mt.checkpoint(localfs_path+vds.split('/')[-1]+'-qced-new-test')"
   ]
  },
  {
   "cell_type": "code",
   "execution_count": 18,
   "id": "f824b1f7-aefb-4b9c-ac78-8e5dcc9430c7",
   "metadata": {
    "tags": []
   },
   "outputs": [],
   "source": [
    "qced = [\n",
    "    hl.read_matrix_table('/localfs/2214337/gts_1kg_all_5.vds-qced-new-test'),\n",
    "    hl.read_matrix_table('/localfs/2214337/gts_1kg_eur.vds-qced-new-test')\n",
    "]   "
   ]
  },
  {
   "cell_type": "code",
   "execution_count": 39,
   "id": "0342e4e0-d582-4baf-8df4-4ca9ea4ddfcb",
   "metadata": {
    "tags": []
   },
   "outputs": [],
   "source": [
    "joined = hl.read_matrix_table('/localfs/2214337/full.vds-qced')"
   ]
  },
  {
   "cell_type": "code",
   "execution_count": 40,
   "id": "5c9fc509-727e-4b93-9776-806f504f259c",
   "metadata": {
    "tags": []
   },
   "outputs": [
    {
     "data": {
      "text/plain": [
       "(216805, 789)"
      ]
     },
     "execution_count": 40,
     "metadata": {},
     "output_type": "execute_result"
    }
   ],
   "source": [
    "joined.count()"
   ]
  },
  {
   "cell_type": "code",
   "execution_count": 44,
   "id": "d98dd44a-c0a7-4392-9cff-4eb4587d3380",
   "metadata": {
    "tags": []
   },
   "outputs": [
    {
     "data": {
      "text/html": [
       "<table><thead><tr><td style=\"white-space: nowrap; max-width: 500px; overflow: hidden; text-overflow: ellipsis; \" colspan=\"1\"><div style=\"text-align: left;\"></div></td><td style=\"white-space: nowrap; max-width: 500px; overflow: hidden; text-overflow: ellipsis; \" colspan=\"26\"><div style=\"text-align: left;\"></div></td></tr><tr><td style=\"white-space: nowrap; max-width: 500px; overflow: hidden; text-overflow: ellipsis; \" colspan=\"1\"><div style=\"text-align: left;\"></div></td><td style=\"white-space: nowrap; max-width: 500px; overflow: hidden; text-overflow: ellipsis; \" colspan=\"26\"><div style=\"text-align: left;border-bottom: solid 2px #000; padding-bottom: 5px\">sample_qc</div></td></tr><tr><td style=\"white-space: nowrap; max-width: 500px; overflow: hidden; text-overflow: ellipsis; \" colspan=\"1\"><div style=\"text-align: left;\"></div></td><td style=\"white-space: nowrap; max-width: 500px; overflow: hidden; text-overflow: ellipsis; \" colspan=\"4\"><div style=\"text-align: left;border-bottom: solid 2px #000; padding-bottom: 5px\">dp_stats</div></td><td style=\"white-space: nowrap; max-width: 500px; overflow: hidden; text-overflow: ellipsis; \" colspan=\"4\"><div style=\"text-align: left;border-bottom: solid 2px #000; padding-bottom: 5px\">gq_stats</div></td><td style=\"white-space: nowrap; max-width: 500px; overflow: hidden; text-overflow: ellipsis; \" colspan=\"1\"><div style=\"text-align: left;\"></div></td><td style=\"white-space: nowrap; max-width: 500px; overflow: hidden; text-overflow: ellipsis; \" colspan=\"1\"><div style=\"text-align: left;\"></div></td><td style=\"white-space: nowrap; max-width: 500px; overflow: hidden; text-overflow: ellipsis; \" colspan=\"1\"><div style=\"text-align: left;\"></div></td><td style=\"white-space: nowrap; max-width: 500px; overflow: hidden; text-overflow: ellipsis; \" colspan=\"1\"><div style=\"text-align: left;\"></div></td><td style=\"white-space: nowrap; max-width: 500px; overflow: hidden; text-overflow: ellipsis; \" colspan=\"1\"><div style=\"text-align: left;\"></div></td><td style=\"white-space: nowrap; max-width: 500px; overflow: hidden; text-overflow: ellipsis; \" colspan=\"1\"><div style=\"text-align: left;\"></div></td><td style=\"white-space: nowrap; max-width: 500px; overflow: hidden; text-overflow: ellipsis; \" colspan=\"1\"><div style=\"text-align: left;\"></div></td><td style=\"white-space: nowrap; max-width: 500px; overflow: hidden; text-overflow: ellipsis; \" colspan=\"1\"><div style=\"text-align: left;\"></div></td><td style=\"white-space: nowrap; max-width: 500px; overflow: hidden; text-overflow: ellipsis; \" colspan=\"1\"><div style=\"text-align: left;\"></div></td><td style=\"white-space: nowrap; max-width: 500px; overflow: hidden; text-overflow: ellipsis; \" colspan=\"1\"><div style=\"text-align: left;\"></div></td><td style=\"white-space: nowrap; max-width: 500px; overflow: hidden; text-overflow: ellipsis; \" colspan=\"1\"><div style=\"text-align: left;\"></div></td><td style=\"white-space: nowrap; max-width: 500px; overflow: hidden; text-overflow: ellipsis; \" colspan=\"1\"><div style=\"text-align: left;\"></div></td><td style=\"white-space: nowrap; max-width: 500px; overflow: hidden; text-overflow: ellipsis; \" colspan=\"1\"><div style=\"text-align: left;\"></div></td><td style=\"white-space: nowrap; max-width: 500px; overflow: hidden; text-overflow: ellipsis; \" colspan=\"1\"><div style=\"text-align: left;\"></div></td><td style=\"white-space: nowrap; max-width: 500px; overflow: hidden; text-overflow: ellipsis; \" colspan=\"1\"><div style=\"text-align: left;\"></div></td><td style=\"white-space: nowrap; max-width: 500px; overflow: hidden; text-overflow: ellipsis; \" colspan=\"1\"><div style=\"text-align: left;\"></div></td><td style=\"white-space: nowrap; max-width: 500px; overflow: hidden; text-overflow: ellipsis; \" colspan=\"1\"><div style=\"text-align: left;\"></div></td><td style=\"white-space: nowrap; max-width: 500px; overflow: hidden; text-overflow: ellipsis; \" colspan=\"1\"><div style=\"text-align: left;\"></div></td></tr><tr><td style=\"white-space: nowrap; max-width: 500px; overflow: hidden; text-overflow: ellipsis; \" colspan=\"1\"><div style=\"text-align: left;border-bottom: solid 2px #000; padding-bottom: 5px\">s</div></td><td style=\"white-space: nowrap; max-width: 500px; overflow: hidden; text-overflow: ellipsis; \" colspan=\"1\"><div style=\"text-align: left;border-bottom: solid 2px #000; padding-bottom: 5px\">mean</div></td><td style=\"white-space: nowrap; max-width: 500px; overflow: hidden; text-overflow: ellipsis; \" colspan=\"1\"><div style=\"text-align: left;border-bottom: solid 2px #000; padding-bottom: 5px\">stdev</div></td><td style=\"white-space: nowrap; max-width: 500px; overflow: hidden; text-overflow: ellipsis; \" colspan=\"1\"><div style=\"text-align: left;border-bottom: solid 2px #000; padding-bottom: 5px\">min</div></td><td style=\"white-space: nowrap; max-width: 500px; overflow: hidden; text-overflow: ellipsis; \" colspan=\"1\"><div style=\"text-align: left;border-bottom: solid 2px #000; padding-bottom: 5px\">max</div></td><td style=\"white-space: nowrap; max-width: 500px; overflow: hidden; text-overflow: ellipsis; \" colspan=\"1\"><div style=\"text-align: left;border-bottom: solid 2px #000; padding-bottom: 5px\">mean</div></td><td style=\"white-space: nowrap; max-width: 500px; overflow: hidden; text-overflow: ellipsis; \" colspan=\"1\"><div style=\"text-align: left;border-bottom: solid 2px #000; padding-bottom: 5px\">stdev</div></td><td style=\"white-space: nowrap; max-width: 500px; overflow: hidden; text-overflow: ellipsis; \" colspan=\"1\"><div style=\"text-align: left;border-bottom: solid 2px #000; padding-bottom: 5px\">min</div></td><td style=\"white-space: nowrap; max-width: 500px; overflow: hidden; text-overflow: ellipsis; \" colspan=\"1\"><div style=\"text-align: left;border-bottom: solid 2px #000; padding-bottom: 5px\">max</div></td><td style=\"white-space: nowrap; max-width: 500px; overflow: hidden; text-overflow: ellipsis; \" colspan=\"1\"><div style=\"text-align: left;border-bottom: solid 2px #000; padding-bottom: 5px\">call_rate</div></td><td style=\"white-space: nowrap; max-width: 500px; overflow: hidden; text-overflow: ellipsis; \" colspan=\"1\"><div style=\"text-align: left;border-bottom: solid 2px #000; padding-bottom: 5px\">n_called</div></td><td style=\"white-space: nowrap; max-width: 500px; overflow: hidden; text-overflow: ellipsis; \" colspan=\"1\"><div style=\"text-align: left;border-bottom: solid 2px #000; padding-bottom: 5px\">n_not_called</div></td><td style=\"white-space: nowrap; max-width: 500px; overflow: hidden; text-overflow: ellipsis; \" colspan=\"1\"><div style=\"text-align: left;border-bottom: solid 2px #000; padding-bottom: 5px\">n_filtered</div></td><td style=\"white-space: nowrap; max-width: 500px; overflow: hidden; text-overflow: ellipsis; \" colspan=\"1\"><div style=\"text-align: left;border-bottom: solid 2px #000; padding-bottom: 5px\">n_hom_ref</div></td><td style=\"white-space: nowrap; max-width: 500px; overflow: hidden; text-overflow: ellipsis; \" colspan=\"1\"><div style=\"text-align: left;border-bottom: solid 2px #000; padding-bottom: 5px\">n_het</div></td><td style=\"white-space: nowrap; max-width: 500px; overflow: hidden; text-overflow: ellipsis; \" colspan=\"1\"><div style=\"text-align: left;border-bottom: solid 2px #000; padding-bottom: 5px\">n_hom_var</div></td><td style=\"white-space: nowrap; max-width: 500px; overflow: hidden; text-overflow: ellipsis; \" colspan=\"1\"><div style=\"text-align: left;border-bottom: solid 2px #000; padding-bottom: 5px\">n_non_ref</div></td><td style=\"white-space: nowrap; max-width: 500px; overflow: hidden; text-overflow: ellipsis; \" colspan=\"1\"><div style=\"text-align: left;border-bottom: solid 2px #000; padding-bottom: 5px\">n_singleton</div></td><td style=\"white-space: nowrap; max-width: 500px; overflow: hidden; text-overflow: ellipsis; \" colspan=\"1\"><div style=\"text-align: left;border-bottom: solid 2px #000; padding-bottom: 5px\">n_snp</div></td><td style=\"white-space: nowrap; max-width: 500px; overflow: hidden; text-overflow: ellipsis; \" colspan=\"1\"><div style=\"text-align: left;border-bottom: solid 2px #000; padding-bottom: 5px\">n_insertion</div></td><td style=\"white-space: nowrap; max-width: 500px; overflow: hidden; text-overflow: ellipsis; \" colspan=\"1\"><div style=\"text-align: left;border-bottom: solid 2px #000; padding-bottom: 5px\">n_deletion</div></td><td style=\"white-space: nowrap; max-width: 500px; overflow: hidden; text-overflow: ellipsis; \" colspan=\"1\"><div style=\"text-align: left;border-bottom: solid 2px #000; padding-bottom: 5px\">n_transition</div></td><td style=\"white-space: nowrap; max-width: 500px; overflow: hidden; text-overflow: ellipsis; \" colspan=\"1\"><div style=\"text-align: left;border-bottom: solid 2px #000; padding-bottom: 5px\">n_transversion</div></td><td style=\"white-space: nowrap; max-width: 500px; overflow: hidden; text-overflow: ellipsis; \" colspan=\"1\"><div style=\"text-align: left;border-bottom: solid 2px #000; padding-bottom: 5px\">n_star</div></td><td style=\"white-space: nowrap; max-width: 500px; overflow: hidden; text-overflow: ellipsis; \" colspan=\"1\"><div style=\"text-align: left;border-bottom: solid 2px #000; padding-bottom: 5px\">r_ti_tv</div></td><td style=\"white-space: nowrap; max-width: 500px; overflow: hidden; text-overflow: ellipsis; \" colspan=\"1\"><div style=\"text-align: left;border-bottom: solid 2px #000; padding-bottom: 5px\">r_het_hom_var</div></td><td style=\"white-space: nowrap; max-width: 500px; overflow: hidden; text-overflow: ellipsis; \" colspan=\"1\"><div style=\"text-align: left;border-bottom: solid 2px #000; padding-bottom: 5px\">r_insertion_deletion</div></td></tr><tr><td style=\"white-space: nowrap; max-width: 500px; overflow: hidden; text-overflow: ellipsis; text-align: left;\">str</td><td style=\"white-space: nowrap; max-width: 500px; overflow: hidden; text-overflow: ellipsis; text-align: left;\">float64</td><td style=\"white-space: nowrap; max-width: 500px; overflow: hidden; text-overflow: ellipsis; text-align: left;\">float64</td><td style=\"white-space: nowrap; max-width: 500px; overflow: hidden; text-overflow: ellipsis; text-align: left;\">float64</td><td style=\"white-space: nowrap; max-width: 500px; overflow: hidden; text-overflow: ellipsis; text-align: left;\">float64</td><td style=\"white-space: nowrap; max-width: 500px; overflow: hidden; text-overflow: ellipsis; text-align: left;\">float64</td><td style=\"white-space: nowrap; max-width: 500px; overflow: hidden; text-overflow: ellipsis; text-align: left;\">float64</td><td style=\"white-space: nowrap; max-width: 500px; overflow: hidden; text-overflow: ellipsis; text-align: left;\">float64</td><td style=\"white-space: nowrap; max-width: 500px; overflow: hidden; text-overflow: ellipsis; text-align: left;\">float64</td><td style=\"white-space: nowrap; max-width: 500px; overflow: hidden; text-overflow: ellipsis; text-align: left;\">float64</td><td style=\"white-space: nowrap; max-width: 500px; overflow: hidden; text-overflow: ellipsis; text-align: left;\">int64</td><td style=\"white-space: nowrap; max-width: 500px; overflow: hidden; text-overflow: ellipsis; text-align: left;\">int64</td><td style=\"white-space: nowrap; max-width: 500px; overflow: hidden; text-overflow: ellipsis; text-align: left;\">int64</td><td style=\"white-space: nowrap; max-width: 500px; overflow: hidden; text-overflow: ellipsis; text-align: left;\">int64</td><td style=\"white-space: nowrap; max-width: 500px; overflow: hidden; text-overflow: ellipsis; text-align: left;\">int64</td><td style=\"white-space: nowrap; max-width: 500px; overflow: hidden; text-overflow: ellipsis; text-align: left;\">int64</td><td style=\"white-space: nowrap; max-width: 500px; overflow: hidden; text-overflow: ellipsis; text-align: left;\">int64</td><td style=\"white-space: nowrap; max-width: 500px; overflow: hidden; text-overflow: ellipsis; text-align: left;\">int64</td><td style=\"white-space: nowrap; max-width: 500px; overflow: hidden; text-overflow: ellipsis; text-align: left;\">int64</td><td style=\"white-space: nowrap; max-width: 500px; overflow: hidden; text-overflow: ellipsis; text-align: left;\">int64</td><td style=\"white-space: nowrap; max-width: 500px; overflow: hidden; text-overflow: ellipsis; text-align: left;\">int64</td><td style=\"white-space: nowrap; max-width: 500px; overflow: hidden; text-overflow: ellipsis; text-align: left;\">int64</td><td style=\"white-space: nowrap; max-width: 500px; overflow: hidden; text-overflow: ellipsis; text-align: left;\">int64</td><td style=\"white-space: nowrap; max-width: 500px; overflow: hidden; text-overflow: ellipsis; text-align: left;\">int64</td><td style=\"white-space: nowrap; max-width: 500px; overflow: hidden; text-overflow: ellipsis; text-align: left;\">float64</td><td style=\"white-space: nowrap; max-width: 500px; overflow: hidden; text-overflow: ellipsis; text-align: left;\">float64</td><td style=\"white-space: nowrap; max-width: 500px; overflow: hidden; text-overflow: ellipsis; text-align: left;\">float64</td></tr>\n",
       "</thead><tbody><tr><td style=\"white-space: nowrap; max-width: 500px; overflow: hidden; text-overflow: ellipsis; \">&quot;NA06985&quot;</td><td style=\"white-space: nowrap; max-width: 500px; overflow: hidden; text-overflow: ellipsis; \">3.21e+01</td><td style=\"white-space: nowrap; max-width: 500px; overflow: hidden; text-overflow: ellipsis; \">7.72e+00</td><td style=\"white-space: nowrap; max-width: 500px; overflow: hidden; text-overflow: ellipsis; \">0.00e+00</td><td style=\"white-space: nowrap; max-width: 500px; overflow: hidden; text-overflow: ellipsis; \">9.40e+01</td><td style=\"white-space: nowrap; max-width: 500px; overflow: hidden; text-overflow: ellipsis; \">4.64e+01</td><td style=\"white-space: nowrap; max-width: 500px; overflow: hidden; text-overflow: ellipsis; \">2.59e+01</td><td style=\"white-space: nowrap; max-width: 500px; overflow: hidden; text-overflow: ellipsis; \">0.00e+00</td><td style=\"white-space: nowrap; max-width: 500px; overflow: hidden; text-overflow: ellipsis; \">9.90e+01</td><td style=\"white-space: nowrap; max-width: 500px; overflow: hidden; text-overflow: ellipsis; \">2.87e-01</td><td style=\"white-space: nowrap; max-width: 500px; overflow: hidden; text-overflow: ellipsis; \">62220</td><td style=\"white-space: nowrap; max-width: 500px; overflow: hidden; text-overflow: ellipsis; \">0</td><td style=\"white-space: nowrap; max-width: 500px; overflow: hidden; text-overflow: ellipsis; \">154585</td><td style=\"white-space: nowrap; max-width: 500px; overflow: hidden; text-overflow: ellipsis; \">54066</td><td style=\"white-space: nowrap; max-width: 500px; overflow: hidden; text-overflow: ellipsis; \">5535</td><td style=\"white-space: nowrap; max-width: 500px; overflow: hidden; text-overflow: ellipsis; \">2619</td><td style=\"white-space: nowrap; max-width: 500px; overflow: hidden; text-overflow: ellipsis; \">8154</td><td style=\"white-space: nowrap; max-width: 500px; overflow: hidden; text-overflow: ellipsis; \">56</td><td style=\"white-space: nowrap; max-width: 500px; overflow: hidden; text-overflow: ellipsis; \">8563</td><td style=\"white-space: nowrap; max-width: 500px; overflow: hidden; text-overflow: ellipsis; \">1245</td><td style=\"white-space: nowrap; max-width: 500px; overflow: hidden; text-overflow: ellipsis; \">1138</td><td style=\"white-space: nowrap; max-width: 500px; overflow: hidden; text-overflow: ellipsis; \">5828</td><td style=\"white-space: nowrap; max-width: 500px; overflow: hidden; text-overflow: ellipsis; \">2735</td><td style=\"white-space: nowrap; max-width: 500px; overflow: hidden; text-overflow: ellipsis; \">0</td><td style=\"white-space: nowrap; max-width: 500px; overflow: hidden; text-overflow: ellipsis; \">2.13e+00</td><td style=\"white-space: nowrap; max-width: 500px; overflow: hidden; text-overflow: ellipsis; \">2.11e+00</td><td style=\"white-space: nowrap; max-width: 500px; overflow: hidden; text-overflow: ellipsis; \">1.09e+00</td></tr>\n",
       "<tr><td style=\"white-space: nowrap; max-width: 500px; overflow: hidden; text-overflow: ellipsis; \">&quot;NA06986&quot;</td><td style=\"white-space: nowrap; max-width: 500px; overflow: hidden; text-overflow: ellipsis; \">3.03e+01</td><td style=\"white-space: nowrap; max-width: 500px; overflow: hidden; text-overflow: ellipsis; \">7.26e+00</td><td style=\"white-space: nowrap; max-width: 500px; overflow: hidden; text-overflow: ellipsis; \">0.00e+00</td><td style=\"white-space: nowrap; max-width: 500px; overflow: hidden; text-overflow: ellipsis; \">9.60e+01</td><td style=\"white-space: nowrap; max-width: 500px; overflow: hidden; text-overflow: ellipsis; \">4.36e+01</td><td style=\"white-space: nowrap; max-width: 500px; overflow: hidden; text-overflow: ellipsis; \">2.49e+01</td><td style=\"white-space: nowrap; max-width: 500px; overflow: hidden; text-overflow: ellipsis; \">0.00e+00</td><td style=\"white-space: nowrap; max-width: 500px; overflow: hidden; text-overflow: ellipsis; \">9.90e+01</td><td style=\"white-space: nowrap; max-width: 500px; overflow: hidden; text-overflow: ellipsis; \">2.88e-01</td><td style=\"white-space: nowrap; max-width: 500px; overflow: hidden; text-overflow: ellipsis; \">62488</td><td style=\"white-space: nowrap; max-width: 500px; overflow: hidden; text-overflow: ellipsis; \">0</td><td style=\"white-space: nowrap; max-width: 500px; overflow: hidden; text-overflow: ellipsis; \">154317</td><td style=\"white-space: nowrap; max-width: 500px; overflow: hidden; text-overflow: ellipsis; \">54470</td><td style=\"white-space: nowrap; max-width: 500px; overflow: hidden; text-overflow: ellipsis; \">5321</td><td style=\"white-space: nowrap; max-width: 500px; overflow: hidden; text-overflow: ellipsis; \">2697</td><td style=\"white-space: nowrap; max-width: 500px; overflow: hidden; text-overflow: ellipsis; \">8018</td><td style=\"white-space: nowrap; max-width: 500px; overflow: hidden; text-overflow: ellipsis; \">79</td><td style=\"white-space: nowrap; max-width: 500px; overflow: hidden; text-overflow: ellipsis; \">8541</td><td style=\"white-space: nowrap; max-width: 500px; overflow: hidden; text-overflow: ellipsis; \">1210</td><td style=\"white-space: nowrap; max-width: 500px; overflow: hidden; text-overflow: ellipsis; \">1111</td><td style=\"white-space: nowrap; max-width: 500px; overflow: hidden; text-overflow: ellipsis; \">5811</td><td style=\"white-space: nowrap; max-width: 500px; overflow: hidden; text-overflow: ellipsis; \">2730</td><td style=\"white-space: nowrap; max-width: 500px; overflow: hidden; text-overflow: ellipsis; \">0</td><td style=\"white-space: nowrap; max-width: 500px; overflow: hidden; text-overflow: ellipsis; \">2.13e+00</td><td style=\"white-space: nowrap; max-width: 500px; overflow: hidden; text-overflow: ellipsis; \">1.97e+00</td><td style=\"white-space: nowrap; max-width: 500px; overflow: hidden; text-overflow: ellipsis; \">1.09e+00</td></tr>\n",
       "<tr><td style=\"white-space: nowrap; max-width: 500px; overflow: hidden; text-overflow: ellipsis; \">&quot;NA06994&quot;</td><td style=\"white-space: nowrap; max-width: 500px; overflow: hidden; text-overflow: ellipsis; \">2.90e+01</td><td style=\"white-space: nowrap; max-width: 500px; overflow: hidden; text-overflow: ellipsis; \">7.94e+00</td><td style=\"white-space: nowrap; max-width: 500px; overflow: hidden; text-overflow: ellipsis; \">0.00e+00</td><td style=\"white-space: nowrap; max-width: 500px; overflow: hidden; text-overflow: ellipsis; \">8.90e+01</td><td style=\"white-space: nowrap; max-width: 500px; overflow: hidden; text-overflow: ellipsis; \">4.16e+01</td><td style=\"white-space: nowrap; max-width: 500px; overflow: hidden; text-overflow: ellipsis; \">2.48e+01</td><td style=\"white-space: nowrap; max-width: 500px; overflow: hidden; text-overflow: ellipsis; \">0.00e+00</td><td style=\"white-space: nowrap; max-width: 500px; overflow: hidden; text-overflow: ellipsis; \">9.90e+01</td><td style=\"white-space: nowrap; max-width: 500px; overflow: hidden; text-overflow: ellipsis; \">2.84e-01</td><td style=\"white-space: nowrap; max-width: 500px; overflow: hidden; text-overflow: ellipsis; \">61647</td><td style=\"white-space: nowrap; max-width: 500px; overflow: hidden; text-overflow: ellipsis; \">0</td><td style=\"white-space: nowrap; max-width: 500px; overflow: hidden; text-overflow: ellipsis; \">155158</td><td style=\"white-space: nowrap; max-width: 500px; overflow: hidden; text-overflow: ellipsis; \">53174</td><td style=\"white-space: nowrap; max-width: 500px; overflow: hidden; text-overflow: ellipsis; \">5742</td><td style=\"white-space: nowrap; max-width: 500px; overflow: hidden; text-overflow: ellipsis; \">2731</td><td style=\"white-space: nowrap; max-width: 500px; overflow: hidden; text-overflow: ellipsis; \">8473</td><td style=\"white-space: nowrap; max-width: 500px; overflow: hidden; text-overflow: ellipsis; \">66</td><td style=\"white-space: nowrap; max-width: 500px; overflow: hidden; text-overflow: ellipsis; \">8961</td><td style=\"white-space: nowrap; max-width: 500px; overflow: hidden; text-overflow: ellipsis; \">1261</td><td style=\"white-space: nowrap; max-width: 500px; overflow: hidden; text-overflow: ellipsis; \">1119</td><td style=\"white-space: nowrap; max-width: 500px; overflow: hidden; text-overflow: ellipsis; \">6097</td><td style=\"white-space: nowrap; max-width: 500px; overflow: hidden; text-overflow: ellipsis; \">2864</td><td style=\"white-space: nowrap; max-width: 500px; overflow: hidden; text-overflow: ellipsis; \">0</td><td style=\"white-space: nowrap; max-width: 500px; overflow: hidden; text-overflow: ellipsis; \">2.13e+00</td><td style=\"white-space: nowrap; max-width: 500px; overflow: hidden; text-overflow: ellipsis; \">2.10e+00</td><td style=\"white-space: nowrap; max-width: 500px; overflow: hidden; text-overflow: ellipsis; \">1.13e+00</td></tr>\n",
       "<tr><td style=\"white-space: nowrap; max-width: 500px; overflow: hidden; text-overflow: ellipsis; \">&quot;NA07000&quot;</td><td style=\"white-space: nowrap; max-width: 500px; overflow: hidden; text-overflow: ellipsis; \">3.43e+01</td><td style=\"white-space: nowrap; max-width: 500px; overflow: hidden; text-overflow: ellipsis; \">8.38e+00</td><td style=\"white-space: nowrap; max-width: 500px; overflow: hidden; text-overflow: ellipsis; \">0.00e+00</td><td style=\"white-space: nowrap; max-width: 500px; overflow: hidden; text-overflow: ellipsis; \">1.07e+02</td><td style=\"white-space: nowrap; max-width: 500px; overflow: hidden; text-overflow: ellipsis; \">5.14e+01</td><td style=\"white-space: nowrap; max-width: 500px; overflow: hidden; text-overflow: ellipsis; \">2.71e+01</td><td style=\"white-space: nowrap; max-width: 500px; overflow: hidden; text-overflow: ellipsis; \">0.00e+00</td><td style=\"white-space: nowrap; max-width: 500px; overflow: hidden; text-overflow: ellipsis; \">9.90e+01</td><td style=\"white-space: nowrap; max-width: 500px; overflow: hidden; text-overflow: ellipsis; \">2.94e-01</td><td style=\"white-space: nowrap; max-width: 500px; overflow: hidden; text-overflow: ellipsis; \">63710</td><td style=\"white-space: nowrap; max-width: 500px; overflow: hidden; text-overflow: ellipsis; \">0</td><td style=\"white-space: nowrap; max-width: 500px; overflow: hidden; text-overflow: ellipsis; \">153095</td><td style=\"white-space: nowrap; max-width: 500px; overflow: hidden; text-overflow: ellipsis; \">54542</td><td style=\"white-space: nowrap; max-width: 500px; overflow: hidden; text-overflow: ellipsis; \">6622</td><td style=\"white-space: nowrap; max-width: 500px; overflow: hidden; text-overflow: ellipsis; \">2546</td><td style=\"white-space: nowrap; max-width: 500px; overflow: hidden; text-overflow: ellipsis; \">9168</td><td style=\"white-space: nowrap; max-width: 500px; overflow: hidden; text-overflow: ellipsis; \">44</td><td style=\"white-space: nowrap; max-width: 500px; overflow: hidden; text-overflow: ellipsis; \">9319</td><td style=\"white-space: nowrap; max-width: 500px; overflow: hidden; text-overflow: ellipsis; \">1336</td><td style=\"white-space: nowrap; max-width: 500px; overflow: hidden; text-overflow: ellipsis; \">1253</td><td style=\"white-space: nowrap; max-width: 500px; overflow: hidden; text-overflow: ellipsis; \">6407</td><td style=\"white-space: nowrap; max-width: 500px; overflow: hidden; text-overflow: ellipsis; \">2912</td><td style=\"white-space: nowrap; max-width: 500px; overflow: hidden; text-overflow: ellipsis; \">0</td><td style=\"white-space: nowrap; max-width: 500px; overflow: hidden; text-overflow: ellipsis; \">2.20e+00</td><td style=\"white-space: nowrap; max-width: 500px; overflow: hidden; text-overflow: ellipsis; \">2.60e+00</td><td style=\"white-space: nowrap; max-width: 500px; overflow: hidden; text-overflow: ellipsis; \">1.07e+00</td></tr>\n",
       "<tr><td style=\"white-space: nowrap; max-width: 500px; overflow: hidden; text-overflow: ellipsis; \">&quot;NA07037&quot;</td><td style=\"white-space: nowrap; max-width: 500px; overflow: hidden; text-overflow: ellipsis; \">3.21e+01</td><td style=\"white-space: nowrap; max-width: 500px; overflow: hidden; text-overflow: ellipsis; \">7.89e+00</td><td style=\"white-space: nowrap; max-width: 500px; overflow: hidden; text-overflow: ellipsis; \">0.00e+00</td><td style=\"white-space: nowrap; max-width: 500px; overflow: hidden; text-overflow: ellipsis; \">8.80e+01</td><td style=\"white-space: nowrap; max-width: 500px; overflow: hidden; text-overflow: ellipsis; \">4.74e+01</td><td style=\"white-space: nowrap; max-width: 500px; overflow: hidden; text-overflow: ellipsis; \">2.63e+01</td><td style=\"white-space: nowrap; max-width: 500px; overflow: hidden; text-overflow: ellipsis; \">0.00e+00</td><td style=\"white-space: nowrap; max-width: 500px; overflow: hidden; text-overflow: ellipsis; \">9.90e+01</td><td style=\"white-space: nowrap; max-width: 500px; overflow: hidden; text-overflow: ellipsis; \">2.87e-01</td><td style=\"white-space: nowrap; max-width: 500px; overflow: hidden; text-overflow: ellipsis; \">62328</td><td style=\"white-space: nowrap; max-width: 500px; overflow: hidden; text-overflow: ellipsis; \">0</td><td style=\"white-space: nowrap; max-width: 500px; overflow: hidden; text-overflow: ellipsis; \">154477</td><td style=\"white-space: nowrap; max-width: 500px; overflow: hidden; text-overflow: ellipsis; \">53536</td><td style=\"white-space: nowrap; max-width: 500px; overflow: hidden; text-overflow: ellipsis; \">6358</td><td style=\"white-space: nowrap; max-width: 500px; overflow: hidden; text-overflow: ellipsis; \">2434</td><td style=\"white-space: nowrap; max-width: 500px; overflow: hidden; text-overflow: ellipsis; \">8792</td><td style=\"white-space: nowrap; max-width: 500px; overflow: hidden; text-overflow: ellipsis; \">62</td><td style=\"white-space: nowrap; max-width: 500px; overflow: hidden; text-overflow: ellipsis; \">8909</td><td style=\"white-space: nowrap; max-width: 500px; overflow: hidden; text-overflow: ellipsis; \">1303</td><td style=\"white-space: nowrap; max-width: 500px; overflow: hidden; text-overflow: ellipsis; \">1151</td><td style=\"white-space: nowrap; max-width: 500px; overflow: hidden; text-overflow: ellipsis; \">6180</td><td style=\"white-space: nowrap; max-width: 500px; overflow: hidden; text-overflow: ellipsis; \">2729</td><td style=\"white-space: nowrap; max-width: 500px; overflow: hidden; text-overflow: ellipsis; \">0</td><td style=\"white-space: nowrap; max-width: 500px; overflow: hidden; text-overflow: ellipsis; \">2.26e+00</td><td style=\"white-space: nowrap; max-width: 500px; overflow: hidden; text-overflow: ellipsis; \">2.61e+00</td><td style=\"white-space: nowrap; max-width: 500px; overflow: hidden; text-overflow: ellipsis; \">1.13e+00</td></tr>\n",
       "<tr><td style=\"white-space: nowrap; max-width: 500px; overflow: hidden; text-overflow: ellipsis; \">&quot;NA07051&quot;</td><td style=\"white-space: nowrap; max-width: 500px; overflow: hidden; text-overflow: ellipsis; \">3.04e+01</td><td style=\"white-space: nowrap; max-width: 500px; overflow: hidden; text-overflow: ellipsis; \">7.61e+00</td><td style=\"white-space: nowrap; max-width: 500px; overflow: hidden; text-overflow: ellipsis; \">0.00e+00</td><td style=\"white-space: nowrap; max-width: 500px; overflow: hidden; text-overflow: ellipsis; \">8.70e+01</td><td style=\"white-space: nowrap; max-width: 500px; overflow: hidden; text-overflow: ellipsis; \">4.42e+01</td><td style=\"white-space: nowrap; max-width: 500px; overflow: hidden; text-overflow: ellipsis; \">2.55e+01</td><td style=\"white-space: nowrap; max-width: 500px; overflow: hidden; text-overflow: ellipsis; \">0.00e+00</td><td style=\"white-space: nowrap; max-width: 500px; overflow: hidden; text-overflow: ellipsis; \">9.90e+01</td><td style=\"white-space: nowrap; max-width: 500px; overflow: hidden; text-overflow: ellipsis; \">2.88e-01</td><td style=\"white-space: nowrap; max-width: 500px; overflow: hidden; text-overflow: ellipsis; \">62368</td><td style=\"white-space: nowrap; max-width: 500px; overflow: hidden; text-overflow: ellipsis; \">0</td><td style=\"white-space: nowrap; max-width: 500px; overflow: hidden; text-overflow: ellipsis; \">154437</td><td style=\"white-space: nowrap; max-width: 500px; overflow: hidden; text-overflow: ellipsis; \">53830</td><td style=\"white-space: nowrap; max-width: 500px; overflow: hidden; text-overflow: ellipsis; \">5396</td><td style=\"white-space: nowrap; max-width: 500px; overflow: hidden; text-overflow: ellipsis; \">3142</td><td style=\"white-space: nowrap; max-width: 500px; overflow: hidden; text-overflow: ellipsis; \">8538</td><td style=\"white-space: nowrap; max-width: 500px; overflow: hidden; text-overflow: ellipsis; \">60</td><td style=\"white-space: nowrap; max-width: 500px; overflow: hidden; text-overflow: ellipsis; \">9287</td><td style=\"white-space: nowrap; max-width: 500px; overflow: hidden; text-overflow: ellipsis; \">1366</td><td style=\"white-space: nowrap; max-width: 500px; overflow: hidden; text-overflow: ellipsis; \">1164</td><td style=\"white-space: nowrap; max-width: 500px; overflow: hidden; text-overflow: ellipsis; \">6351</td><td style=\"white-space: nowrap; max-width: 500px; overflow: hidden; text-overflow: ellipsis; \">2936</td><td style=\"white-space: nowrap; max-width: 500px; overflow: hidden; text-overflow: ellipsis; \">0</td><td style=\"white-space: nowrap; max-width: 500px; overflow: hidden; text-overflow: ellipsis; \">2.16e+00</td><td style=\"white-space: nowrap; max-width: 500px; overflow: hidden; text-overflow: ellipsis; \">1.72e+00</td><td style=\"white-space: nowrap; max-width: 500px; overflow: hidden; text-overflow: ellipsis; \">1.17e+00</td></tr>\n",
       "<tr><td style=\"white-space: nowrap; max-width: 500px; overflow: hidden; text-overflow: ellipsis; \">&quot;NA07347&quot;</td><td style=\"white-space: nowrap; max-width: 500px; overflow: hidden; text-overflow: ellipsis; \">3.11e+01</td><td style=\"white-space: nowrap; max-width: 500px; overflow: hidden; text-overflow: ellipsis; \">7.57e+00</td><td style=\"white-space: nowrap; max-width: 500px; overflow: hidden; text-overflow: ellipsis; \">0.00e+00</td><td style=\"white-space: nowrap; max-width: 500px; overflow: hidden; text-overflow: ellipsis; \">9.20e+01</td><td style=\"white-space: nowrap; max-width: 500px; overflow: hidden; text-overflow: ellipsis; \">4.46e+01</td><td style=\"white-space: nowrap; max-width: 500px; overflow: hidden; text-overflow: ellipsis; \">2.55e+01</td><td style=\"white-space: nowrap; max-width: 500px; overflow: hidden; text-overflow: ellipsis; \">0.00e+00</td><td style=\"white-space: nowrap; max-width: 500px; overflow: hidden; text-overflow: ellipsis; \">9.90e+01</td><td style=\"white-space: nowrap; max-width: 500px; overflow: hidden; text-overflow: ellipsis; \">2.89e-01</td><td style=\"white-space: nowrap; max-width: 500px; overflow: hidden; text-overflow: ellipsis; \">62579</td><td style=\"white-space: nowrap; max-width: 500px; overflow: hidden; text-overflow: ellipsis; \">0</td><td style=\"white-space: nowrap; max-width: 500px; overflow: hidden; text-overflow: ellipsis; \">154226</td><td style=\"white-space: nowrap; max-width: 500px; overflow: hidden; text-overflow: ellipsis; \">54069</td><td style=\"white-space: nowrap; max-width: 500px; overflow: hidden; text-overflow: ellipsis; \">5940</td><td style=\"white-space: nowrap; max-width: 500px; overflow: hidden; text-overflow: ellipsis; \">2570</td><td style=\"white-space: nowrap; max-width: 500px; overflow: hidden; text-overflow: ellipsis; \">8510</td><td style=\"white-space: nowrap; max-width: 500px; overflow: hidden; text-overflow: ellipsis; \">80</td><td style=\"white-space: nowrap; max-width: 500px; overflow: hidden; text-overflow: ellipsis; \">8730</td><td style=\"white-space: nowrap; max-width: 500px; overflow: hidden; text-overflow: ellipsis; \">1348</td><td style=\"white-space: nowrap; max-width: 500px; overflow: hidden; text-overflow: ellipsis; \">1163</td><td style=\"white-space: nowrap; max-width: 500px; overflow: hidden; text-overflow: ellipsis; \">6056</td><td style=\"white-space: nowrap; max-width: 500px; overflow: hidden; text-overflow: ellipsis; \">2674</td><td style=\"white-space: nowrap; max-width: 500px; overflow: hidden; text-overflow: ellipsis; \">0</td><td style=\"white-space: nowrap; max-width: 500px; overflow: hidden; text-overflow: ellipsis; \">2.26e+00</td><td style=\"white-space: nowrap; max-width: 500px; overflow: hidden; text-overflow: ellipsis; \">2.31e+00</td><td style=\"white-space: nowrap; max-width: 500px; overflow: hidden; text-overflow: ellipsis; \">1.16e+00</td></tr>\n",
       "<tr><td style=\"white-space: nowrap; max-width: 500px; overflow: hidden; text-overflow: ellipsis; \">&quot;NA07357&quot;</td><td style=\"white-space: nowrap; max-width: 500px; overflow: hidden; text-overflow: ellipsis; \">2.86e+01</td><td style=\"white-space: nowrap; max-width: 500px; overflow: hidden; text-overflow: ellipsis; \">7.06e+00</td><td style=\"white-space: nowrap; max-width: 500px; overflow: hidden; text-overflow: ellipsis; \">1.00e+00</td><td style=\"white-space: nowrap; max-width: 500px; overflow: hidden; text-overflow: ellipsis; \">7.80e+01</td><td style=\"white-space: nowrap; max-width: 500px; overflow: hidden; text-overflow: ellipsis; \">4.18e+01</td><td style=\"white-space: nowrap; max-width: 500px; overflow: hidden; text-overflow: ellipsis; \">2.44e+01</td><td style=\"white-space: nowrap; max-width: 500px; overflow: hidden; text-overflow: ellipsis; \">0.00e+00</td><td style=\"white-space: nowrap; max-width: 500px; overflow: hidden; text-overflow: ellipsis; \">9.90e+01</td><td style=\"white-space: nowrap; max-width: 500px; overflow: hidden; text-overflow: ellipsis; \">2.89e-01</td><td style=\"white-space: nowrap; max-width: 500px; overflow: hidden; text-overflow: ellipsis; \">62571</td><td style=\"white-space: nowrap; max-width: 500px; overflow: hidden; text-overflow: ellipsis; \">0</td><td style=\"white-space: nowrap; max-width: 500px; overflow: hidden; text-overflow: ellipsis; \">154234</td><td style=\"white-space: nowrap; max-width: 500px; overflow: hidden; text-overflow: ellipsis; \">54609</td><td style=\"white-space: nowrap; max-width: 500px; overflow: hidden; text-overflow: ellipsis; \">5782</td><td style=\"white-space: nowrap; max-width: 500px; overflow: hidden; text-overflow: ellipsis; \">2180</td><td style=\"white-space: nowrap; max-width: 500px; overflow: hidden; text-overflow: ellipsis; \">7962</td><td style=\"white-space: nowrap; max-width: 500px; overflow: hidden; text-overflow: ellipsis; \">42</td><td style=\"white-space: nowrap; max-width: 500px; overflow: hidden; text-overflow: ellipsis; \">8008</td><td style=\"white-space: nowrap; max-width: 500px; overflow: hidden; text-overflow: ellipsis; \">1212</td><td style=\"white-space: nowrap; max-width: 500px; overflow: hidden; text-overflow: ellipsis; \">1059</td><td style=\"white-space: nowrap; max-width: 500px; overflow: hidden; text-overflow: ellipsis; \">5547</td><td style=\"white-space: nowrap; max-width: 500px; overflow: hidden; text-overflow: ellipsis; \">2461</td><td style=\"white-space: nowrap; max-width: 500px; overflow: hidden; text-overflow: ellipsis; \">0</td><td style=\"white-space: nowrap; max-width: 500px; overflow: hidden; text-overflow: ellipsis; \">2.25e+00</td><td style=\"white-space: nowrap; max-width: 500px; overflow: hidden; text-overflow: ellipsis; \">2.65e+00</td><td style=\"white-space: nowrap; max-width: 500px; overflow: hidden; text-overflow: ellipsis; \">1.14e+00</td></tr>\n",
       "<tr><td style=\"white-space: nowrap; max-width: 500px; overflow: hidden; text-overflow: ellipsis; \">&quot;NA10847&quot;</td><td style=\"white-space: nowrap; max-width: 500px; overflow: hidden; text-overflow: ellipsis; \">3.63e+01</td><td style=\"white-space: nowrap; max-width: 500px; overflow: hidden; text-overflow: ellipsis; \">1.58e+01</td><td style=\"white-space: nowrap; max-width: 500px; overflow: hidden; text-overflow: ellipsis; \">0.00e+00</td><td style=\"white-space: nowrap; max-width: 500px; overflow: hidden; text-overflow: ellipsis; \">1.99e+02</td><td style=\"white-space: nowrap; max-width: 500px; overflow: hidden; text-overflow: ellipsis; \">5.10e+01</td><td style=\"white-space: nowrap; max-width: 500px; overflow: hidden; text-overflow: ellipsis; \">2.85e+01</td><td style=\"white-space: nowrap; max-width: 500px; overflow: hidden; text-overflow: ellipsis; \">0.00e+00</td><td style=\"white-space: nowrap; max-width: 500px; overflow: hidden; text-overflow: ellipsis; \">9.90e+01</td><td style=\"white-space: nowrap; max-width: 500px; overflow: hidden; text-overflow: ellipsis; \">2.90e-01</td><td style=\"white-space: nowrap; max-width: 500px; overflow: hidden; text-overflow: ellipsis; \">62954</td><td style=\"white-space: nowrap; max-width: 500px; overflow: hidden; text-overflow: ellipsis; \">0</td><td style=\"white-space: nowrap; max-width: 500px; overflow: hidden; text-overflow: ellipsis; \">153851</td><td style=\"white-space: nowrap; max-width: 500px; overflow: hidden; text-overflow: ellipsis; \">54226</td><td style=\"white-space: nowrap; max-width: 500px; overflow: hidden; text-overflow: ellipsis; \">6110</td><td style=\"white-space: nowrap; max-width: 500px; overflow: hidden; text-overflow: ellipsis; \">2618</td><td style=\"white-space: nowrap; max-width: 500px; overflow: hidden; text-overflow: ellipsis; \">8728</td><td style=\"white-space: nowrap; max-width: 500px; overflow: hidden; text-overflow: ellipsis; \">47</td><td style=\"white-space: nowrap; max-width: 500px; overflow: hidden; text-overflow: ellipsis; \">9021</td><td style=\"white-space: nowrap; max-width: 500px; overflow: hidden; text-overflow: ellipsis; \">1345</td><td style=\"white-space: nowrap; max-width: 500px; overflow: hidden; text-overflow: ellipsis; \">1164</td><td style=\"white-space: nowrap; max-width: 500px; overflow: hidden; text-overflow: ellipsis; \">6190</td><td style=\"white-space: nowrap; max-width: 500px; overflow: hidden; text-overflow: ellipsis; \">2831</td><td style=\"white-space: nowrap; max-width: 500px; overflow: hidden; text-overflow: ellipsis; \">0</td><td style=\"white-space: nowrap; max-width: 500px; overflow: hidden; text-overflow: ellipsis; \">2.19e+00</td><td style=\"white-space: nowrap; max-width: 500px; overflow: hidden; text-overflow: ellipsis; \">2.33e+00</td><td style=\"white-space: nowrap; max-width: 500px; overflow: hidden; text-overflow: ellipsis; \">1.16e+00</td></tr>\n",
       "<tr><td style=\"white-space: nowrap; max-width: 500px; overflow: hidden; text-overflow: ellipsis; \">&quot;NA10851&quot;</td><td style=\"white-space: nowrap; max-width: 500px; overflow: hidden; text-overflow: ellipsis; \">3.05e+01</td><td style=\"white-space: nowrap; max-width: 500px; overflow: hidden; text-overflow: ellipsis; \">8.06e+00</td><td style=\"white-space: nowrap; max-width: 500px; overflow: hidden; text-overflow: ellipsis; \">0.00e+00</td><td style=\"white-space: nowrap; max-width: 500px; overflow: hidden; text-overflow: ellipsis; \">9.10e+01</td><td style=\"white-space: nowrap; max-width: 500px; overflow: hidden; text-overflow: ellipsis; \">4.29e+01</td><td style=\"white-space: nowrap; max-width: 500px; overflow: hidden; text-overflow: ellipsis; \">2.54e+01</td><td style=\"white-space: nowrap; max-width: 500px; overflow: hidden; text-overflow: ellipsis; \">0.00e+00</td><td style=\"white-space: nowrap; max-width: 500px; overflow: hidden; text-overflow: ellipsis; \">9.90e+01</td><td style=\"white-space: nowrap; max-width: 500px; overflow: hidden; text-overflow: ellipsis; \">2.87e-01</td><td style=\"white-space: nowrap; max-width: 500px; overflow: hidden; text-overflow: ellipsis; \">62151</td><td style=\"white-space: nowrap; max-width: 500px; overflow: hidden; text-overflow: ellipsis; \">0</td><td style=\"white-space: nowrap; max-width: 500px; overflow: hidden; text-overflow: ellipsis; \">154654</td><td style=\"white-space: nowrap; max-width: 500px; overflow: hidden; text-overflow: ellipsis; \">54440</td><td style=\"white-space: nowrap; max-width: 500px; overflow: hidden; text-overflow: ellipsis; \">5285</td><td style=\"white-space: nowrap; max-width: 500px; overflow: hidden; text-overflow: ellipsis; \">2426</td><td style=\"white-space: nowrap; max-width: 500px; overflow: hidden; text-overflow: ellipsis; \">7711</td><td style=\"white-space: nowrap; max-width: 500px; overflow: hidden; text-overflow: ellipsis; \">55</td><td style=\"white-space: nowrap; max-width: 500px; overflow: hidden; text-overflow: ellipsis; \">8118</td><td style=\"white-space: nowrap; max-width: 500px; overflow: hidden; text-overflow: ellipsis; \">1136</td><td style=\"white-space: nowrap; max-width: 500px; overflow: hidden; text-overflow: ellipsis; \">1017</td><td style=\"white-space: nowrap; max-width: 500px; overflow: hidden; text-overflow: ellipsis; \">5468</td><td style=\"white-space: nowrap; max-width: 500px; overflow: hidden; text-overflow: ellipsis; \">2650</td><td style=\"white-space: nowrap; max-width: 500px; overflow: hidden; text-overflow: ellipsis; \">0</td><td style=\"white-space: nowrap; max-width: 500px; overflow: hidden; text-overflow: ellipsis; \">2.06e+00</td><td style=\"white-space: nowrap; max-width: 500px; overflow: hidden; text-overflow: ellipsis; \">2.18e+00</td><td style=\"white-space: nowrap; max-width: 500px; overflow: hidden; text-overflow: ellipsis; \">1.12e+00</td></tr>\n",
       "</tbody></table><p style=\"background: #fdd; padding: 0.4em;\">showing top 10 rows</p>\n"
      ],
      "text/plain": [
       "+-----------+-------------------------+--------------------------+\n",
       "| s         | sample_qc.dp_stats.mean | sample_qc.dp_stats.stdev |\n",
       "+-----------+-------------------------+--------------------------+\n",
       "| str       |                 float64 |                  float64 |\n",
       "+-----------+-------------------------+--------------------------+\n",
       "| \"NA06985\" |                3.21e+01 |                 7.72e+00 |\n",
       "| \"NA06986\" |                3.03e+01 |                 7.26e+00 |\n",
       "| \"NA06994\" |                2.90e+01 |                 7.94e+00 |\n",
       "| \"NA07000\" |                3.43e+01 |                 8.38e+00 |\n",
       "| \"NA07037\" |                3.21e+01 |                 7.89e+00 |\n",
       "| \"NA07051\" |                3.04e+01 |                 7.61e+00 |\n",
       "| \"NA07347\" |                3.11e+01 |                 7.57e+00 |\n",
       "| \"NA07357\" |                2.86e+01 |                 7.06e+00 |\n",
       "| \"NA10847\" |                3.63e+01 |                 1.58e+01 |\n",
       "| \"NA10851\" |                3.05e+01 |                 8.06e+00 |\n",
       "+-----------+-------------------------+--------------------------+\n",
       "\n",
       "+------------------------+------------------------+-------------------------+\n",
       "| sample_qc.dp_stats.min | sample_qc.dp_stats.max | sample_qc.gq_stats.mean |\n",
       "+------------------------+------------------------+-------------------------+\n",
       "|                float64 |                float64 |                 float64 |\n",
       "+------------------------+------------------------+-------------------------+\n",
       "|               0.00e+00 |               9.40e+01 |                4.64e+01 |\n",
       "|               0.00e+00 |               9.60e+01 |                4.36e+01 |\n",
       "|               0.00e+00 |               8.90e+01 |                4.16e+01 |\n",
       "|               0.00e+00 |               1.07e+02 |                5.14e+01 |\n",
       "|               0.00e+00 |               8.80e+01 |                4.74e+01 |\n",
       "|               0.00e+00 |               8.70e+01 |                4.42e+01 |\n",
       "|               0.00e+00 |               9.20e+01 |                4.46e+01 |\n",
       "|               1.00e+00 |               7.80e+01 |                4.18e+01 |\n",
       "|               0.00e+00 |               1.99e+02 |                5.10e+01 |\n",
       "|               0.00e+00 |               9.10e+01 |                4.29e+01 |\n",
       "+------------------------+------------------------+-------------------------+\n",
       "\n",
       "+--------------------------+------------------------+------------------------+\n",
       "| sample_qc.gq_stats.stdev | sample_qc.gq_stats.min | sample_qc.gq_stats.max |\n",
       "+--------------------------+------------------------+------------------------+\n",
       "|                  float64 |                float64 |                float64 |\n",
       "+--------------------------+------------------------+------------------------+\n",
       "|                 2.59e+01 |               0.00e+00 |               9.90e+01 |\n",
       "|                 2.49e+01 |               0.00e+00 |               9.90e+01 |\n",
       "|                 2.48e+01 |               0.00e+00 |               9.90e+01 |\n",
       "|                 2.71e+01 |               0.00e+00 |               9.90e+01 |\n",
       "|                 2.63e+01 |               0.00e+00 |               9.90e+01 |\n",
       "|                 2.55e+01 |               0.00e+00 |               9.90e+01 |\n",
       "|                 2.55e+01 |               0.00e+00 |               9.90e+01 |\n",
       "|                 2.44e+01 |               0.00e+00 |               9.90e+01 |\n",
       "|                 2.85e+01 |               0.00e+00 |               9.90e+01 |\n",
       "|                 2.54e+01 |               0.00e+00 |               9.90e+01 |\n",
       "+--------------------------+------------------------+------------------------+\n",
       "\n",
       "+---------------------+--------------------+------------------------+\n",
       "| sample_qc.call_rate | sample_qc.n_called | sample_qc.n_not_called |\n",
       "+---------------------+--------------------+------------------------+\n",
       "|             float64 |              int64 |                  int64 |\n",
       "+---------------------+--------------------+------------------------+\n",
       "|            2.87e-01 |              62220 |                      0 |\n",
       "|            2.88e-01 |              62488 |                      0 |\n",
       "|            2.84e-01 |              61647 |                      0 |\n",
       "|            2.94e-01 |              63710 |                      0 |\n",
       "|            2.87e-01 |              62328 |                      0 |\n",
       "|            2.88e-01 |              62368 |                      0 |\n",
       "|            2.89e-01 |              62579 |                      0 |\n",
       "|            2.89e-01 |              62571 |                      0 |\n",
       "|            2.90e-01 |              62954 |                      0 |\n",
       "|            2.87e-01 |              62151 |                      0 |\n",
       "+---------------------+--------------------+------------------------+\n",
       "\n",
       "+----------------------+---------------------+-----------------+\n",
       "| sample_qc.n_filtered | sample_qc.n_hom_ref | sample_qc.n_het |\n",
       "+----------------------+---------------------+-----------------+\n",
       "|                int64 |               int64 |           int64 |\n",
       "+----------------------+---------------------+-----------------+\n",
       "|               154585 |               54066 |            5535 |\n",
       "|               154317 |               54470 |            5321 |\n",
       "|               155158 |               53174 |            5742 |\n",
       "|               153095 |               54542 |            6622 |\n",
       "|               154477 |               53536 |            6358 |\n",
       "|               154437 |               53830 |            5396 |\n",
       "|               154226 |               54069 |            5940 |\n",
       "|               154234 |               54609 |            5782 |\n",
       "|               153851 |               54226 |            6110 |\n",
       "|               154654 |               54440 |            5285 |\n",
       "+----------------------+---------------------+-----------------+\n",
       "\n",
       "+---------------------+---------------------+-----------------------+\n",
       "| sample_qc.n_hom_var | sample_qc.n_non_ref | sample_qc.n_singleton |\n",
       "+---------------------+---------------------+-----------------------+\n",
       "|               int64 |               int64 |                 int64 |\n",
       "+---------------------+---------------------+-----------------------+\n",
       "|                2619 |                8154 |                    56 |\n",
       "|                2697 |                8018 |                    79 |\n",
       "|                2731 |                8473 |                    66 |\n",
       "|                2546 |                9168 |                    44 |\n",
       "|                2434 |                8792 |                    62 |\n",
       "|                3142 |                8538 |                    60 |\n",
       "|                2570 |                8510 |                    80 |\n",
       "|                2180 |                7962 |                    42 |\n",
       "|                2618 |                8728 |                    47 |\n",
       "|                2426 |                7711 |                    55 |\n",
       "+---------------------+---------------------+-----------------------+\n",
       "\n",
       "+-----------------+-----------------------+----------------------+\n",
       "| sample_qc.n_snp | sample_qc.n_insertion | sample_qc.n_deletion |\n",
       "+-----------------+-----------------------+----------------------+\n",
       "|           int64 |                 int64 |                int64 |\n",
       "+-----------------+-----------------------+----------------------+\n",
       "|            8563 |                  1245 |                 1138 |\n",
       "|            8541 |                  1210 |                 1111 |\n",
       "|            8961 |                  1261 |                 1119 |\n",
       "|            9319 |                  1336 |                 1253 |\n",
       "|            8909 |                  1303 |                 1151 |\n",
       "|            9287 |                  1366 |                 1164 |\n",
       "|            8730 |                  1348 |                 1163 |\n",
       "|            8008 |                  1212 |                 1059 |\n",
       "|            9021 |                  1345 |                 1164 |\n",
       "|            8118 |                  1136 |                 1017 |\n",
       "+-----------------+-----------------------+----------------------+\n",
       "\n",
       "+------------------------+--------------------------+------------------+\n",
       "| sample_qc.n_transition | sample_qc.n_transversion | sample_qc.n_star |\n",
       "+------------------------+--------------------------+------------------+\n",
       "|                  int64 |                    int64 |            int64 |\n",
       "+------------------------+--------------------------+------------------+\n",
       "|                   5828 |                     2735 |                0 |\n",
       "|                   5811 |                     2730 |                0 |\n",
       "|                   6097 |                     2864 |                0 |\n",
       "|                   6407 |                     2912 |                0 |\n",
       "|                   6180 |                     2729 |                0 |\n",
       "|                   6351 |                     2936 |                0 |\n",
       "|                   6056 |                     2674 |                0 |\n",
       "|                   5547 |                     2461 |                0 |\n",
       "|                   6190 |                     2831 |                0 |\n",
       "|                   5468 |                     2650 |                0 |\n",
       "+------------------------+--------------------------+------------------+\n",
       "\n",
       "+-------------------+-------------------------+--------------------------------+\n",
       "| sample_qc.r_ti_tv | sample_qc.r_het_hom_var | sample_qc.r_insertion_deletion |\n",
       "+-------------------+-------------------------+--------------------------------+\n",
       "|           float64 |                 float64 |                        float64 |\n",
       "+-------------------+-------------------------+--------------------------------+\n",
       "|          2.13e+00 |                2.11e+00 |                       1.09e+00 |\n",
       "|          2.13e+00 |                1.97e+00 |                       1.09e+00 |\n",
       "|          2.13e+00 |                2.10e+00 |                       1.13e+00 |\n",
       "|          2.20e+00 |                2.60e+00 |                       1.07e+00 |\n",
       "|          2.26e+00 |                2.61e+00 |                       1.13e+00 |\n",
       "|          2.16e+00 |                1.72e+00 |                       1.17e+00 |\n",
       "|          2.26e+00 |                2.31e+00 |                       1.16e+00 |\n",
       "|          2.25e+00 |                2.65e+00 |                       1.14e+00 |\n",
       "|          2.19e+00 |                2.33e+00 |                       1.16e+00 |\n",
       "|          2.06e+00 |                2.18e+00 |                       1.12e+00 |\n",
       "+-------------------+-------------------------+--------------------------------+\n",
       "showing top 10 rows"
      ]
     },
     "metadata": {},
     "output_type": "display_data"
    }
   ],
   "source": [
    "joined.sample_qc.show()"
   ]
  },
  {
   "cell_type": "code",
   "execution_count": 49,
   "id": "fcf4480c-b07c-4fab-90c1-55ca877f71cc",
   "metadata": {
    "tags": []
   },
   "outputs": [
    {
     "name": "stderr",
     "output_type": "stream",
     "text": [
      "[Stage 66:=====================================================>(199 + 1) / 200]\r"
     ]
    },
    {
     "data": {
      "text/plain": [
       "92333001"
      ]
     },
     "execution_count": 49,
     "metadata": {},
     "output_type": "execute_result"
    }
   ],
   "source": [
    "joined.entries().count()"
   ]
  },
  {
   "cell_type": "code",
   "execution_count": 47,
   "id": "4132132d-a7b7-438d-9cff-2c5e2d2d7177",
   "metadata": {
    "tags": []
   },
   "outputs": [
    {
     "name": "stderr",
     "output_type": "stream",
     "text": [
      "[Stage 65:======================================================> (39 + 1) / 40]\r"
     ]
    },
    {
     "data": {
      "text/plain": [
       "163406552"
      ]
     },
     "execution_count": 47,
     "metadata": {},
     "output_type": "execute_result"
    }
   ],
   "source": [
    "qced[1].entries().count()"
   ]
  },
  {
   "cell_type": "code",
   "execution_count": 42,
   "id": "4bcebe68-9247-49ef-9304-1787d5e221f6",
   "metadata": {
    "tags": []
   },
   "outputs": [
    {
     "data": {
      "text/html": [
       "<table><thead><tr><td style=\"white-space: nowrap; max-width: 500px; overflow: hidden; text-overflow: ellipsis; \" colspan=\"1\"><div style=\"text-align: left;\"></div></td><td style=\"white-space: nowrap; max-width: 500px; overflow: hidden; text-overflow: ellipsis; \" colspan=\"1\"><div style=\"text-align: left;\"></div></td><td style=\"white-space: nowrap; max-width: 500px; overflow: hidden; text-overflow: ellipsis; \" colspan=\"1\"><div style=\"text-align: left;\"></div></td><td style=\"white-space: nowrap; max-width: 500px; overflow: hidden; text-overflow: ellipsis; \" colspan=\"1\"><div style=\"text-align: left;\"></div></td><td style=\"white-space: nowrap; max-width: 500px; overflow: hidden; text-overflow: ellipsis; \" colspan=\"1\"><div style=\"text-align: left;\"></div></td><td style=\"white-space: nowrap; max-width: 500px; overflow: hidden; text-overflow: ellipsis; \" colspan=\"1\"><div style=\"text-align: left;\"></div></td></tr><tr><td style=\"white-space: nowrap; max-width: 500px; overflow: hidden; text-overflow: ellipsis; \" colspan=\"1\"><div style=\"text-align: left;\"></div></td><td style=\"white-space: nowrap; max-width: 500px; overflow: hidden; text-overflow: ellipsis; \" colspan=\"1\"><div style=\"text-align: left;\"></div></td><td style=\"white-space: nowrap; max-width: 500px; overflow: hidden; text-overflow: ellipsis; \" colspan=\"1\"><div style=\"text-align: left;border-bottom: solid 2px #000; padding-bottom: 5px\">&#x27;NA06985&#x27;</div></td><td style=\"white-space: nowrap; max-width: 500px; overflow: hidden; text-overflow: ellipsis; \" colspan=\"1\"><div style=\"text-align: left;border-bottom: solid 2px #000; padding-bottom: 5px\">&#x27;NA06986&#x27;</div></td><td style=\"white-space: nowrap; max-width: 500px; overflow: hidden; text-overflow: ellipsis; \" colspan=\"1\"><div style=\"text-align: left;border-bottom: solid 2px #000; padding-bottom: 5px\">&#x27;NA06994&#x27;</div></td><td style=\"white-space: nowrap; max-width: 500px; overflow: hidden; text-overflow: ellipsis; \" colspan=\"1\"><div style=\"text-align: left;border-bottom: solid 2px #000; padding-bottom: 5px\">&#x27;NA07000&#x27;</div></td></tr><tr><td style=\"white-space: nowrap; max-width: 500px; overflow: hidden; text-overflow: ellipsis; \" colspan=\"1\"><div style=\"text-align: left;border-bottom: solid 2px #000; padding-bottom: 5px\">locus</div></td><td style=\"white-space: nowrap; max-width: 500px; overflow: hidden; text-overflow: ellipsis; \" colspan=\"1\"><div style=\"text-align: left;border-bottom: solid 2px #000; padding-bottom: 5px\">alleles</div></td><td style=\"white-space: nowrap; max-width: 500px; overflow: hidden; text-overflow: ellipsis; \" colspan=\"1\"><div style=\"text-align: left;border-bottom: solid 2px #000; padding-bottom: 5px\">GT</div></td><td style=\"white-space: nowrap; max-width: 500px; overflow: hidden; text-overflow: ellipsis; \" colspan=\"1\"><div style=\"text-align: left;border-bottom: solid 2px #000; padding-bottom: 5px\">GT</div></td><td style=\"white-space: nowrap; max-width: 500px; overflow: hidden; text-overflow: ellipsis; \" colspan=\"1\"><div style=\"text-align: left;border-bottom: solid 2px #000; padding-bottom: 5px\">GT</div></td><td style=\"white-space: nowrap; max-width: 500px; overflow: hidden; text-overflow: ellipsis; \" colspan=\"1\"><div style=\"text-align: left;border-bottom: solid 2px #000; padding-bottom: 5px\">GT</div></td></tr><tr><td style=\"white-space: nowrap; max-width: 500px; overflow: hidden; text-overflow: ellipsis; text-align: left;\">locus&lt;GRCh38&gt;</td><td style=\"white-space: nowrap; max-width: 500px; overflow: hidden; text-overflow: ellipsis; text-align: left;\">array&lt;str&gt;</td><td style=\"white-space: nowrap; max-width: 500px; overflow: hidden; text-overflow: ellipsis; text-align: left;\">call</td><td style=\"white-space: nowrap; max-width: 500px; overflow: hidden; text-overflow: ellipsis; text-align: left;\">call</td><td style=\"white-space: nowrap; max-width: 500px; overflow: hidden; text-overflow: ellipsis; text-align: left;\">call</td><td style=\"white-space: nowrap; max-width: 500px; overflow: hidden; text-overflow: ellipsis; text-align: left;\">call</td></tr>\n",
       "</thead><tbody><tr><td style=\"white-space: nowrap; max-width: 500px; overflow: hidden; text-overflow: ellipsis; \">chr1:10000044</td><td style=\"white-space: nowrap; max-width: 500px; overflow: hidden; text-overflow: ellipsis; \">[&quot;A&quot;,&quot;T&quot;]</td><td style=\"white-space: nowrap; max-width: 500px; overflow: hidden; text-overflow: ellipsis; \">0/0</td><td style=\"white-space: nowrap; max-width: 500px; overflow: hidden; text-overflow: ellipsis; \">0/0</td><td style=\"white-space: nowrap; max-width: 500px; overflow: hidden; text-overflow: ellipsis; \">0/0</td><td style=\"white-space: nowrap; max-width: 500px; overflow: hidden; text-overflow: ellipsis; \">0/0</td></tr>\n",
       "<tr><td style=\"white-space: nowrap; max-width: 500px; overflow: hidden; text-overflow: ellipsis; \">chr1:10000052</td><td style=\"white-space: nowrap; max-width: 500px; overflow: hidden; text-overflow: ellipsis; \">[&quot;G&quot;,&quot;A&quot;]</td><td style=\"white-space: nowrap; max-width: 500px; overflow: hidden; text-overflow: ellipsis; \">0/0</td><td style=\"white-space: nowrap; max-width: 500px; overflow: hidden; text-overflow: ellipsis; \">0/0</td><td style=\"white-space: nowrap; max-width: 500px; overflow: hidden; text-overflow: ellipsis; \">0/0</td><td style=\"white-space: nowrap; max-width: 500px; overflow: hidden; text-overflow: ellipsis; \">0/0</td></tr>\n",
       "<tr><td style=\"white-space: nowrap; max-width: 500px; overflow: hidden; text-overflow: ellipsis; \">chr1:10000053</td><td style=\"white-space: nowrap; max-width: 500px; overflow: hidden; text-overflow: ellipsis; \">[&quot;C&quot;,&quot;A&quot;]</td><td style=\"white-space: nowrap; max-width: 500px; overflow: hidden; text-overflow: ellipsis; \">0/0</td><td style=\"white-space: nowrap; max-width: 500px; overflow: hidden; text-overflow: ellipsis; \">0/0</td><td style=\"white-space: nowrap; max-width: 500px; overflow: hidden; text-overflow: ellipsis; \">0/0</td><td style=\"white-space: nowrap; max-width: 500px; overflow: hidden; text-overflow: ellipsis; \">0/0</td></tr>\n",
       "<tr><td style=\"white-space: nowrap; max-width: 500px; overflow: hidden; text-overflow: ellipsis; \">chr1:10000054</td><td style=\"white-space: nowrap; max-width: 500px; overflow: hidden; text-overflow: ellipsis; \">[&quot;C&quot;,&quot;A&quot;]</td><td style=\"white-space: nowrap; max-width: 500px; overflow: hidden; text-overflow: ellipsis; \">0/0</td><td style=\"white-space: nowrap; max-width: 500px; overflow: hidden; text-overflow: ellipsis; \">0/0</td><td style=\"white-space: nowrap; max-width: 500px; overflow: hidden; text-overflow: ellipsis; \">0/0</td><td style=\"white-space: nowrap; max-width: 500px; overflow: hidden; text-overflow: ellipsis; \">0/0</td></tr>\n",
       "<tr><td style=\"white-space: nowrap; max-width: 500px; overflow: hidden; text-overflow: ellipsis; \">chr1:10000306</td><td style=\"white-space: nowrap; max-width: 500px; overflow: hidden; text-overflow: ellipsis; \">[&quot;T&quot;,&quot;G&quot;]</td><td style=\"white-space: nowrap; max-width: 500px; overflow: hidden; text-overflow: ellipsis; \">0/0</td><td style=\"white-space: nowrap; max-width: 500px; overflow: hidden; text-overflow: ellipsis; \">0/0</td><td style=\"white-space: nowrap; max-width: 500px; overflow: hidden; text-overflow: ellipsis; \">0/0</td><td style=\"white-space: nowrap; max-width: 500px; overflow: hidden; text-overflow: ellipsis; \">0/0</td></tr>\n",
       "<tr><td style=\"white-space: nowrap; max-width: 500px; overflow: hidden; text-overflow: ellipsis; \">chr1:10000323</td><td style=\"white-space: nowrap; max-width: 500px; overflow: hidden; text-overflow: ellipsis; \">[&quot;G&quot;,&quot;T&quot;]</td><td style=\"white-space: nowrap; max-width: 500px; overflow: hidden; text-overflow: ellipsis; \">0/0</td><td style=\"white-space: nowrap; max-width: 500px; overflow: hidden; text-overflow: ellipsis; \">0/0</td><td style=\"white-space: nowrap; max-width: 500px; overflow: hidden; text-overflow: ellipsis; \">0/0</td><td style=\"white-space: nowrap; max-width: 500px; overflow: hidden; text-overflow: ellipsis; \">0/0</td></tr>\n",
       "<tr><td style=\"white-space: nowrap; max-width: 500px; overflow: hidden; text-overflow: ellipsis; \">chr1:10000329</td><td style=\"white-space: nowrap; max-width: 500px; overflow: hidden; text-overflow: ellipsis; \">[&quot;T&quot;,&quot;A&quot;]</td><td style=\"white-space: nowrap; max-width: 500px; overflow: hidden; text-overflow: ellipsis; \">0/0</td><td style=\"white-space: nowrap; max-width: 500px; overflow: hidden; text-overflow: ellipsis; \">0/0</td><td style=\"white-space: nowrap; max-width: 500px; overflow: hidden; text-overflow: ellipsis; \">0/0</td><td style=\"white-space: nowrap; max-width: 500px; overflow: hidden; text-overflow: ellipsis; \">0/0</td></tr>\n",
       "<tr><td style=\"white-space: nowrap; max-width: 500px; overflow: hidden; text-overflow: ellipsis; \">chr1:10000404</td><td style=\"white-space: nowrap; max-width: 500px; overflow: hidden; text-overflow: ellipsis; \">[&quot;C&quot;,&quot;A&quot;,&quot;T&quot;]</td><td style=\"white-space: nowrap; max-width: 500px; overflow: hidden; text-overflow: ellipsis; \">0/0</td><td style=\"white-space: nowrap; max-width: 500px; overflow: hidden; text-overflow: ellipsis; \">0/0</td><td style=\"white-space: nowrap; max-width: 500px; overflow: hidden; text-overflow: ellipsis; \">0/0</td><td style=\"white-space: nowrap; max-width: 500px; overflow: hidden; text-overflow: ellipsis; \">0/1</td></tr>\n",
       "<tr><td style=\"white-space: nowrap; max-width: 500px; overflow: hidden; text-overflow: ellipsis; \">chr1:10000424</td><td style=\"white-space: nowrap; max-width: 500px; overflow: hidden; text-overflow: ellipsis; \">[&quot;A&quot;,&quot;C&quot;]</td><td style=\"white-space: nowrap; max-width: 500px; overflow: hidden; text-overflow: ellipsis; \">0/0</td><td style=\"white-space: nowrap; max-width: 500px; overflow: hidden; text-overflow: ellipsis; \">0/0</td><td style=\"white-space: nowrap; max-width: 500px; overflow: hidden; text-overflow: ellipsis; \">0/0</td><td style=\"white-space: nowrap; max-width: 500px; overflow: hidden; text-overflow: ellipsis; \">0/0</td></tr>\n",
       "<tr><td style=\"white-space: nowrap; max-width: 500px; overflow: hidden; text-overflow: ellipsis; \">chr1:10000426</td><td style=\"white-space: nowrap; max-width: 500px; overflow: hidden; text-overflow: ellipsis; \">[&quot;T&quot;,&quot;C&quot;]</td><td style=\"white-space: nowrap; max-width: 500px; overflow: hidden; text-overflow: ellipsis; \">0/0</td><td style=\"white-space: nowrap; max-width: 500px; overflow: hidden; text-overflow: ellipsis; \">0/0</td><td style=\"white-space: nowrap; max-width: 500px; overflow: hidden; text-overflow: ellipsis; \">0/0</td><td style=\"white-space: nowrap; max-width: 500px; overflow: hidden; text-overflow: ellipsis; \">0/0</td></tr>\n",
       "</tbody></table><p style=\"background: #fdd; padding: 0.4em;\">showing top 10 rows</p>\n",
       "<p style=\"background: #fdd; padding: 0.4em;\">showing the first 4 of 789 columns</p>\n"
      ],
      "text/plain": [
       "+---------------+---------------+--------------+--------------+--------------+\n",
       "| locus         | alleles       | 'NA06985'.GT | 'NA06986'.GT | 'NA06994'.GT |\n",
       "+---------------+---------------+--------------+--------------+--------------+\n",
       "| locus<GRCh38> | array<str>    | call         | call         | call         |\n",
       "+---------------+---------------+--------------+--------------+--------------+\n",
       "| chr1:10000044 | [\"A\",\"T\"]     | 0/0          | 0/0          | 0/0          |\n",
       "| chr1:10000052 | [\"G\",\"A\"]     | 0/0          | 0/0          | 0/0          |\n",
       "| chr1:10000053 | [\"C\",\"A\"]     | 0/0          | 0/0          | 0/0          |\n",
       "| chr1:10000054 | [\"C\",\"A\"]     | 0/0          | 0/0          | 0/0          |\n",
       "| chr1:10000306 | [\"T\",\"G\"]     | 0/0          | 0/0          | 0/0          |\n",
       "| chr1:10000323 | [\"G\",\"T\"]     | 0/0          | 0/0          | 0/0          |\n",
       "| chr1:10000329 | [\"T\",\"A\"]     | 0/0          | 0/0          | 0/0          |\n",
       "| chr1:10000404 | [\"C\",\"A\",\"T\"] | 0/0          | 0/0          | 0/0          |\n",
       "| chr1:10000424 | [\"A\",\"C\"]     | 0/0          | 0/0          | 0/0          |\n",
       "| chr1:10000426 | [\"T\",\"C\"]     | 0/0          | 0/0          | 0/0          |\n",
       "+---------------+---------------+--------------+--------------+--------------+\n",
       "\n",
       "+--------------+\n",
       "| 'NA07000'.GT |\n",
       "+--------------+\n",
       "| call         |\n",
       "+--------------+\n",
       "| 0/0          |\n",
       "| 0/0          |\n",
       "| 0/0          |\n",
       "| 0/0          |\n",
       "| 0/0          |\n",
       "| 0/0          |\n",
       "| 0/0          |\n",
       "| 0/1          |\n",
       "| 0/0          |\n",
       "| 0/0          |\n",
       "+--------------+\n",
       "showing top 10 rows\n",
       "showing the first 4 of 789 columns"
      ]
     },
     "metadata": {},
     "output_type": "display_data"
    }
   ],
   "source": [
    "qced[1].entries().count()"
   ]
  },
  {
   "cell_type": "code",
   "execution_count": 34,
   "id": "bb60df2b-9999-431c-b9e0-d866a9da84be",
   "metadata": {
    "tags": []
   },
   "outputs": [
    {
     "data": {
      "text/html": [
       "<iframe\n",
       "    scrolling=\"no\"\n",
       "    width=\"100%\"\n",
       "    height=\"545px\"\n",
       "    src=\"iframe_figures/figure_34.html\"\n",
       "    frameborder=\"0\"\n",
       "    allowfullscreen\n",
       "></iframe>\n"
      ],
      "text/plain": [
       "<hail.ggplot.ggplot.GGPlot at 0x154c91f84e20>"
      ]
     },
     "execution_count": 34,
     "metadata": {},
     "output_type": "execute_result"
    }
   ],
   "source": [
    "ggplot(\n",
    "    joined,\n",
    "    aes(x=joined.sample_qc.call_rate, fill=joined.group)\n",
    ") + geom_histogram(\n",
    "    alpha=0.4,\n",
    "    position = 'identity',\n",
    "    bins = 100\n",
    ")"
   ]
  },
  {
   "cell_type": "code",
   "execution_count": 19,
   "id": "e2d3065e-e37a-46f8-af28-3d554655b76a",
   "metadata": {
    "tags": []
   },
   "outputs": [
    {
     "name": "stderr",
     "output_type": "stream",
     "text": [
      "2023-04-10 12:01:35.164 Hail: INFO: wrote table with 501 rows in 1 partition to /localfs/2214337/tmp_hail/persist_tablendDQT3Fug0\n",
      "2023-04-10 12:01:35.769 Hail: INFO: Reading table without type imputation\n",
      "  Loading field 'f0' as type str (not specified)\n",
      "  Loading field 'f1' as type str (not specified)\n",
      "  Loading field 'f2' as type str (not specified)\n",
      "  Loading field 'f3' as type str (not specified)\n"
     ]
    }
   ],
   "source": [
    "eur = hl.import_table('/net/pr2/projects/plgrid/plggneuromol/resources/1kg/europeans', no_header=True)\n",
    "eur = eur.select(eur.f0)\n",
    "eur = eur.f0.collect()"
   ]
  },
  {
   "cell_type": "code",
   "execution_count": 20,
   "id": "9129fcb2-1dcd-4eda-97ae-6c25b85129bb",
   "metadata": {
    "tags": []
   },
   "outputs": [],
   "source": [
    "qced[0] = qced[0].annotate_cols(\n",
    "        eur = hl.if_else(\n",
    "            hl.literal(eur).contains(qced[0].s),\n",
    "            'eur',\n",
    "            'else'\n",
    "        )\n",
    ")"
   ]
  },
  {
   "cell_type": "code",
   "execution_count": 22,
   "id": "d7583294-069a-4efc-bf6a-4e458e2cdd48",
   "metadata": {
    "tags": []
   },
   "outputs": [],
   "source": [
    "qced[1] = qced[1].annotate_cols(\n",
    "        eur = hl.if_else(\n",
    "            hl.literal(eur).contains(qced[1].s),\n",
    "            'eur',\n",
    "            'else'\n",
    "        )\n",
    ")"
   ]
  },
  {
   "cell_type": "code",
   "execution_count": 25,
   "id": "fb1a7ad7-8302-4e0b-8066-1a1585609709",
   "metadata": {
    "tags": []
   },
   "outputs": [
    {
     "data": {
      "text/html": [
       "<iframe\n",
       "    scrolling=\"no\"\n",
       "    width=\"100%\"\n",
       "    height=\"545px\"\n",
       "    src=\"iframe_figures/figure_25.html\"\n",
       "    frameborder=\"0\"\n",
       "    allowfullscreen\n",
       "></iframe>\n"
      ],
      "text/plain": [
       "<hail.ggplot.ggplot.GGPlot at 0x154cab796440>"
      ]
     },
     "execution_count": 25,
     "metadata": {},
     "output_type": "execute_result"
    }
   ],
   "source": [
    "ggplot(\n",
    "    qced[0],\n",
    "    aes(x=qced[0].sample_qc.call_rate, fill=qced[0].eur)\n",
    ") + geom_histogram(\n",
    "    alpha=0.4,\n",
    "    position = 'identity',\n",
    "    bins = 100\n",
    ")"
   ]
  },
  {
   "cell_type": "code",
   "execution_count": 26,
   "id": "ecac93d1-e18e-41bf-ad9e-c7cb9427ac6b",
   "metadata": {
    "tags": []
   },
   "outputs": [
    {
     "data": {
      "text/html": [
       "<iframe\n",
       "    scrolling=\"no\"\n",
       "    width=\"100%\"\n",
       "    height=\"545px\"\n",
       "    src=\"iframe_figures/figure_26.html\"\n",
       "    frameborder=\"0\"\n",
       "    allowfullscreen\n",
       "></iframe>\n"
      ],
      "text/plain": [
       "<hail.ggplot.ggplot.GGPlot at 0x154ca954d480>"
      ]
     },
     "execution_count": 26,
     "metadata": {},
     "output_type": "execute_result"
    }
   ],
   "source": [
    "ggplot(\n",
    "    qced[0],\n",
    "    aes(x=qced[0].sample_qc.call_rate, fill=qced[0].group)\n",
    ") + geom_histogram(\n",
    "    alpha=0.4,\n",
    "    position = 'identity',\n",
    "    bins = 100\n",
    ")"
   ]
  },
  {
   "cell_type": "code",
   "execution_count": 27,
   "id": "dfc27691-5c12-475e-8376-a486f3d6016a",
   "metadata": {
    "tags": []
   },
   "outputs": [
    {
     "data": {
      "text/html": [
       "<iframe\n",
       "    scrolling=\"no\"\n",
       "    width=\"100%\"\n",
       "    height=\"545px\"\n",
       "    src=\"iframe_figures/figure_27.html\"\n",
       "    frameborder=\"0\"\n",
       "    allowfullscreen\n",
       "></iframe>\n"
      ],
      "text/plain": [
       "<hail.ggplot.ggplot.GGPlot at 0x154ca94e0bb0>"
      ]
     },
     "execution_count": 27,
     "metadata": {},
     "output_type": "execute_result"
    }
   ],
   "source": [
    "ggplot(\n",
    "    qced[1],\n",
    "    aes(x=qced[1].sample_qc.call_rate, fill=qced[1].eur)\n",
    ") + geom_histogram(\n",
    "    alpha=0.4,\n",
    "    position = 'identity',\n",
    "    bins = 100\n",
    ")"
   ]
  },
  {
   "cell_type": "code",
   "execution_count": 30,
   "id": "af6a5b89-d17e-4695-a159-44245fe18cef",
   "metadata": {
    "tags": []
   },
   "outputs": [
    {
     "data": {
      "text/html": [
       "<iframe\n",
       "    scrolling=\"no\"\n",
       "    width=\"100%\"\n",
       "    height=\"545px\"\n",
       "    src=\"iframe_figures/figure_30.html\"\n",
       "    frameborder=\"0\"\n",
       "    allowfullscreen\n",
       "></iframe>\n"
      ],
      "text/plain": [
       "<hail.ggplot.ggplot.GGPlot at 0x154c91f38a60>"
      ]
     },
     "execution_count": 30,
     "metadata": {},
     "output_type": "execute_result"
    }
   ],
   "source": [
    "ggplot(\n",
    "    qced[1],\n",
    "    aes(x=qced[1].sample_qc.call_rate, fill=qced[1].group)\n",
    ") + geom_histogram(\n",
    "    alpha=0.4,\n",
    "    position = 'identity',\n",
    "    bins = 100\n",
    ")"
   ]
  },
  {
   "cell_type": "code",
   "execution_count": 37,
   "id": "eaa4aa35-bb50-48ab-a465-1d4f57c90384",
   "metadata": {
    "tags": []
   },
   "outputs": [
    {
     "data": {
      "text/html": [
       "<iframe\n",
       "    scrolling=\"no\"\n",
       "    width=\"100%\"\n",
       "    height=\"545px\"\n",
       "    src=\"iframe_figures/figure_37.html\"\n",
       "    frameborder=\"0\"\n",
       "    allowfullscreen\n",
       "></iframe>\n"
      ],
      "text/plain": [
       "<hail.ggplot.ggplot.GGPlot at 0x149fd15349a0>"
      ]
     },
     "execution_count": 37,
     "metadata": {},
     "output_type": "execute_result"
    }
   ],
   "source": [
    "ggplot(\n",
    "    qced[1],\n",
    "    aes(x=qced[1].sample_qc.call_rate, fill=qced[1].group)\n",
    ") + geom_histogram(\n",
    "    alpha=0.4,\n",
    "    position = 'identity',\n",
    "    bins = 20\n",
    ")"
   ]
  },
  {
   "cell_type": "code",
   "execution_count": null,
   "id": "38c1d66c-114e-4023-be4f-2a940cbfeb76",
   "metadata": {
    "tags": []
   },
   "outputs": [],
   "source": [
    "# now perform test filtering and update samples qc:\n",
    "test_filter = qced[0].annotate_rows(\n",
    "    eur_non_ref = hl.agg.filter(\n",
    "        qced[0].eur == 'eur',\n",
    "        hl.agg.any(qced[0].GT.is_non_ref())\n",
    "    )\n",
    ")"
   ]
  },
  {
   "cell_type": "code",
   "execution_count": null,
   "id": "32bd054c-9ad9-413e-8699-473e7b6c48f5",
   "metadata": {
    "tags": []
   },
   "outputs": [],
   "source": [
    "test_filter = test_filter.filter_rows(\n",
    "    test_filter.eur_non_ref\n",
    ")"
   ]
  },
  {
   "cell_type": "code",
   "execution_count": null,
   "id": "509caa04-2cbb-4e3b-be45-69351c1f7c96",
   "metadata": {
    "tags": []
   },
   "outputs": [],
   "source": [
    "test_filter = hl.sample_qc(test_filter)\n",
    "test_filter = test_filter.checkpoint(localfs_path+'test-filter-qced-2')"
   ]
  },
  {
   "cell_type": "code",
   "execution_count": null,
   "id": "7aa6311c-2b05-49e1-a66e-17d442fee51d",
   "metadata": {
    "tags": []
   },
   "outputs": [],
   "source": [
    "test_filter.count()"
   ]
  },
  {
   "cell_type": "code",
   "execution_count": null,
   "id": "b90fdb76-9710-4bff-b6b7-beca9bcbe7e1",
   "metadata": {
    "tags": []
   },
   "outputs": [],
   "source": [
    "qced[0].count()"
   ]
  },
  {
   "cell_type": "code",
   "execution_count": null,
   "id": "830d3f62-76b7-45ad-8482-6028b69fcd39",
   "metadata": {
    "tags": []
   },
   "outputs": [],
   "source": [
    "qced[1].count()"
   ]
  }
 ],
 "metadata": {
  "kernelspec": {
   "display_name": "Python 3 (ipykernel)",
   "language": "python",
   "name": "python3"
  },
  "language_info": {
   "codemirror_mode": {
    "name": "ipython",
    "version": 3
   },
   "file_extension": ".py",
   "mimetype": "text/x-python",
   "name": "python",
   "nbconvert_exporter": "python",
   "pygments_lexer": "ipython3",
   "version": "3.10.4"
  }
 },
 "nbformat": 4,
 "nbformat_minor": 5
}
