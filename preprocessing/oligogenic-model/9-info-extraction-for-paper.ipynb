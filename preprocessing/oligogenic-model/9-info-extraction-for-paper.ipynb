{
 "cells": [
  {
   "cell_type": "code",
   "execution_count": 1,
   "id": "51c333df-30e6-4d08-b4f7-75b414f89667",
   "metadata": {
    "tags": []
   },
   "outputs": [],
   "source": [
    "import os\n",
    "localfs_path = os.environ.get('SCRATCH_LOCAL') + '/'"
   ]
  },
  {
   "cell_type": "code",
   "execution_count": 2,
   "id": "a3082410-eeb9-49fa-a151-89c2af5272fb",
   "metadata": {
    "tags": []
   },
   "outputs": [
    {
     "name": "stderr",
     "output_type": "stream",
     "text": [
      "Picked up _JAVA_OPTIONS: -Djava.io.tmpdir=/localfs/4595503/\n",
      "Picked up _JAVA_OPTIONS: -Djava.io.tmpdir=/localfs/4595503/\n"
     ]
    },
    {
     "name": "stdout",
     "output_type": "stream",
     "text": [
      "23/08/26 13:40:05 WARN NativeCodeLoader: Unable to load native-hadoop library for your platform... using builtin-java classes where applicable\n"
     ]
    },
    {
     "name": "stderr",
     "output_type": "stream",
     "text": [
      "Setting default log level to \"WARN\".\n",
      "To adjust logging level use sc.setLogLevel(newLevel). For SparkR, use setLogLevel(newLevel).\n",
      "Running on Apache Spark version 3.3.2\n",
      "SparkUI available at http://ac0072:4040\n",
      "Welcome to\n",
      "     __  __     <>__\n",
      "    / /_/ /__  __/ /\n",
      "   / __  / _ `/ / /\n",
      "  /_/ /_/\\_,_/_/_/   version 0.2.113-cf32652c5077\n",
      "LOGGING: writing to /net/pr2/projects/plgrid/plggneuromol/imdik-zekanowski-gts/preprocessing/oligogenic-model/hail-20230826-1339-0.2.113-cf32652c5077.log\n"
     ]
    }
   ],
   "source": [
    "os.environ['_JAVA_OPTIONS'] = f'-Djava.io.tmpdir={localfs_path}'\n",
    "\n",
    "import hail as hl\n",
    "\n",
    "hl.init(\n",
    "    tmp_dir=(localfs_path+'tmp_hail_3'),\n",
    "    spark_conf={'spark.driver.memory': '10G', 'spark.executor.memory': '10G'},\n",
    "    default_reference='GRCh38'\n",
    ") "
   ]
  },
  {
   "cell_type": "code",
   "execution_count": 3,
   "id": "cf819f21-298b-42b7-8f8f-4cf82a00dc42",
   "metadata": {
    "tags": []
   },
   "outputs": [
    {
     "data": {
      "text/html": [
       "\n",
       "    <div class=\"bk-root\">\n",
       "        <a href=\"https://bokeh.org\" target=\"_blank\" class=\"bk-logo bk-logo-small bk-logo-notebook\"></a>\n",
       "        <span id=\"1001\">Loading BokehJS ...</span>\n",
       "    </div>"
      ]
     },
     "metadata": {},
     "output_type": "display_data"
    },
    {
     "data": {
      "application/javascript": [
       "\n",
       "(function(root) {\n",
       "  function now() {\n",
       "    return new Date();\n",
       "  }\n",
       "\n",
       "  var force = true;\n",
       "\n",
       "  if (typeof root._bokeh_onload_callbacks === \"undefined\" || force === true) {\n",
       "    root._bokeh_onload_callbacks = [];\n",
       "    root._bokeh_is_loading = undefined;\n",
       "  }\n",
       "\n",
       "  var JS_MIME_TYPE = 'application/javascript';\n",
       "  var HTML_MIME_TYPE = 'text/html';\n",
       "  var EXEC_MIME_TYPE = 'application/vnd.bokehjs_exec.v0+json';\n",
       "  var CLASS_NAME = 'output_bokeh rendered_html';\n",
       "\n",
       "  /**\n",
       "   * Render data to the DOM node\n",
       "   */\n",
       "  function render(props, node) {\n",
       "    var script = document.createElement(\"script\");\n",
       "    node.appendChild(script);\n",
       "  }\n",
       "\n",
       "  /**\n",
       "   * Handle when an output is cleared or removed\n",
       "   */\n",
       "  function handleClearOutput(event, handle) {\n",
       "    var cell = handle.cell;\n",
       "\n",
       "    var id = cell.output_area._bokeh_element_id;\n",
       "    var server_id = cell.output_area._bokeh_server_id;\n",
       "    // Clean up Bokeh references\n",
       "    if (id != null && id in Bokeh.index) {\n",
       "      Bokeh.index[id].model.document.clear();\n",
       "      delete Bokeh.index[id];\n",
       "    }\n",
       "\n",
       "    if (server_id !== undefined) {\n",
       "      // Clean up Bokeh references\n",
       "      var cmd = \"from bokeh.io.state import curstate; print(curstate().uuid_to_server['\" + server_id + \"'].get_sessions()[0].document.roots[0]._id)\";\n",
       "      cell.notebook.kernel.execute(cmd, {\n",
       "        iopub: {\n",
       "          output: function(msg) {\n",
       "            var id = msg.content.text.trim();\n",
       "            if (id in Bokeh.index) {\n",
       "              Bokeh.index[id].model.document.clear();\n",
       "              delete Bokeh.index[id];\n",
       "            }\n",
       "          }\n",
       "        }\n",
       "      });\n",
       "      // Destroy server and session\n",
       "      var cmd = \"import bokeh.io.notebook as ion; ion.destroy_server('\" + server_id + \"')\";\n",
       "      cell.notebook.kernel.execute(cmd);\n",
       "    }\n",
       "  }\n",
       "\n",
       "  /**\n",
       "   * Handle when a new output is added\n",
       "   */\n",
       "  function handleAddOutput(event, handle) {\n",
       "    var output_area = handle.output_area;\n",
       "    var output = handle.output;\n",
       "\n",
       "    // limit handleAddOutput to display_data with EXEC_MIME_TYPE content only\n",
       "    if ((output.output_type != \"display_data\") || (!output.data.hasOwnProperty(EXEC_MIME_TYPE))) {\n",
       "      return\n",
       "    }\n",
       "\n",
       "    var toinsert = output_area.element.find(\".\" + CLASS_NAME.split(' ')[0]);\n",
       "\n",
       "    if (output.metadata[EXEC_MIME_TYPE][\"id\"] !== undefined) {\n",
       "      toinsert[toinsert.length - 1].firstChild.textContent = output.data[JS_MIME_TYPE];\n",
       "      // store reference to embed id on output_area\n",
       "      output_area._bokeh_element_id = output.metadata[EXEC_MIME_TYPE][\"id\"];\n",
       "    }\n",
       "    if (output.metadata[EXEC_MIME_TYPE][\"server_id\"] !== undefined) {\n",
       "      var bk_div = document.createElement(\"div\");\n",
       "      bk_div.innerHTML = output.data[HTML_MIME_TYPE];\n",
       "      var script_attrs = bk_div.children[0].attributes;\n",
       "      for (var i = 0; i < script_attrs.length; i++) {\n",
       "        toinsert[toinsert.length - 1].firstChild.setAttribute(script_attrs[i].name, script_attrs[i].value);\n",
       "      }\n",
       "      // store reference to server id on output_area\n",
       "      output_area._bokeh_server_id = output.metadata[EXEC_MIME_TYPE][\"server_id\"];\n",
       "    }\n",
       "  }\n",
       "\n",
       "  function register_renderer(events, OutputArea) {\n",
       "\n",
       "    function append_mime(data, metadata, element) {\n",
       "      // create a DOM node to render to\n",
       "      var toinsert = this.create_output_subarea(\n",
       "        metadata,\n",
       "        CLASS_NAME,\n",
       "        EXEC_MIME_TYPE\n",
       "      );\n",
       "      this.keyboard_manager.register_events(toinsert);\n",
       "      // Render to node\n",
       "      var props = {data: data, metadata: metadata[EXEC_MIME_TYPE]};\n",
       "      render(props, toinsert[toinsert.length - 1]);\n",
       "      element.append(toinsert);\n",
       "      return toinsert\n",
       "    }\n",
       "\n",
       "    /* Handle when an output is cleared or removed */\n",
       "    events.on('clear_output.CodeCell', handleClearOutput);\n",
       "    events.on('delete.Cell', handleClearOutput);\n",
       "\n",
       "    /* Handle when a new output is added */\n",
       "    events.on('output_added.OutputArea', handleAddOutput);\n",
       "\n",
       "    /**\n",
       "     * Register the mime type and append_mime function with output_area\n",
       "     */\n",
       "    OutputArea.prototype.register_mime_type(EXEC_MIME_TYPE, append_mime, {\n",
       "      /* Is output safe? */\n",
       "      safe: true,\n",
       "      /* Index of renderer in `output_area.display_order` */\n",
       "      index: 0\n",
       "    });\n",
       "  }\n",
       "\n",
       "  // register the mime type if in Jupyter Notebook environment and previously unregistered\n",
       "  if (root.Jupyter !== undefined) {\n",
       "    var events = require('base/js/events');\n",
       "    var OutputArea = require('notebook/js/outputarea').OutputArea;\n",
       "\n",
       "    if (OutputArea.prototype.mime_types().indexOf(EXEC_MIME_TYPE) == -1) {\n",
       "      register_renderer(events, OutputArea);\n",
       "    }\n",
       "  }\n",
       "\n",
       "  \n",
       "  if (typeof (root._bokeh_timeout) === \"undefined\" || force === true) {\n",
       "    root._bokeh_timeout = Date.now() + 5000;\n",
       "    root._bokeh_failed_load = false;\n",
       "  }\n",
       "\n",
       "  var NB_LOAD_WARNING = {'data': {'text/html':\n",
       "     \"<div style='background-color: #fdd'>\\n\"+\n",
       "     \"<p>\\n\"+\n",
       "     \"BokehJS does not appear to have successfully loaded. If loading BokehJS from CDN, this \\n\"+\n",
       "     \"may be due to a slow or bad network connection. Possible fixes:\\n\"+\n",
       "     \"</p>\\n\"+\n",
       "     \"<ul>\\n\"+\n",
       "     \"<li>re-rerun `output_notebook()` to attempt to load from CDN again, or</li>\\n\"+\n",
       "     \"<li>use INLINE resources instead, as so:</li>\\n\"+\n",
       "     \"</ul>\\n\"+\n",
       "     \"<code>\\n\"+\n",
       "     \"from bokeh.resources import INLINE\\n\"+\n",
       "     \"output_notebook(resources=INLINE)\\n\"+\n",
       "     \"</code>\\n\"+\n",
       "     \"</div>\"}};\n",
       "\n",
       "  function display_loaded() {\n",
       "    var el = document.getElementById(\"1001\");\n",
       "    if (el != null) {\n",
       "      el.textContent = \"BokehJS is loading...\";\n",
       "    }\n",
       "    if (root.Bokeh !== undefined) {\n",
       "      if (el != null) {\n",
       "        el.textContent = \"BokehJS \" + root.Bokeh.version + \" successfully loaded.\";\n",
       "      }\n",
       "    } else if (Date.now() < root._bokeh_timeout) {\n",
       "      setTimeout(display_loaded, 100)\n",
       "    }\n",
       "  }\n",
       "\n",
       "\n",
       "  function run_callbacks() {\n",
       "    try {\n",
       "      root._bokeh_onload_callbacks.forEach(function(callback) {\n",
       "        if (callback != null)\n",
       "          callback();\n",
       "      });\n",
       "    } finally {\n",
       "      delete root._bokeh_onload_callbacks\n",
       "    }\n",
       "    console.debug(\"Bokeh: all callbacks have finished\");\n",
       "  }\n",
       "\n",
       "  function load_libs(css_urls, js_urls, callback) {\n",
       "    if (css_urls == null) css_urls = [];\n",
       "    if (js_urls == null) js_urls = [];\n",
       "\n",
       "    root._bokeh_onload_callbacks.push(callback);\n",
       "    if (root._bokeh_is_loading > 0) {\n",
       "      console.debug(\"Bokeh: BokehJS is being loaded, scheduling callback at\", now());\n",
       "      return null;\n",
       "    }\n",
       "    if (js_urls == null || js_urls.length === 0) {\n",
       "      run_callbacks();\n",
       "      return null;\n",
       "    }\n",
       "    console.debug(\"Bokeh: BokehJS not loaded, scheduling load and callback at\", now());\n",
       "    root._bokeh_is_loading = css_urls.length + js_urls.length;\n",
       "\n",
       "    function on_load() {\n",
       "      root._bokeh_is_loading--;\n",
       "      if (root._bokeh_is_loading === 0) {\n",
       "        console.debug(\"Bokeh: all BokehJS libraries/stylesheets loaded\");\n",
       "        run_callbacks()\n",
       "      }\n",
       "    }\n",
       "\n",
       "    function on_error() {\n",
       "      console.error(\"failed to load \" + url);\n",
       "    }\n",
       "\n",
       "    for (var i = 0; i < css_urls.length; i++) {\n",
       "      var url = css_urls[i];\n",
       "      const element = document.createElement(\"link\");\n",
       "      element.onload = on_load;\n",
       "      element.onerror = on_error;\n",
       "      element.rel = \"stylesheet\";\n",
       "      element.type = \"text/css\";\n",
       "      element.href = url;\n",
       "      console.debug(\"Bokeh: injecting link tag for BokehJS stylesheet: \", url);\n",
       "      document.body.appendChild(element);\n",
       "    }\n",
       "\n",
       "    for (var i = 0; i < js_urls.length; i++) {\n",
       "      var url = js_urls[i];\n",
       "      var element = document.createElement('script');\n",
       "      element.onload = on_load;\n",
       "      element.onerror = on_error;\n",
       "      element.async = false;\n",
       "      element.src = url;\n",
       "      console.debug(\"Bokeh: injecting script tag for BokehJS library: \", url);\n",
       "      document.head.appendChild(element);\n",
       "    }\n",
       "  };var element = document.getElementById(\"1001\");\n",
       "  if (element == null) {\n",
       "    console.error(\"Bokeh: ERROR: autoload.js configured with elementid '1001' but no matching script tag was found. \")\n",
       "    return false;\n",
       "  }\n",
       "\n",
       "  function inject_raw_css(css) {\n",
       "    const element = document.createElement(\"style\");\n",
       "    element.appendChild(document.createTextNode(css));\n",
       "    document.body.appendChild(element);\n",
       "  }\n",
       "\n",
       "  \n",
       "  var js_urls = [\"https://cdn.pydata.org/bokeh/release/bokeh-1.4.0.min.js\", \"https://cdn.pydata.org/bokeh/release/bokeh-widgets-1.4.0.min.js\", \"https://cdn.pydata.org/bokeh/release/bokeh-tables-1.4.0.min.js\", \"https://cdn.pydata.org/bokeh/release/bokeh-gl-1.4.0.min.js\"];\n",
       "  var css_urls = [];\n",
       "  \n",
       "\n",
       "  var inline_js = [\n",
       "    function(Bokeh) {\n",
       "      Bokeh.set_log_level(\"info\");\n",
       "    },\n",
       "    function(Bokeh) {\n",
       "    \n",
       "    \n",
       "    }\n",
       "  ];\n",
       "\n",
       "  function run_inline_js() {\n",
       "    \n",
       "    if (root.Bokeh !== undefined || force === true) {\n",
       "      \n",
       "    for (var i = 0; i < inline_js.length; i++) {\n",
       "      inline_js[i].call(root, root.Bokeh);\n",
       "    }\n",
       "    if (force === true) {\n",
       "        display_loaded();\n",
       "      }} else if (Date.now() < root._bokeh_timeout) {\n",
       "      setTimeout(run_inline_js, 100);\n",
       "    } else if (!root._bokeh_failed_load) {\n",
       "      console.log(\"Bokeh: BokehJS failed to load within specified timeout.\");\n",
       "      root._bokeh_failed_load = true;\n",
       "    } else if (force !== true) {\n",
       "      var cell = $(document.getElementById(\"1001\")).parents('.cell').data().cell;\n",
       "      cell.output_area.append_execute_result(NB_LOAD_WARNING)\n",
       "    }\n",
       "\n",
       "  }\n",
       "\n",
       "  if (root._bokeh_is_loading === 0) {\n",
       "    console.debug(\"Bokeh: BokehJS loaded, going straight to plotting\");\n",
       "    run_inline_js();\n",
       "  } else {\n",
       "    load_libs(css_urls, js_urls, function() {\n",
       "      console.debug(\"Bokeh: BokehJS plotting callback run at\", now());\n",
       "      run_inline_js();\n",
       "    });\n",
       "  }\n",
       "}(window));"
      ],
      "application/vnd.bokehjs_load.v0+json": "\n(function(root) {\n  function now() {\n    return new Date();\n  }\n\n  var force = true;\n\n  if (typeof root._bokeh_onload_callbacks === \"undefined\" || force === true) {\n    root._bokeh_onload_callbacks = [];\n    root._bokeh_is_loading = undefined;\n  }\n\n  \n\n  \n  if (typeof (root._bokeh_timeout) === \"undefined\" || force === true) {\n    root._bokeh_timeout = Date.now() + 5000;\n    root._bokeh_failed_load = false;\n  }\n\n  var NB_LOAD_WARNING = {'data': {'text/html':\n     \"<div style='background-color: #fdd'>\\n\"+\n     \"<p>\\n\"+\n     \"BokehJS does not appear to have successfully loaded. If loading BokehJS from CDN, this \\n\"+\n     \"may be due to a slow or bad network connection. Possible fixes:\\n\"+\n     \"</p>\\n\"+\n     \"<ul>\\n\"+\n     \"<li>re-rerun `output_notebook()` to attempt to load from CDN again, or</li>\\n\"+\n     \"<li>use INLINE resources instead, as so:</li>\\n\"+\n     \"</ul>\\n\"+\n     \"<code>\\n\"+\n     \"from bokeh.resources import INLINE\\n\"+\n     \"output_notebook(resources=INLINE)\\n\"+\n     \"</code>\\n\"+\n     \"</div>\"}};\n\n  function display_loaded() {\n    var el = document.getElementById(\"1001\");\n    if (el != null) {\n      el.textContent = \"BokehJS is loading...\";\n    }\n    if (root.Bokeh !== undefined) {\n      if (el != null) {\n        el.textContent = \"BokehJS \" + root.Bokeh.version + \" successfully loaded.\";\n      }\n    } else if (Date.now() < root._bokeh_timeout) {\n      setTimeout(display_loaded, 100)\n    }\n  }\n\n\n  function run_callbacks() {\n    try {\n      root._bokeh_onload_callbacks.forEach(function(callback) {\n        if (callback != null)\n          callback();\n      });\n    } finally {\n      delete root._bokeh_onload_callbacks\n    }\n    console.debug(\"Bokeh: all callbacks have finished\");\n  }\n\n  function load_libs(css_urls, js_urls, callback) {\n    if (css_urls == null) css_urls = [];\n    if (js_urls == null) js_urls = [];\n\n    root._bokeh_onload_callbacks.push(callback);\n    if (root._bokeh_is_loading > 0) {\n      console.debug(\"Bokeh: BokehJS is being loaded, scheduling callback at\", now());\n      return null;\n    }\n    if (js_urls == null || js_urls.length === 0) {\n      run_callbacks();\n      return null;\n    }\n    console.debug(\"Bokeh: BokehJS not loaded, scheduling load and callback at\", now());\n    root._bokeh_is_loading = css_urls.length + js_urls.length;\n\n    function on_load() {\n      root._bokeh_is_loading--;\n      if (root._bokeh_is_loading === 0) {\n        console.debug(\"Bokeh: all BokehJS libraries/stylesheets loaded\");\n        run_callbacks()\n      }\n    }\n\n    function on_error() {\n      console.error(\"failed to load \" + url);\n    }\n\n    for (var i = 0; i < css_urls.length; i++) {\n      var url = css_urls[i];\n      const element = document.createElement(\"link\");\n      element.onload = on_load;\n      element.onerror = on_error;\n      element.rel = \"stylesheet\";\n      element.type = \"text/css\";\n      element.href = url;\n      console.debug(\"Bokeh: injecting link tag for BokehJS stylesheet: \", url);\n      document.body.appendChild(element);\n    }\n\n    for (var i = 0; i < js_urls.length; i++) {\n      var url = js_urls[i];\n      var element = document.createElement('script');\n      element.onload = on_load;\n      element.onerror = on_error;\n      element.async = false;\n      element.src = url;\n      console.debug(\"Bokeh: injecting script tag for BokehJS library: \", url);\n      document.head.appendChild(element);\n    }\n  };var element = document.getElementById(\"1001\");\n  if (element == null) {\n    console.error(\"Bokeh: ERROR: autoload.js configured with elementid '1001' but no matching script tag was found. \")\n    return false;\n  }\n\n  function inject_raw_css(css) {\n    const element = document.createElement(\"style\");\n    element.appendChild(document.createTextNode(css));\n    document.body.appendChild(element);\n  }\n\n  \n  var js_urls = [\"https://cdn.pydata.org/bokeh/release/bokeh-1.4.0.min.js\", \"https://cdn.pydata.org/bokeh/release/bokeh-widgets-1.4.0.min.js\", \"https://cdn.pydata.org/bokeh/release/bokeh-tables-1.4.0.min.js\", \"https://cdn.pydata.org/bokeh/release/bokeh-gl-1.4.0.min.js\"];\n  var css_urls = [];\n  \n\n  var inline_js = [\n    function(Bokeh) {\n      Bokeh.set_log_level(\"info\");\n    },\n    function(Bokeh) {\n    \n    \n    }\n  ];\n\n  function run_inline_js() {\n    \n    if (root.Bokeh !== undefined || force === true) {\n      \n    for (var i = 0; i < inline_js.length; i++) {\n      inline_js[i].call(root, root.Bokeh);\n    }\n    if (force === true) {\n        display_loaded();\n      }} else if (Date.now() < root._bokeh_timeout) {\n      setTimeout(run_inline_js, 100);\n    } else if (!root._bokeh_failed_load) {\n      console.log(\"Bokeh: BokehJS failed to load within specified timeout.\");\n      root._bokeh_failed_load = true;\n    } else if (force !== true) {\n      var cell = $(document.getElementById(\"1001\")).parents('.cell').data().cell;\n      cell.output_area.append_execute_result(NB_LOAD_WARNING)\n    }\n\n  }\n\n  if (root._bokeh_is_loading === 0) {\n    console.debug(\"Bokeh: BokehJS loaded, going straight to plotting\");\n    run_inline_js();\n  } else {\n    load_libs(css_urls, js_urls, function() {\n      console.debug(\"Bokeh: BokehJS plotting callback run at\", now());\n      run_inline_js();\n    });\n  }\n}(window));"
     },
     "metadata": {},
     "output_type": "display_data"
    },
    {
     "data": {
      "text/plain": [
       "<function bokeh.io.output.output_notebook(resources=None, verbose=False, hide_banner=False, load_timeout=5000, notebook_type='jupyter')>"
      ]
     },
     "execution_count": 3,
     "metadata": {},
     "output_type": "execute_result"
    }
   ],
   "source": [
    "from hail.plot import show\n",
    "from pprint import pprint\n",
    "from bokeh.layouts import gridplot\n",
    "import numpy as np\n",
    "hl.plot.output_notebook()\n",
    "import bokeh\n",
    "from scipy import stats\n",
    "\n",
    "from bokeh.plotting import figure, output_notebook, show\n",
    "output_notebook"
   ]
  },
  {
   "cell_type": "code",
   "execution_count": 4,
   "id": "7a35b7cd-c573-4aa7-969e-8098bd9a7889",
   "metadata": {
    "tags": []
   },
   "outputs": [],
   "source": [
    "import seaborn as sns\n",
    "import matplotlib.pyplot as plt"
   ]
  },
  {
   "cell_type": "code",
   "execution_count": 5,
   "id": "f2a507d4-a013-4d50-b637-ae70900a9283",
   "metadata": {
    "tags": []
   },
   "outputs": [],
   "source": [
    "%load_ext autoreload\n",
    "%autoreload 2"
   ]
  },
  {
   "cell_type": "code",
   "execution_count": 6,
   "id": "5586b698-2ea5-4f9b-8473-7d399bb3815a",
   "metadata": {
    "tags": []
   },
   "outputs": [],
   "source": [
    "from oligogenic_model import (\n",
    "    read_in_pheno_anno_all,\n",
    "    read_in_pheno_anno_sport\n",
    ")"
   ]
  },
  {
   "cell_type": "markdown",
   "id": "9e3ed7b1-7976-4e74-b5c3-f0754aa749e7",
   "metadata": {},
   "source": [
    "### count cases"
   ]
  },
  {
   "cell_type": "code",
   "execution_count": 9,
   "id": "de10e794-e276-47b7-82bb-8206a57ae313",
   "metadata": {
    "tags": []
   },
   "outputs": [
    {
     "name": "stderr",
     "output_type": "stream",
     "text": [
      "2023-08-26 15:14:36.441 Hail: INFO: Reading table without type imputation\n",
      "  Loading field 'f0' as type str (not specified)\n",
      "  Loading field 'f1' as type str (not specified)\n",
      "  Loading field 'f2' as type str (not specified)\n",
      "  Loading field 'f3' as type str (not specified)\n",
      "  Loading field 'f4' as type str (not specified)\n",
      "  Loading field 'f5' as type str (not specified)\n",
      "  Loading field 'f6' as type str (not specified)\n",
      "  Loading field 'f7' as type str (not specified)\n",
      "  Loading field 'f8' as type str (not specified)\n",
      "2023-08-26 15:14:36.961 Hail: INFO: Reading table without type imputation\n",
      "  Loading field 'Gene stable ID' as type str (not specified)\n",
      "  Loading field 'UniProtKB Gene Name symbol' as type str (not specified)\n",
      "2023-08-26 15:14:37.742 Hail: INFO: Reading table to impute column types\n",
      "2023-08-26 15:14:38.238 Hail: INFO: Finished type imputation\n",
      "  Loading field 'ID' as type str (imputed)\n",
      "  Loading field 'family' as type str (imputed)\n",
      "  Loading field 'sex' as type str (imputed)\n",
      "  Loading field 'kinship' as type str (imputed)\n",
      "  Loading field 'disease' as type str (imputed)\n",
      "  Loading field 'phenotype' as type str (imputed)\n",
      "  Loading field 'add_pheno' as type str (imputed)\n",
      "  Loading field 'heavy_tics' as type str (imputed)\n",
      "  Loading field 'heavy_tics_familial' as type str (imputed)\n",
      "  Loading field 'GTS_ASD_group' as type str (imputed)\n",
      "  Loading field 'nonCTD' as type str (imputed)\n",
      "2023-08-26 15:14:40.587 Hail: INFO: Ordering unsorted dataset with network shuffle\n",
      "2023-08-26 15:14:40.875 Hail: INFO: Ordering unsorted dataset with network shuffle\n",
      "2023-08-26 15:14:42.635 Hail: INFO: Ordering unsorted dataset with network shuffle\n",
      "2023-08-26 15:17:46.811 Hail: INFO: wrote matrix table with 6538550 rows and 287 columns in 4388 partitions to /localfs/4595503/all_3.mt\n",
      "    Total size: 40.09 GiB\n",
      "    * Rows/entries: 40.09 GiB\n",
      "    * Columns: 35.42 KiB\n",
      "    * Globals: 11.00 B\n",
      "    * Smallest partition: 0 rows (20.00 B)\n",
      "    * Largest partition:  21620 rows (102.29 MiB)\n"
     ]
    }
   ],
   "source": [
    "mt = read_in_pheno_anno_all(\n",
    "    '/net/pr2/projects/plgrid/plggneuromol/imdik-zekanowski-gts/data/mts/oligogenic-model/gts_and_s.mt',\n",
    "    'all_3')"
   ]
  },
  {
   "cell_type": "code",
   "execution_count": 15,
   "id": "5632d9e9-1ab3-4fae-a4a2-010562c0e3d7",
   "metadata": {
    "tags": []
   },
   "outputs": [],
   "source": [
    "mt = hl.read_matrix_table('/localfs/4595503/all_3.mt')"
   ]
  },
  {
   "cell_type": "code",
   "execution_count": 16,
   "id": "454ef695-e4d5-44c9-a42a-fe8011049d44",
   "metadata": {
    "tags": []
   },
   "outputs": [
    {
     "data": {
      "text/plain": [
       "{'.': 40,\n",
       " 'A': 7,\n",
       " 'B': 8,\n",
       " 'C': 9,\n",
       " 'D': 7,\n",
       " 'E': 7,\n",
       " 'F': 11,\n",
       " 'G': 4,\n",
       " 'H': 6,\n",
       " 'I': 6,\n",
       " 'J': 5,\n",
       " 'K': 3,\n",
       " 'L': 3,\n",
       " 'M': 3,\n",
       " 'N': 3,\n",
       " 'O': 3,\n",
       " 'P': 4,\n",
       " 'R': 6,\n",
       " 'S': 6,\n",
       " 'T': 9,\n",
       " 'U': 5,\n",
       " 'W': 15,\n",
       " 'X': 5,\n",
       " 'Y': 8,\n",
       " 'Z': 2,\n",
       " None: 102}"
      ]
     },
     "execution_count": 16,
     "metadata": {},
     "output_type": "execute_result"
    }
   ],
   "source": [
    "mt.aggregate_cols(hl.agg.counter(mt.phenotypes.family))"
   ]
  },
  {
   "cell_type": "code",
   "execution_count": 17,
   "id": "b9eb7794-7e37-4618-b079-e1e1d0696d7d",
   "metadata": {
    "tags": []
   },
   "outputs": [],
   "source": [
    "samples_to_exclude = ['S_7288', 'S_7289', 'S_7290', 'WGS_6827', 'WGS_6835'] #, 'WGS_5', 'WGS_8'] these latter samples may not be necessary"
   ]
  },
  {
   "cell_type": "code",
   "execution_count": 18,
   "id": "ccaedccc-1b8c-4205-9926-be407a1e293c",
   "metadata": {
    "tags": []
   },
   "outputs": [],
   "source": [
    "mt = mt.filter_cols(\n",
    "    hl.literal(samples_to_exclude).contains(mt.s),\n",
    "    keep = False\n",
    ")"
   ]
  },
  {
   "cell_type": "code",
   "execution_count": 19,
   "id": "4cf102ce-13bd-4391-93e2-8fa9be3da4d9",
   "metadata": {
    "tags": []
   },
   "outputs": [
    {
     "data": {
      "text/plain": [
       "{'.': 39,\n",
       " 'A': 7,\n",
       " 'B': 7,\n",
       " 'C': 7,\n",
       " 'D': 7,\n",
       " 'E': 7,\n",
       " 'F': 11,\n",
       " 'G': 4,\n",
       " 'H': 6,\n",
       " 'I': 6,\n",
       " 'J': 5,\n",
       " 'K': 3,\n",
       " 'L': 3,\n",
       " 'M': 3,\n",
       " 'N': 3,\n",
       " 'O': 3,\n",
       " 'P': 4,\n",
       " 'R': 5,\n",
       " 'S': 6,\n",
       " 'T': 9,\n",
       " 'U': 5,\n",
       " 'W': 15,\n",
       " 'X': 5,\n",
       " 'Y': 8,\n",
       " 'Z': 2,\n",
       " None: 102}"
      ]
     },
     "execution_count": 19,
     "metadata": {},
     "output_type": "execute_result"
    }
   ],
   "source": [
    "mt.aggregate_cols(hl.agg.counter(mt.phenotypes.family))"
   ]
  },
  {
   "cell_type": "code",
   "execution_count": 20,
   "id": "87d6bb61-a2ff-4a2e-b70e-9d484298ec15",
   "metadata": {
    "tags": []
   },
   "outputs": [],
   "source": [
    "samples_to_exclude = ['S_7288', 'S_7289', 'S_7290', 'WGS_6827', 'WGS_6835', 'WGS_5', 'WGS_8']"
   ]
  },
  {
   "cell_type": "code",
   "execution_count": 21,
   "id": "2affb184-577e-4580-9930-5efd3e9ccb68",
   "metadata": {
    "tags": []
   },
   "outputs": [],
   "source": [
    "mt = mt.filter_cols(\n",
    "    hl.literal(samples_to_exclude).contains(mt.s),\n",
    "    keep = False\n",
    ")"
   ]
  },
  {
   "cell_type": "code",
   "execution_count": 22,
   "id": "93c4b458-e5e5-41aa-8434-b70051f1c47b",
   "metadata": {
    "tags": []
   },
   "outputs": [
    {
     "data": {
      "text/plain": [
       "{'.': 37,\n",
       " 'A': 7,\n",
       " 'B': 7,\n",
       " 'C': 7,\n",
       " 'D': 7,\n",
       " 'E': 7,\n",
       " 'F': 11,\n",
       " 'G': 4,\n",
       " 'H': 6,\n",
       " 'I': 6,\n",
       " 'J': 5,\n",
       " 'K': 3,\n",
       " 'L': 3,\n",
       " 'M': 3,\n",
       " 'N': 3,\n",
       " 'O': 3,\n",
       " 'P': 4,\n",
       " 'R': 5,\n",
       " 'S': 6,\n",
       " 'T': 9,\n",
       " 'U': 5,\n",
       " 'W': 15,\n",
       " 'X': 5,\n",
       " 'Y': 8,\n",
       " 'Z': 2,\n",
       " None: 102}"
      ]
     },
     "execution_count": 22,
     "metadata": {},
     "output_type": "execute_result"
    }
   ],
   "source": [
    "mt.aggregate_cols(hl.agg.counter(mt.phenotypes.family))"
   ]
  },
  {
   "cell_type": "markdown",
   "id": "f26ceb3b-074b-44f0-94bf-0dd99e817a4b",
   "metadata": {},
   "source": [
    "### count GTS subgroups"
   ]
  },
  {
   "cell_type": "code",
   "execution_count": 19,
   "id": "7332598c-f86b-4018-a3c8-adc2d788002c",
   "metadata": {
    "tags": []
   },
   "outputs": [
    {
     "data": {
      "text/plain": [
       "(6538550, 282)"
      ]
     },
     "execution_count": 19,
     "metadata": {},
     "output_type": "execute_result"
    }
   ],
   "source": [
    "mt.count()"
   ]
  },
  {
   "cell_type": "code",
   "execution_count": 22,
   "id": "8a4b8b10-588b-45c7-b1d0-d3fcb0a6d43a",
   "metadata": {
    "tags": []
   },
   "outputs": [],
   "source": [
    "gts = mt.filter_cols(mt.group == 'GTS')"
   ]
  },
  {
   "cell_type": "code",
   "execution_count": 45,
   "id": "dc975edf-2059-4f18-8188-dc11af2ccd53",
   "metadata": {
    "tags": []
   },
   "outputs": [
    {
     "data": {
      "text/plain": [
       "{'.': 123,\n",
       " 'ADHD': 3,\n",
       " 'ADHDANX': 2,\n",
       " 'ADHDMDDANX': 4,\n",
       " 'ADHDOCD': 1,\n",
       " 'ADHDOCDANX': 3,\n",
       " 'ADHDOCDMDD': 1,\n",
       " 'ADHDOCDMDDANX': 4,\n",
       " 'ANX': 8,\n",
       " 'ASD': 8,\n",
       " 'ASDADHD': 1,\n",
       " 'ASDADHDANX': 1,\n",
       " 'ASDMDDANX': 1,\n",
       " 'MDD': 2,\n",
       " 'OCD': 6,\n",
       " 'OCDMDD': 4,\n",
       " 'OCDMDDANX': 7,\n",
       " 'SCHIMDDANX': 1}"
      ]
     },
     "execution_count": 45,
     "metadata": {},
     "output_type": "execute_result"
    }
   ],
   "source": [
    "gts.aggregate_cols(\n",
    "    hl.agg.counter(\n",
    "        gts.phenotypes.add_pheno\n",
    "    )\n",
    ")\n",
    "        "
   ]
  },
  {
   "cell_type": "code",
   "execution_count": 23,
   "id": "aa74d9a2-d77c-4756-aa11-d292ba2f740d",
   "metadata": {
    "tags": []
   },
   "outputs": [],
   "source": [
    "gts1 = gts.filter_cols(gts.phenotypes.family == '.')"
   ]
  },
  {
   "cell_type": "code",
   "execution_count": 29,
   "id": "bcb57cf8-1c84-4c71-9ed0-ac88cd0eeaeb",
   "metadata": {
    "tags": []
   },
   "outputs": [
    {
     "data": {
      "text/plain": [
       "(6538550, 39)"
      ]
     },
     "execution_count": 29,
     "metadata": {},
     "output_type": "execute_result"
    }
   ],
   "source": [
    "gts1.count()"
   ]
  },
  {
   "cell_type": "code",
   "execution_count": 35,
   "id": "745a199d-8edc-44d6-bebc-7e08dec6f0d9",
   "metadata": {
    "collapsed": true,
    "jupyter": {
     "outputs_hidden": true
    },
    "tags": []
   },
   "outputs": [
    {
     "data": {
      "text/plain": [
       "{'.': 7,\n",
       " 'ADHD': 2,\n",
       " 'ADHDANX': 1,\n",
       " 'ADHDMDDANX': 4,\n",
       " 'ADHDOCD': 1,\n",
       " 'ADHDOCDANX': 3,\n",
       " 'ADHDOCDMDD': 1,\n",
       " 'ADHDOCDMDDANX': 3,\n",
       " 'ANX': 3,\n",
       " 'ASD': 1,\n",
       " 'ASDADHD': 1,\n",
       " 'ASDADHDANX': 1,\n",
       " 'ASDMDDANX': 1,\n",
       " 'MDD': 1,\n",
       " 'OCD': 2,\n",
       " 'OCDMDD': 2,\n",
       " 'OCDMDDANX': 4,\n",
       " 'SCHIMDDANX': 1}"
      ]
     },
     "execution_count": 35,
     "metadata": {},
     "output_type": "execute_result"
    }
   ],
   "source": [
    "gts1.aggregate_cols(\n",
    "    hl.agg.counter(\n",
    "        gts1.phenotypes.add_pheno\n",
    "    )\n",
    ")"
   ]
  },
  {
   "cell_type": "code",
   "execution_count": 34,
   "id": "1b7e2ed0-8666-452c-839c-27b32569dd89",
   "metadata": {
    "tags": []
   },
   "outputs": [
    {
     "data": {
      "text/plain": [
       "{'F': 6, 'M': 33}"
      ]
     },
     "execution_count": 34,
     "metadata": {},
     "output_type": "execute_result"
    }
   ],
   "source": [
    "gts1.aggregate_cols(\n",
    "    hl.agg.counter(\n",
    "        gts1.phenotypes.sex\n",
    "    )\n",
    ")"
   ]
  },
  {
   "cell_type": "code",
   "execution_count": 28,
   "id": "fa6e8570-8bda-4046-861a-f202f08c387d",
   "metadata": {
    "tags": []
   },
   "outputs": [],
   "source": [
    "gts2 = gts.filter_cols(gts.phenotypes.family == '.', keep = False)"
   ]
  },
  {
   "cell_type": "code",
   "execution_count": 42,
   "id": "3d5837bb-7d89-4553-b048-0a111311dcf0",
   "metadata": {
    "tags": []
   },
   "outputs": [
    {
     "data": {
      "text/plain": [
       "(6538550, 141)"
      ]
     },
     "execution_count": 42,
     "metadata": {},
     "output_type": "execute_result"
    }
   ],
   "source": [
    "gts2.count()"
   ]
  },
  {
   "cell_type": "code",
   "execution_count": 44,
   "id": "8f486086-df5c-427e-9c29-a6b799614eec",
   "metadata": {
    "tags": []
   },
   "outputs": [
    {
     "data": {
      "text/plain": [
       "{'A': 7,\n",
       " 'B': 7,\n",
       " 'C': 7,\n",
       " 'D': 7,\n",
       " 'E': 7,\n",
       " 'F': 11,\n",
       " 'G': 4,\n",
       " 'H': 6,\n",
       " 'I': 6,\n",
       " 'J': 5,\n",
       " 'K': 3,\n",
       " 'L': 3,\n",
       " 'M': 3,\n",
       " 'N': 3,\n",
       " 'O': 3,\n",
       " 'P': 4,\n",
       " 'R': 5,\n",
       " 'S': 6,\n",
       " 'T': 9,\n",
       " 'U': 5,\n",
       " 'W': 15,\n",
       " 'X': 5,\n",
       " 'Y': 8,\n",
       " 'Z': 2}"
      ]
     },
     "execution_count": 44,
     "metadata": {},
     "output_type": "execute_result"
    }
   ],
   "source": [
    "gts2.aggregate_cols(\n",
    "    hl.agg.counter(\n",
    "        gts2.phenotypes.family\n",
    "    )\n",
    ")"
   ]
  },
  {
   "cell_type": "code",
   "execution_count": 36,
   "id": "6bf44703-ade5-4817-a06e-4f125678024b",
   "metadata": {
    "tags": []
   },
   "outputs": [
    {
     "data": {
      "text/plain": [
       "{'.': 138, 'YES': 3}"
      ]
     },
     "execution_count": 36,
     "metadata": {},
     "output_type": "execute_result"
    }
   ],
   "source": [
    "gts2.aggregate_cols(\n",
    "    hl.agg.counter(\n",
    "        gts2.phenotypes.heavy_tics_familial\n",
    "    )\n",
    ")"
   ]
  },
  {
   "cell_type": "code",
   "execution_count": 39,
   "id": "d4586591-4bc7-4791-917a-611a3fae8f29",
   "metadata": {
    "tags": []
   },
   "outputs": [
    {
     "data": {
      "text/plain": [
       "{'.': 55, 'GTS': 46, 'tics': 40}"
      ]
     },
     "execution_count": 39,
     "metadata": {},
     "output_type": "execute_result"
    }
   ],
   "source": [
    "gts2.aggregate_cols(\n",
    "    hl.agg.counter(\n",
    "        gts2.phenotypes.phenotype\n",
    "    )\n",
    ")"
   ]
  },
  {
   "cell_type": "code",
   "execution_count": 40,
   "id": "479eaacc-5274-4d78-b318-32f649fd422d",
   "metadata": {
    "tags": []
   },
   "outputs": [
    {
     "data": {
      "text/plain": [
       "{'.': {'.': 53, 'ASD': 1, 'MDD': 1},\n",
       " 'GTS': {'.': 28,\n",
       "  'ADHD': 1,\n",
       "  'ADHDANX': 1,\n",
       "  'ADHDOCDMDDANX': 1,\n",
       "  'ANX': 5,\n",
       "  'ASD': 5,\n",
       "  'OCDMDD': 2,\n",
       "  'OCDMDDANX': 3},\n",
       " 'tics': {'.': 35, 'ASD': 1, 'OCD': 4}}"
      ]
     },
     "execution_count": 40,
     "metadata": {},
     "output_type": "execute_result"
    }
   ],
   "source": [
    "gts2.aggregate_cols(\n",
    "    hl.agg.group_by(\n",
    "        gts2.phenotypes.phenotype,\n",
    "        hl.agg.counter(\n",
    "            gts2.phenotypes.add_phen\n",
    "        )\n",
    "    )\n",
    ")"
   ]
  },
  {
   "cell_type": "code",
   "execution_count": null,
   "id": "67d4b6dd-c43a-4698-b709-e229a4dc2576",
   "metadata": {
    "tags": []
   },
   "outputs": [],
   "source": [
    "gts1.aggregate_cols"
   ]
  },
  {
   "cell_type": "code",
   "execution_count": 16,
   "id": "1627dca6-1327-4da6-b331-d47ea228529b",
   "metadata": {
    "tags": []
   },
   "outputs": [
    {
     "data": {
      "text/plain": [
       "{'GTS': 180, 'local_controls': 102}"
      ]
     },
     "execution_count": 16,
     "metadata": {},
     "output_type": "execute_result"
    }
   ],
   "source": [
    "mt.aggregate_cols(hl.agg.counter(mt.group))"
   ]
  },
  {
   "cell_type": "code",
   "execution_count": 18,
   "id": "0c90619f-c10c-4baf-a070-c0879f59dde6",
   "metadata": {
    "tags": []
   },
   "outputs": [],
   "source": [
    "samples = mt.cols()\n",
    "samples = samples.select()"
   ]
  },
  {
   "cell_type": "code",
   "execution_count": 41,
   "id": "1997acf4-fbe4-4316-a244-091ac3c6a23c",
   "metadata": {
    "tags": []
   },
   "outputs": [
    {
     "ename": "NameError",
     "evalue": "name 'samples' is not defined",
     "output_type": "error",
     "traceback": [
      "\u001b[0;31m---------------------------------------------------------------------------\u001b[0m",
      "\u001b[0;31mNameError\u001b[0m                                 Traceback (most recent call last)",
      "Cell \u001b[0;32mIn[41], line 1\u001b[0m\n\u001b[0;32m----> 1\u001b[0m \u001b[43msamples\u001b[49m\u001b[38;5;241m.\u001b[39mdescribe()\n",
      "\u001b[0;31mNameError\u001b[0m: name 'samples' is not defined"
     ]
    }
   ],
   "source": [
    "samples.describe()"
   ]
  },
  {
   "cell_type": "code",
   "execution_count": 24,
   "id": "ceeb87fd-cc27-4442-aec3-126d5ec6b9ff",
   "metadata": {
    "tags": []
   },
   "outputs": [
    {
     "name": "stderr",
     "output_type": "stream",
     "text": [
      "2023-07-14 12:55:09.286 Hail: INFO: Coerced sorted dataset\n",
      "2023-07-14 12:55:09.611 Hail: INFO: merging 17 files totalling 1.8K...\n",
      "2023-07-14 12:55:09.624 Hail: INFO: while writing:\n",
      "    samples_for_prs.tsv\n",
      "  merge time: 12.570ms\n"
     ]
    }
   ],
   "source": [
    "samples.export('samples_for_prs.tsv')"
   ]
  },
  {
   "cell_type": "markdown",
   "id": "a5d5988c-c476-4109-872b-e419a4eb1f95",
   "metadata": {},
   "source": [
    "### len of selected gene lists"
   ]
  },
  {
   "cell_type": "code",
   "execution_count": 14,
   "id": "84b4ec00-9ddd-4a52-9796-eb0252d4a95a",
   "metadata": {
    "tags": []
   },
   "outputs": [],
   "source": [
    "gene_list = ['DCC', 'RBFOX', 'SLC30A9', 'DCAF4L1', 'SORCS3', 'KCNQ5', 'KCNQ-IT1', 'APOPT1', 'C14orf2', 'NAA11', 'NEGR1',\n",
    "        'CHADL', 'SOX5', 'PANK2', 'COL27A1', 'PDGFB', 'CELSR3', 'OPA1', 'FBN2', 'WWC1', 'NIPBL', \n",
    "             'FN1', 'FBN2', 'SLITRK1', 'SLITRK2', 'SLITRK3', 'SLITRK4', 'SLITRK5', 'SLITRK6', \n",
    "             'HDC', 'OPRK1', 'PCDH10', 'NTSR2', 'CHD8', 'SCUBE1', 'PNKD', 'CNTNAP2', 'MOG', \n",
    "             'DRD2', 'DRD3', 'DRD4', 'DRD5', 'DAT1', 'DBH', 'HTR2A', 'TPH2', 'EAAT1', 'SAPAP3',\n",
    "            'CTNNA3', 'NLGN4', 'FSCB', 'IMMP2L', 'NRXN1', 'AADAC', 'DBH', 'MAOA', 'HTR1A', 'HTR2C', 'SLC6A4',\n",
    "             'TPH2', 'COL27A1', '5-HTTLPR', 'EAAT1', 'COL8A1', 'KCNE1', 'KCNE2',\n",
    "         'RICTOR', 'WWC1', 'CELSR3, NIPBL', 'FN1', 'PNKD', 'CDH26', 'CADM2', 'OPCML', 'CDH9',\n",
    "         'NCAM2', 'CD47', 'CDH5', 'CADM4', 'C1QBP', 'CTTN', 'LSAMP',\n",
    "         'PKP4', 'PCDH1', 'CNTNAP2', 'MBP', 'GABBR2', 'GABBR2', 'GRIK4', 'NCR1', 'FLT3', 'IL12A', 'HDAC9',\n",
    "         'CD180', 'CDH26', 'NCAM2', 'NTM', 'ROBO2', 'NR2F1', 'ASH1L', 'FLT3']"
   ]
  },
  {
   "cell_type": "code",
   "execution_count": 15,
   "id": "ff361a6b-28fc-452f-9904-14f957f18260",
   "metadata": {
    "tags": []
   },
   "outputs": [
    {
     "data": {
      "text/plain": [
       "101"
      ]
     },
     "execution_count": 15,
     "metadata": {},
     "output_type": "execute_result"
    }
   ],
   "source": [
    "len(gene_list)"
   ]
  },
  {
   "cell_type": "markdown",
   "id": "a5718d99-4494-4138-bf08-91e84cdfcc8c",
   "metadata": {},
   "source": [
    "### how many variants in the model?"
   ]
  },
  {
   "cell_type": "code",
   "execution_count": 18,
   "id": "58e99eb2-2845-4a0f-8c6a-8662bc233508",
   "metadata": {
    "collapsed": true,
    "jupyter": {
     "outputs_hidden": true
    },
    "tags": []
   },
   "outputs": [
    {
     "name": "stderr",
     "output_type": "stream",
     "text": [
      "2023-07-10 18:08:30.474 Hail: INFO: Reading table without type imputation\n",
      "  Loading field 'f0' as type str (not specified)\n",
      "  Loading field 'f1' as type str (not specified)\n",
      "  Loading field 'f2' as type str (not specified)\n",
      "  Loading field 'f3' as type str (not specified)\n",
      "  Loading field 'f4' as type str (not specified)\n",
      "  Loading field 'f5' as type str (not specified)\n",
      "  Loading field 'f6' as type str (not specified)\n",
      "  Loading field 'f7' as type str (not specified)\n",
      "  Loading field 'f8' as type str (not specified)\n",
      "2023-07-10 18:08:30.981 Hail: INFO: Reading table without type imputation\n",
      "  Loading field 'Gene stable ID' as type str (not specified)\n",
      "  Loading field 'UniProtKB Gene Name symbol' as type str (not specified)\n",
      "2023-07-10 18:08:31.864 Hail: INFO: Reading table to impute column types\n",
      "2023-07-10 18:08:32.365 Hail: INFO: Finished type imputation\n",
      "  Loading field 'ID' as type str (imputed)\n",
      "  Loading field 'family' as type str (imputed)\n",
      "  Loading field 'sex' as type str (imputed)\n",
      "  Loading field 'kinship' as type str (imputed)\n",
      "  Loading field 'disease' as type str (imputed)\n",
      "  Loading field 'phenotype' as type str (imputed)\n",
      "  Loading field 'add_pheno' as type str (imputed)\n",
      "  Loading field 'heavy_tics' as type str (imputed)\n",
      "  Loading field 'heavy_tics_familial' as type str (imputed)\n",
      "  Loading field 'GTS_ASD_group' as type str (imputed)\n",
      "  Loading field 'nonCTD' as type str (imputed)\n",
      "2023-07-10 18:08:34.734 Hail: INFO: Ordering unsorted dataset with network shuffle\n",
      "2023-07-10 18:08:35.021 Hail: INFO: Ordering unsorted dataset with network shuffle\n",
      "2023-07-10 18:08:36.870 Hail: INFO: Ordering unsorted dataset with network shuffle\n",
      "2023-07-10 18:10:26.183 Hail: INFO: wrote matrix table with 6538550 rows and 204 columns in 4388 partitions to /localfs/3949170/gts_sport_for_vars.mt\n",
      "    Total size: 36.71 GiB\n",
      "    * Rows/entries: 36.71 GiB\n",
      "    * Columns: 25.05 KiB\n",
      "    * Globals: 11.00 B\n",
      "    * Smallest partition: 0 rows (20.00 B)\n",
      "    * Largest partition:  21620 rows (97.04 MiB)\n"
     ]
    }
   ],
   "source": [
    "mt = read_in_pheno_anno_sport(\n",
    "    '/net/pr2/projects/plgrid/plggneuromol/imdik-zekanowski-gts/data/mts/oligogenic-model/gts_and_s.mt',\n",
    "    'gts_sport_for_vars'\n",
    ")"
   ]
  },
  {
   "cell_type": "code",
   "execution_count": 7,
   "id": "8b7c0645-1517-4916-82af-2454df345007",
   "metadata": {
    "tags": []
   },
   "outputs": [],
   "source": [
    "mt = hl.read_matrix_table(localfs_path+'gts_sport_for_vars.mt')"
   ]
  },
  {
   "cell_type": "code",
   "execution_count": 8,
   "id": "954a5de2-05bb-4c7e-89ed-4a38f9200956",
   "metadata": {
    "tags": []
   },
   "outputs": [],
   "source": [
    "genes = ['CHADL', 'DRD2', 'MAOA', 'PCDH10', 'HTR2A', 'SLITRK5', 'SORCS3', 'KCNQ5', 'CDH9', 'CHD8']"
   ]
  },
  {
   "cell_type": "code",
   "execution_count": 9,
   "id": "97b0e007-fc6d-4d26-8a71-cf3a82c7254b",
   "metadata": {
    "tags": []
   },
   "outputs": [],
   "source": [
    "mt = mt.filter_rows(\n",
    "    hl.literal(genes).contains(mt.nearest_genes_20kb)\n",
    ")"
   ]
  },
  {
   "cell_type": "code",
   "execution_count": 13,
   "id": "1dc94ce0-db45-4b8a-81cf-c76dab338fb5",
   "metadata": {},
   "outputs": [],
   "source": [
    "mt = mt.filter_rows(mt.cadd.score_phred > 0)"
   ]
  },
  {
   "cell_type": "code",
   "execution_count": 14,
   "id": "ec60d090-f968-4528-9eb2-f89a647b5776",
   "metadata": {
    "tags": []
   },
   "outputs": [
    {
     "name": "stderr",
     "output_type": "stream",
     "text": [
      "[Stage 0:=============================================>      (3872 + 31) / 4388]\r"
     ]
    },
    {
     "data": {
      "text/plain": [
       "(7654, 204)"
      ]
     },
     "execution_count": 14,
     "metadata": {},
     "output_type": "execute_result"
    }
   ],
   "source": [
    "mt.count()"
   ]
  },
  {
   "cell_type": "code",
   "execution_count": 16,
   "id": "cce0ffb3-80e0-431e-aa12-3a232b381f69",
   "metadata": {},
   "outputs": [
    {
     "name": "stderr",
     "output_type": "stream",
     "text": [
      "[Stage 1:===============================================>    (4016 + 31) / 4388]\r"
     ]
    },
    {
     "data": {
      "text/plain": [
       "Struct(mean=0.16338312177098835, stdev=0.26313946535076954, min=0.0, max=1.0, n=5895, sum=963.1435028399763)"
      ]
     },
     "execution_count": 16,
     "metadata": {},
     "output_type": "execute_result"
    }
   ],
   "source": [
    "mt.aggregate_rows(hl.agg.stats(mt.gnomad_v_3_1.freq.AF[2]))"
   ]
  },
  {
   "cell_type": "code",
   "execution_count": 19,
   "id": "172146d1-7765-4701-8ae6-177cd1460d51",
   "metadata": {
    "tags": []
   },
   "outputs": [
    {
     "name": "stderr",
     "output_type": "stream",
     "text": [
      "[Stage 2:=========================================>          (3532 + 30) / 4388]\r"
     ]
    },
    {
     "data": {
      "text/plain": [
       "0.01998941736727615"
      ]
     },
     "execution_count": 19,
     "metadata": {},
     "output_type": "execute_result"
    }
   ],
   "source": [
    "mt.aggregate_rows(hl.agg.approx_median(mt.gnomad_v_3_1.freq.AF[2]))"
   ]
  }
 ],
 "metadata": {
  "kernelspec": {
   "display_name": "Python 3 (ipykernel)",
   "language": "python",
   "name": "python3"
  },
  "language_info": {
   "codemirror_mode": {
    "name": "ipython",
    "version": 3
   },
   "file_extension": ".py",
   "mimetype": "text/x-python",
   "name": "python",
   "nbconvert_exporter": "python",
   "pygments_lexer": "ipython3",
   "version": "3.10.4"
  }
 },
 "nbformat": 4,
 "nbformat_minor": 5
}
