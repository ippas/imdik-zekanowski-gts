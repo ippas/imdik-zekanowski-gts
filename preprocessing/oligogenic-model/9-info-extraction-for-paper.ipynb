{
 "cells": [
  {
   "cell_type": "code",
   "execution_count": 1,
   "id": "51c333df-30e6-4d08-b4f7-75b414f89667",
   "metadata": {
    "tags": []
   },
   "outputs": [],
   "source": [
    "import os\n",
    "localfs_path = os.environ.get('SCRATCH_LOCAL') + '/'"
   ]
  },
  {
   "cell_type": "code",
   "execution_count": 2,
   "id": "a3082410-eeb9-49fa-a151-89c2af5272fb",
   "metadata": {
    "tags": []
   },
   "outputs": [
    {
     "name": "stderr",
     "output_type": "stream",
     "text": [
      "Picked up _JAVA_OPTIONS: -Djava.io.tmpdir=/localfs/4692906/\n",
      "Picked up _JAVA_OPTIONS: -Djava.io.tmpdir=/localfs/4692906/\n"
     ]
    },
    {
     "name": "stdout",
     "output_type": "stream",
     "text": [
      "23/09/11 15:07:12 WARN NativeCodeLoader: Unable to load native-hadoop library for your platform... using builtin-java classes where applicable\n"
     ]
    },
    {
     "name": "stderr",
     "output_type": "stream",
     "text": [
      "Setting default log level to \"WARN\".\n",
      "To adjust logging level use sc.setLogLevel(newLevel). For SparkR, use setLogLevel(newLevel).\n",
      "Running on Apache Spark version 3.3.2\n",
      "SparkUI available at http://ac0548:4040\n",
      "Welcome to\n",
      "     __  __     <>__\n",
      "    / /_/ /__  __/ /\n",
      "   / __  / _ `/ / /\n",
      "  /_/ /_/\\_,_/_/_/   version 0.2.113-cf32652c5077\n",
      "LOGGING: writing to /net/pr2/projects/plgrid/plggneuromol/imdik-zekanowski-gts/preprocessing/oligogenic-model/hail-20230911-1506-0.2.113-cf32652c5077.log\n"
     ]
    }
   ],
   "source": [
    "os.environ['_JAVA_OPTIONS'] = f'-Djava.io.tmpdir={localfs_path}'\n",
    "\n",
    "import hail as hl\n",
    "\n",
    "hl.init(\n",
    "    tmp_dir=(localfs_path+'tmp_hail_3'),\n",
    "    default_reference='GRCh38'\n",
    ") "
   ]
  },
  {
   "cell_type": "code",
   "execution_count": 3,
   "id": "cf819f21-298b-42b7-8f8f-4cf82a00dc42",
   "metadata": {
    "tags": []
   },
   "outputs": [
    {
     "data": {
      "text/html": [
       "\n",
       "    <div class=\"bk-root\">\n",
       "        <a href=\"https://bokeh.org\" target=\"_blank\" class=\"bk-logo bk-logo-small bk-logo-notebook\"></a>\n",
       "        <span id=\"1001\">Loading BokehJS ...</span>\n",
       "    </div>"
      ]
     },
     "metadata": {},
     "output_type": "display_data"
    },
    {
     "data": {
      "application/javascript": [
       "\n",
       "(function(root) {\n",
       "  function now() {\n",
       "    return new Date();\n",
       "  }\n",
       "\n",
       "  var force = true;\n",
       "\n",
       "  if (typeof root._bokeh_onload_callbacks === \"undefined\" || force === true) {\n",
       "    root._bokeh_onload_callbacks = [];\n",
       "    root._bokeh_is_loading = undefined;\n",
       "  }\n",
       "\n",
       "  var JS_MIME_TYPE = 'application/javascript';\n",
       "  var HTML_MIME_TYPE = 'text/html';\n",
       "  var EXEC_MIME_TYPE = 'application/vnd.bokehjs_exec.v0+json';\n",
       "  var CLASS_NAME = 'output_bokeh rendered_html';\n",
       "\n",
       "  /**\n",
       "   * Render data to the DOM node\n",
       "   */\n",
       "  function render(props, node) {\n",
       "    var script = document.createElement(\"script\");\n",
       "    node.appendChild(script);\n",
       "  }\n",
       "\n",
       "  /**\n",
       "   * Handle when an output is cleared or removed\n",
       "   */\n",
       "  function handleClearOutput(event, handle) {\n",
       "    var cell = handle.cell;\n",
       "\n",
       "    var id = cell.output_area._bokeh_element_id;\n",
       "    var server_id = cell.output_area._bokeh_server_id;\n",
       "    // Clean up Bokeh references\n",
       "    if (id != null && id in Bokeh.index) {\n",
       "      Bokeh.index[id].model.document.clear();\n",
       "      delete Bokeh.index[id];\n",
       "    }\n",
       "\n",
       "    if (server_id !== undefined) {\n",
       "      // Clean up Bokeh references\n",
       "      var cmd = \"from bokeh.io.state import curstate; print(curstate().uuid_to_server['\" + server_id + \"'].get_sessions()[0].document.roots[0]._id)\";\n",
       "      cell.notebook.kernel.execute(cmd, {\n",
       "        iopub: {\n",
       "          output: function(msg) {\n",
       "            var id = msg.content.text.trim();\n",
       "            if (id in Bokeh.index) {\n",
       "              Bokeh.index[id].model.document.clear();\n",
       "              delete Bokeh.index[id];\n",
       "            }\n",
       "          }\n",
       "        }\n",
       "      });\n",
       "      // Destroy server and session\n",
       "      var cmd = \"import bokeh.io.notebook as ion; ion.destroy_server('\" + server_id + \"')\";\n",
       "      cell.notebook.kernel.execute(cmd);\n",
       "    }\n",
       "  }\n",
       "\n",
       "  /**\n",
       "   * Handle when a new output is added\n",
       "   */\n",
       "  function handleAddOutput(event, handle) {\n",
       "    var output_area = handle.output_area;\n",
       "    var output = handle.output;\n",
       "\n",
       "    // limit handleAddOutput to display_data with EXEC_MIME_TYPE content only\n",
       "    if ((output.output_type != \"display_data\") || (!output.data.hasOwnProperty(EXEC_MIME_TYPE))) {\n",
       "      return\n",
       "    }\n",
       "\n",
       "    var toinsert = output_area.element.find(\".\" + CLASS_NAME.split(' ')[0]);\n",
       "\n",
       "    if (output.metadata[EXEC_MIME_TYPE][\"id\"] !== undefined) {\n",
       "      toinsert[toinsert.length - 1].firstChild.textContent = output.data[JS_MIME_TYPE];\n",
       "      // store reference to embed id on output_area\n",
       "      output_area._bokeh_element_id = output.metadata[EXEC_MIME_TYPE][\"id\"];\n",
       "    }\n",
       "    if (output.metadata[EXEC_MIME_TYPE][\"server_id\"] !== undefined) {\n",
       "      var bk_div = document.createElement(\"div\");\n",
       "      bk_div.innerHTML = output.data[HTML_MIME_TYPE];\n",
       "      var script_attrs = bk_div.children[0].attributes;\n",
       "      for (var i = 0; i < script_attrs.length; i++) {\n",
       "        toinsert[toinsert.length - 1].firstChild.setAttribute(script_attrs[i].name, script_attrs[i].value);\n",
       "      }\n",
       "      // store reference to server id on output_area\n",
       "      output_area._bokeh_server_id = output.metadata[EXEC_MIME_TYPE][\"server_id\"];\n",
       "    }\n",
       "  }\n",
       "\n",
       "  function register_renderer(events, OutputArea) {\n",
       "\n",
       "    function append_mime(data, metadata, element) {\n",
       "      // create a DOM node to render to\n",
       "      var toinsert = this.create_output_subarea(\n",
       "        metadata,\n",
       "        CLASS_NAME,\n",
       "        EXEC_MIME_TYPE\n",
       "      );\n",
       "      this.keyboard_manager.register_events(toinsert);\n",
       "      // Render to node\n",
       "      var props = {data: data, metadata: metadata[EXEC_MIME_TYPE]};\n",
       "      render(props, toinsert[toinsert.length - 1]);\n",
       "      element.append(toinsert);\n",
       "      return toinsert\n",
       "    }\n",
       "\n",
       "    /* Handle when an output is cleared or removed */\n",
       "    events.on('clear_output.CodeCell', handleClearOutput);\n",
       "    events.on('delete.Cell', handleClearOutput);\n",
       "\n",
       "    /* Handle when a new output is added */\n",
       "    events.on('output_added.OutputArea', handleAddOutput);\n",
       "\n",
       "    /**\n",
       "     * Register the mime type and append_mime function with output_area\n",
       "     */\n",
       "    OutputArea.prototype.register_mime_type(EXEC_MIME_TYPE, append_mime, {\n",
       "      /* Is output safe? */\n",
       "      safe: true,\n",
       "      /* Index of renderer in `output_area.display_order` */\n",
       "      index: 0\n",
       "    });\n",
       "  }\n",
       "\n",
       "  // register the mime type if in Jupyter Notebook environment and previously unregistered\n",
       "  if (root.Jupyter !== undefined) {\n",
       "    var events = require('base/js/events');\n",
       "    var OutputArea = require('notebook/js/outputarea').OutputArea;\n",
       "\n",
       "    if (OutputArea.prototype.mime_types().indexOf(EXEC_MIME_TYPE) == -1) {\n",
       "      register_renderer(events, OutputArea);\n",
       "    }\n",
       "  }\n",
       "\n",
       "  \n",
       "  if (typeof (root._bokeh_timeout) === \"undefined\" || force === true) {\n",
       "    root._bokeh_timeout = Date.now() + 5000;\n",
       "    root._bokeh_failed_load = false;\n",
       "  }\n",
       "\n",
       "  var NB_LOAD_WARNING = {'data': {'text/html':\n",
       "     \"<div style='background-color: #fdd'>\\n\"+\n",
       "     \"<p>\\n\"+\n",
       "     \"BokehJS does not appear to have successfully loaded. If loading BokehJS from CDN, this \\n\"+\n",
       "     \"may be due to a slow or bad network connection. Possible fixes:\\n\"+\n",
       "     \"</p>\\n\"+\n",
       "     \"<ul>\\n\"+\n",
       "     \"<li>re-rerun `output_notebook()` to attempt to load from CDN again, or</li>\\n\"+\n",
       "     \"<li>use INLINE resources instead, as so:</li>\\n\"+\n",
       "     \"</ul>\\n\"+\n",
       "     \"<code>\\n\"+\n",
       "     \"from bokeh.resources import INLINE\\n\"+\n",
       "     \"output_notebook(resources=INLINE)\\n\"+\n",
       "     \"</code>\\n\"+\n",
       "     \"</div>\"}};\n",
       "\n",
       "  function display_loaded() {\n",
       "    var el = document.getElementById(\"1001\");\n",
       "    if (el != null) {\n",
       "      el.textContent = \"BokehJS is loading...\";\n",
       "    }\n",
       "    if (root.Bokeh !== undefined) {\n",
       "      if (el != null) {\n",
       "        el.textContent = \"BokehJS \" + root.Bokeh.version + \" successfully loaded.\";\n",
       "      }\n",
       "    } else if (Date.now() < root._bokeh_timeout) {\n",
       "      setTimeout(display_loaded, 100)\n",
       "    }\n",
       "  }\n",
       "\n",
       "\n",
       "  function run_callbacks() {\n",
       "    try {\n",
       "      root._bokeh_onload_callbacks.forEach(function(callback) {\n",
       "        if (callback != null)\n",
       "          callback();\n",
       "      });\n",
       "    } finally {\n",
       "      delete root._bokeh_onload_callbacks\n",
       "    }\n",
       "    console.debug(\"Bokeh: all callbacks have finished\");\n",
       "  }\n",
       "\n",
       "  function load_libs(css_urls, js_urls, callback) {\n",
       "    if (css_urls == null) css_urls = [];\n",
       "    if (js_urls == null) js_urls = [];\n",
       "\n",
       "    root._bokeh_onload_callbacks.push(callback);\n",
       "    if (root._bokeh_is_loading > 0) {\n",
       "      console.debug(\"Bokeh: BokehJS is being loaded, scheduling callback at\", now());\n",
       "      return null;\n",
       "    }\n",
       "    if (js_urls == null || js_urls.length === 0) {\n",
       "      run_callbacks();\n",
       "      return null;\n",
       "    }\n",
       "    console.debug(\"Bokeh: BokehJS not loaded, scheduling load and callback at\", now());\n",
       "    root._bokeh_is_loading = css_urls.length + js_urls.length;\n",
       "\n",
       "    function on_load() {\n",
       "      root._bokeh_is_loading--;\n",
       "      if (root._bokeh_is_loading === 0) {\n",
       "        console.debug(\"Bokeh: all BokehJS libraries/stylesheets loaded\");\n",
       "        run_callbacks()\n",
       "      }\n",
       "    }\n",
       "\n",
       "    function on_error() {\n",
       "      console.error(\"failed to load \" + url);\n",
       "    }\n",
       "\n",
       "    for (var i = 0; i < css_urls.length; i++) {\n",
       "      var url = css_urls[i];\n",
       "      const element = document.createElement(\"link\");\n",
       "      element.onload = on_load;\n",
       "      element.onerror = on_error;\n",
       "      element.rel = \"stylesheet\";\n",
       "      element.type = \"text/css\";\n",
       "      element.href = url;\n",
       "      console.debug(\"Bokeh: injecting link tag for BokehJS stylesheet: \", url);\n",
       "      document.body.appendChild(element);\n",
       "    }\n",
       "\n",
       "    for (var i = 0; i < js_urls.length; i++) {\n",
       "      var url = js_urls[i];\n",
       "      var element = document.createElement('script');\n",
       "      element.onload = on_load;\n",
       "      element.onerror = on_error;\n",
       "      element.async = false;\n",
       "      element.src = url;\n",
       "      console.debug(\"Bokeh: injecting script tag for BokehJS library: \", url);\n",
       "      document.head.appendChild(element);\n",
       "    }\n",
       "  };var element = document.getElementById(\"1001\");\n",
       "  if (element == null) {\n",
       "    console.error(\"Bokeh: ERROR: autoload.js configured with elementid '1001' but no matching script tag was found. \")\n",
       "    return false;\n",
       "  }\n",
       "\n",
       "  function inject_raw_css(css) {\n",
       "    const element = document.createElement(\"style\");\n",
       "    element.appendChild(document.createTextNode(css));\n",
       "    document.body.appendChild(element);\n",
       "  }\n",
       "\n",
       "  \n",
       "  var js_urls = [\"https://cdn.pydata.org/bokeh/release/bokeh-1.4.0.min.js\", \"https://cdn.pydata.org/bokeh/release/bokeh-widgets-1.4.0.min.js\", \"https://cdn.pydata.org/bokeh/release/bokeh-tables-1.4.0.min.js\", \"https://cdn.pydata.org/bokeh/release/bokeh-gl-1.4.0.min.js\"];\n",
       "  var css_urls = [];\n",
       "  \n",
       "\n",
       "  var inline_js = [\n",
       "    function(Bokeh) {\n",
       "      Bokeh.set_log_level(\"info\");\n",
       "    },\n",
       "    function(Bokeh) {\n",
       "    \n",
       "    \n",
       "    }\n",
       "  ];\n",
       "\n",
       "  function run_inline_js() {\n",
       "    \n",
       "    if (root.Bokeh !== undefined || force === true) {\n",
       "      \n",
       "    for (var i = 0; i < inline_js.length; i++) {\n",
       "      inline_js[i].call(root, root.Bokeh);\n",
       "    }\n",
       "    if (force === true) {\n",
       "        display_loaded();\n",
       "      }} else if (Date.now() < root._bokeh_timeout) {\n",
       "      setTimeout(run_inline_js, 100);\n",
       "    } else if (!root._bokeh_failed_load) {\n",
       "      console.log(\"Bokeh: BokehJS failed to load within specified timeout.\");\n",
       "      root._bokeh_failed_load = true;\n",
       "    } else if (force !== true) {\n",
       "      var cell = $(document.getElementById(\"1001\")).parents('.cell').data().cell;\n",
       "      cell.output_area.append_execute_result(NB_LOAD_WARNING)\n",
       "    }\n",
       "\n",
       "  }\n",
       "\n",
       "  if (root._bokeh_is_loading === 0) {\n",
       "    console.debug(\"Bokeh: BokehJS loaded, going straight to plotting\");\n",
       "    run_inline_js();\n",
       "  } else {\n",
       "    load_libs(css_urls, js_urls, function() {\n",
       "      console.debug(\"Bokeh: BokehJS plotting callback run at\", now());\n",
       "      run_inline_js();\n",
       "    });\n",
       "  }\n",
       "}(window));"
      ],
      "application/vnd.bokehjs_load.v0+json": "\n(function(root) {\n  function now() {\n    return new Date();\n  }\n\n  var force = true;\n\n  if (typeof root._bokeh_onload_callbacks === \"undefined\" || force === true) {\n    root._bokeh_onload_callbacks = [];\n    root._bokeh_is_loading = undefined;\n  }\n\n  \n\n  \n  if (typeof (root._bokeh_timeout) === \"undefined\" || force === true) {\n    root._bokeh_timeout = Date.now() + 5000;\n    root._bokeh_failed_load = false;\n  }\n\n  var NB_LOAD_WARNING = {'data': {'text/html':\n     \"<div style='background-color: #fdd'>\\n\"+\n     \"<p>\\n\"+\n     \"BokehJS does not appear to have successfully loaded. If loading BokehJS from CDN, this \\n\"+\n     \"may be due to a slow or bad network connection. Possible fixes:\\n\"+\n     \"</p>\\n\"+\n     \"<ul>\\n\"+\n     \"<li>re-rerun `output_notebook()` to attempt to load from CDN again, or</li>\\n\"+\n     \"<li>use INLINE resources instead, as so:</li>\\n\"+\n     \"</ul>\\n\"+\n     \"<code>\\n\"+\n     \"from bokeh.resources import INLINE\\n\"+\n     \"output_notebook(resources=INLINE)\\n\"+\n     \"</code>\\n\"+\n     \"</div>\"}};\n\n  function display_loaded() {\n    var el = document.getElementById(\"1001\");\n    if (el != null) {\n      el.textContent = \"BokehJS is loading...\";\n    }\n    if (root.Bokeh !== undefined) {\n      if (el != null) {\n        el.textContent = \"BokehJS \" + root.Bokeh.version + \" successfully loaded.\";\n      }\n    } else if (Date.now() < root._bokeh_timeout) {\n      setTimeout(display_loaded, 100)\n    }\n  }\n\n\n  function run_callbacks() {\n    try {\n      root._bokeh_onload_callbacks.forEach(function(callback) {\n        if (callback != null)\n          callback();\n      });\n    } finally {\n      delete root._bokeh_onload_callbacks\n    }\n    console.debug(\"Bokeh: all callbacks have finished\");\n  }\n\n  function load_libs(css_urls, js_urls, callback) {\n    if (css_urls == null) css_urls = [];\n    if (js_urls == null) js_urls = [];\n\n    root._bokeh_onload_callbacks.push(callback);\n    if (root._bokeh_is_loading > 0) {\n      console.debug(\"Bokeh: BokehJS is being loaded, scheduling callback at\", now());\n      return null;\n    }\n    if (js_urls == null || js_urls.length === 0) {\n      run_callbacks();\n      return null;\n    }\n    console.debug(\"Bokeh: BokehJS not loaded, scheduling load and callback at\", now());\n    root._bokeh_is_loading = css_urls.length + js_urls.length;\n\n    function on_load() {\n      root._bokeh_is_loading--;\n      if (root._bokeh_is_loading === 0) {\n        console.debug(\"Bokeh: all BokehJS libraries/stylesheets loaded\");\n        run_callbacks()\n      }\n    }\n\n    function on_error() {\n      console.error(\"failed to load \" + url);\n    }\n\n    for (var i = 0; i < css_urls.length; i++) {\n      var url = css_urls[i];\n      const element = document.createElement(\"link\");\n      element.onload = on_load;\n      element.onerror = on_error;\n      element.rel = \"stylesheet\";\n      element.type = \"text/css\";\n      element.href = url;\n      console.debug(\"Bokeh: injecting link tag for BokehJS stylesheet: \", url);\n      document.body.appendChild(element);\n    }\n\n    for (var i = 0; i < js_urls.length; i++) {\n      var url = js_urls[i];\n      var element = document.createElement('script');\n      element.onload = on_load;\n      element.onerror = on_error;\n      element.async = false;\n      element.src = url;\n      console.debug(\"Bokeh: injecting script tag for BokehJS library: \", url);\n      document.head.appendChild(element);\n    }\n  };var element = document.getElementById(\"1001\");\n  if (element == null) {\n    console.error(\"Bokeh: ERROR: autoload.js configured with elementid '1001' but no matching script tag was found. \")\n    return false;\n  }\n\n  function inject_raw_css(css) {\n    const element = document.createElement(\"style\");\n    element.appendChild(document.createTextNode(css));\n    document.body.appendChild(element);\n  }\n\n  \n  var js_urls = [\"https://cdn.pydata.org/bokeh/release/bokeh-1.4.0.min.js\", \"https://cdn.pydata.org/bokeh/release/bokeh-widgets-1.4.0.min.js\", \"https://cdn.pydata.org/bokeh/release/bokeh-tables-1.4.0.min.js\", \"https://cdn.pydata.org/bokeh/release/bokeh-gl-1.4.0.min.js\"];\n  var css_urls = [];\n  \n\n  var inline_js = [\n    function(Bokeh) {\n      Bokeh.set_log_level(\"info\");\n    },\n    function(Bokeh) {\n    \n    \n    }\n  ];\n\n  function run_inline_js() {\n    \n    if (root.Bokeh !== undefined || force === true) {\n      \n    for (var i = 0; i < inline_js.length; i++) {\n      inline_js[i].call(root, root.Bokeh);\n    }\n    if (force === true) {\n        display_loaded();\n      }} else if (Date.now() < root._bokeh_timeout) {\n      setTimeout(run_inline_js, 100);\n    } else if (!root._bokeh_failed_load) {\n      console.log(\"Bokeh: BokehJS failed to load within specified timeout.\");\n      root._bokeh_failed_load = true;\n    } else if (force !== true) {\n      var cell = $(document.getElementById(\"1001\")).parents('.cell').data().cell;\n      cell.output_area.append_execute_result(NB_LOAD_WARNING)\n    }\n\n  }\n\n  if (root._bokeh_is_loading === 0) {\n    console.debug(\"Bokeh: BokehJS loaded, going straight to plotting\");\n    run_inline_js();\n  } else {\n    load_libs(css_urls, js_urls, function() {\n      console.debug(\"Bokeh: BokehJS plotting callback run at\", now());\n      run_inline_js();\n    });\n  }\n}(window));"
     },
     "metadata": {},
     "output_type": "display_data"
    },
    {
     "data": {
      "text/plain": [
       "<function bokeh.io.output.output_notebook(resources=None, verbose=False, hide_banner=False, load_timeout=5000, notebook_type='jupyter')>"
      ]
     },
     "execution_count": 3,
     "metadata": {},
     "output_type": "execute_result"
    }
   ],
   "source": [
    "from hail.plot import show\n",
    "from pprint import pprint\n",
    "from bokeh.layouts import gridplot\n",
    "import numpy as np\n",
    "hl.plot.output_notebook()\n",
    "import bokeh\n",
    "from scipy import stats\n",
    "\n",
    "from bokeh.plotting import figure, output_notebook, show\n",
    "output_notebook"
   ]
  },
  {
   "cell_type": "code",
   "execution_count": 4,
   "id": "7a35b7cd-c573-4aa7-969e-8098bd9a7889",
   "metadata": {
    "tags": []
   },
   "outputs": [],
   "source": [
    "import seaborn as sns\n",
    "import matplotlib.pyplot as plt"
   ]
  },
  {
   "cell_type": "code",
   "execution_count": 5,
   "id": "f2a507d4-a013-4d50-b637-ae70900a9283",
   "metadata": {
    "tags": []
   },
   "outputs": [],
   "source": [
    "%load_ext autoreload\n",
    "%autoreload 2"
   ]
  },
  {
   "cell_type": "code",
   "execution_count": 6,
   "id": "5586b698-2ea5-4f9b-8473-7d399bb3815a",
   "metadata": {
    "tags": []
   },
   "outputs": [],
   "source": [
    "from oligogenic_model import (\n",
    "    read_in_pheno_anno_all,\n",
    "    read_in_pheno_anno_sport\n",
    ")"
   ]
  },
  {
   "cell_type": "markdown",
   "id": "9e3ed7b1-7976-4e74-b5c3-f0754aa749e7",
   "metadata": {},
   "source": [
    "### count cases"
   ]
  },
  {
   "cell_type": "code",
   "execution_count": 12,
   "id": "de10e794-e276-47b7-82bb-8206a57ae313",
   "metadata": {
    "collapsed": true,
    "jupyter": {
     "outputs_hidden": true
    },
    "tags": []
   },
   "outputs": [
    {
     "name": "stderr",
     "output_type": "stream",
     "text": [
      "2023-09-07 08:58:01.238 Hail: INFO: Reading table without type imputation\n",
      "  Loading field 'f0' as type str (not specified)\n",
      "  Loading field 'f1' as type str (not specified)\n",
      "  Loading field 'f2' as type str (not specified)\n",
      "  Loading field 'f3' as type str (not specified)\n",
      "  Loading field 'f4' as type str (not specified)\n",
      "  Loading field 'f5' as type str (not specified)\n",
      "  Loading field 'f6' as type str (not specified)\n",
      "  Loading field 'f7' as type str (not specified)\n",
      "  Loading field 'f8' as type str (not specified)\n",
      "2023-09-07 08:58:02.270 Hail: INFO: Reading table without type imputation\n",
      "  Loading field 'Gene stable ID' as type str (not specified)\n",
      "  Loading field 'UniProtKB Gene Name symbol' as type str (not specified)\n",
      "2023-09-07 08:58:03.484 Hail: INFO: Reading table to impute column types\n",
      "2023-09-07 08:58:04.521 Hail: INFO: Finished type imputation\n",
      "  Loading field 'ID' as type str (imputed)\n",
      "  Loading field 'family' as type str (imputed)\n",
      "  Loading field 'sex' as type str (imputed)\n",
      "  Loading field 'kinship' as type str (imputed)\n",
      "  Loading field 'disease' as type str (imputed)\n",
      "  Loading field 'phenotype' as type str (imputed)\n",
      "  Loading field 'add_pheno' as type str (imputed)\n",
      "  Loading field 'heavy_tics' as type str (imputed)\n",
      "  Loading field 'heavy_tics_familial' as type str (imputed)\n",
      "  Loading field 'GTS_ASD_group' as type str (imputed)\n",
      "  Loading field 'nonCTD' as type str (imputed)\n",
      "2023-09-07 08:58:08.618 Hail: INFO: Ordering unsorted dataset with network shuffle\n",
      "2023-09-07 08:58:09.131 Hail: INFO: Ordering unsorted dataset with network shuffle\n",
      "2023-09-07 08:58:12.388 Hail: INFO: Ordering unsorted dataset with network shuffle\n",
      "2023-09-07 09:01:32.147 Hail: INFO: wrote matrix table with 6538550 rows and 287 columns in 4388 partitions to /localfs/4692906/all.mt\n",
      "    Total size: 40.09 GiB\n",
      "    * Rows/entries: 40.09 GiB\n",
      "    * Columns: 35.42 KiB\n",
      "    * Globals: 11.00 B\n",
      "    * Smallest partition: 0 rows (20.00 B)\n",
      "    * Largest partition:  21620 rows (102.29 MiB)\n"
     ]
    }
   ],
   "source": [
    "mt = read_in_pheno_anno_all(\n",
    "    '/net/pr2/projects/plgrid/plggneuromol/imdik-zekanowski-gts/data/mts/oligogenic-model/gts_and_s.mt',\n",
    "    'all')"
   ]
  },
  {
   "cell_type": "code",
   "execution_count": 13,
   "id": "42f60912-cd24-4ba4-baac-cdad24bf87cd",
   "metadata": {
    "tags": []
   },
   "outputs": [],
   "source": [
    "mt = mt.naive_coalesce(100)"
   ]
  },
  {
   "cell_type": "code",
   "execution_count": 14,
   "id": "e2c09388-1c4c-4379-acbc-b46deb7dade2",
   "metadata": {
    "tags": []
   },
   "outputs": [
    {
     "name": "stderr",
     "output_type": "stream",
     "text": [
      "2023-09-07 09:35:55.169 Hail: INFO: wrote matrix table with 6538550 rows and 287 columns in 100 partitions to /localfs/4692906/repart.mt\n"
     ]
    }
   ],
   "source": [
    "mt = mt.checkpoint(localfs_path+'repart.mt')"
   ]
  },
  {
   "cell_type": "code",
   "execution_count": 9,
   "id": "30d52e5f-dd1a-4103-a565-8a7e407313a9",
   "metadata": {
    "tags": []
   },
   "outputs": [],
   "source": [
    "mt = hl.read_matrix_table(localfs_path+'repart.mt')"
   ]
  },
  {
   "cell_type": "code",
   "execution_count": 10,
   "id": "454ef695-e4d5-44c9-a42a-fe8011049d44",
   "metadata": {
    "tags": []
   },
   "outputs": [
    {
     "data": {
      "text/plain": [
       "{'.': 40,\n",
       " 'A': 7,\n",
       " 'B': 8,\n",
       " 'C': 9,\n",
       " 'D': 7,\n",
       " 'E': 7,\n",
       " 'F': 11,\n",
       " 'G': 4,\n",
       " 'H': 6,\n",
       " 'I': 6,\n",
       " 'J': 5,\n",
       " 'K': 3,\n",
       " 'L': 3,\n",
       " 'M': 3,\n",
       " 'N': 3,\n",
       " 'O': 3,\n",
       " 'P': 4,\n",
       " 'R': 6,\n",
       " 'S': 6,\n",
       " 'T': 9,\n",
       " 'U': 5,\n",
       " 'W': 15,\n",
       " 'X': 5,\n",
       " 'Y': 8,\n",
       " 'Z': 2,\n",
       " None: 102}"
      ]
     },
     "execution_count": 10,
     "metadata": {},
     "output_type": "execute_result"
    }
   ],
   "source": [
    "mt.aggregate_cols(hl.agg.counter(mt.phenotypes.family))"
   ]
  },
  {
   "cell_type": "code",
   "execution_count": 11,
   "id": "b9eb7794-7e37-4618-b079-e1e1d0696d7d",
   "metadata": {
    "tags": []
   },
   "outputs": [],
   "source": [
    "samples_to_exclude = ['S_7288', 'S_7289', 'S_7290', 'WGS_6827', 'WGS_6835', 'WGS_5', 'WGS_8']"
   ]
  },
  {
   "cell_type": "code",
   "execution_count": 12,
   "id": "ccaedccc-1b8c-4205-9926-be407a1e293c",
   "metadata": {
    "tags": []
   },
   "outputs": [],
   "source": [
    "mt = mt.filter_cols(\n",
    "    hl.literal(samples_to_exclude).contains(mt.s),\n",
    "    keep = False\n",
    ")"
   ]
  },
  {
   "cell_type": "markdown",
   "id": "f26ceb3b-074b-44f0-94bf-0dd99e817a4b",
   "metadata": {},
   "source": [
    "### count GTS subgroups"
   ]
  },
  {
   "cell_type": "code",
   "execution_count": 13,
   "id": "7332598c-f86b-4018-a3c8-adc2d788002c",
   "metadata": {
    "tags": []
   },
   "outputs": [
    {
     "data": {
      "text/plain": [
       "(6538550, 280)"
      ]
     },
     "execution_count": 13,
     "metadata": {},
     "output_type": "execute_result"
    }
   ],
   "source": [
    "mt.count()"
   ]
  },
  {
   "cell_type": "code",
   "execution_count": 14,
   "id": "8a4b8b10-588b-45c7-b1d0-d3fcb0a6d43a",
   "metadata": {
    "tags": []
   },
   "outputs": [],
   "source": [
    "gts = mt.filter_cols(mt.group == 'GTS')"
   ]
  },
  {
   "cell_type": "code",
   "execution_count": 15,
   "id": "1caff21c-8ec9-4883-8b7d-15f90014e683",
   "metadata": {
    "tags": []
   },
   "outputs": [
    {
     "data": {
      "text/plain": [
       "(6538550, 178)"
      ]
     },
     "execution_count": 15,
     "metadata": {},
     "output_type": "execute_result"
    }
   ],
   "source": [
    "gts.count()"
   ]
  },
  {
   "cell_type": "code",
   "execution_count": 16,
   "id": "aa74d9a2-d77c-4756-aa11-d292ba2f740d",
   "metadata": {
    "tags": []
   },
   "outputs": [],
   "source": [
    "gts1 = gts.filter_cols(gts.phenotypes.family == '.')"
   ]
  },
  {
   "cell_type": "code",
   "execution_count": 17,
   "id": "bcb57cf8-1c84-4c71-9ed0-ac88cd0eeaeb",
   "metadata": {
    "tags": []
   },
   "outputs": [
    {
     "data": {
      "text/plain": [
       "(6538550, 37)"
      ]
     },
     "execution_count": 17,
     "metadata": {},
     "output_type": "execute_result"
    }
   ],
   "source": [
    "gts1.count()"
   ]
  },
  {
   "cell_type": "code",
   "execution_count": 18,
   "id": "48d01822-406a-4fad-bf8f-c5cd106ad6e1",
   "metadata": {
    "tags": []
   },
   "outputs": [
    {
     "data": {
      "text/plain": [
       "{'F': 6, 'M': 31}"
      ]
     },
     "execution_count": 18,
     "metadata": {},
     "output_type": "execute_result"
    }
   ],
   "source": [
    "gts1.aggregate_cols(hl.agg.counter(gts1.phenotypes.sex))"
   ]
  },
  {
   "cell_type": "code",
   "execution_count": 21,
   "id": "745a199d-8edc-44d6-bebc-7e08dec6f0d9",
   "metadata": {
    "tags": []
   },
   "outputs": [
    {
     "name": "stdout",
     "output_type": "stream",
     "text": [
      "ADHD\n",
      "17\n",
      "ANX\n",
      "20\n",
      "MDD\n",
      "16\n",
      "OCD\n",
      "14\n",
      "ASD\n",
      "4\n",
      "SCHI\n",
      "1\n"
     ]
    }
   ],
   "source": [
    "for com in ['ADHD','ANX','MDD','OCD','ASD','SCHI']:\n",
    "    \n",
    "    print(com)\n",
    "    print(\n",
    "        gts1.aggregate_cols(\n",
    "            hl.agg.count_where(\n",
    "                gts1.phenotypes.add_pheno.contains(com)\n",
    "            )\n",
    "        )\n",
    "    )"
   ]
  },
  {
   "cell_type": "code",
   "execution_count": 22,
   "id": "fa6e8570-8bda-4046-861a-f202f08c387d",
   "metadata": {
    "tags": []
   },
   "outputs": [],
   "source": [
    "gts2 = gts.filter_cols(gts.phenotypes.family == '.', keep = False)"
   ]
  },
  {
   "cell_type": "code",
   "execution_count": 23,
   "id": "3d5837bb-7d89-4553-b048-0a111311dcf0",
   "metadata": {
    "tags": []
   },
   "outputs": [
    {
     "data": {
      "text/plain": [
       "(6538550, 141)"
      ]
     },
     "execution_count": 23,
     "metadata": {},
     "output_type": "execute_result"
    }
   ],
   "source": [
    "gts2.count()"
   ]
  },
  {
   "cell_type": "code",
   "execution_count": 36,
   "id": "d517f321-c986-410e-8320-ca173c53fa38",
   "metadata": {
    "tags": []
   },
   "outputs": [
    {
     "name": "stdout",
     "output_type": "stream",
     "text": [
      "ADHD\n",
      "20\n",
      "ANX\n",
      "30\n",
      "MDD\n",
      "23\n",
      "OCD\n",
      "24\n",
      "ASD\n",
      "11\n",
      "SCHI\n",
      "1\n"
     ]
    }
   ],
   "source": [
    "for com in ['ADHD','ANX','MDD','OCD','ASD','SCHI']:\n",
    "    \n",
    "    print(com)\n",
    "    print(\n",
    "        gts.aggregate_cols(\n",
    "            hl.agg.count_where(\n",
    "                gts.phenotypes.add_pheno.contains(com)\n",
    "            )\n",
    "        )\n",
    "    )"
   ]
  },
  {
   "cell_type": "code",
   "execution_count": 37,
   "id": "7ca923cc-183f-4ab5-8926-6e1a23cca7dd",
   "metadata": {
    "tags": []
   },
   "outputs": [
    {
     "name": "stdout",
     "output_type": "stream",
     "text": [
      "ADHD\n",
      "17\n",
      "ANX\n",
      "20\n",
      "MDD\n",
      "16\n",
      "OCD\n",
      "14\n",
      "ASD\n",
      "4\n",
      "SCHI\n",
      "1\n"
     ]
    }
   ],
   "source": [
    "for com in ['ADHD','ANX','MDD','OCD','ASD','SCHI']:\n",
    "    \n",
    "    print(com)\n",
    "    print(\n",
    "        gts1.aggregate_cols(\n",
    "            hl.agg.count_where(\n",
    "                gts1.phenotypes.add_pheno.contains(com)\n",
    "            )\n",
    "        )\n",
    "    )"
   ]
  },
  {
   "cell_type": "code",
   "execution_count": 29,
   "id": "8f486086-df5c-427e-9c29-a6b799614eec",
   "metadata": {
    "tags": []
   },
   "outputs": [
    {
     "name": "stdout",
     "output_type": "stream",
     "text": [
      "ADHD\n",
      "{'.': 0, 'GTS': 3, 'tics': 0}\n",
      "ANX\n",
      "{'.': 0, 'GTS': 10, 'tics': 0}\n",
      "MDD\n",
      "{'.': 1, 'GTS': 6, 'tics': 0}\n",
      "OCD\n",
      "{'.': 0, 'GTS': 6, 'tics': 4}\n",
      "ASD\n",
      "{'.': 1, 'GTS': 5, 'tics': 1}\n",
      "SCHI\n",
      "{'.': 0, 'GTS': 0, 'tics': 0}\n"
     ]
    }
   ],
   "source": [
    "for com in ['ADHD','ANX','MDD','OCD','ASD','SCHI']:\n",
    "    \n",
    "    print(com)\n",
    "    print(\n",
    "        gts2.aggregate_cols(\n",
    "            hl.agg.group_by(\n",
    "                gts2.phenotypes.phenotype,\n",
    "                hl.agg.count_where(\n",
    "                    gts2.phenotypes.add_pheno.contains(com)\n",
    "                )\n",
    "            )\n",
    "        )\n",
    "    )"
   ]
  },
  {
   "cell_type": "code",
   "execution_count": null,
   "id": "6bf44703-ade5-4817-a06e-4f125678024b",
   "metadata": {
    "tags": []
   },
   "outputs": [],
   "source": [
    "gts2.aggregate_cols(\n",
    "    hl.agg.counter(\n",
    "        gts2.phenotypes.heavy_tics_familial\n",
    "    )\n",
    ")"
   ]
  },
  {
   "cell_type": "code",
   "execution_count": null,
   "id": "d4586591-4bc7-4791-917a-611a3fae8f29",
   "metadata": {
    "tags": []
   },
   "outputs": [],
   "source": [
    "gts2.aggregate_cols(\n",
    "    hl.agg.counter(\n",
    "        gts2.phenotypes.phenotype\n",
    "    )\n",
    ")"
   ]
  },
  {
   "cell_type": "code",
   "execution_count": 40,
   "id": "479eaacc-5274-4d78-b318-32f649fd422d",
   "metadata": {
    "tags": []
   },
   "outputs": [
    {
     "data": {
      "text/plain": [
       "{'.': {'.': 53, 'ASD': 1, 'MDD': 1},\n",
       " 'GTS': {'.': 28,\n",
       "  'ADHD': 1,\n",
       "  'ADHDANX': 1,\n",
       "  'ADHDOCDMDDANX': 1,\n",
       "  'ANX': 5,\n",
       "  'ASD': 5,\n",
       "  'OCDMDD': 2,\n",
       "  'OCDMDDANX': 3},\n",
       " 'tics': {'.': 35, 'ASD': 1, 'OCD': 4}}"
      ]
     },
     "execution_count": 40,
     "metadata": {},
     "output_type": "execute_result"
    }
   ],
   "source": [
    "gts2.aggregate_cols(\n",
    "    hl.agg.group_by(\n",
    "        gts2.phenotypes.phenotype,\n",
    "        hl.agg.counter(\n",
    "            gts2.phenotypes.add_phen\n",
    "        )\n",
    "    )\n",
    ")"
   ]
  },
  {
   "cell_type": "code",
   "execution_count": null,
   "id": "67d4b6dd-c43a-4698-b709-e229a4dc2576",
   "metadata": {
    "tags": []
   },
   "outputs": [],
   "source": [
    "gts1.aggregate_cols"
   ]
  },
  {
   "cell_type": "markdown",
   "id": "a5d5988c-c476-4109-872b-e419a4eb1f95",
   "metadata": {},
   "source": [
    "### len of selected gene lists"
   ]
  },
  {
   "cell_type": "code",
   "execution_count": 14,
   "id": "84b4ec00-9ddd-4a52-9796-eb0252d4a95a",
   "metadata": {
    "tags": []
   },
   "outputs": [],
   "source": [
    "gene_list = ['DCC', 'RBFOX', 'SLC30A9', 'DCAF4L1', 'SORCS3', 'KCNQ5', 'KCNQ-IT1', 'APOPT1', 'C14orf2', 'NAA11', 'NEGR1',\n",
    "        'CHADL', 'SOX5', 'PANK2', 'COL27A1', 'PDGFB', 'CELSR3', 'OPA1', 'FBN2', 'WWC1', 'NIPBL', \n",
    "             'FN1', 'FBN2', 'SLITRK1', 'SLITRK2', 'SLITRK3', 'SLITRK4', 'SLITRK5', 'SLITRK6', \n",
    "             'HDC', 'OPRK1', 'PCDH10', 'NTSR2', 'CHD8', 'SCUBE1', 'PNKD', 'CNTNAP2', 'MOG', \n",
    "             'DRD2', 'DRD3', 'DRD4', 'DRD5', 'DAT1', 'DBH', 'HTR2A', 'TPH2', 'EAAT1', 'SAPAP3',\n",
    "            'CTNNA3', 'NLGN4', 'FSCB', 'IMMP2L', 'NRXN1', 'AADAC', 'DBH', 'MAOA', 'HTR1A', 'HTR2C', 'SLC6A4',\n",
    "             'TPH2', 'COL27A1', '5-HTTLPR', 'EAAT1', 'COL8A1', 'KCNE1', 'KCNE2',\n",
    "         'RICTOR', 'WWC1', 'CELSR3, NIPBL', 'FN1', 'PNKD', 'CDH26', 'CADM2', 'OPCML', 'CDH9',\n",
    "         'NCAM2', 'CD47', 'CDH5', 'CADM4', 'C1QBP', 'CTTN', 'LSAMP',\n",
    "         'PKP4', 'PCDH1', 'CNTNAP2', 'MBP', 'GABBR2', 'GABBR2', 'GRIK4', 'NCR1', 'FLT3', 'IL12A', 'HDAC9',\n",
    "         'CD180', 'CDH26', 'NCAM2', 'NTM', 'ROBO2', 'NR2F1', 'ASH1L', 'FLT3']"
   ]
  },
  {
   "cell_type": "code",
   "execution_count": 15,
   "id": "ff361a6b-28fc-452f-9904-14f957f18260",
   "metadata": {
    "tags": []
   },
   "outputs": [
    {
     "data": {
      "text/plain": [
       "101"
      ]
     },
     "execution_count": 15,
     "metadata": {},
     "output_type": "execute_result"
    }
   ],
   "source": [
    "len(gene_list)"
   ]
  },
  {
   "cell_type": "markdown",
   "id": "a5718d99-4494-4138-bf08-91e84cdfcc8c",
   "metadata": {},
   "source": [
    "### how many variants in the model?"
   ]
  },
  {
   "cell_type": "code",
   "execution_count": 38,
   "id": "58e99eb2-2845-4a0f-8c6a-8662bc233508",
   "metadata": {
    "collapsed": true,
    "jupyter": {
     "outputs_hidden": true
    },
    "tags": []
   },
   "outputs": [
    {
     "name": "stderr",
     "output_type": "stream",
     "text": [
      "2023-09-07 13:18:27.231 Hail: INFO: Reading table without type imputation\n",
      "  Loading field 'f0' as type str (not specified)\n",
      "  Loading field 'f1' as type str (not specified)\n",
      "  Loading field 'f2' as type str (not specified)\n",
      "  Loading field 'f3' as type str (not specified)\n",
      "  Loading field 'f4' as type str (not specified)\n",
      "  Loading field 'f5' as type str (not specified)\n",
      "  Loading field 'f6' as type str (not specified)\n",
      "  Loading field 'f7' as type str (not specified)\n",
      "  Loading field 'f8' as type str (not specified)\n",
      "2023-09-07 13:18:27.914 Hail: INFO: Reading table without type imputation\n",
      "  Loading field 'Gene stable ID' as type str (not specified)\n",
      "  Loading field 'UniProtKB Gene Name symbol' as type str (not specified)\n",
      "2023-09-07 13:18:28.852 Hail: INFO: Reading table to impute column types\n",
      "2023-09-07 13:18:29.626 Hail: INFO: Finished type imputation\n",
      "  Loading field 'ID' as type str (imputed)\n",
      "  Loading field 'family' as type str (imputed)\n",
      "  Loading field 'sex' as type str (imputed)\n",
      "  Loading field 'kinship' as type str (imputed)\n",
      "  Loading field 'disease' as type str (imputed)\n",
      "  Loading field 'phenotype' as type str (imputed)\n",
      "  Loading field 'add_pheno' as type str (imputed)\n",
      "  Loading field 'heavy_tics' as type str (imputed)\n",
      "  Loading field 'heavy_tics_familial' as type str (imputed)\n",
      "  Loading field 'GTS_ASD_group' as type str (imputed)\n",
      "  Loading field 'nonCTD' as type str (imputed)\n",
      "2023-09-07 13:18:33.530 Hail: INFO: Ordering unsorted dataset with network shuffle\n",
      "2023-09-07 13:18:33.986 Hail: INFO: Ordering unsorted dataset with network shuffle\n",
      "2023-09-07 13:18:37.412 Hail: INFO: Ordering unsorted dataset with network shuffle\n",
      "2023-09-07 13:21:03.107 Hail: INFO: wrote matrix table with 6538550 rows and 204 columns in 4388 partitions to /localfs/4692906/gts_sport_for_vars.mt\n",
      "    Total size: 36.71 GiB\n",
      "    * Rows/entries: 36.71 GiB\n",
      "    * Columns: 25.05 KiB\n",
      "    * Globals: 11.00 B\n",
      "    * Smallest partition: 0 rows (20.00 B)\n",
      "    * Largest partition:  21620 rows (97.04 MiB)\n"
     ]
    }
   ],
   "source": [
    "mt = read_in_pheno_anno_sport(\n",
    "    '/net/pr2/projects/plgrid/plggneuromol/imdik-zekanowski-gts/data/mts/oligogenic-model/gts_and_s.mt',\n",
    "    'gts_sport_for_vars'\n",
    ")"
   ]
  },
  {
   "cell_type": "code",
   "execution_count": 15,
   "id": "8b7c0645-1517-4916-82af-2454df345007",
   "metadata": {
    "tags": []
   },
   "outputs": [],
   "source": [
    "mt = hl.read_matrix_table(localfs_path+'repart.mt')"
   ]
  },
  {
   "cell_type": "code",
   "execution_count": 16,
   "id": "954a5de2-05bb-4c7e-89ed-4a38f9200956",
   "metadata": {
    "tags": []
   },
   "outputs": [],
   "source": [
    "genes = ['CHADL', 'DRD2', 'MAOA', 'PCDH10', 'HTR2A', 'SLITRK5', 'SORCS3', 'KCNQ5', 'CDH9', 'CHD8']"
   ]
  },
  {
   "cell_type": "code",
   "execution_count": 17,
   "id": "97b0e007-fc6d-4d26-8a71-cf3a82c7254b",
   "metadata": {
    "tags": []
   },
   "outputs": [],
   "source": [
    "mt = mt.filter_rows(\n",
    "    hl.literal(genes).contains(mt.nearest_genes_20kb)\n",
    ")"
   ]
  },
  {
   "cell_type": "code",
   "execution_count": 18,
   "id": "1dc94ce0-db45-4b8a-81cf-c76dab338fb5",
   "metadata": {
    "tags": []
   },
   "outputs": [],
   "source": [
    "mt = mt.filter_rows(mt.cadd.score_phred > 0)"
   ]
  },
  {
   "cell_type": "code",
   "execution_count": null,
   "id": "67109167-4af1-4011-b4a5-981159d74ed8",
   "metadata": {
    "tags": []
   },
   "outputs": [
    {
     "name": "stderr",
     "output_type": "stream",
     "text": [
      "[Stage 4:========================>                              (45 + 12) / 100]\r"
     ]
    }
   ],
   "source": [
    "sel_mt = mt.checkpoint(localfs_path+'filtered_sel.mt')"
   ]
  },
  {
   "cell_type": "code",
   "execution_count": 7,
   "id": "bb8a9476-74cf-49e2-8d20-e621dfcfc760",
   "metadata": {
    "tags": []
   },
   "outputs": [],
   "source": [
    "sel_mt = hl.read_matrix_table(localfs_path+'filtered_sel.mt')"
   ]
  },
  {
   "cell_type": "code",
   "execution_count": 8,
   "id": "ec60d090-f968-4528-9eb2-f89a647b5776",
   "metadata": {
    "tags": []
   },
   "outputs": [
    {
     "data": {
      "text/plain": [
       "(7654, 287)"
      ]
     },
     "execution_count": 8,
     "metadata": {},
     "output_type": "execute_result"
    }
   ],
   "source": [
    "sel_mt.count()"
   ]
  },
  {
   "cell_type": "code",
   "execution_count": 9,
   "id": "9198255e-00c6-495b-92bf-b2cf8feb4054",
   "metadata": {
    "tags": []
   },
   "outputs": [
    {
     "data": {
      "text/plain": [
       "{'GTS': 185, 'local_controls': 102}"
      ]
     },
     "execution_count": 9,
     "metadata": {},
     "output_type": "execute_result"
    }
   ],
   "source": [
    "sel_mt.aggregate_cols(hl.agg.counter(sel_mt.group))"
   ]
  },
  {
   "cell_type": "code",
   "execution_count": 10,
   "id": "06b66ecc-5879-404a-ba22-92a81689b1d7",
   "metadata": {
    "tags": []
   },
   "outputs": [],
   "source": [
    "samples_to_exclude = ['S_7288', 'S_7289', 'S_7290', 'WGS_6827', 'WGS_6835', 'WGS_5', 'WGS_8', 'B502', 'B506']"
   ]
  },
  {
   "cell_type": "code",
   "execution_count": 11,
   "id": "b33d2160-9044-44ff-9cc3-5541bfe14cbf",
   "metadata": {
    "tags": []
   },
   "outputs": [],
   "source": [
    "sel_mt = sel_mt.filter_cols(\n",
    "    hl.literal(samples_to_exclude).contains(sel_mt.s),\n",
    "    keep = False\n",
    ")"
   ]
  },
  {
   "cell_type": "code",
   "execution_count": 12,
   "id": "172146d1-7765-4701-8ae6-177cd1460d51",
   "metadata": {
    "tags": []
   },
   "outputs": [
    {
     "name": "stderr",
     "output_type": "stream",
     "text": [
      "[Stage 1:======================================================> (98 + 2) / 100]\r"
     ]
    },
    {
     "data": {
      "text/plain": [
       "0.024275841787972357"
      ]
     },
     "execution_count": 12,
     "metadata": {},
     "output_type": "execute_result"
    }
   ],
   "source": [
    "sel_mt.aggregate_rows(hl.agg.approx_median(sel_mt.gnomad_v_3_1.freq.AF[2]))"
   ]
  },
  {
   "cell_type": "code",
   "execution_count": 51,
   "id": "caf2e34b-f41e-4ad1-8dd6-75728e3f369b",
   "metadata": {
    "tags": []
   },
   "outputs": [],
   "source": [
    "mafs = sel_mt.filter_rows(hl.is_defined(sel_mt.gnomad_v_3_1.freq.AF[2]))"
   ]
  },
  {
   "cell_type": "code",
   "execution_count": 55,
   "id": "9824b016-35bb-4831-b7c0-b749a87760c0",
   "metadata": {
    "tags": []
   },
   "outputs": [
    {
     "name": "stderr",
     "output_type": "stream",
     "text": [
      "[Stage 15:=====================================================> (98 + 2) / 100]\r"
     ]
    }
   ],
   "source": [
    "all_ass = mafs.gnomad_v_3_1.freq.AF[2].collect()"
   ]
  },
  {
   "cell_type": "code",
   "execution_count": 64,
   "id": "3b6b8e13-9da5-4911-ae3f-398ef9d9274b",
   "metadata": {
    "tags": []
   },
   "outputs": [],
   "source": [
    "for i, num in enumerate(all_ass):\n",
    "    if num > 0.5:\n",
    "        num = 1 - num\n",
    "        all_ass[i] = num"
   ]
  },
  {
   "cell_type": "code",
   "execution_count": 66,
   "id": "dfe34027-77f2-4040-95a1-607a1994c0e8",
   "metadata": {
    "tags": []
   },
   "outputs": [
    {
     "data": {
      "image/png": "[encoded data removed]",
      "text/plain": [
       "<Figure size 300x300 with 1 Axes>"
      ]
     },
     "metadata": {},
     "output_type": "display_data"
    }
   ],
   "source": [
    "sns.histplot(\n",
    "    all_ass,\n",
    "    bins=50,\n",
    "    stat=\"percent\",\n",
    "    binrange=[0,0.5],\n",
    "    binwidth=0.02,\n",
    "    color=sns.diverging_palette(220, 20)[0]\n",
    ")\n",
    "        \n",
    "plt.title('MAF histogram')\n",
    "plt.xlabel('GnomAD AF')\n",
    "plt.ylabel('percent of variants in each bin')\n",
    "sns.set_style(\"ticks\")\n",
    "sns.despine()\n",
    "\n",
    "plt.savefig(\"hists.png\")"
   ]
  },
  {
   "cell_type": "code",
   "execution_count": 13,
   "id": "702ba97f-5843-4dc8-a7ae-0149f8f0e41f",
   "metadata": {
    "tags": []
   },
   "outputs": [],
   "source": [
    "sel_mt = sel_mt.annotate_cols(\n",
    "    gts = hl.if_else(\n",
    "        sel_mt.group == 'local controls',\n",
    "        'NO',\n",
    "        sel_mt.phenotypes.disease\n",
    "    )\n",
    ")"
   ]
  },
  {
   "cell_type": "code",
   "execution_count": 16,
   "id": "fdb67ed5-2fe1-491c-ae98-a98bfbc474d3",
   "metadata": {
    "tags": []
   },
   "outputs": [],
   "source": [
    "sel_mt = sel_mt.annotate_rows(\n",
    "    af_per_group = hl.agg.group_by(\n",
    "        sel_mt.gts,\n",
    "        hl.agg.call_stats(\n",
    "            sel_mt.GT, sel_mt.alleles\n",
    "        )\n",
    "    )\n",
    ")\n"
   ]
  },
  {
   "cell_type": "code",
   "execution_count": 20,
   "id": "4b9fd517-7ceb-4bbc-87dd-fb0949fc861e",
   "metadata": {
    "tags": []
   },
   "outputs": [],
   "source": [
    "gts_over = sel_mt.filter_rows(\n",
    "    sel_mt.af_per_group['NO']['AF'][1] < sel_mt.af_per_group['YES']['AF'][1]\n",
    ")"
   ]
  },
  {
   "cell_type": "code",
   "execution_count": 22,
   "id": "6c09c4f7-425f-43de-aa62-5eb9691eb5ff",
   "metadata": {
    "tags": []
   },
   "outputs": [
    {
     "name": "stderr",
     "output_type": "stream",
     "text": [
      "[Stage 14:=====================================================> (98 + 2) / 100]\r"
     ]
    },
    {
     "data": {
      "text/plain": [
       "(3807, 278)"
      ]
     },
     "execution_count": 22,
     "metadata": {},
     "output_type": "execute_result"
    }
   ],
   "source": [
    "gts_over.count()"
   ]
  },
  {
   "cell_type": "code",
   "execution_count": 103,
   "id": "a89f2229-8e65-496d-a548-58aa401ffc90",
   "metadata": {
    "tags": []
   },
   "outputs": [
    {
     "name": "stderr",
     "output_type": "stream",
     "text": [
      "[Stage 25:=====================================================> (98 + 2) / 100]\r"
     ]
    }
   ],
   "source": [
    "veps = gts_over.aggregate_rows(\n",
    "    hl.agg.counter(gts_over.vep.vep.most_severe_consequence)\n",
    ")"
   ]
  },
  {
   "cell_type": "code",
   "execution_count": 94,
   "id": "510b88e9-1aad-4fdb-9fdd-d91ec3642bf9",
   "metadata": {
    "tags": []
   },
   "outputs": [
    {
     "data": {
      "text/plain": [
       "3111"
      ]
     },
     "execution_count": 94,
     "metadata": {},
     "output_type": "execute_result"
    }
   ],
   "source": [
    "#veps.pop('intron_variant')"
   ]
  },
  {
   "cell_type": "code",
   "execution_count": 105,
   "id": "f4945185-d022-4c4b-b6ff-5b508d806c31",
   "metadata": {
    "tags": []
   },
   "outputs": [],
   "source": [
    "for key, value in veps.items():\n",
    "    veps[key] = value*100/3807"
   ]
  },
  {
   "cell_type": "code",
   "execution_count": 106,
   "id": "d25582a1-a7b7-4cf1-80ec-dea23520f0da",
   "metadata": {
    "tags": []
   },
   "outputs": [
    {
     "data": {
      "text/plain": [
       "100.0"
      ]
     },
     "execution_count": 106,
     "metadata": {},
     "output_type": "execute_result"
    }
   ],
   "source": [
    "sum(veps.values())"
   ]
  },
  {
   "cell_type": "code",
   "execution_count": 107,
   "id": "a6f29df3-cf41-4f5e-a8a8-a76fc17ec87b",
   "metadata": {
    "tags": []
   },
   "outputs": [],
   "source": [
    "veps = dict(sorted(veps.items(), key=lambda item: item[1], reverse=True))"
   ]
  },
  {
   "cell_type": "code",
   "execution_count": 108,
   "id": "844eac18-94ab-4091-81da-704d1ebab8cd",
   "metadata": {
    "tags": []
   },
   "outputs": [
    {
     "data": {
      "text/plain": [
       "dict_values([81.71788810086683, 5.621224060940373, 2.8894142369319673, 2.8631468347780404, 1.9700551615445232, 1.7073811400052534, 1.4447071184659837, 0.9981612818492251, 0.42027843446283164, 0.18387181507748884, 0.15760441292356187, 0.026267402153926978])"
      ]
     },
     "execution_count": 108,
     "metadata": {},
     "output_type": "execute_result"
    }
   ],
   "source": [
    "veps.values()"
   ]
  },
  {
   "cell_type": "code",
   "execution_count": 110,
   "id": "d49201be-69ff-47db-afc5-bd980fee619e",
   "metadata": {
    "tags": []
   },
   "outputs": [
    {
     "data": {
      "text/plain": [
       "{'intron_variant': 81.71788810086683,\n",
       " 'intergenic_variant': 5.621224060940373,\n",
       " '3_prime_UTR_variant': 2.8894142369319673,\n",
       " 'non_coding_transcript_exon_variant': 2.8631468347780404,\n",
       " 'downstream_gene_variant': 1.9700551615445232,\n",
       " 'synonymous_variant': 1.7073811400052534,\n",
       " 'upstream_gene_variant': 1.4447071184659837,\n",
       " 'missense_variant': 0.9981612818492251,\n",
       " 'regulatory_region_variant': 0.42027843446283164,\n",
       " '5_prime_UTR_variant': 0.18387181507748884,\n",
       " 'splice_region_variant': 0.15760441292356187,\n",
       " 'splice_donor_variant': 0.026267402153926978}"
      ]
     },
     "execution_count": 110,
     "metadata": {},
     "output_type": "execute_result"
    }
   ],
   "source": [
    "veps"
   ]
  },
  {
   "cell_type": "code",
   "execution_count": 109,
   "id": "a864b9f6-489a-4d4b-afcb-5cfa16c261d8",
   "metadata": {},
   "outputs": [
    {
     "ename": "IndexError",
     "evalue": "list index out of range",
     "output_type": "error",
     "traceback": [
      "\u001b[0;31m---------------------------------------------------------------------------\u001b[0m",
      "\u001b[0;31mIndexError\u001b[0m                                Traceback (most recent call last)",
      "Cell \u001b[0;32mIn[109], line 13\u001b[0m\n\u001b[1;32m      6\u001b[0m sns\u001b[38;5;241m.\u001b[39mset_style(\u001b[38;5;124m\"\u001b[39m\u001b[38;5;124mwhite\u001b[39m\u001b[38;5;124m\"\u001b[39m)\n\u001b[1;32m      8\u001b[0m sns\u001b[38;5;241m.\u001b[39mset(font_scale\u001b[38;5;241m=\u001b[39m\u001b[38;5;241m1.5\u001b[39m)\n\u001b[1;32m     10\u001b[0m sns\u001b[38;5;241m.\u001b[39mbarplot(\n\u001b[1;32m     11\u001b[0m     x\u001b[38;5;241m=\u001b[39m[\u001b[38;5;241m1\u001b[39m], \n\u001b[1;32m     12\u001b[0m     y\u001b[38;5;241m=\u001b[39m[value],\n\u001b[0;32m---> 13\u001b[0m     color\u001b[38;5;241m=\u001b[39m\u001b[43msns\u001b[49m\u001b[38;5;241;43m.\u001b[39;49m\u001b[43mdiverging_palette\u001b[49m\u001b[43m(\u001b[49m\u001b[38;5;241;43m220\u001b[39;49m\u001b[43m,\u001b[49m\u001b[43m \u001b[49m\u001b[38;5;241;43m20\u001b[39;49m\u001b[43m,\u001b[49m\u001b[43m \u001b[49m\u001b[43mn\u001b[49m\u001b[38;5;241;43m=\u001b[39;49m\u001b[38;5;241;43m12\u001b[39;49m\u001b[43m)\u001b[49m\u001b[43m[\u001b[49m\u001b[38;5;241;43m1\u001b[39;49m\u001b[38;5;241;43m+\u001b[39;49m\u001b[43midx\u001b[49m\u001b[43m]\u001b[49m,\n\u001b[1;32m     14\u001b[0m     bottom \u001b[38;5;241m=\u001b[39m bottom\n\u001b[1;32m     15\u001b[0m )\n\u001b[1;32m     17\u001b[0m bottom \u001b[38;5;241m=\u001b[39m bottom \u001b[38;5;241m+\u001b[39m value\n\u001b[1;32m     19\u001b[0m plt\u001b[38;5;241m.\u001b[39mtitle(\u001b[38;5;124m'\u001b[39m\u001b[38;5;124mpredicted variant effect\u001b[39m\u001b[38;5;124m'\u001b[39m)\n",
      "\u001b[0;31mIndexError\u001b[0m: list index out of range"
     ]
    },
    {
     "data": {
      "image/png": "[encoded data removed]",
      "text/plain": [
       "<Figure size 300x1200 with 1 Axes>"
      ]
     },
     "metadata": {},
     "output_type": "display_data"
    }
   ],
   "source": [
    "bottom = 0\n",
    "\n",
    "for idx, (key, value) in enumerate(veps.items()):\n",
    "    \n",
    "    sns.set(rc={'figure.figsize':(3,12)})\n",
    "    sns.set_style(\"white\")\n",
    "    \n",
    "    sns.set(font_scale=1.5)\n",
    "    \n",
    "    sns.barplot(\n",
    "        x=[1], \n",
    "        y=[value],\n",
    "        color=sns.diverging_palette(220, 20, n=12)[1+idx],\n",
    "        bottom = bottom\n",
    "    )\n",
    "    \n",
    "    bottom = bottom + value\n",
    "        \n",
    "    plt.title('predicted variant effect')\n",
    "    plt.xlabel(None)\n",
    "    \n",
    "    plt.ylabel('percent of variants with effect')\n",
    "    \n",
    "    \n",
    "    \n",
    "plt.savefig(\"vep.png\")"
   ]
  },
  {
   "cell_type": "code",
   "execution_count": null,
   "id": "5279e834-7c28-4461-8c89-b8f782df1de1",
   "metadata": {},
   "outputs": [],
   "source": [
    "gts_over.aggregate_rows(hl.agg.counter(gt"
   ]
  },
  {
   "cell_type": "code",
   "execution_count": 68,
   "id": "f7598ad5-77f4-4bc2-bf65-d9bec2008903",
   "metadata": {
    "tags": []
   },
   "outputs": [],
   "source": [
    "maf_mt = sel_mt.filter_rows(sel_mt.gnomad_v_3_1.freq.AF[2] < 0.0001)"
   ]
  },
  {
   "cell_type": "code",
   "execution_count": 69,
   "id": "4f2a77d5-12e7-4c6e-8034-afd8e1d840fe",
   "metadata": {
    "tags": []
   },
   "outputs": [
    {
     "data": {
      "text/plain": [
       "(760, 278)"
      ]
     },
     "execution_count": 69,
     "metadata": {},
     "output_type": "execute_result"
    }
   ],
   "source": [
    "maf_mt.count()"
   ]
  },
  {
   "cell_type": "code",
   "execution_count": null,
   "id": "aa99ff15-7351-43f6-90bd-a2e0ce4b8ac8",
   "metadata": {},
   "outputs": [],
   "source": [
    "sel_mt.aggregate_rows(hl.agg.approx_median(sel_mt.gnomad_v_3_1.freq.AF[2]))"
   ]
  },
  {
   "cell_type": "code",
   "execution_count": 28,
   "id": "bb99974c-3d74-4c2c-a782-c7c8f702b1a4",
   "metadata": {},
   "outputs": [],
   "source": [
    "gts_non_ref = sel_mt.filter_cols(\n",
    "    (sel_mt.phenotypes.disease == 'NO') | (sel_mt.group == 'local_controls')\n",
    ")"
   ]
  },
  {
   "cell_type": "code",
   "execution_count": 29,
   "id": "bad16dcc-9fa5-4406-a86b-1e5f781a9f59",
   "metadata": {
    "tags": []
   },
   "outputs": [],
   "source": [
    "gts_non_ref = gts_non_ref.filter_rows(hl.agg.any(gts_non_ref.GT.is_non_ref()))"
   ]
  },
  {
   "cell_type": "code",
   "execution_count": 31,
   "id": "68026aa7-333f-4867-9396-c7c6231ce15b",
   "metadata": {
    "tags": []
   },
   "outputs": [
    {
     "data": {
      "text/plain": [
       "(5997, 155)"
      ]
     },
     "execution_count": 31,
     "metadata": {},
     "output_type": "execute_result"
    }
   ],
   "source": [
    "gts_non_ref.count()"
   ]
  },
  {
   "cell_type": "code",
   "execution_count": null,
   "id": "e4f73df4-c58a-4031-bb8a-2f92c7615121",
   "metadata": {},
   "outputs": [],
   "source": [
    "# count consequences"
   ]
  },
  {
   "cell_type": "code",
   "execution_count": null,
   "id": "cb868703-5503-4267-82f8-308d3ffa93e8",
   "metadata": {},
   "outputs": [],
   "source": [
    "# count how many variants in the maf model"
   ]
  }
 ],
 "metadata": {
  "kernelspec": {
   "display_name": "Python 3 (ipykernel)",
   "language": "python",
   "name": "python3"
  },
  "language_info": {
   "codemirror_mode": {
    "name": "ipython",
    "version": 3
   },
   "file_extension": ".py",
   "mimetype": "text/x-python",
   "name": "python",
   "nbconvert_exporter": "python",
   "pygments_lexer": "ipython3",
   "version": "3.10.4"
  }
 },
 "nbformat": 4,
 "nbformat_minor": 5
}
