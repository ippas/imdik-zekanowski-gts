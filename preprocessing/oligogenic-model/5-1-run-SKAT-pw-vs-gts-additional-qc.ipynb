{
 "cells": [
  {
   "cell_type": "code",
   "execution_count": 1,
   "id": "8830a0a3-d54a-4da3-8b32-a33ae3bbdb8c",
   "metadata": {},
   "outputs": [],
   "source": [
    "import numpy as np\n",
    "import os\n",
    "localfs_path = os.environ.get('SCRATCH_LOCAL') + '/'"
   ]
  },
  {
   "cell_type": "code",
   "execution_count": 2,
   "id": "7c4762a4-78b7-4788-aac0-b3510bd10a22",
   "metadata": {
    "tags": []
   },
   "outputs": [
    {
     "name": "stderr",
     "output_type": "stream",
     "text": [
      "Picked up _JAVA_OPTIONS: -Djava.io.tmpdir=/localfs/4204276/\n",
      "Picked up _JAVA_OPTIONS: -Djava.io.tmpdir=/localfs/4204276/\n"
     ]
    },
    {
     "name": "stdout",
     "output_type": "stream",
     "text": [
      "23/07/30 16:13:10 WARN NativeCodeLoader: Unable to load native-hadoop library for your platform... using builtin-java classes where applicable\n"
     ]
    },
    {
     "name": "stderr",
     "output_type": "stream",
     "text": [
      "Setting default log level to \"WARN\".\n",
      "To adjust logging level use sc.setLogLevel(newLevel). For SparkR, use setLogLevel(newLevel).\n",
      "Running on Apache Spark version 3.3.2\n",
      "SparkUI available at http://ac0067:4040\n",
      "Welcome to\n",
      "     __  __     <>__\n",
      "    / /_/ /__  __/ /\n",
      "   / __  / _ `/ / /\n",
      "  /_/ /_/\\_,_/_/_/   version 0.2.113-cf32652c5077\n",
      "LOGGING: writing to /net/pr2/projects/plgrid/plggneuromol/imdik-zekanowski-gts/preprocessing/oligogenic-model/hail-20230730-1612-0.2.113-cf32652c5077.log\n"
     ]
    }
   ],
   "source": [
    "os.environ['_JAVA_OPTIONS'] = f'-Djava.io.tmpdir={localfs_path}'\n",
    "\n",
    "import hail as hl\n",
    "\n",
    "hl.init(\n",
    "    tmp_dir=(localfs_path+'tmp_hail'),\n",
    "    spark_conf={'spark.driver.memory': '10G', 'spark.executor.memory': '5G'}, # I don't know what should be here\n",
    "    default_reference='GRCh38'\n",
    ") "
   ]
  },
  {
   "cell_type": "code",
   "execution_count": 3,
   "id": "cf582ceb-8db7-456a-933f-137b8ccc157e",
   "metadata": {
    "tags": []
   },
   "outputs": [
    {
     "data": {
      "text/html": [
       "\n",
       "    <div class=\"bk-root\">\n",
       "        <a href=\"https://bokeh.org\" target=\"_blank\" class=\"bk-logo bk-logo-small bk-logo-notebook\"></a>\n",
       "        <span id=\"1001\">Loading BokehJS ...</span>\n",
       "    </div>"
      ]
     },
     "metadata": {},
     "output_type": "display_data"
    },
    {
     "data": {
      "application/javascript": [
       "\n",
       "(function(root) {\n",
       "  function now() {\n",
       "    return new Date();\n",
       "  }\n",
       "\n",
       "  var force = true;\n",
       "\n",
       "  if (typeof root._bokeh_onload_callbacks === \"undefined\" || force === true) {\n",
       "    root._bokeh_onload_callbacks = [];\n",
       "    root._bokeh_is_loading = undefined;\n",
       "  }\n",
       "\n",
       "  var JS_MIME_TYPE = 'application/javascript';\n",
       "  var HTML_MIME_TYPE = 'text/html';\n",
       "  var EXEC_MIME_TYPE = 'application/vnd.bokehjs_exec.v0+json';\n",
       "  var CLASS_NAME = 'output_bokeh rendered_html';\n",
       "\n",
       "  /**\n",
       "   * Render data to the DOM node\n",
       "   */\n",
       "  function render(props, node) {\n",
       "    var script = document.createElement(\"script\");\n",
       "    node.appendChild(script);\n",
       "  }\n",
       "\n",
       "  /**\n",
       "   * Handle when an output is cleared or removed\n",
       "   */\n",
       "  function handleClearOutput(event, handle) {\n",
       "    var cell = handle.cell;\n",
       "\n",
       "    var id = cell.output_area._bokeh_element_id;\n",
       "    var server_id = cell.output_area._bokeh_server_id;\n",
       "    // Clean up Bokeh references\n",
       "    if (id != null && id in Bokeh.index) {\n",
       "      Bokeh.index[id].model.document.clear();\n",
       "      delete Bokeh.index[id];\n",
       "    }\n",
       "\n",
       "    if (server_id !== undefined) {\n",
       "      // Clean up Bokeh references\n",
       "      var cmd = \"from bokeh.io.state import curstate; print(curstate().uuid_to_server['\" + server_id + \"'].get_sessions()[0].document.roots[0]._id)\";\n",
       "      cell.notebook.kernel.execute(cmd, {\n",
       "        iopub: {\n",
       "          output: function(msg) {\n",
       "            var id = msg.content.text.trim();\n",
       "            if (id in Bokeh.index) {\n",
       "              Bokeh.index[id].model.document.clear();\n",
       "              delete Bokeh.index[id];\n",
       "            }\n",
       "          }\n",
       "        }\n",
       "      });\n",
       "      // Destroy server and session\n",
       "      var cmd = \"import bokeh.io.notebook as ion; ion.destroy_server('\" + server_id + \"')\";\n",
       "      cell.notebook.kernel.execute(cmd);\n",
       "    }\n",
       "  }\n",
       "\n",
       "  /**\n",
       "   * Handle when a new output is added\n",
       "   */\n",
       "  function handleAddOutput(event, handle) {\n",
       "    var output_area = handle.output_area;\n",
       "    var output = handle.output;\n",
       "\n",
       "    // limit handleAddOutput to display_data with EXEC_MIME_TYPE content only\n",
       "    if ((output.output_type != \"display_data\") || (!output.data.hasOwnProperty(EXEC_MIME_TYPE))) {\n",
       "      return\n",
       "    }\n",
       "\n",
       "    var toinsert = output_area.element.find(\".\" + CLASS_NAME.split(' ')[0]);\n",
       "\n",
       "    if (output.metadata[EXEC_MIME_TYPE][\"id\"] !== undefined) {\n",
       "      toinsert[toinsert.length - 1].firstChild.textContent = output.data[JS_MIME_TYPE];\n",
       "      // store reference to embed id on output_area\n",
       "      output_area._bokeh_element_id = output.metadata[EXEC_MIME_TYPE][\"id\"];\n",
       "    }\n",
       "    if (output.metadata[EXEC_MIME_TYPE][\"server_id\"] !== undefined) {\n",
       "      var bk_div = document.createElement(\"div\");\n",
       "      bk_div.innerHTML = output.data[HTML_MIME_TYPE];\n",
       "      var script_attrs = bk_div.children[0].attributes;\n",
       "      for (var i = 0; i < script_attrs.length; i++) {\n",
       "        toinsert[toinsert.length - 1].firstChild.setAttribute(script_attrs[i].name, script_attrs[i].value);\n",
       "      }\n",
       "      // store reference to server id on output_area\n",
       "      output_area._bokeh_server_id = output.metadata[EXEC_MIME_TYPE][\"server_id\"];\n",
       "    }\n",
       "  }\n",
       "\n",
       "  function register_renderer(events, OutputArea) {\n",
       "\n",
       "    function append_mime(data, metadata, element) {\n",
       "      // create a DOM node to render to\n",
       "      var toinsert = this.create_output_subarea(\n",
       "        metadata,\n",
       "        CLASS_NAME,\n",
       "        EXEC_MIME_TYPE\n",
       "      );\n",
       "      this.keyboard_manager.register_events(toinsert);\n",
       "      // Render to node\n",
       "      var props = {data: data, metadata: metadata[EXEC_MIME_TYPE]};\n",
       "      render(props, toinsert[toinsert.length - 1]);\n",
       "      element.append(toinsert);\n",
       "      return toinsert\n",
       "    }\n",
       "\n",
       "    /* Handle when an output is cleared or removed */\n",
       "    events.on('clear_output.CodeCell', handleClearOutput);\n",
       "    events.on('delete.Cell', handleClearOutput);\n",
       "\n",
       "    /* Handle when a new output is added */\n",
       "    events.on('output_added.OutputArea', handleAddOutput);\n",
       "\n",
       "    /**\n",
       "     * Register the mime type and append_mime function with output_area\n",
       "     */\n",
       "    OutputArea.prototype.register_mime_type(EXEC_MIME_TYPE, append_mime, {\n",
       "      /* Is output safe? */\n",
       "      safe: true,\n",
       "      /* Index of renderer in `output_area.display_order` */\n",
       "      index: 0\n",
       "    });\n",
       "  }\n",
       "\n",
       "  // register the mime type if in Jupyter Notebook environment and previously unregistered\n",
       "  if (root.Jupyter !== undefined) {\n",
       "    var events = require('base/js/events');\n",
       "    var OutputArea = require('notebook/js/outputarea').OutputArea;\n",
       "\n",
       "    if (OutputArea.prototype.mime_types().indexOf(EXEC_MIME_TYPE) == -1) {\n",
       "      register_renderer(events, OutputArea);\n",
       "    }\n",
       "  }\n",
       "\n",
       "  \n",
       "  if (typeof (root._bokeh_timeout) === \"undefined\" || force === true) {\n",
       "    root._bokeh_timeout = Date.now() + 5000;\n",
       "    root._bokeh_failed_load = false;\n",
       "  }\n",
       "\n",
       "  var NB_LOAD_WARNING = {'data': {'text/html':\n",
       "     \"<div style='background-color: #fdd'>\\n\"+\n",
       "     \"<p>\\n\"+\n",
       "     \"BokehJS does not appear to have successfully loaded. If loading BokehJS from CDN, this \\n\"+\n",
       "     \"may be due to a slow or bad network connection. Possible fixes:\\n\"+\n",
       "     \"</p>\\n\"+\n",
       "     \"<ul>\\n\"+\n",
       "     \"<li>re-rerun `output_notebook()` to attempt to load from CDN again, or</li>\\n\"+\n",
       "     \"<li>use INLINE resources instead, as so:</li>\\n\"+\n",
       "     \"</ul>\\n\"+\n",
       "     \"<code>\\n\"+\n",
       "     \"from bokeh.resources import INLINE\\n\"+\n",
       "     \"output_notebook(resources=INLINE)\\n\"+\n",
       "     \"</code>\\n\"+\n",
       "     \"</div>\"}};\n",
       "\n",
       "  function display_loaded() {\n",
       "    var el = document.getElementById(\"1001\");\n",
       "    if (el != null) {\n",
       "      el.textContent = \"BokehJS is loading...\";\n",
       "    }\n",
       "    if (root.Bokeh !== undefined) {\n",
       "      if (el != null) {\n",
       "        el.textContent = \"BokehJS \" + root.Bokeh.version + \" successfully loaded.\";\n",
       "      }\n",
       "    } else if (Date.now() < root._bokeh_timeout) {\n",
       "      setTimeout(display_loaded, 100)\n",
       "    }\n",
       "  }\n",
       "\n",
       "\n",
       "  function run_callbacks() {\n",
       "    try {\n",
       "      root._bokeh_onload_callbacks.forEach(function(callback) {\n",
       "        if (callback != null)\n",
       "          callback();\n",
       "      });\n",
       "    } finally {\n",
       "      delete root._bokeh_onload_callbacks\n",
       "    }\n",
       "    console.debug(\"Bokeh: all callbacks have finished\");\n",
       "  }\n",
       "\n",
       "  function load_libs(css_urls, js_urls, callback) {\n",
       "    if (css_urls == null) css_urls = [];\n",
       "    if (js_urls == null) js_urls = [];\n",
       "\n",
       "    root._bokeh_onload_callbacks.push(callback);\n",
       "    if (root._bokeh_is_loading > 0) {\n",
       "      console.debug(\"Bokeh: BokehJS is being loaded, scheduling callback at\", now());\n",
       "      return null;\n",
       "    }\n",
       "    if (js_urls == null || js_urls.length === 0) {\n",
       "      run_callbacks();\n",
       "      return null;\n",
       "    }\n",
       "    console.debug(\"Bokeh: BokehJS not loaded, scheduling load and callback at\", now());\n",
       "    root._bokeh_is_loading = css_urls.length + js_urls.length;\n",
       "\n",
       "    function on_load() {\n",
       "      root._bokeh_is_loading--;\n",
       "      if (root._bokeh_is_loading === 0) {\n",
       "        console.debug(\"Bokeh: all BokehJS libraries/stylesheets loaded\");\n",
       "        run_callbacks()\n",
       "      }\n",
       "    }\n",
       "\n",
       "    function on_error() {\n",
       "      console.error(\"failed to load \" + url);\n",
       "    }\n",
       "\n",
       "    for (var i = 0; i < css_urls.length; i++) {\n",
       "      var url = css_urls[i];\n",
       "      const element = document.createElement(\"link\");\n",
       "      element.onload = on_load;\n",
       "      element.onerror = on_error;\n",
       "      element.rel = \"stylesheet\";\n",
       "      element.type = \"text/css\";\n",
       "      element.href = url;\n",
       "      console.debug(\"Bokeh: injecting link tag for BokehJS stylesheet: \", url);\n",
       "      document.body.appendChild(element);\n",
       "    }\n",
       "\n",
       "    for (var i = 0; i < js_urls.length; i++) {\n",
       "      var url = js_urls[i];\n",
       "      var element = document.createElement('script');\n",
       "      element.onload = on_load;\n",
       "      element.onerror = on_error;\n",
       "      element.async = false;\n",
       "      element.src = url;\n",
       "      console.debug(\"Bokeh: injecting script tag for BokehJS library: \", url);\n",
       "      document.head.appendChild(element);\n",
       "    }\n",
       "  };var element = document.getElementById(\"1001\");\n",
       "  if (element == null) {\n",
       "    console.error(\"Bokeh: ERROR: autoload.js configured with elementid '1001' but no matching script tag was found. \")\n",
       "    return false;\n",
       "  }\n",
       "\n",
       "  function inject_raw_css(css) {\n",
       "    const element = document.createElement(\"style\");\n",
       "    element.appendChild(document.createTextNode(css));\n",
       "    document.body.appendChild(element);\n",
       "  }\n",
       "\n",
       "  \n",
       "  var js_urls = [\"https://cdn.pydata.org/bokeh/release/bokeh-1.4.0.min.js\", \"https://cdn.pydata.org/bokeh/release/bokeh-widgets-1.4.0.min.js\", \"https://cdn.pydata.org/bokeh/release/bokeh-tables-1.4.0.min.js\", \"https://cdn.pydata.org/bokeh/release/bokeh-gl-1.4.0.min.js\"];\n",
       "  var css_urls = [];\n",
       "  \n",
       "\n",
       "  var inline_js = [\n",
       "    function(Bokeh) {\n",
       "      Bokeh.set_log_level(\"info\");\n",
       "    },\n",
       "    function(Bokeh) {\n",
       "    \n",
       "    \n",
       "    }\n",
       "  ];\n",
       "\n",
       "  function run_inline_js() {\n",
       "    \n",
       "    if (root.Bokeh !== undefined || force === true) {\n",
       "      \n",
       "    for (var i = 0; i < inline_js.length; i++) {\n",
       "      inline_js[i].call(root, root.Bokeh);\n",
       "    }\n",
       "    if (force === true) {\n",
       "        display_loaded();\n",
       "      }} else if (Date.now() < root._bokeh_timeout) {\n",
       "      setTimeout(run_inline_js, 100);\n",
       "    } else if (!root._bokeh_failed_load) {\n",
       "      console.log(\"Bokeh: BokehJS failed to load within specified timeout.\");\n",
       "      root._bokeh_failed_load = true;\n",
       "    } else if (force !== true) {\n",
       "      var cell = $(document.getElementById(\"1001\")).parents('.cell').data().cell;\n",
       "      cell.output_area.append_execute_result(NB_LOAD_WARNING)\n",
       "    }\n",
       "\n",
       "  }\n",
       "\n",
       "  if (root._bokeh_is_loading === 0) {\n",
       "    console.debug(\"Bokeh: BokehJS loaded, going straight to plotting\");\n",
       "    run_inline_js();\n",
       "  } else {\n",
       "    load_libs(css_urls, js_urls, function() {\n",
       "      console.debug(\"Bokeh: BokehJS plotting callback run at\", now());\n",
       "      run_inline_js();\n",
       "    });\n",
       "  }\n",
       "}(window));"
      ],
      "application/vnd.bokehjs_load.v0+json": "\n(function(root) {\n  function now() {\n    return new Date();\n  }\n\n  var force = true;\n\n  if (typeof root._bokeh_onload_callbacks === \"undefined\" || force === true) {\n    root._bokeh_onload_callbacks = [];\n    root._bokeh_is_loading = undefined;\n  }\n\n  \n\n  \n  if (typeof (root._bokeh_timeout) === \"undefined\" || force === true) {\n    root._bokeh_timeout = Date.now() + 5000;\n    root._bokeh_failed_load = false;\n  }\n\n  var NB_LOAD_WARNING = {'data': {'text/html':\n     \"<div style='background-color: #fdd'>\\n\"+\n     \"<p>\\n\"+\n     \"BokehJS does not appear to have successfully loaded. If loading BokehJS from CDN, this \\n\"+\n     \"may be due to a slow or bad network connection. Possible fixes:\\n\"+\n     \"</p>\\n\"+\n     \"<ul>\\n\"+\n     \"<li>re-rerun `output_notebook()` to attempt to load from CDN again, or</li>\\n\"+\n     \"<li>use INLINE resources instead, as so:</li>\\n\"+\n     \"</ul>\\n\"+\n     \"<code>\\n\"+\n     \"from bokeh.resources import INLINE\\n\"+\n     \"output_notebook(resources=INLINE)\\n\"+\n     \"</code>\\n\"+\n     \"</div>\"}};\n\n  function display_loaded() {\n    var el = document.getElementById(\"1001\");\n    if (el != null) {\n      el.textContent = \"BokehJS is loading...\";\n    }\n    if (root.Bokeh !== undefined) {\n      if (el != null) {\n        el.textContent = \"BokehJS \" + root.Bokeh.version + \" successfully loaded.\";\n      }\n    } else if (Date.now() < root._bokeh_timeout) {\n      setTimeout(display_loaded, 100)\n    }\n  }\n\n\n  function run_callbacks() {\n    try {\n      root._bokeh_onload_callbacks.forEach(function(callback) {\n        if (callback != null)\n          callback();\n      });\n    } finally {\n      delete root._bokeh_onload_callbacks\n    }\n    console.debug(\"Bokeh: all callbacks have finished\");\n  }\n\n  function load_libs(css_urls, js_urls, callback) {\n    if (css_urls == null) css_urls = [];\n    if (js_urls == null) js_urls = [];\n\n    root._bokeh_onload_callbacks.push(callback);\n    if (root._bokeh_is_loading > 0) {\n      console.debug(\"Bokeh: BokehJS is being loaded, scheduling callback at\", now());\n      return null;\n    }\n    if (js_urls == null || js_urls.length === 0) {\n      run_callbacks();\n      return null;\n    }\n    console.debug(\"Bokeh: BokehJS not loaded, scheduling load and callback at\", now());\n    root._bokeh_is_loading = css_urls.length + js_urls.length;\n\n    function on_load() {\n      root._bokeh_is_loading--;\n      if (root._bokeh_is_loading === 0) {\n        console.debug(\"Bokeh: all BokehJS libraries/stylesheets loaded\");\n        run_callbacks()\n      }\n    }\n\n    function on_error() {\n      console.error(\"failed to load \" + url);\n    }\n\n    for (var i = 0; i < css_urls.length; i++) {\n      var url = css_urls[i];\n      const element = document.createElement(\"link\");\n      element.onload = on_load;\n      element.onerror = on_error;\n      element.rel = \"stylesheet\";\n      element.type = \"text/css\";\n      element.href = url;\n      console.debug(\"Bokeh: injecting link tag for BokehJS stylesheet: \", url);\n      document.body.appendChild(element);\n    }\n\n    for (var i = 0; i < js_urls.length; i++) {\n      var url = js_urls[i];\n      var element = document.createElement('script');\n      element.onload = on_load;\n      element.onerror = on_error;\n      element.async = false;\n      element.src = url;\n      console.debug(\"Bokeh: injecting script tag for BokehJS library: \", url);\n      document.head.appendChild(element);\n    }\n  };var element = document.getElementById(\"1001\");\n  if (element == null) {\n    console.error(\"Bokeh: ERROR: autoload.js configured with elementid '1001' but no matching script tag was found. \")\n    return false;\n  }\n\n  function inject_raw_css(css) {\n    const element = document.createElement(\"style\");\n    element.appendChild(document.createTextNode(css));\n    document.body.appendChild(element);\n  }\n\n  \n  var js_urls = [\"https://cdn.pydata.org/bokeh/release/bokeh-1.4.0.min.js\", \"https://cdn.pydata.org/bokeh/release/bokeh-widgets-1.4.0.min.js\", \"https://cdn.pydata.org/bokeh/release/bokeh-tables-1.4.0.min.js\", \"https://cdn.pydata.org/bokeh/release/bokeh-gl-1.4.0.min.js\"];\n  var css_urls = [];\n  \n\n  var inline_js = [\n    function(Bokeh) {\n      Bokeh.set_log_level(\"info\");\n    },\n    function(Bokeh) {\n    \n    \n    }\n  ];\n\n  function run_inline_js() {\n    \n    if (root.Bokeh !== undefined || force === true) {\n      \n    for (var i = 0; i < inline_js.length; i++) {\n      inline_js[i].call(root, root.Bokeh);\n    }\n    if (force === true) {\n        display_loaded();\n      }} else if (Date.now() < root._bokeh_timeout) {\n      setTimeout(run_inline_js, 100);\n    } else if (!root._bokeh_failed_load) {\n      console.log(\"Bokeh: BokehJS failed to load within specified timeout.\");\n      root._bokeh_failed_load = true;\n    } else if (force !== true) {\n      var cell = $(document.getElementById(\"1001\")).parents('.cell').data().cell;\n      cell.output_area.append_execute_result(NB_LOAD_WARNING)\n    }\n\n  }\n\n  if (root._bokeh_is_loading === 0) {\n    console.debug(\"Bokeh: BokehJS loaded, going straight to plotting\");\n    run_inline_js();\n  } else {\n    load_libs(css_urls, js_urls, function() {\n      console.debug(\"Bokeh: BokehJS plotting callback run at\", now());\n      run_inline_js();\n    });\n  }\n}(window));"
     },
     "metadata": {},
     "output_type": "display_data"
    }
   ],
   "source": [
    "from bokeh.io import show, output_notebook\n",
    "from bokeh.layouts import gridplot\n",
    "output_notebook()"
   ]
  },
  {
   "cell_type": "code",
   "execution_count": 4,
   "id": "d487a2c3-e93e-47a2-a593-2c808615a863",
   "metadata": {
    "tags": []
   },
   "outputs": [],
   "source": [
    "%load_ext autoreload\n",
    "%autoreload 2"
   ]
  },
  {
   "cell_type": "code",
   "execution_count": 5,
   "id": "06b1e113-3d6a-4a63-a05d-cff7100ac25b",
   "metadata": {
    "tags": []
   },
   "outputs": [],
   "source": [
    "from oligogenic_model import prep_pl_for_skat, run_skat_log, run_skat_for_mts"
   ]
  },
  {
   "cell_type": "code",
   "execution_count": 8,
   "id": "6c6b9a4c-f9a6-4d83-bd9a-e47411f65c47",
   "metadata": {
    "tags": []
   },
   "outputs": [],
   "source": [
    "mts = []\n",
    "\n",
    "for i in list(range(1,11)):\n",
    "    \n",
    "    mt = hl.read_matrix_table(\n",
    "        localfs_path+'after_pca_no_filters_gts_vs_pol_subseted'+str(i)+'.mt'\n",
    "    )\n",
    "    mts.append(mt)"
   ]
  },
  {
   "cell_type": "markdown",
   "id": "dcbe2597-bd67-42dd-b617-9863d209b5e9",
   "metadata": {
    "tags": []
   },
   "source": [
    "### Run SKAT for pl with zeros vs controls"
   ]
  },
  {
   "cell_type": "markdown",
   "id": "6d1e2140-0151-45b4-8b0d-ffc04dcf953c",
   "metadata": {
    "tags": []
   },
   "source": [
    "#### annotate each of the mts with nearest genes and chekpoint:"
   ]
  },
  {
   "cell_type": "code",
   "execution_count": null,
   "id": "f3e1e10a-d2bf-48d9-a3dc-5309306acf1d",
   "metadata": {
    "tags": []
   },
   "outputs": [
    {
     "name": "stderr",
     "output_type": "stream",
     "text": [
      "2023-07-30 16:20:20.827 Hail: INFO: Reading table without type imputation\n",
      "  Loading field 'f0' as type str (not specified)\n",
      "  Loading field 'f1' as type str (not specified)\n",
      "  Loading field 'f2' as type str (not specified)\n",
      "  Loading field 'f3' as type str (not specified)\n",
      "  Loading field 'f4' as type str (not specified)\n",
      "  Loading field 'f5' as type str (not specified)\n",
      "  Loading field 'f6' as type str (not specified)\n",
      "  Loading field 'f7' as type str (not specified)\n",
      "  Loading field 'f8' as type str (not specified)\n",
      "2023-07-30 16:20:21.844 Hail: INFO: Reading table without type imputation\n",
      "  Loading field 'Gene stable ID' as type str (not specified)\n",
      "  Loading field 'UniProtKB Gene Name symbol' as type str (not specified)\n",
      "2023-07-30 16:20:25.865 Hail: INFO: Ordering unsorted dataset with network shuffle\n",
      "2023-07-30 16:20:26.407 Hail: INFO: Ordering unsorted dataset with network shuffle\n",
      "2023-07-30 16:20:29.735 Hail: INFO: Ordering unsorted dataset with network shuffle\n",
      "2023-07-30 16:35:48.580 Hail: INFO: wrote matrix table with 3261283 rows and 137 columns in 488 partitions to /localfs/4204276/_0_temp.mt\n",
      "    Total size: 21.92 GiB\n",
      "    * Rows/entries: 21.92 GiB\n",
      "    * Columns: 44.66 KiB\n",
      "    * Globals: 11.00 B\n",
      "    * Smallest partition: 0 rows (20.00 B)\n",
      "    * Largest partition:  22035 rows (135.15 MiB)\n",
      "[Stage 14:=>                                                    (14 + 12) / 488]\r"
     ]
    }
   ],
   "source": [
    "mts = prep_pl_for_skat(mts)"
   ]
  },
  {
   "cell_type": "markdown",
   "id": "47aa91a7-1ecb-4964-9bd0-20e27deb38bf",
   "metadata": {
    "tags": []
   },
   "source": [
    "## Run SKAT for polish samples (9 different subsets) and GTS on scores, for all genes:"
   ]
  },
  {
   "cell_type": "code",
   "execution_count": null,
   "id": "9fd4dff5-736c-4fa8-831d-54b875d30a2d",
   "metadata": {
    "tags": []
   },
   "outputs": [],
   "source": [
    "mts = []\n",
    "\n",
    "for i in list(range(10)):\n",
    "    mt = hl.read_matrix_table(localfs_path+'_pl_'+str(i)+'annot.mt')\n",
    "    mts.append(mt)"
   ]
  },
  {
   "cell_type": "code",
   "execution_count": null,
   "id": "7e1193b4-4375-4382-91e0-28b4bc787435",
   "metadata": {
    "tags": []
   },
   "outputs": [],
   "source": [
    "len(mts)"
   ]
  },
  {
   "cell_type": "code",
   "execution_count": null,
   "id": "86b16b8b-8924-412b-bc81-c0b531be7585",
   "metadata": {
    "tags": []
   },
   "outputs": [],
   "source": [
    "skat_tables, plots, options = run_skat_for_mts(mts)"
   ]
  },
  {
   "cell_type": "code",
   "execution_count": null,
   "id": "bf57de11-8771-4c68-8205-ed376dec3f4d",
   "metadata": {
    "tags": []
   },
   "outputs": [],
   "source": [
    "skat_tables = []\n",
    "lambdas = []\n",
    "\n",
    "for x in list(range(1,10)):\n",
    "    for i in list(range(9)):\n",
    "        \n",
    "        if os.path.exists(\n",
    "                localfs_path+'skat_table_'+str(x)+'_scores_no_filter_part_'+str(i)+'.mt'\n",
    "            ):\n",
    "            skat_table = hl.read_table(\n",
    "                    localfs_path+'skat_table_'+str(x)+'_scores_no_filter_part_'+str(i)+'.mt'\n",
    "                )\n",
    "            print('skat_table_'+str(x)+'_scores_'+str(i)+'.mt')\n",
    "\n",
    "            print(hl.lambda_gc(skat_table.p_value))\n",
    "            lambdas.append(hl.lambda_gc(skat_table.p_value))\n",
    "            skat_tables.append(skat_table)\n",
    "\n",
    "            p = hl.plot.qq(skat_table.p_value)\n",
    "            show(p)"
   ]
  },
  {
   "cell_type": "code",
   "execution_count": null,
   "id": "8392106e-d4d0-4a8c-9643-4eea2e618e70",
   "metadata": {
    "tags": []
   },
   "outputs": [],
   "source": [
    "skat_tables = []\n",
    "\n",
    "for x in list(range(20)):\n",
    "    \n",
    "    lambdas = []\n",
    "    \n",
    "    for i in list(range(9)):\n",
    "        \n",
    "        if os.path.exists(\n",
    "                localfs_path+'skat_table_'+str(x)+'_scores_no_filter_part_'+str(i)+'.mt'\n",
    "            ):\n",
    "            skat_table = hl.read_table(\n",
    "                    localfs_path+'skat_table_'+str(x)+'_scores_no_filter_part_'+str(i)+'.mt'\n",
    "                )\n",
    "            print('skat_table_'+str(x)+'_scores_no_filter_'+str(i)+'.mt')\n",
    "\n",
    "            lambdas.append(hl.lambda_gc(skat_table.p_value))\n",
    "            skat_tables.append(skat_table)\n",
    "            \n",
    "    print(lambdas)\n",
    "    print(np.median(np.array(lambdas)))         "
   ]
  },
  {
   "cell_type": "markdown",
   "id": "10b0c0f8-88cc-46b9-844d-063fc9a71fbe",
   "metadata": {},
   "source": [
    "### Now run the same tests but in selected genes for best parameters"
   ]
  },
  {
   "cell_type": "code",
   "execution_count": null,
   "id": "62238677-c9af-4517-8969-442cc2efe7f1",
   "metadata": {
    "tags": []
   },
   "outputs": [],
   "source": [
    "mts = []\n",
    "\n",
    "for i in list(range(9)):\n",
    "    mt = hl.read_matrix_table(localfs_path+'_pl_'+str(i)+'annot.mt')\n",
    "    mts.append(mt)\n",
    "\n",
    "skat_tables = []\n",
    "plots = []\n",
    "\n",
    "gene_list = ['DCC', 'RBFOX', 'SLC30A9', 'DCAF4L1', 'SORCS3', 'KCNQ5', 'KCNQ-IT1', 'APOPT1', 'C14orf2', 'NAA11', 'NEGR1',\n",
    "        'CHADL', 'SOX5', 'PANK2', 'COL27A1', 'PDGFB', 'CELSR3', 'OPA1', 'FBN2', 'WWC1', 'NIPBL', \n",
    "             'FN1', 'FBN2', 'SLITRK1', 'SLITRK2', 'SLITRK3', 'SLITRK4', 'SLITRK5', 'SLITRK6', \n",
    "             'HDC', 'OPRK1', 'PCDH10', 'NTSR2', 'CHD8', 'SCUBE1', 'PNKD', 'CNTNAP2', 'MOG', \n",
    "             'DRD2', 'DRD3', 'DRD4', 'DRD5', 'DAT1', 'DBH', 'HTR2A', 'TPH2', 'EAAT1', 'SAPAP3',\n",
    "            'CTNNA3', 'NLGN4', 'FSCB', 'IMMP2L', 'NRXN1', 'AADAC', 'DBH', 'MAOA', 'HTR1A', 'HTR2C', 'SLC6A4',\n",
    "             'TPH2', 'COL27A1', '5-HTTLPR', 'EAAT1', 'COL8A1', 'KCNE1', 'KCNE2',\n",
    "         'RICTOR', 'WWC1', 'CELSR3, NIPBL', 'FN1', 'PNKD', 'CDH26', 'CADM2', 'OPCML', 'CDH9',\n",
    "         'NCAM2', 'CD47', 'CDH5', 'CADM4', 'C1QBP', 'CTTN', 'LSAMP',\n",
    "         'PKP4', 'PCDH1', 'CNTNAP2', 'MBP', 'GABBR2', 'GABBR2', 'GRIK4', 'NCR1', 'FLT3', 'IL12A', 'HDAC9',\n",
    "         'CD180', 'CDH26', 'NCAM2', 'NTM', 'ROBO2', 'NR2F1', 'ASH1L', 'FLT3']"
   ]
  },
  {
   "cell_type": "code",
   "execution_count": null,
   "id": "28337517-a794-4d5c-b252-c0d88978f498",
   "metadata": {
    "tags": []
   },
   "outputs": [
    {
     "name": "stderr",
     "output_type": "stream",
     "text": [
      "2023-07-15 23:15:20.505 Hail: INFO: Ordering unsorted dataset with network shuffle\n",
      "2023-07-15 23:15:22.328 Hail: INFO: wrote table with 75 rows in 75 partitions to /localfs/3948668/tmp_hail/persist_tableMeMw5RFQbz\n",
      "    Total size: 5.65 KiB\n",
      "    * Rows: 5.64 KiB\n",
      "    * Globals: 11.00 B\n",
      "    * Smallest partition: 1 rows (55.00 B)\n",
      "    * Largest partition:  1 rows (85.00 B)\n",
      "2023-07-15 23:15:23.276 Hail: INFO: wrote table with 75 rows in 75 partitions to /localfs/3948668/skat_table_8_scores_no_filter_polish_without_0.mt\n",
      "2023-07-15 23:15:23.884 Hail: INFO: Coerced sorted dataset\n",
      "2023-07-15 23:15:23.888 Hail: INFO: Coerced dataset with out-of-order partitions.\n"
     ]
    },
    {
     "data": {
      "text/html": [
       "<table><thead><tr><td style=\"white-space: nowrap; max-width: 500px; overflow: hidden; text-overflow: ellipsis; \" colspan=\"1\"><div style=\"text-align: left;\"></div></td><td style=\"white-space: nowrap; max-width: 500px; overflow: hidden; text-overflow: ellipsis; \" colspan=\"1\"><div style=\"text-align: left;\"></div></td><td style=\"white-space: nowrap; max-width: 500px; overflow: hidden; text-overflow: ellipsis; \" colspan=\"1\"><div style=\"text-align: left;\"></div></td><td style=\"white-space: nowrap; max-width: 500px; overflow: hidden; text-overflow: ellipsis; \" colspan=\"1\"><div style=\"text-align: left;\"></div></td><td style=\"white-space: nowrap; max-width: 500px; overflow: hidden; text-overflow: ellipsis; \" colspan=\"1\"><div style=\"text-align: left;\"></div></td></tr><tr><td style=\"white-space: nowrap; max-width: 500px; overflow: hidden; text-overflow: ellipsis; \" colspan=\"1\"><div style=\"text-align: left;border-bottom: solid 2px #000; padding-bottom: 5px\">id</div></td><td style=\"white-space: nowrap; max-width: 500px; overflow: hidden; text-overflow: ellipsis; \" colspan=\"1\"><div style=\"text-align: left;border-bottom: solid 2px #000; padding-bottom: 5px\">size</div></td><td style=\"white-space: nowrap; max-width: 500px; overflow: hidden; text-overflow: ellipsis; \" colspan=\"1\"><div style=\"text-align: left;border-bottom: solid 2px #000; padding-bottom: 5px\">q_stat</div></td><td style=\"white-space: nowrap; max-width: 500px; overflow: hidden; text-overflow: ellipsis; \" colspan=\"1\"><div style=\"text-align: left;border-bottom: solid 2px #000; padding-bottom: 5px\">p_value</div></td><td style=\"white-space: nowrap; max-width: 500px; overflow: hidden; text-overflow: ellipsis; \" colspan=\"1\"><div style=\"text-align: left;border-bottom: solid 2px #000; padding-bottom: 5px\">fault</div></td></tr><tr><td style=\"white-space: nowrap; max-width: 500px; overflow: hidden; text-overflow: ellipsis; text-align: left;\">str</td><td style=\"white-space: nowrap; max-width: 500px; overflow: hidden; text-overflow: ellipsis; text-align: left;\">int32</td><td style=\"white-space: nowrap; max-width: 500px; overflow: hidden; text-overflow: ellipsis; text-align: left;\">float64</td><td style=\"white-space: nowrap; max-width: 500px; overflow: hidden; text-overflow: ellipsis; text-align: left;\">float64</td><td style=\"white-space: nowrap; max-width: 500px; overflow: hidden; text-overflow: ellipsis; text-align: left;\">int32</td></tr>\n",
       "</thead><tbody><tr><td style=\"white-space: nowrap; max-width: 500px; overflow: hidden; text-overflow: ellipsis; \">&quot;CHADL&quot;</td><td style=\"white-space: nowrap; max-width: 500px; overflow: hidden; text-overflow: ellipsis; \">96</td><td style=\"white-space: nowrap; max-width: 500px; overflow: hidden; text-overflow: ellipsis; \">3.30e+03</td><td style=\"white-space: nowrap; max-width: 500px; overflow: hidden; text-overflow: ellipsis; \">2.84e-04</td><td style=\"white-space: nowrap; max-width: 500px; overflow: hidden; text-overflow: ellipsis; \">0</td></tr>\n",
       "<tr><td style=\"white-space: nowrap; max-width: 500px; overflow: hidden; text-overflow: ellipsis; \">&quot;PCDH10&quot;</td><td style=\"white-space: nowrap; max-width: 500px; overflow: hidden; text-overflow: ellipsis; \">236</td><td style=\"white-space: nowrap; max-width: 500px; overflow: hidden; text-overflow: ellipsis; \">4.03e+03</td><td style=\"white-space: nowrap; max-width: 500px; overflow: hidden; text-overflow: ellipsis; \">9.54e-04</td><td style=\"white-space: nowrap; max-width: 500px; overflow: hidden; text-overflow: ellipsis; \">0</td></tr>\n",
       "<tr><td style=\"white-space: nowrap; max-width: 500px; overflow: hidden; text-overflow: ellipsis; \">&quot;DRD2&quot;</td><td style=\"white-space: nowrap; max-width: 500px; overflow: hidden; text-overflow: ellipsis; \">216</td><td style=\"white-space: nowrap; max-width: 500px; overflow: hidden; text-overflow: ellipsis; \">3.50e+03</td><td style=\"white-space: nowrap; max-width: 500px; overflow: hidden; text-overflow: ellipsis; \">1.09e-03</td><td style=\"white-space: nowrap; max-width: 500px; overflow: hidden; text-overflow: ellipsis; \">0</td></tr>\n",
       "<tr><td style=\"white-space: nowrap; max-width: 500px; overflow: hidden; text-overflow: ellipsis; \">&quot;SORCS3&quot;</td><td style=\"white-space: nowrap; max-width: 500px; overflow: hidden; text-overflow: ellipsis; \">1318</td><td style=\"white-space: nowrap; max-width: 500px; overflow: hidden; text-overflow: ellipsis; \">1.87e+04</td><td style=\"white-space: nowrap; max-width: 500px; overflow: hidden; text-overflow: ellipsis; \">1.73e-03</td><td style=\"white-space: nowrap; max-width: 500px; overflow: hidden; text-overflow: ellipsis; \">0</td></tr>\n",
       "<tr><td style=\"white-space: nowrap; max-width: 500px; overflow: hidden; text-overflow: ellipsis; \">&quot;CDH9&quot;</td><td style=\"white-space: nowrap; max-width: 500px; overflow: hidden; text-overflow: ellipsis; \">448</td><td style=\"white-space: nowrap; max-width: 500px; overflow: hidden; text-overflow: ellipsis; \">4.43e+03</td><td style=\"white-space: nowrap; max-width: 500px; overflow: hidden; text-overflow: ellipsis; \">2.53e-03</td><td style=\"white-space: nowrap; max-width: 500px; overflow: hidden; text-overflow: ellipsis; \">0</td></tr>\n",
       "<tr><td style=\"white-space: nowrap; max-width: 500px; overflow: hidden; text-overflow: ellipsis; \">&quot;MAOA&quot;</td><td style=\"white-space: nowrap; max-width: 500px; overflow: hidden; text-overflow: ellipsis; \">6</td><td style=\"white-space: nowrap; max-width: 500px; overflow: hidden; text-overflow: ellipsis; \">8.71e+01</td><td style=\"white-space: nowrap; max-width: 500px; overflow: hidden; text-overflow: ellipsis; \">3.07e-03</td><td style=\"white-space: nowrap; max-width: 500px; overflow: hidden; text-overflow: ellipsis; \">0</td></tr>\n",
       "<tr><td style=\"white-space: nowrap; max-width: 500px; overflow: hidden; text-overflow: ellipsis; \">&quot;PCDH1&quot;</td><td style=\"white-space: nowrap; max-width: 500px; overflow: hidden; text-overflow: ellipsis; \">112</td><td style=\"white-space: nowrap; max-width: 500px; overflow: hidden; text-overflow: ellipsis; \">3.54e+03</td><td style=\"white-space: nowrap; max-width: 500px; overflow: hidden; text-overflow: ellipsis; \">3.69e-03</td><td style=\"white-space: nowrap; max-width: 500px; overflow: hidden; text-overflow: ellipsis; \">0</td></tr>\n",
       "<tr><td style=\"white-space: nowrap; max-width: 500px; overflow: hidden; text-overflow: ellipsis; \">&quot;CD47&quot;</td><td style=\"white-space: nowrap; max-width: 500px; overflow: hidden; text-overflow: ellipsis; \">169</td><td style=\"white-space: nowrap; max-width: 500px; overflow: hidden; text-overflow: ellipsis; \">2.37e+03</td><td style=\"white-space: nowrap; max-width: 500px; overflow: hidden; text-overflow: ellipsis; \">6.47e-03</td><td style=\"white-space: nowrap; max-width: 500px; overflow: hidden; text-overflow: ellipsis; \">0</td></tr>\n",
       "<tr><td style=\"white-space: nowrap; max-width: 500px; overflow: hidden; text-overflow: ellipsis; \">&quot;SLITRK5&quot;</td><td style=\"white-space: nowrap; max-width: 500px; overflow: hidden; text-overflow: ellipsis; \">138</td><td style=\"white-space: nowrap; max-width: 500px; overflow: hidden; text-overflow: ellipsis; \">1.25e+03</td><td style=\"white-space: nowrap; max-width: 500px; overflow: hidden; text-overflow: ellipsis; \">8.96e-03</td><td style=\"white-space: nowrap; max-width: 500px; overflow: hidden; text-overflow: ellipsis; \">0</td></tr>\n",
       "<tr><td style=\"white-space: nowrap; max-width: 500px; overflow: hidden; text-overflow: ellipsis; \">&quot;HTR2A&quot;</td><td style=\"white-space: nowrap; max-width: 500px; overflow: hidden; text-overflow: ellipsis; \">245</td><td style=\"white-space: nowrap; max-width: 500px; overflow: hidden; text-overflow: ellipsis; \">3.05e+03</td><td style=\"white-space: nowrap; max-width: 500px; overflow: hidden; text-overflow: ellipsis; \">1.13e-02</td><td style=\"white-space: nowrap; max-width: 500px; overflow: hidden; text-overflow: ellipsis; \">0</td></tr>\n",
       "<tr><td style=\"white-space: nowrap; max-width: 500px; overflow: hidden; text-overflow: ellipsis; \">&quot;NAA11&quot;</td><td style=\"white-space: nowrap; max-width: 500px; overflow: hidden; text-overflow: ellipsis; \">154</td><td style=\"white-space: nowrap; max-width: 500px; overflow: hidden; text-overflow: ellipsis; \">2.80e+03</td><td style=\"white-space: nowrap; max-width: 500px; overflow: hidden; text-overflow: ellipsis; \">1.54e-02</td><td style=\"white-space: nowrap; max-width: 500px; overflow: hidden; text-overflow: ellipsis; \">0</td></tr>\n",
       "<tr><td style=\"white-space: nowrap; max-width: 500px; overflow: hidden; text-overflow: ellipsis; \">&quot;AADAC&quot;</td><td style=\"white-space: nowrap; max-width: 500px; overflow: hidden; text-overflow: ellipsis; \">131</td><td style=\"white-space: nowrap; max-width: 500px; overflow: hidden; text-overflow: ellipsis; \">2.06e+03</td><td style=\"white-space: nowrap; max-width: 500px; overflow: hidden; text-overflow: ellipsis; \">1.92e-02</td><td style=\"white-space: nowrap; max-width: 500px; overflow: hidden; text-overflow: ellipsis; \">0</td></tr>\n",
       "<tr><td style=\"white-space: nowrap; max-width: 500px; overflow: hidden; text-overflow: ellipsis; \">&quot;KCNQ5&quot;</td><td style=\"white-space: nowrap; max-width: 500px; overflow: hidden; text-overflow: ellipsis; \">1080</td><td style=\"white-space: nowrap; max-width: 500px; overflow: hidden; text-overflow: ellipsis; \">1.11e+04</td><td style=\"white-space: nowrap; max-width: 500px; overflow: hidden; text-overflow: ellipsis; \">2.58e-02</td><td style=\"white-space: nowrap; max-width: 500px; overflow: hidden; text-overflow: ellipsis; \">0</td></tr>\n",
       "<tr><td style=\"white-space: nowrap; max-width: 500px; overflow: hidden; text-overflow: ellipsis; \">&quot;DRD4&quot;</td><td style=\"white-space: nowrap; max-width: 500px; overflow: hidden; text-overflow: ellipsis; \">11</td><td style=\"white-space: nowrap; max-width: 500px; overflow: hidden; text-overflow: ellipsis; \">1.73e+02</td><td style=\"white-space: nowrap; max-width: 500px; overflow: hidden; text-overflow: ellipsis; \">2.59e-02</td><td style=\"white-space: nowrap; max-width: 500px; overflow: hidden; text-overflow: ellipsis; \">0</td></tr>\n",
       "<tr><td style=\"white-space: nowrap; max-width: 500px; overflow: hidden; text-overflow: ellipsis; \">&quot;PDGFB&quot;</td><td style=\"white-space: nowrap; max-width: 500px; overflow: hidden; text-overflow: ellipsis; \">150</td><td style=\"white-space: nowrap; max-width: 500px; overflow: hidden; text-overflow: ellipsis; \">1.73e+03</td><td style=\"white-space: nowrap; max-width: 500px; overflow: hidden; text-overflow: ellipsis; \">2.95e-02</td><td style=\"white-space: nowrap; max-width: 500px; overflow: hidden; text-overflow: ellipsis; \">0</td></tr>\n",
       "<tr><td style=\"white-space: nowrap; max-width: 500px; overflow: hidden; text-overflow: ellipsis; \">&quot;NIPBL&quot;</td><td style=\"white-space: nowrap; max-width: 500px; overflow: hidden; text-overflow: ellipsis; \">203</td><td style=\"white-space: nowrap; max-width: 500px; overflow: hidden; text-overflow: ellipsis; \">1.97e+03</td><td style=\"white-space: nowrap; max-width: 500px; overflow: hidden; text-overflow: ellipsis; \">2.95e-02</td><td style=\"white-space: nowrap; max-width: 500px; overflow: hidden; text-overflow: ellipsis; \">0</td></tr>\n",
       "<tr><td style=\"white-space: nowrap; max-width: 500px; overflow: hidden; text-overflow: ellipsis; \">&quot;CHD8&quot;</td><td style=\"white-space: nowrap; max-width: 500px; overflow: hidden; text-overflow: ellipsis; \">149</td><td style=\"white-space: nowrap; max-width: 500px; overflow: hidden; text-overflow: ellipsis; \">1.01e+03</td><td style=\"white-space: nowrap; max-width: 500px; overflow: hidden; text-overflow: ellipsis; \">3.39e-02</td><td style=\"white-space: nowrap; max-width: 500px; overflow: hidden; text-overflow: ellipsis; \">0</td></tr>\n",
       "<tr><td style=\"white-space: nowrap; max-width: 500px; overflow: hidden; text-overflow: ellipsis; \">&quot;FSCB&quot;</td><td style=\"white-space: nowrap; max-width: 500px; overflow: hidden; text-overflow: ellipsis; \">64</td><td style=\"white-space: nowrap; max-width: 500px; overflow: hidden; text-overflow: ellipsis; \">8.11e+02</td><td style=\"white-space: nowrap; max-width: 500px; overflow: hidden; text-overflow: ellipsis; \">8.38e-02</td><td style=\"white-space: nowrap; max-width: 500px; overflow: hidden; text-overflow: ellipsis; \">0</td></tr>\n",
       "<tr><td style=\"white-space: nowrap; max-width: 500px; overflow: hidden; text-overflow: ellipsis; \">&quot;PKP4&quot;</td><td style=\"white-space: nowrap; max-width: 500px; overflow: hidden; text-overflow: ellipsis; \">661</td><td style=\"white-space: nowrap; max-width: 500px; overflow: hidden; text-overflow: ellipsis; \">8.32e+03</td><td style=\"white-space: nowrap; max-width: 500px; overflow: hidden; text-overflow: ellipsis; \">8.89e-02</td><td style=\"white-space: nowrap; max-width: 500px; overflow: hidden; text-overflow: ellipsis; \">0</td></tr>\n",
       "<tr><td style=\"white-space: nowrap; max-width: 500px; overflow: hidden; text-overflow: ellipsis; \">&quot;HDAC9&quot;</td><td style=\"white-space: nowrap; max-width: 500px; overflow: hidden; text-overflow: ellipsis; \">1956</td><td style=\"white-space: nowrap; max-width: 500px; overflow: hidden; text-overflow: ellipsis; \">1.78e+04</td><td style=\"white-space: nowrap; max-width: 500px; overflow: hidden; text-overflow: ellipsis; \">1.28e-01</td><td style=\"white-space: nowrap; max-width: 500px; overflow: hidden; text-overflow: ellipsis; \">0</td></tr>\n",
       "</tbody></table><p style=\"background: #fdd; padding: 0.4em;\">showing top 20 rows</p>\n"
      ],
      "text/plain": [
       "+-----------+-------+----------+----------+-------+\n",
       "| id        |  size |   q_stat |  p_value | fault |\n",
       "+-----------+-------+----------+----------+-------+\n",
       "| str       | int32 |  float64 |  float64 | int32 |\n",
       "+-----------+-------+----------+----------+-------+\n",
       "| \"CHADL\"   |    96 | 3.30e+03 | 2.84e-04 |     0 |\n",
       "| \"PCDH10\"  |   236 | 4.03e+03 | 9.54e-04 |     0 |\n",
       "| \"DRD2\"    |   216 | 3.50e+03 | 1.09e-03 |     0 |\n",
       "| \"SORCS3\"  |  1318 | 1.87e+04 | 1.73e-03 |     0 |\n",
       "| \"CDH9\"    |   448 | 4.43e+03 | 2.53e-03 |     0 |\n",
       "| \"MAOA\"    |     6 | 8.71e+01 | 3.07e-03 |     0 |\n",
       "| \"PCDH1\"   |   112 | 3.54e+03 | 3.69e-03 |     0 |\n",
       "| \"CD47\"    |   169 | 2.37e+03 | 6.47e-03 |     0 |\n",
       "| \"SLITRK5\" |   138 | 1.25e+03 | 8.96e-03 |     0 |\n",
       "| \"HTR2A\"   |   245 | 3.05e+03 | 1.13e-02 |     0 |\n",
       "| \"NAA11\"   |   154 | 2.80e+03 | 1.54e-02 |     0 |\n",
       "| \"AADAC\"   |   131 | 2.06e+03 | 1.92e-02 |     0 |\n",
       "| \"KCNQ5\"   |  1080 | 1.11e+04 | 2.58e-02 |     0 |\n",
       "| \"DRD4\"    |    11 | 1.73e+02 | 2.59e-02 |     0 |\n",
       "| \"PDGFB\"   |   150 | 1.73e+03 | 2.95e-02 |     0 |\n",
       "| \"NIPBL\"   |   203 | 1.97e+03 | 2.95e-02 |     0 |\n",
       "| \"CHD8\"    |   149 | 1.01e+03 | 3.39e-02 |     0 |\n",
       "| \"FSCB\"    |    64 | 8.11e+02 | 8.38e-02 |     0 |\n",
       "| \"PKP4\"    |   661 | 8.32e+03 | 8.89e-02 |     0 |\n",
       "| \"HDAC9\"   |  1956 | 1.78e+04 | 1.28e-01 |     0 |\n",
       "+-----------+-------+----------+----------+-------+\n",
       "showing top 20 rows"
      ]
     },
     "metadata": {},
     "output_type": "display_data"
    },
    {
     "name": "stderr",
     "output_type": "stream",
     "text": [
      "2023-07-15 23:15:25.386 Hail: INFO: Coerced sorted dataset\n",
      "2023-07-15 23:15:25.388 Hail: INFO: Coerced dataset with out-of-order partitions.\n",
      "/net/pr2/projects/plgrid/plggneuromol/imdik-zekanowski-gts/venv-hail-0.2.113/lib/python3.10/site-packages/bokeh/models/sources.py:235: FutureWarning: iteritems is deprecated and will be removed in a future version. Use .items instead.\n",
      "  tmp_data = {c: v.values for c, v in _df.iteritems()}\n",
      "2023-07-15 23:15:28.617 Hail: INFO: Coerced sorted dataset\n",
      "2023-07-15 23:15:28.619 Hail: INFO: Coerced dataset with out-of-order partitions.\n"
     ]
    },
    {
     "data": {
      "text/html": [
       "\n",
       "\n",
       "\n",
       "\n",
       "\n",
       "\n",
       "  <div class=\"bk-root\" id=\"17c41179-1020-44fc-8f09-c7a4508edd60\" data-root-id=\"35184\"></div>\n"
      ]
     },
     "metadata": {},
     "output_type": "display_data"
    },
    {
     "data": {
      "application/javascript": [
       "(function(root) {\n",
       "  function embed_document(root) {\n",
       "    \n",
       "  var docs_json = {\"970c8270-d524-4e2a-a789-c5ae63ecaa2e\":{\"roots\":{\"references\":[{\"attributes\":{\"below\":[{\"id\":\"35195\",\"type\":\"LinearAxis\"}],\"center\":[{\"id\":\"35199\",\"type\":\"Grid\"},{\"id\":\"35204\",\"type\":\"Grid\"},{\"id\":\"35228\",\"type\":\"Slope\"},{\"id\":\"35229\",\"type\":\"Label\"}],\"left\":[{\"id\":\"35200\",\"type\":\"LinearAxis\"}],\"plot_height\":800,\"plot_width\":800,\"renderers\":[{\"id\":\"35224\",\"type\":\"GlyphRenderer\"}],\"title\":{\"id\":\"35185\",\"type\":\"Title\"},\"toolbar\":{\"id\":\"35211\",\"type\":\"Toolbar\"},\"x_range\":{\"id\":\"35226\",\"type\":\"DataRange1d\"},\"x_scale\":{\"id\":\"35191\",\"type\":\"LinearScale\"},\"y_range\":{\"id\":\"35227\",\"type\":\"DataRange1d\"},\"y_scale\":{\"id\":\"35193\",\"type\":\"LinearScale\"}},\"id\":\"35184\",\"subtype\":\"Figure\",\"type\":\"Plot\"},{\"attributes\":{},\"id\":\"35193\",\"type\":\"LinearScale\"},{\"attributes\":{},\"id\":\"35191\",\"type\":\"LinearScale\"},{\"attributes\":{},\"id\":\"35208\",\"type\":\"SaveTool\"},{\"attributes\":{\"fill_color\":{\"value\":\"#1f77b4\"},\"line_color\":{\"value\":\"#1f77b4\"},\"size\":{\"units\":\"screen\",\"value\":6},\"x\":{\"field\":\"x\"},\"y\":{\"field\":\"y\"}},\"id\":\"35222\",\"type\":\"Circle\"},{\"attributes\":{\"fill_alpha\":{\"value\":0.1},\"fill_color\":{\"value\":\"#1f77b4\"},\"line_alpha\":{\"value\":0.1},\"line_color\":{\"value\":\"#1f77b4\"},\"size\":{\"units\":\"screen\",\"value\":6},\"x\":{\"field\":\"x\"},\"y\":{\"field\":\"y\"}},\"id\":\"35223\",\"type\":\"Circle\"},{\"attributes\":{\"text\":\"\\u03bb GC: 0.61\",\"text_color\":{\"value\":\"black\"},\"text_font_size\":{\"value\":\"14pt\"},\"text_font_style\":\"bold\",\"x\":3.014720091107755,\"y\":1},\"id\":\"35229\",\"type\":\"Label\"},{\"attributes\":{},\"id\":\"35884\",\"type\":\"UnionRenderers\"},{\"attributes\":{},\"id\":\"35210\",\"type\":\"HelpTool\"},{\"attributes\":{\"gradient\":1,\"line_color\":{\"value\":\"red\"},\"y_intercept\":0},\"id\":\"35228\",\"type\":\"Slope\"},{\"attributes\":{\"dimension\":1,\"ticker\":{\"id\":\"35201\",\"type\":\"BasicTicker\"}},\"id\":\"35204\",\"type\":\"Grid\"},{\"attributes\":{\"data_source\":{\"id\":\"35220\",\"type\":\"ColumnDataSource\"},\"glyph\":{\"id\":\"35222\",\"type\":\"Circle\"},\"hover_glyph\":null,\"muted_glyph\":null,\"nonselection_glyph\":{\"id\":\"35223\",\"type\":\"Circle\"},\"selection_glyph\":null,\"view\":{\"id\":\"35225\",\"type\":\"CDSView\"}},\"id\":\"35224\",\"type\":\"GlyphRenderer\"},{\"attributes\":{\"callback\":null,\"data\":{\"index\":[0,1,2,3,4,5,6,7,8,9,10,11,12,13,14,15,16,17,18,19,20,21,22,23,24,25,26,27,28,29,30,31,32,33,34,35,36,37,38,39,40,41,42,43,44,45,46,47,48,49,50,51,52,53,54,55,56,57,58,59,60,61,62,63,64,65,66,67],\"p_value\":{\"__ndarray__\":\"6Qsh5/3/7z/TF0LO+//vPx13Sgfr/+8/xyk6ksv/7z/a4hqfyf7vP2Gowwq3/O8/fVpFf2jm7z8iMxe4PNbvPzyfAfVm1O8/xhhYx/HD7z9a8nhafmDvP0ta8Q2FT+8/F2L1RxgG7z86BI4EGuzuP4DSUKOQ5O4/wtzu5T657j9xPJ8B9WbuPxY1mIbhI+4/eQPMfAc/7T/jbaXXZuPsP3LAriZP2ew/sOdrlstG7D8apOAp5ErrPzhpGhTNA+s/4A8//z146j8CSdi3kwjqP2TnbWx2JOk/9G+X/bpT6D9dN6W8VkLnP12pZ0Eo7+U/zZAqilfZ5T80n3O36yXlP2OzI9V3/uM/ixnh7UGI4z8mp3aGqS3jP+qRBre1heE/2XxcGyrG1z+fA8sRMpDXPxNlbynni9c/Yd14d2Ss1j/lDMUdb/LUP67xmeyfp88/kzgroib6zj85Kcx7nGnIP4ttUtFY+8c/3c8pyM9Gxj83UOCdfHrEPwIoRpbMscA/8PrMWZ9ywD+xcVh1scS2P7IAXH8Bc7U/cmHupM9YoT8AI8OFlzueP5n1veGZK54/OIHptG6Dmj/kgAKUK2GaP2XDmsqisJM/5kJAGT59jz/BQGvZtRiHP8TqjzAMWII/F/BT0S98ej8huphNHTduP1MpsN+XI2k/5eV2UAWzZD8oSAlNVGdcP0ugFO/43VE/iaCf5jpGTz9cjG2RNZwyPw==\",\"dtype\":\"float64\",\"shape\":[68]},\"x\":{\"__ndarray__\":\"J70f9WvJpT89ajrdwBSpP0fi82bEbKw/CJYAttnRrz8UGFBFNKKxPxx2/sVuYrM/niE/TNUptT8EyVGOo/i2PwtIhjgYz7g/IXk0IHWtuj9hYQ97/5O8PwEfSBsAg74/B7eB2GE9wD+JjNqIzT3BPxPMA8PtQsI/4vGFj+9Mwz+IScOJAlzEP0orJhNZcMU//bdgiyiKxj8FYluOqanHPwxIhjgYz8g/D+9bcrT6yT8IBANEwizLPwlgITKKZcw/jrAdpVmlzT9SPEBcg+zOP4T5L/evHdA/n7AILSfJ0D8B7tFT2njRP8XC0E8ALdI/vmOCTNTl0j//X3cxlqPTPwdCMieLZtQ/gMO+Lv4u1T+kcUPPQP3VP0j2fd2r0dY/BIDzYaCs1z9mQq+jiI7YPwIMwV7Zd9k/V1JjLxNp2j+DVeA8xGLbPwhgITKKZdw/wx6BlRRy3T/91U+WJ4nePwWe4myfq98/An5QOTpt4D8jKZcRYAvhP8K556PhsOE/ALQ40nZe4j/e7pDO8xTjPwPe6DtP1eM/0XXxD6qg5D8BfUnZWXjlPwBDsFf2XeY/wee/xmtT5z9hTBDzE1voPwIMwV7Zd+k/IubmuWmt6j8AcYh6gADsPwObOORYd+0/ATqZgWMa7z9g0oe3unrwP4FkiIPxjPE/ABdsEUXR8j+Ae/SUNl70PwBDsFf2XfY/AFocaTsv+T+AOEQ9QAD+Pw==\",\"dtype\":\"float64\",\"shape\":[68]},\"y\":{\"__ndarray__\":\"fBT1Wri7mD7YXHGEd/SwPnuWrdOtG9M+Fdao6qGf5j5g5bxlqdYQPwy623ql2iY/PERAWEZEVj9JY2D6Zi9iP3hazFsw/GI/4qbVu8otaj+IozoMQX2BP6NbTiDlXoM/YyWrykaOiz8Di4NDx3iOPxcBsn2CUY8/gBLtuRQakj+432LZd8eWP0ywqEDooJo/ND2H8FkCpD8woO/hSr+mP6WWrmALDac/9pAXjLCBqz+3qb3c6rCxPy1ndpP+07I/MObixjsYtT8rTAa3KvG2P9lFjJpt0Lo/2GZiJLp6vj8OaQyfObzBP27HnXnd/sQ/DoSejEY2xT/zQl0HPwbHP+EP3I7fJMo/PNydD2Bxyz+dy3iUlHXMP/tNMh9gvdA/F2qqYlyG2z+q36HMvcXbP62X/VfOyts/ilc4GavX3D/1ZvPyMAvfPyyS+RurauM/J1nC4qW34z9Myqr97gbnPzbkWOdFRuc/8TLBlq1M6D/m21VxIHjpP/Xc8SvzTuw/2euugeuD7D8IudvChdDwP+dkE9OvOvE/18FceVCF9z/OkTWKJnr4P3lAbH3Uffg/2m3+3Ktj+T9onCAsrGz5P+69tYr1dPs/1XkL07wC/T+zWqlPHyr/P4htKa74YQBADv90PM6DAUDiwSIsHncDQA2BlmC1GgRASZbViovHBEDrgINenxYGQEM2EybtsgdA1rPP+H4pCEDgMd25s18MQA==\",\"dtype\":\"float64\",\"shape\":[68]}},\"selected\":{\"id\":\"35883\",\"type\":\"Selection\"},\"selection_policy\":{\"id\":\"35884\",\"type\":\"UnionRenderers\"}},\"id\":\"35220\",\"type\":\"ColumnDataSource\"},{\"attributes\":{},\"id\":\"35206\",\"type\":\"WheelZoomTool\"},{\"attributes\":{\"axis_label\":\"Observed -log10(p)\",\"formatter\":{\"id\":\"35881\",\"type\":\"BasicTickFormatter\"},\"ticker\":{\"id\":\"35201\",\"type\":\"BasicTicker\"}},\"id\":\"35200\",\"type\":\"LinearAxis\"},{\"attributes\":{\"bottom_units\":\"screen\",\"fill_alpha\":{\"value\":0.5},\"fill_color\":{\"value\":\"lightgrey\"},\"left_units\":\"screen\",\"level\":\"overlay\",\"line_alpha\":{\"value\":1.0},\"line_color\":{\"value\":\"black\"},\"line_dash\":[4,4],\"line_width\":{\"value\":2},\"render_mode\":\"css\",\"right_units\":\"screen\",\"top_units\":\"screen\"},\"id\":\"35885\",\"type\":\"BoxAnnotation\"},{\"attributes\":{\"callback\":null,\"end\":4.5467295189503005,\"start\":0},\"id\":\"35226\",\"type\":\"DataRange1d\"},{\"attributes\":{},\"id\":\"35205\",\"type\":\"PanTool\"},{\"attributes\":{},\"id\":\"35196\",\"type\":\"BasicTicker\"},{\"attributes\":{},\"id\":\"35881\",\"type\":\"BasicTickFormatter\"},{\"attributes\":{\"overlay\":{\"id\":\"35885\",\"type\":\"BoxAnnotation\"}},\"id\":\"35207\",\"type\":\"BoxZoomTool\"},{\"attributes\":{},\"id\":\"35209\",\"type\":\"ResetTool\"},{\"attributes\":{},\"id\":\"35201\",\"type\":\"BasicTicker\"},{\"attributes\":{},\"id\":\"35879\",\"type\":\"BasicTickFormatter\"},{\"attributes\":{\"active_drag\":\"auto\",\"active_inspect\":\"auto\",\"active_multi\":null,\"active_scroll\":\"auto\",\"active_tap\":\"auto\",\"tools\":[{\"id\":\"35205\",\"type\":\"PanTool\"},{\"id\":\"35206\",\"type\":\"WheelZoomTool\"},{\"id\":\"35207\",\"type\":\"BoxZoomTool\"},{\"id\":\"35208\",\"type\":\"SaveTool\"},{\"id\":\"35209\",\"type\":\"ResetTool\"},{\"id\":\"35210\",\"type\":\"HelpTool\"},{\"id\":\"35219\",\"type\":\"HoverTool\"}]},\"id\":\"35211\",\"type\":\"Toolbar\"},{\"attributes\":{\"axis_label\":\"Expected -log10(p)\",\"formatter\":{\"id\":\"35879\",\"type\":\"BasicTickFormatter\"},\"ticker\":{\"id\":\"35196\",\"type\":\"BasicTicker\"}},\"id\":\"35195\",\"type\":\"LinearAxis\"},{\"attributes\":{\"source\":{\"id\":\"35220\",\"type\":\"ColumnDataSource\"}},\"id\":\"35225\",\"type\":\"CDSView\"},{\"attributes\":{},\"id\":\"35883\",\"type\":\"Selection\"},{\"attributes\":{\"callback\":null,\"end\":4.5467295189503005,\"start\":0},\"id\":\"35227\",\"type\":\"DataRange1d\"},{\"attributes\":{\"text\":\"Q-Q plot\"},\"id\":\"35185\",\"type\":\"Title\"},{\"attributes\":{\"ticker\":{\"id\":\"35196\",\"type\":\"BasicTicker\"}},\"id\":\"35199\",\"type\":\"Grid\"},{\"attributes\":{\"callback\":null,\"tooltips\":[[\"x\",\"@x\"],[\"y\",\"@y\"],[\"p_value\",\"@p_value\"]]},\"id\":\"35219\",\"type\":\"HoverTool\"}],\"root_ids\":[\"35184\"]},\"title\":\"Bokeh Application\",\"version\":\"1.4.0\"}};\n",
       "  var render_items = [{\"docid\":\"970c8270-d524-4e2a-a789-c5ae63ecaa2e\",\"roots\":{\"35184\":\"17c41179-1020-44fc-8f09-c7a4508edd60\"}}];\n",
       "  root.Bokeh.embed.embed_items_notebook(docs_json, render_items);\n",
       "\n",
       "  }\n",
       "  if (root.Bokeh !== undefined) {\n",
       "    embed_document(root);\n",
       "  } else {\n",
       "    var attempts = 0;\n",
       "    var timer = setInterval(function(root) {\n",
       "      if (root.Bokeh !== undefined) {\n",
       "        clearInterval(timer);\n",
       "        embed_document(root);\n",
       "      } else {\n",
       "        attempts++;\n",
       "        if (attempts > 100) {\n",
       "          clearInterval(timer);\n",
       "          console.log(\"Bokeh: ERROR: Unable to run BokehJS code because BokehJS library is missing\");\n",
       "        }\n",
       "      }\n",
       "    }, 10, root)\n",
       "  }\n",
       "})(window);"
      ],
      "application/vnd.bokehjs_exec.v0+json": ""
     },
     "metadata": {
      "application/vnd.bokehjs_exec.v0+json": {
       "id": "35184"
      }
     },
     "output_type": "display_data"
    },
    {
     "name": "stderr",
     "output_type": "stream",
     "text": [
      "2023-07-15 23:26:27.886 Hail: INFO: Ordering unsorted dataset with network shuffle\n",
      "2023-07-15 23:26:30.817 Hail: INFO: wrote table with 75 rows in 75 partitions to /localfs/3948668/tmp_hail/persist_tableJZ4xCKPUpt\n",
      "    Total size: 5.65 KiB\n",
      "    * Rows: 5.64 KiB\n",
      "    * Globals: 11.00 B\n",
      "    * Smallest partition: 1 rows (55.00 B)\n",
      "    * Largest partition:  1 rows (85.00 B)\n",
      "2023-07-15 23:26:31.438 Hail: INFO: wrote table with 75 rows in 75 partitions to /localfs/3948668/skat_table_8_scores_no_filter_polish_without_1.mt\n",
      "2023-07-15 23:26:32.132 Hail: INFO: Coerced sorted dataset\n",
      "2023-07-15 23:26:32.133 Hail: INFO: Coerced dataset with out-of-order partitions.\n"
     ]
    },
    {
     "data": {
      "text/html": [
       "<table><thead><tr><td style=\"white-space: nowrap; max-width: 500px; overflow: hidden; text-overflow: ellipsis; \" colspan=\"1\"><div style=\"text-align: left;\"></div></td><td style=\"white-space: nowrap; max-width: 500px; overflow: hidden; text-overflow: ellipsis; \" colspan=\"1\"><div style=\"text-align: left;\"></div></td><td style=\"white-space: nowrap; max-width: 500px; overflow: hidden; text-overflow: ellipsis; \" colspan=\"1\"><div style=\"text-align: left;\"></div></td><td style=\"white-space: nowrap; max-width: 500px; overflow: hidden; text-overflow: ellipsis; \" colspan=\"1\"><div style=\"text-align: left;\"></div></td><td style=\"white-space: nowrap; max-width: 500px; overflow: hidden; text-overflow: ellipsis; \" colspan=\"1\"><div style=\"text-align: left;\"></div></td></tr><tr><td style=\"white-space: nowrap; max-width: 500px; overflow: hidden; text-overflow: ellipsis; \" colspan=\"1\"><div style=\"text-align: left;border-bottom: solid 2px #000; padding-bottom: 5px\">id</div></td><td style=\"white-space: nowrap; max-width: 500px; overflow: hidden; text-overflow: ellipsis; \" colspan=\"1\"><div style=\"text-align: left;border-bottom: solid 2px #000; padding-bottom: 5px\">size</div></td><td style=\"white-space: nowrap; max-width: 500px; overflow: hidden; text-overflow: ellipsis; \" colspan=\"1\"><div style=\"text-align: left;border-bottom: solid 2px #000; padding-bottom: 5px\">q_stat</div></td><td style=\"white-space: nowrap; max-width: 500px; overflow: hidden; text-overflow: ellipsis; \" colspan=\"1\"><div style=\"text-align: left;border-bottom: solid 2px #000; padding-bottom: 5px\">p_value</div></td><td style=\"white-space: nowrap; max-width: 500px; overflow: hidden; text-overflow: ellipsis; \" colspan=\"1\"><div style=\"text-align: left;border-bottom: solid 2px #000; padding-bottom: 5px\">fault</div></td></tr><tr><td style=\"white-space: nowrap; max-width: 500px; overflow: hidden; text-overflow: ellipsis; text-align: left;\">str</td><td style=\"white-space: nowrap; max-width: 500px; overflow: hidden; text-overflow: ellipsis; text-align: left;\">int32</td><td style=\"white-space: nowrap; max-width: 500px; overflow: hidden; text-overflow: ellipsis; text-align: left;\">float64</td><td style=\"white-space: nowrap; max-width: 500px; overflow: hidden; text-overflow: ellipsis; text-align: left;\">float64</td><td style=\"white-space: nowrap; max-width: 500px; overflow: hidden; text-overflow: ellipsis; text-align: left;\">int32</td></tr>\n",
       "</thead><tbody><tr><td style=\"white-space: nowrap; max-width: 500px; overflow: hidden; text-overflow: ellipsis; \">&quot;PCDH10&quot;</td><td style=\"white-space: nowrap; max-width: 500px; overflow: hidden; text-overflow: ellipsis; \">240</td><td style=\"white-space: nowrap; max-width: 500px; overflow: hidden; text-overflow: ellipsis; \">3.86e+03</td><td style=\"white-space: nowrap; max-width: 500px; overflow: hidden; text-overflow: ellipsis; \">3.36e-04</td><td style=\"white-space: nowrap; max-width: 500px; overflow: hidden; text-overflow: ellipsis; \">0</td></tr>\n",
       "<tr><td style=\"white-space: nowrap; max-width: 500px; overflow: hidden; text-overflow: ellipsis; \">&quot;MAOA&quot;</td><td style=\"white-space: nowrap; max-width: 500px; overflow: hidden; text-overflow: ellipsis; \">5</td><td style=\"white-space: nowrap; max-width: 500px; overflow: hidden; text-overflow: ellipsis; \">8.68e+01</td><td style=\"white-space: nowrap; max-width: 500px; overflow: hidden; text-overflow: ellipsis; \">6.28e-04</td><td style=\"white-space: nowrap; max-width: 500px; overflow: hidden; text-overflow: ellipsis; \">0</td></tr>\n",
       "<tr><td style=\"white-space: nowrap; max-width: 500px; overflow: hidden; text-overflow: ellipsis; \">&quot;SORCS3&quot;</td><td style=\"white-space: nowrap; max-width: 500px; overflow: hidden; text-overflow: ellipsis; \">1346</td><td style=\"white-space: nowrap; max-width: 500px; overflow: hidden; text-overflow: ellipsis; \">1.71e+04</td><td style=\"white-space: nowrap; max-width: 500px; overflow: hidden; text-overflow: ellipsis; \">1.05e-03</td><td style=\"white-space: nowrap; max-width: 500px; overflow: hidden; text-overflow: ellipsis; \">0</td></tr>\n",
       "<tr><td style=\"white-space: nowrap; max-width: 500px; overflow: hidden; text-overflow: ellipsis; \">&quot;CHADL&quot;</td><td style=\"white-space: nowrap; max-width: 500px; overflow: hidden; text-overflow: ellipsis; \">99</td><td style=\"white-space: nowrap; max-width: 500px; overflow: hidden; text-overflow: ellipsis; \">2.43e+03</td><td style=\"white-space: nowrap; max-width: 500px; overflow: hidden; text-overflow: ellipsis; \">2.30e-03</td><td style=\"white-space: nowrap; max-width: 500px; overflow: hidden; text-overflow: ellipsis; \">0</td></tr>\n",
       "<tr><td style=\"white-space: nowrap; max-width: 500px; overflow: hidden; text-overflow: ellipsis; \">&quot;SLC6A4&quot;</td><td style=\"white-space: nowrap; max-width: 500px; overflow: hidden; text-overflow: ellipsis; \">108</td><td style=\"white-space: nowrap; max-width: 500px; overflow: hidden; text-overflow: ellipsis; \">1.96e+03</td><td style=\"white-space: nowrap; max-width: 500px; overflow: hidden; text-overflow: ellipsis; \">4.45e-03</td><td style=\"white-space: nowrap; max-width: 500px; overflow: hidden; text-overflow: ellipsis; \">0</td></tr>\n",
       "<tr><td style=\"white-space: nowrap; max-width: 500px; overflow: hidden; text-overflow: ellipsis; \">&quot;HTR2A&quot;</td><td style=\"white-space: nowrap; max-width: 500px; overflow: hidden; text-overflow: ellipsis; \">245</td><td style=\"white-space: nowrap; max-width: 500px; overflow: hidden; text-overflow: ellipsis; \">3.07e+03</td><td style=\"white-space: nowrap; max-width: 500px; overflow: hidden; text-overflow: ellipsis; \">4.95e-03</td><td style=\"white-space: nowrap; max-width: 500px; overflow: hidden; text-overflow: ellipsis; \">0</td></tr>\n",
       "<tr><td style=\"white-space: nowrap; max-width: 500px; overflow: hidden; text-overflow: ellipsis; \">&quot;SLITRK5&quot;</td><td style=\"white-space: nowrap; max-width: 500px; overflow: hidden; text-overflow: ellipsis; \">137</td><td style=\"white-space: nowrap; max-width: 500px; overflow: hidden; text-overflow: ellipsis; \">1.15e+03</td><td style=\"white-space: nowrap; max-width: 500px; overflow: hidden; text-overflow: ellipsis; \">7.88e-03</td><td style=\"white-space: nowrap; max-width: 500px; overflow: hidden; text-overflow: ellipsis; \">0</td></tr>\n",
       "<tr><td style=\"white-space: nowrap; max-width: 500px; overflow: hidden; text-overflow: ellipsis; \">&quot;CDH9&quot;</td><td style=\"white-space: nowrap; max-width: 500px; overflow: hidden; text-overflow: ellipsis; \">460</td><td style=\"white-space: nowrap; max-width: 500px; overflow: hidden; text-overflow: ellipsis; \">3.35e+03</td><td style=\"white-space: nowrap; max-width: 500px; overflow: hidden; text-overflow: ellipsis; \">1.50e-02</td><td style=\"white-space: nowrap; max-width: 500px; overflow: hidden; text-overflow: ellipsis; \">0</td></tr>\n",
       "<tr><td style=\"white-space: nowrap; max-width: 500px; overflow: hidden; text-overflow: ellipsis; \">&quot;AADAC&quot;</td><td style=\"white-space: nowrap; max-width: 500px; overflow: hidden; text-overflow: ellipsis; \">134</td><td style=\"white-space: nowrap; max-width: 500px; overflow: hidden; text-overflow: ellipsis; \">1.78e+03</td><td style=\"white-space: nowrap; max-width: 500px; overflow: hidden; text-overflow: ellipsis; \">2.10e-02</td><td style=\"white-space: nowrap; max-width: 500px; overflow: hidden; text-overflow: ellipsis; \">0</td></tr>\n",
       "<tr><td style=\"white-space: nowrap; max-width: 500px; overflow: hidden; text-overflow: ellipsis; \">&quot;KCNQ5&quot;</td><td style=\"white-space: nowrap; max-width: 500px; overflow: hidden; text-overflow: ellipsis; \">1091</td><td style=\"white-space: nowrap; max-width: 500px; overflow: hidden; text-overflow: ellipsis; \">9.79e+03</td><td style=\"white-space: nowrap; max-width: 500px; overflow: hidden; text-overflow: ellipsis; \">3.22e-02</td><td style=\"white-space: nowrap; max-width: 500px; overflow: hidden; text-overflow: ellipsis; \">0</td></tr>\n",
       "<tr><td style=\"white-space: nowrap; max-width: 500px; overflow: hidden; text-overflow: ellipsis; \">&quot;NAA11&quot;</td><td style=\"white-space: nowrap; max-width: 500px; overflow: hidden; text-overflow: ellipsis; \">153</td><td style=\"white-space: nowrap; max-width: 500px; overflow: hidden; text-overflow: ellipsis; \">2.07e+03</td><td style=\"white-space: nowrap; max-width: 500px; overflow: hidden; text-overflow: ellipsis; \">5.88e-02</td><td style=\"white-space: nowrap; max-width: 500px; overflow: hidden; text-overflow: ellipsis; \">0</td></tr>\n",
       "<tr><td style=\"white-space: nowrap; max-width: 500px; overflow: hidden; text-overflow: ellipsis; \">&quot;CD47&quot;</td><td style=\"white-space: nowrap; max-width: 500px; overflow: hidden; text-overflow: ellipsis; \">169</td><td style=\"white-space: nowrap; max-width: 500px; overflow: hidden; text-overflow: ellipsis; \">1.69e+03</td><td style=\"white-space: nowrap; max-width: 500px; overflow: hidden; text-overflow: ellipsis; \">5.98e-02</td><td style=\"white-space: nowrap; max-width: 500px; overflow: hidden; text-overflow: ellipsis; \">0</td></tr>\n",
       "<tr><td style=\"white-space: nowrap; max-width: 500px; overflow: hidden; text-overflow: ellipsis; \">&quot;CHD8&quot;</td><td style=\"white-space: nowrap; max-width: 500px; overflow: hidden; text-overflow: ellipsis; \">146</td><td style=\"white-space: nowrap; max-width: 500px; overflow: hidden; text-overflow: ellipsis; \">7.48e+02</td><td style=\"white-space: nowrap; max-width: 500px; overflow: hidden; text-overflow: ellipsis; \">8.17e-02</td><td style=\"white-space: nowrap; max-width: 500px; overflow: hidden; text-overflow: ellipsis; \">0</td></tr>\n",
       "<tr><td style=\"white-space: nowrap; max-width: 500px; overflow: hidden; text-overflow: ellipsis; \">&quot;DRD2&quot;</td><td style=\"white-space: nowrap; max-width: 500px; overflow: hidden; text-overflow: ellipsis; \">215</td><td style=\"white-space: nowrap; max-width: 500px; overflow: hidden; text-overflow: ellipsis; \">1.92e+03</td><td style=\"white-space: nowrap; max-width: 500px; overflow: hidden; text-overflow: ellipsis; \">1.00e-01</td><td style=\"white-space: nowrap; max-width: 500px; overflow: hidden; text-overflow: ellipsis; \">0</td></tr>\n",
       "<tr><td style=\"white-space: nowrap; max-width: 500px; overflow: hidden; text-overflow: ellipsis; \">&quot;FBN2&quot;</td><td style=\"white-space: nowrap; max-width: 500px; overflow: hidden; text-overflow: ellipsis; \">771</td><td style=\"white-space: nowrap; max-width: 500px; overflow: hidden; text-overflow: ellipsis; \">5.69e+03</td><td style=\"white-space: nowrap; max-width: 500px; overflow: hidden; text-overflow: ellipsis; \">1.14e-01</td><td style=\"white-space: nowrap; max-width: 500px; overflow: hidden; text-overflow: ellipsis; \">0</td></tr>\n",
       "<tr><td style=\"white-space: nowrap; max-width: 500px; overflow: hidden; text-overflow: ellipsis; \">&quot;NTSR2&quot;</td><td style=\"white-space: nowrap; max-width: 500px; overflow: hidden; text-overflow: ellipsis; \">134</td><td style=\"white-space: nowrap; max-width: 500px; overflow: hidden; text-overflow: ellipsis; \">9.20e+02</td><td style=\"white-space: nowrap; max-width: 500px; overflow: hidden; text-overflow: ellipsis; \">1.18e-01</td><td style=\"white-space: nowrap; max-width: 500px; overflow: hidden; text-overflow: ellipsis; \">0</td></tr>\n",
       "<tr><td style=\"white-space: nowrap; max-width: 500px; overflow: hidden; text-overflow: ellipsis; \">&quot;CADM4&quot;</td><td style=\"white-space: nowrap; max-width: 500px; overflow: hidden; text-overflow: ellipsis; \">49</td><td style=\"white-space: nowrap; max-width: 500px; overflow: hidden; text-overflow: ellipsis; \">8.20e+02</td><td style=\"white-space: nowrap; max-width: 500px; overflow: hidden; text-overflow: ellipsis; \">1.38e-01</td><td style=\"white-space: nowrap; max-width: 500px; overflow: hidden; text-overflow: ellipsis; \">0</td></tr>\n",
       "<tr><td style=\"white-space: nowrap; max-width: 500px; overflow: hidden; text-overflow: ellipsis; \">&quot;PCDH1&quot;</td><td style=\"white-space: nowrap; max-width: 500px; overflow: hidden; text-overflow: ellipsis; \">114</td><td style=\"white-space: nowrap; max-width: 500px; overflow: hidden; text-overflow: ellipsis; \">2.15e+03</td><td style=\"white-space: nowrap; max-width: 500px; overflow: hidden; text-overflow: ellipsis; \">1.53e-01</td><td style=\"white-space: nowrap; max-width: 500px; overflow: hidden; text-overflow: ellipsis; \">0</td></tr>\n",
       "<tr><td style=\"white-space: nowrap; max-width: 500px; overflow: hidden; text-overflow: ellipsis; \">&quot;DRD4&quot;</td><td style=\"white-space: nowrap; max-width: 500px; overflow: hidden; text-overflow: ellipsis; \">11</td><td style=\"white-space: nowrap; max-width: 500px; overflow: hidden; text-overflow: ellipsis; \">8.11e+01</td><td style=\"white-space: nowrap; max-width: 500px; overflow: hidden; text-overflow: ellipsis; \">1.91e-01</td><td style=\"white-space: nowrap; max-width: 500px; overflow: hidden; text-overflow: ellipsis; \">0</td></tr>\n",
       "<tr><td style=\"white-space: nowrap; max-width: 500px; overflow: hidden; text-overflow: ellipsis; \">&quot;GABBR2&quot;</td><td style=\"white-space: nowrap; max-width: 500px; overflow: hidden; text-overflow: ellipsis; \">883</td><td style=\"white-space: nowrap; max-width: 500px; overflow: hidden; text-overflow: ellipsis; \">6.59e+03</td><td style=\"white-space: nowrap; max-width: 500px; overflow: hidden; text-overflow: ellipsis; \">1.92e-01</td><td style=\"white-space: nowrap; max-width: 500px; overflow: hidden; text-overflow: ellipsis; \">0</td></tr>\n",
       "</tbody></table><p style=\"background: #fdd; padding: 0.4em;\">showing top 20 rows</p>\n"
      ],
      "text/plain": [
       "+-----------+-------+----------+----------+-------+\n",
       "| id        |  size |   q_stat |  p_value | fault |\n",
       "+-----------+-------+----------+----------+-------+\n",
       "| str       | int32 |  float64 |  float64 | int32 |\n",
       "+-----------+-------+----------+----------+-------+\n",
       "| \"PCDH10\"  |   240 | 3.86e+03 | 3.36e-04 |     0 |\n",
       "| \"MAOA\"    |     5 | 8.68e+01 | 6.28e-04 |     0 |\n",
       "| \"SORCS3\"  |  1346 | 1.71e+04 | 1.05e-03 |     0 |\n",
       "| \"CHADL\"   |    99 | 2.43e+03 | 2.30e-03 |     0 |\n",
       "| \"SLC6A4\"  |   108 | 1.96e+03 | 4.45e-03 |     0 |\n",
       "| \"HTR2A\"   |   245 | 3.07e+03 | 4.95e-03 |     0 |\n",
       "| \"SLITRK5\" |   137 | 1.15e+03 | 7.88e-03 |     0 |\n",
       "| \"CDH9\"    |   460 | 3.35e+03 | 1.50e-02 |     0 |\n",
       "| \"AADAC\"   |   134 | 1.78e+03 | 2.10e-02 |     0 |\n",
       "| \"KCNQ5\"   |  1091 | 9.79e+03 | 3.22e-02 |     0 |\n",
       "| \"NAA11\"   |   153 | 2.07e+03 | 5.88e-02 |     0 |\n",
       "| \"CD47\"    |   169 | 1.69e+03 | 5.98e-02 |     0 |\n",
       "| \"CHD8\"    |   146 | 7.48e+02 | 8.17e-02 |     0 |\n",
       "| \"DRD2\"    |   215 | 1.92e+03 | 1.00e-01 |     0 |\n",
       "| \"FBN2\"    |   771 | 5.69e+03 | 1.14e-01 |     0 |\n",
       "| \"NTSR2\"   |   134 | 9.20e+02 | 1.18e-01 |     0 |\n",
       "| \"CADM4\"   |    49 | 8.20e+02 | 1.38e-01 |     0 |\n",
       "| \"PCDH1\"   |   114 | 2.15e+03 | 1.53e-01 |     0 |\n",
       "| \"DRD4\"    |    11 | 8.11e+01 | 1.91e-01 |     0 |\n",
       "| \"GABBR2\"  |   883 | 6.59e+03 | 1.92e-01 |     0 |\n",
       "+-----------+-------+----------+----------+-------+\n",
       "showing top 20 rows"
      ]
     },
     "metadata": {},
     "output_type": "display_data"
    },
    {
     "name": "stderr",
     "output_type": "stream",
     "text": [
      "2023-07-15 23:26:33.289 Hail: INFO: Coerced sorted dataset\n",
      "2023-07-15 23:26:33.291 Hail: INFO: Coerced dataset with out-of-order partitions.\n",
      "/net/pr2/projects/plgrid/plggneuromol/imdik-zekanowski-gts/venv-hail-0.2.113/lib/python3.10/site-packages/bokeh/models/sources.py:235: FutureWarning: iteritems is deprecated and will be removed in a future version. Use .items instead.\n",
      "  tmp_data = {c: v.values for c, v in _df.iteritems()}\n",
      "2023-07-15 23:26:35.957 Hail: INFO: Coerced sorted dataset\n",
      "2023-07-15 23:26:35.959 Hail: INFO: Coerced dataset with out-of-order partitions.\n"
     ]
    },
    {
     "data": {
      "text/html": [
       "\n",
       "\n",
       "\n",
       "\n",
       "\n",
       "\n",
       "  <div class=\"bk-root\" id=\"3d81b279-849b-4d0a-84fb-6dbe812a70c9\" data-root-id=\"35934\"></div>\n"
      ]
     },
     "metadata": {},
     "output_type": "display_data"
    },
    {
     "data": {
      "application/javascript": [
       "(function(root) {\n",
       "  function embed_document(root) {\n",
       "    \n",
       "  var docs_json = {\"e0ea9d34-998d-4969-afc3-c7d0b5fbcf17\":{\"roots\":{\"references\":[{\"attributes\":{\"below\":[{\"id\":\"35945\",\"type\":\"LinearAxis\"}],\"center\":[{\"id\":\"35949\",\"type\":\"Grid\"},{\"id\":\"35954\",\"type\":\"Grid\"},{\"id\":\"35978\",\"type\":\"Slope\"},{\"id\":\"35979\",\"type\":\"Label\"}],\"left\":[{\"id\":\"35950\",\"type\":\"LinearAxis\"}],\"plot_height\":800,\"plot_width\":800,\"renderers\":[{\"id\":\"35974\",\"type\":\"GlyphRenderer\"}],\"title\":{\"id\":\"35935\",\"type\":\"Title\"},\"toolbar\":{\"id\":\"35961\",\"type\":\"Toolbar\"},\"x_range\":{\"id\":\"35976\",\"type\":\"DataRange1d\"},\"x_scale\":{\"id\":\"35941\",\"type\":\"LinearScale\"},\"y_range\":{\"id\":\"35977\",\"type\":\"DataRange1d\"},\"y_scale\":{\"id\":\"35943\",\"type\":\"LinearScale\"}},\"id\":\"35934\",\"subtype\":\"Figure\",\"type\":\"Plot\"},{\"attributes\":{\"callback\":null,\"tooltips\":[[\"x\",\"@x\"],[\"y\",\"@y\"],[\"p_value\",\"@p_value\"]]},\"id\":\"35969\",\"type\":\"HoverTool\"},{\"attributes\":{\"dimension\":1,\"ticker\":{\"id\":\"35951\",\"type\":\"BasicTicker\"}},\"id\":\"35954\",\"type\":\"Grid\"},{\"attributes\":{\"overlay\":{\"id\":\"36643\",\"type\":\"BoxAnnotation\"}},\"id\":\"35957\",\"type\":\"BoxZoomTool\"},{\"attributes\":{},\"id\":\"35951\",\"type\":\"BasicTicker\"},{\"attributes\":{\"callback\":null,\"data\":{\"index\":[0,1,2,3,4,5,6,7,8,9,10,11,12,13,14,15,16,17,18,19,20,21,22,23,24,25,26,27,28,29,30,31,32,33,34,35,36,37,38,39,40,41,42,43,44,45,46,47,48,49,50,51,52,53,54,55,56,57,58,59,60,61,62,63,64,65,66,67],\"p_value\":{\"__ndarray__\":\"AAAAAAAA8D8Gg2vu6P/vP7w7Mlab/+8/Z+4h4Xv/7z9cABqlS//vPxKfO8H+6+8/zc6idyrg7z/lRpG1htLvP/BMaJJY0u8/Wtb9YyG67z9JSnoYWp3vP6RUwhN6fe8/uOS4UzpY7z9PeAlOfSDvP+axZmSQu+4/oRLXMa647j/uCn2wjA3uP01nJ4OjZO0/7dgIxOv67D8mGw+22O3sP+244XfTrew/Dag3o+Yr7D+/nq9ZLhvsP8jqVs9Jb+o/ttYXCW256T/H8UOlETPpPzohdNAlnOg/L6NYbmk16D9d+MH51LHmP+uQm+EGfOY/dEAS9u0k5j9W9fI7TWblP9zz/GmjuuM/+rmhKTt94z/LSL2nclrjP5D11OqrK+I/oFBPH4E/4T/GNNO9TurgP6bVkLjH0t8/51Wd1QJ73T/j/E0oRMDYP2NDN/sD5dc/EmdF1ESf0D+gUE8fgT/QPyapTDEHQc8/f2lRn+QOzT9VwD3PnzbMP3zVyoRf6ss/UkXxKmubyD+8ICI17WLIP2ZrfZHQlsM/nSrfMxKhwT/vkjgroia+P5oK8Ui8PL0/pnud1JeluT8ct/NYjuu0P/N79rdfma4/BW7dzVMdrj/LDvEPW3qgP/xW68TleJU/j9w/u+jQjj8AlFxRjCSAP/56xyHJSXQ/jer4WI81cj9VY/DNwuBiP7dBcfAaLlE/8P+wk2SXRD/a99b3SQQ2Pw==\",\"dtype\":\"float64\",\"shape\":[68]},\"x\":{\"__ndarray__\":\"J70f9WvJpT89ajrdwBSpP0fi82bEbKw/CJYAttnRrz8UGFBFNKKxPxx2/sVuYrM/niE/TNUptT8EyVGOo/i2PwtIhjgYz7g/IXk0IHWtuj9hYQ97/5O8PwEfSBsAg74/B7eB2GE9wD+JjNqIzT3BPxPMA8PtQsI/4vGFj+9Mwz+IScOJAlzEP0orJhNZcMU//bdgiyiKxj8FYluOqanHPwxIhjgYz8g/D+9bcrT6yT8IBANEwizLPwlgITKKZcw/jrAdpVmlzT9SPEBcg+zOP4T5L/evHdA/n7AILSfJ0D8B7tFT2njRP8XC0E8ALdI/vmOCTNTl0j//X3cxlqPTPwdCMieLZtQ/gMO+Lv4u1T+kcUPPQP3VP0j2fd2r0dY/BIDzYaCs1z9mQq+jiI7YPwIMwV7Zd9k/V1JjLxNp2j+DVeA8xGLbPwhgITKKZdw/wx6BlRRy3T/91U+WJ4nePwWe4myfq98/An5QOTpt4D8jKZcRYAvhP8K556PhsOE/ALQ40nZe4j/e7pDO8xTjPwPe6DtP1eM/0XXxD6qg5D8BfUnZWXjlPwBDsFf2XeY/wee/xmtT5z9hTBDzE1voPwIMwV7Zd+k/IubmuWmt6j8AcYh6gADsPwObOORYd+0/ATqZgWMa7z9g0oe3unrwP4FkiIPxjPE/ABdsEUXR8j+Ae/SUNl70PwBDsFf2XfY/AFocaTsv+T+AOEQ9QAD+Pw==\",\"dtype\":\"float64\",\"shape\":[68]},\"y\":{\"__ndarray__\":\"TMeHqnc3Qj5P/hAu063TPoOuoEfv9/U+18p+S/+8/D4nDtyAt7ADPx/bxx4hZlE/vVgqldWzWz9Lv3sCBs5jP7W0RxLC4WM/bcxUuDB5bj9xxmdaSo11P8VC175Eknw/iycOUJVngj9YUE+Fz5qIP6D/5FqG+JE/Jfa/+zsikj9gGbPV4OqbPzn/qqok5aI/RuSMzYMKpj/aN+iJ+W6mP6ng+68vXag/MOJiMoxVrD961biysNmsP+i2GYbbPbU/qi5uiTRFuD9wYNbZ44+6P/Azly6sMb0/toRU2Z0Fvz+m12MS2xnDP5bLLNtAnsM/ddveVT13xD9AYnMrBV7GPzeZoVO24so/MCgJ/siQyz9tPn6BXfTLP+rE6TW+dc8/KvIhxZ8t0T9PXmsuQ7jRPzASUx92a9M/55fHrpeL1T9u3WpQz2faP3bksB9lYts/RXtVI1q84j/7NadMVg3jP6ChT0X/l+M/nsYOfCub5D/r07KTIgTlP7douvHmKeU/FfNwn7Pq5j/aSAIVvwrnP4reRkIRFuo/bx3JwyKN6z9OXVRI3LntP3j/n8xVJ+4/daAgtIH57z9OMqaBHmfxP9sTqH20k/M/DbrKBRqw8z/FhOAzvOD3P2oRhB/S2vo/Q2NL2S0p/T//wM0VqtMAQIb5wrzgcAJASXTxVwnRAkAcVwZwdxkFQJ4AsL7N1QdAVz/grDadCUDVU0xbMcoLQA==\",\"dtype\":\"float64\",\"shape\":[68]}},\"selected\":{\"id\":\"36641\",\"type\":\"Selection\"},\"selection_policy\":{\"id\":\"36642\",\"type\":\"UnionRenderers\"}},\"id\":\"35970\",\"type\":\"ColumnDataSource\"},{\"attributes\":{\"axis_label\":\"Expected -log10(p)\",\"formatter\":{\"id\":\"36637\",\"type\":\"BasicTickFormatter\"},\"ticker\":{\"id\":\"35946\",\"type\":\"BasicTicker\"}},\"id\":\"35945\",\"type\":\"LinearAxis\"},{\"attributes\":{},\"id\":\"35956\",\"type\":\"WheelZoomTool\"},{\"attributes\":{},\"id\":\"36639\",\"type\":\"BasicTickFormatter\"},{\"attributes\":{},\"id\":\"35941\",\"type\":\"LinearScale\"},{\"attributes\":{\"bottom_units\":\"screen\",\"fill_alpha\":{\"value\":0.5},\"fill_color\":{\"value\":\"lightgrey\"},\"left_units\":\"screen\",\"level\":\"overlay\",\"line_alpha\":{\"value\":1.0},\"line_color\":{\"value\":\"black\"},\"line_dash\":[4,4],\"line_width\":{\"value\":2},\"render_mode\":\"css\",\"right_units\":\"screen\",\"top_units\":\"screen\"},\"id\":\"36643\",\"type\":\"BoxAnnotation\"},{\"attributes\":{},\"id\":\"36642\",\"type\":\"UnionRenderers\"},{\"attributes\":{\"fill_color\":{\"value\":\"#1f77b4\"},\"line_color\":{\"value\":\"#1f77b4\"},\"size\":{\"units\":\"screen\",\"value\":6},\"x\":{\"field\":\"x\"},\"y\":{\"field\":\"y\"}},\"id\":\"35972\",\"type\":\"Circle\"},{\"attributes\":{},\"id\":\"35959\",\"type\":\"ResetTool\"},{\"attributes\":{},\"id\":\"35960\",\"type\":\"HelpTool\"},{\"attributes\":{},\"id\":\"36637\",\"type\":\"BasicTickFormatter\"},{\"attributes\":{\"data_source\":{\"id\":\"35970\",\"type\":\"ColumnDataSource\"},\"glyph\":{\"id\":\"35972\",\"type\":\"Circle\"},\"hover_glyph\":null,\"muted_glyph\":null,\"nonselection_glyph\":{\"id\":\"35973\",\"type\":\"Circle\"},\"selection_glyph\":null,\"view\":{\"id\":\"35975\",\"type\":\"CDSView\"}},\"id\":\"35974\",\"type\":\"GlyphRenderer\"},{\"attributes\":{\"text\":\"\\u03bb GC: 0.59\",\"text_color\":{\"value\":\"black\"},\"text_font_size\":{\"value\":\"14pt\"},\"text_font_style\":\"bold\",\"x\":2.9526679098861743,\"y\":1},\"id\":\"35979\",\"type\":\"Label\"},{\"attributes\":{\"callback\":null,\"end\":4.473726952807263,\"start\":0},\"id\":\"35977\",\"type\":\"DataRange1d\"},{\"attributes\":{},\"id\":\"35955\",\"type\":\"PanTool\"},{\"attributes\":{},\"id\":\"35946\",\"type\":\"BasicTicker\"},{\"attributes\":{},\"id\":\"35943\",\"type\":\"LinearScale\"},{\"attributes\":{\"axis_label\":\"Observed -log10(p)\",\"formatter\":{\"id\":\"36639\",\"type\":\"BasicTickFormatter\"},\"ticker\":{\"id\":\"35951\",\"type\":\"BasicTicker\"}},\"id\":\"35950\",\"type\":\"LinearAxis\"},{\"attributes\":{\"gradient\":1,\"line_color\":{\"value\":\"red\"},\"y_intercept\":0},\"id\":\"35978\",\"type\":\"Slope\"},{\"attributes\":{},\"id\":\"36641\",\"type\":\"Selection\"},{\"attributes\":{\"source\":{\"id\":\"35970\",\"type\":\"ColumnDataSource\"}},\"id\":\"35975\",\"type\":\"CDSView\"},{\"attributes\":{\"fill_alpha\":{\"value\":0.1},\"fill_color\":{\"value\":\"#1f77b4\"},\"line_alpha\":{\"value\":0.1},\"line_color\":{\"value\":\"#1f77b4\"},\"size\":{\"units\":\"screen\",\"value\":6},\"x\":{\"field\":\"x\"},\"y\":{\"field\":\"y\"}},\"id\":\"35973\",\"type\":\"Circle\"},{\"attributes\":{\"ticker\":{\"id\":\"35946\",\"type\":\"BasicTicker\"}},\"id\":\"35949\",\"type\":\"Grid\"},{\"attributes\":{\"text\":\"Q-Q plot\"},\"id\":\"35935\",\"type\":\"Title\"},{\"attributes\":{},\"id\":\"35958\",\"type\":\"SaveTool\"},{\"attributes\":{\"callback\":null,\"end\":4.473726952807263,\"start\":0},\"id\":\"35976\",\"type\":\"DataRange1d\"},{\"attributes\":{\"active_drag\":\"auto\",\"active_inspect\":\"auto\",\"active_multi\":null,\"active_scroll\":\"auto\",\"active_tap\":\"auto\",\"tools\":[{\"id\":\"35955\",\"type\":\"PanTool\"},{\"id\":\"35956\",\"type\":\"WheelZoomTool\"},{\"id\":\"35957\",\"type\":\"BoxZoomTool\"},{\"id\":\"35958\",\"type\":\"SaveTool\"},{\"id\":\"35959\",\"type\":\"ResetTool\"},{\"id\":\"35960\",\"type\":\"HelpTool\"},{\"id\":\"35969\",\"type\":\"HoverTool\"}]},\"id\":\"35961\",\"type\":\"Toolbar\"}],\"root_ids\":[\"35934\"]},\"title\":\"Bokeh Application\",\"version\":\"1.4.0\"}};\n",
       "  var render_items = [{\"docid\":\"e0ea9d34-998d-4969-afc3-c7d0b5fbcf17\",\"roots\":{\"35934\":\"3d81b279-849b-4d0a-84fb-6dbe812a70c9\"}}];\n",
       "  root.Bokeh.embed.embed_items_notebook(docs_json, render_items);\n",
       "\n",
       "  }\n",
       "  if (root.Bokeh !== undefined) {\n",
       "    embed_document(root);\n",
       "  } else {\n",
       "    var attempts = 0;\n",
       "    var timer = setInterval(function(root) {\n",
       "      if (root.Bokeh !== undefined) {\n",
       "        clearInterval(timer);\n",
       "        embed_document(root);\n",
       "      } else {\n",
       "        attempts++;\n",
       "        if (attempts > 100) {\n",
       "          clearInterval(timer);\n",
       "          console.log(\"Bokeh: ERROR: Unable to run BokehJS code because BokehJS library is missing\");\n",
       "        }\n",
       "      }\n",
       "    }, 10, root)\n",
       "  }\n",
       "})(window);"
      ],
      "application/vnd.bokehjs_exec.v0+json": ""
     },
     "metadata": {
      "application/vnd.bokehjs_exec.v0+json": {
       "id": "35934"
      }
     },
     "output_type": "display_data"
    },
    {
     "name": "stderr",
     "output_type": "stream",
     "text": [
      "2023-07-15 23:36:28.025 Hail: INFO: Ordering unsorted dataset with network shuffle\n",
      "2023-07-15 23:36:29.401 Hail: INFO: wrote table with 75 rows in 75 partitions to /localfs/3948668/tmp_hail/persist_table6yuKLjPPQL\n",
      "    Total size: 5.65 KiB\n",
      "    * Rows: 5.64 KiB\n",
      "    * Globals: 11.00 B\n",
      "    * Smallest partition: 1 rows (55.00 B)\n",
      "    * Largest partition:  1 rows (85.00 B)\n",
      "2023-07-15 23:36:30.022 Hail: INFO: wrote table with 75 rows in 75 partitions to /localfs/3948668/skat_table_8_scores_no_filter_polish_without_2.mt\n",
      "2023-07-15 23:36:30.374 Hail: INFO: Coerced sorted dataset\n",
      "2023-07-15 23:36:30.376 Hail: INFO: Coerced dataset with out-of-order partitions.\n"
     ]
    },
    {
     "data": {
      "text/html": [
       "<table><thead><tr><td style=\"white-space: nowrap; max-width: 500px; overflow: hidden; text-overflow: ellipsis; \" colspan=\"1\"><div style=\"text-align: left;\"></div></td><td style=\"white-space: nowrap; max-width: 500px; overflow: hidden; text-overflow: ellipsis; \" colspan=\"1\"><div style=\"text-align: left;\"></div></td><td style=\"white-space: nowrap; max-width: 500px; overflow: hidden; text-overflow: ellipsis; \" colspan=\"1\"><div style=\"text-align: left;\"></div></td><td style=\"white-space: nowrap; max-width: 500px; overflow: hidden; text-overflow: ellipsis; \" colspan=\"1\"><div style=\"text-align: left;\"></div></td><td style=\"white-space: nowrap; max-width: 500px; overflow: hidden; text-overflow: ellipsis; \" colspan=\"1\"><div style=\"text-align: left;\"></div></td></tr><tr><td style=\"white-space: nowrap; max-width: 500px; overflow: hidden; text-overflow: ellipsis; \" colspan=\"1\"><div style=\"text-align: left;border-bottom: solid 2px #000; padding-bottom: 5px\">id</div></td><td style=\"white-space: nowrap; max-width: 500px; overflow: hidden; text-overflow: ellipsis; \" colspan=\"1\"><div style=\"text-align: left;border-bottom: solid 2px #000; padding-bottom: 5px\">size</div></td><td style=\"white-space: nowrap; max-width: 500px; overflow: hidden; text-overflow: ellipsis; \" colspan=\"1\"><div style=\"text-align: left;border-bottom: solid 2px #000; padding-bottom: 5px\">q_stat</div></td><td style=\"white-space: nowrap; max-width: 500px; overflow: hidden; text-overflow: ellipsis; \" colspan=\"1\"><div style=\"text-align: left;border-bottom: solid 2px #000; padding-bottom: 5px\">p_value</div></td><td style=\"white-space: nowrap; max-width: 500px; overflow: hidden; text-overflow: ellipsis; \" colspan=\"1\"><div style=\"text-align: left;border-bottom: solid 2px #000; padding-bottom: 5px\">fault</div></td></tr><tr><td style=\"white-space: nowrap; max-width: 500px; overflow: hidden; text-overflow: ellipsis; text-align: left;\">str</td><td style=\"white-space: nowrap; max-width: 500px; overflow: hidden; text-overflow: ellipsis; text-align: left;\">int32</td><td style=\"white-space: nowrap; max-width: 500px; overflow: hidden; text-overflow: ellipsis; text-align: left;\">float64</td><td style=\"white-space: nowrap; max-width: 500px; overflow: hidden; text-overflow: ellipsis; text-align: left;\">float64</td><td style=\"white-space: nowrap; max-width: 500px; overflow: hidden; text-overflow: ellipsis; text-align: left;\">int32</td></tr>\n",
       "</thead><tbody><tr><td style=\"white-space: nowrap; max-width: 500px; overflow: hidden; text-overflow: ellipsis; \">&quot;CHADL&quot;</td><td style=\"white-space: nowrap; max-width: 500px; overflow: hidden; text-overflow: ellipsis; \">97</td><td style=\"white-space: nowrap; max-width: 500px; overflow: hidden; text-overflow: ellipsis; \">4.31e+03</td><td style=\"white-space: nowrap; max-width: 500px; overflow: hidden; text-overflow: ellipsis; \">1.45e-05</td><td style=\"white-space: nowrap; max-width: 500px; overflow: hidden; text-overflow: ellipsis; \">0</td></tr>\n",
       "<tr><td style=\"white-space: nowrap; max-width: 500px; overflow: hidden; text-overflow: ellipsis; \">&quot;DRD2&quot;</td><td style=\"white-space: nowrap; max-width: 500px; overflow: hidden; text-overflow: ellipsis; \">218</td><td style=\"white-space: nowrap; max-width: 500px; overflow: hidden; text-overflow: ellipsis; \">4.56e+03</td><td style=\"white-space: nowrap; max-width: 500px; overflow: hidden; text-overflow: ellipsis; \">8.12e-05</td><td style=\"white-space: nowrap; max-width: 500px; overflow: hidden; text-overflow: ellipsis; \">0</td></tr>\n",
       "<tr><td style=\"white-space: nowrap; max-width: 500px; overflow: hidden; text-overflow: ellipsis; \">&quot;PCDH10&quot;</td><td style=\"white-space: nowrap; max-width: 500px; overflow: hidden; text-overflow: ellipsis; \">242</td><td style=\"white-space: nowrap; max-width: 500px; overflow: hidden; text-overflow: ellipsis; \">4.66e+03</td><td style=\"white-space: nowrap; max-width: 500px; overflow: hidden; text-overflow: ellipsis; \">5.33e-04</td><td style=\"white-space: nowrap; max-width: 500px; overflow: hidden; text-overflow: ellipsis; \">0</td></tr>\n",
       "<tr><td style=\"white-space: nowrap; max-width: 500px; overflow: hidden; text-overflow: ellipsis; \">&quot;SORCS3&quot;</td><td style=\"white-space: nowrap; max-width: 500px; overflow: hidden; text-overflow: ellipsis; \">1347</td><td style=\"white-space: nowrap; max-width: 500px; overflow: hidden; text-overflow: ellipsis; \">1.67e+04</td><td style=\"white-space: nowrap; max-width: 500px; overflow: hidden; text-overflow: ellipsis; \">4.80e-03</td><td style=\"white-space: nowrap; max-width: 500px; overflow: hidden; text-overflow: ellipsis; \">0</td></tr>\n",
       "<tr><td style=\"white-space: nowrap; max-width: 500px; overflow: hidden; text-overflow: ellipsis; \">&quot;MAOA&quot;</td><td style=\"white-space: nowrap; max-width: 500px; overflow: hidden; text-overflow: ellipsis; \">5</td><td style=\"white-space: nowrap; max-width: 500px; overflow: hidden; text-overflow: ellipsis; \">8.24e+01</td><td style=\"white-space: nowrap; max-width: 500px; overflow: hidden; text-overflow: ellipsis; \">5.89e-03</td><td style=\"white-space: nowrap; max-width: 500px; overflow: hidden; text-overflow: ellipsis; \">0</td></tr>\n",
       "<tr><td style=\"white-space: nowrap; max-width: 500px; overflow: hidden; text-overflow: ellipsis; \">&quot;AADAC&quot;</td><td style=\"white-space: nowrap; max-width: 500px; overflow: hidden; text-overflow: ellipsis; \">133</td><td style=\"white-space: nowrap; max-width: 500px; overflow: hidden; text-overflow: ellipsis; \">2.11e+03</td><td style=\"white-space: nowrap; max-width: 500px; overflow: hidden; text-overflow: ellipsis; \">7.58e-03</td><td style=\"white-space: nowrap; max-width: 500px; overflow: hidden; text-overflow: ellipsis; \">0</td></tr>\n",
       "<tr><td style=\"white-space: nowrap; max-width: 500px; overflow: hidden; text-overflow: ellipsis; \">&quot;CDH9&quot;</td><td style=\"white-space: nowrap; max-width: 500px; overflow: hidden; text-overflow: ellipsis; \">461</td><td style=\"white-space: nowrap; max-width: 500px; overflow: hidden; text-overflow: ellipsis; \">3.88e+03</td><td style=\"white-space: nowrap; max-width: 500px; overflow: hidden; text-overflow: ellipsis; \">1.17e-02</td><td style=\"white-space: nowrap; max-width: 500px; overflow: hidden; text-overflow: ellipsis; \">0</td></tr>\n",
       "<tr><td style=\"white-space: nowrap; max-width: 500px; overflow: hidden; text-overflow: ellipsis; \">&quot;CHD8&quot;</td><td style=\"white-space: nowrap; max-width: 500px; overflow: hidden; text-overflow: ellipsis; \">148</td><td style=\"white-space: nowrap; max-width: 500px; overflow: hidden; text-overflow: ellipsis; \">1.11e+03</td><td style=\"white-space: nowrap; max-width: 500px; overflow: hidden; text-overflow: ellipsis; \">1.70e-02</td><td style=\"white-space: nowrap; max-width: 500px; overflow: hidden; text-overflow: ellipsis; \">0</td></tr>\n",
       "<tr><td style=\"white-space: nowrap; max-width: 500px; overflow: hidden; text-overflow: ellipsis; \">&quot;SLITRK5&quot;</td><td style=\"white-space: nowrap; max-width: 500px; overflow: hidden; text-overflow: ellipsis; \">135</td><td style=\"white-space: nowrap; max-width: 500px; overflow: hidden; text-overflow: ellipsis; \">1.23e+03</td><td style=\"white-space: nowrap; max-width: 500px; overflow: hidden; text-overflow: ellipsis; \">1.77e-02</td><td style=\"white-space: nowrap; max-width: 500px; overflow: hidden; text-overflow: ellipsis; \">0</td></tr>\n",
       "<tr><td style=\"white-space: nowrap; max-width: 500px; overflow: hidden; text-overflow: ellipsis; \">&quot;KCNQ5&quot;</td><td style=\"white-space: nowrap; max-width: 500px; overflow: hidden; text-overflow: ellipsis; \">1092</td><td style=\"white-space: nowrap; max-width: 500px; overflow: hidden; text-overflow: ellipsis; \">1.11e+04</td><td style=\"white-space: nowrap; max-width: 500px; overflow: hidden; text-overflow: ellipsis; \">1.86e-02</td><td style=\"white-space: nowrap; max-width: 500px; overflow: hidden; text-overflow: ellipsis; \">0</td></tr>\n",
       "<tr><td style=\"white-space: nowrap; max-width: 500px; overflow: hidden; text-overflow: ellipsis; \">&quot;HTR2A&quot;</td><td style=\"white-space: nowrap; max-width: 500px; overflow: hidden; text-overflow: ellipsis; \">247</td><td style=\"white-space: nowrap; max-width: 500px; overflow: hidden; text-overflow: ellipsis; \">2.89e+03</td><td style=\"white-space: nowrap; max-width: 500px; overflow: hidden; text-overflow: ellipsis; \">2.33e-02</td><td style=\"white-space: nowrap; max-width: 500px; overflow: hidden; text-overflow: ellipsis; \">0</td></tr>\n",
       "<tr><td style=\"white-space: nowrap; max-width: 500px; overflow: hidden; text-overflow: ellipsis; \">&quot;KCNE1&quot;</td><td style=\"white-space: nowrap; max-width: 500px; overflow: hidden; text-overflow: ellipsis; \">80</td><td style=\"white-space: nowrap; max-width: 500px; overflow: hidden; text-overflow: ellipsis; \">8.29e+02</td><td style=\"white-space: nowrap; max-width: 500px; overflow: hidden; text-overflow: ellipsis; \">2.62e-02</td><td style=\"white-space: nowrap; max-width: 500px; overflow: hidden; text-overflow: ellipsis; \">0</td></tr>\n",
       "<tr><td style=\"white-space: nowrap; max-width: 500px; overflow: hidden; text-overflow: ellipsis; \">&quot;SLITRK4&quot;</td><td style=\"white-space: nowrap; max-width: 500px; overflow: hidden; text-overflow: ellipsis; \">11</td><td style=\"white-space: nowrap; max-width: 500px; overflow: hidden; text-overflow: ellipsis; \">7.58e+01</td><td style=\"white-space: nowrap; max-width: 500px; overflow: hidden; text-overflow: ellipsis; \">3.14e-02</td><td style=\"white-space: nowrap; max-width: 500px; overflow: hidden; text-overflow: ellipsis; \">0</td></tr>\n",
       "<tr><td style=\"white-space: nowrap; max-width: 500px; overflow: hidden; text-overflow: ellipsis; \">&quot;SLITRK2&quot;</td><td style=\"white-space: nowrap; max-width: 500px; overflow: hidden; text-overflow: ellipsis; \">18</td><td style=\"white-space: nowrap; max-width: 500px; overflow: hidden; text-overflow: ellipsis; \">7.26e+01</td><td style=\"white-space: nowrap; max-width: 500px; overflow: hidden; text-overflow: ellipsis; \">3.58e-02</td><td style=\"white-space: nowrap; max-width: 500px; overflow: hidden; text-overflow: ellipsis; \">0</td></tr>\n",
       "<tr><td style=\"white-space: nowrap; max-width: 500px; overflow: hidden; text-overflow: ellipsis; \">&quot;PCDH1&quot;</td><td style=\"white-space: nowrap; max-width: 500px; overflow: hidden; text-overflow: ellipsis; \">115</td><td style=\"white-space: nowrap; max-width: 500px; overflow: hidden; text-overflow: ellipsis; \">2.75e+03</td><td style=\"white-space: nowrap; max-width: 500px; overflow: hidden; text-overflow: ellipsis; \">5.12e-02</td><td style=\"white-space: nowrap; max-width: 500px; overflow: hidden; text-overflow: ellipsis; \">0</td></tr>\n",
       "<tr><td style=\"white-space: nowrap; max-width: 500px; overflow: hidden; text-overflow: ellipsis; \">&quot;NEGR1&quot;</td><td style=\"white-space: nowrap; max-width: 500px; overflow: hidden; text-overflow: ellipsis; \">1484</td><td style=\"white-space: nowrap; max-width: 500px; overflow: hidden; text-overflow: ellipsis; \">1.25e+04</td><td style=\"white-space: nowrap; max-width: 500px; overflow: hidden; text-overflow: ellipsis; \">1.39e-01</td><td style=\"white-space: nowrap; max-width: 500px; overflow: hidden; text-overflow: ellipsis; \">0</td></tr>\n",
       "<tr><td style=\"white-space: nowrap; max-width: 500px; overflow: hidden; text-overflow: ellipsis; \">&quot;MBP&quot;</td><td style=\"white-space: nowrap; max-width: 500px; overflow: hidden; text-overflow: ellipsis; \">768</td><td style=\"white-space: nowrap; max-width: 500px; overflow: hidden; text-overflow: ellipsis; \">4.17e+03</td><td style=\"white-space: nowrap; max-width: 500px; overflow: hidden; text-overflow: ellipsis; \">1.48e-01</td><td style=\"white-space: nowrap; max-width: 500px; overflow: hidden; text-overflow: ellipsis; \">0</td></tr>\n",
       "<tr><td style=\"white-space: nowrap; max-width: 500px; overflow: hidden; text-overflow: ellipsis; \">&quot;NIPBL&quot;</td><td style=\"white-space: nowrap; max-width: 500px; overflow: hidden; text-overflow: ellipsis; \">210</td><td style=\"white-space: nowrap; max-width: 500px; overflow: hidden; text-overflow: ellipsis; \">1.47e+03</td><td style=\"white-space: nowrap; max-width: 500px; overflow: hidden; text-overflow: ellipsis; \">1.74e-01</td><td style=\"white-space: nowrap; max-width: 500px; overflow: hidden; text-overflow: ellipsis; \">0</td></tr>\n",
       "<tr><td style=\"white-space: nowrap; max-width: 500px; overflow: hidden; text-overflow: ellipsis; \">&quot;CADM4&quot;</td><td style=\"white-space: nowrap; max-width: 500px; overflow: hidden; text-overflow: ellipsis; \">47</td><td style=\"white-space: nowrap; max-width: 500px; overflow: hidden; text-overflow: ellipsis; \">8.14e+02</td><td style=\"white-space: nowrap; max-width: 500px; overflow: hidden; text-overflow: ellipsis; \">1.97e-01</td><td style=\"white-space: nowrap; max-width: 500px; overflow: hidden; text-overflow: ellipsis; \">0</td></tr>\n",
       "<tr><td style=\"white-space: nowrap; max-width: 500px; overflow: hidden; text-overflow: ellipsis; \">&quot;WWC1&quot;</td><td style=\"white-space: nowrap; max-width: 500px; overflow: hidden; text-overflow: ellipsis; \">410</td><td style=\"white-space: nowrap; max-width: 500px; overflow: hidden; text-overflow: ellipsis; \">3.87e+03</td><td style=\"white-space: nowrap; max-width: 500px; overflow: hidden; text-overflow: ellipsis; \">2.08e-01</td><td style=\"white-space: nowrap; max-width: 500px; overflow: hidden; text-overflow: ellipsis; \">0</td></tr>\n",
       "</tbody></table><p style=\"background: #fdd; padding: 0.4em;\">showing top 20 rows</p>\n"
      ],
      "text/plain": [
       "+-----------+-------+----------+----------+-------+\n",
       "| id        |  size |   q_stat |  p_value | fault |\n",
       "+-----------+-------+----------+----------+-------+\n",
       "| str       | int32 |  float64 |  float64 | int32 |\n",
       "+-----------+-------+----------+----------+-------+\n",
       "| \"CHADL\"   |    97 | 4.31e+03 | 1.45e-05 |     0 |\n",
       "| \"DRD2\"    |   218 | 4.56e+03 | 8.12e-05 |     0 |\n",
       "| \"PCDH10\"  |   242 | 4.66e+03 | 5.33e-04 |     0 |\n",
       "| \"SORCS3\"  |  1347 | 1.67e+04 | 4.80e-03 |     0 |\n",
       "| \"MAOA\"    |     5 | 8.24e+01 | 5.89e-03 |     0 |\n",
       "| \"AADAC\"   |   133 | 2.11e+03 | 7.58e-03 |     0 |\n",
       "| \"CDH9\"    |   461 | 3.88e+03 | 1.17e-02 |     0 |\n",
       "| \"CHD8\"    |   148 | 1.11e+03 | 1.70e-02 |     0 |\n",
       "| \"SLITRK5\" |   135 | 1.23e+03 | 1.77e-02 |     0 |\n",
       "| \"KCNQ5\"   |  1092 | 1.11e+04 | 1.86e-02 |     0 |\n",
       "| \"HTR2A\"   |   247 | 2.89e+03 | 2.33e-02 |     0 |\n",
       "| \"KCNE1\"   |    80 | 8.29e+02 | 2.62e-02 |     0 |\n",
       "| \"SLITRK4\" |    11 | 7.58e+01 | 3.14e-02 |     0 |\n",
       "| \"SLITRK2\" |    18 | 7.26e+01 | 3.58e-02 |     0 |\n",
       "| \"PCDH1\"   |   115 | 2.75e+03 | 5.12e-02 |     0 |\n",
       "| \"NEGR1\"   |  1484 | 1.25e+04 | 1.39e-01 |     0 |\n",
       "| \"MBP\"     |   768 | 4.17e+03 | 1.48e-01 |     0 |\n",
       "| \"NIPBL\"   |   210 | 1.47e+03 | 1.74e-01 |     0 |\n",
       "| \"CADM4\"   |    47 | 8.14e+02 | 1.97e-01 |     0 |\n",
       "| \"WWC1\"    |   410 | 3.87e+03 | 2.08e-01 |     0 |\n",
       "+-----------+-------+----------+----------+-------+\n",
       "showing top 20 rows"
      ]
     },
     "metadata": {},
     "output_type": "display_data"
    },
    {
     "name": "stderr",
     "output_type": "stream",
     "text": [
      "2023-07-15 23:36:31.442 Hail: INFO: Coerced sorted dataset\n",
      "2023-07-15 23:36:31.444 Hail: INFO: Coerced dataset with out-of-order partitions.\n",
      "/net/pr2/projects/plgrid/plggneuromol/imdik-zekanowski-gts/venv-hail-0.2.113/lib/python3.10/site-packages/bokeh/models/sources.py:235: FutureWarning: iteritems is deprecated and will be removed in a future version. Use .items instead.\n",
      "  tmp_data = {c: v.values for c, v in _df.iteritems()}\n",
      "2023-07-15 23:36:35.182 Hail: INFO: Coerced sorted dataset\n",
      "2023-07-15 23:36:35.184 Hail: INFO: Coerced dataset with out-of-order partitions.\n"
     ]
    },
    {
     "data": {
      "text/html": [
       "\n",
       "\n",
       "\n",
       "\n",
       "\n",
       "\n",
       "  <div class=\"bk-root\" id=\"50d75da2-c7fc-4545-8312-de5444fb0a2b\" data-root-id=\"36692\"></div>\n"
      ]
     },
     "metadata": {},
     "output_type": "display_data"
    },
    {
     "data": {
      "application/javascript": [
       "(function(root) {\n",
       "  function embed_document(root) {\n",
       "    \n",
       "  var docs_json = {\"3faf5015-93fd-4979-bb30-e108faa33d87\":{\"roots\":{\"references\":[{\"attributes\":{\"below\":[{\"id\":\"36703\",\"type\":\"LinearAxis\"}],\"center\":[{\"id\":\"36707\",\"type\":\"Grid\"},{\"id\":\"36712\",\"type\":\"Grid\"},{\"id\":\"36736\",\"type\":\"Slope\"},{\"id\":\"36737\",\"type\":\"Label\"}],\"left\":[{\"id\":\"36708\",\"type\":\"LinearAxis\"}],\"plot_height\":800,\"plot_width\":800,\"renderers\":[{\"id\":\"36732\",\"type\":\"GlyphRenderer\"}],\"title\":{\"id\":\"36693\",\"type\":\"Title\"},\"toolbar\":{\"id\":\"36719\",\"type\":\"Toolbar\"},\"x_range\":{\"id\":\"36734\",\"type\":\"DataRange1d\"},\"x_scale\":{\"id\":\"36699\",\"type\":\"LinearScale\"},\"y_range\":{\"id\":\"36735\",\"type\":\"DataRange1d\"},\"y_scale\":{\"id\":\"36701\",\"type\":\"LinearScale\"}},\"id\":\"36692\",\"subtype\":\"Figure\",\"type\":\"Plot\"},{\"attributes\":{},\"id\":\"37403\",\"type\":\"BasicTickFormatter\"},{\"attributes\":{},\"id\":\"36701\",\"type\":\"LinearScale\"},{\"attributes\":{},\"id\":\"36704\",\"type\":\"BasicTicker\"},{\"attributes\":{\"axis_label\":\"Expected -log10(p)\",\"formatter\":{\"id\":\"37403\",\"type\":\"BasicTickFormatter\"},\"ticker\":{\"id\":\"36704\",\"type\":\"BasicTicker\"}},\"id\":\"36703\",\"type\":\"LinearAxis\"},{\"attributes\":{\"bottom_units\":\"screen\",\"fill_alpha\":{\"value\":0.5},\"fill_color\":{\"value\":\"lightgrey\"},\"left_units\":\"screen\",\"level\":\"overlay\",\"line_alpha\":{\"value\":1.0},\"line_color\":{\"value\":\"black\"},\"line_dash\":[4,4],\"line_width\":{\"value\":2},\"render_mode\":\"css\",\"right_units\":\"screen\",\"top_units\":\"screen\"},\"id\":\"37409\",\"type\":\"BoxAnnotation\"},{\"attributes\":{\"ticker\":{\"id\":\"36704\",\"type\":\"BasicTicker\"}},\"id\":\"36707\",\"type\":\"Grid\"},{\"attributes\":{\"callback\":null,\"data\":{\"index\":[0,1,2,3,4,5,6,7,8,9,10,11,12,13,14,15,16,17,18,19,20,21,22,23,24,25,26,27,28,29,30,31,32,33,34,35,36,37,38,39,40,41,42,43,44,45,46,47,48,49,50,51,52,53,54,55,56,57,58,59,60,61,62,63,64,65,66,67],\"p_value\":{\"__ndarray__\":\"AAAAAAAA8D/TF0LO+//vPwPN59zt+u8/Pbt868P67z8DXmbYKOvvP+/H7ZdP1u8/3LjF/NzQ7z+JsyJqos/vP1H1K50Pz+8/ZM+ey9Sk7z8nwRvSqEDvPyvCTUaV4e4/kE/IztvY7j+JXkax3NLuP6LvbmWJzu4/uqP/5Vq07j9RvqCFBIzuP85sV+iDZe4/VTGVfsJZ7j9Wfa62Yv/tP6Q33Eduze0/eomxTL/E7T/h62tdagTtP8qHoGr06uw/5Nu7Bn3p7D/PglDex9HsP0GbHD7pROs/xVVl3xVB6j883A4Ni9HpP5G28Scqm+k/ucFQhxVu6T+T/l4KDxrnP9EF9S1zuuU//G66ZYd45D8Np8zNN6LhP2snSkIibeE/mYI1zqaj4D83OXzSiQTfP4yd8BKc+t4/kSi0rPvH3D/NlNbfEoDcP/vNxHQhVtw/jsni/iPT2j88vVKWIY7VP95Zu+1Cc9A/GqN1VDVBzj+70cd8QKDLP/9YiA6BI8s/sVBrmnecyj8VjiCVYkfJP6eVQiCXOMY/U69bBMb6wj/n49pQMc7BPwahvI+jOao/xOqPMAxYoj9b75KT5BSgP/YbN0b81Jo/NT44RIHjlz875wLygA2TPx+YSA59HJI/gGAzZUxmkT8RsRx8vOuHP5M6AU2EDX8/ImW0Iw8jeD/oO88K0q1zP+hG3IxodUE/cufB2upLFT+pFjP48njuPg==\",\"dtype\":\"float64\",\"shape\":[68]},\"x\":{\"__ndarray__\":\"J70f9WvJpT89ajrdwBSpP0fi82bEbKw/CJYAttnRrz8UGFBFNKKxPxx2/sVuYrM/niE/TNUptT8EyVGOo/i2PwtIhjgYz7g/IXk0IHWtuj9hYQ97/5O8PwEfSBsAg74/B7eB2GE9wD+JjNqIzT3BPxPMA8PtQsI/4vGFj+9Mwz+IScOJAlzEP0orJhNZcMU//bdgiyiKxj8FYluOqanHPwxIhjgYz8g/D+9bcrT6yT8IBANEwizLPwlgITKKZcw/jrAdpVmlzT9SPEBcg+zOP4T5L/evHdA/n7AILSfJ0D8B7tFT2njRP8XC0E8ALdI/vmOCTNTl0j//X3cxlqPTPwdCMieLZtQ/gMO+Lv4u1T+kcUPPQP3VP0j2fd2r0dY/BIDzYaCs1z9mQq+jiI7YPwIMwV7Zd9k/V1JjLxNp2j+DVeA8xGLbPwhgITKKZdw/wx6BlRRy3T/91U+WJ4nePwWe4myfq98/An5QOTpt4D8jKZcRYAvhP8K556PhsOE/ALQ40nZe4j/e7pDO8xTjPwPe6DtP1eM/0XXxD6qg5D8BfUnZWXjlPwBDsFf2XeY/wee/xmtT5z9hTBDzE1voPwIMwV7Zd+k/IubmuWmt6j8AcYh6gADsPwObOORYd+0/ATqZgWMa7z9g0oe3unrwP4FkiIPxjPE/ABdsEUXR8j+Ae/SUNl70PwBDsFf2XfY/AFocaTsv+T+AOEQ9QAD+Pw==\",\"dtype\":\"float64\",\"shape\":[68]},\"y\":{\"__ndarray__\":\"d7S90r7IjD7LD7slizKsPtK74QxtnzE/+uTrMs8yMj+wkbXjeSBSP87pSfF+JmI/zBpnW1WHZD8oRMN80xBlP4/h+1uRUWU/nMaOr0Locz9pcPoEZQWFP/ZKy7xvp48/3NPQw15RkD8bG7wc4qeQPxCC3JlU5pA/lR5o+u5gkj9V7jjSoKqUP896f1aY3JY/0AGQZbyIlz/eNq7zrLycP+tECFi5o58/ag1vgaUSoD81cPafwcGlP0+RX8YohaY/Z3ATRn2Qpj8a1vDDHEenP0MaZndMybE/lhYeudoAtj+GEYInL923P1eumZ5PyLg/uWRpNLaMuT9Id2LmzhzCP4plsEMWhcU/a1Hl23zVyD8o3I5PTZDQPwWklql45NA/S766S1At0j90JHJr6CHUP7anFNfRKtQ/hLmHjmk21j+9tGb7M3zWP5tnF344pdY//ZgBS1Ar2D/sExiMhz/eP6DegnhY4eI/xjuC6JwL5D8nZu5M/E7lP5CG3LtPjuU/xScQ5STU5T+8frVd3ormP8cKmIeQVeg/ALzTW4eG6j9e3Jaou2nrPxr8wOUZpvQ/6DwaTuch9z/YqrpTCwz4P0rrZTltTvk/tU4CmRwd+j8LS0Jjeq/7P8Ayk0mhCfw/taKJmO9Q/D/cg0mLu+v+P1kJ0GtK9gBA2+gYNmHWAUCBECa2/osCQCdJvlYBMApA0SoUX2VcEED+iEjg01kTQA==\",\"dtype\":\"float64\",\"shape\":[68]}},\"selected\":{\"id\":\"37407\",\"type\":\"Selection\"},\"selection_policy\":{\"id\":\"37408\",\"type\":\"UnionRenderers\"}},\"id\":\"36728\",\"type\":\"ColumnDataSource\"},{\"attributes\":{},\"id\":\"37405\",\"type\":\"BasicTickFormatter\"},{\"attributes\":{},\"id\":\"36714\",\"type\":\"WheelZoomTool\"},{\"attributes\":{},\"id\":\"36699\",\"type\":\"LinearScale\"},{\"attributes\":{\"callback\":null,\"tooltips\":[[\"x\",\"@x\"],[\"y\",\"@y\"],[\"p_value\",\"@p_value\"]]},\"id\":\"36727\",\"type\":\"HoverTool\"},{\"attributes\":{\"callback\":null,\"end\":5.837722305705254,\"start\":0},\"id\":\"36735\",\"type\":\"DataRange1d\"},{\"attributes\":{},\"id\":\"37407\",\"type\":\"Selection\"},{\"attributes\":{\"active_drag\":\"auto\",\"active_inspect\":\"auto\",\"active_multi\":null,\"active_scroll\":\"auto\",\"active_tap\":\"auto\",\"tools\":[{\"id\":\"36713\",\"type\":\"PanTool\"},{\"id\":\"36714\",\"type\":\"WheelZoomTool\"},{\"id\":\"36715\",\"type\":\"BoxZoomTool\"},{\"id\":\"36716\",\"type\":\"SaveTool\"},{\"id\":\"36717\",\"type\":\"ResetTool\"},{\"id\":\"36718\",\"type\":\"HelpTool\"},{\"id\":\"36727\",\"type\":\"HoverTool\"}]},\"id\":\"36719\",\"type\":\"Toolbar\"},{\"attributes\":{},\"id\":\"36717\",\"type\":\"ResetTool\"},{\"attributes\":{\"gradient\":1,\"line_color\":{\"value\":\"red\"},\"y_intercept\":0},\"id\":\"36736\",\"type\":\"Slope\"},{\"attributes\":{\"fill_alpha\":{\"value\":0.1},\"fill_color\":{\"value\":\"#1f77b4\"},\"line_alpha\":{\"value\":0.1},\"line_color\":{\"value\":\"#1f77b4\"},\"size\":{\"units\":\"screen\",\"value\":6},\"x\":{\"field\":\"x\"},\"y\":{\"field\":\"y\"}},\"id\":\"36731\",\"type\":\"Circle\"},{\"attributes\":{\"text\":\"\\u03bb GC: 0.78\",\"text_color\":{\"value\":\"black\"},\"text_font_size\":{\"value\":\"14pt\"},\"text_font_style\":\"bold\",\"x\":4.112063959849466,\"y\":1},\"id\":\"36737\",\"type\":\"Label\"},{\"attributes\":{\"fill_color\":{\"value\":\"#1f77b4\"},\"line_color\":{\"value\":\"#1f77b4\"},\"size\":{\"units\":\"screen\",\"value\":6},\"x\":{\"field\":\"x\"},\"y\":{\"field\":\"y\"}},\"id\":\"36730\",\"type\":\"Circle\"},{\"attributes\":{\"data_source\":{\"id\":\"36728\",\"type\":\"ColumnDataSource\"},\"glyph\":{\"id\":\"36730\",\"type\":\"Circle\"},\"hover_glyph\":null,\"muted_glyph\":null,\"nonselection_glyph\":{\"id\":\"36731\",\"type\":\"Circle\"},\"selection_glyph\":null,\"view\":{\"id\":\"36733\",\"type\":\"CDSView\"}},\"id\":\"36732\",\"type\":\"GlyphRenderer\"},{\"attributes\":{},\"id\":\"37408\",\"type\":\"UnionRenderers\"},{\"attributes\":{},\"id\":\"36709\",\"type\":\"BasicTicker\"},{\"attributes\":{},\"id\":\"36716\",\"type\":\"SaveTool\"},{\"attributes\":{},\"id\":\"36718\",\"type\":\"HelpTool\"},{\"attributes\":{\"dimension\":1,\"ticker\":{\"id\":\"36709\",\"type\":\"BasicTicker\"}},\"id\":\"36712\",\"type\":\"Grid\"},{\"attributes\":{\"axis_label\":\"Observed -log10(p)\",\"formatter\":{\"id\":\"37405\",\"type\":\"BasicTickFormatter\"},\"ticker\":{\"id\":\"36709\",\"type\":\"BasicTicker\"}},\"id\":\"36708\",\"type\":\"LinearAxis\"},{\"attributes\":{\"overlay\":{\"id\":\"37409\",\"type\":\"BoxAnnotation\"}},\"id\":\"36715\",\"type\":\"BoxZoomTool\"},{\"attributes\":{\"callback\":null,\"end\":5.837722305705254,\"start\":0},\"id\":\"36734\",\"type\":\"DataRange1d\"},{\"attributes\":{\"text\":\"Q-Q plot\"},\"id\":\"36693\",\"type\":\"Title\"},{\"attributes\":{\"source\":{\"id\":\"36728\",\"type\":\"ColumnDataSource\"}},\"id\":\"36733\",\"type\":\"CDSView\"},{\"attributes\":{},\"id\":\"36713\",\"type\":\"PanTool\"}],\"root_ids\":[\"36692\"]},\"title\":\"Bokeh Application\",\"version\":\"1.4.0\"}};\n",
       "  var render_items = [{\"docid\":\"3faf5015-93fd-4979-bb30-e108faa33d87\",\"roots\":{\"36692\":\"50d75da2-c7fc-4545-8312-de5444fb0a2b\"}}];\n",
       "  root.Bokeh.embed.embed_items_notebook(docs_json, render_items);\n",
       "\n",
       "  }\n",
       "  if (root.Bokeh !== undefined) {\n",
       "    embed_document(root);\n",
       "  } else {\n",
       "    var attempts = 0;\n",
       "    var timer = setInterval(function(root) {\n",
       "      if (root.Bokeh !== undefined) {\n",
       "        clearInterval(timer);\n",
       "        embed_document(root);\n",
       "      } else {\n",
       "        attempts++;\n",
       "        if (attempts > 100) {\n",
       "          clearInterval(timer);\n",
       "          console.log(\"Bokeh: ERROR: Unable to run BokehJS code because BokehJS library is missing\");\n",
       "        }\n",
       "      }\n",
       "    }, 10, root)\n",
       "  }\n",
       "})(window);"
      ],
      "application/vnd.bokehjs_exec.v0+json": ""
     },
     "metadata": {
      "application/vnd.bokehjs_exec.v0+json": {
       "id": "36692"
      }
     },
     "output_type": "display_data"
    },
    {
     "name": "stderr",
     "output_type": "stream",
     "text": [
      "[Stage 1804:=====================================>             (651 + 12) / 878]\r"
     ]
    }
   ],
   "source": [
    "for idx, mt in enumerate(mts):\n",
    "    mt = mt.filter_rows(hl.literal(gene_list).contains(mt.nearest_genes_20kb))\n",
    "    skat_table, qq_plot = run_skat_log(mt, 8, 'scores_no_filter', '_polish_without_'+str(idx))\n",
    "    skat_tables.append(skat_table)\n",
    "    plots.append(qq_plot)"
   ]
  },
  {
   "cell_type": "code",
   "execution_count": null,
   "id": "4c3f8706-1c6b-44b1-951a-4a0f59d1c87c",
   "metadata": {
    "tags": []
   },
   "outputs": [],
   "source": [
    "skat_results = skat_tables[0]\n",
    "\n",
    "skat_results = skat_results.select(\n",
    "    skat_results.size\n",
    ")\n",
    "\n",
    "field_names = []\n",
    "\n",
    "for i in list(range(9)):\n",
    "    field_names.append('p_value_'+str(i))\n",
    "\n",
    "skat_results = skat_results.annotate(\n",
    "    **{\n",
    "        f'p_value_{idx}': skat_tables[idx][skat_results.id].p_value\n",
    "        for idx in list(range(9))\n",
    "    }\n",
    ")\n",
    "\n",
    "skat_results.export('polish-without-zeros-8.tsv')"
   ]
  },
  {
   "cell_type": "code",
   "execution_count": null,
   "id": "47fee8a3-7543-479f-b8bc-4d0c0a45ab1b",
   "metadata": {},
   "outputs": [],
   "source": []
  }
 ],
 "metadata": {
  "kernelspec": {
   "display_name": "Python 3 (ipykernel)",
   "language": "python",
   "name": "python3"
  },
  "language_info": {
   "codemirror_mode": {
    "name": "ipython",
    "version": 3
   },
   "file_extension": ".py",
   "mimetype": "text/x-python",
   "name": "python",
   "nbconvert_exporter": "python",
   "pygments_lexer": "ipython3",
   "version": "3.10.4"
  }
 },
 "nbformat": 4,
 "nbformat_minor": 5
}
