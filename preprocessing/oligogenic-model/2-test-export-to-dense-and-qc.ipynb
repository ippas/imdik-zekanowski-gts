{
 "cells": [
  {
   "cell_type": "code",
   "execution_count": 2,
   "id": "0c317ad1-5390-4837-8dea-6db922d50374",
   "metadata": {
    "tags": []
   },
   "outputs": [],
   "source": [
    "import os\n",
    "localfs_path = os.environ.get('SCRATCH_LOCAL') + '/'"
   ]
  },
  {
   "cell_type": "code",
   "execution_count": 3,
   "id": "c074269b-6a10-42d4-a6e5-3aaff3ae69fe",
   "metadata": {},
   "outputs": [
    {
     "name": "stderr",
     "output_type": "stream",
     "text": [
      "WARNING: An illegal reflective access operation has occurred\n",
      "WARNING: Illegal reflective access by org.apache.spark.unsafe.Platform (file:/net/pr2/projects/plgrid/plggneuromol/imdik-zekanowski-gts/venv-hail-0.2.105/lib/python3.10/site-packages/pyspark/jars/spark-unsafe_2.12-3.1.3.jar) to constructor java.nio.DirectByteBuffer(long,int)\n",
      "WARNING: Please consider reporting this to the maintainers of org.apache.spark.unsafe.Platform\n",
      "WARNING: Use --illegal-access=warn to enable warnings of further illegal reflective access operations\n",
      "WARNING: All illegal access operations will be denied in a future release\n"
     ]
    },
    {
     "name": "stdout",
     "output_type": "stream",
     "text": [
      "2023-03-31 16:47:03.111 WARN  NativeCodeLoader:60 - Unable to load native-hadoop library for your platform... using builtin-java classes where applicable\n"
     ]
    },
    {
     "name": "stderr",
     "output_type": "stream",
     "text": [
      "Setting default log level to \"WARN\".\n",
      "To adjust logging level use sc.setLogLevel(newLevel). For SparkR, use setLogLevel(newLevel).\n",
      "Running on Apache Spark version 3.1.3\n",
      "SparkUI available at http://ac0296:4040\n",
      "Welcome to\n",
      "     __  __     <>__\n",
      "    / /_/ /__  __/ /\n",
      "   / __  / _ `/ / /\n",
      "  /_/ /_/\\_,_/_/_/   version 0.2.109-b71b065e4bb6\n",
      "LOGGING: writing to /net/pr2/projects/plgrid/plggneuromol/imdik-zekanowski-gts/preprocessing/oligogenic-model/hail-20230331-1646-0.2.109-b71b065e4bb6.log\n"
     ]
    }
   ],
   "source": [
    "import hail as hl\n",
    "\n",
    "hl.init(\n",
    "    tmp_dir=(localfs_path+'tmp_hail'),\n",
    "    spark_conf={'spark.driver.memory': '30G', 'spark.executor.memory': '10G'}, # I don't know what should be here\n",
    "    default_reference='GRCh38') "
   ]
  },
  {
   "cell_type": "code",
   "execution_count": 4,
   "id": "c008373e-b4c3-47af-937d-33e65f2c68cd",
   "metadata": {
    "tags": []
   },
   "outputs": [],
   "source": [
    "from hail.ggplot import *\n",
    "\n",
    "import plotly\n",
    "import plotly.io as pio\n",
    "pio.renderers.default='iframe'"
   ]
  },
  {
   "cell_type": "code",
   "execution_count": 29,
   "id": "9aca38bd-86ba-45ed-a52a-8dcb42958831",
   "metadata": {
    "tags": []
   },
   "outputs": [],
   "source": [
    "full = hl.vds.read_vds('/net/ascratch/people/plggosborcz/full-rpkm.vds')\n",
    "full = hl.vds.to_dense_mt(full)\n",
    "\n",
    "full = full.naive_coalesce(2000)\n",
    "full.write('/net/pr2/projects/plgrid/plggneuromol/imdik-zekanowski-gts/data/mts/oligogenic-model/full-dense.mt')\n",
    "\n",
    "mt = hl.read_matrix_table('/net/pr2/projects/plgrid/plggneuromol/imdik-zekanowski-gts/data/mts/oligogenic-model/full-dense.mt')\n",
    "mt = mt.annotate_entries(\n",
    "    GT = hl.vds.lgt_to_gt(mt.LGT, mt.LA)\n",
    ")\n",
    "mt.write('/net/ascratch/people/plggosborcz/mt-gt.mt')"
   ]
  },
  {
   "cell_type": "code",
   "execution_count": 171,
   "id": "c68bb637-34d5-4dc4-a93f-0ee6ff656755",
   "metadata": {
    "tags": []
   },
   "outputs": [],
   "source": [
    "mt = hl.read_matrix_table('/net/ascratch/people/plggosborcz/mt-gt.mt')"
   ]
  },
  {
   "cell_type": "code",
   "execution_count": 5,
   "id": "606ec417-8b3d-478d-9793-0ef5a7adc614",
   "metadata": {
    "tags": []
   },
   "outputs": [],
   "source": [
    "mt = mt.filter_cols(mt.s != '494') #one sample removed due to quality issues\n",
    "mt = mt.filter_rows(hl.agg.any(mt.GT.is_non_ref()))\n",
    "\n",
    "# filter by gnomad coverage\n",
    "cov = hl.read_table('/net/pr2/projects/plgrid/plggneuromol/resources/gnomad/gnomad.genomes.r3.0.1.coverage.ht/')\n",
    "cov = cov.filter(cov.over_1 > 0.9)\n",
    "mt = mt.filter_rows(hl.is_defined(cov[mt.locus]), keep = True)\n",
    "\n",
    "mt = mt.annotate_cols(\n",
    "    group = hl.if_else(\n",
    "        mt.s.contains('B'),\n",
    "        'local_controls',\n",
    "        hl.if_else(\n",
    "            (mt.s.contains('NA') | mt.s.contains('HG')),\n",
    "            '1kg_controls',\n",
    "            'GTS'\n",
    "        )\n",
    "    )\n",
    ")   \n",
    "\n",
    "#perform per_group variant QC - dp and gq stats + hwe (for GTS and sportsmen only for now)\n",
    "mt = mt.annotate_rows(dp_qc = hl.agg.group_by(mt.group, hl.agg.stats(mt.DP)),\n",
    "                      gq_qc = hl.agg.group_by(mt.group, hl.agg.stats(mt.GQ)),\n",
    "                      hwe = hl.agg.group_by(mt.group, hl.agg.hardy_weinberg_test(mt.GT)))\n",
    "\n",
    "mt = mt.annotate_rows(n_below_dp_3 = hl.agg.group_by(mt.group, hl.agg.count_where(mt.DP < 3)),\n",
    "                      n_below_gq_30 = hl.agg.group_by(mt.group, hl.agg.count_where(mt.GQ <30)))\n",
    "\n",
    "mt = mt.filter_rows((mt.dp_qc.get('GTS', hl.struct(mean=0, stdev=0.0, min=0.0, max=0.0, n=0, sum=0.0)).mean > 5) &\n",
    "                    (mt.dp_qc.get('local_controls', hl.struct(mean=0, stdev=0.0, min=0.0, max=0.0, n=0, sum=0.0)).mean > 5) &\n",
    "                    (mt.gq_qc.get('GTS', hl.struct(mean=0.0, stdev=0.0, min=0.0, max=0.0, n=0, sum=0.0)).mean > 40) &\n",
    "                    (mt.gq_qc.get('local_controls', hl.struct(mean=0.0, stdev=0.0, min=0.0, max=0.0, n=0, sum=0.0)).mean > 40) &\n",
    "                    (mt.hwe.get('GTS', hl.struct(het_freq_hwe=0.0, p_value=0.5)).p_value > 1E-15) &\n",
    "                    (mt.hwe.get('local_controls', hl.struct(het_freq_hwe=0.0, p_value=0.5)).p_value > 1E-15) &\n",
    "                    (mt.n_below_dp_3.get('local_controls', 0) < 8) &\n",
    "                    (mt.n_below_gq_30.get('local_controls', 0) < 40) &\n",
    "                    (mt.n_below_dp_3.get('GTS', 0) < 8) &\n",
    "                    (mt.n_below_gq_30.get('GTS', 0) < 340))\n",
    "\n",
    "#perform sample and overall variant_qc\n",
    "mt = hl.variant_qc(mt)\n",
    "mt = hl.sample_qc(mt)\n",
    "\n",
    "#this is still to be run\n",
    "mt = mt.filter_cols(\n",
    "    (mt.sample_qc.n_singleton < 100000),\n",
    "    (mt.sample_qc.r_het_hom_var > 3.3),\n",
    "    (mt.samples_qc.call_rate > 0.9) #this is to implement still\n",
    ")\n",
    "\n",
    "mt = hl.split_multi_hts(mt)"
   ]
  },
  {
   "cell_type": "code",
   "execution_count": 6,
   "id": "6b96095e-c33b-4a5f-aef5-a88a38803f8e",
   "metadata": {
    "tags": []
   },
   "outputs": [
    {
     "name": "stderr",
     "output_type": "stream",
     "text": [
      "2023-03-31 11:42:56.089 Hail: INFO: wrote matrix table with 10733631 rows and 788 columns in 1995 partitions to /net/pr2/projects/plgrid/plggneuromol/imdik-zekanowski-gts/data/mts/oligogenic-model/mt-split.mt\n"
     ]
    }
   ],
   "source": [
    "mt.write('/net/pr2/projects/plgrid/plggneuromol/imdik-zekanowski-gts/data/mts/oligogenic-model/mt-split.mt')"
   ]
  },
  {
   "cell_type": "code",
   "execution_count": 9,
   "id": "466da0de-5d03-4d6f-86b8-a1ad68e9a7b8",
   "metadata": {
    "tags": []
   },
   "outputs": [],
   "source": [
    "gnomad = hl.read_table('/net/pr2/projects/plgrid/plggneuromol/resources/gnomad/gnomad.genomes.v3.1.1.sites.ht/')\n",
    "cadd = hl.read_table('/net/pr2/projects/plgrid/plggneuromol/resources/cadd.ht')\n",
    "vep = hl.read_table('/net/pr2/projects/plgrid/plggneuromol/resources/vep38/grch38_context_vep_annotated.ht')"
   ]
  },
  {
   "cell_type": "code",
   "execution_count": 11,
   "id": "8126ed09-bf4d-4b35-8357-0237c7a88c04",
   "metadata": {},
   "outputs": [],
   "source": [
    "mt = hl.read_matrix_table('/net/pr2/projects/plgrid/plggneuromol/imdik-zekanowski-gts/data/mts/oligogenic-model/mt-split.mt')\n",
    "\n",
    "mt = mt.annotate_rows(gnomad_v_3_1 = gnomad[mt.row_key])\n",
    "mt = mt.annotate_rows(cadd = cadd[mt.row_key])\n",
    "mt = mt.annotate_rows(vep = vep[mt.row_key])"
   ]
  },
  {
   "cell_type": "code",
   "execution_count": 13,
   "id": "74addc24-c3a2-43f5-830c-7a24b260d577",
   "metadata": {
    "tags": []
   },
   "outputs": [
    {
     "name": "stderr",
     "output_type": "stream",
     "text": [
      "2023-03-31 17:23:06.462 Hail: INFO: wrote matrix table with 10733631 rows and 788 columns in 1995 partitions to /net/pr2/projects/plgrid/plggneuromol/imdik-zekanowski-gts/data/mts/oligogenic-model/mt-anno.mt\n"
     ]
    }
   ],
   "source": [
    "mt.write('/net/pr2/projects/plgrid/plggneuromol/imdik-zekanowski-gts/data/mts/oligogenic-model/mt-anno.mt')"
   ]
  }
 ],
 "metadata": {
  "kernelspec": {
   "display_name": "Python 3 (ipykernel)",
   "language": "python",
   "name": "python3"
  },
  "language_info": {
   "codemirror_mode": {
    "name": "ipython",
    "version": 3
   },
   "file_extension": ".py",
   "mimetype": "text/x-python",
   "name": "python",
   "nbconvert_exporter": "python",
   "pygments_lexer": "ipython3",
   "version": "3.10.4"
  }
 },
 "nbformat": 4,
 "nbformat_minor": 5
}
