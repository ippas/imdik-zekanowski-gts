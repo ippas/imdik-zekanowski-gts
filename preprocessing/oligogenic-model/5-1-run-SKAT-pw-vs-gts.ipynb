{
 "cells": [
  {
   "cell_type": "code",
   "execution_count": 1,
   "id": "8830a0a3-d54a-4da3-8b32-a33ae3bbdb8c",
   "metadata": {},
   "outputs": [],
   "source": [
    "import numpy as np\n",
    "import os\n",
    "\n",
    "localfs_path = os.environ.get('SCRATCH_LOCAL') + '/'"
   ]
  },
  {
   "cell_type": "code",
   "execution_count": 2,
   "id": "7c4762a4-78b7-4788-aac0-b3510bd10a22",
   "metadata": {
    "tags": []
   },
   "outputs": [
    {
     "name": "stderr",
     "output_type": "stream",
     "text": [
      "Picked up _JAVA_OPTIONS: -Djava.io.tmpdir=/localfs/4609352/\n",
      "Picked up _JAVA_OPTIONS: -Djava.io.tmpdir=/localfs/4609352/\n"
     ]
    },
    {
     "name": "stdout",
     "output_type": "stream",
     "text": [
      "23/09/01 09:20:14 WARN NativeCodeLoader: Unable to load native-hadoop library for your platform... using builtin-java classes where applicable\n"
     ]
    },
    {
     "name": "stderr",
     "output_type": "stream",
     "text": [
      "Setting default log level to \"WARN\".\n",
      "To adjust logging level use sc.setLogLevel(newLevel). For SparkR, use setLogLevel(newLevel).\n",
      "Running on Apache Spark version 3.3.2\n",
      "SparkUI available at http://ac0767:4040\n",
      "Welcome to\n",
      "     __  __     <>__\n",
      "    / /_/ /__  __/ /\n",
      "   / __  / _ `/ / /\n",
      "  /_/ /_/\\_,_/_/_/   version 0.2.113-cf32652c5077\n",
      "LOGGING: writing to /net/pr2/projects/plgrid/plggneuromol/imdik-zekanowski-gts/preprocessing/oligogenic-model/hail-20230901-0919-0.2.113-cf32652c5077.log\n"
     ]
    }
   ],
   "source": [
    "os.environ['_JAVA_OPTIONS'] = f'-Djava.io.tmpdir={localfs_path}'\n",
    "\n",
    "import hail as hl\n",
    "\n",
    "hl.init(\n",
    "    tmp_dir=(localfs_path+'tmp_hail'),\n",
    "    spark_conf={'spark.driver.memory': '60G', 'spark.executor.memory': '60G'}, \n",
    "    default_reference='GRCh38'\n",
    ") "
   ]
  },
  {
   "cell_type": "code",
   "execution_count": 3,
   "id": "cf582ceb-8db7-456a-933f-137b8ccc157e",
   "metadata": {
    "tags": []
   },
   "outputs": [
    {
     "data": {
      "text/html": [
       "\n",
       "    <div class=\"bk-root\">\n",
       "        <a href=\"https://bokeh.org\" target=\"_blank\" class=\"bk-logo bk-logo-small bk-logo-notebook\"></a>\n",
       "        <span id=\"1001\">Loading BokehJS ...</span>\n",
       "    </div>"
      ]
     },
     "metadata": {},
     "output_type": "display_data"
    },
    {
     "data": {
      "application/javascript": [
       "\n",
       "(function(root) {\n",
       "  function now() {\n",
       "    return new Date();\n",
       "  }\n",
       "\n",
       "  var force = true;\n",
       "\n",
       "  if (typeof root._bokeh_onload_callbacks === \"undefined\" || force === true) {\n",
       "    root._bokeh_onload_callbacks = [];\n",
       "    root._bokeh_is_loading = undefined;\n",
       "  }\n",
       "\n",
       "  var JS_MIME_TYPE = 'application/javascript';\n",
       "  var HTML_MIME_TYPE = 'text/html';\n",
       "  var EXEC_MIME_TYPE = 'application/vnd.bokehjs_exec.v0+json';\n",
       "  var CLASS_NAME = 'output_bokeh rendered_html';\n",
       "\n",
       "  /**\n",
       "   * Render data to the DOM node\n",
       "   */\n",
       "  function render(props, node) {\n",
       "    var script = document.createElement(\"script\");\n",
       "    node.appendChild(script);\n",
       "  }\n",
       "\n",
       "  /**\n",
       "   * Handle when an output is cleared or removed\n",
       "   */\n",
       "  function handleClearOutput(event, handle) {\n",
       "    var cell = handle.cell;\n",
       "\n",
       "    var id = cell.output_area._bokeh_element_id;\n",
       "    var server_id = cell.output_area._bokeh_server_id;\n",
       "    // Clean up Bokeh references\n",
       "    if (id != null && id in Bokeh.index) {\n",
       "      Bokeh.index[id].model.document.clear();\n",
       "      delete Bokeh.index[id];\n",
       "    }\n",
       "\n",
       "    if (server_id !== undefined) {\n",
       "      // Clean up Bokeh references\n",
       "      var cmd = \"from bokeh.io.state import curstate; print(curstate().uuid_to_server['\" + server_id + \"'].get_sessions()[0].document.roots[0]._id)\";\n",
       "      cell.notebook.kernel.execute(cmd, {\n",
       "        iopub: {\n",
       "          output: function(msg) {\n",
       "            var id = msg.content.text.trim();\n",
       "            if (id in Bokeh.index) {\n",
       "              Bokeh.index[id].model.document.clear();\n",
       "              delete Bokeh.index[id];\n",
       "            }\n",
       "          }\n",
       "        }\n",
       "      });\n",
       "      // Destroy server and session\n",
       "      var cmd = \"import bokeh.io.notebook as ion; ion.destroy_server('\" + server_id + \"')\";\n",
       "      cell.notebook.kernel.execute(cmd);\n",
       "    }\n",
       "  }\n",
       "\n",
       "  /**\n",
       "   * Handle when a new output is added\n",
       "   */\n",
       "  function handleAddOutput(event, handle) {\n",
       "    var output_area = handle.output_area;\n",
       "    var output = handle.output;\n",
       "\n",
       "    // limit handleAddOutput to display_data with EXEC_MIME_TYPE content only\n",
       "    if ((output.output_type != \"display_data\") || (!output.data.hasOwnProperty(EXEC_MIME_TYPE))) {\n",
       "      return\n",
       "    }\n",
       "\n",
       "    var toinsert = output_area.element.find(\".\" + CLASS_NAME.split(' ')[0]);\n",
       "\n",
       "    if (output.metadata[EXEC_MIME_TYPE][\"id\"] !== undefined) {\n",
       "      toinsert[toinsert.length - 1].firstChild.textContent = output.data[JS_MIME_TYPE];\n",
       "      // store reference to embed id on output_area\n",
       "      output_area._bokeh_element_id = output.metadata[EXEC_MIME_TYPE][\"id\"];\n",
       "    }\n",
       "    if (output.metadata[EXEC_MIME_TYPE][\"server_id\"] !== undefined) {\n",
       "      var bk_div = document.createElement(\"div\");\n",
       "      bk_div.innerHTML = output.data[HTML_MIME_TYPE];\n",
       "      var script_attrs = bk_div.children[0].attributes;\n",
       "      for (var i = 0; i < script_attrs.length; i++) {\n",
       "        toinsert[toinsert.length - 1].firstChild.setAttribute(script_attrs[i].name, script_attrs[i].value);\n",
       "      }\n",
       "      // store reference to server id on output_area\n",
       "      output_area._bokeh_server_id = output.metadata[EXEC_MIME_TYPE][\"server_id\"];\n",
       "    }\n",
       "  }\n",
       "\n",
       "  function register_renderer(events, OutputArea) {\n",
       "\n",
       "    function append_mime(data, metadata, element) {\n",
       "      // create a DOM node to render to\n",
       "      var toinsert = this.create_output_subarea(\n",
       "        metadata,\n",
       "        CLASS_NAME,\n",
       "        EXEC_MIME_TYPE\n",
       "      );\n",
       "      this.keyboard_manager.register_events(toinsert);\n",
       "      // Render to node\n",
       "      var props = {data: data, metadata: metadata[EXEC_MIME_TYPE]};\n",
       "      render(props, toinsert[toinsert.length - 1]);\n",
       "      element.append(toinsert);\n",
       "      return toinsert\n",
       "    }\n",
       "\n",
       "    /* Handle when an output is cleared or removed */\n",
       "    events.on('clear_output.CodeCell', handleClearOutput);\n",
       "    events.on('delete.Cell', handleClearOutput);\n",
       "\n",
       "    /* Handle when a new output is added */\n",
       "    events.on('output_added.OutputArea', handleAddOutput);\n",
       "\n",
       "    /**\n",
       "     * Register the mime type and append_mime function with output_area\n",
       "     */\n",
       "    OutputArea.prototype.register_mime_type(EXEC_MIME_TYPE, append_mime, {\n",
       "      /* Is output safe? */\n",
       "      safe: true,\n",
       "      /* Index of renderer in `output_area.display_order` */\n",
       "      index: 0\n",
       "    });\n",
       "  }\n",
       "\n",
       "  // register the mime type if in Jupyter Notebook environment and previously unregistered\n",
       "  if (root.Jupyter !== undefined) {\n",
       "    var events = require('base/js/events');\n",
       "    var OutputArea = require('notebook/js/outputarea').OutputArea;\n",
       "\n",
       "    if (OutputArea.prototype.mime_types().indexOf(EXEC_MIME_TYPE) == -1) {\n",
       "      register_renderer(events, OutputArea);\n",
       "    }\n",
       "  }\n",
       "\n",
       "  \n",
       "  if (typeof (root._bokeh_timeout) === \"undefined\" || force === true) {\n",
       "    root._bokeh_timeout = Date.now() + 5000;\n",
       "    root._bokeh_failed_load = false;\n",
       "  }\n",
       "\n",
       "  var NB_LOAD_WARNING = {'data': {'text/html':\n",
       "     \"<div style='background-color: #fdd'>\\n\"+\n",
       "     \"<p>\\n\"+\n",
       "     \"BokehJS does not appear to have successfully loaded. If loading BokehJS from CDN, this \\n\"+\n",
       "     \"may be due to a slow or bad network connection. Possible fixes:\\n\"+\n",
       "     \"</p>\\n\"+\n",
       "     \"<ul>\\n\"+\n",
       "     \"<li>re-rerun `output_notebook()` to attempt to load from CDN again, or</li>\\n\"+\n",
       "     \"<li>use INLINE resources instead, as so:</li>\\n\"+\n",
       "     \"</ul>\\n\"+\n",
       "     \"<code>\\n\"+\n",
       "     \"from bokeh.resources import INLINE\\n\"+\n",
       "     \"output_notebook(resources=INLINE)\\n\"+\n",
       "     \"</code>\\n\"+\n",
       "     \"</div>\"}};\n",
       "\n",
       "  function display_loaded() {\n",
       "    var el = document.getElementById(\"1001\");\n",
       "    if (el != null) {\n",
       "      el.textContent = \"BokehJS is loading...\";\n",
       "    }\n",
       "    if (root.Bokeh !== undefined) {\n",
       "      if (el != null) {\n",
       "        el.textContent = \"BokehJS \" + root.Bokeh.version + \" successfully loaded.\";\n",
       "      }\n",
       "    } else if (Date.now() < root._bokeh_timeout) {\n",
       "      setTimeout(display_loaded, 100)\n",
       "    }\n",
       "  }\n",
       "\n",
       "\n",
       "  function run_callbacks() {\n",
       "    try {\n",
       "      root._bokeh_onload_callbacks.forEach(function(callback) {\n",
       "        if (callback != null)\n",
       "          callback();\n",
       "      });\n",
       "    } finally {\n",
       "      delete root._bokeh_onload_callbacks\n",
       "    }\n",
       "    console.debug(\"Bokeh: all callbacks have finished\");\n",
       "  }\n",
       "\n",
       "  function load_libs(css_urls, js_urls, callback) {\n",
       "    if (css_urls == null) css_urls = [];\n",
       "    if (js_urls == null) js_urls = [];\n",
       "\n",
       "    root._bokeh_onload_callbacks.push(callback);\n",
       "    if (root._bokeh_is_loading > 0) {\n",
       "      console.debug(\"Bokeh: BokehJS is being loaded, scheduling callback at\", now());\n",
       "      return null;\n",
       "    }\n",
       "    if (js_urls == null || js_urls.length === 0) {\n",
       "      run_callbacks();\n",
       "      return null;\n",
       "    }\n",
       "    console.debug(\"Bokeh: BokehJS not loaded, scheduling load and callback at\", now());\n",
       "    root._bokeh_is_loading = css_urls.length + js_urls.length;\n",
       "\n",
       "    function on_load() {\n",
       "      root._bokeh_is_loading--;\n",
       "      if (root._bokeh_is_loading === 0) {\n",
       "        console.debug(\"Bokeh: all BokehJS libraries/stylesheets loaded\");\n",
       "        run_callbacks()\n",
       "      }\n",
       "    }\n",
       "\n",
       "    function on_error() {\n",
       "      console.error(\"failed to load \" + url);\n",
       "    }\n",
       "\n",
       "    for (var i = 0; i < css_urls.length; i++) {\n",
       "      var url = css_urls[i];\n",
       "      const element = document.createElement(\"link\");\n",
       "      element.onload = on_load;\n",
       "      element.onerror = on_error;\n",
       "      element.rel = \"stylesheet\";\n",
       "      element.type = \"text/css\";\n",
       "      element.href = url;\n",
       "      console.debug(\"Bokeh: injecting link tag for BokehJS stylesheet: \", url);\n",
       "      document.body.appendChild(element);\n",
       "    }\n",
       "\n",
       "    for (var i = 0; i < js_urls.length; i++) {\n",
       "      var url = js_urls[i];\n",
       "      var element = document.createElement('script');\n",
       "      element.onload = on_load;\n",
       "      element.onerror = on_error;\n",
       "      element.async = false;\n",
       "      element.src = url;\n",
       "      console.debug(\"Bokeh: injecting script tag for BokehJS library: \", url);\n",
       "      document.head.appendChild(element);\n",
       "    }\n",
       "  };var element = document.getElementById(\"1001\");\n",
       "  if (element == null) {\n",
       "    console.error(\"Bokeh: ERROR: autoload.js configured with elementid '1001' but no matching script tag was found. \")\n",
       "    return false;\n",
       "  }\n",
       "\n",
       "  function inject_raw_css(css) {\n",
       "    const element = document.createElement(\"style\");\n",
       "    element.appendChild(document.createTextNode(css));\n",
       "    document.body.appendChild(element);\n",
       "  }\n",
       "\n",
       "  \n",
       "  var js_urls = [\"https://cdn.pydata.org/bokeh/release/bokeh-1.4.0.min.js\", \"https://cdn.pydata.org/bokeh/release/bokeh-widgets-1.4.0.min.js\", \"https://cdn.pydata.org/bokeh/release/bokeh-tables-1.4.0.min.js\", \"https://cdn.pydata.org/bokeh/release/bokeh-gl-1.4.0.min.js\"];\n",
       "  var css_urls = [];\n",
       "  \n",
       "\n",
       "  var inline_js = [\n",
       "    function(Bokeh) {\n",
       "      Bokeh.set_log_level(\"info\");\n",
       "    },\n",
       "    function(Bokeh) {\n",
       "    \n",
       "    \n",
       "    }\n",
       "  ];\n",
       "\n",
       "  function run_inline_js() {\n",
       "    \n",
       "    if (root.Bokeh !== undefined || force === true) {\n",
       "      \n",
       "    for (var i = 0; i < inline_js.length; i++) {\n",
       "      inline_js[i].call(root, root.Bokeh);\n",
       "    }\n",
       "    if (force === true) {\n",
       "        display_loaded();\n",
       "      }} else if (Date.now() < root._bokeh_timeout) {\n",
       "      setTimeout(run_inline_js, 100);\n",
       "    } else if (!root._bokeh_failed_load) {\n",
       "      console.log(\"Bokeh: BokehJS failed to load within specified timeout.\");\n",
       "      root._bokeh_failed_load = true;\n",
       "    } else if (force !== true) {\n",
       "      var cell = $(document.getElementById(\"1001\")).parents('.cell').data().cell;\n",
       "      cell.output_area.append_execute_result(NB_LOAD_WARNING)\n",
       "    }\n",
       "\n",
       "  }\n",
       "\n",
       "  if (root._bokeh_is_loading === 0) {\n",
       "    console.debug(\"Bokeh: BokehJS loaded, going straight to plotting\");\n",
       "    run_inline_js();\n",
       "  } else {\n",
       "    load_libs(css_urls, js_urls, function() {\n",
       "      console.debug(\"Bokeh: BokehJS plotting callback run at\", now());\n",
       "      run_inline_js();\n",
       "    });\n",
       "  }\n",
       "}(window));"
      ],
      "application/vnd.bokehjs_load.v0+json": "\n(function(root) {\n  function now() {\n    return new Date();\n  }\n\n  var force = true;\n\n  if (typeof root._bokeh_onload_callbacks === \"undefined\" || force === true) {\n    root._bokeh_onload_callbacks = [];\n    root._bokeh_is_loading = undefined;\n  }\n\n  \n\n  \n  if (typeof (root._bokeh_timeout) === \"undefined\" || force === true) {\n    root._bokeh_timeout = Date.now() + 5000;\n    root._bokeh_failed_load = false;\n  }\n\n  var NB_LOAD_WARNING = {'data': {'text/html':\n     \"<div style='background-color: #fdd'>\\n\"+\n     \"<p>\\n\"+\n     \"BokehJS does not appear to have successfully loaded. If loading BokehJS from CDN, this \\n\"+\n     \"may be due to a slow or bad network connection. Possible fixes:\\n\"+\n     \"</p>\\n\"+\n     \"<ul>\\n\"+\n     \"<li>re-rerun `output_notebook()` to attempt to load from CDN again, or</li>\\n\"+\n     \"<li>use INLINE resources instead, as so:</li>\\n\"+\n     \"</ul>\\n\"+\n     \"<code>\\n\"+\n     \"from bokeh.resources import INLINE\\n\"+\n     \"output_notebook(resources=INLINE)\\n\"+\n     \"</code>\\n\"+\n     \"</div>\"}};\n\n  function display_loaded() {\n    var el = document.getElementById(\"1001\");\n    if (el != null) {\n      el.textContent = \"BokehJS is loading...\";\n    }\n    if (root.Bokeh !== undefined) {\n      if (el != null) {\n        el.textContent = \"BokehJS \" + root.Bokeh.version + \" successfully loaded.\";\n      }\n    } else if (Date.now() < root._bokeh_timeout) {\n      setTimeout(display_loaded, 100)\n    }\n  }\n\n\n  function run_callbacks() {\n    try {\n      root._bokeh_onload_callbacks.forEach(function(callback) {\n        if (callback != null)\n          callback();\n      });\n    } finally {\n      delete root._bokeh_onload_callbacks\n    }\n    console.debug(\"Bokeh: all callbacks have finished\");\n  }\n\n  function load_libs(css_urls, js_urls, callback) {\n    if (css_urls == null) css_urls = [];\n    if (js_urls == null) js_urls = [];\n\n    root._bokeh_onload_callbacks.push(callback);\n    if (root._bokeh_is_loading > 0) {\n      console.debug(\"Bokeh: BokehJS is being loaded, scheduling callback at\", now());\n      return null;\n    }\n    if (js_urls == null || js_urls.length === 0) {\n      run_callbacks();\n      return null;\n    }\n    console.debug(\"Bokeh: BokehJS not loaded, scheduling load and callback at\", now());\n    root._bokeh_is_loading = css_urls.length + js_urls.length;\n\n    function on_load() {\n      root._bokeh_is_loading--;\n      if (root._bokeh_is_loading === 0) {\n        console.debug(\"Bokeh: all BokehJS libraries/stylesheets loaded\");\n        run_callbacks()\n      }\n    }\n\n    function on_error() {\n      console.error(\"failed to load \" + url);\n    }\n\n    for (var i = 0; i < css_urls.length; i++) {\n      var url = css_urls[i];\n      const element = document.createElement(\"link\");\n      element.onload = on_load;\n      element.onerror = on_error;\n      element.rel = \"stylesheet\";\n      element.type = \"text/css\";\n      element.href = url;\n      console.debug(\"Bokeh: injecting link tag for BokehJS stylesheet: \", url);\n      document.body.appendChild(element);\n    }\n\n    for (var i = 0; i < js_urls.length; i++) {\n      var url = js_urls[i];\n      var element = document.createElement('script');\n      element.onload = on_load;\n      element.onerror = on_error;\n      element.async = false;\n      element.src = url;\n      console.debug(\"Bokeh: injecting script tag for BokehJS library: \", url);\n      document.head.appendChild(element);\n    }\n  };var element = document.getElementById(\"1001\");\n  if (element == null) {\n    console.error(\"Bokeh: ERROR: autoload.js configured with elementid '1001' but no matching script tag was found. \")\n    return false;\n  }\n\n  function inject_raw_css(css) {\n    const element = document.createElement(\"style\");\n    element.appendChild(document.createTextNode(css));\n    document.body.appendChild(element);\n  }\n\n  \n  var js_urls = [\"https://cdn.pydata.org/bokeh/release/bokeh-1.4.0.min.js\", \"https://cdn.pydata.org/bokeh/release/bokeh-widgets-1.4.0.min.js\", \"https://cdn.pydata.org/bokeh/release/bokeh-tables-1.4.0.min.js\", \"https://cdn.pydata.org/bokeh/release/bokeh-gl-1.4.0.min.js\"];\n  var css_urls = [];\n  \n\n  var inline_js = [\n    function(Bokeh) {\n      Bokeh.set_log_level(\"info\");\n    },\n    function(Bokeh) {\n    \n    \n    }\n  ];\n\n  function run_inline_js() {\n    \n    if (root.Bokeh !== undefined || force === true) {\n      \n    for (var i = 0; i < inline_js.length; i++) {\n      inline_js[i].call(root, root.Bokeh);\n    }\n    if (force === true) {\n        display_loaded();\n      }} else if (Date.now() < root._bokeh_timeout) {\n      setTimeout(run_inline_js, 100);\n    } else if (!root._bokeh_failed_load) {\n      console.log(\"Bokeh: BokehJS failed to load within specified timeout.\");\n      root._bokeh_failed_load = true;\n    } else if (force !== true) {\n      var cell = $(document.getElementById(\"1001\")).parents('.cell').data().cell;\n      cell.output_area.append_execute_result(NB_LOAD_WARNING)\n    }\n\n  }\n\n  if (root._bokeh_is_loading === 0) {\n    console.debug(\"Bokeh: BokehJS loaded, going straight to plotting\");\n    run_inline_js();\n  } else {\n    load_libs(css_urls, js_urls, function() {\n      console.debug(\"Bokeh: BokehJS plotting callback run at\", now());\n      run_inline_js();\n    });\n  }\n}(window));"
     },
     "metadata": {},
     "output_type": "display_data"
    }
   ],
   "source": [
    "from bokeh.io import show, output_notebook\n",
    "from bokeh.layouts import gridplot\n",
    "output_notebook()"
   ]
  },
  {
   "cell_type": "code",
   "execution_count": 4,
   "id": "d487a2c3-e93e-47a2-a593-2c808615a863",
   "metadata": {
    "tags": []
   },
   "outputs": [],
   "source": [
    "%load_ext autoreload\n",
    "%autoreload 2"
   ]
  },
  {
   "cell_type": "code",
   "execution_count": 5,
   "id": "06b1e113-3d6a-4a63-a05d-cff7100ac25b",
   "metadata": {
    "tags": []
   },
   "outputs": [],
   "source": [
    "from oligogenic_model import prep_pl_for_skat, run_skat_log, run_skat_for_mts"
   ]
  },
  {
   "cell_type": "code",
   "execution_count": null,
   "id": "6c6b9a4c-f9a6-4d83-bd9a-e47411f65c47",
   "metadata": {
    "tags": []
   },
   "outputs": [
    {
     "name": "stderr",
     "output_type": "stream",
     "text": [
      "[Stage 0:===============================>                      (286 + 12) / 489]\r"
     ]
    }
   ],
   "source": [
    "mts = []\n",
    "\n",
    "for i in list(range(1,26)):\n",
    "    \n",
    "    mt = hl.read_matrix_table(\n",
    "        localfs_path+'after_pca_no_filters_gts_vs_pol_subseted'+str(i)+'.mt'\n",
    "    )\n",
    "    \n",
    "    mt = mt.checkpoint(\n",
    "        '/net/ascratch/people/plggosborcz/mts/after_pca_no_filters_gts_vs_pol_subseted'+str(i)+'.mt'\n",
    "    )\n",
    "    \n",
    "    mts.append(mt)"
   ]
  },
  {
   "cell_type": "code",
   "execution_count": null,
   "id": "f8a4c678-394a-4872-b35a-b207a532f9af",
   "metadata": {
    "tags": []
   },
   "outputs": [],
   "source": [
    "len(mts)"
   ]
  },
  {
   "cell_type": "markdown",
   "id": "dcbe2597-bd67-42dd-b617-9863d209b5e9",
   "metadata": {
    "tags": []
   },
   "source": [
    "### Run SKAT for pl vs controls"
   ]
  },
  {
   "cell_type": "markdown",
   "id": "6d1e2140-0151-45b4-8b0d-ffc04dcf953c",
   "metadata": {
    "tags": []
   },
   "source": [
    "#### annotate each of the mts with nearest genes and chekpoint:"
   ]
  },
  {
   "cell_type": "code",
   "execution_count": 11,
   "id": "47c72a05-7f02-40d2-9e17-a1331a171cce",
   "metadata": {
    "tags": []
   },
   "outputs": [],
   "source": [
    "mts = []\n",
    "\n",
    "for i in list(range(1,26)):\n",
    "    \n",
    "    mt = hl.read_matrix_table(\n",
    "        localfs_path+'after_pca_no_filters_gts_vs_pol_subseted'+str(i)+'.mt'\n",
    "    )\n",
    "    \n",
    "    mts.append(mt)"
   ]
  },
  {
   "cell_type": "code",
   "execution_count": 12,
   "id": "077a3c48-a1ab-4c1b-bdfa-92935e13fde3",
   "metadata": {
    "tags": []
   },
   "outputs": [
    {
     "data": {
      "text/plain": [
       "25"
      ]
     },
     "execution_count": 12,
     "metadata": {},
     "output_type": "execute_result"
    }
   ],
   "source": [
    "len(mts)"
   ]
  },
  {
   "cell_type": "code",
   "execution_count": null,
   "id": "f3e1e10a-d2bf-48d9-a3dc-5309306acf1d",
   "metadata": {
    "tags": []
   },
   "outputs": [
    {
     "name": "stderr",
     "output_type": "stream",
     "text": [
      "[Stage 0:=======================>                              (217 + 12) / 489]\r"
     ]
    }
   ],
   "source": [
    "mts = prep_pl_for_skat(mts)"
   ]
  },
  {
   "cell_type": "markdown",
   "id": "47aa91a7-1ecb-4964-9bd0-20e27deb38bf",
   "metadata": {
    "tags": []
   },
   "source": [
    "## Run SKAT for polish samples (9 different subsets) and GTS on scores, for all genes:"
   ]
  },
  {
   "cell_type": "code",
   "execution_count": null,
   "id": "9fd4dff5-736c-4fa8-831d-54b875d30a2d",
   "metadata": {
    "tags": []
   },
   "outputs": [],
   "source": [
    "mts = []\n",
    "\n",
    "for i in list(range(18)):\n",
    "    mt = hl.read_matrix_table(localfs_path+'_pl_'+str(i)+'ann.mt')\n",
    "    mts.append(mt)"
   ]
  },
  {
   "cell_type": "code",
   "execution_count": null,
   "id": "7e1193b4-4375-4382-91e0-28b4bc787435",
   "metadata": {
    "tags": []
   },
   "outputs": [],
   "source": [
    "len(mts)"
   ]
  },
  {
   "cell_type": "code",
   "execution_count": null,
   "id": "2988fd51-663b-46ce-bb5f-a676aad565c3",
   "metadata": {
    "tags": []
   },
   "outputs": [],
   "source": [
    "for i in list(range(18)):\n",
    "    mts[i].write(\n",
    "        '/net/ascratch/people/plggosborcz/mts/pl_'+str(i)+'ann_3k.mt'\n",
    "    )"
   ]
  },
  {
   "cell_type": "code",
   "execution_count": 13,
   "id": "ea220186-6d3f-4f83-8897-d1c6330041fc",
   "metadata": {
    "collapsed": true,
    "jupyter": {
     "outputs_hidden": true
    },
    "tags": []
   },
   "outputs": [
    {
     "ename": "FatalError",
     "evalue": "HailException: No file or directory found at /net/pr2/projects/plgrid/plggneuromol/imdik-zekanowski-gts/data/mts/oligogenic-model/pl_0ann_3k.mt\n\nJava stack trace:\nis.hail.utils.HailException: No file or directory found at /net/pr2/projects/plgrid/plggneuromol/imdik-zekanowski-gts/data/mts/oligogenic-model/pl_0ann_3k.mt\n\tat is.hail.utils.ErrorHandling.fatal(ErrorHandling.scala:17)\n\tat is.hail.utils.ErrorHandling.fatal$(ErrorHandling.scala:17)\n\tat is.hail.utils.package$.fatal(package.scala:78)\n\tat is.hail.expr.ir.RelationalSpec$.readMetadata(AbstractMatrixTableSpec.scala:33)\n\tat is.hail.expr.ir.RelationalSpec$.readReferences(AbstractMatrixTableSpec.scala:69)\n\tat is.hail.variant.ReferenceGenome$.fromHailDataset(ReferenceGenome.scala:560)\n\tat is.hail.backend.spark.SparkBackend.pyLoadReferencesFromDataset(SparkBackend.scala:618)\n\tat jdk.internal.reflect.GeneratedMethodAccessor11.invoke(Unknown Source)\n\tat java.base/jdk.internal.reflect.DelegatingMethodAccessorImpl.invoke(DelegatingMethodAccessorImpl.java:43)\n\tat java.base/java.lang.reflect.Method.invoke(Method.java:566)\n\tat py4j.reflection.MethodInvoker.invoke(MethodInvoker.java:244)\n\tat py4j.reflection.ReflectionEngine.invoke(ReflectionEngine.java:357)\n\tat py4j.Gateway.invoke(Gateway.java:282)\n\tat py4j.commands.AbstractCommand.invokeMethod(AbstractCommand.java:132)\n\tat py4j.commands.CallCommand.execute(CallCommand.java:79)\n\tat py4j.ClientServerConnection.waitForCommands(ClientServerConnection.java:182)\n\tat py4j.ClientServerConnection.run(ClientServerConnection.java:106)\n\tat java.base/java.lang.Thread.run(Thread.java:834)\n\n\n\nHail version: 0.2.113-cf32652c5077\nError summary: HailException: No file or directory found at /net/pr2/projects/plgrid/plggneuromol/imdik-zekanowski-gts/data/mts/oligogenic-model/pl_0ann_3k.mt",
     "output_type": "error",
     "traceback": [
      "\u001b[0;31m---------------------------------------------------------------------------\u001b[0m",
      "\u001b[0;31mFatalError\u001b[0m                                Traceback (most recent call last)",
      "Cell \u001b[0;32mIn[13], line 5\u001b[0m\n\u001b[1;32m      1\u001b[0m mts \u001b[38;5;241m=\u001b[39m []\n\u001b[1;32m      3\u001b[0m \u001b[38;5;28;01mfor\u001b[39;00m i \u001b[38;5;129;01min\u001b[39;00m \u001b[38;5;28mlist\u001b[39m(\u001b[38;5;28mrange\u001b[39m(\u001b[38;5;241m25\u001b[39m)):\n\u001b[1;32m      4\u001b[0m     mts\u001b[38;5;241m.\u001b[39mappend(\n\u001b[0;32m----> 5\u001b[0m         \u001b[43mhl\u001b[49m\u001b[38;5;241;43m.\u001b[39;49m\u001b[43mread_matrix_table\u001b[49m\u001b[43m(\u001b[49m\n\u001b[1;32m      6\u001b[0m \u001b[43m            \u001b[49m\u001b[38;5;124;43m'\u001b[39;49m\u001b[38;5;124;43m/net/pr2/projects/plgrid/plggneuromol/imdik-zekanowski-gts/data/mts/oligogenic-model/pl_\u001b[39;49m\u001b[38;5;124;43m'\u001b[39;49m\u001b[38;5;241;43m+\u001b[39;49m\u001b[38;5;28;43mstr\u001b[39;49m\u001b[43m(\u001b[49m\u001b[43mi\u001b[49m\u001b[43m)\u001b[49m\u001b[38;5;241;43m+\u001b[39;49m\u001b[38;5;124;43m'\u001b[39;49m\u001b[38;5;124;43mann_3k.mt\u001b[39;49m\u001b[38;5;124;43m'\u001b[39;49m\n\u001b[1;32m      7\u001b[0m \u001b[43m        \u001b[49m\u001b[43m)\u001b[49m\n\u001b[1;32m      8\u001b[0m     )\n",
      "File \u001b[0;32m<decorator-gen-1462>:2\u001b[0m, in \u001b[0;36mread_matrix_table\u001b[0;34m(path, _intervals, _filter_intervals, _drop_cols, _drop_rows, _create_row_uids, _create_col_uids, _n_partitions, _assert_type, _load_refs)\u001b[0m\n",
      "File \u001b[0;32m/net/pr2/projects/plgrid/plggneuromol/imdik-zekanowski-gts/venv-hail-0.2.113/lib/python3.10/site-packages/hail/typecheck/check.py:584\u001b[0m, in \u001b[0;36m_make_dec.<locals>.wrapper\u001b[0;34m(__original_func, *args, **kwargs)\u001b[0m\n\u001b[1;32m    581\u001b[0m \u001b[38;5;129m@decorator\u001b[39m\n\u001b[1;32m    582\u001b[0m \u001b[38;5;28;01mdef\u001b[39;00m \u001b[38;5;21mwrapper\u001b[39m(__original_func, \u001b[38;5;241m*\u001b[39margs, \u001b[38;5;241m*\u001b[39m\u001b[38;5;241m*\u001b[39mkwargs):\n\u001b[1;32m    583\u001b[0m     args_, kwargs_ \u001b[38;5;241m=\u001b[39m check_all(__original_func, args, kwargs, checkers, is_method\u001b[38;5;241m=\u001b[39mis_method)\n\u001b[0;32m--> 584\u001b[0m     \u001b[38;5;28;01mreturn\u001b[39;00m \u001b[43m__original_func\u001b[49m\u001b[43m(\u001b[49m\u001b[38;5;241;43m*\u001b[39;49m\u001b[43margs_\u001b[49m\u001b[43m,\u001b[49m\u001b[43m \u001b[49m\u001b[38;5;241;43m*\u001b[39;49m\u001b[38;5;241;43m*\u001b[39;49m\u001b[43mkwargs_\u001b[49m\u001b[43m)\u001b[49m\n",
      "File \u001b[0;32m/net/pr2/projects/plgrid/plggneuromol/imdik-zekanowski-gts/venv-hail-0.2.113/lib/python3.10/site-packages/hail/methods/impex.py:2550\u001b[0m, in \u001b[0;36mread_matrix_table\u001b[0;34m(path, _intervals, _filter_intervals, _drop_cols, _drop_rows, _create_row_uids, _create_col_uids, _n_partitions, _assert_type, _load_refs)\u001b[0m\n\u001b[1;32m   2538\u001b[0m \u001b[38;5;250m\u001b[39m\u001b[38;5;124;03m\"\"\"Read in a :class:`.MatrixTable` written with :meth:`.MatrixTable.write`.\u001b[39;00m\n\u001b[1;32m   2539\u001b[0m \n\u001b[1;32m   2540\u001b[0m \u001b[38;5;124;03mParameters\u001b[39;00m\n\u001b[0;32m   (...)\u001b[0m\n\u001b[1;32m   2547\u001b[0m \u001b[38;5;124;03m:class:`.MatrixTable`\u001b[39;00m\n\u001b[1;32m   2548\u001b[0m \u001b[38;5;124;03m\"\"\"\u001b[39;00m\n\u001b[1;32m   2549\u001b[0m \u001b[38;5;28;01mif\u001b[39;00m _load_refs:\n\u001b[0;32m-> 2550\u001b[0m     \u001b[38;5;28;01mfor\u001b[39;00m rg_config \u001b[38;5;129;01min\u001b[39;00m \u001b[43mEnv\u001b[49m\u001b[38;5;241;43m.\u001b[39;49m\u001b[43mbackend\u001b[49m\u001b[43m(\u001b[49m\u001b[43m)\u001b[49m\u001b[38;5;241;43m.\u001b[39;49m\u001b[43mload_references_from_dataset\u001b[49m\u001b[43m(\u001b[49m\u001b[43mpath\u001b[49m\u001b[43m)\u001b[49m:\n\u001b[1;32m   2551\u001b[0m         hl\u001b[38;5;241m.\u001b[39mReferenceGenome\u001b[38;5;241m.\u001b[39m_from_config(rg_config)\n\u001b[1;32m   2553\u001b[0m \u001b[38;5;28;01mif\u001b[39;00m _intervals \u001b[38;5;129;01mis\u001b[39;00m \u001b[38;5;129;01mnot\u001b[39;00m \u001b[38;5;28;01mNone\u001b[39;00m \u001b[38;5;129;01mand\u001b[39;00m _n_partitions \u001b[38;5;129;01mis\u001b[39;00m \u001b[38;5;129;01mnot\u001b[39;00m \u001b[38;5;28;01mNone\u001b[39;00m:\n",
      "File \u001b[0;32m/net/pr2/projects/plgrid/plggneuromol/imdik-zekanowski-gts/venv-hail-0.2.113/lib/python3.10/site-packages/hail/backend/py4j_backend.py:118\u001b[0m, in \u001b[0;36mPy4JBackend.load_references_from_dataset\u001b[0;34m(self, path)\u001b[0m\n\u001b[1;32m    117\u001b[0m \u001b[38;5;28;01mdef\u001b[39;00m \u001b[38;5;21mload_references_from_dataset\u001b[39m(\u001b[38;5;28mself\u001b[39m, path):\n\u001b[0;32m--> 118\u001b[0m     \u001b[38;5;28;01mreturn\u001b[39;00m json\u001b[38;5;241m.\u001b[39mloads(\u001b[38;5;28;43mself\u001b[39;49m\u001b[38;5;241;43m.\u001b[39;49m\u001b[43m_jbackend\u001b[49m\u001b[38;5;241;43m.\u001b[39;49m\u001b[43mpyLoadReferencesFromDataset\u001b[49m\u001b[43m(\u001b[49m\u001b[43mpath\u001b[49m\u001b[43m)\u001b[49m)\n",
      "File \u001b[0;32m/net/pr2/projects/plgrid/plggneuromol/imdik-zekanowski-gts/venv-hail-0.2.113/lib/python3.10/site-packages/py4j/java_gateway.py:1321\u001b[0m, in \u001b[0;36mJavaMember.__call__\u001b[0;34m(self, *args)\u001b[0m\n\u001b[1;32m   1315\u001b[0m command \u001b[38;5;241m=\u001b[39m proto\u001b[38;5;241m.\u001b[39mCALL_COMMAND_NAME \u001b[38;5;241m+\u001b[39m\\\n\u001b[1;32m   1316\u001b[0m     \u001b[38;5;28mself\u001b[39m\u001b[38;5;241m.\u001b[39mcommand_header \u001b[38;5;241m+\u001b[39m\\\n\u001b[1;32m   1317\u001b[0m     args_command \u001b[38;5;241m+\u001b[39m\\\n\u001b[1;32m   1318\u001b[0m     proto\u001b[38;5;241m.\u001b[39mEND_COMMAND_PART\n\u001b[1;32m   1320\u001b[0m answer \u001b[38;5;241m=\u001b[39m \u001b[38;5;28mself\u001b[39m\u001b[38;5;241m.\u001b[39mgateway_client\u001b[38;5;241m.\u001b[39msend_command(command)\n\u001b[0;32m-> 1321\u001b[0m return_value \u001b[38;5;241m=\u001b[39m \u001b[43mget_return_value\u001b[49m\u001b[43m(\u001b[49m\n\u001b[1;32m   1322\u001b[0m \u001b[43m    \u001b[49m\u001b[43manswer\u001b[49m\u001b[43m,\u001b[49m\u001b[43m \u001b[49m\u001b[38;5;28;43mself\u001b[39;49m\u001b[38;5;241;43m.\u001b[39;49m\u001b[43mgateway_client\u001b[49m\u001b[43m,\u001b[49m\u001b[43m \u001b[49m\u001b[38;5;28;43mself\u001b[39;49m\u001b[38;5;241;43m.\u001b[39;49m\u001b[43mtarget_id\u001b[49m\u001b[43m,\u001b[49m\u001b[43m \u001b[49m\u001b[38;5;28;43mself\u001b[39;49m\u001b[38;5;241;43m.\u001b[39;49m\u001b[43mname\u001b[49m\u001b[43m)\u001b[49m\n\u001b[1;32m   1324\u001b[0m \u001b[38;5;28;01mfor\u001b[39;00m temp_arg \u001b[38;5;129;01min\u001b[39;00m temp_args:\n\u001b[1;32m   1325\u001b[0m     temp_arg\u001b[38;5;241m.\u001b[39m_detach()\n",
      "File \u001b[0;32m/net/pr2/projects/plgrid/plggneuromol/imdik-zekanowski-gts/venv-hail-0.2.113/lib/python3.10/site-packages/hail/backend/py4j_backend.py:35\u001b[0m, in \u001b[0;36mhandle_java_exception.<locals>.deco\u001b[0;34m(*args, **kwargs)\u001b[0m\n\u001b[1;32m     33\u001b[0m     tpl \u001b[38;5;241m=\u001b[39m Env\u001b[38;5;241m.\u001b[39mjutils()\u001b[38;5;241m.\u001b[39mhandleForPython(e\u001b[38;5;241m.\u001b[39mjava_exception)\n\u001b[1;32m     34\u001b[0m     deepest, full, error_id \u001b[38;5;241m=\u001b[39m tpl\u001b[38;5;241m.\u001b[39m_1(), tpl\u001b[38;5;241m.\u001b[39m_2(), tpl\u001b[38;5;241m.\u001b[39m_3()\n\u001b[0;32m---> 35\u001b[0m     \u001b[38;5;28;01mraise\u001b[39;00m fatal_error_from_java_error_triplet(deepest, full, error_id) \u001b[38;5;28;01mfrom\u001b[39;00m \u001b[38;5;28;01mNone\u001b[39;00m\n\u001b[1;32m     36\u001b[0m \u001b[38;5;28;01mexcept\u001b[39;00m pyspark\u001b[38;5;241m.\u001b[39msql\u001b[38;5;241m.\u001b[39mutils\u001b[38;5;241m.\u001b[39mCapturedException \u001b[38;5;28;01mas\u001b[39;00m e:\n\u001b[1;32m     37\u001b[0m     \u001b[38;5;28;01mraise\u001b[39;00m FatalError(\u001b[38;5;124m'\u001b[39m\u001b[38;5;132;01m%s\u001b[39;00m\u001b[38;5;130;01m\\n\u001b[39;00m\u001b[38;5;130;01m\\n\u001b[39;00m\u001b[38;5;124mJava stack trace:\u001b[39m\u001b[38;5;130;01m\\n\u001b[39;00m\u001b[38;5;132;01m%s\u001b[39;00m\u001b[38;5;130;01m\\n\u001b[39;00m\u001b[38;5;124m'\u001b[39m\n\u001b[1;32m     38\u001b[0m                      \u001b[38;5;124m'\u001b[39m\u001b[38;5;124mHail version: \u001b[39m\u001b[38;5;132;01m%s\u001b[39;00m\u001b[38;5;130;01m\\n\u001b[39;00m\u001b[38;5;124m'\u001b[39m\n\u001b[1;32m     39\u001b[0m                      \u001b[38;5;124m'\u001b[39m\u001b[38;5;124mError summary: \u001b[39m\u001b[38;5;132;01m%s\u001b[39;00m\u001b[38;5;124m'\u001b[39m \u001b[38;5;241m%\u001b[39m (e\u001b[38;5;241m.\u001b[39mdesc, e\u001b[38;5;241m.\u001b[39mstackTrace, hail\u001b[38;5;241m.\u001b[39m__version__, e\u001b[38;5;241m.\u001b[39mdesc)) \u001b[38;5;28;01mfrom\u001b[39;00m \u001b[38;5;28;01mNone\u001b[39;00m\n",
      "\u001b[0;31mFatalError\u001b[0m: HailException: No file or directory found at /net/pr2/projects/plgrid/plggneuromol/imdik-zekanowski-gts/data/mts/oligogenic-model/pl_0ann_3k.mt\n\nJava stack trace:\nis.hail.utils.HailException: No file or directory found at /net/pr2/projects/plgrid/plggneuromol/imdik-zekanowski-gts/data/mts/oligogenic-model/pl_0ann_3k.mt\n\tat is.hail.utils.ErrorHandling.fatal(ErrorHandling.scala:17)\n\tat is.hail.utils.ErrorHandling.fatal$(ErrorHandling.scala:17)\n\tat is.hail.utils.package$.fatal(package.scala:78)\n\tat is.hail.expr.ir.RelationalSpec$.readMetadata(AbstractMatrixTableSpec.scala:33)\n\tat is.hail.expr.ir.RelationalSpec$.readReferences(AbstractMatrixTableSpec.scala:69)\n\tat is.hail.variant.ReferenceGenome$.fromHailDataset(ReferenceGenome.scala:560)\n\tat is.hail.backend.spark.SparkBackend.pyLoadReferencesFromDataset(SparkBackend.scala:618)\n\tat jdk.internal.reflect.GeneratedMethodAccessor11.invoke(Unknown Source)\n\tat java.base/jdk.internal.reflect.DelegatingMethodAccessorImpl.invoke(DelegatingMethodAccessorImpl.java:43)\n\tat java.base/java.lang.reflect.Method.invoke(Method.java:566)\n\tat py4j.reflection.MethodInvoker.invoke(MethodInvoker.java:244)\n\tat py4j.reflection.ReflectionEngine.invoke(ReflectionEngine.java:357)\n\tat py4j.Gateway.invoke(Gateway.java:282)\n\tat py4j.commands.AbstractCommand.invokeMethod(AbstractCommand.java:132)\n\tat py4j.commands.CallCommand.execute(CallCommand.java:79)\n\tat py4j.ClientServerConnection.waitForCommands(ClientServerConnection.java:182)\n\tat py4j.ClientServerConnection.run(ClientServerConnection.java:106)\n\tat java.base/java.lang.Thread.run(Thread.java:834)\n\n\n\nHail version: 0.2.113-cf32652c5077\nError summary: HailException: No file or directory found at /net/pr2/projects/plgrid/plggneuromol/imdik-zekanowski-gts/data/mts/oligogenic-model/pl_0ann_3k.mt"
     ]
    }
   ],
   "source": [
    "mts = []\n",
    "\n",
    "for i in list(range(25)):\n",
    "    mts.append(\n",
    "        hl.read_matrix_table(\n",
    "            '/net/pr2/projects/plgrid/plggneuromol/imdik-zekanowski-gts/data/mts/oligogenic-model/pl_'+str(i)+'ann_3k.mt'\n",
    "        )\n",
    "    )"
   ]
  },
  {
   "cell_type": "code",
   "execution_count": null,
   "id": "76a9caf8-70e0-4886-828d-a06622e6e0be",
   "metadata": {},
   "outputs": [],
   "source": [
    "def run_skat_for_mts(mt_list):\n",
    "    \n",
    "    skat_tables = []\n",
    "    plots = []\n",
    "    options = []\n",
    "\n",
    "    for idx, mtx in enumerate(mt_list):\n",
    "\n",
    "        for pc in list(range(21)):\n",
    "            \n",
    "            print('running with '+str(pc)+' PCs and the pruned scores option')\n",
    "            \n",
    "            if os.path.exists(localfs_path+'skat_table_'+str(pc)+'_scores_'+str(idx)+'.mt'):\n",
    "            \n",
    "                skat_table = hl.read_table(\n",
    "                        localfs_path+'skat_table_'+str(pc)+'_scores_'+str(idx)+'.mt'\n",
    "                    )\n",
    "                \n",
    "                skat_tables.append(skat_table)\n",
    "                \n",
    "                plots.append(\n",
    "                    hl.plot.qq(\n",
    "                        skat_table.p_value\n",
    "                    )\n",
    "                )\n",
    "                \n",
    "                options.append(\n",
    "                        'PCs '+str(pc)+' pruned scores subset '+str(idx)\n",
    "                    )\n",
    "                \n",
    "            else:\n",
    "                \n",
    "                try:\n",
    "                    skat_table, qq_plot = run_skat_log(\n",
    "                            mtx,\n",
    "                            pc,\n",
    "                            'scores_no_filter',\n",
    "                            '_part_'+str(idx)\n",
    "                    )\n",
    "\n",
    "                    skat_tables.append(skat_table)\n",
    "                    plots.append(qq_plot)\n",
    "\n",
    "                    options.append(\n",
    "                            'PCs '+str(pc)+' pruned scores'+'eur subset '+str(idx)\n",
    "                        )\n",
    "\n",
    "                except Exception as e:\n",
    "                    print('failed PCs '+str(pc)+' pruned scores'+'eur subset '+str(idx))\n",
    "                    print(type(e))\n",
    "                \n",
    "\n",
    "            print('running with '+str(pc)+' PCs and the just subsetet scores')\n",
    "            \n",
    "            if os.path.exists(localfs_path+'skat_table_'+str(pc)+'_scores_no_filter_parts_'+str(idx)+'.mt'):\n",
    "            \n",
    "                skat_table = hl.read_table(\n",
    "                    localfs_path+'skat_table_'+str(pc)+'_scores_no_filter_parts_'+str(idx)+'.mt'\n",
    "                )\n",
    "                \n",
    "                skat_tables.append(skat_table)\n",
    "                \n",
    "                plots.append(hl.plot.qq(\n",
    "                    skat_table.p_value\n",
    "                ))\n",
    "                options.append(\n",
    "                        'PCs '+str(pc)+' subseted scores subset '+str(idx)\n",
    "                    )\n",
    "                \n",
    "            else:\n",
    "                try:\n",
    "                    skat_table_no_filt, qq_plot_no_filt = run_skat_log(\n",
    "                        mtx,\n",
    "                        pc,\n",
    "                        'scores_no_filter',\n",
    "                        '_parts_'+str(idx)\n",
    "                    )\n",
    "\n",
    "                    skat_tables.append(skat_table_no_filt)\n",
    "                    plots.append(qq_plot_no_filt)\n",
    "                    options.append(\n",
    "                        'PCs '+str(pc)+' no filters subseted scores subset '+str(idx)\n",
    "                    )\n",
    "\n",
    "                except Exception as e:\n",
    "                    print('failed PCs '+str(pc)+' no filters subseted scores'+'eur subset '+str(idx))\n",
    "                    print(type(e))\n",
    "            \n",
    "    return(skat_tables, plots, options)"
   ]
  },
  {
   "cell_type": "code",
   "execution_count": 17,
   "id": "86b16b8b-8924-412b-bc81-c0b531be7585",
   "metadata": {
    "collapsed": true,
    "jupyter": {
     "outputs_hidden": true
    },
    "tags": []
   },
   "outputs": [
    {
     "name": "stdout",
     "output_type": "stream",
     "text": [
      "running with 0 PCs and the pruned scores option\n"
     ]
    },
    {
     "name": "stderr",
     "output_type": "stream",
     "text": [
      "2023-08-27 21:54:04.081 Hail: INFO: Ordering unsorted dataset with network shuffle\n",
      "2023-08-27 21:54:07.940 Hail: INFO: wrote table with 17405 rows in 489 partitions to /localfs/4609352/tmp_hail/persist_tableG7PsB05jFx\n",
      "    Total size: 520.56 KiB\n",
      "    * Rows: 520.55 KiB\n",
      "    * Globals: 11.00 B\n",
      "    * Smallest partition: 25 rows (733.00 B)\n",
      "    * Largest partition:  58 rows (1.73 KiB)\n",
      "2023-08-27 21:54:10.228 Hail: INFO: wrote table with 17405 rows in 489 partitions to /localfs/4609352/skat_table_0_scores_no_filter_part_0.mt\n",
      "2023-08-27 21:54:11.275 Hail: INFO: Ordering unsorted dataset with network shuffle\n"
     ]
    },
    {
     "data": {
      "text/html": [
       "<table><thead><tr><td style=\"white-space: nowrap; max-width: 500px; overflow: hidden; text-overflow: ellipsis; \" colspan=\"1\"><div style=\"text-align: left;\"></div></td><td style=\"white-space: nowrap; max-width: 500px; overflow: hidden; text-overflow: ellipsis; \" colspan=\"1\"><div style=\"text-align: left;\"></div></td><td style=\"white-space: nowrap; max-width: 500px; overflow: hidden; text-overflow: ellipsis; \" colspan=\"1\"><div style=\"text-align: left;\"></div></td><td style=\"white-space: nowrap; max-width: 500px; overflow: hidden; text-overflow: ellipsis; \" colspan=\"1\"><div style=\"text-align: left;\"></div></td><td style=\"white-space: nowrap; max-width: 500px; overflow: hidden; text-overflow: ellipsis; \" colspan=\"1\"><div style=\"text-align: left;\"></div></td></tr><tr><td style=\"white-space: nowrap; max-width: 500px; overflow: hidden; text-overflow: ellipsis; \" colspan=\"1\"><div style=\"text-align: left;border-bottom: solid 2px #000; padding-bottom: 5px\">id</div></td><td style=\"white-space: nowrap; max-width: 500px; overflow: hidden; text-overflow: ellipsis; \" colspan=\"1\"><div style=\"text-align: left;border-bottom: solid 2px #000; padding-bottom: 5px\">size</div></td><td style=\"white-space: nowrap; max-width: 500px; overflow: hidden; text-overflow: ellipsis; \" colspan=\"1\"><div style=\"text-align: left;border-bottom: solid 2px #000; padding-bottom: 5px\">q_stat</div></td><td style=\"white-space: nowrap; max-width: 500px; overflow: hidden; text-overflow: ellipsis; \" colspan=\"1\"><div style=\"text-align: left;border-bottom: solid 2px #000; padding-bottom: 5px\">p_value</div></td><td style=\"white-space: nowrap; max-width: 500px; overflow: hidden; text-overflow: ellipsis; \" colspan=\"1\"><div style=\"text-align: left;border-bottom: solid 2px #000; padding-bottom: 5px\">fault</div></td></tr><tr><td style=\"white-space: nowrap; max-width: 500px; overflow: hidden; text-overflow: ellipsis; text-align: left;\">str</td><td style=\"white-space: nowrap; max-width: 500px; overflow: hidden; text-overflow: ellipsis; text-align: left;\">int32</td><td style=\"white-space: nowrap; max-width: 500px; overflow: hidden; text-overflow: ellipsis; text-align: left;\">float64</td><td style=\"white-space: nowrap; max-width: 500px; overflow: hidden; text-overflow: ellipsis; text-align: left;\">float64</td><td style=\"white-space: nowrap; max-width: 500px; overflow: hidden; text-overflow: ellipsis; text-align: left;\">int32</td></tr>\n",
       "</thead><tbody><tr><td style=\"white-space: nowrap; max-width: 500px; overflow: hidden; text-overflow: ellipsis; \">&quot;CSF2RA&quot;</td><td style=\"white-space: nowrap; max-width: 500px; overflow: hidden; text-overflow: ellipsis; \">12</td><td style=\"white-space: nowrap; max-width: 500px; overflow: hidden; text-overflow: ellipsis; \">7.79e+02</td><td style=\"white-space: nowrap; max-width: 500px; overflow: hidden; text-overflow: ellipsis; \">-6.05e-09</td><td style=\"white-space: nowrap; max-width: 500px; overflow: hidden; text-overflow: ellipsis; \">0</td></tr>\n",
       "<tr><td style=\"white-space: nowrap; max-width: 500px; overflow: hidden; text-overflow: ellipsis; \">&quot;DHRSX&quot;</td><td style=\"white-space: nowrap; max-width: 500px; overflow: hidden; text-overflow: ellipsis; \">45</td><td style=\"white-space: nowrap; max-width: 500px; overflow: hidden; text-overflow: ellipsis; \">2.25e+03</td><td style=\"white-space: nowrap; max-width: 500px; overflow: hidden; text-overflow: ellipsis; \">0.00e+00</td><td style=\"white-space: nowrap; max-width: 500px; overflow: hidden; text-overflow: ellipsis; \">0</td></tr>\n",
       "<tr><td style=\"white-space: nowrap; max-width: 500px; overflow: hidden; text-overflow: ellipsis; \">&quot;OR7D2&quot;</td><td style=\"white-space: nowrap; max-width: 500px; overflow: hidden; text-overflow: ellipsis; \">11</td><td style=\"white-space: nowrap; max-width: 500px; overflow: hidden; text-overflow: ellipsis; \">1.69e+03</td><td style=\"white-space: nowrap; max-width: 500px; overflow: hidden; text-overflow: ellipsis; \">0.00e+00</td><td style=\"white-space: nowrap; max-width: 500px; overflow: hidden; text-overflow: ellipsis; \">0</td></tr>\n",
       "<tr><td style=\"white-space: nowrap; max-width: 500px; overflow: hidden; text-overflow: ellipsis; \">&quot;PLS3&quot;</td><td style=\"white-space: nowrap; max-width: 500px; overflow: hidden; text-overflow: ellipsis; \">1</td><td style=\"white-space: nowrap; max-width: 500px; overflow: hidden; text-overflow: ellipsis; \">6.30e-22</td><td style=\"white-space: nowrap; max-width: 500px; overflow: hidden; text-overflow: ellipsis; \">0.00e+00</td><td style=\"white-space: nowrap; max-width: 500px; overflow: hidden; text-overflow: ellipsis; \">0</td></tr>\n",
       "<tr><td style=\"white-space: nowrap; max-width: 500px; overflow: hidden; text-overflow: ellipsis; \">&quot;REPS2&quot;</td><td style=\"white-space: nowrap; max-width: 500px; overflow: hidden; text-overflow: ellipsis; \">1</td><td style=\"white-space: nowrap; max-width: 500px; overflow: hidden; text-overflow: ellipsis; \">2.63e-22</td><td style=\"white-space: nowrap; max-width: 500px; overflow: hidden; text-overflow: ellipsis; \">0.00e+00</td><td style=\"white-space: nowrap; max-width: 500px; overflow: hidden; text-overflow: ellipsis; \">0</td></tr>\n",
       "<tr><td style=\"white-space: nowrap; max-width: 500px; overflow: hidden; text-overflow: ellipsis; \">&quot;RSRP1&quot;</td><td style=\"white-space: nowrap; max-width: 500px; overflow: hidden; text-overflow: ellipsis; \">1</td><td style=\"white-space: nowrap; max-width: 500px; overflow: hidden; text-overflow: ellipsis; \">1.51e-21</td><td style=\"white-space: nowrap; max-width: 500px; overflow: hidden; text-overflow: ellipsis; \">0.00e+00</td><td style=\"white-space: nowrap; max-width: 500px; overflow: hidden; text-overflow: ellipsis; \">0</td></tr>\n",
       "<tr><td style=\"white-space: nowrap; max-width: 500px; overflow: hidden; text-overflow: ellipsis; \">&quot;ZBED1&quot;</td><td style=\"white-space: nowrap; max-width: 500px; overflow: hidden; text-overflow: ellipsis; \">12</td><td style=\"white-space: nowrap; max-width: 500px; overflow: hidden; text-overflow: ellipsis; \">5.39e+02</td><td style=\"white-space: nowrap; max-width: 500px; overflow: hidden; text-overflow: ellipsis; \">0.00e+00</td><td style=\"white-space: nowrap; max-width: 500px; overflow: hidden; text-overflow: ellipsis; \">0</td></tr>\n",
       "<tr><td style=\"white-space: nowrap; max-width: 500px; overflow: hidden; text-overflow: ellipsis; \">&quot;ZNF121&quot;</td><td style=\"white-space: nowrap; max-width: 500px; overflow: hidden; text-overflow: ellipsis; \">1</td><td style=\"white-space: nowrap; max-width: 500px; overflow: hidden; text-overflow: ellipsis; \">1.01e-21</td><td style=\"white-space: nowrap; max-width: 500px; overflow: hidden; text-overflow: ellipsis; \">0.00e+00</td><td style=\"white-space: nowrap; max-width: 500px; overflow: hidden; text-overflow: ellipsis; \">0</td></tr>\n",
       "<tr><td style=\"white-space: nowrap; max-width: 500px; overflow: hidden; text-overflow: ellipsis; \">&quot;ZNF317&quot;</td><td style=\"white-space: nowrap; max-width: 500px; overflow: hidden; text-overflow: ellipsis; \">8</td><td style=\"white-space: nowrap; max-width: 500px; overflow: hidden; text-overflow: ellipsis; \">1.71e+03</td><td style=\"white-space: nowrap; max-width: 500px; overflow: hidden; text-overflow: ellipsis; \">0.00e+00</td><td style=\"white-space: nowrap; max-width: 500px; overflow: hidden; text-overflow: ellipsis; \">0</td></tr>\n",
       "<tr><td style=\"white-space: nowrap; max-width: 500px; overflow: hidden; text-overflow: ellipsis; \">&quot;KANK1&quot;</td><td style=\"white-space: nowrap; max-width: 500px; overflow: hidden; text-overflow: ellipsis; \">100</td><td style=\"white-space: nowrap; max-width: 500px; overflow: hidden; text-overflow: ellipsis; \">4.26e+03</td><td style=\"white-space: nowrap; max-width: 500px; overflow: hidden; text-overflow: ellipsis; \">7.53e-09</td><td style=\"white-space: nowrap; max-width: 500px; overflow: hidden; text-overflow: ellipsis; \">0</td></tr>\n",
       "<tr><td style=\"white-space: nowrap; max-width: 500px; overflow: hidden; text-overflow: ellipsis; \">&quot;CTAGE6&quot;</td><td style=\"white-space: nowrap; max-width: 500px; overflow: hidden; text-overflow: ellipsis; \">2</td><td style=\"white-space: nowrap; max-width: 500px; overflow: hidden; text-overflow: ellipsis; \">2.61e+02</td><td style=\"white-space: nowrap; max-width: 500px; overflow: hidden; text-overflow: ellipsis; \">1.77e-08</td><td style=\"white-space: nowrap; max-width: 500px; overflow: hidden; text-overflow: ellipsis; \">0</td></tr>\n",
       "<tr><td style=\"white-space: nowrap; max-width: 500px; overflow: hidden; text-overflow: ellipsis; \">&quot;TBX2&quot;</td><td style=\"white-space: nowrap; max-width: 500px; overflow: hidden; text-overflow: ellipsis; \">8</td><td style=\"white-space: nowrap; max-width: 500px; overflow: hidden; text-overflow: ellipsis; \">3.67e+03</td><td style=\"white-space: nowrap; max-width: 500px; overflow: hidden; text-overflow: ellipsis; \">4.14e-08</td><td style=\"white-space: nowrap; max-width: 500px; overflow: hidden; text-overflow: ellipsis; \">0</td></tr>\n",
       "<tr><td style=\"white-space: nowrap; max-width: 500px; overflow: hidden; text-overflow: ellipsis; \">&quot;ZNF705B&quot;</td><td style=\"white-space: nowrap; max-width: 500px; overflow: hidden; text-overflow: ellipsis; \">1</td><td style=\"white-space: nowrap; max-width: 500px; overflow: hidden; text-overflow: ellipsis; \">6.32e+01</td><td style=\"white-space: nowrap; max-width: 500px; overflow: hidden; text-overflow: ellipsis; \">5.02e-08</td><td style=\"white-space: nowrap; max-width: 500px; overflow: hidden; text-overflow: ellipsis; \">0</td></tr>\n",
       "<tr><td style=\"white-space: nowrap; max-width: 500px; overflow: hidden; text-overflow: ellipsis; \">&quot;GTPBP6&quot;</td><td style=\"white-space: nowrap; max-width: 500px; overflow: hidden; text-overflow: ellipsis; \">13</td><td style=\"white-space: nowrap; max-width: 500px; overflow: hidden; text-overflow: ellipsis; \">7.82e+02</td><td style=\"white-space: nowrap; max-width: 500px; overflow: hidden; text-overflow: ellipsis; \">1.81e-07</td><td style=\"white-space: nowrap; max-width: 500px; overflow: hidden; text-overflow: ellipsis; \">0</td></tr>\n",
       "<tr><td style=\"white-space: nowrap; max-width: 500px; overflow: hidden; text-overflow: ellipsis; \">&quot;STARD3NL&quot;</td><td style=\"white-space: nowrap; max-width: 500px; overflow: hidden; text-overflow: ellipsis; \">23</td><td style=\"white-space: nowrap; max-width: 500px; overflow: hidden; text-overflow: ellipsis; \">2.09e+03</td><td style=\"white-space: nowrap; max-width: 500px; overflow: hidden; text-overflow: ellipsis; \">2.06e-07</td><td style=\"white-space: nowrap; max-width: 500px; overflow: hidden; text-overflow: ellipsis; \">0</td></tr>\n",
       "<tr><td style=\"white-space: nowrap; max-width: 500px; overflow: hidden; text-overflow: ellipsis; \">&quot;BCAS3&quot;</td><td style=\"white-space: nowrap; max-width: 500px; overflow: hidden; text-overflow: ellipsis; \">64</td><td style=\"white-space: nowrap; max-width: 500px; overflow: hidden; text-overflow: ellipsis; \">4.65e+03</td><td style=\"white-space: nowrap; max-width: 500px; overflow: hidden; text-overflow: ellipsis; \">2.75e-07</td><td style=\"white-space: nowrap; max-width: 500px; overflow: hidden; text-overflow: ellipsis; \">0</td></tr>\n",
       "<tr><td style=\"white-space: nowrap; max-width: 500px; overflow: hidden; text-overflow: ellipsis; \">&quot;SHOX&quot;</td><td style=\"white-space: nowrap; max-width: 500px; overflow: hidden; text-overflow: ellipsis; \">17</td><td style=\"white-space: nowrap; max-width: 500px; overflow: hidden; text-overflow: ellipsis; \">6.53e+02</td><td style=\"white-space: nowrap; max-width: 500px; overflow: hidden; text-overflow: ellipsis; \">3.04e-07</td><td style=\"white-space: nowrap; max-width: 500px; overflow: hidden; text-overflow: ellipsis; \">0</td></tr>\n",
       "<tr><td style=\"white-space: nowrap; max-width: 500px; overflow: hidden; text-overflow: ellipsis; \">&quot;PLCXD1&quot;</td><td style=\"white-space: nowrap; max-width: 500px; overflow: hidden; text-overflow: ellipsis; \">26</td><td style=\"white-space: nowrap; max-width: 500px; overflow: hidden; text-overflow: ellipsis; \">2.23e+03</td><td style=\"white-space: nowrap; max-width: 500px; overflow: hidden; text-overflow: ellipsis; \">5.31e-07</td><td style=\"white-space: nowrap; max-width: 500px; overflow: hidden; text-overflow: ellipsis; \">0</td></tr>\n",
       "<tr><td style=\"white-space: nowrap; max-width: 500px; overflow: hidden; text-overflow: ellipsis; \">&quot;AKAP17A&quot;</td><td style=\"white-space: nowrap; max-width: 500px; overflow: hidden; text-overflow: ellipsis; \">8</td><td style=\"white-space: nowrap; max-width: 500px; overflow: hidden; text-overflow: ellipsis; \">8.76e+02</td><td style=\"white-space: nowrap; max-width: 500px; overflow: hidden; text-overflow: ellipsis; \">6.76e-07</td><td style=\"white-space: nowrap; max-width: 500px; overflow: hidden; text-overflow: ellipsis; \">0</td></tr>\n",
       "<tr><td style=\"white-space: nowrap; max-width: 500px; overflow: hidden; text-overflow: ellipsis; \">&quot;TRMT2B&quot;</td><td style=\"white-space: nowrap; max-width: 500px; overflow: hidden; text-overflow: ellipsis; \">3</td><td style=\"white-space: nowrap; max-width: 500px; overflow: hidden; text-overflow: ellipsis; \">2.25e+02</td><td style=\"white-space: nowrap; max-width: 500px; overflow: hidden; text-overflow: ellipsis; \">7.50e-07</td><td style=\"white-space: nowrap; max-width: 500px; overflow: hidden; text-overflow: ellipsis; \">0</td></tr>\n",
       "</tbody></table><p style=\"background: #fdd; padding: 0.4em;\">showing top 20 rows</p>\n"
      ],
      "text/plain": [
       "+------------+-------+----------+-----------+-------+\n",
       "| id         |  size |   q_stat |   p_value | fault |\n",
       "+------------+-------+----------+-----------+-------+\n",
       "| str        | int32 |  float64 |   float64 | int32 |\n",
       "+------------+-------+----------+-----------+-------+\n",
       "| \"CSF2RA\"   |    12 | 7.79e+02 | -6.05e-09 |     0 |\n",
       "| \"DHRSX\"    |    45 | 2.25e+03 |  0.00e+00 |     0 |\n",
       "| \"OR7D2\"    |    11 | 1.69e+03 |  0.00e+00 |     0 |\n",
       "| \"PLS3\"     |     1 | 6.30e-22 |  0.00e+00 |     0 |\n",
       "| \"REPS2\"    |     1 | 2.63e-22 |  0.00e+00 |     0 |\n",
       "| \"RSRP1\"    |     1 | 1.51e-21 |  0.00e+00 |     0 |\n",
       "| \"ZBED1\"    |    12 | 5.39e+02 |  0.00e+00 |     0 |\n",
       "| \"ZNF121\"   |     1 | 1.01e-21 |  0.00e+00 |     0 |\n",
       "| \"ZNF317\"   |     8 | 1.71e+03 |  0.00e+00 |     0 |\n",
       "| \"KANK1\"    |   100 | 4.26e+03 |  7.53e-09 |     0 |\n",
       "| \"CTAGE6\"   |     2 | 2.61e+02 |  1.77e-08 |     0 |\n",
       "| \"TBX2\"     |     8 | 3.67e+03 |  4.14e-08 |     0 |\n",
       "| \"ZNF705B\"  |     1 | 6.32e+01 |  5.02e-08 |     0 |\n",
       "| \"GTPBP6\"   |    13 | 7.82e+02 |  1.81e-07 |     0 |\n",
       "| \"STARD3NL\" |    23 | 2.09e+03 |  2.06e-07 |     0 |\n",
       "| \"BCAS3\"    |    64 | 4.65e+03 |  2.75e-07 |     0 |\n",
       "| \"SHOX\"     |    17 | 6.53e+02 |  3.04e-07 |     0 |\n",
       "| \"PLCXD1\"   |    26 | 2.23e+03 |  5.31e-07 |     0 |\n",
       "| \"AKAP17A\"  |     8 | 8.76e+02 |  6.76e-07 |     0 |\n",
       "| \"TRMT2B\"   |     3 | 2.25e+02 |  7.50e-07 |     0 |\n",
       "+------------+-------+----------+-----------+-------+\n",
       "showing top 20 rows"
      ]
     },
     "metadata": {},
     "output_type": "display_data"
    },
    {
     "name": "stderr",
     "output_type": "stream",
     "text": [
      "2023-08-27 21:54:13.624 Hail: INFO: Ordering unsorted dataset with network shuffle\n",
      "/net/pr2/projects/plgrid/plggneuromol/imdik-zekanowski-gts/venv-hail-0.2.113/lib/python3.10/site-packages/bokeh/models/sources.py:235: FutureWarning: iteritems is deprecated and will be removed in a future version. Use .items instead.\n",
      "  tmp_data = {c: v.values for c, v in _df.iteritems()}\n",
      "2023-08-27 21:54:17.920 Hail: INFO: Ordering unsorted dataset with network shuffle\n"
     ]
    },
    {
     "data": {
      "text/html": [
       "\n",
       "\n",
       "\n",
       "\n",
       "\n",
       "\n",
       "  <div class=\"bk-root\" id=\"e5dd854a-1c20-4a6b-8f53-a683b389c8a9\" data-root-id=\"1003\"></div>\n"
      ]
     },
     "metadata": {},
     "output_type": "display_data"
    },
    {
     "data": {
      "application/javascript": [
       "(function(root) {\n",
       "  function embed_document(root) {\n",
       "    \n",
       "  var docs_json = {\"c7550e30-75e0-49e6-9461-c6a2271fe694\":{\"roots\":{\"references\":[{\"attributes\":{\"below\":[{\"id\":\"1014\",\"type\":\"LinearAxis\"}],\"center\":[{\"id\":\"1018\",\"type\":\"Grid\"},{\"id\":\"1023\",\"type\":\"Grid\"},{\"id\":\"1047\",\"type\":\"Slope\"},{\"id\":\"1048\",\"type\":\"Label\"}],\"left\":[{\"id\":\"1019\",\"type\":\"LinearAxis\"}],\"plot_height\":800,\"plot_width\":800,\"renderers\":[{\"id\":\"1043\",\"type\":\"GlyphRenderer\"}],\"title\":{\"id\":\"1004\",\"type\":\"Title\"},\"toolbar\":{\"id\":\"1030\",\"type\":\"Toolbar\"},\"x_range\":{\"id\":\"1045\",\"type\":\"DataRange1d\"},\"x_scale\":{\"id\":\"1010\",\"type\":\"LinearScale\"},\"y_range\":{\"id\":\"1046\",\"type\":\"DataRange1d\"},\"y_scale\":{\"id\":\"1012\",\"type\":\"LinearScale\"}},\"id\":\"1003\",\"subtype\":\"Figure\",\"type\":\"Plot\"},{\"attributes\":{},\"id\":\"1056\",\"type\":\"UnionRenderers\"},{\"attributes\":{\"text\":\"Q-Q plot\"},\"id\":\"1004\",\"type\":\"Title\"},{\"attributes\":{\"callback\":null,\"end\":null,\"start\":0},\"id\":\"1045\",\"type\":\"DataRange1d\"},{\"attributes\":{\"callback\":null,\"data\":{\"index\":[0,1,2,3,4,5,6,7,8,9,10,11,12,13,14,15,16,17,18,19,20,21,22,23,24,25,26,27,28,29,30,31,32,33,34,35,36,37,38,39,40,41,42,43,44,45,46,47,48,49,50,51,52,53,54,55,56,57,58,59,60,61,62,63,64,65,66,67,68,69,70,71,72,73,74,75,76,77,78,79,80,81,82,83,84,85,86,87,88,89,90,91,92,93,94,95,96,97,98,99,100,101,102,103,104,105,106,107,108,109,110,111,112,113,114,115,116,117,118,119,120,121,122,123,124,125,126,127,128,129,130,131,132,133,134,135,136,137,138,139,140,141,142,143,144,145,146,147,148,149,150,151,152,153,154,155,156,157,158,159,160,161,162,163,164,165,166,167,168,169,170,171,172,173,174,175,176,177,178,179,180,181,182,183,184,185,186,187,188,189,190,191,192,193,194,195,196,197,198,199,200,201,202,203,204,205,206,207,208,209,210,211,212,213,214,215,216,217,218,219,220,221,222,223,224,225,226,227,228,229,230,231,232,233,234,235,236,237,238,239,240,241,242,243,244,245,246,247,248,249,250,251,252,253,254,255,256,257,258,259,260,261,262,263,264,265,266,267,268,269,270,271,272,273,274,275,276,277,278,279,280,281,282,283,284,285,286,287,288,289,290,291,292,293,294,295,296,297,298,299,300,301,302,303,304,305,306,307,308,309,310,311,312,313,314,315,316,317,318,319,320,321,322,323,324,325,326,327,328,329,330,331,332,333,334,335,336,337,338,339,340,341,342,343,344,345,346,347,348,349,350,351,352,353,354,355,356,357,358,359,360,361,362,363,364,365,366,367,368,369,370,371,372,373,374,375,376,377,378,379,380,381,382,383,384,385,386,387,388,389,390,391,392,393,394,395,396,397,398,399,400,401,402,403,404,405,406,407,408,409,410,411,412,413,414,415,416,417,418,419,420,421,422,423,424,425,426,427,428,429,430,431,432,433,434,435,436,437,438,439,440,441,442,443,444,445,446,447,448,449,450,451,452,453,454,455,456,457,458,459,460,461,462,463,464,465,466,467,468,469,470,471,472,473,474,475,476,477,478,479,480,481,482,483,484,485,486,487,488,489,490,491,492,493,494,495,496,497,498,499,500,501,502,503,504,505,506,507,508,509,510,511,512,513,514,515,516,517,518,519,520,521,522,523,524,525],\"p_value\":{\"__ndarray__\":\"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\",\"dtype\":\"float64\",\"shape\":[526]},\"x\":{\"__ndarray__\":\"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\",\"dtype\":\"float64\",\"shape\":[526]},\"y\":{\"__ndarray__\":\"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\",\"dtype\":\"float64\",\"shape\":[526]}},\"selected\":{\"id\":\"1055\",\"type\":\"Selection\"},\"selection_policy\":{\"id\":\"1056\",\"type\":\"UnionRenderers\"}},\"id\":\"1039\",\"type\":\"ColumnDataSource\"},{\"attributes\":{\"axis_label\":\"Observed -log10(p)\",\"formatter\":{\"id\":\"1050\",\"type\":\"BasicTickFormatter\"},\"ticker\":{\"id\":\"1020\",\"type\":\"BasicTicker\"}},\"id\":\"1019\",\"type\":\"LinearAxis\"},{\"attributes\":{\"fill_color\":{\"value\":\"#1f77b4\"},\"line_color\":{\"value\":\"#1f77b4\"},\"size\":{\"units\":\"screen\",\"value\":6},\"x\":{\"field\":\"x\"},\"y\":{\"field\":\"y\"}},\"id\":\"1041\",\"type\":\"Circle\"},{\"attributes\":{},\"id\":\"1055\",\"type\":\"Selection\"},{\"attributes\":{\"fill_alpha\":{\"value\":0.1},\"fill_color\":{\"value\":\"#1f77b4\"},\"line_alpha\":{\"value\":0.1},\"line_color\":{\"value\":\"#1f77b4\"},\"size\":{\"units\":\"screen\",\"value\":6},\"x\":{\"field\":\"x\"},\"y\":{\"field\":\"y\"}},\"id\":\"1042\",\"type\":\"Circle\"},{\"attributes\":{\"callback\":null,\"tooltips\":[[\"x\",\"@x\"],[\"y\",\"@y\"],[\"p_value\",\"@p_value\"]]},\"id\":\"1038\",\"type\":\"HoverTool\"},{\"attributes\":{\"callback\":null,\"end\":null,\"start\":0},\"id\":\"1046\",\"type\":\"DataRange1d\"},{\"attributes\":{},\"id\":\"1028\",\"type\":\"ResetTool\"},{\"attributes\":{\"axis_label\":\"Expected -log10(p)\",\"formatter\":{\"id\":\"1052\",\"type\":\"BasicTickFormatter\"},\"ticker\":{\"id\":\"1015\",\"type\":\"BasicTicker\"}},\"id\":\"1014\",\"type\":\"LinearAxis\"},{\"attributes\":{},\"id\":\"1029\",\"type\":\"HelpTool\"},{\"attributes\":{\"gradient\":1,\"line_color\":{\"value\":\"red\"},\"y_intercept\":0},\"id\":\"1047\",\"type\":\"Slope\"},{\"attributes\":{\"source\":{\"id\":\"1039\",\"type\":\"ColumnDataSource\"}},\"id\":\"1044\",\"type\":\"CDSView\"},{\"attributes\":{\"ticker\":{\"id\":\"1015\",\"type\":\"BasicTicker\"}},\"id\":\"1018\",\"type\":\"Grid\"},{\"attributes\":{\"active_drag\":\"auto\",\"active_inspect\":\"auto\",\"active_multi\":null,\"active_scroll\":\"auto\",\"active_tap\":\"auto\",\"tools\":[{\"id\":\"1024\",\"type\":\"PanTool\"},{\"id\":\"1025\",\"type\":\"WheelZoomTool\"},{\"id\":\"1026\",\"type\":\"BoxZoomTool\"},{\"id\":\"1027\",\"type\":\"SaveTool\"},{\"id\":\"1028\",\"type\":\"ResetTool\"},{\"id\":\"1029\",\"type\":\"HelpTool\"},{\"id\":\"1038\",\"type\":\"HoverTool\"}]},\"id\":\"1030\",\"type\":\"Toolbar\"},{\"attributes\":{},\"id\":\"1027\",\"type\":\"SaveTool\"},{\"attributes\":{\"dimension\":1,\"ticker\":{\"id\":\"1020\",\"type\":\"BasicTicker\"}},\"id\":\"1023\",\"type\":\"Grid\"},{\"attributes\":{},\"id\":\"1012\",\"type\":\"LinearScale\"},{\"attributes\":{\"bottom_units\":\"screen\",\"fill_alpha\":{\"value\":0.5},\"fill_color\":{\"value\":\"lightgrey\"},\"left_units\":\"screen\",\"level\":\"overlay\",\"line_alpha\":{\"value\":1.0},\"line_color\":{\"value\":\"black\"},\"line_dash\":[4,4],\"line_width\":{\"value\":2},\"render_mode\":\"css\",\"right_units\":\"screen\",\"top_units\":\"screen\"},\"id\":\"1054\",\"type\":\"BoxAnnotation\"},{\"attributes\":{\"text\":\"\\u03bb GC: 1.47\",\"text_color\":{\"value\":\"red\"},\"text_font_size\":{\"value\":\"14pt\"},\"text_font_style\":\"bold\",\"x\":null,\"y\":1},\"id\":\"1048\",\"type\":\"Label\"},{\"attributes\":{},\"id\":\"1010\",\"type\":\"LinearScale\"},{\"attributes\":{},\"id\":\"1050\",\"type\":\"BasicTickFormatter\"},{\"attributes\":{},\"id\":\"1015\",\"type\":\"BasicTicker\"},{\"attributes\":{},\"id\":\"1025\",\"type\":\"WheelZoomTool\"},{\"attributes\":{},\"id\":\"1020\",\"type\":\"BasicTicker\"},{\"attributes\":{},\"id\":\"1024\",\"type\":\"PanTool\"},{\"attributes\":{},\"id\":\"1052\",\"type\":\"BasicTickFormatter\"},{\"attributes\":{\"data_source\":{\"id\":\"1039\",\"type\":\"ColumnDataSource\"},\"glyph\":{\"id\":\"1041\",\"type\":\"Circle\"},\"hover_glyph\":null,\"muted_glyph\":null,\"nonselection_glyph\":{\"id\":\"1042\",\"type\":\"Circle\"},\"selection_glyph\":null,\"view\":{\"id\":\"1044\",\"type\":\"CDSView\"}},\"id\":\"1043\",\"type\":\"GlyphRenderer\"},{\"attributes\":{\"overlay\":{\"id\":\"1054\",\"type\":\"BoxAnnotation\"}},\"id\":\"1026\",\"type\":\"BoxZoomTool\"}],\"root_ids\":[\"1003\"]},\"title\":\"Bokeh Application\",\"version\":\"1.4.0\"}};\n",
       "  var render_items = [{\"docid\":\"c7550e30-75e0-49e6-9461-c6a2271fe694\",\"roots\":{\"1003\":\"e5dd854a-1c20-4a6b-8f53-a683b389c8a9\"}}];\n",
       "  root.Bokeh.embed.embed_items_notebook(docs_json, render_items);\n",
       "\n",
       "  }\n",
       "  if (root.Bokeh !== undefined) {\n",
       "    embed_document(root);\n",
       "  } else {\n",
       "    var attempts = 0;\n",
       "    var timer = setInterval(function(root) {\n",
       "      if (root.Bokeh !== undefined) {\n",
       "        clearInterval(timer);\n",
       "        embed_document(root);\n",
       "      } else {\n",
       "        attempts++;\n",
       "        if (attempts > 100) {\n",
       "          clearInterval(timer);\n",
       "          console.log(\"Bokeh: ERROR: Unable to run BokehJS code because BokehJS library is missing\");\n",
       "        }\n",
       "      }\n",
       "    }, 10, root)\n",
       "  }\n",
       "})(window);"
      ],
      "application/vnd.bokehjs_exec.v0+json": ""
     },
     "metadata": {
      "application/vnd.bokehjs_exec.v0+json": {
       "id": "1003"
      }
     },
     "output_type": "display_data"
    },
    {
     "name": "stdout",
     "output_type": "stream",
     "text": [
      "running with 0 PCs and the just subsetet scores\n"
     ]
    },
    {
     "name": "stderr",
     "output_type": "stream",
     "text": [
      "2023-08-27 21:54:28.189 Hail: INFO: Ordering unsorted dataset with network shuffle\n",
      "2023-08-27 21:54:31.989 Hail: INFO: wrote table with 17405 rows in 489 partitions to /localfs/4609352/tmp_hail/persist_tableEGLjlu2nGY\n",
      "    Total size: 520.56 KiB\n",
      "    * Rows: 520.55 KiB\n",
      "    * Globals: 11.00 B\n",
      "    * Smallest partition: 25 rows (733.00 B)\n",
      "    * Largest partition:  58 rows (1.73 KiB)\n",
      "2023-08-27 21:54:34.225 Hail: INFO: wrote table with 17405 rows in 489 partitions to /localfs/4609352/skat_table_0_scores_no_filter_parts_0.mt\n",
      "2023-08-27 21:54:35.159 Hail: INFO: Ordering unsorted dataset with network shuffle\n"
     ]
    },
    {
     "data": {
      "text/html": [
       "<table><thead><tr><td style=\"white-space: nowrap; max-width: 500px; overflow: hidden; text-overflow: ellipsis; \" colspan=\"1\"><div style=\"text-align: left;\"></div></td><td style=\"white-space: nowrap; max-width: 500px; overflow: hidden; text-overflow: ellipsis; \" colspan=\"1\"><div style=\"text-align: left;\"></div></td><td style=\"white-space: nowrap; max-width: 500px; overflow: hidden; text-overflow: ellipsis; \" colspan=\"1\"><div style=\"text-align: left;\"></div></td><td style=\"white-space: nowrap; max-width: 500px; overflow: hidden; text-overflow: ellipsis; \" colspan=\"1\"><div style=\"text-align: left;\"></div></td><td style=\"white-space: nowrap; max-width: 500px; overflow: hidden; text-overflow: ellipsis; \" colspan=\"1\"><div style=\"text-align: left;\"></div></td></tr><tr><td style=\"white-space: nowrap; max-width: 500px; overflow: hidden; text-overflow: ellipsis; \" colspan=\"1\"><div style=\"text-align: left;border-bottom: solid 2px #000; padding-bottom: 5px\">id</div></td><td style=\"white-space: nowrap; max-width: 500px; overflow: hidden; text-overflow: ellipsis; \" colspan=\"1\"><div style=\"text-align: left;border-bottom: solid 2px #000; padding-bottom: 5px\">size</div></td><td style=\"white-space: nowrap; max-width: 500px; overflow: hidden; text-overflow: ellipsis; \" colspan=\"1\"><div style=\"text-align: left;border-bottom: solid 2px #000; padding-bottom: 5px\">q_stat</div></td><td style=\"white-space: nowrap; max-width: 500px; overflow: hidden; text-overflow: ellipsis; \" colspan=\"1\"><div style=\"text-align: left;border-bottom: solid 2px #000; padding-bottom: 5px\">p_value</div></td><td style=\"white-space: nowrap; max-width: 500px; overflow: hidden; text-overflow: ellipsis; \" colspan=\"1\"><div style=\"text-align: left;border-bottom: solid 2px #000; padding-bottom: 5px\">fault</div></td></tr><tr><td style=\"white-space: nowrap; max-width: 500px; overflow: hidden; text-overflow: ellipsis; text-align: left;\">str</td><td style=\"white-space: nowrap; max-width: 500px; overflow: hidden; text-overflow: ellipsis; text-align: left;\">int32</td><td style=\"white-space: nowrap; max-width: 500px; overflow: hidden; text-overflow: ellipsis; text-align: left;\">float64</td><td style=\"white-space: nowrap; max-width: 500px; overflow: hidden; text-overflow: ellipsis; text-align: left;\">float64</td><td style=\"white-space: nowrap; max-width: 500px; overflow: hidden; text-overflow: ellipsis; text-align: left;\">int32</td></tr>\n",
       "</thead><tbody><tr><td style=\"white-space: nowrap; max-width: 500px; overflow: hidden; text-overflow: ellipsis; \">&quot;CSF2RA&quot;</td><td style=\"white-space: nowrap; max-width: 500px; overflow: hidden; text-overflow: ellipsis; \">12</td><td style=\"white-space: nowrap; max-width: 500px; overflow: hidden; text-overflow: ellipsis; \">7.79e+02</td><td style=\"white-space: nowrap; max-width: 500px; overflow: hidden; text-overflow: ellipsis; \">-6.05e-09</td><td style=\"white-space: nowrap; max-width: 500px; overflow: hidden; text-overflow: ellipsis; \">0</td></tr>\n",
       "<tr><td style=\"white-space: nowrap; max-width: 500px; overflow: hidden; text-overflow: ellipsis; \">&quot;DHRSX&quot;</td><td style=\"white-space: nowrap; max-width: 500px; overflow: hidden; text-overflow: ellipsis; \">45</td><td style=\"white-space: nowrap; max-width: 500px; overflow: hidden; text-overflow: ellipsis; \">2.25e+03</td><td style=\"white-space: nowrap; max-width: 500px; overflow: hidden; text-overflow: ellipsis; \">0.00e+00</td><td style=\"white-space: nowrap; max-width: 500px; overflow: hidden; text-overflow: ellipsis; \">0</td></tr>\n",
       "<tr><td style=\"white-space: nowrap; max-width: 500px; overflow: hidden; text-overflow: ellipsis; \">&quot;OR7D2&quot;</td><td style=\"white-space: nowrap; max-width: 500px; overflow: hidden; text-overflow: ellipsis; \">11</td><td style=\"white-space: nowrap; max-width: 500px; overflow: hidden; text-overflow: ellipsis; \">1.69e+03</td><td style=\"white-space: nowrap; max-width: 500px; overflow: hidden; text-overflow: ellipsis; \">0.00e+00</td><td style=\"white-space: nowrap; max-width: 500px; overflow: hidden; text-overflow: ellipsis; \">0</td></tr>\n",
       "<tr><td style=\"white-space: nowrap; max-width: 500px; overflow: hidden; text-overflow: ellipsis; \">&quot;PLS3&quot;</td><td style=\"white-space: nowrap; max-width: 500px; overflow: hidden; text-overflow: ellipsis; \">1</td><td style=\"white-space: nowrap; max-width: 500px; overflow: hidden; text-overflow: ellipsis; \">6.30e-22</td><td style=\"white-space: nowrap; max-width: 500px; overflow: hidden; text-overflow: ellipsis; \">0.00e+00</td><td style=\"white-space: nowrap; max-width: 500px; overflow: hidden; text-overflow: ellipsis; \">0</td></tr>\n",
       "<tr><td style=\"white-space: nowrap; max-width: 500px; overflow: hidden; text-overflow: ellipsis; \">&quot;REPS2&quot;</td><td style=\"white-space: nowrap; max-width: 500px; overflow: hidden; text-overflow: ellipsis; \">1</td><td style=\"white-space: nowrap; max-width: 500px; overflow: hidden; text-overflow: ellipsis; \">2.63e-22</td><td style=\"white-space: nowrap; max-width: 500px; overflow: hidden; text-overflow: ellipsis; \">0.00e+00</td><td style=\"white-space: nowrap; max-width: 500px; overflow: hidden; text-overflow: ellipsis; \">0</td></tr>\n",
       "<tr><td style=\"white-space: nowrap; max-width: 500px; overflow: hidden; text-overflow: ellipsis; \">&quot;RSRP1&quot;</td><td style=\"white-space: nowrap; max-width: 500px; overflow: hidden; text-overflow: ellipsis; \">1</td><td style=\"white-space: nowrap; max-width: 500px; overflow: hidden; text-overflow: ellipsis; \">1.51e-21</td><td style=\"white-space: nowrap; max-width: 500px; overflow: hidden; text-overflow: ellipsis; \">0.00e+00</td><td style=\"white-space: nowrap; max-width: 500px; overflow: hidden; text-overflow: ellipsis; \">0</td></tr>\n",
       "<tr><td style=\"white-space: nowrap; max-width: 500px; overflow: hidden; text-overflow: ellipsis; \">&quot;ZBED1&quot;</td><td style=\"white-space: nowrap; max-width: 500px; overflow: hidden; text-overflow: ellipsis; \">12</td><td style=\"white-space: nowrap; max-width: 500px; overflow: hidden; text-overflow: ellipsis; \">5.39e+02</td><td style=\"white-space: nowrap; max-width: 500px; overflow: hidden; text-overflow: ellipsis; \">0.00e+00</td><td style=\"white-space: nowrap; max-width: 500px; overflow: hidden; text-overflow: ellipsis; \">0</td></tr>\n",
       "<tr><td style=\"white-space: nowrap; max-width: 500px; overflow: hidden; text-overflow: ellipsis; \">&quot;ZNF121&quot;</td><td style=\"white-space: nowrap; max-width: 500px; overflow: hidden; text-overflow: ellipsis; \">1</td><td style=\"white-space: nowrap; max-width: 500px; overflow: hidden; text-overflow: ellipsis; \">1.01e-21</td><td style=\"white-space: nowrap; max-width: 500px; overflow: hidden; text-overflow: ellipsis; \">0.00e+00</td><td style=\"white-space: nowrap; max-width: 500px; overflow: hidden; text-overflow: ellipsis; \">0</td></tr>\n",
       "<tr><td style=\"white-space: nowrap; max-width: 500px; overflow: hidden; text-overflow: ellipsis; \">&quot;ZNF317&quot;</td><td style=\"white-space: nowrap; max-width: 500px; overflow: hidden; text-overflow: ellipsis; \">8</td><td style=\"white-space: nowrap; max-width: 500px; overflow: hidden; text-overflow: ellipsis; \">1.71e+03</td><td style=\"white-space: nowrap; max-width: 500px; overflow: hidden; text-overflow: ellipsis; \">0.00e+00</td><td style=\"white-space: nowrap; max-width: 500px; overflow: hidden; text-overflow: ellipsis; \">0</td></tr>\n",
       "<tr><td style=\"white-space: nowrap; max-width: 500px; overflow: hidden; text-overflow: ellipsis; \">&quot;KANK1&quot;</td><td style=\"white-space: nowrap; max-width: 500px; overflow: hidden; text-overflow: ellipsis; \">100</td><td style=\"white-space: nowrap; max-width: 500px; overflow: hidden; text-overflow: ellipsis; \">4.26e+03</td><td style=\"white-space: nowrap; max-width: 500px; overflow: hidden; text-overflow: ellipsis; \">7.53e-09</td><td style=\"white-space: nowrap; max-width: 500px; overflow: hidden; text-overflow: ellipsis; \">0</td></tr>\n",
       "<tr><td style=\"white-space: nowrap; max-width: 500px; overflow: hidden; text-overflow: ellipsis; \">&quot;CTAGE6&quot;</td><td style=\"white-space: nowrap; max-width: 500px; overflow: hidden; text-overflow: ellipsis; \">2</td><td style=\"white-space: nowrap; max-width: 500px; overflow: hidden; text-overflow: ellipsis; \">2.61e+02</td><td style=\"white-space: nowrap; max-width: 500px; overflow: hidden; text-overflow: ellipsis; \">1.77e-08</td><td style=\"white-space: nowrap; max-width: 500px; overflow: hidden; text-overflow: ellipsis; \">0</td></tr>\n",
       "<tr><td style=\"white-space: nowrap; max-width: 500px; overflow: hidden; text-overflow: ellipsis; \">&quot;TBX2&quot;</td><td style=\"white-space: nowrap; max-width: 500px; overflow: hidden; text-overflow: ellipsis; \">8</td><td style=\"white-space: nowrap; max-width: 500px; overflow: hidden; text-overflow: ellipsis; \">3.67e+03</td><td style=\"white-space: nowrap; max-width: 500px; overflow: hidden; text-overflow: ellipsis; \">4.14e-08</td><td style=\"white-space: nowrap; max-width: 500px; overflow: hidden; text-overflow: ellipsis; \">0</td></tr>\n",
       "<tr><td style=\"white-space: nowrap; max-width: 500px; overflow: hidden; text-overflow: ellipsis; \">&quot;ZNF705B&quot;</td><td style=\"white-space: nowrap; max-width: 500px; overflow: hidden; text-overflow: ellipsis; \">1</td><td style=\"white-space: nowrap; max-width: 500px; overflow: hidden; text-overflow: ellipsis; \">6.32e+01</td><td style=\"white-space: nowrap; max-width: 500px; overflow: hidden; text-overflow: ellipsis; \">5.02e-08</td><td style=\"white-space: nowrap; max-width: 500px; overflow: hidden; text-overflow: ellipsis; \">0</td></tr>\n",
       "<tr><td style=\"white-space: nowrap; max-width: 500px; overflow: hidden; text-overflow: ellipsis; \">&quot;GTPBP6&quot;</td><td style=\"white-space: nowrap; max-width: 500px; overflow: hidden; text-overflow: ellipsis; \">13</td><td style=\"white-space: nowrap; max-width: 500px; overflow: hidden; text-overflow: ellipsis; \">7.82e+02</td><td style=\"white-space: nowrap; max-width: 500px; overflow: hidden; text-overflow: ellipsis; \">1.81e-07</td><td style=\"white-space: nowrap; max-width: 500px; overflow: hidden; text-overflow: ellipsis; \">0</td></tr>\n",
       "<tr><td style=\"white-space: nowrap; max-width: 500px; overflow: hidden; text-overflow: ellipsis; \">&quot;STARD3NL&quot;</td><td style=\"white-space: nowrap; max-width: 500px; overflow: hidden; text-overflow: ellipsis; \">23</td><td style=\"white-space: nowrap; max-width: 500px; overflow: hidden; text-overflow: ellipsis; \">2.09e+03</td><td style=\"white-space: nowrap; max-width: 500px; overflow: hidden; text-overflow: ellipsis; \">2.06e-07</td><td style=\"white-space: nowrap; max-width: 500px; overflow: hidden; text-overflow: ellipsis; \">0</td></tr>\n",
       "<tr><td style=\"white-space: nowrap; max-width: 500px; overflow: hidden; text-overflow: ellipsis; \">&quot;BCAS3&quot;</td><td style=\"white-space: nowrap; max-width: 500px; overflow: hidden; text-overflow: ellipsis; \">64</td><td style=\"white-space: nowrap; max-width: 500px; overflow: hidden; text-overflow: ellipsis; \">4.65e+03</td><td style=\"white-space: nowrap; max-width: 500px; overflow: hidden; text-overflow: ellipsis; \">2.75e-07</td><td style=\"white-space: nowrap; max-width: 500px; overflow: hidden; text-overflow: ellipsis; \">0</td></tr>\n",
       "<tr><td style=\"white-space: nowrap; max-width: 500px; overflow: hidden; text-overflow: ellipsis; \">&quot;SHOX&quot;</td><td style=\"white-space: nowrap; max-width: 500px; overflow: hidden; text-overflow: ellipsis; \">17</td><td style=\"white-space: nowrap; max-width: 500px; overflow: hidden; text-overflow: ellipsis; \">6.53e+02</td><td style=\"white-space: nowrap; max-width: 500px; overflow: hidden; text-overflow: ellipsis; \">3.04e-07</td><td style=\"white-space: nowrap; max-width: 500px; overflow: hidden; text-overflow: ellipsis; \">0</td></tr>\n",
       "<tr><td style=\"white-space: nowrap; max-width: 500px; overflow: hidden; text-overflow: ellipsis; \">&quot;PLCXD1&quot;</td><td style=\"white-space: nowrap; max-width: 500px; overflow: hidden; text-overflow: ellipsis; \">26</td><td style=\"white-space: nowrap; max-width: 500px; overflow: hidden; text-overflow: ellipsis; \">2.23e+03</td><td style=\"white-space: nowrap; max-width: 500px; overflow: hidden; text-overflow: ellipsis; \">5.31e-07</td><td style=\"white-space: nowrap; max-width: 500px; overflow: hidden; text-overflow: ellipsis; \">0</td></tr>\n",
       "<tr><td style=\"white-space: nowrap; max-width: 500px; overflow: hidden; text-overflow: ellipsis; \">&quot;AKAP17A&quot;</td><td style=\"white-space: nowrap; max-width: 500px; overflow: hidden; text-overflow: ellipsis; \">8</td><td style=\"white-space: nowrap; max-width: 500px; overflow: hidden; text-overflow: ellipsis; \">8.76e+02</td><td style=\"white-space: nowrap; max-width: 500px; overflow: hidden; text-overflow: ellipsis; \">6.76e-07</td><td style=\"white-space: nowrap; max-width: 500px; overflow: hidden; text-overflow: ellipsis; \">0</td></tr>\n",
       "<tr><td style=\"white-space: nowrap; max-width: 500px; overflow: hidden; text-overflow: ellipsis; \">&quot;TRMT2B&quot;</td><td style=\"white-space: nowrap; max-width: 500px; overflow: hidden; text-overflow: ellipsis; \">3</td><td style=\"white-space: nowrap; max-width: 500px; overflow: hidden; text-overflow: ellipsis; \">2.25e+02</td><td style=\"white-space: nowrap; max-width: 500px; overflow: hidden; text-overflow: ellipsis; \">7.50e-07</td><td style=\"white-space: nowrap; max-width: 500px; overflow: hidden; text-overflow: ellipsis; \">0</td></tr>\n",
       "</tbody></table><p style=\"background: #fdd; padding: 0.4em;\">showing top 20 rows</p>\n"
      ],
      "text/plain": [
       "+------------+-------+----------+-----------+-------+\n",
       "| id         |  size |   q_stat |   p_value | fault |\n",
       "+------------+-------+----------+-----------+-------+\n",
       "| str        | int32 |  float64 |   float64 | int32 |\n",
       "+------------+-------+----------+-----------+-------+\n",
       "| \"CSF2RA\"   |    12 | 7.79e+02 | -6.05e-09 |     0 |\n",
       "| \"DHRSX\"    |    45 | 2.25e+03 |  0.00e+00 |     0 |\n",
       "| \"OR7D2\"    |    11 | 1.69e+03 |  0.00e+00 |     0 |\n",
       "| \"PLS3\"     |     1 | 6.30e-22 |  0.00e+00 |     0 |\n",
       "| \"REPS2\"    |     1 | 2.63e-22 |  0.00e+00 |     0 |\n",
       "| \"RSRP1\"    |     1 | 1.51e-21 |  0.00e+00 |     0 |\n",
       "| \"ZBED1\"    |    12 | 5.39e+02 |  0.00e+00 |     0 |\n",
       "| \"ZNF121\"   |     1 | 1.01e-21 |  0.00e+00 |     0 |\n",
       "| \"ZNF317\"   |     8 | 1.71e+03 |  0.00e+00 |     0 |\n",
       "| \"KANK1\"    |   100 | 4.26e+03 |  7.53e-09 |     0 |\n",
       "| \"CTAGE6\"   |     2 | 2.61e+02 |  1.77e-08 |     0 |\n",
       "| \"TBX2\"     |     8 | 3.67e+03 |  4.14e-08 |     0 |\n",
       "| \"ZNF705B\"  |     1 | 6.32e+01 |  5.02e-08 |     0 |\n",
       "| \"GTPBP6\"   |    13 | 7.82e+02 |  1.81e-07 |     0 |\n",
       "| \"STARD3NL\" |    23 | 2.09e+03 |  2.06e-07 |     0 |\n",
       "| \"BCAS3\"    |    64 | 4.65e+03 |  2.75e-07 |     0 |\n",
       "| \"SHOX\"     |    17 | 6.53e+02 |  3.04e-07 |     0 |\n",
       "| \"PLCXD1\"   |    26 | 2.23e+03 |  5.31e-07 |     0 |\n",
       "| \"AKAP17A\"  |     8 | 8.76e+02 |  6.76e-07 |     0 |\n",
       "| \"TRMT2B\"   |     3 | 2.25e+02 |  7.50e-07 |     0 |\n",
       "+------------+-------+----------+-----------+-------+\n",
       "showing top 20 rows"
      ]
     },
     "metadata": {},
     "output_type": "display_data"
    },
    {
     "name": "stderr",
     "output_type": "stream",
     "text": [
      "2023-08-27 21:54:37.099 Hail: INFO: Ordering unsorted dataset with network shuffle\n",
      "/net/pr2/projects/plgrid/plggneuromol/imdik-zekanowski-gts/venv-hail-0.2.113/lib/python3.10/site-packages/bokeh/models/sources.py:235: FutureWarning: iteritems is deprecated and will be removed in a future version. Use .items instead.\n",
      "  tmp_data = {c: v.values for c, v in _df.iteritems()}\n",
      "2023-08-27 21:54:40.744 Hail: INFO: Ordering unsorted dataset with network shuffle\n"
     ]
    },
    {
     "data": {
      "text/html": [
       "\n",
       "\n",
       "\n",
       "\n",
       "\n",
       "\n",
       "  <div class=\"bk-root\" id=\"7f6306de-1337-415e-9770-dd66e4c2dad8\" data-root-id=\"1105\"></div>\n"
      ]
     },
     "metadata": {},
     "output_type": "display_data"
    },
    {
     "data": {
      "application/javascript": [
       "(function(root) {\n",
       "  function embed_document(root) {\n",
       "    \n",
       "  var docs_json = {\"a8a9c197-ea06-4377-ae5d-cfc4158be1aa\":{\"roots\":{\"references\":[{\"attributes\":{\"below\":[{\"id\":\"1116\",\"type\":\"LinearAxis\"}],\"center\":[{\"id\":\"1120\",\"type\":\"Grid\"},{\"id\":\"1125\",\"type\":\"Grid\"},{\"id\":\"1149\",\"type\":\"Slope\"},{\"id\":\"1150\",\"type\":\"Label\"}],\"left\":[{\"id\":\"1121\",\"type\":\"LinearAxis\"}],\"plot_height\":800,\"plot_width\":800,\"renderers\":[{\"id\":\"1145\",\"type\":\"GlyphRenderer\"}],\"title\":{\"id\":\"1106\",\"type\":\"Title\"},\"toolbar\":{\"id\":\"1132\",\"type\":\"Toolbar\"},\"x_range\":{\"id\":\"1147\",\"type\":\"DataRange1d\"},\"x_scale\":{\"id\":\"1112\",\"type\":\"LinearScale\"},\"y_range\":{\"id\":\"1148\",\"type\":\"DataRange1d\"},\"y_scale\":{\"id\":\"1114\",\"type\":\"LinearScale\"}},\"id\":\"1105\",\"subtype\":\"Figure\",\"type\":\"Plot\"},{\"attributes\":{\"fill_color\":{\"value\":\"#1f77b4\"},\"line_color\":{\"value\":\"#1f77b4\"},\"size\":{\"units\":\"screen\",\"value\":6},\"x\":{\"field\":\"x\"},\"y\":{\"field\":\"y\"}},\"id\":\"1143\",\"type\":\"Circle\"},{\"attributes\":{},\"id\":\"1162\",\"type\":\"BasicTickFormatter\"},{\"attributes\":{},\"id\":\"1129\",\"type\":\"SaveTool\"},{\"attributes\":{},\"id\":\"1122\",\"type\":\"BasicTicker\"},{\"attributes\":{},\"id\":\"1112\",\"type\":\"LinearScale\"},{\"attributes\":{},\"id\":\"1117\",\"type\":\"BasicTicker\"},{\"attributes\":{\"axis_label\":\"Observed -log10(p)\",\"formatter\":{\"id\":\"1160\",\"type\":\"BasicTickFormatter\"},\"ticker\":{\"id\":\"1122\",\"type\":\"BasicTicker\"}},\"id\":\"1121\",\"type\":\"LinearAxis\"},{\"attributes\":{},\"id\":\"1131\",\"type\":\"HelpTool\"},{\"attributes\":{\"ticker\":{\"id\":\"1117\",\"type\":\"BasicTicker\"}},\"id\":\"1120\",\"type\":\"Grid\"},{\"attributes\":{},\"id\":\"1126\",\"type\":\"PanTool\"},{\"attributes\":{},\"id\":\"1114\",\"type\":\"LinearScale\"},{\"attributes\":{\"dimension\":1,\"ticker\":{\"id\":\"1122\",\"type\":\"BasicTicker\"}},\"id\":\"1125\",\"type\":\"Grid\"},{\"attributes\":{},\"id\":\"1127\",\"type\":\"WheelZoomTool\"},{\"attributes\":{\"data_source\":{\"id\":\"1141\",\"type\":\"ColumnDataSource\"},\"glyph\":{\"id\":\"1143\",\"type\":\"Circle\"},\"hover_glyph\":null,\"muted_glyph\":null,\"nonselection_glyph\":{\"id\":\"1144\",\"type\":\"Circle\"},\"selection_glyph\":null,\"view\":{\"id\":\"1146\",\"type\":\"CDSView\"}},\"id\":\"1145\",\"type\":\"GlyphRenderer\"},{\"attributes\":{\"overlay\":{\"id\":\"1164\",\"type\":\"BoxAnnotation\"}},\"id\":\"1128\",\"type\":\"BoxZoomTool\"},{\"attributes\":{\"callback\":null,\"data\":{\"index\":[0,1,2,3,4,5,6,7,8,9,10,11,12,13,14,15,16,17,18,19,20,21,22,23,24,25,26,27,28,29,30,31,32,33,34,35,36,37,38,39,40,41,42,43,44,45,46,47,48,49,50,51,52,53,54,55,56,57,58,59,60,61,62,63,64,65,66,67,68,69,70,71,72,73,74,75,76,77,78,79,80,81,82,83,84,85,86,87,88,89,90,91,92,93,94,95,96,97,98,99,100,101,102,103,104,105,106,107,108,109,110,111,112,113,114,115,116,117,118,119,120,121,122,123,124,125,126,127,128,129,130,131,132,133,134,135,136,137,138,139,140,141,142,143,144,145,146,147,148,149,150,151,152,153,154,155,156,157,158,159,160,161,162,163,164,165,166,167,168,169,170,171,172,173,174,175,176,177,178,179,180,181,182,183,184,185,186,187,188,189,190,191,192,193,194,195,196,197,198,199,200,201,202,203,204,205,206,207,208,209,210,211,212,213,214,215,216,217,218,219,220,221,222,223,224,225,226,227,228,229,230,231,232,233,234,235,236,237,238,239,240,241,242,243,244,245,246,247,248,249,250,251,252,253,254,255,256,257,258,259,260,261,262,263,264,265,266,267,268,269,270,271,272,273,274,275,276,277,278,279,280,281,282,283,284,285,286,287,288,289,290,291,292,293,294,295,296,297,298,299,300,301,302,303,304,305,306,307,308,309,310,311,312,313,314,315,316,317,318,319,320,321,322,323,324,325,326,327,328,329,330,331,332,333,334,335,336,337,338,339,340,341,342,343,344,345,346,347,348,349,350,351,352,353,354,355,356,357,358,359,360,361,362,363,364,365,366,367,368,369,370,371,372,373,374,375,376,377,378,379,380,381,382,383,384,385,386,387,388,389,390,391,392,393,394,395,396,397,398,399,400,401,402,403,404,405,406,407,408,409,410,411,412,413,414,415,416,417,418,419,420,421,422,423,424,425,426,427,428,429,430,431,432,433,434,435,436,437,438,439,440,441,442,443,444,445,446,447,448,449,450,451,452,453,454,455,456,457,458,459,460,461,462,463,464,465,466,467,468,469,470,471,472,473,474,475,476,477,478,479,480,481,482,483,484,485,486,487,488,489,490,491,492,493,494,495,496,497,498,499,500,501,502,503,504,505,506,507,508,509,510,511,512,513,514,515,516,517,518,519,520,521,522,523,524,525],\"p_value\":{\"__ndarray__\":\"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\",\"dtype\":\"float64\",\"shape\":[526]},\"x\":{\"__ndarray__\":\"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\",\"dtype\":\"float64\",\"shape\":[526]},\"y\":{\"__ndarray__\":\"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\",\"dtype\":\"float64\",\"shape\":[526]}},\"selected\":{\"id\":\"1165\",\"type\":\"Selection\"},\"selection_policy\":{\"id\":\"1166\",\"type\":\"UnionRenderers\"}},\"id\":\"1141\",\"type\":\"ColumnDataSource\"},{\"attributes\":{},\"id\":\"1165\",\"type\":\"Selection\"},{\"attributes\":{\"active_drag\":\"auto\",\"active_inspect\":\"auto\",\"active_multi\":null,\"active_scroll\":\"auto\",\"active_tap\":\"auto\",\"tools\":[{\"id\":\"1126\",\"type\":\"PanTool\"},{\"id\":\"1127\",\"type\":\"WheelZoomTool\"},{\"id\":\"1128\",\"type\":\"BoxZoomTool\"},{\"id\":\"1129\",\"type\":\"SaveTool\"},{\"id\":\"1130\",\"type\":\"ResetTool\"},{\"id\":\"1131\",\"type\":\"HelpTool\"},{\"id\":\"1140\",\"type\":\"HoverTool\"}]},\"id\":\"1132\",\"type\":\"Toolbar\"},{\"attributes\":{},\"id\":\"1130\",\"type\":\"ResetTool\"},{\"attributes\":{\"bottom_units\":\"screen\",\"fill_alpha\":{\"value\":0.5},\"fill_color\":{\"value\":\"lightgrey\"},\"left_units\":\"screen\",\"level\":\"overlay\",\"line_alpha\":{\"value\":1.0},\"line_color\":{\"value\":\"black\"},\"line_dash\":[4,4],\"line_width\":{\"value\":2},\"render_mode\":\"css\",\"right_units\":\"screen\",\"top_units\":\"screen\"},\"id\":\"1164\",\"type\":\"BoxAnnotation\"},{\"attributes\":{\"callback\":null,\"end\":null,\"start\":0},\"id\":\"1148\",\"type\":\"DataRange1d\"},{\"attributes\":{\"axis_label\":\"Expected -log10(p)\",\"formatter\":{\"id\":\"1162\",\"type\":\"BasicTickFormatter\"},\"ticker\":{\"id\":\"1117\",\"type\":\"BasicTicker\"}},\"id\":\"1116\",\"type\":\"LinearAxis\"},{\"attributes\":{},\"id\":\"1160\",\"type\":\"BasicTickFormatter\"},{\"attributes\":{\"text\":\"Q-Q plot\"},\"id\":\"1106\",\"type\":\"Title\"},{\"attributes\":{},\"id\":\"1166\",\"type\":\"UnionRenderers\"},{\"attributes\":{\"callback\":null,\"end\":null,\"start\":0},\"id\":\"1147\",\"type\":\"DataRange1d\"},{\"attributes\":{\"callback\":null,\"tooltips\":[[\"x\",\"@x\"],[\"y\",\"@y\"],[\"p_value\",\"@p_value\"]]},\"id\":\"1140\",\"type\":\"HoverTool\"},{\"attributes\":{\"source\":{\"id\":\"1141\",\"type\":\"ColumnDataSource\"}},\"id\":\"1146\",\"type\":\"CDSView\"},{\"attributes\":{\"gradient\":1,\"line_color\":{\"value\":\"red\"},\"y_intercept\":0},\"id\":\"1149\",\"type\":\"Slope\"},{\"attributes\":{\"text\":\"\\u03bb GC: 1.42\",\"text_color\":{\"value\":\"red\"},\"text_font_size\":{\"value\":\"14pt\"},\"text_font_style\":\"bold\",\"x\":null,\"y\":1},\"id\":\"1150\",\"type\":\"Label\"},{\"attributes\":{\"fill_alpha\":{\"value\":0.1},\"fill_color\":{\"value\":\"#1f77b4\"},\"line_alpha\":{\"value\":0.1},\"line_color\":{\"value\":\"#1f77b4\"},\"size\":{\"units\":\"screen\",\"value\":6},\"x\":{\"field\":\"x\"},\"y\":{\"field\":\"y\"}},\"id\":\"1144\",\"type\":\"Circle\"}],\"root_ids\":[\"1105\"]},\"title\":\"Bokeh Application\",\"version\":\"1.4.0\"}};\n",
       "  var render_items = [{\"docid\":\"a8a9c197-ea06-4377-ae5d-cfc4158be1aa\",\"roots\":{\"1105\":\"7f6306de-1337-415e-9770-dd66e4c2dad8\"}}];\n",
       "  root.Bokeh.embed.embed_items_notebook(docs_json, render_items);\n",
       "\n",
       "  }\n",
       "  if (root.Bokeh !== undefined) {\n",
       "    embed_document(root);\n",
       "  } else {\n",
       "    var attempts = 0;\n",
       "    var timer = setInterval(function(root) {\n",
       "      if (root.Bokeh !== undefined) {\n",
       "        clearInterval(timer);\n",
       "        embed_document(root);\n",
       "      } else {\n",
       "        attempts++;\n",
       "        if (attempts > 100) {\n",
       "          clearInterval(timer);\n",
       "          console.log(\"Bokeh: ERROR: Unable to run BokehJS code because BokehJS library is missing\");\n",
       "        }\n",
       "      }\n",
       "    }, 10, root)\n",
       "  }\n",
       "})(window);"
      ],
      "application/vnd.bokehjs_exec.v0+json": ""
     },
     "metadata": {
      "application/vnd.bokehjs_exec.v0+json": {
       "id": "1105"
      }
     },
     "output_type": "display_data"
    },
    {
     "name": "stdout",
     "output_type": "stream",
     "text": [
      "running with 1 PCs and the pruned scores option\n",
      "failed PCs 1 pruned scoreseur subset 0\n",
      "<class 'LookupError'>\n",
      "running with 1 PCs and the just subsetet scores\n",
      "failed PCs 1 no filters subseted scoreseur subset 0\n",
      "<class 'LookupError'>\n",
      "running with 2 PCs and the pruned scores option\n",
      "failed PCs 2 pruned scoreseur subset 0\n",
      "<class 'LookupError'>\n",
      "running with 2 PCs and the just subsetet scores\n",
      "failed PCs 2 no filters subseted scoreseur subset 0\n",
      "<class 'LookupError'>\n",
      "running with 3 PCs and the pruned scores option\n",
      "failed PCs 3 pruned scoreseur subset 0\n",
      "<class 'LookupError'>\n",
      "running with 3 PCs and the just subsetet scores\n",
      "failed PCs 3 no filters subseted scoreseur subset 0\n",
      "<class 'LookupError'>\n",
      "running with 4 PCs and the pruned scores option\n",
      "failed PCs 4 pruned scoreseur subset 0\n",
      "<class 'LookupError'>\n",
      "running with 4 PCs and the just subsetet scores\n",
      "failed PCs 4 no filters subseted scoreseur subset 0\n",
      "<class 'LookupError'>\n",
      "running with 5 PCs and the pruned scores option\n",
      "failed PCs 5 pruned scoreseur subset 0\n",
      "<class 'LookupError'>\n",
      "running with 5 PCs and the just subsetet scores\n",
      "failed PCs 5 no filters subseted scoreseur subset 0\n",
      "<class 'LookupError'>\n",
      "running with 6 PCs and the pruned scores option\n",
      "failed PCs 6 pruned scoreseur subset 0\n",
      "<class 'LookupError'>\n",
      "running with 6 PCs and the just subsetet scores\n",
      "failed PCs 6 no filters subseted scoreseur subset 0\n",
      "<class 'LookupError'>\n",
      "running with 7 PCs and the pruned scores option\n",
      "failed PCs 7 pruned scoreseur subset 0\n",
      "<class 'LookupError'>\n",
      "running with 7 PCs and the just subsetet scores\n",
      "failed PCs 7 no filters subseted scoreseur subset 0\n",
      "<class 'LookupError'>\n",
      "running with 8 PCs and the pruned scores option\n",
      "failed PCs 8 pruned scoreseur subset 0\n",
      "<class 'LookupError'>\n",
      "running with 8 PCs and the just subsetet scores\n",
      "failed PCs 8 no filters subseted scoreseur subset 0\n",
      "<class 'LookupError'>\n",
      "running with 9 PCs and the pruned scores option\n",
      "failed PCs 9 pruned scoreseur subset 0\n",
      "<class 'LookupError'>\n",
      "running with 9 PCs and the just subsetet scores\n",
      "failed PCs 9 no filters subseted scoreseur subset 0\n",
      "<class 'LookupError'>\n",
      "running with 10 PCs and the pruned scores option\n",
      "failed PCs 10 pruned scoreseur subset 0\n",
      "<class 'LookupError'>\n",
      "running with 10 PCs and the just subsetet scores\n",
      "failed PCs 10 no filters subseted scoreseur subset 0\n",
      "<class 'LookupError'>\n",
      "running with 11 PCs and the pruned scores option\n",
      "failed PCs 11 pruned scoreseur subset 0\n",
      "<class 'LookupError'>\n",
      "running with 11 PCs and the just subsetet scores\n",
      "failed PCs 11 no filters subseted scoreseur subset 0\n",
      "<class 'LookupError'>\n",
      "running with 12 PCs and the pruned scores option\n",
      "failed PCs 12 pruned scoreseur subset 0\n",
      "<class 'LookupError'>\n",
      "running with 12 PCs and the just subsetet scores\n",
      "failed PCs 12 no filters subseted scoreseur subset 0\n",
      "<class 'LookupError'>\n",
      "running with 13 PCs and the pruned scores option\n",
      "failed PCs 13 pruned scoreseur subset 0\n",
      "<class 'LookupError'>\n",
      "running with 13 PCs and the just subsetet scores\n",
      "failed PCs 13 no filters subseted scoreseur subset 0\n",
      "<class 'LookupError'>\n",
      "running with 14 PCs and the pruned scores option\n",
      "failed PCs 14 pruned scoreseur subset 0\n",
      "<class 'LookupError'>\n",
      "running with 14 PCs and the just subsetet scores\n",
      "failed PCs 14 no filters subseted scoreseur subset 0\n",
      "<class 'LookupError'>\n",
      "running with 15 PCs and the pruned scores option\n",
      "failed PCs 15 pruned scoreseur subset 0\n",
      "<class 'LookupError'>\n",
      "running with 15 PCs and the just subsetet scores\n",
      "failed PCs 15 no filters subseted scoreseur subset 0\n",
      "<class 'LookupError'>\n",
      "running with 16 PCs and the pruned scores option\n",
      "failed PCs 16 pruned scoreseur subset 0\n",
      "<class 'LookupError'>\n",
      "running with 16 PCs and the just subsetet scores\n",
      "failed PCs 16 no filters subseted scoreseur subset 0\n",
      "<class 'LookupError'>\n",
      "running with 17 PCs and the pruned scores option\n",
      "failed PCs 17 pruned scoreseur subset 0\n",
      "<class 'LookupError'>\n",
      "running with 17 PCs and the just subsetet scores\n",
      "failed PCs 17 no filters subseted scoreseur subset 0\n",
      "<class 'LookupError'>\n",
      "running with 18 PCs and the pruned scores option\n",
      "failed PCs 18 pruned scoreseur subset 0\n",
      "<class 'LookupError'>\n",
      "running with 18 PCs and the just subsetet scores\n",
      "failed PCs 18 no filters subseted scoreseur subset 0\n",
      "<class 'LookupError'>\n",
      "running with 19 PCs and the pruned scores option\n",
      "failed PCs 19 pruned scoreseur subset 0\n",
      "<class 'LookupError'>\n",
      "running with 19 PCs and the just subsetet scores\n",
      "failed PCs 19 no filters subseted scoreseur subset 0\n",
      "<class 'LookupError'>\n",
      "running with 20 PCs and the pruned scores option\n",
      "failed PCs 20 pruned scoreseur subset 0\n",
      "<class 'LookupError'>\n",
      "running with 20 PCs and the just subsetet scores\n",
      "failed PCs 20 no filters subseted scoreseur subset 0\n",
      "<class 'LookupError'>\n",
      "running with 0 PCs and the pruned scores option\n"
     ]
    },
    {
     "name": "stderr",
     "output_type": "stream",
     "text": [
      "2023-08-27 21:55:38.482 Hail: INFO: Ordering unsorted dataset with network shuffle\n",
      "2023-08-27 21:55:41.870 Hail: INFO: wrote table with 17379 rows in 489 partitions to /localfs/4609352/tmp_hail/persist_tablenKAtL7AUlG\n",
      "    Total size: 519.81 KiB\n",
      "    * Rows: 519.80 KiB\n",
      "    * Globals: 11.00 B\n",
      "    * Smallest partition: 22 rows (663.00 B)\n",
      "    * Largest partition:  54 rows (1.62 KiB)\n",
      "2023-08-27 21:55:44.175 Hail: INFO: wrote table with 17379 rows in 489 partitions to /localfs/4609352/skat_table_0_scores_no_filter_part_1.mt\n",
      "2023-08-27 21:55:45.046 Hail: INFO: Ordering unsorted dataset with network shuffle\n"
     ]
    },
    {
     "data": {
      "text/html": [
       "<table><thead><tr><td style=\"white-space: nowrap; max-width: 500px; overflow: hidden; text-overflow: ellipsis; \" colspan=\"1\"><div style=\"text-align: left;\"></div></td><td style=\"white-space: nowrap; max-width: 500px; overflow: hidden; text-overflow: ellipsis; \" colspan=\"1\"><div style=\"text-align: left;\"></div></td><td style=\"white-space: nowrap; max-width: 500px; overflow: hidden; text-overflow: ellipsis; \" colspan=\"1\"><div style=\"text-align: left;\"></div></td><td style=\"white-space: nowrap; max-width: 500px; overflow: hidden; text-overflow: ellipsis; \" colspan=\"1\"><div style=\"text-align: left;\"></div></td><td style=\"white-space: nowrap; max-width: 500px; overflow: hidden; text-overflow: ellipsis; \" colspan=\"1\"><div style=\"text-align: left;\"></div></td></tr><tr><td style=\"white-space: nowrap; max-width: 500px; overflow: hidden; text-overflow: ellipsis; \" colspan=\"1\"><div style=\"text-align: left;border-bottom: solid 2px #000; padding-bottom: 5px\">id</div></td><td style=\"white-space: nowrap; max-width: 500px; overflow: hidden; text-overflow: ellipsis; \" colspan=\"1\"><div style=\"text-align: left;border-bottom: solid 2px #000; padding-bottom: 5px\">size</div></td><td style=\"white-space: nowrap; max-width: 500px; overflow: hidden; text-overflow: ellipsis; \" colspan=\"1\"><div style=\"text-align: left;border-bottom: solid 2px #000; padding-bottom: 5px\">q_stat</div></td><td style=\"white-space: nowrap; max-width: 500px; overflow: hidden; text-overflow: ellipsis; \" colspan=\"1\"><div style=\"text-align: left;border-bottom: solid 2px #000; padding-bottom: 5px\">p_value</div></td><td style=\"white-space: nowrap; max-width: 500px; overflow: hidden; text-overflow: ellipsis; \" colspan=\"1\"><div style=\"text-align: left;border-bottom: solid 2px #000; padding-bottom: 5px\">fault</div></td></tr><tr><td style=\"white-space: nowrap; max-width: 500px; overflow: hidden; text-overflow: ellipsis; text-align: left;\">str</td><td style=\"white-space: nowrap; max-width: 500px; overflow: hidden; text-overflow: ellipsis; text-align: left;\">int32</td><td style=\"white-space: nowrap; max-width: 500px; overflow: hidden; text-overflow: ellipsis; text-align: left;\">float64</td><td style=\"white-space: nowrap; max-width: 500px; overflow: hidden; text-overflow: ellipsis; text-align: left;\">float64</td><td style=\"white-space: nowrap; max-width: 500px; overflow: hidden; text-overflow: ellipsis; text-align: left;\">int32</td></tr>\n",
       "</thead><tbody><tr><td style=\"white-space: nowrap; max-width: 500px; overflow: hidden; text-overflow: ellipsis; \">&quot;ZBED1&quot;</td><td style=\"white-space: nowrap; max-width: 500px; overflow: hidden; text-overflow: ellipsis; \">12</td><td style=\"white-space: nowrap; max-width: 500px; overflow: hidden; text-overflow: ellipsis; \">4.26e+02</td><td style=\"white-space: nowrap; max-width: 500px; overflow: hidden; text-overflow: ellipsis; \">-1.85e-09</td><td style=\"white-space: nowrap; max-width: 500px; overflow: hidden; text-overflow: ellipsis; \">0</td></tr>\n",
       "<tr><td style=\"white-space: nowrap; max-width: 500px; overflow: hidden; text-overflow: ellipsis; \">&quot;ARMC10&quot;</td><td style=\"white-space: nowrap; max-width: 500px; overflow: hidden; text-overflow: ellipsis; \">4</td><td style=\"white-space: nowrap; max-width: 500px; overflow: hidden; text-overflow: ellipsis; \">2.81e+02</td><td style=\"white-space: nowrap; max-width: 500px; overflow: hidden; text-overflow: ellipsis; \">0.00e+00</td><td style=\"white-space: nowrap; max-width: 500px; overflow: hidden; text-overflow: ellipsis; \">0</td></tr>\n",
       "<tr><td style=\"white-space: nowrap; max-width: 500px; overflow: hidden; text-overflow: ellipsis; \">&quot;DHRSX&quot;</td><td style=\"white-space: nowrap; max-width: 500px; overflow: hidden; text-overflow: ellipsis; \">49</td><td style=\"white-space: nowrap; max-width: 500px; overflow: hidden; text-overflow: ellipsis; \">2.68e+03</td><td style=\"white-space: nowrap; max-width: 500px; overflow: hidden; text-overflow: ellipsis; \">0.00e+00</td><td style=\"white-space: nowrap; max-width: 500px; overflow: hidden; text-overflow: ellipsis; \">0</td></tr>\n",
       "<tr><td style=\"white-space: nowrap; max-width: 500px; overflow: hidden; text-overflow: ellipsis; \">&quot;MTM1&quot;</td><td style=\"white-space: nowrap; max-width: 500px; overflow: hidden; text-overflow: ellipsis; \">1</td><td style=\"white-space: nowrap; max-width: 500px; overflow: hidden; text-overflow: ellipsis; \">3.58e-15</td><td style=\"white-space: nowrap; max-width: 500px; overflow: hidden; text-overflow: ellipsis; \">0.00e+00</td><td style=\"white-space: nowrap; max-width: 500px; overflow: hidden; text-overflow: ellipsis; \">0</td></tr>\n",
       "<tr><td style=\"white-space: nowrap; max-width: 500px; overflow: hidden; text-overflow: ellipsis; \">&quot;MUC3A&quot;</td><td style=\"white-space: nowrap; max-width: 500px; overflow: hidden; text-overflow: ellipsis; \">13</td><td style=\"white-space: nowrap; max-width: 500px; overflow: hidden; text-overflow: ellipsis; \">1.82e+03</td><td style=\"white-space: nowrap; max-width: 500px; overflow: hidden; text-overflow: ellipsis; \">0.00e+00</td><td style=\"white-space: nowrap; max-width: 500px; overflow: hidden; text-overflow: ellipsis; \">0</td></tr>\n",
       "<tr><td style=\"white-space: nowrap; max-width: 500px; overflow: hidden; text-overflow: ellipsis; \">&quot;NAPEPLD&quot;</td><td style=\"white-space: nowrap; max-width: 500px; overflow: hidden; text-overflow: ellipsis; \">11</td><td style=\"white-space: nowrap; max-width: 500px; overflow: hidden; text-overflow: ellipsis; \">2.88e+02</td><td style=\"white-space: nowrap; max-width: 500px; overflow: hidden; text-overflow: ellipsis; \">0.00e+00</td><td style=\"white-space: nowrap; max-width: 500px; overflow: hidden; text-overflow: ellipsis; \">0</td></tr>\n",
       "<tr><td style=\"white-space: nowrap; max-width: 500px; overflow: hidden; text-overflow: ellipsis; \">&quot;OR4B1&quot;</td><td style=\"white-space: nowrap; max-width: 500px; overflow: hidden; text-overflow: ellipsis; \">1</td><td style=\"white-space: nowrap; max-width: 500px; overflow: hidden; text-overflow: ellipsis; \">3.79e-16</td><td style=\"white-space: nowrap; max-width: 500px; overflow: hidden; text-overflow: ellipsis; \">0.00e+00</td><td style=\"white-space: nowrap; max-width: 500px; overflow: hidden; text-overflow: ellipsis; \">0</td></tr>\n",
       "<tr><td style=\"white-space: nowrap; max-width: 500px; overflow: hidden; text-overflow: ellipsis; \">&quot;PCDH11X&quot;</td><td style=\"white-space: nowrap; max-width: 500px; overflow: hidden; text-overflow: ellipsis; \">6</td><td style=\"white-space: nowrap; max-width: 500px; overflow: hidden; text-overflow: ellipsis; \">3.81e+02</td><td style=\"white-space: nowrap; max-width: 500px; overflow: hidden; text-overflow: ellipsis; \">0.00e+00</td><td style=\"white-space: nowrap; max-width: 500px; overflow: hidden; text-overflow: ellipsis; \">0</td></tr>\n",
       "<tr><td style=\"white-space: nowrap; max-width: 500px; overflow: hidden; text-overflow: ellipsis; \">&quot;PCDH19&quot;</td><td style=\"white-space: nowrap; max-width: 500px; overflow: hidden; text-overflow: ellipsis; \">1</td><td style=\"white-space: nowrap; max-width: 500px; overflow: hidden; text-overflow: ellipsis; \">8.02e-15</td><td style=\"white-space: nowrap; max-width: 500px; overflow: hidden; text-overflow: ellipsis; \">0.00e+00</td><td style=\"white-space: nowrap; max-width: 500px; overflow: hidden; text-overflow: ellipsis; \">0</td></tr>\n",
       "<tr><td style=\"white-space: nowrap; max-width: 500px; overflow: hidden; text-overflow: ellipsis; \">&quot;SHOX&quot;</td><td style=\"white-space: nowrap; max-width: 500px; overflow: hidden; text-overflow: ellipsis; \">22</td><td style=\"white-space: nowrap; max-width: 500px; overflow: hidden; text-overflow: ellipsis; \">1.63e+03</td><td style=\"white-space: nowrap; max-width: 500px; overflow: hidden; text-overflow: ellipsis; \">0.00e+00</td><td style=\"white-space: nowrap; max-width: 500px; overflow: hidden; text-overflow: ellipsis; \">0</td></tr>\n",
       "<tr><td style=\"white-space: nowrap; max-width: 500px; overflow: hidden; text-overflow: ellipsis; \">&quot;ZCCHC18&quot;</td><td style=\"white-space: nowrap; max-width: 500px; overflow: hidden; text-overflow: ellipsis; \">1</td><td style=\"white-space: nowrap; max-width: 500px; overflow: hidden; text-overflow: ellipsis; \">2.93e-15</td><td style=\"white-space: nowrap; max-width: 500px; overflow: hidden; text-overflow: ellipsis; \">0.00e+00</td><td style=\"white-space: nowrap; max-width: 500px; overflow: hidden; text-overflow: ellipsis; \">0</td></tr>\n",
       "<tr><td style=\"white-space: nowrap; max-width: 500px; overflow: hidden; text-overflow: ellipsis; \">&quot;DMD&quot;</td><td style=\"white-space: nowrap; max-width: 500px; overflow: hidden; text-overflow: ellipsis; \">15</td><td style=\"white-space: nowrap; max-width: 500px; overflow: hidden; text-overflow: ellipsis; \">4.54e+02</td><td style=\"white-space: nowrap; max-width: 500px; overflow: hidden; text-overflow: ellipsis; \">3.02e-07</td><td style=\"white-space: nowrap; max-width: 500px; overflow: hidden; text-overflow: ellipsis; \">0</td></tr>\n",
       "<tr><td style=\"white-space: nowrap; max-width: 500px; overflow: hidden; text-overflow: ellipsis; \">&quot;MUC12&quot;</td><td style=\"white-space: nowrap; max-width: 500px; overflow: hidden; text-overflow: ellipsis; \">24</td><td style=\"white-space: nowrap; max-width: 500px; overflow: hidden; text-overflow: ellipsis; \">1.89e+03</td><td style=\"white-space: nowrap; max-width: 500px; overflow: hidden; text-overflow: ellipsis; \">3.15e-07</td><td style=\"white-space: nowrap; max-width: 500px; overflow: hidden; text-overflow: ellipsis; \">0</td></tr>\n",
       "<tr><td style=\"white-space: nowrap; max-width: 500px; overflow: hidden; text-overflow: ellipsis; \">&quot;GOLGA6D&quot;</td><td style=\"white-space: nowrap; max-width: 500px; overflow: hidden; text-overflow: ellipsis; \">8</td><td style=\"white-space: nowrap; max-width: 500px; overflow: hidden; text-overflow: ellipsis; \">4.02e+02</td><td style=\"white-space: nowrap; max-width: 500px; overflow: hidden; text-overflow: ellipsis; \">5.28e-07</td><td style=\"white-space: nowrap; max-width: 500px; overflow: hidden; text-overflow: ellipsis; \">0</td></tr>\n",
       "<tr><td style=\"white-space: nowrap; max-width: 500px; overflow: hidden; text-overflow: ellipsis; \">&quot;ZDHHC11&quot;</td><td style=\"white-space: nowrap; max-width: 500px; overflow: hidden; text-overflow: ellipsis; \">36</td><td style=\"white-space: nowrap; max-width: 500px; overflow: hidden; text-overflow: ellipsis; \">1.19e+03</td><td style=\"white-space: nowrap; max-width: 500px; overflow: hidden; text-overflow: ellipsis; \">5.45e-07</td><td style=\"white-space: nowrap; max-width: 500px; overflow: hidden; text-overflow: ellipsis; \">0</td></tr>\n",
       "<tr><td style=\"white-space: nowrap; max-width: 500px; overflow: hidden; text-overflow: ellipsis; \">&quot;XG&quot;</td><td style=\"white-space: nowrap; max-width: 500px; overflow: hidden; text-overflow: ellipsis; \">18</td><td style=\"white-space: nowrap; max-width: 500px; overflow: hidden; text-overflow: ellipsis; \">4.17e+02</td><td style=\"white-space: nowrap; max-width: 500px; overflow: hidden; text-overflow: ellipsis; \">7.06e-07</td><td style=\"white-space: nowrap; max-width: 500px; overflow: hidden; text-overflow: ellipsis; \">0</td></tr>\n",
       "<tr><td style=\"white-space: nowrap; max-width: 500px; overflow: hidden; text-overflow: ellipsis; \">&quot;PPP2R3B&quot;</td><td style=\"white-space: nowrap; max-width: 500px; overflow: hidden; text-overflow: ellipsis; \">5</td><td style=\"white-space: nowrap; max-width: 500px; overflow: hidden; text-overflow: ellipsis; \">6.20e+02</td><td style=\"white-space: nowrap; max-width: 500px; overflow: hidden; text-overflow: ellipsis; \">1.06e-06</td><td style=\"white-space: nowrap; max-width: 500px; overflow: hidden; text-overflow: ellipsis; \">0</td></tr>\n",
       "<tr><td style=\"white-space: nowrap; max-width: 500px; overflow: hidden; text-overflow: ellipsis; \">&quot;AKAP17A&quot;</td><td style=\"white-space: nowrap; max-width: 500px; overflow: hidden; text-overflow: ellipsis; \">12</td><td style=\"white-space: nowrap; max-width: 500px; overflow: hidden; text-overflow: ellipsis; \">9.87e+02</td><td style=\"white-space: nowrap; max-width: 500px; overflow: hidden; text-overflow: ellipsis; \">1.46e-06</td><td style=\"white-space: nowrap; max-width: 500px; overflow: hidden; text-overflow: ellipsis; \">0</td></tr>\n",
       "<tr><td style=\"white-space: nowrap; max-width: 500px; overflow: hidden; text-overflow: ellipsis; \">&quot;PLCXD1&quot;</td><td style=\"white-space: nowrap; max-width: 500px; overflow: hidden; text-overflow: ellipsis; \">16</td><td style=\"white-space: nowrap; max-width: 500px; overflow: hidden; text-overflow: ellipsis; \">7.98e+02</td><td style=\"white-space: nowrap; max-width: 500px; overflow: hidden; text-overflow: ellipsis; \">1.51e-06</td><td style=\"white-space: nowrap; max-width: 500px; overflow: hidden; text-overflow: ellipsis; \">0</td></tr>\n",
       "<tr><td style=\"white-space: nowrap; max-width: 500px; overflow: hidden; text-overflow: ellipsis; \">&quot;SAA4&quot;</td><td style=\"white-space: nowrap; max-width: 500px; overflow: hidden; text-overflow: ellipsis; \">6</td><td style=\"white-space: nowrap; max-width: 500px; overflow: hidden; text-overflow: ellipsis; \">1.31e+02</td><td style=\"white-space: nowrap; max-width: 500px; overflow: hidden; text-overflow: ellipsis; \">1.73e-06</td><td style=\"white-space: nowrap; max-width: 500px; overflow: hidden; text-overflow: ellipsis; \">0</td></tr>\n",
       "</tbody></table><p style=\"background: #fdd; padding: 0.4em;\">showing top 20 rows</p>\n"
      ],
      "text/plain": [
       "+-----------+-------+----------+-----------+-------+\n",
       "| id        |  size |   q_stat |   p_value | fault |\n",
       "+-----------+-------+----------+-----------+-------+\n",
       "| str       | int32 |  float64 |   float64 | int32 |\n",
       "+-----------+-------+----------+-----------+-------+\n",
       "| \"ZBED1\"   |    12 | 4.26e+02 | -1.85e-09 |     0 |\n",
       "| \"ARMC10\"  |     4 | 2.81e+02 |  0.00e+00 |     0 |\n",
       "| \"DHRSX\"   |    49 | 2.68e+03 |  0.00e+00 |     0 |\n",
       "| \"MTM1\"    |     1 | 3.58e-15 |  0.00e+00 |     0 |\n",
       "| \"MUC3A\"   |    13 | 1.82e+03 |  0.00e+00 |     0 |\n",
       "| \"NAPEPLD\" |    11 | 2.88e+02 |  0.00e+00 |     0 |\n",
       "| \"OR4B1\"   |     1 | 3.79e-16 |  0.00e+00 |     0 |\n",
       "| \"PCDH11X\" |     6 | 3.81e+02 |  0.00e+00 |     0 |\n",
       "| \"PCDH19\"  |     1 | 8.02e-15 |  0.00e+00 |     0 |\n",
       "| \"SHOX\"    |    22 | 1.63e+03 |  0.00e+00 |     0 |\n",
       "| \"ZCCHC18\" |     1 | 2.93e-15 |  0.00e+00 |     0 |\n",
       "| \"DMD\"     |    15 | 4.54e+02 |  3.02e-07 |     0 |\n",
       "| \"MUC12\"   |    24 | 1.89e+03 |  3.15e-07 |     0 |\n",
       "| \"GOLGA6D\" |     8 | 4.02e+02 |  5.28e-07 |     0 |\n",
       "| \"ZDHHC11\" |    36 | 1.19e+03 |  5.45e-07 |     0 |\n",
       "| \"XG\"      |    18 | 4.17e+02 |  7.06e-07 |     0 |\n",
       "| \"PPP2R3B\" |     5 | 6.20e+02 |  1.06e-06 |     0 |\n",
       "| \"AKAP17A\" |    12 | 9.87e+02 |  1.46e-06 |     0 |\n",
       "| \"PLCXD1\"  |    16 | 7.98e+02 |  1.51e-06 |     0 |\n",
       "| \"SAA4\"    |     6 | 1.31e+02 |  1.73e-06 |     0 |\n",
       "+-----------+-------+----------+-----------+-------+\n",
       "showing top 20 rows"
      ]
     },
     "metadata": {},
     "output_type": "display_data"
    },
    {
     "name": "stderr",
     "output_type": "stream",
     "text": [
      "2023-08-27 21:55:47.048 Hail: INFO: Ordering unsorted dataset with network shuffle\n",
      "/net/pr2/projects/plgrid/plggneuromol/imdik-zekanowski-gts/venv-hail-0.2.113/lib/python3.10/site-packages/bokeh/models/sources.py:235: FutureWarning: iteritems is deprecated and will be removed in a future version. Use .items instead.\n",
      "  tmp_data = {c: v.values for c, v in _df.iteritems()}\n",
      "2023-08-27 21:55:50.620 Hail: INFO: Ordering unsorted dataset with network shuffle\n"
     ]
    },
    {
     "data": {
      "text/html": [
       "\n",
       "\n",
       "\n",
       "\n",
       "\n",
       "\n",
       "  <div class=\"bk-root\" id=\"651032ad-ecd1-4839-aa02-6934463cb63a\" data-root-id=\"1215\"></div>\n"
      ]
     },
     "metadata": {},
     "output_type": "display_data"
    },
    {
     "data": {
      "application/javascript": [
       "(function(root) {\n",
       "  function embed_document(root) {\n",
       "    \n",
       "  var docs_json = {\"fe140962-421f-4106-9589-842f317637b2\":{\"roots\":{\"references\":[{\"attributes\":{\"below\":[{\"id\":\"1226\",\"type\":\"LinearAxis\"}],\"center\":[{\"id\":\"1230\",\"type\":\"Grid\"},{\"id\":\"1235\",\"type\":\"Grid\"},{\"id\":\"1259\",\"type\":\"Slope\"},{\"id\":\"1260\",\"type\":\"Label\"}],\"left\":[{\"id\":\"1231\",\"type\":\"LinearAxis\"}],\"plot_height\":800,\"plot_width\":800,\"renderers\":[{\"id\":\"1255\",\"type\":\"GlyphRenderer\"}],\"title\":{\"id\":\"1216\",\"type\":\"Title\"},\"toolbar\":{\"id\":\"1242\",\"type\":\"Toolbar\"},\"x_range\":{\"id\":\"1257\",\"type\":\"DataRange1d\"},\"x_scale\":{\"id\":\"1222\",\"type\":\"LinearScale\"},\"y_range\":{\"id\":\"1258\",\"type\":\"DataRange1d\"},\"y_scale\":{\"id\":\"1224\",\"type\":\"LinearScale\"}},\"id\":\"1215\",\"subtype\":\"Figure\",\"type\":\"Plot\"},{\"attributes\":{},\"id\":\"1240\",\"type\":\"ResetTool\"},{\"attributes\":{\"callback\":null,\"tooltips\":[[\"x\",\"@x\"],[\"y\",\"@y\"],[\"p_value\",\"@p_value\"]]},\"id\":\"1250\",\"type\":\"HoverTool\"},{\"attributes\":{},\"id\":\"1236\",\"type\":\"PanTool\"},{\"attributes\":{\"active_drag\":\"auto\",\"active_inspect\":\"auto\",\"active_multi\":null,\"active_scroll\":\"auto\",\"active_tap\":\"auto\",\"tools\":[{\"id\":\"1236\",\"type\":\"PanTool\"},{\"id\":\"1237\",\"type\":\"WheelZoomTool\"},{\"id\":\"1238\",\"type\":\"BoxZoomTool\"},{\"id\":\"1239\",\"type\":\"SaveTool\"},{\"id\":\"1240\",\"type\":\"ResetTool\"},{\"id\":\"1241\",\"type\":\"HelpTool\"},{\"id\":\"1250\",\"type\":\"HoverTool\"}]},\"id\":\"1242\",\"type\":\"Toolbar\"},{\"attributes\":{\"fill_alpha\":{\"value\":0.1},\"fill_color\":{\"value\":\"#1f77b4\"},\"line_alpha\":{\"value\":0.1},\"line_color\":{\"value\":\"#1f77b4\"},\"size\":{\"units\":\"screen\",\"value\":6},\"x\":{\"field\":\"x\"},\"y\":{\"field\":\"y\"}},\"id\":\"1254\",\"type\":\"Circle\"},{\"attributes\":{\"callback\":null,\"data\":{\"index\":[0,1,2,3,4,5,6,7,8,9,10,11,12,13,14,15,16,17,18,19,20,21,22,23,24,25,26,27,28,29,30,31,32,33,34,35,36,37,38,39,40,41,42,43,44,45,46,47,48,49,50,51,52,53,54,55,56,57,58,59,60,61,62,63,64,65,66,67,68,69,70,71,72,73,74,75,76,77,78,79,80,81,82,83,84,85,86,87,88,89,90,91,92,93,94,95,96,97,98,99,100,101,102,103,104,105,106,107,108,109,110,111,112,113,114,115,116,117,118,119,120,121,122,123,124,125,126,127,128,129,130,131,132,133,134,135,136,137,138,139,140,141,142,143,144,145,146,147,148,149,150,151,152,153,154,155,156,157,158,159,160,161,162,163,164,165,166,167,168,169,170,171,172,173,174,175,176,177,178,179,180,181,182,183,184,185,186,187,188,189,190,191,192,193,194,195,196,197,198,199,200,201,202,203,204,205,206,207,208,209,210,211,212,213,214,215,216,217,218,219,220,221,222,223,224,225,226,227,228,229,230,231,232,233,234,235,236,237,238,239,240,241,242,243,244,245,246,247,248,249,250,251,252,253,254,255,256,257,258,259,260,261,262,263,264,265,266,267,268,269,270,271,272,273,274,275,276,277,278,279,280,281,282,283,284,285,286,287,288,289,290,291,292,293,294,295,296,297,298,299,300,301,302,303,304,305,306,307,308,309,310,311,312,313,314,315,316,317,318,319,320,321,322,323,324,325,326,327,328,329,330,331,332,333,334,335,336,337,338,339,340,341,342,343,344,345,346,347,348,349,350,351,352,353,354,355,356,357,358,359,360,361,362,363,364,365,366,367,368,369,370,371,372,373,374,375,376,377,378,379,380,381,382,383,384,385,386,387,388,389,390,391,392,393,394,395,396,397,398,399,400,401,402,403,404,405,406,407,408,409,410,411,412,413,414,415,416,417,418,419,420,421,422,423,424,425,426,427,428,429,430,431,432,433,434,435,436,437,438,439,440,441,442,443,444,445,446,447,448,449,450,451,452,453,454,455,456,457,458,459,460,461,462,463,464,465,466,467,468,469,470,471,472,473,474,475,476,477,478,479,480,481,482,483,484,485,486,487,488,489,490,491,492,493,494,495,496,497,498,499,500,501,502,503,504,505,506,507,508,509,510,511,512,513,514,515,516,517,518,519,520,521,522,523,524,525,526,527,528,529,530,531,532,533,534,535,536,537,538,539,540,541,542,543,544,545,546,547,548,549,550],\"p_value\":{\"__ndarray__\":\"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\",\"dtype\":\"float64\",\"shape\":[551]},\"x\":{\"__ndarray__\":\"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\",\"dtype\":\"float64\",\"shape\":[551]},\"y\":{\"__ndarray__\":\"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\",\"dtype\":\"float64\",\"shape\":[551]}},\"selected\":{\"id\":\"1283\",\"type\":\"Selection\"},\"selection_policy\":{\"id\":\"1284\",\"type\":\"UnionRenderers\"}},\"id\":\"1251\",\"type\":\"ColumnDataSource\"},{\"attributes\":{\"overlay\":{\"id\":\"1282\",\"type\":\"BoxAnnotation\"}},\"id\":\"1238\",\"type\":\"BoxZoomTool\"},{\"attributes\":{},\"id\":\"1241\",\"type\":\"HelpTool\"},{\"attributes\":{\"bottom_units\":\"screen\",\"fill_alpha\":{\"value\":0.5},\"fill_color\":{\"value\":\"lightgrey\"},\"left_units\":\"screen\",\"level\":\"overlay\",\"line_alpha\":{\"value\":1.0},\"line_color\":{\"value\":\"black\"},\"line_dash\":[4,4],\"line_width\":{\"value\":2},\"render_mode\":\"css\",\"right_units\":\"screen\",\"top_units\":\"screen\"},\"id\":\"1282\",\"type\":\"BoxAnnotation\"},{\"attributes\":{},\"id\":\"1283\",\"type\":\"Selection\"},{\"attributes\":{\"callback\":null,\"end\":null,\"start\":0},\"id\":\"1258\",\"type\":\"DataRange1d\"},{\"attributes\":{},\"id\":\"1284\",\"type\":\"UnionRenderers\"},{\"attributes\":{\"gradient\":1,\"line_color\":{\"value\":\"red\"},\"y_intercept\":0},\"id\":\"1259\",\"type\":\"Slope\"},{\"attributes\":{},\"id\":\"1222\",\"type\":\"LinearScale\"},{\"attributes\":{\"dimension\":1,\"ticker\":{\"id\":\"1232\",\"type\":\"BasicTicker\"}},\"id\":\"1235\",\"type\":\"Grid\"},{\"attributes\":{},\"id\":\"1239\",\"type\":\"SaveTool\"},{\"attributes\":{\"callback\":null,\"end\":null,\"start\":0},\"id\":\"1257\",\"type\":\"DataRange1d\"},{\"attributes\":{},\"id\":\"1227\",\"type\":\"BasicTicker\"},{\"attributes\":{\"text\":\"Q-Q plot\"},\"id\":\"1216\",\"type\":\"Title\"},{\"attributes\":{\"data_source\":{\"id\":\"1251\",\"type\":\"ColumnDataSource\"},\"glyph\":{\"id\":\"1253\",\"type\":\"Circle\"},\"hover_glyph\":null,\"muted_glyph\":null,\"nonselection_glyph\":{\"id\":\"1254\",\"type\":\"Circle\"},\"selection_glyph\":null,\"view\":{\"id\":\"1256\",\"type\":\"CDSView\"}},\"id\":\"1255\",\"type\":\"GlyphRenderer\"},{\"attributes\":{},\"id\":\"1278\",\"type\":\"BasicTickFormatter\"},{\"attributes\":{\"ticker\":{\"id\":\"1227\",\"type\":\"BasicTicker\"}},\"id\":\"1230\",\"type\":\"Grid\"},{\"attributes\":{\"fill_color\":{\"value\":\"#1f77b4\"},\"line_color\":{\"value\":\"#1f77b4\"},\"size\":{\"units\":\"screen\",\"value\":6},\"x\":{\"field\":\"x\"},\"y\":{\"field\":\"y\"}},\"id\":\"1253\",\"type\":\"Circle\"},{\"attributes\":{\"axis_label\":\"Expected -log10(p)\",\"formatter\":{\"id\":\"1280\",\"type\":\"BasicTickFormatter\"},\"ticker\":{\"id\":\"1227\",\"type\":\"BasicTicker\"}},\"id\":\"1226\",\"type\":\"LinearAxis\"},{\"attributes\":{\"text\":\"\\u03bb GC: 1.45\",\"text_color\":{\"value\":\"red\"},\"text_font_size\":{\"value\":\"14pt\"},\"text_font_style\":\"bold\",\"x\":null,\"y\":1},\"id\":\"1260\",\"type\":\"Label\"},{\"attributes\":{\"axis_label\":\"Observed -log10(p)\",\"formatter\":{\"id\":\"1278\",\"type\":\"BasicTickFormatter\"},\"ticker\":{\"id\":\"1232\",\"type\":\"BasicTicker\"}},\"id\":\"1231\",\"type\":\"LinearAxis\"},{\"attributes\":{},\"id\":\"1280\",\"type\":\"BasicTickFormatter\"},{\"attributes\":{\"source\":{\"id\":\"1251\",\"type\":\"ColumnDataSource\"}},\"id\":\"1256\",\"type\":\"CDSView\"},{\"attributes\":{},\"id\":\"1237\",\"type\":\"WheelZoomTool\"},{\"attributes\":{},\"id\":\"1232\",\"type\":\"BasicTicker\"},{\"attributes\":{},\"id\":\"1224\",\"type\":\"LinearScale\"}],\"root_ids\":[\"1215\"]},\"title\":\"Bokeh Application\",\"version\":\"1.4.0\"}};\n",
       "  var render_items = [{\"docid\":\"fe140962-421f-4106-9589-842f317637b2\",\"roots\":{\"1215\":\"651032ad-ecd1-4839-aa02-6934463cb63a\"}}];\n",
       "  root.Bokeh.embed.embed_items_notebook(docs_json, render_items);\n",
       "\n",
       "  }\n",
       "  if (root.Bokeh !== undefined) {\n",
       "    embed_document(root);\n",
       "  } else {\n",
       "    var attempts = 0;\n",
       "    var timer = setInterval(function(root) {\n",
       "      if (root.Bokeh !== undefined) {\n",
       "        clearInterval(timer);\n",
       "        embed_document(root);\n",
       "      } else {\n",
       "        attempts++;\n",
       "        if (attempts > 100) {\n",
       "          clearInterval(timer);\n",
       "          console.log(\"Bokeh: ERROR: Unable to run BokehJS code because BokehJS library is missing\");\n",
       "        }\n",
       "      }\n",
       "    }, 10, root)\n",
       "  }\n",
       "})(window);"
      ],
      "application/vnd.bokehjs_exec.v0+json": ""
     },
     "metadata": {
      "application/vnd.bokehjs_exec.v0+json": {
       "id": "1215"
      }
     },
     "output_type": "display_data"
    },
    {
     "name": "stdout",
     "output_type": "stream",
     "text": [
      "running with 0 PCs and the just subsetet scores\n"
     ]
    },
    {
     "name": "stderr",
     "output_type": "stream",
     "text": [
      "2023-08-27 21:56:00.227 Hail: INFO: Ordering unsorted dataset with network shuffle\n",
      "2023-08-27 21:56:03.641 Hail: INFO: wrote table with 17379 rows in 489 partitions to /localfs/4609352/tmp_hail/persist_tableDXLoNy9vpW\n",
      "    Total size: 519.81 KiB\n",
      "    * Rows: 519.80 KiB\n",
      "    * Globals: 11.00 B\n",
      "    * Smallest partition: 22 rows (663.00 B)\n",
      "    * Largest partition:  54 rows (1.62 KiB)\n",
      "2023-08-27 21:56:05.932 Hail: INFO: wrote table with 17379 rows in 489 partitions to /localfs/4609352/skat_table_0_scores_no_filter_parts_1.mt\n",
      "2023-08-27 21:56:06.795 Hail: INFO: Ordering unsorted dataset with network shuffle\n"
     ]
    },
    {
     "data": {
      "text/html": [
       "<table><thead><tr><td style=\"white-space: nowrap; max-width: 500px; overflow: hidden; text-overflow: ellipsis; \" colspan=\"1\"><div style=\"text-align: left;\"></div></td><td style=\"white-space: nowrap; max-width: 500px; overflow: hidden; text-overflow: ellipsis; \" colspan=\"1\"><div style=\"text-align: left;\"></div></td><td style=\"white-space: nowrap; max-width: 500px; overflow: hidden; text-overflow: ellipsis; \" colspan=\"1\"><div style=\"text-align: left;\"></div></td><td style=\"white-space: nowrap; max-width: 500px; overflow: hidden; text-overflow: ellipsis; \" colspan=\"1\"><div style=\"text-align: left;\"></div></td><td style=\"white-space: nowrap; max-width: 500px; overflow: hidden; text-overflow: ellipsis; \" colspan=\"1\"><div style=\"text-align: left;\"></div></td></tr><tr><td style=\"white-space: nowrap; max-width: 500px; overflow: hidden; text-overflow: ellipsis; \" colspan=\"1\"><div style=\"text-align: left;border-bottom: solid 2px #000; padding-bottom: 5px\">id</div></td><td style=\"white-space: nowrap; max-width: 500px; overflow: hidden; text-overflow: ellipsis; \" colspan=\"1\"><div style=\"text-align: left;border-bottom: solid 2px #000; padding-bottom: 5px\">size</div></td><td style=\"white-space: nowrap; max-width: 500px; overflow: hidden; text-overflow: ellipsis; \" colspan=\"1\"><div style=\"text-align: left;border-bottom: solid 2px #000; padding-bottom: 5px\">q_stat</div></td><td style=\"white-space: nowrap; max-width: 500px; overflow: hidden; text-overflow: ellipsis; \" colspan=\"1\"><div style=\"text-align: left;border-bottom: solid 2px #000; padding-bottom: 5px\">p_value</div></td><td style=\"white-space: nowrap; max-width: 500px; overflow: hidden; text-overflow: ellipsis; \" colspan=\"1\"><div style=\"text-align: left;border-bottom: solid 2px #000; padding-bottom: 5px\">fault</div></td></tr><tr><td style=\"white-space: nowrap; max-width: 500px; overflow: hidden; text-overflow: ellipsis; text-align: left;\">str</td><td style=\"white-space: nowrap; max-width: 500px; overflow: hidden; text-overflow: ellipsis; text-align: left;\">int32</td><td style=\"white-space: nowrap; max-width: 500px; overflow: hidden; text-overflow: ellipsis; text-align: left;\">float64</td><td style=\"white-space: nowrap; max-width: 500px; overflow: hidden; text-overflow: ellipsis; text-align: left;\">float64</td><td style=\"white-space: nowrap; max-width: 500px; overflow: hidden; text-overflow: ellipsis; text-align: left;\">int32</td></tr>\n",
       "</thead><tbody><tr><td style=\"white-space: nowrap; max-width: 500px; overflow: hidden; text-overflow: ellipsis; \">&quot;ZBED1&quot;</td><td style=\"white-space: nowrap; max-width: 500px; overflow: hidden; text-overflow: ellipsis; \">12</td><td style=\"white-space: nowrap; max-width: 500px; overflow: hidden; text-overflow: ellipsis; \">4.26e+02</td><td style=\"white-space: nowrap; max-width: 500px; overflow: hidden; text-overflow: ellipsis; \">-1.85e-09</td><td style=\"white-space: nowrap; max-width: 500px; overflow: hidden; text-overflow: ellipsis; \">0</td></tr>\n",
       "<tr><td style=\"white-space: nowrap; max-width: 500px; overflow: hidden; text-overflow: ellipsis; \">&quot;ARMC10&quot;</td><td style=\"white-space: nowrap; max-width: 500px; overflow: hidden; text-overflow: ellipsis; \">4</td><td style=\"white-space: nowrap; max-width: 500px; overflow: hidden; text-overflow: ellipsis; \">2.81e+02</td><td style=\"white-space: nowrap; max-width: 500px; overflow: hidden; text-overflow: ellipsis; \">0.00e+00</td><td style=\"white-space: nowrap; max-width: 500px; overflow: hidden; text-overflow: ellipsis; \">0</td></tr>\n",
       "<tr><td style=\"white-space: nowrap; max-width: 500px; overflow: hidden; text-overflow: ellipsis; \">&quot;DHRSX&quot;</td><td style=\"white-space: nowrap; max-width: 500px; overflow: hidden; text-overflow: ellipsis; \">49</td><td style=\"white-space: nowrap; max-width: 500px; overflow: hidden; text-overflow: ellipsis; \">2.68e+03</td><td style=\"white-space: nowrap; max-width: 500px; overflow: hidden; text-overflow: ellipsis; \">0.00e+00</td><td style=\"white-space: nowrap; max-width: 500px; overflow: hidden; text-overflow: ellipsis; \">0</td></tr>\n",
       "<tr><td style=\"white-space: nowrap; max-width: 500px; overflow: hidden; text-overflow: ellipsis; \">&quot;MTM1&quot;</td><td style=\"white-space: nowrap; max-width: 500px; overflow: hidden; text-overflow: ellipsis; \">1</td><td style=\"white-space: nowrap; max-width: 500px; overflow: hidden; text-overflow: ellipsis; \">3.58e-15</td><td style=\"white-space: nowrap; max-width: 500px; overflow: hidden; text-overflow: ellipsis; \">0.00e+00</td><td style=\"white-space: nowrap; max-width: 500px; overflow: hidden; text-overflow: ellipsis; \">0</td></tr>\n",
       "<tr><td style=\"white-space: nowrap; max-width: 500px; overflow: hidden; text-overflow: ellipsis; \">&quot;MUC3A&quot;</td><td style=\"white-space: nowrap; max-width: 500px; overflow: hidden; text-overflow: ellipsis; \">13</td><td style=\"white-space: nowrap; max-width: 500px; overflow: hidden; text-overflow: ellipsis; \">1.82e+03</td><td style=\"white-space: nowrap; max-width: 500px; overflow: hidden; text-overflow: ellipsis; \">0.00e+00</td><td style=\"white-space: nowrap; max-width: 500px; overflow: hidden; text-overflow: ellipsis; \">0</td></tr>\n",
       "<tr><td style=\"white-space: nowrap; max-width: 500px; overflow: hidden; text-overflow: ellipsis; \">&quot;NAPEPLD&quot;</td><td style=\"white-space: nowrap; max-width: 500px; overflow: hidden; text-overflow: ellipsis; \">11</td><td style=\"white-space: nowrap; max-width: 500px; overflow: hidden; text-overflow: ellipsis; \">2.88e+02</td><td style=\"white-space: nowrap; max-width: 500px; overflow: hidden; text-overflow: ellipsis; \">0.00e+00</td><td style=\"white-space: nowrap; max-width: 500px; overflow: hidden; text-overflow: ellipsis; \">0</td></tr>\n",
       "<tr><td style=\"white-space: nowrap; max-width: 500px; overflow: hidden; text-overflow: ellipsis; \">&quot;OR4B1&quot;</td><td style=\"white-space: nowrap; max-width: 500px; overflow: hidden; text-overflow: ellipsis; \">1</td><td style=\"white-space: nowrap; max-width: 500px; overflow: hidden; text-overflow: ellipsis; \">3.79e-16</td><td style=\"white-space: nowrap; max-width: 500px; overflow: hidden; text-overflow: ellipsis; \">0.00e+00</td><td style=\"white-space: nowrap; max-width: 500px; overflow: hidden; text-overflow: ellipsis; \">0</td></tr>\n",
       "<tr><td style=\"white-space: nowrap; max-width: 500px; overflow: hidden; text-overflow: ellipsis; \">&quot;PCDH11X&quot;</td><td style=\"white-space: nowrap; max-width: 500px; overflow: hidden; text-overflow: ellipsis; \">6</td><td style=\"white-space: nowrap; max-width: 500px; overflow: hidden; text-overflow: ellipsis; \">3.81e+02</td><td style=\"white-space: nowrap; max-width: 500px; overflow: hidden; text-overflow: ellipsis; \">0.00e+00</td><td style=\"white-space: nowrap; max-width: 500px; overflow: hidden; text-overflow: ellipsis; \">0</td></tr>\n",
       "<tr><td style=\"white-space: nowrap; max-width: 500px; overflow: hidden; text-overflow: ellipsis; \">&quot;PCDH19&quot;</td><td style=\"white-space: nowrap; max-width: 500px; overflow: hidden; text-overflow: ellipsis; \">1</td><td style=\"white-space: nowrap; max-width: 500px; overflow: hidden; text-overflow: ellipsis; \">8.02e-15</td><td style=\"white-space: nowrap; max-width: 500px; overflow: hidden; text-overflow: ellipsis; \">0.00e+00</td><td style=\"white-space: nowrap; max-width: 500px; overflow: hidden; text-overflow: ellipsis; \">0</td></tr>\n",
       "<tr><td style=\"white-space: nowrap; max-width: 500px; overflow: hidden; text-overflow: ellipsis; \">&quot;SHOX&quot;</td><td style=\"white-space: nowrap; max-width: 500px; overflow: hidden; text-overflow: ellipsis; \">22</td><td style=\"white-space: nowrap; max-width: 500px; overflow: hidden; text-overflow: ellipsis; \">1.63e+03</td><td style=\"white-space: nowrap; max-width: 500px; overflow: hidden; text-overflow: ellipsis; \">0.00e+00</td><td style=\"white-space: nowrap; max-width: 500px; overflow: hidden; text-overflow: ellipsis; \">0</td></tr>\n",
       "<tr><td style=\"white-space: nowrap; max-width: 500px; overflow: hidden; text-overflow: ellipsis; \">&quot;ZCCHC18&quot;</td><td style=\"white-space: nowrap; max-width: 500px; overflow: hidden; text-overflow: ellipsis; \">1</td><td style=\"white-space: nowrap; max-width: 500px; overflow: hidden; text-overflow: ellipsis; \">2.93e-15</td><td style=\"white-space: nowrap; max-width: 500px; overflow: hidden; text-overflow: ellipsis; \">0.00e+00</td><td style=\"white-space: nowrap; max-width: 500px; overflow: hidden; text-overflow: ellipsis; \">0</td></tr>\n",
       "<tr><td style=\"white-space: nowrap; max-width: 500px; overflow: hidden; text-overflow: ellipsis; \">&quot;DMD&quot;</td><td style=\"white-space: nowrap; max-width: 500px; overflow: hidden; text-overflow: ellipsis; \">15</td><td style=\"white-space: nowrap; max-width: 500px; overflow: hidden; text-overflow: ellipsis; \">4.54e+02</td><td style=\"white-space: nowrap; max-width: 500px; overflow: hidden; text-overflow: ellipsis; \">3.02e-07</td><td style=\"white-space: nowrap; max-width: 500px; overflow: hidden; text-overflow: ellipsis; \">0</td></tr>\n",
       "<tr><td style=\"white-space: nowrap; max-width: 500px; overflow: hidden; text-overflow: ellipsis; \">&quot;MUC12&quot;</td><td style=\"white-space: nowrap; max-width: 500px; overflow: hidden; text-overflow: ellipsis; \">24</td><td style=\"white-space: nowrap; max-width: 500px; overflow: hidden; text-overflow: ellipsis; \">1.89e+03</td><td style=\"white-space: nowrap; max-width: 500px; overflow: hidden; text-overflow: ellipsis; \">3.15e-07</td><td style=\"white-space: nowrap; max-width: 500px; overflow: hidden; text-overflow: ellipsis; \">0</td></tr>\n",
       "<tr><td style=\"white-space: nowrap; max-width: 500px; overflow: hidden; text-overflow: ellipsis; \">&quot;GOLGA6D&quot;</td><td style=\"white-space: nowrap; max-width: 500px; overflow: hidden; text-overflow: ellipsis; \">8</td><td style=\"white-space: nowrap; max-width: 500px; overflow: hidden; text-overflow: ellipsis; \">4.02e+02</td><td style=\"white-space: nowrap; max-width: 500px; overflow: hidden; text-overflow: ellipsis; \">5.28e-07</td><td style=\"white-space: nowrap; max-width: 500px; overflow: hidden; text-overflow: ellipsis; \">0</td></tr>\n",
       "<tr><td style=\"white-space: nowrap; max-width: 500px; overflow: hidden; text-overflow: ellipsis; \">&quot;ZDHHC11&quot;</td><td style=\"white-space: nowrap; max-width: 500px; overflow: hidden; text-overflow: ellipsis; \">36</td><td style=\"white-space: nowrap; max-width: 500px; overflow: hidden; text-overflow: ellipsis; \">1.19e+03</td><td style=\"white-space: nowrap; max-width: 500px; overflow: hidden; text-overflow: ellipsis; \">5.45e-07</td><td style=\"white-space: nowrap; max-width: 500px; overflow: hidden; text-overflow: ellipsis; \">0</td></tr>\n",
       "<tr><td style=\"white-space: nowrap; max-width: 500px; overflow: hidden; text-overflow: ellipsis; \">&quot;XG&quot;</td><td style=\"white-space: nowrap; max-width: 500px; overflow: hidden; text-overflow: ellipsis; \">18</td><td style=\"white-space: nowrap; max-width: 500px; overflow: hidden; text-overflow: ellipsis; \">4.17e+02</td><td style=\"white-space: nowrap; max-width: 500px; overflow: hidden; text-overflow: ellipsis; \">7.06e-07</td><td style=\"white-space: nowrap; max-width: 500px; overflow: hidden; text-overflow: ellipsis; \">0</td></tr>\n",
       "<tr><td style=\"white-space: nowrap; max-width: 500px; overflow: hidden; text-overflow: ellipsis; \">&quot;PPP2R3B&quot;</td><td style=\"white-space: nowrap; max-width: 500px; overflow: hidden; text-overflow: ellipsis; \">5</td><td style=\"white-space: nowrap; max-width: 500px; overflow: hidden; text-overflow: ellipsis; \">6.20e+02</td><td style=\"white-space: nowrap; max-width: 500px; overflow: hidden; text-overflow: ellipsis; \">1.06e-06</td><td style=\"white-space: nowrap; max-width: 500px; overflow: hidden; text-overflow: ellipsis; \">0</td></tr>\n",
       "<tr><td style=\"white-space: nowrap; max-width: 500px; overflow: hidden; text-overflow: ellipsis; \">&quot;AKAP17A&quot;</td><td style=\"white-space: nowrap; max-width: 500px; overflow: hidden; text-overflow: ellipsis; \">12</td><td style=\"white-space: nowrap; max-width: 500px; overflow: hidden; text-overflow: ellipsis; \">9.87e+02</td><td style=\"white-space: nowrap; max-width: 500px; overflow: hidden; text-overflow: ellipsis; \">1.46e-06</td><td style=\"white-space: nowrap; max-width: 500px; overflow: hidden; text-overflow: ellipsis; \">0</td></tr>\n",
       "<tr><td style=\"white-space: nowrap; max-width: 500px; overflow: hidden; text-overflow: ellipsis; \">&quot;PLCXD1&quot;</td><td style=\"white-space: nowrap; max-width: 500px; overflow: hidden; text-overflow: ellipsis; \">16</td><td style=\"white-space: nowrap; max-width: 500px; overflow: hidden; text-overflow: ellipsis; \">7.98e+02</td><td style=\"white-space: nowrap; max-width: 500px; overflow: hidden; text-overflow: ellipsis; \">1.51e-06</td><td style=\"white-space: nowrap; max-width: 500px; overflow: hidden; text-overflow: ellipsis; \">0</td></tr>\n",
       "<tr><td style=\"white-space: nowrap; max-width: 500px; overflow: hidden; text-overflow: ellipsis; \">&quot;SAA4&quot;</td><td style=\"white-space: nowrap; max-width: 500px; overflow: hidden; text-overflow: ellipsis; \">6</td><td style=\"white-space: nowrap; max-width: 500px; overflow: hidden; text-overflow: ellipsis; \">1.31e+02</td><td style=\"white-space: nowrap; max-width: 500px; overflow: hidden; text-overflow: ellipsis; \">1.73e-06</td><td style=\"white-space: nowrap; max-width: 500px; overflow: hidden; text-overflow: ellipsis; \">0</td></tr>\n",
       "</tbody></table><p style=\"background: #fdd; padding: 0.4em;\">showing top 20 rows</p>\n"
      ],
      "text/plain": [
       "+-----------+-------+----------+-----------+-------+\n",
       "| id        |  size |   q_stat |   p_value | fault |\n",
       "+-----------+-------+----------+-----------+-------+\n",
       "| str       | int32 |  float64 |   float64 | int32 |\n",
       "+-----------+-------+----------+-----------+-------+\n",
       "| \"ZBED1\"   |    12 | 4.26e+02 | -1.85e-09 |     0 |\n",
       "| \"ARMC10\"  |     4 | 2.81e+02 |  0.00e+00 |     0 |\n",
       "| \"DHRSX\"   |    49 | 2.68e+03 |  0.00e+00 |     0 |\n",
       "| \"MTM1\"    |     1 | 3.58e-15 |  0.00e+00 |     0 |\n",
       "| \"MUC3A\"   |    13 | 1.82e+03 |  0.00e+00 |     0 |\n",
       "| \"NAPEPLD\" |    11 | 2.88e+02 |  0.00e+00 |     0 |\n",
       "| \"OR4B1\"   |     1 | 3.79e-16 |  0.00e+00 |     0 |\n",
       "| \"PCDH11X\" |     6 | 3.81e+02 |  0.00e+00 |     0 |\n",
       "| \"PCDH19\"  |     1 | 8.02e-15 |  0.00e+00 |     0 |\n",
       "| \"SHOX\"    |    22 | 1.63e+03 |  0.00e+00 |     0 |\n",
       "| \"ZCCHC18\" |     1 | 2.93e-15 |  0.00e+00 |     0 |\n",
       "| \"DMD\"     |    15 | 4.54e+02 |  3.02e-07 |     0 |\n",
       "| \"MUC12\"   |    24 | 1.89e+03 |  3.15e-07 |     0 |\n",
       "| \"GOLGA6D\" |     8 | 4.02e+02 |  5.28e-07 |     0 |\n",
       "| \"ZDHHC11\" |    36 | 1.19e+03 |  5.45e-07 |     0 |\n",
       "| \"XG\"      |    18 | 4.17e+02 |  7.06e-07 |     0 |\n",
       "| \"PPP2R3B\" |     5 | 6.20e+02 |  1.06e-06 |     0 |\n",
       "| \"AKAP17A\" |    12 | 9.87e+02 |  1.46e-06 |     0 |\n",
       "| \"PLCXD1\"  |    16 | 7.98e+02 |  1.51e-06 |     0 |\n",
       "| \"SAA4\"    |     6 | 1.31e+02 |  1.73e-06 |     0 |\n",
       "+-----------+-------+----------+-----------+-------+\n",
       "showing top 20 rows"
      ]
     },
     "metadata": {},
     "output_type": "display_data"
    },
    {
     "name": "stderr",
     "output_type": "stream",
     "text": [
      "2023-08-27 21:56:08.752 Hail: INFO: Ordering unsorted dataset with network shuffle\n",
      "/net/pr2/projects/plgrid/plggneuromol/imdik-zekanowski-gts/venv-hail-0.2.113/lib/python3.10/site-packages/bokeh/models/sources.py:235: FutureWarning: iteritems is deprecated and will be removed in a future version. Use .items instead.\n",
      "  tmp_data = {c: v.values for c, v in _df.iteritems()}\n",
      "2023-08-27 21:56:12.219 Hail: INFO: Ordering unsorted dataset with network shuffle\n"
     ]
    },
    {
     "data": {
      "text/html": [
       "\n",
       "\n",
       "\n",
       "\n",
       "\n",
       "\n",
       "  <div class=\"bk-root\" id=\"577f22a7-bf79-4b5b-94b5-a388264bada3\" data-root-id=\"1333\"></div>\n"
      ]
     },
     "metadata": {},
     "output_type": "display_data"
    },
    {
     "data": {
      "application/javascript": [
       "(function(root) {\n",
       "  function embed_document(root) {\n",
       "    \n",
       "  var docs_json = {\"f52b1ff2-db03-4979-875b-732c8ddd3479\":{\"roots\":{\"references\":[{\"attributes\":{\"below\":[{\"id\":\"1344\",\"type\":\"LinearAxis\"}],\"center\":[{\"id\":\"1348\",\"type\":\"Grid\"},{\"id\":\"1353\",\"type\":\"Grid\"},{\"id\":\"1377\",\"type\":\"Slope\"},{\"id\":\"1378\",\"type\":\"Label\"}],\"left\":[{\"id\":\"1349\",\"type\":\"LinearAxis\"}],\"plot_height\":800,\"plot_width\":800,\"renderers\":[{\"id\":\"1373\",\"type\":\"GlyphRenderer\"}],\"title\":{\"id\":\"1334\",\"type\":\"Title\"},\"toolbar\":{\"id\":\"1360\",\"type\":\"Toolbar\"},\"x_range\":{\"id\":\"1375\",\"type\":\"DataRange1d\"},\"x_scale\":{\"id\":\"1340\",\"type\":\"LinearScale\"},\"y_range\":{\"id\":\"1376\",\"type\":\"DataRange1d\"},\"y_scale\":{\"id\":\"1342\",\"type\":\"LinearScale\"}},\"id\":\"1333\",\"subtype\":\"Figure\",\"type\":\"Plot\"},{\"attributes\":{\"source\":{\"id\":\"1369\",\"type\":\"ColumnDataSource\"}},\"id\":\"1374\",\"type\":\"CDSView\"},{\"attributes\":{\"data_source\":{\"id\":\"1369\",\"type\":\"ColumnDataSource\"},\"glyph\":{\"id\":\"1371\",\"type\":\"Circle\"},\"hover_glyph\":null,\"muted_glyph\":null,\"nonselection_glyph\":{\"id\":\"1372\",\"type\":\"Circle\"},\"selection_glyph\":null,\"view\":{\"id\":\"1374\",\"type\":\"CDSView\"}},\"id\":\"1373\",\"type\":\"GlyphRenderer\"},{\"attributes\":{\"dimension\":1,\"ticker\":{\"id\":\"1350\",\"type\":\"BasicTicker\"}},\"id\":\"1353\",\"type\":\"Grid\"},{\"attributes\":{},\"id\":\"1358\",\"type\":\"ResetTool\"},{\"attributes\":{},\"id\":\"1406\",\"type\":\"BasicTickFormatter\"},{\"attributes\":{},\"id\":\"1355\",\"type\":\"WheelZoomTool\"},{\"attributes\":{\"callback\":null,\"tooltips\":[[\"x\",\"@x\"],[\"y\",\"@y\"],[\"p_value\",\"@p_value\"]]},\"id\":\"1368\",\"type\":\"HoverTool\"},{\"attributes\":{\"callback\":null,\"end\":null,\"start\":0},\"id\":\"1375\",\"type\":\"DataRange1d\"},{\"attributes\":{},\"id\":\"1345\",\"type\":\"BasicTicker\"},{\"attributes\":{},\"id\":\"1350\",\"type\":\"BasicTicker\"},{\"attributes\":{\"bottom_units\":\"screen\",\"fill_alpha\":{\"value\":0.5},\"fill_color\":{\"value\":\"lightgrey\"},\"left_units\":\"screen\",\"level\":\"overlay\",\"line_alpha\":{\"value\":1.0},\"line_color\":{\"value\":\"black\"},\"line_dash\":[4,4],\"line_width\":{\"value\":2},\"render_mode\":\"css\",\"right_units\":\"screen\",\"top_units\":\"screen\"},\"id\":\"1408\",\"type\":\"BoxAnnotation\"},{\"attributes\":{},\"id\":\"1357\",\"type\":\"SaveTool\"},{\"attributes\":{},\"id\":\"1404\",\"type\":\"BasicTickFormatter\"},{\"attributes\":{},\"id\":\"1340\",\"type\":\"LinearScale\"},{\"attributes\":{},\"id\":\"1354\",\"type\":\"PanTool\"},{\"attributes\":{\"ticker\":{\"id\":\"1345\",\"type\":\"BasicTicker\"}},\"id\":\"1348\",\"type\":\"Grid\"},{\"attributes\":{},\"id\":\"1359\",\"type\":\"HelpTool\"},{\"attributes\":{\"callback\":null,\"data\":{\"index\":[0,1,2,3,4,5,6,7,8,9,10,11,12,13,14,15,16,17,18,19,20,21,22,23,24,25,26,27,28,29,30,31,32,33,34,35,36,37,38,39,40,41,42,43,44,45,46,47,48,49,50,51,52,53,54,55,56,57,58,59,60,61,62,63,64,65,66,67,68,69,70,71,72,73,74,75,76,77,78,79,80,81,82,83,84,85,86,87,88,89,90,91,92,93,94,95,96,97,98,99,100,101,102,103,104,105,106,107,108,109,110,111,112,113,114,115,116,117,118,119,120,121,122,123,124,125,126,127,128,129,130,131,132,133,134,135,136,137,138,139,140,141,142,143,144,145,146,147,148,149,150,151,152,153,154,155,156,157,158,159,160,161,162,163,164,165,166,167,168,169,170,171,172,173,174,175,176,177,178,179,180,181,182,183,184,185,186,187,188,189,190,191,192,193,194,195,196,197,198,199,200,201,202,203,204,205,206,207,208,209,210,211,212,213,214,215,216,217,218,219,220,221,222,223,224,225,226,227,228,229,230,231,232,233,234,235,236,237,238,239,240,241,242,243,244,245,246,247,248,249,250,251,252,253,254,255,256,257,258,259,260,261,262,263,264,265,266,267,268,269,270,271,272,273,274,275,276,277,278,279,280,281,282,283,284,285,286,287,288,289,290,291,292,293,294,295,296,297,298,299,300,301,302,303,304,305,306,307,308,309,310,311,312,313,314,315,316,317,318,319,320,321,322,323,324,325,326,327,328,329,330,331,332,333,334,335,336,337,338,339,340,341,342,343,344,345,346,347,348,349,350,351,352,353,354,355,356,357,358,359,360,361,362,363,364,365,366,367,368,369,370,371,372,373,374,375,376,377,378,379,380,381,382,383,384,385,386,387,388,389,390,391,392,393,394,395,396,397,398,399,400,401,402,403,404,405,406,407,408,409,410,411,412,413,414,415,416,417,418,419,420,421,422,423,424,425,426,427,428,429,430,431,432,433,434,435,436,437,438,439,440,441,442,443,444,445,446,447,448,449,450,451,452,453,454,455,456,457,458,459,460,461,462,463,464,465,466,467,468,469,470,471,472,473,474,475,476,477,478,479,480,481,482,483,484,485,486,487,488,489,490,491,492,493,494,495,496,497,498,499,500,501,502,503,504,505,506,507,508,509,510,511,512,513,514,515,516,517,518,519,520,521,522,523,524,525,526,527,528,529,530,531,532,533,534,535,536,537,538,539,540,541,542,543,544,545,546,547,548,549,550],\"p_value\":{\"__ndarray__\":\"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\",\"dtype\":\"float64\",\"shape\":[551]},\"x\":{\"__ndarray__\":\"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\",\"dtype\":\"float64\",\"shape\":[551]},\"y\":{\"__ndarray__\":\"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\",\"dtype\":\"float64\",\"shape\":[551]}},\"selected\":{\"id\":\"1409\",\"type\":\"Selection\"},\"selection_policy\":{\"id\":\"1410\",\"type\":\"UnionRenderers\"}},\"id\":\"1369\",\"type\":\"ColumnDataSource\"},{\"attributes\":{\"overlay\":{\"id\":\"1408\",\"type\":\"BoxAnnotation\"}},\"id\":\"1356\",\"type\":\"BoxZoomTool\"},{\"attributes\":{\"fill_alpha\":{\"value\":0.1},\"fill_color\":{\"value\":\"#1f77b4\"},\"line_alpha\":{\"value\":0.1},\"line_color\":{\"value\":\"#1f77b4\"},\"size\":{\"units\":\"screen\",\"value\":6},\"x\":{\"field\":\"x\"},\"y\":{\"field\":\"y\"}},\"id\":\"1372\",\"type\":\"Circle\"},{\"attributes\":{},\"id\":\"1410\",\"type\":\"UnionRenderers\"},{\"attributes\":{\"axis_label\":\"Expected -log10(p)\",\"formatter\":{\"id\":\"1406\",\"type\":\"BasicTickFormatter\"},\"ticker\":{\"id\":\"1345\",\"type\":\"BasicTicker\"}},\"id\":\"1344\",\"type\":\"LinearAxis\"},{\"attributes\":{},\"id\":\"1342\",\"type\":\"LinearScale\"},{\"attributes\":{},\"id\":\"1409\",\"type\":\"Selection\"},{\"attributes\":{\"callback\":null,\"end\":null,\"start\":0},\"id\":\"1376\",\"type\":\"DataRange1d\"},{\"attributes\":{\"active_drag\":\"auto\",\"active_inspect\":\"auto\",\"active_multi\":null,\"active_scroll\":\"auto\",\"active_tap\":\"auto\",\"tools\":[{\"id\":\"1354\",\"type\":\"PanTool\"},{\"id\":\"1355\",\"type\":\"WheelZoomTool\"},{\"id\":\"1356\",\"type\":\"BoxZoomTool\"},{\"id\":\"1357\",\"type\":\"SaveTool\"},{\"id\":\"1358\",\"type\":\"ResetTool\"},{\"id\":\"1359\",\"type\":\"HelpTool\"},{\"id\":\"1368\",\"type\":\"HoverTool\"}]},\"id\":\"1360\",\"type\":\"Toolbar\"},{\"attributes\":{\"text\":\"\\u03bb GC: 1.43\",\"text_color\":{\"value\":\"red\"},\"text_font_size\":{\"value\":\"14pt\"},\"text_font_style\":\"bold\",\"x\":null,\"y\":1},\"id\":\"1378\",\"type\":\"Label\"},{\"attributes\":{\"axis_label\":\"Observed -log10(p)\",\"formatter\":{\"id\":\"1404\",\"type\":\"BasicTickFormatter\"},\"ticker\":{\"id\":\"1350\",\"type\":\"BasicTicker\"}},\"id\":\"1349\",\"type\":\"LinearAxis\"},{\"attributes\":{\"text\":\"Q-Q plot\"},\"id\":\"1334\",\"type\":\"Title\"},{\"attributes\":{\"fill_color\":{\"value\":\"#1f77b4\"},\"line_color\":{\"value\":\"#1f77b4\"},\"size\":{\"units\":\"screen\",\"value\":6},\"x\":{\"field\":\"x\"},\"y\":{\"field\":\"y\"}},\"id\":\"1371\",\"type\":\"Circle\"},{\"attributes\":{\"gradient\":1,\"line_color\":{\"value\":\"red\"},\"y_intercept\":0},\"id\":\"1377\",\"type\":\"Slope\"}],\"root_ids\":[\"1333\"]},\"title\":\"Bokeh Application\",\"version\":\"1.4.0\"}};\n",
       "  var render_items = [{\"docid\":\"f52b1ff2-db03-4979-875b-732c8ddd3479\",\"roots\":{\"1333\":\"577f22a7-bf79-4b5b-94b5-a388264bada3\"}}];\n",
       "  root.Bokeh.embed.embed_items_notebook(docs_json, render_items);\n",
       "\n",
       "  }\n",
       "  if (root.Bokeh !== undefined) {\n",
       "    embed_document(root);\n",
       "  } else {\n",
       "    var attempts = 0;\n",
       "    var timer = setInterval(function(root) {\n",
       "      if (root.Bokeh !== undefined) {\n",
       "        clearInterval(timer);\n",
       "        embed_document(root);\n",
       "      } else {\n",
       "        attempts++;\n",
       "        if (attempts > 100) {\n",
       "          clearInterval(timer);\n",
       "          console.log(\"Bokeh: ERROR: Unable to run BokehJS code because BokehJS library is missing\");\n",
       "        }\n",
       "      }\n",
       "    }, 10, root)\n",
       "  }\n",
       "})(window);"
      ],
      "application/vnd.bokehjs_exec.v0+json": ""
     },
     "metadata": {
      "application/vnd.bokehjs_exec.v0+json": {
       "id": "1333"
      }
     },
     "output_type": "display_data"
    },
    {
     "name": "stdout",
     "output_type": "stream",
     "text": [
      "running with 1 PCs and the pruned scores option\n",
      "failed PCs 1 pruned scoreseur subset 1\n",
      "<class 'LookupError'>\n",
      "running with 1 PCs and the just subsetet scores\n",
      "failed PCs 1 no filters subseted scoreseur subset 1\n",
      "<class 'LookupError'>\n",
      "running with 2 PCs and the pruned scores option\n",
      "failed PCs 2 pruned scoreseur subset 1\n",
      "<class 'LookupError'>\n",
      "running with 2 PCs and the just subsetet scores\n",
      "failed PCs 2 no filters subseted scoreseur subset 1\n",
      "<class 'LookupError'>\n",
      "running with 3 PCs and the pruned scores option\n",
      "failed PCs 3 pruned scoreseur subset 1\n",
      "<class 'LookupError'>\n",
      "running with 3 PCs and the just subsetet scores\n",
      "failed PCs 3 no filters subseted scoreseur subset 1\n",
      "<class 'LookupError'>\n",
      "running with 4 PCs and the pruned scores option\n",
      "failed PCs 4 pruned scoreseur subset 1\n",
      "<class 'LookupError'>\n",
      "running with 4 PCs and the just subsetet scores\n",
      "failed PCs 4 no filters subseted scoreseur subset 1\n",
      "<class 'LookupError'>\n",
      "running with 5 PCs and the pruned scores option\n",
      "failed PCs 5 pruned scoreseur subset 1\n",
      "<class 'LookupError'>\n",
      "running with 5 PCs and the just subsetet scores\n",
      "failed PCs 5 no filters subseted scoreseur subset 1\n",
      "<class 'LookupError'>\n",
      "running with 6 PCs and the pruned scores option\n",
      "failed PCs 6 pruned scoreseur subset 1\n",
      "<class 'LookupError'>\n",
      "running with 6 PCs and the just subsetet scores\n",
      "failed PCs 6 no filters subseted scoreseur subset 1\n",
      "<class 'LookupError'>\n",
      "running with 7 PCs and the pruned scores option\n",
      "failed PCs 7 pruned scoreseur subset 1\n",
      "<class 'LookupError'>\n",
      "running with 7 PCs and the just subsetet scores\n",
      "failed PCs 7 no filters subseted scoreseur subset 1\n",
      "<class 'LookupError'>\n",
      "running with 8 PCs and the pruned scores option\n",
      "failed PCs 8 pruned scoreseur subset 1\n",
      "<class 'LookupError'>\n",
      "running with 8 PCs and the just subsetet scores\n",
      "failed PCs 8 no filters subseted scoreseur subset 1\n",
      "<class 'LookupError'>\n",
      "running with 9 PCs and the pruned scores option\n",
      "failed PCs 9 pruned scoreseur subset 1\n",
      "<class 'LookupError'>\n",
      "running with 9 PCs and the just subsetet scores\n",
      "failed PCs 9 no filters subseted scoreseur subset 1\n",
      "<class 'LookupError'>\n",
      "running with 10 PCs and the pruned scores option\n",
      "failed PCs 10 pruned scoreseur subset 1\n",
      "<class 'LookupError'>\n",
      "running with 10 PCs and the just subsetet scores\n",
      "failed PCs 10 no filters subseted scoreseur subset 1\n",
      "<class 'LookupError'>\n",
      "running with 11 PCs and the pruned scores option\n",
      "failed PCs 11 pruned scoreseur subset 1\n",
      "<class 'LookupError'>\n",
      "running with 11 PCs and the just subsetet scores\n",
      "failed PCs 11 no filters subseted scoreseur subset 1\n",
      "<class 'LookupError'>\n",
      "running with 12 PCs and the pruned scores option\n",
      "failed PCs 12 pruned scoreseur subset 1\n",
      "<class 'LookupError'>\n",
      "running with 12 PCs and the just subsetet scores\n",
      "failed PCs 12 no filters subseted scoreseur subset 1\n",
      "<class 'LookupError'>\n",
      "running with 13 PCs and the pruned scores option\n",
      "failed PCs 13 pruned scoreseur subset 1\n",
      "<class 'LookupError'>\n",
      "running with 13 PCs and the just subsetet scores\n",
      "failed PCs 13 no filters subseted scoreseur subset 1\n",
      "<class 'LookupError'>\n",
      "running with 14 PCs and the pruned scores option\n",
      "failed PCs 14 pruned scoreseur subset 1\n",
      "<class 'LookupError'>\n",
      "running with 14 PCs and the just subsetet scores\n",
      "failed PCs 14 no filters subseted scoreseur subset 1\n",
      "<class 'LookupError'>\n",
      "running with 15 PCs and the pruned scores option\n",
      "failed PCs 15 pruned scoreseur subset 1\n",
      "<class 'LookupError'>\n",
      "running with 15 PCs and the just subsetet scores\n",
      "failed PCs 15 no filters subseted scoreseur subset 1\n",
      "<class 'LookupError'>\n",
      "running with 16 PCs and the pruned scores option\n",
      "failed PCs 16 pruned scoreseur subset 1\n",
      "<class 'LookupError'>\n",
      "running with 16 PCs and the just subsetet scores\n",
      "failed PCs 16 no filters subseted scoreseur subset 1\n",
      "<class 'LookupError'>\n",
      "running with 17 PCs and the pruned scores option\n",
      "failed PCs 17 pruned scoreseur subset 1\n",
      "<class 'LookupError'>\n",
      "running with 17 PCs and the just subsetet scores\n",
      "failed PCs 17 no filters subseted scoreseur subset 1\n",
      "<class 'LookupError'>\n",
      "running with 18 PCs and the pruned scores option\n",
      "failed PCs 18 pruned scoreseur subset 1\n",
      "<class 'LookupError'>\n",
      "running with 18 PCs and the just subsetet scores\n",
      "failed PCs 18 no filters subseted scoreseur subset 1\n",
      "<class 'LookupError'>\n",
      "running with 19 PCs and the pruned scores option\n",
      "failed PCs 19 pruned scoreseur subset 1\n",
      "<class 'LookupError'>\n",
      "running with 19 PCs and the just subsetet scores\n",
      "failed PCs 19 no filters subseted scoreseur subset 1\n",
      "<class 'LookupError'>\n",
      "running with 20 PCs and the pruned scores option\n",
      "failed PCs 20 pruned scoreseur subset 1\n",
      "<class 'LookupError'>\n",
      "running with 20 PCs and the just subsetet scores\n",
      "failed PCs 20 no filters subseted scoreseur subset 1\n",
      "<class 'LookupError'>\n",
      "running with 0 PCs and the pruned scores option\n"
     ]
    },
    {
     "name": "stderr",
     "output_type": "stream",
     "text": [
      "2023-08-27 21:57:05.734 Hail: INFO: Ordering unsorted dataset with network shuffle\n",
      "2023-08-27 21:57:09.275 Hail: INFO: wrote table with 17394 rows in 489 partitions to /localfs/4609352/tmp_hail/persist_tabled9PGeqUURG\n",
      "    Total size: 520.07 KiB\n",
      "    * Rows: 520.06 KiB\n",
      "    * Globals: 11.00 B\n",
      "    * Smallest partition: 21 rows (672.00 B)\n",
      "    * Largest partition:  61 rows (1.88 KiB)\n",
      "2023-08-27 21:57:11.588 Hail: INFO: wrote table with 17394 rows in 489 partitions to /localfs/4609352/skat_table_0_scores_no_filter_part_2.mt\n",
      "2023-08-27 21:57:12.448 Hail: INFO: Ordering unsorted dataset with network shuffle\n"
     ]
    },
    {
     "data": {
      "text/html": [
       "<table><thead><tr><td style=\"white-space: nowrap; max-width: 500px; overflow: hidden; text-overflow: ellipsis; \" colspan=\"1\"><div style=\"text-align: left;\"></div></td><td style=\"white-space: nowrap; max-width: 500px; overflow: hidden; text-overflow: ellipsis; \" colspan=\"1\"><div style=\"text-align: left;\"></div></td><td style=\"white-space: nowrap; max-width: 500px; overflow: hidden; text-overflow: ellipsis; \" colspan=\"1\"><div style=\"text-align: left;\"></div></td><td style=\"white-space: nowrap; max-width: 500px; overflow: hidden; text-overflow: ellipsis; \" colspan=\"1\"><div style=\"text-align: left;\"></div></td><td style=\"white-space: nowrap; max-width: 500px; overflow: hidden; text-overflow: ellipsis; \" colspan=\"1\"><div style=\"text-align: left;\"></div></td></tr><tr><td style=\"white-space: nowrap; max-width: 500px; overflow: hidden; text-overflow: ellipsis; \" colspan=\"1\"><div style=\"text-align: left;border-bottom: solid 2px #000; padding-bottom: 5px\">id</div></td><td style=\"white-space: nowrap; max-width: 500px; overflow: hidden; text-overflow: ellipsis; \" colspan=\"1\"><div style=\"text-align: left;border-bottom: solid 2px #000; padding-bottom: 5px\">size</div></td><td style=\"white-space: nowrap; max-width: 500px; overflow: hidden; text-overflow: ellipsis; \" colspan=\"1\"><div style=\"text-align: left;border-bottom: solid 2px #000; padding-bottom: 5px\">q_stat</div></td><td style=\"white-space: nowrap; max-width: 500px; overflow: hidden; text-overflow: ellipsis; \" colspan=\"1\"><div style=\"text-align: left;border-bottom: solid 2px #000; padding-bottom: 5px\">p_value</div></td><td style=\"white-space: nowrap; max-width: 500px; overflow: hidden; text-overflow: ellipsis; \" colspan=\"1\"><div style=\"text-align: left;border-bottom: solid 2px #000; padding-bottom: 5px\">fault</div></td></tr><tr><td style=\"white-space: nowrap; max-width: 500px; overflow: hidden; text-overflow: ellipsis; text-align: left;\">str</td><td style=\"white-space: nowrap; max-width: 500px; overflow: hidden; text-overflow: ellipsis; text-align: left;\">int32</td><td style=\"white-space: nowrap; max-width: 500px; overflow: hidden; text-overflow: ellipsis; text-align: left;\">float64</td><td style=\"white-space: nowrap; max-width: 500px; overflow: hidden; text-overflow: ellipsis; text-align: left;\">float64</td><td style=\"white-space: nowrap; max-width: 500px; overflow: hidden; text-overflow: ellipsis; text-align: left;\">int32</td></tr>\n",
       "</thead><tbody><tr><td style=\"white-space: nowrap; max-width: 500px; overflow: hidden; text-overflow: ellipsis; \">&quot;CT45A10&quot;</td><td style=\"white-space: nowrap; max-width: 500px; overflow: hidden; text-overflow: ellipsis; \">1</td><td style=\"white-space: nowrap; max-width: 500px; overflow: hidden; text-overflow: ellipsis; \">2.39e-19</td><td style=\"white-space: nowrap; max-width: 500px; overflow: hidden; text-overflow: ellipsis; \">0.00e+00</td><td style=\"white-space: nowrap; max-width: 500px; overflow: hidden; text-overflow: ellipsis; \">0</td></tr>\n",
       "<tr><td style=\"white-space: nowrap; max-width: 500px; overflow: hidden; text-overflow: ellipsis; \">&quot;DHRSX&quot;</td><td style=\"white-space: nowrap; max-width: 500px; overflow: hidden; text-overflow: ellipsis; \">66</td><td style=\"white-space: nowrap; max-width: 500px; overflow: hidden; text-overflow: ellipsis; \">3.31e+03</td><td style=\"white-space: nowrap; max-width: 500px; overflow: hidden; text-overflow: ellipsis; \">0.00e+00</td><td style=\"white-space: nowrap; max-width: 500px; overflow: hidden; text-overflow: ellipsis; \">0</td></tr>\n",
       "<tr><td style=\"white-space: nowrap; max-width: 500px; overflow: hidden; text-overflow: ellipsis; \">&quot;JADE3&quot;</td><td style=\"white-space: nowrap; max-width: 500px; overflow: hidden; text-overflow: ellipsis; \">1</td><td style=\"white-space: nowrap; max-width: 500px; overflow: hidden; text-overflow: ellipsis; \">2.63e-18</td><td style=\"white-space: nowrap; max-width: 500px; overflow: hidden; text-overflow: ellipsis; \">0.00e+00</td><td style=\"white-space: nowrap; max-width: 500px; overflow: hidden; text-overflow: ellipsis; \">0</td></tr>\n",
       "<tr><td style=\"white-space: nowrap; max-width: 500px; overflow: hidden; text-overflow: ellipsis; \">&quot;SLITRK4&quot;</td><td style=\"white-space: nowrap; max-width: 500px; overflow: hidden; text-overflow: ellipsis; \">1</td><td style=\"white-space: nowrap; max-width: 500px; overflow: hidden; text-overflow: ellipsis; \">1.88e-17</td><td style=\"white-space: nowrap; max-width: 500px; overflow: hidden; text-overflow: ellipsis; \">0.00e+00</td><td style=\"white-space: nowrap; max-width: 500px; overflow: hidden; text-overflow: ellipsis; \">0</td></tr>\n",
       "<tr><td style=\"white-space: nowrap; max-width: 500px; overflow: hidden; text-overflow: ellipsis; \">&quot;TRIM7&quot;</td><td style=\"white-space: nowrap; max-width: 500px; overflow: hidden; text-overflow: ellipsis; \">13</td><td style=\"white-space: nowrap; max-width: 500px; overflow: hidden; text-overflow: ellipsis; \">4.39e+02</td><td style=\"white-space: nowrap; max-width: 500px; overflow: hidden; text-overflow: ellipsis; \">8.89e-08</td><td style=\"white-space: nowrap; max-width: 500px; overflow: hidden; text-overflow: ellipsis; \">0</td></tr>\n",
       "<tr><td style=\"white-space: nowrap; max-width: 500px; overflow: hidden; text-overflow: ellipsis; \">&quot;L3MBTL2&quot;</td><td style=\"white-space: nowrap; max-width: 500px; overflow: hidden; text-overflow: ellipsis; \">11</td><td style=\"white-space: nowrap; max-width: 500px; overflow: hidden; text-overflow: ellipsis; \">2.71e+03</td><td style=\"white-space: nowrap; max-width: 500px; overflow: hidden; text-overflow: ellipsis; \">9.10e-07</td><td style=\"white-space: nowrap; max-width: 500px; overflow: hidden; text-overflow: ellipsis; \">0</td></tr>\n",
       "<tr><td style=\"white-space: nowrap; max-width: 500px; overflow: hidden; text-overflow: ellipsis; \">&quot;P2RY8&quot;</td><td style=\"white-space: nowrap; max-width: 500px; overflow: hidden; text-overflow: ellipsis; \">24</td><td style=\"white-space: nowrap; max-width: 500px; overflow: hidden; text-overflow: ellipsis; \">1.42e+03</td><td style=\"white-space: nowrap; max-width: 500px; overflow: hidden; text-overflow: ellipsis; \">2.47e-06</td><td style=\"white-space: nowrap; max-width: 500px; overflow: hidden; text-overflow: ellipsis; \">0</td></tr>\n",
       "<tr><td style=\"white-space: nowrap; max-width: 500px; overflow: hidden; text-overflow: ellipsis; \">&quot;THY1&quot;</td><td style=\"white-space: nowrap; max-width: 500px; overflow: hidden; text-overflow: ellipsis; \">7</td><td style=\"white-space: nowrap; max-width: 500px; overflow: hidden; text-overflow: ellipsis; \">1.11e+03</td><td style=\"white-space: nowrap; max-width: 500px; overflow: hidden; text-overflow: ellipsis; \">3.18e-06</td><td style=\"white-space: nowrap; max-width: 500px; overflow: hidden; text-overflow: ellipsis; \">0</td></tr>\n",
       "<tr><td style=\"white-space: nowrap; max-width: 500px; overflow: hidden; text-overflow: ellipsis; \">&quot;KANK1&quot;</td><td style=\"white-space: nowrap; max-width: 500px; overflow: hidden; text-overflow: ellipsis; \">114</td><td style=\"white-space: nowrap; max-width: 500px; overflow: hidden; text-overflow: ellipsis; \">3.07e+03</td><td style=\"white-space: nowrap; max-width: 500px; overflow: hidden; text-overflow: ellipsis; \">6.30e-06</td><td style=\"white-space: nowrap; max-width: 500px; overflow: hidden; text-overflow: ellipsis; \">0</td></tr>\n",
       "<tr><td style=\"white-space: nowrap; max-width: 500px; overflow: hidden; text-overflow: ellipsis; \">&quot;ASMTL&quot;</td><td style=\"white-space: nowrap; max-width: 500px; overflow: hidden; text-overflow: ellipsis; \">24</td><td style=\"white-space: nowrap; max-width: 500px; overflow: hidden; text-overflow: ellipsis; \">1.25e+03</td><td style=\"white-space: nowrap; max-width: 500px; overflow: hidden; text-overflow: ellipsis; \">9.97e-06</td><td style=\"white-space: nowrap; max-width: 500px; overflow: hidden; text-overflow: ellipsis; \">0</td></tr>\n",
       "<tr><td style=\"white-space: nowrap; max-width: 500px; overflow: hidden; text-overflow: ellipsis; \">&quot;AWAT1&quot;</td><td style=\"white-space: nowrap; max-width: 500px; overflow: hidden; text-overflow: ellipsis; \">2</td><td style=\"white-space: nowrap; max-width: 500px; overflow: hidden; text-overflow: ellipsis; \">4.66e+02</td><td style=\"white-space: nowrap; max-width: 500px; overflow: hidden; text-overflow: ellipsis; \">1.86e-05</td><td style=\"white-space: nowrap; max-width: 500px; overflow: hidden; text-overflow: ellipsis; \">0</td></tr>\n",
       "<tr><td style=\"white-space: nowrap; max-width: 500px; overflow: hidden; text-overflow: ellipsis; \">&quot;EP300&quot;</td><td style=\"white-space: nowrap; max-width: 500px; overflow: hidden; text-overflow: ellipsis; \">13</td><td style=\"white-space: nowrap; max-width: 500px; overflow: hidden; text-overflow: ellipsis; \">1.06e+03</td><td style=\"white-space: nowrap; max-width: 500px; overflow: hidden; text-overflow: ellipsis; \">1.97e-05</td><td style=\"white-space: nowrap; max-width: 500px; overflow: hidden; text-overflow: ellipsis; \">0</td></tr>\n",
       "<tr><td style=\"white-space: nowrap; max-width: 500px; overflow: hidden; text-overflow: ellipsis; \">&quot;QRICH2&quot;</td><td style=\"white-space: nowrap; max-width: 500px; overflow: hidden; text-overflow: ellipsis; \">17</td><td style=\"white-space: nowrap; max-width: 500px; overflow: hidden; text-overflow: ellipsis; \">6.52e+02</td><td style=\"white-space: nowrap; max-width: 500px; overflow: hidden; text-overflow: ellipsis; \">3.39e-05</td><td style=\"white-space: nowrap; max-width: 500px; overflow: hidden; text-overflow: ellipsis; \">0</td></tr>\n",
       "<tr><td style=\"white-space: nowrap; max-width: 500px; overflow: hidden; text-overflow: ellipsis; \">&quot;CRLF2&quot;</td><td style=\"white-space: nowrap; max-width: 500px; overflow: hidden; text-overflow: ellipsis; \">15</td><td style=\"white-space: nowrap; max-width: 500px; overflow: hidden; text-overflow: ellipsis; \">6.32e+02</td><td style=\"white-space: nowrap; max-width: 500px; overflow: hidden; text-overflow: ellipsis; \">3.55e-05</td><td style=\"white-space: nowrap; max-width: 500px; overflow: hidden; text-overflow: ellipsis; \">0</td></tr>\n",
       "<tr><td style=\"white-space: nowrap; max-width: 500px; overflow: hidden; text-overflow: ellipsis; \">&quot;UBALD2&quot;</td><td style=\"white-space: nowrap; max-width: 500px; overflow: hidden; text-overflow: ellipsis; \">12</td><td style=\"white-space: nowrap; max-width: 500px; overflow: hidden; text-overflow: ellipsis; \">6.38e+02</td><td style=\"white-space: nowrap; max-width: 500px; overflow: hidden; text-overflow: ellipsis; \">3.74e-05</td><td style=\"white-space: nowrap; max-width: 500px; overflow: hidden; text-overflow: ellipsis; \">0</td></tr>\n",
       "<tr><td style=\"white-space: nowrap; max-width: 500px; overflow: hidden; text-overflow: ellipsis; \">&quot;PPP2R3B&quot;</td><td style=\"white-space: nowrap; max-width: 500px; overflow: hidden; text-overflow: ellipsis; \">3</td><td style=\"white-space: nowrap; max-width: 500px; overflow: hidden; text-overflow: ellipsis; \">9.93e+01</td><td style=\"white-space: nowrap; max-width: 500px; overflow: hidden; text-overflow: ellipsis; \">3.82e-05</td><td style=\"white-space: nowrap; max-width: 500px; overflow: hidden; text-overflow: ellipsis; \">0</td></tr>\n",
       "<tr><td style=\"white-space: nowrap; max-width: 500px; overflow: hidden; text-overflow: ellipsis; \">&quot;IL3RA&quot;</td><td style=\"white-space: nowrap; max-width: 500px; overflow: hidden; text-overflow: ellipsis; \">10</td><td style=\"white-space: nowrap; max-width: 500px; overflow: hidden; text-overflow: ellipsis; \">3.68e+02</td><td style=\"white-space: nowrap; max-width: 500px; overflow: hidden; text-overflow: ellipsis; \">4.71e-05</td><td style=\"white-space: nowrap; max-width: 500px; overflow: hidden; text-overflow: ellipsis; \">0</td></tr>\n",
       "<tr><td style=\"white-space: nowrap; max-width: 500px; overflow: hidden; text-overflow: ellipsis; \">&quot;ALDH3B1&quot;</td><td style=\"white-space: nowrap; max-width: 500px; overflow: hidden; text-overflow: ellipsis; \">11</td><td style=\"white-space: nowrap; max-width: 500px; overflow: hidden; text-overflow: ellipsis; \">3.37e+02</td><td style=\"white-space: nowrap; max-width: 500px; overflow: hidden; text-overflow: ellipsis; \">6.48e-05</td><td style=\"white-space: nowrap; max-width: 500px; overflow: hidden; text-overflow: ellipsis; \">0</td></tr>\n",
       "<tr><td style=\"white-space: nowrap; max-width: 500px; overflow: hidden; text-overflow: ellipsis; \">&quot;NEK10&quot;</td><td style=\"white-space: nowrap; max-width: 500px; overflow: hidden; text-overflow: ellipsis; \">58</td><td style=\"white-space: nowrap; max-width: 500px; overflow: hidden; text-overflow: ellipsis; \">4.00e+03</td><td style=\"white-space: nowrap; max-width: 500px; overflow: hidden; text-overflow: ellipsis; \">8.49e-05</td><td style=\"white-space: nowrap; max-width: 500px; overflow: hidden; text-overflow: ellipsis; \">0</td></tr>\n",
       "<tr><td style=\"white-space: nowrap; max-width: 500px; overflow: hidden; text-overflow: ellipsis; \">&quot;UNC93B1&quot;</td><td style=\"white-space: nowrap; max-width: 500px; overflow: hidden; text-overflow: ellipsis; \">9</td><td style=\"white-space: nowrap; max-width: 500px; overflow: hidden; text-overflow: ellipsis; \">3.20e+02</td><td style=\"white-space: nowrap; max-width: 500px; overflow: hidden; text-overflow: ellipsis; \">8.59e-05</td><td style=\"white-space: nowrap; max-width: 500px; overflow: hidden; text-overflow: ellipsis; \">0</td></tr>\n",
       "</tbody></table><p style=\"background: #fdd; padding: 0.4em;\">showing top 20 rows</p>\n"
      ],
      "text/plain": [
       "+-----------+-------+----------+----------+-------+\n",
       "| id        |  size |   q_stat |  p_value | fault |\n",
       "+-----------+-------+----------+----------+-------+\n",
       "| str       | int32 |  float64 |  float64 | int32 |\n",
       "+-----------+-------+----------+----------+-------+\n",
       "| \"CT45A10\" |     1 | 2.39e-19 | 0.00e+00 |     0 |\n",
       "| \"DHRSX\"   |    66 | 3.31e+03 | 0.00e+00 |     0 |\n",
       "| \"JADE3\"   |     1 | 2.63e-18 | 0.00e+00 |     0 |\n",
       "| \"SLITRK4\" |     1 | 1.88e-17 | 0.00e+00 |     0 |\n",
       "| \"TRIM7\"   |    13 | 4.39e+02 | 8.89e-08 |     0 |\n",
       "| \"L3MBTL2\" |    11 | 2.71e+03 | 9.10e-07 |     0 |\n",
       "| \"P2RY8\"   |    24 | 1.42e+03 | 2.47e-06 |     0 |\n",
       "| \"THY1\"    |     7 | 1.11e+03 | 3.18e-06 |     0 |\n",
       "| \"KANK1\"   |   114 | 3.07e+03 | 6.30e-06 |     0 |\n",
       "| \"ASMTL\"   |    24 | 1.25e+03 | 9.97e-06 |     0 |\n",
       "| \"AWAT1\"   |     2 | 4.66e+02 | 1.86e-05 |     0 |\n",
       "| \"EP300\"   |    13 | 1.06e+03 | 1.97e-05 |     0 |\n",
       "| \"QRICH2\"  |    17 | 6.52e+02 | 3.39e-05 |     0 |\n",
       "| \"CRLF2\"   |    15 | 6.32e+02 | 3.55e-05 |     0 |\n",
       "| \"UBALD2\"  |    12 | 6.38e+02 | 3.74e-05 |     0 |\n",
       "| \"PPP2R3B\" |     3 | 9.93e+01 | 3.82e-05 |     0 |\n",
       "| \"IL3RA\"   |    10 | 3.68e+02 | 4.71e-05 |     0 |\n",
       "| \"ALDH3B1\" |    11 | 3.37e+02 | 6.48e-05 |     0 |\n",
       "| \"NEK10\"   |    58 | 4.00e+03 | 8.49e-05 |     0 |\n",
       "| \"UNC93B1\" |     9 | 3.20e+02 | 8.59e-05 |     0 |\n",
       "+-----------+-------+----------+----------+-------+\n",
       "showing top 20 rows"
      ]
     },
     "metadata": {},
     "output_type": "display_data"
    },
    {
     "name": "stderr",
     "output_type": "stream",
     "text": [
      "2023-08-27 21:57:14.416 Hail: INFO: Ordering unsorted dataset with network shuffle\n",
      "/net/pr2/projects/plgrid/plggneuromol/imdik-zekanowski-gts/venv-hail-0.2.113/lib/python3.10/site-packages/bokeh/models/sources.py:235: FutureWarning: iteritems is deprecated and will be removed in a future version. Use .items instead.\n",
      "  tmp_data = {c: v.values for c, v in _df.iteritems()}\n",
      "2023-08-27 21:57:17.857 Hail: INFO: Ordering unsorted dataset with network shuffle\n"
     ]
    },
    {
     "data": {
      "text/html": [
       "\n",
       "\n",
       "\n",
       "\n",
       "\n",
       "\n",
       "  <div class=\"bk-root\" id=\"09185d34-1d7a-40c5-adbd-030b5756fc1a\" data-root-id=\"1459\"></div>\n"
      ]
     },
     "metadata": {},
     "output_type": "display_data"
    },
    {
     "data": {
      "application/javascript": [
       "(function(root) {\n",
       "  function embed_document(root) {\n",
       "    \n",
       "  var docs_json = {\"ded2b8a2-a22d-4adb-b9b2-13f46002fa2f\":{\"roots\":{\"references\":[{\"attributes\":{\"below\":[{\"id\":\"1470\",\"type\":\"LinearAxis\"}],\"center\":[{\"id\":\"1474\",\"type\":\"Grid\"},{\"id\":\"1479\",\"type\":\"Grid\"},{\"id\":\"1503\",\"type\":\"Slope\"},{\"id\":\"1504\",\"type\":\"Label\"}],\"left\":[{\"id\":\"1475\",\"type\":\"LinearAxis\"}],\"plot_height\":800,\"plot_width\":800,\"renderers\":[{\"id\":\"1499\",\"type\":\"GlyphRenderer\"}],\"title\":{\"id\":\"1460\",\"type\":\"Title\"},\"toolbar\":{\"id\":\"1486\",\"type\":\"Toolbar\"},\"x_range\":{\"id\":\"1501\",\"type\":\"DataRange1d\"},\"x_scale\":{\"id\":\"1466\",\"type\":\"LinearScale\"},\"y_range\":{\"id\":\"1502\",\"type\":\"DataRange1d\"},\"y_scale\":{\"id\":\"1468\",\"type\":\"LinearScale\"}},\"id\":\"1459\",\"subtype\":\"Figure\",\"type\":\"Plot\"},{\"attributes\":{\"overlay\":{\"id\":\"1542\",\"type\":\"BoxAnnotation\"}},\"id\":\"1482\",\"type\":\"BoxZoomTool\"},{\"attributes\":{},\"id\":\"1538\",\"type\":\"BasicTickFormatter\"},{\"attributes\":{},\"id\":\"1468\",\"type\":\"LinearScale\"},{\"attributes\":{\"fill_color\":{\"value\":\"#1f77b4\"},\"line_color\":{\"value\":\"#1f77b4\"},\"size\":{\"units\":\"screen\",\"value\":6},\"x\":{\"field\":\"x\"},\"y\":{\"field\":\"y\"}},\"id\":\"1497\",\"type\":\"Circle\"},{\"attributes\":{},\"id\":\"1481\",\"type\":\"WheelZoomTool\"},{\"attributes\":{\"callback\":null,\"tooltips\":[[\"x\",\"@x\"],[\"y\",\"@y\"],[\"p_value\",\"@p_value\"]]},\"id\":\"1494\",\"type\":\"HoverTool\"},{\"attributes\":{},\"id\":\"1476\",\"type\":\"BasicTicker\"},{\"attributes\":{\"callback\":null,\"end\":null,\"start\":0},\"id\":\"1502\",\"type\":\"DataRange1d\"},{\"attributes\":{},\"id\":\"1484\",\"type\":\"ResetTool\"},{\"attributes\":{\"ticker\":{\"id\":\"1471\",\"type\":\"BasicTicker\"}},\"id\":\"1474\",\"type\":\"Grid\"},{\"attributes\":{\"fill_alpha\":{\"value\":0.1},\"fill_color\":{\"value\":\"#1f77b4\"},\"line_alpha\":{\"value\":0.1},\"line_color\":{\"value\":\"#1f77b4\"},\"size\":{\"units\":\"screen\",\"value\":6},\"x\":{\"field\":\"x\"},\"y\":{\"field\":\"y\"}},\"id\":\"1498\",\"type\":\"Circle\"},{\"attributes\":{},\"id\":\"1471\",\"type\":\"BasicTicker\"},{\"attributes\":{\"dimension\":1,\"ticker\":{\"id\":\"1476\",\"type\":\"BasicTicker\"}},\"id\":\"1479\",\"type\":\"Grid\"},{\"attributes\":{},\"id\":\"1483\",\"type\":\"SaveTool\"},{\"attributes\":{\"data_source\":{\"id\":\"1495\",\"type\":\"ColumnDataSource\"},\"glyph\":{\"id\":\"1497\",\"type\":\"Circle\"},\"hover_glyph\":null,\"muted_glyph\":null,\"nonselection_glyph\":{\"id\":\"1498\",\"type\":\"Circle\"},\"selection_glyph\":null,\"view\":{\"id\":\"1500\",\"type\":\"CDSView\"}},\"id\":\"1499\",\"type\":\"GlyphRenderer\"},{\"attributes\":{},\"id\":\"1485\",\"type\":\"HelpTool\"},{\"attributes\":{\"axis_label\":\"Expected -log10(p)\",\"formatter\":{\"id\":\"1540\",\"type\":\"BasicTickFormatter\"},\"ticker\":{\"id\":\"1471\",\"type\":\"BasicTicker\"}},\"id\":\"1470\",\"type\":\"LinearAxis\"},{\"attributes\":{},\"id\":\"1543\",\"type\":\"Selection\"},{\"attributes\":{},\"id\":\"1466\",\"type\":\"LinearScale\"},{\"attributes\":{\"source\":{\"id\":\"1495\",\"type\":\"ColumnDataSource\"}},\"id\":\"1500\",\"type\":\"CDSView\"},{\"attributes\":{\"active_drag\":\"auto\",\"active_inspect\":\"auto\",\"active_multi\":null,\"active_scroll\":\"auto\",\"active_tap\":\"auto\",\"tools\":[{\"id\":\"1480\",\"type\":\"PanTool\"},{\"id\":\"1481\",\"type\":\"WheelZoomTool\"},{\"id\":\"1482\",\"type\":\"BoxZoomTool\"},{\"id\":\"1483\",\"type\":\"SaveTool\"},{\"id\":\"1484\",\"type\":\"ResetTool\"},{\"id\":\"1485\",\"type\":\"HelpTool\"},{\"id\":\"1494\",\"type\":\"HoverTool\"}]},\"id\":\"1486\",\"type\":\"Toolbar\"},{\"attributes\":{\"axis_label\":\"Observed -log10(p)\",\"formatter\":{\"id\":\"1538\",\"type\":\"BasicTickFormatter\"},\"ticker\":{\"id\":\"1476\",\"type\":\"BasicTicker\"}},\"id\":\"1475\",\"type\":\"LinearAxis\"},{\"attributes\":{\"callback\":null,\"data\":{\"index\":[0,1,2,3,4,5,6,7,8,9,10,11,12,13,14,15,16,17,18,19,20,21,22,23,24,25,26,27,28,29,30,31,32,33,34,35,36,37,38,39,40,41,42,43,44,45,46,47,48,49,50,51,52,53,54,55,56,57,58,59,60,61,62,63,64,65,66,67,68,69,70,71,72,73,74,75,76,77,78,79,80,81,82,83,84,85,86,87,88,89,90,91,92,93,94,95,96,97,98,99,100,101,102,103,104,105,106,107,108,109,110,111,112,113,114,115,116,117,118,119,120,121,122,123,124,125,126,127,128,129,130,131,132,133,134,135,136,137,138,139,140,141,142,143,144,145,146,147,148,149,150,151,152,153,154,155,156,157,158,159,160,161,162,163,164,165,166,167,168,169,170,171,172,173,174,175,176,177,178,179,180,181,182,183,184,185,186,187,188,189,190,191,192,193,194,195,196,197,198,199,200,201,202,203,204,205,206,207,208,209,210,211,212,213,214,215,216,217,218,219,220,221,222,223,224,225,226,227,228,229,230,231,232,233,234,235,236,237,238,239,240,241,242,243,244,245,246,247,248,249,250,251,252,253,254,255,256,257,258,259,260,261,262,263,264,265,266,267,268,269,270,271,272,273,274,275,276,277,278,279,280,281,282,283,284,285,286,287,288,289,290,291,292,293,294,295,296,297,298,299,300,301,302,303,304,305,306,307,308,309,310,311,312,313,314,315,316,317,318,319,320,321,322,323,324,325,326,327,328,329,330,331,332,333,334,335,336,337,338,339,340,341,342,343,344,345,346,347,348,349,350,351,352,353,354,355,356,357,358,359,360,361,362,363,364,365,366,367,368,369,370,371,372,373,374,375,376,377,378,379,380,381,382,383,384,385,386,387,388,389,390,391,392,393,394,395,396,397,398,399,400,401,402,403,404,405,406,407,408,409,410,411,412,413,414,415,416,417,418,419,420,421,422,423,424,425,426,427,428,429,430,431,432,433,434,435,436,437,438,439,440,441,442,443,444,445,446,447,448,449,450,451,452,453,454,455,456,457,458,459,460,461,462,463,464,465,466,467,468,469,470,471,472,473,474,475,476,477,478,479,480,481,482,483,484,485,486,487,488,489,490,491,492,493,494,495,496,497],\"p_value\":{\"__ndarray__\":\"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\",\"dtype\":\"float64\",\"shape\":[498]},\"x\":{\"__ndarray__\":\"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\",\"dtype\":\"float64\",\"shape\":[498]},\"y\":{\"__ndarray__\":\"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\",\"dtype\":\"float64\",\"shape\":[498]}},\"selected\":{\"id\":\"1543\",\"type\":\"Selection\"},\"selection_policy\":{\"id\":\"1544\",\"type\":\"UnionRenderers\"}},\"id\":\"1495\",\"type\":\"ColumnDataSource\"},{\"attributes\":{\"gradient\":1,\"line_color\":{\"value\":\"red\"},\"y_intercept\":0},\"id\":\"1503\",\"type\":\"Slope\"},{\"attributes\":{},\"id\":\"1544\",\"type\":\"UnionRenderers\"},{\"attributes\":{},\"id\":\"1540\",\"type\":\"BasicTickFormatter\"},{\"attributes\":{\"text\":\"Q-Q plot\"},\"id\":\"1460\",\"type\":\"Title\"},{\"attributes\":{\"bottom_units\":\"screen\",\"fill_alpha\":{\"value\":0.5},\"fill_color\":{\"value\":\"lightgrey\"},\"left_units\":\"screen\",\"level\":\"overlay\",\"line_alpha\":{\"value\":1.0},\"line_color\":{\"value\":\"black\"},\"line_dash\":[4,4],\"line_width\":{\"value\":2},\"render_mode\":\"css\",\"right_units\":\"screen\",\"top_units\":\"screen\"},\"id\":\"1542\",\"type\":\"BoxAnnotation\"},{\"attributes\":{\"text\":\"\\u03bb GC: 1.38\",\"text_color\":{\"value\":\"red\"},\"text_font_size\":{\"value\":\"14pt\"},\"text_font_style\":\"bold\",\"x\":null,\"y\":1},\"id\":\"1504\",\"type\":\"Label\"},{\"attributes\":{},\"id\":\"1480\",\"type\":\"PanTool\"},{\"attributes\":{\"callback\":null,\"end\":null,\"start\":0},\"id\":\"1501\",\"type\":\"DataRange1d\"}],\"root_ids\":[\"1459\"]},\"title\":\"Bokeh Application\",\"version\":\"1.4.0\"}};\n",
       "  var render_items = [{\"docid\":\"ded2b8a2-a22d-4adb-b9b2-13f46002fa2f\",\"roots\":{\"1459\":\"09185d34-1d7a-40c5-adbd-030b5756fc1a\"}}];\n",
       "  root.Bokeh.embed.embed_items_notebook(docs_json, render_items);\n",
       "\n",
       "  }\n",
       "  if (root.Bokeh !== undefined) {\n",
       "    embed_document(root);\n",
       "  } else {\n",
       "    var attempts = 0;\n",
       "    var timer = setInterval(function(root) {\n",
       "      if (root.Bokeh !== undefined) {\n",
       "        clearInterval(timer);\n",
       "        embed_document(root);\n",
       "      } else {\n",
       "        attempts++;\n",
       "        if (attempts > 100) {\n",
       "          clearInterval(timer);\n",
       "          console.log(\"Bokeh: ERROR: Unable to run BokehJS code because BokehJS library is missing\");\n",
       "        }\n",
       "      }\n",
       "    }, 10, root)\n",
       "  }\n",
       "})(window);"
      ],
      "application/vnd.bokehjs_exec.v0+json": ""
     },
     "metadata": {
      "application/vnd.bokehjs_exec.v0+json": {
       "id": "1459"
      }
     },
     "output_type": "display_data"
    },
    {
     "name": "stdout",
     "output_type": "stream",
     "text": [
      "running with 0 PCs and the just subsetet scores\n"
     ]
    },
    {
     "name": "stderr",
     "output_type": "stream",
     "text": [
      "2023-08-27 21:57:27.907 Hail: INFO: Ordering unsorted dataset with network shuffle\n",
      "2023-08-27 21:57:31.457 Hail: INFO: wrote table with 17394 rows in 489 partitions to /localfs/4609352/tmp_hail/persist_tableXJdJ23gYom\n",
      "    Total size: 520.07 KiB\n",
      "    * Rows: 520.06 KiB\n",
      "    * Globals: 11.00 B\n",
      "    * Smallest partition: 21 rows (672.00 B)\n",
      "    * Largest partition:  61 rows (1.88 KiB)\n",
      "2023-08-27 21:57:33.724 Hail: INFO: wrote table with 17394 rows in 489 partitions to /localfs/4609352/skat_table_0_scores_no_filter_parts_2.mt\n",
      "2023-08-27 21:57:34.584 Hail: INFO: Ordering unsorted dataset with network shuffle\n"
     ]
    },
    {
     "data": {
      "text/html": [
       "<table><thead><tr><td style=\"white-space: nowrap; max-width: 500px; overflow: hidden; text-overflow: ellipsis; \" colspan=\"1\"><div style=\"text-align: left;\"></div></td><td style=\"white-space: nowrap; max-width: 500px; overflow: hidden; text-overflow: ellipsis; \" colspan=\"1\"><div style=\"text-align: left;\"></div></td><td style=\"white-space: nowrap; max-width: 500px; overflow: hidden; text-overflow: ellipsis; \" colspan=\"1\"><div style=\"text-align: left;\"></div></td><td style=\"white-space: nowrap; max-width: 500px; overflow: hidden; text-overflow: ellipsis; \" colspan=\"1\"><div style=\"text-align: left;\"></div></td><td style=\"white-space: nowrap; max-width: 500px; overflow: hidden; text-overflow: ellipsis; \" colspan=\"1\"><div style=\"text-align: left;\"></div></td></tr><tr><td style=\"white-space: nowrap; max-width: 500px; overflow: hidden; text-overflow: ellipsis; \" colspan=\"1\"><div style=\"text-align: left;border-bottom: solid 2px #000; padding-bottom: 5px\">id</div></td><td style=\"white-space: nowrap; max-width: 500px; overflow: hidden; text-overflow: ellipsis; \" colspan=\"1\"><div style=\"text-align: left;border-bottom: solid 2px #000; padding-bottom: 5px\">size</div></td><td style=\"white-space: nowrap; max-width: 500px; overflow: hidden; text-overflow: ellipsis; \" colspan=\"1\"><div style=\"text-align: left;border-bottom: solid 2px #000; padding-bottom: 5px\">q_stat</div></td><td style=\"white-space: nowrap; max-width: 500px; overflow: hidden; text-overflow: ellipsis; \" colspan=\"1\"><div style=\"text-align: left;border-bottom: solid 2px #000; padding-bottom: 5px\">p_value</div></td><td style=\"white-space: nowrap; max-width: 500px; overflow: hidden; text-overflow: ellipsis; \" colspan=\"1\"><div style=\"text-align: left;border-bottom: solid 2px #000; padding-bottom: 5px\">fault</div></td></tr><tr><td style=\"white-space: nowrap; max-width: 500px; overflow: hidden; text-overflow: ellipsis; text-align: left;\">str</td><td style=\"white-space: nowrap; max-width: 500px; overflow: hidden; text-overflow: ellipsis; text-align: left;\">int32</td><td style=\"white-space: nowrap; max-width: 500px; overflow: hidden; text-overflow: ellipsis; text-align: left;\">float64</td><td style=\"white-space: nowrap; max-width: 500px; overflow: hidden; text-overflow: ellipsis; text-align: left;\">float64</td><td style=\"white-space: nowrap; max-width: 500px; overflow: hidden; text-overflow: ellipsis; text-align: left;\">int32</td></tr>\n",
       "</thead><tbody><tr><td style=\"white-space: nowrap; max-width: 500px; overflow: hidden; text-overflow: ellipsis; \">&quot;CT45A10&quot;</td><td style=\"white-space: nowrap; max-width: 500px; overflow: hidden; text-overflow: ellipsis; \">1</td><td style=\"white-space: nowrap; max-width: 500px; overflow: hidden; text-overflow: ellipsis; \">2.39e-19</td><td style=\"white-space: nowrap; max-width: 500px; overflow: hidden; text-overflow: ellipsis; \">0.00e+00</td><td style=\"white-space: nowrap; max-width: 500px; overflow: hidden; text-overflow: ellipsis; \">0</td></tr>\n",
       "<tr><td style=\"white-space: nowrap; max-width: 500px; overflow: hidden; text-overflow: ellipsis; \">&quot;DHRSX&quot;</td><td style=\"white-space: nowrap; max-width: 500px; overflow: hidden; text-overflow: ellipsis; \">66</td><td style=\"white-space: nowrap; max-width: 500px; overflow: hidden; text-overflow: ellipsis; \">3.31e+03</td><td style=\"white-space: nowrap; max-width: 500px; overflow: hidden; text-overflow: ellipsis; \">0.00e+00</td><td style=\"white-space: nowrap; max-width: 500px; overflow: hidden; text-overflow: ellipsis; \">0</td></tr>\n",
       "<tr><td style=\"white-space: nowrap; max-width: 500px; overflow: hidden; text-overflow: ellipsis; \">&quot;JADE3&quot;</td><td style=\"white-space: nowrap; max-width: 500px; overflow: hidden; text-overflow: ellipsis; \">1</td><td style=\"white-space: nowrap; max-width: 500px; overflow: hidden; text-overflow: ellipsis; \">2.63e-18</td><td style=\"white-space: nowrap; max-width: 500px; overflow: hidden; text-overflow: ellipsis; \">0.00e+00</td><td style=\"white-space: nowrap; max-width: 500px; overflow: hidden; text-overflow: ellipsis; \">0</td></tr>\n",
       "<tr><td style=\"white-space: nowrap; max-width: 500px; overflow: hidden; text-overflow: ellipsis; \">&quot;SLITRK4&quot;</td><td style=\"white-space: nowrap; max-width: 500px; overflow: hidden; text-overflow: ellipsis; \">1</td><td style=\"white-space: nowrap; max-width: 500px; overflow: hidden; text-overflow: ellipsis; \">1.88e-17</td><td style=\"white-space: nowrap; max-width: 500px; overflow: hidden; text-overflow: ellipsis; \">0.00e+00</td><td style=\"white-space: nowrap; max-width: 500px; overflow: hidden; text-overflow: ellipsis; \">0</td></tr>\n",
       "<tr><td style=\"white-space: nowrap; max-width: 500px; overflow: hidden; text-overflow: ellipsis; \">&quot;TRIM7&quot;</td><td style=\"white-space: nowrap; max-width: 500px; overflow: hidden; text-overflow: ellipsis; \">13</td><td style=\"white-space: nowrap; max-width: 500px; overflow: hidden; text-overflow: ellipsis; \">4.39e+02</td><td style=\"white-space: nowrap; max-width: 500px; overflow: hidden; text-overflow: ellipsis; \">8.89e-08</td><td style=\"white-space: nowrap; max-width: 500px; overflow: hidden; text-overflow: ellipsis; \">0</td></tr>\n",
       "<tr><td style=\"white-space: nowrap; max-width: 500px; overflow: hidden; text-overflow: ellipsis; \">&quot;L3MBTL2&quot;</td><td style=\"white-space: nowrap; max-width: 500px; overflow: hidden; text-overflow: ellipsis; \">11</td><td style=\"white-space: nowrap; max-width: 500px; overflow: hidden; text-overflow: ellipsis; \">2.71e+03</td><td style=\"white-space: nowrap; max-width: 500px; overflow: hidden; text-overflow: ellipsis; \">9.10e-07</td><td style=\"white-space: nowrap; max-width: 500px; overflow: hidden; text-overflow: ellipsis; \">0</td></tr>\n",
       "<tr><td style=\"white-space: nowrap; max-width: 500px; overflow: hidden; text-overflow: ellipsis; \">&quot;P2RY8&quot;</td><td style=\"white-space: nowrap; max-width: 500px; overflow: hidden; text-overflow: ellipsis; \">24</td><td style=\"white-space: nowrap; max-width: 500px; overflow: hidden; text-overflow: ellipsis; \">1.42e+03</td><td style=\"white-space: nowrap; max-width: 500px; overflow: hidden; text-overflow: ellipsis; \">2.47e-06</td><td style=\"white-space: nowrap; max-width: 500px; overflow: hidden; text-overflow: ellipsis; \">0</td></tr>\n",
       "<tr><td style=\"white-space: nowrap; max-width: 500px; overflow: hidden; text-overflow: ellipsis; \">&quot;THY1&quot;</td><td style=\"white-space: nowrap; max-width: 500px; overflow: hidden; text-overflow: ellipsis; \">7</td><td style=\"white-space: nowrap; max-width: 500px; overflow: hidden; text-overflow: ellipsis; \">1.11e+03</td><td style=\"white-space: nowrap; max-width: 500px; overflow: hidden; text-overflow: ellipsis; \">3.18e-06</td><td style=\"white-space: nowrap; max-width: 500px; overflow: hidden; text-overflow: ellipsis; \">0</td></tr>\n",
       "<tr><td style=\"white-space: nowrap; max-width: 500px; overflow: hidden; text-overflow: ellipsis; \">&quot;KANK1&quot;</td><td style=\"white-space: nowrap; max-width: 500px; overflow: hidden; text-overflow: ellipsis; \">114</td><td style=\"white-space: nowrap; max-width: 500px; overflow: hidden; text-overflow: ellipsis; \">3.07e+03</td><td style=\"white-space: nowrap; max-width: 500px; overflow: hidden; text-overflow: ellipsis; \">6.30e-06</td><td style=\"white-space: nowrap; max-width: 500px; overflow: hidden; text-overflow: ellipsis; \">0</td></tr>\n",
       "<tr><td style=\"white-space: nowrap; max-width: 500px; overflow: hidden; text-overflow: ellipsis; \">&quot;ASMTL&quot;</td><td style=\"white-space: nowrap; max-width: 500px; overflow: hidden; text-overflow: ellipsis; \">24</td><td style=\"white-space: nowrap; max-width: 500px; overflow: hidden; text-overflow: ellipsis; \">1.25e+03</td><td style=\"white-space: nowrap; max-width: 500px; overflow: hidden; text-overflow: ellipsis; \">9.97e-06</td><td style=\"white-space: nowrap; max-width: 500px; overflow: hidden; text-overflow: ellipsis; \">0</td></tr>\n",
       "<tr><td style=\"white-space: nowrap; max-width: 500px; overflow: hidden; text-overflow: ellipsis; \">&quot;AWAT1&quot;</td><td style=\"white-space: nowrap; max-width: 500px; overflow: hidden; text-overflow: ellipsis; \">2</td><td style=\"white-space: nowrap; max-width: 500px; overflow: hidden; text-overflow: ellipsis; \">4.66e+02</td><td style=\"white-space: nowrap; max-width: 500px; overflow: hidden; text-overflow: ellipsis; \">1.86e-05</td><td style=\"white-space: nowrap; max-width: 500px; overflow: hidden; text-overflow: ellipsis; \">0</td></tr>\n",
       "<tr><td style=\"white-space: nowrap; max-width: 500px; overflow: hidden; text-overflow: ellipsis; \">&quot;EP300&quot;</td><td style=\"white-space: nowrap; max-width: 500px; overflow: hidden; text-overflow: ellipsis; \">13</td><td style=\"white-space: nowrap; max-width: 500px; overflow: hidden; text-overflow: ellipsis; \">1.06e+03</td><td style=\"white-space: nowrap; max-width: 500px; overflow: hidden; text-overflow: ellipsis; \">1.97e-05</td><td style=\"white-space: nowrap; max-width: 500px; overflow: hidden; text-overflow: ellipsis; \">0</td></tr>\n",
       "<tr><td style=\"white-space: nowrap; max-width: 500px; overflow: hidden; text-overflow: ellipsis; \">&quot;QRICH2&quot;</td><td style=\"white-space: nowrap; max-width: 500px; overflow: hidden; text-overflow: ellipsis; \">17</td><td style=\"white-space: nowrap; max-width: 500px; overflow: hidden; text-overflow: ellipsis; \">6.52e+02</td><td style=\"white-space: nowrap; max-width: 500px; overflow: hidden; text-overflow: ellipsis; \">3.39e-05</td><td style=\"white-space: nowrap; max-width: 500px; overflow: hidden; text-overflow: ellipsis; \">0</td></tr>\n",
       "<tr><td style=\"white-space: nowrap; max-width: 500px; overflow: hidden; text-overflow: ellipsis; \">&quot;CRLF2&quot;</td><td style=\"white-space: nowrap; max-width: 500px; overflow: hidden; text-overflow: ellipsis; \">15</td><td style=\"white-space: nowrap; max-width: 500px; overflow: hidden; text-overflow: ellipsis; \">6.32e+02</td><td style=\"white-space: nowrap; max-width: 500px; overflow: hidden; text-overflow: ellipsis; \">3.55e-05</td><td style=\"white-space: nowrap; max-width: 500px; overflow: hidden; text-overflow: ellipsis; \">0</td></tr>\n",
       "<tr><td style=\"white-space: nowrap; max-width: 500px; overflow: hidden; text-overflow: ellipsis; \">&quot;UBALD2&quot;</td><td style=\"white-space: nowrap; max-width: 500px; overflow: hidden; text-overflow: ellipsis; \">12</td><td style=\"white-space: nowrap; max-width: 500px; overflow: hidden; text-overflow: ellipsis; \">6.38e+02</td><td style=\"white-space: nowrap; max-width: 500px; overflow: hidden; text-overflow: ellipsis; \">3.74e-05</td><td style=\"white-space: nowrap; max-width: 500px; overflow: hidden; text-overflow: ellipsis; \">0</td></tr>\n",
       "<tr><td style=\"white-space: nowrap; max-width: 500px; overflow: hidden; text-overflow: ellipsis; \">&quot;PPP2R3B&quot;</td><td style=\"white-space: nowrap; max-width: 500px; overflow: hidden; text-overflow: ellipsis; \">3</td><td style=\"white-space: nowrap; max-width: 500px; overflow: hidden; text-overflow: ellipsis; \">9.93e+01</td><td style=\"white-space: nowrap; max-width: 500px; overflow: hidden; text-overflow: ellipsis; \">3.82e-05</td><td style=\"white-space: nowrap; max-width: 500px; overflow: hidden; text-overflow: ellipsis; \">0</td></tr>\n",
       "<tr><td style=\"white-space: nowrap; max-width: 500px; overflow: hidden; text-overflow: ellipsis; \">&quot;IL3RA&quot;</td><td style=\"white-space: nowrap; max-width: 500px; overflow: hidden; text-overflow: ellipsis; \">10</td><td style=\"white-space: nowrap; max-width: 500px; overflow: hidden; text-overflow: ellipsis; \">3.68e+02</td><td style=\"white-space: nowrap; max-width: 500px; overflow: hidden; text-overflow: ellipsis; \">4.71e-05</td><td style=\"white-space: nowrap; max-width: 500px; overflow: hidden; text-overflow: ellipsis; \">0</td></tr>\n",
       "<tr><td style=\"white-space: nowrap; max-width: 500px; overflow: hidden; text-overflow: ellipsis; \">&quot;ALDH3B1&quot;</td><td style=\"white-space: nowrap; max-width: 500px; overflow: hidden; text-overflow: ellipsis; \">11</td><td style=\"white-space: nowrap; max-width: 500px; overflow: hidden; text-overflow: ellipsis; \">3.37e+02</td><td style=\"white-space: nowrap; max-width: 500px; overflow: hidden; text-overflow: ellipsis; \">6.48e-05</td><td style=\"white-space: nowrap; max-width: 500px; overflow: hidden; text-overflow: ellipsis; \">0</td></tr>\n",
       "<tr><td style=\"white-space: nowrap; max-width: 500px; overflow: hidden; text-overflow: ellipsis; \">&quot;NEK10&quot;</td><td style=\"white-space: nowrap; max-width: 500px; overflow: hidden; text-overflow: ellipsis; \">58</td><td style=\"white-space: nowrap; max-width: 500px; overflow: hidden; text-overflow: ellipsis; \">4.00e+03</td><td style=\"white-space: nowrap; max-width: 500px; overflow: hidden; text-overflow: ellipsis; \">8.49e-05</td><td style=\"white-space: nowrap; max-width: 500px; overflow: hidden; text-overflow: ellipsis; \">0</td></tr>\n",
       "<tr><td style=\"white-space: nowrap; max-width: 500px; overflow: hidden; text-overflow: ellipsis; \">&quot;UNC93B1&quot;</td><td style=\"white-space: nowrap; max-width: 500px; overflow: hidden; text-overflow: ellipsis; \">9</td><td style=\"white-space: nowrap; max-width: 500px; overflow: hidden; text-overflow: ellipsis; \">3.20e+02</td><td style=\"white-space: nowrap; max-width: 500px; overflow: hidden; text-overflow: ellipsis; \">8.59e-05</td><td style=\"white-space: nowrap; max-width: 500px; overflow: hidden; text-overflow: ellipsis; \">0</td></tr>\n",
       "</tbody></table><p style=\"background: #fdd; padding: 0.4em;\">showing top 20 rows</p>\n"
      ],
      "text/plain": [
       "+-----------+-------+----------+----------+-------+\n",
       "| id        |  size |   q_stat |  p_value | fault |\n",
       "+-----------+-------+----------+----------+-------+\n",
       "| str       | int32 |  float64 |  float64 | int32 |\n",
       "+-----------+-------+----------+----------+-------+\n",
       "| \"CT45A10\" |     1 | 2.39e-19 | 0.00e+00 |     0 |\n",
       "| \"DHRSX\"   |    66 | 3.31e+03 | 0.00e+00 |     0 |\n",
       "| \"JADE3\"   |     1 | 2.63e-18 | 0.00e+00 |     0 |\n",
       "| \"SLITRK4\" |     1 | 1.88e-17 | 0.00e+00 |     0 |\n",
       "| \"TRIM7\"   |    13 | 4.39e+02 | 8.89e-08 |     0 |\n",
       "| \"L3MBTL2\" |    11 | 2.71e+03 | 9.10e-07 |     0 |\n",
       "| \"P2RY8\"   |    24 | 1.42e+03 | 2.47e-06 |     0 |\n",
       "| \"THY1\"    |     7 | 1.11e+03 | 3.18e-06 |     0 |\n",
       "| \"KANK1\"   |   114 | 3.07e+03 | 6.30e-06 |     0 |\n",
       "| \"ASMTL\"   |    24 | 1.25e+03 | 9.97e-06 |     0 |\n",
       "| \"AWAT1\"   |     2 | 4.66e+02 | 1.86e-05 |     0 |\n",
       "| \"EP300\"   |    13 | 1.06e+03 | 1.97e-05 |     0 |\n",
       "| \"QRICH2\"  |    17 | 6.52e+02 | 3.39e-05 |     0 |\n",
       "| \"CRLF2\"   |    15 | 6.32e+02 | 3.55e-05 |     0 |\n",
       "| \"UBALD2\"  |    12 | 6.38e+02 | 3.74e-05 |     0 |\n",
       "| \"PPP2R3B\" |     3 | 9.93e+01 | 3.82e-05 |     0 |\n",
       "| \"IL3RA\"   |    10 | 3.68e+02 | 4.71e-05 |     0 |\n",
       "| \"ALDH3B1\" |    11 | 3.37e+02 | 6.48e-05 |     0 |\n",
       "| \"NEK10\"   |    58 | 4.00e+03 | 8.49e-05 |     0 |\n",
       "| \"UNC93B1\" |     9 | 3.20e+02 | 8.59e-05 |     0 |\n",
       "+-----------+-------+----------+----------+-------+\n",
       "showing top 20 rows"
      ]
     },
     "metadata": {},
     "output_type": "display_data"
    },
    {
     "name": "stderr",
     "output_type": "stream",
     "text": [
      "2023-08-27 21:57:36.532 Hail: INFO: Ordering unsorted dataset with network shuffle\n",
      "/net/pr2/projects/plgrid/plggneuromol/imdik-zekanowski-gts/venv-hail-0.2.113/lib/python3.10/site-packages/bokeh/models/sources.py:235: FutureWarning: iteritems is deprecated and will be removed in a future version. Use .items instead.\n",
      "  tmp_data = {c: v.values for c, v in _df.iteritems()}\n",
      "2023-08-27 21:57:39.996 Hail: INFO: Ordering unsorted dataset with network shuffle\n"
     ]
    },
    {
     "data": {
      "text/html": [
       "\n",
       "\n",
       "\n",
       "\n",
       "\n",
       "\n",
       "  <div class=\"bk-root\" id=\"95bf13aa-1840-4d5f-959f-404b859d0eff\" data-root-id=\"1593\"></div>\n"
      ]
     },
     "metadata": {},
     "output_type": "display_data"
    },
    {
     "data": {
      "application/javascript": [
       "(function(root) {\n",
       "  function embed_document(root) {\n",
       "    \n",
       "  var docs_json = {\"8306e6c8-a584-40d2-a984-064eaaa52106\":{\"roots\":{\"references\":[{\"attributes\":{\"below\":[{\"id\":\"1604\",\"type\":\"LinearAxis\"}],\"center\":[{\"id\":\"1608\",\"type\":\"Grid\"},{\"id\":\"1613\",\"type\":\"Grid\"},{\"id\":\"1637\",\"type\":\"Slope\"},{\"id\":\"1638\",\"type\":\"Label\"}],\"left\":[{\"id\":\"1609\",\"type\":\"LinearAxis\"}],\"plot_height\":800,\"plot_width\":800,\"renderers\":[{\"id\":\"1633\",\"type\":\"GlyphRenderer\"}],\"title\":{\"id\":\"1594\",\"type\":\"Title\"},\"toolbar\":{\"id\":\"1620\",\"type\":\"Toolbar\"},\"x_range\":{\"id\":\"1635\",\"type\":\"DataRange1d\"},\"x_scale\":{\"id\":\"1600\",\"type\":\"LinearScale\"},\"y_range\":{\"id\":\"1636\",\"type\":\"DataRange1d\"},\"y_scale\":{\"id\":\"1602\",\"type\":\"LinearScale\"}},\"id\":\"1593\",\"subtype\":\"Figure\",\"type\":\"Plot\"},{\"attributes\":{},\"id\":\"1618\",\"type\":\"ResetTool\"},{\"attributes\":{},\"id\":\"1686\",\"type\":\"UnionRenderers\"},{\"attributes\":{\"callback\":null,\"end\":null,\"start\":0},\"id\":\"1635\",\"type\":\"DataRange1d\"},{\"attributes\":{\"data_source\":{\"id\":\"1629\",\"type\":\"ColumnDataSource\"},\"glyph\":{\"id\":\"1631\",\"type\":\"Circle\"},\"hover_glyph\":null,\"muted_glyph\":null,\"nonselection_glyph\":{\"id\":\"1632\",\"type\":\"Circle\"},\"selection_glyph\":null,\"view\":{\"id\":\"1634\",\"type\":\"CDSView\"}},\"id\":\"1633\",\"type\":\"GlyphRenderer\"},{\"attributes\":{\"callback\":null,\"end\":null,\"start\":0},\"id\":\"1636\",\"type\":\"DataRange1d\"},{\"attributes\":{},\"id\":\"1617\",\"type\":\"SaveTool\"},{\"attributes\":{\"axis_label\":\"Observed -log10(p)\",\"formatter\":{\"id\":\"1680\",\"type\":\"BasicTickFormatter\"},\"ticker\":{\"id\":\"1610\",\"type\":\"BasicTicker\"}},\"id\":\"1609\",\"type\":\"LinearAxis\"},{\"attributes\":{},\"id\":\"1605\",\"type\":\"BasicTicker\"},{\"attributes\":{},\"id\":\"1685\",\"type\":\"Selection\"},{\"attributes\":{},\"id\":\"1615\",\"type\":\"WheelZoomTool\"},{\"attributes\":{\"bottom_units\":\"screen\",\"fill_alpha\":{\"value\":0.5},\"fill_color\":{\"value\":\"lightgrey\"},\"left_units\":\"screen\",\"level\":\"overlay\",\"line_alpha\":{\"value\":1.0},\"line_color\":{\"value\":\"black\"},\"line_dash\":[4,4],\"line_width\":{\"value\":2},\"render_mode\":\"css\",\"right_units\":\"screen\",\"top_units\":\"screen\"},\"id\":\"1684\",\"type\":\"BoxAnnotation\"},{\"attributes\":{\"active_drag\":\"auto\",\"active_inspect\":\"auto\",\"active_multi\":null,\"active_scroll\":\"auto\",\"active_tap\":\"auto\",\"tools\":[{\"id\":\"1614\",\"type\":\"PanTool\"},{\"id\":\"1615\",\"type\":\"WheelZoomTool\"},{\"id\":\"1616\",\"type\":\"BoxZoomTool\"},{\"id\":\"1617\",\"type\":\"SaveTool\"},{\"id\":\"1618\",\"type\":\"ResetTool\"},{\"id\":\"1619\",\"type\":\"HelpTool\"},{\"id\":\"1628\",\"type\":\"HoverTool\"}]},\"id\":\"1620\",\"type\":\"Toolbar\"},{\"attributes\":{\"fill_alpha\":{\"value\":0.1},\"fill_color\":{\"value\":\"#1f77b4\"},\"line_alpha\":{\"value\":0.1},\"line_color\":{\"value\":\"#1f77b4\"},\"size\":{\"units\":\"screen\",\"value\":6},\"x\":{\"field\":\"x\"},\"y\":{\"field\":\"y\"}},\"id\":\"1632\",\"type\":\"Circle\"},{\"attributes\":{\"axis_label\":\"Expected -log10(p)\",\"formatter\":{\"id\":\"1682\",\"type\":\"BasicTickFormatter\"},\"ticker\":{\"id\":\"1605\",\"type\":\"BasicTicker\"}},\"id\":\"1604\",\"type\":\"LinearAxis\"},{\"attributes\":{\"ticker\":{\"id\":\"1605\",\"type\":\"BasicTicker\"}},\"id\":\"1608\",\"type\":\"Grid\"},{\"attributes\":{},\"id\":\"1602\",\"type\":\"LinearScale\"},{\"attributes\":{\"callback\":null,\"tooltips\":[[\"x\",\"@x\"],[\"y\",\"@y\"],[\"p_value\",\"@p_value\"]]},\"id\":\"1628\",\"type\":\"HoverTool\"},{\"attributes\":{\"callback\":null,\"data\":{\"index\":[0,1,2,3,4,5,6,7,8,9,10,11,12,13,14,15,16,17,18,19,20,21,22,23,24,25,26,27,28,29,30,31,32,33,34,35,36,37,38,39,40,41,42,43,44,45,46,47,48,49,50,51,52,53,54,55,56,57,58,59,60,61,62,63,64,65,66,67,68,69,70,71,72,73,74,75,76,77,78,79,80,81,82,83,84,85,86,87,88,89,90,91,92,93,94,95,96,97,98,99,100,101,102,103,104,105,106,107,108,109,110,111,112,113,114,115,116,117,118,119,120,121,122,123,124,125,126,127,128,129,130,131,132,133,134,135,136,137,138,139,140,141,142,143,144,145,146,147,148,149,150,151,152,153,154,155,156,157,158,159,160,161,162,163,164,165,166,167,168,169,170,171,172,173,174,175,176,177,178,179,180,181,182,183,184,185,186,187,188,189,190,191,192,193,194,195,196,197,198,199,200,201,202,203,204,205,206,207,208,209,210,211,212,213,214,215,216,217,218,219,220,221,222,223,224,225,226,227,228,229,230,231,232,233,234,235,236,237,238,239,240,241,242,243,244,245,246,247,248,249,250,251,252,253,254,255,256,257,258,259,260,261,262,263,264,265,266,267,268,269,270,271,272,273,274,275,276,277,278,279,280,281,282,283,284,285,286,287,288,289,290,291,292,293,294,295,296,297,298,299,300,301,302,303,304,305,306,307,308,309,310,311,312,313,314,315,316,317,318,319,320,321,322,323,324,325,326,327,328,329,330,331,332,333,334,335,336,337,338,339,340,341,342,343,344,345,346,347,348,349,350,351,352,353,354,355,356,357,358,359,360,361,362,363,364,365,366,367,368,369,370,371,372,373,374,375,376,377,378,379,380,381,382,383,384,385,386,387,388,389,390,391,392,393,394,395,396,397,398,399,400,401,402,403,404,405,406,407,408,409,410,411,412,413,414,415,416,417,418,419,420,421,422,423,424,425,426,427,428,429,430,431,432,433,434,435,436,437,438,439,440,441,442,443,444,445,446,447,448,449,450,451,452,453,454,455,456,457,458,459,460,461,462,463,464,465,466,467,468,469,470,471,472,473,474,475,476,477,478,479,480,481,482,483,484,485,486,487,488,489,490,491,492,493,494,495,496,497],\"p_value\":{\"__ndarray__\":\"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\",\"dtype\":\"float64\",\"shape\":[498]},\"x\":{\"__ndarray__\":\"yl48hoEu+j6uDLf2pYyCP+9XibpTbZI/jIn+s5Walj9daxNqhsaeP0SvWJg4U6I/SAnUK8W5pD/Hb8GLET+mP7N7SOqsqqs/BaO/2g7srT/BHoLKbz6xPwNV7sg8ZrI/Y1m/Xe9UtD+18uD/ucS1P5ufvxw9Jrg/luWXH4ROuj9WH4QFEZq7P1/FBfkDZ70/knEb1innvj93EwP0lLLAP0yQ2x+258A/nk9MDCtFwT81UkJ+1WXCP66ASzXRvcI/37e5MuYwwz+dpkLcah3EP3Z7yt80QMU/sN/I8RnYxT+TvNL1/P3GPz3LnLR4Psc/j0xW+32Zxz/yGp1NlbnIP8ffeXEfbMk/LMIDZQJxyj98qC++N0XLP48ZCYo2F8w/7grmYe0szD96cqBF6FrNP/ELp4HyLc4/xHU8WHXqzj8HOpKbHxbQP3z8y7qdH9A/usp1K1No0D+GiV/8McjQPxmsO6z79dA/k/99P7BB0T9ZD/dtCsXRP5562fevItI/UYfwLPtk0j86nqYW6rPSP5PcRf7BKtM/rRGL+5yL0z+eap07j9rTP54rbwNqH9Q/7wFRhn9n1D9V2z9c57LUPwniUeD8/9Q/nOFy0xpy1T8pavXur+DVP5g4JnJwB9Y/1de9CPtb1j9UgyfLY7PWPwP2jgC2/9Y/h+06sD1G1z+fXNEro5/XPz1pGf3lJtg/ToqaWFx12D8hZHp8RHzYP/UPmfnNA9k/gXRtQ/4b2T/gK152dnjZPyBKfIkG7tk/O1rJo4B22j9YbWFqrebaP/OA1P0iCNs/dHsW4KE02z+asM9mB8jbP2J2RNXELNw/O6e5r6uI3D9hseKzwcfcPzUbyM2RCN0/oZv2zbhV3T95p7MHKYDdPxy49Asu8N0/8uLsnxEq3j9UxhLoNG7eP3bWKkLIxt4/dKDcErII3z9YuupI51zfP09F+KWk6t8/ngVC51AY4D/Pc54+XHngP2NVsLODj+A/N0r21Q/b4D+G2J8HnhvhP+10F3lQR+E/e5lzt/104T/vTcSZ7K7hP4WToyB19uE/I7fuBGUa4j/yzAeWbyPiP4yGvnKuZeI/T3o8pGGz4j/JelFl6NbiP4QmjxWY++I/6hNtoKkg4z9utw8BlEjjP2k0ZEAjT+M/IHDsnjqN4z9900sfAL7jP5g6SViGAeQ/n8Swjh1I5D8dsEcTnGrkP6qRCHlKdeQ/IRy2IAyj5D832W1bj9rkP3RCOUgWH+U/uhXiZGNc5T/ZIBGSYYnlP3G+JZ5E2eU/JEZmiuQZ5j8SnIWk7SHmP6esS1JqTOY//hdUCVaT5j8dvRpPbq7mP4mtisCU2eY/Ms3P8MP95j9KFwDPeyTnPwSZ1XNFaec/2njVijub5z+Ic/E+Mb/nP6hACQ4Z4Oc/dMraCocK6D9cJ/7m+SroP9AKSw/mTOg/gIXO4HZ36D9wpYztzH/oP53V6oVIuOg/GrbbyLfL6D/NG8k/EvnoPwaXrmoSE+k/iq7oKwMs6T+/ZEnoUWfpP5304/gqnek/b4C3b/zg6T/XJWHuzijqP+9fp9SgTuo/CEqO56Bs6j/oUqH5fpvqP4FRpEqVyeo/69MWvvni6j8GcssJ+v3qP+4NSyQnU+s/bGNeat536z/8KKB87brrP1smUGOt+us/GxZ0y8wz7D8wIHbMxlfsPwjcqm45l+w/g2BDeOyw7D+EMIJgz8rsPzNsDZrABe0/yxODVDRU7T/2+scT03ftP7QRFWEzue0/hv8IavsJ7j/rOik5EjPuP5cn6zRHYO4/lcbe6C527j86Vj3s96fuP+LPcVLH5e4/ROuuLj0w7z8cpzc5TE3vPyrLF88FlO8/t+GAeSLY7z/WayLspPjvP5oaj9DRD/A/JqJE6hcY8D9/fvdZ3j7wP+sM0Md6WPA/C2PjAa1o8D+pB1Jmn4rwP2VR/ezZqfA/4VwlCvK78D+kOWhUYN7wP4kBd+ir5/A/3QnMHE4A8T9wsOGdHBLxP9ssIZKwIfE/0Hseq7Q48T9qmJ74NVbxP589kdYnYPE/Gwy2uJuN8T/1QNyZUbjxP8WZ9bfAyvE/h8s6UXXp8T+lTjA/NPDxP8fEsoMxDvI/kULiaVMk8j8gIdZusizyPx3h9S5vUfI/hdurd+Rc8j9BuDooHoTyP07YbBxujvI/kRjHKjyv8j8lz7CuSbjyP2MRwc8O4PI/U5d9DJjv8j9hD1HJPSLzPxGRpYZfVvM/PnP2+qVj8z+X8Qzvf37zPw2J63J9j/M/H6xYZF6i8z9le6bSfK7zPzWwbtTNz/M/S5j7PB/V8z8MjydIXvXzP5PhNJu2BfQ/t3TfjOUZ9D8JYPXKTy70P2LiF38MMvQ/lZPZkFRO9D/5bwKGmV30PyJUf2sjafQ/Vyi/uM9y9D9QjQN0R4j0Px/+sFECnvQ/JIFiawW29D8E0phnH8D0P1OTddE+yPQ/Gvm2pNbg9D/Uy/G9bPH0P0uNEbvG+fQ//uMgVzEV9T9jKgXQMjP1P1w6ffQ2QPU/1MDIFLhR9T+t0/jvU1j1PyP+GdRAdfU/JOYcwI6J9T/XR3Dp/qT1P+VCYpU8rvU/ql3dF43F9T9LuLV2zNr1P2LtJpdN8PU/I0lQ/1z89T/mSjTIkh72P8AOikF4KPY/9ogQo/A+9j9fb3ScslX2P2nF11yAdPY/WX4eluN+9j+GRy7ElY72PwRLhbdrnvY/suOkFGau9j9irsq0ys72P23kDDm45PY/dQcsZvAI9z+VqkWimR/3PwoJx5hxOfc/NtyyGn9c9z93DKIAVmj3P/anADc/d/c/lA154WeS9z/46aHWrKH3P+Pv6KMTsfc/pZfYz2G69z9Gv1jfb9P3P/AByECn6fc/aAfOVOv89z+Hvb1P4Qn4P7Waa7AWJPg/tStjaQQu+D9197CFxEj4P41nE0eCYPg/5VnOpoF/+D8I9wrO9Yn4Pyzra6b+l/g/y3YjESSm+D+DelWuK7/4PzZTB2Hq6vg/k7mSJ5zu+D+si924MgH5P32tcPbJKvk/aNxDbsVF+T9SdDxAE2n5P88HUCkAdfk//L0FzwaF+T+EsMA7JJH5P3mxXZlsofk/JV+UkiG6+T/LazmPy8r5P16xI+Od2/k/VdU3q779+T90Bv4Kxxf6P+U0DVqKIPo/9r5sSIRI+j/4mOdYC1b6P5TIcEvSbPo/D/lg3+SD+j8tr/Zvi4j6P0UHlRFFm/o/CzUL3yLG+j/kuPmq9sr6PxXQx2QC9/o/LFOZe/IA+z+VOb0nGR/7P+QbLerEPfs/S9DBEr1X+z8GBysPgWf7P7SlAroXcvs/pQuA5z2S+z/k0233lMP7P+HXq2RW1Ps/FYltdp7w+z+Gu1xozgH8PyVbQIBbDfw/U/GZddMe/D9NlbzEdzD8P3aGKAtESPw/YzDX7kNO/D8kjABXU1r8P3jIyaqxcvw/JXYApGaL/D9SVM20oZH8P8WdgLN0pPw/Qwkp7h2x/D9hzKBxR8T8P/MjNGQr0fw/+YYt5zvr/D+yJlVsXAz9P/evU2pQJ/0/bie9kK5C/T/Ml33VfFf9PwqczfvXgf0/C0x38GeX/T8Fw2uHkbT9P2SbKbpUw/0/da0P/bTZ/T9EUGRByOj9P/ksUi6j//0/4zKZ+wkP/j9JYOLwZCb+P07md/0ERv4/f4L/lDdm/j/rP0ooTY/+Px/1kSgBoP4/46XoZVu5/j+G0sh5E9P+P4r+Wn672/4/LS4c/vT1/j/BWl3ykhD/PySjbGiYK/8/5f+xPUZQ/z/F5bzlSWz/P2Kqdj9Xkv8/8xpCMq2l/z901ZR+bK//P+Ri5XwUw/8/nx+Jff3M/z/1RWBL+uD/P3n0DfFi//8/N58U0fkJAEAqwIh9KQ8AQOKDXkqgGQBAhdmcho4pAECFsfGAVjQAQGJm7jrCRABAOuI9B31VAEBcbNe3IlsAQMqzSqXRYABA5uHgDRdyAEDp5+Ak7HcAQKiw3xbLfQBAcYd/YaSPAEBSNZQVrJUAQHzTeD/boQBAUioUvDWuAEDIFoWac7QAQK0ai5xxxwBAcq/uoN3NAEBnkTWaVdQAQDKV0B9q4QBAWnTZCAfoAECZgj6gsO4AQDpaABdn9QBAO8c9nyr8AEAKjTxs+wIBQHILj6fFEAFAYn6Ue8ceAUC+g8avAi0BQMPQyS3LQgFA8rwoxyxKAUBWpJYwnlEBQHouZq4fWQFAipeohrFgAUC8BT0BVGgBQKnLPgbMdwFAIqbsIoqHAUB6M/LdkJcBQP5QlUqwnwFANQ85/iiwAUDQ6Vz+grgBQKJXhkLxwAFAg1j4JgzSAUBm7ZaWudoBQDGWGo5W7AFA+z1e+Eb1AUDSQEqeTv4BQMpC4PltBwJA6aQwzfUZAkCiSYpMXyMCQPK6pCmANgJA+lleqThAAkCyoIaoDEoCQN4SbcT8UwJAumW2nwleAkB2jig7fHICQKXGiF3jfAJA4olKBGqHAkDFyLDwEJICQMWgBevYnAJAM6vywsKnAkB60VFx/70CQAqjXg9UyQJAagAUG87UAkAp1/SObuACQPF5eG827AJAsXaTyyb4AkD/u0m9QAQDQPLSSmqFEANABwaZBPYcA0AhYzzLkykDQLKeAgtgNgNAmmPtcolQA0B6SRSB6V0DQEl8UNZ9awNAsvqiEUh5A0CibajlSYcDQP5y2hmFlQNAOQjri/ujA0AyrDwxr7IDQLodehiiwQNA/PRQa9bQA0DpulJwTuADQGKVAI0M8ANAuiIGSBMABECytqhLZRAEQA/ZcGgFIQRAiq4UmPYxBECm3KoAPEMEQHGFLvjYVARAEjBeCNFmBEBy3gDzJ3kEQOI4nrbhiwRAMqq4kwKfBEDyj5oSj7IEQPpUygmMxgRAtn08pf7aBEAieV5u7O8EQAWQGVVbBQVAsbfyuVEbBUBKknJ51jEFQGnGCPnwSAVA8WWnNalgBUAywl7UB3kFQGFSUDUWkgVAJuhgid6rBUC6OCjra8YFQPLptnvK4QVAPmLugwf+BUBxm1CbMRsGQDzkZNVYOQZAooQU945YBkDypby153gGQMqdKAJ5mgZAsXRCYlu9BkCyzRRdquEGQHKZzP2EBwdAOkTecw4vB0BiaHLYblgHQPGmBiTUgwdAqbUcY3OxB0BysXI+iuEHQGbXdPNgFAhAMtnK5UxKCECximQFtIMIQOJzKGERwQhACY08bPsCCUDyvCjHLEoJQHoz8t2QlwlAMZYajlbsCUCyoIaoDEoKQHLI3k/PsgpAIWM8y5MpC0AyrDwxr7ILQHGFLvjYVAxA\",\"dtype\":\"float64\",\"shape\":[498]},\"y\":{\"__ndarray__\":\"/3mfUBNE07//eZ9QE0TTv/95n1ATRNO/IgRLivAb9T568g9j6gZ6P1MNahsc8Ic/1SdVox9+kD9yzgk3SnuTP6C122QRq54/xFw5HheboT8BuxJXtnamP4Dyj5+n+qg/7bhyBXw6rT8+n5wamjiwP4plP9OFybI/YKV2618gtT/+Xtk56Wa2P5wDzoXcULg//faCdmD3uT8EbqfawsO8P50qlP1WMr0/GS8ZMDravT9JH+LZZBbAP9oTExswh8A/WKi0NkgEwT/1zZLyRSnCP7CnOywCc8M/mOCMtNEoxD+wHZRGcJTFP+//qQoT58U/RaGeAy9Lxj/dHWoUAYfHP21bdRq0WMg/YS+yZrScyT+wgcugvp/KPyG8qB9ul8s/LVSAr3ytyz96cpGgsCHNP9fhvzTdBc4/Zzc8fuzQzj/yULpjITfQP0Cos4k3SNA/CiYim+6U0D94wBhVqQrRP2Qe81C8NtE/3LSarWyR0T92A2jFsDvSP9Z6tfmUsdI/+1WjBrL80j+gT2gndV/TP5Jen15/29M/WWYObUBi1D8gGH9kzMrUP/m5A0NKEdU/cpqO/ABj1T9nffLxbbrVP+eL7PV3ItY/E/1AxwXF1j/Krln6Ll/XP7fPmC6GjNc/I+IRLYrp1z/gMtSUGU/YPwamEttTmNg/Ey9nM7zw2D9sS8m/dFfZPy6vaDH28Nk/BmKUbZVR2j9p3Rkh1WLaP3weRDfOBts/qHMhKW0m2z+6Xhv786bbP1Bhi6tHRNw/XVK7rw8S3T8rLY6iK53dP6ef9f0Xyt0/KJ+AkTcC3j8iQvgKeM7eP8uB155BN98/X/L1w5ye3z9+JBh0QfbfPxzK7WXgH+A/sdMLiQNP4D+9Dm9JP2zgPy7V8++OrOA/Lhw+5H/Q4D+4/HoqZgjhP5azbPZ1OOE/VeZ2kTVm4T96Tw72BKPhPxc+seTR8+E/bCoi6U4c4j+AwWlrg4viPwh3FDEsqOI/E8B1+GYB4z8u7+WSc0DjPzbMPfK8buM/26/Peq2q4z+rtyZeyOPjP3+p2tA4QOQ/ns14xUpz5D9IJNZXt3/kP0JpgHna3uQ/vs8c14045T+VFL+Op2zlP97R5rBfqeU/KEKRs0ba5T/IoXE6ghHmPzxHci91HeY/RRjnsMJt5j/wGjKyrLLmP5JlGEVBBOc//wyp9DRM5z9n2Qg1nXbnPz+UkrHeguc//OwNPty75z9TOgfsExHoP+8hV/S3bOg/UUqyTJe56D/cQ6UuyffoP/zXfolvVek/sYRzILWz6T9Uhe7dlsDpP1NyOKK78Ok/ZzrStQxb6j/RUcJ4sIrqP4YLhyBoyuo/LKrF26r16j/T68bu0SjrP6TaDX+mjus/srr9m1rK6z9ILOcnmP/rP08K/o1SMOw/lYj9FvNf7D/mM/yzgozsP81iWgX6uuw/MrY1/uX17D/QFb+jnv7sPwUUYsggUO0/9kATlWdo7T/av7Wq5ZvtPz9TJ1VbzO0/bTftVjDp7T8GcPp0SD3uP4DJfIQbeu4/jF6n89/E7j+a4VOtkiXvP32JTtLXcu8/FCRKhsKh7z/bRUvkF8/vP05T/qL4/+8/kzBdCewM8D+69Ugr4x7wP7gF9/BdMfA/2YMN0J5H8D9ILv2xBmLwP3TEaQMphPA/plviMwyh8D814CXt9LLwP9RXtrrv4vA/pQ+NuXfv8D+RKhZ+XwbxP/ScF2MrMvE/OkjCghhl8T8+A2OBv4DxPzGLbZbCpPE/t78N/7LT8T9WM6k0WuvxPzqLyoNkC/I/c2LCYqoY8j9bRcRj9S/yP1ipI/JNVfI/6Do6FPqP8j9F7nqkbabyP4Rn4o1x1fI/p5bFMGEL8z84SjaeWSPzP/Lyc0SkO/M/x2QO0YlH8z+tTl1OnnbzP3dcyKVumfM/jakPC2Sq8z/sgAdKUd3zPwRT5eTUCfQ/JhRmFlQi9D88Onryz0L0P7kPbkUdS/Q/VmaTvyRv9D85YmnXYYv0P0nT8OwuofQ/39IN1A/D9D8BuB6Owuz0P/ESA+Lj/PQ/BxFTDDYx9T+ISYx9Z2L1P7+fSeJIefU/aBxp7kmm9T9eKHmXg7D1P0uZ/DkCzPU/JoPhxeHe9T92FJucZOf1P2SyOnHjCfY/Sot9XGob9j8uurnEEk32P5veka7uV/Y/DmbmQ/149j8bkcyqQYX2P1g2oyl1ufY/Kj7vh/DQ9j9JTuXt8AL3P3jYG209X/c/EjNKXaZ69z90dpMKpZr3PzQvy272xvc/BcJLzJ3h9z/V//+wDe/3PxqfkH7MG/g/Wp5WFVch+D/xYWxVf0z4P1BBB5oPZvg/DYy7N2aC+D90qEnXiJP4P5O9DK7tmPg/SKXC3jnK+D8blN2Fxdv4P8oY0iFN//g/nDt4CvgQ+T9U0mN64CX5P6zB6PxIR/k/NMbL6ZRj+T/lQDPkqXb5P76pGMNoi/k/bVsQQu+p+T9L276YksD5P6reqQukx/k/6VyN16/v+T/M5op75hf6P0Ki1c5uNvo/HG9RjBVb+j/yqTGCkG76Px4enaj4pfo/xymvX+zd+j+Ztqk8KBf7P2l2I32tJvs/ElzTgsk6+z+jsi1AemL7P94VUxQfl/s/vM7wMzaY+z9OFFOCDbr7P0p+AvTywfs/Bx+aYvnj+z9k96KEwv37P+StzPI0IPw/Ha5fWctB/D/aR9x71ln8PyGJ3PLYePw/a6VPiySW/D93dDirkaj8P21p82/fwvw/MMCdQHfr/D+G+tIgYAn9P8HaD1WeJv0/v/eBWa1E/T//OrcgWlX9P6jK23EDZ/0/22sTklaM/T/7MwD5Qqf9P1eUuCZUx/0/sOCETWLV/T96Koit/QX+P6lLBz53Lf4/+3Wjq4dE/j8zagbIjVH+P6W5l/WPcP4/gk5S+52B/j/pRLN+f7D+P8GS5C0Tw/4/kvyvp+7V/j9l+iXZXer+P+k/72iyBf8/yiN1+R4m/z/aDT15q0f/P14Y1pQcjP8/rlZq0nif/z/gaFgLjtT/P51ffISaCgBACZSUrTEnAEA7PpRR0UsAQAcwOoMWYQBAIUqzF9NwAED+LXmyCH4AQHJMbXsnmABAHXKEkTahAEAmGoF+k7IAQD6sHtOevABAgbDByhTJAEAoEy6jNs4AQFWrV9ec0wBAum67VJrpAEA4zMhZ4OwAQLKcwrCL9QBA+YJeDzwQAUCumcJgHhYBQBQIE5EcJgFAHmdddhY+AUBE5i2XOEUBQMYdCQiwWQFAonfQ2dtkAUC5tlV96nABQKOHXHzbfQFAbmkFzpyGAUCcUJ07uJ4BQIC4GDbwpAFAGrj/6YmtAUCEDX0iy9EBQAN+7uRB2AFAM8/zbmXjAUBmmcGHXu0BQBfP6j179gFASIeStfX+AUCI4QvnqhYCQIs8jBxTJwJACc7veIs3AkBBjK0z/ksCQFRqxrP7agJAQQUwIbKSAkD3L3n/s6ECQN9wRQLNugJAqINuqNnWAkBy1yXQy9kCQLmroJel5AJA5rORVVP5AkCh+NstHA0DQNnM2hRHFANAboNiNxkyA0DjPJ8Y1EwDQH+/86fMdQNAi2TGfsqJA0CdSL3G9ZoDQHo5zYzIrgNADsvyqqXOA0D+Jac8ouMDQN7AsrKl+ANAcPm7MEUGBECaset9rB4EQAroriuwMgRAVZzppVhFBECqa84xf10EQFheIX5rbARAKvwvuWp6BEBJ/lbJ5IsEQAJvs8PAkQRAGjkf/e6qBEC6uy3SJ8cEQCHt+GUF5QRAdffzxCH8BEBDMu3bEAsFQOTuJXMwGwVAkizudZEuBUAi8stHWT0FQHKoveK3VQVAOsB8rvd9BUAgGDUaiYAFQLgKFuBTvwVAGO0FupLDBUBoTVYd4cwFQK0zM+dk8wVAv1Ma5tgPBkAwWkNxciYGQKBCONnEMgZAraO9AJBOBkBXDtr2PV4GQOrdenFMXwZAz7IxJtNsBkC0aS1LCIUGQDa6F4gthgZAwUSCxJygBkDmqBTRMa8GQOuzSnTotAZA/dNmRdrOBkD4j36bXvkGQEyhdxd+IAdAIq4QUTksB0CqEayQHD4HQDdxcBrjWgdApALsquN1B0ApYsPN5n4HQLfI+dpviAdAvavuip2UB0DKQjPlYt0HQALBkHeZ5wdAMNPWOwgWCEDl9N9ryCQIQHJ6P3C1TQhAcno/cLVNCEAk6tjvMmUIQDmh/7xvZghAQWaCAIKQCEADkHLhs50IQBfbZjEWoQhAaRnKAWarCEC1xlUnjLgIQNiDokiyuQhALiY6kr3QCEAyRD3ZROIIQJXEuDvn5AhAeeW4bJ72CECi59pXBwwJQNUOGUTdMwlAzlE0L3hSCUDNy8hEjmAJQHDIBSa0aglAoVVIFgyKCUBaRvsATpMJQOVZ4ma3nQlAayvEDlSgCUAe2kcs28wJQIPKDUO51glAhHHTRA7bCUDi+mSk5BQKQLZUmDMELwpA4q86UqhICkBPQQ34b1oKQECXzsMnWwpAKG+JCOxjCkBWyQ0XiHEKQDCfVWL1kApANLXFvjCVCkA4kZrgSLcKQO9QEwePvgpA143VWVwKC0D6ZvEC2QoLQP9S7U2hEQtAajb84HktC0CzMR4HWmoLQLWlXhmmcwtAGtJ11lOBC0BvqPTXm48LQI15C7KhrgtANoKCz8zSC0DVDJIHOPoLQHj4B+mk/QtATOGnI1AUDEA9iuMCjioMQD2K4wKOKgxAw1g8r0U1DEBIAklP2EYMQJ9gv03BUgxAYE8zI/NlDEDPzO0Rm4AMQFDplL+HjQxASR3gb6m3DEAJwlDCNrsMQHRL9Qx0xQxAbpnjOBzHDEAJPfj6H9kMQFtiAtqw9wxAFJxxyrw3DUAsBCE865oNQPLFK0LOyw1AdQvqmX7ODUCao7a3mOYNQLSk4aZZ8w1AnbDpkuH+DUBCo15boAAOQCXHqTyUAQ5AJjd2jvFLDkABjgJm5WEOQF8poLAbpw5AXymgsBunDkCC5O6eM+EOQP1njCImKA9Avi9OiF86D0DwtehXOqIPQHh+QnWjqg9AdZ6KLunjD0CjHk5YZ+oPQKMeTlhn6g9A0K/ruqMgEECRg3ydGS0QQFv2/n8mMhBA1xebWz04EED6uXJFzDsQQPRgzySmQxBAHMFmttdIEEBu2NfWuMAQQCyO8FGtThFAsomvjYarEUDQi9QDGLURQLCWq7QtzBFA0+rRnlvhEUDGYj7hdtMSQDQ+naDq6hJAipyDKzQBFED7cLHSo80UQH6bt2UH/hVAFkWW5pduFkAPiGsSuykYQGgMbXtaNBxA\",\"dtype\":\"float64\",\"shape\":[498]}},\"selected\":{\"id\":\"1685\",\"type\":\"Selection\"},\"selection_policy\":{\"id\":\"1686\",\"type\":\"UnionRenderers\"}},\"id\":\"1629\",\"type\":\"ColumnDataSource\"},{\"attributes\":{},\"id\":\"1610\",\"type\":\"BasicTicker\"},{\"attributes\":{},\"id\":\"1619\",\"type\":\"HelpTool\"},{\"attributes\":{},\"id\":\"1680\",\"type\":\"BasicTickFormatter\"},{\"attributes\":{},\"id\":\"1614\",\"type\":\"PanTool\"},{\"attributes\":{\"dimension\":1,\"ticker\":{\"id\":\"1610\",\"type\":\"BasicTicker\"}},\"id\":\"1613\",\"type\":\"Grid\"},{\"attributes\":{\"text\":\"\\u03bb GC: 1.36\",\"text_color\":{\"value\":\"red\"},\"text_font_size\":{\"value\":\"14pt\"},\"text_font_style\":\"bold\",\"x\":null,\"y\":1},\"id\":\"1638\",\"type\":\"Label\"},{\"attributes\":{\"text\":\"Q-Q plot\"},\"id\":\"1594\",\"type\":\"Title\"},{\"attributes\":{\"fill_color\":{\"value\":\"#1f77b4\"},\"line_color\":{\"value\":\"#1f77b4\"},\"size\":{\"units\":\"screen\",\"value\":6},\"x\":{\"field\":\"x\"},\"y\":{\"field\":\"y\"}},\"id\":\"1631\",\"type\":\"Circle\"},{\"attributes\":{},\"id\":\"1600\",\"type\":\"LinearScale\"},{\"attributes\":{\"gradient\":1,\"line_color\":{\"value\":\"red\"},\"y_intercept\":0},\"id\":\"1637\",\"type\":\"Slope\"},{\"attributes\":{},\"id\":\"1682\",\"type\":\"BasicTickFormatter\"},{\"attributes\":{\"overlay\":{\"id\":\"1684\",\"type\":\"BoxAnnotation\"}},\"id\":\"1616\",\"type\":\"BoxZoomTool\"},{\"attributes\":{\"source\":{\"id\":\"1629\",\"type\":\"ColumnDataSource\"}},\"id\":\"1634\",\"type\":\"CDSView\"}],\"root_ids\":[\"1593\"]},\"title\":\"Bokeh Application\",\"version\":\"1.4.0\"}};\n",
       "  var render_items = [{\"docid\":\"8306e6c8-a584-40d2-a984-064eaaa52106\",\"roots\":{\"1593\":\"95bf13aa-1840-4d5f-959f-404b859d0eff\"}}];\n",
       "  root.Bokeh.embed.embed_items_notebook(docs_json, render_items);\n",
       "\n",
       "  }\n",
       "  if (root.Bokeh !== undefined) {\n",
       "    embed_document(root);\n",
       "  } else {\n",
       "    var attempts = 0;\n",
       "    var timer = setInterval(function(root) {\n",
       "      if (root.Bokeh !== undefined) {\n",
       "        clearInterval(timer);\n",
       "        embed_document(root);\n",
       "      } else {\n",
       "        attempts++;\n",
       "        if (attempts > 100) {\n",
       "          clearInterval(timer);\n",
       "          console.log(\"Bokeh: ERROR: Unable to run BokehJS code because BokehJS library is missing\");\n",
       "        }\n",
       "      }\n",
       "    }, 10, root)\n",
       "  }\n",
       "})(window);"
      ],
      "application/vnd.bokehjs_exec.v0+json": ""
     },
     "metadata": {
      "application/vnd.bokehjs_exec.v0+json": {
       "id": "1593"
      }
     },
     "output_type": "display_data"
    },
    {
     "name": "stdout",
     "output_type": "stream",
     "text": [
      "running with 1 PCs and the pruned scores option\n",
      "failed PCs 1 pruned scoreseur subset 2\n",
      "<class 'LookupError'>\n",
      "running with 1 PCs and the just subsetet scores\n",
      "failed PCs 1 no filters subseted scoreseur subset 2\n",
      "<class 'LookupError'>\n",
      "running with 2 PCs and the pruned scores option\n",
      "failed PCs 2 pruned scoreseur subset 2\n",
      "<class 'LookupError'>\n",
      "running with 2 PCs and the just subsetet scores\n",
      "failed PCs 2 no filters subseted scoreseur subset 2\n",
      "<class 'LookupError'>\n",
      "running with 3 PCs and the pruned scores option\n",
      "failed PCs 3 pruned scoreseur subset 2\n",
      "<class 'LookupError'>\n",
      "running with 3 PCs and the just subsetet scores\n",
      "failed PCs 3 no filters subseted scoreseur subset 2\n",
      "<class 'LookupError'>\n",
      "running with 4 PCs and the pruned scores option\n",
      "failed PCs 4 pruned scoreseur subset 2\n",
      "<class 'LookupError'>\n",
      "running with 4 PCs and the just subsetet scores\n",
      "failed PCs 4 no filters subseted scoreseur subset 2\n",
      "<class 'LookupError'>\n",
      "running with 5 PCs and the pruned scores option\n",
      "failed PCs 5 pruned scoreseur subset 2\n",
      "<class 'LookupError'>\n",
      "running with 5 PCs and the just subsetet scores\n",
      "failed PCs 5 no filters subseted scoreseur subset 2\n",
      "<class 'LookupError'>\n",
      "running with 6 PCs and the pruned scores option\n",
      "failed PCs 6 pruned scoreseur subset 2\n",
      "<class 'LookupError'>\n",
      "running with 6 PCs and the just subsetet scores\n",
      "failed PCs 6 no filters subseted scoreseur subset 2\n",
      "<class 'LookupError'>\n",
      "running with 7 PCs and the pruned scores option\n",
      "failed PCs 7 pruned scoreseur subset 2\n",
      "<class 'LookupError'>\n",
      "running with 7 PCs and the just subsetet scores\n",
      "failed PCs 7 no filters subseted scoreseur subset 2\n",
      "<class 'LookupError'>\n",
      "running with 8 PCs and the pruned scores option\n",
      "failed PCs 8 pruned scoreseur subset 2\n",
      "<class 'LookupError'>\n",
      "running with 8 PCs and the just subsetet scores\n",
      "failed PCs 8 no filters subseted scoreseur subset 2\n",
      "<class 'LookupError'>\n",
      "running with 9 PCs and the pruned scores option\n",
      "failed PCs 9 pruned scoreseur subset 2\n",
      "<class 'LookupError'>\n",
      "running with 9 PCs and the just subsetet scores\n",
      "failed PCs 9 no filters subseted scoreseur subset 2\n",
      "<class 'LookupError'>\n",
      "running with 10 PCs and the pruned scores option\n",
      "failed PCs 10 pruned scoreseur subset 2\n",
      "<class 'LookupError'>\n",
      "running with 10 PCs and the just subsetet scores\n",
      "failed PCs 10 no filters subseted scoreseur subset 2\n",
      "<class 'LookupError'>\n",
      "running with 11 PCs and the pruned scores option\n",
      "failed PCs 11 pruned scoreseur subset 2\n",
      "<class 'LookupError'>\n",
      "running with 11 PCs and the just subsetet scores\n",
      "failed PCs 11 no filters subseted scoreseur subset 2\n",
      "<class 'LookupError'>\n",
      "running with 12 PCs and the pruned scores option\n",
      "failed PCs 12 pruned scoreseur subset 2\n",
      "<class 'LookupError'>\n",
      "running with 12 PCs and the just subsetet scores\n",
      "failed PCs 12 no filters subseted scoreseur subset 2\n",
      "<class 'LookupError'>\n",
      "running with 13 PCs and the pruned scores option\n",
      "failed PCs 13 pruned scoreseur subset 2\n",
      "<class 'LookupError'>\n",
      "running with 13 PCs and the just subsetet scores\n",
      "failed PCs 13 no filters subseted scoreseur subset 2\n",
      "<class 'LookupError'>\n",
      "running with 14 PCs and the pruned scores option\n",
      "failed PCs 14 pruned scoreseur subset 2\n",
      "<class 'LookupError'>\n",
      "running with 14 PCs and the just subsetet scores\n",
      "failed PCs 14 no filters subseted scoreseur subset 2\n",
      "<class 'LookupError'>\n",
      "running with 15 PCs and the pruned scores option\n",
      "failed PCs 15 pruned scoreseur subset 2\n",
      "<class 'LookupError'>\n",
      "running with 15 PCs and the just subsetet scores\n",
      "failed PCs 15 no filters subseted scoreseur subset 2\n",
      "<class 'LookupError'>\n",
      "running with 16 PCs and the pruned scores option\n",
      "failed PCs 16 pruned scoreseur subset 2\n",
      "<class 'LookupError'>\n",
      "running with 16 PCs and the just subsetet scores\n",
      "failed PCs 16 no filters subseted scoreseur subset 2\n",
      "<class 'LookupError'>\n",
      "running with 17 PCs and the pruned scores option\n",
      "failed PCs 17 pruned scoreseur subset 2\n",
      "<class 'LookupError'>\n",
      "running with 17 PCs and the just subsetet scores\n",
      "failed PCs 17 no filters subseted scoreseur subset 2\n",
      "<class 'LookupError'>\n",
      "running with 18 PCs and the pruned scores option\n",
      "failed PCs 18 pruned scoreseur subset 2\n",
      "<class 'LookupError'>\n",
      "running with 18 PCs and the just subsetet scores\n",
      "failed PCs 18 no filters subseted scoreseur subset 2\n",
      "<class 'LookupError'>\n",
      "running with 19 PCs and the pruned scores option\n",
      "failed PCs 19 pruned scoreseur subset 2\n",
      "<class 'LookupError'>\n",
      "running with 19 PCs and the just subsetet scores\n",
      "failed PCs 19 no filters subseted scoreseur subset 2\n",
      "<class 'LookupError'>\n",
      "running with 20 PCs and the pruned scores option\n",
      "failed PCs 20 pruned scoreseur subset 2\n",
      "<class 'LookupError'>\n",
      "running with 20 PCs and the just subsetet scores\n",
      "failed PCs 20 no filters subseted scoreseur subset 2\n",
      "<class 'LookupError'>\n",
      "running with 0 PCs and the pruned scores option\n"
     ]
    },
    {
     "name": "stderr",
     "output_type": "stream",
     "text": [
      "2023-08-27 21:58:31.302 Hail: INFO: Ordering unsorted dataset with network shuffle\n",
      "2023-08-27 21:58:34.809 Hail: INFO: wrote table with 17375 rows in 489 partitions to /localfs/4609352/tmp_hail/persist_tableWaFFAZ8pJk\n",
      "    Total size: 519.69 KiB\n",
      "    * Rows: 519.68 KiB\n",
      "    * Globals: 11.00 B\n",
      "    * Smallest partition: 25 rows (753.00 B)\n",
      "    * Largest partition:  56 rows (1.73 KiB)\n",
      "2023-08-27 21:58:37.061 Hail: INFO: wrote table with 17375 rows in 489 partitions to /localfs/4609352/skat_table_0_scores_no_filter_part_3.mt\n",
      "2023-08-27 21:58:37.900 Hail: INFO: Ordering unsorted dataset with network shuffle\n"
     ]
    },
    {
     "data": {
      "text/html": [
       "<table><thead><tr><td style=\"white-space: nowrap; max-width: 500px; overflow: hidden; text-overflow: ellipsis; \" colspan=\"1\"><div style=\"text-align: left;\"></div></td><td style=\"white-space: nowrap; max-width: 500px; overflow: hidden; text-overflow: ellipsis; \" colspan=\"1\"><div style=\"text-align: left;\"></div></td><td style=\"white-space: nowrap; max-width: 500px; overflow: hidden; text-overflow: ellipsis; \" colspan=\"1\"><div style=\"text-align: left;\"></div></td><td style=\"white-space: nowrap; max-width: 500px; overflow: hidden; text-overflow: ellipsis; \" colspan=\"1\"><div style=\"text-align: left;\"></div></td><td style=\"white-space: nowrap; max-width: 500px; overflow: hidden; text-overflow: ellipsis; \" colspan=\"1\"><div style=\"text-align: left;\"></div></td></tr><tr><td style=\"white-space: nowrap; max-width: 500px; overflow: hidden; text-overflow: ellipsis; \" colspan=\"1\"><div style=\"text-align: left;border-bottom: solid 2px #000; padding-bottom: 5px\">id</div></td><td style=\"white-space: nowrap; max-width: 500px; overflow: hidden; text-overflow: ellipsis; \" colspan=\"1\"><div style=\"text-align: left;border-bottom: solid 2px #000; padding-bottom: 5px\">size</div></td><td style=\"white-space: nowrap; max-width: 500px; overflow: hidden; text-overflow: ellipsis; \" colspan=\"1\"><div style=\"text-align: left;border-bottom: solid 2px #000; padding-bottom: 5px\">q_stat</div></td><td style=\"white-space: nowrap; max-width: 500px; overflow: hidden; text-overflow: ellipsis; \" colspan=\"1\"><div style=\"text-align: left;border-bottom: solid 2px #000; padding-bottom: 5px\">p_value</div></td><td style=\"white-space: nowrap; max-width: 500px; overflow: hidden; text-overflow: ellipsis; \" colspan=\"1\"><div style=\"text-align: left;border-bottom: solid 2px #000; padding-bottom: 5px\">fault</div></td></tr><tr><td style=\"white-space: nowrap; max-width: 500px; overflow: hidden; text-overflow: ellipsis; text-align: left;\">str</td><td style=\"white-space: nowrap; max-width: 500px; overflow: hidden; text-overflow: ellipsis; text-align: left;\">int32</td><td style=\"white-space: nowrap; max-width: 500px; overflow: hidden; text-overflow: ellipsis; text-align: left;\">float64</td><td style=\"white-space: nowrap; max-width: 500px; overflow: hidden; text-overflow: ellipsis; text-align: left;\">float64</td><td style=\"white-space: nowrap; max-width: 500px; overflow: hidden; text-overflow: ellipsis; text-align: left;\">int32</td></tr>\n",
       "</thead><tbody><tr><td style=\"white-space: nowrap; max-width: 500px; overflow: hidden; text-overflow: ellipsis; \">&quot;ARSD&quot;</td><td style=\"white-space: nowrap; max-width: 500px; overflow: hidden; text-overflow: ellipsis; \">1</td><td style=\"white-space: nowrap; max-width: 500px; overflow: hidden; text-overflow: ellipsis; \">1.06e-17</td><td style=\"white-space: nowrap; max-width: 500px; overflow: hidden; text-overflow: ellipsis; \">0.00e+00</td><td style=\"white-space: nowrap; max-width: 500px; overflow: hidden; text-overflow: ellipsis; \">0</td></tr>\n",
       "<tr><td style=\"white-space: nowrap; max-width: 500px; overflow: hidden; text-overflow: ellipsis; \">&quot;ASMTL&quot;</td><td style=\"white-space: nowrap; max-width: 500px; overflow: hidden; text-overflow: ellipsis; \">24</td><td style=\"white-space: nowrap; max-width: 500px; overflow: hidden; text-overflow: ellipsis; \">1.03e+03</td><td style=\"white-space: nowrap; max-width: 500px; overflow: hidden; text-overflow: ellipsis; \">0.00e+00</td><td style=\"white-space: nowrap; max-width: 500px; overflow: hidden; text-overflow: ellipsis; \">0</td></tr>\n",
       "<tr><td style=\"white-space: nowrap; max-width: 500px; overflow: hidden; text-overflow: ellipsis; \">&quot;DHRSX&quot;</td><td style=\"white-space: nowrap; max-width: 500px; overflow: hidden; text-overflow: ellipsis; \">69</td><td style=\"white-space: nowrap; max-width: 500px; overflow: hidden; text-overflow: ellipsis; \">3.10e+03</td><td style=\"white-space: nowrap; max-width: 500px; overflow: hidden; text-overflow: ellipsis; \">0.00e+00</td><td style=\"white-space: nowrap; max-width: 500px; overflow: hidden; text-overflow: ellipsis; \">0</td></tr>\n",
       "<tr><td style=\"white-space: nowrap; max-width: 500px; overflow: hidden; text-overflow: ellipsis; \">&quot;EZHIP&quot;</td><td style=\"white-space: nowrap; max-width: 500px; overflow: hidden; text-overflow: ellipsis; \">1</td><td style=\"white-space: nowrap; max-width: 500px; overflow: hidden; text-overflow: ellipsis; \">1.05e-17</td><td style=\"white-space: nowrap; max-width: 500px; overflow: hidden; text-overflow: ellipsis; \">0.00e+00</td><td style=\"white-space: nowrap; max-width: 500px; overflow: hidden; text-overflow: ellipsis; \">0</td></tr>\n",
       "<tr><td style=\"white-space: nowrap; max-width: 500px; overflow: hidden; text-overflow: ellipsis; \">&quot;GTPBP6&quot;</td><td style=\"white-space: nowrap; max-width: 500px; overflow: hidden; text-overflow: ellipsis; \">10</td><td style=\"white-space: nowrap; max-width: 500px; overflow: hidden; text-overflow: ellipsis; \">6.22e+02</td><td style=\"white-space: nowrap; max-width: 500px; overflow: hidden; text-overflow: ellipsis; \">0.00e+00</td><td style=\"white-space: nowrap; max-width: 500px; overflow: hidden; text-overflow: ellipsis; \">0</td></tr>\n",
       "<tr><td style=\"white-space: nowrap; max-width: 500px; overflow: hidden; text-overflow: ellipsis; \">&quot;IL3RA&quot;</td><td style=\"white-space: nowrap; max-width: 500px; overflow: hidden; text-overflow: ellipsis; \">19</td><td style=\"white-space: nowrap; max-width: 500px; overflow: hidden; text-overflow: ellipsis; \">1.17e+03</td><td style=\"white-space: nowrap; max-width: 500px; overflow: hidden; text-overflow: ellipsis; \">0.00e+00</td><td style=\"white-space: nowrap; max-width: 500px; overflow: hidden; text-overflow: ellipsis; \">0</td></tr>\n",
       "<tr><td style=\"white-space: nowrap; max-width: 500px; overflow: hidden; text-overflow: ellipsis; \">&quot;RNF40&quot;</td><td style=\"white-space: nowrap; max-width: 500px; overflow: hidden; text-overflow: ellipsis; \">1</td><td style=\"white-space: nowrap; max-width: 500px; overflow: hidden; text-overflow: ellipsis; \">1.80e-18</td><td style=\"white-space: nowrap; max-width: 500px; overflow: hidden; text-overflow: ellipsis; \">0.00e+00</td><td style=\"white-space: nowrap; max-width: 500px; overflow: hidden; text-overflow: ellipsis; \">0</td></tr>\n",
       "<tr><td style=\"white-space: nowrap; max-width: 500px; overflow: hidden; text-overflow: ellipsis; \">&quot;ZBED1&quot;</td><td style=\"white-space: nowrap; max-width: 500px; overflow: hidden; text-overflow: ellipsis; \">25</td><td style=\"white-space: nowrap; max-width: 500px; overflow: hidden; text-overflow: ellipsis; \">1.93e+03</td><td style=\"white-space: nowrap; max-width: 500px; overflow: hidden; text-overflow: ellipsis; \">0.00e+00</td><td style=\"white-space: nowrap; max-width: 500px; overflow: hidden; text-overflow: ellipsis; \">0</td></tr>\n",
       "<tr><td style=\"white-space: nowrap; max-width: 500px; overflow: hidden; text-overflow: ellipsis; \">&quot;ZNF629&quot;</td><td style=\"white-space: nowrap; max-width: 500px; overflow: hidden; text-overflow: ellipsis; \">1</td><td style=\"white-space: nowrap; max-width: 500px; overflow: hidden; text-overflow: ellipsis; \">1.80e-18</td><td style=\"white-space: nowrap; max-width: 500px; overflow: hidden; text-overflow: ellipsis; \">0.00e+00</td><td style=\"white-space: nowrap; max-width: 500px; overflow: hidden; text-overflow: ellipsis; \">0</td></tr>\n",
       "<tr><td style=\"white-space: nowrap; max-width: 500px; overflow: hidden; text-overflow: ellipsis; \">&quot;SLC25A6&quot;</td><td style=\"white-space: nowrap; max-width: 500px; overflow: hidden; text-overflow: ellipsis; \">11</td><td style=\"white-space: nowrap; max-width: 500px; overflow: hidden; text-overflow: ellipsis; \">7.96e+02</td><td style=\"white-space: nowrap; max-width: 500px; overflow: hidden; text-overflow: ellipsis; \">2.19e-07</td><td style=\"white-space: nowrap; max-width: 500px; overflow: hidden; text-overflow: ellipsis; \">0</td></tr>\n",
       "<tr><td style=\"white-space: nowrap; max-width: 500px; overflow: hidden; text-overflow: ellipsis; \">&quot;PPP2R3B&quot;</td><td style=\"white-space: nowrap; max-width: 500px; overflow: hidden; text-overflow: ellipsis; \">3</td><td style=\"white-space: nowrap; max-width: 500px; overflow: hidden; text-overflow: ellipsis; \">4.30e+02</td><td style=\"white-space: nowrap; max-width: 500px; overflow: hidden; text-overflow: ellipsis; \">3.42e-07</td><td style=\"white-space: nowrap; max-width: 500px; overflow: hidden; text-overflow: ellipsis; \">0</td></tr>\n",
       "<tr><td style=\"white-space: nowrap; max-width: 500px; overflow: hidden; text-overflow: ellipsis; \">&quot;NKAP&quot;</td><td style=\"white-space: nowrap; max-width: 500px; overflow: hidden; text-overflow: ellipsis; \">1</td><td style=\"white-space: nowrap; max-width: 500px; overflow: hidden; text-overflow: ellipsis; \">1.05e+03</td><td style=\"white-space: nowrap; max-width: 500px; overflow: hidden; text-overflow: ellipsis; \">3.82e-07</td><td style=\"white-space: nowrap; max-width: 500px; overflow: hidden; text-overflow: ellipsis; \">0</td></tr>\n",
       "<tr><td style=\"white-space: nowrap; max-width: 500px; overflow: hidden; text-overflow: ellipsis; \">&quot;KANK1&quot;</td><td style=\"white-space: nowrap; max-width: 500px; overflow: hidden; text-overflow: ellipsis; \">98</td><td style=\"white-space: nowrap; max-width: 500px; overflow: hidden; text-overflow: ellipsis; \">3.86e+03</td><td style=\"white-space: nowrap; max-width: 500px; overflow: hidden; text-overflow: ellipsis; \">1.31e-06</td><td style=\"white-space: nowrap; max-width: 500px; overflow: hidden; text-overflow: ellipsis; \">0</td></tr>\n",
       "<tr><td style=\"white-space: nowrap; max-width: 500px; overflow: hidden; text-overflow: ellipsis; \">&quot;BARX1&quot;</td><td style=\"white-space: nowrap; max-width: 500px; overflow: hidden; text-overflow: ellipsis; \">10</td><td style=\"white-space: nowrap; max-width: 500px; overflow: hidden; text-overflow: ellipsis; \">9.14e+02</td><td style=\"white-space: nowrap; max-width: 500px; overflow: hidden; text-overflow: ellipsis; \">2.25e-06</td><td style=\"white-space: nowrap; max-width: 500px; overflow: hidden; text-overflow: ellipsis; \">0</td></tr>\n",
       "<tr><td style=\"white-space: nowrap; max-width: 500px; overflow: hidden; text-overflow: ellipsis; \">&quot;RPL39&quot;</td><td style=\"white-space: nowrap; max-width: 500px; overflow: hidden; text-overflow: ellipsis; \">2</td><td style=\"white-space: nowrap; max-width: 500px; overflow: hidden; text-overflow: ellipsis; \">1.26e+02</td><td style=\"white-space: nowrap; max-width: 500px; overflow: hidden; text-overflow: ellipsis; \">1.31e-05</td><td style=\"white-space: nowrap; max-width: 500px; overflow: hidden; text-overflow: ellipsis; \">0</td></tr>\n",
       "<tr><td style=\"white-space: nowrap; max-width: 500px; overflow: hidden; text-overflow: ellipsis; \">&quot;PLCXD1&quot;</td><td style=\"white-space: nowrap; max-width: 500px; overflow: hidden; text-overflow: ellipsis; \">18</td><td style=\"white-space: nowrap; max-width: 500px; overflow: hidden; text-overflow: ellipsis; \">1.01e+03</td><td style=\"white-space: nowrap; max-width: 500px; overflow: hidden; text-overflow: ellipsis; \">1.58e-05</td><td style=\"white-space: nowrap; max-width: 500px; overflow: hidden; text-overflow: ellipsis; \">0</td></tr>\n",
       "<tr><td style=\"white-space: nowrap; max-width: 500px; overflow: hidden; text-overflow: ellipsis; \">&quot;NEK10&quot;</td><td style=\"white-space: nowrap; max-width: 500px; overflow: hidden; text-overflow: ellipsis; \">53</td><td style=\"white-space: nowrap; max-width: 500px; overflow: hidden; text-overflow: ellipsis; \">1.69e+03</td><td style=\"white-space: nowrap; max-width: 500px; overflow: hidden; text-overflow: ellipsis; \">2.19e-05</td><td style=\"white-space: nowrap; max-width: 500px; overflow: hidden; text-overflow: ellipsis; \">0</td></tr>\n",
       "<tr><td style=\"white-space: nowrap; max-width: 500px; overflow: hidden; text-overflow: ellipsis; \">&quot;FDCSP&quot;</td><td style=\"white-space: nowrap; max-width: 500px; overflow: hidden; text-overflow: ellipsis; \">14</td><td style=\"white-space: nowrap; max-width: 500px; overflow: hidden; text-overflow: ellipsis; \">6.29e+02</td><td style=\"white-space: nowrap; max-width: 500px; overflow: hidden; text-overflow: ellipsis; \">2.75e-05</td><td style=\"white-space: nowrap; max-width: 500px; overflow: hidden; text-overflow: ellipsis; \">0</td></tr>\n",
       "<tr><td style=\"white-space: nowrap; max-width: 500px; overflow: hidden; text-overflow: ellipsis; \">&quot;SEPTIN7&quot;</td><td style=\"white-space: nowrap; max-width: 500px; overflow: hidden; text-overflow: ellipsis; \">27</td><td style=\"white-space: nowrap; max-width: 500px; overflow: hidden; text-overflow: ellipsis; \">1.85e+03</td><td style=\"white-space: nowrap; max-width: 500px; overflow: hidden; text-overflow: ellipsis; \">2.94e-05</td><td style=\"white-space: nowrap; max-width: 500px; overflow: hidden; text-overflow: ellipsis; \">0</td></tr>\n",
       "<tr><td style=\"white-space: nowrap; max-width: 500px; overflow: hidden; text-overflow: ellipsis; \">&quot;CCDC71L&quot;</td><td style=\"white-space: nowrap; max-width: 500px; overflow: hidden; text-overflow: ellipsis; \">8</td><td style=\"white-space: nowrap; max-width: 500px; overflow: hidden; text-overflow: ellipsis; \">8.81e+02</td><td style=\"white-space: nowrap; max-width: 500px; overflow: hidden; text-overflow: ellipsis; \">3.17e-05</td><td style=\"white-space: nowrap; max-width: 500px; overflow: hidden; text-overflow: ellipsis; \">0</td></tr>\n",
       "</tbody></table><p style=\"background: #fdd; padding: 0.4em;\">showing top 20 rows</p>\n"
      ],
      "text/plain": [
       "+-----------+-------+----------+----------+-------+\n",
       "| id        |  size |   q_stat |  p_value | fault |\n",
       "+-----------+-------+----------+----------+-------+\n",
       "| str       | int32 |  float64 |  float64 | int32 |\n",
       "+-----------+-------+----------+----------+-------+\n",
       "| \"ARSD\"    |     1 | 1.06e-17 | 0.00e+00 |     0 |\n",
       "| \"ASMTL\"   |    24 | 1.03e+03 | 0.00e+00 |     0 |\n",
       "| \"DHRSX\"   |    69 | 3.10e+03 | 0.00e+00 |     0 |\n",
       "| \"EZHIP\"   |     1 | 1.05e-17 | 0.00e+00 |     0 |\n",
       "| \"GTPBP6\"  |    10 | 6.22e+02 | 0.00e+00 |     0 |\n",
       "| \"IL3RA\"   |    19 | 1.17e+03 | 0.00e+00 |     0 |\n",
       "| \"RNF40\"   |     1 | 1.80e-18 | 0.00e+00 |     0 |\n",
       "| \"ZBED1\"   |    25 | 1.93e+03 | 0.00e+00 |     0 |\n",
       "| \"ZNF629\"  |     1 | 1.80e-18 | 0.00e+00 |     0 |\n",
       "| \"SLC25A6\" |    11 | 7.96e+02 | 2.19e-07 |     0 |\n",
       "| \"PPP2R3B\" |     3 | 4.30e+02 | 3.42e-07 |     0 |\n",
       "| \"NKAP\"    |     1 | 1.05e+03 | 3.82e-07 |     0 |\n",
       "| \"KANK1\"   |    98 | 3.86e+03 | 1.31e-06 |     0 |\n",
       "| \"BARX1\"   |    10 | 9.14e+02 | 2.25e-06 |     0 |\n",
       "| \"RPL39\"   |     2 | 1.26e+02 | 1.31e-05 |     0 |\n",
       "| \"PLCXD1\"  |    18 | 1.01e+03 | 1.58e-05 |     0 |\n",
       "| \"NEK10\"   |    53 | 1.69e+03 | 2.19e-05 |     0 |\n",
       "| \"FDCSP\"   |    14 | 6.29e+02 | 2.75e-05 |     0 |\n",
       "| \"SEPTIN7\" |    27 | 1.85e+03 | 2.94e-05 |     0 |\n",
       "| \"CCDC71L\" |     8 | 8.81e+02 | 3.17e-05 |     0 |\n",
       "+-----------+-------+----------+----------+-------+\n",
       "showing top 20 rows"
      ]
     },
     "metadata": {},
     "output_type": "display_data"
    },
    {
     "name": "stderr",
     "output_type": "stream",
     "text": [
      "2023-08-27 21:58:39.936 Hail: INFO: Ordering unsorted dataset with network shuffle\n",
      "/net/pr2/projects/plgrid/plggneuromol/imdik-zekanowski-gts/venv-hail-0.2.113/lib/python3.10/site-packages/bokeh/models/sources.py:235: FutureWarning: iteritems is deprecated and will be removed in a future version. Use .items instead.\n",
      "  tmp_data = {c: v.values for c, v in _df.iteritems()}\n",
      "2023-08-27 21:58:43.413 Hail: INFO: Ordering unsorted dataset with network shuffle\n"
     ]
    },
    {
     "data": {
      "text/html": [
       "\n",
       "\n",
       "\n",
       "\n",
       "\n",
       "\n",
       "  <div class=\"bk-root\" id=\"8242caa4-1c47-4f10-aa15-a95b6cd38e38\" data-root-id=\"1735\"></div>\n"
      ]
     },
     "metadata": {},
     "output_type": "display_data"
    },
    {
     "data": {
      "application/javascript": [
       "(function(root) {\n",
       "  function embed_document(root) {\n",
       "    \n",
       "  var docs_json = {\"c3c2e409-10df-4ed6-8144-489d1708e5e1\":{\"roots\":{\"references\":[{\"attributes\":{\"below\":[{\"id\":\"1746\",\"type\":\"LinearAxis\"}],\"center\":[{\"id\":\"1750\",\"type\":\"Grid\"},{\"id\":\"1755\",\"type\":\"Grid\"},{\"id\":\"1779\",\"type\":\"Slope\"},{\"id\":\"1780\",\"type\":\"Label\"}],\"left\":[{\"id\":\"1751\",\"type\":\"LinearAxis\"}],\"plot_height\":800,\"plot_width\":800,\"renderers\":[{\"id\":\"1775\",\"type\":\"GlyphRenderer\"}],\"title\":{\"id\":\"1736\",\"type\":\"Title\"},\"toolbar\":{\"id\":\"1762\",\"type\":\"Toolbar\"},\"x_range\":{\"id\":\"1777\",\"type\":\"DataRange1d\"},\"x_scale\":{\"id\":\"1742\",\"type\":\"LinearScale\"},\"y_range\":{\"id\":\"1778\",\"type\":\"DataRange1d\"},\"y_scale\":{\"id\":\"1744\",\"type\":\"LinearScale\"}},\"id\":\"1735\",\"subtype\":\"Figure\",\"type\":\"Plot\"},{\"attributes\":{},\"id\":\"1759\",\"type\":\"SaveTool\"},{\"attributes\":{\"ticker\":{\"id\":\"1747\",\"type\":\"BasicTicker\"}},\"id\":\"1750\",\"type\":\"Grid\"},{\"attributes\":{\"callback\":null,\"tooltips\":[[\"x\",\"@x\"],[\"y\",\"@y\"],[\"p_value\",\"@p_value\"]]},\"id\":\"1770\",\"type\":\"HoverTool\"},{\"attributes\":{\"callback\":null,\"end\":null,\"start\":0},\"id\":\"1778\",\"type\":\"DataRange1d\"},{\"attributes\":{},\"id\":\"1744\",\"type\":\"LinearScale\"},{\"attributes\":{\"callback\":null,\"end\":null,\"start\":0},\"id\":\"1777\",\"type\":\"DataRange1d\"},{\"attributes\":{\"callback\":null,\"data\":{\"index\":[0,1,2,3,4,5,6,7,8,9,10,11,12,13,14,15,16,17,18,19,20,21,22,23,24,25,26,27,28,29,30,31,32,33,34,35,36,37,38,39,40,41,42,43,44,45,46,47,48,49,50,51,52,53,54,55,56,57,58,59,60,61,62,63,64,65,66,67,68,69,70,71,72,73,74,75,76,77,78,79,80,81,82,83,84,85,86,87,88,89,90,91,92,93,94,95,96,97,98,99,100,101,102,103,104,105,106,107,108,109,110,111,112,113,114,115,116,117,118,119,120,121,122,123,124,125,126,127,128,129,130,131,132,133,134,135,136,137,138,139,140,141,142,143,144,145,146,147,148,149,150,151,152,153,154,155,156,157,158,159,160,161,162,163,164,165,166,167,168,169,170,171,172,173,174,175,176,177,178,179,180,181,182,183,184,185,186,187,188,189,190,191,192,193,194,195,196,197,198,199,200,201,202,203,204,205,206,207,208,209,210,211,212,213,214,215,216,217,218,219,220,221,222,223,224,225,226,227,228,229,230,231,232,233,234,235,236,237,238,239,240,241,242,243,244,245,246,247,248,249,250,251,252,253,254,255,256,257,258,259,260,261,262,263,264,265,266,267,268,269,270,271,272,273,274,275,276,277,278,279,280,281,282,283,284,285,286,287,288,289,290,291,292,293,294,295,296,297,298,299,300,301,302,303,304,305,306,307,308,309,310,311,312,313,314,315,316,317,318,319,320,321,322,323,324,325,326,327,328,329,330,331,332,333,334,335,336,337,338,339,340,341,342,343,344,345,346,347,348,349,350,351,352,353,354,355,356,357,358,359,360,361,362,363,364,365,366,367,368,369,370,371,372,373,374,375,376,377,378,379,380,381,382,383,384,385,386,387,388,389,390,391,392,393,394,395,396,397,398,399,400,401,402,403,404,405,406,407,408,409,410,411,412,413,414,415,416,417,418,419,420,421,422,423,424,425,426,427,428,429,430,431,432,433,434,435,436,437,438,439,440,441,442,443,444,445,446,447,448,449,450,451,452,453,454,455,456,457,458,459,460,461,462,463,464,465,466,467,468,469,470,471,472,473,474,475,476,477,478,479,480,481,482,483,484,485,486,487,488,489,490,491,492,493,494,495,496,497,498,499,500,501,502,503,504,505,506,507,508,509,510,511,512,513,514,515,516,517,518,519,520,521,522,523,524,525,526,527,528,529,530,531,532,533,534,535,536,537,538,539,540,541,542,543,544,545,546,547,548,549,550,551,552,553,554],\"p_value\":{\"__ndarray__\":\"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\",\"dtype\":\"float64\",\"shape\":[555]},\"x\":{\"__ndarray__\":\"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\",\"dtype\":\"float64\",\"shape\":[555]},\"y\":{\"__ndarray__\":\"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\",\"dtype\":\"float64\",\"shape\":[555]}},\"selected\":{\"id\":\"1835\",\"type\":\"Selection\"},\"selection_policy\":{\"id\":\"1836\",\"type\":\"UnionRenderers\"}},\"id\":\"1771\",\"type\":\"ColumnDataSource\"},{\"attributes\":{\"fill_alpha\":{\"value\":0.1},\"fill_color\":{\"value\":\"#1f77b4\"},\"line_alpha\":{\"value\":0.1},\"line_color\":{\"value\":\"#1f77b4\"},\"size\":{\"units\":\"screen\",\"value\":6},\"x\":{\"field\":\"x\"},\"y\":{\"field\":\"y\"}},\"id\":\"1774\",\"type\":\"Circle\"},{\"attributes\":{\"dimension\":1,\"ticker\":{\"id\":\"1752\",\"type\":\"BasicTicker\"}},\"id\":\"1755\",\"type\":\"Grid\"},{\"attributes\":{},\"id\":\"1830\",\"type\":\"BasicTickFormatter\"},{\"attributes\":{},\"id\":\"1757\",\"type\":\"WheelZoomTool\"},{\"attributes\":{\"text\":\"\\u03bb GC: 1.38\",\"text_color\":{\"value\":\"red\"},\"text_font_size\":{\"value\":\"14pt\"},\"text_font_style\":\"bold\",\"x\":null,\"y\":1},\"id\":\"1780\",\"type\":\"Label\"},{\"attributes\":{},\"id\":\"1760\",\"type\":\"ResetTool\"},{\"attributes\":{},\"id\":\"1832\",\"type\":\"BasicTickFormatter\"},{\"attributes\":{},\"id\":\"1836\",\"type\":\"UnionRenderers\"},{\"attributes\":{},\"id\":\"1752\",\"type\":\"BasicTicker\"},{\"attributes\":{},\"id\":\"1835\",\"type\":\"Selection\"},{\"attributes\":{},\"id\":\"1742\",\"type\":\"LinearScale\"},{\"attributes\":{\"source\":{\"id\":\"1771\",\"type\":\"ColumnDataSource\"}},\"id\":\"1776\",\"type\":\"CDSView\"},{\"attributes\":{},\"id\":\"1761\",\"type\":\"HelpTool\"},{\"attributes\":{\"gradient\":1,\"line_color\":{\"value\":\"red\"},\"y_intercept\":0},\"id\":\"1779\",\"type\":\"Slope\"},{\"attributes\":{\"overlay\":{\"id\":\"1834\",\"type\":\"BoxAnnotation\"}},\"id\":\"1758\",\"type\":\"BoxZoomTool\"},{\"attributes\":{\"data_source\":{\"id\":\"1771\",\"type\":\"ColumnDataSource\"},\"glyph\":{\"id\":\"1773\",\"type\":\"Circle\"},\"hover_glyph\":null,\"muted_glyph\":null,\"nonselection_glyph\":{\"id\":\"1774\",\"type\":\"Circle\"},\"selection_glyph\":null,\"view\":{\"id\":\"1776\",\"type\":\"CDSView\"}},\"id\":\"1775\",\"type\":\"GlyphRenderer\"},{\"attributes\":{\"active_drag\":\"auto\",\"active_inspect\":\"auto\",\"active_multi\":null,\"active_scroll\":\"auto\",\"active_tap\":\"auto\",\"tools\":[{\"id\":\"1756\",\"type\":\"PanTool\"},{\"id\":\"1757\",\"type\":\"WheelZoomTool\"},{\"id\":\"1758\",\"type\":\"BoxZoomTool\"},{\"id\":\"1759\",\"type\":\"SaveTool\"},{\"id\":\"1760\",\"type\":\"ResetTool\"},{\"id\":\"1761\",\"type\":\"HelpTool\"},{\"id\":\"1770\",\"type\":\"HoverTool\"}]},\"id\":\"1762\",\"type\":\"Toolbar\"},{\"attributes\":{\"bottom_units\":\"screen\",\"fill_alpha\":{\"value\":0.5},\"fill_color\":{\"value\":\"lightgrey\"},\"left_units\":\"screen\",\"level\":\"overlay\",\"line_alpha\":{\"value\":1.0},\"line_color\":{\"value\":\"black\"},\"line_dash\":[4,4],\"line_width\":{\"value\":2},\"render_mode\":\"css\",\"right_units\":\"screen\",\"top_units\":\"screen\"},\"id\":\"1834\",\"type\":\"BoxAnnotation\"},{\"attributes\":{\"text\":\"Q-Q plot\"},\"id\":\"1736\",\"type\":\"Title\"},{\"attributes\":{\"axis_label\":\"Expected -log10(p)\",\"formatter\":{\"id\":\"1832\",\"type\":\"BasicTickFormatter\"},\"ticker\":{\"id\":\"1747\",\"type\":\"BasicTicker\"}},\"id\":\"1746\",\"type\":\"LinearAxis\"},{\"attributes\":{},\"id\":\"1756\",\"type\":\"PanTool\"},{\"attributes\":{\"axis_label\":\"Observed -log10(p)\",\"formatter\":{\"id\":\"1830\",\"type\":\"BasicTickFormatter\"},\"ticker\":{\"id\":\"1752\",\"type\":\"BasicTicker\"}},\"id\":\"1751\",\"type\":\"LinearAxis\"},{\"attributes\":{},\"id\":\"1747\",\"type\":\"BasicTicker\"},{\"attributes\":{\"fill_color\":{\"value\":\"#1f77b4\"},\"line_color\":{\"value\":\"#1f77b4\"},\"size\":{\"units\":\"screen\",\"value\":6},\"x\":{\"field\":\"x\"},\"y\":{\"field\":\"y\"}},\"id\":\"1773\",\"type\":\"Circle\"}],\"root_ids\":[\"1735\"]},\"title\":\"Bokeh Application\",\"version\":\"1.4.0\"}};\n",
       "  var render_items = [{\"docid\":\"c3c2e409-10df-4ed6-8144-489d1708e5e1\",\"roots\":{\"1735\":\"8242caa4-1c47-4f10-aa15-a95b6cd38e38\"}}];\n",
       "  root.Bokeh.embed.embed_items_notebook(docs_json, render_items);\n",
       "\n",
       "  }\n",
       "  if (root.Bokeh !== undefined) {\n",
       "    embed_document(root);\n",
       "  } else {\n",
       "    var attempts = 0;\n",
       "    var timer = setInterval(function(root) {\n",
       "      if (root.Bokeh !== undefined) {\n",
       "        clearInterval(timer);\n",
       "        embed_document(root);\n",
       "      } else {\n",
       "        attempts++;\n",
       "        if (attempts > 100) {\n",
       "          clearInterval(timer);\n",
       "          console.log(\"Bokeh: ERROR: Unable to run BokehJS code because BokehJS library is missing\");\n",
       "        }\n",
       "      }\n",
       "    }, 10, root)\n",
       "  }\n",
       "})(window);"
      ],
      "application/vnd.bokehjs_exec.v0+json": ""
     },
     "metadata": {
      "application/vnd.bokehjs_exec.v0+json": {
       "id": "1735"
      }
     },
     "output_type": "display_data"
    },
    {
     "name": "stdout",
     "output_type": "stream",
     "text": [
      "running with 0 PCs and the just subsetet scores\n"
     ]
    },
    {
     "name": "stderr",
     "output_type": "stream",
     "text": [
      "2023-08-27 21:58:53.267 Hail: INFO: Ordering unsorted dataset with network shuffle\n",
      "2023-08-27 21:58:56.690 Hail: INFO: wrote table with 17375 rows in 489 partitions to /localfs/4609352/tmp_hail/persist_tablewZN92wJsG9\n",
      "    Total size: 519.69 KiB\n",
      "    * Rows: 519.68 KiB\n",
      "    * Globals: 11.00 B\n",
      "    * Smallest partition: 25 rows (753.00 B)\n",
      "    * Largest partition:  56 rows (1.73 KiB)\n",
      "2023-08-27 21:58:58.982 Hail: INFO: wrote table with 17375 rows in 489 partitions to /localfs/4609352/skat_table_0_scores_no_filter_parts_3.mt\n",
      "2023-08-27 21:58:59.861 Hail: INFO: Ordering unsorted dataset with network shuffle\n"
     ]
    },
    {
     "data": {
      "text/html": [
       "<table><thead><tr><td style=\"white-space: nowrap; max-width: 500px; overflow: hidden; text-overflow: ellipsis; \" colspan=\"1\"><div style=\"text-align: left;\"></div></td><td style=\"white-space: nowrap; max-width: 500px; overflow: hidden; text-overflow: ellipsis; \" colspan=\"1\"><div style=\"text-align: left;\"></div></td><td style=\"white-space: nowrap; max-width: 500px; overflow: hidden; text-overflow: ellipsis; \" colspan=\"1\"><div style=\"text-align: left;\"></div></td><td style=\"white-space: nowrap; max-width: 500px; overflow: hidden; text-overflow: ellipsis; \" colspan=\"1\"><div style=\"text-align: left;\"></div></td><td style=\"white-space: nowrap; max-width: 500px; overflow: hidden; text-overflow: ellipsis; \" colspan=\"1\"><div style=\"text-align: left;\"></div></td></tr><tr><td style=\"white-space: nowrap; max-width: 500px; overflow: hidden; text-overflow: ellipsis; \" colspan=\"1\"><div style=\"text-align: left;border-bottom: solid 2px #000; padding-bottom: 5px\">id</div></td><td style=\"white-space: nowrap; max-width: 500px; overflow: hidden; text-overflow: ellipsis; \" colspan=\"1\"><div style=\"text-align: left;border-bottom: solid 2px #000; padding-bottom: 5px\">size</div></td><td style=\"white-space: nowrap; max-width: 500px; overflow: hidden; text-overflow: ellipsis; \" colspan=\"1\"><div style=\"text-align: left;border-bottom: solid 2px #000; padding-bottom: 5px\">q_stat</div></td><td style=\"white-space: nowrap; max-width: 500px; overflow: hidden; text-overflow: ellipsis; \" colspan=\"1\"><div style=\"text-align: left;border-bottom: solid 2px #000; padding-bottom: 5px\">p_value</div></td><td style=\"white-space: nowrap; max-width: 500px; overflow: hidden; text-overflow: ellipsis; \" colspan=\"1\"><div style=\"text-align: left;border-bottom: solid 2px #000; padding-bottom: 5px\">fault</div></td></tr><tr><td style=\"white-space: nowrap; max-width: 500px; overflow: hidden; text-overflow: ellipsis; text-align: left;\">str</td><td style=\"white-space: nowrap; max-width: 500px; overflow: hidden; text-overflow: ellipsis; text-align: left;\">int32</td><td style=\"white-space: nowrap; max-width: 500px; overflow: hidden; text-overflow: ellipsis; text-align: left;\">float64</td><td style=\"white-space: nowrap; max-width: 500px; overflow: hidden; text-overflow: ellipsis; text-align: left;\">float64</td><td style=\"white-space: nowrap; max-width: 500px; overflow: hidden; text-overflow: ellipsis; text-align: left;\">int32</td></tr>\n",
       "</thead><tbody><tr><td style=\"white-space: nowrap; max-width: 500px; overflow: hidden; text-overflow: ellipsis; \">&quot;ARSD&quot;</td><td style=\"white-space: nowrap; max-width: 500px; overflow: hidden; text-overflow: ellipsis; \">1</td><td style=\"white-space: nowrap; max-width: 500px; overflow: hidden; text-overflow: ellipsis; \">1.06e-17</td><td style=\"white-space: nowrap; max-width: 500px; overflow: hidden; text-overflow: ellipsis; \">0.00e+00</td><td style=\"white-space: nowrap; max-width: 500px; overflow: hidden; text-overflow: ellipsis; \">0</td></tr>\n",
       "<tr><td style=\"white-space: nowrap; max-width: 500px; overflow: hidden; text-overflow: ellipsis; \">&quot;ASMTL&quot;</td><td style=\"white-space: nowrap; max-width: 500px; overflow: hidden; text-overflow: ellipsis; \">24</td><td style=\"white-space: nowrap; max-width: 500px; overflow: hidden; text-overflow: ellipsis; \">1.03e+03</td><td style=\"white-space: nowrap; max-width: 500px; overflow: hidden; text-overflow: ellipsis; \">0.00e+00</td><td style=\"white-space: nowrap; max-width: 500px; overflow: hidden; text-overflow: ellipsis; \">0</td></tr>\n",
       "<tr><td style=\"white-space: nowrap; max-width: 500px; overflow: hidden; text-overflow: ellipsis; \">&quot;DHRSX&quot;</td><td style=\"white-space: nowrap; max-width: 500px; overflow: hidden; text-overflow: ellipsis; \">69</td><td style=\"white-space: nowrap; max-width: 500px; overflow: hidden; text-overflow: ellipsis; \">3.10e+03</td><td style=\"white-space: nowrap; max-width: 500px; overflow: hidden; text-overflow: ellipsis; \">0.00e+00</td><td style=\"white-space: nowrap; max-width: 500px; overflow: hidden; text-overflow: ellipsis; \">0</td></tr>\n",
       "<tr><td style=\"white-space: nowrap; max-width: 500px; overflow: hidden; text-overflow: ellipsis; \">&quot;EZHIP&quot;</td><td style=\"white-space: nowrap; max-width: 500px; overflow: hidden; text-overflow: ellipsis; \">1</td><td style=\"white-space: nowrap; max-width: 500px; overflow: hidden; text-overflow: ellipsis; \">1.05e-17</td><td style=\"white-space: nowrap; max-width: 500px; overflow: hidden; text-overflow: ellipsis; \">0.00e+00</td><td style=\"white-space: nowrap; max-width: 500px; overflow: hidden; text-overflow: ellipsis; \">0</td></tr>\n",
       "<tr><td style=\"white-space: nowrap; max-width: 500px; overflow: hidden; text-overflow: ellipsis; \">&quot;GTPBP6&quot;</td><td style=\"white-space: nowrap; max-width: 500px; overflow: hidden; text-overflow: ellipsis; \">10</td><td style=\"white-space: nowrap; max-width: 500px; overflow: hidden; text-overflow: ellipsis; \">6.22e+02</td><td style=\"white-space: nowrap; max-width: 500px; overflow: hidden; text-overflow: ellipsis; \">0.00e+00</td><td style=\"white-space: nowrap; max-width: 500px; overflow: hidden; text-overflow: ellipsis; \">0</td></tr>\n",
       "<tr><td style=\"white-space: nowrap; max-width: 500px; overflow: hidden; text-overflow: ellipsis; \">&quot;IL3RA&quot;</td><td style=\"white-space: nowrap; max-width: 500px; overflow: hidden; text-overflow: ellipsis; \">19</td><td style=\"white-space: nowrap; max-width: 500px; overflow: hidden; text-overflow: ellipsis; \">1.17e+03</td><td style=\"white-space: nowrap; max-width: 500px; overflow: hidden; text-overflow: ellipsis; \">0.00e+00</td><td style=\"white-space: nowrap; max-width: 500px; overflow: hidden; text-overflow: ellipsis; \">0</td></tr>\n",
       "<tr><td style=\"white-space: nowrap; max-width: 500px; overflow: hidden; text-overflow: ellipsis; \">&quot;RNF40&quot;</td><td style=\"white-space: nowrap; max-width: 500px; overflow: hidden; text-overflow: ellipsis; \">1</td><td style=\"white-space: nowrap; max-width: 500px; overflow: hidden; text-overflow: ellipsis; \">1.80e-18</td><td style=\"white-space: nowrap; max-width: 500px; overflow: hidden; text-overflow: ellipsis; \">0.00e+00</td><td style=\"white-space: nowrap; max-width: 500px; overflow: hidden; text-overflow: ellipsis; \">0</td></tr>\n",
       "<tr><td style=\"white-space: nowrap; max-width: 500px; overflow: hidden; text-overflow: ellipsis; \">&quot;ZBED1&quot;</td><td style=\"white-space: nowrap; max-width: 500px; overflow: hidden; text-overflow: ellipsis; \">25</td><td style=\"white-space: nowrap; max-width: 500px; overflow: hidden; text-overflow: ellipsis; \">1.93e+03</td><td style=\"white-space: nowrap; max-width: 500px; overflow: hidden; text-overflow: ellipsis; \">0.00e+00</td><td style=\"white-space: nowrap; max-width: 500px; overflow: hidden; text-overflow: ellipsis; \">0</td></tr>\n",
       "<tr><td style=\"white-space: nowrap; max-width: 500px; overflow: hidden; text-overflow: ellipsis; \">&quot;ZNF629&quot;</td><td style=\"white-space: nowrap; max-width: 500px; overflow: hidden; text-overflow: ellipsis; \">1</td><td style=\"white-space: nowrap; max-width: 500px; overflow: hidden; text-overflow: ellipsis; \">1.80e-18</td><td style=\"white-space: nowrap; max-width: 500px; overflow: hidden; text-overflow: ellipsis; \">0.00e+00</td><td style=\"white-space: nowrap; max-width: 500px; overflow: hidden; text-overflow: ellipsis; \">0</td></tr>\n",
       "<tr><td style=\"white-space: nowrap; max-width: 500px; overflow: hidden; text-overflow: ellipsis; \">&quot;SLC25A6&quot;</td><td style=\"white-space: nowrap; max-width: 500px; overflow: hidden; text-overflow: ellipsis; \">11</td><td style=\"white-space: nowrap; max-width: 500px; overflow: hidden; text-overflow: ellipsis; \">7.96e+02</td><td style=\"white-space: nowrap; max-width: 500px; overflow: hidden; text-overflow: ellipsis; \">2.19e-07</td><td style=\"white-space: nowrap; max-width: 500px; overflow: hidden; text-overflow: ellipsis; \">0</td></tr>\n",
       "<tr><td style=\"white-space: nowrap; max-width: 500px; overflow: hidden; text-overflow: ellipsis; \">&quot;PPP2R3B&quot;</td><td style=\"white-space: nowrap; max-width: 500px; overflow: hidden; text-overflow: ellipsis; \">3</td><td style=\"white-space: nowrap; max-width: 500px; overflow: hidden; text-overflow: ellipsis; \">4.30e+02</td><td style=\"white-space: nowrap; max-width: 500px; overflow: hidden; text-overflow: ellipsis; \">3.42e-07</td><td style=\"white-space: nowrap; max-width: 500px; overflow: hidden; text-overflow: ellipsis; \">0</td></tr>\n",
       "<tr><td style=\"white-space: nowrap; max-width: 500px; overflow: hidden; text-overflow: ellipsis; \">&quot;NKAP&quot;</td><td style=\"white-space: nowrap; max-width: 500px; overflow: hidden; text-overflow: ellipsis; \">1</td><td style=\"white-space: nowrap; max-width: 500px; overflow: hidden; text-overflow: ellipsis; \">1.05e+03</td><td style=\"white-space: nowrap; max-width: 500px; overflow: hidden; text-overflow: ellipsis; \">3.82e-07</td><td style=\"white-space: nowrap; max-width: 500px; overflow: hidden; text-overflow: ellipsis; \">0</td></tr>\n",
       "<tr><td style=\"white-space: nowrap; max-width: 500px; overflow: hidden; text-overflow: ellipsis; \">&quot;KANK1&quot;</td><td style=\"white-space: nowrap; max-width: 500px; overflow: hidden; text-overflow: ellipsis; \">98</td><td style=\"white-space: nowrap; max-width: 500px; overflow: hidden; text-overflow: ellipsis; \">3.86e+03</td><td style=\"white-space: nowrap; max-width: 500px; overflow: hidden; text-overflow: ellipsis; \">1.31e-06</td><td style=\"white-space: nowrap; max-width: 500px; overflow: hidden; text-overflow: ellipsis; \">0</td></tr>\n",
       "<tr><td style=\"white-space: nowrap; max-width: 500px; overflow: hidden; text-overflow: ellipsis; \">&quot;BARX1&quot;</td><td style=\"white-space: nowrap; max-width: 500px; overflow: hidden; text-overflow: ellipsis; \">10</td><td style=\"white-space: nowrap; max-width: 500px; overflow: hidden; text-overflow: ellipsis; \">9.14e+02</td><td style=\"white-space: nowrap; max-width: 500px; overflow: hidden; text-overflow: ellipsis; \">2.25e-06</td><td style=\"white-space: nowrap; max-width: 500px; overflow: hidden; text-overflow: ellipsis; \">0</td></tr>\n",
       "<tr><td style=\"white-space: nowrap; max-width: 500px; overflow: hidden; text-overflow: ellipsis; \">&quot;RPL39&quot;</td><td style=\"white-space: nowrap; max-width: 500px; overflow: hidden; text-overflow: ellipsis; \">2</td><td style=\"white-space: nowrap; max-width: 500px; overflow: hidden; text-overflow: ellipsis; \">1.26e+02</td><td style=\"white-space: nowrap; max-width: 500px; overflow: hidden; text-overflow: ellipsis; \">1.31e-05</td><td style=\"white-space: nowrap; max-width: 500px; overflow: hidden; text-overflow: ellipsis; \">0</td></tr>\n",
       "<tr><td style=\"white-space: nowrap; max-width: 500px; overflow: hidden; text-overflow: ellipsis; \">&quot;PLCXD1&quot;</td><td style=\"white-space: nowrap; max-width: 500px; overflow: hidden; text-overflow: ellipsis; \">18</td><td style=\"white-space: nowrap; max-width: 500px; overflow: hidden; text-overflow: ellipsis; \">1.01e+03</td><td style=\"white-space: nowrap; max-width: 500px; overflow: hidden; text-overflow: ellipsis; \">1.58e-05</td><td style=\"white-space: nowrap; max-width: 500px; overflow: hidden; text-overflow: ellipsis; \">0</td></tr>\n",
       "<tr><td style=\"white-space: nowrap; max-width: 500px; overflow: hidden; text-overflow: ellipsis; \">&quot;NEK10&quot;</td><td style=\"white-space: nowrap; max-width: 500px; overflow: hidden; text-overflow: ellipsis; \">53</td><td style=\"white-space: nowrap; max-width: 500px; overflow: hidden; text-overflow: ellipsis; \">1.69e+03</td><td style=\"white-space: nowrap; max-width: 500px; overflow: hidden; text-overflow: ellipsis; \">2.19e-05</td><td style=\"white-space: nowrap; max-width: 500px; overflow: hidden; text-overflow: ellipsis; \">0</td></tr>\n",
       "<tr><td style=\"white-space: nowrap; max-width: 500px; overflow: hidden; text-overflow: ellipsis; \">&quot;FDCSP&quot;</td><td style=\"white-space: nowrap; max-width: 500px; overflow: hidden; text-overflow: ellipsis; \">14</td><td style=\"white-space: nowrap; max-width: 500px; overflow: hidden; text-overflow: ellipsis; \">6.29e+02</td><td style=\"white-space: nowrap; max-width: 500px; overflow: hidden; text-overflow: ellipsis; \">2.75e-05</td><td style=\"white-space: nowrap; max-width: 500px; overflow: hidden; text-overflow: ellipsis; \">0</td></tr>\n",
       "<tr><td style=\"white-space: nowrap; max-width: 500px; overflow: hidden; text-overflow: ellipsis; \">&quot;SEPTIN7&quot;</td><td style=\"white-space: nowrap; max-width: 500px; overflow: hidden; text-overflow: ellipsis; \">27</td><td style=\"white-space: nowrap; max-width: 500px; overflow: hidden; text-overflow: ellipsis; \">1.85e+03</td><td style=\"white-space: nowrap; max-width: 500px; overflow: hidden; text-overflow: ellipsis; \">2.94e-05</td><td style=\"white-space: nowrap; max-width: 500px; overflow: hidden; text-overflow: ellipsis; \">0</td></tr>\n",
       "<tr><td style=\"white-space: nowrap; max-width: 500px; overflow: hidden; text-overflow: ellipsis; \">&quot;CCDC71L&quot;</td><td style=\"white-space: nowrap; max-width: 500px; overflow: hidden; text-overflow: ellipsis; \">8</td><td style=\"white-space: nowrap; max-width: 500px; overflow: hidden; text-overflow: ellipsis; \">8.81e+02</td><td style=\"white-space: nowrap; max-width: 500px; overflow: hidden; text-overflow: ellipsis; \">3.17e-05</td><td style=\"white-space: nowrap; max-width: 500px; overflow: hidden; text-overflow: ellipsis; \">0</td></tr>\n",
       "</tbody></table><p style=\"background: #fdd; padding: 0.4em;\">showing top 20 rows</p>\n"
      ],
      "text/plain": [
       "+-----------+-------+----------+----------+-------+\n",
       "| id        |  size |   q_stat |  p_value | fault |\n",
       "+-----------+-------+----------+----------+-------+\n",
       "| str       | int32 |  float64 |  float64 | int32 |\n",
       "+-----------+-------+----------+----------+-------+\n",
       "| \"ARSD\"    |     1 | 1.06e-17 | 0.00e+00 |     0 |\n",
       "| \"ASMTL\"   |    24 | 1.03e+03 | 0.00e+00 |     0 |\n",
       "| \"DHRSX\"   |    69 | 3.10e+03 | 0.00e+00 |     0 |\n",
       "| \"EZHIP\"   |     1 | 1.05e-17 | 0.00e+00 |     0 |\n",
       "| \"GTPBP6\"  |    10 | 6.22e+02 | 0.00e+00 |     0 |\n",
       "| \"IL3RA\"   |    19 | 1.17e+03 | 0.00e+00 |     0 |\n",
       "| \"RNF40\"   |     1 | 1.80e-18 | 0.00e+00 |     0 |\n",
       "| \"ZBED1\"   |    25 | 1.93e+03 | 0.00e+00 |     0 |\n",
       "| \"ZNF629\"  |     1 | 1.80e-18 | 0.00e+00 |     0 |\n",
       "| \"SLC25A6\" |    11 | 7.96e+02 | 2.19e-07 |     0 |\n",
       "| \"PPP2R3B\" |     3 | 4.30e+02 | 3.42e-07 |     0 |\n",
       "| \"NKAP\"    |     1 | 1.05e+03 | 3.82e-07 |     0 |\n",
       "| \"KANK1\"   |    98 | 3.86e+03 | 1.31e-06 |     0 |\n",
       "| \"BARX1\"   |    10 | 9.14e+02 | 2.25e-06 |     0 |\n",
       "| \"RPL39\"   |     2 | 1.26e+02 | 1.31e-05 |     0 |\n",
       "| \"PLCXD1\"  |    18 | 1.01e+03 | 1.58e-05 |     0 |\n",
       "| \"NEK10\"   |    53 | 1.69e+03 | 2.19e-05 |     0 |\n",
       "| \"FDCSP\"   |    14 | 6.29e+02 | 2.75e-05 |     0 |\n",
       "| \"SEPTIN7\" |    27 | 1.85e+03 | 2.94e-05 |     0 |\n",
       "| \"CCDC71L\" |     8 | 8.81e+02 | 3.17e-05 |     0 |\n",
       "+-----------+-------+----------+----------+-------+\n",
       "showing top 20 rows"
      ]
     },
     "metadata": {},
     "output_type": "display_data"
    },
    {
     "name": "stderr",
     "output_type": "stream",
     "text": [
      "2023-08-27 21:59:01.683 Hail: INFO: Ordering unsorted dataset with network shuffle\n",
      "/net/pr2/projects/plgrid/plggneuromol/imdik-zekanowski-gts/venv-hail-0.2.113/lib/python3.10/site-packages/bokeh/models/sources.py:235: FutureWarning: iteritems is deprecated and will be removed in a future version. Use .items instead.\n",
      "  tmp_data = {c: v.values for c, v in _df.iteritems()}\n",
      "2023-08-27 21:59:05.176 Hail: INFO: Ordering unsorted dataset with network shuffle\n"
     ]
    },
    {
     "data": {
      "text/html": [
       "\n",
       "\n",
       "\n",
       "\n",
       "\n",
       "\n",
       "  <div class=\"bk-root\" id=\"fc381d6c-5f5e-4cc7-94d3-bc28e9b80fed\" data-root-id=\"1885\"></div>\n"
      ]
     },
     "metadata": {},
     "output_type": "display_data"
    },
    {
     "data": {
      "application/javascript": [
       "(function(root) {\n",
       "  function embed_document(root) {\n",
       "    \n",
       "  var docs_json = {\"0e96eac2-45a3-4f6a-8c2b-7ba90f4bedf8\":{\"roots\":{\"references\":[{\"attributes\":{\"below\":[{\"id\":\"1896\",\"type\":\"LinearAxis\"}],\"center\":[{\"id\":\"1900\",\"type\":\"Grid\"},{\"id\":\"1905\",\"type\":\"Grid\"},{\"id\":\"1929\",\"type\":\"Slope\"},{\"id\":\"1930\",\"type\":\"Label\"}],\"left\":[{\"id\":\"1901\",\"type\":\"LinearAxis\"}],\"plot_height\":800,\"plot_width\":800,\"renderers\":[{\"id\":\"1925\",\"type\":\"GlyphRenderer\"}],\"title\":{\"id\":\"1886\",\"type\":\"Title\"},\"toolbar\":{\"id\":\"1912\",\"type\":\"Toolbar\"},\"x_range\":{\"id\":\"1927\",\"type\":\"DataRange1d\"},\"x_scale\":{\"id\":\"1892\",\"type\":\"LinearScale\"},\"y_range\":{\"id\":\"1928\",\"type\":\"DataRange1d\"},\"y_scale\":{\"id\":\"1894\",\"type\":\"LinearScale\"}},\"id\":\"1885\",\"subtype\":\"Figure\",\"type\":\"Plot\"},{\"attributes\":{\"active_drag\":\"auto\",\"active_inspect\":\"auto\",\"active_multi\":null,\"active_scroll\":\"auto\",\"active_tap\":\"auto\",\"tools\":[{\"id\":\"1906\",\"type\":\"PanTool\"},{\"id\":\"1907\",\"type\":\"WheelZoomTool\"},{\"id\":\"1908\",\"type\":\"BoxZoomTool\"},{\"id\":\"1909\",\"type\":\"SaveTool\"},{\"id\":\"1910\",\"type\":\"ResetTool\"},{\"id\":\"1911\",\"type\":\"HelpTool\"},{\"id\":\"1920\",\"type\":\"HoverTool\"}]},\"id\":\"1912\",\"type\":\"Toolbar\"},{\"attributes\":{},\"id\":\"1993\",\"type\":\"Selection\"},{\"attributes\":{\"bottom_units\":\"screen\",\"fill_alpha\":{\"value\":0.5},\"fill_color\":{\"value\":\"lightgrey\"},\"left_units\":\"screen\",\"level\":\"overlay\",\"line_alpha\":{\"value\":1.0},\"line_color\":{\"value\":\"black\"},\"line_dash\":[4,4],\"line_width\":{\"value\":2},\"render_mode\":\"css\",\"right_units\":\"screen\",\"top_units\":\"screen\"},\"id\":\"1992\",\"type\":\"BoxAnnotation\"},{\"attributes\":{\"data_source\":{\"id\":\"1921\",\"type\":\"ColumnDataSource\"},\"glyph\":{\"id\":\"1923\",\"type\":\"Circle\"},\"hover_glyph\":null,\"muted_glyph\":null,\"nonselection_glyph\":{\"id\":\"1924\",\"type\":\"Circle\"},\"selection_glyph\":null,\"view\":{\"id\":\"1926\",\"type\":\"CDSView\"}},\"id\":\"1925\",\"type\":\"GlyphRenderer\"},{\"attributes\":{},\"id\":\"1988\",\"type\":\"BasicTickFormatter\"},{\"attributes\":{\"fill_alpha\":{\"value\":0.1},\"fill_color\":{\"value\":\"#1f77b4\"},\"line_alpha\":{\"value\":0.1},\"line_color\":{\"value\":\"#1f77b4\"},\"size\":{\"units\":\"screen\",\"value\":6},\"x\":{\"field\":\"x\"},\"y\":{\"field\":\"y\"}},\"id\":\"1924\",\"type\":\"Circle\"},{\"attributes\":{\"ticker\":{\"id\":\"1897\",\"type\":\"BasicTicker\"}},\"id\":\"1900\",\"type\":\"Grid\"},{\"attributes\":{\"dimension\":1,\"ticker\":{\"id\":\"1902\",\"type\":\"BasicTicker\"}},\"id\":\"1905\",\"type\":\"Grid\"},{\"attributes\":{},\"id\":\"1906\",\"type\":\"PanTool\"},{\"attributes\":{\"callback\":null,\"tooltips\":[[\"x\",\"@x\"],[\"y\",\"@y\"],[\"p_value\",\"@p_value\"]]},\"id\":\"1920\",\"type\":\"HoverTool\"},{\"attributes\":{\"axis_label\":\"Observed -log10(p)\",\"formatter\":{\"id\":\"1988\",\"type\":\"BasicTickFormatter\"},\"ticker\":{\"id\":\"1902\",\"type\":\"BasicTicker\"}},\"id\":\"1901\",\"type\":\"LinearAxis\"},{\"attributes\":{\"callback\":null,\"data\":{\"index\":[0,1,2,3,4,5,6,7,8,9,10,11,12,13,14,15,16,17,18,19,20,21,22,23,24,25,26,27,28,29,30,31,32,33,34,35,36,37,38,39,40,41,42,43,44,45,46,47,48,49,50,51,52,53,54,55,56,57,58,59,60,61,62,63,64,65,66,67,68,69,70,71,72,73,74,75,76,77,78,79,80,81,82,83,84,85,86,87,88,89,90,91,92,93,94,95,96,97,98,99,100,101,102,103,104,105,106,107,108,109,110,111,112,113,114,115,116,117,118,119,120,121,122,123,124,125,126,127,128,129,130,131,132,133,134,135,136,137,138,139,140,141,142,143,144,145,146,147,148,149,150,151,152,153,154,155,156,157,158,159,160,161,162,163,164,165,166,167,168,169,170,171,172,173,174,175,176,177,178,179,180,181,182,183,184,185,186,187,188,189,190,191,192,193,194,195,196,197,198,199,200,201,202,203,204,205,206,207,208,209,210,211,212,213,214,215,216,217,218,219,220,221,222,223,224,225,226,227,228,229,230,231,232,233,234,235,236,237,238,239,240,241,242,243,244,245,246,247,248,249,250,251,252,253,254,255,256,257,258,259,260,261,262,263,264,265,266,267,268,269,270,271,272,273,274,275,276,277,278,279,280,281,282,283,284,285,286,287,288,289,290,291,292,293,294,295,296,297,298,299,300,301,302,303,304,305,306,307,308,309,310,311,312,313,314,315,316,317,318,319,320,321,322,323,324,325,326,327,328,329,330,331,332,333,334,335,336,337,338,339,340,341,342,343,344,345,346,347,348,349,350,351,352,353,354,355,356,357,358,359,360,361,362,363,364,365,366,367,368,369,370,371,372,373,374,375,376,377,378,379,380,381,382,383,384,385,386,387,388,389,390,391,392,393,394,395,396,397,398,399,400,401,402,403,404,405,406,407,408,409,410,411,412,413,414,415,416,417,418,419,420,421,422,423,424,425,426,427,428,429,430,431,432,433,434,435,436,437,438,439,440,441,442,443,444,445,446,447,448,449,450,451,452,453,454,455,456,457,458,459,460,461,462,463,464,465,466,467,468,469,470,471,472,473,474,475,476,477,478,479,480,481,482,483,484,485,486,487,488,489,490,491,492,493,494,495,496,497,498,499,500,501,502,503,504,505,506,507,508,509,510,511,512,513,514,515,516,517,518,519,520,521,522,523,524,525,526,527,528,529,530,531,532,533,534,535,536,537,538,539,540,541,542,543,544,545,546,547,548,549,550,551,552,553,554],\"p_value\":{\"__ndarray__\":\"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\",\"dtype\":\"float64\",\"shape\":[555]},\"x\":{\"__ndarray__\":\"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\",\"dtype\":\"float64\",\"shape\":[555]},\"y\":{\"__ndarray__\":\"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\",\"dtype\":\"float64\",\"shape\":[555]}},\"selected\":{\"id\":\"1993\",\"type\":\"Selection\"},\"selection_policy\":{\"id\":\"1994\",\"type\":\"UnionRenderers\"}},\"id\":\"1921\",\"type\":\"ColumnDataSource\"},{\"attributes\":{},\"id\":\"1910\",\"type\":\"ResetTool\"},{\"attributes\":{},\"id\":\"1897\",\"type\":\"BasicTicker\"},{\"attributes\":{\"callback\":null,\"end\":null,\"start\":0},\"id\":\"1927\",\"type\":\"DataRange1d\"},{\"attributes\":{},\"id\":\"1909\",\"type\":\"SaveTool\"},{\"attributes\":{},\"id\":\"1907\",\"type\":\"WheelZoomTool\"},{\"attributes\":{\"fill_color\":{\"value\":\"#1f77b4\"},\"line_color\":{\"value\":\"#1f77b4\"},\"size\":{\"units\":\"screen\",\"value\":6},\"x\":{\"field\":\"x\"},\"y\":{\"field\":\"y\"}},\"id\":\"1923\",\"type\":\"Circle\"},{\"attributes\":{\"text\":\"\\u03bb GC: 1.43\",\"text_color\":{\"value\":\"red\"},\"text_font_size\":{\"value\":\"14pt\"},\"text_font_style\":\"bold\",\"x\":null,\"y\":1},\"id\":\"1930\",\"type\":\"Label\"},{\"attributes\":{\"text\":\"Q-Q plot\"},\"id\":\"1886\",\"type\":\"Title\"},{\"attributes\":{\"callback\":null,\"end\":null,\"start\":0},\"id\":\"1928\",\"type\":\"DataRange1d\"},{\"attributes\":{},\"id\":\"1902\",\"type\":\"BasicTicker\"},{\"attributes\":{},\"id\":\"1911\",\"type\":\"HelpTool\"},{\"attributes\":{},\"id\":\"1990\",\"type\":\"BasicTickFormatter\"},{\"attributes\":{},\"id\":\"1994\",\"type\":\"UnionRenderers\"},{\"attributes\":{\"axis_label\":\"Expected -log10(p)\",\"formatter\":{\"id\":\"1990\",\"type\":\"BasicTickFormatter\"},\"ticker\":{\"id\":\"1897\",\"type\":\"BasicTicker\"}},\"id\":\"1896\",\"type\":\"LinearAxis\"},{\"attributes\":{\"gradient\":1,\"line_color\":{\"value\":\"red\"},\"y_intercept\":0},\"id\":\"1929\",\"type\":\"Slope\"},{\"attributes\":{\"overlay\":{\"id\":\"1992\",\"type\":\"BoxAnnotation\"}},\"id\":\"1908\",\"type\":\"BoxZoomTool\"},{\"attributes\":{},\"id\":\"1892\",\"type\":\"LinearScale\"},{\"attributes\":{\"source\":{\"id\":\"1921\",\"type\":\"ColumnDataSource\"}},\"id\":\"1926\",\"type\":\"CDSView\"},{\"attributes\":{},\"id\":\"1894\",\"type\":\"LinearScale\"}],\"root_ids\":[\"1885\"]},\"title\":\"Bokeh Application\",\"version\":\"1.4.0\"}};\n",
       "  var render_items = [{\"docid\":\"0e96eac2-45a3-4f6a-8c2b-7ba90f4bedf8\",\"roots\":{\"1885\":\"fc381d6c-5f5e-4cc7-94d3-bc28e9b80fed\"}}];\n",
       "  root.Bokeh.embed.embed_items_notebook(docs_json, render_items);\n",
       "\n",
       "  }\n",
       "  if (root.Bokeh !== undefined) {\n",
       "    embed_document(root);\n",
       "  } else {\n",
       "    var attempts = 0;\n",
       "    var timer = setInterval(function(root) {\n",
       "      if (root.Bokeh !== undefined) {\n",
       "        clearInterval(timer);\n",
       "        embed_document(root);\n",
       "      } else {\n",
       "        attempts++;\n",
       "        if (attempts > 100) {\n",
       "          clearInterval(timer);\n",
       "          console.log(\"Bokeh: ERROR: Unable to run BokehJS code because BokehJS library is missing\");\n",
       "        }\n",
       "      }\n",
       "    }, 10, root)\n",
       "  }\n",
       "})(window);"
      ],
      "application/vnd.bokehjs_exec.v0+json": ""
     },
     "metadata": {
      "application/vnd.bokehjs_exec.v0+json": {
       "id": "1885"
      }
     },
     "output_type": "display_data"
    },
    {
     "name": "stdout",
     "output_type": "stream",
     "text": [
      "running with 1 PCs and the pruned scores option\n",
      "failed PCs 1 pruned scoreseur subset 3\n",
      "<class 'LookupError'>\n",
      "running with 1 PCs and the just subsetet scores\n",
      "failed PCs 1 no filters subseted scoreseur subset 3\n",
      "<class 'LookupError'>\n",
      "running with 2 PCs and the pruned scores option\n",
      "failed PCs 2 pruned scoreseur subset 3\n",
      "<class 'LookupError'>\n",
      "running with 2 PCs and the just subsetet scores\n",
      "failed PCs 2 no filters subseted scoreseur subset 3\n",
      "<class 'LookupError'>\n",
      "running with 3 PCs and the pruned scores option\n",
      "failed PCs 3 pruned scoreseur subset 3\n",
      "<class 'LookupError'>\n",
      "running with 3 PCs and the just subsetet scores\n",
      "failed PCs 3 no filters subseted scoreseur subset 3\n",
      "<class 'LookupError'>\n",
      "running with 4 PCs and the pruned scores option\n",
      "failed PCs 4 pruned scoreseur subset 3\n",
      "<class 'LookupError'>\n",
      "running with 4 PCs and the just subsetet scores\n",
      "failed PCs 4 no filters subseted scoreseur subset 3\n",
      "<class 'LookupError'>\n",
      "running with 5 PCs and the pruned scores option\n",
      "failed PCs 5 pruned scoreseur subset 3\n",
      "<class 'LookupError'>\n",
      "running with 5 PCs and the just subsetet scores\n",
      "failed PCs 5 no filters subseted scoreseur subset 3\n",
      "<class 'LookupError'>\n",
      "running with 6 PCs and the pruned scores option\n",
      "failed PCs 6 pruned scoreseur subset 3\n",
      "<class 'LookupError'>\n",
      "running with 6 PCs and the just subsetet scores\n",
      "failed PCs 6 no filters subseted scoreseur subset 3\n",
      "<class 'LookupError'>\n",
      "running with 7 PCs and the pruned scores option\n",
      "failed PCs 7 pruned scoreseur subset 3\n",
      "<class 'LookupError'>\n",
      "running with 7 PCs and the just subsetet scores\n",
      "failed PCs 7 no filters subseted scoreseur subset 3\n",
      "<class 'LookupError'>\n",
      "running with 8 PCs and the pruned scores option\n",
      "failed PCs 8 pruned scoreseur subset 3\n",
      "<class 'LookupError'>\n",
      "running with 8 PCs and the just subsetet scores\n",
      "failed PCs 8 no filters subseted scoreseur subset 3\n",
      "<class 'LookupError'>\n",
      "running with 9 PCs and the pruned scores option\n",
      "failed PCs 9 pruned scoreseur subset 3\n",
      "<class 'LookupError'>\n",
      "running with 9 PCs and the just subsetet scores\n",
      "failed PCs 9 no filters subseted scoreseur subset 3\n",
      "<class 'LookupError'>\n",
      "running with 10 PCs and the pruned scores option\n",
      "failed PCs 10 pruned scoreseur subset 3\n",
      "<class 'LookupError'>\n",
      "running with 10 PCs and the just subsetet scores\n",
      "failed PCs 10 no filters subseted scoreseur subset 3\n",
      "<class 'LookupError'>\n",
      "running with 11 PCs and the pruned scores option\n",
      "failed PCs 11 pruned scoreseur subset 3\n",
      "<class 'LookupError'>\n",
      "running with 11 PCs and the just subsetet scores\n",
      "failed PCs 11 no filters subseted scoreseur subset 3\n",
      "<class 'LookupError'>\n",
      "running with 12 PCs and the pruned scores option\n",
      "failed PCs 12 pruned scoreseur subset 3\n",
      "<class 'LookupError'>\n",
      "running with 12 PCs and the just subsetet scores\n",
      "failed PCs 12 no filters subseted scoreseur subset 3\n",
      "<class 'LookupError'>\n",
      "running with 13 PCs and the pruned scores option\n",
      "failed PCs 13 pruned scoreseur subset 3\n",
      "<class 'LookupError'>\n",
      "running with 13 PCs and the just subsetet scores\n",
      "failed PCs 13 no filters subseted scoreseur subset 3\n",
      "<class 'LookupError'>\n",
      "running with 14 PCs and the pruned scores option\n",
      "failed PCs 14 pruned scoreseur subset 3\n",
      "<class 'LookupError'>\n",
      "running with 14 PCs and the just subsetet scores\n",
      "failed PCs 14 no filters subseted scoreseur subset 3\n",
      "<class 'LookupError'>\n",
      "running with 15 PCs and the pruned scores option\n",
      "failed PCs 15 pruned scoreseur subset 3\n",
      "<class 'LookupError'>\n",
      "running with 15 PCs and the just subsetet scores\n",
      "failed PCs 15 no filters subseted scoreseur subset 3\n",
      "<class 'LookupError'>\n",
      "running with 16 PCs and the pruned scores option\n",
      "failed PCs 16 pruned scoreseur subset 3\n",
      "<class 'LookupError'>\n",
      "running with 16 PCs and the just subsetet scores\n",
      "failed PCs 16 no filters subseted scoreseur subset 3\n",
      "<class 'LookupError'>\n",
      "running with 17 PCs and the pruned scores option\n",
      "failed PCs 17 pruned scoreseur subset 3\n",
      "<class 'LookupError'>\n",
      "running with 17 PCs and the just subsetet scores\n",
      "failed PCs 17 no filters subseted scoreseur subset 3\n",
      "<class 'LookupError'>\n",
      "running with 18 PCs and the pruned scores option\n",
      "failed PCs 18 pruned scoreseur subset 3\n",
      "<class 'LookupError'>\n",
      "running with 18 PCs and the just subsetet scores\n",
      "failed PCs 18 no filters subseted scoreseur subset 3\n",
      "<class 'LookupError'>\n",
      "running with 19 PCs and the pruned scores option\n",
      "failed PCs 19 pruned scoreseur subset 3\n",
      "<class 'LookupError'>\n",
      "running with 19 PCs and the just subsetet scores\n",
      "failed PCs 19 no filters subseted scoreseur subset 3\n",
      "<class 'LookupError'>\n",
      "running with 20 PCs and the pruned scores option\n",
      "failed PCs 20 pruned scoreseur subset 3\n",
      "<class 'LookupError'>\n",
      "running with 20 PCs and the just subsetet scores\n",
      "failed PCs 20 no filters subseted scoreseur subset 3\n",
      "<class 'LookupError'>\n",
      "running with 0 PCs and the pruned scores option\n"
     ]
    },
    {
     "name": "stderr",
     "output_type": "stream",
     "text": [
      "2023-08-27 21:59:56.191 Hail: INFO: Ordering unsorted dataset with network shuffle\n",
      "2023-08-27 21:59:59.695 Hail: INFO: wrote table with 17366 rows in 489 partitions to /localfs/4609352/tmp_hail/persist_tableaX0oUpz3dA\n",
      "    Total size: 519.16 KiB\n",
      "    * Rows: 519.15 KiB\n",
      "    * Globals: 11.00 B\n",
      "    * Smallest partition: 25 rows (740.00 B)\n",
      "    * Largest partition:  53 rows (1.58 KiB)\n",
      "ERROR:root:KeyboardInterrupt while sending command.            (214 + 12) / 489]\n",
      "Traceback (most recent call last):\n",
      "  File \"/net/pr2/projects/plgrid/plggneuromol/imdik-zekanowski-gts/venv-hail-0.2.113/lib/python3.10/site-packages/py4j/java_gateway.py\", line 1038, in send_command\n",
      "    response = connection.send_command(command)\n",
      "  File \"/net/pr2/projects/plgrid/plggneuromol/imdik-zekanowski-gts/venv-hail-0.2.113/lib/python3.10/site-packages/py4j/clientserver.py\", line 511, in send_command\n",
      "    answer = smart_decode(self.stream.readline()[:-1])\n",
      "  File \"/net/software/testing/software/Python/3.10.4-GCCcore-11.3.0/lib/python3.10/socket.py\", line 705, in readinto\n",
      "    return self._sock.recv_into(b)\n",
      "KeyboardInterrupt\n",
      "[Stage 476:===========================================>        (413 + 12) / 489]\r"
     ]
    },
    {
     "ename": "KeyboardInterrupt",
     "evalue": "",
     "output_type": "error",
     "traceback": [
      "\u001b[0;31m---------------------------------------------------------------------------\u001b[0m",
      "\u001b[0;31mKeyboardInterrupt\u001b[0m                         Traceback (most recent call last)",
      "Cell \u001b[0;32mIn[17], line 1\u001b[0m\n\u001b[0;32m----> 1\u001b[0m skat_tables, plots, options \u001b[38;5;241m=\u001b[39m \u001b[43mrun_skat_for_mts\u001b[49m\u001b[43m(\u001b[49m\u001b[43mmts\u001b[49m\u001b[43m)\u001b[49m\n",
      "File \u001b[0;32m/net/pr2/projects/plgrid/plggneuromol/imdik-zekanowski-gts/preprocessing/oligogenic-model/oligogenic_model.py:774\u001b[0m, in \u001b[0;36mrun_skat_for_mts\u001b[0;34m(mt_list)\u001b[0m\n\u001b[1;32m    771\u001b[0m \u001b[38;5;28;01melse\u001b[39;00m:\n\u001b[1;32m    773\u001b[0m     \u001b[38;5;28;01mtry\u001b[39;00m:\n\u001b[0;32m--> 774\u001b[0m         skat_table, qq_plot \u001b[38;5;241m=\u001b[39m \u001b[43mrun_skat_log\u001b[49m\u001b[43m(\u001b[49m\n\u001b[1;32m    775\u001b[0m \u001b[43m                \u001b[49m\u001b[43mmtx\u001b[49m\u001b[43m,\u001b[49m\n\u001b[1;32m    776\u001b[0m \u001b[43m                \u001b[49m\u001b[43mpc\u001b[49m\u001b[43m,\u001b[49m\n\u001b[1;32m    777\u001b[0m \u001b[43m                \u001b[49m\u001b[38;5;124;43m'\u001b[39;49m\u001b[38;5;124;43mscores_no_filter\u001b[39;49m\u001b[38;5;124;43m'\u001b[39;49m\u001b[43m,\u001b[49m\n\u001b[1;32m    778\u001b[0m \u001b[43m                \u001b[49m\u001b[38;5;124;43m'\u001b[39;49m\u001b[38;5;124;43m_part_\u001b[39;49m\u001b[38;5;124;43m'\u001b[39;49m\u001b[38;5;241;43m+\u001b[39;49m\u001b[38;5;28;43mstr\u001b[39;49m\u001b[43m(\u001b[49m\u001b[43midx\u001b[49m\u001b[43m)\u001b[49m\n\u001b[1;32m    779\u001b[0m \u001b[43m        \u001b[49m\u001b[43m)\u001b[49m\n\u001b[1;32m    781\u001b[0m         skat_tables\u001b[38;5;241m.\u001b[39mappend(skat_table)\n\u001b[1;32m    782\u001b[0m         plots\u001b[38;5;241m.\u001b[39mappend(qq_plot)\n",
      "File \u001b[0;32m/net/pr2/projects/plgrid/plggneuromol/imdik-zekanowski-gts/preprocessing/oligogenic-model/oligogenic_model.py:730\u001b[0m, in \u001b[0;36mrun_skat_log\u001b[0;34m(mtx, pcs, field, suffix)\u001b[0m\n\u001b[1;32m    720\u001b[0m is_male \u001b[38;5;241m=\u001b[39m hl\u001b[38;5;241m.\u001b[39mfloat(mtx\u001b[38;5;241m.\u001b[39msex \u001b[38;5;241m==\u001b[39m \u001b[38;5;124m'\u001b[39m\u001b[38;5;124mM\u001b[39m\u001b[38;5;124m'\u001b[39m)\n\u001b[1;32m    722\u001b[0m skat_table \u001b[38;5;241m=\u001b[39m hl\u001b[38;5;241m.\u001b[39mskat(key_expr\u001b[38;5;241m=\u001b[39mmtx\u001b[38;5;241m.\u001b[39mnearest_genes_20kb,\n\u001b[1;32m    723\u001b[0m                      weight_expr\u001b[38;5;241m=\u001b[39mmtx\u001b[38;5;241m.\u001b[39mcadd\u001b[38;5;241m.\u001b[39mscore_phred,\n\u001b[1;32m    724\u001b[0m                      y\u001b[38;5;241m=\u001b[39m(mtx\u001b[38;5;241m.\u001b[39mgroup \u001b[38;5;241m==\u001b[39m \u001b[38;5;124m'\u001b[39m\u001b[38;5;124mGTS\u001b[39m\u001b[38;5;124m'\u001b[39m),\n\u001b[0;32m   (...)\u001b[0m\n\u001b[1;32m    727\u001b[0m                      max_size \u001b[38;5;241m=\u001b[39m \u001b[38;5;241m2500\u001b[39m,\n\u001b[1;32m    728\u001b[0m                      logistic \u001b[38;5;241m=\u001b[39m \u001b[38;5;28;01mTrue\u001b[39;00m)\n\u001b[0;32m--> 730\u001b[0m skat_table \u001b[38;5;241m=\u001b[39m \u001b[43mskat_table\u001b[49m\u001b[38;5;241;43m.\u001b[39;49m\u001b[43mcheckpoint\u001b[49m\u001b[43m(\u001b[49m\u001b[43mlocalfs_path\u001b[49m\u001b[38;5;241;43m+\u001b[39;49m\u001b[38;5;124;43m'\u001b[39;49m\u001b[38;5;124;43mskat_table_\u001b[39;49m\u001b[38;5;124;43m'\u001b[39;49m\u001b[38;5;241;43m+\u001b[39;49m\u001b[38;5;28;43mstr\u001b[39;49m\u001b[43m(\u001b[49m\u001b[43mpcs\u001b[49m\u001b[43m)\u001b[49m\u001b[38;5;241;43m+\u001b[39;49m\u001b[38;5;124;43m'\u001b[39;49m\u001b[38;5;124;43m_\u001b[39;49m\u001b[38;5;124;43m'\u001b[39;49m\u001b[38;5;241;43m+\u001b[39;49m\u001b[43mfield\u001b[49m\u001b[38;5;241;43m+\u001b[39;49m\u001b[43msuffix\u001b[49m\u001b[38;5;241;43m+\u001b[39;49m\u001b[38;5;124;43m'\u001b[39;49m\u001b[38;5;124;43m.mt\u001b[39;49m\u001b[38;5;124;43m'\u001b[39;49m\u001b[43m)\u001b[49m\n\u001b[1;32m    732\u001b[0m skat_table\u001b[38;5;241m.\u001b[39morder_by(skat_table\u001b[38;5;241m.\u001b[39mp_value)\u001b[38;5;241m.\u001b[39mshow(\u001b[38;5;241m20\u001b[39m)\n\u001b[1;32m    734\u001b[0m qq_plot \u001b[38;5;241m=\u001b[39m hl\u001b[38;5;241m.\u001b[39mplot\u001b[38;5;241m.\u001b[39mqq(\n\u001b[1;32m    735\u001b[0m     skat_table\u001b[38;5;241m.\u001b[39mp_value\n\u001b[1;32m    736\u001b[0m )\n",
      "File \u001b[0;32m<decorator-gen-1118>:2\u001b[0m, in \u001b[0;36mcheckpoint\u001b[0;34m(self, output, overwrite, stage_locally, _codec_spec, _read_if_exists, _intervals, _filter_intervals)\u001b[0m\n",
      "File \u001b[0;32m/net/pr2/projects/plgrid/plggneuromol/imdik-zekanowski-gts/venv-hail-0.2.113/lib/python3.10/site-packages/hail/typecheck/check.py:584\u001b[0m, in \u001b[0;36m_make_dec.<locals>.wrapper\u001b[0;34m(__original_func, *args, **kwargs)\u001b[0m\n\u001b[1;32m    581\u001b[0m \u001b[38;5;129m@decorator\u001b[39m\n\u001b[1;32m    582\u001b[0m \u001b[38;5;28;01mdef\u001b[39;00m \u001b[38;5;21mwrapper\u001b[39m(__original_func, \u001b[38;5;241m*\u001b[39margs, \u001b[38;5;241m*\u001b[39m\u001b[38;5;241m*\u001b[39mkwargs):\n\u001b[1;32m    583\u001b[0m     args_, kwargs_ \u001b[38;5;241m=\u001b[39m check_all(__original_func, args, kwargs, checkers, is_method\u001b[38;5;241m=\u001b[39mis_method)\n\u001b[0;32m--> 584\u001b[0m     \u001b[38;5;28;01mreturn\u001b[39;00m \u001b[43m__original_func\u001b[49m\u001b[43m(\u001b[49m\u001b[38;5;241;43m*\u001b[39;49m\u001b[43margs_\u001b[49m\u001b[43m,\u001b[49m\u001b[43m \u001b[49m\u001b[38;5;241;43m*\u001b[39;49m\u001b[38;5;241;43m*\u001b[39;49m\u001b[43mkwargs_\u001b[49m\u001b[43m)\u001b[49m\n",
      "File \u001b[0;32m/net/pr2/projects/plgrid/plggneuromol/imdik-zekanowski-gts/venv-hail-0.2.113/lib/python3.10/site-packages/hail/table.py:1346\u001b[0m, in \u001b[0;36mTable.checkpoint\u001b[0;34m(self, output, overwrite, stage_locally, _codec_spec, _read_if_exists, _intervals, _filter_intervals)\u001b[0m\n\u001b[1;32m   1330\u001b[0m             _codec_spec \u001b[38;5;241m=\u001b[39m \u001b[38;5;124m\"\"\"\u001b[39m\u001b[38;5;124m{\u001b[39m\n\u001b[1;32m   1331\u001b[0m \u001b[38;5;124m  \u001b[39m\u001b[38;5;124m\"\u001b[39m\u001b[38;5;124mname\u001b[39m\u001b[38;5;124m\"\u001b[39m\u001b[38;5;124m: \u001b[39m\u001b[38;5;124m\"\u001b[39m\u001b[38;5;124mLEB128BufferSpec\u001b[39m\u001b[38;5;124m\"\u001b[39m\u001b[38;5;124m,\u001b[39m\n\u001b[1;32m   1332\u001b[0m \u001b[38;5;124m  \u001b[39m\u001b[38;5;124m\"\u001b[39m\u001b[38;5;124mchild\u001b[39m\u001b[38;5;124m\"\u001b[39m\u001b[38;5;124m: \u001b[39m\u001b[38;5;124m{\u001b[39m\n\u001b[0;32m   (...)\u001b[0m\n\u001b[1;32m   1342\u001b[0m \u001b[38;5;124m  }\u001b[39m\n\u001b[1;32m   1343\u001b[0m \u001b[38;5;124m}\u001b[39m\u001b[38;5;124m\"\"\"\u001b[39m\n\u001b[1;32m   1345\u001b[0m         \u001b[38;5;28;01mif\u001b[39;00m \u001b[38;5;129;01mnot\u001b[39;00m _read_if_exists \u001b[38;5;129;01mor\u001b[39;00m \u001b[38;5;129;01mnot\u001b[39;00m hl\u001b[38;5;241m.\u001b[39mhadoop_exists(\u001b[38;5;124mf\u001b[39m\u001b[38;5;124m'\u001b[39m\u001b[38;5;132;01m{\u001b[39;00moutput\u001b[38;5;132;01m}\u001b[39;00m\u001b[38;5;124m/_SUCCESS\u001b[39m\u001b[38;5;124m'\u001b[39m):\n\u001b[0;32m-> 1346\u001b[0m             \u001b[38;5;28;43mself\u001b[39;49m\u001b[38;5;241;43m.\u001b[39;49m\u001b[43mwrite\u001b[49m\u001b[43m(\u001b[49m\u001b[43moutput\u001b[49m\u001b[38;5;241;43m=\u001b[39;49m\u001b[43moutput\u001b[49m\u001b[43m,\u001b[49m\u001b[43m \u001b[49m\u001b[43moverwrite\u001b[49m\u001b[38;5;241;43m=\u001b[39;49m\u001b[43moverwrite\u001b[49m\u001b[43m,\u001b[49m\u001b[43m \u001b[49m\u001b[43mstage_locally\u001b[49m\u001b[38;5;241;43m=\u001b[39;49m\u001b[43mstage_locally\u001b[49m\u001b[43m,\u001b[49m\u001b[43m \u001b[49m\u001b[43m_codec_spec\u001b[49m\u001b[38;5;241;43m=\u001b[39;49m\u001b[43m_codec_spec\u001b[49m\u001b[43m)\u001b[49m\n\u001b[1;32m   1347\u001b[0m             _assert_type \u001b[38;5;241m=\u001b[39m \u001b[38;5;28mself\u001b[39m\u001b[38;5;241m.\u001b[39m_type\n\u001b[1;32m   1348\u001b[0m             _load_refs \u001b[38;5;241m=\u001b[39m \u001b[38;5;28;01mFalse\u001b[39;00m\n",
      "File \u001b[0;32m<decorator-gen-1120>:2\u001b[0m, in \u001b[0;36mwrite\u001b[0;34m(self, output, overwrite, stage_locally, _codec_spec)\u001b[0m\n",
      "File \u001b[0;32m/net/pr2/projects/plgrid/plggneuromol/imdik-zekanowski-gts/venv-hail-0.2.113/lib/python3.10/site-packages/hail/typecheck/check.py:584\u001b[0m, in \u001b[0;36m_make_dec.<locals>.wrapper\u001b[0;34m(__original_func, *args, **kwargs)\u001b[0m\n\u001b[1;32m    581\u001b[0m \u001b[38;5;129m@decorator\u001b[39m\n\u001b[1;32m    582\u001b[0m \u001b[38;5;28;01mdef\u001b[39;00m \u001b[38;5;21mwrapper\u001b[39m(__original_func, \u001b[38;5;241m*\u001b[39margs, \u001b[38;5;241m*\u001b[39m\u001b[38;5;241m*\u001b[39mkwargs):\n\u001b[1;32m    583\u001b[0m     args_, kwargs_ \u001b[38;5;241m=\u001b[39m check_all(__original_func, args, kwargs, checkers, is_method\u001b[38;5;241m=\u001b[39mis_method)\n\u001b[0;32m--> 584\u001b[0m     \u001b[38;5;28;01mreturn\u001b[39;00m \u001b[43m__original_func\u001b[49m\u001b[43m(\u001b[49m\u001b[38;5;241;43m*\u001b[39;49m\u001b[43margs_\u001b[49m\u001b[43m,\u001b[49m\u001b[43m \u001b[49m\u001b[38;5;241;43m*\u001b[39;49m\u001b[38;5;241;43m*\u001b[39;49m\u001b[43mkwargs_\u001b[49m\u001b[43m)\u001b[49m\n",
      "File \u001b[0;32m/net/pr2/projects/plgrid/plggneuromol/imdik-zekanowski-gts/venv-hail-0.2.113/lib/python3.10/site-packages/hail/table.py:1392\u001b[0m, in \u001b[0;36mTable.write\u001b[0;34m(self, output, overwrite, stage_locally, _codec_spec)\u001b[0m\n\u001b[1;32m   1366\u001b[0m \u001b[38;5;250m\u001b[39m\u001b[38;5;124;03m\"\"\"Write to disk.\u001b[39;00m\n\u001b[1;32m   1367\u001b[0m \n\u001b[1;32m   1368\u001b[0m \u001b[38;5;124;03mExamples\u001b[39;00m\n\u001b[0;32m   (...)\u001b[0m\n\u001b[1;32m   1387\u001b[0m \u001b[38;5;124;03m    If ``True``, overwrite an existing file at the destination.\u001b[39;00m\n\u001b[1;32m   1388\u001b[0m \u001b[38;5;124;03m\"\"\"\u001b[39;00m\n\u001b[1;32m   1390\u001b[0m hl\u001b[38;5;241m.\u001b[39mcurrent_backend()\u001b[38;5;241m.\u001b[39mvalidate_file_scheme(output)\n\u001b[0;32m-> 1392\u001b[0m \u001b[43mEnv\u001b[49m\u001b[38;5;241;43m.\u001b[39;49m\u001b[43mbackend\u001b[49m\u001b[43m(\u001b[49m\u001b[43m)\u001b[49m\u001b[38;5;241;43m.\u001b[39;49m\u001b[43mexecute\u001b[49m\u001b[43m(\u001b[49m\u001b[43mir\u001b[49m\u001b[38;5;241;43m.\u001b[39;49m\u001b[43mTableWrite\u001b[49m\u001b[43m(\u001b[49m\u001b[38;5;28;43mself\u001b[39;49m\u001b[38;5;241;43m.\u001b[39;49m\u001b[43m_tir\u001b[49m\u001b[43m,\u001b[49m\u001b[43m \u001b[49m\u001b[43mir\u001b[49m\u001b[38;5;241;43m.\u001b[39;49m\u001b[43mTableNativeWriter\u001b[49m\u001b[43m(\u001b[49m\u001b[43moutput\u001b[49m\u001b[43m,\u001b[49m\u001b[43m \u001b[49m\u001b[43moverwrite\u001b[49m\u001b[43m,\u001b[49m\u001b[43m \u001b[49m\u001b[43mstage_locally\u001b[49m\u001b[43m,\u001b[49m\u001b[43m \u001b[49m\u001b[43m_codec_spec\u001b[49m\u001b[43m)\u001b[49m\u001b[43m)\u001b[49m\u001b[43m)\u001b[49m\n",
      "File \u001b[0;32m/net/pr2/projects/plgrid/plggneuromol/imdik-zekanowski-gts/venv-hail-0.2.113/lib/python3.10/site-packages/hail/backend/py4j_backend.py:76\u001b[0m, in \u001b[0;36mPy4JBackend.execute\u001b[0;34m(self, ir, timed)\u001b[0m\n\u001b[1;32m     74\u001b[0m \u001b[38;5;66;03m# print(self._hail_package.expr.ir.Pretty.apply(jir, True, -1))\u001b[39;00m\n\u001b[1;32m     75\u001b[0m \u001b[38;5;28;01mtry\u001b[39;00m:\n\u001b[0;32m---> 76\u001b[0m     result_tuple \u001b[38;5;241m=\u001b[39m \u001b[38;5;28;43mself\u001b[39;49m\u001b[38;5;241;43m.\u001b[39;49m\u001b[43m_jbackend\u001b[49m\u001b[38;5;241;43m.\u001b[39;49m\u001b[43mexecuteEncode\u001b[49m\u001b[43m(\u001b[49m\u001b[43mjir\u001b[49m\u001b[43m,\u001b[49m\u001b[43m \u001b[49m\u001b[43mstream_codec\u001b[49m\u001b[43m,\u001b[49m\u001b[43m \u001b[49m\u001b[43mtimed\u001b[49m\u001b[43m)\u001b[49m\n\u001b[1;32m     77\u001b[0m     (result, timings) \u001b[38;5;241m=\u001b[39m (result_tuple\u001b[38;5;241m.\u001b[39m_1(), result_tuple\u001b[38;5;241m.\u001b[39m_2())\n\u001b[1;32m     78\u001b[0m     value \u001b[38;5;241m=\u001b[39m ir\u001b[38;5;241m.\u001b[39mtyp\u001b[38;5;241m.\u001b[39m_from_encoding(result)\n",
      "File \u001b[0;32m/net/pr2/projects/plgrid/plggneuromol/imdik-zekanowski-gts/venv-hail-0.2.113/lib/python3.10/site-packages/py4j/java_gateway.py:1320\u001b[0m, in \u001b[0;36mJavaMember.__call__\u001b[0;34m(self, *args)\u001b[0m\n\u001b[1;32m   1313\u001b[0m args_command, temp_args \u001b[38;5;241m=\u001b[39m \u001b[38;5;28mself\u001b[39m\u001b[38;5;241m.\u001b[39m_build_args(\u001b[38;5;241m*\u001b[39margs)\n\u001b[1;32m   1315\u001b[0m command \u001b[38;5;241m=\u001b[39m proto\u001b[38;5;241m.\u001b[39mCALL_COMMAND_NAME \u001b[38;5;241m+\u001b[39m\\\n\u001b[1;32m   1316\u001b[0m     \u001b[38;5;28mself\u001b[39m\u001b[38;5;241m.\u001b[39mcommand_header \u001b[38;5;241m+\u001b[39m\\\n\u001b[1;32m   1317\u001b[0m     args_command \u001b[38;5;241m+\u001b[39m\\\n\u001b[1;32m   1318\u001b[0m     proto\u001b[38;5;241m.\u001b[39mEND_COMMAND_PART\n\u001b[0;32m-> 1320\u001b[0m answer \u001b[38;5;241m=\u001b[39m \u001b[38;5;28;43mself\u001b[39;49m\u001b[38;5;241;43m.\u001b[39;49m\u001b[43mgateway_client\u001b[49m\u001b[38;5;241;43m.\u001b[39;49m\u001b[43msend_command\u001b[49m\u001b[43m(\u001b[49m\u001b[43mcommand\u001b[49m\u001b[43m)\u001b[49m\n\u001b[1;32m   1321\u001b[0m return_value \u001b[38;5;241m=\u001b[39m get_return_value(\n\u001b[1;32m   1322\u001b[0m     answer, \u001b[38;5;28mself\u001b[39m\u001b[38;5;241m.\u001b[39mgateway_client, \u001b[38;5;28mself\u001b[39m\u001b[38;5;241m.\u001b[39mtarget_id, \u001b[38;5;28mself\u001b[39m\u001b[38;5;241m.\u001b[39mname)\n\u001b[1;32m   1324\u001b[0m \u001b[38;5;28;01mfor\u001b[39;00m temp_arg \u001b[38;5;129;01min\u001b[39;00m temp_args:\n",
      "File \u001b[0;32m/net/pr2/projects/plgrid/plggneuromol/imdik-zekanowski-gts/venv-hail-0.2.113/lib/python3.10/site-packages/py4j/java_gateway.py:1038\u001b[0m, in \u001b[0;36mGatewayClient.send_command\u001b[0;34m(self, command, retry, binary)\u001b[0m\n\u001b[1;32m   1036\u001b[0m connection \u001b[38;5;241m=\u001b[39m \u001b[38;5;28mself\u001b[39m\u001b[38;5;241m.\u001b[39m_get_connection()\n\u001b[1;32m   1037\u001b[0m \u001b[38;5;28;01mtry\u001b[39;00m:\n\u001b[0;32m-> 1038\u001b[0m     response \u001b[38;5;241m=\u001b[39m \u001b[43mconnection\u001b[49m\u001b[38;5;241;43m.\u001b[39;49m\u001b[43msend_command\u001b[49m\u001b[43m(\u001b[49m\u001b[43mcommand\u001b[49m\u001b[43m)\u001b[49m\n\u001b[1;32m   1039\u001b[0m     \u001b[38;5;28;01mif\u001b[39;00m binary:\n\u001b[1;32m   1040\u001b[0m         \u001b[38;5;28;01mreturn\u001b[39;00m response, \u001b[38;5;28mself\u001b[39m\u001b[38;5;241m.\u001b[39m_create_connection_guard(connection)\n",
      "File \u001b[0;32m/net/pr2/projects/plgrid/plggneuromol/imdik-zekanowski-gts/venv-hail-0.2.113/lib/python3.10/site-packages/py4j/clientserver.py:511\u001b[0m, in \u001b[0;36mClientServerConnection.send_command\u001b[0;34m(self, command)\u001b[0m\n\u001b[1;32m    509\u001b[0m \u001b[38;5;28;01mtry\u001b[39;00m:\n\u001b[1;32m    510\u001b[0m     \u001b[38;5;28;01mwhile\u001b[39;00m \u001b[38;5;28;01mTrue\u001b[39;00m:\n\u001b[0;32m--> 511\u001b[0m         answer \u001b[38;5;241m=\u001b[39m smart_decode(\u001b[38;5;28;43mself\u001b[39;49m\u001b[38;5;241;43m.\u001b[39;49m\u001b[43mstream\u001b[49m\u001b[38;5;241;43m.\u001b[39;49m\u001b[43mreadline\u001b[49m\u001b[43m(\u001b[49m\u001b[43m)\u001b[49m[:\u001b[38;5;241m-\u001b[39m\u001b[38;5;241m1\u001b[39m])\n\u001b[1;32m    512\u001b[0m         logger\u001b[38;5;241m.\u001b[39mdebug(\u001b[38;5;124m\"\u001b[39m\u001b[38;5;124mAnswer received: \u001b[39m\u001b[38;5;132;01m{0}\u001b[39;00m\u001b[38;5;124m\"\u001b[39m\u001b[38;5;241m.\u001b[39mformat(answer))\n\u001b[1;32m    513\u001b[0m         \u001b[38;5;66;03m# Happens when a the other end is dead. There might be an empty\u001b[39;00m\n\u001b[1;32m    514\u001b[0m         \u001b[38;5;66;03m# answer before the socket raises an error.\u001b[39;00m\n",
      "File \u001b[0;32m/net/software/testing/software/Python/3.10.4-GCCcore-11.3.0/lib/python3.10/socket.py:705\u001b[0m, in \u001b[0;36mSocketIO.readinto\u001b[0;34m(self, b)\u001b[0m\n\u001b[1;32m    703\u001b[0m \u001b[38;5;28;01mwhile\u001b[39;00m \u001b[38;5;28;01mTrue\u001b[39;00m:\n\u001b[1;32m    704\u001b[0m     \u001b[38;5;28;01mtry\u001b[39;00m:\n\u001b[0;32m--> 705\u001b[0m         \u001b[38;5;28;01mreturn\u001b[39;00m \u001b[38;5;28;43mself\u001b[39;49m\u001b[38;5;241;43m.\u001b[39;49m\u001b[43m_sock\u001b[49m\u001b[38;5;241;43m.\u001b[39;49m\u001b[43mrecv_into\u001b[49m\u001b[43m(\u001b[49m\u001b[43mb\u001b[49m\u001b[43m)\u001b[49m\n\u001b[1;32m    706\u001b[0m     \u001b[38;5;28;01mexcept\u001b[39;00m timeout:\n\u001b[1;32m    707\u001b[0m         \u001b[38;5;28mself\u001b[39m\u001b[38;5;241m.\u001b[39m_timeout_occurred \u001b[38;5;241m=\u001b[39m \u001b[38;5;28;01mTrue\u001b[39;00m\n",
      "\u001b[0;31mKeyboardInterrupt\u001b[0m: "
     ]
    },
    {
     "name": "stderr",
     "output_type": "stream",
     "text": [
      "2023-08-27 22:00:01.958 Hail: INFO: wrote table with 17366 rows in 489 partitions to /localfs/4609352/skat_table_0_scores_no_filter_part_4.mt\n"
     ]
    }
   ],
   "source": [
    "skat_tables, plots, options = run_skat_for_mts(mts)"
   ]
  },
  {
   "cell_type": "code",
   "execution_count": 20,
   "id": "f609c606-386d-43d6-ac79-7e5c5c2eee6a",
   "metadata": {
    "tags": []
   },
   "outputs": [
    {
     "name": "stdout",
     "output_type": "stream",
     "text": [
      "skat_table_0_scores_0.mt\n",
      "1.4066690564224429\n"
     ]
    },
    {
     "name": "stderr",
     "output_type": "stream",
     "text": [
      "2023-08-28 09:01:08.643 Hail: INFO: Ordering unsorted dataset with network shuffle\n",
      "/net/pr2/projects/plgrid/plggneuromol/imdik-zekanowski-gts/venv-hail-0.2.113/lib/python3.10/site-packages/bokeh/models/sources.py:235: FutureWarning: iteritems is deprecated and will be removed in a future version. Use .items instead.\n",
      "  tmp_data = {c: v.values for c, v in _df.iteritems()}\n",
      "2023-08-28 09:01:12.300 Hail: INFO: Ordering unsorted dataset with network shuffle\n"
     ]
    },
    {
     "data": {
      "text/html": [
       "\n",
       "\n",
       "\n",
       "\n",
       "\n",
       "\n",
       "  <div class=\"bk-root\" id=\"6517926c-1e1a-46bf-a1f9-4997010cf241\" data-root-id=\"2566\"></div>\n"
      ]
     },
     "metadata": {},
     "output_type": "display_data"
    },
    {
     "data": {
      "application/javascript": [
       "(function(root) {\n",
       "  function embed_document(root) {\n",
       "    \n",
       "  var docs_json = {\"0586f81e-5f63-4935-a7dc-e092fd9b5a6b\":{\"roots\":{\"references\":[{\"attributes\":{\"below\":[{\"id\":\"2577\",\"type\":\"LinearAxis\"}],\"center\":[{\"id\":\"2581\",\"type\":\"Grid\"},{\"id\":\"2586\",\"type\":\"Grid\"},{\"id\":\"2610\",\"type\":\"Slope\"},{\"id\":\"2611\",\"type\":\"Label\"}],\"left\":[{\"id\":\"2582\",\"type\":\"LinearAxis\"}],\"plot_height\":800,\"plot_width\":800,\"renderers\":[{\"id\":\"2606\",\"type\":\"GlyphRenderer\"}],\"title\":{\"id\":\"2567\",\"type\":\"Title\"},\"toolbar\":{\"id\":\"2593\",\"type\":\"Toolbar\"},\"x_range\":{\"id\":\"2608\",\"type\":\"DataRange1d\"},\"x_scale\":{\"id\":\"2573\",\"type\":\"LinearScale\"},\"y_range\":{\"id\":\"2609\",\"type\":\"DataRange1d\"},\"y_scale\":{\"id\":\"2575\",\"type\":\"LinearScale\"}},\"id\":\"2566\",\"subtype\":\"Figure\",\"type\":\"Plot\"},{\"attributes\":{\"axis_label\":\"Observed -log10(p)\",\"formatter\":{\"id\":\"2701\",\"type\":\"BasicTickFormatter\"},\"ticker\":{\"id\":\"2583\",\"type\":\"BasicTicker\"}},\"id\":\"2582\",\"type\":\"LinearAxis\"},{\"attributes\":{},\"id\":\"2575\",\"type\":\"LinearScale\"},{\"attributes\":{},\"id\":\"2590\",\"type\":\"SaveTool\"},{\"attributes\":{},\"id\":\"2701\",\"type\":\"BasicTickFormatter\"},{\"attributes\":{\"bottom_units\":\"screen\",\"fill_alpha\":{\"value\":0.5},\"fill_color\":{\"value\":\"lightgrey\"},\"left_units\":\"screen\",\"level\":\"overlay\",\"line_alpha\":{\"value\":1.0},\"line_color\":{\"value\":\"black\"},\"line_dash\":[4,4],\"line_width\":{\"value\":2},\"render_mode\":\"css\",\"right_units\":\"screen\",\"top_units\":\"screen\"},\"id\":\"2705\",\"type\":\"BoxAnnotation\"},{\"attributes\":{\"axis_label\":\"Expected -log10(p)\",\"formatter\":{\"id\":\"2703\",\"type\":\"BasicTickFormatter\"},\"ticker\":{\"id\":\"2578\",\"type\":\"BasicTicker\"}},\"id\":\"2577\",\"type\":\"LinearAxis\"},{\"attributes\":{},\"id\":\"2578\",\"type\":\"BasicTicker\"},{\"attributes\":{},\"id\":\"2587\",\"type\":\"PanTool\"},{\"attributes\":{},\"id\":\"2706\",\"type\":\"Selection\"},{\"attributes\":{\"callback\":null,\"tooltips\":[[\"x\",\"@x\"],[\"y\",\"@y\"],[\"p_value\",\"@p_value\"]]},\"id\":\"2601\",\"type\":\"HoverTool\"},{\"attributes\":{\"fill_alpha\":{\"value\":0.1},\"fill_color\":{\"value\":\"#1f77b4\"},\"line_alpha\":{\"value\":0.1},\"line_color\":{\"value\":\"#1f77b4\"},\"size\":{\"units\":\"screen\",\"value\":6},\"x\":{\"field\":\"x\"},\"y\":{\"field\":\"y\"}},\"id\":\"2605\",\"type\":\"Circle\"},{\"attributes\":{},\"id\":\"2592\",\"type\":\"HelpTool\"},{\"attributes\":{},\"id\":\"2573\",\"type\":\"LinearScale\"},{\"attributes\":{\"callback\":null,\"end\":null,\"start\":0},\"id\":\"2608\",\"type\":\"DataRange1d\"},{\"attributes\":{},\"id\":\"2591\",\"type\":\"ResetTool\"},{\"attributes\":{\"source\":{\"id\":\"2602\",\"type\":\"ColumnDataSource\"}},\"id\":\"2607\",\"type\":\"CDSView\"},{\"attributes\":{\"callback\":null,\"end\":null,\"start\":0},\"id\":\"2609\",\"type\":\"DataRange1d\"},{\"attributes\":{\"dimension\":1,\"ticker\":{\"id\":\"2583\",\"type\":\"BasicTicker\"}},\"id\":\"2586\",\"type\":\"Grid\"},{\"attributes\":{\"ticker\":{\"id\":\"2578\",\"type\":\"BasicTicker\"}},\"id\":\"2581\",\"type\":\"Grid\"},{\"attributes\":{\"fill_color\":{\"value\":\"#1f77b4\"},\"line_color\":{\"value\":\"#1f77b4\"},\"size\":{\"units\":\"screen\",\"value\":6},\"x\":{\"field\":\"x\"},\"y\":{\"field\":\"y\"}},\"id\":\"2604\",\"type\":\"Circle\"},{\"attributes\":{},\"id\":\"2707\",\"type\":\"UnionRenderers\"},{\"attributes\":{},\"id\":\"2588\",\"type\":\"WheelZoomTool\"},{\"attributes\":{},\"id\":\"2703\",\"type\":\"BasicTickFormatter\"},{\"attributes\":{},\"id\":\"2583\",\"type\":\"BasicTicker\"},{\"attributes\":{\"text\":\"Q-Q plot\"},\"id\":\"2567\",\"type\":\"Title\"},{\"attributes\":{\"overlay\":{\"id\":\"2705\",\"type\":\"BoxAnnotation\"}},\"id\":\"2589\",\"type\":\"BoxZoomTool\"},{\"attributes\":{\"active_drag\":\"auto\",\"active_inspect\":\"auto\",\"active_multi\":null,\"active_scroll\":\"auto\",\"active_tap\":\"auto\",\"tools\":[{\"id\":\"2587\",\"type\":\"PanTool\"},{\"id\":\"2588\",\"type\":\"WheelZoomTool\"},{\"id\":\"2589\",\"type\":\"BoxZoomTool\"},{\"id\":\"2590\",\"type\":\"SaveTool\"},{\"id\":\"2591\",\"type\":\"ResetTool\"},{\"id\":\"2592\",\"type\":\"HelpTool\"},{\"id\":\"2601\",\"type\":\"HoverTool\"}]},\"id\":\"2593\",\"type\":\"Toolbar\"},{\"attributes\":{\"gradient\":1,\"line_color\":{\"value\":\"red\"},\"y_intercept\":0},\"id\":\"2610\",\"type\":\"Slope\"},{\"attributes\":{\"data_source\":{\"id\":\"2602\",\"type\":\"ColumnDataSource\"},\"glyph\":{\"id\":\"2604\",\"type\":\"Circle\"},\"hover_glyph\":null,\"muted_glyph\":null,\"nonselection_glyph\":{\"id\":\"2605\",\"type\":\"Circle\"},\"selection_glyph\":null,\"view\":{\"id\":\"2607\",\"type\":\"CDSView\"}},\"id\":\"2606\",\"type\":\"GlyphRenderer\"},{\"attributes\":{\"text\":\"\\u03bb GC: 1.43\",\"text_color\":{\"value\":\"red\"},\"text_font_size\":{\"value\":\"14pt\"},\"text_font_style\":\"bold\",\"x\":null,\"y\":1},\"id\":\"2611\",\"type\":\"Label\"},{\"attributes\":{\"callback\":null,\"data\":{\"index\":[0,1,2,3,4,5,6,7,8,9,10,11,12,13,14,15,16,17,18,19,20,21,22,23,24,25,26,27,28,29,30,31,32,33,34,35,36,37,38,39,40,41,42,43,44,45,46,47,48,49,50,51,52,53,54,55,56,57,58,59,60,61,62,63,64,65,66,67,68,69,70,71,72,73,74,75,76,77,78,79,80,81,82,83,84,85,86,87,88,89,90,91,92,93,94,95,96,97,98,99,100,101,102,103,104,105,106,107,108,109,110,111,112,113,114,115,116,117,118,119,120,121,122,123,124,125,126,127,128,129,130,131,132,133,134,135,136,137,138,139,140,141,142,143,144,145,146,147,148,149,150,151,152,153,154,155,156,157,158,159,160,161,162,163,164,165,166,167,168,169,170,171,172,173,174,175,176,177,178,179,180,181,182,183,184,185,186,187,188,189,190,191,192,193,194,195,196,197,198,199,200,201,202,203,204,205,206,207,208,209,210,211,212,213,214,215,216,217,218,219,220,221,222,223,224,225,226,227,228,229,230,231,232,233,234,235,236,237,238,239,240,241,242,243,244,245,246,247,248,249,250,251,252,253,254,255,256,257,258,259,260,261,262,263,264,265,266,267,268,269,270,271,272,273,274,275,276,277,278,279,280,281,282,283,284,285,286,287,288,289,290,291,292,293,294,295,296,297,298,299,300,301,302,303,304,305,306,307,308,309,310,311,312,313,314,315,316,317,318,319,320,321,322,323,324,325,326,327,328,329,330,331,332,333,334,335,336,337,338,339,340,341,342,343,344,345,346,347,348,349,350,351,352,353,354,355,356,357,358,359,360,361,362,363,364,365,366,367,368,369,370,371,372,373,374,375,376,377,378,379,380,381,382,383,384,385,386,387,388,389,390,391,392,393,394,395,396,397,398,399,400,401,402,403,404,405,406,407,408,409,410,411,412,413,414,415,416,417,418,419,420,421,422,423,424,425,426,427,428,429,430,431,432,433,434,435,436,437,438,439,440,441,442,443,444,445,446,447,448,449,450,451,452,453,454,455,456,457,458,459,460,461,462,463,464,465,466,467,468,469,470,471,472,473,474,475,476,477,478,479,480,481,482,483,484,485,486,487,488,489,490,491,492,493,494,495,496,497,498,499,500,501,502,503,504,505,506,507,508,509,510,511,512,513,514,515,516,517,518,519,520,521,522,523,524,525],\"p_value\":{\"__ndarray__\":\"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\",\"dtype\":\"float64\",\"shape\":[526]},\"x\":{\"__ndarray__\":\"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\",\"dtype\":\"float64\",\"shape\":[526]},\"y\":{\"__ndarray__\":\"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\",\"dtype\":\"float64\",\"shape\":[526]}},\"selected\":{\"id\":\"2706\",\"type\":\"Selection\"},\"selection_policy\":{\"id\":\"2707\",\"type\":\"UnionRenderers\"}},\"id\":\"2602\",\"type\":\"ColumnDataSource\"}],\"root_ids\":[\"2566\"]},\"title\":\"Bokeh Application\",\"version\":\"1.4.0\"}};\n",
       "  var render_items = [{\"docid\":\"0586f81e-5f63-4935-a7dc-e092fd9b5a6b\",\"roots\":{\"2566\":\"6517926c-1e1a-46bf-a1f9-4997010cf241\"}}];\n",
       "  root.Bokeh.embed.embed_items_notebook(docs_json, render_items);\n",
       "\n",
       "  }\n",
       "  if (root.Bokeh !== undefined) {\n",
       "    embed_document(root);\n",
       "  } else {\n",
       "    var attempts = 0;\n",
       "    var timer = setInterval(function(root) {\n",
       "      if (root.Bokeh !== undefined) {\n",
       "        clearInterval(timer);\n",
       "        embed_document(root);\n",
       "      } else {\n",
       "        attempts++;\n",
       "        if (attempts > 100) {\n",
       "          clearInterval(timer);\n",
       "          console.log(\"Bokeh: ERROR: Unable to run BokehJS code because BokehJS library is missing\");\n",
       "        }\n",
       "      }\n",
       "    }, 10, root)\n",
       "  }\n",
       "})(window);"
      ],
      "application/vnd.bokehjs_exec.v0+json": ""
     },
     "metadata": {
      "application/vnd.bokehjs_exec.v0+json": {
       "id": "2566"
      }
     },
     "output_type": "display_data"
    },
    {
     "name": "stdout",
     "output_type": "stream",
     "text": [
      "skat_table_0_scores_1.mt\n",
      "1.4847376593403245\n"
     ]
    },
    {
     "name": "stderr",
     "output_type": "stream",
     "text": [
      "2023-08-28 09:01:15.691 Hail: INFO: Ordering unsorted dataset with network shuffle\n",
      "/net/pr2/projects/plgrid/plggneuromol/imdik-zekanowski-gts/venv-hail-0.2.113/lib/python3.10/site-packages/bokeh/models/sources.py:235: FutureWarning: iteritems is deprecated and will be removed in a future version. Use .items instead.\n",
      "  tmp_data = {c: v.values for c, v in _df.iteritems()}\n",
      "2023-08-28 09:01:19.360 Hail: INFO: Ordering unsorted dataset with network shuffle\n"
     ]
    },
    {
     "data": {
      "text/html": [
       "\n",
       "\n",
       "\n",
       "\n",
       "\n",
       "\n",
       "  <div class=\"bk-root\" id=\"bd3e3b5a-d9a1-4060-8b18-2a759b7358a8\" data-root-id=\"2756\"></div>\n"
      ]
     },
     "metadata": {},
     "output_type": "display_data"
    },
    {
     "data": {
      "application/javascript": [
       "(function(root) {\n",
       "  function embed_document(root) {\n",
       "    \n",
       "  var docs_json = {\"675345e9-649e-4be3-b6c1-0092b571323d\":{\"roots\":{\"references\":[{\"attributes\":{\"below\":[{\"id\":\"2767\",\"type\":\"LinearAxis\"}],\"center\":[{\"id\":\"2771\",\"type\":\"Grid\"},{\"id\":\"2776\",\"type\":\"Grid\"},{\"id\":\"2800\",\"type\":\"Slope\"},{\"id\":\"2801\",\"type\":\"Label\"}],\"left\":[{\"id\":\"2772\",\"type\":\"LinearAxis\"}],\"plot_height\":800,\"plot_width\":800,\"renderers\":[{\"id\":\"2796\",\"type\":\"GlyphRenderer\"}],\"title\":{\"id\":\"2757\",\"type\":\"Title\"},\"toolbar\":{\"id\":\"2783\",\"type\":\"Toolbar\"},\"x_range\":{\"id\":\"2798\",\"type\":\"DataRange1d\"},\"x_scale\":{\"id\":\"2763\",\"type\":\"LinearScale\"},\"y_range\":{\"id\":\"2799\",\"type\":\"DataRange1d\"},\"y_scale\":{\"id\":\"2765\",\"type\":\"LinearScale\"}},\"id\":\"2756\",\"subtype\":\"Figure\",\"type\":\"Plot\"},{\"attributes\":{\"fill_alpha\":{\"value\":0.1},\"fill_color\":{\"value\":\"#1f77b4\"},\"line_alpha\":{\"value\":0.1},\"line_color\":{\"value\":\"#1f77b4\"},\"size\":{\"units\":\"screen\",\"value\":6},\"x\":{\"field\":\"x\"},\"y\":{\"field\":\"y\"}},\"id\":\"2795\",\"type\":\"Circle\"},{\"attributes\":{\"data_source\":{\"id\":\"2792\",\"type\":\"ColumnDataSource\"},\"glyph\":{\"id\":\"2794\",\"type\":\"Circle\"},\"hover_glyph\":null,\"muted_glyph\":null,\"nonselection_glyph\":{\"id\":\"2795\",\"type\":\"Circle\"},\"selection_glyph\":null,\"view\":{\"id\":\"2797\",\"type\":\"CDSView\"}},\"id\":\"2796\",\"type\":\"GlyphRenderer\"},{\"attributes\":{},\"id\":\"2778\",\"type\":\"WheelZoomTool\"},{\"attributes\":{\"callback\":null,\"end\":null,\"start\":0},\"id\":\"2798\",\"type\":\"DataRange1d\"},{\"attributes\":{\"callback\":null,\"end\":null,\"start\":0},\"id\":\"2799\",\"type\":\"DataRange1d\"},{\"attributes\":{\"text\":\"\\u03bb GC: 1.46\",\"text_color\":{\"value\":\"red\"},\"text_font_size\":{\"value\":\"14pt\"},\"text_font_style\":\"bold\",\"x\":null,\"y\":1},\"id\":\"2801\",\"type\":\"Label\"},{\"attributes\":{\"gradient\":1,\"line_color\":{\"value\":\"red\"},\"y_intercept\":0},\"id\":\"2800\",\"type\":\"Slope\"},{\"attributes\":{\"dimension\":1,\"ticker\":{\"id\":\"2773\",\"type\":\"BasicTicker\"}},\"id\":\"2776\",\"type\":\"Grid\"},{\"attributes\":{},\"id\":\"2905\",\"type\":\"UnionRenderers\"},{\"attributes\":{},\"id\":\"2901\",\"type\":\"BasicTickFormatter\"},{\"attributes\":{\"callback\":null,\"data\":{\"index\":[0,1,2,3,4,5,6,7,8,9,10,11,12,13,14,15,16,17,18,19,20,21,22,23,24,25,26,27,28,29,30,31,32,33,34,35,36,37,38,39,40,41,42,43,44,45,46,47,48,49,50,51,52,53,54,55,56,57,58,59,60,61,62,63,64,65,66,67,68,69,70,71,72,73,74,75,76,77,78,79,80,81,82,83,84,85,86,87,88,89,90,91,92,93,94,95,96,97,98,99,100,101,102,103,104,105,106,107,108,109,110,111,112,113,114,115,116,117,118,119,120,121,122,123,124,125,126,127,128,129,130,131,132,133,134,135,136,137,138,139,140,141,142,143,144,145,146,147,148,149,150,151,152,153,154,155,156,157,158,159,160,161,162,163,164,165,166,167,168,169,170,171,172,173,174,175,176,177,178,179,180,181,182,183,184,185,186,187,188,189,190,191,192,193,194,195,196,197,198,199,200,201,202,203,204,205,206,207,208,209,210,211,212,213,214,215,216,217,218,219,220,221,222,223,224,225,226,227,228,229,230,231,232,233,234,235,236,237,238,239,240,241,242,243,244,245,246,247,248,249,250,251,252,253,254,255,256,257,258,259,260,261,262,263,264,265,266,267,268,269,270,271,272,273,274,275,276,277,278,279,280,281,282,283,284,285,286,287,288,289,290,291,292,293,294,295,296,297,298,299,300,301,302,303,304,305,306,307,308,309,310,311,312,313,314,315,316,317,318,319,320,321,322,323,324,325,326,327,328,329,330,331,332,333,334,335,336,337,338,339,340,341,342,343,344,345,346,347,348,349,350,351,352,353,354,355,356,357,358,359,360,361,362,363,364,365,366,367,368,369,370,371,372,373,374,375,376,377,378,379,380,381,382,383,384,385,386,387,388,389,390,391,392,393,394,395,396,397,398,399,400,401,402,403,404,405,406,407,408,409,410,411,412,413,414,415,416,417,418,419,420,421,422,423,424,425,426,427,428,429,430,431,432,433,434,435,436,437,438,439,440,441,442,443,444,445,446,447,448,449,450,451,452,453,454,455,456,457,458,459,460,461,462,463,464,465,466,467,468,469,470,471,472,473,474,475,476,477,478,479,480,481,482,483,484,485,486,487,488,489,490,491,492,493,494,495,496,497,498,499,500,501,502,503,504,505,506,507,508,509,510,511,512,513,514,515,516,517,518,519,520,521,522,523,524,525,526,527,528,529,530,531,532,533,534,535,536,537,538,539,540,541,542,543,544,545,546,547,548,549,550],\"p_value\":{\"__ndarray__\":\"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\",\"dtype\":\"float64\",\"shape\":[551]},\"x\":{\"__ndarray__\":\"mzcvh0o0+j48ZTUrlUKBPyPoEHR46Yk/BT3L2FSMlT/99tZJI0aWP3D7E1zN5Jk/VHtE1B8/oT8FW9hhE9SiP0A8WuW+16Q/+ZQjbLm2pz/Z5DODA+epP44eJT35q60/2S11FMMqsD+GFaga4EywP7B3FhBoVbI/+2iuIRYbsz+It91pYXe0P0dMK6RbirU/q92NZQqmtj+3lbeuuhq3P72Onr+1SLg/2J0UQGaruT9wu78Prv26PxT/I7wrCrw/arqBerehvT8vfcaTvN2+P7/8sn/9osA/4Ewjh6y0wD8R4S6LHzvBP5acXtJb6sE/15Mzp9xTwj86ddEI1bPCPwIWDaKabcM/nU/dL0jwwz/8NYCOiXbEP1JCKBkgO8U//U67LM3cxT/IgVRhyoLGP+k7axr7K8c/y91yT5K7xz96Jl7Zrz7IPwPhsF0KWMg/EDp8kBdYyT9ka181IR/KP0oUlhJroco/TUKN06Lvyj/8KAMeXubLP//bREh1kMw/UNFVO0H6zD+RbaeIt6DNPz0/fdEeKs4/6sK1hbW3zj+KfFyDvubOPxmowLQ2kM8/3n6hWfAa0D+PN1HG4GXQPz5G68nas9A/FqkqcBI90T9MpOvbh4bRP+v3LPtu49E/ZngA39oM0j+6aQyflVDSP2MVlUmPmtI/Ib+EHtS90j+8uHwYBA3TP8nIpYhzW9M/KXhLLmys0z/7ZcDS7PXTP0wa203iUtQ/QPNI0eC+1D8ZXSd8jjPVP5VtC4pdeNU/qgQQhwUX1j8W6hQM/l7WPx0mgtP/o9Y/gEhwR1Os1j8c8bWvgyjXP+QGKeqcSNc/zuNk5VOd1z/3TSkf6ffXPxg8nN/whdg/ynUymYnJ2D8YrwkZ6hvZP5mxU0sKZdk/Umr67ieU2T/X7AD+mRHaPxaCUYpqTNo/uMO6Nz+w2j+yuvCg2tbaP1Xh30oHNds/IL352IJ02z/wedzFVbzbP2odpQ9CCNw/SSMxBEVX3D+1Qss818rcP4OUh0IrWt0/kJtTbYaj3T+OfrULMyveP3XVSeZNdN4/g4jf8fXW3j9kPWhM00PfP0L3yPuObd8/xL4hkKmz3z/GuzNJqunfP/CTm7AABeA/3bKGxL9H4D/Eoy6rDUvgP8LI/cZDauA/ktd+yVuy4D/dQ2UvrtjgP0Th1ao/++A/dZ7cpcYH4T/TqqFR3j3hP32BIV42SeE/LYZZy1tz4T/xnsJASqXhPw0HAIsm2uE/WsSeXKrv4T+zVr64Dg/iPwoUo4cAMeI/OTI4VCY94j8Xz7VdTmriP7Cje2/slOI/p2PnGJq24j9BGH0nmtjiP+fGXbZR7eI/ajfOC9EL4z8wZccAbTjjPyix1XI4bOM/4TkxffyF4z+MAQnzaK3jPx/BHuKR0+M/m+if9BcU5D/1er9QfDPkPwa2rxjkXOQ/qd2QVu985D+q8uctXpzkP/83inuXo+Q/TbjSiIPi5D+Lrf0fsiDlPx43tLM8SOU/K8I5wiGL5T+fJFjAqZjlP8KWiL7nsuU/JXX3ijrU5T8zUzkA3vXlP480gqjTF+Y/MdQ3uzpC5j8yPc+k1IPmP0memRpFqeY/86EwWvDL5j8nE07WXeXmP7j6/nEnEOc/5moBQ9Mm5z8sFQPopknnP4sXFwJSfOc/THzTv7PJ5z9E1wGD49vnP+BH1n5N5+c/ryjjpysU6D+LSXbNcR3oP6aRvzskWeg/DtWUq5V16D/AGtuMsoLoPyB+JRe0veg/cZr06MXk6D9NcbK+8y3pPzrXhECvTuk/q7rvlxJ/6T9879cBEcHpPwgwxZnA7ek/Mat3R2Uk6j/gtRii/lDqPzOqi+2Tiuo/56//Qkm76j9w0NyBAtbqP97k9yRp6Oo/LBGjBTw66z8BQpTB7lXrPxCepbJ4j+s/2R0yemfC6z99JLIXzwDsP0NKUKhnJ+w/rZCULjRp7D8AVnmGlqLsP+SY2WVdyew/ViHpD6Xr7D/QQVfbFfzsP7cSuZ7oN+0/pYebqb9j7T8t6XtHvJjtPwERSaVF0O0/QPASONjo7T/xs2J4sAjuP9LOA3UAMO4/5zHhD65O7j9+u8VwNV3uPx8razRVn+4/MJFMfPzN7j+zQpIrwfPuP+0cZHcZL+8/licJBYRA7z9DGsOhsF/vP9X4s97Ypu8/L9lPau/G7z9rmmu5UOfvP9EMliPyAfA/YYgWwGoS8D8bxqwYFiTwP5+uy1CqMPA/ihVgzeA08D8ATjYlKUvwP7u+IyQFWPA/aTRa0U9p8D/ZwarP93zwP6FftoFKlfA/WHNylpqz8D9PgF47/c7wPwBsE5Wi6fA/U6cH8pb98D/WWOzgvx3xP2jJt9MVMfE/6/DenC1C8T80ek+L6lXxPy1GPr0dZvE/icZanYZ78T/lF8/asIXxP0mBxbR6kvE/94adAIqk8T9EwISAebXxP74aLZjW0/E/mZgdXavu8T/VGZD+PPzxP9VkSdrDMPI/TpTbi8ZI8j9+dIzi42byP9wLRvEKcfI/R34360B78j9cietR2o/yPxMGtVYyo/I/V710ZLGq8j8YGZ7MwLbyP/DJTlZrxPI/VpnH36fQ8j/vreN0K+PyPyH9aswu8fI/1iZy654F8z9zoH6DshjzP+iQc5bVMPM/aEvG4pQ68z+ri6fuYUTzPzG94xgdYvM/6buRryJs8z/pYnbPNnbzP21qP1WLivM/FtPl92Kd8z+Y2tS8v6fzP8yKIheovPM/eDhZEF3V8z8ZYNkfa+7zP5fLgVoU+/M/h8+tEVMN9D+JpnER6B30PzORu5wvJ/Q/aQtC/qc99D+J3cauy0z0P/AYNkA8WPQ/1782cXdr9D9/tnz1rIr0P+ragUNxpPQ/UBZIfJ3A9D9vUKA2ycr0P9RGDKAf2fQ/aPpMaYHl9D8+1/7YPfj0P1Cx8ZppD/U/uZDd/b0k9T/CmJyY0zP1P0CJo87bQPU/ufWexspL9T8F30evpF/1P7Xn+mcAbfU/7jH7F0uK9T/w4LpnsJX1P8dKFVQTqPU/2IxPs7Os9T/DidQfEsv1P1Ay4Q7Kz/U/PgKjlEPZ9T9YJL/0aPj1P+yciB1A/fU/zyuy60sO9j/ZlCHmCR32P7RYd1/vJvY/xVRAMwNK9j8z7QXh7mD2P3dlxdSOdfY/uJRaCq6P9j9XTOzpMKr2P96ZbT3otPY/hkKOynLV9j99bj6UmPb2Pz6Y8FPeD/c/1enCf18Y9z/ocECuxiP3P7vfwSsiMvc/zbZmXVlJ9z9D7lyjA1j3P8EAgg7qXfc/aIXhTruB9z+jNn6O9pb3P0tZGco1o/c/g7qnqlTF9z8RM6okvuH3P8iG1Hrw9Pc/Z4/5rZ3+9z/oKe62mQv4P2zy8jCuGPg/3kaH7s0v+D+xmwvtITP4P2lBnqM7R/g/7UhnKZBb+D8HpxZOZGL4PyyDFl0Jd/g/x9RqM4B6+D/SW8QSc4H4P7iJxmz8mfg/ZbAm4ISd+D/j72Kh3bL4P3bWqcJ4yPg/Kp30fmHp+D8UEacj7vv4PwirC34EGvk/UtDNy24l+T9cJjGMPET5P2bc0UTtT/k/j6TPZ6Jf+T842Xa7gWv5P+8H8+x9g/k/bPtKt+Of+T/ZG8c4M6z5PwOCY20Uxfk/k2BXcnPN+T9XEa6vzeb5P/k9jsOFAPo/zM3Sbp4a+j+mWdZ4jjn6P+kIWmb7Rvo/BFhILv1P+j+HbtIQJGL6P2+/4ju1Zvo/SnCF23p0+j8CQ079W4L6PxwA+4Rynvo/0FRe0Kis+j/xW+aXMrb6P2eGB3wf0/o/WM6qxobw+j+CNEf7Zwn7P2mxJZVsDvs/5dQeg7on+z/XZRoIPDz7P8fr1kTFS/s/PxqvMDRW+z++13xA4HX7P154lRHthfs/dxaikQCh+z83OKK/9rb7P99yyzR/vPs/6C9BWGzY+z+3A2a9D977P2hPaILL9Ps/yI3FqwkG/D/mOOsJcxf8PyFhnQonI/w/Qd+p4u4u/D+HasrVyjr8PxfW7XTKWPw/J3uLz013/D/ZMjNKeH38P0aeutIYkPw/d89M0J+c/D9xI6Ja8rX8P2gIFoue3Pw/BJjiTOD2/D8oVHhbgP38P6ZwQorTCv0/6R/Gd0AY/T/r+UCIxyX9P4eFPiJpM/0/YXGqriVB/T+/4Wrz81X9P88ndfQTcv0/9qJqoKeO/T/Zqj6+sqv9P6l7HFNmuv0/M04LRTnJ/T9o9/waLNj9P9Gu9Z9z9v0/1nyGGYEN/j89qs8O3CT+P0EwZRt8RP4/Z9KpBZRc/j9QqA2gAHX+P+Ajjjx5hf4/3ok3RsSN/j+3GtLOVK/+PwfqxqVawP4/fUhInDLa/j9ARvN25eL+PyB4CRxs9P4/aeeBOgAY/z8X7VmGDyr/P8pOra9/Rf8/2EmfW71O/z+4L6oDwWr/P1AzhqStff8/VfRjXc6Q/z9nH4Kc463/P9es0pqLwf8/kml2m3TL/z8wkZ/Sa9X/P+mPTWlx3/8/bT77Dtr9/z8wRAtgNQkAQCNlfwxlDgBA3ChV2dsYAEB/fpMVyigAQH9W6A+SMwBA7GDV53s+AEArfsF0iEkAQFURzkZeWgBAxFhBNA1gAEAktvY/h2sAQOCG15xScQBAoVXWpQZ9AEBrLHbw344AQLlxLOL5mgBArIgtjz6nAEDBu3spr7MAQNsYH/BMwABAbFTlLxnNAEBhNiwpkdMAQCw6x66l4ABAVBnQl0LnAEA0//alovQAQAMyM/s2AgFAQI97EfsWAUBcI4sKAx4BQOoITVsZJQFAPzpG8XEzAUC8dcC8BkIBQE9Jjb/ZUAFAhDyfFe1fAUC2qjOQj2cBQKst1/ZCbwFAHEvjscWGAUArENTRv44BQPf1i9nrngFAbGyLcB6nAUAvtC+NZK8BQMmOU42+twFAm/x80SzAAUBEZPe8r8gBQHz97rVH0QFAYJKNJfXZAUBQqxh4uOIBQCs7ER2S6wFA9OJUh4L0AUDL5UAtiv0BQMTn1oipBgJALJTjF+EPAkCc7oDbmiICQHgMGyAeLAJA61+buLs1AkCrRX03SEkCQNi3Y1M4UwJAtAqtLkVdAkBwMx/Kt3ECQJ9rf+wefAJA3C5Bk6WGAkC+bad/TJECQCxQ6VH+pgJAa23V3gqyAkB0dkgAO70CQARIVZ6PyAJAZKUKqgnUAkAjfOsdqt8CQOseb/5x6wJAqxuKWmL3AkDsd0H5wA8DQAGrj5MxHANAGwgzWs8oA0CsQ/mZmzUDQN+dQ66XQgNAlAjkAcVPA0B07goQJV0DQEMhR2W5agNArJ+ZoIN4A0CcEp90hYYDQPgX0ajAlANAM63hGjejA0ArUTPA6rEDQLTCcKfdwANA9plH+hHQA0DjX0n/id8DQFs69xtI7wNAs8f81k7/A0CsW5/aoA8EQAl+Z/dAIARAg1MLJzIxBECggaGPd0IEQGsqJYcUVARAC9VUlwxmBEBsg/eBY3gEQNzdlEUdiwRAK0+vIj6eBEDrNJGhyrEEQPT5wJjHxQRAsCIzNDraBEAcHlX9J+8EQP80EOSWBAVAq1zpSI0aBUBEN2kIEjEFQGNr/4csSAVA6wqexORfBUAsZ1VjQ3gFQFv3RsRRkQVAH41XGBqrBUC03R56p8UFQOuOrQoG4QVAOAflEkP9BUBrQEcqbRoGQDaJW2SUOAZAmykLhspXBkDsSrNEI3gGQMNCH5G0mQZAqxk58Za8BkCscgvs5eAGQGs+w4zABgdANOnUAkouB0BbDWlnqlcHQOtL/bIPgwdAo1oT8q6wB0BsVmnNxeAHQF98a4KcEwhAK37BdIhJCECrL1uU74IIQNsYH/BMwAhAAzIz+zYCCUDrYR9WaEkJQA==\",\"dtype\":\"float64\",\"shape\":[551]},\"y\":{\"__ndarray__\":\"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\",\"dtype\":\"float64\",\"shape\":[551]}},\"selected\":{\"id\":\"2904\",\"type\":\"Selection\"},\"selection_policy\":{\"id\":\"2905\",\"type\":\"UnionRenderers\"}},\"id\":\"2792\",\"type\":\"ColumnDataSource\"},{\"attributes\":{},\"id\":\"2780\",\"type\":\"SaveTool\"},{\"attributes\":{\"bottom_units\":\"screen\",\"fill_alpha\":{\"value\":0.5},\"fill_color\":{\"value\":\"lightgrey\"},\"left_units\":\"screen\",\"level\":\"overlay\",\"line_alpha\":{\"value\":1.0},\"line_color\":{\"value\":\"black\"},\"line_dash\":[4,4],\"line_width\":{\"value\":2},\"render_mode\":\"css\",\"right_units\":\"screen\",\"top_units\":\"screen\"},\"id\":\"2903\",\"type\":\"BoxAnnotation\"},{\"attributes\":{\"overlay\":{\"id\":\"2903\",\"type\":\"BoxAnnotation\"}},\"id\":\"2779\",\"type\":\"BoxZoomTool\"},{\"attributes\":{\"source\":{\"id\":\"2792\",\"type\":\"ColumnDataSource\"}},\"id\":\"2797\",\"type\":\"CDSView\"},{\"attributes\":{\"text\":\"Q-Q plot\"},\"id\":\"2757\",\"type\":\"Title\"},{\"attributes\":{\"fill_color\":{\"value\":\"#1f77b4\"},\"line_color\":{\"value\":\"#1f77b4\"},\"size\":{\"units\":\"screen\",\"value\":6},\"x\":{\"field\":\"x\"},\"y\":{\"field\":\"y\"}},\"id\":\"2794\",\"type\":\"Circle\"},{\"attributes\":{},\"id\":\"2765\",\"type\":\"LinearScale\"},{\"attributes\":{},\"id\":\"2768\",\"type\":\"BasicTicker\"},{\"attributes\":{\"active_drag\":\"auto\",\"active_inspect\":\"auto\",\"active_multi\":null,\"active_scroll\":\"auto\",\"active_tap\":\"auto\",\"tools\":[{\"id\":\"2777\",\"type\":\"PanTool\"},{\"id\":\"2778\",\"type\":\"WheelZoomTool\"},{\"id\":\"2779\",\"type\":\"BoxZoomTool\"},{\"id\":\"2780\",\"type\":\"SaveTool\"},{\"id\":\"2781\",\"type\":\"ResetTool\"},{\"id\":\"2782\",\"type\":\"HelpTool\"},{\"id\":\"2791\",\"type\":\"HoverTool\"}]},\"id\":\"2783\",\"type\":\"Toolbar\"},{\"attributes\":{},\"id\":\"2904\",\"type\":\"Selection\"},{\"attributes\":{\"axis_label\":\"Observed -log10(p)\",\"formatter\":{\"id\":\"2899\",\"type\":\"BasicTickFormatter\"},\"ticker\":{\"id\":\"2773\",\"type\":\"BasicTicker\"}},\"id\":\"2772\",\"type\":\"LinearAxis\"},{\"attributes\":{},\"id\":\"2782\",\"type\":\"HelpTool\"},{\"attributes\":{\"callback\":null,\"tooltips\":[[\"x\",\"@x\"],[\"y\",\"@y\"],[\"p_value\",\"@p_value\"]]},\"id\":\"2791\",\"type\":\"HoverTool\"},{\"attributes\":{\"ticker\":{\"id\":\"2768\",\"type\":\"BasicTicker\"}},\"id\":\"2771\",\"type\":\"Grid\"},{\"attributes\":{},\"id\":\"2763\",\"type\":\"LinearScale\"},{\"attributes\":{},\"id\":\"2899\",\"type\":\"BasicTickFormatter\"},{\"attributes\":{},\"id\":\"2773\",\"type\":\"BasicTicker\"},{\"attributes\":{\"axis_label\":\"Expected -log10(p)\",\"formatter\":{\"id\":\"2901\",\"type\":\"BasicTickFormatter\"},\"ticker\":{\"id\":\"2768\",\"type\":\"BasicTicker\"}},\"id\":\"2767\",\"type\":\"LinearAxis\"},{\"attributes\":{},\"id\":\"2777\",\"type\":\"PanTool\"},{\"attributes\":{},\"id\":\"2781\",\"type\":\"ResetTool\"}],\"root_ids\":[\"2756\"]},\"title\":\"Bokeh Application\",\"version\":\"1.4.0\"}};\n",
       "  var render_items = [{\"docid\":\"675345e9-649e-4be3-b6c1-0092b571323d\",\"roots\":{\"2756\":\"bd3e3b5a-d9a1-4060-8b18-2a759b7358a8\"}}];\n",
       "  root.Bokeh.embed.embed_items_notebook(docs_json, render_items);\n",
       "\n",
       "  }\n",
       "  if (root.Bokeh !== undefined) {\n",
       "    embed_document(root);\n",
       "  } else {\n",
       "    var attempts = 0;\n",
       "    var timer = setInterval(function(root) {\n",
       "      if (root.Bokeh !== undefined) {\n",
       "        clearInterval(timer);\n",
       "        embed_document(root);\n",
       "      } else {\n",
       "        attempts++;\n",
       "        if (attempts > 100) {\n",
       "          clearInterval(timer);\n",
       "          console.log(\"Bokeh: ERROR: Unable to run BokehJS code because BokehJS library is missing\");\n",
       "        }\n",
       "      }\n",
       "    }, 10, root)\n",
       "  }\n",
       "})(window);"
      ],
      "application/vnd.bokehjs_exec.v0+json": ""
     },
     "metadata": {
      "application/vnd.bokehjs_exec.v0+json": {
       "id": "2756"
      }
     },
     "output_type": "display_data"
    },
    {
     "name": "stdout",
     "output_type": "stream",
     "text": [
      "skat_table_0_scores_2.mt\n",
      "1.2904615897325735\n"
     ]
    },
    {
     "name": "stderr",
     "output_type": "stream",
     "text": [
      "2023-08-28 09:01:22.851 Hail: INFO: Ordering unsorted dataset with network shuffle\n",
      "/net/pr2/projects/plgrid/plggneuromol/imdik-zekanowski-gts/venv-hail-0.2.113/lib/python3.10/site-packages/bokeh/models/sources.py:235: FutureWarning: iteritems is deprecated and will be removed in a future version. Use .items instead.\n",
      "  tmp_data = {c: v.values for c, v in _df.iteritems()}\n",
      "2023-08-28 09:01:26.483 Hail: INFO: Ordering unsorted dataset with network shuffle\n"
     ]
    },
    {
     "data": {
      "text/html": [
       "\n",
       "\n",
       "\n",
       "\n",
       "\n",
       "\n",
       "  <div class=\"bk-root\" id=\"2e9a3131-3965-4cde-91ee-dafdb145b419\" data-root-id=\"2954\"></div>\n"
      ]
     },
     "metadata": {},
     "output_type": "display_data"
    },
    {
     "data": {
      "application/javascript": [
       "(function(root) {\n",
       "  function embed_document(root) {\n",
       "    \n",
       "  var docs_json = {\"c1ea065e-3113-4a2f-af85-0a014bacc98b\":{\"roots\":{\"references\":[{\"attributes\":{\"below\":[{\"id\":\"2965\",\"type\":\"LinearAxis\"}],\"center\":[{\"id\":\"2969\",\"type\":\"Grid\"},{\"id\":\"2974\",\"type\":\"Grid\"},{\"id\":\"2998\",\"type\":\"Slope\"},{\"id\":\"2999\",\"type\":\"Label\"}],\"left\":[{\"id\":\"2970\",\"type\":\"LinearAxis\"}],\"plot_height\":800,\"plot_width\":800,\"renderers\":[{\"id\":\"2994\",\"type\":\"GlyphRenderer\"}],\"title\":{\"id\":\"2955\",\"type\":\"Title\"},\"toolbar\":{\"id\":\"2981\",\"type\":\"Toolbar\"},\"x_range\":{\"id\":\"2996\",\"type\":\"DataRange1d\"},\"x_scale\":{\"id\":\"2961\",\"type\":\"LinearScale\"},\"y_range\":{\"id\":\"2997\",\"type\":\"DataRange1d\"},\"y_scale\":{\"id\":\"2963\",\"type\":\"LinearScale\"}},\"id\":\"2954\",\"subtype\":\"Figure\",\"type\":\"Plot\"},{\"attributes\":{},\"id\":\"2975\",\"type\":\"PanTool\"},{\"attributes\":{\"callback\":null,\"tooltips\":[[\"x\",\"@x\"],[\"y\",\"@y\"],[\"p_value\",\"@p_value\"]]},\"id\":\"2989\",\"type\":\"HoverTool\"},{\"attributes\":{\"overlay\":{\"id\":\"3109\",\"type\":\"BoxAnnotation\"}},\"id\":\"2977\",\"type\":\"BoxZoomTool\"},{\"attributes\":{\"ticker\":{\"id\":\"2966\",\"type\":\"BasicTicker\"}},\"id\":\"2969\",\"type\":\"Grid\"},{\"attributes\":{},\"id\":\"2961\",\"type\":\"LinearScale\"},{\"attributes\":{\"active_drag\":\"auto\",\"active_inspect\":\"auto\",\"active_multi\":null,\"active_scroll\":\"auto\",\"active_tap\":\"auto\",\"tools\":[{\"id\":\"2975\",\"type\":\"PanTool\"},{\"id\":\"2976\",\"type\":\"WheelZoomTool\"},{\"id\":\"2977\",\"type\":\"BoxZoomTool\"},{\"id\":\"2978\",\"type\":\"SaveTool\"},{\"id\":\"2979\",\"type\":\"ResetTool\"},{\"id\":\"2980\",\"type\":\"HelpTool\"},{\"id\":\"2989\",\"type\":\"HoverTool\"}]},\"id\":\"2981\",\"type\":\"Toolbar\"},{\"attributes\":{\"axis_label\":\"Expected -log10(p)\",\"formatter\":{\"id\":\"3107\",\"type\":\"BasicTickFormatter\"},\"ticker\":{\"id\":\"2966\",\"type\":\"BasicTicker\"}},\"id\":\"2965\",\"type\":\"LinearAxis\"},{\"attributes\":{},\"id\":\"2978\",\"type\":\"SaveTool\"},{\"attributes\":{\"text\":\"\\u03bb GC: 1.37\",\"text_color\":{\"value\":\"red\"},\"text_font_size\":{\"value\":\"14pt\"},\"text_font_style\":\"bold\",\"x\":null,\"y\":1},\"id\":\"2999\",\"type\":\"Label\"},{\"attributes\":{\"callback\":null,\"data\":{\"index\":[0,1,2,3,4,5,6,7,8,9,10,11,12,13,14,15,16,17,18,19,20,21,22,23,24,25,26,27,28,29,30,31,32,33,34,35,36,37,38,39,40,41,42,43,44,45,46,47,48,49,50,51,52,53,54,55,56,57,58,59,60,61,62,63,64,65,66,67,68,69,70,71,72,73,74,75,76,77,78,79,80,81,82,83,84,85,86,87,88,89,90,91,92,93,94,95,96,97,98,99,100,101,102,103,104,105,106,107,108,109,110,111,112,113,114,115,116,117,118,119,120,121,122,123,124,125,126,127,128,129,130,131,132,133,134,135,136,137,138,139,140,141,142,143,144,145,146,147,148,149,150,151,152,153,154,155,156,157,158,159,160,161,162,163,164,165,166,167,168,169,170,171,172,173,174,175,176,177,178,179,180,181,182,183,184,185,186,187,188,189,190,191,192,193,194,195,196,197,198,199,200,201,202,203,204,205,206,207,208,209,210,211,212,213,214,215,216,217,218,219,220,221,222,223,224,225,226,227,228,229,230,231,232,233,234,235,236,237,238,239,240,241,242,243,244,245,246,247,248,249,250,251,252,253,254,255,256,257,258,259,260,261,262,263,264,265,266,267,268,269,270,271,272,273,274,275,276,277,278,279,280,281,282,283,284,285,286,287,288,289,290,291,292,293,294,295,296,297,298,299,300,301,302,303,304,305,306,307,308,309,310,311,312,313,314,315,316,317,318,319,320,321,322,323,324,325,326,327,328,329,330,331,332,333,334,335,336,337,338,339,340,341,342,343,344,345,346,347,348,349,350,351,352,353,354,355,356,357,358,359,360,361,362,363,364,365,366,367,368,369,370,371,372,373,374,375,376,377,378,379,380,381,382,383,384,385,386,387,388,389,390,391,392,393,394,395,396,397,398,399,400,401,402,403,404,405,406,407,408,409,410,411,412,413,414,415,416,417,418,419,420,421,422,423,424,425,426,427,428,429,430,431,432,433,434,435,436,437,438,439,440,441,442,443,444,445,446,447,448,449,450,451,452,453,454,455,456,457,458,459,460,461,462,463,464,465,466,467,468,469,470,471,472,473,474,475,476,477,478,479,480,481,482,483,484,485,486,487,488,489,490,491,492,493,494,495,496,497],\"p_value\":{\"__ndarray__\":\"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\",\"dtype\":\"float64\",\"shape\":[498]},\"x\":{\"__ndarray__\":\"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\",\"dtype\":\"float64\",\"shape\":[498]},\"y\":{\"__ndarray__\":\"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\",\"dtype\":\"float64\",\"shape\":[498]}},\"selected\":{\"id\":\"3110\",\"type\":\"Selection\"},\"selection_policy\":{\"id\":\"3111\",\"type\":\"UnionRenderers\"}},\"id\":\"2990\",\"type\":\"ColumnDataSource\"},{\"attributes\":{\"dimension\":1,\"ticker\":{\"id\":\"2971\",\"type\":\"BasicTicker\"}},\"id\":\"2974\",\"type\":\"Grid\"},{\"attributes\":{\"text\":\"Q-Q plot\"},\"id\":\"2955\",\"type\":\"Title\"},{\"attributes\":{\"callback\":null,\"end\":null,\"start\":0},\"id\":\"2997\",\"type\":\"DataRange1d\"},{\"attributes\":{},\"id\":\"3107\",\"type\":\"BasicTickFormatter\"},{\"attributes\":{\"fill_color\":{\"value\":\"#1f77b4\"},\"line_color\":{\"value\":\"#1f77b4\"},\"size\":{\"units\":\"screen\",\"value\":6},\"x\":{\"field\":\"x\"},\"y\":{\"field\":\"y\"}},\"id\":\"2992\",\"type\":\"Circle\"},{\"attributes\":{\"bottom_units\":\"screen\",\"fill_alpha\":{\"value\":0.5},\"fill_color\":{\"value\":\"lightgrey\"},\"left_units\":\"screen\",\"level\":\"overlay\",\"line_alpha\":{\"value\":1.0},\"line_color\":{\"value\":\"black\"},\"line_dash\":[4,4],\"line_width\":{\"value\":2},\"render_mode\":\"css\",\"right_units\":\"screen\",\"top_units\":\"screen\"},\"id\":\"3109\",\"type\":\"BoxAnnotation\"},{\"attributes\":{},\"id\":\"3111\",\"type\":\"UnionRenderers\"},{\"attributes\":{},\"id\":\"3110\",\"type\":\"Selection\"},{\"attributes\":{},\"id\":\"2966\",\"type\":\"BasicTicker\"},{\"attributes\":{},\"id\":\"2971\",\"type\":\"BasicTicker\"},{\"attributes\":{\"source\":{\"id\":\"2990\",\"type\":\"ColumnDataSource\"}},\"id\":\"2995\",\"type\":\"CDSView\"},{\"attributes\":{\"data_source\":{\"id\":\"2990\",\"type\":\"ColumnDataSource\"},\"glyph\":{\"id\":\"2992\",\"type\":\"Circle\"},\"hover_glyph\":null,\"muted_glyph\":null,\"nonselection_glyph\":{\"id\":\"2993\",\"type\":\"Circle\"},\"selection_glyph\":null,\"view\":{\"id\":\"2995\",\"type\":\"CDSView\"}},\"id\":\"2994\",\"type\":\"GlyphRenderer\"},{\"attributes\":{\"fill_alpha\":{\"value\":0.1},\"fill_color\":{\"value\":\"#1f77b4\"},\"line_alpha\":{\"value\":0.1},\"line_color\":{\"value\":\"#1f77b4\"},\"size\":{\"units\":\"screen\",\"value\":6},\"x\":{\"field\":\"x\"},\"y\":{\"field\":\"y\"}},\"id\":\"2993\",\"type\":\"Circle\"},{\"attributes\":{\"axis_label\":\"Observed -log10(p)\",\"formatter\":{\"id\":\"3105\",\"type\":\"BasicTickFormatter\"},\"ticker\":{\"id\":\"2971\",\"type\":\"BasicTicker\"}},\"id\":\"2970\",\"type\":\"LinearAxis\"},{\"attributes\":{},\"id\":\"2976\",\"type\":\"WheelZoomTool\"},{\"attributes\":{},\"id\":\"3105\",\"type\":\"BasicTickFormatter\"},{\"attributes\":{},\"id\":\"2963\",\"type\":\"LinearScale\"},{\"attributes\":{},\"id\":\"2979\",\"type\":\"ResetTool\"},{\"attributes\":{},\"id\":\"2980\",\"type\":\"HelpTool\"},{\"attributes\":{\"callback\":null,\"end\":null,\"start\":0},\"id\":\"2996\",\"type\":\"DataRange1d\"},{\"attributes\":{\"gradient\":1,\"line_color\":{\"value\":\"red\"},\"y_intercept\":0},\"id\":\"2998\",\"type\":\"Slope\"}],\"root_ids\":[\"2954\"]},\"title\":\"Bokeh Application\",\"version\":\"1.4.0\"}};\n",
       "  var render_items = [{\"docid\":\"c1ea065e-3113-4a2f-af85-0a014bacc98b\",\"roots\":{\"2954\":\"2e9a3131-3965-4cde-91ee-dafdb145b419\"}}];\n",
       "  root.Bokeh.embed.embed_items_notebook(docs_json, render_items);\n",
       "\n",
       "  }\n",
       "  if (root.Bokeh !== undefined) {\n",
       "    embed_document(root);\n",
       "  } else {\n",
       "    var attempts = 0;\n",
       "    var timer = setInterval(function(root) {\n",
       "      if (root.Bokeh !== undefined) {\n",
       "        clearInterval(timer);\n",
       "        embed_document(root);\n",
       "      } else {\n",
       "        attempts++;\n",
       "        if (attempts > 100) {\n",
       "          clearInterval(timer);\n",
       "          console.log(\"Bokeh: ERROR: Unable to run BokehJS code because BokehJS library is missing\");\n",
       "        }\n",
       "      }\n",
       "    }, 10, root)\n",
       "  }\n",
       "})(window);"
      ],
      "application/vnd.bokehjs_exec.v0+json": ""
     },
     "metadata": {
      "application/vnd.bokehjs_exec.v0+json": {
       "id": "2954"
      }
     },
     "output_type": "display_data"
    },
    {
     "name": "stdout",
     "output_type": "stream",
     "text": [
      "skat_table_0_scores_3.mt\n",
      "1.402008668160759\n"
     ]
    },
    {
     "name": "stderr",
     "output_type": "stream",
     "text": [
      "2023-08-28 09:01:29.959 Hail: INFO: Ordering unsorted dataset with network shuffle\n",
      "/net/pr2/projects/plgrid/plggneuromol/imdik-zekanowski-gts/venv-hail-0.2.113/lib/python3.10/site-packages/bokeh/models/sources.py:235: FutureWarning: iteritems is deprecated and will be removed in a future version. Use .items instead.\n",
      "  tmp_data = {c: v.values for c, v in _df.iteritems()}\n",
      "2023-08-28 09:01:33.558 Hail: INFO: Ordering unsorted dataset with network shuffle\n"
     ]
    },
    {
     "data": {
      "text/html": [
       "\n",
       "\n",
       "\n",
       "\n",
       "\n",
       "\n",
       "  <div class=\"bk-root\" id=\"2379deea-ef1d-40d2-8637-cc95af4a9129\" data-root-id=\"3160\"></div>\n"
      ]
     },
     "metadata": {},
     "output_type": "display_data"
    },
    {
     "data": {
      "application/javascript": [
       "(function(root) {\n",
       "  function embed_document(root) {\n",
       "    \n",
       "  var docs_json = {\"5f25f7db-9033-44c5-9736-1e99e263527d\":{\"roots\":{\"references\":[{\"attributes\":{\"below\":[{\"id\":\"3171\",\"type\":\"LinearAxis\"}],\"center\":[{\"id\":\"3175\",\"type\":\"Grid\"},{\"id\":\"3180\",\"type\":\"Grid\"},{\"id\":\"3204\",\"type\":\"Slope\"},{\"id\":\"3205\",\"type\":\"Label\"}],\"left\":[{\"id\":\"3176\",\"type\":\"LinearAxis\"}],\"plot_height\":800,\"plot_width\":800,\"renderers\":[{\"id\":\"3200\",\"type\":\"GlyphRenderer\"}],\"title\":{\"id\":\"3161\",\"type\":\"Title\"},\"toolbar\":{\"id\":\"3187\",\"type\":\"Toolbar\"},\"x_range\":{\"id\":\"3202\",\"type\":\"DataRange1d\"},\"x_scale\":{\"id\":\"3167\",\"type\":\"LinearScale\"},\"y_range\":{\"id\":\"3203\",\"type\":\"DataRange1d\"},\"y_scale\":{\"id\":\"3169\",\"type\":\"LinearScale\"}},\"id\":\"3160\",\"subtype\":\"Figure\",\"type\":\"Plot\"},{\"attributes\":{},\"id\":\"3169\",\"type\":\"LinearScale\"},{\"attributes\":{},\"id\":\"3182\",\"type\":\"WheelZoomTool\"},{\"attributes\":{},\"id\":\"3325\",\"type\":\"UnionRenderers\"},{\"attributes\":{\"fill_alpha\":{\"value\":0.1},\"fill_color\":{\"value\":\"#1f77b4\"},\"line_alpha\":{\"value\":0.1},\"line_color\":{\"value\":\"#1f77b4\"},\"size\":{\"units\":\"screen\",\"value\":6},\"x\":{\"field\":\"x\"},\"y\":{\"field\":\"y\"}},\"id\":\"3199\",\"type\":\"Circle\"},{\"attributes\":{},\"id\":\"3167\",\"type\":\"LinearScale\"},{\"attributes\":{},\"id\":\"3324\",\"type\":\"Selection\"},{\"attributes\":{},\"id\":\"3181\",\"type\":\"PanTool\"},{\"attributes\":{\"bottom_units\":\"screen\",\"fill_alpha\":{\"value\":0.5},\"fill_color\":{\"value\":\"lightgrey\"},\"left_units\":\"screen\",\"level\":\"overlay\",\"line_alpha\":{\"value\":1.0},\"line_color\":{\"value\":\"black\"},\"line_dash\":[4,4],\"line_width\":{\"value\":2},\"render_mode\":\"css\",\"right_units\":\"screen\",\"top_units\":\"screen\"},\"id\":\"3323\",\"type\":\"BoxAnnotation\"},{\"attributes\":{\"callback\":null,\"tooltips\":[[\"x\",\"@x\"],[\"y\",\"@y\"],[\"p_value\",\"@p_value\"]]},\"id\":\"3195\",\"type\":\"HoverTool\"},{\"attributes\":{},\"id\":\"3319\",\"type\":\"BasicTickFormatter\"},{\"attributes\":{},\"id\":\"3185\",\"type\":\"ResetTool\"},{\"attributes\":{},\"id\":\"3172\",\"type\":\"BasicTicker\"},{\"attributes\":{\"callback\":null,\"end\":null,\"start\":0},\"id\":\"3203\",\"type\":\"DataRange1d\"},{\"attributes\":{\"callback\":null,\"data\":{\"index\":[0,1,2,3,4,5,6,7,8,9,10,11,12,13,14,15,16,17,18,19,20,21,22,23,24,25,26,27,28,29,30,31,32,33,34,35,36,37,38,39,40,41,42,43,44,45,46,47,48,49,50,51,52,53,54,55,56,57,58,59,60,61,62,63,64,65,66,67,68,69,70,71,72,73,74,75,76,77,78,79,80,81,82,83,84,85,86,87,88,89,90,91,92,93,94,95,96,97,98,99,100,101,102,103,104,105,106,107,108,109,110,111,112,113,114,115,116,117,118,119,120,121,122,123,124,125,126,127,128,129,130,131,132,133,134,135,136,137,138,139,140,141,142,143,144,145,146,147,148,149,150,151,152,153,154,155,156,157,158,159,160,161,162,163,164,165,166,167,168,169,170,171,172,173,174,175,176,177,178,179,180,181,182,183,184,185,186,187,188,189,190,191,192,193,194,195,196,197,198,199,200,201,202,203,204,205,206,207,208,209,210,211,212,213,214,215,216,217,218,219,220,221,222,223,224,225,226,227,228,229,230,231,232,233,234,235,236,237,238,239,240,241,242,243,244,245,246,247,248,249,250,251,252,253,254,255,256,257,258,259,260,261,262,263,264,265,266,267,268,269,270,271,272,273,274,275,276,277,278,279,280,281,282,283,284,285,286,287,288,289,290,291,292,293,294,295,296,297,298,299,300,301,302,303,304,305,306,307,308,309,310,311,312,313,314,315,316,317,318,319,320,321,322,323,324,325,326,327,328,329,330,331,332,333,334,335,336,337,338,339,340,341,342,343,344,345,346,347,348,349,350,351,352,353,354,355,356,357,358,359,360,361,362,363,364,365,366,367,368,369,370,371,372,373,374,375,376,377,378,379,380,381,382,383,384,385,386,387,388,389,390,391,392,393,394,395,396,397,398,399,400,401,402,403,404,405,406,407,408,409,410,411,412,413,414,415,416,417,418,419,420,421,422,423,424,425,426,427,428,429,430,431,432,433,434,435,436,437,438,439,440,441,442,443,444,445,446,447,448,449,450,451,452,453,454,455,456,457,458,459,460,461,462,463,464,465,466,467,468,469,470,471,472,473,474,475,476,477,478,479,480,481,482,483,484,485,486,487,488,489,490,491,492,493,494,495,496,497,498,499,500,501,502,503,504,505,506,507,508,509,510,511,512,513,514,515,516,517,518,519,520,521,522,523,524,525,526,527,528,529,530,531,532,533,534,535,536,537,538,539,540,541,542,543,544,545,546,547,548,549,550,551,552,553,554],\"p_value\":{\"__ndarray__\":\"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\",\"dtype\":\"float64\",\"shape\":[555]},\"x\":{\"__ndarray__\":\"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\",\"dtype\":\"float64\",\"shape\":[555]},\"y\":{\"__ndarray__\":\"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\",\"dtype\":\"float64\",\"shape\":[555]}},\"selected\":{\"id\":\"3324\",\"type\":\"Selection\"},\"selection_policy\":{\"id\":\"3325\",\"type\":\"UnionRenderers\"}},\"id\":\"3196\",\"type\":\"ColumnDataSource\"},{\"attributes\":{},\"id\":\"3321\",\"type\":\"BasicTickFormatter\"},{\"attributes\":{\"text\":\"Q-Q plot\"},\"id\":\"3161\",\"type\":\"Title\"},{\"attributes\":{\"ticker\":{\"id\":\"3172\",\"type\":\"BasicTicker\"}},\"id\":\"3175\",\"type\":\"Grid\"},{\"attributes\":{\"dimension\":1,\"ticker\":{\"id\":\"3177\",\"type\":\"BasicTicker\"}},\"id\":\"3180\",\"type\":\"Grid\"},{\"attributes\":{},\"id\":\"3184\",\"type\":\"SaveTool\"},{\"attributes\":{\"fill_color\":{\"value\":\"#1f77b4\"},\"line_color\":{\"value\":\"#1f77b4\"},\"size\":{\"units\":\"screen\",\"value\":6},\"x\":{\"field\":\"x\"},\"y\":{\"field\":\"y\"}},\"id\":\"3198\",\"type\":\"Circle\"},{\"attributes\":{\"axis_label\":\"Expected -log10(p)\",\"formatter\":{\"id\":\"3321\",\"type\":\"BasicTickFormatter\"},\"ticker\":{\"id\":\"3172\",\"type\":\"BasicTicker\"}},\"id\":\"3171\",\"type\":\"LinearAxis\"},{\"attributes\":{\"gradient\":1,\"line_color\":{\"value\":\"red\"},\"y_intercept\":0},\"id\":\"3204\",\"type\":\"Slope\"},{\"attributes\":{},\"id\":\"3186\",\"type\":\"HelpTool\"},{\"attributes\":{\"overlay\":{\"id\":\"3323\",\"type\":\"BoxAnnotation\"}},\"id\":\"3183\",\"type\":\"BoxZoomTool\"},{\"attributes\":{\"source\":{\"id\":\"3196\",\"type\":\"ColumnDataSource\"}},\"id\":\"3201\",\"type\":\"CDSView\"},{\"attributes\":{\"callback\":null,\"end\":null,\"start\":0},\"id\":\"3202\",\"type\":\"DataRange1d\"},{\"attributes\":{},\"id\":\"3177\",\"type\":\"BasicTicker\"},{\"attributes\":{\"axis_label\":\"Observed -log10(p)\",\"formatter\":{\"id\":\"3319\",\"type\":\"BasicTickFormatter\"},\"ticker\":{\"id\":\"3177\",\"type\":\"BasicTicker\"}},\"id\":\"3176\",\"type\":\"LinearAxis\"},{\"attributes\":{\"text\":\"\\u03bb GC: 1.42\",\"text_color\":{\"value\":\"red\"},\"text_font_size\":{\"value\":\"14pt\"},\"text_font_style\":\"bold\",\"x\":null,\"y\":1},\"id\":\"3205\",\"type\":\"Label\"},{\"attributes\":{\"active_drag\":\"auto\",\"active_inspect\":\"auto\",\"active_multi\":null,\"active_scroll\":\"auto\",\"active_tap\":\"auto\",\"tools\":[{\"id\":\"3181\",\"type\":\"PanTool\"},{\"id\":\"3182\",\"type\":\"WheelZoomTool\"},{\"id\":\"3183\",\"type\":\"BoxZoomTool\"},{\"id\":\"3184\",\"type\":\"SaveTool\"},{\"id\":\"3185\",\"type\":\"ResetTool\"},{\"id\":\"3186\",\"type\":\"HelpTool\"},{\"id\":\"3195\",\"type\":\"HoverTool\"}]},\"id\":\"3187\",\"type\":\"Toolbar\"},{\"attributes\":{\"data_source\":{\"id\":\"3196\",\"type\":\"ColumnDataSource\"},\"glyph\":{\"id\":\"3198\",\"type\":\"Circle\"},\"hover_glyph\":null,\"muted_glyph\":null,\"nonselection_glyph\":{\"id\":\"3199\",\"type\":\"Circle\"},\"selection_glyph\":null,\"view\":{\"id\":\"3201\",\"type\":\"CDSView\"}},\"id\":\"3200\",\"type\":\"GlyphRenderer\"}],\"root_ids\":[\"3160\"]},\"title\":\"Bokeh Application\",\"version\":\"1.4.0\"}};\n",
       "  var render_items = [{\"docid\":\"5f25f7db-9033-44c5-9736-1e99e263527d\",\"roots\":{\"3160\":\"2379deea-ef1d-40d2-8637-cc95af4a9129\"}}];\n",
       "  root.Bokeh.embed.embed_items_notebook(docs_json, render_items);\n",
       "\n",
       "  }\n",
       "  if (root.Bokeh !== undefined) {\n",
       "    embed_document(root);\n",
       "  } else {\n",
       "    var attempts = 0;\n",
       "    var timer = setInterval(function(root) {\n",
       "      if (root.Bokeh !== undefined) {\n",
       "        clearInterval(timer);\n",
       "        embed_document(root);\n",
       "      } else {\n",
       "        attempts++;\n",
       "        if (attempts > 100) {\n",
       "          clearInterval(timer);\n",
       "          console.log(\"Bokeh: ERROR: Unable to run BokehJS code because BokehJS library is missing\");\n",
       "        }\n",
       "      }\n",
       "    }, 10, root)\n",
       "  }\n",
       "})(window);"
      ],
      "application/vnd.bokehjs_exec.v0+json": ""
     },
     "metadata": {
      "application/vnd.bokehjs_exec.v0+json": {
       "id": "3160"
      }
     },
     "output_type": "display_data"
    }
   ],
   "source": [
    "skat_tables = []\n",
    "lambdas = []\n",
    "\n",
    "for x in list(range(26)):\n",
    "    for i in list(range(10)):\n",
    "        \n",
    "        if os.path.exists(\n",
    "                localfs_path+'skat_table_'+str(x)+'_scores_no_filter_parts_'+str(i)+'.mt'\n",
    "            ):\n",
    "            skat_table = hl.read_table(\n",
    "                    localfs_path+'skat_table_'+str(x)+'_scores_no_filter_parts_'+str(i)+'.mt'\n",
    "                )\n",
    "            print('skat_table_'+str(x)+'_scores_'+str(i)+'.mt')\n",
    "\n",
    "            print(hl.lambda_gc(skat_table.p_value))\n",
    "            lambdas.append(hl.lambda_gc(skat_table.p_value))\n",
    "            skat_tables.append(skat_table)\n",
    "\n",
    "            p = hl.plot.qq(skat_table.p_value)\n",
    "            show(p)"
   ]
  },
  {
   "cell_type": "code",
   "execution_count": 12,
   "id": "2fca3305-96a1-4ccb-b014-1ba1c1ac9a43",
   "metadata": {
    "collapsed": true,
    "jupyter": {
     "outputs_hidden": true
    },
    "tags": []
   },
   "outputs": [
    {
     "name": "stdout",
     "output_type": "stream",
     "text": [
      "skat_table_0_scores_no_filter_0.mt\n",
      "skat_table_0_scores_no_filter_1.mt\n",
      "skat_table_0_scores_no_filter_2.mt\n",
      "skat_table_0_scores_no_filter_3.mt\n",
      "skat_table_0_scores_no_filter_4.mt\n",
      "skat_table_0_scores_no_filter_5.mt\n",
      "skat_table_0_scores_no_filter_6.mt\n",
      "skat_table_0_scores_no_filter_7.mt\n"
     ]
    },
    {
     "name": "stderr",
     "output_type": "stream",
     "text": [
      "[Stage 9213:==============================================>    (448 + 13) / 488]\r"
     ]
    },
    {
     "name": "stdout",
     "output_type": "stream",
     "text": [
      "skat_table_0_scores_no_filter_8.mt\n"
     ]
    },
    {
     "name": "stderr",
     "output_type": "stream",
     "text": [
      "[Stage 9214:===========================================>       (416 + 12) / 488]\r"
     ]
    },
    {
     "name": "stdout",
     "output_type": "stream",
     "text": [
      "skat_table_0_scores_no_filter_9.mt\n",
      "[1.0363764059264284, 1.0804163707004464, 1.1256049610631171, 1.0671375932319822, 1.021461297350317, 1.0485846732234518, 0.9976877610316498, 1.084040956828418, 1.0895133991119659, 1.071932855019685]\n",
      "1.0695352241258336\n",
      "skat_table_1_scores_no_filter_0.mt\n",
      "skat_table_1_scores_no_filter_1.mt\n",
      "skat_table_1_scores_no_filter_2.mt\n",
      "skat_table_1_scores_no_filter_3.mt\n",
      "skat_table_1_scores_no_filter_4.mt\n",
      "skat_table_1_scores_no_filter_5.mt\n",
      "skat_table_1_scores_no_filter_6.mt\n",
      "skat_table_1_scores_no_filter_7.mt\n",
      "skat_table_1_scores_no_filter_8.mt\n",
      "skat_table_1_scores_no_filter_9.mt\n",
      "[0.6354069727678273, 0.9673587764472519, 0.7112788948533134, 0.6010283422455839, 0.5034486389198399, 0.6964737112332731, 0.6190903597185196, 0.5972682690169613, 0.6586745165364165, 0.4910163456138358]\n",
      "0.6272486662431734\n",
      "skat_table_2_scores_no_filter_0.mt\n",
      "skat_table_2_scores_no_filter_1.mt\n",
      "skat_table_2_scores_no_filter_2.mt\n",
      "skat_table_2_scores_no_filter_3.mt\n",
      "skat_table_2_scores_no_filter_4.mt\n",
      "skat_table_2_scores_no_filter_5.mt\n",
      "skat_table_2_scores_no_filter_6.mt\n",
      "skat_table_2_scores_no_filter_7.mt\n",
      "skat_table_2_scores_no_filter_8.mt\n",
      "skat_table_2_scores_no_filter_9.mt\n",
      "[0.660894834594759, 0.8662496547416156, 0.7156886672001278, 0.5644677021399738, 0.5113281038348318, 0.6765451391843428, 0.46545520986411676, 0.5479815645763517, 0.6752630359955554, 0.4427466049522189]\n",
      "0.6126812683673664\n",
      "skat_table_3_scores_no_filter_0.mt\n",
      "skat_table_3_scores_no_filter_1.mt\n",
      "skat_table_3_scores_no_filter_2.mt\n",
      "skat_table_3_scores_no_filter_3.mt\n",
      "skat_table_3_scores_no_filter_4.mt\n",
      "skat_table_3_scores_no_filter_5.mt\n",
      "skat_table_3_scores_no_filter_6.mt\n",
      "skat_table_3_scores_no_filter_7.mt\n",
      "skat_table_3_scores_no_filter_8.mt\n",
      "skat_table_3_scores_no_filter_9.mt\n",
      "[0.7134120075563447, 0.9088688766992737, 0.754205068829407, 0.6321556895089862, 0.5648697388163606, 0.7023405459734248, 0.4922911532473934, 0.5509212346749405, 0.616436525846971, 0.46506980519706087]\n",
      "0.6242961076779785\n",
      "skat_table_4_scores_no_filter_0.mt\n",
      "skat_table_4_scores_no_filter_1.mt\n",
      "skat_table_4_scores_no_filter_2.mt\n",
      "skat_table_4_scores_no_filter_3.mt\n",
      "skat_table_4_scores_no_filter_4.mt\n",
      "skat_table_4_scores_no_filter_5.mt\n",
      "skat_table_4_scores_no_filter_6.mt\n",
      "skat_table_4_scores_no_filter_7.mt\n",
      "skat_table_4_scores_no_filter_8.mt\n",
      "skat_table_4_scores_no_filter_9.mt\n",
      "[0.7104431630239618, 0.9957968465324408, 0.8503412228592031, 0.6713899211155345, 0.6185112057373472, 0.7292904077643322, 0.5237733062553032, 0.662078852178372, 0.6664179935806507, 0.5034420615830615]\n",
      "0.6689039573480926\n",
      "skat_table_5_scores_no_filter_0.mt\n",
      "skat_table_5_scores_no_filter_1.mt\n",
      "skat_table_5_scores_no_filter_2.mt\n",
      "skat_table_5_scores_no_filter_3.mt\n",
      "skat_table_5_scores_no_filter_4.mt\n",
      "skat_table_5_scores_no_filter_5.mt\n",
      "skat_table_5_scores_no_filter_6.mt\n",
      "skat_table_5_scores_no_filter_7.mt\n",
      "skat_table_5_scores_no_filter_8.mt\n",
      "skat_table_5_scores_no_filter_9.mt\n",
      "[0.799048483208537, 0.9866692249635461, 0.790188435860403, 0.7094963188057516, 0.6232269748622753, 0.7153955139272039, 0.5660433037277194, 0.6537286976140125, 0.7098925975155645, 0.55366539764398]\n",
      "0.7096944581606581\n",
      "skat_table_6_scores_no_filter_0.mt\n",
      "skat_table_6_scores_no_filter_1.mt\n",
      "skat_table_6_scores_no_filter_2.mt\n",
      "skat_table_6_scores_no_filter_3.mt\n",
      "skat_table_6_scores_no_filter_4.mt\n",
      "skat_table_6_scores_no_filter_5.mt\n",
      "skat_table_6_scores_no_filter_6.mt\n",
      "skat_table_6_scores_no_filter_7.mt\n",
      "skat_table_6_scores_no_filter_8.mt\n",
      "skat_table_6_scores_no_filter_9.mt\n",
      "[0.795229297001236, 1.0047258621187602, 0.7279103978475184, 0.7465254377767163, 0.6398370118855784, 0.7146675734702734, 0.5613504017175202, 0.6622500447334024, 0.8001691731785675, 0.5348975000843915]\n",
      "0.721288985658896\n",
      "skat_table_7_scores_no_filter_0.mt\n",
      "skat_table_7_scores_no_filter_1.mt\n",
      "skat_table_7_scores_no_filter_2.mt\n",
      "skat_table_7_scores_no_filter_3.mt\n",
      "skat_table_7_scores_no_filter_4.mt\n",
      "skat_table_7_scores_no_filter_5.mt\n",
      "skat_table_7_scores_no_filter_6.mt\n",
      "skat_table_7_scores_no_filter_7.mt\n",
      "skat_table_7_scores_no_filter_8.mt\n",
      "skat_table_7_scores_no_filter_9.mt\n",
      "[0.8934842675950642, 0.9522205990057395, 0.8156481187704316, 0.720942092287749, 0.5944828300286973, 0.690970815007364, 0.6101398294457148, 0.6970926204953879, 0.8101789416612617, 0.43686300304462217]\n",
      "0.7090173563915685\n",
      "skat_table_8_scores_no_filter_0.mt\n",
      "skat_table_8_scores_no_filter_1.mt\n",
      "skat_table_8_scores_no_filter_2.mt\n",
      "skat_table_8_scores_no_filter_3.mt\n",
      "skat_table_8_scores_no_filter_4.mt\n",
      "skat_table_8_scores_no_filter_5.mt\n",
      "skat_table_8_scores_no_filter_6.mt\n",
      "skat_table_8_scores_no_filter_7.mt\n",
      "skat_table_8_scores_no_filter_8.mt\n",
      "skat_table_8_scores_no_filter_9.mt\n",
      "[0.7233442268577167, 0.9260128567381076, 0.5403877727960954, 0.7043627479253436, 0.5136785597479827, 0.7196940801962386, 0.49089447178318735, 0.6788465858989609, 0.8831421035955961, 0.4694212469852085]\n",
      "0.6916046669121523\n",
      "skat_table_9_scores_no_filter_0.mt\n",
      "skat_table_9_scores_no_filter_1.mt\n",
      "skat_table_9_scores_no_filter_2.mt\n",
      "skat_table_9_scores_no_filter_3.mt\n",
      "skat_table_9_scores_no_filter_4.mt\n",
      "skat_table_9_scores_no_filter_5.mt\n",
      "skat_table_9_scores_no_filter_6.mt\n",
      "skat_table_9_scores_no_filter_7.mt\n",
      "skat_table_9_scores_no_filter_8.mt\n",
      "skat_table_9_scores_no_filter_9.mt\n",
      "[0.28164458403839127, 1.0421654379111014, 0.15665700767677168, 0.7009159759721566, 0.7211869879887356, 0.6778059332750097, 0.634588766476037, 0.34677961170698596, 0.8291555738507752, 0.5721054532278528]\n",
      "0.6561973498755234\n",
      "skat_table_10_scores_no_filter_0.mt\n",
      "skat_table_10_scores_no_filter_1.mt\n",
      "skat_table_10_scores_no_filter_2.mt\n",
      "skat_table_10_scores_no_filter_3.mt\n",
      "skat_table_10_scores_no_filter_4.mt\n",
      "skat_table_10_scores_no_filter_5.mt\n",
      "skat_table_10_scores_no_filter_6.mt\n",
      "skat_table_10_scores_no_filter_7.mt\n",
      "skat_table_10_scores_no_filter_8.mt\n",
      "skat_table_10_scores_no_filter_9.mt\n",
      "[0.3193536809635874, 1.0420351037017141, 0.1917833323819147, 0.5344829173315517, 0.6679695878460613, 0.7038062735098765, 0.5958281047353752, 0.17277333771132777, 0.869385839028608, 0.5631280085887643]\n",
      "0.5794780566620698\n",
      "skat_table_11_scores_no_filter_0.mt\n",
      "skat_table_11_scores_no_filter_1.mt\n",
      "skat_table_11_scores_no_filter_2.mt\n",
      "skat_table_11_scores_no_filter_3.mt\n"
     ]
    },
    {
     "name": "stderr",
     "output_type": "stream",
     "text": [
      "ERROR:root:KeyboardInterrupt while sending command.\n",
      "Traceback (most recent call last):\n",
      "  File \"/net/pr2/projects/plgrid/plggneuromol/imdik-zekanowski-gts/venv-hail-0.2.113/lib/python3.10/site-packages/py4j/java_gateway.py\", line 1038, in send_command\n",
      "    response = connection.send_command(command)\n",
      "  File \"/net/pr2/projects/plgrid/plggneuromol/imdik-zekanowski-gts/venv-hail-0.2.113/lib/python3.10/site-packages/py4j/clientserver.py\", line 511, in send_command\n",
      "    answer = smart_decode(self.stream.readline()[:-1])\n",
      "  File \"/net/software/testing/software/Python/3.10.4-GCCcore-11.3.0/lib/python3.10/socket.py\", line 705, in readinto\n",
      "    return self._sock.recv_into(b)\n",
      "KeyboardInterrupt\n"
     ]
    },
    {
     "ename": "KeyboardInterrupt",
     "evalue": "",
     "output_type": "error",
     "traceback": [
      "\u001b[0;31m---------------------------------------------------------------------------\u001b[0m",
      "\u001b[0;31mKeyboardInterrupt\u001b[0m                         Traceback (most recent call last)",
      "Cell \u001b[0;32mIn[12], line 12\u001b[0m\n\u001b[1;32m      7\u001b[0m \u001b[38;5;28;01mfor\u001b[39;00m i \u001b[38;5;129;01min\u001b[39;00m \u001b[38;5;28mlist\u001b[39m(\u001b[38;5;28mrange\u001b[39m(\u001b[38;5;241m10\u001b[39m)):\n\u001b[1;32m      9\u001b[0m     \u001b[38;5;28;01mif\u001b[39;00m os\u001b[38;5;241m.\u001b[39mpath\u001b[38;5;241m.\u001b[39mexists(\n\u001b[1;32m     10\u001b[0m             localfs_path\u001b[38;5;241m+\u001b[39m\u001b[38;5;124m'\u001b[39m\u001b[38;5;124mskat_table_\u001b[39m\u001b[38;5;124m'\u001b[39m\u001b[38;5;241m+\u001b[39m\u001b[38;5;28mstr\u001b[39m(x)\u001b[38;5;241m+\u001b[39m\u001b[38;5;124m'\u001b[39m\u001b[38;5;124m_scores_no_filter_parts_\u001b[39m\u001b[38;5;124m'\u001b[39m\u001b[38;5;241m+\u001b[39m\u001b[38;5;28mstr\u001b[39m(i)\u001b[38;5;241m+\u001b[39m\u001b[38;5;124m'\u001b[39m\u001b[38;5;124m.mt\u001b[39m\u001b[38;5;124m'\u001b[39m\n\u001b[1;32m     11\u001b[0m         ):\n\u001b[0;32m---> 12\u001b[0m         skat_table \u001b[38;5;241m=\u001b[39m \u001b[43mhl\u001b[49m\u001b[38;5;241;43m.\u001b[39;49m\u001b[43mread_table\u001b[49m\u001b[43m(\u001b[49m\n\u001b[1;32m     13\u001b[0m \u001b[43m                \u001b[49m\u001b[43mlocalfs_path\u001b[49m\u001b[38;5;241;43m+\u001b[39;49m\u001b[38;5;124;43m'\u001b[39;49m\u001b[38;5;124;43mskat_table_\u001b[39;49m\u001b[38;5;124;43m'\u001b[39;49m\u001b[38;5;241;43m+\u001b[39;49m\u001b[38;5;28;43mstr\u001b[39;49m\u001b[43m(\u001b[49m\u001b[43mx\u001b[49m\u001b[43m)\u001b[49m\u001b[38;5;241;43m+\u001b[39;49m\u001b[38;5;124;43m'\u001b[39;49m\u001b[38;5;124;43m_scores_no_filter_parts_\u001b[39;49m\u001b[38;5;124;43m'\u001b[39;49m\u001b[38;5;241;43m+\u001b[39;49m\u001b[38;5;28;43mstr\u001b[39;49m\u001b[43m(\u001b[49m\u001b[43mi\u001b[49m\u001b[43m)\u001b[49m\u001b[38;5;241;43m+\u001b[39;49m\u001b[38;5;124;43m'\u001b[39;49m\u001b[38;5;124;43m.mt\u001b[39;49m\u001b[38;5;124;43m'\u001b[39;49m\n\u001b[1;32m     14\u001b[0m \u001b[43m            \u001b[49m\u001b[43m)\u001b[49m\n\u001b[1;32m     15\u001b[0m         \u001b[38;5;28mprint\u001b[39m(\u001b[38;5;124m'\u001b[39m\u001b[38;5;124mskat_table_\u001b[39m\u001b[38;5;124m'\u001b[39m\u001b[38;5;241m+\u001b[39m\u001b[38;5;28mstr\u001b[39m(x)\u001b[38;5;241m+\u001b[39m\u001b[38;5;124m'\u001b[39m\u001b[38;5;124m_scores_no_filter_\u001b[39m\u001b[38;5;124m'\u001b[39m\u001b[38;5;241m+\u001b[39m\u001b[38;5;28mstr\u001b[39m(i)\u001b[38;5;241m+\u001b[39m\u001b[38;5;124m'\u001b[39m\u001b[38;5;124m.mt\u001b[39m\u001b[38;5;124m'\u001b[39m)\n\u001b[1;32m     17\u001b[0m         lambdas\u001b[38;5;241m.\u001b[39mappend(hl\u001b[38;5;241m.\u001b[39mlambda_gc(skat_table\u001b[38;5;241m.\u001b[39mp_value))\n",
      "File \u001b[0;32m<decorator-gen-1472>:2\u001b[0m, in \u001b[0;36mread_table\u001b[0;34m(path, _intervals, _filter_intervals, _n_partitions, _assert_type, _load_refs, _create_row_uids)\u001b[0m\n",
      "File \u001b[0;32m/net/pr2/projects/plgrid/plggneuromol/imdik-zekanowski-gts/venv-hail-0.2.113/lib/python3.10/site-packages/hail/typecheck/check.py:584\u001b[0m, in \u001b[0;36m_make_dec.<locals>.wrapper\u001b[0;34m(__original_func, *args, **kwargs)\u001b[0m\n\u001b[1;32m    581\u001b[0m \u001b[38;5;129m@decorator\u001b[39m\n\u001b[1;32m    582\u001b[0m \u001b[38;5;28;01mdef\u001b[39;00m \u001b[38;5;21mwrapper\u001b[39m(__original_func, \u001b[38;5;241m*\u001b[39margs, \u001b[38;5;241m*\u001b[39m\u001b[38;5;241m*\u001b[39mkwargs):\n\u001b[1;32m    583\u001b[0m     args_, kwargs_ \u001b[38;5;241m=\u001b[39m check_all(__original_func, args, kwargs, checkers, is_method\u001b[38;5;241m=\u001b[39mis_method)\n\u001b[0;32m--> 584\u001b[0m     \u001b[38;5;28;01mreturn\u001b[39;00m \u001b[43m__original_func\u001b[49m\u001b[43m(\u001b[49m\u001b[38;5;241;43m*\u001b[39;49m\u001b[43margs_\u001b[49m\u001b[43m,\u001b[49m\u001b[43m \u001b[49m\u001b[38;5;241;43m*\u001b[39;49m\u001b[38;5;241;43m*\u001b[39;49m\u001b[43mkwargs_\u001b[49m\u001b[43m)\u001b[49m\n",
      "File \u001b[0;32m/net/pr2/projects/plgrid/plggneuromol/imdik-zekanowski-gts/venv-hail-0.2.113/lib/python3.10/site-packages/hail/methods/impex.py:3048\u001b[0m, in \u001b[0;36mread_table\u001b[0;34m(path, _intervals, _filter_intervals, _n_partitions, _assert_type, _load_refs, _create_row_uids)\u001b[0m\n\u001b[1;32m   3036\u001b[0m \u001b[38;5;250m\u001b[39m\u001b[38;5;124;03m\"\"\"Read in a :class:`.Table` written with :meth:`.Table.write`.\u001b[39;00m\n\u001b[1;32m   3037\u001b[0m \n\u001b[1;32m   3038\u001b[0m \u001b[38;5;124;03mParameters\u001b[39;00m\n\u001b[0;32m   (...)\u001b[0m\n\u001b[1;32m   3045\u001b[0m \u001b[38;5;124;03m:class:`.Table`\u001b[39;00m\n\u001b[1;32m   3046\u001b[0m \u001b[38;5;124;03m\"\"\"\u001b[39;00m\n\u001b[1;32m   3047\u001b[0m \u001b[38;5;28;01mif\u001b[39;00m _load_refs:\n\u001b[0;32m-> 3048\u001b[0m     \u001b[38;5;28;01mfor\u001b[39;00m rg_config \u001b[38;5;129;01min\u001b[39;00m \u001b[43mEnv\u001b[49m\u001b[38;5;241;43m.\u001b[39;49m\u001b[43mbackend\u001b[49m\u001b[43m(\u001b[49m\u001b[43m)\u001b[49m\u001b[38;5;241;43m.\u001b[39;49m\u001b[43mload_references_from_dataset\u001b[49m\u001b[43m(\u001b[49m\u001b[43mpath\u001b[49m\u001b[43m)\u001b[49m:\n\u001b[1;32m   3049\u001b[0m         hl\u001b[38;5;241m.\u001b[39mReferenceGenome\u001b[38;5;241m.\u001b[39m_from_config(rg_config)\n\u001b[1;32m   3051\u001b[0m \u001b[38;5;28;01mif\u001b[39;00m _intervals \u001b[38;5;129;01mis\u001b[39;00m \u001b[38;5;129;01mnot\u001b[39;00m \u001b[38;5;28;01mNone\u001b[39;00m \u001b[38;5;129;01mand\u001b[39;00m _n_partitions \u001b[38;5;129;01mis\u001b[39;00m \u001b[38;5;129;01mnot\u001b[39;00m \u001b[38;5;28;01mNone\u001b[39;00m:\n",
      "File \u001b[0;32m/net/pr2/projects/plgrid/plggneuromol/imdik-zekanowski-gts/venv-hail-0.2.113/lib/python3.10/site-packages/hail/backend/py4j_backend.py:118\u001b[0m, in \u001b[0;36mPy4JBackend.load_references_from_dataset\u001b[0;34m(self, path)\u001b[0m\n\u001b[1;32m    117\u001b[0m \u001b[38;5;28;01mdef\u001b[39;00m \u001b[38;5;21mload_references_from_dataset\u001b[39m(\u001b[38;5;28mself\u001b[39m, path):\n\u001b[0;32m--> 118\u001b[0m     \u001b[38;5;28;01mreturn\u001b[39;00m json\u001b[38;5;241m.\u001b[39mloads(\u001b[38;5;28;43mself\u001b[39;49m\u001b[38;5;241;43m.\u001b[39;49m\u001b[43m_jbackend\u001b[49m\u001b[38;5;241;43m.\u001b[39;49m\u001b[43mpyLoadReferencesFromDataset\u001b[49m\u001b[43m(\u001b[49m\u001b[43mpath\u001b[49m\u001b[43m)\u001b[49m)\n",
      "File \u001b[0;32m/net/pr2/projects/plgrid/plggneuromol/imdik-zekanowski-gts/venv-hail-0.2.113/lib/python3.10/site-packages/py4j/java_gateway.py:1320\u001b[0m, in \u001b[0;36mJavaMember.__call__\u001b[0;34m(self, *args)\u001b[0m\n\u001b[1;32m   1313\u001b[0m args_command, temp_args \u001b[38;5;241m=\u001b[39m \u001b[38;5;28mself\u001b[39m\u001b[38;5;241m.\u001b[39m_build_args(\u001b[38;5;241m*\u001b[39margs)\n\u001b[1;32m   1315\u001b[0m command \u001b[38;5;241m=\u001b[39m proto\u001b[38;5;241m.\u001b[39mCALL_COMMAND_NAME \u001b[38;5;241m+\u001b[39m\\\n\u001b[1;32m   1316\u001b[0m     \u001b[38;5;28mself\u001b[39m\u001b[38;5;241m.\u001b[39mcommand_header \u001b[38;5;241m+\u001b[39m\\\n\u001b[1;32m   1317\u001b[0m     args_command \u001b[38;5;241m+\u001b[39m\\\n\u001b[1;32m   1318\u001b[0m     proto\u001b[38;5;241m.\u001b[39mEND_COMMAND_PART\n\u001b[0;32m-> 1320\u001b[0m answer \u001b[38;5;241m=\u001b[39m \u001b[38;5;28;43mself\u001b[39;49m\u001b[38;5;241;43m.\u001b[39;49m\u001b[43mgateway_client\u001b[49m\u001b[38;5;241;43m.\u001b[39;49m\u001b[43msend_command\u001b[49m\u001b[43m(\u001b[49m\u001b[43mcommand\u001b[49m\u001b[43m)\u001b[49m\n\u001b[1;32m   1321\u001b[0m return_value \u001b[38;5;241m=\u001b[39m get_return_value(\n\u001b[1;32m   1322\u001b[0m     answer, \u001b[38;5;28mself\u001b[39m\u001b[38;5;241m.\u001b[39mgateway_client, \u001b[38;5;28mself\u001b[39m\u001b[38;5;241m.\u001b[39mtarget_id, \u001b[38;5;28mself\u001b[39m\u001b[38;5;241m.\u001b[39mname)\n\u001b[1;32m   1324\u001b[0m \u001b[38;5;28;01mfor\u001b[39;00m temp_arg \u001b[38;5;129;01min\u001b[39;00m temp_args:\n",
      "File \u001b[0;32m/net/pr2/projects/plgrid/plggneuromol/imdik-zekanowski-gts/venv-hail-0.2.113/lib/python3.10/site-packages/py4j/java_gateway.py:1038\u001b[0m, in \u001b[0;36mGatewayClient.send_command\u001b[0;34m(self, command, retry, binary)\u001b[0m\n\u001b[1;32m   1036\u001b[0m connection \u001b[38;5;241m=\u001b[39m \u001b[38;5;28mself\u001b[39m\u001b[38;5;241m.\u001b[39m_get_connection()\n\u001b[1;32m   1037\u001b[0m \u001b[38;5;28;01mtry\u001b[39;00m:\n\u001b[0;32m-> 1038\u001b[0m     response \u001b[38;5;241m=\u001b[39m \u001b[43mconnection\u001b[49m\u001b[38;5;241;43m.\u001b[39;49m\u001b[43msend_command\u001b[49m\u001b[43m(\u001b[49m\u001b[43mcommand\u001b[49m\u001b[43m)\u001b[49m\n\u001b[1;32m   1039\u001b[0m     \u001b[38;5;28;01mif\u001b[39;00m binary:\n\u001b[1;32m   1040\u001b[0m         \u001b[38;5;28;01mreturn\u001b[39;00m response, \u001b[38;5;28mself\u001b[39m\u001b[38;5;241m.\u001b[39m_create_connection_guard(connection)\n",
      "File \u001b[0;32m/net/pr2/projects/plgrid/plggneuromol/imdik-zekanowski-gts/venv-hail-0.2.113/lib/python3.10/site-packages/py4j/clientserver.py:511\u001b[0m, in \u001b[0;36mClientServerConnection.send_command\u001b[0;34m(self, command)\u001b[0m\n\u001b[1;32m    509\u001b[0m \u001b[38;5;28;01mtry\u001b[39;00m:\n\u001b[1;32m    510\u001b[0m     \u001b[38;5;28;01mwhile\u001b[39;00m \u001b[38;5;28;01mTrue\u001b[39;00m:\n\u001b[0;32m--> 511\u001b[0m         answer \u001b[38;5;241m=\u001b[39m smart_decode(\u001b[38;5;28;43mself\u001b[39;49m\u001b[38;5;241;43m.\u001b[39;49m\u001b[43mstream\u001b[49m\u001b[38;5;241;43m.\u001b[39;49m\u001b[43mreadline\u001b[49m\u001b[43m(\u001b[49m\u001b[43m)\u001b[49m[:\u001b[38;5;241m-\u001b[39m\u001b[38;5;241m1\u001b[39m])\n\u001b[1;32m    512\u001b[0m         logger\u001b[38;5;241m.\u001b[39mdebug(\u001b[38;5;124m\"\u001b[39m\u001b[38;5;124mAnswer received: \u001b[39m\u001b[38;5;132;01m{0}\u001b[39;00m\u001b[38;5;124m\"\u001b[39m\u001b[38;5;241m.\u001b[39mformat(answer))\n\u001b[1;32m    513\u001b[0m         \u001b[38;5;66;03m# Happens when a the other end is dead. There might be an empty\u001b[39;00m\n\u001b[1;32m    514\u001b[0m         \u001b[38;5;66;03m# answer before the socket raises an error.\u001b[39;00m\n",
      "File \u001b[0;32m/net/software/testing/software/Python/3.10.4-GCCcore-11.3.0/lib/python3.10/socket.py:705\u001b[0m, in \u001b[0;36mSocketIO.readinto\u001b[0;34m(self, b)\u001b[0m\n\u001b[1;32m    703\u001b[0m \u001b[38;5;28;01mwhile\u001b[39;00m \u001b[38;5;28;01mTrue\u001b[39;00m:\n\u001b[1;32m    704\u001b[0m     \u001b[38;5;28;01mtry\u001b[39;00m:\n\u001b[0;32m--> 705\u001b[0m         \u001b[38;5;28;01mreturn\u001b[39;00m \u001b[38;5;28;43mself\u001b[39;49m\u001b[38;5;241;43m.\u001b[39;49m\u001b[43m_sock\u001b[49m\u001b[38;5;241;43m.\u001b[39;49m\u001b[43mrecv_into\u001b[49m\u001b[43m(\u001b[49m\u001b[43mb\u001b[49m\u001b[43m)\u001b[49m\n\u001b[1;32m    706\u001b[0m     \u001b[38;5;28;01mexcept\u001b[39;00m timeout:\n\u001b[1;32m    707\u001b[0m         \u001b[38;5;28mself\u001b[39m\u001b[38;5;241m.\u001b[39m_timeout_occurred \u001b[38;5;241m=\u001b[39m \u001b[38;5;28;01mTrue\u001b[39;00m\n",
      "\u001b[0;31mKeyboardInterrupt\u001b[0m: "
     ]
    }
   ],
   "source": [
    "skat_tables = []\n",
    "\n",
    "for x in list(range(20)):\n",
    "    \n",
    "    lambdas = []\n",
    "    \n",
    "    for i in list(range(10)):\n",
    "        \n",
    "        if os.path.exists(\n",
    "                localfs_path+'skat_table_'+str(x)+'_scores_no_filter_parts_'+str(i)+'.mt'\n",
    "            ):\n",
    "            skat_table = hl.read_table(\n",
    "                    localfs_path+'skat_table_'+str(x)+'_scores_no_filter_parts_'+str(i)+'.mt'\n",
    "                )\n",
    "            print('skat_table_'+str(x)+'_scores_no_filter_'+str(i)+'.mt')\n",
    "\n",
    "            lambdas.append(hl.lambda_gc(skat_table.p_value))\n",
    "            skat_tables.append(skat_table)\n",
    "            \n",
    "    print(lambdas)\n",
    "    print(np.median(np.array(lambdas)))         "
   ]
  },
  {
   "cell_type": "markdown",
   "id": "10b0c0f8-88cc-46b9-844d-063fc9a71fbe",
   "metadata": {},
   "source": [
    "### Now run the same tests but in selected genes for best parameters"
   ]
  },
  {
   "cell_type": "code",
   "execution_count": 6,
   "id": "62238677-c9af-4517-8969-442cc2efe7f1",
   "metadata": {
    "tags": []
   },
   "outputs": [],
   "source": [
    "#mts = []\n",
    "\n",
    "#for i in list(range(10)):\n",
    "#    mts.append(\n",
    "#        hl.read_matrix_table(\n",
    "#            '/net/pr2/projects/plgrid/plggneuromol/imdik-zekanowski-gts/data/mts/oligogenic-model/pl_'+str(i)+'annot.mt'\n",
    "#        )\n",
    "# )\n",
    "    \n",
    "    \n",
    "mts = []\n",
    "\n",
    "for i in list(range(10)):\n",
    "    mt = hl.read_matrix_table(localfs_path+'_pl_'+str(i)+'ann.mt')\n",
    "    mts.append(mt)\n",
    "    \n",
    "    \n",
    "skat_tables = []\n",
    "plots = []\n",
    "\n",
    "gene_list = ['DCC', 'RBFOX', 'SLC30A9', 'DCAF4L1', 'SORCS3', 'KCNQ5', 'KCNQ-IT1', 'APOPT1', 'C14orf2', 'NAA11', 'NEGR1',\n",
    "        'CHADL', 'SOX5', 'PANK2', 'COL27A1', 'PDGFB', 'CELSR3', 'OPA1', 'FBN2', 'WWC1', 'NIPBL', \n",
    "             'FN1', 'FBN2', 'SLITRK1', 'SLITRK2', 'SLITRK3', 'SLITRK4', 'SLITRK5', 'SLITRK6', \n",
    "             'HDC', 'OPRK1', 'PCDH10', 'NTSR2', 'CHD8', 'SCUBE1', 'PNKD', 'CNTNAP2', 'MOG', \n",
    "             'DRD2', 'DRD3', 'DRD4', 'DRD5', 'DAT1', 'DBH', 'HTR2A', 'TPH2', 'EAAT1', 'SAPAP3',\n",
    "            'CTNNA3', 'NLGN4', 'FSCB', 'IMMP2L', 'NRXN1', 'AADAC', 'DBH', 'MAOA', 'HTR1A', 'HTR2C', 'SLC6A4',\n",
    "             'TPH2', 'COL27A1', '5-HTTLPR', 'EAAT1', 'COL8A1', 'KCNE1', 'KCNE2',\n",
    "         'RICTOR', 'WWC1', 'CELSR3, NIPBL', 'FN1', 'PNKD', 'CDH26', 'CADM2', 'OPCML', 'CDH9',\n",
    "         'NCAM2', 'CD47', 'CDH5', 'CADM4', 'C1QBP', 'CTTN', 'LSAMP',\n",
    "         'PKP4', 'PCDH1', 'CNTNAP2', 'MBP', 'GABBR2', 'GABBR2', 'GRIK4', 'NCR1', 'FLT3', 'IL12A', 'HDAC9',\n",
    "         'CD180', 'CDH26', 'NCAM2', 'NTM', 'ROBO2', 'NR2F1', 'ASH1L', 'FLT3']"
   ]
  },
  {
   "cell_type": "code",
   "execution_count": null,
   "id": "28337517-a794-4d5c-b252-c0d88978f498",
   "metadata": {
    "tags": []
   },
   "outputs": [
    {
     "name": "stderr",
     "output_type": "stream",
     "text": [
      "2023-08-24 08:57:54.765 Hail: INFO: Ordering unsorted dataset with network shuffle\n",
      "2023-08-24 08:57:56.252 Hail: INFO: wrote table with 75 rows in 75 partitions to /localfs/4540692/tmp_hail/persist_tableFcqknxf6W2\n",
      "    Total size: 5.65 KiB\n",
      "    * Rows: 5.64 KiB\n",
      "    * Globals: 11.00 B\n",
      "    * Smallest partition: 1 rows (55.00 B)\n",
      "    * Largest partition:  1 rows (85.00 B)\n",
      "2023-08-24 08:57:57.815 Hail: INFO: wrote table with 75 rows in 75 partitions to /localfs/4540692/skat_table_6_scores_no_filter_gts_genes_0.mt\n",
      "2023-08-24 08:57:58.325 Hail: INFO: Coerced sorted dataset\n",
      "2023-08-24 08:57:58.331 Hail: INFO: Coerced dataset with out-of-order partitions.\n"
     ]
    },
    {
     "data": {
      "text/html": [
       "<table><thead><tr><td style=\"white-space: nowrap; max-width: 500px; overflow: hidden; text-overflow: ellipsis; \" colspan=\"1\"><div style=\"text-align: left;\"></div></td><td style=\"white-space: nowrap; max-width: 500px; overflow: hidden; text-overflow: ellipsis; \" colspan=\"1\"><div style=\"text-align: left;\"></div></td><td style=\"white-space: nowrap; max-width: 500px; overflow: hidden; text-overflow: ellipsis; \" colspan=\"1\"><div style=\"text-align: left;\"></div></td><td style=\"white-space: nowrap; max-width: 500px; overflow: hidden; text-overflow: ellipsis; \" colspan=\"1\"><div style=\"text-align: left;\"></div></td><td style=\"white-space: nowrap; max-width: 500px; overflow: hidden; text-overflow: ellipsis; \" colspan=\"1\"><div style=\"text-align: left;\"></div></td></tr><tr><td style=\"white-space: nowrap; max-width: 500px; overflow: hidden; text-overflow: ellipsis; \" colspan=\"1\"><div style=\"text-align: left;border-bottom: solid 2px #000; padding-bottom: 5px\">id</div></td><td style=\"white-space: nowrap; max-width: 500px; overflow: hidden; text-overflow: ellipsis; \" colspan=\"1\"><div style=\"text-align: left;border-bottom: solid 2px #000; padding-bottom: 5px\">size</div></td><td style=\"white-space: nowrap; max-width: 500px; overflow: hidden; text-overflow: ellipsis; \" colspan=\"1\"><div style=\"text-align: left;border-bottom: solid 2px #000; padding-bottom: 5px\">q_stat</div></td><td style=\"white-space: nowrap; max-width: 500px; overflow: hidden; text-overflow: ellipsis; \" colspan=\"1\"><div style=\"text-align: left;border-bottom: solid 2px #000; padding-bottom: 5px\">p_value</div></td><td style=\"white-space: nowrap; max-width: 500px; overflow: hidden; text-overflow: ellipsis; \" colspan=\"1\"><div style=\"text-align: left;border-bottom: solid 2px #000; padding-bottom: 5px\">fault</div></td></tr><tr><td style=\"white-space: nowrap; max-width: 500px; overflow: hidden; text-overflow: ellipsis; text-align: left;\">str</td><td style=\"white-space: nowrap; max-width: 500px; overflow: hidden; text-overflow: ellipsis; text-align: left;\">int32</td><td style=\"white-space: nowrap; max-width: 500px; overflow: hidden; text-overflow: ellipsis; text-align: left;\">float64</td><td style=\"white-space: nowrap; max-width: 500px; overflow: hidden; text-overflow: ellipsis; text-align: left;\">float64</td><td style=\"white-space: nowrap; max-width: 500px; overflow: hidden; text-overflow: ellipsis; text-align: left;\">int32</td></tr>\n",
       "</thead><tbody><tr><td style=\"white-space: nowrap; max-width: 500px; overflow: hidden; text-overflow: ellipsis; \">&quot;CHADL&quot;</td><td style=\"white-space: nowrap; max-width: 500px; overflow: hidden; text-overflow: ellipsis; \">100</td><td style=\"white-space: nowrap; max-width: 500px; overflow: hidden; text-overflow: ellipsis; \">4.45e+03</td><td style=\"white-space: nowrap; max-width: 500px; overflow: hidden; text-overflow: ellipsis; \">7.07e-05</td><td style=\"white-space: nowrap; max-width: 500px; overflow: hidden; text-overflow: ellipsis; \">0</td></tr>\n",
       "<tr><td style=\"white-space: nowrap; max-width: 500px; overflow: hidden; text-overflow: ellipsis; \">&quot;MAOA&quot;</td><td style=\"white-space: nowrap; max-width: 500px; overflow: hidden; text-overflow: ellipsis; \">5</td><td style=\"white-space: nowrap; max-width: 500px; overflow: hidden; text-overflow: ellipsis; \">9.90e+01</td><td style=\"white-space: nowrap; max-width: 500px; overflow: hidden; text-overflow: ellipsis; \">4.48e-04</td><td style=\"white-space: nowrap; max-width: 500px; overflow: hidden; text-overflow: ellipsis; \">0</td></tr>\n",
       "<tr><td style=\"white-space: nowrap; max-width: 500px; overflow: hidden; text-overflow: ellipsis; \">&quot;HTR2A&quot;</td><td style=\"white-space: nowrap; max-width: 500px; overflow: hidden; text-overflow: ellipsis; \">246</td><td style=\"white-space: nowrap; max-width: 500px; overflow: hidden; text-overflow: ellipsis; \">4.01e+03</td><td style=\"white-space: nowrap; max-width: 500px; overflow: hidden; text-overflow: ellipsis; \">9.87e-04</td><td style=\"white-space: nowrap; max-width: 500px; overflow: hidden; text-overflow: ellipsis; \">0</td></tr>\n",
       "<tr><td style=\"white-space: nowrap; max-width: 500px; overflow: hidden; text-overflow: ellipsis; \">&quot;DRD2&quot;</td><td style=\"white-space: nowrap; max-width: 500px; overflow: hidden; text-overflow: ellipsis; \">222</td><td style=\"white-space: nowrap; max-width: 500px; overflow: hidden; text-overflow: ellipsis; \">3.71e+03</td><td style=\"white-space: nowrap; max-width: 500px; overflow: hidden; text-overflow: ellipsis; \">2.16e-03</td><td style=\"white-space: nowrap; max-width: 500px; overflow: hidden; text-overflow: ellipsis; \">0</td></tr>\n",
       "<tr><td style=\"white-space: nowrap; max-width: 500px; overflow: hidden; text-overflow: ellipsis; \">&quot;SLITRK5&quot;</td><td style=\"white-space: nowrap; max-width: 500px; overflow: hidden; text-overflow: ellipsis; \">132</td><td style=\"white-space: nowrap; max-width: 500px; overflow: hidden; text-overflow: ellipsis; \">1.42e+03</td><td style=\"white-space: nowrap; max-width: 500px; overflow: hidden; text-overflow: ellipsis; \">4.19e-03</td><td style=\"white-space: nowrap; max-width: 500px; overflow: hidden; text-overflow: ellipsis; \">0</td></tr>\n",
       "<tr><td style=\"white-space: nowrap; max-width: 500px; overflow: hidden; text-overflow: ellipsis; \">&quot;CDH9&quot;</td><td style=\"white-space: nowrap; max-width: 500px; overflow: hidden; text-overflow: ellipsis; \">448</td><td style=\"white-space: nowrap; max-width: 500px; overflow: hidden; text-overflow: ellipsis; \">4.11e+03</td><td style=\"white-space: nowrap; max-width: 500px; overflow: hidden; text-overflow: ellipsis; \">1.26e-02</td><td style=\"white-space: nowrap; max-width: 500px; overflow: hidden; text-overflow: ellipsis; \">0</td></tr>\n",
       "<tr><td style=\"white-space: nowrap; max-width: 500px; overflow: hidden; text-overflow: ellipsis; \">&quot;PCDH1&quot;</td><td style=\"white-space: nowrap; max-width: 500px; overflow: hidden; text-overflow: ellipsis; \">113</td><td style=\"white-space: nowrap; max-width: 500px; overflow: hidden; text-overflow: ellipsis; \">3.43e+03</td><td style=\"white-space: nowrap; max-width: 500px; overflow: hidden; text-overflow: ellipsis; \">1.28e-02</td><td style=\"white-space: nowrap; max-width: 500px; overflow: hidden; text-overflow: ellipsis; \">0</td></tr>\n",
       "<tr><td style=\"white-space: nowrap; max-width: 500px; overflow: hidden; text-overflow: ellipsis; \">&quot;SORCS3&quot;</td><td style=\"white-space: nowrap; max-width: 500px; overflow: hidden; text-overflow: ellipsis; \">1324</td><td style=\"white-space: nowrap; max-width: 500px; overflow: hidden; text-overflow: ellipsis; \">1.73e+04</td><td style=\"white-space: nowrap; max-width: 500px; overflow: hidden; text-overflow: ellipsis; \">1.65e-02</td><td style=\"white-space: nowrap; max-width: 500px; overflow: hidden; text-overflow: ellipsis; \">0</td></tr>\n",
       "<tr><td style=\"white-space: nowrap; max-width: 500px; overflow: hidden; text-overflow: ellipsis; \">&quot;PCDH10&quot;</td><td style=\"white-space: nowrap; max-width: 500px; overflow: hidden; text-overflow: ellipsis; \">239</td><td style=\"white-space: nowrap; max-width: 500px; overflow: hidden; text-overflow: ellipsis; \">3.27e+03</td><td style=\"white-space: nowrap; max-width: 500px; overflow: hidden; text-overflow: ellipsis; \">1.67e-02</td><td style=\"white-space: nowrap; max-width: 500px; overflow: hidden; text-overflow: ellipsis; \">0</td></tr>\n",
       "<tr><td style=\"white-space: nowrap; max-width: 500px; overflow: hidden; text-overflow: ellipsis; \">&quot;CHD8&quot;</td><td style=\"white-space: nowrap; max-width: 500px; overflow: hidden; text-overflow: ellipsis; \">148</td><td style=\"white-space: nowrap; max-width: 500px; overflow: hidden; text-overflow: ellipsis; \">1.00e+03</td><td style=\"white-space: nowrap; max-width: 500px; overflow: hidden; text-overflow: ellipsis; \">2.10e-02</td><td style=\"white-space: nowrap; max-width: 500px; overflow: hidden; text-overflow: ellipsis; \">0</td></tr>\n",
       "<tr><td style=\"white-space: nowrap; max-width: 500px; overflow: hidden; text-overflow: ellipsis; \">&quot;SLITRK2&quot;</td><td style=\"white-space: nowrap; max-width: 500px; overflow: hidden; text-overflow: ellipsis; \">18</td><td style=\"white-space: nowrap; max-width: 500px; overflow: hidden; text-overflow: ellipsis; \">8.29e+01</td><td style=\"white-space: nowrap; max-width: 500px; overflow: hidden; text-overflow: ellipsis; \">2.22e-02</td><td style=\"white-space: nowrap; max-width: 500px; overflow: hidden; text-overflow: ellipsis; \">0</td></tr>\n",
       "<tr><td style=\"white-space: nowrap; max-width: 500px; overflow: hidden; text-overflow: ellipsis; \">&quot;FSCB&quot;</td><td style=\"white-space: nowrap; max-width: 500px; overflow: hidden; text-overflow: ellipsis; \">66</td><td style=\"white-space: nowrap; max-width: 500px; overflow: hidden; text-overflow: ellipsis; \">1.05e+03</td><td style=\"white-space: nowrap; max-width: 500px; overflow: hidden; text-overflow: ellipsis; \">2.32e-02</td><td style=\"white-space: nowrap; max-width: 500px; overflow: hidden; text-overflow: ellipsis; \">0</td></tr>\n",
       "<tr><td style=\"white-space: nowrap; max-width: 500px; overflow: hidden; text-overflow: ellipsis; \">&quot;KCNQ5&quot;</td><td style=\"white-space: nowrap; max-width: 500px; overflow: hidden; text-overflow: ellipsis; \">1080</td><td style=\"white-space: nowrap; max-width: 500px; overflow: hidden; text-overflow: ellipsis; \">1.13e+04</td><td style=\"white-space: nowrap; max-width: 500px; overflow: hidden; text-overflow: ellipsis; \">3.50e-02</td><td style=\"white-space: nowrap; max-width: 500px; overflow: hidden; text-overflow: ellipsis; \">0</td></tr>\n",
       "<tr><td style=\"white-space: nowrap; max-width: 500px; overflow: hidden; text-overflow: ellipsis; \">&quot;NAA11&quot;</td><td style=\"white-space: nowrap; max-width: 500px; overflow: hidden; text-overflow: ellipsis; \">156</td><td style=\"white-space: nowrap; max-width: 500px; overflow: hidden; text-overflow: ellipsis; \">2.57e+03</td><td style=\"white-space: nowrap; max-width: 500px; overflow: hidden; text-overflow: ellipsis; \">3.96e-02</td><td style=\"white-space: nowrap; max-width: 500px; overflow: hidden; text-overflow: ellipsis; \">0</td></tr>\n",
       "<tr><td style=\"white-space: nowrap; max-width: 500px; overflow: hidden; text-overflow: ellipsis; \">&quot;SLITRK4&quot;</td><td style=\"white-space: nowrap; max-width: 500px; overflow: hidden; text-overflow: ellipsis; \">11</td><td style=\"white-space: nowrap; max-width: 500px; overflow: hidden; text-overflow: ellipsis; \">8.55e+01</td><td style=\"white-space: nowrap; max-width: 500px; overflow: hidden; text-overflow: ellipsis; \">4.21e-02</td><td style=\"white-space: nowrap; max-width: 500px; overflow: hidden; text-overflow: ellipsis; \">0</td></tr>\n",
       "<tr><td style=\"white-space: nowrap; max-width: 500px; overflow: hidden; text-overflow: ellipsis; \">&quot;NIPBL&quot;</td><td style=\"white-space: nowrap; max-width: 500px; overflow: hidden; text-overflow: ellipsis; \">203</td><td style=\"white-space: nowrap; max-width: 500px; overflow: hidden; text-overflow: ellipsis; \">1.94e+03</td><td style=\"white-space: nowrap; max-width: 500px; overflow: hidden; text-overflow: ellipsis; \">4.80e-02</td><td style=\"white-space: nowrap; max-width: 500px; overflow: hidden; text-overflow: ellipsis; \">0</td></tr>\n",
       "<tr><td style=\"white-space: nowrap; max-width: 500px; overflow: hidden; text-overflow: ellipsis; \">&quot;KCNE1&quot;</td><td style=\"white-space: nowrap; max-width: 500px; overflow: hidden; text-overflow: ellipsis; \">79</td><td style=\"white-space: nowrap; max-width: 500px; overflow: hidden; text-overflow: ellipsis; \">7.52e+02</td><td style=\"white-space: nowrap; max-width: 500px; overflow: hidden; text-overflow: ellipsis; \">5.07e-02</td><td style=\"white-space: nowrap; max-width: 500px; overflow: hidden; text-overflow: ellipsis; \">0</td></tr>\n",
       "<tr><td style=\"white-space: nowrap; max-width: 500px; overflow: hidden; text-overflow: ellipsis; \">&quot;AADAC&quot;</td><td style=\"white-space: nowrap; max-width: 500px; overflow: hidden; text-overflow: ellipsis; \">132</td><td style=\"white-space: nowrap; max-width: 500px; overflow: hidden; text-overflow: ellipsis; \">1.59e+03</td><td style=\"white-space: nowrap; max-width: 500px; overflow: hidden; text-overflow: ellipsis; \">1.10e-01</td><td style=\"white-space: nowrap; max-width: 500px; overflow: hidden; text-overflow: ellipsis; \">0</td></tr>\n",
       "<tr><td style=\"white-space: nowrap; max-width: 500px; overflow: hidden; text-overflow: ellipsis; \">&quot;DRD3&quot;</td><td style=\"white-space: nowrap; max-width: 500px; overflow: hidden; text-overflow: ellipsis; \">186</td><td style=\"white-space: nowrap; max-width: 500px; overflow: hidden; text-overflow: ellipsis; \">1.37e+03</td><td style=\"white-space: nowrap; max-width: 500px; overflow: hidden; text-overflow: ellipsis; \">1.40e-01</td><td style=\"white-space: nowrap; max-width: 500px; overflow: hidden; text-overflow: ellipsis; \">0</td></tr>\n",
       "<tr><td style=\"white-space: nowrap; max-width: 500px; overflow: hidden; text-overflow: ellipsis; \">&quot;PKP4&quot;</td><td style=\"white-space: nowrap; max-width: 500px; overflow: hidden; text-overflow: ellipsis; \">660</td><td style=\"white-space: nowrap; max-width: 500px; overflow: hidden; text-overflow: ellipsis; \">7.92e+03</td><td style=\"white-space: nowrap; max-width: 500px; overflow: hidden; text-overflow: ellipsis; \">1.50e-01</td><td style=\"white-space: nowrap; max-width: 500px; overflow: hidden; text-overflow: ellipsis; \">0</td></tr>\n",
       "</tbody></table><p style=\"background: #fdd; padding: 0.4em;\">showing top 20 rows</p>\n"
      ],
      "text/plain": [
       "+-----------+-------+----------+----------+-------+\n",
       "| id        |  size |   q_stat |  p_value | fault |\n",
       "+-----------+-------+----------+----------+-------+\n",
       "| str       | int32 |  float64 |  float64 | int32 |\n",
       "+-----------+-------+----------+----------+-------+\n",
       "| \"CHADL\"   |   100 | 4.45e+03 | 7.07e-05 |     0 |\n",
       "| \"MAOA\"    |     5 | 9.90e+01 | 4.48e-04 |     0 |\n",
       "| \"HTR2A\"   |   246 | 4.01e+03 | 9.87e-04 |     0 |\n",
       "| \"DRD2\"    |   222 | 3.71e+03 | 2.16e-03 |     0 |\n",
       "| \"SLITRK5\" |   132 | 1.42e+03 | 4.19e-03 |     0 |\n",
       "| \"CDH9\"    |   448 | 4.11e+03 | 1.26e-02 |     0 |\n",
       "| \"PCDH1\"   |   113 | 3.43e+03 | 1.28e-02 |     0 |\n",
       "| \"SORCS3\"  |  1324 | 1.73e+04 | 1.65e-02 |     0 |\n",
       "| \"PCDH10\"  |   239 | 3.27e+03 | 1.67e-02 |     0 |\n",
       "| \"CHD8\"    |   148 | 1.00e+03 | 2.10e-02 |     0 |\n",
       "| \"SLITRK2\" |    18 | 8.29e+01 | 2.22e-02 |     0 |\n",
       "| \"FSCB\"    |    66 | 1.05e+03 | 2.32e-02 |     0 |\n",
       "| \"KCNQ5\"   |  1080 | 1.13e+04 | 3.50e-02 |     0 |\n",
       "| \"NAA11\"   |   156 | 2.57e+03 | 3.96e-02 |     0 |\n",
       "| \"SLITRK4\" |    11 | 8.55e+01 | 4.21e-02 |     0 |\n",
       "| \"NIPBL\"   |   203 | 1.94e+03 | 4.80e-02 |     0 |\n",
       "| \"KCNE1\"   |    79 | 7.52e+02 | 5.07e-02 |     0 |\n",
       "| \"AADAC\"   |   132 | 1.59e+03 | 1.10e-01 |     0 |\n",
       "| \"DRD3\"    |   186 | 1.37e+03 | 1.40e-01 |     0 |\n",
       "| \"PKP4\"    |   660 | 7.92e+03 | 1.50e-01 |     0 |\n",
       "+-----------+-------+----------+----------+-------+\n",
       "showing top 20 rows"
      ]
     },
     "metadata": {},
     "output_type": "display_data"
    },
    {
     "name": "stderr",
     "output_type": "stream",
     "text": [
      "2023-08-24 08:58:00.257 Hail: INFO: Coerced sorted dataset\n",
      "2023-08-24 08:58:00.259 Hail: INFO: Coerced dataset with out-of-order partitions.\n",
      "/net/pr2/projects/plgrid/plggneuromol/imdik-zekanowski-gts/venv-hail-0.2.113/lib/python3.10/site-packages/bokeh/models/sources.py:235: FutureWarning: iteritems is deprecated and will be removed in a future version. Use .items instead.\n",
      "  tmp_data = {c: v.values for c, v in _df.iteritems()}\n",
      "2023-08-24 08:58:02.863 Hail: INFO: Coerced sorted dataset\n",
      "2023-08-24 08:58:02.865 Hail: INFO: Coerced dataset with out-of-order partitions.\n"
     ]
    },
    {
     "data": {
      "text/html": [
       "\n",
       "\n",
       "\n",
       "\n",
       "\n",
       "\n",
       "  <div class=\"bk-root\" id=\"29651cc9-e37f-4779-b22a-24c3e9d80c53\" data-root-id=\"1002\"></div>\n"
      ]
     },
     "metadata": {},
     "output_type": "display_data"
    },
    {
     "data": {
      "application/javascript": [
       "(function(root) {\n",
       "  function embed_document(root) {\n",
       "    \n",
       "  var docs_json = {\"2827aca0-5046-4910-ad88-0fa809eac505\":{\"roots\":{\"references\":[{\"attributes\":{\"below\":[{\"id\":\"1013\",\"type\":\"LinearAxis\"}],\"center\":[{\"id\":\"1017\",\"type\":\"Grid\"},{\"id\":\"1022\",\"type\":\"Grid\"},{\"id\":\"1046\",\"type\":\"Slope\"},{\"id\":\"1047\",\"type\":\"Label\"}],\"left\":[{\"id\":\"1018\",\"type\":\"LinearAxis\"}],\"plot_height\":800,\"plot_width\":800,\"renderers\":[{\"id\":\"1042\",\"type\":\"GlyphRenderer\"}],\"title\":{\"id\":\"1003\",\"type\":\"Title\"},\"toolbar\":{\"id\":\"1029\",\"type\":\"Toolbar\"},\"x_range\":{\"id\":\"1044\",\"type\":\"DataRange1d\"},\"x_scale\":{\"id\":\"1009\",\"type\":\"LinearScale\"},\"y_range\":{\"id\":\"1045\",\"type\":\"DataRange1d\"},\"y_scale\":{\"id\":\"1011\",\"type\":\"LinearScale\"}},\"id\":\"1002\",\"subtype\":\"Figure\",\"type\":\"Plot\"},{\"attributes\":{},\"id\":\"1054\",\"type\":\"UnionRenderers\"},{\"attributes\":{\"callback\":null,\"tooltips\":[[\"x\",\"@x\"],[\"y\",\"@y\"],[\"p_value\",\"@p_value\"]]},\"id\":\"1037\",\"type\":\"HoverTool\"},{\"attributes\":{},\"id\":\"1053\",\"type\":\"Selection\"},{\"attributes\":{\"active_drag\":\"auto\",\"active_inspect\":\"auto\",\"active_multi\":null,\"active_scroll\":\"auto\",\"active_tap\":\"auto\",\"tools\":[{\"id\":\"1023\",\"type\":\"PanTool\"},{\"id\":\"1024\",\"type\":\"WheelZoomTool\"},{\"id\":\"1025\",\"type\":\"BoxZoomTool\"},{\"id\":\"1026\",\"type\":\"SaveTool\"},{\"id\":\"1027\",\"type\":\"ResetTool\"},{\"id\":\"1028\",\"type\":\"HelpTool\"},{\"id\":\"1037\",\"type\":\"HoverTool\"}]},\"id\":\"1029\",\"type\":\"Toolbar\"},{\"attributes\":{},\"id\":\"1011\",\"type\":\"LinearScale\"},{\"attributes\":{\"callback\":null,\"data\":{\"index\":[0,1,2,3,4,5,6,7,8,9,10,11,12,13,14,15,16,17,18,19,20,21,22,23,24,25,26,27,28,29,30,31,32,33,34,35,36,37,38,39,40,41,42,43,44,45,46,47,48,49,50,51,52,53,54,55,56,57,58,59,60,61,62,63,64,65,66,67],\"p_value\":{\"__ndarray__\":\"mkF8YMf/7z/7lGOyuP/vP1bSim8o/O8/RYKpZtbS7z/+Q/rt68DvP3WtvU9Voe8/JXUCmgib7z+M22gAb4HvP0qbqntkc+8/yzDuBtFa7z8qjZjZ5zHvP6D5nLtdL+8/K6T8pNon7z9IxJRIohfvP2zPLAlQ0+4/EAUzpmCN7j/4+8VsySruP1xWYTPABe4/7dPxmIHK7T+Krgs/OB/sPxJr8SkAxus/jC0EOShh6z+BQ6hSswfrPxueXinLEOk/F4GxvoFJ5z+Q96qVCT/nP+0L6IU7F+c/x0rMs5LW5j/dek0PCsrlP5PjTulgfeU/rDdqhel75T9PdF34wXnkP+VFJuDXSOQ/9aCgFK3c4z8ceLXcmYnjP5eNzvkpDuI/lrTiGwqf4T/xL4LGTKLfP24yqgzjbt4/6SYxCKwc2D8Bp3fxftzXP98YAoBjz9Q/5lsf1hu11D+bWUsBaf/JP6A2qtOBrMk/76tyofKvxz8vNUI/U6/HP3uIRncQO8c/spsZ/Wg4wz9YGvhRDfvBPy1BRkCFI7w/G5KktbP5qT+uhh/3CJCoP5E9jFqrh6U/wWLDiZ5KpD/r1bYXh+mhP9NJWwEqwZc/7wue+CC6lj8guCXNeoyVPyRFZFjFG5E/l6iDYWXZkD9eHEsOjkiKPyXJGMSsvIk/yIptlO0qcT8X2EIUvLZhP0XqHz95KlA/E/Fzz/xiPT/1TXjTNogSPw==\",\"dtype\":\"float64\",\"shape\":[68]},\"x\":{\"__ndarray__\":\"J70f9WvJpT89ajrdwBSpP0fi82bEbKw/CJYAttnRrz8UGFBFNKKxPxx2/sVuYrM/niE/TNUptT8EyVGOo/i2PwtIhjgYz7g/IXk0IHWtuj9hYQ97/5O8PwEfSBsAg74/B7eB2GE9wD+JjNqIzT3BPxPMA8PtQsI/4vGFj+9Mwz+IScOJAlzEP0orJhNZcMU//bdgiyiKxj8FYluOqanHPwxIhjgYz8g/D+9bcrT6yT8IBANEwizLPwlgITKKZcw/jrAdpVmlzT9SPEBcg+zOP4T5L/evHdA/n7AILSfJ0D8B7tFT2njRP8XC0E8ALdI/vmOCTNTl0j//X3cxlqPTPwdCMieLZtQ/gMO+Lv4u1T+kcUPPQP3VP0j2fd2r0dY/BIDzYaCs1z9mQq+jiI7YPwIMwV7Zd9k/V1JjLxNp2j+DVeA8xGLbPwhgITKKZdw/wx6BlRRy3T/91U+WJ4nePwWe4myfq98/An5QOTpt4D8jKZcRYAvhP8K556PhsOE/ALQ40nZe4j/e7pDO8xTjPwPe6DtP1eM/0XXxD6qg5D8BfUnZWXjlPwBDsFf2XeY/wee/xmtT5z9hTBDzE1voPwIMwV7Zd+k/IubmuWmt6j8AcYh6gADsPwObOORYd+0/ATqZgWMa7z9g0oe3unrwP4FkiIPxjPE/ABdsEUXR8j+Ae/SUNl70PwBDsFf2XfY/AFocaTsv+T+AOEQ9QAD+Pw==\",\"dtype\":\"float64\",\"shape\":[68]},\"y\":{\"__ndarray__\":\"irw7EK1y6D6IiV5IpjTvPmCnne74sio/SHclb1qrYz8KFkbauX9rP9hV54b2rHQ/Prus/rIPdj+W4+2gerJ7P87RMlIRzH4/DAn39Scegj9uqpWDr6mGP8Ur0vQB8oY/rDybqHTIhz8Fs5Vy2peJP1v8sqFioZA/XDhK4taWlD/rTnr3HDuaP55JHQtfXpw/PjrJ0GHPnz8jqLrXs7msP74gtryZf68/HqLscWJWsT8eeGep9sOyP6UAc/uKJ7s/nRby2xarwT+fX1BiGcTBP6a6MomdI8I/NVrKMyTAwj/10UotQ13FPx4m7R4vIsY/9A5mk/olxj+6/pfQJdLIP25G902RV8k/ttAwNyCDyj/t4MBSj23LPygzDWVM0M8/GvDSx1CV0D9S/wsU7ZXTP1H4BYJNqdQ/i4GnwPIh2z8lPAt8T2zbP/+LnuvYOd8/dsk2uQpd3z+em5C7HSfmP4BH89W2U+Y/mGxIHD5y5z8dgNjKl3LnP3sCuyt4t+c/nY1Toq9Z6j+2kdOq40brP13VbkCar+4/zofpgh+39D8oAPyJmhr1PwPWgjAGBfY/+BFBD2pu9j+CYAZaRUz3P0KYf9wgJ/o/n6imRMp1+j+bx81lfdT6PxOjgxT1bvw/qs0bwh2K/D+Lp4jkL0T+P7ps+oWRaf4/cUqMTmwFA0Bc1KTCFFIFQHPaBUrrCwhAqiVeF2HJCkA/63UJO5oQQA==\",\"dtype\":\"float64\",\"shape\":[68]}},\"selected\":{\"id\":\"1053\",\"type\":\"Selection\"},\"selection_policy\":{\"id\":\"1054\",\"type\":\"UnionRenderers\"}},\"id\":\"1038\",\"type\":\"ColumnDataSource\"},{\"attributes\":{\"axis_label\":\"Observed -log10(p)\",\"formatter\":{\"id\":\"1050\",\"type\":\"BasicTickFormatter\"},\"ticker\":{\"id\":\"1019\",\"type\":\"BasicTicker\"}},\"id\":\"1018\",\"type\":\"LinearAxis\"},{\"attributes\":{},\"id\":\"1024\",\"type\":\"WheelZoomTool\"},{\"attributes\":{},\"id\":\"1027\",\"type\":\"ResetTool\"},{\"attributes\":{},\"id\":\"1019\",\"type\":\"BasicTicker\"},{\"attributes\":{},\"id\":\"1050\",\"type\":\"BasicTickFormatter\"},{\"attributes\":{\"fill_alpha\":{\"value\":0.1},\"fill_color\":{\"value\":\"#1f77b4\"},\"line_alpha\":{\"value\":0.1},\"line_color\":{\"value\":\"#1f77b4\"},\"size\":{\"units\":\"screen\",\"value\":6},\"x\":{\"field\":\"x\"},\"y\":{\"field\":\"y\"}},\"id\":\"1041\",\"type\":\"Circle\"},{\"attributes\":{\"source\":{\"id\":\"1038\",\"type\":\"ColumnDataSource\"}},\"id\":\"1043\",\"type\":\"CDSView\"},{\"attributes\":{\"callback\":null,\"end\":5.150615833112908,\"start\":0},\"id\":\"1044\",\"type\":\"DataRange1d\"},{\"attributes\":{},\"id\":\"1052\",\"type\":\"BasicTickFormatter\"},{\"attributes\":{\"bottom_units\":\"screen\",\"fill_alpha\":{\"value\":0.5},\"fill_color\":{\"value\":\"lightgrey\"},\"left_units\":\"screen\",\"level\":\"overlay\",\"line_alpha\":{\"value\":1.0},\"line_color\":{\"value\":\"black\"},\"line_dash\":[4,4],\"line_width\":{\"value\":2},\"render_mode\":\"css\",\"right_units\":\"screen\",\"top_units\":\"screen\"},\"id\":\"1055\",\"type\":\"BoxAnnotation\"},{\"attributes\":{\"callback\":null,\"end\":5.150615833112908,\"start\":0},\"id\":\"1045\",\"type\":\"DataRange1d\"},{\"attributes\":{\"data_source\":{\"id\":\"1038\",\"type\":\"ColumnDataSource\"},\"glyph\":{\"id\":\"1040\",\"type\":\"Circle\"},\"hover_glyph\":null,\"muted_glyph\":null,\"nonselection_glyph\":{\"id\":\"1041\",\"type\":\"Circle\"},\"selection_glyph\":null,\"view\":{\"id\":\"1043\",\"type\":\"CDSView\"}},\"id\":\"1042\",\"type\":\"GlyphRenderer\"},{\"attributes\":{},\"id\":\"1023\",\"type\":\"PanTool\"},{\"attributes\":{},\"id\":\"1026\",\"type\":\"SaveTool\"},{\"attributes\":{},\"id\":\"1028\",\"type\":\"HelpTool\"},{\"attributes\":{\"text\":\"\\u03bb GC: 0.57\",\"text_color\":{\"value\":\"black\"},\"text_font_size\":{\"value\":\"14pt\"},\"text_font_style\":\"bold\",\"x\":3.5280234581459715,\"y\":1},\"id\":\"1047\",\"type\":\"Label\"},{\"attributes\":{\"fill_color\":{\"value\":\"#1f77b4\"},\"line_color\":{\"value\":\"#1f77b4\"},\"size\":{\"units\":\"screen\",\"value\":6},\"x\":{\"field\":\"x\"},\"y\":{\"field\":\"y\"}},\"id\":\"1040\",\"type\":\"Circle\"},{\"attributes\":{\"gradient\":1,\"line_color\":{\"value\":\"red\"},\"y_intercept\":0},\"id\":\"1046\",\"type\":\"Slope\"},{\"attributes\":{},\"id\":\"1014\",\"type\":\"BasicTicker\"},{\"attributes\":{\"axis_label\":\"Expected -log10(p)\",\"formatter\":{\"id\":\"1052\",\"type\":\"BasicTickFormatter\"},\"ticker\":{\"id\":\"1014\",\"type\":\"BasicTicker\"}},\"id\":\"1013\",\"type\":\"LinearAxis\"},{\"attributes\":{},\"id\":\"1009\",\"type\":\"LinearScale\"},{\"attributes\":{\"ticker\":{\"id\":\"1014\",\"type\":\"BasicTicker\"}},\"id\":\"1017\",\"type\":\"Grid\"},{\"attributes\":{\"overlay\":{\"id\":\"1055\",\"type\":\"BoxAnnotation\"}},\"id\":\"1025\",\"type\":\"BoxZoomTool\"},{\"attributes\":{\"text\":\"Q-Q plot\"},\"id\":\"1003\",\"type\":\"Title\"},{\"attributes\":{\"dimension\":1,\"ticker\":{\"id\":\"1019\",\"type\":\"BasicTicker\"}},\"id\":\"1022\",\"type\":\"Grid\"}],\"root_ids\":[\"1002\"]},\"title\":\"Bokeh Application\",\"version\":\"1.4.0\"}};\n",
       "  var render_items = [{\"docid\":\"2827aca0-5046-4910-ad88-0fa809eac505\",\"roots\":{\"1002\":\"29651cc9-e37f-4779-b22a-24c3e9d80c53\"}}];\n",
       "  root.Bokeh.embed.embed_items_notebook(docs_json, render_items);\n",
       "\n",
       "  }\n",
       "  if (root.Bokeh !== undefined) {\n",
       "    embed_document(root);\n",
       "  } else {\n",
       "    var attempts = 0;\n",
       "    var timer = setInterval(function(root) {\n",
       "      if (root.Bokeh !== undefined) {\n",
       "        clearInterval(timer);\n",
       "        embed_document(root);\n",
       "      } else {\n",
       "        attempts++;\n",
       "        if (attempts > 100) {\n",
       "          clearInterval(timer);\n",
       "          console.log(\"Bokeh: ERROR: Unable to run BokehJS code because BokehJS library is missing\");\n",
       "        }\n",
       "      }\n",
       "    }, 10, root)\n",
       "  }\n",
       "})(window);"
      ],
      "application/vnd.bokehjs_exec.v0+json": ""
     },
     "metadata": {
      "application/vnd.bokehjs_exec.v0+json": {
       "id": "1002"
      }
     },
     "output_type": "display_data"
    },
    {
     "name": "stderr",
     "output_type": "stream",
     "text": [
      "2023-08-24 09:06:38.190 Hail: INFO: Ordering unsorted dataset with network shuffle\n",
      "2023-08-24 09:06:39.118 Hail: INFO: wrote table with 75 rows in 75 partitions to /localfs/4540692/tmp_hail/persist_tableZ4HORALRTA\n",
      "    Total size: 5.65 KiB\n",
      "    * Rows: 5.64 KiB\n",
      "    * Globals: 11.00 B\n",
      "    * Smallest partition: 1 rows (55.00 B)\n",
      "    * Largest partition:  1 rows (85.00 B)\n",
      "2023-08-24 09:06:39.751 Hail: INFO: wrote table with 75 rows in 75 partitions to /localfs/4540692/skat_table_6_scores_no_filter_gts_genes_1.mt\n",
      "2023-08-24 09:06:40.068 Hail: INFO: Coerced sorted dataset\n",
      "2023-08-24 09:06:40.070 Hail: INFO: Coerced dataset with out-of-order partitions.\n"
     ]
    },
    {
     "data": {
      "text/html": [
       "<table><thead><tr><td style=\"white-space: nowrap; max-width: 500px; overflow: hidden; text-overflow: ellipsis; \" colspan=\"1\"><div style=\"text-align: left;\"></div></td><td style=\"white-space: nowrap; max-width: 500px; overflow: hidden; text-overflow: ellipsis; \" colspan=\"1\"><div style=\"text-align: left;\"></div></td><td style=\"white-space: nowrap; max-width: 500px; overflow: hidden; text-overflow: ellipsis; \" colspan=\"1\"><div style=\"text-align: left;\"></div></td><td style=\"white-space: nowrap; max-width: 500px; overflow: hidden; text-overflow: ellipsis; \" colspan=\"1\"><div style=\"text-align: left;\"></div></td><td style=\"white-space: nowrap; max-width: 500px; overflow: hidden; text-overflow: ellipsis; \" colspan=\"1\"><div style=\"text-align: left;\"></div></td></tr><tr><td style=\"white-space: nowrap; max-width: 500px; overflow: hidden; text-overflow: ellipsis; \" colspan=\"1\"><div style=\"text-align: left;border-bottom: solid 2px #000; padding-bottom: 5px\">id</div></td><td style=\"white-space: nowrap; max-width: 500px; overflow: hidden; text-overflow: ellipsis; \" colspan=\"1\"><div style=\"text-align: left;border-bottom: solid 2px #000; padding-bottom: 5px\">size</div></td><td style=\"white-space: nowrap; max-width: 500px; overflow: hidden; text-overflow: ellipsis; \" colspan=\"1\"><div style=\"text-align: left;border-bottom: solid 2px #000; padding-bottom: 5px\">q_stat</div></td><td style=\"white-space: nowrap; max-width: 500px; overflow: hidden; text-overflow: ellipsis; \" colspan=\"1\"><div style=\"text-align: left;border-bottom: solid 2px #000; padding-bottom: 5px\">p_value</div></td><td style=\"white-space: nowrap; max-width: 500px; overflow: hidden; text-overflow: ellipsis; \" colspan=\"1\"><div style=\"text-align: left;border-bottom: solid 2px #000; padding-bottom: 5px\">fault</div></td></tr><tr><td style=\"white-space: nowrap; max-width: 500px; overflow: hidden; text-overflow: ellipsis; text-align: left;\">str</td><td style=\"white-space: nowrap; max-width: 500px; overflow: hidden; text-overflow: ellipsis; text-align: left;\">int32</td><td style=\"white-space: nowrap; max-width: 500px; overflow: hidden; text-overflow: ellipsis; text-align: left;\">float64</td><td style=\"white-space: nowrap; max-width: 500px; overflow: hidden; text-overflow: ellipsis; text-align: left;\">float64</td><td style=\"white-space: nowrap; max-width: 500px; overflow: hidden; text-overflow: ellipsis; text-align: left;\">int32</td></tr>\n",
       "</thead><tbody><tr><td style=\"white-space: nowrap; max-width: 500px; overflow: hidden; text-overflow: ellipsis; \">&quot;SORCS3&quot;</td><td style=\"white-space: nowrap; max-width: 500px; overflow: hidden; text-overflow: ellipsis; \">1334</td><td style=\"white-space: nowrap; max-width: 500px; overflow: hidden; text-overflow: ellipsis; \">2.19e+04</td><td style=\"white-space: nowrap; max-width: 500px; overflow: hidden; text-overflow: ellipsis; \">5.09e-04</td><td style=\"white-space: nowrap; max-width: 500px; overflow: hidden; text-overflow: ellipsis; \">0</td></tr>\n",
       "<tr><td style=\"white-space: nowrap; max-width: 500px; overflow: hidden; text-overflow: ellipsis; \">&quot;CHADL&quot;</td><td style=\"white-space: nowrap; max-width: 500px; overflow: hidden; text-overflow: ellipsis; \">96</td><td style=\"white-space: nowrap; max-width: 500px; overflow: hidden; text-overflow: ellipsis; \">3.63e+03</td><td style=\"white-space: nowrap; max-width: 500px; overflow: hidden; text-overflow: ellipsis; \">5.77e-04</td><td style=\"white-space: nowrap; max-width: 500px; overflow: hidden; text-overflow: ellipsis; \">0</td></tr>\n",
       "<tr><td style=\"white-space: nowrap; max-width: 500px; overflow: hidden; text-overflow: ellipsis; \">&quot;PCDH10&quot;</td><td style=\"white-space: nowrap; max-width: 500px; overflow: hidden; text-overflow: ellipsis; \">235</td><td style=\"white-space: nowrap; max-width: 500px; overflow: hidden; text-overflow: ellipsis; \">4.04e+03</td><td style=\"white-space: nowrap; max-width: 500px; overflow: hidden; text-overflow: ellipsis; \">2.53e-03</td><td style=\"white-space: nowrap; max-width: 500px; overflow: hidden; text-overflow: ellipsis; \">0</td></tr>\n",
       "<tr><td style=\"white-space: nowrap; max-width: 500px; overflow: hidden; text-overflow: ellipsis; \">&quot;CDH9&quot;</td><td style=\"white-space: nowrap; max-width: 500px; overflow: hidden; text-overflow: ellipsis; \">452</td><td style=\"white-space: nowrap; max-width: 500px; overflow: hidden; text-overflow: ellipsis; \">4.62e+03</td><td style=\"white-space: nowrap; max-width: 500px; overflow: hidden; text-overflow: ellipsis; \">5.96e-03</td><td style=\"white-space: nowrap; max-width: 500px; overflow: hidden; text-overflow: ellipsis; \">0</td></tr>\n",
       "<tr><td style=\"white-space: nowrap; max-width: 500px; overflow: hidden; text-overflow: ellipsis; \">&quot;MAOA&quot;</td><td style=\"white-space: nowrap; max-width: 500px; overflow: hidden; text-overflow: ellipsis; \">5</td><td style=\"white-space: nowrap; max-width: 500px; overflow: hidden; text-overflow: ellipsis; \">7.93e+01</td><td style=\"white-space: nowrap; max-width: 500px; overflow: hidden; text-overflow: ellipsis; \">7.64e-03</td><td style=\"white-space: nowrap; max-width: 500px; overflow: hidden; text-overflow: ellipsis; \">0</td></tr>\n",
       "<tr><td style=\"white-space: nowrap; max-width: 500px; overflow: hidden; text-overflow: ellipsis; \">&quot;KCNQ5&quot;</td><td style=\"white-space: nowrap; max-width: 500px; overflow: hidden; text-overflow: ellipsis; \">1081</td><td style=\"white-space: nowrap; max-width: 500px; overflow: hidden; text-overflow: ellipsis; \">1.28e+04</td><td style=\"white-space: nowrap; max-width: 500px; overflow: hidden; text-overflow: ellipsis; \">9.24e-03</td><td style=\"white-space: nowrap; max-width: 500px; overflow: hidden; text-overflow: ellipsis; \">0</td></tr>\n",
       "<tr><td style=\"white-space: nowrap; max-width: 500px; overflow: hidden; text-overflow: ellipsis; \">&quot;PCDH1&quot;</td><td style=\"white-space: nowrap; max-width: 500px; overflow: hidden; text-overflow: ellipsis; \">112</td><td style=\"white-space: nowrap; max-width: 500px; overflow: hidden; text-overflow: ellipsis; \">3.56e+03</td><td style=\"white-space: nowrap; max-width: 500px; overflow: hidden; text-overflow: ellipsis; \">1.06e-02</td><td style=\"white-space: nowrap; max-width: 500px; overflow: hidden; text-overflow: ellipsis; \">0</td></tr>\n",
       "<tr><td style=\"white-space: nowrap; max-width: 500px; overflow: hidden; text-overflow: ellipsis; \">&quot;HTR2A&quot;</td><td style=\"white-space: nowrap; max-width: 500px; overflow: hidden; text-overflow: ellipsis; \">246</td><td style=\"white-space: nowrap; max-width: 500px; overflow: hidden; text-overflow: ellipsis; \">3.13e+03</td><td style=\"white-space: nowrap; max-width: 500px; overflow: hidden; text-overflow: ellipsis; \">1.35e-02</td><td style=\"white-space: nowrap; max-width: 500px; overflow: hidden; text-overflow: ellipsis; \">0</td></tr>\n",
       "<tr><td style=\"white-space: nowrap; max-width: 500px; overflow: hidden; text-overflow: ellipsis; \">&quot;DRD2&quot;</td><td style=\"white-space: nowrap; max-width: 500px; overflow: hidden; text-overflow: ellipsis; \">219</td><td style=\"white-space: nowrap; max-width: 500px; overflow: hidden; text-overflow: ellipsis; \">3.04e+03</td><td style=\"white-space: nowrap; max-width: 500px; overflow: hidden; text-overflow: ellipsis; \">1.47e-02</td><td style=\"white-space: nowrap; max-width: 500px; overflow: hidden; text-overflow: ellipsis; \">0</td></tr>\n",
       "<tr><td style=\"white-space: nowrap; max-width: 500px; overflow: hidden; text-overflow: ellipsis; \">&quot;PKP4&quot;</td><td style=\"white-space: nowrap; max-width: 500px; overflow: hidden; text-overflow: ellipsis; \">661</td><td style=\"white-space: nowrap; max-width: 500px; overflow: hidden; text-overflow: ellipsis; \">1.11e+04</td><td style=\"white-space: nowrap; max-width: 500px; overflow: hidden; text-overflow: ellipsis; \">1.62e-02</td><td style=\"white-space: nowrap; max-width: 500px; overflow: hidden; text-overflow: ellipsis; \">0</td></tr>\n",
       "<tr><td style=\"white-space: nowrap; max-width: 500px; overflow: hidden; text-overflow: ellipsis; \">&quot;CD47&quot;</td><td style=\"white-space: nowrap; max-width: 500px; overflow: hidden; text-overflow: ellipsis; \">171</td><td style=\"white-space: nowrap; max-width: 500px; overflow: hidden; text-overflow: ellipsis; \">1.93e+03</td><td style=\"white-space: nowrap; max-width: 500px; overflow: hidden; text-overflow: ellipsis; \">5.66e-02</td><td style=\"white-space: nowrap; max-width: 500px; overflow: hidden; text-overflow: ellipsis; \">0</td></tr>\n",
       "<tr><td style=\"white-space: nowrap; max-width: 500px; overflow: hidden; text-overflow: ellipsis; \">&quot;SLITRK5&quot;</td><td style=\"white-space: nowrap; max-width: 500px; overflow: hidden; text-overflow: ellipsis; \">138</td><td style=\"white-space: nowrap; max-width: 500px; overflow: hidden; text-overflow: ellipsis; \">1.05e+03</td><td style=\"white-space: nowrap; max-width: 500px; overflow: hidden; text-overflow: ellipsis; \">6.84e-02</td><td style=\"white-space: nowrap; max-width: 500px; overflow: hidden; text-overflow: ellipsis; \">0</td></tr>\n",
       "<tr><td style=\"white-space: nowrap; max-width: 500px; overflow: hidden; text-overflow: ellipsis; \">&quot;COL8A1&quot;</td><td style=\"white-space: nowrap; max-width: 500px; overflow: hidden; text-overflow: ellipsis; \">366</td><td style=\"white-space: nowrap; max-width: 500px; overflow: hidden; text-overflow: ellipsis; \">5.13e+03</td><td style=\"white-space: nowrap; max-width: 500px; overflow: hidden; text-overflow: ellipsis; \">7.59e-02</td><td style=\"white-space: nowrap; max-width: 500px; overflow: hidden; text-overflow: ellipsis; \">0</td></tr>\n",
       "<tr><td style=\"white-space: nowrap; max-width: 500px; overflow: hidden; text-overflow: ellipsis; \">&quot;KCNE1&quot;</td><td style=\"white-space: nowrap; max-width: 500px; overflow: hidden; text-overflow: ellipsis; \">81</td><td style=\"white-space: nowrap; max-width: 500px; overflow: hidden; text-overflow: ellipsis; \">7.04e+02</td><td style=\"white-space: nowrap; max-width: 500px; overflow: hidden; text-overflow: ellipsis; \">8.05e-02</td><td style=\"white-space: nowrap; max-width: 500px; overflow: hidden; text-overflow: ellipsis; \">0</td></tr>\n",
       "<tr><td style=\"white-space: nowrap; max-width: 500px; overflow: hidden; text-overflow: ellipsis; \">&quot;NIPBL&quot;</td><td style=\"white-space: nowrap; max-width: 500px; overflow: hidden; text-overflow: ellipsis; \">202</td><td style=\"white-space: nowrap; max-width: 500px; overflow: hidden; text-overflow: ellipsis; \">1.80e+03</td><td style=\"white-space: nowrap; max-width: 500px; overflow: hidden; text-overflow: ellipsis; \">9.31e-02</td><td style=\"white-space: nowrap; max-width: 500px; overflow: hidden; text-overflow: ellipsis; \">0</td></tr>\n",
       "<tr><td style=\"white-space: nowrap; max-width: 500px; overflow: hidden; text-overflow: ellipsis; \">&quot;SLITRK2&quot;</td><td style=\"white-space: nowrap; max-width: 500px; overflow: hidden; text-overflow: ellipsis; \">17</td><td style=\"white-space: nowrap; max-width: 500px; overflow: hidden; text-overflow: ellipsis; \">7.08e+01</td><td style=\"white-space: nowrap; max-width: 500px; overflow: hidden; text-overflow: ellipsis; \">1.09e-01</td><td style=\"white-space: nowrap; max-width: 500px; overflow: hidden; text-overflow: ellipsis; \">0</td></tr>\n",
       "<tr><td style=\"white-space: nowrap; max-width: 500px; overflow: hidden; text-overflow: ellipsis; \">&quot;CHD8&quot;</td><td style=\"white-space: nowrap; max-width: 500px; overflow: hidden; text-overflow: ellipsis; \">148</td><td style=\"white-space: nowrap; max-width: 500px; overflow: hidden; text-overflow: ellipsis; \">8.51e+02</td><td style=\"white-space: nowrap; max-width: 500px; overflow: hidden; text-overflow: ellipsis; \">1.09e-01</td><td style=\"white-space: nowrap; max-width: 500px; overflow: hidden; text-overflow: ellipsis; \">0</td></tr>\n",
       "<tr><td style=\"white-space: nowrap; max-width: 500px; overflow: hidden; text-overflow: ellipsis; \">&quot;AADAC&quot;</td><td style=\"white-space: nowrap; max-width: 500px; overflow: hidden; text-overflow: ellipsis; \">133</td><td style=\"white-space: nowrap; max-width: 500px; overflow: hidden; text-overflow: ellipsis; \">1.55e+03</td><td style=\"white-space: nowrap; max-width: 500px; overflow: hidden; text-overflow: ellipsis; \">1.17e-01</td><td style=\"white-space: nowrap; max-width: 500px; overflow: hidden; text-overflow: ellipsis; \">0</td></tr>\n",
       "<tr><td style=\"white-space: nowrap; max-width: 500px; overflow: hidden; text-overflow: ellipsis; \">&quot;GABBR2&quot;</td><td style=\"white-space: nowrap; max-width: 500px; overflow: hidden; text-overflow: ellipsis; \">886</td><td style=\"white-space: nowrap; max-width: 500px; overflow: hidden; text-overflow: ellipsis; \">7.93e+03</td><td style=\"white-space: nowrap; max-width: 500px; overflow: hidden; text-overflow: ellipsis; \">1.41e-01</td><td style=\"white-space: nowrap; max-width: 500px; overflow: hidden; text-overflow: ellipsis; \">0</td></tr>\n",
       "<tr><td style=\"white-space: nowrap; max-width: 500px; overflow: hidden; text-overflow: ellipsis; \">&quot;HDAC9&quot;</td><td style=\"white-space: nowrap; max-width: 500px; overflow: hidden; text-overflow: ellipsis; \">1934</td><td style=\"white-space: nowrap; max-width: 500px; overflow: hidden; text-overflow: ellipsis; \">1.84e+04</td><td style=\"white-space: nowrap; max-width: 500px; overflow: hidden; text-overflow: ellipsis; \">1.63e-01</td><td style=\"white-space: nowrap; max-width: 500px; overflow: hidden; text-overflow: ellipsis; \">0</td></tr>\n",
       "</tbody></table><p style=\"background: #fdd; padding: 0.4em;\">showing top 20 rows</p>\n"
      ],
      "text/plain": [
       "+-----------+-------+----------+----------+-------+\n",
       "| id        |  size |   q_stat |  p_value | fault |\n",
       "+-----------+-------+----------+----------+-------+\n",
       "| str       | int32 |  float64 |  float64 | int32 |\n",
       "+-----------+-------+----------+----------+-------+\n",
       "| \"SORCS3\"  |  1334 | 2.19e+04 | 5.09e-04 |     0 |\n",
       "| \"CHADL\"   |    96 | 3.63e+03 | 5.77e-04 |     0 |\n",
       "| \"PCDH10\"  |   235 | 4.04e+03 | 2.53e-03 |     0 |\n",
       "| \"CDH9\"    |   452 | 4.62e+03 | 5.96e-03 |     0 |\n",
       "| \"MAOA\"    |     5 | 7.93e+01 | 7.64e-03 |     0 |\n",
       "| \"KCNQ5\"   |  1081 | 1.28e+04 | 9.24e-03 |     0 |\n",
       "| \"PCDH1\"   |   112 | 3.56e+03 | 1.06e-02 |     0 |\n",
       "| \"HTR2A\"   |   246 | 3.13e+03 | 1.35e-02 |     0 |\n",
       "| \"DRD2\"    |   219 | 3.04e+03 | 1.47e-02 |     0 |\n",
       "| \"PKP4\"    |   661 | 1.11e+04 | 1.62e-02 |     0 |\n",
       "| \"CD47\"    |   171 | 1.93e+03 | 5.66e-02 |     0 |\n",
       "| \"SLITRK5\" |   138 | 1.05e+03 | 6.84e-02 |     0 |\n",
       "| \"COL8A1\"  |   366 | 5.13e+03 | 7.59e-02 |     0 |\n",
       "| \"KCNE1\"   |    81 | 7.04e+02 | 8.05e-02 |     0 |\n",
       "| \"NIPBL\"   |   202 | 1.80e+03 | 9.31e-02 |     0 |\n",
       "| \"SLITRK2\" |    17 | 7.08e+01 | 1.09e-01 |     0 |\n",
       "| \"CHD8\"    |   148 | 8.51e+02 | 1.09e-01 |     0 |\n",
       "| \"AADAC\"   |   133 | 1.55e+03 | 1.17e-01 |     0 |\n",
       "| \"GABBR2\"  |   886 | 7.93e+03 | 1.41e-01 |     0 |\n",
       "| \"HDAC9\"   |  1934 | 1.84e+04 | 1.63e-01 |     0 |\n",
       "+-----------+-------+----------+----------+-------+\n",
       "showing top 20 rows"
      ]
     },
     "metadata": {},
     "output_type": "display_data"
    },
    {
     "name": "stderr",
     "output_type": "stream",
     "text": [
      "2023-08-24 09:06:41.140 Hail: INFO: Coerced sorted dataset\n",
      "2023-08-24 09:06:41.142 Hail: INFO: Coerced dataset with out-of-order partitions.\n",
      "/net/pr2/projects/plgrid/plggneuromol/imdik-zekanowski-gts/venv-hail-0.2.113/lib/python3.10/site-packages/bokeh/models/sources.py:235: FutureWarning: iteritems is deprecated and will be removed in a future version. Use .items instead.\n",
      "  tmp_data = {c: v.values for c, v in _df.iteritems()}\n",
      "2023-08-24 09:06:42.865 Hail: INFO: Coerced sorted dataset\n",
      "2023-08-24 09:06:42.867 Hail: INFO: Coerced dataset with out-of-order partitions.\n"
     ]
    },
    {
     "data": {
      "text/html": [
       "\n",
       "\n",
       "\n",
       "\n",
       "\n",
       "\n",
       "  <div class=\"bk-root\" id=\"be902ef7-0416-43d6-9fee-6f3b72fbf89f\" data-root-id=\"1104\"></div>\n"
      ]
     },
     "metadata": {},
     "output_type": "display_data"
    },
    {
     "data": {
      "application/javascript": [
       "(function(root) {\n",
       "  function embed_document(root) {\n",
       "    \n",
       "  var docs_json = {\"1d7b2260-db6f-4a4f-b589-9b2e53974cd4\":{\"roots\":{\"references\":[{\"attributes\":{\"below\":[{\"id\":\"1115\",\"type\":\"LinearAxis\"}],\"center\":[{\"id\":\"1119\",\"type\":\"Grid\"},{\"id\":\"1124\",\"type\":\"Grid\"},{\"id\":\"1148\",\"type\":\"Slope\"},{\"id\":\"1149\",\"type\":\"Label\"}],\"left\":[{\"id\":\"1120\",\"type\":\"LinearAxis\"}],\"plot_height\":800,\"plot_width\":800,\"renderers\":[{\"id\":\"1144\",\"type\":\"GlyphRenderer\"}],\"title\":{\"id\":\"1105\",\"type\":\"Title\"},\"toolbar\":{\"id\":\"1131\",\"type\":\"Toolbar\"},\"x_range\":{\"id\":\"1146\",\"type\":\"DataRange1d\"},\"x_scale\":{\"id\":\"1111\",\"type\":\"LinearScale\"},\"y_range\":{\"id\":\"1147\",\"type\":\"DataRange1d\"},\"y_scale\":{\"id\":\"1113\",\"type\":\"LinearScale\"}},\"id\":\"1104\",\"subtype\":\"Figure\",\"type\":\"Plot\"},{\"attributes\":{},\"id\":\"1113\",\"type\":\"LinearScale\"},{\"attributes\":{\"callback\":null,\"end\":4.293662155285084,\"start\":0},\"id\":\"1147\",\"type\":\"DataRange1d\"},{\"attributes\":{\"fill_color\":{\"value\":\"#1f77b4\"},\"line_color\":{\"value\":\"#1f77b4\"},\"size\":{\"units\":\"screen\",\"value\":6},\"x\":{\"field\":\"x\"},\"y\":{\"field\":\"y\"}},\"id\":\"1142\",\"type\":\"Circle\"},{\"attributes\":{\"source\":{\"id\":\"1140\",\"type\":\"ColumnDataSource\"}},\"id\":\"1145\",\"type\":\"CDSView\"},{\"attributes\":{\"ticker\":{\"id\":\"1116\",\"type\":\"BasicTicker\"}},\"id\":\"1119\",\"type\":\"Grid\"},{\"attributes\":{\"data_source\":{\"id\":\"1140\",\"type\":\"ColumnDataSource\"},\"glyph\":{\"id\":\"1142\",\"type\":\"Circle\"},\"hover_glyph\":null,\"muted_glyph\":null,\"nonselection_glyph\":{\"id\":\"1143\",\"type\":\"Circle\"},\"selection_glyph\":null,\"view\":{\"id\":\"1145\",\"type\":\"CDSView\"}},\"id\":\"1144\",\"type\":\"GlyphRenderer\"},{\"attributes\":{\"callback\":null,\"end\":4.293662155285084,\"start\":0},\"id\":\"1146\",\"type\":\"DataRange1d\"},{\"attributes\":{\"text\":\"\\u03bb GC: 1.58\",\"text_color\":{\"value\":\"red\"},\"text_font_size\":{\"value\":\"14pt\"},\"text_font_style\":\"bold\",\"x\":2.799612831992321,\"y\":1},\"id\":\"1149\",\"type\":\"Label\"},{\"attributes\":{},\"id\":\"1164\",\"type\":\"UnionRenderers\"},{\"attributes\":{},\"id\":\"1129\",\"type\":\"ResetTool\"},{\"attributes\":{\"callback\":null,\"data\":{\"index\":[0,1,2,3,4,5,6,7,8,9,10,11,12,13,14,15,16,17,18,19,20,21,22,23,24,25,26,27,28,29,30,31,32,33,34,35,36,37,38,39,40,41,42,43,44,45,46,47,48,49,50,51,52,53,54,55,56,57,58,59,60,61,62,63,64,65,66,67],\"p_value\":{\"__ndarray__\":\"AAAAAAAA8D8jEoWWdf/vPyz1LAjl/e8/vsCsUKT77z/pmzQNiubvPzIge7374+8//8wgPrDj7z92UInrGNfvP62GxD2Wvu8/fIDuy5lt7z8L0LaadUbvP/8FggAZOu8/ih74GKw47z9cyY6NQLzuP/5itmRVhO4/j+TyH9Jv7j8WaeId4MnsP0P+mUF8YOw/IlD9g0iG6z8uy9dl+E/rPz5A9+XM9uk/Plxy3Ckd6T8yO4veqQDoP13BNuLJ7uc/BitOtRZm5j/FrYIY6NrlP0G8rl+wm+M/DkqYaftX4j+/02TG20riP0IG8uzyLeI/jdXm/1VH4T8hBrr2BfTeP/j6Wpcaodo/u/CD86lj2j+zJasi3GTZPxNkBFQ4gtg/i6pf6Xx41z883uS36GTXP/Jgi90+q9Y/2GX4TzdQ1j+Jljyelh/TP8gMVMa/z9I/FVRU/Urn0D8/NzRlpx/OPxhBYyZRL8w/yQVn8PeLyT++g584gH7JPzWXGwx1WMk/piptcY3PxD8cJET5ghbCP2u4yD1d3b0/6UmZ1NAGvD+ADvPlBdi7P6PUFLfA1Lc/27HH+ryYtD8EPppFg2+zP5Ihx9YzhLE/2RE93wUArT/AHU2aq4uQP8rkL4ijBo4/t4IB38iXiz8ZYxaQrLKFP9RjnSJu64I/18UKCsVOfz/GNbpaWWh4P80xzTKTwWQ/evIlXuLrQj85i+6LEapAPw==\",\"dtype\":\"float64\",\"shape\":[68]},\"x\":{\"__ndarray__\":\"J70f9WvJpT89ajrdwBSpP0fi82bEbKw/CJYAttnRrz8UGFBFNKKxPxx2/sVuYrM/niE/TNUptT8EyVGOo/i2PwtIhjgYz7g/IXk0IHWtuj9hYQ97/5O8PwEfSBsAg74/B7eB2GE9wD+JjNqIzT3BPxPMA8PtQsI/4vGFj+9Mwz+IScOJAlzEP0orJhNZcMU//bdgiyiKxj8FYluOqanHPwxIhjgYz8g/D+9bcrT6yT8IBANEwizLPwlgITKKZcw/jrAdpVmlzT9SPEBcg+zOP4T5L/evHdA/n7AILSfJ0D8B7tFT2njRP8XC0E8ALdI/vmOCTNTl0j//X3cxlqPTPwdCMieLZtQ/gMO+Lv4u1T+kcUPPQP3VP0j2fd2r0dY/BIDzYaCs1z9mQq+jiI7YPwIMwV7Zd9k/V1JjLxNp2j+DVeA8xGLbPwhgITKKZdw/wx6BlRRy3T/91U+WJ4nePwWe4myfq98/An5QOTpt4D8jKZcRYAvhP8K556PhsOE/ALQ40nZe4j/e7pDO8xTjPwPe6DtP1eM/0XXxD6qg5D8BfUnZWXjlPwBDsFf2XeY/wee/xmtT5z9hTBDzE1voPwIMwV7Zd+k/IubmuWmt6j8AcYh6gADsPwObOORYd+0/ATqZgWMa7z9g0oe3unrwP4FkiIPxjPE/ABdsEUXR8j+Ae/SUNl70PwBDsFf2XfY/AFocaTsv+T+AOEQ9QAD+Pw==\",\"dtype\":\"float64\",\"shape\":[68]},\"y\":{\"__ndarray__\":\"jXvGYdKwZT4HVifpZwD+Pm1GQB7HOx0/TX4WdAtPLj8M22lC3CVWPz1fZW0yYFg/wTHAj3aiWD+NqpMH5c5hP96d0f/AhWw/EPoh8f8JgD8tQ690aWCEPxJHxScvwIU/Pm6g4cbohT+fDV2gjO6RP/gwxgSDGpU/RBMpsdlFlj9GaO4MF4SnPxcnkfT8t6o/axRNZgPAsD+ypBp6PJyxPyZ4t8AwPbc/y0Kerrnwuj/pTQtu5fi/P/R0EL7rJcA/INir45jUwz9q5suvRzLFP37spwcvOss/2kbSB9Tuzj/XW/ZdqhbPP8LaxkjLbs8/YVRGLwQh0T+N4TPsuTDUP5cDuP9cX9g/xjmricaf2D/KYCkjWLHZP+H8FmHVrdo/eaTcC8Th2z8jK98q//jbP4g/82YT2dw/rvyMn49J3T9E5KkBpsngPzBesDEmBOE/4Xw+hKOA4j9pBqeoDRvkP8bofEG9B+U/OFVV42Bl5j/P6wHjs2zmP4AjyliBgeY/2NfdfNs+6T+wpgNcuzHrP14ZzObN2+0/gtLrW8u97j8GSGycGNXuP0I1j+Fef/A/l9KakNeC8T9V4ymJDerxPw4pqHP/ovI/dLjrqC7z8z8RxlJNd6r8P/EPIp9iV/0/jNg+9bLt/T8/GYGVOpn/P80hUEx8RgBACbvnHgXvAEBUfFX4dcwBQMViZb8axQRAPxTPu3DoCUCwLUiLa1kKQA==\",\"dtype\":\"float64\",\"shape\":[68]}},\"selected\":{\"id\":\"1163\",\"type\":\"Selection\"},\"selection_policy\":{\"id\":\"1164\",\"type\":\"UnionRenderers\"}},\"id\":\"1140\",\"type\":\"ColumnDataSource\"},{\"attributes\":{},\"id\":\"1126\",\"type\":\"WheelZoomTool\"},{\"attributes\":{\"active_drag\":\"auto\",\"active_inspect\":\"auto\",\"active_multi\":null,\"active_scroll\":\"auto\",\"active_tap\":\"auto\",\"tools\":[{\"id\":\"1125\",\"type\":\"PanTool\"},{\"id\":\"1126\",\"type\":\"WheelZoomTool\"},{\"id\":\"1127\",\"type\":\"BoxZoomTool\"},{\"id\":\"1128\",\"type\":\"SaveTool\"},{\"id\":\"1129\",\"type\":\"ResetTool\"},{\"id\":\"1130\",\"type\":\"HelpTool\"},{\"id\":\"1139\",\"type\":\"HoverTool\"}]},\"id\":\"1131\",\"type\":\"Toolbar\"},{\"attributes\":{},\"id\":\"1116\",\"type\":\"BasicTicker\"},{\"attributes\":{\"gradient\":1,\"line_color\":{\"value\":\"red\"},\"y_intercept\":0},\"id\":\"1148\",\"type\":\"Slope\"},{\"attributes\":{},\"id\":\"1160\",\"type\":\"BasicTickFormatter\"},{\"attributes\":{},\"id\":\"1130\",\"type\":\"HelpTool\"},{\"attributes\":{\"axis_label\":\"Expected -log10(p)\",\"formatter\":{\"id\":\"1162\",\"type\":\"BasicTickFormatter\"},\"ticker\":{\"id\":\"1116\",\"type\":\"BasicTicker\"}},\"id\":\"1115\",\"type\":\"LinearAxis\"},{\"attributes\":{},\"id\":\"1128\",\"type\":\"SaveTool\"},{\"attributes\":{},\"id\":\"1162\",\"type\":\"BasicTickFormatter\"},{\"attributes\":{\"dimension\":1,\"ticker\":{\"id\":\"1121\",\"type\":\"BasicTicker\"}},\"id\":\"1124\",\"type\":\"Grid\"},{\"attributes\":{\"axis_label\":\"Observed -log10(p)\",\"formatter\":{\"id\":\"1160\",\"type\":\"BasicTickFormatter\"},\"ticker\":{\"id\":\"1121\",\"type\":\"BasicTicker\"}},\"id\":\"1120\",\"type\":\"LinearAxis\"},{\"attributes\":{\"text\":\"Q-Q plot\"},\"id\":\"1105\",\"type\":\"Title\"},{\"attributes\":{\"overlay\":{\"id\":\"1165\",\"type\":\"BoxAnnotation\"}},\"id\":\"1127\",\"type\":\"BoxZoomTool\"},{\"attributes\":{},\"id\":\"1111\",\"type\":\"LinearScale\"},{\"attributes\":{\"bottom_units\":\"screen\",\"fill_alpha\":{\"value\":0.5},\"fill_color\":{\"value\":\"lightgrey\"},\"left_units\":\"screen\",\"level\":\"overlay\",\"line_alpha\":{\"value\":1.0},\"line_color\":{\"value\":\"black\"},\"line_dash\":[4,4],\"line_width\":{\"value\":2},\"render_mode\":\"css\",\"right_units\":\"screen\",\"top_units\":\"screen\"},\"id\":\"1165\",\"type\":\"BoxAnnotation\"},{\"attributes\":{},\"id\":\"1125\",\"type\":\"PanTool\"},{\"attributes\":{},\"id\":\"1121\",\"type\":\"BasicTicker\"},{\"attributes\":{},\"id\":\"1163\",\"type\":\"Selection\"},{\"attributes\":{\"callback\":null,\"tooltips\":[[\"x\",\"@x\"],[\"y\",\"@y\"],[\"p_value\",\"@p_value\"]]},\"id\":\"1139\",\"type\":\"HoverTool\"},{\"attributes\":{\"fill_alpha\":{\"value\":0.1},\"fill_color\":{\"value\":\"#1f77b4\"},\"line_alpha\":{\"value\":0.1},\"line_color\":{\"value\":\"#1f77b4\"},\"size\":{\"units\":\"screen\",\"value\":6},\"x\":{\"field\":\"x\"},\"y\":{\"field\":\"y\"}},\"id\":\"1143\",\"type\":\"Circle\"}],\"root_ids\":[\"1104\"]},\"title\":\"Bokeh Application\",\"version\":\"1.4.0\"}};\n",
       "  var render_items = [{\"docid\":\"1d7b2260-db6f-4a4f-b589-9b2e53974cd4\",\"roots\":{\"1104\":\"be902ef7-0416-43d6-9fee-6f3b72fbf89f\"}}];\n",
       "  root.Bokeh.embed.embed_items_notebook(docs_json, render_items);\n",
       "\n",
       "  }\n",
       "  if (root.Bokeh !== undefined) {\n",
       "    embed_document(root);\n",
       "  } else {\n",
       "    var attempts = 0;\n",
       "    var timer = setInterval(function(root) {\n",
       "      if (root.Bokeh !== undefined) {\n",
       "        clearInterval(timer);\n",
       "        embed_document(root);\n",
       "      } else {\n",
       "        attempts++;\n",
       "        if (attempts > 100) {\n",
       "          clearInterval(timer);\n",
       "          console.log(\"Bokeh: ERROR: Unable to run BokehJS code because BokehJS library is missing\");\n",
       "        }\n",
       "      }\n",
       "    }, 10, root)\n",
       "  }\n",
       "})(window);"
      ],
      "application/vnd.bokehjs_exec.v0+json": ""
     },
     "metadata": {
      "application/vnd.bokehjs_exec.v0+json": {
       "id": "1104"
      }
     },
     "output_type": "display_data"
    },
    {
     "name": "stderr",
     "output_type": "stream",
     "text": [
      "[Stage 40:===================================>                 (327 + 12) / 488]\r"
     ]
    }
   ],
   "source": [
    "for idx, mt in enumerate(mts):\n",
    "    mt = mt.filter_rows(hl.literal(gene_list).contains(mt.nearest_genes_20kb))\n",
    "    #skat_table, qq_plot = run_skat_log(mt, 5, 'scores_no_filter', '_polish_without_'+str(idx))\n",
    "    #seed1\n",
    "    skat_table, qq_plot = run_skat_log(mt, 6, 'scores_no_filter', '_gts_genes_'+str(idx))\n",
    "    skat_tables.append(skat_table)\n",
    "    plots.append(qq_plot)"
   ]
  },
  {
   "cell_type": "code",
   "execution_count": 13,
   "id": "4c3f8706-1c6b-44b1-951a-4a0f59d1c87c",
   "metadata": {
    "tags": []
   },
   "outputs": [
    {
     "name": "stderr",
     "output_type": "stream",
     "text": [
      "2023-08-24 10:27:00.332 Hail: INFO: merging 76 files totalling 8.3K...\n",
      "2023-08-24 10:27:00.350 Hail: INFO: while writing:\n",
      "    results-with-synthetic-controls-2.tsv\n",
      "  merge time: 17.992ms\n"
     ]
    }
   ],
   "source": [
    "skat_results = skat_tables[0]\n",
    "\n",
    "skat_results = skat_results.select(\n",
    "    skat_results.size\n",
    ")\n",
    "\n",
    "field_names = []\n",
    "\n",
    "for i in list(range(9)):\n",
    "    field_names.append('p_value_'+str(i))\n",
    "\n",
    "skat_results = skat_results.annotate(\n",
    "    **{\n",
    "        f'p_value_{idx}': skat_tables[idx][skat_results.id].p_value\n",
    "        for idx in list(range(10))\n",
    "    }\n",
    ")\n",
    "\n",
    "skat_results.export('results-with-synthetic-controls-2.tsv')"
   ]
  },
  {
   "cell_type": "code",
   "execution_count": null,
   "id": "46758779-1935-4cd8-beed-f0cd3a6f33d5",
   "metadata": {},
   "outputs": [],
   "source": []
  }
 ],
 "metadata": {
  "kernelspec": {
   "display_name": "Python 3 (ipykernel)",
   "language": "python",
   "name": "python3"
  },
  "language_info": {
   "codemirror_mode": {
    "name": "ipython",
    "version": 3
   },
   "file_extension": ".py",
   "mimetype": "text/x-python",
   "name": "python",
   "nbconvert_exporter": "python",
   "pygments_lexer": "ipython3",
   "version": "3.10.4"
  }
 },
 "nbformat": 4,
 "nbformat_minor": 5
}
