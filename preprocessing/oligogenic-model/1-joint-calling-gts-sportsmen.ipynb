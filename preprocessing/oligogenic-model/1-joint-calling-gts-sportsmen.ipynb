{
 "cells": [
  {
   "cell_type": "code",
   "execution_count": 1,
   "id": "f036534a-db30-4c19-bba5-5cc46caeaf3c",
   "metadata": {
    "tags": []
   },
   "outputs": [],
   "source": [
    "import os\n",
    "localfs_path = os.environ.get('SCRATCH_LOCAL') + '/'"
   ]
  },
  {
   "cell_type": "code",
   "execution_count": 3,
   "id": "e18a89bf-f57f-4177-8e0e-469588f3b062",
   "metadata": {
    "tags": []
   },
   "outputs": [
    {
     "name": "stderr",
     "output_type": "stream",
     "text": [
      "WARNING: An illegal reflective access operation has occurred\n",
      "WARNING: Illegal reflective access by org.apache.spark.unsafe.Platform (file:/net/pr2/projects/plgrid/plggneuromol/imdik-zekanowski-gts/venv-hail-0.2.105/lib/python3.10/site-packages/pyspark/jars/spark-unsafe_2.12-3.1.3.jar) to constructor java.nio.DirectByteBuffer(long,int)\n",
      "WARNING: Please consider reporting this to the maintainers of org.apache.spark.unsafe.Platform\n",
      "WARNING: Use --illegal-access=warn to enable warnings of further illegal reflective access operations\n",
      "WARNING: All illegal access operations will be denied in a future release\n"
     ]
    },
    {
     "name": "stdout",
     "output_type": "stream",
     "text": [
      "2023-04-16 09:07:20.396 WARN  NativeCodeLoader:60 - Unable to load native-hadoop library for your platform... using builtin-java classes where applicable\n"
     ]
    },
    {
     "name": "stderr",
     "output_type": "stream",
     "text": [
      "Setting default log level to \"WARN\".\n",
      "To adjust logging level use sc.setLogLevel(newLevel). For SparkR, use setLogLevel(newLevel).\n",
      "Running on Apache Spark version 3.1.3\n",
      "SparkUI available at http://ac0765:4040\n",
      "Welcome to\n",
      "     __  __     <>__\n",
      "    / /_/ /__  __/ /\n",
      "   / __  / _ `/ / /\n",
      "  /_/ /_/\\_,_/_/_/   version 0.2.109-b71b065e4bb6\n",
      "LOGGING: writing to /net/pr2/projects/plgrid/plggneuromol/imdik-zekanowski-gts/preprocessing/oligogenic-model/hail-20230416-0907-0.2.109-b71b065e4bb6.log\n"
     ]
    }
   ],
   "source": [
    "import hail as hl\n",
    "\n",
    "hl.init(\n",
    "    tmp_dir=(localfs_path+'tmp_hail_3'),\n",
    "    spark_conf={'spark.driver.memory': '30G', 'spark.executor.memory': '10G'}, # I don't know what should be here\n",
    "    default_reference='GRCh38'\n",
    ") "
   ]
  },
  {
   "cell_type": "markdown",
   "id": "5ad0a7a7-67f5-4b5c-ad2d-2a759ddee066",
   "metadata": {
    "tags": []
   },
   "source": [
    "# 1. Genotype sportsmen and gts together\n",
    "note:  saved in scratch"
   ]
  },
  {
   "cell_type": "code",
   "execution_count": 5,
   "id": "c7558647-4571-4c15-a9ec-e5c7d3e16a33",
   "metadata": {
    "tags": []
   },
   "outputs": [],
   "source": [
    "files = os.listdir('/net/pr2/projects/plgrid/plggneuromol/imdik-zekanowski-sportwgs/data/gvcf')\n",
    "\n",
    "gvcfs_sport = []\n",
    "\n",
    "for f in files:\n",
    "    if (f.find(\"tbi\")) == -1:\n",
    "        gvcfs_sport.append('/net/pr2/projects/plgrid/plggneuromol/imdik-zekanowski-sportwgs/data/gvcf/'+f)\n",
    "\n",
    "gvcfs_sport.sort()\n",
    "\n",
    "\n",
    "samples_sport = []\n",
    "\n",
    "for f in files:\n",
    "    if (f.find(\"tbi\")) == -1:\n",
    "        samples_sport.append((f.split('.'))[0])\n",
    "\n",
    "samples_sport.sort()"
   ]
  },
  {
   "cell_type": "code",
   "execution_count": 6,
   "id": "884d8ae4-1c97-4e0f-819a-f62c9bf63636",
   "metadata": {
    "tags": []
   },
   "outputs": [],
   "source": [
    "files = os.listdir('/net/pr2/projects/plgrid/plggneuromol/imdik-zekanowski-gts/data/gvcf')\n",
    "\n",
    "gvcfs_gts = []\n",
    "\n",
    "for f in files:\n",
    "    if (f.find(\"tbi\")) == -1:\n",
    "        gvcfs_gts.append('/net/pr2/projects/plgrid/plggneuromol/imdik-zekanowski-gts/data/gvcf/'+f)\n",
    "\n",
    "gvcfs_gts.sort()"
   ]
  },
  {
   "cell_type": "code",
   "execution_count": 5,
   "id": "d5612d18-b2a4-42db-99cd-1c8ecbea36b5",
   "metadata": {
    "tags": []
   },
   "outputs": [
    {
     "data": {
      "text/plain": [
       "'/net/pr2/projects/plgrid/plggneuromol/imdik-zekanowski-gts/data/gvcf/lowqual'"
      ]
     },
     "execution_count": 5,
     "metadata": {},
     "output_type": "execute_result"
    }
   ],
   "source": [
    "#there are some extra files in the lit list - let's pop them\n",
    "gvcfs_gts.pop(-1)"
   ]
  },
  {
   "cell_type": "code",
   "execution_count": 15,
   "id": "89974275-ddce-42e2-85bd-af63d9e16ce1",
   "metadata": {},
   "outputs": [],
   "source": [
    "samples_gts = []\n",
    "\n",
    "for f in files:\n",
    "    if (f.find(\"tbi\")) == -1:\n",
    "        samples_gts.append((f.split('.'))[0])\n",
    "\n",
    "samples_gts.sort()"
   ]
  },
  {
   "cell_type": "code",
   "execution_count": 17,
   "id": "934d0dad-4ea6-45ce-a509-a6146d003841",
   "metadata": {},
   "outputs": [
    {
     "data": {
      "text/plain": [
       "''"
      ]
     },
     "execution_count": 17,
     "metadata": {},
     "output_type": "execute_result"
    }
   ],
   "source": [
    "#there are extra files - let' pop them\n",
    "samples_gts.pop(-1)"
   ]
  },
  {
   "cell_type": "code",
   "execution_count": 26,
   "id": "3de132c8-3dc4-4171-bef7-ac8cdc70a313",
   "metadata": {
    "tags": []
   },
   "outputs": [],
   "source": [
    "samples = samples_gts + samples_sport\n",
    "gvcfs = gvcfs_gts + gvcfs_sport"
   ]
  },
  {
   "cell_type": "markdown",
   "id": "7c45c40d-ce75-4e36-8de2-beb9d5df8fe2",
   "metadata": {
    "tags": []
   },
   "source": [
    "actual genotyping"
   ]
  },
  {
   "cell_type": "code",
   "execution_count": null,
   "id": "73e729c5-e6ba-4ed5-ab84-f033f406b65d",
   "metadata": {
    "tags": []
   },
   "outputs": [],
   "source": [
    "#done\n",
    "batch_n = gvcfs[280:]\n",
    "samples_n = samples[280:]\n",
    "\n",
    "combiner_batch_n = hl.vds.new_combiner(\n",
    "    output_path = '/net/ascratch/people/plggosborcz/batch-n.vds',\n",
    "    temp_path = '/net/ascratch/people/plggosborcz/combiner-temp-batch-n',\n",
    "    save_path = '/net/ascratch/people/plggosborcz/combiner-save-batch-n',\n",
    "    branch_factor = 5,\n",
    "    gvcf_paths = batch_n,\n",
    "    reference_genome = 'GRCh38',\n",
    "    use_genome_default_intervals = True,\n",
    "    gvcf_external_header='/net/pr2/projects/plgrid/plggneuromol/imdik-zekanowski-gts/data/example-header/header.txt',\n",
    "    gvcf_sample_names=samples_n\n",
    ")\n",
    "\n",
    "combiner_batch_n.run()\n",
    "combiner_batch_n.save()"
   ]
  },
  {
   "cell_type": "code",
   "execution_count": null,
   "id": "a06f8e12-362a-4362-aa48-5134c602154e",
   "metadata": {
    "tags": []
   },
   "outputs": [],
   "source": [
    "#done\n",
    "batch_200_280 = gvcfs[200:280]\n",
    "samples_200_280 = samples[200:280]\n",
    "\n",
    "combiner_batch_200_280 = hl.vds.new_combiner(\n",
    "    output_path = '/net/ascratch/people/plggosborcz/batch-200-280.vds',\n",
    "    temp_path = '/net/ascratch/people/plggosborcz/combiner-temp-batch-200-280',\n",
    "    save_path = '/net/ascratch/people/plggosborcz/combiner-save-batch-200-280',\n",
    "    branch_factor = 50,\n",
    "    gvcf_paths = batch_200_280,\n",
    "    vds_paths=['/net/ascratch/people/plggosborcz/batch-n.vds'],\n",
    "    reference_genome = 'GRCh38',\n",
    "    use_genome_default_intervals = True,\n",
    "    gvcf_external_header='/net/pr2/projects/plgrid/plggneuromol/imdik-zekanowski-gts/data/example-header/header.txt',\n",
    "    gvcf_sample_names=samples_200_280\n",
    ")\n",
    "\n",
    "combiner_batch_200_280.run()\n",
    "combiner_batch_200_280.save()"
   ]
  },
  {
   "cell_type": "code",
   "execution_count": null,
   "id": "809259fc-e30f-4edd-bcd5-e38615b76f2a",
   "metadata": {
    "tags": []
   },
   "outputs": [],
   "source": [
    "#done\n",
    "batch_150_200 = gvcfs[150:200]\n",
    "samples_150_200 = samples[150:200]\n",
    "\n",
    "combiner_batch_150_200 = hl.vds.new_combiner(\n",
    "    output_path = '/net/ascratch/people/plggosborcz/batch-150-200.vds',\n",
    "    temp_path = '/net/ascratch/people/plggosborcz/combiner-temp-batch-150-200',\n",
    "    save_path = '/net/ascratch/people/plggosborcz/combiner-save-batch-150-200',\n",
    "    branch_factor = 50,\n",
    "    gvcf_paths = batch_150_200,\n",
    "    vds_paths=['/net/ascratch/people/plggosborcz/batch-200-280.vds'],\n",
    "    reference_genome = 'GRCh38',\n",
    "    use_genome_default_intervals = True,\n",
    "    gvcf_external_header='/net/pr2/projects/plgrid/plggneuromol/imdik-zekanowski-gts/data/example-header/header.txt',\n",
    "    gvcf_sample_names=samples_150_200\n",
    ")\n",
    "\n",
    "combiner_batch_150_200.run()\n",
    "combiner_batch_150_200.save()"
   ]
  },
  {
   "cell_type": "code",
   "execution_count": null,
   "id": "73bce3d2-d981-4196-9fad-202ec13dfaf7",
   "metadata": {
    "tags": []
   },
   "outputs": [
    {
     "name": "stderr",
     "output_type": "stream",
     "text": [
      "2023-03-13 12:38:04.581 Hail: INFO: Running VDS combiner:\n",
      "    VDS arguments: 1 datasets with 138 samples\n",
      "    GVCF arguments: 25 inputs/samples\n",
      "    Branch factor: 50\n",
      "    GVCF merge batch size: 50\n",
      "2023-03-13 12:38:04.752 Hail: INFO: GVCF combine (job 1): merging 25 GVCFs into 1 datasets\n"
     ]
    }
   ],
   "source": [
    "#done\n",
    "batch_125_150 = gvcfs[125:150]\n",
    "samples_125_150 = samples[125:150]\n",
    "\n",
    "combiner_batch_125_150 = hl.vds.new_combiner(\n",
    "    output_path = '/net/ascratch/people/plggosborcz/batch-125-288.vds',\n",
    "    temp_path = '/net/ascratch/people/plggosborcz/combiner-temp-batch-125-150',\n",
    "    save_path = '/net/ascratch/people/plggosborcz/combiner-save-batch-125-150',\n",
    "    branch_factor = 50,\n",
    "    gvcf_paths = batch_125_150,\n",
    "    vds_paths=['/net/ascratch/people/plggosborcz/batch-150-200.vds'],\n",
    "    reference_genome = 'GRCh38',\n",
    "    use_genome_default_intervals = True,\n",
    "    gvcf_external_header='/net/pr2/projects/plgrid/plggneuromol/imdik-zekanowski-gts/data/example-header/header.txt',\n",
    "    gvcf_sample_names=samples_125_150\n",
    ")\n",
    "\n",
    "combiner_batch_125_150.run()\n",
    "combiner_batch_125_150.save()"
   ]
  },
  {
   "cell_type": "code",
   "execution_count": null,
   "id": "24808e19-fb5c-49ec-9616-d7e1037650e5",
   "metadata": {
    "tags": []
   },
   "outputs": [
    {
     "name": "stderr",
     "output_type": "stream",
     "text": [
      "2023-03-14 09:15:22.185 Hail: INFO: Running VDS combiner:\n",
      "    VDS arguments: 1 datasets with 163 samples\n",
      "    GVCF arguments: 25 inputs/samples\n",
      "    Branch factor: 10\n",
      "    GVCF merge batch size: 50\n",
      "2023-03-14 09:15:22.261 Hail: INFO: GVCF combine (job 1): merging 25 GVCFs into 3 datasets\n",
      "[Stage 17:==================>                                (2806 + 48) / 7758]\r"
     ]
    }
   ],
   "source": [
    "#done\n",
    "batch_100_125 = gvcfs[100:125]\n",
    "samples_100_125 = samples[100:125]\n",
    "\n",
    "combiner_batch_100_125 = hl.vds.new_combiner(\n",
    "    output_path = '/net/ascratch/people/plggosborcz/batch-100-288.vds',\n",
    "    temp_path = '/net/ascratch/people/plggosborcz/combiner-temp-batch-100-125',\n",
    "    save_path = '/net/ascratch/people/plggosborcz/combiner-save-batch-100-125',\n",
    "    branch_factor = 10,\n",
    "    gvcf_paths = batch_100_125,\n",
    "    vds_paths=['/net/ascratch/people/plggosborcz/batch-125-288.vds'],\n",
    "    reference_genome = 'GRCh38',\n",
    "    use_genome_default_intervals = True,\n",
    "    gvcf_external_header='/net/pr2/projects/plgrid/plggneuromol/imdik-zekanowski-gts/data/example-header/header.txt',\n",
    "    gvcf_sample_names=samples_100_125\n",
    ")\n",
    "\n",
    "combiner_batch_100_125.run()\n",
    "combiner_batch_100_125.save()"
   ]
  },
  {
   "cell_type": "code",
   "execution_count": null,
   "id": "f75204b4-bb5c-451c-8a15-98649e34182a",
   "metadata": {},
   "outputs": [
    {
     "name": "stderr",
     "output_type": "stream",
     "text": [
      "2023-03-15 13:53:31.873 Hail: INFO: Running VDS combiner:\n",
      "    VDS arguments: 1 datasets with 188 samples\n",
      "    GVCF arguments: 50 inputs/samples\n",
      "    Branch factor: 10\n",
      "    GVCF merge batch size: 50\n",
      "2023-03-15 13:53:31.994 Hail: INFO: GVCF combine (job 1): merging 50 GVCFs into 5 datasets\n",
      "[Stage 0:==>                                                 (600 + 48) / 12930]\r"
     ]
    }
   ],
   "source": [
    "#done\n",
    "batch_50_100 = gvcfs[50:100]\n",
    "samples_50_100 = samples[50:100]\n",
    "\n",
    "combiner_batch_50_100 = hl.vds.new_combiner(\n",
    "    output_path = '/net/ascratch/people/plggosborcz/batch-50-288.vds',\n",
    "    temp_path = '/net/ascratch/people/plggosborcz/combiner-temp-batch-50-100',\n",
    "    save_path = '/net/ascratch/people/plggosborcz/combiner-save-batch-50-100',\n",
    "    branch_factor = 10,\n",
    "    gvcf_paths = batch_50_100,\n",
    "    vds_paths=['/net/ascratch/people/plggosborcz/batch-100-288.vds'],\n",
    "    reference_genome = 'GRCh38',\n",
    "    use_genome_default_intervals = True,\n",
    "    gvcf_external_header='/net/pr2/projects/plgrid/plggneuromol/imdik-zekanowski-gts/data/example-header/header.txt',\n",
    "    gvcf_sample_names=samples_50_100\n",
    ")\n",
    "\n",
    "combiner_batch_50_100.run()\n",
    "combiner_batch_50_100.save()"
   ]
  },
  {
   "cell_type": "code",
   "execution_count": null,
   "id": "6ffa16f5-2eff-4f0b-841b-b103119200c6",
   "metadata": {},
   "outputs": [
    {
     "name": "stderr",
     "output_type": "stream",
     "text": [
      "2023-03-17 12:03:21.522 Hail: INFO: Running VDS combiner:\n",
      "    VDS arguments: 1 datasets with 238 samples\n",
      "    GVCF arguments: 40 inputs/samples\n",
      "    Branch factor: 10\n",
      "    GVCF merge batch size: 50\n",
      "2023-03-17 12:03:21.634 Hail: INFO: GVCF combine (job 1): merging 40 GVCFs into 4 datasets\n",
      "[Stage 14:>                                                    (1 + 48) / 10344]\r"
     ]
    }
   ],
   "source": [
    "#done\n",
    "batch_10_50 = gvcfs[10:50]\n",
    "samples_10_50 = samples[10:50]\n",
    "\n",
    "combiner_batch_10_50 = hl.vds.new_combiner(\n",
    "    output_path = '/net/ascratch/people/plggosborcz/batch-10-288.vds',\n",
    "    temp_path = '/net/ascratch/people/plggosborcz/combiner-temp-batch-10-50',\n",
    "    save_path = '/net/ascratch/people/plggosborcz/combiner-save-batch-10-50',\n",
    "    branch_factor = 10,\n",
    "    gvcf_paths = batch_10_50,\n",
    "    vds_paths=['/net/ascratch/people/plggosborcz/batch-50-288.vds'],\n",
    "    reference_genome = 'GRCh38',\n",
    "    use_genome_default_intervals = True,\n",
    "    gvcf_external_header='/net/pr2/projects/plgrid/plggneuromol/imdik-zekanowski-gts/data/example-header/header.txt',\n",
    "    gvcf_sample_names=samples_10_50\n",
    ")\n",
    "\n",
    "combiner_batch_10_50.run()\n",
    "combiner_batch_10_50.save()"
   ]
  },
  {
   "cell_type": "code",
   "execution_count": null,
   "id": "0425f819-a554-430f-8092-7c3547b4d5ac",
   "metadata": {},
   "outputs": [],
   "source": [
    "# this is another batch from the begining of the set, \n",
    "# but I manually deleted 464 sample which is problematic,\n",
    "# done \n",
    "batch_0_10_no_464 = gvcfs[0:10]\n",
    "samples_0_10_no_464 = samples[0:10]\n",
    "\n",
    "combiner_batch_0_10_no_464 = hl.vds.new_combiner(\n",
    "    output_path = '/net/ascratch/people/plggosborcz/batch-0-10-no-464.vds',\n",
    "    temp_path = '/net/ascratch/people/plggosborcz/combiner-temp-batch-0-10-no-464',\n",
    "    save_path = '/net/ascratch/people/plggosborcz/combiner-save-batch-0-10-no-464',\n",
    "    branch_factor = 5,\n",
    "    gvcf_paths = batch_0_10_no_464,\n",
    "    reference_genome = 'GRCh38',\n",
    "    use_genome_default_intervals = True,\n",
    "    gvcf_external_header='/net/pr2/projects/plgrid/plggneuromol/imdik-zekanowski-gts/data/example-header/header.txt',\n",
    "    gvcf_sample_names=samples_0_10_no_464\n",
    ")"
   ]
  },
  {
   "cell_type": "code",
   "execution_count": 11,
   "id": "252db51d-be88-4af0-bd4b-ef404a60d281",
   "metadata": {
    "tags": []
   },
   "outputs": [],
   "source": [
    "#now I add the fixed 464 sample (duplicated rows were removed with bcftools norm):\n",
    "gvcf_464 = ['/net/pr2/projects/plgrid/plggneuromol/imdik-zekanowski-gts/data/gvcf/464.fixed.g.vcf.gz']\n",
    "sample_464 = ['464']"
   ]
  },
  {
   "cell_type": "code",
   "execution_count": null,
   "id": "2e04b4fe-dc38-4066-8bd4-7cd099aa610a",
   "metadata": {
    "tags": []
   },
   "outputs": [],
   "source": [
    "combiner_gts = hl.vds.new_combiner(\n",
    "    output_path = '/net/ascratch/people/plggosborcz/gts.vds',\n",
    "    temp_path = '/net/ascratch/people/plggosborcz/combiner-gts-temp',\n",
    "    save_path = '/net/ascratch/people/plggosborcz/combiner-gts-save',\n",
    "    branch_factor = 10,\n",
    "    gvcf_paths = gvcf_464,\n",
    "    vds_paths=['/net/ascratch/people/plggosborcz/batch-10-288.vds',\n",
    "               '/net/ascratch/people/plggosborcz/batch-0-10-no-464.vds'],\n",
    "    reference_genome = 'GRCh38',\n",
    "    use_genome_default_intervals = True,\n",
    "    gvcf_external_header='/net/pr2/projects/plgrid/plggneuromol/imdik-zekanowski-gts/data/example-header/header.txt',\n",
    "    gvcf_sample_names=sample_464\n",
    ")\n",
    "\n",
    "combiner_gts.run()\n",
    "combiner_gts.save()"
   ]
  },
  {
   "cell_type": "markdown",
   "id": "f4529a0d-dc0b-40b7-a018-df53eed92266",
   "metadata": {
    "tags": []
   },
   "source": [
    "# 2. Read in the sparse matrix table from 1kg and convert to vds\n",
    "note: saved in scratch"
   ]
  },
  {
   "cell_type": "code",
   "execution_count": 8,
   "id": "d022326a-52fd-4725-b3b2-8850c5f4457c",
   "metadata": {
    "tags": []
   },
   "outputs": [],
   "source": [
    "kg_sparse = hl.read_matrix_table(\n",
    "    '/net/pr2/projects/plgrid/plggneuromol/resources/1kg/gnomad.genomes.v3.1.2.hgdp_1kg_subset_sparse.mt/'\n",
    ")"
   ]
  },
  {
   "cell_type": "code",
   "execution_count": 9,
   "id": "32122bb7-f501-4d64-a0a0-31671d399eba",
   "metadata": {
    "tags": []
   },
   "outputs": [
    {
     "name": "stderr",
     "output_type": "stream",
     "text": [
      "2023-03-26 13:36:37.407 Hail: INFO: inferring reference block fields from missingness patterns in first 100 rows\n",
      "2023-03-26 13:36:42.331 Hail: INFO: Including the following fields in reference block table:\n",
      "  'DP'\n",
      "  'END'\n",
      "  'GQ'\n",
      "  'MIN_DP'\n",
      "  'RGQ'\n"
     ]
    }
   ],
   "source": [
    "kg_vds = hl.vds.VariantDataset.from_merged_representation(\n",
    "    kg_sparse\n",
    ")"
   ]
  },
  {
   "cell_type": "code",
   "execution_count": null,
   "id": "6982151b-0073-4308-a57f-bb04dfc4577f",
   "metadata": {
    "tags": []
   },
   "outputs": [
    {
     "name": "stderr",
     "output_type": "stream",
     "text": [
      "2023-03-26 15:17:55.143 Hail: INFO: wrote matrix table with 1469220015 rows and 4151 columns in 50000 partitions to /net/ascratch/people/plggosborcz/1kg.vds/reference_data\n",
      "[Stage 2:========>                                          (7950 + 48) / 50000]\r"
     ]
    }
   ],
   "source": [
    "kg_vds.write('/net/ascratch/people/plggosborcz/1kg.vds')"
   ]
  },
  {
   "cell_type": "code",
   "execution_count": null,
   "id": "8053c90e-a866-4c12-9b46-22cf55d6a0d2",
   "metadata": {
    "tags": []
   },
   "outputs": [],
   "source": [
    "# filter for european samples only\n",
    "eur = hl.import_table('/net/pr2/projects/plgrid/plggneuromol/resources/1kg/europeans', no_header=True)\n",
    "eur = eur.select(eur.f0)\n",
    "\n",
    "kg_vds = hl.vds.read_vds('/net/ascratch/people/plggosborcz/1kg.vds') #average call rate for eur samples 0.95\n",
    "kg_vds = hl.vds.filter_samples(kg_vds, eur.f0.collect(), keep=True, remove_dead_alleles=True)\n",
    "kg_vds.write('/net/ascratch/people/plggosborcz/1kg-eur.vds') # average call rate 0.9"
   ]
  },
  {
   "cell_type": "markdown",
   "id": "174ad881-ac4d-49b6-8019-d8de840981df",
   "metadata": {
    "tags": []
   },
   "source": [
    "# 3. Filter the combined matrix to only contain protein-coding genes +/- 20kb windows"
   ]
  },
  {
   "cell_type": "code",
   "execution_count": 14,
   "id": "5e2e28ea-0903-4049-8759-da29086aad5b",
   "metadata": {
    "tags": []
   },
   "outputs": [],
   "source": [
    "gtf = hl.import_table(\n",
    "    '/net/pr2/projects/plgrid/plggneuromol/resources/genecode_43/gencode.v43.basic.annotation.gtf',\n",
    "    delimiter = \"\\t\",\n",
    "    no_header = True,\n",
    "    comment = \"#\"\n",
    ")\n",
    "\n",
    "# filter the gtf to only contain protein-coding genes\n",
    "gtf = gtf.filter((gtf.f2 == 'gene') & (gtf.f8.contains('protein_coding')))\n",
    "\n",
    "gtf = gtf.select(\n",
    "    gene_position = hl.locus_interval(\n",
    "        gtf.f0,\n",
    "        hl.int(gtf.f3),\n",
    "        hl.int(gtf.f4),\n",
    "        reference_genome='GRCh38'\n",
    "    ),\n",
    "    gene_symbol = gtf.f8.split(\"\\\"\")[5]\n",
    ")  \n",
    "\n",
    "go_genes = hl.import_table(\n",
    "    '/net/pr2/projects/plgrid/plggneuromol/resources/human-genes-with-GO-and-symbols'\n",
    ")\n",
    "\n",
    "go_genes = go_genes.key_by(go_genes['UniProtKB Gene Name symbol'])\n",
    "\n",
    "gtf = gtf.key_by(gtf['gene_symbol'])\n",
    "\n",
    "gtf.count()\n",
    "\n",
    "gtf = gtf.filter(\n",
    "    hl.is_defined(\n",
    "        go_genes[gtf.gene_symbol]\n",
    "    )\n",
    ")\n",
    "\n",
    "# overall we are keeping 18303 genes. At this poin the within gene intervals are extended by 20kb each side\n",
    "\n",
    "start = hl.if_else(\n",
    "    gtf.gene_position.start.position <= 20000, 1, gtf.gene_position.start.position - 20000\n",
    ")\n",
    "\n",
    "contig_len = hl.contig_length(gtf.gene_position.start.contig, reference_genome='GRCh38') \n",
    "\n",
    "stop = hl.if_else(\n",
    "    (contig_len - gtf.gene_position.end.position) <= 20000,\n",
    "    contig_len,\n",
    "    gtf.gene_position.end.position + 20000\n",
    ")\n",
    "\n",
    "gtf = gtf.annotate(\n",
    "    interval_20kb =\n",
    "    hl.locus_interval(\n",
    "        gtf.gene_position.start.contig,\n",
    "        start,\n",
    "        stop,\n",
    "        reference_genome='GRCh38'\n",
    "    )\n",
    ")\n",
    "\n",
    "gtf = gtf.key_by(gtf.interval_20kb)"
   ]
  },
  {
   "cell_type": "code",
   "execution_count": 15,
   "id": "856dcb5a-2775-49dc-b650-44024e4ed040",
   "metadata": {
    "tags": []
   },
   "outputs": [],
   "source": [
    "to_filter = gtf.select()"
   ]
  },
  {
   "cell_type": "code",
   "execution_count": 4,
   "id": "4355f338-1616-489b-b2e7-6df2cbf620eb",
   "metadata": {
    "tags": []
   },
   "outputs": [],
   "source": [
    "#to_filter = to_filter.checkpoint('/net/ascratch/people/plggosborcz/to_filter.ht')\n",
    "\n",
    "to_filter = hl.read_table('/net/ascratch/people/plggosborcz/to_filter.ht')\n",
    "\n",
    "rpmk = hl.read_table('/net/pr2/projects/plgrid/plggneuromol/resources/repeatmasker-extended-keyed.ht/')\n",
    "rpmk = rpmk.select()"
   ]
  },
  {
   "cell_type": "code",
   "execution_count": 8,
   "id": "5e293136-4e0c-43b7-ac8c-08d28871d9d2",
   "metadata": {
    "tags": []
   },
   "outputs": [],
   "source": [
    "#filter and merge the two vdses:\n",
    "vdses = [\n",
    "    '/net/ascratch/people/plggosborcz/gts.vds',\n",
    "    '/net/ascratch/people/plggosborcz/1kg-eur.vds'\n",
    "]"
   ]
  },
  {
   "cell_type": "code",
   "execution_count": 10,
   "id": "dfe31660-161f-40bb-9ddb-baf296724adb",
   "metadata": {
    "tags": []
   },
   "outputs": [],
   "source": [
    "for file in vdses:\n",
    "    \n",
    "    full = hl.vds.read_vds(file)\n",
    "    full = hl.vds.filter_intervals(full, to_filter, split_reference_blocks=True)\n",
    "    full = hl.vds.filter_intervals(full, rpmk, keep=False) \n",
    "\n",
    "    full.write(localfs_path+'filtered'+file.split('/')[-1])  \n",
    "    full = hl.vds.read_vds(localfs_path+'filtered'+file.split('/')[-1])\n",
    "    "
   ]
  },
  {
   "cell_type": "code",
   "execution_count": 15,
   "id": "729884f3-d24b-4f73-a863-5135d71abaf0",
   "metadata": {
    "tags": []
   },
   "outputs": [
    {
     "name": "stderr",
     "output_type": "stream",
     "text": [
      "2023-04-13 15:57:51.420 Hail: INFO: wrote matrix table with 262198694 rows and 501 columns in 8335 partitions to /localfs/2262007/kg_vds_to_merge.vds/reference_data\n",
      "2023-04-13 16:04:44.998 Hail: INFO: wrote matrix table with 8985667 rows and 501 columns in 7872 partitions to /localfs/2262007/kg_vds_to_merge.vds/variant_data\n"
     ]
    }
   ],
   "source": [
    "#make the 1kg table consistent with the other table:\n",
    "kg_vds = hl.vds.read_vds('/localfs/2262007/repartitioned1kg-eur.vds')\n",
    "\n",
    "kg_vds.reference_data = kg_vds.reference_data.select_entries(\n",
    "    END = kg_vds.reference_data.END,\n",
    "    DP = kg_vds.reference_data.DP,\n",
    "    GQ = kg_vds.reference_data.GQ,\n",
    "    MIN_DP = kg_vds.reference_data.MIN_DP\n",
    ")\n",
    "\n",
    "kg_vds.variant_data = kg_vds.variant_data.select_entries(\n",
    "    LA = kg_vds.variant_data.LA,\n",
    "    LGT = kg_vds.variant_data.LGT,\n",
    "    LAD = kg_vds.variant_data.LAD,\n",
    "    LPGT = kg_vds.variant_data.LPGT,\n",
    "    LPL = kg_vds.variant_data.LPL,\n",
    "    RGQ = kg_vds.variant_data.RGQ,\n",
    "    gvcf_info = kg_vds.variant_data.gvcf_info.select(\n",
    "        BaseQRankSum = kg_vds.variant_data.gvcf_info.BaseQRankSum,\n",
    "        ExcessHet = hl.missing(hl.tfloat),\n",
    "        InbreedingCoeff = hl.missing(hl.tfloat),\n",
    "        MLEAC = hl.literal([0]),\n",
    "        MLEAF = hl.literal([0.1]),\n",
    "        MQRankSum = kg_vds.variant_data.gvcf_info.MQRankSum,\n",
    "        RAW_MQandDP = hl.literal([0]),\n",
    "        ReadPosRankSum = kg_vds.variant_data.gvcf_info.ReadPosRankSum\n",
    "    ),\n",
    "    DP = kg_vds.variant_data.DP,\n",
    "    GQ = kg_vds.variant_data.GQ,\n",
    "    MIN_DP = kg_vds.variant_data.MIN_DP,\n",
    "    PID = kg_vds.variant_data.PID,\n",
    "    PS = hl.missing(hl.tint),\n",
    "    SB = kg_vds.variant_data.SB\n",
    ")\n",
    "\n",
    "kg_vds.write(localfs_path+'kg_vds_to_merge.vds')"
   ]
  },
  {
   "cell_type": "code",
   "execution_count": null,
   "id": "d1d7cb3c-dc04-4e32-97d2-5e98fa9c8d82",
   "metadata": {},
   "outputs": [
    {
     "name": "stderr",
     "output_type": "stream",
     "text": [
      "2023-04-16 09:32:29.371 Hail: INFO: Running VDS combiner:\n",
      "    VDS arguments: 2 datasets with 789 samples\n",
      "    GVCF arguments: 0 inputs/samples\n",
      "    Branch factor: 100\n",
      "    GVCF merge batch size: 50\n",
      "2023-04-16 09:32:29.484 Hail: INFO: VDS Combine (job 1): merging 2 datasets with 789 samples\n",
      "2023-04-16 10:13:49.942 Hail: INFO: wrote table with 262198694 rows in 8335 partitions to /localfs/2262007/tmp.vds/combiner-intermediates/86a089e5-364a-4f4b-b02a-79d8715441fc_vds-combine_job1/interval_checkpoint.ht\n",
      "[Stage 6:>                                                    (42 + 48) / 10926]\r"
     ]
    }
   ],
   "source": [
    "combiner_all = hl.vds.new_combiner(\n",
    "    output_path = '/net/pr2/projects/plgrid/plggneuromol/imdik-zekanowski-gts/data/mts/oligogenic-model/full.vds',\n",
    "    temp_path = localfs_path+'tmp.vds',\n",
    "    save_path = localfs_path+'tmp.save',\n",
    "    vds_paths=[localfs_path+'filteredgts.vds',\n",
    "               localfs_path+'kg_vds_to_merge.vds'],\n",
    "    reference_genome = 'GRCh38',\n",
    "    use_genome_default_intervals = True\n",
    ")\n",
    "\n",
    "combiner_all.run()\n",
    "combiner_all.save()\n",
    "\n",
    "# check sample and variant QC after that - but if you are missing all these genotypes or not"
   ]
  },
  {
   "cell_type": "code",
   "execution_count": 10,
   "id": "df5cfd82-190d-487b-8dce-fbb9d50115f8",
   "metadata": {},
   "outputs": [],
   "source": [
    "full = hl.vds.read_vds('/net/pr2/projects/plgrid/plggneuromol/imdik-zekanowski-gts/data/mts/oligogenic-model/full.vds')"
   ]
  }
 ],
 "metadata": {
  "kernelspec": {
   "display_name": "Python 3 (ipykernel)",
   "language": "python",
   "name": "python3"
  },
  "language_info": {
   "codemirror_mode": {
    "name": "ipython",
    "version": 3
   },
   "file_extension": ".py",
   "mimetype": "text/x-python",
   "name": "python",
   "nbconvert_exporter": "python",
   "pygments_lexer": "ipython3",
   "version": "3.10.4"
  }
 },
 "nbformat": 4,
 "nbformat_minor": 5
}
