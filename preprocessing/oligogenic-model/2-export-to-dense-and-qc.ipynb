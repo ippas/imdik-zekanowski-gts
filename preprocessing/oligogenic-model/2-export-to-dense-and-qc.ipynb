{
 "cells": [
  {
   "cell_type": "code",
   "execution_count": 1,
   "id": "0c317ad1-5390-4837-8dea-6db922d50374",
   "metadata": {
    "tags": []
   },
   "outputs": [],
   "source": [
    "import os\n",
    "localfs_path = os.environ.get('SCRATCH_LOCAL') + '/'"
   ]
  },
  {
   "cell_type": "code",
   "execution_count": 2,
   "id": "c074269b-6a10-42d4-a6e5-3aaff3ae69fe",
   "metadata": {},
   "outputs": [
    {
     "name": "stdout",
     "output_type": "stream",
     "text": [
      "23/05/10 21:24:12 WARN NativeCodeLoader: Unable to load native-hadoop library for your platform... using builtin-java classes where applicable\n"
     ]
    },
    {
     "name": "stderr",
     "output_type": "stream",
     "text": [
      "Setting default log level to \"WARN\".\n",
      "To adjust logging level use sc.setLogLevel(newLevel). For SparkR, use setLogLevel(newLevel).\n",
      "Running on Apache Spark version 3.3.2\n",
      "SparkUI available at http://ac0712:4040\n",
      "Welcome to\n",
      "     __  __     <>__\n",
      "    / /_/ /__  __/ /\n",
      "   / __  / _ `/ / /\n",
      "  /_/ /_/\\_,_/_/_/   version 0.2.113-cf32652c5077\n",
      "LOGGING: writing to /net/pr2/projects/plgrid/plggneuromol/imdik-zekanowski-gts/preprocessing/oligogenic-model/hail-20230510-2124-0.2.113-cf32652c5077.log\n"
     ]
    }
   ],
   "source": [
    "import hail as hl\n",
    "\n",
    "hl.init(\n",
    "    tmp_dir=(localfs_path+'tmp_hail'),\n",
    "    #spark_conf={'spark.driver.memory': '30G', 'spark.executor.memory': '10G'}, # I don't know what should be here\n",
    "    default_reference='GRCh38') "
   ]
  },
  {
   "cell_type": "code",
   "execution_count": 3,
   "id": "c008373e-b4c3-47af-937d-33e65f2c68cd",
   "metadata": {
    "tags": []
   },
   "outputs": [],
   "source": [
    "from hail.ggplot import *\n",
    "\n",
    "import plotly\n",
    "import plotly.io as pio\n",
    "pio.renderers.default='iframe'"
   ]
  },
  {
   "cell_type": "code",
   "execution_count": null,
   "id": "9aca38bd-86ba-45ed-a52a-8dcb42958831",
   "metadata": {
    "tags": []
   },
   "outputs": [
    {
     "name": "stderr",
     "output_type": "stream",
     "text": [
      "2023-05-10 22:43:45.960 Hail: INFO: wrote matrix table with 20108617 rows and 789 columns in 21940 partitions to /localfs/2603338/full-dense.mt\n",
      "[Stage 10:===================>                              (8367 + 12) / 21940]\r"
     ]
    }
   ],
   "source": [
    "full = hl.vds.read_vds('/net/ascratch/people/plggosborcz/full-rpkm.vds')\n",
    "\n",
    "vd_gt = full.variant_data.transmute_entries(\n",
    "    GT = hl.vds.lgt_to_gt(full.variant_data.LGT, full.variant_data.LA)\n",
    ")\n",
    "\n",
    "mt = hl.vds.to_dense_mt(hl.vds.VariantDataset(full.reference_data, vd_gt))\n",
    "mt = mt.checkpoint(localfs_path+'full-dense.mt')\n",
    "\n",
    "mt = hl.sample_qc(mt)\n",
    "\n",
    "mt = mt.annotate_cols(\n",
    "    group = hl.if_else(\n",
    "        mt.s.contains('B'),\n",
    "        'local_controls',\n",
    "        hl.if_else(\n",
    "            (mt.s.contains('NA') | mt.s.contains('HG')),\n",
    "            '1kg_controls',\n",
    "            'GTS'\n",
    "        )\n",
    "    )\n",
    ")  \n",
    "    \n",
    "mt = mt.filter_cols(mt.s != '494') #one sample removed due to quality issues\n",
    "mt = mt.filter_rows(hl.agg.any(mt.GT.is_non_ref()))\n",
    "\n",
    "# filter by gnomad coverage\n",
    "cov = hl.read_table('/net/pr2/projects/plgrid/plggneuromol/resources/gnomad/gnomad.genomes.r3.0.1.coverage.ht/')\n",
    "cov = cov.filter(cov.over_1 > 0.9)\n",
    "mt = mt.filter_rows(hl.is_defined(cov[mt.locus]), keep = True)\n",
    "\n",
    "mt = mt.checkpoint(localfs_path+'full-dense-filtered.mt')\n",
    "mt = mt.naive_coalesce(5000)\n",
    "mt = mt.checkpoint(localfs_path+'full-dense-repartitioned.mt')"
   ]
  },
  {
   "cell_type": "markdown",
   "id": "348df11d-7617-40dc-b579-c98d3f9ee85d",
   "metadata": {},
   "source": [
    "### s_vs_gts"
   ]
  },
  {
   "cell_type": "code",
   "execution_count": null,
   "id": "60422103-a17a-4685-a47f-88940e31e175",
   "metadata": {
    "tags": []
   },
   "outputs": [],
   "source": [
    "mt = hl.read_matrix_table(localfs_path+'full-dense-repartitioned.mt')"
   ]
  },
  {
   "cell_type": "code",
   "execution_count": null,
   "id": "ded7fa36-8bdb-43c4-a8f1-8204bca0ccf0",
   "metadata": {},
   "outputs": [],
   "source": [
    "# now check how many variants are here"
   ]
  },
  {
   "cell_type": "code",
   "execution_count": 16,
   "id": "6f9ea82a-8705-40e8-9f77-30613407b88d",
   "metadata": {
    "tags": []
   },
   "outputs": [],
   "source": [
    "#perform per_group variant QC - dp and gq stats + hwe\n",
    "mt = mt.annotate_rows(dp_qc = hl.agg.group_by(mt.group, hl.agg.stats(mt.DP)),\n",
    "                      gq_qc = hl.agg.group_by(mt.group, hl.agg.stats(mt.GQ)),\n",
    "                      hwe = hl.agg.group_by(mt.group, hl.agg.hardy_weinberg_test(mt.GT)))"
   ]
  },
  {
   "cell_type": "code",
   "execution_count": 17,
   "id": "10ef4296-0d4f-426f-a614-6c956524595d",
   "metadata": {
    "tags": []
   },
   "outputs": [],
   "source": [
    "mt = mt.annotate_rows(n_below_dp_3 = hl.agg.group_by(mt.group, hl.agg.count_where(mt.DP < 3)),\n",
    "                      n_below_gq_30 = hl.agg.group_by(mt.group, hl.agg.count_where(mt.GQ <30)))\n",
    "\n",
    "mt = mt.filter_rows((mt.dp_qc.get('GTS', hl.struct(mean=0, stdev=0.0, min=0.0, max=0.0, n=0, sum=0.0)).mean > 5) &\n",
    "                    (mt.dp_qc.get('local_controls', hl.struct(mean=0, stdev=0.0, min=0.0, max=0.0, n=0, sum=0.0)).mean > 5) &\n",
    "                    (mt.gq_qc.get('GTS', hl.struct(mean=0.0, stdev=0.0, min=0.0, max=0.0, n=0, sum=0.0)).mean > 40) &\n",
    "                    (mt.gq_qc.get('local_controls', hl.struct(mean=0.0, stdev=0.0, min=0.0, max=0.0, n=0, sum=0.0)).mean > 40) &\n",
    "                    (mt.hwe.get('GTS', hl.struct(het_freq_hwe=0.0, p_value=0.5)).p_value > 1E-15) &\n",
    "                    (mt.hwe.get('local_controls', hl.struct(het_freq_hwe=0.0, p_value=0.5)).p_value > 1E-15) &\n",
    "                    (mt.n_below_dp_3.get('local_controls', 0) < 8) &\n",
    "                    (mt.n_below_gq_30.get('local_controls', 0) < 40) &\n",
    "                    (mt.n_below_dp_3.get('GTS', 0) < 8) &\n",
    "                    (mt.n_below_gq_30.get('GTS', 0) < 40))"
   ]
  },
  {
   "cell_type": "code",
   "execution_count": null,
   "id": "680e8d0a-ff8f-45e0-afd0-a5a0599691c9",
   "metadata": {
    "tags": []
   },
   "outputs": [
    {
     "name": "stderr",
     "output_type": "stream",
     "text": [
      "[Stage 19:>                                                         (0 + 1) / 1]\r"
     ]
    }
   ],
   "source": [
    "mt = hl.split_multi_hts(mt)\n",
    "mt = mt.checkpoint(localfs_path+'mt_GTS_s_temp.mt')"
   ]
  },
  {
   "cell_type": "code",
   "execution_count": 30,
   "id": "89e44cfe-1d6c-467a-a6f4-9ee4876168f3",
   "metadata": {
    "tags": []
   },
   "outputs": [],
   "source": [
    "mt = hl.read_matrix_table(localfs_path+'mt_GTS_s_temp.mt')"
   ]
  },
  {
   "cell_type": "code",
   "execution_count": 31,
   "id": "466da0de-5d03-4d6f-86b8-a1ad68e9a7b8",
   "metadata": {
    "tags": []
   },
   "outputs": [],
   "source": [
    "gnomad = hl.read_table('/net/pr2/projects/plgrid/plggneuromol/resources/gnomad/gnomad.genomes.v3.1.1.sites.ht/')\n",
    "cadd = hl.read_table('/net/pr2/projects/plgrid/plggneuromol/resources/cadd.ht')\n",
    "vep = hl.read_table('/net/pr2/projects/plgrid/plggneuromol/resources/vep38/grch38_context_vep_annotated.ht')"
   ]
  },
  {
   "cell_type": "code",
   "execution_count": 32,
   "id": "8126ed09-bf4d-4b35-8357-0237c7a88c04",
   "metadata": {},
   "outputs": [],
   "source": [
    "mt = mt.annotate_rows(gnomad_v_3_1 = gnomad[mt.row_key])\n",
    "mt = mt.annotate_rows(cadd = cadd[mt.row_key])\n",
    "mt = mt.annotate_rows(vep = vep[mt.row_key])"
   ]
  },
  {
   "cell_type": "code",
   "execution_count": null,
   "id": "9dbe58ea-5775-4f2e-9e50-49b9b0d88243",
   "metadata": {
    "tags": []
   },
   "outputs": [
    {
     "name": "stderr",
     "output_type": "stream",
     "text": [
      "[Stage 21:=====>                                              (427 + 12) / 4388]\r"
     ]
    }
   ],
   "source": [
    "mt = mt.checkpoint(localfs_path+'mt_GTS_s_temp_2.mt')"
   ]
  },
  {
   "cell_type": "code",
   "execution_count": null,
   "id": "eda55255-5caa-4674-9dde-05a702c9a87d",
   "metadata": {
    "tags": []
   },
   "outputs": [],
   "source": [
    "mt = mt.filter_cols(\n",
    "    (mt.group == 'GTS') | (mt.group == 'local_controls')\n",
    ")\n",
    "mt = mt.filter_rows(hl.agg.any(mt.GT.is_non_ref()))"
   ]
  },
  {
   "cell_type": "code",
   "execution_count": null,
   "id": "74addc24-c3a2-43f5-830c-7a24b260d577",
   "metadata": {
    "tags": []
   },
   "outputs": [],
   "source": [
    "mt.write('/net/pr2/projects/plgrid/plggneuromol/imdik-zekanowski-gts/data/mts/oligogenic-model/gts_and_s.mt')"
   ]
  },
  {
   "cell_type": "markdown",
   "id": "5786c5e3-e311-43e8-8620-cd57f031baac",
   "metadata": {
    "tags": []
   },
   "source": [
    "### gts only (for synthetic controls)"
   ]
  },
  {
   "cell_type": "code",
   "execution_count": null,
   "id": "07381c24-e956-4f95-b0e0-74e37cb1826b",
   "metadata": {
    "tags": []
   },
   "outputs": [],
   "source": [
    "mt = hl.read_matrix_table('/net/pr2/projects/plgrid/plggneuromol/imdik-zekanowski-gts/data/mts/oligogenic-model/gts_and_s.mt')"
   ]
  },
  {
   "cell_type": "code",
   "execution_count": null,
   "id": "1c809cdc-545b-48c9-9273-cefe8d3b64ce",
   "metadata": {
    "tags": []
   },
   "outputs": [],
   "source": [
    "mt = mt.filter_cols(\n",
    "    mt.group == 'GTS'\n",
    ")\n",
    "mt = mt.filter_rows(hl.agg.any(mt.GT.is_non_ref()))"
   ]
  },
  {
   "cell_type": "code",
   "execution_count": null,
   "id": "b42af4b9-a5ac-43ff-8f4f-b37174880e45",
   "metadata": {
    "tags": []
   },
   "outputs": [],
   "source": [
    "mt.write('/net/pr2/projects/plgrid/plggneuromol/imdik-zekanowski-gts/data/mts/oligogenic-model/gts_only.mt')"
   ]
  },
  {
   "cell_type": "code",
   "execution_count": null,
   "id": "e28ea899-7cee-4b28-a436-7020d21a9c58",
   "metadata": {
    "tags": []
   },
   "outputs": [],
   "source": [
    "# now proceed do add synthetic controls and to SKAT (these are already filtered for +/- 20kb from protein coding genes"
   ]
  }
 ],
 "metadata": {
  "kernelspec": {
   "display_name": "Python 3 (ipykernel)",
   "language": "python",
   "name": "python3"
  },
  "language_info": {
   "codemirror_mode": {
    "name": "ipython",
    "version": 3
   },
   "file_extension": ".py",
   "mimetype": "text/x-python",
   "name": "python",
   "nbconvert_exporter": "python",
   "pygments_lexer": "ipython3",
   "version": "3.10.4"
  }
 },
 "nbformat": 4,
 "nbformat_minor": 5
}
