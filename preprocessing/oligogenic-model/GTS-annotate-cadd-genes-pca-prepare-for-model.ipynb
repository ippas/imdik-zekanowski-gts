{
 "cells": [
  {
   "cell_type": "code",
   "execution_count": 1,
   "metadata": {},
   "outputs": [
    {
     "data": {
      "text/html": [
       "<style>.container { width:100% !important; }</style>"
      ],
      "text/plain": [
       "<IPython.core.display.HTML object>"
      ]
     },
     "metadata": {},
     "output_type": "display_data"
    },
    {
     "name": "stderr",
     "output_type": "stream",
     "text": [
      "Running on Apache Spark version 2.4.5\n",
      "SparkUI available at http://p1810.prometheus:4040\n",
      "Welcome to\n",
      "     __  __     <>__\n",
      "    / /_/ /__  __/ /\n",
      "   / __  / _ `/ / /\n",
      "  /_/ /_/\\_,_/_/_/   version 0.2.62-84fa81b9ea3d\n",
      "LOGGING: writing to /net/archive/groups/plggneuromol/GTS-analysis/imdik-zekanowski-gts/hail-20210622-1439-0.2.62-84fa81b9ea3d.log\n"
     ]
    }
   ],
   "source": [
    "from IPython.display import display\n",
    "from IPython.display import HTML\n",
    "import IPython.core.display as di # Example: di.display_html('<h3>%s:</h3>' % str, raw=True)\n",
    "\n",
    "# This line will hide code by default when the notebook is exported as HTML\n",
    "# di.display_html('<script>jQuery(function() {if (jQuery(\"body.notebook_app\").length == 0) { jQuery(\".input_area\").toggle(); jQuery(\".prompt\").toggle();}});</script>', raw=True)\n",
    "\n",
    "display(HTML(\"<style>.container { width:100% !important; }</style>\"))\n",
    "\n",
    "\n",
    "import hail as hl\n",
    "hl.init(tmp_dir='/net/scratch/people/plggosborcz')"
   ]
  },
  {
   "cell_type": "code",
   "execution_count": 2,
   "metadata": {},
   "outputs": [
    {
     "data": {
      "text/html": [
       "<style>.container { width:100% !important; }</style>"
      ],
      "text/plain": [
       "<IPython.core.display.HTML object>"
      ]
     },
     "metadata": {},
     "output_type": "display_data"
    }
   ],
   "source": [
    "display(HTML(\"<style>.container { width:100% !important; }</style>\"))"
   ]
  },
  {
   "cell_type": "code",
   "execution_count": 3,
   "metadata": {},
   "outputs": [
    {
     "data": {
      "text/html": [
       "\n",
       "    <div class=\"bk-root\">\n",
       "        <a href=\"https://bokeh.org\" target=\"_blank\" class=\"bk-logo bk-logo-small bk-logo-notebook\"></a>\n",
       "        <span id=\"1001\">Loading BokehJS ...</span>\n",
       "    </div>"
      ]
     },
     "metadata": {},
     "output_type": "display_data"
    },
    {
     "data": {
      "application/javascript": [
       "\n",
       "(function(root) {\n",
       "  function now() {\n",
       "    return new Date();\n",
       "  }\n",
       "\n",
       "  var force = true;\n",
       "\n",
       "  if (typeof root._bokeh_onload_callbacks === \"undefined\" || force === true) {\n",
       "    root._bokeh_onload_callbacks = [];\n",
       "    root._bokeh_is_loading = undefined;\n",
       "  }\n",
       "\n",
       "  var JS_MIME_TYPE = 'application/javascript';\n",
       "  var HTML_MIME_TYPE = 'text/html';\n",
       "  var EXEC_MIME_TYPE = 'application/vnd.bokehjs_exec.v0+json';\n",
       "  var CLASS_NAME = 'output_bokeh rendered_html';\n",
       "\n",
       "  /**\n",
       "   * Render data to the DOM node\n",
       "   */\n",
       "  function render(props, node) {\n",
       "    var script = document.createElement(\"script\");\n",
       "    node.appendChild(script);\n",
       "  }\n",
       "\n",
       "  /**\n",
       "   * Handle when an output is cleared or removed\n",
       "   */\n",
       "  function handleClearOutput(event, handle) {\n",
       "    var cell = handle.cell;\n",
       "\n",
       "    var id = cell.output_area._bokeh_element_id;\n",
       "    var server_id = cell.output_area._bokeh_server_id;\n",
       "    // Clean up Bokeh references\n",
       "    if (id != null && id in Bokeh.index) {\n",
       "      Bokeh.index[id].model.document.clear();\n",
       "      delete Bokeh.index[id];\n",
       "    }\n",
       "\n",
       "    if (server_id !== undefined) {\n",
       "      // Clean up Bokeh references\n",
       "      var cmd = \"from bokeh.io.state import curstate; print(curstate().uuid_to_server['\" + server_id + \"'].get_sessions()[0].document.roots[0]._id)\";\n",
       "      cell.notebook.kernel.execute(cmd, {\n",
       "        iopub: {\n",
       "          output: function(msg) {\n",
       "            var id = msg.content.text.trim();\n",
       "            if (id in Bokeh.index) {\n",
       "              Bokeh.index[id].model.document.clear();\n",
       "              delete Bokeh.index[id];\n",
       "            }\n",
       "          }\n",
       "        }\n",
       "      });\n",
       "      // Destroy server and session\n",
       "      var cmd = \"import bokeh.io.notebook as ion; ion.destroy_server('\" + server_id + \"')\";\n",
       "      cell.notebook.kernel.execute(cmd);\n",
       "    }\n",
       "  }\n",
       "\n",
       "  /**\n",
       "   * Handle when a new output is added\n",
       "   */\n",
       "  function handleAddOutput(event, handle) {\n",
       "    var output_area = handle.output_area;\n",
       "    var output = handle.output;\n",
       "\n",
       "    // limit handleAddOutput to display_data with EXEC_MIME_TYPE content only\n",
       "    if ((output.output_type != \"display_data\") || (!output.data.hasOwnProperty(EXEC_MIME_TYPE))) {\n",
       "      return\n",
       "    }\n",
       "\n",
       "    var toinsert = output_area.element.find(\".\" + CLASS_NAME.split(' ')[0]);\n",
       "\n",
       "    if (output.metadata[EXEC_MIME_TYPE][\"id\"] !== undefined) {\n",
       "      toinsert[toinsert.length - 1].firstChild.textContent = output.data[JS_MIME_TYPE];\n",
       "      // store reference to embed id on output_area\n",
       "      output_area._bokeh_element_id = output.metadata[EXEC_MIME_TYPE][\"id\"];\n",
       "    }\n",
       "    if (output.metadata[EXEC_MIME_TYPE][\"server_id\"] !== undefined) {\n",
       "      var bk_div = document.createElement(\"div\");\n",
       "      bk_div.innerHTML = output.data[HTML_MIME_TYPE];\n",
       "      var script_attrs = bk_div.children[0].attributes;\n",
       "      for (var i = 0; i < script_attrs.length; i++) {\n",
       "        toinsert[toinsert.length - 1].firstChild.setAttribute(script_attrs[i].name, script_attrs[i].value);\n",
       "      }\n",
       "      // store reference to server id on output_area\n",
       "      output_area._bokeh_server_id = output.metadata[EXEC_MIME_TYPE][\"server_id\"];\n",
       "    }\n",
       "  }\n",
       "\n",
       "  function register_renderer(events, OutputArea) {\n",
       "\n",
       "    function append_mime(data, metadata, element) {\n",
       "      // create a DOM node to render to\n",
       "      var toinsert = this.create_output_subarea(\n",
       "        metadata,\n",
       "        CLASS_NAME,\n",
       "        EXEC_MIME_TYPE\n",
       "      );\n",
       "      this.keyboard_manager.register_events(toinsert);\n",
       "      // Render to node\n",
       "      var props = {data: data, metadata: metadata[EXEC_MIME_TYPE]};\n",
       "      render(props, toinsert[toinsert.length - 1]);\n",
       "      element.append(toinsert);\n",
       "      return toinsert\n",
       "    }\n",
       "\n",
       "    /* Handle when an output is cleared or removed */\n",
       "    events.on('clear_output.CodeCell', handleClearOutput);\n",
       "    events.on('delete.Cell', handleClearOutput);\n",
       "\n",
       "    /* Handle when a new output is added */\n",
       "    events.on('output_added.OutputArea', handleAddOutput);\n",
       "\n",
       "    /**\n",
       "     * Register the mime type and append_mime function with output_area\n",
       "     */\n",
       "    OutputArea.prototype.register_mime_type(EXEC_MIME_TYPE, append_mime, {\n",
       "      /* Is output safe? */\n",
       "      safe: true,\n",
       "      /* Index of renderer in `output_area.display_order` */\n",
       "      index: 0\n",
       "    });\n",
       "  }\n",
       "\n",
       "  // register the mime type if in Jupyter Notebook environment and previously unregistered\n",
       "  if (root.Jupyter !== undefined) {\n",
       "    var events = require('base/js/events');\n",
       "    var OutputArea = require('notebook/js/outputarea').OutputArea;\n",
       "\n",
       "    if (OutputArea.prototype.mime_types().indexOf(EXEC_MIME_TYPE) == -1) {\n",
       "      register_renderer(events, OutputArea);\n",
       "    }\n",
       "  }\n",
       "\n",
       "  \n",
       "  if (typeof (root._bokeh_timeout) === \"undefined\" || force === true) {\n",
       "    root._bokeh_timeout = Date.now() + 5000;\n",
       "    root._bokeh_failed_load = false;\n",
       "  }\n",
       "\n",
       "  var NB_LOAD_WARNING = {'data': {'text/html':\n",
       "     \"<div style='background-color: #fdd'>\\n\"+\n",
       "     \"<p>\\n\"+\n",
       "     \"BokehJS does not appear to have successfully loaded. If loading BokehJS from CDN, this \\n\"+\n",
       "     \"may be due to a slow or bad network connection. Possible fixes:\\n\"+\n",
       "     \"</p>\\n\"+\n",
       "     \"<ul>\\n\"+\n",
       "     \"<li>re-rerun `output_notebook()` to attempt to load from CDN again, or</li>\\n\"+\n",
       "     \"<li>use INLINE resources instead, as so:</li>\\n\"+\n",
       "     \"</ul>\\n\"+\n",
       "     \"<code>\\n\"+\n",
       "     \"from bokeh.resources import INLINE\\n\"+\n",
       "     \"output_notebook(resources=INLINE)\\n\"+\n",
       "     \"</code>\\n\"+\n",
       "     \"</div>\"}};\n",
       "\n",
       "  function display_loaded() {\n",
       "    var el = document.getElementById(\"1001\");\n",
       "    if (el != null) {\n",
       "      el.textContent = \"BokehJS is loading...\";\n",
       "    }\n",
       "    if (root.Bokeh !== undefined) {\n",
       "      if (el != null) {\n",
       "        el.textContent = \"BokehJS \" + root.Bokeh.version + \" successfully loaded.\";\n",
       "      }\n",
       "    } else if (Date.now() < root._bokeh_timeout) {\n",
       "      setTimeout(display_loaded, 100)\n",
       "    }\n",
       "  }\n",
       "\n",
       "\n",
       "  function run_callbacks() {\n",
       "    try {\n",
       "      root._bokeh_onload_callbacks.forEach(function(callback) {\n",
       "        if (callback != null)\n",
       "          callback();\n",
       "      });\n",
       "    } finally {\n",
       "      delete root._bokeh_onload_callbacks\n",
       "    }\n",
       "    console.debug(\"Bokeh: all callbacks have finished\");\n",
       "  }\n",
       "\n",
       "  function load_libs(css_urls, js_urls, callback) {\n",
       "    if (css_urls == null) css_urls = [];\n",
       "    if (js_urls == null) js_urls = [];\n",
       "\n",
       "    root._bokeh_onload_callbacks.push(callback);\n",
       "    if (root._bokeh_is_loading > 0) {\n",
       "      console.debug(\"Bokeh: BokehJS is being loaded, scheduling callback at\", now());\n",
       "      return null;\n",
       "    }\n",
       "    if (js_urls == null || js_urls.length === 0) {\n",
       "      run_callbacks();\n",
       "      return null;\n",
       "    }\n",
       "    console.debug(\"Bokeh: BokehJS not loaded, scheduling load and callback at\", now());\n",
       "    root._bokeh_is_loading = css_urls.length + js_urls.length;\n",
       "\n",
       "    function on_load() {\n",
       "      root._bokeh_is_loading--;\n",
       "      if (root._bokeh_is_loading === 0) {\n",
       "        console.debug(\"Bokeh: all BokehJS libraries/stylesheets loaded\");\n",
       "        run_callbacks()\n",
       "      }\n",
       "    }\n",
       "\n",
       "    function on_error() {\n",
       "      console.error(\"failed to load \" + url);\n",
       "    }\n",
       "\n",
       "    for (var i = 0; i < css_urls.length; i++) {\n",
       "      var url = css_urls[i];\n",
       "      const element = document.createElement(\"link\");\n",
       "      element.onload = on_load;\n",
       "      element.onerror = on_error;\n",
       "      element.rel = \"stylesheet\";\n",
       "      element.type = \"text/css\";\n",
       "      element.href = url;\n",
       "      console.debug(\"Bokeh: injecting link tag for BokehJS stylesheet: \", url);\n",
       "      document.body.appendChild(element);\n",
       "    }\n",
       "\n",
       "    for (var i = 0; i < js_urls.length; i++) {\n",
       "      var url = js_urls[i];\n",
       "      var element = document.createElement('script');\n",
       "      element.onload = on_load;\n",
       "      element.onerror = on_error;\n",
       "      element.async = false;\n",
       "      element.src = url;\n",
       "      console.debug(\"Bokeh: injecting script tag for BokehJS library: \", url);\n",
       "      document.head.appendChild(element);\n",
       "    }\n",
       "  };var element = document.getElementById(\"1001\");\n",
       "  if (element == null) {\n",
       "    console.error(\"Bokeh: ERROR: autoload.js configured with elementid '1001' but no matching script tag was found. \")\n",
       "    return false;\n",
       "  }\n",
       "\n",
       "  function inject_raw_css(css) {\n",
       "    const element = document.createElement(\"style\");\n",
       "    element.appendChild(document.createTextNode(css));\n",
       "    document.body.appendChild(element);\n",
       "  }\n",
       "\n",
       "  \n",
       "  var js_urls = [\"https://cdn.pydata.org/bokeh/release/bokeh-1.4.0.min.js\", \"https://cdn.pydata.org/bokeh/release/bokeh-widgets-1.4.0.min.js\", \"https://cdn.pydata.org/bokeh/release/bokeh-tables-1.4.0.min.js\", \"https://cdn.pydata.org/bokeh/release/bokeh-gl-1.4.0.min.js\"];\n",
       "  var css_urls = [];\n",
       "  \n",
       "\n",
       "  var inline_js = [\n",
       "    function(Bokeh) {\n",
       "      Bokeh.set_log_level(\"info\");\n",
       "    },\n",
       "    function(Bokeh) {\n",
       "    \n",
       "    \n",
       "    }\n",
       "  ];\n",
       "\n",
       "  function run_inline_js() {\n",
       "    \n",
       "    if (root.Bokeh !== undefined || force === true) {\n",
       "      \n",
       "    for (var i = 0; i < inline_js.length; i++) {\n",
       "      inline_js[i].call(root, root.Bokeh);\n",
       "    }\n",
       "    if (force === true) {\n",
       "        display_loaded();\n",
       "      }} else if (Date.now() < root._bokeh_timeout) {\n",
       "      setTimeout(run_inline_js, 100);\n",
       "    } else if (!root._bokeh_failed_load) {\n",
       "      console.log(\"Bokeh: BokehJS failed to load within specified timeout.\");\n",
       "      root._bokeh_failed_load = true;\n",
       "    } else if (force !== true) {\n",
       "      var cell = $(document.getElementById(\"1001\")).parents('.cell').data().cell;\n",
       "      cell.output_area.append_execute_result(NB_LOAD_WARNING)\n",
       "    }\n",
       "\n",
       "  }\n",
       "\n",
       "  if (root._bokeh_is_loading === 0) {\n",
       "    console.debug(\"Bokeh: BokehJS loaded, going straight to plotting\");\n",
       "    run_inline_js();\n",
       "  } else {\n",
       "    load_libs(css_urls, js_urls, function() {\n",
       "      console.debug(\"Bokeh: BokehJS plotting callback run at\", now());\n",
       "      run_inline_js();\n",
       "    });\n",
       "  }\n",
       "}(window));"
      ],
      "application/vnd.bokehjs_load.v0+json": "\n(function(root) {\n  function now() {\n    return new Date();\n  }\n\n  var force = true;\n\n  if (typeof root._bokeh_onload_callbacks === \"undefined\" || force === true) {\n    root._bokeh_onload_callbacks = [];\n    root._bokeh_is_loading = undefined;\n  }\n\n  \n\n  \n  if (typeof (root._bokeh_timeout) === \"undefined\" || force === true) {\n    root._bokeh_timeout = Date.now() + 5000;\n    root._bokeh_failed_load = false;\n  }\n\n  var NB_LOAD_WARNING = {'data': {'text/html':\n     \"<div style='background-color: #fdd'>\\n\"+\n     \"<p>\\n\"+\n     \"BokehJS does not appear to have successfully loaded. If loading BokehJS from CDN, this \\n\"+\n     \"may be due to a slow or bad network connection. Possible fixes:\\n\"+\n     \"</p>\\n\"+\n     \"<ul>\\n\"+\n     \"<li>re-rerun `output_notebook()` to attempt to load from CDN again, or</li>\\n\"+\n     \"<li>use INLINE resources instead, as so:</li>\\n\"+\n     \"</ul>\\n\"+\n     \"<code>\\n\"+\n     \"from bokeh.resources import INLINE\\n\"+\n     \"output_notebook(resources=INLINE)\\n\"+\n     \"</code>\\n\"+\n     \"</div>\"}};\n\n  function display_loaded() {\n    var el = document.getElementById(\"1001\");\n    if (el != null) {\n      el.textContent = \"BokehJS is loading...\";\n    }\n    if (root.Bokeh !== undefined) {\n      if (el != null) {\n        el.textContent = \"BokehJS \" + root.Bokeh.version + \" successfully loaded.\";\n      }\n    } else if (Date.now() < root._bokeh_timeout) {\n      setTimeout(display_loaded, 100)\n    }\n  }\n\n\n  function run_callbacks() {\n    try {\n      root._bokeh_onload_callbacks.forEach(function(callback) {\n        if (callback != null)\n          callback();\n      });\n    } finally {\n      delete root._bokeh_onload_callbacks\n    }\n    console.debug(\"Bokeh: all callbacks have finished\");\n  }\n\n  function load_libs(css_urls, js_urls, callback) {\n    if (css_urls == null) css_urls = [];\n    if (js_urls == null) js_urls = [];\n\n    root._bokeh_onload_callbacks.push(callback);\n    if (root._bokeh_is_loading > 0) {\n      console.debug(\"Bokeh: BokehJS is being loaded, scheduling callback at\", now());\n      return null;\n    }\n    if (js_urls == null || js_urls.length === 0) {\n      run_callbacks();\n      return null;\n    }\n    console.debug(\"Bokeh: BokehJS not loaded, scheduling load and callback at\", now());\n    root._bokeh_is_loading = css_urls.length + js_urls.length;\n\n    function on_load() {\n      root._bokeh_is_loading--;\n      if (root._bokeh_is_loading === 0) {\n        console.debug(\"Bokeh: all BokehJS libraries/stylesheets loaded\");\n        run_callbacks()\n      }\n    }\n\n    function on_error() {\n      console.error(\"failed to load \" + url);\n    }\n\n    for (var i = 0; i < css_urls.length; i++) {\n      var url = css_urls[i];\n      const element = document.createElement(\"link\");\n      element.onload = on_load;\n      element.onerror = on_error;\n      element.rel = \"stylesheet\";\n      element.type = \"text/css\";\n      element.href = url;\n      console.debug(\"Bokeh: injecting link tag for BokehJS stylesheet: \", url);\n      document.body.appendChild(element);\n    }\n\n    for (var i = 0; i < js_urls.length; i++) {\n      var url = js_urls[i];\n      var element = document.createElement('script');\n      element.onload = on_load;\n      element.onerror = on_error;\n      element.async = false;\n      element.src = url;\n      console.debug(\"Bokeh: injecting script tag for BokehJS library: \", url);\n      document.head.appendChild(element);\n    }\n  };var element = document.getElementById(\"1001\");\n  if (element == null) {\n    console.error(\"Bokeh: ERROR: autoload.js configured with elementid '1001' but no matching script tag was found. \")\n    return false;\n  }\n\n  function inject_raw_css(css) {\n    const element = document.createElement(\"style\");\n    element.appendChild(document.createTextNode(css));\n    document.body.appendChild(element);\n  }\n\n  \n  var js_urls = [\"https://cdn.pydata.org/bokeh/release/bokeh-1.4.0.min.js\", \"https://cdn.pydata.org/bokeh/release/bokeh-widgets-1.4.0.min.js\", \"https://cdn.pydata.org/bokeh/release/bokeh-tables-1.4.0.min.js\", \"https://cdn.pydata.org/bokeh/release/bokeh-gl-1.4.0.min.js\"];\n  var css_urls = [];\n  \n\n  var inline_js = [\n    function(Bokeh) {\n      Bokeh.set_log_level(\"info\");\n    },\n    function(Bokeh) {\n    \n    \n    }\n  ];\n\n  function run_inline_js() {\n    \n    if (root.Bokeh !== undefined || force === true) {\n      \n    for (var i = 0; i < inline_js.length; i++) {\n      inline_js[i].call(root, root.Bokeh);\n    }\n    if (force === true) {\n        display_loaded();\n      }} else if (Date.now() < root._bokeh_timeout) {\n      setTimeout(run_inline_js, 100);\n    } else if (!root._bokeh_failed_load) {\n      console.log(\"Bokeh: BokehJS failed to load within specified timeout.\");\n      root._bokeh_failed_load = true;\n    } else if (force !== true) {\n      var cell = $(document.getElementById(\"1001\")).parents('.cell').data().cell;\n      cell.output_area.append_execute_result(NB_LOAD_WARNING)\n    }\n\n  }\n\n  if (root._bokeh_is_loading === 0) {\n    console.debug(\"Bokeh: BokehJS loaded, going straight to plotting\");\n    run_inline_js();\n  } else {\n    load_libs(css_urls, js_urls, function() {\n      console.debug(\"Bokeh: BokehJS plotting callback run at\", now());\n      run_inline_js();\n    });\n  }\n}(window));"
     },
     "metadata": {},
     "output_type": "display_data"
    }
   ],
   "source": [
    "from hail.plot import show\n",
    "from pprint import pprint\n",
    "from bokeh.layouts import gridplot\n",
    "hl.plot.output_notebook()\n",
    "\n",
    "import numpy as np\n",
    "import pandas as pd\n",
    "from functools import reduce\n",
    "from itertools import chain\n",
    "import statistics as stat"
   ]
  },
  {
   "cell_type": "code",
   "execution_count": 4,
   "metadata": {},
   "outputs": [
    {
     "data": {
      "text/html": [
       "\n",
       "    <div class=\"bk-root\">\n",
       "        <a href=\"https://bokeh.org\" target=\"_blank\" class=\"bk-logo bk-logo-small bk-logo-notebook\"></a>\n",
       "        <span id=\"1002\">Loading BokehJS ...</span>\n",
       "    </div>"
      ]
     },
     "metadata": {},
     "output_type": "display_data"
    },
    {
     "data": {
      "application/javascript": [
       "\n",
       "(function(root) {\n",
       "  function now() {\n",
       "    return new Date();\n",
       "  }\n",
       "\n",
       "  var force = true;\n",
       "\n",
       "  if (typeof root._bokeh_onload_callbacks === \"undefined\" || force === true) {\n",
       "    root._bokeh_onload_callbacks = [];\n",
       "    root._bokeh_is_loading = undefined;\n",
       "  }\n",
       "\n",
       "  var JS_MIME_TYPE = 'application/javascript';\n",
       "  var HTML_MIME_TYPE = 'text/html';\n",
       "  var EXEC_MIME_TYPE = 'application/vnd.bokehjs_exec.v0+json';\n",
       "  var CLASS_NAME = 'output_bokeh rendered_html';\n",
       "\n",
       "  /**\n",
       "   * Render data to the DOM node\n",
       "   */\n",
       "  function render(props, node) {\n",
       "    var script = document.createElement(\"script\");\n",
       "    node.appendChild(script);\n",
       "  }\n",
       "\n",
       "  /**\n",
       "   * Handle when an output is cleared or removed\n",
       "   */\n",
       "  function handleClearOutput(event, handle) {\n",
       "    var cell = handle.cell;\n",
       "\n",
       "    var id = cell.output_area._bokeh_element_id;\n",
       "    var server_id = cell.output_area._bokeh_server_id;\n",
       "    // Clean up Bokeh references\n",
       "    if (id != null && id in Bokeh.index) {\n",
       "      Bokeh.index[id].model.document.clear();\n",
       "      delete Bokeh.index[id];\n",
       "    }\n",
       "\n",
       "    if (server_id !== undefined) {\n",
       "      // Clean up Bokeh references\n",
       "      var cmd = \"from bokeh.io.state import curstate; print(curstate().uuid_to_server['\" + server_id + \"'].get_sessions()[0].document.roots[0]._id)\";\n",
       "      cell.notebook.kernel.execute(cmd, {\n",
       "        iopub: {\n",
       "          output: function(msg) {\n",
       "            var id = msg.content.text.trim();\n",
       "            if (id in Bokeh.index) {\n",
       "              Bokeh.index[id].model.document.clear();\n",
       "              delete Bokeh.index[id];\n",
       "            }\n",
       "          }\n",
       "        }\n",
       "      });\n",
       "      // Destroy server and session\n",
       "      var cmd = \"import bokeh.io.notebook as ion; ion.destroy_server('\" + server_id + \"')\";\n",
       "      cell.notebook.kernel.execute(cmd);\n",
       "    }\n",
       "  }\n",
       "\n",
       "  /**\n",
       "   * Handle when a new output is added\n",
       "   */\n",
       "  function handleAddOutput(event, handle) {\n",
       "    var output_area = handle.output_area;\n",
       "    var output = handle.output;\n",
       "\n",
       "    // limit handleAddOutput to display_data with EXEC_MIME_TYPE content only\n",
       "    if ((output.output_type != \"display_data\") || (!output.data.hasOwnProperty(EXEC_MIME_TYPE))) {\n",
       "      return\n",
       "    }\n",
       "\n",
       "    var toinsert = output_area.element.find(\".\" + CLASS_NAME.split(' ')[0]);\n",
       "\n",
       "    if (output.metadata[EXEC_MIME_TYPE][\"id\"] !== undefined) {\n",
       "      toinsert[toinsert.length - 1].firstChild.textContent = output.data[JS_MIME_TYPE];\n",
       "      // store reference to embed id on output_area\n",
       "      output_area._bokeh_element_id = output.metadata[EXEC_MIME_TYPE][\"id\"];\n",
       "    }\n",
       "    if (output.metadata[EXEC_MIME_TYPE][\"server_id\"] !== undefined) {\n",
       "      var bk_div = document.createElement(\"div\");\n",
       "      bk_div.innerHTML = output.data[HTML_MIME_TYPE];\n",
       "      var script_attrs = bk_div.children[0].attributes;\n",
       "      for (var i = 0; i < script_attrs.length; i++) {\n",
       "        toinsert[toinsert.length - 1].firstChild.setAttribute(script_attrs[i].name, script_attrs[i].value);\n",
       "      }\n",
       "      // store reference to server id on output_area\n",
       "      output_area._bokeh_server_id = output.metadata[EXEC_MIME_TYPE][\"server_id\"];\n",
       "    }\n",
       "  }\n",
       "\n",
       "  function register_renderer(events, OutputArea) {\n",
       "\n",
       "    function append_mime(data, metadata, element) {\n",
       "      // create a DOM node to render to\n",
       "      var toinsert = this.create_output_subarea(\n",
       "        metadata,\n",
       "        CLASS_NAME,\n",
       "        EXEC_MIME_TYPE\n",
       "      );\n",
       "      this.keyboard_manager.register_events(toinsert);\n",
       "      // Render to node\n",
       "      var props = {data: data, metadata: metadata[EXEC_MIME_TYPE]};\n",
       "      render(props, toinsert[toinsert.length - 1]);\n",
       "      element.append(toinsert);\n",
       "      return toinsert\n",
       "    }\n",
       "\n",
       "    /* Handle when an output is cleared or removed */\n",
       "    events.on('clear_output.CodeCell', handleClearOutput);\n",
       "    events.on('delete.Cell', handleClearOutput);\n",
       "\n",
       "    /* Handle when a new output is added */\n",
       "    events.on('output_added.OutputArea', handleAddOutput);\n",
       "\n",
       "    /**\n",
       "     * Register the mime type and append_mime function with output_area\n",
       "     */\n",
       "    OutputArea.prototype.register_mime_type(EXEC_MIME_TYPE, append_mime, {\n",
       "      /* Is output safe? */\n",
       "      safe: true,\n",
       "      /* Index of renderer in `output_area.display_order` */\n",
       "      index: 0\n",
       "    });\n",
       "  }\n",
       "\n",
       "  // register the mime type if in Jupyter Notebook environment and previously unregistered\n",
       "  if (root.Jupyter !== undefined) {\n",
       "    var events = require('base/js/events');\n",
       "    var OutputArea = require('notebook/js/outputarea').OutputArea;\n",
       "\n",
       "    if (OutputArea.prototype.mime_types().indexOf(EXEC_MIME_TYPE) == -1) {\n",
       "      register_renderer(events, OutputArea);\n",
       "    }\n",
       "  }\n",
       "\n",
       "  \n",
       "  if (typeof (root._bokeh_timeout) === \"undefined\" || force === true) {\n",
       "    root._bokeh_timeout = Date.now() + 5000;\n",
       "    root._bokeh_failed_load = false;\n",
       "  }\n",
       "\n",
       "  var NB_LOAD_WARNING = {'data': {'text/html':\n",
       "     \"<div style='background-color: #fdd'>\\n\"+\n",
       "     \"<p>\\n\"+\n",
       "     \"BokehJS does not appear to have successfully loaded. If loading BokehJS from CDN, this \\n\"+\n",
       "     \"may be due to a slow or bad network connection. Possible fixes:\\n\"+\n",
       "     \"</p>\\n\"+\n",
       "     \"<ul>\\n\"+\n",
       "     \"<li>re-rerun `output_notebook()` to attempt to load from CDN again, or</li>\\n\"+\n",
       "     \"<li>use INLINE resources instead, as so:</li>\\n\"+\n",
       "     \"</ul>\\n\"+\n",
       "     \"<code>\\n\"+\n",
       "     \"from bokeh.resources import INLINE\\n\"+\n",
       "     \"output_notebook(resources=INLINE)\\n\"+\n",
       "     \"</code>\\n\"+\n",
       "     \"</div>\"}};\n",
       "\n",
       "  function display_loaded() {\n",
       "    var el = document.getElementById(\"1002\");\n",
       "    if (el != null) {\n",
       "      el.textContent = \"BokehJS is loading...\";\n",
       "    }\n",
       "    if (root.Bokeh !== undefined) {\n",
       "      if (el != null) {\n",
       "        el.textContent = \"BokehJS \" + root.Bokeh.version + \" successfully loaded.\";\n",
       "      }\n",
       "    } else if (Date.now() < root._bokeh_timeout) {\n",
       "      setTimeout(display_loaded, 100)\n",
       "    }\n",
       "  }\n",
       "\n",
       "\n",
       "  function run_callbacks() {\n",
       "    try {\n",
       "      root._bokeh_onload_callbacks.forEach(function(callback) {\n",
       "        if (callback != null)\n",
       "          callback();\n",
       "      });\n",
       "    } finally {\n",
       "      delete root._bokeh_onload_callbacks\n",
       "    }\n",
       "    console.debug(\"Bokeh: all callbacks have finished\");\n",
       "  }\n",
       "\n",
       "  function load_libs(css_urls, js_urls, callback) {\n",
       "    if (css_urls == null) css_urls = [];\n",
       "    if (js_urls == null) js_urls = [];\n",
       "\n",
       "    root._bokeh_onload_callbacks.push(callback);\n",
       "    if (root._bokeh_is_loading > 0) {\n",
       "      console.debug(\"Bokeh: BokehJS is being loaded, scheduling callback at\", now());\n",
       "      return null;\n",
       "    }\n",
       "    if (js_urls == null || js_urls.length === 0) {\n",
       "      run_callbacks();\n",
       "      return null;\n",
       "    }\n",
       "    console.debug(\"Bokeh: BokehJS not loaded, scheduling load and callback at\", now());\n",
       "    root._bokeh_is_loading = css_urls.length + js_urls.length;\n",
       "\n",
       "    function on_load() {\n",
       "      root._bokeh_is_loading--;\n",
       "      if (root._bokeh_is_loading === 0) {\n",
       "        console.debug(\"Bokeh: all BokehJS libraries/stylesheets loaded\");\n",
       "        run_callbacks()\n",
       "      }\n",
       "    }\n",
       "\n",
       "    function on_error() {\n",
       "      console.error(\"failed to load \" + url);\n",
       "    }\n",
       "\n",
       "    for (var i = 0; i < css_urls.length; i++) {\n",
       "      var url = css_urls[i];\n",
       "      const element = document.createElement(\"link\");\n",
       "      element.onload = on_load;\n",
       "      element.onerror = on_error;\n",
       "      element.rel = \"stylesheet\";\n",
       "      element.type = \"text/css\";\n",
       "      element.href = url;\n",
       "      console.debug(\"Bokeh: injecting link tag for BokehJS stylesheet: \", url);\n",
       "      document.body.appendChild(element);\n",
       "    }\n",
       "\n",
       "    for (var i = 0; i < js_urls.length; i++) {\n",
       "      var url = js_urls[i];\n",
       "      var element = document.createElement('script');\n",
       "      element.onload = on_load;\n",
       "      element.onerror = on_error;\n",
       "      element.async = false;\n",
       "      element.src = url;\n",
       "      console.debug(\"Bokeh: injecting script tag for BokehJS library: \", url);\n",
       "      document.head.appendChild(element);\n",
       "    }\n",
       "  };var element = document.getElementById(\"1002\");\n",
       "  if (element == null) {\n",
       "    console.error(\"Bokeh: ERROR: autoload.js configured with elementid '1002' but no matching script tag was found. \")\n",
       "    return false;\n",
       "  }\n",
       "\n",
       "  function inject_raw_css(css) {\n",
       "    const element = document.createElement(\"style\");\n",
       "    element.appendChild(document.createTextNode(css));\n",
       "    document.body.appendChild(element);\n",
       "  }\n",
       "\n",
       "  \n",
       "  var js_urls = [\"https://cdn.pydata.org/bokeh/release/bokeh-1.4.0.min.js\", \"https://cdn.pydata.org/bokeh/release/bokeh-widgets-1.4.0.min.js\", \"https://cdn.pydata.org/bokeh/release/bokeh-tables-1.4.0.min.js\", \"https://cdn.pydata.org/bokeh/release/bokeh-gl-1.4.0.min.js\"];\n",
       "  var css_urls = [];\n",
       "  \n",
       "\n",
       "  var inline_js = [\n",
       "    function(Bokeh) {\n",
       "      Bokeh.set_log_level(\"info\");\n",
       "    },\n",
       "    function(Bokeh) {\n",
       "    \n",
       "    \n",
       "    }\n",
       "  ];\n",
       "\n",
       "  function run_inline_js() {\n",
       "    \n",
       "    if (root.Bokeh !== undefined || force === true) {\n",
       "      \n",
       "    for (var i = 0; i < inline_js.length; i++) {\n",
       "      inline_js[i].call(root, root.Bokeh);\n",
       "    }\n",
       "    if (force === true) {\n",
       "        display_loaded();\n",
       "      }} else if (Date.now() < root._bokeh_timeout) {\n",
       "      setTimeout(run_inline_js, 100);\n",
       "    } else if (!root._bokeh_failed_load) {\n",
       "      console.log(\"Bokeh: BokehJS failed to load within specified timeout.\");\n",
       "      root._bokeh_failed_load = true;\n",
       "    } else if (force !== true) {\n",
       "      var cell = $(document.getElementById(\"1002\")).parents('.cell').data().cell;\n",
       "      cell.output_area.append_execute_result(NB_LOAD_WARNING)\n",
       "    }\n",
       "\n",
       "  }\n",
       "\n",
       "  if (root._bokeh_is_loading === 0) {\n",
       "    console.debug(\"Bokeh: BokehJS loaded, going straight to plotting\");\n",
       "    run_inline_js();\n",
       "  } else {\n",
       "    load_libs(css_urls, js_urls, function() {\n",
       "      console.debug(\"Bokeh: BokehJS plotting callback run at\", now());\n",
       "      run_inline_js();\n",
       "    });\n",
       "  }\n",
       "}(window));"
      ],
      "application/vnd.bokehjs_load.v0+json": "\n(function(root) {\n  function now() {\n    return new Date();\n  }\n\n  var force = true;\n\n  if (typeof root._bokeh_onload_callbacks === \"undefined\" || force === true) {\n    root._bokeh_onload_callbacks = [];\n    root._bokeh_is_loading = undefined;\n  }\n\n  \n\n  \n  if (typeof (root._bokeh_timeout) === \"undefined\" || force === true) {\n    root._bokeh_timeout = Date.now() + 5000;\n    root._bokeh_failed_load = false;\n  }\n\n  var NB_LOAD_WARNING = {'data': {'text/html':\n     \"<div style='background-color: #fdd'>\\n\"+\n     \"<p>\\n\"+\n     \"BokehJS does not appear to have successfully loaded. If loading BokehJS from CDN, this \\n\"+\n     \"may be due to a slow or bad network connection. Possible fixes:\\n\"+\n     \"</p>\\n\"+\n     \"<ul>\\n\"+\n     \"<li>re-rerun `output_notebook()` to attempt to load from CDN again, or</li>\\n\"+\n     \"<li>use INLINE resources instead, as so:</li>\\n\"+\n     \"</ul>\\n\"+\n     \"<code>\\n\"+\n     \"from bokeh.resources import INLINE\\n\"+\n     \"output_notebook(resources=INLINE)\\n\"+\n     \"</code>\\n\"+\n     \"</div>\"}};\n\n  function display_loaded() {\n    var el = document.getElementById(\"1002\");\n    if (el != null) {\n      el.textContent = \"BokehJS is loading...\";\n    }\n    if (root.Bokeh !== undefined) {\n      if (el != null) {\n        el.textContent = \"BokehJS \" + root.Bokeh.version + \" successfully loaded.\";\n      }\n    } else if (Date.now() < root._bokeh_timeout) {\n      setTimeout(display_loaded, 100)\n    }\n  }\n\n\n  function run_callbacks() {\n    try {\n      root._bokeh_onload_callbacks.forEach(function(callback) {\n        if (callback != null)\n          callback();\n      });\n    } finally {\n      delete root._bokeh_onload_callbacks\n    }\n    console.debug(\"Bokeh: all callbacks have finished\");\n  }\n\n  function load_libs(css_urls, js_urls, callback) {\n    if (css_urls == null) css_urls = [];\n    if (js_urls == null) js_urls = [];\n\n    root._bokeh_onload_callbacks.push(callback);\n    if (root._bokeh_is_loading > 0) {\n      console.debug(\"Bokeh: BokehJS is being loaded, scheduling callback at\", now());\n      return null;\n    }\n    if (js_urls == null || js_urls.length === 0) {\n      run_callbacks();\n      return null;\n    }\n    console.debug(\"Bokeh: BokehJS not loaded, scheduling load and callback at\", now());\n    root._bokeh_is_loading = css_urls.length + js_urls.length;\n\n    function on_load() {\n      root._bokeh_is_loading--;\n      if (root._bokeh_is_loading === 0) {\n        console.debug(\"Bokeh: all BokehJS libraries/stylesheets loaded\");\n        run_callbacks()\n      }\n    }\n\n    function on_error() {\n      console.error(\"failed to load \" + url);\n    }\n\n    for (var i = 0; i < css_urls.length; i++) {\n      var url = css_urls[i];\n      const element = document.createElement(\"link\");\n      element.onload = on_load;\n      element.onerror = on_error;\n      element.rel = \"stylesheet\";\n      element.type = \"text/css\";\n      element.href = url;\n      console.debug(\"Bokeh: injecting link tag for BokehJS stylesheet: \", url);\n      document.body.appendChild(element);\n    }\n\n    for (var i = 0; i < js_urls.length; i++) {\n      var url = js_urls[i];\n      var element = document.createElement('script');\n      element.onload = on_load;\n      element.onerror = on_error;\n      element.async = false;\n      element.src = url;\n      console.debug(\"Bokeh: injecting script tag for BokehJS library: \", url);\n      document.head.appendChild(element);\n    }\n  };var element = document.getElementById(\"1002\");\n  if (element == null) {\n    console.error(\"Bokeh: ERROR: autoload.js configured with elementid '1002' but no matching script tag was found. \")\n    return false;\n  }\n\n  function inject_raw_css(css) {\n    const element = document.createElement(\"style\");\n    element.appendChild(document.createTextNode(css));\n    document.body.appendChild(element);\n  }\n\n  \n  var js_urls = [\"https://cdn.pydata.org/bokeh/release/bokeh-1.4.0.min.js\", \"https://cdn.pydata.org/bokeh/release/bokeh-widgets-1.4.0.min.js\", \"https://cdn.pydata.org/bokeh/release/bokeh-tables-1.4.0.min.js\", \"https://cdn.pydata.org/bokeh/release/bokeh-gl-1.4.0.min.js\"];\n  var css_urls = [];\n  \n\n  var inline_js = [\n    function(Bokeh) {\n      Bokeh.set_log_level(\"info\");\n    },\n    function(Bokeh) {\n    \n    \n    }\n  ];\n\n  function run_inline_js() {\n    \n    if (root.Bokeh !== undefined || force === true) {\n      \n    for (var i = 0; i < inline_js.length; i++) {\n      inline_js[i].call(root, root.Bokeh);\n    }\n    if (force === true) {\n        display_loaded();\n      }} else if (Date.now() < root._bokeh_timeout) {\n      setTimeout(run_inline_js, 100);\n    } else if (!root._bokeh_failed_load) {\n      console.log(\"Bokeh: BokehJS failed to load within specified timeout.\");\n      root._bokeh_failed_load = true;\n    } else if (force !== true) {\n      var cell = $(document.getElementById(\"1002\")).parents('.cell').data().cell;\n      cell.output_area.append_execute_result(NB_LOAD_WARNING)\n    }\n\n  }\n\n  if (root._bokeh_is_loading === 0) {\n    console.debug(\"Bokeh: BokehJS loaded, going straight to plotting\");\n    run_inline_js();\n  } else {\n    load_libs(css_urls, js_urls, function() {\n      console.debug(\"Bokeh: BokehJS plotting callback run at\", now());\n      run_inline_js();\n    });\n  }\n}(window));"
     },
     "metadata": {},
     "output_type": "display_data"
    }
   ],
   "source": [
    "from bokeh.plotting import figure, show, output_notebook\n",
    "output_notebook()"
   ]
  },
  {
   "cell_type": "code",
   "execution_count": 5,
   "metadata": {},
   "outputs": [],
   "source": [
    "import bokeh.models.mappers"
   ]
  },
  {
   "cell_type": "markdown",
   "metadata": {},
   "source": [
    "### note - paths in this notebook are outdated"
   ]
  },
  {
   "cell_type": "markdown",
   "metadata": {},
   "source": [
    "## CADD annotation"
   ]
  },
  {
   "cell_type": "code",
   "execution_count": 6,
   "metadata": {},
   "outputs": [],
   "source": [
    "mt = hl.read_matrix_table('/net/archive/groups/plggneuromol/GTS-analysis/data/GTS-with-pheno.mt')"
   ]
  },
  {
   "cell_type": "code",
   "execution_count": 7,
   "metadata": {
    "collapsed": true
   },
   "outputs": [
    {
     "name": "stderr",
     "output_type": "stream",
     "text": [
      "2021-06-22 13:47:01 Hail: WARN: '/net/archive/groups/plggneuromol/GTS-analysis/cadd/whole_genome_SNVs.tsv.gz' refers to no files\n"
     ]
    },
    {
     "ename": "FatalError",
     "evalue": "HailException: arguments refer to no files\n\nJava stack trace:\nis.hail.utils.HailException: arguments refer to no files\n\tat is.hail.utils.ErrorHandling$class.fatal(ErrorHandling.scala:11)\n\tat is.hail.utils.package$.fatal(package.scala:77)\n\tat is.hail.expr.ir.TextTableReader$.readMetadata(TextTableReader.scala:253)\n\tat is.hail.expr.ir.TextTableReader$.apply(TextTableReader.scala:306)\n\tat is.hail.expr.ir.TextTableReader$.fromJValue(TextTableReader.scala:313)\n\tat is.hail.expr.ir.TableReader$.fromJValue(TableIR.scala:105)\n\tat is.hail.expr.ir.IRParser$.table_ir_1(Parser.scala:1470)\n\tat is.hail.expr.ir.IRParser$$anonfun$table_ir$1.apply(Parser.scala:1446)\n\tat is.hail.expr.ir.IRParser$$anonfun$table_ir$1.apply(Parser.scala:1446)\n\tat is.hail.utils.StackSafe$More.advance(StackSafe.scala:64)\n\tat is.hail.utils.StackSafe$.run(StackSafe.scala:16)\n\tat is.hail.utils.StackSafe$StackFrame.run(StackSafe.scala:32)\n\tat is.hail.expr.ir.IRParser$$anonfun$parse_table_ir$1.apply(Parser.scala:1965)\n\tat is.hail.expr.ir.IRParser$$anonfun$parse_table_ir$1.apply(Parser.scala:1965)\n\tat is.hail.expr.ir.IRParser$.parse(Parser.scala:1954)\n\tat is.hail.expr.ir.IRParser$.parse_table_ir(Parser.scala:1965)\n\tat is.hail.backend.spark.SparkBackend$$anonfun$parse_table_ir$1$$anonfun$apply$20.apply(SparkBackend.scala:602)\n\tat is.hail.backend.spark.SparkBackend$$anonfun$parse_table_ir$1$$anonfun$apply$20.apply(SparkBackend.scala:601)\n\tat is.hail.expr.ir.ExecuteContext$$anonfun$scoped$1.apply(ExecuteContext.scala:25)\n\tat is.hail.expr.ir.ExecuteContext$$anonfun$scoped$1.apply(ExecuteContext.scala:23)\n\tat is.hail.utils.package$.using(package.scala:618)\n\tat is.hail.annotations.RegionPool$.scoped(RegionPool.scala:13)\n\tat is.hail.expr.ir.ExecuteContext$.scoped(ExecuteContext.scala:23)\n\tat is.hail.backend.spark.SparkBackend.withExecuteContext(SparkBackend.scala:254)\n\tat is.hail.backend.spark.SparkBackend$$anonfun$parse_table_ir$1.apply(SparkBackend.scala:601)\n\tat is.hail.backend.spark.SparkBackend$$anonfun$parse_table_ir$1.apply(SparkBackend.scala:600)\n\tat is.hail.utils.ExecutionTimer$.time(ExecutionTimer.scala:52)\n\tat is.hail.utils.ExecutionTimer$.logTime(ExecutionTimer.scala:59)\n\tat is.hail.backend.spark.SparkBackend.parse_table_ir(SparkBackend.scala:600)\n\tat sun.reflect.NativeMethodAccessorImpl.invoke0(Native Method)\n\tat sun.reflect.NativeMethodAccessorImpl.invoke(NativeMethodAccessorImpl.java:62)\n\tat sun.reflect.DelegatingMethodAccessorImpl.invoke(DelegatingMethodAccessorImpl.java:43)\n\tat java.lang.reflect.Method.invoke(Method.java:498)\n\tat py4j.reflection.MethodInvoker.invoke(MethodInvoker.java:244)\n\tat py4j.reflection.ReflectionEngine.invoke(ReflectionEngine.java:357)\n\tat py4j.Gateway.invoke(Gateway.java:282)\n\tat py4j.commands.AbstractCommand.invokeMethod(AbstractCommand.java:132)\n\tat py4j.commands.CallCommand.execute(CallCommand.java:79)\n\tat py4j.GatewayConnection.run(GatewayConnection.java:238)\n\tat java.lang.Thread.run(Thread.java:748)\n\n\n\nHail version: 0.2.62-84fa81b9ea3d\nError summary: HailException: arguments refer to no files",
     "output_type": "error",
     "traceback": [
      "\u001b[0;31m---------------------------------------------------------------------------\u001b[0m",
      "\u001b[0;31mFatalError\u001b[0m                                Traceback (most recent call last)",
      "\u001b[0;32m<ipython-input-7-fcefd8ff10d3>\u001b[0m in \u001b[0;36m<module>\u001b[0;34m()\u001b[0m\n\u001b[1;32m      1\u001b[0m cd = hl.import_table('/net/archive/groups/plggneuromol/GTS-analysis/cadd/whole_genome_SNVs.tsv.gz', force_bgz = True, delimiter='\\t', comment='#', \n\u001b[1;32m      2\u001b[0m                      \u001b[0mtypes\u001b[0m \u001b[0;34m=\u001b[0m \u001b[0;34m{\u001b[0m\u001b[0;34m'f0'\u001b[0m\u001b[0;34m:\u001b[0m\u001b[0;34m'tstr'\u001b[0m\u001b[0;34m,\u001b[0m \u001b[0;34m'f1'\u001b[0m\u001b[0;34m:\u001b[0m\u001b[0;34m'tint'\u001b[0m\u001b[0;34m,\u001b[0m \u001b[0;34m'f2'\u001b[0m\u001b[0;34m:\u001b[0m\u001b[0;34m'tstr'\u001b[0m\u001b[0;34m,\u001b[0m \u001b[0;34m'f3'\u001b[0m\u001b[0;34m:\u001b[0m\u001b[0;34m'tstr'\u001b[0m\u001b[0;34m,\u001b[0m \u001b[0;34m'f4'\u001b[0m\u001b[0;34m:\u001b[0m\u001b[0;34m'tfloat'\u001b[0m\u001b[0;34m,\u001b[0m \u001b[0;34m'f5'\u001b[0m\u001b[0;34m:\u001b[0m\u001b[0;34m'tfloat'\u001b[0m\u001b[0;34m}\u001b[0m\u001b[0;34m,\u001b[0m\u001b[0;34m\u001b[0m\u001b[0m\n\u001b[0;32m----> 3\u001b[0;31m                      no_header = True)\n\u001b[0m",
      "\u001b[0;32m<decorator-gen-1424>\u001b[0m in \u001b[0;36mimport_table\u001b[0;34m(paths, key, min_partitions, impute, no_header, comment, delimiter, missing, types, quote, skip_blank_lines, force_bgz, filter, find_replace, force)\u001b[0m\n",
      "\u001b[0;32m/net/software/local/python/3.6.5/lib/python3.6/site-packages/hail/typecheck/check.py\u001b[0m in \u001b[0;36mwrapper\u001b[0;34m(__original_func, *args, **kwargs)\u001b[0m\n\u001b[1;32m    575\u001b[0m     \u001b[0;32mdef\u001b[0m \u001b[0mwrapper\u001b[0m\u001b[0;34m(\u001b[0m\u001b[0m__original_func\u001b[0m\u001b[0;34m,\u001b[0m \u001b[0;34m*\u001b[0m\u001b[0margs\u001b[0m\u001b[0;34m,\u001b[0m \u001b[0;34m**\u001b[0m\u001b[0mkwargs\u001b[0m\u001b[0;34m)\u001b[0m\u001b[0;34m:\u001b[0m\u001b[0;34m\u001b[0m\u001b[0m\n\u001b[1;32m    576\u001b[0m         \u001b[0margs_\u001b[0m\u001b[0;34m,\u001b[0m \u001b[0mkwargs_\u001b[0m \u001b[0;34m=\u001b[0m \u001b[0mcheck_all\u001b[0m\u001b[0;34m(\u001b[0m\u001b[0m__original_func\u001b[0m\u001b[0;34m,\u001b[0m \u001b[0margs\u001b[0m\u001b[0;34m,\u001b[0m \u001b[0mkwargs\u001b[0m\u001b[0;34m,\u001b[0m \u001b[0mcheckers\u001b[0m\u001b[0;34m,\u001b[0m \u001b[0mis_method\u001b[0m\u001b[0;34m=\u001b[0m\u001b[0mis_method\u001b[0m\u001b[0;34m)\u001b[0m\u001b[0;34m\u001b[0m\u001b[0m\n\u001b[0;32m--> 577\u001b[0;31m         \u001b[0;32mreturn\u001b[0m \u001b[0m__original_func\u001b[0m\u001b[0;34m(\u001b[0m\u001b[0;34m*\u001b[0m\u001b[0margs_\u001b[0m\u001b[0;34m,\u001b[0m \u001b[0;34m**\u001b[0m\u001b[0mkwargs_\u001b[0m\u001b[0;34m)\u001b[0m\u001b[0;34m\u001b[0m\u001b[0m\n\u001b[0m\u001b[1;32m    578\u001b[0m \u001b[0;34m\u001b[0m\u001b[0m\n\u001b[1;32m    579\u001b[0m     \u001b[0;32mreturn\u001b[0m \u001b[0mwrapper\u001b[0m\u001b[0;34m\u001b[0m\u001b[0m\n",
      "\u001b[0;32m/net/software/local/python/3.6.5/lib/python3.6/site-packages/hail/methods/impex.py\u001b[0m in \u001b[0;36mimport_table\u001b[0;34m(paths, key, min_partitions, impute, no_header, comment, delimiter, missing, types, quote, skip_blank_lines, force_bgz, filter, find_replace, force)\u001b[0m\n\u001b[1;32m   1534\u001b[0m                             \u001b[0mskip_blank_lines\u001b[0m\u001b[0;34m,\u001b[0m \u001b[0mforce_bgz\u001b[0m\u001b[0;34m,\u001b[0m \u001b[0mfilter\u001b[0m\u001b[0;34m,\u001b[0m \u001b[0mfind_replace\u001b[0m\u001b[0;34m,\u001b[0m\u001b[0;34m\u001b[0m\u001b[0m\n\u001b[1;32m   1535\u001b[0m                             force)\n\u001b[0;32m-> 1536\u001b[0;31m     \u001b[0mht\u001b[0m \u001b[0;34m=\u001b[0m \u001b[0mTable\u001b[0m\u001b[0;34m(\u001b[0m\u001b[0mir\u001b[0m\u001b[0;34m.\u001b[0m\u001b[0mTableRead\u001b[0m\u001b[0;34m(\u001b[0m\u001b[0mtr\u001b[0m\u001b[0;34m)\u001b[0m\u001b[0;34m)\u001b[0m\u001b[0;34m\u001b[0m\u001b[0m\n\u001b[0m\u001b[1;32m   1537\u001b[0m \u001b[0;34m\u001b[0m\u001b[0m\n\u001b[1;32m   1538\u001b[0m     \u001b[0mstrs\u001b[0m \u001b[0;34m=\u001b[0m \u001b[0;34m[\u001b[0m\u001b[0;34m]\u001b[0m\u001b[0;34m\u001b[0m\u001b[0m\n",
      "\u001b[0;32m/net/software/local/python/3.6.5/lib/python3.6/site-packages/hail/table.py\u001b[0m in \u001b[0;36m__init__\u001b[0;34m(self, tir)\u001b[0m\n\u001b[1;32m    341\u001b[0m \u001b[0;34m\u001b[0m\u001b[0m\n\u001b[1;32m    342\u001b[0m         \u001b[0mself\u001b[0m\u001b[0;34m.\u001b[0m\u001b[0m_tir\u001b[0m \u001b[0;34m=\u001b[0m \u001b[0mtir\u001b[0m\u001b[0;34m\u001b[0m\u001b[0m\n\u001b[0;32m--> 343\u001b[0;31m         \u001b[0mself\u001b[0m\u001b[0;34m.\u001b[0m\u001b[0m_type\u001b[0m \u001b[0;34m=\u001b[0m \u001b[0mself\u001b[0m\u001b[0;34m.\u001b[0m\u001b[0m_tir\u001b[0m\u001b[0;34m.\u001b[0m\u001b[0mtyp\u001b[0m\u001b[0;34m\u001b[0m\u001b[0m\n\u001b[0m\u001b[1;32m    344\u001b[0m \u001b[0;34m\u001b[0m\u001b[0m\n\u001b[1;32m    345\u001b[0m         \u001b[0mself\u001b[0m\u001b[0;34m.\u001b[0m\u001b[0m_row_axis\u001b[0m \u001b[0;34m=\u001b[0m \u001b[0;34m'row'\u001b[0m\u001b[0;34m\u001b[0m\u001b[0m\n",
      "\u001b[0;32m/net/software/local/python/3.6.5/lib/python3.6/site-packages/hail/ir/base_ir.py\u001b[0m in \u001b[0;36mtyp\u001b[0;34m(self)\u001b[0m\n\u001b[1;32m    337\u001b[0m     \u001b[0;32mdef\u001b[0m \u001b[0mtyp\u001b[0m\u001b[0;34m(\u001b[0m\u001b[0mself\u001b[0m\u001b[0;34m)\u001b[0m\u001b[0;34m:\u001b[0m\u001b[0;34m\u001b[0m\u001b[0m\n\u001b[1;32m    338\u001b[0m         \u001b[0;32mif\u001b[0m \u001b[0mself\u001b[0m\u001b[0;34m.\u001b[0m\u001b[0m_type\u001b[0m \u001b[0;32mis\u001b[0m \u001b[0;32mNone\u001b[0m\u001b[0;34m:\u001b[0m\u001b[0;34m\u001b[0m\u001b[0m\n\u001b[0;32m--> 339\u001b[0;31m             \u001b[0mself\u001b[0m\u001b[0;34m.\u001b[0m\u001b[0m_compute_type\u001b[0m\u001b[0;34m(\u001b[0m\u001b[0;34m)\u001b[0m\u001b[0;34m\u001b[0m\u001b[0m\n\u001b[0m\u001b[1;32m    340\u001b[0m             \u001b[0;32massert\u001b[0m \u001b[0mself\u001b[0m\u001b[0;34m.\u001b[0m\u001b[0m_type\u001b[0m \u001b[0;32mis\u001b[0m \u001b[0;32mnot\u001b[0m \u001b[0;32mNone\u001b[0m\u001b[0;34m,\u001b[0m \u001b[0mself\u001b[0m\u001b[0;34m\u001b[0m\u001b[0m\n\u001b[1;32m    341\u001b[0m         \u001b[0;32mreturn\u001b[0m \u001b[0mself\u001b[0m\u001b[0;34m.\u001b[0m\u001b[0m_type\u001b[0m\u001b[0;34m\u001b[0m\u001b[0m\n",
      "\u001b[0;32m/net/software/local/python/3.6.5/lib/python3.6/site-packages/hail/ir/table_ir.py\u001b[0m in \u001b[0;36m_compute_type\u001b[0;34m(self)\u001b[0m\n\u001b[1;32m    248\u001b[0m \u001b[0;34m\u001b[0m\u001b[0m\n\u001b[1;32m    249\u001b[0m     \u001b[0;32mdef\u001b[0m \u001b[0m_compute_type\u001b[0m\u001b[0;34m(\u001b[0m\u001b[0mself\u001b[0m\u001b[0;34m)\u001b[0m\u001b[0;34m:\u001b[0m\u001b[0;34m\u001b[0m\u001b[0m\n\u001b[0;32m--> 250\u001b[0;31m         \u001b[0mself\u001b[0m\u001b[0;34m.\u001b[0m\u001b[0m_type\u001b[0m \u001b[0;34m=\u001b[0m \u001b[0mEnv\u001b[0m\u001b[0;34m.\u001b[0m\u001b[0mbackend\u001b[0m\u001b[0;34m(\u001b[0m\u001b[0;34m)\u001b[0m\u001b[0;34m.\u001b[0m\u001b[0mtable_type\u001b[0m\u001b[0;34m(\u001b[0m\u001b[0mself\u001b[0m\u001b[0;34m)\u001b[0m\u001b[0;34m\u001b[0m\u001b[0m\n\u001b[0m\u001b[1;32m    251\u001b[0m \u001b[0;34m\u001b[0m\u001b[0m\n\u001b[1;32m    252\u001b[0m \u001b[0;34m\u001b[0m\u001b[0m\n",
      "\u001b[0;32m/net/software/local/python/3.6.5/lib/python3.6/site-packages/hail/backend/spark_backend.py\u001b[0m in \u001b[0;36mtable_type\u001b[0;34m(self, tir)\u001b[0m\n\u001b[1;32m    275\u001b[0m \u001b[0;34m\u001b[0m\u001b[0m\n\u001b[1;32m    276\u001b[0m     \u001b[0;32mdef\u001b[0m \u001b[0mtable_type\u001b[0m\u001b[0;34m(\u001b[0m\u001b[0mself\u001b[0m\u001b[0;34m,\u001b[0m \u001b[0mtir\u001b[0m\u001b[0;34m)\u001b[0m\u001b[0;34m:\u001b[0m\u001b[0;34m\u001b[0m\u001b[0m\n\u001b[0;32m--> 277\u001b[0;31m         \u001b[0mjir\u001b[0m \u001b[0;34m=\u001b[0m \u001b[0mself\u001b[0m\u001b[0;34m.\u001b[0m\u001b[0m_to_java_table_ir\u001b[0m\u001b[0;34m(\u001b[0m\u001b[0mtir\u001b[0m\u001b[0;34m)\u001b[0m\u001b[0;34m\u001b[0m\u001b[0m\n\u001b[0m\u001b[1;32m    278\u001b[0m         \u001b[0;32mreturn\u001b[0m \u001b[0mttable\u001b[0m\u001b[0;34m.\u001b[0m\u001b[0m_from_java\u001b[0m\u001b[0;34m(\u001b[0m\u001b[0mjir\u001b[0m\u001b[0;34m.\u001b[0m\u001b[0mtyp\u001b[0m\u001b[0;34m(\u001b[0m\u001b[0;34m)\u001b[0m\u001b[0;34m)\u001b[0m\u001b[0;34m\u001b[0m\u001b[0m\n\u001b[1;32m    279\u001b[0m \u001b[0;34m\u001b[0m\u001b[0m\n",
      "\u001b[0;32m/net/software/local/python/3.6.5/lib/python3.6/site-packages/hail/backend/spark_backend.py\u001b[0m in \u001b[0;36m_to_java_table_ir\u001b[0;34m(self, ir)\u001b[0m\n\u001b[1;32m    262\u001b[0m \u001b[0;34m\u001b[0m\u001b[0m\n\u001b[1;32m    263\u001b[0m     \u001b[0;32mdef\u001b[0m \u001b[0m_to_java_table_ir\u001b[0m\u001b[0;34m(\u001b[0m\u001b[0mself\u001b[0m\u001b[0;34m,\u001b[0m \u001b[0mir\u001b[0m\u001b[0;34m)\u001b[0m\u001b[0;34m:\u001b[0m\u001b[0;34m\u001b[0m\u001b[0m\n\u001b[0;32m--> 264\u001b[0;31m         \u001b[0;32mreturn\u001b[0m \u001b[0mself\u001b[0m\u001b[0;34m.\u001b[0m\u001b[0m_to_java_ir\u001b[0m\u001b[0;34m(\u001b[0m\u001b[0mir\u001b[0m\u001b[0;34m,\u001b[0m \u001b[0mself\u001b[0m\u001b[0;34m.\u001b[0m\u001b[0m_parse_table_ir\u001b[0m\u001b[0;34m)\u001b[0m\u001b[0;34m\u001b[0m\u001b[0m\n\u001b[0m\u001b[1;32m    265\u001b[0m \u001b[0;34m\u001b[0m\u001b[0m\n\u001b[1;32m    266\u001b[0m     \u001b[0;32mdef\u001b[0m \u001b[0m_to_java_matrix_ir\u001b[0m\u001b[0;34m(\u001b[0m\u001b[0mself\u001b[0m\u001b[0;34m,\u001b[0m \u001b[0mir\u001b[0m\u001b[0;34m)\u001b[0m\u001b[0;34m:\u001b[0m\u001b[0;34m\u001b[0m\u001b[0m\n",
      "\u001b[0;32m/net/software/local/python/3.6.5/lib/python3.6/site-packages/hail/backend/spark_backend.py\u001b[0m in \u001b[0;36m_to_java_ir\u001b[0;34m(self, ir, parse)\u001b[0m\n\u001b[1;32m    255\u001b[0m             \u001b[0mr\u001b[0m \u001b[0;34m=\u001b[0m \u001b[0mCSERenderer\u001b[0m\u001b[0;34m(\u001b[0m\u001b[0mstop_at_jir\u001b[0m\u001b[0;34m=\u001b[0m\u001b[0;32mTrue\u001b[0m\u001b[0;34m)\u001b[0m\u001b[0;34m\u001b[0m\u001b[0m\n\u001b[1;32m    256\u001b[0m             \u001b[0;31m# FIXME parse should be static\u001b[0m\u001b[0;34m\u001b[0m\u001b[0;34m\u001b[0m\u001b[0m\n\u001b[0;32m--> 257\u001b[0;31m             \u001b[0mir\u001b[0m\u001b[0;34m.\u001b[0m\u001b[0m_jir\u001b[0m \u001b[0;34m=\u001b[0m \u001b[0mparse\u001b[0m\u001b[0;34m(\u001b[0m\u001b[0mr\u001b[0m\u001b[0;34m(\u001b[0m\u001b[0mir\u001b[0m\u001b[0;34m)\u001b[0m\u001b[0;34m,\u001b[0m \u001b[0mir_map\u001b[0m\u001b[0;34m=\u001b[0m\u001b[0mr\u001b[0m\u001b[0;34m.\u001b[0m\u001b[0mjirs\u001b[0m\u001b[0;34m)\u001b[0m\u001b[0;34m\u001b[0m\u001b[0m\n\u001b[0m\u001b[1;32m    258\u001b[0m         \u001b[0;32mreturn\u001b[0m \u001b[0mir\u001b[0m\u001b[0;34m.\u001b[0m\u001b[0m_jir\u001b[0m\u001b[0;34m\u001b[0m\u001b[0m\n\u001b[1;32m    259\u001b[0m \u001b[0;34m\u001b[0m\u001b[0m\n",
      "\u001b[0;32m/net/software/local/python/3.6.5/lib/python3.6/site-packages/hail/backend/spark_backend.py\u001b[0m in \u001b[0;36m_parse_table_ir\u001b[0;34m(self, code, ref_map, ir_map)\u001b[0m\n\u001b[1;32m    230\u001b[0m \u001b[0;34m\u001b[0m\u001b[0m\n\u001b[1;32m    231\u001b[0m     \u001b[0;32mdef\u001b[0m \u001b[0m_parse_table_ir\u001b[0m\u001b[0;34m(\u001b[0m\u001b[0mself\u001b[0m\u001b[0;34m,\u001b[0m \u001b[0mcode\u001b[0m\u001b[0;34m,\u001b[0m \u001b[0mref_map\u001b[0m\u001b[0;34m=\u001b[0m\u001b[0;34m{\u001b[0m\u001b[0;34m}\u001b[0m\u001b[0;34m,\u001b[0m \u001b[0mir_map\u001b[0m\u001b[0;34m=\u001b[0m\u001b[0;34m{\u001b[0m\u001b[0;34m}\u001b[0m\u001b[0;34m)\u001b[0m\u001b[0;34m:\u001b[0m\u001b[0;34m\u001b[0m\u001b[0m\n\u001b[0;32m--> 232\u001b[0;31m         \u001b[0;32mreturn\u001b[0m \u001b[0mself\u001b[0m\u001b[0;34m.\u001b[0m\u001b[0m_jbackend\u001b[0m\u001b[0;34m.\u001b[0m\u001b[0mparse_table_ir\u001b[0m\u001b[0;34m(\u001b[0m\u001b[0mcode\u001b[0m\u001b[0;34m,\u001b[0m \u001b[0mref_map\u001b[0m\u001b[0;34m,\u001b[0m \u001b[0mir_map\u001b[0m\u001b[0;34m)\u001b[0m\u001b[0;34m\u001b[0m\u001b[0m\n\u001b[0m\u001b[1;32m    233\u001b[0m \u001b[0;34m\u001b[0m\u001b[0m\n\u001b[1;32m    234\u001b[0m     \u001b[0;32mdef\u001b[0m \u001b[0m_parse_matrix_ir\u001b[0m\u001b[0;34m(\u001b[0m\u001b[0mself\u001b[0m\u001b[0;34m,\u001b[0m \u001b[0mcode\u001b[0m\u001b[0;34m,\u001b[0m \u001b[0mref_map\u001b[0m\u001b[0;34m=\u001b[0m\u001b[0;34m{\u001b[0m\u001b[0;34m}\u001b[0m\u001b[0;34m,\u001b[0m \u001b[0mir_map\u001b[0m\u001b[0;34m=\u001b[0m\u001b[0;34m{\u001b[0m\u001b[0;34m}\u001b[0m\u001b[0;34m)\u001b[0m\u001b[0;34m:\u001b[0m\u001b[0;34m\u001b[0m\u001b[0m\n",
      "\u001b[0;32m/net/software/local/python/3.6.5/lib/python3.6/site-packages/py4j/java_gateway.py\u001b[0m in \u001b[0;36m__call__\u001b[0;34m(self, *args)\u001b[0m\n\u001b[1;32m   1255\u001b[0m         \u001b[0manswer\u001b[0m \u001b[0;34m=\u001b[0m \u001b[0mself\u001b[0m\u001b[0;34m.\u001b[0m\u001b[0mgateway_client\u001b[0m\u001b[0;34m.\u001b[0m\u001b[0msend_command\u001b[0m\u001b[0;34m(\u001b[0m\u001b[0mcommand\u001b[0m\u001b[0;34m)\u001b[0m\u001b[0;34m\u001b[0m\u001b[0m\n\u001b[1;32m   1256\u001b[0m         return_value = get_return_value(\n\u001b[0;32m-> 1257\u001b[0;31m             answer, self.gateway_client, self.target_id, self.name)\n\u001b[0m\u001b[1;32m   1258\u001b[0m \u001b[0;34m\u001b[0m\u001b[0m\n\u001b[1;32m   1259\u001b[0m         \u001b[0;32mfor\u001b[0m \u001b[0mtemp_arg\u001b[0m \u001b[0;32min\u001b[0m \u001b[0mtemp_args\u001b[0m\u001b[0;34m:\u001b[0m\u001b[0;34m\u001b[0m\u001b[0m\n",
      "\u001b[0;32m/net/software/local/python/3.6.5/lib/python3.6/site-packages/hail/backend/py4j_backend.py\u001b[0m in \u001b[0;36mdeco\u001b[0;34m(*args, **kwargs)\u001b[0m\n\u001b[1;32m     30\u001b[0m                 raise FatalError('%s\\n\\nJava stack trace:\\n%s\\n'\n\u001b[1;32m     31\u001b[0m                                  \u001b[0;34m'Hail version: %s\\n'\u001b[0m\u001b[0;34m\u001b[0m\u001b[0m\n\u001b[0;32m---> 32\u001b[0;31m                                  'Error summary: %s' % (deepest, full, hail.__version__, deepest), error_id) from None\n\u001b[0m\u001b[1;32m     33\u001b[0m         \u001b[0;32mexcept\u001b[0m \u001b[0mpyspark\u001b[0m\u001b[0;34m.\u001b[0m\u001b[0msql\u001b[0m\u001b[0;34m.\u001b[0m\u001b[0mutils\u001b[0m\u001b[0;34m.\u001b[0m\u001b[0mCapturedException\u001b[0m \u001b[0;32mas\u001b[0m \u001b[0me\u001b[0m\u001b[0;34m:\u001b[0m\u001b[0;34m\u001b[0m\u001b[0m\n\u001b[1;32m     34\u001b[0m             raise FatalError('%s\\n\\nJava stack trace:\\n%s\\n'\n",
      "\u001b[0;31mFatalError\u001b[0m: HailException: arguments refer to no files\n\nJava stack trace:\nis.hail.utils.HailException: arguments refer to no files\n\tat is.hail.utils.ErrorHandling$class.fatal(ErrorHandling.scala:11)\n\tat is.hail.utils.package$.fatal(package.scala:77)\n\tat is.hail.expr.ir.TextTableReader$.readMetadata(TextTableReader.scala:253)\n\tat is.hail.expr.ir.TextTableReader$.apply(TextTableReader.scala:306)\n\tat is.hail.expr.ir.TextTableReader$.fromJValue(TextTableReader.scala:313)\n\tat is.hail.expr.ir.TableReader$.fromJValue(TableIR.scala:105)\n\tat is.hail.expr.ir.IRParser$.table_ir_1(Parser.scala:1470)\n\tat is.hail.expr.ir.IRParser$$anonfun$table_ir$1.apply(Parser.scala:1446)\n\tat is.hail.expr.ir.IRParser$$anonfun$table_ir$1.apply(Parser.scala:1446)\n\tat is.hail.utils.StackSafe$More.advance(StackSafe.scala:64)\n\tat is.hail.utils.StackSafe$.run(StackSafe.scala:16)\n\tat is.hail.utils.StackSafe$StackFrame.run(StackSafe.scala:32)\n\tat is.hail.expr.ir.IRParser$$anonfun$parse_table_ir$1.apply(Parser.scala:1965)\n\tat is.hail.expr.ir.IRParser$$anonfun$parse_table_ir$1.apply(Parser.scala:1965)\n\tat is.hail.expr.ir.IRParser$.parse(Parser.scala:1954)\n\tat is.hail.expr.ir.IRParser$.parse_table_ir(Parser.scala:1965)\n\tat is.hail.backend.spark.SparkBackend$$anonfun$parse_table_ir$1$$anonfun$apply$20.apply(SparkBackend.scala:602)\n\tat is.hail.backend.spark.SparkBackend$$anonfun$parse_table_ir$1$$anonfun$apply$20.apply(SparkBackend.scala:601)\n\tat is.hail.expr.ir.ExecuteContext$$anonfun$scoped$1.apply(ExecuteContext.scala:25)\n\tat is.hail.expr.ir.ExecuteContext$$anonfun$scoped$1.apply(ExecuteContext.scala:23)\n\tat is.hail.utils.package$.using(package.scala:618)\n\tat is.hail.annotations.RegionPool$.scoped(RegionPool.scala:13)\n\tat is.hail.expr.ir.ExecuteContext$.scoped(ExecuteContext.scala:23)\n\tat is.hail.backend.spark.SparkBackend.withExecuteContext(SparkBackend.scala:254)\n\tat is.hail.backend.spark.SparkBackend$$anonfun$parse_table_ir$1.apply(SparkBackend.scala:601)\n\tat is.hail.backend.spark.SparkBackend$$anonfun$parse_table_ir$1.apply(SparkBackend.scala:600)\n\tat is.hail.utils.ExecutionTimer$.time(ExecutionTimer.scala:52)\n\tat is.hail.utils.ExecutionTimer$.logTime(ExecutionTimer.scala:59)\n\tat is.hail.backend.spark.SparkBackend.parse_table_ir(SparkBackend.scala:600)\n\tat sun.reflect.NativeMethodAccessorImpl.invoke0(Native Method)\n\tat sun.reflect.NativeMethodAccessorImpl.invoke(NativeMethodAccessorImpl.java:62)\n\tat sun.reflect.DelegatingMethodAccessorImpl.invoke(DelegatingMethodAccessorImpl.java:43)\n\tat java.lang.reflect.Method.invoke(Method.java:498)\n\tat py4j.reflection.MethodInvoker.invoke(MethodInvoker.java:244)\n\tat py4j.reflection.ReflectionEngine.invoke(ReflectionEngine.java:357)\n\tat py4j.Gateway.invoke(Gateway.java:282)\n\tat py4j.commands.AbstractCommand.invokeMethod(AbstractCommand.java:132)\n\tat py4j.commands.CallCommand.execute(CallCommand.java:79)\n\tat py4j.GatewayConnection.run(GatewayConnection.java:238)\n\tat java.lang.Thread.run(Thread.java:748)\n\n\n\nHail version: 0.2.62-84fa81b9ea3d\nError summary: HailException: arguments refer to no files"
     ]
    }
   ],
   "source": [
    "cd = hl.import_table('/net/archive/groups/plggneuromol/GTS-analysis/cadd/whole_genome_SNVs.tsv.gz', force_bgz = True, delimiter='\\t', comment='#', \n",
    "                     types = {'f0':'tstr', 'f1':'tint', 'f2':'tstr', 'f3':'tstr', 'f4':'tfloat', 'f5':'tfloat'},\n",
    "                     no_header = True)"
   ]
  },
  {
   "cell_type": "code",
   "execution_count": null,
   "metadata": {},
   "outputs": [],
   "source": [
    "cd = cd.select(variants = hl.parse_variant('chr'+hl.str(cd.f0)+':'+hl.str(cd.f1)+':'+hl.str(cd.f2)+':'+hl.str(cd.f3), reference_genome='GRCh38'),\n",
    "               cadd_score = cd.f5)"
   ]
  },
  {
   "cell_type": "code",
   "execution_count": null,
   "metadata": {},
   "outputs": [],
   "source": [
    "cd = hl.read_table('/net/archive/groups/plggneuromol/GTS-analysis/data/cadd-all.mt')"
   ]
  },
  {
   "cell_type": "code",
   "execution_count": null,
   "metadata": {},
   "outputs": [],
   "source": [
    "contigs = ['chr1',\n",
    " 'chr2',\n",
    " 'chr3',\n",
    " 'chr4',\n",
    " 'chr5',\n",
    " 'chr6',\n",
    " 'chr7',\n",
    " 'chr8',\n",
    " 'chr9',\n",
    " 'chr10',\n",
    " 'chr11',\n",
    " 'chr12',\n",
    " 'chr13',\n",
    " 'chr14',\n",
    " 'chr15',\n",
    " 'chr16',\n",
    " 'chr17',\n",
    " 'chr18',\n",
    " 'chr19',\n",
    " 'chr20',\n",
    " 'chr21',\n",
    " 'chr22']"
   ]
  },
  {
   "cell_type": "code",
   "execution_count": null,
   "metadata": {},
   "outputs": [],
   "source": [
    "for c in contigs:\n",
    "    cd_chr = cd.filter(cd.variants.locus.contig == c)\n",
    "    cd_chr = cd_chr.key_by(cd_chr.variants.locus,cd_chr.variants.alleles)\n",
    "    cd_chr.write('/net/archive/groups/plggneuromol/GTS-analysis/data/cadd-per-chr/'+c+'_cadd.mt')\n",
    "    \n",
    "cd_chr = cd.filter(hl.array(contigs).contains(cd.variants.locus.contig), keep = False)\n",
    "cd_chr = cd_chr.key_by(cd_chr.variants.locus,cd_chr.variants.alleles)\n",
    "cd_chr.write('/net/archive/groups/plggneuromol/GTS-analysis/data/cadd-per-chr/other_chroms_cadd.mt')"
   ]
  },
  {
   "cell_type": "code",
   "execution_count": null,
   "metadata": {},
   "outputs": [],
   "source": [
    "#do the same for mts\n",
    "for c in contigs:\n",
    "    mt_chr = mt.filter_rows(mt.locus.contig == c)\n",
    "    cd = hl.read_table('/net/archive/groups/plggneuromol/GTS-analysis/data/cadd-per-chr/'+c+'_cadd.mt')\n",
    "    \n",
    "    mt_chr = mt_chr.annotate_rows(cadd = cd[mt_chr.row_key])\n",
    "    mt_chr.write('/net/archive/groups/plggneuromol/GTS-analysis/data/mt-annotated-per-chr/'+c+'-anno.mt')"
   ]
  },
  {
   "cell_type": "code",
   "execution_count": null,
   "metadata": {},
   "outputs": [],
   "source": [
    "cd = hl.read_table('/net/archive/groups/plggneuromol/GTS-analysis/data/cadd-per-chr/other_chroms_cadd.mt')\n",
    "\n",
    "mt_chr = mt.filter_rows(hl.array(contigs).contains(mt.locus.contig), keep = False)\n",
    "\n",
    "mt_chr = mt_chr.annotate_rows(cadd =cd[mt_chr.row_key])\n",
    "\n",
    "mt_chr.write('/net/archive/groups/plggneuromol/GTS-analysis/data/mt-annotated-per-chr/other_chroms-anno.mt')"
   ]
  },
  {
   "cell_type": "code",
   "execution_count": null,
   "metadata": {},
   "outputs": [],
   "source": [
    "#now read all the matrices and join\n",
    "mts = !ls /net/archive/groups/plggneuromol/GTS-analysis/data/mt-annotated-per-chr"
   ]
  },
  {
   "cell_type": "code",
   "execution_count": null,
   "metadata": {},
   "outputs": [],
   "source": [
    "mt_chr = []\n",
    "\n",
    "for m in mts:\n",
    "    mt_chr.append(hl.read_matrix_table('/net/archive/groups/plggneuromol/GTS-analysis/data/mt-annotated-per-chr/'+m)) "
   ]
  },
  {
   "cell_type": "code",
   "execution_count": null,
   "metadata": {},
   "outputs": [],
   "source": [
    "mt = hl.MatrixTable.union_rows(*mt_chr)\n",
    "\n",
    "mt = mt.transmute_rows(cadd = mt.cadd.cadd_score)"
   ]
  },
  {
   "cell_type": "code",
   "execution_count": null,
   "metadata": {
    "scrolled": true
   },
   "outputs": [],
   "source": [
    "mt.write('/net/archive/groups/plggneuromol/GTS-analysis/data/GTS-pheno-cadd.mt')"
   ]
  },
  {
   "cell_type": "code",
   "execution_count": null,
   "metadata": {},
   "outputs": [],
   "source": [
    "mt = hl.read_matrix_table('/net/archive/groups/plggneuromol/GTS-analysis/data/GTS-pheno-cadd.mt')"
   ]
  },
  {
   "cell_type": "markdown",
   "metadata": {},
   "source": [
    "## join with gnomad"
   ]
  },
  {
   "cell_type": "code",
   "execution_count": null,
   "metadata": {},
   "outputs": [],
   "source": [
    "gd = hl.read_matrix_table('/net/archive/groups/plggneuromol/GTS-analysis/gnomad/gnomad-ready-to-join.ht')"
   ]
  },
  {
   "cell_type": "code",
   "execution_count": null,
   "metadata": {},
   "outputs": [],
   "source": [
    "#adjust column schema:\n",
    "\n",
    "gd = gd.annotate_cols(s = hl.str(hl.str(gd.col_idx)+'gnomad'),\n",
    "                      phenotypes = hl.struct(family = hl.str('gnomad'),\n",
    "                                             sex = hl.str('gnomad'),\n",
    "                                             kinship = hl.str('gnomad'),\n",
    "                                             disease = hl.str('gnomad'),\n",
    "                                             phenotype = hl.str('gnomad'),\n",
    "                                             add_pheno = hl.str('gnomad'),\n",
    "                                             heavy_tics = hl.str('gnomad')))\n",
    "                      "
   ]
  },
  {
   "cell_type": "code",
   "execution_count": null,
   "metadata": {},
   "outputs": [],
   "source": [
    "gd = gd.key_cols_by(gd.s)"
   ]
  },
  {
   "cell_type": "code",
   "execution_count": null,
   "metadata": {
    "scrolled": true
   },
   "outputs": [],
   "source": [
    "gd = gd.drop(gd.col_idx)"
   ]
  },
  {
   "cell_type": "code",
   "execution_count": null,
   "metadata": {},
   "outputs": [],
   "source": [
    "mt = mt.union_cols(gd, row_join_type='outer')"
   ]
  },
  {
   "cell_type": "code",
   "execution_count": null,
   "metadata": {},
   "outputs": [],
   "source": [
    "#filter out any rows that contain only refs:\n",
    "\n",
    "mt = mt.filter_rows(hl.agg.any(mt.GT.is_non_ref()))"
   ]
  },
  {
   "cell_type": "code",
   "execution_count": null,
   "metadata": {},
   "outputs": [],
   "source": [
    "mt.write('/net/archive/groups/plggneuromol/GTS-analysis/data/GTS-gnomad.mt')"
   ]
  },
  {
   "cell_type": "markdown",
   "metadata": {},
   "source": [
    "## annotate mt with nearest_genes_20kb\n",
    "\n"
   ]
  },
  {
   "cell_type": "code",
   "execution_count": 1,
   "metadata": {},
   "outputs": [
    {
     "ename": "NameError",
     "evalue": "name 'hl' is not defined",
     "output_type": "error",
     "traceback": [
      "\u001b[0;31m---------------------------------------------------------------------------\u001b[0m",
      "\u001b[0;31mNameError\u001b[0m                                 Traceback (most recent call last)",
      "\u001b[0;32m<ipython-input-1-77f2ed895191>\u001b[0m in \u001b[0;36m<module>\u001b[0;34m()\u001b[0m\n\u001b[0;32m----> 1\u001b[0;31m \u001b[0mgenes\u001b[0m \u001b[0;34m=\u001b[0m \u001b[0mhl\u001b[0m\u001b[0;34m.\u001b[0m\u001b[0mread_table\u001b[0m\u001b[0;34m(\u001b[0m\u001b[0;34m'/net/archive/groups/plggneuromol/GTS-analysis/analysis/vcf_preprocessing/genecode_v32.ht'\u001b[0m\u001b[0;34m)\u001b[0m\u001b[0;34m\u001b[0m\u001b[0m\n\u001b[0m\u001b[1;32m      2\u001b[0m \u001b[0mgenes\u001b[0m \u001b[0;34m=\u001b[0m \u001b[0mgenes\u001b[0m\u001b[0;34m.\u001b[0m\u001b[0mfilter\u001b[0m\u001b[0;34m(\u001b[0m\u001b[0mhl\u001b[0m\u001b[0;34m.\u001b[0m\u001b[0mis_valid_contig\u001b[0m\u001b[0;34m(\u001b[0m\u001b[0mgenes\u001b[0m\u001b[0;34m[\u001b[0m\u001b[0;34m'hg38.knownGene.chrom'\u001b[0m\u001b[0;34m]\u001b[0m\u001b[0;34m,\u001b[0m \u001b[0mreference_genome\u001b[0m\u001b[0;34m=\u001b[0m\u001b[0;34m'GRCh38'\u001b[0m\u001b[0;34m)\u001b[0m\u001b[0;34m)\u001b[0m\u001b[0;34m\u001b[0m\u001b[0m\n\u001b[1;32m      3\u001b[0m \u001b[0;34m\u001b[0m\u001b[0m\n\u001b[1;32m      4\u001b[0m \u001b[0;34m\u001b[0m\u001b[0m\n\u001b[1;32m      5\u001b[0m \u001b[0mstart\u001b[0m \u001b[0;34m=\u001b[0m \u001b[0mhl\u001b[0m\u001b[0;34m.\u001b[0m\u001b[0mcond\u001b[0m\u001b[0;34m(\u001b[0m\u001b[0mgenes\u001b[0m\u001b[0;34m[\u001b[0m\u001b[0;34m'hg38.knownGene.txStart'\u001b[0m\u001b[0;34m]\u001b[0m \u001b[0;34m<\u001b[0m \u001b[0;36m20000\u001b[0m\u001b[0;34m,\u001b[0m \u001b[0;36m1\u001b[0m\u001b[0;34m,\u001b[0m \u001b[0mgenes\u001b[0m\u001b[0;34m[\u001b[0m\u001b[0;34m'hg38.knownGene.txStart'\u001b[0m\u001b[0;34m]\u001b[0m \u001b[0;34m-\u001b[0m \u001b[0;36m20000\u001b[0m\u001b[0;34m)\u001b[0m\u001b[0;34m\u001b[0m\u001b[0m\n",
      "\u001b[0;31mNameError\u001b[0m: name 'hl' is not defined"
     ]
    }
   ],
   "source": [
    "genes = hl.read_table('/net/archive/groups/plggneuromol/GTS-analysis/analysis/vcf_preprocessing/genecode_v32.ht')\n",
    "genes = genes.filter(hl.is_valid_contig(genes['hg38.knownGene.chrom'], reference_genome='GRCh38'))\n",
    "\n",
    "\n",
    "start = hl.cond(genes['hg38.knownGene.txStart'] < 20000, 1, genes['hg38.knownGene.txStart'] - 20000)\n",
    "stop =  hl.cond(hl.contig_length(genes['hg38.knownGene.chrom'], reference_genome='GRCh38') - genes['hg38.knownGene.txEnd'] < 20000, \n",
    "                hl.contig_length(genes['hg38.knownGene.chrom'], reference_genome='GRCh38'),\n",
    "                genes['hg38.knownGene.txEnd'] + 20000)\n",
    "\n",
    "genes = genes.transmute(interval = \n",
    "                        hl.locus_interval(genes['hg38.knownGene.chrom'], \n",
    "                                          start,\n",
    "                                          stop,\n",
    "                                          reference_genome='GRCh38'))\n",
    "\n",
    "genes = genes.key_by(genes.interval)\n",
    "\n",
    "mt = mt.annotate_rows(nearest_genes_20kb = hl.array(hl.set(genes.index(mt.locus, all_matches=True)['hg38.kgXref.geneSymbol'])))"
   ]
  },
  {
   "cell_type": "markdown",
   "metadata": {},
   "source": [
    "## Make the simulated controls gender equal"
   ]
  },
  {
   "cell_type": "markdown",
   "metadata": {},
   "source": [
    "PAR coordinates in GrCh38: http://m.ensembl.org/info/genome/genebuild/human_PARS.html"
   ]
  },
  {
   "cell_type": "code",
   "execution_count": null,
   "metadata": {},
   "outputs": [],
   "source": [
    "par1 = [10001,2781479]\n",
    "par2 = [155701383,156030895]"
   ]
  },
  {
   "cell_type": "code",
   "execution_count": null,
   "metadata": {},
   "outputs": [],
   "source": [
    "rg = hl.get_reference('GRCh38')"
   ]
  },
  {
   "cell_type": "code",
   "execution_count": null,
   "metadata": {},
   "outputs": [],
   "source": [
    "rg.lengths['chrX']"
   ]
  },
  {
   "cell_type": "code",
   "execution_count": null,
   "metadata": {},
   "outputs": [],
   "source": [
    "nonpars = [[1,10000],[2781480,155701382]]"
   ]
  },
  {
   "cell_type": "markdown",
   "metadata": {},
   "source": [
    "### first see sex distribution in our samples"
   ]
  },
  {
   "cell_type": "code",
   "execution_count": null,
   "metadata": {},
   "outputs": [],
   "source": [
    "samples = mt.s.collect()\n",
    "\n",
    "gnomad_females = samples[185:(185+70)] \n",
    "\n",
    "gnomads_males = samples[(185+70):]\n",
    "\n",
    "mt = mt.transmute_cols(phenotypes = mt.phenotypes.annotate(sex = hl.cond(mt.s.contains('gnomad'),\n",
    "                                                      hl.cond(hl.array(gnomad_females).contains(mt.s),\n",
    "                                                            'F', 'M'),\n",
    "                                                      mt.phenotypes['sex'])))"
   ]
  },
  {
   "cell_type": "code",
   "execution_count": null,
   "metadata": {},
   "outputs": [],
   "source": [
    "mt.aggregate_cols(hl.agg.counter(mt.phenotypes['sex']))"
   ]
  },
  {
   "cell_type": "code",
   "execution_count": null,
   "metadata": {},
   "outputs": [],
   "source": [
    "mt = mt.annotate_entries(GT = hl.cond(\n",
    "                         mt.locus.contig == 'chrX',\n",
    "                         hl.cond(\n",
    "                            mt.phenotypes['sex'] == 'F',\n",
    "                            mt.GT,\n",
    "                            hl.cond(\n",
    "                                mt.locus.position > nonpars[1][1], \n",
    "                                mt.GT,\n",
    "                                hl.cond(\n",
    "                                    mt.locus.position < nonpars[0][1],\n",
    "                                    hl.cond(\n",
    "                                        mt.locus.position > nonpars[0][0],\n",
    "                                        mt.GT,\n",
    "                                        hl.call(mt.GT[0], mt.GT[0])),\n",
    "                                    hl.call(mt.GT[0], mt.GT[0])))),\n",
    "                         mt.GT))     "
   ]
  },
  {
   "cell_type": "code",
   "execution_count": null,
   "metadata": {},
   "outputs": [],
   "source": [
    "#mt.write('/net/archive/groups/plggneuromol/GTS-analysis/data/GTS-gnomad-sex.mt')"
   ]
  },
  {
   "cell_type": "markdown",
   "metadata": {},
   "source": [
    "prepare matrix tables"
   ]
  },
  {
   "cell_type": "code",
   "execution_count": null,
   "metadata": {},
   "outputs": [],
   "source": [
    "mt = hl.read_matrix_table('/net/archive/groups/plggneuromol/GTS-analysis/data/GTS-gnomad-sex.mt')\n",
    "\n",
    "mt = mt.filter_rows(mt.cadd > 0) # this is so I don't do too many tests\n",
    "\n",
    "mt_subset = mt.sample_rows(0.002)\n",
    "\n",
    "mt.count()\n",
    "\n",
    "mt_subset.count()\n",
    "\n",
    "mt = mt.annotate_cols(category = hl.cond(mt.s.contains('gnomad'), False, (mt.phenotypes.disease == 'YES')))\n",
    "mt_subset = mt_subset.annotate_cols(category = hl.cond(mt_subset.s.contains('gnomad'), False, (mt_subset.phenotypes.disease == 'YES')))\n",
    "\n",
    "mt = mt.filter_cols((mt.s.contains('gnomad')) | ((mt.phenotypes.family =='.') & (mt.phenotypes.disease =='YES')))\n",
    "mt_subset = mt_subset.filter_cols((mt_subset.s.contains('gnomad')) | ((mt_subset.phenotypes.family =='.') & (mt_subset.phenotypes.disease =='YES')))\n",
    "samples = mt.s.collect()\n",
    "\n",
    "#first 70 gnomad samples are females\n",
    "\n",
    "to_keep = samples[0:44] + samples[110:144]\n",
    "mt = mt.filter_cols(hl.array(to_keep).contains(mt.s)) # filter out excessive gnomads\n",
    "mt_subset = mt_subset.filter_cols(hl.array(to_keep).contains(mt_subset.s))\n",
    "\n",
    "mt_test = hl.read_matrix_table('/net/archive/groups/plggneuromol/GTS-analysis/data/GTS-gnomad-sex.mt')\n",
    "mt_test = mt_test.filter_rows(mt_test.cadd > 0) \n",
    "mt_test = mt_test.annotate_cols(category = hl.cond(mt_test.s.contains('gnomad'), False, (mt_test.phenotypes.disease == 'YES')))\n",
    "mt_test = mt_test.filter_cols(mt_test.phenotypes.family == '.', keep = False)\n",
    "mt_test = mt_test.filter_cols((mt_test.phenotypes.disease == 'YES') | (mt_test.phenotypes.disease == 'NO'))"
   ]
  },
  {
   "cell_type": "code",
   "execution_count": null,
   "metadata": {},
   "outputs": [],
   "source": [
    "# generate new alternative data subsets:\n",
    "mt = hl.read_matrix_table('/net/archive/groups/plggneuromol/GTS-analysis/data/mt-for-skat.mt')\n",
    "\n",
    "\n",
    "mt_subset_2 = mt.sample_rows(0.002)\n",
    "mt_subset_2.write('/net/archive/groups/plggneuromol/GTS-analysis/data/mt-subset-2.mt')"
   ]
  },
  {
   "cell_type": "code",
   "execution_count": 7,
   "metadata": {},
   "outputs": [
    {
     "name": "stderr",
     "output_type": "stream",
     "text": [
      "2020-10-29 11:20:54 Hail: INFO: wrote matrix table with 12721 rows and 78 columns in 6622 partitions to /net/archive/groups/plggneuromol/GTS-analysis/data/mt-subset-3.mt\n"
     ]
    }
   ],
   "source": [
    "mt_subset_3 = mt.sample_rows(0.002)\n",
    "mt_subset_3.write('/net/archive/groups/plggneuromol/GTS-analysis/data/mt-subset-3.mt')"
   ]
  },
  {
   "cell_type": "code",
   "execution_count": null,
   "metadata": {},
   "outputs": [],
   "source": [
    "mt.write('/net/archive/groups/plggneuromol/GTS-analysis/data/mt-for-skat.mt')\n",
    "mt_subset.write('/net/archive/groups/plggneuromol/GTS-analysis/data/mt-subset.mt')\n",
    "mt_test.write('/net/archive/groups/plggneuromol/GTS-analysis/data/mt-test.mt')"
   ]
  },
  {
   "cell_type": "markdown",
   "metadata": {},
   "source": [
    "### Perform PCA on subseted genotypes:"
   ]
  },
  {
   "cell_type": "code",
   "execution_count": 6,
   "metadata": {},
   "outputs": [],
   "source": [
    "# this matrix table has 40 gnomads that we need for PCA, but lacks normal samples\n",
    "mt_gnomads = hl.read_matrix_table('/net/archive/groups/plggneuromol/GTS-analysis/data/mt-for-skat-may.mt')"
   ]
  },
  {
   "cell_type": "code",
   "execution_count": 7,
   "metadata": {},
   "outputs": [],
   "source": [
    "#this matrix table has all the samples but too many gnomads\n",
    "mt = hl.read_matrix_table('/net/archive/groups/plggneuromol/GTS-analysis/data/GTS-gnomad-sex.mt')"
   ]
  },
  {
   "cell_type": "code",
   "execution_count": 8,
   "metadata": {},
   "outputs": [],
   "source": [
    "gnomads = mt_gnomads.s.collect()"
   ]
  },
  {
   "cell_type": "code",
   "execution_count": 9,
   "metadata": {},
   "outputs": [],
   "source": [
    "gnomads = gnomads[40:]"
   ]
  },
  {
   "cell_type": "code",
   "execution_count": 10,
   "metadata": {},
   "outputs": [],
   "source": [
    "samples = mt.s.collect()"
   ]
  },
  {
   "cell_type": "code",
   "execution_count": 11,
   "metadata": {},
   "outputs": [],
   "source": [
    "samples = samples[0:185]"
   ]
  },
  {
   "cell_type": "code",
   "execution_count": 12,
   "metadata": {},
   "outputs": [],
   "source": [
    "to_keep = gnomads + samples"
   ]
  },
  {
   "cell_type": "code",
   "execution_count": 13,
   "metadata": {},
   "outputs": [],
   "source": [
    "mt = mt.filter_cols(hl.array(to_keep).contains(mt.s))"
   ]
  },
  {
   "cell_type": "code",
   "execution_count": 14,
   "metadata": {},
   "outputs": [
    {
     "data": {
      "text/plain": [
       "(11825581, 225)"
      ]
     },
     "execution_count": 14,
     "metadata": {},
     "output_type": "execute_result"
    }
   ],
   "source": [
    "mt.count() "
   ]
  },
  {
   "cell_type": "markdown",
   "metadata": {},
   "source": [
    "Remove excesive GnomADs (we only need 40, the same samples go into the SKAT test)"
   ]
  },
  {
   "cell_type": "code",
   "execution_count": 15,
   "metadata": {},
   "outputs": [],
   "source": [
    "subset = mt.sample_rows(0.001)"
   ]
  },
  {
   "cell_type": "code",
   "execution_count": 16,
   "metadata": {},
   "outputs": [
    {
     "data": {
      "text/plain": [
       "(11940, 225)"
      ]
     },
     "execution_count": 16,
     "metadata": {},
     "output_type": "execute_result"
    }
   ],
   "source": [
    "subset.count()"
   ]
  },
  {
   "cell_type": "code",
   "execution_count": 17,
   "metadata": {},
   "outputs": [
    {
     "name": "stderr",
     "output_type": "stream",
     "text": [
      "2021-06-22 14:41:42 Hail: INFO: wrote matrix table with 11940 rows and 225 columns in 6622 partitions to /net/archive/groups/plggneuromol/GTS-analysis/data/subset.mt\n",
      "    Total size: 14.14 MiB\n",
      "    * Rows/entries: 14.14 MiB\n",
      "    * Columns: 2.17 KiB\n",
      "    * Globals: 11.00 B\n",
      "    * Smallest partition: 0 rows (20.00 B)\n",
      "    * Largest partition:  4 rows (21.93 KiB)\n"
     ]
    }
   ],
   "source": [
    "subset.write('/net/archive/groups/plggneuromol/GTS-analysis/data/subset.mt')"
   ]
  },
  {
   "cell_type": "code",
   "execution_count": 18,
   "metadata": {},
   "outputs": [],
   "source": [
    "subset = hl.read_matrix_table('/net/archive/groups/plggneuromol/GTS-analysis/data/subset.mt')"
   ]
  },
  {
   "cell_type": "code",
   "execution_count": 19,
   "metadata": {},
   "outputs": [
    {
     "name": "stderr",
     "output_type": "stream",
     "text": [
      "2021-06-22 14:41:56 Hail: INFO: hwe_normalized_pca: running PCA using 9173 variants.\n",
      "2021-06-22 14:42:09 Hail: INFO: pca: running PCA with 10 components...\n"
     ]
    }
   ],
   "source": [
    "eigenvalues, pcs, _ = hl.hwe_normalized_pca(subset.GT)"
   ]
  },
  {
   "cell_type": "code",
   "execution_count": 20,
   "metadata": {},
   "outputs": [],
   "source": [
    "mt = mt.annotate_cols(scores = pcs[mt.s].scores)"
   ]
  },
  {
   "cell_type": "code",
   "execution_count": 21,
   "metadata": {},
   "outputs": [
    {
     "name": "stderr",
     "output_type": "stream",
     "text": [
      "2021-06-22 15:12:47 Hail: INFO: wrote matrix table with 11825581 rows and 225 columns in 6622 partitions to /net/archive/groups/plggneuromol/GTS-analysis/data/pca.mt\n",
      "    Total size: 9.03 GiB\n",
      "    * Rows/entries: 9.03 GiB\n",
      "    * Columns: 20.17 KiB\n",
      "    * Globals: 11.00 B\n",
      "    * Smallest partition: 0 rows (20.00 B)\n",
      "    * Largest partition:  8022 rows (7.38 MiB)\n"
     ]
    }
   ],
   "source": [
    "mt.write('/net/archive/groups/plggneuromol/GTS-analysis/data/pca.mt')"
   ]
  },
  {
   "cell_type": "code",
   "execution_count": 22,
   "metadata": {},
   "outputs": [],
   "source": [
    "mt = hl.read_matrix_table('/net/archive/groups/plggneuromol/GTS-analysis/data/pca.mt')"
   ]
  },
  {
   "cell_type": "code",
   "execution_count": 23,
   "metadata": {},
   "outputs": [],
   "source": [
    "import bokeh.palettes\n",
    "from bokeh.models import CategoricalColorMapper\n",
    "\n",
    "colors = bokeh.palettes.plasma(26*8)"
   ]
  },
  {
   "cell_type": "code",
   "execution_count": 24,
   "metadata": {},
   "outputs": [],
   "source": [
    "del colors[1::2] #run this 3times to remove every second color\n",
    "del colors[1::2]\n",
    "del colors[1::2]"
   ]
  },
  {
   "cell_type": "code",
   "execution_count": 25,
   "metadata": {},
   "outputs": [
    {
     "data": {
      "text/plain": [
       "26"
      ]
     },
     "execution_count": 25,
     "metadata": {},
     "output_type": "execute_result"
    }
   ],
   "source": [
    "len(colors)"
   ]
  },
  {
   "cell_type": "code",
   "execution_count": 48,
   "metadata": {},
   "outputs": [],
   "source": [
    "p = hl.plot.scatter(mt.scores[8],\n",
    "                    mt.scores[9],\n",
    "                    label=(mt.phenotypes.family),\n",
    "                    title='PCA', xlabel='PC9', ylabel='PC10',\n",
    "                    colors = CategoricalColorMapper(palette=colors, factors=list(set(mt.phenotypes.family.collect()))))\n",
    "\n",
    "p.xaxis.axis_label_text_font_size = \"15pt\"\n",
    "p.xaxis.major_label_text_font_size = \"15pt\"\n",
    "p.yaxis.axis_label_text_font_size = \"15pt\"\n",
    "p.yaxis.major_label_text_font_size = \"15pt\""
   ]
  },
  {
   "cell_type": "code",
   "execution_count": 49,
   "metadata": {},
   "outputs": [
    {
     "data": {
      "text/html": [
       "\n",
       "\n",
       "\n",
       "\n",
       "\n",
       "\n",
       "  <div class=\"bk-root\" id=\"de0a66cf-e0b5-4cfe-8e07-8183dac401dc\" data-root-id=\"2564\"></div>\n"
      ]
     },
     "metadata": {},
     "output_type": "display_data"
    },
    {
     "data": {
      "application/javascript": [
       "(function(root) {\n",
       "  function embed_document(root) {\n",
       "    \n",
       "  var docs_json = {\"671e679b-994f-4525-b0fd-9a49af5a4217\":{\"roots\":{\"references\":[{\"attributes\":{\"below\":[{\"id\":\"2575\",\"type\":\"LinearAxis\"}],\"center\":[{\"id\":\"2579\",\"type\":\"Grid\"},{\"id\":\"2584\",\"type\":\"Grid\"}],\"left\":[{\"id\":\"2580\",\"type\":\"LinearAxis\"},{\"id\":\"2783\",\"type\":\"Legend\"},{\"id\":\"2784\",\"type\":\"ColorBar\"}],\"plot_height\":800,\"plot_width\":800,\"renderers\":[{\"id\":\"2606\",\"type\":\"GlyphRenderer\"},{\"id\":\"2612\",\"type\":\"GlyphRenderer\"},{\"id\":\"2618\",\"type\":\"GlyphRenderer\"},{\"id\":\"2624\",\"type\":\"GlyphRenderer\"},{\"id\":\"2630\",\"type\":\"GlyphRenderer\"},{\"id\":\"2636\",\"type\":\"GlyphRenderer\"},{\"id\":\"2642\",\"type\":\"GlyphRenderer\"},{\"id\":\"2648\",\"type\":\"GlyphRenderer\"},{\"id\":\"2654\",\"type\":\"GlyphRenderer\"},{\"id\":\"2660\",\"type\":\"GlyphRenderer\"},{\"id\":\"2666\",\"type\":\"GlyphRenderer\"},{\"id\":\"2672\",\"type\":\"GlyphRenderer\"},{\"id\":\"2678\",\"type\":\"GlyphRenderer\"},{\"id\":\"2684\",\"type\":\"GlyphRenderer\"},{\"id\":\"2690\",\"type\":\"GlyphRenderer\"},{\"id\":\"2696\",\"type\":\"GlyphRenderer\"},{\"id\":\"2702\",\"type\":\"GlyphRenderer\"},{\"id\":\"2708\",\"type\":\"GlyphRenderer\"},{\"id\":\"2714\",\"type\":\"GlyphRenderer\"},{\"id\":\"2720\",\"type\":\"GlyphRenderer\"},{\"id\":\"2726\",\"type\":\"GlyphRenderer\"},{\"id\":\"2732\",\"type\":\"GlyphRenderer\"},{\"id\":\"2738\",\"type\":\"GlyphRenderer\"},{\"id\":\"2744\",\"type\":\"GlyphRenderer\"},{\"id\":\"2750\",\"type\":\"GlyphRenderer\"},{\"id\":\"2756\",\"type\":\"GlyphRenderer\"}],\"title\":{\"id\":\"2565\",\"type\":\"Title\"},\"toolbar\":{\"id\":\"2591\",\"type\":\"Toolbar\"},\"x_range\":{\"id\":\"2567\",\"type\":\"DataRange1d\"},\"x_scale\":{\"id\":\"2571\",\"type\":\"LinearScale\"},\"y_range\":{\"id\":\"2569\",\"type\":\"DataRange1d\"},\"y_scale\":{\"id\":\"2573\",\"type\":\"LinearScale\"}},\"id\":\"2564\",\"subtype\":\"Figure\",\"type\":\"Plot\"},{\"attributes\":{\"callback\":null},\"id\":\"2569\",\"type\":\"DataRange1d\"},{\"attributes\":{\"data_source\":{\"id\":\"2600\",\"type\":\"ColumnDataSource\"},\"glyph\":{\"id\":\"2712\",\"type\":\"Circle\"},\"hover_glyph\":null,\"muted_glyph\":null,\"nonselection_glyph\":{\"id\":\"2713\",\"type\":\"Circle\"},\"selection_glyph\":null,\"view\":{\"id\":\"2710\",\"type\":\"CDSView\"}},\"id\":\"2714\",\"type\":\"GlyphRenderer\"},{\"attributes\":{\"fill_color\":{\"field\":\"label\",\"transform\":{\"id\":\"2563\",\"type\":\"CategoricalColorMapper\"}},\"line_color\":{\"field\":\"label\",\"transform\":{\"id\":\"2563\",\"type\":\"CategoricalColorMapper\"}},\"x\":{\"field\":\"x\"},\"y\":{\"field\":\"y\"}},\"id\":\"2634\",\"type\":\"Circle\"},{\"attributes\":{\"label\":{\"value\":\"U\"},\"renderers\":[{\"id\":\"2726\",\"type\":\"GlyphRenderer\"}]},\"id\":\"2777\",\"type\":\"LegendItem\"},{\"attributes\":{\"fill_alpha\":{\"value\":0.1},\"fill_color\":{\"value\":\"#1f77b4\"},\"line_alpha\":{\"value\":0.1},\"line_color\":{\"value\":\"#1f77b4\"},\"x\":{\"field\":\"x\"},\"y\":{\"field\":\"y\"}},\"id\":\"2635\",\"type\":\"Circle\"},{\"attributes\":{\"label\":{\"value\":\"W\"},\"renderers\":[{\"id\":\"2732\",\"type\":\"GlyphRenderer\"}]},\"id\":\"2778\",\"type\":\"LegendItem\"},{\"attributes\":{\"column_name\":\"label\",\"group\":\"T\"},\"id\":\"2715\",\"type\":\"GroupFilter\"},{\"attributes\":{\"data_source\":{\"id\":\"2600\",\"type\":\"ColumnDataSource\"},\"glyph\":{\"id\":\"2634\",\"type\":\"Circle\"},\"hover_glyph\":null,\"muted_glyph\":null,\"nonselection_glyph\":{\"id\":\"2635\",\"type\":\"Circle\"},\"selection_glyph\":null,\"view\":{\"id\":\"2632\",\"type\":\"CDSView\"}},\"id\":\"2636\",\"type\":\"GlyphRenderer\"},{\"attributes\":{\"fill_alpha\":{\"value\":0.1},\"fill_color\":{\"value\":\"#1f77b4\"},\"line_alpha\":{\"value\":0.1},\"line_color\":{\"value\":\"#1f77b4\"},\"x\":{\"field\":\"x\"},\"y\":{\"field\":\"y\"}},\"id\":\"2623\",\"type\":\"Circle\"},{\"attributes\":{\"filters\":[{\"id\":\"2715\",\"type\":\"GroupFilter\"}],\"source\":{\"id\":\"2600\",\"type\":\"ColumnDataSource\"}},\"id\":\"2716\",\"type\":\"CDSView\"},{\"attributes\":{\"label\":{\"value\":\"X\"},\"renderers\":[{\"id\":\"2738\",\"type\":\"GlyphRenderer\"}]},\"id\":\"2779\",\"type\":\"LegendItem\"},{\"attributes\":{\"column_name\":\"label\",\"group\":\"E\"},\"id\":\"2631\",\"type\":\"GroupFilter\"},{\"attributes\":{\"label\":{\"value\":\"Y\"},\"renderers\":[{\"id\":\"2744\",\"type\":\"GlyphRenderer\"}]},\"id\":\"2780\",\"type\":\"LegendItem\"},{\"attributes\":{\"column_name\":\"label\",\"group\":\"F\"},\"id\":\"2637\",\"type\":\"GroupFilter\"},{\"attributes\":{\"fill_color\":{\"field\":\"label\",\"transform\":{\"id\":\"2563\",\"type\":\"CategoricalColorMapper\"}},\"line_color\":{\"field\":\"label\",\"transform\":{\"id\":\"2563\",\"type\":\"CategoricalColorMapper\"}},\"x\":{\"field\":\"x\"},\"y\":{\"field\":\"y\"}},\"id\":\"2748\",\"type\":\"Circle\"},{\"attributes\":{\"data_source\":{\"id\":\"2600\",\"type\":\"ColumnDataSource\"},\"glyph\":{\"id\":\"2742\",\"type\":\"Circle\"},\"hover_glyph\":null,\"muted_glyph\":null,\"nonselection_glyph\":{\"id\":\"2743\",\"type\":\"Circle\"},\"selection_glyph\":null,\"view\":{\"id\":\"2740\",\"type\":\"CDSView\"}},\"id\":\"2744\",\"type\":\"GlyphRenderer\"},{\"attributes\":{\"filters\":[{\"id\":\"2637\",\"type\":\"GroupFilter\"}],\"source\":{\"id\":\"2600\",\"type\":\"ColumnDataSource\"}},\"id\":\"2638\",\"type\":\"CDSView\"},{\"attributes\":{\"fill_color\":{\"field\":\"label\",\"transform\":{\"id\":\"2563\",\"type\":\"CategoricalColorMapper\"}},\"line_color\":{\"field\":\"label\",\"transform\":{\"id\":\"2563\",\"type\":\"CategoricalColorMapper\"}},\"x\":{\"field\":\"x\"},\"y\":{\"field\":\"y\"}},\"id\":\"2718\",\"type\":\"Circle\"},{\"attributes\":{\"label\":{\"value\":\"Z\"},\"renderers\":[{\"id\":\"2750\",\"type\":\"GlyphRenderer\"}]},\"id\":\"2781\",\"type\":\"LegendItem\"},{\"attributes\":{},\"id\":\"2843\",\"type\":\"Selection\"},{\"attributes\":{\"filters\":[{\"id\":\"2631\",\"type\":\"GroupFilter\"}],\"source\":{\"id\":\"2600\",\"type\":\"ColumnDataSource\"}},\"id\":\"2632\",\"type\":\"CDSView\"},{\"attributes\":{\"fill_alpha\":{\"value\":0.1},\"fill_color\":{\"value\":\"#1f77b4\"},\"line_alpha\":{\"value\":0.1},\"line_color\":{\"value\":\"#1f77b4\"},\"x\":{\"field\":\"x\"},\"y\":{\"field\":\"y\"}},\"id\":\"2719\",\"type\":\"Circle\"},{\"attributes\":{\"label\":{\"value\":\"gnomad\"},\"renderers\":[{\"id\":\"2756\",\"type\":\"GlyphRenderer\"}]},\"id\":\"2782\",\"type\":\"LegendItem\"},{\"attributes\":{\"fill_alpha\":{\"value\":0.1},\"fill_color\":{\"value\":\"#1f77b4\"},\"line_alpha\":{\"value\":0.1},\"line_color\":{\"value\":\"#1f77b4\"},\"x\":{\"field\":\"x\"},\"y\":{\"field\":\"y\"}},\"id\":\"2659\",\"type\":\"Circle\"},{\"attributes\":{\"data_source\":{\"id\":\"2600\",\"type\":\"ColumnDataSource\"},\"glyph\":{\"id\":\"2718\",\"type\":\"Circle\"},\"hover_glyph\":null,\"muted_glyph\":null,\"nonselection_glyph\":{\"id\":\"2719\",\"type\":\"Circle\"},\"selection_glyph\":null,\"view\":{\"id\":\"2716\",\"type\":\"CDSView\"}},\"id\":\"2720\",\"type\":\"GlyphRenderer\"},{\"attributes\":{\"click_policy\":\"hide\",\"items\":[{\"id\":\"2757\",\"type\":\"LegendItem\"},{\"id\":\"2758\",\"type\":\"LegendItem\"},{\"id\":\"2759\",\"type\":\"LegendItem\"},{\"id\":\"2760\",\"type\":\"LegendItem\"},{\"id\":\"2761\",\"type\":\"LegendItem\"},{\"id\":\"2762\",\"type\":\"LegendItem\"},{\"id\":\"2763\",\"type\":\"LegendItem\"},{\"id\":\"2764\",\"type\":\"LegendItem\"},{\"id\":\"2765\",\"type\":\"LegendItem\"},{\"id\":\"2766\",\"type\":\"LegendItem\"},{\"id\":\"2767\",\"type\":\"LegendItem\"},{\"id\":\"2768\",\"type\":\"LegendItem\"},{\"id\":\"2769\",\"type\":\"LegendItem\"},{\"id\":\"2770\",\"type\":\"LegendItem\"},{\"id\":\"2771\",\"type\":\"LegendItem\"},{\"id\":\"2772\",\"type\":\"LegendItem\"},{\"id\":\"2773\",\"type\":\"LegendItem\"},{\"id\":\"2774\",\"type\":\"LegendItem\"},{\"id\":\"2775\",\"type\":\"LegendItem\"},{\"id\":\"2776\",\"type\":\"LegendItem\"},{\"id\":\"2777\",\"type\":\"LegendItem\"},{\"id\":\"2778\",\"type\":\"LegendItem\"},{\"id\":\"2779\",\"type\":\"LegendItem\"},{\"id\":\"2780\",\"type\":\"LegendItem\"},{\"id\":\"2781\",\"type\":\"LegendItem\"},{\"id\":\"2782\",\"type\":\"LegendItem\"}]},\"id\":\"2783\",\"type\":\"Legend\"},{\"attributes\":{\"fill_color\":{\"field\":\"label\",\"transform\":{\"id\":\"2563\",\"type\":\"CategoricalColorMapper\"}},\"line_color\":{\"field\":\"label\",\"transform\":{\"id\":\"2563\",\"type\":\"CategoricalColorMapper\"}},\"x\":{\"field\":\"x\"},\"y\":{\"field\":\"y\"}},\"id\":\"2640\",\"type\":\"Circle\"},{\"attributes\":{\"column_name\":\"label\",\"group\":\"D\"},\"id\":\"2625\",\"type\":\"GroupFilter\"},{\"attributes\":{\"fill_alpha\":{\"value\":0.1},\"fill_color\":{\"value\":\"#1f77b4\"},\"line_alpha\":{\"value\":0.1},\"line_color\":{\"value\":\"#1f77b4\"},\"x\":{\"field\":\"x\"},\"y\":{\"field\":\"y\"}},\"id\":\"2653\",\"type\":\"Circle\"},{\"attributes\":{\"data_source\":{\"id\":\"2600\",\"type\":\"ColumnDataSource\"},\"glyph\":{\"id\":\"2616\",\"type\":\"Circle\"},\"hover_glyph\":null,\"muted_glyph\":null,\"nonselection_glyph\":{\"id\":\"2617\",\"type\":\"Circle\"},\"selection_glyph\":null,\"view\":{\"id\":\"2614\",\"type\":\"CDSView\"}},\"id\":\"2618\",\"type\":\"GlyphRenderer\"},{\"attributes\":{\"color_mapper\":null,\"formatter\":{\"id\":\"2838\",\"type\":\"BasicTickFormatter\"},\"ticker\":{\"id\":\"2839\",\"type\":\"BasicTicker\"},\"visible\":false},\"id\":\"2784\",\"type\":\"ColorBar\"},{\"attributes\":{\"fill_alpha\":{\"value\":0.1},\"fill_color\":{\"value\":\"#1f77b4\"},\"line_alpha\":{\"value\":0.1},\"line_color\":{\"value\":\"#1f77b4\"},\"x\":{\"field\":\"x\"},\"y\":{\"field\":\"y\"}},\"id\":\"2641\",\"type\":\"Circle\"},{\"attributes\":{\"column_name\":\"label\",\"group\":\"U\"},\"id\":\"2721\",\"type\":\"GroupFilter\"},{\"attributes\":{\"data_source\":{\"id\":\"2600\",\"type\":\"ColumnDataSource\"},\"glyph\":{\"id\":\"2640\",\"type\":\"Circle\"},\"hover_glyph\":null,\"muted_glyph\":null,\"nonselection_glyph\":{\"id\":\"2641\",\"type\":\"Circle\"},\"selection_glyph\":null,\"view\":{\"id\":\"2638\",\"type\":\"CDSView\"}},\"id\":\"2642\",\"type\":\"GlyphRenderer\"},{\"attributes\":{\"fill_alpha\":{\"value\":0.1},\"fill_color\":{\"value\":\"#1f77b4\"},\"line_alpha\":{\"value\":0.1},\"line_color\":{\"value\":\"#1f77b4\"},\"x\":{\"field\":\"x\"},\"y\":{\"field\":\"y\"}},\"id\":\"2617\",\"type\":\"Circle\"},{\"attributes\":{\"filters\":[{\"id\":\"2721\",\"type\":\"GroupFilter\"}],\"source\":{\"id\":\"2600\",\"type\":\"ColumnDataSource\"}},\"id\":\"2722\",\"type\":\"CDSView\"},{\"attributes\":{\"column_name\":\"label\",\"group\":\"G\"},\"id\":\"2643\",\"type\":\"GroupFilter\"},{\"attributes\":{},\"id\":\"2571\",\"type\":\"LinearScale\"},{\"attributes\":{\"fill_color\":{\"field\":\"label\",\"transform\":{\"id\":\"2563\",\"type\":\"CategoricalColorMapper\"}},\"line_color\":{\"field\":\"label\",\"transform\":{\"id\":\"2563\",\"type\":\"CategoricalColorMapper\"}},\"x\":{\"field\":\"x\"},\"y\":{\"field\":\"y\"}},\"id\":\"2616\",\"type\":\"Circle\"},{\"attributes\":{\"data_source\":{\"id\":\"2600\",\"type\":\"ColumnDataSource\"},\"glyph\":{\"id\":\"2604\",\"type\":\"Circle\"},\"hover_glyph\":null,\"muted_glyph\":null,\"nonselection_glyph\":{\"id\":\"2605\",\"type\":\"Circle\"},\"selection_glyph\":null,\"view\":{\"id\":\"2602\",\"type\":\"CDSView\"}},\"id\":\"2606\",\"type\":\"GlyphRenderer\"},{\"attributes\":{\"filters\":[{\"id\":\"2643\",\"type\":\"GroupFilter\"}],\"source\":{\"id\":\"2600\",\"type\":\"ColumnDataSource\"}},\"id\":\"2644\",\"type\":\"CDSView\"},{\"attributes\":{\"fill_color\":{\"field\":\"label\",\"transform\":{\"id\":\"2563\",\"type\":\"CategoricalColorMapper\"}},\"line_color\":{\"field\":\"label\",\"transform\":{\"id\":\"2563\",\"type\":\"CategoricalColorMapper\"}},\"x\":{\"field\":\"x\"},\"y\":{\"field\":\"y\"}},\"id\":\"2724\",\"type\":\"Circle\"},{\"attributes\":{\"data_source\":{\"id\":\"2600\",\"type\":\"ColumnDataSource\"},\"glyph\":{\"id\":\"2610\",\"type\":\"Circle\"},\"hover_glyph\":null,\"muted_glyph\":null,\"nonselection_glyph\":{\"id\":\"2611\",\"type\":\"Circle\"},\"selection_glyph\":null,\"view\":{\"id\":\"2608\",\"type\":\"CDSView\"}},\"id\":\"2612\",\"type\":\"GlyphRenderer\"},{\"attributes\":{\"fill_alpha\":{\"value\":0.1},\"fill_color\":{\"value\":\"#1f77b4\"},\"line_alpha\":{\"value\":0.1},\"line_color\":{\"value\":\"#1f77b4\"},\"x\":{\"field\":\"x\"},\"y\":{\"field\":\"y\"}},\"id\":\"2725\",\"type\":\"Circle\"},{\"attributes\":{\"fill_color\":{\"field\":\"label\",\"transform\":{\"id\":\"2563\",\"type\":\"CategoricalColorMapper\"}},\"line_color\":{\"field\":\"label\",\"transform\":{\"id\":\"2563\",\"type\":\"CategoricalColorMapper\"}},\"x\":{\"field\":\"x\"},\"y\":{\"field\":\"y\"}},\"id\":\"2658\",\"type\":\"Circle\"},{\"attributes\":{},\"id\":\"2589\",\"type\":\"ResetTool\"},{\"attributes\":{\"column_name\":\"label\",\"group\":\"A\"},\"id\":\"2607\",\"type\":\"GroupFilter\"},{\"attributes\":{\"data_source\":{\"id\":\"2600\",\"type\":\"ColumnDataSource\"},\"glyph\":{\"id\":\"2724\",\"type\":\"Circle\"},\"hover_glyph\":null,\"muted_glyph\":null,\"nonselection_glyph\":{\"id\":\"2725\",\"type\":\"Circle\"},\"selection_glyph\":null,\"view\":{\"id\":\"2722\",\"type\":\"CDSView\"}},\"id\":\"2726\",\"type\":\"GlyphRenderer\"},{\"attributes\":{\"callback\":null},\"id\":\"2567\",\"type\":\"DataRange1d\"},{\"attributes\":{\"fill_color\":{\"field\":\"label\",\"transform\":{\"id\":\"2563\",\"type\":\"CategoricalColorMapper\"}},\"line_color\":{\"field\":\"label\",\"transform\":{\"id\":\"2563\",\"type\":\"CategoricalColorMapper\"}},\"x\":{\"field\":\"x\"},\"y\":{\"field\":\"y\"}},\"id\":\"2646\",\"type\":\"Circle\"},{\"attributes\":{\"fill_alpha\":{\"value\":0.1},\"fill_color\":{\"value\":\"#1f77b4\"},\"line_alpha\":{\"value\":0.1},\"line_color\":{\"value\":\"#1f77b4\"},\"x\":{\"field\":\"x\"},\"y\":{\"field\":\"y\"}},\"id\":\"2647\",\"type\":\"Circle\"},{\"attributes\":{\"column_name\":\"label\",\"group\":\"W\"},\"id\":\"2727\",\"type\":\"GroupFilter\"},{\"attributes\":{\"filters\":[{\"id\":\"2607\",\"type\":\"GroupFilter\"}],\"source\":{\"id\":\"2600\",\"type\":\"ColumnDataSource\"}},\"id\":\"2608\",\"type\":\"CDSView\"},{\"attributes\":{\"data_source\":{\"id\":\"2600\",\"type\":\"ColumnDataSource\"},\"glyph\":{\"id\":\"2646\",\"type\":\"Circle\"},\"hover_glyph\":null,\"muted_glyph\":null,\"nonselection_glyph\":{\"id\":\"2647\",\"type\":\"Circle\"},\"selection_glyph\":null,\"view\":{\"id\":\"2644\",\"type\":\"CDSView\"}},\"id\":\"2648\",\"type\":\"GlyphRenderer\"},{\"attributes\":{\"filters\":[{\"id\":\"2727\",\"type\":\"GroupFilter\"}],\"source\":{\"id\":\"2600\",\"type\":\"ColumnDataSource\"}},\"id\":\"2728\",\"type\":\"CDSView\"},{\"attributes\":{\"filters\":[{\"id\":\"2613\",\"type\":\"GroupFilter\"}],\"source\":{\"id\":\"2600\",\"type\":\"ColumnDataSource\"}},\"id\":\"2614\",\"type\":\"CDSView\"},{\"attributes\":{},\"id\":\"2573\",\"type\":\"LinearScale\"},{\"attributes\":{\"column_name\":\"label\",\"group\":\"H\"},\"id\":\"2649\",\"type\":\"GroupFilter\"},{\"attributes\":{\"filters\":[{\"id\":\"2745\",\"type\":\"GroupFilter\"}],\"source\":{\"id\":\"2600\",\"type\":\"ColumnDataSource\"}},\"id\":\"2746\",\"type\":\"CDSView\"},{\"attributes\":{\"axis_label\":\"PC9\",\"axis_label_text_font_size\":{\"value\":\"15pt\"},\"formatter\":{\"id\":\"2840\",\"type\":\"BasicTickFormatter\"},\"major_label_text_font_size\":{\"value\":\"15pt\"},\"ticker\":{\"id\":\"2576\",\"type\":\"BasicTicker\"}},\"id\":\"2575\",\"type\":\"LinearAxis\"},{\"attributes\":{\"filters\":[{\"id\":\"2649\",\"type\":\"GroupFilter\"}],\"source\":{\"id\":\"2600\",\"type\":\"ColumnDataSource\"}},\"id\":\"2650\",\"type\":\"CDSView\"},{\"attributes\":{\"fill_color\":{\"field\":\"label\",\"transform\":{\"id\":\"2563\",\"type\":\"CategoricalColorMapper\"}},\"line_color\":{\"field\":\"label\",\"transform\":{\"id\":\"2563\",\"type\":\"CategoricalColorMapper\"}},\"x\":{\"field\":\"x\"},\"y\":{\"field\":\"y\"}},\"id\":\"2730\",\"type\":\"Circle\"},{\"attributes\":{\"label\":{\"value\":\"A\"},\"renderers\":[{\"id\":\"2612\",\"type\":\"GlyphRenderer\"}]},\"id\":\"2758\",\"type\":\"LegendItem\"},{\"attributes\":{},\"id\":\"2576\",\"type\":\"BasicTicker\"},{\"attributes\":{\"fill_alpha\":{\"value\":0.1},\"fill_color\":{\"value\":\"#1f77b4\"},\"line_alpha\":{\"value\":0.1},\"line_color\":{\"value\":\"#1f77b4\"},\"x\":{\"field\":\"x\"},\"y\":{\"field\":\"y\"}},\"id\":\"2731\",\"type\":\"Circle\"},{\"attributes\":{\"fill_alpha\":{\"value\":0.1},\"fill_color\":{\"value\":\"#1f77b4\"},\"line_alpha\":{\"value\":0.1},\"line_color\":{\"value\":\"#1f77b4\"},\"x\":{\"field\":\"x\"},\"y\":{\"field\":\"y\"}},\"id\":\"2743\",\"type\":\"Circle\"},{\"attributes\":{\"fill_alpha\":{\"value\":0.1},\"fill_color\":{\"value\":\"#1f77b4\"},\"line_alpha\":{\"value\":0.1},\"line_color\":{\"value\":\"#1f77b4\"},\"x\":{\"field\":\"x\"},\"y\":{\"field\":\"y\"}},\"id\":\"2611\",\"type\":\"Circle\"},{\"attributes\":{\"data_source\":{\"id\":\"2600\",\"type\":\"ColumnDataSource\"},\"glyph\":{\"id\":\"2658\",\"type\":\"Circle\"},\"hover_glyph\":null,\"muted_glyph\":null,\"nonselection_glyph\":{\"id\":\"2659\",\"type\":\"Circle\"},\"selection_glyph\":null,\"view\":{\"id\":\"2656\",\"type\":\"CDSView\"}},\"id\":\"2660\",\"type\":\"GlyphRenderer\"},{\"attributes\":{\"data_source\":{\"id\":\"2600\",\"type\":\"ColumnDataSource\"},\"glyph\":{\"id\":\"2730\",\"type\":\"Circle\"},\"hover_glyph\":null,\"muted_glyph\":null,\"nonselection_glyph\":{\"id\":\"2731\",\"type\":\"Circle\"},\"selection_glyph\":null,\"view\":{\"id\":\"2728\",\"type\":\"CDSView\"}},\"id\":\"2732\",\"type\":\"GlyphRenderer\"},{\"attributes\":{\"ticker\":{\"id\":\"2576\",\"type\":\"BasicTicker\"}},\"id\":\"2579\",\"type\":\"Grid\"},{\"attributes\":{\"data_source\":{\"id\":\"2600\",\"type\":\"ColumnDataSource\"},\"glyph\":{\"id\":\"2652\",\"type\":\"Circle\"},\"hover_glyph\":null,\"muted_glyph\":null,\"nonselection_glyph\":{\"id\":\"2653\",\"type\":\"Circle\"},\"selection_glyph\":null,\"view\":{\"id\":\"2650\",\"type\":\"CDSView\"}},\"id\":\"2654\",\"type\":\"GlyphRenderer\"},{\"attributes\":{\"axis_label\":\"PC10\",\"axis_label_text_font_size\":{\"value\":\"15pt\"},\"formatter\":{\"id\":\"2836\",\"type\":\"BasicTickFormatter\"},\"major_label_text_font_size\":{\"value\":\"15pt\"},\"ticker\":{\"id\":\"2581\",\"type\":\"BasicTicker\"}},\"id\":\"2580\",\"type\":\"LinearAxis\"},{\"attributes\":{\"column_name\":\"label\",\"group\":\"I\"},\"id\":\"2655\",\"type\":\"GroupFilter\"},{\"attributes\":{\"column_name\":\"label\",\"group\":\"J\"},\"id\":\"2661\",\"type\":\"GroupFilter\"},{\"attributes\":{\"column_name\":\"label\",\"group\":\"X\"},\"id\":\"2733\",\"type\":\"GroupFilter\"},{\"attributes\":{\"fill_color\":{\"field\":\"label\",\"transform\":{\"id\":\"2563\",\"type\":\"CategoricalColorMapper\"}},\"line_color\":{\"field\":\"label\",\"transform\":{\"id\":\"2563\",\"type\":\"CategoricalColorMapper\"}},\"x\":{\"field\":\"x\"},\"y\":{\"field\":\"y\"}},\"id\":\"2610\",\"type\":\"Circle\"},{\"attributes\":{\"filters\":[{\"id\":\"2661\",\"type\":\"GroupFilter\"}],\"source\":{\"id\":\"2600\",\"type\":\"ColumnDataSource\"}},\"id\":\"2662\",\"type\":\"CDSView\"},{\"attributes\":{},\"id\":\"2581\",\"type\":\"BasicTicker\"},{\"attributes\":{\"column_name\":\"label\",\"group\":\"B\"},\"id\":\"2613\",\"type\":\"GroupFilter\"},{\"attributes\":{\"column_name\":\"label\",\"group\":\"Z\"},\"id\":\"2745\",\"type\":\"GroupFilter\"},{\"attributes\":{\"dimension\":1,\"ticker\":{\"id\":\"2581\",\"type\":\"BasicTicker\"}},\"id\":\"2584\",\"type\":\"Grid\"},{\"attributes\":{\"fill_color\":{\"field\":\"label\",\"transform\":{\"id\":\"2563\",\"type\":\"CategoricalColorMapper\"}},\"line_color\":{\"field\":\"label\",\"transform\":{\"id\":\"2563\",\"type\":\"CategoricalColorMapper\"}},\"x\":{\"field\":\"x\"},\"y\":{\"field\":\"y\"}},\"id\":\"2742\",\"type\":\"Circle\"},{\"attributes\":{\"fill_alpha\":{\"value\":0.1},\"fill_color\":{\"value\":\"#1f77b4\"},\"line_alpha\":{\"value\":0.1},\"line_color\":{\"value\":\"#1f77b4\"},\"x\":{\"field\":\"x\"},\"y\":{\"field\":\"y\"}},\"id\":\"2749\",\"type\":\"Circle\"},{\"attributes\":{\"label\":{\"value\":\".\"},\"renderers\":[{\"id\":\"2606\",\"type\":\"GlyphRenderer\"}]},\"id\":\"2757\",\"type\":\"LegendItem\"},{\"attributes\":{\"data_source\":{\"id\":\"2600\",\"type\":\"ColumnDataSource\"},\"glyph\":{\"id\":\"2748\",\"type\":\"Circle\"},\"hover_glyph\":null,\"muted_glyph\":null,\"nonselection_glyph\":{\"id\":\"2749\",\"type\":\"Circle\"},\"selection_glyph\":null,\"view\":{\"id\":\"2746\",\"type\":\"CDSView\"}},\"id\":\"2750\",\"type\":\"GlyphRenderer\"},{\"attributes\":{\"fill_color\":{\"field\":\"label\",\"transform\":{\"id\":\"2563\",\"type\":\"CategoricalColorMapper\"}},\"line_color\":{\"field\":\"label\",\"transform\":{\"id\":\"2563\",\"type\":\"CategoricalColorMapper\"}},\"x\":{\"field\":\"x\"},\"y\":{\"field\":\"y\"}},\"id\":\"2664\",\"type\":\"Circle\"},{\"attributes\":{\"callback\":null,\"tooltips\":[[\"x\",\"@x\"],[\"y\",\"@y\"],[\"label\",\"@label\"]]},\"id\":\"2599\",\"type\":\"HoverTool\"},{\"attributes\":{\"fill_alpha\":{\"value\":0.1},\"fill_color\":{\"value\":\"#1f77b4\"},\"line_alpha\":{\"value\":0.1},\"line_color\":{\"value\":\"#1f77b4\"},\"x\":{\"field\":\"x\"},\"y\":{\"field\":\"y\"}},\"id\":\"2605\",\"type\":\"Circle\"},{\"attributes\":{\"fill_alpha\":{\"value\":0.1},\"fill_color\":{\"value\":\"#1f77b4\"},\"line_alpha\":{\"value\":0.1},\"line_color\":{\"value\":\"#1f77b4\"},\"x\":{\"field\":\"x\"},\"y\":{\"field\":\"y\"}},\"id\":\"2665\",\"type\":\"Circle\"},{\"attributes\":{\"column_name\":\"label\",\"group\":\"gnomad\"},\"id\":\"2751\",\"type\":\"GroupFilter\"},{\"attributes\":{\"callback\":null,\"data\":{\"index\":[0,1,2,3,4,5,6,7,8,9,10,11,12,13,14,15,16,17,18,19,20,21,22,23,24,25,26,27,28,29,30,31,32,33,34,35,36,37,38,39,40,41,42,43,44,45,46,47,48,49,50,51,52,53,54,55,56,57,58,59,60,61,62,63,64,65,66,67,68,69,70,71,72,73,74,75,76,77,78,79,80,81,82,83,84,85,86,87,88,89,90,91,92,93,94,95,96,97,98,99,100,101,102,103,104,105,106,107,108,109,110,111,112,113,114,115,116,117,118,119,120,121,122,123,124,125,126,127,128,129,130,131,132,133,134,135,136,137,138,139,140,141,142,143,144,145,146,147,148,149,150,151,152,153,154,155,156,157,158,159,160,161,162,163,164,165,166,167,168,169,170,171,172,173,174,175,176,177,178,179,180,181,182,183,184,185,186,187,188,189,190,191,192,193,194,195,196,197,198,199,200,201,202,203,204,205,206,207,208,209,210,211,212,213,214,215,216],\"label\":[\"S\",\"S\",\"S\",\"S\",\"S\",\"S\",\"I\",\"I\",\"I\",\"I\",\"C\",\"C\",\"I\",\"C\",\"C\",\"H\",\"C\",\"H\",\"I\",\"H\",\"H\",\"H\",\"Y\",\".\",\"W\",\"W\",\"Y\",\"Y\",\"Y\",\"Y\",\"Y\",\".\",\"Y\",\"H\",\"W\",\"W\",\"M\",\".\",\"O\",\"O\",\"F\",\"R\",\"J\",\"C\",\"J\",\"J\",\"Y\",\"F\",\"W\",\"J\",\".\",\"B\",\"R\",\"W\",\".\",\".\",\"F\",\"R\",\"J\",\"K\",\"W\",\"F\",\"F\",\".\",\".\",\"L\",\"F\",\"R\",\"F\",\".\",\"F\",\"F\",\"M\",\"R\",\"O\",\"N\",\"K\",\".\",\".\",\".\",\"K\",\"W\",\"F\",\"gnomad\",\"B\",\"gnomad\",\".\",\".\",\"N\",\".\",\".\",\"C\",\".\",\"L\",\"C\",\"gnomad\",\"F\",\"R\",\"gnomad\",\"C\",\".\",\".\",\".\",\"gnomad\",\"gnomad\",\"gnomad\",\"B\",\"A\",\".\",\"M\",\".\",\"N\",\"gnomad\",\".\",\"Z\",\"gnomad\",\"gnomad\",\"gnomad\",\".\",\"B\",\".\",\".\",\"B\",\"W\",\"W\",\".\",\"E\",\"gnomad\",\"gnomad\",\"gnomad\",\"Z\",\"gnomad\",\"gnomad\",\"gnomad\",\"A\",\".\",\"gnomad\",\"gnomad\",\"B\",\"gnomad\",\"Z\",\"gnomad\",\"U\",\"gnomad\",\".\",\"gnomad\",\"gnomad\",\".\",\"X\",\"gnomad\",\"E\",\"gnomad\",\"gnomad\",\"gnomad\",\"gnomad\",\"gnomad\",\"W\",\".\",\"A\",\"E\",\"B\",\"gnomad\",\"gnomad\",\"A\",\"B\",\".\",\"gnomad\",\"gnomad\",\"A\",\"gnomad\",\"gnomad\",\"gnomad\",\".\",\"gnomad\",\"A\",\"E\",\"E\",\"E\",\"E\",\"D\",\"A\",\"X\",\"W\",\"X\",\"W\",\".\",\"X\",\"W\",\"D\",\"X\",\"U\",\"D\",\"D\",\"D\",\"U\",\"U\",\".\",\"T\",\"U\",\"G\",\"D\",\"D\",\"T\",\"G\",\"G\",\"P\",\"P\",\"G\",\"T\",\"P\",\"P\",\"T\",\"T\",\"T\",\"T\",\"T\",\"T\"],\"x\":{\"__ndarray__\":\"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\",\"dtype\":\"float64\",\"shape\":[217]},\"y\":{\"__ndarray__\":\"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\",\"dtype\":\"float64\",\"shape\":[217]}},\"selected\":{\"id\":\"2843\",\"type\":\"Selection\"},\"selection_policy\":{\"id\":\"2844\",\"type\":\"UnionRenderers\"}},\"id\":\"2600\",\"type\":\"ColumnDataSource\"},{\"attributes\":{\"data_source\":{\"id\":\"2600\",\"type\":\"ColumnDataSource\"},\"glyph\":{\"id\":\"2664\",\"type\":\"Circle\"},\"hover_glyph\":null,\"muted_glyph\":null,\"nonselection_glyph\":{\"id\":\"2665\",\"type\":\"Circle\"},\"selection_glyph\":null,\"view\":{\"id\":\"2662\",\"type\":\"CDSView\"}},\"id\":\"2666\",\"type\":\"GlyphRenderer\"},{\"attributes\":{},\"id\":\"2585\",\"type\":\"PanTool\"},{\"attributes\":{\"filters\":[{\"id\":\"2751\",\"type\":\"GroupFilter\"}],\"source\":{\"id\":\"2600\",\"type\":\"ColumnDataSource\"}},\"id\":\"2752\",\"type\":\"CDSView\"},{\"attributes\":{\"factors\":[\"U\",\"S\",\"X\",\"B\",\"J\",\".\",\"D\",\"H\",\"O\",\"K\",\"E\",\"G\",\"W\",\"Z\",\"P\",\"F\",\"C\",\"T\",\"Y\",\"N\",\"M\",\"A\",\"R\",\"gnomad\",\"L\",\"I\"],\"palette\":[\"#0C0786\",\"#230590\",\"#360498\",\"#47029F\",\"#5701A4\",\"#6700A7\",\"#7601A8\",\"#8405A6\",\"#920FA2\",\"#9F1A9B\",\"#AC2593\",\"#B7308A\",\"#C13C80\",\"#CB4777\",\"#D3516F\",\"#DC5D66\",\"#E3685E\",\"#EA7455\",\"#F0814D\",\"#F68E44\",\"#FA9C3B\",\"#FCA934\",\"#FDB82C\",\"#FCC726\",\"#FAD824\",\"#F5E926\"]},\"id\":\"2563\",\"type\":\"CategoricalColorMapper\"},{\"attributes\":{},\"id\":\"2586\",\"type\":\"WheelZoomTool\"},{\"attributes\":{\"column_name\":\"label\",\"group\":\"K\"},\"id\":\"2667\",\"type\":\"GroupFilter\"},{\"attributes\":{\"fill_color\":{\"field\":\"label\",\"transform\":{\"id\":\"2563\",\"type\":\"CategoricalColorMapper\"}},\"line_color\":{\"field\":\"label\",\"transform\":{\"id\":\"2563\",\"type\":\"CategoricalColorMapper\"}},\"x\":{\"field\":\"x\"},\"y\":{\"field\":\"y\"}},\"id\":\"2628\",\"type\":\"Circle\"},{\"attributes\":{\"overlay\":{\"id\":\"2842\",\"type\":\"BoxAnnotation\"}},\"id\":\"2587\",\"type\":\"BoxZoomTool\"},{\"attributes\":{\"filters\":[{\"id\":\"2667\",\"type\":\"GroupFilter\"}],\"source\":{\"id\":\"2600\",\"type\":\"ColumnDataSource\"}},\"id\":\"2668\",\"type\":\"CDSView\"},{\"attributes\":{\"fill_color\":{\"field\":\"label\",\"transform\":{\"id\":\"2563\",\"type\":\"CategoricalColorMapper\"}},\"line_color\":{\"field\":\"label\",\"transform\":{\"id\":\"2563\",\"type\":\"CategoricalColorMapper\"}},\"x\":{\"field\":\"x\"},\"y\":{\"field\":\"y\"}},\"id\":\"2754\",\"type\":\"Circle\"},{\"attributes\":{\"data_source\":{\"id\":\"2600\",\"type\":\"ColumnDataSource\"},\"glyph\":{\"id\":\"2628\",\"type\":\"Circle\"},\"hover_glyph\":null,\"muted_glyph\":null,\"nonselection_glyph\":{\"id\":\"2629\",\"type\":\"Circle\"},\"selection_glyph\":null,\"view\":{\"id\":\"2626\",\"type\":\"CDSView\"}},\"id\":\"2630\",\"type\":\"GlyphRenderer\"},{\"attributes\":{\"data_source\":{\"id\":\"2600\",\"type\":\"ColumnDataSource\"},\"glyph\":{\"id\":\"2622\",\"type\":\"Circle\"},\"hover_glyph\":null,\"muted_glyph\":null,\"nonselection_glyph\":{\"id\":\"2623\",\"type\":\"Circle\"},\"selection_glyph\":null,\"view\":{\"id\":\"2620\",\"type\":\"CDSView\"}},\"id\":\"2624\",\"type\":\"GlyphRenderer\"},{\"attributes\":{},\"id\":\"2588\",\"type\":\"SaveTool\"},{\"attributes\":{\"fill_alpha\":{\"value\":0.1},\"fill_color\":{\"value\":\"#1f77b4\"},\"line_alpha\":{\"value\":0.1},\"line_color\":{\"value\":\"#1f77b4\"},\"x\":{\"field\":\"x\"},\"y\":{\"field\":\"y\"}},\"id\":\"2755\",\"type\":\"Circle\"},{\"attributes\":{\"fill_color\":{\"field\":\"label\",\"transform\":{\"id\":\"2563\",\"type\":\"CategoricalColorMapper\"}},\"line_color\":{\"field\":\"label\",\"transform\":{\"id\":\"2563\",\"type\":\"CategoricalColorMapper\"}},\"x\":{\"field\":\"x\"},\"y\":{\"field\":\"y\"}},\"id\":\"2652\",\"type\":\"Circle\"},{\"attributes\":{\"fill_color\":{\"field\":\"label\",\"transform\":{\"id\":\"2563\",\"type\":\"CategoricalColorMapper\"}},\"line_color\":{\"field\":\"label\",\"transform\":{\"id\":\"2563\",\"type\":\"CategoricalColorMapper\"}},\"x\":{\"field\":\"x\"},\"y\":{\"field\":\"y\"}},\"id\":\"2670\",\"type\":\"Circle\"},{\"attributes\":{\"data_source\":{\"id\":\"2600\",\"type\":\"ColumnDataSource\"},\"glyph\":{\"id\":\"2754\",\"type\":\"Circle\"},\"hover_glyph\":null,\"muted_glyph\":null,\"nonselection_glyph\":{\"id\":\"2755\",\"type\":\"Circle\"},\"selection_glyph\":null,\"view\":{\"id\":\"2752\",\"type\":\"CDSView\"}},\"id\":\"2756\",\"type\":\"GlyphRenderer\"},{\"attributes\":{\"filters\":[{\"id\":\"2625\",\"type\":\"GroupFilter\"}],\"source\":{\"id\":\"2600\",\"type\":\"ColumnDataSource\"}},\"id\":\"2626\",\"type\":\"CDSView\"},{\"attributes\":{\"fill_alpha\":{\"value\":0.1},\"fill_color\":{\"value\":\"#1f77b4\"},\"line_alpha\":{\"value\":0.1},\"line_color\":{\"value\":\"#1f77b4\"},\"x\":{\"field\":\"x\"},\"y\":{\"field\":\"y\"}},\"id\":\"2671\",\"type\":\"Circle\"},{\"attributes\":{\"label\":{\"value\":\"M\"},\"renderers\":[{\"id\":\"2684\",\"type\":\"GlyphRenderer\"}]},\"id\":\"2770\",\"type\":\"LegendItem\"},{\"attributes\":{\"text\":\"PCA\"},\"id\":\"2565\",\"type\":\"Title\"},{\"attributes\":{\"data_source\":{\"id\":\"2600\",\"type\":\"ColumnDataSource\"},\"glyph\":{\"id\":\"2670\",\"type\":\"Circle\"},\"hover_glyph\":null,\"muted_glyph\":null,\"nonselection_glyph\":{\"id\":\"2671\",\"type\":\"Circle\"},\"selection_glyph\":null,\"view\":{\"id\":\"2668\",\"type\":\"CDSView\"}},\"id\":\"2672\",\"type\":\"GlyphRenderer\"},{\"attributes\":{\"label\":{\"value\":\"N\"},\"renderers\":[{\"id\":\"2690\",\"type\":\"GlyphRenderer\"}]},\"id\":\"2771\",\"type\":\"LegendItem\"},{\"attributes\":{\"fill_alpha\":{\"value\":0.1},\"fill_color\":{\"value\":\"#1f77b4\"},\"line_alpha\":{\"value\":0.1},\"line_color\":{\"value\":\"#1f77b4\"},\"x\":{\"field\":\"x\"},\"y\":{\"field\":\"y\"}},\"id\":\"2629\",\"type\":\"Circle\"},{\"attributes\":{\"label\":{\"value\":\"O\"},\"renderers\":[{\"id\":\"2696\",\"type\":\"GlyphRenderer\"}]},\"id\":\"2772\",\"type\":\"LegendItem\"},{\"attributes\":{\"column_name\":\"label\",\"group\":\"L\"},\"id\":\"2673\",\"type\":\"GroupFilter\"},{\"attributes\":{\"filters\":[{\"id\":\"2673\",\"type\":\"GroupFilter\"}],\"source\":{\"id\":\"2600\",\"type\":\"ColumnDataSource\"}},\"id\":\"2674\",\"type\":\"CDSView\"},{\"attributes\":{\"label\":{\"value\":\"P\"},\"renderers\":[{\"id\":\"2702\",\"type\":\"GlyphRenderer\"}]},\"id\":\"2773\",\"type\":\"LegendItem\"},{\"attributes\":{\"fill_color\":{\"field\":\"label\",\"transform\":{\"id\":\"2563\",\"type\":\"CategoricalColorMapper\"}},\"line_color\":{\"field\":\"label\",\"transform\":{\"id\":\"2563\",\"type\":\"CategoricalColorMapper\"}},\"x\":{\"field\":\"x\"},\"y\":{\"field\":\"y\"}},\"id\":\"2622\",\"type\":\"Circle\"},{\"attributes\":{\"filters\":[{\"id\":\"2739\",\"type\":\"GroupFilter\"}],\"source\":{\"id\":\"2600\",\"type\":\"ColumnDataSource\"}},\"id\":\"2740\",\"type\":\"CDSView\"},{\"attributes\":{\"label\":{\"value\":\"R\"},\"renderers\":[{\"id\":\"2708\",\"type\":\"GlyphRenderer\"}]},\"id\":\"2774\",\"type\":\"LegendItem\"},{\"attributes\":{\"fill_color\":{\"field\":\"label\",\"transform\":{\"id\":\"2563\",\"type\":\"CategoricalColorMapper\"}},\"line_color\":{\"field\":\"label\",\"transform\":{\"id\":\"2563\",\"type\":\"CategoricalColorMapper\"}},\"x\":{\"field\":\"x\"},\"y\":{\"field\":\"y\"}},\"id\":\"2676\",\"type\":\"Circle\"},{\"attributes\":{\"label\":{\"value\":\"S\"},\"renderers\":[{\"id\":\"2714\",\"type\":\"GlyphRenderer\"}]},\"id\":\"2775\",\"type\":\"LegendItem\"},{\"attributes\":{\"filters\":[{\"id\":\"2619\",\"type\":\"GroupFilter\"}],\"source\":{\"id\":\"2600\",\"type\":\"ColumnDataSource\"}},\"id\":\"2620\",\"type\":\"CDSView\"},{\"attributes\":{\"fill_alpha\":{\"value\":0.1},\"fill_color\":{\"value\":\"#1f77b4\"},\"line_alpha\":{\"value\":0.1},\"line_color\":{\"value\":\"#1f77b4\"},\"x\":{\"field\":\"x\"},\"y\":{\"field\":\"y\"}},\"id\":\"2677\",\"type\":\"Circle\"},{\"attributes\":{\"label\":{\"value\":\"T\"},\"renderers\":[{\"id\":\"2720\",\"type\":\"GlyphRenderer\"}]},\"id\":\"2776\",\"type\":\"LegendItem\"},{\"attributes\":{\"column_name\":\"label\",\"group\":\"C\"},\"id\":\"2619\",\"type\":\"GroupFilter\"},{\"attributes\":{\"data_source\":{\"id\":\"2600\",\"type\":\"ColumnDataSource\"},\"glyph\":{\"id\":\"2676\",\"type\":\"Circle\"},\"hover_glyph\":null,\"muted_glyph\":null,\"nonselection_glyph\":{\"id\":\"2677\",\"type\":\"Circle\"},\"selection_glyph\":null,\"view\":{\"id\":\"2674\",\"type\":\"CDSView\"}},\"id\":\"2678\",\"type\":\"GlyphRenderer\"},{\"attributes\":{\"label\":{\"value\":\"B\"},\"renderers\":[{\"id\":\"2618\",\"type\":\"GlyphRenderer\"}]},\"id\":\"2759\",\"type\":\"LegendItem\"},{\"attributes\":{\"column_name\":\"label\",\"group\":\"M\"},\"id\":\"2679\",\"type\":\"GroupFilter\"},{\"attributes\":{\"label\":{\"value\":\"C\"},\"renderers\":[{\"id\":\"2624\",\"type\":\"GlyphRenderer\"}]},\"id\":\"2760\",\"type\":\"LegendItem\"},{\"attributes\":{\"label\":{\"value\":\"J\"},\"renderers\":[{\"id\":\"2666\",\"type\":\"GlyphRenderer\"}]},\"id\":\"2767\",\"type\":\"LegendItem\"},{\"attributes\":{\"filters\":[{\"id\":\"2679\",\"type\":\"GroupFilter\"}],\"source\":{\"id\":\"2600\",\"type\":\"ColumnDataSource\"}},\"id\":\"2680\",\"type\":\"CDSView\"},{\"attributes\":{},\"id\":\"2838\",\"type\":\"BasicTickFormatter\"},{\"attributes\":{\"label\":{\"value\":\"K\"},\"renderers\":[{\"id\":\"2672\",\"type\":\"GlyphRenderer\"}]},\"id\":\"2768\",\"type\":\"LegendItem\"},{\"attributes\":{\"column_name\":\"label\",\"group\":\"Y\"},\"id\":\"2739\",\"type\":\"GroupFilter\"},{\"attributes\":{\"fill_color\":{\"field\":\"label\",\"transform\":{\"id\":\"2563\",\"type\":\"CategoricalColorMapper\"}},\"line_color\":{\"field\":\"label\",\"transform\":{\"id\":\"2563\",\"type\":\"CategoricalColorMapper\"}},\"x\":{\"field\":\"x\"},\"y\":{\"field\":\"y\"}},\"id\":\"2682\",\"type\":\"Circle\"},{\"attributes\":{},\"id\":\"2840\",\"type\":\"BasicTickFormatter\"},{\"attributes\":{\"label\":{\"value\":\"D\"},\"renderers\":[{\"id\":\"2630\",\"type\":\"GlyphRenderer\"}]},\"id\":\"2761\",\"type\":\"LegendItem\"},{\"attributes\":{},\"id\":\"2839\",\"type\":\"BasicTicker\"},{\"attributes\":{\"fill_alpha\":{\"value\":0.1},\"fill_color\":{\"value\":\"#1f77b4\"},\"line_alpha\":{\"value\":0.1},\"line_color\":{\"value\":\"#1f77b4\"},\"x\":{\"field\":\"x\"},\"y\":{\"field\":\"y\"}},\"id\":\"2683\",\"type\":\"Circle\"},{\"attributes\":{},\"id\":\"2836\",\"type\":\"BasicTickFormatter\"},{\"attributes\":{\"label\":{\"value\":\"L\"},\"renderers\":[{\"id\":\"2678\",\"type\":\"GlyphRenderer\"}]},\"id\":\"2769\",\"type\":\"LegendItem\"},{\"attributes\":{\"data_source\":{\"id\":\"2600\",\"type\":\"ColumnDataSource\"},\"glyph\":{\"id\":\"2682\",\"type\":\"Circle\"},\"hover_glyph\":null,\"muted_glyph\":null,\"nonselection_glyph\":{\"id\":\"2683\",\"type\":\"Circle\"},\"selection_glyph\":null,\"view\":{\"id\":\"2680\",\"type\":\"CDSView\"}},\"id\":\"2684\",\"type\":\"GlyphRenderer\"},{\"attributes\":{\"fill_color\":{\"field\":\"label\",\"transform\":{\"id\":\"2563\",\"type\":\"CategoricalColorMapper\"}},\"line_color\":{\"field\":\"label\",\"transform\":{\"id\":\"2563\",\"type\":\"CategoricalColorMapper\"}},\"x\":{\"field\":\"x\"},\"y\":{\"field\":\"y\"}},\"id\":\"2604\",\"type\":\"Circle\"},{\"attributes\":{\"column_name\":\"label\",\"group\":\"N\"},\"id\":\"2685\",\"type\":\"GroupFilter\"},{\"attributes\":{\"filters\":[{\"id\":\"2685\",\"type\":\"GroupFilter\"}],\"source\":{\"id\":\"2600\",\"type\":\"ColumnDataSource\"}},\"id\":\"2686\",\"type\":\"CDSView\"},{\"attributes\":{\"filters\":[{\"id\":\"2655\",\"type\":\"GroupFilter\"}],\"source\":{\"id\":\"2600\",\"type\":\"ColumnDataSource\"}},\"id\":\"2656\",\"type\":\"CDSView\"},{\"attributes\":{\"data_source\":{\"id\":\"2600\",\"type\":\"ColumnDataSource\"},\"glyph\":{\"id\":\"2736\",\"type\":\"Circle\"},\"hover_glyph\":null,\"muted_glyph\":null,\"nonselection_glyph\":{\"id\":\"2737\",\"type\":\"Circle\"},\"selection_glyph\":null,\"view\":{\"id\":\"2734\",\"type\":\"CDSView\"}},\"id\":\"2738\",\"type\":\"GlyphRenderer\"},{\"attributes\":{\"active_drag\":\"auto\",\"active_inspect\":\"auto\",\"active_multi\":null,\"active_scroll\":\"auto\",\"active_tap\":\"auto\",\"tools\":[{\"id\":\"2585\",\"type\":\"PanTool\"},{\"id\":\"2586\",\"type\":\"WheelZoomTool\"},{\"id\":\"2587\",\"type\":\"BoxZoomTool\"},{\"id\":\"2588\",\"type\":\"SaveTool\"},{\"id\":\"2589\",\"type\":\"ResetTool\"},{\"id\":\"2590\",\"type\":\"HelpTool\"},{\"id\":\"2599\",\"type\":\"HoverTool\"}]},\"id\":\"2591\",\"type\":\"Toolbar\"},{\"attributes\":{\"fill_color\":{\"field\":\"label\",\"transform\":{\"id\":\"2563\",\"type\":\"CategoricalColorMapper\"}},\"line_color\":{\"field\":\"label\",\"transform\":{\"id\":\"2563\",\"type\":\"CategoricalColorMapper\"}},\"x\":{\"field\":\"x\"},\"y\":{\"field\":\"y\"}},\"id\":\"2688\",\"type\":\"Circle\"},{\"attributes\":{\"filters\":[{\"id\":\"2601\",\"type\":\"GroupFilter\"}],\"source\":{\"id\":\"2600\",\"type\":\"ColumnDataSource\"}},\"id\":\"2602\",\"type\":\"CDSView\"},{\"attributes\":{\"column_name\":\"label\",\"group\":\".\"},\"id\":\"2601\",\"type\":\"GroupFilter\"},{\"attributes\":{\"fill_alpha\":{\"value\":0.1},\"fill_color\":{\"value\":\"#1f77b4\"},\"line_alpha\":{\"value\":0.1},\"line_color\":{\"value\":\"#1f77b4\"},\"x\":{\"field\":\"x\"},\"y\":{\"field\":\"y\"}},\"id\":\"2689\",\"type\":\"Circle\"},{\"attributes\":{\"data_source\":{\"id\":\"2600\",\"type\":\"ColumnDataSource\"},\"glyph\":{\"id\":\"2688\",\"type\":\"Circle\"},\"hover_glyph\":null,\"muted_glyph\":null,\"nonselection_glyph\":{\"id\":\"2689\",\"type\":\"Circle\"},\"selection_glyph\":null,\"view\":{\"id\":\"2686\",\"type\":\"CDSView\"}},\"id\":\"2690\",\"type\":\"GlyphRenderer\"},{\"attributes\":{},\"id\":\"2590\",\"type\":\"HelpTool\"},{\"attributes\":{\"column_name\":\"label\",\"group\":\"O\"},\"id\":\"2691\",\"type\":\"GroupFilter\"},{\"attributes\":{\"filters\":[{\"id\":\"2691\",\"type\":\"GroupFilter\"}],\"source\":{\"id\":\"2600\",\"type\":\"ColumnDataSource\"}},\"id\":\"2692\",\"type\":\"CDSView\"},{\"attributes\":{\"fill_alpha\":{\"value\":0.1},\"fill_color\":{\"value\":\"#1f77b4\"},\"line_alpha\":{\"value\":0.1},\"line_color\":{\"value\":\"#1f77b4\"},\"x\":{\"field\":\"x\"},\"y\":{\"field\":\"y\"}},\"id\":\"2737\",\"type\":\"Circle\"},{\"attributes\":{},\"id\":\"2844\",\"type\":\"UnionRenderers\"},{\"attributes\":{\"fill_color\":{\"field\":\"label\",\"transform\":{\"id\":\"2563\",\"type\":\"CategoricalColorMapper\"}},\"line_color\":{\"field\":\"label\",\"transform\":{\"id\":\"2563\",\"type\":\"CategoricalColorMapper\"}},\"x\":{\"field\":\"x\"},\"y\":{\"field\":\"y\"}},\"id\":\"2694\",\"type\":\"Circle\"},{\"attributes\":{\"label\":{\"value\":\"E\"},\"renderers\":[{\"id\":\"2636\",\"type\":\"GlyphRenderer\"}]},\"id\":\"2762\",\"type\":\"LegendItem\"},{\"attributes\":{\"fill_alpha\":{\"value\":0.1},\"fill_color\":{\"value\":\"#1f77b4\"},\"line_alpha\":{\"value\":0.1},\"line_color\":{\"value\":\"#1f77b4\"},\"x\":{\"field\":\"x\"},\"y\":{\"field\":\"y\"}},\"id\":\"2695\",\"type\":\"Circle\"},{\"attributes\":{\"data_source\":{\"id\":\"2600\",\"type\":\"ColumnDataSource\"},\"glyph\":{\"id\":\"2694\",\"type\":\"Circle\"},\"hover_glyph\":null,\"muted_glyph\":null,\"nonselection_glyph\":{\"id\":\"2695\",\"type\":\"Circle\"},\"selection_glyph\":null,\"view\":{\"id\":\"2692\",\"type\":\"CDSView\"}},\"id\":\"2696\",\"type\":\"GlyphRenderer\"},{\"attributes\":{\"label\":{\"value\":\"F\"},\"renderers\":[{\"id\":\"2642\",\"type\":\"GlyphRenderer\"}]},\"id\":\"2763\",\"type\":\"LegendItem\"},{\"attributes\":{\"label\":{\"value\":\"G\"},\"renderers\":[{\"id\":\"2648\",\"type\":\"GlyphRenderer\"}]},\"id\":\"2764\",\"type\":\"LegendItem\"},{\"attributes\":{\"column_name\":\"label\",\"group\":\"P\"},\"id\":\"2697\",\"type\":\"GroupFilter\"},{\"attributes\":{\"label\":{\"value\":\"H\"},\"renderers\":[{\"id\":\"2654\",\"type\":\"GlyphRenderer\"}]},\"id\":\"2765\",\"type\":\"LegendItem\"},{\"attributes\":{\"filters\":[{\"id\":\"2697\",\"type\":\"GroupFilter\"}],\"source\":{\"id\":\"2600\",\"type\":\"ColumnDataSource\"}},\"id\":\"2698\",\"type\":\"CDSView\"},{\"attributes\":{\"label\":{\"value\":\"I\"},\"renderers\":[{\"id\":\"2660\",\"type\":\"GlyphRenderer\"}]},\"id\":\"2766\",\"type\":\"LegendItem\"},{\"attributes\":{\"fill_color\":{\"field\":\"label\",\"transform\":{\"id\":\"2563\",\"type\":\"CategoricalColorMapper\"}},\"line_color\":{\"field\":\"label\",\"transform\":{\"id\":\"2563\",\"type\":\"CategoricalColorMapper\"}},\"x\":{\"field\":\"x\"},\"y\":{\"field\":\"y\"}},\"id\":\"2736\",\"type\":\"Circle\"},{\"attributes\":{\"fill_color\":{\"field\":\"label\",\"transform\":{\"id\":\"2563\",\"type\":\"CategoricalColorMapper\"}},\"line_color\":{\"field\":\"label\",\"transform\":{\"id\":\"2563\",\"type\":\"CategoricalColorMapper\"}},\"x\":{\"field\":\"x\"},\"y\":{\"field\":\"y\"}},\"id\":\"2700\",\"type\":\"Circle\"},{\"attributes\":{\"fill_alpha\":{\"value\":0.1},\"fill_color\":{\"value\":\"#1f77b4\"},\"line_alpha\":{\"value\":0.1},\"line_color\":{\"value\":\"#1f77b4\"},\"x\":{\"field\":\"x\"},\"y\":{\"field\":\"y\"}},\"id\":\"2701\",\"type\":\"Circle\"},{\"attributes\":{\"data_source\":{\"id\":\"2600\",\"type\":\"ColumnDataSource\"},\"glyph\":{\"id\":\"2700\",\"type\":\"Circle\"},\"hover_glyph\":null,\"muted_glyph\":null,\"nonselection_glyph\":{\"id\":\"2701\",\"type\":\"Circle\"},\"selection_glyph\":null,\"view\":{\"id\":\"2698\",\"type\":\"CDSView\"}},\"id\":\"2702\",\"type\":\"GlyphRenderer\"},{\"attributes\":{\"column_name\":\"label\",\"group\":\"R\"},\"id\":\"2703\",\"type\":\"GroupFilter\"},{\"attributes\":{\"filters\":[{\"id\":\"2703\",\"type\":\"GroupFilter\"}],\"source\":{\"id\":\"2600\",\"type\":\"ColumnDataSource\"}},\"id\":\"2704\",\"type\":\"CDSView\"},{\"attributes\":{\"fill_color\":{\"field\":\"label\",\"transform\":{\"id\":\"2563\",\"type\":\"CategoricalColorMapper\"}},\"line_color\":{\"field\":\"label\",\"transform\":{\"id\":\"2563\",\"type\":\"CategoricalColorMapper\"}},\"x\":{\"field\":\"x\"},\"y\":{\"field\":\"y\"}},\"id\":\"2706\",\"type\":\"Circle\"},{\"attributes\":{\"bottom_units\":\"screen\",\"fill_alpha\":{\"value\":0.5},\"fill_color\":{\"value\":\"lightgrey\"},\"left_units\":\"screen\",\"level\":\"overlay\",\"line_alpha\":{\"value\":1.0},\"line_color\":{\"value\":\"black\"},\"line_dash\":[4,4],\"line_width\":{\"value\":2},\"render_mode\":\"css\",\"right_units\":\"screen\",\"top_units\":\"screen\"},\"id\":\"2842\",\"type\":\"BoxAnnotation\"},{\"attributes\":{\"fill_alpha\":{\"value\":0.1},\"fill_color\":{\"value\":\"#1f77b4\"},\"line_alpha\":{\"value\":0.1},\"line_color\":{\"value\":\"#1f77b4\"},\"x\":{\"field\":\"x\"},\"y\":{\"field\":\"y\"}},\"id\":\"2707\",\"type\":\"Circle\"},{\"attributes\":{\"data_source\":{\"id\":\"2600\",\"type\":\"ColumnDataSource\"},\"glyph\":{\"id\":\"2706\",\"type\":\"Circle\"},\"hover_glyph\":null,\"muted_glyph\":null,\"nonselection_glyph\":{\"id\":\"2707\",\"type\":\"Circle\"},\"selection_glyph\":null,\"view\":{\"id\":\"2704\",\"type\":\"CDSView\"}},\"id\":\"2708\",\"type\":\"GlyphRenderer\"},{\"attributes\":{\"column_name\":\"label\",\"group\":\"S\"},\"id\":\"2709\",\"type\":\"GroupFilter\"},{\"attributes\":{\"filters\":[{\"id\":\"2709\",\"type\":\"GroupFilter\"}],\"source\":{\"id\":\"2600\",\"type\":\"ColumnDataSource\"}},\"id\":\"2710\",\"type\":\"CDSView\"},{\"attributes\":{\"filters\":[{\"id\":\"2733\",\"type\":\"GroupFilter\"}],\"source\":{\"id\":\"2600\",\"type\":\"ColumnDataSource\"}},\"id\":\"2734\",\"type\":\"CDSView\"},{\"attributes\":{\"fill_color\":{\"field\":\"label\",\"transform\":{\"id\":\"2563\",\"type\":\"CategoricalColorMapper\"}},\"line_color\":{\"field\":\"label\",\"transform\":{\"id\":\"2563\",\"type\":\"CategoricalColorMapper\"}},\"x\":{\"field\":\"x\"},\"y\":{\"field\":\"y\"}},\"id\":\"2712\",\"type\":\"Circle\"},{\"attributes\":{\"fill_alpha\":{\"value\":0.1},\"fill_color\":{\"value\":\"#1f77b4\"},\"line_alpha\":{\"value\":0.1},\"line_color\":{\"value\":\"#1f77b4\"},\"x\":{\"field\":\"x\"},\"y\":{\"field\":\"y\"}},\"id\":\"2713\",\"type\":\"Circle\"}],\"root_ids\":[\"2564\"]},\"title\":\"Bokeh Application\",\"version\":\"1.4.0\"}};\n",
       "  var render_items = [{\"docid\":\"671e679b-994f-4525-b0fd-9a49af5a4217\",\"roots\":{\"2564\":\"de0a66cf-e0b5-4cfe-8e07-8183dac401dc\"}}];\n",
       "  root.Bokeh.embed.embed_items_notebook(docs_json, render_items);\n",
       "\n",
       "  }\n",
       "  if (root.Bokeh !== undefined) {\n",
       "    embed_document(root);\n",
       "  } else {\n",
       "    var attempts = 0;\n",
       "    var timer = setInterval(function(root) {\n",
       "      if (root.Bokeh !== undefined) {\n",
       "        clearInterval(timer);\n",
       "        embed_document(root);\n",
       "      } else {\n",
       "        attempts++;\n",
       "        if (attempts > 100) {\n",
       "          clearInterval(timer);\n",
       "          console.log(\"Bokeh: ERROR: Unable to run BokehJS code because BokehJS library is missing\");\n",
       "        }\n",
       "      }\n",
       "    }, 10, root)\n",
       "  }\n",
       "})(window);"
      ],
      "application/vnd.bokehjs_exec.v0+json": ""
     },
     "metadata": {
      "application/vnd.bokehjs_exec.v0+json": {
       "id": "2564"
      }
     },
     "output_type": "display_data"
    }
   ],
   "source": [
    "show(p)"
   ]
  },
  {
   "cell_type": "code",
   "execution_count": 28,
   "metadata": {},
   "outputs": [],
   "source": [
    "PC1G = mt.filter_cols(mt.phenotypes.family == 'gnomad').scores[0].collect()"
   ]
  },
  {
   "cell_type": "code",
   "execution_count": 29,
   "metadata": {},
   "outputs": [],
   "source": [
    "PC1 = mt.filter_cols(mt.phenotypes.family == 'gnomad', keep = False).scores[0].collect()"
   ]
  },
  {
   "cell_type": "code",
   "execution_count": 30,
   "metadata": {},
   "outputs": [],
   "source": [
    "PC2G = mt.filter_cols(mt.phenotypes.family == 'gnomad').scores[1].collect()"
   ]
  },
  {
   "cell_type": "code",
   "execution_count": 31,
   "metadata": {},
   "outputs": [],
   "source": [
    "PC2 = mt.filter_cols(mt.phenotypes.family == 'gnomad', keep = False).scores[1].collect()"
   ]
  },
  {
   "cell_type": "code",
   "execution_count": 32,
   "metadata": {},
   "outputs": [
    {
     "data": {
      "text/plain": [
       "4.931378437608183"
      ]
     },
     "execution_count": 32,
     "metadata": {},
     "output_type": "execute_result"
    }
   ],
   "source": [
    "max(PC2 + PC2G)/np.std(PC2 + PC2G)"
   ]
  },
  {
   "cell_type": "code",
   "execution_count": 33,
   "metadata": {},
   "outputs": [
    {
     "name": "stdout",
     "output_type": "stream",
     "text": [
      "-0.027545759201703376\n",
      "-0.02300988992800349\n",
      "0.013283901225657936\n",
      "-0.01049703382304132\n"
     ]
    }
   ],
   "source": [
    "for a in [PC1, PC2, PC1G, PC2G]:\n",
    "    print(np.median(a))"
   ]
  },
  {
   "cell_type": "code",
   "execution_count": 34,
   "metadata": {},
   "outputs": [
    {
     "data": {
      "text/plain": [
       "0.11852730868027855"
      ]
     },
     "execution_count": 34,
     "metadata": {},
     "output_type": "execute_result"
    }
   ],
   "source": [
    "np.std(PC1 + PC1G)"
   ]
  },
  {
   "cell_type": "code",
   "execution_count": 35,
   "metadata": {},
   "outputs": [],
   "source": [
    "gts = np.column_stack((PC1, PC2))"
   ]
  },
  {
   "cell_type": "code",
   "execution_count": 36,
   "metadata": {},
   "outputs": [],
   "source": [
    "gno = np.column_stack((PC1G, PC2G))"
   ]
  },
  {
   "cell_type": "code",
   "execution_count": 37,
   "metadata": {},
   "outputs": [
    {
     "data": {
      "text/plain": [
       "0.055600152393757755"
      ]
     },
     "execution_count": 37,
     "metadata": {},
     "output_type": "execute_result"
    }
   ],
   "source": [
    "np.median(np.linalg.norm(gts, axis = 1))"
   ]
  },
  {
   "cell_type": "code",
   "execution_count": 38,
   "metadata": {},
   "outputs": [],
   "source": [
    "gno = np.column_stack((PC1G, PC2G))"
   ]
  },
  {
   "cell_type": "code",
   "execution_count": 39,
   "metadata": {},
   "outputs": [
    {
     "data": {
      "text/plain": [
       "0.019651188641982106"
      ]
     },
     "execution_count": 39,
     "metadata": {},
     "output_type": "execute_result"
    }
   ],
   "source": [
    "np.median(np.linalg.norm(gno, axis = 1))"
   ]
  },
  {
   "cell_type": "code",
   "execution_count": null,
   "metadata": {},
   "outputs": [],
   "source": []
  },
  {
   "cell_type": "code",
   "execution_count": null,
   "metadata": {},
   "outputs": [],
   "source": []
  }
 ],
 "metadata": {
  "kernelspec": {
   "display_name": "Python 3",
   "language": "python",
   "name": "python3"
  },
  "language_info": {
   "codemirror_mode": {
    "name": "ipython",
    "version": 3
   },
   "file_extension": ".py",
   "mimetype": "text/x-python",
   "name": "python",
   "nbconvert_exporter": "python",
   "pygments_lexer": "ipython3",
   "version": "3.6.5"
  }
 },
 "nbformat": 4,
 "nbformat_minor": 2
}
