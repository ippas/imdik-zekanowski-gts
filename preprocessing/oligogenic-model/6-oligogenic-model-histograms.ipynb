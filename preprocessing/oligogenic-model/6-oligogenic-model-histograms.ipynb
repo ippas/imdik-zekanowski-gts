{
 "cells": [
  {
   "cell_type": "code",
   "execution_count": 3,
   "id": "bcd928ad-2d3c-4607-9c55-d8c1506edec1",
   "metadata": {
    "tags": []
   },
   "outputs": [],
   "source": [
    "import os\n",
    "localfs_path = os.environ.get('SCRATCH_LOCAL') + '/'"
   ]
  },
  {
   "cell_type": "code",
   "execution_count": 4,
   "id": "fd4a0d20-dcce-42b6-a5af-2479dcb2d39e",
   "metadata": {
    "tags": []
   },
   "outputs": [
    {
     "name": "stderr",
     "output_type": "stream",
     "text": [
      "Picked up _JAVA_OPTIONS: -Djava.io.tmpdir=/localfs/4736297/\n",
      "Picked up _JAVA_OPTIONS: -Djava.io.tmpdir=/localfs/4736297/\n"
     ]
    },
    {
     "name": "stdout",
     "output_type": "stream",
     "text": [
      "23/09/10 11:20:56 WARN NativeCodeLoader: Unable to load native-hadoop library for your platform... using builtin-java classes where applicable\n"
     ]
    },
    {
     "name": "stderr",
     "output_type": "stream",
     "text": [
      "Setting default log level to \"WARN\".\n",
      "To adjust logging level use sc.setLogLevel(newLevel). For SparkR, use setLogLevel(newLevel).\n",
      "Running on Apache Spark version 3.3.2\n",
      "SparkUI available at http://ac0520:4040\n",
      "Welcome to\n",
      "     __  __     <>__\n",
      "    / /_/ /__  __/ /\n",
      "   / __  / _ `/ / /\n",
      "  /_/ /_/\\_,_/_/_/   version 0.2.113-cf32652c5077\n",
      "LOGGING: writing to /net/pr2/projects/plgrid/plggneuromol/imdik-zekanowski-gts/preprocessing/oligogenic-model/hail-20230910-1120-0.2.113-cf32652c5077.log\n"
     ]
    }
   ],
   "source": [
    "os.environ['_JAVA_OPTIONS'] = f'-Djava.io.tmpdir={localfs_path}'\n",
    "\n",
    "import hail as hl\n",
    "\n",
    "hl.init(\n",
    "    tmp_dir=(localfs_path+'tmp_hail_3'),\n",
    "    spark_conf={'spark.driver.memory': '10G', 'spark.executor.memory': '10G'},\n",
    "    default_reference='GRCh38'\n",
    ") "
   ]
  },
  {
   "cell_type": "code",
   "execution_count": 3,
   "id": "07f82e81-164a-4c65-99de-a97f111406e7",
   "metadata": {
    "collapsed": true,
    "jupyter": {
     "outputs_hidden": true
    },
    "tags": []
   },
   "outputs": [
    {
     "name": "stdout",
     "output_type": "stream",
     "text": [
      "Requirement already satisfied: seaborn in /net/pr2/projects/plgrid/plggneuromol/imdik-zekanowski-gts/venv-hail-0.2.113/lib/python3.10/site-packages (0.12.2)\n",
      "Requirement already satisfied: numpy!=1.24.0,>=1.17 in /net/pr2/projects/plgrid/plggneuromol/imdik-zekanowski-gts/venv-hail-0.2.113/lib/python3.10/site-packages (from seaborn) (1.24.2)\n",
      "Requirement already satisfied: pandas>=0.25 in /net/pr2/projects/plgrid/plggneuromol/imdik-zekanowski-gts/venv-hail-0.2.113/lib/python3.10/site-packages (from seaborn) (1.5.3)\n",
      "Requirement already satisfied: matplotlib!=3.6.1,>=3.1 in /net/pr2/projects/plgrid/plggneuromol/imdik-zekanowski-gts/venv-hail-0.2.113/lib/python3.10/site-packages (from seaborn) (3.7.1)\n",
      "Requirement already satisfied: contourpy>=1.0.1 in /net/pr2/projects/plgrid/plggneuromol/imdik-zekanowski-gts/venv-hail-0.2.113/lib/python3.10/site-packages (from matplotlib!=3.6.1,>=3.1->seaborn) (1.0.7)\n",
      "Requirement already satisfied: cycler>=0.10 in /net/pr2/projects/plgrid/plggneuromol/imdik-zekanowski-gts/venv-hail-0.2.113/lib/python3.10/site-packages (from matplotlib!=3.6.1,>=3.1->seaborn) (0.11.0)\n",
      "Requirement already satisfied: fonttools>=4.22.0 in /net/pr2/projects/plgrid/plggneuromol/imdik-zekanowski-gts/venv-hail-0.2.113/lib/python3.10/site-packages (from matplotlib!=3.6.1,>=3.1->seaborn) (4.39.3)\n",
      "Requirement already satisfied: kiwisolver>=1.0.1 in /net/pr2/projects/plgrid/plggneuromol/imdik-zekanowski-gts/venv-hail-0.2.113/lib/python3.10/site-packages (from matplotlib!=3.6.1,>=3.1->seaborn) (1.4.4)\n",
      "Requirement already satisfied: packaging>=20.0 in /net/pr2/projects/plgrid/plggneuromol/imdik-zekanowski-gts/venv-hail-0.2.113/lib/python3.10/site-packages (from matplotlib!=3.6.1,>=3.1->seaborn) (23.1)\n",
      "Requirement already satisfied: pillow>=6.2.0 in /net/pr2/projects/plgrid/plggneuromol/imdik-zekanowski-gts/venv-hail-0.2.113/lib/python3.10/site-packages (from matplotlib!=3.6.1,>=3.1->seaborn) (9.5.0)\n",
      "Requirement already satisfied: pyparsing>=2.3.1 in /net/pr2/projects/plgrid/plggneuromol/imdik-zekanowski-gts/venv-hail-0.2.113/lib/python3.10/site-packages (from matplotlib!=3.6.1,>=3.1->seaborn) (3.0.9)\n",
      "Requirement already satisfied: python-dateutil>=2.7 in /net/pr2/projects/plgrid/plggneuromol/imdik-zekanowski-gts/venv-hail-0.2.113/lib/python3.10/site-packages (from matplotlib!=3.6.1,>=3.1->seaborn) (2.8.2)\n",
      "Requirement already satisfied: pytz>=2020.1 in /net/pr2/projects/plgrid/plggneuromol/imdik-zekanowski-gts/venv-hail-0.2.113/lib/python3.10/site-packages (from pandas>=0.25->seaborn) (2023.3)\n",
      "Requirement already satisfied: six>=1.5 in /net/pr2/projects/plgrid/plggneuromol/imdik-zekanowski-gts/venv-hail-0.2.113/lib/python3.10/site-packages (from python-dateutil>=2.7->matplotlib!=3.6.1,>=3.1->seaborn) (1.16.0)\n",
      "\n",
      "\u001b[1m[\u001b[0m\u001b[34;49mnotice\u001b[0m\u001b[1;39;49m]\u001b[0m\u001b[39;49m A new release of pip is available: \u001b[0m\u001b[31;49m23.1\u001b[0m\u001b[39;49m -> \u001b[0m\u001b[32;49m23.2.1\u001b[0m\n",
      "\u001b[1m[\u001b[0m\u001b[34;49mnotice\u001b[0m\u001b[1;39;49m]\u001b[0m\u001b[39;49m To update, run: \u001b[0m\u001b[32;49mpip install --upgrade pip\u001b[0m\n"
     ]
    }
   ],
   "source": [
    "import sys\n",
    "!{sys.executable} -m pip install seaborn"
   ]
  },
  {
   "cell_type": "code",
   "execution_count": 5,
   "id": "0b1e512b-9a6a-40e9-b640-555f11c045b7",
   "metadata": {
    "tags": []
   },
   "outputs": [
    {
     "data": {
      "text/html": [
       "\n",
       "    <div class=\"bk-root\">\n",
       "        <a href=\"https://bokeh.org\" target=\"_blank\" class=\"bk-logo bk-logo-small bk-logo-notebook\"></a>\n",
       "        <span id=\"1001\">Loading BokehJS ...</span>\n",
       "    </div>"
      ]
     },
     "metadata": {},
     "output_type": "display_data"
    },
    {
     "data": {
      "application/javascript": [
       "\n",
       "(function(root) {\n",
       "  function now() {\n",
       "    return new Date();\n",
       "  }\n",
       "\n",
       "  var force = true;\n",
       "\n",
       "  if (typeof root._bokeh_onload_callbacks === \"undefined\" || force === true) {\n",
       "    root._bokeh_onload_callbacks = [];\n",
       "    root._bokeh_is_loading = undefined;\n",
       "  }\n",
       "\n",
       "  var JS_MIME_TYPE = 'application/javascript';\n",
       "  var HTML_MIME_TYPE = 'text/html';\n",
       "  var EXEC_MIME_TYPE = 'application/vnd.bokehjs_exec.v0+json';\n",
       "  var CLASS_NAME = 'output_bokeh rendered_html';\n",
       "\n",
       "  /**\n",
       "   * Render data to the DOM node\n",
       "   */\n",
       "  function render(props, node) {\n",
       "    var script = document.createElement(\"script\");\n",
       "    node.appendChild(script);\n",
       "  }\n",
       "\n",
       "  /**\n",
       "   * Handle when an output is cleared or removed\n",
       "   */\n",
       "  function handleClearOutput(event, handle) {\n",
       "    var cell = handle.cell;\n",
       "\n",
       "    var id = cell.output_area._bokeh_element_id;\n",
       "    var server_id = cell.output_area._bokeh_server_id;\n",
       "    // Clean up Bokeh references\n",
       "    if (id != null && id in Bokeh.index) {\n",
       "      Bokeh.index[id].model.document.clear();\n",
       "      delete Bokeh.index[id];\n",
       "    }\n",
       "\n",
       "    if (server_id !== undefined) {\n",
       "      // Clean up Bokeh references\n",
       "      var cmd = \"from bokeh.io.state import curstate; print(curstate().uuid_to_server['\" + server_id + \"'].get_sessions()[0].document.roots[0]._id)\";\n",
       "      cell.notebook.kernel.execute(cmd, {\n",
       "        iopub: {\n",
       "          output: function(msg) {\n",
       "            var id = msg.content.text.trim();\n",
       "            if (id in Bokeh.index) {\n",
       "              Bokeh.index[id].model.document.clear();\n",
       "              delete Bokeh.index[id];\n",
       "            }\n",
       "          }\n",
       "        }\n",
       "      });\n",
       "      // Destroy server and session\n",
       "      var cmd = \"import bokeh.io.notebook as ion; ion.destroy_server('\" + server_id + \"')\";\n",
       "      cell.notebook.kernel.execute(cmd);\n",
       "    }\n",
       "  }\n",
       "\n",
       "  /**\n",
       "   * Handle when a new output is added\n",
       "   */\n",
       "  function handleAddOutput(event, handle) {\n",
       "    var output_area = handle.output_area;\n",
       "    var output = handle.output;\n",
       "\n",
       "    // limit handleAddOutput to display_data with EXEC_MIME_TYPE content only\n",
       "    if ((output.output_type != \"display_data\") || (!output.data.hasOwnProperty(EXEC_MIME_TYPE))) {\n",
       "      return\n",
       "    }\n",
       "\n",
       "    var toinsert = output_area.element.find(\".\" + CLASS_NAME.split(' ')[0]);\n",
       "\n",
       "    if (output.metadata[EXEC_MIME_TYPE][\"id\"] !== undefined) {\n",
       "      toinsert[toinsert.length - 1].firstChild.textContent = output.data[JS_MIME_TYPE];\n",
       "      // store reference to embed id on output_area\n",
       "      output_area._bokeh_element_id = output.metadata[EXEC_MIME_TYPE][\"id\"];\n",
       "    }\n",
       "    if (output.metadata[EXEC_MIME_TYPE][\"server_id\"] !== undefined) {\n",
       "      var bk_div = document.createElement(\"div\");\n",
       "      bk_div.innerHTML = output.data[HTML_MIME_TYPE];\n",
       "      var script_attrs = bk_div.children[0].attributes;\n",
       "      for (var i = 0; i < script_attrs.length; i++) {\n",
       "        toinsert[toinsert.length - 1].firstChild.setAttribute(script_attrs[i].name, script_attrs[i].value);\n",
       "      }\n",
       "      // store reference to server id on output_area\n",
       "      output_area._bokeh_server_id = output.metadata[EXEC_MIME_TYPE][\"server_id\"];\n",
       "    }\n",
       "  }\n",
       "\n",
       "  function register_renderer(events, OutputArea) {\n",
       "\n",
       "    function append_mime(data, metadata, element) {\n",
       "      // create a DOM node to render to\n",
       "      var toinsert = this.create_output_subarea(\n",
       "        metadata,\n",
       "        CLASS_NAME,\n",
       "        EXEC_MIME_TYPE\n",
       "      );\n",
       "      this.keyboard_manager.register_events(toinsert);\n",
       "      // Render to node\n",
       "      var props = {data: data, metadata: metadata[EXEC_MIME_TYPE]};\n",
       "      render(props, toinsert[toinsert.length - 1]);\n",
       "      element.append(toinsert);\n",
       "      return toinsert\n",
       "    }\n",
       "\n",
       "    /* Handle when an output is cleared or removed */\n",
       "    events.on('clear_output.CodeCell', handleClearOutput);\n",
       "    events.on('delete.Cell', handleClearOutput);\n",
       "\n",
       "    /* Handle when a new output is added */\n",
       "    events.on('output_added.OutputArea', handleAddOutput);\n",
       "\n",
       "    /**\n",
       "     * Register the mime type and append_mime function with output_area\n",
       "     */\n",
       "    OutputArea.prototype.register_mime_type(EXEC_MIME_TYPE, append_mime, {\n",
       "      /* Is output safe? */\n",
       "      safe: true,\n",
       "      /* Index of renderer in `output_area.display_order` */\n",
       "      index: 0\n",
       "    });\n",
       "  }\n",
       "\n",
       "  // register the mime type if in Jupyter Notebook environment and previously unregistered\n",
       "  if (root.Jupyter !== undefined) {\n",
       "    var events = require('base/js/events');\n",
       "    var OutputArea = require('notebook/js/outputarea').OutputArea;\n",
       "\n",
       "    if (OutputArea.prototype.mime_types().indexOf(EXEC_MIME_TYPE) == -1) {\n",
       "      register_renderer(events, OutputArea);\n",
       "    }\n",
       "  }\n",
       "\n",
       "  \n",
       "  if (typeof (root._bokeh_timeout) === \"undefined\" || force === true) {\n",
       "    root._bokeh_timeout = Date.now() + 5000;\n",
       "    root._bokeh_failed_load = false;\n",
       "  }\n",
       "\n",
       "  var NB_LOAD_WARNING = {'data': {'text/html':\n",
       "     \"<div style='background-color: #fdd'>\\n\"+\n",
       "     \"<p>\\n\"+\n",
       "     \"BokehJS does not appear to have successfully loaded. If loading BokehJS from CDN, this \\n\"+\n",
       "     \"may be due to a slow or bad network connection. Possible fixes:\\n\"+\n",
       "     \"</p>\\n\"+\n",
       "     \"<ul>\\n\"+\n",
       "     \"<li>re-rerun `output_notebook()` to attempt to load from CDN again, or</li>\\n\"+\n",
       "     \"<li>use INLINE resources instead, as so:</li>\\n\"+\n",
       "     \"</ul>\\n\"+\n",
       "     \"<code>\\n\"+\n",
       "     \"from bokeh.resources import INLINE\\n\"+\n",
       "     \"output_notebook(resources=INLINE)\\n\"+\n",
       "     \"</code>\\n\"+\n",
       "     \"</div>\"}};\n",
       "\n",
       "  function display_loaded() {\n",
       "    var el = document.getElementById(\"1001\");\n",
       "    if (el != null) {\n",
       "      el.textContent = \"BokehJS is loading...\";\n",
       "    }\n",
       "    if (root.Bokeh !== undefined) {\n",
       "      if (el != null) {\n",
       "        el.textContent = \"BokehJS \" + root.Bokeh.version + \" successfully loaded.\";\n",
       "      }\n",
       "    } else if (Date.now() < root._bokeh_timeout) {\n",
       "      setTimeout(display_loaded, 100)\n",
       "    }\n",
       "  }\n",
       "\n",
       "\n",
       "  function run_callbacks() {\n",
       "    try {\n",
       "      root._bokeh_onload_callbacks.forEach(function(callback) {\n",
       "        if (callback != null)\n",
       "          callback();\n",
       "      });\n",
       "    } finally {\n",
       "      delete root._bokeh_onload_callbacks\n",
       "    }\n",
       "    console.debug(\"Bokeh: all callbacks have finished\");\n",
       "  }\n",
       "\n",
       "  function load_libs(css_urls, js_urls, callback) {\n",
       "    if (css_urls == null) css_urls = [];\n",
       "    if (js_urls == null) js_urls = [];\n",
       "\n",
       "    root._bokeh_onload_callbacks.push(callback);\n",
       "    if (root._bokeh_is_loading > 0) {\n",
       "      console.debug(\"Bokeh: BokehJS is being loaded, scheduling callback at\", now());\n",
       "      return null;\n",
       "    }\n",
       "    if (js_urls == null || js_urls.length === 0) {\n",
       "      run_callbacks();\n",
       "      return null;\n",
       "    }\n",
       "    console.debug(\"Bokeh: BokehJS not loaded, scheduling load and callback at\", now());\n",
       "    root._bokeh_is_loading = css_urls.length + js_urls.length;\n",
       "\n",
       "    function on_load() {\n",
       "      root._bokeh_is_loading--;\n",
       "      if (root._bokeh_is_loading === 0) {\n",
       "        console.debug(\"Bokeh: all BokehJS libraries/stylesheets loaded\");\n",
       "        run_callbacks()\n",
       "      }\n",
       "    }\n",
       "\n",
       "    function on_error() {\n",
       "      console.error(\"failed to load \" + url);\n",
       "    }\n",
       "\n",
       "    for (var i = 0; i < css_urls.length; i++) {\n",
       "      var url = css_urls[i];\n",
       "      const element = document.createElement(\"link\");\n",
       "      element.onload = on_load;\n",
       "      element.onerror = on_error;\n",
       "      element.rel = \"stylesheet\";\n",
       "      element.type = \"text/css\";\n",
       "      element.href = url;\n",
       "      console.debug(\"Bokeh: injecting link tag for BokehJS stylesheet: \", url);\n",
       "      document.body.appendChild(element);\n",
       "    }\n",
       "\n",
       "    for (var i = 0; i < js_urls.length; i++) {\n",
       "      var url = js_urls[i];\n",
       "      var element = document.createElement('script');\n",
       "      element.onload = on_load;\n",
       "      element.onerror = on_error;\n",
       "      element.async = false;\n",
       "      element.src = url;\n",
       "      console.debug(\"Bokeh: injecting script tag for BokehJS library: \", url);\n",
       "      document.head.appendChild(element);\n",
       "    }\n",
       "  };var element = document.getElementById(\"1001\");\n",
       "  if (element == null) {\n",
       "    console.error(\"Bokeh: ERROR: autoload.js configured with elementid '1001' but no matching script tag was found. \")\n",
       "    return false;\n",
       "  }\n",
       "\n",
       "  function inject_raw_css(css) {\n",
       "    const element = document.createElement(\"style\");\n",
       "    element.appendChild(document.createTextNode(css));\n",
       "    document.body.appendChild(element);\n",
       "  }\n",
       "\n",
       "  \n",
       "  var js_urls = [\"https://cdn.pydata.org/bokeh/release/bokeh-1.4.0.min.js\", \"https://cdn.pydata.org/bokeh/release/bokeh-widgets-1.4.0.min.js\", \"https://cdn.pydata.org/bokeh/release/bokeh-tables-1.4.0.min.js\", \"https://cdn.pydata.org/bokeh/release/bokeh-gl-1.4.0.min.js\"];\n",
       "  var css_urls = [];\n",
       "  \n",
       "\n",
       "  var inline_js = [\n",
       "    function(Bokeh) {\n",
       "      Bokeh.set_log_level(\"info\");\n",
       "    },\n",
       "    function(Bokeh) {\n",
       "    \n",
       "    \n",
       "    }\n",
       "  ];\n",
       "\n",
       "  function run_inline_js() {\n",
       "    \n",
       "    if (root.Bokeh !== undefined || force === true) {\n",
       "      \n",
       "    for (var i = 0; i < inline_js.length; i++) {\n",
       "      inline_js[i].call(root, root.Bokeh);\n",
       "    }\n",
       "    if (force === true) {\n",
       "        display_loaded();\n",
       "      }} else if (Date.now() < root._bokeh_timeout) {\n",
       "      setTimeout(run_inline_js, 100);\n",
       "    } else if (!root._bokeh_failed_load) {\n",
       "      console.log(\"Bokeh: BokehJS failed to load within specified timeout.\");\n",
       "      root._bokeh_failed_load = true;\n",
       "    } else if (force !== true) {\n",
       "      var cell = $(document.getElementById(\"1001\")).parents('.cell').data().cell;\n",
       "      cell.output_area.append_execute_result(NB_LOAD_WARNING)\n",
       "    }\n",
       "\n",
       "  }\n",
       "\n",
       "  if (root._bokeh_is_loading === 0) {\n",
       "    console.debug(\"Bokeh: BokehJS loaded, going straight to plotting\");\n",
       "    run_inline_js();\n",
       "  } else {\n",
       "    load_libs(css_urls, js_urls, function() {\n",
       "      console.debug(\"Bokeh: BokehJS plotting callback run at\", now());\n",
       "      run_inline_js();\n",
       "    });\n",
       "  }\n",
       "}(window));"
      ],
      "application/vnd.bokehjs_load.v0+json": "\n(function(root) {\n  function now() {\n    return new Date();\n  }\n\n  var force = true;\n\n  if (typeof root._bokeh_onload_callbacks === \"undefined\" || force === true) {\n    root._bokeh_onload_callbacks = [];\n    root._bokeh_is_loading = undefined;\n  }\n\n  \n\n  \n  if (typeof (root._bokeh_timeout) === \"undefined\" || force === true) {\n    root._bokeh_timeout = Date.now() + 5000;\n    root._bokeh_failed_load = false;\n  }\n\n  var NB_LOAD_WARNING = {'data': {'text/html':\n     \"<div style='background-color: #fdd'>\\n\"+\n     \"<p>\\n\"+\n     \"BokehJS does not appear to have successfully loaded. If loading BokehJS from CDN, this \\n\"+\n     \"may be due to a slow or bad network connection. Possible fixes:\\n\"+\n     \"</p>\\n\"+\n     \"<ul>\\n\"+\n     \"<li>re-rerun `output_notebook()` to attempt to load from CDN again, or</li>\\n\"+\n     \"<li>use INLINE resources instead, as so:</li>\\n\"+\n     \"</ul>\\n\"+\n     \"<code>\\n\"+\n     \"from bokeh.resources import INLINE\\n\"+\n     \"output_notebook(resources=INLINE)\\n\"+\n     \"</code>\\n\"+\n     \"</div>\"}};\n\n  function display_loaded() {\n    var el = document.getElementById(\"1001\");\n    if (el != null) {\n      el.textContent = \"BokehJS is loading...\";\n    }\n    if (root.Bokeh !== undefined) {\n      if (el != null) {\n        el.textContent = \"BokehJS \" + root.Bokeh.version + \" successfully loaded.\";\n      }\n    } else if (Date.now() < root._bokeh_timeout) {\n      setTimeout(display_loaded, 100)\n    }\n  }\n\n\n  function run_callbacks() {\n    try {\n      root._bokeh_onload_callbacks.forEach(function(callback) {\n        if (callback != null)\n          callback();\n      });\n    } finally {\n      delete root._bokeh_onload_callbacks\n    }\n    console.debug(\"Bokeh: all callbacks have finished\");\n  }\n\n  function load_libs(css_urls, js_urls, callback) {\n    if (css_urls == null) css_urls = [];\n    if (js_urls == null) js_urls = [];\n\n    root._bokeh_onload_callbacks.push(callback);\n    if (root._bokeh_is_loading > 0) {\n      console.debug(\"Bokeh: BokehJS is being loaded, scheduling callback at\", now());\n      return null;\n    }\n    if (js_urls == null || js_urls.length === 0) {\n      run_callbacks();\n      return null;\n    }\n    console.debug(\"Bokeh: BokehJS not loaded, scheduling load and callback at\", now());\n    root._bokeh_is_loading = css_urls.length + js_urls.length;\n\n    function on_load() {\n      root._bokeh_is_loading--;\n      if (root._bokeh_is_loading === 0) {\n        console.debug(\"Bokeh: all BokehJS libraries/stylesheets loaded\");\n        run_callbacks()\n      }\n    }\n\n    function on_error() {\n      console.error(\"failed to load \" + url);\n    }\n\n    for (var i = 0; i < css_urls.length; i++) {\n      var url = css_urls[i];\n      const element = document.createElement(\"link\");\n      element.onload = on_load;\n      element.onerror = on_error;\n      element.rel = \"stylesheet\";\n      element.type = \"text/css\";\n      element.href = url;\n      console.debug(\"Bokeh: injecting link tag for BokehJS stylesheet: \", url);\n      document.body.appendChild(element);\n    }\n\n    for (var i = 0; i < js_urls.length; i++) {\n      var url = js_urls[i];\n      var element = document.createElement('script');\n      element.onload = on_load;\n      element.onerror = on_error;\n      element.async = false;\n      element.src = url;\n      console.debug(\"Bokeh: injecting script tag for BokehJS library: \", url);\n      document.head.appendChild(element);\n    }\n  };var element = document.getElementById(\"1001\");\n  if (element == null) {\n    console.error(\"Bokeh: ERROR: autoload.js configured with elementid '1001' but no matching script tag was found. \")\n    return false;\n  }\n\n  function inject_raw_css(css) {\n    const element = document.createElement(\"style\");\n    element.appendChild(document.createTextNode(css));\n    document.body.appendChild(element);\n  }\n\n  \n  var js_urls = [\"https://cdn.pydata.org/bokeh/release/bokeh-1.4.0.min.js\", \"https://cdn.pydata.org/bokeh/release/bokeh-widgets-1.4.0.min.js\", \"https://cdn.pydata.org/bokeh/release/bokeh-tables-1.4.0.min.js\", \"https://cdn.pydata.org/bokeh/release/bokeh-gl-1.4.0.min.js\"];\n  var css_urls = [];\n  \n\n  var inline_js = [\n    function(Bokeh) {\n      Bokeh.set_log_level(\"info\");\n    },\n    function(Bokeh) {\n    \n    \n    }\n  ];\n\n  function run_inline_js() {\n    \n    if (root.Bokeh !== undefined || force === true) {\n      \n    for (var i = 0; i < inline_js.length; i++) {\n      inline_js[i].call(root, root.Bokeh);\n    }\n    if (force === true) {\n        display_loaded();\n      }} else if (Date.now() < root._bokeh_timeout) {\n      setTimeout(run_inline_js, 100);\n    } else if (!root._bokeh_failed_load) {\n      console.log(\"Bokeh: BokehJS failed to load within specified timeout.\");\n      root._bokeh_failed_load = true;\n    } else if (force !== true) {\n      var cell = $(document.getElementById(\"1001\")).parents('.cell').data().cell;\n      cell.output_area.append_execute_result(NB_LOAD_WARNING)\n    }\n\n  }\n\n  if (root._bokeh_is_loading === 0) {\n    console.debug(\"Bokeh: BokehJS loaded, going straight to plotting\");\n    run_inline_js();\n  } else {\n    load_libs(css_urls, js_urls, function() {\n      console.debug(\"Bokeh: BokehJS plotting callback run at\", now());\n      run_inline_js();\n    });\n  }\n}(window));"
     },
     "metadata": {},
     "output_type": "display_data"
    },
    {
     "data": {
      "text/plain": [
       "<function bokeh.io.output.output_notebook(resources=None, verbose=False, hide_banner=False, load_timeout=5000, notebook_type='jupyter')>"
      ]
     },
     "execution_count": 5,
     "metadata": {},
     "output_type": "execute_result"
    }
   ],
   "source": [
    "from hail.plot import show\n",
    "from pprint import pprint\n",
    "from bokeh.layouts import gridplot\n",
    "import numpy as np\n",
    "hl.plot.output_notebook()\n",
    "import bokeh\n",
    "from scipy import stats\n",
    "\n",
    "from bokeh.plotting import figure, output_notebook, show\n",
    "output_notebook"
   ]
  },
  {
   "cell_type": "code",
   "execution_count": 6,
   "id": "d250290b-61be-4f7c-8b2e-24e8bb26fc7c",
   "metadata": {
    "tags": []
   },
   "outputs": [],
   "source": [
    "import seaborn as sns\n",
    "import matplotlib.pyplot as plt"
   ]
  },
  {
   "cell_type": "code",
   "execution_count": 7,
   "id": "2aee4886-990b-40d7-bd10-24ed8bc3a5d0",
   "metadata": {
    "tags": []
   },
   "outputs": [],
   "source": [
    "%load_ext autoreload\n",
    "%autoreload 2"
   ]
  },
  {
   "cell_type": "code",
   "execution_count": 8,
   "id": "ffa01bb8-1245-4cc7-a3e2-cec138624d29",
   "metadata": {
    "tags": []
   },
   "outputs": [],
   "source": [
    "from oligogenic_model import (\n",
    "    read_in_pheno_anno_pw,\n",
    "    aggregate_per_burden,\n",
    "    stand_burden,\n",
    "    stand_with_ref,\n",
    "    read_in_pheno_anno_sport,\n",
    "    model_assignment,\n",
    "    read_in_pheno_anno_all\n",
    ")"
   ]
  },
  {
   "cell_type": "markdown",
   "id": "c210595a-879c-423b-a0a4-3ebf1d4c24f8",
   "metadata": {
    "tags": []
   },
   "source": [
    "### Use average burden from polish controls for normalisation (this is the difference between this and the other mode)"
   ]
  },
  {
   "cell_type": "code",
   "execution_count": 8,
   "id": "df500b9d-960e-477b-ab4b-58e67d4b39af",
   "metadata": {
    "tags": []
   },
   "outputs": [
    {
     "name": "stderr",
     "output_type": "stream",
     "text": [
      "2023-09-09 21:03:51.855 Hail: INFO: Reading table without type imputation\n",
      "  Loading field 'f0' as type str (not specified)\n",
      "  Loading field 'f1' as type str (not specified)\n",
      "  Loading field 'f2' as type str (not specified)\n",
      "  Loading field 'f3' as type str (not specified)\n",
      "  Loading field 'f4' as type str (not specified)\n",
      "  Loading field 'f5' as type str (not specified)\n",
      "  Loading field 'f6' as type str (not specified)\n",
      "  Loading field 'f7' as type str (not specified)\n",
      "  Loading field 'f8' as type str (not specified)\n",
      "2023-09-09 21:03:52.854 Hail: INFO: Reading table without type imputation\n",
      "  Loading field 'Gene stable ID' as type str (not specified)\n",
      "  Loading field 'UniProtKB Gene Name symbol' as type str (not specified)\n",
      "2023-09-09 21:03:53.979 Hail: INFO: Reading table to impute column types\n",
      "2023-09-09 21:03:55.022 Hail: INFO: Finished type imputation\n",
      "  Loading field 'ID' as type str (imputed)\n",
      "  Loading field 'family' as type str (imputed)\n",
      "  Loading field 'sex' as type str (imputed)\n",
      "  Loading field 'kinship' as type str (imputed)\n",
      "  Loading field 'disease' as type str (imputed)\n",
      "  Loading field 'phenotype' as type str (imputed)\n",
      "  Loading field 'add_pheno' as type str (imputed)\n",
      "  Loading field 'heavy_tics' as type str (imputed)\n",
      "  Loading field 'heavy_tics_familial' as type str (imputed)\n",
      "  Loading field 'GTS_ASD_group' as type str (imputed)\n",
      "  Loading field 'nonCTD' as type str (imputed)\n",
      "2023-09-09 21:03:59.315 Hail: INFO: Ordering unsorted dataset with network shuffle\n",
      "2023-09-09 21:03:59.804 Hail: INFO: Ordering unsorted dataset with network shuffle\n",
      "2023-09-09 21:04:02.810 Hail: INFO: Ordering unsorted dataset with network shuffle\n",
      "2023-09-09 21:07:26.833 Hail: INFO: wrote matrix table with 6538550 rows and 204 columns in 4388 partitions to /localfs/4736297/gts_sport_for_hist_.mt\n",
      "    Total size: 36.71 GiB\n",
      "    * Rows/entries: 36.71 GiB\n",
      "    * Columns: 25.05 KiB\n",
      "    * Globals: 11.00 B\n",
      "    * Smallest partition: 0 rows (20.00 B)\n",
      "    * Largest partition:  21620 rows (97.04 MiB)\n"
     ]
    }
   ],
   "source": [
    "mt = read_in_pheno_anno_sport(\n",
    "    '/net/pr2/projects/plgrid/plggneuromol/imdik-zekanowski-gts/data/mts/oligogenic-model/gts_and_s.mt',\n",
    "    'gts_sport_for_hist_')"
   ]
  },
  {
   "cell_type": "code",
   "execution_count": null,
   "id": "1f0bacd8-7941-4bdd-a31a-7535b67d1c69",
   "metadata": {
    "tags": []
   },
   "outputs": [
    {
     "name": "stderr",
     "output_type": "stream",
     "text": [
      "[Stage 18:============>                                        (114 + 12) / 488]\r"
     ]
    }
   ],
   "source": [
    "reference = aggregate_per_burden(mt, 'gts_sport_for_hist_2')"
   ]
  },
  {
   "cell_type": "code",
   "execution_count": null,
   "id": "8072490b-5b47-47a0-9c9f-cb22f1c47394",
   "metadata": {
    "tags": []
   },
   "outputs": [],
   "source": [
    "reference = stand_burden(reference, 'gts_sport_for_hist_3')"
   ]
  },
  {
   "cell_type": "code",
   "execution_count": null,
   "id": "ae235c8a-21d0-446a-8d0e-ddb4ecf4a7db",
   "metadata": {
    "tags": []
   },
   "outputs": [],
   "source": [
    "reference = hl.read_matrix_table(localfs_path+'gts_sport_for_hist_3stand_per_gene.mt')"
   ]
  },
  {
   "cell_type": "code",
   "execution_count": null,
   "id": "9f302154-a3f7-4075-9b34-437175dd2b29",
   "metadata": {
    "tags": []
   },
   "outputs": [],
   "source": [
    "mt_all = read_in_pheno_anno_all(\n",
    "    '/net/pr2/projects/plgrid/plggneuromol/imdik-zekanowski-gts/data/mts/oligogenic-model/gts_and_s.mt',\n",
    "    'gts_sport_for_hist_all'\n",
    ")"
   ]
  },
  {
   "cell_type": "code",
   "execution_count": null,
   "id": "fd5e5ba1-cbcb-4ee4-aba6-30bf66350fa8",
   "metadata": {
    "tags": []
   },
   "outputs": [],
   "source": [
    "mt_all = aggregate_per_burden(mt_all, 'gts_sport_all')"
   ]
  },
  {
   "cell_type": "code",
   "execution_count": null,
   "id": "811f1115-2910-4de0-9ac3-d386cec0e675",
   "metadata": {
    "tags": []
   },
   "outputs": [],
   "source": [
    "mt_all.describe()"
   ]
  },
  {
   "cell_type": "code",
   "execution_count": null,
   "id": "3a7bdfb2-3901-490b-b917-79beca689ec4",
   "metadata": {
    "tags": []
   },
   "outputs": [],
   "source": [
    "mt_all = hl.read_matrix_table(localfs_path+'gts_sport_allper_burden_agg.mt')"
   ]
  },
  {
   "cell_type": "code",
   "execution_count": null,
   "id": "48aba857-d36a-4c5c-863a-7ee052208b2c",
   "metadata": {
    "tags": []
   },
   "outputs": [],
   "source": [
    "mt_all = stand_with_ref(\n",
    "    mt_all,\n",
    "    reference,\n",
    "    'stand_with_gts_sport_4'\n",
    ")"
   ]
  },
  {
   "cell_type": "code",
   "execution_count": 9,
   "id": "b7708cef-3c98-4cec-ada6-42155c4b6f04",
   "metadata": {
    "tags": []
   },
   "outputs": [],
   "source": [
    "mt = hl.read_matrix_table(localfs_path+'stand_with_gts_sport_4stand_per_gene_with_ref.mt')"
   ]
  },
  {
   "cell_type": "code",
   "execution_count": 10,
   "id": "827fdd5b-f8da-4d96-98d5-8a93faf489bf",
   "metadata": {
    "tags": []
   },
   "outputs": [],
   "source": [
    "cadds = [0,5,10]"
   ]
  },
  {
   "cell_type": "code",
   "execution_count": 11,
   "id": "0bb47e7b-6e7b-4bba-9aa1-3a1d27ea0d88",
   "metadata": {
    "tags": []
   },
   "outputs": [
    {
     "data": {
      "text/plain": [
       "(17844, 287)"
      ]
     },
     "execution_count": 11,
     "metadata": {},
     "output_type": "execute_result"
    }
   ],
   "source": [
    "mt.count()"
   ]
  },
  {
   "cell_type": "markdown",
   "id": "3f4ffeb5-b8b5-4dfa-9c9b-1b5c4873f2a3",
   "metadata": {},
   "source": [
    "### Draw a per-group histogram of oligogenic scores"
   ]
  },
  {
   "cell_type": "code",
   "execution_count": 12,
   "id": "795b8f98-6dba-47ab-a9cf-26bb8600da63",
   "metadata": {
    "tags": []
   },
   "outputs": [],
   "source": [
    "genes = ['CHADL', 'DRD2', 'MAOA', 'PCDH10', 'HTR2A', 'SLITRK5', 'SORCS3', 'KCNQ5', 'CDH9', 'CHD8']"
   ]
  },
  {
   "cell_type": "code",
   "execution_count": 13,
   "id": "d0098e36-e56f-41bd-ad32-e1f06deb2615",
   "metadata": {
    "tags": []
   },
   "outputs": [],
   "source": [
    "mt = mt.filter_rows(\n",
    "        hl.literal(genes).contains(mt.nearest_genes_20kb)\n",
    "    )"
   ]
  },
  {
   "cell_type": "code",
   "execution_count": 14,
   "id": "394556db-e678-4227-8e8e-9049f02dfe6d",
   "metadata": {
    "tags": []
   },
   "outputs": [],
   "source": [
    "mt = mt.distinct_by_col()"
   ]
  },
  {
   "cell_type": "code",
   "execution_count": 15,
   "id": "cc75cc84-bc8c-4e8a-99b2-d82fc4a4477f",
   "metadata": {
    "tags": []
   },
   "outputs": [],
   "source": [
    "cadds = [0,5,10]"
   ]
  },
  {
   "cell_type": "code",
   "execution_count": 16,
   "id": "417b35b1-7bda-4993-81c2-7d72fbaca5b8",
   "metadata": {
    "tags": []
   },
   "outputs": [],
   "source": [
    "assignments = mt.annotate_cols(\n",
    "        **{\n",
    "            f'n_non_ref_above_cadd_sum_{c}': hl.agg.sum(mt[f'per_gene_stdev_above_cadd_{c}'])\n",
    "            for c in cadds\n",
    "        },\n",
    "        **{\n",
    "            f'n_non_ref_weited_above_cadd_sum_{c}': hl.agg.sum(mt[f'per_gene_stdev_weited_above_cadd_{c}'])\n",
    "            for c in cadds\n",
    "        }\n",
    "    )"
   ]
  },
  {
   "cell_type": "code",
   "execution_count": 17,
   "id": "3b870062-5882-4638-8785-8f8f90103dc3",
   "metadata": {},
   "outputs": [],
   "source": [
    "assignments = assignments.annotate_cols(\n",
    "    test_group = hl.if_else(\n",
    "        assignments.group == 'local_controls',\n",
    "        'controls',\n",
    "        hl.if_else(\n",
    "            assignments.phenotypes.disease == 'NO',\n",
    "            'healthy family members',\n",
    "            hl.if_else(\n",
    "                ((assignments.phenotypes.phenotype == 'GTS') & (assignments.phenotypes.family == '.')),\n",
    "                'severe GTS',\n",
    "                 hl.if_else(\n",
    "                     assignments.phenotypes.phenotype == 'GTS',\n",
    "                     'GTS',\n",
    "                     'non-GTS TDs'\n",
    "                 )\n",
    "            )\n",
    "        )\n",
    "    )\n",
    ")"
   ]
  },
  {
   "cell_type": "code",
   "execution_count": 18,
   "id": "e219faf0-d4e7-4095-b267-9d6568cee127",
   "metadata": {
    "tags": []
   },
   "outputs": [
    {
     "data": {
      "text/plain": [
       "{'GTS': 47,\n",
       " 'controls': 102,\n",
       " 'healthy family members': 55,\n",
       " 'non-GTS TDs': 42,\n",
       " 'severe GTS': 40}"
      ]
     },
     "execution_count": 18,
     "metadata": {},
     "output_type": "execute_result"
    }
   ],
   "source": [
    "assignments.aggregate_cols(hl.agg.counter(assignments.test_group))"
   ]
  },
  {
   "cell_type": "code",
   "execution_count": 19,
   "id": "174d6055-ad92-482c-8a0b-f8e5a4ae60b4",
   "metadata": {
    "tags": []
   },
   "outputs": [],
   "source": [
    "assignments = assignments.filter_cols(assignments.n_non_ref_above_cadd_sum_0 > -30)\n",
    "# this excludes the low quality samples"
   ]
  },
  {
   "cell_type": "code",
   "execution_count": 20,
   "id": "ce957730-135f-4eac-9581-16f13ff79aa8",
   "metadata": {
    "tags": []
   },
   "outputs": [],
   "source": [
    "def make_score_hist(assignments):\n",
    "    \n",
    "    sns.set(rc={'figure.figsize':(14,10)})\n",
    "    all_ass = np.array(assignments.n_non_ref_above_cadd_sum_0.collect())\n",
    "    \n",
    "    groups = ['GTS_familial',\n",
    "              'GTS_sporadic',\n",
    "              'healthy_family_members',\n",
    "              'sport',\n",
    "              'tics']\n",
    "    \n",
    "    all_samples = np.array(assignments.test_group.collect())\n",
    "    \n",
    "    \n",
    "    for group in groups:\n",
    "   \n",
    "        subset = all_ass[np.where(all_samples == group)]\n",
    "        palette = {\n",
    "            'sport':sns.diverging_palette(220, 20)[0],\n",
    "            'healthy_family_members':sns.diverging_palette(220, 20)[1],\n",
    "            'tics':sns.diverging_palette(220, 20)[2],\n",
    "            'GTS_familial':sns.diverging_palette(220, 20)[3],\n",
    "            'GTS_sporadic':sns.diverging_palette(220, 20)[4]\n",
    "        }\n",
    "        \n",
    "       \n",
    "        # Draw the density plot\n",
    "        sns.histplot(subset, kde = True,\n",
    "                     label = group,\n",
    "                     stat=\"percent\",\n",
    "                     kde_kws=dict(cut=3),\n",
    "                     alpha=.4,\n",
    "                     binrange=[-10,10],\n",
    "                     binwidth=1,\n",
    "                     color=palette[group]\n",
    "                    )\n",
    "        \n",
    "\n",
    "    \n",
    "    # Plot formatting\n",
    "    plt.legend(prop={'size': 16}, title = 'Airline')\n",
    "    plt.title('Density Plot with Multiple Airlines')\n",
    "    plt.xlabel('Delay (min)')\n",
    "    plt.ylabel('Density')\n",
    "    plt.savefig(\"hists.png\")\n",
    "    \n",
    "    \n",
    "    return(plt)"
   ]
  },
  {
   "cell_type": "code",
   "execution_count": 21,
   "id": "509b00ce-a3f7-4cae-b958-38bf77d858e0",
   "metadata": {
    "tags": []
   },
   "outputs": [],
   "source": [
    "def make_score_box(assignments):\n",
    "      \n",
    "    sns.set(rc={'figure.figsize':(10,8)})\n",
    "    sns.set(font_scale=1.5)\n",
    "    sns.set_style(\"ticks\")\n",
    "    \n",
    "    #plt.xticks(rotation=45)\n",
    "    all_ass = np.array(assignments.n_non_ref_above_cadd_sum_0.collect())\n",
    "    \n",
    "    groups = ['GTS',\n",
    "              'controls',\n",
    "              'healthy family members',\n",
    "              'non-GTS TDs',\n",
    "              'severe GTS']\n",
    "    \n",
    "    palette = {\n",
    "            'controls':sns.diverging_palette(220, 20)[0],\n",
    "            'healthy family members':sns.diverging_palette(220, 20)[1],\n",
    "            'non-GTS TDs':sns.diverging_palette(220, 20)[2],\n",
    "            'GTS':sns.diverging_palette(220, 20)[3],\n",
    "            'severe GTS':sns.diverging_palette(220, 20)[4]\n",
    "        }\n",
    "    \n",
    "    all_samples = np.array(assignments.test_group.collect())\n",
    "    \n",
    "    sns.boxplot(\n",
    "        x=all_samples,\n",
    "        y=all_ass,\n",
    "        hue=all_samples,\n",
    "        dodge=False,\n",
    "        palette=palette,     \n",
    "        order=[\n",
    "               'controls',\n",
    "               'healthy family members',\n",
    "               'non-GTS TDs',\n",
    "               'GTS',\n",
    "               'severe GTS']\n",
    "    )\n",
    "    \n",
    "    \n",
    "    # Plot formatting\n",
    "    plt.title('oligogenic score per group')\n",
    "    plt.xlabel('group')\n",
    "    plt.ylabel('score value')\n",
    "    plt.legend([],[], frameon=False)\n",
    "    \n",
    "    plt.xticks(rotation=45)\n",
    "    \n",
    "    sns.despine()\n",
    "    plt.savefig(\"box.png\")\n",
    "\n",
    "    \n",
    "    return(plt)"
   ]
  },
  {
   "cell_type": "code",
   "execution_count": 22,
   "id": "1458b5ff-6faa-47ac-991a-804310e082d7",
   "metadata": {
    "tags": []
   },
   "outputs": [
    {
     "data": {
      "image/png": "[encoded data removed]",
      "text/plain": [
       "<Figure size 1000x800 with 1 Axes>"
      ]
     },
     "metadata": {},
     "output_type": "display_data"
    }
   ],
   "source": [
    "p = make_score_box(assignments)"
   ]
  },
  {
   "cell_type": "code",
   "execution_count": 23,
   "id": "c56bde2a-1f28-4728-8f80-c04c93da161e",
   "metadata": {
    "tags": []
   },
   "outputs": [],
   "source": [
    "from scipy.stats import f_oneway"
   ]
  },
  {
   "cell_type": "code",
   "execution_count": 24,
   "id": "e5255cad-5fbf-459a-9838-f83a64dffecf",
   "metadata": {
    "tags": []
   },
   "outputs": [],
   "source": [
    "all_ass = np.array(assignments.n_non_ref_above_cadd_sum_0.collect())\n",
    "all_samples = np.array(assignments.test_group.collect())\n",
    "    \n",
    "subsets = []\n",
    "\n",
    "groups = ['GTS',\n",
    "          'controls',\n",
    "          'healthy family members',\n",
    "          'non-GTS TDs',\n",
    "          'severe GTS']\n",
    "\n",
    "for group in groups:\n",
    "    subsets.append(all_ass[np.where(all_samples == group)]) "
   ]
  },
  {
   "cell_type": "code",
   "execution_count": 27,
   "id": "edf883a9-3d13-4d4a-97c9-f120c99ccb2c",
   "metadata": {
    "tags": []
   },
   "outputs": [
    {
     "name": "stdout",
     "output_type": "stream",
     "text": [
      "GTS\n",
      "ShapiroResult(statistic=0.9903865456581116, pvalue=0.9658746719360352)\n",
      "controls\n",
      "ShapiroResult(statistic=0.9854888916015625, pvalue=0.3306565284729004)\n",
      "healthy family members\n",
      "ShapiroResult(statistic=0.9900866150856018, pvalue=0.9298732280731201)\n",
      "non-GTS TDs\n",
      "ShapiroResult(statistic=0.963097095489502, pvalue=0.22590790688991547)\n",
      "severe GTS\n",
      "ShapiroResult(statistic=0.9756730794906616, pvalue=0.5490260720252991)\n"
     ]
    }
   ],
   "source": [
    "for idx,sub in enumerate(subsets):\n",
    "    print(groups[idx])\n",
    "    print(stats.shapiro(sub))"
   ]
  },
  {
   "cell_type": "code",
   "execution_count": 25,
   "id": "9f97bde7-b936-4d5d-a277-4505b335e740",
   "metadata": {
    "tags": []
   },
   "outputs": [
    {
     "data": {
      "text/plain": [
       "F_onewayResult(statistic=6.245021085651749, pvalue=7.989712982062609e-05)"
      ]
     },
     "execution_count": 25,
     "metadata": {},
     "output_type": "execute_result"
    }
   ],
   "source": [
    "f_oneway(*subsets)"
   ]
  },
  {
   "cell_type": "code",
   "execution_count": 28,
   "id": "25be917f-153d-4521-a19e-4eef0adf962c",
   "metadata": {
    "tags": []
   },
   "outputs": [
    {
     "name": "stdout",
     "output_type": "stream",
     "text": [
      "GTS vs controls Ttest_indResult(statistic=1.836844196427626, pvalue=0.06826641828427835)\n",
      "GTS vs healthy family members Ttest_indResult(statistic=2.692405934688229, pvalue=0.008331011236255395)\n",
      "severe GTS vs healthy family members Ttest_indResult(statistic=4.6118484811578515, pvalue=1.2853824903624763e-05)\n",
      "GTS vs severe GTS Ttest_indResult(statistic=-1.9233445634362347, pvalue=0.05786545202625514)\n",
      "healthy family members vs non-GTS TDs Ttest_indResult(statistic=-2.2978707977788124, pvalue=0.023835718644081842)\n",
      "GTS vs non-GTS TDs Ttest_indResult(statistic=0.23396954249272944, pvalue=0.8155847660403754)\n",
      "non-GTS TDs vs severe GTS Ttest_indResult(statistic=-2.041672236641259, pvalue=0.04465463398753503)\n",
      "non-GTS TDs vs controls Ttest_indResult(statistic=1.4533295698209463, pvalue=0.14838623240066182)\n",
      "controls vs healthy family members Ttest_indResult(statistic=1.10278336579664, pvalue=0.2718305360673089)\n",
      "severe GTS vs controls Ttest_indResult(statistic=3.9287313051593817, pvalue=0.00013401548005038816)\n"
     ]
    }
   ],
   "source": [
    "print(groups[0], 'vs', groups[1], stats.ttest_ind(subsets[0], subsets[1]))\n",
    "\n",
    "print(groups[0], 'vs', groups[2], stats.ttest_ind(subsets[0], subsets[2]))\n",
    "\n",
    "print(groups[4], 'vs', groups[2], stats.ttest_ind(subsets[4], subsets[2]))\n",
    "\n",
    "print(groups[0], 'vs', groups[4], stats.ttest_ind(subsets[0], subsets[4]))\n",
    "\n",
    "print(groups[2], 'vs', groups[3], stats.ttest_ind(subsets[2], subsets[3]))\n",
    "\n",
    "print(groups[0], 'vs', groups[3], stats.ttest_ind(subsets[0], subsets[3]))\n",
    "\n",
    "print(groups[3], 'vs', groups[4], stats.ttest_ind(subsets[3], subsets[4]))\n",
    "\n",
    "print(groups[3], 'vs', groups[1], stats.ttest_ind(subsets[3], subsets[1]))\n",
    "\n",
    "print(groups[1], 'vs', groups[2], stats.ttest_ind(subsets[1], subsets[2]))\n",
    "\n",
    "print(groups[4], 'vs', groups[1], stats.ttest_ind(subsets[4], subsets[1]))"
   ]
  },
  {
   "cell_type": "code",
   "execution_count": 30,
   "id": "4f3c07ba-b624-47c6-925a-d3ca22906a04",
   "metadata": {
    "tags": []
   },
   "outputs": [
    {
     "data": {
      "text/plain": [
       "{'F': 69, 'M': 110, None: 102}"
      ]
     },
     "execution_count": 30,
     "metadata": {},
     "output_type": "execute_result"
    }
   ],
   "source": [
    "assignments.aggregate_cols(hl.agg.counter(assignments.phenotypes.sex))"
   ]
  },
  {
   "cell_type": "code",
   "execution_count": 31,
   "id": "ca8dc71b-e160-48e6-a774-77ec22cd412e",
   "metadata": {
    "tags": []
   },
   "outputs": [],
   "source": [
    "sport_f = ['B434', 'B437', 'B440', 'B447', 'B514', 'B519', 'B521']"
   ]
  },
  {
   "cell_type": "code",
   "execution_count": 33,
   "id": "6b7bd070-66d6-4640-9da7-76ea1df18b93",
   "metadata": {},
   "outputs": [],
   "source": [
    "# check boxplot for sex:\n",
    "\n",
    "assignments = assignments.annotate_cols(\n",
    "    sex = hl.if_else(\n",
    "        assignments.group == 'local_controls',\n",
    "        hl.if_else(\n",
    "            hl.literal(sport_f).contains(assignments.s),\n",
    "            'F',\n",
    "            'M'\n",
    "        ),\n",
    "        assignments.phenotypes.sex\n",
    "    )\n",
    ")"
   ]
  },
  {
   "cell_type": "code",
   "execution_count": 34,
   "id": "18c43cc6-b4bd-407d-9ed1-71a36c74f97f",
   "metadata": {
    "tags": []
   },
   "outputs": [],
   "source": [
    "def make_score_box(assignments):\n",
    "      \n",
    "    sns.set(rc={'figure.figsize':(10,8)})\n",
    "    sns.set(font_scale=1.5)\n",
    "    sns.set_style(\"ticks\")\n",
    "    \n",
    "    #plt.xticks(rotation=45)\n",
    "    all_ass = np.array(assignments.n_non_ref_above_cadd_sum_0.collect())\n",
    "    \n",
    "    groups = ['F',\n",
    "              'M']\n",
    "    \n",
    "    palette = {\n",
    "            'F':sns.diverging_palette(220, 20)[0],\n",
    "            'M':sns.diverging_palette(220, 20)[4]\n",
    "        }\n",
    "    \n",
    "    all_samples = np.array(assignments.sex.collect())\n",
    "    \n",
    "    sns.boxplot(\n",
    "        x=all_samples,\n",
    "        y=all_ass,\n",
    "        hue=all_samples,\n",
    "        dodge=False,\n",
    "        palette=palette,     \n",
    "        order=[\n",
    "        'F',\n",
    "        'M'\n",
    "        ]\n",
    "    )\n",
    "    \n",
    "    \n",
    "    # Plot formatting\n",
    "    plt.title('oligogenic score per sex')\n",
    "    plt.xlabel('group')\n",
    "    plt.ylabel('score value')\n",
    "    plt.legend([],[], frameon=False)\n",
    "    \n",
    "    plt.xticks(rotation=45)\n",
    "    \n",
    "    sns.despine()\n",
    "    plt.savefig(\"box.png\")\n",
    "\n",
    "    \n",
    "    return(plt)"
   ]
  },
  {
   "cell_type": "code",
   "execution_count": 35,
   "id": "ebe4edbc-1795-42ee-8f4d-af69a8b29b0e",
   "metadata": {
    "tags": []
   },
   "outputs": [
    {
     "data": {
      "image/png": "[encoded data removed]",
      "text/plain": [
       "<Figure size 1000x800 with 1 Axes>"
      ]
     },
     "metadata": {},
     "output_type": "display_data"
    }
   ],
   "source": [
    "p = make_score_box(assignments)"
   ]
  },
  {
   "cell_type": "code",
   "execution_count": 41,
   "id": "5bf7e182-a3ed-4266-90e8-cb61dc78cfe7",
   "metadata": {
    "tags": []
   },
   "outputs": [],
   "source": [
    "all_ass = np.array(assignments.n_non_ref_above_cadd_sum_0.collect())\n",
    "all_samples = np.array(assignments.sex.collect())\n",
    "    \n",
    "subsets = []\n",
    "\n",
    "groups = ['M',\n",
    "         'F']\n",
    "\n",
    "for group in groups:\n",
    "    subsets.append(all_ass[np.where(all_samples == group)]) \n",
    "\n",
    "print(groups[0], 'vs', groups[1], stats.ttest_ind(subsets[0], subsets[1]))"
   ]
  },
  {
   "cell_type": "code",
   "execution_count": 42,
   "id": "41183d0b-8782-4207-a176-c87651522678",
   "metadata": {
    "tags": []
   },
   "outputs": [
    {
     "data": {
      "text/plain": [
       "{'.': 122,\n",
       " 'ADHD': 3,\n",
       " 'ADHDANX': 2,\n",
       " 'ADHDMDDANX': 4,\n",
       " 'ADHDOCD': 1,\n",
       " 'ADHDOCDANX': 3,\n",
       " 'ADHDOCDMDD': 1,\n",
       " 'ADHDOCDMDDANX': 4,\n",
       " 'ANX': 8,\n",
       " 'ASD': 8,\n",
       " 'ASDADHD': 1,\n",
       " 'ASDADHDANX': 1,\n",
       " 'ASDMDDANX': 1,\n",
       " 'MDD': 2,\n",
       " 'OCD': 6,\n",
       " 'OCDMDD': 4,\n",
       " 'OCDMDDANX': 7,\n",
       " 'SCHIMDDANX': 1,\n",
       " None: 102}"
      ]
     },
     "execution_count": 42,
     "metadata": {},
     "output_type": "execute_result"
    }
   ],
   "source": [
    "assignments.aggregate_cols(hl.agg.counter(assignments.phenotypes.add_pheno))"
   ]
  },
  {
   "cell_type": "code",
   "execution_count": 75,
   "id": "d698c36d-2d90-4f60-9183-23fb9be01c20",
   "metadata": {
    "tags": []
   },
   "outputs": [],
   "source": [
    "# boxplot per commorbidity:\n",
    "\n",
    "\n",
    "coms = ['ASD', 'MDD', 'ADHD', 'OCD', 'ANX']\n",
    "\n",
    "assignments = assignments.annotate_cols(\n",
    "    **{\n",
    "        com: hl.if_else(assignments.phenotypes.add_pheno.contains(com), com, f'no {com}')\n",
    "            for com in coms\n",
    "        }\n",
    ")"
   ]
  },
  {
   "cell_type": "code",
   "execution_count": 78,
   "id": "0537c10a-d7b6-4870-8687-a828435d1cf5",
   "metadata": {
    "tags": []
   },
   "outputs": [],
   "source": [
    "def make_box_com(assignments, com):\n",
    "      \n",
    "    sns.set(rc={'figure.figsize':(10,8)})\n",
    "    sns.set(font_scale=1.5)\n",
    "    sns.set_style(\"ticks\")\n",
    "    \n",
    "    all_ass = np.array(assignments.n_non_ref_above_cadd_sum_0.collect())\n",
    "    \n",
    "    palette = {\n",
    "        com:sns.diverging_palette(220, 20)[0],\n",
    "        f'no {com}':sns.diverging_palette(220, 20)[4]\n",
    "        }\n",
    "    \n",
    "    all_samples = np.array(assignments[com].collect())\n",
    "    \n",
    "    sns.boxplot(\n",
    "        x=all_samples,\n",
    "        y=all_ass,\n",
    "        hue=all_samples,\n",
    "        dodge=False,\n",
    "        palette=palette\n",
    "    )\n",
    "    \n",
    "    \n",
    "    # Plot formatting\n",
    "    plt.title(f'oligogenic score per comorbidity:{com}')\n",
    "    plt.xlabel('group')\n",
    "    plt.ylabel('score value')\n",
    "    plt.legend([],[], frameon=False)\n",
    "    \n",
    "    plt.xticks(rotation=45)\n",
    "    \n",
    "    sns.despine()\n",
    "    plt.savefig(f'box{com}.png')\n",
    "    plt.clf()\n",
    "    return(plt)\n",
    "    "
   ]
  },
  {
   "cell_type": "code",
   "execution_count": 80,
   "id": "75bcbde8-487e-4b51-a679-ddd99ec6f7a7",
   "metadata": {
    "tags": []
   },
   "outputs": [
    {
     "name": "stdout",
     "output_type": "stream",
     "text": [
      "ASD vs no ASD Ttest_indResult(statistic=-0.330538842474438, pvalue=0.7413837792636597)\n",
      "MDD vs no MDD Ttest_indResult(statistic=1.6814943198074273, pvalue=0.09443051214773403)\n",
      "ADHD vs no ADHD Ttest_indResult(statistic=1.2054033664007704, pvalue=0.2296566403360712)\n",
      "OCD vs no OCD Ttest_indResult(statistic=0.6886955762735656, pvalue=0.4919165688512669)\n",
      "ANX vs no ANX Ttest_indResult(statistic=2.196971730011964, pvalue=0.02932139234162486)\n"
     ]
    },
    {
     "data": {
      "text/plain": [
       "<Figure size 1000x800 with 0 Axes>"
      ]
     },
     "metadata": {},
     "output_type": "display_data"
    }
   ],
   "source": [
    "coms = ['ASD', 'MDD', 'ADHD', 'OCD', 'ANX']\n",
    "\n",
    "for com in coms:\n",
    "    make_box_com(assignments, com)\n",
    "    \n",
    "    all_ass = np.array(assignments.n_non_ref_above_cadd_sum_0.collect())\n",
    "    all_samples = np.array(assignments[com].collect())\n",
    "\n",
    "    subsets = []\n",
    "\n",
    "    groups = [com,\n",
    "             f'no {com}']\n",
    "\n",
    "    for group in groups:\n",
    "        subsets.append(all_ass[np.where(all_samples == group)]) \n",
    "\n",
    "    print(groups[0], 'vs', groups[1], stats.ttest_ind(subsets[0], subsets[1]))"
   ]
  },
  {
   "cell_type": "code",
   "execution_count": null,
   "id": "2c2ffa68-db5a-48c3-ba09-b75248861109",
   "metadata": {},
   "outputs": [],
   "source": []
  }
 ],
 "metadata": {
  "kernelspec": {
   "display_name": "Python 3 (ipykernel)",
   "language": "python",
   "name": "python3"
  },
  "language_info": {
   "codemirror_mode": {
    "name": "ipython",
    "version": 3
   },
   "file_extension": ".py",
   "mimetype": "text/x-python",
   "name": "python",
   "nbconvert_exporter": "python",
   "pygments_lexer": "ipython3",
   "version": "3.10.4"
  }
 },
 "nbformat": 4,
 "nbformat_minor": 5
}
