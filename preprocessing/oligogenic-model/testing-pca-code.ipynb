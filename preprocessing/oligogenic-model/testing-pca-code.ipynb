{
 "cells": [
  {
   "cell_type": "code",
   "execution_count": 1,
   "id": "73d62f84-1629-47b9-9835-a03cc2eefd05",
   "metadata": {
    "tags": []
   },
   "outputs": [
    {
     "name": "stderr",
     "output_type": "stream",
     "text": [
      "WARNING: An illegal reflective access operation has occurred\n",
      "WARNING: Illegal reflective access by org.apache.spark.unsafe.Platform (file:/net/pr2/projects/plgrid/plggneuromol/imdik-zekanowski-gts/venv-hail-0.2.105/lib/python3.10/site-packages/pyspark/jars/spark-unsafe_2.12-3.1.3.jar) to constructor java.nio.DirectByteBuffer(long,int)\n",
      "WARNING: Please consider reporting this to the maintainers of org.apache.spark.unsafe.Platform\n",
      "WARNING: Use --illegal-access=warn to enable warnings of further illegal reflective access operations\n",
      "WARNING: All illegal access operations will be denied in a future release\n"
     ]
    },
    {
     "name": "stdout",
     "output_type": "stream",
     "text": [
      "2023-03-29 20:12:41.335 WARN  NativeCodeLoader:60 - Unable to load native-hadoop library for your platform... using builtin-java classes where applicable\n"
     ]
    },
    {
     "name": "stderr",
     "output_type": "stream",
     "text": [
      "Setting default log level to \"WARN\".\n",
      "To adjust logging level use sc.setLogLevel(newLevel). For SparkR, use setLogLevel(newLevel).\n",
      "Running on Apache Spark version 3.1.3\n",
      "SparkUI available at http://ac0746:4040\n",
      "Welcome to\n",
      "     __  __     <>__\n",
      "    / /_/ /__  __/ /\n",
      "   / __  / _ `/ / /\n",
      "  /_/ /_/\\_,_/_/_/   version 0.2.109-b71b065e4bb6\n",
      "LOGGING: writing to /net/pr2/projects/plgrid/plggneuromol/imdik-zekanowski-gts/preprocessing/oligogenic-model/hail-20230329-2012-0.2.109-b71b065e4bb6.log\n"
     ]
    }
   ],
   "source": [
    "import hail as hl\n",
    "\n",
    "hl.init(\n",
    "    tmp_dir='/net/ascratch/people/plggosborcz/gosborcz-hail',\n",
    "    spark_conf={'spark.driver.memory': '30G', 'spark.executor.memory': '10G'}, # I don't know what should be here\n",
    "    default_reference='GRCh38') "
   ]
  },
  {
   "cell_type": "code",
   "execution_count": null,
   "id": "b1b0a8a4-08fb-4bbb-8024-cc992ef43015",
   "metadata": {},
   "outputs": [],
   "source": [
    "# run PCA\n",
    "# first prepare a matrix for PCA by LD pruning and MAF > 0.05 filter\n",
    "# consider WGS_8 and WGS_5 to delete - do this after keeping only founders of the families\n",
    "\n",
    "for_pca = mt.filter_rows(mt.variant_qc.AF[1] > 0.05)\n",
    "biallelic_dataset = for_pca.filter_rows(hl.len(for_pca.alleles) == 2)\n",
    "pruned_variant_table = hl.ld_prune(biallelic_dataset.GT, r2=0.2, bp_window_size=500000)\n",
    "for_pca = for_pca.filter_rows(hl.is_defined(pruned_variant_table[for_pca.row_key]))\n",
    "\n",
    "for_pca = for_pca.checkpoint(\n",
    "    '/net/pr2/projects/plgrid/plggneuromol/imdik-zekanowski-gts/data/mts/oligogenic-model/to-delete-for-pca.mt'\n",
    ")\n",
    "\n",
    "# after initial check only keep one founder sample per family and skip the rest\n",
    "eigenvalues, pcs, _ = hl.hwe_normalized_pca(for_pca.GT)\n",
    "mt = mt.annotate_cols(scores = pcs[mt.s].scores)\n",
    "\n",
    "from hail.plot import show\n",
    "from pprint import pprint\n",
    "hl.plot.output_notebook()\n",
    "\n",
    "p = hl.plot.scatter(mt.scores[0],\n",
    "                    mt.scores[1],\n",
    "                    label=mt.group,\n",
    "                    title='PCA', xlabel='PC1', ylabel='PC2')\n",
    "show(p) #these for now are far away from each other but for SKAT it may be different,\n",
    "\n",
    "#split multiallelic variants\n",
    "#annotate per-gene (with interval)\n",
    "\n",
    "# add synthetic controls from the Polish database\n",
    "#run SKAT"
   ]
  },
  {
   "cell_type": "code",
   "execution_count": 9,
   "id": "3067b80a-7d1e-49bb-a55b-e396e4262255",
   "metadata": {
    "tags": []
   },
   "outputs": [],
   "source": [
    "genes = ['DCC', 'RBFOX', 'SLC30A9', 'DCAF4L1', 'SORCS3', 'KCNQ5', 'KCNQ-IT1', 'APOPT1', 'C14orf2', 'NAA11', 'NEGR1',\n",
    "        'CHADL', 'SOX5', 'PANK2', 'COL27A1', 'PDGFB', 'CELSR3', 'OPA1', 'FBN2', 'WWC1', 'NIPBL', \n",
    "             'FN1', 'FBN2', 'SLITRK1', 'SLITRK2', 'SLITRK3', 'SLITRK4', 'SLITRK5', 'SLITRK6', \n",
    "             'HDC', 'OPRK1', 'PCDH10', 'NTSR2', 'CHD8', 'SCUBE1', 'PNKD', 'CNTNAP2', 'MOG', \n",
    "             'DRD2', 'DRD3', 'DRD4', 'DRD5', 'DAT1', 'DBH', 'HTR2A', 'TPH2', 'EAAT1', 'SAPAP3',\n",
    "            'CTNNA3', 'NLGN4', 'FSCB', 'IMMP2L', 'NRXN1', 'AADAC', 'DBH', 'MAOA', 'HTR1A', 'HTR2C', 'SLC6A4',\n",
    "             'TPH2', 'COL27A1', '5-HTTLPR', 'EAAT1', 'COL8A1', 'KCNE1', 'KCNE2',\n",
    "         'RICTOR', 'WWC1', 'CELSR3, NIPBL', 'FN1', 'PNKD', 'CDH26', 'CADM2', 'OPCML', 'CDH9',\n",
    "         'NCAM2', 'CD47', 'CDH5', 'CADM4', 'C1QBP', 'CTTN', 'LSAMP',\n",
    "         'PKP4', 'PCDH1', 'CNTNAP2', 'MBP', 'GABBR2', 'GABBR2', 'GRIK4', 'NCR1', 'FLT3', 'IL12A', 'HDAC9',\n",
    "         'CD180', 'CDH26', 'NCAM2', 'NTM', 'ROBO2', 'NR2F1', 'ASH1L', 'FLT3']\n",
    "#list of GTS genes updated with 3 recently discovered genes"
   ]
  },
  {
   "cell_type": "code",
   "execution_count": 16,
   "id": "18c8bb8c-6af0-4ec9-8aa4-fed21ce635be",
   "metadata": {
    "tags": []
   },
   "outputs": [
    {
     "name": "stderr",
     "output_type": "stream",
     "text": [
      "2023-03-29 20:30:06.208 Hail: INFO: wrote table with 99 rows in 1 partition to /net/ascratch/people/plggosborcz/gosborcz-hail/persist_tablejdWxuLRkas\n",
      "2023-03-29 20:30:06.665 Hail: INFO: Reading table without type imputation\n",
      "  Loading field '' as type str (not specified)\n",
      "  Loading field 'locus.contig' as type str (not specified)\n",
      "  Loading field 'locus.position' as type str (not specified)\n",
      "  Loading field 'alleles' as type str (not specified)\n",
      "  Loading field 'gnomad_v3.v3_nfe.AC' as type str (not specified)\n",
      "  Loading field 'gnomad_v3.v3_nfe.AF' as type str (not specified)\n",
      "  Loading field 'gnomad_v3.v3_nfe.AN' as type str (not specified)\n",
      "  Loading field 'gnomad_v3.v3_nfe.homozygote_count' as type str (not specified)\n",
      "  Loading field 'gnomad_v3.most_severe_consequence' as type str (not specified)\n",
      "  Loading field 'gnomad_v3.regulatory_feature_consequences' as type str (not specified)\n",
      "  Loading field 'gnomad_v3.transcript_consequences' as type str (not specified)\n",
      "  Loading field 'gnomad_v3.rsid' as type str (not specified)\n",
      "  Loading field 'within_gene' as type str (not specified)\n",
      "  Loading field 'cadd' as type str (not specified)\n",
      "  Loading field 'nearest_genes_20kb' as type str (not specified)\n",
      "  Loading field 'controls_non_ref' as type str (not specified)\n",
      "  Loading field 'controls_hom_var' as type str (not specified)\n",
      "  Loading field 'cases_all_non_ref' as type str (not specified)\n",
      "  Loading field 'cases_all_hom_var' as type str (not specified)\n"
     ]
    }
   ],
   "source": [
    "var_s = hl.import_table('supplementary-table-S2.csv', delimiter = ',', quote = \"\\\"\")"
   ]
  },
  {
   "cell_type": "code",
   "execution_count": 19,
   "id": "7853fbf5-8f8c-4a5a-9ae1-dd67b04e8406",
   "metadata": {
    "tags": []
   },
   "outputs": [],
   "source": [
    "var_s = var_s.transmute(\n",
    "    locus = hl.locus(\n",
    "        var_s['locus.contig'],\n",
    "        hl.int(var_s['locus.position']),\n",
    "        reference_genome='GRCh38')\n",
    ")"
   ]
  },
  {
   "cell_type": "code",
   "execution_count": 21,
   "id": "c50e73f5-74b9-4294-9799-8ae7ee4eec94",
   "metadata": {
    "tags": []
   },
   "outputs": [],
   "source": [
    "var_s = var_s.key_by(var_s.locus)"
   ]
  },
  {
   "cell_type": "code",
   "execution_count": 22,
   "id": "72128e18-5bcf-41c7-9a86-a2f0e49149ac",
   "metadata": {
    "tags": []
   },
   "outputs": [
    {
     "name": "stderr",
     "output_type": "stream",
     "text": [
      "2023-03-29 20:33:45.014 Hail: INFO: Coerced sorted dataset\n",
      "2023-03-29 20:33:45.812 Hail: INFO: wrote table with 98 rows in 1 partition to /net/ascratch/people/plggosborcz/var_s.ht\n"
     ]
    }
   ],
   "source": [
    "var_s.write('/net/ascratch/people/plggosborcz/var_s.ht')"
   ]
  },
  {
   "cell_type": "code",
   "execution_count": null,
   "id": "f6fdec58-1698-4860-8a5c-f971ea7acc29",
   "metadata": {},
   "outputs": [],
   "source": [
    "var_s = hl.read_table('/net/ascratch/people/plggosborcz/var_s.ht')\n",
    "mt = mt.key_rows_by(mt.locus)\n",
    "mt = mt.filter_rows(hl.is_defined(var_s[mt.row_key]))\n",
    "mt = mt.key_rows_by(mt.locus, mt.alleles)\n",
    "\n",
    "# for preliminary PCA chose only one member of each family\n",
    "mt = mt.filter_cols(\n",
    "    hl.if_else(\n",
    "        mt.group == 'GTS',\n",
    "        ((mt.phenotypes.kinship == 'P') | (mt.phenotypes.kinship == 'proband')),\n",
    "        True\n",
    "    )\n",
    ")"
   ]
  }
 ],
 "metadata": {
  "kernelspec": {
   "display_name": "Python 3 (ipykernel)",
   "language": "python",
   "name": "python3"
  },
  "language_info": {
   "codemirror_mode": {
    "name": "ipython",
    "version": 3
   },
   "file_extension": ".py",
   "mimetype": "text/x-python",
   "name": "python",
   "nbconvert_exporter": "python",
   "pygments_lexer": "ipython3",
   "version": "3.10.4"
  }
 },
 "nbformat": 4,
 "nbformat_minor": 5
}
