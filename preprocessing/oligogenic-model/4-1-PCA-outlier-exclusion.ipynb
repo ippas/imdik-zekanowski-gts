{
 "cells": [
  {
   "cell_type": "code",
   "execution_count": 1,
   "id": "8830a0a3-d54a-4da3-8b32-a33ae3bbdb8c",
   "metadata": {},
   "outputs": [],
   "source": [
    "import os\n",
    "localfs_path = os.environ.get('SCRATCH_LOCAL') + '/'"
   ]
  },
  {
   "cell_type": "code",
   "execution_count": null,
   "id": "7c4762a4-78b7-4788-aac0-b3510bd10a22",
   "metadata": {
    "tags": []
   },
   "outputs": [],
   "source": [
    "os.environ['_JAVA_OPTIONS'] = f'-Djava.io.tmpdir={localfs_path}'\n",
    "\n",
    "import hail as hl\n",
    "\n",
    "hl.init(\n",
    "    tmp_dir=(localfs_path+'tmp_hail'),\n",
    "    spark_conf={'spark.driver.memory': '30G', 'spark.executor.memory': '10G'}, # I don't know what should be here\n",
    "    default_reference='GRCh38'\n",
    ") "
   ]
  },
  {
   "cell_type": "code",
   "execution_count": null,
   "id": "cf582ceb-8db7-456a-933f-137b8ccc157e",
   "metadata": {
    "tags": []
   },
   "outputs": [],
   "source": [
    "from bokeh.io import show, output_notebook\n",
    "from bokeh.layouts import gridplot\n",
    "output_notebook()"
   ]
  },
  {
   "cell_type": "code",
   "execution_count": 4,
   "id": "98f5ef02-a85a-46eb-990c-cbf60c9ecd49",
   "metadata": {
    "tags": []
   },
   "outputs": [],
   "source": [
    "def run_pca(mtx, mtx_path, suffix):\n",
    "    mtx = hl.variant_qc(mtx)\n",
    "    mtx = mtx.checkpoint(localfs_path+'variant_qced_'+suffix+mtx_path)\n",
    "    mtx = hl.read_matrix_table(localfs_path+'variant_qced_'+suffix+mtx_path)\n",
    "    for_pca = mtx.filter_rows(mtx.variant_qc.AF[1] > 0.05)\n",
    "    pruned_variant_table = hl.ld_prune(for_pca.GT, r2=0.2, bp_window_size=500000)\n",
    "    for_pca = for_pca.filter_rows(hl.is_defined(pruned_variant_table[for_pca.row_key]))\n",
    "\n",
    "    for_pca = for_pca.checkpoint(localfs_path+'for_pca_20_'+suffix+mtx_path)\n",
    "    for_pca = hl.read_matrix_table(localfs_path+'for_pca_20_'+suffix+mtx_path)\n",
    "    eigenvalues, pcs, _ = hl.hwe_normalized_pca(for_pca.GT, k=20)\n",
    "    \n",
    "    mtx = mtx.annotate_cols(pruned_scores = pcs[mtx.s].scores)\n",
    "    mtx = mtx.checkpoint(localfs_path+'after_pca_20_'+suffix+mtx_path)\n",
    "    \n",
    "    return(mtx)\n",
    "\n",
    "def run_pca_no_filter(mtx, mtx_path, suffix):\n",
    "    \n",
    "    for_pca = mtx.sample_rows(0.1)\n",
    "\n",
    "    for_pca = for_pca.checkpoint(localfs_path+'subset_'+suffix+mtx_path)\n",
    "    for_pca = hl.read_matrix_table(localfs_path+'subset_'+suffix+mtx_path)\n",
    "    eigenvalues, pcs, _ = hl.hwe_normalized_pca(for_pca.GT, k=20)\n",
    "    \n",
    "    mtx = mtx.annotate_cols(scores_no_filter = pcs[mtx.s].scores)\n",
    "    mtx = mtx.checkpoint(localfs_path+'after_pca_no_filters_'+suffix+mtx_path)\n",
    "    \n",
    "    return(mtx)\n",
    "\n",
    "def remove_pca_outliers(mtx, field, last_score, mtx_path, suffix):\n",
    "    \n",
    "    mtx = mtx.annotate_globals(\n",
    "            st = mtx.aggregate_cols(\n",
    "                hl.agg.array_agg(\n",
    "                    lambda pc: hl.agg.stats(pc),\n",
    "                    mtx[field])\n",
    "            )\n",
    "        )\n",
    "\n",
    "    mtx = mtx.annotate_cols(\n",
    "            pc_outliers=hl.map(\n",
    "                lambda s, st: hl.int((s > st['mean'] + (10 * st['stdev'])) | (s < st['mean'] - (10 * st['stdev']))),\n",
    "                mtx[field][0:last_score],\n",
    "                mtx.st\n",
    "            )\n",
    "        )\n",
    "\n",
    "    mtx = mtx.filter_cols(\n",
    "        hl.sum(mtx.pc_outliers) ==  0\n",
    "    )\n",
    "    \n",
    "    mtx = mtx.checkpoint(localfs_path+'no_outliers'+mtx_path+suffix+'.mt')\n",
    "    \n",
    "    return(mtx)"
   ]
  },
  {
   "cell_type": "markdown",
   "id": "bd5f0d1a-d46a-43bf-926b-013b768b1c6a",
   "metadata": {
    "tags": []
   },
   "source": [
    "### select matrices for skat:\n",
    "1. sportsmen vs GTS 40\n",
    "2. polish zeros vs GTS 40"
   ]
  },
  {
   "cell_type": "code",
   "execution_count": 9,
   "id": "fd17773a-d9ed-480d-859c-3732a81b4ae8",
   "metadata": {
    "tags": []
   },
   "outputs": [],
   "source": [
    "mt_1 = hl.read_matrix_table('/net/pr2/projects/plgrid/plggneuromol/imdik-zekanowski-gts/data/mts/oligogenic-model/gts_and_s.mt')\n",
    "mt_2 = hl.read_matrix_table(localfs_path+'poles_zerosunion.mt')"
   ]
  },
  {
   "cell_type": "code",
   "execution_count": 10,
   "id": "fde320f7-8e8d-4d74-9da8-674fc8cddff5",
   "metadata": {
    "tags": []
   },
   "outputs": [],
   "source": [
    "mts = [mt_1, mt_2]"
   ]
  },
  {
   "cell_type": "code",
   "execution_count": 12,
   "id": "249791b1-a137-469e-b5d2-04963abb5422",
   "metadata": {
    "tags": []
   },
   "outputs": [
    {
     "ename": "FatalError",
     "evalue": "NoClassDefFoundError: Could not initialize class java.util.zip.Adler32\n\nJava stack trace:\njava.lang.NoClassDefFoundError: Could not initialize class java.util.zip.Adler32\n\tat org.apache.spark.broadcast.TorrentBroadcast.calcChecksum(TorrentBroadcast.scala:112)\n\tat org.apache.spark.broadcast.TorrentBroadcast.$anonfun$writeBlocks$1(TorrentBroadcast.scala:146)\n\tat org.apache.spark.broadcast.TorrentBroadcast.$anonfun$writeBlocks$1$adapted(TorrentBroadcast.scala:144)\n\tat scala.collection.IndexedSeqOptimized.foreach(IndexedSeqOptimized.scala:36)\n\tat scala.collection.IndexedSeqOptimized.foreach$(IndexedSeqOptimized.scala:33)\n\tat scala.collection.mutable.ArrayOps$ofRef.foreach(ArrayOps.scala:198)\n\tat org.apache.spark.broadcast.TorrentBroadcast.writeBlocks(TorrentBroadcast.scala:144)\n\tat org.apache.spark.broadcast.TorrentBroadcast.<init>(TorrentBroadcast.scala:95)\n\tat org.apache.spark.broadcast.TorrentBroadcastFactory.newBroadcast(TorrentBroadcastFactory.scala:34)\n\tat org.apache.spark.broadcast.BroadcastManager.newBroadcast(BroadcastManager.scala:75)\n\tat org.apache.spark.SparkContext.broadcast(SparkContext.scala:1539)\n\tat is.hail.backend.spark.SparkBackend.broadcast(SparkBackend.scala:354)\n\tat is.hail.expr.ir.EmitClassBuilder.resultWithIndex(EmitClassBuilder.scala:753)\n\tat is.hail.expr.ir.WrappedEmitClassBuilder.resultWithIndex(EmitClassBuilder.scala:219)\n\tat is.hail.expr.ir.WrappedEmitClassBuilder.resultWithIndex$(EmitClassBuilder.scala:219)\n\tat is.hail.expr.ir.EmitFunctionBuilder.resultWithIndex(EmitClassBuilder.scala:1157)\n\tat is.hail.expr.ir.Compile$.$anonfun$apply$4(Compile.scala:75)\n\tat is.hail.backend.BackendWithCodeCache.lookupOrCompileCachedFunction(Backend.scala:115)\n\tat is.hail.backend.BackendWithCodeCache.lookupOrCompileCachedFunction$(Backend.scala:111)\n\tat is.hail.backend.spark.SparkBackend.lookupOrCompileCachedFunction(SparkBackend.scala:274)\n\tat is.hail.expr.ir.Compile$.apply(Compile.scala:40)\n\tat is.hail.expr.ir.CompileAndEvaluate$.$anonfun$_apply$5(CompileAndEvaluate.scala:66)\n\tat is.hail.utils.ExecutionTimer.time(ExecutionTimer.scala:81)\n\tat is.hail.expr.ir.CompileAndEvaluate$._apply(CompileAndEvaluate.scala:66)\n\tat is.hail.expr.ir.CompileAndEvaluate$.$anonfun$apply$1(CompileAndEvaluate.scala:19)\n\tat is.hail.utils.ExecutionTimer.time(ExecutionTimer.scala:81)\n\tat is.hail.expr.ir.CompileAndEvaluate$.apply(CompileAndEvaluate.scala:19)\n\tat is.hail.expr.ir.lowering.LowerTableIR$.applyTable(LowerTableIR.scala:1065)\n\tat is.hail.expr.ir.lowering.LowerTableIR$.lower$2(LowerTableIR.scala:741)\n\tat is.hail.expr.ir.lowering.LowerTableIR$.applyTable(LowerTableIR.scala:1179)\n\tat is.hail.expr.ir.lowering.LowerTableIR$.lower$1(LowerTableIR.scala:503)\n\tat is.hail.expr.ir.lowering.LowerTableIR$.apply(LowerTableIR.scala:582)\n\tat is.hail.expr.ir.lowering.LowerToCDA$.lower(LowerToCDA.scala:26)\n\tat is.hail.expr.ir.lowering.LowerToCDA$.apply(LowerToCDA.scala:18)\n\tat is.hail.expr.ir.lowering.LowerToDistributedArrayPass.transform(LoweringPass.scala:75)\n\tat is.hail.expr.ir.LowerOrInterpretNonCompilable$.evaluate$1(LowerOrInterpretNonCompilable.scala:27)\n\tat is.hail.expr.ir.LowerOrInterpretNonCompilable$.rewrite$1(LowerOrInterpretNonCompilable.scala:67)\n\tat is.hail.expr.ir.LowerOrInterpretNonCompilable$.apply(LowerOrInterpretNonCompilable.scala:72)\n\tat is.hail.expr.ir.lowering.LowerOrInterpretNonCompilablePass$.transform(LoweringPass.scala:67)\n\tat is.hail.expr.ir.lowering.LoweringPass.$anonfun$apply$3(LoweringPass.scala:16)\n\tat is.hail.utils.ExecutionTimer.time(ExecutionTimer.scala:81)\n\tat is.hail.expr.ir.lowering.LoweringPass.$anonfun$apply$1(LoweringPass.scala:16)\n\tat is.hail.utils.ExecutionTimer.time(ExecutionTimer.scala:81)\n\tat is.hail.expr.ir.lowering.LoweringPass.apply(LoweringPass.scala:14)\n\tat is.hail.expr.ir.lowering.LoweringPass.apply$(LoweringPass.scala:13)\n\tat is.hail.expr.ir.lowering.LowerOrInterpretNonCompilablePass$.apply(LoweringPass.scala:62)\n\tat is.hail.expr.ir.lowering.LoweringPipeline.$anonfun$apply$1(LoweringPipeline.scala:22)\n\tat is.hail.expr.ir.lowering.LoweringPipeline.$anonfun$apply$1$adapted(LoweringPipeline.scala:20)\n\tat scala.collection.mutable.ResizableArray.foreach(ResizableArray.scala:62)\n\tat scala.collection.mutable.ResizableArray.foreach$(ResizableArray.scala:55)\n\tat scala.collection.mutable.ArrayBuffer.foreach(ArrayBuffer.scala:49)\n\tat is.hail.expr.ir.lowering.LoweringPipeline.apply(LoweringPipeline.scala:20)\n\tat is.hail.expr.ir.lowering.EvalRelationalLets$.execute$1(EvalRelationalLets.scala:10)\n\tat is.hail.expr.ir.lowering.EvalRelationalLets$.lower$1(EvalRelationalLets.scala:18)\n\tat is.hail.expr.ir.lowering.EvalRelationalLets$.apply(EvalRelationalLets.scala:37)\n\tat is.hail.expr.ir.lowering.EvalRelationalLetsPass.transform(LoweringPass.scala:147)\n\tat is.hail.expr.ir.lowering.LoweringPass.$anonfun$apply$3(LoweringPass.scala:16)\n\tat is.hail.utils.ExecutionTimer.time(ExecutionTimer.scala:81)\n\tat is.hail.expr.ir.lowering.LoweringPass.$anonfun$apply$1(LoweringPass.scala:16)\n\tat is.hail.utils.ExecutionTimer.time(ExecutionTimer.scala:81)\n\tat is.hail.expr.ir.lowering.LoweringPass.apply(LoweringPass.scala:14)\n\tat is.hail.expr.ir.lowering.LoweringPass.apply$(LoweringPass.scala:13)\n\tat is.hail.expr.ir.lowering.EvalRelationalLetsPass.apply(LoweringPass.scala:141)\n\tat is.hail.expr.ir.lowering.LoweringPipeline.$anonfun$apply$1(LoweringPipeline.scala:22)\n\tat is.hail.expr.ir.lowering.LoweringPipeline.$anonfun$apply$1$adapted(LoweringPipeline.scala:20)\n\tat scala.collection.mutable.ResizableArray.foreach(ResizableArray.scala:62)\n\tat scala.collection.mutable.ResizableArray.foreach$(ResizableArray.scala:55)\n\tat scala.collection.mutable.ArrayBuffer.foreach(ArrayBuffer.scala:49)\n\tat is.hail.expr.ir.lowering.LoweringPipeline.apply(LoweringPipeline.scala:20)\n\tat is.hail.expr.ir.CompileAndEvaluate$._apply(CompileAndEvaluate.scala:50)\n\tat is.hail.backend.spark.SparkBackend._execute(SparkBackend.scala:463)\n\tat is.hail.backend.spark.SparkBackend.$anonfun$executeEncode$2(SparkBackend.scala:499)\n\tat is.hail.backend.ExecuteContext$.$anonfun$scoped$3(ExecuteContext.scala:75)\n\tat is.hail.utils.package$.using(package.scala:635)\n\tat is.hail.backend.ExecuteContext$.$anonfun$scoped$2(ExecuteContext.scala:75)\n\tat is.hail.utils.package$.using(package.scala:635)\n\tat is.hail.annotations.RegionPool$.scoped(RegionPool.scala:17)\n\tat is.hail.backend.ExecuteContext$.scoped(ExecuteContext.scala:63)\n\tat is.hail.backend.spark.SparkBackend.withExecuteContext(SparkBackend.scala:351)\n\tat is.hail.backend.spark.SparkBackend.$anonfun$executeEncode$1(SparkBackend.scala:496)\n\tat is.hail.utils.ExecutionTimer$.time(ExecutionTimer.scala:52)\n\tat is.hail.backend.spark.SparkBackend.executeEncode(SparkBackend.scala:495)\n\tat java.base/jdk.internal.reflect.NativeMethodAccessorImpl.invoke0(Native Method)\n\tat java.base/jdk.internal.reflect.NativeMethodAccessorImpl.invoke(NativeMethodAccessorImpl.java:62)\n\tat java.base/jdk.internal.reflect.DelegatingMethodAccessorImpl.invoke(DelegatingMethodAccessorImpl.java:43)\n\tat java.base/java.lang.reflect.Method.invoke(Method.java:566)\n\tat py4j.reflection.MethodInvoker.invoke(MethodInvoker.java:244)\n\tat py4j.reflection.ReflectionEngine.invoke(ReflectionEngine.java:357)\n\tat py4j.Gateway.invoke(Gateway.java:282)\n\tat py4j.commands.AbstractCommand.invokeMethod(AbstractCommand.java:132)\n\tat py4j.commands.CallCommand.execute(CallCommand.java:79)\n\tat py4j.ClientServerConnection.waitForCommands(ClientServerConnection.java:182)\n\tat py4j.ClientServerConnection.run(ClientServerConnection.java:106)\n\tat java.base/java.lang.Thread.run(Thread.java:834)\n\n\n\nHail version: 0.2.113-cf32652c5077\nError summary: NoClassDefFoundError: Could not initialize class java.util.zip.Adler32",
     "output_type": "error",
     "traceback": [
      "\u001b[0;31m---------------------------------------------------------------------------\u001b[0m",
      "\u001b[0;31mFatalError\u001b[0m                                Traceback (most recent call last)",
      "Cell \u001b[0;32mIn[12], line 1\u001b[0m\n\u001b[0;32m----> 1\u001b[0m pheno \u001b[38;5;241m=\u001b[39m \u001b[43mhl\u001b[49m\u001b[38;5;241;43m.\u001b[39;49m\u001b[43mimport_table\u001b[49m\u001b[43m(\u001b[49m\n\u001b[1;32m      2\u001b[0m \u001b[43m    \u001b[49m\u001b[38;5;124;43m'\u001b[39;49m\u001b[38;5;124;43m/net/pr2/projects/plgrid/plggneuromol/imdik-zekanowski-gts/data/pheno/GTS-coded-corrected-june-2021.csv\u001b[39;49m\u001b[38;5;124;43m'\u001b[39;49m\u001b[43m,\u001b[49m\n\u001b[1;32m      3\u001b[0m \u001b[43m    \u001b[49m\u001b[43mimpute\u001b[49m\u001b[38;5;241;43m=\u001b[39;49m\u001b[38;5;28;43;01mTrue\u001b[39;49;00m\u001b[43m,\u001b[49m\n\u001b[1;32m      4\u001b[0m \u001b[43m    \u001b[49m\u001b[43mdelimiter\u001b[49m\u001b[38;5;241;43m=\u001b[39;49m\u001b[38;5;124;43m'\u001b[39;49m\u001b[38;5;124;43m,\u001b[39;49m\u001b[38;5;124;43m'\u001b[39;49m\u001b[43m,\u001b[49m\n\u001b[1;32m      5\u001b[0m \u001b[43m    \u001b[49m\u001b[43mquote\u001b[49m\u001b[38;5;241;43m=\u001b[39;49m\u001b[38;5;124;43m\"\u001b[39;49m\u001b[38;5;130;43;01m\\\"\u001b[39;49;00m\u001b[38;5;124;43m\"\u001b[39;49m\n\u001b[1;32m      6\u001b[0m \u001b[43m)\u001b[49m\n\u001b[1;32m      8\u001b[0m pheno \u001b[38;5;241m=\u001b[39m pheno\u001b[38;5;241m.\u001b[39mkey_by(pheno\u001b[38;5;241m.\u001b[39mID)\n",
      "File \u001b[0;32m<decorator-gen-1454>:2\u001b[0m, in \u001b[0;36mimport_table\u001b[0;34m(paths, key, min_partitions, impute, no_header, comment, delimiter, missing, types, quote, skip_blank_lines, force_bgz, filter, find_replace, force, source_file_field)\u001b[0m\n",
      "File \u001b[0;32m/net/pr2/projects/plgrid/plggneuromol/imdik-zekanowski-gts/venv-hail-0.2.113/lib/python3.10/site-packages/hail/typecheck/check.py:584\u001b[0m, in \u001b[0;36m_make_dec.<locals>.wrapper\u001b[0;34m(__original_func, *args, **kwargs)\u001b[0m\n\u001b[1;32m    581\u001b[0m \u001b[38;5;129m@decorator\u001b[39m\n\u001b[1;32m    582\u001b[0m \u001b[38;5;28;01mdef\u001b[39;00m \u001b[38;5;21mwrapper\u001b[39m(__original_func, \u001b[38;5;241m*\u001b[39margs, \u001b[38;5;241m*\u001b[39m\u001b[38;5;241m*\u001b[39mkwargs):\n\u001b[1;32m    583\u001b[0m     args_, kwargs_ \u001b[38;5;241m=\u001b[39m check_all(__original_func, args, kwargs, checkers, is_method\u001b[38;5;241m=\u001b[39mis_method)\n\u001b[0;32m--> 584\u001b[0m     \u001b[38;5;28;01mreturn\u001b[39;00m \u001b[43m__original_func\u001b[49m\u001b[43m(\u001b[49m\u001b[38;5;241;43m*\u001b[39;49m\u001b[43margs_\u001b[49m\u001b[43m,\u001b[49m\u001b[43m \u001b[49m\u001b[38;5;241;43m*\u001b[39;49m\u001b[38;5;241;43m*\u001b[39;49m\u001b[43mkwargs_\u001b[49m\u001b[43m)\u001b[49m\n",
      "File \u001b[0;32m/net/pr2/projects/plgrid/plggneuromol/imdik-zekanowski-gts/venv-hail-0.2.113/lib/python3.10/site-packages/hail/methods/impex.py:1723\u001b[0m, in \u001b[0;36mimport_table\u001b[0;34m(paths, key, min_partitions, impute, no_header, comment, delimiter, missing, types, quote, skip_blank_lines, force_bgz, filter, find_replace, force, source_file_field)\u001b[0m\n\u001b[1;32m   1717\u001b[0m     \u001b[38;5;28;01mif\u001b[39;00m find_replace \u001b[38;5;129;01mis\u001b[39;00m \u001b[38;5;129;01mnot\u001b[39;00m \u001b[38;5;28;01mNone\u001b[39;00m:\n\u001b[1;32m   1718\u001b[0m         ht \u001b[38;5;241m=\u001b[39m ht\u001b[38;5;241m.\u001b[39mannotate(text\u001b[38;5;241m=\u001b[39mht[\u001b[38;5;124m'\u001b[39m\u001b[38;5;124mtext\u001b[39m\u001b[38;5;124m'\u001b[39m]\u001b[38;5;241m.\u001b[39mreplace(\u001b[38;5;241m*\u001b[39mfind_replace))\n\u001b[1;32m   1720\u001b[0m     first_rows \u001b[38;5;241m=\u001b[39m \u001b[43mfirst_row_ht\u001b[49m\u001b[38;5;241;43m.\u001b[39;49m\u001b[43mannotate\u001b[49m\u001b[43m(\u001b[49m\n\u001b[1;32m   1721\u001b[0m \u001b[43m        \u001b[49m\u001b[43mheader\u001b[49m\u001b[38;5;241;43m=\u001b[39;49m\u001b[43mfirst_row_ht\u001b[49m\u001b[38;5;241;43m.\u001b[39;49m\u001b[43mtext\u001b[49m\u001b[38;5;241;43m.\u001b[39;49m\u001b[43m_split_line\u001b[49m\u001b[43m(\u001b[49m\n\u001b[1;32m   1722\u001b[0m \u001b[43m            \u001b[49m\u001b[43mdelimiter\u001b[49m\u001b[43m,\u001b[49m\u001b[43m \u001b[49m\u001b[43mmissing\u001b[49m\u001b[38;5;241;43m=\u001b[39;49m\u001b[43mhl\u001b[49m\u001b[38;5;241;43m.\u001b[39;49m\u001b[43mempty_array\u001b[49m\u001b[43m(\u001b[49m\u001b[43mhl\u001b[49m\u001b[38;5;241;43m.\u001b[39;49m\u001b[43mtstr\u001b[49m\u001b[43m)\u001b[49m\u001b[43m,\u001b[49m\u001b[43m \u001b[49m\u001b[43mquote\u001b[49m\u001b[38;5;241;43m=\u001b[39;49m\u001b[43mquote\u001b[49m\u001b[43m,\u001b[49m\u001b[43m \u001b[49m\u001b[43mregex\u001b[49m\u001b[38;5;241;43m=\u001b[39;49m\u001b[38;5;28;43mlen\u001b[39;49m\u001b[43m(\u001b[49m\u001b[43mdelimiter\u001b[49m\u001b[43m)\u001b[49m\u001b[43m \u001b[49m\u001b[38;5;241;43m>\u001b[39;49m\u001b[43m \u001b[49m\u001b[38;5;241;43m1\u001b[39;49m\u001b[43m)\u001b[49m\n\u001b[0;32m-> 1723\u001b[0m \u001b[43m    \u001b[49m\u001b[43m)\u001b[49m\u001b[38;5;241;43m.\u001b[39;49m\u001b[43mcollect\u001b[49m\u001b[43m(\u001b[49m\u001b[43m)\u001b[49m\n\u001b[1;32m   1724\u001b[0m \u001b[38;5;28;01mexcept\u001b[39;00m FatalError \u001b[38;5;28;01mas\u001b[39;00m err:\n\u001b[1;32m   1725\u001b[0m     \u001b[38;5;28;01mif\u001b[39;00m \u001b[38;5;124m'\u001b[39m\u001b[38;5;124m_filter_partitions: no partition with index 0\u001b[39m\u001b[38;5;124m'\u001b[39m \u001b[38;5;129;01min\u001b[39;00m err\u001b[38;5;241m.\u001b[39margs[\u001b[38;5;241m0\u001b[39m]:\n",
      "File \u001b[0;32m<decorator-gen-1130>:2\u001b[0m, in \u001b[0;36mcollect\u001b[0;34m(self, _localize, _timed)\u001b[0m\n",
      "File \u001b[0;32m/net/pr2/projects/plgrid/plggneuromol/imdik-zekanowski-gts/venv-hail-0.2.113/lib/python3.10/site-packages/hail/typecheck/check.py:584\u001b[0m, in \u001b[0;36m_make_dec.<locals>.wrapper\u001b[0;34m(__original_func, *args, **kwargs)\u001b[0m\n\u001b[1;32m    581\u001b[0m \u001b[38;5;129m@decorator\u001b[39m\n\u001b[1;32m    582\u001b[0m \u001b[38;5;28;01mdef\u001b[39;00m \u001b[38;5;21mwrapper\u001b[39m(__original_func, \u001b[38;5;241m*\u001b[39margs, \u001b[38;5;241m*\u001b[39m\u001b[38;5;241m*\u001b[39mkwargs):\n\u001b[1;32m    583\u001b[0m     args_, kwargs_ \u001b[38;5;241m=\u001b[39m check_all(__original_func, args, kwargs, checkers, is_method\u001b[38;5;241m=\u001b[39mis_method)\n\u001b[0;32m--> 584\u001b[0m     \u001b[38;5;28;01mreturn\u001b[39;00m \u001b[43m__original_func\u001b[49m\u001b[43m(\u001b[49m\u001b[38;5;241;43m*\u001b[39;49m\u001b[43margs_\u001b[49m\u001b[43m,\u001b[49m\u001b[43m \u001b[49m\u001b[38;5;241;43m*\u001b[39;49m\u001b[38;5;241;43m*\u001b[39;49m\u001b[43mkwargs_\u001b[49m\u001b[43m)\u001b[49m\n",
      "File \u001b[0;32m/net/pr2/projects/plgrid/plggneuromol/imdik-zekanowski-gts/venv-hail-0.2.113/lib/python3.10/site-packages/hail/table.py:2177\u001b[0m, in \u001b[0;36mTable.collect\u001b[0;34m(self, _localize, _timed)\u001b[0m\n\u001b[1;32m   2175\u001b[0m e \u001b[38;5;241m=\u001b[39m construct_expr(rows_ir, hl\u001b[38;5;241m.\u001b[39mtarray(t\u001b[38;5;241m.\u001b[39mrow\u001b[38;5;241m.\u001b[39mdtype))\n\u001b[1;32m   2176\u001b[0m \u001b[38;5;28;01mif\u001b[39;00m _localize:\n\u001b[0;32m-> 2177\u001b[0m     \u001b[38;5;28;01mreturn\u001b[39;00m \u001b[43mEnv\u001b[49m\u001b[38;5;241;43m.\u001b[39;49m\u001b[43mbackend\u001b[49m\u001b[43m(\u001b[49m\u001b[43m)\u001b[49m\u001b[38;5;241;43m.\u001b[39;49m\u001b[43mexecute\u001b[49m\u001b[43m(\u001b[49m\u001b[43me\u001b[49m\u001b[38;5;241;43m.\u001b[39;49m\u001b[43m_ir\u001b[49m\u001b[43m,\u001b[49m\u001b[43m \u001b[49m\u001b[43mtimed\u001b[49m\u001b[38;5;241;43m=\u001b[39;49m\u001b[43m_timed\u001b[49m\u001b[43m)\u001b[49m\n\u001b[1;32m   2178\u001b[0m \u001b[38;5;28;01melse\u001b[39;00m:\n\u001b[1;32m   2179\u001b[0m     \u001b[38;5;28;01mreturn\u001b[39;00m e\n",
      "File \u001b[0;32m/net/pr2/projects/plgrid/plggneuromol/imdik-zekanowski-gts/venv-hail-0.2.113/lib/python3.10/site-packages/hail/backend/py4j_backend.py:82\u001b[0m, in \u001b[0;36mPy4JBackend.execute\u001b[0;34m(self, ir, timed)\u001b[0m\n\u001b[1;32m     80\u001b[0m     \u001b[38;5;28;01mreturn\u001b[39;00m (value, timings) \u001b[38;5;28;01mif\u001b[39;00m timed \u001b[38;5;28;01melse\u001b[39;00m value\n\u001b[1;32m     81\u001b[0m \u001b[38;5;28;01mexcept\u001b[39;00m FatalError \u001b[38;5;28;01mas\u001b[39;00m e:\n\u001b[0;32m---> 82\u001b[0m     \u001b[38;5;28;01mraise\u001b[39;00m e\u001b[38;5;241m.\u001b[39mmaybe_user_error(ir) \u001b[38;5;28;01mfrom\u001b[39;00m \u001b[38;5;28;01mNone\u001b[39;00m\n",
      "File \u001b[0;32m/net/pr2/projects/plgrid/plggneuromol/imdik-zekanowski-gts/venv-hail-0.2.113/lib/python3.10/site-packages/hail/backend/py4j_backend.py:76\u001b[0m, in \u001b[0;36mPy4JBackend.execute\u001b[0;34m(self, ir, timed)\u001b[0m\n\u001b[1;32m     74\u001b[0m \u001b[38;5;66;03m# print(self._hail_package.expr.ir.Pretty.apply(jir, True, -1))\u001b[39;00m\n\u001b[1;32m     75\u001b[0m \u001b[38;5;28;01mtry\u001b[39;00m:\n\u001b[0;32m---> 76\u001b[0m     result_tuple \u001b[38;5;241m=\u001b[39m \u001b[38;5;28;43mself\u001b[39;49m\u001b[38;5;241;43m.\u001b[39;49m\u001b[43m_jbackend\u001b[49m\u001b[38;5;241;43m.\u001b[39;49m\u001b[43mexecuteEncode\u001b[49m\u001b[43m(\u001b[49m\u001b[43mjir\u001b[49m\u001b[43m,\u001b[49m\u001b[43m \u001b[49m\u001b[43mstream_codec\u001b[49m\u001b[43m,\u001b[49m\u001b[43m \u001b[49m\u001b[43mtimed\u001b[49m\u001b[43m)\u001b[49m\n\u001b[1;32m     77\u001b[0m     (result, timings) \u001b[38;5;241m=\u001b[39m (result_tuple\u001b[38;5;241m.\u001b[39m_1(), result_tuple\u001b[38;5;241m.\u001b[39m_2())\n\u001b[1;32m     78\u001b[0m     value \u001b[38;5;241m=\u001b[39m ir\u001b[38;5;241m.\u001b[39mtyp\u001b[38;5;241m.\u001b[39m_from_encoding(result)\n",
      "File \u001b[0;32m/net/pr2/projects/plgrid/plggneuromol/imdik-zekanowski-gts/venv-hail-0.2.113/lib/python3.10/site-packages/py4j/java_gateway.py:1321\u001b[0m, in \u001b[0;36mJavaMember.__call__\u001b[0;34m(self, *args)\u001b[0m\n\u001b[1;32m   1315\u001b[0m command \u001b[38;5;241m=\u001b[39m proto\u001b[38;5;241m.\u001b[39mCALL_COMMAND_NAME \u001b[38;5;241m+\u001b[39m\\\n\u001b[1;32m   1316\u001b[0m     \u001b[38;5;28mself\u001b[39m\u001b[38;5;241m.\u001b[39mcommand_header \u001b[38;5;241m+\u001b[39m\\\n\u001b[1;32m   1317\u001b[0m     args_command \u001b[38;5;241m+\u001b[39m\\\n\u001b[1;32m   1318\u001b[0m     proto\u001b[38;5;241m.\u001b[39mEND_COMMAND_PART\n\u001b[1;32m   1320\u001b[0m answer \u001b[38;5;241m=\u001b[39m \u001b[38;5;28mself\u001b[39m\u001b[38;5;241m.\u001b[39mgateway_client\u001b[38;5;241m.\u001b[39msend_command(command)\n\u001b[0;32m-> 1321\u001b[0m return_value \u001b[38;5;241m=\u001b[39m \u001b[43mget_return_value\u001b[49m\u001b[43m(\u001b[49m\n\u001b[1;32m   1322\u001b[0m \u001b[43m    \u001b[49m\u001b[43manswer\u001b[49m\u001b[43m,\u001b[49m\u001b[43m \u001b[49m\u001b[38;5;28;43mself\u001b[39;49m\u001b[38;5;241;43m.\u001b[39;49m\u001b[43mgateway_client\u001b[49m\u001b[43m,\u001b[49m\u001b[43m \u001b[49m\u001b[38;5;28;43mself\u001b[39;49m\u001b[38;5;241;43m.\u001b[39;49m\u001b[43mtarget_id\u001b[49m\u001b[43m,\u001b[49m\u001b[43m \u001b[49m\u001b[38;5;28;43mself\u001b[39;49m\u001b[38;5;241;43m.\u001b[39;49m\u001b[43mname\u001b[49m\u001b[43m)\u001b[49m\n\u001b[1;32m   1324\u001b[0m \u001b[38;5;28;01mfor\u001b[39;00m temp_arg \u001b[38;5;129;01min\u001b[39;00m temp_args:\n\u001b[1;32m   1325\u001b[0m     temp_arg\u001b[38;5;241m.\u001b[39m_detach()\n",
      "File \u001b[0;32m/net/pr2/projects/plgrid/plggneuromol/imdik-zekanowski-gts/venv-hail-0.2.113/lib/python3.10/site-packages/hail/backend/py4j_backend.py:35\u001b[0m, in \u001b[0;36mhandle_java_exception.<locals>.deco\u001b[0;34m(*args, **kwargs)\u001b[0m\n\u001b[1;32m     33\u001b[0m     tpl \u001b[38;5;241m=\u001b[39m Env\u001b[38;5;241m.\u001b[39mjutils()\u001b[38;5;241m.\u001b[39mhandleForPython(e\u001b[38;5;241m.\u001b[39mjava_exception)\n\u001b[1;32m     34\u001b[0m     deepest, full, error_id \u001b[38;5;241m=\u001b[39m tpl\u001b[38;5;241m.\u001b[39m_1(), tpl\u001b[38;5;241m.\u001b[39m_2(), tpl\u001b[38;5;241m.\u001b[39m_3()\n\u001b[0;32m---> 35\u001b[0m     \u001b[38;5;28;01mraise\u001b[39;00m fatal_error_from_java_error_triplet(deepest, full, error_id) \u001b[38;5;28;01mfrom\u001b[39;00m \u001b[38;5;28;01mNone\u001b[39;00m\n\u001b[1;32m     36\u001b[0m \u001b[38;5;28;01mexcept\u001b[39;00m pyspark\u001b[38;5;241m.\u001b[39msql\u001b[38;5;241m.\u001b[39mutils\u001b[38;5;241m.\u001b[39mCapturedException \u001b[38;5;28;01mas\u001b[39;00m e:\n\u001b[1;32m     37\u001b[0m     \u001b[38;5;28;01mraise\u001b[39;00m FatalError(\u001b[38;5;124m'\u001b[39m\u001b[38;5;132;01m%s\u001b[39;00m\u001b[38;5;130;01m\\n\u001b[39;00m\u001b[38;5;130;01m\\n\u001b[39;00m\u001b[38;5;124mJava stack trace:\u001b[39m\u001b[38;5;130;01m\\n\u001b[39;00m\u001b[38;5;132;01m%s\u001b[39;00m\u001b[38;5;130;01m\\n\u001b[39;00m\u001b[38;5;124m'\u001b[39m\n\u001b[1;32m     38\u001b[0m                      \u001b[38;5;124m'\u001b[39m\u001b[38;5;124mHail version: \u001b[39m\u001b[38;5;132;01m%s\u001b[39;00m\u001b[38;5;130;01m\\n\u001b[39;00m\u001b[38;5;124m'\u001b[39m\n\u001b[1;32m     39\u001b[0m                      \u001b[38;5;124m'\u001b[39m\u001b[38;5;124mError summary: \u001b[39m\u001b[38;5;132;01m%s\u001b[39;00m\u001b[38;5;124m'\u001b[39m \u001b[38;5;241m%\u001b[39m (e\u001b[38;5;241m.\u001b[39mdesc, e\u001b[38;5;241m.\u001b[39mstackTrace, hail\u001b[38;5;241m.\u001b[39m__version__, e\u001b[38;5;241m.\u001b[39mdesc)) \u001b[38;5;28;01mfrom\u001b[39;00m \u001b[38;5;28;01mNone\u001b[39;00m\n",
      "\u001b[0;31mFatalError\u001b[0m: NoClassDefFoundError: Could not initialize class java.util.zip.Adler32\n\nJava stack trace:\njava.lang.NoClassDefFoundError: Could not initialize class java.util.zip.Adler32\n\tat org.apache.spark.broadcast.TorrentBroadcast.calcChecksum(TorrentBroadcast.scala:112)\n\tat org.apache.spark.broadcast.TorrentBroadcast.$anonfun$writeBlocks$1(TorrentBroadcast.scala:146)\n\tat org.apache.spark.broadcast.TorrentBroadcast.$anonfun$writeBlocks$1$adapted(TorrentBroadcast.scala:144)\n\tat scala.collection.IndexedSeqOptimized.foreach(IndexedSeqOptimized.scala:36)\n\tat scala.collection.IndexedSeqOptimized.foreach$(IndexedSeqOptimized.scala:33)\n\tat scala.collection.mutable.ArrayOps$ofRef.foreach(ArrayOps.scala:198)\n\tat org.apache.spark.broadcast.TorrentBroadcast.writeBlocks(TorrentBroadcast.scala:144)\n\tat org.apache.spark.broadcast.TorrentBroadcast.<init>(TorrentBroadcast.scala:95)\n\tat org.apache.spark.broadcast.TorrentBroadcastFactory.newBroadcast(TorrentBroadcastFactory.scala:34)\n\tat org.apache.spark.broadcast.BroadcastManager.newBroadcast(BroadcastManager.scala:75)\n\tat org.apache.spark.SparkContext.broadcast(SparkContext.scala:1539)\n\tat is.hail.backend.spark.SparkBackend.broadcast(SparkBackend.scala:354)\n\tat is.hail.expr.ir.EmitClassBuilder.resultWithIndex(EmitClassBuilder.scala:753)\n\tat is.hail.expr.ir.WrappedEmitClassBuilder.resultWithIndex(EmitClassBuilder.scala:219)\n\tat is.hail.expr.ir.WrappedEmitClassBuilder.resultWithIndex$(EmitClassBuilder.scala:219)\n\tat is.hail.expr.ir.EmitFunctionBuilder.resultWithIndex(EmitClassBuilder.scala:1157)\n\tat is.hail.expr.ir.Compile$.$anonfun$apply$4(Compile.scala:75)\n\tat is.hail.backend.BackendWithCodeCache.lookupOrCompileCachedFunction(Backend.scala:115)\n\tat is.hail.backend.BackendWithCodeCache.lookupOrCompileCachedFunction$(Backend.scala:111)\n\tat is.hail.backend.spark.SparkBackend.lookupOrCompileCachedFunction(SparkBackend.scala:274)\n\tat is.hail.expr.ir.Compile$.apply(Compile.scala:40)\n\tat is.hail.expr.ir.CompileAndEvaluate$.$anonfun$_apply$5(CompileAndEvaluate.scala:66)\n\tat is.hail.utils.ExecutionTimer.time(ExecutionTimer.scala:81)\n\tat is.hail.expr.ir.CompileAndEvaluate$._apply(CompileAndEvaluate.scala:66)\n\tat is.hail.expr.ir.CompileAndEvaluate$.$anonfun$apply$1(CompileAndEvaluate.scala:19)\n\tat is.hail.utils.ExecutionTimer.time(ExecutionTimer.scala:81)\n\tat is.hail.expr.ir.CompileAndEvaluate$.apply(CompileAndEvaluate.scala:19)\n\tat is.hail.expr.ir.lowering.LowerTableIR$.applyTable(LowerTableIR.scala:1065)\n\tat is.hail.expr.ir.lowering.LowerTableIR$.lower$2(LowerTableIR.scala:741)\n\tat is.hail.expr.ir.lowering.LowerTableIR$.applyTable(LowerTableIR.scala:1179)\n\tat is.hail.expr.ir.lowering.LowerTableIR$.lower$1(LowerTableIR.scala:503)\n\tat is.hail.expr.ir.lowering.LowerTableIR$.apply(LowerTableIR.scala:582)\n\tat is.hail.expr.ir.lowering.LowerToCDA$.lower(LowerToCDA.scala:26)\n\tat is.hail.expr.ir.lowering.LowerToCDA$.apply(LowerToCDA.scala:18)\n\tat is.hail.expr.ir.lowering.LowerToDistributedArrayPass.transform(LoweringPass.scala:75)\n\tat is.hail.expr.ir.LowerOrInterpretNonCompilable$.evaluate$1(LowerOrInterpretNonCompilable.scala:27)\n\tat is.hail.expr.ir.LowerOrInterpretNonCompilable$.rewrite$1(LowerOrInterpretNonCompilable.scala:67)\n\tat is.hail.expr.ir.LowerOrInterpretNonCompilable$.apply(LowerOrInterpretNonCompilable.scala:72)\n\tat is.hail.expr.ir.lowering.LowerOrInterpretNonCompilablePass$.transform(LoweringPass.scala:67)\n\tat is.hail.expr.ir.lowering.LoweringPass.$anonfun$apply$3(LoweringPass.scala:16)\n\tat is.hail.utils.ExecutionTimer.time(ExecutionTimer.scala:81)\n\tat is.hail.expr.ir.lowering.LoweringPass.$anonfun$apply$1(LoweringPass.scala:16)\n\tat is.hail.utils.ExecutionTimer.time(ExecutionTimer.scala:81)\n\tat is.hail.expr.ir.lowering.LoweringPass.apply(LoweringPass.scala:14)\n\tat is.hail.expr.ir.lowering.LoweringPass.apply$(LoweringPass.scala:13)\n\tat is.hail.expr.ir.lowering.LowerOrInterpretNonCompilablePass$.apply(LoweringPass.scala:62)\n\tat is.hail.expr.ir.lowering.LoweringPipeline.$anonfun$apply$1(LoweringPipeline.scala:22)\n\tat is.hail.expr.ir.lowering.LoweringPipeline.$anonfun$apply$1$adapted(LoweringPipeline.scala:20)\n\tat scala.collection.mutable.ResizableArray.foreach(ResizableArray.scala:62)\n\tat scala.collection.mutable.ResizableArray.foreach$(ResizableArray.scala:55)\n\tat scala.collection.mutable.ArrayBuffer.foreach(ArrayBuffer.scala:49)\n\tat is.hail.expr.ir.lowering.LoweringPipeline.apply(LoweringPipeline.scala:20)\n\tat is.hail.expr.ir.lowering.EvalRelationalLets$.execute$1(EvalRelationalLets.scala:10)\n\tat is.hail.expr.ir.lowering.EvalRelationalLets$.lower$1(EvalRelationalLets.scala:18)\n\tat is.hail.expr.ir.lowering.EvalRelationalLets$.apply(EvalRelationalLets.scala:37)\n\tat is.hail.expr.ir.lowering.EvalRelationalLetsPass.transform(LoweringPass.scala:147)\n\tat is.hail.expr.ir.lowering.LoweringPass.$anonfun$apply$3(LoweringPass.scala:16)\n\tat is.hail.utils.ExecutionTimer.time(ExecutionTimer.scala:81)\n\tat is.hail.expr.ir.lowering.LoweringPass.$anonfun$apply$1(LoweringPass.scala:16)\n\tat is.hail.utils.ExecutionTimer.time(ExecutionTimer.scala:81)\n\tat is.hail.expr.ir.lowering.LoweringPass.apply(LoweringPass.scala:14)\n\tat is.hail.expr.ir.lowering.LoweringPass.apply$(LoweringPass.scala:13)\n\tat is.hail.expr.ir.lowering.EvalRelationalLetsPass.apply(LoweringPass.scala:141)\n\tat is.hail.expr.ir.lowering.LoweringPipeline.$anonfun$apply$1(LoweringPipeline.scala:22)\n\tat is.hail.expr.ir.lowering.LoweringPipeline.$anonfun$apply$1$adapted(LoweringPipeline.scala:20)\n\tat scala.collection.mutable.ResizableArray.foreach(ResizableArray.scala:62)\n\tat scala.collection.mutable.ResizableArray.foreach$(ResizableArray.scala:55)\n\tat scala.collection.mutable.ArrayBuffer.foreach(ArrayBuffer.scala:49)\n\tat is.hail.expr.ir.lowering.LoweringPipeline.apply(LoweringPipeline.scala:20)\n\tat is.hail.expr.ir.CompileAndEvaluate$._apply(CompileAndEvaluate.scala:50)\n\tat is.hail.backend.spark.SparkBackend._execute(SparkBackend.scala:463)\n\tat is.hail.backend.spark.SparkBackend.$anonfun$executeEncode$2(SparkBackend.scala:499)\n\tat is.hail.backend.ExecuteContext$.$anonfun$scoped$3(ExecuteContext.scala:75)\n\tat is.hail.utils.package$.using(package.scala:635)\n\tat is.hail.backend.ExecuteContext$.$anonfun$scoped$2(ExecuteContext.scala:75)\n\tat is.hail.utils.package$.using(package.scala:635)\n\tat is.hail.annotations.RegionPool$.scoped(RegionPool.scala:17)\n\tat is.hail.backend.ExecuteContext$.scoped(ExecuteContext.scala:63)\n\tat is.hail.backend.spark.SparkBackend.withExecuteContext(SparkBackend.scala:351)\n\tat is.hail.backend.spark.SparkBackend.$anonfun$executeEncode$1(SparkBackend.scala:496)\n\tat is.hail.utils.ExecutionTimer$.time(ExecutionTimer.scala:52)\n\tat is.hail.backend.spark.SparkBackend.executeEncode(SparkBackend.scala:495)\n\tat java.base/jdk.internal.reflect.NativeMethodAccessorImpl.invoke0(Native Method)\n\tat java.base/jdk.internal.reflect.NativeMethodAccessorImpl.invoke(NativeMethodAccessorImpl.java:62)\n\tat java.base/jdk.internal.reflect.DelegatingMethodAccessorImpl.invoke(DelegatingMethodAccessorImpl.java:43)\n\tat java.base/java.lang.reflect.Method.invoke(Method.java:566)\n\tat py4j.reflection.MethodInvoker.invoke(MethodInvoker.java:244)\n\tat py4j.reflection.ReflectionEngine.invoke(ReflectionEngine.java:357)\n\tat py4j.Gateway.invoke(Gateway.java:282)\n\tat py4j.commands.AbstractCommand.invokeMethod(AbstractCommand.java:132)\n\tat py4j.commands.CallCommand.execute(CallCommand.java:79)\n\tat py4j.ClientServerConnection.waitForCommands(ClientServerConnection.java:182)\n\tat py4j.ClientServerConnection.run(ClientServerConnection.java:106)\n\tat java.base/java.lang.Thread.run(Thread.java:834)\n\n\n\nHail version: 0.2.113-cf32652c5077\nError summary: NoClassDefFoundError: Could not initialize class java.util.zip.Adler32"
     ]
    }
   ],
   "source": [
    "pheno = hl.import_table(\n",
    "    '/net/pr2/projects/plgrid/plggneuromol/imdik-zekanowski-gts/data/pheno/GTS-coded-corrected-june-2021.csv',\n",
    "    impute=True,\n",
    "    delimiter=',',\n",
    "    quote=\"\\\"\"\n",
    ")\n",
    "\n",
    "pheno = pheno.key_by(pheno.ID)"
   ]
  },
  {
   "cell_type": "code",
   "execution_count": null,
   "id": "fb443749-5991-40f6-86d8-a52a97f62234",
   "metadata": {
    "tags": []
   },
   "outputs": [],
   "source": [
    "for idx, mt in enumerate(mts):\n",
    "    mt = mt.annotate_cols(\n",
    "    group = hl.if_else(\n",
    "            mt.s.contains('B'),\n",
    "            'local_controls',\n",
    "            hl.if_else(\n",
    "                (mt.s.contains('NA') | mt.s.contains('HG')),\n",
    "                '1kg_controls',\n",
    "                hl.if_else(\n",
    "                    mt.s.contains('polish'),\n",
    "                    'polish_controls',\n",
    "                    'GTS'\n",
    "                )\n",
    "            )\n",
    "        )\n",
    "    )\n",
    "    \n",
    "    mt = mt.annotate_cols(phenotypes = pheno[mt.s])\n",
    "    mts[idx] = mt"
   ]
  },
  {
   "cell_type": "code",
   "execution_count": null,
   "id": "2cfa4a11-fdeb-43a7-8b03-6cd62e3f9fea",
   "metadata": {
    "tags": []
   },
   "outputs": [],
   "source": [
    "#sportsmen vs GTS 40\n",
    "s_vs_gts = mts[0].filter_cols((mts[0].group == 'local_controls') | (mts[0].phenotypes.family == '.'))\n",
    "s_vs_gts = s_vs_gts.filter_rows(hl.agg.any(s_vs_gts.GT.is_non_ref()))\n",
    "s_vs_gts = s_vs_gts.checkpoint(localfs_path+'s_vs_gts.mt')    \n",
    "\n",
    "# polish no zeros vs GTS 40\n",
    "pw_vs_gts = mts[2].filter_cols((mts[1].group == 'polish_controls') | (mts[1].phenotypes.family == '.'))\n",
    "pw_vs_gts = pw_vs_gts.filter_rows(hl.agg.any(pw_vs_gts.GT.is_non_ref()))\n",
    "pw_vs_gts = pw_vs_gts.checkpoint(localfs_path+'pw_vs_gts.mt') \n"
   ]
  },
  {
   "cell_type": "code",
   "execution_count": null,
   "id": "4f21b243-52cc-458a-b525-c3327fac59c1",
   "metadata": {
    "tags": []
   },
   "outputs": [],
   "source": [
    "s_vs_gts = hl.read_matrix_table(localfs_path+'s_vs_gts.mt')  \n",
    "pw_vs_gts = hl.read_matrix_table(localfs_path+'pw_vs_gts.mt') "
   ]
  },
  {
   "cell_type": "code",
   "execution_count": null,
   "id": "d565d33e-67c4-495c-b46a-8b27588930cb",
   "metadata": {
    "tags": []
   },
   "outputs": [],
   "source": [
    "mts = [\n",
    "    s_vs_gts,\n",
    "    pw_vs_gts\n",
    "]\n",
    "mts_2 = [\n",
    "    s_vs_gts,\n",
    "    pw_vs_gts\n",
    "]\n",
    "mts_paths = [\n",
    "    's_vs_gts'\n",
    "    'pw_vs_gts'\n",
    "]"
   ]
  },
  {
   "cell_type": "code",
   "execution_count": null,
   "id": "b20be30f-0680-4d15-8aee-5b99cb591dac",
   "metadata": {},
   "outputs": [],
   "source": [
    "for idx, mt in enumerate(mts):\n",
    "    mts[idx] = run_pca(mt, mts_paths[idx])"
   ]
  },
  {
   "cell_type": "code",
   "execution_count": null,
   "id": "e790e5f5-2b86-460c-9173-f1a35069ef43",
   "metadata": {
    "tags": []
   },
   "outputs": [],
   "source": [
    "for mt_path in mts_paths:\n",
    "    mt = hl.read_matrix_table(localfs_path+'after_pca_20_'+mt_path)\n",
    "    mt.write(\n",
    "        '/net/pr2/projects/plgrid/plggneuromol/imdik-zekanowski-gts/data/mts/oligogenic-model/redone_after_pca_20_'+mt_path+'.mt',\n",
    "        overwrite = True\n",
    "    )"
   ]
  },
  {
   "cell_type": "code",
   "execution_count": null,
   "id": "45f04f87-ea97-4e13-90a7-641e3d7299ff",
   "metadata": {
    "tags": []
   },
   "outputs": [],
   "source": [
    "mts_paths = [\n",
    "    's_vs_gts'\n",
    "    'pw_vs_gts'\n",
    "]\n",
    "\n",
    "mts = []\n",
    "\n",
    "for mt_path in mts_paths:\n",
    "    mt = hl.read_matrix_table(\n",
    "        '/net/pr2/projects/plgrid/plggneuromol/imdik-zekanowski-gts/data/mts/oligogenic-model/redone_after_pca_20_'+mt_path+'.mt'\n",
    "    )\n",
    "    \n",
    "    mts.append(mt)"
   ]
  },
  {
   "cell_type": "code",
   "execution_count": null,
   "id": "5302ee7d-b0bb-4141-8895-b6787eba4b2a",
   "metadata": {
    "tags": []
   },
   "outputs": [],
   "source": [
    "mts_2 = []\n",
    "\n",
    "for idx, mt in enumerate(mts):\n",
    "     mts_2.append(run_pca_no_filter(mt, mts_paths[idx]))"
   ]
  },
  {
   "cell_type": "code",
   "execution_count": null,
   "id": "cbe2afb6-078f-4a84-8a74-23a65f434606",
   "metadata": {
    "tags": []
   },
   "outputs": [],
   "source": [
    "mts_paths = [\n",
    "    's_vs_gts'\n",
    "    'pw_vs_gts'\n",
    "]"
   ]
  },
  {
   "cell_type": "code",
   "execution_count": null,
   "id": "e6c55840-013e-4ae9-94c2-ed9b113d2973",
   "metadata": {
    "tags": []
   },
   "outputs": [],
   "source": [
    "mts = []\n",
    "\n",
    "for mt_path in mts_paths:\n",
    "    mt = hl.read_matrix_table(localfs_path+'after_pca_no_filters_'+mt_path)\n",
    "    mts.append(mt)"
   ]
  },
  {
   "cell_type": "code",
   "execution_count": null,
   "id": "8bbed3fb-4192-470b-9e08-e3d6aba138d5",
   "metadata": {},
   "outputs": [],
   "source": [
    "mts_2 = []\n",
    "\n",
    "for mt_path in mts_paths:\n",
    "    \n",
    "    mt = hl.read_matrix_table(\n",
    "        '/net/pr2/projects/plgrid/plggneuromol/imdik-zekanowski-gts/data/mts/oligogenic-model/redone_after_pca_20_'+mt_path+'.mt'\n",
    "    ) \n",
    "    \n",
    "    \n",
    "    mts_2.append(mt)"
   ]
  },
  {
   "cell_type": "code",
   "execution_count": null,
   "id": "3df0e23d-682d-4405-b457-0f9ab2c173ed",
   "metadata": {},
   "outputs": [],
   "source": [
    "for idx, mt in enumerate(mts):\n",
    "    \n",
    "    mt = mt.annotate_cols(scores_no_filter = mt.scores) #these are just the subsetted scores\n",
    "    mt = mt.annotate_cols(pruned_scores = mts_2[idx].cols()[mt.s].scores) #these are the pruned scores\n",
    "    mt = mt.naive_coalesce(1000)\n",
    "    \n",
    "    mt.write(\n",
    "        '/net/pr2/projects/plgrid/plggneuromol/imdik-zekanowski-gts/data/mts/oligogenic-model/'+mts_paths[idx]+'_pca.mt',\n",
    "        overwrite = True\n",
    "    ) "
   ]
  },
  {
   "cell_type": "code",
   "execution_count": 5,
   "id": "44cc21f5-be58-40a1-a6ad-a03c8a35e767",
   "metadata": {
    "tags": []
   },
   "outputs": [],
   "source": [
    "mts_paths = [\n",
    "    's_vs_gts'\n",
    "    'pw_vs_gts'\n",
    "]\n",
    "\n",
    "mts = []\n",
    "\n",
    "for path in mts_paths:\n",
    "\n",
    "    mt = hl.read_matrix_table(\n",
    "        '/net/pr2/projects/plgrid/plggneuromol/imdik-zekanowski-gts/data/mts/oligogenic-model/'+path+'_pca.mt'\n",
    "    )\n",
    "    \n",
    "    mts.append(mt)"
   ]
  },
  {
   "cell_type": "code",
   "execution_count": 6,
   "id": "4839edfd-b3dc-4519-a32c-51d649b44053",
   "metadata": {
    "tags": []
   },
   "outputs": [
    {
     "name": "stderr",
     "output_type": "stream",
     "text": [
      "2023-05-04 09:53:20.629 Hail: INFO: wrote matrix table with 4753663 rows and 140 columns in 878 partitions to /localfs/2492284/no_outlierss_vs_gts_no_outs_pruned.mt\n",
      "2023-05-04 09:55:28.051 Hail: INFO: wrote matrix table with 4753663 rows and 140 columns in 878 partitions to /localfs/2492284/no_outlierss_vs_gts_no_outs_subs.mt\n",
      "2023-05-04 09:57:49.181 Hail: INFO: wrote matrix table with 3747953 rows and 1038 columns in 878 partitions to /localfs/2492284/no_outliersp0_vs_gts_no_outs_pruned.mt\n",
      "2023-05-04 09:59:55.567 Hail: INFO: wrote matrix table with 3747953 rows and 1038 columns in 878 partitions to /localfs/2492284/no_outliersp0_vs_gts_no_outs_subs.mt\n",
      "2023-05-04 10:02:07.366 Hail: INFO: wrote matrix table with 3031891 rows and 1038 columns in 878 partitions to /localfs/2492284/no_outlierspw_vs_gts_no_outs_pruned.mt\n",
      "2023-05-04 10:04:06.156 Hail: INFO: wrote matrix table with 3031891 rows and 1038 columns in 878 partitions to /localfs/2492284/no_outlierspw_vs_gts_no_outs_subs.mt\n",
      "2023-05-04 10:07:00.900 Hail: INFO: wrote matrix table with 5174161 rows and 540 columns in 878 partitions to /localfs/2492284/no_outlierseur_vs_gts_no_outs_pruned.mt\n",
      "2023-05-04 10:09:35.881 Hail: INFO: wrote matrix table with 5174161 rows and 540 columns in 878 partitions to /localfs/2492284/no_outlierseur_vs_gts_no_outs_subs.mt\n"
     ]
    }
   ],
   "source": [
    "# remove PCA outliers\n",
    "\n",
    "mtx_s_2 = []\n",
    "\n",
    "for idx, mt in enumerate(mts):\n",
    "    \n",
    "    mtx = remove_pca_outliers(mt, 'pruned_scores', 2, mts_paths[idx], '_no_outs_pruned')\n",
    "    \n",
    "    mtx_2 = remove_pca_outliers(mt, 'scores_no_filter', 2, mts_paths[idx], '_no_outs_subs')\n",
    "    \n",
    "    mtx = mtx.drop(\n",
    "        mtx['scores'],\n",
    "        mtx['scores_no_filter'],\n",
    "        mtx['pruned_scores']\n",
    "    )\n",
    "    \n",
    "    mtx_2 = mtx_2.drop(\n",
    "        mtx_2['scores'],\n",
    "        mtx_2['scores_no_filter'],\n",
    "        mtx_2['pruned_scores']\n",
    "    )\n",
    "    \n",
    "    mts[idx] = mtx \n",
    "    mtx_s_2.append(mtx_2)"
   ]
  },
  {
   "cell_type": "code",
   "execution_count": 7,
   "id": "8470a04e-caae-4bb5-83c9-a054a8ac0067",
   "metadata": {
    "tags": []
   },
   "outputs": [
    {
     "name": "stdout",
     "output_type": "stream",
     "text": [
      "(4753663, 140)\n",
      "(3747953, 1038)\n",
      "(3031891, 1038)\n",
      "(5174161, 540)\n"
     ]
    }
   ],
   "source": [
    "for mt in mts:\n",
    "    print(mt.count()) # option 1 - 2 last score, 10 sds"
   ]
  },
  {
   "cell_type": "code",
   "execution_count": 8,
   "id": "4187ca66-7ffa-49bf-9013-4af2cff1fb98",
   "metadata": {
    "tags": []
   },
   "outputs": [
    {
     "name": "stdout",
     "output_type": "stream",
     "text": [
      "(4753663, 140)\n",
      "(3747953, 1038)\n",
      "(3031891, 1038)\n",
      "(5174161, 540)\n"
     ]
    }
   ],
   "source": [
    "for mtx in mtx_s_2:\n",
    "    print(mtx.count())"
   ]
  },
  {
   "cell_type": "code",
   "execution_count": 9,
   "id": "e2c84878-b3e9-4495-92bc-bd720ea5fc7d",
   "metadata": {
    "tags": []
   },
   "outputs": [
    {
     "name": "stdout",
     "output_type": "stream",
     "text": [
      "{'GTS': 38, 'local_controls': 102}\n",
      "{'GTS': 38, 'polish_controls': 1000}\n",
      "{'GTS': 38, 'polish_controls': 1000}\n",
      "{'1kg_controls': 501, 'GTS': 39}\n"
     ]
    }
   ],
   "source": [
    "for mt in mts:\n",
    "    print(mt.aggregate_cols(hl.agg.counter(mt.group))) # option 1 - 2 last score, 10 sds <- ok, let's keep this and see"
   ]
  },
  {
   "cell_type": "code",
   "execution_count": 10,
   "id": "26f01f5f-bbe0-47df-9449-0644090f14b0",
   "metadata": {
    "tags": []
   },
   "outputs": [
    {
     "name": "stdout",
     "output_type": "stream",
     "text": [
      "{'GTS': 38, 'local_controls': 102}\n",
      "{'GTS': 38, 'polish_controls': 1000}\n",
      "{'GTS': 38, 'polish_controls': 1000}\n",
      "{'1kg_controls': 501, 'GTS': 39}\n"
     ]
    }
   ],
   "source": [
    "for mtx in mtx_s_2:\n",
    "    print(mtx.aggregate_cols(hl.agg.counter(mtx.group))) # option 1 - 2 last score, 10 sds <- ok, let's keep this and see"
   ]
  },
  {
   "cell_type": "code",
   "execution_count": 10,
   "id": "b19acb6c-2304-413c-a734-ad9c8fcc209a",
   "metadata": {},
   "outputs": [],
   "source": [
    "new_mt_paths = [\n",
    "    'no_outlierseur_vs_gts_no_outs_pruned.mt'\n",
    "    'no_outlierspw_vs_gts_no_outs_pruned.mt'\n",
    "]"
   ]
  },
  {
   "cell_type": "code",
   "execution_count": null,
   "id": "346c53c5-0c42-462c-b4dd-45a0ccec32de",
   "metadata": {
    "collapsed": true,
    "jupyter": {
     "outputs_hidden": true
    },
    "tags": []
   },
   "outputs": [
    {
     "name": "stdout",
     "output_type": "stream",
     "text": [
      "no_outliersp0_vs_gts_no_outs_pruned.mt\n",
      "(3747953, 1038)\n"
     ]
    },
    {
     "name": "stderr",
     "output_type": "stream",
     "text": [
      "2023-05-05 12:44:27.264 Hail: INFO: wrote matrix table with 3747953 rows and 1038 columns in 878 partitions to /localfs/2492284/variant_qced_pca_round_twono_outliersp0_vs_gts_no_outs_pruned.mt\n",
      "2023-05-05 12:44:30.512 Hail: INFO: ld_prune: running local pruning stage with max queue size of 216481 variants\n",
      "2023-05-05 12:55:07.366 Hail: INFO: wrote table with 1646893 rows in 878 partitions to /localfs/2492284/tmp_hail/persist_tableVXoMh7d2Uu\n",
      "2023-05-05 12:55:17.398 Hail: INFO: wrote table with 1646893 rows in 878 partitions to /localfs/2492284/tmp_hail/0UJo4NsnDKfhT84iYNSbTS\n",
      "[Stage 481:=============>                                      (107 + 12) / 403]\r"
     ]
    }
   ],
   "source": [
    "for path in new_mt_paths:\n",
    "    \n",
    "    mt = hl.read_matrix_table(localfs_path+path)\n",
    "    print(path)\n",
    "    print(mt.count())\n",
    "\n",
    "    mt = run_pca(mt, path, 'pca_round_two')\n",
    "    print('run pca for '+path)\n",
    "    mt = run_pca_no_filter(mt, path, 'pca_round_two')\n",
    "    print('run pca for'+path+' no filters')"
   ]
  },
  {
   "cell_type": "code",
   "execution_count": 15,
   "id": "f22fccae-6a3e-4834-bb84-47148264b0ef",
   "metadata": {
    "tags": []
   },
   "outputs": [
    {
     "name": "stdout",
     "output_type": "stream",
     "text": [
      "(5174161, 540)\n",
      "(3747953, 1038)\n",
      "(3031891, 1038)\n",
      "(4753663, 140)\n"
     ]
    }
   ],
   "source": [
    "mts = []\n",
    "for path in new_mt_paths:\n",
    "    mt = hl.read_matrix_table(\n",
    "        localfs_path+'after_pca_no_filters_'+'pca_round_two'+path)\n",
    "    print(mt.count())\n",
    "    mts.append(mt)"
   ]
  }
 ],
 "metadata": {
  "kernelspec": {
   "display_name": "Python 3 (ipykernel)",
   "language": "python",
   "name": "python3"
  },
  "language_info": {
   "codemirror_mode": {
    "name": "ipython",
    "version": 3
   },
   "file_extension": ".py",
   "mimetype": "text/x-python",
   "name": "python",
   "nbconvert_exporter": "python",
   "pygments_lexer": "ipython3",
   "version": "3.10.4"
  }
 },
 "nbformat": 4,
 "nbformat_minor": 5
}
