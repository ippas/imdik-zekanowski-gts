{
 "cells": [
  {
   "cell_type": "code",
   "execution_count": 1,
   "id": "8830a0a3-d54a-4da3-8b32-a33ae3bbdb8c",
   "metadata": {},
   "outputs": [],
   "source": [
    "import os\n",
    "localfs_path = os.environ.get('SCRATCH_LOCAL') + '/'"
   ]
  },
  {
   "cell_type": "code",
   "execution_count": 2,
   "id": "7c4762a4-78b7-4788-aac0-b3510bd10a22",
   "metadata": {
    "tags": []
   },
   "outputs": [
    {
     "name": "stderr",
     "output_type": "stream",
     "text": [
      "Picked up _JAVA_OPTIONS: -Djava.io.tmpdir=/localfs/4609352/\n",
      "Picked up _JAVA_OPTIONS: -Djava.io.tmpdir=/localfs/4609352/\n"
     ]
    },
    {
     "name": "stdout",
     "output_type": "stream",
     "text": [
      "23/08/27 18:31:15 WARN NativeCodeLoader: Unable to load native-hadoop library for your platform... using builtin-java classes where applicable\n"
     ]
    },
    {
     "name": "stderr",
     "output_type": "stream",
     "text": [
      "Setting default log level to \"WARN\".\n",
      "To adjust logging level use sc.setLogLevel(newLevel). For SparkR, use setLogLevel(newLevel).\n",
      "Running on Apache Spark version 3.3.2\n",
      "SparkUI available at http://ac0767:4040\n",
      "Welcome to\n",
      "     __  __     <>__\n",
      "    / /_/ /__  __/ /\n",
      "   / __  / _ `/ / /\n",
      "  /_/ /_/\\_,_/_/_/   version 0.2.113-cf32652c5077\n",
      "LOGGING: writing to /net/pr2/projects/plgrid/plggneuromol/imdik-zekanowski-gts/preprocessing/oligogenic-model/hail-20230827-1831-0.2.113-cf32652c5077.log\n"
     ]
    }
   ],
   "source": [
    "os.environ['_JAVA_OPTIONS'] = f'-Djava.io.tmpdir={localfs_path}'\n",
    "\n",
    "import hail as hl\n",
    "\n",
    "hl.init(\n",
    "    tmp_dir=(localfs_path+'tmp_hail'),\n",
    "    spark_conf={'spark.driver.memory': '30G', 'spark.executor.memory': '10G'}, # I don't know what should be here\n",
    "    default_reference='GRCh38'\n",
    ") "
   ]
  },
  {
   "cell_type": "code",
   "execution_count": 3,
   "id": "cf582ceb-8db7-456a-933f-137b8ccc157e",
   "metadata": {
    "tags": []
   },
   "outputs": [
    {
     "data": {
      "text/html": [
       "\n",
       "    <div class=\"bk-root\">\n",
       "        <a href=\"https://bokeh.org\" target=\"_blank\" class=\"bk-logo bk-logo-small bk-logo-notebook\"></a>\n",
       "        <span id=\"1001\">Loading BokehJS ...</span>\n",
       "    </div>"
      ]
     },
     "metadata": {},
     "output_type": "display_data"
    },
    {
     "data": {
      "application/javascript": [
       "\n",
       "(function(root) {\n",
       "  function now() {\n",
       "    return new Date();\n",
       "  }\n",
       "\n",
       "  var force = true;\n",
       "\n",
       "  if (typeof root._bokeh_onload_callbacks === \"undefined\" || force === true) {\n",
       "    root._bokeh_onload_callbacks = [];\n",
       "    root._bokeh_is_loading = undefined;\n",
       "  }\n",
       "\n",
       "  var JS_MIME_TYPE = 'application/javascript';\n",
       "  var HTML_MIME_TYPE = 'text/html';\n",
       "  var EXEC_MIME_TYPE = 'application/vnd.bokehjs_exec.v0+json';\n",
       "  var CLASS_NAME = 'output_bokeh rendered_html';\n",
       "\n",
       "  /**\n",
       "   * Render data to the DOM node\n",
       "   */\n",
       "  function render(props, node) {\n",
       "    var script = document.createElement(\"script\");\n",
       "    node.appendChild(script);\n",
       "  }\n",
       "\n",
       "  /**\n",
       "   * Handle when an output is cleared or removed\n",
       "   */\n",
       "  function handleClearOutput(event, handle) {\n",
       "    var cell = handle.cell;\n",
       "\n",
       "    var id = cell.output_area._bokeh_element_id;\n",
       "    var server_id = cell.output_area._bokeh_server_id;\n",
       "    // Clean up Bokeh references\n",
       "    if (id != null && id in Bokeh.index) {\n",
       "      Bokeh.index[id].model.document.clear();\n",
       "      delete Bokeh.index[id];\n",
       "    }\n",
       "\n",
       "    if (server_id !== undefined) {\n",
       "      // Clean up Bokeh references\n",
       "      var cmd = \"from bokeh.io.state import curstate; print(curstate().uuid_to_server['\" + server_id + \"'].get_sessions()[0].document.roots[0]._id)\";\n",
       "      cell.notebook.kernel.execute(cmd, {\n",
       "        iopub: {\n",
       "          output: function(msg) {\n",
       "            var id = msg.content.text.trim();\n",
       "            if (id in Bokeh.index) {\n",
       "              Bokeh.index[id].model.document.clear();\n",
       "              delete Bokeh.index[id];\n",
       "            }\n",
       "          }\n",
       "        }\n",
       "      });\n",
       "      // Destroy server and session\n",
       "      var cmd = \"import bokeh.io.notebook as ion; ion.destroy_server('\" + server_id + \"')\";\n",
       "      cell.notebook.kernel.execute(cmd);\n",
       "    }\n",
       "  }\n",
       "\n",
       "  /**\n",
       "   * Handle when a new output is added\n",
       "   */\n",
       "  function handleAddOutput(event, handle) {\n",
       "    var output_area = handle.output_area;\n",
       "    var output = handle.output;\n",
       "\n",
       "    // limit handleAddOutput to display_data with EXEC_MIME_TYPE content only\n",
       "    if ((output.output_type != \"display_data\") || (!output.data.hasOwnProperty(EXEC_MIME_TYPE))) {\n",
       "      return\n",
       "    }\n",
       "\n",
       "    var toinsert = output_area.element.find(\".\" + CLASS_NAME.split(' ')[0]);\n",
       "\n",
       "    if (output.metadata[EXEC_MIME_TYPE][\"id\"] !== undefined) {\n",
       "      toinsert[toinsert.length - 1].firstChild.textContent = output.data[JS_MIME_TYPE];\n",
       "      // store reference to embed id on output_area\n",
       "      output_area._bokeh_element_id = output.metadata[EXEC_MIME_TYPE][\"id\"];\n",
       "    }\n",
       "    if (output.metadata[EXEC_MIME_TYPE][\"server_id\"] !== undefined) {\n",
       "      var bk_div = document.createElement(\"div\");\n",
       "      bk_div.innerHTML = output.data[HTML_MIME_TYPE];\n",
       "      var script_attrs = bk_div.children[0].attributes;\n",
       "      for (var i = 0; i < script_attrs.length; i++) {\n",
       "        toinsert[toinsert.length - 1].firstChild.setAttribute(script_attrs[i].name, script_attrs[i].value);\n",
       "      }\n",
       "      // store reference to server id on output_area\n",
       "      output_area._bokeh_server_id = output.metadata[EXEC_MIME_TYPE][\"server_id\"];\n",
       "    }\n",
       "  }\n",
       "\n",
       "  function register_renderer(events, OutputArea) {\n",
       "\n",
       "    function append_mime(data, metadata, element) {\n",
       "      // create a DOM node to render to\n",
       "      var toinsert = this.create_output_subarea(\n",
       "        metadata,\n",
       "        CLASS_NAME,\n",
       "        EXEC_MIME_TYPE\n",
       "      );\n",
       "      this.keyboard_manager.register_events(toinsert);\n",
       "      // Render to node\n",
       "      var props = {data: data, metadata: metadata[EXEC_MIME_TYPE]};\n",
       "      render(props, toinsert[toinsert.length - 1]);\n",
       "      element.append(toinsert);\n",
       "      return toinsert\n",
       "    }\n",
       "\n",
       "    /* Handle when an output is cleared or removed */\n",
       "    events.on('clear_output.CodeCell', handleClearOutput);\n",
       "    events.on('delete.Cell', handleClearOutput);\n",
       "\n",
       "    /* Handle when a new output is added */\n",
       "    events.on('output_added.OutputArea', handleAddOutput);\n",
       "\n",
       "    /**\n",
       "     * Register the mime type and append_mime function with output_area\n",
       "     */\n",
       "    OutputArea.prototype.register_mime_type(EXEC_MIME_TYPE, append_mime, {\n",
       "      /* Is output safe? */\n",
       "      safe: true,\n",
       "      /* Index of renderer in `output_area.display_order` */\n",
       "      index: 0\n",
       "    });\n",
       "  }\n",
       "\n",
       "  // register the mime type if in Jupyter Notebook environment and previously unregistered\n",
       "  if (root.Jupyter !== undefined) {\n",
       "    var events = require('base/js/events');\n",
       "    var OutputArea = require('notebook/js/outputarea').OutputArea;\n",
       "\n",
       "    if (OutputArea.prototype.mime_types().indexOf(EXEC_MIME_TYPE) == -1) {\n",
       "      register_renderer(events, OutputArea);\n",
       "    }\n",
       "  }\n",
       "\n",
       "  \n",
       "  if (typeof (root._bokeh_timeout) === \"undefined\" || force === true) {\n",
       "    root._bokeh_timeout = Date.now() + 5000;\n",
       "    root._bokeh_failed_load = false;\n",
       "  }\n",
       "\n",
       "  var NB_LOAD_WARNING = {'data': {'text/html':\n",
       "     \"<div style='background-color: #fdd'>\\n\"+\n",
       "     \"<p>\\n\"+\n",
       "     \"BokehJS does not appear to have successfully loaded. If loading BokehJS from CDN, this \\n\"+\n",
       "     \"may be due to a slow or bad network connection. Possible fixes:\\n\"+\n",
       "     \"</p>\\n\"+\n",
       "     \"<ul>\\n\"+\n",
       "     \"<li>re-rerun `output_notebook()` to attempt to load from CDN again, or</li>\\n\"+\n",
       "     \"<li>use INLINE resources instead, as so:</li>\\n\"+\n",
       "     \"</ul>\\n\"+\n",
       "     \"<code>\\n\"+\n",
       "     \"from bokeh.resources import INLINE\\n\"+\n",
       "     \"output_notebook(resources=INLINE)\\n\"+\n",
       "     \"</code>\\n\"+\n",
       "     \"</div>\"}};\n",
       "\n",
       "  function display_loaded() {\n",
       "    var el = document.getElementById(\"1001\");\n",
       "    if (el != null) {\n",
       "      el.textContent = \"BokehJS is loading...\";\n",
       "    }\n",
       "    if (root.Bokeh !== undefined) {\n",
       "      if (el != null) {\n",
       "        el.textContent = \"BokehJS \" + root.Bokeh.version + \" successfully loaded.\";\n",
       "      }\n",
       "    } else if (Date.now() < root._bokeh_timeout) {\n",
       "      setTimeout(display_loaded, 100)\n",
       "    }\n",
       "  }\n",
       "\n",
       "\n",
       "  function run_callbacks() {\n",
       "    try {\n",
       "      root._bokeh_onload_callbacks.forEach(function(callback) {\n",
       "        if (callback != null)\n",
       "          callback();\n",
       "      });\n",
       "    } finally {\n",
       "      delete root._bokeh_onload_callbacks\n",
       "    }\n",
       "    console.debug(\"Bokeh: all callbacks have finished\");\n",
       "  }\n",
       "\n",
       "  function load_libs(css_urls, js_urls, callback) {\n",
       "    if (css_urls == null) css_urls = [];\n",
       "    if (js_urls == null) js_urls = [];\n",
       "\n",
       "    root._bokeh_onload_callbacks.push(callback);\n",
       "    if (root._bokeh_is_loading > 0) {\n",
       "      console.debug(\"Bokeh: BokehJS is being loaded, scheduling callback at\", now());\n",
       "      return null;\n",
       "    }\n",
       "    if (js_urls == null || js_urls.length === 0) {\n",
       "      run_callbacks();\n",
       "      return null;\n",
       "    }\n",
       "    console.debug(\"Bokeh: BokehJS not loaded, scheduling load and callback at\", now());\n",
       "    root._bokeh_is_loading = css_urls.length + js_urls.length;\n",
       "\n",
       "    function on_load() {\n",
       "      root._bokeh_is_loading--;\n",
       "      if (root._bokeh_is_loading === 0) {\n",
       "        console.debug(\"Bokeh: all BokehJS libraries/stylesheets loaded\");\n",
       "        run_callbacks()\n",
       "      }\n",
       "    }\n",
       "\n",
       "    function on_error() {\n",
       "      console.error(\"failed to load \" + url);\n",
       "    }\n",
       "\n",
       "    for (var i = 0; i < css_urls.length; i++) {\n",
       "      var url = css_urls[i];\n",
       "      const element = document.createElement(\"link\");\n",
       "      element.onload = on_load;\n",
       "      element.onerror = on_error;\n",
       "      element.rel = \"stylesheet\";\n",
       "      element.type = \"text/css\";\n",
       "      element.href = url;\n",
       "      console.debug(\"Bokeh: injecting link tag for BokehJS stylesheet: \", url);\n",
       "      document.body.appendChild(element);\n",
       "    }\n",
       "\n",
       "    for (var i = 0; i < js_urls.length; i++) {\n",
       "      var url = js_urls[i];\n",
       "      var element = document.createElement('script');\n",
       "      element.onload = on_load;\n",
       "      element.onerror = on_error;\n",
       "      element.async = false;\n",
       "      element.src = url;\n",
       "      console.debug(\"Bokeh: injecting script tag for BokehJS library: \", url);\n",
       "      document.head.appendChild(element);\n",
       "    }\n",
       "  };var element = document.getElementById(\"1001\");\n",
       "  if (element == null) {\n",
       "    console.error(\"Bokeh: ERROR: autoload.js configured with elementid '1001' but no matching script tag was found. \")\n",
       "    return false;\n",
       "  }\n",
       "\n",
       "  function inject_raw_css(css) {\n",
       "    const element = document.createElement(\"style\");\n",
       "    element.appendChild(document.createTextNode(css));\n",
       "    document.body.appendChild(element);\n",
       "  }\n",
       "\n",
       "  \n",
       "  var js_urls = [\"https://cdn.pydata.org/bokeh/release/bokeh-1.4.0.min.js\", \"https://cdn.pydata.org/bokeh/release/bokeh-widgets-1.4.0.min.js\", \"https://cdn.pydata.org/bokeh/release/bokeh-tables-1.4.0.min.js\", \"https://cdn.pydata.org/bokeh/release/bokeh-gl-1.4.0.min.js\"];\n",
       "  var css_urls = [];\n",
       "  \n",
       "\n",
       "  var inline_js = [\n",
       "    function(Bokeh) {\n",
       "      Bokeh.set_log_level(\"info\");\n",
       "    },\n",
       "    function(Bokeh) {\n",
       "    \n",
       "    \n",
       "    }\n",
       "  ];\n",
       "\n",
       "  function run_inline_js() {\n",
       "    \n",
       "    if (root.Bokeh !== undefined || force === true) {\n",
       "      \n",
       "    for (var i = 0; i < inline_js.length; i++) {\n",
       "      inline_js[i].call(root, root.Bokeh);\n",
       "    }\n",
       "    if (force === true) {\n",
       "        display_loaded();\n",
       "      }} else if (Date.now() < root._bokeh_timeout) {\n",
       "      setTimeout(run_inline_js, 100);\n",
       "    } else if (!root._bokeh_failed_load) {\n",
       "      console.log(\"Bokeh: BokehJS failed to load within specified timeout.\");\n",
       "      root._bokeh_failed_load = true;\n",
       "    } else if (force !== true) {\n",
       "      var cell = $(document.getElementById(\"1001\")).parents('.cell').data().cell;\n",
       "      cell.output_area.append_execute_result(NB_LOAD_WARNING)\n",
       "    }\n",
       "\n",
       "  }\n",
       "\n",
       "  if (root._bokeh_is_loading === 0) {\n",
       "    console.debug(\"Bokeh: BokehJS loaded, going straight to plotting\");\n",
       "    run_inline_js();\n",
       "  } else {\n",
       "    load_libs(css_urls, js_urls, function() {\n",
       "      console.debug(\"Bokeh: BokehJS plotting callback run at\", now());\n",
       "      run_inline_js();\n",
       "    });\n",
       "  }\n",
       "}(window));"
      ],
      "application/vnd.bokehjs_load.v0+json": "\n(function(root) {\n  function now() {\n    return new Date();\n  }\n\n  var force = true;\n\n  if (typeof root._bokeh_onload_callbacks === \"undefined\" || force === true) {\n    root._bokeh_onload_callbacks = [];\n    root._bokeh_is_loading = undefined;\n  }\n\n  \n\n  \n  if (typeof (root._bokeh_timeout) === \"undefined\" || force === true) {\n    root._bokeh_timeout = Date.now() + 5000;\n    root._bokeh_failed_load = false;\n  }\n\n  var NB_LOAD_WARNING = {'data': {'text/html':\n     \"<div style='background-color: #fdd'>\\n\"+\n     \"<p>\\n\"+\n     \"BokehJS does not appear to have successfully loaded. If loading BokehJS from CDN, this \\n\"+\n     \"may be due to a slow or bad network connection. Possible fixes:\\n\"+\n     \"</p>\\n\"+\n     \"<ul>\\n\"+\n     \"<li>re-rerun `output_notebook()` to attempt to load from CDN again, or</li>\\n\"+\n     \"<li>use INLINE resources instead, as so:</li>\\n\"+\n     \"</ul>\\n\"+\n     \"<code>\\n\"+\n     \"from bokeh.resources import INLINE\\n\"+\n     \"output_notebook(resources=INLINE)\\n\"+\n     \"</code>\\n\"+\n     \"</div>\"}};\n\n  function display_loaded() {\n    var el = document.getElementById(\"1001\");\n    if (el != null) {\n      el.textContent = \"BokehJS is loading...\";\n    }\n    if (root.Bokeh !== undefined) {\n      if (el != null) {\n        el.textContent = \"BokehJS \" + root.Bokeh.version + \" successfully loaded.\";\n      }\n    } else if (Date.now() < root._bokeh_timeout) {\n      setTimeout(display_loaded, 100)\n    }\n  }\n\n\n  function run_callbacks() {\n    try {\n      root._bokeh_onload_callbacks.forEach(function(callback) {\n        if (callback != null)\n          callback();\n      });\n    } finally {\n      delete root._bokeh_onload_callbacks\n    }\n    console.debug(\"Bokeh: all callbacks have finished\");\n  }\n\n  function load_libs(css_urls, js_urls, callback) {\n    if (css_urls == null) css_urls = [];\n    if (js_urls == null) js_urls = [];\n\n    root._bokeh_onload_callbacks.push(callback);\n    if (root._bokeh_is_loading > 0) {\n      console.debug(\"Bokeh: BokehJS is being loaded, scheduling callback at\", now());\n      return null;\n    }\n    if (js_urls == null || js_urls.length === 0) {\n      run_callbacks();\n      return null;\n    }\n    console.debug(\"Bokeh: BokehJS not loaded, scheduling load and callback at\", now());\n    root._bokeh_is_loading = css_urls.length + js_urls.length;\n\n    function on_load() {\n      root._bokeh_is_loading--;\n      if (root._bokeh_is_loading === 0) {\n        console.debug(\"Bokeh: all BokehJS libraries/stylesheets loaded\");\n        run_callbacks()\n      }\n    }\n\n    function on_error() {\n      console.error(\"failed to load \" + url);\n    }\n\n    for (var i = 0; i < css_urls.length; i++) {\n      var url = css_urls[i];\n      const element = document.createElement(\"link\");\n      element.onload = on_load;\n      element.onerror = on_error;\n      element.rel = \"stylesheet\";\n      element.type = \"text/css\";\n      element.href = url;\n      console.debug(\"Bokeh: injecting link tag for BokehJS stylesheet: \", url);\n      document.body.appendChild(element);\n    }\n\n    for (var i = 0; i < js_urls.length; i++) {\n      var url = js_urls[i];\n      var element = document.createElement('script');\n      element.onload = on_load;\n      element.onerror = on_error;\n      element.async = false;\n      element.src = url;\n      console.debug(\"Bokeh: injecting script tag for BokehJS library: \", url);\n      document.head.appendChild(element);\n    }\n  };var element = document.getElementById(\"1001\");\n  if (element == null) {\n    console.error(\"Bokeh: ERROR: autoload.js configured with elementid '1001' but no matching script tag was found. \")\n    return false;\n  }\n\n  function inject_raw_css(css) {\n    const element = document.createElement(\"style\");\n    element.appendChild(document.createTextNode(css));\n    document.body.appendChild(element);\n  }\n\n  \n  var js_urls = [\"https://cdn.pydata.org/bokeh/release/bokeh-1.4.0.min.js\", \"https://cdn.pydata.org/bokeh/release/bokeh-widgets-1.4.0.min.js\", \"https://cdn.pydata.org/bokeh/release/bokeh-tables-1.4.0.min.js\", \"https://cdn.pydata.org/bokeh/release/bokeh-gl-1.4.0.min.js\"];\n  var css_urls = [];\n  \n\n  var inline_js = [\n    function(Bokeh) {\n      Bokeh.set_log_level(\"info\");\n    },\n    function(Bokeh) {\n    \n    \n    }\n  ];\n\n  function run_inline_js() {\n    \n    if (root.Bokeh !== undefined || force === true) {\n      \n    for (var i = 0; i < inline_js.length; i++) {\n      inline_js[i].call(root, root.Bokeh);\n    }\n    if (force === true) {\n        display_loaded();\n      }} else if (Date.now() < root._bokeh_timeout) {\n      setTimeout(run_inline_js, 100);\n    } else if (!root._bokeh_failed_load) {\n      console.log(\"Bokeh: BokehJS failed to load within specified timeout.\");\n      root._bokeh_failed_load = true;\n    } else if (force !== true) {\n      var cell = $(document.getElementById(\"1001\")).parents('.cell').data().cell;\n      cell.output_area.append_execute_result(NB_LOAD_WARNING)\n    }\n\n  }\n\n  if (root._bokeh_is_loading === 0) {\n    console.debug(\"Bokeh: BokehJS loaded, going straight to plotting\");\n    run_inline_js();\n  } else {\n    load_libs(css_urls, js_urls, function() {\n      console.debug(\"Bokeh: BokehJS plotting callback run at\", now());\n      run_inline_js();\n    });\n  }\n}(window));"
     },
     "metadata": {},
     "output_type": "display_data"
    }
   ],
   "source": [
    "from bokeh.io import show, output_notebook\n",
    "from bokeh.layouts import gridplot\n",
    "output_notebook()"
   ]
  },
  {
   "cell_type": "code",
   "execution_count": 4,
   "id": "98f5ef02-a85a-46eb-990c-cbf60c9ecd49",
   "metadata": {
    "tags": []
   },
   "outputs": [],
   "source": [
    "def run_pca(mtx, mtx_path, suffix):\n",
    "    mtx = hl.variant_qc(mtx)\n",
    "    mtx = mtx.checkpoint(localfs_path+'variant_qced_'+suffix+mtx_path)\n",
    "    mtx = hl.read_matrix_table(localfs_path+'variant_qced_'+suffix+mtx_path)\n",
    "    for_pca = mtx.filter_rows(mtx.variant_qc.AF[1] > 0.05)\n",
    "    pruned_variant_table = hl.ld_prune(for_pca.GT, r2=0.2, bp_window_size=500000)\n",
    "    for_pca = for_pca.filter_rows(hl.is_defined(pruned_variant_table[for_pca.row_key]))\n",
    "\n",
    "    for_pca = for_pca.checkpoint(localfs_path+'for_pca_20_'+suffix+mtx_path)\n",
    "    for_pca = hl.read_matrix_table(localfs_path+'for_pca_20_'+suffix+mtx_path)\n",
    "    eigenvalues, pcs, _ = hl.hwe_normalized_pca(for_pca.GT, k=20)\n",
    "    \n",
    "    mtx = mtx.annotate_cols(pruned_scores = pcs[mtx.s].scores)\n",
    "    mtx = mtx.checkpoint(localfs_path+'after_pca_20_'+suffix+mtx_path)\n",
    "    \n",
    "    return(mtx)\n",
    "\n",
    "def run_pca_no_filter(mtx, mtx_path, suffix):\n",
    "    \n",
    "    for_pca = mtx.sample_rows(0.1)\n",
    "\n",
    "    for_pca = for_pca.checkpoint(localfs_path+'subset_'+suffix+mtx_path)\n",
    "    for_pca = hl.read_matrix_table(localfs_path+'subset_'+suffix+mtx_path)\n",
    "    eigenvalues, pcs, _ = hl.hwe_normalized_pca(for_pca.GT, k=20)\n",
    "    \n",
    "    mtx = mtx.annotate_cols(scores_no_filter = pcs[mtx.s].scores)\n",
    "    mtx = mtx.checkpoint(localfs_path+'after_pca_no_filters_'+suffix+mtx_path)\n",
    "    \n",
    "    return(mtx)\n",
    "\n",
    "def remove_pca_outliers(mtx, field, last_score, mtx_path, suffix):\n",
    "    \n",
    "    mtx = mtx.annotate_globals(\n",
    "            st = mtx.aggregate_cols(\n",
    "                hl.agg.array_agg(\n",
    "                    lambda pc: hl.agg.stats(pc),\n",
    "                    mtx[field])\n",
    "            )\n",
    "        )\n",
    "\n",
    "    mtx = mtx.annotate_cols(\n",
    "            pc_outliers=hl.map(\n",
    "                lambda s, st: hl.int((s > st['mean'] + (10 * st['stdev'])) | (s < st['mean'] - (10 * st['stdev']))),\n",
    "                mtx[field][0:last_score],\n",
    "                mtx.st\n",
    "            )\n",
    "        )\n",
    "\n",
    "    mtx = mtx.filter_cols(\n",
    "        hl.sum(mtx.pc_outliers) ==  0\n",
    "    )\n",
    "    \n",
    "    mtx = mtx.checkpoint(localfs_path+'no_outliers'+mtx_path+suffix+'.mt')\n",
    "    \n",
    "    return(mtx)"
   ]
  },
  {
   "cell_type": "markdown",
   "id": "bd5f0d1a-d46a-43bf-926b-013b768b1c6a",
   "metadata": {
    "tags": []
   },
   "source": [
    "### select matrices for skat:\n",
    "1. sportsmen vs GTS 40\n",
    "2. polish zeros vs GTS 40"
   ]
  },
  {
   "cell_type": "code",
   "execution_count": 5,
   "id": "5c564363-ff39-48db-84da-675ad81cfbd6",
   "metadata": {
    "tags": []
   },
   "outputs": [],
   "source": [
    "test = hl.read_matrix_table(localfs_path+'polesunion4.mt')"
   ]
  },
  {
   "cell_type": "code",
   "execution_count": 6,
   "id": "29c0a40a-23d2-457a-aae9-1a9d44a96960",
   "metadata": {
    "tags": []
   },
   "outputs": [
    {
     "data": {
      "text/plain": [
       "{'F': 450, 'M': 2550, None: 185}"
      ]
     },
     "execution_count": 6,
     "metadata": {},
     "output_type": "execute_result"
    }
   ],
   "source": [
    "test.aggregate_cols(hl.agg.counter(test.sex))"
   ]
  },
  {
   "cell_type": "code",
   "execution_count": 7,
   "id": "fd17773a-d9ed-480d-859c-3732a81b4ae8",
   "metadata": {
    "tags": []
   },
   "outputs": [],
   "source": [
    "mt_1 = hl.read_matrix_table('/net/pr2/projects/plgrid/plggneuromol/imdik-zekanowski-gts/data/mts/oligogenic-model/gts_and_s.mt')\n",
    "mt_2 = hl.read_matrix_table(localfs_path+'polesunion4.mt')"
   ]
  },
  {
   "cell_type": "code",
   "execution_count": 8,
   "id": "fde320f7-8e8d-4d74-9da8-674fc8cddff5",
   "metadata": {
    "tags": []
   },
   "outputs": [],
   "source": [
    "mts = [mt_1, mt_2]"
   ]
  },
  {
   "cell_type": "code",
   "execution_count": 9,
   "id": "249791b1-a137-469e-b5d2-04963abb5422",
   "metadata": {
    "tags": []
   },
   "outputs": [
    {
     "name": "stderr",
     "output_type": "stream",
     "text": [
      "2023-08-27 08:55:39.387 Hail: INFO: Reading table to impute column types\n",
      "2023-08-27 08:55:40.307 Hail: INFO: Finished type imputation\n",
      "  Loading field 'ID' as type str (imputed)\n",
      "  Loading field 'family' as type str (imputed)\n",
      "  Loading field 'sex' as type str (imputed)\n",
      "  Loading field 'kinship' as type str (imputed)\n",
      "  Loading field 'disease' as type str (imputed)\n",
      "  Loading field 'phenotype' as type str (imputed)\n",
      "  Loading field 'add_pheno' as type str (imputed)\n",
      "  Loading field 'heavy_tics' as type str (imputed)\n",
      "  Loading field 'heavy_tics_familial' as type str (imputed)\n",
      "  Loading field 'GTS_ASD_group' as type str (imputed)\n",
      "  Loading field 'nonCTD' as type str (imputed)\n"
     ]
    }
   ],
   "source": [
    "pheno = hl.import_table(\n",
    "    '/net/pr2/projects/plgrid/plggneuromol/imdik-zekanowski-gts/data/pheno/GTS-coded-corrected-june-2021.csv',\n",
    "    impute=True,\n",
    "    delimiter=',',\n",
    "    quote=\"\\\"\"\n",
    ")\n",
    "\n",
    "pheno = pheno.key_by(pheno.ID)"
   ]
  },
  {
   "cell_type": "code",
   "execution_count": 10,
   "id": "fb443749-5991-40f6-86d8-a52a97f62234",
   "metadata": {
    "tags": []
   },
   "outputs": [],
   "source": [
    "for idx, mt in enumerate(mts):\n",
    "    mt = mt.annotate_cols(\n",
    "    group = hl.if_else(\n",
    "            mt.s.contains('B'),\n",
    "            'local_controls',\n",
    "            hl.if_else(\n",
    "                (mt.s.contains('NA') | mt.s.contains('HG')),\n",
    "                '1kg_controls',\n",
    "                hl.if_else(\n",
    "                    mt.s.contains('polish'),\n",
    "                    'polish_controls',\n",
    "                    'GTS'\n",
    "                )\n",
    "            )\n",
    "        )\n",
    "    )\n",
    "    \n",
    "    mt = mt.annotate_cols(phenotypes = pheno[mt.s])\n",
    "    mts[idx] = mt"
   ]
  },
  {
   "cell_type": "code",
   "execution_count": 12,
   "id": "2cfa4a11-fdeb-43a7-8b03-6cd62e3f9fea",
   "metadata": {
    "tags": []
   },
   "outputs": [
    {
     "name": "stderr",
     "output_type": "stream",
     "text": [
      "2023-08-27 09:39:16.422 Hail: INFO: wrote matrix table with 3041614 rows and 3040 columns in 489 partitions to /localfs/4579427/pw_vs_gts_2.mt\n"
     ]
    }
   ],
   "source": [
    "#sportsmen vs GTS 40\n",
    "s_vs_gts = mts[0].filter_cols((mts[0].group == 'local_controls') | (mts[0].phenotypes.family == '.'))\n",
    "s_vs_gts = s_vs_gts.filter_rows(hl.agg.any(s_vs_gts.GT.is_non_ref()))\n",
    "#s_vs_gts = s_vs_gts.checkpoint(localfs_path+'s_vs_gts.mt')    \n",
    "\n",
    "# polish no zeros vs GTS 40\n",
    "pw_vs_gts = mts[1].filter_cols((mts[1].group == 'polish_controls') | (mts[1].phenotypes.family == '.'))\n",
    "pw_vs_gts = pw_vs_gts.filter_rows(hl.agg.any(pw_vs_gts.GT.is_non_ref()))\n",
    "pw_vs_gts = pw_vs_gts.checkpoint(localfs_path+'pw_vs_gts_2.mt') \n"
   ]
  },
  {
   "cell_type": "code",
   "execution_count": 13,
   "id": "4f21b243-52cc-458a-b525-c3327fac59c1",
   "metadata": {
    "tags": []
   },
   "outputs": [],
   "source": [
    "#s_vs_gts = hl.read_matrix_table(localfs_path+'s_vs_gts.mt')  \n",
    "pw_vs_gts = hl.read_matrix_table(localfs_path+'pw_vs_gts_2.mt') "
   ]
  },
  {
   "cell_type": "code",
   "execution_count": 14,
   "id": "107312e7-1db9-41c5-ac9c-12e1cd691b06",
   "metadata": {
    "tags": []
   },
   "outputs": [],
   "source": [
    "#s_vs_gts = s_vs_gts.naive_coalesce(500)\n",
    "pw_vs_gts = pw_vs_gts.naive_coalesce(500)"
   ]
  },
  {
   "cell_type": "code",
   "execution_count": 15,
   "id": "8f436aa0-8625-4421-b51b-443fbdce7210",
   "metadata": {
    "tags": []
   },
   "outputs": [],
   "source": [
    "#s_vs_gts = s_vs_gts.checkpoint(localfs_path+'s_vs_gts_rep.mt') "
   ]
  },
  {
   "cell_type": "code",
   "execution_count": 16,
   "id": "521856ed-54d8-4b5c-b973-22becff9a1a1",
   "metadata": {
    "tags": []
   },
   "outputs": [
    {
     "name": "stderr",
     "output_type": "stream",
     "text": [
      "2023-08-27 10:04:47.995 Hail: INFO: wrote matrix table with 3041614 rows and 3040 columns in 489 partitions to /localfs/4579427/pw_vs_gts_rep_2.mt\n"
     ]
    }
   ],
   "source": [
    "pw_vs_gts = pw_vs_gts.checkpoint(localfs_path+'pw_vs_gts_rep_2.mt') "
   ]
  },
  {
   "cell_type": "code",
   "execution_count": 6,
   "id": "095b8837-7165-4ce2-b276-b1033598ca0e",
   "metadata": {
    "tags": []
   },
   "outputs": [],
   "source": [
    "pw_vs_gts = hl.read_matrix_table(localfs_path+'pw_vs_gts_rep_2.mt') "
   ]
  },
  {
   "cell_type": "code",
   "execution_count": 8,
   "id": "f33558fa-df0f-4a52-9cb7-d8389ab98b98",
   "metadata": {
    "tags": []
   },
   "outputs": [
    {
     "data": {
      "text/plain": [
       "{'F': 450, 'M': 2550, None: 40}"
      ]
     },
     "execution_count": 8,
     "metadata": {},
     "output_type": "execute_result"
    }
   ],
   "source": [
    "pw_vs_gts.aggregate_cols(hl.agg.counter(pw_vs_gts.sex))"
   ]
  },
  {
   "cell_type": "code",
   "execution_count": null,
   "id": "5671097a-4474-4350-97c4-c472a95ecf05",
   "metadata": {
    "tags": []
   },
   "outputs": [],
   "source": [
    "#for idx, mt in enumerate(mts):\n",
    "#    mts[idx] = run_pca(mt, mts_paths[idx], 'six_')\n",
    "    \n",
    "for_pca = hl.read_matrix_table(localfs_path+'for_pca_20_five_pw_vs_gts')\n",
    "eigenvalues, pcs, _ = hl.hwe_normalized_pca(for_pca.GT, k=20)"
   ]
  },
  {
   "cell_type": "code",
   "execution_count": 11,
   "id": "7c2027fa-a52a-42ff-9c88-8b8630c477a0",
   "metadata": {
    "tags": []
   },
   "outputs": [
    {
     "name": "stderr",
     "output_type": "stream",
     "text": [
      "2023-08-27 16:59:21.159 Hail: INFO: wrote matrix table with 3041614 rows and 3040 columns in 489 partitions to /localfs/4579427/after_pca_20_five_pw_vs_gts\n"
     ]
    }
   ],
   "source": [
    "pw_vs_gts = pw_vs_gts.annotate_cols(pruned_scores = pcs[pw_vs_gts.s].scores)\n",
    "pw_vs_gts = pw_vs_gts.checkpoint(localfs_path+'after_pca_20_five_pw_vs_gts')"
   ]
  },
  {
   "cell_type": "code",
   "execution_count": 13,
   "id": "e790e5f5-2b86-460c-9173-f1a35069ef43",
   "metadata": {
    "tags": []
   },
   "outputs": [
    {
     "name": "stderr",
     "output_type": "stream",
     "text": [
      "2023-08-27 17:31:04.535 Hail: INFO: wrote matrix table with 3041614 rows and 3040 columns in 489 partitions to /net/pr2/projects/plgrid/plggneuromol/imdik-zekanowski-gts/data/mts/oligogenic-model/redone_after_pca_20_more_pw_vs_gts.mt\n"
     ]
    }
   ],
   "source": [
    "mts_paths = [\n",
    "    #'s_vs_gts',\n",
    "    'pw_vs_gts'\n",
    "]\n",
    "\n",
    "for mt_path in mts_paths:\n",
    "    mt = hl.read_matrix_table('/localfs/4579427/after_pca_20_five_pw_vs_gts')\n",
    "    mt.write(\n",
    "        '/net/pr2/projects/plgrid/plggneuromol/imdik-zekanowski-gts/data/mts/oligogenic-model/redone_after_pca_20_more_'+mt_path+'.mt',\n",
    "        overwrite = True\n",
    "    )"
   ]
  },
  {
   "cell_type": "code",
   "execution_count": 18,
   "id": "45f04f87-ea97-4e13-90a7-641e3d7299ff",
   "metadata": {
    "tags": []
   },
   "outputs": [],
   "source": [
    "mts_paths = [\n",
    "    #'s_vs_gts',\n",
    "    'pw_vs_gts'\n",
    "]\n",
    "\n",
    "mts = []\n",
    "\n",
    "for mt_path in mts_paths:\n",
    "    mt = hl.read_matrix_table(\n",
    "        '/net/pr2/projects/plgrid/plggneuromol/imdik-zekanowski-gts/data/mts/oligogenic-model/redone_after_pca_20_more_'+mt_path+'.mt'\n",
    "    )\n",
    "    \n",
    "    mts.append(mt)"
   ]
  },
  {
   "cell_type": "code",
   "execution_count": 17,
   "id": "5302ee7d-b0bb-4141-8895-b6787eba4b2a",
   "metadata": {
    "tags": []
   },
   "outputs": [
    {
     "name": "stderr",
     "output_type": "stream",
     "text": [
      "2023-08-27 17:32:21.685 Hail: INFO: wrote matrix table with 303736 rows and 3040 columns in 489 partitions to /localfs/4579427/subset_tttpw_vs_gts\n",
      "    Total size: 3.18 GiB\n",
      "    * Rows/entries: 3.18 GiB\n",
      "    * Columns: 499.12 KiB\n",
      "    * Globals: 11.00 B\n",
      "    * Smallest partition: 0 rows (20.00 B)\n",
      "    * Largest partition:  1759 rows (18.69 MiB)\n",
      "2023-08-27 17:32:27.970 Hail: INFO: hwe_normalize: found 300136 variants after filtering out monomorphic sites.\n",
      "2023-08-27 17:32:34.865 Hail: INFO: pca: running PCA with 20 components.../ 489]\n",
      "2023-08-27 17:33:44.358 Hail: INFO: wrote table with 0 rows in 0 partitions to /localfs/4579427/tmp_hail/persist_tables7HjGscFri\n",
      "    Total size: 496.21 KiB\n",
      "    * Rows: 0.00 B\n",
      "    * Globals: 496.21 KiB\n",
      "    * Smallest partition: N/A\n",
      "    * Largest partition:  N/A\n",
      "2023-08-27 17:36:36.743 Hail: INFO: wrote matrix table with 3041614 rows and 3040 columns in 489 partitions to /localfs/4579427/after_pca_no_filters_tttpw_vs_gts\n"
     ]
    }
   ],
   "source": [
    "mts_2 = []\n",
    "\n",
    "for idx, mt in enumerate(mts):\n",
    "     mts_2.append(run_pca_no_filter(mt, mts_paths[idx], 'ttt'))"
   ]
  },
  {
   "cell_type": "code",
   "execution_count": 20,
   "id": "cbe2afb6-078f-4a84-8a74-23a65f434606",
   "metadata": {
    "tags": []
   },
   "outputs": [],
   "source": [
    "mts_paths = [\n",
    "    'pw_vs_gts'\n",
    "]"
   ]
  },
  {
   "cell_type": "code",
   "execution_count": 21,
   "id": "e6c55840-013e-4ae9-94c2-ed9b113d2973",
   "metadata": {
    "tags": []
   },
   "outputs": [],
   "source": [
    "mts = []\n",
    "\n",
    "for mt_path in mts_paths:\n",
    "    mt = hl.read_matrix_table(localfs_path+'after_pca_no_filters_ttt'+mt_path)\n",
    "    mts.append(mt)"
   ]
  },
  {
   "cell_type": "code",
   "execution_count": 23,
   "id": "8bbed3fb-4192-470b-9e08-e3d6aba138d5",
   "metadata": {},
   "outputs": [],
   "source": [
    "mts_2 = []\n",
    "\n",
    "for mt_path in mts_paths:\n",
    "    \n",
    "    mt = hl.read_matrix_table(\n",
    "        '/net/pr2/projects/plgrid/plggneuromol/imdik-zekanowski-gts/data/mts/oligogenic-model/redone_after_pca_20_more_'+mt_path+'.mt'\n",
    "    ) \n",
    "    \n",
    "    mts_2.append(mt)"
   ]
  },
  {
   "cell_type": "code",
   "execution_count": 24,
   "id": "3df0e23d-682d-4405-b457-0f9ab2c173ed",
   "metadata": {},
   "outputs": [
    {
     "name": "stderr",
     "output_type": "stream",
     "text": [
      "2023-08-27 17:54:05.560 Hail: WARN: cols(): Resulting column table is sorted by 'col_key'.\n",
      "    To preserve matrix table column order, first unkey columns with 'key_cols_by()'\n",
      "2023-08-27 18:07:53.303 Hail: INFO: wrote matrix table with 3041614 rows and 3040 columns in 489 partitions to /net/pr2/projects/plgrid/plggneuromol/imdik-zekanowski-gts/data/mts/oligogenic-model/pw_vs_gts_pca.mt\n"
     ]
    }
   ],
   "source": [
    "for idx, mt in enumerate(mts):\n",
    "    \n",
    "    mt = mt.annotate_cols(pruned_scores = mts_2[idx].cols()[mt.s].pruned_scores) #these are the pruned scores\n",
    "    \n",
    "    mt.write(\n",
    "        '/net/pr2/projects/plgrid/plggneuromol/imdik-zekanowski-gts/data/mts/oligogenic-model/'+mts_paths[idx]+'_pca.mt',\n",
    "        overwrite = True\n",
    "    ) "
   ]
  },
  {
   "cell_type": "code",
   "execution_count": 5,
   "id": "44cc21f5-be58-40a1-a6ad-a03c8a35e767",
   "metadata": {
    "tags": []
   },
   "outputs": [],
   "source": [
    "mts_paths = [\n",
    "    'pw_vs_gts'\n",
    "]\n",
    "\n",
    "mts = []\n",
    "\n",
    "for path in mts_paths:\n",
    "\n",
    "    mt = hl.read_matrix_table(\n",
    "        '/net/pr2/projects/plgrid/plggneuromol/imdik-zekanowski-gts/data/mts/oligogenic-model/'+path+'_pca.mt'\n",
    "    )\n",
    "    \n",
    "    mts.append(mt)"
   ]
  },
  {
   "cell_type": "code",
   "execution_count": 6,
   "id": "a113bcc2-3c45-46f1-9a1d-aa11daf804ee",
   "metadata": {
    "tags": []
   },
   "outputs": [
    {
     "data": {
      "text/plain": [
       "{'F': 450, 'M': 2550, None: 40}"
      ]
     },
     "execution_count": 6,
     "metadata": {},
     "output_type": "execute_result"
    }
   ],
   "source": [
    "mts[0].aggregate_cols(hl.agg.counter(mts[0].sex))"
   ]
  },
  {
   "cell_type": "code",
   "execution_count": 7,
   "id": "4839edfd-b3dc-4519-a32c-51d649b44053",
   "metadata": {
    "tags": []
   },
   "outputs": [
    {
     "name": "stderr",
     "output_type": "stream",
     "text": [
      "2023-08-27 18:34:59.132 Hail: INFO: wrote matrix table with 3041614 rows and 3038 columns in 489 partitions to /localfs/4609352/no_outlierspw_vs_gts_no_outs_pruned_ttt.mt\n",
      "2023-08-27 18:37:05.244 Hail: INFO: wrote matrix table with 3041614 rows and 3038 columns in 489 partitions to /localfs/4609352/no_outlierspw_vs_gts_no_outs_subs_ttt.mt\n"
     ]
    }
   ],
   "source": [
    "# remove PCA outliers\n",
    "\n",
    "mtx_s_2 = []\n",
    "\n",
    "for idx, mt in enumerate(mts):\n",
    "    \n",
    "    mtx = remove_pca_outliers(mt, 'pruned_scores', 2, mts_paths[idx], '_no_outs_pruned_ttt')\n",
    "    mtx_2 = remove_pca_outliers(mt, 'scores_no_filter', 2, mts_paths[idx], '_no_outs_subs_ttt')\n",
    "    \n",
    "    mtx = mtx.drop(\n",
    "        mtx['scores_no_filter'],\n",
    "        mtx['pruned_scores']\n",
    "    )\n",
    "    \n",
    "    mtx_2 = mtx_2.drop(\n",
    "        mtx_2['scores_no_filter'],\n",
    "        mtx_2['pruned_scores']\n",
    "    )\n",
    "    \n",
    "    mts[idx] = mtx \n",
    "    mtx_s_2.append(mtx_2)"
   ]
  },
  {
   "cell_type": "code",
   "execution_count": 8,
   "id": "8470a04e-caae-4bb5-83c9-a054a8ac0067",
   "metadata": {
    "tags": []
   },
   "outputs": [
    {
     "name": "stdout",
     "output_type": "stream",
     "text": [
      "(3041614, 3038)\n",
      "{'F': 450, 'M': 2550, None: 38}\n"
     ]
    }
   ],
   "source": [
    "for mt in mts:\n",
    "    print(mt.count()) \n",
    "    print(mt.aggregate_cols(hl.agg.counter(mt.sex)))"
   ]
  },
  {
   "cell_type": "code",
   "execution_count": 10,
   "id": "dd880d71-4b5d-4d61-bf3d-33791806a7b8",
   "metadata": {
    "tags": []
   },
   "outputs": [],
   "source": [
    "mt_og = hl.read_matrix_table(\n",
    "        '/net/pr2/projects/plgrid/plggneuromol/imdik-zekanowski-gts/data/mts/oligogenic-model/'+path+'_pca.mt'\n",
    "    )"
   ]
  },
  {
   "cell_type": "code",
   "execution_count": 11,
   "id": "b44c0d2c-6276-41f8-bf17-c0edb39a5101",
   "metadata": {
    "tags": []
   },
   "outputs": [],
   "source": [
    "og_samples = mt_og.filter_cols(mt_og.group == 'GTS').s.collect()"
   ]
  },
  {
   "cell_type": "code",
   "execution_count": 12,
   "id": "dd0e33a1-130e-4e0d-b9da-1b874c4d2cfb",
   "metadata": {
    "tags": []
   },
   "outputs": [],
   "source": [
    "to_keep = mts[0].filter_cols(mts[0].group == 'GTS').s.collect()"
   ]
  },
  {
   "cell_type": "code",
   "execution_count": 13,
   "id": "39198ffc-d871-4ac8-8569-e6a5a1494647",
   "metadata": {
    "tags": []
   },
   "outputs": [
    {
     "data": {
      "text/plain": [
       "40"
      ]
     },
     "execution_count": 13,
     "metadata": {},
     "output_type": "execute_result"
    }
   ],
   "source": [
    "len(og_samples) # no outliers"
   ]
  },
  {
   "cell_type": "code",
   "execution_count": 14,
   "id": "413b9f15-9dac-41ce-924b-91f3e77955a1",
   "metadata": {
    "tags": []
   },
   "outputs": [
    {
     "data": {
      "text/plain": [
       "38"
      ]
     },
     "execution_count": 14,
     "metadata": {},
     "output_type": "execute_result"
    }
   ],
   "source": [
    "len(to_keep)"
   ]
  },
  {
   "cell_type": "code",
   "execution_count": 15,
   "id": "9c5302f5-beb4-4e85-88e4-647271882540",
   "metadata": {
    "tags": []
   },
   "outputs": [],
   "source": [
    "import numpy as np"
   ]
  },
  {
   "cell_type": "code",
   "execution_count": 16,
   "id": "847e6dca-789e-4768-92e9-86bc244529b0",
   "metadata": {
    "tags": []
   },
   "outputs": [
    {
     "data": {
      "text/plain": [
       "array(['WGS_5', 'WGS_8'], dtype='<U8')"
      ]
     },
     "execution_count": 16,
     "metadata": {},
     "output_type": "execute_result"
    }
   ],
   "source": [
    "np.setdiff1d(og_samples,to_keep) #rem"
   ]
  },
  {
   "cell_type": "code",
   "execution_count": 17,
   "id": "0fa49a92-2613-4cad-9a42-1a19b243f33c",
   "metadata": {
    "tags": []
   },
   "outputs": [
    {
     "data": {
      "text/plain": [
       "{'F': 450, 'M': 2550, None: 38}"
      ]
     },
     "execution_count": 17,
     "metadata": {},
     "output_type": "execute_result"
    }
   ],
   "source": [
    "mts[0].aggregate_cols(hl.agg.counter(mts[0].sex))"
   ]
  }
 ],
 "metadata": {
  "kernelspec": {
   "display_name": "Python 3 (ipykernel)",
   "language": "python",
   "name": "python3"
  },
  "language_info": {
   "codemirror_mode": {
    "name": "ipython",
    "version": 3
   },
   "file_extension": ".py",
   "mimetype": "text/x-python",
   "name": "python",
   "nbconvert_exporter": "python",
   "pygments_lexer": "ipython3",
   "version": "3.10.4"
  }
 },
 "nbformat": 4,
 "nbformat_minor": 5
}
