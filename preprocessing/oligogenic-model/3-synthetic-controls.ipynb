{
 "cells": [
  {
   "cell_type": "code",
   "execution_count": 3,
   "id": "d292fb59-f193-4324-a8b3-bb64e19bc017",
   "metadata": {
    "tags": []
   },
   "outputs": [],
   "source": [
    "import os\n",
    "localfs_path = os.environ.get('SCRATCH_LOCAL') + '/'"
   ]
  },
  {
   "cell_type": "code",
   "execution_count": 4,
   "id": "b27e0fa7-a6a5-411e-92f9-5c993b5de61b",
   "metadata": {
    "tags": []
   },
   "outputs": [],
   "source": [
    "import hail as hl"
   ]
  },
  {
   "cell_type": "code",
   "execution_count": 5,
   "id": "5fcbe049-9e1d-450c-801b-da3bd353502c",
   "metadata": {
    "tags": []
   },
   "outputs": [
    {
     "name": "stdout",
     "output_type": "stream",
     "text": [
      "23/08/26 23:07:35 WARN NativeCodeLoader: Unable to load native-hadoop library for your platform... using builtin-java classes where applicable\n"
     ]
    },
    {
     "name": "stderr",
     "output_type": "stream",
     "text": [
      "Setting default log level to \"WARN\".\n",
      "To adjust logging level use sc.setLogLevel(newLevel). For SparkR, use setLogLevel(newLevel).\n",
      "Running on Apache Spark version 3.3.2\n",
      "SparkUI available at http://ac0056:4040\n",
      "Welcome to\n",
      "     __  __     <>__\n",
      "    / /_/ /__  __/ /\n",
      "   / __  / _ `/ / /\n",
      "  /_/ /_/\\_,_/_/_/   version 0.2.113-cf32652c5077\n",
      "LOGGING: writing to /net/pr2/projects/plgrid/plggneuromol/imdik-zekanowski-gts/preprocessing/oligogenic-model/hail-20230826-2307-0.2.113-cf32652c5077.log\n"
     ]
    }
   ],
   "source": [
    "hl.init(\n",
    "    tmp_dir=(localfs_path+'tmp_hail'),\n",
    "    spark_conf={'spark.driver.memory': '30G', 'spark.executor.memory': '10G'}, # I don't know what should be here\n",
    "    default_reference='GRCh38') "
   ]
  },
  {
   "cell_type": "code",
   "execution_count": 4,
   "id": "cd9bd52a-58f7-434d-b09e-c982ae4b7a05",
   "metadata": {
    "tags": []
   },
   "outputs": [],
   "source": [
    "#read in polish alleles\n",
    "poles = hl.read_matrix_table('/net/pr2/projects/plgrid/plggneuromol/resources/polish-genomes/polish-genomes.mt/')"
   ]
  },
  {
   "cell_type": "code",
   "execution_count": 5,
   "id": "9de9ce50-c1d4-4be0-af89-78b7338d0b09",
   "metadata": {
    "tags": []
   },
   "outputs": [],
   "source": [
    "mt = hl.read_matrix_table('/net/pr2/projects/plgrid/plggneuromol/imdik-zekanowski-gts/data/mts/oligogenic-model/gts_only.mt')"
   ]
  },
  {
   "cell_type": "code",
   "execution_count": 6,
   "id": "9d668f6b-669a-4f68-8ec4-98ede2ec5d3d",
   "metadata": {
    "tags": []
   },
   "outputs": [
    {
     "data": {
      "text/plain": [
       "(4628319, 185)"
      ]
     },
     "execution_count": 6,
     "metadata": {},
     "output_type": "execute_result"
    }
   ],
   "source": [
    "mt.count()"
   ]
  },
  {
   "cell_type": "code",
   "execution_count": 7,
   "id": "258da082-8d2e-4c65-bccc-cbbe350d36c9",
   "metadata": {
    "tags": []
   },
   "outputs": [
    {
     "name": "stderr",
     "output_type": "stream",
     "text": [
      "2023-08-24 12:59:25.402 Hail: INFO: Reading table to impute column types\n",
      "2023-08-24 12:59:26.510 Hail: INFO: Finished type imputation\n",
      "  Loading field 'ID' as type str (imputed)\n",
      "  Loading field 'family' as type str (imputed)\n",
      "  Loading field 'sex' as type str (imputed)\n",
      "  Loading field 'kinship' as type str (imputed)\n",
      "  Loading field 'disease' as type str (imputed)\n",
      "  Loading field 'phenotype' as type str (imputed)\n",
      "  Loading field 'add_pheno' as type str (imputed)\n",
      "  Loading field 'heavy_tics' as type str (imputed)\n",
      "  Loading field 'heavy_tics_familial' as type str (imputed)\n",
      "  Loading field 'GTS_ASD_group' as type str (imputed)\n",
      "  Loading field 'nonCTD' as type str (imputed)\n"
     ]
    }
   ],
   "source": [
    "pheno = hl.import_table(\n",
    "    '/net/pr2/projects/plgrid/plggneuromol/imdik-zekanowski-gts/data/pheno/GTS-coded-corrected-june-2021.csv',\n",
    "    impute=True,\n",
    "    delimiter=',',\n",
    "    quote=\"\\\"\"\n",
    ")\n",
    "\n",
    "pheno = pheno.key_by(pheno.ID)\n",
    "mt = mt.annotate_cols(phenotypes = pheno[mt.s])"
   ]
  },
  {
   "cell_type": "code",
   "execution_count": 8,
   "id": "56d6f9e9-c920-41b8-86d0-01a0130efe50",
   "metadata": {},
   "outputs": [],
   "source": [
    "test = mt.filter_cols(mt.phenotypes.family == '.')"
   ]
  },
  {
   "cell_type": "code",
   "execution_count": 9,
   "id": "ac9dc89e-8893-4c87-93eb-38163e740846",
   "metadata": {
    "tags": []
   },
   "outputs": [
    {
     "data": {
      "text/plain": [
       "{'F': 6, 'M': 34}"
      ]
     },
     "execution_count": 9,
     "metadata": {},
     "output_type": "execute_result"
    }
   ],
   "source": [
    "test.aggregate_cols(hl.agg.counter(test.phenotypes.sex))"
   ]
  },
  {
   "cell_type": "code",
   "execution_count": 10,
   "id": "bb1f6dde-f72e-437d-95a6-3714c1498d41",
   "metadata": {
    "tags": []
   },
   "outputs": [],
   "source": [
    "poles = poles.rows()\n",
    "poles = hl.MatrixTable.from_rows_table(poles)\n",
    "poles = poles.annotate_cols(col_idx = hl.missing(hl.tint32))\n",
    "poles = poles.key_cols_by(poles.col_idx)"
   ]
  },
  {
   "cell_type": "code",
   "execution_count": 11,
   "id": "478f432c-25fe-49eb-9ab8-1bafd6eb3c48",
   "metadata": {
    "tags": []
   },
   "outputs": [],
   "source": [
    "polish_samples = []\n",
    "\n",
    "for i in range(1,3001):\n",
    "    polish_samples.append(str(i)+'_polish')"
   ]
  },
  {
   "cell_type": "code",
   "execution_count": 12,
   "id": "d0b37c4b-98c2-4484-99b7-d48a2327f9f8",
   "metadata": {
    "tags": []
   },
   "outputs": [],
   "source": [
    "polish_columns = hl.utils.range_matrix_table(n_rows=0, n_cols=3000)\n",
    "polish_columns = polish_columns.annotate_rows(locus = hl.locus(hl.missing(hl.tstr), hl.missing(hl.tint32), reference_genome='GRCh38'),\n",
    "                                              alleles = hl.missing(hl.tarray(hl.tstr)))\n",
    "polish_columns = polish_columns.key_rows_by(polish_columns.locus, polish_columns.alleles)"
   ]
  },
  {
   "cell_type": "code",
   "execution_count": 13,
   "id": "2aa4bfc9-d306-4f38-b206-b1ba70b637e9",
   "metadata": {
    "tags": []
   },
   "outputs": [
    {
     "name": "stderr",
     "output_type": "stream",
     "text": [
      "2023-08-24 12:59:30.706 Hail: INFO: wrote matrix table with 0 rows and 3000 columns in 0 partitions to /localfs/4579427/poles-1.mt\n"
     ]
    }
   ],
   "source": [
    "polish_columns.write(localfs_path+'poles-1.mt')"
   ]
  },
  {
   "cell_type": "code",
   "execution_count": 14,
   "id": "d8fe25c4-4eca-4513-8b65-bdcbf5383f15",
   "metadata": {
    "tags": []
   },
   "outputs": [],
   "source": [
    "poles = poles.union_cols(polish_columns, row_join_type='outer')"
   ]
  },
  {
   "cell_type": "code",
   "execution_count": null,
   "id": "9cea9168-ebce-40f9-b30b-e28c29773360",
   "metadata": {
    "tags": []
   },
   "outputs": [
    {
     "name": "stderr",
     "output_type": "stream",
     "text": [
      "[Stage 7:>                                                          (0 + 2) / 2]\r"
     ]
    }
   ],
   "source": [
    "poles.write(localfs_path+'poles-2.mt')"
   ]
  },
  {
   "cell_type": "code",
   "execution_count": null,
   "id": "b1fd3622-36a8-47e5-9d37-27fb43dc9bd8",
   "metadata": {
    "tags": []
   },
   "outputs": [],
   "source": [
    "poles = hl.read_matrix_table(localfs_path+'poles-2.mt')"
   ]
  },
  {
   "cell_type": "code",
   "execution_count": null,
   "id": "38f16e12-79e7-402d-be47-cc9cb272e7b8",
   "metadata": {
    "tags": []
   },
   "outputs": [],
   "source": [
    "poles = poles.filter_rows(hl.is_defined(mt.rows()[poles.row_key])) #change this! create the matrix table with rows from the MT and draw based on poles. If not defined - assign ZERO (ask Marcin)"
   ]
  },
  {
   "cell_type": "code",
   "execution_count": null,
   "id": "2dbae3a4-de78-4826-a9f0-411038d90aeb",
   "metadata": {
    "tags": []
   },
   "outputs": [],
   "source": [
    "poles = poles.checkpoint(localfs_path+'poles-3.mt')"
   ]
  },
  {
   "cell_type": "code",
   "execution_count": null,
   "id": "0ba1edeb-37a2-4fce-a20a-75a4cd2590df",
   "metadata": {
    "tags": []
   },
   "outputs": [],
   "source": [
    "poles = poles.annotate_entries(AD = hl.missing(hl.tarray(hl.tint32)),\n",
    "                         DP = hl.missing(hl.tint32),\n",
    "                         GQ = hl.missing(hl.tint32),\n",
    "                         GT = hl.call(hl.int32(hl.rand_bool(poles.info['AF'][0])), hl.int32(hl.rand_bool(poles.info['AF'][0]))),\n",
    "                         MIN_DP = hl.missing(hl.tint32),\n",
    "                         PGT = hl.call(hl.int32(hl.rand_bool(poles.info['AF'][0])), hl.int32(hl.rand_bool(poles.info['AF'][0]))),\n",
    "                         PID = hl.missing(hl.tstr),\n",
    "                         PL = hl.missing(hl.tarray(hl.tint32)),\n",
    "                         PS = hl.missing(hl.tint32),\n",
    "                         RGQ = hl.missing(hl.tint32),\n",
    "                         SB = hl.missing(hl.tarray(hl.tint32)))"
   ]
  },
  {
   "cell_type": "code",
   "execution_count": null,
   "id": "25ae7c6a-dac4-4d2c-8c07-22d277aae324",
   "metadata": {
    "tags": []
   },
   "outputs": [],
   "source": [
    "poles = poles.checkpoint(localfs_path+'poles-4.mt')"
   ]
  },
  {
   "cell_type": "code",
   "execution_count": null,
   "id": "280dee99-70fa-4f9b-956e-47815945c07e",
   "metadata": {
    "tags": []
   },
   "outputs": [],
   "source": [
    "poles = poles.annotate_cols(\n",
    "    s = hl.literal(polish_samples)[poles.col_idx]\n",
    ")"
   ]
  },
  {
   "cell_type": "code",
   "execution_count": null,
   "id": "adcb6ffe-5f85-43fe-8a92-0e7090b64825",
   "metadata": {
    "tags": []
   },
   "outputs": [],
   "source": [
    "poles = poles.checkpoint(localfs_path+'poles-6.mt')"
   ]
  },
  {
   "cell_type": "code",
   "execution_count": null,
   "id": "a22bc489-696b-4dcc-b652-d9ac8573d918",
   "metadata": {
    "tags": []
   },
   "outputs": [],
   "source": [
    "poles = poles.key_cols_by(poles.s)"
   ]
  },
  {
   "cell_type": "code",
   "execution_count": null,
   "id": "53d5f904-2625-4a34-8efe-6277611f0eee",
   "metadata": {
    "tags": []
   },
   "outputs": [],
   "source": [
    "poles = poles.checkpoint(localfs_path+'poles-7.mt')"
   ]
  },
  {
   "cell_type": "code",
   "execution_count": null,
   "id": "3d11f2d8-3112-4d6a-9d9a-d1f4d6b52129",
   "metadata": {
    "tags": []
   },
   "outputs": [],
   "source": [
    "poles.count()"
   ]
  },
  {
   "cell_type": "code",
   "execution_count": null,
   "id": "c9668b7d-9a3b-4af3-9f78-511f5f372551",
   "metadata": {
    "tags": []
   },
   "outputs": [],
   "source": [
    "poles = poles.naive_coalesce(500)"
   ]
  },
  {
   "cell_type": "code",
   "execution_count": null,
   "id": "a731498f-c921-4aa2-adc9-7a7b12cc2e03",
   "metadata": {
    "tags": []
   },
   "outputs": [],
   "source": [
    "#poles.write(\n",
    "#    '/net/pr2/projects/plgrid/plggneuromol/imdik-zekanowski-gts/data/mts/oligogenic-model/synthetic-controls-no-zeros.mt',\n",
    "#    overwrite = True)\n",
    "\n",
    "poles.write(\n",
    "    '/net/pr2/projects/plgrid/plggneuromol/imdik-zekanowski-gts/data/mts/oligogenic-model/synthetic-controls-no-zeros-3k.mt',\n",
    "    overwrite = True)"
   ]
  },
  {
   "cell_type": "markdown",
   "id": "5492ef72-d4e5-41aa-bf53-1b94759e6383",
   "metadata": {
    "tags": []
   },
   "source": [
    "### Make the simulated controls gender equal with the samples"
   ]
  },
  {
   "cell_type": "code",
   "execution_count": 4,
   "id": "f0a3073a-fbd1-4b24-95b2-6ad22c1d10b7",
   "metadata": {
    "tags": []
   },
   "outputs": [],
   "source": [
    "poles = hl.read_matrix_table('/net/pr2/projects/plgrid/plggneuromol/imdik-zekanowski-gts/data/mts/oligogenic-model/synthetic-controls-no-zeros.mt')\n",
    "pl_mts = [poles]"
   ]
  },
  {
   "cell_type": "markdown",
   "id": "22ae45f2-a5b2-4725-9af2-967690ef4e0f",
   "metadata": {},
   "source": [
    "PAR coordinates in GrCh38: http://m.ensembl.org/info/genome/genebuild/human_PARS.html"
   ]
  },
  {
   "cell_type": "code",
   "execution_count": 5,
   "id": "02f4cb8d-a1fd-4a77-9750-4ab49caa3ff1",
   "metadata": {
    "tags": []
   },
   "outputs": [
    {
     "data": {
      "text/plain": [
       "(3042073, 1200)"
      ]
     },
     "execution_count": 5,
     "metadata": {},
     "output_type": "execute_result"
    }
   ],
   "source": [
    "poles.count()"
   ]
  },
  {
   "cell_type": "code",
   "execution_count": 6,
   "id": "1b0480c3-0643-40c5-80ce-4e28720cbcd1",
   "metadata": {},
   "outputs": [
    {
     "name": "stderr",
     "output_type": "stream",
     "text": [
      "2023-08-26 22:58:13.633 Hail: INFO: wrote matrix table with 3042073 rows and 1200 columns in 2 partitions to /localfs/4595503/poles\n"
     ]
    }
   ],
   "source": [
    "par1 = [10001,2781479]\n",
    "par2 = [155701383,156030895]\n",
    "\n",
    "nonpars = [[1,10000],[2781480,155701382]]\n",
    "\n",
    "polish_samples = []\n",
    "\n",
    "for i in range(1,3001):\n",
    "    polish_samples.append(str(i)+'_polish')\n",
    "\n",
    "poles_females = polish_samples[0:170] \n",
    "poles_males = polish_samples[170:]\n",
    "\n",
    "path_names = ['poles']\n",
    "\n",
    "for idx, mt in enumerate(pl_mts):\n",
    "    mt = mt.annotate_cols(\n",
    "        sex = hl.if_else(\n",
    "            hl.array(poles_females).contains(mt.s),\n",
    "            'F',\n",
    "            'M'\n",
    "        )\n",
    "    )\n",
    "    \n",
    "    mt = mt.annotate_entries(\n",
    "        GT = hl.if_else(\n",
    "            mt.locus.contig == 'chrX',\n",
    "            hl.if_else(\n",
    "                mt['sex'] == 'F',\n",
    "                mt.GT,\n",
    "                hl.if_else(\n",
    "                    mt.locus.position > nonpars[1][1],\n",
    "                    mt.GT,\n",
    "                    hl.if_else(\n",
    "                        mt.locus.position < nonpars[0][1],\n",
    "                        hl.if_else(\n",
    "                            mt.locus.position > nonpars[0][0],\n",
    "                            mt.GT,\n",
    "                            hl.call(mt.GT[0], mt.GT[0])),\n",
    "                        hl.call(mt.GT[0], mt.GT[0])))),\n",
    "            mt.GT\n",
    "        )\n",
    "    )\n",
    "    \n",
    "    mt = mt.checkpoint(localfs_path+path_names[idx])  "
   ]
  },
  {
   "cell_type": "code",
   "execution_count": 22,
   "id": "22b8b3ee-fcff-4281-a267-0125abddb16a",
   "metadata": {
    "tags": []
   },
   "outputs": [],
   "source": [
    "pl = hl.read_matrix_table(xxx)"
   ]
  },
  {
   "cell_type": "code",
   "execution_count": 23,
   "id": "2caf1587-2751-4e37-b3a0-5929b869384d",
   "metadata": {
    "tags": []
   },
   "outputs": [],
   "source": [
    "pl = pl.naive_coalesce(500)"
   ]
  },
  {
   "cell_type": "code",
   "execution_count": null,
   "id": "d88418e8-9499-4f2b-9733-9f1098bd213c",
   "metadata": {
    "tags": []
   },
   "outputs": [
    {
     "name": "stderr",
     "output_type": "stream",
     "text": [
      "[Stage 6:>                                                          (0 + 2) / 2]\r"
     ]
    }
   ],
   "source": [
    "pl.write(xxx)"
   ]
  },
  {
   "cell_type": "markdown",
   "id": "ef239a17-421e-4baf-9cec-4955e177f901",
   "metadata": {},
   "source": [
    "### Join with existing samples"
   ]
  },
  {
   "cell_type": "code",
   "execution_count": null,
   "id": "53fca3d5-4410-4e54-84f0-e9c3c838a02f",
   "metadata": {
    "tags": []
   },
   "outputs": [
    {
     "name": "stderr",
     "output_type": "stream",
     "text": [
      "[Stage 0:==================>                                   (163 + 12) / 489]\r"
     ]
    }
   ],
   "source": [
    "mt = hl.read_matrix_table('/net/pr2/projects/plgrid/plggneuromol/imdik-zekanowski-gts/data/mts/oligogenic-model/gts_only.mt')\n",
    "\n",
    "mt = mt.drop(mt.group, mt.sample_qc)\n",
    "\n",
    "mt = mt.select_entries(\n",
    "    AD = mt.LAD,\n",
    "    DP = mt.DP,\n",
    "    GQ = mt.GQ,\n",
    "    GT = mt.GT,\n",
    "    MIN_DP = mt.MIN_DP,\n",
    "    PGT = mt.LPGT,\n",
    "    PID = mt.PID,\n",
    "    PL = mt.LPL,\n",
    "    PS = mt.PS,\n",
    "    RGQ = mt.RGQ,\n",
    "    SB = mt.SB\n",
    ")\n",
    "\n",
    "mt = mt.annotate_cols(sex = hl.missing(hl.tstr))\n",
    "mt = mt.naive_coalesce(500)\n",
    "\n",
    "#mt = mt.checkpoint('/localfs/4579427/mt_for_union.mt')\n",
    "mt = hl.read_matrix_table('/localfs/4579427/mt_for_union.mt')\n",
    "pl = hl.read_matrix_table('/localfs/4579427/pl_for_union.mt')\n",
    "\n",
    "pl = pl.drop(pl.col_idx)\n",
    "pl = mt.union_cols(pl)\n",
    "pl = pl.checkpoint(localfs_path+'polesunion4.mt')"
   ]
  },
  {
   "cell_type": "code",
   "execution_count": 11,
   "id": "8b768a4a-d8fe-456b-aceb-894075e2394f",
   "metadata": {
    "tags": []
   },
   "outputs": [
    {
     "data": {
      "text/plain": [
       "{'F': 450, 'M': 2550, None: 185}"
      ]
     },
     "execution_count": 11,
     "metadata": {},
     "output_type": "execute_result"
    }
   ],
   "source": [
    "pl.aggregate_cols(hl.agg.counter(pl.sex))"
   ]
  },
  {
   "cell_type": "code",
   "execution_count": null,
   "id": "5601754e-73ad-4750-8169-881e0e42f96c",
   "metadata": {},
   "outputs": [],
   "source": []
  }
 ],
 "metadata": {
  "kernelspec": {
   "display_name": "Python 3 (ipykernel)",
   "language": "python",
   "name": "python3"
  },
  "language_info": {
   "codemirror_mode": {
    "name": "ipython",
    "version": 3
   },
   "file_extension": ".py",
   "mimetype": "text/x-python",
   "name": "python",
   "nbconvert_exporter": "python",
   "pygments_lexer": "ipython3",
   "version": "3.10.4"
  }
 },
 "nbformat": 4,
 "nbformat_minor": 5
}
