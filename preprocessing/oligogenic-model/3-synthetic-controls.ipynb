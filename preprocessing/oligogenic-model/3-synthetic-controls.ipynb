{
 "cells": [
  {
   "cell_type": "code",
   "execution_count": 1,
   "id": "d292fb59-f193-4324-a8b3-bb64e19bc017",
   "metadata": {
    "tags": []
   },
   "outputs": [],
   "source": [
    "import os\n",
    "localfs_path = os.environ.get('SCRATCH_LOCAL') + '/'"
   ]
  },
  {
   "cell_type": "code",
   "execution_count": 2,
   "id": "b27e0fa7-a6a5-411e-92f9-5c993b5de61b",
   "metadata": {
    "tags": []
   },
   "outputs": [],
   "source": [
    "import hail as hl"
   ]
  },
  {
   "cell_type": "code",
   "execution_count": 3,
   "id": "5fcbe049-9e1d-450c-801b-da3bd353502c",
   "metadata": {
    "tags": []
   },
   "outputs": [
    {
     "name": "stderr",
     "output_type": "stream",
     "text": [
      "WARNING: An illegal reflective access operation has occurred\n",
      "WARNING: Illegal reflective access by org.apache.spark.unsafe.Platform (file:/net/pr2/projects/plgrid/plggneuromol/imdik-zekanowski-gts/venv-hail-0.2.105/lib/python3.10/site-packages/pyspark/jars/spark-unsafe_2.12-3.1.3.jar) to constructor java.nio.DirectByteBuffer(long,int)\n",
      "WARNING: Please consider reporting this to the maintainers of org.apache.spark.unsafe.Platform\n",
      "WARNING: Use --illegal-access=warn to enable warnings of further illegal reflective access operations\n",
      "WARNING: All illegal access operations will be denied in a future release\n"
     ]
    },
    {
     "name": "stdout",
     "output_type": "stream",
     "text": [
      "2023-04-16 21:10:11.431 WARN  NativeCodeLoader:60 - Unable to load native-hadoop library for your platform... using builtin-java classes where applicable\n"
     ]
    },
    {
     "name": "stderr",
     "output_type": "stream",
     "text": [
      "Setting default log level to \"WARN\".\n",
      "To adjust logging level use sc.setLogLevel(newLevel). For SparkR, use setLogLevel(newLevel).\n",
      "Running on Apache Spark version 3.1.3\n",
      "SparkUI available at http://ac0013:4040\n",
      "Welcome to\n",
      "     __  __     <>__\n",
      "    / /_/ /__  __/ /\n",
      "   / __  / _ `/ / /\n",
      "  /_/ /_/\\_,_/_/_/   version 0.2.109-b71b065e4bb6\n",
      "LOGGING: writing to /net/pr2/projects/plgrid/plggneuromol/imdik-zekanowski-gts/preprocessing/oligogenic-model/hail-20230416-2109-0.2.109-b71b065e4bb6.log\n"
     ]
    }
   ],
   "source": [
    "hl.init(\n",
    "    tmp_dir=(localfs_path+'tmp_hail'),\n",
    "    spark_conf={'spark.driver.memory': '30G', 'spark.executor.memory': '10G'}, # I don't know what should be here\n",
    "    default_reference='GRCh38') "
   ]
  },
  {
   "cell_type": "markdown",
   "id": "c41b69fa-f96a-44a6-88ce-54aa6b2c6747",
   "metadata": {
    "tags": []
   },
   "source": [
    "## Version 1 - with NAs if the genotype was not included "
   ]
  },
  {
   "cell_type": "code",
   "execution_count": 3,
   "id": "cd9bd52a-58f7-434d-b09e-c982ae4b7a05",
   "metadata": {
    "tags": []
   },
   "outputs": [],
   "source": [
    "#read in polish alleles\n",
    "poles = hl.read_matrix_table('/net/pr2/projects/plgrid/plggneuromol/resources/polish-genomes/polish-genomes.mt/')"
   ]
  },
  {
   "cell_type": "code",
   "execution_count": 4,
   "id": "9de9ce50-c1d4-4be0-af89-78b7338d0b09",
   "metadata": {
    "tags": []
   },
   "outputs": [],
   "source": [
    "mt = hl.read_matrix_table('/net/pr2/projects/plgrid/plggneuromol/imdik-zekanowski-gts/data/mts/oligogenic-model/mt-anno.mt')"
   ]
  },
  {
   "cell_type": "code",
   "execution_count": 5,
   "id": "9d668f6b-669a-4f68-8ec4-98ede2ec5d3d",
   "metadata": {
    "tags": []
   },
   "outputs": [
    {
     "data": {
      "text/plain": [
       "(10733631, 788)"
      ]
     },
     "execution_count": 5,
     "metadata": {},
     "output_type": "execute_result"
    }
   ],
   "source": [
    "mt.count()"
   ]
  },
  {
   "cell_type": "code",
   "execution_count": 6,
   "id": "258da082-8d2e-4c65-bccc-cbbe350d36c9",
   "metadata": {
    "tags": []
   },
   "outputs": [
    {
     "name": "stderr",
     "output_type": "stream",
     "text": [
      "2023-04-03 12:11:43.395 Hail: INFO: wrote table with 187 rows in 1 partition to /localfs/2150834/tmp_hail/persist_tableVU7J29UroC\n",
      "2023-04-03 12:11:44.589 Hail: INFO: Reading table to impute column types\n",
      "2023-04-03 12:11:45.531 Hail: INFO: Finished type imputation\n",
      "  Loading field 'ID' as type str (imputed)\n",
      "  Loading field 'family' as type str (imputed)\n",
      "  Loading field 'sex' as type str (imputed)\n",
      "  Loading field 'kinship' as type str (imputed)\n",
      "  Loading field 'disease' as type str (imputed)\n",
      "  Loading field 'phenotype' as type str (imputed)\n",
      "  Loading field 'add_pheno' as type str (imputed)\n",
      "  Loading field 'heavy_tics' as type str (imputed)\n",
      "  Loading field 'heavy_tics_familial' as type str (imputed)\n",
      "  Loading field 'GTS_ASD_group' as type str (imputed)\n",
      "  Loading field 'nonCTD' as type str (imputed)\n"
     ]
    }
   ],
   "source": [
    "pheno = hl.import_table(\n",
    "    '/net/pr2/projects/plgrid/plggneuromol/imdik-zekanowski-gts/data/pheno/GTS-coded-corrected-june-2021.csv',\n",
    "    impute=True,\n",
    "    delimiter=',',\n",
    "    quote=\"\\\"\"\n",
    ")\n",
    "\n",
    "pheno = pheno.key_by(pheno.ID)\n",
    "mt = mt.annotate_cols(phenotypes = pheno[mt.s])"
   ]
  },
  {
   "cell_type": "code",
   "execution_count": 8,
   "id": "56d6f9e9-c920-41b8-86d0-01a0130efe50",
   "metadata": {},
   "outputs": [],
   "source": [
    "test = mt.filter_cols(mt.phenotypes.family == '.')"
   ]
  },
  {
   "cell_type": "code",
   "execution_count": 11,
   "id": "ac9dc89e-8893-4c87-93eb-38163e740846",
   "metadata": {
    "tags": []
   },
   "outputs": [
    {
     "data": {
      "text/plain": [
       "{'F': 6, 'M': 34}"
      ]
     },
     "execution_count": 11,
     "metadata": {},
     "output_type": "execute_result"
    }
   ],
   "source": [
    "test.aggregate_cols(hl.agg.counter(test.phenotypes.sex))"
   ]
  },
  {
   "cell_type": "code",
   "execution_count": null,
   "id": "ee570d79-ff9c-43b7-b82c-8a659a597990",
   "metadata": {
    "tags": []
   },
   "outputs": [],
   "source": [
    "test.aggregate_cols(hl.agg.counter(test.phenotypes.add_pheno))"
   ]
  },
  {
   "cell_type": "code",
   "execution_count": 5,
   "id": "bb1f6dde-f72e-437d-95a6-3714c1498d41",
   "metadata": {
    "tags": []
   },
   "outputs": [],
   "source": [
    "poles = poles.rows()\n",
    "poles = hl.MatrixTable.from_rows_table(poles)\n",
    "poles = poles.annotate_cols(col_idx = hl.missing(hl.tint32))\n",
    "poles = poles.key_cols_by(poles.col_idx)"
   ]
  },
  {
   "cell_type": "code",
   "execution_count": 31,
   "id": "478f432c-25fe-49eb-9ab8-1bafd6eb3c48",
   "metadata": {
    "tags": []
   },
   "outputs": [],
   "source": [
    "polish_samples = []\n",
    "\n",
    "for i in range(1,1001):\n",
    "    polish_samples.append(str(i)+'_polish')"
   ]
  },
  {
   "cell_type": "code",
   "execution_count": 6,
   "id": "d0b37c4b-98c2-4484-99b7-d48a2327f9f8",
   "metadata": {
    "tags": []
   },
   "outputs": [],
   "source": [
    "polish_columns = hl.utils.range_matrix_table(n_rows=0, n_cols=1000)\n",
    "polish_columns = polish_columns.annotate_rows(locus = hl.locus(hl.missing(hl.tstr), hl.missing(hl.tint32), reference_genome='GRCh38'),\n",
    "                                              alleles = hl.missing(hl.tarray(hl.tstr)))\n",
    "polish_columns = polish_columns.key_rows_by(polish_columns.locus, polish_columns.alleles)"
   ]
  },
  {
   "cell_type": "code",
   "execution_count": 7,
   "id": "2aa4bfc9-d306-4f38-b206-b1ba70b637e9",
   "metadata": {
    "tags": []
   },
   "outputs": [
    {
     "name": "stderr",
     "output_type": "stream",
     "text": [
      "2023-03-31 12:24:13.173 Hail: INFO: wrote matrix table with 0 rows and 1000 columns in 0 partitions to /localfs/2150588/poles-1.mt\n"
     ]
    }
   ],
   "source": [
    "polish_columns.write(localfs_path+'poles-1.mt')"
   ]
  },
  {
   "cell_type": "code",
   "execution_count": 8,
   "id": "d8fe25c4-4eca-4513-8b65-bdcbf5383f15",
   "metadata": {
    "tags": []
   },
   "outputs": [],
   "source": [
    "poles = poles.union_cols(polish_columns, row_join_type='outer')"
   ]
  },
  {
   "cell_type": "code",
   "execution_count": 9,
   "id": "9cea9168-ebce-40f9-b30b-e28c29773360",
   "metadata": {
    "tags": []
   },
   "outputs": [
    {
     "name": "stderr",
     "output_type": "stream",
     "text": [
      "2023-03-31 12:26:13.000 Hail: INFO: wrote matrix table with 21613392 rows and 1000 columns in 2 partitions to /localfs/2150588/poles-2.mt\n"
     ]
    }
   ],
   "source": [
    "poles.write(localfs_path+'poles-2.mt')"
   ]
  },
  {
   "cell_type": "code",
   "execution_count": 12,
   "id": "b1fd3622-36a8-47e5-9d37-27fb43dc9bd8",
   "metadata": {
    "tags": []
   },
   "outputs": [],
   "source": [
    "poles = hl.read_matrix_table(localfs_path+'poles-2.mt')"
   ]
  },
  {
   "cell_type": "code",
   "execution_count": 18,
   "id": "38f16e12-79e7-402d-be47-cc9cb272e7b8",
   "metadata": {
    "tags": []
   },
   "outputs": [],
   "source": [
    "poles = poles.filter_rows(hl.is_defined(mt.rows()[poles.row_key])) #change this! create the matrix table with rows from the MT and draw based on poles. If not defined - assign ZERO (ask Marcin)"
   ]
  },
  {
   "cell_type": "code",
   "execution_count": 19,
   "id": "2dbae3a4-de78-4826-a9f0-411038d90aeb",
   "metadata": {
    "tags": []
   },
   "outputs": [
    {
     "name": "stderr",
     "output_type": "stream",
     "text": [
      "2023-03-31 12:30:38.735 Hail: INFO: wrote matrix table with 3928354 rows and 1000 columns in 2 partitions to /localfs/2150588/poles-3.mt\n"
     ]
    }
   ],
   "source": [
    "poles = poles.checkpoint(localfs_path+'poles-3.mt')"
   ]
  },
  {
   "cell_type": "code",
   "execution_count": 20,
   "id": "0ba1edeb-37a2-4fce-a20a-75a4cd2590df",
   "metadata": {
    "tags": []
   },
   "outputs": [],
   "source": [
    "poles = poles.annotate_entries(AD = hl.missing(hl.tarray(hl.tint32)),\n",
    "                         DP = hl.missing(hl.tint32),\n",
    "                         GQ = hl.missing(hl.tint32),\n",
    "                         GT = hl.call(hl.int32(hl.rand_bool(poles.info['AF'][0])), hl.int32(hl.rand_bool(poles.info['AF'][0]))),\n",
    "                         MIN_DP = hl.missing(hl.tint32),\n",
    "                         PGT = hl.call(hl.int32(hl.rand_bool(poles.info['AF'][0])), hl.int32(hl.rand_bool(poles.info['AF'][0]))),\n",
    "                         PID = hl.missing(hl.tstr),\n",
    "                         PL = hl.missing(hl.tarray(hl.tint32)),\n",
    "                         PS = hl.missing(hl.tint32),\n",
    "                         RGQ = hl.missing(hl.tint32),\n",
    "                         SB = hl.missing(hl.tarray(hl.tint32)))"
   ]
  },
  {
   "cell_type": "code",
   "execution_count": 21,
   "id": "25ae7c6a-dac4-4d2c-8c07-22d277aae324",
   "metadata": {
    "tags": []
   },
   "outputs": [
    {
     "name": "stderr",
     "output_type": "stream",
     "text": [
      "2023-03-31 12:39:44.868 Hail: INFO: wrote matrix table with 3928354 rows and 1000 columns in 2 partitions to /localfs/2150588/poles-4.mt\n",
      "    Total size: 3.58 GiB\n",
      "    * Rows/entries: 3.58 GiB\n",
      "    * Columns: 3.81 KiB\n",
      "    * Globals: 11.00 B\n",
      "    * Smallest partition: 1901375 rows (1.72 GiB)\n",
      "    * Largest partition:  2026979 rows (1.86 GiB)\n"
     ]
    }
   ],
   "source": [
    "poles = poles.checkpoint(localfs_path+'poles-4.mt')"
   ]
  },
  {
   "cell_type": "code",
   "execution_count": 32,
   "id": "280dee99-70fa-4f9b-956e-47815945c07e",
   "metadata": {
    "tags": []
   },
   "outputs": [],
   "source": [
    "poles = poles.annotate_cols(\n",
    "    s = hl.literal(polish_samples)[poles.col_idx]\n",
    ")"
   ]
  },
  {
   "cell_type": "code",
   "execution_count": 34,
   "id": "adcb6ffe-5f85-43fe-8a92-0e7090b64825",
   "metadata": {
    "tags": []
   },
   "outputs": [
    {
     "name": "stderr",
     "output_type": "stream",
     "text": [
      "2023-03-31 12:46:15.696 Hail: INFO: wrote matrix table with 3928354 rows and 1000 columns in 2 partitions to /localfs/2150588/poles-6.mt\n"
     ]
    }
   ],
   "source": [
    "poles = poles.checkpoint(localfs_path+'poles-6.mt')"
   ]
  },
  {
   "cell_type": "code",
   "execution_count": 35,
   "id": "a22bc489-696b-4dcc-b652-d9ac8573d918",
   "metadata": {
    "tags": []
   },
   "outputs": [],
   "source": [
    "poles = poles.key_cols_by(poles.s)"
   ]
  },
  {
   "cell_type": "code",
   "execution_count": 36,
   "id": "53d5f904-2625-4a34-8efe-6277611f0eee",
   "metadata": {
    "tags": []
   },
   "outputs": [
    {
     "name": "stderr",
     "output_type": "stream",
     "text": [
      "2023-03-31 12:48:18.846 Hail: INFO: wrote matrix table with 3928354 rows and 1000 columns in 2 partitions to /localfs/2150588/poles-7.mt\n"
     ]
    }
   ],
   "source": [
    "poles = poles.checkpoint(localfs_path+'poles-7.mt')"
   ]
  },
  {
   "cell_type": "code",
   "execution_count": 38,
   "id": "3d11f2d8-3112-4d6a-9d9a-d1f4d6b52129",
   "metadata": {
    "tags": []
   },
   "outputs": [
    {
     "data": {
      "text/plain": [
       "(3928354, 1000)"
      ]
     },
     "execution_count": 38,
     "metadata": {},
     "output_type": "execute_result"
    }
   ],
   "source": [
    "poles.count()"
   ]
  },
  {
   "cell_type": "code",
   "execution_count": 39,
   "id": "a731498f-c921-4aa2-adc9-7a7b12cc2e03",
   "metadata": {
    "tags": []
   },
   "outputs": [
    {
     "name": "stderr",
     "output_type": "stream",
     "text": [
      "2023-03-31 13:04:01.418 Hail: INFO: wrote matrix table with 3928354 rows and 1000 columns in 2 partitions to /net/pr2/projects/plgrid/plggneuromol/imdik-zekanowski-gts/data/mts/oligogenic-model/synthetic_controls.mt\n"
     ]
    }
   ],
   "source": [
    "poles.write('/net/pr2/projects/plgrid/plggneuromol/imdik-zekanowski-gts/data/mts/oligogenic-model/synthetic_controls.mt')"
   ]
  },
  {
   "cell_type": "code",
   "execution_count": 3,
   "id": "3657d0c9-7a51-4b6f-a645-847cbc3081e2",
   "metadata": {
    "tags": []
   },
   "outputs": [],
   "source": [
    "#read in polish alleles\n",
    "poles = hl.read_matrix_table('/net/pr2/projects/plgrid/plggneuromol/resources/polish-genomes/polish-genomes.mt/')"
   ]
  },
  {
   "cell_type": "code",
   "execution_count": 40,
   "id": "fc1e3ea1-ac40-4bdd-9ee6-333d782909bd",
   "metadata": {
    "tags": []
   },
   "outputs": [],
   "source": [
    "mt = hl.read_matrix_table('/net/pr2/projects/plgrid/plggneuromol/imdik-zekanowski-gts/data/mts/oligogenic-model/mt-split.mt')"
   ]
  },
  {
   "cell_type": "code",
   "execution_count": 41,
   "id": "2dcd08e6-241d-4fe9-a4ad-5bc0192d0d35",
   "metadata": {
    "tags": []
   },
   "outputs": [
    {
     "data": {
      "text/plain": [
       "(10733631, 788)"
      ]
     },
     "execution_count": 41,
     "metadata": {},
     "output_type": "execute_result"
    }
   ],
   "source": [
    "mt.count()"
   ]
  },
  {
   "cell_type": "code",
   "execution_count": 5,
   "id": "502aeedc-ab3e-4b5b-8b56-33aaaa84c13f",
   "metadata": {
    "tags": []
   },
   "outputs": [],
   "source": [
    "poles = poles.rows()\n",
    "poles = hl.MatrixTable.from_rows_table(poles)\n",
    "poles = poles.annotate_cols(col_idx = hl.missing(hl.tint32))\n",
    "poles = poles.key_cols_by(poles.col_idx)"
   ]
  },
  {
   "cell_type": "code",
   "execution_count": 31,
   "id": "0e20a89c-d6cd-4684-82b7-a06a455c0f9d",
   "metadata": {
    "tags": []
   },
   "outputs": [],
   "source": [
    "polish_samples = []\n",
    "\n",
    "for i in range(1,1001):\n",
    "    polish_samples.append(str(i)+'_polish')"
   ]
  },
  {
   "cell_type": "code",
   "execution_count": 6,
   "id": "b6d4f8c7-bc18-47bc-8bb2-436c33b8f70e",
   "metadata": {
    "tags": []
   },
   "outputs": [],
   "source": [
    "polish_columns = hl.utils.range_matrix_table(n_rows=0, n_cols=1000)\n",
    "polish_columns = polish_columns.annotate_rows(locus = hl.locus(hl.missing(hl.tstr), hl.missing(hl.tint32), reference_genome='GRCh38'),\n",
    "                                              alleles = hl.missing(hl.tarray(hl.tstr)))\n",
    "polish_columns = polish_columns.key_rows_by(polish_columns.locus, polish_columns.alleles)"
   ]
  },
  {
   "cell_type": "code",
   "execution_count": 7,
   "id": "59010023-43eb-43f1-81f6-cc0f428b1939",
   "metadata": {
    "tags": []
   },
   "outputs": [
    {
     "name": "stderr",
     "output_type": "stream",
     "text": [
      "2023-03-31 12:24:13.173 Hail: INFO: wrote matrix table with 0 rows and 1000 columns in 0 partitions to /localfs/2150588/poles-1.mt\n"
     ]
    }
   ],
   "source": [
    "polish_columns.write(localfs_path+'poles-1.mt')"
   ]
  },
  {
   "cell_type": "code",
   "execution_count": 8,
   "id": "326e9b4c-cc10-4ea0-aff6-93d1d273b197",
   "metadata": {
    "tags": []
   },
   "outputs": [],
   "source": [
    "poles = poles.union_cols(polish_columns, row_join_type='outer')"
   ]
  },
  {
   "cell_type": "code",
   "execution_count": 9,
   "id": "ce36e887-63c4-44a9-b2a1-2c5130e337a3",
   "metadata": {
    "tags": []
   },
   "outputs": [
    {
     "name": "stderr",
     "output_type": "stream",
     "text": [
      "2023-03-31 12:26:13.000 Hail: INFO: wrote matrix table with 21613392 rows and 1000 columns in 2 partitions to /localfs/2150588/poles-2.mt\n"
     ]
    }
   ],
   "source": [
    "poles.write(localfs_path+'poles-2.mt')"
   ]
  },
  {
   "cell_type": "code",
   "execution_count": 12,
   "id": "1d1af977-414d-4992-b6e0-6447dd86504d",
   "metadata": {
    "tags": []
   },
   "outputs": [],
   "source": [
    "poles = hl.read_matrix_table(localfs_path+'poles-2.mt')"
   ]
  },
  {
   "cell_type": "code",
   "execution_count": 18,
   "id": "499da3d8-db53-4b21-b9b4-20f7a8a1a794",
   "metadata": {
    "tags": []
   },
   "outputs": [],
   "source": [
    "poles = poles.filter_rows(hl.is_defined(mt.rows()[poles.row_key])) #change this! create the matrix table with rows from the MT and draw based on poles. If not defined - assign ZERO (ask Marcin)"
   ]
  },
  {
   "cell_type": "code",
   "execution_count": 19,
   "id": "f292c878-d38e-4f34-9eea-0e7812690873",
   "metadata": {
    "tags": []
   },
   "outputs": [
    {
     "name": "stderr",
     "output_type": "stream",
     "text": [
      "2023-03-31 12:30:38.735 Hail: INFO: wrote matrix table with 3928354 rows and 1000 columns in 2 partitions to /localfs/2150588/poles-3.mt\n"
     ]
    }
   ],
   "source": [
    "poles = poles.checkpoint(localfs_path+'poles-3.mt')"
   ]
  },
  {
   "cell_type": "code",
   "execution_count": 20,
   "id": "64259d40-e087-4205-b07a-944fcded1355",
   "metadata": {
    "tags": []
   },
   "outputs": [],
   "source": [
    "poles = poles.annotate_entries(AD = hl.missing(hl.tarray(hl.tint32)),\n",
    "                         DP = hl.missing(hl.tint32),\n",
    "                         GQ = hl.missing(hl.tint32),\n",
    "                         GT = hl.call(hl.int32(hl.rand_bool(poles.info['AF'][0])), hl.int32(hl.rand_bool(poles.info['AF'][0]))),\n",
    "                         MIN_DP = hl.missing(hl.tint32),\n",
    "                         PGT = hl.call(hl.int32(hl.rand_bool(poles.info['AF'][0])), hl.int32(hl.rand_bool(poles.info['AF'][0]))),\n",
    "                         PID = hl.missing(hl.tstr),\n",
    "                         PL = hl.missing(hl.tarray(hl.tint32)),\n",
    "                         PS = hl.missing(hl.tint32),\n",
    "                         RGQ = hl.missing(hl.tint32),\n",
    "                         SB = hl.missing(hl.tarray(hl.tint32)))"
   ]
  },
  {
   "cell_type": "code",
   "execution_count": 21,
   "id": "bb1b0d32-1512-46a8-bb56-7d8b00bc5ab3",
   "metadata": {
    "tags": []
   },
   "outputs": [
    {
     "name": "stderr",
     "output_type": "stream",
     "text": [
      "2023-03-31 12:39:44.868 Hail: INFO: wrote matrix table with 3928354 rows and 1000 columns in 2 partitions to /localfs/2150588/poles-4.mt\n",
      "    Total size: 3.58 GiB\n",
      "    * Rows/entries: 3.58 GiB\n",
      "    * Columns: 3.81 KiB\n",
      "    * Globals: 11.00 B\n",
      "    * Smallest partition: 1901375 rows (1.72 GiB)\n",
      "    * Largest partition:  2026979 rows (1.86 GiB)\n"
     ]
    }
   ],
   "source": [
    "poles = poles.checkpoint(localfs_path+'poles-4.mt')"
   ]
  },
  {
   "cell_type": "code",
   "execution_count": 32,
   "id": "89e006a2-65c8-4c31-8de2-f182984aa515",
   "metadata": {
    "tags": []
   },
   "outputs": [],
   "source": [
    "poles = poles.annotate_cols(\n",
    "    s = hl.literal(polish_samples)[poles.col_idx]\n",
    ")"
   ]
  },
  {
   "cell_type": "code",
   "execution_count": 34,
   "id": "2b999f94-c511-432c-b715-6229fe6a13ba",
   "metadata": {
    "tags": []
   },
   "outputs": [
    {
     "name": "stderr",
     "output_type": "stream",
     "text": [
      "2023-03-31 12:46:15.696 Hail: INFO: wrote matrix table with 3928354 rows and 1000 columns in 2 partitions to /localfs/2150588/poles-6.mt\n"
     ]
    }
   ],
   "source": [
    "poles = poles.checkpoint(localfs_path+'poles-6.mt')"
   ]
  },
  {
   "cell_type": "code",
   "execution_count": 35,
   "id": "e54a50ec-00a9-4c4f-857d-9feb1e076d54",
   "metadata": {
    "tags": []
   },
   "outputs": [],
   "source": [
    "poles = poles.key_cols_by(poles.s)"
   ]
  },
  {
   "cell_type": "code",
   "execution_count": 36,
   "id": "ccff96c0-79e4-4e96-a76f-c9064df7816f",
   "metadata": {
    "tags": []
   },
   "outputs": [
    {
     "name": "stderr",
     "output_type": "stream",
     "text": [
      "2023-03-31 12:48:18.846 Hail: INFO: wrote matrix table with 3928354 rows and 1000 columns in 2 partitions to /localfs/2150588/poles-7.mt\n"
     ]
    }
   ],
   "source": [
    "poles = poles.checkpoint(localfs_path+'poles-7.mt')"
   ]
  },
  {
   "cell_type": "code",
   "execution_count": 38,
   "id": "74105c5f-341a-449d-b819-b1670509c0c2",
   "metadata": {
    "tags": []
   },
   "outputs": [
    {
     "data": {
      "text/plain": [
       "(3928354, 1000)"
      ]
     },
     "execution_count": 38,
     "metadata": {},
     "output_type": "execute_result"
    }
   ],
   "source": [
    "poles.count()"
   ]
  },
  {
   "cell_type": "code",
   "execution_count": 39,
   "id": "ec422677-57f4-4b0b-a9d3-ba3e0963e044",
   "metadata": {
    "tags": []
   },
   "outputs": [
    {
     "name": "stderr",
     "output_type": "stream",
     "text": [
      "2023-03-31 13:04:01.418 Hail: INFO: wrote matrix table with 3928354 rows and 1000 columns in 2 partitions to /net/pr2/projects/plgrid/plggneuromol/imdik-zekanowski-gts/data/mts/oligogenic-model/synthetic_controls.mt\n"
     ]
    }
   ],
   "source": [
    "poles.write('/net/pr2/projects/plgrid/plggneuromol/imdik-zekanowski-gts/data/mts/oligogenic-model/synthetic_controls.mt')"
   ]
  },
  {
   "cell_type": "markdown",
   "id": "4683988c-3a1e-4280-b1ea-b42b3f3d200d",
   "metadata": {
    "tags": []
   },
   "source": [
    "## Version 2 - with zeros"
   ]
  },
  {
   "cell_type": "code",
   "execution_count": 5,
   "id": "8649fe24-c9f5-4391-af79-df4e1f1a0ed6",
   "metadata": {
    "tags": []
   },
   "outputs": [],
   "source": [
    "#read in polish alleles\n",
    "polish = hl.read_matrix_table('/net/pr2/projects/plgrid/plggneuromol/resources/polish-genomes/polish-genomes.mt/')"
   ]
  },
  {
   "cell_type": "code",
   "execution_count": 6,
   "id": "e566daab-47b1-4f5b-af83-b62af6e31f58",
   "metadata": {
    "tags": []
   },
   "outputs": [],
   "source": [
    "mt = hl.read_matrix_table('/net/pr2/projects/plgrid/plggneuromol/imdik-zekanowski-gts/data/mts/oligogenic-model/mt-anno.mt')"
   ]
  },
  {
   "cell_type": "code",
   "execution_count": 7,
   "id": "127e33a2-3f16-4284-8e00-9a52cb466b1a",
   "metadata": {
    "tags": []
   },
   "outputs": [],
   "source": [
    "mt = mt.rows()\n",
    "mt = hl.MatrixTable.from_rows_table(mt)\n",
    "mt = mt.annotate_cols(col_idx = hl.missing(hl.tint32))\n",
    "mt = mt.key_cols_by(mt.col_idx)"
   ]
  },
  {
   "cell_type": "code",
   "execution_count": 8,
   "id": "7a2a6da5-729c-47fd-a4ec-50293f79296f",
   "metadata": {
    "tags": []
   },
   "outputs": [],
   "source": [
    "polish_samples = []\n",
    "\n",
    "for i in range(1,1001):\n",
    "    polish_samples.append(str(i)+'_polish')"
   ]
  },
  {
   "cell_type": "code",
   "execution_count": 9,
   "id": "f21b26a4-4b13-476e-9176-9ec886b629d5",
   "metadata": {
    "tags": []
   },
   "outputs": [],
   "source": [
    "polish_columns = hl.utils.range_matrix_table(n_rows=0, n_cols=1000)\n",
    "polish_columns = polish_columns.annotate_rows(locus = hl.locus(hl.missing(hl.tstr), hl.missing(hl.tint32), reference_genome='GRCh38'),\n",
    "                                              alleles = hl.missing(hl.tarray(hl.tstr)))\n",
    "polish_columns = polish_columns.key_rows_by(polish_columns.locus, polish_columns.alleles)"
   ]
  },
  {
   "cell_type": "code",
   "execution_count": 10,
   "id": "76baf767-6bcd-49ae-bf6a-e733e490d312",
   "metadata": {
    "tags": []
   },
   "outputs": [],
   "source": [
    "mt = mt.union_cols(polish_columns, row_join_type='outer')"
   ]
  },
  {
   "cell_type": "code",
   "execution_count": null,
   "id": "1f44f2f0-1409-4936-b65d-49845434e00d",
   "metadata": {
    "collapsed": true,
    "jupyter": {
     "outputs_hidden": true
    },
    "tags": []
   },
   "outputs": [],
   "source": [
    "mt.write(localfs_path+'temp-1.mt')"
   ]
  },
  {
   "cell_type": "code",
   "execution_count": null,
   "id": "407decec-b983-4f01-a319-0f19f681357e",
   "metadata": {
    "tags": []
   },
   "outputs": [],
   "source": [
    "poles = hl.read_matrix_table(localfs_path+'temp-1.mt')"
   ]
  },
  {
   "cell_type": "code",
   "execution_count": null,
   "id": "68afc898-3f33-4140-9a33-e958accdc140",
   "metadata": {
    "tags": []
   },
   "outputs": [],
   "source": [
    "poles.count()"
   ]
  },
  {
   "cell_type": "code",
   "execution_count": null,
   "id": "8be02152-7b05-401e-9357-dc8cb2c41c4e",
   "metadata": {
    "tags": []
   },
   "outputs": [],
   "source": [
    "polish.count()"
   ]
  },
  {
   "cell_type": "code",
   "execution_count": null,
   "id": "ae264e87-08ff-47df-abf4-2039f89826b3",
   "metadata": {
    "tags": []
   },
   "outputs": [],
   "source": [
    "gt = hl.if_else(\n",
    "    hl.is_defined(polish.rows()[poles.row_key]),\n",
    "    hl.call(\n",
    "        hl.int32(hl.rand_bool(polish.rows()[poles.row_key].info.AF[0])), hl.int32(hl.rand_bool(polish.rows()[poles.row_key].info.AF[0]))\n",
    "    ),\n",
    "    hl.call(0, 0)\n",
    ")"
   ]
  },
  {
   "cell_type": "code",
   "execution_count": null,
   "id": "26da9bc5-b892-48d9-b0eb-42fc0e67d6a5",
   "metadata": {
    "tags": []
   },
   "outputs": [],
   "source": [
    "poles = poles.annotate_entries(AD = hl.missing(hl.tarray(hl.tint32)),\n",
    "                         DP = hl.missing(hl.tint32),\n",
    "                         GQ = hl.missing(hl.tint32),\n",
    "                         GT = gt,\n",
    "                         MIN_DP = hl.missing(hl.tint32),\n",
    "                         PGT = gt,\n",
    "                         PID = hl.missing(hl.tstr),\n",
    "                         PL = hl.missing(hl.tarray(hl.tint32)),\n",
    "                         PS = hl.missing(hl.tint32),\n",
    "                         RGQ = hl.missing(hl.tint32),\n",
    "                         SB = hl.missing(hl.tarray(hl.tint32)))"
   ]
  },
  {
   "cell_type": "code",
   "execution_count": null,
   "id": "e6f906f9-aeea-4586-88f3-3a4a83d85230",
   "metadata": {
    "tags": []
   },
   "outputs": [],
   "source": [
    "poles = poles.checkpoint(localfs_path+'poles.mt')"
   ]
  },
  {
   "cell_type": "code",
   "execution_count": null,
   "id": "0a496df4-88ce-485d-9996-d2957d88fc6f",
   "metadata": {
    "tags": []
   },
   "outputs": [
    {
     "name": "stderr",
     "output_type": "stream",
     "text": [
      "[Stage 1:==>                                                   (91 + 12) / 1995]\r"
     ]
    }
   ],
   "source": [
    "poles = poles.annotate_cols(\n",
    "    s = hl.literal(polish_samples)[poles.col_idx]\n",
    ")"
   ]
  },
  {
   "cell_type": "code",
   "execution_count": 28,
   "id": "699e2d20-b6df-4cb8-96b2-5b69bb1fe7d3",
   "metadata": {
    "tags": []
   },
   "outputs": [],
   "source": [
    "poles = poles.key_cols_by(poles.s)"
   ]
  },
  {
   "cell_type": "code",
   "execution_count": 29,
   "id": "d22a962a-2c9f-4555-a4cf-08171197c916",
   "metadata": {
    "tags": []
   },
   "outputs": [
    {
     "name": "stderr",
     "output_type": "stream",
     "text": [
      "2023-03-31 17:50:53.781 Hail: INFO: wrote matrix table with 10733531 rows and 1000 columns in 1995 partitions to /net/pr2/projects/plgrid/plggneuromol/imdik-zekanowski-gts/data/mts/oligogenic-model/synthetic_controls_zeros.mt\n"
     ]
    }
   ],
   "source": [
    "poles.write('/net/pr2/projects/plgrid/plggneuromol/imdik-zekanowski-gts/data/mts/oligogenic-model/synthetic_controls_zeros.mt')"
   ]
  },
  {
   "cell_type": "markdown",
   "id": "8f344a02-7640-421b-866a-bdc00f2eaf28",
   "metadata": {
    "tags": []
   },
   "source": [
    "### Make the simulated controls gender equal with the samples"
   ]
  },
  {
   "cell_type": "code",
   "execution_count": 4,
   "id": "19b89306-e33a-4e35-b86a-74ece8421509",
   "metadata": {
    "tags": []
   },
   "outputs": [],
   "source": [
    "poles_zeros = hl.read_matrix_table('/net/pr2/projects/plgrid/plggneuromol/imdik-zekanowski-gts/data/mts/oligogenic-model/synthetic_controls_zeros.mt')\n",
    "poles = hl.read_matrix_table('/net/pr2/projects/plgrid/plggneuromol/imdik-zekanowski-gts/data/mts/oligogenic-model/synthetic_controls.mt')"
   ]
  },
  {
   "cell_type": "code",
   "execution_count": 5,
   "id": "69d9384b-0c76-4cad-a331-0e336fd00170",
   "metadata": {
    "tags": []
   },
   "outputs": [],
   "source": [
    "pl_mts = [poles_zeros,poles]"
   ]
  },
  {
   "cell_type": "markdown",
   "id": "22ae45f2-a5b2-4725-9af2-967690ef4e0f",
   "metadata": {},
   "source": [
    "PAR coordinates in GrCh38: http://m.ensembl.org/info/genome/genebuild/human_PARS.html"
   ]
  },
  {
   "cell_type": "code",
   "execution_count": 6,
   "id": "f96bdc04-1673-48b4-a9af-ff6d564ad10d",
   "metadata": {},
   "outputs": [],
   "source": [
    "par1 = [10001,2781479]\n",
    "par2 = [155701383,156030895]"
   ]
  },
  {
   "cell_type": "code",
   "execution_count": 7,
   "id": "25125b1c-171e-4eea-a2f2-88ee96b26f16",
   "metadata": {},
   "outputs": [],
   "source": [
    "nonpars = [[1,10000],[2781480,155701382]]"
   ]
  },
  {
   "cell_type": "code",
   "execution_count": 8,
   "id": "cd037095-62dc-4bf8-a2c7-91276bab0d01",
   "metadata": {
    "tags": []
   },
   "outputs": [],
   "source": [
    "polish_samples = []\n",
    "\n",
    "for i in range(1,1001):\n",
    "    polish_samples.append(str(i)+'_polish')"
   ]
  },
  {
   "cell_type": "code",
   "execution_count": 9,
   "id": "626dbf94-71b2-4f17-95db-46e57056b844",
   "metadata": {},
   "outputs": [],
   "source": [
    "poles_females = polish_samples[0:150] \n",
    "poles_males = polish_samples[150:]"
   ]
  },
  {
   "cell_type": "code",
   "execution_count": 10,
   "id": "0a88ab29-cf40-4da1-a4e9-6b0ee04b1ba8",
   "metadata": {},
   "outputs": [],
   "source": [
    "path_names = ['poles_zeros', 'poles']"
   ]
  },
  {
   "cell_type": "code",
   "execution_count": 11,
   "id": "8e52f8ca-e610-476f-8833-5cf7f7f79a53",
   "metadata": {},
   "outputs": [
    {
     "name": "stderr",
     "output_type": "stream",
     "text": [
      "2023-04-16 10:21:45.325 Hail: INFO: wrote matrix table with 10733531 rows and 1000 columns in 1995 partitions to /localfs/2307051/poles_zeros\n",
      "2023-04-16 10:24:44.370 Hail: INFO: wrote matrix table with 3928354 rows and 1000 columns in 2 partitions to /localfs/2307051/poles\n"
     ]
    }
   ],
   "source": [
    "for idx, mt in enumerate(pl_mts):\n",
    "    mt = mt.annotate_cols(\n",
    "        sex = hl.if_else(\n",
    "            hl.array(poles_females).contains(mt.s),\n",
    "            'F',\n",
    "            'M'\n",
    "        )\n",
    "    )\n",
    "    \n",
    "    mt = mt.annotate_entries(\n",
    "        GT = hl.if_else(\n",
    "            mt.locus.contig == 'chrX',\n",
    "            hl.if_else(\n",
    "                mt['sex'] == 'F',\n",
    "                mt.GT,\n",
    "                hl.if_else(\n",
    "                    mt.locus.position > nonpars[1][1],\n",
    "                    mt.GT,\n",
    "                    hl.if_else(\n",
    "                        mt.locus.position < nonpars[0][1],\n",
    "                        hl.if_else(\n",
    "                            mt.locus.position > nonpars[0][0],\n",
    "                            mt.GT,\n",
    "                            hl.call(mt.GT[0], mt.GT[0])),\n",
    "                        hl.call(mt.GT[0], mt.GT[0])))),\n",
    "            mt.GT\n",
    "        )\n",
    "    )\n",
    "    \n",
    "    mt = mt.checkpoint(localfs_path+path_names[idx])  "
   ]
  },
  {
   "cell_type": "markdown",
   "id": "ef239a17-421e-4baf-9cec-4955e177f901",
   "metadata": {},
   "source": [
    "### Join with existing samples"
   ]
  },
  {
   "cell_type": "code",
   "execution_count": 12,
   "id": "acac2c3d-f1e3-4ba9-bd8e-efd58ec3de17",
   "metadata": {
    "tags": []
   },
   "outputs": [],
   "source": [
    "mt = hl.read_matrix_table(\n",
    "    '/net/pr2/projects/plgrid/plggneuromol/imdik-zekanowski-gts/data/mts/oligogenic-model/mt-anno.mt'\n",
    ")"
   ]
  },
  {
   "cell_type": "code",
   "execution_count": 13,
   "id": "275d0954-654a-4f8f-9eab-75470085d5f7",
   "metadata": {
    "tags": []
   },
   "outputs": [],
   "source": [
    "mt = mt.drop(mt.group, mt.sample_qc)"
   ]
  },
  {
   "cell_type": "code",
   "execution_count": 14,
   "id": "98248172-de1f-4e8c-8201-a5d2f58e6e73",
   "metadata": {
    "tags": []
   },
   "outputs": [],
   "source": [
    "mt = mt.select_entries(\n",
    "    AD = mt.LAD,\n",
    "    DP = mt.DP,\n",
    "    GQ = mt.GQ,\n",
    "    GT = mt.GT,\n",
    "    MIN_DP = mt.MIN_DP,\n",
    "    PGT = mt.LPGT,\n",
    "    PID = mt.PID,\n",
    "    PL = mt.LPL,\n",
    "    PS = mt.PS,\n",
    "    RGQ = mt.RGQ,\n",
    "    SB = mt.SB\n",
    ")"
   ]
  },
  {
   "cell_type": "code",
   "execution_count": 15,
   "id": "8404555a-e6f9-4bad-b202-1ba263d39fb2",
   "metadata": {
    "tags": []
   },
   "outputs": [],
   "source": [
    "mt = mt.annotate_cols(sex = hl.missing(hl.tstr))"
   ]
  },
  {
   "cell_type": "code",
   "execution_count": null,
   "id": "e08480ad-3586-42cd-96a7-0da8a10ccb26",
   "metadata": {
    "tags": []
   },
   "outputs": [
    {
     "name": "stderr",
     "output_type": "stream",
     "text": [
      "[Stage 2:============>                                        (471 + 12) / 1995]\r"
     ]
    }
   ],
   "source": [
    "for idx in [0,1]:\n",
    "    pl = hl.read_matrix_table(localfs_path+path_names[idx])  \n",
    "    pl = pl.drop(pl.col_idx)\n",
    "    pl = mt.union_cols(pl)\n",
    "    pl.write(localfs_path+path_names[idx]+'union.mt')"
   ]
  }
 ],
 "metadata": {
  "kernelspec": {
   "display_name": "Python 3 (ipykernel)",
   "language": "python",
   "name": "python3"
  },
  "language_info": {
   "codemirror_mode": {
    "name": "ipython",
    "version": 3
   },
   "file_extension": ".py",
   "mimetype": "text/x-python",
   "name": "python",
   "nbconvert_exporter": "python",
   "pygments_lexer": "ipython3",
   "version": "3.10.4"
  }
 },
 "nbformat": 4,
 "nbformat_minor": 5
}
