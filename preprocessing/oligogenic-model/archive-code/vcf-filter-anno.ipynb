{
 "cells": [
  {
   "cell_type": "code",
   "execution_count": 1,
   "metadata": {},
   "outputs": [
    {
     "data": {
      "text/html": [
       "<style>.container { width:100% !important; }</style>"
      ],
      "text/plain": [
       "<IPython.core.display.HTML object>"
      ]
     },
     "metadata": {},
     "output_type": "display_data"
    }
   ],
   "source": [
    "from IPython.display import display\n",
    "from IPython.display import HTML\n",
    "import IPython.core.display as di # Example: di.display_html('<h3>%s:</h3>' % str, raw=True)\n",
    "\n",
    "#This line will hide code by default when the notebook is exported as HTML\n",
    "#di.display_html('<script>jQuery(function() {if (jQuery(\"body.notebook_app\").length == 0) { jQuery(\".input_area\").toggle(); jQuery(\".prompt\").toggle();}});</script>', raw=True)\n",
    "\n",
    "display(HTML(\"<style>.container { width:100% !important; }</style>\"))"
   ]
  },
  {
   "cell_type": "code",
   "execution_count": null,
   "metadata": {
    "scrolled": true
   },
   "outputs": [],
   "source": [
    "import hail as hl\n",
    "hl.init(tmp_dir='/net/scratch/people/plggosborcz')\n",
    "\n",
    "from hail.plot import show\n",
    "from pprint import pprint\n",
    "from bokeh.layouts import gridplot\n",
    "hl.plot.output_notebook()\n",
    "\n",
    "\n",
    "import numpy as np\n",
    "import pandas as pd\n",
    "from functools import reduce\n",
    "from itertools import chain\n",
    "\n",
    "from bokeh.plotting import output_notebook, show, figure\n",
    "from bokeh.palettes import viridis\n",
    "\n",
    "output_notebook() "
   ]
  },
  {
   "cell_type": "markdown",
   "metadata": {},
   "source": [
    "### note - paths in this notebook are outdated"
   ]
  },
  {
   "cell_type": "code",
   "execution_count": null,
   "metadata": {},
   "outputs": [],
   "source": [
    "files = !ls /net/archive/groups/plggneuromol/GTS-analysis/data/vcf/GTS-vcfs/*gz"
   ]
  },
  {
   "cell_type": "code",
   "execution_count": null,
   "metadata": {},
   "outputs": [],
   "source": [
    "names = []\n",
    "\n",
    "for i in files:\n",
    "    i = i.split('/')\n",
    "    i = i[9]\n",
    "    i = i.split('.')\n",
    "    i = i[0]\n",
    "    names.append(i)"
   ]
  },
  {
   "cell_type": "code",
   "execution_count": null,
   "metadata": {},
   "outputs": [],
   "source": [
    "#importing part - 10\n",
    "\n",
    "small_mts = []\n",
    "\n",
    "small = !ls /net/archive/groups/plggneuromol/GTS-analysis/data/vcf/GTS-vcfs/part10/vcf-part-10-17-to-20/*gz\n",
    "\n",
    "for f in small:\n",
    "    mt = hl.import_vcf(f, reference_genome='GRCh38', filter='chr9[ \\t]138334443', force_bgz = True, array_elements_required = False)\n",
    "    print(mt.count())\n",
    "    small_mts.append(mt)\n",
    "    \n",
    "mt_small = hl.MatrixTable.union_rows(*small_mts)"
   ]
  },
  {
   "cell_type": "code",
   "execution_count": null,
   "metadata": {},
   "outputs": [],
   "source": [
    "mt_small.count()"
   ]
  },
  {
   "cell_type": "code",
   "execution_count": null,
   "metadata": {},
   "outputs": [],
   "source": [
    "larger_mts = []\n",
    "\n",
    "larger = !ls /net/archive/groups/plggneuromol/GTS-analysis/data/vcf/GTS-vcfs/part10/*gz\n",
    "\n",
    "for f in larger:\n",
    "    mt = hl.import_vcf(f, reference_genome='GRCh38', filter='chr9[ \\t]138334443', force_bgz = True, array_elements_required = False)\n",
    "    print(mt.count())\n",
    "    larger_mts.append(mt)\n",
    "    \n",
    "mt_larger = hl.MatrixTable.union_rows(*larger_mts)"
   ]
  },
  {
   "cell_type": "code",
   "execution_count": null,
   "metadata": {},
   "outputs": [],
   "source": [
    "mt_larger.count()"
   ]
  },
  {
   "cell_type": "code",
   "execution_count": null,
   "metadata": {},
   "outputs": [],
   "source": [
    "mt_larger = mt_larger.filter_cols(mt_larger.s != '464')"
   ]
  },
  {
   "cell_type": "code",
   "execution_count": null,
   "metadata": {},
   "outputs": [],
   "source": [
    "mt_10 = mt_larger.union_rows(mt_small)"
   ]
  },
  {
   "cell_type": "code",
   "execution_count": null,
   "metadata": {},
   "outputs": [],
   "source": [
    "mt_10.write('/net/archive/groups/plggneuromol/GTS-analysis/data/vcf/GTS-mts/part010.mt')"
   ]
  },
  {
   "cell_type": "code",
   "execution_count": null,
   "metadata": {},
   "outputs": [],
   "source": [
    "for idx, f in enumerate(files):\n",
    "    hl.import_vcf(f, reference_genome='GRCh38', filter='chr9[ \\t]138334443', force_bgz = True, array_elements_required = False).write('/net/archive/groups/plggneuromol/GTS-analysis/data/vcf/GTS-mts/'+names[idx]+'.mt')"
   ]
  },
  {
   "cell_type": "code",
   "execution_count": null,
   "metadata": {},
   "outputs": [],
   "source": [
    "mts = []\n",
    "for i in names:\n",
    "    i = hl.read_matrix_table('/net/archive/groups/plggneuromol/GTS-analysis/data/vcf/GTS-mts/'+i+'.mt')\n",
    "    mts.append(i)"
   ]
  },
  {
   "cell_type": "code",
   "execution_count": null,
   "metadata": {},
   "outputs": [],
   "source": [
    "for mt in mts:\n",
    "    pprint(mt.aggregate_rows(hl.agg.counter(mt.locus.contig)))"
   ]
  },
  {
   "cell_type": "code",
   "execution_count": null,
   "metadata": {},
   "outputs": [],
   "source": [
    "rpmk = hl.import_bed('repeatmasker_all', reference_genome='GRCh38', skip_invalid_intervals=True)"
   ]
  },
  {
   "cell_type": "code",
   "execution_count": null,
   "metadata": {},
   "outputs": [],
   "source": [
    "mt = hl.read_matrix_table('/net/archive/groups/plggneuromol/GTS-analysis/data/vcf/GTS-mts/part010.mt')"
   ]
  },
  {
   "cell_type": "code",
   "execution_count": null,
   "metadata": {},
   "outputs": [],
   "source": [
    "mt = mt.filter_rows(hl.is_defined(rpmk[mt.locus]), keep = False)\n",
    "mt.write('/net/archive/groups/plggneuromol/GTS-analysis/data/vcf/GTS-rpmk/part010.mt')\n",
    "mt = hl.read_matrix_table('/net/archive/groups/plggneuromol/GTS-analysis/data/vcf/GTS-rpmk/part010.mt')"
   ]
  },
  {
   "cell_type": "code",
   "execution_count": null,
   "metadata": {},
   "outputs": [],
   "source": [
    "for idx, mt in enumerate(mts):\n",
    "    print(mt.count())\n",
    "    mt = mt.filter_rows(hl.is_defined(rpmk[mt.locus]), keep = False)\n",
    "    mt.write('/net/archive/groups/plggneuromol/GTS-analysis/data/vcf/GTS-rpmk/'+names[idx]+'.mt')\n",
    "    mts[idx] = hl.read_matrix_table('/net/archive/groups/plggneuromol/GTS-analysis/data/vcf/GTS-rpmk/'+names[idx]+'.mt')"
   ]
  },
  {
   "cell_type": "code",
   "execution_count": null,
   "metadata": {},
   "outputs": [],
   "source": [
    "for mt in mts:\n",
    "    print(mt.count())"
   ]
  },
  {
   "cell_type": "code",
   "execution_count": null,
   "metadata": {},
   "outputs": [],
   "source": [
    "table = hl.import_table('/net/archive/groups/plggneuromol/GTS-analysis/vcf_preprocessing/gnomad.genomes.r3.0.coverage.summary.tsv.bgz', impute = True)\n",
    "\n",
    "table = table.select(table.locus, table.over_1)\n",
    "\n",
    "table = table.annotate(locus = hl.parse_locus(table.locus, reference_genome='GRCh38'))\n",
    "\n",
    "table = table.filter(table.over_1 >0.9)\n",
    "\n",
    "table = table.key_by(table.locus)"
   ]
  },
  {
   "cell_type": "code",
   "execution_count": null,
   "metadata": {},
   "outputs": [],
   "source": [
    "mt = mt.filter_rows(hl.is_defined(table[mt.locus]), keep = True)\n",
    "mt.write('/net/archive/groups/plggneuromol/GTS-analysis/data/vcf/GTS-cov/part010.mt')\n",
    "mt = hl.read_matrix_table('/net/archive/groups/plggneuromol/GTS-analysis/data/vcf/GTS-cov/part010.mt')"
   ]
  },
  {
   "cell_type": "code",
   "execution_count": null,
   "metadata": {
    "scrolled": true
   },
   "outputs": [],
   "source": [
    "for idx, mt in enumerate(mts):\n",
    "    print(mt.count())\n",
    "    mt = mt.filter_rows(hl.is_defined(table[mt.locus]), keep = True)\n",
    "    mt.write('/net/archive/groups/plggneuromol/GTS-analysis/data/vcf/GTS-cov/'+names[idx]+'.mt')\n",
    "    mts[idx] = hl.read_matrix_table('/net/archive/groups/plggneuromol/GTS-analysis/data/vcf/GTS-cov/'+names[idx]+'.mt')"
   ]
  },
  {
   "cell_type": "markdown",
   "metadata": {},
   "source": [
    "## Start from here "
   ]
  },
  {
   "cell_type": "code",
   "execution_count": null,
   "metadata": {},
   "outputs": [],
   "source": [
    "files = !ls /net/archive/groups/plggneuromol/GTS-analysis/data/vcf/GTS-cov/"
   ]
  },
  {
   "cell_type": "code",
   "execution_count": null,
   "metadata": {},
   "outputs": [],
   "source": [
    "mts = []\n",
    "\n",
    "for f in files:\n",
    "    f = hl.read_matrix_table('/net/archive/groups/plggneuromol/GTS-analysis/data/vcf/GTS-cov/'+f)\n",
    "    mts.append(f)"
   ]
  },
  {
   "cell_type": "code",
   "execution_count": null,
   "metadata": {},
   "outputs": [],
   "source": [
    "gnomad = hl.read_table('/net/archive/groups/plggneuromol/GTS-analysis/gnomad/gnomad_selected_filtered.ht')"
   ]
  },
  {
   "cell_type": "code",
   "execution_count": null,
   "metadata": {},
   "outputs": [],
   "source": [
    "mt = hl.read_matrix_table('/net/archive/groups/plggneuromol/GTS-analysis/data/vcf/GTS-cov/part010.mt')\n",
    "mt = mt.select_rows(mt.rsid, mt.info.AC, mt.info.AF, mt.info.AN)\n",
    "mt = hl.split_multi_hts(mt)\n",
    "mt = mt.annotate_rows(gnomad_v3 = gnomad[mt.row_key])\n",
    "mt.write('/net/archive/groups/plggneuromol/GTS-analysis/data/vcf/GTS-gnomad/part010.mt')"
   ]
  },
  {
   "cell_type": "code",
   "execution_count": null,
   "metadata": {},
   "outputs": [],
   "source": [
    "for idx, mt in enumerate(mts):\n",
    "    mt = mt.select_rows(mt.rsid, mt.info.AC, mt.info.AF, mt.info.AN)\n",
    "    mt = hl.split_multi_hts(mt)\n",
    "    mt = mt.annotate_rows(gnomad_v3 = gnomad[mt.row_key])\n",
    "    mt.write('/net/archive/groups/plggneuromol/GTS-analysis/data/vcf/GTS-gnomad/'+files[idx])"
   ]
  },
  {
   "cell_type": "markdown",
   "metadata": {},
   "source": [
    "Now - see example annotations and annotate with nearby genes and HPO"
   ]
  },
  {
   "cell_type": "code",
   "execution_count": null,
   "metadata": {},
   "outputs": [],
   "source": [
    "mts = []\n",
    "\n",
    "for f in files:\n",
    "    f = hl.read_matrix_table('/net/archive/groups/plggneuromol/GTS-analysis/data/vcf/GTS-gnomad/'+f)\n",
    "    mts.append(f)"
   ]
  },
  {
   "cell_type": "code",
   "execution_count": null,
   "metadata": {},
   "outputs": [],
   "source": [
    "genes = hl.read_table('/net/archive/groups/plggneuromol/GTS-analysis/vcf_preprocessing/genecode_v32.ht')"
   ]
  },
  {
   "cell_type": "code",
   "execution_count": null,
   "metadata": {},
   "outputs": [],
   "source": [
    "genes = genes.filter(hl.is_valid_contig(genes['hg38.knownGene.chrom'], reference_genome='GRCh38'))"
   ]
  },
  {
   "cell_type": "code",
   "execution_count": null,
   "metadata": {
    "scrolled": true
   },
   "outputs": [],
   "source": [
    "hpo = hl.import_table('/net/archive/groups/plggneuromol/GTS-analysis/vcf_preprocessing/hpo.tsv', impute = True, no_header=True)"
   ]
  },
  {
   "cell_type": "code",
   "execution_count": null,
   "metadata": {},
   "outputs": [],
   "source": [
    "start = genes['hg38.knownGene.txStart']\n",
    "stop =  genes['hg38.knownGene.txEnd']\n",
    "\n",
    "genes = genes.transmute(interval = \n",
    "                        hl.locus_interval(genes['hg38.knownGene.chrom'], \n",
    "                                          start,\n",
    "                                          stop,\n",
    "                                          reference_genome='GRCh38', includes_start=False))\n",
    "\n",
    "genes = genes.key_by(genes['hg38.kgXref.geneSymbol'])\n",
    "\n",
    "hpo = hpo.key_by(hpo.f0)\n",
    "\n",
    "genes = genes.annotate(hpo = hpo.index(genes['hg38.kgXref.geneSymbol'], all_matches = True)['f1'])\n",
    "\n",
    "genes = genes.key_by(genes.interval)"
   ]
  },
  {
   "cell_type": "code",
   "execution_count": null,
   "metadata": {},
   "outputs": [],
   "source": [
    "mt = hl.read_matrix_table('/net/archive/groups/plggneuromol/GTS-analysis/data/vcf/GTS-gnomad/part010.mt')\n",
    "mt = mt.annotate_rows(within_gene = hl.array(hl.set(genes.index(mt.locus, all_matches=True)['hg38.kgXref.geneSymbol'])))\n",
    "mt= mt.annotate_rows(hpo = hl.array(hl.set(genes.index(mt.locus, all_matches=True)['hpo'])))\n",
    "mt.write('/net/archive/groups/plggneuromol/GTS-analysis/data/vcf/GTS-hpo/part010.mt')"
   ]
  },
  {
   "cell_type": "code",
   "execution_count": null,
   "metadata": {},
   "outputs": [],
   "source": [
    "for idx, mt in enumerate(mts):\n",
    "    mts[idx] = mt.annotate_rows(within_gene = hl.array(hl.set(genes.index(mt.locus, all_matches=True)['hg38.kgXref.geneSymbol'])))\n",
    "    mts[idx] = mt.annotate_rows(hpo = hl.array(hl.set(genes.index(mt.locus, all_matches=True)['hpo'])))\n",
    "    mt.write('/net/archive/groups/plggneuromol/GTS-analysis/data/vcf/GTS-hpo/'+files[idx])"
   ]
  },
  {
   "cell_type": "code",
   "execution_count": null,
   "metadata": {},
   "outputs": [],
   "source": [
    "files = !ls /net/archive/groups/plggneuromol/GTS-analysis/data/vcf/GTS-hpo/"
   ]
  },
  {
   "cell_type": "code",
   "execution_count": null,
   "metadata": {
    "scrolled": true
   },
   "outputs": [],
   "source": [
    "mts = []\n",
    "\n",
    "for f in files:\n",
    "    f = hl.read_matrix_table('/net/archive/groups/plggneuromol/GTS-analysis/data/vcf/GTS-hpo/'+f)\n",
    "    f = f.filter_cols(f.s != '464')\n",
    "    mts.append(f)"
   ]
  },
  {
   "cell_type": "markdown",
   "metadata": {},
   "source": [
    "## one last step - join + perform PCA "
   ]
  },
  {
   "cell_type": "code",
   "execution_count": null,
   "metadata": {},
   "outputs": [],
   "source": [
    "mt_full = hl.MatrixTable.union_rows(*mts)"
   ]
  },
  {
   "cell_type": "code",
   "execution_count": null,
   "metadata": {},
   "outputs": [],
   "source": [
    "mt_full.write('/net/archive/groups/plggneuromol/GTS-analysis/data/vcf/GTS.mt')"
   ]
  },
  {
   "cell_type": "code",
   "execution_count": null,
   "metadata": {},
   "outputs": [],
   "source": [
    "mt = hl.read_matrix_table('/net/archive/groups/plggneuromol/GTS-analysis/data/vcf/GTS.mt')"
   ]
  },
  {
   "cell_type": "code",
   "execution_count": null,
   "metadata": {},
   "outputs": [],
   "source": [
    "mt = mt.annotate_rows(info = hl.struct(AC = mt.AC, AF = mt.AF, gnomad_nfe_AF = mt.gnomad_v3.v3_nfe.AF, gnomad_nfe_homozygote_count = mt.gnomad_v3.v3_nfe.homozygote_count, highest_consequence = mt.gnomad_v3.most_severe_consequence,\n",
    "                                  exon = mt.gnomad_v3.transcript_consequences.exon,\n",
    "                                  transcript_impact = mt.gnomad_v3.transcript_consequences.impact, lof = mt.gnomad_v3.transcript_consequences.lof,\n",
    "                                  pholyphen_prediction = mt.gnomad_v3.transcript_consequences.polyphen_prediction, polyphen_score = mt.gnomad_v3.transcript_consequences.polyphen_score, \n",
    "                                  sift_prediction = mt.gnomad_v3.transcript_consequences.sift_prediction, sift_score = mt.gnomad_v3.transcript_consequences.sift_score,\n",
    "                                  transcript_id = mt.gnomad_v3.transcript_consequences.transcript_id, variant_class = mt.gnomad_v3.variant_class, gene_symbol = mt.within_gene, hpo = hl.flatten(mt.hpo)))"
   ]
  },
  {
   "cell_type": "code",
   "execution_count": null,
   "metadata": {},
   "outputs": [],
   "source": [
    "hl.export_vcf(mt, '/net/archive/groups/plggneuromol/GTS-analysis/data/vcf/GTS_all.vcf.bgz')"
   ]
  },
  {
   "cell_type": "code",
   "execution_count": null,
   "metadata": {},
   "outputs": [],
   "source": [
    "samples = mt.s.collect()"
   ]
  },
  {
   "cell_type": "code",
   "execution_count": null,
   "metadata": {},
   "outputs": [],
   "source": [
    "for s in samples:\n",
    "    mt_s = mt.filter_cols(mt.s == s)\n",
    "    hl.export_vcf(mt_s,'/net/archive/groups/plggneuromol/GTS-analysis/data/vcf/GTS-annotated-vcf/GTS-individual-vcf'+s+'vcf.bgz')"
   ]
  },
  {
   "cell_type": "code",
   "execution_count": null,
   "metadata": {
    "scrolled": true
   },
   "outputs": [],
   "source": [
    "eigenvalues, pcs, _ = hl.hwe_normalized_pca(mt_sample.GT)\n",
    "mt_sample = mt_sample.annotate_cols(scores = pcs[mt_sample.s].scores)\n",
    "\n",
    "p = hl.plot.scatter(mt_sample.scores[0],\n",
    "                    mt_sample.scores[1],\n",
    "                    label=mt_sample.s,\n",
    "                    title='PCA', xlabel='PC1', ylabel='PC2')\n",
    "show(p)"
   ]
  },
  {
   "cell_type": "code",
   "execution_count": null,
   "metadata": {},
   "outputs": [],
   "source": [
    "mt_sample = mt_sample.annotate_cols(group = hl.cond(mt_sample.s.contains(\"S\"), \"old\", \"new\"))"
   ]
  },
  {
   "cell_type": "code",
   "execution_count": null,
   "metadata": {},
   "outputs": [],
   "source": [
    "p = hl.plot.scatter(mt_sample.scores[3],\n",
    "                    mt_sample.scores[4],\n",
    "                    label=mt_sample.group,\n",
    "                    title='PCA', xlabel='PC1', ylabel='PC2')\n",
    "show(p)"
   ]
  }
 ],
 "metadata": {
  "kernelspec": {
   "display_name": "Python 3 (ipykernel)",
   "language": "python",
   "name": "python3"
  },
  "language_info": {
   "codemirror_mode": {
    "name": "ipython",
    "version": 3
   },
   "file_extension": ".py",
   "mimetype": "text/x-python",
   "name": "python",
   "nbconvert_exporter": "python",
   "pygments_lexer": "ipython3",
   "version": "3.7.7"
  }
 },
 "nbformat": 4,
 "nbformat_minor": 2
}
