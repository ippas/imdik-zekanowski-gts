{
 "cells": [
  {
   "cell_type": "code",
   "execution_count": 1,
   "id": "8830a0a3-d54a-4da3-8b32-a33ae3bbdb8c",
   "metadata": {},
   "outputs": [],
   "source": [
    "import os\n",
    "localfs_path = os.environ.get('SCRATCH_LOCAL') + '/'"
   ]
  },
  {
   "cell_type": "code",
   "execution_count": null,
   "id": "7c4762a4-78b7-4788-aac0-b3510bd10a22",
   "metadata": {
    "tags": []
   },
   "outputs": [
    {
     "name": "stderr",
     "output_type": "stream",
     "text": [
      "Picked up _JAVA_OPTIONS: -Djava.io.tmpdir=/localfs/3948668/\n"
     ]
    }
   ],
   "source": [
    "os.environ['_JAVA_OPTIONS'] = f'-Djava.io.tmpdir={localfs_path}'\n",
    "\n",
    "import hail as hl\n",
    "\n",
    "hl.init(\n",
    "    tmp_dir=(localfs_path+'tmp_hail'),\n",
    "    spark_conf={'spark.driver.memory': '30G', 'spark.executor.memory': '10G'}, # I don't know what should be here\n",
    "    default_reference='GRCh38'\n",
    ") "
   ]
  },
  {
   "cell_type": "code",
   "execution_count": null,
   "id": "cf582ceb-8db7-456a-933f-137b8ccc157e",
   "metadata": {
    "tags": []
   },
   "outputs": [],
   "source": [
    "from bokeh.io import show, output_notebook\n",
    "from bokeh.layouts import gridplot\n",
    "output_notebook()"
   ]
  },
  {
   "cell_type": "markdown",
   "id": "92a181d5-4e64-44ef-8a4a-55d01c2ff6c4",
   "metadata": {},
   "source": [
    "### in this notebook I am using the matrixtable with outliers already preliminarly removed (in 4-1)"
   ]
  },
  {
   "cell_type": "code",
   "execution_count": null,
   "id": "98f5ef02-a85a-46eb-990c-cbf60c9ecd49",
   "metadata": {
    "tags": []
   },
   "outputs": [],
   "source": [
    "def run_pca_no_filter(mtx, mtx_path, suffix):\n",
    "    \n",
    "    for_pca = mtx.sample_rows(0.1)\n",
    "\n",
    "    for_pca = for_pca.checkpoint(localfs_path+'subset_'+suffix+mtx_path)\n",
    "    for_pca = hl.read_matrix_table(localfs_path+'subset_'+suffix+mtx_path)\n",
    "    eigenvalues, pcs, _ = hl.hwe_normalized_pca(for_pca.GT, k=20)\n",
    "    \n",
    "    mtx = mtx.annotate_cols(scores_no_filter = pcs[mtx.s].scores)\n",
    "    mtx = mtx.checkpoint(localfs_path+'after_pca_no_filters_'+suffix+mtx_path)\n",
    "    \n",
    "    return(mtx)\n",
    "\n",
    "def remove_pca_outliers(mtx, field, last_score, mtx_path, suffix):\n",
    "    \n",
    "    mtx = mtx.annotate_globals(\n",
    "            st = mtx.aggregate_cols(\n",
    "                hl.agg.array_agg(\n",
    "                    lambda pc: hl.agg.stats(pc),\n",
    "                    mtx[field])\n",
    "            )\n",
    "        )\n",
    "\n",
    "    mtx = mtx.annotate_cols(\n",
    "            pc_outliers=hl.map(\n",
    "                lambda s, st: hl.int((s > st['mean'] + (10 * st['stdev'])) | (s < st['mean'] - (10 * st['stdev']))),\n",
    "                mtx[field][0:last_score],\n",
    "                mtx.st\n",
    "            )\n",
    "        )\n",
    "\n",
    "    mtx = mtx.filter_cols(\n",
    "        hl.sum(mtx.pc_outliers) ==  0\n",
    "    )\n",
    "    \n",
    "    mtx = mtx.checkpoint(localfs_path+'no_outliers'+mtx_path+suffix+'.mt')\n",
    "    \n",
    "    return(mtx)"
   ]
  },
  {
   "cell_type": "markdown",
   "id": "5397efa6-cca7-4203-a4dd-8b750295f730",
   "metadata": {},
   "source": [
    "### read in the polish without zeros subset the controls randomly allocated (to have ~100 control samples)"
   ]
  },
  {
   "cell_type": "code",
   "execution_count": null,
   "id": "41e7d30d-e58b-4ae6-86ba-9f58a247b7b2",
   "metadata": {
    "tags": []
   },
   "outputs": [],
   "source": [
    "pw_vs_gts = hl.read_matrix_table('/net/pr2/projects/plgrid/plggneuromol/imdik-zekanowski-gts/data/mts/oligogenic-model/pw_vs_gts.mt')"
   ]
  },
  {
   "cell_type": "code",
   "execution_count": null,
   "id": "279c2c4a-24f6-4c13-8d2d-70070a9a2996",
   "metadata": {
    "tags": []
   },
   "outputs": [],
   "source": [
    "samples_to_exclude = ['S_7288', 'S_7289', 'S_7290', 'WGS_6827', 'WGS_6835']\n",
    "#these are low quality samples to exclude\n",
    "\n",
    "pw_vs_gts = pw_vs_gts.filter_cols(\n",
    "    hl.literal(samples_to_exclude).contains(pw_vs_gts.s),\n",
    "    keep = False\n",
    ")"
   ]
  },
  {
   "cell_type": "code",
   "execution_count": null,
   "id": "01d9a5db-a884-4eb2-b594-59db1dded686",
   "metadata": {
    "tags": []
   },
   "outputs": [],
   "source": [
    "pw_vs_gts.count()"
   ]
  },
  {
   "cell_type": "code",
   "execution_count": null,
   "id": "aab6b1f5-f472-4c75-9d93-60eb1db0344b",
   "metadata": {
    "tags": []
   },
   "outputs": [],
   "source": [
    "# I am going to divide the controls into 9 ~equal groups:\n",
    "pw_vs_gts = pw_vs_gts.annotate_cols(\n",
    "    subset_no = hl.if_else(\n",
    "        pw_vs_gts.group == 'GTS',\n",
    "        0,\n",
    "        hl.rand_int32(1, 10, seed=0)\n",
    "    )\n",
    ")"
   ]
  },
  {
   "cell_type": "code",
   "execution_count": 9,
   "id": "a9e0c5ec-6161-4114-8c5e-4a5caedc3063",
   "metadata": {
    "tags": []
   },
   "outputs": [
    {
     "data": {
      "text/plain": [
       "{0: 37, 1: 99, 2: 123, 3: 118, 4: 104, 5: 101, 6: 109, 7: 123, 8: 107, 9: 116}"
      ]
     },
     "execution_count": 9,
     "metadata": {},
     "output_type": "execute_result"
    }
   ],
   "source": [
    "pw_vs_gts.aggregate_cols(hl.agg.counter(pw_vs_gts.subset_no))"
   ]
  },
  {
   "cell_type": "code",
   "execution_count": 10,
   "id": "9f097e09-9fab-4f77-a719-c3177c5bcf0b",
   "metadata": {
    "tags": []
   },
   "outputs": [],
   "source": [
    "mts = []\n",
    "\n",
    "for i in list(range(1, 10)):\n",
    "    mt = pw_vs_gts.filter_cols(\n",
    "        (pw_vs_gts.subset_no == 0) | (pw_vs_gts.subset_no == i)\n",
    "    )\n",
    "    \n",
    "    mts.append(mt)"
   ]
  },
  {
   "cell_type": "code",
   "execution_count": 11,
   "id": "39e17732-0235-4ad2-8b8c-ac848fbfcc7d",
   "metadata": {
    "tags": []
   },
   "outputs": [],
   "source": [
    "mts_paths = []\n",
    "\n",
    "for i in list(range(1,10)):\n",
    "    mts_paths.append(str(i)+'.mt')"
   ]
  },
  {
   "cell_type": "code",
   "execution_count": null,
   "id": "b20be30f-0680-4d15-8aee-5b99cb591dac",
   "metadata": {
    "tags": []
   },
   "outputs": [
    {
     "name": "stderr",
     "output_type": "stream",
     "text": [
      "2023-07-03 09:02:35.055 Hail: INFO: wrote matrix table with 302129 rows and 136 columns in 878 partitions to /localfs/3878085/subset_gts_vs_pol_subseted1.mt\n",
      "    Total size: 2.25 GiB\n",
      "    * Rows/entries: 2.25 GiB\n",
      "    * Columns: 65.82 KiB\n",
      "    * Globals: 743.00 B\n",
      "    * Smallest partition: 0 rows (20.00 B)\n",
      "    * Largest partition:  1156 rows (8.98 MiB)\n",
      "2023-07-03 09:03:17.552 Hail: INFO: hwe_normalize: found 278176 variants after filtering out monomorphic sites.\n",
      "2023-07-03 09:03:22.008 Hail: INFO: pca: running PCA with 20 components.../ 878]\n",
      "2023-07-03 09:04:28.503 Hail: INFO: wrote table with 0 rows in 0 partitions to /localfs/3878085/tmp_hail/persist_tableFwrWZQ98VA\n",
      "    Total size: 22.41 KiB\n",
      "    * Rows: 0.00 B\n",
      "    * Globals: 22.41 KiB\n",
      "    * Smallest partition: N/A\n",
      "    * Largest partition:  N/A\n",
      "2023-07-03 09:05:59.981 Hail: INFO: wrote matrix table with 3031891 rows and 136 columns in 878 partitions to /localfs/3878085/after_pca_no_filters_gts_vs_pol_subseted1.mt\n",
      "    Total size: 22.24 GiB\n",
      "    * Rows/entries: 22.24 GiB\n",
      "    * Columns: 65.82 KiB\n",
      "    * Globals: 743.00 B\n",
      "    * Smallest partition: 0 rows (20.00 B)\n",
      "    * Largest partition:  11646 rows (88.45 MiB)\n",
      "[Stage 214:=========================================>          (701 + 12) / 878]\r"
     ]
    }
   ],
   "source": [
    "for idx, mt in enumerate(mts):\n",
    "    mts[idx] = run_pca_no_filter(mt, mts_paths[idx], 'gts_vs_pol_subseted')"
   ]
  }
 ],
 "metadata": {
  "kernelspec": {
   "display_name": "Python 3 (ipykernel)",
   "language": "python",
   "name": "python3"
  },
  "language_info": {
   "codemirror_mode": {
    "name": "ipython",
    "version": 3
   },
   "file_extension": ".py",
   "mimetype": "text/x-python",
   "name": "python",
   "nbconvert_exporter": "python",
   "pygments_lexer": "ipython3",
   "version": "3.10.4"
  }
 },
 "nbformat": 4,
 "nbformat_minor": 5
}
