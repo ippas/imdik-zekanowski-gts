{
 "cells": [
  {
   "cell_type": "code",
   "execution_count": 1,
   "id": "8830a0a3-d54a-4da3-8b32-a33ae3bbdb8c",
   "metadata": {},
   "outputs": [],
   "source": [
    "import os\n",
    "localfs_path = os.environ.get('SCRATCH_LOCAL') + '/'"
   ]
  },
  {
   "cell_type": "code",
   "execution_count": 2,
   "id": "4d448244-ae22-4094-9e9c-9bb6f291b0d8",
   "metadata": {},
   "outputs": [
    {
     "name": "stderr",
     "output_type": "stream",
     "text": [
      "WARNING: An illegal reflective access operation has occurred\n",
      "WARNING: Illegal reflective access by org.apache.spark.unsafe.Platform (file:/net/pr2/projects/plgrid/plggneuromol/imdik-zekanowski-gts/venv-hail-0.2.105/lib/python3.10/site-packages/pyspark/jars/spark-unsafe_2.12-3.1.3.jar) to constructor java.nio.DirectByteBuffer(long,int)\n",
      "WARNING: Please consider reporting this to the maintainers of org.apache.spark.unsafe.Platform\n",
      "WARNING: Use --illegal-access=warn to enable warnings of further illegal reflective access operations\n",
      "WARNING: All illegal access operations will be denied in a future release\n"
     ]
    },
    {
     "name": "stdout",
     "output_type": "stream",
     "text": [
      "2023-04-16 21:17:33.992 WARN  NativeCodeLoader:60 - Unable to load native-hadoop library for your platform... using builtin-java classes where applicable\n"
     ]
    },
    {
     "name": "stderr",
     "output_type": "stream",
     "text": [
      "Setting default log level to \"WARN\".\n",
      "To adjust logging level use sc.setLogLevel(newLevel). For SparkR, use setLogLevel(newLevel).\n",
      "Running on Apache Spark version 3.1.3\n",
      "SparkUI available at http://ac0013:4040\n",
      "Welcome to\n",
      "     __  __     <>__\n",
      "    / /_/ /__  __/ /\n",
      "   / __  / _ `/ / /\n",
      "  /_/ /_/\\_,_/_/_/   version 0.2.109-b71b065e4bb6\n",
      "LOGGING: writing to /net/pr2/projects/plgrid/plggneuromol/imdik-zekanowski-gts/preprocessing/oligogenic-model/hail-20230416-2117-0.2.109-b71b065e4bb6.log\n"
     ]
    }
   ],
   "source": [
    "import hail as hl\n",
    "\n",
    "hl.init(\n",
    "    tmp_dir=(localfs_path+'tmp_hail_3'),\n",
    "    #spark_conf={'spark.driver.memory': '30G', 'spark.executor.memory': '10G'}, # I don't know what should be here\n",
    "    default_reference='GRCh38'\n",
    ") "
   ]
  },
  {
   "cell_type": "code",
   "execution_count": 3,
   "id": "cf582ceb-8db7-456a-933f-137b8ccc157e",
   "metadata": {
    "tags": []
   },
   "outputs": [
    {
     "data": {
      "text/html": [
       "\n",
       "    <div class=\"bk-root\">\n",
       "        <a href=\"https://bokeh.org\" target=\"_blank\" class=\"bk-logo bk-logo-small bk-logo-notebook\"></a>\n",
       "        <span id=\"1001\">Loading BokehJS ...</span>\n",
       "    </div>"
      ]
     },
     "metadata": {},
     "output_type": "display_data"
    },
    {
     "data": {
      "application/javascript": [
       "\n",
       "(function(root) {\n",
       "  function now() {\n",
       "    return new Date();\n",
       "  }\n",
       "\n",
       "  var force = true;\n",
       "\n",
       "  if (typeof root._bokeh_onload_callbacks === \"undefined\" || force === true) {\n",
       "    root._bokeh_onload_callbacks = [];\n",
       "    root._bokeh_is_loading = undefined;\n",
       "  }\n",
       "\n",
       "  var JS_MIME_TYPE = 'application/javascript';\n",
       "  var HTML_MIME_TYPE = 'text/html';\n",
       "  var EXEC_MIME_TYPE = 'application/vnd.bokehjs_exec.v0+json';\n",
       "  var CLASS_NAME = 'output_bokeh rendered_html';\n",
       "\n",
       "  /**\n",
       "   * Render data to the DOM node\n",
       "   */\n",
       "  function render(props, node) {\n",
       "    var script = document.createElement(\"script\");\n",
       "    node.appendChild(script);\n",
       "  }\n",
       "\n",
       "  /**\n",
       "   * Handle when an output is cleared or removed\n",
       "   */\n",
       "  function handleClearOutput(event, handle) {\n",
       "    var cell = handle.cell;\n",
       "\n",
       "    var id = cell.output_area._bokeh_element_id;\n",
       "    var server_id = cell.output_area._bokeh_server_id;\n",
       "    // Clean up Bokeh references\n",
       "    if (id != null && id in Bokeh.index) {\n",
       "      Bokeh.index[id].model.document.clear();\n",
       "      delete Bokeh.index[id];\n",
       "    }\n",
       "\n",
       "    if (server_id !== undefined) {\n",
       "      // Clean up Bokeh references\n",
       "      var cmd = \"from bokeh.io.state import curstate; print(curstate().uuid_to_server['\" + server_id + \"'].get_sessions()[0].document.roots[0]._id)\";\n",
       "      cell.notebook.kernel.execute(cmd, {\n",
       "        iopub: {\n",
       "          output: function(msg) {\n",
       "            var id = msg.content.text.trim();\n",
       "            if (id in Bokeh.index) {\n",
       "              Bokeh.index[id].model.document.clear();\n",
       "              delete Bokeh.index[id];\n",
       "            }\n",
       "          }\n",
       "        }\n",
       "      });\n",
       "      // Destroy server and session\n",
       "      var cmd = \"import bokeh.io.notebook as ion; ion.destroy_server('\" + server_id + \"')\";\n",
       "      cell.notebook.kernel.execute(cmd);\n",
       "    }\n",
       "  }\n",
       "\n",
       "  /**\n",
       "   * Handle when a new output is added\n",
       "   */\n",
       "  function handleAddOutput(event, handle) {\n",
       "    var output_area = handle.output_area;\n",
       "    var output = handle.output;\n",
       "\n",
       "    // limit handleAddOutput to display_data with EXEC_MIME_TYPE content only\n",
       "    if ((output.output_type != \"display_data\") || (!output.data.hasOwnProperty(EXEC_MIME_TYPE))) {\n",
       "      return\n",
       "    }\n",
       "\n",
       "    var toinsert = output_area.element.find(\".\" + CLASS_NAME.split(' ')[0]);\n",
       "\n",
       "    if (output.metadata[EXEC_MIME_TYPE][\"id\"] !== undefined) {\n",
       "      toinsert[toinsert.length - 1].firstChild.textContent = output.data[JS_MIME_TYPE];\n",
       "      // store reference to embed id on output_area\n",
       "      output_area._bokeh_element_id = output.metadata[EXEC_MIME_TYPE][\"id\"];\n",
       "    }\n",
       "    if (output.metadata[EXEC_MIME_TYPE][\"server_id\"] !== undefined) {\n",
       "      var bk_div = document.createElement(\"div\");\n",
       "      bk_div.innerHTML = output.data[HTML_MIME_TYPE];\n",
       "      var script_attrs = bk_div.children[0].attributes;\n",
       "      for (var i = 0; i < script_attrs.length; i++) {\n",
       "        toinsert[toinsert.length - 1].firstChild.setAttribute(script_attrs[i].name, script_attrs[i].value);\n",
       "      }\n",
       "      // store reference to server id on output_area\n",
       "      output_area._bokeh_server_id = output.metadata[EXEC_MIME_TYPE][\"server_id\"];\n",
       "    }\n",
       "  }\n",
       "\n",
       "  function register_renderer(events, OutputArea) {\n",
       "\n",
       "    function append_mime(data, metadata, element) {\n",
       "      // create a DOM node to render to\n",
       "      var toinsert = this.create_output_subarea(\n",
       "        metadata,\n",
       "        CLASS_NAME,\n",
       "        EXEC_MIME_TYPE\n",
       "      );\n",
       "      this.keyboard_manager.register_events(toinsert);\n",
       "      // Render to node\n",
       "      var props = {data: data, metadata: metadata[EXEC_MIME_TYPE]};\n",
       "      render(props, toinsert[toinsert.length - 1]);\n",
       "      element.append(toinsert);\n",
       "      return toinsert\n",
       "    }\n",
       "\n",
       "    /* Handle when an output is cleared or removed */\n",
       "    events.on('clear_output.CodeCell', handleClearOutput);\n",
       "    events.on('delete.Cell', handleClearOutput);\n",
       "\n",
       "    /* Handle when a new output is added */\n",
       "    events.on('output_added.OutputArea', handleAddOutput);\n",
       "\n",
       "    /**\n",
       "     * Register the mime type and append_mime function with output_area\n",
       "     */\n",
       "    OutputArea.prototype.register_mime_type(EXEC_MIME_TYPE, append_mime, {\n",
       "      /* Is output safe? */\n",
       "      safe: true,\n",
       "      /* Index of renderer in `output_area.display_order` */\n",
       "      index: 0\n",
       "    });\n",
       "  }\n",
       "\n",
       "  // register the mime type if in Jupyter Notebook environment and previously unregistered\n",
       "  if (root.Jupyter !== undefined) {\n",
       "    var events = require('base/js/events');\n",
       "    var OutputArea = require('notebook/js/outputarea').OutputArea;\n",
       "\n",
       "    if (OutputArea.prototype.mime_types().indexOf(EXEC_MIME_TYPE) == -1) {\n",
       "      register_renderer(events, OutputArea);\n",
       "    }\n",
       "  }\n",
       "\n",
       "  \n",
       "  if (typeof (root._bokeh_timeout) === \"undefined\" || force === true) {\n",
       "    root._bokeh_timeout = Date.now() + 5000;\n",
       "    root._bokeh_failed_load = false;\n",
       "  }\n",
       "\n",
       "  var NB_LOAD_WARNING = {'data': {'text/html':\n",
       "     \"<div style='background-color: #fdd'>\\n\"+\n",
       "     \"<p>\\n\"+\n",
       "     \"BokehJS does not appear to have successfully loaded. If loading BokehJS from CDN, this \\n\"+\n",
       "     \"may be due to a slow or bad network connection. Possible fixes:\\n\"+\n",
       "     \"</p>\\n\"+\n",
       "     \"<ul>\\n\"+\n",
       "     \"<li>re-rerun `output_notebook()` to attempt to load from CDN again, or</li>\\n\"+\n",
       "     \"<li>use INLINE resources instead, as so:</li>\\n\"+\n",
       "     \"</ul>\\n\"+\n",
       "     \"<code>\\n\"+\n",
       "     \"from bokeh.resources import INLINE\\n\"+\n",
       "     \"output_notebook(resources=INLINE)\\n\"+\n",
       "     \"</code>\\n\"+\n",
       "     \"</div>\"}};\n",
       "\n",
       "  function display_loaded() {\n",
       "    var el = document.getElementById(\"1001\");\n",
       "    if (el != null) {\n",
       "      el.textContent = \"BokehJS is loading...\";\n",
       "    }\n",
       "    if (root.Bokeh !== undefined) {\n",
       "      if (el != null) {\n",
       "        el.textContent = \"BokehJS \" + root.Bokeh.version + \" successfully loaded.\";\n",
       "      }\n",
       "    } else if (Date.now() < root._bokeh_timeout) {\n",
       "      setTimeout(display_loaded, 100)\n",
       "    }\n",
       "  }\n",
       "\n",
       "\n",
       "  function run_callbacks() {\n",
       "    try {\n",
       "      root._bokeh_onload_callbacks.forEach(function(callback) {\n",
       "        if (callback != null)\n",
       "          callback();\n",
       "      });\n",
       "    } finally {\n",
       "      delete root._bokeh_onload_callbacks\n",
       "    }\n",
       "    console.debug(\"Bokeh: all callbacks have finished\");\n",
       "  }\n",
       "\n",
       "  function load_libs(css_urls, js_urls, callback) {\n",
       "    if (css_urls == null) css_urls = [];\n",
       "    if (js_urls == null) js_urls = [];\n",
       "\n",
       "    root._bokeh_onload_callbacks.push(callback);\n",
       "    if (root._bokeh_is_loading > 0) {\n",
       "      console.debug(\"Bokeh: BokehJS is being loaded, scheduling callback at\", now());\n",
       "      return null;\n",
       "    }\n",
       "    if (js_urls == null || js_urls.length === 0) {\n",
       "      run_callbacks();\n",
       "      return null;\n",
       "    }\n",
       "    console.debug(\"Bokeh: BokehJS not loaded, scheduling load and callback at\", now());\n",
       "    root._bokeh_is_loading = css_urls.length + js_urls.length;\n",
       "\n",
       "    function on_load() {\n",
       "      root._bokeh_is_loading--;\n",
       "      if (root._bokeh_is_loading === 0) {\n",
       "        console.debug(\"Bokeh: all BokehJS libraries/stylesheets loaded\");\n",
       "        run_callbacks()\n",
       "      }\n",
       "    }\n",
       "\n",
       "    function on_error() {\n",
       "      console.error(\"failed to load \" + url);\n",
       "    }\n",
       "\n",
       "    for (var i = 0; i < css_urls.length; i++) {\n",
       "      var url = css_urls[i];\n",
       "      const element = document.createElement(\"link\");\n",
       "      element.onload = on_load;\n",
       "      element.onerror = on_error;\n",
       "      element.rel = \"stylesheet\";\n",
       "      element.type = \"text/css\";\n",
       "      element.href = url;\n",
       "      console.debug(\"Bokeh: injecting link tag for BokehJS stylesheet: \", url);\n",
       "      document.body.appendChild(element);\n",
       "    }\n",
       "\n",
       "    for (var i = 0; i < js_urls.length; i++) {\n",
       "      var url = js_urls[i];\n",
       "      var element = document.createElement('script');\n",
       "      element.onload = on_load;\n",
       "      element.onerror = on_error;\n",
       "      element.async = false;\n",
       "      element.src = url;\n",
       "      console.debug(\"Bokeh: injecting script tag for BokehJS library: \", url);\n",
       "      document.head.appendChild(element);\n",
       "    }\n",
       "  };var element = document.getElementById(\"1001\");\n",
       "  if (element == null) {\n",
       "    console.error(\"Bokeh: ERROR: autoload.js configured with elementid '1001' but no matching script tag was found. \")\n",
       "    return false;\n",
       "  }\n",
       "\n",
       "  function inject_raw_css(css) {\n",
       "    const element = document.createElement(\"style\");\n",
       "    element.appendChild(document.createTextNode(css));\n",
       "    document.body.appendChild(element);\n",
       "  }\n",
       "\n",
       "  \n",
       "  var js_urls = [\"https://cdn.pydata.org/bokeh/release/bokeh-1.4.0.min.js\", \"https://cdn.pydata.org/bokeh/release/bokeh-widgets-1.4.0.min.js\", \"https://cdn.pydata.org/bokeh/release/bokeh-tables-1.4.0.min.js\", \"https://cdn.pydata.org/bokeh/release/bokeh-gl-1.4.0.min.js\"];\n",
       "  var css_urls = [];\n",
       "  \n",
       "\n",
       "  var inline_js = [\n",
       "    function(Bokeh) {\n",
       "      Bokeh.set_log_level(\"info\");\n",
       "    },\n",
       "    function(Bokeh) {\n",
       "    \n",
       "    \n",
       "    }\n",
       "  ];\n",
       "\n",
       "  function run_inline_js() {\n",
       "    \n",
       "    if (root.Bokeh !== undefined || force === true) {\n",
       "      \n",
       "    for (var i = 0; i < inline_js.length; i++) {\n",
       "      inline_js[i].call(root, root.Bokeh);\n",
       "    }\n",
       "    if (force === true) {\n",
       "        display_loaded();\n",
       "      }} else if (Date.now() < root._bokeh_timeout) {\n",
       "      setTimeout(run_inline_js, 100);\n",
       "    } else if (!root._bokeh_failed_load) {\n",
       "      console.log(\"Bokeh: BokehJS failed to load within specified timeout.\");\n",
       "      root._bokeh_failed_load = true;\n",
       "    } else if (force !== true) {\n",
       "      var cell = $(document.getElementById(\"1001\")).parents('.cell').data().cell;\n",
       "      cell.output_area.append_execute_result(NB_LOAD_WARNING)\n",
       "    }\n",
       "\n",
       "  }\n",
       "\n",
       "  if (root._bokeh_is_loading === 0) {\n",
       "    console.debug(\"Bokeh: BokehJS loaded, going straight to plotting\");\n",
       "    run_inline_js();\n",
       "  } else {\n",
       "    load_libs(css_urls, js_urls, function() {\n",
       "      console.debug(\"Bokeh: BokehJS plotting callback run at\", now());\n",
       "      run_inline_js();\n",
       "    });\n",
       "  }\n",
       "}(window));"
      ],
      "application/vnd.bokehjs_load.v0+json": "\n(function(root) {\n  function now() {\n    return new Date();\n  }\n\n  var force = true;\n\n  if (typeof root._bokeh_onload_callbacks === \"undefined\" || force === true) {\n    root._bokeh_onload_callbacks = [];\n    root._bokeh_is_loading = undefined;\n  }\n\n  \n\n  \n  if (typeof (root._bokeh_timeout) === \"undefined\" || force === true) {\n    root._bokeh_timeout = Date.now() + 5000;\n    root._bokeh_failed_load = false;\n  }\n\n  var NB_LOAD_WARNING = {'data': {'text/html':\n     \"<div style='background-color: #fdd'>\\n\"+\n     \"<p>\\n\"+\n     \"BokehJS does not appear to have successfully loaded. If loading BokehJS from CDN, this \\n\"+\n     \"may be due to a slow or bad network connection. Possible fixes:\\n\"+\n     \"</p>\\n\"+\n     \"<ul>\\n\"+\n     \"<li>re-rerun `output_notebook()` to attempt to load from CDN again, or</li>\\n\"+\n     \"<li>use INLINE resources instead, as so:</li>\\n\"+\n     \"</ul>\\n\"+\n     \"<code>\\n\"+\n     \"from bokeh.resources import INLINE\\n\"+\n     \"output_notebook(resources=INLINE)\\n\"+\n     \"</code>\\n\"+\n     \"</div>\"}};\n\n  function display_loaded() {\n    var el = document.getElementById(\"1001\");\n    if (el != null) {\n      el.textContent = \"BokehJS is loading...\";\n    }\n    if (root.Bokeh !== undefined) {\n      if (el != null) {\n        el.textContent = \"BokehJS \" + root.Bokeh.version + \" successfully loaded.\";\n      }\n    } else if (Date.now() < root._bokeh_timeout) {\n      setTimeout(display_loaded, 100)\n    }\n  }\n\n\n  function run_callbacks() {\n    try {\n      root._bokeh_onload_callbacks.forEach(function(callback) {\n        if (callback != null)\n          callback();\n      });\n    } finally {\n      delete root._bokeh_onload_callbacks\n    }\n    console.debug(\"Bokeh: all callbacks have finished\");\n  }\n\n  function load_libs(css_urls, js_urls, callback) {\n    if (css_urls == null) css_urls = [];\n    if (js_urls == null) js_urls = [];\n\n    root._bokeh_onload_callbacks.push(callback);\n    if (root._bokeh_is_loading > 0) {\n      console.debug(\"Bokeh: BokehJS is being loaded, scheduling callback at\", now());\n      return null;\n    }\n    if (js_urls == null || js_urls.length === 0) {\n      run_callbacks();\n      return null;\n    }\n    console.debug(\"Bokeh: BokehJS not loaded, scheduling load and callback at\", now());\n    root._bokeh_is_loading = css_urls.length + js_urls.length;\n\n    function on_load() {\n      root._bokeh_is_loading--;\n      if (root._bokeh_is_loading === 0) {\n        console.debug(\"Bokeh: all BokehJS libraries/stylesheets loaded\");\n        run_callbacks()\n      }\n    }\n\n    function on_error() {\n      console.error(\"failed to load \" + url);\n    }\n\n    for (var i = 0; i < css_urls.length; i++) {\n      var url = css_urls[i];\n      const element = document.createElement(\"link\");\n      element.onload = on_load;\n      element.onerror = on_error;\n      element.rel = \"stylesheet\";\n      element.type = \"text/css\";\n      element.href = url;\n      console.debug(\"Bokeh: injecting link tag for BokehJS stylesheet: \", url);\n      document.body.appendChild(element);\n    }\n\n    for (var i = 0; i < js_urls.length; i++) {\n      var url = js_urls[i];\n      var element = document.createElement('script');\n      element.onload = on_load;\n      element.onerror = on_error;\n      element.async = false;\n      element.src = url;\n      console.debug(\"Bokeh: injecting script tag for BokehJS library: \", url);\n      document.head.appendChild(element);\n    }\n  };var element = document.getElementById(\"1001\");\n  if (element == null) {\n    console.error(\"Bokeh: ERROR: autoload.js configured with elementid '1001' but no matching script tag was found. \")\n    return false;\n  }\n\n  function inject_raw_css(css) {\n    const element = document.createElement(\"style\");\n    element.appendChild(document.createTextNode(css));\n    document.body.appendChild(element);\n  }\n\n  \n  var js_urls = [\"https://cdn.pydata.org/bokeh/release/bokeh-1.4.0.min.js\", \"https://cdn.pydata.org/bokeh/release/bokeh-widgets-1.4.0.min.js\", \"https://cdn.pydata.org/bokeh/release/bokeh-tables-1.4.0.min.js\", \"https://cdn.pydata.org/bokeh/release/bokeh-gl-1.4.0.min.js\"];\n  var css_urls = [];\n  \n\n  var inline_js = [\n    function(Bokeh) {\n      Bokeh.set_log_level(\"info\");\n    },\n    function(Bokeh) {\n    \n    \n    }\n  ];\n\n  function run_inline_js() {\n    \n    if (root.Bokeh !== undefined || force === true) {\n      \n    for (var i = 0; i < inline_js.length; i++) {\n      inline_js[i].call(root, root.Bokeh);\n    }\n    if (force === true) {\n        display_loaded();\n      }} else if (Date.now() < root._bokeh_timeout) {\n      setTimeout(run_inline_js, 100);\n    } else if (!root._bokeh_failed_load) {\n      console.log(\"Bokeh: BokehJS failed to load within specified timeout.\");\n      root._bokeh_failed_load = true;\n    } else if (force !== true) {\n      var cell = $(document.getElementById(\"1001\")).parents('.cell').data().cell;\n      cell.output_area.append_execute_result(NB_LOAD_WARNING)\n    }\n\n  }\n\n  if (root._bokeh_is_loading === 0) {\n    console.debug(\"Bokeh: BokehJS loaded, going straight to plotting\");\n    run_inline_js();\n  } else {\n    load_libs(css_urls, js_urls, function() {\n      console.debug(\"Bokeh: BokehJS plotting callback run at\", now());\n      run_inline_js();\n    });\n  }\n}(window));"
     },
     "metadata": {},
     "output_type": "display_data"
    }
   ],
   "source": [
    "from bokeh.io import show, output_notebook\n",
    "from bokeh.layouts import gridplot\n",
    "output_notebook()"
   ]
  },
  {
   "cell_type": "markdown",
   "id": "bd5f0d1a-d46a-43bf-926b-013b768b1c6a",
   "metadata": {
    "tags": []
   },
   "source": [
    "### select matrices for skat:\n",
    "1. sportsmen vs GTS 40\n",
    "2. polish zeros vs GTS 40\n",
    "3. polish no zeros vs GTS 40\n",
    "1. 1kg  vs GTS 40"
   ]
  },
  {
   "cell_type": "code",
   "execution_count": 4,
   "id": "98b8f74a-5c2c-4592-b24a-d1799b68d728",
   "metadata": {
    "tags": []
   },
   "outputs": [],
   "source": [
    "mt_1 = hl.read_matrix_table(localfs_path+'polesunion.mt')"
   ]
  },
  {
   "cell_type": "code",
   "execution_count": 5,
   "id": "67d656a0-f057-4ed8-a518-4b5e5efe792d",
   "metadata": {
    "tags": []
   },
   "outputs": [],
   "source": [
    "mt_2 = hl.read_matrix_table(localfs_path+'poles_zerosunion.mt')"
   ]
  },
  {
   "cell_type": "code",
   "execution_count": 6,
   "id": "aa9c0f45-f4fa-4ba9-aed6-0c5830fc3d72",
   "metadata": {
    "tags": []
   },
   "outputs": [
    {
     "data": {
      "text/plain": [
       "(3928354, 1788)"
      ]
     },
     "execution_count": 6,
     "metadata": {},
     "output_type": "execute_result"
    }
   ],
   "source": [
    "mt_1.count() # this is for polish controls only"
   ]
  },
  {
   "cell_type": "code",
   "execution_count": 7,
   "id": "95f16142-1dc5-4e10-a744-1bb7a12b9c81",
   "metadata": {
    "tags": []
   },
   "outputs": [
    {
     "data": {
      "text/plain": [
       "(10733526, 1788)"
      ]
     },
     "execution_count": 7,
     "metadata": {},
     "output_type": "execute_result"
    }
   ],
   "source": [
    "mt_2.count()"
   ]
  },
  {
   "cell_type": "code",
   "execution_count": 8,
   "id": "249791b1-a137-469e-b5d2-04963abb5422",
   "metadata": {
    "tags": []
   },
   "outputs": [
    {
     "name": "stderr",
     "output_type": "stream",
     "text": [
      "2023-04-16 21:23:11.803 Hail: INFO: wrote table with 187 rows in 1 partition to /localfs/2307051/tmp_hail_3/persist_tableuoXo9kLr41\n",
      "2023-04-16 21:23:12.970 Hail: INFO: Reading table to impute column types\n",
      "2023-04-16 21:23:14.010 Hail: INFO: Finished type imputation\n",
      "  Loading field 'ID' as type str (imputed)\n",
      "  Loading field 'family' as type str (imputed)\n",
      "  Loading field 'sex' as type str (imputed)\n",
      "  Loading field 'kinship' as type str (imputed)\n",
      "  Loading field 'disease' as type str (imputed)\n",
      "  Loading field 'phenotype' as type str (imputed)\n",
      "  Loading field 'add_pheno' as type str (imputed)\n",
      "  Loading field 'heavy_tics' as type str (imputed)\n",
      "  Loading field 'heavy_tics_familial' as type str (imputed)\n",
      "  Loading field 'GTS_ASD_group' as type str (imputed)\n",
      "  Loading field 'nonCTD' as type str (imputed)\n"
     ]
    }
   ],
   "source": [
    "pheno = hl.import_table(\n",
    "    '/net/pr2/projects/plgrid/plggneuromol/imdik-zekanowski-gts/data/pheno/GTS-coded-corrected-june-2021.csv',\n",
    "    impute=True,\n",
    "    delimiter=',',\n",
    "    quote=\"\\\"\"\n",
    ")\n",
    "\n",
    "pheno = pheno.key_by(pheno.ID)"
   ]
  },
  {
   "cell_type": "code",
   "execution_count": 9,
   "id": "fb443749-5991-40f6-86d8-a52a97f62234",
   "metadata": {
    "tags": []
   },
   "outputs": [],
   "source": [
    "mts = [mt_1, mt_2]\n",
    "\n",
    "for idx, mt in enumerate(mts):\n",
    "    mt = mt.annotate_cols(\n",
    "    group = hl.if_else(\n",
    "            mt.s.contains('B'),\n",
    "            'local_controls',\n",
    "            hl.if_else(\n",
    "                (mt.s.contains('NA') | mt.s.contains('HG')),\n",
    "                '1kg_controls',\n",
    "                hl.if_else(\n",
    "                    mt.s.contains('polish'),\n",
    "                    'polish_controls',\n",
    "                    'GTS'\n",
    "                )\n",
    "            )\n",
    "        )\n",
    "    )\n",
    "    \n",
    "    mt = mt.annotate_cols(phenotypes = pheno[mt.s])\n",
    "    mts[idx] = mt"
   ]
  },
  {
   "cell_type": "code",
   "execution_count": null,
   "id": "2cfa4a11-fdeb-43a7-8b03-6cd62e3f9fea",
   "metadata": {
    "tags": []
   },
   "outputs": [
    {
     "name": "stderr",
     "output_type": "stream",
     "text": [
      "[Stage 4:====>                                                (164 + 12) / 1995]\r"
     ]
    }
   ],
   "source": [
    "#sportsmen vs GTS 40\n",
    "#s_vs_gts = mts[1].filter_cols((mts[1].group == 'local_controls') | (mts[1].phenotypes.family == '.'))\n",
    "#s_vs_gts = s_vs_gts.filter_rows(hl.agg.any(s_vs_gts.GT.is_non_ref()))\n",
    "#s_vs_gts = s_vs_gts.checkpoint(localfs_path+'s_vs_gts.mt')    \n",
    "\n",
    "# polish no zeros vs GTS 40\n",
    "#p0_vs_gts = mts[0].filter_cols((mts[0].group == 'polish_controls') | (mts[0].phenotypes.family == '.'))\n",
    "#p0_vs_gts = p0_vs_gts.filter_rows(hl.agg.any(p0_vs_gts.GT.is_non_ref()))\n",
    "#p0_vs_gts = p0_vs_gts.checkpoint(localfs_path+'p0_vs_gts.mt') \n",
    "\n",
    "# polish zeros vs GTS 40\n",
    "pw_vs_gts = mts[1].filter_cols((mts[1].group == 'polish_controls') | (mts[1].phenotypes.family == '.'))\n",
    "pw_vs_gts = pw_vs_gts.filter_rows(hl.agg.any(pw_vs_gts.GT.is_non_ref()))\n",
    "pw_vs_gts = pw_vs_gts.checkpoint(localfs_path+'pw_vs_gts.mt') \n",
    "\n",
    "# 1kg vs GTS 40\n",
    "eur_vs_gts = mts[1].filter_cols((mts[1].group == '1kg_controls') | (mts[1].phenotypes.family == '.'))\n",
    "eur_vs_gts = eur_vs_gts.filter_rows(hl.agg.any(eur_vs_gts.GT.is_non_ref()))\n",
    "eur_vs_gts = eur_vs_gts.checkpoint(localfs_path+'eur_vs_gts.mt') "
   ]
  },
  {
   "cell_type": "code",
   "execution_count": null,
   "id": "3f12d0bc-8940-4547-b265-d3b0fedceccd",
   "metadata": {
    "tags": []
   },
   "outputs": [],
   "source": [
    "def run_pca(mtx, mtx_path):\n",
    "    for_pca = mtx.filter_rows(mtx.variant_qc.AF[1] > 0.05)\n",
    "    pruned_variant_table = hl.ld_prune(for_pca.GT, r2=0.2, bp_window_size=500000)\n",
    "    for_pca = for_pca.filter_rows(hl.is_defined(pruned_variant_table[for_pca.row_key]))\n",
    "\n",
    "    for_pca = for_pca.checkpoint(localfs_path+'for_pca_20_'+mtx_path)\n",
    "    for_pca = hl.read_matrix_table(localfs_path+'for_pca_'+mtx_path)\n",
    "    eigenvalues, pcs, _ = hl.hwe_normalized_pca(for_pca.GT, k=20)\n",
    "    \n",
    "    mtx = mtx.annotate_cols(scores = pcs[mtx.s].scores)\n",
    "    mtx = mtx.checkpoint(localfs_path+'after_pca_20_'+mtx_path)\n",
    "    \n",
    "    return(mtx)"
   ]
  },
  {
   "cell_type": "code",
   "execution_count": null,
   "id": "4f21b243-52cc-458a-b525-c3327fac59c1",
   "metadata": {
    "tags": []
   },
   "outputs": [],
   "source": [
    "#s_vs_gts = hl.read_matrix_table(localfs_path+'s_vs_gts.mt')    \n",
    "#p0_vs_gts = hl.read_matrix_table(localfs_path+'p0_vs_gts.mt') \n",
    "pw_vs_gts = hl.read_matrix_table(localfs_path+'pw_vs_gts.mt') \n",
    "eur_vs_gts = hl.read_matrix_table(localfs_path+'eur_vs_gts.mt') "
   ]
  },
  {
   "cell_type": "code",
   "execution_count": null,
   "id": "b61b2766-b845-4479-acbd-4e4650d3f481",
   "metadata": {
    "tags": []
   },
   "outputs": [],
   "source": [
    "def run_pca_no_filter(mtx, mtx_path):\n",
    "    \n",
    "    for_pca = mtx.sample_rows(0.1)\n",
    "\n",
    "    for_pca = for_pca.checkpoint(localfs_path+'subset_'+mtx_path)\n",
    "    for_pca = hl.read_matrix_table(localfs_path+'subset_'+mtx_path)\n",
    "    eigenvalues, pcs, _ = hl.hwe_normalized_pca(for_pca.GT, k=20)\n",
    "    \n",
    "    mtx = mtx.annotate_cols(scores = pcs[mtx.s].scores)\n",
    "    mtx = mtx.checkpoint(localfs_path+'after_pca_no_filters_'+mtx_path)\n",
    "    \n",
    "    return(mtx)"
   ]
  },
  {
   "cell_type": "code",
   "execution_count": null,
   "id": "d565d33e-67c4-495c-b46a-8b27588930cb",
   "metadata": {
    "tags": []
   },
   "outputs": [],
   "source": [
    "mts = [pw_vs_gts, eur_vs_gts]\n",
    "mts_paths = ['pw_vs_gts', 'eur_vs_gts']\n",
    "mts_2 = [pw_vs_gts, eur_vs_gts]"
   ]
  },
  {
   "cell_type": "code",
   "execution_count": null,
   "id": "b20be30f-0680-4d15-8aee-5b99cb591dac",
   "metadata": {},
   "outputs": [],
   "source": [
    "for idx, mt in enumerate(mts):\n",
    "    mts[idx] = run_pca(mt, mts_paths[idx])"
   ]
  },
  {
   "cell_type": "code",
   "execution_count": null,
   "id": "5302ee7d-b0bb-4141-8895-b6787eba4b2a",
   "metadata": {
    "tags": []
   },
   "outputs": [],
   "source": [
    "for idx, mt in enumerate(mts):\n",
    "    mts_2[idx] = run_pca_no_filter(mt, mts_paths[idx])"
   ]
  },
  {
   "cell_type": "code",
   "execution_count": null,
   "id": "4a9e5858-30b8-4b39-bd02-33e2dabcb4e6",
   "metadata": {},
   "outputs": [],
   "source": [
    "# WE STOPPED HETE"
   ]
  },
  {
   "cell_type": "code",
   "execution_count": null,
   "id": "8fd4ad29-5cb9-44d1-9f8b-c892ddbb0d4a",
   "metadata": {
    "tags": []
   },
   "outputs": [
    {
     "name": "stderr",
     "output_type": "stream",
     "text": [
      "2023-04-14 14:51:11.806 Hail: INFO: wrote matrix table with 424331 rows and 541 columns in 1995 partitions to /localfs/2215677/subset_eur_vs_gts\n",
      "    Total size: 2.80 GiB\n",
      "    * Rows/entries: 2.80 GiB\n",
      "    * Columns: 3.38 KiB\n",
      "    * Globals: 11.00 B\n",
      "    * Smallest partition: 0 rows (20.00 B)\n",
      "    * Largest partition:  1034 rows (7.37 MiB)\n",
      "2023-04-14 14:52:41.929 Hail: INFO: hwe_normalize: found 422774 variants after filtering out monomorphic sites.\n",
      "2023-04-14 14:52:45.832 Hail: INFO: pca: running PCA with 20 components... 1995]\n",
      "2023-04-14 14:54:38.284 Hail: INFO: wrote table with 0 rows in 0 partitions to /localfs/2215677/tmp_hail_2/persist_tablejJclfNbAcV\n",
      "    Total size: 87.92 KiB\n",
      "    * Rows: 0.00 B\n",
      "    * Globals: 87.92 KiB\n",
      "    * Smallest partition: N/A\n",
      "    * Largest partition:  N/A\n",
      "[Stage 168:=================>                                 (693 + 48) / 1995]\r"
     ]
    }
   ],
   "source": [
    "# the european group for some reason did not compute, so I am recomputing it again\n",
    "# this matrix has many more variant so I will subset it smaller\n",
    "\n",
    "eur_vs_gts = hl.read_matrix_table(localfs_path+'eur_vs_gts.mt') \n",
    "\n",
    "for_pca = eur_vs_gts.sample_rows(0.05)\n",
    "\n",
    "for_pca = for_pca.checkpoint(localfs_path+'subset_eur_vs_gts')\n",
    "for_pca = hl.read_matrix_table(localfs_path+'subset_eur_vs_gts')\n",
    "eigenvalues, pcs, _ = hl.hwe_normalized_pca(for_pca.GT, k=20)\n",
    "    \n",
    "eur_vs_gts = eur_vs_gts.annotate_cols(scores = pcs[eur_vs_gts.s].scores)\n",
    "eur_vs_gts = eur_vs_gts.checkpoint(localfs_path+'after_pca_no_filters_eur_vs_gts')"
   ]
  },
  {
   "cell_type": "code",
   "execution_count": null,
   "id": "8ef345a6-7ca1-43d2-9472-ecb1f10b1b50",
   "metadata": {},
   "outputs": [],
   "source": [
    "# at this point we have a two different PCA options - mts\n",
    "# PCA with LD prunning and without LD prunning -mts_2"
   ]
  },
  {
   "cell_type": "code",
   "execution_count": 40,
   "id": "a8745455-2baf-4703-9ef3-1ab87f82be4a",
   "metadata": {
    "tags": []
   },
   "outputs": [
    {
     "name": "stderr",
     "output_type": "stream",
     "text": [
      "2023-04-15 18:36:02.837 Hail: INFO: wrote table with 286313 rows in 1 partition to /localfs/2215677/tmp_hail_3/persist_tableBE4iqPoUQt\n",
      "2023-04-15 18:36:03.448 Hail: INFO: Reading table without type imputation\n",
      "  Loading field 'f0' as type str (not specified)\n",
      "  Loading field 'f1' as type str (not specified)\n",
      "  Loading field 'f2' as type str (not specified)\n",
      "  Loading field 'f3' as type str (not specified)\n",
      "  Loading field 'f4' as type str (not specified)\n",
      "  Loading field 'f5' as type str (not specified)\n",
      "  Loading field 'f6' as type str (not specified)\n",
      "  Loading field 'f7' as type str (not specified)\n",
      "  Loading field 'f8' as type str (not specified)\n",
      "2023-04-15 18:36:04.224 Hail: INFO: wrote table with 23805 rows in 1 partition to /localfs/2215677/tmp_hail_3/persist_tableDQUDpXtqZV\n",
      "2023-04-15 18:36:04.700 Hail: INFO: Reading table without type imputation\n",
      "  Loading field 'Gene stable ID' as type str (not specified)\n",
      "  Loading field 'UniProtKB Gene Name symbol' as type str (not specified)\n"
     ]
    }
   ],
   "source": [
    "gtf = hl.import_table(\n",
    "    '/net/pr2/projects/plgrid/plggneuromol/resources/genecode_43/gencode.v43.basic.annotation.gtf',\n",
    "    delimiter = \"\\t\",\n",
    "    no_header = True,\n",
    "    comment = \"#\"\n",
    ")\n",
    "\n",
    "# filter the gtf to only contain protein-coding genes with any GO term\n",
    "gtf = gtf.filter((gtf.f2 == 'gene') & (gtf.f8.contains('protein_coding')))\n",
    "\n",
    "gtf = gtf.select(\n",
    "    gene_position = hl.locus_interval(\n",
    "        gtf.f0,\n",
    "        hl.int(gtf.f3),\n",
    "        hl.int(gtf.f4),\n",
    "        reference_genome='GRCh38'\n",
    "    ),\n",
    "    gene_symbol = gtf.f8.split(\"\\\"\")[5]\n",
    ")  \n",
    "\n",
    "go_genes = hl.import_table(\n",
    "    '/net/pr2/projects/plgrid/plggneuromol/resources/human-genes-with-GO-and-symbols'\n",
    ")\n",
    "\n",
    "go_genes = go_genes.key_by(go_genes['UniProtKB Gene Name symbol'])\n",
    "\n",
    "gtf = gtf.key_by(gtf['gene_symbol'])\n",
    "gtf = gtf.filter(\n",
    "    hl.is_defined(\n",
    "        go_genes[gtf.gene_symbol]\n",
    "    )\n",
    ")\n",
    "\n",
    "# overall we are keeping 18303 genes. At this poin the within gene intervals are extended by 20kb each side\n",
    "start = hl.if_else(\n",
    "    gtf.gene_position.start.position <= 20000, 1, gtf.gene_position.start.position - 20000\n",
    ")\n",
    "\n",
    "contig_len = hl.contig_length(gtf.gene_position.start.contig, reference_genome='GRCh38') \n",
    "\n",
    "stop = hl.if_else(\n",
    "    (contig_len - gtf.gene_position.end.position) <= 20000,\n",
    "    contig_len,\n",
    "    gtf.gene_position.end.position + 20000\n",
    ")\n",
    "\n",
    "gtf = gtf.annotate(\n",
    "    interval_20kb =\n",
    "    hl.locus_interval(\n",
    "        gtf.gene_position.start.contig,\n",
    "        start,\n",
    "        stop,\n",
    "        reference_genome='GRCh38'\n",
    "    )\n",
    ")\n",
    "\n",
    "gtf = gtf.key_by(gtf.interval_20kb)"
   ]
  },
  {
   "cell_type": "code",
   "execution_count": 36,
   "id": "5d401e51-38c8-496f-a78a-58af9387e261",
   "metadata": {
    "tags": []
   },
   "outputs": [],
   "source": [
    "mts = [s_vs_gts, p0_vs_gts, pw_vs_gts, eur_vs_gts]\n",
    "mts_2 = [s_vs_gts, p0_vs_gts, pw_vs_gts, eur_vs_gts]\n",
    "mts_paths = ['s_vs_gts', 'p0_vs_gts', 'pw_vs_gts', 'eur_vs_gts']"
   ]
  },
  {
   "cell_type": "code",
   "execution_count": 37,
   "id": "f8669592-5204-4150-9c7c-846e66d22314",
   "metadata": {
    "tags": []
   },
   "outputs": [],
   "source": [
    "for idx, mt in enumerate(mts):\n",
    "    mts[idx] = hl.read_matrix_table(localfs_path+'after_pca_'+mts_paths[idx])\n",
    "    mts_2[idx] = hl.read_matrix_table(localfs_path+'after_pca_no_filters_'+mts_paths[idx])"
   ]
  },
  {
   "cell_type": "code",
   "execution_count": null,
   "id": "688b7669-ebaa-485f-8ba4-0fcd4916ebfd",
   "metadata": {
    "tags": []
   },
   "outputs": [
    {
     "name": "stderr",
     "output_type": "stream",
     "text": [
      "2023-04-15 18:36:05.165 Hail: WARN: cols(): Resulting column table is sorted by 'col_key'.\n",
      "    To preserve matrix table column order, first unkey columns with 'key_cols_by()'\n",
      "2023-04-15 18:36:09.408 Hail: INFO: Ordering unsorted dataset with network shuffle\n",
      "2023-04-15 18:36:09.929 Hail: INFO: Ordering unsorted dataset with network shuffle\n",
      "2023-04-15 18:36:13.612 Hail: INFO: Ordering unsorted dataset with network shuffle\n",
      "[Stage 23:>                                                     (0 + 48) / 1995]\r"
     ]
    }
   ],
   "source": [
    "# now annotate the standard PCA with filters with the other PCA (no filters)\n",
    "# this is still lacking for the eur samples\n",
    "\n",
    "for idx, mt in enumerate(mts[2:]): \n",
    "    mt = mt.annotate_rows(\n",
    "        nearest_genes_20kb = hl.array(\n",
    "            hl.set(\n",
    "                gtf.index(mt.locus, all_matches=True)['gene_symbol']))\n",
    "    )\n",
    "    \n",
    "    mt = mt.filter_rows(hl.agg.any(mt.GT.is_non_ref()))\n",
    "    mt = mt.explode_rows(mt.nearest_genes_20kb)\n",
    "    \n",
    "    mt_2 = hl.read_matrix_table(localfs_path+'after_pca_no_filters_'+mts_paths[2:][idx])\n",
    "\n",
    "    mt = mt.annotate_cols(scores_no_filter = mt_2.cols()[mt.s].scores)\n",
    "    \n",
    "    mt = mt.checkpoint(localfs_path+'for_full_skat_'+mts_paths[2:][idx])\n",
    "    mts[2:][idx] = mt"
   ]
  },
  {
   "cell_type": "code",
   "execution_count": null,
   "id": "6f7c6a46-5ea6-43b4-8ea8-82448cc14728",
   "metadata": {
    "tags": []
   },
   "outputs": [
    {
     "name": "stderr",
     "output_type": "stream",
     "text": [
      "[Stage 8:============>                                         (236 + 48) / 998]\r"
     ]
    }
   ],
   "source": [
    "#repartition the full skat's\n",
    "\n",
    "s_vs_gts = hl.read_matrix_table(\n",
    "    '/localfs/2215677/for_full_skat_s_vs_gts'\n",
    ")\n",
    "\n",
    "s_vs_gts.naive_coalesce(1000).write(\n",
    "    '/net/pr2/projects/plgrid/plggneuromol/imdik-zekanowski-gts/data/mts/oligogenic-model/s_vs_gts.mt'\n",
    ")\n"
   ]
  },
  {
   "cell_type": "code",
   "execution_count": null,
   "id": "08709792-5a91-4c2b-8452-00a4fb1ecdbc",
   "metadata": {
    "tags": []
   },
   "outputs": [],
   "source": [
    "#repartition the full skat's\n",
    "\n",
    "p0_vs_gts = hl.read_matrix_table(\n",
    "    '/localfs/2215677/for_full_skat_p0_vs_gts'\n",
    ")\n",
    "\n",
    "p0_vs_gts.naive_coalesce(1000).write(\n",
    "    '/net/pr2/projects/plgrid/plggneuromol/imdik-zekanowski-gts/data/mts/oligogenic-model/p0_vs_gts.mt'\n",
    ")\n"
   ]
  },
  {
   "cell_type": "code",
   "execution_count": 4,
   "id": "854deac3-844c-40a5-a79f-18cc912826bc",
   "metadata": {
    "tags": []
   },
   "outputs": [],
   "source": [
    "# at this point I have two matrix-tables read:\n",
    "s_vs_gts = hl.read_matrix_table(\n",
    "    '/net/pr2/projects/plgrid/plggneuromol/imdik-zekanowski-gts/data/mts/oligogenic-model/s_vs_gts.mt'\n",
    ")\n",
    "\n",
    "p0_vs_gts = hl.read_matrix_table(\n",
    "    '/net/pr2/projects/plgrid/plggneuromol/imdik-zekanowski-gts/data/mts/oligogenic-model/p0_vs_gts.mt'\n",
    ")"
   ]
  },
  {
   "cell_type": "markdown",
   "id": "fc46529f-285c-442f-82ad-8f2cdf8d8a66",
   "metadata": {
    "tags": []
   },
   "source": [
    "##### annotate sportsmen and 1kg samples with sex"
   ]
  },
  {
   "cell_type": "code",
   "execution_count": null,
   "id": "f5bc9345-6f9f-4a38-a537-e22bc2878439",
   "metadata": {
    "tags": []
   },
   "outputs": [],
   "source": [
    "F = ['B434','B437','B440','B447','B514','B519','B521']\n",
    "mts = [s_vs_gts, p0_vs_gts, pw_vs_gts, eur_vs_gts]\n",
    "mts_paths = ['s_vs_gts', 'p0_vs_gts', 'pw_vs_gts', 'eur_vs_gts']"
   ]
  },
  {
   "cell_type": "code",
   "execution_count": null,
   "id": "a740415f-a4e2-4a0a-9cac-510d7f83e341",
   "metadata": {},
   "outputs": [],
   "source": [
    "#at this point run some QC to compare the groups (overall) - do this later"
   ]
  },
  {
   "cell_type": "code",
   "execution_count": null,
   "id": "81e35320-13ea-4e96-b29d-26d6dc339721",
   "metadata": {},
   "outputs": [],
   "source": [
    "for mt in mts:\n",
    "    "
   ]
  },
  {
   "cell_type": "code",
   "execution_count": 60,
   "id": "e9b3eba1-ed6f-4240-a6f7-e37048e21696",
   "metadata": {},
   "outputs": [],
   "source": [
    "# add sex as covariate !!!!\n",
    "\n",
    "\n",
    "def run_skat_log(mtx, pcs):\n",
    "    \n",
    "    scores = [mtx.scores[x] for x in list(range(pcs))]\n",
    "    \n",
    "    skat_table = hl.skat(key_expr=mtx.nearest_genes_20kb,\n",
    "                         weight_expr=mtx.cadd.score_phred,\n",
    "                         y=(mtx.group == 'GTS'),\n",
    "                         x=mtx.GT.n_alt_alleles(),\n",
    "                         covariates=[1] + scores,\n",
    "                         max_size = 2500,\n",
    "                         logistic = True)\n",
    "\n",
    "    skat_table.order_by(skat_table.p_value).show(20)\n",
    "    \n",
    "    qq_plot = hl.plot.qq(\n",
    "        skat_table.p_value\n",
    "    )\n",
    "    show(qq_plot)\n",
    "    \n",
    "    return(skat_table, qq_plot)"
   ]
  },
  {
   "cell_type": "code",
   "execution_count": 65,
   "id": "15f5df8d-0a1a-4cf9-8425-a227b2c5da44",
   "metadata": {
    "tags": []
   },
   "outputs": [
    {
     "name": "stderr",
     "output_type": "stream",
     "text": [
      "2023-04-13 15:54:37.616 Hail: INFO: Ordering unsorted dataset with network shuffle\n",
      "2023-04-13 15:54:39.050 Hail: INFO: wrote table with 163 rows in 163 partitions to /localfs/2215677/tmp_hail/persist_tablei1fueEuThd\n",
      "    Total size: 12.40 KiB\n",
      "    * Rows: 12.39 KiB\n",
      "    * Globals: 11.00 B\n",
      "    * Smallest partition: 1 rows (55.00 B)\n",
      "    * Largest partition:  1 rows (88.00 B)\n",
      "2023-04-13 15:54:39.204 Hail: INFO: Coerced sorted dataset\n",
      "2023-04-13 15:54:39.220 Hail: INFO: Coerced dataset with out-of-order partitions.\n"
     ]
    },
    {
     "data": {
      "text/html": [
       "<table><thead><tr><td style=\"white-space: nowrap; max-width: 500px; overflow: hidden; text-overflow: ellipsis; \" colspan=\"1\"><div style=\"text-align: left;\"></div></td><td style=\"white-space: nowrap; max-width: 500px; overflow: hidden; text-overflow: ellipsis; \" colspan=\"1\"><div style=\"text-align: left;\"></div></td><td style=\"white-space: nowrap; max-width: 500px; overflow: hidden; text-overflow: ellipsis; \" colspan=\"1\"><div style=\"text-align: left;\"></div></td><td style=\"white-space: nowrap; max-width: 500px; overflow: hidden; text-overflow: ellipsis; \" colspan=\"1\"><div style=\"text-align: left;\"></div></td><td style=\"white-space: nowrap; max-width: 500px; overflow: hidden; text-overflow: ellipsis; \" colspan=\"1\"><div style=\"text-align: left;\"></div></td></tr><tr><td style=\"white-space: nowrap; max-width: 500px; overflow: hidden; text-overflow: ellipsis; \" colspan=\"1\"><div style=\"text-align: left;border-bottom: solid 2px #000; padding-bottom: 5px\">id</div></td><td style=\"white-space: nowrap; max-width: 500px; overflow: hidden; text-overflow: ellipsis; \" colspan=\"1\"><div style=\"text-align: left;border-bottom: solid 2px #000; padding-bottom: 5px\">size</div></td><td style=\"white-space: nowrap; max-width: 500px; overflow: hidden; text-overflow: ellipsis; \" colspan=\"1\"><div style=\"text-align: left;border-bottom: solid 2px #000; padding-bottom: 5px\">q_stat</div></td><td style=\"white-space: nowrap; max-width: 500px; overflow: hidden; text-overflow: ellipsis; \" colspan=\"1\"><div style=\"text-align: left;border-bottom: solid 2px #000; padding-bottom: 5px\">p_value</div></td><td style=\"white-space: nowrap; max-width: 500px; overflow: hidden; text-overflow: ellipsis; \" colspan=\"1\"><div style=\"text-align: left;border-bottom: solid 2px #000; padding-bottom: 5px\">fault</div></td></tr><tr><td style=\"white-space: nowrap; max-width: 500px; overflow: hidden; text-overflow: ellipsis; text-align: left;\">str</td><td style=\"white-space: nowrap; max-width: 500px; overflow: hidden; text-overflow: ellipsis; text-align: left;\">int32</td><td style=\"white-space: nowrap; max-width: 500px; overflow: hidden; text-overflow: ellipsis; text-align: left;\">float64</td><td style=\"white-space: nowrap; max-width: 500px; overflow: hidden; text-overflow: ellipsis; text-align: left;\">float64</td><td style=\"white-space: nowrap; max-width: 500px; overflow: hidden; text-overflow: ellipsis; text-align: left;\">int32</td></tr>\n",
       "</thead><tbody><tr><td style=\"white-space: nowrap; max-width: 500px; overflow: hidden; text-overflow: ellipsis; \">&quot;CDHR5&quot;</td><td style=\"white-space: nowrap; max-width: 500px; overflow: hidden; text-overflow: ellipsis; \">8</td><td style=\"white-space: nowrap; max-width: 500px; overflow: hidden; text-overflow: ellipsis; \">2.03e+02</td><td style=\"white-space: nowrap; max-width: 500px; overflow: hidden; text-overflow: ellipsis; \">9.80e-04</td><td style=\"white-space: nowrap; max-width: 500px; overflow: hidden; text-overflow: ellipsis; \">0</td></tr>\n",
       "<tr><td style=\"white-space: nowrap; max-width: 500px; overflow: hidden; text-overflow: ellipsis; \">&quot;SCT&quot;</td><td style=\"white-space: nowrap; max-width: 500px; overflow: hidden; text-overflow: ellipsis; \">10</td><td style=\"white-space: nowrap; max-width: 500px; overflow: hidden; text-overflow: ellipsis; \">2.03e+02</td><td style=\"white-space: nowrap; max-width: 500px; overflow: hidden; text-overflow: ellipsis; \">9.80e-04</td><td style=\"white-space: nowrap; max-width: 500px; overflow: hidden; text-overflow: ellipsis; \">0</td></tr>\n",
       "<tr><td style=\"white-space: nowrap; max-width: 500px; overflow: hidden; text-overflow: ellipsis; \">&quot;DEAF1&quot;</td><td style=\"white-space: nowrap; max-width: 500px; overflow: hidden; text-overflow: ellipsis; \">17</td><td style=\"white-space: nowrap; max-width: 500px; overflow: hidden; text-overflow: ellipsis; \">2.04e+02</td><td style=\"white-space: nowrap; max-width: 500px; overflow: hidden; text-overflow: ellipsis; \">1.06e-03</td><td style=\"white-space: nowrap; max-width: 500px; overflow: hidden; text-overflow: ellipsis; \">0</td></tr>\n",
       "<tr><td style=\"white-space: nowrap; max-width: 500px; overflow: hidden; text-overflow: ellipsis; \">&quot;DRD4&quot;</td><td style=\"white-space: nowrap; max-width: 500px; overflow: hidden; text-overflow: ellipsis; \">17</td><td style=\"white-space: nowrap; max-width: 500px; overflow: hidden; text-overflow: ellipsis; \">2.04e+02</td><td style=\"white-space: nowrap; max-width: 500px; overflow: hidden; text-overflow: ellipsis; \">1.06e-03</td><td style=\"white-space: nowrap; max-width: 500px; overflow: hidden; text-overflow: ellipsis; \">0</td></tr>\n",
       "<tr><td style=\"white-space: nowrap; max-width: 500px; overflow: hidden; text-overflow: ellipsis; \">&quot;ANKK1&quot;</td><td style=\"white-space: nowrap; max-width: 500px; overflow: hidden; text-overflow: ellipsis; \">137</td><td style=\"white-space: nowrap; max-width: 500px; overflow: hidden; text-overflow: ellipsis; \">1.76e+03</td><td style=\"white-space: nowrap; max-width: 500px; overflow: hidden; text-overflow: ellipsis; \">1.71e-03</td><td style=\"white-space: nowrap; max-width: 500px; overflow: hidden; text-overflow: ellipsis; \">0</td></tr>\n",
       "<tr><td style=\"white-space: nowrap; max-width: 500px; overflow: hidden; text-overflow: ellipsis; \">&quot;DRD2&quot;</td><td style=\"white-space: nowrap; max-width: 500px; overflow: hidden; text-overflow: ellipsis; \">356</td><td style=\"white-space: nowrap; max-width: 500px; overflow: hidden; text-overflow: ellipsis; \">3.47e+03</td><td style=\"white-space: nowrap; max-width: 500px; overflow: hidden; text-overflow: ellipsis; \">2.08e-03</td><td style=\"white-space: nowrap; max-width: 500px; overflow: hidden; text-overflow: ellipsis; \">0</td></tr>\n",
       "<tr><td style=\"white-space: nowrap; max-width: 500px; overflow: hidden; text-overflow: ellipsis; \">&quot;TTC12&quot;</td><td style=\"white-space: nowrap; max-width: 500px; overflow: hidden; text-overflow: ellipsis; \">54</td><td style=\"white-space: nowrap; max-width: 500px; overflow: hidden; text-overflow: ellipsis; \">4.84e+02</td><td style=\"white-space: nowrap; max-width: 500px; overflow: hidden; text-overflow: ellipsis; \">1.20e-02</td><td style=\"white-space: nowrap; max-width: 500px; overflow: hidden; text-overflow: ellipsis; \">0</td></tr>\n",
       "<tr><td style=\"white-space: nowrap; max-width: 500px; overflow: hidden; text-overflow: ellipsis; \">&quot;DNAJC12&quot;</td><td style=\"white-space: nowrap; max-width: 500px; overflow: hidden; text-overflow: ellipsis; \">23</td><td style=\"white-space: nowrap; max-width: 500px; overflow: hidden; text-overflow: ellipsis; \">6.99e+02</td><td style=\"white-space: nowrap; max-width: 500px; overflow: hidden; text-overflow: ellipsis; \">2.07e-02</td><td style=\"white-space: nowrap; max-width: 500px; overflow: hidden; text-overflow: ellipsis; \">0</td></tr>\n",
       "<tr><td style=\"white-space: nowrap; max-width: 500px; overflow: hidden; text-overflow: ellipsis; \">&quot;CHD8&quot;</td><td style=\"white-space: nowrap; max-width: 500px; overflow: hidden; text-overflow: ellipsis; \">277</td><td style=\"white-space: nowrap; max-width: 500px; overflow: hidden; text-overflow: ellipsis; \">1.19e+03</td><td style=\"white-space: nowrap; max-width: 500px; overflow: hidden; text-overflow: ellipsis; \">2.15e-02</td><td style=\"white-space: nowrap; max-width: 500px; overflow: hidden; text-overflow: ellipsis; \">0</td></tr>\n",
       "<tr><td style=\"white-space: nowrap; max-width: 500px; overflow: hidden; text-overflow: ellipsis; \">&quot;SORCS3&quot;</td><td style=\"white-space: nowrap; max-width: 500px; overflow: hidden; text-overflow: ellipsis; \">2107</td><td style=\"white-space: nowrap; max-width: 500px; overflow: hidden; text-overflow: ellipsis; \">1.28e+04</td><td style=\"white-space: nowrap; max-width: 500px; overflow: hidden; text-overflow: ellipsis; \">2.48e-02</td><td style=\"white-space: nowrap; max-width: 500px; overflow: hidden; text-overflow: ellipsis; \">0</td></tr>\n",
       "<tr><td style=\"white-space: nowrap; max-width: 500px; overflow: hidden; text-overflow: ellipsis; \">&quot;ARHGEF12&quot;</td><td style=\"white-space: nowrap; max-width: 500px; overflow: hidden; text-overflow: ellipsis; \">48</td><td style=\"white-space: nowrap; max-width: 500px; overflow: hidden; text-overflow: ellipsis; \">3.06e+02</td><td style=\"white-space: nowrap; max-width: 500px; overflow: hidden; text-overflow: ellipsis; \">2.89e-02</td><td style=\"white-space: nowrap; max-width: 500px; overflow: hidden; text-overflow: ellipsis; \">0</td></tr>\n",
       "<tr><td style=\"white-space: nowrap; max-width: 500px; overflow: hidden; text-overflow: ellipsis; \">&quot;SUPT16H&quot;</td><td style=\"white-space: nowrap; max-width: 500px; overflow: hidden; text-overflow: ellipsis; \">86</td><td style=\"white-space: nowrap; max-width: 500px; overflow: hidden; text-overflow: ellipsis; \">2.96e+02</td><td style=\"white-space: nowrap; max-width: 500px; overflow: hidden; text-overflow: ellipsis; \">4.71e-02</td><td style=\"white-space: nowrap; max-width: 500px; overflow: hidden; text-overflow: ellipsis; \">0</td></tr>\n",
       "<tr><td style=\"white-space: nowrap; max-width: 500px; overflow: hidden; text-overflow: ellipsis; \">&quot;AADAC&quot;</td><td style=\"white-space: nowrap; max-width: 500px; overflow: hidden; text-overflow: ellipsis; \">171</td><td style=\"white-space: nowrap; max-width: 500px; overflow: hidden; text-overflow: ellipsis; \">1.58e+03</td><td style=\"white-space: nowrap; max-width: 500px; overflow: hidden; text-overflow: ellipsis; \">4.71e-02</td><td style=\"white-space: nowrap; max-width: 500px; overflow: hidden; text-overflow: ellipsis; \">0</td></tr>\n",
       "<tr><td style=\"white-space: nowrap; max-width: 500px; overflow: hidden; text-overflow: ellipsis; \">&quot;RPGRIP1&quot;</td><td style=\"white-space: nowrap; max-width: 500px; overflow: hidden; text-overflow: ellipsis; \">18</td><td style=\"white-space: nowrap; max-width: 500px; overflow: hidden; text-overflow: ellipsis; \">6.52e+01</td><td style=\"white-space: nowrap; max-width: 500px; overflow: hidden; text-overflow: ellipsis; \">5.87e-02</td><td style=\"white-space: nowrap; max-width: 500px; overflow: hidden; text-overflow: ellipsis; \">0</td></tr>\n",
       "<tr><td style=\"white-space: nowrap; max-width: 500px; overflow: hidden; text-overflow: ellipsis; \">&quot;TENM2&quot;</td><td style=\"white-space: nowrap; max-width: 500px; overflow: hidden; text-overflow: ellipsis; \">29</td><td style=\"white-space: nowrap; max-width: 500px; overflow: hidden; text-overflow: ellipsis; \">2.13e+02</td><td style=\"white-space: nowrap; max-width: 500px; overflow: hidden; text-overflow: ellipsis; \">6.42e-02</td><td style=\"white-space: nowrap; max-width: 500px; overflow: hidden; text-overflow: ellipsis; \">0</td></tr>\n",
       "<tr><td style=\"white-space: nowrap; max-width: 500px; overflow: hidden; text-overflow: ellipsis; \">&quot;PKP4&quot;</td><td style=\"white-space: nowrap; max-width: 500px; overflow: hidden; text-overflow: ellipsis; \">1046</td><td style=\"white-space: nowrap; max-width: 500px; overflow: hidden; text-overflow: ellipsis; \">8.85e+03</td><td style=\"white-space: nowrap; max-width: 500px; overflow: hidden; text-overflow: ellipsis; \">6.46e-02</td><td style=\"white-space: nowrap; max-width: 500px; overflow: hidden; text-overflow: ellipsis; \">0</td></tr>\n",
       "<tr><td style=\"white-space: nowrap; max-width: 500px; overflow: hidden; text-overflow: ellipsis; \">&quot;SLC27A6&quot;</td><td style=\"white-space: nowrap; max-width: 500px; overflow: hidden; text-overflow: ellipsis; \">434</td><td style=\"white-space: nowrap; max-width: 500px; overflow: hidden; text-overflow: ellipsis; \">2.25e+03</td><td style=\"white-space: nowrap; max-width: 500px; overflow: hidden; text-overflow: ellipsis; \">7.12e-02</td><td style=\"white-space: nowrap; max-width: 500px; overflow: hidden; text-overflow: ellipsis; \">0</td></tr>\n",
       "<tr><td style=\"white-space: nowrap; max-width: 500px; overflow: hidden; text-overflow: ellipsis; \">&quot;FAM163B&quot;</td><td style=\"white-space: nowrap; max-width: 500px; overflow: hidden; text-overflow: ellipsis; \">41</td><td style=\"white-space: nowrap; max-width: 500px; overflow: hidden; text-overflow: ellipsis; \">1.50e+02</td><td style=\"white-space: nowrap; max-width: 500px; overflow: hidden; text-overflow: ellipsis; \">7.23e-02</td><td style=\"white-space: nowrap; max-width: 500px; overflow: hidden; text-overflow: ellipsis; \">0</td></tr>\n",
       "<tr><td style=\"white-space: nowrap; max-width: 500px; overflow: hidden; text-overflow: ellipsis; \">&quot;CCDC148&quot;</td><td style=\"white-space: nowrap; max-width: 500px; overflow: hidden; text-overflow: ellipsis; \">146</td><td style=\"white-space: nowrap; max-width: 500px; overflow: hidden; text-overflow: ellipsis; \">1.31e+03</td><td style=\"white-space: nowrap; max-width: 500px; overflow: hidden; text-overflow: ellipsis; \">7.30e-02</td><td style=\"white-space: nowrap; max-width: 500px; overflow: hidden; text-overflow: ellipsis; \">0</td></tr>\n",
       "<tr><td style=\"white-space: nowrap; max-width: 500px; overflow: hidden; text-overflow: ellipsis; \">&quot;CD47&quot;</td><td style=\"white-space: nowrap; max-width: 500px; overflow: hidden; text-overflow: ellipsis; \">265</td><td style=\"white-space: nowrap; max-width: 500px; overflow: hidden; text-overflow: ellipsis; \">1.21e+03</td><td style=\"white-space: nowrap; max-width: 500px; overflow: hidden; text-overflow: ellipsis; \">7.72e-02</td><td style=\"white-space: nowrap; max-width: 500px; overflow: hidden; text-overflow: ellipsis; \">0</td></tr>\n",
       "</tbody></table><p style=\"background: #fdd; padding: 0.4em;\">showing top 20 rows</p>\n"
      ],
      "text/plain": [
       "+------------+-------+----------+----------+-------+\n",
       "| id         |  size |   q_stat |  p_value | fault |\n",
       "+------------+-------+----------+----------+-------+\n",
       "| str        | int32 |  float64 |  float64 | int32 |\n",
       "+------------+-------+----------+----------+-------+\n",
       "| \"CDHR5\"    |     8 | 2.03e+02 | 9.80e-04 |     0 |\n",
       "| \"SCT\"      |    10 | 2.03e+02 | 9.80e-04 |     0 |\n",
       "| \"DEAF1\"    |    17 | 2.04e+02 | 1.06e-03 |     0 |\n",
       "| \"DRD4\"     |    17 | 2.04e+02 | 1.06e-03 |     0 |\n",
       "| \"ANKK1\"    |   137 | 1.76e+03 | 1.71e-03 |     0 |\n",
       "| \"DRD2\"     |   356 | 3.47e+03 | 2.08e-03 |     0 |\n",
       "| \"TTC12\"    |    54 | 4.84e+02 | 1.20e-02 |     0 |\n",
       "| \"DNAJC12\"  |    23 | 6.99e+02 | 2.07e-02 |     0 |\n",
       "| \"CHD8\"     |   277 | 1.19e+03 | 2.15e-02 |     0 |\n",
       "| \"SORCS3\"   |  2107 | 1.28e+04 | 2.48e-02 |     0 |\n",
       "| \"ARHGEF12\" |    48 | 3.06e+02 | 2.89e-02 |     0 |\n",
       "| \"SUPT16H\"  |    86 | 2.96e+02 | 4.71e-02 |     0 |\n",
       "| \"AADAC\"    |   171 | 1.58e+03 | 4.71e-02 |     0 |\n",
       "| \"RPGRIP1\"  |    18 | 6.52e+01 | 5.87e-02 |     0 |\n",
       "| \"TENM2\"    |    29 | 2.13e+02 | 6.42e-02 |     0 |\n",
       "| \"PKP4\"     |  1046 | 8.85e+03 | 6.46e-02 |     0 |\n",
       "| \"SLC27A6\"  |   434 | 2.25e+03 | 7.12e-02 |     0 |\n",
       "| \"FAM163B\"  |    41 | 1.50e+02 | 7.23e-02 |     0 |\n",
       "| \"CCDC148\"  |   146 | 1.31e+03 | 7.30e-02 |     0 |\n",
       "| \"CD47\"     |   265 | 1.21e+03 | 7.72e-02 |     0 |\n",
       "+------------+-------+----------+----------+-------+\n",
       "showing top 20 rows"
      ]
     },
     "metadata": {},
     "output_type": "display_data"
    },
    {
     "name": "stderr",
     "output_type": "stream",
     "text": [
      "2023-04-13 15:54:39.915 Hail: INFO: Coerced sorted dataset\n",
      "2023-04-13 15:54:39.916 Hail: INFO: Coerced dataset with out-of-order partitions.\n",
      "2023-04-13 15:54:41.038 Hail: INFO: wrote table with 163 rows in 150 partitions to /localfs/2215677/tmp_hail/persist_tableB6OzGPyXcU\n",
      "2023-04-13 15:54:42.412 Hail: INFO: wrote table with 163 rows in 150 partitions to /localfs/2215677/tmp_hail/persist_tableI7AhVWz8T7\n"
     ]
    },
    {
     "data": {
      "text/html": [
       "\n",
       "\n",
       "\n",
       "\n",
       "\n",
       "\n",
       "  <div class=\"bk-root\" id=\"d8f4daf3-3853-4052-a436-a2e5976b802b\" data-root-id=\"2657\"></div>\n"
      ]
     },
     "metadata": {},
     "output_type": "display_data"
    },
    {
     "data": {
      "application/javascript": [
       "(function(root) {\n",
       "  function embed_document(root) {\n",
       "    \n",
       "  var docs_json = {\"6cf3a0ff-a361-420c-b819-4b14ea819cfd\":{\"roots\":{\"references\":[{\"attributes\":{\"below\":[{\"id\":\"2668\",\"type\":\"LinearAxis\"}],\"center\":[{\"id\":\"2672\",\"type\":\"Grid\"},{\"id\":\"2677\",\"type\":\"Grid\"},{\"id\":\"2701\",\"type\":\"Slope\"},{\"id\":\"2702\",\"type\":\"Label\"}],\"left\":[{\"id\":\"2673\",\"type\":\"LinearAxis\"}],\"plot_height\":800,\"plot_width\":800,\"renderers\":[{\"id\":\"2697\",\"type\":\"GlyphRenderer\"}],\"title\":{\"id\":\"2658\",\"type\":\"Title\"},\"toolbar\":{\"id\":\"2684\",\"type\":\"Toolbar\"},\"x_range\":{\"id\":\"2699\",\"type\":\"DataRange1d\"},\"x_scale\":{\"id\":\"2664\",\"type\":\"LinearScale\"},\"y_range\":{\"id\":\"2700\",\"type\":\"DataRange1d\"},\"y_scale\":{\"id\":\"2666\",\"type\":\"LinearScale\"}},\"id\":\"2657\",\"subtype\":\"Figure\",\"type\":\"Plot\"},{\"attributes\":{\"axis_label\":\"Observed -log10(p)\",\"formatter\":{\"id\":\"2794\",\"type\":\"BasicTickFormatter\"},\"ticker\":{\"id\":\"2674\",\"type\":\"BasicTicker\"}},\"id\":\"2673\",\"type\":\"LinearAxis\"},{\"attributes\":{\"source\":{\"id\":\"2693\",\"type\":\"ColumnDataSource\"}},\"id\":\"2698\",\"type\":\"CDSView\"},{\"attributes\":{\"fill_color\":{\"value\":\"#1f77b4\"},\"line_color\":{\"value\":\"#1f77b4\"},\"size\":{\"units\":\"screen\",\"value\":6},\"x\":{\"field\":\"x\"},\"y\":{\"field\":\"y\"}},\"id\":\"2695\",\"type\":\"Circle\"},{\"attributes\":{\"overlay\":{\"id\":\"2796\",\"type\":\"BoxAnnotation\"}},\"id\":\"2680\",\"type\":\"BoxZoomTool\"},{\"attributes\":{\"dimension\":1,\"ticker\":{\"id\":\"2674\",\"type\":\"BasicTicker\"}},\"id\":\"2677\",\"type\":\"Grid\"},{\"attributes\":{\"callback\":null,\"end\":4.008905127855927,\"start\":0},\"id\":\"2700\",\"type\":\"DataRange1d\"},{\"attributes\":{\"fill_alpha\":{\"value\":0.1},\"fill_color\":{\"value\":\"#1f77b4\"},\"line_alpha\":{\"value\":0.1},\"line_color\":{\"value\":\"#1f77b4\"},\"size\":{\"units\":\"screen\",\"value\":6},\"x\":{\"field\":\"x\"},\"y\":{\"field\":\"y\"}},\"id\":\"2696\",\"type\":\"Circle\"},{\"attributes\":{\"axis_label\":\"Expected -log10(p)\",\"formatter\":{\"id\":\"2792\",\"type\":\"BasicTickFormatter\"},\"ticker\":{\"id\":\"2669\",\"type\":\"BasicTicker\"}},\"id\":\"2668\",\"type\":\"LinearAxis\"},{\"attributes\":{\"ticker\":{\"id\":\"2669\",\"type\":\"BasicTicker\"}},\"id\":\"2672\",\"type\":\"Grid\"},{\"attributes\":{\"callback\":null,\"tooltips\":[[\"x\",\"@x\"],[\"y\",\"@y\"],[\"p_value\",\"@p_value\"]]},\"id\":\"2692\",\"type\":\"HoverTool\"},{\"attributes\":{},\"id\":\"2792\",\"type\":\"BasicTickFormatter\"},{\"attributes\":{},\"id\":\"2669\",\"type\":\"BasicTicker\"},{\"attributes\":{},\"id\":\"2682\",\"type\":\"ResetTool\"},{\"attributes\":{\"text\":\"\\u03bb GC: 1.10\",\"text_color\":{\"value\":\"black\"},\"text_font_size\":{\"value\":\"14pt\"},\"text_font_style\":\"bold\",\"x\":2.5575693586775383,\"y\":1},\"id\":\"2702\",\"type\":\"Label\"},{\"attributes\":{\"data_source\":{\"id\":\"2693\",\"type\":\"ColumnDataSource\"},\"glyph\":{\"id\":\"2695\",\"type\":\"Circle\"},\"hover_glyph\":null,\"muted_glyph\":null,\"nonselection_glyph\":{\"id\":\"2696\",\"type\":\"Circle\"},\"selection_glyph\":null,\"view\":{\"id\":\"2698\",\"type\":\"CDSView\"}},\"id\":\"2697\",\"type\":\"GlyphRenderer\"},{\"attributes\":{\"bottom_units\":\"screen\",\"fill_alpha\":{\"value\":0.5},\"fill_color\":{\"value\":\"lightgrey\"},\"left_units\":\"screen\",\"level\":\"overlay\",\"line_alpha\":{\"value\":1.0},\"line_color\":{\"value\":\"black\"},\"line_dash\":[4,4],\"line_width\":{\"value\":2},\"render_mode\":\"css\",\"right_units\":\"screen\",\"top_units\":\"screen\"},\"id\":\"2796\",\"type\":\"BoxAnnotation\"},{\"attributes\":{},\"id\":\"2794\",\"type\":\"BasicTickFormatter\"},{\"attributes\":{},\"id\":\"2674\",\"type\":\"BasicTicker\"},{\"attributes\":{\"callback\":null,\"end\":4.008905127855927,\"start\":0},\"id\":\"2699\",\"type\":\"DataRange1d\"},{\"attributes\":{},\"id\":\"2679\",\"type\":\"WheelZoomTool\"},{\"attributes\":{},\"id\":\"2664\",\"type\":\"LinearScale\"},{\"attributes\":{},\"id\":\"2797\",\"type\":\"UnionRenderers\"},{\"attributes\":{\"gradient\":1,\"line_color\":{\"value\":\"red\"},\"y_intercept\":0},\"id\":\"2701\",\"type\":\"Slope\"},{\"attributes\":{\"callback\":null,\"data\":{\"index\":[0,1,2,3,4,5,6,7,8,9,10,11,12,13,14,15,16,17,18,19,20,21,22,23,24,25,26,27,28,29,30,31,32,33,34,35,36,37,38,39,40,41,42,43,44,45,46,47,48,49,50,51,52,53,54,55,56,57,58,59,60,61,62,63,64,65,66,67,68,69,70,71,72,73,74,75,76,77,78,79,80,81,82,83,84,85,86,87,88,89,90,91,92,93,94,95,96,97,98,99,100,101,102,103,104,105,106,107,108,109,110,111,112,113,114,115,116,117,118,119,120,121,122,123,124,125,126,127,128,129,130,131,132,133,134,135,136,137,138,139,140,141,142],\"p_value\":{\"__ndarray__\":\"AAAAAAAAAEDid9MtO8TvP0HvjSEAuO8/nKOOjquR7z/RPIBFfn3vP4uMDkjCPu8/0IB6M2o+7z90RpT2Bt/uP94AM9/Bz+4/fJxpwvYT7D+nJVZGI5/rP82v5gDBnOs/8YEd/wWC6z/5aHHGMCfrP1th+l5D8Oo/ob/QI0ZP6j+i1F5E2zHqP7a6nBIQk+k/l1eut81U6T9eZtgo6zfpP/FHUWfuIek/wTv59NgW6T+j6exkcBTpP3OCNjl8Uug/P5C8cyhD6D+FzQAXZMvnPzXR56OMuOc/0m2JXHCG5z/O/6uOHGnnP9gqweJwZuc/G7yvyoXK5j/oEg69xcPmP7DKhcq/luY/yJbl6zJ85j8/br98smLmP1BvRs1XSeY/u38sRIdA5j+4yD1d3bHlPxZod0gxQOU/Q3OdRloq5T8nhuRk4tbkPxlz1xLyweQ/FXMQdLSq5D9U4jrGFZfkP100ZDxKJeQ/4ue/B6/d4z/7IwwDltzjP9tv7URJyOM/DDohdNCl4z/usl93unPjP2K85lWdVeM/Me4G0VpR4z82dR4V//fiP45Yi08BsOI/8dk6ONib4j/vObAcIYPiP6bR5GIMLOI/SyGQSxz54T+MhLacS/HhP/TCnQsjveE/1cvvNJlx4T9BnfLoRljhP2y0HOihNuE/l5APejar4D8MyjSaXIzgP6sEi8OZX+A/aJWZ0vpb3z+fPZepSfDeP4qw4emVst4/Q3Bcxk0N3j/Wx0Pf3crdP2kAb4EExd0/oDcVqTC23T8nZyjueJPdPyTQYFPnUds/mlshrMYS2z9Zayi1F9HaP1lrKLUX0do/f4P26uOh2T99XYb/dAPZPwdBR6ta0tg/uMmoMoy72D8XnSy13m/XP46xE16CU9c/JJpAEYsY1j/EXihgOxjWPyXrcHSV7tU/HXIz3IDP1T9tUzwuqkXUP42ACkeQStM/BvaYSGk20z8/H2XEBaDSP9cv2A3bFtI/h/nyAuyj0T/dtYR80LPQPzenkgGgitA/bamDvB5M0D9Ubw1slWDPP5p9HqM8884/rHE2HQHczj8cmNwostbMP3wrEhPU8Ms/IsSVs3dGyz/NI38w8NzJP9cv2A3bFsk/poC0/wHWyD9xOPOrOUDIP6bUJeMYycY/EFzlCYSdxj/SAUnYt5PGPw74/DBCeMQ/hbTGoBNCwz+kNJvHYTDDP8WNW8zPDcM/RKhSswdawT8mcOtunurAP++oMSHmkr4/ZmZmZmZmvj+fy9QkeEO+P0v5WuGnu7g/zY9k+zX+tz9qnzMOmgK2P35/OWnQhrQ/+cUA5N/Csz+ke4yoP7GyP8sFeBxQgLI/7DTSUnk7sj+kd+BShIqwPzLHl/UHb7A/Jawy+KAMrj8rqAO0CCCoP8Muih74GKg/rijKSjiZnT9O3yF7c26ZP1svPOWHAJY/4agm0kcqlT81BGysaYOIP6/p5oe2CGE//X2M2nnyWz+xu6NzPG5RP7G7o3M8blE/w9puO5oOUD+K1fEoLQ1QPw==\",\"dtype\":\"float64\",\"shape\":[143]},\"x\":{\"__ndarray__\":\"fMlWvPwAoT/hS41dOHuiP05PK63796M/5HtMZE93pT8F9HdpPPmmP4x+n+IGBao/JIwjEveOqz94UbClHauuPxoUvfyzHrA/88tDp0fpsD9jpZgTT7WxPwc+C6DPgrI/onznyM5Rsz8J9kd8X/S0Pw7bY538x7U/66IFii+dtj8Vl0Bi/nO3PzY37mlvTLg/+PDGCYkmuT8GvhZ00N+6P4OY0tILv7s/DRzF9AqgvD/czQEN1YK9P3T4J8znTb8/ezeM3h8bwD8LtLedQJDAPwB3pjNaBsE/h499p4j1wT+IIKQrpm7CP6kD69TN6MI/+TIjPwRkwz96YgclTuDDPwAK5e8v3MQ/+1rx7tFbxT+B3z2gm9zFP7q3b2qSXsY/DB9n2rvhxj84m6ukHWbHP9pE6aa968c//SGA6aFyyD+CnCah0PrIPw0woDBQhMk/Qn6JKicPyj/1CsSi9ijLP4uH/kb9t8s//rS+pXdIzD+B1B5fbdrMPwSb6U/mbc0/cPYklOoCzj8JQr+JgpnOP8gfYdO2Mc8/AVdmW5DLzz+/I4ArjDPQP4BZwiQsgtA/4+r1A63R0D/DgUDeEyLRP9WfZPVlc9E/psfRuajF0T8didPM4RjSPwGj4QIXbdI/GJoTZk7C0j8bWro4jhjTP4atIvjcb9M/fpeDX0HI0z/C3xtrwiHUP0FsgltnfNQ/QlctuTfY1D87DTRYOzXVP3sjUVx6k9U/ewkpPf3y1T/qM9vKzFPWP4Pr4zLytdY/LoRVBXcZ1z/8bHA6ZX7XP4FJojjH5Nc/IBv12qdM2D/CcPh3ErbYP8SfL+kSIdk/PTYRk7WN2T+BKaVtB/zZPwLB0A0WbNo/4utgr+/d2j+8leU/o1HbP3+1cmpAx9s/w0FepNc+3D/T+xQ7erjcPzwrI2M6NN0///6RSCuy3T+/ab4gYTLeP4UJ0z3xtN4/bBwUJPI53z9AyDKhe8HfP5Ac8nLTJeA/vb8AUUds4D8/ar+RJ7TgP8EjSjyD/eA/go2/SmpI4T/AUim/7ZThP7/psLof4+E/4f1vlxMz4j/ToDgF3oTiP4COwCmV2OI/DeqsxFAu4z++iBFYKobjPyDzEFY94OM/ncNpVKc85D+9QeRGiJvkP8GywcEC/eQ/ffOHRTxh5T+QSsqVXcjlP+KM5xyTMuY/wFEiXw2g5j/xMgCAARHnP78Xid2phec/6TraxUb+5z9/vJhMH3voP8JBOUeC/Og/HyHpeMeC6T+8fFD5UA7qP8DgmeSMn+o/vw95Z/c26z/hur8/HdXrP39LENKeeuw/vkVhADQo7T+dgLn8sN7tP8FvEWoMn+4/jwcaPmdq7z9gB7mDCyHwP19q7MLZk/A/vzx0epQO8T8Pb5yQaJLxP+DOdEbLIPI/8LsHdJO78j9fgVjUHmXzP2CWMAmLIPQ/3+XgVxDy9D8/G5xOmd/1P1+tnBrQ8fY/3l+AqCM2+D9fxAgsFcP5P9+LxO7Uwvs/36IwABqU/j+vQCxqj7IBQA==\",\"dtype\":\"float64\",\"shape\":[143]},\"y\":{\"__ndarray__\":\"/3mfUBNE07+orB+zFQ1qP9J7NnXkZ28/qcaiowgfeD/h7uAbIZF8PxX5kvJ2O4U/r21wLExFhT9vRr8vEfGPP8CwXaHA1JA/IIGBSscSrT8GEtmLzFuwP9c3ImZiZbA/54EZfzrRsD9Xe/BvukKyP0QZvNGHJLM/N7+Ac9nEtT+Vpu5EZ0G2P4vuX8B867g/QFEamnH7uT+TicbXhnq6PyABHiOg27o/RuCqXqwMuz+sTW54YBe7PwRiLpVtgL4/AbcAcY3Gvj/lPN8zYHjAP4Xyv/B3pMA/0UIqm2MawT/w7uZM11/BPzHwsx8yZsE/fEo/cX/dwj9Yrcij9+3CP/bhHLxYXMM/J2oiPtOdwz8YXZHRBN3DP1Xz6+sgHMQ/t+eeACEyxD/aBdGGD5vFP6no/89bwcY/+4xYtZv6xj9eFLkkitfHP/urlw6AD8g/whPxJt1NyD/H1TM9voLIPzE8YaJSuck/vYyFZE2Ayj91vCFAX4PKPwB7FmtOvMo/nT0gtX8dyz95ONJ56qvLP9JqZg09Asw/OuUhrIEOzD/SZtJC/BHNP3VneEmO5s0/7S8sn6Iizj+4XYV0qmzOP8JnVn6XdM8/0JCfHKQI0D+ZayPCvRTQPzIjPDwAZtA/yVJUq1jd0D/our8g0AXRP46oOT3uO9E/wUm4MrMg0j+BP347VVTSP9Y4lFbqn9I/nZjit/zT0z8AGXh4FTTUP76iZ0S6a9Q/fFBTA/wC1T88up7msUDVP/Onb3EoRtU/ViasIgNU1T/bcSlKkXTVPzXjLL0qqdc/IRQQlq3p1z/7vDAmby3YP/u8MCZvLdg/ssRVANxu2T//bwmWwRzaPyUlQRuKU9o/BTK6YRxt2j9MMRua+OvbP5U+ML6vDdw/BwS1IUCP3T+S7UJMpY/dP9Sc9Do9xN0/70/4f7zr3T+ryQ7xM/TfP1OdN6uNquA/4f7d8Re54D/tTm3olCfhPzJfQudsj+E/h006NNno4T8xHQQaN6viP6eJEGanzeI/1KoyXZIC4z/jhvTZ/YnjP6++/lDBuuM/G4xDmzLF4z/J6hcRJrbkPyjlMPmwJuU/gjd7jnJ85T/dZJ1+mDnmP+UYq9mopeY/jmNNQMLJ5j9bszsTlB7nP9rsL2VP/Oc/7shl0wEX6D9M7qOrBx3oP3iRJLKheek/wcIglLdS6j9uhLDOgV/qP2BAAVCdeOo/J+6ZvZTF6z8b/cGv7x/sP1PRW2tOiO0/6T3J/Juc7T/GjfV6nqztPzhQFm9JPfA/gW7MElNz8D9O7GL6wwzxPzOXXkTmiPE/MYrAW3/M8T+IMhSxaS/yPzd4gHSyQfI/MsrhDb5b8j+yLMXz6QjzP/SJv3B/FPM/rwsapfWz8z8uQFQNkzr1P97OdlicPPU/khNIO96f+D+tiF95yq35P09RLeF0r/o/ieCBrnH0+j/6/KyFN8D+PzJUG+HidAVAUW4I4QglBkCkBJ6o7MgHQKQEnqjsyAdAH8Rvx+0RCEBlQwfaPBIIQA==\",\"dtype\":\"float64\",\"shape\":[143]}},\"selected\":{\"id\":\"2798\",\"type\":\"Selection\"},\"selection_policy\":{\"id\":\"2797\",\"type\":\"UnionRenderers\"}},\"id\":\"2693\",\"type\":\"ColumnDataSource\"},{\"attributes\":{\"text\":\"Q-Q plot\"},\"id\":\"2658\",\"type\":\"Title\"},{\"attributes\":{},\"id\":\"2678\",\"type\":\"PanTool\"},{\"attributes\":{},\"id\":\"2683\",\"type\":\"HelpTool\"},{\"attributes\":{\"active_drag\":\"auto\",\"active_inspect\":\"auto\",\"active_multi\":null,\"active_scroll\":\"auto\",\"active_tap\":\"auto\",\"tools\":[{\"id\":\"2678\",\"type\":\"PanTool\"},{\"id\":\"2679\",\"type\":\"WheelZoomTool\"},{\"id\":\"2680\",\"type\":\"BoxZoomTool\"},{\"id\":\"2681\",\"type\":\"SaveTool\"},{\"id\":\"2682\",\"type\":\"ResetTool\"},{\"id\":\"2683\",\"type\":\"HelpTool\"},{\"id\":\"2692\",\"type\":\"HoverTool\"}]},\"id\":\"2684\",\"type\":\"Toolbar\"},{\"attributes\":{},\"id\":\"2798\",\"type\":\"Selection\"},{\"attributes\":{},\"id\":\"2666\",\"type\":\"LinearScale\"},{\"attributes\":{},\"id\":\"2681\",\"type\":\"SaveTool\"}],\"root_ids\":[\"2657\"]},\"title\":\"Bokeh Application\",\"version\":\"1.4.0\"}};\n",
       "  var render_items = [{\"docid\":\"6cf3a0ff-a361-420c-b819-4b14ea819cfd\",\"roots\":{\"2657\":\"d8f4daf3-3853-4052-a436-a2e5976b802b\"}}];\n",
       "  root.Bokeh.embed.embed_items_notebook(docs_json, render_items);\n",
       "\n",
       "  }\n",
       "  if (root.Bokeh !== undefined) {\n",
       "    embed_document(root);\n",
       "  } else {\n",
       "    var attempts = 0;\n",
       "    var timer = setInterval(function(root) {\n",
       "      if (root.Bokeh !== undefined) {\n",
       "        clearInterval(timer);\n",
       "        embed_document(root);\n",
       "      } else {\n",
       "        attempts++;\n",
       "        if (attempts > 100) {\n",
       "          clearInterval(timer);\n",
       "          console.log(\"Bokeh: ERROR: Unable to run BokehJS code because BokehJS library is missing\");\n",
       "        }\n",
       "      }\n",
       "    }, 10, root)\n",
       "  }\n",
       "})(window);"
      ],
      "application/vnd.bokehjs_exec.v0+json": ""
     },
     "metadata": {
      "application/vnd.bokehjs_exec.v0+json": {
       "id": "2657"
      }
     },
     "output_type": "display_data"
    }
   ],
   "source": [
    "skat_table_1, qq_plot_1 = run_skat_log(mts[0], 4)"
   ]
  },
  {
   "cell_type": "code",
   "execution_count": 74,
   "id": "dcd80c14-c2d1-4ff8-8a1a-765b1a0ac5a8",
   "metadata": {
    "tags": []
   },
   "outputs": [
    {
     "ename": "FatalError",
     "evalue": "HailException: Failed to fit logistic regression null model (MLE with covariates only): Newton iteration failed to converge\n\nJava stack trace:\nis.hail.utils.HailException: Failed to fit logistic regression null model (MLE with covariates only): Newton iteration failed to converge\n\tat is.hail.utils.ErrorHandling.fatal(ErrorHandling.scala:17)\n\tat is.hail.utils.ErrorHandling.fatal$(ErrorHandling.scala:17)\n\tat is.hail.utils.package$.fatal(package.scala:78)\n\tat is.hail.methods.Skat.logisticSkat$1(Skat.scala:263)\n\tat is.hail.methods.Skat.execute(Skat.scala:308)\n\tat is.hail.expr.ir.functions.WrappedMatrixToTableFunction.execute(RelationalFunctions.scala:52)\n\tat is.hail.expr.ir.TableToTableApply.execute(TableIR.scala:3363)\n\tat is.hail.expr.ir.TableIR.analyzeAndExecute(TableIR.scala:61)\n\tat is.hail.expr.ir.Interpret$.run(Interpret.scala:864)\n\tat is.hail.expr.ir.Interpret$.alreadyLowered(Interpret.scala:58)\n\tat is.hail.expr.ir.LowerOrInterpretNonCompilable$.evaluate$1(LowerOrInterpretNonCompilable.scala:20)\n\tat is.hail.expr.ir.LowerOrInterpretNonCompilable$.rewrite$1(LowerOrInterpretNonCompilable.scala:67)\n\tat is.hail.expr.ir.LowerOrInterpretNonCompilable$.apply(LowerOrInterpretNonCompilable.scala:72)\n\tat is.hail.expr.ir.lowering.LowerOrInterpretNonCompilablePass$.transform(LoweringPass.scala:69)\n\tat is.hail.expr.ir.lowering.LoweringPass.$anonfun$apply$3(LoweringPass.scala:16)\n\tat is.hail.utils.ExecutionTimer.time(ExecutionTimer.scala:81)\n\tat is.hail.expr.ir.lowering.LoweringPass.$anonfun$apply$1(LoweringPass.scala:16)\n\tat is.hail.utils.ExecutionTimer.time(ExecutionTimer.scala:81)\n\tat is.hail.expr.ir.lowering.LoweringPass.apply(LoweringPass.scala:14)\n\tat is.hail.expr.ir.lowering.LoweringPass.apply$(LoweringPass.scala:13)\n\tat is.hail.expr.ir.lowering.LowerOrInterpretNonCompilablePass$.apply(LoweringPass.scala:64)\n\tat is.hail.expr.ir.lowering.LoweringPipeline.$anonfun$apply$1(LoweringPipeline.scala:22)\n\tat is.hail.expr.ir.lowering.LoweringPipeline.$anonfun$apply$1$adapted(LoweringPipeline.scala:20)\n\tat scala.collection.IndexedSeqOptimized.foreach(IndexedSeqOptimized.scala:36)\n\tat scala.collection.IndexedSeqOptimized.foreach$(IndexedSeqOptimized.scala:33)\n\tat scala.collection.mutable.WrappedArray.foreach(WrappedArray.scala:38)\n\tat is.hail.expr.ir.lowering.LoweringPipeline.apply(LoweringPipeline.scala:20)\n\tat is.hail.expr.ir.CompileAndEvaluate$._apply(CompileAndEvaluate.scala:47)\n\tat is.hail.backend.spark.SparkBackend._execute(SparkBackend.scala:453)\n\tat is.hail.backend.spark.SparkBackend.$anonfun$executeEncode$2(SparkBackend.scala:489)\n\tat is.hail.backend.ExecuteContext$.$anonfun$scoped$3(ExecuteContext.scala:73)\n\tat is.hail.utils.package$.using(package.scala:635)\n\tat is.hail.backend.ExecuteContext$.$anonfun$scoped$2(ExecuteContext.scala:73)\n\tat is.hail.utils.package$.using(package.scala:635)\n\tat is.hail.annotations.RegionPool$.scoped(RegionPool.scala:17)\n\tat is.hail.backend.ExecuteContext$.scoped(ExecuteContext.scala:61)\n\tat is.hail.backend.spark.SparkBackend.withExecuteContext(SparkBackend.scala:341)\n\tat is.hail.backend.spark.SparkBackend.$anonfun$executeEncode$1(SparkBackend.scala:486)\n\tat is.hail.utils.ExecutionTimer$.time(ExecutionTimer.scala:52)\n\tat is.hail.backend.spark.SparkBackend.executeEncode(SparkBackend.scala:485)\n\tat jdk.internal.reflect.GeneratedMethodAccessor484.invoke(Unknown Source)\n\tat java.base/jdk.internal.reflect.DelegatingMethodAccessorImpl.invoke(DelegatingMethodAccessorImpl.java:43)\n\tat java.base/java.lang.reflect.Method.invoke(Method.java:566)\n\tat py4j.reflection.MethodInvoker.invoke(MethodInvoker.java:244)\n\tat py4j.reflection.ReflectionEngine.invoke(ReflectionEngine.java:357)\n\tat py4j.Gateway.invoke(Gateway.java:282)\n\tat py4j.commands.AbstractCommand.invokeMethod(AbstractCommand.java:132)\n\tat py4j.commands.CallCommand.execute(CallCommand.java:79)\n\tat py4j.GatewayConnection.run(GatewayConnection.java:238)\n\tat java.base/java.lang.Thread.run(Thread.java:834)\n\n\n\nHail version: 0.2.109-b71b065e4bb6\nError summary: HailException: Failed to fit logistic regression null model (MLE with covariates only): Newton iteration failed to converge",
     "output_type": "error",
     "traceback": [
      "\u001b[0;31m---------------------------------------------------------------------------\u001b[0m",
      "\u001b[0;31mFatalError\u001b[0m                                Traceback (most recent call last)",
      "Cell \u001b[0;32mIn[74], line 1\u001b[0m\n\u001b[0;32m----> 1\u001b[0m skat_table_2, qq_plot_2 \u001b[38;5;241m=\u001b[39m \u001b[43mrun_skat_log\u001b[49m\u001b[43m(\u001b[49m\u001b[43mmts\u001b[49m\u001b[43m[\u001b[49m\u001b[38;5;241;43m2\u001b[39;49m\u001b[43m]\u001b[49m\u001b[43m,\u001b[49m\u001b[43m \u001b[49m\u001b[38;5;241;43m5\u001b[39;49m\u001b[43m)\u001b[49m\n",
      "Cell \u001b[0;32mIn[60], line 6\u001b[0m, in \u001b[0;36mrun_skat_log\u001b[0;34m(mtx, pcs)\u001b[0m\n\u001b[1;32m      2\u001b[0m \u001b[38;5;28;01mdef\u001b[39;00m \u001b[38;5;21mrun_skat_log\u001b[39m(mtx, pcs):\n\u001b[1;32m      4\u001b[0m     scores \u001b[38;5;241m=\u001b[39m [mtx\u001b[38;5;241m.\u001b[39mscores[x] \u001b[38;5;28;01mfor\u001b[39;00m x \u001b[38;5;129;01min\u001b[39;00m \u001b[38;5;28mlist\u001b[39m(\u001b[38;5;28mrange\u001b[39m(pcs))]\n\u001b[0;32m----> 6\u001b[0m     skat_table \u001b[38;5;241m=\u001b[39m \u001b[43mhl\u001b[49m\u001b[38;5;241;43m.\u001b[39;49m\u001b[43mskat\u001b[49m\u001b[43m(\u001b[49m\u001b[43mkey_expr\u001b[49m\u001b[38;5;241;43m=\u001b[39;49m\u001b[43mmtx\u001b[49m\u001b[38;5;241;43m.\u001b[39;49m\u001b[43mnearest_genes_20kb\u001b[49m\u001b[43m,\u001b[49m\n\u001b[1;32m      7\u001b[0m \u001b[43m                         \u001b[49m\u001b[43mweight_expr\u001b[49m\u001b[38;5;241;43m=\u001b[39;49m\u001b[43mmtx\u001b[49m\u001b[38;5;241;43m.\u001b[39;49m\u001b[43mcadd\u001b[49m\u001b[38;5;241;43m.\u001b[39;49m\u001b[43mscore_phred\u001b[49m\u001b[43m,\u001b[49m\n\u001b[1;32m      8\u001b[0m \u001b[43m                         \u001b[49m\u001b[43my\u001b[49m\u001b[38;5;241;43m=\u001b[39;49m\u001b[43m(\u001b[49m\u001b[43mmtx\u001b[49m\u001b[38;5;241;43m.\u001b[39;49m\u001b[43mgroup\u001b[49m\u001b[43m \u001b[49m\u001b[38;5;241;43m==\u001b[39;49m\u001b[43m \u001b[49m\u001b[38;5;124;43m'\u001b[39;49m\u001b[38;5;124;43mGTS\u001b[39;49m\u001b[38;5;124;43m'\u001b[39;49m\u001b[43m)\u001b[49m\u001b[43m,\u001b[49m\n\u001b[1;32m      9\u001b[0m \u001b[43m                         \u001b[49m\u001b[43mx\u001b[49m\u001b[38;5;241;43m=\u001b[39;49m\u001b[43mmtx\u001b[49m\u001b[38;5;241;43m.\u001b[39;49m\u001b[43mGT\u001b[49m\u001b[38;5;241;43m.\u001b[39;49m\u001b[43mn_alt_alleles\u001b[49m\u001b[43m(\u001b[49m\u001b[43m)\u001b[49m\u001b[43m,\u001b[49m\n\u001b[1;32m     10\u001b[0m \u001b[43m                         \u001b[49m\u001b[43mcovariates\u001b[49m\u001b[38;5;241;43m=\u001b[39;49m\u001b[43m[\u001b[49m\u001b[38;5;241;43m1\u001b[39;49m\u001b[43m]\u001b[49m\u001b[43m \u001b[49m\u001b[38;5;241;43m+\u001b[39;49m\u001b[43m \u001b[49m\u001b[43mscores\u001b[49m\u001b[43m,\u001b[49m\n\u001b[1;32m     11\u001b[0m \u001b[43m                         \u001b[49m\u001b[43mmax_size\u001b[49m\u001b[43m \u001b[49m\u001b[38;5;241;43m=\u001b[39;49m\u001b[43m \u001b[49m\u001b[38;5;241;43m2500\u001b[39;49m\u001b[43m,\u001b[49m\n\u001b[1;32m     12\u001b[0m \u001b[43m                         \u001b[49m\u001b[43mlogistic\u001b[49m\u001b[43m \u001b[49m\u001b[38;5;241;43m=\u001b[39;49m\u001b[43m \u001b[49m\u001b[38;5;28;43;01mTrue\u001b[39;49;00m\u001b[43m)\u001b[49m\n\u001b[1;32m     14\u001b[0m     skat_table\u001b[38;5;241m.\u001b[39morder_by(skat_table\u001b[38;5;241m.\u001b[39mp_value)\u001b[38;5;241m.\u001b[39mshow(\u001b[38;5;241m20\u001b[39m)\n\u001b[1;32m     16\u001b[0m     qq_plot \u001b[38;5;241m=\u001b[39m hl\u001b[38;5;241m.\u001b[39mplot\u001b[38;5;241m.\u001b[39mqq(\n\u001b[1;32m     17\u001b[0m         skat_table\u001b[38;5;241m.\u001b[39mp_value\n\u001b[1;32m     18\u001b[0m     )\n",
      "File \u001b[0;32m<decorator-gen-1724>:2\u001b[0m, in \u001b[0;36mskat\u001b[0;34m(key_expr, weight_expr, y, x, covariates, logistic, max_size, accuracy, iterations)\u001b[0m\n",
      "File \u001b[0;32m/net/pr2/projects/plgrid/plggneuromol/imdik-zekanowski-gts/venv-hail-0.2.105/lib/python3.10/site-packages/hail/typecheck/check.py:577\u001b[0m, in \u001b[0;36m_make_dec.<locals>.wrapper\u001b[0;34m(__original_func, *args, **kwargs)\u001b[0m\n\u001b[1;32m    574\u001b[0m \u001b[38;5;129m@decorator\u001b[39m\n\u001b[1;32m    575\u001b[0m \u001b[38;5;28;01mdef\u001b[39;00m \u001b[38;5;21mwrapper\u001b[39m(__original_func, \u001b[38;5;241m*\u001b[39margs, \u001b[38;5;241m*\u001b[39m\u001b[38;5;241m*\u001b[39mkwargs):\n\u001b[1;32m    576\u001b[0m     args_, kwargs_ \u001b[38;5;241m=\u001b[39m check_all(__original_func, args, kwargs, checkers, is_method\u001b[38;5;241m=\u001b[39mis_method)\n\u001b[0;32m--> 577\u001b[0m     \u001b[38;5;28;01mreturn\u001b[39;00m \u001b[43m__original_func\u001b[49m\u001b[43m(\u001b[49m\u001b[38;5;241;43m*\u001b[39;49m\u001b[43margs_\u001b[49m\u001b[43m,\u001b[49m\u001b[43m \u001b[49m\u001b[38;5;241;43m*\u001b[39;49m\u001b[38;5;241;43m*\u001b[39;49m\u001b[43mkwargs_\u001b[49m\u001b[43m)\u001b[49m\n",
      "File \u001b[0;32m/net/pr2/projects/plgrid/plggneuromol/imdik-zekanowski-gts/venv-hail-0.2.105/lib/python3.10/site-packages/hail/methods/statgen.py:2208\u001b[0m, in \u001b[0;36mskat\u001b[0;34m(key_expr, weight_expr, y, x, covariates, logistic, max_size, accuracy, iterations)\u001b[0m\n\u001b[1;32m   2191\u001b[0m     max_iterations, tolerance \u001b[38;5;241m=\u001b[39m logistic\n\u001b[1;32m   2193\u001b[0m config \u001b[38;5;241m=\u001b[39m {\n\u001b[1;32m   2194\u001b[0m     \u001b[38;5;124m'\u001b[39m\u001b[38;5;124mname\u001b[39m\u001b[38;5;124m'\u001b[39m: \u001b[38;5;124m'\u001b[39m\u001b[38;5;124mSkat\u001b[39m\u001b[38;5;124m'\u001b[39m,\n\u001b[1;32m   2195\u001b[0m     \u001b[38;5;124m'\u001b[39m\u001b[38;5;124mkeyField\u001b[39m\u001b[38;5;124m'\u001b[39m: key_field_name,\n\u001b[0;32m   (...)\u001b[0m\n\u001b[1;32m   2205\u001b[0m     \u001b[38;5;124m'\u001b[39m\u001b[38;5;124mlogistic_tolerance\u001b[39m\u001b[38;5;124m'\u001b[39m: tolerance\n\u001b[1;32m   2206\u001b[0m }\n\u001b[0;32m-> 2208\u001b[0m \u001b[38;5;28;01mreturn\u001b[39;00m \u001b[43mTable\u001b[49m\u001b[43m(\u001b[49m\u001b[43mir\u001b[49m\u001b[38;5;241;43m.\u001b[39;49m\u001b[43mMatrixToTableApply\u001b[49m\u001b[43m(\u001b[49m\u001b[43mmt\u001b[49m\u001b[38;5;241;43m.\u001b[39;49m\u001b[43m_mir\u001b[49m\u001b[43m,\u001b[49m\u001b[43m \u001b[49m\u001b[43mconfig\u001b[49m\u001b[43m)\u001b[49m\u001b[43m)\u001b[49m\u001b[38;5;241;43m.\u001b[39;49m\u001b[43mpersist\u001b[49m\u001b[43m(\u001b[49m\u001b[43m)\u001b[49m\n",
      "File \u001b[0;32m<decorator-gen-1110>:2\u001b[0m, in \u001b[0;36mpersist\u001b[0;34m(self, storage_level)\u001b[0m\n",
      "File \u001b[0;32m/net/pr2/projects/plgrid/plggneuromol/imdik-zekanowski-gts/venv-hail-0.2.105/lib/python3.10/site-packages/hail/typecheck/check.py:577\u001b[0m, in \u001b[0;36m_make_dec.<locals>.wrapper\u001b[0;34m(__original_func, *args, **kwargs)\u001b[0m\n\u001b[1;32m    574\u001b[0m \u001b[38;5;129m@decorator\u001b[39m\n\u001b[1;32m    575\u001b[0m \u001b[38;5;28;01mdef\u001b[39;00m \u001b[38;5;21mwrapper\u001b[39m(__original_func, \u001b[38;5;241m*\u001b[39margs, \u001b[38;5;241m*\u001b[39m\u001b[38;5;241m*\u001b[39mkwargs):\n\u001b[1;32m    576\u001b[0m     args_, kwargs_ \u001b[38;5;241m=\u001b[39m check_all(__original_func, args, kwargs, checkers, is_method\u001b[38;5;241m=\u001b[39mis_method)\n\u001b[0;32m--> 577\u001b[0m     \u001b[38;5;28;01mreturn\u001b[39;00m \u001b[43m__original_func\u001b[49m\u001b[43m(\u001b[49m\u001b[38;5;241;43m*\u001b[39;49m\u001b[43margs_\u001b[49m\u001b[43m,\u001b[49m\u001b[43m \u001b[49m\u001b[38;5;241;43m*\u001b[39;49m\u001b[38;5;241;43m*\u001b[39;49m\u001b[43mkwargs_\u001b[49m\u001b[43m)\u001b[49m\n",
      "File \u001b[0;32m/net/pr2/projects/plgrid/plggneuromol/imdik-zekanowski-gts/venv-hail-0.2.105/lib/python3.10/site-packages/hail/table.py:2068\u001b[0m, in \u001b[0;36mTable.persist\u001b[0;34m(self, storage_level)\u001b[0m\n\u001b[1;32m   2032\u001b[0m \u001b[38;5;129m@typecheck_method\u001b[39m(storage_level\u001b[38;5;241m=\u001b[39mstorage_level)\n\u001b[1;32m   2033\u001b[0m \u001b[38;5;28;01mdef\u001b[39;00m \u001b[38;5;21mpersist\u001b[39m(\u001b[38;5;28mself\u001b[39m, storage_level\u001b[38;5;241m=\u001b[39m\u001b[38;5;124m'\u001b[39m\u001b[38;5;124mMEMORY_AND_DISK\u001b[39m\u001b[38;5;124m'\u001b[39m) \u001b[38;5;241m-\u001b[39m\u001b[38;5;241m>\u001b[39m \u001b[38;5;124m'\u001b[39m\u001b[38;5;124mTable\u001b[39m\u001b[38;5;124m'\u001b[39m:\n\u001b[1;32m   2034\u001b[0m \u001b[38;5;250m    \u001b[39m\u001b[38;5;124;03m\"\"\"Persist this table in memory or on disk.\u001b[39;00m\n\u001b[1;32m   2035\u001b[0m \n\u001b[1;32m   2036\u001b[0m \u001b[38;5;124;03m    Examples\u001b[39;00m\n\u001b[0;32m   (...)\u001b[0m\n\u001b[1;32m   2066\u001b[0m \u001b[38;5;124;03m        Persisted table.\u001b[39;00m\n\u001b[1;32m   2067\u001b[0m \u001b[38;5;124;03m    \"\"\"\u001b[39;00m\n\u001b[0;32m-> 2068\u001b[0m     \u001b[38;5;28;01mreturn\u001b[39;00m \u001b[43mEnv\u001b[49m\u001b[38;5;241;43m.\u001b[39;49m\u001b[43mbackend\u001b[49m\u001b[43m(\u001b[49m\u001b[43m)\u001b[49m\u001b[38;5;241;43m.\u001b[39;49m\u001b[43mpersist_table\u001b[49m\u001b[43m(\u001b[49m\u001b[38;5;28;43mself\u001b[39;49m\u001b[43m)\u001b[49m\n",
      "File \u001b[0;32m/net/pr2/projects/plgrid/plggneuromol/imdik-zekanowski-gts/venv-hail-0.2.105/lib/python3.10/site-packages/hail/backend/backend.py:133\u001b[0m, in \u001b[0;36mBackend.persist_table\u001b[0;34m(self, t)\u001b[0m\n\u001b[1;32m    131\u001b[0m tf \u001b[38;5;241m=\u001b[39m TemporaryFilename(prefix\u001b[38;5;241m=\u001b[39m\u001b[38;5;124m'\u001b[39m\u001b[38;5;124mpersist_table\u001b[39m\u001b[38;5;124m'\u001b[39m)\n\u001b[1;32m    132\u001b[0m \u001b[38;5;28mself\u001b[39m\u001b[38;5;241m.\u001b[39m_persisted_locations[t] \u001b[38;5;241m=\u001b[39m tf\n\u001b[0;32m--> 133\u001b[0m \u001b[38;5;28;01mreturn\u001b[39;00m \u001b[43mt\u001b[49m\u001b[38;5;241;43m.\u001b[39;49m\u001b[43mcheckpoint\u001b[49m\u001b[43m(\u001b[49m\u001b[43mtf\u001b[49m\u001b[38;5;241;43m.\u001b[39;49m\u001b[38;5;21;43m__enter__\u001b[39;49m\u001b[43m(\u001b[49m\u001b[43m)\u001b[49m\u001b[43m)\u001b[49m\n",
      "File \u001b[0;32m<decorator-gen-1100>:2\u001b[0m, in \u001b[0;36mcheckpoint\u001b[0;34m(self, output, overwrite, stage_locally, _codec_spec, _read_if_exists, _intervals, _filter_intervals)\u001b[0m\n",
      "File \u001b[0;32m/net/pr2/projects/plgrid/plggneuromol/imdik-zekanowski-gts/venv-hail-0.2.105/lib/python3.10/site-packages/hail/typecheck/check.py:577\u001b[0m, in \u001b[0;36m_make_dec.<locals>.wrapper\u001b[0;34m(__original_func, *args, **kwargs)\u001b[0m\n\u001b[1;32m    574\u001b[0m \u001b[38;5;129m@decorator\u001b[39m\n\u001b[1;32m    575\u001b[0m \u001b[38;5;28;01mdef\u001b[39;00m \u001b[38;5;21mwrapper\u001b[39m(__original_func, \u001b[38;5;241m*\u001b[39margs, \u001b[38;5;241m*\u001b[39m\u001b[38;5;241m*\u001b[39mkwargs):\n\u001b[1;32m    576\u001b[0m     args_, kwargs_ \u001b[38;5;241m=\u001b[39m check_all(__original_func, args, kwargs, checkers, is_method\u001b[38;5;241m=\u001b[39mis_method)\n\u001b[0;32m--> 577\u001b[0m     \u001b[38;5;28;01mreturn\u001b[39;00m \u001b[43m__original_func\u001b[49m\u001b[43m(\u001b[49m\u001b[38;5;241;43m*\u001b[39;49m\u001b[43margs_\u001b[49m\u001b[43m,\u001b[49m\u001b[43m \u001b[49m\u001b[38;5;241;43m*\u001b[39;49m\u001b[38;5;241;43m*\u001b[39;49m\u001b[43mkwargs_\u001b[49m\u001b[43m)\u001b[49m\n",
      "File \u001b[0;32m/net/pr2/projects/plgrid/plggneuromol/imdik-zekanowski-gts/venv-hail-0.2.105/lib/python3.10/site-packages/hail/table.py:1291\u001b[0m, in \u001b[0;36mTable.checkpoint\u001b[0;34m(self, output, overwrite, stage_locally, _codec_spec, _read_if_exists, _intervals, _filter_intervals)\u001b[0m\n\u001b[1;32m   1275\u001b[0m             _codec_spec \u001b[38;5;241m=\u001b[39m \u001b[38;5;124m\"\"\"\u001b[39m\u001b[38;5;124m{\u001b[39m\n\u001b[1;32m   1276\u001b[0m \u001b[38;5;124m  \u001b[39m\u001b[38;5;124m\"\u001b[39m\u001b[38;5;124mname\u001b[39m\u001b[38;5;124m\"\u001b[39m\u001b[38;5;124m: \u001b[39m\u001b[38;5;124m\"\u001b[39m\u001b[38;5;124mLEB128BufferSpec\u001b[39m\u001b[38;5;124m\"\u001b[39m\u001b[38;5;124m,\u001b[39m\n\u001b[1;32m   1277\u001b[0m \u001b[38;5;124m  \u001b[39m\u001b[38;5;124m\"\u001b[39m\u001b[38;5;124mchild\u001b[39m\u001b[38;5;124m\"\u001b[39m\u001b[38;5;124m: \u001b[39m\u001b[38;5;124m{\u001b[39m\n\u001b[0;32m   (...)\u001b[0m\n\u001b[1;32m   1287\u001b[0m \u001b[38;5;124m  }\u001b[39m\n\u001b[1;32m   1288\u001b[0m \u001b[38;5;124m}\u001b[39m\u001b[38;5;124m\"\"\"\u001b[39m\n\u001b[1;32m   1290\u001b[0m         \u001b[38;5;28;01mif\u001b[39;00m \u001b[38;5;129;01mnot\u001b[39;00m _read_if_exists \u001b[38;5;129;01mor\u001b[39;00m \u001b[38;5;129;01mnot\u001b[39;00m hl\u001b[38;5;241m.\u001b[39mhadoop_exists(\u001b[38;5;124mf\u001b[39m\u001b[38;5;124m'\u001b[39m\u001b[38;5;132;01m{\u001b[39;00moutput\u001b[38;5;132;01m}\u001b[39;00m\u001b[38;5;124m/_SUCCESS\u001b[39m\u001b[38;5;124m'\u001b[39m):\n\u001b[0;32m-> 1291\u001b[0m             \u001b[38;5;28;43mself\u001b[39;49m\u001b[38;5;241;43m.\u001b[39;49m\u001b[43mwrite\u001b[49m\u001b[43m(\u001b[49m\u001b[43moutput\u001b[49m\u001b[38;5;241;43m=\u001b[39;49m\u001b[43moutput\u001b[49m\u001b[43m,\u001b[49m\u001b[43m \u001b[49m\u001b[43moverwrite\u001b[49m\u001b[38;5;241;43m=\u001b[39;49m\u001b[43moverwrite\u001b[49m\u001b[43m,\u001b[49m\u001b[43m \u001b[49m\u001b[43mstage_locally\u001b[49m\u001b[38;5;241;43m=\u001b[39;49m\u001b[43mstage_locally\u001b[49m\u001b[43m,\u001b[49m\u001b[43m \u001b[49m\u001b[43m_codec_spec\u001b[49m\u001b[38;5;241;43m=\u001b[39;49m\u001b[43m_codec_spec\u001b[49m\u001b[43m)\u001b[49m\n\u001b[1;32m   1292\u001b[0m             _assert_type \u001b[38;5;241m=\u001b[39m \u001b[38;5;28mself\u001b[39m\u001b[38;5;241m.\u001b[39m_type\n\u001b[1;32m   1293\u001b[0m             _load_refs \u001b[38;5;241m=\u001b[39m \u001b[38;5;28;01mFalse\u001b[39;00m\n",
      "File \u001b[0;32m<decorator-gen-1102>:2\u001b[0m, in \u001b[0;36mwrite\u001b[0;34m(self, output, overwrite, stage_locally, _codec_spec)\u001b[0m\n",
      "File \u001b[0;32m/net/pr2/projects/plgrid/plggneuromol/imdik-zekanowski-gts/venv-hail-0.2.105/lib/python3.10/site-packages/hail/typecheck/check.py:577\u001b[0m, in \u001b[0;36m_make_dec.<locals>.wrapper\u001b[0;34m(__original_func, *args, **kwargs)\u001b[0m\n\u001b[1;32m    574\u001b[0m \u001b[38;5;129m@decorator\u001b[39m\n\u001b[1;32m    575\u001b[0m \u001b[38;5;28;01mdef\u001b[39;00m \u001b[38;5;21mwrapper\u001b[39m(__original_func, \u001b[38;5;241m*\u001b[39margs, \u001b[38;5;241m*\u001b[39m\u001b[38;5;241m*\u001b[39mkwargs):\n\u001b[1;32m    576\u001b[0m     args_, kwargs_ \u001b[38;5;241m=\u001b[39m check_all(__original_func, args, kwargs, checkers, is_method\u001b[38;5;241m=\u001b[39mis_method)\n\u001b[0;32m--> 577\u001b[0m     \u001b[38;5;28;01mreturn\u001b[39;00m \u001b[43m__original_func\u001b[49m\u001b[43m(\u001b[49m\u001b[38;5;241;43m*\u001b[39;49m\u001b[43margs_\u001b[49m\u001b[43m,\u001b[49m\u001b[43m \u001b[49m\u001b[38;5;241;43m*\u001b[39;49m\u001b[38;5;241;43m*\u001b[39;49m\u001b[43mkwargs_\u001b[49m\u001b[43m)\u001b[49m\n",
      "File \u001b[0;32m/net/pr2/projects/plgrid/plggneuromol/imdik-zekanowski-gts/venv-hail-0.2.105/lib/python3.10/site-packages/hail/table.py:1335\u001b[0m, in \u001b[0;36mTable.write\u001b[0;34m(self, output, overwrite, stage_locally, _codec_spec)\u001b[0m\n\u001b[1;32m   1305\u001b[0m \u001b[38;5;129m@typecheck_method\u001b[39m(output\u001b[38;5;241m=\u001b[39m\u001b[38;5;28mstr\u001b[39m,\n\u001b[1;32m   1306\u001b[0m                   overwrite\u001b[38;5;241m=\u001b[39m\u001b[38;5;28mbool\u001b[39m,\n\u001b[1;32m   1307\u001b[0m                   stage_locally\u001b[38;5;241m=\u001b[39m\u001b[38;5;28mbool\u001b[39m,\n\u001b[1;32m   1308\u001b[0m                   _codec_spec\u001b[38;5;241m=\u001b[39mnullable(\u001b[38;5;28mstr\u001b[39m))\n\u001b[1;32m   1309\u001b[0m \u001b[38;5;28;01mdef\u001b[39;00m \u001b[38;5;21mwrite\u001b[39m(\u001b[38;5;28mself\u001b[39m, output: \u001b[38;5;28mstr\u001b[39m, overwrite\u001b[38;5;241m=\u001b[39m\u001b[38;5;28;01mFalse\u001b[39;00m, stage_locally: \u001b[38;5;28mbool\u001b[39m \u001b[38;5;241m=\u001b[39m \u001b[38;5;28;01mFalse\u001b[39;00m,\n\u001b[1;32m   1310\u001b[0m           _codec_spec: Optional[\u001b[38;5;28mstr\u001b[39m] \u001b[38;5;241m=\u001b[39m \u001b[38;5;28;01mNone\u001b[39;00m):\n\u001b[1;32m   1311\u001b[0m \u001b[38;5;250m    \u001b[39m\u001b[38;5;124;03m\"\"\"Write to disk.\u001b[39;00m\n\u001b[1;32m   1312\u001b[0m \n\u001b[1;32m   1313\u001b[0m \u001b[38;5;124;03m    Examples\u001b[39;00m\n\u001b[0;32m   (...)\u001b[0m\n\u001b[1;32m   1332\u001b[0m \u001b[38;5;124;03m        If ``True``, overwrite an existing file at the destination.\u001b[39;00m\n\u001b[1;32m   1333\u001b[0m \u001b[38;5;124;03m    \"\"\"\u001b[39;00m\n\u001b[0;32m-> 1335\u001b[0m     \u001b[43mEnv\u001b[49m\u001b[38;5;241;43m.\u001b[39;49m\u001b[43mbackend\u001b[49m\u001b[43m(\u001b[49m\u001b[43m)\u001b[49m\u001b[38;5;241;43m.\u001b[39;49m\u001b[43mexecute\u001b[49m\u001b[43m(\u001b[49m\u001b[43mir\u001b[49m\u001b[38;5;241;43m.\u001b[39;49m\u001b[43mTableWrite\u001b[49m\u001b[43m(\u001b[49m\u001b[38;5;28;43mself\u001b[39;49m\u001b[38;5;241;43m.\u001b[39;49m\u001b[43m_tir\u001b[49m\u001b[43m,\u001b[49m\u001b[43m \u001b[49m\u001b[43mir\u001b[49m\u001b[38;5;241;43m.\u001b[39;49m\u001b[43mTableNativeWriter\u001b[49m\u001b[43m(\u001b[49m\u001b[43moutput\u001b[49m\u001b[43m,\u001b[49m\u001b[43m \u001b[49m\u001b[43moverwrite\u001b[49m\u001b[43m,\u001b[49m\u001b[43m \u001b[49m\u001b[43mstage_locally\u001b[49m\u001b[43m,\u001b[49m\u001b[43m \u001b[49m\u001b[43m_codec_spec\u001b[49m\u001b[43m)\u001b[49m\u001b[43m)\u001b[49m\u001b[43m)\u001b[49m\n",
      "File \u001b[0;32m/net/pr2/projects/plgrid/plggneuromol/imdik-zekanowski-gts/venv-hail-0.2.105/lib/python3.10/site-packages/hail/backend/py4j_backend.py:105\u001b[0m, in \u001b[0;36mPy4JBackend.execute\u001b[0;34m(self, ir, timed)\u001b[0m\n\u001b[1;32m    103\u001b[0m     \u001b[38;5;28;01mreturn\u001b[39;00m (value, timings) \u001b[38;5;28;01mif\u001b[39;00m timed \u001b[38;5;28;01melse\u001b[39;00m value\n\u001b[1;32m    104\u001b[0m \u001b[38;5;28;01mexcept\u001b[39;00m FatalError \u001b[38;5;28;01mas\u001b[39;00m e:\n\u001b[0;32m--> 105\u001b[0m     \u001b[38;5;28;01mraise\u001b[39;00m e\u001b[38;5;241m.\u001b[39mmaybe_user_error(ir) \u001b[38;5;28;01mfrom\u001b[39;00m \u001b[38;5;28mNone\u001b[39m\n",
      "File \u001b[0;32m/net/pr2/projects/plgrid/plggneuromol/imdik-zekanowski-gts/venv-hail-0.2.105/lib/python3.10/site-packages/hail/backend/py4j_backend.py:99\u001b[0m, in \u001b[0;36mPy4JBackend.execute\u001b[0;34m(self, ir, timed)\u001b[0m\n\u001b[1;32m     97\u001b[0m \u001b[38;5;66;03m# print(self._hail_package.expr.ir.Pretty.apply(jir, True, -1))\u001b[39;00m\n\u001b[1;32m     98\u001b[0m \u001b[38;5;28;01mtry\u001b[39;00m:\n\u001b[0;32m---> 99\u001b[0m     result_tuple \u001b[38;5;241m=\u001b[39m \u001b[38;5;28;43mself\u001b[39;49m\u001b[38;5;241;43m.\u001b[39;49m\u001b[43m_jbackend\u001b[49m\u001b[38;5;241;43m.\u001b[39;49m\u001b[43mexecuteEncode\u001b[49m\u001b[43m(\u001b[49m\u001b[43mjir\u001b[49m\u001b[43m,\u001b[49m\u001b[43m \u001b[49m\u001b[43mstream_codec\u001b[49m\u001b[43m,\u001b[49m\u001b[43m \u001b[49m\u001b[43mtimed\u001b[49m\u001b[43m)\u001b[49m\n\u001b[1;32m    100\u001b[0m     (result, timings) \u001b[38;5;241m=\u001b[39m (result_tuple\u001b[38;5;241m.\u001b[39m_1(), result_tuple\u001b[38;5;241m.\u001b[39m_2())\n\u001b[1;32m    101\u001b[0m     value \u001b[38;5;241m=\u001b[39m ir\u001b[38;5;241m.\u001b[39mtyp\u001b[38;5;241m.\u001b[39m_from_encoding(result)\n",
      "File \u001b[0;32m/net/pr2/projects/plgrid/plggneuromol/imdik-zekanowski-gts/venv-hail-0.2.105/lib/python3.10/site-packages/py4j/java_gateway.py:1304\u001b[0m, in \u001b[0;36mJavaMember.__call__\u001b[0;34m(self, *args)\u001b[0m\n\u001b[1;32m   1298\u001b[0m command \u001b[38;5;241m=\u001b[39m proto\u001b[38;5;241m.\u001b[39mCALL_COMMAND_NAME \u001b[38;5;241m+\u001b[39m\\\n\u001b[1;32m   1299\u001b[0m     \u001b[38;5;28mself\u001b[39m\u001b[38;5;241m.\u001b[39mcommand_header \u001b[38;5;241m+\u001b[39m\\\n\u001b[1;32m   1300\u001b[0m     args_command \u001b[38;5;241m+\u001b[39m\\\n\u001b[1;32m   1301\u001b[0m     proto\u001b[38;5;241m.\u001b[39mEND_COMMAND_PART\n\u001b[1;32m   1303\u001b[0m answer \u001b[38;5;241m=\u001b[39m \u001b[38;5;28mself\u001b[39m\u001b[38;5;241m.\u001b[39mgateway_client\u001b[38;5;241m.\u001b[39msend_command(command)\n\u001b[0;32m-> 1304\u001b[0m return_value \u001b[38;5;241m=\u001b[39m \u001b[43mget_return_value\u001b[49m\u001b[43m(\u001b[49m\n\u001b[1;32m   1305\u001b[0m \u001b[43m    \u001b[49m\u001b[43manswer\u001b[49m\u001b[43m,\u001b[49m\u001b[43m \u001b[49m\u001b[38;5;28;43mself\u001b[39;49m\u001b[38;5;241;43m.\u001b[39;49m\u001b[43mgateway_client\u001b[49m\u001b[43m,\u001b[49m\u001b[43m \u001b[49m\u001b[38;5;28;43mself\u001b[39;49m\u001b[38;5;241;43m.\u001b[39;49m\u001b[43mtarget_id\u001b[49m\u001b[43m,\u001b[49m\u001b[43m \u001b[49m\u001b[38;5;28;43mself\u001b[39;49m\u001b[38;5;241;43m.\u001b[39;49m\u001b[43mname\u001b[49m\u001b[43m)\u001b[49m\n\u001b[1;32m   1307\u001b[0m \u001b[38;5;28;01mfor\u001b[39;00m temp_arg \u001b[38;5;129;01min\u001b[39;00m temp_args:\n\u001b[1;32m   1308\u001b[0m     temp_arg\u001b[38;5;241m.\u001b[39m_detach()\n",
      "File \u001b[0;32m/net/pr2/projects/plgrid/plggneuromol/imdik-zekanowski-gts/venv-hail-0.2.105/lib/python3.10/site-packages/hail/backend/py4j_backend.py:31\u001b[0m, in \u001b[0;36mhandle_java_exception.<locals>.deco\u001b[0;34m(*args, **kwargs)\u001b[0m\n\u001b[1;32m     29\u001b[0m     tpl \u001b[38;5;241m=\u001b[39m Env\u001b[38;5;241m.\u001b[39mjutils()\u001b[38;5;241m.\u001b[39mhandleForPython(e\u001b[38;5;241m.\u001b[39mjava_exception)\n\u001b[1;32m     30\u001b[0m     deepest, full, error_id \u001b[38;5;241m=\u001b[39m tpl\u001b[38;5;241m.\u001b[39m_1(), tpl\u001b[38;5;241m.\u001b[39m_2(), tpl\u001b[38;5;241m.\u001b[39m_3()\n\u001b[0;32m---> 31\u001b[0m     \u001b[38;5;28;01mraise\u001b[39;00m fatal_error_from_java_error_triplet(deepest, full, error_id) \u001b[38;5;28;01mfrom\u001b[39;00m \u001b[38;5;28mNone\u001b[39m\n\u001b[1;32m     32\u001b[0m \u001b[38;5;28;01mexcept\u001b[39;00m pyspark\u001b[38;5;241m.\u001b[39msql\u001b[38;5;241m.\u001b[39mutils\u001b[38;5;241m.\u001b[39mCapturedException \u001b[38;5;28;01mas\u001b[39;00m e:\n\u001b[1;32m     33\u001b[0m     \u001b[38;5;28;01mraise\u001b[39;00m FatalError(\u001b[38;5;124m'\u001b[39m\u001b[38;5;132;01m%s\u001b[39;00m\u001b[38;5;130;01m\\n\u001b[39;00m\u001b[38;5;130;01m\\n\u001b[39;00m\u001b[38;5;124mJava stack trace:\u001b[39m\u001b[38;5;130;01m\\n\u001b[39;00m\u001b[38;5;132;01m%s\u001b[39;00m\u001b[38;5;130;01m\\n\u001b[39;00m\u001b[38;5;124m'\u001b[39m\n\u001b[1;32m     34\u001b[0m                      \u001b[38;5;124m'\u001b[39m\u001b[38;5;124mHail version: \u001b[39m\u001b[38;5;132;01m%s\u001b[39;00m\u001b[38;5;130;01m\\n\u001b[39;00m\u001b[38;5;124m'\u001b[39m\n\u001b[1;32m     35\u001b[0m                      \u001b[38;5;124m'\u001b[39m\u001b[38;5;124mError summary: \u001b[39m\u001b[38;5;132;01m%s\u001b[39;00m\u001b[38;5;124m'\u001b[39m \u001b[38;5;241m%\u001b[39m (e\u001b[38;5;241m.\u001b[39mdesc, e\u001b[38;5;241m.\u001b[39mstackTrace, hail\u001b[38;5;241m.\u001b[39m__version__, e\u001b[38;5;241m.\u001b[39mdesc)) \u001b[38;5;28;01mfrom\u001b[39;00m \u001b[38;5;28mNone\u001b[39m\n",
      "\u001b[0;31mFatalError\u001b[0m: HailException: Failed to fit logistic regression null model (MLE with covariates only): Newton iteration failed to converge\n\nJava stack trace:\nis.hail.utils.HailException: Failed to fit logistic regression null model (MLE with covariates only): Newton iteration failed to converge\n\tat is.hail.utils.ErrorHandling.fatal(ErrorHandling.scala:17)\n\tat is.hail.utils.ErrorHandling.fatal$(ErrorHandling.scala:17)\n\tat is.hail.utils.package$.fatal(package.scala:78)\n\tat is.hail.methods.Skat.logisticSkat$1(Skat.scala:263)\n\tat is.hail.methods.Skat.execute(Skat.scala:308)\n\tat is.hail.expr.ir.functions.WrappedMatrixToTableFunction.execute(RelationalFunctions.scala:52)\n\tat is.hail.expr.ir.TableToTableApply.execute(TableIR.scala:3363)\n\tat is.hail.expr.ir.TableIR.analyzeAndExecute(TableIR.scala:61)\n\tat is.hail.expr.ir.Interpret$.run(Interpret.scala:864)\n\tat is.hail.expr.ir.Interpret$.alreadyLowered(Interpret.scala:58)\n\tat is.hail.expr.ir.LowerOrInterpretNonCompilable$.evaluate$1(LowerOrInterpretNonCompilable.scala:20)\n\tat is.hail.expr.ir.LowerOrInterpretNonCompilable$.rewrite$1(LowerOrInterpretNonCompilable.scala:67)\n\tat is.hail.expr.ir.LowerOrInterpretNonCompilable$.apply(LowerOrInterpretNonCompilable.scala:72)\n\tat is.hail.expr.ir.lowering.LowerOrInterpretNonCompilablePass$.transform(LoweringPass.scala:69)\n\tat is.hail.expr.ir.lowering.LoweringPass.$anonfun$apply$3(LoweringPass.scala:16)\n\tat is.hail.utils.ExecutionTimer.time(ExecutionTimer.scala:81)\n\tat is.hail.expr.ir.lowering.LoweringPass.$anonfun$apply$1(LoweringPass.scala:16)\n\tat is.hail.utils.ExecutionTimer.time(ExecutionTimer.scala:81)\n\tat is.hail.expr.ir.lowering.LoweringPass.apply(LoweringPass.scala:14)\n\tat is.hail.expr.ir.lowering.LoweringPass.apply$(LoweringPass.scala:13)\n\tat is.hail.expr.ir.lowering.LowerOrInterpretNonCompilablePass$.apply(LoweringPass.scala:64)\n\tat is.hail.expr.ir.lowering.LoweringPipeline.$anonfun$apply$1(LoweringPipeline.scala:22)\n\tat is.hail.expr.ir.lowering.LoweringPipeline.$anonfun$apply$1$adapted(LoweringPipeline.scala:20)\n\tat scala.collection.IndexedSeqOptimized.foreach(IndexedSeqOptimized.scala:36)\n\tat scala.collection.IndexedSeqOptimized.foreach$(IndexedSeqOptimized.scala:33)\n\tat scala.collection.mutable.WrappedArray.foreach(WrappedArray.scala:38)\n\tat is.hail.expr.ir.lowering.LoweringPipeline.apply(LoweringPipeline.scala:20)\n\tat is.hail.expr.ir.CompileAndEvaluate$._apply(CompileAndEvaluate.scala:47)\n\tat is.hail.backend.spark.SparkBackend._execute(SparkBackend.scala:453)\n\tat is.hail.backend.spark.SparkBackend.$anonfun$executeEncode$2(SparkBackend.scala:489)\n\tat is.hail.backend.ExecuteContext$.$anonfun$scoped$3(ExecuteContext.scala:73)\n\tat is.hail.utils.package$.using(package.scala:635)\n\tat is.hail.backend.ExecuteContext$.$anonfun$scoped$2(ExecuteContext.scala:73)\n\tat is.hail.utils.package$.using(package.scala:635)\n\tat is.hail.annotations.RegionPool$.scoped(RegionPool.scala:17)\n\tat is.hail.backend.ExecuteContext$.scoped(ExecuteContext.scala:61)\n\tat is.hail.backend.spark.SparkBackend.withExecuteContext(SparkBackend.scala:341)\n\tat is.hail.backend.spark.SparkBackend.$anonfun$executeEncode$1(SparkBackend.scala:486)\n\tat is.hail.utils.ExecutionTimer$.time(ExecutionTimer.scala:52)\n\tat is.hail.backend.spark.SparkBackend.executeEncode(SparkBackend.scala:485)\n\tat jdk.internal.reflect.GeneratedMethodAccessor484.invoke(Unknown Source)\n\tat java.base/jdk.internal.reflect.DelegatingMethodAccessorImpl.invoke(DelegatingMethodAccessorImpl.java:43)\n\tat java.base/java.lang.reflect.Method.invoke(Method.java:566)\n\tat py4j.reflection.MethodInvoker.invoke(MethodInvoker.java:244)\n\tat py4j.reflection.ReflectionEngine.invoke(ReflectionEngine.java:357)\n\tat py4j.Gateway.invoke(Gateway.java:282)\n\tat py4j.commands.AbstractCommand.invokeMethod(AbstractCommand.java:132)\n\tat py4j.commands.CallCommand.execute(CallCommand.java:79)\n\tat py4j.GatewayConnection.run(GatewayConnection.java:238)\n\tat java.base/java.lang.Thread.run(Thread.java:834)\n\n\n\nHail version: 0.2.109-b71b065e4bb6\nError summary: HailException: Failed to fit logistic regression null model (MLE with covariates only): Newton iteration failed to converge"
     ]
    }
   ],
   "source": [
    "skat_table_2, qq_plot_2 = run_skat_log(mts[2], 5)"
   ]
  },
  {
   "cell_type": "code",
   "execution_count": null,
   "id": "7ba0e383-adea-434a-922f-189131d92ccd",
   "metadata": {
    "tags": []
   },
   "outputs": [],
   "source": [
    "samples_1 = mts[1].s.collect()"
   ]
  },
  {
   "cell_type": "code",
   "execution_count": null,
   "id": "f38ac45f-0677-4d1d-b242-11417e7c48cf",
   "metadata": {
    "tags": []
   },
   "outputs": [],
   "source": [
    "mt_5 = mts[1].filter_cols(hl.literal(samples_1[0:80]).contains(mts[1].s))"
   ]
  },
  {
   "cell_type": "code",
   "execution_count": null,
   "id": "2189a2fd-b2a0-4dcb-955d-d30bc53850cc",
   "metadata": {
    "tags": []
   },
   "outputs": [],
   "source": [
    "skat_table_5, genes_result_5, qq_plot_5 = run_skat_log(mt_5, gene_list, 4)"
   ]
  },
  {
   "cell_type": "code",
   "execution_count": null,
   "id": "833700c2-6af0-47c9-8a3c-cddc547eae71",
   "metadata": {
    "tags": []
   },
   "outputs": [],
   "source": [
    "skat_table_6, genes_result_6, qq_plot_6 = run_skat_log(mt_5, gene_list, 4)"
   ]
  },
  {
   "cell_type": "code",
   "execution_count": null,
   "id": "08f814d5-5358-47ee-b499-a3f622e1ffa3",
   "metadata": {
    "tags": []
   },
   "outputs": [],
   "source": [
    "samples_2 = mts[3].s.collect()"
   ]
  },
  {
   "cell_type": "code",
   "execution_count": null,
   "id": "484edd33-5484-4ca1-b740-a2366727d7ca",
   "metadata": {
    "tags": []
   },
   "outputs": [],
   "source": [
    "samples_2[-80:]"
   ]
  },
  {
   "cell_type": "code",
   "execution_count": null,
   "id": "61492300-7617-457a-83ac-5eb89a353b67",
   "metadata": {
    "tags": []
   },
   "outputs": [],
   "source": [
    "mt_6 = mts[3].filter_cols(hl.literal(samples_2[-80:]).contains(mts[3].s))"
   ]
  },
  {
   "cell_type": "code",
   "execution_count": null,
   "id": "da9876c0-fef2-4403-b4f4-fdebac68d93d",
   "metadata": {
    "jupyter": {
     "source_hidden": true
    },
    "tags": []
   },
   "outputs": [],
   "source": [
    "skat_table_7, genes_result_7, qq_plot_7 = run_skat_log(mt_6, gene_list, 4)"
   ]
  },
  {
   "cell_type": "markdown",
   "id": "2edbcb1c-ccf7-41a0-8c72-3f0b9caba29b",
   "metadata": {},
   "source": [
    "## Now run SKAT on selected genes only"
   ]
  },
  {
   "cell_type": "code",
   "execution_count": null,
   "id": "b486b583-9b2b-48fb-84c5-9f24b7fada7f",
   "metadata": {
    "tags": []
   },
   "outputs": [],
   "source": [
    "gene_list = ['DCC', 'RBFOX', 'SLC30A9', 'DCAF4L1', 'SORCS3', 'KCNQ5', 'KCNQ-IT1', 'APOPT1', 'C14orf2', 'NAA11', 'NEGR1',\n",
    "        'CHADL', 'SOX5', 'PANK2', 'COL27A1', 'PDGFB', 'CELSR3', 'OPA1', 'FBN2', 'WWC1', 'NIPBL', \n",
    "             'FN1', 'FBN2', 'SLITRK1', 'SLITRK2', 'SLITRK3', 'SLITRK4', 'SLITRK5', 'SLITRK6', \n",
    "             'HDC', 'OPRK1', 'PCDH10', 'NTSR2', 'CHD8', 'SCUBE1', 'PNKD', 'CNTNAP2', 'MOG', \n",
    "             'DRD2', 'DRD3', 'DRD4', 'DRD5', 'DAT1', 'DBH', 'HTR2A', 'TPH2', 'EAAT1', 'SAPAP3',\n",
    "            'CTNNA3', 'NLGN4', 'FSCB', 'IMMP2L', 'NRXN1', 'AADAC', 'DBH', 'MAOA', 'HTR1A', 'HTR2C', 'SLC6A4',\n",
    "             'TPH2', 'COL27A1', '5-HTTLPR', 'EAAT1', 'COL8A1', 'KCNE1', 'KCNE2',\n",
    "         'RICTOR', 'WWC1', 'CELSR3, NIPBL', 'FN1', 'PNKD', 'CDH26', 'CADM2', 'OPCML', 'CDH9',\n",
    "         'NCAM2', 'CD47', 'CDH5', 'CADM4', 'C1QBP', 'CTTN', 'LSAMP',\n",
    "         'PKP4', 'PCDH1', 'CNTNAP2', 'MBP', 'GABBR2', 'GABBR2', 'GRIK4', 'NCR1', 'FLT3', 'IL12A', 'HDAC9',\n",
    "         'CD180', 'CDH26', 'NCAM2', 'NTM', 'ROBO2', 'NR2F1', 'ASH1L', 'FLT3']"
   ]
  },
  {
   "cell_type": "code",
   "execution_count": null,
   "id": "f546f8a6-20f7-44c9-b450-5249d1acbb76",
   "metadata": {
    "tags": []
   },
   "outputs": [],
   "source": [
    "#for idx, mt in enumerate(mts): \n",
    "#    mt = mt.annotate_rows(\n",
    "#        nearest_genes_20kb = hl.array(\n",
    "#            hl.set(\n",
    "#                gtf.index(mt.locus, all_matches=True)['gene_symbol']))\n",
    "#    )\n",
    "    \n",
    "#    mt = mt.filter_rows(hl.any(lambda x: hl.literal(gene_list).contains(x), mt.nearest_genes_20kb))\n",
    "#    mt = mt.filter_rows(hl.agg.any(mt.GT.is_non_ref()))\n",
    "#    mt = mt.explode_rows(mt.nearest_genes_20kb)\n",
    "#    mt = mt.filter_rows(hl.literal(gene_list).contains(mt.nearest_genes_20kb))\n",
    "#    mt = mt.checkpoint(localfs_path+'for_skat_'+mts_paths[idx])\n",
    "#    mts[idx] = mt"
   ]
  }
 ],
 "metadata": {
  "kernelspec": {
   "display_name": "Python 3 (ipykernel)",
   "language": "python",
   "name": "python3"
  },
  "language_info": {
   "codemirror_mode": {
    "name": "ipython",
    "version": 3
   },
   "file_extension": ".py",
   "mimetype": "text/x-python",
   "name": "python",
   "nbconvert_exporter": "python",
   "pygments_lexer": "ipython3",
   "version": "3.10.4"
  }
 },
 "nbformat": 4,
 "nbformat_minor": 5
}
