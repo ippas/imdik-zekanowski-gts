{
 "cells": [
  {
   "cell_type": "code",
   "execution_count": 1,
   "id": "a8076591-da0d-4079-9add-ec8ad3673903",
   "metadata": {
    "tags": []
   },
   "outputs": [],
   "source": [
    "import os\n",
    "localfs_path = os.environ.get('SCRATCH_LOCAL') + '/'"
   ]
  },
  {
   "cell_type": "code",
   "execution_count": 2,
   "id": "e6cd98e8-9a9d-4b6e-ad9b-93320049a9c4",
   "metadata": {
    "collapsed": true,
    "jupyter": {
     "outputs_hidden": true
    },
    "tags": []
   },
   "outputs": [
    {
     "name": "stderr",
     "output_type": "stream",
     "text": [
      "Picked up _JAVA_OPTIONS: -Djava.io.tmpdir=/localfs/3878086/\n",
      "Picked up _JAVA_OPTIONS: -Djava.io.tmpdir=/localfs/3878086/\n"
     ]
    },
    {
     "name": "stdout",
     "output_type": "stream",
     "text": [
      "23/07/06 12:43:02 WARN NativeCodeLoader: Unable to load native-hadoop library for your platform... using builtin-java classes where applicable\n"
     ]
    },
    {
     "name": "stderr",
     "output_type": "stream",
     "text": [
      "Setting default log level to \"WARN\".\n",
      "To adjust logging level use sc.setLogLevel(newLevel). For SparkR, use setLogLevel(newLevel).\n",
      "Running on Apache Spark version 3.3.2\n",
      "SparkUI available at http://ac0454:4040\n",
      "Welcome to\n",
      "     __  __     <>__\n",
      "    / /_/ /__  __/ /\n",
      "   / __  / _ `/ / /\n",
      "  /_/ /_/\\_,_/_/_/   version 0.2.113-cf32652c5077\n",
      "LOGGING: writing to /net/pr2/projects/plgrid/plggneuromol/imdik-zekanowski-gts/preprocessing/oligogenic-model/hail-20230706-1242-0.2.113-cf32652c5077.log\n"
     ]
    }
   ],
   "source": [
    "os.environ['_JAVA_OPTIONS'] = f'-Djava.io.tmpdir={localfs_path}'\n",
    "\n",
    "import hail as hl\n",
    "\n",
    "hl.init(\n",
    "    tmp_dir=(localfs_path+'tmp_hail'),\n",
    "    spark_conf={'spark.driver.memory': '30G', 'spark.executor.memory': '10G'}, # I don't know what should be here\n",
    "    default_reference='GRCh38'\n",
    ") "
   ]
  },
  {
   "cell_type": "code",
   "execution_count": null,
   "id": "77f1034a-d8bd-408e-b617-2af50849376c",
   "metadata": {
    "tags": []
   },
   "outputs": [],
   "source": [
    "from bokeh.io import show, output_notebook, export_png\n",
    "\n",
    "from bokeh.layouts import gridplot\n",
    "output_notebook()\n",
    "import numpy as np\n",
    "\n",
    "import bokeh.palettes\n",
    "from bokeh.models import CategoricalColorMapper"
   ]
  },
  {
   "cell_type": "code",
   "execution_count": 4,
   "id": "1b50817e-49aa-4ac3-b621-649a5a20efa0",
   "metadata": {
    "tags": []
   },
   "outputs": [
    {
     "name": "stderr",
     "output_type": "stream",
     "text": [
      "2023-07-05 11:37:17.255 Hail: INFO: Reading table without type imputation\n",
      "  Loading field 'SNP' as type str (not specified)\n",
      "  Loading field 'CHR' as type str (not specified)\n",
      "  Loading field 'BP' as type str (not specified)\n",
      "  Loading field 'A1' as type str (not specified)\n",
      "  Loading field 'A2' as type str (not specified)\n",
      "  Loading field 'INFO' as type str (not specified)\n",
      "  Loading field 'OR' as type str (not specified)\n",
      "  Loading field 'SE' as type str (not specified)\n",
      "  Loading field 'P' as type str (not specified)\n"
     ]
    }
   ],
   "source": [
    "gwas = hl.import_table('/net/pr2/projects/plgrid/plggneuromol/imdik-zekanowski-gts/data/external-data/TS_Oct2018', delimiter=' ')\n",
    "gwas = gwas.annotate(locus = hl.locus(gwas.CHR, hl.int32(gwas.BP), reference_genome='GRCh37'))\n",
    "\n",
    "rg37 = hl.get_reference('GRCh37')  \n",
    "rg38 = hl.get_reference('GRCh38')  "
   ]
  },
  {
   "cell_type": "code",
   "execution_count": 5,
   "id": "3736cd58-7c27-4553-a9db-060be64f3927",
   "metadata": {
    "tags": []
   },
   "outputs": [],
   "source": [
    "rg37.add_liftover(\n",
    "    '/net/pr2/projects/plgrid/plggneuromol/imdik-zekanowski-gts/data/external-data/references_grch37_to_grch38.over.chain.gz',\n",
    "    rg38\n",
    ")"
   ]
  },
  {
   "cell_type": "code",
   "execution_count": 7,
   "id": "cbcd61ba-9138-4841-9117-9b587350e2e5",
   "metadata": {
    "tags": []
   },
   "outputs": [],
   "source": [
    "gwas = gwas.annotate(hg39locus = hl.liftover(gwas.locus, 'GRCh38'))"
   ]
  },
  {
   "cell_type": "code",
   "execution_count": null,
   "id": "862e103c-6fe5-4151-8233-397fe7118b9b",
   "metadata": {
    "tags": []
   },
   "outputs": [],
   "source": [
    "gtf = hl.import_table(\n",
    "    '/net/pr2/projects/plgrid/plggneuromol/resources/genecode_43/gencode.v43.basic.annotation.gtf',\n",
    "    delimiter = \"\\t\",\n",
    "    no_header = True,\n",
    "    comment = \"#\"\n",
    ")\n",
    "\n",
    "# filter the gtf to only contain protein-coding genes with any GO term\n",
    "gtf = gtf.filter((gtf.f2 == 'gene') & (gtf.f8.contains('protein_coding')))\n",
    "\n",
    "gtf = gtf.select(\n",
    "    gene_position = hl.locus_interval(\n",
    "        gtf.f0,\n",
    "        hl.int(gtf.f3),\n",
    "        hl.int(gtf.f4),\n",
    "        reference_genome='GRCh38'\n",
    "    ),\n",
    "    gene_symbol = gtf.f8.split(\"\\\"\")[5]\n",
    ")  \n",
    "\n",
    "go_genes = hl.import_table(\n",
    "    '/net/pr2/projects/plgrid/plggneuromol/resources/human-genes-with-GO-and-symbols'\n",
    ")\n",
    "\n",
    "go_genes = go_genes.key_by(go_genes['UniProtKB Gene Name symbol'])\n",
    "\n",
    "gtf = gtf.key_by(gtf['gene_symbol'])\n",
    "gtf = gtf.filter(\n",
    "    hl.is_defined(\n",
    "        go_genes[gtf.gene_symbol]\n",
    "    )\n",
    ")\n",
    "\n",
    "# overall we are keeping 18303 genes. At this poin the within gene intervals are extended by 20kb each side\n",
    "start = hl.if_else(\n",
    "    gtf.gene_position.start.position <= 20000, 1, gtf.gene_position.start.position - 20000\n",
    ")\n",
    "\n",
    "contig_len = hl.contig_length(gtf.gene_position.start.contig, reference_genome='GRCh38') \n",
    "\n",
    "stop = hl.if_else(\n",
    "    (contig_len - gtf.gene_position.end.position) <= 20000,\n",
    "    contig_len,\n",
    "    gtf.gene_position.end.position + 20000\n",
    ")\n",
    "\n",
    "gtf = gtf.annotate(\n",
    "    interval_20kb = hl.locus_interval(\n",
    "        gtf.gene_position.start.contig,\n",
    "        start,\n",
    "        stop,\n",
    "        reference_genome='GRCh38'\n",
    "    )\n",
    ")\n",
    "\n",
    "gtf = gtf.key_by(gtf.interval_20kb)"
   ]
  },
  {
   "cell_type": "code",
   "execution_count": 8,
   "id": "14505de0-2f02-47be-853b-482d78531422",
   "metadata": {
    "tags": []
   },
   "outputs": [],
   "source": [
    "gwas = gwas.annotate(\n",
    "    nearest_genes_20kb = hl.array(\n",
    "        hl.set(\n",
    "            gtf.index(gwas.hg39locus, all_matches=True)['gene_symbol']\n",
    "        )\n",
    "    )\n",
    ")"
   ]
  },
  {
   "cell_type": "code",
   "execution_count": 9,
   "id": "22406b68-ca7c-4e7d-831d-df269b1e6fea",
   "metadata": {
    "collapsed": true,
    "jupyter": {
     "outputs_hidden": true
    },
    "tags": []
   },
   "outputs": [
    {
     "name": "stderr",
     "output_type": "stream",
     "text": [
      "2023-07-03 09:27:31.451 Hail: INFO: Ordering unsorted dataset with network shuffle\n",
      "2023-07-03 09:27:33.764 Hail: INFO: Ordering unsorted dataset with network shuffle\n",
      "2023-07-03 09:27:34.291 Hail: INFO: Ordering unsorted dataset with network shuffle\n",
      "2023-07-03 09:27:36.787 Hail: INFO: Ordering unsorted dataset with network shuffle\n",
      "2023-07-03 09:28:28.648 Hail: INFO: wrote table with 8265318 rows in 3 partitions to /localfs/3878086/gwas-ts.ht\n",
      "    Total size: 385.89 MiB\n",
      "    * Rows: 385.89 MiB\n",
      "    * Globals: 11.00 B\n",
      "    * Smallest partition: 2293984 rows (106.97 MiB)\n",
      "    * Largest partition:  3489970 rows (163.69 MiB)\n"
     ]
    },
    {
     "data": {
      "text/plain": [
       "<hail.table.Table at 0x146585ba3fa0>"
      ]
     },
     "execution_count": 9,
     "metadata": {},
     "output_type": "execute_result"
    }
   ],
   "source": [
    "gwas.checkpoint(localfs_path+'gwas-ts.ht')"
   ]
  },
  {
   "cell_type": "code",
   "execution_count": 4,
   "id": "d7173b3f-c27b-474b-9d00-2dfc88415ccf",
   "metadata": {
    "tags": []
   },
   "outputs": [],
   "source": [
    "gwas = hl.read_table(localfs_path+'gwas-ts.ht')"
   ]
  },
  {
   "cell_type": "markdown",
   "id": "41cf4ac5-8cd9-4666-9db3-44a2e0de2b24",
   "metadata": {},
   "source": [
    "#### divide per gene - and calculate which genes are above background (check if any of these genes are from this gwas)"
   ]
  },
  {
   "cell_type": "code",
   "execution_count": 5,
   "id": "aff17f58-8117-441d-8e6f-b14a297abb39",
   "metadata": {
    "tags": []
   },
   "outputs": [
    {
     "name": "stderr",
     "output_type": "stream",
     "text": [
      "[Stage 0:=======================================>                   (2 + 1) / 3]\r"
     ]
    }
   ],
   "source": [
    "all_genes = gwas.nearest_genes_20kb.collect()\n",
    "all_genes = [item for sublist in all_genes for item in sublist]\n",
    "all_genes = list(set(all_genes))\n",
    "\n",
    "gts_genes = ['DCC', 'RBFOX', 'SLC30A9', 'DCAF4L1', 'SORCS3', 'KCNQ5', 'KCNQ-IT1', 'APOPT1', 'C14orf2', 'NAA11', 'NEGR1',\n",
    "        'CHADL', 'SOX5', 'PANK2', 'COL27A1', 'PDGFB', 'CELSR3', 'OPA1', 'FBN2', 'WWC1', 'NIPBL', \n",
    "             'FN1', 'FBN2', 'SLITRK1', 'SLITRK2', 'SLITRK3', 'SLITRK4', 'SLITRK5', 'SLITRK6', \n",
    "             'HDC', 'OPRK1', 'PCDH10', 'NTSR2', 'CHD8', 'SCUBE1', 'PNKD', 'CNTNAP2', 'MOG', \n",
    "             'DRD2', 'DRD3', 'DRD4', 'DRD5', 'DAT1', 'DBH', 'HTR2A', 'TPH2', 'EAAT1', 'SAPAP3',\n",
    "            'CTNNA3', 'NLGN4', 'FSCB', 'IMMP2L', 'NRXN1', 'AADAC', 'DBH', 'MAOA', 'HTR1A', 'HTR2C', 'SLC6A4',\n",
    "             'TPH2', 'COL27A1', '5-HTTLPR', 'EAAT1', 'COL8A1', 'KCNE1', 'KCNE2',\n",
    "         'RICTOR', 'WWC1', 'CELSR3, NIPBL', 'FN1', 'PNKD', 'CDH26', 'CADM2', 'OPCML', 'CDH9',\n",
    "         'NCAM2', 'CD47', 'CDH5', 'CADM4', 'C1QBP', 'CTTN', 'LSAMP',\n",
    "         'PKP4', 'PCDH1', 'CNTNAP2', 'MBP', 'GABBR2', 'GABBR2', 'GRIK4', 'NCR1', 'FLT3', 'IL12A', 'HDAC9',\n",
    "         'CD180', 'CDH26', 'NCAM2', 'NTM', 'ROBO2', 'NR2F1', 'ASH1L', 'FLT3']\n",
    "\n",
    "all_genes = [g for g in all_genes if g not in gts_genes]"
   ]
  },
  {
   "cell_type": "code",
   "execution_count": 6,
   "id": "e3513923-9fc5-4c5d-99b6-fcdcdcdacfd3",
   "metadata": {
    "tags": []
   },
   "outputs": [],
   "source": [
    "np.random.seed(1)\n",
    "top_genes = ['CHADL', 'DRD2', 'MAOA', 'PCDH10', 'HTR2A', 'SLITRK5', 'SORCS3', 'KCNQ5', 'CDH9', 'CHD8']\n",
    "colors = bokeh.palettes.plasma(200)"
   ]
  },
  {
   "cell_type": "code",
   "execution_count": 7,
   "id": "5628c284-fc09-4f20-a3d4-2349bb03437a",
   "metadata": {
    "tags": []
   },
   "outputs": [],
   "source": [
    "# figure out a way to normalize per gene"
   ]
  },
  {
   "cell_type": "code",
   "execution_count": null,
   "id": "1aef63e6-8de4-44a1-adb5-1b9d295130bc",
   "metadata": {
    "tags": []
   },
   "outputs": [
    {
     "data": {
      "text/html": [
       "\n",
       "    <div class=\"bk-root\">\n",
       "        <a href=\"https://bokeh.org\" target=\"_blank\" class=\"bk-logo bk-logo-small bk-logo-notebook\"></a>\n",
       "        <span id=\"15730\">Loading BokehJS ...</span>\n",
       "    </div>"
      ]
     },
     "metadata": {},
     "output_type": "display_data"
    },
    {
     "data": {
      "application/javascript": [
       "\n",
       "(function(root) {\n",
       "  function now() {\n",
       "    return new Date();\n",
       "  }\n",
       "\n",
       "  var force = true;\n",
       "\n",
       "  if (typeof root._bokeh_onload_callbacks === \"undefined\" || force === true) {\n",
       "    root._bokeh_onload_callbacks = [];\n",
       "    root._bokeh_is_loading = undefined;\n",
       "  }\n",
       "\n",
       "  var JS_MIME_TYPE = 'application/javascript';\n",
       "  var HTML_MIME_TYPE = 'text/html';\n",
       "  var EXEC_MIME_TYPE = 'application/vnd.bokehjs_exec.v0+json';\n",
       "  var CLASS_NAME = 'output_bokeh rendered_html';\n",
       "\n",
       "  /**\n",
       "   * Render data to the DOM node\n",
       "   */\n",
       "  function render(props, node) {\n",
       "    var script = document.createElement(\"script\");\n",
       "    node.appendChild(script);\n",
       "  }\n",
       "\n",
       "  /**\n",
       "   * Handle when an output is cleared or removed\n",
       "   */\n",
       "  function handleClearOutput(event, handle) {\n",
       "    var cell = handle.cell;\n",
       "\n",
       "    var id = cell.output_area._bokeh_element_id;\n",
       "    var server_id = cell.output_area._bokeh_server_id;\n",
       "    // Clean up Bokeh references\n",
       "    if (id != null && id in Bokeh.index) {\n",
       "      Bokeh.index[id].model.document.clear();\n",
       "      delete Bokeh.index[id];\n",
       "    }\n",
       "\n",
       "    if (server_id !== undefined) {\n",
       "      // Clean up Bokeh references\n",
       "      var cmd = \"from bokeh.io.state import curstate; print(curstate().uuid_to_server['\" + server_id + \"'].get_sessions()[0].document.roots[0]._id)\";\n",
       "      cell.notebook.kernel.execute(cmd, {\n",
       "        iopub: {\n",
       "          output: function(msg) {\n",
       "            var id = msg.content.text.trim();\n",
       "            if (id in Bokeh.index) {\n",
       "              Bokeh.index[id].model.document.clear();\n",
       "              delete Bokeh.index[id];\n",
       "            }\n",
       "          }\n",
       "        }\n",
       "      });\n",
       "      // Destroy server and session\n",
       "      var cmd = \"import bokeh.io.notebook as ion; ion.destroy_server('\" + server_id + \"')\";\n",
       "      cell.notebook.kernel.execute(cmd);\n",
       "    }\n",
       "  }\n",
       "\n",
       "  /**\n",
       "   * Handle when a new output is added\n",
       "   */\n",
       "  function handleAddOutput(event, handle) {\n",
       "    var output_area = handle.output_area;\n",
       "    var output = handle.output;\n",
       "\n",
       "    // limit handleAddOutput to display_data with EXEC_MIME_TYPE content only\n",
       "    if ((output.output_type != \"display_data\") || (!output.data.hasOwnProperty(EXEC_MIME_TYPE))) {\n",
       "      return\n",
       "    }\n",
       "\n",
       "    var toinsert = output_area.element.find(\".\" + CLASS_NAME.split(' ')[0]);\n",
       "\n",
       "    if (output.metadata[EXEC_MIME_TYPE][\"id\"] !== undefined) {\n",
       "      toinsert[toinsert.length - 1].firstChild.textContent = output.data[JS_MIME_TYPE];\n",
       "      // store reference to embed id on output_area\n",
       "      output_area._bokeh_element_id = output.metadata[EXEC_MIME_TYPE][\"id\"];\n",
       "    }\n",
       "    if (output.metadata[EXEC_MIME_TYPE][\"server_id\"] !== undefined) {\n",
       "      var bk_div = document.createElement(\"div\");\n",
       "      bk_div.innerHTML = output.data[HTML_MIME_TYPE];\n",
       "      var script_attrs = bk_div.children[0].attributes;\n",
       "      for (var i = 0; i < script_attrs.length; i++) {\n",
       "        toinsert[toinsert.length - 1].firstChild.setAttribute(script_attrs[i].name, script_attrs[i].value);\n",
       "      }\n",
       "      // store reference to server id on output_area\n",
       "      output_area._bokeh_server_id = output.metadata[EXEC_MIME_TYPE][\"server_id\"];\n",
       "    }\n",
       "  }\n",
       "\n",
       "  function register_renderer(events, OutputArea) {\n",
       "\n",
       "    function append_mime(data, metadata, element) {\n",
       "      // create a DOM node to render to\n",
       "      var toinsert = this.create_output_subarea(\n",
       "        metadata,\n",
       "        CLASS_NAME,\n",
       "        EXEC_MIME_TYPE\n",
       "      );\n",
       "      this.keyboard_manager.register_events(toinsert);\n",
       "      // Render to node\n",
       "      var props = {data: data, metadata: metadata[EXEC_MIME_TYPE]};\n",
       "      render(props, toinsert[toinsert.length - 1]);\n",
       "      element.append(toinsert);\n",
       "      return toinsert\n",
       "    }\n",
       "\n",
       "    /* Handle when an output is cleared or removed */\n",
       "    events.on('clear_output.CodeCell', handleClearOutput);\n",
       "    events.on('delete.Cell', handleClearOutput);\n",
       "\n",
       "    /* Handle when a new output is added */\n",
       "    events.on('output_added.OutputArea', handleAddOutput);\n",
       "\n",
       "    /**\n",
       "     * Register the mime type and append_mime function with output_area\n",
       "     */\n",
       "    OutputArea.prototype.register_mime_type(EXEC_MIME_TYPE, append_mime, {\n",
       "      /* Is output safe? */\n",
       "      safe: true,\n",
       "      /* Index of renderer in `output_area.display_order` */\n",
       "      index: 0\n",
       "    });\n",
       "  }\n",
       "\n",
       "  // register the mime type if in Jupyter Notebook environment and previously unregistered\n",
       "  if (root.Jupyter !== undefined) {\n",
       "    var events = require('base/js/events');\n",
       "    var OutputArea = require('notebook/js/outputarea').OutputArea;\n",
       "\n",
       "    if (OutputArea.prototype.mime_types().indexOf(EXEC_MIME_TYPE) == -1) {\n",
       "      register_renderer(events, OutputArea);\n",
       "    }\n",
       "  }\n",
       "\n",
       "  \n",
       "  if (typeof (root._bokeh_timeout) === \"undefined\" || force === true) {\n",
       "    root._bokeh_timeout = Date.now() + 5000;\n",
       "    root._bokeh_failed_load = false;\n",
       "  }\n",
       "\n",
       "  var NB_LOAD_WARNING = {'data': {'text/html':\n",
       "     \"<div style='background-color: #fdd'>\\n\"+\n",
       "     \"<p>\\n\"+\n",
       "     \"BokehJS does not appear to have successfully loaded. If loading BokehJS from CDN, this \\n\"+\n",
       "     \"may be due to a slow or bad network connection. Possible fixes:\\n\"+\n",
       "     \"</p>\\n\"+\n",
       "     \"<ul>\\n\"+\n",
       "     \"<li>re-rerun `output_notebook()` to attempt to load from CDN again, or</li>\\n\"+\n",
       "     \"<li>use INLINE resources instead, as so:</li>\\n\"+\n",
       "     \"</ul>\\n\"+\n",
       "     \"<code>\\n\"+\n",
       "     \"from bokeh.resources import INLINE\\n\"+\n",
       "     \"output_notebook(resources=INLINE)\\n\"+\n",
       "     \"</code>\\n\"+\n",
       "     \"</div>\"}};\n",
       "\n",
       "  function display_loaded() {\n",
       "    var el = document.getElementById(\"15730\");\n",
       "    if (el != null) {\n",
       "      el.textContent = \"BokehJS is loading...\";\n",
       "    }\n",
       "    if (root.Bokeh !== undefined) {\n",
       "      if (el != null) {\n",
       "        el.textContent = \"BokehJS \" + root.Bokeh.version + \" successfully loaded.\";\n",
       "      }\n",
       "    } else if (Date.now() < root._bokeh_timeout) {\n",
       "      setTimeout(display_loaded, 100)\n",
       "    }\n",
       "  }\n",
       "\n",
       "\n",
       "  function run_callbacks() {\n",
       "    try {\n",
       "      root._bokeh_onload_callbacks.forEach(function(callback) {\n",
       "        if (callback != null)\n",
       "          callback();\n",
       "      });\n",
       "    } finally {\n",
       "      delete root._bokeh_onload_callbacks\n",
       "    }\n",
       "    console.debug(\"Bokeh: all callbacks have finished\");\n",
       "  }\n",
       "\n",
       "  function load_libs(css_urls, js_urls, callback) {\n",
       "    if (css_urls == null) css_urls = [];\n",
       "    if (js_urls == null) js_urls = [];\n",
       "\n",
       "    root._bokeh_onload_callbacks.push(callback);\n",
       "    if (root._bokeh_is_loading > 0) {\n",
       "      console.debug(\"Bokeh: BokehJS is being loaded, scheduling callback at\", now());\n",
       "      return null;\n",
       "    }\n",
       "    if (js_urls == null || js_urls.length === 0) {\n",
       "      run_callbacks();\n",
       "      return null;\n",
       "    }\n",
       "    console.debug(\"Bokeh: BokehJS not loaded, scheduling load and callback at\", now());\n",
       "    root._bokeh_is_loading = css_urls.length + js_urls.length;\n",
       "\n",
       "    function on_load() {\n",
       "      root._bokeh_is_loading--;\n",
       "      if (root._bokeh_is_loading === 0) {\n",
       "        console.debug(\"Bokeh: all BokehJS libraries/stylesheets loaded\");\n",
       "        run_callbacks()\n",
       "      }\n",
       "    }\n",
       "\n",
       "    function on_error() {\n",
       "      console.error(\"failed to load \" + url);\n",
       "    }\n",
       "\n",
       "    for (var i = 0; i < css_urls.length; i++) {\n",
       "      var url = css_urls[i];\n",
       "      const element = document.createElement(\"link\");\n",
       "      element.onload = on_load;\n",
       "      element.onerror = on_error;\n",
       "      element.rel = \"stylesheet\";\n",
       "      element.type = \"text/css\";\n",
       "      element.href = url;\n",
       "      console.debug(\"Bokeh: injecting link tag for BokehJS stylesheet: \", url);\n",
       "      document.body.appendChild(element);\n",
       "    }\n",
       "\n",
       "    for (var i = 0; i < js_urls.length; i++) {\n",
       "      var url = js_urls[i];\n",
       "      var element = document.createElement('script');\n",
       "      element.onload = on_load;\n",
       "      element.onerror = on_error;\n",
       "      element.async = false;\n",
       "      element.src = url;\n",
       "      console.debug(\"Bokeh: injecting script tag for BokehJS library: \", url);\n",
       "      document.head.appendChild(element);\n",
       "    }\n",
       "  };var element = document.getElementById(\"15730\");\n",
       "  if (element == null) {\n",
       "    console.error(\"Bokeh: ERROR: autoload.js configured with elementid '15730' but no matching script tag was found. \")\n",
       "    return false;\n",
       "  }\n",
       "\n",
       "  function inject_raw_css(css) {\n",
       "    const element = document.createElement(\"style\");\n",
       "    element.appendChild(document.createTextNode(css));\n",
       "    document.body.appendChild(element);\n",
       "  }\n",
       "\n",
       "  \n",
       "  var js_urls = [\"https://cdn.pydata.org/bokeh/release/bokeh-1.4.0.min.js\", \"https://cdn.pydata.org/bokeh/release/bokeh-widgets-1.4.0.min.js\", \"https://cdn.pydata.org/bokeh/release/bokeh-tables-1.4.0.min.js\", \"https://cdn.pydata.org/bokeh/release/bokeh-gl-1.4.0.min.js\"];\n",
       "  var css_urls = [];\n",
       "  \n",
       "\n",
       "  var inline_js = [\n",
       "    function(Bokeh) {\n",
       "      Bokeh.set_log_level(\"info\");\n",
       "    },\n",
       "    function(Bokeh) {\n",
       "    \n",
       "    \n",
       "    }\n",
       "  ];\n",
       "\n",
       "  function run_inline_js() {\n",
       "    \n",
       "    if (root.Bokeh !== undefined || force === true) {\n",
       "      \n",
       "    for (var i = 0; i < inline_js.length; i++) {\n",
       "      inline_js[i].call(root, root.Bokeh);\n",
       "    }\n",
       "    if (force === true) {\n",
       "        display_loaded();\n",
       "      }} else if (Date.now() < root._bokeh_timeout) {\n",
       "      setTimeout(run_inline_js, 100);\n",
       "    } else if (!root._bokeh_failed_load) {\n",
       "      console.log(\"Bokeh: BokehJS failed to load within specified timeout.\");\n",
       "      root._bokeh_failed_load = true;\n",
       "    } else if (force !== true) {\n",
       "      var cell = $(document.getElementById(\"15730\")).parents('.cell').data().cell;\n",
       "      cell.output_area.append_execute_result(NB_LOAD_WARNING)\n",
       "    }\n",
       "\n",
       "  }\n",
       "\n",
       "  if (root._bokeh_is_loading === 0) {\n",
       "    console.debug(\"Bokeh: BokehJS loaded, going straight to plotting\");\n",
       "    run_inline_js();\n",
       "  } else {\n",
       "    load_libs(css_urls, js_urls, function() {\n",
       "      console.debug(\"Bokeh: BokehJS plotting callback run at\", now());\n",
       "      run_inline_js();\n",
       "    });\n",
       "  }\n",
       "}(window));"
      ],
      "application/vnd.bokehjs_load.v0+json": "\n(function(root) {\n  function now() {\n    return new Date();\n  }\n\n  var force = true;\n\n  if (typeof root._bokeh_onload_callbacks === \"undefined\" || force === true) {\n    root._bokeh_onload_callbacks = [];\n    root._bokeh_is_loading = undefined;\n  }\n\n  \n\n  \n  if (typeof (root._bokeh_timeout) === \"undefined\" || force === true) {\n    root._bokeh_timeout = Date.now() + 5000;\n    root._bokeh_failed_load = false;\n  }\n\n  var NB_LOAD_WARNING = {'data': {'text/html':\n     \"<div style='background-color: #fdd'>\\n\"+\n     \"<p>\\n\"+\n     \"BokehJS does not appear to have successfully loaded. If loading BokehJS from CDN, this \\n\"+\n     \"may be due to a slow or bad network connection. Possible fixes:\\n\"+\n     \"</p>\\n\"+\n     \"<ul>\\n\"+\n     \"<li>re-rerun `output_notebook()` to attempt to load from CDN again, or</li>\\n\"+\n     \"<li>use INLINE resources instead, as so:</li>\\n\"+\n     \"</ul>\\n\"+\n     \"<code>\\n\"+\n     \"from bokeh.resources import INLINE\\n\"+\n     \"output_notebook(resources=INLINE)\\n\"+\n     \"</code>\\n\"+\n     \"</div>\"}};\n\n  function display_loaded() {\n    var el = document.getElementById(\"15730\");\n    if (el != null) {\n      el.textContent = \"BokehJS is loading...\";\n    }\n    if (root.Bokeh !== undefined) {\n      if (el != null) {\n        el.textContent = \"BokehJS \" + root.Bokeh.version + \" successfully loaded.\";\n      }\n    } else if (Date.now() < root._bokeh_timeout) {\n      setTimeout(display_loaded, 100)\n    }\n  }\n\n\n  function run_callbacks() {\n    try {\n      root._bokeh_onload_callbacks.forEach(function(callback) {\n        if (callback != null)\n          callback();\n      });\n    } finally {\n      delete root._bokeh_onload_callbacks\n    }\n    console.debug(\"Bokeh: all callbacks have finished\");\n  }\n\n  function load_libs(css_urls, js_urls, callback) {\n    if (css_urls == null) css_urls = [];\n    if (js_urls == null) js_urls = [];\n\n    root._bokeh_onload_callbacks.push(callback);\n    if (root._bokeh_is_loading > 0) {\n      console.debug(\"Bokeh: BokehJS is being loaded, scheduling callback at\", now());\n      return null;\n    }\n    if (js_urls == null || js_urls.length === 0) {\n      run_callbacks();\n      return null;\n    }\n    console.debug(\"Bokeh: BokehJS not loaded, scheduling load and callback at\", now());\n    root._bokeh_is_loading = css_urls.length + js_urls.length;\n\n    function on_load() {\n      root._bokeh_is_loading--;\n      if (root._bokeh_is_loading === 0) {\n        console.debug(\"Bokeh: all BokehJS libraries/stylesheets loaded\");\n        run_callbacks()\n      }\n    }\n\n    function on_error() {\n      console.error(\"failed to load \" + url);\n    }\n\n    for (var i = 0; i < css_urls.length; i++) {\n      var url = css_urls[i];\n      const element = document.createElement(\"link\");\n      element.onload = on_load;\n      element.onerror = on_error;\n      element.rel = \"stylesheet\";\n      element.type = \"text/css\";\n      element.href = url;\n      console.debug(\"Bokeh: injecting link tag for BokehJS stylesheet: \", url);\n      document.body.appendChild(element);\n    }\n\n    for (var i = 0; i < js_urls.length; i++) {\n      var url = js_urls[i];\n      var element = document.createElement('script');\n      element.onload = on_load;\n      element.onerror = on_error;\n      element.async = false;\n      element.src = url;\n      console.debug(\"Bokeh: injecting script tag for BokehJS library: \", url);\n      document.head.appendChild(element);\n    }\n  };var element = document.getElementById(\"15730\");\n  if (element == null) {\n    console.error(\"Bokeh: ERROR: autoload.js configured with elementid '15730' but no matching script tag was found. \")\n    return false;\n  }\n\n  function inject_raw_css(css) {\n    const element = document.createElement(\"style\");\n    element.appendChild(document.createTextNode(css));\n    document.body.appendChild(element);\n  }\n\n  \n  var js_urls = [\"https://cdn.pydata.org/bokeh/release/bokeh-1.4.0.min.js\", \"https://cdn.pydata.org/bokeh/release/bokeh-widgets-1.4.0.min.js\", \"https://cdn.pydata.org/bokeh/release/bokeh-tables-1.4.0.min.js\", \"https://cdn.pydata.org/bokeh/release/bokeh-gl-1.4.0.min.js\"];\n  var css_urls = [];\n  \n\n  var inline_js = [\n    function(Bokeh) {\n      Bokeh.set_log_level(\"info\");\n    },\n    function(Bokeh) {\n    \n    \n    }\n  ];\n\n  function run_inline_js() {\n    \n    if (root.Bokeh !== undefined || force === true) {\n      \n    for (var i = 0; i < inline_js.length; i++) {\n      inline_js[i].call(root, root.Bokeh);\n    }\n    if (force === true) {\n        display_loaded();\n      }} else if (Date.now() < root._bokeh_timeout) {\n      setTimeout(run_inline_js, 100);\n    } else if (!root._bokeh_failed_load) {\n      console.log(\"Bokeh: BokehJS failed to load within specified timeout.\");\n      root._bokeh_failed_load = true;\n    } else if (force !== true) {\n      var cell = $(document.getElementById(\"15730\")).parents('.cell').data().cell;\n      cell.output_area.append_execute_result(NB_LOAD_WARNING)\n    }\n\n  }\n\n  if (root._bokeh_is_loading === 0) {\n    console.debug(\"Bokeh: BokehJS loaded, going straight to plotting\");\n    run_inline_js();\n  } else {\n    load_libs(css_urls, js_urls, function() {\n      console.debug(\"Bokeh: BokehJS plotting callback run at\", now());\n      run_inline_js();\n    });\n  }\n}(window));"
     },
     "metadata": {},
     "output_type": "display_data"
    },
    {
     "name": "stderr",
     "output_type": "stream",
     "text": [
      "[Stage 313:===================>                                     (1 + 2) / 3]\r"
     ]
    }
   ],
   "source": [
    "plots = []\n",
    "from bokeh.plotting import figure, show, output_notebook\n",
    "output_notebook()\n",
    "\n",
    "for gene in top_genes:\n",
    "    \n",
    "    gwas_top = gwas.filter(hl.any(gwas.nearest_genes_20kb.contains(gene)))\n",
    "    p_top = gwas_top.P.collect()\n",
    "    p_hist = gwas_top.aggregate(hl.expr.aggregators.hist(hl.float64(gwas_top.P), 0, 1, 100))\n",
    "    \n",
    "    p_values = []\n",
    "    \n",
    "    for p in range(100):\n",
    "        randoms = np.random.randint(len(all_genes), size=1)\n",
    "        genes = [j for i, j in enumerate(all_genes) if i in randoms]\n",
    "\n",
    "        p_value = gwas.filter(hl.any(lambda x: hl.literal(genes).contains(x), gwas.nearest_genes_20kb)).P.collect()\n",
    "\n",
    "        p_values.append(p_value)\n",
    "\n",
    "    y = [float(i) for i in p_top]\n",
    "    y = -np.log10(y)\n",
    "    \n",
    "    hist_top, edge_top = np.histogram(y, bins = 100)\n",
    "    \n",
    "    histograms = []\n",
    "    edges = []\n",
    "\n",
    "    for p in p_values:\n",
    "        x = [float(i) for i in p]\n",
    "        x = -np.log10(x)\n",
    "        hist,edge = np.histogram(x, bins = 50)\n",
    "        histograms.append(hist)\n",
    "        edges.append(edge)\n",
    "\n",
    "    p1 = figure(plot_width=800, plot_height=800, title = gene)\n",
    "\n",
    "    for x in range(100):\n",
    "        p1.quad(\n",
    "            top=np.log10(histograms[x]),\n",
    "            bottom=0,\n",
    "            left=edges[x][:-1],\n",
    "            right=edges[x][1:],\n",
    "            fill_color=colors[100],\n",
    "            line_color=colors[50],\n",
    "            alpha=0.05\n",
    "        )\n",
    "\n",
    "    p1.quad(top=np.log10(hist_top),bottom=0, left=edge_top[:-1], right=edge_top[1:],\n",
    "            fill_color=colors[0], line_color=colors[0], alpha=1)\n",
    "\n",
    "    p1.xaxis.axis_label = '-log10(p_value)'\n",
    "    p1.yaxis.axis_label = 'log10(number of SNPs)'\n",
    "\n",
    "    p1.xaxis.axis_label_text_font_size = \"15pt\"\n",
    "    p1.xaxis.major_label_text_font_size = \"15pt\"\n",
    "    p1.yaxis.axis_label_text_font_size = \"15pt\"\n",
    "    p1.yaxis.major_label_text_font_size = \"15pt\"\n",
    "    \n",
    "    show(p1)\n",
    "    \n",
    "    plots.append(p1)"
   ]
  },
  {
   "cell_type": "code",
   "execution_count": null,
   "id": "09b4e84a-a858-4be3-b088-f24695a4e161",
   "metadata": {},
   "outputs": [],
   "source": [
    "# maybe try qq plots + calculate tons of random lambda GCs (any normalisation? confidence intervals?)"
   ]
  },
  {
   "cell_type": "code",
   "execution_count": 8,
   "id": "32174fde-9fbe-4635-974c-c94c2c2b869d",
   "metadata": {
    "tags": []
   },
   "outputs": [
    {
     "name": "stderr",
     "output_type": "stream",
     "text": [
      "2023-07-06 12:43:47.003 Hail: INFO: Ordering unsorted dataset with network shuffle\n",
      "/net/pr2/projects/plgrid/plggneuromol/imdik-zekanowski-gts/venv-hail-0.2.113/lib/python3.10/site-packages/bokeh/models/sources.py:235: FutureWarning: iteritems is deprecated and will be removed in a future version. Use .items instead.\n",
      "  tmp_data = {c: v.values for c, v in _df.iteritems()}\n",
      "2023-07-06 12:44:16.321 Hail: INFO: Ordering unsorted dataset with network shuffle\n",
      "[Stage 12:======================================>                   (2 + 1) / 3]\r"
     ]
    }
   ],
   "source": [
    "p = hl.plot.qq(hl.float(gwas.P))"
   ]
  },
  {
   "cell_type": "code",
   "execution_count": 9,
   "id": "80fe2f93-2246-492a-8d3b-3e9d088443d1",
   "metadata": {
    "tags": []
   },
   "outputs": [
    {
     "data": {
      "text/html": [
       "\n",
       "\n",
       "\n",
       "\n",
       "\n",
       "\n",
       "  <div class=\"bk-root\" id=\"8a6120f2-301f-4117-ae0b-673414c9789c\" data-root-id=\"1002\"></div>\n"
      ]
     },
     "metadata": {},
     "output_type": "display_data"
    },
    {
     "data": {
      "application/javascript": [
       "(function(root) {\n",
       "  function embed_document(root) {\n",
       "    \n",
       "  var docs_json = {\"d840a467-8c5f-4497-a439-775b42cd0e6f\":{\"roots\":{\"references\":[{\"attributes\":{\"below\":[{\"id\":\"1013\",\"type\":\"LinearAxis\"}],\"center\":[{\"id\":\"1017\",\"type\":\"Grid\"},{\"id\":\"1022\",\"type\":\"Grid\"},{\"id\":\"1046\",\"type\":\"Slope\"},{\"id\":\"1047\",\"type\":\"Label\"}],\"left\":[{\"id\":\"1018\",\"type\":\"LinearAxis\"}],\"plot_height\":800,\"plot_width\":800,\"renderers\":[{\"id\":\"1042\",\"type\":\"GlyphRenderer\"}],\"title\":{\"id\":\"1003\",\"type\":\"Title\"},\"toolbar\":{\"id\":\"1029\",\"type\":\"Toolbar\"},\"x_range\":{\"id\":\"1044\",\"type\":\"DataRange1d\"},\"x_scale\":{\"id\":\"1009\",\"type\":\"LinearScale\"},\"y_range\":{\"id\":\"1045\",\"type\":\"DataRange1d\"},\"y_scale\":{\"id\":\"1011\",\"type\":\"LinearScale\"}},\"id\":\"1002\",\"subtype\":\"Figure\",\"type\":\"Plot\"},{\"attributes\":{\"callback\":null,\"data\":{\"index\":[0,1,2,3,4,5,6,7,8,9,10,11,12,13,14,15,16,17,18,19,20,21,22,23,24,25,26,27,28,29,30,31,32,33,34,35,36,37,38,39,40,41,42,43,44,45,46,47,48,49,50,51,52,53,54,55,56,57,58,59,60,61,62,63,64,65,66,67,68,69,70,71,72,73,74,75,76,77,78,79,80,81,82,83,84,85,86,87,88,89,90,91,92,93,94,95,96,97,98,99,100,101,102,103,104,105,106,107,108,109,110,111,112,113,114,115,116,117,118,119,120,121,122,123,124,125,126,127,128,129,130,131,132,133,134,135,136,137,138,139,140,141,142,143,144,145,146,147,148,149,150,151,152,153,154,155,156,157,158,159,160,161,162,163,164,165,166,167,168,169,170,171,172,173,174,175,176,177,178,179,180,181,182,183,184,185,186,187,188,189,190,191,192,193,194,195,196,197,198,199,200,201,202,203,204,205,206,207,208,209,210,211,212,213,214,215,216,217,218,219,220,221,222,223,224,225,226,227,228,229,230,231,232,233,234,235,236,237,238,239,240,241,242,243,244,245,246,247,248,249,250,251,252,253,254,255,256,257,258,259,260,261,262,263,264,265,266,267,268,269,270,271,272,273,274,275,276,277,278,279,280,281,282,283,284,285,286,287,288,289,290,291,292,293,294,295,296,297,298,299,300,301,302,303,304,305,306,307,308,309,310,311,312,313,314,315,316,317,318,319,320,321,322,323,324,325,326,327,328,329,330,331,332,333,334,335,336,337,338,339,340,341,342,343,344,345,346,347,348,349,350,351,352,353,354,355,356,357,358,359,360,361,362,363,364,365,366,367,368,369,370,371,372,373,374,375,376,377,378,379,380,381,382,383,384,385,386,387,388,389,390,391,392,393,394,395,396,397,398,399,400,401,402,403,404,405,406,407,408,409,410,411,412,413,414,415,416,417,418,419,420,421,422,423,424,425,426,427,428,429,430,431,432,433,434,435,436,437,438,439,440,441,442,443,444,445,446,447,448,449,450,451,452,453,454,455,456,457,458,459,460,461,462,463,464,465,466,467,468,469,470,471,472,473,474,475,476,477,478,479,480,481,482,483,484,485,486,487,488,489,490,491,492,493,494,495,496,497,498,499,500,501,502,503,504,505,506,507,508,509,510,511,512,513,514,515,516,517,518,519,520,521,522,523,524,525,526,527,528,529,530,531,532,533,534,535,536,537,538,539,540,541,542,543,544,545,546,547,548,549,550,551,552,553,554,555,556,557,558,559,560,561,562,563,564,565,566,567,568,569,570,571,572,573,574,575,576,577,578,579,580,581,582,583,584,585,586,587,588,589,590,591,592,593,594,595,596,597,598,599,600,601,602,603,604,605,606,607,608,609,610,611,612,613,614,615,616,617,618],\"p_value\":{\"__ndarray__\":\"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\",\"dtype\":\"float64\",\"shape\":[619]},\"x\":{\"__ndarray__\":\"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\",\"dtype\":\"float64\",\"shape\":[619]},\"y\":{\"__ndarray__\":\"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\",\"dtype\":\"float64\",\"shape\":[619]}},\"selected\":{\"id\":\"1054\",\"type\":\"Selection\"},\"selection_policy\":{\"id\":\"1053\",\"type\":\"UnionRenderers\"}},\"id\":\"1038\",\"type\":\"ColumnDataSource\"},{\"attributes\":{},\"id\":\"1052\",\"type\":\"BasicTickFormatter\"},{\"attributes\":{\"text\":\"\\u03bb GC: 1.08\",\"text_color\":{\"value\":\"black\"},\"text_font_size\":{\"value\":\"14pt\"},\"text_font_style\":\"bold\",\"x\":6.5240101732174915,\"y\":1},\"id\":\"1047\",\"type\":\"Label\"},{\"attributes\":{},\"id\":\"1053\",\"type\":\"UnionRenderers\"},{\"attributes\":{\"fill_alpha\":{\"value\":0.1},\"fill_color\":{\"value\":\"#1f77b4\"},\"line_alpha\":{\"value\":0.1},\"line_color\":{\"value\":\"#1f77b4\"},\"size\":{\"units\":\"screen\",\"value\":6},\"x\":{\"field\":\"x\"},\"y\":{\"field\":\"y\"}},\"id\":\"1041\",\"type\":\"Circle\"},{\"attributes\":{\"overlay\":{\"id\":\"1055\",\"type\":\"BoxAnnotation\"}},\"id\":\"1025\",\"type\":\"BoxZoomTool\"},{\"attributes\":{\"gradient\":1,\"line_color\":{\"value\":\"red\"},\"y_intercept\":0},\"id\":\"1046\",\"type\":\"Slope\"},{\"attributes\":{\"callback\":null,\"tooltips\":[[\"x\",\"@x\"],[\"y\",\"@y\"],[\"p_value\",\"@p_value\"]]},\"id\":\"1037\",\"type\":\"HoverTool\"},{\"attributes\":{},\"id\":\"1011\",\"type\":\"LinearScale\"},{\"attributes\":{\"source\":{\"id\":\"1038\",\"type\":\"ColumnDataSource\"}},\"id\":\"1043\",\"type\":\"CDSView\"},{\"attributes\":{\"dimension\":1,\"ticker\":{\"id\":\"1019\",\"type\":\"BasicTicker\"}},\"id\":\"1022\",\"type\":\"Grid\"},{\"attributes\":{},\"id\":\"1023\",\"type\":\"PanTool\"},{\"attributes\":{},\"id\":\"1019\",\"type\":\"BasicTicker\"},{\"attributes\":{},\"id\":\"1054\",\"type\":\"Selection\"},{\"attributes\":{\"text\":\"Q-Q plot\"},\"id\":\"1003\",\"type\":\"Title\"},{\"attributes\":{\"data_source\":{\"id\":\"1038\",\"type\":\"ColumnDataSource\"},\"glyph\":{\"id\":\"1040\",\"type\":\"Circle\"},\"hover_glyph\":null,\"muted_glyph\":null,\"nonselection_glyph\":{\"id\":\"1041\",\"type\":\"Circle\"},\"selection_glyph\":null,\"view\":{\"id\":\"1043\",\"type\":\"CDSView\"}},\"id\":\"1042\",\"type\":\"GlyphRenderer\"},{\"attributes\":{\"ticker\":{\"id\":\"1014\",\"type\":\"BasicTicker\"}},\"id\":\"1017\",\"type\":\"Grid\"},{\"attributes\":{\"callback\":null,\"end\":8.675306086138225,\"start\":0},\"id\":\"1045\",\"type\":\"DataRange1d\"},{\"attributes\":{\"axis_label\":\"Observed -log10(p)\",\"formatter\":{\"id\":\"1050\",\"type\":\"BasicTickFormatter\"},\"ticker\":{\"id\":\"1019\",\"type\":\"BasicTicker\"}},\"id\":\"1018\",\"type\":\"LinearAxis\"},{\"attributes\":{\"fill_color\":{\"value\":\"#1f77b4\"},\"line_color\":{\"value\":\"#1f77b4\"},\"size\":{\"units\":\"screen\",\"value\":6},\"x\":{\"field\":\"x\"},\"y\":{\"field\":\"y\"}},\"id\":\"1040\",\"type\":\"Circle\"},{\"attributes\":{\"axis_label\":\"Expected -log10(p)\",\"formatter\":{\"id\":\"1052\",\"type\":\"BasicTickFormatter\"},\"ticker\":{\"id\":\"1014\",\"type\":\"BasicTicker\"}},\"id\":\"1013\",\"type\":\"LinearAxis\"},{\"attributes\":{},\"id\":\"1050\",\"type\":\"BasicTickFormatter\"},{\"attributes\":{},\"id\":\"1014\",\"type\":\"BasicTicker\"},{\"attributes\":{\"callback\":null,\"end\":8.675306086138225,\"start\":0},\"id\":\"1044\",\"type\":\"DataRange1d\"},{\"attributes\":{},\"id\":\"1027\",\"type\":\"ResetTool\"},{\"attributes\":{\"bottom_units\":\"screen\",\"fill_alpha\":{\"value\":0.5},\"fill_color\":{\"value\":\"lightgrey\"},\"left_units\":\"screen\",\"level\":\"overlay\",\"line_alpha\":{\"value\":1.0},\"line_color\":{\"value\":\"black\"},\"line_dash\":[4,4],\"line_width\":{\"value\":2},\"render_mode\":\"css\",\"right_units\":\"screen\",\"top_units\":\"screen\"},\"id\":\"1055\",\"type\":\"BoxAnnotation\"},{\"attributes\":{},\"id\":\"1024\",\"type\":\"WheelZoomTool\"},{\"attributes\":{},\"id\":\"1028\",\"type\":\"HelpTool\"},{\"attributes\":{},\"id\":\"1026\",\"type\":\"SaveTool\"},{\"attributes\":{\"active_drag\":\"auto\",\"active_inspect\":\"auto\",\"active_multi\":null,\"active_scroll\":\"auto\",\"active_tap\":\"auto\",\"tools\":[{\"id\":\"1023\",\"type\":\"PanTool\"},{\"id\":\"1024\",\"type\":\"WheelZoomTool\"},{\"id\":\"1025\",\"type\":\"BoxZoomTool\"},{\"id\":\"1026\",\"type\":\"SaveTool\"},{\"id\":\"1027\",\"type\":\"ResetTool\"},{\"id\":\"1028\",\"type\":\"HelpTool\"},{\"id\":\"1037\",\"type\":\"HoverTool\"}]},\"id\":\"1029\",\"type\":\"Toolbar\"},{\"attributes\":{},\"id\":\"1009\",\"type\":\"LinearScale\"}],\"root_ids\":[\"1002\"]},\"title\":\"Bokeh Application\",\"version\":\"1.4.0\"}};\n",
       "  var render_items = [{\"docid\":\"d840a467-8c5f-4497-a439-775b42cd0e6f\",\"roots\":{\"1002\":\"8a6120f2-301f-4117-ae0b-673414c9789c\"}}];\n",
       "  root.Bokeh.embed.embed_items_notebook(docs_json, render_items);\n",
       "\n",
       "  }\n",
       "  if (root.Bokeh !== undefined) {\n",
       "    embed_document(root);\n",
       "  } else {\n",
       "    var attempts = 0;\n",
       "    var timer = setInterval(function(root) {\n",
       "      if (root.Bokeh !== undefined) {\n",
       "        clearInterval(timer);\n",
       "        embed_document(root);\n",
       "      } else {\n",
       "        attempts++;\n",
       "        if (attempts > 100) {\n",
       "          clearInterval(timer);\n",
       "          console.log(\"Bokeh: ERROR: Unable to run BokehJS code because BokehJS library is missing\");\n",
       "        }\n",
       "      }\n",
       "    }, 10, root)\n",
       "  }\n",
       "})(window);"
      ],
      "application/vnd.bokehjs_exec.v0+json": ""
     },
     "metadata": {
      "application/vnd.bokehjs_exec.v0+json": {
       "id": "1002"
      }
     },
     "output_type": "display_data"
    }
   ],
   "source": [
    "show(p)"
   ]
  },
  {
   "cell_type": "code",
   "execution_count": 19,
   "id": "10115c6d-aa8f-4841-b3dd-05dd11dab2a5",
   "metadata": {
    "tags": []
   },
   "outputs": [],
   "source": [
    "top_genes = ['CHADL','DRD2', 'MAOA', 'PCDH10', 'HTR2A', 'SLITRK5', 'SORCS3', 'KCNQ5', 'CDH9', 'CHD8']"
   ]
  },
  {
   "cell_type": "code",
   "execution_count": 20,
   "id": "a0964a33-b2bf-40c3-99d5-99fe93bf91f3",
   "metadata": {
    "tags": []
   },
   "outputs": [],
   "source": [
    "gwas_top = gwas.filter(hl.any(lambda x: hl.literal(top_genes).contains(x), gwas.nearest_genes_20kb))"
   ]
  },
  {
   "cell_type": "code",
   "execution_count": 21,
   "id": "88f9a4a8-2c60-46fb-8c22-543863d3714f",
   "metadata": {
    "tags": []
   },
   "outputs": [
    {
     "name": "stderr",
     "output_type": "stream",
     "text": [
      "2023-07-06 12:46:40.222 Hail: INFO: Ordering unsorted dataset with network shuffle\n",
      "/net/pr2/projects/plgrid/plggneuromol/imdik-zekanowski-gts/venv-hail-0.2.113/lib/python3.10/site-packages/bokeh/models/sources.py:235: FutureWarning: iteritems is deprecated and will be removed in a future version. Use .items instead.\n",
      "  tmp_data = {c: v.values for c, v in _df.iteritems()}\n",
      "2023-07-06 12:46:44.468 Hail: INFO: Ordering unsorted dataset with network shuffle\n",
      "[Stage 46:======================================>                   (2 + 1) / 3]\r"
     ]
    }
   ],
   "source": [
    "p2 = hl.plot.qq(hl.float(gwas_top.P))"
   ]
  },
  {
   "cell_type": "code",
   "execution_count": 22,
   "id": "0317b1b0-b405-4d4a-8464-b8243fa1268a",
   "metadata": {
    "tags": []
   },
   "outputs": [
    {
     "data": {
      "text/html": [
       "\n",
       "\n",
       "\n",
       "\n",
       "\n",
       "\n",
       "  <div class=\"bk-root\" id=\"f0206be2-d1f5-4342-aa3e-40cbbb73bfc6\" data-root-id=\"1332\"></div>\n"
      ]
     },
     "metadata": {},
     "output_type": "display_data"
    },
    {
     "data": {
      "application/javascript": [
       "(function(root) {\n",
       "  function embed_document(root) {\n",
       "    \n",
       "  var docs_json = {\"237a7df1-f196-4558-872d-ef9becd8856a\":{\"roots\":{\"references\":[{\"attributes\":{\"below\":[{\"id\":\"1343\",\"type\":\"LinearAxis\"}],\"center\":[{\"id\":\"1347\",\"type\":\"Grid\"},{\"id\":\"1352\",\"type\":\"Grid\"},{\"id\":\"1376\",\"type\":\"Slope\"},{\"id\":\"1377\",\"type\":\"Label\"}],\"left\":[{\"id\":\"1348\",\"type\":\"LinearAxis\"}],\"plot_height\":800,\"plot_width\":800,\"renderers\":[{\"id\":\"1372\",\"type\":\"GlyphRenderer\"}],\"title\":{\"id\":\"1333\",\"type\":\"Title\"},\"toolbar\":{\"id\":\"1359\",\"type\":\"Toolbar\"},\"x_range\":{\"id\":\"1374\",\"type\":\"DataRange1d\"},\"x_scale\":{\"id\":\"1339\",\"type\":\"LinearScale\"},\"y_range\":{\"id\":\"1375\",\"type\":\"DataRange1d\"},\"y_scale\":{\"id\":\"1341\",\"type\":\"LinearScale\"}},\"id\":\"1332\",\"subtype\":\"Figure\",\"type\":\"Plot\"},{\"attributes\":{\"fill_alpha\":{\"value\":0.1},\"fill_color\":{\"value\":\"#1f77b4\"},\"line_alpha\":{\"value\":0.1},\"line_color\":{\"value\":\"#1f77b4\"},\"size\":{\"units\":\"screen\",\"value\":6},\"x\":{\"field\":\"x\"},\"y\":{\"field\":\"y\"}},\"id\":\"1371\",\"type\":\"Circle\"},{\"attributes\":{\"axis_label\":\"Observed -log10(p)\",\"formatter\":{\"id\":\"1404\",\"type\":\"BasicTickFormatter\"},\"ticker\":{\"id\":\"1349\",\"type\":\"BasicTicker\"}},\"id\":\"1348\",\"type\":\"LinearAxis\"},{\"attributes\":{},\"id\":\"1356\",\"type\":\"SaveTool\"},{\"attributes\":{\"fill_color\":{\"value\":\"#1f77b4\"},\"line_color\":{\"value\":\"#1f77b4\"},\"size\":{\"units\":\"screen\",\"value\":6},\"x\":{\"field\":\"x\"},\"y\":{\"field\":\"y\"}},\"id\":\"1370\",\"type\":\"Circle\"},{\"attributes\":{},\"id\":\"1358\",\"type\":\"HelpTool\"},{\"attributes\":{},\"id\":\"1406\",\"type\":\"BasicTickFormatter\"},{\"attributes\":{},\"id\":\"1404\",\"type\":\"BasicTickFormatter\"},{\"attributes\":{\"text\":\"Q-Q plot\"},\"id\":\"1333\",\"type\":\"Title\"},{\"attributes\":{},\"id\":\"1344\",\"type\":\"BasicTicker\"},{\"attributes\":{},\"id\":\"1354\",\"type\":\"WheelZoomTool\"},{\"attributes\":{\"active_drag\":\"auto\",\"active_inspect\":\"auto\",\"active_multi\":null,\"active_scroll\":\"auto\",\"active_tap\":\"auto\",\"tools\":[{\"id\":\"1353\",\"type\":\"PanTool\"},{\"id\":\"1354\",\"type\":\"WheelZoomTool\"},{\"id\":\"1355\",\"type\":\"BoxZoomTool\"},{\"id\":\"1356\",\"type\":\"SaveTool\"},{\"id\":\"1357\",\"type\":\"ResetTool\"},{\"id\":\"1358\",\"type\":\"HelpTool\"},{\"id\":\"1367\",\"type\":\"HoverTool\"}]},\"id\":\"1359\",\"type\":\"Toolbar\"},{\"attributes\":{\"data_source\":{\"id\":\"1368\",\"type\":\"ColumnDataSource\"},\"glyph\":{\"id\":\"1370\",\"type\":\"Circle\"},\"hover_glyph\":null,\"muted_glyph\":null,\"nonselection_glyph\":{\"id\":\"1371\",\"type\":\"Circle\"},\"selection_glyph\":null,\"view\":{\"id\":\"1373\",\"type\":\"CDSView\"}},\"id\":\"1372\",\"type\":\"GlyphRenderer\"},{\"attributes\":{\"callback\":null,\"end\":6.249954687988232,\"start\":0},\"id\":\"1375\",\"type\":\"DataRange1d\"},{\"attributes\":{\"ticker\":{\"id\":\"1344\",\"type\":\"BasicTicker\"}},\"id\":\"1347\",\"type\":\"Grid\"},{\"attributes\":{},\"id\":\"1353\",\"type\":\"PanTool\"},{\"attributes\":{\"axis_label\":\"Expected -log10(p)\",\"formatter\":{\"id\":\"1406\",\"type\":\"BasicTickFormatter\"},\"ticker\":{\"id\":\"1344\",\"type\":\"BasicTicker\"}},\"id\":\"1343\",\"type\":\"LinearAxis\"},{\"attributes\":{\"callback\":null,\"end\":6.249954687988232,\"start\":0},\"id\":\"1374\",\"type\":\"DataRange1d\"},{\"attributes\":{\"callback\":null,\"tooltips\":[[\"x\",\"@x\"],[\"y\",\"@y\"],[\"p_value\",\"@p_value\"]]},\"id\":\"1367\",\"type\":\"HoverTool\"},{\"attributes\":{\"bottom_units\":\"screen\",\"fill_alpha\":{\"value\":0.5},\"fill_color\":{\"value\":\"lightgrey\"},\"left_units\":\"screen\",\"level\":\"overlay\",\"line_alpha\":{\"value\":1.0},\"line_color\":{\"value\":\"black\"},\"line_dash\":[4,4],\"line_width\":{\"value\":2},\"render_mode\":\"css\",\"right_units\":\"screen\",\"top_units\":\"screen\"},\"id\":\"1409\",\"type\":\"BoxAnnotation\"},{\"attributes\":{\"gradient\":1,\"line_color\":{\"value\":\"red\"},\"y_intercept\":0},\"id\":\"1376\",\"type\":\"Slope\"},{\"attributes\":{},\"id\":\"1341\",\"type\":\"LinearScale\"},{\"attributes\":{},\"id\":\"1408\",\"type\":\"Selection\"},{\"attributes\":{\"dimension\":1,\"ticker\":{\"id\":\"1349\",\"type\":\"BasicTicker\"}},\"id\":\"1352\",\"type\":\"Grid\"},{\"attributes\":{},\"id\":\"1339\",\"type\":\"LinearScale\"},{\"attributes\":{},\"id\":\"1407\",\"type\":\"UnionRenderers\"},{\"attributes\":{\"text\":\"\\u03bb GC: 1.34\",\"text_color\":{\"value\":\"red\"},\"text_font_size\":{\"value\":\"14pt\"},\"text_font_style\":\"bold\",\"x\":4.462461484789998,\"y\":1},\"id\":\"1377\",\"type\":\"Label\"},{\"attributes\":{},\"id\":\"1357\",\"type\":\"ResetTool\"},{\"attributes\":{\"source\":{\"id\":\"1368\",\"type\":\"ColumnDataSource\"}},\"id\":\"1373\",\"type\":\"CDSView\"},{\"attributes\":{\"overlay\":{\"id\":\"1409\",\"type\":\"BoxAnnotation\"}},\"id\":\"1355\",\"type\":\"BoxZoomTool\"},{\"attributes\":{},\"id\":\"1349\",\"type\":\"BasicTicker\"},{\"attributes\":{\"callback\":null,\"data\":{\"index\":[0,1,2,3,4,5,6,7,8,9,10,11,12,13,14,15,16,17,18,19,20,21,22,23,24,25,26,27,28,29,30,31,32,33,34,35,36,37,38,39,40,41,42,43,44,45,46,47,48,49,50,51,52,53,54,55,56,57,58,59,60,61,62,63,64,65,66,67,68,69,70,71,72,73,74,75,76,77,78,79,80,81,82,83,84,85,86,87,88,89,90,91,92,93,94,95,96,97,98,99,100,101,102,103,104,105,106,107,108,109,110,111,112,113,114,115,116,117,118,119,120,121,122,123,124,125,126,127,128,129,130,131,132,133,134,135,136,137,138,139,140,141,142,143,144,145,146,147,148,149,150,151,152,153,154,155,156,157,158,159,160,161,162,163,164,165,166,167,168,169,170,171,172,173,174,175,176,177,178,179,180,181,182,183,184,185,186,187,188,189,190,191,192,193,194,195,196,197,198,199,200,201,202,203,204,205,206,207,208,209,210,211,212,213,214,215,216,217,218,219,220,221,222,223,224,225,226,227,228,229,230,231,232,233,234,235,236,237,238,239,240,241,242,243,244,245,246,247,248,249,250,251,252,253,254,255,256,257,258,259,260,261,262,263,264,265,266,267,268,269,270,271,272,273,274,275,276,277,278,279,280,281,282,283,284,285,286,287,288,289,290,291,292,293,294,295,296,297,298,299,300,301,302,303,304,305,306,307,308,309,310,311,312,313,314,315,316,317,318,319,320,321,322,323,324,325,326,327,328,329,330,331,332,333,334,335,336,337,338,339,340,341,342,343,344,345,346,347,348,349,350,351,352,353,354,355,356,357,358,359,360,361,362,363,364,365,366,367,368,369,370,371,372,373,374,375,376,377,378,379,380,381,382,383,384,385,386,387,388,389,390,391,392,393,394,395,396,397,398,399,400,401,402,403,404,405,406,407,408,409,410,411,412,413,414,415,416,417,418,419,420,421,422,423,424,425,426,427,428,429,430,431,432,433,434,435,436,437,438,439,440,441,442,443,444,445,446,447,448,449,450],\"p_value\":{\"__ndarray__\":\"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\",\"dtype\":\"float64\",\"shape\":[451]},\"x\":{\"__ndarray__\":\"gjp+Hl/PLD8er6eyCcl/P3io2dZ0y4g/2fnAt/aUkD8GVPaHoCuXP7gzl/7U4Zc/sVvzcKEQoT9WaPE3soikPxuf5XvMzqY/JDoJW8Dupz9GfOMCLG2rP+O8jMX+Yq0/ma2udPIPrz9oZMLOoBKxP405I1zY3LE/fXn8wZ20sz9/YPltqki1P/scACOTILY/8RQtclHbtz8LR4wirmC5P4h0Cr0yFro/FsuM7nVNuz8D/hc2Piu8P1CX4WHECr0/pWgJgQ/svT+Ghaei01q/P+sggmqcE8A/lAI/jFehwD+1xHEf1g/BPyfeT+Z7gsE//24p2NxFwj+fF8F246bCP4rXRKEzMcM/KpIumPJqwz9tvWkV2CrEP/xI39E+j8Q/1nXu7+shxT8dtrwauV3FP8kiFRz6OcY/ZnyQ/k1Ixj8S0B9w4orHP8P6C0yrWcg/ePqi1C4gyT/HIgO5Z3PJP+wsvFpgMso/a5h6VheLyj9vDZHS4h7LP411NLmmWcs/z/n8mFMbzD+x6O3DCATNP7zQgS+LLM0/RXefpWJLzj/kbwkpRiTPP8SyWTfPfM8/lcHWcUD8zz/5hPtfoiTQP+PY4GXHa9A/GdnDCm2Z0D+WTg0b8w3RP5+HGf4MLdE/qsFQye1k0T9ZIG+z2uzRPxtA/N13YtI/fdEvvfix0j+fITU9yt7SP35NfbR9NNM/KwHwC+pa0z9Argtz9KXTP3ipHo/k0dM/lvWqk2dI1D+na6IE2GPUP/jAEol1jtQ/X23ZAY7p1D+Aa/aT8TjVPyKUXLEoUNU/E2KPSxie1T87LC1SIsDVP9NijCGJ79U/esBRTpM81j+X9laccGfWPxzDgSzv29Y/VLkgvAUQ1z9K2K/38z7XP7p3vuL7cNc/umC2LM2r1z+uvhkZHdbXP//kKXazU9g/4vbPcMZq2D9QajscNbnYPyFueRmd0Ng/G6NcQhQp2T/yS3tR0EbZP4EuT+XAndk/O9jkARwz2j/BtBYAfpnaP7PreHYd1do/42T8Dvcd2z9ZAmnCgFfbPzLsqab0vts//xF3oUAK3D/sD20vjC7cPzyc9LFiftw/IdqQS2tz3T9mib20LPHdP1m01ScMGN4/AtsbFgVq3j/cDACX8rzeP0zqivbz5N4/LVltIQxi3z8aoQuOuo7fP8tDwUaa3d8/BZZLsKst4D8ro5eMrkjgP1sA9FzCaeA/c/uOjt6o4D+wl53HEeXgP+xEYQEY5+A/OjtMWT8g4T+tBA3ctWLhPypbL7YIoOE/O9RnSHCm4T+JG5FjQ9zhPwHw3QiHA+I/tb6MxLwb4j+7lK5fYVPiP2FZBKDeV+I/bcYVS1KX4j+/6uqR+8niP0o1VRGZ1eI/DFjptp0S4z8gWD/ZGBzjP+1vNvOyUOM/ZT6xtnFm4z+BMyr7bo3jP7HQ7Aw5y+M/zDBLtBoK5D88E4XjX0LkP4En1z8LhuQ/ZjbWy/y65D9tNFhuAwHlP3tcqO+TGeU/eKbFrVw95T8yzelakX3lP4hKtf+isOU/Wrkm58345T/QCYvoNRDmP40OfsmTNuY/OzzZ7F1j5j9lnHFGbHLmPyS30g9dsuY/3T1ncoO45j/Ou8W8WPDmP2ktZexiHOc/5EYeez8s5z/cXQNGfF/nP1wjk9csaec//0UL+Smn5z9hORODQObnP6M45D3pB+g/aJZuzhEj6D8h8VHRT0XoPx2udeLxYOg/Jc4ovE+O6D/+Fy1V6p/oP5wx57xt3Og/Yul1M/0Z6T+JcJQpoljpP/1785FmmOk/H/JSsHrV6T9FUQKUavTpPwic7/CfE+o/3LZLjuNO6j++gqNC/HrqPy7ufxw2j+o/qUc4qZbM6j8/zHgLCwvrP4warBZXRus/uvuhLf2G6z/gfrgPaMTrP0uZX/xm/us/aSXmU5Ei7D/7Ncdf7z3sPz/bjopiZ+w/z/Znl/Z57D85Pawdw7vsP4wCkXUl9ew/Y2D9BWA07T+fOAqB5FbtP+5pj3i/dO0/+eG7jDix7T/0m/vl2M/tP1BYfVO97u0//eqkOFct7j8SN5KPX1LuP9gcFIm1Z+4/OLJfyX6o7j9L6jbl7+TuP5WX3tuZ9e4/wUp7bGwi7z9tITTH/WDvPycvvd6toO8/flVBvx+47z9ibg5hldvvPxQU9GVm/+8/Xti9MsMO8D9ufVuNRi3wP50azlOINvA/SpufPFJM8D+XHupQYWLwP9gTora7aPA/LlCT/NeI8D8z0+rCq5/wPx+YNkc/pvA/dThcFnW98D/Z3MaAf8fwP0eS+Pb25fA/m1NIeM7s8D+fhLNW9gTxPyyRHnKCJPE/haEIwZgr8T8vhcl0B0HxP0WYNMzXS/E/IK0OfKth8T96UNsCMn/xPwtTbh5livE/fpwhHTid8T+BKEaL6bfxPy29ydbq1vE/hKyfzNTa8T+5OpfvePbxP4kyNdl0+vE/uc68cKca8j9UAsQoUDfyP4Cx+VGkWPI/lr8vK9pc8j9O7JZjU3byP13c+GqDlPI/LjHjujud8j/wHQTcOLPyP7DpUfj4zfI/LqywZnjS8j9O81X7RvLyP8cJW8+pEvM/jLf2oVYX8z8c/f1i5i7zP5z2MxvHRvM/nuPeWmtQ8z/xYTNmqW3zP8/6rBR3fPM/d5NvkGSL8z98z4UaoanzP7RAy8zSs/M/qIrmfWPI8z/HKXFX+NfzP/5TenCw5/M/RP/26IwH9D8213tfiyL0Pz73mSP+J/Q/pVPDxnxD9D+vEDnqaV/0P37kXU8NZfQ/Nu/Bt4OB9D+Pbr09B430Pw0cfyVIpPQ/TkvCZ8jB9D/etuUGyN/0P7nlKILs6/Q/7luDYUv+9D+k5FvUpQr1P8l5xxBXHfU/tFOCHjsw9T84BJrs7zz1P61OGRSgVvU/CG8oEBtd9T8u6Q0dnGP1P552XhtEd/U/y3ja3t199T9Zu+5UhJj1P1HZQUf+pfU/TWY2tGa69T8eY9sq+9X1Py6YLUvz6vU/lQhthhH59T+9g2IypRX2P11pyZQbJPY/oIs2ULAy9j/6LgPXNlD2P+aU6jysV/Y//npJ8Txu9j+zVzfeF4X2Pw82eQDHjPY/ouVQ8j6c9j8Di8eg2av2PwgRXa15y/Y/nSJ4YXjT9j85reRErOv2P6cEhs52DPc/Fp5X/94t9z99+8lgUjb3P87KvjdYR/c/QP2tKYhY9z8GJ+sI42n3P+dYAa5pe/c/b/wrsD2E9z9KF2iU/6f3P87Rfc9Lw/c/Z7gD9ATf9z8WFH42qwT4PzcbBv40Dvg/HsIGL3Ah+D+tRSfiISv4P3BAWzquPvg/93GXZGlc+D/8ra3upXr4PxtJ3F0Yj/g/J2kOUmiZ+D9+MqJEtbj4PwSXnKbizfg/xN0evZHY+D++1cH3Avn4P373wSX5Dvk/Hd16ew4a+T9yA5Qfujv5P7bN6YuIUvk/h+6my6Jp+T+N+qb5THX5Px1ArrrcjPk/XpUN28yw+T8f8lKwetX5P15/DSjg4fk/SVjv5Fvu+T99EjZylwf6P4hNUOQfLvo/Bj5XGig7+j8eVYbvSEj6Py/f5d1CcPo/Mblg7sl9+j/NRF6Ia4v6P55BA///pvo/Rv/utPO0+j9+Jw6nA8P6P5zykUgw0fo/NzJyD3rf+j8/zHgLCwv7P2VzEhGxKPs/z1k2vddG+z8dPKZ/g2X7P8Uy7AO5hPs/HQGgNX2k+z+ukclrlrT7P7XMD0XVxPs/n7kOczrV+z9Z/p6sevb7P06p5gtdGPw/hgUT3ec6/D8cVxrMIV78P6+moaACcPw/Xax57BGC/D9OsKWjUJT8Px4Jv8G/pvw/jHRGSmC5/D//vflIM8z8P7f5LdI53/w/nqAuA3Xy/D+u3qEC5gX9Px5s8gCOGf0/dlC/OG4t/T8u9lHvh0H9P7P9GnXcVf0/p0c2Jm1q/T8FuPZqO3/9P34+erhIlP0/RLxGkZap/T9EbPCFJr/9P527ok8T6/0/rs2IknMB/j/OcKLOHBj+PwzZzs1RRv4/nB7WjuFd/j8cGAxHwnX+P5/QeoR/pv4/yTYXuWC//j/98F1GnNj+Px5o6sU08v4/hhx/7iwM/z+vvQ2yR0H/P00jhlxwXP8/HiAr0wR4/z/+BTZ7CJT/P7YQmuN+sP8/LTu7x2vN/z8dg14S0+r/PxezbHBcBABAWYpDw5ATAEBGUEXICCMAQL8q8+TGMgBAF7j4n81CAEAPTJujH1MAQGxuY8C/YwBA50MH8LB0AEADcp1Y9oUAQM4aIVCTlwBAb8VQYIupAEDPc/NK4rsAQD/OkA6czgBAjz+r67zhAEBPJY1qSfUAQFfqvGFGCQFAExMv/bgdAUB/DlHGpjIBQGIlDK0VSAFADk3lEQxeAUCnJ2XRkHQBQMZb+1CriwFATvuZjWOjAUCPV1EswrsBQL7nQo3Q1AFAg31T4ZjuAUAXzhpDJgkCQE9/qdOEJAJAm/fg28FAAkDPMEPz610CQJl5Vy0TfAJA/xkHT0mbAkBPO68NorsCQCczG1oz3QJADgo1uhUAA0APYwe1ZCQDQM8uv1U/SgNAl9nQy8hxA0C//WQwKZsDQE48+XuOxgNABksPuy30A0DPRmWWRCQEQMNsZ0sbVwRAj269PQeNBEAOIFddbsYEQD8JG7nLAwVAZyIvxLVFBUBPUhsf54wFQNfI5DVL2gVAjisN5hAvBkAPNnkAx4wGQM9d0aeJ9QZAfvguI05sB0CPQS+JafUHQM4aIVCTlwhADk3lEQxeCUDPMEPz610KQE48+XuOxgtAjisN5hAvDkA=\",\"dtype\":\"float64\",\"shape\":[451]},\"y\":{\"__ndarray__\":\"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\",\"dtype\":\"float64\",\"shape\":[451]}},\"selected\":{\"id\":\"1408\",\"type\":\"Selection\"},\"selection_policy\":{\"id\":\"1407\",\"type\":\"UnionRenderers\"}},\"id\":\"1368\",\"type\":\"ColumnDataSource\"}],\"root_ids\":[\"1332\"]},\"title\":\"Bokeh Application\",\"version\":\"1.4.0\"}};\n",
       "  var render_items = [{\"docid\":\"237a7df1-f196-4558-872d-ef9becd8856a\",\"roots\":{\"1332\":\"f0206be2-d1f5-4342-aa3e-40cbbb73bfc6\"}}];\n",
       "  root.Bokeh.embed.embed_items_notebook(docs_json, render_items);\n",
       "\n",
       "  }\n",
       "  if (root.Bokeh !== undefined) {\n",
       "    embed_document(root);\n",
       "  } else {\n",
       "    var attempts = 0;\n",
       "    var timer = setInterval(function(root) {\n",
       "      if (root.Bokeh !== undefined) {\n",
       "        clearInterval(timer);\n",
       "        embed_document(root);\n",
       "      } else {\n",
       "        attempts++;\n",
       "        if (attempts > 100) {\n",
       "          clearInterval(timer);\n",
       "          console.log(\"Bokeh: ERROR: Unable to run BokehJS code because BokehJS library is missing\");\n",
       "        }\n",
       "      }\n",
       "    }, 10, root)\n",
       "  }\n",
       "})(window);"
      ],
      "application/vnd.bokehjs_exec.v0+json": ""
     },
     "metadata": {
      "application/vnd.bokehjs_exec.v0+json": {
       "id": "1332"
      }
     },
     "output_type": "display_data"
    }
   ],
   "source": [
    "show(p2)"
   ]
  },
  {
   "cell_type": "code",
   "execution_count": 23,
   "id": "18d19d17-fa73-4b01-a979-4e622f9af66c",
   "metadata": {
    "tags": []
   },
   "outputs": [
    {
     "name": "stderr",
     "output_type": "stream",
     "text": [
      "[Stage 50:======================================>                   (2 + 1) / 3]\r"
     ]
    },
    {
     "data": {
      "text/plain": [
       "{<FrozenList(frozen=True, ['CHADL', 'L3MBTL2'])>: 8,\n",
       " <FrozenList(frozen=True, ['CHADL', 'L3MBTL2', 'RANGAP1'])>: 2}"
      ]
     },
     "execution_count": 23,
     "metadata": {},
     "output_type": "execute_result"
    }
   ],
   "source": [
    "gwas_top.aggregate(hl.agg.filter(hl.float(gwas_top.P) < 0.00001, hl.agg.counter(gwas_top.nearest_genes_20kb)))"
   ]
  },
  {
   "cell_type": "code",
   "execution_count": null,
   "id": "d7094a6d-f831-4e65-8bcc-835eca4ddc56",
   "metadata": {},
   "outputs": [],
   "source": [
    "#check where these variants are"
   ]
  },
  {
   "cell_type": "code",
   "execution_count": null,
   "id": "bc43f53c-23f3-4dde-80e6-da6441d82de2",
   "metadata": {
    "tags": []
   },
   "outputs": [
    {
     "name": "stderr",
     "output_type": "stream",
     "text": [
      "[Stage 239:===================>                                     (1 + 2) / 3]\r"
     ]
    }
   ],
   "source": [
    "lgcs = []\n",
    "\n",
    "for i in range(1000):\n",
    "    \n",
    "    randoms = np.random.randint(len(all_genes), size=10)\n",
    "    genes = [j for i, j in enumerate(all_genes) if i in randoms]\n",
    "\n",
    "    gwas_rand = gwas.filter(hl.any(lambda x: hl.literal(genes).contains(x), gwas.nearest_genes_20kb))\n",
    "\n",
    "    lgcs.append(hl.lambda_gc(hl.float(gwas_rand.P)))"
   ]
  },
  {
   "cell_type": "code",
   "execution_count": 41,
   "id": "e15ed6b8-8600-40cd-9ecf-a88fecf314b2",
   "metadata": {
    "tags": []
   },
   "outputs": [
    {
     "data": {
      "text/plain": [
       "1.5044869974671107"
      ]
     },
     "execution_count": 41,
     "metadata": {},
     "output_type": "execute_result"
    }
   ],
   "source": [
    "np.percentile(lgcs, 90)"
   ]
  },
  {
   "cell_type": "code",
   "execution_count": 44,
   "id": "5daf094a-1b00-4d53-9a03-cdc0a2808776",
   "metadata": {
    "tags": []
   },
   "outputs": [
    {
     "data": {
      "text/plain": [
       "1.2913186320485897"
      ]
     },
     "execution_count": 44,
     "metadata": {},
     "output_type": "execute_result"
    }
   ],
   "source": [
    "np.percentile(lgcs, 75)"
   ]
  },
  {
   "cell_type": "markdown",
   "id": "351f46a1-a74f-4d4a-886f-c264bb7a3771",
   "metadata": {},
   "source": [
    "https://stackoverflow.com/questions/74874235/confidence-interval-in-normal-q-q-plot-using-statsmodels"
   ]
  }
 ],
 "metadata": {
  "kernelspec": {
   "display_name": "Python 3 (ipykernel)",
   "language": "python",
   "name": "python3"
  },
  "language_info": {
   "codemirror_mode": {
    "name": "ipython",
    "version": 3
   },
   "file_extension": ".py",
   "mimetype": "text/x-python",
   "name": "python",
   "nbconvert_exporter": "python",
   "pygments_lexer": "ipython3",
   "version": "3.10.4"
  }
 },
 "nbformat": 4,
 "nbformat_minor": 5
}
