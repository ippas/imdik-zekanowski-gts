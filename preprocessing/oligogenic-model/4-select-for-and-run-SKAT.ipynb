{
 "cells": [
  {
   "cell_type": "code",
   "execution_count": 1,
   "id": "8830a0a3-d54a-4da3-8b32-a33ae3bbdb8c",
   "metadata": {},
   "outputs": [],
   "source": [
    "import os\n",
    "localfs_path = os.environ.get('SCRATCH_LOCAL') + '/'"
   ]
  },
  {
   "cell_type": "code",
   "execution_count": 2,
   "id": "7c4762a4-78b7-4788-aac0-b3510bd10a22",
   "metadata": {
    "tags": []
   },
   "outputs": [
    {
     "name": "stderr",
     "output_type": "stream",
     "text": [
      "WARNING: An illegal reflective access operation has occurred\n",
      "WARNING: Illegal reflective access by org.apache.spark.unsafe.Platform (file:/net/pr2/projects/plgrid/plggneuromol/imdik-zekanowski-gts/venv-hail-0.2.105/lib/python3.10/site-packages/pyspark/jars/spark-unsafe_2.12-3.1.3.jar) to constructor java.nio.DirectByteBuffer(long,int)\n",
      "WARNING: Please consider reporting this to the maintainers of org.apache.spark.unsafe.Platform\n",
      "WARNING: Use --illegal-access=warn to enable warnings of further illegal reflective access operations\n",
      "WARNING: All illegal access operations will be denied in a future release\n"
     ]
    },
    {
     "name": "stdout",
     "output_type": "stream",
     "text": [
      "2023-04-17 11:54:52.749 WARN  NativeCodeLoader:60 - Unable to load native-hadoop library for your platform... using builtin-java classes where applicable\n"
     ]
    },
    {
     "name": "stderr",
     "output_type": "stream",
     "text": [
      "Setting default log level to \"WARN\".\n",
      "To adjust logging level use sc.setLogLevel(newLevel). For SparkR, use setLogLevel(newLevel).\n",
      "Running on Apache Spark version 3.1.3\n",
      "SparkUI available at http://ac0079:4040\n",
      "Welcome to\n",
      "     __  __     <>__\n",
      "    / /_/ /__  __/ /\n",
      "   / __  / _ `/ / /\n",
      "  /_/ /_/\\_,_/_/_/   version 0.2.109-b71b065e4bb6\n",
      "LOGGING: writing to /net/pr2/projects/plgrid/plggneuromol/imdik-zekanowski-gts/preprocessing/oligogenic-model/hail-20230417-1154-0.2.109-b71b065e4bb6.log\n"
     ]
    }
   ],
   "source": [
    "import hail as hl\n",
    "\n",
    "hl.init(\n",
    "    tmp_dir=(localfs_path+'tmp_hail'),\n",
    "    #spark_conf={'spark.driver.memory': '10G', 'spark.executor.memory': '5G'}, # I don't know what should be here\n",
    "    default_reference='GRCh38'\n",
    ") "
   ]
  },
  {
   "cell_type": "code",
   "execution_count": 3,
   "id": "cf582ceb-8db7-456a-933f-137b8ccc157e",
   "metadata": {
    "tags": []
   },
   "outputs": [
    {
     "data": {
      "text/html": [
       "\n",
       "    <div class=\"bk-root\">\n",
       "        <a href=\"https://bokeh.org\" target=\"_blank\" class=\"bk-logo bk-logo-small bk-logo-notebook\"></a>\n",
       "        <span id=\"1001\">Loading BokehJS ...</span>\n",
       "    </div>"
      ]
     },
     "metadata": {},
     "output_type": "display_data"
    },
    {
     "data": {
      "application/javascript": [
       "\n",
       "(function(root) {\n",
       "  function now() {\n",
       "    return new Date();\n",
       "  }\n",
       "\n",
       "  var force = true;\n",
       "\n",
       "  if (typeof root._bokeh_onload_callbacks === \"undefined\" || force === true) {\n",
       "    root._bokeh_onload_callbacks = [];\n",
       "    root._bokeh_is_loading = undefined;\n",
       "  }\n",
       "\n",
       "  var JS_MIME_TYPE = 'application/javascript';\n",
       "  var HTML_MIME_TYPE = 'text/html';\n",
       "  var EXEC_MIME_TYPE = 'application/vnd.bokehjs_exec.v0+json';\n",
       "  var CLASS_NAME = 'output_bokeh rendered_html';\n",
       "\n",
       "  /**\n",
       "   * Render data to the DOM node\n",
       "   */\n",
       "  function render(props, node) {\n",
       "    var script = document.createElement(\"script\");\n",
       "    node.appendChild(script);\n",
       "  }\n",
       "\n",
       "  /**\n",
       "   * Handle when an output is cleared or removed\n",
       "   */\n",
       "  function handleClearOutput(event, handle) {\n",
       "    var cell = handle.cell;\n",
       "\n",
       "    var id = cell.output_area._bokeh_element_id;\n",
       "    var server_id = cell.output_area._bokeh_server_id;\n",
       "    // Clean up Bokeh references\n",
       "    if (id != null && id in Bokeh.index) {\n",
       "      Bokeh.index[id].model.document.clear();\n",
       "      delete Bokeh.index[id];\n",
       "    }\n",
       "\n",
       "    if (server_id !== undefined) {\n",
       "      // Clean up Bokeh references\n",
       "      var cmd = \"from bokeh.io.state import curstate; print(curstate().uuid_to_server['\" + server_id + \"'].get_sessions()[0].document.roots[0]._id)\";\n",
       "      cell.notebook.kernel.execute(cmd, {\n",
       "        iopub: {\n",
       "          output: function(msg) {\n",
       "            var id = msg.content.text.trim();\n",
       "            if (id in Bokeh.index) {\n",
       "              Bokeh.index[id].model.document.clear();\n",
       "              delete Bokeh.index[id];\n",
       "            }\n",
       "          }\n",
       "        }\n",
       "      });\n",
       "      // Destroy server and session\n",
       "      var cmd = \"import bokeh.io.notebook as ion; ion.destroy_server('\" + server_id + \"')\";\n",
       "      cell.notebook.kernel.execute(cmd);\n",
       "    }\n",
       "  }\n",
       "\n",
       "  /**\n",
       "   * Handle when a new output is added\n",
       "   */\n",
       "  function handleAddOutput(event, handle) {\n",
       "    var output_area = handle.output_area;\n",
       "    var output = handle.output;\n",
       "\n",
       "    // limit handleAddOutput to display_data with EXEC_MIME_TYPE content only\n",
       "    if ((output.output_type != \"display_data\") || (!output.data.hasOwnProperty(EXEC_MIME_TYPE))) {\n",
       "      return\n",
       "    }\n",
       "\n",
       "    var toinsert = output_area.element.find(\".\" + CLASS_NAME.split(' ')[0]);\n",
       "\n",
       "    if (output.metadata[EXEC_MIME_TYPE][\"id\"] !== undefined) {\n",
       "      toinsert[toinsert.length - 1].firstChild.textContent = output.data[JS_MIME_TYPE];\n",
       "      // store reference to embed id on output_area\n",
       "      output_area._bokeh_element_id = output.metadata[EXEC_MIME_TYPE][\"id\"];\n",
       "    }\n",
       "    if (output.metadata[EXEC_MIME_TYPE][\"server_id\"] !== undefined) {\n",
       "      var bk_div = document.createElement(\"div\");\n",
       "      bk_div.innerHTML = output.data[HTML_MIME_TYPE];\n",
       "      var script_attrs = bk_div.children[0].attributes;\n",
       "      for (var i = 0; i < script_attrs.length; i++) {\n",
       "        toinsert[toinsert.length - 1].firstChild.setAttribute(script_attrs[i].name, script_attrs[i].value);\n",
       "      }\n",
       "      // store reference to server id on output_area\n",
       "      output_area._bokeh_server_id = output.metadata[EXEC_MIME_TYPE][\"server_id\"];\n",
       "    }\n",
       "  }\n",
       "\n",
       "  function register_renderer(events, OutputArea) {\n",
       "\n",
       "    function append_mime(data, metadata, element) {\n",
       "      // create a DOM node to render to\n",
       "      var toinsert = this.create_output_subarea(\n",
       "        metadata,\n",
       "        CLASS_NAME,\n",
       "        EXEC_MIME_TYPE\n",
       "      );\n",
       "      this.keyboard_manager.register_events(toinsert);\n",
       "      // Render to node\n",
       "      var props = {data: data, metadata: metadata[EXEC_MIME_TYPE]};\n",
       "      render(props, toinsert[toinsert.length - 1]);\n",
       "      element.append(toinsert);\n",
       "      return toinsert\n",
       "    }\n",
       "\n",
       "    /* Handle when an output is cleared or removed */\n",
       "    events.on('clear_output.CodeCell', handleClearOutput);\n",
       "    events.on('delete.Cell', handleClearOutput);\n",
       "\n",
       "    /* Handle when a new output is added */\n",
       "    events.on('output_added.OutputArea', handleAddOutput);\n",
       "\n",
       "    /**\n",
       "     * Register the mime type and append_mime function with output_area\n",
       "     */\n",
       "    OutputArea.prototype.register_mime_type(EXEC_MIME_TYPE, append_mime, {\n",
       "      /* Is output safe? */\n",
       "      safe: true,\n",
       "      /* Index of renderer in `output_area.display_order` */\n",
       "      index: 0\n",
       "    });\n",
       "  }\n",
       "\n",
       "  // register the mime type if in Jupyter Notebook environment and previously unregistered\n",
       "  if (root.Jupyter !== undefined) {\n",
       "    var events = require('base/js/events');\n",
       "    var OutputArea = require('notebook/js/outputarea').OutputArea;\n",
       "\n",
       "    if (OutputArea.prototype.mime_types().indexOf(EXEC_MIME_TYPE) == -1) {\n",
       "      register_renderer(events, OutputArea);\n",
       "    }\n",
       "  }\n",
       "\n",
       "  \n",
       "  if (typeof (root._bokeh_timeout) === \"undefined\" || force === true) {\n",
       "    root._bokeh_timeout = Date.now() + 5000;\n",
       "    root._bokeh_failed_load = false;\n",
       "  }\n",
       "\n",
       "  var NB_LOAD_WARNING = {'data': {'text/html':\n",
       "     \"<div style='background-color: #fdd'>\\n\"+\n",
       "     \"<p>\\n\"+\n",
       "     \"BokehJS does not appear to have successfully loaded. If loading BokehJS from CDN, this \\n\"+\n",
       "     \"may be due to a slow or bad network connection. Possible fixes:\\n\"+\n",
       "     \"</p>\\n\"+\n",
       "     \"<ul>\\n\"+\n",
       "     \"<li>re-rerun `output_notebook()` to attempt to load from CDN again, or</li>\\n\"+\n",
       "     \"<li>use INLINE resources instead, as so:</li>\\n\"+\n",
       "     \"</ul>\\n\"+\n",
       "     \"<code>\\n\"+\n",
       "     \"from bokeh.resources import INLINE\\n\"+\n",
       "     \"output_notebook(resources=INLINE)\\n\"+\n",
       "     \"</code>\\n\"+\n",
       "     \"</div>\"}};\n",
       "\n",
       "  function display_loaded() {\n",
       "    var el = document.getElementById(\"1001\");\n",
       "    if (el != null) {\n",
       "      el.textContent = \"BokehJS is loading...\";\n",
       "    }\n",
       "    if (root.Bokeh !== undefined) {\n",
       "      if (el != null) {\n",
       "        el.textContent = \"BokehJS \" + root.Bokeh.version + \" successfully loaded.\";\n",
       "      }\n",
       "    } else if (Date.now() < root._bokeh_timeout) {\n",
       "      setTimeout(display_loaded, 100)\n",
       "    }\n",
       "  }\n",
       "\n",
       "\n",
       "  function run_callbacks() {\n",
       "    try {\n",
       "      root._bokeh_onload_callbacks.forEach(function(callback) {\n",
       "        if (callback != null)\n",
       "          callback();\n",
       "      });\n",
       "    } finally {\n",
       "      delete root._bokeh_onload_callbacks\n",
       "    }\n",
       "    console.debug(\"Bokeh: all callbacks have finished\");\n",
       "  }\n",
       "\n",
       "  function load_libs(css_urls, js_urls, callback) {\n",
       "    if (css_urls == null) css_urls = [];\n",
       "    if (js_urls == null) js_urls = [];\n",
       "\n",
       "    root._bokeh_onload_callbacks.push(callback);\n",
       "    if (root._bokeh_is_loading > 0) {\n",
       "      console.debug(\"Bokeh: BokehJS is being loaded, scheduling callback at\", now());\n",
       "      return null;\n",
       "    }\n",
       "    if (js_urls == null || js_urls.length === 0) {\n",
       "      run_callbacks();\n",
       "      return null;\n",
       "    }\n",
       "    console.debug(\"Bokeh: BokehJS not loaded, scheduling load and callback at\", now());\n",
       "    root._bokeh_is_loading = css_urls.length + js_urls.length;\n",
       "\n",
       "    function on_load() {\n",
       "      root._bokeh_is_loading--;\n",
       "      if (root._bokeh_is_loading === 0) {\n",
       "        console.debug(\"Bokeh: all BokehJS libraries/stylesheets loaded\");\n",
       "        run_callbacks()\n",
       "      }\n",
       "    }\n",
       "\n",
       "    function on_error() {\n",
       "      console.error(\"failed to load \" + url);\n",
       "    }\n",
       "\n",
       "    for (var i = 0; i < css_urls.length; i++) {\n",
       "      var url = css_urls[i];\n",
       "      const element = document.createElement(\"link\");\n",
       "      element.onload = on_load;\n",
       "      element.onerror = on_error;\n",
       "      element.rel = \"stylesheet\";\n",
       "      element.type = \"text/css\";\n",
       "      element.href = url;\n",
       "      console.debug(\"Bokeh: injecting link tag for BokehJS stylesheet: \", url);\n",
       "      document.body.appendChild(element);\n",
       "    }\n",
       "\n",
       "    for (var i = 0; i < js_urls.length; i++) {\n",
       "      var url = js_urls[i];\n",
       "      var element = document.createElement('script');\n",
       "      element.onload = on_load;\n",
       "      element.onerror = on_error;\n",
       "      element.async = false;\n",
       "      element.src = url;\n",
       "      console.debug(\"Bokeh: injecting script tag for BokehJS library: \", url);\n",
       "      document.head.appendChild(element);\n",
       "    }\n",
       "  };var element = document.getElementById(\"1001\");\n",
       "  if (element == null) {\n",
       "    console.error(\"Bokeh: ERROR: autoload.js configured with elementid '1001' but no matching script tag was found. \")\n",
       "    return false;\n",
       "  }\n",
       "\n",
       "  function inject_raw_css(css) {\n",
       "    const element = document.createElement(\"style\");\n",
       "    element.appendChild(document.createTextNode(css));\n",
       "    document.body.appendChild(element);\n",
       "  }\n",
       "\n",
       "  \n",
       "  var js_urls = [\"https://cdn.pydata.org/bokeh/release/bokeh-1.4.0.min.js\", \"https://cdn.pydata.org/bokeh/release/bokeh-widgets-1.4.0.min.js\", \"https://cdn.pydata.org/bokeh/release/bokeh-tables-1.4.0.min.js\", \"https://cdn.pydata.org/bokeh/release/bokeh-gl-1.4.0.min.js\"];\n",
       "  var css_urls = [];\n",
       "  \n",
       "\n",
       "  var inline_js = [\n",
       "    function(Bokeh) {\n",
       "      Bokeh.set_log_level(\"info\");\n",
       "    },\n",
       "    function(Bokeh) {\n",
       "    \n",
       "    \n",
       "    }\n",
       "  ];\n",
       "\n",
       "  function run_inline_js() {\n",
       "    \n",
       "    if (root.Bokeh !== undefined || force === true) {\n",
       "      \n",
       "    for (var i = 0; i < inline_js.length; i++) {\n",
       "      inline_js[i].call(root, root.Bokeh);\n",
       "    }\n",
       "    if (force === true) {\n",
       "        display_loaded();\n",
       "      }} else if (Date.now() < root._bokeh_timeout) {\n",
       "      setTimeout(run_inline_js, 100);\n",
       "    } else if (!root._bokeh_failed_load) {\n",
       "      console.log(\"Bokeh: BokehJS failed to load within specified timeout.\");\n",
       "      root._bokeh_failed_load = true;\n",
       "    } else if (force !== true) {\n",
       "      var cell = $(document.getElementById(\"1001\")).parents('.cell').data().cell;\n",
       "      cell.output_area.append_execute_result(NB_LOAD_WARNING)\n",
       "    }\n",
       "\n",
       "  }\n",
       "\n",
       "  if (root._bokeh_is_loading === 0) {\n",
       "    console.debug(\"Bokeh: BokehJS loaded, going straight to plotting\");\n",
       "    run_inline_js();\n",
       "  } else {\n",
       "    load_libs(css_urls, js_urls, function() {\n",
       "      console.debug(\"Bokeh: BokehJS plotting callback run at\", now());\n",
       "      run_inline_js();\n",
       "    });\n",
       "  }\n",
       "}(window));"
      ],
      "application/vnd.bokehjs_load.v0+json": "\n(function(root) {\n  function now() {\n    return new Date();\n  }\n\n  var force = true;\n\n  if (typeof root._bokeh_onload_callbacks === \"undefined\" || force === true) {\n    root._bokeh_onload_callbacks = [];\n    root._bokeh_is_loading = undefined;\n  }\n\n  \n\n  \n  if (typeof (root._bokeh_timeout) === \"undefined\" || force === true) {\n    root._bokeh_timeout = Date.now() + 5000;\n    root._bokeh_failed_load = false;\n  }\n\n  var NB_LOAD_WARNING = {'data': {'text/html':\n     \"<div style='background-color: #fdd'>\\n\"+\n     \"<p>\\n\"+\n     \"BokehJS does not appear to have successfully loaded. If loading BokehJS from CDN, this \\n\"+\n     \"may be due to a slow or bad network connection. Possible fixes:\\n\"+\n     \"</p>\\n\"+\n     \"<ul>\\n\"+\n     \"<li>re-rerun `output_notebook()` to attempt to load from CDN again, or</li>\\n\"+\n     \"<li>use INLINE resources instead, as so:</li>\\n\"+\n     \"</ul>\\n\"+\n     \"<code>\\n\"+\n     \"from bokeh.resources import INLINE\\n\"+\n     \"output_notebook(resources=INLINE)\\n\"+\n     \"</code>\\n\"+\n     \"</div>\"}};\n\n  function display_loaded() {\n    var el = document.getElementById(\"1001\");\n    if (el != null) {\n      el.textContent = \"BokehJS is loading...\";\n    }\n    if (root.Bokeh !== undefined) {\n      if (el != null) {\n        el.textContent = \"BokehJS \" + root.Bokeh.version + \" successfully loaded.\";\n      }\n    } else if (Date.now() < root._bokeh_timeout) {\n      setTimeout(display_loaded, 100)\n    }\n  }\n\n\n  function run_callbacks() {\n    try {\n      root._bokeh_onload_callbacks.forEach(function(callback) {\n        if (callback != null)\n          callback();\n      });\n    } finally {\n      delete root._bokeh_onload_callbacks\n    }\n    console.debug(\"Bokeh: all callbacks have finished\");\n  }\n\n  function load_libs(css_urls, js_urls, callback) {\n    if (css_urls == null) css_urls = [];\n    if (js_urls == null) js_urls = [];\n\n    root._bokeh_onload_callbacks.push(callback);\n    if (root._bokeh_is_loading > 0) {\n      console.debug(\"Bokeh: BokehJS is being loaded, scheduling callback at\", now());\n      return null;\n    }\n    if (js_urls == null || js_urls.length === 0) {\n      run_callbacks();\n      return null;\n    }\n    console.debug(\"Bokeh: BokehJS not loaded, scheduling load and callback at\", now());\n    root._bokeh_is_loading = css_urls.length + js_urls.length;\n\n    function on_load() {\n      root._bokeh_is_loading--;\n      if (root._bokeh_is_loading === 0) {\n        console.debug(\"Bokeh: all BokehJS libraries/stylesheets loaded\");\n        run_callbacks()\n      }\n    }\n\n    function on_error() {\n      console.error(\"failed to load \" + url);\n    }\n\n    for (var i = 0; i < css_urls.length; i++) {\n      var url = css_urls[i];\n      const element = document.createElement(\"link\");\n      element.onload = on_load;\n      element.onerror = on_error;\n      element.rel = \"stylesheet\";\n      element.type = \"text/css\";\n      element.href = url;\n      console.debug(\"Bokeh: injecting link tag for BokehJS stylesheet: \", url);\n      document.body.appendChild(element);\n    }\n\n    for (var i = 0; i < js_urls.length; i++) {\n      var url = js_urls[i];\n      var element = document.createElement('script');\n      element.onload = on_load;\n      element.onerror = on_error;\n      element.async = false;\n      element.src = url;\n      console.debug(\"Bokeh: injecting script tag for BokehJS library: \", url);\n      document.head.appendChild(element);\n    }\n  };var element = document.getElementById(\"1001\");\n  if (element == null) {\n    console.error(\"Bokeh: ERROR: autoload.js configured with elementid '1001' but no matching script tag was found. \")\n    return false;\n  }\n\n  function inject_raw_css(css) {\n    const element = document.createElement(\"style\");\n    element.appendChild(document.createTextNode(css));\n    document.body.appendChild(element);\n  }\n\n  \n  var js_urls = [\"https://cdn.pydata.org/bokeh/release/bokeh-1.4.0.min.js\", \"https://cdn.pydata.org/bokeh/release/bokeh-widgets-1.4.0.min.js\", \"https://cdn.pydata.org/bokeh/release/bokeh-tables-1.4.0.min.js\", \"https://cdn.pydata.org/bokeh/release/bokeh-gl-1.4.0.min.js\"];\n  var css_urls = [];\n  \n\n  var inline_js = [\n    function(Bokeh) {\n      Bokeh.set_log_level(\"info\");\n    },\n    function(Bokeh) {\n    \n    \n    }\n  ];\n\n  function run_inline_js() {\n    \n    if (root.Bokeh !== undefined || force === true) {\n      \n    for (var i = 0; i < inline_js.length; i++) {\n      inline_js[i].call(root, root.Bokeh);\n    }\n    if (force === true) {\n        display_loaded();\n      }} else if (Date.now() < root._bokeh_timeout) {\n      setTimeout(run_inline_js, 100);\n    } else if (!root._bokeh_failed_load) {\n      console.log(\"Bokeh: BokehJS failed to load within specified timeout.\");\n      root._bokeh_failed_load = true;\n    } else if (force !== true) {\n      var cell = $(document.getElementById(\"1001\")).parents('.cell').data().cell;\n      cell.output_area.append_execute_result(NB_LOAD_WARNING)\n    }\n\n  }\n\n  if (root._bokeh_is_loading === 0) {\n    console.debug(\"Bokeh: BokehJS loaded, going straight to plotting\");\n    run_inline_js();\n  } else {\n    load_libs(css_urls, js_urls, function() {\n      console.debug(\"Bokeh: BokehJS plotting callback run at\", now());\n      run_inline_js();\n    });\n  }\n}(window));"
     },
     "metadata": {},
     "output_type": "display_data"
    }
   ],
   "source": [
    "from bokeh.io import show, output_notebook\n",
    "from bokeh.layouts import gridplot\n",
    "output_notebook()"
   ]
  },
  {
   "cell_type": "markdown",
   "id": "bd5f0d1a-d46a-43bf-926b-013b768b1c6a",
   "metadata": {
    "tags": []
   },
   "source": [
    "### select matrices for skat:\n",
    "1. sportsmen vs GTS 40\n",
    "2. polish zeros vs GTS 40\n",
    "3. polish no zeros vs GTS 40\n",
    "1. 1kg  vs GTS 40"
   ]
  },
  {
   "cell_type": "code",
   "execution_count": 6,
   "id": "98b8f74a-5c2c-4592-b24a-d1799b68d728",
   "metadata": {
    "tags": []
   },
   "outputs": [],
   "source": [
    "mt_1 = hl.read_matrix_table(localfs_path+'polesunion.mt')"
   ]
  },
  {
   "cell_type": "code",
   "execution_count": 7,
   "id": "67d656a0-f057-4ed8-a518-4b5e5efe792d",
   "metadata": {
    "tags": []
   },
   "outputs": [],
   "source": [
    "mt_2 = hl.read_matrix_table(localfs_path+'poles_zerosunion.mt')"
   ]
  },
  {
   "cell_type": "code",
   "execution_count": 8,
   "id": "aa9c0f45-f4fa-4ba9-aed6-0c5830fc3d72",
   "metadata": {
    "tags": []
   },
   "outputs": [
    {
     "data": {
      "text/plain": [
       "(3928354, 1788)"
      ]
     },
     "execution_count": 8,
     "metadata": {},
     "output_type": "execute_result"
    }
   ],
   "source": [
    "mt_1.count() # this is for polish controls only"
   ]
  },
  {
   "cell_type": "code",
   "execution_count": 9,
   "id": "95f16142-1dc5-4e10-a744-1bb7a12b9c81",
   "metadata": {
    "tags": []
   },
   "outputs": [
    {
     "data": {
      "text/plain": [
       "(10733526, 1788)"
      ]
     },
     "execution_count": 9,
     "metadata": {},
     "output_type": "execute_result"
    }
   ],
   "source": [
    "mt_2.count()"
   ]
  },
  {
   "cell_type": "code",
   "execution_count": 10,
   "id": "249791b1-a137-469e-b5d2-04963abb5422",
   "metadata": {
    "tags": []
   },
   "outputs": [
    {
     "name": "stderr",
     "output_type": "stream",
     "text": [
      "2023-04-12 16:15:52.051 Hail: INFO: wrote table with 187 rows in 1 partition to /localfs/2215677/tmp_hail/persist_tablergNdumcZGE\n",
      "2023-04-12 16:15:53.368 Hail: INFO: Reading table to impute column types\n",
      "2023-04-12 16:15:54.320 Hail: INFO: Finished type imputation\n",
      "  Loading field 'ID' as type str (imputed)\n",
      "  Loading field 'family' as type str (imputed)\n",
      "  Loading field 'sex' as type str (imputed)\n",
      "  Loading field 'kinship' as type str (imputed)\n",
      "  Loading field 'disease' as type str (imputed)\n",
      "  Loading field 'phenotype' as type str (imputed)\n",
      "  Loading field 'add_pheno' as type str (imputed)\n",
      "  Loading field 'heavy_tics' as type str (imputed)\n",
      "  Loading field 'heavy_tics_familial' as type str (imputed)\n",
      "  Loading field 'GTS_ASD_group' as type str (imputed)\n",
      "  Loading field 'nonCTD' as type str (imputed)\n"
     ]
    }
   ],
   "source": [
    "pheno = hl.import_table(\n",
    "    '/net/pr2/projects/plgrid/plggneuromol/imdik-zekanowski-gts/data/pheno/GTS-coded-corrected-june-2021.csv',\n",
    "    impute=True,\n",
    "    delimiter=',',\n",
    "    quote=\"\\\"\"\n",
    ")\n",
    "\n",
    "pheno = pheno.key_by(pheno.ID)"
   ]
  },
  {
   "cell_type": "code",
   "execution_count": 11,
   "id": "fb443749-5991-40f6-86d8-a52a97f62234",
   "metadata": {
    "tags": []
   },
   "outputs": [],
   "source": [
    "mts = [mt_1, mt_2]\n",
    "\n",
    "for idx, mt in enumerate(mts):\n",
    "    mt = mt.annotate_cols(\n",
    "    group = hl.if_else(\n",
    "            mt.s.contains('B'),\n",
    "            'local_controls',\n",
    "            hl.if_else(\n",
    "                (mt.s.contains('NA') | mt.s.contains('HG')),\n",
    "                '1kg_controls',\n",
    "                hl.if_else(\n",
    "                    mt.s.contains('polish'),\n",
    "                    'polish_controls',\n",
    "                    'GTS'\n",
    "                )\n",
    "            )\n",
    "        )\n",
    "    )\n",
    "    \n",
    "    mt = mt.annotate_cols(phenotypes = pheno[mt.s])\n",
    "    mts[idx] = mt"
   ]
  },
  {
   "cell_type": "code",
   "execution_count": null,
   "id": "2cfa4a11-fdeb-43a7-8b03-6cd62e3f9fea",
   "metadata": {
    "tags": []
   },
   "outputs": [],
   "source": [
    "#sportsmen vs GTS 40\n",
    "s_vs_gts = mts[1].filter_cols((mts[1].group == 'local_controls') | (mts[1].phenotypes.family == '.'))\n",
    "s_vs_gts = s_vs_gts.filter_rows(hl.agg.any(s_vs_gts.GT.is_non_ref()))\n",
    "s_vs_gts = s_vs_gts.checkpoint(localfs_path+'s_vs_gts.mt')    \n",
    "\n",
    "# polish no zeros vs GTS 40\n",
    "p0_vs_gts = mts[0].filter_cols((mts[0].group == 'polish_controls') | (mts[0].phenotypes.family == '.'))\n",
    "p0_vs_gts = p0_vs_gts.filter_rows(hl.agg.any(p0_vs_gts.GT.is_non_ref()))\n",
    "p0_vs_gts = p0_vs_gts.checkpoint(localfs_path+'p0_vs_gts.mt') \n",
    "\n",
    "# polish zeros vs GTS 40\n",
    "pw_vs_gts = mts[1].filter_cols((mts[1].group == 'polish_controls') | (mts[1].phenotypes.family == '.'))\n",
    "pw_vs_gts = pw_vs_gts.filter_rows(hl.agg.any(pw_vs_gts.GT.is_non_ref()))\n",
    "pw_vs_gts = pw_vs_gts.checkpoint(localfs_path+'pw_vs_gts.mt') \n",
    "\n",
    "# 1kg vs GTS 40\n",
    "eur_vs_gts = mts[1].filter_cols((mts[1].group == '1kg_controls') | (mts[1].phenotypes.family == '.'))\n",
    "eur_vs_gts = eur_vs_gts.filter_rows(hl.agg.any(eur_vs_gts.GT.is_non_ref()))\n",
    "eur_vs_gts = eur_vs_gts.checkpoint(localfs_path+'eur_vs_gts.mt') "
   ]
  },
  {
   "cell_type": "code",
   "execution_count": 10,
   "id": "3f12d0bc-8940-4547-b265-d3b0fedceccd",
   "metadata": {
    "tags": []
   },
   "outputs": [],
   "source": [
    "def run_pca(mtx, mtx_path):\n",
    "    for_pca = mtx.filter_rows(mtx.variant_qc.AF[1] > 0.05)\n",
    "    pruned_variant_table = hl.ld_prune(for_pca.GT, r2=0.2, bp_window_size=500000)\n",
    "    for_pca = for_pca.filter_rows(hl.is_defined(pruned_variant_table[for_pca.row_key]))\n",
    "\n",
    "    for_pca = for_pca.checkpoint(localfs_path+'for_pca_20_'+mtx_path)\n",
    "    for_pca = hl.read_matrix_table(localfs_path+'for_pca_'+mtx_path)\n",
    "    eigenvalues, pcs, _ = hl.hwe_normalized_pca(for_pca.GT, k=20)\n",
    "    \n",
    "    mtx = mtx.annotate_cols(scores = pcs[mtx.s].scores)\n",
    "    mtx = mtx.checkpoint(localfs_path+'after_pca_20_'+mtx_path)\n",
    "    \n",
    "    return(mtx)"
   ]
  },
  {
   "cell_type": "code",
   "execution_count": null,
   "id": "4f21b243-52cc-458a-b525-c3327fac59c1",
   "metadata": {
    "tags": []
   },
   "outputs": [],
   "source": [
    "s_vs_gts = hl.read_matrix_table(localfs_path+'s_vs_gts.mt')    \n",
    "p0_vs_gts = hl.read_matrix_table(localfs_path+'p0_vs_gts.mt') \n",
    "pw_vs_gts = hl.read_matrix_table(localfs_path+'pw_vs_gts.mt') \n",
    "eur_vs_gts = hl.read_matrix_table(localfs_path+'eur_vs_gts.mt') "
   ]
  },
  {
   "cell_type": "code",
   "execution_count": 6,
   "id": "b61b2766-b845-4479-acbd-4e4650d3f481",
   "metadata": {
    "tags": []
   },
   "outputs": [],
   "source": [
    "def run_pca_no_filter(mtx, mtx_path):\n",
    "    \n",
    "    for_pca = mtx.sample_rows(0.1)\n",
    "\n",
    "    for_pca = for_pca.checkpoint(localfs_path+'subset_'+mtx_path)\n",
    "    for_pca = hl.read_matrix_table(localfs_path+'subset_'+mtx_path)\n",
    "    eigenvalues, pcs, _ = hl.hwe_normalized_pca(for_pca.GT, k=20)\n",
    "    \n",
    "    mtx = mtx.annotate_cols(scores = pcs[mtx.s].scores)\n",
    "    mtx = mtx.checkpoint(localfs_path+'after_pca_no_filters_'+mtx_path)\n",
    "    \n",
    "    return(mtx)"
   ]
  },
  {
   "cell_type": "code",
   "execution_count": 7,
   "id": "d565d33e-67c4-495c-b46a-8b27588930cb",
   "metadata": {
    "tags": []
   },
   "outputs": [],
   "source": [
    "mts = [s_vs_gts, p0_vs_gts, pw_vs_gts, eur_vs_gts]\n",
    "mts_paths = ['s_vs_gts', 'p0_vs_gts', 'pw_vs_gts', 'eur_vs_gts']"
   ]
  },
  {
   "cell_type": "code",
   "execution_count": null,
   "id": "b20be30f-0680-4d15-8aee-5b99cb591dac",
   "metadata": {},
   "outputs": [],
   "source": [
    "for idx, mt in enumerate(mts):\n",
    "    mts[idx] = run_pca(mt, mts_paths[idx])"
   ]
  },
  {
   "cell_type": "code",
   "execution_count": null,
   "id": "5302ee7d-b0bb-4141-8895-b6787eba4b2a",
   "metadata": {
    "collapsed": true,
    "jupyter": {
     "outputs_hidden": true
    },
    "tags": []
   },
   "outputs": [
    {
     "name": "stderr",
     "output_type": "stream",
     "text": [
      "2023-04-14 11:44:32.662 Hail: INFO: wrote matrix table with 498271 rows and 142 columns in 1995 partitions to /localfs/2215677/subset_s_vs_gts\n",
      "    Total size: 3.12 GiB\n",
      "    * Rows/entries: 3.12 GiB\n",
      "    * Columns: 1.13 KiB\n",
      "    * Globals: 11.00 B\n",
      "    * Smallest partition: 0 rows (20.00 B)\n",
      "    * Largest partition:  1214 rows (8.80 MiB)\n",
      "2023-04-14 11:45:37.092 Hail: INFO: hwe_normalize: found 493692 variants after filtering out monomorphic sites.\n",
      "2023-04-14 11:45:41.390 Hail: INFO: pca: running PCA with 20 components... 1995]\n",
      "2023-04-14 11:46:22.250 Hail: INFO: wrote table with 0 rows in 0 partitions to /localfs/2215677/tmp_hail_2/persist_tablefWYbsYCn9l\n",
      "    Total size: 23.23 KiB\n",
      "    * Rows: 0.00 B\n",
      "    * Globals: 23.23 KiB\n",
      "    * Smallest partition: N/A\n",
      "    * Largest partition:  N/A\n",
      "[Stage 164:==========================>                       (1051 + 48) / 1995]\r"
     ]
    }
   ],
   "source": [
    "for idx, mt in enumerate(mts):\n",
    "    mts_2[idx] = run_pca_no_filter(mt, mts_paths[idx])"
   ]
  },
  {
   "cell_type": "code",
   "execution_count": null,
   "id": "8fd4ad29-5cb9-44d1-9f8b-c892ddbb0d4a",
   "metadata": {
    "tags": []
   },
   "outputs": [
    {
     "name": "stderr",
     "output_type": "stream",
     "text": [
      "2023-04-14 14:51:11.806 Hail: INFO: wrote matrix table with 424331 rows and 541 columns in 1995 partitions to /localfs/2215677/subset_eur_vs_gts\n",
      "    Total size: 2.80 GiB\n",
      "    * Rows/entries: 2.80 GiB\n",
      "    * Columns: 3.38 KiB\n",
      "    * Globals: 11.00 B\n",
      "    * Smallest partition: 0 rows (20.00 B)\n",
      "    * Largest partition:  1034 rows (7.37 MiB)\n",
      "2023-04-14 14:52:41.929 Hail: INFO: hwe_normalize: found 422774 variants after filtering out monomorphic sites.\n",
      "2023-04-14 14:52:45.832 Hail: INFO: pca: running PCA with 20 components... 1995]\n",
      "2023-04-14 14:54:38.284 Hail: INFO: wrote table with 0 rows in 0 partitions to /localfs/2215677/tmp_hail_2/persist_tablejJclfNbAcV\n",
      "    Total size: 87.92 KiB\n",
      "    * Rows: 0.00 B\n",
      "    * Globals: 87.92 KiB\n",
      "    * Smallest partition: N/A\n",
      "    * Largest partition:  N/A\n",
      "[Stage 168:=================>                                 (693 + 48) / 1995]\r"
     ]
    }
   ],
   "source": [
    "# the european group for some reason did not compute, so I am recomputing it again\n",
    "# this matrix has many more variant so I will subset it smaller\n",
    "\n",
    "eur_vs_gts = hl.read_matrix_table(localfs_path+'eur_vs_gts.mt') \n",
    "\n",
    "for_pca = eur_vs_gts.sample_rows(0.05)\n",
    "\n",
    "for_pca = for_pca.checkpoint(localfs_path+'subset_eur_vs_gts')\n",
    "for_pca = hl.read_matrix_table(localfs_path+'subset_eur_vs_gts')\n",
    "eigenvalues, pcs, _ = hl.hwe_normalized_pca(for_pca.GT, k=20)\n",
    "    \n",
    "eur_vs_gts = eur_vs_gts.annotate_cols(scores = pcs[eur_vs_gts.s].scores)\n",
    "eur_vs_gts = eur_vs_gts.checkpoint(localfs_path+'after_pca_no_filters_eur_vs_gts')"
   ]
  },
  {
   "cell_type": "code",
   "execution_count": null,
   "id": "8ef345a6-7ca1-43d2-9472-ecb1f10b1b50",
   "metadata": {},
   "outputs": [],
   "source": [
    "# at this point we have a two different PCA options - mts\n",
    "# PCA with LD prunning and without LD prunning -mts_2"
   ]
  },
  {
   "cell_type": "code",
   "execution_count": 40,
   "id": "a8745455-2baf-4703-9ef3-1ab87f82be4a",
   "metadata": {
    "tags": []
   },
   "outputs": [
    {
     "name": "stderr",
     "output_type": "stream",
     "text": [
      "2023-04-15 18:36:02.837 Hail: INFO: wrote table with 286313 rows in 1 partition to /localfs/2215677/tmp_hail_3/persist_tableBE4iqPoUQt\n",
      "2023-04-15 18:36:03.448 Hail: INFO: Reading table without type imputation\n",
      "  Loading field 'f0' as type str (not specified)\n",
      "  Loading field 'f1' as type str (not specified)\n",
      "  Loading field 'f2' as type str (not specified)\n",
      "  Loading field 'f3' as type str (not specified)\n",
      "  Loading field 'f4' as type str (not specified)\n",
      "  Loading field 'f5' as type str (not specified)\n",
      "  Loading field 'f6' as type str (not specified)\n",
      "  Loading field 'f7' as type str (not specified)\n",
      "  Loading field 'f8' as type str (not specified)\n",
      "2023-04-15 18:36:04.224 Hail: INFO: wrote table with 23805 rows in 1 partition to /localfs/2215677/tmp_hail_3/persist_tableDQUDpXtqZV\n",
      "2023-04-15 18:36:04.700 Hail: INFO: Reading table without type imputation\n",
      "  Loading field 'Gene stable ID' as type str (not specified)\n",
      "  Loading field 'UniProtKB Gene Name symbol' as type str (not specified)\n"
     ]
    }
   ],
   "source": [
    "gtf = hl.import_table(\n",
    "    '/net/pr2/projects/plgrid/plggneuromol/resources/genecode_43/gencode.v43.basic.annotation.gtf',\n",
    "    delimiter = \"\\t\",\n",
    "    no_header = True,\n",
    "    comment = \"#\"\n",
    ")\n",
    "\n",
    "# filter the gtf to only contain protein-coding genes with any GO term\n",
    "gtf = gtf.filter((gtf.f2 == 'gene') & (gtf.f8.contains('protein_coding')))\n",
    "\n",
    "gtf = gtf.select(\n",
    "    gene_position = hl.locus_interval(\n",
    "        gtf.f0,\n",
    "        hl.int(gtf.f3),\n",
    "        hl.int(gtf.f4),\n",
    "        reference_genome='GRCh38'\n",
    "    ),\n",
    "    gene_symbol = gtf.f8.split(\"\\\"\")[5]\n",
    ")  \n",
    "\n",
    "go_genes = hl.import_table(\n",
    "    '/net/pr2/projects/plgrid/plggneuromol/resources/human-genes-with-GO-and-symbols'\n",
    ")\n",
    "\n",
    "go_genes = go_genes.key_by(go_genes['UniProtKB Gene Name symbol'])\n",
    "\n",
    "gtf = gtf.key_by(gtf['gene_symbol'])\n",
    "gtf = gtf.filter(\n",
    "    hl.is_defined(\n",
    "        go_genes[gtf.gene_symbol]\n",
    "    )\n",
    ")\n",
    "\n",
    "# overall we are keeping 18303 genes. At this poin the within gene intervals are extended by 20kb each side\n",
    "start = hl.if_else(\n",
    "    gtf.gene_position.start.position <= 20000, 1, gtf.gene_position.start.position - 20000\n",
    ")\n",
    "\n",
    "contig_len = hl.contig_length(gtf.gene_position.start.contig, reference_genome='GRCh38') \n",
    "\n",
    "stop = hl.if_else(\n",
    "    (contig_len - gtf.gene_position.end.position) <= 20000,\n",
    "    contig_len,\n",
    "    gtf.gene_position.end.position + 20000\n",
    ")\n",
    "\n",
    "gtf = gtf.annotate(\n",
    "    interval_20kb =\n",
    "    hl.locus_interval(\n",
    "        gtf.gene_position.start.contig,\n",
    "        start,\n",
    "        stop,\n",
    "        reference_genome='GRCh38'\n",
    "    )\n",
    ")\n",
    "\n",
    "gtf = gtf.key_by(gtf.interval_20kb)"
   ]
  },
  {
   "cell_type": "code",
   "execution_count": 36,
   "id": "5d401e51-38c8-496f-a78a-58af9387e261",
   "metadata": {
    "tags": []
   },
   "outputs": [],
   "source": [
    "mts = [s_vs_gts, p0_vs_gts, pw_vs_gts, eur_vs_gts]\n",
    "mts_2 = [s_vs_gts, p0_vs_gts, pw_vs_gts, eur_vs_gts]\n",
    "mts_paths = ['s_vs_gts', 'p0_vs_gts', 'pw_vs_gts', 'eur_vs_gts']"
   ]
  },
  {
   "cell_type": "code",
   "execution_count": 37,
   "id": "f8669592-5204-4150-9c7c-846e66d22314",
   "metadata": {
    "tags": []
   },
   "outputs": [],
   "source": [
    "for idx, mt in enumerate(mts):\n",
    "    mts[idx] = hl.read_matrix_table(localfs_path+'after_pca_'+mts_paths[idx])\n",
    "    mts_2[idx] = hl.read_matrix_table(localfs_path+'after_pca_no_filters_'+mts_paths[idx])"
   ]
  },
  {
   "cell_type": "code",
   "execution_count": null,
   "id": "688b7669-ebaa-485f-8ba4-0fcd4916ebfd",
   "metadata": {
    "tags": []
   },
   "outputs": [
    {
     "name": "stderr",
     "output_type": "stream",
     "text": [
      "2023-04-15 18:36:05.165 Hail: WARN: cols(): Resulting column table is sorted by 'col_key'.\n",
      "    To preserve matrix table column order, first unkey columns with 'key_cols_by()'\n",
      "2023-04-15 18:36:09.408 Hail: INFO: Ordering unsorted dataset with network shuffle\n",
      "2023-04-15 18:36:09.929 Hail: INFO: Ordering unsorted dataset with network shuffle\n",
      "2023-04-15 18:36:13.612 Hail: INFO: Ordering unsorted dataset with network shuffle\n",
      "[Stage 23:>                                                     (0 + 48) / 1995]\r"
     ]
    }
   ],
   "source": [
    "# now annotate the standard PCA with filters with the other PCA (no filters)\n",
    "# this is still lacking for the eur samples\n",
    "\n",
    "for idx, mt in enumerate(mts[2:]): \n",
    "    mt = mt.annotate_rows(\n",
    "        nearest_genes_20kb = hl.array(\n",
    "            hl.set(\n",
    "                gtf.index(mt.locus, all_matches=True)['gene_symbol']))\n",
    "    )\n",
    "    \n",
    "    mt = mt.filter_rows(hl.agg.any(mt.GT.is_non_ref()))\n",
    "    mt = mt.explode_rows(mt.nearest_genes_20kb)\n",
    "    \n",
    "    mt_2 = hl.read_matrix_table(localfs_path+'after_pca_no_filters_'+mts_paths[2:][idx])\n",
    "\n",
    "    mt = mt.annotate_cols(scores_no_filter = mt_2.cols()[mt.s].scores)\n",
    "    \n",
    "    mt = mt.checkpoint(localfs_path+'for_full_skat_'+mts_paths[2:][idx])\n",
    "    mts[2:][idx] = mt"
   ]
  },
  {
   "cell_type": "code",
   "execution_count": null,
   "id": "6f7c6a46-5ea6-43b4-8ea8-82448cc14728",
   "metadata": {
    "tags": []
   },
   "outputs": [
    {
     "name": "stderr",
     "output_type": "stream",
     "text": [
      "[Stage 8:============>                                         (236 + 48) / 998]\r"
     ]
    }
   ],
   "source": [
    "#repartition the full skat's\n",
    "\n",
    "s_vs_gts = hl.read_matrix_table(\n",
    "    '/localfs/2215677/for_full_skat_s_vs_gts'\n",
    ")\n",
    "\n",
    "s_vs_gts.naive_coalesce(1000).write(\n",
    "    '/net/pr2/projects/plgrid/plggneuromol/imdik-zekanowski-gts/data/mts/oligogenic-model/s_vs_gts.mt'\n",
    ")\n"
   ]
  },
  {
   "cell_type": "code",
   "execution_count": 4,
   "id": "cdd14f09-304e-4968-ba57-01801c0a9735",
   "metadata": {
    "tags": []
   },
   "outputs": [],
   "source": [
    "#repartition the full skat's\n",
    "\n",
    "p0_vs_gts = hl.read_matrix_table(\n",
    "    '/localfs/2215677/for_full_skat_p0_vs_gts'\n",
    ")\n",
    "\n",
    "p0_vs_gts.naive_coalesce(1000).write(\n",
    "    '/net/pr2/projects/plgrid/plggneuromol/imdik-zekanowski-gts/data/mts/oligogenic-model/p0_vs_gts.mt'\n",
    ")"
   ]
  },
  {
   "cell_type": "code",
   "execution_count": 4,
   "id": "ae21b71a-10a3-4ed1-9cf3-e966b3ba4c22",
   "metadata": {
    "tags": []
   },
   "outputs": [],
   "source": [
    "# at this point I have two matrix-tables read:\n",
    "#s_vs_gts = hl.read_matrix_table(\n",
    "#    '/net/pr2/projects/plgrid/plggneuromol/imdik-zekanowski-gts/data/mts/oligogenic-model/s_vs_gts.mt'\n",
    "#) this is written again later\n",
    "\n",
    "p0_vs_gts = hl.read_matrix_table(\n",
    "    '/net/pr2/projects/plgrid/plggneuromol/imdik-zekanowski-gts/data/mts/oligogenic-model/p0_vs_gts.mt'\n",
    ")"
   ]
  },
  {
   "cell_type": "markdown",
   "id": "fc46529f-285c-442f-82ad-8f2cdf8d8a66",
   "metadata": {
    "tags": []
   },
   "source": [
    "##### annotate samples with sex"
   ]
  },
  {
   "cell_type": "code",
   "execution_count": 5,
   "id": "f5bc9345-6f9f-4a38-a537-e22bc2878439",
   "metadata": {
    "tags": []
   },
   "outputs": [],
   "source": [
    "sport_females = ['B434','B437','B440','B447','B514','B519','B521']"
   ]
  },
  {
   "cell_type": "code",
   "execution_count": 6,
   "id": "81e35320-13ea-4e96-b29d-26d6dc339721",
   "metadata": {},
   "outputs": [],
   "source": [
    "s_vs_gts = s_vs_gts.annotate_cols(\n",
    "    sex = hl.if_else(\n",
    "        s_vs_gts.group == 'GTS',\n",
    "        s_vs_gts.phenotypes.sex,\n",
    "        hl.if_else(\n",
    "            hl.literal(sport_females).contains(s_vs_gts.s),\n",
    "            'F',\n",
    "            'M'\n",
    "        )\n",
    "    )\n",
    ")"
   ]
  },
  {
   "cell_type": "code",
   "execution_count": 7,
   "id": "a8352791-710b-406f-b392-67b2848d7563",
   "metadata": {
    "tags": []
   },
   "outputs": [],
   "source": [
    "p0_vs_gts = p0_vs_gts.annotate_cols(\n",
    "    sex = hl.if_else(\n",
    "        p0_vs_gts.group == 'GTS',\n",
    "        p0_vs_gts.phenotypes.sex,\n",
    "        p0_vs_gts.sex\n",
    "    )\n",
    ")"
   ]
  },
  {
   "cell_type": "code",
   "execution_count": null,
   "id": "c225533a-8c2e-43db-88ed-43028e23a88e",
   "metadata": {},
   "outputs": [],
   "source": [
    "#prapre the s_vs_gts to tests - make it smaller and save it outside localfs"
   ]
  },
  {
   "cell_type": "code",
   "execution_count": null,
   "id": "caece625-e042-41d8-bb67-a9051f29a730",
   "metadata": {
    "tags": []
   },
   "outputs": [
    {
     "name": "stderr",
     "output_type": "stream",
     "text": [
      "[Stage 0:=====================>                                (391 + 30) / 998]\r"
     ]
    }
   ],
   "source": [
    "s_vs_gts = s_vs_gts.filter_rows(s_vs_gts.cadd.score_phred > 0)\n",
    "s_vs_gts = s_vs_gts.checkpoint(localfs_path+'s_vs_gts_1.mt')"
   ]
  },
  {
   "cell_type": "code",
   "execution_count": 31,
   "id": "3f4ef33d-909f-4391-862d-58aa94e25cda",
   "metadata": {
    "tags": []
   },
   "outputs": [],
   "source": [
    "s_vs_gts = hl.read_matrix_table(localfs_path+'s_vs_gts_1.mt')"
   ]
  },
  {
   "cell_type": "code",
   "execution_count": 32,
   "id": "500157f3-57cd-42d0-a9bd-726a29402b98",
   "metadata": {
    "tags": []
   },
   "outputs": [
    {
     "name": "stderr",
     "output_type": "stream",
     "text": [
      "2023-04-16 21:56:57.586 Hail: INFO: wrote matrix table with 5520376 rows and 142 columns in 998 partitions to /net/pr2/projects/plgrid/plggneuromol/imdik-zekanowski-gts/data/mts/oligogenic-model/s_vs_gts.mt\n"
     ]
    }
   ],
   "source": [
    "s_vs_gts.write(\n",
    "    '/net/pr2/projects/plgrid/plggneuromol/imdik-zekanowski-gts/data/mts/oligogenic-model/s_vs_gts.mt'\n",
    ")"
   ]
  },
  {
   "cell_type": "markdown",
   "id": "15ecad9c-86b3-4b85-9227-3fab0d253001",
   "metadata": {},
   "source": [
    "## (Jacek) Run SKAT for sportsmen and GTS on scores, for all genes:"
   ]
  },
  {
   "cell_type": "code",
   "execution_count": 4,
   "id": "e9b3eba1-ed6f-4240-a6f7-e37048e21696",
   "metadata": {},
   "outputs": [],
   "source": [
    "def run_skat_log(mtx, pcs, field):\n",
    "    \n",
    "    scores = [mtx[field][x] for x in list(range(pcs))]\n",
    "    is_male = hl.int(mtx.sex == 'M')\n",
    "    \n",
    "    skat_table = hl.skat(key_expr=mtx.nearest_genes_20kb,\n",
    "                         weight_expr=mtx.cadd.score_phred,\n",
    "                         y=(mtx.group == 'GTS'),\n",
    "                         x=mtx.GT.n_alt_alleles(),\n",
    "                         covariates=[1, is_male] + scores,\n",
    "                         max_size = 2500,\n",
    "                         logistic = True)\n",
    "\n",
    "    skat_table.order_by(skat_table.p_value).show(20)\n",
    "    \n",
    "    qq_plot = hl.plot.qq(\n",
    "        skat_table.p_value\n",
    "    )\n",
    "    show(qq_plot)\n",
    "    \n",
    "    return(skat_table, qq_plot)"
   ]
  },
  {
   "cell_type": "code",
   "execution_count": 5,
   "id": "6554758e-2085-4e9b-8e0e-c70dbe368987",
   "metadata": {
    "tags": []
   },
   "outputs": [],
   "source": [
    "s_vs_gts = hl.read_matrix_table(\n",
    "    '/net/pr2/projects/plgrid/plggneuromol/imdik-zekanowski-gts/data/mts/oligogenic-model/s_vs_gts.mt'\n",
    ")"
   ]
  },
  {
   "cell_type": "code",
   "execution_count": null,
   "id": "4b786136-e11f-4efc-aa1f-1f6cf11e000f",
   "metadata": {
    "tags": []
   },
   "outputs": [
    {
     "name": "stdout",
     "output_type": "stream",
     "text": [
      "tryin to run with 0 PCs and the pruned scores option\n"
     ]
    },
    {
     "name": "stderr",
     "output_type": "stream",
     "text": [
      "2023-04-17 11:59:20.011 Hail: INFO: Ordering unsorted dataset with network shuffle\n",
      "2023-04-17 12:00:38.377 Hail: INFO: wrote table with 17847 rows in 998 partitions to /localfs/2325106/tmp_hail/persist_tableGzurS9hLg4\n",
      "    Total size: 574.43 KiB\n",
      "    * Rows: 574.42 KiB\n",
      "    * Globals: 11.00 B\n",
      "    * Smallest partition: 17 rows (477.00 B)\n",
      "    * Largest partition:  23 rows (760.00 B)\n",
      "2023-04-17 12:00:39.316 Hail: INFO: Ordering unsorted dataset with network shuffle\n",
      "[Stage 6:=================================================>    (919 + 12) / 998]\r"
     ]
    },
    {
     "data": {
      "text/html": [
       "<table><thead><tr><td style=\"white-space: nowrap; max-width: 500px; overflow: hidden; text-overflow: ellipsis; \" colspan=\"1\"><div style=\"text-align: left;\"></div></td><td style=\"white-space: nowrap; max-width: 500px; overflow: hidden; text-overflow: ellipsis; \" colspan=\"1\"><div style=\"text-align: left;\"></div></td><td style=\"white-space: nowrap; max-width: 500px; overflow: hidden; text-overflow: ellipsis; \" colspan=\"1\"><div style=\"text-align: left;\"></div></td><td style=\"white-space: nowrap; max-width: 500px; overflow: hidden; text-overflow: ellipsis; \" colspan=\"1\"><div style=\"text-align: left;\"></div></td><td style=\"white-space: nowrap; max-width: 500px; overflow: hidden; text-overflow: ellipsis; \" colspan=\"1\"><div style=\"text-align: left;\"></div></td></tr><tr><td style=\"white-space: nowrap; max-width: 500px; overflow: hidden; text-overflow: ellipsis; \" colspan=\"1\"><div style=\"text-align: left;border-bottom: solid 2px #000; padding-bottom: 5px\">id</div></td><td style=\"white-space: nowrap; max-width: 500px; overflow: hidden; text-overflow: ellipsis; \" colspan=\"1\"><div style=\"text-align: left;border-bottom: solid 2px #000; padding-bottom: 5px\">size</div></td><td style=\"white-space: nowrap; max-width: 500px; overflow: hidden; text-overflow: ellipsis; \" colspan=\"1\"><div style=\"text-align: left;border-bottom: solid 2px #000; padding-bottom: 5px\">q_stat</div></td><td style=\"white-space: nowrap; max-width: 500px; overflow: hidden; text-overflow: ellipsis; \" colspan=\"1\"><div style=\"text-align: left;border-bottom: solid 2px #000; padding-bottom: 5px\">p_value</div></td><td style=\"white-space: nowrap; max-width: 500px; overflow: hidden; text-overflow: ellipsis; \" colspan=\"1\"><div style=\"text-align: left;border-bottom: solid 2px #000; padding-bottom: 5px\">fault</div></td></tr><tr><td style=\"white-space: nowrap; max-width: 500px; overflow: hidden; text-overflow: ellipsis; text-align: left;\">str</td><td style=\"white-space: nowrap; max-width: 500px; overflow: hidden; text-overflow: ellipsis; text-align: left;\">int32</td><td style=\"white-space: nowrap; max-width: 500px; overflow: hidden; text-overflow: ellipsis; text-align: left;\">float64</td><td style=\"white-space: nowrap; max-width: 500px; overflow: hidden; text-overflow: ellipsis; text-align: left;\">float64</td><td style=\"white-space: nowrap; max-width: 500px; overflow: hidden; text-overflow: ellipsis; text-align: left;\">int32</td></tr>\n",
       "</thead><tbody><tr><td style=\"white-space: nowrap; max-width: 500px; overflow: hidden; text-overflow: ellipsis; \">&quot;GOLGA8Q&quot;</td><td style=\"white-space: nowrap; max-width: 500px; overflow: hidden; text-overflow: ellipsis; \">10</td><td style=\"white-space: nowrap; max-width: 500px; overflow: hidden; text-overflow: ellipsis; \">7.32e+02</td><td style=\"white-space: nowrap; max-width: 500px; overflow: hidden; text-overflow: ellipsis; \">-2.27e-07</td><td style=\"white-space: nowrap; max-width: 500px; overflow: hidden; text-overflow: ellipsis; \">0</td></tr>\n",
       "<tr><td style=\"white-space: nowrap; max-width: 500px; overflow: hidden; text-overflow: ellipsis; \">&quot;KCNK4&quot;</td><td style=\"white-space: nowrap; max-width: 500px; overflow: hidden; text-overflow: ellipsis; \">148</td><td style=\"white-space: nowrap; max-width: 500px; overflow: hidden; text-overflow: ellipsis; \">1.47e+04</td><td style=\"white-space: nowrap; max-width: 500px; overflow: hidden; text-overflow: ellipsis; \">-9.74e-08</td><td style=\"white-space: nowrap; max-width: 500px; overflow: hidden; text-overflow: ellipsis; \">0</td></tr>\n",
       "<tr><td style=\"white-space: nowrap; max-width: 500px; overflow: hidden; text-overflow: ellipsis; \">&quot;TPO&quot;</td><td style=\"white-space: nowrap; max-width: 500px; overflow: hidden; text-overflow: ellipsis; \">208</td><td style=\"white-space: nowrap; max-width: 500px; overflow: hidden; text-overflow: ellipsis; \">8.80e+03</td><td style=\"white-space: nowrap; max-width: 500px; overflow: hidden; text-overflow: ellipsis; \">-8.90e-08</td><td style=\"white-space: nowrap; max-width: 500px; overflow: hidden; text-overflow: ellipsis; \">0</td></tr>\n",
       "<tr><td style=\"white-space: nowrap; max-width: 500px; overflow: hidden; text-overflow: ellipsis; \">&quot;ZNF429&quot;</td><td style=\"white-space: nowrap; max-width: 500px; overflow: hidden; text-overflow: ellipsis; \">393</td><td style=\"white-space: nowrap; max-width: 500px; overflow: hidden; text-overflow: ellipsis; \">2.52e+04</td><td style=\"white-space: nowrap; max-width: 500px; overflow: hidden; text-overflow: ellipsis; \">-8.62e-08</td><td style=\"white-space: nowrap; max-width: 500px; overflow: hidden; text-overflow: ellipsis; \">0</td></tr>\n",
       "<tr><td style=\"white-space: nowrap; max-width: 500px; overflow: hidden; text-overflow: ellipsis; \">&quot;RRN3&quot;</td><td style=\"white-space: nowrap; max-width: 500px; overflow: hidden; text-overflow: ellipsis; \">4</td><td style=\"white-space: nowrap; max-width: 500px; overflow: hidden; text-overflow: ellipsis; \">3.18e+02</td><td style=\"white-space: nowrap; max-width: 500px; overflow: hidden; text-overflow: ellipsis; \">-5.26e-08</td><td style=\"white-space: nowrap; max-width: 500px; overflow: hidden; text-overflow: ellipsis; \">0</td></tr>\n",
       "<tr><td style=\"white-space: nowrap; max-width: 500px; overflow: hidden; text-overflow: ellipsis; \">&quot;UBE2A&quot;</td><td style=\"white-space: nowrap; max-width: 500px; overflow: hidden; text-overflow: ellipsis; \">215</td><td style=\"white-space: nowrap; max-width: 500px; overflow: hidden; text-overflow: ellipsis; \">1.31e+04</td><td style=\"white-space: nowrap; max-width: 500px; overflow: hidden; text-overflow: ellipsis; \">-5.21e-08</td><td style=\"white-space: nowrap; max-width: 500px; overflow: hidden; text-overflow: ellipsis; \">0</td></tr>\n",
       "<tr><td style=\"white-space: nowrap; max-width: 500px; overflow: hidden; text-overflow: ellipsis; \">&quot;DEFB106A&quot;</td><td style=\"white-space: nowrap; max-width: 500px; overflow: hidden; text-overflow: ellipsis; \">58</td><td style=\"white-space: nowrap; max-width: 500px; overflow: hidden; text-overflow: ellipsis; \">1.94e+03</td><td style=\"white-space: nowrap; max-width: 500px; overflow: hidden; text-overflow: ellipsis; \">-4.21e-08</td><td style=\"white-space: nowrap; max-width: 500px; overflow: hidden; text-overflow: ellipsis; \">0</td></tr>\n",
       "<tr><td style=\"white-space: nowrap; max-width: 500px; overflow: hidden; text-overflow: ellipsis; \">&quot;ANKRD36&quot;</td><td style=\"white-space: nowrap; max-width: 500px; overflow: hidden; text-overflow: ellipsis; \">741</td><td style=\"white-space: nowrap; max-width: 500px; overflow: hidden; text-overflow: ellipsis; \">1.80e+04</td><td style=\"white-space: nowrap; max-width: 500px; overflow: hidden; text-overflow: ellipsis; \">-3.56e-08</td><td style=\"white-space: nowrap; max-width: 500px; overflow: hidden; text-overflow: ellipsis; \">0</td></tr>\n",
       "<tr><td style=\"white-space: nowrap; max-width: 500px; overflow: hidden; text-overflow: ellipsis; \">&quot;SLC25A43&quot;</td><td style=\"white-space: nowrap; max-width: 500px; overflow: hidden; text-overflow: ellipsis; \">122</td><td style=\"white-space: nowrap; max-width: 500px; overflow: hidden; text-overflow: ellipsis; \">1.29e+04</td><td style=\"white-space: nowrap; max-width: 500px; overflow: hidden; text-overflow: ellipsis; \">-2.89e-08</td><td style=\"white-space: nowrap; max-width: 500px; overflow: hidden; text-overflow: ellipsis; \">0</td></tr>\n",
       "<tr><td style=\"white-space: nowrap; max-width: 500px; overflow: hidden; text-overflow: ellipsis; \">&quot;CCNQ&quot;</td><td style=\"white-space: nowrap; max-width: 500px; overflow: hidden; text-overflow: ellipsis; \">166</td><td style=\"white-space: nowrap; max-width: 500px; overflow: hidden; text-overflow: ellipsis; \">3.71e+03</td><td style=\"white-space: nowrap; max-width: 500px; overflow: hidden; text-overflow: ellipsis; \">-2.60e-08</td><td style=\"white-space: nowrap; max-width: 500px; overflow: hidden; text-overflow: ellipsis; \">0</td></tr>\n",
       "<tr><td style=\"white-space: nowrap; max-width: 500px; overflow: hidden; text-overflow: ellipsis; \">&quot;SLC25A5&quot;</td><td style=\"white-space: nowrap; max-width: 500px; overflow: hidden; text-overflow: ellipsis; \">83</td><td style=\"white-space: nowrap; max-width: 500px; overflow: hidden; text-overflow: ellipsis; \">1.28e+04</td><td style=\"white-space: nowrap; max-width: 500px; overflow: hidden; text-overflow: ellipsis; \">-2.13e-08</td><td style=\"white-space: nowrap; max-width: 500px; overflow: hidden; text-overflow: ellipsis; \">0</td></tr>\n",
       "<tr><td style=\"white-space: nowrap; max-width: 500px; overflow: hidden; text-overflow: ellipsis; \">&quot;DUOX2&quot;</td><td style=\"white-space: nowrap; max-width: 500px; overflow: hidden; text-overflow: ellipsis; \">243</td><td style=\"white-space: nowrap; max-width: 500px; overflow: hidden; text-overflow: ellipsis; \">1.00e+04</td><td style=\"white-space: nowrap; max-width: 500px; overflow: hidden; text-overflow: ellipsis; \">-2.03e-08</td><td style=\"white-space: nowrap; max-width: 500px; overflow: hidden; text-overflow: ellipsis; \">0</td></tr>\n",
       "<tr><td style=\"white-space: nowrap; max-width: 500px; overflow: hidden; text-overflow: ellipsis; \">&quot;ADAM32&quot;</td><td style=\"white-space: nowrap; max-width: 500px; overflow: hidden; text-overflow: ellipsis; \">102</td><td style=\"white-space: nowrap; max-width: 500px; overflow: hidden; text-overflow: ellipsis; \">7.39e+03</td><td style=\"white-space: nowrap; max-width: 500px; overflow: hidden; text-overflow: ellipsis; \">-1.31e-08</td><td style=\"white-space: nowrap; max-width: 500px; overflow: hidden; text-overflow: ellipsis; \">0</td></tr>\n",
       "<tr><td style=\"white-space: nowrap; max-width: 500px; overflow: hidden; text-overflow: ellipsis; \">&quot;YAF2&quot;</td><td style=\"white-space: nowrap; max-width: 500px; overflow: hidden; text-overflow: ellipsis; \">231</td><td style=\"white-space: nowrap; max-width: 500px; overflow: hidden; text-overflow: ellipsis; \">2.11e+04</td><td style=\"white-space: nowrap; max-width: 500px; overflow: hidden; text-overflow: ellipsis; \">-9.87e-09</td><td style=\"white-space: nowrap; max-width: 500px; overflow: hidden; text-overflow: ellipsis; \">0</td></tr>\n",
       "<tr><td style=\"white-space: nowrap; max-width: 500px; overflow: hidden; text-overflow: ellipsis; \">&quot;ABCA7&quot;</td><td style=\"white-space: nowrap; max-width: 500px; overflow: hidden; text-overflow: ellipsis; \">307</td><td style=\"white-space: nowrap; max-width: 500px; overflow: hidden; text-overflow: ellipsis; \">2.67e+04</td><td style=\"white-space: nowrap; max-width: 500px; overflow: hidden; text-overflow: ellipsis; \">0.00e+00</td><td style=\"white-space: nowrap; max-width: 500px; overflow: hidden; text-overflow: ellipsis; \">0</td></tr>\n",
       "<tr><td style=\"white-space: nowrap; max-width: 500px; overflow: hidden; text-overflow: ellipsis; \">&quot;ABCC6&quot;</td><td style=\"white-space: nowrap; max-width: 500px; overflow: hidden; text-overflow: ellipsis; \">4</td><td style=\"white-space: nowrap; max-width: 500px; overflow: hidden; text-overflow: ellipsis; \">1.86e+03</td><td style=\"white-space: nowrap; max-width: 500px; overflow: hidden; text-overflow: ellipsis; \">0.00e+00</td><td style=\"white-space: nowrap; max-width: 500px; overflow: hidden; text-overflow: ellipsis; \">0</td></tr>\n",
       "<tr><td style=\"white-space: nowrap; max-width: 500px; overflow: hidden; text-overflow: ellipsis; \">&quot;ACACA&quot;</td><td style=\"white-space: nowrap; max-width: 500px; overflow: hidden; text-overflow: ellipsis; \">75</td><td style=\"white-space: nowrap; max-width: 500px; overflow: hidden; text-overflow: ellipsis; \">7.60e+03</td><td style=\"white-space: nowrap; max-width: 500px; overflow: hidden; text-overflow: ellipsis; \">0.00e+00</td><td style=\"white-space: nowrap; max-width: 500px; overflow: hidden; text-overflow: ellipsis; \">0</td></tr>\n",
       "<tr><td style=\"white-space: nowrap; max-width: 500px; overflow: hidden; text-overflow: ellipsis; \">&quot;C17orf78&quot;</td><td style=\"white-space: nowrap; max-width: 500px; overflow: hidden; text-overflow: ellipsis; \">19</td><td style=\"white-space: nowrap; max-width: 500px; overflow: hidden; text-overflow: ellipsis; \">2.79e+03</td><td style=\"white-space: nowrap; max-width: 500px; overflow: hidden; text-overflow: ellipsis; \">0.00e+00</td><td style=\"white-space: nowrap; max-width: 500px; overflow: hidden; text-overflow: ellipsis; \">0</td></tr>\n",
       "<tr><td style=\"white-space: nowrap; max-width: 500px; overflow: hidden; text-overflow: ellipsis; \">&quot;CNN2&quot;</td><td style=\"white-space: nowrap; max-width: 500px; overflow: hidden; text-overflow: ellipsis; \">338</td><td style=\"white-space: nowrap; max-width: 500px; overflow: hidden; text-overflow: ellipsis; \">2.62e+04</td><td style=\"white-space: nowrap; max-width: 500px; overflow: hidden; text-overflow: ellipsis; \">0.00e+00</td><td style=\"white-space: nowrap; max-width: 500px; overflow: hidden; text-overflow: ellipsis; \">0</td></tr>\n",
       "<tr><td style=\"white-space: nowrap; max-width: 500px; overflow: hidden; text-overflow: ellipsis; \">&quot;DEFB103A&quot;</td><td style=\"white-space: nowrap; max-width: 500px; overflow: hidden; text-overflow: ellipsis; \">19</td><td style=\"white-space: nowrap; max-width: 500px; overflow: hidden; text-overflow: ellipsis; \">1.35e+03</td><td style=\"white-space: nowrap; max-width: 500px; overflow: hidden; text-overflow: ellipsis; \">0.00e+00</td><td style=\"white-space: nowrap; max-width: 500px; overflow: hidden; text-overflow: ellipsis; \">0</td></tr>\n",
       "</tbody></table><p style=\"background: #fdd; padding: 0.4em;\">showing top 20 rows</p>\n"
      ],
      "text/plain": [
       "+------------+-------+----------+-----------+-------+\n",
       "| id         |  size |   q_stat |   p_value | fault |\n",
       "+------------+-------+----------+-----------+-------+\n",
       "| str        | int32 |  float64 |   float64 | int32 |\n",
       "+------------+-------+----------+-----------+-------+\n",
       "| \"GOLGA8Q\"  |    10 | 7.32e+02 | -2.27e-07 |     0 |\n",
       "| \"KCNK4\"    |   148 | 1.47e+04 | -9.74e-08 |     0 |\n",
       "| \"TPO\"      |   208 | 8.80e+03 | -8.90e-08 |     0 |\n",
       "| \"ZNF429\"   |   393 | 2.52e+04 | -8.62e-08 |     0 |\n",
       "| \"RRN3\"     |     4 | 3.18e+02 | -5.26e-08 |     0 |\n",
       "| \"UBE2A\"    |   215 | 1.31e+04 | -5.21e-08 |     0 |\n",
       "| \"DEFB106A\" |    58 | 1.94e+03 | -4.21e-08 |     0 |\n",
       "| \"ANKRD36\"  |   741 | 1.80e+04 | -3.56e-08 |     0 |\n",
       "| \"SLC25A43\" |   122 | 1.29e+04 | -2.89e-08 |     0 |\n",
       "| \"CCNQ\"     |   166 | 3.71e+03 | -2.60e-08 |     0 |\n",
       "| \"SLC25A5\"  |    83 | 1.28e+04 | -2.13e-08 |     0 |\n",
       "| \"DUOX2\"    |   243 | 1.00e+04 | -2.03e-08 |     0 |\n",
       "| \"ADAM32\"   |   102 | 7.39e+03 | -1.31e-08 |     0 |\n",
       "| \"YAF2\"     |   231 | 2.11e+04 | -9.87e-09 |     0 |\n",
       "| \"ABCA7\"    |   307 | 2.67e+04 |  0.00e+00 |     0 |\n",
       "| \"ABCC6\"    |     4 | 1.86e+03 |  0.00e+00 |     0 |\n",
       "| \"ACACA\"    |    75 | 7.60e+03 |  0.00e+00 |     0 |\n",
       "| \"C17orf78\" |    19 | 2.79e+03 |  0.00e+00 |     0 |\n",
       "| \"CNN2\"     |   338 | 2.62e+04 |  0.00e+00 |     0 |\n",
       "| \"DEFB103A\" |    19 | 1.35e+03 |  0.00e+00 |     0 |\n",
       "+------------+-------+----------+-----------+-------+\n",
       "showing top 20 rows"
      ]
     },
     "metadata": {},
     "output_type": "display_data"
    },
    {
     "name": "stderr",
     "output_type": "stream",
     "text": [
      "2023-04-17 12:00:42.050 Hail: INFO: Ordering unsorted dataset with network shuffle\n",
      "2023-04-17 12:01:05.981 Hail: INFO: wrote table with 17847 rows in 988 partitions to /localfs/2325106/tmp_hail/persist_tableGWwDzMDurG\n",
      "[Stage 14:=========================================>           (779 + 12) / 988]\r"
     ]
    }
   ],
   "source": [
    "skat_tables = []\n",
    "plots = []\n",
    "\n",
    "for pc in list(range(20)):\n",
    "    \n",
    "    print('tryin to run with '+str(pc)+' PCs and the pruned scores option')\n",
    "    \n",
    "    try:\n",
    "        skat_table, qq_plot = run_skat_log(s_vs_gts, pc, 'scores')\n",
    "        skat_tables.append(skat_table)\n",
    "        plots.append(qq_plot)\n",
    "        \n",
    "    except Exception as e:\n",
    "        print('run with'+str(pc)+' PCs and the pruned scores option failed')\n",
    "        print(type(e))\n",
    "    \n",
    "    print('trying run with '+str(pc)+' PCs and the just subsetet scores')\n",
    "    \n",
    "    try:\n",
    "        skat_table_no_filt, qq_plot_no_filt = run_skat_log(s_vs_gts, pc, 'scores_no_filter')\n",
    "        skat_tables.append(skat_table_no_filt)\n",
    "        plots.append(qq_plot_no_filt)\n",
    "        \n",
    "    except Exception as e:\n",
    "        print('run with'+str(pc)+' PCs and subseted scores no filters failed')\n",
    "        print(type(e))\n",
    "\n",
    "        "
   ]
  },
  {
   "cell_type": "markdown",
   "id": "2edbcb1c-ccf7-41a0-8c72-3f0b9caba29b",
   "metadata": {},
   "source": [
    "## Now run SKAT on selected genes only"
   ]
  },
  {
   "cell_type": "code",
   "execution_count": null,
   "id": "b486b583-9b2b-48fb-84c5-9f24b7fada7f",
   "metadata": {
    "tags": []
   },
   "outputs": [],
   "source": [
    "gene_list = ['DCC', 'RBFOX', 'SLC30A9', 'DCAF4L1', 'SORCS3', 'KCNQ5', 'KCNQ-IT1', 'APOPT1', 'C14orf2', 'NAA11', 'NEGR1',\n",
    "        'CHADL', 'SOX5', 'PANK2', 'COL27A1', 'PDGFB', 'CELSR3', 'OPA1', 'FBN2', 'WWC1', 'NIPBL', \n",
    "             'FN1', 'FBN2', 'SLITRK1', 'SLITRK2', 'SLITRK3', 'SLITRK4', 'SLITRK5', 'SLITRK6', \n",
    "             'HDC', 'OPRK1', 'PCDH10', 'NTSR2', 'CHD8', 'SCUBE1', 'PNKD', 'CNTNAP2', 'MOG', \n",
    "             'DRD2', 'DRD3', 'DRD4', 'DRD5', 'DAT1', 'DBH', 'HTR2A', 'TPH2', 'EAAT1', 'SAPAP3',\n",
    "            'CTNNA3', 'NLGN4', 'FSCB', 'IMMP2L', 'NRXN1', 'AADAC', 'DBH', 'MAOA', 'HTR1A', 'HTR2C', 'SLC6A4',\n",
    "             'TPH2', 'COL27A1', '5-HTTLPR', 'EAAT1', 'COL8A1', 'KCNE1', 'KCNE2',\n",
    "         'RICTOR', 'WWC1', 'CELSR3, NIPBL', 'FN1', 'PNKD', 'CDH26', 'CADM2', 'OPCML', 'CDH9',\n",
    "         'NCAM2', 'CD47', 'CDH5', 'CADM4', 'C1QBP', 'CTTN', 'LSAMP',\n",
    "         'PKP4', 'PCDH1', 'CNTNAP2', 'MBP', 'GABBR2', 'GABBR2', 'GRIK4', 'NCR1', 'FLT3', 'IL12A', 'HDAC9',\n",
    "         'CD180', 'CDH26', 'NCAM2', 'NTM', 'ROBO2', 'NR2F1', 'ASH1L', 'FLT3']"
   ]
  },
  {
   "cell_type": "code",
   "execution_count": null,
   "id": "f546f8a6-20f7-44c9-b450-5249d1acbb76",
   "metadata": {
    "tags": []
   },
   "outputs": [],
   "source": [
    "#for idx, mt in enumerate(mts): \n",
    "#    mt = mt.annotate_rows(\n",
    "#        nearest_genes_20kb = hl.array(\n",
    "#            hl.set(\n",
    "#                gtf.index(mt.locus, all_matches=True)['gene_symbol']))\n",
    "#    )\n",
    "    \n",
    "#    mt = mt.filter_rows(hl.any(lambda x: hl.literal(gene_list).contains(x), mt.nearest_genes_20kb))\n",
    "#    mt = mt.filter_rows(hl.agg.any(mt.GT.is_non_ref()))\n",
    "#    mt = mt.explode_rows(mt.nearest_genes_20kb)\n",
    "#    mt = mt.filter_rows(hl.literal(gene_list).contains(mt.nearest_genes_20kb))\n",
    "#    mt = mt.checkpoint(localfs_path+'for_skat_'+mts_paths[idx])\n",
    "#    mts[idx] = mt"
   ]
  },
  {
   "cell_type": "code",
   "execution_count": null,
   "id": "a740415f-a4e2-4a0a-9cac-510d7f83e341",
   "metadata": {},
   "outputs": [],
   "source": [
    "#at this point run some QC to compare the groups (overall) - do this later"
   ]
  },
  {
   "cell_type": "code",
   "execution_count": null,
   "id": "4839edfd-b3dc-4519-a32c-51d649b44053",
   "metadata": {},
   "outputs": [],
   "source": []
  }
 ],
 "metadata": {
  "kernelspec": {
   "display_name": "Python 3 (ipykernel)",
   "language": "python",
   "name": "python3"
  },
  "language_info": {
   "codemirror_mode": {
    "name": "ipython",
    "version": 3
   },
   "file_extension": ".py",
   "mimetype": "text/x-python",
   "name": "python",
   "nbconvert_exporter": "python",
   "pygments_lexer": "ipython3",
   "version": "3.10.4"
  }
 },
 "nbformat": 4,
 "nbformat_minor": 5
}
