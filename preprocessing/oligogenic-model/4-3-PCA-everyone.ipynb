{
 "cells": [
  {
   "cell_type": "code",
   "execution_count": 1,
   "id": "8830a0a3-d54a-4da3-8b32-a33ae3bbdb8c",
   "metadata": {},
   "outputs": [],
   "source": [
    "import os\n",
    "localfs_path = os.environ.get('SCRATCH_LOCAL') + '/'"
   ]
  },
  {
   "cell_type": "code",
   "execution_count": 2,
   "id": "7c4762a4-78b7-4788-aac0-b3510bd10a22",
   "metadata": {
    "tags": []
   },
   "outputs": [
    {
     "name": "stderr",
     "output_type": "stream",
     "text": [
      "Picked up _JAVA_OPTIONS: -Djava.io.tmpdir=/localfs/4725236/\n",
      "Picked up _JAVA_OPTIONS: -Djava.io.tmpdir=/localfs/4725236/\n"
     ]
    },
    {
     "name": "stdout",
     "output_type": "stream",
     "text": [
      "23/09/09 20:08:07 WARN NativeCodeLoader: Unable to load native-hadoop library for your platform... using builtin-java classes where applicable\n"
     ]
    },
    {
     "name": "stderr",
     "output_type": "stream",
     "text": [
      "Setting default log level to \"WARN\".\n",
      "To adjust logging level use sc.setLogLevel(newLevel). For SparkR, use setLogLevel(newLevel).\n",
      "Running on Apache Spark version 3.3.2\n",
      "SparkUI available at http://ac0697:4040\n",
      "Welcome to\n",
      "     __  __     <>__\n",
      "    / /_/ /__  __/ /\n",
      "   / __  / _ `/ / /\n",
      "  /_/ /_/\\_,_/_/_/   version 0.2.113-cf32652c5077\n",
      "LOGGING: writing to /net/pr2/projects/plgrid/plggneuromol/imdik-zekanowski-gts/preprocessing/oligogenic-model/hail-20230909-2007-0.2.113-cf32652c5077.log\n"
     ]
    }
   ],
   "source": [
    "os.environ['_JAVA_OPTIONS'] = f'-Djava.io.tmpdir={localfs_path}'\n",
    "\n",
    "import hail as hl\n",
    "\n",
    "hl.init(\n",
    "    tmp_dir=(localfs_path+'tmp_hail'),\n",
    "    spark_conf={'spark.driver.memory': '30G', 'spark.executor.memory': '10G'}, # I don't know what should be here\n",
    "    default_reference='GRCh38'\n",
    ") "
   ]
  },
  {
   "cell_type": "code",
   "execution_count": 3,
   "id": "cf582ceb-8db7-456a-933f-137b8ccc157e",
   "metadata": {
    "tags": []
   },
   "outputs": [
    {
     "data": {
      "text/html": [
       "\n",
       "    <div class=\"bk-root\">\n",
       "        <a href=\"https://bokeh.org\" target=\"_blank\" class=\"bk-logo bk-logo-small bk-logo-notebook\"></a>\n",
       "        <span id=\"1001\">Loading BokehJS ...</span>\n",
       "    </div>"
      ]
     },
     "metadata": {},
     "output_type": "display_data"
    },
    {
     "data": {
      "application/javascript": [
       "\n",
       "(function(root) {\n",
       "  function now() {\n",
       "    return new Date();\n",
       "  }\n",
       "\n",
       "  var force = true;\n",
       "\n",
       "  if (typeof root._bokeh_onload_callbacks === \"undefined\" || force === true) {\n",
       "    root._bokeh_onload_callbacks = [];\n",
       "    root._bokeh_is_loading = undefined;\n",
       "  }\n",
       "\n",
       "  var JS_MIME_TYPE = 'application/javascript';\n",
       "  var HTML_MIME_TYPE = 'text/html';\n",
       "  var EXEC_MIME_TYPE = 'application/vnd.bokehjs_exec.v0+json';\n",
       "  var CLASS_NAME = 'output_bokeh rendered_html';\n",
       "\n",
       "  /**\n",
       "   * Render data to the DOM node\n",
       "   */\n",
       "  function render(props, node) {\n",
       "    var script = document.createElement(\"script\");\n",
       "    node.appendChild(script);\n",
       "  }\n",
       "\n",
       "  /**\n",
       "   * Handle when an output is cleared or removed\n",
       "   */\n",
       "  function handleClearOutput(event, handle) {\n",
       "    var cell = handle.cell;\n",
       "\n",
       "    var id = cell.output_area._bokeh_element_id;\n",
       "    var server_id = cell.output_area._bokeh_server_id;\n",
       "    // Clean up Bokeh references\n",
       "    if (id != null && id in Bokeh.index) {\n",
       "      Bokeh.index[id].model.document.clear();\n",
       "      delete Bokeh.index[id];\n",
       "    }\n",
       "\n",
       "    if (server_id !== undefined) {\n",
       "      // Clean up Bokeh references\n",
       "      var cmd = \"from bokeh.io.state import curstate; print(curstate().uuid_to_server['\" + server_id + \"'].get_sessions()[0].document.roots[0]._id)\";\n",
       "      cell.notebook.kernel.execute(cmd, {\n",
       "        iopub: {\n",
       "          output: function(msg) {\n",
       "            var id = msg.content.text.trim();\n",
       "            if (id in Bokeh.index) {\n",
       "              Bokeh.index[id].model.document.clear();\n",
       "              delete Bokeh.index[id];\n",
       "            }\n",
       "          }\n",
       "        }\n",
       "      });\n",
       "      // Destroy server and session\n",
       "      var cmd = \"import bokeh.io.notebook as ion; ion.destroy_server('\" + server_id + \"')\";\n",
       "      cell.notebook.kernel.execute(cmd);\n",
       "    }\n",
       "  }\n",
       "\n",
       "  /**\n",
       "   * Handle when a new output is added\n",
       "   */\n",
       "  function handleAddOutput(event, handle) {\n",
       "    var output_area = handle.output_area;\n",
       "    var output = handle.output;\n",
       "\n",
       "    // limit handleAddOutput to display_data with EXEC_MIME_TYPE content only\n",
       "    if ((output.output_type != \"display_data\") || (!output.data.hasOwnProperty(EXEC_MIME_TYPE))) {\n",
       "      return\n",
       "    }\n",
       "\n",
       "    var toinsert = output_area.element.find(\".\" + CLASS_NAME.split(' ')[0]);\n",
       "\n",
       "    if (output.metadata[EXEC_MIME_TYPE][\"id\"] !== undefined) {\n",
       "      toinsert[toinsert.length - 1].firstChild.textContent = output.data[JS_MIME_TYPE];\n",
       "      // store reference to embed id on output_area\n",
       "      output_area._bokeh_element_id = output.metadata[EXEC_MIME_TYPE][\"id\"];\n",
       "    }\n",
       "    if (output.metadata[EXEC_MIME_TYPE][\"server_id\"] !== undefined) {\n",
       "      var bk_div = document.createElement(\"div\");\n",
       "      bk_div.innerHTML = output.data[HTML_MIME_TYPE];\n",
       "      var script_attrs = bk_div.children[0].attributes;\n",
       "      for (var i = 0; i < script_attrs.length; i++) {\n",
       "        toinsert[toinsert.length - 1].firstChild.setAttribute(script_attrs[i].name, script_attrs[i].value);\n",
       "      }\n",
       "      // store reference to server id on output_area\n",
       "      output_area._bokeh_server_id = output.metadata[EXEC_MIME_TYPE][\"server_id\"];\n",
       "    }\n",
       "  }\n",
       "\n",
       "  function register_renderer(events, OutputArea) {\n",
       "\n",
       "    function append_mime(data, metadata, element) {\n",
       "      // create a DOM node to render to\n",
       "      var toinsert = this.create_output_subarea(\n",
       "        metadata,\n",
       "        CLASS_NAME,\n",
       "        EXEC_MIME_TYPE\n",
       "      );\n",
       "      this.keyboard_manager.register_events(toinsert);\n",
       "      // Render to node\n",
       "      var props = {data: data, metadata: metadata[EXEC_MIME_TYPE]};\n",
       "      render(props, toinsert[toinsert.length - 1]);\n",
       "      element.append(toinsert);\n",
       "      return toinsert\n",
       "    }\n",
       "\n",
       "    /* Handle when an output is cleared or removed */\n",
       "    events.on('clear_output.CodeCell', handleClearOutput);\n",
       "    events.on('delete.Cell', handleClearOutput);\n",
       "\n",
       "    /* Handle when a new output is added */\n",
       "    events.on('output_added.OutputArea', handleAddOutput);\n",
       "\n",
       "    /**\n",
       "     * Register the mime type and append_mime function with output_area\n",
       "     */\n",
       "    OutputArea.prototype.register_mime_type(EXEC_MIME_TYPE, append_mime, {\n",
       "      /* Is output safe? */\n",
       "      safe: true,\n",
       "      /* Index of renderer in `output_area.display_order` */\n",
       "      index: 0\n",
       "    });\n",
       "  }\n",
       "\n",
       "  // register the mime type if in Jupyter Notebook environment and previously unregistered\n",
       "  if (root.Jupyter !== undefined) {\n",
       "    var events = require('base/js/events');\n",
       "    var OutputArea = require('notebook/js/outputarea').OutputArea;\n",
       "\n",
       "    if (OutputArea.prototype.mime_types().indexOf(EXEC_MIME_TYPE) == -1) {\n",
       "      register_renderer(events, OutputArea);\n",
       "    }\n",
       "  }\n",
       "\n",
       "  \n",
       "  if (typeof (root._bokeh_timeout) === \"undefined\" || force === true) {\n",
       "    root._bokeh_timeout = Date.now() + 5000;\n",
       "    root._bokeh_failed_load = false;\n",
       "  }\n",
       "\n",
       "  var NB_LOAD_WARNING = {'data': {'text/html':\n",
       "     \"<div style='background-color: #fdd'>\\n\"+\n",
       "     \"<p>\\n\"+\n",
       "     \"BokehJS does not appear to have successfully loaded. If loading BokehJS from CDN, this \\n\"+\n",
       "     \"may be due to a slow or bad network connection. Possible fixes:\\n\"+\n",
       "     \"</p>\\n\"+\n",
       "     \"<ul>\\n\"+\n",
       "     \"<li>re-rerun `output_notebook()` to attempt to load from CDN again, or</li>\\n\"+\n",
       "     \"<li>use INLINE resources instead, as so:</li>\\n\"+\n",
       "     \"</ul>\\n\"+\n",
       "     \"<code>\\n\"+\n",
       "     \"from bokeh.resources import INLINE\\n\"+\n",
       "     \"output_notebook(resources=INLINE)\\n\"+\n",
       "     \"</code>\\n\"+\n",
       "     \"</div>\"}};\n",
       "\n",
       "  function display_loaded() {\n",
       "    var el = document.getElementById(\"1001\");\n",
       "    if (el != null) {\n",
       "      el.textContent = \"BokehJS is loading...\";\n",
       "    }\n",
       "    if (root.Bokeh !== undefined) {\n",
       "      if (el != null) {\n",
       "        el.textContent = \"BokehJS \" + root.Bokeh.version + \" successfully loaded.\";\n",
       "      }\n",
       "    } else if (Date.now() < root._bokeh_timeout) {\n",
       "      setTimeout(display_loaded, 100)\n",
       "    }\n",
       "  }\n",
       "\n",
       "\n",
       "  function run_callbacks() {\n",
       "    try {\n",
       "      root._bokeh_onload_callbacks.forEach(function(callback) {\n",
       "        if (callback != null)\n",
       "          callback();\n",
       "      });\n",
       "    } finally {\n",
       "      delete root._bokeh_onload_callbacks\n",
       "    }\n",
       "    console.debug(\"Bokeh: all callbacks have finished\");\n",
       "  }\n",
       "\n",
       "  function load_libs(css_urls, js_urls, callback) {\n",
       "    if (css_urls == null) css_urls = [];\n",
       "    if (js_urls == null) js_urls = [];\n",
       "\n",
       "    root._bokeh_onload_callbacks.push(callback);\n",
       "    if (root._bokeh_is_loading > 0) {\n",
       "      console.debug(\"Bokeh: BokehJS is being loaded, scheduling callback at\", now());\n",
       "      return null;\n",
       "    }\n",
       "    if (js_urls == null || js_urls.length === 0) {\n",
       "      run_callbacks();\n",
       "      return null;\n",
       "    }\n",
       "    console.debug(\"Bokeh: BokehJS not loaded, scheduling load and callback at\", now());\n",
       "    root._bokeh_is_loading = css_urls.length + js_urls.length;\n",
       "\n",
       "    function on_load() {\n",
       "      root._bokeh_is_loading--;\n",
       "      if (root._bokeh_is_loading === 0) {\n",
       "        console.debug(\"Bokeh: all BokehJS libraries/stylesheets loaded\");\n",
       "        run_callbacks()\n",
       "      }\n",
       "    }\n",
       "\n",
       "    function on_error() {\n",
       "      console.error(\"failed to load \" + url);\n",
       "    }\n",
       "\n",
       "    for (var i = 0; i < css_urls.length; i++) {\n",
       "      var url = css_urls[i];\n",
       "      const element = document.createElement(\"link\");\n",
       "      element.onload = on_load;\n",
       "      element.onerror = on_error;\n",
       "      element.rel = \"stylesheet\";\n",
       "      element.type = \"text/css\";\n",
       "      element.href = url;\n",
       "      console.debug(\"Bokeh: injecting link tag for BokehJS stylesheet: \", url);\n",
       "      document.body.appendChild(element);\n",
       "    }\n",
       "\n",
       "    for (var i = 0; i < js_urls.length; i++) {\n",
       "      var url = js_urls[i];\n",
       "      var element = document.createElement('script');\n",
       "      element.onload = on_load;\n",
       "      element.onerror = on_error;\n",
       "      element.async = false;\n",
       "      element.src = url;\n",
       "      console.debug(\"Bokeh: injecting script tag for BokehJS library: \", url);\n",
       "      document.head.appendChild(element);\n",
       "    }\n",
       "  };var element = document.getElementById(\"1001\");\n",
       "  if (element == null) {\n",
       "    console.error(\"Bokeh: ERROR: autoload.js configured with elementid '1001' but no matching script tag was found. \")\n",
       "    return false;\n",
       "  }\n",
       "\n",
       "  function inject_raw_css(css) {\n",
       "    const element = document.createElement(\"style\");\n",
       "    element.appendChild(document.createTextNode(css));\n",
       "    document.body.appendChild(element);\n",
       "  }\n",
       "\n",
       "  \n",
       "  var js_urls = [\"https://cdn.pydata.org/bokeh/release/bokeh-1.4.0.min.js\", \"https://cdn.pydata.org/bokeh/release/bokeh-widgets-1.4.0.min.js\", \"https://cdn.pydata.org/bokeh/release/bokeh-tables-1.4.0.min.js\", \"https://cdn.pydata.org/bokeh/release/bokeh-gl-1.4.0.min.js\"];\n",
       "  var css_urls = [];\n",
       "  \n",
       "\n",
       "  var inline_js = [\n",
       "    function(Bokeh) {\n",
       "      Bokeh.set_log_level(\"info\");\n",
       "    },\n",
       "    function(Bokeh) {\n",
       "    \n",
       "    \n",
       "    }\n",
       "  ];\n",
       "\n",
       "  function run_inline_js() {\n",
       "    \n",
       "    if (root.Bokeh !== undefined || force === true) {\n",
       "      \n",
       "    for (var i = 0; i < inline_js.length; i++) {\n",
       "      inline_js[i].call(root, root.Bokeh);\n",
       "    }\n",
       "    if (force === true) {\n",
       "        display_loaded();\n",
       "      }} else if (Date.now() < root._bokeh_timeout) {\n",
       "      setTimeout(run_inline_js, 100);\n",
       "    } else if (!root._bokeh_failed_load) {\n",
       "      console.log(\"Bokeh: BokehJS failed to load within specified timeout.\");\n",
       "      root._bokeh_failed_load = true;\n",
       "    } else if (force !== true) {\n",
       "      var cell = $(document.getElementById(\"1001\")).parents('.cell').data().cell;\n",
       "      cell.output_area.append_execute_result(NB_LOAD_WARNING)\n",
       "    }\n",
       "\n",
       "  }\n",
       "\n",
       "  if (root._bokeh_is_loading === 0) {\n",
       "    console.debug(\"Bokeh: BokehJS loaded, going straight to plotting\");\n",
       "    run_inline_js();\n",
       "  } else {\n",
       "    load_libs(css_urls, js_urls, function() {\n",
       "      console.debug(\"Bokeh: BokehJS plotting callback run at\", now());\n",
       "      run_inline_js();\n",
       "    });\n",
       "  }\n",
       "}(window));"
      ],
      "application/vnd.bokehjs_load.v0+json": "\n(function(root) {\n  function now() {\n    return new Date();\n  }\n\n  var force = true;\n\n  if (typeof root._bokeh_onload_callbacks === \"undefined\" || force === true) {\n    root._bokeh_onload_callbacks = [];\n    root._bokeh_is_loading = undefined;\n  }\n\n  \n\n  \n  if (typeof (root._bokeh_timeout) === \"undefined\" || force === true) {\n    root._bokeh_timeout = Date.now() + 5000;\n    root._bokeh_failed_load = false;\n  }\n\n  var NB_LOAD_WARNING = {'data': {'text/html':\n     \"<div style='background-color: #fdd'>\\n\"+\n     \"<p>\\n\"+\n     \"BokehJS does not appear to have successfully loaded. If loading BokehJS from CDN, this \\n\"+\n     \"may be due to a slow or bad network connection. Possible fixes:\\n\"+\n     \"</p>\\n\"+\n     \"<ul>\\n\"+\n     \"<li>re-rerun `output_notebook()` to attempt to load from CDN again, or</li>\\n\"+\n     \"<li>use INLINE resources instead, as so:</li>\\n\"+\n     \"</ul>\\n\"+\n     \"<code>\\n\"+\n     \"from bokeh.resources import INLINE\\n\"+\n     \"output_notebook(resources=INLINE)\\n\"+\n     \"</code>\\n\"+\n     \"</div>\"}};\n\n  function display_loaded() {\n    var el = document.getElementById(\"1001\");\n    if (el != null) {\n      el.textContent = \"BokehJS is loading...\";\n    }\n    if (root.Bokeh !== undefined) {\n      if (el != null) {\n        el.textContent = \"BokehJS \" + root.Bokeh.version + \" successfully loaded.\";\n      }\n    } else if (Date.now() < root._bokeh_timeout) {\n      setTimeout(display_loaded, 100)\n    }\n  }\n\n\n  function run_callbacks() {\n    try {\n      root._bokeh_onload_callbacks.forEach(function(callback) {\n        if (callback != null)\n          callback();\n      });\n    } finally {\n      delete root._bokeh_onload_callbacks\n    }\n    console.debug(\"Bokeh: all callbacks have finished\");\n  }\n\n  function load_libs(css_urls, js_urls, callback) {\n    if (css_urls == null) css_urls = [];\n    if (js_urls == null) js_urls = [];\n\n    root._bokeh_onload_callbacks.push(callback);\n    if (root._bokeh_is_loading > 0) {\n      console.debug(\"Bokeh: BokehJS is being loaded, scheduling callback at\", now());\n      return null;\n    }\n    if (js_urls == null || js_urls.length === 0) {\n      run_callbacks();\n      return null;\n    }\n    console.debug(\"Bokeh: BokehJS not loaded, scheduling load and callback at\", now());\n    root._bokeh_is_loading = css_urls.length + js_urls.length;\n\n    function on_load() {\n      root._bokeh_is_loading--;\n      if (root._bokeh_is_loading === 0) {\n        console.debug(\"Bokeh: all BokehJS libraries/stylesheets loaded\");\n        run_callbacks()\n      }\n    }\n\n    function on_error() {\n      console.error(\"failed to load \" + url);\n    }\n\n    for (var i = 0; i < css_urls.length; i++) {\n      var url = css_urls[i];\n      const element = document.createElement(\"link\");\n      element.onload = on_load;\n      element.onerror = on_error;\n      element.rel = \"stylesheet\";\n      element.type = \"text/css\";\n      element.href = url;\n      console.debug(\"Bokeh: injecting link tag for BokehJS stylesheet: \", url);\n      document.body.appendChild(element);\n    }\n\n    for (var i = 0; i < js_urls.length; i++) {\n      var url = js_urls[i];\n      var element = document.createElement('script');\n      element.onload = on_load;\n      element.onerror = on_error;\n      element.async = false;\n      element.src = url;\n      console.debug(\"Bokeh: injecting script tag for BokehJS library: \", url);\n      document.head.appendChild(element);\n    }\n  };var element = document.getElementById(\"1001\");\n  if (element == null) {\n    console.error(\"Bokeh: ERROR: autoload.js configured with elementid '1001' but no matching script tag was found. \")\n    return false;\n  }\n\n  function inject_raw_css(css) {\n    const element = document.createElement(\"style\");\n    element.appendChild(document.createTextNode(css));\n    document.body.appendChild(element);\n  }\n\n  \n  var js_urls = [\"https://cdn.pydata.org/bokeh/release/bokeh-1.4.0.min.js\", \"https://cdn.pydata.org/bokeh/release/bokeh-widgets-1.4.0.min.js\", \"https://cdn.pydata.org/bokeh/release/bokeh-tables-1.4.0.min.js\", \"https://cdn.pydata.org/bokeh/release/bokeh-gl-1.4.0.min.js\"];\n  var css_urls = [];\n  \n\n  var inline_js = [\n    function(Bokeh) {\n      Bokeh.set_log_level(\"info\");\n    },\n    function(Bokeh) {\n    \n    \n    }\n  ];\n\n  function run_inline_js() {\n    \n    if (root.Bokeh !== undefined || force === true) {\n      \n    for (var i = 0; i < inline_js.length; i++) {\n      inline_js[i].call(root, root.Bokeh);\n    }\n    if (force === true) {\n        display_loaded();\n      }} else if (Date.now() < root._bokeh_timeout) {\n      setTimeout(run_inline_js, 100);\n    } else if (!root._bokeh_failed_load) {\n      console.log(\"Bokeh: BokehJS failed to load within specified timeout.\");\n      root._bokeh_failed_load = true;\n    } else if (force !== true) {\n      var cell = $(document.getElementById(\"1001\")).parents('.cell').data().cell;\n      cell.output_area.append_execute_result(NB_LOAD_WARNING)\n    }\n\n  }\n\n  if (root._bokeh_is_loading === 0) {\n    console.debug(\"Bokeh: BokehJS loaded, going straight to plotting\");\n    run_inline_js();\n  } else {\n    load_libs(css_urls, js_urls, function() {\n      console.debug(\"Bokeh: BokehJS plotting callback run at\", now());\n      run_inline_js();\n    });\n  }\n}(window));"
     },
     "metadata": {},
     "output_type": "display_data"
    }
   ],
   "source": [
    "from bokeh.io import show, output_notebook\n",
    "from bokeh.layouts import gridplot\n",
    "output_notebook()"
   ]
  },
  {
   "cell_type": "code",
   "execution_count": 6,
   "id": "24bfdbd7-7b94-43a2-91ed-c7ef75f231d5",
   "metadata": {
    "tags": []
   },
   "outputs": [],
   "source": [
    "poles = hl.read_matrix_table('/net/pr2/projects/plgrid/plggneuromol/imdik-zekanowski-gts/data/mts/oligogenic-model/synthetic-controls-no-zeros.mt')"
   ]
  },
  {
   "cell_type": "code",
   "execution_count": 7,
   "id": "f0b4b778-60ff-4ebf-b4d7-a03c416b7a0f",
   "metadata": {
    "tags": []
   },
   "outputs": [
    {
     "name": "stderr",
     "output_type": "stream",
     "text": [
      "2023-07-30 09:08:18.971 Hail: INFO: wrote matrix table with 3042073 rows and 1200 columns in 2 partitions to /localfs/4204273/poles_sex.mt\n"
     ]
    }
   ],
   "source": [
    "par1 = [10001,2781479]\n",
    "par2 = [155701383,156030895]\n",
    "\n",
    "nonpars = [[1,10000],[2781480,155701382]]\n",
    "\n",
    "polish_samples = []\n",
    "\n",
    "for i in range(1,1001):\n",
    "    polish_samples.append(str(i)+'_polish')\n",
    "\n",
    "poles_females = polish_samples[0:150] \n",
    "poles_males = polish_samples[150:]\n",
    "\n",
    "path_names = ['poles_zeros', 'poles']\n",
    "\n",
    "poles = poles.annotate_cols(\n",
    "        sex = hl.if_else(\n",
    "            hl.array(poles_females).contains(poles.s),\n",
    "            'F',\n",
    "            'M'\n",
    "        )\n",
    "    )\n",
    "    \n",
    "poles = poles.annotate_entries(\n",
    "        GT = hl.if_else(\n",
    "            poles.locus.contig == 'chrX',\n",
    "            hl.if_else(\n",
    "                poles['sex'] == 'F',\n",
    "                poles.GT,\n",
    "                hl.if_else(\n",
    "                    poles.locus.position > nonpars[1][1],\n",
    "                    poles.GT,\n",
    "                    hl.if_else(\n",
    "                        poles.locus.position < nonpars[0][1],\n",
    "                        hl.if_else(\n",
    "                            poles.locus.position > nonpars[0][0],\n",
    "                            poles.GT,\n",
    "                            hl.call(poles.GT[0], poles.GT[0])),\n",
    "                        hl.call(poles.GT[0], poles.GT[0])))),\n",
    "            poles.GT\n",
    "        )\n",
    "    )\n",
    "    \n",
    "poles = poles.checkpoint(localfs_path+'poles_sex.mt')  "
   ]
  },
  {
   "cell_type": "code",
   "execution_count": 12,
   "id": "cbb8971d-3833-4021-9331-349f4bf4c565",
   "metadata": {
    "tags": []
   },
   "outputs": [],
   "source": [
    "mt = hl.read_matrix_table('/net/pr2/projects/plgrid/plggneuromol/imdik-zekanowski-gts/data/mts/oligogenic-model/gts_and_s.mt')\n",
    "\n",
    "mt = mt.drop(\n",
    "    mt.group, mt.sample_qc\n",
    ")\n",
    "\n",
    "mt = mt.select_entries(\n",
    "    AD = mt.LAD,\n",
    "    DP = mt.DP,\n",
    "    GQ = mt.GQ,\n",
    "    GT = mt.GT,\n",
    "    MIN_DP = mt.MIN_DP,\n",
    "    PGT = mt.LPGT,\n",
    "    PID = mt.PID,\n",
    "    PL = mt.LPL,\n",
    "    PS = mt.PS,\n",
    "    RGQ = mt.RGQ,\n",
    "    SB = mt.SB\n",
    ")\n",
    "\n",
    "mt = mt.annotate_cols(sex = hl.missing(hl.tstr))"
   ]
  },
  {
   "cell_type": "code",
   "execution_count": null,
   "id": "c53eda42-ab80-44b5-8bcd-a88d004b856e",
   "metadata": {
    "tags": []
   },
   "outputs": [
    {
     "name": "stderr",
     "output_type": "stream",
     "text": [
      "[Stage 6:================>                                   (1430 + 30) / 4389]\r"
     ]
    }
   ],
   "source": [
    "samples_to_exclude = ['S_7288', 'S_7289', 'S_7290', 'WGS_6827', 'WGS_6835', 'WGS_5', 'WGS_8']\n",
    "#these are low quality samples to exclude\n",
    "\n",
    "mt = mt.filter_cols(\n",
    "    hl.literal(samples_to_exclude).contains(mt.s),\n",
    "    keep = False\n",
    ")\n",
    "\n",
    "#exclude duplicated sample \n",
    "\n",
    "mt = mt.distinct_by_col()\n",
    "\n",
    "pl = hl.read_matrix_table(localfs_path+'poles_sex.mt')  \n",
    "pl = pl.drop(pl.col_idx)\n",
    "pl = mt.union_cols(pl)\n",
    "pl.write(localfs_path+'pw_s_gts_union_3.mt')"
   ]
  },
  {
   "cell_type": "code",
   "execution_count": null,
   "id": "9f8a5a97-4496-44e6-8696-6c6cda71ed5d",
   "metadata": {
    "tags": []
   },
   "outputs": [],
   "source": [
    "mt = hl.read_matrix_table(localfs_path+'pw_s_gts_union_3.mt')"
   ]
  },
  {
   "cell_type": "code",
   "execution_count": null,
   "id": "ae83aa9a-d65e-43ff-a8d2-47c914d54dce",
   "metadata": {
    "tags": []
   },
   "outputs": [],
   "source": [
    "mt.count()"
   ]
  },
  {
   "cell_type": "code",
   "execution_count": null,
   "id": "41761a12-0750-4c09-ba2d-c7bbc32f4723",
   "metadata": {
    "tags": []
   },
   "outputs": [],
   "source": [
    "to_keep = hl.read_matrix_table(\n",
    "    '/net/pr2/projects/plgrid/plggneuromol/imdik-zekanowski-gts/data/mts/oligogenic-model/s_vs_gts.mt'\n",
    ")"
   ]
  },
  {
   "cell_type": "code",
   "execution_count": null,
   "id": "ff7408e3-bb87-44ac-b7b4-b01279dfed99",
   "metadata": {
    "tags": []
   },
   "outputs": [],
   "source": [
    "to_keep.aggregate_cols(hl.agg.counter(to_keep.group))"
   ]
  },
  {
   "cell_type": "code",
   "execution_count": null,
   "id": "30401d69-a8ce-4e36-b83f-4e46a65ad18e",
   "metadata": {
    "tags": []
   },
   "outputs": [],
   "source": [
    "pheno = hl.import_table(\n",
    "    '/net/pr2/projects/plgrid/plggneuromol/imdik-zekanowski-gts/data/pheno/GTS-coded-corrected-june-2021.csv',\n",
    "    impute=True,\n",
    "    delimiter=',',\n",
    "    quote=\"\\\"\"\n",
    "    )\n",
    "\n",
    "pheno = pheno.key_by(pheno.ID)\n",
    "\n",
    "mt = mt.annotate_cols(phenotypes = pheno[mt.s])"
   ]
  },
  {
   "cell_type": "code",
   "execution_count": null,
   "id": "cdabe969-4f57-43f9-8833-14d6f1c99be9",
   "metadata": {
    "tags": []
   },
   "outputs": [],
   "source": [
    "mt = mt.annotate_cols(\n",
    "    group = hl.if_else(\n",
    "        mt.s.contains('B'),\n",
    "        'local_controls',\n",
    "        hl.if_else(\n",
    "            mt.s.contains('polish'),\n",
    "            'polish_controls',\n",
    "            'GTS'\n",
    "        )\n",
    "    )\n",
    ") "
   ]
  },
  {
   "cell_type": "code",
   "execution_count": null,
   "id": "abe6ee0a-1164-4428-b8bf-e760ee59f6ec",
   "metadata": {
    "tags": []
   },
   "outputs": [],
   "source": [
    "mt = mt.filter_cols(\n",
    "    (\n",
    "        mt.group == 'polish_controls') | (\n",
    "        mt.group == 'local_controls') | (\n",
    "        mt.phenotypes.family != '.') | (\n",
    "        hl.is_defined(to_keep.cols()[mt.col_key])\n",
    "    )\n",
    ")"
   ]
  },
  {
   "cell_type": "code",
   "execution_count": null,
   "id": "05fa4308-dd77-43ca-ae35-4e8a332f6a2c",
   "metadata": {
    "tags": []
   },
   "outputs": [],
   "source": [
    "mt = mt.checkpoint(localfs_path+'pre_pca_gts.mt')"
   ]
  },
  {
   "cell_type": "code",
   "execution_count": null,
   "id": "5cd6b462-a281-41b3-a33a-65861eaa51e3",
   "metadata": {
    "tags": []
   },
   "outputs": [],
   "source": [
    "bed = hl.import_bed(\n",
    "    '/net/pr2/projects/plgrid/plggneuromol/matzieb/projects/imdik-zekanowski-sportwgs/data/prs-data/all-alt-scaffold-placement-GRCh38.p14.bed'\n",
    ")"
   ]
  },
  {
   "cell_type": "code",
   "execution_count": null,
   "id": "d2d0f453-1639-4c50-b1fb-eba3897a4054",
   "metadata": {
    "tags": []
   },
   "outputs": [],
   "source": [
    "mt = mt.filter_rows(\n",
    "    hl.is_snp(mt.alleles[0], mt.alleles[1]) & \n",
    "    mt.was_split == False &\n",
    "    hl.is_missing(bed[mt.locus])\n",
    ")  "
   ]
  },
  {
   "cell_type": "code",
   "execution_count": null,
   "id": "c36fdaa5-097a-4606-9a88-8a0e796adc70",
   "metadata": {},
   "outputs": [],
   "source": [
    "mt = mt.naive_coalesce(500)"
   ]
  },
  {
   "cell_type": "markdown",
   "id": "0920c804-13db-43bb-a700-e8f84a1feb96",
   "metadata": {
    "tags": []
   },
   "source": [
    "### RUN PCA for everyone"
   ]
  },
  {
   "cell_type": "code",
   "execution_count": null,
   "id": "f342cbac-a7ef-4597-92b0-b154f5e1b3df",
   "metadata": {
    "tags": []
   },
   "outputs": [],
   "source": [
    "mt = mt.checkpoint(localfs_path+'pre_pca_gts_filtered.mt')\n",
    "#mt = hl.read_matrix_table(localfs_path+'pre_pca_gts_filtered.mt')"
   ]
  },
  {
   "cell_type": "code",
   "execution_count": null,
   "id": "81f782e4-a8ce-49e1-b03f-a07e3b6350f2",
   "metadata": {
    "tags": []
   },
   "outputs": [],
   "source": [
    "mt.count()"
   ]
  },
  {
   "cell_type": "code",
   "execution_count": null,
   "id": "98f5ef02-a85a-46eb-990c-cbf60c9ecd49",
   "metadata": {
    "tags": []
   },
   "outputs": [],
   "source": [
    "def run_pca_no_filter(mtx, mtx_path, suffix):\n",
    "    \n",
    "    for_pca = mtx.sample_rows(0.2)\n",
    "\n",
    "    for_pca = for_pca.checkpoint(localfs_path+'subset_'+suffix+mtx_path)\n",
    "    for_pca = hl.read_matrix_table(localfs_path+'subset_'+suffix+mtx_path)\n",
    "    eigenvalues, pcs, _ = hl.hwe_normalized_pca(for_pca.GT, k=20)\n",
    "    \n",
    "    mtx = mtx.annotate_cols(scores_no_filter = pcs[mtx.s].scores)\n",
    "    mtx = mtx.checkpoint(localfs_path+'after_pca_no_filters_'+suffix+mtx_path)\n",
    "    \n",
    "    return(mtx)"
   ]
  },
  {
   "cell_type": "code",
   "execution_count": null,
   "id": "49ae3ccc-503c-4cc7-b3f8-940de9d86010",
   "metadata": {
    "tags": []
   },
   "outputs": [],
   "source": [
    "mt = run_pca_no_filter(mt, 'all_samples.mt', '1_')"
   ]
  },
  {
   "cell_type": "code",
   "execution_count": null,
   "id": "e4e0f6d3-8dd1-4b29-ab20-642da2d4b5b6",
   "metadata": {
    "tags": []
   },
   "outputs": [],
   "source": [
    "mt = mt.annotate_cols(\n",
    "    label = hl.if_else(\n",
    "        mt.group == 'local_controls',\n",
    "        'Polish elite sportsmen',\n",
    "        hl.if_else(\n",
    "            mt.group == 'polish_controls',\n",
    "            'Polish synthetic controls',\n",
    "            hl.if_else(\n",
    "                mt.phenotypes.family == '.',\n",
    "                'GTS',\n",
    "                hl.str('GTS family ')+mt.phenotypes.family\n",
    "            )\n",
    "        )\n",
    "    )\n",
    ")                "
   ]
  },
  {
   "cell_type": "code",
   "execution_count": 27,
   "id": "615f7bd2-0df0-4927-b1b6-3f1bc2858536",
   "metadata": {
    "tags": []
   },
   "outputs": [
    {
     "name": "stderr",
     "output_type": "stream",
     "text": [
      "/net/pr2/projects/plgrid/plggneuromol/imdik-zekanowski-gts/venv-hail-0.2.113/lib/python3.10/site-packages/bokeh/models/sources.py:235: FutureWarning: iteritems is deprecated and will be removed in a future version. Use .items instead.\n",
      "  tmp_data = {c: v.values for c, v in _df.iteritems()}\n"
     ]
    },
    {
     "data": {
      "text/html": [
       "\n",
       "\n",
       "\n",
       "\n",
       "\n",
       "\n",
       "  <div class=\"bk-root\" id=\"90749c3d-b5c0-451d-8b8f-52aa49a32aef\" data-root-id=\"1583\"></div>\n"
      ]
     },
     "metadata": {},
     "output_type": "display_data"
    },
    {
     "data": {
      "application/javascript": [
       "(function(root) {\n",
       "  function embed_document(root) {\n",
       "    \n",
       "  var docs_json = {\"1bd56996-248a-4046-9d1a-f897b7160606\":{\"roots\":{\"references\":[{\"attributes\":{\"below\":[{\"id\":\"1594\",\"type\":\"LinearAxis\"}],\"center\":[{\"id\":\"1598\",\"type\":\"Grid\"},{\"id\":\"1603\",\"type\":\"Grid\"}],\"left\":[{\"id\":\"1599\",\"type\":\"LinearAxis\"},{\"id\":\"1803\",\"type\":\"Legend\"},{\"id\":\"1804\",\"type\":\"ColorBar\"}],\"plot_height\":800,\"plot_width\":800,\"renderers\":[{\"id\":\"1626\",\"type\":\"GlyphRenderer\"},{\"id\":\"1632\",\"type\":\"GlyphRenderer\"},{\"id\":\"1638\",\"type\":\"GlyphRenderer\"},{\"id\":\"1644\",\"type\":\"GlyphRenderer\"},{\"id\":\"1650\",\"type\":\"GlyphRenderer\"},{\"id\":\"1656\",\"type\":\"GlyphRenderer\"},{\"id\":\"1662\",\"type\":\"GlyphRenderer\"},{\"id\":\"1668\",\"type\":\"GlyphRenderer\"},{\"id\":\"1674\",\"type\":\"GlyphRenderer\"},{\"id\":\"1680\",\"type\":\"GlyphRenderer\"},{\"id\":\"1686\",\"type\":\"GlyphRenderer\"},{\"id\":\"1692\",\"type\":\"GlyphRenderer\"},{\"id\":\"1698\",\"type\":\"GlyphRenderer\"},{\"id\":\"1704\",\"type\":\"GlyphRenderer\"},{\"id\":\"1710\",\"type\":\"GlyphRenderer\"},{\"id\":\"1716\",\"type\":\"GlyphRenderer\"},{\"id\":\"1722\",\"type\":\"GlyphRenderer\"},{\"id\":\"1728\",\"type\":\"GlyphRenderer\"},{\"id\":\"1734\",\"type\":\"GlyphRenderer\"},{\"id\":\"1740\",\"type\":\"GlyphRenderer\"},{\"id\":\"1746\",\"type\":\"GlyphRenderer\"},{\"id\":\"1752\",\"type\":\"GlyphRenderer\"},{\"id\":\"1758\",\"type\":\"GlyphRenderer\"},{\"id\":\"1764\",\"type\":\"GlyphRenderer\"},{\"id\":\"1770\",\"type\":\"GlyphRenderer\"},{\"id\":\"1776\",\"type\":\"GlyphRenderer\"}],\"title\":{\"id\":\"1584\",\"type\":\"Title\"},\"toolbar\":{\"id\":\"1610\",\"type\":\"Toolbar\"},\"x_range\":{\"id\":\"1586\",\"type\":\"DataRange1d\"},\"x_scale\":{\"id\":\"1590\",\"type\":\"LinearScale\"},\"y_range\":{\"id\":\"1588\",\"type\":\"DataRange1d\"},\"y_scale\":{\"id\":\"1592\",\"type\":\"LinearScale\"}},\"id\":\"1583\",\"subtype\":\"Figure\",\"type\":\"Plot\"},{\"attributes\":{\"label\":{\"value\":\"GTS family Z\"},\"renderers\":[{\"id\":\"1764\",\"type\":\"GlyphRenderer\"}]},\"id\":\"1800\",\"type\":\"LegendItem\"},{\"attributes\":{},\"id\":\"1605\",\"type\":\"WheelZoomTool\"},{\"attributes\":{\"fill_alpha\":{\"value\":0.1},\"fill_color\":{\"value\":\"#1f77b4\"},\"line_alpha\":{\"value\":0.1},\"line_color\":{\"value\":\"#1f77b4\"},\"x\":{\"field\":\"x\"},\"y\":{\"field\":\"y\"}},\"id\":\"1709\",\"type\":\"Circle\"},{\"attributes\":{\"label\":{\"value\":\"GTS family J\"},\"renderers\":[{\"id\":\"1686\",\"type\":\"GlyphRenderer\"}]},\"id\":\"1787\",\"type\":\"LegendItem\"},{\"attributes\":{\"column_name\":\"label\",\"group\":\"GTS family P\"},\"id\":\"1711\",\"type\":\"GroupFilter\"},{\"attributes\":{\"label\":{\"value\":\"GTS family H\"},\"renderers\":[{\"id\":\"1674\",\"type\":\"GlyphRenderer\"}]},\"id\":\"1785\",\"type\":\"LegendItem\"},{\"attributes\":{\"column_name\":\"label\",\"group\":\"GTS family R\"},\"id\":\"1717\",\"type\":\"GroupFilter\"},{\"attributes\":{\"data_source\":{\"id\":\"1619\",\"type\":\"ColumnDataSource\"},\"glyph\":{\"id\":\"1726\",\"type\":\"Circle\"},\"hover_glyph\":null,\"muted_glyph\":null,\"nonselection_glyph\":{\"id\":\"1727\",\"type\":\"Circle\"},\"selection_glyph\":null,\"view\":{\"id\":\"1724\",\"type\":\"CDSView\"}},\"id\":\"1728\",\"type\":\"GlyphRenderer\"},{\"attributes\":{\"data_source\":{\"id\":\"1619\",\"type\":\"ColumnDataSource\"},\"glyph\":{\"id\":\"1714\",\"type\":\"Circle\"},\"hover_glyph\":null,\"muted_glyph\":null,\"nonselection_glyph\":{\"id\":\"1715\",\"type\":\"Circle\"},\"selection_glyph\":null,\"view\":{\"id\":\"1712\",\"type\":\"CDSView\"}},\"id\":\"1716\",\"type\":\"GlyphRenderer\"},{\"attributes\":{\"callback\":null},\"id\":\"1586\",\"type\":\"DataRange1d\"},{\"attributes\":{\"label\":{\"value\":\"GTS family T\"},\"renderers\":[{\"id\":\"1734\",\"type\":\"GlyphRenderer\"}]},\"id\":\"1795\",\"type\":\"LegendItem\"},{\"attributes\":{\"fill_alpha\":{\"value\":0.1},\"fill_color\":{\"value\":\"#1f77b4\"},\"line_alpha\":{\"value\":0.1},\"line_color\":{\"value\":\"#1f77b4\"},\"x\":{\"field\":\"x\"},\"y\":{\"field\":\"y\"}},\"id\":\"1625\",\"type\":\"Circle\"},{\"attributes\":{\"fill_color\":{\"field\":\"label\",\"transform\":{\"id\":\"1620\",\"type\":\"CategoricalColorMapper\"}},\"line_color\":{\"field\":\"label\",\"transform\":{\"id\":\"1620\",\"type\":\"CategoricalColorMapper\"}},\"x\":{\"field\":\"x\"},\"y\":{\"field\":\"y\"}},\"id\":\"1714\",\"type\":\"Circle\"},{\"attributes\":{\"fill_color\":{\"field\":\"label\",\"transform\":{\"id\":\"1620\",\"type\":\"CategoricalColorMapper\"}},\"line_color\":{\"field\":\"label\",\"transform\":{\"id\":\"1620\",\"type\":\"CategoricalColorMapper\"}},\"x\":{\"field\":\"x\"},\"y\":{\"field\":\"y\"}},\"id\":\"1624\",\"type\":\"Circle\"},{\"attributes\":{\"label\":{\"value\":\"GTS family X\"},\"renderers\":[{\"id\":\"1752\",\"type\":\"GlyphRenderer\"}]},\"id\":\"1798\",\"type\":\"LegendItem\"},{\"attributes\":{\"column_name\":\"label\",\"group\":\"GTS family S\"},\"id\":\"1723\",\"type\":\"GroupFilter\"},{\"attributes\":{\"column_name\":\"label\",\"group\":\"GTS family W\"},\"id\":\"1741\",\"type\":\"GroupFilter\"},{\"attributes\":{\"filters\":[{\"id\":\"1711\",\"type\":\"GroupFilter\"}],\"source\":{\"id\":\"1619\",\"type\":\"ColumnDataSource\"}},\"id\":\"1712\",\"type\":\"CDSView\"},{\"attributes\":{\"label\":{\"value\":\"GTS family U\"},\"renderers\":[{\"id\":\"1740\",\"type\":\"GlyphRenderer\"}]},\"id\":\"1796\",\"type\":\"LegendItem\"},{\"attributes\":{\"column_name\":\"label\",\"group\":\"GTS family J\"},\"id\":\"1681\",\"type\":\"GroupFilter\"},{\"attributes\":{\"fill_alpha\":{\"value\":0.1},\"fill_color\":{\"value\":\"#1f77b4\"},\"line_alpha\":{\"value\":0.1},\"line_color\":{\"value\":\"#1f77b4\"},\"x\":{\"field\":\"x\"},\"y\":{\"field\":\"y\"}},\"id\":\"1739\",\"type\":\"Circle\"},{\"attributes\":{\"label\":{\"value\":\"GTS family W\"},\"renderers\":[{\"id\":\"1746\",\"type\":\"GlyphRenderer\"}]},\"id\":\"1797\",\"type\":\"LegendItem\"},{\"attributes\":{\"fill_alpha\":{\"value\":0.1},\"fill_color\":{\"value\":\"#1f77b4\"},\"line_alpha\":{\"value\":0.1},\"line_color\":{\"value\":\"#1f77b4\"},\"x\":{\"field\":\"x\"},\"y\":{\"field\":\"y\"}},\"id\":\"1715\",\"type\":\"Circle\"},{\"attributes\":{\"factors\":[\"GTS family X\",\"GTS family E\",\"GTS family U\",\"GTS family R\",\"GTS\",\"GTS family P\",\"GTS family D\",\"Polish elite sportsmen\",\"GTS family Z\",\"GTS family F\",\"GTS family L\",\"GTS family W\",\"GTS family K\",\"GTS family B\",\"GTS family C\",\"GTS family Y\",\"GTS family N\",\"GTS family A\",\"GTS family O\",\"GTS family I\",\"GTS family G\",\"GTS family S\",\"Polish synthetic controls\",\"GTS family J\",\"GTS family H\",\"GTS family T\"],\"palette\":[\"#440154\",\"#470F62\",\"#481D6F\",\"#472A79\",\"#453681\",\"#404387\",\"#3C4E8A\",\"#37598C\",\"#32638D\",\"#2E6D8E\",\"#29788E\",\"#26818E\",\"#228A8D\",\"#1F948B\",\"#1E9D88\",\"#22A784\",\"#2BB17D\",\"#39B976\",\"#4BC26C\",\"#60C960\",\"#79D151\",\"#92D741\",\"#ADDC30\",\"#C7E01F\",\"#E1E318\",\"#FDE724\"]},\"id\":\"1620\",\"type\":\"CategoricalColorMapper\"},{\"attributes\":{\"column_name\":\"label\",\"group\":\"GTS family C\"},\"id\":\"1639\",\"type\":\"GroupFilter\"},{\"attributes\":{\"label\":{\"value\":\"GTS family Y\"},\"renderers\":[{\"id\":\"1758\",\"type\":\"GlyphRenderer\"}]},\"id\":\"1799\",\"type\":\"LegendItem\"},{\"attributes\":{\"data_source\":{\"id\":\"1619\",\"type\":\"ColumnDataSource\"},\"glyph\":{\"id\":\"1720\",\"type\":\"Circle\"},\"hover_glyph\":null,\"muted_glyph\":null,\"nonselection_glyph\":{\"id\":\"1721\",\"type\":\"Circle\"},\"selection_glyph\":null,\"view\":{\"id\":\"1718\",\"type\":\"CDSView\"}},\"id\":\"1722\",\"type\":\"GlyphRenderer\"},{\"attributes\":{\"bottom_units\":\"screen\",\"fill_alpha\":{\"value\":0.5},\"fill_color\":{\"value\":\"lightgrey\"},\"left_units\":\"screen\",\"level\":\"overlay\",\"line_alpha\":{\"value\":1.0},\"line_color\":{\"value\":\"black\"},\"line_dash\":[4,4],\"line_width\":{\"value\":2},\"render_mode\":\"css\",\"right_units\":\"screen\",\"top_units\":\"screen\"},\"id\":\"1832\",\"type\":\"BoxAnnotation\"},{\"attributes\":{\"filters\":[{\"id\":\"1741\",\"type\":\"GroupFilter\"}],\"source\":{\"id\":\"1619\",\"type\":\"ColumnDataSource\"}},\"id\":\"1742\",\"type\":\"CDSView\"},{\"attributes\":{\"label\":{\"value\":\"GTS family S\"},\"renderers\":[{\"id\":\"1728\",\"type\":\"GlyphRenderer\"}]},\"id\":\"1794\",\"type\":\"LegendItem\"},{\"attributes\":{\"fill_color\":{\"field\":\"label\",\"transform\":{\"id\":\"1620\",\"type\":\"CategoricalColorMapper\"}},\"line_color\":{\"field\":\"label\",\"transform\":{\"id\":\"1620\",\"type\":\"CategoricalColorMapper\"}},\"x\":{\"field\":\"x\"},\"y\":{\"field\":\"y\"}},\"id\":\"1744\",\"type\":\"Circle\"},{\"attributes\":{},\"id\":\"1607\",\"type\":\"SaveTool\"},{\"attributes\":{\"column_name\":\"label\",\"group\":\"GTS family X\"},\"id\":\"1747\",\"type\":\"GroupFilter\"},{\"attributes\":{\"label\":{\"value\":\"GTS family P\"},\"renderers\":[{\"id\":\"1716\",\"type\":\"GlyphRenderer\"}]},\"id\":\"1792\",\"type\":\"LegendItem\"},{\"attributes\":{\"label\":{\"value\":\"GTS family O\"},\"renderers\":[{\"id\":\"1710\",\"type\":\"GlyphRenderer\"}]},\"id\":\"1791\",\"type\":\"LegendItem\"},{\"attributes\":{\"callback\":null,\"tooltips\":[[\"x\",\"@x\"],[\"y\",\"@y\"],[\"label\",\"@label\"]]},\"id\":\"1618\",\"type\":\"HoverTool\"},{\"attributes\":{\"fill_color\":{\"field\":\"label\",\"transform\":{\"id\":\"1620\",\"type\":\"CategoricalColorMapper\"}},\"line_color\":{\"field\":\"label\",\"transform\":{\"id\":\"1620\",\"type\":\"CategoricalColorMapper\"}},\"x\":{\"field\":\"x\"},\"y\":{\"field\":\"y\"}},\"id\":\"1750\",\"type\":\"Circle\"},{\"attributes\":{\"callback\":null,\"data\":{\"index\":[0,1,2,3,4,5,6,7,8,9,10,11,12,13,14,15,16,17,18,19,20,21,22,23,24,25,26,27,28,29,30,31,32,33,34,35,36,37,38,39,40,41,42,43,44,45,46,47,48,49,50,51,52,53,54,55,56,57,58,59,60,61,62,63,64,65,66,67,68,69,70,71,72,73,74,75,76,77,78,79,80,81,82,83,84,85,86,87,88,89,90,91,92,93,94,95,96,97,98,99,100,101,102,103,104,105,106,107,108,109,110,111,112,113,114,115,116,117,118,119,120,121,122,123,124,125,126,127,128,129,130,131,132,133,134,135,136,137,138,139,140,141,142,143,144,145,146,147,148,149,150,151,152,153,154,155,156,157,158,159,160,161,162,163,164,165,166,167,168,169,170,171,172,173,174,175,176,177,178,179,180,181,182,183,184],\"label\":[\"GTS family Y\",\"GTS family Y\",\"GTS family Y\",\"GTS family Y\",\"GTS family Y\",\"GTS family Y\",\"GTS family Y\",\"GTS family Y\",\"GTS family E\",\"GTS family E\",\"GTS family E\",\"GTS family E\",\"GTS family E\",\"GTS family E\",\"GTS family E\",\"GTS family A\",\"GTS family A\",\"GTS family A\",\"GTS family A\",\"GTS family A\",\"GTS family A\",\"GTS family A\",\"GTS family F\",\"GTS family F\",\"GTS family W\",\"Polish elite sportsmen\",\"GTS family P\",\"GTS family F\",\"GTS family F\",\"GTS family F\",\"GTS family F\",\"GTS family X\",\"GTS family X\",\"GTS family P\",\"GTS family F\",\"GTS family X\",\"Polish elite sportsmen\",\"GTS\",\"GTS family F\",\"GTS family F\",\"Polish elite sportsmen\",\"GTS\",\"Polish elite sportsmen\",\"GTS family W\",\"GTS family W\",\"Polish elite sportsmen\",\"GTS family X\",\"GTS\",\"Polish elite sportsmen\",\"Polish elite sportsmen\",\"Polish elite sportsmen\",\"Polish elite sportsmen\",\"GTS family W\",\"GTS\",\"Polish elite sportsmen\",\"Polish elite sportsmen\",\"GTS family L\",\"Polish elite sportsmen\",\"Polish elite sportsmen\",\"GTS family W\",\"GTS family H\",\"Polish elite sportsmen\",\"Polish elite sportsmen\",\"GTS\",\"GTS family W\",\"Polish elite sportsmen\",\"Polish elite sportsmen\",\"GTS family H\",\"GTS family L\",\"GTS family J\",\"Polish elite sportsmen\",\"Polish synthetic controls\",\"Polish elite sportsmen\",\"Polish elite sportsmen\",\"GTS family X\",\"GTS family H\",\"GTS family H\",\"GTS\",\"Polish synthetic controls\",\"Polish synthetic controls\",\"Polish elite sportsmen\",\"Polish elite sportsmen\",\"GTS family U\",\"GTS family I\",\"GTS family Z\",\"Polish synthetic controls\",\"Polish synthetic controls\",\"Polish synthetic controls\",\"Polish elite sportsmen\",\"Polish synthetic controls\",\"Polish synthetic controls\",\"Polish elite sportsmen\",\"GTS family W\",\"GTS family I\",\"GTS family I\",\"GTS family I\",\"GTS\",\"GTS family H\",\"Polish elite sportsmen\",\"Polish elite sportsmen\",\"Polish synthetic controls\",\"Polish synthetic controls\",\"Polish synthetic controls\",\"Polish synthetic controls\",\"Polish synthetic controls\",\"GTS family O\",\"Polish elite sportsmen\",\"GTS family I\",\"GTS family J\",\"Polish synthetic controls\",\"Polish synthetic controls\",\"Polish synthetic controls\",\"Polish synthetic controls\",\"Polish synthetic controls\",\"Polish elite sportsmen\",\"Polish elite sportsmen\",\"GTS family O\",\"GTS family S\",\"GTS family I\",\"Polish elite sportsmen\",\"Polish elite sportsmen\",\"Polish synthetic controls\",\"Polish synthetic controls\",\"Polish synthetic controls\",\"Polish synthetic controls\",\"Polish elite sportsmen\",\"GTS\",\"GTS family Z\",\"Polish elite sportsmen\",\"Polish elite sportsmen\",\"GTS family U\",\"Polish elite sportsmen\",\"GTS\",\"GTS family K\",\"GTS family S\",\"GTS family S\",\"GTS family S\",\"GTS\",\"GTS family G\",\"GTS family W\",\"GTS family C\",\"GTS family K\",\"GTS family D\",\"GTS family K\",\"GTS family D\",\"GTS family S\",\"GTS family G\",\"GTS family N\",\"GTS family U\",\"GTS family W\",\"GTS family S\",\"GTS\",\"GTS family B\",\"GTS family G\",\"GTS family R\",\"GTS family G\",\"GTS family D\",\"GTS family R\",\"GTS family R\",\"GTS family N\",\"GTS family B\",\"GTS family B\",\"GTS family B\",\"GTS family R\",\"GTS family D\",\"GTS family D\",\"GTS family R\",\"GTS family B\",\"GTS family B\",\"GTS family B\",\"GTS family D\",\"GTS family C\",\"GTS family C\",\"GTS family T\",\"GTS family C\",\"GTS family T\",\"GTS family C\",\"GTS family C\",\"GTS family T\",\"GTS family T\",\"GTS family T\",\"GTS family T\",\"GTS family T\",\"GTS family T\",\"GTS family T\"],\"x\":{\"__ndarray__\":\"76mxqNj46L9IvkHvHFXmv/Erna3mn+W/6chtgXrM47/WDZQvbanjv6/4z5bsK+O/MgZOMe324r9Zt/5liS/Tv06lNSLez9G/k82PVFei0L8vLa7LM5fQv2aoLPcCT9C/fO88cTVMzL/n2cqR1wnMv7KQA3sX1sW/tu9UCSI8s7+LsM3+fmayvyWs1tsTQLG/D6DCl0w8rr+NXOe4Z/Ksv/v+86XBVqW/hc7bfA9nmr+pTPVNoo2Pv6K0IBJRi46/4iOGnNLzkL+WPmMDdm6Ov7hVSxS20Yu/+ivG57x7jb/2yStPzmGKv6cHSHV8wYy/BNIB3xpoir+FTKQzvyiOv2JU5wVYcYu/5ZsI4BBIiL8d71gMYauGv4R3rlBuS4m/zq1D0/Tqib/IcwZgVKGJv5qYWpgvwYW/Q1tzVwVOg7/qrE0SetCEvzUeaOe9soK/DTdKsqu3g78gZ7bTD2aCv1G0/BlbwYS/EzbxZvn0hL9qs89HLWuAvyTJOt01XoC/tH49adBHf7/BtWo+09J9v2YrMDhO/ny/lFD0lXrdgL/1zQkYv41+v+RXNzBGene/6C6QCcsXdL90H0kC+Wx2v8zmuXfbz3m/Bi0xwzlUeb96MHNcZ+J2vysEq9MbXXW/ADsAdKVOcL+k9QbxIVVov1SvcHiJ7XK/c5eRQGT5cr+1UP54kbRwvwVPIM5MT2y/xL3SPJ/HZL9k1gJXZPFNvz+iZPYpSFa/9qRo/qbaY78t57dkiwdhv8zHHos5JlS/VQI4p0HkZb+ouUOEV5Fhv/68XEHen0O/s44BR9f+Rj+b47wT+a4jvzXjlDNI9TW/Fh1spwNqSb8JbdrWCVVGvzoCaRzcaUe/+4thubJ8S78cQQqAWxtIv5vs0WJ481Q/qmH7WZ5nYj/r19+FavhkPzUU6td33lI/T3bGTa69Uj/byVZTQr1SP/FDyEP5FlQ/Guu+wILUYj+PjBGX6+lcP7RimCECCF8/PM2oUOymbD+H/mc/PPtvP3szXVrMLnI/67rzzii/az90Tr9KQTRqP0kM+GUm7Gk/E+3cZ39QbD9g8xF2CnhqPyzqR6/lp2k/y8heGUnGaT/gWbn2M6BpP9Hn3lZEsW4/wmNFlSeJcj/GjgMpGkJwP7BviHzUXXk/vzG+PV5jeT/L/ndevQt1P6BGmzzDmHU//P2BMkALdT+KqE7wivR0P8tXeFqHdnU/RYuKUhS1dT8UGfSW6VJ1PwtHFE0IFnk/MruHU12ueT9lXhhMZDGCP4auObNJ9n0/wt/UB6eMfz+U9yE5oTB9P1dOaQ29F30/kwvF5zsYfT9k4E7w53F9P5tJGvSoOX4/dBG2cFEhgj/lTk5VD1KEP39eFQH3bYQ/ZKIUXs2IhD8ySZEr7W6DP6D0S9pE4oM/uG48TbOygj/h+pKatiuEP0+sSSqbM4U/WXHcGh2WhT8aL2MpeJeDP7DfSOoTqoo/K2Xi9yWMij/tYc0gV0KJP31DKh+m5oY/o4ajDq/Vhj/v3FzL4SiJP1NHnFK4y4c/dHJEOy7rhz9Am0u3D/qJPy+xEoP5oow/Yp9sW8yWiz8NDE7TI/WKP+BLXfbZkow/4SgJm5VhjT9Gi/pgghmPP1l38ehNIJE/QRSAq1Lsjz+feu280/mPP03FXEvev48/kocfl7THkD/SfViZE/aSPzmMTGVEppQ/6yXiq63Xkz8+HX/qp6OWP9PdNu+rxJk/3GQvRYDGmj8BC7AD25ScP5RK0pq/D5w/js6XumWfnT8NEXnXoHeeP9bWofjoH6A/b1FFs2pqoD8Imxqwm1CiP0WlHlSElKI/VSME7mlTqj+Uei4bx2isP/W+kSh/DK4/IFQqkrlGrj/Sq41t1QuxPz5UMtGx77A/NLaluDkFsT/mnYlNtVi5P0C0Ro9M2cY/PAWAAdioxz8r/fO72xDIP8ELQoJUHsg/6SnIn4BEyD8BClUL+bPLPw==\",\"dtype\":\"float64\",\"shape\":[185]},\"y\":{\"__ndarray__\":\"gDwvzCxK1r90Carcd+vTv97biaPaD9O/9ul9HMtg0b/nGSRkwTzRv6yMpUSjKNG/qPegg1fC0L/+mBqL803Av1m1qCMkjuY/WOKyfGre5T9k60WqnvblP8DgcakEYOU/3XYfGYGo4T9nO1XVe3rhP+N7v5vJ6N0/Q+d7bkOQwD89OkQwVkHAP1TQzeit6cA/r9AMXqM/vD+XaScxuiK6P+CaGezkILY/NTqhYV/NrD8PjVsbVXSWv5bCBxL/1pO/S5PcvFzUZj8x3XxGhBV/PxcA7QfrW56/f/OdOWjNlr9zK2AexnaUvwPpd5TU4pG/mw000SIth78/e+kDw7qGv7cUpP4Mw4K/lqzX6j/Elr/kaI626JaJv/EHZbOREIK/C5AnuLvbUz97hl/ZnOt9P9nN7lfnkZy/C8LwNSX5jr9Ut3PPU5d0v2J791HJ22m/4tHDuMR9Yb9Ad2VFW3g0vxIQriKdKGg/7q/qNJe5fD8kv8T4QaKRv1tXlIjWLIW/uHWuw+9Ieb8lcDXoRk9wvx2LQQXnb1a/HFtwbi8BYz+LfJyjgMd0P9nWFHw1HYC/7vAhPnJPbL/c89aO8vNMvzi6Y4hHQf++06zaIj/Kaz/BBSi6pvhyPx36Jrvth3o/reoJAQcGhr8+XBsCRtZxv2JvVpxbZmS/iBc3Tb4HUT84UkHrbIdgP2wV0bptvG4/3LI4jb3aj79Saiw+DiqFv1OhqxeUWoC/m8GA6W3Nc7/rq/dZziddvx9EmLxXkTa/nTr+sZeCZD9mABaoogJ6P0u8/8XBupG/djW8dzbyhb/ehLASQ694vw5DI+Ja+my/VWe6uZGFUb/o13+ZlnNIP01mBL0aO2U/PZzFL1xlbj+MItvLq3t5PzCYhw1DFJO/4msFrkMsgL/4O5K4z9Z2v2/SN9uleGm/swpMbMlkZb8jswkGjxxOPz87IbYwJms/UjjoYhxKcD9AEScGMo93PzD9q5awmIQ/0+uH7Bqjm78LS9BVJd+TvxCp6zBwD5G/TUnzxjmih78kjT46miWDv8rBysLv1IC/UuQHqD+ydL+V1Nd63y5pv/a8HkU69li/EJnxT/ngRr8IL4jFuJ5YP/qviQTl83A/mOTZ2X2yej8DuYAc1keAP5oUxM8Gt5G/nqvGnW7+gb/ZuIuOut91v9jl6zor9my/yN9clu8/YL/Zv6uEKkkyv5ojl0I8HFo/eOjUVOeqcj/SZApk73B4PwzPZrg1D4U/Q0YFqUUAjj8x6LE8h0STv3mO9WPzZoO/Q/6AxSZzd78MaQiJqxJwv900uICYtVG/uiJHl9ZPHT96QiS4ntZjPytx1Ra48XA/BiPRu9lNhT/AHJt6mlOAv7W7pBILsHG/yIpp4H94VT+NcI5UAChnPwVRYHOCuXA/5lmf0OXGgz9XNLJGZOmOP2YtvbtcT5Y/jhgUvEI3nT/Mb4ixe1GhP3B/PW5qAGu/UA+U7dxOZ7+C1i0o0LATv/wDK6oCrmA/Je/ArzW8cz/oIJhe7f58P8Mhp2ivJoY/VVY4hUb2iD9VZ2UpHNegP1Jd3iM8P4a/kZeKq8AyfL/jpStYBgZgP9ndmG3K4mw/yiqlzMrPoD8FveedMsiMv76Erpo1W4u/kt057/YLfL9g8d9UZ6BwvyhHLSS+6GU/9l4fT8VJiz/i8vQG9Q+Av1MZncpT5Yu/4lA+fj8rdr+AJCKgj4lKv9wCll0JzHu/sJAfxForfj8y1gAqXByHvyN8uxMegH8//qiqVdBHhj+OcESFGd18v4+Gpx8J+nG/UIC5zYMchT+obnCpLDx2Pw4SO0yki4g/Viiuk27Hhj8cfevbSDCUP4LS2pAMgrO/2K7CQ5hJlj+xLg1HTc+8vyXFeUcHb5A/pGGziMA+kj/tEnKnZ/LCv1TCdF+GDMy/h+phxEJKzr/htP23KgfPv5G/IkqoY82/X9Iyt/SEzL9TaQ/ZiqDQvw==\",\"dtype\":\"float64\",\"shape\":[185]}},\"selected\":{\"id\":\"1833\",\"type\":\"Selection\"},\"selection_policy\":{\"id\":\"1834\",\"type\":\"UnionRenderers\"}},\"id\":\"1619\",\"type\":\"ColumnDataSource\"},{\"attributes\":{\"axis_label\":\"PC4\",\"formatter\":{\"id\":\"1826\",\"type\":\"BasicTickFormatter\"},\"ticker\":{\"id\":\"1600\",\"type\":\"BasicTicker\"}},\"id\":\"1599\",\"type\":\"LinearAxis\"},{\"attributes\":{\"active_drag\":\"auto\",\"active_inspect\":\"auto\",\"active_multi\":null,\"active_scroll\":\"auto\",\"active_tap\":\"auto\",\"tools\":[{\"id\":\"1604\",\"type\":\"PanTool\"},{\"id\":\"1605\",\"type\":\"WheelZoomTool\"},{\"id\":\"1606\",\"type\":\"BoxZoomTool\"},{\"id\":\"1607\",\"type\":\"SaveTool\"},{\"id\":\"1608\",\"type\":\"ResetTool\"},{\"id\":\"1609\",\"type\":\"HelpTool\"},{\"id\":\"1618\",\"type\":\"HoverTool\"}]},\"id\":\"1610\",\"type\":\"Toolbar\"},{\"attributes\":{\"fill_alpha\":{\"value\":0.1},\"fill_color\":{\"value\":\"#1f77b4\"},\"line_alpha\":{\"value\":0.1},\"line_color\":{\"value\":\"#1f77b4\"},\"x\":{\"field\":\"x\"},\"y\":{\"field\":\"y\"}},\"id\":\"1745\",\"type\":\"Circle\"},{\"attributes\":{\"fill_alpha\":{\"value\":0.1},\"fill_color\":{\"value\":\"#1f77b4\"},\"line_alpha\":{\"value\":0.1},\"line_color\":{\"value\":\"#1f77b4\"},\"x\":{\"field\":\"x\"},\"y\":{\"field\":\"y\"}},\"id\":\"1727\",\"type\":\"Circle\"},{\"attributes\":{\"data_source\":{\"id\":\"1619\",\"type\":\"ColumnDataSource\"},\"glyph\":{\"id\":\"1750\",\"type\":\"Circle\"},\"hover_glyph\":null,\"muted_glyph\":null,\"nonselection_glyph\":{\"id\":\"1751\",\"type\":\"Circle\"},\"selection_glyph\":null,\"view\":{\"id\":\"1748\",\"type\":\"CDSView\"}},\"id\":\"1752\",\"type\":\"GlyphRenderer\"},{\"attributes\":{\"fill_color\":{\"field\":\"label\",\"transform\":{\"id\":\"1620\",\"type\":\"CategoricalColorMapper\"}},\"line_color\":{\"field\":\"label\",\"transform\":{\"id\":\"1620\",\"type\":\"CategoricalColorMapper\"}},\"x\":{\"field\":\"x\"},\"y\":{\"field\":\"y\"}},\"id\":\"1630\",\"type\":\"Circle\"},{\"attributes\":{\"label\":{\"value\":\"GTS family I\"},\"renderers\":[{\"id\":\"1680\",\"type\":\"GlyphRenderer\"}]},\"id\":\"1786\",\"type\":\"LegendItem\"},{\"attributes\":{\"label\":{\"value\":\"GTS family R\"},\"renderers\":[{\"id\":\"1722\",\"type\":\"GlyphRenderer\"}]},\"id\":\"1793\",\"type\":\"LegendItem\"},{\"attributes\":{\"label\":{\"value\":\"GTS family E\"},\"renderers\":[{\"id\":\"1656\",\"type\":\"GlyphRenderer\"}]},\"id\":\"1782\",\"type\":\"LegendItem\"},{\"attributes\":{\"label\":{\"value\":\"GTS family L\"},\"renderers\":[{\"id\":\"1698\",\"type\":\"GlyphRenderer\"}]},\"id\":\"1789\",\"type\":\"LegendItem\"},{\"attributes\":{\"filters\":[{\"id\":\"1717\",\"type\":\"GroupFilter\"}],\"source\":{\"id\":\"1619\",\"type\":\"ColumnDataSource\"}},\"id\":\"1718\",\"type\":\"CDSView\"},{\"attributes\":{\"filters\":[{\"id\":\"1747\",\"type\":\"GroupFilter\"}],\"source\":{\"id\":\"1619\",\"type\":\"ColumnDataSource\"}},\"id\":\"1748\",\"type\":\"CDSView\"},{\"attributes\":{\"label\":{\"value\":\"GTS family N\"},\"renderers\":[{\"id\":\"1704\",\"type\":\"GlyphRenderer\"}]},\"id\":\"1790\",\"type\":\"LegendItem\"},{\"attributes\":{\"fill_alpha\":{\"value\":0.1},\"fill_color\":{\"value\":\"#1f77b4\"},\"line_alpha\":{\"value\":0.1},\"line_color\":{\"value\":\"#1f77b4\"},\"x\":{\"field\":\"x\"},\"y\":{\"field\":\"y\"}},\"id\":\"1643\",\"type\":\"Circle\"},{\"attributes\":{\"label\":{\"value\":\"GTS family C\"},\"renderers\":[{\"id\":\"1644\",\"type\":\"GlyphRenderer\"}]},\"id\":\"1780\",\"type\":\"LegendItem\"},{\"attributes\":{\"fill_alpha\":{\"value\":0.1},\"fill_color\":{\"value\":\"#1f77b4\"},\"line_alpha\":{\"value\":0.1},\"line_color\":{\"value\":\"#1f77b4\"},\"x\":{\"field\":\"x\"},\"y\":{\"field\":\"y\"}},\"id\":\"1751\",\"type\":\"Circle\"},{\"attributes\":{\"label\":{\"value\":\"GTS family K\"},\"renderers\":[{\"id\":\"1692\",\"type\":\"GlyphRenderer\"}]},\"id\":\"1788\",\"type\":\"LegendItem\"},{\"attributes\":{\"ticker\":{\"id\":\"1595\",\"type\":\"BasicTicker\"}},\"id\":\"1598\",\"type\":\"Grid\"},{\"attributes\":{},\"id\":\"1830\",\"type\":\"BasicTickFormatter\"},{\"attributes\":{},\"id\":\"1826\",\"type\":\"BasicTickFormatter\"},{\"attributes\":{\"data_source\":{\"id\":\"1619\",\"type\":\"ColumnDataSource\"},\"glyph\":{\"id\":\"1756\",\"type\":\"Circle\"},\"hover_glyph\":null,\"muted_glyph\":null,\"nonselection_glyph\":{\"id\":\"1757\",\"type\":\"Circle\"},\"selection_glyph\":null,\"view\":{\"id\":\"1754\",\"type\":\"CDSView\"}},\"id\":\"1758\",\"type\":\"GlyphRenderer\"},{\"attributes\":{\"column_name\":\"label\",\"group\":\"GTS family Y\"},\"id\":\"1753\",\"type\":\"GroupFilter\"},{\"attributes\":{\"overlay\":{\"id\":\"1832\",\"type\":\"BoxAnnotation\"}},\"id\":\"1606\",\"type\":\"BoxZoomTool\"},{\"attributes\":{\"data_source\":{\"id\":\"1619\",\"type\":\"ColumnDataSource\"},\"glyph\":{\"id\":\"1642\",\"type\":\"Circle\"},\"hover_glyph\":null,\"muted_glyph\":null,\"nonselection_glyph\":{\"id\":\"1643\",\"type\":\"Circle\"},\"selection_glyph\":null,\"view\":{\"id\":\"1640\",\"type\":\"CDSView\"}},\"id\":\"1644\",\"type\":\"GlyphRenderer\"},{\"attributes\":{\"filters\":[{\"id\":\"1627\",\"type\":\"GroupFilter\"}],\"source\":{\"id\":\"1619\",\"type\":\"ColumnDataSource\"}},\"id\":\"1628\",\"type\":\"CDSView\"},{\"attributes\":{\"fill_color\":{\"field\":\"label\",\"transform\":{\"id\":\"1620\",\"type\":\"CategoricalColorMapper\"}},\"line_color\":{\"field\":\"label\",\"transform\":{\"id\":\"1620\",\"type\":\"CategoricalColorMapper\"}},\"x\":{\"field\":\"x\"},\"y\":{\"field\":\"y\"}},\"id\":\"1756\",\"type\":\"Circle\"},{\"attributes\":{\"filters\":[{\"id\":\"1753\",\"type\":\"GroupFilter\"}],\"source\":{\"id\":\"1619\",\"type\":\"ColumnDataSource\"}},\"id\":\"1754\",\"type\":\"CDSView\"},{\"attributes\":{},\"id\":\"1609\",\"type\":\"HelpTool\"},{\"attributes\":{\"data_source\":{\"id\":\"1619\",\"type\":\"ColumnDataSource\"},\"glyph\":{\"id\":\"1762\",\"type\":\"Circle\"},\"hover_glyph\":null,\"muted_glyph\":null,\"nonselection_glyph\":{\"id\":\"1763\",\"type\":\"Circle\"},\"selection_glyph\":null,\"view\":{\"id\":\"1760\",\"type\":\"CDSView\"}},\"id\":\"1764\",\"type\":\"GlyphRenderer\"},{\"attributes\":{\"data_source\":{\"id\":\"1619\",\"type\":\"ColumnDataSource\"},\"glyph\":{\"id\":\"1630\",\"type\":\"Circle\"},\"hover_glyph\":null,\"muted_glyph\":null,\"nonselection_glyph\":{\"id\":\"1631\",\"type\":\"Circle\"},\"selection_glyph\":null,\"view\":{\"id\":\"1628\",\"type\":\"CDSView\"}},\"id\":\"1632\",\"type\":\"GlyphRenderer\"},{\"attributes\":{\"click_policy\":\"hide\",\"items\":[{\"id\":\"1777\",\"type\":\"LegendItem\"},{\"id\":\"1778\",\"type\":\"LegendItem\"},{\"id\":\"1779\",\"type\":\"LegendItem\"},{\"id\":\"1780\",\"type\":\"LegendItem\"},{\"id\":\"1781\",\"type\":\"LegendItem\"},{\"id\":\"1782\",\"type\":\"LegendItem\"},{\"id\":\"1783\",\"type\":\"LegendItem\"},{\"id\":\"1784\",\"type\":\"LegendItem\"},{\"id\":\"1785\",\"type\":\"LegendItem\"},{\"id\":\"1786\",\"type\":\"LegendItem\"},{\"id\":\"1787\",\"type\":\"LegendItem\"},{\"id\":\"1788\",\"type\":\"LegendItem\"},{\"id\":\"1789\",\"type\":\"LegendItem\"},{\"id\":\"1790\",\"type\":\"LegendItem\"},{\"id\":\"1791\",\"type\":\"LegendItem\"},{\"id\":\"1792\",\"type\":\"LegendItem\"},{\"id\":\"1793\",\"type\":\"LegendItem\"},{\"id\":\"1794\",\"type\":\"LegendItem\"},{\"id\":\"1795\",\"type\":\"LegendItem\"},{\"id\":\"1796\",\"type\":\"LegendItem\"},{\"id\":\"1797\",\"type\":\"LegendItem\"},{\"id\":\"1798\",\"type\":\"LegendItem\"},{\"id\":\"1799\",\"type\":\"LegendItem\"},{\"id\":\"1800\",\"type\":\"LegendItem\"},{\"id\":\"1801\",\"type\":\"LegendItem\"},{\"id\":\"1802\",\"type\":\"LegendItem\"}]},\"id\":\"1803\",\"type\":\"Legend\"},{\"attributes\":{\"fill_color\":{\"field\":\"label\",\"transform\":{\"id\":\"1620\",\"type\":\"CategoricalColorMapper\"}},\"line_color\":{\"field\":\"label\",\"transform\":{\"id\":\"1620\",\"type\":\"CategoricalColorMapper\"}},\"x\":{\"field\":\"x\"},\"y\":{\"field\":\"y\"}},\"id\":\"1642\",\"type\":\"Circle\"},{\"attributes\":{\"dimension\":1,\"ticker\":{\"id\":\"1600\",\"type\":\"BasicTicker\"}},\"id\":\"1603\",\"type\":\"Grid\"},{\"attributes\":{\"column_name\":\"label\",\"group\":\"GTS family E\"},\"id\":\"1651\",\"type\":\"GroupFilter\"},{\"attributes\":{\"column_name\":\"label\",\"group\":\"GTS family Z\"},\"id\":\"1759\",\"type\":\"GroupFilter\"},{\"attributes\":{\"filters\":[{\"id\":\"1759\",\"type\":\"GroupFilter\"}],\"source\":{\"id\":\"1619\",\"type\":\"ColumnDataSource\"}},\"id\":\"1760\",\"type\":\"CDSView\"},{\"attributes\":{},\"id\":\"1833\",\"type\":\"Selection\"},{\"attributes\":{\"fill_alpha\":{\"value\":0.1},\"fill_color\":{\"value\":\"#1f77b4\"},\"line_alpha\":{\"value\":0.1},\"line_color\":{\"value\":\"#1f77b4\"},\"x\":{\"field\":\"x\"},\"y\":{\"field\":\"y\"}},\"id\":\"1757\",\"type\":\"Circle\"},{\"attributes\":{},\"id\":\"1600\",\"type\":\"BasicTicker\"},{\"attributes\":{\"fill_color\":{\"field\":\"label\",\"transform\":{\"id\":\"1620\",\"type\":\"CategoricalColorMapper\"}},\"line_color\":{\"field\":\"label\",\"transform\":{\"id\":\"1620\",\"type\":\"CategoricalColorMapper\"}},\"x\":{\"field\":\"x\"},\"y\":{\"field\":\"y\"}},\"id\":\"1720\",\"type\":\"Circle\"},{\"attributes\":{\"filters\":[{\"id\":\"1735\",\"type\":\"GroupFilter\"}],\"source\":{\"id\":\"1619\",\"type\":\"ColumnDataSource\"}},\"id\":\"1736\",\"type\":\"CDSView\"},{\"attributes\":{\"fill_color\":{\"field\":\"label\",\"transform\":{\"id\":\"1620\",\"type\":\"CategoricalColorMapper\"}},\"line_color\":{\"field\":\"label\",\"transform\":{\"id\":\"1620\",\"type\":\"CategoricalColorMapper\"}},\"x\":{\"field\":\"x\"},\"y\":{\"field\":\"y\"}},\"id\":\"1762\",\"type\":\"Circle\"},{\"attributes\":{\"column_name\":\"label\",\"group\":\"GTS family B\"},\"id\":\"1633\",\"type\":\"GroupFilter\"},{\"attributes\":{\"column_name\":\"label\",\"group\":\"Polish elite sportsmen\"},\"id\":\"1765\",\"type\":\"GroupFilter\"},{\"attributes\":{\"filters\":[{\"id\":\"1639\",\"type\":\"GroupFilter\"}],\"source\":{\"id\":\"1619\",\"type\":\"ColumnDataSource\"}},\"id\":\"1640\",\"type\":\"CDSView\"},{\"attributes\":{\"data_source\":{\"id\":\"1619\",\"type\":\"ColumnDataSource\"},\"glyph\":{\"id\":\"1648\",\"type\":\"Circle\"},\"hover_glyph\":null,\"muted_glyph\":null,\"nonselection_glyph\":{\"id\":\"1649\",\"type\":\"Circle\"},\"selection_glyph\":null,\"view\":{\"id\":\"1646\",\"type\":\"CDSView\"}},\"id\":\"1650\",\"type\":\"GlyphRenderer\"},{\"attributes\":{},\"id\":\"1834\",\"type\":\"UnionRenderers\"},{\"attributes\":{\"fill_color\":{\"field\":\"label\",\"transform\":{\"id\":\"1620\",\"type\":\"CategoricalColorMapper\"}},\"line_color\":{\"field\":\"label\",\"transform\":{\"id\":\"1620\",\"type\":\"CategoricalColorMapper\"}},\"x\":{\"field\":\"x\"},\"y\":{\"field\":\"y\"}},\"id\":\"1768\",\"type\":\"Circle\"},{\"attributes\":{\"fill_alpha\":{\"value\":0.1},\"fill_color\":{\"value\":\"#1f77b4\"},\"line_alpha\":{\"value\":0.1},\"line_color\":{\"value\":\"#1f77b4\"},\"x\":{\"field\":\"x\"},\"y\":{\"field\":\"y\"}},\"id\":\"1631\",\"type\":\"Circle\"},{\"attributes\":{\"color_mapper\":null,\"formatter\":{\"id\":\"1829\",\"type\":\"BasicTickFormatter\"},\"ticker\":{\"id\":\"1828\",\"type\":\"BasicTicker\"},\"visible\":false},\"id\":\"1804\",\"type\":\"ColorBar\"},{\"attributes\":{\"label\":{\"value\":\"GTS family D\"},\"renderers\":[{\"id\":\"1650\",\"type\":\"GlyphRenderer\"}]},\"id\":\"1781\",\"type\":\"LegendItem\"},{\"attributes\":{\"filters\":[{\"id\":\"1633\",\"type\":\"GroupFilter\"}],\"source\":{\"id\":\"1619\",\"type\":\"ColumnDataSource\"}},\"id\":\"1634\",\"type\":\"CDSView\"},{\"attributes\":{\"filters\":[{\"id\":\"1645\",\"type\":\"GroupFilter\"}],\"source\":{\"id\":\"1619\",\"type\":\"ColumnDataSource\"}},\"id\":\"1646\",\"type\":\"CDSView\"},{\"attributes\":{\"fill_alpha\":{\"value\":0.1},\"fill_color\":{\"value\":\"#1f77b4\"},\"line_alpha\":{\"value\":0.1},\"line_color\":{\"value\":\"#1f77b4\"},\"x\":{\"field\":\"x\"},\"y\":{\"field\":\"y\"}},\"id\":\"1763\",\"type\":\"Circle\"},{\"attributes\":{\"column_name\":\"label\",\"group\":\"GTS\"},\"id\":\"1621\",\"type\":\"GroupFilter\"},{\"attributes\":{\"label\":{\"value\":\"Polish synthetic controls\"},\"renderers\":[{\"id\":\"1776\",\"type\":\"GlyphRenderer\"}]},\"id\":\"1802\",\"type\":\"LegendItem\"},{\"attributes\":{\"fill_alpha\":{\"value\":0.1},\"fill_color\":{\"value\":\"#1f77b4\"},\"line_alpha\":{\"value\":0.1},\"line_color\":{\"value\":\"#1f77b4\"},\"x\":{\"field\":\"x\"},\"y\":{\"field\":\"y\"}},\"id\":\"1649\",\"type\":\"Circle\"},{\"attributes\":{\"data_source\":{\"id\":\"1619\",\"type\":\"ColumnDataSource\"},\"glyph\":{\"id\":\"1768\",\"type\":\"Circle\"},\"hover_glyph\":null,\"muted_glyph\":null,\"nonselection_glyph\":{\"id\":\"1769\",\"type\":\"Circle\"},\"selection_glyph\":null,\"view\":{\"id\":\"1766\",\"type\":\"CDSView\"}},\"id\":\"1770\",\"type\":\"GlyphRenderer\"},{\"attributes\":{},\"id\":\"1590\",\"type\":\"LinearScale\"},{\"attributes\":{\"fill_color\":{\"field\":\"label\",\"transform\":{\"id\":\"1620\",\"type\":\"CategoricalColorMapper\"}},\"line_color\":{\"field\":\"label\",\"transform\":{\"id\":\"1620\",\"type\":\"CategoricalColorMapper\"}},\"x\":{\"field\":\"x\"},\"y\":{\"field\":\"y\"}},\"id\":\"1648\",\"type\":\"Circle\"},{\"attributes\":{},\"id\":\"1828\",\"type\":\"BasicTicker\"},{\"attributes\":{\"data_source\":{\"id\":\"1619\",\"type\":\"ColumnDataSource\"},\"glyph\":{\"id\":\"1624\",\"type\":\"Circle\"},\"hover_glyph\":null,\"muted_glyph\":null,\"nonselection_glyph\":{\"id\":\"1625\",\"type\":\"Circle\"},\"selection_glyph\":null,\"view\":{\"id\":\"1622\",\"type\":\"CDSView\"}},\"id\":\"1626\",\"type\":\"GlyphRenderer\"},{\"attributes\":{\"data_source\":{\"id\":\"1619\",\"type\":\"ColumnDataSource\"},\"glyph\":{\"id\":\"1654\",\"type\":\"Circle\"},\"hover_glyph\":null,\"muted_glyph\":null,\"nonselection_glyph\":{\"id\":\"1655\",\"type\":\"Circle\"},\"selection_glyph\":null,\"view\":{\"id\":\"1652\",\"type\":\"CDSView\"}},\"id\":\"1656\",\"type\":\"GlyphRenderer\"},{\"attributes\":{\"fill_alpha\":{\"value\":0.1},\"fill_color\":{\"value\":\"#1f77b4\"},\"line_alpha\":{\"value\":0.1},\"line_color\":{\"value\":\"#1f77b4\"},\"x\":{\"field\":\"x\"},\"y\":{\"field\":\"y\"}},\"id\":\"1769\",\"type\":\"Circle\"},{\"attributes\":{\"filters\":[{\"id\":\"1765\",\"type\":\"GroupFilter\"}],\"source\":{\"id\":\"1619\",\"type\":\"ColumnDataSource\"}},\"id\":\"1766\",\"type\":\"CDSView\"},{\"attributes\":{\"label\":{\"value\":\"GTS family G\"},\"renderers\":[{\"id\":\"1668\",\"type\":\"GlyphRenderer\"}]},\"id\":\"1784\",\"type\":\"LegendItem\"},{\"attributes\":{\"fill_alpha\":{\"value\":0.1},\"fill_color\":{\"value\":\"#1f77b4\"},\"line_alpha\":{\"value\":0.1},\"line_color\":{\"value\":\"#1f77b4\"},\"x\":{\"field\":\"x\"},\"y\":{\"field\":\"y\"}},\"id\":\"1733\",\"type\":\"Circle\"},{\"attributes\":{\"filters\":[{\"id\":\"1621\",\"type\":\"GroupFilter\"}],\"source\":{\"id\":\"1619\",\"type\":\"ColumnDataSource\"}},\"id\":\"1622\",\"type\":\"CDSView\"},{\"attributes\":{\"fill_alpha\":{\"value\":0.1},\"fill_color\":{\"value\":\"#1f77b4\"},\"line_alpha\":{\"value\":0.1},\"line_color\":{\"value\":\"#1f77b4\"},\"x\":{\"field\":\"x\"},\"y\":{\"field\":\"y\"}},\"id\":\"1637\",\"type\":\"Circle\"},{\"attributes\":{\"column_name\":\"label\",\"group\":\"GTS family D\"},\"id\":\"1645\",\"type\":\"GroupFilter\"},{\"attributes\":{\"column_name\":\"label\",\"group\":\"Polish synthetic controls\"},\"id\":\"1771\",\"type\":\"GroupFilter\"},{\"attributes\":{\"filters\":[{\"id\":\"1651\",\"type\":\"GroupFilter\"}],\"source\":{\"id\":\"1619\",\"type\":\"ColumnDataSource\"}},\"id\":\"1652\",\"type\":\"CDSView\"},{\"attributes\":{\"data_source\":{\"id\":\"1619\",\"type\":\"ColumnDataSource\"},\"glyph\":{\"id\":\"1774\",\"type\":\"Circle\"},\"hover_glyph\":null,\"muted_glyph\":null,\"nonselection_glyph\":{\"id\":\"1775\",\"type\":\"Circle\"},\"selection_glyph\":null,\"view\":{\"id\":\"1772\",\"type\":\"CDSView\"}},\"id\":\"1776\",\"type\":\"GlyphRenderer\"},{\"attributes\":{\"fill_color\":{\"field\":\"label\",\"transform\":{\"id\":\"1620\",\"type\":\"CategoricalColorMapper\"}},\"line_color\":{\"field\":\"label\",\"transform\":{\"id\":\"1620\",\"type\":\"CategoricalColorMapper\"}},\"x\":{\"field\":\"x\"},\"y\":{\"field\":\"y\"}},\"id\":\"1654\",\"type\":\"Circle\"},{\"attributes\":{\"column_name\":\"label\",\"group\":\"GTS family A\"},\"id\":\"1627\",\"type\":\"GroupFilter\"},{\"attributes\":{\"fill_alpha\":{\"value\":0.1},\"fill_color\":{\"value\":\"#1f77b4\"},\"line_alpha\":{\"value\":0.1},\"line_color\":{\"value\":\"#1f77b4\"},\"x\":{\"field\":\"x\"},\"y\":{\"field\":\"y\"}},\"id\":\"1655\",\"type\":\"Circle\"},{\"attributes\":{\"filters\":[{\"id\":\"1771\",\"type\":\"GroupFilter\"}],\"source\":{\"id\":\"1619\",\"type\":\"ColumnDataSource\"}},\"id\":\"1772\",\"type\":\"CDSView\"},{\"attributes\":{\"data_source\":{\"id\":\"1619\",\"type\":\"ColumnDataSource\"},\"glyph\":{\"id\":\"1636\",\"type\":\"Circle\"},\"hover_glyph\":null,\"muted_glyph\":null,\"nonselection_glyph\":{\"id\":\"1637\",\"type\":\"Circle\"},\"selection_glyph\":null,\"view\":{\"id\":\"1634\",\"type\":\"CDSView\"}},\"id\":\"1638\",\"type\":\"GlyphRenderer\"},{\"attributes\":{\"fill_color\":{\"field\":\"label\",\"transform\":{\"id\":\"1620\",\"type\":\"CategoricalColorMapper\"}},\"line_color\":{\"field\":\"label\",\"transform\":{\"id\":\"1620\",\"type\":\"CategoricalColorMapper\"}},\"x\":{\"field\":\"x\"},\"y\":{\"field\":\"y\"}},\"id\":\"1738\",\"type\":\"Circle\"},{\"attributes\":{\"fill_color\":{\"field\":\"label\",\"transform\":{\"id\":\"1620\",\"type\":\"CategoricalColorMapper\"}},\"line_color\":{\"field\":\"label\",\"transform\":{\"id\":\"1620\",\"type\":\"CategoricalColorMapper\"}},\"x\":{\"field\":\"x\"},\"y\":{\"field\":\"y\"}},\"id\":\"1660\",\"type\":\"Circle\"},{\"attributes\":{\"label\":{\"value\":\"GTS family B\"},\"renderers\":[{\"id\":\"1638\",\"type\":\"GlyphRenderer\"}]},\"id\":\"1779\",\"type\":\"LegendItem\"},{\"attributes\":{\"column_name\":\"label\",\"group\":\"GTS family F\"},\"id\":\"1657\",\"type\":\"GroupFilter\"},{\"attributes\":{\"filters\":[{\"id\":\"1657\",\"type\":\"GroupFilter\"}],\"source\":{\"id\":\"1619\",\"type\":\"ColumnDataSource\"}},\"id\":\"1658\",\"type\":\"CDSView\"},{\"attributes\":{\"data_source\":{\"id\":\"1619\",\"type\":\"ColumnDataSource\"},\"glyph\":{\"id\":\"1660\",\"type\":\"Circle\"},\"hover_glyph\":null,\"muted_glyph\":null,\"nonselection_glyph\":{\"id\":\"1661\",\"type\":\"Circle\"},\"selection_glyph\":null,\"view\":{\"id\":\"1658\",\"type\":\"CDSView\"}},\"id\":\"1662\",\"type\":\"GlyphRenderer\"},{\"attributes\":{},\"id\":\"1829\",\"type\":\"BasicTickFormatter\"},{\"attributes\":{\"data_source\":{\"id\":\"1619\",\"type\":\"ColumnDataSource\"},\"glyph\":{\"id\":\"1738\",\"type\":\"Circle\"},\"hover_glyph\":null,\"muted_glyph\":null,\"nonselection_glyph\":{\"id\":\"1739\",\"type\":\"Circle\"},\"selection_glyph\":null,\"view\":{\"id\":\"1736\",\"type\":\"CDSView\"}},\"id\":\"1740\",\"type\":\"GlyphRenderer\"},{\"attributes\":{},\"id\":\"1595\",\"type\":\"BasicTicker\"},{\"attributes\":{\"fill_alpha\":{\"value\":0.1},\"fill_color\":{\"value\":\"#1f77b4\"},\"line_alpha\":{\"value\":0.1},\"line_color\":{\"value\":\"#1f77b4\"},\"x\":{\"field\":\"x\"},\"y\":{\"field\":\"y\"}},\"id\":\"1775\",\"type\":\"Circle\"},{\"attributes\":{\"fill_color\":{\"field\":\"label\",\"transform\":{\"id\":\"1620\",\"type\":\"CategoricalColorMapper\"}},\"line_color\":{\"field\":\"label\",\"transform\":{\"id\":\"1620\",\"type\":\"CategoricalColorMapper\"}},\"x\":{\"field\":\"x\"},\"y\":{\"field\":\"y\"}},\"id\":\"1666\",\"type\":\"Circle\"},{\"attributes\":{\"label\":{\"value\":\"GTS\"},\"renderers\":[{\"id\":\"1626\",\"type\":\"GlyphRenderer\"}]},\"id\":\"1777\",\"type\":\"LegendItem\"},{\"attributes\":{\"column_name\":\"label\",\"group\":\"GTS family G\"},\"id\":\"1663\",\"type\":\"GroupFilter\"},{\"attributes\":{\"fill_alpha\":{\"value\":0.1},\"fill_color\":{\"value\":\"#1f77b4\"},\"line_alpha\":{\"value\":0.1},\"line_color\":{\"value\":\"#1f77b4\"},\"x\":{\"field\":\"x\"},\"y\":{\"field\":\"y\"}},\"id\":\"1661\",\"type\":\"Circle\"},{\"attributes\":{\"label\":{\"value\":\"GTS family A\"},\"renderers\":[{\"id\":\"1632\",\"type\":\"GlyphRenderer\"}]},\"id\":\"1778\",\"type\":\"LegendItem\"},{\"attributes\":{\"column_name\":\"label\",\"group\":\"GTS family U\"},\"id\":\"1735\",\"type\":\"GroupFilter\"},{\"attributes\":{\"data_source\":{\"id\":\"1619\",\"type\":\"ColumnDataSource\"},\"glyph\":{\"id\":\"1666\",\"type\":\"Circle\"},\"hover_glyph\":null,\"muted_glyph\":null,\"nonselection_glyph\":{\"id\":\"1667\",\"type\":\"Circle\"},\"selection_glyph\":null,\"view\":{\"id\":\"1664\",\"type\":\"CDSView\"}},\"id\":\"1668\",\"type\":\"GlyphRenderer\"},{\"attributes\":{\"callback\":null},\"id\":\"1588\",\"type\":\"DataRange1d\"},{\"attributes\":{\"filters\":[{\"id\":\"1663\",\"type\":\"GroupFilter\"}],\"source\":{\"id\":\"1619\",\"type\":\"ColumnDataSource\"}},\"id\":\"1664\",\"type\":\"CDSView\"},{\"attributes\":{\"axis_label\":\"PC3\",\"formatter\":{\"id\":\"1830\",\"type\":\"BasicTickFormatter\"},\"ticker\":{\"id\":\"1595\",\"type\":\"BasicTicker\"}},\"id\":\"1594\",\"type\":\"LinearAxis\"},{\"attributes\":{\"fill_alpha\":{\"value\":0.1},\"fill_color\":{\"value\":\"#1f77b4\"},\"line_alpha\":{\"value\":0.1},\"line_color\":{\"value\":\"#1f77b4\"},\"x\":{\"field\":\"x\"},\"y\":{\"field\":\"y\"}},\"id\":\"1667\",\"type\":\"Circle\"},{\"attributes\":{\"column_name\":\"label\",\"group\":\"GTS family H\"},\"id\":\"1669\",\"type\":\"GroupFilter\"},{\"attributes\":{\"fill_color\":{\"field\":\"label\",\"transform\":{\"id\":\"1620\",\"type\":\"CategoricalColorMapper\"}},\"line_color\":{\"field\":\"label\",\"transform\":{\"id\":\"1620\",\"type\":\"CategoricalColorMapper\"}},\"x\":{\"field\":\"x\"},\"y\":{\"field\":\"y\"}},\"id\":\"1672\",\"type\":\"Circle\"},{\"attributes\":{\"filters\":[{\"id\":\"1669\",\"type\":\"GroupFilter\"}],\"source\":{\"id\":\"1619\",\"type\":\"ColumnDataSource\"}},\"id\":\"1670\",\"type\":\"CDSView\"},{\"attributes\":{\"fill_color\":{\"field\":\"label\",\"transform\":{\"id\":\"1620\",\"type\":\"CategoricalColorMapper\"}},\"line_color\":{\"field\":\"label\",\"transform\":{\"id\":\"1620\",\"type\":\"CategoricalColorMapper\"}},\"x\":{\"field\":\"x\"},\"y\":{\"field\":\"y\"}},\"id\":\"1684\",\"type\":\"Circle\"},{\"attributes\":{\"fill_alpha\":{\"value\":0.1},\"fill_color\":{\"value\":\"#1f77b4\"},\"line_alpha\":{\"value\":0.1},\"line_color\":{\"value\":\"#1f77b4\"},\"x\":{\"field\":\"x\"},\"y\":{\"field\":\"y\"}},\"id\":\"1673\",\"type\":\"Circle\"},{\"attributes\":{\"data_source\":{\"id\":\"1619\",\"type\":\"ColumnDataSource\"},\"glyph\":{\"id\":\"1732\",\"type\":\"Circle\"},\"hover_glyph\":null,\"muted_glyph\":null,\"nonselection_glyph\":{\"id\":\"1733\",\"type\":\"Circle\"},\"selection_glyph\":null,\"view\":{\"id\":\"1730\",\"type\":\"CDSView\"}},\"id\":\"1734\",\"type\":\"GlyphRenderer\"},{\"attributes\":{\"data_source\":{\"id\":\"1619\",\"type\":\"ColumnDataSource\"},\"glyph\":{\"id\":\"1678\",\"type\":\"Circle\"},\"hover_glyph\":null,\"muted_glyph\":null,\"nonselection_glyph\":{\"id\":\"1679\",\"type\":\"Circle\"},\"selection_glyph\":null,\"view\":{\"id\":\"1676\",\"type\":\"CDSView\"}},\"id\":\"1680\",\"type\":\"GlyphRenderer\"},{\"attributes\":{\"column_name\":\"label\",\"group\":\"GTS family I\"},\"id\":\"1675\",\"type\":\"GroupFilter\"},{\"attributes\":{\"filters\":[{\"id\":\"1675\",\"type\":\"GroupFilter\"}],\"source\":{\"id\":\"1619\",\"type\":\"ColumnDataSource\"}},\"id\":\"1676\",\"type\":\"CDSView\"},{\"attributes\":{},\"id\":\"1608\",\"type\":\"ResetTool\"},{\"attributes\":{\"fill_color\":{\"field\":\"label\",\"transform\":{\"id\":\"1620\",\"type\":\"CategoricalColorMapper\"}},\"line_color\":{\"field\":\"label\",\"transform\":{\"id\":\"1620\",\"type\":\"CategoricalColorMapper\"}},\"x\":{\"field\":\"x\"},\"y\":{\"field\":\"y\"}},\"id\":\"1678\",\"type\":\"Circle\"},{\"attributes\":{\"data_source\":{\"id\":\"1619\",\"type\":\"ColumnDataSource\"},\"glyph\":{\"id\":\"1672\",\"type\":\"Circle\"},\"hover_glyph\":null,\"muted_glyph\":null,\"nonselection_glyph\":{\"id\":\"1673\",\"type\":\"Circle\"},\"selection_glyph\":null,\"view\":{\"id\":\"1670\",\"type\":\"CDSView\"}},\"id\":\"1674\",\"type\":\"GlyphRenderer\"},{\"attributes\":{\"label\":{\"value\":\"GTS family F\"},\"renderers\":[{\"id\":\"1662\",\"type\":\"GlyphRenderer\"}]},\"id\":\"1783\",\"type\":\"LegendItem\"},{\"attributes\":{},\"id\":\"1604\",\"type\":\"PanTool\"},{\"attributes\":{\"fill_color\":{\"field\":\"label\",\"transform\":{\"id\":\"1620\",\"type\":\"CategoricalColorMapper\"}},\"line_color\":{\"field\":\"label\",\"transform\":{\"id\":\"1620\",\"type\":\"CategoricalColorMapper\"}},\"x\":{\"field\":\"x\"},\"y\":{\"field\":\"y\"}},\"id\":\"1732\",\"type\":\"Circle\"},{\"attributes\":{},\"id\":\"1592\",\"type\":\"LinearScale\"},{\"attributes\":{\"text\":\"PCA\"},\"id\":\"1584\",\"type\":\"Title\"},{\"attributes\":{\"filters\":[{\"id\":\"1729\",\"type\":\"GroupFilter\"}],\"source\":{\"id\":\"1619\",\"type\":\"ColumnDataSource\"}},\"id\":\"1730\",\"type\":\"CDSView\"},{\"attributes\":{\"filters\":[{\"id\":\"1681\",\"type\":\"GroupFilter\"}],\"source\":{\"id\":\"1619\",\"type\":\"ColumnDataSource\"}},\"id\":\"1682\",\"type\":\"CDSView\"},{\"attributes\":{\"fill_color\":{\"field\":\"label\",\"transform\":{\"id\":\"1620\",\"type\":\"CategoricalColorMapper\"}},\"line_color\":{\"field\":\"label\",\"transform\":{\"id\":\"1620\",\"type\":\"CategoricalColorMapper\"}},\"x\":{\"field\":\"x\"},\"y\":{\"field\":\"y\"}},\"id\":\"1636\",\"type\":\"Circle\"},{\"attributes\":{\"fill_alpha\":{\"value\":0.1},\"fill_color\":{\"value\":\"#1f77b4\"},\"line_alpha\":{\"value\":0.1},\"line_color\":{\"value\":\"#1f77b4\"},\"x\":{\"field\":\"x\"},\"y\":{\"field\":\"y\"}},\"id\":\"1679\",\"type\":\"Circle\"},{\"attributes\":{\"data_source\":{\"id\":\"1619\",\"type\":\"ColumnDataSource\"},\"glyph\":{\"id\":\"1684\",\"type\":\"Circle\"},\"hover_glyph\":null,\"muted_glyph\":null,\"nonselection_glyph\":{\"id\":\"1685\",\"type\":\"Circle\"},\"selection_glyph\":null,\"view\":{\"id\":\"1682\",\"type\":\"CDSView\"}},\"id\":\"1686\",\"type\":\"GlyphRenderer\"},{\"attributes\":{\"fill_alpha\":{\"value\":0.1},\"fill_color\":{\"value\":\"#1f77b4\"},\"line_alpha\":{\"value\":0.1},\"line_color\":{\"value\":\"#1f77b4\"},\"x\":{\"field\":\"x\"},\"y\":{\"field\":\"y\"}},\"id\":\"1685\",\"type\":\"Circle\"},{\"attributes\":{\"column_name\":\"label\",\"group\":\"GTS family K\"},\"id\":\"1687\",\"type\":\"GroupFilter\"},{\"attributes\":{\"data_source\":{\"id\":\"1619\",\"type\":\"ColumnDataSource\"},\"glyph\":{\"id\":\"1744\",\"type\":\"Circle\"},\"hover_glyph\":null,\"muted_glyph\":null,\"nonselection_glyph\":{\"id\":\"1745\",\"type\":\"Circle\"},\"selection_glyph\":null,\"view\":{\"id\":\"1742\",\"type\":\"CDSView\"}},\"id\":\"1746\",\"type\":\"GlyphRenderer\"},{\"attributes\":{\"data_source\":{\"id\":\"1619\",\"type\":\"ColumnDataSource\"},\"glyph\":{\"id\":\"1690\",\"type\":\"Circle\"},\"hover_glyph\":null,\"muted_glyph\":null,\"nonselection_glyph\":{\"id\":\"1691\",\"type\":\"Circle\"},\"selection_glyph\":null,\"view\":{\"id\":\"1688\",\"type\":\"CDSView\"}},\"id\":\"1692\",\"type\":\"GlyphRenderer\"},{\"attributes\":{\"filters\":[{\"id\":\"1687\",\"type\":\"GroupFilter\"}],\"source\":{\"id\":\"1619\",\"type\":\"ColumnDataSource\"}},\"id\":\"1688\",\"type\":\"CDSView\"},{\"attributes\":{\"fill_color\":{\"field\":\"label\",\"transform\":{\"id\":\"1620\",\"type\":\"CategoricalColorMapper\"}},\"line_color\":{\"field\":\"label\",\"transform\":{\"id\":\"1620\",\"type\":\"CategoricalColorMapper\"}},\"x\":{\"field\":\"x\"},\"y\":{\"field\":\"y\"}},\"id\":\"1690\",\"type\":\"Circle\"},{\"attributes\":{\"column_name\":\"label\",\"group\":\"GTS family T\"},\"id\":\"1729\",\"type\":\"GroupFilter\"},{\"attributes\":{\"column_name\":\"label\",\"group\":\"GTS family L\"},\"id\":\"1693\",\"type\":\"GroupFilter\"},{\"attributes\":{\"fill_color\":{\"field\":\"label\",\"transform\":{\"id\":\"1620\",\"type\":\"CategoricalColorMapper\"}},\"line_color\":{\"field\":\"label\",\"transform\":{\"id\":\"1620\",\"type\":\"CategoricalColorMapper\"}},\"x\":{\"field\":\"x\"},\"y\":{\"field\":\"y\"}},\"id\":\"1696\",\"type\":\"Circle\"},{\"attributes\":{\"fill_alpha\":{\"value\":0.1},\"fill_color\":{\"value\":\"#1f77b4\"},\"line_alpha\":{\"value\":0.1},\"line_color\":{\"value\":\"#1f77b4\"},\"x\":{\"field\":\"x\"},\"y\":{\"field\":\"y\"}},\"id\":\"1691\",\"type\":\"Circle\"},{\"attributes\":{\"data_source\":{\"id\":\"1619\",\"type\":\"ColumnDataSource\"},\"glyph\":{\"id\":\"1696\",\"type\":\"Circle\"},\"hover_glyph\":null,\"muted_glyph\":null,\"nonselection_glyph\":{\"id\":\"1697\",\"type\":\"Circle\"},\"selection_glyph\":null,\"view\":{\"id\":\"1694\",\"type\":\"CDSView\"}},\"id\":\"1698\",\"type\":\"GlyphRenderer\"},{\"attributes\":{\"fill_color\":{\"field\":\"label\",\"transform\":{\"id\":\"1620\",\"type\":\"CategoricalColorMapper\"}},\"line_color\":{\"field\":\"label\",\"transform\":{\"id\":\"1620\",\"type\":\"CategoricalColorMapper\"}},\"x\":{\"field\":\"x\"},\"y\":{\"field\":\"y\"}},\"id\":\"1774\",\"type\":\"Circle\"},{\"attributes\":{\"filters\":[{\"id\":\"1723\",\"type\":\"GroupFilter\"}],\"source\":{\"id\":\"1619\",\"type\":\"ColumnDataSource\"}},\"id\":\"1724\",\"type\":\"CDSView\"},{\"attributes\":{\"label\":{\"value\":\"Polish elite sportsmen\"},\"renderers\":[{\"id\":\"1770\",\"type\":\"GlyphRenderer\"}]},\"id\":\"1801\",\"type\":\"LegendItem\"},{\"attributes\":{\"filters\":[{\"id\":\"1693\",\"type\":\"GroupFilter\"}],\"source\":{\"id\":\"1619\",\"type\":\"ColumnDataSource\"}},\"id\":\"1694\",\"type\":\"CDSView\"},{\"attributes\":{\"data_source\":{\"id\":\"1619\",\"type\":\"ColumnDataSource\"},\"glyph\":{\"id\":\"1702\",\"type\":\"Circle\"},\"hover_glyph\":null,\"muted_glyph\":null,\"nonselection_glyph\":{\"id\":\"1703\",\"type\":\"Circle\"},\"selection_glyph\":null,\"view\":{\"id\":\"1700\",\"type\":\"CDSView\"}},\"id\":\"1704\",\"type\":\"GlyphRenderer\"},{\"attributes\":{\"fill_alpha\":{\"value\":0.1},\"fill_color\":{\"value\":\"#1f77b4\"},\"line_alpha\":{\"value\":0.1},\"line_color\":{\"value\":\"#1f77b4\"},\"x\":{\"field\":\"x\"},\"y\":{\"field\":\"y\"}},\"id\":\"1697\",\"type\":\"Circle\"},{\"attributes\":{\"column_name\":\"label\",\"group\":\"GTS family N\"},\"id\":\"1699\",\"type\":\"GroupFilter\"},{\"attributes\":{\"fill_color\":{\"field\":\"label\",\"transform\":{\"id\":\"1620\",\"type\":\"CategoricalColorMapper\"}},\"line_color\":{\"field\":\"label\",\"transform\":{\"id\":\"1620\",\"type\":\"CategoricalColorMapper\"}},\"x\":{\"field\":\"x\"},\"y\":{\"field\":\"y\"}},\"id\":\"1702\",\"type\":\"Circle\"},{\"attributes\":{\"filters\":[{\"id\":\"1699\",\"type\":\"GroupFilter\"}],\"source\":{\"id\":\"1619\",\"type\":\"ColumnDataSource\"}},\"id\":\"1700\",\"type\":\"CDSView\"},{\"attributes\":{\"column_name\":\"label\",\"group\":\"GTS family O\"},\"id\":\"1705\",\"type\":\"GroupFilter\"},{\"attributes\":{\"fill_color\":{\"field\":\"label\",\"transform\":{\"id\":\"1620\",\"type\":\"CategoricalColorMapper\"}},\"line_color\":{\"field\":\"label\",\"transform\":{\"id\":\"1620\",\"type\":\"CategoricalColorMapper\"}},\"x\":{\"field\":\"x\"},\"y\":{\"field\":\"y\"}},\"id\":\"1726\",\"type\":\"Circle\"},{\"attributes\":{\"fill_color\":{\"field\":\"label\",\"transform\":{\"id\":\"1620\",\"type\":\"CategoricalColorMapper\"}},\"line_color\":{\"field\":\"label\",\"transform\":{\"id\":\"1620\",\"type\":\"CategoricalColorMapper\"}},\"x\":{\"field\":\"x\"},\"y\":{\"field\":\"y\"}},\"id\":\"1708\",\"type\":\"Circle\"},{\"attributes\":{\"data_source\":{\"id\":\"1619\",\"type\":\"ColumnDataSource\"},\"glyph\":{\"id\":\"1708\",\"type\":\"Circle\"},\"hover_glyph\":null,\"muted_glyph\":null,\"nonselection_glyph\":{\"id\":\"1709\",\"type\":\"Circle\"},\"selection_glyph\":null,\"view\":{\"id\":\"1706\",\"type\":\"CDSView\"}},\"id\":\"1710\",\"type\":\"GlyphRenderer\"},{\"attributes\":{\"fill_alpha\":{\"value\":0.1},\"fill_color\":{\"value\":\"#1f77b4\"},\"line_alpha\":{\"value\":0.1},\"line_color\":{\"value\":\"#1f77b4\"},\"x\":{\"field\":\"x\"},\"y\":{\"field\":\"y\"}},\"id\":\"1703\",\"type\":\"Circle\"},{\"attributes\":{\"fill_alpha\":{\"value\":0.1},\"fill_color\":{\"value\":\"#1f77b4\"},\"line_alpha\":{\"value\":0.1},\"line_color\":{\"value\":\"#1f77b4\"},\"x\":{\"field\":\"x\"},\"y\":{\"field\":\"y\"}},\"id\":\"1721\",\"type\":\"Circle\"},{\"attributes\":{\"filters\":[{\"id\":\"1705\",\"type\":\"GroupFilter\"}],\"source\":{\"id\":\"1619\",\"type\":\"ColumnDataSource\"}},\"id\":\"1706\",\"type\":\"CDSView\"}],\"root_ids\":[\"1583\"]},\"title\":\"Bokeh Application\",\"version\":\"1.4.0\"}};\n",
       "  var render_items = [{\"docid\":\"1bd56996-248a-4046-9d1a-f897b7160606\",\"roots\":{\"1583\":\"90749c3d-b5c0-451d-8b8f-52aa49a32aef\"}}];\n",
       "  root.Bokeh.embed.embed_items_notebook(docs_json, render_items);\n",
       "\n",
       "  }\n",
       "  if (root.Bokeh !== undefined) {\n",
       "    embed_document(root);\n",
       "  } else {\n",
       "    var attempts = 0;\n",
       "    var timer = setInterval(function(root) {\n",
       "      if (root.Bokeh !== undefined) {\n",
       "        clearInterval(timer);\n",
       "        embed_document(root);\n",
       "      } else {\n",
       "        attempts++;\n",
       "        if (attempts > 100) {\n",
       "          clearInterval(timer);\n",
       "          console.log(\"Bokeh: ERROR: Unable to run BokehJS code because BokehJS library is missing\");\n",
       "        }\n",
       "      }\n",
       "    }, 10, root)\n",
       "  }\n",
       "})(window);"
      ],
      "application/vnd.bokehjs_exec.v0+json": ""
     },
     "metadata": {
      "application/vnd.bokehjs_exec.v0+json": {
       "id": "1583"
      }
     },
     "output_type": "display_data"
    }
   ],
   "source": [
    "p = hl.plot.scatter(mt['scores_no_filter'][2],\n",
    "                    mt['scores_no_filter'][3],\n",
    "                    label=mt.label,\n",
    "                    title='PCA', xlabel='PC3', ylabel='PC4')\n",
    "show(p)"
   ]
  },
  {
   "cell_type": "code",
   "execution_count": 4,
   "id": "23d05a13-a461-4ec5-8114-b1afe7b9953e",
   "metadata": {},
   "outputs": [],
   "source": [
    "# export maf's into vcf:\n",
    "\n",
    "mt = hl.read_matrix_table(localfs_path+'pre_pca_gts.mt')"
   ]
  },
  {
   "cell_type": "code",
   "execution_count": 8,
   "id": "7c94cc0d-6f5d-43e0-888c-991c451ca391",
   "metadata": {
    "tags": []
   },
   "outputs": [],
   "source": [
    "mt = mt.filter_cols(mt.group != 'polish_controls')"
   ]
  },
  {
   "cell_type": "code",
   "execution_count": 9,
   "id": "cbacc1aa-3728-44c1-90b1-f1bf34f1f3ff",
   "metadata": {
    "tags": []
   },
   "outputs": [],
   "source": [
    "mt = mt.filter_cols((mt.s != 'B502')&(mt.s != 'B506'))"
   ]
  },
  {
   "cell_type": "code",
   "execution_count": 13,
   "id": "25297f66-f5e8-410f-b8c7-ad3db92c8399",
   "metadata": {
    "tags": []
   },
   "outputs": [],
   "source": [
    "mt = mt.annotate_cols(\n",
    "    test_group = hl.if_else(\n",
    "        mt.group == 'local_controls',\n",
    "        'controls',\n",
    "        hl.if_else(\n",
    "            mt.phenotypes.disease == 'NO',\n",
    "            'healthy family members',\n",
    "            hl.if_else(\n",
    "                ((mt.phenotypes.phenotype == 'GTS') & (mt.phenotypes.family == '.')),\n",
    "                'severe GTS',\n",
    "                 hl.if_else(\n",
    "                     mt.phenotypes.phenotype == 'GTS',\n",
    "                     'GTS',\n",
    "                     'non-GTS TDs'\n",
    "                 )\n",
    "            )\n",
    "        )\n",
    "    )\n",
    ")\n",
    "    "
   ]
  },
  {
   "cell_type": "code",
   "execution_count": 17,
   "id": "7e77f0cc-3f4c-41c6-b079-0ed605069e3c",
   "metadata": {
    "tags": []
   },
   "outputs": [],
   "source": [
    "mt = mt.annotate_rows(info = hl.agg.group_by(mt.test_group, hl.agg.call_stats(mt.GT, mt.alleles)))"
   ]
  },
  {
   "cell_type": "code",
   "execution_count": 19,
   "id": "9fa82d66-a65e-4ae3-b7f8-e153a1a01165",
   "metadata": {
    "tags": []
   },
   "outputs": [],
   "source": [
    "rows = mt.rows()"
   ]
  },
  {
   "cell_type": "code",
   "execution_count": 24,
   "id": "ae3fd3f3-ca8b-4cb3-a67e-01f929a11b9c",
   "metadata": {
    "tags": []
   },
   "outputs": [],
   "source": [
    "rows = rows.select(rows.info)"
   ]
  },
  {
   "cell_type": "code",
   "execution_count": 21,
   "id": "5e496126-4c90-4915-9822-97e7368a2c6f",
   "metadata": {
    "tags": []
   },
   "outputs": [
    {
     "data": {
      "text/plain": [
       "'/net/pr2/projects/plgrid/plggneuromol/imdik-zekanowski-gts/preprocessing/oligogenic-model'"
      ]
     },
     "execution_count": 21,
     "metadata": {},
     "output_type": "execute_result"
    }
   ],
   "source": [
    "pwd"
   ]
  },
  {
   "cell_type": "code",
   "execution_count": 27,
   "id": "f6c4888b-2b86-4cf0-887b-86fbb9ea63c4",
   "metadata": {
    "tags": []
   },
   "outputs": [
    {
     "name": "stderr",
     "output_type": "stream",
     "text": [
      "2023-09-09 20:42:08.074 Hail: INFO: merging 4390 files totalling 89.6M.../ 4389]\n",
      "2023-09-09 20:42:09.230 Hail: INFO: while writing:             (33 + 13) / 4389]\n",
      "    /net/pr2/projects/plgrid/plggneuromol/imdik-zekanowski-gts/data/mts/oligogenic-model/supplementary_table_S1.vcf.gz\n",
      "  merge time: 1.156s\n",
      "2023-09-09 20:42:56.184 Hail: INFO: merging 4390 files totalling 1.7G... / 4389]\n",
      "2023-09-09 20:43:00.253 Hail: INFO: while writing:\n",
      "    /net/pr2/projects/plgrid/plggneuromol/imdik-zekanowski-gts/data/mts/oligogenic-model/supplementary_table_S1.tsv\n",
      "  merge time: 4.068s\n"
     ]
    }
   ],
   "source": [
    "rows.export(\n",
    "    '/net/pr2/projects/plgrid/plggneuromol/imdik-zekanowski-gts/data/mts/oligogenic-model/supplementary_table_S1.tsv'\n",
    ")"
   ]
  }
 ],
 "metadata": {
  "kernelspec": {
   "display_name": "Python 3 (ipykernel)",
   "language": "python",
   "name": "python3"
  },
  "language_info": {
   "codemirror_mode": {
    "name": "ipython",
    "version": 3
   },
   "file_extension": ".py",
   "mimetype": "text/x-python",
   "name": "python",
   "nbconvert_exporter": "python",
   "pygments_lexer": "ipython3",
   "version": "3.10.4"
  }
 },
 "nbformat": 4,
 "nbformat_minor": 5
}
