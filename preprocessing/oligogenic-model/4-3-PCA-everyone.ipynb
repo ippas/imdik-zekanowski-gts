{
 "cells": [
  {
   "cell_type": "code",
   "execution_count": 1,
   "id": "8830a0a3-d54a-4da3-8b32-a33ae3bbdb8c",
   "metadata": {},
   "outputs": [],
   "source": [
    "import os\n",
    "localfs_path = os.environ.get('SCRATCH_LOCAL') + '/'"
   ]
  },
  {
   "cell_type": "code",
   "execution_count": 2,
   "id": "7c4762a4-78b7-4788-aac0-b3510bd10a22",
   "metadata": {
    "tags": []
   },
   "outputs": [
    {
     "name": "stderr",
     "output_type": "stream",
     "text": [
      "Picked up _JAVA_OPTIONS: -Djava.io.tmpdir=/localfs/3688449/\n",
      "Picked up _JAVA_OPTIONS: -Djava.io.tmpdir=/localfs/3688449/\n"
     ]
    },
    {
     "name": "stdout",
     "output_type": "stream",
     "text": [
      "23/06/21 21:24:30 WARN NativeCodeLoader: Unable to load native-hadoop library for your platform... using builtin-java classes where applicable\n"
     ]
    },
    {
     "name": "stderr",
     "output_type": "stream",
     "text": [
      "Setting default log level to \"WARN\".\n",
      "To adjust logging level use sc.setLogLevel(newLevel). For SparkR, use setLogLevel(newLevel).\n",
      "Running on Apache Spark version 3.3.2\n",
      "SparkUI available at http://ac0040:4040\n",
      "Welcome to\n",
      "     __  __     <>__\n",
      "    / /_/ /__  __/ /\n",
      "   / __  / _ `/ / /\n",
      "  /_/ /_/\\_,_/_/_/   version 0.2.113-cf32652c5077\n",
      "LOGGING: writing to /net/pr2/projects/plgrid/plggneuromol/imdik-zekanowski-gts/preprocessing/oligogenic-model/hail-20230621-2124-0.2.113-cf32652c5077.log\n"
     ]
    }
   ],
   "source": [
    "os.environ['_JAVA_OPTIONS'] = f'-Djava.io.tmpdir={localfs_path}'\n",
    "\n",
    "import hail as hl\n",
    "\n",
    "hl.init(\n",
    "    tmp_dir=(localfs_path+'tmp_hail'),\n",
    "    spark_conf={'spark.driver.memory': '30G', 'spark.executor.memory': '10G'}, # I don't know what should be here\n",
    "    default_reference='GRCh38'\n",
    ") "
   ]
  },
  {
   "cell_type": "code",
   "execution_count": 3,
   "id": "cf582ceb-8db7-456a-933f-137b8ccc157e",
   "metadata": {
    "tags": []
   },
   "outputs": [
    {
     "data": {
      "text/html": [
       "\n",
       "    <div class=\"bk-root\">\n",
       "        <a href=\"https://bokeh.org\" target=\"_blank\" class=\"bk-logo bk-logo-small bk-logo-notebook\"></a>\n",
       "        <span id=\"1001\">Loading BokehJS ...</span>\n",
       "    </div>"
      ]
     },
     "metadata": {},
     "output_type": "display_data"
    },
    {
     "data": {
      "application/javascript": [
       "\n",
       "(function(root) {\n",
       "  function now() {\n",
       "    return new Date();\n",
       "  }\n",
       "\n",
       "  var force = true;\n",
       "\n",
       "  if (typeof root._bokeh_onload_callbacks === \"undefined\" || force === true) {\n",
       "    root._bokeh_onload_callbacks = [];\n",
       "    root._bokeh_is_loading = undefined;\n",
       "  }\n",
       "\n",
       "  var JS_MIME_TYPE = 'application/javascript';\n",
       "  var HTML_MIME_TYPE = 'text/html';\n",
       "  var EXEC_MIME_TYPE = 'application/vnd.bokehjs_exec.v0+json';\n",
       "  var CLASS_NAME = 'output_bokeh rendered_html';\n",
       "\n",
       "  /**\n",
       "   * Render data to the DOM node\n",
       "   */\n",
       "  function render(props, node) {\n",
       "    var script = document.createElement(\"script\");\n",
       "    node.appendChild(script);\n",
       "  }\n",
       "\n",
       "  /**\n",
       "   * Handle when an output is cleared or removed\n",
       "   */\n",
       "  function handleClearOutput(event, handle) {\n",
       "    var cell = handle.cell;\n",
       "\n",
       "    var id = cell.output_area._bokeh_element_id;\n",
       "    var server_id = cell.output_area._bokeh_server_id;\n",
       "    // Clean up Bokeh references\n",
       "    if (id != null && id in Bokeh.index) {\n",
       "      Bokeh.index[id].model.document.clear();\n",
       "      delete Bokeh.index[id];\n",
       "    }\n",
       "\n",
       "    if (server_id !== undefined) {\n",
       "      // Clean up Bokeh references\n",
       "      var cmd = \"from bokeh.io.state import curstate; print(curstate().uuid_to_server['\" + server_id + \"'].get_sessions()[0].document.roots[0]._id)\";\n",
       "      cell.notebook.kernel.execute(cmd, {\n",
       "        iopub: {\n",
       "          output: function(msg) {\n",
       "            var id = msg.content.text.trim();\n",
       "            if (id in Bokeh.index) {\n",
       "              Bokeh.index[id].model.document.clear();\n",
       "              delete Bokeh.index[id];\n",
       "            }\n",
       "          }\n",
       "        }\n",
       "      });\n",
       "      // Destroy server and session\n",
       "      var cmd = \"import bokeh.io.notebook as ion; ion.destroy_server('\" + server_id + \"')\";\n",
       "      cell.notebook.kernel.execute(cmd);\n",
       "    }\n",
       "  }\n",
       "\n",
       "  /**\n",
       "   * Handle when a new output is added\n",
       "   */\n",
       "  function handleAddOutput(event, handle) {\n",
       "    var output_area = handle.output_area;\n",
       "    var output = handle.output;\n",
       "\n",
       "    // limit handleAddOutput to display_data with EXEC_MIME_TYPE content only\n",
       "    if ((output.output_type != \"display_data\") || (!output.data.hasOwnProperty(EXEC_MIME_TYPE))) {\n",
       "      return\n",
       "    }\n",
       "\n",
       "    var toinsert = output_area.element.find(\".\" + CLASS_NAME.split(' ')[0]);\n",
       "\n",
       "    if (output.metadata[EXEC_MIME_TYPE][\"id\"] !== undefined) {\n",
       "      toinsert[toinsert.length - 1].firstChild.textContent = output.data[JS_MIME_TYPE];\n",
       "      // store reference to embed id on output_area\n",
       "      output_area._bokeh_element_id = output.metadata[EXEC_MIME_TYPE][\"id\"];\n",
       "    }\n",
       "    if (output.metadata[EXEC_MIME_TYPE][\"server_id\"] !== undefined) {\n",
       "      var bk_div = document.createElement(\"div\");\n",
       "      bk_div.innerHTML = output.data[HTML_MIME_TYPE];\n",
       "      var script_attrs = bk_div.children[0].attributes;\n",
       "      for (var i = 0; i < script_attrs.length; i++) {\n",
       "        toinsert[toinsert.length - 1].firstChild.setAttribute(script_attrs[i].name, script_attrs[i].value);\n",
       "      }\n",
       "      // store reference to server id on output_area\n",
       "      output_area._bokeh_server_id = output.metadata[EXEC_MIME_TYPE][\"server_id\"];\n",
       "    }\n",
       "  }\n",
       "\n",
       "  function register_renderer(events, OutputArea) {\n",
       "\n",
       "    function append_mime(data, metadata, element) {\n",
       "      // create a DOM node to render to\n",
       "      var toinsert = this.create_output_subarea(\n",
       "        metadata,\n",
       "        CLASS_NAME,\n",
       "        EXEC_MIME_TYPE\n",
       "      );\n",
       "      this.keyboard_manager.register_events(toinsert);\n",
       "      // Render to node\n",
       "      var props = {data: data, metadata: metadata[EXEC_MIME_TYPE]};\n",
       "      render(props, toinsert[toinsert.length - 1]);\n",
       "      element.append(toinsert);\n",
       "      return toinsert\n",
       "    }\n",
       "\n",
       "    /* Handle when an output is cleared or removed */\n",
       "    events.on('clear_output.CodeCell', handleClearOutput);\n",
       "    events.on('delete.Cell', handleClearOutput);\n",
       "\n",
       "    /* Handle when a new output is added */\n",
       "    events.on('output_added.OutputArea', handleAddOutput);\n",
       "\n",
       "    /**\n",
       "     * Register the mime type and append_mime function with output_area\n",
       "     */\n",
       "    OutputArea.prototype.register_mime_type(EXEC_MIME_TYPE, append_mime, {\n",
       "      /* Is output safe? */\n",
       "      safe: true,\n",
       "      /* Index of renderer in `output_area.display_order` */\n",
       "      index: 0\n",
       "    });\n",
       "  }\n",
       "\n",
       "  // register the mime type if in Jupyter Notebook environment and previously unregistered\n",
       "  if (root.Jupyter !== undefined) {\n",
       "    var events = require('base/js/events');\n",
       "    var OutputArea = require('notebook/js/outputarea').OutputArea;\n",
       "\n",
       "    if (OutputArea.prototype.mime_types().indexOf(EXEC_MIME_TYPE) == -1) {\n",
       "      register_renderer(events, OutputArea);\n",
       "    }\n",
       "  }\n",
       "\n",
       "  \n",
       "  if (typeof (root._bokeh_timeout) === \"undefined\" || force === true) {\n",
       "    root._bokeh_timeout = Date.now() + 5000;\n",
       "    root._bokeh_failed_load = false;\n",
       "  }\n",
       "\n",
       "  var NB_LOAD_WARNING = {'data': {'text/html':\n",
       "     \"<div style='background-color: #fdd'>\\n\"+\n",
       "     \"<p>\\n\"+\n",
       "     \"BokehJS does not appear to have successfully loaded. If loading BokehJS from CDN, this \\n\"+\n",
       "     \"may be due to a slow or bad network connection. Possible fixes:\\n\"+\n",
       "     \"</p>\\n\"+\n",
       "     \"<ul>\\n\"+\n",
       "     \"<li>re-rerun `output_notebook()` to attempt to load from CDN again, or</li>\\n\"+\n",
       "     \"<li>use INLINE resources instead, as so:</li>\\n\"+\n",
       "     \"</ul>\\n\"+\n",
       "     \"<code>\\n\"+\n",
       "     \"from bokeh.resources import INLINE\\n\"+\n",
       "     \"output_notebook(resources=INLINE)\\n\"+\n",
       "     \"</code>\\n\"+\n",
       "     \"</div>\"}};\n",
       "\n",
       "  function display_loaded() {\n",
       "    var el = document.getElementById(\"1001\");\n",
       "    if (el != null) {\n",
       "      el.textContent = \"BokehJS is loading...\";\n",
       "    }\n",
       "    if (root.Bokeh !== undefined) {\n",
       "      if (el != null) {\n",
       "        el.textContent = \"BokehJS \" + root.Bokeh.version + \" successfully loaded.\";\n",
       "      }\n",
       "    } else if (Date.now() < root._bokeh_timeout) {\n",
       "      setTimeout(display_loaded, 100)\n",
       "    }\n",
       "  }\n",
       "\n",
       "\n",
       "  function run_callbacks() {\n",
       "    try {\n",
       "      root._bokeh_onload_callbacks.forEach(function(callback) {\n",
       "        if (callback != null)\n",
       "          callback();\n",
       "      });\n",
       "    } finally {\n",
       "      delete root._bokeh_onload_callbacks\n",
       "    }\n",
       "    console.debug(\"Bokeh: all callbacks have finished\");\n",
       "  }\n",
       "\n",
       "  function load_libs(css_urls, js_urls, callback) {\n",
       "    if (css_urls == null) css_urls = [];\n",
       "    if (js_urls == null) js_urls = [];\n",
       "\n",
       "    root._bokeh_onload_callbacks.push(callback);\n",
       "    if (root._bokeh_is_loading > 0) {\n",
       "      console.debug(\"Bokeh: BokehJS is being loaded, scheduling callback at\", now());\n",
       "      return null;\n",
       "    }\n",
       "    if (js_urls == null || js_urls.length === 0) {\n",
       "      run_callbacks();\n",
       "      return null;\n",
       "    }\n",
       "    console.debug(\"Bokeh: BokehJS not loaded, scheduling load and callback at\", now());\n",
       "    root._bokeh_is_loading = css_urls.length + js_urls.length;\n",
       "\n",
       "    function on_load() {\n",
       "      root._bokeh_is_loading--;\n",
       "      if (root._bokeh_is_loading === 0) {\n",
       "        console.debug(\"Bokeh: all BokehJS libraries/stylesheets loaded\");\n",
       "        run_callbacks()\n",
       "      }\n",
       "    }\n",
       "\n",
       "    function on_error() {\n",
       "      console.error(\"failed to load \" + url);\n",
       "    }\n",
       "\n",
       "    for (var i = 0; i < css_urls.length; i++) {\n",
       "      var url = css_urls[i];\n",
       "      const element = document.createElement(\"link\");\n",
       "      element.onload = on_load;\n",
       "      element.onerror = on_error;\n",
       "      element.rel = \"stylesheet\";\n",
       "      element.type = \"text/css\";\n",
       "      element.href = url;\n",
       "      console.debug(\"Bokeh: injecting link tag for BokehJS stylesheet: \", url);\n",
       "      document.body.appendChild(element);\n",
       "    }\n",
       "\n",
       "    for (var i = 0; i < js_urls.length; i++) {\n",
       "      var url = js_urls[i];\n",
       "      var element = document.createElement('script');\n",
       "      element.onload = on_load;\n",
       "      element.onerror = on_error;\n",
       "      element.async = false;\n",
       "      element.src = url;\n",
       "      console.debug(\"Bokeh: injecting script tag for BokehJS library: \", url);\n",
       "      document.head.appendChild(element);\n",
       "    }\n",
       "  };var element = document.getElementById(\"1001\");\n",
       "  if (element == null) {\n",
       "    console.error(\"Bokeh: ERROR: autoload.js configured with elementid '1001' but no matching script tag was found. \")\n",
       "    return false;\n",
       "  }\n",
       "\n",
       "  function inject_raw_css(css) {\n",
       "    const element = document.createElement(\"style\");\n",
       "    element.appendChild(document.createTextNode(css));\n",
       "    document.body.appendChild(element);\n",
       "  }\n",
       "\n",
       "  \n",
       "  var js_urls = [\"https://cdn.pydata.org/bokeh/release/bokeh-1.4.0.min.js\", \"https://cdn.pydata.org/bokeh/release/bokeh-widgets-1.4.0.min.js\", \"https://cdn.pydata.org/bokeh/release/bokeh-tables-1.4.0.min.js\", \"https://cdn.pydata.org/bokeh/release/bokeh-gl-1.4.0.min.js\"];\n",
       "  var css_urls = [];\n",
       "  \n",
       "\n",
       "  var inline_js = [\n",
       "    function(Bokeh) {\n",
       "      Bokeh.set_log_level(\"info\");\n",
       "    },\n",
       "    function(Bokeh) {\n",
       "    \n",
       "    \n",
       "    }\n",
       "  ];\n",
       "\n",
       "  function run_inline_js() {\n",
       "    \n",
       "    if (root.Bokeh !== undefined || force === true) {\n",
       "      \n",
       "    for (var i = 0; i < inline_js.length; i++) {\n",
       "      inline_js[i].call(root, root.Bokeh);\n",
       "    }\n",
       "    if (force === true) {\n",
       "        display_loaded();\n",
       "      }} else if (Date.now() < root._bokeh_timeout) {\n",
       "      setTimeout(run_inline_js, 100);\n",
       "    } else if (!root._bokeh_failed_load) {\n",
       "      console.log(\"Bokeh: BokehJS failed to load within specified timeout.\");\n",
       "      root._bokeh_failed_load = true;\n",
       "    } else if (force !== true) {\n",
       "      var cell = $(document.getElementById(\"1001\")).parents('.cell').data().cell;\n",
       "      cell.output_area.append_execute_result(NB_LOAD_WARNING)\n",
       "    }\n",
       "\n",
       "  }\n",
       "\n",
       "  if (root._bokeh_is_loading === 0) {\n",
       "    console.debug(\"Bokeh: BokehJS loaded, going straight to plotting\");\n",
       "    run_inline_js();\n",
       "  } else {\n",
       "    load_libs(css_urls, js_urls, function() {\n",
       "      console.debug(\"Bokeh: BokehJS plotting callback run at\", now());\n",
       "      run_inline_js();\n",
       "    });\n",
       "  }\n",
       "}(window));"
      ],
      "application/vnd.bokehjs_load.v0+json": "\n(function(root) {\n  function now() {\n    return new Date();\n  }\n\n  var force = true;\n\n  if (typeof root._bokeh_onload_callbacks === \"undefined\" || force === true) {\n    root._bokeh_onload_callbacks = [];\n    root._bokeh_is_loading = undefined;\n  }\n\n  \n\n  \n  if (typeof (root._bokeh_timeout) === \"undefined\" || force === true) {\n    root._bokeh_timeout = Date.now() + 5000;\n    root._bokeh_failed_load = false;\n  }\n\n  var NB_LOAD_WARNING = {'data': {'text/html':\n     \"<div style='background-color: #fdd'>\\n\"+\n     \"<p>\\n\"+\n     \"BokehJS does not appear to have successfully loaded. If loading BokehJS from CDN, this \\n\"+\n     \"may be due to a slow or bad network connection. Possible fixes:\\n\"+\n     \"</p>\\n\"+\n     \"<ul>\\n\"+\n     \"<li>re-rerun `output_notebook()` to attempt to load from CDN again, or</li>\\n\"+\n     \"<li>use INLINE resources instead, as so:</li>\\n\"+\n     \"</ul>\\n\"+\n     \"<code>\\n\"+\n     \"from bokeh.resources import INLINE\\n\"+\n     \"output_notebook(resources=INLINE)\\n\"+\n     \"</code>\\n\"+\n     \"</div>\"}};\n\n  function display_loaded() {\n    var el = document.getElementById(\"1001\");\n    if (el != null) {\n      el.textContent = \"BokehJS is loading...\";\n    }\n    if (root.Bokeh !== undefined) {\n      if (el != null) {\n        el.textContent = \"BokehJS \" + root.Bokeh.version + \" successfully loaded.\";\n      }\n    } else if (Date.now() < root._bokeh_timeout) {\n      setTimeout(display_loaded, 100)\n    }\n  }\n\n\n  function run_callbacks() {\n    try {\n      root._bokeh_onload_callbacks.forEach(function(callback) {\n        if (callback != null)\n          callback();\n      });\n    } finally {\n      delete root._bokeh_onload_callbacks\n    }\n    console.debug(\"Bokeh: all callbacks have finished\");\n  }\n\n  function load_libs(css_urls, js_urls, callback) {\n    if (css_urls == null) css_urls = [];\n    if (js_urls == null) js_urls = [];\n\n    root._bokeh_onload_callbacks.push(callback);\n    if (root._bokeh_is_loading > 0) {\n      console.debug(\"Bokeh: BokehJS is being loaded, scheduling callback at\", now());\n      return null;\n    }\n    if (js_urls == null || js_urls.length === 0) {\n      run_callbacks();\n      return null;\n    }\n    console.debug(\"Bokeh: BokehJS not loaded, scheduling load and callback at\", now());\n    root._bokeh_is_loading = css_urls.length + js_urls.length;\n\n    function on_load() {\n      root._bokeh_is_loading--;\n      if (root._bokeh_is_loading === 0) {\n        console.debug(\"Bokeh: all BokehJS libraries/stylesheets loaded\");\n        run_callbacks()\n      }\n    }\n\n    function on_error() {\n      console.error(\"failed to load \" + url);\n    }\n\n    for (var i = 0; i < css_urls.length; i++) {\n      var url = css_urls[i];\n      const element = document.createElement(\"link\");\n      element.onload = on_load;\n      element.onerror = on_error;\n      element.rel = \"stylesheet\";\n      element.type = \"text/css\";\n      element.href = url;\n      console.debug(\"Bokeh: injecting link tag for BokehJS stylesheet: \", url);\n      document.body.appendChild(element);\n    }\n\n    for (var i = 0; i < js_urls.length; i++) {\n      var url = js_urls[i];\n      var element = document.createElement('script');\n      element.onload = on_load;\n      element.onerror = on_error;\n      element.async = false;\n      element.src = url;\n      console.debug(\"Bokeh: injecting script tag for BokehJS library: \", url);\n      document.head.appendChild(element);\n    }\n  };var element = document.getElementById(\"1001\");\n  if (element == null) {\n    console.error(\"Bokeh: ERROR: autoload.js configured with elementid '1001' but no matching script tag was found. \")\n    return false;\n  }\n\n  function inject_raw_css(css) {\n    const element = document.createElement(\"style\");\n    element.appendChild(document.createTextNode(css));\n    document.body.appendChild(element);\n  }\n\n  \n  var js_urls = [\"https://cdn.pydata.org/bokeh/release/bokeh-1.4.0.min.js\", \"https://cdn.pydata.org/bokeh/release/bokeh-widgets-1.4.0.min.js\", \"https://cdn.pydata.org/bokeh/release/bokeh-tables-1.4.0.min.js\", \"https://cdn.pydata.org/bokeh/release/bokeh-gl-1.4.0.min.js\"];\n  var css_urls = [];\n  \n\n  var inline_js = [\n    function(Bokeh) {\n      Bokeh.set_log_level(\"info\");\n    },\n    function(Bokeh) {\n    \n    \n    }\n  ];\n\n  function run_inline_js() {\n    \n    if (root.Bokeh !== undefined || force === true) {\n      \n    for (var i = 0; i < inline_js.length; i++) {\n      inline_js[i].call(root, root.Bokeh);\n    }\n    if (force === true) {\n        display_loaded();\n      }} else if (Date.now() < root._bokeh_timeout) {\n      setTimeout(run_inline_js, 100);\n    } else if (!root._bokeh_failed_load) {\n      console.log(\"Bokeh: BokehJS failed to load within specified timeout.\");\n      root._bokeh_failed_load = true;\n    } else if (force !== true) {\n      var cell = $(document.getElementById(\"1001\")).parents('.cell').data().cell;\n      cell.output_area.append_execute_result(NB_LOAD_WARNING)\n    }\n\n  }\n\n  if (root._bokeh_is_loading === 0) {\n    console.debug(\"Bokeh: BokehJS loaded, going straight to plotting\");\n    run_inline_js();\n  } else {\n    load_libs(css_urls, js_urls, function() {\n      console.debug(\"Bokeh: BokehJS plotting callback run at\", now());\n      run_inline_js();\n    });\n  }\n}(window));"
     },
     "metadata": {},
     "output_type": "display_data"
    }
   ],
   "source": [
    "from bokeh.io import show, output_notebook\n",
    "from bokeh.layouts import gridplot\n",
    "output_notebook()"
   ]
  },
  {
   "cell_type": "code",
   "execution_count": 4,
   "id": "24bfdbd7-7b94-43a2-91ed-c7ef75f231d5",
   "metadata": {
    "tags": []
   },
   "outputs": [],
   "source": [
    "poles = hl.read_matrix_table('/net/pr2/projects/plgrid/plggneuromol/imdik-zekanowski-gts/data/mts/oligogenic-model/synthetic-controls-no-zeros.mt')"
   ]
  },
  {
   "cell_type": "code",
   "execution_count": 43,
   "id": "f0b4b778-60ff-4ebf-b4d7-a03c416b7a0f",
   "metadata": {
    "collapsed": true,
    "jupyter": {
     "outputs_hidden": true
    },
    "tags": []
   },
   "outputs": [
    {
     "ename": "FatalError",
     "evalue": "HailException: path '/localfs/3688449/poles_sex.mt' is both an input and output source in a single query. Write, export, or checkpoint to a different path!\n\nJava stack trace:\nis.hail.utils.HailException: path '/localfs/3688449/poles_sex.mt' is both an input and output source in a single query. Write, export, or checkpoint to a different path!\n\tat is.hail.utils.ErrorHandling.fatal(ErrorHandling.scala:17)\n\tat is.hail.utils.ErrorHandling.fatal$(ErrorHandling.scala:17)\n\tat is.hail.utils.package$.fatal(package.scala:78)\n\tat is.hail.expr.Validate$.fileReadWriteError(Validate.scala:14)\n\tat is.hail.expr.Validate$.$anonfun$validate$2(Validate.scala:24)\n\tat is.hail.expr.Validate$.$anonfun$validate$2$adapted(Validate.scala:22)\n\tat scala.collection.IndexedSeqOptimized.foreach(IndexedSeqOptimized.scala:36)\n\tat scala.collection.IndexedSeqOptimized.foreach$(IndexedSeqOptimized.scala:33)\n\tat scala.collection.mutable.WrappedArray.foreach(WrappedArray.scala:38)\n\tat is.hail.expr.Validate$.validate(Validate.scala:22)\n\tat is.hail.expr.Validate$.$anonfun$validate$3(Validate.scala:39)\n\tat is.hail.expr.Validate$.$anonfun$validate$3$adapted(Validate.scala:39)\n\tat scala.collection.IndexedSeqOptimized.foreach(IndexedSeqOptimized.scala:36)\n\tat scala.collection.IndexedSeqOptimized.foreach$(IndexedSeqOptimized.scala:33)\n\tat scala.collection.mutable.WrappedArray.foreach(WrappedArray.scala:38)\n\tat is.hail.expr.Validate$.validate(Validate.scala:39)\n\tat is.hail.expr.Validate$.$anonfun$validate$3(Validate.scala:39)\n\tat is.hail.expr.Validate$.$anonfun$validate$3$adapted(Validate.scala:39)\n\tat scala.collection.IndexedSeqOptimized.foreach(IndexedSeqOptimized.scala:36)\n\tat scala.collection.IndexedSeqOptimized.foreach$(IndexedSeqOptimized.scala:33)\n\tat scala.collection.mutable.WrappedArray.foreach(WrappedArray.scala:38)\n\tat is.hail.expr.Validate$.validate(Validate.scala:39)\n\tat is.hail.expr.Validate$.$anonfun$validate$3(Validate.scala:39)\n\tat is.hail.expr.Validate$.$anonfun$validate$3$adapted(Validate.scala:39)\n\tat scala.collection.IndexedSeqOptimized.foreach(IndexedSeqOptimized.scala:36)\n\tat scala.collection.IndexedSeqOptimized.foreach$(IndexedSeqOptimized.scala:33)\n\tat scala.collection.mutable.WrappedArray.foreach(WrappedArray.scala:38)\n\tat is.hail.expr.Validate$.validate(Validate.scala:39)\n\tat is.hail.expr.Validate$.apply(Validate.scala:10)\n\tat is.hail.backend.spark.SparkBackend._execute(SparkBackend.scala:455)\n\tat is.hail.backend.spark.SparkBackend.$anonfun$executeEncode$2(SparkBackend.scala:499)\n\tat is.hail.backend.ExecuteContext$.$anonfun$scoped$3(ExecuteContext.scala:75)\n\tat is.hail.utils.package$.using(package.scala:635)\n\tat is.hail.backend.ExecuteContext$.$anonfun$scoped$2(ExecuteContext.scala:75)\n\tat is.hail.utils.package$.using(package.scala:635)\n\tat is.hail.annotations.RegionPool$.scoped(RegionPool.scala:17)\n\tat is.hail.backend.ExecuteContext$.scoped(ExecuteContext.scala:63)\n\tat is.hail.backend.spark.SparkBackend.withExecuteContext(SparkBackend.scala:351)\n\tat is.hail.backend.spark.SparkBackend.$anonfun$executeEncode$1(SparkBackend.scala:496)\n\tat is.hail.utils.ExecutionTimer$.time(ExecutionTimer.scala:52)\n\tat is.hail.backend.spark.SparkBackend.executeEncode(SparkBackend.scala:495)\n\tat jdk.internal.reflect.GeneratedMethodAccessor146.invoke(Unknown Source)\n\tat java.base/jdk.internal.reflect.DelegatingMethodAccessorImpl.invoke(DelegatingMethodAccessorImpl.java:43)\n\tat java.base/java.lang.reflect.Method.invoke(Method.java:566)\n\tat py4j.reflection.MethodInvoker.invoke(MethodInvoker.java:244)\n\tat py4j.reflection.ReflectionEngine.invoke(ReflectionEngine.java:357)\n\tat py4j.Gateway.invoke(Gateway.java:282)\n\tat py4j.commands.AbstractCommand.invokeMethod(AbstractCommand.java:132)\n\tat py4j.commands.CallCommand.execute(CallCommand.java:79)\n\tat py4j.ClientServerConnection.waitForCommands(ClientServerConnection.java:182)\n\tat py4j.ClientServerConnection.run(ClientServerConnection.java:106)\n\tat java.base/java.lang.Thread.run(Thread.java:834)\n\n\n\nHail version: 0.2.113-cf32652c5077\nError summary: HailException: path '/localfs/3688449/poles_sex.mt' is both an input and output source in a single query. Write, export, or checkpoint to a different path!",
     "output_type": "error",
     "traceback": [
      "\u001b[0;31m---------------------------------------------------------------------------\u001b[0m",
      "\u001b[0;31mFatalError\u001b[0m                                Traceback (most recent call last)",
      "Cell \u001b[0;32mIn[43], line 44\u001b[0m\n\u001b[1;32m     16\u001b[0m poles \u001b[38;5;241m=\u001b[39m poles\u001b[38;5;241m.\u001b[39mannotate_cols(\n\u001b[1;32m     17\u001b[0m         sex \u001b[38;5;241m=\u001b[39m hl\u001b[38;5;241m.\u001b[39mif_else(\n\u001b[1;32m     18\u001b[0m             hl\u001b[38;5;241m.\u001b[39marray(poles_females)\u001b[38;5;241m.\u001b[39mcontains(poles\u001b[38;5;241m.\u001b[39ms),\n\u001b[0;32m   (...)\u001b[0m\n\u001b[1;32m     21\u001b[0m         )\n\u001b[1;32m     22\u001b[0m     )\n\u001b[1;32m     24\u001b[0m poles \u001b[38;5;241m=\u001b[39m poles\u001b[38;5;241m.\u001b[39mannotate_entries(\n\u001b[1;32m     25\u001b[0m         GT \u001b[38;5;241m=\u001b[39m hl\u001b[38;5;241m.\u001b[39mif_else(\n\u001b[1;32m     26\u001b[0m             poles\u001b[38;5;241m.\u001b[39mlocus\u001b[38;5;241m.\u001b[39mcontig \u001b[38;5;241m==\u001b[39m \u001b[38;5;124m'\u001b[39m\u001b[38;5;124mchrX\u001b[39m\u001b[38;5;124m'\u001b[39m,\n\u001b[0;32m   (...)\u001b[0m\n\u001b[1;32m     41\u001b[0m         )\n\u001b[1;32m     42\u001b[0m     )\n\u001b[0;32m---> 44\u001b[0m poles \u001b[38;5;241m=\u001b[39m \u001b[43mpoles\u001b[49m\u001b[38;5;241;43m.\u001b[39;49m\u001b[43mcheckpoint\u001b[49m\u001b[43m(\u001b[49m\u001b[43mlocalfs_path\u001b[49m\u001b[38;5;241;43m+\u001b[39;49m\u001b[38;5;124;43m'\u001b[39;49m\u001b[38;5;124;43mpoles_sex.mt\u001b[39;49m\u001b[38;5;124;43m'\u001b[39;49m\u001b[43m)\u001b[49m  \n",
      "File \u001b[0;32m<decorator-gen-1260>:2\u001b[0m, in \u001b[0;36mcheckpoint\u001b[0;34m(self, output, overwrite, stage_locally, _codec_spec, _read_if_exists, _intervals, _filter_intervals, _drop_cols, _drop_rows)\u001b[0m\n",
      "File \u001b[0;32m/net/pr2/projects/plgrid/plggneuromol/imdik-zekanowski-gts/venv-hail-0.2.113/lib/python3.10/site-packages/hail/typecheck/check.py:584\u001b[0m, in \u001b[0;36m_make_dec.<locals>.wrapper\u001b[0;34m(__original_func, *args, **kwargs)\u001b[0m\n\u001b[1;32m    581\u001b[0m \u001b[38;5;129m@decorator\u001b[39m\n\u001b[1;32m    582\u001b[0m \u001b[38;5;28;01mdef\u001b[39;00m \u001b[38;5;21mwrapper\u001b[39m(__original_func, \u001b[38;5;241m*\u001b[39margs, \u001b[38;5;241m*\u001b[39m\u001b[38;5;241m*\u001b[39mkwargs):\n\u001b[1;32m    583\u001b[0m     args_, kwargs_ \u001b[38;5;241m=\u001b[39m check_all(__original_func, args, kwargs, checkers, is_method\u001b[38;5;241m=\u001b[39mis_method)\n\u001b[0;32m--> 584\u001b[0m     \u001b[38;5;28;01mreturn\u001b[39;00m \u001b[43m__original_func\u001b[49m\u001b[43m(\u001b[49m\u001b[38;5;241;43m*\u001b[39;49m\u001b[43margs_\u001b[49m\u001b[43m,\u001b[49m\u001b[43m \u001b[49m\u001b[38;5;241;43m*\u001b[39;49m\u001b[38;5;241;43m*\u001b[39;49m\u001b[43mkwargs_\u001b[49m\u001b[43m)\u001b[49m\n",
      "File \u001b[0;32m/net/pr2/projects/plgrid/plggneuromol/imdik-zekanowski-gts/venv-hail-0.2.113/lib/python3.10/site-packages/hail/matrixtable.py:2684\u001b[0m, in \u001b[0;36mMatrixTable.checkpoint\u001b[0;34m(self, output, overwrite, stage_locally, _codec_spec, _read_if_exists, _intervals, _filter_intervals, _drop_cols, _drop_rows)\u001b[0m\n\u001b[1;32m   2681\u001b[0m hl\u001b[38;5;241m.\u001b[39mcurrent_backend()\u001b[38;5;241m.\u001b[39mvalidate_file_scheme(output)\n\u001b[1;32m   2683\u001b[0m \u001b[38;5;28;01mif\u001b[39;00m \u001b[38;5;129;01mnot\u001b[39;00m _read_if_exists \u001b[38;5;129;01mor\u001b[39;00m \u001b[38;5;129;01mnot\u001b[39;00m hl\u001b[38;5;241m.\u001b[39mhadoop_exists(\u001b[38;5;124mf\u001b[39m\u001b[38;5;124m'\u001b[39m\u001b[38;5;132;01m{\u001b[39;00moutput\u001b[38;5;132;01m}\u001b[39;00m\u001b[38;5;124m/_SUCCESS\u001b[39m\u001b[38;5;124m'\u001b[39m):\n\u001b[0;32m-> 2684\u001b[0m     \u001b[38;5;28;43mself\u001b[39;49m\u001b[38;5;241;43m.\u001b[39;49m\u001b[43mwrite\u001b[49m\u001b[43m(\u001b[49m\u001b[43moutput\u001b[49m\u001b[38;5;241;43m=\u001b[39;49m\u001b[43moutput\u001b[49m\u001b[43m,\u001b[49m\u001b[43m \u001b[49m\u001b[43moverwrite\u001b[49m\u001b[38;5;241;43m=\u001b[39;49m\u001b[43moverwrite\u001b[49m\u001b[43m,\u001b[49m\u001b[43m \u001b[49m\u001b[43mstage_locally\u001b[49m\u001b[38;5;241;43m=\u001b[39;49m\u001b[43mstage_locally\u001b[49m\u001b[43m,\u001b[49m\u001b[43m \u001b[49m\u001b[43m_codec_spec\u001b[49m\u001b[38;5;241;43m=\u001b[39;49m\u001b[43m_codec_spec\u001b[49m\u001b[43m)\u001b[49m\n\u001b[1;32m   2685\u001b[0m     _assert_type \u001b[38;5;241m=\u001b[39m \u001b[38;5;28mself\u001b[39m\u001b[38;5;241m.\u001b[39m_type\n\u001b[1;32m   2686\u001b[0m     _load_refs \u001b[38;5;241m=\u001b[39m \u001b[38;5;28;01mFalse\u001b[39;00m\n",
      "File \u001b[0;32m<decorator-gen-1262>:2\u001b[0m, in \u001b[0;36mwrite\u001b[0;34m(self, output, overwrite, stage_locally, _codec_spec, _partitions, _checkpoint_file)\u001b[0m\n",
      "File \u001b[0;32m/net/pr2/projects/plgrid/plggneuromol/imdik-zekanowski-gts/venv-hail-0.2.113/lib/python3.10/site-packages/hail/typecheck/check.py:584\u001b[0m, in \u001b[0;36m_make_dec.<locals>.wrapper\u001b[0;34m(__original_func, *args, **kwargs)\u001b[0m\n\u001b[1;32m    581\u001b[0m \u001b[38;5;129m@decorator\u001b[39m\n\u001b[1;32m    582\u001b[0m \u001b[38;5;28;01mdef\u001b[39;00m \u001b[38;5;21mwrapper\u001b[39m(__original_func, \u001b[38;5;241m*\u001b[39margs, \u001b[38;5;241m*\u001b[39m\u001b[38;5;241m*\u001b[39mkwargs):\n\u001b[1;32m    583\u001b[0m     args_, kwargs_ \u001b[38;5;241m=\u001b[39m check_all(__original_func, args, kwargs, checkers, is_method\u001b[38;5;241m=\u001b[39mis_method)\n\u001b[0;32m--> 584\u001b[0m     \u001b[38;5;28;01mreturn\u001b[39;00m \u001b[43m__original_func\u001b[49m\u001b[43m(\u001b[49m\u001b[38;5;241;43m*\u001b[39;49m\u001b[43margs_\u001b[49m\u001b[43m,\u001b[49m\u001b[43m \u001b[49m\u001b[38;5;241;43m*\u001b[39;49m\u001b[38;5;241;43m*\u001b[39;49m\u001b[43mkwargs_\u001b[49m\u001b[43m)\u001b[49m\n",
      "File \u001b[0;32m/net/pr2/projects/plgrid/plggneuromol/imdik-zekanowski-gts/venv-hail-0.2.113/lib/python3.10/site-packages/hail/matrixtable.py:2740\u001b[0m, in \u001b[0;36mMatrixTable.write\u001b[0;34m(self, output, overwrite, stage_locally, _codec_spec, _partitions, _checkpoint_file)\u001b[0m\n\u001b[1;32m   2737\u001b[0m     _partitions_type \u001b[38;5;241m=\u001b[39m \u001b[38;5;28;01mNone\u001b[39;00m\n\u001b[1;32m   2739\u001b[0m writer \u001b[38;5;241m=\u001b[39m ir\u001b[38;5;241m.\u001b[39mMatrixNativeWriter(output, overwrite, stage_locally, _codec_spec, _partitions, _partitions_type, _checkpoint_file)\n\u001b[0;32m-> 2740\u001b[0m \u001b[43mEnv\u001b[49m\u001b[38;5;241;43m.\u001b[39;49m\u001b[43mbackend\u001b[49m\u001b[43m(\u001b[49m\u001b[43m)\u001b[49m\u001b[38;5;241;43m.\u001b[39;49m\u001b[43mexecute\u001b[49m\u001b[43m(\u001b[49m\u001b[43mir\u001b[49m\u001b[38;5;241;43m.\u001b[39;49m\u001b[43mMatrixWrite\u001b[49m\u001b[43m(\u001b[49m\u001b[38;5;28;43mself\u001b[39;49m\u001b[38;5;241;43m.\u001b[39;49m\u001b[43m_mir\u001b[49m\u001b[43m,\u001b[49m\u001b[43m \u001b[49m\u001b[43mwriter\u001b[49m\u001b[43m)\u001b[49m\u001b[43m)\u001b[49m\n",
      "File \u001b[0;32m/net/pr2/projects/plgrid/plggneuromol/imdik-zekanowski-gts/venv-hail-0.2.113/lib/python3.10/site-packages/hail/backend/py4j_backend.py:82\u001b[0m, in \u001b[0;36mPy4JBackend.execute\u001b[0;34m(self, ir, timed)\u001b[0m\n\u001b[1;32m     80\u001b[0m     \u001b[38;5;28;01mreturn\u001b[39;00m (value, timings) \u001b[38;5;28;01mif\u001b[39;00m timed \u001b[38;5;28;01melse\u001b[39;00m value\n\u001b[1;32m     81\u001b[0m \u001b[38;5;28;01mexcept\u001b[39;00m FatalError \u001b[38;5;28;01mas\u001b[39;00m e:\n\u001b[0;32m---> 82\u001b[0m     \u001b[38;5;28;01mraise\u001b[39;00m e\u001b[38;5;241m.\u001b[39mmaybe_user_error(ir) \u001b[38;5;28;01mfrom\u001b[39;00m \u001b[38;5;28;01mNone\u001b[39;00m\n",
      "File \u001b[0;32m/net/pr2/projects/plgrid/plggneuromol/imdik-zekanowski-gts/venv-hail-0.2.113/lib/python3.10/site-packages/hail/backend/py4j_backend.py:76\u001b[0m, in \u001b[0;36mPy4JBackend.execute\u001b[0;34m(self, ir, timed)\u001b[0m\n\u001b[1;32m     74\u001b[0m \u001b[38;5;66;03m# print(self._hail_package.expr.ir.Pretty.apply(jir, True, -1))\u001b[39;00m\n\u001b[1;32m     75\u001b[0m \u001b[38;5;28;01mtry\u001b[39;00m:\n\u001b[0;32m---> 76\u001b[0m     result_tuple \u001b[38;5;241m=\u001b[39m \u001b[38;5;28;43mself\u001b[39;49m\u001b[38;5;241;43m.\u001b[39;49m\u001b[43m_jbackend\u001b[49m\u001b[38;5;241;43m.\u001b[39;49m\u001b[43mexecuteEncode\u001b[49m\u001b[43m(\u001b[49m\u001b[43mjir\u001b[49m\u001b[43m,\u001b[49m\u001b[43m \u001b[49m\u001b[43mstream_codec\u001b[49m\u001b[43m,\u001b[49m\u001b[43m \u001b[49m\u001b[43mtimed\u001b[49m\u001b[43m)\u001b[49m\n\u001b[1;32m     77\u001b[0m     (result, timings) \u001b[38;5;241m=\u001b[39m (result_tuple\u001b[38;5;241m.\u001b[39m_1(), result_tuple\u001b[38;5;241m.\u001b[39m_2())\n\u001b[1;32m     78\u001b[0m     value \u001b[38;5;241m=\u001b[39m ir\u001b[38;5;241m.\u001b[39mtyp\u001b[38;5;241m.\u001b[39m_from_encoding(result)\n",
      "File \u001b[0;32m/net/pr2/projects/plgrid/plggneuromol/imdik-zekanowski-gts/venv-hail-0.2.113/lib/python3.10/site-packages/py4j/java_gateway.py:1321\u001b[0m, in \u001b[0;36mJavaMember.__call__\u001b[0;34m(self, *args)\u001b[0m\n\u001b[1;32m   1315\u001b[0m command \u001b[38;5;241m=\u001b[39m proto\u001b[38;5;241m.\u001b[39mCALL_COMMAND_NAME \u001b[38;5;241m+\u001b[39m\\\n\u001b[1;32m   1316\u001b[0m     \u001b[38;5;28mself\u001b[39m\u001b[38;5;241m.\u001b[39mcommand_header \u001b[38;5;241m+\u001b[39m\\\n\u001b[1;32m   1317\u001b[0m     args_command \u001b[38;5;241m+\u001b[39m\\\n\u001b[1;32m   1318\u001b[0m     proto\u001b[38;5;241m.\u001b[39mEND_COMMAND_PART\n\u001b[1;32m   1320\u001b[0m answer \u001b[38;5;241m=\u001b[39m \u001b[38;5;28mself\u001b[39m\u001b[38;5;241m.\u001b[39mgateway_client\u001b[38;5;241m.\u001b[39msend_command(command)\n\u001b[0;32m-> 1321\u001b[0m return_value \u001b[38;5;241m=\u001b[39m \u001b[43mget_return_value\u001b[49m\u001b[43m(\u001b[49m\n\u001b[1;32m   1322\u001b[0m \u001b[43m    \u001b[49m\u001b[43manswer\u001b[49m\u001b[43m,\u001b[49m\u001b[43m \u001b[49m\u001b[38;5;28;43mself\u001b[39;49m\u001b[38;5;241;43m.\u001b[39;49m\u001b[43mgateway_client\u001b[49m\u001b[43m,\u001b[49m\u001b[43m \u001b[49m\u001b[38;5;28;43mself\u001b[39;49m\u001b[38;5;241;43m.\u001b[39;49m\u001b[43mtarget_id\u001b[49m\u001b[43m,\u001b[49m\u001b[43m \u001b[49m\u001b[38;5;28;43mself\u001b[39;49m\u001b[38;5;241;43m.\u001b[39;49m\u001b[43mname\u001b[49m\u001b[43m)\u001b[49m\n\u001b[1;32m   1324\u001b[0m \u001b[38;5;28;01mfor\u001b[39;00m temp_arg \u001b[38;5;129;01min\u001b[39;00m temp_args:\n\u001b[1;32m   1325\u001b[0m     temp_arg\u001b[38;5;241m.\u001b[39m_detach()\n",
      "File \u001b[0;32m/net/pr2/projects/plgrid/plggneuromol/imdik-zekanowski-gts/venv-hail-0.2.113/lib/python3.10/site-packages/hail/backend/py4j_backend.py:35\u001b[0m, in \u001b[0;36mhandle_java_exception.<locals>.deco\u001b[0;34m(*args, **kwargs)\u001b[0m\n\u001b[1;32m     33\u001b[0m     tpl \u001b[38;5;241m=\u001b[39m Env\u001b[38;5;241m.\u001b[39mjutils()\u001b[38;5;241m.\u001b[39mhandleForPython(e\u001b[38;5;241m.\u001b[39mjava_exception)\n\u001b[1;32m     34\u001b[0m     deepest, full, error_id \u001b[38;5;241m=\u001b[39m tpl\u001b[38;5;241m.\u001b[39m_1(), tpl\u001b[38;5;241m.\u001b[39m_2(), tpl\u001b[38;5;241m.\u001b[39m_3()\n\u001b[0;32m---> 35\u001b[0m     \u001b[38;5;28;01mraise\u001b[39;00m fatal_error_from_java_error_triplet(deepest, full, error_id) \u001b[38;5;28;01mfrom\u001b[39;00m \u001b[38;5;28;01mNone\u001b[39;00m\n\u001b[1;32m     36\u001b[0m \u001b[38;5;28;01mexcept\u001b[39;00m pyspark\u001b[38;5;241m.\u001b[39msql\u001b[38;5;241m.\u001b[39mutils\u001b[38;5;241m.\u001b[39mCapturedException \u001b[38;5;28;01mas\u001b[39;00m e:\n\u001b[1;32m     37\u001b[0m     \u001b[38;5;28;01mraise\u001b[39;00m FatalError(\u001b[38;5;124m'\u001b[39m\u001b[38;5;132;01m%s\u001b[39;00m\u001b[38;5;130;01m\\n\u001b[39;00m\u001b[38;5;130;01m\\n\u001b[39;00m\u001b[38;5;124mJava stack trace:\u001b[39m\u001b[38;5;130;01m\\n\u001b[39;00m\u001b[38;5;132;01m%s\u001b[39;00m\u001b[38;5;130;01m\\n\u001b[39;00m\u001b[38;5;124m'\u001b[39m\n\u001b[1;32m     38\u001b[0m                      \u001b[38;5;124m'\u001b[39m\u001b[38;5;124mHail version: \u001b[39m\u001b[38;5;132;01m%s\u001b[39;00m\u001b[38;5;130;01m\\n\u001b[39;00m\u001b[38;5;124m'\u001b[39m\n\u001b[1;32m     39\u001b[0m                      \u001b[38;5;124m'\u001b[39m\u001b[38;5;124mError summary: \u001b[39m\u001b[38;5;132;01m%s\u001b[39;00m\u001b[38;5;124m'\u001b[39m \u001b[38;5;241m%\u001b[39m (e\u001b[38;5;241m.\u001b[39mdesc, e\u001b[38;5;241m.\u001b[39mstackTrace, hail\u001b[38;5;241m.\u001b[39m__version__, e\u001b[38;5;241m.\u001b[39mdesc)) \u001b[38;5;28;01mfrom\u001b[39;00m \u001b[38;5;28;01mNone\u001b[39;00m\n",
      "\u001b[0;31mFatalError\u001b[0m: HailException: path '/localfs/3688449/poles_sex.mt' is both an input and output source in a single query. Write, export, or checkpoint to a different path!\n\nJava stack trace:\nis.hail.utils.HailException: path '/localfs/3688449/poles_sex.mt' is both an input and output source in a single query. Write, export, or checkpoint to a different path!\n\tat is.hail.utils.ErrorHandling.fatal(ErrorHandling.scala:17)\n\tat is.hail.utils.ErrorHandling.fatal$(ErrorHandling.scala:17)\n\tat is.hail.utils.package$.fatal(package.scala:78)\n\tat is.hail.expr.Validate$.fileReadWriteError(Validate.scala:14)\n\tat is.hail.expr.Validate$.$anonfun$validate$2(Validate.scala:24)\n\tat is.hail.expr.Validate$.$anonfun$validate$2$adapted(Validate.scala:22)\n\tat scala.collection.IndexedSeqOptimized.foreach(IndexedSeqOptimized.scala:36)\n\tat scala.collection.IndexedSeqOptimized.foreach$(IndexedSeqOptimized.scala:33)\n\tat scala.collection.mutable.WrappedArray.foreach(WrappedArray.scala:38)\n\tat is.hail.expr.Validate$.validate(Validate.scala:22)\n\tat is.hail.expr.Validate$.$anonfun$validate$3(Validate.scala:39)\n\tat is.hail.expr.Validate$.$anonfun$validate$3$adapted(Validate.scala:39)\n\tat scala.collection.IndexedSeqOptimized.foreach(IndexedSeqOptimized.scala:36)\n\tat scala.collection.IndexedSeqOptimized.foreach$(IndexedSeqOptimized.scala:33)\n\tat scala.collection.mutable.WrappedArray.foreach(WrappedArray.scala:38)\n\tat is.hail.expr.Validate$.validate(Validate.scala:39)\n\tat is.hail.expr.Validate$.$anonfun$validate$3(Validate.scala:39)\n\tat is.hail.expr.Validate$.$anonfun$validate$3$adapted(Validate.scala:39)\n\tat scala.collection.IndexedSeqOptimized.foreach(IndexedSeqOptimized.scala:36)\n\tat scala.collection.IndexedSeqOptimized.foreach$(IndexedSeqOptimized.scala:33)\n\tat scala.collection.mutable.WrappedArray.foreach(WrappedArray.scala:38)\n\tat is.hail.expr.Validate$.validate(Validate.scala:39)\n\tat is.hail.expr.Validate$.$anonfun$validate$3(Validate.scala:39)\n\tat is.hail.expr.Validate$.$anonfun$validate$3$adapted(Validate.scala:39)\n\tat scala.collection.IndexedSeqOptimized.foreach(IndexedSeqOptimized.scala:36)\n\tat scala.collection.IndexedSeqOptimized.foreach$(IndexedSeqOptimized.scala:33)\n\tat scala.collection.mutable.WrappedArray.foreach(WrappedArray.scala:38)\n\tat is.hail.expr.Validate$.validate(Validate.scala:39)\n\tat is.hail.expr.Validate$.apply(Validate.scala:10)\n\tat is.hail.backend.spark.SparkBackend._execute(SparkBackend.scala:455)\n\tat is.hail.backend.spark.SparkBackend.$anonfun$executeEncode$2(SparkBackend.scala:499)\n\tat is.hail.backend.ExecuteContext$.$anonfun$scoped$3(ExecuteContext.scala:75)\n\tat is.hail.utils.package$.using(package.scala:635)\n\tat is.hail.backend.ExecuteContext$.$anonfun$scoped$2(ExecuteContext.scala:75)\n\tat is.hail.utils.package$.using(package.scala:635)\n\tat is.hail.annotations.RegionPool$.scoped(RegionPool.scala:17)\n\tat is.hail.backend.ExecuteContext$.scoped(ExecuteContext.scala:63)\n\tat is.hail.backend.spark.SparkBackend.withExecuteContext(SparkBackend.scala:351)\n\tat is.hail.backend.spark.SparkBackend.$anonfun$executeEncode$1(SparkBackend.scala:496)\n\tat is.hail.utils.ExecutionTimer$.time(ExecutionTimer.scala:52)\n\tat is.hail.backend.spark.SparkBackend.executeEncode(SparkBackend.scala:495)\n\tat jdk.internal.reflect.GeneratedMethodAccessor146.invoke(Unknown Source)\n\tat java.base/jdk.internal.reflect.DelegatingMethodAccessorImpl.invoke(DelegatingMethodAccessorImpl.java:43)\n\tat java.base/java.lang.reflect.Method.invoke(Method.java:566)\n\tat py4j.reflection.MethodInvoker.invoke(MethodInvoker.java:244)\n\tat py4j.reflection.ReflectionEngine.invoke(ReflectionEngine.java:357)\n\tat py4j.Gateway.invoke(Gateway.java:282)\n\tat py4j.commands.AbstractCommand.invokeMethod(AbstractCommand.java:132)\n\tat py4j.commands.CallCommand.execute(CallCommand.java:79)\n\tat py4j.ClientServerConnection.waitForCommands(ClientServerConnection.java:182)\n\tat py4j.ClientServerConnection.run(ClientServerConnection.java:106)\n\tat java.base/java.lang.Thread.run(Thread.java:834)\n\n\n\nHail version: 0.2.113-cf32652c5077\nError summary: HailException: path '/localfs/3688449/poles_sex.mt' is both an input and output source in a single query. Write, export, or checkpoint to a different path!"
     ]
    }
   ],
   "source": [
    "par1 = [10001,2781479]\n",
    "par2 = [155701383,156030895]\n",
    "\n",
    "nonpars = [[1,10000],[2781480,155701382]]\n",
    "\n",
    "polish_samples = []\n",
    "\n",
    "for i in range(1,1001):\n",
    "    polish_samples.append(str(i)+'_polish')\n",
    "\n",
    "poles_females = polish_samples[0:150] \n",
    "poles_males = polish_samples[150:]\n",
    "\n",
    "path_names = ['poles_zeros', 'poles']\n",
    "\n",
    "poles = poles.annotate_cols(\n",
    "        sex = hl.if_else(\n",
    "            hl.array(poles_females).contains(poles.s),\n",
    "            'F',\n",
    "            'M'\n",
    "        )\n",
    "    )\n",
    "    \n",
    "poles = poles.annotate_entries(\n",
    "        GT = hl.if_else(\n",
    "            poles.locus.contig == 'chrX',\n",
    "            hl.if_else(\n",
    "                poles['sex'] == 'F',\n",
    "                poles.GT,\n",
    "                hl.if_else(\n",
    "                    poles.locus.position > nonpars[1][1],\n",
    "                    poles.GT,\n",
    "                    hl.if_else(\n",
    "                        poles.locus.position < nonpars[0][1],\n",
    "                        hl.if_else(\n",
    "                            poles.locus.position > nonpars[0][0],\n",
    "                            poles.GT,\n",
    "                            hl.call(poles.GT[0], poles.GT[0])),\n",
    "                        hl.call(poles.GT[0], poles.GT[0])))),\n",
    "            poles.GT\n",
    "        )\n",
    "    )\n",
    "    \n",
    "poles = poles.checkpoint(localfs_path+'poles_sex.mt')  "
   ]
  },
  {
   "cell_type": "code",
   "execution_count": null,
   "id": "d41a0b7f-7a54-4e24-ac2f-c48638da120a",
   "metadata": {
    "tags": []
   },
   "outputs": [],
   "source": [
    "mt = hl.read_matrix_table('/net/pr2/projects/plgrid/plggneuromol/imdik-zekanowski-gts/data/mts/oligogenic-model/gts_and_s.mt')\n",
    "\n",
    "mt = mt.drop(\n",
    "    mt.group, mt.sample_qc\n",
    ")\n",
    "\n",
    "mt = mt.select_entries(\n",
    "    AD = mt.LAD,\n",
    "    DP = mt.DP,\n",
    "    GQ = mt.GQ,\n",
    "    GT = mt.GT,\n",
    "    MIN_DP = mt.MIN_DP,\n",
    "    PGT = mt.LPGT,\n",
    "    PID = mt.PID,\n",
    "    PL = mt.LPL,\n",
    "    PS = mt.PS,\n",
    "    RGQ = mt.RGQ,\n",
    "    SB = mt.SB\n",
    ")\n",
    "\n",
    "mt = mt.annotate_cols(sex = hl.missing(hl.tstr))\n",
    "\n",
    "\n",
    "samples_to_exclude = ['S_7288', 'S_7289', 'S_7290', 'WGS_6827', 'WGS_6835']\n",
    "#these are low quality samples to exclude\n",
    "\n",
    "mt = mt.filter_cols(\n",
    "    hl.literal(samples_to_exclude).contains(mt.s),\n",
    "    keep = False\n",
    ")\n",
    "\n",
    "pl = hl.read_matrix_table(localfs_path+'poles_sex.mt')  \n",
    "pl = pl.drop(pl.col_idx)\n",
    "pl = mt.union_cols(pl)\n",
    "pl.write(localfs_path+'pw_s_gts_union_2.mt')"
   ]
  },
  {
   "cell_type": "code",
   "execution_count": null,
   "id": "9f8a5a97-4496-44e6-8696-6c6cda71ed5d",
   "metadata": {
    "tags": []
   },
   "outputs": [],
   "source": [
    "mt = hl.read_matrix_table(localfs_path+'pw_s_gts_union_2.mt')"
   ]
  },
  {
   "cell_type": "code",
   "execution_count": null,
   "id": "ae83aa9a-d65e-43ff-a8d2-47c914d54dce",
   "metadata": {
    "tags": []
   },
   "outputs": [],
   "source": [
    "mt.count()"
   ]
  },
  {
   "cell_type": "code",
   "execution_count": null,
   "id": "41761a12-0750-4c09-ba2d-c7bbc32f4723",
   "metadata": {
    "tags": []
   },
   "outputs": [],
   "source": [
    "to_keep = hl.read_matrix_table(\n",
    "    '/net/pr2/projects/plgrid/plggneuromol/imdik-zekanowski-gts/data/mts/oligogenic-model/s_vs_gts.mt'\n",
    ")"
   ]
  },
  {
   "cell_type": "code",
   "execution_count": null,
   "id": "ff7408e3-bb87-44ac-b7b4-b01279dfed99",
   "metadata": {
    "tags": []
   },
   "outputs": [],
   "source": [
    "to_keep.aggregate_cols(hl.agg.counter(to_keep.group))"
   ]
  },
  {
   "cell_type": "code",
   "execution_count": null,
   "id": "30401d69-a8ce-4e36-b83f-4e46a65ad18e",
   "metadata": {
    "tags": []
   },
   "outputs": [],
   "source": [
    "pheno = hl.import_table(\n",
    "    '/net/pr2/projects/plgrid/plggneuromol/imdik-zekanowski-gts/data/pheno/GTS-coded-corrected-june-2021.csv',\n",
    "    impute=True,\n",
    "    delimiter=',',\n",
    "    quote=\"\\\"\"\n",
    "    )\n",
    "\n",
    "pheno = pheno.key_by(pheno.ID)\n",
    "\n",
    "mt = mt.annotate_cols(phenotypes = pheno[mt.s])"
   ]
  },
  {
   "cell_type": "code",
   "execution_count": null,
   "id": "cdabe969-4f57-43f9-8833-14d6f1c99be9",
   "metadata": {
    "tags": []
   },
   "outputs": [],
   "source": [
    "mt = mt.annotate_cols(\n",
    "    group = hl.if_else(\n",
    "        mt.s.contains('B'),\n",
    "        'local_controls',\n",
    "        hl.if_else(\n",
    "            mt.s.contains('polish'),\n",
    "            'polish_controls',\n",
    "            'GTS'\n",
    "        )\n",
    "    )\n",
    ") "
   ]
  },
  {
   "cell_type": "code",
   "execution_count": null,
   "id": "abe6ee0a-1164-4428-b8bf-e760ee59f6ec",
   "metadata": {
    "tags": []
   },
   "outputs": [],
   "source": [
    "mt = mt.filter_cols(\n",
    "    (\n",
    "        mt.group == 'polish_controls') | (\n",
    "        mt.group == 'local_controls') | (\n",
    "        mt.phenotypes.family != '.') | (\n",
    "        hl.is_defined(to_keep.cols()[mt.col_key])\n",
    "    )\n",
    ")"
   ]
  },
  {
   "cell_type": "code",
   "execution_count": null,
   "id": "05fa4308-dd77-43ca-ae35-4e8a332f6a2c",
   "metadata": {
    "tags": []
   },
   "outputs": [],
   "source": [
    "mt = mt.checkpoint(localfs_path+'pre_pca_gts.mt')"
   ]
  },
  {
   "cell_type": "code",
   "execution_count": null,
   "id": "5cd6b462-a281-41b3-a33a-65861eaa51e3",
   "metadata": {
    "tags": []
   },
   "outputs": [],
   "source": [
    "bed = hl.import_bed(\n",
    "    '/net/pr2/projects/plgrid/plggneuromol/matzieb/projects/imdik-zekanowski-sportwgs/data/prs-data/all-alt-scaffold-placement-GRCh38.p14.bed'\n",
    ")"
   ]
  },
  {
   "cell_type": "code",
   "execution_count": null,
   "id": "d2d0f453-1639-4c50-b1fb-eba3897a4054",
   "metadata": {
    "tags": []
   },
   "outputs": [],
   "source": [
    "mt = mt.filter_rows(\n",
    "    hl.is_snp(mt.alleles[0], mt.alleles[1]) & \n",
    "    mt.was_split == False &\n",
    "    hl.is_missing(bed[mt.locus])\n",
    ")  "
   ]
  },
  {
   "cell_type": "markdown",
   "id": "0920c804-13db-43bb-a700-e8f84a1feb96",
   "metadata": {
    "tags": []
   },
   "source": [
    "### RUN PCA for everyone"
   ]
  },
  {
   "cell_type": "code",
   "execution_count": 37,
   "id": "f342cbac-a7ef-4597-92b0-b154f5e1b3df",
   "metadata": {
    "tags": []
   },
   "outputs": [],
   "source": [
    "#mt = mt.checkpoint(localfs_path+'pre_pca_gts_filtered.mt')\n",
    "mt = hl.read_matrix_table(localfs_path+'pre_pca_gts_filtered.mt')"
   ]
  },
  {
   "cell_type": "code",
   "execution_count": 38,
   "id": "81f782e4-a8ce-49e1-b03f-a07e3b6350f2",
   "metadata": {
    "tags": []
   },
   "outputs": [
    {
     "data": {
      "text/plain": [
       "(3042073, 1280)"
      ]
     },
     "execution_count": 38,
     "metadata": {},
     "output_type": "execute_result"
    }
   ],
   "source": [
    "mt.count()"
   ]
  },
  {
   "cell_type": "code",
   "execution_count": 39,
   "id": "98f5ef02-a85a-46eb-990c-cbf60c9ecd49",
   "metadata": {
    "tags": []
   },
   "outputs": [],
   "source": [
    "def run_pca_no_filter(mtx, mtx_path, suffix):\n",
    "    \n",
    "    for_pca = mtx.sample_rows(0.2)\n",
    "\n",
    "    for_pca = for_pca.checkpoint(localfs_path+'subset_'+suffix+mtx_path)\n",
    "    for_pca = hl.read_matrix_table(localfs_path+'subset_'+suffix+mtx_path)\n",
    "    eigenvalues, pcs, _ = hl.hwe_normalized_pca(for_pca.GT, k=20)\n",
    "    \n",
    "    mtx = mtx.annotate_cols(scores_no_filter = pcs[mtx.s].scores)\n",
    "    mtx = mtx.checkpoint(localfs_path+'after_pca_no_filters_'+suffix+mtx_path)\n",
    "    \n",
    "    return(mtx)"
   ]
  },
  {
   "cell_type": "code",
   "execution_count": 40,
   "id": "49ae3ccc-503c-4cc7-b3f8-940de9d86010",
   "metadata": {
    "tags": []
   },
   "outputs": [
    {
     "name": "stderr",
     "output_type": "stream",
     "text": [
      "2023-06-22 14:24:03.946 Hail: INFO: wrote matrix table with 606866 rows and 1280 columns in 4389 partitions to /localfs/3688449/subset_3_all_samples.mt\n",
      "    Total size: 6.12 GiB\n",
      "    * Rows/entries: 6.12 GiB\n",
      "    * Columns: 8.46 KiB\n",
      "    * Globals: 11.00 B\n",
      "    * Smallest partition: 0 rows (20.00 B)\n",
      "    * Largest partition:  897 rows (9.44 MiB)\n",
      "2023-06-22 14:24:44.293 Hail: INFO: hwe_normalize: found 598852 variants after filtering out monomorphic sites.\n",
      "2023-06-22 14:25:01.509 Hail: INFO: pca: running PCA with 20 components... 4389]\n",
      "2023-06-22 14:28:25.582 Hail: INFO: wrote table with 0 rows in 0 partitions to /localfs/3688449/tmp_hail/persist_tableitCUHond33\n",
      "    Total size: 208.84 KiB\n",
      "    * Rows: 0.00 B\n",
      "    * Globals: 208.84 KiB\n",
      "    * Smallest partition: N/A\n",
      "    * Largest partition:  N/A\n",
      "2023-06-22 14:43:21.125 Hail: INFO: wrote matrix table with 3042073 rows and 1280 columns in 4389 partitions to /localfs/3688449/after_pca_no_filters_3_all_samples.mt\n"
     ]
    }
   ],
   "source": [
    "mt = run_pca_no_filter(mt, 'all_samples.mt', '3_')"
   ]
  },
  {
   "cell_type": "code",
   "execution_count": 41,
   "id": "e4e0f6d3-8dd1-4b29-ab20-642da2d4b5b6",
   "metadata": {
    "tags": []
   },
   "outputs": [],
   "source": [
    "mt = mt.annotate_cols(\n",
    "    label = hl.if_else(\n",
    "        mt.group == 'local_controls',\n",
    "        'Polish elite sportsmen',\n",
    "        hl.if_else(\n",
    "            mt.group == 'polish_controls',\n",
    "            'Polish synthetic controls',\n",
    "            hl.if_else(\n",
    "                mt.phenotypes.family == '.',\n",
    "                'GTS',\n",
    "                hl.str('GTS family ')+mt.phenotypes.family\n",
    "            )\n",
    "        )\n",
    "    )\n",
    ")                "
   ]
  },
  {
   "cell_type": "code",
   "execution_count": 42,
   "id": "615f7bd2-0df0-4927-b1b6-3f1bc2858536",
   "metadata": {
    "tags": []
   },
   "outputs": [
    {
     "name": "stderr",
     "output_type": "stream",
     "text": [
      "/net/pr2/projects/plgrid/plggneuromol/imdik-zekanowski-gts/venv-hail-0.2.113/lib/python3.10/site-packages/bokeh/models/sources.py:235: FutureWarning: iteritems is deprecated and will be removed in a future version. Use .items instead.\n",
      "  tmp_data = {c: v.values for c, v in _df.iteritems()}\n"
     ]
    },
    {
     "data": {
      "text/html": [
       "\n",
       "\n",
       "\n",
       "\n",
       "\n",
       "\n",
       "  <div class=\"bk-root\" id=\"aea14142-cd02-48b5-a001-8200d140366c\" data-root-id=\"1859\"></div>\n"
      ]
     },
     "metadata": {},
     "output_type": "display_data"
    },
    {
     "data": {
      "application/javascript": [
       "(function(root) {\n",
       "  function embed_document(root) {\n",
       "    \n",
       "  var docs_json = {\"f2934bb8-63f1-47a4-a728-9731a5783ffb\":{\"roots\":{\"references\":[{\"attributes\":{\"below\":[{\"id\":\"1870\",\"type\":\"LinearAxis\"}],\"center\":[{\"id\":\"1874\",\"type\":\"Grid\"},{\"id\":\"1879\",\"type\":\"Grid\"}],\"left\":[{\"id\":\"1875\",\"type\":\"LinearAxis\"},{\"id\":\"2079\",\"type\":\"Legend\"},{\"id\":\"2080\",\"type\":\"ColorBar\"}],\"plot_height\":800,\"plot_width\":800,\"renderers\":[{\"id\":\"1902\",\"type\":\"GlyphRenderer\"},{\"id\":\"1908\",\"type\":\"GlyphRenderer\"},{\"id\":\"1914\",\"type\":\"GlyphRenderer\"},{\"id\":\"1920\",\"type\":\"GlyphRenderer\"},{\"id\":\"1926\",\"type\":\"GlyphRenderer\"},{\"id\":\"1932\",\"type\":\"GlyphRenderer\"},{\"id\":\"1938\",\"type\":\"GlyphRenderer\"},{\"id\":\"1944\",\"type\":\"GlyphRenderer\"},{\"id\":\"1950\",\"type\":\"GlyphRenderer\"},{\"id\":\"1956\",\"type\":\"GlyphRenderer\"},{\"id\":\"1962\",\"type\":\"GlyphRenderer\"},{\"id\":\"1968\",\"type\":\"GlyphRenderer\"},{\"id\":\"1974\",\"type\":\"GlyphRenderer\"},{\"id\":\"1980\",\"type\":\"GlyphRenderer\"},{\"id\":\"1986\",\"type\":\"GlyphRenderer\"},{\"id\":\"1992\",\"type\":\"GlyphRenderer\"},{\"id\":\"1998\",\"type\":\"GlyphRenderer\"},{\"id\":\"2004\",\"type\":\"GlyphRenderer\"},{\"id\":\"2010\",\"type\":\"GlyphRenderer\"},{\"id\":\"2016\",\"type\":\"GlyphRenderer\"},{\"id\":\"2022\",\"type\":\"GlyphRenderer\"},{\"id\":\"2028\",\"type\":\"GlyphRenderer\"},{\"id\":\"2034\",\"type\":\"GlyphRenderer\"},{\"id\":\"2040\",\"type\":\"GlyphRenderer\"},{\"id\":\"2046\",\"type\":\"GlyphRenderer\"},{\"id\":\"2052\",\"type\":\"GlyphRenderer\"}],\"title\":{\"id\":\"1860\",\"type\":\"Title\"},\"toolbar\":{\"id\":\"1886\",\"type\":\"Toolbar\"},\"x_range\":{\"id\":\"1862\",\"type\":\"DataRange1d\"},\"x_scale\":{\"id\":\"1866\",\"type\":\"LinearScale\"},\"y_range\":{\"id\":\"1864\",\"type\":\"DataRange1d\"},\"y_scale\":{\"id\":\"1868\",\"type\":\"LinearScale\"}},\"id\":\"1859\",\"subtype\":\"Figure\",\"type\":\"Plot\"},{\"attributes\":{\"fill_alpha\":{\"value\":0.1},\"fill_color\":{\"value\":\"#1f77b4\"},\"line_alpha\":{\"value\":0.1},\"line_color\":{\"value\":\"#1f77b4\"},\"x\":{\"field\":\"x\"},\"y\":{\"field\":\"y\"}},\"id\":\"1955\",\"type\":\"Circle\"},{\"attributes\":{\"data_source\":{\"id\":\"1895\",\"type\":\"ColumnDataSource\"},\"glyph\":{\"id\":\"1960\",\"type\":\"Circle\"},\"hover_glyph\":null,\"muted_glyph\":null,\"nonselection_glyph\":{\"id\":\"1961\",\"type\":\"Circle\"},\"selection_glyph\":null,\"view\":{\"id\":\"1958\",\"type\":\"CDSView\"}},\"id\":\"1962\",\"type\":\"GlyphRenderer\"},{\"attributes\":{\"fill_color\":{\"field\":\"label\",\"transform\":{\"id\":\"1896\",\"type\":\"CategoricalColorMapper\"}},\"line_color\":{\"field\":\"label\",\"transform\":{\"id\":\"1896\",\"type\":\"CategoricalColorMapper\"}},\"x\":{\"field\":\"x\"},\"y\":{\"field\":\"y\"}},\"id\":\"1960\",\"type\":\"Circle\"},{\"attributes\":{\"filters\":[{\"id\":\"1957\",\"type\":\"GroupFilter\"}],\"source\":{\"id\":\"1895\",\"type\":\"ColumnDataSource\"}},\"id\":\"1958\",\"type\":\"CDSView\"},{\"attributes\":{\"column_name\":\"label\",\"group\":\"GTS family K\"},\"id\":\"1963\",\"type\":\"GroupFilter\"},{\"attributes\":{\"fill_alpha\":{\"value\":0.1},\"fill_color\":{\"value\":\"#1f77b4\"},\"line_alpha\":{\"value\":0.1},\"line_color\":{\"value\":\"#1f77b4\"},\"x\":{\"field\":\"x\"},\"y\":{\"field\":\"y\"}},\"id\":\"1961\",\"type\":\"Circle\"},{\"attributes\":{\"data_source\":{\"id\":\"1895\",\"type\":\"ColumnDataSource\"},\"glyph\":{\"id\":\"1966\",\"type\":\"Circle\"},\"hover_glyph\":null,\"muted_glyph\":null,\"nonselection_glyph\":{\"id\":\"1967\",\"type\":\"Circle\"},\"selection_glyph\":null,\"view\":{\"id\":\"1964\",\"type\":\"CDSView\"}},\"id\":\"1968\",\"type\":\"GlyphRenderer\"},{\"attributes\":{\"fill_color\":{\"field\":\"label\",\"transform\":{\"id\":\"1896\",\"type\":\"CategoricalColorMapper\"}},\"line_color\":{\"field\":\"label\",\"transform\":{\"id\":\"1896\",\"type\":\"CategoricalColorMapper\"}},\"x\":{\"field\":\"x\"},\"y\":{\"field\":\"y\"}},\"id\":\"1966\",\"type\":\"Circle\"},{\"attributes\":{\"filters\":[{\"id\":\"1963\",\"type\":\"GroupFilter\"}],\"source\":{\"id\":\"1895\",\"type\":\"ColumnDataSource\"}},\"id\":\"1964\",\"type\":\"CDSView\"},{\"attributes\":{\"filters\":[{\"id\":\"1999\",\"type\":\"GroupFilter\"}],\"source\":{\"id\":\"1895\",\"type\":\"ColumnDataSource\"}},\"id\":\"2000\",\"type\":\"CDSView\"},{\"attributes\":{\"column_name\":\"label\",\"group\":\"GTS family L\"},\"id\":\"1969\",\"type\":\"GroupFilter\"},{\"attributes\":{\"fill_alpha\":{\"value\":0.1},\"fill_color\":{\"value\":\"#1f77b4\"},\"line_alpha\":{\"value\":0.1},\"line_color\":{\"value\":\"#1f77b4\"},\"x\":{\"field\":\"x\"},\"y\":{\"field\":\"y\"}},\"id\":\"1967\",\"type\":\"Circle\"},{\"attributes\":{\"data_source\":{\"id\":\"1895\",\"type\":\"ColumnDataSource\"},\"glyph\":{\"id\":\"1972\",\"type\":\"Circle\"},\"hover_glyph\":null,\"muted_glyph\":null,\"nonselection_glyph\":{\"id\":\"1973\",\"type\":\"Circle\"},\"selection_glyph\":null,\"view\":{\"id\":\"1970\",\"type\":\"CDSView\"}},\"id\":\"1974\",\"type\":\"GlyphRenderer\"},{\"attributes\":{\"fill_color\":{\"field\":\"label\",\"transform\":{\"id\":\"1896\",\"type\":\"CategoricalColorMapper\"}},\"line_color\":{\"field\":\"label\",\"transform\":{\"id\":\"1896\",\"type\":\"CategoricalColorMapper\"}},\"x\":{\"field\":\"x\"},\"y\":{\"field\":\"y\"}},\"id\":\"1972\",\"type\":\"Circle\"},{\"attributes\":{\"filters\":[{\"id\":\"1969\",\"type\":\"GroupFilter\"}],\"source\":{\"id\":\"1895\",\"type\":\"ColumnDataSource\"}},\"id\":\"1970\",\"type\":\"CDSView\"},{\"attributes\":{\"data_source\":{\"id\":\"1895\",\"type\":\"ColumnDataSource\"},\"glyph\":{\"id\":\"2002\",\"type\":\"Circle\"},\"hover_glyph\":null,\"muted_glyph\":null,\"nonselection_glyph\":{\"id\":\"2003\",\"type\":\"Circle\"},\"selection_glyph\":null,\"view\":{\"id\":\"2000\",\"type\":\"CDSView\"}},\"id\":\"2004\",\"type\":\"GlyphRenderer\"},{\"attributes\":{\"fill_color\":{\"field\":\"label\",\"transform\":{\"id\":\"1896\",\"type\":\"CategoricalColorMapper\"}},\"line_color\":{\"field\":\"label\",\"transform\":{\"id\":\"1896\",\"type\":\"CategoricalColorMapper\"}},\"x\":{\"field\":\"x\"},\"y\":{\"field\":\"y\"}},\"id\":\"2002\",\"type\":\"Circle\"},{\"attributes\":{},\"id\":\"2119\",\"type\":\"Selection\"},{\"attributes\":{\"column_name\":\"label\",\"group\":\"GTS family M\"},\"id\":\"1975\",\"type\":\"GroupFilter\"},{\"attributes\":{\"dimension\":1,\"ticker\":{\"id\":\"1876\",\"type\":\"BasicTicker\"}},\"id\":\"1879\",\"type\":\"Grid\"},{\"attributes\":{\"fill_alpha\":{\"value\":0.1},\"fill_color\":{\"value\":\"#1f77b4\"},\"line_alpha\":{\"value\":0.1},\"line_color\":{\"value\":\"#1f77b4\"},\"x\":{\"field\":\"x\"},\"y\":{\"field\":\"y\"}},\"id\":\"1973\",\"type\":\"Circle\"},{\"attributes\":{\"data_source\":{\"id\":\"1895\",\"type\":\"ColumnDataSource\"},\"glyph\":{\"id\":\"1978\",\"type\":\"Circle\"},\"hover_glyph\":null,\"muted_glyph\":null,\"nonselection_glyph\":{\"id\":\"1979\",\"type\":\"Circle\"},\"selection_glyph\":null,\"view\":{\"id\":\"1976\",\"type\":\"CDSView\"}},\"id\":\"1980\",\"type\":\"GlyphRenderer\"},{\"attributes\":{\"fill_color\":{\"field\":\"label\",\"transform\":{\"id\":\"1896\",\"type\":\"CategoricalColorMapper\"}},\"line_color\":{\"field\":\"label\",\"transform\":{\"id\":\"1896\",\"type\":\"CategoricalColorMapper\"}},\"x\":{\"field\":\"x\"},\"y\":{\"field\":\"y\"}},\"id\":\"1978\",\"type\":\"Circle\"},{\"attributes\":{\"filters\":[{\"id\":\"1975\",\"type\":\"GroupFilter\"}],\"source\":{\"id\":\"1895\",\"type\":\"ColumnDataSource\"}},\"id\":\"1976\",\"type\":\"CDSView\"},{\"attributes\":{},\"id\":\"1885\",\"type\":\"HelpTool\"},{\"attributes\":{\"column_name\":\"label\",\"group\":\"GTS family R\"},\"id\":\"1999\",\"type\":\"GroupFilter\"},{\"attributes\":{\"label\":{\"value\":\"GTS family T\"},\"renderers\":[{\"id\":\"2016\",\"type\":\"GlyphRenderer\"}]},\"id\":\"2072\",\"type\":\"LegendItem\"},{\"attributes\":{\"fill_alpha\":{\"value\":0.1},\"fill_color\":{\"value\":\"#1f77b4\"},\"line_alpha\":{\"value\":0.1},\"line_color\":{\"value\":\"#1f77b4\"},\"x\":{\"field\":\"x\"},\"y\":{\"field\":\"y\"}},\"id\":\"1997\",\"type\":\"Circle\"},{\"attributes\":{},\"id\":\"1880\",\"type\":\"PanTool\"},{\"attributes\":{\"overlay\":{\"id\":\"2120\",\"type\":\"BoxAnnotation\"}},\"id\":\"1882\",\"type\":\"BoxZoomTool\"},{\"attributes\":{\"column_name\":\"label\",\"group\":\"GTS family N\"},\"id\":\"1981\",\"type\":\"GroupFilter\"},{\"attributes\":{\"fill_alpha\":{\"value\":0.1},\"fill_color\":{\"value\":\"#1f77b4\"},\"line_alpha\":{\"value\":0.1},\"line_color\":{\"value\":\"#1f77b4\"},\"x\":{\"field\":\"x\"},\"y\":{\"field\":\"y\"}},\"id\":\"1979\",\"type\":\"Circle\"},{\"attributes\":{\"callback\":null},\"id\":\"1862\",\"type\":\"DataRange1d\"},{\"attributes\":{\"data_source\":{\"id\":\"1895\",\"type\":\"ColumnDataSource\"},\"glyph\":{\"id\":\"1984\",\"type\":\"Circle\"},\"hover_glyph\":null,\"muted_glyph\":null,\"nonselection_glyph\":{\"id\":\"1985\",\"type\":\"Circle\"},\"selection_glyph\":null,\"view\":{\"id\":\"1982\",\"type\":\"CDSView\"}},\"id\":\"1986\",\"type\":\"GlyphRenderer\"},{\"attributes\":{},\"id\":\"1871\",\"type\":\"BasicTicker\"},{\"attributes\":{\"fill_color\":{\"field\":\"label\",\"transform\":{\"id\":\"1896\",\"type\":\"CategoricalColorMapper\"}},\"line_color\":{\"field\":\"label\",\"transform\":{\"id\":\"1896\",\"type\":\"CategoricalColorMapper\"}},\"x\":{\"field\":\"x\"},\"y\":{\"field\":\"y\"}},\"id\":\"1984\",\"type\":\"Circle\"},{\"attributes\":{\"factors\":[\"GTS family K\",\"GTS family A\",\"GTS family E\",\"GTS family N\",\"GTS family W\",\"Polish synthetic controls\",\"GTS family F\",\"GTS family P\",\"GTS family B\",\"GTS family Y\",\"GTS family H\",\"GTS family I\",\"GTS family D\",\"GTS family M\",\"GTS family L\",\"GTS family C\",\"GTS family R\",\"GTS family U\",\"GTS\",\"GTS family X\",\"GTS family O\",\"GTS family T\",\"Polish elite sportsmen\",\"GTS family J\",\"GTS family G\",\"GTS family S\"],\"palette\":[\"#440154\",\"#470F62\",\"#481D6F\",\"#472A79\",\"#453681\",\"#404387\",\"#3C4E8A\",\"#37598C\",\"#32638D\",\"#2E6D8E\",\"#29788E\",\"#26818E\",\"#228A8D\",\"#1F948B\",\"#1E9D88\",\"#22A784\",\"#2BB17D\",\"#39B976\",\"#4BC26C\",\"#60C960\",\"#79D151\",\"#92D741\",\"#ADDC30\",\"#C7E01F\",\"#E1E318\",\"#FDE724\"]},\"id\":\"1896\",\"type\":\"CategoricalColorMapper\"},{\"attributes\":{\"label\":{\"value\":\"GTS family R\"},\"renderers\":[{\"id\":\"2004\",\"type\":\"GlyphRenderer\"}]},\"id\":\"2070\",\"type\":\"LegendItem\"},{\"attributes\":{\"filters\":[{\"id\":\"1981\",\"type\":\"GroupFilter\"}],\"source\":{\"id\":\"1895\",\"type\":\"ColumnDataSource\"}},\"id\":\"1982\",\"type\":\"CDSView\"},{\"attributes\":{},\"id\":\"1884\",\"type\":\"ResetTool\"},{\"attributes\":{\"data_source\":{\"id\":\"1895\",\"type\":\"ColumnDataSource\"},\"glyph\":{\"id\":\"1900\",\"type\":\"Circle\"},\"hover_glyph\":null,\"muted_glyph\":null,\"nonselection_glyph\":{\"id\":\"1901\",\"type\":\"Circle\"},\"selection_glyph\":null,\"view\":{\"id\":\"1898\",\"type\":\"CDSView\"}},\"id\":\"1902\",\"type\":\"GlyphRenderer\"},{\"attributes\":{\"data_source\":{\"id\":\"1895\",\"type\":\"ColumnDataSource\"},\"glyph\":{\"id\":\"1924\",\"type\":\"Circle\"},\"hover_glyph\":null,\"muted_glyph\":null,\"nonselection_glyph\":{\"id\":\"1925\",\"type\":\"Circle\"},\"selection_glyph\":null,\"view\":{\"id\":\"1922\",\"type\":\"CDSView\"}},\"id\":\"1926\",\"type\":\"GlyphRenderer\"},{\"attributes\":{\"column_name\":\"label\",\"group\":\"GTS family O\"},\"id\":\"1987\",\"type\":\"GroupFilter\"},{\"attributes\":{\"column_name\":\"label\",\"group\":\"GTS family P\"},\"id\":\"1993\",\"type\":\"GroupFilter\"},{\"attributes\":{\"fill_alpha\":{\"value\":0.1},\"fill_color\":{\"value\":\"#1f77b4\"},\"line_alpha\":{\"value\":0.1},\"line_color\":{\"value\":\"#1f77b4\"},\"x\":{\"field\":\"x\"},\"y\":{\"field\":\"y\"}},\"id\":\"1985\",\"type\":\"Circle\"},{\"attributes\":{\"data_source\":{\"id\":\"1895\",\"type\":\"ColumnDataSource\"},\"glyph\":{\"id\":\"1990\",\"type\":\"Circle\"},\"hover_glyph\":null,\"muted_glyph\":null,\"nonselection_glyph\":{\"id\":\"1991\",\"type\":\"Circle\"},\"selection_glyph\":null,\"view\":{\"id\":\"1988\",\"type\":\"CDSView\"}},\"id\":\"1992\",\"type\":\"GlyphRenderer\"},{\"attributes\":{\"fill_alpha\":{\"value\":0.1},\"fill_color\":{\"value\":\"#1f77b4\"},\"line_alpha\":{\"value\":0.1},\"line_color\":{\"value\":\"#1f77b4\"},\"x\":{\"field\":\"x\"},\"y\":{\"field\":\"y\"}},\"id\":\"1919\",\"type\":\"Circle\"},{\"attributes\":{\"fill_color\":{\"field\":\"label\",\"transform\":{\"id\":\"1896\",\"type\":\"CategoricalColorMapper\"}},\"line_color\":{\"field\":\"label\",\"transform\":{\"id\":\"1896\",\"type\":\"CategoricalColorMapper\"}},\"x\":{\"field\":\"x\"},\"y\":{\"field\":\"y\"}},\"id\":\"1990\",\"type\":\"Circle\"},{\"attributes\":{\"filters\":[{\"id\":\"2011\",\"type\":\"GroupFilter\"}],\"source\":{\"id\":\"1895\",\"type\":\"ColumnDataSource\"}},\"id\":\"2012\",\"type\":\"CDSView\"},{\"attributes\":{\"fill_alpha\":{\"value\":0.1},\"fill_color\":{\"value\":\"#1f77b4\"},\"line_alpha\":{\"value\":0.1},\"line_color\":{\"value\":\"#1f77b4\"},\"x\":{\"field\":\"x\"},\"y\":{\"field\":\"y\"}},\"id\":\"1901\",\"type\":\"Circle\"},{\"attributes\":{\"filters\":[{\"id\":\"1987\",\"type\":\"GroupFilter\"}],\"source\":{\"id\":\"1895\",\"type\":\"ColumnDataSource\"}},\"id\":\"1988\",\"type\":\"CDSView\"},{\"attributes\":{\"label\":{\"value\":\"GTS family S\"},\"renderers\":[{\"id\":\"2010\",\"type\":\"GlyphRenderer\"}]},\"id\":\"2071\",\"type\":\"LegendItem\"},{\"attributes\":{\"column_name\":\"label\",\"group\":\"GTS family U\"},\"id\":\"2017\",\"type\":\"GroupFilter\"},{\"attributes\":{\"data_source\":{\"id\":\"1895\",\"type\":\"ColumnDataSource\"},\"glyph\":{\"id\":\"2014\",\"type\":\"Circle\"},\"hover_glyph\":null,\"muted_glyph\":null,\"nonselection_glyph\":{\"id\":\"2015\",\"type\":\"Circle\"},\"selection_glyph\":null,\"view\":{\"id\":\"2012\",\"type\":\"CDSView\"}},\"id\":\"2016\",\"type\":\"GlyphRenderer\"},{\"attributes\":{},\"id\":\"1881\",\"type\":\"WheelZoomTool\"},{\"attributes\":{\"data_source\":{\"id\":\"1895\",\"type\":\"ColumnDataSource\"},\"glyph\":{\"id\":\"1996\",\"type\":\"Circle\"},\"hover_glyph\":null,\"muted_glyph\":null,\"nonselection_glyph\":{\"id\":\"1997\",\"type\":\"Circle\"},\"selection_glyph\":null,\"view\":{\"id\":\"1994\",\"type\":\"CDSView\"}},\"id\":\"1998\",\"type\":\"GlyphRenderer\"},{\"attributes\":{\"fill_color\":{\"field\":\"label\",\"transform\":{\"id\":\"1896\",\"type\":\"CategoricalColorMapper\"}},\"line_color\":{\"field\":\"label\",\"transform\":{\"id\":\"1896\",\"type\":\"CategoricalColorMapper\"}},\"x\":{\"field\":\"x\"},\"y\":{\"field\":\"y\"}},\"id\":\"1924\",\"type\":\"Circle\"},{\"attributes\":{\"fill_alpha\":{\"value\":0.1},\"fill_color\":{\"value\":\"#1f77b4\"},\"line_alpha\":{\"value\":0.1},\"line_color\":{\"value\":\"#1f77b4\"},\"x\":{\"field\":\"x\"},\"y\":{\"field\":\"y\"}},\"id\":\"1991\",\"type\":\"Circle\"},{\"attributes\":{\"label\":{\"value\":\"GTS family X\"},\"renderers\":[{\"id\":\"2034\",\"type\":\"GlyphRenderer\"}]},\"id\":\"2075\",\"type\":\"LegendItem\"},{\"attributes\":{\"fill_color\":{\"field\":\"label\",\"transform\":{\"id\":\"1896\",\"type\":\"CategoricalColorMapper\"}},\"line_color\":{\"field\":\"label\",\"transform\":{\"id\":\"1896\",\"type\":\"CategoricalColorMapper\"}},\"x\":{\"field\":\"x\"},\"y\":{\"field\":\"y\"}},\"id\":\"1996\",\"type\":\"Circle\"},{\"attributes\":{},\"id\":\"2117\",\"type\":\"BasicTicker\"},{\"attributes\":{\"fill_color\":{\"field\":\"label\",\"transform\":{\"id\":\"1896\",\"type\":\"CategoricalColorMapper\"}},\"line_color\":{\"field\":\"label\",\"transform\":{\"id\":\"1896\",\"type\":\"CategoricalColorMapper\"}},\"x\":{\"field\":\"x\"},\"y\":{\"field\":\"y\"}},\"id\":\"2014\",\"type\":\"Circle\"},{\"attributes\":{\"filters\":[{\"id\":\"1993\",\"type\":\"GroupFilter\"}],\"source\":{\"id\":\"1895\",\"type\":\"ColumnDataSource\"}},\"id\":\"1994\",\"type\":\"CDSView\"},{\"attributes\":{\"fill_alpha\":{\"value\":0.1},\"fill_color\":{\"value\":\"#1f77b4\"},\"line_alpha\":{\"value\":0.1},\"line_color\":{\"value\":\"#1f77b4\"},\"x\":{\"field\":\"x\"},\"y\":{\"field\":\"y\"}},\"id\":\"2015\",\"type\":\"Circle\"},{\"attributes\":{\"active_drag\":\"auto\",\"active_inspect\":\"auto\",\"active_multi\":null,\"active_scroll\":\"auto\",\"active_tap\":\"auto\",\"tools\":[{\"id\":\"1880\",\"type\":\"PanTool\"},{\"id\":\"1881\",\"type\":\"WheelZoomTool\"},{\"id\":\"1882\",\"type\":\"BoxZoomTool\"},{\"id\":\"1883\",\"type\":\"SaveTool\"},{\"id\":\"1884\",\"type\":\"ResetTool\"},{\"id\":\"1885\",\"type\":\"HelpTool\"},{\"id\":\"1894\",\"type\":\"HoverTool\"}]},\"id\":\"1886\",\"type\":\"Toolbar\"},{\"attributes\":{\"fill_alpha\":{\"value\":0.1},\"fill_color\":{\"value\":\"#1f77b4\"},\"line_alpha\":{\"value\":0.1},\"line_color\":{\"value\":\"#1f77b4\"},\"x\":{\"field\":\"x\"},\"y\":{\"field\":\"y\"}},\"id\":\"2021\",\"type\":\"Circle\"},{\"attributes\":{\"column_name\":\"label\",\"group\":\"GTS\"},\"id\":\"1897\",\"type\":\"GroupFilter\"},{\"attributes\":{\"axis_label\":\"PC1\",\"formatter\":{\"id\":\"2112\",\"type\":\"BasicTickFormatter\"},\"ticker\":{\"id\":\"1871\",\"type\":\"BasicTicker\"}},\"id\":\"1870\",\"type\":\"LinearAxis\"},{\"attributes\":{\"filters\":[{\"id\":\"1921\",\"type\":\"GroupFilter\"}],\"source\":{\"id\":\"1895\",\"type\":\"ColumnDataSource\"}},\"id\":\"1922\",\"type\":\"CDSView\"},{\"attributes\":{\"fill_color\":{\"field\":\"label\",\"transform\":{\"id\":\"1896\",\"type\":\"CategoricalColorMapper\"}},\"line_color\":{\"field\":\"label\",\"transform\":{\"id\":\"1896\",\"type\":\"CategoricalColorMapper\"}},\"x\":{\"field\":\"x\"},\"y\":{\"field\":\"y\"}},\"id\":\"2020\",\"type\":\"Circle\"},{\"attributes\":{\"label\":{\"value\":\"GTS family Y\"},\"renderers\":[{\"id\":\"2040\",\"type\":\"GlyphRenderer\"}]},\"id\":\"2076\",\"type\":\"LegendItem\"},{\"attributes\":{},\"id\":\"2116\",\"type\":\"BasicTickFormatter\"},{\"attributes\":{\"filters\":[{\"id\":\"1915\",\"type\":\"GroupFilter\"}],\"source\":{\"id\":\"1895\",\"type\":\"ColumnDataSource\"}},\"id\":\"1916\",\"type\":\"CDSView\"},{\"attributes\":{\"filters\":[{\"id\":\"2017\",\"type\":\"GroupFilter\"}],\"source\":{\"id\":\"1895\",\"type\":\"ColumnDataSource\"}},\"id\":\"2018\",\"type\":\"CDSView\"},{\"attributes\":{\"axis_label\":\"PC2\",\"formatter\":{\"id\":\"2114\",\"type\":\"BasicTickFormatter\"},\"ticker\":{\"id\":\"1876\",\"type\":\"BasicTicker\"}},\"id\":\"1875\",\"type\":\"LinearAxis\"},{\"attributes\":{},\"id\":\"2114\",\"type\":\"BasicTickFormatter\"},{\"attributes\":{\"column_name\":\"label\",\"group\":\"GTS family W\"},\"id\":\"2023\",\"type\":\"GroupFilter\"},{\"attributes\":{\"text\":\"PCA\"},\"id\":\"1860\",\"type\":\"Title\"},{\"attributes\":{\"fill_color\":{\"field\":\"label\",\"transform\":{\"id\":\"1896\",\"type\":\"CategoricalColorMapper\"}},\"line_color\":{\"field\":\"label\",\"transform\":{\"id\":\"1896\",\"type\":\"CategoricalColorMapper\"}},\"x\":{\"field\":\"x\"},\"y\":{\"field\":\"y\"}},\"id\":\"1906\",\"type\":\"Circle\"},{\"attributes\":{\"fill_color\":{\"field\":\"label\",\"transform\":{\"id\":\"1896\",\"type\":\"CategoricalColorMapper\"}},\"line_color\":{\"field\":\"label\",\"transform\":{\"id\":\"1896\",\"type\":\"CategoricalColorMapper\"}},\"x\":{\"field\":\"x\"},\"y\":{\"field\":\"y\"}},\"id\":\"1900\",\"type\":\"Circle\"},{\"attributes\":{\"label\":{\"value\":\"GTS family U\"},\"renderers\":[{\"id\":\"2022\",\"type\":\"GlyphRenderer\"}]},\"id\":\"2073\",\"type\":\"LegendItem\"},{\"attributes\":{\"data_source\":{\"id\":\"1895\",\"type\":\"ColumnDataSource\"},\"glyph\":{\"id\":\"2020\",\"type\":\"Circle\"},\"hover_glyph\":null,\"muted_glyph\":null,\"nonselection_glyph\":{\"id\":\"2021\",\"type\":\"Circle\"},\"selection_glyph\":null,\"view\":{\"id\":\"2018\",\"type\":\"CDSView\"}},\"id\":\"2022\",\"type\":\"GlyphRenderer\"},{\"attributes\":{\"label\":{\"value\":\"GTS family W\"},\"renderers\":[{\"id\":\"2028\",\"type\":\"GlyphRenderer\"}]},\"id\":\"2074\",\"type\":\"LegendItem\"},{\"attributes\":{\"fill_color\":{\"field\":\"label\",\"transform\":{\"id\":\"1896\",\"type\":\"CategoricalColorMapper\"}},\"line_color\":{\"field\":\"label\",\"transform\":{\"id\":\"1896\",\"type\":\"CategoricalColorMapper\"}},\"x\":{\"field\":\"x\"},\"y\":{\"field\":\"y\"}},\"id\":\"2026\",\"type\":\"Circle\"},{\"attributes\":{},\"id\":\"2112\",\"type\":\"BasicTickFormatter\"},{\"attributes\":{\"filters\":[{\"id\":\"2023\",\"type\":\"GroupFilter\"}],\"source\":{\"id\":\"1895\",\"type\":\"ColumnDataSource\"}},\"id\":\"2024\",\"type\":\"CDSView\"},{\"attributes\":{\"data_source\":{\"id\":\"1895\",\"type\":\"ColumnDataSource\"},\"glyph\":{\"id\":\"2026\",\"type\":\"Circle\"},\"hover_glyph\":null,\"muted_glyph\":null,\"nonselection_glyph\":{\"id\":\"2027\",\"type\":\"Circle\"},\"selection_glyph\":null,\"view\":{\"id\":\"2024\",\"type\":\"CDSView\"}},\"id\":\"2028\",\"type\":\"GlyphRenderer\"},{\"attributes\":{\"column_name\":\"label\",\"group\":\"GTS family D\"},\"id\":\"1921\",\"type\":\"GroupFilter\"},{\"attributes\":{\"column_name\":\"label\",\"group\":\"GTS family X\"},\"id\":\"2029\",\"type\":\"GroupFilter\"},{\"attributes\":{\"filters\":[{\"id\":\"1897\",\"type\":\"GroupFilter\"}],\"source\":{\"id\":\"1895\",\"type\":\"ColumnDataSource\"}},\"id\":\"1898\",\"type\":\"CDSView\"},{\"attributes\":{\"fill_alpha\":{\"value\":0.1},\"fill_color\":{\"value\":\"#1f77b4\"},\"line_alpha\":{\"value\":0.1},\"line_color\":{\"value\":\"#1f77b4\"},\"x\":{\"field\":\"x\"},\"y\":{\"field\":\"y\"}},\"id\":\"2027\",\"type\":\"Circle\"},{\"attributes\":{\"data_source\":{\"id\":\"1895\",\"type\":\"ColumnDataSource\"},\"glyph\":{\"id\":\"2032\",\"type\":\"Circle\"},\"hover_glyph\":null,\"muted_glyph\":null,\"nonselection_glyph\":{\"id\":\"2033\",\"type\":\"Circle\"},\"selection_glyph\":null,\"view\":{\"id\":\"2030\",\"type\":\"CDSView\"}},\"id\":\"2034\",\"type\":\"GlyphRenderer\"},{\"attributes\":{\"fill_color\":{\"field\":\"label\",\"transform\":{\"id\":\"1896\",\"type\":\"CategoricalColorMapper\"}},\"line_color\":{\"field\":\"label\",\"transform\":{\"id\":\"1896\",\"type\":\"CategoricalColorMapper\"}},\"x\":{\"field\":\"x\"},\"y\":{\"field\":\"y\"}},\"id\":\"2032\",\"type\":\"Circle\"},{\"attributes\":{\"filters\":[{\"id\":\"2029\",\"type\":\"GroupFilter\"}],\"source\":{\"id\":\"1895\",\"type\":\"ColumnDataSource\"}},\"id\":\"2030\",\"type\":\"CDSView\"},{\"attributes\":{\"label\":{\"value\":\"GTS family P\"},\"renderers\":[{\"id\":\"1998\",\"type\":\"GlyphRenderer\"}]},\"id\":\"2069\",\"type\":\"LegendItem\"},{\"attributes\":{\"bottom_units\":\"screen\",\"fill_alpha\":{\"value\":0.5},\"fill_color\":{\"value\":\"lightgrey\"},\"left_units\":\"screen\",\"level\":\"overlay\",\"line_alpha\":{\"value\":1.0},\"line_color\":{\"value\":\"black\"},\"line_dash\":[4,4],\"line_width\":{\"value\":2},\"render_mode\":\"css\",\"right_units\":\"screen\",\"top_units\":\"screen\"},\"id\":\"2120\",\"type\":\"BoxAnnotation\"},{\"attributes\":{\"callback\":null},\"id\":\"1864\",\"type\":\"DataRange1d\"},{\"attributes\":{\"column_name\":\"label\",\"group\":\"GTS family Y\"},\"id\":\"2035\",\"type\":\"GroupFilter\"},{\"attributes\":{\"fill_color\":{\"field\":\"label\",\"transform\":{\"id\":\"1896\",\"type\":\"CategoricalColorMapper\"}},\"line_color\":{\"field\":\"label\",\"transform\":{\"id\":\"1896\",\"type\":\"CategoricalColorMapper\"}},\"x\":{\"field\":\"x\"},\"y\":{\"field\":\"y\"}},\"id\":\"1912\",\"type\":\"Circle\"},{\"attributes\":{\"fill_alpha\":{\"value\":0.1},\"fill_color\":{\"value\":\"#1f77b4\"},\"line_alpha\":{\"value\":0.1},\"line_color\":{\"value\":\"#1f77b4\"},\"x\":{\"field\":\"x\"},\"y\":{\"field\":\"y\"}},\"id\":\"2033\",\"type\":\"Circle\"},{\"attributes\":{\"label\":{\"value\":\"GTS family O\"},\"renderers\":[{\"id\":\"1992\",\"type\":\"GlyphRenderer\"}]},\"id\":\"2068\",\"type\":\"LegendItem\"},{\"attributes\":{\"data_source\":{\"id\":\"1895\",\"type\":\"ColumnDataSource\"},\"glyph\":{\"id\":\"2038\",\"type\":\"Circle\"},\"hover_glyph\":null,\"muted_glyph\":null,\"nonselection_glyph\":{\"id\":\"2039\",\"type\":\"Circle\"},\"selection_glyph\":null,\"view\":{\"id\":\"2036\",\"type\":\"CDSView\"}},\"id\":\"2040\",\"type\":\"GlyphRenderer\"},{\"attributes\":{\"label\":{\"value\":\"GTS family N\"},\"renderers\":[{\"id\":\"1986\",\"type\":\"GlyphRenderer\"}]},\"id\":\"2067\",\"type\":\"LegendItem\"},{\"attributes\":{\"fill_color\":{\"field\":\"label\",\"transform\":{\"id\":\"1896\",\"type\":\"CategoricalColorMapper\"}},\"line_color\":{\"field\":\"label\",\"transform\":{\"id\":\"1896\",\"type\":\"CategoricalColorMapper\"}},\"x\":{\"field\":\"x\"},\"y\":{\"field\":\"y\"}},\"id\":\"2038\",\"type\":\"Circle\"},{\"attributes\":{\"ticker\":{\"id\":\"1871\",\"type\":\"BasicTicker\"}},\"id\":\"1874\",\"type\":\"Grid\"},{\"attributes\":{\"label\":{\"value\":\"GTS family M\"},\"renderers\":[{\"id\":\"1980\",\"type\":\"GlyphRenderer\"}]},\"id\":\"2066\",\"type\":\"LegendItem\"},{\"attributes\":{\"filters\":[{\"id\":\"2035\",\"type\":\"GroupFilter\"}],\"source\":{\"id\":\"1895\",\"type\":\"ColumnDataSource\"}},\"id\":\"2036\",\"type\":\"CDSView\"},{\"attributes\":{},\"id\":\"1866\",\"type\":\"LinearScale\"},{\"attributes\":{\"label\":{\"value\":\"GTS family L\"},\"renderers\":[{\"id\":\"1974\",\"type\":\"GlyphRenderer\"}]},\"id\":\"2065\",\"type\":\"LegendItem\"},{\"attributes\":{\"column_name\":\"label\",\"group\":\"Polish elite sportsmen\"},\"id\":\"2041\",\"type\":\"GroupFilter\"},{\"attributes\":{\"label\":{\"value\":\"GTS family K\"},\"renderers\":[{\"id\":\"1968\",\"type\":\"GlyphRenderer\"}]},\"id\":\"2064\",\"type\":\"LegendItem\"},{\"attributes\":{\"fill_alpha\":{\"value\":0.1},\"fill_color\":{\"value\":\"#1f77b4\"},\"line_alpha\":{\"value\":0.1},\"line_color\":{\"value\":\"#1f77b4\"},\"x\":{\"field\":\"x\"},\"y\":{\"field\":\"y\"}},\"id\":\"2039\",\"type\":\"Circle\"},{\"attributes\":{},\"id\":\"1868\",\"type\":\"LinearScale\"},{\"attributes\":{\"data_source\":{\"id\":\"1895\",\"type\":\"ColumnDataSource\"},\"glyph\":{\"id\":\"2044\",\"type\":\"Circle\"},\"hover_glyph\":null,\"muted_glyph\":null,\"nonselection_glyph\":{\"id\":\"2045\",\"type\":\"Circle\"},\"selection_glyph\":null,\"view\":{\"id\":\"2042\",\"type\":\"CDSView\"}},\"id\":\"2046\",\"type\":\"GlyphRenderer\"},{\"attributes\":{\"label\":{\"value\":\"GTS family J\"},\"renderers\":[{\"id\":\"1962\",\"type\":\"GlyphRenderer\"}]},\"id\":\"2063\",\"type\":\"LegendItem\"},{\"attributes\":{\"fill_color\":{\"field\":\"label\",\"transform\":{\"id\":\"1896\",\"type\":\"CategoricalColorMapper\"}},\"line_color\":{\"field\":\"label\",\"transform\":{\"id\":\"1896\",\"type\":\"CategoricalColorMapper\"}},\"x\":{\"field\":\"x\"},\"y\":{\"field\":\"y\"}},\"id\":\"2044\",\"type\":\"Circle\"},{\"attributes\":{\"label\":{\"value\":\"GTS family I\"},\"renderers\":[{\"id\":\"1956\",\"type\":\"GlyphRenderer\"}]},\"id\":\"2062\",\"type\":\"LegendItem\"},{\"attributes\":{\"filters\":[{\"id\":\"2041\",\"type\":\"GroupFilter\"}],\"source\":{\"id\":\"1895\",\"type\":\"ColumnDataSource\"}},\"id\":\"2042\",\"type\":\"CDSView\"},{\"attributes\":{\"label\":{\"value\":\"GTS family H\"},\"renderers\":[{\"id\":\"1950\",\"type\":\"GlyphRenderer\"}]},\"id\":\"2061\",\"type\":\"LegendItem\"},{\"attributes\":{\"column_name\":\"label\",\"group\":\"Polish synthetic controls\"},\"id\":\"2047\",\"type\":\"GroupFilter\"},{\"attributes\":{\"label\":{\"value\":\"GTS family G\"},\"renderers\":[{\"id\":\"1944\",\"type\":\"GlyphRenderer\"}]},\"id\":\"2060\",\"type\":\"LegendItem\"},{\"attributes\":{\"fill_alpha\":{\"value\":0.1},\"fill_color\":{\"value\":\"#1f77b4\"},\"line_alpha\":{\"value\":0.1},\"line_color\":{\"value\":\"#1f77b4\"},\"x\":{\"field\":\"x\"},\"y\":{\"field\":\"y\"}},\"id\":\"2045\",\"type\":\"Circle\"},{\"attributes\":{},\"id\":\"2118\",\"type\":\"UnionRenderers\"},{\"attributes\":{\"data_source\":{\"id\":\"1895\",\"type\":\"ColumnDataSource\"},\"glyph\":{\"id\":\"2050\",\"type\":\"Circle\"},\"hover_glyph\":null,\"muted_glyph\":null,\"nonselection_glyph\":{\"id\":\"2051\",\"type\":\"Circle\"},\"selection_glyph\":null,\"view\":{\"id\":\"2048\",\"type\":\"CDSView\"}},\"id\":\"2052\",\"type\":\"GlyphRenderer\"},{\"attributes\":{\"label\":{\"value\":\"GTS family F\"},\"renderers\":[{\"id\":\"1938\",\"type\":\"GlyphRenderer\"}]},\"id\":\"2059\",\"type\":\"LegendItem\"},{\"attributes\":{\"fill_color\":{\"field\":\"label\",\"transform\":{\"id\":\"1896\",\"type\":\"CategoricalColorMapper\"}},\"line_color\":{\"field\":\"label\",\"transform\":{\"id\":\"1896\",\"type\":\"CategoricalColorMapper\"}},\"x\":{\"field\":\"x\"},\"y\":{\"field\":\"y\"}},\"id\":\"2050\",\"type\":\"Circle\"},{\"attributes\":{\"label\":{\"value\":\"GTS family E\"},\"renderers\":[{\"id\":\"1932\",\"type\":\"GlyphRenderer\"}]},\"id\":\"2058\",\"type\":\"LegendItem\"},{\"attributes\":{\"filters\":[{\"id\":\"2047\",\"type\":\"GroupFilter\"}],\"source\":{\"id\":\"1895\",\"type\":\"ColumnDataSource\"}},\"id\":\"2048\",\"type\":\"CDSView\"},{\"attributes\":{\"label\":{\"value\":\"GTS family D\"},\"renderers\":[{\"id\":\"1926\",\"type\":\"GlyphRenderer\"}]},\"id\":\"2057\",\"type\":\"LegendItem\"},{\"attributes\":{\"label\":{\"value\":\"GTS family C\"},\"renderers\":[{\"id\":\"1920\",\"type\":\"GlyphRenderer\"}]},\"id\":\"2056\",\"type\":\"LegendItem\"},{\"attributes\":{\"fill_alpha\":{\"value\":0.1},\"fill_color\":{\"value\":\"#1f77b4\"},\"line_alpha\":{\"value\":0.1},\"line_color\":{\"value\":\"#1f77b4\"},\"x\":{\"field\":\"x\"},\"y\":{\"field\":\"y\"}},\"id\":\"2051\",\"type\":\"Circle\"},{\"attributes\":{\"label\":{\"value\":\"GTS family B\"},\"renderers\":[{\"id\":\"1914\",\"type\":\"GlyphRenderer\"}]},\"id\":\"2055\",\"type\":\"LegendItem\"},{\"attributes\":{\"label\":{\"value\":\"GTS\"},\"renderers\":[{\"id\":\"1902\",\"type\":\"GlyphRenderer\"}]},\"id\":\"2053\",\"type\":\"LegendItem\"},{\"attributes\":{\"label\":{\"value\":\"GTS family A\"},\"renderers\":[{\"id\":\"1908\",\"type\":\"GlyphRenderer\"}]},\"id\":\"2054\",\"type\":\"LegendItem\"},{\"attributes\":{\"column_name\":\"label\",\"group\":\"GTS family A\"},\"id\":\"1903\",\"type\":\"GroupFilter\"},{\"attributes\":{\"filters\":[{\"id\":\"1903\",\"type\":\"GroupFilter\"}],\"source\":{\"id\":\"1895\",\"type\":\"ColumnDataSource\"}},\"id\":\"1904\",\"type\":\"CDSView\"},{\"attributes\":{\"callback\":null,\"data\":{\"index\":[0,1,2,3,4,5,6,7,8,9,10,11,12,13,14,15,16,17,18,19,20,21,22,23,24,25,26,27,28,29,30,31,32,33,34,35,36,37,38,39,40,41,42,43,44,45,46,47,48,49,50,51,52,53,54,55,56,57,58,59,60,61,62,63,64,65,66,67,68,69,70,71,72,73,74,75,76,77,78,79,80,81,82,83,84,85,86,87,88,89,90,91,92,93,94,95,96,97,98,99,100,101,102,103,104,105,106,107,108,109,110,111,112,113,114,115,116,117,118,119,120,121,122,123,124,125,126,127,128,129,130,131,132,133,134,135,136,137,138,139,140,141,142,143,144,145,146,147,148,149,150,151,152,153,154,155,156,157,158,159,160,161,162,163,164,165,166,167,168,169,170,171,172,173,174,175,176,177,178,179,180,181,182,183],\"label\":[\"GTS family W\",\"GTS family W\",\"GTS family W\",\"GTS family W\",\"GTS family W\",\"GTS family W\",\"GTS family W\",\"GTS family W\",\"GTS family W\",\"GTS family W\",\"GTS family W\",\"GTS family W\",\"GTS family W\",\"GTS family W\",\"Polish elite sportsmen\",\"Polish elite sportsmen\",\"Polish elite sportsmen\",\"Polish elite sportsmen\",\"Polish elite sportsmen\",\"Polish elite sportsmen\",\"Polish elite sportsmen\",\"Polish elite sportsmen\",\"Polish elite sportsmen\",\"Polish elite sportsmen\",\"Polish elite sportsmen\",\"GTS family P\",\"GTS family D\",\"Polish elite sportsmen\",\"Polish elite sportsmen\",\"Polish elite sportsmen\",\"Polish elite sportsmen\",\"GTS family D\",\"GTS family R\",\"Polish elite sportsmen\",\"Polish elite sportsmen\",\"Polish elite sportsmen\",\"Polish elite sportsmen\",\"Polish elite sportsmen\",\"Polish elite sportsmen\",\"Polish elite sportsmen\",\"GTS family I\",\"GTS family P\",\"GTS family L\",\"Polish elite sportsmen\",\"Polish elite sportsmen\",\"GTS\",\"Polish elite sportsmen\",\"GTS family K\",\"Polish elite sportsmen\",\"Polish elite sportsmen\",\"Polish elite sportsmen\",\"Polish elite sportsmen\",\"GTS family P\",\"GTS family Y\",\"GTS family X\",\"GTS family Y\",\"GTS family U\",\"GTS\",\"GTS\",\"GTS family D\",\"Polish synthetic controls\",\"Polish synthetic controls\",\"Polish synthetic controls\",\"GTS family O\",\"Polish elite sportsmen\",\"GTS family C\",\"Polish elite sportsmen\",\"Polish elite sportsmen\",\"GTS family X\",\"GTS family X\",\"GTS family U\",\"GTS\",\"GTS family U\",\"Polish elite sportsmen\",\"Polish synthetic controls\",\"Polish synthetic controls\",\"Polish synthetic controls\",\"Polish elite sportsmen\",\"Polish synthetic controls\",\"Polish elite sportsmen\",\"Polish elite sportsmen\",\"GTS family R\",\"GTS\",\"Polish synthetic controls\",\"Polish synthetic controls\",\"Polish synthetic controls\",\"Polish synthetic controls\",\"Polish synthetic controls\",\"Polish synthetic controls\",\"Polish synthetic controls\",\"Polish synthetic controls\",\"GTS\",\"Polish elite sportsmen\",\"GTS family C\",\"GTS family T\",\"GTS family Y\",\"GTS family S\",\"GTS family Y\",\"GTS family G\",\"GTS family G\",\"GTS family S\",\"GTS\",\"Polish elite sportsmen\",\"Polish synthetic controls\",\"Polish synthetic controls\",\"Polish synthetic controls\",\"Polish synthetic controls\",\"GTS family K\",\"Polish elite sportsmen\",\"GTS family I\",\"GTS family I\",\"Polish elite sportsmen\",\"GTS family I\",\"GTS family T\",\"GTS family Y\",\"GTS family T\",\"GTS family Y\",\"GTS family S\",\"GTS family G\",\"GTS family J\",\"GTS family J\",\"GTS family B\",\"GTS family B\",\"GTS family U\",\"GTS\",\"GTS family C\",\"Polish synthetic controls\",\"Polish synthetic controls\",\"Polish synthetic controls\",\"Polish elite sportsmen\",\"GTS family C\",\"GTS family Y\",\"GTS family T\",\"GTS family Y\",\"GTS family S\",\"GTS family S\",\"GTS family N\",\"GTS\",\"GTS family X\",\"GTS family B\",\"GTS\",\"Polish elite sportsmen\",\"GTS family T\",\"GTS family T\",\"Polish elite sportsmen\",\"GTS family B\",\"GTS\",\"GTS family C\",\"GTS family J\",\"GTS family J\",\"GTS family G\",\"GTS family T\",\"GTS family E\",\"GTS family J\",\"GTS family E\",\"GTS family R\",\"GTS family A\",\"GTS\",\"GTS family E\",\"GTS family H\",\"GTS family M\",\"GTS family H\",\"GTS family H\",\"GTS family E\",\"GTS family E\",\"GTS family E\",\"GTS family H\",\"GTS family A\",\"GTS family E\",\"GTS family A\",\"GTS family A\",\"GTS family A\",\"GTS family A\",\"GTS family F\",\"GTS family F\",\"GTS family F\",\"GTS family F\",\"GTS family F\",\"GTS family F\",\"GTS family F\",\"GTS family F\",\"GTS family F\",\"GTS family F\",\"GTS family F\"],\"x\":{\"__ndarray__\":\"JmlLmdDP6b+4VjeHE37ov1M71YfC7ea/XJULzGMi5L+Wk2vuzfnjv0+fXS0mqOO/1J0UYa2Z479X9+4nOWzjv+hwpXiFeuG/hlLLidM94b/4rUTZDLfLv+uzlc69R8q/rj23YVvDyL9M8NOphdjCv87qlm0tP4q/O9eWPPRmib+ky0PCWkiAvzUALZUdWHy/g/dz90UVgb8y+J57H/x2v4jLebGJhHa/JbPgZ4pld7+HSCm1DPh5v0Qv5UkySHW//6Madhx2e7//4VeqZCR7v9W0h0PlG3K/+wG0J0WkbL+ssOnqNWZsvypHpJzsoG+/rFGkBIN3cL90dEWd6QRlv7voG5TVLGK/Vv6AgBQDXr+cPiOfHctgv2WK8tw0Sl2/GWCzWW2kYL9Do1GGEzdovzvBezw+L16/zOe9KE5HVb9HD/MSov5bv9GmblmcX2O/PGh5a10BRD8+v3Aq4lo9v90S/PChbU+/9Y11hlo+Fr8qIlbTUDNFv60IZ1r/7je/26SQ6RU7Jr8ef15gSX5Av52DmIKp4RY/5f8kS2x0T7/hGhiz0dpKv1fcUoUhaWI/9C12M0YIWj+3Ksxq+u9iP+QL9IETJmU/qGlynU8mXj8An0QdeqZdPxlS4YeU5FI//jBV8lX/Vj+8bjb6ziBKP3HJ/rDjOkw/jB7QHT/ySj8axPHZZbJLPzLivmy7J1Q/WV505+ngZT9CqwCAerdhPzovFGsQFWo/Hk5RyrOjZj+upQrahkJtP2OTOior3Gk/Xyrx/LKnZz/Dc2W6DCFoPwGA3f0Kp2Y/g8twOVV/Zj886H7gwV9mPwWQmMxoT2Y/7n0HLkcNcT+/vpHLvNVmPzR2ellTn2o/Na7cQR+iej9wLZ4KzNJ2Px8Ve3MEpHg/oUd1L9WodD+ae/ldLv5yP1hSyFtO/HI/FHVJitr3cj/mcW+8EgxzP1LFoH/NTHM/xeTqIAkydT+ZxZWY0Sx1PwrmvbPURXU/4Pz4LMhGdz/l54pus+l+P6dJIWuJJ4A/vIRofEIufz8IHAm8GE19P8ar7tU9g4A/+0JLlybOgD/9hOrv9tp7P4EeRl5rr3s/UDW0NELhez+AwO9CaFN9P0/O8YHo9Ho/1NiQHOrqej/F8W5Pidh6P5F3MGZMKXs/He+/+OT4ej+TICbgMht9Pw6W1jIbO4E/Se1YYTlefz/hZv0BwRuAP0nF/3jO/IQ/n9qtl9UZhT//eqF3EWCBP3kgeUquSYQ/C+HgzgrFgT8wFVgelBSDPxzUDvp+fII/dZH28Lrcgz+Dip4kQumDPwOwy4TGOYU/7wD+9FPxgj+CTHIJno6BP1NgG9X1X4E/FU134vlFgj/uwNuqRY2BPzrMAXmEQYM/r5UmTr41hD/RE3JZoBKCP8r3yPcUxIY/8rtNG75uhj+2J9BVRb2IP/5w1+UNyoc/90ITTHCYhz/7GCXek+2GPzcVxPxD4og/UezJmmJvhT/vb8tLfraHPzxrKApCbog/lykmkv0khj9h0WeGJmeKP45R4sO9NIk/J1NU+iT2ij82Fofsr/6KPzV54inD9Iw/QbtOfpXdiz9teyqJE2+OP66uGsOQbY8/FVxjil2vjz9aMqWhuuCQPxxySP4vsZE/wNqALhsnkT9zQJr2aKqRP9hKNQ3ulZE/y8sLnlzekD+LeHvIL4uQP7pTgVhUcZM/XzsZKonpkz9tKXSF9yKWPzdUhzG8z5Q/vKIBXNanlT//ExCu/UWYPzt6WYDZxZY/3Ejmy72WmT/V3jAE9PCYP8vT4eOz4Jo/I8CrW3KPnD/rA0U0v2WcP0D95biGdZ8/0K6f5vl2oD83vIqvNVOhP6aQva3QTaY/vwnYHXBWtz9N33qZ/tq3P9xo0+moQrs/qpFYETOvuz9nqLx94e3BP+5Ypz9WH8I/FpW9x643wj/Men0+XyDCPwwgDCfBssI/boYHwn1+wz8=\",\"dtype\":\"float64\",\"shape\":[184]},\"y\":{\"__ndarray__\":\"OHxLQibowj/Km5OqUI7BP5lLPaXm1cA/quvK/WoxvT+oyik5bZG9PwAMq4t+WL0/FHLzCWQQvD91KnQQB9K7P6hZjimIKrg/efvFDJpRtz8dpHFBtAujP2bVh/89zqE/yn9/7ECcmj89hWEsllKaP+BYzTdNviA/F5MLXOeLTb8Z4Med26d4v4SARw9TQma/RU2kfH2ocD+zhIA5Hjd7v1Q5+6SrWXG/wOXyyNFsZr+2mr5RORRXv21HWvIscE4/LBX94cQTXz80Hcc+yimYP1MyglYD8JC/06GobUKveL8tzYnWmx1kv2eH51HI41m/BmQIwj+mUj+AeSqpE4eLv9EPsa3pHom/AH8pFDUyg78TrJ1yfDh+v/PaEf/CvXe/1ZuqBrUNb78NPcIrRLZnv9Qy+EF9NVm/7WfnjGyaOD/ZzeI4DOFjPwi1iTATAaY/YrPFUNb2hb//HOFWIkyCv0qrkKLNC4G/0fqwCFJCd7/7hHsR+3Vzv+FlrdqI/2q/IEvtc93jVb9ALIYHNYZMP/93pmUufWI/HB5Nl5HZbD/vY8oBQSOgP5mr3WMn3qC/CT4OUC2Vk78tOgD4IASQv+QXlatixIy/x6e38D8Qi79GC0z0CwiFv7hx8nkq8IK/2o98DexXf7+lmNnz7gV7v0yt69V7G3S/JxW2bN8xZr8qqoLLJt5bvzbKcRC6T14/z8p6t9VRaT8Ac7mpaWF4P/Xi5M4yiJO/BJXaSrLwkb/RLBNr3hqMv4FKnDeccoi/mnCQOgv2h7+NOgskJPmBv1+SA/L4mIC/v1I1LucTer/ZpgqpEDB1v1DRgpoxJ22/pRQCvUHkNr/3QRuYgwtSP9SC/ggY2XM/iGDrQOS6kL+l5h+UV5KLvwQ60E+qJ4i/kW/hsHQkhb/Rioh3XWqBv/6xt3BPwny/41TaRFQSe79YRonoxqR0v0nsMLAD/mu/SEq0eGFBU7/EeSGhjzMEPzDDq07k11U/OOhyzEx9aj8oDM+NSk6kv8sAmFYlbqO/U5pE7CXDoL/DUsbu7QOgv2VbmyeX+Ze/+ioxdLU2l7+Asv6MSKaRvx0m6G5a14y/cQiooH3ChL9M1EJN8xGCv/nCadME7H+/mN1zMbhZer+y29CGqF90vxj4X+U0C2W/CXASJpNPOb9FnCxzGEJmPyGpzXrGrms/XKP0ML7bdD9vlH+mxB+BP1xC1JL3lKe/MAzIBnTDpb/+T36p0Aulv4RIYjmDEKG/8a8kr1tMn79oQSvDxkKZv73nfCm0q5S/kzrCIDW1kb+PIzZwRxCPvxhUat2YGY6/JiuYb1hAh7/SizCo3veCv2r7f0bIqXy/Y6Kc6/Pze79ySwSa5CBzv2IqIvNzk2S/gMN0Rx/aUL89ncO9F+lxP7CY5hsVqKK/TxEWP5gGob+wwwYO1hmfvzhztfgg8p2/dtmGIDzyk79a8Vo5MrOLv7jidL9jPIi/Froj9dSag79/Q262WZN3vzPe1l4edHC/ODiHYaKzar/vosE8KZWnv2KoMf7gZqa/nos0IymqkL9otIL8en2Mv7Gc5eSxIX6/wA+TTdxYbb/5SWQzl+SZv3eUCcl1IZO/ezWgLT/Vkb8S2ixH4OSlv9TxHS7gXZu/4FkcktXjl79I8noIpZeUvyXitjmVEI+/mL93LwNrhb+UcqYhX3xbv3Qd61XmiIy/yq98z3yOeL8+RFA52bKQv9cGa7aE+IW/QHU8XKZUUr/wh81x1Amcv6j2TDtRu5e/+Kv0YxzKkb/z8L0VVaxvvxyUUFZYd3C/k6wOP6TRmL+lZe9YBbFzv0brvi2dRW+/l2ArCwK9eL9aRkuRKeJyv4rNW1hK8cY/f3rChc6O3T+dWdph8VXePyzWHk70b+A/cbwEwWTn4D9jzbYLbJPmP4qaqlgtg+Y/xRNMv/zb5z8Rbh75xUroP6cvB3zKKug/NRY38Cer6D8=\",\"dtype\":\"float64\",\"shape\":[184]}},\"selected\":{\"id\":\"2119\",\"type\":\"Selection\"},\"selection_policy\":{\"id\":\"2118\",\"type\":\"UnionRenderers\"}},\"id\":\"1895\",\"type\":\"ColumnDataSource\"},{\"attributes\":{\"data_source\":{\"id\":\"1895\",\"type\":\"ColumnDataSource\"},\"glyph\":{\"id\":\"1906\",\"type\":\"Circle\"},\"hover_glyph\":null,\"muted_glyph\":null,\"nonselection_glyph\":{\"id\":\"1907\",\"type\":\"Circle\"},\"selection_glyph\":null,\"view\":{\"id\":\"1904\",\"type\":\"CDSView\"}},\"id\":\"1908\",\"type\":\"GlyphRenderer\"},{\"attributes\":{},\"id\":\"1876\",\"type\":\"BasicTicker\"},{\"attributes\":{\"column_name\":\"label\",\"group\":\"GTS family C\"},\"id\":\"1915\",\"type\":\"GroupFilter\"},{\"attributes\":{\"fill_color\":{\"field\":\"label\",\"transform\":{\"id\":\"1896\",\"type\":\"CategoricalColorMapper\"}},\"line_color\":{\"field\":\"label\",\"transform\":{\"id\":\"1896\",\"type\":\"CategoricalColorMapper\"}},\"x\":{\"field\":\"x\"},\"y\":{\"field\":\"y\"}},\"id\":\"1918\",\"type\":\"Circle\"},{\"attributes\":{},\"id\":\"1883\",\"type\":\"SaveTool\"},{\"attributes\":{\"column_name\":\"label\",\"group\":\"GTS family B\"},\"id\":\"1909\",\"type\":\"GroupFilter\"},{\"attributes\":{\"fill_alpha\":{\"value\":0.1},\"fill_color\":{\"value\":\"#1f77b4\"},\"line_alpha\":{\"value\":0.1},\"line_color\":{\"value\":\"#1f77b4\"},\"x\":{\"field\":\"x\"},\"y\":{\"field\":\"y\"}},\"id\":\"1907\",\"type\":\"Circle\"},{\"attributes\":{\"filters\":[{\"id\":\"1909\",\"type\":\"GroupFilter\"}],\"source\":{\"id\":\"1895\",\"type\":\"ColumnDataSource\"}},\"id\":\"1910\",\"type\":\"CDSView\"},{\"attributes\":{\"data_source\":{\"id\":\"1895\",\"type\":\"ColumnDataSource\"},\"glyph\":{\"id\":\"1918\",\"type\":\"Circle\"},\"hover_glyph\":null,\"muted_glyph\":null,\"nonselection_glyph\":{\"id\":\"1919\",\"type\":\"Circle\"},\"selection_glyph\":null,\"view\":{\"id\":\"1916\",\"type\":\"CDSView\"}},\"id\":\"1920\",\"type\":\"GlyphRenderer\"},{\"attributes\":{\"fill_alpha\":{\"value\":0.1},\"fill_color\":{\"value\":\"#1f77b4\"},\"line_alpha\":{\"value\":0.1},\"line_color\":{\"value\":\"#1f77b4\"},\"x\":{\"field\":\"x\"},\"y\":{\"field\":\"y\"}},\"id\":\"1913\",\"type\":\"Circle\"},{\"attributes\":{\"callback\":null,\"tooltips\":[[\"x\",\"@x\"],[\"y\",\"@y\"],[\"label\",\"@label\"]]},\"id\":\"1894\",\"type\":\"HoverTool\"},{\"attributes\":{\"data_source\":{\"id\":\"1895\",\"type\":\"ColumnDataSource\"},\"glyph\":{\"id\":\"1912\",\"type\":\"Circle\"},\"hover_glyph\":null,\"muted_glyph\":null,\"nonselection_glyph\":{\"id\":\"1913\",\"type\":\"Circle\"},\"selection_glyph\":null,\"view\":{\"id\":\"1910\",\"type\":\"CDSView\"}},\"id\":\"1914\",\"type\":\"GlyphRenderer\"},{\"attributes\":{\"column_name\":\"label\",\"group\":\"GTS family E\"},\"id\":\"1927\",\"type\":\"GroupFilter\"},{\"attributes\":{\"fill_alpha\":{\"value\":0.1},\"fill_color\":{\"value\":\"#1f77b4\"},\"line_alpha\":{\"value\":0.1},\"line_color\":{\"value\":\"#1f77b4\"},\"x\":{\"field\":\"x\"},\"y\":{\"field\":\"y\"}},\"id\":\"1925\",\"type\":\"Circle\"},{\"attributes\":{\"data_source\":{\"id\":\"1895\",\"type\":\"ColumnDataSource\"},\"glyph\":{\"id\":\"1930\",\"type\":\"Circle\"},\"hover_glyph\":null,\"muted_glyph\":null,\"nonselection_glyph\":{\"id\":\"1931\",\"type\":\"Circle\"},\"selection_glyph\":null,\"view\":{\"id\":\"1928\",\"type\":\"CDSView\"}},\"id\":\"1932\",\"type\":\"GlyphRenderer\"},{\"attributes\":{\"fill_color\":{\"field\":\"label\",\"transform\":{\"id\":\"1896\",\"type\":\"CategoricalColorMapper\"}},\"line_color\":{\"field\":\"label\",\"transform\":{\"id\":\"1896\",\"type\":\"CategoricalColorMapper\"}},\"x\":{\"field\":\"x\"},\"y\":{\"field\":\"y\"}},\"id\":\"1930\",\"type\":\"Circle\"},{\"attributes\":{\"filters\":[{\"id\":\"1927\",\"type\":\"GroupFilter\"}],\"source\":{\"id\":\"1895\",\"type\":\"ColumnDataSource\"}},\"id\":\"1928\",\"type\":\"CDSView\"},{\"attributes\":{\"column_name\":\"label\",\"group\":\"GTS family T\"},\"id\":\"2011\",\"type\":\"GroupFilter\"},{\"attributes\":{\"fill_alpha\":{\"value\":0.1},\"fill_color\":{\"value\":\"#1f77b4\"},\"line_alpha\":{\"value\":0.1},\"line_color\":{\"value\":\"#1f77b4\"},\"x\":{\"field\":\"x\"},\"y\":{\"field\":\"y\"}},\"id\":\"2009\",\"type\":\"Circle\"},{\"attributes\":{\"fill_alpha\":{\"value\":0.1},\"fill_color\":{\"value\":\"#1f77b4\"},\"line_alpha\":{\"value\":0.1},\"line_color\":{\"value\":\"#1f77b4\"},\"x\":{\"field\":\"x\"},\"y\":{\"field\":\"y\"}},\"id\":\"1931\",\"type\":\"Circle\"},{\"attributes\":{\"fill_color\":{\"field\":\"label\",\"transform\":{\"id\":\"1896\",\"type\":\"CategoricalColorMapper\"}},\"line_color\":{\"field\":\"label\",\"transform\":{\"id\":\"1896\",\"type\":\"CategoricalColorMapper\"}},\"x\":{\"field\":\"x\"},\"y\":{\"field\":\"y\"}},\"id\":\"1936\",\"type\":\"Circle\"},{\"attributes\":{\"column_name\":\"label\",\"group\":\"GTS family F\"},\"id\":\"1933\",\"type\":\"GroupFilter\"},{\"attributes\":{\"filters\":[{\"id\":\"1933\",\"type\":\"GroupFilter\"}],\"source\":{\"id\":\"1895\",\"type\":\"ColumnDataSource\"}},\"id\":\"1934\",\"type\":\"CDSView\"},{\"attributes\":{\"data_source\":{\"id\":\"1895\",\"type\":\"ColumnDataSource\"},\"glyph\":{\"id\":\"1936\",\"type\":\"Circle\"},\"hover_glyph\":null,\"muted_glyph\":null,\"nonselection_glyph\":{\"id\":\"1937\",\"type\":\"Circle\"},\"selection_glyph\":null,\"view\":{\"id\":\"1934\",\"type\":\"CDSView\"}},\"id\":\"1938\",\"type\":\"GlyphRenderer\"},{\"attributes\":{\"fill_alpha\":{\"value\":0.1},\"fill_color\":{\"value\":\"#1f77b4\"},\"line_alpha\":{\"value\":0.1},\"line_color\":{\"value\":\"#1f77b4\"},\"x\":{\"field\":\"x\"},\"y\":{\"field\":\"y\"}},\"id\":\"1937\",\"type\":\"Circle\"},{\"attributes\":{\"fill_color\":{\"field\":\"label\",\"transform\":{\"id\":\"1896\",\"type\":\"CategoricalColorMapper\"}},\"line_color\":{\"field\":\"label\",\"transform\":{\"id\":\"1896\",\"type\":\"CategoricalColorMapper\"}},\"x\":{\"field\":\"x\"},\"y\":{\"field\":\"y\"}},\"id\":\"1942\",\"type\":\"Circle\"},{\"attributes\":{\"column_name\":\"label\",\"group\":\"GTS family G\"},\"id\":\"1939\",\"type\":\"GroupFilter\"},{\"attributes\":{\"filters\":[{\"id\":\"1939\",\"type\":\"GroupFilter\"}],\"source\":{\"id\":\"1895\",\"type\":\"ColumnDataSource\"}},\"id\":\"1940\",\"type\":\"CDSView\"},{\"attributes\":{\"data_source\":{\"id\":\"1895\",\"type\":\"ColumnDataSource\"},\"glyph\":{\"id\":\"1942\",\"type\":\"Circle\"},\"hover_glyph\":null,\"muted_glyph\":null,\"nonselection_glyph\":{\"id\":\"1943\",\"type\":\"Circle\"},\"selection_glyph\":null,\"view\":{\"id\":\"1940\",\"type\":\"CDSView\"}},\"id\":\"1944\",\"type\":\"GlyphRenderer\"},{\"attributes\":{\"filters\":[{\"id\":\"2005\",\"type\":\"GroupFilter\"}],\"source\":{\"id\":\"1895\",\"type\":\"ColumnDataSource\"}},\"id\":\"2006\",\"type\":\"CDSView\"},{\"attributes\":{\"column_name\":\"label\",\"group\":\"GTS family H\"},\"id\":\"1945\",\"type\":\"GroupFilter\"},{\"attributes\":{\"fill_alpha\":{\"value\":0.1},\"fill_color\":{\"value\":\"#1f77b4\"},\"line_alpha\":{\"value\":0.1},\"line_color\":{\"value\":\"#1f77b4\"},\"x\":{\"field\":\"x\"},\"y\":{\"field\":\"y\"}},\"id\":\"1943\",\"type\":\"Circle\"},{\"attributes\":{\"data_source\":{\"id\":\"1895\",\"type\":\"ColumnDataSource\"},\"glyph\":{\"id\":\"1948\",\"type\":\"Circle\"},\"hover_glyph\":null,\"muted_glyph\":null,\"nonselection_glyph\":{\"id\":\"1949\",\"type\":\"Circle\"},\"selection_glyph\":null,\"view\":{\"id\":\"1946\",\"type\":\"CDSView\"}},\"id\":\"1950\",\"type\":\"GlyphRenderer\"},{\"attributes\":{\"fill_color\":{\"field\":\"label\",\"transform\":{\"id\":\"1896\",\"type\":\"CategoricalColorMapper\"}},\"line_color\":{\"field\":\"label\",\"transform\":{\"id\":\"1896\",\"type\":\"CategoricalColorMapper\"}},\"x\":{\"field\":\"x\"},\"y\":{\"field\":\"y\"}},\"id\":\"1948\",\"type\":\"Circle\"},{\"attributes\":{\"click_policy\":\"hide\",\"items\":[{\"id\":\"2053\",\"type\":\"LegendItem\"},{\"id\":\"2054\",\"type\":\"LegendItem\"},{\"id\":\"2055\",\"type\":\"LegendItem\"},{\"id\":\"2056\",\"type\":\"LegendItem\"},{\"id\":\"2057\",\"type\":\"LegendItem\"},{\"id\":\"2058\",\"type\":\"LegendItem\"},{\"id\":\"2059\",\"type\":\"LegendItem\"},{\"id\":\"2060\",\"type\":\"LegendItem\"},{\"id\":\"2061\",\"type\":\"LegendItem\"},{\"id\":\"2062\",\"type\":\"LegendItem\"},{\"id\":\"2063\",\"type\":\"LegendItem\"},{\"id\":\"2064\",\"type\":\"LegendItem\"},{\"id\":\"2065\",\"type\":\"LegendItem\"},{\"id\":\"2066\",\"type\":\"LegendItem\"},{\"id\":\"2067\",\"type\":\"LegendItem\"},{\"id\":\"2068\",\"type\":\"LegendItem\"},{\"id\":\"2069\",\"type\":\"LegendItem\"},{\"id\":\"2070\",\"type\":\"LegendItem\"},{\"id\":\"2071\",\"type\":\"LegendItem\"},{\"id\":\"2072\",\"type\":\"LegendItem\"},{\"id\":\"2073\",\"type\":\"LegendItem\"},{\"id\":\"2074\",\"type\":\"LegendItem\"},{\"id\":\"2075\",\"type\":\"LegendItem\"},{\"id\":\"2076\",\"type\":\"LegendItem\"},{\"id\":\"2077\",\"type\":\"LegendItem\"},{\"id\":\"2078\",\"type\":\"LegendItem\"}]},\"id\":\"2079\",\"type\":\"Legend\"},{\"attributes\":{\"label\":{\"value\":\"Polish elite sportsmen\"},\"renderers\":[{\"id\":\"2046\",\"type\":\"GlyphRenderer\"}]},\"id\":\"2077\",\"type\":\"LegendItem\"},{\"attributes\":{\"filters\":[{\"id\":\"1945\",\"type\":\"GroupFilter\"}],\"source\":{\"id\":\"1895\",\"type\":\"ColumnDataSource\"}},\"id\":\"1946\",\"type\":\"CDSView\"},{\"attributes\":{\"color_mapper\":null,\"formatter\":{\"id\":\"2116\",\"type\":\"BasicTickFormatter\"},\"ticker\":{\"id\":\"2117\",\"type\":\"BasicTicker\"},\"visible\":false},\"id\":\"2080\",\"type\":\"ColorBar\"},{\"attributes\":{\"data_source\":{\"id\":\"1895\",\"type\":\"ColumnDataSource\"},\"glyph\":{\"id\":\"2008\",\"type\":\"Circle\"},\"hover_glyph\":null,\"muted_glyph\":null,\"nonselection_glyph\":{\"id\":\"2009\",\"type\":\"Circle\"},\"selection_glyph\":null,\"view\":{\"id\":\"2006\",\"type\":\"CDSView\"}},\"id\":\"2010\",\"type\":\"GlyphRenderer\"},{\"attributes\":{\"fill_color\":{\"field\":\"label\",\"transform\":{\"id\":\"1896\",\"type\":\"CategoricalColorMapper\"}},\"line_color\":{\"field\":\"label\",\"transform\":{\"id\":\"1896\",\"type\":\"CategoricalColorMapper\"}},\"x\":{\"field\":\"x\"},\"y\":{\"field\":\"y\"}},\"id\":\"2008\",\"type\":\"Circle\"},{\"attributes\":{\"column_name\":\"label\",\"group\":\"GTS family I\"},\"id\":\"1951\",\"type\":\"GroupFilter\"},{\"attributes\":{\"fill_alpha\":{\"value\":0.1},\"fill_color\":{\"value\":\"#1f77b4\"},\"line_alpha\":{\"value\":0.1},\"line_color\":{\"value\":\"#1f77b4\"},\"x\":{\"field\":\"x\"},\"y\":{\"field\":\"y\"}},\"id\":\"1949\",\"type\":\"Circle\"},{\"attributes\":{\"data_source\":{\"id\":\"1895\",\"type\":\"ColumnDataSource\"},\"glyph\":{\"id\":\"1954\",\"type\":\"Circle\"},\"hover_glyph\":null,\"muted_glyph\":null,\"nonselection_glyph\":{\"id\":\"1955\",\"type\":\"Circle\"},\"selection_glyph\":null,\"view\":{\"id\":\"1952\",\"type\":\"CDSView\"}},\"id\":\"1956\",\"type\":\"GlyphRenderer\"},{\"attributes\":{\"label\":{\"value\":\"Polish synthetic controls\"},\"renderers\":[{\"id\":\"2052\",\"type\":\"GlyphRenderer\"}]},\"id\":\"2078\",\"type\":\"LegendItem\"},{\"attributes\":{\"fill_color\":{\"field\":\"label\",\"transform\":{\"id\":\"1896\",\"type\":\"CategoricalColorMapper\"}},\"line_color\":{\"field\":\"label\",\"transform\":{\"id\":\"1896\",\"type\":\"CategoricalColorMapper\"}},\"x\":{\"field\":\"x\"},\"y\":{\"field\":\"y\"}},\"id\":\"1954\",\"type\":\"Circle\"},{\"attributes\":{\"filters\":[{\"id\":\"1951\",\"type\":\"GroupFilter\"}],\"source\":{\"id\":\"1895\",\"type\":\"ColumnDataSource\"}},\"id\":\"1952\",\"type\":\"CDSView\"},{\"attributes\":{\"column_name\":\"label\",\"group\":\"GTS family S\"},\"id\":\"2005\",\"type\":\"GroupFilter\"},{\"attributes\":{\"fill_alpha\":{\"value\":0.1},\"fill_color\":{\"value\":\"#1f77b4\"},\"line_alpha\":{\"value\":0.1},\"line_color\":{\"value\":\"#1f77b4\"},\"x\":{\"field\":\"x\"},\"y\":{\"field\":\"y\"}},\"id\":\"2003\",\"type\":\"Circle\"},{\"attributes\":{\"column_name\":\"label\",\"group\":\"GTS family J\"},\"id\":\"1957\",\"type\":\"GroupFilter\"}],\"root_ids\":[\"1859\"]},\"title\":\"Bokeh Application\",\"version\":\"1.4.0\"}};\n",
       "  var render_items = [{\"docid\":\"f2934bb8-63f1-47a4-a728-9731a5783ffb\",\"roots\":{\"1859\":\"aea14142-cd02-48b5-a001-8200d140366c\"}}];\n",
       "  root.Bokeh.embed.embed_items_notebook(docs_json, render_items);\n",
       "\n",
       "  }\n",
       "  if (root.Bokeh !== undefined) {\n",
       "    embed_document(root);\n",
       "  } else {\n",
       "    var attempts = 0;\n",
       "    var timer = setInterval(function(root) {\n",
       "      if (root.Bokeh !== undefined) {\n",
       "        clearInterval(timer);\n",
       "        embed_document(root);\n",
       "      } else {\n",
       "        attempts++;\n",
       "        if (attempts > 100) {\n",
       "          clearInterval(timer);\n",
       "          console.log(\"Bokeh: ERROR: Unable to run BokehJS code because BokehJS library is missing\");\n",
       "        }\n",
       "      }\n",
       "    }, 10, root)\n",
       "  }\n",
       "})(window);"
      ],
      "application/vnd.bokehjs_exec.v0+json": ""
     },
     "metadata": {
      "application/vnd.bokehjs_exec.v0+json": {
       "id": "1859"
      }
     },
     "output_type": "display_data"
    }
   ],
   "source": [
    "p = hl.plot.scatter(mt['scores_no_filter'][0],\n",
    "                    mt['scores_no_filter'][1],\n",
    "                    label=mt.label,\n",
    "                    title='PCA', xlabel='PC1', ylabel='PC2')\n",
    "show(p)"
   ]
  }
 ],
 "metadata": {
  "kernelspec": {
   "display_name": "Python 3 (ipykernel)",
   "language": "python",
   "name": "python3"
  },
  "language_info": {
   "codemirror_mode": {
    "name": "ipython",
    "version": 3
   },
   "file_extension": ".py",
   "mimetype": "text/x-python",
   "name": "python",
   "nbconvert_exporter": "python",
   "pygments_lexer": "ipython3",
   "version": "3.10.4"
  }
 },
 "nbformat": 4,
 "nbformat_minor": 5
}
