{
 "cells": [
  {
   "cell_type": "code",
   "execution_count": 2,
   "id": "8830a0a3-d54a-4da3-8b32-a33ae3bbdb8c",
   "metadata": {},
   "outputs": [],
   "source": [
    "import os\n",
    "localfs_path = os.environ.get('SCRATCH_LOCAL') + '/'"
   ]
  },
  {
   "cell_type": "code",
   "execution_count": 5,
   "id": "7c4762a4-78b7-4788-aac0-b3510bd10a22",
   "metadata": {
    "tags": []
   },
   "outputs": [
    {
     "name": "stderr",
     "output_type": "stream",
     "text": [
      "Picked up _JAVA_OPTIONS: -Djava.io.tmpdir=/localfs/4204273/\n",
      "Picked up _JAVA_OPTIONS: -Djava.io.tmpdir=/localfs/4204273/\n"
     ]
    },
    {
     "name": "stdout",
     "output_type": "stream",
     "text": [
      "23/07/30 09:20:31 WARN NativeCodeLoader: Unable to load native-hadoop library for your platform... using builtin-java classes where applicable\n"
     ]
    },
    {
     "name": "stderr",
     "output_type": "stream",
     "text": [
      "Setting default log level to \"WARN\".\n",
      "To adjust logging level use sc.setLogLevel(newLevel). For SparkR, use setLogLevel(newLevel).\n",
      "Running on Apache Spark version 3.3.2\n",
      "SparkUI available at http://ac0659:4040\n",
      "Welcome to\n",
      "     __  __     <>__\n",
      "    / /_/ /__  __/ /\n",
      "   / __  / _ `/ / /\n",
      "  /_/ /_/\\_,_/_/_/   version 0.2.113-cf32652c5077\n",
      "LOGGING: writing to /net/pr2/projects/plgrid/plggneuromol/imdik-zekanowski-gts/preprocessing/oligogenic-model/hail-20230730-0920-0.2.113-cf32652c5077.log\n"
     ]
    }
   ],
   "source": [
    "os.environ['_JAVA_OPTIONS'] = f'-Djava.io.tmpdir={localfs_path}'\n",
    "\n",
    "import hail as hl\n",
    "\n",
    "hl.init(\n",
    "    tmp_dir=(localfs_path+'tmp_hail'),\n",
    "    spark_conf={'spark.driver.memory': '30G', 'spark.executor.memory': '10G'}, # I don't know what should be here\n",
    "    default_reference='GRCh38'\n",
    ") "
   ]
  },
  {
   "cell_type": "code",
   "execution_count": 40,
   "id": "cf582ceb-8db7-456a-933f-137b8ccc157e",
   "metadata": {
    "tags": []
   },
   "outputs": [
    {
     "data": {
      "text/html": [
       "\n",
       "    <div class=\"bk-root\">\n",
       "        <a href=\"https://bokeh.org\" target=\"_blank\" class=\"bk-logo bk-logo-small bk-logo-notebook\"></a>\n",
       "        <span id=\"3599\">Loading BokehJS ...</span>\n",
       "    </div>"
      ]
     },
     "metadata": {},
     "output_type": "display_data"
    },
    {
     "data": {
      "application/javascript": [
       "\n",
       "(function(root) {\n",
       "  function now() {\n",
       "    return new Date();\n",
       "  }\n",
       "\n",
       "  var force = true;\n",
       "\n",
       "  if (typeof root._bokeh_onload_callbacks === \"undefined\" || force === true) {\n",
       "    root._bokeh_onload_callbacks = [];\n",
       "    root._bokeh_is_loading = undefined;\n",
       "  }\n",
       "\n",
       "  var JS_MIME_TYPE = 'application/javascript';\n",
       "  var HTML_MIME_TYPE = 'text/html';\n",
       "  var EXEC_MIME_TYPE = 'application/vnd.bokehjs_exec.v0+json';\n",
       "  var CLASS_NAME = 'output_bokeh rendered_html';\n",
       "\n",
       "  /**\n",
       "   * Render data to the DOM node\n",
       "   */\n",
       "  function render(props, node) {\n",
       "    var script = document.createElement(\"script\");\n",
       "    node.appendChild(script);\n",
       "  }\n",
       "\n",
       "  /**\n",
       "   * Handle when an output is cleared or removed\n",
       "   */\n",
       "  function handleClearOutput(event, handle) {\n",
       "    var cell = handle.cell;\n",
       "\n",
       "    var id = cell.output_area._bokeh_element_id;\n",
       "    var server_id = cell.output_area._bokeh_server_id;\n",
       "    // Clean up Bokeh references\n",
       "    if (id != null && id in Bokeh.index) {\n",
       "      Bokeh.index[id].model.document.clear();\n",
       "      delete Bokeh.index[id];\n",
       "    }\n",
       "\n",
       "    if (server_id !== undefined) {\n",
       "      // Clean up Bokeh references\n",
       "      var cmd = \"from bokeh.io.state import curstate; print(curstate().uuid_to_server['\" + server_id + \"'].get_sessions()[0].document.roots[0]._id)\";\n",
       "      cell.notebook.kernel.execute(cmd, {\n",
       "        iopub: {\n",
       "          output: function(msg) {\n",
       "            var id = msg.content.text.trim();\n",
       "            if (id in Bokeh.index) {\n",
       "              Bokeh.index[id].model.document.clear();\n",
       "              delete Bokeh.index[id];\n",
       "            }\n",
       "          }\n",
       "        }\n",
       "      });\n",
       "      // Destroy server and session\n",
       "      var cmd = \"import bokeh.io.notebook as ion; ion.destroy_server('\" + server_id + \"')\";\n",
       "      cell.notebook.kernel.execute(cmd);\n",
       "    }\n",
       "  }\n",
       "\n",
       "  /**\n",
       "   * Handle when a new output is added\n",
       "   */\n",
       "  function handleAddOutput(event, handle) {\n",
       "    var output_area = handle.output_area;\n",
       "    var output = handle.output;\n",
       "\n",
       "    // limit handleAddOutput to display_data with EXEC_MIME_TYPE content only\n",
       "    if ((output.output_type != \"display_data\") || (!output.data.hasOwnProperty(EXEC_MIME_TYPE))) {\n",
       "      return\n",
       "    }\n",
       "\n",
       "    var toinsert = output_area.element.find(\".\" + CLASS_NAME.split(' ')[0]);\n",
       "\n",
       "    if (output.metadata[EXEC_MIME_TYPE][\"id\"] !== undefined) {\n",
       "      toinsert[toinsert.length - 1].firstChild.textContent = output.data[JS_MIME_TYPE];\n",
       "      // store reference to embed id on output_area\n",
       "      output_area._bokeh_element_id = output.metadata[EXEC_MIME_TYPE][\"id\"];\n",
       "    }\n",
       "    if (output.metadata[EXEC_MIME_TYPE][\"server_id\"] !== undefined) {\n",
       "      var bk_div = document.createElement(\"div\");\n",
       "      bk_div.innerHTML = output.data[HTML_MIME_TYPE];\n",
       "      var script_attrs = bk_div.children[0].attributes;\n",
       "      for (var i = 0; i < script_attrs.length; i++) {\n",
       "        toinsert[toinsert.length - 1].firstChild.setAttribute(script_attrs[i].name, script_attrs[i].value);\n",
       "      }\n",
       "      // store reference to server id on output_area\n",
       "      output_area._bokeh_server_id = output.metadata[EXEC_MIME_TYPE][\"server_id\"];\n",
       "    }\n",
       "  }\n",
       "\n",
       "  function register_renderer(events, OutputArea) {\n",
       "\n",
       "    function append_mime(data, metadata, element) {\n",
       "      // create a DOM node to render to\n",
       "      var toinsert = this.create_output_subarea(\n",
       "        metadata,\n",
       "        CLASS_NAME,\n",
       "        EXEC_MIME_TYPE\n",
       "      );\n",
       "      this.keyboard_manager.register_events(toinsert);\n",
       "      // Render to node\n",
       "      var props = {data: data, metadata: metadata[EXEC_MIME_TYPE]};\n",
       "      render(props, toinsert[toinsert.length - 1]);\n",
       "      element.append(toinsert);\n",
       "      return toinsert\n",
       "    }\n",
       "\n",
       "    /* Handle when an output is cleared or removed */\n",
       "    events.on('clear_output.CodeCell', handleClearOutput);\n",
       "    events.on('delete.Cell', handleClearOutput);\n",
       "\n",
       "    /* Handle when a new output is added */\n",
       "    events.on('output_added.OutputArea', handleAddOutput);\n",
       "\n",
       "    /**\n",
       "     * Register the mime type and append_mime function with output_area\n",
       "     */\n",
       "    OutputArea.prototype.register_mime_type(EXEC_MIME_TYPE, append_mime, {\n",
       "      /* Is output safe? */\n",
       "      safe: true,\n",
       "      /* Index of renderer in `output_area.display_order` */\n",
       "      index: 0\n",
       "    });\n",
       "  }\n",
       "\n",
       "  // register the mime type if in Jupyter Notebook environment and previously unregistered\n",
       "  if (root.Jupyter !== undefined) {\n",
       "    var events = require('base/js/events');\n",
       "    var OutputArea = require('notebook/js/outputarea').OutputArea;\n",
       "\n",
       "    if (OutputArea.prototype.mime_types().indexOf(EXEC_MIME_TYPE) == -1) {\n",
       "      register_renderer(events, OutputArea);\n",
       "    }\n",
       "  }\n",
       "\n",
       "  \n",
       "  if (typeof (root._bokeh_timeout) === \"undefined\" || force === true) {\n",
       "    root._bokeh_timeout = Date.now() + 5000;\n",
       "    root._bokeh_failed_load = false;\n",
       "  }\n",
       "\n",
       "  var NB_LOAD_WARNING = {'data': {'text/html':\n",
       "     \"<div style='background-color: #fdd'>\\n\"+\n",
       "     \"<p>\\n\"+\n",
       "     \"BokehJS does not appear to have successfully loaded. If loading BokehJS from CDN, this \\n\"+\n",
       "     \"may be due to a slow or bad network connection. Possible fixes:\\n\"+\n",
       "     \"</p>\\n\"+\n",
       "     \"<ul>\\n\"+\n",
       "     \"<li>re-rerun `output_notebook()` to attempt to load from CDN again, or</li>\\n\"+\n",
       "     \"<li>use INLINE resources instead, as so:</li>\\n\"+\n",
       "     \"</ul>\\n\"+\n",
       "     \"<code>\\n\"+\n",
       "     \"from bokeh.resources import INLINE\\n\"+\n",
       "     \"output_notebook(resources=INLINE)\\n\"+\n",
       "     \"</code>\\n\"+\n",
       "     \"</div>\"}};\n",
       "\n",
       "  function display_loaded() {\n",
       "    var el = document.getElementById(\"3599\");\n",
       "    if (el != null) {\n",
       "      el.textContent = \"BokehJS is loading...\";\n",
       "    }\n",
       "    if (root.Bokeh !== undefined) {\n",
       "      if (el != null) {\n",
       "        el.textContent = \"BokehJS \" + root.Bokeh.version + \" successfully loaded.\";\n",
       "      }\n",
       "    } else if (Date.now() < root._bokeh_timeout) {\n",
       "      setTimeout(display_loaded, 100)\n",
       "    }\n",
       "  }\n",
       "\n",
       "\n",
       "  function run_callbacks() {\n",
       "    try {\n",
       "      root._bokeh_onload_callbacks.forEach(function(callback) {\n",
       "        if (callback != null)\n",
       "          callback();\n",
       "      });\n",
       "    } finally {\n",
       "      delete root._bokeh_onload_callbacks\n",
       "    }\n",
       "    console.debug(\"Bokeh: all callbacks have finished\");\n",
       "  }\n",
       "\n",
       "  function load_libs(css_urls, js_urls, callback) {\n",
       "    if (css_urls == null) css_urls = [];\n",
       "    if (js_urls == null) js_urls = [];\n",
       "\n",
       "    root._bokeh_onload_callbacks.push(callback);\n",
       "    if (root._bokeh_is_loading > 0) {\n",
       "      console.debug(\"Bokeh: BokehJS is being loaded, scheduling callback at\", now());\n",
       "      return null;\n",
       "    }\n",
       "    if (js_urls == null || js_urls.length === 0) {\n",
       "      run_callbacks();\n",
       "      return null;\n",
       "    }\n",
       "    console.debug(\"Bokeh: BokehJS not loaded, scheduling load and callback at\", now());\n",
       "    root._bokeh_is_loading = css_urls.length + js_urls.length;\n",
       "\n",
       "    function on_load() {\n",
       "      root._bokeh_is_loading--;\n",
       "      if (root._bokeh_is_loading === 0) {\n",
       "        console.debug(\"Bokeh: all BokehJS libraries/stylesheets loaded\");\n",
       "        run_callbacks()\n",
       "      }\n",
       "    }\n",
       "\n",
       "    function on_error() {\n",
       "      console.error(\"failed to load \" + url);\n",
       "    }\n",
       "\n",
       "    for (var i = 0; i < css_urls.length; i++) {\n",
       "      var url = css_urls[i];\n",
       "      const element = document.createElement(\"link\");\n",
       "      element.onload = on_load;\n",
       "      element.onerror = on_error;\n",
       "      element.rel = \"stylesheet\";\n",
       "      element.type = \"text/css\";\n",
       "      element.href = url;\n",
       "      console.debug(\"Bokeh: injecting link tag for BokehJS stylesheet: \", url);\n",
       "      document.body.appendChild(element);\n",
       "    }\n",
       "\n",
       "    for (var i = 0; i < js_urls.length; i++) {\n",
       "      var url = js_urls[i];\n",
       "      var element = document.createElement('script');\n",
       "      element.onload = on_load;\n",
       "      element.onerror = on_error;\n",
       "      element.async = false;\n",
       "      element.src = url;\n",
       "      console.debug(\"Bokeh: injecting script tag for BokehJS library: \", url);\n",
       "      document.head.appendChild(element);\n",
       "    }\n",
       "  };var element = document.getElementById(\"3599\");\n",
       "  if (element == null) {\n",
       "    console.error(\"Bokeh: ERROR: autoload.js configured with elementid '3599' but no matching script tag was found. \")\n",
       "    return false;\n",
       "  }\n",
       "\n",
       "  function inject_raw_css(css) {\n",
       "    const element = document.createElement(\"style\");\n",
       "    element.appendChild(document.createTextNode(css));\n",
       "    document.body.appendChild(element);\n",
       "  }\n",
       "\n",
       "  \n",
       "  var js_urls = [\"https://cdn.pydata.org/bokeh/release/bokeh-1.4.0.min.js\", \"https://cdn.pydata.org/bokeh/release/bokeh-widgets-1.4.0.min.js\", \"https://cdn.pydata.org/bokeh/release/bokeh-tables-1.4.0.min.js\", \"https://cdn.pydata.org/bokeh/release/bokeh-gl-1.4.0.min.js\"];\n",
       "  var css_urls = [];\n",
       "  \n",
       "\n",
       "  var inline_js = [\n",
       "    function(Bokeh) {\n",
       "      Bokeh.set_log_level(\"info\");\n",
       "    },\n",
       "    function(Bokeh) {\n",
       "    \n",
       "    \n",
       "    }\n",
       "  ];\n",
       "\n",
       "  function run_inline_js() {\n",
       "    \n",
       "    if (root.Bokeh !== undefined || force === true) {\n",
       "      \n",
       "    for (var i = 0; i < inline_js.length; i++) {\n",
       "      inline_js[i].call(root, root.Bokeh);\n",
       "    }\n",
       "    if (force === true) {\n",
       "        display_loaded();\n",
       "      }} else if (Date.now() < root._bokeh_timeout) {\n",
       "      setTimeout(run_inline_js, 100);\n",
       "    } else if (!root._bokeh_failed_load) {\n",
       "      console.log(\"Bokeh: BokehJS failed to load within specified timeout.\");\n",
       "      root._bokeh_failed_load = true;\n",
       "    } else if (force !== true) {\n",
       "      var cell = $(document.getElementById(\"3599\")).parents('.cell').data().cell;\n",
       "      cell.output_area.append_execute_result(NB_LOAD_WARNING)\n",
       "    }\n",
       "\n",
       "  }\n",
       "\n",
       "  if (root._bokeh_is_loading === 0) {\n",
       "    console.debug(\"Bokeh: BokehJS loaded, going straight to plotting\");\n",
       "    run_inline_js();\n",
       "  } else {\n",
       "    load_libs(css_urls, js_urls, function() {\n",
       "      console.debug(\"Bokeh: BokehJS plotting callback run at\", now());\n",
       "      run_inline_js();\n",
       "    });\n",
       "  }\n",
       "}(window));"
      ],
      "application/vnd.bokehjs_load.v0+json": "\n(function(root) {\n  function now() {\n    return new Date();\n  }\n\n  var force = true;\n\n  if (typeof root._bokeh_onload_callbacks === \"undefined\" || force === true) {\n    root._bokeh_onload_callbacks = [];\n    root._bokeh_is_loading = undefined;\n  }\n\n  \n\n  \n  if (typeof (root._bokeh_timeout) === \"undefined\" || force === true) {\n    root._bokeh_timeout = Date.now() + 5000;\n    root._bokeh_failed_load = false;\n  }\n\n  var NB_LOAD_WARNING = {'data': {'text/html':\n     \"<div style='background-color: #fdd'>\\n\"+\n     \"<p>\\n\"+\n     \"BokehJS does not appear to have successfully loaded. If loading BokehJS from CDN, this \\n\"+\n     \"may be due to a slow or bad network connection. Possible fixes:\\n\"+\n     \"</p>\\n\"+\n     \"<ul>\\n\"+\n     \"<li>re-rerun `output_notebook()` to attempt to load from CDN again, or</li>\\n\"+\n     \"<li>use INLINE resources instead, as so:</li>\\n\"+\n     \"</ul>\\n\"+\n     \"<code>\\n\"+\n     \"from bokeh.resources import INLINE\\n\"+\n     \"output_notebook(resources=INLINE)\\n\"+\n     \"</code>\\n\"+\n     \"</div>\"}};\n\n  function display_loaded() {\n    var el = document.getElementById(\"3599\");\n    if (el != null) {\n      el.textContent = \"BokehJS is loading...\";\n    }\n    if (root.Bokeh !== undefined) {\n      if (el != null) {\n        el.textContent = \"BokehJS \" + root.Bokeh.version + \" successfully loaded.\";\n      }\n    } else if (Date.now() < root._bokeh_timeout) {\n      setTimeout(display_loaded, 100)\n    }\n  }\n\n\n  function run_callbacks() {\n    try {\n      root._bokeh_onload_callbacks.forEach(function(callback) {\n        if (callback != null)\n          callback();\n      });\n    } finally {\n      delete root._bokeh_onload_callbacks\n    }\n    console.debug(\"Bokeh: all callbacks have finished\");\n  }\n\n  function load_libs(css_urls, js_urls, callback) {\n    if (css_urls == null) css_urls = [];\n    if (js_urls == null) js_urls = [];\n\n    root._bokeh_onload_callbacks.push(callback);\n    if (root._bokeh_is_loading > 0) {\n      console.debug(\"Bokeh: BokehJS is being loaded, scheduling callback at\", now());\n      return null;\n    }\n    if (js_urls == null || js_urls.length === 0) {\n      run_callbacks();\n      return null;\n    }\n    console.debug(\"Bokeh: BokehJS not loaded, scheduling load and callback at\", now());\n    root._bokeh_is_loading = css_urls.length + js_urls.length;\n\n    function on_load() {\n      root._bokeh_is_loading--;\n      if (root._bokeh_is_loading === 0) {\n        console.debug(\"Bokeh: all BokehJS libraries/stylesheets loaded\");\n        run_callbacks()\n      }\n    }\n\n    function on_error() {\n      console.error(\"failed to load \" + url);\n    }\n\n    for (var i = 0; i < css_urls.length; i++) {\n      var url = css_urls[i];\n      const element = document.createElement(\"link\");\n      element.onload = on_load;\n      element.onerror = on_error;\n      element.rel = \"stylesheet\";\n      element.type = \"text/css\";\n      element.href = url;\n      console.debug(\"Bokeh: injecting link tag for BokehJS stylesheet: \", url);\n      document.body.appendChild(element);\n    }\n\n    for (var i = 0; i < js_urls.length; i++) {\n      var url = js_urls[i];\n      var element = document.createElement('script');\n      element.onload = on_load;\n      element.onerror = on_error;\n      element.async = false;\n      element.src = url;\n      console.debug(\"Bokeh: injecting script tag for BokehJS library: \", url);\n      document.head.appendChild(element);\n    }\n  };var element = document.getElementById(\"3599\");\n  if (element == null) {\n    console.error(\"Bokeh: ERROR: autoload.js configured with elementid '3599' but no matching script tag was found. \")\n    return false;\n  }\n\n  function inject_raw_css(css) {\n    const element = document.createElement(\"style\");\n    element.appendChild(document.createTextNode(css));\n    document.body.appendChild(element);\n  }\n\n  \n  var js_urls = [\"https://cdn.pydata.org/bokeh/release/bokeh-1.4.0.min.js\", \"https://cdn.pydata.org/bokeh/release/bokeh-widgets-1.4.0.min.js\", \"https://cdn.pydata.org/bokeh/release/bokeh-tables-1.4.0.min.js\", \"https://cdn.pydata.org/bokeh/release/bokeh-gl-1.4.0.min.js\"];\n  var css_urls = [];\n  \n\n  var inline_js = [\n    function(Bokeh) {\n      Bokeh.set_log_level(\"info\");\n    },\n    function(Bokeh) {\n    \n    \n    }\n  ];\n\n  function run_inline_js() {\n    \n    if (root.Bokeh !== undefined || force === true) {\n      \n    for (var i = 0; i < inline_js.length; i++) {\n      inline_js[i].call(root, root.Bokeh);\n    }\n    if (force === true) {\n        display_loaded();\n      }} else if (Date.now() < root._bokeh_timeout) {\n      setTimeout(run_inline_js, 100);\n    } else if (!root._bokeh_failed_load) {\n      console.log(\"Bokeh: BokehJS failed to load within specified timeout.\");\n      root._bokeh_failed_load = true;\n    } else if (force !== true) {\n      var cell = $(document.getElementById(\"3599\")).parents('.cell').data().cell;\n      cell.output_area.append_execute_result(NB_LOAD_WARNING)\n    }\n\n  }\n\n  if (root._bokeh_is_loading === 0) {\n    console.debug(\"Bokeh: BokehJS loaded, going straight to plotting\");\n    run_inline_js();\n  } else {\n    load_libs(css_urls, js_urls, function() {\n      console.debug(\"Bokeh: BokehJS plotting callback run at\", now());\n      run_inline_js();\n    });\n  }\n}(window));"
     },
     "metadata": {},
     "output_type": "display_data"
    }
   ],
   "source": [
    "from bokeh.io import show, output_notebook\n",
    "from bokeh.layouts import gridplot\n",
    "output_notebook()"
   ]
  },
  {
   "cell_type": "code",
   "execution_count": 6,
   "id": "24bfdbd7-7b94-43a2-91ed-c7ef75f231d5",
   "metadata": {
    "tags": []
   },
   "outputs": [],
   "source": [
    "poles = hl.read_matrix_table('/net/pr2/projects/plgrid/plggneuromol/imdik-zekanowski-gts/data/mts/oligogenic-model/synthetic-controls-no-zeros.mt')"
   ]
  },
  {
   "cell_type": "code",
   "execution_count": 7,
   "id": "f0b4b778-60ff-4ebf-b4d7-a03c416b7a0f",
   "metadata": {
    "tags": []
   },
   "outputs": [
    {
     "name": "stderr",
     "output_type": "stream",
     "text": [
      "2023-07-30 09:08:18.971 Hail: INFO: wrote matrix table with 3042073 rows and 1200 columns in 2 partitions to /localfs/4204273/poles_sex.mt\n"
     ]
    }
   ],
   "source": [
    "par1 = [10001,2781479]\n",
    "par2 = [155701383,156030895]\n",
    "\n",
    "nonpars = [[1,10000],[2781480,155701382]]\n",
    "\n",
    "polish_samples = []\n",
    "\n",
    "for i in range(1,1001):\n",
    "    polish_samples.append(str(i)+'_polish')\n",
    "\n",
    "poles_females = polish_samples[0:150] \n",
    "poles_males = polish_samples[150:]\n",
    "\n",
    "path_names = ['poles_zeros', 'poles']\n",
    "\n",
    "poles = poles.annotate_cols(\n",
    "        sex = hl.if_else(\n",
    "            hl.array(poles_females).contains(poles.s),\n",
    "            'F',\n",
    "            'M'\n",
    "        )\n",
    "    )\n",
    "    \n",
    "poles = poles.annotate_entries(\n",
    "        GT = hl.if_else(\n",
    "            poles.locus.contig == 'chrX',\n",
    "            hl.if_else(\n",
    "                poles['sex'] == 'F',\n",
    "                poles.GT,\n",
    "                hl.if_else(\n",
    "                    poles.locus.position > nonpars[1][1],\n",
    "                    poles.GT,\n",
    "                    hl.if_else(\n",
    "                        poles.locus.position < nonpars[0][1],\n",
    "                        hl.if_else(\n",
    "                            poles.locus.position > nonpars[0][0],\n",
    "                            poles.GT,\n",
    "                            hl.call(poles.GT[0], poles.GT[0])),\n",
    "                        hl.call(poles.GT[0], poles.GT[0])))),\n",
    "            poles.GT\n",
    "        )\n",
    "    )\n",
    "    \n",
    "poles = poles.checkpoint(localfs_path+'poles_sex.mt')  "
   ]
  },
  {
   "cell_type": "code",
   "execution_count": 12,
   "id": "cbb8971d-3833-4021-9331-349f4bf4c565",
   "metadata": {
    "tags": []
   },
   "outputs": [],
   "source": [
    "mt = hl.read_matrix_table('/net/pr2/projects/plgrid/plggneuromol/imdik-zekanowski-gts/data/mts/oligogenic-model/gts_and_s.mt')\n",
    "\n",
    "mt = mt.drop(\n",
    "    mt.group, mt.sample_qc\n",
    ")\n",
    "\n",
    "mt = mt.select_entries(\n",
    "    AD = mt.LAD,\n",
    "    DP = mt.DP,\n",
    "    GQ = mt.GQ,\n",
    "    GT = mt.GT,\n",
    "    MIN_DP = mt.MIN_DP,\n",
    "    PGT = mt.LPGT,\n",
    "    PID = mt.PID,\n",
    "    PL = mt.LPL,\n",
    "    PS = mt.PS,\n",
    "    RGQ = mt.RGQ,\n",
    "    SB = mt.SB\n",
    ")\n",
    "\n",
    "mt = mt.annotate_cols(sex = hl.missing(hl.tstr))"
   ]
  },
  {
   "cell_type": "code",
   "execution_count": null,
   "id": "c53eda42-ab80-44b5-8bcd-a88d004b856e",
   "metadata": {
    "tags": []
   },
   "outputs": [
    {
     "name": "stderr",
     "output_type": "stream",
     "text": [
      "[Stage 6:================>                                   (1430 + 30) / 4389]\r"
     ]
    }
   ],
   "source": [
    "samples_to_exclude = ['S_7288', 'S_7289', 'S_7290', 'WGS_6827', 'WGS_6835', 'WGS_5', 'WGS_8']\n",
    "#these are low quality samples to exclude\n",
    "\n",
    "mt = mt.filter_cols(\n",
    "    hl.literal(samples_to_exclude).contains(mt.s),\n",
    "    keep = False\n",
    ")\n",
    "\n",
    "#exclude duplicated sample \n",
    "\n",
    "mt = mt.distinct_by_col()\n",
    "\n",
    "pl = hl.read_matrix_table(localfs_path+'poles_sex.mt')  \n",
    "pl = pl.drop(pl.col_idx)\n",
    "pl = mt.union_cols(pl)\n",
    "pl.write(localfs_path+'pw_s_gts_union_3.mt')"
   ]
  },
  {
   "cell_type": "code",
   "execution_count": null,
   "id": "9f8a5a97-4496-44e6-8696-6c6cda71ed5d",
   "metadata": {
    "tags": []
   },
   "outputs": [],
   "source": [
    "mt = hl.read_matrix_table(localfs_path+'pw_s_gts_union_3.mt')"
   ]
  },
  {
   "cell_type": "code",
   "execution_count": null,
   "id": "ae83aa9a-d65e-43ff-a8d2-47c914d54dce",
   "metadata": {
    "tags": []
   },
   "outputs": [],
   "source": [
    "mt.count()"
   ]
  },
  {
   "cell_type": "code",
   "execution_count": null,
   "id": "41761a12-0750-4c09-ba2d-c7bbc32f4723",
   "metadata": {
    "tags": []
   },
   "outputs": [],
   "source": [
    "to_keep = hl.read_matrix_table(\n",
    "    '/net/pr2/projects/plgrid/plggneuromol/imdik-zekanowski-gts/data/mts/oligogenic-model/s_vs_gts.mt'\n",
    ")"
   ]
  },
  {
   "cell_type": "code",
   "execution_count": null,
   "id": "ff7408e3-bb87-44ac-b7b4-b01279dfed99",
   "metadata": {
    "tags": []
   },
   "outputs": [],
   "source": [
    "to_keep.aggregate_cols(hl.agg.counter(to_keep.group))"
   ]
  },
  {
   "cell_type": "code",
   "execution_count": null,
   "id": "30401d69-a8ce-4e36-b83f-4e46a65ad18e",
   "metadata": {
    "tags": []
   },
   "outputs": [],
   "source": [
    "pheno = hl.import_table(\n",
    "    '/net/pr2/projects/plgrid/plggneuromol/imdik-zekanowski-gts/data/pheno/GTS-coded-corrected-june-2021.csv',\n",
    "    impute=True,\n",
    "    delimiter=',',\n",
    "    quote=\"\\\"\"\n",
    "    )\n",
    "\n",
    "pheno = pheno.key_by(pheno.ID)\n",
    "\n",
    "mt = mt.annotate_cols(phenotypes = pheno[mt.s])"
   ]
  },
  {
   "cell_type": "code",
   "execution_count": null,
   "id": "cdabe969-4f57-43f9-8833-14d6f1c99be9",
   "metadata": {
    "tags": []
   },
   "outputs": [],
   "source": [
    "mt = mt.annotate_cols(\n",
    "    group = hl.if_else(\n",
    "        mt.s.contains('B'),\n",
    "        'local_controls',\n",
    "        hl.if_else(\n",
    "            mt.s.contains('polish'),\n",
    "            'polish_controls',\n",
    "            'GTS'\n",
    "        )\n",
    "    )\n",
    ") "
   ]
  },
  {
   "cell_type": "code",
   "execution_count": null,
   "id": "abe6ee0a-1164-4428-b8bf-e760ee59f6ec",
   "metadata": {
    "tags": []
   },
   "outputs": [],
   "source": [
    "mt = mt.filter_cols(\n",
    "    (\n",
    "        mt.group == 'polish_controls') | (\n",
    "        mt.group == 'local_controls') | (\n",
    "        mt.phenotypes.family != '.') | (\n",
    "        hl.is_defined(to_keep.cols()[mt.col_key])\n",
    "    )\n",
    ")"
   ]
  },
  {
   "cell_type": "code",
   "execution_count": null,
   "id": "05fa4308-dd77-43ca-ae35-4e8a332f6a2c",
   "metadata": {
    "tags": []
   },
   "outputs": [],
   "source": [
    "mt = mt.checkpoint(localfs_path+'pre_pca_gts.mt')"
   ]
  },
  {
   "cell_type": "code",
   "execution_count": null,
   "id": "5cd6b462-a281-41b3-a33a-65861eaa51e3",
   "metadata": {
    "tags": []
   },
   "outputs": [],
   "source": [
    "bed = hl.import_bed(\n",
    "    '/net/pr2/projects/plgrid/plggneuromol/matzieb/projects/imdik-zekanowski-sportwgs/data/prs-data/all-alt-scaffold-placement-GRCh38.p14.bed'\n",
    ")"
   ]
  },
  {
   "cell_type": "code",
   "execution_count": null,
   "id": "d2d0f453-1639-4c50-b1fb-eba3897a4054",
   "metadata": {
    "tags": []
   },
   "outputs": [],
   "source": [
    "mt = mt.filter_rows(\n",
    "    hl.is_snp(mt.alleles[0], mt.alleles[1]) & \n",
    "    mt.was_split == False &\n",
    "    hl.is_missing(bed[mt.locus])\n",
    ")  "
   ]
  },
  {
   "cell_type": "code",
   "execution_count": null,
   "id": "c36fdaa5-097a-4606-9a88-8a0e796adc70",
   "metadata": {},
   "outputs": [],
   "source": [
    "mt = mt.naive_coalesce(500)"
   ]
  },
  {
   "cell_type": "markdown",
   "id": "0920c804-13db-43bb-a700-e8f84a1feb96",
   "metadata": {
    "tags": []
   },
   "source": [
    "### RUN PCA for everyone"
   ]
  },
  {
   "cell_type": "code",
   "execution_count": null,
   "id": "f342cbac-a7ef-4597-92b0-b154f5e1b3df",
   "metadata": {
    "tags": []
   },
   "outputs": [],
   "source": [
    "mt = mt.checkpoint(localfs_path+'pre_pca_gts_filtered.mt')\n",
    "#mt = hl.read_matrix_table(localfs_path+'pre_pca_gts_filtered.mt')"
   ]
  },
  {
   "cell_type": "code",
   "execution_count": null,
   "id": "81f782e4-a8ce-49e1-b03f-a07e3b6350f2",
   "metadata": {
    "tags": []
   },
   "outputs": [],
   "source": [
    "mt.count()"
   ]
  },
  {
   "cell_type": "code",
   "execution_count": null,
   "id": "98f5ef02-a85a-46eb-990c-cbf60c9ecd49",
   "metadata": {
    "tags": []
   },
   "outputs": [],
   "source": [
    "def run_pca_no_filter(mtx, mtx_path, suffix):\n",
    "    \n",
    "    for_pca = mtx.sample_rows(0.2)\n",
    "\n",
    "    for_pca = for_pca.checkpoint(localfs_path+'subset_'+suffix+mtx_path)\n",
    "    for_pca = hl.read_matrix_table(localfs_path+'subset_'+suffix+mtx_path)\n",
    "    eigenvalues, pcs, _ = hl.hwe_normalized_pca(for_pca.GT, k=20)\n",
    "    \n",
    "    mtx = mtx.annotate_cols(scores_no_filter = pcs[mtx.s].scores)\n",
    "    mtx = mtx.checkpoint(localfs_path+'after_pca_no_filters_'+suffix+mtx_path)\n",
    "    \n",
    "    return(mtx)"
   ]
  },
  {
   "cell_type": "code",
   "execution_count": null,
   "id": "49ae3ccc-503c-4cc7-b3f8-940de9d86010",
   "metadata": {
    "tags": []
   },
   "outputs": [],
   "source": [
    "mt = run_pca_no_filter(mt, 'all_samples.mt', '1_')"
   ]
  },
  {
   "cell_type": "code",
   "execution_count": null,
   "id": "e4e0f6d3-8dd1-4b29-ab20-642da2d4b5b6",
   "metadata": {
    "tags": []
   },
   "outputs": [],
   "source": [
    "mt = mt.annotate_cols(\n",
    "    label = hl.if_else(\n",
    "        mt.group == 'local_controls',\n",
    "        'Polish elite sportsmen',\n",
    "        hl.if_else(\n",
    "            mt.group == 'polish_controls',\n",
    "            'Polish synthetic controls',\n",
    "            hl.if_else(\n",
    "                mt.phenotypes.family == '.',\n",
    "                'GTS',\n",
    "                hl.str('GTS family ')+mt.phenotypes.family\n",
    "            )\n",
    "        )\n",
    "    )\n",
    ")                "
   ]
  },
  {
   "cell_type": "code",
   "execution_count": 48,
   "id": "615f7bd2-0df0-4927-b1b6-3f1bc2858536",
   "metadata": {
    "tags": []
   },
   "outputs": [
    {
     "name": "stderr",
     "output_type": "stream",
     "text": [
      "/net/pr2/projects/plgrid/plggneuromol/imdik-zekanowski-gts/venv-hail-0.2.113/lib/python3.10/site-packages/bokeh/models/sources.py:235: FutureWarning: iteritems is deprecated and will be removed in a future version. Use .items instead.\n",
      "  tmp_data = {c: v.values for c, v in _df.iteritems()}\n"
     ]
    },
    {
     "data": {
      "text/html": [
       "\n",
       "\n",
       "\n",
       "\n",
       "\n",
       "\n",
       "  <div class=\"bk-root\" id=\"9e748397-6016-4862-b075-2fb067d30a83\" data-root-id=\"5968\"></div>\n"
      ]
     },
     "metadata": {},
     "output_type": "display_data"
    },
    {
     "data": {
      "application/javascript": [
       "(function(root) {\n",
       "  function embed_document(root) {\n",
       "    \n",
       "  var docs_json = {\"6de95220-a722-495f-a7f3-657164390ebc\":{\"roots\":{\"references\":[{\"attributes\":{\"below\":[{\"id\":\"5979\",\"type\":\"LinearAxis\"}],\"center\":[{\"id\":\"5983\",\"type\":\"Grid\"},{\"id\":\"5988\",\"type\":\"Grid\"}],\"left\":[{\"id\":\"5984\",\"type\":\"LinearAxis\"},{\"id\":\"6181\",\"type\":\"Legend\"},{\"id\":\"6182\",\"type\":\"ColorBar\"}],\"plot_height\":800,\"plot_width\":800,\"renderers\":[{\"id\":\"6011\",\"type\":\"GlyphRenderer\"},{\"id\":\"6017\",\"type\":\"GlyphRenderer\"},{\"id\":\"6023\",\"type\":\"GlyphRenderer\"},{\"id\":\"6029\",\"type\":\"GlyphRenderer\"},{\"id\":\"6035\",\"type\":\"GlyphRenderer\"},{\"id\":\"6041\",\"type\":\"GlyphRenderer\"},{\"id\":\"6047\",\"type\":\"GlyphRenderer\"},{\"id\":\"6053\",\"type\":\"GlyphRenderer\"},{\"id\":\"6059\",\"type\":\"GlyphRenderer\"},{\"id\":\"6065\",\"type\":\"GlyphRenderer\"},{\"id\":\"6071\",\"type\":\"GlyphRenderer\"},{\"id\":\"6077\",\"type\":\"GlyphRenderer\"},{\"id\":\"6083\",\"type\":\"GlyphRenderer\"},{\"id\":\"6089\",\"type\":\"GlyphRenderer\"},{\"id\":\"6095\",\"type\":\"GlyphRenderer\"},{\"id\":\"6101\",\"type\":\"GlyphRenderer\"},{\"id\":\"6107\",\"type\":\"GlyphRenderer\"},{\"id\":\"6113\",\"type\":\"GlyphRenderer\"},{\"id\":\"6119\",\"type\":\"GlyphRenderer\"},{\"id\":\"6125\",\"type\":\"GlyphRenderer\"},{\"id\":\"6131\",\"type\":\"GlyphRenderer\"},{\"id\":\"6137\",\"type\":\"GlyphRenderer\"},{\"id\":\"6143\",\"type\":\"GlyphRenderer\"},{\"id\":\"6149\",\"type\":\"GlyphRenderer\"},{\"id\":\"6155\",\"type\":\"GlyphRenderer\"}],\"title\":{\"id\":\"5969\",\"type\":\"Title\"},\"toolbar\":{\"id\":\"5995\",\"type\":\"Toolbar\"},\"x_range\":{\"id\":\"5971\",\"type\":\"DataRange1d\"},\"x_scale\":{\"id\":\"5975\",\"type\":\"LinearScale\"},\"y_range\":{\"id\":\"5973\",\"type\":\"DataRange1d\"},\"y_scale\":{\"id\":\"5977\",\"type\":\"LinearScale\"}},\"id\":\"5968\",\"subtype\":\"Figure\",\"type\":\"Plot\"},{\"attributes\":{\"axis_label\":\"PC2\",\"formatter\":{\"id\":\"6324\",\"type\":\"BasicTickFormatter\"},\"ticker\":{\"id\":\"5985\",\"type\":\"BasicTicker\"}},\"id\":\"5984\",\"type\":\"LinearAxis\"},{\"attributes\":{\"filters\":[{\"id\":\"6120\",\"type\":\"GroupFilter\"}],\"source\":{\"id\":\"6004\",\"type\":\"ColumnDataSource\"}},\"id\":\"6121\",\"type\":\"CDSView\"},{\"attributes\":{\"callback\":null,\"tooltips\":[[\"x\",\"@x\"],[\"y\",\"@y\"],[\"label\",\"@label\"]]},\"id\":\"6003\",\"type\":\"HoverTool\"},{\"attributes\":{\"data_source\":{\"id\":\"6004\",\"type\":\"ColumnDataSource\"},\"glyph\":{\"id\":\"6063\",\"type\":\"Circle\"},\"hover_glyph\":null,\"muted_glyph\":null,\"nonselection_glyph\":{\"id\":\"6064\",\"type\":\"Circle\"},\"selection_glyph\":null,\"view\":{\"id\":\"6061\",\"type\":\"CDSView\"}},\"id\":\"6065\",\"type\":\"GlyphRenderer\"},{\"attributes\":{\"callback\":null,\"data\":{\"index\":[0,1,2,3,4,5,6,7,8,9,10,11,12,13,14,15,16,17,18,19,20,21,22,23,24,25,26,27,28,29,30,31,32,33,34,35,36,37,38,39,40,41,42,43,44,45,46,47,48,49,50,51,52,53,54,55,56,57,58,59,60,61,62,63,64,65,66,67,68,69,70,71,72,73,74,75,76,77,78,79,80,81,82,83,84,85,86,87,88,89,90,91,92,93,94,95,96,97,98,99,100,101,102,103,104,105,106,107,108,109,110,111,112,113,114,115,116,117,118,119,120,121,122,123,124,125,126,127,128,129,130,131,132,133,134,135,136,137,138,139,140,141,142,143,144,145,146,147,148,149,150,151,152,153,154,155,156,157,158,159,160,161,162,163,164,165,166,167,168,169,170,171,172,173,174,175,176,177,178,179,180,181,182,183,184,185],\"label\":[\"GTS family F\",\"GTS family F\",\"GTS family F\",\"GTS family F\",\"GTS family F\",\"GTS family F\",\"GTS family F\",\"GTS family F\",\"GTS family F\",\"GTS family F\",\"GTS family A\",\"GTS family F\",\"GTS family A\",\"GTS family A\",\"GTS family A\",\"GTS family A\",\"GTS family G\",\"GTS family H\",\"GTS family H\",\"GTS family H\",\"GTS family E\",\"GTS family H\",\"GTS family I\",\"GTS family I\",\"GTS family B\",\"GTS family A\",\"GTS\",\"GTS family T\",\"GTS family T\",\"GTS family B\",\"GTS family M\",\"GTS family R\",\"GTS family H\",\"GTS family E\",\"GTS family B\",\"GTS family E\",\"GTS family I\",\"GTS family I\",\"GTS family T\",\"GTS family G\",\"GTS family J\",\"GTS family B\",\"Polish elite sportsmen\",\"GTS family C\",\"GTS family E\",\"GTS family I\",\"GTS family S\",\"GTS family S\",\"GTS family G\",\"GTS family J\",\"GTS family J\",\"GTS family B\",\"GTS family U\",\"GTS family E\",\"GTS\",\"Polish synthetic controls\",\"Polish elite sportsmen\",\"Polish elite sportsmen\",\"GTS family K\",\"GTS\",\"GTS family T\",\"GTS family S\",\"GTS family Y\",\"GTS family B\",\"GTS\",\"GTS family X\",\"GTS\",\"Polish synthetic controls\",\"Polish synthetic controls\",\"GTS family O\",\"Polish synthetic controls\",\"Polish synthetic controls\",\"GTS\",\"GTS family Y\",\"GTS family Y\",\"GTS family T\",\"GTS family L\",\"GTS\",\"GTS family C\",\"GTS family J\",\"Polish synthetic controls\",\"Polish synthetic controls\",\"Polish synthetic controls\",\"Polish elite sportsmen\",\"Polish synthetic controls\",\"GTS\",\"Polish elite sportsmen\",\"Polish elite sportsmen\",\"Polish elite sportsmen\",\"GTS family T\",\"GTS family S\",\"GTS family Y\",\"GTS family R\",\"GTS family J\",\"Polish elite sportsmen\",\"Polish synthetic controls\",\"Polish synthetic controls\",\"Polish synthetic controls\",\"Polish synthetic controls\",\"Polish synthetic controls\",\"GTS\",\"GTS family I\",\"GTS family Y\",\"GTS family T\",\"GTS family Y\",\"GTS family S\",\"GTS\",\"GTS family U\",\"GTS\",\"Polish synthetic controls\",\"Polish synthetic controls\",\"Polish synthetic controls\",\"Polish elite sportsmen\",\"Polish synthetic controls\",\"GTS\",\"Polish elite sportsmen\",\"GTS family C\",\"GTS family T\",\"GTS family Y\",\"GTS family X\",\"GTS\",\"GTS family R\",\"Polish synthetic controls\",\"Polish synthetic controls\",\"Polish synthetic controls\",\"Polish synthetic controls\",\"Polish elite sportsmen\",\"GTS\",\"Polish elite sportsmen\",\"Polish elite sportsmen\",\"Polish elite sportsmen\",\"GTS family X\",\"GTS\",\"GTS\",\"GTS family D\",\"GTS\",\"Polish elite sportsmen\",\"Polish synthetic controls\",\"Polish synthetic controls\",\"Polish elite sportsmen\",\"Polish elite sportsmen\",\"Polish elite sportsmen\",\"Polish elite sportsmen\",\"GTS family Y\",\"GTS family X\",\"GTS family R\",\"Polish elite sportsmen\",\"Polish elite sportsmen\",\"Polish elite sportsmen\",\"Polish elite sportsmen\",\"Polish elite sportsmen\",\"Polish elite sportsmen\",\"Polish elite sportsmen\",\"GTS family D\",\"Polish elite sportsmen\",\"Polish elite sportsmen\",\"Polish elite sportsmen\",\"Polish elite sportsmen\",\"GTS family P\",\"GTS family P\",\"GTS family D\",\"Polish elite sportsmen\",\"Polish elite sportsmen\",\"Polish elite sportsmen\",\"Polish elite sportsmen\",\"Polish elite sportsmen\",\"Polish elite sportsmen\",\"Polish elite sportsmen\",\"GTS family P\",\"Polish elite sportsmen\",\"GTS family M\",\"Polish elite sportsmen\",\"GTS family W\",\"GTS family W\",\"GTS family W\",\"GTS family W\",\"GTS family W\",\"GTS family W\",\"GTS family W\",\"GTS family W\",\"GTS family W\",\"GTS family W\",\"GTS family W\",\"GTS family W\",\"GTS family W\",\"GTS family W\"],\"x\":{\"__ndarray__\":\"olKvIBrmvb/eLlAUZKi7v347ubJlg7u/uCJu3anWu7+AR0GMdh+7v9HejnQFzbq//zYPQIuqtb9BigOOGiy1v7qD3MsF17G/Z42z9Zq2sb/DqcsKLJyhv5Qz9IYy9KG/u+xHEHRJoL8VALEMjYOcvyPK0Qkt1Zi/LM48onZhmr9HJGeqRDWTvzuoTfNdGpO/MbG4Jf4ok79RXU6le9+Rvy6ylhca2JG/0KfP6yG4kr9viYWb/2uRvw65HoMjtpG/cQlq8BywkL/hGEMFw8+Qv0Af0isrJpC/cQEEnSDui79HwbAausGNvySmqIVT7oy/h7dcOlAfjL/h5a6evT6Ov4UbZZ16fIu/gHbU8iJ2ir+IdLWlLUmMv12vCmBYdoy/y+zvIPJujL9tyKXxAQKOv03QkB5SGYm/tMFJocOEiL8Iy7++c62JvwS61Y099Ia/wX0XsB5Xh78scebJzRuJv/wGFmGz6Ia/xMsV7Fhlir8p5BPz7wCDvwTCy/6HroK/9BKSIt8Shb/ObE+KAomEv7s6arxqv4W/Qtldd1h4hr+IZJSKH8yCv8npB+t11oW/WMmy73UMhL84OEMcqC6Ev+U8ehMDdoS/qmGKpbQlg7/QUVPuzOmEv8t0aq4TkYO/F4dZEm1Igr+9RC427IGAv6ITkWEtvn+/C3kZe9ZRgr9AnESXhxt+vyKcoeHev32/TbGtOOJXfr+L12SsDMmAv72sgF3OQoK/7DtlCLexgL8uR3KesIuAv+ODnuvRdYG/Gfns+nCsfb/ELFZ0Qll6v8WqCwAEK3a/nRz6Xlo5er+0AvTJwyR3v+ITMgqnNXq/JpSDCoBjfL8bDAyT4HV7vzg3JaAocH2//ocNN7OWfb8vb6vIES59v7fNKkLQGX2/ImjraHb9fL8rlxs4IP57v4uG4gsHbH2/WnACIpb+e79FZUk+ex55vw+SVFxZwXK/hpZyseKWcr/D5vS/V3Vyv6z1aoQyrnO/l46g7UjFc7+CZUcoM8Vzv+Po507jgXW/oYzKC0DXdb/MYq1JI+B1v11D6QXwm3W/6ayg2MNvdL+o0BWtcpRzv8p/O1pQEXK/OD0e4KnnZr9cAR19VORev75rBTMRHma/rD8iNL5yZ7/sW4e6urBqv6/rOhZeiF2/HX2ThlSjZb97nlqoh/Rrv7QRwwEoRGy/NEGBUW4/bL/68VVgFjFsv6Hyx/j45mu/nVUMm17uYb/q/oNgO5Znv2DaRRquDGG/5x/uE0ogVL9msmuHu7gzv428Tf7BuwQ/+z/DV0KVRL9QADP/wRRSvzJwerRiJFW/YdndjOLMWL9c5Pw3imVZv7+yedMYsli/df93B7OcK78H7PukX69RvyKge8xN6VC/PNSXW1SIUL+fvGuh3CxTvxaCGf6kMlY/lelykhaBRj++dnsE5jQ7P5dgSBRFpVY/VpJDSjCZYD828jfIufE4P1NpSMqlcDc/+oXSEzAVNj9KQGtb5a5QPzpcj1vi50A/bSr1xu2+Oj+oPCsIZbNNP67A+wmLLmY/gjeLpz2xYz9yHw5is9BjP6SnBC7qDGo/HXryiDU9aT/A6qjeoFhlP3vkSG8VW2I/G5Y8cs2CaT/KLVo4swRsP6IXC1FZnnM/yvGXubJndD+ECu6359lxP+E31rb3IHM/6UH53HBjdT9iziN8p7tzPwsEFFFbsnI/YYwaQTKzdz/W7hxdsJ94P7eUFDTdAn4/bzl00x0SfD/FGs4rylV6P9l9e4chw3g/NU4xXJp5gj8TO9fNtG+AP7zVAJfBw4M/w9q5MMVBgT/Q9yBdBe2FP2eFI//IK4o/2lfbNp7xjz/Il1nxFI29P680ZoAjEMI/h75UHPAawz+Q0wn3XITJP01urAViueE/Mx3Xq2fq4T9hNCkjK/rjP9/jip2IBOQ/emM6dSds5D/74hQOPmrkP7VRG/K01OQ/zMTCrc5b5z95NIW7B/noPzN5Vu+PfOo/\",\"dtype\":\"float64\",\"shape\":[186]},\"y\":{\"__ndarray__\":\"0ahpaH716D9veiuxQTrnP+Ji79efPug/wv5YawBl6D87LUgJybbmP1HhRud6jug/q2veHzJQ4T8BHmT1NvjgP7qu2/ulEN4/Zxb/+VkS3z/8TgdlRgOKPzVA2M16/sc/21l3fuqwgT8quhCa0hKIP0pONp3FwXc/Ezgp6Lzngz/dr3/qPniOv1LxA4xfx4K/8lSrA1Pqeb/t27hBH4eMv3nMemkn1IG/vpfCYGjbeb++KMpLBdFzP40Y/0cdXok/RpuIHiJujL/WJoPgUwdkvztuB1hzPEI/Q4E4j9LjpL9Jd0LJLlCXvyEqBYWRlJG/Fq3pJCoyjr9Betmg8+qFv/uBUkd+0IO/da7ddkjedL8IE2tpE9hsvwVe1amuCGC/DJMTfqemcD/OCxx/gAt+P0jsC/0a356/ONet6ETdlb8S7U5h59GSv0dTkFsxyIm/whVPH8eXiL83k4ATklCEv6myecILDYG/GhvcvX/YUb/Jpzar8Dmivym5LuecPJi/o1fqy4Fwlb+nbySqPAuRv4Rth2edtoy/DXcY+TdGh794KC1LMoeCv6n1GD+xGIG/HvT1dVTrdr8R63dfHPt1v0xnLp0wQ2S/mg57ySlyXb9Qcy7iwDxRP3jOwPlJYm4/67PMqHByp78+ARGhjWmkvxYVJwpeRaC/eGergvxBjr9jXi2AdpeKv/9MRZfq0oe/l9cEZDy+gr+cVdFS7T+Bv6dsxc4QBXq/E4LdqB5gdL+XKhZRjKtov9YRehV3zVK/vKEjazvOWT94b/QuU0imv5CHG6PLCaO/eWMXGmmMlL9VGfvBGjONv81Ny/vn4Im/PpxxPZuShr+Ta/P4QgOCvxItXzv9AoG/RRM03vrseb99xQiAOBN0v6F/8VoZSWS/lMm3nggjXr/F1NmdJA0uP1wqyUdw9FQ/SyRZxen0cD9ucR5vLmFzP1uXFoCt1ai/Nt+VOEq3or9Q532sqqmhv7cyT/ce44q/6nmmA4RWhr9AqEIcl7qCv3DIDr6KBX+/0lmHl8YFe79Z1y6L6LJvvxaUUzVys2y/ye/b2a5HYb/isGbV4Fw2vwuxT8S1uHU/lhwVdkMSpL8y/RpRB5ajv28fSk/V856/cOKU2/E+lL/p+7jjvHOJv/eUl1UJn4a/PLTFLQmthL92GKggGCyAv4wtGZVrcnq/ms8ru4wPdL+9ujzztxVkvwCePVRAHVO/6WDb0GhZED973zSBripxP7vCRq9HMnU/ozJjvd3PpL/iH/r3K/ugv6hDUnmPh5C/BTj4THbajL9sMiz8RbOCv8tPPqY5OYG/uPrvZNxPeL9gG1yUBdNxv/1rsDzAj2G/vEz2DdxuVr+MtVCP8MwRPxctEgLC7FY/6jCWDm9EeD/e1Iyq4aJ6P3JLzTfGWoy/EcTVgyV3ir9Y0d/2EF2Hv+O88W2HNoS/uASAoneCgb94s36/Rp12v4jaFdeGmnG/1M31R7r5bb9cosm4Li9Zv4daExck1Es/MGxKPmnBWT/YOtmli4dyP5niXQDbTY+//IF9ItZJiL/gwGeJTSaDv5kiMSd8wIC/VG/LX6DUeb+WTucA2w90v6Jy3A+pCmu/VZ2V7UdzYL9/ulESlBNdP0rrI/DDE3+/njCZXkeWdr+Z7H77R5lrv0AMTdsJWFC/Jow1bs+pXD+NzSfCbCBwPx1kpeknrqE/f61DTZddpj+U9kOTNEWFv1v6N7MUuXW/MvBq2dkXYb9+066eD3U/P0Nsa62mlGU/HdgJKrldcL8pnTs4kYczP9oR9QOo63s//bFc9jVFmj/xTTYq3y0tv4TRogRaOl+/NV2llcnQY78tZP5p5zSTP4QhW9ycQ5M/Kiif5d9/kz/tTPMZ8fGWP9j3SyvnybI/7WOSRFPssj++7P3hEfa0P1Z8i49DebY/YTPWN//xtD/uhR7MImu2P3MhcqOeeLY/I0sa9yPnuT9HfAnK2p67P+5v8Ltmsbw/\",\"dtype\":\"float64\",\"shape\":[186]}},\"selected\":{\"id\":\"6331\",\"type\":\"Selection\"},\"selection_policy\":{\"id\":\"6330\",\"type\":\"UnionRenderers\"}},\"id\":\"6004\",\"type\":\"ColumnDataSource\"},{\"attributes\":{\"column_name\":\"label\",\"group\":\"GTS family J\"},\"id\":\"6066\",\"type\":\"GroupFilter\"},{\"attributes\":{\"fill_alpha\":{\"value\":0.1},\"fill_color\":{\"value\":\"#1f77b4\"},\"line_alpha\":{\"value\":0.1},\"line_color\":{\"value\":\"#1f77b4\"},\"x\":{\"field\":\"x\"},\"y\":{\"field\":\"y\"}},\"id\":\"6064\",\"type\":\"Circle\"},{\"attributes\":{\"data_source\":{\"id\":\"6004\",\"type\":\"ColumnDataSource\"},\"glyph\":{\"id\":\"6027\",\"type\":\"Circle\"},\"hover_glyph\":null,\"muted_glyph\":null,\"nonselection_glyph\":{\"id\":\"6028\",\"type\":\"Circle\"},\"selection_glyph\":null,\"view\":{\"id\":\"6025\",\"type\":\"CDSView\"}},\"id\":\"6029\",\"type\":\"GlyphRenderer\"},{\"attributes\":{\"data_source\":{\"id\":\"6004\",\"type\":\"ColumnDataSource\"},\"glyph\":{\"id\":\"6069\",\"type\":\"Circle\"},\"hover_glyph\":null,\"muted_glyph\":null,\"nonselection_glyph\":{\"id\":\"6070\",\"type\":\"Circle\"},\"selection_glyph\":null,\"view\":{\"id\":\"6067\",\"type\":\"CDSView\"}},\"id\":\"6071\",\"type\":\"GlyphRenderer\"},{\"attributes\":{\"label\":{\"value\":\"GTS family R\"},\"renderers\":[{\"id\":\"6107\",\"type\":\"GlyphRenderer\"}]},\"id\":\"6172\",\"type\":\"LegendItem\"},{\"attributes\":{\"fill_color\":{\"field\":\"label\",\"transform\":{\"id\":\"6005\",\"type\":\"CategoricalColorMapper\"}},\"line_color\":{\"field\":\"label\",\"transform\":{\"id\":\"6005\",\"type\":\"CategoricalColorMapper\"}},\"x\":{\"field\":\"x\"},\"y\":{\"field\":\"y\"}},\"id\":\"6069\",\"type\":\"Circle\"},{\"attributes\":{\"label\":{\"value\":\"GTS family X\"},\"renderers\":[{\"id\":\"6137\",\"type\":\"GlyphRenderer\"}]},\"id\":\"6177\",\"type\":\"LegendItem\"},{\"attributes\":{\"filters\":[{\"id\":\"6066\",\"type\":\"GroupFilter\"}],\"source\":{\"id\":\"6004\",\"type\":\"ColumnDataSource\"}},\"id\":\"6067\",\"type\":\"CDSView\"},{\"attributes\":{\"active_drag\":\"auto\",\"active_inspect\":\"auto\",\"active_multi\":null,\"active_scroll\":\"auto\",\"active_tap\":\"auto\",\"tools\":[{\"id\":\"5989\",\"type\":\"PanTool\"},{\"id\":\"5990\",\"type\":\"WheelZoomTool\"},{\"id\":\"5991\",\"type\":\"BoxZoomTool\"},{\"id\":\"5992\",\"type\":\"SaveTool\"},{\"id\":\"5993\",\"type\":\"ResetTool\"},{\"id\":\"5994\",\"type\":\"HelpTool\"},{\"id\":\"6003\",\"type\":\"HoverTool\"}]},\"id\":\"5995\",\"type\":\"Toolbar\"},{\"attributes\":{\"fill_color\":{\"field\":\"label\",\"transform\":{\"id\":\"6005\",\"type\":\"CategoricalColorMapper\"}},\"line_color\":{\"field\":\"label\",\"transform\":{\"id\":\"6005\",\"type\":\"CategoricalColorMapper\"}},\"x\":{\"field\":\"x\"},\"y\":{\"field\":\"y\"}},\"id\":\"6123\",\"type\":\"Circle\"},{\"attributes\":{},\"id\":\"5980\",\"type\":\"BasicTicker\"},{\"attributes\":{\"column_name\":\"label\",\"group\":\"GTS family K\"},\"id\":\"6072\",\"type\":\"GroupFilter\"},{\"attributes\":{\"axis_label\":\"PC1\",\"formatter\":{\"id\":\"6328\",\"type\":\"BasicTickFormatter\"},\"ticker\":{\"id\":\"5980\",\"type\":\"BasicTicker\"}},\"id\":\"5979\",\"type\":\"LinearAxis\"},{\"attributes\":{\"fill_alpha\":{\"value\":0.1},\"fill_color\":{\"value\":\"#1f77b4\"},\"line_alpha\":{\"value\":0.1},\"line_color\":{\"value\":\"#1f77b4\"},\"x\":{\"field\":\"x\"},\"y\":{\"field\":\"y\"}},\"id\":\"6070\",\"type\":\"Circle\"},{\"attributes\":{},\"id\":\"5977\",\"type\":\"LinearScale\"},{\"attributes\":{\"data_source\":{\"id\":\"6004\",\"type\":\"ColumnDataSource\"},\"glyph\":{\"id\":\"6075\",\"type\":\"Circle\"},\"hover_glyph\":null,\"muted_glyph\":null,\"nonselection_glyph\":{\"id\":\"6076\",\"type\":\"Circle\"},\"selection_glyph\":null,\"view\":{\"id\":\"6073\",\"type\":\"CDSView\"}},\"id\":\"6077\",\"type\":\"GlyphRenderer\"},{\"attributes\":{\"fill_color\":{\"field\":\"label\",\"transform\":{\"id\":\"6005\",\"type\":\"CategoricalColorMapper\"}},\"line_color\":{\"field\":\"label\",\"transform\":{\"id\":\"6005\",\"type\":\"CategoricalColorMapper\"}},\"x\":{\"field\":\"x\"},\"y\":{\"field\":\"y\"}},\"id\":\"6075\",\"type\":\"Circle\"},{\"attributes\":{\"filters\":[{\"id\":\"6072\",\"type\":\"GroupFilter\"}],\"source\":{\"id\":\"6004\",\"type\":\"ColumnDataSource\"}},\"id\":\"6073\",\"type\":\"CDSView\"},{\"attributes\":{\"fill_alpha\":{\"value\":0.1},\"fill_color\":{\"value\":\"#1f77b4\"},\"line_alpha\":{\"value\":0.1},\"line_color\":{\"value\":\"#1f77b4\"},\"x\":{\"field\":\"x\"},\"y\":{\"field\":\"y\"}},\"id\":\"6118\",\"type\":\"Circle\"},{\"attributes\":{\"data_source\":{\"id\":\"6004\",\"type\":\"ColumnDataSource\"},\"glyph\":{\"id\":\"6123\",\"type\":\"Circle\"},\"hover_glyph\":null,\"muted_glyph\":null,\"nonselection_glyph\":{\"id\":\"6124\",\"type\":\"Circle\"},\"selection_glyph\":null,\"view\":{\"id\":\"6121\",\"type\":\"CDSView\"}},\"id\":\"6125\",\"type\":\"GlyphRenderer\"},{\"attributes\":{\"column_name\":\"label\",\"group\":\"GTS family L\"},\"id\":\"6078\",\"type\":\"GroupFilter\"},{\"attributes\":{\"fill_alpha\":{\"value\":0.1},\"fill_color\":{\"value\":\"#1f77b4\"},\"line_alpha\":{\"value\":0.1},\"line_color\":{\"value\":\"#1f77b4\"},\"x\":{\"field\":\"x\"},\"y\":{\"field\":\"y\"}},\"id\":\"6076\",\"type\":\"Circle\"},{\"attributes\":{\"bottom_units\":\"screen\",\"fill_alpha\":{\"value\":0.5},\"fill_color\":{\"value\":\"lightgrey\"},\"left_units\":\"screen\",\"level\":\"overlay\",\"line_alpha\":{\"value\":1.0},\"line_color\":{\"value\":\"black\"},\"line_dash\":[4,4],\"line_width\":{\"value\":2},\"render_mode\":\"css\",\"right_units\":\"screen\",\"top_units\":\"screen\"},\"id\":\"6332\",\"type\":\"BoxAnnotation\"},{\"attributes\":{\"data_source\":{\"id\":\"6004\",\"type\":\"ColumnDataSource\"},\"glyph\":{\"id\":\"6081\",\"type\":\"Circle\"},\"hover_glyph\":null,\"muted_glyph\":null,\"nonselection_glyph\":{\"id\":\"6082\",\"type\":\"Circle\"},\"selection_glyph\":null,\"view\":{\"id\":\"6079\",\"type\":\"CDSView\"}},\"id\":\"6083\",\"type\":\"GlyphRenderer\"},{\"attributes\":{\"fill_color\":{\"field\":\"label\",\"transform\":{\"id\":\"6005\",\"type\":\"CategoricalColorMapper\"}},\"line_color\":{\"field\":\"label\",\"transform\":{\"id\":\"6005\",\"type\":\"CategoricalColorMapper\"}},\"x\":{\"field\":\"x\"},\"y\":{\"field\":\"y\"}},\"id\":\"6081\",\"type\":\"Circle\"},{\"attributes\":{\"filters\":[{\"id\":\"6078\",\"type\":\"GroupFilter\"}],\"source\":{\"id\":\"6004\",\"type\":\"ColumnDataSource\"}},\"id\":\"6079\",\"type\":\"CDSView\"},{\"attributes\":{\"column_name\":\"label\",\"group\":\"GTS family U\"},\"id\":\"6120\",\"type\":\"GroupFilter\"},{\"attributes\":{\"column_name\":\"label\",\"group\":\"GTS family M\"},\"id\":\"6084\",\"type\":\"GroupFilter\"},{\"attributes\":{\"fill_alpha\":{\"value\":0.1},\"fill_color\":{\"value\":\"#1f77b4\"},\"line_alpha\":{\"value\":0.1},\"line_color\":{\"value\":\"#1f77b4\"},\"x\":{\"field\":\"x\"},\"y\":{\"field\":\"y\"}},\"id\":\"6082\",\"type\":\"Circle\"},{\"attributes\":{\"data_source\":{\"id\":\"6004\",\"type\":\"ColumnDataSource\"},\"glyph\":{\"id\":\"6087\",\"type\":\"Circle\"},\"hover_glyph\":null,\"muted_glyph\":null,\"nonselection_glyph\":{\"id\":\"6088\",\"type\":\"Circle\"},\"selection_glyph\":null,\"view\":{\"id\":\"6085\",\"type\":\"CDSView\"}},\"id\":\"6089\",\"type\":\"GlyphRenderer\"},{\"attributes\":{\"fill_color\":{\"field\":\"label\",\"transform\":{\"id\":\"6005\",\"type\":\"CategoricalColorMapper\"}},\"line_color\":{\"field\":\"label\",\"transform\":{\"id\":\"6005\",\"type\":\"CategoricalColorMapper\"}},\"x\":{\"field\":\"x\"},\"y\":{\"field\":\"y\"}},\"id\":\"6087\",\"type\":\"Circle\"},{\"attributes\":{},\"id\":\"6330\",\"type\":\"UnionRenderers\"},{\"attributes\":{\"filters\":[{\"id\":\"6084\",\"type\":\"GroupFilter\"}],\"source\":{\"id\":\"6004\",\"type\":\"ColumnDataSource\"}},\"id\":\"6085\",\"type\":\"CDSView\"},{\"attributes\":{\"fill_alpha\":{\"value\":0.1},\"fill_color\":{\"value\":\"#1f77b4\"},\"line_alpha\":{\"value\":0.1},\"line_color\":{\"value\":\"#1f77b4\"},\"x\":{\"field\":\"x\"},\"y\":{\"field\":\"y\"}},\"id\":\"6010\",\"type\":\"Circle\"},{\"attributes\":{},\"id\":\"6331\",\"type\":\"Selection\"},{\"attributes\":{\"label\":{\"value\":\"Polish elite sportsmen\"},\"renderers\":[{\"id\":\"6149\",\"type\":\"GlyphRenderer\"}]},\"id\":\"6179\",\"type\":\"LegendItem\"},{\"attributes\":{\"column_name\":\"label\",\"group\":\"GTS family O\"},\"id\":\"6090\",\"type\":\"GroupFilter\"},{\"attributes\":{\"fill_alpha\":{\"value\":0.1},\"fill_color\":{\"value\":\"#1f77b4\"},\"line_alpha\":{\"value\":0.1},\"line_color\":{\"value\":\"#1f77b4\"},\"x\":{\"field\":\"x\"},\"y\":{\"field\":\"y\"}},\"id\":\"6088\",\"type\":\"Circle\"},{\"attributes\":{},\"id\":\"5993\",\"type\":\"ResetTool\"},{\"attributes\":{\"data_source\":{\"id\":\"6004\",\"type\":\"ColumnDataSource\"},\"glyph\":{\"id\":\"6093\",\"type\":\"Circle\"},\"hover_glyph\":null,\"muted_glyph\":null,\"nonselection_glyph\":{\"id\":\"6094\",\"type\":\"Circle\"},\"selection_glyph\":null,\"view\":{\"id\":\"6091\",\"type\":\"CDSView\"}},\"id\":\"6095\",\"type\":\"GlyphRenderer\"},{\"attributes\":{\"callback\":null},\"id\":\"5973\",\"type\":\"DataRange1d\"},{\"attributes\":{\"fill_color\":{\"field\":\"label\",\"transform\":{\"id\":\"6005\",\"type\":\"CategoricalColorMapper\"}},\"line_color\":{\"field\":\"label\",\"transform\":{\"id\":\"6005\",\"type\":\"CategoricalColorMapper\"}},\"x\":{\"field\":\"x\"},\"y\":{\"field\":\"y\"}},\"id\":\"6093\",\"type\":\"Circle\"},{\"attributes\":{},\"id\":\"5989\",\"type\":\"PanTool\"},{\"attributes\":{\"filters\":[{\"id\":\"6090\",\"type\":\"GroupFilter\"}],\"source\":{\"id\":\"6004\",\"type\":\"ColumnDataSource\"}},\"id\":\"6091\",\"type\":\"CDSView\"},{\"attributes\":{\"data_source\":{\"id\":\"6004\",\"type\":\"ColumnDataSource\"},\"glyph\":{\"id\":\"6117\",\"type\":\"Circle\"},\"hover_glyph\":null,\"muted_glyph\":null,\"nonselection_glyph\":{\"id\":\"6118\",\"type\":\"Circle\"},\"selection_glyph\":null,\"view\":{\"id\":\"6115\",\"type\":\"CDSView\"}},\"id\":\"6119\",\"type\":\"GlyphRenderer\"},{\"attributes\":{},\"id\":\"5992\",\"type\":\"SaveTool\"},{\"attributes\":{\"fill_color\":{\"field\":\"label\",\"transform\":{\"id\":\"6005\",\"type\":\"CategoricalColorMapper\"}},\"line_color\":{\"field\":\"label\",\"transform\":{\"id\":\"6005\",\"type\":\"CategoricalColorMapper\"}},\"x\":{\"field\":\"x\"},\"y\":{\"field\":\"y\"}},\"id\":\"6117\",\"type\":\"Circle\"},{\"attributes\":{\"column_name\":\"label\",\"group\":\"GTS family P\"},\"id\":\"6096\",\"type\":\"GroupFilter\"},{\"attributes\":{\"fill_alpha\":{\"value\":0.1},\"fill_color\":{\"value\":\"#1f77b4\"},\"line_alpha\":{\"value\":0.1},\"line_color\":{\"value\":\"#1f77b4\"},\"x\":{\"field\":\"x\"},\"y\":{\"field\":\"y\"}},\"id\":\"6094\",\"type\":\"Circle\"},{\"attributes\":{\"data_source\":{\"id\":\"6004\",\"type\":\"ColumnDataSource\"},\"glyph\":{\"id\":\"6099\",\"type\":\"Circle\"},\"hover_glyph\":null,\"muted_glyph\":null,\"nonselection_glyph\":{\"id\":\"6100\",\"type\":\"Circle\"},\"selection_glyph\":null,\"view\":{\"id\":\"6097\",\"type\":\"CDSView\"}},\"id\":\"6101\",\"type\":\"GlyphRenderer\"},{\"attributes\":{\"label\":{\"value\":\"Polish synthetic controls\"},\"renderers\":[{\"id\":\"6155\",\"type\":\"GlyphRenderer\"}]},\"id\":\"6180\",\"type\":\"LegendItem\"},{\"attributes\":{\"fill_color\":{\"field\":\"label\",\"transform\":{\"id\":\"6005\",\"type\":\"CategoricalColorMapper\"}},\"line_color\":{\"field\":\"label\",\"transform\":{\"id\":\"6005\",\"type\":\"CategoricalColorMapper\"}},\"x\":{\"field\":\"x\"},\"y\":{\"field\":\"y\"}},\"id\":\"6099\",\"type\":\"Circle\"},{\"attributes\":{\"column_name\":\"label\",\"group\":\"GTS family T\"},\"id\":\"6114\",\"type\":\"GroupFilter\"},{\"attributes\":{\"overlay\":{\"id\":\"6332\",\"type\":\"BoxAnnotation\"}},\"id\":\"5991\",\"type\":\"BoxZoomTool\"},{\"attributes\":{\"filters\":[{\"id\":\"6096\",\"type\":\"GroupFilter\"}],\"source\":{\"id\":\"6004\",\"type\":\"ColumnDataSource\"}},\"id\":\"6097\",\"type\":\"CDSView\"},{\"attributes\":{},\"id\":\"5994\",\"type\":\"HelpTool\"},{\"attributes\":{\"ticker\":{\"id\":\"5980\",\"type\":\"BasicTicker\"}},\"id\":\"5983\",\"type\":\"Grid\"},{\"attributes\":{\"filters\":[{\"id\":\"6114\",\"type\":\"GroupFilter\"}],\"source\":{\"id\":\"6004\",\"type\":\"ColumnDataSource\"}},\"id\":\"6115\",\"type\":\"CDSView\"},{\"attributes\":{\"fill_color\":{\"field\":\"label\",\"transform\":{\"id\":\"6005\",\"type\":\"CategoricalColorMapper\"}},\"line_color\":{\"field\":\"label\",\"transform\":{\"id\":\"6005\",\"type\":\"CategoricalColorMapper\"}},\"x\":{\"field\":\"x\"},\"y\":{\"field\":\"y\"}},\"id\":\"6033\",\"type\":\"Circle\"},{\"attributes\":{\"column_name\":\"label\",\"group\":\"GTS family R\"},\"id\":\"6102\",\"type\":\"GroupFilter\"},{\"attributes\":{\"fill_alpha\":{\"value\":0.1},\"fill_color\":{\"value\":\"#1f77b4\"},\"line_alpha\":{\"value\":0.1},\"line_color\":{\"value\":\"#1f77b4\"},\"x\":{\"field\":\"x\"},\"y\":{\"field\":\"y\"}},\"id\":\"6100\",\"type\":\"Circle\"},{\"attributes\":{\"column_name\":\"label\",\"group\":\"GTS family D\"},\"id\":\"6030\",\"type\":\"GroupFilter\"},{\"attributes\":{\"data_source\":{\"id\":\"6004\",\"type\":\"ColumnDataSource\"},\"glyph\":{\"id\":\"6129\",\"type\":\"Circle\"},\"hover_glyph\":null,\"muted_glyph\":null,\"nonselection_glyph\":{\"id\":\"6130\",\"type\":\"Circle\"},\"selection_glyph\":null,\"view\":{\"id\":\"6127\",\"type\":\"CDSView\"}},\"id\":\"6131\",\"type\":\"GlyphRenderer\"},{\"attributes\":{\"dimension\":1,\"ticker\":{\"id\":\"5985\",\"type\":\"BasicTicker\"}},\"id\":\"5988\",\"type\":\"Grid\"},{\"attributes\":{\"filters\":[{\"id\":\"6102\",\"type\":\"GroupFilter\"}],\"source\":{\"id\":\"6004\",\"type\":\"ColumnDataSource\"}},\"id\":\"6103\",\"type\":\"CDSView\"},{\"attributes\":{},\"id\":\"5985\",\"type\":\"BasicTicker\"},{\"attributes\":{\"fill_color\":{\"field\":\"label\",\"transform\":{\"id\":\"6005\",\"type\":\"CategoricalColorMapper\"}},\"line_color\":{\"field\":\"label\",\"transform\":{\"id\":\"6005\",\"type\":\"CategoricalColorMapper\"}},\"x\":{\"field\":\"x\"},\"y\":{\"field\":\"y\"}},\"id\":\"6129\",\"type\":\"Circle\"},{\"attributes\":{\"data_source\":{\"id\":\"6004\",\"type\":\"ColumnDataSource\"},\"glyph\":{\"id\":\"6033\",\"type\":\"Circle\"},\"hover_glyph\":null,\"muted_glyph\":null,\"nonselection_glyph\":{\"id\":\"6034\",\"type\":\"Circle\"},\"selection_glyph\":null,\"view\":{\"id\":\"6031\",\"type\":\"CDSView\"}},\"id\":\"6035\",\"type\":\"GlyphRenderer\"},{\"attributes\":{\"fill_alpha\":{\"value\":0.1},\"fill_color\":{\"value\":\"#1f77b4\"},\"line_alpha\":{\"value\":0.1},\"line_color\":{\"value\":\"#1f77b4\"},\"x\":{\"field\":\"x\"},\"y\":{\"field\":\"y\"}},\"id\":\"6124\",\"type\":\"Circle\"},{\"attributes\":{\"label\":{\"value\":\"GTS family T\"},\"renderers\":[{\"id\":\"6119\",\"type\":\"GlyphRenderer\"}]},\"id\":\"6174\",\"type\":\"LegendItem\"},{\"attributes\":{\"column_name\":\"label\",\"group\":\"GTS family W\"},\"id\":\"6126\",\"type\":\"GroupFilter\"},{\"attributes\":{\"filters\":[{\"id\":\"6126\",\"type\":\"GroupFilter\"}],\"source\":{\"id\":\"6004\",\"type\":\"ColumnDataSource\"}},\"id\":\"6127\",\"type\":\"CDSView\"},{\"attributes\":{\"label\":{\"value\":\"GTS family W\"},\"renderers\":[{\"id\":\"6131\",\"type\":\"GlyphRenderer\"}]},\"id\":\"6176\",\"type\":\"LegendItem\"},{\"attributes\":{\"column_name\":\"label\",\"group\":\"GTS\"},\"id\":\"6006\",\"type\":\"GroupFilter\"},{\"attributes\":{\"column_name\":\"label\",\"group\":\"GTS family X\"},\"id\":\"6132\",\"type\":\"GroupFilter\"},{\"attributes\":{\"color_mapper\":null,\"formatter\":{\"id\":\"6326\",\"type\":\"BasicTickFormatter\"},\"ticker\":{\"id\":\"6327\",\"type\":\"BasicTicker\"},\"visible\":false},\"id\":\"6182\",\"type\":\"ColorBar\"},{\"attributes\":{\"fill_alpha\":{\"value\":0.1},\"fill_color\":{\"value\":\"#1f77b4\"},\"line_alpha\":{\"value\":0.1},\"line_color\":{\"value\":\"#1f77b4\"},\"x\":{\"field\":\"x\"},\"y\":{\"field\":\"y\"}},\"id\":\"6130\",\"type\":\"Circle\"},{\"attributes\":{\"data_source\":{\"id\":\"6004\",\"type\":\"ColumnDataSource\"},\"glyph\":{\"id\":\"6009\",\"type\":\"Circle\"},\"hover_glyph\":null,\"muted_glyph\":null,\"nonselection_glyph\":{\"id\":\"6010\",\"type\":\"Circle\"},\"selection_glyph\":null,\"view\":{\"id\":\"6007\",\"type\":\"CDSView\"}},\"id\":\"6011\",\"type\":\"GlyphRenderer\"},{\"attributes\":{\"data_source\":{\"id\":\"6004\",\"type\":\"ColumnDataSource\"},\"glyph\":{\"id\":\"6135\",\"type\":\"Circle\"},\"hover_glyph\":null,\"muted_glyph\":null,\"nonselection_glyph\":{\"id\":\"6136\",\"type\":\"Circle\"},\"selection_glyph\":null,\"view\":{\"id\":\"6133\",\"type\":\"CDSView\"}},\"id\":\"6137\",\"type\":\"GlyphRenderer\"},{\"attributes\":{\"fill_color\":{\"field\":\"label\",\"transform\":{\"id\":\"6005\",\"type\":\"CategoricalColorMapper\"}},\"line_color\":{\"field\":\"label\",\"transform\":{\"id\":\"6005\",\"type\":\"CategoricalColorMapper\"}},\"x\":{\"field\":\"x\"},\"y\":{\"field\":\"y\"}},\"id\":\"6015\",\"type\":\"Circle\"},{\"attributes\":{\"fill_color\":{\"field\":\"label\",\"transform\":{\"id\":\"6005\",\"type\":\"CategoricalColorMapper\"}},\"line_color\":{\"field\":\"label\",\"transform\":{\"id\":\"6005\",\"type\":\"CategoricalColorMapper\"}},\"x\":{\"field\":\"x\"},\"y\":{\"field\":\"y\"}},\"id\":\"6135\",\"type\":\"Circle\"},{\"attributes\":{\"filters\":[{\"id\":\"6006\",\"type\":\"GroupFilter\"}],\"source\":{\"id\":\"6004\",\"type\":\"ColumnDataSource\"}},\"id\":\"6007\",\"type\":\"CDSView\"},{\"attributes\":{},\"id\":\"6326\",\"type\":\"BasicTickFormatter\"},{\"attributes\":{\"filters\":[{\"id\":\"6132\",\"type\":\"GroupFilter\"}],\"source\":{\"id\":\"6004\",\"type\":\"ColumnDataSource\"}},\"id\":\"6133\",\"type\":\"CDSView\"},{\"attributes\":{\"fill_color\":{\"field\":\"label\",\"transform\":{\"id\":\"6005\",\"type\":\"CategoricalColorMapper\"}},\"line_color\":{\"field\":\"label\",\"transform\":{\"id\":\"6005\",\"type\":\"CategoricalColorMapper\"}},\"x\":{\"field\":\"x\"},\"y\":{\"field\":\"y\"}},\"id\":\"6027\",\"type\":\"Circle\"},{\"attributes\":{\"filters\":[{\"id\":\"6024\",\"type\":\"GroupFilter\"}],\"source\":{\"id\":\"6004\",\"type\":\"ColumnDataSource\"}},\"id\":\"6025\",\"type\":\"CDSView\"},{\"attributes\":{\"column_name\":\"label\",\"group\":\"GTS family Y\"},\"id\":\"6138\",\"type\":\"GroupFilter\"},{\"attributes\":{\"fill_alpha\":{\"value\":0.1},\"fill_color\":{\"value\":\"#1f77b4\"},\"line_alpha\":{\"value\":0.1},\"line_color\":{\"value\":\"#1f77b4\"},\"x\":{\"field\":\"x\"},\"y\":{\"field\":\"y\"}},\"id\":\"6028\",\"type\":\"Circle\"},{\"attributes\":{\"fill_alpha\":{\"value\":0.1},\"fill_color\":{\"value\":\"#1f77b4\"},\"line_alpha\":{\"value\":0.1},\"line_color\":{\"value\":\"#1f77b4\"},\"x\":{\"field\":\"x\"},\"y\":{\"field\":\"y\"}},\"id\":\"6136\",\"type\":\"Circle\"},{\"attributes\":{\"label\":{\"value\":\"GTS family Y\"},\"renderers\":[{\"id\":\"6143\",\"type\":\"GlyphRenderer\"}]},\"id\":\"6178\",\"type\":\"LegendItem\"},{\"attributes\":{\"data_source\":{\"id\":\"6004\",\"type\":\"ColumnDataSource\"},\"glyph\":{\"id\":\"6141\",\"type\":\"Circle\"},\"hover_glyph\":null,\"muted_glyph\":null,\"nonselection_glyph\":{\"id\":\"6142\",\"type\":\"Circle\"},\"selection_glyph\":null,\"view\":{\"id\":\"6139\",\"type\":\"CDSView\"}},\"id\":\"6143\",\"type\":\"GlyphRenderer\"},{\"attributes\":{\"fill_color\":{\"field\":\"label\",\"transform\":{\"id\":\"6005\",\"type\":\"CategoricalColorMapper\"}},\"line_color\":{\"field\":\"label\",\"transform\":{\"id\":\"6005\",\"type\":\"CategoricalColorMapper\"}},\"x\":{\"field\":\"x\"},\"y\":{\"field\":\"y\"}},\"id\":\"6141\",\"type\":\"Circle\"},{\"attributes\":{\"filters\":[{\"id\":\"6138\",\"type\":\"GroupFilter\"}],\"source\":{\"id\":\"6004\",\"type\":\"ColumnDataSource\"}},\"id\":\"6139\",\"type\":\"CDSView\"},{\"attributes\":{},\"id\":\"6327\",\"type\":\"BasicTicker\"},{\"attributes\":{\"label\":{\"value\":\"GTS family P\"},\"renderers\":[{\"id\":\"6101\",\"type\":\"GlyphRenderer\"}]},\"id\":\"6171\",\"type\":\"LegendItem\"},{\"attributes\":{\"column_name\":\"label\",\"group\":\"Polish elite sportsmen\"},\"id\":\"6144\",\"type\":\"GroupFilter\"},{\"attributes\":{\"fill_alpha\":{\"value\":0.1},\"fill_color\":{\"value\":\"#1f77b4\"},\"line_alpha\":{\"value\":0.1},\"line_color\":{\"value\":\"#1f77b4\"},\"x\":{\"field\":\"x\"},\"y\":{\"field\":\"y\"}},\"id\":\"6142\",\"type\":\"Circle\"},{\"attributes\":{\"label\":{\"value\":\"GTS family O\"},\"renderers\":[{\"id\":\"6095\",\"type\":\"GlyphRenderer\"}]},\"id\":\"6170\",\"type\":\"LegendItem\"},{\"attributes\":{\"text\":\"PCA\"},\"id\":\"5969\",\"type\":\"Title\"},{\"attributes\":{\"data_source\":{\"id\":\"6004\",\"type\":\"ColumnDataSource\"},\"glyph\":{\"id\":\"6147\",\"type\":\"Circle\"},\"hover_glyph\":null,\"muted_glyph\":null,\"nonselection_glyph\":{\"id\":\"6148\",\"type\":\"Circle\"},\"selection_glyph\":null,\"view\":{\"id\":\"6145\",\"type\":\"CDSView\"}},\"id\":\"6149\",\"type\":\"GlyphRenderer\"},{\"attributes\":{\"fill_color\":{\"field\":\"label\",\"transform\":{\"id\":\"6005\",\"type\":\"CategoricalColorMapper\"}},\"line_color\":{\"field\":\"label\",\"transform\":{\"id\":\"6005\",\"type\":\"CategoricalColorMapper\"}},\"x\":{\"field\":\"x\"},\"y\":{\"field\":\"y\"}},\"id\":\"6147\",\"type\":\"Circle\"},{\"attributes\":{\"label\":{\"value\":\"GTS family M\"},\"renderers\":[{\"id\":\"6089\",\"type\":\"GlyphRenderer\"}]},\"id\":\"6169\",\"type\":\"LegendItem\"},{\"attributes\":{\"filters\":[{\"id\":\"6144\",\"type\":\"GroupFilter\"}],\"source\":{\"id\":\"6004\",\"type\":\"ColumnDataSource\"}},\"id\":\"6145\",\"type\":\"CDSView\"},{\"attributes\":{\"callback\":null},\"id\":\"5971\",\"type\":\"DataRange1d\"},{\"attributes\":{\"label\":{\"value\":\"GTS family L\"},\"renderers\":[{\"id\":\"6083\",\"type\":\"GlyphRenderer\"}]},\"id\":\"6168\",\"type\":\"LegendItem\"},{\"attributes\":{\"label\":{\"value\":\"GTS family K\"},\"renderers\":[{\"id\":\"6077\",\"type\":\"GlyphRenderer\"}]},\"id\":\"6167\",\"type\":\"LegendItem\"},{\"attributes\":{\"column_name\":\"label\",\"group\":\"Polish synthetic controls\"},\"id\":\"6150\",\"type\":\"GroupFilter\"},{\"attributes\":{\"fill_alpha\":{\"value\":0.1},\"fill_color\":{\"value\":\"#1f77b4\"},\"line_alpha\":{\"value\":0.1},\"line_color\":{\"value\":\"#1f77b4\"},\"x\":{\"field\":\"x\"},\"y\":{\"field\":\"y\"}},\"id\":\"6148\",\"type\":\"Circle\"},{\"attributes\":{\"label\":{\"value\":\"GTS family J\"},\"renderers\":[{\"id\":\"6071\",\"type\":\"GlyphRenderer\"}]},\"id\":\"6166\",\"type\":\"LegendItem\"},{\"attributes\":{\"data_source\":{\"id\":\"6004\",\"type\":\"ColumnDataSource\"},\"glyph\":{\"id\":\"6153\",\"type\":\"Circle\"},\"hover_glyph\":null,\"muted_glyph\":null,\"nonselection_glyph\":{\"id\":\"6154\",\"type\":\"Circle\"},\"selection_glyph\":null,\"view\":{\"id\":\"6151\",\"type\":\"CDSView\"}},\"id\":\"6155\",\"type\":\"GlyphRenderer\"},{\"attributes\":{\"fill_color\":{\"field\":\"label\",\"transform\":{\"id\":\"6005\",\"type\":\"CategoricalColorMapper\"}},\"line_color\":{\"field\":\"label\",\"transform\":{\"id\":\"6005\",\"type\":\"CategoricalColorMapper\"}},\"x\":{\"field\":\"x\"},\"y\":{\"field\":\"y\"}},\"id\":\"6021\",\"type\":\"Circle\"},{\"attributes\":{\"label\":{\"value\":\"GTS family I\"},\"renderers\":[{\"id\":\"6065\",\"type\":\"GlyphRenderer\"}]},\"id\":\"6165\",\"type\":\"LegendItem\"},{\"attributes\":{\"fill_color\":{\"field\":\"label\",\"transform\":{\"id\":\"6005\",\"type\":\"CategoricalColorMapper\"}},\"line_color\":{\"field\":\"label\",\"transform\":{\"id\":\"6005\",\"type\":\"CategoricalColorMapper\"}},\"x\":{\"field\":\"x\"},\"y\":{\"field\":\"y\"}},\"id\":\"6153\",\"type\":\"Circle\"},{\"attributes\":{\"filters\":[{\"id\":\"6150\",\"type\":\"GroupFilter\"}],\"source\":{\"id\":\"6004\",\"type\":\"ColumnDataSource\"}},\"id\":\"6151\",\"type\":\"CDSView\"},{\"attributes\":{\"label\":{\"value\":\"GTS family H\"},\"renderers\":[{\"id\":\"6059\",\"type\":\"GlyphRenderer\"}]},\"id\":\"6164\",\"type\":\"LegendItem\"},{\"attributes\":{\"label\":{\"value\":\"GTS family G\"},\"renderers\":[{\"id\":\"6053\",\"type\":\"GlyphRenderer\"}]},\"id\":\"6163\",\"type\":\"LegendItem\"},{\"attributes\":{\"fill_alpha\":{\"value\":0.1},\"fill_color\":{\"value\":\"#1f77b4\"},\"line_alpha\":{\"value\":0.1},\"line_color\":{\"value\":\"#1f77b4\"},\"x\":{\"field\":\"x\"},\"y\":{\"field\":\"y\"}},\"id\":\"6154\",\"type\":\"Circle\"},{\"attributes\":{\"label\":{\"value\":\"GTS family F\"},\"renderers\":[{\"id\":\"6047\",\"type\":\"GlyphRenderer\"}]},\"id\":\"6162\",\"type\":\"LegendItem\"},{\"attributes\":{\"label\":{\"value\":\"GTS family E\"},\"renderers\":[{\"id\":\"6041\",\"type\":\"GlyphRenderer\"}]},\"id\":\"6161\",\"type\":\"LegendItem\"},{\"attributes\":{\"label\":{\"value\":\"GTS family D\"},\"renderers\":[{\"id\":\"6035\",\"type\":\"GlyphRenderer\"}]},\"id\":\"6160\",\"type\":\"LegendItem\"},{\"attributes\":{\"click_policy\":\"hide\",\"items\":[{\"id\":\"6156\",\"type\":\"LegendItem\"},{\"id\":\"6157\",\"type\":\"LegendItem\"},{\"id\":\"6158\",\"type\":\"LegendItem\"},{\"id\":\"6159\",\"type\":\"LegendItem\"},{\"id\":\"6160\",\"type\":\"LegendItem\"},{\"id\":\"6161\",\"type\":\"LegendItem\"},{\"id\":\"6162\",\"type\":\"LegendItem\"},{\"id\":\"6163\",\"type\":\"LegendItem\"},{\"id\":\"6164\",\"type\":\"LegendItem\"},{\"id\":\"6165\",\"type\":\"LegendItem\"},{\"id\":\"6166\",\"type\":\"LegendItem\"},{\"id\":\"6167\",\"type\":\"LegendItem\"},{\"id\":\"6168\",\"type\":\"LegendItem\"},{\"id\":\"6169\",\"type\":\"LegendItem\"},{\"id\":\"6170\",\"type\":\"LegendItem\"},{\"id\":\"6171\",\"type\":\"LegendItem\"},{\"id\":\"6172\",\"type\":\"LegendItem\"},{\"id\":\"6173\",\"type\":\"LegendItem\"},{\"id\":\"6174\",\"type\":\"LegendItem\"},{\"id\":\"6175\",\"type\":\"LegendItem\"},{\"id\":\"6176\",\"type\":\"LegendItem\"},{\"id\":\"6177\",\"type\":\"LegendItem\"},{\"id\":\"6178\",\"type\":\"LegendItem\"},{\"id\":\"6179\",\"type\":\"LegendItem\"},{\"id\":\"6180\",\"type\":\"LegendItem\"}]},\"id\":\"6181\",\"type\":\"Legend\"},{\"attributes\":{\"label\":{\"value\":\"GTS family C\"},\"renderers\":[{\"id\":\"6029\",\"type\":\"GlyphRenderer\"}]},\"id\":\"6159\",\"type\":\"LegendItem\"},{\"attributes\":{\"label\":{\"value\":\"GTS family B\"},\"renderers\":[{\"id\":\"6023\",\"type\":\"GlyphRenderer\"}]},\"id\":\"6158\",\"type\":\"LegendItem\"},{\"attributes\":{\"label\":{\"value\":\"GTS\"},\"renderers\":[{\"id\":\"6011\",\"type\":\"GlyphRenderer\"}]},\"id\":\"6156\",\"type\":\"LegendItem\"},{\"attributes\":{\"label\":{\"value\":\"GTS family A\"},\"renderers\":[{\"id\":\"6017\",\"type\":\"GlyphRenderer\"}]},\"id\":\"6157\",\"type\":\"LegendItem\"},{\"attributes\":{\"column_name\":\"label\",\"group\":\"GTS family A\"},\"id\":\"6012\",\"type\":\"GroupFilter\"},{\"attributes\":{\"filters\":[{\"id\":\"6012\",\"type\":\"GroupFilter\"}],\"source\":{\"id\":\"6004\",\"type\":\"ColumnDataSource\"}},\"id\":\"6013\",\"type\":\"CDSView\"},{\"attributes\":{\"fill_alpha\":{\"value\":0.1},\"fill_color\":{\"value\":\"#1f77b4\"},\"line_alpha\":{\"value\":0.1},\"line_color\":{\"value\":\"#1f77b4\"},\"x\":{\"field\":\"x\"},\"y\":{\"field\":\"y\"}},\"id\":\"6112\",\"type\":\"Circle\"},{\"attributes\":{\"data_source\":{\"id\":\"6004\",\"type\":\"ColumnDataSource\"},\"glyph\":{\"id\":\"6015\",\"type\":\"Circle\"},\"hover_glyph\":null,\"muted_glyph\":null,\"nonselection_glyph\":{\"id\":\"6016\",\"type\":\"Circle\"},\"selection_glyph\":null,\"view\":{\"id\":\"6013\",\"type\":\"CDSView\"}},\"id\":\"6017\",\"type\":\"GlyphRenderer\"},{\"attributes\":{\"column_name\":\"label\",\"group\":\"GTS family C\"},\"id\":\"6024\",\"type\":\"GroupFilter\"},{\"attributes\":{\"data_source\":{\"id\":\"6004\",\"type\":\"ColumnDataSource\"},\"glyph\":{\"id\":\"6021\",\"type\":\"Circle\"},\"hover_glyph\":null,\"muted_glyph\":null,\"nonselection_glyph\":{\"id\":\"6022\",\"type\":\"Circle\"},\"selection_glyph\":null,\"view\":{\"id\":\"6019\",\"type\":\"CDSView\"}},\"id\":\"6023\",\"type\":\"GlyphRenderer\"},{\"attributes\":{\"column_name\":\"label\",\"group\":\"GTS family B\"},\"id\":\"6018\",\"type\":\"GroupFilter\"},{\"attributes\":{\"fill_alpha\":{\"value\":0.1},\"fill_color\":{\"value\":\"#1f77b4\"},\"line_alpha\":{\"value\":0.1},\"line_color\":{\"value\":\"#1f77b4\"},\"x\":{\"field\":\"x\"},\"y\":{\"field\":\"y\"}},\"id\":\"6016\",\"type\":\"Circle\"},{\"attributes\":{\"filters\":[{\"id\":\"6108\",\"type\":\"GroupFilter\"}],\"source\":{\"id\":\"6004\",\"type\":\"ColumnDataSource\"}},\"id\":\"6109\",\"type\":\"CDSView\"},{\"attributes\":{\"fill_alpha\":{\"value\":0.1},\"fill_color\":{\"value\":\"#1f77b4\"},\"line_alpha\":{\"value\":0.1},\"line_color\":{\"value\":\"#1f77b4\"},\"x\":{\"field\":\"x\"},\"y\":{\"field\":\"y\"}},\"id\":\"6022\",\"type\":\"Circle\"},{\"attributes\":{},\"id\":\"6328\",\"type\":\"BasicTickFormatter\"},{\"attributes\":{\"filters\":[{\"id\":\"6018\",\"type\":\"GroupFilter\"}],\"source\":{\"id\":\"6004\",\"type\":\"ColumnDataSource\"}},\"id\":\"6019\",\"type\":\"CDSView\"},{\"attributes\":{\"column_name\":\"label\",\"group\":\"GTS family E\"},\"id\":\"6036\",\"type\":\"GroupFilter\"},{\"attributes\":{\"filters\":[{\"id\":\"6030\",\"type\":\"GroupFilter\"}],\"source\":{\"id\":\"6004\",\"type\":\"ColumnDataSource\"}},\"id\":\"6031\",\"type\":\"CDSView\"},{\"attributes\":{\"fill_alpha\":{\"value\":0.1},\"fill_color\":{\"value\":\"#1f77b4\"},\"line_alpha\":{\"value\":0.1},\"line_color\":{\"value\":\"#1f77b4\"},\"x\":{\"field\":\"x\"},\"y\":{\"field\":\"y\"}},\"id\":\"6034\",\"type\":\"Circle\"},{\"attributes\":{\"data_source\":{\"id\":\"6004\",\"type\":\"ColumnDataSource\"},\"glyph\":{\"id\":\"6039\",\"type\":\"Circle\"},\"hover_glyph\":null,\"muted_glyph\":null,\"nonselection_glyph\":{\"id\":\"6040\",\"type\":\"Circle\"},\"selection_glyph\":null,\"view\":{\"id\":\"6037\",\"type\":\"CDSView\"}},\"id\":\"6041\",\"type\":\"GlyphRenderer\"},{\"attributes\":{\"fill_color\":{\"field\":\"label\",\"transform\":{\"id\":\"6005\",\"type\":\"CategoricalColorMapper\"}},\"line_color\":{\"field\":\"label\",\"transform\":{\"id\":\"6005\",\"type\":\"CategoricalColorMapper\"}},\"x\":{\"field\":\"x\"},\"y\":{\"field\":\"y\"}},\"id\":\"6039\",\"type\":\"Circle\"},{\"attributes\":{\"filters\":[{\"id\":\"6036\",\"type\":\"GroupFilter\"}],\"source\":{\"id\":\"6004\",\"type\":\"ColumnDataSource\"}},\"id\":\"6037\",\"type\":\"CDSView\"},{\"attributes\":{\"data_source\":{\"id\":\"6004\",\"type\":\"ColumnDataSource\"},\"glyph\":{\"id\":\"6111\",\"type\":\"Circle\"},\"hover_glyph\":null,\"muted_glyph\":null,\"nonselection_glyph\":{\"id\":\"6112\",\"type\":\"Circle\"},\"selection_glyph\":null,\"view\":{\"id\":\"6109\",\"type\":\"CDSView\"}},\"id\":\"6113\",\"type\":\"GlyphRenderer\"},{\"attributes\":{\"fill_alpha\":{\"value\":0.1},\"fill_color\":{\"value\":\"#1f77b4\"},\"line_alpha\":{\"value\":0.1},\"line_color\":{\"value\":\"#1f77b4\"},\"x\":{\"field\":\"x\"},\"y\":{\"field\":\"y\"}},\"id\":\"6040\",\"type\":\"Circle\"},{\"attributes\":{\"fill_color\":{\"field\":\"label\",\"transform\":{\"id\":\"6005\",\"type\":\"CategoricalColorMapper\"}},\"line_color\":{\"field\":\"label\",\"transform\":{\"id\":\"6005\",\"type\":\"CategoricalColorMapper\"}},\"x\":{\"field\":\"x\"},\"y\":{\"field\":\"y\"}},\"id\":\"6045\",\"type\":\"Circle\"},{\"attributes\":{\"column_name\":\"label\",\"group\":\"GTS family F\"},\"id\":\"6042\",\"type\":\"GroupFilter\"},{\"attributes\":{\"filters\":[{\"id\":\"6042\",\"type\":\"GroupFilter\"}],\"source\":{\"id\":\"6004\",\"type\":\"ColumnDataSource\"}},\"id\":\"6043\",\"type\":\"CDSView\"},{\"attributes\":{\"data_source\":{\"id\":\"6004\",\"type\":\"ColumnDataSource\"},\"glyph\":{\"id\":\"6045\",\"type\":\"Circle\"},\"hover_glyph\":null,\"muted_glyph\":null,\"nonselection_glyph\":{\"id\":\"6046\",\"type\":\"Circle\"},\"selection_glyph\":null,\"view\":{\"id\":\"6043\",\"type\":\"CDSView\"}},\"id\":\"6047\",\"type\":\"GlyphRenderer\"},{\"attributes\":{\"column_name\":\"label\",\"group\":\"GTS family S\"},\"id\":\"6108\",\"type\":\"GroupFilter\"},{\"attributes\":{\"data_source\":{\"id\":\"6004\",\"type\":\"ColumnDataSource\"},\"glyph\":{\"id\":\"6105\",\"type\":\"Circle\"},\"hover_glyph\":null,\"muted_glyph\":null,\"nonselection_glyph\":{\"id\":\"6106\",\"type\":\"Circle\"},\"selection_glyph\":null,\"view\":{\"id\":\"6103\",\"type\":\"CDSView\"}},\"id\":\"6107\",\"type\":\"GlyphRenderer\"},{\"attributes\":{\"fill_alpha\":{\"value\":0.1},\"fill_color\":{\"value\":\"#1f77b4\"},\"line_alpha\":{\"value\":0.1},\"line_color\":{\"value\":\"#1f77b4\"},\"x\":{\"field\":\"x\"},\"y\":{\"field\":\"y\"}},\"id\":\"6046\",\"type\":\"Circle\"},{\"attributes\":{\"fill_color\":{\"field\":\"label\",\"transform\":{\"id\":\"6005\",\"type\":\"CategoricalColorMapper\"}},\"line_color\":{\"field\":\"label\",\"transform\":{\"id\":\"6005\",\"type\":\"CategoricalColorMapper\"}},\"x\":{\"field\":\"x\"},\"y\":{\"field\":\"y\"}},\"id\":\"6051\",\"type\":\"Circle\"},{\"attributes\":{\"label\":{\"value\":\"GTS family S\"},\"renderers\":[{\"id\":\"6113\",\"type\":\"GlyphRenderer\"}]},\"id\":\"6173\",\"type\":\"LegendItem\"},{\"attributes\":{\"column_name\":\"label\",\"group\":\"GTS family G\"},\"id\":\"6048\",\"type\":\"GroupFilter\"},{\"attributes\":{\"filters\":[{\"id\":\"6048\",\"type\":\"GroupFilter\"}],\"source\":{\"id\":\"6004\",\"type\":\"ColumnDataSource\"}},\"id\":\"6049\",\"type\":\"CDSView\"},{\"attributes\":{},\"id\":\"5990\",\"type\":\"WheelZoomTool\"},{\"attributes\":{\"data_source\":{\"id\":\"6004\",\"type\":\"ColumnDataSource\"},\"glyph\":{\"id\":\"6051\",\"type\":\"Circle\"},\"hover_glyph\":null,\"muted_glyph\":null,\"nonselection_glyph\":{\"id\":\"6052\",\"type\":\"Circle\"},\"selection_glyph\":null,\"view\":{\"id\":\"6049\",\"type\":\"CDSView\"}},\"id\":\"6053\",\"type\":\"GlyphRenderer\"},{\"attributes\":{\"fill_color\":{\"field\":\"label\",\"transform\":{\"id\":\"6005\",\"type\":\"CategoricalColorMapper\"}},\"line_color\":{\"field\":\"label\",\"transform\":{\"id\":\"6005\",\"type\":\"CategoricalColorMapper\"}},\"x\":{\"field\":\"x\"},\"y\":{\"field\":\"y\"}},\"id\":\"6111\",\"type\":\"Circle\"},{\"attributes\":{\"fill_alpha\":{\"value\":0.1},\"fill_color\":{\"value\":\"#1f77b4\"},\"line_alpha\":{\"value\":0.1},\"line_color\":{\"value\":\"#1f77b4\"},\"x\":{\"field\":\"x\"},\"y\":{\"field\":\"y\"}},\"id\":\"6106\",\"type\":\"Circle\"},{\"attributes\":{\"column_name\":\"label\",\"group\":\"GTS family H\"},\"id\":\"6054\",\"type\":\"GroupFilter\"},{\"attributes\":{\"fill_alpha\":{\"value\":0.1},\"fill_color\":{\"value\":\"#1f77b4\"},\"line_alpha\":{\"value\":0.1},\"line_color\":{\"value\":\"#1f77b4\"},\"x\":{\"field\":\"x\"},\"y\":{\"field\":\"y\"}},\"id\":\"6052\",\"type\":\"Circle\"},{\"attributes\":{\"data_source\":{\"id\":\"6004\",\"type\":\"ColumnDataSource\"},\"glyph\":{\"id\":\"6057\",\"type\":\"Circle\"},\"hover_glyph\":null,\"muted_glyph\":null,\"nonselection_glyph\":{\"id\":\"6058\",\"type\":\"Circle\"},\"selection_glyph\":null,\"view\":{\"id\":\"6055\",\"type\":\"CDSView\"}},\"id\":\"6059\",\"type\":\"GlyphRenderer\"},{\"attributes\":{\"fill_color\":{\"field\":\"label\",\"transform\":{\"id\":\"6005\",\"type\":\"CategoricalColorMapper\"}},\"line_color\":{\"field\":\"label\",\"transform\":{\"id\":\"6005\",\"type\":\"CategoricalColorMapper\"}},\"x\":{\"field\":\"x\"},\"y\":{\"field\":\"y\"}},\"id\":\"6057\",\"type\":\"Circle\"},{\"attributes\":{\"fill_color\":{\"field\":\"label\",\"transform\":{\"id\":\"6005\",\"type\":\"CategoricalColorMapper\"}},\"line_color\":{\"field\":\"label\",\"transform\":{\"id\":\"6005\",\"type\":\"CategoricalColorMapper\"}},\"x\":{\"field\":\"x\"},\"y\":{\"field\":\"y\"}},\"id\":\"6009\",\"type\":\"Circle\"},{\"attributes\":{\"label\":{\"value\":\"GTS family U\"},\"renderers\":[{\"id\":\"6125\",\"type\":\"GlyphRenderer\"}]},\"id\":\"6175\",\"type\":\"LegendItem\"},{\"attributes\":{\"filters\":[{\"id\":\"6054\",\"type\":\"GroupFilter\"}],\"source\":{\"id\":\"6004\",\"type\":\"ColumnDataSource\"}},\"id\":\"6055\",\"type\":\"CDSView\"},{\"attributes\":{},\"id\":\"6324\",\"type\":\"BasicTickFormatter\"},{\"attributes\":{\"filters\":[{\"id\":\"6060\",\"type\":\"GroupFilter\"}],\"source\":{\"id\":\"6004\",\"type\":\"ColumnDataSource\"}},\"id\":\"6061\",\"type\":\"CDSView\"},{\"attributes\":{\"fill_color\":{\"field\":\"label\",\"transform\":{\"id\":\"6005\",\"type\":\"CategoricalColorMapper\"}},\"line_color\":{\"field\":\"label\",\"transform\":{\"id\":\"6005\",\"type\":\"CategoricalColorMapper\"}},\"x\":{\"field\":\"x\"},\"y\":{\"field\":\"y\"}},\"id\":\"6105\",\"type\":\"Circle\"},{\"attributes\":{},\"id\":\"5975\",\"type\":\"LinearScale\"},{\"attributes\":{\"fill_alpha\":{\"value\":0.1},\"fill_color\":{\"value\":\"#1f77b4\"},\"line_alpha\":{\"value\":0.1},\"line_color\":{\"value\":\"#1f77b4\"},\"x\":{\"field\":\"x\"},\"y\":{\"field\":\"y\"}},\"id\":\"6058\",\"type\":\"Circle\"},{\"attributes\":{\"column_name\":\"label\",\"group\":\"GTS family I\"},\"id\":\"6060\",\"type\":\"GroupFilter\"},{\"attributes\":{\"factors\":[\"GTS family Y\",\"GTS family O\",\"GTS family G\",\"Polish elite sportsmen\",\"GTS family R\",\"GTS family P\",\"GTS family U\",\"GTS family M\",\"GTS family C\",\"GTS family L\",\"GTS family K\",\"Polish synthetic controls\",\"GTS family S\",\"GTS family T\",\"GTS\",\"GTS family W\",\"GTS family J\",\"GTS family I\",\"GTS family E\",\"GTS family X\",\"GTS family A\",\"GTS family H\",\"GTS family D\",\"GTS family B\",\"GTS family F\"],\"palette\":[\"#440154\",\"#470F62\",\"#481E70\",\"#472B7A\",\"#443982\",\"#3F4587\",\"#3B518A\",\"#355C8C\",\"#30678D\",\"#2C718E\",\"#287B8E\",\"#24858D\",\"#208F8C\",\"#1E998A\",\"#1FA386\",\"#27AD80\",\"#35B778\",\"#45BF6F\",\"#5BC862\",\"#72CF55\",\"#8DD644\",\"#AADB32\",\"#C5DF21\",\"#E1E318\",\"#FDE724\"]},\"id\":\"6005\",\"type\":\"CategoricalColorMapper\"},{\"attributes\":{\"fill_color\":{\"field\":\"label\",\"transform\":{\"id\":\"6005\",\"type\":\"CategoricalColorMapper\"}},\"line_color\":{\"field\":\"label\",\"transform\":{\"id\":\"6005\",\"type\":\"CategoricalColorMapper\"}},\"x\":{\"field\":\"x\"},\"y\":{\"field\":\"y\"}},\"id\":\"6063\",\"type\":\"Circle\"}],\"root_ids\":[\"5968\"]},\"title\":\"Bokeh Application\",\"version\":\"1.4.0\"}};\n",
       "  var render_items = [{\"docid\":\"6de95220-a722-495f-a7f3-657164390ebc\",\"roots\":{\"5968\":\"9e748397-6016-4862-b075-2fb067d30a83\"}}];\n",
       "  root.Bokeh.embed.embed_items_notebook(docs_json, render_items);\n",
       "\n",
       "  }\n",
       "  if (root.Bokeh !== undefined) {\n",
       "    embed_document(root);\n",
       "  } else {\n",
       "    var attempts = 0;\n",
       "    var timer = setInterval(function(root) {\n",
       "      if (root.Bokeh !== undefined) {\n",
       "        clearInterval(timer);\n",
       "        embed_document(root);\n",
       "      } else {\n",
       "        attempts++;\n",
       "        if (attempts > 100) {\n",
       "          clearInterval(timer);\n",
       "          console.log(\"Bokeh: ERROR: Unable to run BokehJS code because BokehJS library is missing\");\n",
       "        }\n",
       "      }\n",
       "    }, 10, root)\n",
       "  }\n",
       "})(window);"
      ],
      "application/vnd.bokehjs_exec.v0+json": ""
     },
     "metadata": {
      "application/vnd.bokehjs_exec.v0+json": {
       "id": "5968"
      }
     },
     "output_type": "display_data"
    }
   ],
   "source": [
    "p = hl.plot.scatter(mt['scores_no_filter'][0],\n",
    "                    mt['scores_no_filter'][1],\n",
    "                    label=mt.label,\n",
    "                    title='PCA', xlabel='PC1', ylabel='PC2')\n",
    "show(p)"
   ]
  },
  {
   "cell_type": "code",
   "execution_count": null,
   "id": "0ab89f08-9961-4053-a639-6994fa4950a7",
   "metadata": {},
   "outputs": [],
   "source": []
  }
 ],
 "metadata": {
  "kernelspec": {
   "display_name": "Python 3 (ipykernel)",
   "language": "python",
   "name": "python3"
  },
  "language_info": {
   "codemirror_mode": {
    "name": "ipython",
    "version": 3
   },
   "file_extension": ".py",
   "mimetype": "text/x-python",
   "name": "python",
   "nbconvert_exporter": "python",
   "pygments_lexer": "ipython3",
   "version": "3.10.4"
  }
 },
 "nbformat": 4,
 "nbformat_minor": 5
}
