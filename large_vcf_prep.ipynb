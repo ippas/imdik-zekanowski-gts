{
 "cells": [
  {
   "cell_type": "code",
   "execution_count": 76,
   "metadata": {},
   "outputs": [
    {
     "data": {
      "text/html": [
       "<style>.container { width:100% !important; }</style>"
      ],
      "text/plain": [
       "<IPython.core.display.HTML object>"
      ]
     },
     "metadata": {},
     "output_type": "display_data"
    }
   ],
   "source": [
    "from IPython.display import display\n",
    "from IPython.display import HTML\n",
    "import IPython.core.display as di # Example: di.display_html('<h3>%s:</h3>' % str, raw=True)\n",
    "\n",
    "# This line will hide code by default when the notebook is exported as HTML\n",
    "# di.display_html('<script>jQuery(function() {if (jQuery(\"body.notebook_app\").length == 0) { jQuery(\".input_area\").toggle(); jQuery(\".prompt\").toggle();}});</script>', raw=True)\n",
    "\n",
    "display(HTML(\"<style>.container { width:100% !important; }</style>\"))"
   ]
  },
  {
   "cell_type": "code",
   "execution_count": 2,
   "metadata": {},
   "outputs": [
    {
     "name": "stderr",
     "output_type": "stream",
     "text": [
      "Running on Apache Spark version 2.4.1\n",
      "SparkUI available at http://8c03623a3bed:4040\n",
      "Welcome to\n",
      "     __  __     <>__\n",
      "    / /_/ /__  __/ /\n",
      "   / __  / _ `/ / /\n",
      "  /_/ /_/\\_,_/_/_/   version 0.2.28-61941242c15d\n",
      "LOGGING: writing to /hail/large_vcf_filtering_annotation/hail-20191217-1338-0.2.28-61941242c15d.log\n"
     ]
    }
   ],
   "source": [
    "import hail as hl\n",
    "hl.init() "
   ]
  },
  {
   "cell_type": "code",
   "execution_count": 3,
   "metadata": {},
   "outputs": [
    {
     "data": {
      "text/html": [
       "\n",
       "    <div class=\"bk-root\">\n",
       "        <a href=\"https://bokeh.pydata.org\" target=\"_blank\" class=\"bk-logo bk-logo-small bk-logo-notebook\"></a>\n",
       "        <span id=\"1001\">Loading BokehJS ...</span>\n",
       "    </div>"
      ]
     },
     "metadata": {},
     "output_type": "display_data"
    },
    {
     "data": {
      "application/javascript": [
       "\n",
       "(function(root) {\n",
       "  function now() {\n",
       "    return new Date();\n",
       "  }\n",
       "\n",
       "  var force = true;\n",
       "\n",
       "  if (typeof root._bokeh_onload_callbacks === \"undefined\" || force === true) {\n",
       "    root._bokeh_onload_callbacks = [];\n",
       "    root._bokeh_is_loading = undefined;\n",
       "  }\n",
       "\n",
       "  var JS_MIME_TYPE = 'application/javascript';\n",
       "  var HTML_MIME_TYPE = 'text/html';\n",
       "  var EXEC_MIME_TYPE = 'application/vnd.bokehjs_exec.v0+json';\n",
       "  var CLASS_NAME = 'output_bokeh rendered_html';\n",
       "\n",
       "  /**\n",
       "   * Render data to the DOM node\n",
       "   */\n",
       "  function render(props, node) {\n",
       "    var script = document.createElement(\"script\");\n",
       "    node.appendChild(script);\n",
       "  }\n",
       "\n",
       "  /**\n",
       "   * Handle when an output is cleared or removed\n",
       "   */\n",
       "  function handleClearOutput(event, handle) {\n",
       "    var cell = handle.cell;\n",
       "\n",
       "    var id = cell.output_area._bokeh_element_id;\n",
       "    var server_id = cell.output_area._bokeh_server_id;\n",
       "    // Clean up Bokeh references\n",
       "    if (id != null && id in Bokeh.index) {\n",
       "      Bokeh.index[id].model.document.clear();\n",
       "      delete Bokeh.index[id];\n",
       "    }\n",
       "\n",
       "    if (server_id !== undefined) {\n",
       "      // Clean up Bokeh references\n",
       "      var cmd = \"from bokeh.io.state import curstate; print(curstate().uuid_to_server['\" + server_id + \"'].get_sessions()[0].document.roots[0]._id)\";\n",
       "      cell.notebook.kernel.execute(cmd, {\n",
       "        iopub: {\n",
       "          output: function(msg) {\n",
       "            var id = msg.content.text.trim();\n",
       "            if (id in Bokeh.index) {\n",
       "              Bokeh.index[id].model.document.clear();\n",
       "              delete Bokeh.index[id];\n",
       "            }\n",
       "          }\n",
       "        }\n",
       "      });\n",
       "      // Destroy server and session\n",
       "      var cmd = \"import bokeh.io.notebook as ion; ion.destroy_server('\" + server_id + \"')\";\n",
       "      cell.notebook.kernel.execute(cmd);\n",
       "    }\n",
       "  }\n",
       "\n",
       "  /**\n",
       "   * Handle when a new output is added\n",
       "   */\n",
       "  function handleAddOutput(event, handle) {\n",
       "    var output_area = handle.output_area;\n",
       "    var output = handle.output;\n",
       "\n",
       "    // limit handleAddOutput to display_data with EXEC_MIME_TYPE content only\n",
       "    if ((output.output_type != \"display_data\") || (!output.data.hasOwnProperty(EXEC_MIME_TYPE))) {\n",
       "      return\n",
       "    }\n",
       "\n",
       "    var toinsert = output_area.element.find(\".\" + CLASS_NAME.split(' ')[0]);\n",
       "\n",
       "    if (output.metadata[EXEC_MIME_TYPE][\"id\"] !== undefined) {\n",
       "      toinsert[toinsert.length - 1].firstChild.textContent = output.data[JS_MIME_TYPE];\n",
       "      // store reference to embed id on output_area\n",
       "      output_area._bokeh_element_id = output.metadata[EXEC_MIME_TYPE][\"id\"];\n",
       "    }\n",
       "    if (output.metadata[EXEC_MIME_TYPE][\"server_id\"] !== undefined) {\n",
       "      var bk_div = document.createElement(\"div\");\n",
       "      bk_div.innerHTML = output.data[HTML_MIME_TYPE];\n",
       "      var script_attrs = bk_div.children[0].attributes;\n",
       "      for (var i = 0; i < script_attrs.length; i++) {\n",
       "        toinsert[toinsert.length - 1].firstChild.setAttribute(script_attrs[i].name, script_attrs[i].value);\n",
       "      }\n",
       "      // store reference to server id on output_area\n",
       "      output_area._bokeh_server_id = output.metadata[EXEC_MIME_TYPE][\"server_id\"];\n",
       "    }\n",
       "  }\n",
       "\n",
       "  function register_renderer(events, OutputArea) {\n",
       "\n",
       "    function append_mime(data, metadata, element) {\n",
       "      // create a DOM node to render to\n",
       "      var toinsert = this.create_output_subarea(\n",
       "        metadata,\n",
       "        CLASS_NAME,\n",
       "        EXEC_MIME_TYPE\n",
       "      );\n",
       "      this.keyboard_manager.register_events(toinsert);\n",
       "      // Render to node\n",
       "      var props = {data: data, metadata: metadata[EXEC_MIME_TYPE]};\n",
       "      render(props, toinsert[toinsert.length - 1]);\n",
       "      element.append(toinsert);\n",
       "      return toinsert\n",
       "    }\n",
       "\n",
       "    /* Handle when an output is cleared or removed */\n",
       "    events.on('clear_output.CodeCell', handleClearOutput);\n",
       "    events.on('delete.Cell', handleClearOutput);\n",
       "\n",
       "    /* Handle when a new output is added */\n",
       "    events.on('output_added.OutputArea', handleAddOutput);\n",
       "\n",
       "    /**\n",
       "     * Register the mime type and append_mime function with output_area\n",
       "     */\n",
       "    OutputArea.prototype.register_mime_type(EXEC_MIME_TYPE, append_mime, {\n",
       "      /* Is output safe? */\n",
       "      safe: true,\n",
       "      /* Index of renderer in `output_area.display_order` */\n",
       "      index: 0\n",
       "    });\n",
       "  }\n",
       "\n",
       "  // register the mime type if in Jupyter Notebook environment and previously unregistered\n",
       "  if (root.Jupyter !== undefined) {\n",
       "    var events = require('base/js/events');\n",
       "    var OutputArea = require('notebook/js/outputarea').OutputArea;\n",
       "\n",
       "    if (OutputArea.prototype.mime_types().indexOf(EXEC_MIME_TYPE) == -1) {\n",
       "      register_renderer(events, OutputArea);\n",
       "    }\n",
       "  }\n",
       "\n",
       "  \n",
       "  if (typeof (root._bokeh_timeout) === \"undefined\" || force === true) {\n",
       "    root._bokeh_timeout = Date.now() + 5000;\n",
       "    root._bokeh_failed_load = false;\n",
       "  }\n",
       "\n",
       "  var NB_LOAD_WARNING = {'data': {'text/html':\n",
       "     \"<div style='background-color: #fdd'>\\n\"+\n",
       "     \"<p>\\n\"+\n",
       "     \"BokehJS does not appear to have successfully loaded. If loading BokehJS from CDN, this \\n\"+\n",
       "     \"may be due to a slow or bad network connection. Possible fixes:\\n\"+\n",
       "     \"</p>\\n\"+\n",
       "     \"<ul>\\n\"+\n",
       "     \"<li>re-rerun `output_notebook()` to attempt to load from CDN again, or</li>\\n\"+\n",
       "     \"<li>use INLINE resources instead, as so:</li>\\n\"+\n",
       "     \"</ul>\\n\"+\n",
       "     \"<code>\\n\"+\n",
       "     \"from bokeh.resources import INLINE\\n\"+\n",
       "     \"output_notebook(resources=INLINE)\\n\"+\n",
       "     \"</code>\\n\"+\n",
       "     \"</div>\"}};\n",
       "\n",
       "  function display_loaded() {\n",
       "    var el = document.getElementById(\"1001\");\n",
       "    if (el != null) {\n",
       "      el.textContent = \"BokehJS is loading...\";\n",
       "    }\n",
       "    if (root.Bokeh !== undefined) {\n",
       "      if (el != null) {\n",
       "        el.textContent = \"BokehJS \" + root.Bokeh.version + \" successfully loaded.\";\n",
       "      }\n",
       "    } else if (Date.now() < root._bokeh_timeout) {\n",
       "      setTimeout(display_loaded, 100)\n",
       "    }\n",
       "  }\n",
       "\n",
       "\n",
       "  function run_callbacks() {\n",
       "    try {\n",
       "      root._bokeh_onload_callbacks.forEach(function(callback) {\n",
       "        if (callback != null)\n",
       "          callback();\n",
       "      });\n",
       "    } finally {\n",
       "      delete root._bokeh_onload_callbacks\n",
       "    }\n",
       "    console.debug(\"Bokeh: all callbacks have finished\");\n",
       "  }\n",
       "\n",
       "  function load_libs(css_urls, js_urls, callback) {\n",
       "    if (css_urls == null) css_urls = [];\n",
       "    if (js_urls == null) js_urls = [];\n",
       "\n",
       "    root._bokeh_onload_callbacks.push(callback);\n",
       "    if (root._bokeh_is_loading > 0) {\n",
       "      console.debug(\"Bokeh: BokehJS is being loaded, scheduling callback at\", now());\n",
       "      return null;\n",
       "    }\n",
       "    if (js_urls == null || js_urls.length === 0) {\n",
       "      run_callbacks();\n",
       "      return null;\n",
       "    }\n",
       "    console.debug(\"Bokeh: BokehJS not loaded, scheduling load and callback at\", now());\n",
       "    root._bokeh_is_loading = css_urls.length + js_urls.length;\n",
       "\n",
       "    function on_load() {\n",
       "      root._bokeh_is_loading--;\n",
       "      if (root._bokeh_is_loading === 0) {\n",
       "        console.debug(\"Bokeh: all BokehJS libraries/stylesheets loaded\");\n",
       "        run_callbacks()\n",
       "      }\n",
       "    }\n",
       "\n",
       "    function on_error() {\n",
       "      console.error(\"failed to load \" + url);\n",
       "    }\n",
       "\n",
       "    for (var i = 0; i < css_urls.length; i++) {\n",
       "      var url = css_urls[i];\n",
       "      const element = document.createElement(\"link\");\n",
       "      element.onload = on_load;\n",
       "      element.onerror = on_error;\n",
       "      element.rel = \"stylesheet\";\n",
       "      element.type = \"text/css\";\n",
       "      element.href = url;\n",
       "      console.debug(\"Bokeh: injecting link tag for BokehJS stylesheet: \", url);\n",
       "      document.body.appendChild(element);\n",
       "    }\n",
       "\n",
       "    for (var i = 0; i < js_urls.length; i++) {\n",
       "      var url = js_urls[i];\n",
       "      var element = document.createElement('script');\n",
       "      element.onload = on_load;\n",
       "      element.onerror = on_error;\n",
       "      element.async = false;\n",
       "      element.src = url;\n",
       "      console.debug(\"Bokeh: injecting script tag for BokehJS library: \", url);\n",
       "      document.head.appendChild(element);\n",
       "    }\n",
       "  };var element = document.getElementById(\"1001\");\n",
       "  if (element == null) {\n",
       "    console.error(\"Bokeh: ERROR: autoload.js configured with elementid '1001' but no matching script tag was found. \")\n",
       "    return false;\n",
       "  }\n",
       "\n",
       "  function inject_raw_css(css) {\n",
       "    const element = document.createElement(\"style\");\n",
       "    element.appendChild(document.createTextNode(css));\n",
       "    document.body.appendChild(element);\n",
       "  }\n",
       "\n",
       "  var js_urls = [\"https://cdn.pydata.org/bokeh/release/bokeh-1.2.0.min.js\", \"https://cdn.pydata.org/bokeh/release/bokeh-widgets-1.2.0.min.js\", \"https://cdn.pydata.org/bokeh/release/bokeh-tables-1.2.0.min.js\", \"https://cdn.pydata.org/bokeh/release/bokeh-gl-1.2.0.min.js\"];\n",
       "  var css_urls = [\"https://cdn.pydata.org/bokeh/release/bokeh-1.2.0.min.css\", \"https://cdn.pydata.org/bokeh/release/bokeh-widgets-1.2.0.min.css\", \"https://cdn.pydata.org/bokeh/release/bokeh-tables-1.2.0.min.css\"];\n",
       "\n",
       "  var inline_js = [\n",
       "    function(Bokeh) {\n",
       "      Bokeh.set_log_level(\"info\");\n",
       "    },\n",
       "    \n",
       "    function(Bokeh) {\n",
       "      \n",
       "    },\n",
       "    function(Bokeh) {} // ensure no trailing comma for IE\n",
       "  ];\n",
       "\n",
       "  function run_inline_js() {\n",
       "    \n",
       "    if ((root.Bokeh !== undefined) || (force === true)) {\n",
       "      for (var i = 0; i < inline_js.length; i++) {\n",
       "        inline_js[i].call(root, root.Bokeh);\n",
       "      }if (force === true) {\n",
       "        display_loaded();\n",
       "      }} else if (Date.now() < root._bokeh_timeout) {\n",
       "      setTimeout(run_inline_js, 100);\n",
       "    } else if (!root._bokeh_failed_load) {\n",
       "      console.log(\"Bokeh: BokehJS failed to load within specified timeout.\");\n",
       "      root._bokeh_failed_load = true;\n",
       "    } else if (force !== true) {\n",
       "      var cell = $(document.getElementById(\"1001\")).parents('.cell').data().cell;\n",
       "      cell.output_area.append_execute_result(NB_LOAD_WARNING)\n",
       "    }\n",
       "\n",
       "  }\n",
       "\n",
       "  if (root._bokeh_is_loading === 0) {\n",
       "    console.debug(\"Bokeh: BokehJS loaded, going straight to plotting\");\n",
       "    run_inline_js();\n",
       "  } else {\n",
       "    load_libs(css_urls, js_urls, function() {\n",
       "      console.debug(\"Bokeh: BokehJS plotting callback run at\", now());\n",
       "      run_inline_js();\n",
       "    });\n",
       "  }\n",
       "}(window));"
      ],
      "application/vnd.bokehjs_load.v0+json": "\n(function(root) {\n  function now() {\n    return new Date();\n  }\n\n  var force = true;\n\n  if (typeof root._bokeh_onload_callbacks === \"undefined\" || force === true) {\n    root._bokeh_onload_callbacks = [];\n    root._bokeh_is_loading = undefined;\n  }\n\n  \n\n  \n  if (typeof (root._bokeh_timeout) === \"undefined\" || force === true) {\n    root._bokeh_timeout = Date.now() + 5000;\n    root._bokeh_failed_load = false;\n  }\n\n  var NB_LOAD_WARNING = {'data': {'text/html':\n     \"<div style='background-color: #fdd'>\\n\"+\n     \"<p>\\n\"+\n     \"BokehJS does not appear to have successfully loaded. If loading BokehJS from CDN, this \\n\"+\n     \"may be due to a slow or bad network connection. Possible fixes:\\n\"+\n     \"</p>\\n\"+\n     \"<ul>\\n\"+\n     \"<li>re-rerun `output_notebook()` to attempt to load from CDN again, or</li>\\n\"+\n     \"<li>use INLINE resources instead, as so:</li>\\n\"+\n     \"</ul>\\n\"+\n     \"<code>\\n\"+\n     \"from bokeh.resources import INLINE\\n\"+\n     \"output_notebook(resources=INLINE)\\n\"+\n     \"</code>\\n\"+\n     \"</div>\"}};\n\n  function display_loaded() {\n    var el = document.getElementById(\"1001\");\n    if (el != null) {\n      el.textContent = \"BokehJS is loading...\";\n    }\n    if (root.Bokeh !== undefined) {\n      if (el != null) {\n        el.textContent = \"BokehJS \" + root.Bokeh.version + \" successfully loaded.\";\n      }\n    } else if (Date.now() < root._bokeh_timeout) {\n      setTimeout(display_loaded, 100)\n    }\n  }\n\n\n  function run_callbacks() {\n    try {\n      root._bokeh_onload_callbacks.forEach(function(callback) {\n        if (callback != null)\n          callback();\n      });\n    } finally {\n      delete root._bokeh_onload_callbacks\n    }\n    console.debug(\"Bokeh: all callbacks have finished\");\n  }\n\n  function load_libs(css_urls, js_urls, callback) {\n    if (css_urls == null) css_urls = [];\n    if (js_urls == null) js_urls = [];\n\n    root._bokeh_onload_callbacks.push(callback);\n    if (root._bokeh_is_loading > 0) {\n      console.debug(\"Bokeh: BokehJS is being loaded, scheduling callback at\", now());\n      return null;\n    }\n    if (js_urls == null || js_urls.length === 0) {\n      run_callbacks();\n      return null;\n    }\n    console.debug(\"Bokeh: BokehJS not loaded, scheduling load and callback at\", now());\n    root._bokeh_is_loading = css_urls.length + js_urls.length;\n\n    function on_load() {\n      root._bokeh_is_loading--;\n      if (root._bokeh_is_loading === 0) {\n        console.debug(\"Bokeh: all BokehJS libraries/stylesheets loaded\");\n        run_callbacks()\n      }\n    }\n\n    function on_error() {\n      console.error(\"failed to load \" + url);\n    }\n\n    for (var i = 0; i < css_urls.length; i++) {\n      var url = css_urls[i];\n      const element = document.createElement(\"link\");\n      element.onload = on_load;\n      element.onerror = on_error;\n      element.rel = \"stylesheet\";\n      element.type = \"text/css\";\n      element.href = url;\n      console.debug(\"Bokeh: injecting link tag for BokehJS stylesheet: \", url);\n      document.body.appendChild(element);\n    }\n\n    for (var i = 0; i < js_urls.length; i++) {\n      var url = js_urls[i];\n      var element = document.createElement('script');\n      element.onload = on_load;\n      element.onerror = on_error;\n      element.async = false;\n      element.src = url;\n      console.debug(\"Bokeh: injecting script tag for BokehJS library: \", url);\n      document.head.appendChild(element);\n    }\n  };var element = document.getElementById(\"1001\");\n  if (element == null) {\n    console.error(\"Bokeh: ERROR: autoload.js configured with elementid '1001' but no matching script tag was found. \")\n    return false;\n  }\n\n  function inject_raw_css(css) {\n    const element = document.createElement(\"style\");\n    element.appendChild(document.createTextNode(css));\n    document.body.appendChild(element);\n  }\n\n  var js_urls = [\"https://cdn.pydata.org/bokeh/release/bokeh-1.2.0.min.js\", \"https://cdn.pydata.org/bokeh/release/bokeh-widgets-1.2.0.min.js\", \"https://cdn.pydata.org/bokeh/release/bokeh-tables-1.2.0.min.js\", \"https://cdn.pydata.org/bokeh/release/bokeh-gl-1.2.0.min.js\"];\n  var css_urls = [\"https://cdn.pydata.org/bokeh/release/bokeh-1.2.0.min.css\", \"https://cdn.pydata.org/bokeh/release/bokeh-widgets-1.2.0.min.css\", \"https://cdn.pydata.org/bokeh/release/bokeh-tables-1.2.0.min.css\"];\n\n  var inline_js = [\n    function(Bokeh) {\n      Bokeh.set_log_level(\"info\");\n    },\n    \n    function(Bokeh) {\n      \n    },\n    function(Bokeh) {} // ensure no trailing comma for IE\n  ];\n\n  function run_inline_js() {\n    \n    if ((root.Bokeh !== undefined) || (force === true)) {\n      for (var i = 0; i < inline_js.length; i++) {\n        inline_js[i].call(root, root.Bokeh);\n      }if (force === true) {\n        display_loaded();\n      }} else if (Date.now() < root._bokeh_timeout) {\n      setTimeout(run_inline_js, 100);\n    } else if (!root._bokeh_failed_load) {\n      console.log(\"Bokeh: BokehJS failed to load within specified timeout.\");\n      root._bokeh_failed_load = true;\n    } else if (force !== true) {\n      var cell = $(document.getElementById(\"1001\")).parents('.cell').data().cell;\n      cell.output_area.append_execute_result(NB_LOAD_WARNING)\n    }\n\n  }\n\n  if (root._bokeh_is_loading === 0) {\n    console.debug(\"Bokeh: BokehJS loaded, going straight to plotting\");\n    run_inline_js();\n  } else {\n    load_libs(css_urls, js_urls, function() {\n      console.debug(\"Bokeh: BokehJS plotting callback run at\", now());\n      run_inline_js();\n    });\n  }\n}(window));"
     },
     "metadata": {},
     "output_type": "display_data"
    }
   ],
   "source": [
    "from hail.plot import show\n",
    "from pprint import pprint\n",
    "from bokeh.layouts import gridplot\n",
    "hl.plot.output_notebook()\n",
    "\n",
    "import numpy as np\n",
    "import pandas as pd\n",
    "from functools import reduce\n",
    "from itertools import chain"
   ]
  },
  {
   "cell_type": "code",
   "execution_count": 63,
   "metadata": {},
   "outputs": [],
   "source": [
    "mt = hl.read_matrix_table('large_vcf.mt')\n",
    "mt = mt.select_rows(mt.rsid, mt.info.AC, mt.info.AF, mt.info.AN)\n",
    "mt = hl.split_multi_hts(mt)\n",
    "\n",
    "mt = mt.filter_cols(mt.s != 'WGS_139', keep = True)\n",
    "mt = mt.filter_cols(mt.s != 'WGS_D6816', keep = True) #these samples should be out based on PCA performed in main notebook"
   ]
  },
  {
   "cell_type": "markdown",
   "metadata": {},
   "source": [
    "## filter invervals that are included in repeatmasker"
   ]
  },
  {
   "cell_type": "code",
   "execution_count": 56,
   "metadata": {},
   "outputs": [
    {
     "name": "stderr",
     "output_type": "stream",
     "text": [
      "2019-12-17 17:16:14 Hail: INFO: Reading table with no type imputation\n",
      "  Loading column 'f0' as type 'str' (user-specified)\n",
      "  Loading column 'f1' as type 'int32' (user-specified)\n",
      "  Loading column 'f2' as type 'int32' (user-specified)\n",
      "  Loading column 'f3' as type 'str' (user-specified)\n",
      "  Loading column 'f4' as type 'str' (user-specified)\n",
      "  Loading column 'f5' as type 'str' (type not specified)\n",
      "  Loading column 'f6' as type 'str' (type not specified)\n",
      "  Loading column 'f7' as type 'str' (type not specified)\n",
      "  Loading column 'f8' as type 'str' (type not specified)\n",
      "  Loading column 'f9' as type 'str' (type not specified)\n",
      "  Loading column 'f10' as type 'str' (type not specified)\n",
      "  Loading column 'f11' as type 'str' (type not specified)\n",
      "\n"
     ]
    }
   ],
   "source": [
    "rpmk = hl.import_bed('repeatmasker', reference_genome='GRCh38', skip_invalid_intervals=True) # bed downloaded from https://genome.ucsc.edu/cgi-bin/hgTables on 16.12.19"
   ]
  },
  {
   "cell_type": "code",
   "execution_count": 79,
   "metadata": {},
   "outputs": [
    {
     "name": "stderr",
     "output_type": "stream",
     "text": [
      "2019-12-18 08:29:35 Hail: INFO: Ordering unsorted dataset with network shuffle\n"
     ]
    },
    {
     "data": {
      "text/html": [
       "<table><thead style=\"font-weight: bold;\"><tr><td>interval</td><td>target</td></tr>\n",
       "<tr><td>interval&lt;locus&lt;GRCh38&gt;&gt;</td><td>str</td></tr>\n",
       "</thead><tbody><tr><td>[chr1:27872543-chr1:27886686)</td><td>&quot;ENST00000328928.11&quot;</td></tr>\n",
       "<tr><td>[chr1:247990267-chr1:247991205)</td><td>&quot;ENST00000422727.2&quot;</td></tr>\n",
       "<tr><td>[chr3:9917316-chr3:9933617)</td><td>&quot;ENST00000413608.2&quot;</td></tr>\n",
       "<tr><td>[chr3:106842907-chr3:107240594)</td><td>&quot;ENST00000671678.1&quot;</td></tr>\n",
       "<tr><td>[chr7:152134922-chr7:152177969)</td><td>&quot;ENST00000360104.7&quot;</td></tr>\n",
       "<tr><td>[chr9:33750679-chr9:33797925)</td><td>&quot;ENST00000468152.2&quot;</td></tr>\n",
       "<tr><td>[chr10:43387643-chr10:43396818)</td><td>&quot;ENST00000498176.1&quot;</td></tr>\n",
       "<tr><td>[chr10:100912963-chr10:100965135)</td><td>&quot;ENST00000238961.9&quot;</td></tr>\n",
       "<tr><td>[chr13:29918647-chr13:29926652)</td><td>&quot;ENST00000450264.1&quot;</td></tr>\n",
       "<tr><td>[chr13:101368545-chr13:101399155)</td><td>&quot;ENST00000376200.5&quot;</td></tr>\n",
       "</tbody></table><p style=\"background: #fdd; padding: 0.4em;\">showing top 10 rows</p>\n"
      ],
      "text/plain": [
       "+-----------------------------------+----------------------+\n",
       "| interval                          | target               |\n",
       "+-----------------------------------+----------------------+\n",
       "| interval<locus<GRCh38>>           | str                  |\n",
       "+-----------------------------------+----------------------+\n",
       "| [chr1:27872543-chr1:27886686)     | \"ENST00000328928.11\" |\n",
       "| [chr1:247990267-chr1:247991205)   | \"ENST00000422727.2\"  |\n",
       "| [chr3:9917316-chr3:9933617)       | \"ENST00000413608.2\"  |\n",
       "| [chr3:106842907-chr3:107240594)   | \"ENST00000671678.1\"  |\n",
       "| [chr7:152134922-chr7:152177969)   | \"ENST00000360104.7\"  |\n",
       "| [chr9:33750679-chr9:33797925)     | \"ENST00000468152.2\"  |\n",
       "| [chr10:43387643-chr10:43396818)   | \"ENST00000498176.1\"  |\n",
       "| [chr10:100912963-chr10:100965135) | \"ENST00000238961.9\"  |\n",
       "| [chr13:29918647-chr13:29926652)   | \"ENST00000450264.1\"  |\n",
       "| [chr13:101368545-chr13:101399155) | \"ENST00000376200.5\"  |\n",
       "+-----------------------------------+----------------------+\n",
       "showing top 10 rows"
      ]
     },
     "metadata": {},
     "output_type": "display_data"
    }
   ],
   "source": [
    "rpmk.sample(0.0001).show()"
   ]
  },
  {
   "cell_type": "code",
   "execution_count": 59,
   "metadata": {},
   "outputs": [
    {
     "data": {
      "text/plain": [
       "(21374902, 149)"
      ]
     },
     "execution_count": 59,
     "metadata": {},
     "output_type": "execute_result"
    }
   ],
   "source": [
    "mt.count()"
   ]
  },
  {
   "cell_type": "code",
   "execution_count": 64,
   "metadata": {},
   "outputs": [],
   "source": [
    "mt = mt.filter_rows(hl.is_defined(rpmk[mt.locus]), keep = False)"
   ]
  },
  {
   "cell_type": "code",
   "execution_count": 65,
   "metadata": {},
   "outputs": [
    {
     "name": "stderr",
     "output_type": "stream",
     "text": [
      "2019-12-17 17:17:55 Hail: INFO: Ordering unsorted dataset with network shuffle\n"
     ]
    },
    {
     "data": {
      "text/plain": [
       "(9616373, 149)"
      ]
     },
     "execution_count": 65,
     "metadata": {},
     "output_type": "execute_result"
    }
   ],
   "source": [
    "mt.count()"
   ]
  },
  {
   "cell_type": "code",
   "execution_count": 66,
   "metadata": {},
   "outputs": [
    {
     "name": "stderr",
     "output_type": "stream",
     "text": [
      "2019-12-17 17:18:26 Hail: INFO: Ordering unsorted dataset with network shuffle\n"
     ]
    },
    {
     "data": {
      "text/html": [
       "<p><b>Variant summary:</b></p><ul><li><p>Total variants: 9616373</p></li><li><p>Alleles per variant:</p><table><thead style=\"font-weight: bold;\"><tr><th>Number of alleles</th><th>Count</th></tr></thead><tbody><tr><td>2</td><td>9616373</td></tr></tbody></table></li><li><p>Counts by allele type:</p><table><thead style=\"font-weight: bold;\"><tr><th>Allele type</th><th>Count</th></tr></thead><tbody><tr><td>SNP</td><td>7471748</td></tr><tr><td>Deletion</td><td>1079407</td></tr><tr><td>Insertion</td><td>1065206</td></tr><tr><td>Complex</td><td>12</td></tr></tbody></table></li><li><p>Variants per contig:</p><table><thead style=\"font-weight: bold;\"><tr><th>Contig</th><th>Count</th></tr></thead><tbody><tr><td>chr1</td><td>816325</td></tr><tr><td>chr2</td><td>691023</td></tr><tr><td>chr3</td><td>537619</td></tr><tr><td>chr4</td><td>641637</td></tr><tr><td>chr5</td><td>555702</td></tr><tr><td>chr6</td><td>564193</td></tr><tr><td>chr7</td><td>490005</td></tr><tr><td>chr8</td><td>398653</td></tr><tr><td>chr9</td><td>437179</td></tr><tr><td>chr10</td><td>470862</td></tr><tr><td>chr11</td><td>419541</td></tr><tr><td>chr12</td><td>386407</td></tr><tr><td>chr13</td><td>452276</td></tr><tr><td>chr14</td><td>249103</td></tr><tr><td>chr15</td><td>183061</td></tr><tr><td>chr16</td><td>230578</td></tr><tr><td>chr17</td><td>224647</td></tr><tr><td>chr18</td><td>290881</td></tr><tr><td>chr19</td><td>164432</td></tr><tr><td>chr20</td><td>288126</td></tr><tr><td>chr21</td><td>161408</td></tr><tr><td>chr22</td><td>160109</td></tr><tr><td>chrX</td><td>427622</td></tr><tr><td>chrY</td><td>73799</td></tr><tr><td>chrM</td><td>152</td></tr><tr><td>chr1_KI270706v1_random</td><td>4007</td></tr><tr><td>chr1_KI270707v1_random</td><td>796</td></tr><tr><td>chr1_KI270708v1_random</td><td>2440</td></tr><tr><td>chr1_KI270709v1_random</td><td>3787</td></tr><tr><td>chr1_KI270710v1_random</td><td>1527</td></tr><tr><td>chr1_KI270711v1_random</td><td>245</td></tr><tr><td>chr1_KI270712v1_random</td><td>2197</td></tr><tr><td>chr1_KI270713v1_random</td><td>1348</td></tr><tr><td>chr1_KI270714v1_random</td><td>613</td></tr><tr><td>chr2_KI270715v1_random</td><td>2670</td></tr><tr><td>chr2_KI270716v1_random</td><td>2411</td></tr><tr><td>chr3_GL000221v1_random</td><td>3043</td></tr><tr><td>chr4_GL000008v2_random</td><td>6037</td></tr><tr><td>chr5_GL000208v1_random</td><td>2966</td></tr><tr><td>chr9_KI270717v1_random</td><td>323</td></tr><tr><td>chr9_KI270718v1_random</td><td>639</td></tr><tr><td>chr9_KI270719v1_random</td><td>3313</td></tr><tr><td>chr9_KI270720v1_random</td><td>1394</td></tr><tr><td>chr11_KI270721v1_random</td><td>135</td></tr><tr><td>chr14_GL000009v2_random</td><td>7415</td></tr><tr><td>chr14_GL000225v1_random</td><td>39677</td></tr><tr><td>chr14_KI270722v1_random</td><td>6183</td></tr><tr><td>chr14_GL000194v1_random</td><td>4726</td></tr><tr><td>chr14_KI270723v1_random</td><td>2870</td></tr><tr><td>chr14_KI270724v1_random</td><td>2513</td></tr><tr><td>chr14_KI270725v1_random</td><td>3061</td></tr><tr><td>chr14_KI270726v1_random</td><td>853</td></tr><tr><td>chr15_KI270727v1_random</td><td>2068</td></tr><tr><td>chr16_KI270728v1_random</td><td>6757</td></tr><tr><td>chr17_GL000205v2_random</td><td>6689</td></tr><tr><td>chr17_KI270729v1_random</td><td>9880</td></tr><tr><td>chr17_KI270730v1_random</td><td>4330</td></tr><tr><td>chr22_KI270731v1_random</td><td>1148</td></tr><tr><td>chr22_KI270732v1_random</td><td>1649</td></tr><tr><td>chr22_KI270733v1_random</td><td>4628</td></tr><tr><td>chr22_KI270734v1_random</td><td>1050</td></tr><tr><td>chr22_KI270735v1_random</td><td>2345</td></tr><tr><td>chr22_KI270736v1_random</td><td>4896</td></tr><tr><td>chr22_KI270737v1_random</td><td>1507</td></tr><tr><td>chr22_KI270738v1_random</td><td>3678</td></tr><tr><td>chr22_KI270739v1_random</td><td>576</td></tr><tr><td>chrY_KI270740v1_random</td><td>321</td></tr><tr><td>chrUn_KI270302v1</td><td>99</td></tr><tr><td>chrUn_KI270304v1</td><td>156</td></tr><tr><td>chrUn_KI270303v1</td><td>200</td></tr><tr><td>chrUn_KI270305v1</td><td>82</td></tr><tr><td>chrUn_KI270322v1</td><td>367</td></tr><tr><td>chrUn_KI270320v1</td><td>417</td></tr><tr><td>chrUn_KI270310v1</td><td>142</td></tr><tr><td>chrUn_KI270316v1</td><td>84</td></tr><tr><td>chrUn_KI270315v1</td><td>187</td></tr><tr><td>chrUn_KI270312v1</td><td>116</td></tr><tr><td>chrUn_KI270311v1</td><td>266</td></tr><tr><td>chrUn_KI270317v1</td><td>233</td></tr><tr><td>chrUn_KI270412v1</td><td>109</td></tr><tr><td>chrUn_KI270411v1</td><td>224</td></tr><tr><td>chrUn_KI270414v1</td><td>115</td></tr><tr><td>chrUn_KI270419v1</td><td>93</td></tr><tr><td>chrUn_KI270418v1</td><td>154</td></tr><tr><td>chrUn_KI270420v1</td><td>286</td></tr><tr><td>chrUn_KI270424v1</td><td>14</td></tr><tr><td>chrUn_KI270417v1</td><td>66</td></tr><tr><td>chrUn_KI270422v1</td><td>125</td></tr><tr><td>chrUn_KI270423v1</td><td>308</td></tr><tr><td>chrUn_KI270425v1</td><td>37</td></tr><tr><td>chrUn_KI270429v1</td><td>105</td></tr><tr><td>chrUn_KI270442v1</td><td>20914</td></tr><tr><td>chrUn_KI270466v1</td><td>287</td></tr><tr><td>chrUn_KI270465v1</td><td>346</td></tr><tr><td>chrUn_KI270467v1</td><td>902</td></tr><tr><td>chrUn_KI270435v1</td><td>3308</td></tr><tr><td>chrUn_KI270438v1</td><td>7609</td></tr><tr><td>chrUn_KI270468v1</td><td>209</td></tr><tr><td>chrUn_KI270510v1</td><td>192</td></tr><tr><td>chrUn_KI270509v1</td><td>140</td></tr><tr><td>chrUn_KI270518v1</td><td>189</td></tr><tr><td>chrUn_KI270508v1</td><td>155</td></tr><tr><td>chrUn_KI270516v1</td><td>87</td></tr><tr><td>chrUn_KI270512v1</td><td>1041</td></tr><tr><td>chrUn_KI270519v1</td><td>7153</td></tr><tr><td>chrUn_KI270522v1</td><td>155</td></tr><tr><td>chrUn_KI270511v1</td><td>181</td></tr><tr><td>chrUn_KI270515v1</td><td>411</td></tr><tr><td>chrUn_KI270507v1</td><td>262</td></tr><tr><td>chrUn_KI270517v1</td><td>200</td></tr><tr><td>chrUn_KI270529v1</td><td>93</td></tr><tr><td>chrUn_KI270528v1</td><td>5</td></tr><tr><td>chrUn_KI270530v1</td><td>85</td></tr><tr><td>chrUn_KI270539v1</td><td>23</td></tr><tr><td>chrUn_KI270538v1</td><td>4119</td></tr><tr><td>chrUn_KI270544v1</td><td>51</td></tr><tr><td>chrUn_KI270583v1</td><td>66</td></tr><tr><td>chrUn_KI270587v1</td><td>174</td></tr><tr><td>chrUn_KI270580v1</td><td>93</td></tr><tr><td>chrUn_KI270581v1</td><td>126</td></tr><tr><td>chrUn_KI270579v1</td><td>361</td></tr><tr><td>chrUn_KI270589v1</td><td>1722</td></tr><tr><td>chrUn_KI270590v1</td><td>418</td></tr><tr><td>chrUn_KI270584v1</td><td>254</td></tr><tr><td>chrUn_KI270582v1</td><td>118</td></tr><tr><td>chrUn_KI270588v1</td><td>279</td></tr><tr><td>chrUn_KI270593v1</td><td>119</td></tr><tr><td>chrUn_KI270591v1</td><td>616</td></tr><tr><td>chrUn_KI270330v1</td><td>129</td></tr><tr><td>chrUn_KI270329v1</td><td>87</td></tr><tr><td>chrUn_KI270334v1</td><td>3</td></tr><tr><td>chrUn_KI270333v1</td><td>505</td></tr><tr><td>chrUn_KI270335v1</td><td>8</td></tr><tr><td>chrUn_KI270340v1</td><td>6</td></tr><tr><td>chrUn_KI270337v1</td><td>152</td></tr><tr><td>chrUn_KI270363v1</td><td>51</td></tr><tr><td>chrUn_KI270364v1</td><td>12</td></tr><tr><td>chrUn_KI270362v1</td><td>39</td></tr><tr><td>chrUn_KI270366v1</td><td>113</td></tr><tr><td>chrUn_KI270378v1</td><td>15</td></tr><tr><td>chrUn_KI270389v1</td><td>27</td></tr><tr><td>chrUn_KI270390v1</td><td>39</td></tr><tr><td>chrUn_KI270387v1</td><td>20</td></tr><tr><td>chrUn_KI270395v1</td><td>62</td></tr><tr><td>chrUn_KI270396v1</td><td>38</td></tr><tr><td>chrUn_KI270388v1</td><td>64</td></tr><tr><td>chrUn_KI270394v1</td><td>46</td></tr><tr><td>chrUn_KI270386v1</td><td>30</td></tr><tr><td>chrUn_KI270391v1</td><td>45</td></tr><tr><td>chrUn_KI270383v1</td><td>54</td></tr><tr><td>chrUn_KI270393v1</td><td>64</td></tr><tr><td>chrUn_KI270384v1</td><td>82</td></tr><tr><td>chrUn_KI270392v1</td><td>75</td></tr><tr><td>chrUn_KI270381v1</td><td>23</td></tr><tr><td>chrUn_KI270385v1</td><td>10</td></tr><tr><td>chrUn_KI270382v1</td><td>79</td></tr><tr><td>chrUn_KI270374v1</td><td>14</td></tr><tr><td>chrUn_KI270375v1</td><td>1</td></tr><tr><td>chrUn_KI270371v1</td><td>3</td></tr><tr><td>chrUn_KI270448v1</td><td>150</td></tr><tr><td>chrUn_KI270521v1</td><td>195</td></tr><tr><td>chrUn_GL000195v1</td><td>5337</td></tr><tr><td>chrUn_GL000219v1</td><td>5150</td></tr><tr><td>chrUn_GL000220v1</td><td>2684</td></tr><tr><td>chrUn_GL000224v1</td><td>3522</td></tr><tr><td>chrUn_KI270741v1</td><td>565</td></tr><tr><td>chrUn_GL000226v1</td><td>375</td></tr><tr><td>chrUn_GL000213v1</td><td>473</td></tr><tr><td>chrUn_KI270743v1</td><td>5395</td></tr><tr><td>chrUn_KI270744v1</td><td>3775</td></tr><tr><td>chrUn_KI270745v1</td><td>229</td></tr><tr><td>chrUn_KI270746v1</td><td>2441</td></tr><tr><td>chrUn_KI270747v1</td><td>3138</td></tr><tr><td>chrUn_KI270748v1</td><td>503</td></tr><tr><td>chrUn_KI270749v1</td><td>2992</td></tr><tr><td>chrUn_KI270750v1</td><td>3120</td></tr><tr><td>chrUn_KI270751v1</td><td>2814</td></tr><tr><td>chrUn_KI270752v1</td><td>12</td></tr><tr><td>chrUn_KI270753v1</td><td>895</td></tr><tr><td>chrUn_KI270754v1</td><td>2615</td></tr><tr><td>chrUn_KI270755v1</td><td>252</td></tr><tr><td>chrUn_KI270756v1</td><td>1950</td></tr><tr><td>chrUn_KI270757v1</td><td>3727</td></tr><tr><td>chrUn_GL000214v1</td><td>2179</td></tr><tr><td>chrUn_KI270742v1</td><td>4049</td></tr><tr><td>chrUn_GL000216v2</td><td>19616</td></tr><tr><td>chrUn_GL000218v1</td><td>5097</td></tr><tr><td>chrEBV</td><td>728</td></tr></tbody></table></li></ul>"
      ],
      "text/plain": [
       "==============================\n",
       "Number of variants: 9616373\n",
       "==============================\n",
       "Alleles per variant\n",
       "-------------------\n",
       "  2 alleles: 9616373 variants\n",
       "==============================\n",
       "Variants per contig\n",
       "-------------------\n",
       "                     chr1: 816325 variants\n",
       "                     chr2: 691023 variants\n",
       "                     chr3: 537619 variants\n",
       "                     chr4: 641637 variants\n",
       "                     chr5: 555702 variants\n",
       "                     chr6: 564193 variants\n",
       "                     chr7: 490005 variants\n",
       "                     chr8: 398653 variants\n",
       "                     chr9: 437179 variants\n",
       "                    chr10: 470862 variants\n",
       "                    chr11: 419541 variants\n",
       "                    chr12: 386407 variants\n",
       "                    chr13: 452276 variants\n",
       "                    chr14: 249103 variants\n",
       "                    chr15: 183061 variants\n",
       "                    chr16: 230578 variants\n",
       "                    chr17: 224647 variants\n",
       "                    chr18: 290881 variants\n",
       "                    chr19: 164432 variants\n",
       "                    chr20: 288126 variants\n",
       "                    chr21: 161408 variants\n",
       "                    chr22: 160109 variants\n",
       "                     chrX: 427622 variants\n",
       "                     chrY: 73799 variants\n",
       "                     chrM: 152 variants\n",
       "   chr1_KI270706v1_random: 4007 variants\n",
       "   chr1_KI270707v1_random: 796 variants\n",
       "   chr1_KI270708v1_random: 2440 variants\n",
       "   chr1_KI270709v1_random: 3787 variants\n",
       "   chr1_KI270710v1_random: 1527 variants\n",
       "   chr1_KI270711v1_random: 245 variants\n",
       "   chr1_KI270712v1_random: 2197 variants\n",
       "   chr1_KI270713v1_random: 1348 variants\n",
       "   chr1_KI270714v1_random: 613 variants\n",
       "   chr2_KI270715v1_random: 2670 variants\n",
       "   chr2_KI270716v1_random: 2411 variants\n",
       "   chr3_GL000221v1_random: 3043 variants\n",
       "   chr4_GL000008v2_random: 6037 variants\n",
       "   chr5_GL000208v1_random: 2966 variants\n",
       "   chr9_KI270717v1_random: 323 variants\n",
       "   chr9_KI270718v1_random: 639 variants\n",
       "   chr9_KI270719v1_random: 3313 variants\n",
       "   chr9_KI270720v1_random: 1394 variants\n",
       "  chr11_KI270721v1_random: 135 variants\n",
       "  chr14_GL000009v2_random: 7415 variants\n",
       "  chr14_GL000225v1_random: 39677 variants\n",
       "  chr14_KI270722v1_random: 6183 variants\n",
       "  chr14_GL000194v1_random: 4726 variants\n",
       "  chr14_KI270723v1_random: 2870 variants\n",
       "  chr14_KI270724v1_random: 2513 variants\n",
       "  chr14_KI270725v1_random: 3061 variants\n",
       "  chr14_KI270726v1_random: 853 variants\n",
       "  chr15_KI270727v1_random: 2068 variants\n",
       "  chr16_KI270728v1_random: 6757 variants\n",
       "  chr17_GL000205v2_random: 6689 variants\n",
       "  chr17_KI270729v1_random: 9880 variants\n",
       "  chr17_KI270730v1_random: 4330 variants\n",
       "  chr22_KI270731v1_random: 1148 variants\n",
       "  chr22_KI270732v1_random: 1649 variants\n",
       "  chr22_KI270733v1_random: 4628 variants\n",
       "  chr22_KI270734v1_random: 1050 variants\n",
       "  chr22_KI270735v1_random: 2345 variants\n",
       "  chr22_KI270736v1_random: 4896 variants\n",
       "  chr22_KI270737v1_random: 1507 variants\n",
       "  chr22_KI270738v1_random: 3678 variants\n",
       "  chr22_KI270739v1_random: 576 variants\n",
       "   chrY_KI270740v1_random: 321 variants\n",
       "         chrUn_KI270302v1: 99 variants\n",
       "         chrUn_KI270304v1: 156 variants\n",
       "         chrUn_KI270303v1: 200 variants\n",
       "         chrUn_KI270305v1: 82 variants\n",
       "         chrUn_KI270322v1: 367 variants\n",
       "         chrUn_KI270320v1: 417 variants\n",
       "         chrUn_KI270310v1: 142 variants\n",
       "         chrUn_KI270316v1: 84 variants\n",
       "         chrUn_KI270315v1: 187 variants\n",
       "         chrUn_KI270312v1: 116 variants\n",
       "         chrUn_KI270311v1: 266 variants\n",
       "         chrUn_KI270317v1: 233 variants\n",
       "         chrUn_KI270412v1: 109 variants\n",
       "         chrUn_KI270411v1: 224 variants\n",
       "         chrUn_KI270414v1: 115 variants\n",
       "         chrUn_KI270419v1: 93 variants\n",
       "         chrUn_KI270418v1: 154 variants\n",
       "         chrUn_KI270420v1: 286 variants\n",
       "         chrUn_KI270424v1: 14 variants\n",
       "         chrUn_KI270417v1: 66 variants\n",
       "         chrUn_KI270422v1: 125 variants\n",
       "         chrUn_KI270423v1: 308 variants\n",
       "         chrUn_KI270425v1: 37 variants\n",
       "         chrUn_KI270429v1: 105 variants\n",
       "         chrUn_KI270442v1: 20914 variants\n",
       "         chrUn_KI270466v1: 287 variants\n",
       "         chrUn_KI270465v1: 346 variants\n",
       "         chrUn_KI270467v1: 902 variants\n",
       "         chrUn_KI270435v1: 3308 variants\n",
       "         chrUn_KI270438v1: 7609 variants\n",
       "         chrUn_KI270468v1: 209 variants\n",
       "         chrUn_KI270510v1: 192 variants\n",
       "         chrUn_KI270509v1: 140 variants\n",
       "         chrUn_KI270518v1: 189 variants\n",
       "         chrUn_KI270508v1: 155 variants\n",
       "         chrUn_KI270516v1: 87 variants\n",
       "         chrUn_KI270512v1: 1041 variants\n",
       "         chrUn_KI270519v1: 7153 variants\n",
       "         chrUn_KI270522v1: 155 variants\n",
       "         chrUn_KI270511v1: 181 variants\n",
       "         chrUn_KI270515v1: 411 variants\n",
       "         chrUn_KI270507v1: 262 variants\n",
       "         chrUn_KI270517v1: 200 variants\n",
       "         chrUn_KI270529v1: 93 variants\n",
       "         chrUn_KI270528v1: 5 variants\n",
       "         chrUn_KI270530v1: 85 variants\n",
       "         chrUn_KI270539v1: 23 variants\n",
       "         chrUn_KI270538v1: 4119 variants\n",
       "         chrUn_KI270544v1: 51 variants\n",
       "         chrUn_KI270583v1: 66 variants\n",
       "         chrUn_KI270587v1: 174 variants\n",
       "         chrUn_KI270580v1: 93 variants\n",
       "         chrUn_KI270581v1: 126 variants\n",
       "         chrUn_KI270579v1: 361 variants\n",
       "         chrUn_KI270589v1: 1722 variants\n",
       "         chrUn_KI270590v1: 418 variants\n",
       "         chrUn_KI270584v1: 254 variants\n",
       "         chrUn_KI270582v1: 118 variants\n",
       "         chrUn_KI270588v1: 279 variants\n",
       "         chrUn_KI270593v1: 119 variants\n",
       "         chrUn_KI270591v1: 616 variants\n",
       "         chrUn_KI270330v1: 129 variants\n",
       "         chrUn_KI270329v1: 87 variants\n",
       "         chrUn_KI270334v1: 3 variants\n",
       "         chrUn_KI270333v1: 505 variants\n",
       "         chrUn_KI270335v1: 8 variants\n",
       "         chrUn_KI270340v1: 6 variants\n",
       "         chrUn_KI270337v1: 152 variants\n",
       "         chrUn_KI270363v1: 51 variants\n",
       "         chrUn_KI270364v1: 12 variants\n",
       "         chrUn_KI270362v1: 39 variants\n",
       "         chrUn_KI270366v1: 113 variants\n",
       "         chrUn_KI270378v1: 15 variants\n",
       "         chrUn_KI270389v1: 27 variants\n",
       "         chrUn_KI270390v1: 39 variants\n",
       "         chrUn_KI270387v1: 20 variants\n",
       "         chrUn_KI270395v1: 62 variants\n",
       "         chrUn_KI270396v1: 38 variants\n",
       "         chrUn_KI270388v1: 64 variants\n",
       "         chrUn_KI270394v1: 46 variants\n",
       "         chrUn_KI270386v1: 30 variants\n",
       "         chrUn_KI270391v1: 45 variants\n",
       "         chrUn_KI270383v1: 54 variants\n",
       "         chrUn_KI270393v1: 64 variants\n",
       "         chrUn_KI270384v1: 82 variants\n",
       "         chrUn_KI270392v1: 75 variants\n",
       "         chrUn_KI270381v1: 23 variants\n",
       "         chrUn_KI270385v1: 10 variants\n",
       "         chrUn_KI270382v1: 79 variants\n",
       "         chrUn_KI270374v1: 14 variants\n",
       "         chrUn_KI270375v1: 1 variants\n",
       "         chrUn_KI270371v1: 3 variants\n",
       "         chrUn_KI270448v1: 150 variants\n",
       "         chrUn_KI270521v1: 195 variants\n",
       "         chrUn_GL000195v1: 5337 variants\n",
       "         chrUn_GL000219v1: 5150 variants\n",
       "         chrUn_GL000220v1: 2684 variants\n",
       "         chrUn_GL000224v1: 3522 variants\n",
       "         chrUn_KI270741v1: 565 variants\n",
       "         chrUn_GL000226v1: 375 variants\n",
       "         chrUn_GL000213v1: 473 variants\n",
       "         chrUn_KI270743v1: 5395 variants\n",
       "         chrUn_KI270744v1: 3775 variants\n",
       "         chrUn_KI270745v1: 229 variants\n",
       "         chrUn_KI270746v1: 2441 variants\n",
       "         chrUn_KI270747v1: 3138 variants\n",
       "         chrUn_KI270748v1: 503 variants\n",
       "         chrUn_KI270749v1: 2992 variants\n",
       "         chrUn_KI270750v1: 3120 variants\n",
       "         chrUn_KI270751v1: 2814 variants\n",
       "         chrUn_KI270752v1: 12 variants\n",
       "         chrUn_KI270753v1: 895 variants\n",
       "         chrUn_KI270754v1: 2615 variants\n",
       "         chrUn_KI270755v1: 252 variants\n",
       "         chrUn_KI270756v1: 1950 variants\n",
       "         chrUn_KI270757v1: 3727 variants\n",
       "         chrUn_GL000214v1: 2179 variants\n",
       "         chrUn_KI270742v1: 4049 variants\n",
       "         chrUn_GL000216v2: 19616 variants\n",
       "         chrUn_GL000218v1: 5097 variants\n",
       "                   chrEBV: 728 variants\n",
       "==============================\n",
       "Allele type distribution\n",
       "------------------------\n",
       "        SNP: 7471748 alternate alleles\n",
       "   Deletion: 1079407 alternate alleles\n",
       "  Insertion: 1065206 alternate alleles\n",
       "    Complex: 12 alternate alleles\n",
       "=============================="
      ]
     },
     "metadata": {},
     "output_type": "display_data"
    }
   ],
   "source": [
    "hl.summarize_variants(mt)"
   ]
  },
  {
   "cell_type": "code",
   "execution_count": 67,
   "metadata": {},
   "outputs": [
    {
     "name": "stderr",
     "output_type": "stream",
     "text": [
      "2019-12-17 17:19:01 Hail: INFO: Ordering unsorted dataset with network shuffle\n"
     ]
    },
    {
     "data": {
      "text/html": [
       "<table><thead style=\"font-weight: bold;\"><tr><td>locus</td><td>alleles</td><td>rsid</td></tr>\n",
       "<tr><td>locus&lt;GRCh38&gt;</td><td>array&lt;str&gt;</td><td>str</td></tr>\n",
       "</thead><tbody><tr><td>chr1:2982924</td><td>[&quot;T&quot;,&quot;C&quot;]</td><td>&quot;rs12046140&quot;</td></tr>\n",
       "<tr><td>chr2:237951177</td><td>[&quot;C&quot;,&quot;CAAAAAACA&quot;]</td><td>NA</td></tr>\n",
       "<tr><td>chr3:13524830</td><td>[&quot;T&quot;,&quot;G&quot;]</td><td>&quot;rs2731346&quot;</td></tr>\n",
       "<tr><td>chr4:95938127</td><td>[&quot;G&quot;,&quot;T&quot;]</td><td>&quot;rs113257899&quot;</td></tr>\n",
       "<tr><td>chr5:17348618</td><td>[&quot;G&quot;,&quot;T&quot;]</td><td>NA</td></tr>\n",
       "<tr><td>chr5:84641607</td><td>[&quot;C&quot;,&quot;A&quot;]</td><td>NA</td></tr>\n",
       "<tr><td>chr9:121810490</td><td>[&quot;GA&quot;,&quot;G&quot;]</td><td>&quot;rs71835839&quot;</td></tr>\n",
       "<tr><td>chr21:32052591</td><td>[&quot;A&quot;,&quot;G&quot;]</td><td>&quot;rs8130494&quot;</td></tr>\n",
       "</tbody></table>"
      ],
      "text/plain": [
       "+----------------+-------------------+---------------+\n",
       "| locus          | alleles           | rsid          |\n",
       "+----------------+-------------------+---------------+\n",
       "| locus<GRCh38>  | array<str>        | str           |\n",
       "+----------------+-------------------+---------------+\n",
       "| chr1:2982924   | [\"T\",\"C\"]         | \"rs12046140\"  |\n",
       "| chr2:237951177 | [\"C\",\"CAAAAAACA\"] | NA            |\n",
       "| chr3:13524830  | [\"T\",\"G\"]         | \"rs2731346\"   |\n",
       "| chr4:95938127  | [\"G\",\"T\"]         | \"rs113257899\" |\n",
       "| chr5:17348618  | [\"G\",\"T\"]         | NA            |\n",
       "| chr5:84641607  | [\"C\",\"A\"]         | NA            |\n",
       "| chr9:121810490 | [\"GA\",\"G\"]        | \"rs71835839\"  |\n",
       "| chr21:32052591 | [\"A\",\"G\"]         | \"rs8130494\"   |\n",
       "+----------------+-------------------+---------------+"
      ]
     },
     "metadata": {},
     "output_type": "display_data"
    }
   ],
   "source": [
    "mt.sample_rows(0.000001).rsid.show()"
   ]
  },
  {
   "cell_type": "code",
   "execution_count": 68,
   "metadata": {},
   "outputs": [],
   "source": [
    "mt2 = hl.read_matrix_table('large_vcf.mt')\n",
    "mt2 = mt2.select_rows(mt2.rsid, mt2.info.AC, mt2.info.AF, mt2.info.AN)\n",
    "mt2 = hl.split_multi_hts(mt2)\n",
    "\n",
    "mt2 = mt2.filter_cols(mt2.s != 'WGS_139', keep = True)\n",
    "mt2 = mt2.filter_cols(mt2.s != 'WGS_D6816', keep = True) #these samples should be out based on PCA performed in main notebook"
   ]
  },
  {
   "cell_type": "code",
   "execution_count": 69,
   "metadata": {},
   "outputs": [],
   "source": [
    "mt2 = mt2.filter_rows(hl.is_defined(rpmk[mt2.locus]), keep = True)"
   ]
  },
  {
   "cell_type": "code",
   "execution_count": 74,
   "metadata": {},
   "outputs": [],
   "source": [
    "mt3 = mt2.filter_rows(hl.is_defined(rpmk[mt2.locus]), keep = False)"
   ]
  },
  {
   "cell_type": "code",
   "execution_count": 75,
   "metadata": {},
   "outputs": [
    {
     "name": "stderr",
     "output_type": "stream",
     "text": [
      "2019-12-17 17:32:40 Hail: INFO: Ordering unsorted dataset with network shuffle\n",
      "2019-12-17 17:32:41 Hail: INFO: Ordering unsorted dataset with network shuffle\n"
     ]
    },
    {
     "data": {
      "text/plain": [
       "(0, 149)"
      ]
     },
     "execution_count": 75,
     "metadata": {},
     "output_type": "execute_result"
    }
   ],
   "source": [
    "mt3.count()"
   ]
  },
  {
   "cell_type": "code",
   "execution_count": 70,
   "metadata": {},
   "outputs": [
    {
     "name": "stderr",
     "output_type": "stream",
     "text": [
      "2019-12-17 17:20:02 Hail: INFO: Ordering unsorted dataset with network shuffle\n"
     ]
    },
    {
     "data": {
      "text/plain": [
       "(11758529, 149)"
      ]
     },
     "execution_count": 70,
     "metadata": {},
     "output_type": "execute_result"
    }
   ],
   "source": [
    "mt2.count()"
   ]
  },
  {
   "cell_type": "code",
   "execution_count": 72,
   "metadata": {},
   "outputs": [
    {
     "name": "stderr",
     "output_type": "stream",
     "text": [
      "2019-12-17 17:20:35 Hail: INFO: Ordering unsorted dataset with network shuffle\n"
     ]
    },
    {
     "data": {
      "text/html": [
       "<p><b>Variant summary:</b></p><ul><li><p>Total variants: 11758529</p></li><li><p>Alleles per variant:</p><table><thead style=\"font-weight: bold;\"><tr><th>Number of alleles</th><th>Count</th></tr></thead><tbody><tr><td>2</td><td>11758529</td></tr></tbody></table></li><li><p>Counts by allele type:</p><table><thead style=\"font-weight: bold;\"><tr><th>Allele type</th><th>Count</th></tr></thead><tbody><tr><td>SNP</td><td>8650195</td></tr><tr><td>Insertion</td><td>1562006</td></tr><tr><td>Deletion</td><td>1546322</td></tr><tr><td>Complex</td><td>6</td></tr></tbody></table></li><li><p>Variants per contig:</p><table><thead style=\"font-weight: bold;\"><tr><th>Contig</th><th>Count</th></tr></thead><tbody><tr><td>chr1</td><td>943005</td></tr><tr><td>chr2</td><td>965588</td></tr><tr><td>chr3</td><td>836750</td></tr><tr><td>chr4</td><td>721031</td></tr><tr><td>chr5</td><td>672434</td></tr><tr><td>chr6</td><td>675026</td></tr><tr><td>chr7</td><td>679632</td></tr><tr><td>chr8</td><td>624797</td></tr><tr><td>chr9</td><td>483739</td></tr><tr><td>chr10</td><td>554397</td></tr><tr><td>chr11</td><td>548602</td></tr><tr><td>chr12</td><td>572347</td></tr><tr><td>chr13</td><td>340460</td></tr><tr><td>chr14</td><td>384646</td></tr><tr><td>chr15</td><td>416248</td></tr><tr><td>chr16</td><td>413221</td></tr><tr><td>chr17</td><td>387734</td></tr><tr><td>chr18</td><td>288123</td></tr><tr><td>chr19</td><td>334161</td></tr><tr><td>chr20</td><td>246258</td></tr><tr><td>chr21</td><td>167220</td></tr><tr><td>chr22</td><td>188782</td></tr><tr><td>chrX</td><td>293091</td></tr><tr><td>chrY</td><td>15590</td></tr><tr><td>chrM</td><td>352</td></tr><tr><td>chr1_KI270711v1_random</td><td>787</td></tr><tr><td>chr1_KI270713v1_random</td><td>32</td></tr><tr><td>chr11_KI270721v1_random</td><td>32</td></tr><tr><td>chr14_GL000009v2_random</td><td>39</td></tr><tr><td>chr14_GL000225v1_random</td><td>9</td></tr><tr><td>chr14_GL000194v1_random</td><td>1961</td></tr><tr><td>chr14_KI270726v1_random</td><td>26</td></tr><tr><td>chr15_KI270727v1_random</td><td>136</td></tr><tr><td>chr16_KI270728v1_random</td><td>442</td></tr><tr><td>chr17_GL000205v2_random</td><td>39</td></tr><tr><td>chr22_KI270731v1_random</td><td>32</td></tr><tr><td>chr22_KI270733v1_random</td><td>7</td></tr><tr><td>chr22_KI270734v1_random</td><td>114</td></tr><tr><td>chrUn_KI270442v1</td><td>44</td></tr><tr><td>chrUn_GL000195v1</td><td>276</td></tr><tr><td>chrUn_GL000219v1</td><td>1080</td></tr><tr><td>chrUn_GL000213v1</td><td>111</td></tr><tr><td>chrUn_KI270750v1</td><td>4</td></tr><tr><td>chrUn_GL000216v2</td><td>10</td></tr><tr><td>chrUn_GL000218v1</td><td>114</td></tr></tbody></table></li></ul>"
      ],
      "text/plain": [
       "==============================\n",
       "Number of variants: 11758529\n",
       "==============================\n",
       "Alleles per variant\n",
       "-------------------\n",
       "  2 alleles: 11758529 variants\n",
       "==============================\n",
       "Variants per contig\n",
       "-------------------\n",
       "                     chr1: 943005 variants\n",
       "                     chr2: 965588 variants\n",
       "                     chr3: 836750 variants\n",
       "                     chr4: 721031 variants\n",
       "                     chr5: 672434 variants\n",
       "                     chr6: 675026 variants\n",
       "                     chr7: 679632 variants\n",
       "                     chr8: 624797 variants\n",
       "                     chr9: 483739 variants\n",
       "                    chr10: 554397 variants\n",
       "                    chr11: 548602 variants\n",
       "                    chr12: 572347 variants\n",
       "                    chr13: 340460 variants\n",
       "                    chr14: 384646 variants\n",
       "                    chr15: 416248 variants\n",
       "                    chr16: 413221 variants\n",
       "                    chr17: 387734 variants\n",
       "                    chr18: 288123 variants\n",
       "                    chr19: 334161 variants\n",
       "                    chr20: 246258 variants\n",
       "                    chr21: 167220 variants\n",
       "                    chr22: 188782 variants\n",
       "                     chrX: 293091 variants\n",
       "                     chrY: 15590 variants\n",
       "                     chrM: 352 variants\n",
       "   chr1_KI270711v1_random: 787 variants\n",
       "   chr1_KI270713v1_random: 32 variants\n",
       "  chr11_KI270721v1_random: 32 variants\n",
       "  chr14_GL000009v2_random: 39 variants\n",
       "  chr14_GL000225v1_random: 9 variants\n",
       "  chr14_GL000194v1_random: 1961 variants\n",
       "  chr14_KI270726v1_random: 26 variants\n",
       "  chr15_KI270727v1_random: 136 variants\n",
       "  chr16_KI270728v1_random: 442 variants\n",
       "  chr17_GL000205v2_random: 39 variants\n",
       "  chr22_KI270731v1_random: 32 variants\n",
       "  chr22_KI270733v1_random: 7 variants\n",
       "  chr22_KI270734v1_random: 114 variants\n",
       "         chrUn_KI270442v1: 44 variants\n",
       "         chrUn_GL000195v1: 276 variants\n",
       "         chrUn_GL000219v1: 1080 variants\n",
       "         chrUn_GL000213v1: 111 variants\n",
       "         chrUn_KI270750v1: 4 variants\n",
       "         chrUn_GL000216v2: 10 variants\n",
       "         chrUn_GL000218v1: 114 variants\n",
       "==============================\n",
       "Allele type distribution\n",
       "------------------------\n",
       "        SNP: 8650195 alternate alleles\n",
       "  Insertion: 1562006 alternate alleles\n",
       "   Deletion: 1546322 alternate alleles\n",
       "    Complex: 6 alternate alleles\n",
       "=============================="
      ]
     },
     "metadata": {},
     "output_type": "display_data"
    }
   ],
   "source": [
    "hl.summarize_variants(mt2)"
   ]
  },
  {
   "cell_type": "code",
   "execution_count": 73,
   "metadata": {},
   "outputs": [
    {
     "name": "stderr",
     "output_type": "stream",
     "text": [
      "2019-12-17 17:21:12 Hail: INFO: Ordering unsorted dataset with network shuffle\n"
     ]
    },
    {
     "data": {
      "text/html": [
       "<table><thead style=\"font-weight: bold;\"><tr><td>locus</td><td>alleles</td><td>rsid</td></tr>\n",
       "<tr><td>locus&lt;GRCh38&gt;</td><td>array&lt;str&gt;</td><td>str</td></tr>\n",
       "</thead><tbody><tr><td>chr1:93591168</td><td>[&quot;TAAAAAAA&quot;,&quot;T&quot;]</td><td>NA</td></tr>\n",
       "<tr><td>chr1:146758208</td><td>[&quot;T&quot;,&quot;A&quot;]</td><td>NA</td></tr>\n",
       "<tr><td>chr1:236244995</td><td>[&quot;T&quot;,&quot;C&quot;]</td><td>&quot;rs61833552&quot;</td></tr>\n",
       "<tr><td>chr2:38964849</td><td>[&quot;T&quot;,&quot;A&quot;]</td><td>&quot;rs139228800&quot;</td></tr>\n",
       "<tr><td>chr3:21532681</td><td>[&quot;CA&quot;,&quot;C&quot;]</td><td>NA</td></tr>\n",
       "<tr><td>chr3:127968493</td><td>[&quot;A&quot;,&quot;G&quot;]</td><td>NA</td></tr>\n",
       "<tr><td>chr4:177080602</td><td>[&quot;T&quot;,&quot;C&quot;]</td><td>&quot;rs2583201&quot;</td></tr>\n",
       "<tr><td>chr5:71551094</td><td>[&quot;GTTGTTTAT&quot;,&quot;G&quot;]</td><td>NA</td></tr>\n",
       "<tr><td>chr11:60846873</td><td>[&quot;T&quot;,&quot;C&quot;]</td><td>&quot;rs537024&quot;</td></tr>\n",
       "<tr><td>chr12:65858961</td><td>[&quot;T&quot;,&quot;C&quot;]</td><td>NA</td></tr>\n",
       "</tbody></table><p style=\"background: #fdd; padding: 0.4em;\">showing top 10 rows</p>\n"
      ],
      "text/plain": [
       "+----------------+-------------------+---------------+\n",
       "| locus          | alleles           | rsid          |\n",
       "+----------------+-------------------+---------------+\n",
       "| locus<GRCh38>  | array<str>        | str           |\n",
       "+----------------+-------------------+---------------+\n",
       "| chr1:93591168  | [\"TAAAAAAA\",\"T\"]  | NA            |\n",
       "| chr1:146758208 | [\"T\",\"A\"]         | NA            |\n",
       "| chr1:236244995 | [\"T\",\"C\"]         | \"rs61833552\"  |\n",
       "| chr2:38964849  | [\"T\",\"A\"]         | \"rs139228800\" |\n",
       "| chr3:21532681  | [\"CA\",\"C\"]        | NA            |\n",
       "| chr3:127968493 | [\"A\",\"G\"]         | NA            |\n",
       "| chr4:177080602 | [\"T\",\"C\"]         | \"rs2583201\"   |\n",
       "| chr5:71551094  | [\"GTTGTTTAT\",\"G\"] | NA            |\n",
       "| chr11:60846873 | [\"T\",\"C\"]         | \"rs537024\"    |\n",
       "| chr12:65858961 | [\"T\",\"C\"]         | NA            |\n",
       "+----------------+-------------------+---------------+\n",
       "showing top 10 rows"
      ]
     },
     "metadata": {},
     "output_type": "display_data"
    }
   ],
   "source": [
    "mt2.sample_rows(0.000001).rsid.show()"
   ]
  },
  {
   "cell_type": "markdown",
   "metadata": {},
   "source": [
    "## import gnomADv3 coverage and annotate:"
   ]
  },
  {
   "cell_type": "code",
   "execution_count": 17,
   "metadata": {},
   "outputs": [],
   "source": [
    "## code below is work in progress"
   ]
  },
  {
   "cell_type": "code",
   "execution_count": 90,
   "metadata": {},
   "outputs": [],
   "source": [
    "gcov = hl.read_table('/hail/gnomad/gnomad.genomes.r3.0.coverage.ht/')"
   ]
  },
  {
   "cell_type": "code",
   "execution_count": 91,
   "metadata": {},
   "outputs": [
    {
     "name": "stdout",
     "output_type": "stream",
     "text": [
      "----------------------------------------\n",
      "Global fields:\n",
      "    None\n",
      "----------------------------------------\n",
      "Row fields:\n",
      "    'locus': locus<GRCh38> \n",
      "    'mean': float64 \n",
      "    'median': int32 \n",
      "    'count_array': array<int32> \n",
      "    'over_1': float32 \n",
      "    'over_5': float32 \n",
      "    'over_10': float32 \n",
      "    'over_15': float32 \n",
      "    'over_20': float32 \n",
      "    'over_25': float32 \n",
      "    'over_30': float32 \n",
      "    'over_50': float32 \n",
      "    'over_100': float32 \n",
      "----------------------------------------\n",
      "Key: ['locus']\n",
      "----------------------------------------\n"
     ]
    }
   ],
   "source": [
    "gcov.describe()"
   ]
  },
  {
   "cell_type": "code",
   "execution_count": null,
   "metadata": {},
   "outputs": [],
   "source": [
    "stats = gcov.aggregate(hl.agg.stats(gcov.over_5))"
   ]
  },
  {
   "cell_type": "code",
   "execution_count": null,
   "metadata": {},
   "outputs": [],
   "source": [
    "stats"
   ]
  },
  {
   "cell_type": "code",
   "execution_count": null,
   "metadata": {},
   "outputs": [],
   "source": [
    "gcov = gcov.select(gcov.over_5) #according to https://gnomad.broadinstitute.org/faq this is at least 5 reads"
   ]
  },
  {
   "cell_type": "code",
   "execution_count": null,
   "metadata": {},
   "outputs": [],
   "source": [
    "mt = mt.annotate_rows(v3_coverage = gcov.over_5[mt.locus])"
   ]
  },
  {
   "cell_type": "markdown",
   "metadata": {},
   "source": [
    "## import gnomADv3 table:"
   ]
  },
  {
   "cell_type": "code",
   "execution_count": 18,
   "metadata": {},
   "outputs": [],
   "source": [
    "gnmd = hl.read_table('/hail/gnomad/gnomad.genomes.r3.0.sites.ht')"
   ]
  },
  {
   "cell_type": "code",
   "execution_count": 45,
   "metadata": {},
   "outputs": [],
   "source": [
    "gnmd = gnmd.select(v3_nfe = gnmd.freq[2], \n",
    "            intergenic_consequences = gnmd.vep.intergenic_consequences,\n",
    "            most_severe_consequence = gnmd.vep.most_severe_consequence,\n",
    "            motif_feature_consequences = gnmd.vep.motif_feature_consequences,\n",
    "            regulatory_feature_consequences = gnmd.vep.regulatory_feature_consequences,\n",
    "            transcript_consequences = gnmd.vep.transcript_consequences,\n",
    "            variant_class = gnmd.vep.variant_class,\n",
    "            rsid = gnmd.rsid)"
   ]
  },
  {
   "cell_type": "code",
   "execution_count": 46,
   "metadata": {},
   "outputs": [
    {
     "data": {
      "text/html": [
       "<table><thead style=\"font-weight: bold;\"><tr><td>locus</td><td>alleles</td><td>v3_nfe.AC</td><td>v3_nfe.AF</td><td>v3_nfe.AN</td><td>v3_nfe.homozygote_count</td></tr>\n",
       "<tr><td>locus&lt;GRCh38&gt;</td><td>array&lt;str&gt;</td><td>int32</td><td>float64</td><td>int32</td><td>int32</td></tr>\n",
       "</thead><tbody><tr><td>chr1:10031</td><td>[&quot;T&quot;,&quot;C&quot;]</td><td>0</td><td>0.00e+00</td><td>24292</td><td>0</td></tr>\n",
       "<tr><td>chr1:10037</td><td>[&quot;T&quot;,&quot;C&quot;]</td><td>0</td><td>0.00e+00</td><td>32798</td><td>0</td></tr>\n",
       "<tr><td>chr1:10043</td><td>[&quot;T&quot;,&quot;C&quot;]</td><td>0</td><td>0.00e+00</td><td>37164</td><td>0</td></tr>\n",
       "<tr><td>chr1:10055</td><td>[&quot;T&quot;,&quot;C&quot;]</td><td>0</td><td>0.00e+00</td><td>42048</td><td>0</td></tr>\n",
       "<tr><td>chr1:10057</td><td>[&quot;A&quot;,&quot;C&quot;]</td><td>2</td><td>3.98e-05</td><td>50204</td><td>0</td></tr>\n",
       "<tr><td>chr1:10061</td><td>[&quot;T&quot;,&quot;C&quot;]</td><td>0</td><td>0.00e+00</td><td>48358</td><td>0</td></tr>\n",
       "<tr><td>chr1:10061</td><td>[&quot;T&quot;,&quot;TAACCCTAACCCTAACCCTAACCCTAACCCTAACCCTAACCCTAACCC&quot;]</td><td>0</td><td>0.00e+00</td><td>48358</td><td>0</td></tr>\n",
       "<tr><td>chr1:10064</td><td>[&quot;C&quot;,&quot;CCCTAACCCTAACCCTAACCCTAACCCTAACCCTAACCCTAACCCAACCCTAACCCTAACCCTAACCCTAACCCTAACCCAAA&quot;]</td><td>0</td><td>0.00e+00</td><td>63772</td><td>0</td></tr>\n",
       "<tr><td>chr1:10067</td><td>[&quot;T&quot;,&quot;TAACCCTAACCCTAACCCTAACCCTAACCCTAACCCTAACCC&quot;]</td><td>0</td><td>0.00e+00</td><td>52294</td><td>0</td></tr>\n",
       "<tr><td>chr1:10108</td><td>[&quot;C&quot;,&quot;CA&quot;]</td><td>1</td><td>2.39e-04</td><td>4180</td><td>0</td></tr>\n",
       "</tbody></table><p style=\"background: #fdd; padding: 0.4em;\">showing top 10 rows</p>\n"
      ],
      "text/plain": [
       "+---------------+---------------------------------------------------------------------------------------------+-----------+\n",
       "| locus         | alleles                                                                                     | v3_nfe.AC |\n",
       "+---------------+---------------------------------------------------------------------------------------------+-----------+\n",
       "| locus<GRCh38> | array<str>                                                                                  |     int32 |\n",
       "+---------------+---------------------------------------------------------------------------------------------+-----------+\n",
       "| chr1:10031    | [\"T\",\"C\"]                                                                                   |         0 |\n",
       "| chr1:10037    | [\"T\",\"C\"]                                                                                   |         0 |\n",
       "| chr1:10043    | [\"T\",\"C\"]                                                                                   |         0 |\n",
       "| chr1:10055    | [\"T\",\"C\"]                                                                                   |         0 |\n",
       "| chr1:10057    | [\"A\",\"C\"]                                                                                   |         2 |\n",
       "| chr1:10061    | [\"T\",\"C\"]                                                                                   |         0 |\n",
       "| chr1:10061    | [\"T\",\"TAACCCTAACCCTAACCCTAACCCTAACCCTAACCCTAACCCTAACCC\"]                                    |         0 |\n",
       "| chr1:10064    | [\"C\",\"CCCTAACCCTAACCCTAACCCTAACCCTAACCCTAACCCTAACCCAACCCTAACCCTAACCCTAACCCTAACCCTAACCCAAA\"] |         0 |\n",
       "| chr1:10067    | [\"T\",\"TAACCCTAACCCTAACCCTAACCCTAACCCTAACCCTAACCC\"]                                          |         0 |\n",
       "| chr1:10108    | [\"C\",\"CA\"]                                                                                  |         1 |\n",
       "+---------------+---------------------------------------------------------------------------------------------+-----------+\n",
       "\n",
       "+-----------+-----------+-------------------------+\n",
       "| v3_nfe.AF | v3_nfe.AN | v3_nfe.homozygote_count |\n",
       "+-----------+-----------+-------------------------+\n",
       "|   float64 |     int32 |                   int32 |\n",
       "+-----------+-----------+-------------------------+\n",
       "|  0.00e+00 |     24292 |                       0 |\n",
       "|  0.00e+00 |     32798 |                       0 |\n",
       "|  0.00e+00 |     37164 |                       0 |\n",
       "|  0.00e+00 |     42048 |                       0 |\n",
       "|  3.98e-05 |     50204 |                       0 |\n",
       "|  0.00e+00 |     48358 |                       0 |\n",
       "|  0.00e+00 |     48358 |                       0 |\n",
       "|  0.00e+00 |     63772 |                       0 |\n",
       "|  0.00e+00 |     52294 |                       0 |\n",
       "|  2.39e-04 |      4180 |                       0 |\n",
       "+-----------+-----------+-------------------------+\n",
       "showing top 10 rows"
      ]
     },
     "metadata": {},
     "output_type": "display_data"
    }
   ],
   "source": [
    "gnmd.v3_nfe.show()"
   ]
  },
  {
   "cell_type": "code",
   "execution_count": null,
   "metadata": {},
   "outputs": [],
   "source": []
  },
  {
   "cell_type": "code",
   "execution_count": null,
   "metadata": {},
   "outputs": [],
   "source": []
  },
  {
   "cell_type": "code",
   "execution_count": null,
   "metadata": {},
   "outputs": [],
   "source": []
  },
  {
   "cell_type": "code",
   "execution_count": null,
   "metadata": {},
   "outputs": [],
   "source": []
  },
  {
   "cell_type": "code",
   "execution_count": 5,
   "metadata": {},
   "outputs": [],
   "source": [
    "gwas = hl.read_table('TS_Oct2018.mt')"
   ]
  },
  {
   "cell_type": "code",
   "execution_count": 49,
   "metadata": {},
   "outputs": [
    {
     "name": "stderr",
     "output_type": "stream",
     "text": [
      "2019-12-16 13:36:50 Hail: INFO: Ordering unsorted dataset with network shuffle\n"
     ]
    }
   ],
   "source": [
    "stats = mt.aggregate_rows(hl.agg.stats(mt.gwas_p.P))"
   ]
  },
  {
   "cell_type": "code",
   "execution_count": 50,
   "metadata": {},
   "outputs": [
    {
     "data": {
      "text/plain": [
       "Struct(mean=0.4863693132405223, stdev=0.29268370026289625, min=2.112e-08, max=1.0, n=3634456, sum=1767687.8687228956)"
      ]
     },
     "execution_count": 50,
     "metadata": {},
     "output_type": "execute_result"
    }
   ],
   "source": [
    "stats"
   ]
  },
  {
   "cell_type": "code",
   "execution_count": 6,
   "metadata": {},
   "outputs": [],
   "source": [
    "gwas = gwas.annotate(variants = hl.parse_variant(hl.str(gwas.CHR)+':'+hl.str(gwas.BP)+':'+hl.str(gwas.A1)+':'+hl.str(gwas.A2), reference_genome='GRCh37'))"
   ]
  },
  {
   "cell_type": "code",
   "execution_count": 7,
   "metadata": {
    "scrolled": true
   },
   "outputs": [],
   "source": [
    "rg37 = hl.get_reference('GRCh37')  \n",
    "rg38 = hl.get_reference('GRCh38')  \n",
    "rg37.add_liftover('remple_qc.pyferences_grch37_to_grch38.over.chain.gz', rg38)  "
   ]
  },
  {
   "cell_type": "code",
   "execution_count": 8,
   "metadata": {},
   "outputs": [],
   "source": [
    "gwas = gwas.annotate(new_locus=hl.liftover(gwas.variants.locus, 'GRCh38'))  \n",
    "gwas = gwas.filter(hl.is_defined(gwas.new_locus))  \n",
    "gwas = gwas.key_by(locus=gwas.new_locus, alleles=gwas.variants.alleles)  "
   ]
  },
  {
   "cell_type": "code",
   "execution_count": 9,
   "metadata": {},
   "outputs": [],
   "source": [
    "gwas=gwas.select(gwas.SNP, gwas.P)"
   ]
  },
  {
   "cell_type": "code",
   "execution_count": 12,
   "metadata": {},
   "outputs": [
    {
     "name": "stderr",
     "output_type": "stream",
     "text": [
      "2019-12-16 07:51:04 Hail: INFO: Ordering unsorted dataset with network shuffle\n"
     ]
    },
    {
     "data": {
      "text/html": [
       "<table><thead style=\"font-weight: bold;\"><tr><td>locus</td><td>alleles</td><td>SNP</td><td>P</td></tr>\n",
       "<tr><td>locus&lt;GRCh38&gt;</td><td>array&lt;str&gt;</td><td>str</td><td>float64</td></tr>\n",
       "</thead><tbody><tr><td>chr1:796338</td><td>[&quot;T&quot;,&quot;C&quot;]</td><td>&quot;rs142557973&quot;</td><td>7.29e-01</td></tr>\n",
       "<tr><td>chr1:798969</td><td>[&quot;T&quot;,&quot;C&quot;]</td><td>&quot;rs141242758&quot;</td><td>6.58e-01</td></tr>\n",
       "<tr><td>chr1:800909</td><td>[&quot;A&quot;,&quot;T&quot;]</td><td>&quot;rs79010578&quot;</td><td>8.88e-02</td></tr>\n",
       "<tr><td>chr1:816376</td><td>[&quot;T&quot;,&quot;C&quot;]</td><td>&quot;rs143225517&quot;</td><td>4.18e-01</td></tr>\n",
       "<tr><td>chr1:817186</td><td>[&quot;A&quot;,&quot;G&quot;]</td><td>&quot;rs3094315&quot;</td><td>2.16e-01</td></tr>\n",
       "<tr><td>chr1:817341</td><td>[&quot;A&quot;,&quot;G&quot;]</td><td>&quot;rs3131972&quot;</td><td>4.56e-01</td></tr>\n",
       "<tr><td>chr1:817514</td><td>[&quot;T&quot;,&quot;C&quot;]</td><td>&quot;rs3131971&quot;</td><td>1.43e-01</td></tr>\n",
       "<tr><td>chr1:818025</td><td>[&quot;A&quot;,&quot;C&quot;]</td><td>&quot;rs61770173&quot;</td><td>4.15e-01</td></tr>\n",
       "<tr><td>chr1:818094</td><td>[&quot;C&quot;,&quot;G&quot;]</td><td>&quot;rs2073814&quot;</td><td>5.46e-01</td></tr>\n",
       "<tr><td>chr1:818161</td><td>[&quot;A&quot;,&quot;G&quot;]</td><td>&quot;rs2073813&quot;</td><td>8.88e-01</td></tr>\n",
       "</tbody></table><p style=\"background: #fdd; padding: 0.4em;\">showing top 10 rows</p>\n"
      ],
      "text/plain": [
       "+---------------+------------+---------------+----------+\n",
       "| locus         | alleles    | SNP           |        P |\n",
       "+---------------+------------+---------------+----------+\n",
       "| locus<GRCh38> | array<str> | str           |  float64 |\n",
       "+---------------+------------+---------------+----------+\n",
       "| chr1:796338   | [\"T\",\"C\"]  | \"rs142557973\" | 7.29e-01 |\n",
       "| chr1:798969   | [\"T\",\"C\"]  | \"rs141242758\" | 6.58e-01 |\n",
       "| chr1:800909   | [\"A\",\"T\"]  | \"rs79010578\"  | 8.88e-02 |\n",
       "| chr1:816376   | [\"T\",\"C\"]  | \"rs143225517\" | 4.18e-01 |\n",
       "| chr1:817186   | [\"A\",\"G\"]  | \"rs3094315\"   | 2.16e-01 |\n",
       "| chr1:817341   | [\"A\",\"G\"]  | \"rs3131972\"   | 4.56e-01 |\n",
       "| chr1:817514   | [\"T\",\"C\"]  | \"rs3131971\"   | 1.43e-01 |\n",
       "| chr1:818025   | [\"A\",\"C\"]  | \"rs61770173\"  | 4.15e-01 |\n",
       "| chr1:818094   | [\"C\",\"G\"]  | \"rs2073814\"   | 5.46e-01 |\n",
       "| chr1:818161   | [\"A\",\"G\"]  | \"rs2073813\"   | 8.88e-01 |\n",
       "+---------------+------------+---------------+----------+\n",
       "showing top 10 rows"
      ]
     },
     "metadata": {},
     "output_type": "display_data"
    }
   ],
   "source": [
    "gwas.show()"
   ]
  },
  {
   "cell_type": "code",
   "execution_count": 49,
   "metadata": {},
   "outputs": [
    {
     "name": "stderr",
     "output_type": "stream",
     "text": [
      "2019-12-16 13:36:50 Hail: INFO: Ordering unsorted dataset with network shuffle\n"
     ]
    }
   ],
   "source": [
    "stats = mt.aggregate_rows(hl.agg.stats(mt.gwas_p.P))"
   ]
  },
  {
   "cell_type": "code",
   "execution_count": 50,
   "metadata": {},
   "outputs": [
    {
     "data": {
      "text/plain": [
       "Struct(mean=0.4863693132405223, stdev=0.29268370026289625, min=2.112e-08, max=1.0, n=3634456, sum=1767687.8687228956)"
      ]
     },
     "execution_count": 50,
     "metadata": {},
     "output_type": "execute_result"
    }
   ],
   "source": [
    "stats"
   ]
  },
  {
   "cell_type": "code",
   "execution_count": 44,
   "metadata": {},
   "outputs": [],
   "source": [
    "mt = mt.annotate_rows(gwas_p = gwas[mt.row_key])"
   ]
  },
  {
   "cell_type": "code",
   "execution_count": 35,
   "metadata": {},
   "outputs": [],
   "source": [
    "mtf = mt.filter_rows((mt.gwas_p.P < 5e10-8) & (mt.gwas_p.P != 0))"
   ]
  },
  {
   "cell_type": "code",
   "execution_count": 36,
   "metadata": {},
   "outputs": [
    {
     "name": "stderr",
     "output_type": "stream",
     "text": [
      "2019-12-16 08:55:01 Hail: INFO: Ordering unsorted dataset with network shuffle\n"
     ]
    },
    {
     "data": {
      "text/plain": [
       "3634456"
      ]
     },
     "execution_count": 36,
     "metadata": {},
     "output_type": "execute_result"
    }
   ],
   "source": [
    "mtf.count_rows()"
   ]
  }
 ],
 "metadata": {
  "kernelspec": {
   "display_name": "Python 3",
   "language": "python",
   "name": "python3"
  },
  "language_info": {
   "codemirror_mode": {
    "name": "ipython",
    "version": 3
   },
   "file_extension": ".py",
   "mimetype": "text/x-python",
   "name": "python",
   "nbconvert_exporter": "python",
   "pygments_lexer": "ipython3",
   "version": "3.7.4"
  }
 },
 "nbformat": 4,
 "nbformat_minor": 2
}
