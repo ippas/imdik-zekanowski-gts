{
 "cells": [
  {
   "cell_type": "markdown",
   "metadata": {},
   "source": [
    "# table of contents:\n",
    "\n",
    "## [1. Import hail, other libraries and data](#1)\n",
    "\n",
    "[1.1 import phenotype and pedigree data](#1.1)\n",
    "\n",
    "[1.2 Annotate mt with phenotype and pedigree info](#1.2)\n",
    "\n",
    "## [2. Explore MatrixTable, collect field descriptions](#2)\n",
    "\n",
    "   [2.1 Removing the star alleles](#2.1)\n",
    "   \n",
    "   [2.1.5 Filter out outliers based on PCA](#2.1.5)\n",
    "   \n",
    "   [2.2 Creating a mt_p with patients only and mt_c with non-patients](#2.2)\n",
    "\n",
    "\n",
    "## [3. Explore Clinvar pathogenic variants](#3)\n",
    "\n",
    "[3.1 Filter out pathogenic variants with Gnomad AF > 0.001 and those that occur in controls](#3.1)\n",
    "\n",
    "## [4. Filter for variants in genes associated with GTS ](#4)\n",
    "\n",
    "[4.1 List of 260 genes enriched in basal ganglia](#4.1)\n",
    "\n",
    "[4.2 Lists of genes associated with HPO phenotypes](#4.2)\n",
    "\n",
    "\n",
    "## [5. Find compound / double hets ](#5)\n",
    "\n",
    "[5.1 collect the compound hets int a dataframe](#5.1)\n",
    "\n",
    "## [6.Family investigations](#6)\n",
    "\n",
    "## [7.NUP214 investigation](#7)"
   ]
  },
  {
   "cell_type": "markdown",
   "metadata": {},
   "source": [
    "<a id='1'></a> \n",
    "## 1. Import hail, other libraries and data"
   ]
  },
  {
   "cell_type": "markdown",
   "metadata": {},
   "source": [
    "always run this code to widen notebook:"
   ]
  },
  {
   "cell_type": "code",
   "execution_count": 1,
   "metadata": {},
   "outputs": [
    {
     "data": {
      "text/html": [
       "<style>.container { width:100% !important; }</style>"
      ],
      "text/plain": [
       "<IPython.core.display.HTML object>"
      ]
     },
     "metadata": {},
     "output_type": "display_data"
    }
   ],
   "source": [
    "from IPython.display import display\n",
    "from IPython.display import HTML\n",
    "import IPython.core.display as di # Example: di.display_html('<h3>%s:</h3>' % str, raw=True)\n",
    "\n",
    "# This line will hide code by default when the notebook is exported as HTML\n",
    "# di.display_html('<script>jQuery(function() {if (jQuery(\"body.notebook_app\").length == 0) { jQuery(\".input_area\").toggle(); jQuery(\".prompt\").toggle();}});</script>', raw=True)\n",
    "\n",
    "display(HTML(\"<style>.container { width:100% !important; }</style>\"))"
   ]
  },
  {
   "cell_type": "code",
   "execution_count": 2,
   "metadata": {},
   "outputs": [
    {
     "name": "stderr",
     "output_type": "stream",
     "text": [
      "Running on Apache Spark version 2.4.1\n",
      "SparkUI available at http://8c03623a3bed:4041\n",
      "Welcome to\n",
      "     __  __     <>__\n",
      "    / /_/ /__  __/ /\n",
      "   / __  / _ `/ / /\n",
      "  /_/ /_/\\_,_/_/_/   version 0.2.28-61941242c15d\n",
      "LOGGING: writing to /hail/hail-20191212-1458-0.2.28-61941242c15d.log\n"
     ]
    }
   ],
   "source": [
    "import hail as hl\n",
    "hl.init() "
   ]
  },
  {
   "cell_type": "code",
   "execution_count": 3,
   "metadata": {
    "scrolled": true
   },
   "outputs": [
    {
     "data": {
      "text/html": [
       "\n",
       "    <div class=\"bk-root\">\n",
       "        <a href=\"https://bokeh.pydata.org\" target=\"_blank\" class=\"bk-logo bk-logo-small bk-logo-notebook\"></a>\n",
       "        <span id=\"1001\">Loading BokehJS ...</span>\n",
       "    </div>"
      ]
     },
     "metadata": {},
     "output_type": "display_data"
    },
    {
     "data": {
      "application/javascript": [
       "\n",
       "(function(root) {\n",
       "  function now() {\n",
       "    return new Date();\n",
       "  }\n",
       "\n",
       "  var force = true;\n",
       "\n",
       "  if (typeof root._bokeh_onload_callbacks === \"undefined\" || force === true) {\n",
       "    root._bokeh_onload_callbacks = [];\n",
       "    root._bokeh_is_loading = undefined;\n",
       "  }\n",
       "\n",
       "  var JS_MIME_TYPE = 'application/javascript';\n",
       "  var HTML_MIME_TYPE = 'text/html';\n",
       "  var EXEC_MIME_TYPE = 'application/vnd.bokehjs_exec.v0+json';\n",
       "  var CLASS_NAME = 'output_bokeh rendered_html';\n",
       "\n",
       "  /**\n",
       "   * Render data to the DOM node\n",
       "   */\n",
       "  function render(props, node) {\n",
       "    var script = document.createElement(\"script\");\n",
       "    node.appendChild(script);\n",
       "  }\n",
       "\n",
       "  /**\n",
       "   * Handle when an output is cleared or removed\n",
       "   */\n",
       "  function handleClearOutput(event, handle) {\n",
       "    var cell = handle.cell;\n",
       "\n",
       "    var id = cell.output_area._bokeh_element_id;\n",
       "    var server_id = cell.output_area._bokeh_server_id;\n",
       "    // Clean up Bokeh references\n",
       "    if (id != null && id in Bokeh.index) {\n",
       "      Bokeh.index[id].model.document.clear();\n",
       "      delete Bokeh.index[id];\n",
       "    }\n",
       "\n",
       "    if (server_id !== undefined) {\n",
       "      // Clean up Bokeh references\n",
       "      var cmd = \"from bokeh.io.state import curstate; print(curstate().uuid_to_server['\" + server_id + \"'].get_sessions()[0].document.roots[0]._id)\";\n",
       "      cell.notebook.kernel.execute(cmd, {\n",
       "        iopub: {\n",
       "          output: function(msg) {\n",
       "            var id = msg.content.text.trim();\n",
       "            if (id in Bokeh.index) {\n",
       "              Bokeh.index[id].model.document.clear();\n",
       "              delete Bokeh.index[id];\n",
       "            }\n",
       "          }\n",
       "        }\n",
       "      });\n",
       "      // Destroy server and session\n",
       "      var cmd = \"import bokeh.io.notebook as ion; ion.destroy_server('\" + server_id + \"')\";\n",
       "      cell.notebook.kernel.execute(cmd);\n",
       "    }\n",
       "  }\n",
       "\n",
       "  /**\n",
       "   * Handle when a new output is added\n",
       "   */\n",
       "  function handleAddOutput(event, handle) {\n",
       "    var output_area = handle.output_area;\n",
       "    var output = handle.output;\n",
       "\n",
       "    // limit handleAddOutput to display_data with EXEC_MIME_TYPE content only\n",
       "    if ((output.output_type != \"display_data\") || (!output.data.hasOwnProperty(EXEC_MIME_TYPE))) {\n",
       "      return\n",
       "    }\n",
       "\n",
       "    var toinsert = output_area.element.find(\".\" + CLASS_NAME.split(' ')[0]);\n",
       "\n",
       "    if (output.metadata[EXEC_MIME_TYPE][\"id\"] !== undefined) {\n",
       "      toinsert[toinsert.length - 1].firstChild.textContent = output.data[JS_MIME_TYPE];\n",
       "      // store reference to embed id on output_area\n",
       "      output_area._bokeh_element_id = output.metadata[EXEC_MIME_TYPE][\"id\"];\n",
       "    }\n",
       "    if (output.metadata[EXEC_MIME_TYPE][\"server_id\"] !== undefined) {\n",
       "      var bk_div = document.createElement(\"div\");\n",
       "      bk_div.innerHTML = output.data[HTML_MIME_TYPE];\n",
       "      var script_attrs = bk_div.children[0].attributes;\n",
       "      for (var i = 0; i < script_attrs.length; i++) {\n",
       "        toinsert[toinsert.length - 1].firstChild.setAttribute(script_attrs[i].name, script_attrs[i].value);\n",
       "      }\n",
       "      // store reference to server id on output_area\n",
       "      output_area._bokeh_server_id = output.metadata[EXEC_MIME_TYPE][\"server_id\"];\n",
       "    }\n",
       "  }\n",
       "\n",
       "  function register_renderer(events, OutputArea) {\n",
       "\n",
       "    function append_mime(data, metadata, element) {\n",
       "      // create a DOM node to render to\n",
       "      var toinsert = this.create_output_subarea(\n",
       "        metadata,\n",
       "        CLASS_NAME,\n",
       "        EXEC_MIME_TYPE\n",
       "      );\n",
       "      this.keyboard_manager.register_events(toinsert);\n",
       "      // Render to node\n",
       "      var props = {data: data, metadata: metadata[EXEC_MIME_TYPE]};\n",
       "      render(props, toinsert[toinsert.length - 1]);\n",
       "      element.append(toinsert);\n",
       "      return toinsert\n",
       "    }\n",
       "\n",
       "    /* Handle when an output is cleared or removed */\n",
       "    events.on('clear_output.CodeCell', handleClearOutput);\n",
       "    events.on('delete.Cell', handleClearOutput);\n",
       "\n",
       "    /* Handle when a new output is added */\n",
       "    events.on('output_added.OutputArea', handleAddOutput);\n",
       "\n",
       "    /**\n",
       "     * Register the mime type and append_mime function with output_area\n",
       "     */\n",
       "    OutputArea.prototype.register_mime_type(EXEC_MIME_TYPE, append_mime, {\n",
       "      /* Is output safe? */\n",
       "      safe: true,\n",
       "      /* Index of renderer in `output_area.display_order` */\n",
       "      index: 0\n",
       "    });\n",
       "  }\n",
       "\n",
       "  // register the mime type if in Jupyter Notebook environment and previously unregistered\n",
       "  if (root.Jupyter !== undefined) {\n",
       "    var events = require('base/js/events');\n",
       "    var OutputArea = require('notebook/js/outputarea').OutputArea;\n",
       "\n",
       "    if (OutputArea.prototype.mime_types().indexOf(EXEC_MIME_TYPE) == -1) {\n",
       "      register_renderer(events, OutputArea);\n",
       "    }\n",
       "  }\n",
       "\n",
       "  \n",
       "  if (typeof (root._bokeh_timeout) === \"undefined\" || force === true) {\n",
       "    root._bokeh_timeout = Date.now() + 5000;\n",
       "    root._bokeh_failed_load = false;\n",
       "  }\n",
       "\n",
       "  var NB_LOAD_WARNING = {'data': {'text/html':\n",
       "     \"<div style='background-color: #fdd'>\\n\"+\n",
       "     \"<p>\\n\"+\n",
       "     \"BokehJS does not appear to have successfully loaded. If loading BokehJS from CDN, this \\n\"+\n",
       "     \"may be due to a slow or bad network connection. Possible fixes:\\n\"+\n",
       "     \"</p>\\n\"+\n",
       "     \"<ul>\\n\"+\n",
       "     \"<li>re-rerun `output_notebook()` to attempt to load from CDN again, or</li>\\n\"+\n",
       "     \"<li>use INLINE resources instead, as so:</li>\\n\"+\n",
       "     \"</ul>\\n\"+\n",
       "     \"<code>\\n\"+\n",
       "     \"from bokeh.resources import INLINE\\n\"+\n",
       "     \"output_notebook(resources=INLINE)\\n\"+\n",
       "     \"</code>\\n\"+\n",
       "     \"</div>\"}};\n",
       "\n",
       "  function display_loaded() {\n",
       "    var el = document.getElementById(\"1001\");\n",
       "    if (el != null) {\n",
       "      el.textContent = \"BokehJS is loading...\";\n",
       "    }\n",
       "    if (root.Bokeh !== undefined) {\n",
       "      if (el != null) {\n",
       "        el.textContent = \"BokehJS \" + root.Bokeh.version + \" successfully loaded.\";\n",
       "      }\n",
       "    } else if (Date.now() < root._bokeh_timeout) {\n",
       "      setTimeout(display_loaded, 100)\n",
       "    }\n",
       "  }\n",
       "\n",
       "\n",
       "  function run_callbacks() {\n",
       "    try {\n",
       "      root._bokeh_onload_callbacks.forEach(function(callback) {\n",
       "        if (callback != null)\n",
       "          callback();\n",
       "      });\n",
       "    } finally {\n",
       "      delete root._bokeh_onload_callbacks\n",
       "    }\n",
       "    console.debug(\"Bokeh: all callbacks have finished\");\n",
       "  }\n",
       "\n",
       "  function load_libs(css_urls, js_urls, callback) {\n",
       "    if (css_urls == null) css_urls = [];\n",
       "    if (js_urls == null) js_urls = [];\n",
       "\n",
       "    root._bokeh_onload_callbacks.push(callback);\n",
       "    if (root._bokeh_is_loading > 0) {\n",
       "      console.debug(\"Bokeh: BokehJS is being loaded, scheduling callback at\", now());\n",
       "      return null;\n",
       "    }\n",
       "    if (js_urls == null || js_urls.length === 0) {\n",
       "      run_callbacks();\n",
       "      return null;\n",
       "    }\n",
       "    console.debug(\"Bokeh: BokehJS not loaded, scheduling load and callback at\", now());\n",
       "    root._bokeh_is_loading = css_urls.length + js_urls.length;\n",
       "\n",
       "    function on_load() {\n",
       "      root._bokeh_is_loading--;\n",
       "      if (root._bokeh_is_loading === 0) {\n",
       "        console.debug(\"Bokeh: all BokehJS libraries/stylesheets loaded\");\n",
       "        run_callbacks()\n",
       "      }\n",
       "    }\n",
       "\n",
       "    function on_error() {\n",
       "      console.error(\"failed to load \" + url);\n",
       "    }\n",
       "\n",
       "    for (var i = 0; i < css_urls.length; i++) {\n",
       "      var url = css_urls[i];\n",
       "      const element = document.createElement(\"link\");\n",
       "      element.onload = on_load;\n",
       "      element.onerror = on_error;\n",
       "      element.rel = \"stylesheet\";\n",
       "      element.type = \"text/css\";\n",
       "      element.href = url;\n",
       "      console.debug(\"Bokeh: injecting link tag for BokehJS stylesheet: \", url);\n",
       "      document.body.appendChild(element);\n",
       "    }\n",
       "\n",
       "    for (var i = 0; i < js_urls.length; i++) {\n",
       "      var url = js_urls[i];\n",
       "      var element = document.createElement('script');\n",
       "      element.onload = on_load;\n",
       "      element.onerror = on_error;\n",
       "      element.async = false;\n",
       "      element.src = url;\n",
       "      console.debug(\"Bokeh: injecting script tag for BokehJS library: \", url);\n",
       "      document.head.appendChild(element);\n",
       "    }\n",
       "  };var element = document.getElementById(\"1001\");\n",
       "  if (element == null) {\n",
       "    console.error(\"Bokeh: ERROR: autoload.js configured with elementid '1001' but no matching script tag was found. \")\n",
       "    return false;\n",
       "  }\n",
       "\n",
       "  function inject_raw_css(css) {\n",
       "    const element = document.createElement(\"style\");\n",
       "    element.appendChild(document.createTextNode(css));\n",
       "    document.body.appendChild(element);\n",
       "  }\n",
       "\n",
       "  var js_urls = [\"https://cdn.pydata.org/bokeh/release/bokeh-1.2.0.min.js\", \"https://cdn.pydata.org/bokeh/release/bokeh-widgets-1.2.0.min.js\", \"https://cdn.pydata.org/bokeh/release/bokeh-tables-1.2.0.min.js\", \"https://cdn.pydata.org/bokeh/release/bokeh-gl-1.2.0.min.js\"];\n",
       "  var css_urls = [\"https://cdn.pydata.org/bokeh/release/bokeh-1.2.0.min.css\", \"https://cdn.pydata.org/bokeh/release/bokeh-widgets-1.2.0.min.css\", \"https://cdn.pydata.org/bokeh/release/bokeh-tables-1.2.0.min.css\"];\n",
       "\n",
       "  var inline_js = [\n",
       "    function(Bokeh) {\n",
       "      Bokeh.set_log_level(\"info\");\n",
       "    },\n",
       "    \n",
       "    function(Bokeh) {\n",
       "      \n",
       "    },\n",
       "    function(Bokeh) {} // ensure no trailing comma for IE\n",
       "  ];\n",
       "\n",
       "  function run_inline_js() {\n",
       "    \n",
       "    if ((root.Bokeh !== undefined) || (force === true)) {\n",
       "      for (var i = 0; i < inline_js.length; i++) {\n",
       "        inline_js[i].call(root, root.Bokeh);\n",
       "      }if (force === true) {\n",
       "        display_loaded();\n",
       "      }} else if (Date.now() < root._bokeh_timeout) {\n",
       "      setTimeout(run_inline_js, 100);\n",
       "    } else if (!root._bokeh_failed_load) {\n",
       "      console.log(\"Bokeh: BokehJS failed to load within specified timeout.\");\n",
       "      root._bokeh_failed_load = true;\n",
       "    } else if (force !== true) {\n",
       "      var cell = $(document.getElementById(\"1001\")).parents('.cell').data().cell;\n",
       "      cell.output_area.append_execute_result(NB_LOAD_WARNING)\n",
       "    }\n",
       "\n",
       "  }\n",
       "\n",
       "  if (root._bokeh_is_loading === 0) {\n",
       "    console.debug(\"Bokeh: BokehJS loaded, going straight to plotting\");\n",
       "    run_inline_js();\n",
       "  } else {\n",
       "    load_libs(css_urls, js_urls, function() {\n",
       "      console.debug(\"Bokeh: BokehJS plotting callback run at\", now());\n",
       "      run_inline_js();\n",
       "    });\n",
       "  }\n",
       "}(window));"
      ],
      "application/vnd.bokehjs_load.v0+json": "\n(function(root) {\n  function now() {\n    return new Date();\n  }\n\n  var force = true;\n\n  if (typeof root._bokeh_onload_callbacks === \"undefined\" || force === true) {\n    root._bokeh_onload_callbacks = [];\n    root._bokeh_is_loading = undefined;\n  }\n\n  \n\n  \n  if (typeof (root._bokeh_timeout) === \"undefined\" || force === true) {\n    root._bokeh_timeout = Date.now() + 5000;\n    root._bokeh_failed_load = false;\n  }\n\n  var NB_LOAD_WARNING = {'data': {'text/html':\n     \"<div style='background-color: #fdd'>\\n\"+\n     \"<p>\\n\"+\n     \"BokehJS does not appear to have successfully loaded. If loading BokehJS from CDN, this \\n\"+\n     \"may be due to a slow or bad network connection. Possible fixes:\\n\"+\n     \"</p>\\n\"+\n     \"<ul>\\n\"+\n     \"<li>re-rerun `output_notebook()` to attempt to load from CDN again, or</li>\\n\"+\n     \"<li>use INLINE resources instead, as so:</li>\\n\"+\n     \"</ul>\\n\"+\n     \"<code>\\n\"+\n     \"from bokeh.resources import INLINE\\n\"+\n     \"output_notebook(resources=INLINE)\\n\"+\n     \"</code>\\n\"+\n     \"</div>\"}};\n\n  function display_loaded() {\n    var el = document.getElementById(\"1001\");\n    if (el != null) {\n      el.textContent = \"BokehJS is loading...\";\n    }\n    if (root.Bokeh !== undefined) {\n      if (el != null) {\n        el.textContent = \"BokehJS \" + root.Bokeh.version + \" successfully loaded.\";\n      }\n    } else if (Date.now() < root._bokeh_timeout) {\n      setTimeout(display_loaded, 100)\n    }\n  }\n\n\n  function run_callbacks() {\n    try {\n      root._bokeh_onload_callbacks.forEach(function(callback) {\n        if (callback != null)\n          callback();\n      });\n    } finally {\n      delete root._bokeh_onload_callbacks\n    }\n    console.debug(\"Bokeh: all callbacks have finished\");\n  }\n\n  function load_libs(css_urls, js_urls, callback) {\n    if (css_urls == null) css_urls = [];\n    if (js_urls == null) js_urls = [];\n\n    root._bokeh_onload_callbacks.push(callback);\n    if (root._bokeh_is_loading > 0) {\n      console.debug(\"Bokeh: BokehJS is being loaded, scheduling callback at\", now());\n      return null;\n    }\n    if (js_urls == null || js_urls.length === 0) {\n      run_callbacks();\n      return null;\n    }\n    console.debug(\"Bokeh: BokehJS not loaded, scheduling load and callback at\", now());\n    root._bokeh_is_loading = css_urls.length + js_urls.length;\n\n    function on_load() {\n      root._bokeh_is_loading--;\n      if (root._bokeh_is_loading === 0) {\n        console.debug(\"Bokeh: all BokehJS libraries/stylesheets loaded\");\n        run_callbacks()\n      }\n    }\n\n    function on_error() {\n      console.error(\"failed to load \" + url);\n    }\n\n    for (var i = 0; i < css_urls.length; i++) {\n      var url = css_urls[i];\n      const element = document.createElement(\"link\");\n      element.onload = on_load;\n      element.onerror = on_error;\n      element.rel = \"stylesheet\";\n      element.type = \"text/css\";\n      element.href = url;\n      console.debug(\"Bokeh: injecting link tag for BokehJS stylesheet: \", url);\n      document.body.appendChild(element);\n    }\n\n    for (var i = 0; i < js_urls.length; i++) {\n      var url = js_urls[i];\n      var element = document.createElement('script');\n      element.onload = on_load;\n      element.onerror = on_error;\n      element.async = false;\n      element.src = url;\n      console.debug(\"Bokeh: injecting script tag for BokehJS library: \", url);\n      document.head.appendChild(element);\n    }\n  };var element = document.getElementById(\"1001\");\n  if (element == null) {\n    console.error(\"Bokeh: ERROR: autoload.js configured with elementid '1001' but no matching script tag was found. \")\n    return false;\n  }\n\n  function inject_raw_css(css) {\n    const element = document.createElement(\"style\");\n    element.appendChild(document.createTextNode(css));\n    document.body.appendChild(element);\n  }\n\n  var js_urls = [\"https://cdn.pydata.org/bokeh/release/bokeh-1.2.0.min.js\", \"https://cdn.pydata.org/bokeh/release/bokeh-widgets-1.2.0.min.js\", \"https://cdn.pydata.org/bokeh/release/bokeh-tables-1.2.0.min.js\", \"https://cdn.pydata.org/bokeh/release/bokeh-gl-1.2.0.min.js\"];\n  var css_urls = [\"https://cdn.pydata.org/bokeh/release/bokeh-1.2.0.min.css\", \"https://cdn.pydata.org/bokeh/release/bokeh-widgets-1.2.0.min.css\", \"https://cdn.pydata.org/bokeh/release/bokeh-tables-1.2.0.min.css\"];\n\n  var inline_js = [\n    function(Bokeh) {\n      Bokeh.set_log_level(\"info\");\n    },\n    \n    function(Bokeh) {\n      \n    },\n    function(Bokeh) {} // ensure no trailing comma for IE\n  ];\n\n  function run_inline_js() {\n    \n    if ((root.Bokeh !== undefined) || (force === true)) {\n      for (var i = 0; i < inline_js.length; i++) {\n        inline_js[i].call(root, root.Bokeh);\n      }if (force === true) {\n        display_loaded();\n      }} else if (Date.now() < root._bokeh_timeout) {\n      setTimeout(run_inline_js, 100);\n    } else if (!root._bokeh_failed_load) {\n      console.log(\"Bokeh: BokehJS failed to load within specified timeout.\");\n      root._bokeh_failed_load = true;\n    } else if (force !== true) {\n      var cell = $(document.getElementById(\"1001\")).parents('.cell').data().cell;\n      cell.output_area.append_execute_result(NB_LOAD_WARNING)\n    }\n\n  }\n\n  if (root._bokeh_is_loading === 0) {\n    console.debug(\"Bokeh: BokehJS loaded, going straight to plotting\");\n    run_inline_js();\n  } else {\n    load_libs(css_urls, js_urls, function() {\n      console.debug(\"Bokeh: BokehJS plotting callback run at\", now());\n      run_inline_js();\n    });\n  }\n}(window));"
     },
     "metadata": {},
     "output_type": "display_data"
    }
   ],
   "source": [
    "from hail.plot import show\n",
    "from pprint import pprint\n",
    "from bokeh.layouts import gridplot\n",
    "hl.plot.output_notebook()\n",
    "\n",
    "import numpy as np\n",
    "import pandas as pd\n",
    "from functools import reduce\n",
    "from itertools import chain"
   ]
  },
  {
   "cell_type": "code",
   "execution_count": 17,
   "metadata": {},
   "outputs": [
    {
     "name": "stderr",
     "output_type": "stream",
     "text": [
      "2019-12-11 15:04:17 Hail: INFO: Ordering unsorted dataset with network shuffle\n",
      "2019-12-11 15:04:47 Hail: INFO: wrote matrix table with 726380 rows and 151 columns in 116 partitions to data/sample.mt\n"
     ]
    }
   ],
   "source": [
    "hl.import_vcf('data/vcf/sample.annotated-with-functional-annotations-gene-level.vcf', reference_genome='GRCh38').write('data/sample.mt', overwrite=True)"
   ]
  },
  {
   "cell_type": "code",
   "execution_count": 4,
   "metadata": {},
   "outputs": [],
   "source": [
    "mt = hl.read_matrix_table('data/sample.mt') # mt stands for MatrixTable"
   ]
  },
  {
   "cell_type": "markdown",
   "metadata": {},
   "source": [
    "<a id='1.1'></a>\n",
    "## 1.1 import phenotype and pedigree data"
   ]
  },
  {
   "cell_type": "code",
   "execution_count": 5,
   "metadata": {},
   "outputs": [
    {
     "name": "stderr",
     "output_type": "stream",
     "text": [
      "2019-12-12 14:58:47 Hail: INFO: Reading table to impute column types\n",
      "2019-12-12 14:58:47 Hail: INFO: Finished type imputation\n",
      "  Loading column 'ID' as type 'str' (imputed)\n",
      "  Loading column 'family' as type 'str' (imputed)\n",
      "  Loading column 'sex' as type 'str' (imputed)\n",
      "  Loading column 'kinship' as type 'str' (imputed)\n",
      "  Loading column 'disease' as type 'str' (imputed)\n",
      "  Loading column 'phenotype' as type 'str' (imputed)\n",
      "  Loading column 'add_pheno' as type 'str' (imputed)\n",
      "  Loading column 'heavy_tics' as type 'str' (imputed)\n"
     ]
    }
   ],
   "source": [
    "pheno = hl.import_table('GTS-coded.csv', delimiter = ',', impute = True, key = 'ID')"
   ]
  },
  {
   "cell_type": "markdown",
   "metadata": {},
   "source": [
    "<a id='1.2'></a>\n",
    "\n",
    "## 1.2 Annotate mt with phenotype and pedigree info"
   ]
  },
  {
   "cell_type": "code",
   "execution_count": 6,
   "metadata": {},
   "outputs": [],
   "source": [
    "mt = mt.annotate_cols(phenotypes = pheno[mt.s])"
   ]
  },
  {
   "cell_type": "markdown",
   "metadata": {},
   "source": [
    "<a id='2'></a> \n",
    "## 2. Explore MatrixTable, collect field descriptions"
   ]
  },
  {
   "cell_type": "markdown",
   "metadata": {},
   "source": [
    "<a id='2.1'></a>\n",
    "\n",
    "## 2.1 Removing the star alleles\n",
    "\n",
    "### These are orphaned stars and shouldn't be here\n",
    "\n"
   ]
  },
  {
   "cell_type": "code",
   "execution_count": 7,
   "metadata": {},
   "outputs": [],
   "source": [
    "mt = mt.filter_rows(mt.alleles.contains('*'), keep = False)"
   ]
  },
  {
   "cell_type": "markdown",
   "metadata": {},
   "source": [
    "<a id='2.1.5'></a>\n",
    "\n",
    "### 2.1.5 Filter out outliers based on PCA"
   ]
  },
  {
   "cell_type": "code",
   "execution_count": 8,
   "metadata": {},
   "outputs": [],
   "source": [
    "mt = mt.filter_cols(mt.s != 'WGS_139', keep = True)\n",
    "mt = mt.filter_cols(mt.s != 'WGS_D6816', keep = True)"
   ]
  },
  {
   "cell_type": "code",
   "execution_count": 23,
   "metadata": {
    "scrolled": false
   },
   "outputs": [
    {
     "name": "stderr",
     "output_type": "stream",
     "text": [
      "2019-12-11 15:04:49 Hail: INFO: hwe_normalized_pca: running PCA using 42468 variants.\n",
      "2019-12-11 15:04:52 Hail: INFO: pca: running PCA with 10 components...\n"
     ]
    }
   ],
   "source": [
    "eigenvalues, pcs, _ = hl.hwe_normalized_pca(mt.GT)"
   ]
  },
  {
   "cell_type": "code",
   "execution_count": 24,
   "metadata": {},
   "outputs": [],
   "source": [
    "mt = mt.annotate_cols(scores = pcs[mt.s].scores)"
   ]
  },
  {
   "cell_type": "code",
   "execution_count": 25,
   "metadata": {
    "scrolled": true
   },
   "outputs": [
    {
     "data": {
      "text/html": [
       "\n",
       "\n",
       "\n",
       "\n",
       "\n",
       "\n",
       "  <div class=\"bk-root\" id=\"5c09194e-2171-4877-add8-fe7d046d5d75\" data-root-id=\"1252\"></div>\n"
      ]
     },
     "metadata": {},
     "output_type": "display_data"
    },
    {
     "data": {
      "application/javascript": [
       "(function(root) {\n",
       "  function embed_document(root) {\n",
       "    \n",
       "  var docs_json = {\"a5a6e66b-f9c0-4c6c-a216-f661bf6dc1eb\":{\"roots\":{\"references\":[{\"attributes\":{\"below\":[{\"id\":\"1263\",\"type\":\"LinearAxis\"}],\"center\":[{\"id\":\"1267\",\"type\":\"Grid\"},{\"id\":\"1272\",\"type\":\"Grid\"}],\"left\":[{\"id\":\"1268\",\"type\":\"LinearAxis\"},{\"id\":\"1430\",\"type\":\"Legend\"},{\"id\":\"1431\",\"type\":\"ColorBar\"}],\"plot_height\":800,\"plot_width\":800,\"renderers\":[{\"id\":\"1295\",\"type\":\"GlyphRenderer\"},{\"id\":\"1301\",\"type\":\"GlyphRenderer\"},{\"id\":\"1307\",\"type\":\"GlyphRenderer\"},{\"id\":\"1313\",\"type\":\"GlyphRenderer\"},{\"id\":\"1319\",\"type\":\"GlyphRenderer\"},{\"id\":\"1325\",\"type\":\"GlyphRenderer\"},{\"id\":\"1331\",\"type\":\"GlyphRenderer\"},{\"id\":\"1337\",\"type\":\"GlyphRenderer\"},{\"id\":\"1343\",\"type\":\"GlyphRenderer\"},{\"id\":\"1349\",\"type\":\"GlyphRenderer\"},{\"id\":\"1355\",\"type\":\"GlyphRenderer\"},{\"id\":\"1361\",\"type\":\"GlyphRenderer\"},{\"id\":\"1367\",\"type\":\"GlyphRenderer\"},{\"id\":\"1373\",\"type\":\"GlyphRenderer\"},{\"id\":\"1379\",\"type\":\"GlyphRenderer\"},{\"id\":\"1385\",\"type\":\"GlyphRenderer\"},{\"id\":\"1391\",\"type\":\"GlyphRenderer\"},{\"id\":\"1397\",\"type\":\"GlyphRenderer\"},{\"id\":\"1403\",\"type\":\"GlyphRenderer\"},{\"id\":\"1409\",\"type\":\"GlyphRenderer\"}],\"title\":{\"id\":\"1253\",\"type\":\"Title\"},\"toolbar\":{\"id\":\"1279\",\"type\":\"Toolbar\"},\"x_range\":{\"id\":\"1255\",\"type\":\"DataRange1d\"},\"x_scale\":{\"id\":\"1259\",\"type\":\"LinearScale\"},\"y_range\":{\"id\":\"1257\",\"type\":\"DataRange1d\"},\"y_scale\":{\"id\":\"1261\",\"type\":\"LinearScale\"}},\"id\":\"1252\",\"subtype\":\"Figure\",\"type\":\"Plot\"},{\"attributes\":{\"filters\":[{\"id\":\"1356\",\"type\":\"GroupFilter\"}],\"source\":{\"id\":\"1288\",\"type\":\"ColumnDataSource\"}},\"id\":\"1357\",\"type\":\"CDSView\"},{\"attributes\":{\"text\":\"PCA\"},\"id\":\"1253\",\"type\":\"Title\"},{\"attributes\":{},\"id\":\"1273\",\"type\":\"PanTool\"},{\"attributes\":{\"fill_color\":{\"field\":\"label\",\"transform\":{\"id\":\"1289\",\"type\":\"CategoricalColorMapper\"}},\"line_color\":{\"field\":\"label\",\"transform\":{\"id\":\"1289\",\"type\":\"CategoricalColorMapper\"}},\"x\":{\"field\":\"x\"},\"y\":{\"field\":\"y\"}},\"id\":\"1359\",\"type\":\"Circle\"},{\"attributes\":{\"dimension\":1,\"ticker\":{\"id\":\"1269\",\"type\":\"BasicTicker\"}},\"id\":\"1272\",\"type\":\"Grid\"},{\"attributes\":{},\"id\":\"1269\",\"type\":\"BasicTicker\"},{\"attributes\":{\"filters\":[{\"id\":\"1362\",\"type\":\"GroupFilter\"}],\"source\":{\"id\":\"1288\",\"type\":\"ColumnDataSource\"}},\"id\":\"1363\",\"type\":\"CDSView\"},{\"attributes\":{\"fill_alpha\":{\"value\":0.1},\"fill_color\":{\"value\":\"#1f77b4\"},\"line_alpha\":{\"value\":0.1},\"line_color\":{\"value\":\"#1f77b4\"},\"x\":{\"field\":\"x\"},\"y\":{\"field\":\"y\"}},\"id\":\"1360\",\"type\":\"Circle\"},{\"attributes\":{\"data_source\":{\"id\":\"1288\",\"type\":\"ColumnDataSource\"},\"glyph\":{\"id\":\"1359\",\"type\":\"Circle\"},\"hover_glyph\":null,\"muted_glyph\":null,\"nonselection_glyph\":{\"id\":\"1360\",\"type\":\"Circle\"},\"selection_glyph\":null,\"view\":{\"id\":\"1357\",\"type\":\"CDSView\"}},\"id\":\"1361\",\"type\":\"GlyphRenderer\"},{\"attributes\":{\"overlay\":{\"id\":\"1449\",\"type\":\"BoxAnnotation\"}},\"id\":\"1275\",\"type\":\"BoxZoomTool\"},{\"attributes\":{},\"id\":\"1446\",\"type\":\"BasicTicker\"},{\"attributes\":{\"filters\":[{\"id\":\"1332\",\"type\":\"GroupFilter\"}],\"source\":{\"id\":\"1288\",\"type\":\"ColumnDataSource\"}},\"id\":\"1333\",\"type\":\"CDSView\"},{\"attributes\":{\"fill_color\":{\"field\":\"label\",\"transform\":{\"id\":\"1289\",\"type\":\"CategoricalColorMapper\"}},\"line_color\":{\"field\":\"label\",\"transform\":{\"id\":\"1289\",\"type\":\"CategoricalColorMapper\"}},\"x\":{\"field\":\"x\"},\"y\":{\"field\":\"y\"}},\"id\":\"1365\",\"type\":\"Circle\"},{\"attributes\":{},\"id\":\"1445\",\"type\":\"BasicTickFormatter\"},{\"attributes\":{},\"id\":\"1278\",\"type\":\"HelpTool\"},{\"attributes\":{\"fill_alpha\":{\"value\":0.1},\"fill_color\":{\"value\":\"#1f77b4\"},\"line_alpha\":{\"value\":0.1},\"line_color\":{\"value\":\"#1f77b4\"},\"x\":{\"field\":\"x\"},\"y\":{\"field\":\"y\"}},\"id\":\"1348\",\"type\":\"Circle\"},{\"attributes\":{\"column_name\":\"label\",\"group\":\"L\"},\"id\":\"1362\",\"type\":\"GroupFilter\"},{\"attributes\":{\"column_name\":\"label\",\"group\":\"G\"},\"id\":\"1332\",\"type\":\"GroupFilter\"},{\"attributes\":{\"data_source\":{\"id\":\"1288\",\"type\":\"ColumnDataSource\"},\"glyph\":{\"id\":\"1341\",\"type\":\"Circle\"},\"hover_glyph\":null,\"muted_glyph\":null,\"nonselection_glyph\":{\"id\":\"1342\",\"type\":\"Circle\"},\"selection_glyph\":null,\"view\":{\"id\":\"1339\",\"type\":\"CDSView\"}},\"id\":\"1343\",\"type\":\"GlyphRenderer\"},{\"attributes\":{\"bottom_units\":\"screen\",\"fill_alpha\":{\"value\":0.5},\"fill_color\":{\"value\":\"lightgrey\"},\"left_units\":\"screen\",\"level\":\"overlay\",\"line_alpha\":{\"value\":1.0},\"line_color\":{\"value\":\"black\"},\"line_dash\":[4,4],\"line_width\":{\"value\":2},\"render_mode\":\"css\",\"right_units\":\"screen\",\"top_units\":\"screen\"},\"id\":\"1449\",\"type\":\"BoxAnnotation\"},{\"attributes\":{\"filters\":[{\"id\":\"1368\",\"type\":\"GroupFilter\"}],\"source\":{\"id\":\"1288\",\"type\":\"ColumnDataSource\"}},\"id\":\"1369\",\"type\":\"CDSView\"},{\"attributes\":{\"column_name\":\"label\",\"group\":\"H\"},\"id\":\"1338\",\"type\":\"GroupFilter\"},{\"attributes\":{\"fill_alpha\":{\"value\":0.1},\"fill_color\":{\"value\":\"#1f77b4\"},\"line_alpha\":{\"value\":0.1},\"line_color\":{\"value\":\"#1f77b4\"},\"x\":{\"field\":\"x\"},\"y\":{\"field\":\"y\"}},\"id\":\"1366\",\"type\":\"Circle\"},{\"attributes\":{\"callback\":null,\"data\":{\"index\":[0,1,2,3,4,5,6,7,8,9,10,11,12,13,14,15,16,17,18,19,20,21,22,23,24,25,26,27,28,29,30,31,32,33,34,35,36,37,38,39,40,41,42,43,44,45,46,47,48,49,50,51,52,53,54,55,56,57,58,59,60,61,62,63,64,65,66,67,68,69,70,71,72,73,74,75,76,77,78,79,80,81,82,83,84,85,86,87,88,89,90,91,92,93,94,95,96,97,98,99,100,101,102,103,104,105,106,107,108,109,110,111,112,113,114,115,116,117,118,119,120,121,122,123,124,125,126,127,128,129,130,131,132,133,134,135,136,137,138,139,140,141,142,143,144,145,146,147],\"label\":[\".\",\".\",\"T\",\"T\",\".\",\"T\",\"S\",\"T\",\".\",\"S\",\"T\",\"T\",\"S\",\"T\",\"T\",\"S\",\"S\",\"I\",\"S\",\"N\",\"I\",\"I\",\"I\",\"N\",\"I\",\"I\",\".\",\".\",\".\",\".\",\".\",\".\",\"K\",\".\",\"N\",\".\",\".\",\".\",\".\",\".\",\".\",\"H\",\"L\",\".\",\"O\",\"L\",\"H\",\".\",\"L\",\"R\",\"D\",\"O\",\"O\",\".\",\".\",\"R\",\".\",\"K\",\".\",\"K\",\".\",\"R\",\".\",\"R\",\".\",\".\",\".\",\".\",\"A\",\"F\",\".\",\"H\",\"R\",\".\",\"R\",\"A\",\"D\",\"M\",\".\",\"F\",\".\",\"H\",\"H\",\"D\",\"A\",\"F\",\".\",\"F\",\"H\",\"A\",\".\",\"F\",\"M\",\"G\",\"D\",\"A\",\"F\",\".\",\"A\",\"M\",\"G\",\"F\",\".\",\"F\",\"D\",\"G\",\"A\",\"F\",\".\",\"D\",\"F\",\"F\",\".\",\"G\",\"J\",\"D\",\"J\",\"P\",\"J\",\"J\",\"P\",\"J\",\"B\",\"P\",\"P\",\"B\",\"B\",\"B\",\"B\",\"B\",\"B\",\"B\",\"C\",\"E\",\"E\",\"E\",\"E\",\"E\",\"E\",\"E\",\"C\",\"C\",\"C\",\"C\",\"C\",\"C\",\"C\",\"C\"],\"x\":{\"__ndarray__\":\"/s1rFvHY1b+FQTawGDTOv7K445H75Me/xxT0jyTtxr8KagYYEv7Gv9a9ZtWjc8a/2sk6/dMzxb/d9rpNAyHFv6ga9fKryMS/U+FkEd2CxL/JDb2v5Y3Ev9h4BA+FMcS/kmY7AjD4w78jbP9os7fDvzqsCgMlccO/EKTP/shMw7/f9515E7zCv5Sxw2vd8cG/i6FmIGyUwb+lXzQJqwHBv62j4p3glsC/Arrqvl+bvb+EpvbSYJu8v9VC1BOIR7y/6E94PfWzu7/qH5eQZqm6v5UWMkRcKbq/MLqqo/gDtr++FhMG7da1v0N4dmuXj7W/3abtuk3os7+cGKj4wRS0vwTX0kS+pLO/mwyltwENsr/F5Omn/Oqxvzv1zbpsObG/eGZGJA8Kr7+m9N3DY6itv4/BwC7KGq6/vFBg0j9Mrb8lGsp2iketv0IJMH1Yz6q/XmKQmXzCqr/p+QTolQKpv8XXMKh31KW/XMFzPlo3pL+Zfa/4GRWjv6ZMpwIg26K/CqXbj5znor8a9nKCcSiiv98s1QWMgaK/ns7YGw8PoL/k1i3NlI6ev3lfEkdvQ5+/dzYPSY4GnL8r7FFMyv2av6tnXCpsU5q/ZPydcasGm79R44z6YZSZvxC/Kh71Mpe/ePoFPTcbmL/97OXMD9uVv2zvRhIfFpa/nRJ9sTpPlb86nJY3pp2Uv7NQNeYIG5W/gUU0ECHjk7+4kCVlAdOQv4dk2uy3IZC/GmalQSXcj79CBPBr7cqJv6Yyik1uXIy/eU58sU15g7+tzU9ud+eAv+bAHN0udHy/koXEnH4jc7+64gYzA2ljvzdPNKhc62C/xtW/uGU+Sb/sHzSGGC1mP3wnAjRaCHA/jPgb4dMGcj+xg7YC3Jl6Pzq8ndW2ioA/gqfLIxuOgz+8OWZMylaGP8bz8O2Paok/wq9yJ++Jhz/SVphRibOJPz+8IxllxIo/W09v6xhzjT9pOtr6/8WNP0IyekavD5A/mhGsjIwgkD9TJn7YgNSSPzhiznbnZ5Q/HJAcvmyIlD9mTplYoMGVP9qegrZCuZU/7ROj68+qlT84jNOcGT+ZP8VOb/O+7Zg/JQ7ZuzPQmj+Uvk/CmXicP9T3D19OGaA/Lk9uNE8BoD/hJ4EPPeGhP1BVj70de6I/2/kVGwdXpD/vhx5im3OkP+3a8HF+5aU/CKBxt2HRpj93CoFGlo6nP1dOwcz5tKg/WIPVT49gsD9w8HXMI7OwP5/KsJvARrE/K8b2RsFGsj/9ZToRIHCzP+FrdFGZyLM/31+9rqI2tT+EgEEhlPu0P03iewGbqrY/rQIAxdjYtz8TWKofQmy4P0Vix+7hELw/xgMLweQkvD9JylCiy268P9gL02Eldr0/LjdWcQnzvT9Q4H/FBXXAP5uPtk0rDsE/jDYc0Tw2wj/VO8vZUIXDP39v+NViccM/nZ0w5uk4xD8FEEheTjzEP6vyxmRBasQ/ZKhYfcQjxj/u7+PE6ynGP0Ga1rFRPcY/s69NqtZ00T+xOdbdM5LTPz+ZxPZI3NM//qfsT0Bi1D/o/9SW22HVPykvK18QCdY/IJmBNegc1z8=\",\"dtype\":\"float64\",\"shape\":[148]},\"y\":{\"__ndarray__\":\"C9Jvakcbt78IlKChUNWHv45BwS2pDb2/8QLOJDtEur+yhocgB1q0v4jr+PCMdra/WOYk5gLmv79kUHB1sla2v0tZprfoYVC/OPoPuVvQuL8ZZQBjDrqvv15z4eCk5La/JrR3j622vb8WSBkkmUagv5hXtaW87qq/zW+Xv7nMur8AOPtyRhzAv71f5TwYSdo/vF5vmDYRtr85nuhkFzSlv8ClK7RwgNU/KpUNtKZo1j+edwEKcWLQP09BZcdtKaW/pmLPENUz1z/uHsNyxPLUP1nx47VfYaI/cFF5qvqNib/4gvDzAm+qvyrMFcJYkJa/URpg4z/EhT8I0Qv/JmmJP6A7695YjZW/IuZnc4KIs79KsYH/vziVv6CCUadlaIc/QDwVRJTho79FZOwDMMXCv0cwDaeYKqq/2PKvsAo7sL+eQXYDzLCav5mkvIZLt5u/l4P8eQF3kr8lSMCXMRagPxUExhgYubG/BM0KB9yVkz+/UMvkV/yQP346jyLmJKE/OwcAswInqz9nFcgx+ObOv9qYgPmoK6u/0lqcGsAXs78eMofR+xF+v0Qk8qQUVbI/gZ/M0sApsD8d5pfZt17Mv0fsIAl3e4k/pL9IodBXkj9+uEUR/riRvxapKj9i552/2ytp3b7omb+I15kv50fKv++SK+OeKLS/9oWJUTuxzb8HrBukRki/v00Zsr1I+ZC/JW7SECVes7+BndyMmay6vyQKYWJ0y4S/Rx58SGMHsT/fhdKahRahvz27kkwKnbU/LPlVJ/kWzr/sgDkJVbGxv7wY14EvLs2/f27g89IiiT+bciQyPu+Vv3rrr/nvBKY/gc+JOvE9pb9qh+G1SIO1P62+t3nDLog/GkxDvIZqtT9HWrPeGEu3P7yAa2DVS6u/JowL5zbAnD+n/YGkkXS6P7TpRcj9tZ6/8RY1YoCHrz/ZgNM3XV+4P00ejPG4Iaw/sBRcSRZBk79q1VgbHAS0PzIiLPUKPq4/0JBn5XW3tj8o73xCMweXP/Qt1izzzKc/KF+R2340tT84okMbzFqrv0yGX7IPmJw/fZ6iGdy+pz9y3gkpAq65P8ygIq7MA7s/5GPTS2SHvD/VFVU8v9W0P4JkwsTlh4o/ZOwio4+ZuD8BKbssgtuNP7d2mcICkrs/Y6xBFUiqsL9dtYGtLmiiv3yOIap4ZLk/PcDVdgsyuj/Xd+v2Ee2iPxA+Zd7tYLQ/ip/NfHqdvj8uMTN8seikP1XfaAJJysc/4n9T5mkek79my3w+qbbKP4sBdiuLL8w/0mi1BtNnl79XA87ugIHCP0EiDPT98MA/DyChnBejK7+61OrYEzxDP9qfJxPhuMI/YBOyL89Qej9kgrN9d9W3P6yG62hpIHc/qHAqqed1uz+joQgzB1CqPxn5XLGwToy/azTvfXSCpr+SGkrmY93Kv8Z8yjq2k8K/zl47f8clx79ImvIYf7TDvwRosm13Vcq/wcKMjTZDyb/zj8SbnnXEv2yfEZ6FALO/2iZuMZItlj9s8W2rqUB8v5dFwI/aHqm/mYDDoHw9eb8ZES2FTX2KPwOogiBef6O/BtWRCik2fb8=\",\"dtype\":\"float64\",\"shape\":[148]}},\"selected\":{\"id\":\"1451\",\"type\":\"Selection\"},\"selection_policy\":{\"id\":\"1450\",\"type\":\"UnionRenderers\"}},\"id\":\"1288\",\"type\":\"ColumnDataSource\"},{\"attributes\":{\"data_source\":{\"id\":\"1288\",\"type\":\"ColumnDataSource\"},\"glyph\":{\"id\":\"1365\",\"type\":\"Circle\"},\"hover_glyph\":null,\"muted_glyph\":null,\"nonselection_glyph\":{\"id\":\"1366\",\"type\":\"Circle\"},\"selection_glyph\":null,\"view\":{\"id\":\"1363\",\"type\":\"CDSView\"}},\"id\":\"1367\",\"type\":\"GlyphRenderer\"},{\"attributes\":{\"filters\":[{\"id\":\"1344\",\"type\":\"GroupFilter\"}],\"source\":{\"id\":\"1288\",\"type\":\"ColumnDataSource\"}},\"id\":\"1345\",\"type\":\"CDSView\"},{\"attributes\":{},\"id\":\"1447\",\"type\":\"BasicTickFormatter\"},{\"attributes\":{\"fill_color\":{\"field\":\"label\",\"transform\":{\"id\":\"1289\",\"type\":\"CategoricalColorMapper\"}},\"line_color\":{\"field\":\"label\",\"transform\":{\"id\":\"1289\",\"type\":\"CategoricalColorMapper\"}},\"x\":{\"field\":\"x\"},\"y\":{\"field\":\"y\"}},\"id\":\"1335\",\"type\":\"Circle\"},{\"attributes\":{\"active_drag\":\"auto\",\"active_inspect\":\"auto\",\"active_multi\":null,\"active_scroll\":\"auto\",\"active_tap\":\"auto\",\"tools\":[{\"id\":\"1273\",\"type\":\"PanTool\"},{\"id\":\"1274\",\"type\":\"WheelZoomTool\"},{\"id\":\"1275\",\"type\":\"BoxZoomTool\"},{\"id\":\"1276\",\"type\":\"SaveTool\"},{\"id\":\"1277\",\"type\":\"ResetTool\"},{\"id\":\"1278\",\"type\":\"HelpTool\"},{\"id\":\"1287\",\"type\":\"HoverTool\"}]},\"id\":\"1279\",\"type\":\"Toolbar\"},{\"attributes\":{\"fill_alpha\":{\"value\":0.1},\"fill_color\":{\"value\":\"#1f77b4\"},\"line_alpha\":{\"value\":0.1},\"line_color\":{\"value\":\"#1f77b4\"},\"x\":{\"field\":\"x\"},\"y\":{\"field\":\"y\"}},\"id\":\"1342\",\"type\":\"Circle\"},{\"attributes\":{\"fill_color\":{\"field\":\"label\",\"transform\":{\"id\":\"1289\",\"type\":\"CategoricalColorMapper\"}},\"line_color\":{\"field\":\"label\",\"transform\":{\"id\":\"1289\",\"type\":\"CategoricalColorMapper\"}},\"x\":{\"field\":\"x\"},\"y\":{\"field\":\"y\"}},\"id\":\"1341\",\"type\":\"Circle\"},{\"attributes\":{\"fill_color\":{\"field\":\"label\",\"transform\":{\"id\":\"1289\",\"type\":\"CategoricalColorMapper\"}},\"line_color\":{\"field\":\"label\",\"transform\":{\"id\":\"1289\",\"type\":\"CategoricalColorMapper\"}},\"x\":{\"field\":\"x\"},\"y\":{\"field\":\"y\"}},\"id\":\"1371\",\"type\":\"Circle\"},{\"attributes\":{},\"id\":\"1277\",\"type\":\"ResetTool\"},{\"attributes\":{},\"id\":\"1274\",\"type\":\"WheelZoomTool\"},{\"attributes\":{\"fill_color\":{\"field\":\"label\",\"transform\":{\"id\":\"1289\",\"type\":\"CategoricalColorMapper\"}},\"line_color\":{\"field\":\"label\",\"transform\":{\"id\":\"1289\",\"type\":\"CategoricalColorMapper\"}},\"x\":{\"field\":\"x\"},\"y\":{\"field\":\"y\"}},\"id\":\"1347\",\"type\":\"Circle\"},{\"attributes\":{\"column_name\":\"label\",\"group\":\"M\"},\"id\":\"1368\",\"type\":\"GroupFilter\"},{\"attributes\":{\"callback\":null},\"id\":\"1257\",\"type\":\"DataRange1d\"},{\"attributes\":{\"data_source\":{\"id\":\"1288\",\"type\":\"ColumnDataSource\"},\"glyph\":{\"id\":\"1347\",\"type\":\"Circle\"},\"hover_glyph\":null,\"muted_glyph\":null,\"nonselection_glyph\":{\"id\":\"1348\",\"type\":\"Circle\"},\"selection_glyph\":null,\"view\":{\"id\":\"1345\",\"type\":\"CDSView\"}},\"id\":\"1349\",\"type\":\"GlyphRenderer\"},{\"attributes\":{},\"id\":\"1276\",\"type\":\"SaveTool\"},{\"attributes\":{\"filters\":[{\"id\":\"1374\",\"type\":\"GroupFilter\"}],\"source\":{\"id\":\"1288\",\"type\":\"ColumnDataSource\"}},\"id\":\"1375\",\"type\":\"CDSView\"},{\"attributes\":{\"data_source\":{\"id\":\"1288\",\"type\":\"ColumnDataSource\"},\"glyph\":{\"id\":\"1371\",\"type\":\"Circle\"},\"hover_glyph\":null,\"muted_glyph\":null,\"nonselection_glyph\":{\"id\":\"1372\",\"type\":\"Circle\"},\"selection_glyph\":null,\"view\":{\"id\":\"1369\",\"type\":\"CDSView\"}},\"id\":\"1373\",\"type\":\"GlyphRenderer\"},{\"attributes\":{\"callback\":null,\"tooltips\":[[\"x\",\"@x\"],[\"y\",\"@y\"],[\"label\",\"@label\"]]},\"id\":\"1287\",\"type\":\"HoverTool\"},{\"attributes\":{\"fill_alpha\":{\"value\":0.1},\"fill_color\":{\"value\":\"#1f77b4\"},\"line_alpha\":{\"value\":0.1},\"line_color\":{\"value\":\"#1f77b4\"},\"x\":{\"field\":\"x\"},\"y\":{\"field\":\"y\"}},\"id\":\"1372\",\"type\":\"Circle\"},{\"attributes\":{\"fill_alpha\":{\"value\":0.1},\"fill_color\":{\"value\":\"#1f77b4\"},\"line_alpha\":{\"value\":0.1},\"line_color\":{\"value\":\"#1f77b4\"},\"x\":{\"field\":\"x\"},\"y\":{\"field\":\"y\"}},\"id\":\"1336\",\"type\":\"Circle\"},{\"attributes\":{\"axis_label\":\"PC2\",\"formatter\":{\"id\":\"1443\",\"type\":\"BasicTickFormatter\"},\"ticker\":{\"id\":\"1269\",\"type\":\"BasicTicker\"}},\"id\":\"1268\",\"type\":\"LinearAxis\"},{\"attributes\":{\"filters\":[{\"id\":\"1338\",\"type\":\"GroupFilter\"}],\"source\":{\"id\":\"1288\",\"type\":\"ColumnDataSource\"}},\"id\":\"1339\",\"type\":\"CDSView\"},{\"attributes\":{\"fill_color\":{\"field\":\"label\",\"transform\":{\"id\":\"1289\",\"type\":\"CategoricalColorMapper\"}},\"line_color\":{\"field\":\"label\",\"transform\":{\"id\":\"1289\",\"type\":\"CategoricalColorMapper\"}},\"x\":{\"field\":\"x\"},\"y\":{\"field\":\"y\"}},\"id\":\"1377\",\"type\":\"Circle\"},{\"attributes\":{\"data_source\":{\"id\":\"1288\",\"type\":\"ColumnDataSource\"},\"glyph\":{\"id\":\"1335\",\"type\":\"Circle\"},\"hover_glyph\":null,\"muted_glyph\":null,\"nonselection_glyph\":{\"id\":\"1336\",\"type\":\"Circle\"},\"selection_glyph\":null,\"view\":{\"id\":\"1333\",\"type\":\"CDSView\"}},\"id\":\"1337\",\"type\":\"GlyphRenderer\"},{\"attributes\":{\"column_name\":\"label\",\"group\":\"N\"},\"id\":\"1374\",\"type\":\"GroupFilter\"},{\"attributes\":{\"ticker\":{\"id\":\"1264\",\"type\":\"BasicTicker\"}},\"id\":\"1267\",\"type\":\"Grid\"},{\"attributes\":{\"data_source\":{\"id\":\"1288\",\"type\":\"ColumnDataSource\"},\"glyph\":{\"id\":\"1389\",\"type\":\"Circle\"},\"hover_glyph\":null,\"muted_glyph\":null,\"nonselection_glyph\":{\"id\":\"1390\",\"type\":\"Circle\"},\"selection_glyph\":null,\"view\":{\"id\":\"1387\",\"type\":\"CDSView\"}},\"id\":\"1391\",\"type\":\"GlyphRenderer\"},{\"attributes\":{\"fill_alpha\":{\"value\":0.1},\"fill_color\":{\"value\":\"#1f77b4\"},\"line_alpha\":{\"value\":0.1},\"line_color\":{\"value\":\"#1f77b4\"},\"x\":{\"field\":\"x\"},\"y\":{\"field\":\"y\"}},\"id\":\"1312\",\"type\":\"Circle\"},{\"attributes\":{\"data_source\":{\"id\":\"1288\",\"type\":\"ColumnDataSource\"},\"glyph\":{\"id\":\"1305\",\"type\":\"Circle\"},\"hover_glyph\":null,\"muted_glyph\":null,\"nonselection_glyph\":{\"id\":\"1306\",\"type\":\"Circle\"},\"selection_glyph\":null,\"view\":{\"id\":\"1303\",\"type\":\"CDSView\"}},\"id\":\"1307\",\"type\":\"GlyphRenderer\"},{\"attributes\":{\"data_source\":{\"id\":\"1288\",\"type\":\"ColumnDataSource\"},\"glyph\":{\"id\":\"1311\",\"type\":\"Circle\"},\"hover_glyph\":null,\"muted_glyph\":null,\"nonselection_glyph\":{\"id\":\"1312\",\"type\":\"Circle\"},\"selection_glyph\":null,\"view\":{\"id\":\"1309\",\"type\":\"CDSView\"}},\"id\":\"1313\",\"type\":\"GlyphRenderer\"},{\"attributes\":{\"column_name\":\"label\",\"group\":\"J\"},\"id\":\"1350\",\"type\":\"GroupFilter\"},{\"attributes\":{},\"id\":\"1443\",\"type\":\"BasicTickFormatter\"},{\"attributes\":{\"filters\":[{\"id\":\"1392\",\"type\":\"GroupFilter\"}],\"source\":{\"id\":\"1288\",\"type\":\"ColumnDataSource\"}},\"id\":\"1393\",\"type\":\"CDSView\"},{\"attributes\":{\"label\":{\"value\":\"C\"},\"renderers\":[{\"id\":\"1313\",\"type\":\"GlyphRenderer\"}]},\"id\":\"1413\",\"type\":\"LegendItem\"},{\"attributes\":{\"fill_color\":{\"field\":\"label\",\"transform\":{\"id\":\"1289\",\"type\":\"CategoricalColorMapper\"}},\"line_color\":{\"field\":\"label\",\"transform\":{\"id\":\"1289\",\"type\":\"CategoricalColorMapper\"}},\"x\":{\"field\":\"x\"},\"y\":{\"field\":\"y\"}},\"id\":\"1317\",\"type\":\"Circle\"},{\"attributes\":{\"label\":{\"value\":\"D\"},\"renderers\":[{\"id\":\"1319\",\"type\":\"GlyphRenderer\"}]},\"id\":\"1414\",\"type\":\"LegendItem\"},{\"attributes\":{\"axis_label\":\"PC1\",\"formatter\":{\"id\":\"1447\",\"type\":\"BasicTickFormatter\"},\"ticker\":{\"id\":\"1264\",\"type\":\"BasicTicker\"}},\"id\":\"1263\",\"type\":\"LinearAxis\"},{\"attributes\":{\"label\":{\"value\":\"E\"},\"renderers\":[{\"id\":\"1325\",\"type\":\"GlyphRenderer\"}]},\"id\":\"1415\",\"type\":\"LegendItem\"},{\"attributes\":{\"column_name\":\"label\",\"group\":\"D\"},\"id\":\"1314\",\"type\":\"GroupFilter\"},{\"attributes\":{\"label\":{\"value\":\"B\"},\"renderers\":[{\"id\":\"1307\",\"type\":\"GlyphRenderer\"}]},\"id\":\"1412\",\"type\":\"LegendItem\"},{\"attributes\":{\"fill_color\":{\"field\":\"label\",\"transform\":{\"id\":\"1289\",\"type\":\"CategoricalColorMapper\"}},\"line_color\":{\"field\":\"label\",\"transform\":{\"id\":\"1289\",\"type\":\"CategoricalColorMapper\"}},\"x\":{\"field\":\"x\"},\"y\":{\"field\":\"y\"}},\"id\":\"1395\",\"type\":\"Circle\"},{\"attributes\":{\"fill_color\":{\"field\":\"label\",\"transform\":{\"id\":\"1289\",\"type\":\"CategoricalColorMapper\"}},\"line_color\":{\"field\":\"label\",\"transform\":{\"id\":\"1289\",\"type\":\"CategoricalColorMapper\"}},\"x\":{\"field\":\"x\"},\"y\":{\"field\":\"y\"}},\"id\":\"1353\",\"type\":\"Circle\"},{\"attributes\":{\"label\":{\"value\":\"F\"},\"renderers\":[{\"id\":\"1331\",\"type\":\"GlyphRenderer\"}]},\"id\":\"1416\",\"type\":\"LegendItem\"},{\"attributes\":{\"fill_color\":{\"field\":\"label\",\"transform\":{\"id\":\"1289\",\"type\":\"CategoricalColorMapper\"}},\"line_color\":{\"field\":\"label\",\"transform\":{\"id\":\"1289\",\"type\":\"CategoricalColorMapper\"}},\"x\":{\"field\":\"x\"},\"y\":{\"field\":\"y\"}},\"id\":\"1323\",\"type\":\"Circle\"},{\"attributes\":{\"label\":{\"value\":\"I\"},\"renderers\":[{\"id\":\"1349\",\"type\":\"GlyphRenderer\"}]},\"id\":\"1419\",\"type\":\"LegendItem\"},{\"attributes\":{\"column_name\":\"label\",\"group\":\"R\"},\"id\":\"1392\",\"type\":\"GroupFilter\"},{\"attributes\":{\"label\":{\"value\":\"A\"},\"renderers\":[{\"id\":\"1301\",\"type\":\"GlyphRenderer\"}]},\"id\":\"1411\",\"type\":\"LegendItem\"},{\"attributes\":{\"fill_alpha\":{\"value\":0.1},\"fill_color\":{\"value\":\"#1f77b4\"},\"line_alpha\":{\"value\":0.1},\"line_color\":{\"value\":\"#1f77b4\"},\"x\":{\"field\":\"x\"},\"y\":{\"field\":\"y\"}},\"id\":\"1318\",\"type\":\"Circle\"},{\"attributes\":{\"filters\":[{\"id\":\"1308\",\"type\":\"GroupFilter\"}],\"source\":{\"id\":\"1288\",\"type\":\"ColumnDataSource\"}},\"id\":\"1309\",\"type\":\"CDSView\"},{\"attributes\":{\"fill_alpha\":{\"value\":0.1},\"fill_color\":{\"value\":\"#1f77b4\"},\"line_alpha\":{\"value\":0.1},\"line_color\":{\"value\":\"#1f77b4\"},\"x\":{\"field\":\"x\"},\"y\":{\"field\":\"y\"}},\"id\":\"1396\",\"type\":\"Circle\"},{\"attributes\":{\"filters\":[{\"id\":\"1290\",\"type\":\"GroupFilter\"}],\"source\":{\"id\":\"1288\",\"type\":\"ColumnDataSource\"}},\"id\":\"1291\",\"type\":\"CDSView\"},{\"attributes\":{\"label\":{\"value\":\".\"},\"renderers\":[{\"id\":\"1295\",\"type\":\"GlyphRenderer\"}]},\"id\":\"1410\",\"type\":\"LegendItem\"},{\"attributes\":{\"fill_color\":{\"field\":\"label\",\"transform\":{\"id\":\"1289\",\"type\":\"CategoricalColorMapper\"}},\"line_color\":{\"field\":\"label\",\"transform\":{\"id\":\"1289\",\"type\":\"CategoricalColorMapper\"}},\"x\":{\"field\":\"x\"},\"y\":{\"field\":\"y\"}},\"id\":\"1311\",\"type\":\"Circle\"},{\"attributes\":{\"filters\":[{\"id\":\"1398\",\"type\":\"GroupFilter\"}],\"source\":{\"id\":\"1288\",\"type\":\"ColumnDataSource\"}},\"id\":\"1399\",\"type\":\"CDSView\"},{\"attributes\":{\"column_name\":\"label\",\"group\":\".\"},\"id\":\"1290\",\"type\":\"GroupFilter\"},{\"attributes\":{\"label\":{\"value\":\"P\"},\"renderers\":[{\"id\":\"1391\",\"type\":\"GlyphRenderer\"}]},\"id\":\"1426\",\"type\":\"LegendItem\"},{\"attributes\":{\"data_source\":{\"id\":\"1288\",\"type\":\"ColumnDataSource\"},\"glyph\":{\"id\":\"1395\",\"type\":\"Circle\"},\"hover_glyph\":null,\"muted_glyph\":null,\"nonselection_glyph\":{\"id\":\"1396\",\"type\":\"Circle\"},\"selection_glyph\":null,\"view\":{\"id\":\"1393\",\"type\":\"CDSView\"}},\"id\":\"1397\",\"type\":\"GlyphRenderer\"},{\"attributes\":{\"filters\":[{\"id\":\"1296\",\"type\":\"GroupFilter\"}],\"source\":{\"id\":\"1288\",\"type\":\"ColumnDataSource\"}},\"id\":\"1297\",\"type\":\"CDSView\"},{\"attributes\":{},\"id\":\"1451\",\"type\":\"Selection\"},{\"attributes\":{\"label\":{\"value\":\"R\"},\"renderers\":[{\"id\":\"1397\",\"type\":\"GlyphRenderer\"}]},\"id\":\"1427\",\"type\":\"LegendItem\"},{\"attributes\":{\"data_source\":{\"id\":\"1288\",\"type\":\"ColumnDataSource\"},\"glyph\":{\"id\":\"1293\",\"type\":\"Circle\"},\"hover_glyph\":null,\"muted_glyph\":null,\"nonselection_glyph\":{\"id\":\"1294\",\"type\":\"Circle\"},\"selection_glyph\":null,\"view\":{\"id\":\"1291\",\"type\":\"CDSView\"}},\"id\":\"1295\",\"type\":\"GlyphRenderer\"},{\"attributes\":{\"fill_color\":{\"field\":\"label\",\"transform\":{\"id\":\"1289\",\"type\":\"CategoricalColorMapper\"}},\"line_color\":{\"field\":\"label\",\"transform\":{\"id\":\"1289\",\"type\":\"CategoricalColorMapper\"}},\"x\":{\"field\":\"x\"},\"y\":{\"field\":\"y\"}},\"id\":\"1389\",\"type\":\"Circle\"},{\"attributes\":{\"fill_color\":{\"field\":\"label\",\"transform\":{\"id\":\"1289\",\"type\":\"CategoricalColorMapper\"}},\"line_color\":{\"field\":\"label\",\"transform\":{\"id\":\"1289\",\"type\":\"CategoricalColorMapper\"}},\"x\":{\"field\":\"x\"},\"y\":{\"field\":\"y\"}},\"id\":\"1401\",\"type\":\"Circle\"},{\"attributes\":{\"label\":{\"value\":\"O\"},\"renderers\":[{\"id\":\"1385\",\"type\":\"GlyphRenderer\"}]},\"id\":\"1425\",\"type\":\"LegendItem\"},{\"attributes\":{\"filters\":[{\"id\":\"1314\",\"type\":\"GroupFilter\"}],\"source\":{\"id\":\"1288\",\"type\":\"ColumnDataSource\"}},\"id\":\"1315\",\"type\":\"CDSView\"},{\"attributes\":{\"column_name\":\"label\",\"group\":\"K\"},\"id\":\"1356\",\"type\":\"GroupFilter\"},{\"attributes\":{\"fill_alpha\":{\"value\":0.1},\"fill_color\":{\"value\":\"#1f77b4\"},\"line_alpha\":{\"value\":0.1},\"line_color\":{\"value\":\"#1f77b4\"},\"x\":{\"field\":\"x\"},\"y\":{\"field\":\"y\"}},\"id\":\"1330\",\"type\":\"Circle\"},{\"attributes\":{\"filters\":[{\"id\":\"1380\",\"type\":\"GroupFilter\"}],\"source\":{\"id\":\"1288\",\"type\":\"ColumnDataSource\"}},\"id\":\"1381\",\"type\":\"CDSView\"},{\"attributes\":{\"filters\":[{\"id\":\"1326\",\"type\":\"GroupFilter\"}],\"source\":{\"id\":\"1288\",\"type\":\"ColumnDataSource\"}},\"id\":\"1327\",\"type\":\"CDSView\"},{\"attributes\":{\"fill_color\":{\"field\":\"label\",\"transform\":{\"id\":\"1289\",\"type\":\"CategoricalColorMapper\"}},\"line_color\":{\"field\":\"label\",\"transform\":{\"id\":\"1289\",\"type\":\"CategoricalColorMapper\"}},\"x\":{\"field\":\"x\"},\"y\":{\"field\":\"y\"}},\"id\":\"1299\",\"type\":\"Circle\"},{\"attributes\":{\"fill_alpha\":{\"value\":0.1},\"fill_color\":{\"value\":\"#1f77b4\"},\"line_alpha\":{\"value\":0.1},\"line_color\":{\"value\":\"#1f77b4\"},\"x\":{\"field\":\"x\"},\"y\":{\"field\":\"y\"}},\"id\":\"1390\",\"type\":\"Circle\"},{\"attributes\":{\"column_name\":\"label\",\"group\":\"S\"},\"id\":\"1398\",\"type\":\"GroupFilter\"},{\"attributes\":{\"color_mapper\":null,\"formatter\":{\"id\":\"1445\",\"type\":\"BasicTickFormatter\"},\"ticker\":{\"id\":\"1446\",\"type\":\"BasicTicker\"},\"visible\":false},\"id\":\"1431\",\"type\":\"ColorBar\"},{\"attributes\":{\"label\":{\"value\":\"T\"},\"renderers\":[{\"id\":\"1409\",\"type\":\"GlyphRenderer\"}]},\"id\":\"1429\",\"type\":\"LegendItem\"},{\"attributes\":{\"column_name\":\"label\",\"group\":\"A\"},\"id\":\"1296\",\"type\":\"GroupFilter\"},{\"attributes\":{\"label\":{\"value\":\"S\"},\"renderers\":[{\"id\":\"1403\",\"type\":\"GlyphRenderer\"}]},\"id\":\"1428\",\"type\":\"LegendItem\"},{\"attributes\":{\"filters\":[{\"id\":\"1350\",\"type\":\"GroupFilter\"}],\"source\":{\"id\":\"1288\",\"type\":\"ColumnDataSource\"}},\"id\":\"1351\",\"type\":\"CDSView\"},{\"attributes\":{\"fill_alpha\":{\"value\":0.1},\"fill_color\":{\"value\":\"#1f77b4\"},\"line_alpha\":{\"value\":0.1},\"line_color\":{\"value\":\"#1f77b4\"},\"x\":{\"field\":\"x\"},\"y\":{\"field\":\"y\"}},\"id\":\"1378\",\"type\":\"Circle\"},{\"attributes\":{\"data_source\":{\"id\":\"1288\",\"type\":\"ColumnDataSource\"},\"glyph\":{\"id\":\"1377\",\"type\":\"Circle\"},\"hover_glyph\":null,\"muted_glyph\":null,\"nonselection_glyph\":{\"id\":\"1378\",\"type\":\"Circle\"},\"selection_glyph\":null,\"view\":{\"id\":\"1375\",\"type\":\"CDSView\"}},\"id\":\"1379\",\"type\":\"GlyphRenderer\"},{\"attributes\":{\"fill_alpha\":{\"value\":0.1},\"fill_color\":{\"value\":\"#1f77b4\"},\"line_alpha\":{\"value\":0.1},\"line_color\":{\"value\":\"#1f77b4\"},\"x\":{\"field\":\"x\"},\"y\":{\"field\":\"y\"}},\"id\":\"1402\",\"type\":\"Circle\"},{\"attributes\":{\"factors\":[\"M\",\"D\",\"J\",\"E\",\"B\",\"L\",\"R\",\"N\",\"S\",\"K\",\"P\",\"O\",\"C\",\"H\",\"I\",\"G\",\"F\",\"T\",\".\",\"A\"],\"palette\":[\"#1f77b4\",\"#aec7e8\",\"#ff7f0e\",\"#ffbb78\",\"#2ca02c\",\"#98df8a\",\"#d62728\",\"#ff9896\",\"#9467bd\",\"#c5b0d5\",\"#8c564b\",\"#c49c94\",\"#e377c2\",\"#f7b6d2\",\"#7f7f7f\",\"#c7c7c7\",\"#bcbd22\",\"#dbdb8d\",\"#17becf\",\"#9edae5\"]},\"id\":\"1289\",\"type\":\"CategoricalColorMapper\"},{\"attributes\":{\"column_name\":\"label\",\"group\":\"F\"},\"id\":\"1326\",\"type\":\"GroupFilter\"},{\"attributes\":{\"label\":{\"value\":\"G\"},\"renderers\":[{\"id\":\"1337\",\"type\":\"GlyphRenderer\"}]},\"id\":\"1417\",\"type\":\"LegendItem\"},{\"attributes\":{},\"id\":\"1450\",\"type\":\"UnionRenderers\"},{\"attributes\":{\"filters\":[{\"id\":\"1404\",\"type\":\"GroupFilter\"}],\"source\":{\"id\":\"1288\",\"type\":\"ColumnDataSource\"}},\"id\":\"1405\",\"type\":\"CDSView\"},{\"attributes\":{\"data_source\":{\"id\":\"1288\",\"type\":\"ColumnDataSource\"},\"glyph\":{\"id\":\"1329\",\"type\":\"Circle\"},\"hover_glyph\":null,\"muted_glyph\":null,\"nonselection_glyph\":{\"id\":\"1330\",\"type\":\"Circle\"},\"selection_glyph\":null,\"view\":{\"id\":\"1327\",\"type\":\"CDSView\"}},\"id\":\"1331\",\"type\":\"GlyphRenderer\"},{\"attributes\":{\"fill_alpha\":{\"value\":0.1},\"fill_color\":{\"value\":\"#1f77b4\"},\"line_alpha\":{\"value\":0.1},\"line_color\":{\"value\":\"#1f77b4\"},\"x\":{\"field\":\"x\"},\"y\":{\"field\":\"y\"}},\"id\":\"1300\",\"type\":\"Circle\"},{\"attributes\":{\"fill_color\":{\"field\":\"label\",\"transform\":{\"id\":\"1289\",\"type\":\"CategoricalColorMapper\"}},\"line_color\":{\"field\":\"label\",\"transform\":{\"id\":\"1289\",\"type\":\"CategoricalColorMapper\"}},\"x\":{\"field\":\"x\"},\"y\":{\"field\":\"y\"}},\"id\":\"1383\",\"type\":\"Circle\"},{\"attributes\":{\"data_source\":{\"id\":\"1288\",\"type\":\"ColumnDataSource\"},\"glyph\":{\"id\":\"1401\",\"type\":\"Circle\"},\"hover_glyph\":null,\"muted_glyph\":null,\"nonselection_glyph\":{\"id\":\"1402\",\"type\":\"Circle\"},\"selection_glyph\":null,\"view\":{\"id\":\"1399\",\"type\":\"CDSView\"}},\"id\":\"1403\",\"type\":\"GlyphRenderer\"},{\"attributes\":{\"column_name\":\"label\",\"group\":\"I\"},\"id\":\"1344\",\"type\":\"GroupFilter\"},{\"attributes\":{\"data_source\":{\"id\":\"1288\",\"type\":\"ColumnDataSource\"},\"glyph\":{\"id\":\"1323\",\"type\":\"Circle\"},\"hover_glyph\":null,\"muted_glyph\":null,\"nonselection_glyph\":{\"id\":\"1324\",\"type\":\"Circle\"},\"selection_glyph\":null,\"view\":{\"id\":\"1321\",\"type\":\"CDSView\"}},\"id\":\"1325\",\"type\":\"GlyphRenderer\"},{\"attributes\":{\"label\":{\"value\":\"N\"},\"renderers\":[{\"id\":\"1379\",\"type\":\"GlyphRenderer\"}]},\"id\":\"1424\",\"type\":\"LegendItem\"},{\"attributes\":{},\"id\":\"1264\",\"type\":\"BasicTicker\"},{\"attributes\":{\"filters\":[{\"id\":\"1302\",\"type\":\"GroupFilter\"}],\"source\":{\"id\":\"1288\",\"type\":\"ColumnDataSource\"}},\"id\":\"1303\",\"type\":\"CDSView\"},{\"attributes\":{\"data_source\":{\"id\":\"1288\",\"type\":\"ColumnDataSource\"},\"glyph\":{\"id\":\"1299\",\"type\":\"Circle\"},\"hover_glyph\":null,\"muted_glyph\":null,\"nonselection_glyph\":{\"id\":\"1300\",\"type\":\"Circle\"},\"selection_glyph\":null,\"view\":{\"id\":\"1297\",\"type\":\"CDSView\"}},\"id\":\"1301\",\"type\":\"GlyphRenderer\"},{\"attributes\":{\"fill_color\":{\"field\":\"label\",\"transform\":{\"id\":\"1289\",\"type\":\"CategoricalColorMapper\"}},\"line_color\":{\"field\":\"label\",\"transform\":{\"id\":\"1289\",\"type\":\"CategoricalColorMapper\"}},\"x\":{\"field\":\"x\"},\"y\":{\"field\":\"y\"}},\"id\":\"1407\",\"type\":\"Circle\"},{\"attributes\":{\"fill_alpha\":{\"value\":0.1},\"fill_color\":{\"value\":\"#1f77b4\"},\"line_alpha\":{\"value\":0.1},\"line_color\":{\"value\":\"#1f77b4\"},\"x\":{\"field\":\"x\"},\"y\":{\"field\":\"y\"}},\"id\":\"1384\",\"type\":\"Circle\"},{\"attributes\":{},\"id\":\"1259\",\"type\":\"LinearScale\"},{\"attributes\":{\"label\":{\"value\":\"M\"},\"renderers\":[{\"id\":\"1373\",\"type\":\"GlyphRenderer\"}]},\"id\":\"1423\",\"type\":\"LegendItem\"},{\"attributes\":{\"fill_color\":{\"field\":\"label\",\"transform\":{\"id\":\"1289\",\"type\":\"CategoricalColorMapper\"}},\"line_color\":{\"field\":\"label\",\"transform\":{\"id\":\"1289\",\"type\":\"CategoricalColorMapper\"}},\"x\":{\"field\":\"x\"},\"y\":{\"field\":\"y\"}},\"id\":\"1329\",\"type\":\"Circle\"},{\"attributes\":{\"fill_alpha\":{\"value\":0.1},\"fill_color\":{\"value\":\"#1f77b4\"},\"line_alpha\":{\"value\":0.1},\"line_color\":{\"value\":\"#1f77b4\"},\"x\":{\"field\":\"x\"},\"y\":{\"field\":\"y\"}},\"id\":\"1324\",\"type\":\"Circle\"},{\"attributes\":{},\"id\":\"1261\",\"type\":\"LinearScale\"},{\"attributes\":{\"data_source\":{\"id\":\"1288\",\"type\":\"ColumnDataSource\"},\"glyph\":{\"id\":\"1383\",\"type\":\"Circle\"},\"hover_glyph\":null,\"muted_glyph\":null,\"nonselection_glyph\":{\"id\":\"1384\",\"type\":\"Circle\"},\"selection_glyph\":null,\"view\":{\"id\":\"1381\",\"type\":\"CDSView\"}},\"id\":\"1385\",\"type\":\"GlyphRenderer\"},{\"attributes\":{\"fill_color\":{\"field\":\"label\",\"transform\":{\"id\":\"1289\",\"type\":\"CategoricalColorMapper\"}},\"line_color\":{\"field\":\"label\",\"transform\":{\"id\":\"1289\",\"type\":\"CategoricalColorMapper\"}},\"x\":{\"field\":\"x\"},\"y\":{\"field\":\"y\"}},\"id\":\"1305\",\"type\":\"Circle\"},{\"attributes\":{\"column_name\":\"label\",\"group\":\"T\"},\"id\":\"1404\",\"type\":\"GroupFilter\"},{\"attributes\":{\"click_policy\":\"hide\",\"items\":[{\"id\":\"1410\",\"type\":\"LegendItem\"},{\"id\":\"1411\",\"type\":\"LegendItem\"},{\"id\":\"1412\",\"type\":\"LegendItem\"},{\"id\":\"1413\",\"type\":\"LegendItem\"},{\"id\":\"1414\",\"type\":\"LegendItem\"},{\"id\":\"1415\",\"type\":\"LegendItem\"},{\"id\":\"1416\",\"type\":\"LegendItem\"},{\"id\":\"1417\",\"type\":\"LegendItem\"},{\"id\":\"1418\",\"type\":\"LegendItem\"},{\"id\":\"1419\",\"type\":\"LegendItem\"},{\"id\":\"1420\",\"type\":\"LegendItem\"},{\"id\":\"1421\",\"type\":\"LegendItem\"},{\"id\":\"1422\",\"type\":\"LegendItem\"},{\"id\":\"1423\",\"type\":\"LegendItem\"},{\"id\":\"1424\",\"type\":\"LegendItem\"},{\"id\":\"1425\",\"type\":\"LegendItem\"},{\"id\":\"1426\",\"type\":\"LegendItem\"},{\"id\":\"1427\",\"type\":\"LegendItem\"},{\"id\":\"1428\",\"type\":\"LegendItem\"},{\"id\":\"1429\",\"type\":\"LegendItem\"}]},\"id\":\"1430\",\"type\":\"Legend\"},{\"attributes\":{\"label\":{\"value\":\"J\"},\"renderers\":[{\"id\":\"1355\",\"type\":\"GlyphRenderer\"}]},\"id\":\"1420\",\"type\":\"LegendItem\"},{\"attributes\":{\"label\":{\"value\":\"L\"},\"renderers\":[{\"id\":\"1367\",\"type\":\"GlyphRenderer\"}]},\"id\":\"1422\",\"type\":\"LegendItem\"},{\"attributes\":{\"column_name\":\"label\",\"group\":\"B\"},\"id\":\"1302\",\"type\":\"GroupFilter\"},{\"attributes\":{\"filters\":[{\"id\":\"1386\",\"type\":\"GroupFilter\"}],\"source\":{\"id\":\"1288\",\"type\":\"ColumnDataSource\"}},\"id\":\"1387\",\"type\":\"CDSView\"},{\"attributes\":{\"column_name\":\"label\",\"group\":\"E\"},\"id\":\"1320\",\"type\":\"GroupFilter\"},{\"attributes\":{\"label\":{\"value\":\"H\"},\"renderers\":[{\"id\":\"1343\",\"type\":\"GlyphRenderer\"}]},\"id\":\"1418\",\"type\":\"LegendItem\"},{\"attributes\":{\"callback\":null},\"id\":\"1255\",\"type\":\"DataRange1d\"},{\"attributes\":{\"label\":{\"value\":\"K\"},\"renderers\":[{\"id\":\"1361\",\"type\":\"GlyphRenderer\"}]},\"id\":\"1421\",\"type\":\"LegendItem\"},{\"attributes\":{\"fill_alpha\":{\"value\":0.1},\"fill_color\":{\"value\":\"#1f77b4\"},\"line_alpha\":{\"value\":0.1},\"line_color\":{\"value\":\"#1f77b4\"},\"x\":{\"field\":\"x\"},\"y\":{\"field\":\"y\"}},\"id\":\"1294\",\"type\":\"Circle\"},{\"attributes\":{\"fill_alpha\":{\"value\":0.1},\"fill_color\":{\"value\":\"#1f77b4\"},\"line_alpha\":{\"value\":0.1},\"line_color\":{\"value\":\"#1f77b4\"},\"x\":{\"field\":\"x\"},\"y\":{\"field\":\"y\"}},\"id\":\"1408\",\"type\":\"Circle\"},{\"attributes\":{\"filters\":[{\"id\":\"1320\",\"type\":\"GroupFilter\"}],\"source\":{\"id\":\"1288\",\"type\":\"ColumnDataSource\"}},\"id\":\"1321\",\"type\":\"CDSView\"},{\"attributes\":{\"column_name\":\"label\",\"group\":\"O\"},\"id\":\"1380\",\"type\":\"GroupFilter\"},{\"attributes\":{\"data_source\":{\"id\":\"1288\",\"type\":\"ColumnDataSource\"},\"glyph\":{\"id\":\"1317\",\"type\":\"Circle\"},\"hover_glyph\":null,\"muted_glyph\":null,\"nonselection_glyph\":{\"id\":\"1318\",\"type\":\"Circle\"},\"selection_glyph\":null,\"view\":{\"id\":\"1315\",\"type\":\"CDSView\"}},\"id\":\"1319\",\"type\":\"GlyphRenderer\"},{\"attributes\":{\"data_source\":{\"id\":\"1288\",\"type\":\"ColumnDataSource\"},\"glyph\":{\"id\":\"1353\",\"type\":\"Circle\"},\"hover_glyph\":null,\"muted_glyph\":null,\"nonselection_glyph\":{\"id\":\"1354\",\"type\":\"Circle\"},\"selection_glyph\":null,\"view\":{\"id\":\"1351\",\"type\":\"CDSView\"}},\"id\":\"1355\",\"type\":\"GlyphRenderer\"},{\"attributes\":{\"data_source\":{\"id\":\"1288\",\"type\":\"ColumnDataSource\"},\"glyph\":{\"id\":\"1407\",\"type\":\"Circle\"},\"hover_glyph\":null,\"muted_glyph\":null,\"nonselection_glyph\":{\"id\":\"1408\",\"type\":\"Circle\"},\"selection_glyph\":null,\"view\":{\"id\":\"1405\",\"type\":\"CDSView\"}},\"id\":\"1409\",\"type\":\"GlyphRenderer\"},{\"attributes\":{\"fill_alpha\":{\"value\":0.1},\"fill_color\":{\"value\":\"#1f77b4\"},\"line_alpha\":{\"value\":0.1},\"line_color\":{\"value\":\"#1f77b4\"},\"x\":{\"field\":\"x\"},\"y\":{\"field\":\"y\"}},\"id\":\"1354\",\"type\":\"Circle\"},{\"attributes\":{\"fill_color\":{\"field\":\"label\",\"transform\":{\"id\":\"1289\",\"type\":\"CategoricalColorMapper\"}},\"line_color\":{\"field\":\"label\",\"transform\":{\"id\":\"1289\",\"type\":\"CategoricalColorMapper\"}},\"x\":{\"field\":\"x\"},\"y\":{\"field\":\"y\"}},\"id\":\"1293\",\"type\":\"Circle\"},{\"attributes\":{\"column_name\":\"label\",\"group\":\"C\"},\"id\":\"1308\",\"type\":\"GroupFilter\"},{\"attributes\":{\"column_name\":\"label\",\"group\":\"P\"},\"id\":\"1386\",\"type\":\"GroupFilter\"},{\"attributes\":{\"fill_alpha\":{\"value\":0.1},\"fill_color\":{\"value\":\"#1f77b4\"},\"line_alpha\":{\"value\":0.1},\"line_color\":{\"value\":\"#1f77b4\"},\"x\":{\"field\":\"x\"},\"y\":{\"field\":\"y\"}},\"id\":\"1306\",\"type\":\"Circle\"}],\"root_ids\":[\"1252\"]},\"title\":\"Bokeh Application\",\"version\":\"1.2.0\"}};\n",
       "  var render_items = [{\"docid\":\"a5a6e66b-f9c0-4c6c-a216-f661bf6dc1eb\",\"roots\":{\"1252\":\"5c09194e-2171-4877-add8-fe7d046d5d75\"}}];\n",
       "  root.Bokeh.embed.embed_items_notebook(docs_json, render_items);\n",
       "\n",
       "  }\n",
       "  if (root.Bokeh !== undefined) {\n",
       "    embed_document(root);\n",
       "  } else {\n",
       "    var attempts = 0;\n",
       "    var timer = setInterval(function(root) {\n",
       "      if (root.Bokeh !== undefined) {\n",
       "        embed_document(root);\n",
       "        clearInterval(timer);\n",
       "      }\n",
       "      attempts++;\n",
       "      if (attempts > 100) {\n",
       "        console.log(\"Bokeh: ERROR: Unable to run BokehJS code because BokehJS library is missing\");\n",
       "        clearInterval(timer);\n",
       "      }\n",
       "    }, 10, root)\n",
       "  }\n",
       "})(window);"
      ],
      "application/vnd.bokehjs_exec.v0+json": ""
     },
     "metadata": {
      "application/vnd.bokehjs_exec.v0+json": {
       "id": "1252"
      }
     },
     "output_type": "display_data"
    }
   ],
   "source": [
    "p = hl.plot.scatter(mt.scores[0],\n",
    "                    mt.scores[1],\n",
    "                    label=mt.phenotypes.family,\n",
    "                    title='PCA', xlabel='PC1', ylabel='PC2')\n",
    "show(p)"
   ]
  },
  {
   "cell_type": "code",
   "execution_count": 27,
   "metadata": {},
   "outputs": [
    {
     "data": {
      "text/plain": [
       "(47373, 149)"
      ]
     },
     "execution_count": 27,
     "metadata": {},
     "output_type": "execute_result"
    }
   ],
   "source": [
    "mt.count()"
   ]
  },
  {
   "cell_type": "code",
   "execution_count": 28,
   "metadata": {},
   "outputs": [
    {
     "name": "stderr",
     "output_type": "stream",
     "text": [
      "2019-12-11 15:05:34 Hail: INFO: wrote matrix table with 47373 rows and 149 columns in 116 partitions to data/clean.mt\n"
     ]
    }
   ],
   "source": [
    "mt.write('data/clean.mt', overwrite = True) #overwrite matrixtable to be complete and correct"
   ]
  },
  {
   "cell_type": "markdown",
   "metadata": {},
   "source": [
    "<a id='2.2'></a>\n",
    "\n",
    "## 2.2 Creating a mt_p with patients only and mt_c with non-patients"
   ]
  },
  {
   "cell_type": "code",
   "execution_count": 9,
   "metadata": {},
   "outputs": [],
   "source": [
    "mt_p = mt.filter_cols(mt.phenotypes.disease == 'YES', keep = True)\n",
    "mt_p = mt_p.filter_rows(hl.agg.any(mt_p.GT.is_non_ref())) #filtering out variants that do not occur in any patients\n",
    "mt_c = mt.filter_cols(mt.phenotypes.disease != 'YES', keep = True)\n",
    "mt_c = mt_c.filter_rows(hl.agg.any(mt_c.GT.is_non_ref())) #filtering out variants that do not occur in any controls\n",
    "\n",
    "mt_c = mt_c.filter_rows(hl.agg.any(mt_c.GT.is_non_ref())) #filtering out variants that do not occur in any controls"
   ]
  },
  {
   "cell_type": "markdown",
   "metadata": {},
   "source": [
    "<a id='3'></a> \n",
    "\n",
    "## 3. Explore Clinvar pathogenic variants\n",
    "\n",
    "for patient samples"
   ]
  },
  {
   "cell_type": "code",
   "execution_count": 19,
   "metadata": {},
   "outputs": [],
   "source": [
    "p = (mt_p.info.ISEQ_AGGREGATED_CLINVAR_SIGNIFICANCE.contains('pathogenic'))\n",
    "c = (mt_p.info.ISEQ_AGGREGATED_CLINVAR_SIGNIFICANCE.contains('pathogenic/likely_pathogenic'))\n",
    "l = (mt_p.info.ISEQ_AGGREGATED_CLINVAR_SIGNIFICANCE.contains('likely_pathogenic'))\n",
    "\n",
    "\n",
    "patho_p = mt_p.filter_rows(p | c | l)\n",
    "\n",
    "p = (mt_c.info.ISEQ_AGGREGATED_CLINVAR_SIGNIFICANCE.contains('pathogenic'))\n",
    "c = (mt_c.info.ISEQ_AGGREGATED_CLINVAR_SIGNIFICANCE.contains('pathogenic/likely_pathogenic'))\n",
    "l = (mt_c.info.ISEQ_AGGREGATED_CLINVAR_SIGNIFICANCE.contains('likely_pathogenic'))\n",
    "\n",
    "\n",
    "patho_c = mt_c.filter_rows(p | c | l)"
   ]
  },
  {
   "cell_type": "markdown",
   "metadata": {},
   "source": [
    "<a id='3.1'></a> \n",
    "\n",
    "\n",
    "### 3.1 Filter out pathogenic variants with Gnomad AF > 0.001 and those that occur in controls\n"
   ]
  },
  {
   "cell_type": "code",
   "execution_count": 20,
   "metadata": {},
   "outputs": [],
   "source": [
    "AF_nfe = hl.float64(hl.delimit(patho_p.info.ISEQ_GNOMAD_GENOMES_V3_AF_nfe))\n",
    "\n",
    "patho_p_rare = patho_p.filter_rows(AF_nfe < 0.001)\n",
    "patho_p_rare = patho_p_rare.anti_join_rows(patho_c.rows()) #remove variants that occur in controls\n",
    "\n",
    "patho_p_rare = hl.variant_qc(patho_p_rare)\n",
    "\n",
    "p = patho_p_rare.filter_cols(hl.agg.any(patho_p_rare.GT.is_non_ref()))\n",
    "\n",
    "\n",
    "summary = dict()\n",
    "fields = [p.s, p.locus, p.GT, p.rsid, p.alleles, p.phenotypes.family, p.phenotypes.sex, p.phenotypes.kinship,\n",
    "          p.phenotypes.add_pheno, p.phenotypes.heavy_tics , p.info.ISEQ_GNOMAD_GENOMES_V3_AF_nfe, \n",
    "          p.info.ISEQ_GENES_NAMES, p.info.ISEQ_CLINVAR_ALLELE_ID, p.info.ISEQ_CLINVAR_DISEASES, \n",
    "          p.info.ISEQ_HPO_INHERITANCE, p.info.ISEQ_HPO_PHENOTYPES, p.info.ISEQ_HPO_DISEASES,\n",
    "          p.info.ISEQ_AGGREGATED_CLINVAR_SIGNIFICANCE, p.info.ANN ]\n",
    "field_names = ['sample', 'locus', 'genotype', \n",
    "               'rsid', 'alleles', 'family', 'sex', 'kinship', 'additional_pheno', 'heavy_tics', \n",
    "               'GNOMAD_V3_AF_non_finn_eur', 'Gene', 'CLINVAR_ALLELE_ID', 'CLINVAR_DISEASES', 'HPO_INHERITANCE', \n",
    "               'HPO_PHENOTYPES', 'HPO_DISEASES',\n",
    "               'AGGREGATED_CLINVAR_SIGNIFICANCE', 'SnpEff']\n",
    "\n",
    "\n",
    "for each, each_name in zip(fields, field_names):\n",
    "    key = each_name\n",
    "    summary[key] = p.aggregate_entries(hl.agg.filter(p.GT.is_non_ref(), hl.agg.collect(each)))\n",
    "\n",
    "patho_vars_df = pd.DataFrame(summary)\n",
    "patho_vars_df.to_csv('pathogenic_variants_patients_summary.csv')"
   ]
  },
  {
   "cell_type": "markdown",
   "metadata": {},
   "source": [
    "<a id='4'></a> \n",
    "\n",
    "## 4. FIlter for a list of genes related to GTS"
   ]
  },
  {
   "cell_type": "code",
   "execution_count": 11,
   "metadata": {},
   "outputs": [],
   "source": [
    "#hand-made gene list for Tourette associated genes\n",
    "gene_list = ['PANK2', 'COL27A1', 'PDGFB', 'CELSR3', 'OPA1', 'FBN2', 'WWC1', 'NIPBL', \n",
    "             'FN1', 'FBN2', 'SLITRK1', 'SLITRK2', 'SLITRK3', 'SLITRK4', 'SLITRK5', 'SLITRK6', \n",
    "             'HDC', 'OPRK1', 'PCDH10', 'NTSR2', 'OPRK1', 'CHD8', 'SCUBE1', 'PNKD', 'CNTNAP2', 'MOG', \n",
    "             'DRD2', 'DRD3', 'DRD4', 'DRD5', 'DAT1', 'DBH', 'HTR2A', 'TPH2', 'EAAT1', 'SAPAP3',\n",
    "            'CTNNA3', 'NLGN4', 'FSCB', 'IMMP2L', 'NRXN1', 'AADAC', 'DBH', 'MAOA', 'HTR1A', 'HTR2C', 'SLC6A4',\n",
    "             'TPH2', 'COL27A1', '5-HTTLPR', 'EAAT1', 'COL8A1', 'KCNE1', 'KCNE2'\n",
    "            ]        "
   ]
  },
  {
   "cell_type": "code",
   "execution_count": 1767,
   "metadata": {},
   "outputs": [],
   "source": [
    "mt_f = mt_p.filter_rows(hl.any(lambda x: hl.literal(gene_list).contains(x), mt_p.info.ISEQ_GENES_NAMES))"
   ]
  },
  {
   "cell_type": "markdown",
   "metadata": {},
   "source": [
    "filter out common variants:"
   ]
  },
  {
   "cell_type": "code",
   "execution_count": 1768,
   "metadata": {},
   "outputs": [],
   "source": [
    "AF_nfe = hl.float64(hl.delimit(mt_f.info.ISEQ_GNOMAD_GENOMES_V3_AF_nfe))\n",
    "mt_f = mt_f.filter_rows(AF_nfe < 0.001)"
   ]
  },
  {
   "cell_type": "markdown",
   "metadata": {},
   "source": [
    "filter out variants that occur in controls:"
   ]
  },
  {
   "cell_type": "code",
   "execution_count": 1769,
   "metadata": {},
   "outputs": [],
   "source": [
    "mt_f_contr = mt_c.filter_rows(hl.any(lambda x: hl.literal(gene_list).contains(x), mt_c.info.ISEQ_GENES_NAMES))\n",
    "\n",
    "AF_nfe = hl.float64(hl.delimit(mt_f_contr.info.ISEQ_GNOMAD_GENOMES_V3_AF_nfe))\n",
    "mt_f_contr = mt_f_contr.filter_rows(AF_nfe < 0.001)\n",
    "\n",
    "mt_f = mt_f.anti_join_rows(mt_f_contr.rows())"
   ]
  },
  {
   "cell_type": "code",
   "execution_count": 1770,
   "metadata": {},
   "outputs": [
    {
     "data": {
      "text/plain": [
       "{'SLITRK6': 1,\n",
       " 'FBN2': 2,\n",
       " 'SLITRK3': 2,\n",
       " 'CHD8': 3,\n",
       " 'NTSR2': 1,\n",
       " 'MOG': 1,\n",
       " 'SCUBE1': 3,\n",
       " 'NIPBL': 3,\n",
       " 'PCDH10': 1,\n",
       " 'DRD3': 1,\n",
       " 'COL27A1': 2,\n",
       " 'FN1': 6,\n",
       " 'DRD4': 1,\n",
       " 'OPA1': 1}"
      ]
     },
     "execution_count": 1770,
     "metadata": {},
     "output_type": "execute_result"
    }
   ],
   "source": [
    "mt_f.aggregate_rows(hl.agg.explode(lambda element: hl.agg.counter(element), mt_f.info.ISEQ_GENES_NAMES))"
   ]
  },
  {
   "cell_type": "code",
   "execution_count": 1771,
   "metadata": {},
   "outputs": [],
   "source": [
    "p = mt_f.filter_cols(hl.agg.any(mt_f.GT.is_non_ref()))\n",
    "\n",
    "summary = dict()\n",
    "fields = [p.s, p.locus, p.GT, p.rsid, p.alleles, p.phenotypes.family, p.phenotypes.sex, p.phenotypes.kinship,\n",
    "          p.phenotypes.add_pheno, p.phenotypes.heavy_tics , p.info.ISEQ_GNOMAD_GENOMES_V3_AF_nfe, \n",
    "          p.info.ISEQ_GENES_NAMES, p.info.ISEQ_CLINVAR_ALLELE_ID, p.info.ISEQ_CLINVAR_DISEASES, \n",
    "          p.info.ISEQ_HPO_INHERITANCE, p.info.ISEQ_HPO_PHENOTYPES, p.info.ISEQ_HPO_DISEASES,\n",
    "          p.info.ISEQ_AGGREGATED_CLINVAR_SIGNIFICANCE, p.info.ANN ]\n",
    "field_names = ['sample', 'locus', 'genotype', \n",
    "               'rsid', 'alleles', 'family', 'sex', 'kinship', 'additional_pheno', 'heavy_tics', \n",
    "               'GNOMAD_V3_AF_non_finn_eur', 'Gene', 'CLINVAR_ALLELE_ID', 'CLINVAR_DISEASES', 'HPO_INHERITANCE', \n",
    "               'HPO_PHENOTYPES', 'HPO_DISEASES',\n",
    "               'AGGREGATED_CLINVAR_SIGNIFICANCE', 'SnpEff']\n",
    "\n",
    "for each, each_name in zip(fields, field_names):\n",
    "    key = each_name\n",
    "    summary[key] = p.aggregate_entries(hl.agg.filter(p.GT.is_non_ref(), hl.agg.collect(each)))\n",
    "\n",
    "vars_df = pd.DataFrame(summary)\n",
    "\n",
    "vars_df.to_csv('tourette_gene_list_variants_patients_summary.csv')"
   ]
  },
  {
   "cell_type": "markdown",
   "metadata": {},
   "source": [
    "<a id='4.1'></a> \n",
    "\n",
    "### 4.1 List of 260 genes enriched in basal ganglia\n",
    "\n",
    "https://www.proteinatlas.org/search/brain_category_rna%3Abasal+ganglia%3BRegion+enriched%2CGroup+enriched%2CRegion+enhanced+AND+sort_by%3Atissue+specific+score"
   ]
  },
  {
   "cell_type": "code",
   "execution_count": 13,
   "metadata": {},
   "outputs": [],
   "source": [
    "bg_genes = [line.rstrip() for line in open('./gts_gene_lists/brain_category_rna_basal.tsv')]\n",
    "\n",
    "mt_p.filter_rows(hl.any(lambda x: hl.literal(bg_genes).contains(x), mt_p.info.ISEQ_GENES_NAMES)).count()\n",
    "mt_f = mt_p.filter_rows(hl.any(lambda x: hl.literal(bg_genes).contains(x), mt_p.info.ISEQ_GENES_NAMES))"
   ]
  },
  {
   "cell_type": "markdown",
   "metadata": {},
   "source": [
    "filter out common variants:"
   ]
  },
  {
   "cell_type": "code",
   "execution_count": 1774,
   "metadata": {},
   "outputs": [],
   "source": [
    "AF_nfe = hl.float64(hl.delimit(mt_f.info.ISEQ_GNOMAD_GENOMES_V3_AF_nfe))\n",
    "mt_f = mt_f.filter_rows(AF_nfe < 0.0001)"
   ]
  },
  {
   "cell_type": "markdown",
   "metadata": {},
   "source": [
    "filter out variants that occur in controls:"
   ]
  },
  {
   "cell_type": "code",
   "execution_count": 1775,
   "metadata": {},
   "outputs": [],
   "source": [
    "mt_f_contr = mt_c.filter_rows(hl.any(lambda x: hl.literal(bg_genes).contains(x), mt_c.info.ISEQ_GENES_NAMES))\n",
    "\n",
    "AF_nfe = hl.float64(hl.delimit(mt_f_contr.info.ISEQ_GNOMAD_GENOMES_V3_AF_nfe))\n",
    "mt_f_contr = mt_f_contr.filter_rows(AF_nfe < 0.0001)\n",
    "\n",
    "mt_f = mt_f.anti_join_rows(mt_f_contr.rows())"
   ]
  },
  {
   "cell_type": "code",
   "execution_count": 1776,
   "metadata": {},
   "outputs": [],
   "source": [
    "p = mt_f.filter_cols(hl.agg.any(mt_f.GT.is_non_ref()))\n",
    "\n",
    "summary = dict()\n",
    "fields = [p.s, p.locus, p.GT, p.rsid, p.alleles, p.phenotypes.family, p.phenotypes.sex, p.phenotypes.kinship,\n",
    "          p.phenotypes.add_pheno, p.phenotypes.heavy_tics , p.info.ISEQ_GNOMAD_GENOMES_V3_AF_nfe, \n",
    "          p.info.ISEQ_GENES_NAMES, p.info.ISEQ_CLINVAR_ALLELE_ID, p.info.ISEQ_CLINVAR_DISEASES, \n",
    "          p.info.ISEQ_HPO_INHERITANCE, p.info.ISEQ_HPO_PHENOTYPES, p.info.ISEQ_HPO_DISEASES,\n",
    "          p.info.ISEQ_AGGREGATED_CLINVAR_SIGNIFICANCE, p.info.ANN ]\n",
    "field_names = ['sample', 'locus', 'genotype', \n",
    "               'rsid', 'alleles', 'family', 'sex', 'kinship', 'additional_pheno', 'heavy_tics', \n",
    "               'GNOMAD_V3_AF_non_finn_eur', 'Gene', 'CLINVAR_ALLELE_ID', 'CLINVAR_DISEASES', 'HPO_INHERITANCE', \n",
    "               'HPO_PHENOTYPES', 'HPO_DISEASES',\n",
    "               'AGGREGATED_CLINVAR_SIGNIFICANCE', 'SnpEff']\n",
    "\n",
    "for each, each_name in zip(fields, field_names):\n",
    "    key = each_name\n",
    "    summary[key] = p.aggregate_entries(hl.agg.filter(p.GT.is_non_ref(), hl.agg.collect(each)))\n",
    "\n",
    "vars_df = pd.DataFrame(summary)\n",
    "vars_df.describe()\n",
    "vars_df.to_csv('basal_ganglia_genelist.csv')"
   ]
  },
  {
   "cell_type": "markdown",
   "metadata": {},
   "source": [
    "<a id='4.2'></a> \n",
    "\n",
    "## 4.2 various lists of HPO genes"
   ]
  },
  {
   "cell_type": "code",
   "execution_count": 14,
   "metadata": {},
   "outputs": [],
   "source": [
    "file_list = !ls ./gts_gene_lists/*csv"
   ]
  },
  {
   "cell_type": "code",
   "execution_count": 15,
   "metadata": {},
   "outputs": [
    {
     "data": {
      "text/plain": [
       "['./gts_gene_lists/adhd.csv', './gts_gene_lists/agg_beh.csv']"
      ]
     },
     "execution_count": 15,
     "metadata": {},
     "output_type": "execute_result"
    }
   ],
   "source": [
    "file_list[0:2]"
   ]
  },
  {
   "cell_type": "code",
   "execution_count": 16,
   "metadata": {},
   "outputs": [
    {
     "data": {
      "text/plain": [
       "['./gts_gene_lists/echolalia.csv',\n",
       " './gts_gene_lists/inv_mov.csv',\n",
       " './gts_gene_lists/motor_tics.csv',\n",
       " './gts_gene_lists/neuro_dev.csv',\n",
       " './gts_gene_lists/ocd_beh.csv',\n",
       " './gts_gene_lists/phonic_tics.csv',\n",
       " './gts_gene_lists/self_mut.csv',\n",
       " './gts_gene_lists/tics.csv']"
      ]
     },
     "execution_count": 16,
     "metadata": {},
     "output_type": "execute_result"
    }
   ],
   "source": [
    "file_list[2:]"
   ]
  },
  {
   "cell_type": "code",
   "execution_count": 1762,
   "metadata": {},
   "outputs": [],
   "source": [
    "for a_file in file_list[2:]:\n",
    "    \n",
    "    mt_p_only = mt_p.anti_join_rows(mt_c.rows())\n",
    "    AF_nfe = hl.float64(hl.delimit(mt_p_only.info.ISEQ_GNOMAD_GENOMES_V3_AF_nfe))\n",
    "    \n",
    "    genes = []\n",
    "    df = pd.read_csv(a_file)\n",
    "    genes = list(df['GENE_SYMBOL'])\n",
    "  \n",
    "    \n",
    "    if len(genes) > 150:\n",
    "        mt_p_only = mt_p_only.filter_rows(AF_nfe < 0.0001)   \n",
    "    else:\n",
    "        mt_p_only = mt_p_only.filter_rows(AF_nfe < 0.001)\n",
    "        \n",
    "    mtx = mt_p_only.filter_rows(hl.any(lambda x: hl.literal(genes).contains(x), mt_p_only.info.ISEQ_GENES_NAMES)) \n",
    "    mtx = mtx.filter_cols(hl.agg.any(mtx.GT.is_non_ref()))\n",
    "    \n",
    "    summary = dict()\n",
    "    fields = [mtx.s, mtx.locus, mtx.GT, mtx.GQ, mtx.rsid, mtx.alleles, mtx.phenotypes.family, mtx.phenotypes.sex, mtx.phenotypes.kinship,\n",
    "              mtx.phenotypes.add_pheno, mtx.phenotypes.heavy_tics , mtx.info.ISEQ_GNOMAD_GENOMES_V3_AF_nfe, \n",
    "              mtx.info.ISEQ_GENES_NAMES, mtx.info.ISEQ_CLINVAR_ALLELE_ID, mtx.info.ISEQ_CLINVAR_DISEASES, \n",
    "              mtx.info.ISEQ_HPO_INHERITANCE, mtx.info.ISEQ_HPO_PHENOTYPES, mtx.info.ISEQ_HPO_DISEASES,\n",
    "              mtx.info.ISEQ_AGGREGATED_CLINVAR_SIGNIFICANCE, mtx.info.ANN ]\n",
    "    field_names = ['sample', 'locus', 'genotype', 'GQ',\n",
    "                   'rsid', 'alleles', 'family', 'sex', 'kinship', 'additional_pheno', 'heavy_tics', \n",
    "                   'GNOMAD_V3_AF_non_finn_eur', 'Gene', 'CLINVAR_ALLELE_ID', 'CLINVAR_DISEASES', 'HPO_INHERITANCE', \n",
    "                   'HPO_PHENOTYPES', 'HPO_DISEASES',\n",
    "                   'AGGREGATED_CLINVAR_SIGNIFICANCE', 'SnpEff']\n",
    "\n",
    "    for each, each_name in zip(fields, field_names):\n",
    "        key = each_name\n",
    "        summary[key] = mtx.aggregate_entries(hl.agg.filter(mtx.GT.is_non_ref(), hl.agg.collect(each)))\n",
    "\n",
    "    vars_df = pd.DataFrame(summary)\n",
    "    vars_df.to_csv('sum_'+a_file.split('/')[2])"
   ]
  },
  {
   "cell_type": "markdown",
   "metadata": {},
   "source": [
    "<a id='5'></a>\n",
    "\n",
    "## 5. Find compound homozygotes / double hets\n"
   ]
  },
  {
   "cell_type": "code",
   "execution_count": 17,
   "metadata": {},
   "outputs": [
    {
     "name": "stdout",
     "output_type": "stream",
     "text": [
      "./gts_gene_lists/adhd.csv\t ./gts_gene_lists/neuro_dev.csv\r\n",
      "./gts_gene_lists/agg_beh.csv\t ./gts_gene_lists/ocd_beh.csv\r\n",
      "./gts_gene_lists/echolalia.csv\t ./gts_gene_lists/phonic_tics.csv\r\n",
      "./gts_gene_lists/inv_mov.csv\t ./gts_gene_lists/self_mut.csv\r\n",
      "./gts_gene_lists/motor_tics.csv  ./gts_gene_lists/tics.csv\r\n"
     ]
    }
   ],
   "source": [
    "!ls ./gts_gene_lists/*csv"
   ]
  },
  {
   "cell_type": "code",
   "execution_count": 21,
   "metadata": {},
   "outputs": [],
   "source": [
    "#get a long list of genes:\n",
    "\n",
    "bg_genes = [line.rstrip() for line in open('./gts_gene_lists/brain_category_rna_basal.tsv')] # this has changed location!\n",
    "\n",
    "patho_list = list(patho_vars_df['Gene'])\n",
    "patho_list = list(chain.from_iterable(patho_list))\n",
    "patho_list = [l.split(',') for l in ','.join(patho_list).split(':')]\n",
    "patho_list = list(chain.from_iterable(patho_list))\n",
    "patho_list = [l.split(',') for l in ','.join(patho_list).split('-')]\n",
    "patho_list = list(chain.from_iterable(patho_list))\n",
    "\n",
    "genes = []\n",
    "file_list = !ls ./gts_gene_lists/*csv\n",
    "\n",
    "for a_file in file_list:\n",
    "    df = pd.read_csv(a_file)\n",
    "    genes = genes + list(df['GENE_SYMBOL'])\n",
    "\n",
    "many_genes = genes + gene_list + bg_genes\n",
    "many_genes = set(many_genes)\n",
    "\n",
    "to_remove = ['RAI1','TP53','GP1BA','TRPV3','ENTPD1','PCK1','TNK1','PRKRA','SCN4A', 'IDH2', 'HSPA9','PAH', 'PRPF3']\n",
    "\n",
    "for x in to_remove:\n",
    "    many_genes.remove(x)"
   ]
  },
  {
   "cell_type": "code",
   "execution_count": 22,
   "metadata": {},
   "outputs": [
    {
     "data": {
      "text/plain": [
       "2566"
      ]
     },
     "execution_count": 22,
     "metadata": {},
     "output_type": "execute_result"
    }
   ],
   "source": [
    "len(many_genes)"
   ]
  },
  {
   "cell_type": "code",
   "execution_count": 23,
   "metadata": {},
   "outputs": [],
   "source": [
    "import pickle\n",
    "\n",
    "with open('./py_objects/many_genes', 'wb') as l:\n",
    "    pickle.dump(many_genes, l)"
   ]
  },
  {
   "cell_type": "markdown",
   "metadata": {},
   "source": [
    "<a id='5.1'></a>\n",
    "\n",
    "### 5.1 filter the large matrix for the list of genes and collect into dataframe"
   ]
  },
  {
   "cell_type": "code",
   "execution_count": 1852,
   "metadata": {},
   "outputs": [],
   "source": [
    "mt_g = mt.filter_rows(hl.any(lambda x: hl.literal(many_genes).contains(x), mt.info.ISEQ_GENES_NAMES))\n",
    "mt_g = mt_g.filter_rows(mt_g.info.ISEQ_HIGHEST_IMPACT.contains('HIGH'))\n",
    "\n",
    "samples = mt_g.s.collect()"
   ]
  },
  {
   "cell_type": "code",
   "execution_count": 1910,
   "metadata": {},
   "outputs": [
    {
     "name": "stdout",
     "output_type": "stream",
     "text": [
      "sample S_7227 has no genes on this list.\n",
      "sample S_7261 has no genes on this list.\n",
      "sample WGS_122 has no genes on this list.\n"
     ]
    }
   ],
   "source": [
    "dfs = []\n",
    "\n",
    "for sample in samples:\n",
    "    mt_s = mt_g.filter_cols(mt_g.s == sample)\n",
    "    mt_s = mt_s.filter_rows(hl.agg.any(mt_s.GT.is_non_ref()))\n",
    "\n",
    "    genes = mt_s.aggregate_rows(hl.agg.explode(lambda element: hl.agg.counter(element), mt_s.info.ISEQ_GENES_NAMES))\n",
    "    genes = dict(filter(lambda elem: elem[1] > 1,genes.items()))\n",
    "    genes = list(genes.keys())\n",
    "\n",
    "    if not genes:\n",
    "        print('sample '+sample+' has no genes on this list.')\n",
    "        continue\n",
    "    \n",
    "    mtx = mt_s.filter_rows(hl.any(lambda x: hl.literal(genes).contains(x), mt_s.info.ISEQ_GENES_NAMES))\n",
    "\n",
    "    summary = dict()\n",
    "    fields = [mtx.s, mtx.locus, mtx.GT, mtx.GQ, mtx.rsid, mtx.alleles, mtx.phenotypes.family, mtx.phenotypes.disease, mtx.phenotypes.sex, mtx.phenotypes.kinship,\n",
    "              mtx.phenotypes.add_pheno, mtx.phenotypes.heavy_tics , mtx.info.ISEQ_GNOMAD_GENOMES_V3_AF_nfe,\n",
    "              mtx.info.ISEQ_GENES_NAMES, mtx.info.ISEQ_CLINVAR_ALLELE_ID, mtx.info.ISEQ_CLINVAR_DISEASES,\n",
    "              mtx.info.ISEQ_HPO_INHERITANCE, mtx.info.ISEQ_HPO_PHENOTYPES, mtx.info.ISEQ_HPO_DISEASES,\n",
    "              mtx.info.ISEQ_AGGREGATED_CLINVAR_SIGNIFICANCE, mtx.info.ANN ]\n",
    "    field_names = ['sample', 'locus', 'genotype', 'GQ', 'rsid', 'alleles', 'family', 'disease', 'sex', 'kinship', 'additional_pheno', 'heavy_tics',\n",
    "               'GNOMAD_V3_AF_non_finn_eur', 'Gene', 'CLINVAR_ALLELE_ID', 'CLINVAR_DISEASES', 'HPO_INHERITANCE', 'HPO_PHENOTYPES', 'HPO_DISEASES',\n",
    "               'AGGREGATED_CLINVAR_SIGNIFICANCE', 'SnpEff']\n",
    "\n",
    "    for each, each_name in zip(fields, field_names):\n",
    "        key = each_name\n",
    "        summary[key] = mtx.aggregate_entries(hl.agg.filter(mtx.GT.is_non_ref(), hl.agg.collect(each)))\n",
    "    dfs.append(pd.DataFrame(summary))\n",
    "\n",
    "dfs = pd.concat(dfs)\n",
    "\n",
    "dfs.to_csv('high_double_all_samples.csv')"
   ]
  },
  {
   "cell_type": "markdown",
   "metadata": {},
   "source": [
    "<a id='6'></a>\n",
    "\n",
    "\n",
    "# 6. Family investigations"
   ]
  },
  {
   "cell_type": "code",
   "execution_count": 2303,
   "metadata": {},
   "outputs": [],
   "source": [
    "mt_g = mt.filter_rows(hl.any(lambda x: hl.literal(many_genes).contains(x), mt.info.ISEQ_GENES_NAMES))\n",
    "mt_g_h = mt_g.filter_rows(mt_g.info.ISEQ_HIGHEST_IMPACT.contains('HIGH'))\n",
    "\n",
    "mt_f = mt_g.filter_cols(mt_g.phenotypes.family != '.')\n",
    "mt_f = mt_f.filter_rows(hl.agg.any(mt_f.GT.is_non_ref()))\n",
    "\n",
    "AF_nfe = hl.float64(hl.delimit(mt_f.info.ISEQ_GNOMAD_GENOMES_V3_AF_nfe))\n",
    "mt_f = mt_f.filter_rows(AF_nfe < 0.1)"
   ]
  },
  {
   "cell_type": "code",
   "execution_count": 2304,
   "metadata": {},
   "outputs": [
    {
     "data": {
      "text/plain": [
       "(3065, 109)"
      ]
     },
     "execution_count": 2304,
     "metadata": {},
     "output_type": "execute_result"
    }
   ],
   "source": [
    "mt_f.count()"
   ]
  },
  {
   "cell_type": "code",
   "execution_count": 2305,
   "metadata": {},
   "outputs": [],
   "source": [
    "# for people that have families, collect those that share variants with some double/compound hets\n",
    "\n",
    "families = list(set(mt_f.phenotypes.family.collect()))"
   ]
  },
  {
   "cell_type": "code",
   "execution_count": 2306,
   "metadata": {},
   "outputs": [],
   "source": [
    "families.sort()"
   ]
  },
  {
   "cell_type": "code",
   "execution_count": 2308,
   "metadata": {},
   "outputs": [
    {
     "name": "stdout",
     "output_type": "stream",
     "text": [
      "samples in famP have no genes on this list.\n"
     ]
    }
   ],
   "source": [
    "mtxs = []\n",
    "\n",
    "for fam in families:\n",
    "    # filter the large marix with medium and high variants for each family:\n",
    "    mt_fs = mt_f.filter_cols(mt_f.phenotypes.family == fam)\n",
    "    mt_fs = mt_fs.filter_rows(hl.agg.any(mt_fs.GT.is_non_ref()))\n",
    "    \n",
    "    # get the genes for which proband is high:\n",
    "    mt_prob = mt_g_h.filter_cols(mt_g_h.phenotypes.family == fam)\n",
    "    mt_prob = mt_prob.filter_rows(hl.agg.any(mt_prob.GT.is_non_ref()))\n",
    "    mt_prob = mt_prob.filter_cols(mt_prob.phenotypes.kinship == 'P')\n",
    "    mt_prob = mt_prob.filter_rows(hl.agg.any(mt_prob.GT.is_non_ref()))\n",
    "    \n",
    "    genes = mt_prob.aggregate_rows(hl.agg.explode(lambda element: hl.agg.counter(element), mt_prob.info.ISEQ_GENES_NAMES))\n",
    "    genes = list(genes.keys())\n",
    "    \n",
    "    if not genes:\n",
    "        print('samples in fam'+fam+' have no genes on this list.')\n",
    "        continue\n",
    "    \n",
    "    mtx = mt_fs.filter_rows(hl.any(lambda x: hl.literal(genes).contains(x), mt_fs.info.ISEQ_GENES_NAMES))\n",
    "    mtxs.append(mtx)\n",
    "    \n",
    "    "
   ]
  },
  {
   "cell_type": "markdown",
   "metadata": {},
   "source": [
    "A gene: TBCD appears in three families - dfs[6],[0] , NF1 in family I and SYNGAP1, J,Kfamilty - COG1 (to już się gdiześ pojawiało, Chr 17), MTMR2, rodzina T i inne - DMPK"
   ]
  },
  {
   "cell_type": "code",
   "execution_count": 2309,
   "metadata": {},
   "outputs": [],
   "source": [
    "genes_fam = []\n",
    "genes_patients = []\n",
    "genes_controls = []\n",
    "\n",
    "for idx, mtx in enumerate(mtxs):\n",
    "    \n",
    "    genes_fam.append(mtx.aggregate_entries(hl.agg.filter(mtx.GT.is_non_ref(), \n",
    "                                                         hl.agg.explode(lambda element: hl.agg.counter(element), mtx.info.ISEQ_GENES_NAMES))))\n",
    "    \n",
    "    mtx_p = mtx.filter_cols(mtx.phenotypes.disease == 'YES')\n",
    "    genes_patients.append(mtx_p.aggregate_entries(hl.agg.filter(mtx_p.GT.is_non_ref(), \n",
    "                                                                hl.agg.explode(lambda element: hl.agg.counter(element), mtx_p.info.ISEQ_GENES_NAMES))))\n",
    "                          \n",
    "    mtx_c = mtx.filter_cols(mtx.phenotypes.disease == 'NO')                   \n",
    "    genes_controls.append(mtx_c.aggregate_entries(hl.agg.filter(mtx_c.GT.is_non_ref(), \n",
    "                                                                hl.agg.explode(lambda element: hl.agg.counter(element), mtx_c.info.ISEQ_GENES_NAMES))))\n",
    "    # get rid of alleles that occur only in one person!\n",
    "    \n",
    "    "
   ]
  },
  {
   "cell_type": "code",
   "execution_count": 2310,
   "metadata": {},
   "outputs": [],
   "source": [
    "for idx in range(len(genes_fam)):\n",
    "    \n",
    "    genes_fam[idx] = dict(filter(lambda elem: elem[1] > 1,genes_fam[idx].items()))\n",
    "    genes_fam[idx] = list(genes_fam[idx].keys())\n",
    "\n",
    "    genes_controls[idx] = dict(filter(lambda elem: elem[1] > 1,genes_controls[idx].items()))\n",
    "    genes_controls[idx] = list(genes_controls[idx].keys())\n",
    "        \n",
    "    genes_patients[idx] = dict(filter(lambda elem: elem[1] > 1,genes_patients[idx].items()))\n",
    "    genes_patients[idx] = list(genes_patients[idx].keys())\n",
    "        \n",
    "    mtxs[idx] = mtxs[idx].filter_rows(hl.any(lambda x: hl.literal(genes_fam[idx]).contains(x), mtxs[idx].info.ISEQ_GENES_NAMES)) #this filteres the mts by list"
   ]
  },
  {
   "cell_type": "code",
   "execution_count": 2311,
   "metadata": {},
   "outputs": [
    {
     "name": "stdout",
     "output_type": "stream",
     "text": [
      "(4, 7)\n",
      "in family\n",
      "['A']\n",
      "(10, 8)\n",
      "in family\n",
      "['B']\n",
      "(13, 9)\n",
      "in family\n",
      "['C']\n",
      "(4, 7)\n",
      "in family\n",
      "['D']\n",
      "(30, 7)\n",
      "in family\n",
      "['E']\n",
      "(6, 11)\n",
      "in family\n",
      "['F']\n",
      "(14, 4)\n",
      "in family\n",
      "['G']\n",
      "(2, 6)\n",
      "in family\n",
      "['H']\n",
      "(8, 6)\n",
      "in family\n",
      "['I']\n",
      "(13, 5)\n",
      "in family\n",
      "['J']\n",
      "(3, 3)\n",
      "in family\n",
      "['K']\n",
      "(4, 3)\n",
      "in family\n",
      "['L']\n",
      "(10, 3)\n",
      "in family\n",
      "['M']\n",
      "(5, 3)\n",
      "in family\n",
      "['N']\n",
      "(3, 3)\n",
      "in family\n",
      "['O']\n",
      "(13, 6)\n",
      "in family\n",
      "['R']\n",
      "(8, 6)\n",
      "in family\n",
      "['S']\n",
      "(11, 8)\n",
      "in family\n",
      "['T']\n"
     ]
    }
   ],
   "source": [
    "for mtx in mtxs:\n",
    "    print(hl.eval(mtx.count()))\n",
    "    print('in family')\n",
    "    print(mtx.phenotypes.family.take(1))"
   ]
  },
  {
   "cell_type": "code",
   "execution_count": 2330,
   "metadata": {},
   "outputs": [
    {
     "name": "stderr",
     "output_type": "stream",
     "text": [
      "2019-12-10 10:44:31 Hail: INFO: Coerced sorted dataset\n",
      "2019-12-10 10:44:37 Hail: INFO: Coerced sorted dataset\n",
      "2019-12-10 10:44:42 Hail: INFO: Coerced sorted dataset\n",
      "2019-12-10 10:44:48 Hail: INFO: Coerced sorted dataset\n",
      "2019-12-10 10:44:54 Hail: INFO: Coerced sorted dataset\n",
      "2019-12-10 10:45:01 Hail: INFO: Coerced sorted dataset\n",
      "2019-12-10 10:45:09 Hail: INFO: Coerced sorted dataset\n",
      "2019-12-10 10:45:17 Hail: INFO: Coerced sorted dataset\n",
      "2019-12-10 10:45:23 Hail: INFO: Coerced sorted dataset\n",
      "2019-12-10 10:45:28 Hail: INFO: Coerced sorted dataset\n",
      "2019-12-10 10:45:34 Hail: INFO: Coerced sorted dataset\n",
      "2019-12-10 10:45:41 Hail: INFO: Coerced sorted dataset\n",
      "2019-12-10 10:45:48 Hail: INFO: Coerced sorted dataset\n",
      "2019-12-10 10:45:54 Hail: INFO: Coerced sorted dataset\n",
      "2019-12-10 10:46:04 Hail: INFO: Coerced sorted dataset\n",
      "2019-12-10 10:46:09 Hail: INFO: Coerced sorted dataset\n",
      "2019-12-10 10:46:14 Hail: INFO: Coerced sorted dataset\n",
      "2019-12-10 10:46:22 Hail: INFO: Coerced sorted dataset\n"
     ]
    }
   ],
   "source": [
    "tbs = []\n",
    "\n",
    "colss = []\n",
    "\n",
    "for mtx in mtxs:\n",
    "    tb = mtx.select_cols(mtx.phenotypes.family, mtx.phenotypes.disease, mtx.phenotypes.sex, mtx.phenotypes.kinship, mtx.phenotypes.add_pheno,\n",
    "                        mtx.phenotypes.heavy_tics)\n",
    "    tb = tb.select_entries(tb.GT, tb.GQ)\n",
    "    tb = tb.select_rows(tb.rsid, tb.info.ISEQ_GNOMAD_GENOMES_V3_AF_nfe, tb.info.ISEQ_GENES_NAMES,\n",
    "                        tb.info.ISEQ_CLINVAR_ALLELE_ID, tb.info.ISEQ_CLINVAR_DISEASES,\n",
    "                        tb.info.ISEQ_HPO_INHERITANCE, tb.info.ISEQ_HPO_PHENOTYPES, tb.info.ISEQ_HPO_DISEASES,\n",
    "                        tb.info.ISEQ_AGGREGATED_CLINVAR_SIGNIFICANCE, tb.info.ANN, tb.info.PhastCons100way)\n",
    "    cols = tb.cols()\n",
    "    colss.append(cols.to_pandas())\n",
    "    \n",
    "    tb = tb.make_table()\n",
    "    tbs.append(tb.to_pandas())\n"
   ]
  },
  {
   "cell_type": "code",
   "execution_count": 2342,
   "metadata": {},
   "outputs": [],
   "source": [
    "for col, tb in zip(colss, tbs):\n",
    "    name = col.iloc[0]['family']\n",
    "\n",
    "    col_name = 'cols_'+str(name)   \n",
    "    row_name = 'rows_'+str(name)\n",
    "\n",
    "    col.to_pickle('./py_objects/'+col_name)\n",
    "    tb.to_pickle('./py_objects/'+row_name)"
   ]
  },
  {
   "cell_type": "markdown",
   "metadata": {},
   "source": [
    "<a id='7'></a>\n",
    "\n",
    "\n",
    "# 7. NUP214 investigation as example"
   ]
  },
  {
   "cell_type": "code",
   "execution_count": 2346,
   "metadata": {},
   "outputs": [
    {
     "data": {
      "text/plain": [
       "(47373, 149)"
      ]
     },
     "execution_count": 2346,
     "metadata": {},
     "output_type": "execute_result"
    }
   ],
   "source": [
    "mt.count()"
   ]
  },
  {
   "cell_type": "code",
   "execution_count": 2356,
   "metadata": {},
   "outputs": [],
   "source": [
    "mt_nup = mt.filter_rows(hl.any(lambda x: hl.literal('NUP214').contains(x), mt.info.ISEQ_GENES_NAMES))"
   ]
  },
  {
   "cell_type": "code",
   "execution_count": 2357,
   "metadata": {},
   "outputs": [
    {
     "data": {
      "text/plain": [
       "(2, 149)"
      ]
     },
     "execution_count": 2357,
     "metadata": {},
     "output_type": "execute_result"
    }
   ],
   "source": [
    "mt_nup.count()"
   ]
  },
  {
   "cell_type": "code",
   "execution_count": 2370,
   "metadata": {},
   "outputs": [
    {
     "data": {
      "text/html": [
       "<table><thead style=\"font-weight: bold;\"><tr><td>locus</td><td>alleles</td><td>S_136.GQ</td><td>S_170c.GQ</td><td>S_170d.GQ</td><td>S_6981.GQ</td><td>S_6982.GQ</td><td>S_7146.GQ</td><td>S_7156.GQ</td><td>S_7212.GQ</td><td>S_7213.GQ</td><td>S_7214.GQ</td></tr>\n",
       "<tr><td>locus&lt;GRCh38&gt;</td><td>array&lt;str&gt;</td><td>int32</td><td>int32</td><td>int32</td><td>int32</td><td>int32</td><td>int32</td><td>int32</td><td>int32</td><td>int32</td><td>int32</td></tr>\n",
       "</thead><tbody><tr><td>chr9:131139255</td><td>[&quot;C&quot;,&quot;CT&quot;]</td><td>23</td><td>0</td><td>14</td><td>13</td><td>6</td><td>5</td><td>0</td><td>0</td><td>10</td><td>32</td></tr>\n",
       "<tr><td>chr9:131197554</td><td>[&quot;T&quot;,&quot;A&quot;]</td><td>72</td><td>90</td><td>99</td><td>84</td><td>69</td><td>99</td><td>81</td><td>90</td><td>99</td><td>70</td></tr>\n",
       "</tbody></table><p style=\"background: #fdd; padding: 0.4em;\">showing the first 10 of 149 columns</p>\n"
      ],
      "text/plain": [
       "+----------------+------------+----------+-----------+-----------+-----------+\n",
       "| locus          | alleles    | S_136.GQ | S_170c.GQ | S_170d.GQ | S_6981.GQ |\n",
       "+----------------+------------+----------+-----------+-----------+-----------+\n",
       "| locus<GRCh38>  | array<str> |    int32 |     int32 |     int32 |     int32 |\n",
       "+----------------+------------+----------+-----------+-----------+-----------+\n",
       "| chr9:131139255 | [\"C\",\"CT\"] |       23 |         0 |        14 |        13 |\n",
       "| chr9:131197554 | [\"T\",\"A\"]  |       72 |        90 |        99 |        84 |\n",
       "+----------------+------------+----------+-----------+-----------+-----------+\n",
       "\n",
       "+-----------+-----------+-----------+-----------+-----------+-----------+\n",
       "| S_6982.GQ | S_7146.GQ | S_7156.GQ | S_7212.GQ | S_7213.GQ | S_7214.GQ |\n",
       "+-----------+-----------+-----------+-----------+-----------+-----------+\n",
       "|     int32 |     int32 |     int32 |     int32 |     int32 |     int32 |\n",
       "+-----------+-----------+-----------+-----------+-----------+-----------+\n",
       "|         6 |         5 |         0 |         0 |        10 |        32 |\n",
       "|        69 |        99 |        81 |        90 |        99 |        70 |\n",
       "+-----------+-----------+-----------+-----------+-----------+-----------+\n",
       "showing the first 10 of 149 columns"
      ]
     },
     "metadata": {},
     "output_type": "display_data"
    }
   ],
   "source": [
    "mt_nup.GQ.show(n_cols = 10, n_rows = 20)"
   ]
  },
  {
   "cell_type": "code",
   "execution_count": 1,
   "metadata": {},
   "outputs": [
    {
     "ename": "NameError",
     "evalue": "name 'mt_nup' is not defined",
     "output_type": "error",
     "traceback": [
      "\u001b[0;31m---------------------------------------------------------------------------\u001b[0m",
      "\u001b[0;31mNameError\u001b[0m                                 Traceback (most recent call last)",
      "\u001b[0;32m<ipython-input-1-b1520507c50f>\u001b[0m in \u001b[0;36m<module>\u001b[0;34m\u001b[0m\n\u001b[0;32m----> 1\u001b[0;31m \u001b[0mmt_nup\u001b[0m\u001b[0;34m.\u001b[0m\u001b[0mrsid\u001b[0m\u001b[0;34m.\u001b[0m\u001b[0mshow\u001b[0m\u001b[0;34m(\u001b[0m\u001b[0mn_cols\u001b[0m \u001b[0;34m=\u001b[0m \u001b[0;36m10\u001b[0m\u001b[0;34m,\u001b[0m \u001b[0mn_rows\u001b[0m \u001b[0;34m=\u001b[0m \u001b[0;36m20\u001b[0m\u001b[0;34m)\u001b[0m\u001b[0;34m\u001b[0m\u001b[0;34m\u001b[0m\u001b[0m\n\u001b[0m",
      "\u001b[0;31mNameError\u001b[0m: name 'mt_nup' is not defined"
     ]
    }
   ],
   "source": [
    "mt_nup.rsid.show(n_cols = 10, n_rows = 20)"
   ]
  },
  {
   "cell_type": "code",
   "execution_count": 2371,
   "metadata": {},
   "outputs": [
    {
     "data": {
      "text/html": [
       "<table><thead style=\"font-weight: bold;\"><tr><td>locus</td><td>alleles</td><td>S_136.GT</td><td>S_170c.GT</td><td>S_170d.GT</td><td>S_6981.GT</td><td>S_6982.GT</td><td>S_7146.GT</td><td>S_7156.GT</td><td>S_7212.GT</td><td>S_7213.GT</td><td>S_7214.GT</td></tr>\n",
       "<tr><td>locus&lt;GRCh38&gt;</td><td>array&lt;str&gt;</td><td>call</td><td>call</td><td>call</td><td>call</td><td>call</td><td>call</td><td>call</td><td>call</td><td>call</td><td>call</td></tr>\n",
       "</thead><tbody><tr><td>chr9:131139255</td><td>[&quot;C&quot;,&quot;CT&quot;]</td><td>0/1</td><td>0/0</td><td>0/1</td><td>0/0</td><td>0/0</td><td>0/0</td><td>0/0</td><td>0/0</td><td>0/0</td><td>0/0</td></tr>\n",
       "<tr><td>chr9:131197554</td><td>[&quot;T&quot;,&quot;A&quot;]</td><td>0/0</td><td>0/0</td><td>0/0</td><td>0/0</td><td>0/0</td><td>0/0</td><td>0/0</td><td>0/0</td><td>0/0</td><td>0/0</td></tr>\n",
       "</tbody></table><p style=\"background: #fdd; padding: 0.4em;\">showing the first 10 of 149 columns</p>\n"
      ],
      "text/plain": [
       "+----------------+------------+----------+-----------+-----------+-----------+\n",
       "| locus          | alleles    | S_136.GT | S_170c.GT | S_170d.GT | S_6981.GT |\n",
       "+----------------+------------+----------+-----------+-----------+-----------+\n",
       "| locus<GRCh38>  | array<str> | call     | call      | call      | call      |\n",
       "+----------------+------------+----------+-----------+-----------+-----------+\n",
       "| chr9:131139255 | [\"C\",\"CT\"] | 0/1      | 0/0       | 0/1       | 0/0       |\n",
       "| chr9:131197554 | [\"T\",\"A\"]  | 0/0      | 0/0       | 0/0       | 0/0       |\n",
       "+----------------+------------+----------+-----------+-----------+-----------+\n",
       "\n",
       "+-----------+-----------+-----------+-----------+-----------+-----------+\n",
       "| S_6982.GT | S_7146.GT | S_7156.GT | S_7212.GT | S_7213.GT | S_7214.GT |\n",
       "+-----------+-----------+-----------+-----------+-----------+-----------+\n",
       "| call      | call      | call      | call      | call      | call      |\n",
       "+-----------+-----------+-----------+-----------+-----------+-----------+\n",
       "| 0/0       | 0/0       | 0/0       | 0/0       | 0/0       | 0/0       |\n",
       "| 0/0       | 0/0       | 0/0       | 0/0       | 0/0       | 0/0       |\n",
       "+-----------+-----------+-----------+-----------+-----------+-----------+\n",
       "showing the first 10 of 149 columns"
      ]
     },
     "metadata": {},
     "output_type": "display_data"
    }
   ],
   "source": [
    "mt_nup.GT.show(n_cols = 10, n_rows = 20)"
   ]
  },
  {
   "cell_type": "code",
   "execution_count": 2372,
   "metadata": {},
   "outputs": [
    {
     "data": {
      "text/html": [
       "<table><thead style=\"font-weight: bold;\"><tr><td>locus</td><td>alleles</td><td>S_136.DP</td><td>S_170c.DP</td><td>S_170d.DP</td><td>S_6981.DP</td><td>S_6982.DP</td><td>S_7146.DP</td><td>S_7156.DP</td><td>S_7212.DP</td><td>S_7213.DP</td><td>S_7214.DP</td></tr>\n",
       "<tr><td>locus&lt;GRCh38&gt;</td><td>array&lt;str&gt;</td><td>int32</td><td>int32</td><td>int32</td><td>int32</td><td>int32</td><td>int32</td><td>int32</td><td>int32</td><td>int32</td><td>int32</td></tr>\n",
       "</thead><tbody><tr><td>chr9:131139255</td><td>[&quot;C&quot;,&quot;CT&quot;]</td><td>9</td><td>18</td><td>10</td><td>5</td><td>7</td><td>15</td><td>27</td><td>10</td><td>3</td><td>8</td></tr>\n",
       "<tr><td>chr9:131197554</td><td>[&quot;T&quot;,&quot;A&quot;]</td><td>25</td><td>33</td><td>33</td><td>31</td><td>28</td><td>41</td><td>28</td><td>33</td><td>34</td><td>26</td></tr>\n",
       "</tbody></table><p style=\"background: #fdd; padding: 0.4em;\">showing the first 10 of 149 columns</p>\n"
      ],
      "text/plain": [
       "+----------------+------------+----------+-----------+-----------+-----------+\n",
       "| locus          | alleles    | S_136.DP | S_170c.DP | S_170d.DP | S_6981.DP |\n",
       "+----------------+------------+----------+-----------+-----------+-----------+\n",
       "| locus<GRCh38>  | array<str> |    int32 |     int32 |     int32 |     int32 |\n",
       "+----------------+------------+----------+-----------+-----------+-----------+\n",
       "| chr9:131139255 | [\"C\",\"CT\"] |        9 |        18 |        10 |         5 |\n",
       "| chr9:131197554 | [\"T\",\"A\"]  |       25 |        33 |        33 |        31 |\n",
       "+----------------+------------+----------+-----------+-----------+-----------+\n",
       "\n",
       "+-----------+-----------+-----------+-----------+-----------+-----------+\n",
       "| S_6982.DP | S_7146.DP | S_7156.DP | S_7212.DP | S_7213.DP | S_7214.DP |\n",
       "+-----------+-----------+-----------+-----------+-----------+-----------+\n",
       "|     int32 |     int32 |     int32 |     int32 |     int32 |     int32 |\n",
       "+-----------+-----------+-----------+-----------+-----------+-----------+\n",
       "|         7 |        15 |        27 |        10 |         3 |         8 |\n",
       "|        28 |        41 |        28 |        33 |        34 |        26 |\n",
       "+-----------+-----------+-----------+-----------+-----------+-----------+\n",
       "showing the first 10 of 149 columns"
      ]
     },
     "metadata": {},
     "output_type": "display_data"
    }
   ],
   "source": [
    "mt_nup.DP.show(n_cols = 10, n_rows = 20)"
   ]
  },
  {
   "cell_type": "code",
   "execution_count": 2393,
   "metadata": {},
   "outputs": [],
   "source": [
    "mt_nup_p = mt_nup.filter_cols(mt_nup.phenotypes.disease == 'YES')\n",
    "mt_nup_p = mt_nup_p.filter_cols(mt_nup_p.phenotypes.family != '.')\n",
    "\n",
    "mt_nup_c = mt_nup.filter_cols(mt_nup.phenotypes.disease == 'NO')"
   ]
  },
  {
   "cell_type": "code",
   "execution_count": 2394,
   "metadata": {},
   "outputs": [],
   "source": [
    "mt_nup_p = mt_nup_p.annotate_rows(non_ref_ind = hl.agg.counter(mt_nup_p.GT.is_non_ref()),\n",
    "                                 is_hom_non_ref = hl.agg.counter(mt_nup_p.GT.is_hom_var()),\n",
    "                                 )\n",
    "\n",
    "mt_nup_c = mt_nup_c.annotate_rows(non_ref_ind = hl.agg.counter(mt_nup_c.GT.is_non_ref()),\n",
    "                                 is_hom_non_ref = hl.agg.counter(mt_nup_c.GT.is_hom_var()),\n",
    "                                 )"
   ]
  },
  {
   "cell_type": "code",
   "execution_count": 2395,
   "metadata": {},
   "outputs": [
    {
     "data": {
      "text/html": [
       "<table><thead style=\"font-weight: bold;\"><tr><td>locus</td><td>alleles</td><td>non_ref_ind</td></tr>\n",
       "<tr><td>locus&lt;GRCh38&gt;</td><td>array&lt;str&gt;</td><td>dict&lt;bool, int64&gt;</td></tr>\n",
       "</thead><tbody><tr><td>chr9:131139255</td><td>[&quot;C&quot;,&quot;CT&quot;]</td><td>{false:31,true:12}</td></tr>\n",
       "<tr><td>chr9:131197554</td><td>[&quot;T&quot;,&quot;A&quot;]</td><td>{false:42,true:1}</td></tr>\n",
       "</tbody></table>"
      ],
      "text/plain": [
       "+----------------+------------+--------------------+\n",
       "| locus          | alleles    | non_ref_ind        |\n",
       "+----------------+------------+--------------------+\n",
       "| locus<GRCh38>  | array<str> | dict<bool, int64>  |\n",
       "+----------------+------------+--------------------+\n",
       "| chr9:131139255 | [\"C\",\"CT\"] | {false:31,true:12} |\n",
       "| chr9:131197554 | [\"T\",\"A\"]  | {false:42,true:1}  |\n",
       "+----------------+------------+--------------------+"
      ]
     },
     "metadata": {},
     "output_type": "display_data"
    }
   ],
   "source": [
    "mt_nup_c.non_ref_ind.show()"
   ]
  },
  {
   "cell_type": "code",
   "execution_count": 2396,
   "metadata": {},
   "outputs": [
    {
     "data": {
      "text/html": [
       "<table><thead style=\"font-weight: bold;\"><tr><td>locus</td><td>alleles</td><td>non_ref_ind</td></tr>\n",
       "<tr><td>locus&lt;GRCh38&gt;</td><td>array&lt;str&gt;</td><td>dict&lt;bool, int64&gt;</td></tr>\n",
       "</thead><tbody><tr><td>chr9:131139255</td><td>[&quot;C&quot;,&quot;CT&quot;]</td><td>{false:46,true:17}</td></tr>\n",
       "<tr><td>chr9:131197554</td><td>[&quot;T&quot;,&quot;A&quot;]</td><td>{false:63}</td></tr>\n",
       "</tbody></table>"
      ],
      "text/plain": [
       "+----------------+------------+--------------------+\n",
       "| locus          | alleles    | non_ref_ind        |\n",
       "+----------------+------------+--------------------+\n",
       "| locus<GRCh38>  | array<str> | dict<bool, int64>  |\n",
       "+----------------+------------+--------------------+\n",
       "| chr9:131139255 | [\"C\",\"CT\"] | {false:46,true:17} |\n",
       "| chr9:131197554 | [\"T\",\"A\"]  | {false:63}         |\n",
       "+----------------+------------+--------------------+"
      ]
     },
     "metadata": {},
     "output_type": "display_data"
    }
   ],
   "source": [
    "mt_nup_p.non_ref_ind.show()"
   ]
  },
  {
   "cell_type": "code",
   "execution_count": 2397,
   "metadata": {},
   "outputs": [
    {
     "data": {
      "text/html": [
       "<table><thead style=\"font-weight: bold;\"><tr><td>locus</td><td>alleles</td><td>is_hom_non_ref</td></tr>\n",
       "<tr><td>locus&lt;GRCh38&gt;</td><td>array&lt;str&gt;</td><td>dict&lt;bool, int64&gt;</td></tr>\n",
       "</thead><tbody><tr><td>chr9:131139255</td><td>[&quot;C&quot;,&quot;CT&quot;]</td><td>{false:62,true:1}</td></tr>\n",
       "<tr><td>chr9:131197554</td><td>[&quot;T&quot;,&quot;A&quot;]</td><td>{false:63}</td></tr>\n",
       "</tbody></table>"
      ],
      "text/plain": [
       "+----------------+------------+-------------------+\n",
       "| locus          | alleles    | is_hom_non_ref    |\n",
       "+----------------+------------+-------------------+\n",
       "| locus<GRCh38>  | array<str> | dict<bool, int64> |\n",
       "+----------------+------------+-------------------+\n",
       "| chr9:131139255 | [\"C\",\"CT\"] | {false:62,true:1} |\n",
       "| chr9:131197554 | [\"T\",\"A\"]  | {false:63}        |\n",
       "+----------------+------------+-------------------+"
      ]
     },
     "metadata": {},
     "output_type": "display_data"
    }
   ],
   "source": [
    "mt_nup_p.is_hom_non_ref.show()"
   ]
  },
  {
   "cell_type": "code",
   "execution_count": 2398,
   "metadata": {},
   "outputs": [
    {
     "data": {
      "text/html": [
       "<table><thead style=\"font-weight: bold;\"><tr><td>s</td></tr>\n",
       "<tr><td>str</td></tr>\n",
       "</thead><tbody><tr><td>&quot;S_7253&quot;</td></tr>\n",
       "</tbody></table>"
      ],
      "text/plain": [
       "+----------+\n",
       "| s        |\n",
       "+----------+\n",
       "| str      |\n",
       "+----------+\n",
       "| \"S_7253\" |\n",
       "+----------+"
      ]
     },
     "metadata": {},
     "output_type": "display_data"
    }
   ],
   "source": [
    "mt_nup_p.filter_cols(hl.agg.any(mt_nup_p.GT.is_hom_var())).s.show()"
   ]
  },
  {
   "cell_type": "code",
   "execution_count": 2399,
   "metadata": {},
   "outputs": [
    {
     "data": {
      "text/html": [
       "<table><thead style=\"font-weight: bold;\"><tr><td>locus</td><td>alleles</td><td>S_7146.GT</td></tr>\n",
       "<tr><td>locus&lt;GRCh38&gt;</td><td>array&lt;str&gt;</td><td>call</td></tr>\n",
       "</thead><tbody><tr><td>chr9:131139255</td><td>[&quot;C&quot;,&quot;CT&quot;]</td><td>0/0</td></tr>\n",
       "<tr><td>chr9:131197554</td><td>[&quot;T&quot;,&quot;A&quot;]</td><td>0/0</td></tr>\n",
       "</tbody></table>"
      ],
      "text/plain": [
       "+----------------+------------+-----------+\n",
       "| locus          | alleles    | S_7146.GT |\n",
       "+----------------+------------+-----------+\n",
       "| locus<GRCh38>  | array<str> | call      |\n",
       "+----------------+------------+-----------+\n",
       "| chr9:131139255 | [\"C\",\"CT\"] | 0/0       |\n",
       "| chr9:131197554 | [\"T\",\"A\"]  | 0/0       |\n",
       "+----------------+------------+-----------+"
      ]
     },
     "metadata": {},
     "output_type": "display_data"
    }
   ],
   "source": [
    "mt_nup_p.filter_cols(mt_nup_p.s == 'S_7146').GT.show()"
   ]
  },
  {
   "cell_type": "code",
   "execution_count": 2400,
   "metadata": {},
   "outputs": [
    {
     "data": {
      "text/html": [
       "<table><thead style=\"font-weight: bold;\"><tr><td>locus</td><td>alleles</td><td>S_7146.DP</td></tr>\n",
       "<tr><td>locus&lt;GRCh38&gt;</td><td>array&lt;str&gt;</td><td>int32</td></tr>\n",
       "</thead><tbody><tr><td>chr9:131139255</td><td>[&quot;C&quot;,&quot;CT&quot;]</td><td>15</td></tr>\n",
       "<tr><td>chr9:131197554</td><td>[&quot;T&quot;,&quot;A&quot;]</td><td>41</td></tr>\n",
       "</tbody></table>"
      ],
      "text/plain": [
       "+----------------+------------+-----------+\n",
       "| locus          | alleles    | S_7146.DP |\n",
       "+----------------+------------+-----------+\n",
       "| locus<GRCh38>  | array<str> |     int32 |\n",
       "+----------------+------------+-----------+\n",
       "| chr9:131139255 | [\"C\",\"CT\"] |        15 |\n",
       "| chr9:131197554 | [\"T\",\"A\"]  |        41 |\n",
       "+----------------+------------+-----------+"
      ]
     },
     "metadata": {},
     "output_type": "display_data"
    }
   ],
   "source": [
    "mt_nup_p.filter_cols(mt_nup_p.s == 'S_7146').DP.show()"
   ]
  },
  {
   "cell_type": "code",
   "execution_count": 2401,
   "metadata": {},
   "outputs": [
    {
     "data": {
      "text/html": [
       "<table><thead style=\"font-weight: bold;\"><tr><td>locus</td><td>alleles</td><td>S_7146.GQ</td></tr>\n",
       "<tr><td>locus&lt;GRCh38&gt;</td><td>array&lt;str&gt;</td><td>int32</td></tr>\n",
       "</thead><tbody><tr><td>chr9:131139255</td><td>[&quot;C&quot;,&quot;CT&quot;]</td><td>5</td></tr>\n",
       "<tr><td>chr9:131197554</td><td>[&quot;T&quot;,&quot;A&quot;]</td><td>99</td></tr>\n",
       "</tbody></table>"
      ],
      "text/plain": [
       "+----------------+------------+-----------+\n",
       "| locus          | alleles    | S_7146.GQ |\n",
       "+----------------+------------+-----------+\n",
       "| locus<GRCh38>  | array<str> |     int32 |\n",
       "+----------------+------------+-----------+\n",
       "| chr9:131139255 | [\"C\",\"CT\"] |         5 |\n",
       "| chr9:131197554 | [\"T\",\"A\"]  |        99 |\n",
       "+----------------+------------+-----------+"
      ]
     },
     "metadata": {},
     "output_type": "display_data"
    }
   ],
   "source": [
    "mt_nup_p.filter_cols(mt_nup_p.s == 'S_7146').GQ.show()"
   ]
  }
 ],
 "metadata": {
  "kernelspec": {
   "display_name": "Python 3",
   "language": "python",
   "name": "python3"
  },
  "language_info": {
   "codemirror_mode": {
    "name": "ipython",
    "version": 3
   },
   "file_extension": ".py",
   "mimetype": "text/x-python",
   "name": "python",
   "nbconvert_exporter": "python",
   "pygments_lexer": "ipython3",
   "version": "3.7.4"
  }
 },
 "nbformat": 4,
 "nbformat_minor": 2
}
