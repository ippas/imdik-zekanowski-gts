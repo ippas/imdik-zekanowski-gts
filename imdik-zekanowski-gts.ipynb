{
 "cells": [
  {
   "cell_type": "markdown",
   "metadata": {},
   "source": [
    "# table of contents:\n",
    "\n",
    "## [1. Import hail, other libraries and data](#1)\n",
    "\n",
    "[1.1 import phenotype and pedigree data](#1.1)\n",
    "\n",
    "[1.2 Annotate mt with phenotype and pedigree info](#1.2)\n",
    "\n",
    "## [2. Explore MatrixTable, collect field descriptions](#2)\n",
    "\n",
    "   [2.1 Removing the star alleles](#2.1)\n",
    "   \n",
    "   [2.1.5 Filter out outliers based on PCA](#2.1.5)\n",
    "   \n",
    "   [2.2 Creating a mt_p with patients only and mt_c with non-patients](#2.2)\n",
    "\n",
    "\n",
    "## [3. Explore Clinvar pathogenic variants](#3)\n",
    "\n",
    "[3.1 Filter out pathogenic variants with Gnomad AF > 0.001 and those that occur in controls](#3.1)\n",
    "\n",
    "## [4. Filter for variants in genes associated with GTS ](#4)\n",
    "\n",
    "[4.1 List of 260 genes enriched in basal ganglia](#4.1)\n",
    "\n",
    "[4.2 Lists of genes associated with HPO phenotypes](#4.2)\n",
    "\n",
    "\n",
    "## [5. Investigation of the X chromosome genotypes](#5)\n",
    "\n",
    "[5.1 Filter for X associated rare variants](#5.1)"
   ]
  },
  {
   "cell_type": "markdown",
   "metadata": {},
   "source": [
    "<a id='1'></a> \n",
    "## 1. Import hail, other libraries and data"
   ]
  },
  {
   "cell_type": "markdown",
   "metadata": {},
   "source": [
    "always run this code to widen notebook:"
   ]
  },
  {
   "cell_type": "code",
   "execution_count": 1749,
   "metadata": {},
   "outputs": [
    {
     "data": {
      "text/html": [
       "<style>.container { width:100% !important; }</style>"
      ],
      "text/plain": [
       "<IPython.core.display.HTML object>"
      ]
     },
     "metadata": {},
     "output_type": "display_data"
    }
   ],
   "source": [
    "from IPython.display import display\n",
    "from IPython.display import HTML\n",
    "import IPython.core.display as di # Example: di.display_html('<h3>%s:</h3>' % str, raw=True)\n",
    "\n",
    "# This line will hide code by default when the notebook is exported as HTML\n",
    "# di.display_html('<script>jQuery(function() {if (jQuery(\"body.notebook_app\").length == 0) { jQuery(\".input_area\").toggle(); jQuery(\".prompt\").toggle();}});</script>', raw=True)\n",
    "\n",
    "display(HTML(\"<style>.container { width:100% !important; }</style>\"))"
   ]
  },
  {
   "cell_type": "code",
   "execution_count": 1,
   "metadata": {},
   "outputs": [
    {
     "name": "stderr",
     "output_type": "stream",
     "text": [
      "Running on Apache Spark version 2.4.1\n",
      "SparkUI available at http://349d1de1bab4:4040\n",
      "Welcome to\n",
      "     __  __     <>__\n",
      "    / /_/ /__  __/ /\n",
      "   / __  / _ `/ / /\n",
      "  /_/ /_/\\_,_/_/_/   version 0.2.26-2dcc3d963867\n",
      "LOGGING: writing to /hail/hail-20191114-0831-0.2.26-2dcc3d963867.log\n"
     ]
    }
   ],
   "source": [
    "import hail as hl\n",
    "hl.init() "
   ]
  },
  {
   "cell_type": "code",
   "execution_count": 1750,
   "metadata": {
    "scrolled": true
   },
   "outputs": [
    {
     "data": {
      "text/html": [
       "\n",
       "    <div class=\"bk-root\">\n",
       "        <a href=\"https://bokeh.pydata.org\" target=\"_blank\" class=\"bk-logo bk-logo-small bk-logo-notebook\"></a>\n",
       "        <span id=\"109947\">Loading BokehJS ...</span>\n",
       "    </div>"
      ]
     },
     "metadata": {},
     "output_type": "display_data"
    },
    {
     "data": {
      "application/javascript": [
       "\n",
       "(function(root) {\n",
       "  function now() {\n",
       "    return new Date();\n",
       "  }\n",
       "\n",
       "  var force = true;\n",
       "\n",
       "  if (typeof root._bokeh_onload_callbacks === \"undefined\" || force === true) {\n",
       "    root._bokeh_onload_callbacks = [];\n",
       "    root._bokeh_is_loading = undefined;\n",
       "  }\n",
       "\n",
       "  var JS_MIME_TYPE = 'application/javascript';\n",
       "  var HTML_MIME_TYPE = 'text/html';\n",
       "  var EXEC_MIME_TYPE = 'application/vnd.bokehjs_exec.v0+json';\n",
       "  var CLASS_NAME = 'output_bokeh rendered_html';\n",
       "\n",
       "  /**\n",
       "   * Render data to the DOM node\n",
       "   */\n",
       "  function render(props, node) {\n",
       "    var script = document.createElement(\"script\");\n",
       "    node.appendChild(script);\n",
       "  }\n",
       "\n",
       "  /**\n",
       "   * Handle when an output is cleared or removed\n",
       "   */\n",
       "  function handleClearOutput(event, handle) {\n",
       "    var cell = handle.cell;\n",
       "\n",
       "    var id = cell.output_area._bokeh_element_id;\n",
       "    var server_id = cell.output_area._bokeh_server_id;\n",
       "    // Clean up Bokeh references\n",
       "    if (id != null && id in Bokeh.index) {\n",
       "      Bokeh.index[id].model.document.clear();\n",
       "      delete Bokeh.index[id];\n",
       "    }\n",
       "\n",
       "    if (server_id !== undefined) {\n",
       "      // Clean up Bokeh references\n",
       "      var cmd = \"from bokeh.io.state import curstate; print(curstate().uuid_to_server['\" + server_id + \"'].get_sessions()[0].document.roots[0]._id)\";\n",
       "      cell.notebook.kernel.execute(cmd, {\n",
       "        iopub: {\n",
       "          output: function(msg) {\n",
       "            var id = msg.content.text.trim();\n",
       "            if (id in Bokeh.index) {\n",
       "              Bokeh.index[id].model.document.clear();\n",
       "              delete Bokeh.index[id];\n",
       "            }\n",
       "          }\n",
       "        }\n",
       "      });\n",
       "      // Destroy server and session\n",
       "      var cmd = \"import bokeh.io.notebook as ion; ion.destroy_server('\" + server_id + \"')\";\n",
       "      cell.notebook.kernel.execute(cmd);\n",
       "    }\n",
       "  }\n",
       "\n",
       "  /**\n",
       "   * Handle when a new output is added\n",
       "   */\n",
       "  function handleAddOutput(event, handle) {\n",
       "    var output_area = handle.output_area;\n",
       "    var output = handle.output;\n",
       "\n",
       "    // limit handleAddOutput to display_data with EXEC_MIME_TYPE content only\n",
       "    if ((output.output_type != \"display_data\") || (!output.data.hasOwnProperty(EXEC_MIME_TYPE))) {\n",
       "      return\n",
       "    }\n",
       "\n",
       "    var toinsert = output_area.element.find(\".\" + CLASS_NAME.split(' ')[0]);\n",
       "\n",
       "    if (output.metadata[EXEC_MIME_TYPE][\"id\"] !== undefined) {\n",
       "      toinsert[toinsert.length - 1].firstChild.textContent = output.data[JS_MIME_TYPE];\n",
       "      // store reference to embed id on output_area\n",
       "      output_area._bokeh_element_id = output.metadata[EXEC_MIME_TYPE][\"id\"];\n",
       "    }\n",
       "    if (output.metadata[EXEC_MIME_TYPE][\"server_id\"] !== undefined) {\n",
       "      var bk_div = document.createElement(\"div\");\n",
       "      bk_div.innerHTML = output.data[HTML_MIME_TYPE];\n",
       "      var script_attrs = bk_div.children[0].attributes;\n",
       "      for (var i = 0; i < script_attrs.length; i++) {\n",
       "        toinsert[toinsert.length - 1].firstChild.setAttribute(script_attrs[i].name, script_attrs[i].value);\n",
       "      }\n",
       "      // store reference to server id on output_area\n",
       "      output_area._bokeh_server_id = output.metadata[EXEC_MIME_TYPE][\"server_id\"];\n",
       "    }\n",
       "  }\n",
       "\n",
       "  function register_renderer(events, OutputArea) {\n",
       "\n",
       "    function append_mime(data, metadata, element) {\n",
       "      // create a DOM node to render to\n",
       "      var toinsert = this.create_output_subarea(\n",
       "        metadata,\n",
       "        CLASS_NAME,\n",
       "        EXEC_MIME_TYPE\n",
       "      );\n",
       "      this.keyboard_manager.register_events(toinsert);\n",
       "      // Render to node\n",
       "      var props = {data: data, metadata: metadata[EXEC_MIME_TYPE]};\n",
       "      render(props, toinsert[toinsert.length - 1]);\n",
       "      element.append(toinsert);\n",
       "      return toinsert\n",
       "    }\n",
       "\n",
       "    /* Handle when an output is cleared or removed */\n",
       "    events.on('clear_output.CodeCell', handleClearOutput);\n",
       "    events.on('delete.Cell', handleClearOutput);\n",
       "\n",
       "    /* Handle when a new output is added */\n",
       "    events.on('output_added.OutputArea', handleAddOutput);\n",
       "\n",
       "    /**\n",
       "     * Register the mime type and append_mime function with output_area\n",
       "     */\n",
       "    OutputArea.prototype.register_mime_type(EXEC_MIME_TYPE, append_mime, {\n",
       "      /* Is output safe? */\n",
       "      safe: true,\n",
       "      /* Index of renderer in `output_area.display_order` */\n",
       "      index: 0\n",
       "    });\n",
       "  }\n",
       "\n",
       "  // register the mime type if in Jupyter Notebook environment and previously unregistered\n",
       "  if (root.Jupyter !== undefined) {\n",
       "    var events = require('base/js/events');\n",
       "    var OutputArea = require('notebook/js/outputarea').OutputArea;\n",
       "\n",
       "    if (OutputArea.prototype.mime_types().indexOf(EXEC_MIME_TYPE) == -1) {\n",
       "      register_renderer(events, OutputArea);\n",
       "    }\n",
       "  }\n",
       "\n",
       "  \n",
       "  if (typeof (root._bokeh_timeout) === \"undefined\" || force === true) {\n",
       "    root._bokeh_timeout = Date.now() + 5000;\n",
       "    root._bokeh_failed_load = false;\n",
       "  }\n",
       "\n",
       "  var NB_LOAD_WARNING = {'data': {'text/html':\n",
       "     \"<div style='background-color: #fdd'>\\n\"+\n",
       "     \"<p>\\n\"+\n",
       "     \"BokehJS does not appear to have successfully loaded. If loading BokehJS from CDN, this \\n\"+\n",
       "     \"may be due to a slow or bad network connection. Possible fixes:\\n\"+\n",
       "     \"</p>\\n\"+\n",
       "     \"<ul>\\n\"+\n",
       "     \"<li>re-rerun `output_notebook()` to attempt to load from CDN again, or</li>\\n\"+\n",
       "     \"<li>use INLINE resources instead, as so:</li>\\n\"+\n",
       "     \"</ul>\\n\"+\n",
       "     \"<code>\\n\"+\n",
       "     \"from bokeh.resources import INLINE\\n\"+\n",
       "     \"output_notebook(resources=INLINE)\\n\"+\n",
       "     \"</code>\\n\"+\n",
       "     \"</div>\"}};\n",
       "\n",
       "  function display_loaded() {\n",
       "    var el = document.getElementById(\"109947\");\n",
       "    if (el != null) {\n",
       "      el.textContent = \"BokehJS is loading...\";\n",
       "    }\n",
       "    if (root.Bokeh !== undefined) {\n",
       "      if (el != null) {\n",
       "        el.textContent = \"BokehJS \" + root.Bokeh.version + \" successfully loaded.\";\n",
       "      }\n",
       "    } else if (Date.now() < root._bokeh_timeout) {\n",
       "      setTimeout(display_loaded, 100)\n",
       "    }\n",
       "  }\n",
       "\n",
       "\n",
       "  function run_callbacks() {\n",
       "    try {\n",
       "      root._bokeh_onload_callbacks.forEach(function(callback) {\n",
       "        if (callback != null)\n",
       "          callback();\n",
       "      });\n",
       "    } finally {\n",
       "      delete root._bokeh_onload_callbacks\n",
       "    }\n",
       "    console.debug(\"Bokeh: all callbacks have finished\");\n",
       "  }\n",
       "\n",
       "  function load_libs(css_urls, js_urls, callback) {\n",
       "    if (css_urls == null) css_urls = [];\n",
       "    if (js_urls == null) js_urls = [];\n",
       "\n",
       "    root._bokeh_onload_callbacks.push(callback);\n",
       "    if (root._bokeh_is_loading > 0) {\n",
       "      console.debug(\"Bokeh: BokehJS is being loaded, scheduling callback at\", now());\n",
       "      return null;\n",
       "    }\n",
       "    if (js_urls == null || js_urls.length === 0) {\n",
       "      run_callbacks();\n",
       "      return null;\n",
       "    }\n",
       "    console.debug(\"Bokeh: BokehJS not loaded, scheduling load and callback at\", now());\n",
       "    root._bokeh_is_loading = css_urls.length + js_urls.length;\n",
       "\n",
       "    function on_load() {\n",
       "      root._bokeh_is_loading--;\n",
       "      if (root._bokeh_is_loading === 0) {\n",
       "        console.debug(\"Bokeh: all BokehJS libraries/stylesheets loaded\");\n",
       "        run_callbacks()\n",
       "      }\n",
       "    }\n",
       "\n",
       "    function on_error() {\n",
       "      console.error(\"failed to load \" + url);\n",
       "    }\n",
       "\n",
       "    for (var i = 0; i < css_urls.length; i++) {\n",
       "      var url = css_urls[i];\n",
       "      const element = document.createElement(\"link\");\n",
       "      element.onload = on_load;\n",
       "      element.onerror = on_error;\n",
       "      element.rel = \"stylesheet\";\n",
       "      element.type = \"text/css\";\n",
       "      element.href = url;\n",
       "      console.debug(\"Bokeh: injecting link tag for BokehJS stylesheet: \", url);\n",
       "      document.body.appendChild(element);\n",
       "    }\n",
       "\n",
       "    for (var i = 0; i < js_urls.length; i++) {\n",
       "      var url = js_urls[i];\n",
       "      var element = document.createElement('script');\n",
       "      element.onload = on_load;\n",
       "      element.onerror = on_error;\n",
       "      element.async = false;\n",
       "      element.src = url;\n",
       "      console.debug(\"Bokeh: injecting script tag for BokehJS library: \", url);\n",
       "      document.head.appendChild(element);\n",
       "    }\n",
       "  };var element = document.getElementById(\"109947\");\n",
       "  if (element == null) {\n",
       "    console.error(\"Bokeh: ERROR: autoload.js configured with elementid '109947' but no matching script tag was found. \")\n",
       "    return false;\n",
       "  }\n",
       "\n",
       "  function inject_raw_css(css) {\n",
       "    const element = document.createElement(\"style\");\n",
       "    element.appendChild(document.createTextNode(css));\n",
       "    document.body.appendChild(element);\n",
       "  }\n",
       "\n",
       "  var js_urls = [\"https://cdn.pydata.org/bokeh/release/bokeh-1.2.0.min.js\", \"https://cdn.pydata.org/bokeh/release/bokeh-widgets-1.2.0.min.js\", \"https://cdn.pydata.org/bokeh/release/bokeh-tables-1.2.0.min.js\", \"https://cdn.pydata.org/bokeh/release/bokeh-gl-1.2.0.min.js\"];\n",
       "  var css_urls = [\"https://cdn.pydata.org/bokeh/release/bokeh-1.2.0.min.css\", \"https://cdn.pydata.org/bokeh/release/bokeh-widgets-1.2.0.min.css\", \"https://cdn.pydata.org/bokeh/release/bokeh-tables-1.2.0.min.css\"];\n",
       "\n",
       "  var inline_js = [\n",
       "    function(Bokeh) {\n",
       "      Bokeh.set_log_level(\"info\");\n",
       "    },\n",
       "    \n",
       "    function(Bokeh) {\n",
       "      \n",
       "    },\n",
       "    function(Bokeh) {} // ensure no trailing comma for IE\n",
       "  ];\n",
       "\n",
       "  function run_inline_js() {\n",
       "    \n",
       "    if ((root.Bokeh !== undefined) || (force === true)) {\n",
       "      for (var i = 0; i < inline_js.length; i++) {\n",
       "        inline_js[i].call(root, root.Bokeh);\n",
       "      }if (force === true) {\n",
       "        display_loaded();\n",
       "      }} else if (Date.now() < root._bokeh_timeout) {\n",
       "      setTimeout(run_inline_js, 100);\n",
       "    } else if (!root._bokeh_failed_load) {\n",
       "      console.log(\"Bokeh: BokehJS failed to load within specified timeout.\");\n",
       "      root._bokeh_failed_load = true;\n",
       "    } else if (force !== true) {\n",
       "      var cell = $(document.getElementById(\"109947\")).parents('.cell').data().cell;\n",
       "      cell.output_area.append_execute_result(NB_LOAD_WARNING)\n",
       "    }\n",
       "\n",
       "  }\n",
       "\n",
       "  if (root._bokeh_is_loading === 0) {\n",
       "    console.debug(\"Bokeh: BokehJS loaded, going straight to plotting\");\n",
       "    run_inline_js();\n",
       "  } else {\n",
       "    load_libs(css_urls, js_urls, function() {\n",
       "      console.debug(\"Bokeh: BokehJS plotting callback run at\", now());\n",
       "      run_inline_js();\n",
       "    });\n",
       "  }\n",
       "}(window));"
      ],
      "application/vnd.bokehjs_load.v0+json": "\n(function(root) {\n  function now() {\n    return new Date();\n  }\n\n  var force = true;\n\n  if (typeof root._bokeh_onload_callbacks === \"undefined\" || force === true) {\n    root._bokeh_onload_callbacks = [];\n    root._bokeh_is_loading = undefined;\n  }\n\n  \n\n  \n  if (typeof (root._bokeh_timeout) === \"undefined\" || force === true) {\n    root._bokeh_timeout = Date.now() + 5000;\n    root._bokeh_failed_load = false;\n  }\n\n  var NB_LOAD_WARNING = {'data': {'text/html':\n     \"<div style='background-color: #fdd'>\\n\"+\n     \"<p>\\n\"+\n     \"BokehJS does not appear to have successfully loaded. If loading BokehJS from CDN, this \\n\"+\n     \"may be due to a slow or bad network connection. Possible fixes:\\n\"+\n     \"</p>\\n\"+\n     \"<ul>\\n\"+\n     \"<li>re-rerun `output_notebook()` to attempt to load from CDN again, or</li>\\n\"+\n     \"<li>use INLINE resources instead, as so:</li>\\n\"+\n     \"</ul>\\n\"+\n     \"<code>\\n\"+\n     \"from bokeh.resources import INLINE\\n\"+\n     \"output_notebook(resources=INLINE)\\n\"+\n     \"</code>\\n\"+\n     \"</div>\"}};\n\n  function display_loaded() {\n    var el = document.getElementById(\"109947\");\n    if (el != null) {\n      el.textContent = \"BokehJS is loading...\";\n    }\n    if (root.Bokeh !== undefined) {\n      if (el != null) {\n        el.textContent = \"BokehJS \" + root.Bokeh.version + \" successfully loaded.\";\n      }\n    } else if (Date.now() < root._bokeh_timeout) {\n      setTimeout(display_loaded, 100)\n    }\n  }\n\n\n  function run_callbacks() {\n    try {\n      root._bokeh_onload_callbacks.forEach(function(callback) {\n        if (callback != null)\n          callback();\n      });\n    } finally {\n      delete root._bokeh_onload_callbacks\n    }\n    console.debug(\"Bokeh: all callbacks have finished\");\n  }\n\n  function load_libs(css_urls, js_urls, callback) {\n    if (css_urls == null) css_urls = [];\n    if (js_urls == null) js_urls = [];\n\n    root._bokeh_onload_callbacks.push(callback);\n    if (root._bokeh_is_loading > 0) {\n      console.debug(\"Bokeh: BokehJS is being loaded, scheduling callback at\", now());\n      return null;\n    }\n    if (js_urls == null || js_urls.length === 0) {\n      run_callbacks();\n      return null;\n    }\n    console.debug(\"Bokeh: BokehJS not loaded, scheduling load and callback at\", now());\n    root._bokeh_is_loading = css_urls.length + js_urls.length;\n\n    function on_load() {\n      root._bokeh_is_loading--;\n      if (root._bokeh_is_loading === 0) {\n        console.debug(\"Bokeh: all BokehJS libraries/stylesheets loaded\");\n        run_callbacks()\n      }\n    }\n\n    function on_error() {\n      console.error(\"failed to load \" + url);\n    }\n\n    for (var i = 0; i < css_urls.length; i++) {\n      var url = css_urls[i];\n      const element = document.createElement(\"link\");\n      element.onload = on_load;\n      element.onerror = on_error;\n      element.rel = \"stylesheet\";\n      element.type = \"text/css\";\n      element.href = url;\n      console.debug(\"Bokeh: injecting link tag for BokehJS stylesheet: \", url);\n      document.body.appendChild(element);\n    }\n\n    for (var i = 0; i < js_urls.length; i++) {\n      var url = js_urls[i];\n      var element = document.createElement('script');\n      element.onload = on_load;\n      element.onerror = on_error;\n      element.async = false;\n      element.src = url;\n      console.debug(\"Bokeh: injecting script tag for BokehJS library: \", url);\n      document.head.appendChild(element);\n    }\n  };var element = document.getElementById(\"109947\");\n  if (element == null) {\n    console.error(\"Bokeh: ERROR: autoload.js configured with elementid '109947' but no matching script tag was found. \")\n    return false;\n  }\n\n  function inject_raw_css(css) {\n    const element = document.createElement(\"style\");\n    element.appendChild(document.createTextNode(css));\n    document.body.appendChild(element);\n  }\n\n  var js_urls = [\"https://cdn.pydata.org/bokeh/release/bokeh-1.2.0.min.js\", \"https://cdn.pydata.org/bokeh/release/bokeh-widgets-1.2.0.min.js\", \"https://cdn.pydata.org/bokeh/release/bokeh-tables-1.2.0.min.js\", \"https://cdn.pydata.org/bokeh/release/bokeh-gl-1.2.0.min.js\"];\n  var css_urls = [\"https://cdn.pydata.org/bokeh/release/bokeh-1.2.0.min.css\", \"https://cdn.pydata.org/bokeh/release/bokeh-widgets-1.2.0.min.css\", \"https://cdn.pydata.org/bokeh/release/bokeh-tables-1.2.0.min.css\"];\n\n  var inline_js = [\n    function(Bokeh) {\n      Bokeh.set_log_level(\"info\");\n    },\n    \n    function(Bokeh) {\n      \n    },\n    function(Bokeh) {} // ensure no trailing comma for IE\n  ];\n\n  function run_inline_js() {\n    \n    if ((root.Bokeh !== undefined) || (force === true)) {\n      for (var i = 0; i < inline_js.length; i++) {\n        inline_js[i].call(root, root.Bokeh);\n      }if (force === true) {\n        display_loaded();\n      }} else if (Date.now() < root._bokeh_timeout) {\n      setTimeout(run_inline_js, 100);\n    } else if (!root._bokeh_failed_load) {\n      console.log(\"Bokeh: BokehJS failed to load within specified timeout.\");\n      root._bokeh_failed_load = true;\n    } else if (force !== true) {\n      var cell = $(document.getElementById(\"109947\")).parents('.cell').data().cell;\n      cell.output_area.append_execute_result(NB_LOAD_WARNING)\n    }\n\n  }\n\n  if (root._bokeh_is_loading === 0) {\n    console.debug(\"Bokeh: BokehJS loaded, going straight to plotting\");\n    run_inline_js();\n  } else {\n    load_libs(css_urls, js_urls, function() {\n      console.debug(\"Bokeh: BokehJS plotting callback run at\", now());\n      run_inline_js();\n    });\n  }\n}(window));"
     },
     "metadata": {},
     "output_type": "display_data"
    }
   ],
   "source": [
    "from hail.plot import show\n",
    "from pprint import pprint\n",
    "from bokeh.layouts import gridplot\n",
    "hl.plot.output_notebook()\n",
    "\n",
    "import numpy as np\n",
    "import pandas as pd\n",
    "from functools import reduce"
   ]
  },
  {
   "cell_type": "code",
   "execution_count": 10,
   "metadata": {},
   "outputs": [
    {
     "name": "stderr",
     "output_type": "stream",
     "text": [
      "2019-11-12 15:44:48 Hail: INFO: Ordering unsorted dataset with network shuffle\n",
      "2019-11-12 15:45:18 Hail: INFO: wrote matrix table with 726380 rows and 151 columns in 116 partitions to data/sample.mt\n"
     ]
    }
   ],
   "source": [
    "hl.import_vcf('data/annotated.test.vcf', reference_genome='GRCh38').write('data/sample.mt', overwrite=True)"
   ]
  },
  {
   "cell_type": "code",
   "execution_count": 1425,
   "metadata": {},
   "outputs": [],
   "source": [
    "mt = hl.read_matrix_table('data/sample.mt') # mt stands for MatrixTable"
   ]
  },
  {
   "cell_type": "markdown",
   "metadata": {},
   "source": [
    "<a id='1.1'></a>\n",
    "## 1.1 import phenotype and pedigree data"
   ]
  },
  {
   "cell_type": "code",
   "execution_count": 1426,
   "metadata": {},
   "outputs": [
    {
     "name": "stderr",
     "output_type": "stream",
     "text": [
      "2019-12-02 15:41:42 Hail: INFO: Reading table to impute column types\n",
      "2019-12-02 15:41:42 Hail: INFO: Finished type imputation\n",
      "  Loading column 'ID' as type 'str' (imputed)\n",
      "  Loading column 'family' as type 'str' (imputed)\n",
      "  Loading column 'sex' as type 'str' (imputed)\n",
      "  Loading column 'kinship' as type 'str' (imputed)\n",
      "  Loading column 'disease' as type 'str' (imputed)\n",
      "  Loading column 'phenotype' as type 'str' (imputed)\n",
      "  Loading column 'add_pheno' as type 'str' (imputed)\n",
      "  Loading column 'heavy_tics' as type 'str' (imputed)\n"
     ]
    }
   ],
   "source": [
    "pheno = hl.import_table('GTS-coded.csv', delimiter = ',', impute = True, key = 'ID')"
   ]
  },
  {
   "cell_type": "markdown",
   "metadata": {},
   "source": [
    "<a id='1.2'></a>\n",
    "\n",
    "## 1.2 Annotate mt with phenotype and pedigree info"
   ]
  },
  {
   "cell_type": "code",
   "execution_count": 1427,
   "metadata": {},
   "outputs": [],
   "source": [
    "mt = mt.annotate_cols(phenotypes = pheno[mt.s])"
   ]
  },
  {
   "cell_type": "markdown",
   "metadata": {},
   "source": [
    "<a id='2'></a> \n",
    "## 2. Explore MatrixTable, collect field descriptions"
   ]
  },
  {
   "cell_type": "markdown",
   "metadata": {},
   "source": [
    "<a id='2.1'></a>\n",
    "\n",
    "## 2.1 Removing the star alleles\n",
    "\n",
    "### These are orphaned stars and shouldn't be here\n",
    "\n"
   ]
  },
  {
   "cell_type": "code",
   "execution_count": 1434,
   "metadata": {},
   "outputs": [],
   "source": [
    "mt = mt.filter_rows(mt.alleles.contains('*'), keep = False)"
   ]
  },
  {
   "cell_type": "markdown",
   "metadata": {},
   "source": [
    "<a id='2.1.5'></a>\n",
    "\n",
    "### 2.1.5 Filter out outliers based on PCA"
   ]
  },
  {
   "cell_type": "code",
   "execution_count": 1435,
   "metadata": {},
   "outputs": [],
   "source": [
    "mt = mt.filter_cols(mt.s != 'WGS_139', keep = True)\n",
    "mt = mt.filter_cols(mt.s != 'WGS_D6816', keep = True)"
   ]
  },
  {
   "cell_type": "code",
   "execution_count": 1436,
   "metadata": {
    "scrolled": false
   },
   "outputs": [
    {
     "name": "stderr",
     "output_type": "stream",
     "text": [
      "2019-12-02 15:42:48 Hail: INFO: hwe_normalized_pca: running PCA using 42468 variants.\n",
      "2019-12-02 15:42:50 Hail: INFO: pca: running PCA with 10 components...\n"
     ]
    }
   ],
   "source": [
    "eigenvalues, pcs, _ = hl.hwe_normalized_pca(mt.GT)"
   ]
  },
  {
   "cell_type": "code",
   "execution_count": 1439,
   "metadata": {},
   "outputs": [],
   "source": [
    "mt = mt.annotate_cols(scores = pcs[mt.s].scores)"
   ]
  },
  {
   "cell_type": "code",
   "execution_count": 1713,
   "metadata": {},
   "outputs": [
    {
     "data": {
      "text/html": [
       "\n",
       "\n",
       "\n",
       "\n",
       "\n",
       "\n",
       "  <div class=\"bk-root\" id=\"3bd81f2a-9ac1-4852-9bd1-3ab46cf0d162\" data-root-id=\"107948\"></div>\n"
      ]
     },
     "metadata": {},
     "output_type": "display_data"
    },
    {
     "data": {
      "application/javascript": [
       "(function(root) {\n",
       "  function embed_document(root) {\n",
       "    \n",
       "  var docs_json = {\"2962a3a8-4f0a-4567-b15d-e787c3eb1934\":{\"roots\":{\"references\":[{\"attributes\":{\"below\":[{\"id\":\"107959\",\"type\":\"LinearAxis\"}],\"center\":[{\"id\":\"107963\",\"type\":\"Grid\"},{\"id\":\"107968\",\"type\":\"Grid\"}],\"left\":[{\"id\":\"107964\",\"type\":\"LinearAxis\"},{\"id\":\"108119\",\"type\":\"Legend\"},{\"id\":\"108120\",\"type\":\"ColorBar\"}],\"plot_height\":800,\"plot_width\":800,\"renderers\":[{\"id\":\"107991\",\"type\":\"GlyphRenderer\"},{\"id\":\"107997\",\"type\":\"GlyphRenderer\"},{\"id\":\"108003\",\"type\":\"GlyphRenderer\"},{\"id\":\"108009\",\"type\":\"GlyphRenderer\"},{\"id\":\"108015\",\"type\":\"GlyphRenderer\"},{\"id\":\"108021\",\"type\":\"GlyphRenderer\"},{\"id\":\"108027\",\"type\":\"GlyphRenderer\"},{\"id\":\"108033\",\"type\":\"GlyphRenderer\"},{\"id\":\"108039\",\"type\":\"GlyphRenderer\"},{\"id\":\"108045\",\"type\":\"GlyphRenderer\"},{\"id\":\"108051\",\"type\":\"GlyphRenderer\"},{\"id\":\"108057\",\"type\":\"GlyphRenderer\"},{\"id\":\"108063\",\"type\":\"GlyphRenderer\"},{\"id\":\"108069\",\"type\":\"GlyphRenderer\"},{\"id\":\"108075\",\"type\":\"GlyphRenderer\"},{\"id\":\"108081\",\"type\":\"GlyphRenderer\"},{\"id\":\"108087\",\"type\":\"GlyphRenderer\"},{\"id\":\"108093\",\"type\":\"GlyphRenderer\"},{\"id\":\"108099\",\"type\":\"GlyphRenderer\"}],\"title\":{\"id\":\"107949\",\"type\":\"Title\"},\"toolbar\":{\"id\":\"107975\",\"type\":\"Toolbar\"},\"x_range\":{\"id\":\"107951\",\"type\":\"DataRange1d\"},\"x_scale\":{\"id\":\"107955\",\"type\":\"LinearScale\"},\"y_range\":{\"id\":\"107953\",\"type\":\"DataRange1d\"},\"y_scale\":{\"id\":\"107957\",\"type\":\"LinearScale\"}},\"id\":\"107948\",\"subtype\":\"Figure\",\"type\":\"Plot\"},{\"attributes\":{\"data_source\":{\"id\":\"107984\",\"type\":\"ColumnDataSource\"},\"glyph\":{\"id\":\"108055\",\"type\":\"Circle\"},\"hover_glyph\":null,\"muted_glyph\":null,\"nonselection_glyph\":{\"id\":\"108056\",\"type\":\"Circle\"},\"selection_glyph\":null,\"view\":{\"id\":\"108053\",\"type\":\"CDSView\"}},\"id\":\"108057\",\"type\":\"GlyphRenderer\"},{\"attributes\":{\"filters\":[{\"id\":\"107998\",\"type\":\"GroupFilter\"}],\"source\":{\"id\":\"107984\",\"type\":\"ColumnDataSource\"}},\"id\":\"107999\",\"type\":\"CDSView\"},{\"attributes\":{},\"id\":\"107965\",\"type\":\"BasicTicker\"},{\"attributes\":{\"fill_alpha\":{\"value\":0.1},\"fill_color\":{\"value\":\"#1f77b4\"},\"line_alpha\":{\"value\":0.1},\"line_color\":{\"value\":\"#1f77b4\"},\"x\":{\"field\":\"x\"},\"y\":{\"field\":\"y\"}},\"id\":\"108062\",\"type\":\"Circle\"},{\"attributes\":{\"fill_alpha\":{\"value\":0.1},\"fill_color\":{\"value\":\"#1f77b4\"},\"line_alpha\":{\"value\":0.1},\"line_color\":{\"value\":\"#1f77b4\"},\"x\":{\"field\":\"x\"},\"y\":{\"field\":\"y\"}},\"id\":\"108068\",\"type\":\"Circle\"},{\"attributes\":{\"fill_alpha\":{\"value\":0.1},\"fill_color\":{\"value\":\"#1f77b4\"},\"line_alpha\":{\"value\":0.1},\"line_color\":{\"value\":\"#1f77b4\"},\"x\":{\"field\":\"x\"},\"y\":{\"field\":\"y\"}},\"id\":\"108002\",\"type\":\"Circle\"},{\"attributes\":{},\"id\":\"107972\",\"type\":\"SaveTool\"},{\"attributes\":{},\"id\":\"109885\",\"type\":\"Selection\"},{\"attributes\":{\"fill_color\":{\"field\":\"label\",\"transform\":{\"id\":\"107985\",\"type\":\"CategoricalColorMapper\"}},\"line_color\":{\"field\":\"label\",\"transform\":{\"id\":\"107985\",\"type\":\"CategoricalColorMapper\"}},\"x\":{\"field\":\"x\"},\"y\":{\"field\":\"y\"}},\"id\":\"108061\",\"type\":\"Circle\"},{\"attributes\":{\"fill_color\":{\"field\":\"label\",\"transform\":{\"id\":\"107985\",\"type\":\"CategoricalColorMapper\"}},\"line_color\":{\"field\":\"label\",\"transform\":{\"id\":\"107985\",\"type\":\"CategoricalColorMapper\"}},\"x\":{\"field\":\"x\"},\"y\":{\"field\":\"y\"}},\"id\":\"108049\",\"type\":\"Circle\"},{\"attributes\":{\"fill_color\":{\"field\":\"label\",\"transform\":{\"id\":\"107985\",\"type\":\"CategoricalColorMapper\"}},\"line_color\":{\"field\":\"label\",\"transform\":{\"id\":\"107985\",\"type\":\"CategoricalColorMapper\"}},\"x\":{\"field\":\"x\"},\"y\":{\"field\":\"y\"}},\"id\":\"108001\",\"type\":\"Circle\"},{\"attributes\":{\"overlay\":{\"id\":\"109886\",\"type\":\"BoxAnnotation\"}},\"id\":\"107971\",\"type\":\"BoxZoomTool\"},{\"attributes\":{\"column_name\":\"label\",\"group\":\"F\"},\"id\":\"108022\",\"type\":\"GroupFilter\"},{\"attributes\":{\"column_name\":\"label\",\"group\":\"B\"},\"id\":\"107998\",\"type\":\"GroupFilter\"},{\"attributes\":{\"filters\":[{\"id\":\"108064\",\"type\":\"GroupFilter\"}],\"source\":{\"id\":\"107984\",\"type\":\"ColumnDataSource\"}},\"id\":\"108065\",\"type\":\"CDSView\"},{\"attributes\":{},\"id\":\"107970\",\"type\":\"WheelZoomTool\"},{\"attributes\":{},\"id\":\"107973\",\"type\":\"ResetTool\"},{\"attributes\":{\"bottom_units\":\"screen\",\"fill_alpha\":{\"value\":0.5},\"fill_color\":{\"value\":\"lightgrey\"},\"left_units\":\"screen\",\"level\":\"overlay\",\"line_alpha\":{\"value\":1.0},\"line_color\":{\"value\":\"black\"},\"line_dash\":[4,4],\"line_width\":{\"value\":2},\"render_mode\":\"css\",\"right_units\":\"screen\",\"top_units\":\"screen\"},\"id\":\"109886\",\"type\":\"BoxAnnotation\"},{\"attributes\":{},\"id\":\"107969\",\"type\":\"PanTool\"},{\"attributes\":{\"data_source\":{\"id\":\"107984\",\"type\":\"ColumnDataSource\"},\"glyph\":{\"id\":\"108001\",\"type\":\"Circle\"},\"hover_glyph\":null,\"muted_glyph\":null,\"nonselection_glyph\":{\"id\":\"108002\",\"type\":\"Circle\"},\"selection_glyph\":null,\"view\":{\"id\":\"107999\",\"type\":\"CDSView\"}},\"id\":\"108003\",\"type\":\"GlyphRenderer\"},{\"attributes\":{\"column_name\":\"label\",\"group\":\"J\"},\"id\":\"108046\",\"type\":\"GroupFilter\"},{\"attributes\":{\"dimension\":1,\"ticker\":{\"id\":\"107965\",\"type\":\"BasicTicker\"}},\"id\":\"107968\",\"type\":\"Grid\"},{\"attributes\":{\"filters\":[{\"id\":\"108004\",\"type\":\"GroupFilter\"}],\"source\":{\"id\":\"107984\",\"type\":\"ColumnDataSource\"}},\"id\":\"108005\",\"type\":\"CDSView\"},{\"attributes\":{\"fill_alpha\":{\"value\":0.1},\"fill_color\":{\"value\":\"#1f77b4\"},\"line_alpha\":{\"value\":0.1},\"line_color\":{\"value\":\"#1f77b4\"},\"x\":{\"field\":\"x\"},\"y\":{\"field\":\"y\"}},\"id\":\"108032\",\"type\":\"Circle\"},{\"attributes\":{\"column_name\":\"label\",\"group\":\"L\"},\"id\":\"108058\",\"type\":\"GroupFilter\"},{\"attributes\":{\"column_name\":\"label\",\"group\":\"K\"},\"id\":\"108052\",\"type\":\"GroupFilter\"},{\"attributes\":{\"filters\":[{\"id\":\"108082\",\"type\":\"GroupFilter\"}],\"source\":{\"id\":\"107984\",\"type\":\"ColumnDataSource\"}},\"id\":\"108083\",\"type\":\"CDSView\"},{\"attributes\":{\"filters\":[{\"id\":\"108052\",\"type\":\"GroupFilter\"}],\"source\":{\"id\":\"107984\",\"type\":\"ColumnDataSource\"}},\"id\":\"108053\",\"type\":\"CDSView\"},{\"attributes\":{\"data_source\":{\"id\":\"107984\",\"type\":\"ColumnDataSource\"},\"glyph\":{\"id\":\"108061\",\"type\":\"Circle\"},\"hover_glyph\":null,\"muted_glyph\":null,\"nonselection_glyph\":{\"id\":\"108062\",\"type\":\"Circle\"},\"selection_glyph\":null,\"view\":{\"id\":\"108059\",\"type\":\"CDSView\"}},\"id\":\"108063\",\"type\":\"GlyphRenderer\"},{\"attributes\":{\"fill_alpha\":{\"value\":0.1},\"fill_color\":{\"value\":\"#1f77b4\"},\"line_alpha\":{\"value\":0.1},\"line_color\":{\"value\":\"#1f77b4\"},\"x\":{\"field\":\"x\"},\"y\":{\"field\":\"y\"}},\"id\":\"108038\",\"type\":\"Circle\"},{\"attributes\":{\"fill_color\":{\"field\":\"label\",\"transform\":{\"id\":\"107985\",\"type\":\"CategoricalColorMapper\"}},\"line_color\":{\"field\":\"label\",\"transform\":{\"id\":\"107985\",\"type\":\"CategoricalColorMapper\"}},\"x\":{\"field\":\"x\"},\"y\":{\"field\":\"y\"}},\"id\":\"108007\",\"type\":\"Circle\"},{\"attributes\":{\"fill_color\":{\"field\":\"label\",\"transform\":{\"id\":\"107985\",\"type\":\"CategoricalColorMapper\"}},\"line_color\":{\"field\":\"label\",\"transform\":{\"id\":\"107985\",\"type\":\"CategoricalColorMapper\"}},\"x\":{\"field\":\"x\"},\"y\":{\"field\":\"y\"}},\"id\":\"108031\",\"type\":\"Circle\"},{\"attributes\":{\"data_source\":{\"id\":\"107984\",\"type\":\"ColumnDataSource\"},\"glyph\":{\"id\":\"108031\",\"type\":\"Circle\"},\"hover_glyph\":null,\"muted_glyph\":null,\"nonselection_glyph\":{\"id\":\"108032\",\"type\":\"Circle\"},\"selection_glyph\":null,\"view\":{\"id\":\"108029\",\"type\":\"CDSView\"}},\"id\":\"108033\",\"type\":\"GlyphRenderer\"},{\"attributes\":{\"column_name\":\"label\",\"group\":\"C\"},\"id\":\"108004\",\"type\":\"GroupFilter\"},{\"attributes\":{\"filters\":[{\"id\":\"108034\",\"type\":\"GroupFilter\"}],\"source\":{\"id\":\"107984\",\"type\":\"ColumnDataSource\"}},\"id\":\"108035\",\"type\":\"CDSView\"},{\"attributes\":{\"filters\":[{\"id\":\"108058\",\"type\":\"GroupFilter\"}],\"source\":{\"id\":\"107984\",\"type\":\"ColumnDataSource\"}},\"id\":\"108059\",\"type\":\"CDSView\"},{\"attributes\":{\"column_name\":\"label\",\"group\":\"G\"},\"id\":\"108028\",\"type\":\"GroupFilter\"},{\"attributes\":{\"filters\":[{\"id\":\"108070\",\"type\":\"GroupFilter\"}],\"source\":{\"id\":\"107984\",\"type\":\"ColumnDataSource\"}},\"id\":\"108071\",\"type\":\"CDSView\"},{\"attributes\":{\"filters\":[{\"id\":\"108010\",\"type\":\"GroupFilter\"}],\"source\":{\"id\":\"107984\",\"type\":\"ColumnDataSource\"}},\"id\":\"108011\",\"type\":\"CDSView\"},{\"attributes\":{\"data_source\":{\"id\":\"107984\",\"type\":\"ColumnDataSource\"},\"glyph\":{\"id\":\"108067\",\"type\":\"Circle\"},\"hover_glyph\":null,\"muted_glyph\":null,\"nonselection_glyph\":{\"id\":\"108068\",\"type\":\"Circle\"},\"selection_glyph\":null,\"view\":{\"id\":\"108065\",\"type\":\"CDSView\"}},\"id\":\"108069\",\"type\":\"GlyphRenderer\"},{\"attributes\":{\"fill_alpha\":{\"value\":0.1},\"fill_color\":{\"value\":\"#1f77b4\"},\"line_alpha\":{\"value\":0.1},\"line_color\":{\"value\":\"#1f77b4\"},\"x\":{\"field\":\"x\"},\"y\":{\"field\":\"y\"}},\"id\":\"108008\",\"type\":\"Circle\"},{\"attributes\":{},\"id\":\"107974\",\"type\":\"HelpTool\"},{\"attributes\":{\"data_source\":{\"id\":\"107984\",\"type\":\"ColumnDataSource\"},\"glyph\":{\"id\":\"108007\",\"type\":\"Circle\"},\"hover_glyph\":null,\"muted_glyph\":null,\"nonselection_glyph\":{\"id\":\"108008\",\"type\":\"Circle\"},\"selection_glyph\":null,\"view\":{\"id\":\"108005\",\"type\":\"CDSView\"}},\"id\":\"108009\",\"type\":\"GlyphRenderer\"},{\"attributes\":{\"fill_color\":{\"field\":\"label\",\"transform\":{\"id\":\"107985\",\"type\":\"CategoricalColorMapper\"}},\"line_color\":{\"field\":\"label\",\"transform\":{\"id\":\"107985\",\"type\":\"CategoricalColorMapper\"}},\"x\":{\"field\":\"x\"},\"y\":{\"field\":\"y\"}},\"id\":\"108037\",\"type\":\"Circle\"},{\"attributes\":{},\"id\":\"109881\",\"type\":\"BasicTicker\"},{\"attributes\":{\"fill_alpha\":{\"value\":0.1},\"fill_color\":{\"value\":\"#1f77b4\"},\"line_alpha\":{\"value\":0.1},\"line_color\":{\"value\":\"#1f77b4\"},\"x\":{\"field\":\"x\"},\"y\":{\"field\":\"y\"}},\"id\":\"108044\",\"type\":\"Circle\"},{\"attributes\":{\"fill_color\":{\"field\":\"label\",\"transform\":{\"id\":\"107985\",\"type\":\"CategoricalColorMapper\"}},\"line_color\":{\"field\":\"label\",\"transform\":{\"id\":\"107985\",\"type\":\"CategoricalColorMapper\"}},\"x\":{\"field\":\"x\"},\"y\":{\"field\":\"y\"}},\"id\":\"108013\",\"type\":\"Circle\"},{\"attributes\":{\"column_name\":\"label\",\"group\":\"M\"},\"id\":\"108064\",\"type\":\"GroupFilter\"},{\"attributes\":{\"fill_alpha\":{\"value\":0.1},\"fill_color\":{\"value\":\"#1f77b4\"},\"line_alpha\":{\"value\":0.1},\"line_color\":{\"value\":\"#1f77b4\"},\"x\":{\"field\":\"x\"},\"y\":{\"field\":\"y\"}},\"id\":\"108056\",\"type\":\"Circle\"},{\"attributes\":{\"column_name\":\"label\",\"group\":\"D\"},\"id\":\"108010\",\"type\":\"GroupFilter\"},{\"attributes\":{\"data_source\":{\"id\":\"107984\",\"type\":\"ColumnDataSource\"},\"glyph\":{\"id\":\"108037\",\"type\":\"Circle\"},\"hover_glyph\":null,\"muted_glyph\":null,\"nonselection_glyph\":{\"id\":\"108038\",\"type\":\"Circle\"},\"selection_glyph\":null,\"view\":{\"id\":\"108035\",\"type\":\"CDSView\"}},\"id\":\"108039\",\"type\":\"GlyphRenderer\"},{\"attributes\":{\"fill_color\":{\"field\":\"label\",\"transform\":{\"id\":\"107985\",\"type\":\"CategoricalColorMapper\"}},\"line_color\":{\"field\":\"label\",\"transform\":{\"id\":\"107985\",\"type\":\"CategoricalColorMapper\"}},\"x\":{\"field\":\"x\"},\"y\":{\"field\":\"y\"}},\"id\":\"108055\",\"type\":\"Circle\"},{\"attributes\":{\"fill_color\":{\"field\":\"label\",\"transform\":{\"id\":\"107985\",\"type\":\"CategoricalColorMapper\"}},\"line_color\":{\"field\":\"label\",\"transform\":{\"id\":\"107985\",\"type\":\"CategoricalColorMapper\"}},\"x\":{\"field\":\"x\"},\"y\":{\"field\":\"y\"}},\"id\":\"108067\",\"type\":\"Circle\"},{\"attributes\":{\"fill_color\":{\"field\":\"label\",\"transform\":{\"id\":\"107985\",\"type\":\"CategoricalColorMapper\"}},\"line_color\":{\"field\":\"label\",\"transform\":{\"id\":\"107985\",\"type\":\"CategoricalColorMapper\"}},\"x\":{\"field\":\"x\"},\"y\":{\"field\":\"y\"}},\"id\":\"108019\",\"type\":\"Circle\"},{\"attributes\":{\"fill_alpha\":{\"value\":0.1},\"fill_color\":{\"value\":\"#1f77b4\"},\"line_alpha\":{\"value\":0.1},\"line_color\":{\"value\":\"#1f77b4\"},\"x\":{\"field\":\"x\"},\"y\":{\"field\":\"y\"}},\"id\":\"108014\",\"type\":\"Circle\"},{\"attributes\":{\"filters\":[{\"id\":\"108040\",\"type\":\"GroupFilter\"}],\"source\":{\"id\":\"107984\",\"type\":\"ColumnDataSource\"}},\"id\":\"108041\",\"type\":\"CDSView\"},{\"attributes\":{\"data_source\":{\"id\":\"107984\",\"type\":\"ColumnDataSource\"},\"glyph\":{\"id\":\"108013\",\"type\":\"Circle\"},\"hover_glyph\":null,\"muted_glyph\":null,\"nonselection_glyph\":{\"id\":\"108014\",\"type\":\"Circle\"},\"selection_glyph\":null,\"view\":{\"id\":\"108011\",\"type\":\"CDSView\"}},\"id\":\"108015\",\"type\":\"GlyphRenderer\"},{\"attributes\":{\"fill_color\":{\"field\":\"label\",\"transform\":{\"id\":\"107985\",\"type\":\"CategoricalColorMapper\"}},\"line_color\":{\"field\":\"label\",\"transform\":{\"id\":\"107985\",\"type\":\"CategoricalColorMapper\"}},\"x\":{\"field\":\"x\"},\"y\":{\"field\":\"y\"}},\"id\":\"108073\",\"type\":\"Circle\"},{\"attributes\":{\"column_name\":\"label\",\"group\":\"N\"},\"id\":\"108070\",\"type\":\"GroupFilter\"},{\"attributes\":{\"filters\":[{\"id\":\"108016\",\"type\":\"GroupFilter\"}],\"source\":{\"id\":\"107984\",\"type\":\"ColumnDataSource\"}},\"id\":\"108017\",\"type\":\"CDSView\"},{\"attributes\":{\"fill_color\":{\"field\":\"label\",\"transform\":{\"id\":\"107985\",\"type\":\"CategoricalColorMapper\"}},\"line_color\":{\"field\":\"label\",\"transform\":{\"id\":\"107985\",\"type\":\"CategoricalColorMapper\"}},\"x\":{\"field\":\"x\"},\"y\":{\"field\":\"y\"}},\"id\":\"108085\",\"type\":\"Circle\"},{\"attributes\":{},\"id\":\"109884\",\"type\":\"UnionRenderers\"},{\"attributes\":{\"column_name\":\"label\",\"group\":\"E\"},\"id\":\"108016\",\"type\":\"GroupFilter\"},{\"attributes\":{\"filters\":[{\"id\":\"108076\",\"type\":\"GroupFilter\"}],\"source\":{\"id\":\"107984\",\"type\":\"ColumnDataSource\"}},\"id\":\"108077\",\"type\":\"CDSView\"},{\"attributes\":{\"column_name\":\"label\",\"group\":\"I\"},\"id\":\"108040\",\"type\":\"GroupFilter\"},{\"attributes\":{\"fill_alpha\":{\"value\":0.1},\"fill_color\":{\"value\":\"#1f77b4\"},\"line_alpha\":{\"value\":0.1},\"line_color\":{\"value\":\"#1f77b4\"},\"x\":{\"field\":\"x\"},\"y\":{\"field\":\"y\"}},\"id\":\"108074\",\"type\":\"Circle\"},{\"attributes\":{\"data_source\":{\"id\":\"107984\",\"type\":\"ColumnDataSource\"},\"glyph\":{\"id\":\"108073\",\"type\":\"Circle\"},\"hover_glyph\":null,\"muted_glyph\":null,\"nonselection_glyph\":{\"id\":\"108074\",\"type\":\"Circle\"},\"selection_glyph\":null,\"view\":{\"id\":\"108071\",\"type\":\"CDSView\"}},\"id\":\"108075\",\"type\":\"GlyphRenderer\"},{\"attributes\":{\"filters\":[{\"id\":\"108046\",\"type\":\"GroupFilter\"}],\"source\":{\"id\":\"107984\",\"type\":\"ColumnDataSource\"}},\"id\":\"108047\",\"type\":\"CDSView\"},{\"attributes\":{\"data_source\":{\"id\":\"107984\",\"type\":\"ColumnDataSource\"},\"glyph\":{\"id\":\"108043\",\"type\":\"Circle\"},\"hover_glyph\":null,\"muted_glyph\":null,\"nonselection_glyph\":{\"id\":\"108044\",\"type\":\"Circle\"},\"selection_glyph\":null,\"view\":{\"id\":\"108041\",\"type\":\"CDSView\"}},\"id\":\"108045\",\"type\":\"GlyphRenderer\"},{\"attributes\":{\"filters\":[{\"id\":\"108028\",\"type\":\"GroupFilter\"}],\"source\":{\"id\":\"107984\",\"type\":\"ColumnDataSource\"}},\"id\":\"108029\",\"type\":\"CDSView\"},{\"attributes\":{\"fill_color\":{\"field\":\"label\",\"transform\":{\"id\":\"107985\",\"type\":\"CategoricalColorMapper\"}},\"line_color\":{\"field\":\"label\",\"transform\":{\"id\":\"107985\",\"type\":\"CategoricalColorMapper\"}},\"x\":{\"field\":\"x\"},\"y\":{\"field\":\"y\"}},\"id\":\"108025\",\"type\":\"Circle\"},{\"attributes\":{\"fill_color\":{\"field\":\"label\",\"transform\":{\"id\":\"107985\",\"type\":\"CategoricalColorMapper\"}},\"line_color\":{\"field\":\"label\",\"transform\":{\"id\":\"107985\",\"type\":\"CategoricalColorMapper\"}},\"x\":{\"field\":\"x\"},\"y\":{\"field\":\"y\"}},\"id\":\"108079\",\"type\":\"Circle\"},{\"attributes\":{\"fill_alpha\":{\"value\":0.1},\"fill_color\":{\"value\":\"#1f77b4\"},\"line_alpha\":{\"value\":0.1},\"line_color\":{\"value\":\"#1f77b4\"},\"x\":{\"field\":\"x\"},\"y\":{\"field\":\"y\"}},\"id\":\"108020\",\"type\":\"Circle\"},{\"attributes\":{\"column_name\":\"label\",\"group\":\".\"},\"id\":\"107986\",\"type\":\"GroupFilter\"},{\"attributes\":{\"column_name\":\"label\",\"group\":\"O\"},\"id\":\"108076\",\"type\":\"GroupFilter\"},{\"attributes\":{\"data_source\":{\"id\":\"107984\",\"type\":\"ColumnDataSource\"},\"glyph\":{\"id\":\"108019\",\"type\":\"Circle\"},\"hover_glyph\":null,\"muted_glyph\":null,\"nonselection_glyph\":{\"id\":\"108020\",\"type\":\"Circle\"},\"selection_glyph\":null,\"view\":{\"id\":\"108017\",\"type\":\"CDSView\"}},\"id\":\"108021\",\"type\":\"GlyphRenderer\"},{\"attributes\":{\"column_name\":\"label\",\"group\":\"P\"},\"id\":\"108082\",\"type\":\"GroupFilter\"},{\"attributes\":{},\"id\":\"109882\",\"type\":\"BasicTickFormatter\"},{\"attributes\":{\"column_name\":\"label\",\"group\":\"H\"},\"id\":\"108034\",\"type\":\"GroupFilter\"},{\"attributes\":{\"data_source\":{\"id\":\"107984\",\"type\":\"ColumnDataSource\"},\"glyph\":{\"id\":\"108079\",\"type\":\"Circle\"},\"hover_glyph\":null,\"muted_glyph\":null,\"nonselection_glyph\":{\"id\":\"108080\",\"type\":\"Circle\"},\"selection_glyph\":null,\"view\":{\"id\":\"108077\",\"type\":\"CDSView\"}},\"id\":\"108081\",\"type\":\"GlyphRenderer\"},{\"attributes\":{\"filters\":[{\"id\":\"108022\",\"type\":\"GroupFilter\"}],\"source\":{\"id\":\"107984\",\"type\":\"ColumnDataSource\"}},\"id\":\"108023\",\"type\":\"CDSView\"},{\"attributes\":{\"click_policy\":\"hide\",\"items\":[{\"id\":\"108100\",\"type\":\"LegendItem\"},{\"id\":\"108101\",\"type\":\"LegendItem\"},{\"id\":\"108102\",\"type\":\"LegendItem\"},{\"id\":\"108103\",\"type\":\"LegendItem\"},{\"id\":\"108104\",\"type\":\"LegendItem\"},{\"id\":\"108105\",\"type\":\"LegendItem\"},{\"id\":\"108106\",\"type\":\"LegendItem\"},{\"id\":\"108107\",\"type\":\"LegendItem\"},{\"id\":\"108108\",\"type\":\"LegendItem\"},{\"id\":\"108109\",\"type\":\"LegendItem\"},{\"id\":\"108110\",\"type\":\"LegendItem\"},{\"id\":\"108111\",\"type\":\"LegendItem\"},{\"id\":\"108112\",\"type\":\"LegendItem\"},{\"id\":\"108113\",\"type\":\"LegendItem\"},{\"id\":\"108114\",\"type\":\"LegendItem\"},{\"id\":\"108115\",\"type\":\"LegendItem\"},{\"id\":\"108116\",\"type\":\"LegendItem\"},{\"id\":\"108117\",\"type\":\"LegendItem\"},{\"id\":\"108118\",\"type\":\"LegendItem\"}]},\"id\":\"108119\",\"type\":\"Legend\"},{\"attributes\":{\"fill_color\":{\"field\":\"label\",\"transform\":{\"id\":\"107985\",\"type\":\"CategoricalColorMapper\"}},\"line_color\":{\"field\":\"label\",\"transform\":{\"id\":\"107985\",\"type\":\"CategoricalColorMapper\"}},\"x\":{\"field\":\"x\"},\"y\":{\"field\":\"y\"}},\"id\":\"108091\",\"type\":\"Circle\"},{\"attributes\":{\"label\":{\"value\":\"N\"},\"renderers\":[{\"id\":\"108075\",\"type\":\"GlyphRenderer\"}]},\"id\":\"108114\",\"type\":\"LegendItem\"},{\"attributes\":{\"column_name\":\"label\",\"group\":\"R\"},\"id\":\"108088\",\"type\":\"GroupFilter\"},{\"attributes\":{\"label\":{\"value\":\"R\"},\"renderers\":[{\"id\":\"108093\",\"type\":\"GlyphRenderer\"}]},\"id\":\"108117\",\"type\":\"LegendItem\"},{\"attributes\":{\"fill_alpha\":{\"value\":0.1},\"fill_color\":{\"value\":\"#1f77b4\"},\"line_alpha\":{\"value\":0.1},\"line_color\":{\"value\":\"#1f77b4\"},\"x\":{\"field\":\"x\"},\"y\":{\"field\":\"y\"}},\"id\":\"107990\",\"type\":\"Circle\"},{\"attributes\":{\"fill_alpha\":{\"value\":0.1},\"fill_color\":{\"value\":\"#1f77b4\"},\"line_alpha\":{\"value\":0.1},\"line_color\":{\"value\":\"#1f77b4\"},\"x\":{\"field\":\"x\"},\"y\":{\"field\":\"y\"}},\"id\":\"108086\",\"type\":\"Circle\"},{\"attributes\":{\"label\":{\"value\":\".\"},\"renderers\":[{\"id\":\"107991\",\"type\":\"GlyphRenderer\"}]},\"id\":\"108100\",\"type\":\"LegendItem\"},{\"attributes\":{\"label\":{\"value\":\"J\"},\"renderers\":[{\"id\":\"108051\",\"type\":\"GlyphRenderer\"}]},\"id\":\"108110\",\"type\":\"LegendItem\"},{\"attributes\":{},\"id\":\"109880\",\"type\":\"BasicTickFormatter\"},{\"attributes\":{\"callback\":null,\"data\":{\"index\":[0,1,2,3,4,5,6,7,8,9,10,11,12,13,14,15,16,17,18,19,20,21,22,23,24,25,26,27,28,29,30,31,32,33,34,35,36,37,38,39,40,41,42,43,44,45,46,47,48,49,50,51,52,53,54,55,56,57,58,59,60,61,62,63,64,65,66,67,68,69,70,71,72,73,74,75,76,77,78,79,80,81,82,83,84,85,86,87,88,89,90,91,92,93,94,95,96,97,98,99,100,101,102,103,104,105,106,107,108,109,110,111,112,113,114,115,116,117,118,119,120,121,122,123,124,125,126,127,128,129,130,131,132,133,134,135,136,137,138,139,140,141,142,143,144,145,146,147,148],\"label\":[\"C\",\"C\",\"C\",\"C\",\"C\",\"C\",\"C\",\"C\",\"E\",\"E\",\"E\",\"E\",\"E\",\"E\",\"E\",\"C\",\"B\",\"B\",\"B\",\"B\",\"B\",\"B\",\"B\",\"P\",\"P\",\"B\",\"J\",\"P\",\"J\",\"J\",\"P\",\"J\",\"D\",\"J\",\"G\",\".\",\"F\",\"F\",\"D\",\".\",\"F\",\"A\",\"G\",\"D\",\"F\",\".\",\"F\",\"G\",\"M\",\"A\",\".\",\"F\",\"A\",\"D\",\"G\",\"M\",\"F\",\".\",\"A\",\"H\",\"F\",\".\",\"F\",\"A\",\"D\",\"H\",\"H\",\".\",\"F\",\".\",\"M\",\"D\",\"A\",\"R\",\".\",\"R\",\"H\",\".\",\"F\",\"A\",\".\",\".\",\".\",\".\",\"R\",\".\",\"R\",\".\",\".\",\"K\",\".\",\"K\",\".\",\"R\",\".\",\".\",\"O\",\"O\",\"D\",\"R\",\"L\",\".\",\"H\",\"L\",\"O\",\".\",\"L\",\"H\",\".\",\".\",\".\",\".\",\".\",\".\",\"N\",\".\",\"K\",\".\",\".\",\".\",\".\",\".\",\".\",\"I\",\"I\",\"N\",\"I\",\"I\",\"I\",\"N\",\"S\",\"I\",\"S\",\"S\",\".\",\".\",\"S\",\".\",\".\",\"S\",\".\",\".\",\"S\",\".\",\".\",\".\",\".\",\".\",\".\"],\"x\":{\"__ndarray__\":\"LpmBNegc179BLytfEAnWvxEA1ZbbYdW/DKjsT0Bi1L9GmcT2SNzTv8Y51t0zktO/vq9NqtZ00b9EmtaxUT3Gv4Dv48TrKca//6dYfcQjxr868sZkQWrEv5wPSF5OPMS/MJ0w5uk4xL8fb/jVYnHDv1c7y9lQhcO/jjYc0Tw2wr9tj7ZNKw7Bvyvgf8UFdcC/9zZWcQnzvb+RC9NhJXa9v//JUKLLbry/agMLweQkvL8pYsfu4RC8v3FYqh9CbLi/4QIAxdjYt79R4nsBm6q2v5GAQSGU+7S//1+9rqI2tb8qbHRRmcizvzlmOhEgcLO/Qcb2RsFGsr8Ay7CbwEaxv7Lwdcwjs7C/i4PVT49gsL8+TsHM+bSov2wKgUaWjqe/xqJxt2HRpr9y3fBxfuWlvyGIHmKbc6S/0fgVGwdXpL8FWI+9HXuiv50ngQ894aG/QU9uNE8BoL8z+A9fThmgv/7CT8KZeJy//Q7ZuzPQmr/DUm/zvu2Yv0aM05wZP5m/6ROj68+qlb/fnIK2QrmVv+dMmVigwZW/TJQcvmyIlL/CYM5252eUvyAnftiA1JK/zRGsjIwgkL81MnpGrw+Qv5ZD2vr/xY2/bU5v6xhzjb/QuSMZZcSKv0dZmFGJs4m/KrhyJ++Jh79C8vDtj2qJv8xCZkzKVoa/G6bLIxuOg7+DvJ3VtoqAv16HtgLcmXq/5/sb4dMGcr/vJQI0Wghwv0U+NIYYLWa/iuy/uGU+ST8sTzSoXOtgP1fdBjMDaWM/FInEnH4jcz+YyBzdLnR8PyrQT25354A/R1J8sU15gz/rMIpNblyMPxAF8Gvtyok/A2GlQSXcjz+WZtrstyGQP+CRJWUB05A/nkY0ECHjkz+PUTXmCBuVP8+dljemnZQ/tBR9sTpPlT/G70YSHxaWP6vu5cwP25U/P7CHFHBCmD9W+wU9NxuYP9HAKh71Mpc/guSM+mGUmT9+/Z1xqwabPyFoXCpsU5o/EO5RTMr9mj/3Ng9JjgacP3RfEkdvQ58/2dYtzZSOnj8uz9gbDw+gP54s1QWMgaI/D/dygnEooj8cpduPnOeiP6xMpwIg26I/UX2v+BkVoz98wXM+WjekPybYMKh31KU/zPkE6JUCqT+WYpCZfMKqP00JMH1Yz6o/ZhrKdopHrT+hUGDSP0ytP9bBwC7KGq4/a/Xdw2OorT/jZkYkDwqvP1L1zbpsObE/2eTpp/zqsT/cDKW3AQ2yP5HX0kS+pLM/sRio+MEUtD/ipu26TeizP4V4dmuXj7U/1BYTBu3WtT9Uuqqj+AO2P9wWMkRcKbo/GR+XkGapuj/aTng99bO7P/hC1BOIR7w/waX20mCbvD8Vueq+X5u9Pzyj4p3glsA/rV80CasBwT99oWYgbJTBPxexw2vd8cE/8fedeRO8wj8OpM/+yEzDPzesCgMlccM/Bmz/aLO3wz+SZjsCMPjDP914BA+FMcQ/wQ29r+WNxD9S4WQR3YLEP7Ea9fKryMQ/8fa6TQMhxT/MyTr90zPFP9e9ZtWjc8Y/X2oGGBL+xj/LFPSPJO3GP8W445H75Mc/KkI2sBg0zj+LzmsW8djVPw==\",\"dtype\":\"float64\",\"shape\":[149]},\"y\":{\"__ndarray__\":\"HOORCik2fT/zqYIgXn+jPxgKLYVNfYq/CI/DoHw9eT9NR8CP2h6pP/z+baupQHw/4yNuMZItlr8EoBGehQCzP5qQxJuedcQ/dMOMjTZDyT+paLJtd1XKP96a8hh/tMM/bV87f8clxz9dfco6tpPCPzYbSuZj3co/WDXvfXSCpj+8+1yxsE6MPwahCDMHUKq/jnAqqed1u7+/gOtoaSB3vz6Cs3131be/Yw2yL89Qer/SnycT4bjCvzyv6tgTPEO/xNGhnBejKz9MIgz0/fDAv28Dzu6AgcK/SGq1BtNnlz+9AXYriy/Mv5TLfD6ptsq/K4FT5mkekz+O32gCScrHvwcxM3yx6KS/7Z/NfHqdvr8EPmXe7WC0v7x36/YR7aK/6cDVdgsyur8ZjyGqeGS5v8i1ga0uaKI/nKxBFUiqsD9rd5nCApK7v8kmuyyC242/XOwio4+ZuL9bY8LE5YeKv34WVTy/1bS/OGTTS2SHvL9XoSKuzAO7v3DeCSkCrrm/ip6iGdy+p79khV+yD5icvwWiQxvMWqs/vl+R2340tb+kLdYs88ynv6TufEIzB5e/25Bn5XW3tr8fIiz1Cj6uvxHWWBscBLS/LRVcSRZBkz8XHozxuCGsv0OB0zddX7i/ARg1YoCHr78g6kXI/bWeP0P+gaSRdLq/hosL5zbAnL8ZgWtg1UurP7tas94YS7e/hUxDvIZqtb/evrd5wy6Iv/mH4bVIg7W/ms+JOvE9pT+566/57wSmvyhzJDI+75U/U23g89Iiib+6GNeBLy7NPxKBOQlVsbE/E/lVJ/kWzj+bu5JMCp21v66F0pqFFqE/xx58SGMHsb9vC2FidMuEP82d3IyZrLo/Q27SECVesz+oGbK9SPmQPzGsG6RGSL8/64WJUTuxzT8Zkyvjnii0P3bXmS/nR8o/+qjiCn5UmT/XK2ndvuiZP0upKj9i550/drdFEf64kT/lv0ih0FeSv7XsIAl3e4m/EOaX2bdezD+vn8zSwCmwv6kk8qQUVbK/EzGH0fsRfj/2WpwawBezPxOZgPmoK6s/WBXIMfjmzj8LCACzAierv9Y6jyLmJKG/41HL5Ff8kL8TzgoH3JWTvycExhgYubE/pEjAlzEWoL8Yg/x5AXeSP4yjvIZLt5s/s0B2A8ywmj/q8q+wCjuwP84vDaeYKqo/M2TsAzDFwj9OPBVElOGjP6SDUadlaIe/F7CB/784lT875mdzgoizP187695YjZU/+tAL/yZpib9KG2DjP8SFvzHMFcJYkJY/HILw8wJvqj/lT3mq+o2JP+bx47VfYaK/1h7DcsTy1L+EYs8Q1TPXv2xAZcdtKaU/fXcBCnFi0L8ZlQ20pmjWv66lK7RwgNW/NJ3oZBc0pT9pXm+YNhG2P6Zf5TwYSdq/6zf7ckYcwD98b5e/ucy6PxlWtaW87qo/wkUZJJlGoD/ks3ePrba9P/By4eCk5LY/xmMAYw66rz/l+Q+5W9C4PwokprfoYVA/5E9wdbJWtj8O5iTmAua/P97q+PCMdrY/zYaHIAdatD9/As4kO0S6Pw5BwS2pDb0/H5CgoVDVhz930W9qRxu3Pw==\",\"dtype\":\"float64\",\"shape\":[149]}},\"selected\":{\"id\":\"109885\",\"type\":\"Selection\"},\"selection_policy\":{\"id\":\"109884\",\"type\":\"UnionRenderers\"}},\"id\":\"107984\",\"type\":\"ColumnDataSource\"},{\"attributes\":{\"filters\":[{\"id\":\"108094\",\"type\":\"GroupFilter\"}],\"source\":{\"id\":\"107984\",\"type\":\"ColumnDataSource\"}},\"id\":\"108095\",\"type\":\"CDSView\"},{\"attributes\":{\"label\":{\"value\":\"O\"},\"renderers\":[{\"id\":\"108081\",\"type\":\"GlyphRenderer\"}]},\"id\":\"108115\",\"type\":\"LegendItem\"},{\"attributes\":{\"fill_alpha\":{\"value\":0.1},\"fill_color\":{\"value\":\"#1f77b4\"},\"line_alpha\":{\"value\":0.1},\"line_color\":{\"value\":\"#1f77b4\"},\"x\":{\"field\":\"x\"},\"y\":{\"field\":\"y\"}},\"id\":\"108050\",\"type\":\"Circle\"},{\"attributes\":{\"fill_color\":{\"field\":\"label\",\"transform\":{\"id\":\"107985\",\"type\":\"CategoricalColorMapper\"}},\"line_color\":{\"field\":\"label\",\"transform\":{\"id\":\"107985\",\"type\":\"CategoricalColorMapper\"}},\"x\":{\"field\":\"x\"},\"y\":{\"field\":\"y\"}},\"id\":\"108097\",\"type\":\"Circle\"},{\"attributes\":{\"data_source\":{\"id\":\"107984\",\"type\":\"ColumnDataSource\"},\"glyph\":{\"id\":\"108097\",\"type\":\"Circle\"},\"hover_glyph\":null,\"muted_glyph\":null,\"nonselection_glyph\":{\"id\":\"108098\",\"type\":\"Circle\"},\"selection_glyph\":null,\"view\":{\"id\":\"108095\",\"type\":\"CDSView\"}},\"id\":\"108099\",\"type\":\"GlyphRenderer\"},{\"attributes\":{},\"id\":\"109878\",\"type\":\"BasicTickFormatter\"},{\"attributes\":{\"column_name\":\"label\",\"group\":\"S\"},\"id\":\"108094\",\"type\":\"GroupFilter\"},{\"attributes\":{\"fill_alpha\":{\"value\":0.1},\"fill_color\":{\"value\":\"#1f77b4\"},\"line_alpha\":{\"value\":0.1},\"line_color\":{\"value\":\"#1f77b4\"},\"x\":{\"field\":\"x\"},\"y\":{\"field\":\"y\"}},\"id\":\"108098\",\"type\":\"Circle\"},{\"attributes\":{\"fill_alpha\":{\"value\":0.1},\"fill_color\":{\"value\":\"#1f77b4\"},\"line_alpha\":{\"value\":0.1},\"line_color\":{\"value\":\"#1f77b4\"},\"x\":{\"field\":\"x\"},\"y\":{\"field\":\"y\"}},\"id\":\"108092\",\"type\":\"Circle\"},{\"attributes\":{\"active_drag\":\"auto\",\"active_inspect\":\"auto\",\"active_multi\":null,\"active_scroll\":\"auto\",\"active_tap\":\"auto\",\"tools\":[{\"id\":\"107969\",\"type\":\"PanTool\"},{\"id\":\"107970\",\"type\":\"WheelZoomTool\"},{\"id\":\"107971\",\"type\":\"BoxZoomTool\"},{\"id\":\"107972\",\"type\":\"SaveTool\"},{\"id\":\"107973\",\"type\":\"ResetTool\"},{\"id\":\"107974\",\"type\":\"HelpTool\"},{\"id\":\"107983\",\"type\":\"HoverTool\"}]},\"id\":\"107975\",\"type\":\"Toolbar\"},{\"attributes\":{\"data_source\":{\"id\":\"107984\",\"type\":\"ColumnDataSource\"},\"glyph\":{\"id\":\"108025\",\"type\":\"Circle\"},\"hover_glyph\":null,\"muted_glyph\":null,\"nonselection_glyph\":{\"id\":\"108026\",\"type\":\"Circle\"},\"selection_glyph\":null,\"view\":{\"id\":\"108023\",\"type\":\"CDSView\"}},\"id\":\"108027\",\"type\":\"GlyphRenderer\"},{\"attributes\":{\"color_mapper\":null,\"formatter\":{\"id\":\"109880\",\"type\":\"BasicTickFormatter\"},\"ticker\":{\"id\":\"109881\",\"type\":\"BasicTicker\"},\"visible\":false},\"id\":\"108120\",\"type\":\"ColorBar\"},{\"attributes\":{\"data_source\":{\"id\":\"107984\",\"type\":\"ColumnDataSource\"},\"glyph\":{\"id\":\"107989\",\"type\":\"Circle\"},\"hover_glyph\":null,\"muted_glyph\":null,\"nonselection_glyph\":{\"id\":\"107990\",\"type\":\"Circle\"},\"selection_glyph\":null,\"view\":{\"id\":\"107987\",\"type\":\"CDSView\"}},\"id\":\"107991\",\"type\":\"GlyphRenderer\"},{\"attributes\":{\"label\":{\"value\":\"P\"},\"renderers\":[{\"id\":\"108087\",\"type\":\"GlyphRenderer\"}]},\"id\":\"108116\",\"type\":\"LegendItem\"},{\"attributes\":{\"column_name\":\"label\",\"group\":\"A\"},\"id\":\"107992\",\"type\":\"GroupFilter\"},{\"attributes\":{\"filters\":[{\"id\":\"108088\",\"type\":\"GroupFilter\"}],\"source\":{\"id\":\"107984\",\"type\":\"ColumnDataSource\"}},\"id\":\"108089\",\"type\":\"CDSView\"},{\"attributes\":{\"label\":{\"value\":\"S\"},\"renderers\":[{\"id\":\"108099\",\"type\":\"GlyphRenderer\"}]},\"id\":\"108118\",\"type\":\"LegendItem\"},{\"attributes\":{\"fill_color\":{\"field\":\"label\",\"transform\":{\"id\":\"107985\",\"type\":\"CategoricalColorMapper\"}},\"line_color\":{\"field\":\"label\",\"transform\":{\"id\":\"107985\",\"type\":\"CategoricalColorMapper\"}},\"x\":{\"field\":\"x\"},\"y\":{\"field\":\"y\"}},\"id\":\"107989\",\"type\":\"Circle\"},{\"attributes\":{\"fill_color\":{\"field\":\"label\",\"transform\":{\"id\":\"107985\",\"type\":\"CategoricalColorMapper\"}},\"line_color\":{\"field\":\"label\",\"transform\":{\"id\":\"107985\",\"type\":\"CategoricalColorMapper\"}},\"x\":{\"field\":\"x\"},\"y\":{\"field\":\"y\"}},\"id\":\"108043\",\"type\":\"Circle\"},{\"attributes\":{\"factors\":[\"G\",\"P\",\"S\",\"H\",\"J\",\"A\",\"R\",\"B\",\"M\",\"E\",\"C\",\"D\",\"L\",\".\",\"K\",\"F\",\"N\",\"I\",\"O\"],\"palette\":[\"#1f77b4\",\"#aec7e8\",\"#ff7f0e\",\"#ffbb78\",\"#2ca02c\",\"#98df8a\",\"#d62728\",\"#ff9896\",\"#9467bd\",\"#c5b0d5\",\"#8c564b\",\"#c49c94\",\"#e377c2\",\"#f7b6d2\",\"#7f7f7f\",\"#c7c7c7\",\"#bcbd22\",\"#dbdb8d\",\"#17becf\"]},\"id\":\"107985\",\"type\":\"CategoricalColorMapper\"},{\"attributes\":{\"filters\":[{\"id\":\"107992\",\"type\":\"GroupFilter\"}],\"source\":{\"id\":\"107984\",\"type\":\"ColumnDataSource\"}},\"id\":\"107993\",\"type\":\"CDSView\"},{\"attributes\":{\"label\":{\"value\":\"E\"},\"renderers\":[{\"id\":\"108021\",\"type\":\"GlyphRenderer\"}]},\"id\":\"108105\",\"type\":\"LegendItem\"},{\"attributes\":{\"label\":{\"value\":\"I\"},\"renderers\":[{\"id\":\"108045\",\"type\":\"GlyphRenderer\"}]},\"id\":\"108109\",\"type\":\"LegendItem\"},{\"attributes\":{\"filters\":[{\"id\":\"107986\",\"type\":\"GroupFilter\"}],\"source\":{\"id\":\"107984\",\"type\":\"ColumnDataSource\"}},\"id\":\"107987\",\"type\":\"CDSView\"},{\"attributes\":{\"label\":{\"value\":\"G\"},\"renderers\":[{\"id\":\"108033\",\"type\":\"GlyphRenderer\"}]},\"id\":\"108107\",\"type\":\"LegendItem\"},{\"attributes\":{\"callback\":null},\"id\":\"107953\",\"type\":\"DataRange1d\"},{\"attributes\":{\"fill_alpha\":{\"value\":0.1},\"fill_color\":{\"value\":\"#1f77b4\"},\"line_alpha\":{\"value\":0.1},\"line_color\":{\"value\":\"#1f77b4\"},\"x\":{\"field\":\"x\"},\"y\":{\"field\":\"y\"}},\"id\":\"107996\",\"type\":\"Circle\"},{\"attributes\":{\"label\":{\"value\":\"H\"},\"renderers\":[{\"id\":\"108039\",\"type\":\"GlyphRenderer\"}]},\"id\":\"108108\",\"type\":\"LegendItem\"},{\"attributes\":{\"text\":\"PCA\"},\"id\":\"107949\",\"type\":\"Title\"},{\"attributes\":{\"fill_alpha\":{\"value\":0.1},\"fill_color\":{\"value\":\"#1f77b4\"},\"line_alpha\":{\"value\":0.1},\"line_color\":{\"value\":\"#1f77b4\"},\"x\":{\"field\":\"x\"},\"y\":{\"field\":\"y\"}},\"id\":\"108080\",\"type\":\"Circle\"},{\"attributes\":{\"label\":{\"value\":\"B\"},\"renderers\":[{\"id\":\"108003\",\"type\":\"GlyphRenderer\"}]},\"id\":\"108102\",\"type\":\"LegendItem\"},{\"attributes\":{\"label\":{\"value\":\"L\"},\"renderers\":[{\"id\":\"108063\",\"type\":\"GlyphRenderer\"}]},\"id\":\"108112\",\"type\":\"LegendItem\"},{\"attributes\":{\"callback\":null},\"id\":\"107951\",\"type\":\"DataRange1d\"},{\"attributes\":{\"data_source\":{\"id\":\"107984\",\"type\":\"ColumnDataSource\"},\"glyph\":{\"id\":\"108049\",\"type\":\"Circle\"},\"hover_glyph\":null,\"muted_glyph\":null,\"nonselection_glyph\":{\"id\":\"108050\",\"type\":\"Circle\"},\"selection_glyph\":null,\"view\":{\"id\":\"108047\",\"type\":\"CDSView\"}},\"id\":\"108051\",\"type\":\"GlyphRenderer\"},{\"attributes\":{\"data_source\":{\"id\":\"107984\",\"type\":\"ColumnDataSource\"},\"glyph\":{\"id\":\"108085\",\"type\":\"Circle\"},\"hover_glyph\":null,\"muted_glyph\":null,\"nonselection_glyph\":{\"id\":\"108086\",\"type\":\"Circle\"},\"selection_glyph\":null,\"view\":{\"id\":\"108083\",\"type\":\"CDSView\"}},\"id\":\"108087\",\"type\":\"GlyphRenderer\"},{\"attributes\":{\"label\":{\"value\":\"M\"},\"renderers\":[{\"id\":\"108069\",\"type\":\"GlyphRenderer\"}]},\"id\":\"108113\",\"type\":\"LegendItem\"},{\"attributes\":{\"ticker\":{\"id\":\"107960\",\"type\":\"BasicTicker\"}},\"id\":\"107963\",\"type\":\"Grid\"},{\"attributes\":{\"label\":{\"value\":\"D\"},\"renderers\":[{\"id\":\"108015\",\"type\":\"GlyphRenderer\"}]},\"id\":\"108104\",\"type\":\"LegendItem\"},{\"attributes\":{\"label\":{\"value\":\"A\"},\"renderers\":[{\"id\":\"107997\",\"type\":\"GlyphRenderer\"}]},\"id\":\"108101\",\"type\":\"LegendItem\"},{\"attributes\":{\"callback\":null,\"tooltips\":[[\"x\",\"@x\"],[\"y\",\"@y\"],[\"label\",\"@label\"]]},\"id\":\"107983\",\"type\":\"HoverTool\"},{\"attributes\":{\"data_source\":{\"id\":\"107984\",\"type\":\"ColumnDataSource\"},\"glyph\":{\"id\":\"108091\",\"type\":\"Circle\"},\"hover_glyph\":null,\"muted_glyph\":null,\"nonselection_glyph\":{\"id\":\"108092\",\"type\":\"Circle\"},\"selection_glyph\":null,\"view\":{\"id\":\"108089\",\"type\":\"CDSView\"}},\"id\":\"108093\",\"type\":\"GlyphRenderer\"},{\"attributes\":{},\"id\":\"107957\",\"type\":\"LinearScale\"},{\"attributes\":{\"label\":{\"value\":\"C\"},\"renderers\":[{\"id\":\"108009\",\"type\":\"GlyphRenderer\"}]},\"id\":\"108103\",\"type\":\"LegendItem\"},{\"attributes\":{\"label\":{\"value\":\"K\"},\"renderers\":[{\"id\":\"108057\",\"type\":\"GlyphRenderer\"}]},\"id\":\"108111\",\"type\":\"LegendItem\"},{\"attributes\":{},\"id\":\"107955\",\"type\":\"LinearScale\"},{\"attributes\":{\"label\":{\"value\":\"F\"},\"renderers\":[{\"id\":\"108027\",\"type\":\"GlyphRenderer\"}]},\"id\":\"108106\",\"type\":\"LegendItem\"},{\"attributes\":{\"data_source\":{\"id\":\"107984\",\"type\":\"ColumnDataSource\"},\"glyph\":{\"id\":\"107995\",\"type\":\"Circle\"},\"hover_glyph\":null,\"muted_glyph\":null,\"nonselection_glyph\":{\"id\":\"107996\",\"type\":\"Circle\"},\"selection_glyph\":null,\"view\":{\"id\":\"107993\",\"type\":\"CDSView\"}},\"id\":\"107997\",\"type\":\"GlyphRenderer\"},{\"attributes\":{\"axis_label\":\"PC2\",\"formatter\":{\"id\":\"109878\",\"type\":\"BasicTickFormatter\"},\"ticker\":{\"id\":\"107965\",\"type\":\"BasicTicker\"}},\"id\":\"107964\",\"type\":\"LinearAxis\"},{\"attributes\":{\"fill_color\":{\"field\":\"label\",\"transform\":{\"id\":\"107985\",\"type\":\"CategoricalColorMapper\"}},\"line_color\":{\"field\":\"label\",\"transform\":{\"id\":\"107985\",\"type\":\"CategoricalColorMapper\"}},\"x\":{\"field\":\"x\"},\"y\":{\"field\":\"y\"}},\"id\":\"107995\",\"type\":\"Circle\"},{\"attributes\":{},\"id\":\"107960\",\"type\":\"BasicTicker\"},{\"attributes\":{\"axis_label\":\"PC1\",\"formatter\":{\"id\":\"109882\",\"type\":\"BasicTickFormatter\"},\"ticker\":{\"id\":\"107960\",\"type\":\"BasicTicker\"}},\"id\":\"107959\",\"type\":\"LinearAxis\"},{\"attributes\":{\"fill_alpha\":{\"value\":0.1},\"fill_color\":{\"value\":\"#1f77b4\"},\"line_alpha\":{\"value\":0.1},\"line_color\":{\"value\":\"#1f77b4\"},\"x\":{\"field\":\"x\"},\"y\":{\"field\":\"y\"}},\"id\":\"108026\",\"type\":\"Circle\"}],\"root_ids\":[\"107948\"]},\"title\":\"Bokeh Application\",\"version\":\"1.2.0\"}};\n",
       "  var render_items = [{\"docid\":\"2962a3a8-4f0a-4567-b15d-e787c3eb1934\",\"roots\":{\"107948\":\"3bd81f2a-9ac1-4852-9bd1-3ab46cf0d162\"}}];\n",
       "  root.Bokeh.embed.embed_items_notebook(docs_json, render_items);\n",
       "\n",
       "  }\n",
       "  if (root.Bokeh !== undefined) {\n",
       "    embed_document(root);\n",
       "  } else {\n",
       "    var attempts = 0;\n",
       "    var timer = setInterval(function(root) {\n",
       "      if (root.Bokeh !== undefined) {\n",
       "        embed_document(root);\n",
       "        clearInterval(timer);\n",
       "      }\n",
       "      attempts++;\n",
       "      if (attempts > 100) {\n",
       "        console.log(\"Bokeh: ERROR: Unable to run BokehJS code because BokehJS library is missing\");\n",
       "        clearInterval(timer);\n",
       "      }\n",
       "    }, 10, root)\n",
       "  }\n",
       "})(window);"
      ],
      "application/vnd.bokehjs_exec.v0+json": ""
     },
     "metadata": {
      "application/vnd.bokehjs_exec.v0+json": {
       "id": "107948"
      }
     },
     "output_type": "display_data"
    }
   ],
   "source": [
    "p = hl.plot.scatter(mt.scores[0],\n",
    "                    mt.scores[1],\n",
    "                    label=mt.phenotypes.family,\n",
    "                    title='PCA', xlabel='PC1', ylabel='PC2')\n",
    "show(p)"
   ]
  },
  {
   "cell_type": "markdown",
   "metadata": {},
   "source": [
    "<a id='2.2'></a>\n",
    "\n",
    "## 2.2 Creating a mt_p with patients only and mt_c with non-patients"
   ]
  },
  {
   "cell_type": "code",
   "execution_count": 1763,
   "metadata": {},
   "outputs": [],
   "source": [
    "mt_p = mt.filter_cols(mt.phenotypes.disease == 'YES', keep = True)\n",
    "mt_p = mt_p.filter_rows(hl.agg.any(mt_p.GT.is_non_ref())) #filtering out variants that do not occur in any patients\n",
    "mt_c = mt.filter_cols(mt.phenotypes.disease != 'YES', keep = True)\n",
    "mt_c = mt_c.filter_rows(hl.agg.any(mt_c.GT.is_non_ref())) #filtering out variants that do not occur in any controls\n",
    "\n",
    "mt_c = mt_c.filter_rows(hl.agg.any(mt_c.GT.is_non_ref())) #filtering out variants that do not occur in any controls"
   ]
  },
  {
   "cell_type": "markdown",
   "metadata": {},
   "source": [
    "<a id='3'></a> \n",
    "\n",
    "## 3. Explore Clinvar pathogenic variants\n",
    "\n",
    "for patient samples"
   ]
  },
  {
   "cell_type": "code",
   "execution_count": 1764,
   "metadata": {},
   "outputs": [],
   "source": [
    "p = (mt_p.info.ISEQ_AGGREGATED_CLINVAR_SIGNIFICANCE.contains('pathogenic'))\n",
    "c = (mt_p.info.ISEQ_AGGREGATED_CLINVAR_SIGNIFICANCE.contains('pathogenic/likely_pathogenic'))\n",
    "l = (mt_p.info.ISEQ_AGGREGATED_CLINVAR_SIGNIFICANCE.contains('likely_pathogenic'))\n",
    "\n",
    "\n",
    "patho_p = mt_p.filter_rows(p | c | l)\n",
    "\n",
    "p = (mt_c.info.ISEQ_AGGREGATED_CLINVAR_SIGNIFICANCE.contains('pathogenic'))\n",
    "c = (mt_c.info.ISEQ_AGGREGATED_CLINVAR_SIGNIFICANCE.contains('pathogenic/likely_pathogenic'))\n",
    "l = (mt_c.info.ISEQ_AGGREGATED_CLINVAR_SIGNIFICANCE.contains('likely_pathogenic'))\n",
    "\n",
    "\n",
    "patho_c = mt_c.filter_rows(p | c | l)"
   ]
  },
  {
   "cell_type": "markdown",
   "metadata": {},
   "source": [
    "<a id='3.1'></a> \n",
    "\n",
    "\n",
    "### 3.1 Filter out pathogenic variants with Gnomad AF > 0.001 and those that occur in controls\n"
   ]
  },
  {
   "cell_type": "code",
   "execution_count": 1765,
   "metadata": {},
   "outputs": [],
   "source": [
    "AF_nfe = hl.float64(hl.delimit(patho_p.info.ISEQ_GNOMAD_GENOMES_V3_AF_nfe))\n",
    "\n",
    "patho_p_rare = patho_p.filter_rows(AF_nfe < 0.001)\n",
    "patho_p_rare = patho_p_rare.anti_join_rows(patho_c.rows()) #remove variants that occur in controls\n",
    "\n",
    "patho_p_rare = hl.variant_qc(patho_p_rare)\n",
    "\n",
    "p = patho_p_rare.filter_cols(hl.agg.any(patho_p_rare.GT.is_non_ref()))\n",
    "\n",
    "\n",
    "summary = dict()\n",
    "fields = [p.s, p.locus, p.GT, p.rsid, p.alleles, p.phenotypes.family, p.phenotypes.sex, p.phenotypes.kinship,\n",
    "          p.phenotypes.add_pheno, p.phenotypes.heavy_tics , p.info.ISEQ_GNOMAD_GENOMES_V3_AF_nfe, \n",
    "          p.info.ISEQ_GENES_NAMES, p.info.ISEQ_CLINVAR_ALLELE_ID, p.info.ISEQ_CLINVAR_DISEASES, \n",
    "          p.info.ISEQ_HPO_INHERITANCE, p.info.ISEQ_HPO_PHENOTYPES, p.info.ISEQ_HPO_DISEASES,\n",
    "          p.info.ISEQ_AGGREGATED_CLINVAR_SIGNIFICANCE, p.info.ANN ]\n",
    "field_names = ['sample', 'locus', 'genotype', \n",
    "               'rsid', 'alleles', 'family', 'sex', 'kinship', 'additional_pheno', 'heavy_tics', \n",
    "               'GNOMAD_V3_AF_non_finn_eur', 'Gene', 'CLINVAR_ALLELE_ID', 'CLINVAR_DISEASES', 'HPO_INHERITANCE', \n",
    "               'HPO_PHENOTYPES', 'HPO_DISEASES',\n",
    "               'AGGREGATED_CLINVAR_SIGNIFICANCE', 'SnpEff']\n",
    "\n",
    "\n",
    "for each, each_name in zip(fields, field_names):\n",
    "    key = each_name\n",
    "    summary[key] = p.aggregate_entries(hl.agg.filter(p.GT.is_non_ref(), hl.agg.collect(each)))\n",
    "\n",
    "patho_vars_df = pd.DataFrame(summary)\n",
    "patho_vars_df.to_csv('pathogenic_variants_patients_summary.csv')"
   ]
  },
  {
   "cell_type": "markdown",
   "metadata": {},
   "source": [
    "<a id='4'></a> \n",
    "\n",
    "## 4. FIlter for a list of genes related to GTS"
   ]
  },
  {
   "cell_type": "code",
   "execution_count": 1766,
   "metadata": {},
   "outputs": [],
   "source": [
    "#hand-made gene list for Tourette associated genes\n",
    "gene_list = ['PANK2', 'COL27A1', 'PDGFB', 'CELSR3', 'OPA1', 'FBN2', 'WWC1', 'NIPBL', 'FN1', 'FBN2', 'SLITRK1', 'SLITRK2', 'SLITRK3', 'SLITRK4', 'SLITRK5', 'SLITRK6', 'HDC', 'OPRK1', 'PCDH10', 'NTSR2', 'OPRK1', 'CHD8', 'SCUBE1', 'PNKD', 'CNTNAP2', 'MOG', 'DRD2', 'DRD3', 'DRD4', 'DRD5', 'DAT1', 'DBH', 'HTR2A', 'TPH2', 'EAAT1', 'SAPAP3']        "
   ]
  },
  {
   "cell_type": "code",
   "execution_count": 1767,
   "metadata": {},
   "outputs": [],
   "source": [
    "mt_f = mt_p.filter_rows(hl.any(lambda x: hl.literal(gene_list).contains(x), mt_p.info.ISEQ_GENES_NAMES))"
   ]
  },
  {
   "cell_type": "markdown",
   "metadata": {},
   "source": [
    "filter out common variants:"
   ]
  },
  {
   "cell_type": "code",
   "execution_count": 1768,
   "metadata": {},
   "outputs": [],
   "source": [
    "AF_nfe = hl.float64(hl.delimit(mt_f.info.ISEQ_GNOMAD_GENOMES_V3_AF_nfe))\n",
    "mt_f = mt_f.filter_rows(AF_nfe < 0.001)"
   ]
  },
  {
   "cell_type": "markdown",
   "metadata": {},
   "source": [
    "filter out variants that occur in controls:"
   ]
  },
  {
   "cell_type": "code",
   "execution_count": 1769,
   "metadata": {},
   "outputs": [],
   "source": [
    "mt_f_contr = mt_c.filter_rows(hl.any(lambda x: hl.literal(gene_list).contains(x), mt_c.info.ISEQ_GENES_NAMES))\n",
    "\n",
    "AF_nfe = hl.float64(hl.delimit(mt_f_contr.info.ISEQ_GNOMAD_GENOMES_V3_AF_nfe))\n",
    "mt_f_contr = mt_f_contr.filter_rows(AF_nfe < 0.001)\n",
    "\n",
    "mt_f = mt_f.anti_join_rows(mt_f_contr.rows())"
   ]
  },
  {
   "cell_type": "code",
   "execution_count": 1770,
   "metadata": {},
   "outputs": [
    {
     "data": {
      "text/plain": [
       "{'SLITRK6': 1,\n",
       " 'FBN2': 2,\n",
       " 'SLITRK3': 2,\n",
       " 'CHD8': 3,\n",
       " 'NTSR2': 1,\n",
       " 'MOG': 1,\n",
       " 'SCUBE1': 3,\n",
       " 'NIPBL': 3,\n",
       " 'PCDH10': 1,\n",
       " 'DRD3': 1,\n",
       " 'COL27A1': 2,\n",
       " 'FN1': 6,\n",
       " 'DRD4': 1,\n",
       " 'OPA1': 1}"
      ]
     },
     "execution_count": 1770,
     "metadata": {},
     "output_type": "execute_result"
    }
   ],
   "source": [
    "mt_f.aggregate_rows(hl.agg.explode(lambda element: hl.agg.counter(element), mt_f.info.ISEQ_GENES_NAMES))"
   ]
  },
  {
   "cell_type": "code",
   "execution_count": 1771,
   "metadata": {},
   "outputs": [],
   "source": [
    "p = mt_f.filter_cols(hl.agg.any(mt_f.GT.is_non_ref()))\n",
    "\n",
    "summary = dict()\n",
    "fields = [p.s, p.locus, p.GT, p.rsid, p.alleles, p.phenotypes.family, p.phenotypes.sex, p.phenotypes.kinship,\n",
    "          p.phenotypes.add_pheno, p.phenotypes.heavy_tics , p.info.ISEQ_GNOMAD_GENOMES_V3_AF_nfe, \n",
    "          p.info.ISEQ_GENES_NAMES, p.info.ISEQ_CLINVAR_ALLELE_ID, p.info.ISEQ_CLINVAR_DISEASES, \n",
    "          p.info.ISEQ_HPO_INHERITANCE, p.info.ISEQ_HPO_PHENOTYPES, p.info.ISEQ_HPO_DISEASES,\n",
    "          p.info.ISEQ_AGGREGATED_CLINVAR_SIGNIFICANCE, p.info.ANN ]\n",
    "field_names = ['sample', 'locus', 'genotype', \n",
    "               'rsid', 'alleles', 'family', 'sex', 'kinship', 'additional_pheno', 'heavy_tics', \n",
    "               'GNOMAD_V3_AF_non_finn_eur', 'Gene', 'CLINVAR_ALLELE_ID', 'CLINVAR_DISEASES', 'HPO_INHERITANCE', \n",
    "               'HPO_PHENOTYPES', 'HPO_DISEASES',\n",
    "               'AGGREGATED_CLINVAR_SIGNIFICANCE', 'SnpEff']\n",
    "\n",
    "for each, each_name in zip(fields, field_names):\n",
    "    key = each_name\n",
    "    summary[key] = p.aggregate_entries(hl.agg.filter(p.GT.is_non_ref(), hl.agg.collect(each)))\n",
    "\n",
    "vars_df = pd.DataFrame(summary)\n",
    "\n",
    "vars_df.to_csv('tourette_gene_list_variants_patients_summary.csv')"
   ]
  },
  {
   "cell_type": "markdown",
   "metadata": {},
   "source": [
    "<a id='4.1'></a> \n",
    "\n",
    "### 4.1 List of 260 genes enriched in basal ganglia\n",
    "\n",
    "https://www.proteinatlas.org/search/brain_category_rna%3Abasal+ganglia%3BRegion+enriched%2CGroup+enriched%2CRegion+enhanced+AND+sort_by%3Atissue+specific+score"
   ]
  },
  {
   "cell_type": "code",
   "execution_count": 1773,
   "metadata": {},
   "outputs": [],
   "source": [
    "bg_genes = [line.rstrip() for line in open('brain_category_rna_basal.tsv')]\n",
    "\n",
    "mt_p.filter_rows(hl.any(lambda x: hl.literal(bg_genes).contains(x), mt_p.info.ISEQ_GENES_NAMES)).count()\n",
    "mt_f = mt_p.filter_rows(hl.any(lambda x: hl.literal(bg_genes).contains(x), mt_p.info.ISEQ_GENES_NAMES))"
   ]
  },
  {
   "cell_type": "markdown",
   "metadata": {},
   "source": [
    "filter out common variants:"
   ]
  },
  {
   "cell_type": "code",
   "execution_count": 1774,
   "metadata": {},
   "outputs": [],
   "source": [
    "AF_nfe = hl.float64(hl.delimit(mt_f.info.ISEQ_GNOMAD_GENOMES_V3_AF_nfe))\n",
    "mt_f = mt_f.filter_rows(AF_nfe < 0.0001)"
   ]
  },
  {
   "cell_type": "markdown",
   "metadata": {},
   "source": [
    "filter out variants that occur in controls:"
   ]
  },
  {
   "cell_type": "code",
   "execution_count": 1775,
   "metadata": {},
   "outputs": [],
   "source": [
    "mt_f_contr = mt_c.filter_rows(hl.any(lambda x: hl.literal(bg_genes).contains(x), mt_c.info.ISEQ_GENES_NAMES))\n",
    "\n",
    "AF_nfe = hl.float64(hl.delimit(mt_f_contr.info.ISEQ_GNOMAD_GENOMES_V3_AF_nfe))\n",
    "mt_f_contr = mt_f_contr.filter_rows(AF_nfe < 0.0001)\n",
    "\n",
    "mt_f = mt_f.anti_join_rows(mt_f_contr.rows())"
   ]
  },
  {
   "cell_type": "code",
   "execution_count": 1776,
   "metadata": {},
   "outputs": [],
   "source": [
    "p = mt_f.filter_cols(hl.agg.any(mt_f.GT.is_non_ref()))\n",
    "\n",
    "summary = dict()\n",
    "fields = [p.s, p.locus, p.GT, p.rsid, p.alleles, p.phenotypes.family, p.phenotypes.sex, p.phenotypes.kinship,\n",
    "          p.phenotypes.add_pheno, p.phenotypes.heavy_tics , p.info.ISEQ_GNOMAD_GENOMES_V3_AF_nfe, \n",
    "          p.info.ISEQ_GENES_NAMES, p.info.ISEQ_CLINVAR_ALLELE_ID, p.info.ISEQ_CLINVAR_DISEASES, \n",
    "          p.info.ISEQ_HPO_INHERITANCE, p.info.ISEQ_HPO_PHENOTYPES, p.info.ISEQ_HPO_DISEASES,\n",
    "          p.info.ISEQ_AGGREGATED_CLINVAR_SIGNIFICANCE, p.info.ANN ]\n",
    "field_names = ['sample', 'locus', 'genotype', \n",
    "               'rsid', 'alleles', 'family', 'sex', 'kinship', 'additional_pheno', 'heavy_tics', \n",
    "               'GNOMAD_V3_AF_non_finn_eur', 'Gene', 'CLINVAR_ALLELE_ID', 'CLINVAR_DISEASES', 'HPO_INHERITANCE', \n",
    "               'HPO_PHENOTYPES', 'HPO_DISEASES',\n",
    "               'AGGREGATED_CLINVAR_SIGNIFICANCE', 'SnpEff']\n",
    "\n",
    "for each, each_name in zip(fields, field_names):\n",
    "    key = each_name\n",
    "    summary[key] = p.aggregate_entries(hl.agg.filter(p.GT.is_non_ref(), hl.agg.collect(each)))\n",
    "\n",
    "vars_df = pd.DataFrame(summary)\n",
    "vars_df.describe()\n",
    "vars_df.to_csv('basal_ganglia_genelist.csv')"
   ]
  },
  {
   "cell_type": "markdown",
   "metadata": {},
   "source": [
    "<a id='4.2'></a> \n",
    "\n",
    "## 4.2 various lists of HPO genes"
   ]
  },
  {
   "cell_type": "code",
   "execution_count": 1751,
   "metadata": {},
   "outputs": [],
   "source": [
    "file_list = !ls ./gts_gene_lists/*csv"
   ]
  },
  {
   "cell_type": "code",
   "execution_count": 1728,
   "metadata": {},
   "outputs": [
    {
     "data": {
      "text/plain": [
       "['./gts_gene_lists/adhd.csv', './gts_gene_lists/agg_beh.csv']"
      ]
     },
     "execution_count": 1728,
     "metadata": {},
     "output_type": "execute_result"
    }
   ],
   "source": [
    "file_list[0:2]"
   ]
  },
  {
   "cell_type": "code",
   "execution_count": 1761,
   "metadata": {},
   "outputs": [
    {
     "data": {
      "text/plain": [
       "['./gts_gene_lists/echolalia.csv',\n",
       " './gts_gene_lists/inv_mov.csv',\n",
       " './gts_gene_lists/motor_tics.csv',\n",
       " './gts_gene_lists/neuro_dev.csv',\n",
       " './gts_gene_lists/ocd_beh.csv',\n",
       " './gts_gene_lists/phonic_tics.csv',\n",
       " './gts_gene_lists/self_mut.csv',\n",
       " './gts_gene_lists/tics.csv']"
      ]
     },
     "execution_count": 1761,
     "metadata": {},
     "output_type": "execute_result"
    }
   ],
   "source": [
    "file_list[2:]"
   ]
  },
  {
   "cell_type": "code",
   "execution_count": 1762,
   "metadata": {},
   "outputs": [],
   "source": [
    "for a_file in file_list[2:]:\n",
    "    \n",
    "    mt_p_only = mt_p.anti_join_rows(mt_c.rows())\n",
    "    AF_nfe = hl.float64(hl.delimit(mt_p_only.info.ISEQ_GNOMAD_GENOMES_V3_AF_nfe))\n",
    "    \n",
    "    genes = []\n",
    "    df = pd.read_csv(a_file)\n",
    "    genes = list(df['GENE_SYMBOL'])\n",
    "  \n",
    "    \n",
    "    if len(genes) > 150:\n",
    "        mt_p_only = mt_p_only.filter_rows(AF_nfe < 0.0001)   \n",
    "    else:\n",
    "        mt_p_only = mt_p_only.filter_rows(AF_nfe < 0.001)\n",
    "        \n",
    "    mtx = mt_p_only.filter_rows(hl.any(lambda x: hl.literal(genes).contains(x), mt_p_only.info.ISEQ_GENES_NAMES)) \n",
    "    mtx = mtx.filter_cols(hl.agg.any(mtx.GT.is_non_ref()))\n",
    "    \n",
    "    summary = dict()\n",
    "    fields = [mtx.s, mtx.locus, mtx.GT, mtx.GQ, mtx.rsid, mtx.alleles, mtx.phenotypes.family, mtx.phenotypes.sex, mtx.phenotypes.kinship,\n",
    "              mtx.phenotypes.add_pheno, mtx.phenotypes.heavy_tics , mtx.info.ISEQ_GNOMAD_GENOMES_V3_AF_nfe, \n",
    "              mtx.info.ISEQ_GENES_NAMES, mtx.info.ISEQ_CLINVAR_ALLELE_ID, mtx.info.ISEQ_CLINVAR_DISEASES, \n",
    "              mtx.info.ISEQ_HPO_INHERITANCE, mtx.info.ISEQ_HPO_PHENOTYPES, mtx.info.ISEQ_HPO_DISEASES,\n",
    "              mtx.info.ISEQ_AGGREGATED_CLINVAR_SIGNIFICANCE, mtx.info.ANN ]\n",
    "    field_names = ['sample', 'locus', 'genotype', 'GQ',\n",
    "                   'rsid', 'alleles', 'family', 'sex', 'kinship', 'additional_pheno', 'heavy_tics', \n",
    "                   'GNOMAD_V3_AF_non_finn_eur', 'Gene', 'CLINVAR_ALLELE_ID', 'CLINVAR_DISEASES', 'HPO_INHERITANCE', \n",
    "                   'HPO_PHENOTYPES', 'HPO_DISEASES',\n",
    "                   'AGGREGATED_CLINVAR_SIGNIFICANCE', 'SnpEff']\n",
    "\n",
    "    for each, each_name in zip(fields, field_names):\n",
    "        key = each_name\n",
    "        summary[key] = mtx.aggregate_entries(hl.agg.filter(mtx.GT.is_non_ref(), hl.agg.collect(each)))\n",
    "\n",
    "    vars_df = pd.DataFrame(summary)\n",
    "    vars_df.to_csv('sum_'+a_file.split('/')[2])"
   ]
  },
  {
   "cell_type": "markdown",
   "metadata": {},
   "source": [
    "<a id='5'></a>\n",
    "\n",
    "## 5. Find compound homozygotes / double hets\n"
   ]
  },
  {
   "cell_type": "code",
   "execution_count": null,
   "metadata": {},
   "outputs": [],
   "source": [
    "#test_code\n",
    "bg_genes = [line.rstrip() for line in open('brain_category_rna_basal.tsv')] # this has changed location!\n",
    "\n",
    "#hand-made gene list for Tourette associated genes\n",
    "gene_list = ['PANK2', 'COL27A1', 'PDGFB', 'CELSR3', 'OPA1', 'FBN2', 'WWC1', 'NIPBL', 'FN1', 'FBN2', 'SLITRK1', 'SLITRK2', 'SLITRK3', 'SLITRK4', 'SLITRK5', 'SLITRK6', 'HDC', 'OPRK1', 'PCDH10', 'NTSR2', 'OPRK1', 'CHD8', 'SCUBE1', 'PNKD', 'CNTNAP2', 'MOG', 'DRD2', 'DRD3', 'DRD4', 'DRD5', 'DAT1', 'DBH', 'HTR2A', 'TPH2', 'EAAT1', 'SAPAP3']        \n",
    "\n",
    "patho_list = list(patho_vats_df['GENE_SYMBOL']) # not sure about the column\n",
    "\n",
    "genes = []\n",
    "\n",
    "for a_file in file_list:\n",
    "\n",
    "    df = pd.read_csv(a_file)\n",
    "    genes = genes + list(df['GENE_SYMBOL'])\n",
    "\n",
    "many_genes = genes + gene_list + bg_genes"
   ]
  },
  {
   "cell_type": "markdown",
   "metadata": {},
   "source": [
    "<a id='6'></a>\n",
    "\n",
    "# 6. Investigation of the X chromosome genotypes"
   ]
  },
  {
   "cell_type": "markdown",
   "metadata": {},
   "source": [
    "+ X chromosome + suscebility to brain ischemia:  TNFα,  IL-6  and  IL-1β, IL-4, IL-10\n",
    "+ https://journals.plos.org/plosgenetics/article?id=10.1371/journal.pgen.1003864"
   ]
  },
  {
   "cell_type": "code",
   "execution_count": 1574,
   "metadata": {},
   "outputs": [
    {
     "data": {
      "text/plain": [
       "(47373, 149)"
      ]
     },
     "execution_count": 1574,
     "metadata": {},
     "output_type": "execute_result"
    }
   ],
   "source": [
    "mt.count()"
   ]
  },
  {
   "cell_type": "code",
   "execution_count": 1576,
   "metadata": {},
   "outputs": [],
   "source": [
    "mt_X = mt.filter_rows(mt.locus.contig == \"chrX\") "
   ]
  },
  {
   "cell_type": "code",
   "execution_count": 1578,
   "metadata": {},
   "outputs": [],
   "source": [
    "mt_X_f = mt_X.filter_cols(mt_X.phenotypes.sex == \"F\") \n",
    "mt_X_m = mt_X.filter_cols(mt_X.phenotypes.sex == \"M\") "
   ]
  },
  {
   "cell_type": "code",
   "execution_count": 1580,
   "metadata": {},
   "outputs": [],
   "source": [
    "mt_X_m_hets = mt_X_m.filter_rows(hl.agg.any(mt_X_m.GT.is_het()))\n",
    "mt_X_m_homs = mt_X_m.filter_rows(hl.agg.any(mt_X_m.GT.is_het()), keep = False)"
   ]
  },
  {
   "cell_type": "code",
   "execution_count": 1585,
   "metadata": {},
   "outputs": [
    {
     "name": "stderr",
     "output_type": "stream",
     "text": [
      "2019-12-03 09:38:29 Hail: INFO: reading 4 of 116 data partitions\n"
     ]
    },
    {
     "data": {
      "text/plain": [
       "(255, 95)"
      ]
     },
     "execution_count": 1585,
     "metadata": {},
     "output_type": "execute_result"
    }
   ],
   "source": [
    "mt_X_m_hets.count()"
   ]
  },
  {
   "cell_type": "code",
   "execution_count": 1586,
   "metadata": {},
   "outputs": [
    {
     "name": "stderr",
     "output_type": "stream",
     "text": [
      "2019-12-03 09:38:39 Hail: INFO: reading 4 of 116 data partitions\n"
     ]
    },
    {
     "data": {
      "text/plain": [
       "(761, 95)"
      ]
     },
     "execution_count": 1586,
     "metadata": {},
     "output_type": "execute_result"
    }
   ],
   "source": [
    "mt_X_m_homs.count()"
   ]
  },
  {
   "cell_type": "code",
   "execution_count": 1584,
   "metadata": {},
   "outputs": [
    {
     "name": "stderr",
     "output_type": "stream",
     "text": [
      "2019-12-03 09:27:43 Hail: INFO: reading 4 of 116 data partitions\n",
      "2019-12-03 09:27:44 Hail: INFO: reading 4 of 116 data partitions\n",
      "2019-12-03 09:27:44 Hail: INFO: reading 4 of 116 data partitions\n",
      "2019-12-03 09:27:45 Hail: INFO: reading 4 of 116 data partitions\n"
     ]
    },
    {
     "data": {
      "text/html": [
       "\n",
       "\n",
       "\n",
       "\n",
       "\n",
       "\n",
       "  <div class=\"bk-root\" id=\"8a0a3dc0-6f16-431e-b623-354508f6ef31\" data-root-id=\"74934\"></div>\n"
      ]
     },
     "metadata": {},
     "output_type": "display_data"
    },
    {
     "data": {
      "application/javascript": [
       "(function(root) {\n",
       "  function embed_document(root) {\n",
       "    \n",
       "  var docs_json = {\"0f52ae5d-e9f7-4289-a790-ddb91e400787\":{\"roots\":{\"references\":[{\"attributes\":{\"children\":[{\"id\":\"74933\",\"type\":\"ToolbarBox\"},{\"id\":\"74931\",\"type\":\"GridBox\"}]},\"id\":\"74934\",\"type\":\"Column\"},{\"attributes\":{\"source\":{\"id\":\"74738\",\"type\":\"ColumnDataSource\"}},\"id\":\"74742\",\"type\":\"CDSView\"},{\"attributes\":{\"source\":{\"id\":\"74751\",\"type\":\"ColumnDataSource\"}},\"id\":\"74755\",\"type\":\"CDSView\"},{\"attributes\":{},\"id\":\"74895\",\"type\":\"Selection\"},{\"attributes\":{\"callback\":null,\"end\":52.5,\"start\":-2.5},\"id\":\"74646\",\"type\":\"Range1d\"},{\"attributes\":{\"data_source\":{\"id\":\"74799\",\"type\":\"ColumnDataSource\"},\"glyph\":{\"id\":\"74800\",\"type\":\"Quad\"},\"hover_glyph\":null,\"muted_glyph\":null,\"nonselection_glyph\":{\"id\":\"74801\",\"type\":\"Quad\"},\"selection_glyph\":null,\"view\":{\"id\":\"74803\",\"type\":\"CDSView\"}},\"id\":\"74802\",\"type\":\"GlyphRenderer\"},{\"attributes\":{\"callback\":null},\"id\":\"74770\",\"type\":\"DataRange1d\"},{\"attributes\":{},\"id\":\"74851\",\"type\":\"ResetTool\"},{\"attributes\":{\"data_source\":{\"id\":\"74738\",\"type\":\"ColumnDataSource\"},\"glyph\":{\"id\":\"74739\",\"type\":\"Quad\"},\"hover_glyph\":null,\"muted_glyph\":null,\"nonselection_glyph\":{\"id\":\"74740\",\"type\":\"Quad\"},\"selection_glyph\":null,\"view\":{\"id\":\"74742\",\"type\":\"CDSView\"}},\"id\":\"74741\",\"type\":\"GlyphRenderer\"},{\"attributes\":{},\"id\":\"74762\",\"type\":\"Selection\"},{\"attributes\":{},\"id\":\"74848\",\"type\":\"WheelZoomTool\"},{\"attributes\":{\"data_source\":{\"id\":\"74873\",\"type\":\"ColumnDataSource\"},\"glyph\":{\"id\":\"74874\",\"type\":\"Quad\"},\"hover_glyph\":null,\"muted_glyph\":null,\"nonselection_glyph\":{\"id\":\"74875\",\"type\":\"Quad\"},\"selection_glyph\":null,\"view\":{\"id\":\"74877\",\"type\":\"CDSView\"}},\"id\":\"74876\",\"type\":\"GlyphRenderer\"},{\"attributes\":{\"bottom\":{\"value\":0},\"fill_color\":{\"value\":\"green\"},\"left\":{\"value\":50.0},\"right\":{\"value\":52.5},\"top\":{\"value\":415}},\"id\":\"74752\",\"type\":\"Quad\"},{\"attributes\":{\"source\":{\"id\":\"74799\",\"type\":\"ColumnDataSource\"}},\"id\":\"74803\",\"type\":\"CDSView\"},{\"attributes\":{},\"id\":\"74790\",\"type\":\"ResetTool\"},{\"attributes\":{\"overlay\":{\"id\":\"74870\",\"type\":\"BoxAnnotation\"}},\"id\":\"74849\",\"type\":\"BoxZoomTool\"},{\"attributes\":{\"bottom\":{\"value\":0},\"fill_color\":{\"value\":\"#1f77b4\"},\"left\":{\"field\":\"left\"},\"right\":{\"field\":\"right\"},\"top\":{\"field\":\"top\"}},\"id\":\"74678\",\"type\":\"Quad\"},{\"attributes\":{\"active_drag\":\"auto\",\"active_inspect\":\"auto\",\"active_multi\":null,\"active_scroll\":\"auto\",\"active_tap\":\"auto\",\"tools\":[{\"id\":\"74725\",\"type\":\"PanTool\"},{\"id\":\"74726\",\"type\":\"WheelZoomTool\"},{\"id\":\"74727\",\"type\":\"BoxZoomTool\"},{\"id\":\"74728\",\"type\":\"SaveTool\"},{\"id\":\"74729\",\"type\":\"ResetTool\"},{\"id\":\"74730\",\"type\":\"HelpTool\"}]},\"id\":\"74731\",\"type\":\"Toolbar\"},{\"attributes\":{\"dimension\":1,\"ticker\":{\"id\":\"74782\",\"type\":\"BasicTicker\"}},\"id\":\"74785\",\"type\":\"Grid\"},{\"attributes\":{\"items\":[{\"id\":\"74872\",\"type\":\"LegendItem\"},{\"id\":\"74886\",\"type\":\"LegendItem\"}]},\"id\":\"74871\",\"type\":\"Legend\"},{\"attributes\":{\"bottom_units\":\"screen\",\"fill_alpha\":{\"value\":0.5},\"fill_color\":{\"value\":\"lightgrey\"},\"left_units\":\"screen\",\"level\":\"overlay\",\"line_alpha\":{\"value\":1.0},\"line_color\":{\"value\":\"black\"},\"line_dash\":[4,4],\"line_width\":{\"value\":2},\"render_mode\":\"css\",\"right_units\":\"screen\",\"top_units\":\"screen\"},\"id\":\"74748\",\"type\":\"BoxAnnotation\"},{\"attributes\":{},\"id\":\"74894\",\"type\":\"UnionRenderers\"},{\"attributes\":{\"dimension\":1,\"ticker\":{\"id\":\"74721\",\"type\":\"BasicTicker\"}},\"id\":\"74724\",\"type\":\"Grid\"},{\"attributes\":{},\"id\":\"74655\",\"type\":\"BasicTicker\"},{\"attributes\":{\"bottom\":{\"value\":0},\"fill_alpha\":{\"value\":0.1},\"fill_color\":{\"value\":\"#1f77b4\"},\"left\":{\"value\":50.0},\"line_alpha\":{\"value\":0.1},\"line_color\":{\"value\":\"#1f77b4\"},\"right\":{\"value\":52.5},\"top\":{\"value\":415}},\"id\":\"74753\",\"type\":\"Quad\"},{\"attributes\":{\"bottom\":{\"value\":0},\"fill_alpha\":{\"value\":0.1},\"fill_color\":{\"value\":\"#1f77b4\"},\"left\":{\"field\":\"left\"},\"line_alpha\":{\"value\":0.1},\"line_color\":{\"value\":\"#1f77b4\"},\"right\":{\"field\":\"right\"},\"top\":{\"field\":\"top\"}},\"id\":\"74740\",\"type\":\"Quad\"},{\"attributes\":{\"label\":{\"value\":\"Outliers Above\"},\"renderers\":[{\"id\":\"74815\",\"type\":\"GlyphRenderer\"}]},\"id\":\"74825\",\"type\":\"LegendItem\"},{\"attributes\":{},\"id\":\"74700\",\"type\":\"UnionRenderers\"},{\"attributes\":{\"bottom\":{\"value\":0},\"fill_color\":{\"value\":\"#1f77b4\"},\"left\":{\"field\":\"left\"},\"right\":{\"field\":\"right\"},\"top\":{\"field\":\"top\"}},\"id\":\"74800\",\"type\":\"Quad\"},{\"attributes\":{},\"id\":\"74823\",\"type\":\"Selection\"},{\"attributes\":{},\"id\":\"74650\",\"type\":\"LinearScale\"},{\"attributes\":{},\"id\":\"74713\",\"type\":\"LinearScale\"},{\"attributes\":{\"callback\":null,\"data\":{},\"selected\":{\"id\":\"74917\",\"type\":\"Selection\"},\"selection_policy\":{\"id\":\"74916\",\"type\":\"UnionRenderers\"}},\"id\":\"74812\",\"type\":\"ColumnDataSource\"},{\"attributes\":{\"callback\":null,\"end\":52.5,\"start\":-2.5},\"id\":\"74707\",\"type\":\"Range1d\"},{\"attributes\":{\"items\":[{\"id\":\"74750\",\"type\":\"LegendItem\"},{\"id\":\"74764\",\"type\":\"LegendItem\"}]},\"id\":\"74749\",\"type\":\"Legend\"},{\"attributes\":{\"background_fill_color\":{\"value\":\"#EEEEEE\"},\"below\":[{\"id\":\"74654\",\"type\":\"LinearAxis\"}],\"center\":[{\"id\":\"74658\",\"type\":\"Grid\"},{\"id\":\"74663\",\"type\":\"Grid\"},{\"id\":\"74688\",\"type\":\"Legend\"}],\"left\":[{\"id\":\"74659\",\"type\":\"LinearAxis\"}],\"plot_height\":500,\"plot_width\":500,\"renderers\":[{\"id\":\"74680\",\"type\":\"GlyphRenderer\"},{\"id\":\"74693\",\"type\":\"GlyphRenderer\"}],\"title\":{\"id\":\"74644\",\"type\":\"Title\"},\"toolbar\":{\"id\":\"74670\",\"type\":\"Toolbar\"},\"toolbar_location\":null,\"x_range\":{\"id\":\"74646\",\"type\":\"Range1d\"},\"x_scale\":{\"id\":\"74650\",\"type\":\"LinearScale\"},\"y_range\":{\"id\":\"74648\",\"type\":\"DataRange1d\"},\"y_scale\":{\"id\":\"74652\",\"type\":\"LinearScale\"}},\"id\":\"74643\",\"subtype\":\"Figure\",\"type\":\"Plot\"},{\"attributes\":{},\"id\":\"74789\",\"type\":\"SaveTool\"},{\"attributes\":{\"label\":{\"value\":\"Outliers Above\"},\"renderers\":[{\"id\":\"74876\",\"type\":\"GlyphRenderer\"}]},\"id\":\"74886\",\"type\":\"LegendItem\"},{\"attributes\":{},\"id\":\"74822\",\"type\":\"UnionRenderers\"},{\"attributes\":{\"axis_label\":\"Frequency\",\"formatter\":{\"id\":\"74805\",\"type\":\"BasicTickFormatter\"},\"ticker\":{\"id\":\"74782\",\"type\":\"BasicTicker\"}},\"id\":\"74781\",\"type\":\"LinearAxis\"},{\"attributes\":{\"text\":\"DP Histogram for X males het\"},\"id\":\"74766\",\"type\":\"Title\"},{\"attributes\":{\"bottom\":{\"value\":0},\"fill_color\":{\"value\":\"#1f77b4\"},\"left\":{\"field\":\"left\"},\"right\":{\"field\":\"right\"},\"top\":{\"field\":\"top\"}},\"id\":\"74861\",\"type\":\"Quad\"},{\"attributes\":{\"active_drag\":\"auto\",\"active_inspect\":\"auto\",\"active_multi\":null,\"active_scroll\":\"auto\",\"active_tap\":\"auto\",\"tools\":[{\"id\":\"74847\",\"type\":\"PanTool\"},{\"id\":\"74848\",\"type\":\"WheelZoomTool\"},{\"id\":\"74849\",\"type\":\"BoxZoomTool\"},{\"id\":\"74850\",\"type\":\"SaveTool\"},{\"id\":\"74851\",\"type\":\"ResetTool\"},{\"id\":\"74852\",\"type\":\"HelpTool\"}]},\"id\":\"74853\",\"type\":\"Toolbar\"},{\"attributes\":{\"bottom\":{\"value\":0},\"fill_color\":{\"value\":\"#1f77b4\"},\"left\":{\"field\":\"left\"},\"right\":{\"field\":\"right\"},\"top\":{\"field\":\"top\"}},\"id\":\"74739\",\"type\":\"Quad\"},{\"attributes\":{\"overlay\":{\"id\":\"74809\",\"type\":\"BoxAnnotation\"}},\"id\":\"74788\",\"type\":\"BoxZoomTool\"},{\"attributes\":{},\"id\":\"74716\",\"type\":\"BasicTicker\"},{\"attributes\":{\"axis_label\":\"DP\",\"formatter\":{\"id\":\"74685\",\"type\":\"BasicTickFormatter\"},\"ticker\":{\"id\":\"74655\",\"type\":\"BasicTicker\"}},\"id\":\"74654\",\"type\":\"LinearAxis\"},{\"attributes\":{\"callback\":null},\"id\":\"74709\",\"type\":\"DataRange1d\"},{\"attributes\":{},\"id\":\"74787\",\"type\":\"WheelZoomTool\"},{\"attributes\":{},\"id\":\"74730\",\"type\":\"HelpTool\"},{\"attributes\":{},\"id\":\"74774\",\"type\":\"LinearScale\"},{\"attributes\":{},\"id\":\"74746\",\"type\":\"BasicTickFormatter\"},{\"attributes\":{\"label\":{\"value\":\"Outliers Above\"},\"renderers\":[{\"id\":\"74754\",\"type\":\"GlyphRenderer\"}]},\"id\":\"74764\",\"type\":\"LegendItem\"},{\"attributes\":{\"text\":\"DP Histogram for X males\"},\"id\":\"74705\",\"type\":\"Title\"},{\"attributes\":{\"source\":{\"id\":\"74690\",\"type\":\"ColumnDataSource\"}},\"id\":\"74694\",\"type\":\"CDSView\"},{\"attributes\":{\"bottom\":{\"value\":0},\"fill_alpha\":{\"value\":0.1},\"fill_color\":{\"value\":\"#1f77b4\"},\"left\":{\"value\":50.0},\"line_alpha\":{\"value\":0.1},\"line_color\":{\"value\":\"#1f77b4\"},\"right\":{\"value\":52.5},\"top\":{\"value\":383}},\"id\":\"74814\",\"type\":\"Quad\"},{\"attributes\":{},\"id\":\"74868\",\"type\":\"BasicTickFormatter\"},{\"attributes\":{\"label\":{\"value\":\"DP\"},\"renderers\":[{\"id\":\"74802\",\"type\":\"GlyphRenderer\"}]},\"id\":\"74811\",\"type\":\"LegendItem\"},{\"attributes\":{\"source\":{\"id\":\"74873\",\"type\":\"ColumnDataSource\"}},\"id\":\"74877\",\"type\":\"CDSView\"},{\"attributes\":{\"children\":[[{\"id\":\"74643\",\"subtype\":\"Figure\",\"type\":\"Plot\"},0,0],[{\"id\":\"74704\",\"subtype\":\"Figure\",\"type\":\"Plot\"},0,1],[{\"id\":\"74765\",\"subtype\":\"Figure\",\"type\":\"Plot\"},1,0],[{\"id\":\"74826\",\"subtype\":\"Figure\",\"type\":\"Plot\"},1,1]]},\"id\":\"74931\",\"type\":\"GridBox\"},{\"attributes\":{\"callback\":null},\"id\":\"74648\",\"type\":\"DataRange1d\"},{\"attributes\":{\"tools\":[{\"id\":\"74664\",\"type\":\"PanTool\"},{\"id\":\"74665\",\"type\":\"WheelZoomTool\"},{\"id\":\"74666\",\"type\":\"BoxZoomTool\"},{\"id\":\"74667\",\"type\":\"SaveTool\"},{\"id\":\"74668\",\"type\":\"ResetTool\"},{\"id\":\"74669\",\"type\":\"HelpTool\"},{\"id\":\"74725\",\"type\":\"PanTool\"},{\"id\":\"74726\",\"type\":\"WheelZoomTool\"},{\"id\":\"74727\",\"type\":\"BoxZoomTool\"},{\"id\":\"74728\",\"type\":\"SaveTool\"},{\"id\":\"74729\",\"type\":\"ResetTool\"},{\"id\":\"74730\",\"type\":\"HelpTool\"},{\"id\":\"74786\",\"type\":\"PanTool\"},{\"id\":\"74787\",\"type\":\"WheelZoomTool\"},{\"id\":\"74788\",\"type\":\"BoxZoomTool\"},{\"id\":\"74789\",\"type\":\"SaveTool\"},{\"id\":\"74790\",\"type\":\"ResetTool\"},{\"id\":\"74791\",\"type\":\"HelpTool\"},{\"id\":\"74847\",\"type\":\"PanTool\"},{\"id\":\"74848\",\"type\":\"WheelZoomTool\"},{\"id\":\"74849\",\"type\":\"BoxZoomTool\"},{\"id\":\"74850\",\"type\":\"SaveTool\"},{\"id\":\"74851\",\"type\":\"ResetTool\"},{\"id\":\"74852\",\"type\":\"HelpTool\"}]},\"id\":\"74932\",\"type\":\"ProxyToolbar\"},{\"attributes\":{\"bottom\":{\"value\":0},\"fill_alpha\":{\"value\":0.1},\"fill_color\":{\"value\":\"#1f77b4\"},\"left\":{\"field\":\"left\"},\"line_alpha\":{\"value\":0.1},\"line_color\":{\"value\":\"#1f77b4\"},\"right\":{\"field\":\"right\"},\"top\":{\"field\":\"top\"}},\"id\":\"74801\",\"type\":\"Quad\"},{\"attributes\":{},\"id\":\"74928\",\"type\":\"Selection\"},{\"attributes\":{\"toolbar\":{\"id\":\"74932\",\"type\":\"ProxyToolbar\"},\"toolbar_location\":\"above\"},\"id\":\"74933\",\"type\":\"ToolbarBox\"},{\"attributes\":{},\"id\":\"74652\",\"type\":\"LinearScale\"},{\"attributes\":{\"ticker\":{\"id\":\"74716\",\"type\":\"BasicTicker\"}},\"id\":\"74719\",\"type\":\"Grid\"},{\"attributes\":{},\"id\":\"74777\",\"type\":\"BasicTicker\"},{\"attributes\":{\"callback\":null,\"data\":{},\"selected\":{\"id\":\"74928\",\"type\":\"Selection\"},\"selection_policy\":{\"id\":\"74927\",\"type\":\"UnionRenderers\"}},\"id\":\"74873\",\"type\":\"ColumnDataSource\"},{\"attributes\":{\"axis_label\":\"DP\",\"formatter\":{\"id\":\"74746\",\"type\":\"BasicTickFormatter\"},\"ticker\":{\"id\":\"74716\",\"type\":\"BasicTicker\"}},\"id\":\"74715\",\"type\":\"LinearAxis\"},{\"attributes\":{},\"id\":\"74791\",\"type\":\"HelpTool\"},{\"attributes\":{\"callback\":null,\"data\":{\"left\":[0.0,2.5,5.0,7.5,10.0,12.5,15.0,17.5,20.0,22.5,25.0,27.5,30.0,32.5,35.0,37.5,40.0,42.5,45.0,47.5],\"right\":[2.5,5.0,7.5,10.0,12.5,15.0,17.5,20.0,22.5,25.0,27.5,30.0,32.5,35.0,37.5,40.0,42.5,45.0,47.5,50.0],\"top\":[1577,1342,2594,2091,3733,2290,2789,1489,1788,653,822,416,519,414,626,279,176,83,75,86]},\"selected\":{\"id\":\"74823\",\"type\":\"Selection\"},\"selection_policy\":{\"id\":\"74822\",\"type\":\"UnionRenderers\"}},\"id\":\"74799\",\"type\":\"ColumnDataSource\"},{\"attributes\":{},\"id\":\"74884\",\"type\":\"Selection\"},{\"attributes\":{\"overlay\":{\"id\":\"74748\",\"type\":\"BoxAnnotation\"}},\"id\":\"74727\",\"type\":\"BoxZoomTool\"},{\"attributes\":{},\"id\":\"74772\",\"type\":\"LinearScale\"},{\"attributes\":{},\"id\":\"74744\",\"type\":\"BasicTickFormatter\"},{\"attributes\":{},\"id\":\"74883\",\"type\":\"UnionRenderers\"},{\"attributes\":{\"active_drag\":\"auto\",\"active_inspect\":\"auto\",\"active_multi\":null,\"active_scroll\":\"auto\",\"active_tap\":\"auto\",\"tools\":[{\"id\":\"74786\",\"type\":\"PanTool\"},{\"id\":\"74787\",\"type\":\"WheelZoomTool\"},{\"id\":\"74788\",\"type\":\"BoxZoomTool\"},{\"id\":\"74789\",\"type\":\"SaveTool\"},{\"id\":\"74790\",\"type\":\"ResetTool\"},{\"id\":\"74791\",\"type\":\"HelpTool\"}]},\"id\":\"74792\",\"type\":\"Toolbar\"},{\"attributes\":{},\"id\":\"74729\",\"type\":\"ResetTool\"},{\"attributes\":{},\"id\":\"74786\",\"type\":\"PanTool\"},{\"attributes\":{\"label\":{\"value\":\"DP\"},\"renderers\":[{\"id\":\"74863\",\"type\":\"GlyphRenderer\"}]},\"id\":\"74872\",\"type\":\"LegendItem\"},{\"attributes\":{},\"id\":\"74701\",\"type\":\"Selection\"},{\"attributes\":{\"background_fill_color\":{\"value\":\"#EEEEEE\"},\"below\":[{\"id\":\"74715\",\"type\":\"LinearAxis\"}],\"center\":[{\"id\":\"74719\",\"type\":\"Grid\"},{\"id\":\"74724\",\"type\":\"Grid\"},{\"id\":\"74749\",\"type\":\"Legend\"}],\"left\":[{\"id\":\"74720\",\"type\":\"LinearAxis\"}],\"plot_height\":500,\"plot_width\":500,\"renderers\":[{\"id\":\"74741\",\"type\":\"GlyphRenderer\"},{\"id\":\"74754\",\"type\":\"GlyphRenderer\"}],\"title\":{\"id\":\"74705\",\"type\":\"Title\"},\"toolbar\":{\"id\":\"74731\",\"type\":\"Toolbar\"},\"toolbar_location\":null,\"x_range\":{\"id\":\"74707\",\"type\":\"Range1d\"},\"x_scale\":{\"id\":\"74711\",\"type\":\"LinearScale\"},\"y_range\":{\"id\":\"74709\",\"type\":\"DataRange1d\"},\"y_scale\":{\"id\":\"74713\",\"type\":\"LinearScale\"}},\"id\":\"74704\",\"subtype\":\"Figure\",\"type\":\"Plot\"},{\"attributes\":{},\"id\":\"74805\",\"type\":\"BasicTickFormatter\"},{\"attributes\":{},\"id\":\"74905\",\"type\":\"UnionRenderers\"},{\"attributes\":{\"background_fill_color\":{\"value\":\"#EEEEEE\"},\"below\":[{\"id\":\"74776\",\"type\":\"LinearAxis\"}],\"center\":[{\"id\":\"74780\",\"type\":\"Grid\"},{\"id\":\"74785\",\"type\":\"Grid\"},{\"id\":\"74810\",\"type\":\"Legend\"}],\"left\":[{\"id\":\"74781\",\"type\":\"LinearAxis\"}],\"plot_height\":500,\"plot_width\":500,\"renderers\":[{\"id\":\"74802\",\"type\":\"GlyphRenderer\"},{\"id\":\"74815\",\"type\":\"GlyphRenderer\"}],\"title\":{\"id\":\"74766\",\"type\":\"Title\"},\"toolbar\":{\"id\":\"74792\",\"type\":\"Toolbar\"},\"toolbar_location\":null,\"x_range\":{\"id\":\"74768\",\"type\":\"Range1d\"},\"x_scale\":{\"id\":\"74772\",\"type\":\"LinearScale\"},\"y_range\":{\"id\":\"74770\",\"type\":\"DataRange1d\"},\"y_scale\":{\"id\":\"74774\",\"type\":\"LinearScale\"}},\"id\":\"74765\",\"subtype\":\"Figure\",\"type\":\"Plot\"},{\"attributes\":{\"data_source\":{\"id\":\"74812\",\"type\":\"ColumnDataSource\"},\"glyph\":{\"id\":\"74813\",\"type\":\"Quad\"},\"hover_glyph\":null,\"muted_glyph\":null,\"nonselection_glyph\":{\"id\":\"74814\",\"type\":\"Quad\"},\"selection_glyph\":null,\"view\":{\"id\":\"74816\",\"type\":\"CDSView\"}},\"id\":\"74815\",\"type\":\"GlyphRenderer\"},{\"attributes\":{\"label\":{\"value\":\"DP\"},\"renderers\":[{\"id\":\"74741\",\"type\":\"GlyphRenderer\"}]},\"id\":\"74750\",\"type\":\"LegendItem\"},{\"attributes\":{\"callback\":null,\"end\":52.5,\"start\":-2.5},\"id\":\"74768\",\"type\":\"Range1d\"},{\"attributes\":{\"bottom\":{\"value\":0},\"fill_alpha\":{\"value\":0.1},\"fill_color\":{\"value\":\"#1f77b4\"},\"left\":{\"value\":50.0},\"line_alpha\":{\"value\":0.1},\"line_color\":{\"value\":\"#1f77b4\"},\"right\":{\"value\":52.5},\"top\":{\"value\":996}},\"id\":\"74692\",\"type\":\"Quad\"},{\"attributes\":{\"bottom_units\":\"screen\",\"fill_alpha\":{\"value\":0.5},\"fill_color\":{\"value\":\"lightgrey\"},\"left_units\":\"screen\",\"level\":\"overlay\",\"line_alpha\":{\"value\":1.0},\"line_color\":{\"value\":\"black\"},\"line_dash\":[4,4],\"line_width\":{\"value\":2},\"render_mode\":\"css\",\"right_units\":\"screen\",\"top_units\":\"screen\"},\"id\":\"74809\",\"type\":\"BoxAnnotation\"},{\"attributes\":{\"data_source\":{\"id\":\"74690\",\"type\":\"ColumnDataSource\"},\"glyph\":{\"id\":\"74691\",\"type\":\"Quad\"},\"hover_glyph\":null,\"muted_glyph\":null,\"nonselection_glyph\":{\"id\":\"74692\",\"type\":\"Quad\"},\"selection_glyph\":null,\"view\":{\"id\":\"74694\",\"type\":\"CDSView\"}},\"id\":\"74693\",\"type\":\"GlyphRenderer\"},{\"attributes\":{\"data_source\":{\"id\":\"74751\",\"type\":\"ColumnDataSource\"},\"glyph\":{\"id\":\"74752\",\"type\":\"Quad\"},\"hover_glyph\":null,\"muted_glyph\":null,\"nonselection_glyph\":{\"id\":\"74753\",\"type\":\"Quad\"},\"selection_glyph\":null,\"view\":{\"id\":\"74755\",\"type\":\"CDSView\"}},\"id\":\"74754\",\"type\":\"GlyphRenderer\"},{\"attributes\":{\"ticker\":{\"id\":\"74777\",\"type\":\"BasicTicker\"}},\"id\":\"74780\",\"type\":\"Grid\"},{\"attributes\":{\"bottom\":{\"value\":0},\"fill_alpha\":{\"value\":0.1},\"fill_color\":{\"value\":\"#1f77b4\"},\"left\":{\"value\":50.0},\"line_alpha\":{\"value\":0.1},\"line_color\":{\"value\":\"#1f77b4\"},\"right\":{\"value\":52.5},\"top\":{\"value\":32}},\"id\":\"74875\",\"type\":\"Quad\"},{\"attributes\":{},\"id\":\"74725\",\"type\":\"PanTool\"},{\"attributes\":{\"bottom\":{\"value\":0},\"fill_color\":{\"value\":\"green\"},\"left\":{\"value\":50.0},\"right\":{\"value\":52.5},\"top\":{\"value\":383}},\"id\":\"74813\",\"type\":\"Quad\"},{\"attributes\":{},\"id\":\"74728\",\"type\":\"SaveTool\"},{\"attributes\":{},\"id\":\"74852\",\"type\":\"HelpTool\"},{\"attributes\":{},\"id\":\"74807\",\"type\":\"BasicTickFormatter\"},{\"attributes\":{},\"id\":\"74726\",\"type\":\"WheelZoomTool\"},{\"attributes\":{},\"id\":\"74782\",\"type\":\"BasicTicker\"},{\"attributes\":{\"ticker\":{\"id\":\"74655\",\"type\":\"BasicTicker\"}},\"id\":\"74658\",\"type\":\"Grid\"},{\"attributes\":{\"axis_label\":\"Frequency\",\"formatter\":{\"id\":\"74744\",\"type\":\"BasicTickFormatter\"},\"ticker\":{\"id\":\"74721\",\"type\":\"BasicTicker\"}},\"id\":\"74720\",\"type\":\"LinearAxis\"},{\"attributes\":{\"items\":[{\"id\":\"74811\",\"type\":\"LegendItem\"},{\"id\":\"74825\",\"type\":\"LegendItem\"}]},\"id\":\"74810\",\"type\":\"Legend\"},{\"attributes\":{\"bottom_units\":\"screen\",\"fill_alpha\":{\"value\":0.5},\"fill_color\":{\"value\":\"lightgrey\"},\"left_units\":\"screen\",\"level\":\"overlay\",\"line_alpha\":{\"value\":1.0},\"line_color\":{\"value\":\"black\"},\"line_dash\":[4,4],\"line_width\":{\"value\":2},\"render_mode\":\"css\",\"right_units\":\"screen\",\"top_units\":\"screen\"},\"id\":\"74870\",\"type\":\"BoxAnnotation\"},{\"attributes\":{\"axis_label\":\"DP\",\"formatter\":{\"id\":\"74807\",\"type\":\"BasicTickFormatter\"},\"ticker\":{\"id\":\"74777\",\"type\":\"BasicTicker\"}},\"id\":\"74776\",\"type\":\"LinearAxis\"},{\"attributes\":{\"source\":{\"id\":\"74812\",\"type\":\"ColumnDataSource\"}},\"id\":\"74816\",\"type\":\"CDSView\"},{\"attributes\":{\"bottom\":{\"value\":0},\"fill_color\":{\"value\":\"green\"},\"left\":{\"value\":50.0},\"right\":{\"value\":52.5},\"top\":{\"value\":32}},\"id\":\"74874\",\"type\":\"Quad\"},{\"attributes\":{},\"id\":\"74927\",\"type\":\"UnionRenderers\"},{\"attributes\":{\"callback\":null,\"data\":{\"left\":[0.0,2.5,5.0,7.5,10.0,12.5,15.0,17.5,20.0,22.5,25.0,27.5,30.0,32.5,35.0,37.5,40.0,42.5,45.0,47.5],\"right\":[2.5,5.0,7.5,10.0,12.5,15.0,17.5,20.0,22.5,25.0,27.5,30.0,32.5,35.0,37.5,40.0,42.5,45.0,47.5,50.0],\"top\":[4799,5023,10685,9460,17674,11749,14061,6785,7542,2014,2122,898,884,625,901,357,229,107,95,95]},\"selected\":{\"id\":\"74762\",\"type\":\"Selection\"},\"selection_policy\":{\"id\":\"74761\",\"type\":\"UnionRenderers\"}},\"id\":\"74738\",\"type\":\"ColumnDataSource\"},{\"attributes\":{\"callback\":null,\"data\":{},\"selected\":{\"id\":\"74906\",\"type\":\"Selection\"},\"selection_policy\":{\"id\":\"74905\",\"type\":\"UnionRenderers\"}},\"id\":\"74751\",\"type\":\"ColumnDataSource\"},{\"attributes\":{},\"id\":\"74866\",\"type\":\"BasicTickFormatter\"},{\"attributes\":{},\"id\":\"74761\",\"type\":\"UnionRenderers\"},{\"attributes\":{\"text\":\"DP Histogram for X females\"},\"id\":\"74644\",\"type\":\"Title\"},{\"attributes\":{},\"id\":\"74850\",\"type\":\"SaveTool\"},{\"attributes\":{},\"id\":\"74721\",\"type\":\"BasicTicker\"},{\"attributes\":{\"axis_label\":\"Frequency\",\"formatter\":{\"id\":\"74866\",\"type\":\"BasicTickFormatter\"},\"ticker\":{\"id\":\"74843\",\"type\":\"BasicTicker\"}},\"id\":\"74842\",\"type\":\"LinearAxis\"},{\"attributes\":{},\"id\":\"74843\",\"type\":\"BasicTicker\"},{\"attributes\":{\"label\":{\"value\":\"Outliers Above\"},\"renderers\":[{\"id\":\"74693\",\"type\":\"GlyphRenderer\"}]},\"id\":\"74703\",\"type\":\"LegendItem\"},{\"attributes\":{\"callback\":null,\"data\":{\"left\":[0.0,2.5,5.0,7.5,10.0,12.5,15.0,17.5,20.0,22.5,25.0,27.5,30.0,32.5,35.0,37.5,40.0,42.5,45.0,47.5],\"right\":[2.5,5.0,7.5,10.0,12.5,15.0,17.5,20.0,22.5,25.0,27.5,30.0,32.5,35.0,37.5,40.0,42.5,45.0,47.5,50.0],\"top\":[3222,3681,8091,7369,13941,9459,11272,5296,5754,1361,1300,482,365,211,275,78,53,24,20,9]},\"selected\":{\"id\":\"74884\",\"type\":\"Selection\"},\"selection_policy\":{\"id\":\"74883\",\"type\":\"UnionRenderers\"}},\"id\":\"74860\",\"type\":\"ColumnDataSource\"},{\"attributes\":{\"data_source\":{\"id\":\"74860\",\"type\":\"ColumnDataSource\"},\"glyph\":{\"id\":\"74861\",\"type\":\"Quad\"},\"hover_glyph\":null,\"muted_glyph\":null,\"nonselection_glyph\":{\"id\":\"74862\",\"type\":\"Quad\"},\"selection_glyph\":null,\"view\":{\"id\":\"74864\",\"type\":\"CDSView\"}},\"id\":\"74863\",\"type\":\"GlyphRenderer\"},{\"attributes\":{\"bottom_units\":\"screen\",\"fill_alpha\":{\"value\":0.5},\"fill_color\":{\"value\":\"lightgrey\"},\"left_units\":\"screen\",\"level\":\"overlay\",\"line_alpha\":{\"value\":1.0},\"line_color\":{\"value\":\"black\"},\"line_dash\":[4,4],\"line_width\":{\"value\":2},\"render_mode\":\"css\",\"right_units\":\"screen\",\"top_units\":\"screen\"},\"id\":\"74687\",\"type\":\"BoxAnnotation\"},{\"attributes\":{\"callback\":null},\"id\":\"74831\",\"type\":\"DataRange1d\"},{\"attributes\":{},\"id\":\"74685\",\"type\":\"BasicTickFormatter\"},{\"attributes\":{\"background_fill_color\":{\"value\":\"#EEEEEE\"},\"below\":[{\"id\":\"74837\",\"type\":\"LinearAxis\"}],\"center\":[{\"id\":\"74841\",\"type\":\"Grid\"},{\"id\":\"74846\",\"type\":\"Grid\"},{\"id\":\"74871\",\"type\":\"Legend\"}],\"left\":[{\"id\":\"74842\",\"type\":\"LinearAxis\"}],\"plot_height\":500,\"plot_width\":500,\"renderers\":[{\"id\":\"74863\",\"type\":\"GlyphRenderer\"},{\"id\":\"74876\",\"type\":\"GlyphRenderer\"}],\"title\":{\"id\":\"74827\",\"type\":\"Title\"},\"toolbar\":{\"id\":\"74853\",\"type\":\"Toolbar\"},\"toolbar_location\":null,\"x_range\":{\"id\":\"74829\",\"type\":\"Range1d\"},\"x_scale\":{\"id\":\"74833\",\"type\":\"LinearScale\"},\"y_range\":{\"id\":\"74831\",\"type\":\"DataRange1d\"},\"y_scale\":{\"id\":\"74835\",\"type\":\"LinearScale\"}},\"id\":\"74826\",\"subtype\":\"Figure\",\"type\":\"Plot\"},{\"attributes\":{\"callback\":null,\"end\":52.5,\"start\":-2.5},\"id\":\"74829\",\"type\":\"Range1d\"},{\"attributes\":{\"bottom\":{\"value\":0},\"fill_alpha\":{\"value\":0.1},\"fill_color\":{\"value\":\"#1f77b4\"},\"left\":{\"field\":\"left\"},\"line_alpha\":{\"value\":0.1},\"line_color\":{\"value\":\"#1f77b4\"},\"right\":{\"field\":\"right\"},\"top\":{\"field\":\"top\"}},\"id\":\"74679\",\"type\":\"Quad\"},{\"attributes\":{\"dimension\":1,\"ticker\":{\"id\":\"74843\",\"type\":\"BasicTicker\"}},\"id\":\"74846\",\"type\":\"Grid\"},{\"attributes\":{},\"id\":\"74835\",\"type\":\"LinearScale\"},{\"attributes\":{},\"id\":\"74668\",\"type\":\"ResetTool\"},{\"attributes\":{\"overlay\":{\"id\":\"74687\",\"type\":\"BoxAnnotation\"}},\"id\":\"74666\",\"type\":\"BoxZoomTool\"},{\"attributes\":{},\"id\":\"74667\",\"type\":\"SaveTool\"},{\"attributes\":{\"items\":[{\"id\":\"74689\",\"type\":\"LegendItem\"},{\"id\":\"74703\",\"type\":\"LegendItem\"}]},\"id\":\"74688\",\"type\":\"Legend\"},{\"attributes\":{\"bottom\":{\"value\":0},\"fill_color\":{\"value\":\"green\"},\"left\":{\"value\":50.0},\"right\":{\"value\":52.5},\"top\":{\"value\":996}},\"id\":\"74691\",\"type\":\"Quad\"},{\"attributes\":{},\"id\":\"74683\",\"type\":\"BasicTickFormatter\"},{\"attributes\":{},\"id\":\"74665\",\"type\":\"WheelZoomTool\"},{\"attributes\":{\"callback\":null,\"data\":{},\"selected\":{\"id\":\"74895\",\"type\":\"Selection\"},\"selection_policy\":{\"id\":\"74894\",\"type\":\"UnionRenderers\"}},\"id\":\"74690\",\"type\":\"ColumnDataSource\"},{\"attributes\":{},\"id\":\"74833\",\"type\":\"LinearScale\"},{\"attributes\":{\"source\":{\"id\":\"74677\",\"type\":\"ColumnDataSource\"}},\"id\":\"74681\",\"type\":\"CDSView\"},{\"attributes\":{},\"id\":\"74917\",\"type\":\"Selection\"},{\"attributes\":{\"dimension\":1,\"ticker\":{\"id\":\"74660\",\"type\":\"BasicTicker\"}},\"id\":\"74663\",\"type\":\"Grid\"},{\"attributes\":{\"axis_label\":\"DP\",\"formatter\":{\"id\":\"74868\",\"type\":\"BasicTickFormatter\"},\"ticker\":{\"id\":\"74838\",\"type\":\"BasicTicker\"}},\"id\":\"74837\",\"type\":\"LinearAxis\"},{\"attributes\":{\"data_source\":{\"id\":\"74677\",\"type\":\"ColumnDataSource\"},\"glyph\":{\"id\":\"74678\",\"type\":\"Quad\"},\"hover_glyph\":null,\"muted_glyph\":null,\"nonselection_glyph\":{\"id\":\"74679\",\"type\":\"Quad\"},\"selection_glyph\":null,\"view\":{\"id\":\"74681\",\"type\":\"CDSView\"}},\"id\":\"74680\",\"type\":\"GlyphRenderer\"},{\"attributes\":{\"bottom\":{\"value\":0},\"fill_alpha\":{\"value\":0.1},\"fill_color\":{\"value\":\"#1f77b4\"},\"left\":{\"field\":\"left\"},\"line_alpha\":{\"value\":0.1},\"line_color\":{\"value\":\"#1f77b4\"},\"right\":{\"field\":\"right\"},\"top\":{\"field\":\"top\"}},\"id\":\"74862\",\"type\":\"Quad\"},{\"attributes\":{},\"id\":\"74906\",\"type\":\"Selection\"},{\"attributes\":{},\"id\":\"74660\",\"type\":\"BasicTicker\"},{\"attributes\":{\"axis_label\":\"Frequency\",\"formatter\":{\"id\":\"74683\",\"type\":\"BasicTickFormatter\"},\"ticker\":{\"id\":\"74660\",\"type\":\"BasicTicker\"}},\"id\":\"74659\",\"type\":\"LinearAxis\"},{\"attributes\":{},\"id\":\"74711\",\"type\":\"LinearScale\"},{\"attributes\":{\"text\":\"DP Histogram for X males homs\"},\"id\":\"74827\",\"type\":\"Title\"},{\"attributes\":{\"callback\":null,\"data\":{\"left\":[0.0,2.5,5.0,7.5,10.0,12.5,15.0,17.5,20.0,22.5,25.0,27.5,30.0,32.5,35.0,37.5,40.0,42.5,45.0,47.5],\"right\":[2.5,5.0,7.5,10.0,12.5,15.0,17.5,20.0,22.5,25.0,27.5,30.0,32.5,35.0,37.5,40.0,42.5,45.0,47.5,50.0],\"top\":[523,311,845,813,1673,1652,3458,3176,7636,4217,7077,4342,5525,4006,5152,1536,1025,339,346,216]},\"selected\":{\"id\":\"74701\",\"type\":\"Selection\"},\"selection_policy\":{\"id\":\"74700\",\"type\":\"UnionRenderers\"}},\"id\":\"74677\",\"type\":\"ColumnDataSource\"},{\"attributes\":{},\"id\":\"74916\",\"type\":\"UnionRenderers\"},{\"attributes\":{},\"id\":\"74838\",\"type\":\"BasicTicker\"},{\"attributes\":{},\"id\":\"74664\",\"type\":\"PanTool\"},{\"attributes\":{},\"id\":\"74847\",\"type\":\"PanTool\"},{\"attributes\":{\"label\":{\"value\":\"DP\"},\"renderers\":[{\"id\":\"74680\",\"type\":\"GlyphRenderer\"}]},\"id\":\"74689\",\"type\":\"LegendItem\"},{\"attributes\":{},\"id\":\"74669\",\"type\":\"HelpTool\"},{\"attributes\":{\"ticker\":{\"id\":\"74838\",\"type\":\"BasicTicker\"}},\"id\":\"74841\",\"type\":\"Grid\"},{\"attributes\":{\"active_drag\":\"auto\",\"active_inspect\":\"auto\",\"active_multi\":null,\"active_scroll\":\"auto\",\"active_tap\":\"auto\",\"tools\":[{\"id\":\"74664\",\"type\":\"PanTool\"},{\"id\":\"74665\",\"type\":\"WheelZoomTool\"},{\"id\":\"74666\",\"type\":\"BoxZoomTool\"},{\"id\":\"74667\",\"type\":\"SaveTool\"},{\"id\":\"74668\",\"type\":\"ResetTool\"},{\"id\":\"74669\",\"type\":\"HelpTool\"}]},\"id\":\"74670\",\"type\":\"Toolbar\"},{\"attributes\":{\"source\":{\"id\":\"74860\",\"type\":\"ColumnDataSource\"}},\"id\":\"74864\",\"type\":\"CDSView\"}],\"root_ids\":[\"74934\"]},\"title\":\"Bokeh Application\",\"version\":\"1.2.0\"}};\n",
       "  var render_items = [{\"docid\":\"0f52ae5d-e9f7-4289-a790-ddb91e400787\",\"roots\":{\"74934\":\"8a0a3dc0-6f16-431e-b623-354508f6ef31\"}}];\n",
       "  root.Bokeh.embed.embed_items_notebook(docs_json, render_items);\n",
       "\n",
       "  }\n",
       "  if (root.Bokeh !== undefined) {\n",
       "    embed_document(root);\n",
       "  } else {\n",
       "    var attempts = 0;\n",
       "    var timer = setInterval(function(root) {\n",
       "      if (root.Bokeh !== undefined) {\n",
       "        embed_document(root);\n",
       "        clearInterval(timer);\n",
       "      }\n",
       "      attempts++;\n",
       "      if (attempts > 100) {\n",
       "        console.log(\"Bokeh: ERROR: Unable to run BokehJS code because BokehJS library is missing\");\n",
       "        clearInterval(timer);\n",
       "      }\n",
       "    }, 10, root)\n",
       "  }\n",
       "})(window);"
      ],
      "application/vnd.bokehjs_exec.v0+json": ""
     },
     "metadata": {
      "application/vnd.bokehjs_exec.v0+json": {
       "id": "74934"
      }
     },
     "output_type": "display_data"
    }
   ],
   "source": [
    "p1 = hl.plot.histogram(mt_X_f.DP, range=(0,50), bins=20, title='DP Histogram for X females', legend='DP')\n",
    "p2 = hl.plot.histogram(mt_X_m.DP, range=(0,50), bins=20, title='DP Histogram for X males', legend='DP')\n",
    "p3 = hl.plot.histogram(mt_X_m_hets.DP, range=(0,50), bins=20, title='DP Histogram for X males het', legend='DP')\n",
    "p4 = hl.plot.histogram(mt_X_m_homs.DP, range=(0,50), bins=20, title='DP Histogram for X males homs', legend='DP')\n",
    "\n",
    "show(gridplot([p1, p2, p3, p4], ncols=2, plot_width=500, plot_height=500))"
   ]
  },
  {
   "cell_type": "code",
   "execution_count": 1600,
   "metadata": {},
   "outputs": [
    {
     "name": "stderr",
     "output_type": "stream",
     "text": [
      "2019-12-03 11:00:49 Hail: INFO: reading 4 of 116 data partitions\n",
      "2019-12-03 11:00:50 Hail: INFO: reading 4 of 116 data partitions\n",
      "2019-12-03 11:00:51 Hail: INFO: reading 4 of 116 data partitions\n",
      "2019-12-03 11:00:51 Hail: INFO: reading 4 of 116 data partitions\n"
     ]
    },
    {
     "data": {
      "text/html": [
       "\n",
       "\n",
       "\n",
       "\n",
       "\n",
       "\n",
       "  <div class=\"bk-root\" id=\"3abe4939-57cd-412a-bc89-2a8e9d39d5c9\" data-root-id=\"102137\"></div>\n"
      ]
     },
     "metadata": {},
     "output_type": "display_data"
    },
    {
     "data": {
      "application/javascript": [
       "(function(root) {\n",
       "  function embed_document(root) {\n",
       "    \n",
       "  var docs_json = {\"8bcc4a46-9e98-477c-b240-d9c3a9d5f460\":{\"roots\":{\"references\":[{\"attributes\":{\"children\":[{\"id\":\"102136\",\"type\":\"ToolbarBox\"},{\"id\":\"102134\",\"type\":\"GridBox\"}]},\"id\":\"102137\",\"type\":\"Column\"},{\"attributes\":{},\"id\":\"101957\",\"type\":\"LinearScale\"},{\"attributes\":{},\"id\":\"101896\",\"type\":\"BasicTickFormatter\"},{\"attributes\":{},\"id\":\"101861\",\"type\":\"LinearScale\"},{\"attributes\":{},\"id\":\"101879\",\"type\":\"ResetTool\"},{\"attributes\":{\"bottom\":{\"value\":0},\"fill_color\":{\"value\":\"#1f77b4\"},\"left\":{\"field\":\"left\"},\"right\":{\"field\":\"right\"},\"top\":{\"field\":\"top\"}},\"id\":\"102030\",\"type\":\"Quad\"},{\"attributes\":{\"bottom_units\":\"screen\",\"fill_alpha\":{\"value\":0.5},\"fill_color\":{\"value\":\"lightgrey\"},\"left_units\":\"screen\",\"level\":\"overlay\",\"line_alpha\":{\"value\":1.0},\"line_color\":{\"value\":\"black\"},\"line_dash\":[4,4],\"line_width\":{\"value\":2},\"render_mode\":\"css\",\"right_units\":\"screen\",\"top_units\":\"screen\"},\"id\":\"102086\",\"type\":\"BoxAnnotation\"},{\"attributes\":{\"dimension\":1,\"ticker\":{\"id\":\"101871\",\"type\":\"BasicTicker\"}},\"id\":\"101874\",\"type\":\"Grid\"},{\"attributes\":{\"axis_label\":\"Frequency\",\"formatter\":{\"id\":\"101894\",\"type\":\"BasicTickFormatter\"},\"ticker\":{\"id\":\"101871\",\"type\":\"BasicTicker\"}},\"id\":\"101870\",\"type\":\"LinearAxis\"},{\"attributes\":{\"background_fill_color\":{\"value\":\"#EEEEEE\"},\"below\":[{\"id\":\"101959\",\"type\":\"LinearAxis\"}],\"center\":[{\"id\":\"101963\",\"type\":\"Grid\"},{\"id\":\"101968\",\"type\":\"Grid\"},{\"id\":\"101993\",\"type\":\"Legend\"}],\"left\":[{\"id\":\"101964\",\"type\":\"LinearAxis\"}],\"plot_height\":500,\"plot_width\":500,\"renderers\":[{\"id\":\"101985\",\"type\":\"GlyphRenderer\"}],\"title\":{\"id\":\"101949\",\"type\":\"Title\"},\"toolbar\":{\"id\":\"101975\",\"type\":\"Toolbar\"},\"toolbar_location\":null,\"x_range\":{\"id\":\"101951\",\"type\":\"Range1d\"},\"x_scale\":{\"id\":\"101955\",\"type\":\"LinearScale\"},\"y_range\":{\"id\":\"101953\",\"type\":\"DataRange1d\"},\"y_scale\":{\"id\":\"101957\",\"type\":\"LinearScale\"}},\"id\":\"101948\",\"subtype\":\"Figure\",\"type\":\"Plot\"},{\"attributes\":{\"overlay\":{\"id\":\"101898\",\"type\":\"BoxAnnotation\"}},\"id\":\"101877\",\"type\":\"BoxZoomTool\"},{\"attributes\":{\"ticker\":{\"id\":\"101866\",\"type\":\"BasicTicker\"}},\"id\":\"101869\",\"type\":\"Grid\"},{\"attributes\":{},\"id\":\"102113\",\"type\":\"Selection\"},{\"attributes\":{\"active_drag\":\"auto\",\"active_inspect\":\"auto\",\"active_multi\":null,\"active_scroll\":\"auto\",\"active_tap\":\"auto\",\"tools\":[{\"id\":\"101922\",\"type\":\"PanTool\"},{\"id\":\"101923\",\"type\":\"WheelZoomTool\"},{\"id\":\"101924\",\"type\":\"BoxZoomTool\"},{\"id\":\"101925\",\"type\":\"SaveTool\"},{\"id\":\"101926\",\"type\":\"ResetTool\"},{\"id\":\"101927\",\"type\":\"HelpTool\"}]},\"id\":\"101928\",\"type\":\"Toolbar\"},{\"attributes\":{\"bottom\":{\"value\":0},\"fill_alpha\":{\"value\":0.1},\"fill_color\":{\"value\":\"#1f77b4\"},\"left\":{\"field\":\"left\"},\"line_alpha\":{\"value\":0.1},\"line_color\":{\"value\":\"#1f77b4\"},\"right\":{\"field\":\"right\"},\"top\":{\"field\":\"top\"}},\"id\":\"101890\",\"type\":\"Quad\"},{\"attributes\":{\"source\":{\"id\":\"101888\",\"type\":\"ColumnDataSource\"}},\"id\":\"101892\",\"type\":\"CDSView\"},{\"attributes\":{},\"id\":\"101871\",\"type\":\"BasicTicker\"},{\"attributes\":{\"active_drag\":\"auto\",\"active_inspect\":\"auto\",\"active_multi\":null,\"active_scroll\":\"auto\",\"active_tap\":\"auto\",\"tools\":[{\"id\":\"102063\",\"type\":\"PanTool\"},{\"id\":\"102064\",\"type\":\"WheelZoomTool\"},{\"id\":\"102065\",\"type\":\"BoxZoomTool\"},{\"id\":\"102066\",\"type\":\"SaveTool\"},{\"id\":\"102067\",\"type\":\"ResetTool\"},{\"id\":\"102068\",\"type\":\"HelpTool\"}]},\"id\":\"102069\",\"type\":\"Toolbar\"},{\"attributes\":{},\"id\":\"101965\",\"type\":\"BasicTicker\"},{\"attributes\":{\"data_source\":{\"id\":\"101888\",\"type\":\"ColumnDataSource\"},\"glyph\":{\"id\":\"101889\",\"type\":\"Quad\"},\"hover_glyph\":null,\"muted_glyph\":null,\"nonselection_glyph\":{\"id\":\"101890\",\"type\":\"Quad\"},\"selection_glyph\":null,\"view\":{\"id\":\"101892\",\"type\":\"CDSView\"}},\"id\":\"101891\",\"type\":\"GlyphRenderer\"},{\"attributes\":{\"text\":\"GQ Histogram for X females\"},\"id\":\"101855\",\"type\":\"Title\"},{\"attributes\":{\"items\":[{\"id\":\"101900\",\"type\":\"LegendItem\"}]},\"id\":\"101899\",\"type\":\"Legend\"},{\"attributes\":{\"dimension\":1,\"ticker\":{\"id\":\"101965\",\"type\":\"BasicTicker\"}},\"id\":\"101968\",\"type\":\"Grid\"},{\"attributes\":{},\"id\":\"102067\",\"type\":\"ResetTool\"},{\"attributes\":{},\"id\":\"101960\",\"type\":\"BasicTicker\"},{\"attributes\":{},\"id\":\"102068\",\"type\":\"HelpTool\"},{\"attributes\":{\"callback\":null,\"data\":{\"left\":[0.0,6.6,13.2,19.799999999999997,26.4,33.0,39.599999999999994,46.199999999999996,52.8,59.4,66.0,72.6,79.19999999999999,85.8,92.39999999999999],\"right\":[6.6,13.2,19.799999999999997,26.4,33.0,39.599999999999994,46.199999999999996,52.8,59.4,66.0,72.6,79.19999999999999,85.8,92.39999999999999,99.0],\"top\":[1466,651,823,1045,1184,2297,2297,2776,3607,6756,6755,2116,5576,4060,13125]},\"selected\":{\"id\":\"102095\",\"type\":\"Selection\"},\"selection_policy\":{\"id\":\"102094\",\"type\":\"UnionRenderers\"}},\"id\":\"101888\",\"type\":\"ColumnDataSource\"},{\"attributes\":{},\"id\":\"101875\",\"type\":\"PanTool\"},{\"attributes\":{\"overlay\":{\"id\":\"102086\",\"type\":\"BoxAnnotation\"}},\"id\":\"102065\",\"type\":\"BoxZoomTool\"},{\"attributes\":{\"items\":[{\"id\":\"101994\",\"type\":\"LegendItem\"}]},\"id\":\"101993\",\"type\":\"Legend\"},{\"attributes\":{\"text\":\"GQ Histogram for X males het\"},\"id\":\"101949\",\"type\":\"Title\"},{\"attributes\":{},\"id\":\"101878\",\"type\":\"SaveTool\"},{\"attributes\":{\"callback\":null,\"end\":103.95,\"start\":-4.95},\"id\":\"101857\",\"type\":\"Range1d\"},{\"attributes\":{\"label\":{\"value\":\"GQ\"},\"renderers\":[{\"id\":\"101891\",\"type\":\"GlyphRenderer\"}]},\"id\":\"101900\",\"type\":\"LegendItem\"},{\"attributes\":{},\"id\":\"101955\",\"type\":\"LinearScale\"},{\"attributes\":{\"items\":[{\"id\":\"102088\",\"type\":\"LegendItem\"}]},\"id\":\"102087\",\"type\":\"Legend\"},{\"attributes\":{},\"id\":\"101866\",\"type\":\"BasicTicker\"},{\"attributes\":{},\"id\":\"102104\",\"type\":\"Selection\"},{\"attributes\":{\"axis_label\":\"GQ\",\"formatter\":{\"id\":\"101990\",\"type\":\"BasicTickFormatter\"},\"ticker\":{\"id\":\"101960\",\"type\":\"BasicTicker\"}},\"id\":\"101959\",\"type\":\"LinearAxis\"},{\"attributes\":{},\"id\":\"102112\",\"type\":\"UnionRenderers\"},{\"attributes\":{},\"id\":\"102064\",\"type\":\"WheelZoomTool\"},{\"attributes\":{},\"id\":\"102103\",\"type\":\"UnionRenderers\"},{\"attributes\":{},\"id\":\"101863\",\"type\":\"LinearScale\"},{\"attributes\":{},\"id\":\"102084\",\"type\":\"BasicTickFormatter\"},{\"attributes\":{\"ticker\":{\"id\":\"101960\",\"type\":\"BasicTicker\"}},\"id\":\"101963\",\"type\":\"Grid\"},{\"attributes\":{\"callback\":null,\"end\":103.95,\"start\":-4.95},\"id\":\"101951\",\"type\":\"Range1d\"},{\"attributes\":{},\"id\":\"102121\",\"type\":\"UnionRenderers\"},{\"attributes\":{},\"id\":\"101880\",\"type\":\"HelpTool\"},{\"attributes\":{\"axis_label\":\"GQ\",\"formatter\":{\"id\":\"101896\",\"type\":\"BasicTickFormatter\"},\"ticker\":{\"id\":\"101866\",\"type\":\"BasicTicker\"}},\"id\":\"101865\",\"type\":\"LinearAxis\"},{\"attributes\":{\"axis_label\":\"Frequency\",\"formatter\":{\"id\":\"101988\",\"type\":\"BasicTickFormatter\"},\"ticker\":{\"id\":\"101965\",\"type\":\"BasicTicker\"}},\"id\":\"101964\",\"type\":\"LinearAxis\"},{\"attributes\":{\"background_fill_color\":{\"value\":\"#EEEEEE\"},\"below\":[{\"id\":\"102006\",\"type\":\"LinearAxis\"}],\"center\":[{\"id\":\"102010\",\"type\":\"Grid\"},{\"id\":\"102015\",\"type\":\"Grid\"},{\"id\":\"102040\",\"type\":\"Legend\"}],\"left\":[{\"id\":\"102011\",\"type\":\"LinearAxis\"}],\"plot_height\":500,\"plot_width\":500,\"renderers\":[{\"id\":\"102032\",\"type\":\"GlyphRenderer\"}],\"title\":{\"id\":\"101996\",\"type\":\"Title\"},\"toolbar\":{\"id\":\"102022\",\"type\":\"Toolbar\"},\"toolbar_location\":null,\"x_range\":{\"id\":\"101998\",\"type\":\"Range1d\"},\"x_scale\":{\"id\":\"102002\",\"type\":\"LinearScale\"},\"y_range\":{\"id\":\"102000\",\"type\":\"DataRange1d\"},\"y_scale\":{\"id\":\"102004\",\"type\":\"LinearScale\"}},\"id\":\"101995\",\"subtype\":\"Figure\",\"type\":\"Plot\"},{\"attributes\":{},\"id\":\"101876\",\"type\":\"WheelZoomTool\"},{\"attributes\":{\"bottom_units\":\"screen\",\"fill_alpha\":{\"value\":0.5},\"fill_color\":{\"value\":\"lightgrey\"},\"left_units\":\"screen\",\"level\":\"overlay\",\"line_alpha\":{\"value\":1.0},\"line_color\":{\"value\":\"black\"},\"line_dash\":[4,4],\"line_width\":{\"value\":2},\"render_mode\":\"css\",\"right_units\":\"screen\",\"top_units\":\"screen\"},\"id\":\"101898\",\"type\":\"BoxAnnotation\"},{\"attributes\":{},\"id\":\"102066\",\"type\":\"SaveTool\"},{\"attributes\":{},\"id\":\"102130\",\"type\":\"UnionRenderers\"},{\"attributes\":{\"active_drag\":\"auto\",\"active_inspect\":\"auto\",\"active_multi\":null,\"active_scroll\":\"auto\",\"active_tap\":\"auto\",\"tools\":[{\"id\":\"101875\",\"type\":\"PanTool\"},{\"id\":\"101876\",\"type\":\"WheelZoomTool\"},{\"id\":\"101877\",\"type\":\"BoxZoomTool\"},{\"id\":\"101878\",\"type\":\"SaveTool\"},{\"id\":\"101879\",\"type\":\"ResetTool\"},{\"id\":\"101880\",\"type\":\"HelpTool\"}]},\"id\":\"101881\",\"type\":\"Toolbar\"},{\"attributes\":{\"callback\":null},\"id\":\"101953\",\"type\":\"DataRange1d\"},{\"attributes\":{},\"id\":\"102082\",\"type\":\"BasicTickFormatter\"},{\"attributes\":{\"data_source\":{\"id\":\"101935\",\"type\":\"ColumnDataSource\"},\"glyph\":{\"id\":\"101936\",\"type\":\"Quad\"},\"hover_glyph\":null,\"muted_glyph\":null,\"nonselection_glyph\":{\"id\":\"101937\",\"type\":\"Quad\"},\"selection_glyph\":null,\"view\":{\"id\":\"101939\",\"type\":\"CDSView\"}},\"id\":\"101938\",\"type\":\"GlyphRenderer\"},{\"attributes\":{},\"id\":\"102122\",\"type\":\"Selection\"},{\"attributes\":{},\"id\":\"101894\",\"type\":\"BasicTickFormatter\"},{\"attributes\":{\"label\":{\"value\":\"GQ\"},\"renderers\":[{\"id\":\"102079\",\"type\":\"GlyphRenderer\"}]},\"id\":\"102088\",\"type\":\"LegendItem\"},{\"attributes\":{\"data_source\":{\"id\":\"101982\",\"type\":\"ColumnDataSource\"},\"glyph\":{\"id\":\"101983\",\"type\":\"Quad\"},\"hover_glyph\":null,\"muted_glyph\":null,\"nonselection_glyph\":{\"id\":\"101984\",\"type\":\"Quad\"},\"selection_glyph\":null,\"view\":{\"id\":\"101986\",\"type\":\"CDSView\"}},\"id\":\"101985\",\"type\":\"GlyphRenderer\"},{\"attributes\":{},\"id\":\"102007\",\"type\":\"BasicTicker\"},{\"attributes\":{},\"id\":\"102020\",\"type\":\"ResetTool\"},{\"attributes\":{\"dimension\":1,\"ticker\":{\"id\":\"101918\",\"type\":\"BasicTicker\"}},\"id\":\"101921\",\"type\":\"Grid\"},{\"attributes\":{},\"id\":\"101926\",\"type\":\"ResetTool\"},{\"attributes\":{},\"id\":\"101972\",\"type\":\"SaveTool\"},{\"attributes\":{\"bottom\":{\"value\":0},\"fill_color\":{\"value\":\"#1f77b4\"},\"left\":{\"field\":\"left\"},\"right\":{\"field\":\"right\"},\"top\":{\"field\":\"top\"}},\"id\":\"102077\",\"type\":\"Quad\"},{\"attributes\":{\"callback\":null,\"end\":103.95,\"start\":-4.95},\"id\":\"101904\",\"type\":\"Range1d\"},{\"attributes\":{\"source\":{\"id\":\"101982\",\"type\":\"ColumnDataSource\"}},\"id\":\"101986\",\"type\":\"CDSView\"},{\"attributes\":{\"callback\":null},\"id\":\"101906\",\"type\":\"DataRange1d\"},{\"attributes\":{\"callback\":null},\"id\":\"102000\",\"type\":\"DataRange1d\"},{\"attributes\":{},\"id\":\"101943\",\"type\":\"BasicTickFormatter\"},{\"attributes\":{\"background_fill_color\":{\"value\":\"#EEEEEE\"},\"below\":[{\"id\":\"101912\",\"type\":\"LinearAxis\"}],\"center\":[{\"id\":\"101916\",\"type\":\"Grid\"},{\"id\":\"101921\",\"type\":\"Grid\"},{\"id\":\"101946\",\"type\":\"Legend\"}],\"left\":[{\"id\":\"101917\",\"type\":\"LinearAxis\"}],\"plot_height\":500,\"plot_width\":500,\"renderers\":[{\"id\":\"101938\",\"type\":\"GlyphRenderer\"}],\"title\":{\"id\":\"101902\",\"type\":\"Title\"},\"toolbar\":{\"id\":\"101928\",\"type\":\"Toolbar\"},\"toolbar_location\":null,\"x_range\":{\"id\":\"101904\",\"type\":\"Range1d\"},\"x_scale\":{\"id\":\"101908\",\"type\":\"LinearScale\"},\"y_range\":{\"id\":\"101906\",\"type\":\"DataRange1d\"},\"y_scale\":{\"id\":\"101910\",\"type\":\"LinearScale\"}},\"id\":\"101901\",\"subtype\":\"Figure\",\"type\":\"Plot\"},{\"attributes\":{\"overlay\":{\"id\":\"101992\",\"type\":\"BoxAnnotation\"}},\"id\":\"101971\",\"type\":\"BoxZoomTool\"},{\"attributes\":{},\"id\":\"101927\",\"type\":\"HelpTool\"},{\"attributes\":{},\"id\":\"102004\",\"type\":\"LinearScale\"},{\"attributes\":{\"axis_label\":\"GQ\",\"formatter\":{\"id\":\"101943\",\"type\":\"BasicTickFormatter\"},\"ticker\":{\"id\":\"101913\",\"type\":\"BasicTicker\"}},\"id\":\"101912\",\"type\":\"LinearAxis\"},{\"attributes\":{},\"id\":\"101988\",\"type\":\"BasicTickFormatter\"},{\"attributes\":{},\"id\":\"101925\",\"type\":\"SaveTool\"},{\"attributes\":{\"label\":{\"value\":\"GQ\"},\"renderers\":[{\"id\":\"101985\",\"type\":\"GlyphRenderer\"}]},\"id\":\"101994\",\"type\":\"LegendItem\"},{\"attributes\":{},\"id\":\"101974\",\"type\":\"HelpTool\"},{\"attributes\":{\"items\":[{\"id\":\"101947\",\"type\":\"LegendItem\"}]},\"id\":\"101946\",\"type\":\"Legend\"},{\"attributes\":{\"label\":{\"value\":\"GQ\"},\"renderers\":[{\"id\":\"101938\",\"type\":\"GlyphRenderer\"}]},\"id\":\"101947\",\"type\":\"LegendItem\"},{\"attributes\":{},\"id\":\"101923\",\"type\":\"WheelZoomTool\"},{\"attributes\":{\"ticker\":{\"id\":\"102007\",\"type\":\"BasicTicker\"}},\"id\":\"102010\",\"type\":\"Grid\"},{\"attributes\":{\"callback\":null,\"data\":{\"left\":[0.0,6.6,13.2,19.799999999999997,26.4,33.0,39.599999999999994,46.199999999999996,52.8,59.4,66.0,72.6,79.19999999999999,85.8,92.39999999999999],\"right\":[6.6,13.2,19.799999999999997,26.4,33.0,39.599999999999994,46.199999999999996,52.8,59.4,66.0,72.6,79.19999999999999,85.8,92.39999999999999,99.0],\"top\":[4508,4044,5446,7106,8781,14348,8225,6445,4467,4168,1643,291,641,257,657]},\"selected\":{\"id\":\"102122\",\"type\":\"Selection\"},\"selection_policy\":{\"id\":\"102121\",\"type\":\"UnionRenderers\"}},\"id\":\"102029\",\"type\":\"ColumnDataSource\"},{\"attributes\":{\"children\":[[{\"id\":\"101854\",\"subtype\":\"Figure\",\"type\":\"Plot\"},0,0],[{\"id\":\"101901\",\"subtype\":\"Figure\",\"type\":\"Plot\"},0,1],[{\"id\":\"101948\",\"subtype\":\"Figure\",\"type\":\"Plot\"},1,0],[{\"id\":\"101995\",\"subtype\":\"Figure\",\"type\":\"Plot\"},1,1],[{\"id\":\"102042\",\"subtype\":\"Figure\",\"type\":\"Plot\"},2,0]]},\"id\":\"102134\",\"type\":\"GridBox\"},{\"attributes\":{},\"id\":\"102094\",\"type\":\"UnionRenderers\"},{\"attributes\":{\"bottom_units\":\"screen\",\"fill_alpha\":{\"value\":0.5},\"fill_color\":{\"value\":\"lightgrey\"},\"left_units\":\"screen\",\"level\":\"overlay\",\"line_alpha\":{\"value\":1.0},\"line_color\":{\"value\":\"black\"},\"line_dash\":[4,4],\"line_width\":{\"value\":2},\"render_mode\":\"css\",\"right_units\":\"screen\",\"top_units\":\"screen\"},\"id\":\"102039\",\"type\":\"BoxAnnotation\"},{\"attributes\":{\"background_fill_color\":{\"value\":\"#EEEEEE\"},\"below\":[{\"id\":\"101865\",\"type\":\"LinearAxis\"}],\"center\":[{\"id\":\"101869\",\"type\":\"Grid\"},{\"id\":\"101874\",\"type\":\"Grid\"},{\"id\":\"101899\",\"type\":\"Legend\"}],\"left\":[{\"id\":\"101870\",\"type\":\"LinearAxis\"}],\"plot_height\":500,\"plot_width\":500,\"renderers\":[{\"id\":\"101891\",\"type\":\"GlyphRenderer\"}],\"title\":{\"id\":\"101855\",\"type\":\"Title\"},\"toolbar\":{\"id\":\"101881\",\"type\":\"Toolbar\"},\"toolbar_location\":null,\"x_range\":{\"id\":\"101857\",\"type\":\"Range1d\"},\"x_scale\":{\"id\":\"101861\",\"type\":\"LinearScale\"},\"y_range\":{\"id\":\"101859\",\"type\":\"DataRange1d\"},\"y_scale\":{\"id\":\"101863\",\"type\":\"LinearScale\"}},\"id\":\"101854\",\"subtype\":\"Figure\",\"type\":\"Plot\"},{\"attributes\":{},\"id\":\"101973\",\"type\":\"ResetTool\"},{\"attributes\":{},\"id\":\"102021\",\"type\":\"HelpTool\"},{\"attributes\":{\"callback\":null},\"id\":\"101859\",\"type\":\"DataRange1d\"},{\"attributes\":{},\"id\":\"101908\",\"type\":\"LinearScale\"},{\"attributes\":{\"data_source\":{\"id\":\"102076\",\"type\":\"ColumnDataSource\"},\"glyph\":{\"id\":\"102077\",\"type\":\"Quad\"},\"hover_glyph\":null,\"muted_glyph\":null,\"nonselection_glyph\":{\"id\":\"102078\",\"type\":\"Quad\"},\"selection_glyph\":null,\"view\":{\"id\":\"102080\",\"type\":\"CDSView\"}},\"id\":\"102079\",\"type\":\"GlyphRenderer\"},{\"attributes\":{\"text\":\"GQ Histogram for filtered variants\"},\"id\":\"102043\",\"type\":\"Title\"},{\"attributes\":{\"bottom\":{\"value\":0},\"fill_color\":{\"value\":\"#1f77b4\"},\"left\":{\"field\":\"left\"},\"right\":{\"field\":\"right\"},\"top\":{\"field\":\"top\"}},\"id\":\"101889\",\"type\":\"Quad\"},{\"attributes\":{\"tools\":[{\"id\":\"101875\",\"type\":\"PanTool\"},{\"id\":\"101876\",\"type\":\"WheelZoomTool\"},{\"id\":\"101877\",\"type\":\"BoxZoomTool\"},{\"id\":\"101878\",\"type\":\"SaveTool\"},{\"id\":\"101879\",\"type\":\"ResetTool\"},{\"id\":\"101880\",\"type\":\"HelpTool\"},{\"id\":\"101922\",\"type\":\"PanTool\"},{\"id\":\"101923\",\"type\":\"WheelZoomTool\"},{\"id\":\"101924\",\"type\":\"BoxZoomTool\"},{\"id\":\"101925\",\"type\":\"SaveTool\"},{\"id\":\"101926\",\"type\":\"ResetTool\"},{\"id\":\"101927\",\"type\":\"HelpTool\"},{\"id\":\"101969\",\"type\":\"PanTool\"},{\"id\":\"101970\",\"type\":\"WheelZoomTool\"},{\"id\":\"101971\",\"type\":\"BoxZoomTool\"},{\"id\":\"101972\",\"type\":\"SaveTool\"},{\"id\":\"101973\",\"type\":\"ResetTool\"},{\"id\":\"101974\",\"type\":\"HelpTool\"},{\"id\":\"102016\",\"type\":\"PanTool\"},{\"id\":\"102017\",\"type\":\"WheelZoomTool\"},{\"id\":\"102018\",\"type\":\"BoxZoomTool\"},{\"id\":\"102019\",\"type\":\"SaveTool\"},{\"id\":\"102020\",\"type\":\"ResetTool\"},{\"id\":\"102021\",\"type\":\"HelpTool\"},{\"id\":\"102063\",\"type\":\"PanTool\"},{\"id\":\"102064\",\"type\":\"WheelZoomTool\"},{\"id\":\"102065\",\"type\":\"BoxZoomTool\"},{\"id\":\"102066\",\"type\":\"SaveTool\"},{\"id\":\"102067\",\"type\":\"ResetTool\"},{\"id\":\"102068\",\"type\":\"HelpTool\"}]},\"id\":\"102135\",\"type\":\"ProxyToolbar\"},{\"attributes\":{\"callback\":null,\"end\":103.95,\"start\":-4.95},\"id\":\"102045\",\"type\":\"Range1d\"},{\"attributes\":{},\"id\":\"102012\",\"type\":\"BasicTicker\"},{\"attributes\":{\"axis_label\":\"Frequency\",\"formatter\":{\"id\":\"101941\",\"type\":\"BasicTickFormatter\"},\"ticker\":{\"id\":\"101918\",\"type\":\"BasicTicker\"}},\"id\":\"101917\",\"type\":\"LinearAxis\"},{\"attributes\":{\"bottom\":{\"value\":0},\"fill_alpha\":{\"value\":0.1},\"fill_color\":{\"value\":\"#1f77b4\"},\"left\":{\"field\":\"left\"},\"line_alpha\":{\"value\":0.1},\"line_color\":{\"value\":\"#1f77b4\"},\"right\":{\"field\":\"right\"},\"top\":{\"field\":\"top\"}},\"id\":\"101984\",\"type\":\"Quad\"},{\"attributes\":{\"bottom\":{\"value\":0},\"fill_alpha\":{\"value\":0.1},\"fill_color\":{\"value\":\"#1f77b4\"},\"left\":{\"field\":\"left\"},\"line_alpha\":{\"value\":0.1},\"line_color\":{\"value\":\"#1f77b4\"},\"right\":{\"field\":\"right\"},\"top\":{\"field\":\"top\"}},\"id\":\"102031\",\"type\":\"Quad\"},{\"attributes\":{\"items\":[{\"id\":\"102041\",\"type\":\"LegendItem\"}]},\"id\":\"102040\",\"type\":\"Legend\"},{\"attributes\":{\"label\":{\"value\":\"GQ\"},\"renderers\":[{\"id\":\"102032\",\"type\":\"GlyphRenderer\"}]},\"id\":\"102041\",\"type\":\"LegendItem\"},{\"attributes\":{\"callback\":null,\"data\":{\"left\":[0.0,6.6,13.2,19.799999999999997,26.4,33.0,39.599999999999994,46.199999999999996,52.8,59.4,66.0,72.6,79.19999999999999,85.8,92.39999999999999],\"right\":[6.6,13.2,19.799999999999997,26.4,33.0,39.599999999999994,46.199999999999996,52.8,59.4,66.0,72.6,79.19999999999999,85.8,92.39999999999999,99.0],\"top\":[7810,5804,7210,9024,10926,17327,9953,7747,5605,5341,2417,555,1129,596,2919]},\"selected\":{\"id\":\"102104\",\"type\":\"Selection\"},\"selection_policy\":{\"id\":\"102103\",\"type\":\"UnionRenderers\"}},\"id\":\"101935\",\"type\":\"ColumnDataSource\"},{\"attributes\":{\"bottom\":{\"value\":0},\"fill_alpha\":{\"value\":0.1},\"fill_color\":{\"value\":\"#1f77b4\"},\"left\":{\"field\":\"left\"},\"line_alpha\":{\"value\":0.1},\"line_color\":{\"value\":\"#1f77b4\"},\"right\":{\"field\":\"right\"},\"top\":{\"field\":\"top\"}},\"id\":\"102078\",\"type\":\"Quad\"},{\"attributes\":{\"axis_label\":\"Frequency\",\"formatter\":{\"id\":\"102082\",\"type\":\"BasicTickFormatter\"},\"ticker\":{\"id\":\"102059\",\"type\":\"BasicTicker\"}},\"id\":\"102058\",\"type\":\"LinearAxis\"},{\"attributes\":{},\"id\":\"102016\",\"type\":\"PanTool\"},{\"attributes\":{\"axis_label\":\"Frequency\",\"formatter\":{\"id\":\"102035\",\"type\":\"BasicTickFormatter\"},\"ticker\":{\"id\":\"102012\",\"type\":\"BasicTicker\"}},\"id\":\"102011\",\"type\":\"LinearAxis\"},{\"attributes\":{},\"id\":\"101910\",\"type\":\"LinearScale\"},{\"attributes\":{},\"id\":\"101990\",\"type\":\"BasicTickFormatter\"},{\"attributes\":{\"dimension\":1,\"ticker\":{\"id\":\"102059\",\"type\":\"BasicTicker\"}},\"id\":\"102062\",\"type\":\"Grid\"},{\"attributes\":{},\"id\":\"101913\",\"type\":\"BasicTicker\"},{\"attributes\":{\"active_drag\":\"auto\",\"active_inspect\":\"auto\",\"active_multi\":null,\"active_scroll\":\"auto\",\"active_tap\":\"auto\",\"tools\":[{\"id\":\"102016\",\"type\":\"PanTool\"},{\"id\":\"102017\",\"type\":\"WheelZoomTool\"},{\"id\":\"102018\",\"type\":\"BoxZoomTool\"},{\"id\":\"102019\",\"type\":\"SaveTool\"},{\"id\":\"102020\",\"type\":\"ResetTool\"},{\"id\":\"102021\",\"type\":\"HelpTool\"}]},\"id\":\"102022\",\"type\":\"Toolbar\"},{\"attributes\":{\"axis_label\":\"GQ\",\"formatter\":{\"id\":\"102084\",\"type\":\"BasicTickFormatter\"},\"ticker\":{\"id\":\"102054\",\"type\":\"BasicTicker\"}},\"id\":\"102053\",\"type\":\"LinearAxis\"},{\"attributes\":{\"overlay\":{\"id\":\"102039\",\"type\":\"BoxAnnotation\"}},\"id\":\"102018\",\"type\":\"BoxZoomTool\"},{\"attributes\":{\"bottom\":{\"value\":0},\"fill_alpha\":{\"value\":0.1},\"fill_color\":{\"value\":\"#1f77b4\"},\"left\":{\"field\":\"left\"},\"line_alpha\":{\"value\":0.1},\"line_color\":{\"value\":\"#1f77b4\"},\"right\":{\"field\":\"right\"},\"top\":{\"field\":\"top\"}},\"id\":\"101937\",\"type\":\"Quad\"},{\"attributes\":{\"axis_label\":\"GQ\",\"formatter\":{\"id\":\"102037\",\"type\":\"BasicTickFormatter\"},\"ticker\":{\"id\":\"102007\",\"type\":\"BasicTicker\"}},\"id\":\"102006\",\"type\":\"LinearAxis\"},{\"attributes\":{},\"id\":\"102059\",\"type\":\"BasicTicker\"},{\"attributes\":{},\"id\":\"102002\",\"type\":\"LinearScale\"},{\"attributes\":{},\"id\":\"102051\",\"type\":\"LinearScale\"},{\"attributes\":{\"bottom_units\":\"screen\",\"fill_alpha\":{\"value\":0.5},\"fill_color\":{\"value\":\"lightgrey\"},\"left_units\":\"screen\",\"level\":\"overlay\",\"line_alpha\":{\"value\":1.0},\"line_color\":{\"value\":\"black\"},\"line_dash\":[4,4],\"line_width\":{\"value\":2},\"render_mode\":\"css\",\"right_units\":\"screen\",\"top_units\":\"screen\"},\"id\":\"101992\",\"type\":\"BoxAnnotation\"},{\"attributes\":{\"callback\":null},\"id\":\"102047\",\"type\":\"DataRange1d\"},{\"attributes\":{\"source\":{\"id\":\"102029\",\"type\":\"ColumnDataSource\"}},\"id\":\"102033\",\"type\":\"CDSView\"},{\"attributes\":{\"callback\":null,\"data\":{\"left\":[0.0,6.6,13.2,19.799999999999997,26.4,33.0,39.599999999999994,46.199999999999996,52.8,59.4,66.0,72.6,79.19999999999999,85.8,92.39999999999999],\"right\":[6.6,13.2,19.799999999999997,26.4,33.0,39.599999999999994,46.199999999999996,52.8,59.4,66.0,72.6,79.19999999999999,85.8,92.39999999999999,99.0],\"top\":[121,123,98,109,126,217,213,218,286,477,456,143,381,304,1098]},\"selected\":{\"id\":\"102131\",\"type\":\"Selection\"},\"selection_policy\":{\"id\":\"102130\",\"type\":\"UnionRenderers\"}},\"id\":\"102076\",\"type\":\"ColumnDataSource\"},{\"attributes\":{},\"id\":\"101969\",\"type\":\"PanTool\"},{\"attributes\":{},\"id\":\"102131\",\"type\":\"Selection\"},{\"attributes\":{\"bottom\":{\"value\":0},\"fill_color\":{\"value\":\"#1f77b4\"},\"left\":{\"field\":\"left\"},\"right\":{\"field\":\"right\"},\"top\":{\"field\":\"top\"}},\"id\":\"101936\",\"type\":\"Quad\"},{\"attributes\":{\"source\":{\"id\":\"102076\",\"type\":\"ColumnDataSource\"}},\"id\":\"102080\",\"type\":\"CDSView\"},{\"attributes\":{},\"id\":\"101941\",\"type\":\"BasicTickFormatter\"},{\"attributes\":{},\"id\":\"101918\",\"type\":\"BasicTicker\"},{\"attributes\":{},\"id\":\"102037\",\"type\":\"BasicTickFormatter\"},{\"attributes\":{\"callback\":null,\"end\":103.95,\"start\":-4.95},\"id\":\"101998\",\"type\":\"Range1d\"},{\"attributes\":{\"ticker\":{\"id\":\"101913\",\"type\":\"BasicTicker\"}},\"id\":\"101916\",\"type\":\"Grid\"},{\"attributes\":{\"ticker\":{\"id\":\"102054\",\"type\":\"BasicTicker\"}},\"id\":\"102057\",\"type\":\"Grid\"},{\"attributes\":{\"bottom_units\":\"screen\",\"fill_alpha\":{\"value\":0.5},\"fill_color\":{\"value\":\"lightgrey\"},\"left_units\":\"screen\",\"level\":\"overlay\",\"line_alpha\":{\"value\":1.0},\"line_color\":{\"value\":\"black\"},\"line_dash\":[4,4],\"line_width\":{\"value\":2},\"render_mode\":\"css\",\"right_units\":\"screen\",\"top_units\":\"screen\"},\"id\":\"101945\",\"type\":\"BoxAnnotation\"},{\"attributes\":{\"callback\":null,\"data\":{\"left\":[0.0,6.6,13.2,19.799999999999997,26.4,33.0,39.599999999999994,46.199999999999996,52.8,59.4,66.0,72.6,79.19999999999999,85.8,92.39999999999999],\"right\":[6.6,13.2,19.799999999999997,26.4,33.0,39.599999999999994,46.199999999999996,52.8,59.4,66.0,72.6,79.19999999999999,85.8,92.39999999999999,99.0],\"top\":[3302,1760,1764,1918,2145,2979,1728,1302,1138,1173,774,264,488,339,2262]},\"selected\":{\"id\":\"102113\",\"type\":\"Selection\"},\"selection_policy\":{\"id\":\"102112\",\"type\":\"UnionRenderers\"}},\"id\":\"101982\",\"type\":\"ColumnDataSource\"},{\"attributes\":{},\"id\":\"102049\",\"type\":\"LinearScale\"},{\"attributes\":{},\"id\":\"102017\",\"type\":\"WheelZoomTool\"},{\"attributes\":{\"data_source\":{\"id\":\"102029\",\"type\":\"ColumnDataSource\"},\"glyph\":{\"id\":\"102030\",\"type\":\"Quad\"},\"hover_glyph\":null,\"muted_glyph\":null,\"nonselection_glyph\":{\"id\":\"102031\",\"type\":\"Quad\"},\"selection_glyph\":null,\"view\":{\"id\":\"102033\",\"type\":\"CDSView\"}},\"id\":\"102032\",\"type\":\"GlyphRenderer\"},{\"attributes\":{},\"id\":\"102019\",\"type\":\"SaveTool\"},{\"attributes\":{},\"id\":\"102063\",\"type\":\"PanTool\"},{\"attributes\":{\"active_drag\":\"auto\",\"active_inspect\":\"auto\",\"active_multi\":null,\"active_scroll\":\"auto\",\"active_tap\":\"auto\",\"tools\":[{\"id\":\"101969\",\"type\":\"PanTool\"},{\"id\":\"101970\",\"type\":\"WheelZoomTool\"},{\"id\":\"101971\",\"type\":\"BoxZoomTool\"},{\"id\":\"101972\",\"type\":\"SaveTool\"},{\"id\":\"101973\",\"type\":\"ResetTool\"},{\"id\":\"101974\",\"type\":\"HelpTool\"}]},\"id\":\"101975\",\"type\":\"Toolbar\"},{\"attributes\":{},\"id\":\"101970\",\"type\":\"WheelZoomTool\"},{\"attributes\":{\"bottom\":{\"value\":0},\"fill_color\":{\"value\":\"#1f77b4\"},\"left\":{\"field\":\"left\"},\"right\":{\"field\":\"right\"},\"top\":{\"field\":\"top\"}},\"id\":\"101983\",\"type\":\"Quad\"},{\"attributes\":{},\"id\":\"102035\",\"type\":\"BasicTickFormatter\"},{\"attributes\":{},\"id\":\"102095\",\"type\":\"Selection\"},{\"attributes\":{\"text\":\"GQ Histogram for X males\"},\"id\":\"101902\",\"type\":\"Title\"},{\"attributes\":{\"toolbar\":{\"id\":\"102135\",\"type\":\"ProxyToolbar\"},\"toolbar_location\":\"above\"},\"id\":\"102136\",\"type\":\"ToolbarBox\"},{\"attributes\":{\"source\":{\"id\":\"101935\",\"type\":\"ColumnDataSource\"}},\"id\":\"101939\",\"type\":\"CDSView\"},{\"attributes\":{\"background_fill_color\":{\"value\":\"#EEEEEE\"},\"below\":[{\"id\":\"102053\",\"type\":\"LinearAxis\"}],\"center\":[{\"id\":\"102057\",\"type\":\"Grid\"},{\"id\":\"102062\",\"type\":\"Grid\"},{\"id\":\"102087\",\"type\":\"Legend\"}],\"left\":[{\"id\":\"102058\",\"type\":\"LinearAxis\"}],\"plot_height\":500,\"plot_width\":500,\"renderers\":[{\"id\":\"102079\",\"type\":\"GlyphRenderer\"}],\"title\":{\"id\":\"102043\",\"type\":\"Title\"},\"toolbar\":{\"id\":\"102069\",\"type\":\"Toolbar\"},\"toolbar_location\":null,\"x_range\":{\"id\":\"102045\",\"type\":\"Range1d\"},\"x_scale\":{\"id\":\"102049\",\"type\":\"LinearScale\"},\"y_range\":{\"id\":\"102047\",\"type\":\"DataRange1d\"},\"y_scale\":{\"id\":\"102051\",\"type\":\"LinearScale\"}},\"id\":\"102042\",\"subtype\":\"Figure\",\"type\":\"Plot\"},{\"attributes\":{\"text\":\"GQ Histogram for X males homs\"},\"id\":\"101996\",\"type\":\"Title\"},{\"attributes\":{},\"id\":\"102054\",\"type\":\"BasicTicker\"},{\"attributes\":{\"dimension\":1,\"ticker\":{\"id\":\"102012\",\"type\":\"BasicTicker\"}},\"id\":\"102015\",\"type\":\"Grid\"},{\"attributes\":{\"overlay\":{\"id\":\"101945\",\"type\":\"BoxAnnotation\"}},\"id\":\"101924\",\"type\":\"BoxZoomTool\"},{\"attributes\":{},\"id\":\"101922\",\"type\":\"PanTool\"}],\"root_ids\":[\"102137\"]},\"title\":\"Bokeh Application\",\"version\":\"1.2.0\"}};\n",
       "  var render_items = [{\"docid\":\"8bcc4a46-9e98-477c-b240-d9c3a9d5f460\",\"roots\":{\"102137\":\"3abe4939-57cd-412a-bc89-2a8e9d39d5c9\"}}];\n",
       "  root.Bokeh.embed.embed_items_notebook(docs_json, render_items);\n",
       "\n",
       "  }\n",
       "  if (root.Bokeh !== undefined) {\n",
       "    embed_document(root);\n",
       "  } else {\n",
       "    var attempts = 0;\n",
       "    var timer = setInterval(function(root) {\n",
       "      if (root.Bokeh !== undefined) {\n",
       "        embed_document(root);\n",
       "        clearInterval(timer);\n",
       "      }\n",
       "      attempts++;\n",
       "      if (attempts > 100) {\n",
       "        console.log(\"Bokeh: ERROR: Unable to run BokehJS code because BokehJS library is missing\");\n",
       "        clearInterval(timer);\n",
       "      }\n",
       "    }, 10, root)\n",
       "  }\n",
       "})(window);"
      ],
      "application/vnd.bokehjs_exec.v0+json": ""
     },
     "metadata": {
      "application/vnd.bokehjs_exec.v0+json": {
       "id": "102137"
      }
     },
     "output_type": "display_data"
    }
   ],
   "source": [
    "p1 = hl.plot.histogram(mt_X_f.GQ, range=(0,99), bins=15, title='GQ Histogram for X females', legend='GQ')\n",
    "p2 = hl.plot.histogram(mt_X_m.GQ, range=(0,99), bins=15, title='GQ Histogram for X males', legend='GQ')\n",
    "p3 = hl.plot.histogram(mt_X_m_hets.GQ, range=(0,99), bins=15, title='GQ Histogram for X males het', legend='GQ')\n",
    "p4 = hl.plot.histogram(mt_X_m_homs.GQ, range=(0,99), bins=15, title='GQ Histogram for X males homs', legend='GQ')\n",
    "p5 = hl.plot.histogram(mt_f.GQ, range=(0,99), bins=15, title='GQ Histogram for filtered variants', legend='GQ')\n",
    "\n",
    "show(gridplot([p1, p2, p3, p4, p5], ncols=2, plot_width=500, plot_height=500))"
   ]
  },
  {
   "cell_type": "code",
   "execution_count": 1528,
   "metadata": {},
   "outputs": [],
   "source": [
    "mt_p_X = mt_p.filter_rows(mt_p.locus.contig == \"chrX\")\n",
    "mt_c_X = mt_c.filter_rows(mt_c.locus.contig == \"chrX\")"
   ]
  },
  {
   "cell_type": "code",
   "execution_count": 1529,
   "metadata": {},
   "outputs": [],
   "source": [
    "AF_nfe = hl.float64(hl.delimit(mt_p_X.info.ISEQ_GNOMAD_GENOMES_V3_AF_nfe))\n",
    "mt_p_X = mt_p_X.filter_rows(AF_nfe < 0.0001)"
   ]
  },
  {
   "cell_type": "code",
   "execution_count": 1530,
   "metadata": {},
   "outputs": [],
   "source": [
    "AF_nfe = hl.float64(hl.delimit(mt_c_X.info.ISEQ_GNOMAD_GENOMES_V3_AF_nfe))\n",
    "mt_c_X = mt_c_X.filter_rows(AF_nfe < 0.0001)"
   ]
  },
  {
   "cell_type": "code",
   "execution_count": 1531,
   "metadata": {},
   "outputs": [
    {
     "name": "stderr",
     "output_type": "stream",
     "text": [
      "2019-12-02 16:03:56 Hail: INFO: reading 4 of 116 data partitions\n"
     ]
    },
    {
     "data": {
      "text/plain": [
       "(97, 47)"
      ]
     },
     "execution_count": 1531,
     "metadata": {},
     "output_type": "execute_result"
    }
   ],
   "source": [
    "mt_c_X.count()"
   ]
  },
  {
   "cell_type": "markdown",
   "metadata": {},
   "source": [
    "filter out patients without any variants:"
   ]
  },
  {
   "cell_type": "code",
   "execution_count": 1534,
   "metadata": {},
   "outputs": [],
   "source": [
    "mt_p_X = mt_p_X.filter_cols(hl.agg.any(mt_p_X.GT.is_non_ref()))"
   ]
  },
  {
   "cell_type": "code",
   "execution_count": 1535,
   "metadata": {},
   "outputs": [
    {
     "name": "stderr",
     "output_type": "stream",
     "text": [
      "2019-12-02 16:04:40 Hail: INFO: reading 4 of 116 data partitions\n",
      "2019-12-02 16:04:41 Hail: INFO: reading 4 of 116 data partitions\n"
     ]
    },
    {
     "data": {
      "text/plain": [
       "(130, 84)"
      ]
     },
     "execution_count": 1535,
     "metadata": {},
     "output_type": "execute_result"
    }
   ],
   "source": [
    "mt_p_X.count() #all have at least one"
   ]
  },
  {
   "cell_type": "markdown",
   "metadata": {},
   "source": [
    "filter out variants that occur in controls:"
   ]
  },
  {
   "cell_type": "code",
   "execution_count": 1536,
   "metadata": {},
   "outputs": [],
   "source": [
    "mt_p_X = mt_p_X.anti_join_rows(mt_c_X.rows())"
   ]
  },
  {
   "cell_type": "code",
   "execution_count": 1539,
   "metadata": {},
   "outputs": [
    {
     "name": "stderr",
     "output_type": "stream",
     "text": [
      "2019-12-02 16:07:13 Hail: INFO: reading 4 of 116 data partitions\n",
      "2019-12-02 16:07:13 Hail: INFO: reading 4 of 116 data partitions\n"
     ]
    },
    {
     "data": {
      "text/plain": [
       "{'KLHL34': 1,\n",
       " 'VCX2': 7,\n",
       " 'ARL13A': 1,\n",
       " 'SHOX': 1,\n",
       " 'CT55': 1,\n",
       " 'ZNF185': 2,\n",
       " 'GABRA3': 1,\n",
       " 'TIMP1': 1,\n",
       " 'PHF8': 1,\n",
       " 'CAPN6': 1,\n",
       " 'MED12': 1,\n",
       " 'TENM1': 1,\n",
       " 'KIAA1210': 1,\n",
       " 'CXorf23': 1,\n",
       " 'GAGE2A': 1,\n",
       " 'PFKFB1': 1,\n",
       " 'HCFC1': 1,\n",
       " 'IL13RA2': 1,\n",
       " 'PNCK': 2,\n",
       " 'BGN': 1,\n",
       " 'G6PD': 1,\n",
       " 'FOXO4': 1,\n",
       " 'SHROOM2': 2,\n",
       " 'MAGIX': 1,\n",
       " 'IQSEC2': 1,\n",
       " 'PPP2R3B': 1,\n",
       " 'TLR8': 2,\n",
       " 'H2BFM': 1,\n",
       " 'TSPYL2': 1,\n",
       " 'GDI1': 1,\n",
       " 'RP11-402P6.15': 4,\n",
       " 'ZMAT1': 1,\n",
       " 'ZXDA': 1,\n",
       " 'SSX1': 1,\n",
       " 'SLC25A5': 1,\n",
       " 'MAGEC1': 1,\n",
       " 'SLC25A53': 1,\n",
       " 'FAM9A': 1,\n",
       " 'ZIC3': 1,\n",
       " 'RGN': 1,\n",
       " 'GYG2': 1,\n",
       " 'AMER1': 1,\n",
       " 'GRIA3': 1,\n",
       " 'MTMR1': 1,\n",
       " 'ARHGAP6': 1,\n",
       " 'ZNF41': 2,\n",
       " 'ZXDB': 1,\n",
       " 'RBMXL3': 3,\n",
       " 'NXT2': 1,\n",
       " 'BCOR': 1,\n",
       " 'MAGEA8': 1,\n",
       " 'RP3-358H7.1': 1,\n",
       " 'USP26': 1,\n",
       " 'FOXP3': 1,\n",
       " 'ZMYM3': 1,\n",
       " 'WASH6P': 1,\n",
       " 'GABRE': 1}"
      ]
     },
     "execution_count": 1539,
     "metadata": {},
     "output_type": "execute_result"
    }
   ],
   "source": [
    "mt_p_X.aggregate_rows(hl.agg.explode(lambda element: hl.agg.counter(element), mt_p_X.info.ISEQ_GENES_NAMES))"
   ]
  },
  {
   "cell_type": "code",
   "execution_count": 1613,
   "metadata": {},
   "outputs": [],
   "source": [
    "p = mt_p_X.filter_cols(hl.agg.any(mt_p_X.GT.is_non_ref()))\n",
    "summary = dict()\n",
    "fields = [p.s, p.locus, p.GT, p.GQ, p.DP, p.rsid, p.alleles, p.phenotypes.family, p.phenotypes.sex, p.phenotypes.kinship,\n",
    "          p.phenotypes.add_pheno, p.phenotypes.heavy_tics , p.info.ISEQ_GNOMAD_GENOMES_V3_AF_nfe, \n",
    "          p.info.ISEQ_GENES_NAMES, p.info.ISEQ_CLINVAR_ALLELE_ID, p.info.ISEQ_CLINVAR_DISEASES, \n",
    "          p.info.ISEQ_HPO_INHERITANCE, p.info.ISEQ_HPO_PHENOTYPES, p.info.ISEQ_HPO_DISEASES,\n",
    "          p.info.ISEQ_AGGREGATED_CLINVAR_SIGNIFICANCE, p.info.ANN]\n",
    "field_names = ['sample', 'locus', 'genotype', 'GQ', 'DP',\n",
    "               'rsid', 'alleles', 'family', 'sex', 'kinship', 'additional_pheno', 'heavy_tics', \n",
    "               'GNOMAD_V3_AF_non_finn_eur', 'Gene', 'CLINVAR_ALLELE_ID', 'CLINVAR_DISEASES', 'HPO_INHERITANCE', \n",
    "               'HPO_PHENOTYPES', 'HPO_DISEASES',\n",
    "               'AGGREGATED_CLINVAR_SIGNIFICANCE', 'SnpEff']"
   ]
  },
  {
   "cell_type": "code",
   "execution_count": 1614,
   "metadata": {},
   "outputs": [
    {
     "name": "stderr",
     "output_type": "stream",
     "text": [
      "2019-12-03 11:36:21 Hail: INFO: reading 4 of 116 data partitions\n",
      "2019-12-03 11:36:21 Hail: INFO: reading 4 of 116 data partitions\n",
      "2019-12-03 11:36:22 Hail: INFO: reading 4 of 116 data partitions\n",
      "2019-12-03 11:36:22 Hail: INFO: reading 4 of 116 data partitions\n",
      "2019-12-03 11:36:22 Hail: INFO: reading 4 of 116 data partitions\n",
      "2019-12-03 11:36:23 Hail: INFO: reading 4 of 116 data partitions\n",
      "2019-12-03 11:36:24 Hail: INFO: reading 4 of 116 data partitions\n",
      "2019-12-03 11:36:24 Hail: INFO: reading 4 of 116 data partitions\n",
      "2019-12-03 11:36:24 Hail: INFO: reading 4 of 116 data partitions\n",
      "2019-12-03 11:36:25 Hail: INFO: reading 4 of 116 data partitions\n",
      "2019-12-03 11:36:26 Hail: INFO: reading 4 of 116 data partitions\n",
      "2019-12-03 11:36:27 Hail: INFO: reading 4 of 116 data partitions\n",
      "2019-12-03 11:36:27 Hail: INFO: reading 4 of 116 data partitions\n",
      "2019-12-03 11:36:27 Hail: INFO: reading 4 of 116 data partitions\n",
      "2019-12-03 11:36:27 Hail: INFO: reading 4 of 116 data partitions\n",
      "2019-12-03 11:36:29 Hail: INFO: reading 4 of 116 data partitions\n",
      "2019-12-03 11:36:29 Hail: INFO: reading 4 of 116 data partitions\n",
      "2019-12-03 11:36:30 Hail: INFO: reading 4 of 116 data partitions\n",
      "2019-12-03 11:36:30 Hail: INFO: reading 4 of 116 data partitions\n",
      "2019-12-03 11:36:30 Hail: INFO: reading 4 of 116 data partitions\n",
      "2019-12-03 11:36:32 Hail: INFO: reading 4 of 116 data partitions\n",
      "2019-12-03 11:36:32 Hail: INFO: reading 4 of 116 data partitions\n",
      "2019-12-03 11:36:32 Hail: INFO: reading 4 of 116 data partitions\n",
      "2019-12-03 11:36:33 Hail: INFO: reading 4 of 116 data partitions\n",
      "2019-12-03 11:36:33 Hail: INFO: reading 4 of 116 data partitions\n",
      "2019-12-03 11:36:34 Hail: INFO: reading 4 of 116 data partitions\n",
      "2019-12-03 11:36:35 Hail: INFO: reading 4 of 116 data partitions\n",
      "2019-12-03 11:36:35 Hail: INFO: reading 4 of 116 data partitions\n",
      "2019-12-03 11:36:35 Hail: INFO: reading 4 of 116 data partitions\n",
      "2019-12-03 11:36:36 Hail: INFO: reading 4 of 116 data partitions\n",
      "2019-12-03 11:36:37 Hail: INFO: reading 4 of 116 data partitions\n",
      "2019-12-03 11:36:38 Hail: INFO: reading 4 of 116 data partitions\n",
      "2019-12-03 11:36:38 Hail: INFO: reading 4 of 116 data partitions\n",
      "2019-12-03 11:36:38 Hail: INFO: reading 4 of 116 data partitions\n",
      "2019-12-03 11:36:38 Hail: INFO: reading 4 of 116 data partitions\n",
      "2019-12-03 11:36:40 Hail: INFO: reading 4 of 116 data partitions\n",
      "2019-12-03 11:36:42 Hail: INFO: reading 4 of 116 data partitions\n",
      "2019-12-03 11:36:42 Hail: INFO: reading 4 of 116 data partitions\n",
      "2019-12-03 11:36:45 Hail: INFO: reading 4 of 116 data partitions\n",
      "2019-12-03 11:36:46 Hail: INFO: reading 4 of 116 data partitions\n",
      "2019-12-03 11:36:48 Hail: INFO: reading 4 of 116 data partitions\n",
      "2019-12-03 11:36:48 Hail: INFO: reading 4 of 116 data partitions\n",
      "2019-12-03 11:36:49 Hail: INFO: reading 4 of 116 data partitions\n",
      "2019-12-03 11:36:49 Hail: INFO: reading 4 of 116 data partitions\n",
      "2019-12-03 11:36:49 Hail: INFO: reading 4 of 116 data partitions\n",
      "2019-12-03 11:36:51 Hail: INFO: reading 4 of 116 data partitions\n",
      "2019-12-03 11:36:51 Hail: INFO: reading 4 of 116 data partitions\n",
      "2019-12-03 11:36:52 Hail: INFO: reading 4 of 116 data partitions\n",
      "2019-12-03 11:36:52 Hail: INFO: reading 4 of 116 data partitions\n",
      "2019-12-03 11:36:52 Hail: INFO: reading 4 of 116 data partitions\n",
      "2019-12-03 11:36:54 Hail: INFO: reading 4 of 116 data partitions\n",
      "2019-12-03 11:36:54 Hail: INFO: reading 4 of 116 data partitions\n",
      "2019-12-03 11:36:55 Hail: INFO: reading 4 of 116 data partitions\n",
      "2019-12-03 11:36:55 Hail: INFO: reading 4 of 116 data partitions\n",
      "2019-12-03 11:36:55 Hail: INFO: reading 4 of 116 data partitions\n",
      "2019-12-03 11:36:57 Hail: INFO: reading 4 of 116 data partitions\n",
      "2019-12-03 11:36:57 Hail: INFO: reading 4 of 116 data partitions\n",
      "2019-12-03 11:36:58 Hail: INFO: reading 4 of 116 data partitions\n",
      "2019-12-03 11:36:58 Hail: INFO: reading 4 of 116 data partitions\n",
      "2019-12-03 11:36:58 Hail: INFO: reading 4 of 116 data partitions\n",
      "2019-12-03 11:37:00 Hail: INFO: reading 4 of 116 data partitions\n",
      "2019-12-03 11:37:00 Hail: INFO: reading 4 of 116 data partitions\n",
      "2019-12-03 11:37:00 Hail: INFO: reading 4 of 116 data partitions\n",
      "2019-12-03 11:37:01 Hail: INFO: reading 4 of 116 data partitions\n",
      "2019-12-03 11:37:01 Hail: INFO: reading 4 of 116 data partitions\n",
      "2019-12-03 11:37:03 Hail: INFO: reading 4 of 116 data partitions\n",
      "2019-12-03 11:37:03 Hail: INFO: reading 4 of 116 data partitions\n",
      "2019-12-03 11:37:03 Hail: INFO: reading 4 of 116 data partitions\n",
      "2019-12-03 11:37:04 Hail: INFO: reading 4 of 116 data partitions\n",
      "2019-12-03 11:37:04 Hail: INFO: reading 4 of 116 data partitions\n",
      "2019-12-03 11:37:05 Hail: INFO: reading 4 of 116 data partitions\n",
      "2019-12-03 11:37:06 Hail: INFO: reading 4 of 116 data partitions\n",
      "2019-12-03 11:37:06 Hail: INFO: reading 4 of 116 data partitions\n",
      "2019-12-03 11:37:06 Hail: INFO: reading 4 of 116 data partitions\n",
      "2019-12-03 11:37:07 Hail: INFO: reading 4 of 116 data partitions\n",
      "2019-12-03 11:37:08 Hail: INFO: reading 4 of 116 data partitions\n",
      "2019-12-03 11:37:09 Hail: INFO: reading 4 of 116 data partitions\n",
      "2019-12-03 11:37:09 Hail: INFO: reading 4 of 116 data partitions\n",
      "2019-12-03 11:37:09 Hail: INFO: reading 4 of 116 data partitions\n",
      "2019-12-03 11:37:09 Hail: INFO: reading 4 of 116 data partitions\n",
      "2019-12-03 11:37:11 Hail: INFO: reading 4 of 116 data partitions\n",
      "2019-12-03 11:37:11 Hail: INFO: reading 4 of 116 data partitions\n",
      "2019-12-03 11:37:12 Hail: INFO: reading 4 of 116 data partitions\n",
      "2019-12-03 11:37:12 Hail: INFO: reading 4 of 116 data partitions\n",
      "2019-12-03 11:37:12 Hail: INFO: reading 4 of 116 data partitions\n",
      "2019-12-03 11:37:14 Hail: INFO: reading 4 of 116 data partitions\n",
      "2019-12-03 11:37:14 Hail: INFO: reading 4 of 116 data partitions\n",
      "2019-12-03 11:37:14 Hail: INFO: reading 4 of 116 data partitions\n",
      "2019-12-03 11:37:15 Hail: INFO: reading 4 of 116 data partitions\n",
      "2019-12-03 11:37:15 Hail: INFO: reading 4 of 116 data partitions\n",
      "2019-12-03 11:37:16 Hail: INFO: reading 4 of 116 data partitions\n",
      "2019-12-03 11:37:17 Hail: INFO: reading 4 of 116 data partitions\n",
      "2019-12-03 11:37:17 Hail: INFO: reading 4 of 116 data partitions\n",
      "2019-12-03 11:37:17 Hail: INFO: reading 4 of 116 data partitions\n",
      "2019-12-03 11:37:18 Hail: INFO: reading 4 of 116 data partitions\n",
      "2019-12-03 11:37:19 Hail: INFO: reading 4 of 116 data partitions\n",
      "2019-12-03 11:37:20 Hail: INFO: reading 4 of 116 data partitions\n",
      "2019-12-03 11:37:20 Hail: INFO: reading 4 of 116 data partitions\n",
      "2019-12-03 11:37:20 Hail: INFO: reading 4 of 116 data partitions\n",
      "2019-12-03 11:37:20 Hail: INFO: reading 4 of 116 data partitions\n",
      "2019-12-03 11:37:22 Hail: INFO: reading 4 of 116 data partitions\n",
      "2019-12-03 11:37:22 Hail: INFO: reading 4 of 116 data partitions\n",
      "2019-12-03 11:37:23 Hail: INFO: reading 4 of 116 data partitions\n",
      "2019-12-03 11:37:23 Hail: INFO: reading 4 of 116 data partitions\n",
      "2019-12-03 11:37:23 Hail: INFO: reading 4 of 116 data partitions\n"
     ]
    }
   ],
   "source": [
    "for each, each_name in zip(fields, field_names):\n",
    "    key = each_name\n",
    "    summary[key] = p.aggregate_entries(hl.agg.filter(p.GT.is_non_ref(), hl.agg.collect(each)))"
   ]
  },
  {
   "cell_type": "code",
   "execution_count": 1615,
   "metadata": {},
   "outputs": [],
   "source": [
    "vars_df = pd.DataFrame(summary)"
   ]
  },
  {
   "cell_type": "code",
   "execution_count": 1616,
   "metadata": {
    "scrolled": true
   },
   "outputs": [
    {
     "data": {
      "text/html": [
       "<div>\n",
       "<style scoped>\n",
       "    .dataframe tbody tr th:only-of-type {\n",
       "        vertical-align: middle;\n",
       "    }\n",
       "\n",
       "    .dataframe tbody tr th {\n",
       "        vertical-align: top;\n",
       "    }\n",
       "\n",
       "    .dataframe thead th {\n",
       "        text-align: right;\n",
       "    }\n",
       "</style>\n",
       "<table border=\"1\" class=\"dataframe\">\n",
       "  <thead>\n",
       "    <tr style=\"text-align: right;\">\n",
       "      <th></th>\n",
       "      <th>sample</th>\n",
       "      <th>locus</th>\n",
       "      <th>genotype</th>\n",
       "      <th>GQ</th>\n",
       "      <th>DP</th>\n",
       "      <th>rsid</th>\n",
       "      <th>alleles</th>\n",
       "      <th>family</th>\n",
       "      <th>sex</th>\n",
       "      <th>kinship</th>\n",
       "      <th>...</th>\n",
       "      <th>heavy_tics</th>\n",
       "      <th>GNOMAD_V3_AF_non_finn_eur</th>\n",
       "      <th>Gene</th>\n",
       "      <th>CLINVAR_ALLELE_ID</th>\n",
       "      <th>CLINVAR_DISEASES</th>\n",
       "      <th>HPO_INHERITANCE</th>\n",
       "      <th>HPO_PHENOTYPES</th>\n",
       "      <th>HPO_DISEASES</th>\n",
       "      <th>AGGREGATED_CLINVAR_SIGNIFICANCE</th>\n",
       "      <th>SnpEff</th>\n",
       "    </tr>\n",
       "  </thead>\n",
       "  <tbody>\n",
       "    <tr>\n",
       "      <th>0</th>\n",
       "      <td>WGS_7168</td>\n",
       "      <td>chrX:347315</td>\n",
       "      <td>0/1</td>\n",
       "      <td>99</td>\n",
       "      <td>50</td>\n",
       "      <td>None</td>\n",
       "      <td>[G, A]</td>\n",
       "      <td>.</td>\n",
       "      <td>M</td>\n",
       "      <td>.</td>\n",
       "      <td>...</td>\n",
       "      <td>YES</td>\n",
       "      <td>[0.0]</td>\n",
       "      <td>[PPP2R3B]</td>\n",
       "      <td>None</td>\n",
       "      <td>None</td>\n",
       "      <td>None</td>\n",
       "      <td>None</td>\n",
       "      <td>None</td>\n",
       "      <td>None</td>\n",
       "      <td>[A|structural_interaction_variant|HIGH|PPP2R3B...</td>\n",
       "    </tr>\n",
       "    <tr>\n",
       "      <th>1</th>\n",
       "      <td>S_7288</td>\n",
       "      <td>chrX:630950</td>\n",
       "      <td>0/1</td>\n",
       "      <td>99</td>\n",
       "      <td>33</td>\n",
       "      <td>None</td>\n",
       "      <td>[A, T]</td>\n",
       "      <td>C</td>\n",
       "      <td>F</td>\n",
       "      <td>father_sister</td>\n",
       "      <td>...</td>\n",
       "      <td>n/a</td>\n",
       "      <td>[3.09866e-05]</td>\n",
       "      <td>[SHOX]</td>\n",
       "      <td>None</td>\n",
       "      <td>[Langer_mesomelic_dysplasia_syndrome^Leri_Weil...</td>\n",
       "      <td>[Autosomal_dominant_inheritance^Autosomal_rece...</td>\n",
       "      <td>[Abnormal_metatarsal_morphology^Abnormality_of...</td>\n",
       "      <td>[#249700_langer_mesomelic_dysplasia^dyschondro...</td>\n",
       "      <td>None</td>\n",
       "      <td>[T|missense_variant|MODERATE|SHOX|ENSG00000185...</td>\n",
       "    </tr>\n",
       "    <tr>\n",
       "      <th>2</th>\n",
       "      <td>WGS_85a</td>\n",
       "      <td>chrX:2843294</td>\n",
       "      <td>0/1</td>\n",
       "      <td>99</td>\n",
       "      <td>23</td>\n",
       "      <td>None</td>\n",
       "      <td>[G, C]</td>\n",
       "      <td>L</td>\n",
       "      <td>F</td>\n",
       "      <td>P</td>\n",
       "      <td>...</td>\n",
       "      <td>NO</td>\n",
       "      <td>[3.97212e-05]</td>\n",
       "      <td>[GYG2]</td>\n",
       "      <td>None</td>\n",
       "      <td>None</td>\n",
       "      <td>None</td>\n",
       "      <td>None</td>\n",
       "      <td>None</td>\n",
       "      <td>None</td>\n",
       "      <td>[C|missense_variant|MODERATE|GYG2|ENSG00000056...</td>\n",
       "    </tr>\n",
       "    <tr>\n",
       "      <th>3</th>\n",
       "      <td>WGS_85c</td>\n",
       "      <td>chrX:2843294</td>\n",
       "      <td>1/1</td>\n",
       "      <td>57</td>\n",
       "      <td>19</td>\n",
       "      <td>None</td>\n",
       "      <td>[G, C]</td>\n",
       "      <td>L</td>\n",
       "      <td>M</td>\n",
       "      <td>father</td>\n",
       "      <td>...</td>\n",
       "      <td>NO</td>\n",
       "      <td>[3.97212e-05]</td>\n",
       "      <td>[GYG2]</td>\n",
       "      <td>None</td>\n",
       "      <td>None</td>\n",
       "      <td>None</td>\n",
       "      <td>None</td>\n",
       "      <td>None</td>\n",
       "      <td>None</td>\n",
       "      <td>[C|missense_variant|MODERATE|GYG2|ENSG00000056...</td>\n",
       "    </tr>\n",
       "    <tr>\n",
       "      <th>4</th>\n",
       "      <td>S_7288</td>\n",
       "      <td>chrX:8170141</td>\n",
       "      <td>0/1</td>\n",
       "      <td>99</td>\n",
       "      <td>12</td>\n",
       "      <td>rs41305169</td>\n",
       "      <td>[A, AGTGGTTCCTCCACCTGGCTCTCCTGACTCG]</td>\n",
       "      <td>C</td>\n",
       "      <td>F</td>\n",
       "      <td>father_sister</td>\n",
       "      <td>...</td>\n",
       "      <td>n/a</td>\n",
       "      <td>[0.0]</td>\n",
       "      <td>[VCX2]</td>\n",
       "      <td>None</td>\n",
       "      <td>None</td>\n",
       "      <td>None</td>\n",
       "      <td>None</td>\n",
       "      <td>None</td>\n",
       "      <td>None</td>\n",
       "      <td>[AGTGGTTCCTCCACCTGGCTCTCCTGACTCG|conservative_...</td>\n",
       "    </tr>\n",
       "    <tr>\n",
       "      <th>...</th>\n",
       "      <td>...</td>\n",
       "      <td>...</td>\n",
       "      <td>...</td>\n",
       "      <td>...</td>\n",
       "      <td>...</td>\n",
       "      <td>...</td>\n",
       "      <td>...</td>\n",
       "      <td>...</td>\n",
       "      <td>...</td>\n",
       "      <td>...</td>\n",
       "      <td>...</td>\n",
       "      <td>...</td>\n",
       "      <td>...</td>\n",
       "      <td>...</td>\n",
       "      <td>...</td>\n",
       "      <td>...</td>\n",
       "      <td>...</td>\n",
       "      <td>...</td>\n",
       "      <td>...</td>\n",
       "      <td>...</td>\n",
       "      <td>...</td>\n",
       "    </tr>\n",
       "    <tr>\n",
       "      <th>96</th>\n",
       "      <td>WGS_122</td>\n",
       "      <td>chrX:153672013</td>\n",
       "      <td>0/1</td>\n",
       "      <td>99</td>\n",
       "      <td>46</td>\n",
       "      <td>rs375555808</td>\n",
       "      <td>[G, A]</td>\n",
       "      <td>.</td>\n",
       "      <td>F</td>\n",
       "      <td>.</td>\n",
       "      <td>...</td>\n",
       "      <td>YES</td>\n",
       "      <td>[9.92911e-05]</td>\n",
       "      <td>[PNCK]</td>\n",
       "      <td>None</td>\n",
       "      <td>None</td>\n",
       "      <td>None</td>\n",
       "      <td>None</td>\n",
       "      <td>None</td>\n",
       "      <td>None</td>\n",
       "      <td>[A|missense_variant|MODERATE|PNCK|ENSG00000130...</td>\n",
       "    </tr>\n",
       "    <tr>\n",
       "      <th>97</th>\n",
       "      <td>WGS_147c</td>\n",
       "      <td>chrX:153954374</td>\n",
       "      <td>1/1</td>\n",
       "      <td>60</td>\n",
       "      <td>20</td>\n",
       "      <td>None</td>\n",
       "      <td>[G, A]</td>\n",
       "      <td>F</td>\n",
       "      <td>M</td>\n",
       "      <td>father</td>\n",
       "      <td>...</td>\n",
       "      <td>NO</td>\n",
       "      <td>[3.99944e-05]</td>\n",
       "      <td>[HCFC1]</td>\n",
       "      <td>None</td>\n",
       "      <td>[Disorders_of_Intracellular_Cobalamin_Metaboli...</td>\n",
       "      <td>[X-linked_recessive_inheritance]</td>\n",
       "      <td>[2-3_toe_syndactyly^Absence_seizure^Athetosis^...</td>\n",
       "      <td>[methylmalonic_acidemia_and_homocysteinemia_cb...</td>\n",
       "      <td>None</td>\n",
       "      <td>[A|missense_variant|MODERATE|HCFC1|ENSG0000017...</td>\n",
       "    </tr>\n",
       "    <tr>\n",
       "      <th>98</th>\n",
       "      <td>WGS_37a</td>\n",
       "      <td>chrX:154441678</td>\n",
       "      <td>0/1</td>\n",
       "      <td>99</td>\n",
       "      <td>7</td>\n",
       "      <td>None</td>\n",
       "      <td>[G, A]</td>\n",
       "      <td>K</td>\n",
       "      <td>M</td>\n",
       "      <td>P</td>\n",
       "      <td>...</td>\n",
       "      <td>NO</td>\n",
       "      <td>[0.0]</td>\n",
       "      <td>[GDI1]</td>\n",
       "      <td>None</td>\n",
       "      <td>[X-Linked_Mental_Retardation_41]</td>\n",
       "      <td>[X-linked_dominant_inheritance^X-linked_inheri...</td>\n",
       "      <td>[2-3_toe_syndactyly^Absence_seizure^Attention_...</td>\n",
       "      <td>[mental_retardation_x-linked_41^x-linked_non-s...</td>\n",
       "      <td>None</td>\n",
       "      <td>[A|missense_variant|MODERATE|GDI1|ENSG00000203...</td>\n",
       "    </tr>\n",
       "    <tr>\n",
       "      <th>99</th>\n",
       "      <td>S_7146</td>\n",
       "      <td>chrX:154534367</td>\n",
       "      <td>0/1</td>\n",
       "      <td>99</td>\n",
       "      <td>53</td>\n",
       "      <td>None</td>\n",
       "      <td>[C, T]</td>\n",
       "      <td>E</td>\n",
       "      <td>M</td>\n",
       "      <td>P</td>\n",
       "      <td>...</td>\n",
       "      <td>n/a</td>\n",
       "      <td>[0.0]</td>\n",
       "      <td>[G6PD]</td>\n",
       "      <td>None</td>\n",
       "      <td>[Anemia_nonspherocytic_hemolytic_due_to_G6PD_d...</td>\n",
       "      <td>[X-linked_dominant_inheritance^X-linked_recess...</td>\n",
       "      <td>[Abdominal_pain^Anisocytosis^Fava_bean-induced...</td>\n",
       "      <td>[anemia_nonspherocytic_hemolytic_due_to_g6pd_d...</td>\n",
       "      <td>None</td>\n",
       "      <td>[T|structural_interaction_variant|HIGH|G6PD|EN...</td>\n",
       "    </tr>\n",
       "    <tr>\n",
       "      <th>100</th>\n",
       "      <td>WGS_6880</td>\n",
       "      <td>chrX:156023211</td>\n",
       "      <td>0/1</td>\n",
       "      <td>99</td>\n",
       "      <td>18</td>\n",
       "      <td>None</td>\n",
       "      <td>[C, T]</td>\n",
       "      <td>.</td>\n",
       "      <td>M</td>\n",
       "      <td>.</td>\n",
       "      <td>...</td>\n",
       "      <td>YES</td>\n",
       "      <td>[6.8106e-05]</td>\n",
       "      <td>[WASH6P]</td>\n",
       "      <td>None</td>\n",
       "      <td>None</td>\n",
       "      <td>None</td>\n",
       "      <td>None</td>\n",
       "      <td>None</td>\n",
       "      <td>None</td>\n",
       "      <td>[T|splice_donor_variant&amp;intron_variant|HIGH|WA...</td>\n",
       "    </tr>\n",
       "  </tbody>\n",
       "</table>\n",
       "<p>101 rows × 21 columns</p>\n",
       "</div>"
      ],
      "text/plain": [
       "       sample           locus genotype  GQ  DP         rsid  \\\n",
       "0    WGS_7168     chrX:347315      0/1  99  50         None   \n",
       "1      S_7288     chrX:630950      0/1  99  33         None   \n",
       "2     WGS_85a    chrX:2843294      0/1  99  23         None   \n",
       "3     WGS_85c    chrX:2843294      1/1  57  19         None   \n",
       "4      S_7288    chrX:8170141      0/1  99  12   rs41305169   \n",
       "..        ...             ...      ...  ..  ..          ...   \n",
       "96    WGS_122  chrX:153672013      0/1  99  46  rs375555808   \n",
       "97   WGS_147c  chrX:153954374      1/1  60  20         None   \n",
       "98    WGS_37a  chrX:154441678      0/1  99   7         None   \n",
       "99     S_7146  chrX:154534367      0/1  99  53         None   \n",
       "100  WGS_6880  chrX:156023211      0/1  99  18         None   \n",
       "\n",
       "                                  alleles family sex        kinship  ...  \\\n",
       "0                                  [G, A]      .   M              .  ...   \n",
       "1                                  [A, T]      C   F  father_sister  ...   \n",
       "2                                  [G, C]      L   F              P  ...   \n",
       "3                                  [G, C]      L   M         father  ...   \n",
       "4    [A, AGTGGTTCCTCCACCTGGCTCTCCTGACTCG]      C   F  father_sister  ...   \n",
       "..                                    ...    ...  ..            ...  ...   \n",
       "96                                 [G, A]      .   F              .  ...   \n",
       "97                                 [G, A]      F   M         father  ...   \n",
       "98                                 [G, A]      K   M              P  ...   \n",
       "99                                 [C, T]      E   M              P  ...   \n",
       "100                                [C, T]      .   M              .  ...   \n",
       "\n",
       "    heavy_tics GNOMAD_V3_AF_non_finn_eur       Gene CLINVAR_ALLELE_ID  \\\n",
       "0          YES                     [0.0]  [PPP2R3B]              None   \n",
       "1          n/a             [3.09866e-05]     [SHOX]              None   \n",
       "2           NO             [3.97212e-05]     [GYG2]              None   \n",
       "3           NO             [3.97212e-05]     [GYG2]              None   \n",
       "4          n/a                     [0.0]     [VCX2]              None   \n",
       "..         ...                       ...        ...               ...   \n",
       "96         YES             [9.92911e-05]     [PNCK]              None   \n",
       "97          NO             [3.99944e-05]    [HCFC1]              None   \n",
       "98          NO                     [0.0]     [GDI1]              None   \n",
       "99         n/a                     [0.0]     [G6PD]              None   \n",
       "100        YES              [6.8106e-05]   [WASH6P]              None   \n",
       "\n",
       "                                      CLINVAR_DISEASES  \\\n",
       "0                                                 None   \n",
       "1    [Langer_mesomelic_dysplasia_syndrome^Leri_Weil...   \n",
       "2                                                 None   \n",
       "3                                                 None   \n",
       "4                                                 None   \n",
       "..                                                 ...   \n",
       "96                                                None   \n",
       "97   [Disorders_of_Intracellular_Cobalamin_Metaboli...   \n",
       "98                    [X-Linked_Mental_Retardation_41]   \n",
       "99   [Anemia_nonspherocytic_hemolytic_due_to_G6PD_d...   \n",
       "100                                               None   \n",
       "\n",
       "                                       HPO_INHERITANCE  \\\n",
       "0                                                 None   \n",
       "1    [Autosomal_dominant_inheritance^Autosomal_rece...   \n",
       "2                                                 None   \n",
       "3                                                 None   \n",
       "4                                                 None   \n",
       "..                                                 ...   \n",
       "96                                                None   \n",
       "97                    [X-linked_recessive_inheritance]   \n",
       "98   [X-linked_dominant_inheritance^X-linked_inheri...   \n",
       "99   [X-linked_dominant_inheritance^X-linked_recess...   \n",
       "100                                               None   \n",
       "\n",
       "                                        HPO_PHENOTYPES  \\\n",
       "0                                                 None   \n",
       "1    [Abnormal_metatarsal_morphology^Abnormality_of...   \n",
       "2                                                 None   \n",
       "3                                                 None   \n",
       "4                                                 None   \n",
       "..                                                 ...   \n",
       "96                                                None   \n",
       "97   [2-3_toe_syndactyly^Absence_seizure^Athetosis^...   \n",
       "98   [2-3_toe_syndactyly^Absence_seizure^Attention_...   \n",
       "99   [Abdominal_pain^Anisocytosis^Fava_bean-induced...   \n",
       "100                                               None   \n",
       "\n",
       "                                          HPO_DISEASES  \\\n",
       "0                                                 None   \n",
       "1    [#249700_langer_mesomelic_dysplasia^dyschondro...   \n",
       "2                                                 None   \n",
       "3                                                 None   \n",
       "4                                                 None   \n",
       "..                                                 ...   \n",
       "96                                                None   \n",
       "97   [methylmalonic_acidemia_and_homocysteinemia_cb...   \n",
       "98   [mental_retardation_x-linked_41^x-linked_non-s...   \n",
       "99   [anemia_nonspherocytic_hemolytic_due_to_g6pd_d...   \n",
       "100                                               None   \n",
       "\n",
       "    AGGREGATED_CLINVAR_SIGNIFICANCE  \\\n",
       "0                              None   \n",
       "1                              None   \n",
       "2                              None   \n",
       "3                              None   \n",
       "4                              None   \n",
       "..                              ...   \n",
       "96                             None   \n",
       "97                             None   \n",
       "98                             None   \n",
       "99                             None   \n",
       "100                            None   \n",
       "\n",
       "                                                SnpEff  \n",
       "0    [A|structural_interaction_variant|HIGH|PPP2R3B...  \n",
       "1    [T|missense_variant|MODERATE|SHOX|ENSG00000185...  \n",
       "2    [C|missense_variant|MODERATE|GYG2|ENSG00000056...  \n",
       "3    [C|missense_variant|MODERATE|GYG2|ENSG00000056...  \n",
       "4    [AGTGGTTCCTCCACCTGGCTCTCCTGACTCG|conservative_...  \n",
       "..                                                 ...  \n",
       "96   [A|missense_variant|MODERATE|PNCK|ENSG00000130...  \n",
       "97   [A|missense_variant|MODERATE|HCFC1|ENSG0000017...  \n",
       "98   [A|missense_variant|MODERATE|GDI1|ENSG00000203...  \n",
       "99   [T|structural_interaction_variant|HIGH|G6PD|EN...  \n",
       "100  [T|splice_donor_variant&intron_variant|HIGH|WA...  \n",
       "\n",
       "[101 rows x 21 columns]"
      ]
     },
     "execution_count": 1616,
     "metadata": {},
     "output_type": "execute_result"
    }
   ],
   "source": [
    "vars_df"
   ]
  },
  {
   "cell_type": "code",
   "execution_count": 1617,
   "metadata": {},
   "outputs": [
    {
     "data": {
      "text/html": [
       "<div>\n",
       "<style scoped>\n",
       "    .dataframe tbody tr th:only-of-type {\n",
       "        vertical-align: middle;\n",
       "    }\n",
       "\n",
       "    .dataframe tbody tr th {\n",
       "        vertical-align: top;\n",
       "    }\n",
       "\n",
       "    .dataframe thead th {\n",
       "        text-align: right;\n",
       "    }\n",
       "</style>\n",
       "<table border=\"1\" class=\"dataframe\">\n",
       "  <thead>\n",
       "    <tr style=\"text-align: right;\">\n",
       "      <th></th>\n",
       "      <th>GQ</th>\n",
       "      <th>DP</th>\n",
       "    </tr>\n",
       "  </thead>\n",
       "  <tbody>\n",
       "    <tr>\n",
       "      <th>count</th>\n",
       "      <td>101.000000</td>\n",
       "      <td>101.000000</td>\n",
       "    </tr>\n",
       "    <tr>\n",
       "      <th>mean</th>\n",
       "      <td>71.465347</td>\n",
       "      <td>21.712871</td>\n",
       "    </tr>\n",
       "    <tr>\n",
       "      <th>std</th>\n",
       "      <td>29.491546</td>\n",
       "      <td>27.592512</td>\n",
       "    </tr>\n",
       "    <tr>\n",
       "      <th>min</th>\n",
       "      <td>6.000000</td>\n",
       "      <td>2.000000</td>\n",
       "    </tr>\n",
       "    <tr>\n",
       "      <th>25%</th>\n",
       "      <td>45.000000</td>\n",
       "      <td>9.000000</td>\n",
       "    </tr>\n",
       "    <tr>\n",
       "      <th>50%</th>\n",
       "      <td>78.000000</td>\n",
       "      <td>14.000000</td>\n",
       "    </tr>\n",
       "    <tr>\n",
       "      <th>75%</th>\n",
       "      <td>99.000000</td>\n",
       "      <td>22.000000</td>\n",
       "    </tr>\n",
       "    <tr>\n",
       "      <th>max</th>\n",
       "      <td>99.000000</td>\n",
       "      <td>154.000000</td>\n",
       "    </tr>\n",
       "  </tbody>\n",
       "</table>\n",
       "</div>"
      ],
      "text/plain": [
       "               GQ          DP\n",
       "count  101.000000  101.000000\n",
       "mean    71.465347   21.712871\n",
       "std     29.491546   27.592512\n",
       "min      6.000000    2.000000\n",
       "25%     45.000000    9.000000\n",
       "50%     78.000000   14.000000\n",
       "75%     99.000000   22.000000\n",
       "max     99.000000  154.000000"
      ]
     },
     "execution_count": 1617,
     "metadata": {},
     "output_type": "execute_result"
    }
   ],
   "source": [
    "vars_df.describe()"
   ]
  },
  {
   "cell_type": "code",
   "execution_count": 1619,
   "metadata": {},
   "outputs": [],
   "source": [
    "vars_df.to_csv('rare_X_patients_only.csv')"
   ]
  }
 ],
 "metadata": {
  "kernelspec": {
   "display_name": "Python 3",
   "language": "python",
   "name": "python3"
  },
  "language_info": {
   "codemirror_mode": {
    "name": "ipython",
    "version": 3
   },
   "file_extension": ".py",
   "mimetype": "text/x-python",
   "name": "python",
   "nbconvert_exporter": "python",
   "pygments_lexer": "ipython3",
   "version": "3.7.4"
  }
 },
 "nbformat": 4,
 "nbformat_minor": 2
}
