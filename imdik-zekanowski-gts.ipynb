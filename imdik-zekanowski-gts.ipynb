{
 "cells": [
  {
   "cell_type": "markdown",
   "metadata": {},
   "source": [
    "# table of contents:\n",
    "\n",
    "## [1. Import hail, other libraries and data](#1)\n",
    "\n",
    "[1.1 import phenotype and pedigree data](#1.1)\n",
    "\n",
    "[1.2 Annotate mt with phenotype and pedigree info](#1.2)\n",
    "\n",
    "## [2. Explore MatrixTable, collect field descriptions](#2)\n",
    "\n",
    "   [2.1 Removing the star alleles](#2.1)\n",
    "   \n",
    "   [2.2 Creating a mt_p with patients only and mt_c with non-patients](#2.2)\n",
    "    \n",
    "## [3. Do simple aggregations, filtering and plots](#3)\n",
    "\n",
    "## [4. Work with single sample and single variant](#4)\n",
    "\n",
    "   [4.1 Single sample](#4.1)\n",
    "\n",
    "   [4.2 Single variant](#4.2)\n",
    "\n",
    "## [5. Explore Clinvar sinificance of detected variants](#5)\n",
    "\n",
    "[5.1 Are there known pathogenic variants in > 1 sample?](#5.1)\n",
    "\n",
    "[6. Annotate with CADD (in progress)](#6)"
   ]
  },
  {
   "cell_type": "markdown",
   "metadata": {},
   "source": [
    "<a id='1'></a> \n",
    "## 1. Import hail, other libraries and data"
   ]
  },
  {
   "cell_type": "markdown",
   "metadata": {},
   "source": [
    "always run this code to widen notebook:"
   ]
  },
  {
   "cell_type": "code",
   "execution_count": 719,
   "metadata": {},
   "outputs": [
    {
     "data": {
      "text/html": [
       "<script>jQuery(function() {if (jQuery(\"body.notebook_app\").length == 0) { jQuery(\".input_area\").toggle(); jQuery(\".prompt\").toggle();}});</script>"
      ]
     },
     "metadata": {},
     "output_type": "display_data"
    },
    {
     "data": {
      "text/html": [
       "<style>.container { width:100% !important; }</style>"
      ],
      "text/plain": [
       "<IPython.core.display.HTML object>"
      ]
     },
     "metadata": {},
     "output_type": "display_data"
    }
   ],
   "source": [
    "from IPython.display import display\n",
    "from IPython.display import HTML\n",
    "import IPython.core.display as di # Example: di.display_html('<h3>%s:</h3>' % str, raw=True)\n",
    "\n",
    "# This line will hide code by default when the notebook is exported as HTML\n",
    "di.display_html('<script>jQuery(function() {if (jQuery(\"body.notebook_app\").length == 0) { jQuery(\".input_area\").toggle(); jQuery(\".prompt\").toggle();}});</script>', raw=True)\n",
    "\n",
    "display(HTML(\"<style>.container { width:100% !important; }</style>\"))"
   ]
  },
  {
   "cell_type": "code",
   "execution_count": 1,
   "metadata": {},
   "outputs": [
    {
     "name": "stderr",
     "output_type": "stream",
     "text": [
      "Running on Apache Spark version 2.4.1\n",
      "SparkUI available at http://349d1de1bab4:4040\n",
      "Welcome to\n",
      "     __  __     <>__\n",
      "    / /_/ /__  __/ /\n",
      "   / __  / _ `/ / /\n",
      "  /_/ /_/\\_,_/_/_/   version 0.2.26-2dcc3d963867\n",
      "LOGGING: writing to /hail/hail-20191114-0831-0.2.26-2dcc3d963867.log\n"
     ]
    }
   ],
   "source": [
    "import hail as hl\n",
    "hl.init() "
   ]
  },
  {
   "cell_type": "code",
   "execution_count": 728,
   "metadata": {
    "scrolled": true
   },
   "outputs": [
    {
     "data": {
      "text/html": [
       "\n",
       "    <div class=\"bk-root\">\n",
       "        <a href=\"https://bokeh.pydata.org\" target=\"_blank\" class=\"bk-logo bk-logo-small bk-logo-notebook\"></a>\n",
       "        <span id=\"10741\">Loading BokehJS ...</span>\n",
       "    </div>"
      ]
     },
     "metadata": {},
     "output_type": "display_data"
    },
    {
     "data": {
      "application/javascript": [
       "\n",
       "(function(root) {\n",
       "  function now() {\n",
       "    return new Date();\n",
       "  }\n",
       "\n",
       "  var force = true;\n",
       "\n",
       "  if (typeof root._bokeh_onload_callbacks === \"undefined\" || force === true) {\n",
       "    root._bokeh_onload_callbacks = [];\n",
       "    root._bokeh_is_loading = undefined;\n",
       "  }\n",
       "\n",
       "  var JS_MIME_TYPE = 'application/javascript';\n",
       "  var HTML_MIME_TYPE = 'text/html';\n",
       "  var EXEC_MIME_TYPE = 'application/vnd.bokehjs_exec.v0+json';\n",
       "  var CLASS_NAME = 'output_bokeh rendered_html';\n",
       "\n",
       "  /**\n",
       "   * Render data to the DOM node\n",
       "   */\n",
       "  function render(props, node) {\n",
       "    var script = document.createElement(\"script\");\n",
       "    node.appendChild(script);\n",
       "  }\n",
       "\n",
       "  /**\n",
       "   * Handle when an output is cleared or removed\n",
       "   */\n",
       "  function handleClearOutput(event, handle) {\n",
       "    var cell = handle.cell;\n",
       "\n",
       "    var id = cell.output_area._bokeh_element_id;\n",
       "    var server_id = cell.output_area._bokeh_server_id;\n",
       "    // Clean up Bokeh references\n",
       "    if (id != null && id in Bokeh.index) {\n",
       "      Bokeh.index[id].model.document.clear();\n",
       "      delete Bokeh.index[id];\n",
       "    }\n",
       "\n",
       "    if (server_id !== undefined) {\n",
       "      // Clean up Bokeh references\n",
       "      var cmd = \"from bokeh.io.state import curstate; print(curstate().uuid_to_server['\" + server_id + \"'].get_sessions()[0].document.roots[0]._id)\";\n",
       "      cell.notebook.kernel.execute(cmd, {\n",
       "        iopub: {\n",
       "          output: function(msg) {\n",
       "            var id = msg.content.text.trim();\n",
       "            if (id in Bokeh.index) {\n",
       "              Bokeh.index[id].model.document.clear();\n",
       "              delete Bokeh.index[id];\n",
       "            }\n",
       "          }\n",
       "        }\n",
       "      });\n",
       "      // Destroy server and session\n",
       "      var cmd = \"import bokeh.io.notebook as ion; ion.destroy_server('\" + server_id + \"')\";\n",
       "      cell.notebook.kernel.execute(cmd);\n",
       "    }\n",
       "  }\n",
       "\n",
       "  /**\n",
       "   * Handle when a new output is added\n",
       "   */\n",
       "  function handleAddOutput(event, handle) {\n",
       "    var output_area = handle.output_area;\n",
       "    var output = handle.output;\n",
       "\n",
       "    // limit handleAddOutput to display_data with EXEC_MIME_TYPE content only\n",
       "    if ((output.output_type != \"display_data\") || (!output.data.hasOwnProperty(EXEC_MIME_TYPE))) {\n",
       "      return\n",
       "    }\n",
       "\n",
       "    var toinsert = output_area.element.find(\".\" + CLASS_NAME.split(' ')[0]);\n",
       "\n",
       "    if (output.metadata[EXEC_MIME_TYPE][\"id\"] !== undefined) {\n",
       "      toinsert[toinsert.length - 1].firstChild.textContent = output.data[JS_MIME_TYPE];\n",
       "      // store reference to embed id on output_area\n",
       "      output_area._bokeh_element_id = output.metadata[EXEC_MIME_TYPE][\"id\"];\n",
       "    }\n",
       "    if (output.metadata[EXEC_MIME_TYPE][\"server_id\"] !== undefined) {\n",
       "      var bk_div = document.createElement(\"div\");\n",
       "      bk_div.innerHTML = output.data[HTML_MIME_TYPE];\n",
       "      var script_attrs = bk_div.children[0].attributes;\n",
       "      for (var i = 0; i < script_attrs.length; i++) {\n",
       "        toinsert[toinsert.length - 1].firstChild.setAttribute(script_attrs[i].name, script_attrs[i].value);\n",
       "      }\n",
       "      // store reference to server id on output_area\n",
       "      output_area._bokeh_server_id = output.metadata[EXEC_MIME_TYPE][\"server_id\"];\n",
       "    }\n",
       "  }\n",
       "\n",
       "  function register_renderer(events, OutputArea) {\n",
       "\n",
       "    function append_mime(data, metadata, element) {\n",
       "      // create a DOM node to render to\n",
       "      var toinsert = this.create_output_subarea(\n",
       "        metadata,\n",
       "        CLASS_NAME,\n",
       "        EXEC_MIME_TYPE\n",
       "      );\n",
       "      this.keyboard_manager.register_events(toinsert);\n",
       "      // Render to node\n",
       "      var props = {data: data, metadata: metadata[EXEC_MIME_TYPE]};\n",
       "      render(props, toinsert[toinsert.length - 1]);\n",
       "      element.append(toinsert);\n",
       "      return toinsert\n",
       "    }\n",
       "\n",
       "    /* Handle when an output is cleared or removed */\n",
       "    events.on('clear_output.CodeCell', handleClearOutput);\n",
       "    events.on('delete.Cell', handleClearOutput);\n",
       "\n",
       "    /* Handle when a new output is added */\n",
       "    events.on('output_added.OutputArea', handleAddOutput);\n",
       "\n",
       "    /**\n",
       "     * Register the mime type and append_mime function with output_area\n",
       "     */\n",
       "    OutputArea.prototype.register_mime_type(EXEC_MIME_TYPE, append_mime, {\n",
       "      /* Is output safe? */\n",
       "      safe: true,\n",
       "      /* Index of renderer in `output_area.display_order` */\n",
       "      index: 0\n",
       "    });\n",
       "  }\n",
       "\n",
       "  // register the mime type if in Jupyter Notebook environment and previously unregistered\n",
       "  if (root.Jupyter !== undefined) {\n",
       "    var events = require('base/js/events');\n",
       "    var OutputArea = require('notebook/js/outputarea').OutputArea;\n",
       "\n",
       "    if (OutputArea.prototype.mime_types().indexOf(EXEC_MIME_TYPE) == -1) {\n",
       "      register_renderer(events, OutputArea);\n",
       "    }\n",
       "  }\n",
       "\n",
       "  \n",
       "  if (typeof (root._bokeh_timeout) === \"undefined\" || force === true) {\n",
       "    root._bokeh_timeout = Date.now() + 5000;\n",
       "    root._bokeh_failed_load = false;\n",
       "  }\n",
       "\n",
       "  var NB_LOAD_WARNING = {'data': {'text/html':\n",
       "     \"<div style='background-color: #fdd'>\\n\"+\n",
       "     \"<p>\\n\"+\n",
       "     \"BokehJS does not appear to have successfully loaded. If loading BokehJS from CDN, this \\n\"+\n",
       "     \"may be due to a slow or bad network connection. Possible fixes:\\n\"+\n",
       "     \"</p>\\n\"+\n",
       "     \"<ul>\\n\"+\n",
       "     \"<li>re-rerun `output_notebook()` to attempt to load from CDN again, or</li>\\n\"+\n",
       "     \"<li>use INLINE resources instead, as so:</li>\\n\"+\n",
       "     \"</ul>\\n\"+\n",
       "     \"<code>\\n\"+\n",
       "     \"from bokeh.resources import INLINE\\n\"+\n",
       "     \"output_notebook(resources=INLINE)\\n\"+\n",
       "     \"</code>\\n\"+\n",
       "     \"</div>\"}};\n",
       "\n",
       "  function display_loaded() {\n",
       "    var el = document.getElementById(\"10741\");\n",
       "    if (el != null) {\n",
       "      el.textContent = \"BokehJS is loading...\";\n",
       "    }\n",
       "    if (root.Bokeh !== undefined) {\n",
       "      if (el != null) {\n",
       "        el.textContent = \"BokehJS \" + root.Bokeh.version + \" successfully loaded.\";\n",
       "      }\n",
       "    } else if (Date.now() < root._bokeh_timeout) {\n",
       "      setTimeout(display_loaded, 100)\n",
       "    }\n",
       "  }\n",
       "\n",
       "\n",
       "  function run_callbacks() {\n",
       "    try {\n",
       "      root._bokeh_onload_callbacks.forEach(function(callback) {\n",
       "        if (callback != null)\n",
       "          callback();\n",
       "      });\n",
       "    } finally {\n",
       "      delete root._bokeh_onload_callbacks\n",
       "    }\n",
       "    console.debug(\"Bokeh: all callbacks have finished\");\n",
       "  }\n",
       "\n",
       "  function load_libs(css_urls, js_urls, callback) {\n",
       "    if (css_urls == null) css_urls = [];\n",
       "    if (js_urls == null) js_urls = [];\n",
       "\n",
       "    root._bokeh_onload_callbacks.push(callback);\n",
       "    if (root._bokeh_is_loading > 0) {\n",
       "      console.debug(\"Bokeh: BokehJS is being loaded, scheduling callback at\", now());\n",
       "      return null;\n",
       "    }\n",
       "    if (js_urls == null || js_urls.length === 0) {\n",
       "      run_callbacks();\n",
       "      return null;\n",
       "    }\n",
       "    console.debug(\"Bokeh: BokehJS not loaded, scheduling load and callback at\", now());\n",
       "    root._bokeh_is_loading = css_urls.length + js_urls.length;\n",
       "\n",
       "    function on_load() {\n",
       "      root._bokeh_is_loading--;\n",
       "      if (root._bokeh_is_loading === 0) {\n",
       "        console.debug(\"Bokeh: all BokehJS libraries/stylesheets loaded\");\n",
       "        run_callbacks()\n",
       "      }\n",
       "    }\n",
       "\n",
       "    function on_error() {\n",
       "      console.error(\"failed to load \" + url);\n",
       "    }\n",
       "\n",
       "    for (var i = 0; i < css_urls.length; i++) {\n",
       "      var url = css_urls[i];\n",
       "      const element = document.createElement(\"link\");\n",
       "      element.onload = on_load;\n",
       "      element.onerror = on_error;\n",
       "      element.rel = \"stylesheet\";\n",
       "      element.type = \"text/css\";\n",
       "      element.href = url;\n",
       "      console.debug(\"Bokeh: injecting link tag for BokehJS stylesheet: \", url);\n",
       "      document.body.appendChild(element);\n",
       "    }\n",
       "\n",
       "    for (var i = 0; i < js_urls.length; i++) {\n",
       "      var url = js_urls[i];\n",
       "      var element = document.createElement('script');\n",
       "      element.onload = on_load;\n",
       "      element.onerror = on_error;\n",
       "      element.async = false;\n",
       "      element.src = url;\n",
       "      console.debug(\"Bokeh: injecting script tag for BokehJS library: \", url);\n",
       "      document.head.appendChild(element);\n",
       "    }\n",
       "  };var element = document.getElementById(\"10741\");\n",
       "  if (element == null) {\n",
       "    console.error(\"Bokeh: ERROR: autoload.js configured with elementid '10741' but no matching script tag was found. \")\n",
       "    return false;\n",
       "  }\n",
       "\n",
       "  function inject_raw_css(css) {\n",
       "    const element = document.createElement(\"style\");\n",
       "    element.appendChild(document.createTextNode(css));\n",
       "    document.body.appendChild(element);\n",
       "  }\n",
       "\n",
       "  var js_urls = [\"https://cdn.pydata.org/bokeh/release/bokeh-1.2.0.min.js\", \"https://cdn.pydata.org/bokeh/release/bokeh-widgets-1.2.0.min.js\", \"https://cdn.pydata.org/bokeh/release/bokeh-tables-1.2.0.min.js\", \"https://cdn.pydata.org/bokeh/release/bokeh-gl-1.2.0.min.js\"];\n",
       "  var css_urls = [\"https://cdn.pydata.org/bokeh/release/bokeh-1.2.0.min.css\", \"https://cdn.pydata.org/bokeh/release/bokeh-widgets-1.2.0.min.css\", \"https://cdn.pydata.org/bokeh/release/bokeh-tables-1.2.0.min.css\"];\n",
       "\n",
       "  var inline_js = [\n",
       "    function(Bokeh) {\n",
       "      Bokeh.set_log_level(\"info\");\n",
       "    },\n",
       "    \n",
       "    function(Bokeh) {\n",
       "      \n",
       "    },\n",
       "    function(Bokeh) {} // ensure no trailing comma for IE\n",
       "  ];\n",
       "\n",
       "  function run_inline_js() {\n",
       "    \n",
       "    if ((root.Bokeh !== undefined) || (force === true)) {\n",
       "      for (var i = 0; i < inline_js.length; i++) {\n",
       "        inline_js[i].call(root, root.Bokeh);\n",
       "      }if (force === true) {\n",
       "        display_loaded();\n",
       "      }} else if (Date.now() < root._bokeh_timeout) {\n",
       "      setTimeout(run_inline_js, 100);\n",
       "    } else if (!root._bokeh_failed_load) {\n",
       "      console.log(\"Bokeh: BokehJS failed to load within specified timeout.\");\n",
       "      root._bokeh_failed_load = true;\n",
       "    } else if (force !== true) {\n",
       "      var cell = $(document.getElementById(\"10741\")).parents('.cell').data().cell;\n",
       "      cell.output_area.append_execute_result(NB_LOAD_WARNING)\n",
       "    }\n",
       "\n",
       "  }\n",
       "\n",
       "  if (root._bokeh_is_loading === 0) {\n",
       "    console.debug(\"Bokeh: BokehJS loaded, going straight to plotting\");\n",
       "    run_inline_js();\n",
       "  } else {\n",
       "    load_libs(css_urls, js_urls, function() {\n",
       "      console.debug(\"Bokeh: BokehJS plotting callback run at\", now());\n",
       "      run_inline_js();\n",
       "    });\n",
       "  }\n",
       "}(window));"
      ],
      "application/vnd.bokehjs_load.v0+json": "\n(function(root) {\n  function now() {\n    return new Date();\n  }\n\n  var force = true;\n\n  if (typeof root._bokeh_onload_callbacks === \"undefined\" || force === true) {\n    root._bokeh_onload_callbacks = [];\n    root._bokeh_is_loading = undefined;\n  }\n\n  \n\n  \n  if (typeof (root._bokeh_timeout) === \"undefined\" || force === true) {\n    root._bokeh_timeout = Date.now() + 5000;\n    root._bokeh_failed_load = false;\n  }\n\n  var NB_LOAD_WARNING = {'data': {'text/html':\n     \"<div style='background-color: #fdd'>\\n\"+\n     \"<p>\\n\"+\n     \"BokehJS does not appear to have successfully loaded. If loading BokehJS from CDN, this \\n\"+\n     \"may be due to a slow or bad network connection. Possible fixes:\\n\"+\n     \"</p>\\n\"+\n     \"<ul>\\n\"+\n     \"<li>re-rerun `output_notebook()` to attempt to load from CDN again, or</li>\\n\"+\n     \"<li>use INLINE resources instead, as so:</li>\\n\"+\n     \"</ul>\\n\"+\n     \"<code>\\n\"+\n     \"from bokeh.resources import INLINE\\n\"+\n     \"output_notebook(resources=INLINE)\\n\"+\n     \"</code>\\n\"+\n     \"</div>\"}};\n\n  function display_loaded() {\n    var el = document.getElementById(\"10741\");\n    if (el != null) {\n      el.textContent = \"BokehJS is loading...\";\n    }\n    if (root.Bokeh !== undefined) {\n      if (el != null) {\n        el.textContent = \"BokehJS \" + root.Bokeh.version + \" successfully loaded.\";\n      }\n    } else if (Date.now() < root._bokeh_timeout) {\n      setTimeout(display_loaded, 100)\n    }\n  }\n\n\n  function run_callbacks() {\n    try {\n      root._bokeh_onload_callbacks.forEach(function(callback) {\n        if (callback != null)\n          callback();\n      });\n    } finally {\n      delete root._bokeh_onload_callbacks\n    }\n    console.debug(\"Bokeh: all callbacks have finished\");\n  }\n\n  function load_libs(css_urls, js_urls, callback) {\n    if (css_urls == null) css_urls = [];\n    if (js_urls == null) js_urls = [];\n\n    root._bokeh_onload_callbacks.push(callback);\n    if (root._bokeh_is_loading > 0) {\n      console.debug(\"Bokeh: BokehJS is being loaded, scheduling callback at\", now());\n      return null;\n    }\n    if (js_urls == null || js_urls.length === 0) {\n      run_callbacks();\n      return null;\n    }\n    console.debug(\"Bokeh: BokehJS not loaded, scheduling load and callback at\", now());\n    root._bokeh_is_loading = css_urls.length + js_urls.length;\n\n    function on_load() {\n      root._bokeh_is_loading--;\n      if (root._bokeh_is_loading === 0) {\n        console.debug(\"Bokeh: all BokehJS libraries/stylesheets loaded\");\n        run_callbacks()\n      }\n    }\n\n    function on_error() {\n      console.error(\"failed to load \" + url);\n    }\n\n    for (var i = 0; i < css_urls.length; i++) {\n      var url = css_urls[i];\n      const element = document.createElement(\"link\");\n      element.onload = on_load;\n      element.onerror = on_error;\n      element.rel = \"stylesheet\";\n      element.type = \"text/css\";\n      element.href = url;\n      console.debug(\"Bokeh: injecting link tag for BokehJS stylesheet: \", url);\n      document.body.appendChild(element);\n    }\n\n    for (var i = 0; i < js_urls.length; i++) {\n      var url = js_urls[i];\n      var element = document.createElement('script');\n      element.onload = on_load;\n      element.onerror = on_error;\n      element.async = false;\n      element.src = url;\n      console.debug(\"Bokeh: injecting script tag for BokehJS library: \", url);\n      document.head.appendChild(element);\n    }\n  };var element = document.getElementById(\"10741\");\n  if (element == null) {\n    console.error(\"Bokeh: ERROR: autoload.js configured with elementid '10741' but no matching script tag was found. \")\n    return false;\n  }\n\n  function inject_raw_css(css) {\n    const element = document.createElement(\"style\");\n    element.appendChild(document.createTextNode(css));\n    document.body.appendChild(element);\n  }\n\n  var js_urls = [\"https://cdn.pydata.org/bokeh/release/bokeh-1.2.0.min.js\", \"https://cdn.pydata.org/bokeh/release/bokeh-widgets-1.2.0.min.js\", \"https://cdn.pydata.org/bokeh/release/bokeh-tables-1.2.0.min.js\", \"https://cdn.pydata.org/bokeh/release/bokeh-gl-1.2.0.min.js\"];\n  var css_urls = [\"https://cdn.pydata.org/bokeh/release/bokeh-1.2.0.min.css\", \"https://cdn.pydata.org/bokeh/release/bokeh-widgets-1.2.0.min.css\", \"https://cdn.pydata.org/bokeh/release/bokeh-tables-1.2.0.min.css\"];\n\n  var inline_js = [\n    function(Bokeh) {\n      Bokeh.set_log_level(\"info\");\n    },\n    \n    function(Bokeh) {\n      \n    },\n    function(Bokeh) {} // ensure no trailing comma for IE\n  ];\n\n  function run_inline_js() {\n    \n    if ((root.Bokeh !== undefined) || (force === true)) {\n      for (var i = 0; i < inline_js.length; i++) {\n        inline_js[i].call(root, root.Bokeh);\n      }if (force === true) {\n        display_loaded();\n      }} else if (Date.now() < root._bokeh_timeout) {\n      setTimeout(run_inline_js, 100);\n    } else if (!root._bokeh_failed_load) {\n      console.log(\"Bokeh: BokehJS failed to load within specified timeout.\");\n      root._bokeh_failed_load = true;\n    } else if (force !== true) {\n      var cell = $(document.getElementById(\"10741\")).parents('.cell').data().cell;\n      cell.output_area.append_execute_result(NB_LOAD_WARNING)\n    }\n\n  }\n\n  if (root._bokeh_is_loading === 0) {\n    console.debug(\"Bokeh: BokehJS loaded, going straight to plotting\");\n    run_inline_js();\n  } else {\n    load_libs(css_urls, js_urls, function() {\n      console.debug(\"Bokeh: BokehJS plotting callback run at\", now());\n      run_inline_js();\n    });\n  }\n}(window));"
     },
     "metadata": {},
     "output_type": "display_data"
    }
   ],
   "source": [
    "from hail.plot import show\n",
    "from pprint import pprint\n",
    "from bokeh.layouts import gridplot\n",
    "hl.plot.output_notebook()"
   ]
  },
  {
   "cell_type": "code",
   "execution_count": 521,
   "metadata": {},
   "outputs": [],
   "source": [
    "import numpy as np\n",
    "import pandas as pd\n",
    "from functools import reduce"
   ]
  },
  {
   "cell_type": "code",
   "execution_count": 10,
   "metadata": {},
   "outputs": [
    {
     "name": "stderr",
     "output_type": "stream",
     "text": [
      "2019-11-12 15:44:48 Hail: INFO: Ordering unsorted dataset with network shuffle\n",
      "2019-11-12 15:45:18 Hail: INFO: wrote matrix table with 726380 rows and 151 columns in 116 partitions to data/sample.mt\n"
     ]
    }
   ],
   "source": [
    "hl.import_vcf('data/annotated.test.vcf', reference_genome='GRCh38').write('data/sample.mt', overwrite=True)"
   ]
  },
  {
   "cell_type": "code",
   "execution_count": 356,
   "metadata": {},
   "outputs": [],
   "source": [
    "mt = hl.read_matrix_table('data/sample.mt') # mt stands for MatrixTable"
   ]
  },
  {
   "cell_type": "markdown",
   "metadata": {},
   "source": [
    "<a id='1.1'></a>\n",
    "## 1.1 import phenotype and pedigree data"
   ]
  },
  {
   "cell_type": "code",
   "execution_count": 535,
   "metadata": {},
   "outputs": [
    {
     "name": "stderr",
     "output_type": "stream",
     "text": [
      "2019-11-26 11:56:50 Hail: INFO: Reading table to impute column types\n",
      "2019-11-26 11:56:50 Hail: INFO: Finished type imputation\n",
      "  Loading column 'ID' as type 'str' (imputed)\n",
      "  Loading column 'family' as type 'str' (imputed)\n",
      "  Loading column 'sex' as type 'str' (imputed)\n",
      "  Loading column 'kinship' as type 'str' (imputed)\n",
      "  Loading column 'disease' as type 'str' (imputed)\n",
      "  Loading column 'phenotype' as type 'str' (imputed)\n",
      "  Loading column 'add_pheno' as type 'str' (imputed)\n",
      "  Loading column 'heavy_tics' as type 'str' (imputed)\n"
     ]
    }
   ],
   "source": [
    "pheno = hl.import_table('GTS-coded.csv', delimiter = ',', impute = True, key = 'ID')"
   ]
  },
  {
   "cell_type": "markdown",
   "metadata": {},
   "source": [
    "Number of samples:"
   ]
  },
  {
   "cell_type": "code",
   "execution_count": 539,
   "metadata": {},
   "outputs": [
    {
     "data": {
      "text/plain": [
       "151"
      ]
     },
     "execution_count": 539,
     "metadata": {},
     "output_type": "execute_result"
    }
   ],
   "source": [
    "pheno.count()"
   ]
  },
  {
   "cell_type": "markdown",
   "metadata": {},
   "source": [
    "Number of patients among samples:"
   ]
  },
  {
   "cell_type": "code",
   "execution_count": 540,
   "metadata": {},
   "outputs": [
    {
     "data": {
      "text/plain": [
       "104"
      ]
     },
     "execution_count": 540,
     "metadata": {},
     "output_type": "execute_result"
    }
   ],
   "source": [
    "pheno.aggregate(hl.agg.filter(pheno.disease == 'YES', hl.agg.count()))"
   ]
  },
  {
   "cell_type": "code",
   "execution_count": 544,
   "metadata": {
    "scrolled": false
   },
   "outputs": [
    {
     "data": {
      "text/html": [
       "<table><thead style=\"font-weight: bold;\"><tr><td>ID</td><td>family</td><td>sex</td><td>kinship</td><td>disease</td><td>phenotype</td><td>add_pheno</td><td>heavy_tics</td></tr>\n",
       "<tr><td>str</td><td>str</td><td>str</td><td>str</td><td>str</td><td>str</td><td>str</td><td>str</td></tr>\n",
       "</thead><tbody><tr><td>&quot;S_136&quot;</td><td>&quot;D&quot;</td><td>&quot;M&quot;</td><td>&quot;P&quot;</td><td>&quot;YES&quot;</td><td>&quot;GTS&quot;</td><td>&quot;.&quot;</td><td>&quot;n/a&quot;</td></tr>\n",
       "<tr><td>&quot;S_170c&quot;</td><td>&quot;B&quot;</td><td>&quot;M&quot;</td><td>&quot;father&quot;</td><td>&quot;YES&quot;</td><td>&quot;GTS&quot;</td><td>&quot;.&quot;</td><td>&quot;n/a&quot;</td></tr>\n",
       "<tr><td>&quot;S_170d&quot;</td><td>&quot;B&quot;</td><td>&quot;M&quot;</td><td>&quot;father_brother_son&quot;</td><td>&quot;YES&quot;</td><td>&quot;GTS&quot;</td><td>&quot;.&quot;</td><td>&quot;n/a&quot;</td></tr>\n",
       "<tr><td>&quot;S_6981&quot;</td><td>&quot;A&quot;</td><td>&quot;M&quot;</td><td>&quot;relative&quot;</td><td>&quot;n/a&quot;</td><td>&quot;n/a&quot;</td><td>&quot;.&quot;</td><td>&quot;n/a&quot;</td></tr>\n",
       "<tr><td>&quot;S_6982&quot;</td><td>&quot;A&quot;</td><td>&quot;F&quot;</td><td>&quot;relative&quot;</td><td>&quot;n/a&quot;</td><td>&quot;n/a&quot;</td><td>&quot;.&quot;</td><td>&quot;n/a&quot;</td></tr>\n",
       "<tr><td>&quot;S_7146&quot;</td><td>&quot;E&quot;</td><td>&quot;M&quot;</td><td>&quot;P&quot;</td><td>&quot;YES&quot;</td><td>&quot;GTS&quot;</td><td>&quot;.&quot;</td><td>&quot;n/a&quot;</td></tr>\n",
       "<tr><td>&quot;S_7156&quot;</td><td>&quot;.&quot;</td><td>&quot;F&quot;</td><td>&quot;.&quot;</td><td>&quot;n/a&quot;</td><td>&quot;n/a&quot;</td><td>&quot;.&quot;</td><td>NA</td></tr>\n",
       "<tr><td>&quot;S_7212&quot;</td><td>&quot;A&quot;</td><td>&quot;M&quot;</td><td>&quot;father&quot;</td><td>&quot;NO&quot;</td><td>&quot;.&quot;</td><td>&quot;.&quot;</td><td>&quot;n/a&quot;</td></tr>\n",
       "<tr><td>&quot;S_7213&quot;</td><td>&quot;A&quot;</td><td>&quot;M&quot;</td><td>&quot;mother_brother&quot;</td><td>&quot;NO&quot;</td><td>&quot;.&quot;</td><td>&quot;.&quot;</td><td>&quot;n/a&quot;</td></tr>\n",
       "<tr><td>&quot;S_7214&quot;</td><td>&quot;A&quot;</td><td>&quot;F&quot;</td><td>&quot;mother_brother_daughter&quot;</td><td>&quot;NO&quot;</td><td>&quot;.&quot;</td><td>&quot;.&quot;</td><td>&quot;n/a&quot;</td></tr>\n",
       "</tbody></table><p style=\"background: #fdd; padding: 0.4em;\">showing top 10 rows</p>\n"
      ],
      "text/plain": [
       "+----------+--------+-----+---------------------------+---------+-----------+\n",
       "| ID       | family | sex | kinship                   | disease | phenotype |\n",
       "+----------+--------+-----+---------------------------+---------+-----------+\n",
       "| str      | str    | str | str                       | str     | str       |\n",
       "+----------+--------+-----+---------------------------+---------+-----------+\n",
       "| \"S_136\"  | \"D\"    | \"M\" | \"P\"                       | \"YES\"   | \"GTS\"     |\n",
       "| \"S_170c\" | \"B\"    | \"M\" | \"father\"                  | \"YES\"   | \"GTS\"     |\n",
       "| \"S_170d\" | \"B\"    | \"M\" | \"father_brother_son\"      | \"YES\"   | \"GTS\"     |\n",
       "| \"S_6981\" | \"A\"    | \"M\" | \"relative\"                | \"n/a\"   | \"n/a\"     |\n",
       "| \"S_6982\" | \"A\"    | \"F\" | \"relative\"                | \"n/a\"   | \"n/a\"     |\n",
       "| \"S_7146\" | \"E\"    | \"M\" | \"P\"                       | \"YES\"   | \"GTS\"     |\n",
       "| \"S_7156\" | \".\"    | \"F\" | \".\"                       | \"n/a\"   | \"n/a\"     |\n",
       "| \"S_7212\" | \"A\"    | \"M\" | \"father\"                  | \"NO\"    | \".\"       |\n",
       "| \"S_7213\" | \"A\"    | \"M\" | \"mother_brother\"          | \"NO\"    | \".\"       |\n",
       "| \"S_7214\" | \"A\"    | \"F\" | \"mother_brother_daughter\" | \"NO\"    | \".\"       |\n",
       "+----------+--------+-----+---------------------------+---------+-----------+\n",
       "\n",
       "+-----------+------------+\n",
       "| add_pheno | heavy_tics |\n",
       "+-----------+------------+\n",
       "| str       | str        |\n",
       "+-----------+------------+\n",
       "| \".\"       | \"n/a\"      |\n",
       "| \".\"       | \"n/a\"      |\n",
       "| \".\"       | \"n/a\"      |\n",
       "| \".\"       | \"n/a\"      |\n",
       "| \".\"       | \"n/a\"      |\n",
       "| \".\"       | \"n/a\"      |\n",
       "| \".\"       | NA         |\n",
       "| \".\"       | \"n/a\"      |\n",
       "| \".\"       | \"n/a\"      |\n",
       "| \".\"       | \"n/a\"      |\n",
       "+-----------+------------+\n",
       "showing top 10 rows"
      ]
     },
     "metadata": {},
     "output_type": "display_data"
    }
   ],
   "source": [
    "pheno.show()"
   ]
  },
  {
   "cell_type": "markdown",
   "metadata": {},
   "source": [
    "<a id='1.2'></a>\n",
    "\n",
    "## 1.2 Annotate mt with phenotype and pedigree info"
   ]
  },
  {
   "cell_type": "code",
   "execution_count": 609,
   "metadata": {},
   "outputs": [],
   "source": [
    "mt = mt.annotate_cols(phenotypes = pheno[mt.s])"
   ]
  },
  {
   "cell_type": "markdown",
   "metadata": {},
   "source": [
    "<a id='2'></a> \n",
    "## 2. Explore MatrixTable, collect field descriptions"
   ]
  },
  {
   "cell_type": "code",
   "execution_count": 192,
   "metadata": {},
   "outputs": [],
   "source": [
    "header = hl.get_vcf_metadata('data/annotated.test.vcf')"
   ]
  },
  {
   "cell_type": "code",
   "execution_count": 618,
   "metadata": {
    "scrolled": true
   },
   "outputs": [
    {
     "name": "stdout",
     "output_type": "stream",
     "text": [
      "----------------------------------------\n",
      "Global fields:\n",
      "    None\n",
      "----------------------------------------\n",
      "Column fields:\n",
      "    's': str\n",
      "    'phenotypes': struct {\n",
      "        family: str, \n",
      "        sex: str, \n",
      "        kinship: str, \n",
      "        disease: str, \n",
      "        phenotype: str, \n",
      "        add_pheno: str, \n",
      "        heavy_tics: str\n",
      "    }\n",
      "----------------------------------------\n",
      "Row fields:\n",
      "    'locus': locus<GRCh38>\n",
      "    'alleles': array<str>\n",
      "    'rsid': str\n",
      "    'qual': float64\n",
      "    'filters': set<str>\n",
      "    'info': struct {\n",
      "        AC: array<int32>, \n",
      "        AF: array<float64>, \n",
      "        AN: int32, \n",
      "        BaseQRankSum: float64, \n",
      "        ClippingRankSum: float64, \n",
      "        DB: bool, \n",
      "        DP: int32, \n",
      "        ExcessHet: float64, \n",
      "        FS: float64, \n",
      "        InbreedingCoeff: float64, \n",
      "        MLEAC: array<int32>, \n",
      "        MLEAF: array<float64>, \n",
      "        MQ: float64, \n",
      "        MQRankSum: float64, \n",
      "        QD: float64, \n",
      "        ReadPosRankSum: float64, \n",
      "        SOR: float64, \n",
      "        MULTIALLELIC: bool, \n",
      "        ALTS: array<str>, \n",
      "        ALTS_pos: int32, \n",
      "        ALTS_indices: array<str>, \n",
      "        ISEQ_GNOMAD_EXOMES_AC: array<int32>, \n",
      "        ISEQ_GNOMAD_EXOMES_AN: int32, \n",
      "        ISEQ_GNOMAD_EXOMES_AF: array<float64>, \n",
      "        ISEQ_GNOMAD_EXOMES_nhomalt: array<int32>, \n",
      "        ISEQ_GNOMAD_EXOMES_controls_AF: array<float64>, \n",
      "        ISEQ_GNOMAD_EXOMES_controls_nhomalt: array<int32>, \n",
      "        ISEQ_GNOMAD_EXOMES_non_neuro_AF: array<float64>, \n",
      "        ISEQ_GNOMAD_EXOMES_non_neuro_nhomalt: array<int32>, \n",
      "        ISEQ_GNOMAD_EXOMES_non_cancer_AF: array<float64>, \n",
      "        ISEQ_GNOMAD_EXOMES_non_cancer_nhomalt: array<int32>, \n",
      "        ISEQ_GNOMAD_EXOMES_popmax: array<str>, \n",
      "        ISEQ_GNOMAD_EXOMES_popmax_AF: array<float64>, \n",
      "        ISEQ_GNOMAD_EXOMES_nhomalt_popmax: array<int32>, \n",
      "        ISEQ_GNOMAD_EXOMES_controls_popmax: array<str>, \n",
      "        ISEQ_GNOMAD_EXOMES_controls_AF_popmax: array<float64>, \n",
      "        ISEQ_GNOMAD_EXOMES_controls_nhomalt_popmax: array<int32>, \n",
      "        ISEQ_GNOMAD_EXOMES_non_neuro_popmax: array<str>, \n",
      "        ISEQ_GNOMAD_EXOMES_non_neuro_AF_popmax: array<float64>, \n",
      "        ISEQ_GNOMAD_EXOMES_non_neuro_nhomalt_popmax: array<int32>, \n",
      "        ISEQ_GNOMAD_EXOMES_non_cancer_popmax: array<str>, \n",
      "        ISEQ_GNOMAD_EXOMES_non_cancer_AF_popmax: array<float64>, \n",
      "        ISEQ_GNOMAD_EXOMES_non_cancer_nhomalt_popmax: array<int32>, \n",
      "        ISEQ_GNOMAD_EXOMES_AF_afr: array<float64>, \n",
      "        ISEQ_GNOMAD_EXOMES_controls_AF_afr: array<float64>, \n",
      "        ISEQ_GNOMAD_EXOMES_non_neuro_AF_afr: array<float64>, \n",
      "        ISEQ_GNOMAD_EXOMES_non_cancer_AF_afr: array<float64>, \n",
      "        ISEQ_GNOMAD_EXOMES_AF_amr: array<float64>, \n",
      "        ISEQ_GNOMAD_EXOMES_controls_AF_amr: array<float64>, \n",
      "        ISEQ_GNOMAD_EXOMES_non_neuro_AF_amr: array<float64>, \n",
      "        ISEQ_GNOMAD_EXOMES_non_cancer_AF_amr: array<float64>, \n",
      "        ISEQ_GNOMAD_EXOMES_AF_asj: array<float64>, \n",
      "        ISEQ_GNOMAD_EXOMES_controls_AF_asj: array<float64>, \n",
      "        ISEQ_GNOMAD_EXOMES_non_neuro_AF_asj: array<float64>, \n",
      "        ISEQ_GNOMAD_EXOMES_non_cancer_AF_asj: array<float64>, \n",
      "        ISEQ_GNOMAD_EXOMES_AF_eas: array<float64>, \n",
      "        ISEQ_GNOMAD_EXOMES_controls_AF_eas: array<float64>, \n",
      "        ISEQ_GNOMAD_EXOMES_non_neuro_AF_eas: array<float64>, \n",
      "        ISEQ_GNOMAD_EXOMES_non_cancer_AF_eas: array<float64>, \n",
      "        ISEQ_GNOMAD_EXOMES_AF_eas_subpopulations: array<str>, \n",
      "        ISEQ_GNOMAD_EXOMES_AF_fin: array<float64>, \n",
      "        ISEQ_GNOMAD_EXOMES_controls_AF_fin: array<float64>, \n",
      "        ISEQ_GNOMAD_EXOMES_non_neuro_AF_fin: array<float64>, \n",
      "        ISEQ_GNOMAD_EXOMES_non_cancer_AF_fin: array<float64>, \n",
      "        ISEQ_GNOMAD_EXOMES_AF_nfe: array<float64>, \n",
      "        ISEQ_GNOMAD_EXOMES_controls_AF_nfe: array<float64>, \n",
      "        ISEQ_GNOMAD_EXOMES_non_neuro_AF_nfe: array<float64>, \n",
      "        ISEQ_GNOMAD_EXOMES_non_cancer_AF_nfe: array<float64>, \n",
      "        ISEQ_GNOMAD_EXOMES_AF_nfe_subpopulations: array<str>, \n",
      "        ISEQ_GNOMAD_EXOMES_AF_sas: array<float64>, \n",
      "        ISEQ_GNOMAD_EXOMES_controls_AF_sas: array<float64>, \n",
      "        ISEQ_GNOMAD_EXOMES_non_neuro_AF_sas: array<float64>, \n",
      "        ISEQ_GNOMAD_EXOMES_non_cancer_AF_sas: array<float64>, \n",
      "        ISEQ_GNOMAD_EXOMES_AF_oth: array<float64>, \n",
      "        ISEQ_GNOMAD_EXOMES_controls_AF_oth: array<float64>, \n",
      "        ISEQ_GNOMAD_EXOMES_non_neuro_AF_oth: array<float64>, \n",
      "        ISEQ_GNOMAD_EXOMES_non_cancer_AF_oth: array<float64>, \n",
      "        ISEQ_GNOMAD_EXOMES_segdup: bool, \n",
      "        ISEQ_GNOMAD_EXOMES_lcr: bool, \n",
      "        ISEQ_GNOMAD_EXOMES_decoy: bool, \n",
      "        ISEQ_GNOMAD_EXOMES_nonpar: bool, \n",
      "        ISEQ_GNOMAD_EXOMES_FILTER_STATUS: array<str>, \n",
      "        ISEQ_GNOMAD_GENOMES_AC: array<int32>, \n",
      "        ISEQ_GNOMAD_GENOMES_AN: int32, \n",
      "        ISEQ_GNOMAD_GENOMES_AF: array<float64>, \n",
      "        ISEQ_GNOMAD_GENOMES_nhomalt: array<int32>, \n",
      "        ISEQ_GNOMAD_GENOMES_controls_AF: array<float64>, \n",
      "        ISEQ_GNOMAD_GENOMES_controls_nhomalt: array<int32>, \n",
      "        ISEQ_GNOMAD_GENOMES_non_neuro_AF: array<float64>, \n",
      "        ISEQ_GNOMAD_GENOMES_non_neuro_nhomalt: array<int32>, \n",
      "        ISEQ_GNOMAD_GENOMES_popmax: array<str>, \n",
      "        ISEQ_GNOMAD_GENOMES_popmax_AF: array<float64>, \n",
      "        ISEQ_GNOMAD_GENOMES_nhomalt_popmax: array<int32>, \n",
      "        ISEQ_GNOMAD_GENOMES_controls_popmax: array<str>, \n",
      "        ISEQ_GNOMAD_GENOMES_controls_AF_popmax: array<float64>, \n",
      "        ISEQ_GNOMAD_GENOMES_controls_nhomalt_popmax: array<int32>, \n",
      "        ISEQ_GNOMAD_GENOMES_non_neuro_popmax: array<str>, \n",
      "        ISEQ_GNOMAD_GENOMES_non_neuro_AF_popmax: array<float64>, \n",
      "        ISEQ_GNOMAD_GENOMES_non_neuro_nhomalt_popmax: array<int32>, \n",
      "        ISEQ_GNOMAD_GENOMES_AF_afr: array<float64>, \n",
      "        ISEQ_GNOMAD_GENOMES_controls_AF_afr: array<float64>, \n",
      "        ISEQ_GNOMAD_GENOMES_non_neuro_AF_afr: array<float64>, \n",
      "        ISEQ_GNOMAD_GENOMES_AF_amr: array<float64>, \n",
      "        ISEQ_GNOMAD_GENOMES_controls_AF_amr: array<float64>, \n",
      "        ISEQ_GNOMAD_GENOMES_non_neuro_AF_amr: array<float64>, \n",
      "        ISEQ_GNOMAD_GENOMES_AF_asj: array<float64>, \n",
      "        ISEQ_GNOMAD_GENOMES_controls_AF_asj: array<float64>, \n",
      "        ISEQ_GNOMAD_GENOMES_non_neuro_AF_asj: array<float64>, \n",
      "        ISEQ_GNOMAD_GENOMES_AF_eas: array<float64>, \n",
      "        ISEQ_GNOMAD_GENOMES_controls_AF_eas: array<float64>, \n",
      "        ISEQ_GNOMAD_GENOMES_non_neuro_AF_eas: array<float64>, \n",
      "        ISEQ_GNOMAD_GENOMES_AF_fin: array<float64>, \n",
      "        ISEQ_GNOMAD_GENOMES_controls_AF_fin: array<float64>, \n",
      "        ISEQ_GNOMAD_GENOMES_non_neuro_AF_fin: array<float64>, \n",
      "        ISEQ_GNOMAD_GENOMES_AF_nfe: array<float64>, \n",
      "        ISEQ_GNOMAD_GENOMES_controls_AF_nfe: array<float64>, \n",
      "        ISEQ_GNOMAD_GENOMES_non_neuro_AF_nfe: array<float64>, \n",
      "        ISEQ_GNOMAD_GENOMES_AF_nfe_subpopulations: array<str>, \n",
      "        ISEQ_GNOMAD_GENOMES_AF_oth: array<float64>, \n",
      "        ISEQ_GNOMAD_GENOMES_controls_AF_oth: array<float64>, \n",
      "        ISEQ_GNOMAD_GENOMES_non_neuro_AF_oth: array<float64>, \n",
      "        ISEQ_GNOMAD_GENOMES_segdup: bool, \n",
      "        ISEQ_GNOMAD_GENOMES_lcr: bool, \n",
      "        ISEQ_GNOMAD_GENOMES_decoy: bool, \n",
      "        ISEQ_GNOMAD_GENOMES_nonpar: bool, \n",
      "        ISEQ_GNOMAD_GENOMES_FILTER_STATUS: array<str>, \n",
      "        ISEQ_GNOMAD_GENOMES_V3_AC: array<int32>, \n",
      "        ISEQ_GNOMAD_GENOMES_V3_AN: int32, \n",
      "        ISEQ_GNOMAD_GENOMES_V3_AF: array<float64>, \n",
      "        ISEQ_GNOMAD_GENOMES_V3_nhomalt: array<int32>, \n",
      "        ISEQ_GNOMAD_GENOMES_V3_popmax: array<str>, \n",
      "        ISEQ_GNOMAD_GENOMES_V3_popmax_AF: array<float64>, \n",
      "        ISEQ_GNOMAD_GENOMES_V3_nhomalt_popmax: array<str>, \n",
      "        ISEQ_GNOMAD_GENOMES_V3_AF_ami: array<float64>, \n",
      "        ISEQ_GNOMAD_GENOMES_V3_AF_afr: array<float64>, \n",
      "        ISEQ_GNOMAD_GENOMES_V3_AF_amr: array<float64>, \n",
      "        ISEQ_GNOMAD_GENOMES_V3_AF_asj: array<float64>, \n",
      "        ISEQ_GNOMAD_GENOMES_V3_AF_eas: array<float64>, \n",
      "        ISEQ_GNOMAD_GENOMES_V3_AF_fin: array<float64>, \n",
      "        ISEQ_GNOMAD_GENOMES_V3_AF_nfe: array<float64>, \n",
      "        ISEQ_GNOMAD_GENOMES_V3_AF_sas: array<float64>, \n",
      "        ISEQ_GNOMAD_GENOMES_V3_AF_oth: array<float64>, \n",
      "        ISEQ_GNOMAD_GENOMES_V3_lcr: bool, \n",
      "        ISEQ_GNOMAD_GENOMES_V3_nonpar: bool, \n",
      "        ISEQ_GNOMAD_GENOMES_V3_FILTER_STATUS: array<str>, \n",
      "        ISEQ_EXAC_AC: array<float64>, \n",
      "        ISEQ_EXAC_AN: int32, \n",
      "        ISEQ_EXAC_AF: array<float64>, \n",
      "        ISEQ_EXAC_POPMAX: array<str>, \n",
      "        ISEQ_EXAC_POPMAX_AF: array<float64>, \n",
      "        ISEQ_EXAC_AFR_AF: array<float64>, \n",
      "        ISEQ_EXAC_AMR_AF: array<float64>, \n",
      "        ISEQ_EXAC_EAS_AF: array<float64>, \n",
      "        ISEQ_EXAC_FIN_AF: array<float64>, \n",
      "        ISEQ_EXAC_NFE_AF: array<float64>, \n",
      "        ISEQ_EXAC_OTH_AF: array<float64>, \n",
      "        ISEQ_EXAC_SAS_AF: array<float64>, \n",
      "        ISEQ_EXAC_FILTER_STATUS: array<str>, \n",
      "        ISEQ_KG_AF: array<float64>, \n",
      "        ISEQ_KG_EAS_AF: array<float64>, \n",
      "        ISEQ_KG_EUR_AF: array<float64>, \n",
      "        ISEQ_KG_AFR_AF: array<float64>, \n",
      "        ISEQ_KG_AMR_AF: array<float64>, \n",
      "        ISEQ_KG_SAS_AF: array<float64>, \n",
      "        ISEQ_ESP6500_EA_AF: array<float64>, \n",
      "        ISEQ_ESP6500_AA_AF: array<float64>, \n",
      "        ISEQ_ESP6500_AN: int32, \n",
      "        ISEQ_ESP6500_AF: array<float64>, \n",
      "        MITOMAP_AC: array<float64>, \n",
      "        MITOMAP_AF: array<float64>, \n",
      "        ANN: array<str>, \n",
      "        ISEQ_GENES_NAMES: array<str>, \n",
      "        ISEQ_HIGHEST_IMPACT: array<str>, \n",
      "        LOF: array<str>, \n",
      "        NMD: array<str>, \n",
      "        ISEQ_DBSNP_RS: array<str>, \n",
      "        ISEQ_M_CAP: array<float64>, \n",
      "        ISEQ_M_CAP_Sensitivity: array<float64>, \n",
      "        ISEQ_SIFT4G_MIN: array<float64>, \n",
      "        ISEQ_SIFT4G: array<str>, \n",
      "        ISEQ_GERP: array<float64>, \n",
      "        PhastCons100way: array<float64>, \n",
      "        PhyloP100way: array<float64>, \n",
      "        ISEQ_CLINVAR_ALLELE_ID: array<str>, \n",
      "        ISEQ_CLINVAR_VARIATION_ID: array<str>, \n",
      "        ISEQ_VARIANT_CLINVAR_DISEASES: array<str>, \n",
      "        ISEQ_VARIANT_CLINVAR_DISEASES_INCLUDED: array<str>, \n",
      "        ISEQ_AGGREGATED_CLINVAR_SIGNIFICANCE: array<str>, \n",
      "        ISEQ_CLINVAR_SIGNIFICANCE: array<str>, \n",
      "        ISEQ_AGGREGATED_CLINVAR_SIGNIFICANCE_INCLUDED: array<str>, \n",
      "        ISEQ_CLINVAR_SIGNIFICANCE_INCLUDED: array<str>, \n",
      "        ISEQ_CLINVAR_REVIEW_STATUS: array<str>, \n",
      "        MITOMAP_DISEASE: array<str>, \n",
      "        MITOMAP_DISEASE_STATUS: array<str>, \n",
      "        ISEQ_CLINVAR_DISEASES: array<str>, \n",
      "        ISEQ_HPO_DISEASES: array<str>, \n",
      "        ISEQ_HPO_PHENOTYPES: array<str>, \n",
      "        ISEQ_HPO_INHERITANCE: array<str>\n",
      "    }\n",
      "    'call_rate': float64\n",
      "----------------------------------------\n",
      "Entry fields:\n",
      "    'AD': array<int32>\n",
      "    'DP': int32\n",
      "    'GQ': int32\n",
      "    'GT': call\n",
      "    'PGT': call\n",
      "    'PID': str\n",
      "    'PL': array<int32>\n",
      "----------------------------------------\n",
      "Column key: ['s']\n",
      "Row key: ['locus', 'alleles']\n",
      "----------------------------------------\n"
     ]
    }
   ],
   "source": [
    "mt.describe() #see whats inside the mt"
   ]
  },
  {
   "cell_type": "code",
   "execution_count": 4,
   "metadata": {},
   "outputs": [
    {
     "data": {
      "text/html": [
       "<table><thead style=\"font-weight: bold;\"><tr><td>locus</td><td>alleles</td></tr>\n",
       "<tr><td>locus&lt;GRCh38&gt;</td><td>array&lt;str&gt;</td></tr>\n",
       "</thead><tbody><tr><td>chr1:10146</td><td>[&quot;AC&quot;,&quot;*&quot;]</td></tr>\n",
       "<tr><td>chr1:10177</td><td>[&quot;A&quot;,&quot;*&quot;]</td></tr>\n",
       "<tr><td>chr1:10622</td><td>[&quot;T&quot;,&quot;*&quot;]</td></tr>\n",
       "<tr><td>chr1:10623</td><td>[&quot;T&quot;,&quot;*&quot;]</td></tr>\n",
       "<tr><td>chr1:30923</td><td>[&quot;G&quot;,&quot;*&quot;]</td></tr>\n",
       "</tbody></table><p style=\"background: #fdd; padding: 0.4em;\">showing top 5 rows</p>\n"
      ],
      "text/plain": [
       "+---------------+------------+\n",
       "| locus         | alleles    |\n",
       "+---------------+------------+\n",
       "| locus<GRCh38> | array<str> |\n",
       "+---------------+------------+\n",
       "| chr1:10146    | [\"AC\",\"*\"] |\n",
       "| chr1:10177    | [\"A\",\"*\"]  |\n",
       "| chr1:10622    | [\"T\",\"*\"]  |\n",
       "| chr1:10623    | [\"T\",\"*\"]  |\n",
       "| chr1:30923    | [\"G\",\"*\"]  |\n",
       "+---------------+------------+\n",
       "showing top 5 rows"
      ]
     },
     "metadata": {},
     "output_type": "display_data"
    }
   ],
   "source": [
    "mt.rows().select().show(5)"
   ]
  },
  {
   "cell_type": "markdown",
   "metadata": {},
   "source": [
    "<a id='2.1'></a>\n",
    "\n",
    "## 2.1 Removing the star alleles\n",
    "\n",
    "### These are orphaned stars and shouldn't be here\n",
    "\n"
   ]
  },
  {
   "cell_type": "code",
   "execution_count": 363,
   "metadata": {},
   "outputs": [],
   "source": [
    "mt = mt.filter_rows(mt.alleles.contains('*'), keep = False)"
   ]
  },
  {
   "cell_type": "code",
   "execution_count": 620,
   "metadata": {},
   "outputs": [
    {
     "data": {
      "text/plain": [
       "151"
      ]
     },
     "execution_count": 620,
     "metadata": {},
     "output_type": "execute_result"
    }
   ],
   "source": [
    "mt.count_cols()"
   ]
  },
  {
   "cell_type": "code",
   "execution_count": 621,
   "metadata": {},
   "outputs": [
    {
     "data": {
      "text/plain": [
       "47373"
      ]
     },
     "execution_count": 621,
     "metadata": {},
     "output_type": "execute_result"
    }
   ],
   "source": [
    "mt.count_rows()"
   ]
  },
  {
   "cell_type": "markdown",
   "metadata": {},
   "source": [
    "<a id='2.2'></a>\n",
    "\n",
    "## 2.2 Creating a mt_p with patients only and mt_c with non-patients"
   ]
  },
  {
   "cell_type": "code",
   "execution_count": 625,
   "metadata": {},
   "outputs": [],
   "source": [
    "mt_p = mt.filter_cols(mt.phenotypes.disease == 'YES', keep = True)"
   ]
  },
  {
   "cell_type": "code",
   "execution_count": 649,
   "metadata": {},
   "outputs": [],
   "source": [
    "mt_p = mt_p.filter_rows(hl.agg.any(mt_p.GT.is_non_ref())) #filtering out variants that do not occur in any patients"
   ]
  },
  {
   "cell_type": "code",
   "execution_count": 650,
   "metadata": {},
   "outputs": [
    {
     "data": {
      "text/plain": [
       "(42135, 104)"
      ]
     },
     "execution_count": 650,
     "metadata": {},
     "output_type": "execute_result"
    }
   ],
   "source": [
    "mt_p.count()"
   ]
  },
  {
   "cell_type": "code",
   "execution_count": 628,
   "metadata": {},
   "outputs": [],
   "source": [
    "mt_c = mt.filter_cols(mt.phenotypes.disease != 'YES', keep = True)"
   ]
  },
  {
   "cell_type": "code",
   "execution_count": 661,
   "metadata": {},
   "outputs": [],
   "source": [
    "mt_c = mt_c.filter_rows(hl.agg.any(mt_c.GT.is_non_ref())) #filtering out variants that do not occur in any controls"
   ]
  },
  {
   "cell_type": "code",
   "execution_count": 662,
   "metadata": {},
   "outputs": [
    {
     "data": {
      "text/plain": [
       "(24019, 47)"
      ]
     },
     "execution_count": 662,
     "metadata": {},
     "output_type": "execute_result"
    }
   ],
   "source": [
    "mt_c.count()"
   ]
  },
  {
   "cell_type": "code",
   "execution_count": 652,
   "metadata": {},
   "outputs": [
    {
     "data": {
      "text/plain": [
       "2.2127659574468086"
      ]
     },
     "execution_count": 652,
     "metadata": {},
     "output_type": "execute_result"
    }
   ],
   "source": [
    "mt_p.count()[1] / mt_c.count()[1]"
   ]
  },
  {
   "cell_type": "code",
   "execution_count": 665,
   "metadata": {},
   "outputs": [
    {
     "data": {
      "text/plain": [
       "1.754236229651526"
      ]
     },
     "execution_count": 665,
     "metadata": {},
     "output_type": "execute_result"
    }
   ],
   "source": [
    "mt_p.count()[0] / mt_c.count()[0]"
   ]
  },
  {
   "cell_type": "markdown",
   "metadata": {},
   "source": [
    "We can use rows along with select to pull out 5 variants. The select method takes either a string refering to a field name in the table, or a Hail Expression. Here, we leave the arguments blank to keep only the row key fields, locus and alleles."
   ]
  },
  {
   "cell_type": "code",
   "execution_count": 366,
   "metadata": {},
   "outputs": [
    {
     "data": {
      "text/html": [
       "<table><thead style=\"font-weight: bold;\"><tr><td>locus</td><td>alleles</td></tr>\n",
       "<tr><td>locus&lt;GRCh38&gt;</td><td>array&lt;str&gt;</td></tr>\n",
       "</thead><tbody><tr><td>chr1:69968</td><td>[&quot;A&quot;,&quot;G&quot;]</td></tr>\n",
       "<tr><td>chr1:183189</td><td>[&quot;G&quot;,&quot;C&quot;]</td></tr>\n",
       "<tr><td>chr1:183238</td><td>[&quot;G&quot;,&quot;C&quot;]</td></tr>\n",
       "<tr><td>chr1:183937</td><td>[&quot;G&quot;,&quot;A&quot;]</td></tr>\n",
       "<tr><td>chr1:184994</td><td>[&quot;G&quot;,&quot;C&quot;]</td></tr>\n",
       "</tbody></table><p style=\"background: #fdd; padding: 0.4em;\">showing top 5 rows</p>\n",
       "<p style=\"background: #fdd; padding: 0.4em;\">showing the first 0 of 151 columns</p>\n"
      ],
      "text/plain": [
       "+---------------+------------+\n",
       "| locus         | alleles    |\n",
       "+---------------+------------+\n",
       "| locus<GRCh38> | array<str> |\n",
       "+---------------+------------+\n",
       "| chr1:69968    | [\"A\",\"G\"]  |\n",
       "| chr1:183189   | [\"G\",\"C\"]  |\n",
       "| chr1:183238   | [\"G\",\"C\"]  |\n",
       "| chr1:183937   | [\"G\",\"A\"]  |\n",
       "| chr1:184994   | [\"G\",\"C\"]  |\n",
       "+---------------+------------+\n",
       "showing top 5 rows\n",
       "showing the first 0 of 151 columns"
      ]
     },
     "metadata": {},
     "output_type": "display_data"
    }
   ],
   "source": [
    "mt.entry.show(5)"
   ]
  },
  {
   "cell_type": "code",
   "execution_count": 367,
   "metadata": {},
   "outputs": [
    {
     "data": {
      "text/plain": [
       "[Struct(AD=[7, 0], DP=7, GQ=21, GT=Call(alleles=[0, 0], phased=False), PGT=None, PID=None, PL=[0, 21, 239]),\n",
       " Struct(AD=[0, 0], DP=0, GQ=None, GT=None, PGT=None, PID=None, PL=None),\n",
       " Struct(AD=[0, 0], DP=0, GQ=None, GT=None, PGT=None, PID=None, PL=None),\n",
       " Struct(AD=[0, 0], DP=0, GQ=None, GT=None, PGT=None, PID=None, PL=None),\n",
       " Struct(AD=[6, 0], DP=6, GQ=18, GT=Call(alleles=[0, 0], phased=False), PGT=None, PID=None, PL=[0, 18, 173])]"
      ]
     },
     "execution_count": 367,
     "metadata": {},
     "output_type": "execute_result"
    }
   ],
   "source": [
    "mt.entry.take(5) #create a list"
   ]
  },
  {
   "cell_type": "code",
   "execution_count": 368,
   "metadata": {},
   "outputs": [
    {
     "data": {
      "text/plain": [
       "Struct(AD=[10, 0], DP=10, GQ=30, GT=Call(alleles=[0, 0], phased=False), PGT=None, PID=None, PL=[0, 30, 327])"
      ]
     },
     "execution_count": 368,
     "metadata": {},
     "output_type": "execute_result"
    }
   ],
   "source": [
    "mt.entry.take(200)[130] #but works slow!"
   ]
  },
  {
   "cell_type": "code",
   "execution_count": 40,
   "metadata": {},
   "outputs": [
    {
     "data": {
      "text/html": [
       "<table><thead style=\"font-weight: bold;\"><tr><td>s</td></tr>\n",
       "<tr><td>str</td></tr>\n",
       "</thead><tbody><tr><td>&quot;S_136&quot;</td></tr>\n",
       "<tr><td>&quot;S_170c&quot;</td></tr>\n",
       "<tr><td>&quot;S_170d&quot;</td></tr>\n",
       "<tr><td>&quot;S_6981&quot;</td></tr>\n",
       "<tr><td>&quot;S_6982&quot;</td></tr>\n",
       "</tbody></table><p style=\"background: #fdd; padding: 0.4em;\">showing top 5 rows</p>\n"
      ],
      "text/plain": [
       "+----------+\n",
       "| s        |\n",
       "+----------+\n",
       "| str      |\n",
       "+----------+\n",
       "| \"S_136\"  |\n",
       "| \"S_170c\" |\n",
       "| \"S_170d\" |\n",
       "| \"S_6981\" |\n",
       "| \"S_6982\" |\n",
       "+----------+\n",
       "showing top 5 rows"
      ]
     },
     "metadata": {},
     "output_type": "display_data"
    }
   ],
   "source": [
    "mt.s.show(5) #samples\n"
   ]
  },
  {
   "cell_type": "code",
   "execution_count": 191,
   "metadata": {},
   "outputs": [
    {
     "name": "stdout",
     "output_type": "stream",
     "text": [
      "--------------------------------------------------------\n",
      "Type:\n",
      "        str\n",
      "--------------------------------------------------------\n",
      "Source:\n",
      "    <hail.matrixtable.MatrixTable object at 0x7f93c162d410>\n",
      "Index:\n",
      "    ['column']\n",
      "--------------------------------------------------------\n"
     ]
    }
   ],
   "source": [
    "mt.s.describe()"
   ]
  },
  {
   "cell_type": "code",
   "execution_count": 442,
   "metadata": {},
   "outputs": [
    {
     "data": {
      "text/plain": [
       "['S_136', 'S_170c', 'S_170d', 'S_6981', 'S_6982']"
      ]
     },
     "execution_count": 442,
     "metadata": {},
     "output_type": "execute_result"
    }
   ],
   "source": [
    "mt.s.take(5)"
   ]
  },
  {
   "cell_type": "code",
   "execution_count": 369,
   "metadata": {},
   "outputs": [
    {
     "data": {
      "text/html": [
       "<table><thead style=\"font-weight: bold;\"><tr><td>locus</td><td>alleles</td><td>S_136.GT</td><td>S_170c.GT</td><td>S_170d.GT</td><td>S_6981.GT</td></tr>\n",
       "<tr><td>locus&lt;GRCh38&gt;</td><td>array&lt;str&gt;</td><td>call</td><td>call</td><td>call</td><td>call</td></tr>\n",
       "</thead><tbody><tr><td>chr1:69968</td><td>[&quot;A&quot;,&quot;G&quot;]</td><td>0/0</td><td>NA</td><td>NA</td><td>NA</td></tr>\n",
       "<tr><td>chr1:183189</td><td>[&quot;G&quot;,&quot;C&quot;]</td><td>0/0</td><td>0/0</td><td>0/0</td><td>0/0</td></tr>\n",
       "<tr><td>chr1:183238</td><td>[&quot;G&quot;,&quot;C&quot;]</td><td>0/0</td><td>0/0</td><td>0/0</td><td>0/0</td></tr>\n",
       "<tr><td>chr1:183937</td><td>[&quot;G&quot;,&quot;A&quot;]</td><td>0/0</td><td>0/1</td><td>0/1</td><td>0/0</td></tr>\n",
       "<tr><td>chr1:184994</td><td>[&quot;G&quot;,&quot;C&quot;]</td><td>0/0</td><td>0/0</td><td>NA</td><td>0/0</td></tr>\n",
       "<tr><td>chr1:185336</td><td>[&quot;C&quot;,&quot;T&quot;]</td><td>0/0</td><td>0/1</td><td>0/0</td><td>0/0</td></tr>\n",
       "<tr><td>chr1:185497</td><td>[&quot;G&quot;,&quot;A&quot;]</td><td>0/0</td><td>0/0</td><td>0/1</td><td>0/0</td></tr>\n",
       "<tr><td>chr1:185550</td><td>[&quot;G&quot;,&quot;A&quot;]</td><td>0/0</td><td>0/0</td><td>0/0</td><td>0/0</td></tr>\n",
       "<tr><td>chr1:186338</td><td>[&quot;T&quot;,&quot;G&quot;]</td><td>0/1</td><td>0/0</td><td>0/1</td><td>0/1</td></tr>\n",
       "<tr><td>chr1:186341</td><td>[&quot;T&quot;,&quot;G&quot;]</td><td>0/0</td><td>0/0</td><td>0/0</td><td>0/0</td></tr>\n",
       "</tbody></table><p style=\"background: #fdd; padding: 0.4em;\">showing top 10 rows</p>\n",
       "<p style=\"background: #fdd; padding: 0.4em;\">showing the first 4 of 151 columns</p>\n"
      ],
      "text/plain": [
       "+---------------+------------+----------+-----------+-----------+-----------+\n",
       "| locus         | alleles    | S_136.GT | S_170c.GT | S_170d.GT | S_6981.GT |\n",
       "+---------------+------------+----------+-----------+-----------+-----------+\n",
       "| locus<GRCh38> | array<str> | call     | call      | call      | call      |\n",
       "+---------------+------------+----------+-----------+-----------+-----------+\n",
       "| chr1:69968    | [\"A\",\"G\"]  | 0/0      | NA        | NA        | NA        |\n",
       "| chr1:183189   | [\"G\",\"C\"]  | 0/0      | 0/0       | 0/0       | 0/0       |\n",
       "| chr1:183238   | [\"G\",\"C\"]  | 0/0      | 0/0       | 0/0       | 0/0       |\n",
       "| chr1:183937   | [\"G\",\"A\"]  | 0/0      | 0/1       | 0/1       | 0/0       |\n",
       "| chr1:184994   | [\"G\",\"C\"]  | 0/0      | 0/0       | NA        | 0/0       |\n",
       "| chr1:185336   | [\"C\",\"T\"]  | 0/0      | 0/1       | 0/0       | 0/0       |\n",
       "| chr1:185497   | [\"G\",\"A\"]  | 0/0      | 0/0       | 0/1       | 0/0       |\n",
       "| chr1:185550   | [\"G\",\"A\"]  | 0/0      | 0/0       | 0/0       | 0/0       |\n",
       "| chr1:186338   | [\"T\",\"G\"]  | 0/1      | 0/0       | 0/1       | 0/1       |\n",
       "| chr1:186341   | [\"T\",\"G\"]  | 0/0      | 0/0       | 0/0       | 0/0       |\n",
       "+---------------+------------+----------+-----------+-----------+-----------+\n",
       "showing top 10 rows\n",
       "showing the first 4 of 151 columns"
      ]
     },
     "metadata": {},
     "output_type": "display_data"
    }
   ],
   "source": [
    "mt.GT.show()"
   ]
  },
  {
   "cell_type": "code",
   "execution_count": 371,
   "metadata": {},
   "outputs": [
    {
     "name": "stdout",
     "output_type": "stream",
     "text": [
      "--------------------------------------------------------\n",
      "Type:\n",
      "        array<str>\n",
      "--------------------------------------------------------\n",
      "Source:\n",
      "    <hail.matrixtable.MatrixTable object at 0x7f939ceb6490>\n",
      "Index:\n",
      "    ['row']\n",
      "--------------------------------------------------------\n"
     ]
    }
   ],
   "source": [
    "mt.info.ISEQ_CLINVAR_REVIEW_STATUS.describe() #describe a field"
   ]
  },
  {
   "cell_type": "code",
   "execution_count": 372,
   "metadata": {},
   "outputs": [
    {
     "data": {
      "text/html": [
       "<p><b>Variant summary:</b></p><ul><li><p>Total variants: 47373</p></li><li><p>Alleles per variant:</p><table><thead style=\"font-weight: bold;\"><tr><th>Number of alleles</th><th>Count</th></tr></thead><tbody><tr><td>2</td><td>47373</td></tr></tbody></table></li><li><p>Counts by allele type:</p><table><thead style=\"font-weight: bold;\"><tr><th>Allele type</th><th>Count</th></tr></thead><tbody><tr><td>SNP</td><td>41030</td></tr><tr><td>Deletion</td><td>3351</td></tr><tr><td>Insertion</td><td>2992</td></tr></tbody></table></li><li><p>Variants per contig:</p><table><thead style=\"font-weight: bold;\"><tr><th>Contig</th><th>Count</th></tr></thead><tbody><tr><td>chr1</td><td>4499</td></tr><tr><td>chr2</td><td>2769</td></tr><tr><td>chr3</td><td>2436</td></tr><tr><td>chr4</td><td>1549</td></tr><tr><td>chr5</td><td>2578</td></tr><tr><td>chr6</td><td>1900</td></tr><tr><td>chr7</td><td>2886</td></tr><tr><td>chr8</td><td>1458</td></tr><tr><td>chr9</td><td>1812</td></tr><tr><td>chr10</td><td>1567</td></tr><tr><td>chr11</td><td>2776</td></tr><tr><td>chr12</td><td>2232</td></tr><tr><td>chr13</td><td>636</td></tr><tr><td>chr14</td><td>1607</td></tr><tr><td>chr15</td><td>1399</td></tr><tr><td>chr16</td><td>2154</td></tr><tr><td>chr17</td><td>6266</td></tr><tr><td>chr18</td><td>556</td></tr><tr><td>chr19</td><td>3145</td></tr><tr><td>chr20</td><td>850</td></tr><tr><td>chr21</td><td>394</td></tr><tr><td>chr22</td><td>797</td></tr><tr><td>chrX</td><td>1016</td></tr><tr><td>chrY</td><td>16</td></tr><tr><td>chrM</td><td>75</td></tr></tbody></table></li></ul>"
      ],
      "text/plain": [
       "==============================\n",
       "Number of variants: 47373\n",
       "==============================\n",
       "Alleles per variant\n",
       "-------------------\n",
       "  2 alleles: 47373 variants\n",
       "==============================\n",
       "Variants per contig\n",
       "-------------------\n",
       "   chr1: 4499 variants\n",
       "   chr2: 2769 variants\n",
       "   chr3: 2436 variants\n",
       "   chr4: 1549 variants\n",
       "   chr5: 2578 variants\n",
       "   chr6: 1900 variants\n",
       "   chr7: 2886 variants\n",
       "   chr8: 1458 variants\n",
       "   chr9: 1812 variants\n",
       "  chr10: 1567 variants\n",
       "  chr11: 2776 variants\n",
       "  chr12: 2232 variants\n",
       "  chr13: 636 variants\n",
       "  chr14: 1607 variants\n",
       "  chr15: 1399 variants\n",
       "  chr16: 2154 variants\n",
       "  chr17: 6266 variants\n",
       "  chr18: 556 variants\n",
       "  chr19: 3145 variants\n",
       "  chr20: 850 variants\n",
       "  chr21: 394 variants\n",
       "  chr22: 797 variants\n",
       "   chrX: 1016 variants\n",
       "   chrY: 16 variants\n",
       "   chrM: 75 variants\n",
       "==============================\n",
       "Allele type distribution\n",
       "------------------------\n",
       "        SNP: 41030 alternate alleles\n",
       "   Deletion: 3351 alternate alleles\n",
       "  Insertion: 2992 alternate alleles\n",
       "=============================="
      ]
     },
     "metadata": {},
     "output_type": "display_data"
    }
   ],
   "source": [
    "hl.summarize_variants(mt)"
   ]
  },
  {
   "cell_type": "markdown",
   "metadata": {},
   "source": [
    "<a id='3'></a> \n",
    "## 3. Do simple aggregations, filtering and plots"
   ]
  },
  {
   "cell_type": "code",
   "execution_count": 622,
   "metadata": {},
   "outputs": [
    {
     "data": {
      "text/plain": [
       "{False: 6678428, True: 474895}"
      ]
     },
     "execution_count": 622,
     "metadata": {},
     "output_type": "execute_result"
    }
   ],
   "source": [
    "mt.aggregate_entries(hl.agg.counter(mt.info.MULTIALLELIC)) #count occurence of given value, but has troubles with the array fields"
   ]
  },
  {
   "cell_type": "markdown",
   "metadata": {},
   "source": [
    "exercise: Try to see some variants where ISEQ_GENES_NAMES is.defined:"
   ]
  },
  {
   "cell_type": "code",
   "execution_count": 448,
   "metadata": {},
   "outputs": [
    {
     "data": {
      "text/html": [
       "<table><thead style=\"font-weight: bold;\"><tr><td>locus</td><td>alleles</td><td><expr></td></tr>\n",
       "<tr><td>locus&lt;GRCh38&gt;</td><td>array&lt;str&gt;</td><td>array&lt;str&gt;</td></tr>\n",
       "</thead><tbody><tr><td>chr1:69968</td><td>[&quot;A&quot;,&quot;G&quot;]</td><td>[&quot;OR4F5&quot;]</td></tr>\n",
       "<tr><td>chr1:183189</td><td>[&quot;G&quot;,&quot;C&quot;]</td><td>[&quot;FO538757.2&quot;]</td></tr>\n",
       "<tr><td>chr1:183238</td><td>[&quot;G&quot;,&quot;C&quot;]</td><td>[&quot;FO538757.2&quot;]</td></tr>\n",
       "<tr><td>chr1:183937</td><td>[&quot;G&quot;,&quot;A&quot;]</td><td>[&quot;FO538757.2&quot;]</td></tr>\n",
       "<tr><td>chr1:184994</td><td>[&quot;G&quot;,&quot;C&quot;]</td><td>[&quot;FO538757.1&quot;]</td></tr>\n",
       "</tbody></table><p style=\"background: #fdd; padding: 0.4em;\">showing top 5 rows</p>\n"
      ],
      "text/plain": [
       "+---------------+------------+----------------+\n",
       "| locus         | alleles    | <expr>         |\n",
       "+---------------+------------+----------------+\n",
       "| locus<GRCh38> | array<str> | array<str>     |\n",
       "+---------------+------------+----------------+\n",
       "| chr1:69968    | [\"A\",\"G\"]  | [\"OR4F5\"]      |\n",
       "| chr1:183189   | [\"G\",\"C\"]  | [\"FO538757.2\"] |\n",
       "| chr1:183238   | [\"G\",\"C\"]  | [\"FO538757.2\"] |\n",
       "| chr1:183937   | [\"G\",\"A\"]  | [\"FO538757.2\"] |\n",
       "| chr1:184994   | [\"G\",\"C\"]  | [\"FO538757.1\"] |\n",
       "+---------------+------------+----------------+\n",
       "showing top 5 rows"
      ]
     },
     "metadata": {},
     "output_type": "display_data"
    }
   ],
   "source": [
    "mt.filter_rows(hl.is_defined(mt.info.ISEQ_GENES_NAMES)).info.ISEQ_GENES_NAMES.show(5) #is_defined() filters out empty/nondefined"
   ]
  },
  {
   "cell_type": "code",
   "execution_count": 449,
   "metadata": {},
   "outputs": [
    {
     "data": {
      "text/plain": [
       "{0: 6651990, 1: 344890, 2: 84194, None: 72249}"
      ]
     },
     "execution_count": 449,
     "metadata": {},
     "output_type": "execute_result"
    }
   ],
   "source": [
    "mt.aggregate_entries(hl.agg.counter(mt.GT.n_alt_alleles())) #distribution of genotype calls"
   ]
  },
  {
   "cell_type": "code",
   "execution_count": 450,
   "metadata": {},
   "outputs": [
    {
     "data": {
      "text/plain": [
       "0.9898999388116544"
      ]
     },
     "execution_count": 450,
     "metadata": {},
     "output_type": "execute_result"
    }
   ],
   "source": [
    "mt.aggregate_entries(hl.agg.fraction(hl.is_defined(mt.GT))) #calculate the call rate directly"
   ]
  },
  {
   "cell_type": "markdown",
   "metadata": {},
   "source": [
    "annotate the mt with call rate per variant: "
   ]
  },
  {
   "cell_type": "code",
   "execution_count": 451,
   "metadata": {},
   "outputs": [],
   "source": [
    "mt = mt.annotate_rows(call_rate = hl.agg.fraction(hl.is_defined(mt.GT)))"
   ]
  },
  {
   "cell_type": "code",
   "execution_count": 452,
   "metadata": {},
   "outputs": [
    {
     "name": "stdout",
     "output_type": "stream",
     "text": [
      "--------------------------------------------------------\n",
      "Type:\n",
      "        float64\n",
      "--------------------------------------------------------\n",
      "Source:\n",
      "    <hail.matrixtable.MatrixTable object at 0x7f935fd37ad0>\n",
      "Index:\n",
      "    ['row']\n",
      "--------------------------------------------------------\n"
     ]
    }
   ],
   "source": [
    "mt.call_rate.describe()"
   ]
  },
  {
   "cell_type": "code",
   "execution_count": 453,
   "metadata": {},
   "outputs": [
    {
     "data": {
      "text/html": [
       "<p>47373 records.</p><b>call_rate</b> (<i>float64</i>):<ul><table><tbody><tr><td>Non-missing</td><td>47373 (100.00%)</td></tr><tr><td>Missing</td><td>0</td></tr><tr><td>Minimum</td><td>0.01</td></tr><tr><td>Maximum</td><td>1.00</td></tr><tr><td>Mean</td><td>0.99</td></tr><tr><td>Std Dev</td><td>0.06</td></tr></tbody></table></ul>"
      ],
      "text/plain": [
       "\n",
       "47373 records.\n",
       "\n",
       "- call_rate (float64):\n",
       "  Non-missing: 47373 (100.00%)\n",
       "      Missing: 0\n",
       "      Minimum: 0.01\n",
       "      Maximum: 1.00\n",
       "         Mean: 0.99\n",
       "      Std Dev: 0.06"
      ]
     },
     "metadata": {},
     "output_type": "display_data"
    }
   ],
   "source": [
    "mt.call_rate.summarize()"
   ]
  },
  {
   "cell_type": "code",
   "execution_count": 460,
   "metadata": {},
   "outputs": [
    {
     "data": {
      "text/html": [
       "\n",
       "\n",
       "\n",
       "\n",
       "\n",
       "\n",
       "  <div class=\"bk-root\" id=\"c302bff1-da87-43a0-8c6f-9c9bf80dbf1e\" data-root-id=\"7245\"></div>\n"
      ]
     },
     "metadata": {},
     "output_type": "display_data"
    },
    {
     "data": {
      "application/javascript": [
       "(function(root) {\n",
       "  function embed_document(root) {\n",
       "    \n",
       "  var docs_json = {\"19848e0f-6572-45cc-8365-fd056b960702\":{\"roots\":{\"references\":[{\"attributes\":{\"background_fill_color\":{\"value\":\"#EEEEEE\"},\"below\":[{\"id\":\"7256\",\"type\":\"LinearAxis\"}],\"center\":[{\"id\":\"7260\",\"type\":\"Grid\"},{\"id\":\"7265\",\"type\":\"Grid\"},{\"id\":\"7290\",\"type\":\"Legend\"}],\"left\":[{\"id\":\"7261\",\"type\":\"LinearAxis\"}],\"renderers\":[{\"id\":\"7282\",\"type\":\"GlyphRenderer\"}],\"title\":{\"id\":\"7246\",\"type\":\"Title\"},\"toolbar\":{\"id\":\"7272\",\"type\":\"Toolbar\"},\"x_range\":{\"id\":\"7248\",\"type\":\"Range1d\"},\"x_scale\":{\"id\":\"7252\",\"type\":\"LinearScale\"},\"y_range\":{\"id\":\"7250\",\"type\":\"DataRange1d\"},\"y_scale\":{\"id\":\"7254\",\"type\":\"LinearScale\"}},\"id\":\"7245\",\"subtype\":\"Figure\",\"type\":\"Plot\"},{\"attributes\":{\"active_drag\":\"auto\",\"active_inspect\":\"auto\",\"active_multi\":null,\"active_scroll\":\"auto\",\"active_tap\":\"auto\",\"tools\":[{\"id\":\"7266\",\"type\":\"PanTool\"},{\"id\":\"7267\",\"type\":\"WheelZoomTool\"},{\"id\":\"7268\",\"type\":\"BoxZoomTool\"},{\"id\":\"7269\",\"type\":\"SaveTool\"},{\"id\":\"7270\",\"type\":\"ResetTool\"},{\"id\":\"7271\",\"type\":\"HelpTool\"}]},\"id\":\"7272\",\"type\":\"Toolbar\"},{\"attributes\":{},\"id\":\"7269\",\"type\":\"SaveTool\"},{\"attributes\":{\"label\":{\"value\":\"Call Rate\"},\"renderers\":[{\"id\":\"7282\",\"type\":\"GlyphRenderer\"}]},\"id\":\"7291\",\"type\":\"LegendItem\"},{\"attributes\":{},\"id\":\"7262\",\"type\":\"BasicTicker\"},{\"attributes\":{\"text\":\"Variant Call Rate Histogram\"},\"id\":\"7246\",\"type\":\"Title\"},{\"attributes\":{\"bottom\":{\"value\":0},\"fill_alpha\":{\"value\":0.1},\"fill_color\":{\"value\":\"#1f77b4\"},\"left\":{\"field\":\"left\"},\"line_alpha\":{\"value\":0.1},\"line_color\":{\"value\":\"#1f77b4\"},\"right\":{\"field\":\"right\"},\"top\":{\"field\":\"top\"}},\"id\":\"7281\",\"type\":\"Quad\"},{\"attributes\":{},\"id\":\"7271\",\"type\":\"HelpTool\"},{\"attributes\":{},\"id\":\"7252\",\"type\":\"LinearScale\"},{\"attributes\":{\"callback\":null,\"data\":{\"left\":[0.0,0.04,0.08,0.12,0.16,0.2,0.24,0.28,0.32,0.36,0.4,0.44,0.48,0.52,0.56,0.6,0.64,0.68,0.72,0.76,0.8,0.84,0.88,0.92,0.96],\"right\":[0.04,0.08,0.12,0.16,0.2,0.24,0.28,0.32,0.36,0.4,0.44,0.48,0.52,0.56,0.6,0.64,0.68,0.72,0.76,0.8,0.84,0.88,0.92,0.96,1.0],\"top\":[12,9,14,16,4,7,18,10,10,20,20,32,47,31,40,56,57,77,83,111,103,137,234,442,45783]},\"selected\":{\"id\":\"7530\",\"type\":\"Selection\"},\"selection_policy\":{\"id\":\"7529\",\"type\":\"UnionRenderers\"}},\"id\":\"7279\",\"type\":\"ColumnDataSource\"},{\"attributes\":{},\"id\":\"7270\",\"type\":\"ResetTool\"},{\"attributes\":{\"callback\":null,\"end\":1.05,\"start\":-0.05},\"id\":\"7248\",\"type\":\"Range1d\"},{\"attributes\":{},\"id\":\"7285\",\"type\":\"BasicTickFormatter\"},{\"attributes\":{\"bottom_units\":\"screen\",\"fill_alpha\":{\"value\":0.5},\"fill_color\":{\"value\":\"lightgrey\"},\"left_units\":\"screen\",\"level\":\"overlay\",\"line_alpha\":{\"value\":1.0},\"line_color\":{\"value\":\"black\"},\"line_dash\":[4,4],\"line_width\":{\"value\":2},\"render_mode\":\"css\",\"right_units\":\"screen\",\"top_units\":\"screen\"},\"id\":\"7289\",\"type\":\"BoxAnnotation\"},{\"attributes\":{\"axis_label\":\"Call Rate\",\"formatter\":{\"id\":\"7287\",\"type\":\"BasicTickFormatter\"},\"ticker\":{\"id\":\"7257\",\"type\":\"BasicTicker\"}},\"id\":\"7256\",\"type\":\"LinearAxis\"},{\"attributes\":{\"callback\":null},\"id\":\"7250\",\"type\":\"DataRange1d\"},{\"attributes\":{\"ticker\":{\"id\":\"7257\",\"type\":\"BasicTicker\"}},\"id\":\"7260\",\"type\":\"Grid\"},{\"attributes\":{},\"id\":\"7529\",\"type\":\"UnionRenderers\"},{\"attributes\":{\"axis_label\":\"Frequency\",\"formatter\":{\"id\":\"7285\",\"type\":\"BasicTickFormatter\"},\"ticker\":{\"id\":\"7262\",\"type\":\"BasicTicker\"}},\"id\":\"7261\",\"type\":\"LinearAxis\"},{\"attributes\":{\"bottom\":{\"value\":0},\"fill_color\":{\"value\":\"#1f77b4\"},\"left\":{\"field\":\"left\"},\"right\":{\"field\":\"right\"},\"top\":{\"field\":\"top\"}},\"id\":\"7280\",\"type\":\"Quad\"},{\"attributes\":{\"data_source\":{\"id\":\"7279\",\"type\":\"ColumnDataSource\"},\"glyph\":{\"id\":\"7280\",\"type\":\"Quad\"},\"hover_glyph\":null,\"muted_glyph\":null,\"nonselection_glyph\":{\"id\":\"7281\",\"type\":\"Quad\"},\"selection_glyph\":null,\"view\":{\"id\":\"7283\",\"type\":\"CDSView\"}},\"id\":\"7282\",\"type\":\"GlyphRenderer\"},{\"attributes\":{},\"id\":\"7257\",\"type\":\"BasicTicker\"},{\"attributes\":{\"items\":[{\"id\":\"7291\",\"type\":\"LegendItem\"}]},\"id\":\"7290\",\"type\":\"Legend\"},{\"attributes\":{\"overlay\":{\"id\":\"7289\",\"type\":\"BoxAnnotation\"}},\"id\":\"7268\",\"type\":\"BoxZoomTool\"},{\"attributes\":{},\"id\":\"7267\",\"type\":\"WheelZoomTool\"},{\"attributes\":{},\"id\":\"7266\",\"type\":\"PanTool\"},{\"attributes\":{},\"id\":\"7254\",\"type\":\"LinearScale\"},{\"attributes\":{},\"id\":\"7530\",\"type\":\"Selection\"},{\"attributes\":{\"dimension\":1,\"ticker\":{\"id\":\"7262\",\"type\":\"BasicTicker\"}},\"id\":\"7265\",\"type\":\"Grid\"},{\"attributes\":{\"source\":{\"id\":\"7279\",\"type\":\"ColumnDataSource\"}},\"id\":\"7283\",\"type\":\"CDSView\"},{\"attributes\":{},\"id\":\"7287\",\"type\":\"BasicTickFormatter\"}],\"root_ids\":[\"7245\"]},\"title\":\"Bokeh Application\",\"version\":\"1.2.0\"}};\n",
       "  var render_items = [{\"docid\":\"19848e0f-6572-45cc-8365-fd056b960702\",\"roots\":{\"7245\":\"c302bff1-da87-43a0-8c6f-9c9bf80dbf1e\"}}];\n",
       "  root.Bokeh.embed.embed_items_notebook(docs_json, render_items);\n",
       "\n",
       "  }\n",
       "  if (root.Bokeh !== undefined) {\n",
       "    embed_document(root);\n",
       "  } else {\n",
       "    var attempts = 0;\n",
       "    var timer = setInterval(function(root) {\n",
       "      if (root.Bokeh !== undefined) {\n",
       "        embed_document(root);\n",
       "        clearInterval(timer);\n",
       "      }\n",
       "      attempts++;\n",
       "      if (attempts > 100) {\n",
       "        console.log(\"Bokeh: ERROR: Unable to run BokehJS code because BokehJS library is missing\");\n",
       "        clearInterval(timer);\n",
       "      }\n",
       "    }, 10, root)\n",
       "  }\n",
       "})(window);"
      ],
      "application/vnd.bokehjs_exec.v0+json": ""
     },
     "metadata": {
      "application/vnd.bokehjs_exec.v0+json": {
       "id": "7245"
      }
     },
     "output_type": "display_data"
    }
   ],
   "source": [
    "p = hl.plot.histogram(mt.call_rate, bins=25, title='Variant Call Rate Histogram', range=(0,1.0), legend='Call Rate')\n",
    "show(p) #plot call rate per variant frequency"
   ]
  },
  {
   "cell_type": "code",
   "execution_count": 490,
   "metadata": {},
   "outputs": [
    {
     "data": {
      "text/html": [
       "\n",
       "\n",
       "\n",
       "\n",
       "\n",
       "\n",
       "  <div class=\"bk-root\" id=\"329c9e3a-37a2-4d85-8e44-b44012f5f9bf\" data-root-id=\"7951\"></div>\n"
      ]
     },
     "metadata": {},
     "output_type": "display_data"
    },
    {
     "data": {
      "application/javascript": [
       "(function(root) {\n",
       "  function embed_document(root) {\n",
       "    \n",
       "  var docs_json = {\"c9131da5-7787-4499-9f12-e5ac814f5c7b\":{\"roots\":{\"references\":[{\"attributes\":{\"background_fill_color\":{\"value\":\"#EEEEEE\"},\"below\":[{\"id\":\"7962\",\"type\":\"LinearAxis\"}],\"center\":[{\"id\":\"7966\",\"type\":\"Grid\"},{\"id\":\"7971\",\"type\":\"Grid\"},{\"id\":\"7996\",\"type\":\"Legend\"}],\"left\":[{\"id\":\"7967\",\"type\":\"LinearAxis\"}],\"renderers\":[{\"id\":\"7988\",\"type\":\"GlyphRenderer\"},{\"id\":\"8001\",\"type\":\"GlyphRenderer\"}],\"title\":{\"id\":\"7952\",\"type\":\"Title\"},\"toolbar\":{\"id\":\"7978\",\"type\":\"Toolbar\"},\"x_range\":{\"id\":\"7954\",\"type\":\"Range1d\"},\"x_scale\":{\"id\":\"7958\",\"type\":\"LinearScale\"},\"y_range\":{\"id\":\"7956\",\"type\":\"DataRange1d\"},\"y_scale\":{\"id\":\"7960\",\"type\":\"LinearScale\"}},\"id\":\"7951\",\"subtype\":\"Figure\",\"type\":\"Plot\"},{\"attributes\":{\"ticker\":{\"id\":\"7963\",\"type\":\"BasicTicker\"}},\"id\":\"7966\",\"type\":\"Grid\"},{\"attributes\":{\"callback\":null,\"data\":{},\"selected\":{\"id\":\"8270\",\"type\":\"Selection\"},\"selection_policy\":{\"id\":\"8269\",\"type\":\"UnionRenderers\"}},\"id\":\"7998\",\"type\":\"ColumnDataSource\"},{\"attributes\":{\"text\":\"DP Histogram\"},\"id\":\"7952\",\"type\":\"Title\"},{\"attributes\":{\"dimension\":1,\"ticker\":{\"id\":\"7968\",\"type\":\"BasicTicker\"}},\"id\":\"7971\",\"type\":\"Grid\"},{\"attributes\":{\"data_source\":{\"id\":\"7985\",\"type\":\"ColumnDataSource\"},\"glyph\":{\"id\":\"7986\",\"type\":\"Quad\"},\"hover_glyph\":null,\"muted_glyph\":null,\"nonselection_glyph\":{\"id\":\"7987\",\"type\":\"Quad\"},\"selection_glyph\":null,\"view\":{\"id\":\"7989\",\"type\":\"CDSView\"}},\"id\":\"7988\",\"type\":\"GlyphRenderer\"},{\"attributes\":{},\"id\":\"7976\",\"type\":\"ResetTool\"},{\"attributes\":{\"data_source\":{\"id\":\"7998\",\"type\":\"ColumnDataSource\"},\"glyph\":{\"id\":\"7999\",\"type\":\"Quad\"},\"hover_glyph\":null,\"muted_glyph\":null,\"nonselection_glyph\":{\"id\":\"8000\",\"type\":\"Quad\"},\"selection_glyph\":null,\"view\":{\"id\":\"8002\",\"type\":\"CDSView\"}},\"id\":\"8001\",\"type\":\"GlyphRenderer\"},{\"attributes\":{},\"id\":\"7975\",\"type\":\"SaveTool\"},{\"attributes\":{\"callback\":null},\"id\":\"7956\",\"type\":\"DataRange1d\"},{\"attributes\":{\"overlay\":{\"id\":\"7995\",\"type\":\"BoxAnnotation\"}},\"id\":\"7974\",\"type\":\"BoxZoomTool\"},{\"attributes\":{\"bottom\":{\"value\":0},\"fill_alpha\":{\"value\":0.1},\"fill_color\":{\"value\":\"#1f77b4\"},\"left\":{\"field\":\"left\"},\"line_alpha\":{\"value\":0.1},\"line_color\":{\"value\":\"#1f77b4\"},\"right\":{\"field\":\"right\"},\"top\":{\"field\":\"top\"}},\"id\":\"7987\",\"type\":\"Quad\"},{\"attributes\":{\"bottom_units\":\"screen\",\"fill_alpha\":{\"value\":0.5},\"fill_color\":{\"value\":\"lightgrey\"},\"left_units\":\"screen\",\"level\":\"overlay\",\"line_alpha\":{\"value\":1.0},\"line_color\":{\"value\":\"black\"},\"line_dash\":[4,4],\"line_width\":{\"value\":2},\"render_mode\":\"css\",\"right_units\":\"screen\",\"top_units\":\"screen\"},\"id\":\"7995\",\"type\":\"BoxAnnotation\"},{\"attributes\":{},\"id\":\"7968\",\"type\":\"BasicTicker\"},{\"attributes\":{},\"id\":\"7977\",\"type\":\"HelpTool\"},{\"attributes\":{\"axis_label\":\"Frequency\",\"formatter\":{\"id\":\"7991\",\"type\":\"BasicTickFormatter\"},\"ticker\":{\"id\":\"7968\",\"type\":\"BasicTicker\"}},\"id\":\"7967\",\"type\":\"LinearAxis\"},{\"attributes\":{\"active_drag\":\"auto\",\"active_inspect\":\"auto\",\"active_multi\":null,\"active_scroll\":\"auto\",\"active_tap\":\"auto\",\"tools\":[{\"id\":\"7972\",\"type\":\"PanTool\"},{\"id\":\"7973\",\"type\":\"WheelZoomTool\"},{\"id\":\"7974\",\"type\":\"BoxZoomTool\"},{\"id\":\"7975\",\"type\":\"SaveTool\"},{\"id\":\"7976\",\"type\":\"ResetTool\"},{\"id\":\"7977\",\"type\":\"HelpTool\"}]},\"id\":\"7978\",\"type\":\"Toolbar\"},{\"attributes\":{\"source\":{\"id\":\"7985\",\"type\":\"ColumnDataSource\"}},\"id\":\"7989\",\"type\":\"CDSView\"},{\"attributes\":{\"source\":{\"id\":\"7998\",\"type\":\"ColumnDataSource\"}},\"id\":\"8002\",\"type\":\"CDSView\"},{\"attributes\":{},\"id\":\"7958\",\"type\":\"LinearScale\"},{\"attributes\":{},\"id\":\"7973\",\"type\":\"WheelZoomTool\"},{\"attributes\":{},\"id\":\"7993\",\"type\":\"BasicTickFormatter\"},{\"attributes\":{\"bottom\":{\"value\":0},\"fill_color\":{\"value\":\"green\"},\"left\":{\"value\":100.0},\"right\":{\"value\":103.33333333333333},\"top\":{\"value\":49584}},\"id\":\"7999\",\"type\":\"Quad\"},{\"attributes\":{\"callback\":null,\"end\":105.0,\"start\":-5.0},\"id\":\"7954\",\"type\":\"Range1d\"},{\"attributes\":{\"items\":[{\"id\":\"7997\",\"type\":\"LegendItem\"},{\"id\":\"8011\",\"type\":\"LegendItem\"}]},\"id\":\"7996\",\"type\":\"Legend\"},{\"attributes\":{},\"id\":\"7991\",\"type\":\"BasicTickFormatter\"},{\"attributes\":{},\"id\":\"7963\",\"type\":\"BasicTicker\"},{\"attributes\":{},\"id\":\"8269\",\"type\":\"UnionRenderers\"},{\"attributes\":{\"callback\":null,\"data\":{\"left\":[0.0,3.3333333333333335,6.666666666666667,10.0,13.333333333333334,16.666666666666668,20.0,23.333333333333336,26.666666666666668,30.0,33.333333333333336,36.66666666666667,40.0,43.333333333333336,46.66666666666667,50.0,53.333333333333336,56.66666666666667,60.0,63.333333333333336,66.66666666666667,70.0,73.33333333333334,76.66666666666667,80.0,83.33333333333334,86.66666666666667,90.0,93.33333333333334,96.66666666666667],\"right\":[3.3333333333333335,6.666666666666667,10.0,13.333333333333334,16.666666666666668,20.0,23.333333333333336,26.666666666666668,30.0,33.333333333333336,36.66666666666667,40.0,43.333333333333336,46.66666666666667,50.0,53.333333333333336,56.66666666666667,60.0,63.333333333333336,66.66666666666667,70.0,73.33333333333334,76.66666666666667,80.0,83.33333333333334,86.66666666666667,90.0,93.33333333333334,96.66666666666667,100.0],\"top\":[144329,167056,206059,351731,367465,511304,1077107,820500,807437,921153,860473,435425,194483,59116,35680,33017,18120,15109,15893,9877,8356,9753,6021,5514,6049,3908,3584,3862,2506,2852]},\"selected\":{\"id\":\"8009\",\"type\":\"Selection\"},\"selection_policy\":{\"id\":\"8008\",\"type\":\"UnionRenderers\"}},\"id\":\"7985\",\"type\":\"ColumnDataSource\"},{\"attributes\":{},\"id\":\"8008\",\"type\":\"UnionRenderers\"},{\"attributes\":{\"bottom\":{\"value\":0},\"fill_alpha\":{\"value\":0.1},\"fill_color\":{\"value\":\"#1f77b4\"},\"left\":{\"value\":100.0},\"line_alpha\":{\"value\":0.1},\"line_color\":{\"value\":\"#1f77b4\"},\"right\":{\"value\":103.33333333333333},\"top\":{\"value\":49584}},\"id\":\"8000\",\"type\":\"Quad\"},{\"attributes\":{},\"id\":\"7972\",\"type\":\"PanTool\"},{\"attributes\":{},\"id\":\"8009\",\"type\":\"Selection\"},{\"attributes\":{},\"id\":\"7960\",\"type\":\"LinearScale\"},{\"attributes\":{\"axis_label\":\"DP\",\"formatter\":{\"id\":\"7993\",\"type\":\"BasicTickFormatter\"},\"ticker\":{\"id\":\"7963\",\"type\":\"BasicTicker\"}},\"id\":\"7962\",\"type\":\"LinearAxis\"},{\"attributes\":{},\"id\":\"8270\",\"type\":\"Selection\"},{\"attributes\":{\"label\":{\"value\":\"Outliers Above\"},\"renderers\":[{\"id\":\"8001\",\"type\":\"GlyphRenderer\"}]},\"id\":\"8011\",\"type\":\"LegendItem\"},{\"attributes\":{\"bottom\":{\"value\":0},\"fill_color\":{\"value\":\"#1f77b4\"},\"left\":{\"field\":\"left\"},\"right\":{\"field\":\"right\"},\"top\":{\"field\":\"top\"}},\"id\":\"7986\",\"type\":\"Quad\"},{\"attributes\":{\"label\":{\"value\":\"DP\"},\"renderers\":[{\"id\":\"7988\",\"type\":\"GlyphRenderer\"}]},\"id\":\"7997\",\"type\":\"LegendItem\"}],\"root_ids\":[\"7951\"]},\"title\":\"Bokeh Application\",\"version\":\"1.2.0\"}};\n",
       "  var render_items = [{\"docid\":\"c9131da5-7787-4499-9f12-e5ac814f5c7b\",\"roots\":{\"7951\":\"329c9e3a-37a2-4d85-8e44-b44012f5f9bf\"}}];\n",
       "  root.Bokeh.embed.embed_items_notebook(docs_json, render_items);\n",
       "\n",
       "  }\n",
       "  if (root.Bokeh !== undefined) {\n",
       "    embed_document(root);\n",
       "  } else {\n",
       "    var attempts = 0;\n",
       "    var timer = setInterval(function(root) {\n",
       "      if (root.Bokeh !== undefined) {\n",
       "        embed_document(root);\n",
       "        clearInterval(timer);\n",
       "      }\n",
       "      attempts++;\n",
       "      if (attempts > 100) {\n",
       "        console.log(\"Bokeh: ERROR: Unable to run BokehJS code because BokehJS library is missing\");\n",
       "        clearInterval(timer);\n",
       "      }\n",
       "    }, 10, root)\n",
       "  }\n",
       "})(window);"
      ],
      "application/vnd.bokehjs_exec.v0+json": ""
     },
     "metadata": {
      "application/vnd.bokehjs_exec.v0+json": {
       "id": "7951"
      }
     },
     "output_type": "display_data"
    }
   ],
   "source": [
    "p = hl.plot.histogram(mt.DP, range=(0,100), bins=30, title='DP Histogram', legend='DP')\n",
    "show(p)"
   ]
  },
  {
   "cell_type": "markdown",
   "metadata": {},
   "source": [
    "<a id='4'></a> \n",
    "## 4. Work with single sample and single variant"
   ]
  },
  {
   "cell_type": "markdown",
   "metadata": {},
   "source": [
    "<a id='4.1'></a> \n",
    "### 4.1 Single sample"
   ]
  },
  {
   "cell_type": "code",
   "execution_count": 461,
   "metadata": {},
   "outputs": [],
   "source": [
    "S_136 = mt.filter_cols(mt.s == \"S_136\")"
   ]
  },
  {
   "cell_type": "code",
   "execution_count": 462,
   "metadata": {},
   "outputs": [
    {
     "name": "stdout",
     "output_type": "stream",
     "text": [
      "--------------------------------------------------------\n",
      "Type:\n",
      "        call\n",
      "--------------------------------------------------------\n",
      "Source:\n",
      "    <hail.matrixtable.MatrixTable object at 0x7f937795a110>\n",
      "Index:\n",
      "    ['column', 'row']\n",
      "--------------------------------------------------------\n"
     ]
    }
   ],
   "source": [
    "S_136.GT.describe()"
   ]
  },
  {
   "cell_type": "code",
   "execution_count": 463,
   "metadata": {},
   "outputs": [
    {
     "data": {
      "text/plain": [
       "1"
      ]
     },
     "execution_count": 463,
     "metadata": {},
     "output_type": "execute_result"
    }
   ],
   "source": [
    "S_136.count_cols()"
   ]
  },
  {
   "cell_type": "code",
   "execution_count": 464,
   "metadata": {},
   "outputs": [
    {
     "data": {
      "text/plain": [
       "47373"
      ]
     },
     "execution_count": 464,
     "metadata": {},
     "output_type": "execute_result"
    }
   ],
   "source": [
    "S_136.count_rows()"
   ]
  },
  {
   "cell_type": "code",
   "execution_count": 465,
   "metadata": {},
   "outputs": [
    {
     "data": {
      "text/plain": [
       "{0: 44094, 1: 2291, 2: 532, None: 456}"
      ]
     },
     "execution_count": 465,
     "metadata": {},
     "output_type": "execute_result"
    }
   ],
   "source": [
    "S_136.aggregate_entries(hl.agg.counter(S_136.GT.n_alt_alleles()))"
   ]
  },
  {
   "cell_type": "code",
   "execution_count": 413,
   "metadata": {},
   "outputs": [
    {
     "data": {
      "text/html": [
       "<table><thead style=\"font-weight: bold;\"><tr><td>locus</td><td>alleles</td><td>S_136.GT</td></tr>\n",
       "<tr><td>locus&lt;GRCh38&gt;</td><td>array&lt;str&gt;</td><td>call</td></tr>\n",
       "</thead><tbody><tr><td>chr1:10146</td><td>[&quot;AC&quot;,&quot;*&quot;]</td><td>0/0</td></tr>\n",
       "<tr><td>chr1:10177</td><td>[&quot;A&quot;,&quot;*&quot;]</td><td>NA</td></tr>\n",
       "<tr><td>chr1:10622</td><td>[&quot;T&quot;,&quot;*&quot;]</td><td>NA</td></tr>\n",
       "<tr><td>chr1:10623</td><td>[&quot;T&quot;,&quot;*&quot;]</td><td>NA</td></tr>\n",
       "<tr><td>chr1:30923</td><td>[&quot;G&quot;,&quot;*&quot;]</td><td>NA</td></tr>\n",
       "<tr><td>chr1:54714</td><td>[&quot;TTCTTTCTTTCTTTC&quot;,&quot;*&quot;]</td><td>0/0</td></tr>\n",
       "<tr><td>chr1:54715</td><td>[&quot;TC&quot;,&quot;*&quot;]</td><td>0/0</td></tr>\n",
       "<tr><td>chr1:54718</td><td>[&quot;TTCTTTC&quot;,&quot;*&quot;]</td><td>0/0</td></tr>\n",
       "<tr><td>chr1:54720</td><td>[&quot;CTTTCTTTCTTTCT&quot;,&quot;*&quot;]</td><td>0/0</td></tr>\n",
       "<tr><td>chr1:54724</td><td>[&quot;CT&quot;,&quot;*&quot;]</td><td>0/1</td></tr>\n",
       "</tbody></table><p style=\"background: #fdd; padding: 0.4em;\">showing top 10 rows</p>\n"
      ],
      "text/plain": [
       "+---------------+-------------------------+----------+\n",
       "| locus         | alleles                 | S_136.GT |\n",
       "+---------------+-------------------------+----------+\n",
       "| locus<GRCh38> | array<str>              | call     |\n",
       "+---------------+-------------------------+----------+\n",
       "| chr1:10146    | [\"AC\",\"*\"]              | 0/0      |\n",
       "| chr1:10177    | [\"A\",\"*\"]               | NA       |\n",
       "| chr1:10622    | [\"T\",\"*\"]               | NA       |\n",
       "| chr1:10623    | [\"T\",\"*\"]               | NA       |\n",
       "| chr1:30923    | [\"G\",\"*\"]               | NA       |\n",
       "| chr1:54714    | [\"TTCTTTCTTTCTTTC\",\"*\"] | 0/0      |\n",
       "| chr1:54715    | [\"TC\",\"*\"]              | 0/0      |\n",
       "| chr1:54718    | [\"TTCTTTC\",\"*\"]         | 0/0      |\n",
       "| chr1:54720    | [\"CTTTCTTTCTTTCT\",\"*\"]  | 0/0      |\n",
       "| chr1:54724    | [\"CT\",\"*\"]              | 0/1      |\n",
       "+---------------+-------------------------+----------+\n",
       "showing top 10 rows"
      ]
     },
     "metadata": {},
     "output_type": "display_data"
    }
   ],
   "source": [
    "S_136.GT.show()"
   ]
  },
  {
   "cell_type": "code",
   "execution_count": 209,
   "metadata": {},
   "outputs": [
    {
     "data": {
      "text/plain": [
       "{False: 44228, True: 682152}"
      ]
     },
     "execution_count": 209,
     "metadata": {},
     "output_type": "execute_result"
    }
   ],
   "source": [
    "S_136.aggregate_entries(hl.agg.counter(S_136.info.MULTIALLELIC))"
   ]
  },
  {
   "cell_type": "code",
   "execution_count": 212,
   "metadata": {},
   "outputs": [
    {
     "ename": "AttributeError",
     "evalue": "'ArrayExpression' object has no attribute 'is_star'",
     "output_type": "error",
     "traceback": [
      "\u001b[0;31m---------------------------------------------------------------------------\u001b[0m",
      "\u001b[0;31mAttributeError\u001b[0m                            Traceback (most recent call last)",
      "\u001b[0;32m<ipython-input-212-8b879894dc48>\u001b[0m in \u001b[0;36m<module>\u001b[0;34m\u001b[0m\n\u001b[0;32m----> 1\u001b[0;31m \u001b[0mS_136\u001b[0m\u001b[0;34m.\u001b[0m\u001b[0malleles\u001b[0m\u001b[0;34m.\u001b[0m\u001b[0mis_star\u001b[0m\u001b[0;34m(\u001b[0m\u001b[0;34m)\u001b[0m\u001b[0;34m\u001b[0m\u001b[0;34m\u001b[0m\u001b[0m\n\u001b[0m",
      "\u001b[0;31mAttributeError\u001b[0m: 'ArrayExpression' object has no attribute 'is_star'"
     ]
    }
   ],
   "source": [
    "S_136.alleles.is_star()"
   ]
  },
  {
   "cell_type": "code",
   "execution_count": 210,
   "metadata": {},
   "outputs": [
    {
     "data": {
      "text/plain": [
       "<bound method Expression.describe of <ArrayExpression of type array<str>>>"
      ]
     },
     "execution_count": 210,
     "metadata": {},
     "output_type": "execute_result"
    }
   ],
   "source": [
    "S_136.alleles.describe"
   ]
  },
  {
   "cell_type": "markdown",
   "metadata": {},
   "source": [
    "<a id='4.2'></a> \n",
    "### 4.2 Single variant"
   ]
  },
  {
   "cell_type": "code",
   "execution_count": 181,
   "metadata": {},
   "outputs": [
    {
     "name": "stdout",
     "output_type": "stream",
     "text": [
      "--------------------------------------------------------\n",
      "Type:\n",
      "        locus<GRCh38>\n",
      "--------------------------------------------------------\n",
      "Source:\n",
      "    <hail.matrixtable.MatrixTable object at 0x7f93c162d410>\n",
      "Index:\n",
      "    ['row']\n",
      "--------------------------------------------------------\n"
     ]
    }
   ],
   "source": [
    "mt.locus.describe()"
   ]
  },
  {
   "cell_type": "code",
   "execution_count": 186,
   "metadata": {},
   "outputs": [
    {
     "data": {
      "text/plain": [
       "Locus(contig=chr1, position=183189, reference_genome=GRCh38)"
      ]
     },
     "execution_count": 186,
     "metadata": {},
     "output_type": "execute_result"
    }
   ],
   "source": [
    "hl.Locus.parse('chr1:183189', reference_genome='GRCh38') #get hail locus-type field from chrZ:12345 string"
   ]
  },
  {
   "cell_type": "code",
   "execution_count": 187,
   "metadata": {},
   "outputs": [],
   "source": [
    "chr1_183189 = mt.filter_rows(mt.locus == hl.Locus.parse('chr1:183189', reference_genome='GRCh38'))"
   ]
  },
  {
   "cell_type": "code",
   "execution_count": 188,
   "metadata": {},
   "outputs": [
    {
     "name": "stderr",
     "output_type": "stream",
     "text": [
      "2019-11-14 16:46:20 Hail: INFO: reading 1 of 116 data partitions\n"
     ]
    },
    {
     "data": {
      "text/plain": [
       "{0: 132, 1: 19}"
      ]
     },
     "execution_count": 188,
     "metadata": {},
     "output_type": "execute_result"
    }
   ],
   "source": [
    "chr1_183189.aggregate_entries(hl.agg.counter(chr1_183189.GT.n_alt_alleles()))"
   ]
  },
  {
   "cell_type": "code",
   "execution_count": 375,
   "metadata": {},
   "outputs": [
    {
     "name": "stderr",
     "output_type": "stream",
     "text": [
      "2019-11-19 08:29:49 Hail: INFO: reading 1 of 116 data partitions\n"
     ]
    },
    {
     "data": {
      "text/html": [
       "<table><thead style=\"font-weight: bold;\"><tr><td>locus</td><td>alleles</td></tr>\n",
       "<tr><td>locus&lt;GRCh38&gt;</td><td>array&lt;str&gt;</td></tr>\n",
       "</thead><tbody><tr><td>chr1:183189</td><td>[&quot;G&quot;,&quot;C&quot;]</td></tr>\n",
       "</tbody></table>"
      ],
      "text/plain": [
       "+---------------+------------+\n",
       "| locus         | alleles    |\n",
       "+---------------+------------+\n",
       "| locus<GRCh38> | array<str> |\n",
       "+---------------+------------+\n",
       "| chr1:183189   | [\"G\",\"C\"]  |\n",
       "+---------------+------------+"
      ]
     },
     "metadata": {},
     "output_type": "display_data"
    }
   ],
   "source": [
    "chr1_183189.alleles.show()"
   ]
  },
  {
   "cell_type": "code",
   "execution_count": 374,
   "metadata": {},
   "outputs": [
    {
     "name": "stderr",
     "output_type": "stream",
     "text": [
      "2019-11-19 08:28:42 Hail: INFO: reading 1 of 116 data partitions\n"
     ]
    },
    {
     "data": {
      "text/plain": [
       "[['C|missense_variant|MODERATE|FO538757.2|ENSG00000279928|transcript|ENST00000624431.1|protein_coding|2/3|c.114G>C|p.Lys38Asn|430/718|114/402|38/133||',\n",
       "  'C|downstream_gene_variant|MODIFIER|FO538757.1|ENSG00000279457|transcript|ENST00000623083.3|protein_coding||c.*2028C>G|||||1736|',\n",
       "  'C|downstream_gene_variant|MODIFIER|FO538757.1|ENSG00000279457|transcript|ENST00000623834.3|protein_coding||c.*2028C>G|||||1734|',\n",
       "  'C|downstream_gene_variant|MODIFIER|FO538757.1|ENSG00000279457|transcript|ENST00000624735.1|protein_coding||c.*1738C>G|||||1738|',\n",
       "  'C|downstream_gene_variant|MODIFIER|MIR6859-2|ENSG00000273874|transcript|ENST00000612080.1|miRNA||n.*4702C>G|||||4702|']]"
      ]
     },
     "execution_count": 374,
     "metadata": {},
     "output_type": "execute_result"
    }
   ],
   "source": [
    "chr1_183189.info.ANN.collect()"
   ]
  },
  {
   "cell_type": "code",
   "execution_count": 385,
   "metadata": {},
   "outputs": [
    {
     "name": "stderr",
     "output_type": "stream",
     "text": [
      "2019-11-19 08:49:37 Hail: INFO: reading 1 of 116 data partitions\n"
     ]
    },
    {
     "data": {
      "text/plain": [
       "[None]"
      ]
     },
     "execution_count": 385,
     "metadata": {},
     "output_type": "execute_result"
    }
   ],
   "source": [
    "chr1_183189.info.ISEQ_AGGREGATED_CLINVAR_SIGNIFICANCE.collect()"
   ]
  },
  {
   "cell_type": "markdown",
   "metadata": {},
   "source": [
    "<a id='5'></a> \n",
    "\n",
    "### 5. Explore Clinvar sinificance of detected variants\n",
    "\n",
    "for patient samples"
   ]
  },
  {
   "cell_type": "code",
   "execution_count": 623,
   "metadata": {
    "scrolled": true
   },
   "outputs": [
    {
     "data": {
      "text/plain": [
       "{'likely_benign': 487,\n",
       " None: 44158,\n",
       " 'risk_factor': 8,\n",
       " 'benign': 363,\n",
       " 'benign:other': 1,\n",
       " 'pathogenic/likely_pathogenic': 32,\n",
       " 'uncertain_significance:other': 1,\n",
       " 'likely_pathogenic': 28,\n",
       " 'not_provided': 60,\n",
       " 'protective': 2,\n",
       " 'pathogenic:risk_factor': 2,\n",
       " 'benign/likely_benign': 330,\n",
       " 'drug_response': 5,\n",
       " 'conflicting_interpretations_of_pathogenicity': 697,\n",
       " 'benign/likely_benign:other': 3,\n",
       " 'uncertain_significance': 1074,\n",
       " 'other': 5,\n",
       " 'pathogenic': 114,\n",
       " 'conflicting_interpretations_of_pathogenicity:risk_factor': 1,\n",
       " 'affects': 2}"
      ]
     },
     "execution_count": 623,
     "metadata": {},
     "output_type": "execute_result"
    }
   ],
   "source": [
    "mt.aggregate_rows(hl.agg.counter(hl.delimit(mt.info.ISEQ_AGGREGATED_CLINVAR_SIGNIFICANCE))) # hl.delimit function converts array into string"
   ]
  },
  {
   "cell_type": "code",
   "execution_count": 655,
   "metadata": {},
   "outputs": [
    {
     "data": {
      "text/plain": [
       "{'likely_benign': 424,\n",
       " None: 39352,\n",
       " 'risk_factor': 8,\n",
       " 'benign': 337,\n",
       " 'benign:other': 1,\n",
       " 'pathogenic/likely_pathogenic': 29,\n",
       " 'uncertain_significance:other': 1,\n",
       " 'likely_pathogenic': 25,\n",
       " 'not_provided': 54,\n",
       " 'protective': 2,\n",
       " 'pathogenic:risk_factor': 2,\n",
       " 'benign/likely_benign': 296,\n",
       " 'drug_response': 4,\n",
       " 'conflicting_interpretations_of_pathogenicity': 594,\n",
       " 'benign/likely_benign:other': 3,\n",
       " 'uncertain_significance': 902,\n",
       " 'other': 5,\n",
       " 'pathogenic': 94,\n",
       " 'conflicting_interpretations_of_pathogenicity:risk_factor': 1,\n",
       " 'affects': 1}"
      ]
     },
     "execution_count": 655,
     "metadata": {},
     "output_type": "execute_result"
    }
   ],
   "source": [
    "mt_p.aggregate_rows(hl.agg.counter(hl.delimit(mt_p.info.ISEQ_AGGREGATED_CLINVAR_SIGNIFICANCE)))"
   ]
  },
  {
   "cell_type": "code",
   "execution_count": 666,
   "metadata": {},
   "outputs": [
    {
     "data": {
      "text/plain": [
       "{'likely_benign': 262,\n",
       " None: 22268,\n",
       " 'risk_factor': 6,\n",
       " 'benign': 271,\n",
       " 'benign:other': 1,\n",
       " 'pathogenic/likely_pathogenic': 11,\n",
       " 'uncertain_significance:other': 1,\n",
       " 'likely_pathogenic': 12,\n",
       " 'not_provided': 30,\n",
       " 'protective': 1,\n",
       " 'benign/likely_benign': 208,\n",
       " 'drug_response': 4,\n",
       " 'conflicting_interpretations_of_pathogenicity': 368,\n",
       " 'benign/likely_benign:other': 3,\n",
       " 'uncertain_significance': 518,\n",
       " 'other': 2,\n",
       " 'pathogenic': 52,\n",
       " 'affects': 1}"
      ]
     },
     "execution_count": 666,
     "metadata": {},
     "output_type": "execute_result"
    }
   ],
   "source": [
    "mt_c.aggregate_rows(hl.agg.counter(hl.delimit(mt_c.info.ISEQ_AGGREGATED_CLINVAR_SIGNIFICANCE)))"
   ]
  },
  {
   "cell_type": "code",
   "execution_count": 667,
   "metadata": {},
   "outputs": [
    {
     "data": {
      "text/plain": [
       "(6, 47)"
      ]
     },
     "execution_count": 667,
     "metadata": {},
     "output_type": "execute_result"
    }
   ],
   "source": [
    "mt_c.filter_rows(mt_c.info.ISEQ_CLINVAR_DISEASES.contains('Schizophrenia'), keep = True).count()"
   ]
  },
  {
   "cell_type": "code",
   "execution_count": 658,
   "metadata": {},
   "outputs": [
    {
     "data": {
      "text/plain": [
       "(10, 104)"
      ]
     },
     "execution_count": 658,
     "metadata": {},
     "output_type": "execute_result"
    }
   ],
   "source": [
    "mt_p.filter_rows(mt_p.info.ISEQ_CLINVAR_DISEASES.contains('Schizophrenia'), keep = True).count()"
   ]
  },
  {
   "cell_type": "code",
   "execution_count": 668,
   "metadata": {},
   "outputs": [
    {
     "data": {
      "text/plain": [
       "(4, 47)"
      ]
     },
     "execution_count": 668,
     "metadata": {},
     "output_type": "execute_result"
    }
   ],
   "source": [
    "mt_c.filter_rows(mt_c.info.ISEQ_CLINVAR_DISEASES.contains('Autism_17^Autism_spectrum_disorder'), keep = True).count()"
   ]
  },
  {
   "cell_type": "code",
   "execution_count": 660,
   "metadata": {},
   "outputs": [
    {
     "data": {
      "text/plain": [
       "(6, 104)"
      ]
     },
     "execution_count": 660,
     "metadata": {},
     "output_type": "execute_result"
    }
   ],
   "source": [
    "mt_p.filter_rows(mt_p.info.ISEQ_CLINVAR_DISEASES.contains('Autism_17^Autism_spectrum_disorder'), keep = True).count()"
   ]
  },
  {
   "cell_type": "code",
   "execution_count": 445,
   "metadata": {},
   "outputs": [
    {
     "data": {
      "text/html": [
       "<table><thead style=\"font-weight: bold;\"><tr><td>locus</td><td>alleles</td><td>rsid</td></tr>\n",
       "<tr><td>locus&lt;GRCh38&gt;</td><td>array&lt;str&gt;</td><td>str</td></tr>\n",
       "</thead><tbody><tr><td>chr11:70473268</td><td>[&quot;C&quot;,&quot;T&quot;]</td><td>&quot;rs140134890&quot;</td></tr>\n",
       "<tr><td>chr11:70490374</td><td>[&quot;C&quot;,&quot;T&quot;]</td><td>&quot;rs117843717&quot;</td></tr>\n",
       "<tr><td>chr11:70698758</td><td>[&quot;G&quot;,&quot;A&quot;]</td><td>NA</td></tr>\n",
       "<tr><td>chr11:70820627</td><td>[&quot;C&quot;,&quot;T&quot;]</td><td>NA</td></tr>\n",
       "<tr><td>chr11:70820628</td><td>[&quot;G&quot;,&quot;A&quot;]</td><td>NA</td></tr>\n",
       "<tr><td>chr11:70952780</td><td>[&quot;A&quot;,&quot;AACTCGCC&quot;]</td><td>NA</td></tr>\n",
       "</tbody></table>"
      ],
      "text/plain": [
       "+----------------+------------------+---------------+\n",
       "| locus          | alleles          | rsid          |\n",
       "+----------------+------------------+---------------+\n",
       "| locus<GRCh38>  | array<str>       | str           |\n",
       "+----------------+------------------+---------------+\n",
       "| chr11:70473268 | [\"C\",\"T\"]        | \"rs140134890\" |\n",
       "| chr11:70490374 | [\"C\",\"T\"]        | \"rs117843717\" |\n",
       "| chr11:70698758 | [\"G\",\"A\"]        | NA            |\n",
       "| chr11:70820627 | [\"C\",\"T\"]        | NA            |\n",
       "| chr11:70820628 | [\"G\",\"A\"]        | NA            |\n",
       "| chr11:70952780 | [\"A\",\"AACTCGCC\"] | NA            |\n",
       "+----------------+------------------+---------------+"
      ]
     },
     "metadata": {},
     "output_type": "display_data"
    }
   ],
   "source": [
    "mt.filter_rows(mt.info.ISEQ_CLINVAR_DISEASES.contains('Autism_17^Autism_spectrum_disorder'), keep = True).rsid.show()"
   ]
  },
  {
   "cell_type": "code",
   "execution_count": 669,
   "metadata": {},
   "outputs": [],
   "source": [
    "patho_p = mt_p.filter_rows(mt_p.info.ISEQ_AGGREGATED_CLINVAR_SIGNIFICANCE.contains('pathogenic'), keep = True)\n",
    "patho_c = mt_c.filter_rows(mt_c.info.ISEQ_AGGREGATED_CLINVAR_SIGNIFICANCE.contains('pathogenic'), keep = True)"
   ]
  },
  {
   "cell_type": "code",
   "execution_count": 701,
   "metadata": {},
   "outputs": [
    {
     "data": {
      "text/plain": [
       "{0: 9593, 1: 151, 2: 7, None: 25}"
      ]
     },
     "execution_count": 701,
     "metadata": {},
     "output_type": "execute_result"
    }
   ],
   "source": [
    "patho_p.aggregate_entries(hl.agg.counter(patho_p.GT.n_alt_alleles()))"
   ]
  },
  {
   "cell_type": "code",
   "execution_count": 699,
   "metadata": {},
   "outputs": [
    {
     "data": {
      "text/plain": [
       "{0: 2353, 1: 86, None: 5}"
      ]
     },
     "execution_count": 699,
     "metadata": {},
     "output_type": "execute_result"
    }
   ],
   "source": [
    "patho_c.aggregate_entries(hl.agg.counter(patho_c.GT.n_alt_alleles()))"
   ]
  },
  {
   "cell_type": "markdown",
   "metadata": {},
   "source": [
    "<a id='5.05'></a> \n",
    "\n",
    "### 5.05 Get AF from patho_p and patho_c, compare with gnomad3"
   ]
  },
  {
   "cell_type": "code",
   "execution_count": 712,
   "metadata": {},
   "outputs": [],
   "source": [
    "patho_p = hl.variant_qc(patho_p)\n",
    "patho_c = hl.variant_qc(patho_c)"
   ]
  },
  {
   "cell_type": "code",
   "execution_count": 714,
   "metadata": {},
   "outputs": [
    {
     "data": {
      "text/html": [
       "<table><thead style=\"font-weight: bold;\"><tr><td>locus</td><td>alleles</td><td><expr></td></tr>\n",
       "<tr><td>locus&lt;GRCh38&gt;</td><td>array&lt;str&gt;</td><td>array&lt;float64&gt;</td></tr>\n",
       "</thead><tbody><tr><td>chr1:7809893</td><td>[&quot;C&quot;,&quot;G&quot;]</td><td>[9.95e-01,4.81e-03]</td></tr>\n",
       "<tr><td>chr1:7809900</td><td>[&quot;A&quot;,&quot;G&quot;]</td><td>[9.95e-01,4.81e-03]</td></tr>\n",
       "<tr><td>chr1:15445687</td><td>[&quot;AACACCCGCAAGAAGCCGGTAGTCT&quot;,&quot;A&quot;]</td><td>[9.95e-01,4.81e-03]</td></tr>\n",
       "<tr><td>chr1:17270928</td><td>[&quot;C&quot;,&quot;T&quot;]</td><td>[9.95e-01,4.81e-03]</td></tr>\n",
       "<tr><td>chr1:22906853</td><td>[&quot;G&quot;,&quot;A&quot;]</td><td>[9.90e-01,9.62e-03]</td></tr>\n",
       "<tr><td>chr1:43338634</td><td>[&quot;G&quot;,&quot;C&quot;]</td><td>[9.95e-01,4.81e-03]</td></tr>\n",
       "<tr><td>chr1:94031110</td><td>[&quot;G&quot;,&quot;A&quot;]</td><td>[9.95e-01,4.81e-03]</td></tr>\n",
       "<tr><td>chr1:119140608</td><td>[&quot;A&quot;,&quot;C&quot;]</td><td>[9.95e-01,4.81e-03]</td></tr>\n",
       "<tr><td>chr1:161169143</td><td>[&quot;C&quot;,&quot;G&quot;]</td><td>[9.76e-01,2.40e-02]</td></tr>\n",
       "<tr><td>chr1:171107811</td><td>[&quot;C&quot;,&quot;T&quot;]</td><td>[9.90e-01,9.71e-03]</td></tr>\n",
       "</tbody></table><p style=\"background: #fdd; padding: 0.4em;\">showing top 10 rows</p>\n"
      ],
      "text/plain": [
       "+----------------+-----------------------------------+---------------------+\n",
       "| locus          | alleles                           | <expr>              |\n",
       "+----------------+-----------------------------------+---------------------+\n",
       "| locus<GRCh38>  | array<str>                        | array<float64>      |\n",
       "+----------------+-----------------------------------+---------------------+\n",
       "| chr1:7809893   | [\"C\",\"G\"]                         | [9.95e-01,4.81e-03] |\n",
       "| chr1:7809900   | [\"A\",\"G\"]                         | [9.95e-01,4.81e-03] |\n",
       "| chr1:15445687  | [\"AACACCCGCAAGAAGCCGGTAGTCT\",\"A\"] | [9.95e-01,4.81e-03] |\n",
       "| chr1:17270928  | [\"C\",\"T\"]                         | [9.95e-01,4.81e-03] |\n",
       "| chr1:22906853  | [\"G\",\"A\"]                         | [9.90e-01,9.62e-03] |\n",
       "| chr1:43338634  | [\"G\",\"C\"]                         | [9.95e-01,4.81e-03] |\n",
       "| chr1:94031110  | [\"G\",\"A\"]                         | [9.95e-01,4.81e-03] |\n",
       "| chr1:119140608 | [\"A\",\"C\"]                         | [9.95e-01,4.81e-03] |\n",
       "| chr1:161169143 | [\"C\",\"G\"]                         | [9.76e-01,2.40e-02] |\n",
       "| chr1:171107811 | [\"C\",\"T\"]                         | [9.90e-01,9.71e-03] |\n",
       "+----------------+-----------------------------------+---------------------+\n",
       "showing top 10 rows"
      ]
     },
     "metadata": {},
     "output_type": "display_data"
    }
   ],
   "source": [
    "patho_p.variant_qc.AF.show() #this is just for patients"
   ]
  },
  {
   "cell_type": "code",
   "execution_count": 732,
   "metadata": {},
   "outputs": [
    {
     "data": {
      "text/html": [
       "<table><thead style=\"font-weight: bold;\"><tr><td>locus</td><td>alleles</td><td><expr></td></tr>\n",
       "<tr><td>locus&lt;GRCh38&gt;</td><td>array&lt;str&gt;</td><td>array&lt;float64&gt;</td></tr>\n",
       "</thead><tbody><tr><td>chr1:7809893</td><td>[&quot;C&quot;,&quot;G&quot;]</td><td>[5.74e-03]</td></tr>\n",
       "<tr><td>chr1:7809900</td><td>[&quot;A&quot;,&quot;G&quot;]</td><td>[5.74e-03]</td></tr>\n",
       "<tr><td>chr1:15445687</td><td>[&quot;AACACCCGCAAGAAGCCGGTAGTCT&quot;,&quot;A&quot;]</td><td>[1.86e-04]</td></tr>\n",
       "<tr><td>chr1:17270928</td><td>[&quot;C&quot;,&quot;T&quot;]</td><td>[9.09e-03]</td></tr>\n",
       "<tr><td>chr1:22906853</td><td>[&quot;G&quot;,&quot;A&quot;]</td><td>[5.33e-03]</td></tr>\n",
       "<tr><td>chr1:43338634</td><td>[&quot;G&quot;,&quot;C&quot;]</td><td>[5.58e-04]</td></tr>\n",
       "<tr><td>chr1:94031110</td><td>[&quot;G&quot;,&quot;A&quot;]</td><td>[4.03e-04]</td></tr>\n",
       "<tr><td>chr1:119140608</td><td>[&quot;A&quot;,&quot;C&quot;]</td><td>[5.12e-03]</td></tr>\n",
       "<tr><td>chr1:161169143</td><td>[&quot;C&quot;,&quot;G&quot;]</td><td>[9.88e-03]</td></tr>\n",
       "<tr><td>chr1:171107811</td><td>[&quot;C&quot;,&quot;T&quot;]</td><td>[2.03e-03]</td></tr>\n",
       "</tbody></table><p style=\"background: #fdd; padding: 0.4em;\">showing top 10 rows</p>\n"
      ],
      "text/plain": [
       "+----------------+-----------------------------------+----------------+\n",
       "| locus          | alleles                           | <expr>         |\n",
       "+----------------+-----------------------------------+----------------+\n",
       "| locus<GRCh38>  | array<str>                        | array<float64> |\n",
       "+----------------+-----------------------------------+----------------+\n",
       "| chr1:7809893   | [\"C\",\"G\"]                         | [5.74e-03]     |\n",
       "| chr1:7809900   | [\"A\",\"G\"]                         | [5.74e-03]     |\n",
       "| chr1:15445687  | [\"AACACCCGCAAGAAGCCGGTAGTCT\",\"A\"] | [1.86e-04]     |\n",
       "| chr1:17270928  | [\"C\",\"T\"]                         | [9.09e-03]     |\n",
       "| chr1:22906853  | [\"G\",\"A\"]                         | [5.33e-03]     |\n",
       "| chr1:43338634  | [\"G\",\"C\"]                         | [5.58e-04]     |\n",
       "| chr1:94031110  | [\"G\",\"A\"]                         | [4.03e-04]     |\n",
       "| chr1:119140608 | [\"A\",\"C\"]                         | [5.12e-03]     |\n",
       "| chr1:161169143 | [\"C\",\"G\"]                         | [9.88e-03]     |\n",
       "| chr1:171107811 | [\"C\",\"T\"]                         | [2.03e-03]     |\n",
       "+----------------+-----------------------------------+----------------+\n",
       "showing top 10 rows"
      ]
     },
     "metadata": {},
     "output_type": "display_data"
    }
   ],
   "source": [
    "patho_p.info.ISEQ_GNOMAD_GENOMES_V3_AF_nfe.show()"
   ]
  },
  {
   "cell_type": "code",
   "execution_count": 738,
   "metadata": {},
   "outputs": [
    {
     "data": {
      "text/html": [
       "\n",
       "\n",
       "\n",
       "\n",
       "\n",
       "\n",
       "  <div class=\"bk-root\" id=\"52ae2212-9f35-4897-a7b2-c924a8051d39\" data-root-id=\"13308\"></div>\n"
      ]
     },
     "metadata": {},
     "output_type": "display_data"
    },
    {
     "data": {
      "application/javascript": [
       "(function(root) {\n",
       "  function embed_document(root) {\n",
       "    \n",
       "  var docs_json = {\"74771f45-8f99-4e14-8f19-cb1f1b828883\":{\"roots\":{\"references\":[{\"attributes\":{\"children\":[{\"id\":\"13307\",\"type\":\"ToolbarBox\"},{\"id\":\"13305\",\"type\":\"GridBox\"}]},\"id\":\"13308\",\"type\":\"Column\"},{\"attributes\":{},\"id\":\"13261\",\"type\":\"PanTool\"},{\"attributes\":{},\"id\":\"13262\",\"type\":\"WheelZoomTool\"},{\"attributes\":{},\"id\":\"13302\",\"type\":\"Selection\"},{\"attributes\":{\"callback\":null,\"data\":{\"left\":[0.0,0.005,0.01,0.015,0.02,0.025,0.03,0.035,0.04,0.045],\"right\":[0.005,0.01,0.015,0.02,0.025,0.03,0.035,0.04,0.045,0.05],\"top\":[6344,1352,1040,520,312,104,104,0,0,0]},\"selected\":{\"id\":\"13293\",\"type\":\"Selection\"},\"selection_policy\":{\"id\":\"13292\",\"type\":\"UnionRenderers\"}},\"id\":\"13227\",\"type\":\"ColumnDataSource\"},{\"attributes\":{},\"id\":\"13202\",\"type\":\"LinearScale\"},{\"attributes\":{},\"id\":\"13265\",\"type\":\"ResetTool\"},{\"attributes\":{\"axis_label\":\"Frequency\",\"formatter\":{\"id\":\"13233\",\"type\":\"BasicTickFormatter\"},\"ticker\":{\"id\":\"13210\",\"type\":\"BasicTicker\"}},\"id\":\"13209\",\"type\":\"LinearAxis\"},{\"attributes\":{\"bottom\":{\"value\":0},\"fill_color\":{\"value\":\"#1f77b4\"},\"left\":{\"field\":\"left\"},\"right\":{\"field\":\"right\"},\"top\":{\"field\":\"top\"}},\"id\":\"13228\",\"type\":\"Quad\"},{\"attributes\":{\"bottom\":{\"value\":0},\"fill_alpha\":{\"value\":0.1},\"fill_color\":{\"value\":\"#1f77b4\"},\"left\":{\"field\":\"left\"},\"line_alpha\":{\"value\":0.1},\"line_color\":{\"value\":\"#1f77b4\"},\"right\":{\"field\":\"right\"},\"top\":{\"field\":\"top\"}},\"id\":\"13276\",\"type\":\"Quad\"},{\"attributes\":{\"axis_label\":\"AF patho_p\",\"formatter\":{\"id\":\"13235\",\"type\":\"BasicTickFormatter\"},\"ticker\":{\"id\":\"13205\",\"type\":\"BasicTicker\"}},\"id\":\"13204\",\"type\":\"LinearAxis\"},{\"attributes\":{},\"id\":\"13249\",\"type\":\"LinearScale\"},{\"attributes\":{\"source\":{\"id\":\"13274\",\"type\":\"ColumnDataSource\"}},\"id\":\"13278\",\"type\":\"CDSView\"},{\"attributes\":{},\"id\":\"13301\",\"type\":\"UnionRenderers\"},{\"attributes\":{\"text\":\"patho allele frequency in Gnomad\"},\"id\":\"13241\",\"type\":\"Title\"},{\"attributes\":{\"source\":{\"id\":\"13227\",\"type\":\"ColumnDataSource\"}},\"id\":\"13231\",\"type\":\"CDSView\"},{\"attributes\":{},\"id\":\"13233\",\"type\":\"BasicTickFormatter\"},{\"attributes\":{},\"id\":\"13292\",\"type\":\"UnionRenderers\"},{\"attributes\":{\"overlay\":{\"id\":\"13284\",\"type\":\"BoxAnnotation\"}},\"id\":\"13263\",\"type\":\"BoxZoomTool\"},{\"attributes\":{\"callback\":null,\"end\":0.052500000000000005,\"start\":-0.0025000000000000005},\"id\":\"13196\",\"type\":\"Range1d\"},{\"attributes\":{\"toolbar\":{\"id\":\"13306\",\"type\":\"ProxyToolbar\"},\"toolbar_location\":\"above\"},\"id\":\"13307\",\"type\":\"ToolbarBox\"},{\"attributes\":{},\"id\":\"13214\",\"type\":\"PanTool\"},{\"attributes\":{},\"id\":\"13210\",\"type\":\"BasicTicker\"},{\"attributes\":{\"data_source\":{\"id\":\"13227\",\"type\":\"ColumnDataSource\"},\"glyph\":{\"id\":\"13228\",\"type\":\"Quad\"},\"hover_glyph\":null,\"muted_glyph\":null,\"nonselection_glyph\":{\"id\":\"13229\",\"type\":\"Quad\"},\"selection_glyph\":null,\"view\":{\"id\":\"13231\",\"type\":\"CDSView\"}},\"id\":\"13230\",\"type\":\"GlyphRenderer\"},{\"attributes\":{\"background_fill_color\":{\"value\":\"#EEEEEE\"},\"below\":[{\"id\":\"13251\",\"type\":\"LinearAxis\"}],\"center\":[{\"id\":\"13255\",\"type\":\"Grid\"},{\"id\":\"13260\",\"type\":\"Grid\"},{\"id\":\"13285\",\"type\":\"Legend\"}],\"left\":[{\"id\":\"13256\",\"type\":\"LinearAxis\"}],\"plot_height\":400,\"plot_width\":400,\"renderers\":[{\"id\":\"13277\",\"type\":\"GlyphRenderer\"}],\"title\":{\"id\":\"13241\",\"type\":\"Title\"},\"toolbar\":{\"id\":\"13267\",\"type\":\"Toolbar\"},\"toolbar_location\":null,\"x_range\":{\"id\":\"13243\",\"type\":\"Range1d\"},\"x_scale\":{\"id\":\"13247\",\"type\":\"LinearScale\"},\"y_range\":{\"id\":\"13245\",\"type\":\"DataRange1d\"},\"y_scale\":{\"id\":\"13249\",\"type\":\"LinearScale\"}},\"id\":\"13240\",\"subtype\":\"Figure\",\"type\":\"Plot\"},{\"attributes\":{},\"id\":\"13264\",\"type\":\"SaveTool\"},{\"attributes\":{\"bottom_units\":\"screen\",\"fill_alpha\":{\"value\":0.5},\"fill_color\":{\"value\":\"lightgrey\"},\"left_units\":\"screen\",\"level\":\"overlay\",\"line_alpha\":{\"value\":1.0},\"line_color\":{\"value\":\"black\"},\"line_dash\":[4,4],\"line_width\":{\"value\":2},\"render_mode\":\"css\",\"right_units\":\"screen\",\"top_units\":\"screen\"},\"id\":\"13284\",\"type\":\"BoxAnnotation\"},{\"attributes\":{\"bottom\":{\"value\":0},\"fill_alpha\":{\"value\":0.1},\"fill_color\":{\"value\":\"#1f77b4\"},\"left\":{\"field\":\"left\"},\"line_alpha\":{\"value\":0.1},\"line_color\":{\"value\":\"#1f77b4\"},\"right\":{\"field\":\"right\"},\"top\":{\"field\":\"top\"}},\"id\":\"13229\",\"type\":\"Quad\"},{\"attributes\":{},\"id\":\"13217\",\"type\":\"SaveTool\"},{\"attributes\":{\"callback\":null},\"id\":\"13198\",\"type\":\"DataRange1d\"},{\"attributes\":{\"bottom\":{\"value\":0},\"fill_color\":{\"value\":\"#1f77b4\"},\"left\":{\"field\":\"left\"},\"right\":{\"field\":\"right\"},\"top\":{\"field\":\"top\"}},\"id\":\"13275\",\"type\":\"Quad\"},{\"attributes\":{\"dimension\":1,\"ticker\":{\"id\":\"13257\",\"type\":\"BasicTicker\"}},\"id\":\"13260\",\"type\":\"Grid\"},{\"attributes\":{},\"id\":\"13218\",\"type\":\"ResetTool\"},{\"attributes\":{\"ticker\":{\"id\":\"13205\",\"type\":\"BasicTicker\"}},\"id\":\"13208\",\"type\":\"Grid\"},{\"attributes\":{\"callback\":null,\"end\":0.052500000000000005,\"start\":-0.0025000000000000005},\"id\":\"13243\",\"type\":\"Range1d\"},{\"attributes\":{\"ticker\":{\"id\":\"13252\",\"type\":\"BasicTicker\"}},\"id\":\"13255\",\"type\":\"Grid\"},{\"attributes\":{},\"id\":\"13200\",\"type\":\"LinearScale\"},{\"attributes\":{},\"id\":\"13205\",\"type\":\"BasicTicker\"},{\"attributes\":{\"dimension\":1,\"ticker\":{\"id\":\"13210\",\"type\":\"BasicTicker\"}},\"id\":\"13213\",\"type\":\"Grid\"},{\"attributes\":{},\"id\":\"13219\",\"type\":\"HelpTool\"},{\"attributes\":{\"axis_label\":\"AF GnomadV3\",\"formatter\":{\"id\":\"13282\",\"type\":\"BasicTickFormatter\"},\"ticker\":{\"id\":\"13252\",\"type\":\"BasicTicker\"}},\"id\":\"13251\",\"type\":\"LinearAxis\"},{\"attributes\":{},\"id\":\"13257\",\"type\":\"BasicTicker\"},{\"attributes\":{},\"id\":\"13215\",\"type\":\"WheelZoomTool\"},{\"attributes\":{},\"id\":\"13247\",\"type\":\"LinearScale\"},{\"attributes\":{\"items\":[{\"id\":\"13286\",\"type\":\"LegendItem\"}]},\"id\":\"13285\",\"type\":\"Legend\"},{\"attributes\":{\"label\":{\"value\":\"AF patho_p\"},\"renderers\":[{\"id\":\"13230\",\"type\":\"GlyphRenderer\"}]},\"id\":\"13239\",\"type\":\"LegendItem\"},{\"attributes\":{\"items\":[{\"id\":\"13239\",\"type\":\"LegendItem\"}]},\"id\":\"13238\",\"type\":\"Legend\"},{\"attributes\":{},\"id\":\"13252\",\"type\":\"BasicTicker\"},{\"attributes\":{\"background_fill_color\":{\"value\":\"#EEEEEE\"},\"below\":[{\"id\":\"13204\",\"type\":\"LinearAxis\"}],\"center\":[{\"id\":\"13208\",\"type\":\"Grid\"},{\"id\":\"13213\",\"type\":\"Grid\"},{\"id\":\"13238\",\"type\":\"Legend\"}],\"left\":[{\"id\":\"13209\",\"type\":\"LinearAxis\"}],\"plot_height\":400,\"plot_width\":400,\"renderers\":[{\"id\":\"13230\",\"type\":\"GlyphRenderer\"}],\"title\":{\"id\":\"13194\",\"type\":\"Title\"},\"toolbar\":{\"id\":\"13220\",\"type\":\"Toolbar\"},\"toolbar_location\":null,\"x_range\":{\"id\":\"13196\",\"type\":\"Range1d\"},\"x_scale\":{\"id\":\"13200\",\"type\":\"LinearScale\"},\"y_range\":{\"id\":\"13198\",\"type\":\"DataRange1d\"},\"y_scale\":{\"id\":\"13202\",\"type\":\"LinearScale\"}},\"id\":\"13193\",\"subtype\":\"Figure\",\"type\":\"Plot\"},{\"attributes\":{\"data_source\":{\"id\":\"13274\",\"type\":\"ColumnDataSource\"},\"glyph\":{\"id\":\"13275\",\"type\":\"Quad\"},\"hover_glyph\":null,\"muted_glyph\":null,\"nonselection_glyph\":{\"id\":\"13276\",\"type\":\"Quad\"},\"selection_glyph\":null,\"view\":{\"id\":\"13278\",\"type\":\"CDSView\"}},\"id\":\"13277\",\"type\":\"GlyphRenderer\"},{\"attributes\":{\"callback\":null},\"id\":\"13245\",\"type\":\"DataRange1d\"},{\"attributes\":{},\"id\":\"13280\",\"type\":\"BasicTickFormatter\"},{\"attributes\":{\"children\":[[{\"id\":\"13193\",\"subtype\":\"Figure\",\"type\":\"Plot\"},0,0],[{\"id\":\"13240\",\"subtype\":\"Figure\",\"type\":\"Plot\"},0,1]]},\"id\":\"13305\",\"type\":\"GridBox\"},{\"attributes\":{\"label\":{\"value\":\"AF GnomadV3\"},\"renderers\":[{\"id\":\"13277\",\"type\":\"GlyphRenderer\"}]},\"id\":\"13286\",\"type\":\"LegendItem\"},{\"attributes\":{\"overlay\":{\"id\":\"13237\",\"type\":\"BoxAnnotation\"}},\"id\":\"13216\",\"type\":\"BoxZoomTool\"},{\"attributes\":{},\"id\":\"13266\",\"type\":\"HelpTool\"},{\"attributes\":{},\"id\":\"13282\",\"type\":\"BasicTickFormatter\"},{\"attributes\":{\"active_drag\":\"auto\",\"active_inspect\":\"auto\",\"active_multi\":null,\"active_scroll\":\"auto\",\"active_tap\":\"auto\",\"tools\":[{\"id\":\"13214\",\"type\":\"PanTool\"},{\"id\":\"13215\",\"type\":\"WheelZoomTool\"},{\"id\":\"13216\",\"type\":\"BoxZoomTool\"},{\"id\":\"13217\",\"type\":\"SaveTool\"},{\"id\":\"13218\",\"type\":\"ResetTool\"},{\"id\":\"13219\",\"type\":\"HelpTool\"}]},\"id\":\"13220\",\"type\":\"Toolbar\"},{\"attributes\":{\"active_drag\":\"auto\",\"active_inspect\":\"auto\",\"active_multi\":null,\"active_scroll\":\"auto\",\"active_tap\":\"auto\",\"tools\":[{\"id\":\"13261\",\"type\":\"PanTool\"},{\"id\":\"13262\",\"type\":\"WheelZoomTool\"},{\"id\":\"13263\",\"type\":\"BoxZoomTool\"},{\"id\":\"13264\",\"type\":\"SaveTool\"},{\"id\":\"13265\",\"type\":\"ResetTool\"},{\"id\":\"13266\",\"type\":\"HelpTool\"}]},\"id\":\"13267\",\"type\":\"Toolbar\"},{\"attributes\":{\"bottom_units\":\"screen\",\"fill_alpha\":{\"value\":0.5},\"fill_color\":{\"value\":\"lightgrey\"},\"left_units\":\"screen\",\"level\":\"overlay\",\"line_alpha\":{\"value\":1.0},\"line_color\":{\"value\":\"black\"},\"line_dash\":[4,4],\"line_width\":{\"value\":2},\"render_mode\":\"css\",\"right_units\":\"screen\",\"top_units\":\"screen\"},\"id\":\"13237\",\"type\":\"BoxAnnotation\"},{\"attributes\":{\"text\":\"patho allele frequency in patients\"},\"id\":\"13194\",\"type\":\"Title\"},{\"attributes\":{\"callback\":null,\"data\":{\"left\":[0.0,0.005,0.01,0.015,0.02,0.025,0.03,0.035,0.04,0.045],\"right\":[0.005,0.01,0.015,0.02,0.025,0.03,0.035,0.04,0.045,0.05],\"top\":[7384,1248,0,0,0,0,0,0,0,0]},\"selected\":{\"id\":\"13302\",\"type\":\"Selection\"},\"selection_policy\":{\"id\":\"13301\",\"type\":\"UnionRenderers\"}},\"id\":\"13274\",\"type\":\"ColumnDataSource\"},{\"attributes\":{\"tools\":[{\"id\":\"13214\",\"type\":\"PanTool\"},{\"id\":\"13215\",\"type\":\"WheelZoomTool\"},{\"id\":\"13216\",\"type\":\"BoxZoomTool\"},{\"id\":\"13217\",\"type\":\"SaveTool\"},{\"id\":\"13218\",\"type\":\"ResetTool\"},{\"id\":\"13219\",\"type\":\"HelpTool\"},{\"id\":\"13261\",\"type\":\"PanTool\"},{\"id\":\"13262\",\"type\":\"WheelZoomTool\"},{\"id\":\"13263\",\"type\":\"BoxZoomTool\"},{\"id\":\"13264\",\"type\":\"SaveTool\"},{\"id\":\"13265\",\"type\":\"ResetTool\"},{\"id\":\"13266\",\"type\":\"HelpTool\"}]},\"id\":\"13306\",\"type\":\"ProxyToolbar\"},{\"attributes\":{},\"id\":\"13235\",\"type\":\"BasicTickFormatter\"},{\"attributes\":{},\"id\":\"13293\",\"type\":\"Selection\"},{\"attributes\":{\"axis_label\":\"Frequency\",\"formatter\":{\"id\":\"13280\",\"type\":\"BasicTickFormatter\"},\"ticker\":{\"id\":\"13257\",\"type\":\"BasicTicker\"}},\"id\":\"13256\",\"type\":\"LinearAxis\"}],\"root_ids\":[\"13308\"]},\"title\":\"Bokeh Application\",\"version\":\"1.2.0\"}};\n",
       "  var render_items = [{\"docid\":\"74771f45-8f99-4e14-8f19-cb1f1b828883\",\"roots\":{\"13308\":\"52ae2212-9f35-4897-a7b2-c924a8051d39\"}}];\n",
       "  root.Bokeh.embed.embed_items_notebook(docs_json, render_items);\n",
       "\n",
       "  }\n",
       "  if (root.Bokeh !== undefined) {\n",
       "    embed_document(root);\n",
       "  } else {\n",
       "    var attempts = 0;\n",
       "    var timer = setInterval(function(root) {\n",
       "      if (root.Bokeh !== undefined) {\n",
       "        embed_document(root);\n",
       "        clearInterval(timer);\n",
       "      }\n",
       "      attempts++;\n",
       "      if (attempts > 100) {\n",
       "        console.log(\"Bokeh: ERROR: Unable to run BokehJS code because BokehJS library is missing\");\n",
       "        clearInterval(timer);\n",
       "      }\n",
       "    }, 10, root)\n",
       "  }\n",
       "})(window);"
      ],
      "application/vnd.bokehjs_exec.v0+json": ""
     },
     "metadata": {
      "application/vnd.bokehjs_exec.v0+json": {
       "id": "13308"
      }
     },
     "output_type": "display_data"
    }
   ],
   "source": [
    "hist = patho_p.aggregate_entries(hl.expr.aggregators.hist(patho_p.variant_qc.AF[1], 0, 0.05, 10))\n",
    "p = hl.plot.histogram(hist, legend='AF patho_p', title='patho allele frequency in patients')\n",
    "\n",
    "hist2 = patho_p.aggregate_entries(hl.expr.aggregators.hist(hl.float64(hl.delimit(patho_p.info.ISEQ_GNOMAD_GENOMES_V3_AF_nfe)), 0, 0.05, 10))\n",
    "p2 = hl.plot.histogram(hist2, legend='AF GnomadV3', title='patho allele frequency in Gnomad')\n",
    "\n",
    "\n",
    "\n",
    "show(gridplot([p, p2], ncols=2, plot_width=400, plot_height=400))\n"
   ]
  },
  {
   "cell_type": "code",
   "execution_count": 717,
   "metadata": {},
   "outputs": [
    {
     "data": {
      "text/html": [
       "<table><thead style=\"font-weight: bold;\"><tr><td>locus</td><td>alleles</td><td><expr></td></tr>\n",
       "<tr><td>locus&lt;GRCh38&gt;</td><td>array&lt;str&gt;</td><td>array&lt;float64&gt;</td></tr>\n",
       "</thead><tbody><tr><td>chr1:7809893</td><td>[&quot;C&quot;,&quot;G&quot;]</td><td>[9.89e-01,1.06e-02]</td></tr>\n",
       "<tr><td>chr1:7809900</td><td>[&quot;A&quot;,&quot;G&quot;]</td><td>[9.89e-01,1.06e-02]</td></tr>\n",
       "<tr><td>chr1:25303329</td><td>[&quot;T&quot;,&quot;G&quot;]</td><td>[9.88e-01,1.19e-02]</td></tr>\n",
       "<tr><td>chr1:40258319</td><td>[&quot;GA&quot;,&quot;G&quot;]</td><td>[9.79e-01,2.13e-02]</td></tr>\n",
       "<tr><td>chr1:56940965</td><td>[&quot;G&quot;,&quot;A&quot;]</td><td>[9.68e-01,3.19e-02]</td></tr>\n",
       "<tr><td>chr1:94031110</td><td>[&quot;G&quot;,&quot;A&quot;]</td><td>[9.89e-01,1.06e-02]</td></tr>\n",
       "<tr><td>chr1:152307547</td><td>[&quot;G&quot;,&quot;A&quot;]</td><td>[9.89e-01,1.06e-02]</td></tr>\n",
       "<tr><td>chr1:161169143</td><td>[&quot;C&quot;,&quot;G&quot;]</td><td>[9.68e-01,3.19e-02]</td></tr>\n",
       "<tr><td>chr1:171107811</td><td>[&quot;C&quot;,&quot;T&quot;]</td><td>[9.79e-01,2.13e-02]</td></tr>\n",
       "<tr><td>chr1:197434706</td><td>[&quot;G&quot;,&quot;A&quot;]</td><td>[9.89e-01,1.06e-02]</td></tr>\n",
       "</tbody></table><p style=\"background: #fdd; padding: 0.4em;\">showing top 10 rows</p>\n"
      ],
      "text/plain": [
       "+----------------+------------+---------------------+\n",
       "| locus          | alleles    | <expr>              |\n",
       "+----------------+------------+---------------------+\n",
       "| locus<GRCh38>  | array<str> | array<float64>      |\n",
       "+----------------+------------+---------------------+\n",
       "| chr1:7809893   | [\"C\",\"G\"]  | [9.89e-01,1.06e-02] |\n",
       "| chr1:7809900   | [\"A\",\"G\"]  | [9.89e-01,1.06e-02] |\n",
       "| chr1:25303329  | [\"T\",\"G\"]  | [9.88e-01,1.19e-02] |\n",
       "| chr1:40258319  | [\"GA\",\"G\"] | [9.79e-01,2.13e-02] |\n",
       "| chr1:56940965  | [\"G\",\"A\"]  | [9.68e-01,3.19e-02] |\n",
       "| chr1:94031110  | [\"G\",\"A\"]  | [9.89e-01,1.06e-02] |\n",
       "| chr1:152307547 | [\"G\",\"A\"]  | [9.89e-01,1.06e-02] |\n",
       "| chr1:161169143 | [\"C\",\"G\"]  | [9.68e-01,3.19e-02] |\n",
       "| chr1:171107811 | [\"C\",\"T\"]  | [9.79e-01,2.13e-02] |\n",
       "| chr1:197434706 | [\"G\",\"A\"]  | [9.89e-01,1.06e-02] |\n",
       "+----------------+------------+---------------------+\n",
       "showing top 10 rows"
      ]
     },
     "metadata": {},
     "output_type": "display_data"
    }
   ],
   "source": [
    "patho_c.variant_qc.AF.show() #this is just for controls (may be different variants)"
   ]
  },
  {
   "cell_type": "code",
   "execution_count": 716,
   "metadata": {},
   "outputs": [
    {
     "data": {
      "text/html": [
       "<table><thead style=\"font-weight: bold;\"><tr><td>locus</td><td>alleles</td><td><expr></td></tr>\n",
       "<tr><td>locus&lt;GRCh38&gt;</td><td>array&lt;str&gt;</td><td>array&lt;float64&gt;</td></tr>\n",
       "</thead><tbody><tr><td>chr1:7809893</td><td>[&quot;C&quot;,&quot;G&quot;]</td><td>[7.00e-03]</td></tr>\n",
       "<tr><td>chr1:7809900</td><td>[&quot;A&quot;,&quot;G&quot;]</td><td>[7.00e-03]</td></tr>\n",
       "<tr><td>chr1:15445687</td><td>[&quot;AACACCCGCAAGAAGCCGGTAGTCT&quot;,&quot;A&quot;]</td><td>[3.00e-03]</td></tr>\n",
       "<tr><td>chr1:17270928</td><td>[&quot;C&quot;,&quot;T&quot;]</td><td>[3.00e-03]</td></tr>\n",
       "<tr><td>chr1:22906853</td><td>[&quot;G&quot;,&quot;A&quot;]</td><td>[7.00e-03]</td></tr>\n",
       "<tr><td>chr1:43338634</td><td>[&quot;G&quot;,&quot;C&quot;]</td><td>[3.00e-03]</td></tr>\n",
       "<tr><td>chr1:94031110</td><td>[&quot;G&quot;,&quot;A&quot;]</td><td>[7.00e-03]</td></tr>\n",
       "<tr><td>chr1:119140608</td><td>[&quot;A&quot;,&quot;C&quot;]</td><td>[3.00e-03]</td></tr>\n",
       "<tr><td>chr1:161169143</td><td>[&quot;C&quot;,&quot;G&quot;]</td><td>[2.60e-02]</td></tr>\n",
       "<tr><td>chr1:171107811</td><td>[&quot;C&quot;,&quot;T&quot;]</td><td>[1.30e-02]</td></tr>\n",
       "</tbody></table><p style=\"background: #fdd; padding: 0.4em;\">showing top 10 rows</p>\n"
      ],
      "text/plain": [
       "+----------------+-----------------------------------+----------------+\n",
       "| locus          | alleles                           | <expr>         |\n",
       "+----------------+-----------------------------------+----------------+\n",
       "| locus<GRCh38>  | array<str>                        | array<float64> |\n",
       "+----------------+-----------------------------------+----------------+\n",
       "| chr1:7809893   | [\"C\",\"G\"]                         | [7.00e-03]     |\n",
       "| chr1:7809900   | [\"A\",\"G\"]                         | [7.00e-03]     |\n",
       "| chr1:15445687  | [\"AACACCCGCAAGAAGCCGGTAGTCT\",\"A\"] | [3.00e-03]     |\n",
       "| chr1:17270928  | [\"C\",\"T\"]                         | [3.00e-03]     |\n",
       "| chr1:22906853  | [\"G\",\"A\"]                         | [7.00e-03]     |\n",
       "| chr1:43338634  | [\"G\",\"C\"]                         | [3.00e-03]     |\n",
       "| chr1:94031110  | [\"G\",\"A\"]                         | [7.00e-03]     |\n",
       "| chr1:119140608 | [\"A\",\"C\"]                         | [3.00e-03]     |\n",
       "| chr1:161169143 | [\"C\",\"G\"]                         | [2.60e-02]     |\n",
       "| chr1:171107811 | [\"C\",\"T\"]                         | [1.30e-02]     |\n",
       "+----------------+-----------------------------------+----------------+\n",
       "showing top 10 rows"
      ]
     },
     "metadata": {},
     "output_type": "display_data"
    }
   ],
   "source": [
    "patho_p.info.AF.show() #this is from whole 151 samples, only for alternative allele"
   ]
  },
  {
   "cell_type": "code",
   "execution_count": null,
   "metadata": {},
   "outputs": [],
   "source": []
  },
  {
   "cell_type": "markdown",
   "metadata": {},
   "source": [
    "<a id='5.1'></a> \n",
    "\n",
    "\n",
    "### 5.1 Are there known pathogenic variants in > 1 sample?\n",
    "\n",
    "Which variants? Which samples?"
   ]
  },
  {
   "cell_type": "code",
   "execution_count": null,
   "metadata": {},
   "outputs": [],
   "source": []
  },
  {
   "cell_type": "code",
   "execution_count": null,
   "metadata": {},
   "outputs": [],
   "source": []
  },
  {
   "cell_type": "code",
   "execution_count": 704,
   "metadata": {},
   "outputs": [
    {
     "data": {
      "text/plain": [
       "{'12': 1,\n",
       " '8': 1,\n",
       " '4': 6,\n",
       " '9': 1,\n",
       " '5': 4,\n",
       " '6': 2,\n",
       " '1': 48,\n",
       " '2': 15,\n",
       " '7': 3,\n",
       " '3': 13}"
      ]
     },
     "execution_count": 704,
     "metadata": {},
     "output_type": "execute_result"
    }
   ],
   "source": [
    "patho_p.aggregate_rows(hl.agg.counter(hl.delimit(patho_p.info.AC))) #this if for all samples and all variants though"
   ]
  },
  {
   "cell_type": "markdown",
   "metadata": {},
   "source": [
    "## 6. GWAS between patients and controls for all the variants"
   ]
  },
  {
   "cell_type": "markdown",
   "metadata": {},
   "source": [
    "first I need to change disease to bool... transmute?"
   ]
  },
  {
   "cell_type": "markdown",
   "metadata": {},
   "source": [
    "#gwas = hl.logistic_regression_rows(y=mt.phenotypes.disease,\n",
    "                                 x=mt.GT.n_alt_alleles(),\n",
    "                                 covariates=[1.0])\n",
    "#gwas.row.describe()"
   ]
  }
 ],
 "metadata": {
  "kernelspec": {
   "display_name": "Python 3",
   "language": "python",
   "name": "python3"
  },
  "language_info": {
   "codemirror_mode": {
    "name": "ipython",
    "version": 3
   },
   "file_extension": ".py",
   "mimetype": "text/x-python",
   "name": "python",
   "nbconvert_exporter": "python",
   "pygments_lexer": "ipython3",
   "version": "3.7.4"
  }
 },
 "nbformat": 4,
 "nbformat_minor": 2
}
