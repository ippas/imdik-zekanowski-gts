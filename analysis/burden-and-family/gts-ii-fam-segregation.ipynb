{
 "cells": [
  {
   "cell_type": "code",
   "execution_count": 2,
   "metadata": {},
   "outputs": [
    {
     "data": {
      "text/html": [
       "<style>.container { width:100% !important; }</style>"
      ],
      "text/plain": [
       "<IPython.core.display.HTML object>"
      ]
     },
     "metadata": {},
     "output_type": "display_data"
    },
    {
     "name": "stderr",
     "output_type": "stream",
     "text": [
      "WARNING: An illegal reflective access operation has occurred\n",
      "WARNING: Illegal reflective access by org.apache.spark.unsafe.Platform (file:/net/pr2/projects/plgrid/plggneuromol/imdik-zekanowski-gts/venv-hail-0.2.105/lib/python3.10/site-packages/pyspark/jars/spark-unsafe_2.12-3.1.3.jar) to constructor java.nio.DirectByteBuffer(long,int)\n",
      "WARNING: Please consider reporting this to the maintainers of org.apache.spark.unsafe.Platform\n",
      "WARNING: Use --illegal-access=warn to enable warnings of further illegal reflective access operations\n",
      "WARNING: All illegal access operations will be denied in a future release\n"
     ]
    },
    {
     "name": "stdout",
     "output_type": "stream",
     "text": [
      "2023-03-01 21:22:45.801 WARN  NativeCodeLoader:60 - Unable to load native-hadoop library for your platform... using builtin-java classes where applicable\n"
     ]
    },
    {
     "name": "stderr",
     "output_type": "stream",
     "text": [
      "Setting default log level to \"WARN\".\n",
      "To adjust logging level use sc.setLogLevel(newLevel). For SparkR, use setLogLevel(newLevel).\n",
      "Running on Apache Spark version 3.1.3\n",
      "SparkUI available at http://ac0713:4040\n",
      "Welcome to\n",
      "     __  __     <>__\n",
      "    / /_/ /__  __/ /\n",
      "   / __  / _ `/ / /\n",
      "  /_/ /_/\\_,_/_/_/   version 0.2.105-acd89e80c345\n",
      "LOGGING: writing to /net/pr2/projects/plgrid/plggneuromol/imdik-zekanowski-gts/analysis/burden-and-family/hail-20230301-2122-0.2.105-acd89e80c345.log\n"
     ]
    }
   ],
   "source": [
    "from IPython.display import display\n",
    "from IPython.display import HTML\n",
    "import IPython.core.display as di\n",
    "\n",
    "display(HTML(\"<style>.container { width:100% !important; }</style>\"))\n",
    "\n",
    "import hail as hl\n",
    "\n",
    "hl.init(\n",
    "    tmp_dir='/net/ascratch/people/plggosborcz/gosborcz-hail',\n",
    "    spark_conf={'spark.driver.memory': '30G', 'spark.executor.memory': '30G'},\n",
    "    default_reference='GRCh38') "
   ]
  },
  {
   "cell_type": "code",
   "execution_count": 3,
   "metadata": {
    "scrolled": true
   },
   "outputs": [
    {
     "data": {
      "text/html": [
       "\n",
       "    <div class=\"bk-root\">\n",
       "        <a href=\"https://bokeh.org\" target=\"_blank\" class=\"bk-logo bk-logo-small bk-logo-notebook\"></a>\n",
       "        <span id=\"1001\">Loading BokehJS ...</span>\n",
       "    </div>"
      ]
     },
     "metadata": {},
     "output_type": "display_data"
    },
    {
     "data": {
      "application/javascript": [
       "\n",
       "(function(root) {\n",
       "  function now() {\n",
       "    return new Date();\n",
       "  }\n",
       "\n",
       "  var force = true;\n",
       "\n",
       "  if (typeof root._bokeh_onload_callbacks === \"undefined\" || force === true) {\n",
       "    root._bokeh_onload_callbacks = [];\n",
       "    root._bokeh_is_loading = undefined;\n",
       "  }\n",
       "\n",
       "  var JS_MIME_TYPE = 'application/javascript';\n",
       "  var HTML_MIME_TYPE = 'text/html';\n",
       "  var EXEC_MIME_TYPE = 'application/vnd.bokehjs_exec.v0+json';\n",
       "  var CLASS_NAME = 'output_bokeh rendered_html';\n",
       "\n",
       "  /**\n",
       "   * Render data to the DOM node\n",
       "   */\n",
       "  function render(props, node) {\n",
       "    var script = document.createElement(\"script\");\n",
       "    node.appendChild(script);\n",
       "  }\n",
       "\n",
       "  /**\n",
       "   * Handle when an output is cleared or removed\n",
       "   */\n",
       "  function handleClearOutput(event, handle) {\n",
       "    var cell = handle.cell;\n",
       "\n",
       "    var id = cell.output_area._bokeh_element_id;\n",
       "    var server_id = cell.output_area._bokeh_server_id;\n",
       "    // Clean up Bokeh references\n",
       "    if (id != null && id in Bokeh.index) {\n",
       "      Bokeh.index[id].model.document.clear();\n",
       "      delete Bokeh.index[id];\n",
       "    }\n",
       "\n",
       "    if (server_id !== undefined) {\n",
       "      // Clean up Bokeh references\n",
       "      var cmd = \"from bokeh.io.state import curstate; print(curstate().uuid_to_server['\" + server_id + \"'].get_sessions()[0].document.roots[0]._id)\";\n",
       "      cell.notebook.kernel.execute(cmd, {\n",
       "        iopub: {\n",
       "          output: function(msg) {\n",
       "            var id = msg.content.text.trim();\n",
       "            if (id in Bokeh.index) {\n",
       "              Bokeh.index[id].model.document.clear();\n",
       "              delete Bokeh.index[id];\n",
       "            }\n",
       "          }\n",
       "        }\n",
       "      });\n",
       "      // Destroy server and session\n",
       "      var cmd = \"import bokeh.io.notebook as ion; ion.destroy_server('\" + server_id + \"')\";\n",
       "      cell.notebook.kernel.execute(cmd);\n",
       "    }\n",
       "  }\n",
       "\n",
       "  /**\n",
       "   * Handle when a new output is added\n",
       "   */\n",
       "  function handleAddOutput(event, handle) {\n",
       "    var output_area = handle.output_area;\n",
       "    var output = handle.output;\n",
       "\n",
       "    // limit handleAddOutput to display_data with EXEC_MIME_TYPE content only\n",
       "    if ((output.output_type != \"display_data\") || (!output.data.hasOwnProperty(EXEC_MIME_TYPE))) {\n",
       "      return\n",
       "    }\n",
       "\n",
       "    var toinsert = output_area.element.find(\".\" + CLASS_NAME.split(' ')[0]);\n",
       "\n",
       "    if (output.metadata[EXEC_MIME_TYPE][\"id\"] !== undefined) {\n",
       "      toinsert[toinsert.length - 1].firstChild.textContent = output.data[JS_MIME_TYPE];\n",
       "      // store reference to embed id on output_area\n",
       "      output_area._bokeh_element_id = output.metadata[EXEC_MIME_TYPE][\"id\"];\n",
       "    }\n",
       "    if (output.metadata[EXEC_MIME_TYPE][\"server_id\"] !== undefined) {\n",
       "      var bk_div = document.createElement(\"div\");\n",
       "      bk_div.innerHTML = output.data[HTML_MIME_TYPE];\n",
       "      var script_attrs = bk_div.children[0].attributes;\n",
       "      for (var i = 0; i < script_attrs.length; i++) {\n",
       "        toinsert[toinsert.length - 1].firstChild.setAttribute(script_attrs[i].name, script_attrs[i].value);\n",
       "      }\n",
       "      // store reference to server id on output_area\n",
       "      output_area._bokeh_server_id = output.metadata[EXEC_MIME_TYPE][\"server_id\"];\n",
       "    }\n",
       "  }\n",
       "\n",
       "  function register_renderer(events, OutputArea) {\n",
       "\n",
       "    function append_mime(data, metadata, element) {\n",
       "      // create a DOM node to render to\n",
       "      var toinsert = this.create_output_subarea(\n",
       "        metadata,\n",
       "        CLASS_NAME,\n",
       "        EXEC_MIME_TYPE\n",
       "      );\n",
       "      this.keyboard_manager.register_events(toinsert);\n",
       "      // Render to node\n",
       "      var props = {data: data, metadata: metadata[EXEC_MIME_TYPE]};\n",
       "      render(props, toinsert[toinsert.length - 1]);\n",
       "      element.append(toinsert);\n",
       "      return toinsert\n",
       "    }\n",
       "\n",
       "    /* Handle when an output is cleared or removed */\n",
       "    events.on('clear_output.CodeCell', handleClearOutput);\n",
       "    events.on('delete.Cell', handleClearOutput);\n",
       "\n",
       "    /* Handle when a new output is added */\n",
       "    events.on('output_added.OutputArea', handleAddOutput);\n",
       "\n",
       "    /**\n",
       "     * Register the mime type and append_mime function with output_area\n",
       "     */\n",
       "    OutputArea.prototype.register_mime_type(EXEC_MIME_TYPE, append_mime, {\n",
       "      /* Is output safe? */\n",
       "      safe: true,\n",
       "      /* Index of renderer in `output_area.display_order` */\n",
       "      index: 0\n",
       "    });\n",
       "  }\n",
       "\n",
       "  // register the mime type if in Jupyter Notebook environment and previously unregistered\n",
       "  if (root.Jupyter !== undefined) {\n",
       "    var events = require('base/js/events');\n",
       "    var OutputArea = require('notebook/js/outputarea').OutputArea;\n",
       "\n",
       "    if (OutputArea.prototype.mime_types().indexOf(EXEC_MIME_TYPE) == -1) {\n",
       "      register_renderer(events, OutputArea);\n",
       "    }\n",
       "  }\n",
       "\n",
       "  \n",
       "  if (typeof (root._bokeh_timeout) === \"undefined\" || force === true) {\n",
       "    root._bokeh_timeout = Date.now() + 5000;\n",
       "    root._bokeh_failed_load = false;\n",
       "  }\n",
       "\n",
       "  var NB_LOAD_WARNING = {'data': {'text/html':\n",
       "     \"<div style='background-color: #fdd'>\\n\"+\n",
       "     \"<p>\\n\"+\n",
       "     \"BokehJS does not appear to have successfully loaded. If loading BokehJS from CDN, this \\n\"+\n",
       "     \"may be due to a slow or bad network connection. Possible fixes:\\n\"+\n",
       "     \"</p>\\n\"+\n",
       "     \"<ul>\\n\"+\n",
       "     \"<li>re-rerun `output_notebook()` to attempt to load from CDN again, or</li>\\n\"+\n",
       "     \"<li>use INLINE resources instead, as so:</li>\\n\"+\n",
       "     \"</ul>\\n\"+\n",
       "     \"<code>\\n\"+\n",
       "     \"from bokeh.resources import INLINE\\n\"+\n",
       "     \"output_notebook(resources=INLINE)\\n\"+\n",
       "     \"</code>\\n\"+\n",
       "     \"</div>\"}};\n",
       "\n",
       "  function display_loaded() {\n",
       "    var el = document.getElementById(\"1001\");\n",
       "    if (el != null) {\n",
       "      el.textContent = \"BokehJS is loading...\";\n",
       "    }\n",
       "    if (root.Bokeh !== undefined) {\n",
       "      if (el != null) {\n",
       "        el.textContent = \"BokehJS \" + root.Bokeh.version + \" successfully loaded.\";\n",
       "      }\n",
       "    } else if (Date.now() < root._bokeh_timeout) {\n",
       "      setTimeout(display_loaded, 100)\n",
       "    }\n",
       "  }\n",
       "\n",
       "\n",
       "  function run_callbacks() {\n",
       "    try {\n",
       "      root._bokeh_onload_callbacks.forEach(function(callback) {\n",
       "        if (callback != null)\n",
       "          callback();\n",
       "      });\n",
       "    } finally {\n",
       "      delete root._bokeh_onload_callbacks\n",
       "    }\n",
       "    console.debug(\"Bokeh: all callbacks have finished\");\n",
       "  }\n",
       "\n",
       "  function load_libs(css_urls, js_urls, callback) {\n",
       "    if (css_urls == null) css_urls = [];\n",
       "    if (js_urls == null) js_urls = [];\n",
       "\n",
       "    root._bokeh_onload_callbacks.push(callback);\n",
       "    if (root._bokeh_is_loading > 0) {\n",
       "      console.debug(\"Bokeh: BokehJS is being loaded, scheduling callback at\", now());\n",
       "      return null;\n",
       "    }\n",
       "    if (js_urls == null || js_urls.length === 0) {\n",
       "      run_callbacks();\n",
       "      return null;\n",
       "    }\n",
       "    console.debug(\"Bokeh: BokehJS not loaded, scheduling load and callback at\", now());\n",
       "    root._bokeh_is_loading = css_urls.length + js_urls.length;\n",
       "\n",
       "    function on_load() {\n",
       "      root._bokeh_is_loading--;\n",
       "      if (root._bokeh_is_loading === 0) {\n",
       "        console.debug(\"Bokeh: all BokehJS libraries/stylesheets loaded\");\n",
       "        run_callbacks()\n",
       "      }\n",
       "    }\n",
       "\n",
       "    function on_error() {\n",
       "      console.error(\"failed to load \" + url);\n",
       "    }\n",
       "\n",
       "    for (var i = 0; i < css_urls.length; i++) {\n",
       "      var url = css_urls[i];\n",
       "      const element = document.createElement(\"link\");\n",
       "      element.onload = on_load;\n",
       "      element.onerror = on_error;\n",
       "      element.rel = \"stylesheet\";\n",
       "      element.type = \"text/css\";\n",
       "      element.href = url;\n",
       "      console.debug(\"Bokeh: injecting link tag for BokehJS stylesheet: \", url);\n",
       "      document.body.appendChild(element);\n",
       "    }\n",
       "\n",
       "    for (var i = 0; i < js_urls.length; i++) {\n",
       "      var url = js_urls[i];\n",
       "      var element = document.createElement('script');\n",
       "      element.onload = on_load;\n",
       "      element.onerror = on_error;\n",
       "      element.async = false;\n",
       "      element.src = url;\n",
       "      console.debug(\"Bokeh: injecting script tag for BokehJS library: \", url);\n",
       "      document.head.appendChild(element);\n",
       "    }\n",
       "  };var element = document.getElementById(\"1001\");\n",
       "  if (element == null) {\n",
       "    console.error(\"Bokeh: ERROR: autoload.js configured with elementid '1001' but no matching script tag was found. \")\n",
       "    return false;\n",
       "  }\n",
       "\n",
       "  function inject_raw_css(css) {\n",
       "    const element = document.createElement(\"style\");\n",
       "    element.appendChild(document.createTextNode(css));\n",
       "    document.body.appendChild(element);\n",
       "  }\n",
       "\n",
       "  \n",
       "  var js_urls = [\"https://cdn.pydata.org/bokeh/release/bokeh-1.4.0.min.js\", \"https://cdn.pydata.org/bokeh/release/bokeh-widgets-1.4.0.min.js\", \"https://cdn.pydata.org/bokeh/release/bokeh-tables-1.4.0.min.js\", \"https://cdn.pydata.org/bokeh/release/bokeh-gl-1.4.0.min.js\"];\n",
       "  var css_urls = [];\n",
       "  \n",
       "\n",
       "  var inline_js = [\n",
       "    function(Bokeh) {\n",
       "      Bokeh.set_log_level(\"info\");\n",
       "    },\n",
       "    function(Bokeh) {\n",
       "    \n",
       "    \n",
       "    }\n",
       "  ];\n",
       "\n",
       "  function run_inline_js() {\n",
       "    \n",
       "    if (root.Bokeh !== undefined || force === true) {\n",
       "      \n",
       "    for (var i = 0; i < inline_js.length; i++) {\n",
       "      inline_js[i].call(root, root.Bokeh);\n",
       "    }\n",
       "    if (force === true) {\n",
       "        display_loaded();\n",
       "      }} else if (Date.now() < root._bokeh_timeout) {\n",
       "      setTimeout(run_inline_js, 100);\n",
       "    } else if (!root._bokeh_failed_load) {\n",
       "      console.log(\"Bokeh: BokehJS failed to load within specified timeout.\");\n",
       "      root._bokeh_failed_load = true;\n",
       "    } else if (force !== true) {\n",
       "      var cell = $(document.getElementById(\"1001\")).parents('.cell').data().cell;\n",
       "      cell.output_area.append_execute_result(NB_LOAD_WARNING)\n",
       "    }\n",
       "\n",
       "  }\n",
       "\n",
       "  if (root._bokeh_is_loading === 0) {\n",
       "    console.debug(\"Bokeh: BokehJS loaded, going straight to plotting\");\n",
       "    run_inline_js();\n",
       "  } else {\n",
       "    load_libs(css_urls, js_urls, function() {\n",
       "      console.debug(\"Bokeh: BokehJS plotting callback run at\", now());\n",
       "      run_inline_js();\n",
       "    });\n",
       "  }\n",
       "}(window));"
      ],
      "application/vnd.bokehjs_load.v0+json": "\n(function(root) {\n  function now() {\n    return new Date();\n  }\n\n  var force = true;\n\n  if (typeof root._bokeh_onload_callbacks === \"undefined\" || force === true) {\n    root._bokeh_onload_callbacks = [];\n    root._bokeh_is_loading = undefined;\n  }\n\n  \n\n  \n  if (typeof (root._bokeh_timeout) === \"undefined\" || force === true) {\n    root._bokeh_timeout = Date.now() + 5000;\n    root._bokeh_failed_load = false;\n  }\n\n  var NB_LOAD_WARNING = {'data': {'text/html':\n     \"<div style='background-color: #fdd'>\\n\"+\n     \"<p>\\n\"+\n     \"BokehJS does not appear to have successfully loaded. If loading BokehJS from CDN, this \\n\"+\n     \"may be due to a slow or bad network connection. Possible fixes:\\n\"+\n     \"</p>\\n\"+\n     \"<ul>\\n\"+\n     \"<li>re-rerun `output_notebook()` to attempt to load from CDN again, or</li>\\n\"+\n     \"<li>use INLINE resources instead, as so:</li>\\n\"+\n     \"</ul>\\n\"+\n     \"<code>\\n\"+\n     \"from bokeh.resources import INLINE\\n\"+\n     \"output_notebook(resources=INLINE)\\n\"+\n     \"</code>\\n\"+\n     \"</div>\"}};\n\n  function display_loaded() {\n    var el = document.getElementById(\"1001\");\n    if (el != null) {\n      el.textContent = \"BokehJS is loading...\";\n    }\n    if (root.Bokeh !== undefined) {\n      if (el != null) {\n        el.textContent = \"BokehJS \" + root.Bokeh.version + \" successfully loaded.\";\n      }\n    } else if (Date.now() < root._bokeh_timeout) {\n      setTimeout(display_loaded, 100)\n    }\n  }\n\n\n  function run_callbacks() {\n    try {\n      root._bokeh_onload_callbacks.forEach(function(callback) {\n        if (callback != null)\n          callback();\n      });\n    } finally {\n      delete root._bokeh_onload_callbacks\n    }\n    console.debug(\"Bokeh: all callbacks have finished\");\n  }\n\n  function load_libs(css_urls, js_urls, callback) {\n    if (css_urls == null) css_urls = [];\n    if (js_urls == null) js_urls = [];\n\n    root._bokeh_onload_callbacks.push(callback);\n    if (root._bokeh_is_loading > 0) {\n      console.debug(\"Bokeh: BokehJS is being loaded, scheduling callback at\", now());\n      return null;\n    }\n    if (js_urls == null || js_urls.length === 0) {\n      run_callbacks();\n      return null;\n    }\n    console.debug(\"Bokeh: BokehJS not loaded, scheduling load and callback at\", now());\n    root._bokeh_is_loading = css_urls.length + js_urls.length;\n\n    function on_load() {\n      root._bokeh_is_loading--;\n      if (root._bokeh_is_loading === 0) {\n        console.debug(\"Bokeh: all BokehJS libraries/stylesheets loaded\");\n        run_callbacks()\n      }\n    }\n\n    function on_error() {\n      console.error(\"failed to load \" + url);\n    }\n\n    for (var i = 0; i < css_urls.length; i++) {\n      var url = css_urls[i];\n      const element = document.createElement(\"link\");\n      element.onload = on_load;\n      element.onerror = on_error;\n      element.rel = \"stylesheet\";\n      element.type = \"text/css\";\n      element.href = url;\n      console.debug(\"Bokeh: injecting link tag for BokehJS stylesheet: \", url);\n      document.body.appendChild(element);\n    }\n\n    for (var i = 0; i < js_urls.length; i++) {\n      var url = js_urls[i];\n      var element = document.createElement('script');\n      element.onload = on_load;\n      element.onerror = on_error;\n      element.async = false;\n      element.src = url;\n      console.debug(\"Bokeh: injecting script tag for BokehJS library: \", url);\n      document.head.appendChild(element);\n    }\n  };var element = document.getElementById(\"1001\");\n  if (element == null) {\n    console.error(\"Bokeh: ERROR: autoload.js configured with elementid '1001' but no matching script tag was found. \")\n    return false;\n  }\n\n  function inject_raw_css(css) {\n    const element = document.createElement(\"style\");\n    element.appendChild(document.createTextNode(css));\n    document.body.appendChild(element);\n  }\n\n  \n  var js_urls = [\"https://cdn.pydata.org/bokeh/release/bokeh-1.4.0.min.js\", \"https://cdn.pydata.org/bokeh/release/bokeh-widgets-1.4.0.min.js\", \"https://cdn.pydata.org/bokeh/release/bokeh-tables-1.4.0.min.js\", \"https://cdn.pydata.org/bokeh/release/bokeh-gl-1.4.0.min.js\"];\n  var css_urls = [];\n  \n\n  var inline_js = [\n    function(Bokeh) {\n      Bokeh.set_log_level(\"info\");\n    },\n    function(Bokeh) {\n    \n    \n    }\n  ];\n\n  function run_inline_js() {\n    \n    if (root.Bokeh !== undefined || force === true) {\n      \n    for (var i = 0; i < inline_js.length; i++) {\n      inline_js[i].call(root, root.Bokeh);\n    }\n    if (force === true) {\n        display_loaded();\n      }} else if (Date.now() < root._bokeh_timeout) {\n      setTimeout(run_inline_js, 100);\n    } else if (!root._bokeh_failed_load) {\n      console.log(\"Bokeh: BokehJS failed to load within specified timeout.\");\n      root._bokeh_failed_load = true;\n    } else if (force !== true) {\n      var cell = $(document.getElementById(\"1001\")).parents('.cell').data().cell;\n      cell.output_area.append_execute_result(NB_LOAD_WARNING)\n    }\n\n  }\n\n  if (root._bokeh_is_loading === 0) {\n    console.debug(\"Bokeh: BokehJS loaded, going straight to plotting\");\n    run_inline_js();\n  } else {\n    load_libs(css_urls, js_urls, function() {\n      console.debug(\"Bokeh: BokehJS plotting callback run at\", now());\n      run_inline_js();\n    });\n  }\n}(window));"
     },
     "metadata": {},
     "output_type": "display_data"
    },
    {
     "data": {
      "text/html": [
       "\n",
       "    <div class=\"bk-root\">\n",
       "        <a href=\"https://bokeh.org\" target=\"_blank\" class=\"bk-logo bk-logo-small bk-logo-notebook\"></a>\n",
       "        <span id=\"1002\">Loading BokehJS ...</span>\n",
       "    </div>"
      ]
     },
     "metadata": {},
     "output_type": "display_data"
    },
    {
     "data": {
      "application/javascript": [
       "\n",
       "(function(root) {\n",
       "  function now() {\n",
       "    return new Date();\n",
       "  }\n",
       "\n",
       "  var force = true;\n",
       "\n",
       "  if (typeof root._bokeh_onload_callbacks === \"undefined\" || force === true) {\n",
       "    root._bokeh_onload_callbacks = [];\n",
       "    root._bokeh_is_loading = undefined;\n",
       "  }\n",
       "\n",
       "  var JS_MIME_TYPE = 'application/javascript';\n",
       "  var HTML_MIME_TYPE = 'text/html';\n",
       "  var EXEC_MIME_TYPE = 'application/vnd.bokehjs_exec.v0+json';\n",
       "  var CLASS_NAME = 'output_bokeh rendered_html';\n",
       "\n",
       "  /**\n",
       "   * Render data to the DOM node\n",
       "   */\n",
       "  function render(props, node) {\n",
       "    var script = document.createElement(\"script\");\n",
       "    node.appendChild(script);\n",
       "  }\n",
       "\n",
       "  /**\n",
       "   * Handle when an output is cleared or removed\n",
       "   */\n",
       "  function handleClearOutput(event, handle) {\n",
       "    var cell = handle.cell;\n",
       "\n",
       "    var id = cell.output_area._bokeh_element_id;\n",
       "    var server_id = cell.output_area._bokeh_server_id;\n",
       "    // Clean up Bokeh references\n",
       "    if (id != null && id in Bokeh.index) {\n",
       "      Bokeh.index[id].model.document.clear();\n",
       "      delete Bokeh.index[id];\n",
       "    }\n",
       "\n",
       "    if (server_id !== undefined) {\n",
       "      // Clean up Bokeh references\n",
       "      var cmd = \"from bokeh.io.state import curstate; print(curstate().uuid_to_server['\" + server_id + \"'].get_sessions()[0].document.roots[0]._id)\";\n",
       "      cell.notebook.kernel.execute(cmd, {\n",
       "        iopub: {\n",
       "          output: function(msg) {\n",
       "            var id = msg.content.text.trim();\n",
       "            if (id in Bokeh.index) {\n",
       "              Bokeh.index[id].model.document.clear();\n",
       "              delete Bokeh.index[id];\n",
       "            }\n",
       "          }\n",
       "        }\n",
       "      });\n",
       "      // Destroy server and session\n",
       "      var cmd = \"import bokeh.io.notebook as ion; ion.destroy_server('\" + server_id + \"')\";\n",
       "      cell.notebook.kernel.execute(cmd);\n",
       "    }\n",
       "  }\n",
       "\n",
       "  /**\n",
       "   * Handle when a new output is added\n",
       "   */\n",
       "  function handleAddOutput(event, handle) {\n",
       "    var output_area = handle.output_area;\n",
       "    var output = handle.output;\n",
       "\n",
       "    // limit handleAddOutput to display_data with EXEC_MIME_TYPE content only\n",
       "    if ((output.output_type != \"display_data\") || (!output.data.hasOwnProperty(EXEC_MIME_TYPE))) {\n",
       "      return\n",
       "    }\n",
       "\n",
       "    var toinsert = output_area.element.find(\".\" + CLASS_NAME.split(' ')[0]);\n",
       "\n",
       "    if (output.metadata[EXEC_MIME_TYPE][\"id\"] !== undefined) {\n",
       "      toinsert[toinsert.length - 1].firstChild.textContent = output.data[JS_MIME_TYPE];\n",
       "      // store reference to embed id on output_area\n",
       "      output_area._bokeh_element_id = output.metadata[EXEC_MIME_TYPE][\"id\"];\n",
       "    }\n",
       "    if (output.metadata[EXEC_MIME_TYPE][\"server_id\"] !== undefined) {\n",
       "      var bk_div = document.createElement(\"div\");\n",
       "      bk_div.innerHTML = output.data[HTML_MIME_TYPE];\n",
       "      var script_attrs = bk_div.children[0].attributes;\n",
       "      for (var i = 0; i < script_attrs.length; i++) {\n",
       "        toinsert[toinsert.length - 1].firstChild.setAttribute(script_attrs[i].name, script_attrs[i].value);\n",
       "      }\n",
       "      // store reference to server id on output_area\n",
       "      output_area._bokeh_server_id = output.metadata[EXEC_MIME_TYPE][\"server_id\"];\n",
       "    }\n",
       "  }\n",
       "\n",
       "  function register_renderer(events, OutputArea) {\n",
       "\n",
       "    function append_mime(data, metadata, element) {\n",
       "      // create a DOM node to render to\n",
       "      var toinsert = this.create_output_subarea(\n",
       "        metadata,\n",
       "        CLASS_NAME,\n",
       "        EXEC_MIME_TYPE\n",
       "      );\n",
       "      this.keyboard_manager.register_events(toinsert);\n",
       "      // Render to node\n",
       "      var props = {data: data, metadata: metadata[EXEC_MIME_TYPE]};\n",
       "      render(props, toinsert[toinsert.length - 1]);\n",
       "      element.append(toinsert);\n",
       "      return toinsert\n",
       "    }\n",
       "\n",
       "    /* Handle when an output is cleared or removed */\n",
       "    events.on('clear_output.CodeCell', handleClearOutput);\n",
       "    events.on('delete.Cell', handleClearOutput);\n",
       "\n",
       "    /* Handle when a new output is added */\n",
       "    events.on('output_added.OutputArea', handleAddOutput);\n",
       "\n",
       "    /**\n",
       "     * Register the mime type and append_mime function with output_area\n",
       "     */\n",
       "    OutputArea.prototype.register_mime_type(EXEC_MIME_TYPE, append_mime, {\n",
       "      /* Is output safe? */\n",
       "      safe: true,\n",
       "      /* Index of renderer in `output_area.display_order` */\n",
       "      index: 0\n",
       "    });\n",
       "  }\n",
       "\n",
       "  // register the mime type if in Jupyter Notebook environment and previously unregistered\n",
       "  if (root.Jupyter !== undefined) {\n",
       "    var events = require('base/js/events');\n",
       "    var OutputArea = require('notebook/js/outputarea').OutputArea;\n",
       "\n",
       "    if (OutputArea.prototype.mime_types().indexOf(EXEC_MIME_TYPE) == -1) {\n",
       "      register_renderer(events, OutputArea);\n",
       "    }\n",
       "  }\n",
       "\n",
       "  \n",
       "  if (typeof (root._bokeh_timeout) === \"undefined\" || force === true) {\n",
       "    root._bokeh_timeout = Date.now() + 5000;\n",
       "    root._bokeh_failed_load = false;\n",
       "  }\n",
       "\n",
       "  var NB_LOAD_WARNING = {'data': {'text/html':\n",
       "     \"<div style='background-color: #fdd'>\\n\"+\n",
       "     \"<p>\\n\"+\n",
       "     \"BokehJS does not appear to have successfully loaded. If loading BokehJS from CDN, this \\n\"+\n",
       "     \"may be due to a slow or bad network connection. Possible fixes:\\n\"+\n",
       "     \"</p>\\n\"+\n",
       "     \"<ul>\\n\"+\n",
       "     \"<li>re-rerun `output_notebook()` to attempt to load from CDN again, or</li>\\n\"+\n",
       "     \"<li>use INLINE resources instead, as so:</li>\\n\"+\n",
       "     \"</ul>\\n\"+\n",
       "     \"<code>\\n\"+\n",
       "     \"from bokeh.resources import INLINE\\n\"+\n",
       "     \"output_notebook(resources=INLINE)\\n\"+\n",
       "     \"</code>\\n\"+\n",
       "     \"</div>\"}};\n",
       "\n",
       "  function display_loaded() {\n",
       "    var el = document.getElementById(\"1002\");\n",
       "    if (el != null) {\n",
       "      el.textContent = \"BokehJS is loading...\";\n",
       "    }\n",
       "    if (root.Bokeh !== undefined) {\n",
       "      if (el != null) {\n",
       "        el.textContent = \"BokehJS \" + root.Bokeh.version + \" successfully loaded.\";\n",
       "      }\n",
       "    } else if (Date.now() < root._bokeh_timeout) {\n",
       "      setTimeout(display_loaded, 100)\n",
       "    }\n",
       "  }\n",
       "\n",
       "\n",
       "  function run_callbacks() {\n",
       "    try {\n",
       "      root._bokeh_onload_callbacks.forEach(function(callback) {\n",
       "        if (callback != null)\n",
       "          callback();\n",
       "      });\n",
       "    } finally {\n",
       "      delete root._bokeh_onload_callbacks\n",
       "    }\n",
       "    console.debug(\"Bokeh: all callbacks have finished\");\n",
       "  }\n",
       "\n",
       "  function load_libs(css_urls, js_urls, callback) {\n",
       "    if (css_urls == null) css_urls = [];\n",
       "    if (js_urls == null) js_urls = [];\n",
       "\n",
       "    root._bokeh_onload_callbacks.push(callback);\n",
       "    if (root._bokeh_is_loading > 0) {\n",
       "      console.debug(\"Bokeh: BokehJS is being loaded, scheduling callback at\", now());\n",
       "      return null;\n",
       "    }\n",
       "    if (js_urls == null || js_urls.length === 0) {\n",
       "      run_callbacks();\n",
       "      return null;\n",
       "    }\n",
       "    console.debug(\"Bokeh: BokehJS not loaded, scheduling load and callback at\", now());\n",
       "    root._bokeh_is_loading = css_urls.length + js_urls.length;\n",
       "\n",
       "    function on_load() {\n",
       "      root._bokeh_is_loading--;\n",
       "      if (root._bokeh_is_loading === 0) {\n",
       "        console.debug(\"Bokeh: all BokehJS libraries/stylesheets loaded\");\n",
       "        run_callbacks()\n",
       "      }\n",
       "    }\n",
       "\n",
       "    function on_error() {\n",
       "      console.error(\"failed to load \" + url);\n",
       "    }\n",
       "\n",
       "    for (var i = 0; i < css_urls.length; i++) {\n",
       "      var url = css_urls[i];\n",
       "      const element = document.createElement(\"link\");\n",
       "      element.onload = on_load;\n",
       "      element.onerror = on_error;\n",
       "      element.rel = \"stylesheet\";\n",
       "      element.type = \"text/css\";\n",
       "      element.href = url;\n",
       "      console.debug(\"Bokeh: injecting link tag for BokehJS stylesheet: \", url);\n",
       "      document.body.appendChild(element);\n",
       "    }\n",
       "\n",
       "    for (var i = 0; i < js_urls.length; i++) {\n",
       "      var url = js_urls[i];\n",
       "      var element = document.createElement('script');\n",
       "      element.onload = on_load;\n",
       "      element.onerror = on_error;\n",
       "      element.async = false;\n",
       "      element.src = url;\n",
       "      console.debug(\"Bokeh: injecting script tag for BokehJS library: \", url);\n",
       "      document.head.appendChild(element);\n",
       "    }\n",
       "  };var element = document.getElementById(\"1002\");\n",
       "  if (element == null) {\n",
       "    console.error(\"Bokeh: ERROR: autoload.js configured with elementid '1002' but no matching script tag was found. \")\n",
       "    return false;\n",
       "  }\n",
       "\n",
       "  function inject_raw_css(css) {\n",
       "    const element = document.createElement(\"style\");\n",
       "    element.appendChild(document.createTextNode(css));\n",
       "    document.body.appendChild(element);\n",
       "  }\n",
       "\n",
       "  \n",
       "  var js_urls = [\"https://cdn.pydata.org/bokeh/release/bokeh-1.4.0.min.js\", \"https://cdn.pydata.org/bokeh/release/bokeh-widgets-1.4.0.min.js\", \"https://cdn.pydata.org/bokeh/release/bokeh-tables-1.4.0.min.js\", \"https://cdn.pydata.org/bokeh/release/bokeh-gl-1.4.0.min.js\"];\n",
       "  var css_urls = [];\n",
       "  \n",
       "\n",
       "  var inline_js = [\n",
       "    function(Bokeh) {\n",
       "      Bokeh.set_log_level(\"info\");\n",
       "    },\n",
       "    function(Bokeh) {\n",
       "    \n",
       "    \n",
       "    }\n",
       "  ];\n",
       "\n",
       "  function run_inline_js() {\n",
       "    \n",
       "    if (root.Bokeh !== undefined || force === true) {\n",
       "      \n",
       "    for (var i = 0; i < inline_js.length; i++) {\n",
       "      inline_js[i].call(root, root.Bokeh);\n",
       "    }\n",
       "    if (force === true) {\n",
       "        display_loaded();\n",
       "      }} else if (Date.now() < root._bokeh_timeout) {\n",
       "      setTimeout(run_inline_js, 100);\n",
       "    } else if (!root._bokeh_failed_load) {\n",
       "      console.log(\"Bokeh: BokehJS failed to load within specified timeout.\");\n",
       "      root._bokeh_failed_load = true;\n",
       "    } else if (force !== true) {\n",
       "      var cell = $(document.getElementById(\"1002\")).parents('.cell').data().cell;\n",
       "      cell.output_area.append_execute_result(NB_LOAD_WARNING)\n",
       "    }\n",
       "\n",
       "  }\n",
       "\n",
       "  if (root._bokeh_is_loading === 0) {\n",
       "    console.debug(\"Bokeh: BokehJS loaded, going straight to plotting\");\n",
       "    run_inline_js();\n",
       "  } else {\n",
       "    load_libs(css_urls, js_urls, function() {\n",
       "      console.debug(\"Bokeh: BokehJS plotting callback run at\", now());\n",
       "      run_inline_js();\n",
       "    });\n",
       "  }\n",
       "}(window));"
      ],
      "application/vnd.bokehjs_load.v0+json": "\n(function(root) {\n  function now() {\n    return new Date();\n  }\n\n  var force = true;\n\n  if (typeof root._bokeh_onload_callbacks === \"undefined\" || force === true) {\n    root._bokeh_onload_callbacks = [];\n    root._bokeh_is_loading = undefined;\n  }\n\n  \n\n  \n  if (typeof (root._bokeh_timeout) === \"undefined\" || force === true) {\n    root._bokeh_timeout = Date.now() + 5000;\n    root._bokeh_failed_load = false;\n  }\n\n  var NB_LOAD_WARNING = {'data': {'text/html':\n     \"<div style='background-color: #fdd'>\\n\"+\n     \"<p>\\n\"+\n     \"BokehJS does not appear to have successfully loaded. If loading BokehJS from CDN, this \\n\"+\n     \"may be due to a slow or bad network connection. Possible fixes:\\n\"+\n     \"</p>\\n\"+\n     \"<ul>\\n\"+\n     \"<li>re-rerun `output_notebook()` to attempt to load from CDN again, or</li>\\n\"+\n     \"<li>use INLINE resources instead, as so:</li>\\n\"+\n     \"</ul>\\n\"+\n     \"<code>\\n\"+\n     \"from bokeh.resources import INLINE\\n\"+\n     \"output_notebook(resources=INLINE)\\n\"+\n     \"</code>\\n\"+\n     \"</div>\"}};\n\n  function display_loaded() {\n    var el = document.getElementById(\"1002\");\n    if (el != null) {\n      el.textContent = \"BokehJS is loading...\";\n    }\n    if (root.Bokeh !== undefined) {\n      if (el != null) {\n        el.textContent = \"BokehJS \" + root.Bokeh.version + \" successfully loaded.\";\n      }\n    } else if (Date.now() < root._bokeh_timeout) {\n      setTimeout(display_loaded, 100)\n    }\n  }\n\n\n  function run_callbacks() {\n    try {\n      root._bokeh_onload_callbacks.forEach(function(callback) {\n        if (callback != null)\n          callback();\n      });\n    } finally {\n      delete root._bokeh_onload_callbacks\n    }\n    console.debug(\"Bokeh: all callbacks have finished\");\n  }\n\n  function load_libs(css_urls, js_urls, callback) {\n    if (css_urls == null) css_urls = [];\n    if (js_urls == null) js_urls = [];\n\n    root._bokeh_onload_callbacks.push(callback);\n    if (root._bokeh_is_loading > 0) {\n      console.debug(\"Bokeh: BokehJS is being loaded, scheduling callback at\", now());\n      return null;\n    }\n    if (js_urls == null || js_urls.length === 0) {\n      run_callbacks();\n      return null;\n    }\n    console.debug(\"Bokeh: BokehJS not loaded, scheduling load and callback at\", now());\n    root._bokeh_is_loading = css_urls.length + js_urls.length;\n\n    function on_load() {\n      root._bokeh_is_loading--;\n      if (root._bokeh_is_loading === 0) {\n        console.debug(\"Bokeh: all BokehJS libraries/stylesheets loaded\");\n        run_callbacks()\n      }\n    }\n\n    function on_error() {\n      console.error(\"failed to load \" + url);\n    }\n\n    for (var i = 0; i < css_urls.length; i++) {\n      var url = css_urls[i];\n      const element = document.createElement(\"link\");\n      element.onload = on_load;\n      element.onerror = on_error;\n      element.rel = \"stylesheet\";\n      element.type = \"text/css\";\n      element.href = url;\n      console.debug(\"Bokeh: injecting link tag for BokehJS stylesheet: \", url);\n      document.body.appendChild(element);\n    }\n\n    for (var i = 0; i < js_urls.length; i++) {\n      var url = js_urls[i];\n      var element = document.createElement('script');\n      element.onload = on_load;\n      element.onerror = on_error;\n      element.async = false;\n      element.src = url;\n      console.debug(\"Bokeh: injecting script tag for BokehJS library: \", url);\n      document.head.appendChild(element);\n    }\n  };var element = document.getElementById(\"1002\");\n  if (element == null) {\n    console.error(\"Bokeh: ERROR: autoload.js configured with elementid '1002' but no matching script tag was found. \")\n    return false;\n  }\n\n  function inject_raw_css(css) {\n    const element = document.createElement(\"style\");\n    element.appendChild(document.createTextNode(css));\n    document.body.appendChild(element);\n  }\n\n  \n  var js_urls = [\"https://cdn.pydata.org/bokeh/release/bokeh-1.4.0.min.js\", \"https://cdn.pydata.org/bokeh/release/bokeh-widgets-1.4.0.min.js\", \"https://cdn.pydata.org/bokeh/release/bokeh-tables-1.4.0.min.js\", \"https://cdn.pydata.org/bokeh/release/bokeh-gl-1.4.0.min.js\"];\n  var css_urls = [];\n  \n\n  var inline_js = [\n    function(Bokeh) {\n      Bokeh.set_log_level(\"info\");\n    },\n    function(Bokeh) {\n    \n    \n    }\n  ];\n\n  function run_inline_js() {\n    \n    if (root.Bokeh !== undefined || force === true) {\n      \n    for (var i = 0; i < inline_js.length; i++) {\n      inline_js[i].call(root, root.Bokeh);\n    }\n    if (force === true) {\n        display_loaded();\n      }} else if (Date.now() < root._bokeh_timeout) {\n      setTimeout(run_inline_js, 100);\n    } else if (!root._bokeh_failed_load) {\n      console.log(\"Bokeh: BokehJS failed to load within specified timeout.\");\n      root._bokeh_failed_load = true;\n    } else if (force !== true) {\n      var cell = $(document.getElementById(\"1002\")).parents('.cell').data().cell;\n      cell.output_area.append_execute_result(NB_LOAD_WARNING)\n    }\n\n  }\n\n  if (root._bokeh_is_loading === 0) {\n    console.debug(\"Bokeh: BokehJS loaded, going straight to plotting\");\n    run_inline_js();\n  } else {\n    load_libs(css_urls, js_urls, function() {\n      console.debug(\"Bokeh: BokehJS plotting callback run at\", now());\n      run_inline_js();\n    });\n  }\n}(window));"
     },
     "metadata": {},
     "output_type": "display_data"
    }
   ],
   "source": [
    "from hail.plot import show\n",
    "from pprint import pprint\n",
    "from bokeh.layouts import gridplot\n",
    "hl.plot.output_notebook()\n",
    "\n",
    "\n",
    "import numpy as np\n",
    "import pandas as pd\n",
    "from functools import reduce\n",
    "from itertools import chain\n",
    "\n",
    "from bokeh.plotting import output_notebook, show, figure\n",
    "from bokeh.palettes import viridis\n",
    "\n",
    "output_notebook() "
   ]
  },
  {
   "cell_type": "markdown",
   "metadata": {},
   "source": [
    "## 1. Get number of variants with CADD > 30"
   ]
  },
  {
   "cell_type": "code",
   "execution_count": 3,
   "metadata": {},
   "outputs": [],
   "source": [
    "mt = hl.read_matrix_table('/net/pr2/projects/plgrid/plggneuromol/imdik-zekanowski-gts/data/joint-gts-only/fams-anno.mt')"
   ]
  },
  {
   "cell_type": "code",
   "execution_count": 4,
   "metadata": {},
   "outputs": [
    {
     "name": "stderr",
     "output_type": "stream",
     "text": [
      "2023-02-27 11:42:52.741 Hail: INFO: Reading table to impute column types\n",
      "2023-02-27 11:42:53.417 Hail: INFO: Finished type imputation\n",
      "  Loading field 'ID' as type str (imputed)\n",
      "  Loading field 'family' as type str (imputed)\n",
      "  Loading field 'sex' as type str (imputed)\n",
      "  Loading field 'kinship' as type str (imputed)\n",
      "  Loading field 'disease' as type str (imputed)\n",
      "  Loading field 'phenotype' as type str (imputed)\n",
      "  Loading field 'add_pheno' as type str (imputed)\n",
      "  Loading field 'heavy_tics' as type str (imputed)\n",
      "  Loading field 'heavy_tics_familial' as type str (imputed)\n",
      "  Loading field 'GTS_ASD_group' as type str (imputed)\n",
      "  Loading field 'nonCTD' as type str (imputed)\n"
     ]
    }
   ],
   "source": [
    "pheno = hl.import_table(\n",
    "    '/net/pr2/projects/plgrid/plggneuromol/imdik-zekanowski-gts/data/pheno/GTS-coded-corrected-june-2021.csv',\n",
    "    impute = True,\n",
    "    key='ID',\n",
    "    delimiter = ',',\n",
    "    quote =\"\\\"\"\n",
    ")"
   ]
  },
  {
   "cell_type": "code",
   "execution_count": 5,
   "metadata": {},
   "outputs": [],
   "source": [
    "mt = mt.annotate_cols(phenotypes = pheno[mt.s])"
   ]
  },
  {
   "cell_type": "code",
   "execution_count": 6,
   "metadata": {},
   "outputs": [],
   "source": [
    "fams = list(set(mt.phenotypes.family.collect()))"
   ]
  },
  {
   "cell_type": "code",
   "execution_count": 7,
   "metadata": {},
   "outputs": [],
   "source": [
    "fams.sort()"
   ]
  },
  {
   "cell_type": "code",
   "execution_count": 8,
   "metadata": {
    "scrolled": true
   },
   "outputs": [],
   "source": [
    "mts = []\n",
    "for f in fams:\n",
    "    fam = hl.read_matrix_table(\n",
    "        '/net/pr2/projects/plgrid/plggneuromol/imdik-zekanowski-gts/data/joint-gts-only/fam-filtered'+f+'.mt'\n",
    "    )\n",
    "    mts.append(fam)"
   ]
  },
  {
   "cell_type": "code",
   "execution_count": null,
   "metadata": {},
   "outputs": [
    {
     "name": "stderr",
     "output_type": "stream",
     "text": [
      "[Stage 4:===================================>                    (32 + 18) / 50]\r"
     ]
    }
   ],
   "source": [
    "i = 20\n",
    "\n",
    "while len(mts) > 1:\n",
    "    i = i+1\n",
    "    res = mts.pop(0).union_cols(mts.pop(0),\n",
    "                                row_join_type='outer')\n",
    "    res.write('/net/ascratch/people/plggosborcz/temp_'+str(i)+'.mt')\n",
    "    res = hl.read_matrix_table('/net/ascratch/people/plggosborcz/temp_'+str(i)+'.mt') \n",
    "    mts.append(res)"
   ]
  },
  {
   "cell_type": "code",
   "execution_count": null,
   "metadata": {},
   "outputs": [],
   "source": [
    "mt = mts[0]"
   ]
  },
  {
   "cell_type": "code",
   "execution_count": null,
   "metadata": {},
   "outputs": [],
   "source": [
    "mt.write('/net/pr2/projects/plgrid/plggneuromol/imdik-zekanowski-gts/data/joint-gts-only/fams-joined.mt')"
   ]
  },
  {
   "cell_type": "markdown",
   "metadata": {},
   "source": [
    "## 2. Get probs of a cadd > 30 variant occuring in each of the families"
   ]
  },
  {
   "cell_type": "code",
   "execution_count": 3,
   "metadata": {},
   "outputs": [],
   "source": [
    "mt = hl.read_matrix_table('/net/pr2/projects/plgrid/plggneuromol/imdik-zekanowski-gts/data/joint-gts-only/fams-joined.mt')"
   ]
  },
  {
   "cell_type": "code",
   "execution_count": 4,
   "metadata": {
    "tags": []
   },
   "outputs": [
    {
     "data": {
      "text/plain": [
       "(4476239, 124)"
      ]
     },
     "execution_count": 4,
     "metadata": {},
     "output_type": "execute_result"
    }
   ],
   "source": [
    "mt.count()"
   ]
  },
  {
   "cell_type": "code",
   "execution_count": 16,
   "metadata": {
    "tags": []
   },
   "outputs": [
    {
     "name": "stderr",
     "output_type": "stream",
     "text": [
      "[Stage 5:==============================================>          (41 + 9) / 50]\r"
     ]
    }
   ],
   "source": [
    "mafs = mt.aggregate_rows(\n",
    "    hl.agg.filter((mt.cadd.score_phred > 30) & (mt.gnomad_v_3_1.freq.AF[2]<0.01),\n",
    "                  hl.agg.collect(mt.gnomad_v_3_1.freq.AF[2])\n",
    "                 )\n",
    ")"
   ]
  },
  {
   "cell_type": "code",
   "execution_count": 18,
   "metadata": {
    "tags": []
   },
   "outputs": [
    {
     "data": {
      "text/plain": [
       "67"
      ]
     },
     "execution_count": 18,
     "metadata": {},
     "output_type": "execute_result"
    }
   ],
   "source": [
    "len(mafs)"
   ]
  },
  {
   "cell_type": "code",
   "execution_count": null,
   "metadata": {},
   "outputs": [],
   "source": [
    "#calculate probability of any variant with CADD > 30 and MAF < 0.01%. occuring in one family"
   ]
  },
  {
   "cell_type": "code",
   "execution_count": 23,
   "metadata": {
    "tags": []
   },
   "outputs": [
    {
     "data": {
      "text/plain": [
       "0.09318025229243268"
      ]
     },
     "execution_count": 23,
     "metadata": {},
     "output_type": "execute_result"
    }
   ],
   "source": [
    "np.sum(mafs) #but this overcounts joined events we have to deduct at least all the cases when they are present together"
   ]
  },
  {
   "cell_type": "code",
   "execution_count": 42,
   "metadata": {
    "tags": []
   },
   "outputs": [],
   "source": [
    "anti_sum = []\n",
    "\n",
    "for maf in mafs:\n",
    "    anti_sum.append(1-maf)"
   ]
  },
  {
   "cell_type": "code",
   "execution_count": 47,
   "metadata": {
    "tags": []
   },
   "outputs": [
    {
     "data": {
      "text/plain": [
       "0.08916132722517234"
      ]
     },
     "execution_count": 47,
     "metadata": {},
     "output_type": "execute_result"
    }
   ],
   "source": [
    "1 - np.prod(anti_sum)"
   ]
  },
  {
   "cell_type": "code",
   "execution_count": 44,
   "metadata": {
    "tags": []
   },
   "outputs": [],
   "source": [
    "#calculate probablities for all pairs and sum them\n",
    "\n",
    "probs = []\n",
    "\n",
    "for idx, m in enumerate(mafs):\n",
    "\n",
    "    \n",
    "    for i in range(idx+1,len(mafs)): \n",
    "        prob = m*mafs[i]\n",
    "        probs.append(prob)"
   ]
  },
  {
   "cell_type": "code",
   "execution_count": 39,
   "metadata": {
    "tags": []
   },
   "outputs": [
    {
     "data": {
      "text/plain": [
       "0.004132811296717947"
      ]
     },
     "execution_count": 39,
     "metadata": {},
     "output_type": "execute_result"
    }
   ],
   "source": [
    "np.sum(probs)"
   ]
  },
  {
   "cell_type": "code",
   "execution_count": 40,
   "metadata": {
    "tags": []
   },
   "outputs": [
    {
     "data": {
      "text/plain": [
       "0.08904744099571474"
      ]
     },
     "execution_count": 40,
     "metadata": {},
     "output_type": "execute_result"
    }
   ],
   "source": [
    "np.sum(mafs) - np.sum(probs)"
   ]
  },
  {
   "cell_type": "markdown",
   "metadata": {},
   "source": [
    "## 2. Get probs of 1% CADD > 10 variant occuring in each of the families"
   ]
  },
  {
   "cell_type": "code",
   "execution_count": 3,
   "metadata": {},
   "outputs": [],
   "source": [
    "mt = hl.read_matrix_table('/net/pr2/projects/plgrid/plggneuromol/imdik-zekanowski-gts/data/joint-gts-only/fams-joined.mt')"
   ]
  },
  {
   "cell_type": "code",
   "execution_count": 4,
   "metadata": {
    "tags": []
   },
   "outputs": [
    {
     "data": {
      "text/plain": [
       "(4476239, 124)"
      ]
     },
     "execution_count": 4,
     "metadata": {},
     "output_type": "execute_result"
    }
   ],
   "source": [
    "mt.count()"
   ]
  },
  {
   "cell_type": "code",
   "execution_count": 5,
   "metadata": {
    "tags": []
   },
   "outputs": [
    {
     "name": "stderr",
     "output_type": "stream",
     "text": [
      "[Stage 0:====================================================>    (46 + 4) / 50]\r"
     ]
    }
   ],
   "source": [
    "mafs = mt.aggregate_rows(\n",
    "    hl.agg.filter((mt.cadd.score_phred > 10) & (mt.gnomad_v_3_1.freq.AF[2]<0.01),\n",
    "                  hl.agg.collect(mt.gnomad_v_3_1.freq.AF[2])\n",
    "                 )\n",
    ")"
   ]
  },
  {
   "cell_type": "code",
   "execution_count": 6,
   "metadata": {
    "tags": []
   },
   "outputs": [
    {
     "data": {
      "text/plain": [
       "6717"
      ]
     },
     "execution_count": 6,
     "metadata": {},
     "output_type": "execute_result"
    }
   ],
   "source": [
    "len(mafs)"
   ]
  },
  {
   "cell_type": "code",
   "execution_count": 7,
   "metadata": {},
   "outputs": [],
   "source": [
    "#calculate probability of any variant with MAF < 0.01%. occuring in one family"
   ]
  },
  {
   "cell_type": "code",
   "execution_count": 10,
   "metadata": {
    "tags": []
   },
   "outputs": [],
   "source": [
    "anti_sum = []\n",
    "\n",
    "for maf in mafs:\n",
    "    anti_sum.append(1-maf)\n",
    "\n",
    "1 - np.prod(anti_sum)"
   ]
  },
  {
   "cell_type": "markdown",
   "metadata": {},
   "source": [
    "## 3. Get probs of ultrarare, rare and uncommon variants occuring in one person in each of the genes from the list"
   ]
  },
  {
   "cell_type": "code",
   "execution_count": 4,
   "metadata": {
    "tags": []
   },
   "outputs": [],
   "source": [
    "mt = hl.read_matrix_table('/net/pr2/projects/plgrid/plggneuromol/imdik-zekanowski-gts/data/joint-gts-only/fams-joined.mt')"
   ]
  },
  {
   "cell_type": "code",
   "execution_count": 38,
   "metadata": {
    "tags": []
   },
   "outputs": [],
   "source": [
    "df = pd.read_excel('all_genes_dups.xlsx')"
   ]
  },
  {
   "cell_type": "code",
   "execution_count": 43,
   "metadata": {
    "tags": []
   },
   "outputs": [],
   "source": [
    "df = df[['locus', 'alleles', 'within_gene', 'gnomad_v3_nfe_af', 'family_non_ref']]"
   ]
  },
  {
   "cell_type": "code",
   "execution_count": 61,
   "metadata": {
    "collapsed": true,
    "jupyter": {
     "outputs_hidden": true
    },
    "tags": []
   },
   "outputs": [
    {
     "name": "stderr",
     "output_type": "stream",
     "text": [
      "/net/ascratch/people/plggosborcz/slurm_jobdir/1886094/tmp/ipykernel_1303494/4230015912.py:1: FutureWarning: The default value of regex will change from True to False in a future version. In addition, single character regular expressions will *not* be treated as literal strings when regex=True.\n",
      "  df['within_gene'] = df['within_gene'].str.replace('[', '').str.replace(']', '').str.replace(\"\\\"\", \"\")\n",
      "/net/ascratch/people/plggosborcz/slurm_jobdir/1886094/tmp/ipykernel_1303494/4230015912.py:1: SettingWithCopyWarning: \n",
      "A value is trying to be set on a copy of a slice from a DataFrame.\n",
      "Try using .loc[row_indexer,col_indexer] = value instead\n",
      "\n",
      "See the caveats in the documentation: https://pandas.pydata.org/pandas-docs/stable/user_guide/indexing.html#returning-a-view-versus-a-copy\n",
      "  df['within_gene'] = df['within_gene'].str.replace('[', '').str.replace(']', '').str.replace(\"\\\"\", \"\")\n"
     ]
    }
   ],
   "source": [
    "df['within_gene'] = df['within_gene'].str.replace('[', '').str.replace(']', '').str.replace(\"\\\"\", \"\")"
   ]
  },
  {
   "cell_type": "code",
   "execution_count": 62,
   "metadata": {
    "collapsed": true,
    "jupyter": {
     "outputs_hidden": true
    },
    "tags": []
   },
   "outputs": [
    {
     "data": {
      "text/html": [
       "<div>\n",
       "<style scoped>\n",
       "    .dataframe tbody tr th:only-of-type {\n",
       "        vertical-align: middle;\n",
       "    }\n",
       "\n",
       "    .dataframe tbody tr th {\n",
       "        vertical-align: top;\n",
       "    }\n",
       "\n",
       "    .dataframe thead th {\n",
       "        text-align: right;\n",
       "    }\n",
       "</style>\n",
       "<table border=\"1\" class=\"dataframe\">\n",
       "  <thead>\n",
       "    <tr style=\"text-align: right;\">\n",
       "      <th></th>\n",
       "      <th>locus</th>\n",
       "      <th>alleles</th>\n",
       "      <th>within_gene</th>\n",
       "      <th>gnomad_v3_nfe_af</th>\n",
       "      <th>family_non_ref</th>\n",
       "    </tr>\n",
       "  </thead>\n",
       "  <tbody>\n",
       "    <tr>\n",
       "      <th>0</th>\n",
       "      <td>chr12:101319592</td>\n",
       "      <td>[\"G\",\"A\"]</td>\n",
       "      <td>UTP20</td>\n",
       "      <td>0.0</td>\n",
       "      <td>G</td>\n",
       "    </tr>\n",
       "    <tr>\n",
       "      <th>1</th>\n",
       "      <td>chr12:1885984</td>\n",
       "      <td>[\"G\",\"A\"]</td>\n",
       "      <td>CACNA2D4</td>\n",
       "      <td>0.0</td>\n",
       "      <td>H</td>\n",
       "    </tr>\n",
       "    <tr>\n",
       "      <th>2</th>\n",
       "      <td>chr3:9751135</td>\n",
       "      <td>[\"T\",\"C\"]</td>\n",
       "      <td>OGG1</td>\n",
       "      <td>0.0</td>\n",
       "      <td>I</td>\n",
       "    </tr>\n",
       "    <tr>\n",
       "      <th>3</th>\n",
       "      <td>chr10:96370115</td>\n",
       "      <td>[\"C\",\"G\"]</td>\n",
       "      <td>TLL2</td>\n",
       "      <td>0.0</td>\n",
       "      <td>X</td>\n",
       "    </tr>\n",
       "    <tr>\n",
       "      <th>4</th>\n",
       "      <td>chr12:34024062</td>\n",
       "      <td>[\"G\",\"A\"]</td>\n",
       "      <td>AC046130.1,ALG10</td>\n",
       "      <td>0.0</td>\n",
       "      <td>J</td>\n",
       "    </tr>\n",
       "    <tr>\n",
       "      <th>...</th>\n",
       "      <td>...</td>\n",
       "      <td>...</td>\n",
       "      <td>...</td>\n",
       "      <td>...</td>\n",
       "      <td>...</td>\n",
       "    </tr>\n",
       "    <tr>\n",
       "      <th>8277</th>\n",
       "      <td>chr8:9675439</td>\n",
       "      <td>[\"T\",\"C\"]</td>\n",
       "      <td>TNKS</td>\n",
       "      <td>0.0</td>\n",
       "      <td>U</td>\n",
       "    </tr>\n",
       "    <tr>\n",
       "      <th>8278</th>\n",
       "      <td>chr5:38378453</td>\n",
       "      <td>[\"G\",\"C\"]</td>\n",
       "      <td>EGFLAM</td>\n",
       "      <td>0.0</td>\n",
       "      <td>W</td>\n",
       "    </tr>\n",
       "    <tr>\n",
       "      <th>8279</th>\n",
       "      <td>chr4:162057445</td>\n",
       "      <td>[\"A\",\"G\"]</td>\n",
       "      <td>FSTL5</td>\n",
       "      <td>0.0</td>\n",
       "      <td>T</td>\n",
       "    </tr>\n",
       "    <tr>\n",
       "      <th>8280</th>\n",
       "      <td>chr4:88737338</td>\n",
       "      <td>[\"T\",\"C\"]</td>\n",
       "      <td>FAM13A</td>\n",
       "      <td>0.0</td>\n",
       "      <td>T</td>\n",
       "    </tr>\n",
       "    <tr>\n",
       "      <th>8281</th>\n",
       "      <td>chr11:82598378</td>\n",
       "      <td>[\"T\",\"C\"]</td>\n",
       "      <td>MIR4300HG</td>\n",
       "      <td>0.0</td>\n",
       "      <td>X</td>\n",
       "    </tr>\n",
       "  </tbody>\n",
       "</table>\n",
       "<p>8282 rows × 5 columns</p>\n",
       "</div>"
      ],
      "text/plain": [
       "                locus    alleles       within_gene  gnomad_v3_nfe_af  \\\n",
       "0     chr12:101319592  [\"G\",\"A\"]             UTP20               0.0   \n",
       "1       chr12:1885984  [\"G\",\"A\"]          CACNA2D4               0.0   \n",
       "2        chr3:9751135  [\"T\",\"C\"]              OGG1               0.0   \n",
       "3      chr10:96370115  [\"C\",\"G\"]              TLL2               0.0   \n",
       "4      chr12:34024062  [\"G\",\"A\"]  AC046130.1,ALG10               0.0   \n",
       "...               ...        ...               ...               ...   \n",
       "8277     chr8:9675439  [\"T\",\"C\"]              TNKS               0.0   \n",
       "8278    chr5:38378453  [\"G\",\"C\"]            EGFLAM               0.0   \n",
       "8279   chr4:162057445  [\"A\",\"G\"]             FSTL5               0.0   \n",
       "8280    chr4:88737338  [\"T\",\"C\"]            FAM13A               0.0   \n",
       "8281   chr11:82598378  [\"T\",\"C\"]         MIR4300HG               0.0   \n",
       "\n",
       "     family_non_ref  \n",
       "0                 G  \n",
       "1                 H  \n",
       "2                 I  \n",
       "3                 X  \n",
       "4                 J  \n",
       "...             ...  \n",
       "8277              U  \n",
       "8278              W  \n",
       "8279              T  \n",
       "8280              T  \n",
       "8281              X  \n",
       "\n",
       "[8282 rows x 5 columns]"
      ]
     },
     "execution_count": 62,
     "metadata": {},
     "output_type": "execute_result"
    }
   ],
   "source": [
    "df"
   ]
  },
  {
   "cell_type": "code",
   "execution_count": 63,
   "metadata": {
    "tags": []
   },
   "outputs": [],
   "source": [
    "df.to_csv(\"all_genes_dups.csv\", sep = \";\")"
   ]
  },
  {
   "cell_type": "code",
   "execution_count": 64,
   "metadata": {
    "tags": []
   },
   "outputs": [
    {
     "name": "stderr",
     "output_type": "stream",
     "text": [
      "2023-03-01 22:11:53.097 Hail: INFO: Reading table to impute column types\n",
      "2023-03-01 22:11:53.358 Hail: INFO: Finished type imputation\n",
      "  Loading field '' as type int32 (imputed)\n",
      "  Loading field 'locus' as type str (imputed)\n",
      "  Loading field 'alleles' as type str (imputed)\n",
      "  Loading field 'within_gene' as type str (imputed)\n",
      "  Loading field 'gnomad_v3_nfe_af' as type float64 (imputed)\n",
      "  Loading field 'family_non_ref' as type str (imputed)\n"
     ]
    }
   ],
   "source": [
    "genes_found = hl.import_table('all_genes_dups.csv',\n",
    "                              delimiter = ';',\n",
    "                              impute=True)"
   ]
  },
  {
   "cell_type": "code",
   "execution_count": 65,
   "metadata": {
    "tags": []
   },
   "outputs": [
    {
     "data": {
      "text/html": [
       "<table><thead><tr><td style=\"white-space: nowrap; max-width: 500px; overflow: hidden; text-overflow: ellipsis; \" colspan=\"1\"><div style=\"text-align: left;\"></div></td><td style=\"white-space: nowrap; max-width: 500px; overflow: hidden; text-overflow: ellipsis; \" colspan=\"1\"><div style=\"text-align: left;\"></div></td><td style=\"white-space: nowrap; max-width: 500px; overflow: hidden; text-overflow: ellipsis; \" colspan=\"1\"><div style=\"text-align: left;\"></div></td><td style=\"white-space: nowrap; max-width: 500px; overflow: hidden; text-overflow: ellipsis; \" colspan=\"1\"><div style=\"text-align: left;\"></div></td><td style=\"white-space: nowrap; max-width: 500px; overflow: hidden; text-overflow: ellipsis; \" colspan=\"1\"><div style=\"text-align: left;\"></div></td><td style=\"white-space: nowrap; max-width: 500px; overflow: hidden; text-overflow: ellipsis; \" colspan=\"1\"><div style=\"text-align: left;\"></div></td></tr><tr><td style=\"white-space: nowrap; max-width: 500px; overflow: hidden; text-overflow: ellipsis; \" colspan=\"1\"><div style=\"text-align: left;border-bottom: solid 2px #000; padding-bottom: 5px\"></div></td><td style=\"white-space: nowrap; max-width: 500px; overflow: hidden; text-overflow: ellipsis; \" colspan=\"1\"><div style=\"text-align: left;border-bottom: solid 2px #000; padding-bottom: 5px\">locus</div></td><td style=\"white-space: nowrap; max-width: 500px; overflow: hidden; text-overflow: ellipsis; \" colspan=\"1\"><div style=\"text-align: left;border-bottom: solid 2px #000; padding-bottom: 5px\">alleles</div></td><td style=\"white-space: nowrap; max-width: 500px; overflow: hidden; text-overflow: ellipsis; \" colspan=\"1\"><div style=\"text-align: left;border-bottom: solid 2px #000; padding-bottom: 5px\">within_gene</div></td><td style=\"white-space: nowrap; max-width: 500px; overflow: hidden; text-overflow: ellipsis; \" colspan=\"1\"><div style=\"text-align: left;border-bottom: solid 2px #000; padding-bottom: 5px\">gnomad_v3_nfe_af</div></td><td style=\"white-space: nowrap; max-width: 500px; overflow: hidden; text-overflow: ellipsis; \" colspan=\"1\"><div style=\"text-align: left;border-bottom: solid 2px #000; padding-bottom: 5px\">family_non_ref</div></td></tr><tr><td style=\"white-space: nowrap; max-width: 500px; overflow: hidden; text-overflow: ellipsis; text-align: left;\">int32</td><td style=\"white-space: nowrap; max-width: 500px; overflow: hidden; text-overflow: ellipsis; text-align: left;\">str</td><td style=\"white-space: nowrap; max-width: 500px; overflow: hidden; text-overflow: ellipsis; text-align: left;\">str</td><td style=\"white-space: nowrap; max-width: 500px; overflow: hidden; text-overflow: ellipsis; text-align: left;\">str</td><td style=\"white-space: nowrap; max-width: 500px; overflow: hidden; text-overflow: ellipsis; text-align: left;\">float64</td><td style=\"white-space: nowrap; max-width: 500px; overflow: hidden; text-overflow: ellipsis; text-align: left;\">str</td></tr>\n",
       "</thead><tbody><tr><td style=\"white-space: nowrap; max-width: 500px; overflow: hidden; text-overflow: ellipsis; \">0</td><td style=\"white-space: nowrap; max-width: 500px; overflow: hidden; text-overflow: ellipsis; \">&quot;chr12:101319592&quot;</td><td style=\"white-space: nowrap; max-width: 500px; overflow: hidden; text-overflow: ellipsis; \">&quot;&quot;[&quot;&quot;G&quot;&quot;,&quot;&quot;A&quot;&quot;]&quot;&quot;</td><td style=\"white-space: nowrap; max-width: 500px; overflow: hidden; text-overflow: ellipsis; \">&quot;UTP20&quot;</td><td style=\"white-space: nowrap; max-width: 500px; overflow: hidden; text-overflow: ellipsis; \">0.00e+00</td><td style=\"white-space: nowrap; max-width: 500px; overflow: hidden; text-overflow: ellipsis; \">&quot;G&quot;</td></tr>\n",
       "<tr><td style=\"white-space: nowrap; max-width: 500px; overflow: hidden; text-overflow: ellipsis; \">1</td><td style=\"white-space: nowrap; max-width: 500px; overflow: hidden; text-overflow: ellipsis; \">&quot;chr12:1885984&quot;</td><td style=\"white-space: nowrap; max-width: 500px; overflow: hidden; text-overflow: ellipsis; \">&quot;&quot;[&quot;&quot;G&quot;&quot;,&quot;&quot;A&quot;&quot;]&quot;&quot;</td><td style=\"white-space: nowrap; max-width: 500px; overflow: hidden; text-overflow: ellipsis; \">&quot;CACNA2D4&quot;</td><td style=\"white-space: nowrap; max-width: 500px; overflow: hidden; text-overflow: ellipsis; \">0.00e+00</td><td style=\"white-space: nowrap; max-width: 500px; overflow: hidden; text-overflow: ellipsis; \">&quot;H&quot;</td></tr>\n",
       "<tr><td style=\"white-space: nowrap; max-width: 500px; overflow: hidden; text-overflow: ellipsis; \">2</td><td style=\"white-space: nowrap; max-width: 500px; overflow: hidden; text-overflow: ellipsis; \">&quot;chr3:9751135&quot;</td><td style=\"white-space: nowrap; max-width: 500px; overflow: hidden; text-overflow: ellipsis; \">&quot;&quot;[&quot;&quot;T&quot;&quot;,&quot;&quot;C&quot;&quot;]&quot;&quot;</td><td style=\"white-space: nowrap; max-width: 500px; overflow: hidden; text-overflow: ellipsis; \">&quot;OGG1&quot;</td><td style=\"white-space: nowrap; max-width: 500px; overflow: hidden; text-overflow: ellipsis; \">0.00e+00</td><td style=\"white-space: nowrap; max-width: 500px; overflow: hidden; text-overflow: ellipsis; \">&quot;I&quot;</td></tr>\n",
       "<tr><td style=\"white-space: nowrap; max-width: 500px; overflow: hidden; text-overflow: ellipsis; \">3</td><td style=\"white-space: nowrap; max-width: 500px; overflow: hidden; text-overflow: ellipsis; \">&quot;chr10:96370115&quot;</td><td style=\"white-space: nowrap; max-width: 500px; overflow: hidden; text-overflow: ellipsis; \">&quot;&quot;[&quot;&quot;C&quot;&quot;,&quot;&quot;G&quot;&quot;]&quot;&quot;</td><td style=\"white-space: nowrap; max-width: 500px; overflow: hidden; text-overflow: ellipsis; \">&quot;TLL2&quot;</td><td style=\"white-space: nowrap; max-width: 500px; overflow: hidden; text-overflow: ellipsis; \">0.00e+00</td><td style=\"white-space: nowrap; max-width: 500px; overflow: hidden; text-overflow: ellipsis; \">&quot;X&quot;</td></tr>\n",
       "<tr><td style=\"white-space: nowrap; max-width: 500px; overflow: hidden; text-overflow: ellipsis; \">4</td><td style=\"white-space: nowrap; max-width: 500px; overflow: hidden; text-overflow: ellipsis; \">&quot;chr12:34024062&quot;</td><td style=\"white-space: nowrap; max-width: 500px; overflow: hidden; text-overflow: ellipsis; \">&quot;&quot;[&quot;&quot;G&quot;&quot;,&quot;&quot;A&quot;&quot;]&quot;&quot;</td><td style=\"white-space: nowrap; max-width: 500px; overflow: hidden; text-overflow: ellipsis; \">&quot;AC046130.1,ALG10&quot;</td><td style=\"white-space: nowrap; max-width: 500px; overflow: hidden; text-overflow: ellipsis; \">0.00e+00</td><td style=\"white-space: nowrap; max-width: 500px; overflow: hidden; text-overflow: ellipsis; \">&quot;J&quot;</td></tr>\n",
       "<tr><td style=\"white-space: nowrap; max-width: 500px; overflow: hidden; text-overflow: ellipsis; \">5</td><td style=\"white-space: nowrap; max-width: 500px; overflow: hidden; text-overflow: ellipsis; \">&quot;chr11:66592559&quot;</td><td style=\"white-space: nowrap; max-width: 500px; overflow: hidden; text-overflow: ellipsis; \">&quot;&quot;[&quot;&quot;G&quot;&quot;,&quot;&quot;A&quot;&quot;]&quot;&quot;</td><td style=\"white-space: nowrap; max-width: 500px; overflow: hidden; text-overflow: ellipsis; \">&quot;CCDC87&quot;</td><td style=\"white-space: nowrap; max-width: 500px; overflow: hidden; text-overflow: ellipsis; \">0.00e+00</td><td style=\"white-space: nowrap; max-width: 500px; overflow: hidden; text-overflow: ellipsis; \">&quot;A&quot;</td></tr>\n",
       "<tr><td style=\"white-space: nowrap; max-width: 500px; overflow: hidden; text-overflow: ellipsis; \">6</td><td style=\"white-space: nowrap; max-width: 500px; overflow: hidden; text-overflow: ellipsis; \">&quot;chr1:116608098&quot;</td><td style=\"white-space: nowrap; max-width: 500px; overflow: hidden; text-overflow: ellipsis; \">&quot;&quot;[&quot;&quot;C&quot;&quot;,&quot;&quot;G&quot;&quot;]&quot;&quot;</td><td style=\"white-space: nowrap; max-width: 500px; overflow: hidden; text-overflow: ellipsis; \">&quot;IGSF3&quot;</td><td style=\"white-space: nowrap; max-width: 500px; overflow: hidden; text-overflow: ellipsis; \">0.00e+00</td><td style=\"white-space: nowrap; max-width: 500px; overflow: hidden; text-overflow: ellipsis; \">&quot;T&quot;</td></tr>\n",
       "<tr><td style=\"white-space: nowrap; max-width: 500px; overflow: hidden; text-overflow: ellipsis; \">7</td><td style=\"white-space: nowrap; max-width: 500px; overflow: hidden; text-overflow: ellipsis; \">&quot;chr5:1238025&quot;</td><td style=\"white-space: nowrap; max-width: 500px; overflow: hidden; text-overflow: ellipsis; \">&quot;&quot;[&quot;&quot;G&quot;&quot;,&quot;&quot;A&quot;&quot;]&quot;&quot;</td><td style=\"white-space: nowrap; max-width: 500px; overflow: hidden; text-overflow: ellipsis; \">&quot;SLC6A18&quot;</td><td style=\"white-space: nowrap; max-width: 500px; overflow: hidden; text-overflow: ellipsis; \">0.00e+00</td><td style=\"white-space: nowrap; max-width: 500px; overflow: hidden; text-overflow: ellipsis; \">&quot;G&quot;</td></tr>\n",
       "<tr><td style=\"white-space: nowrap; max-width: 500px; overflow: hidden; text-overflow: ellipsis; \">8</td><td style=\"white-space: nowrap; max-width: 500px; overflow: hidden; text-overflow: ellipsis; \">&quot;chr10:70752197&quot;</td><td style=\"white-space: nowrap; max-width: 500px; overflow: hidden; text-overflow: ellipsis; \">&quot;&quot;[&quot;&quot;G&quot;&quot;,&quot;&quot;A&quot;&quot;]&quot;&quot;</td><td style=\"white-space: nowrap; max-width: 500px; overflow: hidden; text-overflow: ellipsis; \">&quot;ADAMTS14&quot;</td><td style=\"white-space: nowrap; max-width: 500px; overflow: hidden; text-overflow: ellipsis; \">0.00e+00</td><td style=\"white-space: nowrap; max-width: 500px; overflow: hidden; text-overflow: ellipsis; \">&quot;E&quot;</td></tr>\n",
       "<tr><td style=\"white-space: nowrap; max-width: 500px; overflow: hidden; text-overflow: ellipsis; \">9</td><td style=\"white-space: nowrap; max-width: 500px; overflow: hidden; text-overflow: ellipsis; \">&quot;chr1:227747768&quot;</td><td style=\"white-space: nowrap; max-width: 500px; overflow: hidden; text-overflow: ellipsis; \">&quot;&quot;[&quot;&quot;C&quot;&quot;,&quot;&quot;T&quot;&quot;]&quot;&quot;</td><td style=\"white-space: nowrap; max-width: 500px; overflow: hidden; text-overflow: ellipsis; \">&quot;SNAP47&quot;</td><td style=\"white-space: nowrap; max-width: 500px; overflow: hidden; text-overflow: ellipsis; \">0.00e+00</td><td style=\"white-space: nowrap; max-width: 500px; overflow: hidden; text-overflow: ellipsis; \">&quot;T&quot;</td></tr>\n",
       "</tbody></table><p style=\"background: #fdd; padding: 0.4em;\">showing top 10 rows</p>\n"
      ],
      "text/plain": [
       "+-------+-------------------+-------------------+--------------------+\n",
       "|       | locus             | alleles           | within_gene        |\n",
       "+-------+-------------------+-------------------+--------------------+\n",
       "| int32 | str               | str               | str                |\n",
       "+-------+-------------------+-------------------+--------------------+\n",
       "|     0 | \"chr12:101319592\" | \"\"[\"\"G\"\",\"\"A\"\"]\"\" | \"UTP20\"            |\n",
       "|     1 | \"chr12:1885984\"   | \"\"[\"\"G\"\",\"\"A\"\"]\"\" | \"CACNA2D4\"         |\n",
       "|     2 | \"chr3:9751135\"    | \"\"[\"\"T\"\",\"\"C\"\"]\"\" | \"OGG1\"             |\n",
       "|     3 | \"chr10:96370115\"  | \"\"[\"\"C\"\",\"\"G\"\"]\"\" | \"TLL2\"             |\n",
       "|     4 | \"chr12:34024062\"  | \"\"[\"\"G\"\",\"\"A\"\"]\"\" | \"AC046130.1,ALG10\" |\n",
       "|     5 | \"chr11:66592559\"  | \"\"[\"\"G\"\",\"\"A\"\"]\"\" | \"CCDC87\"           |\n",
       "|     6 | \"chr1:116608098\"  | \"\"[\"\"C\"\",\"\"G\"\"]\"\" | \"IGSF3\"            |\n",
       "|     7 | \"chr5:1238025\"    | \"\"[\"\"G\"\",\"\"A\"\"]\"\" | \"SLC6A18\"          |\n",
       "|     8 | \"chr10:70752197\"  | \"\"[\"\"G\"\",\"\"A\"\"]\"\" | \"ADAMTS14\"         |\n",
       "|     9 | \"chr1:227747768\"  | \"\"[\"\"C\"\",\"\"T\"\"]\"\" | \"SNAP47\"           |\n",
       "+-------+-------------------+-------------------+--------------------+\n",
       "\n",
       "+------------------+----------------+\n",
       "| gnomad_v3_nfe_af | family_non_ref |\n",
       "+------------------+----------------+\n",
       "|          float64 | str            |\n",
       "+------------------+----------------+\n",
       "|         0.00e+00 | \"G\"            |\n",
       "|         0.00e+00 | \"H\"            |\n",
       "|         0.00e+00 | \"I\"            |\n",
       "|         0.00e+00 | \"X\"            |\n",
       "|         0.00e+00 | \"J\"            |\n",
       "|         0.00e+00 | \"A\"            |\n",
       "|         0.00e+00 | \"T\"            |\n",
       "|         0.00e+00 | \"G\"            |\n",
       "|         0.00e+00 | \"E\"            |\n",
       "|         0.00e+00 | \"T\"            |\n",
       "+------------------+----------------+\n",
       "showing top 10 rows"
      ]
     },
     "metadata": {},
     "output_type": "display_data"
    }
   ],
   "source": [
    "genes_found.show()"
   ]
  },
  {
   "cell_type": "code",
   "execution_count": 57,
   "metadata": {
    "tags": []
   },
   "outputs": [
    {
     "data": {
      "text/plain": [
       "'\"\"[\"\"UTP20\"\"]\"\"'"
      ]
     },
     "execution_count": 57,
     "metadata": {},
     "output_type": "execute_result"
    }
   ],
   "source": [
    "hl.eval(hl.str(\"\\\"\\\"[\\\"\\\"UTP20\\\"\\\"]\\\"\\\"\").strip())"
   ]
  },
  {
   "cell_type": "code",
   "execution_count": 18,
   "metadata": {},
   "outputs": [
    {
     "name": "stderr",
     "output_type": "stream",
     "text": [
      "2023-03-01 21:50:49.071 Hail: INFO: Reading table to impute column types\n",
      "2023-03-01 21:50:49.316 Hail: INFO: Finished type imputation\n",
      "  Loading field 'UR_2' as type str (imputed)\n",
      "  Loading field 'UR_3' as type str (imputed)\n",
      "  Loading field 'UR_4' as type str (imputed)\n",
      "  Loading field 'R_3' as type str (imputed)\n",
      "  Loading field 'R_4' as type str (imputed)\n",
      "  Loading field 'U_4' as type str (imputed)\n",
      "  Loading field 'U_5' as type str (imputed)\n",
      "  Loading field 'U_6' as type str (imputed)\n",
      "  Loading field 'U_7' as type str (imputed)\n"
     ]
    }
   ],
   "source": [
    "genes_lists = hl.import_table('gts_gene_results.csv', \n",
    "                       delimiter=',',\n",
    "                       impute=True)"
   ]
  },
  {
   "cell_type": "code",
   "execution_count": 19,
   "metadata": {
    "tags": []
   },
   "outputs": [
    {
     "name": "stdout",
     "output_type": "stream",
     "text": [
      "UR_2\n",
      "UR_3\n",
      "UR_4\n",
      "R_3\n",
      "R_4\n",
      "U_4\n",
      "U_5\n",
      "U_6\n",
      "U_7\n"
     ]
    }
   ],
   "source": [
    "for_calcs = []\n",
    "\n",
    "for n in range(2,5):\n",
    "    print(\"UR_\"+str(n))\n",
    "    for_calcs.append(\n",
    "    genes_lists[\"UR_\"+str(n)].collect()\n",
    "    )\n",
    "\n",
    "for n in range(3,5):\n",
    "    print(\"R_\"+str(n))\n",
    "    for_calcs.append(\n",
    "    genes_lists[\"R_\"+str(n)].collect()\n",
    "    )\n",
    "\n",
    "for n in range(4,8):\n",
    "    print(\"U_\"+str(n))\n",
    "    for_calcs.append(\n",
    "    genes_lists[\"U_\"+str(n)].collect()\n",
    "    )"
   ]
  },
  {
   "cell_type": "code",
   "execution_count": 20,
   "metadata": {
    "tags": []
   },
   "outputs": [],
   "source": [
    "for_calcs = hl.flatten(hl.literal(for_calcs))"
   ]
  },
  {
   "cell_type": "code",
   "execution_count": 21,
   "metadata": {
    "tags": []
   },
   "outputs": [],
   "source": [
    "mt = mt.explode_rows(mt.within_gene)"
   ]
  },
  {
   "cell_type": "code",
   "execution_count": 22,
   "metadata": {
    "tags": []
   },
   "outputs": [],
   "source": [
    "mt = mt.filter_rows(\n",
    "    hl.any(\n",
    "        hl.literal(for_calcs).contains(mt.within_gene)\n",
    "    )\n",
    ")"
   ]
  },
  {
   "cell_type": "code",
   "execution_count": 35,
   "metadata": {
    "tags": []
   },
   "outputs": [
    {
     "name": "stderr",
     "output_type": "stream",
     "text": [
      "2023-02-27 11:49:09.565 Hail: INFO: wrote matrix table with 30357 rows and 124 columns in 50 partitions to /net/ascratch/people/plggosborcz/gosborcz-hail/exploted-genes.mt\n"
     ]
    }
   ],
   "source": [
    "mt.write('/net/ascratch/people/plggosborcz/gosborcz-hail/exploted-genes.mt', overwrite = True)"
   ]
  },
  {
   "cell_type": "code",
   "execution_count": 23,
   "metadata": {
    "tags": []
   },
   "outputs": [],
   "source": [
    "mt = hl.read_matrix_table('/net/ascratch/people/plggosborcz/gosborcz-hail/exploted-genes.mt')"
   ]
  },
  {
   "cell_type": "code",
   "execution_count": 24,
   "metadata": {
    "tags": []
   },
   "outputs": [
    {
     "name": "stderr",
     "output_type": "stream",
     "text": [
      "[Stage 35:===================================================>    (46 + 4) / 50]\r"
     ]
    }
   ],
   "source": [
    "mafs = mt.aggregate_rows(\n",
    "    hl.agg.group_by(\n",
    "        mt.within_gene,\n",
    "        hl.agg.filter(\n",
    "            (mt.cadd.score_phred > 10) & (mt.gnomad_v_3_1.freq.AF[2]<0.05),\n",
    "            hl.agg.collect(mt.gnomad_v_3_1.freq.AF[2])\n",
    "        )\n",
    "    )\n",
    ")"
   ]
  },
  {
   "cell_type": "code",
   "execution_count": 25,
   "metadata": {
    "tags": []
   },
   "outputs": [],
   "source": [
    "final_mafs = {gene:\n",
    "      mafs.get(gene)\n",
    "      for gene in hl.eval(for_calcs)\n",
    "      }"
   ]
  },
  {
   "cell_type": "code",
   "execution_count": 26,
   "metadata": {
    "tags": []
   },
   "outputs": [],
   "source": [
    "for key in final_mafs.keys():\n",
    "    if final_mafs[key] == None:\n",
    "        final_mafs[key] = [0.00001]   \n",
    "    elif len(final_mafs[key]) == 0:\n",
    "        final_mafs[key] = [0.00001]    "
   ]
  },
  {
   "cell_type": "code",
   "execution_count": 12,
   "metadata": {
    "collapsed": true,
    "jupyter": {
     "outputs_hidden": true
    },
    "tags": []
   },
   "outputs": [
    {
     "name": "stdout",
     "output_type": "stream",
     "text": [
      "0.0\n",
      "0.001014268768879334\n",
      "0.0\n",
      "9.99999999995449e-06\n",
      "9.99999999995449e-06\n",
      "9.99999999995449e-06\n",
      "9.99999999995449e-06\n",
      "0.0\n",
      "0.0006467527603951639\n",
      "0.0008826385006913684\n",
      "0.00016212070755883268\n",
      "8.823010411151966e-05\n",
      "0.0005293027906019265\n",
      "0.00030875654165907207\n",
      "4.409819197415121e-05\n",
      "0.0\n",
      "1.470199064956823e-05\n",
      "0.0\n",
      "9.99999999995449e-06\n",
      "0.0006466516376404385\n",
      "0.0\n",
      "0.0\n",
      "0.00030901191849497245\n",
      "0.0008672009438861483\n",
      "0.0\n",
      "0.0\n",
      "0.0\n",
      "0.0\n",
      "7.351860020587964e-05\n",
      "0.0\n",
      "0.00017638758231419693\n",
      "0.0\n",
      "0.000984888575292553\n",
      "0.0\n",
      "9.99999999995449e-06\n",
      "0.0\n",
      "0.0\n",
      "1.4699829481990001e-05\n",
      "0.0\n",
      "0.0012797634819851078\n",
      "4.413215320686614e-05\n",
      "0.0004263326570815851\n",
      "0.0008529219381191444\n",
      "0.0\n",
      "0.0\n",
      "0.0003675783146221967\n",
      "0.0\n",
      "9.99999999995449e-06\n",
      "0.0009413702821169379\n",
      "0.0\n",
      "9.99999999995449e-06\n",
      "0.00011796974076150324\n",
      "0.00042637026581981985\n",
      "0.0001323023549819613\n",
      "0.0\n",
      "0.0003233487168935456\n",
      "0.0\n",
      "0.0\n",
      "0.0\n",
      "0.0\n",
      "0.0\n",
      "0.0\n",
      "0.0007642338555597927\n",
      "0.0\n",
      "0.0001911064270210261\n",
      "0.0\n",
      "0.0002794364208607014\n",
      "9.99999999995449e-06\n",
      "0.0\n",
      "9.99999999995449e-06\n",
      "0.000502774886488977\n",
      "0.0013517971373567805\n",
      "0.0\n",
      "0.0005440747752029074\n",
      "0.0003086545061171675\n",
      "9.99999999995449e-06\n",
      "0.00042624147004233226\n",
      "0.0\n",
      "0.0\n",
      "0.0\n",
      "0.0\n",
      "0.00013236851394282656\n",
      "2.9403116730386536e-05\n",
      "0.00022047324382357125\n",
      "9.99999999995449e-06\n",
      "9.99999999995449e-06\n",
      "0.0008973755443097975\n",
      "0.0\n",
      "0.0\n",
      "0.0\n",
      "0.0\n",
      "0.00022048447789280168\n",
      "0.0001322822619459485\n",
      "0.0\n",
      "0.00010330273604675089\n",
      "0.0005733041639024439\n",
      "0.0004117525955118495\n",
      "0.0013078345597897778\n",
      "0.0\n",
      "0.0\n",
      "9.99999999995449e-06\n",
      "0.0008822491471591754\n",
      "0.0008822491471591754\n",
      "9.99999999995449e-06\n",
      "0.0\n",
      "0.0002351696160856065\n",
      "0.0008085705835646495\n"
     ]
    }
   ],
   "source": [
    "for gene in genes_lists['UR_2'].collect():\n",
    "    anti_sum = []\n",
    "    \n",
    "    for maf in final_mafs[gene]:\n",
    "        if maf < 0.001:\n",
    "            anti_sum.append(1-maf)\n",
    "\n",
    "    print(1 - np.prod(anti_sum))"
   ]
  },
  {
   "cell_type": "code",
   "execution_count": 13,
   "metadata": {
    "collapsed": true,
    "jupyter": {
     "outputs_hidden": true
    },
    "tags": []
   },
   "outputs": [
    {
     "name": "stdout",
     "output_type": "stream",
     "text": [
      "0.0\n",
      "5.878549174065384e-05\n",
      "0.0002942214899376294\n",
      "2.939598760220985e-05\n",
      "0.0\n",
      "0.0008525970199977362\n",
      "0.0022046073416095435\n",
      "9.99999999995449e-06\n",
      "0.0\n",
      "0.0016015357996583823\n",
      "0.0025419135881612487\n",
      "9.99999999995449e-06\n",
      "9.99999999995449e-06\n",
      "9.99999999995449e-06\n",
      "9.99999999995449e-06\n",
      "9.99999999995449e-06\n",
      "9.99999999995449e-06\n",
      "9.99999999995449e-06\n",
      "9.99999999995449e-06\n",
      "9.99999999995449e-06\n",
      "9.99999999995449e-06\n",
      "9.99999999995449e-06\n",
      "9.99999999995449e-06\n",
      "9.99999999995449e-06\n",
      "9.99999999995449e-06\n",
      "9.99999999995449e-06\n",
      "9.99999999995449e-06\n",
      "9.99999999995449e-06\n",
      "9.99999999995449e-06\n",
      "9.99999999995449e-06\n",
      "9.99999999995449e-06\n",
      "9.99999999995449e-06\n",
      "9.99999999995449e-06\n",
      "9.99999999995449e-06\n",
      "9.99999999995449e-06\n",
      "9.99999999995449e-06\n",
      "9.99999999995449e-06\n",
      "9.99999999995449e-06\n",
      "9.99999999995449e-06\n",
      "9.99999999995449e-06\n",
      "9.99999999995449e-06\n",
      "9.99999999995449e-06\n",
      "9.99999999995449e-06\n",
      "9.99999999995449e-06\n",
      "9.99999999995449e-06\n",
      "9.99999999995449e-06\n",
      "9.99999999995449e-06\n",
      "9.99999999995449e-06\n",
      "9.99999999995449e-06\n",
      "9.99999999995449e-06\n",
      "9.99999999995449e-06\n",
      "9.99999999995449e-06\n",
      "9.99999999995449e-06\n",
      "9.99999999995449e-06\n",
      "9.99999999995449e-06\n",
      "9.99999999995449e-06\n",
      "9.99999999995449e-06\n",
      "9.99999999995449e-06\n",
      "9.99999999995449e-06\n",
      "9.99999999995449e-06\n",
      "9.99999999995449e-06\n",
      "9.99999999995449e-06\n",
      "9.99999999995449e-06\n",
      "9.99999999995449e-06\n",
      "9.99999999995449e-06\n",
      "9.99999999995449e-06\n",
      "9.99999999995449e-06\n",
      "9.99999999995449e-06\n",
      "9.99999999995449e-06\n",
      "9.99999999995449e-06\n",
      "9.99999999995449e-06\n",
      "9.99999999995449e-06\n",
      "9.99999999995449e-06\n",
      "9.99999999995449e-06\n",
      "9.99999999995449e-06\n",
      "9.99999999995449e-06\n",
      "9.99999999995449e-06\n",
      "9.99999999995449e-06\n",
      "9.99999999995449e-06\n",
      "9.99999999995449e-06\n",
      "9.99999999995449e-06\n",
      "9.99999999995449e-06\n",
      "9.99999999995449e-06\n",
      "9.99999999995449e-06\n",
      "9.99999999995449e-06\n",
      "9.99999999995449e-06\n",
      "9.99999999995449e-06\n",
      "9.99999999995449e-06\n",
      "9.99999999995449e-06\n",
      "9.99999999995449e-06\n",
      "9.99999999995449e-06\n",
      "9.99999999995449e-06\n",
      "9.99999999995449e-06\n",
      "9.99999999995449e-06\n",
      "9.99999999995449e-06\n",
      "9.99999999995449e-06\n",
      "9.99999999995449e-06\n",
      "9.99999999995449e-06\n",
      "9.99999999995449e-06\n",
      "9.99999999995449e-06\n",
      "9.99999999995449e-06\n",
      "9.99999999995449e-06\n",
      "9.99999999995449e-06\n",
      "9.99999999995449e-06\n",
      "9.99999999995449e-06\n",
      "9.99999999995449e-06\n",
      "9.99999999995449e-06\n"
     ]
    }
   ],
   "source": [
    "for gene in genes_lists['UR_3'].collect():\n",
    "    anti_sum = []\n",
    "    for maf in final_mafs[gene]:\n",
    "        if maf < 0.001:\n",
    "            anti_sum.append(1-maf)\n",
    "    print(1 - np.prod(anti_sum))"
   ]
  },
  {
   "cell_type": "code",
   "execution_count": 14,
   "metadata": {
    "collapsed": true,
    "jupyter": {
     "outputs_hidden": true
    },
    "tags": []
   },
   "outputs": [
    {
     "name": "stdout",
     "output_type": "stream",
     "text": [
      "0.00010292391333066586\n",
      "0.0016015025561502139\n",
      "9.99999999995449e-06\n",
      "9.99999999995449e-06\n",
      "9.99999999995449e-06\n",
      "9.99999999995449e-06\n",
      "9.99999999995449e-06\n",
      "9.99999999995449e-06\n",
      "9.99999999995449e-06\n",
      "9.99999999995449e-06\n",
      "9.99999999995449e-06\n",
      "9.99999999995449e-06\n",
      "9.99999999995449e-06\n",
      "9.99999999995449e-06\n",
      "9.99999999995449e-06\n",
      "9.99999999995449e-06\n",
      "9.99999999995449e-06\n",
      "9.99999999995449e-06\n",
      "9.99999999995449e-06\n",
      "9.99999999995449e-06\n",
      "9.99999999995449e-06\n",
      "9.99999999995449e-06\n",
      "9.99999999995449e-06\n",
      "9.99999999995449e-06\n",
      "9.99999999995449e-06\n",
      "9.99999999995449e-06\n",
      "9.99999999995449e-06\n",
      "9.99999999995449e-06\n",
      "9.99999999995449e-06\n",
      "9.99999999995449e-06\n",
      "9.99999999995449e-06\n",
      "9.99999999995449e-06\n",
      "9.99999999995449e-06\n",
      "9.99999999995449e-06\n",
      "9.99999999995449e-06\n",
      "9.99999999995449e-06\n",
      "9.99999999995449e-06\n",
      "9.99999999995449e-06\n",
      "9.99999999995449e-06\n",
      "9.99999999995449e-06\n",
      "9.99999999995449e-06\n",
      "9.99999999995449e-06\n",
      "9.99999999995449e-06\n",
      "9.99999999995449e-06\n",
      "9.99999999995449e-06\n",
      "9.99999999995449e-06\n",
      "9.99999999995449e-06\n",
      "9.99999999995449e-06\n",
      "9.99999999995449e-06\n",
      "9.99999999995449e-06\n",
      "9.99999999995449e-06\n",
      "9.99999999995449e-06\n",
      "9.99999999995449e-06\n",
      "9.99999999995449e-06\n",
      "9.99999999995449e-06\n",
      "9.99999999995449e-06\n",
      "9.99999999995449e-06\n",
      "9.99999999995449e-06\n",
      "9.99999999995449e-06\n",
      "9.99999999995449e-06\n",
      "9.99999999995449e-06\n",
      "9.99999999995449e-06\n",
      "9.99999999995449e-06\n",
      "9.99999999995449e-06\n",
      "9.99999999995449e-06\n",
      "9.99999999995449e-06\n",
      "9.99999999995449e-06\n",
      "9.99999999995449e-06\n",
      "9.99999999995449e-06\n",
      "9.99999999995449e-06\n",
      "9.99999999995449e-06\n",
      "9.99999999995449e-06\n",
      "9.99999999995449e-06\n",
      "9.99999999995449e-06\n",
      "9.99999999995449e-06\n",
      "9.99999999995449e-06\n",
      "9.99999999995449e-06\n",
      "9.99999999995449e-06\n",
      "9.99999999995449e-06\n",
      "9.99999999995449e-06\n",
      "9.99999999995449e-06\n",
      "9.99999999995449e-06\n",
      "9.99999999995449e-06\n",
      "9.99999999995449e-06\n",
      "9.99999999995449e-06\n",
      "9.99999999995449e-06\n",
      "9.99999999995449e-06\n",
      "9.99999999995449e-06\n",
      "9.99999999995449e-06\n",
      "9.99999999995449e-06\n",
      "9.99999999995449e-06\n",
      "9.99999999995449e-06\n",
      "9.99999999995449e-06\n",
      "9.99999999995449e-06\n",
      "9.99999999995449e-06\n",
      "9.99999999995449e-06\n",
      "9.99999999995449e-06\n",
      "9.99999999995449e-06\n",
      "9.99999999995449e-06\n",
      "9.99999999995449e-06\n",
      "9.99999999995449e-06\n",
      "9.99999999995449e-06\n",
      "9.99999999995449e-06\n",
      "9.99999999995449e-06\n",
      "9.99999999995449e-06\n",
      "9.99999999995449e-06\n",
      "9.99999999995449e-06\n"
     ]
    }
   ],
   "source": [
    "for gene in genes_lists['UR_4'].collect():\n",
    "    anti_sum = []\n",
    "    for maf in final_mafs[gene]:\n",
    "        if maf < 0.001:\n",
    "            anti_sum.append(1-maf)\n",
    "\n",
    "    print(1 - np.prod(anti_sum))"
   ]
  },
  {
   "cell_type": "code",
   "execution_count": 15,
   "metadata": {
    "collapsed": true,
    "jupyter": {
     "outputs_hidden": true
    },
    "tags": []
   },
   "outputs": [
    {
     "name": "stdout",
     "output_type": "stream",
     "text": [
      "0.006169585042434256\n",
      "0.018828524660445267\n",
      "0.015830892727067947\n",
      "9.99999999995449e-06\n",
      "0.010481877159442599\n",
      "0.030635519983802317\n",
      "1.4701126106242413e-05\n",
      "0.012749870785920492\n",
      "0.011898497529950869\n",
      "0.02081838452393736\n",
      "0.04263108874264021\n",
      "0.02019282576295134\n",
      "0.010127873253263031\n",
      "0.05974573218449597\n",
      "0.0\n",
      "0.015647672862870277\n",
      "0.009884969550763456\n",
      "0.018731555497794594\n",
      "0.0024695555039576655\n",
      "0.026874292543033418\n",
      "0.007883686002235546\n",
      "0.0\n",
      "0.031264294737708864\n",
      "0.016154928730183316\n",
      "0.012842695360488543\n",
      "0.021200322708156416\n",
      "0.0\n",
      "9.99999999995449e-06\n",
      "0.016801611766908087\n",
      "0.014280435368054567\n",
      "0.012799380801312155\n",
      "0.01122166633569377\n",
      "0.010583682759898294\n",
      "0.02932806849774061\n",
      "0.01762135268943621\n",
      "0.009863295604880196\n",
      "0.010682144434712604\n",
      "0.05787389955400157\n",
      "0.0\n",
      "0.0\n",
      "0.0018965567937898609\n",
      "0.017688570075394927\n",
      "0.016344604802682405\n",
      "9.99999999995449e-06\n",
      "0.043207300369012436\n",
      "0.004073289806481917\n",
      "0.001073213760658609\n",
      "0.002843385342361615\n",
      "0.004737773246574095\n",
      "0.002843385342361615\n",
      "9.99999999995449e-06\n",
      "0.010519209471123614\n",
      "0.0\n",
      "0.0\n",
      "0.00033807619943559963\n",
      "0.0382240806038836\n",
      "0.006920331528006862\n",
      "0.0002351696160856065\n",
      "0.018902788102325374\n",
      "9.99999999995449e-06\n",
      "9.99999999995449e-06\n",
      "9.99999999995449e-06\n",
      "9.99999999995449e-06\n",
      "9.99999999995449e-06\n",
      "9.99999999995449e-06\n",
      "9.99999999995449e-06\n",
      "9.99999999995449e-06\n",
      "9.99999999995449e-06\n",
      "9.99999999995449e-06\n",
      "9.99999999995449e-06\n",
      "9.99999999995449e-06\n",
      "9.99999999995449e-06\n",
      "9.99999999995449e-06\n",
      "9.99999999995449e-06\n",
      "9.99999999995449e-06\n",
      "9.99999999995449e-06\n",
      "9.99999999995449e-06\n",
      "9.99999999995449e-06\n",
      "9.99999999995449e-06\n",
      "9.99999999995449e-06\n",
      "9.99999999995449e-06\n",
      "9.99999999995449e-06\n",
      "9.99999999995449e-06\n",
      "9.99999999995449e-06\n",
      "9.99999999995449e-06\n",
      "9.99999999995449e-06\n",
      "9.99999999995449e-06\n",
      "9.99999999995449e-06\n",
      "9.99999999995449e-06\n",
      "9.99999999995449e-06\n",
      "9.99999999995449e-06\n",
      "9.99999999995449e-06\n",
      "9.99999999995449e-06\n",
      "9.99999999995449e-06\n",
      "9.99999999995449e-06\n",
      "9.99999999995449e-06\n",
      "9.99999999995449e-06\n",
      "9.99999999995449e-06\n",
      "9.99999999995449e-06\n",
      "9.99999999995449e-06\n",
      "9.99999999995449e-06\n",
      "9.99999999995449e-06\n",
      "9.99999999995449e-06\n",
      "9.99999999995449e-06\n",
      "9.99999999995449e-06\n",
      "9.99999999995449e-06\n",
      "9.99999999995449e-06\n"
     ]
    }
   ],
   "source": [
    "for gene in genes_lists['R_3'].collect():\n",
    "    anti_sum = []\n",
    "    for maf in final_mafs[gene]:\n",
    "        if maf < 0.01:\n",
    "            anti_sum.append(1-maf)\n",
    "\n",
    "    print(1 - np.prod(anti_sum))"
   ]
  },
  {
   "cell_type": "code",
   "execution_count": 16,
   "metadata": {
    "collapsed": true,
    "jupyter": {
     "outputs_hidden": true
    },
    "tags": []
   },
   "outputs": [
    {
     "name": "stdout",
     "output_type": "stream",
     "text": [
      "0.015244462789543722\n",
      "0.0\n",
      "0.01707341807967999\n",
      "0.0096654603230647\n",
      "9.99999999995449e-06\n",
      "0.0\n",
      "0.00739959207684171\n",
      "0.0017640339886612066\n",
      "0.029172189486141864\n",
      "0.0017650692789692446\n",
      "0.02797128515799885\n",
      "0.04236515933785567\n",
      "9.99999999995449e-06\n",
      "9.99999999995449e-06\n",
      "9.99999999995449e-06\n",
      "9.99999999995449e-06\n",
      "9.99999999995449e-06\n",
      "9.99999999995449e-06\n",
      "9.99999999995449e-06\n",
      "9.99999999995449e-06\n",
      "9.99999999995449e-06\n",
      "9.99999999995449e-06\n",
      "9.99999999995449e-06\n",
      "9.99999999995449e-06\n",
      "9.99999999995449e-06\n",
      "9.99999999995449e-06\n",
      "9.99999999995449e-06\n",
      "9.99999999995449e-06\n",
      "9.99999999995449e-06\n",
      "9.99999999995449e-06\n",
      "9.99999999995449e-06\n",
      "9.99999999995449e-06\n",
      "9.99999999995449e-06\n",
      "9.99999999995449e-06\n",
      "9.99999999995449e-06\n",
      "9.99999999995449e-06\n",
      "9.99999999995449e-06\n",
      "9.99999999995449e-06\n",
      "9.99999999995449e-06\n",
      "9.99999999995449e-06\n",
      "9.99999999995449e-06\n",
      "9.99999999995449e-06\n",
      "9.99999999995449e-06\n",
      "9.99999999995449e-06\n",
      "9.99999999995449e-06\n",
      "9.99999999995449e-06\n",
      "9.99999999995449e-06\n",
      "9.99999999995449e-06\n",
      "9.99999999995449e-06\n",
      "9.99999999995449e-06\n",
      "9.99999999995449e-06\n",
      "9.99999999995449e-06\n",
      "9.99999999995449e-06\n",
      "9.99999999995449e-06\n",
      "9.99999999995449e-06\n",
      "9.99999999995449e-06\n",
      "9.99999999995449e-06\n",
      "9.99999999995449e-06\n",
      "9.99999999995449e-06\n",
      "9.99999999995449e-06\n",
      "9.99999999995449e-06\n",
      "9.99999999995449e-06\n",
      "9.99999999995449e-06\n",
      "9.99999999995449e-06\n",
      "9.99999999995449e-06\n",
      "9.99999999995449e-06\n",
      "9.99999999995449e-06\n",
      "9.99999999995449e-06\n",
      "9.99999999995449e-06\n",
      "9.99999999995449e-06\n",
      "9.99999999995449e-06\n",
      "9.99999999995449e-06\n",
      "9.99999999995449e-06\n",
      "9.99999999995449e-06\n",
      "9.99999999995449e-06\n",
      "9.99999999995449e-06\n",
      "9.99999999995449e-06\n",
      "9.99999999995449e-06\n",
      "9.99999999995449e-06\n",
      "9.99999999995449e-06\n",
      "9.99999999995449e-06\n",
      "9.99999999995449e-06\n",
      "9.99999999995449e-06\n",
      "9.99999999995449e-06\n",
      "9.99999999995449e-06\n",
      "9.99999999995449e-06\n",
      "9.99999999995449e-06\n",
      "9.99999999995449e-06\n",
      "9.99999999995449e-06\n",
      "9.99999999995449e-06\n",
      "9.99999999995449e-06\n",
      "9.99999999995449e-06\n",
      "9.99999999995449e-06\n",
      "9.99999999995449e-06\n",
      "9.99999999995449e-06\n",
      "9.99999999995449e-06\n",
      "9.99999999995449e-06\n",
      "9.99999999995449e-06\n",
      "9.99999999995449e-06\n",
      "9.99999999995449e-06\n",
      "9.99999999995449e-06\n",
      "9.99999999995449e-06\n",
      "9.99999999995449e-06\n",
      "9.99999999995449e-06\n",
      "9.99999999995449e-06\n",
      "9.99999999995449e-06\n",
      "9.99999999995449e-06\n"
     ]
    }
   ],
   "source": [
    "for gene in genes_lists['R_4'].collect():\n",
    "    anti_sum = []\n",
    "    for maf in final_mafs[gene]:\n",
    "        if maf < 0.01:\n",
    "            anti_sum.append(1-maf)\n",
    "            \n",
    "    print(1 - np.prod(anti_sum))"
   ]
  },
  {
   "cell_type": "code",
   "execution_count": 17,
   "metadata": {
    "collapsed": true,
    "jupyter": {
     "outputs_hidden": true
    },
    "tags": []
   },
   "outputs": [
    {
     "name": "stdout",
     "output_type": "stream",
     "text": [
      "0.07900376349569216\n",
      "9.99999999995449e-06\n",
      "0.003675065416164358\n",
      "0.164964010327179\n",
      "0.2805628354870734\n",
      "0.15384557658004672\n",
      "0.08389165070053883\n",
      "0.09934617990853156\n",
      "0.14885420707255492\n",
      "0.07596675970566824\n",
      "0.10937174523250537\n",
      "0.17527852095149776\n",
      "0.292060015481852\n",
      "0.06972005345313437\n",
      "0.06806508643731812\n",
      "0.07679556287144484\n",
      "0.27912457319413875\n",
      "0.13202013045250505\n",
      "0.1845295074236517\n",
      "0.03433021145143145\n",
      "0.2602923176870958\n",
      "0.08847814936803378\n",
      "0.47387408362363403\n",
      "0.13917169848087796\n",
      "0.04702631274621949\n",
      "9.99999999995449e-06\n",
      "0.11082184541570073\n",
      "0.2335659129356633\n",
      "0.10204695164963151\n",
      "0.09596114686257817\n",
      "0.13188207523351636\n",
      "0.43373274304379417\n",
      "0.043884139080668016\n",
      "0.04835234583786907\n",
      "0.16134136424540846\n",
      "0.1554575123216343\n",
      "0.06716968280259294\n",
      "0.025328314233247884\n",
      "9.99999999995449e-06\n",
      "0.07340865574358257\n",
      "0.05014102807149956\n",
      "0.08677379606276137\n",
      "9.99999999995449e-06\n",
      "0.057940792712101286\n",
      "0.09100762868310663\n",
      "0.10357141348834764\n",
      "0.29896259004775394\n",
      "0.10918672641314009\n",
      "0.2960642535785759\n",
      "0.07198483600671457\n",
      "0.10023017113972377\n",
      "0.10679636087388533\n",
      "0.10051605511211115\n",
      "0.18332204458639512\n",
      "0.08798368096817877\n",
      "0.158122356623551\n",
      "0.3080494068159799\n",
      "0.055726279601596374\n",
      "0.46052625634581545\n",
      "0.0740811004128138\n",
      "0.1156206577299832\n",
      "0.4759548550921624\n",
      "0.04990396254749507\n",
      "0.1198274192316231\n",
      "0.07762955305256425\n",
      "0.4300339526636928\n",
      "0.1300596664212761\n",
      "0.5889417510227213\n",
      "0.05155611060342502\n",
      "0.06472934060372515\n",
      "0.2139000623156948\n",
      "0.013286500221447617\n",
      "9.99999999995449e-06\n",
      "0.11107339196673749\n",
      "0.41696728431893115\n",
      "0.0358398787020755\n",
      "0.08674617164205123\n",
      "0.05294203968719047\n",
      "0.2695055212804035\n",
      "0.038716526973415655\n",
      "0.04712263767557401\n",
      "0.28527486884569164\n",
      "9.99999999995449e-06\n",
      "9.99999999995449e-06\n",
      "9.99999999995449e-06\n",
      "9.99999999995449e-06\n",
      "9.99999999995449e-06\n",
      "9.99999999995449e-06\n",
      "9.99999999995449e-06\n",
      "9.99999999995449e-06\n",
      "9.99999999995449e-06\n",
      "9.99999999995449e-06\n",
      "9.99999999995449e-06\n",
      "9.99999999995449e-06\n",
      "9.99999999995449e-06\n",
      "9.99999999995449e-06\n",
      "9.99999999995449e-06\n",
      "9.99999999995449e-06\n",
      "9.99999999995449e-06\n",
      "9.99999999995449e-06\n",
      "9.99999999995449e-06\n",
      "9.99999999995449e-06\n",
      "9.99999999995449e-06\n",
      "9.99999999995449e-06\n",
      "9.99999999995449e-06\n",
      "9.99999999995449e-06\n",
      "9.99999999995449e-06\n",
      "0.24798030967759066\n",
      "0.23055992433110994\n",
      "0.08751952492529369\n",
      "0.16097010093318964\n",
      "0.27432050849167045\n",
      "0.08630780792094517\n",
      "0.4105368257558051\n",
      "0.09736774689769268\n",
      "0.06695099341235111\n",
      "0.11733790762923768\n",
      "0.1179964840465576\n",
      "0.11736385282886563\n",
      "0.15427178153066834\n",
      "0.1283252635203329\n",
      "0.05961171414806521\n",
      "0.07260725339244167\n",
      "0.21840673886419415\n",
      "0.3731409803698764\n",
      "0.07287679748301878\n",
      "0.10173517772115837\n",
      "0.2961326014290925\n",
      "0.12805968210850582\n",
      "0.1625604080757861\n",
      "0.18997687120957207\n",
      "9.99999999995449e-06\n",
      "9.99999999995449e-06\n",
      "9.99999999995449e-06\n",
      "9.99999999995449e-06\n",
      "9.99999999995449e-06\n",
      "9.99999999995449e-06\n",
      "9.99999999995449e-06\n",
      "9.99999999995449e-06\n",
      "9.99999999995449e-06\n",
      "9.99999999995449e-06\n",
      "9.99999999995449e-06\n",
      "9.99999999995449e-06\n",
      "9.99999999995449e-06\n",
      "9.99999999995449e-06\n",
      "9.99999999995449e-06\n",
      "9.99999999995449e-06\n",
      "9.99999999995449e-06\n",
      "9.99999999995449e-06\n",
      "9.99999999995449e-06\n",
      "9.99999999995449e-06\n",
      "9.99999999995449e-06\n",
      "9.99999999995449e-06\n",
      "9.99999999995449e-06\n",
      "9.99999999995449e-06\n",
      "9.99999999995449e-06\n",
      "9.99999999995449e-06\n",
      "9.99999999995449e-06\n",
      "9.99999999995449e-06\n",
      "9.99999999995449e-06\n",
      "9.99999999995449e-06\n",
      "9.99999999995449e-06\n",
      "9.99999999995449e-06\n",
      "9.99999999995449e-06\n",
      "9.99999999995449e-06\n",
      "9.99999999995449e-06\n",
      "9.99999999995449e-06\n",
      "9.99999999995449e-06\n",
      "9.99999999995449e-06\n",
      "9.99999999995449e-06\n",
      "9.99999999995449e-06\n",
      "9.99999999995449e-06\n",
      "9.99999999995449e-06\n",
      "9.99999999995449e-06\n",
      "9.99999999995449e-06\n",
      "9.99999999995449e-06\n",
      "9.99999999995449e-06\n",
      "9.99999999995449e-06\n",
      "9.99999999995449e-06\n",
      "9.99999999995449e-06\n",
      "9.99999999995449e-06\n",
      "9.99999999995449e-06\n",
      "9.99999999995449e-06\n",
      "9.99999999995449e-06\n",
      "9.99999999995449e-06\n",
      "9.99999999995449e-06\n",
      "9.99999999995449e-06\n",
      "9.99999999995449e-06\n",
      "9.99999999995449e-06\n",
      "9.99999999995449e-06\n",
      "9.99999999995449e-06\n",
      "9.99999999995449e-06\n",
      "9.99999999995449e-06\n",
      "9.99999999995449e-06\n",
      "9.99999999995449e-06\n",
      "9.99999999995449e-06\n",
      "9.99999999995449e-06\n",
      "9.99999999995449e-06\n",
      "9.99999999995449e-06\n",
      "9.99999999995449e-06\n",
      "9.99999999995449e-06\n",
      "9.99999999995449e-06\n",
      "9.99999999995449e-06\n",
      "9.99999999995449e-06\n",
      "9.99999999995449e-06\n",
      "9.99999999995449e-06\n",
      "9.99999999995449e-06\n",
      "9.99999999995449e-06\n",
      "9.99999999995449e-06\n",
      "9.99999999995449e-06\n",
      "9.99999999995449e-06\n",
      "9.99999999995449e-06\n",
      "9.99999999995449e-06\n",
      "9.99999999995449e-06\n",
      "0.23013544384041718\n",
      "9.99999999995449e-06\n",
      "9.99999999995449e-06\n",
      "9.99999999995449e-06\n",
      "9.99999999995449e-06\n",
      "9.99999999995449e-06\n",
      "9.99999999995449e-06\n",
      "9.99999999995449e-06\n",
      "9.99999999995449e-06\n",
      "9.99999999995449e-06\n",
      "9.99999999995449e-06\n",
      "9.99999999995449e-06\n",
      "9.99999999995449e-06\n",
      "9.99999999995449e-06\n",
      "9.99999999995449e-06\n",
      "9.99999999995449e-06\n",
      "9.99999999995449e-06\n",
      "9.99999999995449e-06\n",
      "9.99999999995449e-06\n",
      "9.99999999995449e-06\n",
      "9.99999999995449e-06\n",
      "9.99999999995449e-06\n",
      "9.99999999995449e-06\n",
      "9.99999999995449e-06\n",
      "9.99999999995449e-06\n",
      "9.99999999995449e-06\n",
      "9.99999999995449e-06\n",
      "9.99999999995449e-06\n",
      "9.99999999995449e-06\n",
      "9.99999999995449e-06\n",
      "9.99999999995449e-06\n",
      "9.99999999995449e-06\n",
      "9.99999999995449e-06\n",
      "9.99999999995449e-06\n",
      "9.99999999995449e-06\n",
      "9.99999999995449e-06\n",
      "9.99999999995449e-06\n",
      "9.99999999995449e-06\n",
      "9.99999999995449e-06\n",
      "9.99999999995449e-06\n",
      "9.99999999995449e-06\n",
      "9.99999999995449e-06\n",
      "9.99999999995449e-06\n",
      "9.99999999995449e-06\n",
      "9.99999999995449e-06\n",
      "9.99999999995449e-06\n",
      "9.99999999995449e-06\n",
      "9.99999999995449e-06\n",
      "9.99999999995449e-06\n",
      "9.99999999995449e-06\n",
      "9.99999999995449e-06\n",
      "9.99999999995449e-06\n",
      "9.99999999995449e-06\n",
      "9.99999999995449e-06\n",
      "9.99999999995449e-06\n",
      "9.99999999995449e-06\n",
      "9.99999999995449e-06\n",
      "9.99999999995449e-06\n",
      "9.99999999995449e-06\n",
      "9.99999999995449e-06\n",
      "9.99999999995449e-06\n",
      "9.99999999995449e-06\n",
      "9.99999999995449e-06\n",
      "9.99999999995449e-06\n",
      "9.99999999995449e-06\n",
      "9.99999999995449e-06\n",
      "9.99999999995449e-06\n",
      "9.99999999995449e-06\n",
      "9.99999999995449e-06\n",
      "9.99999999995449e-06\n",
      "9.99999999995449e-06\n",
      "9.99999999995449e-06\n",
      "9.99999999995449e-06\n",
      "9.99999999995449e-06\n",
      "9.99999999995449e-06\n",
      "9.99999999995449e-06\n",
      "9.99999999995449e-06\n",
      "9.99999999995449e-06\n",
      "9.99999999995449e-06\n",
      "9.99999999995449e-06\n",
      "9.99999999995449e-06\n",
      "9.99999999995449e-06\n",
      "9.99999999995449e-06\n",
      "9.99999999995449e-06\n",
      "9.99999999995449e-06\n",
      "9.99999999995449e-06\n",
      "9.99999999995449e-06\n",
      "9.99999999995449e-06\n",
      "9.99999999995449e-06\n",
      "9.99999999995449e-06\n",
      "9.99999999995449e-06\n",
      "9.99999999995449e-06\n",
      "9.99999999995449e-06\n",
      "9.99999999995449e-06\n",
      "9.99999999995449e-06\n",
      "9.99999999995449e-06\n",
      "9.99999999995449e-06\n",
      "9.99999999995449e-06\n",
      "9.99999999995449e-06\n",
      "9.99999999995449e-06\n",
      "9.99999999995449e-06\n",
      "9.99999999995449e-06\n",
      "9.99999999995449e-06\n",
      "9.99999999995449e-06\n",
      "9.99999999995449e-06\n",
      "9.99999999995449e-06\n",
      "9.99999999995449e-06\n",
      "0.5650821304115994\n",
      "9.99999999995449e-06\n",
      "9.99999999995449e-06\n",
      "9.99999999995449e-06\n",
      "9.99999999995449e-06\n",
      "9.99999999995449e-06\n",
      "9.99999999995449e-06\n",
      "9.99999999995449e-06\n",
      "9.99999999995449e-06\n",
      "9.99999999995449e-06\n",
      "9.99999999995449e-06\n",
      "9.99999999995449e-06\n",
      "9.99999999995449e-06\n",
      "9.99999999995449e-06\n",
      "9.99999999995449e-06\n",
      "9.99999999995449e-06\n",
      "9.99999999995449e-06\n",
      "9.99999999995449e-06\n",
      "9.99999999995449e-06\n",
      "9.99999999995449e-06\n",
      "9.99999999995449e-06\n",
      "9.99999999995449e-06\n",
      "9.99999999995449e-06\n",
      "9.99999999995449e-06\n",
      "9.99999999995449e-06\n",
      "9.99999999995449e-06\n",
      "9.99999999995449e-06\n",
      "9.99999999995449e-06\n",
      "9.99999999995449e-06\n",
      "9.99999999995449e-06\n",
      "9.99999999995449e-06\n",
      "9.99999999995449e-06\n",
      "9.99999999995449e-06\n",
      "9.99999999995449e-06\n",
      "9.99999999995449e-06\n",
      "9.99999999995449e-06\n",
      "9.99999999995449e-06\n",
      "9.99999999995449e-06\n",
      "9.99999999995449e-06\n",
      "9.99999999995449e-06\n",
      "9.99999999995449e-06\n",
      "9.99999999995449e-06\n",
      "9.99999999995449e-06\n",
      "9.99999999995449e-06\n",
      "9.99999999995449e-06\n",
      "9.99999999995449e-06\n",
      "9.99999999995449e-06\n",
      "9.99999999995449e-06\n",
      "9.99999999995449e-06\n",
      "9.99999999995449e-06\n",
      "9.99999999995449e-06\n",
      "9.99999999995449e-06\n",
      "9.99999999995449e-06\n",
      "9.99999999995449e-06\n",
      "9.99999999995449e-06\n",
      "9.99999999995449e-06\n",
      "9.99999999995449e-06\n",
      "9.99999999995449e-06\n",
      "9.99999999995449e-06\n",
      "9.99999999995449e-06\n",
      "9.99999999995449e-06\n",
      "9.99999999995449e-06\n",
      "9.99999999995449e-06\n",
      "9.99999999995449e-06\n",
      "9.99999999995449e-06\n",
      "9.99999999995449e-06\n",
      "9.99999999995449e-06\n",
      "9.99999999995449e-06\n",
      "9.99999999995449e-06\n",
      "9.99999999995449e-06\n",
      "9.99999999995449e-06\n",
      "9.99999999995449e-06\n",
      "9.99999999995449e-06\n",
      "9.99999999995449e-06\n",
      "9.99999999995449e-06\n",
      "9.99999999995449e-06\n",
      "9.99999999995449e-06\n",
      "9.99999999995449e-06\n",
      "9.99999999995449e-06\n",
      "9.99999999995449e-06\n",
      "9.99999999995449e-06\n",
      "9.99999999995449e-06\n",
      "9.99999999995449e-06\n",
      "9.99999999995449e-06\n",
      "9.99999999995449e-06\n",
      "9.99999999995449e-06\n",
      "9.99999999995449e-06\n",
      "9.99999999995449e-06\n",
      "9.99999999995449e-06\n",
      "9.99999999995449e-06\n",
      "9.99999999995449e-06\n",
      "9.99999999995449e-06\n",
      "9.99999999995449e-06\n",
      "9.99999999995449e-06\n",
      "9.99999999995449e-06\n",
      "9.99999999995449e-06\n",
      "9.99999999995449e-06\n",
      "9.99999999995449e-06\n",
      "9.99999999995449e-06\n",
      "9.99999999995449e-06\n",
      "9.99999999995449e-06\n",
      "9.99999999995449e-06\n",
      "9.99999999995449e-06\n",
      "9.99999999995449e-06\n",
      "9.99999999995449e-06\n",
      "9.99999999995449e-06\n",
      "9.99999999995449e-06\n"
     ]
    }
   ],
   "source": [
    "for gene in genes_lists['U_4'].collect():\n",
    "    anti_sum = []\n",
    "    for maf in final_mafs[gene]:\n",
    "        anti_sum.append(1-maf)\n",
    "\n",
    "    print(1 - np.prod(anti_sum))\n",
    "\n",
    "for gene in genes_lists['U_5'].collect():\n",
    "    anti_sum = []\n",
    "    for maf in final_mafs[gene]:\n",
    "        anti_sum.append(1-maf)\n",
    "\n",
    "    print(1 - np.prod(anti_sum))\n",
    "\n",
    "for gene in genes_lists['U_6'].collect():\n",
    "    anti_sum = []\n",
    "    for maf in final_mafs[gene]:\n",
    "        anti_sum.append(1-maf)\n",
    "\n",
    "    print(1 - np.prod(anti_sum))\n",
    "\n",
    "for gene in genes_lists['U_7'].collect():\n",
    "    anti_sum = []\n",
    "    for maf in final_mafs[gene]:\n",
    "        anti_sum.append(1-maf)\n",
    "\n",
    "    print(1 - np.prod(anti_sum))"
   ]
  },
  {
   "cell_type": "code",
   "execution_count": 66,
   "metadata": {},
   "outputs": [],
   "source": [
    "ur = genes_found.filter(genes_found.gnomad_v3_nfe_af < 0.001)\n",
    "ur = ur.annotate(within_gene = ur.within_gene.split(\",\"))\n",
    "ur = ur.explode(ur.within_gene)\n",
    "\n",
    "ur = ur.key_by(ur.family_non_ref, ur.within_gene)\n",
    "ur = ur.distinct()"
   ]
  },
  {
   "cell_type": "code",
   "execution_count": 67,
   "metadata": {
    "tags": []
   },
   "outputs": [],
   "source": [
    "fams_ur = ur.group_by(ur.within_gene).aggregate(\n",
    "    fams_non_ref = hl.agg.collect(ur.family_non_ref))"
   ]
  },
  {
   "cell_type": "code",
   "execution_count": 68,
   "metadata": {
    "tags": []
   },
   "outputs": [],
   "source": [
    "fams_dict = {\n",
    "    \"A\":0.0625,\n",
    "    \"B\":0.0156,\n",
    "    \"C\":0.0078,\n",
    "    \"D\":0.0156,\n",
    "    \"E\":0.0625,\n",
    "    \"F\":0.0078,\n",
    "    \"G\":0.25,\n",
    "    \"H\":0.125,\n",
    "    \"I\":0.0626,\n",
    "    \"J\":0.25,\n",
    "    \"R\":0.125,\n",
    "    \"S\":0.125,\n",
    "    \"T\":0.5,\n",
    "    \"U\":0.0625,\n",
    "    \"W\":0.000976,\n",
    "    \"X\":0.125,\n",
    "    \"Y\":0.03125,\n",
    "}"
   ]
  },
  {
   "cell_type": "code",
   "execution_count": 69,
   "metadata": {
    "tags": []
   },
   "outputs": [],
   "source": [
    "fams_ur = fams_ur.annotate(\n",
    "    p_seg = hl.product(hl.map(lambda x: hl.dict(fams_dict).get(x), fams_ur.fams_non_ref))\n",
    ")"
   ]
  },
  {
   "cell_type": "code",
   "execution_count": 70,
   "metadata": {
    "collapsed": true,
    "jupyter": {
     "outputs_hidden": true
    },
    "tags": []
   },
   "outputs": [
    {
     "name": "stderr",
     "output_type": "stream",
     "text": [
      "2023-03-01 22:12:12.638 Hail: INFO: Ordering unsorted dataset with network shuffle\n",
      "2023-03-01 22:12:12.860 Hail: INFO: Ordering unsorted dataset with network shuffle\n"
     ]
    },
    {
     "data": {
      "text/html": [
       "<table><thead><tr><td style=\"white-space: nowrap; max-width: 500px; overflow: hidden; text-overflow: ellipsis; \" colspan=\"1\"><div style=\"text-align: left;\"></div></td><td style=\"white-space: nowrap; max-width: 500px; overflow: hidden; text-overflow: ellipsis; \" colspan=\"1\"><div style=\"text-align: left;\"></div></td><td style=\"white-space: nowrap; max-width: 500px; overflow: hidden; text-overflow: ellipsis; \" colspan=\"1\"><div style=\"text-align: left;\"></div></td></tr><tr><td style=\"white-space: nowrap; max-width: 500px; overflow: hidden; text-overflow: ellipsis; \" colspan=\"1\"><div style=\"text-align: left;border-bottom: solid 2px #000; padding-bottom: 5px\">within_gene</div></td><td style=\"white-space: nowrap; max-width: 500px; overflow: hidden; text-overflow: ellipsis; \" colspan=\"1\"><div style=\"text-align: left;border-bottom: solid 2px #000; padding-bottom: 5px\">fams_non_ref</div></td><td style=\"white-space: nowrap; max-width: 500px; overflow: hidden; text-overflow: ellipsis; \" colspan=\"1\"><div style=\"text-align: left;border-bottom: solid 2px #000; padding-bottom: 5px\">p_seg</div></td></tr><tr><td style=\"white-space: nowrap; max-width: 500px; overflow: hidden; text-overflow: ellipsis; text-align: left;\">str</td><td style=\"white-space: nowrap; max-width: 500px; overflow: hidden; text-overflow: ellipsis; text-align: left;\">array&lt;str&gt;</td><td style=\"white-space: nowrap; max-width: 500px; overflow: hidden; text-overflow: ellipsis; text-align: left;\">float64</td></tr>\n",
       "</thead><tbody><tr><td style=\"white-space: nowrap; max-width: 500px; overflow: hidden; text-overflow: ellipsis; \">&quot;AC007402.1&quot;</td><td style=\"white-space: nowrap; max-width: 500px; overflow: hidden; text-overflow: ellipsis; \">[&quot;E&quot;,&quot;J&quot;]</td><td style=\"white-space: nowrap; max-width: 500px; overflow: hidden; text-overflow: ellipsis; \">1.56e-02</td></tr>\n",
       "<tr><td style=\"white-space: nowrap; max-width: 500px; overflow: hidden; text-overflow: ellipsis; \">&quot;AC007656.2&quot;</td><td style=\"white-space: nowrap; max-width: 500px; overflow: hidden; text-overflow: ellipsis; \">[&quot;U&quot;,&quot;X&quot;]</td><td style=\"white-space: nowrap; max-width: 500px; overflow: hidden; text-overflow: ellipsis; \">7.81e-03</td></tr>\n",
       "<tr><td style=\"white-space: nowrap; max-width: 500px; overflow: hidden; text-overflow: ellipsis; \">&quot;AC008691.1&quot;</td><td style=\"white-space: nowrap; max-width: 500px; overflow: hidden; text-overflow: ellipsis; \">[&quot;T&quot;,&quot;U&quot;]</td><td style=\"white-space: nowrap; max-width: 500px; overflow: hidden; text-overflow: ellipsis; \">3.13e-02</td></tr>\n",
       "<tr><td style=\"white-space: nowrap; max-width: 500px; overflow: hidden; text-overflow: ellipsis; \">&quot;AC046130.1&quot;</td><td style=\"white-space: nowrap; max-width: 500px; overflow: hidden; text-overflow: ellipsis; \">[&quot;G&quot;,&quot;J&quot;]</td><td style=\"white-space: nowrap; max-width: 500px; overflow: hidden; text-overflow: ellipsis; \">6.25e-02</td></tr>\n",
       "<tr><td style=\"white-space: nowrap; max-width: 500px; overflow: hidden; text-overflow: ellipsis; \">&quot;AC090912.1&quot;</td><td style=\"white-space: nowrap; max-width: 500px; overflow: hidden; text-overflow: ellipsis; \">[&quot;E&quot;,&quot;J&quot;]</td><td style=\"white-space: nowrap; max-width: 500px; overflow: hidden; text-overflow: ellipsis; \">1.56e-02</td></tr>\n",
       "<tr><td style=\"white-space: nowrap; max-width: 500px; overflow: hidden; text-overflow: ellipsis; \">&quot;AC090912.2&quot;</td><td style=\"white-space: nowrap; max-width: 500px; overflow: hidden; text-overflow: ellipsis; \">[&quot;E&quot;,&quot;J&quot;]</td><td style=\"white-space: nowrap; max-width: 500px; overflow: hidden; text-overflow: ellipsis; \">1.56e-02</td></tr>\n",
       "<tr><td style=\"white-space: nowrap; max-width: 500px; overflow: hidden; text-overflow: ellipsis; \">&quot;AC092844.1&quot;</td><td style=\"white-space: nowrap; max-width: 500px; overflow: hidden; text-overflow: ellipsis; \">[&quot;S&quot;,&quot;X&quot;]</td><td style=\"white-space: nowrap; max-width: 500px; overflow: hidden; text-overflow: ellipsis; \">1.56e-02</td></tr>\n",
       "<tr><td style=\"white-space: nowrap; max-width: 500px; overflow: hidden; text-overflow: ellipsis; \">&quot;AC092957.1&quot;</td><td style=\"white-space: nowrap; max-width: 500px; overflow: hidden; text-overflow: ellipsis; \">[&quot;H&quot;,&quot;I&quot;]</td><td style=\"white-space: nowrap; max-width: 500px; overflow: hidden; text-overflow: ellipsis; \">7.83e-03</td></tr>\n",
       "<tr><td style=\"white-space: nowrap; max-width: 500px; overflow: hidden; text-overflow: ellipsis; \">&quot;ADAMTSL1&quot;</td><td style=\"white-space: nowrap; max-width: 500px; overflow: hidden; text-overflow: ellipsis; \">[&quot;A&quot;,&quot;Y&quot;]</td><td style=\"white-space: nowrap; max-width: 500px; overflow: hidden; text-overflow: ellipsis; \">1.95e-03</td></tr>\n",
       "<tr><td style=\"white-space: nowrap; max-width: 500px; overflow: hidden; text-overflow: ellipsis; \">&quot;ADGRL3&quot;</td><td style=\"white-space: nowrap; max-width: 500px; overflow: hidden; text-overflow: ellipsis; \">[&quot;H&quot;,&quot;J&quot;]</td><td style=\"white-space: nowrap; max-width: 500px; overflow: hidden; text-overflow: ellipsis; \">3.13e-02</td></tr>\n",
       "<tr><td style=\"white-space: nowrap; max-width: 500px; overflow: hidden; text-overflow: ellipsis; \">&quot;AL157944.1&quot;</td><td style=\"white-space: nowrap; max-width: 500px; overflow: hidden; text-overflow: ellipsis; \">[&quot;A&quot;,&quot;I&quot;]</td><td style=\"white-space: nowrap; max-width: 500px; overflow: hidden; text-overflow: ellipsis; \">3.91e-03</td></tr>\n",
       "<tr><td style=\"white-space: nowrap; max-width: 500px; overflow: hidden; text-overflow: ellipsis; \">&quot;AL356534.1&quot;</td><td style=\"white-space: nowrap; max-width: 500px; overflow: hidden; text-overflow: ellipsis; \">[&quot;G&quot;,&quot;J&quot;]</td><td style=\"white-space: nowrap; max-width: 500px; overflow: hidden; text-overflow: ellipsis; \">6.25e-02</td></tr>\n",
       "<tr><td style=\"white-space: nowrap; max-width: 500px; overflow: hidden; text-overflow: ellipsis; \">&quot;AL357146.1&quot;</td><td style=\"white-space: nowrap; max-width: 500px; overflow: hidden; text-overflow: ellipsis; \">[&quot;H&quot;,&quot;T&quot;]</td><td style=\"white-space: nowrap; max-width: 500px; overflow: hidden; text-overflow: ellipsis; \">6.25e-02</td></tr>\n",
       "<tr><td style=\"white-space: nowrap; max-width: 500px; overflow: hidden; text-overflow: ellipsis; \">&quot;AL589740.1&quot;</td><td style=\"white-space: nowrap; max-width: 500px; overflow: hidden; text-overflow: ellipsis; \">[&quot;T&quot;,&quot;Y&quot;]</td><td style=\"white-space: nowrap; max-width: 500px; overflow: hidden; text-overflow: ellipsis; \">1.56e-02</td></tr>\n",
       "<tr><td style=\"white-space: nowrap; max-width: 500px; overflow: hidden; text-overflow: ellipsis; \">&quot;ALK&quot;</td><td style=\"white-space: nowrap; max-width: 500px; overflow: hidden; text-overflow: ellipsis; \">[&quot;R&quot;,&quot;U&quot;]</td><td style=\"white-space: nowrap; max-width: 500px; overflow: hidden; text-overflow: ellipsis; \">7.81e-03</td></tr>\n",
       "<tr><td style=\"white-space: nowrap; max-width: 500px; overflow: hidden; text-overflow: ellipsis; \">&quot;AP000695.2&quot;</td><td style=\"white-space: nowrap; max-width: 500px; overflow: hidden; text-overflow: ellipsis; \">[&quot;E&quot;,&quot;G&quot;]</td><td style=\"white-space: nowrap; max-width: 500px; overflow: hidden; text-overflow: ellipsis; \">1.56e-02</td></tr>\n",
       "<tr><td style=\"white-space: nowrap; max-width: 500px; overflow: hidden; text-overflow: ellipsis; \">&quot;AQP4-AS1&quot;</td><td style=\"white-space: nowrap; max-width: 500px; overflow: hidden; text-overflow: ellipsis; \">[&quot;E&quot;,&quot;G&quot;]</td><td style=\"white-space: nowrap; max-width: 500px; overflow: hidden; text-overflow: ellipsis; \">1.56e-02</td></tr>\n",
       "<tr><td style=\"white-space: nowrap; max-width: 500px; overflow: hidden; text-overflow: ellipsis; \">&quot;BNC2&quot;</td><td style=\"white-space: nowrap; max-width: 500px; overflow: hidden; text-overflow: ellipsis; \">[&quot;A&quot;,&quot;T&quot;]</td><td style=\"white-space: nowrap; max-width: 500px; overflow: hidden; text-overflow: ellipsis; \">3.13e-02</td></tr>\n",
       "<tr><td style=\"white-space: nowrap; max-width: 500px; overflow: hidden; text-overflow: ellipsis; \">&quot;BSN&quot;</td><td style=\"white-space: nowrap; max-width: 500px; overflow: hidden; text-overflow: ellipsis; \">[&quot;D&quot;,&quot;J&quot;]</td><td style=\"white-space: nowrap; max-width: 500px; overflow: hidden; text-overflow: ellipsis; \">3.90e-03</td></tr>\n",
       "<tr><td style=\"white-space: nowrap; max-width: 500px; overflow: hidden; text-overflow: ellipsis; \">&quot;BTBD9&quot;</td><td style=\"white-space: nowrap; max-width: 500px; overflow: hidden; text-overflow: ellipsis; \">[&quot;H&quot;,&quot;X&quot;]</td><td style=\"white-space: nowrap; max-width: 500px; overflow: hidden; text-overflow: ellipsis; \">1.56e-02</td></tr>\n",
       "<tr><td style=\"white-space: nowrap; max-width: 500px; overflow: hidden; text-overflow: ellipsis; \">&quot;CACNA1C&quot;</td><td style=\"white-space: nowrap; max-width: 500px; overflow: hidden; text-overflow: ellipsis; \">[&quot;H&quot;,&quot;X&quot;]</td><td style=\"white-space: nowrap; max-width: 500px; overflow: hidden; text-overflow: ellipsis; \">1.56e-02</td></tr>\n",
       "<tr><td style=\"white-space: nowrap; max-width: 500px; overflow: hidden; text-overflow: ellipsis; \">&quot;CACNA2D2&quot;</td><td style=\"white-space: nowrap; max-width: 500px; overflow: hidden; text-overflow: ellipsis; \">[&quot;J&quot;,&quot;T&quot;]</td><td style=\"white-space: nowrap; max-width: 500px; overflow: hidden; text-overflow: ellipsis; \">1.25e-01</td></tr>\n",
       "<tr><td style=\"white-space: nowrap; max-width: 500px; overflow: hidden; text-overflow: ellipsis; \">&quot;CAMTA1&quot;</td><td style=\"white-space: nowrap; max-width: 500px; overflow: hidden; text-overflow: ellipsis; \">[&quot;J&quot;,&quot;T&quot;]</td><td style=\"white-space: nowrap; max-width: 500px; overflow: hidden; text-overflow: ellipsis; \">1.25e-01</td></tr>\n",
       "<tr><td style=\"white-space: nowrap; max-width: 500px; overflow: hidden; text-overflow: ellipsis; \">&quot;CASZ1&quot;</td><td style=\"white-space: nowrap; max-width: 500px; overflow: hidden; text-overflow: ellipsis; \">[&quot;I&quot;,&quot;J&quot;]</td><td style=\"white-space: nowrap; max-width: 500px; overflow: hidden; text-overflow: ellipsis; \">1.57e-02</td></tr>\n",
       "<tr><td style=\"white-space: nowrap; max-width: 500px; overflow: hidden; text-overflow: ellipsis; \">&quot;CCDC148&quot;</td><td style=\"white-space: nowrap; max-width: 500px; overflow: hidden; text-overflow: ellipsis; \">[&quot;J&quot;,&quot;T&quot;]</td><td style=\"white-space: nowrap; max-width: 500px; overflow: hidden; text-overflow: ellipsis; \">1.25e-01</td></tr>\n",
       "<tr><td style=\"white-space: nowrap; max-width: 500px; overflow: hidden; text-overflow: ellipsis; \">&quot;CCDC171&quot;</td><td style=\"white-space: nowrap; max-width: 500px; overflow: hidden; text-overflow: ellipsis; \">[&quot;A&quot;,&quot;Y&quot;]</td><td style=\"white-space: nowrap; max-width: 500px; overflow: hidden; text-overflow: ellipsis; \">1.95e-03</td></tr>\n",
       "<tr><td style=\"white-space: nowrap; max-width: 500px; overflow: hidden; text-overflow: ellipsis; \">&quot;CDH22&quot;</td><td style=\"white-space: nowrap; max-width: 500px; overflow: hidden; text-overflow: ellipsis; \">[&quot;T&quot;,&quot;Y&quot;]</td><td style=\"white-space: nowrap; max-width: 500px; overflow: hidden; text-overflow: ellipsis; \">1.56e-02</td></tr>\n",
       "<tr><td style=\"white-space: nowrap; max-width: 500px; overflow: hidden; text-overflow: ellipsis; \">&quot;CDH23&quot;</td><td style=\"white-space: nowrap; max-width: 500px; overflow: hidden; text-overflow: ellipsis; \">[&quot;D&quot;,&quot;J&quot;]</td><td style=\"white-space: nowrap; max-width: 500px; overflow: hidden; text-overflow: ellipsis; \">3.90e-03</td></tr>\n",
       "<tr><td style=\"white-space: nowrap; max-width: 500px; overflow: hidden; text-overflow: ellipsis; \">&quot;CEP112&quot;</td><td style=\"white-space: nowrap; max-width: 500px; overflow: hidden; text-overflow: ellipsis; \">[&quot;U&quot;,&quot;X&quot;]</td><td style=\"white-space: nowrap; max-width: 500px; overflow: hidden; text-overflow: ellipsis; \">7.81e-03</td></tr>\n",
       "<tr><td style=\"white-space: nowrap; max-width: 500px; overflow: hidden; text-overflow: ellipsis; \">&quot;CLDN14&quot;</td><td style=\"white-space: nowrap; max-width: 500px; overflow: hidden; text-overflow: ellipsis; \">[&quot;E&quot;,&quot;G&quot;]</td><td style=\"white-space: nowrap; max-width: 500px; overflow: hidden; text-overflow: ellipsis; \">1.56e-02</td></tr>\n",
       "<tr><td style=\"white-space: nowrap; max-width: 500px; overflow: hidden; text-overflow: ellipsis; \">&quot;CNTN4&quot;</td><td style=\"white-space: nowrap; max-width: 500px; overflow: hidden; text-overflow: ellipsis; \">[&quot;E&quot;,&quot;T&quot;]</td><td style=\"white-space: nowrap; max-width: 500px; overflow: hidden; text-overflow: ellipsis; \">3.13e-02</td></tr>\n",
       "<tr><td style=\"white-space: nowrap; max-width: 500px; overflow: hidden; text-overflow: ellipsis; \">&quot;CNTNAP5&quot;</td><td style=\"white-space: nowrap; max-width: 500px; overflow: hidden; text-overflow: ellipsis; \">[&quot;H&quot;,&quot;S&quot;]</td><td style=\"white-space: nowrap; max-width: 500px; overflow: hidden; text-overflow: ellipsis; \">1.56e-02</td></tr>\n",
       "<tr><td style=\"white-space: nowrap; max-width: 500px; overflow: hidden; text-overflow: ellipsis; \">&quot;COL12A1&quot;</td><td style=\"white-space: nowrap; max-width: 500px; overflow: hidden; text-overflow: ellipsis; \">[&quot;T&quot;,&quot;Y&quot;]</td><td style=\"white-space: nowrap; max-width: 500px; overflow: hidden; text-overflow: ellipsis; \">1.56e-02</td></tr>\n",
       "<tr><td style=\"white-space: nowrap; max-width: 500px; overflow: hidden; text-overflow: ellipsis; \">&quot;COL25A1&quot;</td><td style=\"white-space: nowrap; max-width: 500px; overflow: hidden; text-overflow: ellipsis; \">[&quot;H&quot;,&quot;J&quot;]</td><td style=\"white-space: nowrap; max-width: 500px; overflow: hidden; text-overflow: ellipsis; \">3.13e-02</td></tr>\n",
       "<tr><td style=\"white-space: nowrap; max-width: 500px; overflow: hidden; text-overflow: ellipsis; \">&quot;COLQ&quot;</td><td style=\"white-space: nowrap; max-width: 500px; overflow: hidden; text-overflow: ellipsis; \">[&quot;H&quot;,&quot;J&quot;]</td><td style=\"white-space: nowrap; max-width: 500px; overflow: hidden; text-overflow: ellipsis; \">3.13e-02</td></tr>\n",
       "<tr><td style=\"white-space: nowrap; max-width: 500px; overflow: hidden; text-overflow: ellipsis; \">&quot;CREM&quot;</td><td style=\"white-space: nowrap; max-width: 500px; overflow: hidden; text-overflow: ellipsis; \">[&quot;H&quot;,&quot;T&quot;]</td><td style=\"white-space: nowrap; max-width: 500px; overflow: hidden; text-overflow: ellipsis; \">6.25e-02</td></tr>\n",
       "<tr><td style=\"white-space: nowrap; max-width: 500px; overflow: hidden; text-overflow: ellipsis; \">&quot;DCAF1&quot;</td><td style=\"white-space: nowrap; max-width: 500px; overflow: hidden; text-overflow: ellipsis; \">[&quot;A&quot;,&quot;T&quot;]</td><td style=\"white-space: nowrap; max-width: 500px; overflow: hidden; text-overflow: ellipsis; \">3.13e-02</td></tr>\n",
       "<tr><td style=\"white-space: nowrap; max-width: 500px; overflow: hidden; text-overflow: ellipsis; \">&quot;DOCK1&quot;</td><td style=\"white-space: nowrap; max-width: 500px; overflow: hidden; text-overflow: ellipsis; \">[&quot;J&quot;,&quot;S&quot;]</td><td style=\"white-space: nowrap; max-width: 500px; overflow: hidden; text-overflow: ellipsis; \">3.13e-02</td></tr>\n",
       "<tr><td style=\"white-space: nowrap; max-width: 500px; overflow: hidden; text-overflow: ellipsis; \">&quot;EPB41L3&quot;</td><td style=\"white-space: nowrap; max-width: 500px; overflow: hidden; text-overflow: ellipsis; \">[&quot;J&quot;,&quot;R&quot;]</td><td style=\"white-space: nowrap; max-width: 500px; overflow: hidden; text-overflow: ellipsis; \">3.13e-02</td></tr>\n",
       "<tr><td style=\"white-space: nowrap; max-width: 500px; overflow: hidden; text-overflow: ellipsis; \">&quot;EPHB1&quot;</td><td style=\"white-space: nowrap; max-width: 500px; overflow: hidden; text-overflow: ellipsis; \">[&quot;J&quot;,&quot;T&quot;]</td><td style=\"white-space: nowrap; max-width: 500px; overflow: hidden; text-overflow: ellipsis; \">1.25e-01</td></tr>\n",
       "<tr><td style=\"white-space: nowrap; max-width: 500px; overflow: hidden; text-overflow: ellipsis; \">&quot;ERBB4&quot;</td><td style=\"white-space: nowrap; max-width: 500px; overflow: hidden; text-overflow: ellipsis; \">[&quot;G&quot;,&quot;S&quot;]</td><td style=\"white-space: nowrap; max-width: 500px; overflow: hidden; text-overflow: ellipsis; \">3.13e-02</td></tr>\n",
       "<tr><td style=\"white-space: nowrap; max-width: 500px; overflow: hidden; text-overflow: ellipsis; \">&quot;FHIT&quot;</td><td style=\"white-space: nowrap; max-width: 500px; overflow: hidden; text-overflow: ellipsis; \">[&quot;A&quot;,&quot;X&quot;]</td><td style=\"white-space: nowrap; max-width: 500px; overflow: hidden; text-overflow: ellipsis; \">7.81e-03</td></tr>\n",
       "<tr><td style=\"white-space: nowrap; max-width: 500px; overflow: hidden; text-overflow: ellipsis; \">&quot;FLG-AS1&quot;</td><td style=\"white-space: nowrap; max-width: 500px; overflow: hidden; text-overflow: ellipsis; \">[&quot;H&quot;,&quot;T&quot;]</td><td style=\"white-space: nowrap; max-width: 500px; overflow: hidden; text-overflow: ellipsis; \">6.25e-02</td></tr>\n",
       "<tr><td style=\"white-space: nowrap; max-width: 500px; overflow: hidden; text-overflow: ellipsis; \">&quot;FN1&quot;</td><td style=\"white-space: nowrap; max-width: 500px; overflow: hidden; text-overflow: ellipsis; \">[&quot;E&quot;,&quot;H&quot;]</td><td style=\"white-space: nowrap; max-width: 500px; overflow: hidden; text-overflow: ellipsis; \">7.81e-03</td></tr>\n",
       "<tr><td style=\"white-space: nowrap; max-width: 500px; overflow: hidden; text-overflow: ellipsis; \">&quot;FRMD5&quot;</td><td style=\"white-space: nowrap; max-width: 500px; overflow: hidden; text-overflow: ellipsis; \">[&quot;A&quot;,&quot;T&quot;]</td><td style=\"white-space: nowrap; max-width: 500px; overflow: hidden; text-overflow: ellipsis; \">3.13e-02</td></tr>\n",
       "<tr><td style=\"white-space: nowrap; max-width: 500px; overflow: hidden; text-overflow: ellipsis; \">&quot;GALC&quot;</td><td style=\"white-space: nowrap; max-width: 500px; overflow: hidden; text-overflow: ellipsis; \">[&quot;G&quot;,&quot;H&quot;]</td><td style=\"white-space: nowrap; max-width: 500px; overflow: hidden; text-overflow: ellipsis; \">3.13e-02</td></tr>\n",
       "<tr><td style=\"white-space: nowrap; max-width: 500px; overflow: hidden; text-overflow: ellipsis; \">&quot;GALNTL6&quot;</td><td style=\"white-space: nowrap; max-width: 500px; overflow: hidden; text-overflow: ellipsis; \">[&quot;G&quot;,&quot;J&quot;]</td><td style=\"white-space: nowrap; max-width: 500px; overflow: hidden; text-overflow: ellipsis; \">6.25e-02</td></tr>\n",
       "<tr><td style=\"white-space: nowrap; max-width: 500px; overflow: hidden; text-overflow: ellipsis; \">&quot;GAPVD1&quot;</td><td style=\"white-space: nowrap; max-width: 500px; overflow: hidden; text-overflow: ellipsis; \">[&quot;G&quot;,&quot;X&quot;]</td><td style=\"white-space: nowrap; max-width: 500px; overflow: hidden; text-overflow: ellipsis; \">3.13e-02</td></tr>\n",
       "<tr><td style=\"white-space: nowrap; max-width: 500px; overflow: hidden; text-overflow: ellipsis; \">&quot;GOLPH3L&quot;</td><td style=\"white-space: nowrap; max-width: 500px; overflow: hidden; text-overflow: ellipsis; \">[&quot;G&quot;,&quot;H&quot;]</td><td style=\"white-space: nowrap; max-width: 500px; overflow: hidden; text-overflow: ellipsis; \">3.13e-02</td></tr>\n",
       "<tr><td style=\"white-space: nowrap; max-width: 500px; overflow: hidden; text-overflow: ellipsis; \">&quot;GRM8&quot;</td><td style=\"white-space: nowrap; max-width: 500px; overflow: hidden; text-overflow: ellipsis; \">[&quot;H&quot;,&quot;Y&quot;]</td><td style=\"white-space: nowrap; max-width: 500px; overflow: hidden; text-overflow: ellipsis; \">3.91e-03</td></tr>\n",
       "<tr><td style=\"white-space: nowrap; max-width: 500px; overflow: hidden; text-overflow: ellipsis; \">&quot;HPSE2&quot;</td><td style=\"white-space: nowrap; max-width: 500px; overflow: hidden; text-overflow: ellipsis; \">[&quot;S&quot;,&quot;X&quot;]</td><td style=\"white-space: nowrap; max-width: 500px; overflow: hidden; text-overflow: ellipsis; \">1.56e-02</td></tr>\n",
       "<tr><td style=\"white-space: nowrap; max-width: 500px; overflow: hidden; text-overflow: ellipsis; \">&quot;IGSF3&quot;</td><td style=\"white-space: nowrap; max-width: 500px; overflow: hidden; text-overflow: ellipsis; \">[&quot;A&quot;,&quot;T&quot;]</td><td style=\"white-space: nowrap; max-width: 500px; overflow: hidden; text-overflow: ellipsis; \">3.13e-02</td></tr>\n",
       "<tr><td style=\"white-space: nowrap; max-width: 500px; overflow: hidden; text-overflow: ellipsis; \">&quot;IQGAP2&quot;</td><td style=\"white-space: nowrap; max-width: 500px; overflow: hidden; text-overflow: ellipsis; \">[&quot;E&quot;,&quot;X&quot;]</td><td style=\"white-space: nowrap; max-width: 500px; overflow: hidden; text-overflow: ellipsis; \">7.81e-03</td></tr>\n",
       "<tr><td style=\"white-space: nowrap; max-width: 500px; overflow: hidden; text-overflow: ellipsis; \">&quot;ITPRID1&quot;</td><td style=\"white-space: nowrap; max-width: 500px; overflow: hidden; text-overflow: ellipsis; \">[&quot;G&quot;,&quot;H&quot;]</td><td style=\"white-space: nowrap; max-width: 500px; overflow: hidden; text-overflow: ellipsis; \">3.13e-02</td></tr>\n",
       "<tr><td style=\"white-space: nowrap; max-width: 500px; overflow: hidden; text-overflow: ellipsis; \">&quot;KCNMA1&quot;</td><td style=\"white-space: nowrap; max-width: 500px; overflow: hidden; text-overflow: ellipsis; \">[&quot;G&quot;,&quot;I&quot;]</td><td style=\"white-space: nowrap; max-width: 500px; overflow: hidden; text-overflow: ellipsis; \">1.57e-02</td></tr>\n",
       "<tr><td style=\"white-space: nowrap; max-width: 500px; overflow: hidden; text-overflow: ellipsis; \">&quot;KIAA1217&quot;</td><td style=\"white-space: nowrap; max-width: 500px; overflow: hidden; text-overflow: ellipsis; \">[&quot;H&quot;,&quot;T&quot;]</td><td style=\"white-space: nowrap; max-width: 500px; overflow: hidden; text-overflow: ellipsis; \">6.25e-02</td></tr>\n",
       "<tr><td style=\"white-space: nowrap; max-width: 500px; overflow: hidden; text-overflow: ellipsis; \">&quot;KIF13A&quot;</td><td style=\"white-space: nowrap; max-width: 500px; overflow: hidden; text-overflow: ellipsis; \">[&quot;E&quot;,&quot;G&quot;]</td><td style=\"white-space: nowrap; max-width: 500px; overflow: hidden; text-overflow: ellipsis; \">1.56e-02</td></tr>\n",
       "<tr><td style=\"white-space: nowrap; max-width: 500px; overflow: hidden; text-overflow: ellipsis; \">&quot;LINC00298&quot;</td><td style=\"white-space: nowrap; max-width: 500px; overflow: hidden; text-overflow: ellipsis; \">[&quot;J&quot;,&quot;T&quot;]</td><td style=\"white-space: nowrap; max-width: 500px; overflow: hidden; text-overflow: ellipsis; \">1.25e-01</td></tr>\n",
       "<tr><td style=\"white-space: nowrap; max-width: 500px; overflow: hidden; text-overflow: ellipsis; \">&quot;LINC01414&quot;</td><td style=\"white-space: nowrap; max-width: 500px; overflow: hidden; text-overflow: ellipsis; \">[&quot;A&quot;,&quot;J&quot;]</td><td style=\"white-space: nowrap; max-width: 500px; overflow: hidden; text-overflow: ellipsis; \">1.56e-02</td></tr>\n",
       "<tr><td style=\"white-space: nowrap; max-width: 500px; overflow: hidden; text-overflow: ellipsis; \">&quot;LINC02306&quot;</td><td style=\"white-space: nowrap; max-width: 500px; overflow: hidden; text-overflow: ellipsis; \">[&quot;H&quot;,&quot;J&quot;]</td><td style=\"white-space: nowrap; max-width: 500px; overflow: hidden; text-overflow: ellipsis; \">3.13e-02</td></tr>\n",
       "<tr><td style=\"white-space: nowrap; max-width: 500px; overflow: hidden; text-overflow: ellipsis; \">&quot;LINC02763&quot;</td><td style=\"white-space: nowrap; max-width: 500px; overflow: hidden; text-overflow: ellipsis; \">[&quot;S&quot;,&quot;T&quot;]</td><td style=\"white-space: nowrap; max-width: 500px; overflow: hidden; text-overflow: ellipsis; \">6.25e-02</td></tr>\n",
       "<tr><td style=\"white-space: nowrap; max-width: 500px; overflow: hidden; text-overflow: ellipsis; \">&quot;LRMDA&quot;</td><td style=\"white-space: nowrap; max-width: 500px; overflow: hidden; text-overflow: ellipsis; \">[&quot;H&quot;,&quot;J&quot;]</td><td style=\"white-space: nowrap; max-width: 500px; overflow: hidden; text-overflow: ellipsis; \">3.13e-02</td></tr>\n",
       "<tr><td style=\"white-space: nowrap; max-width: 500px; overflow: hidden; text-overflow: ellipsis; \">&quot;MAP3K13&quot;</td><td style=\"white-space: nowrap; max-width: 500px; overflow: hidden; text-overflow: ellipsis; \">[&quot;T&quot;,&quot;Y&quot;]</td><td style=\"white-space: nowrap; max-width: 500px; overflow: hidden; text-overflow: ellipsis; \">1.56e-02</td></tr>\n",
       "<tr><td style=\"white-space: nowrap; max-width: 500px; overflow: hidden; text-overflow: ellipsis; \">&quot;MAPKBP1&quot;</td><td style=\"white-space: nowrap; max-width: 500px; overflow: hidden; text-overflow: ellipsis; \">[&quot;A&quot;,&quot;C&quot;]</td><td style=\"white-space: nowrap; max-width: 500px; overflow: hidden; text-overflow: ellipsis; \">4.88e-04</td></tr>\n",
       "<tr><td style=\"white-space: nowrap; max-width: 500px; overflow: hidden; text-overflow: ellipsis; \">&quot;MAST4&quot;</td><td style=\"white-space: nowrap; max-width: 500px; overflow: hidden; text-overflow: ellipsis; \">[&quot;J&quot;,&quot;T&quot;]</td><td style=\"white-space: nowrap; max-width: 500px; overflow: hidden; text-overflow: ellipsis; \">1.25e-01</td></tr>\n",
       "<tr><td style=\"white-space: nowrap; max-width: 500px; overflow: hidden; text-overflow: ellipsis; \">&quot;MEIS2&quot;</td><td style=\"white-space: nowrap; max-width: 500px; overflow: hidden; text-overflow: ellipsis; \">[&quot;T&quot;,&quot;X&quot;]</td><td style=\"white-space: nowrap; max-width: 500px; overflow: hidden; text-overflow: ellipsis; \">6.25e-02</td></tr>\n",
       "<tr><td style=\"white-space: nowrap; max-width: 500px; overflow: hidden; text-overflow: ellipsis; \">&quot;MGMT&quot;</td><td style=\"white-space: nowrap; max-width: 500px; overflow: hidden; text-overflow: ellipsis; \">[&quot;J&quot;,&quot;X&quot;]</td><td style=\"white-space: nowrap; max-width: 500px; overflow: hidden; text-overflow: ellipsis; \">3.13e-02</td></tr>\n",
       "<tr><td style=\"white-space: nowrap; max-width: 500px; overflow: hidden; text-overflow: ellipsis; \">&quot;MIR99AHG&quot;</td><td style=\"white-space: nowrap; max-width: 500px; overflow: hidden; text-overflow: ellipsis; \">[&quot;G&quot;,&quot;J&quot;]</td><td style=\"white-space: nowrap; max-width: 500px; overflow: hidden; text-overflow: ellipsis; \">6.25e-02</td></tr>\n",
       "<tr><td style=\"white-space: nowrap; max-width: 500px; overflow: hidden; text-overflow: ellipsis; \">&quot;MTF1&quot;</td><td style=\"white-space: nowrap; max-width: 500px; overflow: hidden; text-overflow: ellipsis; \">[&quot;A&quot;,&quot;E&quot;]</td><td style=\"white-space: nowrap; max-width: 500px; overflow: hidden; text-overflow: ellipsis; \">3.91e-03</td></tr>\n",
       "<tr><td style=\"white-space: nowrap; max-width: 500px; overflow: hidden; text-overflow: ellipsis; \">&quot;NDRG2&quot;</td><td style=\"white-space: nowrap; max-width: 500px; overflow: hidden; text-overflow: ellipsis; \">[&quot;R&quot;,&quot;Y&quot;]</td><td style=\"white-space: nowrap; max-width: 500px; overflow: hidden; text-overflow: ellipsis; \">3.91e-03</td></tr>\n",
       "<tr><td style=\"white-space: nowrap; max-width: 500px; overflow: hidden; text-overflow: ellipsis; \">&quot;NLRP12&quot;</td><td style=\"white-space: nowrap; max-width: 500px; overflow: hidden; text-overflow: ellipsis; \">[&quot;G&quot;,&quot;I&quot;]</td><td style=\"white-space: nowrap; max-width: 500px; overflow: hidden; text-overflow: ellipsis; \">1.57e-02</td></tr>\n",
       "<tr><td style=\"white-space: nowrap; max-width: 500px; overflow: hidden; text-overflow: ellipsis; \">&quot;NOL4L&quot;</td><td style=\"white-space: nowrap; max-width: 500px; overflow: hidden; text-overflow: ellipsis; \">[&quot;G&quot;,&quot;T&quot;]</td><td style=\"white-space: nowrap; max-width: 500px; overflow: hidden; text-overflow: ellipsis; \">1.25e-01</td></tr>\n",
       "<tr><td style=\"white-space: nowrap; max-width: 500px; overflow: hidden; text-overflow: ellipsis; \">&quot;NPAS3&quot;</td><td style=\"white-space: nowrap; max-width: 500px; overflow: hidden; text-overflow: ellipsis; \">[&quot;U&quot;,&quot;X&quot;]</td><td style=\"white-space: nowrap; max-width: 500px; overflow: hidden; text-overflow: ellipsis; \">7.81e-03</td></tr>\n",
       "<tr><td style=\"white-space: nowrap; max-width: 500px; overflow: hidden; text-overflow: ellipsis; \">&quot;NR5A2&quot;</td><td style=\"white-space: nowrap; max-width: 500px; overflow: hidden; text-overflow: ellipsis; \">[&quot;G&quot;,&quot;H&quot;]</td><td style=\"white-space: nowrap; max-width: 500px; overflow: hidden; text-overflow: ellipsis; \">3.13e-02</td></tr>\n",
       "<tr><td style=\"white-space: nowrap; max-width: 500px; overflow: hidden; text-overflow: ellipsis; \">&quot;NRXN1&quot;</td><td style=\"white-space: nowrap; max-width: 500px; overflow: hidden; text-overflow: ellipsis; \">[&quot;E&quot;,&quot;J&quot;]</td><td style=\"white-space: nowrap; max-width: 500px; overflow: hidden; text-overflow: ellipsis; \">1.56e-02</td></tr>\n",
       "<tr><td style=\"white-space: nowrap; max-width: 500px; overflow: hidden; text-overflow: ellipsis; \">&quot;NRXN3&quot;</td><td style=\"white-space: nowrap; max-width: 500px; overflow: hidden; text-overflow: ellipsis; \">[&quot;G&quot;,&quot;T&quot;]</td><td style=\"white-space: nowrap; max-width: 500px; overflow: hidden; text-overflow: ellipsis; \">1.25e-01</td></tr>\n",
       "<tr><td style=\"white-space: nowrap; max-width: 500px; overflow: hidden; text-overflow: ellipsis; \">&quot;PIK3CG&quot;</td><td style=\"white-space: nowrap; max-width: 500px; overflow: hidden; text-overflow: ellipsis; \">[&quot;E&quot;,&quot;H&quot;]</td><td style=\"white-space: nowrap; max-width: 500px; overflow: hidden; text-overflow: ellipsis; \">7.81e-03</td></tr>\n",
       "<tr><td style=\"white-space: nowrap; max-width: 500px; overflow: hidden; text-overflow: ellipsis; \">&quot;PKN2-AS1&quot;</td><td style=\"white-space: nowrap; max-width: 500px; overflow: hidden; text-overflow: ellipsis; \">[&quot;G&quot;,&quot;X&quot;]</td><td style=\"white-space: nowrap; max-width: 500px; overflow: hidden; text-overflow: ellipsis; \">3.13e-02</td></tr>\n",
       "<tr><td style=\"white-space: nowrap; max-width: 500px; overflow: hidden; text-overflow: ellipsis; \">&quot;PLCE1&quot;</td><td style=\"white-space: nowrap; max-width: 500px; overflow: hidden; text-overflow: ellipsis; \">[&quot;H&quot;,&quot;S&quot;]</td><td style=\"white-space: nowrap; max-width: 500px; overflow: hidden; text-overflow: ellipsis; \">1.56e-02</td></tr>\n",
       "<tr><td style=\"white-space: nowrap; max-width: 500px; overflow: hidden; text-overflow: ellipsis; \">&quot;PLXNC1&quot;</td><td style=\"white-space: nowrap; max-width: 500px; overflow: hidden; text-overflow: ellipsis; \">[&quot;G&quot;,&quot;H&quot;]</td><td style=\"white-space: nowrap; max-width: 500px; overflow: hidden; text-overflow: ellipsis; \">3.13e-02</td></tr>\n",
       "<tr><td style=\"white-space: nowrap; max-width: 500px; overflow: hidden; text-overflow: ellipsis; \">&quot;PSD3&quot;</td><td style=\"white-space: nowrap; max-width: 500px; overflow: hidden; text-overflow: ellipsis; \">[&quot;I&quot;,&quot;R&quot;]</td><td style=\"white-space: nowrap; max-width: 500px; overflow: hidden; text-overflow: ellipsis; \">7.83e-03</td></tr>\n",
       "<tr><td style=\"white-space: nowrap; max-width: 500px; overflow: hidden; text-overflow: ellipsis; \">&quot;PTPN14&quot;</td><td style=\"white-space: nowrap; max-width: 500px; overflow: hidden; text-overflow: ellipsis; \">[&quot;I&quot;,&quot;R&quot;]</td><td style=\"white-space: nowrap; max-width: 500px; overflow: hidden; text-overflow: ellipsis; \">7.83e-03</td></tr>\n",
       "<tr><td style=\"white-space: nowrap; max-width: 500px; overflow: hidden; text-overflow: ellipsis; \">&quot;R3HDM1&quot;</td><td style=\"white-space: nowrap; max-width: 500px; overflow: hidden; text-overflow: ellipsis; \">[&quot;J&quot;,&quot;T&quot;]</td><td style=\"white-space: nowrap; max-width: 500px; overflow: hidden; text-overflow: ellipsis; \">1.25e-01</td></tr>\n",
       "<tr><td style=\"white-space: nowrap; max-width: 500px; overflow: hidden; text-overflow: ellipsis; \">&quot;RARB&quot;</td><td style=\"white-space: nowrap; max-width: 500px; overflow: hidden; text-overflow: ellipsis; \">[&quot;J&quot;,&quot;T&quot;]</td><td style=\"white-space: nowrap; max-width: 500px; overflow: hidden; text-overflow: ellipsis; \">1.25e-01</td></tr>\n",
       "<tr><td style=\"white-space: nowrap; max-width: 500px; overflow: hidden; text-overflow: ellipsis; \">&quot;RBFOX1&quot;</td><td style=\"white-space: nowrap; max-width: 500px; overflow: hidden; text-overflow: ellipsis; \">[&quot;J&quot;,&quot;T&quot;]</td><td style=\"white-space: nowrap; max-width: 500px; overflow: hidden; text-overflow: ellipsis; \">1.25e-01</td></tr>\n",
       "<tr><td style=\"white-space: nowrap; max-width: 500px; overflow: hidden; text-overflow: ellipsis; \">&quot;RBL2&quot;</td><td style=\"white-space: nowrap; max-width: 500px; overflow: hidden; text-overflow: ellipsis; \">[&quot;H&quot;,&quot;T&quot;]</td><td style=\"white-space: nowrap; max-width: 500px; overflow: hidden; text-overflow: ellipsis; \">6.25e-02</td></tr>\n",
       "<tr><td style=\"white-space: nowrap; max-width: 500px; overflow: hidden; text-overflow: ellipsis; \">&quot;RFX1&quot;</td><td style=\"white-space: nowrap; max-width: 500px; overflow: hidden; text-overflow: ellipsis; \">[&quot;H&quot;,&quot;X&quot;]</td><td style=\"white-space: nowrap; max-width: 500px; overflow: hidden; text-overflow: ellipsis; \">1.56e-02</td></tr>\n",
       "<tr><td style=\"white-space: nowrap; max-width: 500px; overflow: hidden; text-overflow: ellipsis; \">&quot;SATB2&quot;</td><td style=\"white-space: nowrap; max-width: 500px; overflow: hidden; text-overflow: ellipsis; \">[&quot;J&quot;,&quot;X&quot;]</td><td style=\"white-space: nowrap; max-width: 500px; overflow: hidden; text-overflow: ellipsis; \">3.13e-02</td></tr>\n",
       "<tr><td style=\"white-space: nowrap; max-width: 500px; overflow: hidden; text-overflow: ellipsis; \">&quot;SEMA4A&quot;</td><td style=\"white-space: nowrap; max-width: 500px; overflow: hidden; text-overflow: ellipsis; \">[&quot;J&quot;,&quot;T&quot;]</td><td style=\"white-space: nowrap; max-width: 500px; overflow: hidden; text-overflow: ellipsis; \">1.25e-01</td></tr>\n",
       "<tr><td style=\"white-space: nowrap; max-width: 500px; overflow: hidden; text-overflow: ellipsis; \">&quot;SHROOM3&quot;</td><td style=\"white-space: nowrap; max-width: 500px; overflow: hidden; text-overflow: ellipsis; \">[&quot;S&quot;,&quot;T&quot;]</td><td style=\"white-space: nowrap; max-width: 500px; overflow: hidden; text-overflow: ellipsis; \">6.25e-02</td></tr>\n",
       "<tr><td style=\"white-space: nowrap; max-width: 500px; overflow: hidden; text-overflow: ellipsis; \">&quot;SLC17A8&quot;</td><td style=\"white-space: nowrap; max-width: 500px; overflow: hidden; text-overflow: ellipsis; \">[&quot;G&quot;,&quot;T&quot;]</td><td style=\"white-space: nowrap; max-width: 500px; overflow: hidden; text-overflow: ellipsis; \">1.25e-01</td></tr>\n",
       "<tr><td style=\"white-space: nowrap; max-width: 500px; overflow: hidden; text-overflow: ellipsis; \">&quot;SNX19&quot;</td><td style=\"white-space: nowrap; max-width: 500px; overflow: hidden; text-overflow: ellipsis; \">[&quot;T&quot;,&quot;X&quot;]</td><td style=\"white-space: nowrap; max-width: 500px; overflow: hidden; text-overflow: ellipsis; \">6.25e-02</td></tr>\n",
       "<tr><td style=\"white-space: nowrap; max-width: 500px; overflow: hidden; text-overflow: ellipsis; \">&quot;SORCS1&quot;</td><td style=\"white-space: nowrap; max-width: 500px; overflow: hidden; text-overflow: ellipsis; \">[&quot;H&quot;,&quot;S&quot;]</td><td style=\"white-space: nowrap; max-width: 500px; overflow: hidden; text-overflow: ellipsis; \">1.56e-02</td></tr>\n",
       "<tr><td style=\"white-space: nowrap; max-width: 500px; overflow: hidden; text-overflow: ellipsis; \">&quot;SOX5&quot;</td><td style=\"white-space: nowrap; max-width: 500px; overflow: hidden; text-overflow: ellipsis; \">[&quot;G&quot;,&quot;J&quot;]</td><td style=\"white-space: nowrap; max-width: 500px; overflow: hidden; text-overflow: ellipsis; \">6.25e-02</td></tr>\n",
       "<tr><td style=\"white-space: nowrap; max-width: 500px; overflow: hidden; text-overflow: ellipsis; \">&quot;SPATS2L&quot;</td><td style=\"white-space: nowrap; max-width: 500px; overflow: hidden; text-overflow: ellipsis; \">[&quot;G&quot;,&quot;H&quot;]</td><td style=\"white-space: nowrap; max-width: 500px; overflow: hidden; text-overflow: ellipsis; \">3.13e-02</td></tr>\n",
       "<tr><td style=\"white-space: nowrap; max-width: 500px; overflow: hidden; text-overflow: ellipsis; \">&quot;SRRM2&quot;</td><td style=\"white-space: nowrap; max-width: 500px; overflow: hidden; text-overflow: ellipsis; \">[&quot;T&quot;,&quot;X&quot;]</td><td style=\"white-space: nowrap; max-width: 500px; overflow: hidden; text-overflow: ellipsis; \">6.25e-02</td></tr>\n",
       "<tr><td style=\"white-space: nowrap; max-width: 500px; overflow: hidden; text-overflow: ellipsis; \">&quot;STX17-AS1&quot;</td><td style=\"white-space: nowrap; max-width: 500px; overflow: hidden; text-overflow: ellipsis; \">[&quot;G&quot;,&quot;X&quot;]</td><td style=\"white-space: nowrap; max-width: 500px; overflow: hidden; text-overflow: ellipsis; \">3.13e-02</td></tr>\n",
       "<tr><td style=\"white-space: nowrap; max-width: 500px; overflow: hidden; text-overflow: ellipsis; \">&quot;SUMF1&quot;</td><td style=\"white-space: nowrap; max-width: 500px; overflow: hidden; text-overflow: ellipsis; \">[&quot;E&quot;,&quot;J&quot;]</td><td style=\"white-space: nowrap; max-width: 500px; overflow: hidden; text-overflow: ellipsis; \">1.56e-02</td></tr>\n",
       "<tr><td style=\"white-space: nowrap; max-width: 500px; overflow: hidden; text-overflow: ellipsis; \">&quot;TENM2&quot;</td><td style=\"white-space: nowrap; max-width: 500px; overflow: hidden; text-overflow: ellipsis; \">[&quot;J&quot;,&quot;T&quot;]</td><td style=\"white-space: nowrap; max-width: 500px; overflow: hidden; text-overflow: ellipsis; \">1.25e-01</td></tr>\n",
       "<tr><td style=\"white-space: nowrap; max-width: 500px; overflow: hidden; text-overflow: ellipsis; \">&quot;TLL2&quot;</td><td style=\"white-space: nowrap; max-width: 500px; overflow: hidden; text-overflow: ellipsis; \">[&quot;J&quot;,&quot;X&quot;]</td><td style=\"white-space: nowrap; max-width: 500px; overflow: hidden; text-overflow: ellipsis; \">3.13e-02</td></tr>\n",
       "<tr><td style=\"white-space: nowrap; max-width: 500px; overflow: hidden; text-overflow: ellipsis; \">&quot;TMEM63B&quot;</td><td style=\"white-space: nowrap; max-width: 500px; overflow: hidden; text-overflow: ellipsis; \">[&quot;D&quot;,&quot;J&quot;]</td><td style=\"white-space: nowrap; max-width: 500px; overflow: hidden; text-overflow: ellipsis; \">3.90e-03</td></tr>\n",
       "<tr><td style=\"white-space: nowrap; max-width: 500px; overflow: hidden; text-overflow: ellipsis; \">&quot;TPPP2&quot;</td><td style=\"white-space: nowrap; max-width: 500px; overflow: hidden; text-overflow: ellipsis; \">[&quot;R&quot;,&quot;Y&quot;]</td><td style=\"white-space: nowrap; max-width: 500px; overflow: hidden; text-overflow: ellipsis; \">3.91e-03</td></tr>\n",
       "<tr><td style=\"white-space: nowrap; max-width: 500px; overflow: hidden; text-overflow: ellipsis; \">&quot;TRAPPC8&quot;</td><td style=\"white-space: nowrap; max-width: 500px; overflow: hidden; text-overflow: ellipsis; \">[&quot;E&quot;,&quot;T&quot;]</td><td style=\"white-space: nowrap; max-width: 500px; overflow: hidden; text-overflow: ellipsis; \">3.13e-02</td></tr>\n",
       "<tr><td style=\"white-space: nowrap; max-width: 500px; overflow: hidden; text-overflow: ellipsis; \">&quot;TTN&quot;</td><td style=\"white-space: nowrap; max-width: 500px; overflow: hidden; text-overflow: ellipsis; \">[&quot;J&quot;,&quot;S&quot;]</td><td style=\"white-space: nowrap; max-width: 500px; overflow: hidden; text-overflow: ellipsis; \">3.13e-02</td></tr>\n",
       "<tr><td style=\"white-space: nowrap; max-width: 500px; overflow: hidden; text-overflow: ellipsis; \">&quot;TTN-AS1&quot;</td><td style=\"white-space: nowrap; max-width: 500px; overflow: hidden; text-overflow: ellipsis; \">[&quot;J&quot;,&quot;S&quot;]</td><td style=\"white-space: nowrap; max-width: 500px; overflow: hidden; text-overflow: ellipsis; \">3.13e-02</td></tr>\n",
       "<tr><td style=\"white-space: nowrap; max-width: 500px; overflow: hidden; text-overflow: ellipsis; \">&quot;XKR7&quot;</td><td style=\"white-space: nowrap; max-width: 500px; overflow: hidden; text-overflow: ellipsis; \">[&quot;J&quot;,&quot;T&quot;]</td><td style=\"white-space: nowrap; max-width: 500px; overflow: hidden; text-overflow: ellipsis; \">1.25e-01</td></tr>\n",
       "<tr><td style=\"white-space: nowrap; max-width: 500px; overflow: hidden; text-overflow: ellipsis; \">&quot;ZNF148&quot;</td><td style=\"white-space: nowrap; max-width: 500px; overflow: hidden; text-overflow: ellipsis; \">[&quot;D&quot;,&quot;T&quot;]</td><td style=\"white-space: nowrap; max-width: 500px; overflow: hidden; text-overflow: ellipsis; \">7.80e-03</td></tr>\n",
       "<tr><td style=\"white-space: nowrap; max-width: 500px; overflow: hidden; text-overflow: ellipsis; \">&quot;ZNF407&quot;</td><td style=\"white-space: nowrap; max-width: 500px; overflow: hidden; text-overflow: ellipsis; \">[&quot;R&quot;,&quot;X&quot;]</td><td style=\"white-space: nowrap; max-width: 500px; overflow: hidden; text-overflow: ellipsis; \">1.56e-02</td></tr>\n",
       "<tr><td style=\"white-space: nowrap; max-width: 500px; overflow: hidden; text-overflow: ellipsis; \">&quot;ZNF521&quot;</td><td style=\"white-space: nowrap; max-width: 500px; overflow: hidden; text-overflow: ellipsis; \">[&quot;E&quot;,&quot;G&quot;]</td><td style=\"white-space: nowrap; max-width: 500px; overflow: hidden; text-overflow: ellipsis; \">1.56e-02</td></tr>\n",
       "</tbody></table>"
      ],
      "text/plain": [
       "+--------------+--------------+----------+\n",
       "| within_gene  | fams_non_ref |    p_seg |\n",
       "+--------------+--------------+----------+\n",
       "| str          | array<str>   |  float64 |\n",
       "+--------------+--------------+----------+\n",
       "| \"AC007402.1\" | [\"E\",\"J\"]    | 1.56e-02 |\n",
       "| \"AC007656.2\" | [\"U\",\"X\"]    | 7.81e-03 |\n",
       "| \"AC008691.1\" | [\"T\",\"U\"]    | 3.13e-02 |\n",
       "| \"AC046130.1\" | [\"G\",\"J\"]    | 6.25e-02 |\n",
       "| \"AC090912.1\" | [\"E\",\"J\"]    | 1.56e-02 |\n",
       "| \"AC090912.2\" | [\"E\",\"J\"]    | 1.56e-02 |\n",
       "| \"AC092844.1\" | [\"S\",\"X\"]    | 1.56e-02 |\n",
       "| \"AC092957.1\" | [\"H\",\"I\"]    | 7.83e-03 |\n",
       "| \"ADAMTSL1\"   | [\"A\",\"Y\"]    | 1.95e-03 |\n",
       "| \"ADGRL3\"     | [\"H\",\"J\"]    | 3.13e-02 |\n",
       "| \"AL157944.1\" | [\"A\",\"I\"]    | 3.91e-03 |\n",
       "| \"AL356534.1\" | [\"G\",\"J\"]    | 6.25e-02 |\n",
       "| \"AL357146.1\" | [\"H\",\"T\"]    | 6.25e-02 |\n",
       "| \"AL589740.1\" | [\"T\",\"Y\"]    | 1.56e-02 |\n",
       "| \"ALK\"        | [\"R\",\"U\"]    | 7.81e-03 |\n",
       "| \"AP000695.2\" | [\"E\",\"G\"]    | 1.56e-02 |\n",
       "| \"AQP4-AS1\"   | [\"E\",\"G\"]    | 1.56e-02 |\n",
       "| \"BNC2\"       | [\"A\",\"T\"]    | 3.13e-02 |\n",
       "| \"BSN\"        | [\"D\",\"J\"]    | 3.90e-03 |\n",
       "| \"BTBD9\"      | [\"H\",\"X\"]    | 1.56e-02 |\n",
       "| \"CACNA1C\"    | [\"H\",\"X\"]    | 1.56e-02 |\n",
       "| \"CACNA2D2\"   | [\"J\",\"T\"]    | 1.25e-01 |\n",
       "| \"CAMTA1\"     | [\"J\",\"T\"]    | 1.25e-01 |\n",
       "| \"CASZ1\"      | [\"I\",\"J\"]    | 1.57e-02 |\n",
       "| \"CCDC148\"    | [\"J\",\"T\"]    | 1.25e-01 |\n",
       "| \"CCDC171\"    | [\"A\",\"Y\"]    | 1.95e-03 |\n",
       "| \"CDH22\"      | [\"T\",\"Y\"]    | 1.56e-02 |\n",
       "| \"CDH23\"      | [\"D\",\"J\"]    | 3.90e-03 |\n",
       "| \"CEP112\"     | [\"U\",\"X\"]    | 7.81e-03 |\n",
       "| \"CLDN14\"     | [\"E\",\"G\"]    | 1.56e-02 |\n",
       "| \"CNTN4\"      | [\"E\",\"T\"]    | 3.13e-02 |\n",
       "| \"CNTNAP5\"    | [\"H\",\"S\"]    | 1.56e-02 |\n",
       "| \"COL12A1\"    | [\"T\",\"Y\"]    | 1.56e-02 |\n",
       "| \"COL25A1\"    | [\"H\",\"J\"]    | 3.13e-02 |\n",
       "| \"COLQ\"       | [\"H\",\"J\"]    | 3.13e-02 |\n",
       "| \"CREM\"       | [\"H\",\"T\"]    | 6.25e-02 |\n",
       "| \"DCAF1\"      | [\"A\",\"T\"]    | 3.13e-02 |\n",
       "| \"DOCK1\"      | [\"J\",\"S\"]    | 3.13e-02 |\n",
       "| \"EPB41L3\"    | [\"J\",\"R\"]    | 3.13e-02 |\n",
       "| \"EPHB1\"      | [\"J\",\"T\"]    | 1.25e-01 |\n",
       "| \"ERBB4\"      | [\"G\",\"S\"]    | 3.13e-02 |\n",
       "| \"FHIT\"       | [\"A\",\"X\"]    | 7.81e-03 |\n",
       "| \"FLG-AS1\"    | [\"H\",\"T\"]    | 6.25e-02 |\n",
       "| \"FN1\"        | [\"E\",\"H\"]    | 7.81e-03 |\n",
       "| \"FRMD5\"      | [\"A\",\"T\"]    | 3.13e-02 |\n",
       "| \"GALC\"       | [\"G\",\"H\"]    | 3.13e-02 |\n",
       "| \"GALNTL6\"    | [\"G\",\"J\"]    | 6.25e-02 |\n",
       "| \"GAPVD1\"     | [\"G\",\"X\"]    | 3.13e-02 |\n",
       "| \"GOLPH3L\"    | [\"G\",\"H\"]    | 3.13e-02 |\n",
       "| \"GRM8\"       | [\"H\",\"Y\"]    | 3.91e-03 |\n",
       "| \"HPSE2\"      | [\"S\",\"X\"]    | 1.56e-02 |\n",
       "| \"IGSF3\"      | [\"A\",\"T\"]    | 3.13e-02 |\n",
       "| \"IQGAP2\"     | [\"E\",\"X\"]    | 7.81e-03 |\n",
       "| \"ITPRID1\"    | [\"G\",\"H\"]    | 3.13e-02 |\n",
       "| \"KCNMA1\"     | [\"G\",\"I\"]    | 1.57e-02 |\n",
       "| \"KIAA1217\"   | [\"H\",\"T\"]    | 6.25e-02 |\n",
       "| \"KIF13A\"     | [\"E\",\"G\"]    | 1.56e-02 |\n",
       "| \"LINC00298\"  | [\"J\",\"T\"]    | 1.25e-01 |\n",
       "| \"LINC01414\"  | [\"A\",\"J\"]    | 1.56e-02 |\n",
       "| \"LINC02306\"  | [\"H\",\"J\"]    | 3.13e-02 |\n",
       "| \"LINC02763\"  | [\"S\",\"T\"]    | 6.25e-02 |\n",
       "| \"LRMDA\"      | [\"H\",\"J\"]    | 3.13e-02 |\n",
       "| \"MAP3K13\"    | [\"T\",\"Y\"]    | 1.56e-02 |\n",
       "| \"MAPKBP1\"    | [\"A\",\"C\"]    | 4.88e-04 |\n",
       "| \"MAST4\"      | [\"J\",\"T\"]    | 1.25e-01 |\n",
       "| \"MEIS2\"      | [\"T\",\"X\"]    | 6.25e-02 |\n",
       "| \"MGMT\"       | [\"J\",\"X\"]    | 3.13e-02 |\n",
       "| \"MIR99AHG\"   | [\"G\",\"J\"]    | 6.25e-02 |\n",
       "| \"MTF1\"       | [\"A\",\"E\"]    | 3.91e-03 |\n",
       "| \"NDRG2\"      | [\"R\",\"Y\"]    | 3.91e-03 |\n",
       "| \"NLRP12\"     | [\"G\",\"I\"]    | 1.57e-02 |\n",
       "| \"NOL4L\"      | [\"G\",\"T\"]    | 1.25e-01 |\n",
       "| \"NPAS3\"      | [\"U\",\"X\"]    | 7.81e-03 |\n",
       "| \"NR5A2\"      | [\"G\",\"H\"]    | 3.13e-02 |\n",
       "| \"NRXN1\"      | [\"E\",\"J\"]    | 1.56e-02 |\n",
       "| \"NRXN3\"      | [\"G\",\"T\"]    | 1.25e-01 |\n",
       "| \"PIK3CG\"     | [\"E\",\"H\"]    | 7.81e-03 |\n",
       "| \"PKN2-AS1\"   | [\"G\",\"X\"]    | 3.13e-02 |\n",
       "| \"PLCE1\"      | [\"H\",\"S\"]    | 1.56e-02 |\n",
       "| \"PLXNC1\"     | [\"G\",\"H\"]    | 3.13e-02 |\n",
       "| \"PSD3\"       | [\"I\",\"R\"]    | 7.83e-03 |\n",
       "| \"PTPN14\"     | [\"I\",\"R\"]    | 7.83e-03 |\n",
       "| \"R3HDM1\"     | [\"J\",\"T\"]    | 1.25e-01 |\n",
       "| \"RARB\"       | [\"J\",\"T\"]    | 1.25e-01 |\n",
       "| \"RBFOX1\"     | [\"J\",\"T\"]    | 1.25e-01 |\n",
       "| \"RBL2\"       | [\"H\",\"T\"]    | 6.25e-02 |\n",
       "| \"RFX1\"       | [\"H\",\"X\"]    | 1.56e-02 |\n",
       "| \"SATB2\"      | [\"J\",\"X\"]    | 3.13e-02 |\n",
       "| \"SEMA4A\"     | [\"J\",\"T\"]    | 1.25e-01 |\n",
       "| \"SHROOM3\"    | [\"S\",\"T\"]    | 6.25e-02 |\n",
       "| \"SLC17A8\"    | [\"G\",\"T\"]    | 1.25e-01 |\n",
       "| \"SNX19\"      | [\"T\",\"X\"]    | 6.25e-02 |\n",
       "| \"SORCS1\"     | [\"H\",\"S\"]    | 1.56e-02 |\n",
       "| \"SOX5\"       | [\"G\",\"J\"]    | 6.25e-02 |\n",
       "| \"SPATS2L\"    | [\"G\",\"H\"]    | 3.13e-02 |\n",
       "| \"SRRM2\"      | [\"T\",\"X\"]    | 6.25e-02 |\n",
       "| \"STX17-AS1\"  | [\"G\",\"X\"]    | 3.13e-02 |\n",
       "| \"SUMF1\"      | [\"E\",\"J\"]    | 1.56e-02 |\n",
       "| \"TENM2\"      | [\"J\",\"T\"]    | 1.25e-01 |\n",
       "| \"TLL2\"       | [\"J\",\"X\"]    | 3.13e-02 |\n",
       "| \"TMEM63B\"    | [\"D\",\"J\"]    | 3.90e-03 |\n",
       "| \"TPPP2\"      | [\"R\",\"Y\"]    | 3.91e-03 |\n",
       "| \"TRAPPC8\"    | [\"E\",\"T\"]    | 3.13e-02 |\n",
       "| \"TTN\"        | [\"J\",\"S\"]    | 3.13e-02 |\n",
       "| \"TTN-AS1\"    | [\"J\",\"S\"]    | 3.13e-02 |\n",
       "| \"XKR7\"       | [\"J\",\"T\"]    | 1.25e-01 |\n",
       "| \"ZNF148\"     | [\"D\",\"T\"]    | 7.80e-03 |\n",
       "| \"ZNF407\"     | [\"R\",\"X\"]    | 1.56e-02 |\n",
       "| \"ZNF521\"     | [\"E\",\"G\"]    | 1.56e-02 |\n",
       "+--------------+--------------+----------+"
      ]
     },
     "metadata": {},
     "output_type": "display_data"
    }
   ],
   "source": [
    "fams_ur.filter(hl.len(fams_ur.fams_non_ref) == 2).show(n_rows=150)"
   ]
  },
  {
   "cell_type": "code",
   "execution_count": 71,
   "metadata": {
    "collapsed": true,
    "jupyter": {
     "outputs_hidden": true
    },
    "tags": []
   },
   "outputs": [
    {
     "name": "stderr",
     "output_type": "stream",
     "text": [
      "2023-03-01 22:13:17.321 Hail: INFO: Ordering unsorted dataset with network shuffle\n",
      "2023-03-01 22:13:17.527 Hail: INFO: Ordering unsorted dataset with network shuffle\n"
     ]
    },
    {
     "data": {
      "text/html": [
       "<table><thead><tr><td style=\"white-space: nowrap; max-width: 500px; overflow: hidden; text-overflow: ellipsis; \" colspan=\"1\"><div style=\"text-align: left;\"></div></td><td style=\"white-space: nowrap; max-width: 500px; overflow: hidden; text-overflow: ellipsis; \" colspan=\"1\"><div style=\"text-align: left;\"></div></td><td style=\"white-space: nowrap; max-width: 500px; overflow: hidden; text-overflow: ellipsis; \" colspan=\"1\"><div style=\"text-align: left;\"></div></td></tr><tr><td style=\"white-space: nowrap; max-width: 500px; overflow: hidden; text-overflow: ellipsis; \" colspan=\"1\"><div style=\"text-align: left;border-bottom: solid 2px #000; padding-bottom: 5px\">within_gene</div></td><td style=\"white-space: nowrap; max-width: 500px; overflow: hidden; text-overflow: ellipsis; \" colspan=\"1\"><div style=\"text-align: left;border-bottom: solid 2px #000; padding-bottom: 5px\">fams_non_ref</div></td><td style=\"white-space: nowrap; max-width: 500px; overflow: hidden; text-overflow: ellipsis; \" colspan=\"1\"><div style=\"text-align: left;border-bottom: solid 2px #000; padding-bottom: 5px\">p_seg</div></td></tr><tr><td style=\"white-space: nowrap; max-width: 500px; overflow: hidden; text-overflow: ellipsis; text-align: left;\">str</td><td style=\"white-space: nowrap; max-width: 500px; overflow: hidden; text-overflow: ellipsis; text-align: left;\">array&lt;str&gt;</td><td style=\"white-space: nowrap; max-width: 500px; overflow: hidden; text-overflow: ellipsis; text-align: left;\">float64</td></tr>\n",
       "</thead><tbody><tr><td style=\"white-space: nowrap; max-width: 500px; overflow: hidden; text-overflow: ellipsis; \">&quot;ANKS1B&quot;</td><td style=\"white-space: nowrap; max-width: 500px; overflow: hidden; text-overflow: ellipsis; \">[&quot;T&quot;,&quot;U&quot;,&quot;X&quot;]</td><td style=\"white-space: nowrap; max-width: 500px; overflow: hidden; text-overflow: ellipsis; \">3.91e-03</td></tr>\n",
       "<tr><td style=\"white-space: nowrap; max-width: 500px; overflow: hidden; text-overflow: ellipsis; \">&quot;EBF1&quot;</td><td style=\"white-space: nowrap; max-width: 500px; overflow: hidden; text-overflow: ellipsis; \">[&quot;J&quot;,&quot;U&quot;,&quot;X&quot;]</td><td style=\"white-space: nowrap; max-width: 500px; overflow: hidden; text-overflow: ellipsis; \">1.95e-03</td></tr>\n",
       "<tr><td style=\"white-space: nowrap; max-width: 500px; overflow: hidden; text-overflow: ellipsis; \">&quot;ESRRG&quot;</td><td style=\"white-space: nowrap; max-width: 500px; overflow: hidden; text-overflow: ellipsis; \">[&quot;G&quot;,&quot;H&quot;,&quot;X&quot;]</td><td style=\"white-space: nowrap; max-width: 500px; overflow: hidden; text-overflow: ellipsis; \">3.91e-03</td></tr>\n",
       "<tr><td style=\"white-space: nowrap; max-width: 500px; overflow: hidden; text-overflow: ellipsis; \">&quot;OPCML&quot;</td><td style=\"white-space: nowrap; max-width: 500px; overflow: hidden; text-overflow: ellipsis; \">[&quot;H&quot;,&quot;S&quot;,&quot;T&quot;]</td><td style=\"white-space: nowrap; max-width: 500px; overflow: hidden; text-overflow: ellipsis; \">7.81e-03</td></tr>\n",
       "<tr><td style=\"white-space: nowrap; max-width: 500px; overflow: hidden; text-overflow: ellipsis; \">&quot;PKP4&quot;</td><td style=\"white-space: nowrap; max-width: 500px; overflow: hidden; text-overflow: ellipsis; \">[&quot;F&quot;,&quot;J&quot;,&quot;T&quot;]</td><td style=\"white-space: nowrap; max-width: 500px; overflow: hidden; text-overflow: ellipsis; \">9.75e-04</td></tr>\n",
       "<tr><td style=\"white-space: nowrap; max-width: 500px; overflow: hidden; text-overflow: ellipsis; \">&quot;PRKG1&quot;</td><td style=\"white-space: nowrap; max-width: 500px; overflow: hidden; text-overflow: ellipsis; \">[&quot;E&quot;,&quot;H&quot;,&quot;I&quot;]</td><td style=\"white-space: nowrap; max-width: 500px; overflow: hidden; text-overflow: ellipsis; \">4.89e-04</td></tr>\n",
       "<tr><td style=\"white-space: nowrap; max-width: 500px; overflow: hidden; text-overflow: ellipsis; \">&quot;PTPRD&quot;</td><td style=\"white-space: nowrap; max-width: 500px; overflow: hidden; text-overflow: ellipsis; \">[&quot;G&quot;,&quot;T&quot;,&quot;X&quot;]</td><td style=\"white-space: nowrap; max-width: 500px; overflow: hidden; text-overflow: ellipsis; \">1.56e-02</td></tr>\n",
       "<tr><td style=\"white-space: nowrap; max-width: 500px; overflow: hidden; text-overflow: ellipsis; \">&quot;RASAL2&quot;</td><td style=\"white-space: nowrap; max-width: 500px; overflow: hidden; text-overflow: ellipsis; \">[&quot;H&quot;,&quot;J&quot;,&quot;X&quot;]</td><td style=\"white-space: nowrap; max-width: 500px; overflow: hidden; text-overflow: ellipsis; \">3.91e-03</td></tr>\n",
       "<tr><td style=\"white-space: nowrap; max-width: 500px; overflow: hidden; text-overflow: ellipsis; \">&quot;TPRG1&quot;</td><td style=\"white-space: nowrap; max-width: 500px; overflow: hidden; text-overflow: ellipsis; \">[&quot;D&quot;,&quot;H&quot;,&quot;J&quot;]</td><td style=\"white-space: nowrap; max-width: 500px; overflow: hidden; text-overflow: ellipsis; \">4.88e-04</td></tr>\n",
       "<tr><td style=\"white-space: nowrap; max-width: 500px; overflow: hidden; text-overflow: ellipsis; \">&quot;WWOX&quot;</td><td style=\"white-space: nowrap; max-width: 500px; overflow: hidden; text-overflow: ellipsis; \">[&quot;I&quot;,&quot;J&quot;,&quot;X&quot;]</td><td style=\"white-space: nowrap; max-width: 500px; overflow: hidden; text-overflow: ellipsis; \">1.96e-03</td></tr>\n",
       "<tr><td style=\"white-space: nowrap; max-width: 500px; overflow: hidden; text-overflow: ellipsis; \">&quot;ZBTB20&quot;</td><td style=\"white-space: nowrap; max-width: 500px; overflow: hidden; text-overflow: ellipsis; \">[&quot;H&quot;,&quot;T&quot;,&quot;X&quot;]</td><td style=\"white-space: nowrap; max-width: 500px; overflow: hidden; text-overflow: ellipsis; \">7.81e-03</td></tr>\n",
       "</tbody></table>"
      ],
      "text/plain": [
       "+-------------+---------------+----------+\n",
       "| within_gene | fams_non_ref  |    p_seg |\n",
       "+-------------+---------------+----------+\n",
       "| str         | array<str>    |  float64 |\n",
       "+-------------+---------------+----------+\n",
       "| \"ANKS1B\"    | [\"T\",\"U\",\"X\"] | 3.91e-03 |\n",
       "| \"EBF1\"      | [\"J\",\"U\",\"X\"] | 1.95e-03 |\n",
       "| \"ESRRG\"     | [\"G\",\"H\",\"X\"] | 3.91e-03 |\n",
       "| \"OPCML\"     | [\"H\",\"S\",\"T\"] | 7.81e-03 |\n",
       "| \"PKP4\"      | [\"F\",\"J\",\"T\"] | 9.75e-04 |\n",
       "| \"PRKG1\"     | [\"E\",\"H\",\"I\"] | 4.89e-04 |\n",
       "| \"PTPRD\"     | [\"G\",\"T\",\"X\"] | 1.56e-02 |\n",
       "| \"RASAL2\"    | [\"H\",\"J\",\"X\"] | 3.91e-03 |\n",
       "| \"TPRG1\"     | [\"D\",\"H\",\"J\"] | 4.88e-04 |\n",
       "| \"WWOX\"      | [\"I\",\"J\",\"X\"] | 1.96e-03 |\n",
       "| \"ZBTB20\"    | [\"H\",\"T\",\"X\"] | 7.81e-03 |\n",
       "+-------------+---------------+----------+"
      ]
     },
     "metadata": {},
     "output_type": "display_data"
    }
   ],
   "source": [
    "fams_ur.filter(hl.len(fams_ur.fams_non_ref) == 3).show(n_rows=150)"
   ]
  },
  {
   "cell_type": "code",
   "execution_count": 72,
   "metadata": {
    "collapsed": true,
    "jupyter": {
     "outputs_hidden": true
    },
    "tags": []
   },
   "outputs": [
    {
     "name": "stderr",
     "output_type": "stream",
     "text": [
      "2023-03-01 22:13:58.333 Hail: INFO: Ordering unsorted dataset with network shuffle\n",
      "2023-03-01 22:13:58.541 Hail: INFO: Ordering unsorted dataset with network shuffle\n"
     ]
    },
    {
     "data": {
      "text/html": [
       "<table><thead><tr><td style=\"white-space: nowrap; max-width: 500px; overflow: hidden; text-overflow: ellipsis; \" colspan=\"1\"><div style=\"text-align: left;\"></div></td><td style=\"white-space: nowrap; max-width: 500px; overflow: hidden; text-overflow: ellipsis; \" colspan=\"1\"><div style=\"text-align: left;\"></div></td><td style=\"white-space: nowrap; max-width: 500px; overflow: hidden; text-overflow: ellipsis; \" colspan=\"1\"><div style=\"text-align: left;\"></div></td></tr><tr><td style=\"white-space: nowrap; max-width: 500px; overflow: hidden; text-overflow: ellipsis; \" colspan=\"1\"><div style=\"text-align: left;border-bottom: solid 2px #000; padding-bottom: 5px\">within_gene</div></td><td style=\"white-space: nowrap; max-width: 500px; overflow: hidden; text-overflow: ellipsis; \" colspan=\"1\"><div style=\"text-align: left;border-bottom: solid 2px #000; padding-bottom: 5px\">fams_non_ref</div></td><td style=\"white-space: nowrap; max-width: 500px; overflow: hidden; text-overflow: ellipsis; \" colspan=\"1\"><div style=\"text-align: left;border-bottom: solid 2px #000; padding-bottom: 5px\">p_seg</div></td></tr><tr><td style=\"white-space: nowrap; max-width: 500px; overflow: hidden; text-overflow: ellipsis; text-align: left;\">str</td><td style=\"white-space: nowrap; max-width: 500px; overflow: hidden; text-overflow: ellipsis; text-align: left;\">array&lt;str&gt;</td><td style=\"white-space: nowrap; max-width: 500px; overflow: hidden; text-overflow: ellipsis; text-align: left;\">float64</td></tr>\n",
       "</thead><tbody><tr><td style=\"white-space: nowrap; max-width: 500px; overflow: hidden; text-overflow: ellipsis; \">&quot;MACROD2&quot;</td><td style=\"white-space: nowrap; max-width: 500px; overflow: hidden; text-overflow: ellipsis; \">[&quot;D&quot;,&quot;G&quot;,&quot;I&quot;,&quot;T&quot;]</td><td style=\"white-space: nowrap; max-width: 500px; overflow: hidden; text-overflow: ellipsis; \">1.22e-04</td></tr>\n",
       "<tr><td style=\"white-space: nowrap; max-width: 500px; overflow: hidden; text-overflow: ellipsis; \">&quot;ROBO2&quot;</td><td style=\"white-space: nowrap; max-width: 500px; overflow: hidden; text-overflow: ellipsis; \">[&quot;A&quot;,&quot;H&quot;,&quot;R&quot;,&quot;X&quot;]</td><td style=\"white-space: nowrap; max-width: 500px; overflow: hidden; text-overflow: ellipsis; \">1.22e-04</td></tr>\n",
       "</tbody></table>"
      ],
      "text/plain": [
       "+-------------+-------------------+----------+\n",
       "| within_gene | fams_non_ref      |    p_seg |\n",
       "+-------------+-------------------+----------+\n",
       "| str         | array<str>        |  float64 |\n",
       "+-------------+-------------------+----------+\n",
       "| \"MACROD2\"   | [\"D\",\"G\",\"I\",\"T\"] | 1.22e-04 |\n",
       "| \"ROBO2\"     | [\"A\",\"H\",\"R\",\"X\"] | 1.22e-04 |\n",
       "+-------------+-------------------+----------+"
      ]
     },
     "metadata": {},
     "output_type": "display_data"
    }
   ],
   "source": [
    "fams_ur.filter(hl.len(fams_ur.fams_non_ref) == 4).show(n_rows=150)"
   ]
  },
  {
   "cell_type": "code",
   "execution_count": 73,
   "metadata": {
    "tags": []
   },
   "outputs": [],
   "source": [
    "r = genes_found.filter(genes_found.gnomad_v3_nfe_af < 0.01)\n",
    "r = r.annotate(within_gene = r.within_gene.split(\",\"))\n",
    "r = r.explode(r.within_gene)\n",
    "\n",
    "r = r.key_by(r.family_non_ref, r.within_gene)\n",
    "r = r.distinct()"
   ]
  },
  {
   "cell_type": "code",
   "execution_count": 74,
   "metadata": {
    "tags": []
   },
   "outputs": [],
   "source": [
    "fams_r = r.group_by(r.within_gene).aggregate(\n",
    "    fams_non_ref = hl.agg.collect(r.family_non_ref))"
   ]
  },
  {
   "cell_type": "code",
   "execution_count": 75,
   "metadata": {
    "tags": []
   },
   "outputs": [],
   "source": [
    "fams_r = fams_r.annotate(\n",
    "    p_seg = hl.product(hl.map(lambda x: hl.dict(fams_dict).get(x), fams_r.fams_non_ref))\n",
    ")"
   ]
  },
  {
   "cell_type": "code",
   "execution_count": 76,
   "metadata": {
    "collapsed": true,
    "jupyter": {
     "outputs_hidden": true
    },
    "tags": []
   },
   "outputs": [
    {
     "name": "stderr",
     "output_type": "stream",
     "text": [
      "2023-03-01 22:15:10.884 Hail: INFO: Ordering unsorted dataset with network shuffle\n",
      "2023-03-01 22:15:11.108 Hail: INFO: Ordering unsorted dataset with network shuffle\n"
     ]
    },
    {
     "data": {
      "text/html": [
       "<table><thead><tr><td style=\"white-space: nowrap; max-width: 500px; overflow: hidden; text-overflow: ellipsis; \" colspan=\"1\"><div style=\"text-align: left;\"></div></td><td style=\"white-space: nowrap; max-width: 500px; overflow: hidden; text-overflow: ellipsis; \" colspan=\"1\"><div style=\"text-align: left;\"></div></td><td style=\"white-space: nowrap; max-width: 500px; overflow: hidden; text-overflow: ellipsis; \" colspan=\"1\"><div style=\"text-align: left;\"></div></td></tr><tr><td style=\"white-space: nowrap; max-width: 500px; overflow: hidden; text-overflow: ellipsis; \" colspan=\"1\"><div style=\"text-align: left;border-bottom: solid 2px #000; padding-bottom: 5px\">within_gene</div></td><td style=\"white-space: nowrap; max-width: 500px; overflow: hidden; text-overflow: ellipsis; \" colspan=\"1\"><div style=\"text-align: left;border-bottom: solid 2px #000; padding-bottom: 5px\">fams_non_ref</div></td><td style=\"white-space: nowrap; max-width: 500px; overflow: hidden; text-overflow: ellipsis; \" colspan=\"1\"><div style=\"text-align: left;border-bottom: solid 2px #000; padding-bottom: 5px\">p_seg</div></td></tr><tr><td style=\"white-space: nowrap; max-width: 500px; overflow: hidden; text-overflow: ellipsis; text-align: left;\">str</td><td style=\"white-space: nowrap; max-width: 500px; overflow: hidden; text-overflow: ellipsis; text-align: left;\">array&lt;str&gt;</td><td style=\"white-space: nowrap; max-width: 500px; overflow: hidden; text-overflow: ellipsis; text-align: left;\">float64</td></tr>\n",
       "</thead><tbody><tr><td style=\"white-space: nowrap; max-width: 500px; overflow: hidden; text-overflow: ellipsis; \">&quot;AC007656.2&quot;</td><td style=\"white-space: nowrap; max-width: 500px; overflow: hidden; text-overflow: ellipsis; \">[&quot;G&quot;,&quot;U&quot;,&quot;X&quot;]</td><td style=\"white-space: nowrap; max-width: 500px; overflow: hidden; text-overflow: ellipsis; \">1.95e-03</td></tr>\n",
       "<tr><td style=\"white-space: nowrap; max-width: 500px; overflow: hidden; text-overflow: ellipsis; \">&quot;AC011246.1&quot;</td><td style=\"white-space: nowrap; max-width: 500px; overflow: hidden; text-overflow: ellipsis; \">[&quot;H&quot;,&quot;J&quot;,&quot;W&quot;]</td><td style=\"white-space: nowrap; max-width: 500px; overflow: hidden; text-overflow: ellipsis; \">3.05e-05</td></tr>\n",
       "<tr><td style=\"white-space: nowrap; max-width: 500px; overflow: hidden; text-overflow: ellipsis; \">&quot;AC058822.1&quot;</td><td style=\"white-space: nowrap; max-width: 500px; overflow: hidden; text-overflow: ellipsis; \">[&quot;G&quot;,&quot;J&quot;,&quot;S&quot;]</td><td style=\"white-space: nowrap; max-width: 500px; overflow: hidden; text-overflow: ellipsis; \">7.81e-03</td></tr>\n",
       "<tr><td style=\"white-space: nowrap; max-width: 500px; overflow: hidden; text-overflow: ellipsis; \">&quot;AC079298.3&quot;</td><td style=\"white-space: nowrap; max-width: 500px; overflow: hidden; text-overflow: ellipsis; \">[&quot;H&quot;,&quot;J&quot;,&quot;X&quot;]</td><td style=\"white-space: nowrap; max-width: 500px; overflow: hidden; text-overflow: ellipsis; \">3.91e-03</td></tr>\n",
       "<tr><td style=\"white-space: nowrap; max-width: 500px; overflow: hidden; text-overflow: ellipsis; \">&quot;ADAMTSL1&quot;</td><td style=\"white-space: nowrap; max-width: 500px; overflow: hidden; text-overflow: ellipsis; \">[&quot;A&quot;,&quot;G&quot;,&quot;Y&quot;]</td><td style=\"white-space: nowrap; max-width: 500px; overflow: hidden; text-overflow: ellipsis; \">4.88e-04</td></tr>\n",
       "<tr><td style=\"white-space: nowrap; max-width: 500px; overflow: hidden; text-overflow: ellipsis; \">&quot;ADGRL2&quot;</td><td style=\"white-space: nowrap; max-width: 500px; overflow: hidden; text-overflow: ellipsis; \">[&quot;A&quot;,&quot;C&quot;,&quot;I&quot;]</td><td style=\"white-space: nowrap; max-width: 500px; overflow: hidden; text-overflow: ellipsis; \">3.05e-05</td></tr>\n",
       "<tr><td style=\"white-space: nowrap; max-width: 500px; overflow: hidden; text-overflow: ellipsis; \">&quot;ADK&quot;</td><td style=\"white-space: nowrap; max-width: 500px; overflow: hidden; text-overflow: ellipsis; \">[&quot;D&quot;,&quot;J&quot;,&quot;X&quot;]</td><td style=\"white-space: nowrap; max-width: 500px; overflow: hidden; text-overflow: ellipsis; \">4.88e-04</td></tr>\n",
       "<tr><td style=\"white-space: nowrap; max-width: 500px; overflow: hidden; text-overflow: ellipsis; \">&quot;AL356534.1&quot;</td><td style=\"white-space: nowrap; max-width: 500px; overflow: hidden; text-overflow: ellipsis; \">[&quot;G&quot;,&quot;H&quot;,&quot;J&quot;]</td><td style=\"white-space: nowrap; max-width: 500px; overflow: hidden; text-overflow: ellipsis; \">7.81e-03</td></tr>\n",
       "<tr><td style=\"white-space: nowrap; max-width: 500px; overflow: hidden; text-overflow: ellipsis; \">&quot;ALK&quot;</td><td style=\"white-space: nowrap; max-width: 500px; overflow: hidden; text-overflow: ellipsis; \">[&quot;J&quot;,&quot;R&quot;,&quot;U&quot;]</td><td style=\"white-space: nowrap; max-width: 500px; overflow: hidden; text-overflow: ellipsis; \">1.95e-03</td></tr>\n",
       "<tr><td style=\"white-space: nowrap; max-width: 500px; overflow: hidden; text-overflow: ellipsis; \">&quot;ANKS1B&quot;</td><td style=\"white-space: nowrap; max-width: 500px; overflow: hidden; text-overflow: ellipsis; \">[&quot;T&quot;,&quot;U&quot;,&quot;X&quot;]</td><td style=\"white-space: nowrap; max-width: 500px; overflow: hidden; text-overflow: ellipsis; \">3.91e-03</td></tr>\n",
       "<tr><td style=\"white-space: nowrap; max-width: 500px; overflow: hidden; text-overflow: ellipsis; \">&quot;BTBD9&quot;</td><td style=\"white-space: nowrap; max-width: 500px; overflow: hidden; text-overflow: ellipsis; \">[&quot;G&quot;,&quot;H&quot;,&quot;X&quot;]</td><td style=\"white-space: nowrap; max-width: 500px; overflow: hidden; text-overflow: ellipsis; \">3.91e-03</td></tr>\n",
       "<tr><td style=\"white-space: nowrap; max-width: 500px; overflow: hidden; text-overflow: ellipsis; \">&quot;CAMTA1&quot;</td><td style=\"white-space: nowrap; max-width: 500px; overflow: hidden; text-overflow: ellipsis; \">[&quot;H&quot;,&quot;J&quot;,&quot;T&quot;]</td><td style=\"white-space: nowrap; max-width: 500px; overflow: hidden; text-overflow: ellipsis; \">1.56e-02</td></tr>\n",
       "<tr><td style=\"white-space: nowrap; max-width: 500px; overflow: hidden; text-overflow: ellipsis; \">&quot;CCDC148&quot;</td><td style=\"white-space: nowrap; max-width: 500px; overflow: hidden; text-overflow: ellipsis; \">[&quot;F&quot;,&quot;J&quot;,&quot;T&quot;]</td><td style=\"white-space: nowrap; max-width: 500px; overflow: hidden; text-overflow: ellipsis; \">9.75e-04</td></tr>\n",
       "<tr><td style=\"white-space: nowrap; max-width: 500px; overflow: hidden; text-overflow: ellipsis; \">&quot;CCDC171&quot;</td><td style=\"white-space: nowrap; max-width: 500px; overflow: hidden; text-overflow: ellipsis; \">[&quot;A&quot;,&quot;T&quot;,&quot;Y&quot;]</td><td style=\"white-space: nowrap; max-width: 500px; overflow: hidden; text-overflow: ellipsis; \">9.77e-04</td></tr>\n",
       "<tr><td style=\"white-space: nowrap; max-width: 500px; overflow: hidden; text-overflow: ellipsis; \">&quot;CDH22&quot;</td><td style=\"white-space: nowrap; max-width: 500px; overflow: hidden; text-overflow: ellipsis; \">[&quot;G&quot;,&quot;T&quot;,&quot;Y&quot;]</td><td style=\"white-space: nowrap; max-width: 500px; overflow: hidden; text-overflow: ellipsis; \">3.91e-03</td></tr>\n",
       "<tr><td style=\"white-space: nowrap; max-width: 500px; overflow: hidden; text-overflow: ellipsis; \">&quot;COL25A1&quot;</td><td style=\"white-space: nowrap; max-width: 500px; overflow: hidden; text-overflow: ellipsis; \">[&quot;H&quot;,&quot;J&quot;,&quot;Y&quot;]</td><td style=\"white-space: nowrap; max-width: 500px; overflow: hidden; text-overflow: ellipsis; \">9.77e-04</td></tr>\n",
       "<tr><td style=\"white-space: nowrap; max-width: 500px; overflow: hidden; text-overflow: ellipsis; \">&quot;DPP10&quot;</td><td style=\"white-space: nowrap; max-width: 500px; overflow: hidden; text-overflow: ellipsis; \">[&quot;H&quot;,&quot;J&quot;,&quot;S&quot;]</td><td style=\"white-space: nowrap; max-width: 500px; overflow: hidden; text-overflow: ellipsis; \">3.91e-03</td></tr>\n",
       "<tr><td style=\"white-space: nowrap; max-width: 500px; overflow: hidden; text-overflow: ellipsis; \">&quot;EPHB1&quot;</td><td style=\"white-space: nowrap; max-width: 500px; overflow: hidden; text-overflow: ellipsis; \">[&quot;C&quot;,&quot;J&quot;,&quot;T&quot;]</td><td style=\"white-space: nowrap; max-width: 500px; overflow: hidden; text-overflow: ellipsis; \">9.75e-04</td></tr>\n",
       "<tr><td style=\"white-space: nowrap; max-width: 500px; overflow: hidden; text-overflow: ellipsis; \">&quot;ERBB4&quot;</td><td style=\"white-space: nowrap; max-width: 500px; overflow: hidden; text-overflow: ellipsis; \">[&quot;E&quot;,&quot;G&quot;,&quot;S&quot;]</td><td style=\"white-space: nowrap; max-width: 500px; overflow: hidden; text-overflow: ellipsis; \">1.95e-03</td></tr>\n",
       "<tr><td style=\"white-space: nowrap; max-width: 500px; overflow: hidden; text-overflow: ellipsis; \">&quot;ERC2&quot;</td><td style=\"white-space: nowrap; max-width: 500px; overflow: hidden; text-overflow: ellipsis; \">[&quot;A&quot;,&quot;J&quot;,&quot;T&quot;]</td><td style=\"white-space: nowrap; max-width: 500px; overflow: hidden; text-overflow: ellipsis; \">7.81e-03</td></tr>\n",
       "<tr><td style=\"white-space: nowrap; max-width: 500px; overflow: hidden; text-overflow: ellipsis; \">&quot;ESRRG&quot;</td><td style=\"white-space: nowrap; max-width: 500px; overflow: hidden; text-overflow: ellipsis; \">[&quot;G&quot;,&quot;H&quot;,&quot;X&quot;]</td><td style=\"white-space: nowrap; max-width: 500px; overflow: hidden; text-overflow: ellipsis; \">3.91e-03</td></tr>\n",
       "<tr><td style=\"white-space: nowrap; max-width: 500px; overflow: hidden; text-overflow: ellipsis; \">&quot;EYS&quot;</td><td style=\"white-space: nowrap; max-width: 500px; overflow: hidden; text-overflow: ellipsis; \">[&quot;H&quot;,&quot;T&quot;,&quot;X&quot;]</td><td style=\"white-space: nowrap; max-width: 500px; overflow: hidden; text-overflow: ellipsis; \">7.81e-03</td></tr>\n",
       "<tr><td style=\"white-space: nowrap; max-width: 500px; overflow: hidden; text-overflow: ellipsis; \">&quot;FHIT&quot;</td><td style=\"white-space: nowrap; max-width: 500px; overflow: hidden; text-overflow: ellipsis; \">[&quot;A&quot;,&quot;J&quot;,&quot;X&quot;]</td><td style=\"white-space: nowrap; max-width: 500px; overflow: hidden; text-overflow: ellipsis; \">1.95e-03</td></tr>\n",
       "<tr><td style=\"white-space: nowrap; max-width: 500px; overflow: hidden; text-overflow: ellipsis; \">&quot;HPSE2&quot;</td><td style=\"white-space: nowrap; max-width: 500px; overflow: hidden; text-overflow: ellipsis; \">[&quot;H&quot;,&quot;S&quot;,&quot;X&quot;]</td><td style=\"white-space: nowrap; max-width: 500px; overflow: hidden; text-overflow: ellipsis; \">1.95e-03</td></tr>\n",
       "<tr><td style=\"white-space: nowrap; max-width: 500px; overflow: hidden; text-overflow: ellipsis; \">&quot;KCNIP4&quot;</td><td style=\"white-space: nowrap; max-width: 500px; overflow: hidden; text-overflow: ellipsis; \">[&quot;J&quot;,&quot;S&quot;,&quot;Y&quot;]</td><td style=\"white-space: nowrap; max-width: 500px; overflow: hidden; text-overflow: ellipsis; \">9.77e-04</td></tr>\n",
       "<tr><td style=\"white-space: nowrap; max-width: 500px; overflow: hidden; text-overflow: ellipsis; \">&quot;KCNMA1&quot;</td><td style=\"white-space: nowrap; max-width: 500px; overflow: hidden; text-overflow: ellipsis; \">[&quot;G&quot;,&quot;H&quot;,&quot;I&quot;]</td><td style=\"white-space: nowrap; max-width: 500px; overflow: hidden; text-overflow: ellipsis; \">1.96e-03</td></tr>\n",
       "<tr><td style=\"white-space: nowrap; max-width: 500px; overflow: hidden; text-overflow: ellipsis; \">&quot;KLF7&quot;</td><td style=\"white-space: nowrap; max-width: 500px; overflow: hidden; text-overflow: ellipsis; \">[&quot;G&quot;,&quot;S&quot;,&quot;X&quot;]</td><td style=\"white-space: nowrap; max-width: 500px; overflow: hidden; text-overflow: ellipsis; \">3.91e-03</td></tr>\n",
       "<tr><td style=\"white-space: nowrap; max-width: 500px; overflow: hidden; text-overflow: ellipsis; \">&quot;LINC01837&quot;</td><td style=\"white-space: nowrap; max-width: 500px; overflow: hidden; text-overflow: ellipsis; \">[&quot;A&quot;,&quot;J&quot;,&quot;X&quot;]</td><td style=\"white-space: nowrap; max-width: 500px; overflow: hidden; text-overflow: ellipsis; \">1.95e-03</td></tr>\n",
       "<tr><td style=\"white-space: nowrap; max-width: 500px; overflow: hidden; text-overflow: ellipsis; \">&quot;LINC02763&quot;</td><td style=\"white-space: nowrap; max-width: 500px; overflow: hidden; text-overflow: ellipsis; \">[&quot;E&quot;,&quot;S&quot;,&quot;T&quot;]</td><td style=\"white-space: nowrap; max-width: 500px; overflow: hidden; text-overflow: ellipsis; \">3.91e-03</td></tr>\n",
       "<tr><td style=\"white-space: nowrap; max-width: 500px; overflow: hidden; text-overflow: ellipsis; \">&quot;MECOM&quot;</td><td style=\"white-space: nowrap; max-width: 500px; overflow: hidden; text-overflow: ellipsis; \">[&quot;H&quot;,&quot;J&quot;,&quot;T&quot;]</td><td style=\"white-space: nowrap; max-width: 500px; overflow: hidden; text-overflow: ellipsis; \">1.56e-02</td></tr>\n",
       "<tr><td style=\"white-space: nowrap; max-width: 500px; overflow: hidden; text-overflow: ellipsis; \">&quot;NAV2&quot;</td><td style=\"white-space: nowrap; max-width: 500px; overflow: hidden; text-overflow: ellipsis; \">[&quot;A&quot;,&quot;J&quot;,&quot;T&quot;]</td><td style=\"white-space: nowrap; max-width: 500px; overflow: hidden; text-overflow: ellipsis; \">7.81e-03</td></tr>\n",
       "<tr><td style=\"white-space: nowrap; max-width: 500px; overflow: hidden; text-overflow: ellipsis; \">&quot;NLGN1&quot;</td><td style=\"white-space: nowrap; max-width: 500px; overflow: hidden; text-overflow: ellipsis; \">[&quot;T&quot;,&quot;U&quot;,&quot;X&quot;]</td><td style=\"white-space: nowrap; max-width: 500px; overflow: hidden; text-overflow: ellipsis; \">3.91e-03</td></tr>\n",
       "<tr><td style=\"white-space: nowrap; max-width: 500px; overflow: hidden; text-overflow: ellipsis; \">&quot;NRXN3&quot;</td><td style=\"white-space: nowrap; max-width: 500px; overflow: hidden; text-overflow: ellipsis; \">[&quot;G&quot;,&quot;H&quot;,&quot;T&quot;]</td><td style=\"white-space: nowrap; max-width: 500px; overflow: hidden; text-overflow: ellipsis; \">1.56e-02</td></tr>\n",
       "<tr><td style=\"white-space: nowrap; max-width: 500px; overflow: hidden; text-overflow: ellipsis; \">&quot;NTM&quot;</td><td style=\"white-space: nowrap; max-width: 500px; overflow: hidden; text-overflow: ellipsis; \">[&quot;E&quot;,&quot;S&quot;,&quot;T&quot;]</td><td style=\"white-space: nowrap; max-width: 500px; overflow: hidden; text-overflow: ellipsis; \">3.91e-03</td></tr>\n",
       "<tr><td style=\"white-space: nowrap; max-width: 500px; overflow: hidden; text-overflow: ellipsis; \">&quot;NTN4&quot;</td><td style=\"white-space: nowrap; max-width: 500px; overflow: hidden; text-overflow: ellipsis; \">[&quot;T&quot;,&quot;U&quot;,&quot;X&quot;]</td><td style=\"white-space: nowrap; max-width: 500px; overflow: hidden; text-overflow: ellipsis; \">3.91e-03</td></tr>\n",
       "<tr><td style=\"white-space: nowrap; max-width: 500px; overflow: hidden; text-overflow: ellipsis; \">&quot;NUP153&quot;</td><td style=\"white-space: nowrap; max-width: 500px; overflow: hidden; text-overflow: ellipsis; \">[&quot;C&quot;,&quot;G&quot;,&quot;J&quot;]</td><td style=\"white-space: nowrap; max-width: 500px; overflow: hidden; text-overflow: ellipsis; \">4.88e-04</td></tr>\n",
       "<tr><td style=\"white-space: nowrap; max-width: 500px; overflow: hidden; text-overflow: ellipsis; \">&quot;OPCML&quot;</td><td style=\"white-space: nowrap; max-width: 500px; overflow: hidden; text-overflow: ellipsis; \">[&quot;H&quot;,&quot;S&quot;,&quot;T&quot;]</td><td style=\"white-space: nowrap; max-width: 500px; overflow: hidden; text-overflow: ellipsis; \">7.81e-03</td></tr>\n",
       "<tr><td style=\"white-space: nowrap; max-width: 500px; overflow: hidden; text-overflow: ellipsis; \">&quot;PARD3B&quot;</td><td style=\"white-space: nowrap; max-width: 500px; overflow: hidden; text-overflow: ellipsis; \">[&quot;G&quot;,&quot;J&quot;,&quot;X&quot;]</td><td style=\"white-space: nowrap; max-width: 500px; overflow: hidden; text-overflow: ellipsis; \">7.81e-03</td></tr>\n",
       "<tr><td style=\"white-space: nowrap; max-width: 500px; overflow: hidden; text-overflow: ellipsis; \">&quot;PKP4&quot;</td><td style=\"white-space: nowrap; max-width: 500px; overflow: hidden; text-overflow: ellipsis; \">[&quot;F&quot;,&quot;J&quot;,&quot;T&quot;]</td><td style=\"white-space: nowrap; max-width: 500px; overflow: hidden; text-overflow: ellipsis; \">9.75e-04</td></tr>\n",
       "<tr><td style=\"white-space: nowrap; max-width: 500px; overflow: hidden; text-overflow: ellipsis; \">&quot;PLCE1&quot;</td><td style=\"white-space: nowrap; max-width: 500px; overflow: hidden; text-overflow: ellipsis; \">[&quot;H&quot;,&quot;J&quot;,&quot;S&quot;]</td><td style=\"white-space: nowrap; max-width: 500px; overflow: hidden; text-overflow: ellipsis; \">3.91e-03</td></tr>\n",
       "<tr><td style=\"white-space: nowrap; max-width: 500px; overflow: hidden; text-overflow: ellipsis; \">&quot;PLXNC1&quot;</td><td style=\"white-space: nowrap; max-width: 500px; overflow: hidden; text-overflow: ellipsis; \">[&quot;G&quot;,&quot;H&quot;,&quot;U&quot;]</td><td style=\"white-space: nowrap; max-width: 500px; overflow: hidden; text-overflow: ellipsis; \">1.95e-03</td></tr>\n",
       "<tr><td style=\"white-space: nowrap; max-width: 500px; overflow: hidden; text-overflow: ellipsis; \">&quot;PRKG1&quot;</td><td style=\"white-space: nowrap; max-width: 500px; overflow: hidden; text-overflow: ellipsis; \">[&quot;E&quot;,&quot;H&quot;,&quot;I&quot;]</td><td style=\"white-space: nowrap; max-width: 500px; overflow: hidden; text-overflow: ellipsis; \">4.89e-04</td></tr>\n",
       "<tr><td style=\"white-space: nowrap; max-width: 500px; overflow: hidden; text-overflow: ellipsis; \">&quot;PTPRD&quot;</td><td style=\"white-space: nowrap; max-width: 500px; overflow: hidden; text-overflow: ellipsis; \">[&quot;G&quot;,&quot;T&quot;,&quot;X&quot;]</td><td style=\"white-space: nowrap; max-width: 500px; overflow: hidden; text-overflow: ellipsis; \">1.56e-02</td></tr>\n",
       "<tr><td style=\"white-space: nowrap; max-width: 500px; overflow: hidden; text-overflow: ellipsis; \">&quot;RASAL2&quot;</td><td style=\"white-space: nowrap; max-width: 500px; overflow: hidden; text-overflow: ellipsis; \">[&quot;H&quot;,&quot;J&quot;,&quot;X&quot;]</td><td style=\"white-space: nowrap; max-width: 500px; overflow: hidden; text-overflow: ellipsis; \">3.91e-03</td></tr>\n",
       "<tr><td style=\"white-space: nowrap; max-width: 500px; overflow: hidden; text-overflow: ellipsis; \">&quot;RBFOX1&quot;</td><td style=\"white-space: nowrap; max-width: 500px; overflow: hidden; text-overflow: ellipsis; \">[&quot;H&quot;,&quot;J&quot;,&quot;T&quot;]</td><td style=\"white-space: nowrap; max-width: 500px; overflow: hidden; text-overflow: ellipsis; \">1.56e-02</td></tr>\n",
       "<tr><td style=\"white-space: nowrap; max-width: 500px; overflow: hidden; text-overflow: ellipsis; \">&quot;RFX3&quot;</td><td style=\"white-space: nowrap; max-width: 500px; overflow: hidden; text-overflow: ellipsis; \">[&quot;G&quot;,&quot;T&quot;,&quot;X&quot;]</td><td style=\"white-space: nowrap; max-width: 500px; overflow: hidden; text-overflow: ellipsis; \">1.56e-02</td></tr>\n",
       "<tr><td style=\"white-space: nowrap; max-width: 500px; overflow: hidden; text-overflow: ellipsis; \">&quot;SNX19&quot;</td><td style=\"white-space: nowrap; max-width: 500px; overflow: hidden; text-overflow: ellipsis; \">[&quot;T&quot;,&quot;U&quot;,&quot;X&quot;]</td><td style=\"white-space: nowrap; max-width: 500px; overflow: hidden; text-overflow: ellipsis; \">3.91e-03</td></tr>\n",
       "<tr><td style=\"white-space: nowrap; max-width: 500px; overflow: hidden; text-overflow: ellipsis; \">&quot;SRGAP2-AS1&quot;</td><td style=\"white-space: nowrap; max-width: 500px; overflow: hidden; text-overflow: ellipsis; \">[&quot;H&quot;,&quot;J&quot;,&quot;X&quot;]</td><td style=\"white-space: nowrap; max-width: 500px; overflow: hidden; text-overflow: ellipsis; \">3.91e-03</td></tr>\n",
       "<tr><td style=\"white-space: nowrap; max-width: 500px; overflow: hidden; text-overflow: ellipsis; \">&quot;SRGAP2B&quot;</td><td style=\"white-space: nowrap; max-width: 500px; overflow: hidden; text-overflow: ellipsis; \">[&quot;H&quot;,&quot;J&quot;,&quot;X&quot;]</td><td style=\"white-space: nowrap; max-width: 500px; overflow: hidden; text-overflow: ellipsis; \">3.91e-03</td></tr>\n",
       "<tr><td style=\"white-space: nowrap; max-width: 500px; overflow: hidden; text-overflow: ellipsis; \">&quot;SRGAP2C&quot;</td><td style=\"white-space: nowrap; max-width: 500px; overflow: hidden; text-overflow: ellipsis; \">[&quot;H&quot;,&quot;J&quot;,&quot;X&quot;]</td><td style=\"white-space: nowrap; max-width: 500px; overflow: hidden; text-overflow: ellipsis; \">3.91e-03</td></tr>\n",
       "<tr><td style=\"white-space: nowrap; max-width: 500px; overflow: hidden; text-overflow: ellipsis; \">&quot;STAB2&quot;</td><td style=\"white-space: nowrap; max-width: 500px; overflow: hidden; text-overflow: ellipsis; \">[&quot;G&quot;,&quot;S&quot;,&quot;X&quot;]</td><td style=\"white-space: nowrap; max-width: 500px; overflow: hidden; text-overflow: ellipsis; \">3.91e-03</td></tr>\n",
       "<tr><td style=\"white-space: nowrap; max-width: 500px; overflow: hidden; text-overflow: ellipsis; \">&quot;TMEM132B&quot;</td><td style=\"white-space: nowrap; max-width: 500px; overflow: hidden; text-overflow: ellipsis; \">[&quot;J&quot;,&quot;U&quot;,&quot;Y&quot;]</td><td style=\"white-space: nowrap; max-width: 500px; overflow: hidden; text-overflow: ellipsis; \">4.88e-04</td></tr>\n",
       "<tr><td style=\"white-space: nowrap; max-width: 500px; overflow: hidden; text-overflow: ellipsis; \">&quot;TPRG1&quot;</td><td style=\"white-space: nowrap; max-width: 500px; overflow: hidden; text-overflow: ellipsis; \">[&quot;D&quot;,&quot;H&quot;,&quot;J&quot;]</td><td style=\"white-space: nowrap; max-width: 500px; overflow: hidden; text-overflow: ellipsis; \">4.88e-04</td></tr>\n",
       "<tr><td style=\"white-space: nowrap; max-width: 500px; overflow: hidden; text-overflow: ellipsis; \">&quot;TSPAN9&quot;</td><td style=\"white-space: nowrap; max-width: 500px; overflow: hidden; text-overflow: ellipsis; \">[&quot;G&quot;,&quot;J&quot;,&quot;T&quot;]</td><td style=\"white-space: nowrap; max-width: 500px; overflow: hidden; text-overflow: ellipsis; \">3.13e-02</td></tr>\n",
       "<tr><td style=\"white-space: nowrap; max-width: 500px; overflow: hidden; text-overflow: ellipsis; \">&quot;VPS13B&quot;</td><td style=\"white-space: nowrap; max-width: 500px; overflow: hidden; text-overflow: ellipsis; \">[&quot;S&quot;,&quot;U&quot;,&quot;X&quot;]</td><td style=\"white-space: nowrap; max-width: 500px; overflow: hidden; text-overflow: ellipsis; \">9.77e-04</td></tr>\n",
       "<tr><td style=\"white-space: nowrap; max-width: 500px; overflow: hidden; text-overflow: ellipsis; \">&quot;WWOX&quot;</td><td style=\"white-space: nowrap; max-width: 500px; overflow: hidden; text-overflow: ellipsis; \">[&quot;I&quot;,&quot;J&quot;,&quot;X&quot;]</td><td style=\"white-space: nowrap; max-width: 500px; overflow: hidden; text-overflow: ellipsis; \">1.96e-03</td></tr>\n",
       "<tr><td style=\"white-space: nowrap; max-width: 500px; overflow: hidden; text-overflow: ellipsis; \">&quot;ZNF385D&quot;</td><td style=\"white-space: nowrap; max-width: 500px; overflow: hidden; text-overflow: ellipsis; \">[&quot;D&quot;,&quot;J&quot;,&quot;T&quot;]</td><td style=\"white-space: nowrap; max-width: 500px; overflow: hidden; text-overflow: ellipsis; \">1.95e-03</td></tr>\n",
       "<tr><td style=\"white-space: nowrap; max-width: 500px; overflow: hidden; text-overflow: ellipsis; \">&quot;ZNF407&quot;</td><td style=\"white-space: nowrap; max-width: 500px; overflow: hidden; text-overflow: ellipsis; \">[&quot;G&quot;,&quot;R&quot;,&quot;X&quot;]</td><td style=\"white-space: nowrap; max-width: 500px; overflow: hidden; text-overflow: ellipsis; \">3.91e-03</td></tr>\n",
       "<tr><td style=\"white-space: nowrap; max-width: 500px; overflow: hidden; text-overflow: ellipsis; \">&quot;ZNF521&quot;</td><td style=\"white-space: nowrap; max-width: 500px; overflow: hidden; text-overflow: ellipsis; \">[&quot;E&quot;,&quot;G&quot;,&quot;X&quot;]</td><td style=\"white-space: nowrap; max-width: 500px; overflow: hidden; text-overflow: ellipsis; \">1.95e-03</td></tr>\n",
       "</tbody></table>"
      ],
      "text/plain": [
       "+--------------+---------------+----------+\n",
       "| within_gene  | fams_non_ref  |    p_seg |\n",
       "+--------------+---------------+----------+\n",
       "| str          | array<str>    |  float64 |\n",
       "+--------------+---------------+----------+\n",
       "| \"AC007656.2\" | [\"G\",\"U\",\"X\"] | 1.95e-03 |\n",
       "| \"AC011246.1\" | [\"H\",\"J\",\"W\"] | 3.05e-05 |\n",
       "| \"AC058822.1\" | [\"G\",\"J\",\"S\"] | 7.81e-03 |\n",
       "| \"AC079298.3\" | [\"H\",\"J\",\"X\"] | 3.91e-03 |\n",
       "| \"ADAMTSL1\"   | [\"A\",\"G\",\"Y\"] | 4.88e-04 |\n",
       "| \"ADGRL2\"     | [\"A\",\"C\",\"I\"] | 3.05e-05 |\n",
       "| \"ADK\"        | [\"D\",\"J\",\"X\"] | 4.88e-04 |\n",
       "| \"AL356534.1\" | [\"G\",\"H\",\"J\"] | 7.81e-03 |\n",
       "| \"ALK\"        | [\"J\",\"R\",\"U\"] | 1.95e-03 |\n",
       "| \"ANKS1B\"     | [\"T\",\"U\",\"X\"] | 3.91e-03 |\n",
       "| \"BTBD9\"      | [\"G\",\"H\",\"X\"] | 3.91e-03 |\n",
       "| \"CAMTA1\"     | [\"H\",\"J\",\"T\"] | 1.56e-02 |\n",
       "| \"CCDC148\"    | [\"F\",\"J\",\"T\"] | 9.75e-04 |\n",
       "| \"CCDC171\"    | [\"A\",\"T\",\"Y\"] | 9.77e-04 |\n",
       "| \"CDH22\"      | [\"G\",\"T\",\"Y\"] | 3.91e-03 |\n",
       "| \"COL25A1\"    | [\"H\",\"J\",\"Y\"] | 9.77e-04 |\n",
       "| \"DPP10\"      | [\"H\",\"J\",\"S\"] | 3.91e-03 |\n",
       "| \"EPHB1\"      | [\"C\",\"J\",\"T\"] | 9.75e-04 |\n",
       "| \"ERBB4\"      | [\"E\",\"G\",\"S\"] | 1.95e-03 |\n",
       "| \"ERC2\"       | [\"A\",\"J\",\"T\"] | 7.81e-03 |\n",
       "| \"ESRRG\"      | [\"G\",\"H\",\"X\"] | 3.91e-03 |\n",
       "| \"EYS\"        | [\"H\",\"T\",\"X\"] | 7.81e-03 |\n",
       "| \"FHIT\"       | [\"A\",\"J\",\"X\"] | 1.95e-03 |\n",
       "| \"HPSE2\"      | [\"H\",\"S\",\"X\"] | 1.95e-03 |\n",
       "| \"KCNIP4\"     | [\"J\",\"S\",\"Y\"] | 9.77e-04 |\n",
       "| \"KCNMA1\"     | [\"G\",\"H\",\"I\"] | 1.96e-03 |\n",
       "| \"KLF7\"       | [\"G\",\"S\",\"X\"] | 3.91e-03 |\n",
       "| \"LINC01837\"  | [\"A\",\"J\",\"X\"] | 1.95e-03 |\n",
       "| \"LINC02763\"  | [\"E\",\"S\",\"T\"] | 3.91e-03 |\n",
       "| \"MECOM\"      | [\"H\",\"J\",\"T\"] | 1.56e-02 |\n",
       "| \"NAV2\"       | [\"A\",\"J\",\"T\"] | 7.81e-03 |\n",
       "| \"NLGN1\"      | [\"T\",\"U\",\"X\"] | 3.91e-03 |\n",
       "| \"NRXN3\"      | [\"G\",\"H\",\"T\"] | 1.56e-02 |\n",
       "| \"NTM\"        | [\"E\",\"S\",\"T\"] | 3.91e-03 |\n",
       "| \"NTN4\"       | [\"T\",\"U\",\"X\"] | 3.91e-03 |\n",
       "| \"NUP153\"     | [\"C\",\"G\",\"J\"] | 4.88e-04 |\n",
       "| \"OPCML\"      | [\"H\",\"S\",\"T\"] | 7.81e-03 |\n",
       "| \"PARD3B\"     | [\"G\",\"J\",\"X\"] | 7.81e-03 |\n",
       "| \"PKP4\"       | [\"F\",\"J\",\"T\"] | 9.75e-04 |\n",
       "| \"PLCE1\"      | [\"H\",\"J\",\"S\"] | 3.91e-03 |\n",
       "| \"PLXNC1\"     | [\"G\",\"H\",\"U\"] | 1.95e-03 |\n",
       "| \"PRKG1\"      | [\"E\",\"H\",\"I\"] | 4.89e-04 |\n",
       "| \"PTPRD\"      | [\"G\",\"T\",\"X\"] | 1.56e-02 |\n",
       "| \"RASAL2\"     | [\"H\",\"J\",\"X\"] | 3.91e-03 |\n",
       "| \"RBFOX1\"     | [\"H\",\"J\",\"T\"] | 1.56e-02 |\n",
       "| \"RFX3\"       | [\"G\",\"T\",\"X\"] | 1.56e-02 |\n",
       "| \"SNX19\"      | [\"T\",\"U\",\"X\"] | 3.91e-03 |\n",
       "| \"SRGAP2-AS1\" | [\"H\",\"J\",\"X\"] | 3.91e-03 |\n",
       "| \"SRGAP2B\"    | [\"H\",\"J\",\"X\"] | 3.91e-03 |\n",
       "| \"SRGAP2C\"    | [\"H\",\"J\",\"X\"] | 3.91e-03 |\n",
       "| \"STAB2\"      | [\"G\",\"S\",\"X\"] | 3.91e-03 |\n",
       "| \"TMEM132B\"   | [\"J\",\"U\",\"Y\"] | 4.88e-04 |\n",
       "| \"TPRG1\"      | [\"D\",\"H\",\"J\"] | 4.88e-04 |\n",
       "| \"TSPAN9\"     | [\"G\",\"J\",\"T\"] | 3.13e-02 |\n",
       "| \"VPS13B\"     | [\"S\",\"U\",\"X\"] | 9.77e-04 |\n",
       "| \"WWOX\"       | [\"I\",\"J\",\"X\"] | 1.96e-03 |\n",
       "| \"ZNF385D\"    | [\"D\",\"J\",\"T\"] | 1.95e-03 |\n",
       "| \"ZNF407\"     | [\"G\",\"R\",\"X\"] | 3.91e-03 |\n",
       "| \"ZNF521\"     | [\"E\",\"G\",\"X\"] | 1.95e-03 |\n",
       "+--------------+---------------+----------+"
      ]
     },
     "metadata": {},
     "output_type": "display_data"
    }
   ],
   "source": [
    "fams_r.filter(hl.len(fams_r.fams_non_ref) == 3).show(n_rows=150)"
   ]
  },
  {
   "cell_type": "code",
   "execution_count": 77,
   "metadata": {
    "tags": []
   },
   "outputs": [
    {
     "name": "stderr",
     "output_type": "stream",
     "text": [
      "2023-03-01 22:17:04.716 Hail: INFO: Ordering unsorted dataset with network shuffle\n",
      "2023-03-01 22:17:04.938 Hail: INFO: Ordering unsorted dataset with network shuffle\n"
     ]
    },
    {
     "data": {
      "text/html": [
       "<table><thead><tr><td style=\"white-space: nowrap; max-width: 500px; overflow: hidden; text-overflow: ellipsis; \" colspan=\"1\"><div style=\"text-align: left;\"></div></td><td style=\"white-space: nowrap; max-width: 500px; overflow: hidden; text-overflow: ellipsis; \" colspan=\"1\"><div style=\"text-align: left;\"></div></td><td style=\"white-space: nowrap; max-width: 500px; overflow: hidden; text-overflow: ellipsis; \" colspan=\"1\"><div style=\"text-align: left;\"></div></td></tr><tr><td style=\"white-space: nowrap; max-width: 500px; overflow: hidden; text-overflow: ellipsis; \" colspan=\"1\"><div style=\"text-align: left;border-bottom: solid 2px #000; padding-bottom: 5px\">within_gene</div></td><td style=\"white-space: nowrap; max-width: 500px; overflow: hidden; text-overflow: ellipsis; \" colspan=\"1\"><div style=\"text-align: left;border-bottom: solid 2px #000; padding-bottom: 5px\">fams_non_ref</div></td><td style=\"white-space: nowrap; max-width: 500px; overflow: hidden; text-overflow: ellipsis; \" colspan=\"1\"><div style=\"text-align: left;border-bottom: solid 2px #000; padding-bottom: 5px\">p_seg</div></td></tr><tr><td style=\"white-space: nowrap; max-width: 500px; overflow: hidden; text-overflow: ellipsis; text-align: left;\">str</td><td style=\"white-space: nowrap; max-width: 500px; overflow: hidden; text-overflow: ellipsis; text-align: left;\">array&lt;str&gt;</td><td style=\"white-space: nowrap; max-width: 500px; overflow: hidden; text-overflow: ellipsis; text-align: left;\">float64</td></tr>\n",
       "</thead><tbody><tr><td style=\"white-space: nowrap; max-width: 500px; overflow: hidden; text-overflow: ellipsis; \">&quot;AL157944.1&quot;</td><td style=\"white-space: nowrap; max-width: 500px; overflow: hidden; text-overflow: ellipsis; \">[&quot;A&quot;,&quot;G&quot;,&quot;I&quot;,&quot;Y&quot;]</td><td style=\"white-space: nowrap; max-width: 500px; overflow: hidden; text-overflow: ellipsis; \">3.06e-05</td></tr>\n",
       "<tr><td style=\"white-space: nowrap; max-width: 500px; overflow: hidden; text-overflow: ellipsis; \">&quot;CDH23&quot;</td><td style=\"white-space: nowrap; max-width: 500px; overflow: hidden; text-overflow: ellipsis; \">[&quot;D&quot;,&quot;E&quot;,&quot;I&quot;,&quot;J&quot;]</td><td style=\"white-space: nowrap; max-width: 500px; overflow: hidden; text-overflow: ellipsis; \">1.53e-05</td></tr>\n",
       "<tr><td style=\"white-space: nowrap; max-width: 500px; overflow: hidden; text-overflow: ellipsis; \">&quot;EBF1&quot;</td><td style=\"white-space: nowrap; max-width: 500px; overflow: hidden; text-overflow: ellipsis; \">[&quot;J&quot;,&quot;T&quot;,&quot;U&quot;,&quot;X&quot;]</td><td style=\"white-space: nowrap; max-width: 500px; overflow: hidden; text-overflow: ellipsis; \">9.77e-04</td></tr>\n",
       "<tr><td style=\"white-space: nowrap; max-width: 500px; overflow: hidden; text-overflow: ellipsis; \">&quot;GNAS&quot;</td><td style=\"white-space: nowrap; max-width: 500px; overflow: hidden; text-overflow: ellipsis; \">[&quot;J&quot;,&quot;U&quot;,&quot;W&quot;,&quot;X&quot;]</td><td style=\"white-space: nowrap; max-width: 500px; overflow: hidden; text-overflow: ellipsis; \">1.91e-06</td></tr>\n",
       "<tr><td style=\"white-space: nowrap; max-width: 500px; overflow: hidden; text-overflow: ellipsis; \">&quot;KAT6B&quot;</td><td style=\"white-space: nowrap; max-width: 500px; overflow: hidden; text-overflow: ellipsis; \">[&quot;H&quot;,&quot;I&quot;,&quot;J&quot;,&quot;X&quot;]</td><td style=\"white-space: nowrap; max-width: 500px; overflow: hidden; text-overflow: ellipsis; \">2.45e-04</td></tr>\n",
       "<tr><td style=\"white-space: nowrap; max-width: 500px; overflow: hidden; text-overflow: ellipsis; \">&quot;LRMDA&quot;</td><td style=\"white-space: nowrap; max-width: 500px; overflow: hidden; text-overflow: ellipsis; \">[&quot;H&quot;,&quot;I&quot;,&quot;J&quot;,&quot;X&quot;]</td><td style=\"white-space: nowrap; max-width: 500px; overflow: hidden; text-overflow: ellipsis; \">2.45e-04</td></tr>\n",
       "<tr><td style=\"white-space: nowrap; max-width: 500px; overflow: hidden; text-overflow: ellipsis; \">&quot;MACROD2&quot;</td><td style=\"white-space: nowrap; max-width: 500px; overflow: hidden; text-overflow: ellipsis; \">[&quot;D&quot;,&quot;G&quot;,&quot;I&quot;,&quot;T&quot;]</td><td style=\"white-space: nowrap; max-width: 500px; overflow: hidden; text-overflow: ellipsis; \">1.22e-04</td></tr>\n",
       "<tr><td style=\"white-space: nowrap; max-width: 500px; overflow: hidden; text-overflow: ellipsis; \">&quot;RARB&quot;</td><td style=\"white-space: nowrap; max-width: 500px; overflow: hidden; text-overflow: ellipsis; \">[&quot;D&quot;,&quot;H&quot;,&quot;J&quot;,&quot;T&quot;]</td><td style=\"white-space: nowrap; max-width: 500px; overflow: hidden; text-overflow: ellipsis; \">2.44e-04</td></tr>\n",
       "<tr><td style=\"white-space: nowrap; max-width: 500px; overflow: hidden; text-overflow: ellipsis; \">&quot;ROBO2&quot;</td><td style=\"white-space: nowrap; max-width: 500px; overflow: hidden; text-overflow: ellipsis; \">[&quot;A&quot;,&quot;H&quot;,&quot;R&quot;,&quot;X&quot;]</td><td style=\"white-space: nowrap; max-width: 500px; overflow: hidden; text-overflow: ellipsis; \">1.22e-04</td></tr>\n",
       "<tr><td style=\"white-space: nowrap; max-width: 500px; overflow: hidden; text-overflow: ellipsis; \">&quot;SEMA3A&quot;</td><td style=\"white-space: nowrap; max-width: 500px; overflow: hidden; text-overflow: ellipsis; \">[&quot;E&quot;,&quot;H&quot;,&quot;J&quot;,&quot;R&quot;]</td><td style=\"white-space: nowrap; max-width: 500px; overflow: hidden; text-overflow: ellipsis; \">2.44e-04</td></tr>\n",
       "<tr><td style=\"white-space: nowrap; max-width: 500px; overflow: hidden; text-overflow: ellipsis; \">&quot;TENM2&quot;</td><td style=\"white-space: nowrap; max-width: 500px; overflow: hidden; text-overflow: ellipsis; \">[&quot;G&quot;,&quot;J&quot;,&quot;T&quot;,&quot;U&quot;]</td><td style=\"white-space: nowrap; max-width: 500px; overflow: hidden; text-overflow: ellipsis; \">1.95e-03</td></tr>\n",
       "<tr><td style=\"white-space: nowrap; max-width: 500px; overflow: hidden; text-overflow: ellipsis; \">&quot;ZBTB20&quot;</td><td style=\"white-space: nowrap; max-width: 500px; overflow: hidden; text-overflow: ellipsis; \">[&quot;D&quot;,&quot;H&quot;,&quot;T&quot;,&quot;X&quot;]</td><td style=\"white-space: nowrap; max-width: 500px; overflow: hidden; text-overflow: ellipsis; \">1.22e-04</td></tr>\n",
       "</tbody></table>"
      ],
      "text/plain": [
       "+--------------+-------------------+----------+\n",
       "| within_gene  | fams_non_ref      |    p_seg |\n",
       "+--------------+-------------------+----------+\n",
       "| str          | array<str>        |  float64 |\n",
       "+--------------+-------------------+----------+\n",
       "| \"AL157944.1\" | [\"A\",\"G\",\"I\",\"Y\"] | 3.06e-05 |\n",
       "| \"CDH23\"      | [\"D\",\"E\",\"I\",\"J\"] | 1.53e-05 |\n",
       "| \"EBF1\"       | [\"J\",\"T\",\"U\",\"X\"] | 9.77e-04 |\n",
       "| \"GNAS\"       | [\"J\",\"U\",\"W\",\"X\"] | 1.91e-06 |\n",
       "| \"KAT6B\"      | [\"H\",\"I\",\"J\",\"X\"] | 2.45e-04 |\n",
       "| \"LRMDA\"      | [\"H\",\"I\",\"J\",\"X\"] | 2.45e-04 |\n",
       "| \"MACROD2\"    | [\"D\",\"G\",\"I\",\"T\"] | 1.22e-04 |\n",
       "| \"RARB\"       | [\"D\",\"H\",\"J\",\"T\"] | 2.44e-04 |\n",
       "| \"ROBO2\"      | [\"A\",\"H\",\"R\",\"X\"] | 1.22e-04 |\n",
       "| \"SEMA3A\"     | [\"E\",\"H\",\"J\",\"R\"] | 2.44e-04 |\n",
       "| \"TENM2\"      | [\"G\",\"J\",\"T\",\"U\"] | 1.95e-03 |\n",
       "| \"ZBTB20\"     | [\"D\",\"H\",\"T\",\"X\"] | 1.22e-04 |\n",
       "+--------------+-------------------+----------+"
      ]
     },
     "metadata": {},
     "output_type": "display_data"
    }
   ],
   "source": [
    "fams_r.filter(hl.len(fams_r.fams_non_ref) == 4).show(n_rows=150)"
   ]
  },
  {
   "cell_type": "code",
   "execution_count": 78,
   "metadata": {
    "tags": []
   },
   "outputs": [],
   "source": [
    "u = genes_found.filter(genes_found.gnomad_v3_nfe_af < 0.05)\n",
    "u = u.annotate(within_gene = u.within_gene.split(\",\"))\n",
    "u = u.explode(u.within_gene)\n",
    "\n",
    "u = u.key_by(u.family_non_ref, u.within_gene)\n",
    "u = u.distinct()"
   ]
  },
  {
   "cell_type": "code",
   "execution_count": 79,
   "metadata": {
    "tags": []
   },
   "outputs": [],
   "source": [
    "fams_u = u.group_by(u.within_gene).aggregate(\n",
    "    fams_non_ref = hl.agg.collect(u.family_non_ref))"
   ]
  },
  {
   "cell_type": "code",
   "execution_count": 80,
   "metadata": {
    "tags": []
   },
   "outputs": [],
   "source": [
    "fams_u = fams_u.annotate(\n",
    "    p_seg = hl.product(hl.map(lambda x: hl.dict(fams_dict).get(x), fams_u.fams_non_ref))\n",
    ")"
   ]
  },
  {
   "cell_type": "code",
   "execution_count": 81,
   "metadata": {
    "tags": []
   },
   "outputs": [
    {
     "name": "stderr",
     "output_type": "stream",
     "text": [
      "2023-03-01 22:28:19.616 Hail: INFO: Ordering unsorted dataset with network shuffle\n",
      "2023-03-01 22:28:19.891 Hail: INFO: Ordering unsorted dataset with network shuffle\n"
     ]
    },
    {
     "data": {
      "text/html": [
       "<table><thead><tr><td style=\"white-space: nowrap; max-width: 500px; overflow: hidden; text-overflow: ellipsis; \" colspan=\"1\"><div style=\"text-align: left;\"></div></td><td style=\"white-space: nowrap; max-width: 500px; overflow: hidden; text-overflow: ellipsis; \" colspan=\"1\"><div style=\"text-align: left;\"></div></td><td style=\"white-space: nowrap; max-width: 500px; overflow: hidden; text-overflow: ellipsis; \" colspan=\"1\"><div style=\"text-align: left;\"></div></td></tr><tr><td style=\"white-space: nowrap; max-width: 500px; overflow: hidden; text-overflow: ellipsis; \" colspan=\"1\"><div style=\"text-align: left;border-bottom: solid 2px #000; padding-bottom: 5px\">within_gene</div></td><td style=\"white-space: nowrap; max-width: 500px; overflow: hidden; text-overflow: ellipsis; \" colspan=\"1\"><div style=\"text-align: left;border-bottom: solid 2px #000; padding-bottom: 5px\">fams_non_ref</div></td><td style=\"white-space: nowrap; max-width: 500px; overflow: hidden; text-overflow: ellipsis; \" colspan=\"1\"><div style=\"text-align: left;border-bottom: solid 2px #000; padding-bottom: 5px\">p_seg</div></td></tr><tr><td style=\"white-space: nowrap; max-width: 500px; overflow: hidden; text-overflow: ellipsis; text-align: left;\">str</td><td style=\"white-space: nowrap; max-width: 500px; overflow: hidden; text-overflow: ellipsis; text-align: left;\">array&lt;str&gt;</td><td style=\"white-space: nowrap; max-width: 500px; overflow: hidden; text-overflow: ellipsis; text-align: left;\">float64</td></tr>\n",
       "</thead><tbody><tr><td style=\"white-space: nowrap; max-width: 500px; overflow: hidden; text-overflow: ellipsis; \">&quot;AC007402.1&quot;</td><td style=\"white-space: nowrap; max-width: 500px; overflow: hidden; text-overflow: ellipsis; \">[&quot;E&quot;,&quot;F&quot;,&quot;J&quot;,&quot;X&quot;]</td><td style=\"white-space: nowrap; max-width: 500px; overflow: hidden; text-overflow: ellipsis; \">1.52e-05</td></tr>\n",
       "<tr><td style=\"white-space: nowrap; max-width: 500px; overflow: hidden; text-overflow: ellipsis; \">&quot;AC079298.3&quot;</td><td style=\"white-space: nowrap; max-width: 500px; overflow: hidden; text-overflow: ellipsis; \">[&quot;H&quot;,&quot;J&quot;,&quot;R&quot;,&quot;X&quot;]</td><td style=\"white-space: nowrap; max-width: 500px; overflow: hidden; text-overflow: ellipsis; \">4.88e-04</td></tr>\n",
       "<tr><td style=\"white-space: nowrap; max-width: 500px; overflow: hidden; text-overflow: ellipsis; \">&quot;AC087379.1&quot;</td><td style=\"white-space: nowrap; max-width: 500px; overflow: hidden; text-overflow: ellipsis; \">[&quot;G&quot;,&quot;H&quot;,&quot;J&quot;,&quot;X&quot;]</td><td style=\"white-space: nowrap; max-width: 500px; overflow: hidden; text-overflow: ellipsis; \">9.77e-04</td></tr>\n",
       "<tr><td style=\"white-space: nowrap; max-width: 500px; overflow: hidden; text-overflow: ellipsis; \">&quot;AC093865.1&quot;</td><td style=\"white-space: nowrap; max-width: 500px; overflow: hidden; text-overflow: ellipsis; \">[&quot;E&quot;,&quot;G&quot;,&quot;S&quot;,&quot;X&quot;]</td><td style=\"white-space: nowrap; max-width: 500px; overflow: hidden; text-overflow: ellipsis; \">2.44e-04</td></tr>\n",
       "<tr><td style=\"white-space: nowrap; max-width: 500px; overflow: hidden; text-overflow: ellipsis; \">&quot;ADAMTSL1&quot;</td><td style=\"white-space: nowrap; max-width: 500px; overflow: hidden; text-overflow: ellipsis; \">[&quot;A&quot;,&quot;G&quot;,&quot;T&quot;,&quot;Y&quot;]</td><td style=\"white-space: nowrap; max-width: 500px; overflow: hidden; text-overflow: ellipsis; \">2.44e-04</td></tr>\n",
       "<tr><td style=\"white-space: nowrap; max-width: 500px; overflow: hidden; text-overflow: ellipsis; \">&quot;ADGRL2&quot;</td><td style=\"white-space: nowrap; max-width: 500px; overflow: hidden; text-overflow: ellipsis; \">[&quot;A&quot;,&quot;C&quot;,&quot;I&quot;,&quot;Y&quot;]</td><td style=\"white-space: nowrap; max-width: 500px; overflow: hidden; text-overflow: ellipsis; \">9.54e-07</td></tr>\n",
       "<tr><td style=\"white-space: nowrap; max-width: 500px; overflow: hidden; text-overflow: ellipsis; \">&quot;ADGRL3&quot;</td><td style=\"white-space: nowrap; max-width: 500px; overflow: hidden; text-overflow: ellipsis; \">[&quot;G&quot;,&quot;H&quot;,&quot;J&quot;,&quot;S&quot;]</td><td style=\"white-space: nowrap; max-width: 500px; overflow: hidden; text-overflow: ellipsis; \">9.77e-04</td></tr>\n",
       "<tr><td style=\"white-space: nowrap; max-width: 500px; overflow: hidden; text-overflow: ellipsis; \">&quot;ADK&quot;</td><td style=\"white-space: nowrap; max-width: 500px; overflow: hidden; text-overflow: ellipsis; \">[&quot;D&quot;,&quot;E&quot;,&quot;J&quot;,&quot;X&quot;]</td><td style=\"white-space: nowrap; max-width: 500px; overflow: hidden; text-overflow: ellipsis; \">3.05e-05</td></tr>\n",
       "<tr><td style=\"white-space: nowrap; max-width: 500px; overflow: hidden; text-overflow: ellipsis; \">&quot;AL022068.1&quot;</td><td style=\"white-space: nowrap; max-width: 500px; overflow: hidden; text-overflow: ellipsis; \">[&quot;E&quot;,&quot;G&quot;,&quot;T&quot;,&quot;X&quot;]</td><td style=\"white-space: nowrap; max-width: 500px; overflow: hidden; text-overflow: ellipsis; \">9.77e-04</td></tr>\n",
       "<tr><td style=\"white-space: nowrap; max-width: 500px; overflow: hidden; text-overflow: ellipsis; \">&quot;AL035078.4&quot;</td><td style=\"white-space: nowrap; max-width: 500px; overflow: hidden; text-overflow: ellipsis; \">[&quot;A&quot;,&quot;H&quot;,&quot;J&quot;,&quot;X&quot;]</td><td style=\"white-space: nowrap; max-width: 500px; overflow: hidden; text-overflow: ellipsis; \">2.44e-04</td></tr>\n",
       "<tr><td style=\"white-space: nowrap; max-width: 500px; overflow: hidden; text-overflow: ellipsis; \">&quot;AL157944.1&quot;</td><td style=\"white-space: nowrap; max-width: 500px; overflow: hidden; text-overflow: ellipsis; \">[&quot;A&quot;,&quot;G&quot;,&quot;I&quot;,&quot;Y&quot;]</td><td style=\"white-space: nowrap; max-width: 500px; overflow: hidden; text-overflow: ellipsis; \">3.06e-05</td></tr>\n",
       "<tr><td style=\"white-space: nowrap; max-width: 500px; overflow: hidden; text-overflow: ellipsis; \">&quot;AL583785.1&quot;</td><td style=\"white-space: nowrap; max-width: 500px; overflow: hidden; text-overflow: ellipsis; \">[&quot;G&quot;,&quot;I&quot;,&quot;T&quot;,&quot;X&quot;]</td><td style=\"white-space: nowrap; max-width: 500px; overflow: hidden; text-overflow: ellipsis; \">9.78e-04</td></tr>\n",
       "<tr><td style=\"white-space: nowrap; max-width: 500px; overflow: hidden; text-overflow: ellipsis; \">&quot;ANKS1B&quot;</td><td style=\"white-space: nowrap; max-width: 500px; overflow: hidden; text-overflow: ellipsis; \">[&quot;G&quot;,&quot;T&quot;,&quot;U&quot;,&quot;X&quot;]</td><td style=\"white-space: nowrap; max-width: 500px; overflow: hidden; text-overflow: ellipsis; \">9.77e-04</td></tr>\n",
       "<tr><td style=\"white-space: nowrap; max-width: 500px; overflow: hidden; text-overflow: ellipsis; \">&quot;ARAP2&quot;</td><td style=\"white-space: nowrap; max-width: 500px; overflow: hidden; text-overflow: ellipsis; \">[&quot;H&quot;,&quot;J&quot;,&quot;S&quot;,&quot;X&quot;]</td><td style=\"white-space: nowrap; max-width: 500px; overflow: hidden; text-overflow: ellipsis; \">4.88e-04</td></tr>\n",
       "<tr><td style=\"white-space: nowrap; max-width: 500px; overflow: hidden; text-overflow: ellipsis; \">&quot;AUTS2&quot;</td><td style=\"white-space: nowrap; max-width: 500px; overflow: hidden; text-overflow: ellipsis; \">[&quot;A&quot;,&quot;E&quot;,&quot;G&quot;,&quot;X&quot;]</td><td style=\"white-space: nowrap; max-width: 500px; overflow: hidden; text-overflow: ellipsis; \">1.22e-04</td></tr>\n",
       "<tr><td style=\"white-space: nowrap; max-width: 500px; overflow: hidden; text-overflow: ellipsis; \">&quot;CAMKMT&quot;</td><td style=\"white-space: nowrap; max-width: 500px; overflow: hidden; text-overflow: ellipsis; \">[&quot;E&quot;,&quot;J&quot;,&quot;U&quot;,&quot;X&quot;]</td><td style=\"white-space: nowrap; max-width: 500px; overflow: hidden; text-overflow: ellipsis; \">1.22e-04</td></tr>\n",
       "<tr><td style=\"white-space: nowrap; max-width: 500px; overflow: hidden; text-overflow: ellipsis; \">&quot;CAMTA1&quot;</td><td style=\"white-space: nowrap; max-width: 500px; overflow: hidden; text-overflow: ellipsis; \">[&quot;H&quot;,&quot;J&quot;,&quot;T&quot;,&quot;X&quot;]</td><td style=\"white-space: nowrap; max-width: 500px; overflow: hidden; text-overflow: ellipsis; \">1.95e-03</td></tr>\n",
       "<tr><td style=\"white-space: nowrap; max-width: 500px; overflow: hidden; text-overflow: ellipsis; \">&quot;CD44&quot;</td><td style=\"white-space: nowrap; max-width: 500px; overflow: hidden; text-overflow: ellipsis; \">[&quot;A&quot;,&quot;B&quot;,&quot;G&quot;,&quot;I&quot;]</td><td style=\"white-space: nowrap; max-width: 500px; overflow: hidden; text-overflow: ellipsis; \">1.53e-05</td></tr>\n",
       "<tr><td style=\"white-space: nowrap; max-width: 500px; overflow: hidden; text-overflow: ellipsis; \">&quot;CELF2&quot;</td><td style=\"white-space: nowrap; max-width: 500px; overflow: hidden; text-overflow: ellipsis; \">[&quot;A&quot;,&quot;G&quot;,&quot;H&quot;,&quot;J&quot;]</td><td style=\"white-space: nowrap; max-width: 500px; overflow: hidden; text-overflow: ellipsis; \">4.88e-04</td></tr>\n",
       "<tr><td style=\"white-space: nowrap; max-width: 500px; overflow: hidden; text-overflow: ellipsis; \">&quot;CLSTN2&quot;</td><td style=\"white-space: nowrap; max-width: 500px; overflow: hidden; text-overflow: ellipsis; \">[&quot;D&quot;,&quot;H&quot;,&quot;I&quot;,&quot;J&quot;]</td><td style=\"white-space: nowrap; max-width: 500px; overflow: hidden; text-overflow: ellipsis; \">3.05e-05</td></tr>\n",
       "<tr><td style=\"white-space: nowrap; max-width: 500px; overflow: hidden; text-overflow: ellipsis; \">&quot;CNTN4&quot;</td><td style=\"white-space: nowrap; max-width: 500px; overflow: hidden; text-overflow: ellipsis; \">[&quot;E&quot;,&quot;H&quot;,&quot;T&quot;,&quot;X&quot;]</td><td style=\"white-space: nowrap; max-width: 500px; overflow: hidden; text-overflow: ellipsis; \">4.88e-04</td></tr>\n",
       "<tr><td style=\"white-space: nowrap; max-width: 500px; overflow: hidden; text-overflow: ellipsis; \">&quot;CSMD2&quot;</td><td style=\"white-space: nowrap; max-width: 500px; overflow: hidden; text-overflow: ellipsis; \">[&quot;A&quot;,&quot;G&quot;,&quot;I&quot;,&quot;S&quot;]</td><td style=\"white-space: nowrap; max-width: 500px; overflow: hidden; text-overflow: ellipsis; \">1.22e-04</td></tr>\n",
       "<tr><td style=\"white-space: nowrap; max-width: 500px; overflow: hidden; text-overflow: ellipsis; \">&quot;CTNNA3&quot;</td><td style=\"white-space: nowrap; max-width: 500px; overflow: hidden; text-overflow: ellipsis; \">[&quot;D&quot;,&quot;E&quot;,&quot;I&quot;,&quot;J&quot;]</td><td style=\"white-space: nowrap; max-width: 500px; overflow: hidden; text-overflow: ellipsis; \">1.53e-05</td></tr>\n",
       "<tr><td style=\"white-space: nowrap; max-width: 500px; overflow: hidden; text-overflow: ellipsis; \">&quot;DLC1&quot;</td><td style=\"white-space: nowrap; max-width: 500px; overflow: hidden; text-overflow: ellipsis; \">[&quot;A&quot;,&quot;I&quot;,&quot;J&quot;,&quot;U&quot;]</td><td style=\"white-space: nowrap; max-width: 500px; overflow: hidden; text-overflow: ellipsis; \">6.11e-05</td></tr>\n",
       "<tr><td style=\"white-space: nowrap; max-width: 500px; overflow: hidden; text-overflow: ellipsis; \">&quot;DPH6-DT&quot;</td><td style=\"white-space: nowrap; max-width: 500px; overflow: hidden; text-overflow: ellipsis; \">[&quot;A&quot;,&quot;G&quot;,&quot;H&quot;,&quot;X&quot;]</td><td style=\"white-space: nowrap; max-width: 500px; overflow: hidden; text-overflow: ellipsis; \">2.44e-04</td></tr>\n",
       "<tr><td style=\"white-space: nowrap; max-width: 500px; overflow: hidden; text-overflow: ellipsis; \">&quot;DTHD1&quot;</td><td style=\"white-space: nowrap; max-width: 500px; overflow: hidden; text-overflow: ellipsis; \">[&quot;D&quot;,&quot;H&quot;,&quot;J&quot;,&quot;S&quot;]</td><td style=\"white-space: nowrap; max-width: 500px; overflow: hidden; text-overflow: ellipsis; \">6.09e-05</td></tr>\n",
       "<tr><td style=\"white-space: nowrap; max-width: 500px; overflow: hidden; text-overflow: ellipsis; \">&quot;EBF1&quot;</td><td style=\"white-space: nowrap; max-width: 500px; overflow: hidden; text-overflow: ellipsis; \">[&quot;J&quot;,&quot;T&quot;,&quot;U&quot;,&quot;X&quot;]</td><td style=\"white-space: nowrap; max-width: 500px; overflow: hidden; text-overflow: ellipsis; \">9.77e-04</td></tr>\n",
       "<tr><td style=\"white-space: nowrap; max-width: 500px; overflow: hidden; text-overflow: ellipsis; \">&quot;ERBB4&quot;</td><td style=\"white-space: nowrap; max-width: 500px; overflow: hidden; text-overflow: ellipsis; \">[&quot;E&quot;,&quot;G&quot;,&quot;J&quot;,&quot;S&quot;]</td><td style=\"white-space: nowrap; max-width: 500px; overflow: hidden; text-overflow: ellipsis; \">4.88e-04</td></tr>\n",
       "<tr><td style=\"white-space: nowrap; max-width: 500px; overflow: hidden; text-overflow: ellipsis; \">&quot;ERC2&quot;</td><td style=\"white-space: nowrap; max-width: 500px; overflow: hidden; text-overflow: ellipsis; \">[&quot;A&quot;,&quot;D&quot;,&quot;J&quot;,&quot;T&quot;]</td><td style=\"white-space: nowrap; max-width: 500px; overflow: hidden; text-overflow: ellipsis; \">1.22e-04</td></tr>\n",
       "<tr><td style=\"white-space: nowrap; max-width: 500px; overflow: hidden; text-overflow: ellipsis; \">&quot;ETV6&quot;</td><td style=\"white-space: nowrap; max-width: 500px; overflow: hidden; text-overflow: ellipsis; \">[&quot;G&quot;,&quot;H&quot;,&quot;S&quot;,&quot;T&quot;]</td><td style=\"white-space: nowrap; max-width: 500px; overflow: hidden; text-overflow: ellipsis; \">1.95e-03</td></tr>\n",
       "<tr><td style=\"white-space: nowrap; max-width: 500px; overflow: hidden; text-overflow: ellipsis; \">&quot;FGF12&quot;</td><td style=\"white-space: nowrap; max-width: 500px; overflow: hidden; text-overflow: ellipsis; \">[&quot;D&quot;,&quot;J&quot;,&quot;T&quot;,&quot;U&quot;]</td><td style=\"white-space: nowrap; max-width: 500px; overflow: hidden; text-overflow: ellipsis; \">1.22e-04</td></tr>\n",
       "<tr><td style=\"white-space: nowrap; max-width: 500px; overflow: hidden; text-overflow: ellipsis; \">&quot;FHIT&quot;</td><td style=\"white-space: nowrap; max-width: 500px; overflow: hidden; text-overflow: ellipsis; \">[&quot;A&quot;,&quot;D&quot;,&quot;J&quot;,&quot;X&quot;]</td><td style=\"white-space: nowrap; max-width: 500px; overflow: hidden; text-overflow: ellipsis; \">3.05e-05</td></tr>\n",
       "<tr><td style=\"white-space: nowrap; max-width: 500px; overflow: hidden; text-overflow: ellipsis; \">&quot;FLG-AS1&quot;</td><td style=\"white-space: nowrap; max-width: 500px; overflow: hidden; text-overflow: ellipsis; \">[&quot;G&quot;,&quot;H&quot;,&quot;J&quot;,&quot;T&quot;]</td><td style=\"white-space: nowrap; max-width: 500px; overflow: hidden; text-overflow: ellipsis; \">3.91e-03</td></tr>\n",
       "<tr><td style=\"white-space: nowrap; max-width: 500px; overflow: hidden; text-overflow: ellipsis; \">&quot;FN1&quot;</td><td style=\"white-space: nowrap; max-width: 500px; overflow: hidden; text-overflow: ellipsis; \">[&quot;C&quot;,&quot;E&quot;,&quot;H&quot;,&quot;X&quot;]</td><td style=\"white-space: nowrap; max-width: 500px; overflow: hidden; text-overflow: ellipsis; \">7.62e-06</td></tr>\n",
       "<tr><td style=\"white-space: nowrap; max-width: 500px; overflow: hidden; text-overflow: ellipsis; \">&quot;FSTL5&quot;</td><td style=\"white-space: nowrap; max-width: 500px; overflow: hidden; text-overflow: ellipsis; \">[&quot;G&quot;,&quot;J&quot;,&quot;R&quot;,&quot;T&quot;]</td><td style=\"white-space: nowrap; max-width: 500px; overflow: hidden; text-overflow: ellipsis; \">3.91e-03</td></tr>\n",
       "<tr><td style=\"white-space: nowrap; max-width: 500px; overflow: hidden; text-overflow: ellipsis; \">&quot;GIGYF2&quot;</td><td style=\"white-space: nowrap; max-width: 500px; overflow: hidden; text-overflow: ellipsis; \">[&quot;G&quot;,&quot;J&quot;,&quot;R&quot;,&quot;S&quot;]</td><td style=\"white-space: nowrap; max-width: 500px; overflow: hidden; text-overflow: ellipsis; \">9.77e-04</td></tr>\n",
       "<tr><td style=\"white-space: nowrap; max-width: 500px; overflow: hidden; text-overflow: ellipsis; \">&quot;GNAS&quot;</td><td style=\"white-space: nowrap; max-width: 500px; overflow: hidden; text-overflow: ellipsis; \">[&quot;J&quot;,&quot;U&quot;,&quot;W&quot;,&quot;X&quot;]</td><td style=\"white-space: nowrap; max-width: 500px; overflow: hidden; text-overflow: ellipsis; \">1.91e-06</td></tr>\n",
       "<tr><td style=\"white-space: nowrap; max-width: 500px; overflow: hidden; text-overflow: ellipsis; \">&quot;GSE1&quot;</td><td style=\"white-space: nowrap; max-width: 500px; overflow: hidden; text-overflow: ellipsis; \">[&quot;A&quot;,&quot;J&quot;,&quot;T&quot;,&quot;X&quot;]</td><td style=\"white-space: nowrap; max-width: 500px; overflow: hidden; text-overflow: ellipsis; \">9.77e-04</td></tr>\n",
       "<tr><td style=\"white-space: nowrap; max-width: 500px; overflow: hidden; text-overflow: ellipsis; \">&quot;HK1&quot;</td><td style=\"white-space: nowrap; max-width: 500px; overflow: hidden; text-overflow: ellipsis; \">[&quot;D&quot;,&quot;H&quot;,&quot;I&quot;,&quot;J&quot;]</td><td style=\"white-space: nowrap; max-width: 500px; overflow: hidden; text-overflow: ellipsis; \">3.05e-05</td></tr>\n",
       "<tr><td style=\"white-space: nowrap; max-width: 500px; overflow: hidden; text-overflow: ellipsis; \">&quot;HPSE2&quot;</td><td style=\"white-space: nowrap; max-width: 500px; overflow: hidden; text-overflow: ellipsis; \">[&quot;G&quot;,&quot;H&quot;,&quot;S&quot;,&quot;X&quot;]</td><td style=\"white-space: nowrap; max-width: 500px; overflow: hidden; text-overflow: ellipsis; \">4.88e-04</td></tr>\n",
       "<tr><td style=\"white-space: nowrap; max-width: 500px; overflow: hidden; text-overflow: ellipsis; \">&quot;IQGAP2&quot;</td><td style=\"white-space: nowrap; max-width: 500px; overflow: hidden; text-overflow: ellipsis; \">[&quot;E&quot;,&quot;G&quot;,&quot;W&quot;,&quot;X&quot;]</td><td style=\"white-space: nowrap; max-width: 500px; overflow: hidden; text-overflow: ellipsis; \">1.91e-06</td></tr>\n",
       "<tr><td style=\"white-space: nowrap; max-width: 500px; overflow: hidden; text-overflow: ellipsis; \">&quot;ISM1&quot;</td><td style=\"white-space: nowrap; max-width: 500px; overflow: hidden; text-overflow: ellipsis; \">[&quot;D&quot;,&quot;G&quot;,&quot;J&quot;,&quot;T&quot;]</td><td style=\"white-space: nowrap; max-width: 500px; overflow: hidden; text-overflow: ellipsis; \">4.88e-04</td></tr>\n",
       "<tr><td style=\"white-space: nowrap; max-width: 500px; overflow: hidden; text-overflow: ellipsis; \">&quot;KAT6B&quot;</td><td style=\"white-space: nowrap; max-width: 500px; overflow: hidden; text-overflow: ellipsis; \">[&quot;H&quot;,&quot;I&quot;,&quot;J&quot;,&quot;X&quot;]</td><td style=\"white-space: nowrap; max-width: 500px; overflow: hidden; text-overflow: ellipsis; \">2.45e-04</td></tr>\n",
       "<tr><td style=\"white-space: nowrap; max-width: 500px; overflow: hidden; text-overflow: ellipsis; \">&quot;KCNIP4&quot;</td><td style=\"white-space: nowrap; max-width: 500px; overflow: hidden; text-overflow: ellipsis; \">[&quot;E&quot;,&quot;J&quot;,&quot;S&quot;,&quot;Y&quot;]</td><td style=\"white-space: nowrap; max-width: 500px; overflow: hidden; text-overflow: ellipsis; \">6.10e-05</td></tr>\n",
       "<tr><td style=\"white-space: nowrap; max-width: 500px; overflow: hidden; text-overflow: ellipsis; \">&quot;KDM4C&quot;</td><td style=\"white-space: nowrap; max-width: 500px; overflow: hidden; text-overflow: ellipsis; \">[&quot;G&quot;,&quot;I&quot;,&quot;T&quot;,&quot;X&quot;]</td><td style=\"white-space: nowrap; max-width: 500px; overflow: hidden; text-overflow: ellipsis; \">9.78e-04</td></tr>\n",
       "<tr><td style=\"white-space: nowrap; max-width: 500px; overflow: hidden; text-overflow: ellipsis; \">&quot;KIF6&quot;</td><td style=\"white-space: nowrap; max-width: 500px; overflow: hidden; text-overflow: ellipsis; \">[&quot;D&quot;,&quot;J&quot;,&quot;T&quot;,&quot;X&quot;]</td><td style=\"white-space: nowrap; max-width: 500px; overflow: hidden; text-overflow: ellipsis; \">2.44e-04</td></tr>\n",
       "<tr><td style=\"white-space: nowrap; max-width: 500px; overflow: hidden; text-overflow: ellipsis; \">&quot;LINC01414&quot;</td><td style=\"white-space: nowrap; max-width: 500px; overflow: hidden; text-overflow: ellipsis; \">[&quot;A&quot;,&quot;J&quot;,&quot;U&quot;,&quot;X&quot;]</td><td style=\"white-space: nowrap; max-width: 500px; overflow: hidden; text-overflow: ellipsis; \">1.22e-04</td></tr>\n",
       "<tr><td style=\"white-space: nowrap; max-width: 500px; overflow: hidden; text-overflow: ellipsis; \">&quot;LPP&quot;</td><td style=\"white-space: nowrap; max-width: 500px; overflow: hidden; text-overflow: ellipsis; \">[&quot;H&quot;,&quot;J&quot;,&quot;T&quot;,&quot;U&quot;]</td><td style=\"white-space: nowrap; max-width: 500px; overflow: hidden; text-overflow: ellipsis; \">9.77e-04</td></tr>\n",
       "<tr><td style=\"white-space: nowrap; max-width: 500px; overflow: hidden; text-overflow: ellipsis; \">&quot;LSAMP&quot;</td><td style=\"white-space: nowrap; max-width: 500px; overflow: hidden; text-overflow: ellipsis; \">[&quot;D&quot;,&quot;I&quot;,&quot;U&quot;,&quot;X&quot;]</td><td style=\"white-space: nowrap; max-width: 500px; overflow: hidden; text-overflow: ellipsis; \">7.63e-06</td></tr>\n",
       "<tr><td style=\"white-space: nowrap; max-width: 500px; overflow: hidden; text-overflow: ellipsis; \">&quot;LTBP1&quot;</td><td style=\"white-space: nowrap; max-width: 500px; overflow: hidden; text-overflow: ellipsis; \">[&quot;J&quot;,&quot;R&quot;,&quot;U&quot;,&quot;X&quot;]</td><td style=\"white-space: nowrap; max-width: 500px; overflow: hidden; text-overflow: ellipsis; \">2.44e-04</td></tr>\n",
       "<tr><td style=\"white-space: nowrap; max-width: 500px; overflow: hidden; text-overflow: ellipsis; \">&quot;MAGI2&quot;</td><td style=\"white-space: nowrap; max-width: 500px; overflow: hidden; text-overflow: ellipsis; \">[&quot;A&quot;,&quot;E&quot;,&quot;G&quot;,&quot;R&quot;]</td><td style=\"white-space: nowrap; max-width: 500px; overflow: hidden; text-overflow: ellipsis; \">1.22e-04</td></tr>\n",
       "<tr><td style=\"white-space: nowrap; max-width: 500px; overflow: hidden; text-overflow: ellipsis; \">&quot;MROH8&quot;</td><td style=\"white-space: nowrap; max-width: 500px; overflow: hidden; text-overflow: ellipsis; \">[&quot;A&quot;,&quot;G&quot;,&quot;J&quot;,&quot;T&quot;]</td><td style=\"white-space: nowrap; max-width: 500px; overflow: hidden; text-overflow: ellipsis; \">1.95e-03</td></tr>\n",
       "<tr><td style=\"white-space: nowrap; max-width: 500px; overflow: hidden; text-overflow: ellipsis; \">&quot;NAALADL2&quot;</td><td style=\"white-space: nowrap; max-width: 500px; overflow: hidden; text-overflow: ellipsis; \">[&quot;A&quot;,&quot;J&quot;,&quot;T&quot;,&quot;U&quot;]</td><td style=\"white-space: nowrap; max-width: 500px; overflow: hidden; text-overflow: ellipsis; \">4.88e-04</td></tr>\n",
       "<tr><td style=\"white-space: nowrap; max-width: 500px; overflow: hidden; text-overflow: ellipsis; \">&quot;NAV2&quot;</td><td style=\"white-space: nowrap; max-width: 500px; overflow: hidden; text-overflow: ellipsis; \">[&quot;A&quot;,&quot;J&quot;,&quot;T&quot;,&quot;U&quot;]</td><td style=\"white-space: nowrap; max-width: 500px; overflow: hidden; text-overflow: ellipsis; \">4.88e-04</td></tr>\n",
       "<tr><td style=\"white-space: nowrap; max-width: 500px; overflow: hidden; text-overflow: ellipsis; \">&quot;NCAM1&quot;</td><td style=\"white-space: nowrap; max-width: 500px; overflow: hidden; text-overflow: ellipsis; \">[&quot;E&quot;,&quot;G&quot;,&quot;S&quot;,&quot;X&quot;]</td><td style=\"white-space: nowrap; max-width: 500px; overflow: hidden; text-overflow: ellipsis; \">2.44e-04</td></tr>\n",
       "<tr><td style=\"white-space: nowrap; max-width: 500px; overflow: hidden; text-overflow: ellipsis; \">&quot;NRG1&quot;</td><td style=\"white-space: nowrap; max-width: 500px; overflow: hidden; text-overflow: ellipsis; \">[&quot;A&quot;,&quot;F&quot;,&quot;J&quot;,&quot;U&quot;]</td><td style=\"white-space: nowrap; max-width: 500px; overflow: hidden; text-overflow: ellipsis; \">7.62e-06</td></tr>\n",
       "<tr><td style=\"white-space: nowrap; max-width: 500px; overflow: hidden; text-overflow: ellipsis; \">&quot;NRXN3&quot;</td><td style=\"white-space: nowrap; max-width: 500px; overflow: hidden; text-overflow: ellipsis; \">[&quot;G&quot;,&quot;H&quot;,&quot;T&quot;,&quot;U&quot;]</td><td style=\"white-space: nowrap; max-width: 500px; overflow: hidden; text-overflow: ellipsis; \">9.77e-04</td></tr>\n",
       "<tr><td style=\"white-space: nowrap; max-width: 500px; overflow: hidden; text-overflow: ellipsis; \">&quot;NUP153&quot;</td><td style=\"white-space: nowrap; max-width: 500px; overflow: hidden; text-overflow: ellipsis; \">[&quot;C&quot;,&quot;E&quot;,&quot;G&quot;,&quot;J&quot;]</td><td style=\"white-space: nowrap; max-width: 500px; overflow: hidden; text-overflow: ellipsis; \">3.05e-05</td></tr>\n",
       "<tr><td style=\"white-space: nowrap; max-width: 500px; overflow: hidden; text-overflow: ellipsis; \">&quot;PARD3B&quot;</td><td style=\"white-space: nowrap; max-width: 500px; overflow: hidden; text-overflow: ellipsis; \">[&quot;G&quot;,&quot;J&quot;,&quot;S&quot;,&quot;X&quot;]</td><td style=\"white-space: nowrap; max-width: 500px; overflow: hidden; text-overflow: ellipsis; \">9.77e-04</td></tr>\n",
       "<tr><td style=\"white-space: nowrap; max-width: 500px; overflow: hidden; text-overflow: ellipsis; \">&quot;PCAT1&quot;</td><td style=\"white-space: nowrap; max-width: 500px; overflow: hidden; text-overflow: ellipsis; \">[&quot;D&quot;,&quot;U&quot;,&quot;X&quot;,&quot;Y&quot;]</td><td style=\"white-space: nowrap; max-width: 500px; overflow: hidden; text-overflow: ellipsis; \">3.81e-06</td></tr>\n",
       "<tr><td style=\"white-space: nowrap; max-width: 500px; overflow: hidden; text-overflow: ellipsis; \">&quot;PKHD1&quot;</td><td style=\"white-space: nowrap; max-width: 500px; overflow: hidden; text-overflow: ellipsis; \">[&quot;D&quot;,&quot;G&quot;,&quot;J&quot;,&quot;X&quot;]</td><td style=\"white-space: nowrap; max-width: 500px; overflow: hidden; text-overflow: ellipsis; \">1.22e-04</td></tr>\n",
       "<tr><td style=\"white-space: nowrap; max-width: 500px; overflow: hidden; text-overflow: ellipsis; \">&quot;PKN2-AS1&quot;</td><td style=\"white-space: nowrap; max-width: 500px; overflow: hidden; text-overflow: ellipsis; \">[&quot;A&quot;,&quot;D&quot;,&quot;G&quot;,&quot;X&quot;]</td><td style=\"white-space: nowrap; max-width: 500px; overflow: hidden; text-overflow: ellipsis; \">3.05e-05</td></tr>\n",
       "<tr><td style=\"white-space: nowrap; max-width: 500px; overflow: hidden; text-overflow: ellipsis; \">&quot;PKP4&quot;</td><td style=\"white-space: nowrap; max-width: 500px; overflow: hidden; text-overflow: ellipsis; \">[&quot;F&quot;,&quot;J&quot;,&quot;S&quot;,&quot;T&quot;]</td><td style=\"white-space: nowrap; max-width: 500px; overflow: hidden; text-overflow: ellipsis; \">1.22e-04</td></tr>\n",
       "<tr><td style=\"white-space: nowrap; max-width: 500px; overflow: hidden; text-overflow: ellipsis; \">&quot;PLCB1&quot;</td><td style=\"white-space: nowrap; max-width: 500px; overflow: hidden; text-overflow: ellipsis; \">[&quot;D&quot;,&quot;G&quot;,&quot;J&quot;,&quot;T&quot;]</td><td style=\"white-space: nowrap; max-width: 500px; overflow: hidden; text-overflow: ellipsis; \">4.88e-04</td></tr>\n",
       "<tr><td style=\"white-space: nowrap; max-width: 500px; overflow: hidden; text-overflow: ellipsis; \">&quot;PLXNC1&quot;</td><td style=\"white-space: nowrap; max-width: 500px; overflow: hidden; text-overflow: ellipsis; \">[&quot;G&quot;,&quot;H&quot;,&quot;T&quot;,&quot;U&quot;]</td><td style=\"white-space: nowrap; max-width: 500px; overflow: hidden; text-overflow: ellipsis; \">9.77e-04</td></tr>\n",
       "<tr><td style=\"white-space: nowrap; max-width: 500px; overflow: hidden; text-overflow: ellipsis; \">&quot;PTPRD&quot;</td><td style=\"white-space: nowrap; max-width: 500px; overflow: hidden; text-overflow: ellipsis; \">[&quot;G&quot;,&quot;I&quot;,&quot;T&quot;,&quot;X&quot;]</td><td style=\"white-space: nowrap; max-width: 500px; overflow: hidden; text-overflow: ellipsis; \">9.78e-04</td></tr>\n",
       "<tr><td style=\"white-space: nowrap; max-width: 500px; overflow: hidden; text-overflow: ellipsis; \">&quot;RARB&quot;</td><td style=\"white-space: nowrap; max-width: 500px; overflow: hidden; text-overflow: ellipsis; \">[&quot;D&quot;,&quot;H&quot;,&quot;J&quot;,&quot;T&quot;]</td><td style=\"white-space: nowrap; max-width: 500px; overflow: hidden; text-overflow: ellipsis; \">2.44e-04</td></tr>\n",
       "<tr><td style=\"white-space: nowrap; max-width: 500px; overflow: hidden; text-overflow: ellipsis; \">&quot;RBFOX1&quot;</td><td style=\"white-space: nowrap; max-width: 500px; overflow: hidden; text-overflow: ellipsis; \">[&quot;H&quot;,&quot;J&quot;,&quot;T&quot;,&quot;U&quot;]</td><td style=\"white-space: nowrap; max-width: 500px; overflow: hidden; text-overflow: ellipsis; \">9.77e-04</td></tr>\n",
       "<tr><td style=\"white-space: nowrap; max-width: 500px; overflow: hidden; text-overflow: ellipsis; \">&quot;SDK1&quot;</td><td style=\"white-space: nowrap; max-width: 500px; overflow: hidden; text-overflow: ellipsis; \">[&quot;A&quot;,&quot;G&quot;,&quot;J&quot;,&quot;T&quot;]</td><td style=\"white-space: nowrap; max-width: 500px; overflow: hidden; text-overflow: ellipsis; \">1.95e-03</td></tr>\n",
       "<tr><td style=\"white-space: nowrap; max-width: 500px; overflow: hidden; text-overflow: ellipsis; \">&quot;SLC4A10&quot;</td><td style=\"white-space: nowrap; max-width: 500px; overflow: hidden; text-overflow: ellipsis; \">[&quot;F&quot;,&quot;J&quot;,&quot;S&quot;,&quot;U&quot;]</td><td style=\"white-space: nowrap; max-width: 500px; overflow: hidden; text-overflow: ellipsis; \">1.52e-05</td></tr>\n",
       "<tr><td style=\"white-space: nowrap; max-width: 500px; overflow: hidden; text-overflow: ellipsis; \">&quot;SLC8A1&quot;</td><td style=\"white-space: nowrap; max-width: 500px; overflow: hidden; text-overflow: ellipsis; \">[&quot;E&quot;,&quot;J&quot;,&quot;U&quot;,&quot;X&quot;]</td><td style=\"white-space: nowrap; max-width: 500px; overflow: hidden; text-overflow: ellipsis; \">1.22e-04</td></tr>\n",
       "<tr><td style=\"white-space: nowrap; max-width: 500px; overflow: hidden; text-overflow: ellipsis; \">&quot;SLC8A1-AS1&quot;</td><td style=\"white-space: nowrap; max-width: 500px; overflow: hidden; text-overflow: ellipsis; \">[&quot;E&quot;,&quot;J&quot;,&quot;U&quot;,&quot;X&quot;]</td><td style=\"white-space: nowrap; max-width: 500px; overflow: hidden; text-overflow: ellipsis; \">1.22e-04</td></tr>\n",
       "<tr><td style=\"white-space: nowrap; max-width: 500px; overflow: hidden; text-overflow: ellipsis; \">&quot;STAB2&quot;</td><td style=\"white-space: nowrap; max-width: 500px; overflow: hidden; text-overflow: ellipsis; \">[&quot;G&quot;,&quot;R&quot;,&quot;S&quot;,&quot;X&quot;]</td><td style=\"white-space: nowrap; max-width: 500px; overflow: hidden; text-overflow: ellipsis; \">4.88e-04</td></tr>\n",
       "<tr><td style=\"white-space: nowrap; max-width: 500px; overflow: hidden; text-overflow: ellipsis; \">&quot;SUMF1&quot;</td><td style=\"white-space: nowrap; max-width: 500px; overflow: hidden; text-overflow: ellipsis; \">[&quot;E&quot;,&quot;J&quot;,&quot;T&quot;,&quot;X&quot;]</td><td style=\"white-space: nowrap; max-width: 500px; overflow: hidden; text-overflow: ellipsis; \">9.77e-04</td></tr>\n",
       "<tr><td style=\"white-space: nowrap; max-width: 500px; overflow: hidden; text-overflow: ellipsis; \">&quot;TENM2&quot;</td><td style=\"white-space: nowrap; max-width: 500px; overflow: hidden; text-overflow: ellipsis; \">[&quot;G&quot;,&quot;J&quot;,&quot;T&quot;,&quot;U&quot;]</td><td style=\"white-space: nowrap; max-width: 500px; overflow: hidden; text-overflow: ellipsis; \">1.95e-03</td></tr>\n",
       "<tr><td style=\"white-space: nowrap; max-width: 500px; overflow: hidden; text-overflow: ellipsis; \">&quot;TLL2&quot;</td><td style=\"white-space: nowrap; max-width: 500px; overflow: hidden; text-overflow: ellipsis; \">[&quot;H&quot;,&quot;I&quot;,&quot;J&quot;,&quot;X&quot;]</td><td style=\"white-space: nowrap; max-width: 500px; overflow: hidden; text-overflow: ellipsis; \">2.45e-04</td></tr>\n",
       "<tr><td style=\"white-space: nowrap; max-width: 500px; overflow: hidden; text-overflow: ellipsis; \">&quot;TSHZ2&quot;</td><td style=\"white-space: nowrap; max-width: 500px; overflow: hidden; text-overflow: ellipsis; \">[&quot;G&quot;,&quot;I&quot;,&quot;T&quot;,&quot;X&quot;]</td><td style=\"white-space: nowrap; max-width: 500px; overflow: hidden; text-overflow: ellipsis; \">9.78e-04</td></tr>\n",
       "<tr><td style=\"white-space: nowrap; max-width: 500px; overflow: hidden; text-overflow: ellipsis; \">&quot;TSPAN9&quot;</td><td style=\"white-space: nowrap; max-width: 500px; overflow: hidden; text-overflow: ellipsis; \">[&quot;G&quot;,&quot;J&quot;,&quot;S&quot;,&quot;T&quot;]</td><td style=\"white-space: nowrap; max-width: 500px; overflow: hidden; text-overflow: ellipsis; \">3.91e-03</td></tr>\n",
       "<tr><td style=\"white-space: nowrap; max-width: 500px; overflow: hidden; text-overflow: ellipsis; \">&quot;USH2A&quot;</td><td style=\"white-space: nowrap; max-width: 500px; overflow: hidden; text-overflow: ellipsis; \">[&quot;H&quot;,&quot;I&quot;,&quot;R&quot;,&quot;X&quot;]</td><td style=\"white-space: nowrap; max-width: 500px; overflow: hidden; text-overflow: ellipsis; \">1.22e-04</td></tr>\n",
       "<tr><td style=\"white-space: nowrap; max-width: 500px; overflow: hidden; text-overflow: ellipsis; \">&quot;VAV3&quot;</td><td style=\"white-space: nowrap; max-width: 500px; overflow: hidden; text-overflow: ellipsis; \">[&quot;A&quot;,&quot;H&quot;,&quot;J&quot;,&quot;X&quot;]</td><td style=\"white-space: nowrap; max-width: 500px; overflow: hidden; text-overflow: ellipsis; \">2.44e-04</td></tr>\n",
       "<tr><td style=\"white-space: nowrap; max-width: 500px; overflow: hidden; text-overflow: ellipsis; \">&quot;ZNF385B&quot;</td><td style=\"white-space: nowrap; max-width: 500px; overflow: hidden; text-overflow: ellipsis; \">[&quot;G&quot;,&quot;J&quot;,&quot;S&quot;,&quot;X&quot;]</td><td style=\"white-space: nowrap; max-width: 500px; overflow: hidden; text-overflow: ellipsis; \">9.77e-04</td></tr>\n",
       "<tr><td style=\"white-space: nowrap; max-width: 500px; overflow: hidden; text-overflow: ellipsis; \">&quot;ZNF385D&quot;</td><td style=\"white-space: nowrap; max-width: 500px; overflow: hidden; text-overflow: ellipsis; \">[&quot;D&quot;,&quot;H&quot;,&quot;J&quot;,&quot;T&quot;]</td><td style=\"white-space: nowrap; max-width: 500px; overflow: hidden; text-overflow: ellipsis; \">2.44e-04</td></tr>\n",
       "</tbody></table>"
      ],
      "text/plain": [
       "+--------------+-------------------+----------+\n",
       "| within_gene  | fams_non_ref      |    p_seg |\n",
       "+--------------+-------------------+----------+\n",
       "| str          | array<str>        |  float64 |\n",
       "+--------------+-------------------+----------+\n",
       "| \"AC007402.1\" | [\"E\",\"F\",\"J\",\"X\"] | 1.52e-05 |\n",
       "| \"AC079298.3\" | [\"H\",\"J\",\"R\",\"X\"] | 4.88e-04 |\n",
       "| \"AC087379.1\" | [\"G\",\"H\",\"J\",\"X\"] | 9.77e-04 |\n",
       "| \"AC093865.1\" | [\"E\",\"G\",\"S\",\"X\"] | 2.44e-04 |\n",
       "| \"ADAMTSL1\"   | [\"A\",\"G\",\"T\",\"Y\"] | 2.44e-04 |\n",
       "| \"ADGRL2\"     | [\"A\",\"C\",\"I\",\"Y\"] | 9.54e-07 |\n",
       "| \"ADGRL3\"     | [\"G\",\"H\",\"J\",\"S\"] | 9.77e-04 |\n",
       "| \"ADK\"        | [\"D\",\"E\",\"J\",\"X\"] | 3.05e-05 |\n",
       "| \"AL022068.1\" | [\"E\",\"G\",\"T\",\"X\"] | 9.77e-04 |\n",
       "| \"AL035078.4\" | [\"A\",\"H\",\"J\",\"X\"] | 2.44e-04 |\n",
       "| \"AL157944.1\" | [\"A\",\"G\",\"I\",\"Y\"] | 3.06e-05 |\n",
       "| \"AL583785.1\" | [\"G\",\"I\",\"T\",\"X\"] | 9.78e-04 |\n",
       "| \"ANKS1B\"     | [\"G\",\"T\",\"U\",\"X\"] | 9.77e-04 |\n",
       "| \"ARAP2\"      | [\"H\",\"J\",\"S\",\"X\"] | 4.88e-04 |\n",
       "| \"AUTS2\"      | [\"A\",\"E\",\"G\",\"X\"] | 1.22e-04 |\n",
       "| \"CAMKMT\"     | [\"E\",\"J\",\"U\",\"X\"] | 1.22e-04 |\n",
       "| \"CAMTA1\"     | [\"H\",\"J\",\"T\",\"X\"] | 1.95e-03 |\n",
       "| \"CD44\"       | [\"A\",\"B\",\"G\",\"I\"] | 1.53e-05 |\n",
       "| \"CELF2\"      | [\"A\",\"G\",\"H\",\"J\"] | 4.88e-04 |\n",
       "| \"CLSTN2\"     | [\"D\",\"H\",\"I\",\"J\"] | 3.05e-05 |\n",
       "| \"CNTN4\"      | [\"E\",\"H\",\"T\",\"X\"] | 4.88e-04 |\n",
       "| \"CSMD2\"      | [\"A\",\"G\",\"I\",\"S\"] | 1.22e-04 |\n",
       "| \"CTNNA3\"     | [\"D\",\"E\",\"I\",\"J\"] | 1.53e-05 |\n",
       "| \"DLC1\"       | [\"A\",\"I\",\"J\",\"U\"] | 6.11e-05 |\n",
       "| \"DPH6-DT\"    | [\"A\",\"G\",\"H\",\"X\"] | 2.44e-04 |\n",
       "| \"DTHD1\"      | [\"D\",\"H\",\"J\",\"S\"] | 6.09e-05 |\n",
       "| \"EBF1\"       | [\"J\",\"T\",\"U\",\"X\"] | 9.77e-04 |\n",
       "| \"ERBB4\"      | [\"E\",\"G\",\"J\",\"S\"] | 4.88e-04 |\n",
       "| \"ERC2\"       | [\"A\",\"D\",\"J\",\"T\"] | 1.22e-04 |\n",
       "| \"ETV6\"       | [\"G\",\"H\",\"S\",\"T\"] | 1.95e-03 |\n",
       "| \"FGF12\"      | [\"D\",\"J\",\"T\",\"U\"] | 1.22e-04 |\n",
       "| \"FHIT\"       | [\"A\",\"D\",\"J\",\"X\"] | 3.05e-05 |\n",
       "| \"FLG-AS1\"    | [\"G\",\"H\",\"J\",\"T\"] | 3.91e-03 |\n",
       "| \"FN1\"        | [\"C\",\"E\",\"H\",\"X\"] | 7.62e-06 |\n",
       "| \"FSTL5\"      | [\"G\",\"J\",\"R\",\"T\"] | 3.91e-03 |\n",
       "| \"GIGYF2\"     | [\"G\",\"J\",\"R\",\"S\"] | 9.77e-04 |\n",
       "| \"GNAS\"       | [\"J\",\"U\",\"W\",\"X\"] | 1.91e-06 |\n",
       "| \"GSE1\"       | [\"A\",\"J\",\"T\",\"X\"] | 9.77e-04 |\n",
       "| \"HK1\"        | [\"D\",\"H\",\"I\",\"J\"] | 3.05e-05 |\n",
       "| \"HPSE2\"      | [\"G\",\"H\",\"S\",\"X\"] | 4.88e-04 |\n",
       "| \"IQGAP2\"     | [\"E\",\"G\",\"W\",\"X\"] | 1.91e-06 |\n",
       "| \"ISM1\"       | [\"D\",\"G\",\"J\",\"T\"] | 4.88e-04 |\n",
       "| \"KAT6B\"      | [\"H\",\"I\",\"J\",\"X\"] | 2.45e-04 |\n",
       "| \"KCNIP4\"     | [\"E\",\"J\",\"S\",\"Y\"] | 6.10e-05 |\n",
       "| \"KDM4C\"      | [\"G\",\"I\",\"T\",\"X\"] | 9.78e-04 |\n",
       "| \"KIF6\"       | [\"D\",\"J\",\"T\",\"X\"] | 2.44e-04 |\n",
       "| \"LINC01414\"  | [\"A\",\"J\",\"U\",\"X\"] | 1.22e-04 |\n",
       "| \"LPP\"        | [\"H\",\"J\",\"T\",\"U\"] | 9.77e-04 |\n",
       "| \"LSAMP\"      | [\"D\",\"I\",\"U\",\"X\"] | 7.63e-06 |\n",
       "| \"LTBP1\"      | [\"J\",\"R\",\"U\",\"X\"] | 2.44e-04 |\n",
       "| \"MAGI2\"      | [\"A\",\"E\",\"G\",\"R\"] | 1.22e-04 |\n",
       "| \"MROH8\"      | [\"A\",\"G\",\"J\",\"T\"] | 1.95e-03 |\n",
       "| \"NAALADL2\"   | [\"A\",\"J\",\"T\",\"U\"] | 4.88e-04 |\n",
       "| \"NAV2\"       | [\"A\",\"J\",\"T\",\"U\"] | 4.88e-04 |\n",
       "| \"NCAM1\"      | [\"E\",\"G\",\"S\",\"X\"] | 2.44e-04 |\n",
       "| \"NRG1\"       | [\"A\",\"F\",\"J\",\"U\"] | 7.62e-06 |\n",
       "| \"NRXN3\"      | [\"G\",\"H\",\"T\",\"U\"] | 9.77e-04 |\n",
       "| \"NUP153\"     | [\"C\",\"E\",\"G\",\"J\"] | 3.05e-05 |\n",
       "| \"PARD3B\"     | [\"G\",\"J\",\"S\",\"X\"] | 9.77e-04 |\n",
       "| \"PCAT1\"      | [\"D\",\"U\",\"X\",\"Y\"] | 3.81e-06 |\n",
       "| \"PKHD1\"      | [\"D\",\"G\",\"J\",\"X\"] | 1.22e-04 |\n",
       "| \"PKN2-AS1\"   | [\"A\",\"D\",\"G\",\"X\"] | 3.05e-05 |\n",
       "| \"PKP4\"       | [\"F\",\"J\",\"S\",\"T\"] | 1.22e-04 |\n",
       "| \"PLCB1\"      | [\"D\",\"G\",\"J\",\"T\"] | 4.88e-04 |\n",
       "| \"PLXNC1\"     | [\"G\",\"H\",\"T\",\"U\"] | 9.77e-04 |\n",
       "| \"PTPRD\"      | [\"G\",\"I\",\"T\",\"X\"] | 9.78e-04 |\n",
       "| \"RARB\"       | [\"D\",\"H\",\"J\",\"T\"] | 2.44e-04 |\n",
       "| \"RBFOX1\"     | [\"H\",\"J\",\"T\",\"U\"] | 9.77e-04 |\n",
       "| \"SDK1\"       | [\"A\",\"G\",\"J\",\"T\"] | 1.95e-03 |\n",
       "| \"SLC4A10\"    | [\"F\",\"J\",\"S\",\"U\"] | 1.52e-05 |\n",
       "| \"SLC8A1\"     | [\"E\",\"J\",\"U\",\"X\"] | 1.22e-04 |\n",
       "| \"SLC8A1-AS1\" | [\"E\",\"J\",\"U\",\"X\"] | 1.22e-04 |\n",
       "| \"STAB2\"      | [\"G\",\"R\",\"S\",\"X\"] | 4.88e-04 |\n",
       "| \"SUMF1\"      | [\"E\",\"J\",\"T\",\"X\"] | 9.77e-04 |\n",
       "| \"TENM2\"      | [\"G\",\"J\",\"T\",\"U\"] | 1.95e-03 |\n",
       "| \"TLL2\"       | [\"H\",\"I\",\"J\",\"X\"] | 2.45e-04 |\n",
       "| \"TSHZ2\"      | [\"G\",\"I\",\"T\",\"X\"] | 9.78e-04 |\n",
       "| \"TSPAN9\"     | [\"G\",\"J\",\"S\",\"T\"] | 3.91e-03 |\n",
       "| \"USH2A\"      | [\"H\",\"I\",\"R\",\"X\"] | 1.22e-04 |\n",
       "| \"VAV3\"       | [\"A\",\"H\",\"J\",\"X\"] | 2.44e-04 |\n",
       "| \"ZNF385B\"    | [\"G\",\"J\",\"S\",\"X\"] | 9.77e-04 |\n",
       "| \"ZNF385D\"    | [\"D\",\"H\",\"J\",\"T\"] | 2.44e-04 |\n",
       "+--------------+-------------------+----------+"
      ]
     },
     "metadata": {},
     "output_type": "display_data"
    }
   ],
   "source": [
    "fams_u.filter(hl.len(fams_u.fams_non_ref) == 4).show(n_rows=150)"
   ]
  },
  {
   "cell_type": "code",
   "execution_count": 82,
   "metadata": {
    "tags": []
   },
   "outputs": [
    {
     "name": "stderr",
     "output_type": "stream",
     "text": [
      "2023-03-01 22:31:28.319 Hail: INFO: Ordering unsorted dataset with network shuffle\n",
      "2023-03-01 22:31:28.631 Hail: INFO: Ordering unsorted dataset with network shuffle\n"
     ]
    },
    {
     "data": {
      "text/html": [
       "<table><thead><tr><td style=\"white-space: nowrap; max-width: 500px; overflow: hidden; text-overflow: ellipsis; \" colspan=\"1\"><div style=\"text-align: left;\"></div></td><td style=\"white-space: nowrap; max-width: 500px; overflow: hidden; text-overflow: ellipsis; \" colspan=\"1\"><div style=\"text-align: left;\"></div></td><td style=\"white-space: nowrap; max-width: 500px; overflow: hidden; text-overflow: ellipsis; \" colspan=\"1\"><div style=\"text-align: left;\"></div></td></tr><tr><td style=\"white-space: nowrap; max-width: 500px; overflow: hidden; text-overflow: ellipsis; \" colspan=\"1\"><div style=\"text-align: left;border-bottom: solid 2px #000; padding-bottom: 5px\">within_gene</div></td><td style=\"white-space: nowrap; max-width: 500px; overflow: hidden; text-overflow: ellipsis; \" colspan=\"1\"><div style=\"text-align: left;border-bottom: solid 2px #000; padding-bottom: 5px\">fams_non_ref</div></td><td style=\"white-space: nowrap; max-width: 500px; overflow: hidden; text-overflow: ellipsis; \" colspan=\"1\"><div style=\"text-align: left;border-bottom: solid 2px #000; padding-bottom: 5px\">p_seg</div></td></tr><tr><td style=\"white-space: nowrap; max-width: 500px; overflow: hidden; text-overflow: ellipsis; text-align: left;\">str</td><td style=\"white-space: nowrap; max-width: 500px; overflow: hidden; text-overflow: ellipsis; text-align: left;\">array&lt;str&gt;</td><td style=\"white-space: nowrap; max-width: 500px; overflow: hidden; text-overflow: ellipsis; text-align: left;\">float64</td></tr>\n",
       "</thead><tbody><tr><td style=\"white-space: nowrap; max-width: 500px; overflow: hidden; text-overflow: ellipsis; \">&quot;AC109466.1&quot;</td><td style=\"white-space: nowrap; max-width: 500px; overflow: hidden; text-overflow: ellipsis; \">[&quot;F&quot;,&quot;J&quot;,&quot;T&quot;,&quot;U&quot;,&quot;X&quot;]</td><td style=\"white-space: nowrap; max-width: 500px; overflow: hidden; text-overflow: ellipsis; \">7.62e-06</td></tr>\n",
       "<tr><td style=\"white-space: nowrap; max-width: 500px; overflow: hidden; text-overflow: ellipsis; \">&quot;AC126121.3&quot;</td><td style=\"white-space: nowrap; max-width: 500px; overflow: hidden; text-overflow: ellipsis; \">[&quot;A&quot;,&quot;D&quot;,&quot;G&quot;,&quot;H&quot;,&quot;J&quot;]</td><td style=\"white-space: nowrap; max-width: 500px; overflow: hidden; text-overflow: ellipsis; \">7.62e-06</td></tr>\n",
       "<tr><td style=\"white-space: nowrap; max-width: 500px; overflow: hidden; text-overflow: ellipsis; \">&quot;AL137230.2&quot;</td><td style=\"white-space: nowrap; max-width: 500px; overflow: hidden; text-overflow: ellipsis; \">[&quot;E&quot;,&quot;G&quot;,&quot;H&quot;,&quot;T&quot;,&quot;U&quot;]</td><td style=\"white-space: nowrap; max-width: 500px; overflow: hidden; text-overflow: ellipsis; \">6.10e-05</td></tr>\n",
       "<tr><td style=\"white-space: nowrap; max-width: 500px; overflow: hidden; text-overflow: ellipsis; \">&quot;AL162726.3&quot;</td><td style=\"white-space: nowrap; max-width: 500px; overflow: hidden; text-overflow: ellipsis; \">[&quot;F&quot;,&quot;G&quot;,&quot;J&quot;,&quot;S&quot;,&quot;X&quot;]</td><td style=\"white-space: nowrap; max-width: 500px; overflow: hidden; text-overflow: ellipsis; \">7.62e-06</td></tr>\n",
       "<tr><td style=\"white-space: nowrap; max-width: 500px; overflow: hidden; text-overflow: ellipsis; \">&quot;AL589740.1&quot;</td><td style=\"white-space: nowrap; max-width: 500px; overflow: hidden; text-overflow: ellipsis; \">[&quot;D&quot;,&quot;J&quot;,&quot;T&quot;,&quot;U&quot;,&quot;Y&quot;]</td><td style=\"white-space: nowrap; max-width: 500px; overflow: hidden; text-overflow: ellipsis; \">3.81e-06</td></tr>\n",
       "<tr><td style=\"white-space: nowrap; max-width: 500px; overflow: hidden; text-overflow: ellipsis; \">&quot;BTBD9&quot;</td><td style=\"white-space: nowrap; max-width: 500px; overflow: hidden; text-overflow: ellipsis; \">[&quot;D&quot;,&quot;G&quot;,&quot;H&quot;,&quot;T&quot;,&quot;X&quot;]</td><td style=\"white-space: nowrap; max-width: 500px; overflow: hidden; text-overflow: ellipsis; \">3.05e-05</td></tr>\n",
       "<tr><td style=\"white-space: nowrap; max-width: 500px; overflow: hidden; text-overflow: ellipsis; \">&quot;CACNA1C&quot;</td><td style=\"white-space: nowrap; max-width: 500px; overflow: hidden; text-overflow: ellipsis; \">[&quot;G&quot;,&quot;H&quot;,&quot;S&quot;,&quot;T&quot;,&quot;X&quot;]</td><td style=\"white-space: nowrap; max-width: 500px; overflow: hidden; text-overflow: ellipsis; \">2.44e-04</td></tr>\n",
       "<tr><td style=\"white-space: nowrap; max-width: 500px; overflow: hidden; text-overflow: ellipsis; \">&quot;CACNA2D3&quot;</td><td style=\"white-space: nowrap; max-width: 500px; overflow: hidden; text-overflow: ellipsis; \">[&quot;A&quot;,&quot;D&quot;,&quot;I&quot;,&quot;J&quot;,&quot;T&quot;]</td><td style=\"white-space: nowrap; max-width: 500px; overflow: hidden; text-overflow: ellipsis; \">7.63e-06</td></tr>\n",
       "<tr><td style=\"white-space: nowrap; max-width: 500px; overflow: hidden; text-overflow: ellipsis; \">&quot;CDH23&quot;</td><td style=\"white-space: nowrap; max-width: 500px; overflow: hidden; text-overflow: ellipsis; \">[&quot;D&quot;,&quot;E&quot;,&quot;H&quot;,&quot;I&quot;,&quot;J&quot;]</td><td style=\"white-space: nowrap; max-width: 500px; overflow: hidden; text-overflow: ellipsis; \">1.91e-06</td></tr>\n",
       "<tr><td style=\"white-space: nowrap; max-width: 500px; overflow: hidden; text-overflow: ellipsis; \">&quot;COL25A1&quot;</td><td style=\"white-space: nowrap; max-width: 500px; overflow: hidden; text-overflow: ellipsis; \">[&quot;G&quot;,&quot;H&quot;,&quot;J&quot;,&quot;X&quot;,&quot;Y&quot;]</td><td style=\"white-space: nowrap; max-width: 500px; overflow: hidden; text-overflow: ellipsis; \">3.05e-05</td></tr>\n",
       "<tr><td style=\"white-space: nowrap; max-width: 500px; overflow: hidden; text-overflow: ellipsis; \">&quot;EPHB1&quot;</td><td style=\"white-space: nowrap; max-width: 500px; overflow: hidden; text-overflow: ellipsis; \">[&quot;C&quot;,&quot;H&quot;,&quot;I&quot;,&quot;J&quot;,&quot;T&quot;]</td><td style=\"white-space: nowrap; max-width: 500px; overflow: hidden; text-overflow: ellipsis; \">7.63e-06</td></tr>\n",
       "<tr><td style=\"white-space: nowrap; max-width: 500px; overflow: hidden; text-overflow: ellipsis; \">&quot;EYS&quot;</td><td style=\"white-space: nowrap; max-width: 500px; overflow: hidden; text-overflow: ellipsis; \">[&quot;D&quot;,&quot;H&quot;,&quot;J&quot;,&quot;T&quot;,&quot;X&quot;]</td><td style=\"white-space: nowrap; max-width: 500px; overflow: hidden; text-overflow: ellipsis; \">3.05e-05</td></tr>\n",
       "<tr><td style=\"white-space: nowrap; max-width: 500px; overflow: hidden; text-overflow: ellipsis; \">&quot;KCNMA1&quot;</td><td style=\"white-space: nowrap; max-width: 500px; overflow: hidden; text-overflow: ellipsis; \">[&quot;E&quot;,&quot;G&quot;,&quot;H&quot;,&quot;I&quot;,&quot;J&quot;]</td><td style=\"white-space: nowrap; max-width: 500px; overflow: hidden; text-overflow: ellipsis; \">3.06e-05</td></tr>\n",
       "<tr><td style=\"white-space: nowrap; max-width: 500px; overflow: hidden; text-overflow: ellipsis; \">&quot;LRMDA&quot;</td><td style=\"white-space: nowrap; max-width: 500px; overflow: hidden; text-overflow: ellipsis; \">[&quot;E&quot;,&quot;H&quot;,&quot;I&quot;,&quot;J&quot;,&quot;X&quot;]</td><td style=\"white-space: nowrap; max-width: 500px; overflow: hidden; text-overflow: ellipsis; \">1.53e-05</td></tr>\n",
       "<tr><td style=\"white-space: nowrap; max-width: 500px; overflow: hidden; text-overflow: ellipsis; \">&quot;NLGN1&quot;</td><td style=\"white-space: nowrap; max-width: 500px; overflow: hidden; text-overflow: ellipsis; \">[&quot;I&quot;,&quot;J&quot;,&quot;T&quot;,&quot;U&quot;,&quot;X&quot;]</td><td style=\"white-space: nowrap; max-width: 500px; overflow: hidden; text-overflow: ellipsis; \">6.11e-05</td></tr>\n",
       "<tr><td style=\"white-space: nowrap; max-width: 500px; overflow: hidden; text-overflow: ellipsis; \">&quot;OPCML&quot;</td><td style=\"white-space: nowrap; max-width: 500px; overflow: hidden; text-overflow: ellipsis; \">[&quot;E&quot;,&quot;H&quot;,&quot;S&quot;,&quot;T&quot;,&quot;X&quot;]</td><td style=\"white-space: nowrap; max-width: 500px; overflow: hidden; text-overflow: ellipsis; \">6.10e-05</td></tr>\n",
       "<tr><td style=\"white-space: nowrap; max-width: 500px; overflow: hidden; text-overflow: ellipsis; \">&quot;PTPRT&quot;</td><td style=\"white-space: nowrap; max-width: 500px; overflow: hidden; text-overflow: ellipsis; \">[&quot;D&quot;,&quot;G&quot;,&quot;J&quot;,&quot;T&quot;,&quot;Y&quot;]</td><td style=\"white-space: nowrap; max-width: 500px; overflow: hidden; text-overflow: ellipsis; \">1.52e-05</td></tr>\n",
       "<tr><td style=\"white-space: nowrap; max-width: 500px; overflow: hidden; text-overflow: ellipsis; \">&quot;ROBO2&quot;</td><td style=\"white-space: nowrap; max-width: 500px; overflow: hidden; text-overflow: ellipsis; \">[&quot;A&quot;,&quot;H&quot;,&quot;I&quot;,&quot;R&quot;,&quot;X&quot;]</td><td style=\"white-space: nowrap; max-width: 500px; overflow: hidden; text-overflow: ellipsis; \">7.64e-06</td></tr>\n",
       "<tr><td style=\"white-space: nowrap; max-width: 500px; overflow: hidden; text-overflow: ellipsis; \">&quot;SEMA3A&quot;</td><td style=\"white-space: nowrap; max-width: 500px; overflow: hidden; text-overflow: ellipsis; \">[&quot;E&quot;,&quot;G&quot;,&quot;H&quot;,&quot;J&quot;,&quot;R&quot;]</td><td style=\"white-space: nowrap; max-width: 500px; overflow: hidden; text-overflow: ellipsis; \">6.10e-05</td></tr>\n",
       "<tr><td style=\"white-space: nowrap; max-width: 500px; overflow: hidden; text-overflow: ellipsis; \">&quot;ST18&quot;</td><td style=\"white-space: nowrap; max-width: 500px; overflow: hidden; text-overflow: ellipsis; \">[&quot;A&quot;,&quot;G&quot;,&quot;J&quot;,&quot;T&quot;,&quot;U&quot;]</td><td style=\"white-space: nowrap; max-width: 500px; overflow: hidden; text-overflow: ellipsis; \">1.22e-04</td></tr>\n",
       "<tr><td style=\"white-space: nowrap; max-width: 500px; overflow: hidden; text-overflow: ellipsis; \">&quot;ZBTB20&quot;</td><td style=\"white-space: nowrap; max-width: 500px; overflow: hidden; text-overflow: ellipsis; \">[&quot;D&quot;,&quot;G&quot;,&quot;H&quot;,&quot;T&quot;,&quot;X&quot;]</td><td style=\"white-space: nowrap; max-width: 500px; overflow: hidden; text-overflow: ellipsis; \">3.05e-05</td></tr>\n",
       "<tr><td style=\"white-space: nowrap; max-width: 500px; overflow: hidden; text-overflow: ellipsis; \">&quot;ZFAND3&quot;</td><td style=\"white-space: nowrap; max-width: 500px; overflow: hidden; text-overflow: ellipsis; \">[&quot;D&quot;,&quot;G&quot;,&quot;H&quot;,&quot;J&quot;,&quot;T&quot;]</td><td style=\"white-space: nowrap; max-width: 500px; overflow: hidden; text-overflow: ellipsis; \">6.09e-05</td></tr>\n",
       "<tr><td style=\"white-space: nowrap; max-width: 500px; overflow: hidden; text-overflow: ellipsis; \">&quot;ZNF521&quot;</td><td style=\"white-space: nowrap; max-width: 500px; overflow: hidden; text-overflow: ellipsis; \">[&quot;A&quot;,&quot;E&quot;,&quot;G&quot;,&quot;J&quot;,&quot;X&quot;]</td><td style=\"white-space: nowrap; max-width: 500px; overflow: hidden; text-overflow: ellipsis; \">3.05e-05</td></tr>\n",
       "<tr><td style=\"white-space: nowrap; max-width: 500px; overflow: hidden; text-overflow: ellipsis; \">&quot;ZNF536&quot;</td><td style=\"white-space: nowrap; max-width: 500px; overflow: hidden; text-overflow: ellipsis; \">[&quot;A&quot;,&quot;G&quot;,&quot;J&quot;,&quot;S&quot;,&quot;X&quot;]</td><td style=\"white-space: nowrap; max-width: 500px; overflow: hidden; text-overflow: ellipsis; \">6.10e-05</td></tr>\n",
       "</tbody></table>"
      ],
      "text/plain": [
       "+--------------+-----------------------+----------+\n",
       "| within_gene  | fams_non_ref          |    p_seg |\n",
       "+--------------+-----------------------+----------+\n",
       "| str          | array<str>            |  float64 |\n",
       "+--------------+-----------------------+----------+\n",
       "| \"AC109466.1\" | [\"F\",\"J\",\"T\",\"U\",\"X\"] | 7.62e-06 |\n",
       "| \"AC126121.3\" | [\"A\",\"D\",\"G\",\"H\",\"J\"] | 7.62e-06 |\n",
       "| \"AL137230.2\" | [\"E\",\"G\",\"H\",\"T\",\"U\"] | 6.10e-05 |\n",
       "| \"AL162726.3\" | [\"F\",\"G\",\"J\",\"S\",\"X\"] | 7.62e-06 |\n",
       "| \"AL589740.1\" | [\"D\",\"J\",\"T\",\"U\",\"Y\"] | 3.81e-06 |\n",
       "| \"BTBD9\"      | [\"D\",\"G\",\"H\",\"T\",\"X\"] | 3.05e-05 |\n",
       "| \"CACNA1C\"    | [\"G\",\"H\",\"S\",\"T\",\"X\"] | 2.44e-04 |\n",
       "| \"CACNA2D3\"   | [\"A\",\"D\",\"I\",\"J\",\"T\"] | 7.63e-06 |\n",
       "| \"CDH23\"      | [\"D\",\"E\",\"H\",\"I\",\"J\"] | 1.91e-06 |\n",
       "| \"COL25A1\"    | [\"G\",\"H\",\"J\",\"X\",\"Y\"] | 3.05e-05 |\n",
       "| \"EPHB1\"      | [\"C\",\"H\",\"I\",\"J\",\"T\"] | 7.63e-06 |\n",
       "| \"EYS\"        | [\"D\",\"H\",\"J\",\"T\",\"X\"] | 3.05e-05 |\n",
       "| \"KCNMA1\"     | [\"E\",\"G\",\"H\",\"I\",\"J\"] | 3.06e-05 |\n",
       "| \"LRMDA\"      | [\"E\",\"H\",\"I\",\"J\",\"X\"] | 1.53e-05 |\n",
       "| \"NLGN1\"      | [\"I\",\"J\",\"T\",\"U\",\"X\"] | 6.11e-05 |\n",
       "| \"OPCML\"      | [\"E\",\"H\",\"S\",\"T\",\"X\"] | 6.10e-05 |\n",
       "| \"PTPRT\"      | [\"D\",\"G\",\"J\",\"T\",\"Y\"] | 1.52e-05 |\n",
       "| \"ROBO2\"      | [\"A\",\"H\",\"I\",\"R\",\"X\"] | 7.64e-06 |\n",
       "| \"SEMA3A\"     | [\"E\",\"G\",\"H\",\"J\",\"R\"] | 6.10e-05 |\n",
       "| \"ST18\"       | [\"A\",\"G\",\"J\",\"T\",\"U\"] | 1.22e-04 |\n",
       "| \"ZBTB20\"     | [\"D\",\"G\",\"H\",\"T\",\"X\"] | 3.05e-05 |\n",
       "| \"ZFAND3\"     | [\"D\",\"G\",\"H\",\"J\",\"T\"] | 6.09e-05 |\n",
       "| \"ZNF521\"     | [\"A\",\"E\",\"G\",\"J\",\"X\"] | 3.05e-05 |\n",
       "| \"ZNF536\"     | [\"A\",\"G\",\"J\",\"S\",\"X\"] | 6.10e-05 |\n",
       "+--------------+-----------------------+----------+"
      ]
     },
     "metadata": {},
     "output_type": "display_data"
    }
   ],
   "source": [
    "fams_u.filter(hl.len(fams_u.fams_non_ref) == 5).show(n_rows=150)"
   ]
  },
  {
   "cell_type": "code",
   "execution_count": 83,
   "metadata": {
    "tags": []
   },
   "outputs": [
    {
     "name": "stderr",
     "output_type": "stream",
     "text": [
      "2023-03-01 22:33:52.279 Hail: INFO: Ordering unsorted dataset with network shuffle\n",
      "2023-03-01 22:33:52.592 Hail: INFO: Ordering unsorted dataset with network shuffle\n"
     ]
    },
    {
     "data": {
      "text/html": [
       "<table><thead><tr><td style=\"white-space: nowrap; max-width: 500px; overflow: hidden; text-overflow: ellipsis; \" colspan=\"1\"><div style=\"text-align: left;\"></div></td><td style=\"white-space: nowrap; max-width: 500px; overflow: hidden; text-overflow: ellipsis; \" colspan=\"1\"><div style=\"text-align: left;\"></div></td><td style=\"white-space: nowrap; max-width: 500px; overflow: hidden; text-overflow: ellipsis; \" colspan=\"1\"><div style=\"text-align: left;\"></div></td></tr><tr><td style=\"white-space: nowrap; max-width: 500px; overflow: hidden; text-overflow: ellipsis; \" colspan=\"1\"><div style=\"text-align: left;border-bottom: solid 2px #000; padding-bottom: 5px\">within_gene</div></td><td style=\"white-space: nowrap; max-width: 500px; overflow: hidden; text-overflow: ellipsis; \" colspan=\"1\"><div style=\"text-align: left;border-bottom: solid 2px #000; padding-bottom: 5px\">fams_non_ref</div></td><td style=\"white-space: nowrap; max-width: 500px; overflow: hidden; text-overflow: ellipsis; \" colspan=\"1\"><div style=\"text-align: left;border-bottom: solid 2px #000; padding-bottom: 5px\">p_seg</div></td></tr><tr><td style=\"white-space: nowrap; max-width: 500px; overflow: hidden; text-overflow: ellipsis; text-align: left;\">str</td><td style=\"white-space: nowrap; max-width: 500px; overflow: hidden; text-overflow: ellipsis; text-align: left;\">array&lt;str&gt;</td><td style=\"white-space: nowrap; max-width: 500px; overflow: hidden; text-overflow: ellipsis; text-align: left;\">float64</td></tr>\n",
       "</thead><tbody><tr><td style=\"white-space: nowrap; max-width: 500px; overflow: hidden; text-overflow: ellipsis; \">&quot;NTM&quot;</td><td style=\"white-space: nowrap; max-width: 500px; overflow: hidden; text-overflow: ellipsis; \">[&quot;A&quot;,&quot;E&quot;,&quot;S&quot;,&quot;T&quot;,&quot;U&quot;,&quot;X&quot;]</td><td style=\"white-space: nowrap; max-width: 500px; overflow: hidden; text-overflow: ellipsis; \">1.91e-06</td></tr>\n",
       "</tbody></table>"
      ],
      "text/plain": [
       "+-------------+---------------------------+----------+\n",
       "| within_gene | fams_non_ref              |    p_seg |\n",
       "+-------------+---------------------------+----------+\n",
       "| str         | array<str>                |  float64 |\n",
       "+-------------+---------------------------+----------+\n",
       "| \"NTM\"       | [\"A\",\"E\",\"S\",\"T\",\"U\",\"X\"] | 1.91e-06 |\n",
       "+-------------+---------------------------+----------+"
      ]
     },
     "metadata": {},
     "output_type": "display_data"
    }
   ],
   "source": [
    "fams_u.filter(hl.len(fams_u.fams_non_ref) == 6).show(n_rows=150)"
   ]
  },
  {
   "cell_type": "code",
   "execution_count": 84,
   "metadata": {
    "tags": []
   },
   "outputs": [
    {
     "name": "stderr",
     "output_type": "stream",
     "text": [
      "2023-03-01 22:34:48.821 Hail: INFO: Ordering unsorted dataset with network shuffle\n",
      "2023-03-01 22:34:49.123 Hail: INFO: Ordering unsorted dataset with network shuffle\n"
     ]
    },
    {
     "data": {
      "text/html": [
       "<table><thead><tr><td style=\"white-space: nowrap; max-width: 500px; overflow: hidden; text-overflow: ellipsis; \" colspan=\"1\"><div style=\"text-align: left;\"></div></td><td style=\"white-space: nowrap; max-width: 500px; overflow: hidden; text-overflow: ellipsis; \" colspan=\"1\"><div style=\"text-align: left;\"></div></td><td style=\"white-space: nowrap; max-width: 500px; overflow: hidden; text-overflow: ellipsis; \" colspan=\"1\"><div style=\"text-align: left;\"></div></td></tr><tr><td style=\"white-space: nowrap; max-width: 500px; overflow: hidden; text-overflow: ellipsis; \" colspan=\"1\"><div style=\"text-align: left;border-bottom: solid 2px #000; padding-bottom: 5px\">within_gene</div></td><td style=\"white-space: nowrap; max-width: 500px; overflow: hidden; text-overflow: ellipsis; \" colspan=\"1\"><div style=\"text-align: left;border-bottom: solid 2px #000; padding-bottom: 5px\">fams_non_ref</div></td><td style=\"white-space: nowrap; max-width: 500px; overflow: hidden; text-overflow: ellipsis; \" colspan=\"1\"><div style=\"text-align: left;border-bottom: solid 2px #000; padding-bottom: 5px\">p_seg</div></td></tr><tr><td style=\"white-space: nowrap; max-width: 500px; overflow: hidden; text-overflow: ellipsis; text-align: left;\">str</td><td style=\"white-space: nowrap; max-width: 500px; overflow: hidden; text-overflow: ellipsis; text-align: left;\">array&lt;str&gt;</td><td style=\"white-space: nowrap; max-width: 500px; overflow: hidden; text-overflow: ellipsis; text-align: left;\">float64</td></tr>\n",
       "</thead><tbody><tr><td style=\"white-space: nowrap; max-width: 500px; overflow: hidden; text-overflow: ellipsis; \">&quot;MACROD2&quot;</td><td style=\"white-space: nowrap; max-width: 500px; overflow: hidden; text-overflow: ellipsis; \">[&quot;D&quot;,&quot;G&quot;,&quot;I&quot;,&quot;J&quot;,&quot;T&quot;,&quot;W&quot;,&quot;X&quot;]</td><td style=\"white-space: nowrap; max-width: 500px; overflow: hidden; text-overflow: ellipsis; \">3.72e-09</td></tr>\n",
       "</tbody></table>"
      ],
      "text/plain": [
       "+-------------+-------------------------------+----------+\n",
       "| within_gene | fams_non_ref                  |    p_seg |\n",
       "+-------------+-------------------------------+----------+\n",
       "| str         | array<str>                    |  float64 |\n",
       "+-------------+-------------------------------+----------+\n",
       "| \"MACROD2\"   | [\"D\",\"G\",\"I\",\"J\",\"T\",\"W\",\"X\"] | 3.72e-09 |\n",
       "+-------------+-------------------------------+----------+"
      ]
     },
     "metadata": {},
     "output_type": "display_data"
    }
   ],
   "source": [
    "fams_u.filter(hl.len(fams_u.fams_non_ref) == 7).show(n_rows=150)"
   ]
  }
 ],
 "metadata": {
  "kernelspec": {
   "display_name": "Python 3 (ipykernel)",
   "language": "python",
   "name": "python3"
  },
  "language_info": {
   "codemirror_mode": {
    "name": "ipython",
    "version": 3
   },
   "file_extension": ".py",
   "mimetype": "text/x-python",
   "name": "python",
   "nbconvert_exporter": "python",
   "pygments_lexer": "ipython3",
   "version": "3.10.4"
  }
 },
 "nbformat": 4,
 "nbformat_minor": 4
}
