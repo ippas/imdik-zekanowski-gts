{
 "cells": [
  {
   "cell_type": "code",
   "execution_count": 1,
   "metadata": {},
   "outputs": [
    {
     "data": {
      "text/html": [
       "<style>.container { width:100% !important; }</style>"
      ],
      "text/plain": [
       "<IPython.core.display.HTML object>"
      ]
     },
     "metadata": {},
     "output_type": "display_data"
    },
    {
     "name": "stdout",
     "output_type": "stream",
     "text": [
      "2021-12-28 14:02:50 WARN  NativeCodeLoader:60 - Unable to load native-hadoop library for your platform... using builtin-java classes where applicable\n"
     ]
    },
    {
     "name": "stderr",
     "output_type": "stream",
     "text": [
      "Setting default log level to \"WARN\".\n",
      "To adjust logging level use sc.setLogLevel(newLevel). For SparkR, use setLogLevel(newLevel).\n",
      "Running on Apache Spark version 3.1.2\n",
      "SparkUI available at http://p0603.prometheus:4040\n",
      "Welcome to\n",
      "     __  __     <>__\n",
      "    / /_/ /__  __/ /\n",
      "   / __  / _ `/ / /\n",
      "  /_/ /_/\\_,_/_/_/   version 0.2.79-f141af259254\n",
      "LOGGING: writing to /net/archive/groups/plggneuromol/imdik-zekanowski-gts/analysis/burden-and-family/hail-20211228-1402-0.2.79-f141af259254.log\n"
     ]
    }
   ],
   "source": [
    "from IPython.display import display\n",
    "from IPython.display import HTML\n",
    "import IPython.core.display as di # Example: di.display_html('<h3>%s:</h3>' % str, raw=True)\n",
    "\n",
    "#This line will hide code by default when the notebook is exported as HTML\n",
    "#di.display_html('<script>jQuery(function() {if (jQuery(\"body.notebook_app\").length == 0) { jQuery(\".input_area\").toggle(); jQuery(\".prompt\").toggle();}});</script>', raw=True)\n",
    "\n",
    "display(HTML(\"<style>.container { width:100% !important; }</style>\"))\n",
    "\n",
    "import hail as hl\n",
    "hl.init(tmp_dir='/net/archive/groups/plggneuromol/imdik-zekanowski-gts/data/temp', spark_conf={'spark.driver.memory': '30G', 'spark.executor.memory': '30G'}, default_reference='GRCh38') "
   ]
  },
  {
   "cell_type": "code",
   "execution_count": 2,
   "metadata": {
    "scrolled": true
   },
   "outputs": [
    {
     "data": {
      "text/html": [
       "\n",
       "    <div class=\"bk-root\">\n",
       "        <a href=\"https://bokeh.org\" target=\"_blank\" class=\"bk-logo bk-logo-small bk-logo-notebook\"></a>\n",
       "        <span id=\"1001\">Loading BokehJS ...</span>\n",
       "    </div>"
      ]
     },
     "metadata": {},
     "output_type": "display_data"
    },
    {
     "data": {
      "application/javascript": [
       "\n",
       "(function(root) {\n",
       "  function now() {\n",
       "    return new Date();\n",
       "  }\n",
       "\n",
       "  var force = true;\n",
       "\n",
       "  if (typeof root._bokeh_onload_callbacks === \"undefined\" || force === true) {\n",
       "    root._bokeh_onload_callbacks = [];\n",
       "    root._bokeh_is_loading = undefined;\n",
       "  }\n",
       "\n",
       "  var JS_MIME_TYPE = 'application/javascript';\n",
       "  var HTML_MIME_TYPE = 'text/html';\n",
       "  var EXEC_MIME_TYPE = 'application/vnd.bokehjs_exec.v0+json';\n",
       "  var CLASS_NAME = 'output_bokeh rendered_html';\n",
       "\n",
       "  /**\n",
       "   * Render data to the DOM node\n",
       "   */\n",
       "  function render(props, node) {\n",
       "    var script = document.createElement(\"script\");\n",
       "    node.appendChild(script);\n",
       "  }\n",
       "\n",
       "  /**\n",
       "   * Handle when an output is cleared or removed\n",
       "   */\n",
       "  function handleClearOutput(event, handle) {\n",
       "    var cell = handle.cell;\n",
       "\n",
       "    var id = cell.output_area._bokeh_element_id;\n",
       "    var server_id = cell.output_area._bokeh_server_id;\n",
       "    // Clean up Bokeh references\n",
       "    if (id != null && id in Bokeh.index) {\n",
       "      Bokeh.index[id].model.document.clear();\n",
       "      delete Bokeh.index[id];\n",
       "    }\n",
       "\n",
       "    if (server_id !== undefined) {\n",
       "      // Clean up Bokeh references\n",
       "      var cmd = \"from bokeh.io.state import curstate; print(curstate().uuid_to_server['\" + server_id + \"'].get_sessions()[0].document.roots[0]._id)\";\n",
       "      cell.notebook.kernel.execute(cmd, {\n",
       "        iopub: {\n",
       "          output: function(msg) {\n",
       "            var id = msg.content.text.trim();\n",
       "            if (id in Bokeh.index) {\n",
       "              Bokeh.index[id].model.document.clear();\n",
       "              delete Bokeh.index[id];\n",
       "            }\n",
       "          }\n",
       "        }\n",
       "      });\n",
       "      // Destroy server and session\n",
       "      var cmd = \"import bokeh.io.notebook as ion; ion.destroy_server('\" + server_id + \"')\";\n",
       "      cell.notebook.kernel.execute(cmd);\n",
       "    }\n",
       "  }\n",
       "\n",
       "  /**\n",
       "   * Handle when a new output is added\n",
       "   */\n",
       "  function handleAddOutput(event, handle) {\n",
       "    var output_area = handle.output_area;\n",
       "    var output = handle.output;\n",
       "\n",
       "    // limit handleAddOutput to display_data with EXEC_MIME_TYPE content only\n",
       "    if ((output.output_type != \"display_data\") || (!output.data.hasOwnProperty(EXEC_MIME_TYPE))) {\n",
       "      return\n",
       "    }\n",
       "\n",
       "    var toinsert = output_area.element.find(\".\" + CLASS_NAME.split(' ')[0]);\n",
       "\n",
       "    if (output.metadata[EXEC_MIME_TYPE][\"id\"] !== undefined) {\n",
       "      toinsert[toinsert.length - 1].firstChild.textContent = output.data[JS_MIME_TYPE];\n",
       "      // store reference to embed id on output_area\n",
       "      output_area._bokeh_element_id = output.metadata[EXEC_MIME_TYPE][\"id\"];\n",
       "    }\n",
       "    if (output.metadata[EXEC_MIME_TYPE][\"server_id\"] !== undefined) {\n",
       "      var bk_div = document.createElement(\"div\");\n",
       "      bk_div.innerHTML = output.data[HTML_MIME_TYPE];\n",
       "      var script_attrs = bk_div.children[0].attributes;\n",
       "      for (var i = 0; i < script_attrs.length; i++) {\n",
       "        toinsert[toinsert.length - 1].firstChild.setAttribute(script_attrs[i].name, script_attrs[i].value);\n",
       "      }\n",
       "      // store reference to server id on output_area\n",
       "      output_area._bokeh_server_id = output.metadata[EXEC_MIME_TYPE][\"server_id\"];\n",
       "    }\n",
       "  }\n",
       "\n",
       "  function register_renderer(events, OutputArea) {\n",
       "\n",
       "    function append_mime(data, metadata, element) {\n",
       "      // create a DOM node to render to\n",
       "      var toinsert = this.create_output_subarea(\n",
       "        metadata,\n",
       "        CLASS_NAME,\n",
       "        EXEC_MIME_TYPE\n",
       "      );\n",
       "      this.keyboard_manager.register_events(toinsert);\n",
       "      // Render to node\n",
       "      var props = {data: data, metadata: metadata[EXEC_MIME_TYPE]};\n",
       "      render(props, toinsert[toinsert.length - 1]);\n",
       "      element.append(toinsert);\n",
       "      return toinsert\n",
       "    }\n",
       "\n",
       "    /* Handle when an output is cleared or removed */\n",
       "    events.on('clear_output.CodeCell', handleClearOutput);\n",
       "    events.on('delete.Cell', handleClearOutput);\n",
       "\n",
       "    /* Handle when a new output is added */\n",
       "    events.on('output_added.OutputArea', handleAddOutput);\n",
       "\n",
       "    /**\n",
       "     * Register the mime type and append_mime function with output_area\n",
       "     */\n",
       "    OutputArea.prototype.register_mime_type(EXEC_MIME_TYPE, append_mime, {\n",
       "      /* Is output safe? */\n",
       "      safe: true,\n",
       "      /* Index of renderer in `output_area.display_order` */\n",
       "      index: 0\n",
       "    });\n",
       "  }\n",
       "\n",
       "  // register the mime type if in Jupyter Notebook environment and previously unregistered\n",
       "  if (root.Jupyter !== undefined) {\n",
       "    var events = require('base/js/events');\n",
       "    var OutputArea = require('notebook/js/outputarea').OutputArea;\n",
       "\n",
       "    if (OutputArea.prototype.mime_types().indexOf(EXEC_MIME_TYPE) == -1) {\n",
       "      register_renderer(events, OutputArea);\n",
       "    }\n",
       "  }\n",
       "\n",
       "  \n",
       "  if (typeof (root._bokeh_timeout) === \"undefined\" || force === true) {\n",
       "    root._bokeh_timeout = Date.now() + 5000;\n",
       "    root._bokeh_failed_load = false;\n",
       "  }\n",
       "\n",
       "  var NB_LOAD_WARNING = {'data': {'text/html':\n",
       "     \"<div style='background-color: #fdd'>\\n\"+\n",
       "     \"<p>\\n\"+\n",
       "     \"BokehJS does not appear to have successfully loaded. If loading BokehJS from CDN, this \\n\"+\n",
       "     \"may be due to a slow or bad network connection. Possible fixes:\\n\"+\n",
       "     \"</p>\\n\"+\n",
       "     \"<ul>\\n\"+\n",
       "     \"<li>re-rerun `output_notebook()` to attempt to load from CDN again, or</li>\\n\"+\n",
       "     \"<li>use INLINE resources instead, as so:</li>\\n\"+\n",
       "     \"</ul>\\n\"+\n",
       "     \"<code>\\n\"+\n",
       "     \"from bokeh.resources import INLINE\\n\"+\n",
       "     \"output_notebook(resources=INLINE)\\n\"+\n",
       "     \"</code>\\n\"+\n",
       "     \"</div>\"}};\n",
       "\n",
       "  function display_loaded() {\n",
       "    var el = document.getElementById(\"1001\");\n",
       "    if (el != null) {\n",
       "      el.textContent = \"BokehJS is loading...\";\n",
       "    }\n",
       "    if (root.Bokeh !== undefined) {\n",
       "      if (el != null) {\n",
       "        el.textContent = \"BokehJS \" + root.Bokeh.version + \" successfully loaded.\";\n",
       "      }\n",
       "    } else if (Date.now() < root._bokeh_timeout) {\n",
       "      setTimeout(display_loaded, 100)\n",
       "    }\n",
       "  }\n",
       "\n",
       "\n",
       "  function run_callbacks() {\n",
       "    try {\n",
       "      root._bokeh_onload_callbacks.forEach(function(callback) {\n",
       "        if (callback != null)\n",
       "          callback();\n",
       "      });\n",
       "    } finally {\n",
       "      delete root._bokeh_onload_callbacks\n",
       "    }\n",
       "    console.debug(\"Bokeh: all callbacks have finished\");\n",
       "  }\n",
       "\n",
       "  function load_libs(css_urls, js_urls, callback) {\n",
       "    if (css_urls == null) css_urls = [];\n",
       "    if (js_urls == null) js_urls = [];\n",
       "\n",
       "    root._bokeh_onload_callbacks.push(callback);\n",
       "    if (root._bokeh_is_loading > 0) {\n",
       "      console.debug(\"Bokeh: BokehJS is being loaded, scheduling callback at\", now());\n",
       "      return null;\n",
       "    }\n",
       "    if (js_urls == null || js_urls.length === 0) {\n",
       "      run_callbacks();\n",
       "      return null;\n",
       "    }\n",
       "    console.debug(\"Bokeh: BokehJS not loaded, scheduling load and callback at\", now());\n",
       "    root._bokeh_is_loading = css_urls.length + js_urls.length;\n",
       "\n",
       "    function on_load() {\n",
       "      root._bokeh_is_loading--;\n",
       "      if (root._bokeh_is_loading === 0) {\n",
       "        console.debug(\"Bokeh: all BokehJS libraries/stylesheets loaded\");\n",
       "        run_callbacks()\n",
       "      }\n",
       "    }\n",
       "\n",
       "    function on_error() {\n",
       "      console.error(\"failed to load \" + url);\n",
       "    }\n",
       "\n",
       "    for (var i = 0; i < css_urls.length; i++) {\n",
       "      var url = css_urls[i];\n",
       "      const element = document.createElement(\"link\");\n",
       "      element.onload = on_load;\n",
       "      element.onerror = on_error;\n",
       "      element.rel = \"stylesheet\";\n",
       "      element.type = \"text/css\";\n",
       "      element.href = url;\n",
       "      console.debug(\"Bokeh: injecting link tag for BokehJS stylesheet: \", url);\n",
       "      document.body.appendChild(element);\n",
       "    }\n",
       "\n",
       "    for (var i = 0; i < js_urls.length; i++) {\n",
       "      var url = js_urls[i];\n",
       "      var element = document.createElement('script');\n",
       "      element.onload = on_load;\n",
       "      element.onerror = on_error;\n",
       "      element.async = false;\n",
       "      element.src = url;\n",
       "      console.debug(\"Bokeh: injecting script tag for BokehJS library: \", url);\n",
       "      document.head.appendChild(element);\n",
       "    }\n",
       "  };var element = document.getElementById(\"1001\");\n",
       "  if (element == null) {\n",
       "    console.error(\"Bokeh: ERROR: autoload.js configured with elementid '1001' but no matching script tag was found. \")\n",
       "    return false;\n",
       "  }\n",
       "\n",
       "  function inject_raw_css(css) {\n",
       "    const element = document.createElement(\"style\");\n",
       "    element.appendChild(document.createTextNode(css));\n",
       "    document.body.appendChild(element);\n",
       "  }\n",
       "\n",
       "  \n",
       "  var js_urls = [\"https://cdn.pydata.org/bokeh/release/bokeh-1.4.0.min.js\", \"https://cdn.pydata.org/bokeh/release/bokeh-widgets-1.4.0.min.js\", \"https://cdn.pydata.org/bokeh/release/bokeh-tables-1.4.0.min.js\", \"https://cdn.pydata.org/bokeh/release/bokeh-gl-1.4.0.min.js\"];\n",
       "  var css_urls = [];\n",
       "  \n",
       "\n",
       "  var inline_js = [\n",
       "    function(Bokeh) {\n",
       "      Bokeh.set_log_level(\"info\");\n",
       "    },\n",
       "    function(Bokeh) {\n",
       "    \n",
       "    \n",
       "    }\n",
       "  ];\n",
       "\n",
       "  function run_inline_js() {\n",
       "    \n",
       "    if (root.Bokeh !== undefined || force === true) {\n",
       "      \n",
       "    for (var i = 0; i < inline_js.length; i++) {\n",
       "      inline_js[i].call(root, root.Bokeh);\n",
       "    }\n",
       "    if (force === true) {\n",
       "        display_loaded();\n",
       "      }} else if (Date.now() < root._bokeh_timeout) {\n",
       "      setTimeout(run_inline_js, 100);\n",
       "    } else if (!root._bokeh_failed_load) {\n",
       "      console.log(\"Bokeh: BokehJS failed to load within specified timeout.\");\n",
       "      root._bokeh_failed_load = true;\n",
       "    } else if (force !== true) {\n",
       "      var cell = $(document.getElementById(\"1001\")).parents('.cell').data().cell;\n",
       "      cell.output_area.append_execute_result(NB_LOAD_WARNING)\n",
       "    }\n",
       "\n",
       "  }\n",
       "\n",
       "  if (root._bokeh_is_loading === 0) {\n",
       "    console.debug(\"Bokeh: BokehJS loaded, going straight to plotting\");\n",
       "    run_inline_js();\n",
       "  } else {\n",
       "    load_libs(css_urls, js_urls, function() {\n",
       "      console.debug(\"Bokeh: BokehJS plotting callback run at\", now());\n",
       "      run_inline_js();\n",
       "    });\n",
       "  }\n",
       "}(window));"
      ],
      "application/vnd.bokehjs_load.v0+json": "\n(function(root) {\n  function now() {\n    return new Date();\n  }\n\n  var force = true;\n\n  if (typeof root._bokeh_onload_callbacks === \"undefined\" || force === true) {\n    root._bokeh_onload_callbacks = [];\n    root._bokeh_is_loading = undefined;\n  }\n\n  \n\n  \n  if (typeof (root._bokeh_timeout) === \"undefined\" || force === true) {\n    root._bokeh_timeout = Date.now() + 5000;\n    root._bokeh_failed_load = false;\n  }\n\n  var NB_LOAD_WARNING = {'data': {'text/html':\n     \"<div style='background-color: #fdd'>\\n\"+\n     \"<p>\\n\"+\n     \"BokehJS does not appear to have successfully loaded. If loading BokehJS from CDN, this \\n\"+\n     \"may be due to a slow or bad network connection. Possible fixes:\\n\"+\n     \"</p>\\n\"+\n     \"<ul>\\n\"+\n     \"<li>re-rerun `output_notebook()` to attempt to load from CDN again, or</li>\\n\"+\n     \"<li>use INLINE resources instead, as so:</li>\\n\"+\n     \"</ul>\\n\"+\n     \"<code>\\n\"+\n     \"from bokeh.resources import INLINE\\n\"+\n     \"output_notebook(resources=INLINE)\\n\"+\n     \"</code>\\n\"+\n     \"</div>\"}};\n\n  function display_loaded() {\n    var el = document.getElementById(\"1001\");\n    if (el != null) {\n      el.textContent = \"BokehJS is loading...\";\n    }\n    if (root.Bokeh !== undefined) {\n      if (el != null) {\n        el.textContent = \"BokehJS \" + root.Bokeh.version + \" successfully loaded.\";\n      }\n    } else if (Date.now() < root._bokeh_timeout) {\n      setTimeout(display_loaded, 100)\n    }\n  }\n\n\n  function run_callbacks() {\n    try {\n      root._bokeh_onload_callbacks.forEach(function(callback) {\n        if (callback != null)\n          callback();\n      });\n    } finally {\n      delete root._bokeh_onload_callbacks\n    }\n    console.debug(\"Bokeh: all callbacks have finished\");\n  }\n\n  function load_libs(css_urls, js_urls, callback) {\n    if (css_urls == null) css_urls = [];\n    if (js_urls == null) js_urls = [];\n\n    root._bokeh_onload_callbacks.push(callback);\n    if (root._bokeh_is_loading > 0) {\n      console.debug(\"Bokeh: BokehJS is being loaded, scheduling callback at\", now());\n      return null;\n    }\n    if (js_urls == null || js_urls.length === 0) {\n      run_callbacks();\n      return null;\n    }\n    console.debug(\"Bokeh: BokehJS not loaded, scheduling load and callback at\", now());\n    root._bokeh_is_loading = css_urls.length + js_urls.length;\n\n    function on_load() {\n      root._bokeh_is_loading--;\n      if (root._bokeh_is_loading === 0) {\n        console.debug(\"Bokeh: all BokehJS libraries/stylesheets loaded\");\n        run_callbacks()\n      }\n    }\n\n    function on_error() {\n      console.error(\"failed to load \" + url);\n    }\n\n    for (var i = 0; i < css_urls.length; i++) {\n      var url = css_urls[i];\n      const element = document.createElement(\"link\");\n      element.onload = on_load;\n      element.onerror = on_error;\n      element.rel = \"stylesheet\";\n      element.type = \"text/css\";\n      element.href = url;\n      console.debug(\"Bokeh: injecting link tag for BokehJS stylesheet: \", url);\n      document.body.appendChild(element);\n    }\n\n    for (var i = 0; i < js_urls.length; i++) {\n      var url = js_urls[i];\n      var element = document.createElement('script');\n      element.onload = on_load;\n      element.onerror = on_error;\n      element.async = false;\n      element.src = url;\n      console.debug(\"Bokeh: injecting script tag for BokehJS library: \", url);\n      document.head.appendChild(element);\n    }\n  };var element = document.getElementById(\"1001\");\n  if (element == null) {\n    console.error(\"Bokeh: ERROR: autoload.js configured with elementid '1001' but no matching script tag was found. \")\n    return false;\n  }\n\n  function inject_raw_css(css) {\n    const element = document.createElement(\"style\");\n    element.appendChild(document.createTextNode(css));\n    document.body.appendChild(element);\n  }\n\n  \n  var js_urls = [\"https://cdn.pydata.org/bokeh/release/bokeh-1.4.0.min.js\", \"https://cdn.pydata.org/bokeh/release/bokeh-widgets-1.4.0.min.js\", \"https://cdn.pydata.org/bokeh/release/bokeh-tables-1.4.0.min.js\", \"https://cdn.pydata.org/bokeh/release/bokeh-gl-1.4.0.min.js\"];\n  var css_urls = [];\n  \n\n  var inline_js = [\n    function(Bokeh) {\n      Bokeh.set_log_level(\"info\");\n    },\n    function(Bokeh) {\n    \n    \n    }\n  ];\n\n  function run_inline_js() {\n    \n    if (root.Bokeh !== undefined || force === true) {\n      \n    for (var i = 0; i < inline_js.length; i++) {\n      inline_js[i].call(root, root.Bokeh);\n    }\n    if (force === true) {\n        display_loaded();\n      }} else if (Date.now() < root._bokeh_timeout) {\n      setTimeout(run_inline_js, 100);\n    } else if (!root._bokeh_failed_load) {\n      console.log(\"Bokeh: BokehJS failed to load within specified timeout.\");\n      root._bokeh_failed_load = true;\n    } else if (force !== true) {\n      var cell = $(document.getElementById(\"1001\")).parents('.cell').data().cell;\n      cell.output_area.append_execute_result(NB_LOAD_WARNING)\n    }\n\n  }\n\n  if (root._bokeh_is_loading === 0) {\n    console.debug(\"Bokeh: BokehJS loaded, going straight to plotting\");\n    run_inline_js();\n  } else {\n    load_libs(css_urls, js_urls, function() {\n      console.debug(\"Bokeh: BokehJS plotting callback run at\", now());\n      run_inline_js();\n    });\n  }\n}(window));"
     },
     "metadata": {},
     "output_type": "display_data"
    },
    {
     "data": {
      "text/html": [
       "\n",
       "    <div class=\"bk-root\">\n",
       "        <a href=\"https://bokeh.org\" target=\"_blank\" class=\"bk-logo bk-logo-small bk-logo-notebook\"></a>\n",
       "        <span id=\"1002\">Loading BokehJS ...</span>\n",
       "    </div>"
      ]
     },
     "metadata": {},
     "output_type": "display_data"
    },
    {
     "data": {
      "application/javascript": [
       "\n",
       "(function(root) {\n",
       "  function now() {\n",
       "    return new Date();\n",
       "  }\n",
       "\n",
       "  var force = true;\n",
       "\n",
       "  if (typeof root._bokeh_onload_callbacks === \"undefined\" || force === true) {\n",
       "    root._bokeh_onload_callbacks = [];\n",
       "    root._bokeh_is_loading = undefined;\n",
       "  }\n",
       "\n",
       "  var JS_MIME_TYPE = 'application/javascript';\n",
       "  var HTML_MIME_TYPE = 'text/html';\n",
       "  var EXEC_MIME_TYPE = 'application/vnd.bokehjs_exec.v0+json';\n",
       "  var CLASS_NAME = 'output_bokeh rendered_html';\n",
       "\n",
       "  /**\n",
       "   * Render data to the DOM node\n",
       "   */\n",
       "  function render(props, node) {\n",
       "    var script = document.createElement(\"script\");\n",
       "    node.appendChild(script);\n",
       "  }\n",
       "\n",
       "  /**\n",
       "   * Handle when an output is cleared or removed\n",
       "   */\n",
       "  function handleClearOutput(event, handle) {\n",
       "    var cell = handle.cell;\n",
       "\n",
       "    var id = cell.output_area._bokeh_element_id;\n",
       "    var server_id = cell.output_area._bokeh_server_id;\n",
       "    // Clean up Bokeh references\n",
       "    if (id != null && id in Bokeh.index) {\n",
       "      Bokeh.index[id].model.document.clear();\n",
       "      delete Bokeh.index[id];\n",
       "    }\n",
       "\n",
       "    if (server_id !== undefined) {\n",
       "      // Clean up Bokeh references\n",
       "      var cmd = \"from bokeh.io.state import curstate; print(curstate().uuid_to_server['\" + server_id + \"'].get_sessions()[0].document.roots[0]._id)\";\n",
       "      cell.notebook.kernel.execute(cmd, {\n",
       "        iopub: {\n",
       "          output: function(msg) {\n",
       "            var id = msg.content.text.trim();\n",
       "            if (id in Bokeh.index) {\n",
       "              Bokeh.index[id].model.document.clear();\n",
       "              delete Bokeh.index[id];\n",
       "            }\n",
       "          }\n",
       "        }\n",
       "      });\n",
       "      // Destroy server and session\n",
       "      var cmd = \"import bokeh.io.notebook as ion; ion.destroy_server('\" + server_id + \"')\";\n",
       "      cell.notebook.kernel.execute(cmd);\n",
       "    }\n",
       "  }\n",
       "\n",
       "  /**\n",
       "   * Handle when a new output is added\n",
       "   */\n",
       "  function handleAddOutput(event, handle) {\n",
       "    var output_area = handle.output_area;\n",
       "    var output = handle.output;\n",
       "\n",
       "    // limit handleAddOutput to display_data with EXEC_MIME_TYPE content only\n",
       "    if ((output.output_type != \"display_data\") || (!output.data.hasOwnProperty(EXEC_MIME_TYPE))) {\n",
       "      return\n",
       "    }\n",
       "\n",
       "    var toinsert = output_area.element.find(\".\" + CLASS_NAME.split(' ')[0]);\n",
       "\n",
       "    if (output.metadata[EXEC_MIME_TYPE][\"id\"] !== undefined) {\n",
       "      toinsert[toinsert.length - 1].firstChild.textContent = output.data[JS_MIME_TYPE];\n",
       "      // store reference to embed id on output_area\n",
       "      output_area._bokeh_element_id = output.metadata[EXEC_MIME_TYPE][\"id\"];\n",
       "    }\n",
       "    if (output.metadata[EXEC_MIME_TYPE][\"server_id\"] !== undefined) {\n",
       "      var bk_div = document.createElement(\"div\");\n",
       "      bk_div.innerHTML = output.data[HTML_MIME_TYPE];\n",
       "      var script_attrs = bk_div.children[0].attributes;\n",
       "      for (var i = 0; i < script_attrs.length; i++) {\n",
       "        toinsert[toinsert.length - 1].firstChild.setAttribute(script_attrs[i].name, script_attrs[i].value);\n",
       "      }\n",
       "      // store reference to server id on output_area\n",
       "      output_area._bokeh_server_id = output.metadata[EXEC_MIME_TYPE][\"server_id\"];\n",
       "    }\n",
       "  }\n",
       "\n",
       "  function register_renderer(events, OutputArea) {\n",
       "\n",
       "    function append_mime(data, metadata, element) {\n",
       "      // create a DOM node to render to\n",
       "      var toinsert = this.create_output_subarea(\n",
       "        metadata,\n",
       "        CLASS_NAME,\n",
       "        EXEC_MIME_TYPE\n",
       "      );\n",
       "      this.keyboard_manager.register_events(toinsert);\n",
       "      // Render to node\n",
       "      var props = {data: data, metadata: metadata[EXEC_MIME_TYPE]};\n",
       "      render(props, toinsert[toinsert.length - 1]);\n",
       "      element.append(toinsert);\n",
       "      return toinsert\n",
       "    }\n",
       "\n",
       "    /* Handle when an output is cleared or removed */\n",
       "    events.on('clear_output.CodeCell', handleClearOutput);\n",
       "    events.on('delete.Cell', handleClearOutput);\n",
       "\n",
       "    /* Handle when a new output is added */\n",
       "    events.on('output_added.OutputArea', handleAddOutput);\n",
       "\n",
       "    /**\n",
       "     * Register the mime type and append_mime function with output_area\n",
       "     */\n",
       "    OutputArea.prototype.register_mime_type(EXEC_MIME_TYPE, append_mime, {\n",
       "      /* Is output safe? */\n",
       "      safe: true,\n",
       "      /* Index of renderer in `output_area.display_order` */\n",
       "      index: 0\n",
       "    });\n",
       "  }\n",
       "\n",
       "  // register the mime type if in Jupyter Notebook environment and previously unregistered\n",
       "  if (root.Jupyter !== undefined) {\n",
       "    var events = require('base/js/events');\n",
       "    var OutputArea = require('notebook/js/outputarea').OutputArea;\n",
       "\n",
       "    if (OutputArea.prototype.mime_types().indexOf(EXEC_MIME_TYPE) == -1) {\n",
       "      register_renderer(events, OutputArea);\n",
       "    }\n",
       "  }\n",
       "\n",
       "  \n",
       "  if (typeof (root._bokeh_timeout) === \"undefined\" || force === true) {\n",
       "    root._bokeh_timeout = Date.now() + 5000;\n",
       "    root._bokeh_failed_load = false;\n",
       "  }\n",
       "\n",
       "  var NB_LOAD_WARNING = {'data': {'text/html':\n",
       "     \"<div style='background-color: #fdd'>\\n\"+\n",
       "     \"<p>\\n\"+\n",
       "     \"BokehJS does not appear to have successfully loaded. If loading BokehJS from CDN, this \\n\"+\n",
       "     \"may be due to a slow or bad network connection. Possible fixes:\\n\"+\n",
       "     \"</p>\\n\"+\n",
       "     \"<ul>\\n\"+\n",
       "     \"<li>re-rerun `output_notebook()` to attempt to load from CDN again, or</li>\\n\"+\n",
       "     \"<li>use INLINE resources instead, as so:</li>\\n\"+\n",
       "     \"</ul>\\n\"+\n",
       "     \"<code>\\n\"+\n",
       "     \"from bokeh.resources import INLINE\\n\"+\n",
       "     \"output_notebook(resources=INLINE)\\n\"+\n",
       "     \"</code>\\n\"+\n",
       "     \"</div>\"}};\n",
       "\n",
       "  function display_loaded() {\n",
       "    var el = document.getElementById(\"1002\");\n",
       "    if (el != null) {\n",
       "      el.textContent = \"BokehJS is loading...\";\n",
       "    }\n",
       "    if (root.Bokeh !== undefined) {\n",
       "      if (el != null) {\n",
       "        el.textContent = \"BokehJS \" + root.Bokeh.version + \" successfully loaded.\";\n",
       "      }\n",
       "    } else if (Date.now() < root._bokeh_timeout) {\n",
       "      setTimeout(display_loaded, 100)\n",
       "    }\n",
       "  }\n",
       "\n",
       "\n",
       "  function run_callbacks() {\n",
       "    try {\n",
       "      root._bokeh_onload_callbacks.forEach(function(callback) {\n",
       "        if (callback != null)\n",
       "          callback();\n",
       "      });\n",
       "    } finally {\n",
       "      delete root._bokeh_onload_callbacks\n",
       "    }\n",
       "    console.debug(\"Bokeh: all callbacks have finished\");\n",
       "  }\n",
       "\n",
       "  function load_libs(css_urls, js_urls, callback) {\n",
       "    if (css_urls == null) css_urls = [];\n",
       "    if (js_urls == null) js_urls = [];\n",
       "\n",
       "    root._bokeh_onload_callbacks.push(callback);\n",
       "    if (root._bokeh_is_loading > 0) {\n",
       "      console.debug(\"Bokeh: BokehJS is being loaded, scheduling callback at\", now());\n",
       "      return null;\n",
       "    }\n",
       "    if (js_urls == null || js_urls.length === 0) {\n",
       "      run_callbacks();\n",
       "      return null;\n",
       "    }\n",
       "    console.debug(\"Bokeh: BokehJS not loaded, scheduling load and callback at\", now());\n",
       "    root._bokeh_is_loading = css_urls.length + js_urls.length;\n",
       "\n",
       "    function on_load() {\n",
       "      root._bokeh_is_loading--;\n",
       "      if (root._bokeh_is_loading === 0) {\n",
       "        console.debug(\"Bokeh: all BokehJS libraries/stylesheets loaded\");\n",
       "        run_callbacks()\n",
       "      }\n",
       "    }\n",
       "\n",
       "    function on_error() {\n",
       "      console.error(\"failed to load \" + url);\n",
       "    }\n",
       "\n",
       "    for (var i = 0; i < css_urls.length; i++) {\n",
       "      var url = css_urls[i];\n",
       "      const element = document.createElement(\"link\");\n",
       "      element.onload = on_load;\n",
       "      element.onerror = on_error;\n",
       "      element.rel = \"stylesheet\";\n",
       "      element.type = \"text/css\";\n",
       "      element.href = url;\n",
       "      console.debug(\"Bokeh: injecting link tag for BokehJS stylesheet: \", url);\n",
       "      document.body.appendChild(element);\n",
       "    }\n",
       "\n",
       "    for (var i = 0; i < js_urls.length; i++) {\n",
       "      var url = js_urls[i];\n",
       "      var element = document.createElement('script');\n",
       "      element.onload = on_load;\n",
       "      element.onerror = on_error;\n",
       "      element.async = false;\n",
       "      element.src = url;\n",
       "      console.debug(\"Bokeh: injecting script tag for BokehJS library: \", url);\n",
       "      document.head.appendChild(element);\n",
       "    }\n",
       "  };var element = document.getElementById(\"1002\");\n",
       "  if (element == null) {\n",
       "    console.error(\"Bokeh: ERROR: autoload.js configured with elementid '1002' but no matching script tag was found. \")\n",
       "    return false;\n",
       "  }\n",
       "\n",
       "  function inject_raw_css(css) {\n",
       "    const element = document.createElement(\"style\");\n",
       "    element.appendChild(document.createTextNode(css));\n",
       "    document.body.appendChild(element);\n",
       "  }\n",
       "\n",
       "  \n",
       "  var js_urls = [\"https://cdn.pydata.org/bokeh/release/bokeh-1.4.0.min.js\", \"https://cdn.pydata.org/bokeh/release/bokeh-widgets-1.4.0.min.js\", \"https://cdn.pydata.org/bokeh/release/bokeh-tables-1.4.0.min.js\", \"https://cdn.pydata.org/bokeh/release/bokeh-gl-1.4.0.min.js\"];\n",
       "  var css_urls = [];\n",
       "  \n",
       "\n",
       "  var inline_js = [\n",
       "    function(Bokeh) {\n",
       "      Bokeh.set_log_level(\"info\");\n",
       "    },\n",
       "    function(Bokeh) {\n",
       "    \n",
       "    \n",
       "    }\n",
       "  ];\n",
       "\n",
       "  function run_inline_js() {\n",
       "    \n",
       "    if (root.Bokeh !== undefined || force === true) {\n",
       "      \n",
       "    for (var i = 0; i < inline_js.length; i++) {\n",
       "      inline_js[i].call(root, root.Bokeh);\n",
       "    }\n",
       "    if (force === true) {\n",
       "        display_loaded();\n",
       "      }} else if (Date.now() < root._bokeh_timeout) {\n",
       "      setTimeout(run_inline_js, 100);\n",
       "    } else if (!root._bokeh_failed_load) {\n",
       "      console.log(\"Bokeh: BokehJS failed to load within specified timeout.\");\n",
       "      root._bokeh_failed_load = true;\n",
       "    } else if (force !== true) {\n",
       "      var cell = $(document.getElementById(\"1002\")).parents('.cell').data().cell;\n",
       "      cell.output_area.append_execute_result(NB_LOAD_WARNING)\n",
       "    }\n",
       "\n",
       "  }\n",
       "\n",
       "  if (root._bokeh_is_loading === 0) {\n",
       "    console.debug(\"Bokeh: BokehJS loaded, going straight to plotting\");\n",
       "    run_inline_js();\n",
       "  } else {\n",
       "    load_libs(css_urls, js_urls, function() {\n",
       "      console.debug(\"Bokeh: BokehJS plotting callback run at\", now());\n",
       "      run_inline_js();\n",
       "    });\n",
       "  }\n",
       "}(window));"
      ],
      "application/vnd.bokehjs_load.v0+json": "\n(function(root) {\n  function now() {\n    return new Date();\n  }\n\n  var force = true;\n\n  if (typeof root._bokeh_onload_callbacks === \"undefined\" || force === true) {\n    root._bokeh_onload_callbacks = [];\n    root._bokeh_is_loading = undefined;\n  }\n\n  \n\n  \n  if (typeof (root._bokeh_timeout) === \"undefined\" || force === true) {\n    root._bokeh_timeout = Date.now() + 5000;\n    root._bokeh_failed_load = false;\n  }\n\n  var NB_LOAD_WARNING = {'data': {'text/html':\n     \"<div style='background-color: #fdd'>\\n\"+\n     \"<p>\\n\"+\n     \"BokehJS does not appear to have successfully loaded. If loading BokehJS from CDN, this \\n\"+\n     \"may be due to a slow or bad network connection. Possible fixes:\\n\"+\n     \"</p>\\n\"+\n     \"<ul>\\n\"+\n     \"<li>re-rerun `output_notebook()` to attempt to load from CDN again, or</li>\\n\"+\n     \"<li>use INLINE resources instead, as so:</li>\\n\"+\n     \"</ul>\\n\"+\n     \"<code>\\n\"+\n     \"from bokeh.resources import INLINE\\n\"+\n     \"output_notebook(resources=INLINE)\\n\"+\n     \"</code>\\n\"+\n     \"</div>\"}};\n\n  function display_loaded() {\n    var el = document.getElementById(\"1002\");\n    if (el != null) {\n      el.textContent = \"BokehJS is loading...\";\n    }\n    if (root.Bokeh !== undefined) {\n      if (el != null) {\n        el.textContent = \"BokehJS \" + root.Bokeh.version + \" successfully loaded.\";\n      }\n    } else if (Date.now() < root._bokeh_timeout) {\n      setTimeout(display_loaded, 100)\n    }\n  }\n\n\n  function run_callbacks() {\n    try {\n      root._bokeh_onload_callbacks.forEach(function(callback) {\n        if (callback != null)\n          callback();\n      });\n    } finally {\n      delete root._bokeh_onload_callbacks\n    }\n    console.debug(\"Bokeh: all callbacks have finished\");\n  }\n\n  function load_libs(css_urls, js_urls, callback) {\n    if (css_urls == null) css_urls = [];\n    if (js_urls == null) js_urls = [];\n\n    root._bokeh_onload_callbacks.push(callback);\n    if (root._bokeh_is_loading > 0) {\n      console.debug(\"Bokeh: BokehJS is being loaded, scheduling callback at\", now());\n      return null;\n    }\n    if (js_urls == null || js_urls.length === 0) {\n      run_callbacks();\n      return null;\n    }\n    console.debug(\"Bokeh: BokehJS not loaded, scheduling load and callback at\", now());\n    root._bokeh_is_loading = css_urls.length + js_urls.length;\n\n    function on_load() {\n      root._bokeh_is_loading--;\n      if (root._bokeh_is_loading === 0) {\n        console.debug(\"Bokeh: all BokehJS libraries/stylesheets loaded\");\n        run_callbacks()\n      }\n    }\n\n    function on_error() {\n      console.error(\"failed to load \" + url);\n    }\n\n    for (var i = 0; i < css_urls.length; i++) {\n      var url = css_urls[i];\n      const element = document.createElement(\"link\");\n      element.onload = on_load;\n      element.onerror = on_error;\n      element.rel = \"stylesheet\";\n      element.type = \"text/css\";\n      element.href = url;\n      console.debug(\"Bokeh: injecting link tag for BokehJS stylesheet: \", url);\n      document.body.appendChild(element);\n    }\n\n    for (var i = 0; i < js_urls.length; i++) {\n      var url = js_urls[i];\n      var element = document.createElement('script');\n      element.onload = on_load;\n      element.onerror = on_error;\n      element.async = false;\n      element.src = url;\n      console.debug(\"Bokeh: injecting script tag for BokehJS library: \", url);\n      document.head.appendChild(element);\n    }\n  };var element = document.getElementById(\"1002\");\n  if (element == null) {\n    console.error(\"Bokeh: ERROR: autoload.js configured with elementid '1002' but no matching script tag was found. \")\n    return false;\n  }\n\n  function inject_raw_css(css) {\n    const element = document.createElement(\"style\");\n    element.appendChild(document.createTextNode(css));\n    document.body.appendChild(element);\n  }\n\n  \n  var js_urls = [\"https://cdn.pydata.org/bokeh/release/bokeh-1.4.0.min.js\", \"https://cdn.pydata.org/bokeh/release/bokeh-widgets-1.4.0.min.js\", \"https://cdn.pydata.org/bokeh/release/bokeh-tables-1.4.0.min.js\", \"https://cdn.pydata.org/bokeh/release/bokeh-gl-1.4.0.min.js\"];\n  var css_urls = [];\n  \n\n  var inline_js = [\n    function(Bokeh) {\n      Bokeh.set_log_level(\"info\");\n    },\n    function(Bokeh) {\n    \n    \n    }\n  ];\n\n  function run_inline_js() {\n    \n    if (root.Bokeh !== undefined || force === true) {\n      \n    for (var i = 0; i < inline_js.length; i++) {\n      inline_js[i].call(root, root.Bokeh);\n    }\n    if (force === true) {\n        display_loaded();\n      }} else if (Date.now() < root._bokeh_timeout) {\n      setTimeout(run_inline_js, 100);\n    } else if (!root._bokeh_failed_load) {\n      console.log(\"Bokeh: BokehJS failed to load within specified timeout.\");\n      root._bokeh_failed_load = true;\n    } else if (force !== true) {\n      var cell = $(document.getElementById(\"1002\")).parents('.cell').data().cell;\n      cell.output_area.append_execute_result(NB_LOAD_WARNING)\n    }\n\n  }\n\n  if (root._bokeh_is_loading === 0) {\n    console.debug(\"Bokeh: BokehJS loaded, going straight to plotting\");\n    run_inline_js();\n  } else {\n    load_libs(css_urls, js_urls, function() {\n      console.debug(\"Bokeh: BokehJS plotting callback run at\", now());\n      run_inline_js();\n    });\n  }\n}(window));"
     },
     "metadata": {},
     "output_type": "display_data"
    }
   ],
   "source": [
    "from hail.plot import show\n",
    "from pprint import pprint\n",
    "from bokeh.layouts import gridplot\n",
    "hl.plot.output_notebook()\n",
    "import openpyxl\n",
    "\n",
    "\n",
    "import numpy as np\n",
    "import pandas as pd\n",
    "from functools import reduce\n",
    "from itertools import chain\n",
    "\n",
    "from bokeh.plotting import output_notebook, show, figure\n",
    "from bokeh.palettes import viridis\n",
    "\n",
    "from scipy import stats\n",
    "\n",
    "output_notebook() "
   ]
  },
  {
   "cell_type": "markdown",
   "metadata": {},
   "source": [
    "## 1. Load large matrix table, annotate with GTS phenotype, remove samples from families and run PCA"
   ]
  },
  {
   "cell_type": "code",
   "execution_count": 5,
   "metadata": {},
   "outputs": [],
   "source": [
    "mt = hl.read_matrix_table('/net/archive/groups/plggneuromol/imdik-zekanowski-sportwgs/data/joint/full.mt')"
   ]
  },
  {
   "cell_type": "code",
   "execution_count": 6,
   "metadata": {},
   "outputs": [
    {
     "name": "stderr",
     "output_type": "stream",
     "text": [
      "2021-12-18 18:09:41 Hail: INFO: Reading table to impute column types\n",
      "2021-12-18 18:09:47 Hail: INFO: Finished type imputation            (0 + 1) / 1]\n",
      "  Loading field 'ID' as type str (imputed)\n",
      "  Loading field 'family' as type str (imputed)\n",
      "  Loading field 'sex' as type str (imputed)\n",
      "  Loading field 'kinship' as type str (imputed)\n",
      "  Loading field 'disease' as type str (imputed)\n",
      "  Loading field 'phenotype' as type str (imputed)\n",
      "  Loading field 'add_pheno' as type str (imputed)\n",
      "  Loading field 'heavy_tics' as type str (imputed)\n",
      "  Loading field 'heavy_tics_familial' as type str (imputed)\n",
      "  Loading field 'GTS_ASD_group' as type str (imputed)\n",
      "  Loading field 'nonCTD' as type str (imputed)\n"
     ]
    }
   ],
   "source": [
    "pheno = hl.import_table('/net/archive/groups/plggneuromol/imdik-zekanowski-gts/data/pheno/GTS-coded-corrected-june-2021.csv', impute = True, key='ID', delimiter = ',', quote =\"\\\"\")"
   ]
  },
  {
   "cell_type": "code",
   "execution_count": 7,
   "metadata": {},
   "outputs": [],
   "source": [
    "mt = mt.annotate_cols(phenotypes = pheno[mt.s])"
   ]
  },
  {
   "cell_type": "code",
   "execution_count": 9,
   "metadata": {},
   "outputs": [],
   "source": [
    "mt = mt.filter_cols((mt.s.contains('HG')) | (mt.s.contains('B')) | (mt.s.contains('NA')) | (mt.phenotypes.family == '.'))"
   ]
  },
  {
   "cell_type": "code",
   "execution_count": 11,
   "metadata": {},
   "outputs": [],
   "source": [
    "mt = mt.filter_rows(hl.agg.any(mt.GT.is_non_ref()))"
   ]
  },
  {
   "cell_type": "code",
   "execution_count": null,
   "metadata": {},
   "outputs": [],
   "source": [
    "mt.write('/net/archive/groups/plggneuromol/imdik-zekanowski-gts/data/mts/burden-and-family/gts-for-burden.mt') #this has been deleted"
   ]
  },
  {
   "cell_type": "code",
   "execution_count": 4,
   "metadata": {},
   "outputs": [],
   "source": [
    "mt = hl.read_matrix_table('/net/archive/groups/plggneuromol/imdik-zekanowski-gts/data/mts/burden-and-family/gts-for-burden.mt')"
   ]
  },
  {
   "cell_type": "code",
   "execution_count": 5,
   "metadata": {},
   "outputs": [],
   "source": [
    "mt = mt.annotate_cols(group = hl.if_else(mt.s.contains('B'), 'sport', hl.if_else(((mt.s.contains('NA')) | (mt.s.contains('HG'))), '1kg', 'GTS')))"
   ]
  },
  {
   "cell_type": "code",
   "execution_count": 37,
   "metadata": {},
   "outputs": [],
   "source": [
    "subset = mt.sample_rows(0.001)"
   ]
  },
  {
   "cell_type": "code",
   "execution_count": 38,
   "metadata": {},
   "outputs": [
    {
     "data": {
      "text/plain": [
       "frozendict({'1kg': 98, 'GTS': 40, 'sport': 100})"
      ]
     },
     "execution_count": 38,
     "metadata": {},
     "output_type": "execute_result"
    }
   ],
   "source": [
    "subset.aggregate_cols(hl.agg.counter(subset.group)) "
   ]
  },
  {
   "cell_type": "code",
   "execution_count": 24,
   "metadata": {},
   "outputs": [
    {
     "name": "stderr",
     "output_type": "stream",
     "text": [
      "2021-12-19 11:55:30 Hail: INFO: wrote matrix table with 2703 rows and 236 columns in 14999 partitions to /net/archive/groups/plggneuromol/imdik-zekanowski-gts/data/mts/burden-and-family/to-delete-for-pca\n",
      "    Total size: 24.82 MiB\n",
      "    * Rows/entries: 24.80 MiB\n",
      "    * Columns: 20.70 KiB\n",
      "    * Globals: 11.00 B\n",
      "    * Smallest partition: 0 rows (20.00 B)\n",
      "    * Largest partition:  11 rows (74.32 KiB)\n"
     ]
    }
   ],
   "source": [
    "subset.write('/net/archive/groups/plggneuromol/imdik-zekanowski-gts/data/mts/burden-and-family/to-delete-for-pca')"
   ]
  },
  {
   "cell_type": "code",
   "execution_count": 25,
   "metadata": {},
   "outputs": [],
   "source": [
    "subset = hl.read_matrix_table('/net/archive/groups/plggneuromol/imdik-zekanowski-gts/data/mts/burden-and-family/to-delete-for-pca')"
   ]
  },
  {
   "cell_type": "code",
   "execution_count": 26,
   "metadata": {
    "scrolled": true
   },
   "outputs": [
    {
     "name": "stderr",
     "output_type": "stream",
     "text": [
      "2021-12-19 11:55:45 Hail: INFO: hwe_normalize: found 2608 variants after filtering out monomorphic sites.\n",
      "2021-12-19 11:56:26 Hail: INFO: pca: running PCA with 10 components...) / 14999]\n",
      "2021-12-19 12:22:38 Hail: INFO: wrote matrix table with 2703 rows and 236 columns in 14999 partitions to /net/archive/groups/plggneuromol/imdik-zekanowski-gts/data/mts/burden-and-family/to-delete-with-pca\n"
     ]
    }
   ],
   "source": [
    "eigenvalues, pcs, _ = hl.hwe_normalized_pca(subset.GT)\n",
    "subset = subset.annotate_cols(scores = pcs[subset.s].scores)\n",
    "\n",
    "subset.write('/net/archive/groups/plggneuromol/imdik-zekanowski-gts/data/mts/burden-and-family/to-delete-with-pca')"
   ]
  },
  {
   "cell_type": "code",
   "execution_count": 39,
   "metadata": {},
   "outputs": [],
   "source": [
    "subset = hl.read_matrix_table('/net/archive/groups/plggneuromol/imdik-zekanowski-gts/data/mts/burden-and-family/to-delete-with-pca')"
   ]
  },
  {
   "cell_type": "code",
   "execution_count": 40,
   "metadata": {},
   "outputs": [
    {
     "data": {
      "text/html": [
       "\n",
       "\n",
       "\n",
       "\n",
       "\n",
       "\n",
       "  <div class=\"bk-root\" id=\"2480671e-ad5d-4679-90f1-9c211207255d\" data-root-id=\"8218\"></div>\n"
      ]
     },
     "metadata": {},
     "output_type": "display_data"
    },
    {
     "data": {
      "application/javascript": [
       "(function(root) {\n",
       "  function embed_document(root) {\n",
       "    \n",
       "  var docs_json = {\"3b061749-850e-478f-885c-bf154f416822\":{\"roots\":{\"references\":[{\"attributes\":{\"below\":[{\"id\":\"8229\",\"type\":\"LinearAxis\"}],\"center\":[{\"id\":\"8233\",\"type\":\"Grid\"},{\"id\":\"8238\",\"type\":\"Grid\"}],\"left\":[{\"id\":\"8234\",\"type\":\"LinearAxis\"},{\"id\":\"8277\",\"type\":\"Legend\"},{\"id\":\"8278\",\"type\":\"ColorBar\"}],\"plot_height\":800,\"plot_width\":800,\"renderers\":[{\"id\":\"8261\",\"type\":\"GlyphRenderer\"},{\"id\":\"8267\",\"type\":\"GlyphRenderer\"},{\"id\":\"8273\",\"type\":\"GlyphRenderer\"}],\"title\":{\"id\":\"8219\",\"type\":\"Title\"},\"toolbar\":{\"id\":\"8245\",\"type\":\"Toolbar\"},\"x_range\":{\"id\":\"8221\",\"type\":\"DataRange1d\"},\"x_scale\":{\"id\":\"8225\",\"type\":\"LinearScale\"},\"y_range\":{\"id\":\"8223\",\"type\":\"DataRange1d\"},\"y_scale\":{\"id\":\"8227\",\"type\":\"LinearScale\"}},\"id\":\"8218\",\"subtype\":\"Figure\",\"type\":\"Plot\"},{\"attributes\":{},\"id\":\"8242\",\"type\":\"SaveTool\"},{\"attributes\":{\"callback\":null,\"tooltips\":[[\"x\",\"@x\"],[\"y\",\"@y\"],[\"label\",\"@label\"]]},\"id\":\"8253\",\"type\":\"HoverTool\"},{\"attributes\":{\"label\":{\"value\":\"GTS\"},\"renderers\":[{\"id\":\"8267\",\"type\":\"GlyphRenderer\"}]},\"id\":\"8275\",\"type\":\"LegendItem\"},{\"attributes\":{\"data_source\":{\"id\":\"8254\",\"type\":\"ColumnDataSource\"},\"glyph\":{\"id\":\"8259\",\"type\":\"Circle\"},\"hover_glyph\":null,\"muted_glyph\":null,\"nonselection_glyph\":{\"id\":\"8260\",\"type\":\"Circle\"},\"selection_glyph\":null,\"view\":{\"id\":\"8257\",\"type\":\"CDSView\"}},\"id\":\"8261\",\"type\":\"GlyphRenderer\"},{\"attributes\":{\"overlay\":{\"id\":\"8366\",\"type\":\"BoxAnnotation\"}},\"id\":\"8241\",\"type\":\"BoxZoomTool\"},{\"attributes\":{\"fill_alpha\":{\"value\":0.1},\"fill_color\":{\"value\":\"#1f77b4\"},\"line_alpha\":{\"value\":0.1},\"line_color\":{\"value\":\"#1f77b4\"},\"x\":{\"field\":\"x\"},\"y\":{\"field\":\"y\"}},\"id\":\"8260\",\"type\":\"Circle\"},{\"attributes\":{\"click_policy\":\"hide\",\"items\":[{\"id\":\"8274\",\"type\":\"LegendItem\"},{\"id\":\"8275\",\"type\":\"LegendItem\"},{\"id\":\"8276\",\"type\":\"LegendItem\"}]},\"id\":\"8277\",\"type\":\"Legend\"},{\"attributes\":{\"bottom_units\":\"screen\",\"fill_alpha\":{\"value\":0.5},\"fill_color\":{\"value\":\"lightgrey\"},\"left_units\":\"screen\",\"level\":\"overlay\",\"line_alpha\":{\"value\":1.0},\"line_color\":{\"value\":\"black\"},\"line_dash\":[4,4],\"line_width\":{\"value\":2},\"render_mode\":\"css\",\"right_units\":\"screen\",\"top_units\":\"screen\"},\"id\":\"8366\",\"type\":\"BoxAnnotation\"},{\"attributes\":{\"label\":{\"value\":\"1kg\"},\"renderers\":[{\"id\":\"8261\",\"type\":\"GlyphRenderer\"}]},\"id\":\"8274\",\"type\":\"LegendItem\"},{\"attributes\":{},\"id\":\"8230\",\"type\":\"BasicTicker\"},{\"attributes\":{},\"id\":\"8240\",\"type\":\"WheelZoomTool\"},{\"attributes\":{\"color_mapper\":null,\"formatter\":{\"id\":\"8363\",\"type\":\"BasicTickFormatter\"},\"ticker\":{\"id\":\"8362\",\"type\":\"BasicTicker\"},\"visible\":false},\"id\":\"8278\",\"type\":\"ColorBar\"},{\"attributes\":{\"callback\":null},\"id\":\"8221\",\"type\":\"DataRange1d\"},{\"attributes\":{\"ticker\":{\"id\":\"8230\",\"type\":\"BasicTicker\"}},\"id\":\"8233\",\"type\":\"Grid\"},{\"attributes\":{\"callback\":null},\"id\":\"8223\",\"type\":\"DataRange1d\"},{\"attributes\":{\"fill_color\":{\"field\":\"label\",\"transform\":{\"id\":\"8255\",\"type\":\"CategoricalColorMapper\"}},\"line_color\":{\"field\":\"label\",\"transform\":{\"id\":\"8255\",\"type\":\"CategoricalColorMapper\"}},\"x\":{\"field\":\"x\"},\"y\":{\"field\":\"y\"}},\"id\":\"8265\",\"type\":\"Circle\"},{\"attributes\":{\"active_drag\":\"auto\",\"active_inspect\":\"auto\",\"active_multi\":null,\"active_scroll\":\"auto\",\"active_tap\":\"auto\",\"tools\":[{\"id\":\"8239\",\"type\":\"PanTool\"},{\"id\":\"8240\",\"type\":\"WheelZoomTool\"},{\"id\":\"8241\",\"type\":\"BoxZoomTool\"},{\"id\":\"8242\",\"type\":\"SaveTool\"},{\"id\":\"8243\",\"type\":\"ResetTool\"},{\"id\":\"8244\",\"type\":\"HelpTool\"},{\"id\":\"8253\",\"type\":\"HoverTool\"}]},\"id\":\"8245\",\"type\":\"Toolbar\"},{\"attributes\":{\"column_name\":\"label\",\"group\":\"GTS\"},\"id\":\"8262\",\"type\":\"GroupFilter\"},{\"attributes\":{\"text\":\"PCA\"},\"id\":\"8219\",\"type\":\"Title\"},{\"attributes\":{\"column_name\":\"label\",\"group\":\"1kg\"},\"id\":\"8256\",\"type\":\"GroupFilter\"},{\"attributes\":{},\"id\":\"8225\",\"type\":\"LinearScale\"},{\"attributes\":{\"filters\":[{\"id\":\"8268\",\"type\":\"GroupFilter\"}],\"source\":{\"id\":\"8254\",\"type\":\"ColumnDataSource\"}},\"id\":\"8269\",\"type\":\"CDSView\"},{\"attributes\":{\"fill_alpha\":{\"value\":0.1},\"fill_color\":{\"value\":\"#1f77b4\"},\"line_alpha\":{\"value\":0.1},\"line_color\":{\"value\":\"#1f77b4\"},\"x\":{\"field\":\"x\"},\"y\":{\"field\":\"y\"}},\"id\":\"8266\",\"type\":\"Circle\"},{\"attributes\":{},\"id\":\"8361\",\"type\":\"BasicTickFormatter\"},{\"attributes\":{\"factors\":[\"sport\",\"GTS\",\"1kg\"],\"palette\":[\"#1f77b4\",\"#ff7f0e\",\"#2ca02c\",\"#d62728\",\"#9467bd\",\"#8c564b\",\"#e377c2\",\"#7f7f7f\",\"#bcbd22\",\"#17becf\"]},\"id\":\"8255\",\"type\":\"CategoricalColorMapper\"},{\"attributes\":{\"data_source\":{\"id\":\"8254\",\"type\":\"ColumnDataSource\"},\"glyph\":{\"id\":\"8265\",\"type\":\"Circle\"},\"hover_glyph\":null,\"muted_glyph\":null,\"nonselection_glyph\":{\"id\":\"8266\",\"type\":\"Circle\"},\"selection_glyph\":null,\"view\":{\"id\":\"8263\",\"type\":\"CDSView\"}},\"id\":\"8267\",\"type\":\"GlyphRenderer\"},{\"attributes\":{},\"id\":\"8362\",\"type\":\"BasicTicker\"},{\"attributes\":{},\"id\":\"8227\",\"type\":\"LinearScale\"},{\"attributes\":{\"callback\":null,\"data\":{\"index\":[0,1,2,3,4,5,6,7,8,9,10,11,12,13,14,15,16,17,18,19,20,21,22,23,24,25,26,27,28,29,30,31,32,33,34,35,36,37,38,39,40,41,42,43,44,45,46,47,48,49,50,51,52,53,54,55,56,57,58,59,60,61,62,63,64,65,66,67,68,69,70,71,72,73,74,75,76,77,78,79,80,81,82,83,84,85,86,87,88,89,90,91,92,93,94,95,96,97,98,99,100,101,102,103,104,105,106,107,108,109,110,111,112,113,114,115,116,117,118,119,120,121,122,123,124,125,126,127,128,129,130,131,132,133,134,135,136,137,138,139,140,141,142,143,144,145,146,147,148,149,150,151,152,153,154,155,156,157,158,159,160,161,162,163,164,165,166,167,168,169,170,171,172,173,174,175,176,177,178,179,180,181,182,183,184,185,186,187,188,189,190,191,192,193,194,195,196,197,198,199,200,201,202,203,204,205,206,207,208,209,210,211,212,213,214,215,216,217,218,219,220,221,222,223,224,225,226,227,228],\"label\":[\"GTS\",\"GTS\",\"1kg\",\"1kg\",\"1kg\",\"1kg\",\"1kg\",\"1kg\",\"1kg\",\"1kg\",\"1kg\",\"1kg\",\"1kg\",\"1kg\",\"1kg\",\"1kg\",\"1kg\",\"1kg\",\"1kg\",\"1kg\",\"1kg\",\"1kg\",\"1kg\",\"1kg\",\"1kg\",\"1kg\",\"1kg\",\"1kg\",\"1kg\",\"1kg\",\"1kg\",\"1kg\",\"1kg\",\"1kg\",\"1kg\",\"1kg\",\"1kg\",\"1kg\",\"1kg\",\"1kg\",\"1kg\",\"1kg\",\"1kg\",\"1kg\",\"1kg\",\"1kg\",\"1kg\",\"1kg\",\"sport\",\"1kg\",\"1kg\",\"1kg\",\"1kg\",\"1kg\",\"sport\",\"sport\",\"1kg\",\"1kg\",\"sport\",\"1kg\",\"1kg\",\"1kg\",\"sport\",\"1kg\",\"GTS\",\"1kg\",\"sport\",\"1kg\",\"1kg\",\"1kg\",\"1kg\",\"1kg\",\"sport\",\"1kg\",\"sport\",\"1kg\",\"1kg\",\"GTS\",\"sport\",\"GTS\",\"1kg\",\"1kg\",\"sport\",\"1kg\",\"1kg\",\"1kg\",\"sport\",\"1kg\",\"1kg\",\"1kg\",\"sport\",\"sport\",\"1kg\",\"GTS\",\"sport\",\"GTS\",\"sport\",\"sport\",\"1kg\",\"sport\",\"1kg\",\"1kg\",\"GTS\",\"sport\",\"GTS\",\"GTS\",\"1kg\",\"sport\",\"sport\",\"GTS\",\"1kg\",\"sport\",\"1kg\",\"1kg\",\"GTS\",\"GTS\",\"GTS\",\"1kg\",\"1kg\",\"sport\",\"sport\",\"1kg\",\"1kg\",\"GTS\",\"GTS\",\"sport\",\"1kg\",\"1kg\",\"1kg\",\"sport\",\"1kg\",\"GTS\",\"sport\",\"1kg\",\"sport\",\"sport\",\"sport\",\"1kg\",\"sport\",\"sport\",\"sport\",\"1kg\",\"sport\",\"GTS\",\"sport\",\"GTS\",\"sport\",\"sport\",\"sport\",\"sport\",\"sport\",\"sport\",\"sport\",\"sport\",\"sport\",\"1kg\",\"sport\",\"sport\",\"GTS\",\"sport\",\"sport\",\"1kg\",\"sport\",\"sport\",\"sport\",\"GTS\",\"sport\",\"sport\",\"GTS\",\"sport\",\"sport\",\"sport\",\"sport\",\"sport\",\"sport\",\"GTS\",\"sport\",\"sport\",\"GTS\",\"1kg\",\"sport\",\"sport\",\"GTS\",\"sport\",\"sport\",\"GTS\",\"sport\",\"sport\",\"sport\",\"sport\",\"GTS\",\"sport\",\"sport\",\"sport\",\"GTS\",\"sport\",\"sport\",\"sport\",\"sport\",\"sport\",\"sport\",\"sport\",\"GTS\",\"GTS\",\"sport\",\"sport\",\"sport\",\"sport\",\"sport\",\"GTS\",\"GTS\",\"sport\",\"sport\",\"sport\",\"sport\",\"sport\",\"sport\",\"sport\",\"sport\",\"sport\",\"GTS\",\"GTS\",\"sport\",\"sport\",\"GTS\",\"sport\",\"GTS\",\"GTS\",\"sport\"],\"x\":{\"__ndarray__\":\"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\",\"dtype\":\"float64\",\"shape\":[229]},\"y\":{\"__ndarray__\":\"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\",\"dtype\":\"float64\",\"shape\":[229]}},\"selected\":{\"id\":\"8367\",\"type\":\"Selection\"},\"selection_policy\":{\"id\":\"8368\",\"type\":\"UnionRenderers\"}},\"id\":\"8254\",\"type\":\"ColumnDataSource\"},{\"attributes\":{\"fill_color\":{\"field\":\"label\",\"transform\":{\"id\":\"8255\",\"type\":\"CategoricalColorMapper\"}},\"line_color\":{\"field\":\"label\",\"transform\":{\"id\":\"8255\",\"type\":\"CategoricalColorMapper\"}},\"x\":{\"field\":\"x\"},\"y\":{\"field\":\"y\"}},\"id\":\"8271\",\"type\":\"Circle\"},{\"attributes\":{},\"id\":\"8363\",\"type\":\"BasicTickFormatter\"},{\"attributes\":{},\"id\":\"8365\",\"type\":\"BasicTickFormatter\"},{\"attributes\":{\"column_name\":\"label\",\"group\":\"sport\"},\"id\":\"8268\",\"type\":\"GroupFilter\"},{\"attributes\":{\"filters\":[{\"id\":\"8262\",\"type\":\"GroupFilter\"}],\"source\":{\"id\":\"8254\",\"type\":\"ColumnDataSource\"}},\"id\":\"8263\",\"type\":\"CDSView\"},{\"attributes\":{\"axis_label\":\"PC1\",\"formatter\":{\"id\":\"8365\",\"type\":\"BasicTickFormatter\"},\"ticker\":{\"id\":\"8230\",\"type\":\"BasicTicker\"}},\"id\":\"8229\",\"type\":\"LinearAxis\"},{\"attributes\":{\"fill_color\":{\"field\":\"label\",\"transform\":{\"id\":\"8255\",\"type\":\"CategoricalColorMapper\"}},\"line_color\":{\"field\":\"label\",\"transform\":{\"id\":\"8255\",\"type\":\"CategoricalColorMapper\"}},\"x\":{\"field\":\"x\"},\"y\":{\"field\":\"y\"}},\"id\":\"8259\",\"type\":\"Circle\"},{\"attributes\":{\"filters\":[{\"id\":\"8256\",\"type\":\"GroupFilter\"}],\"source\":{\"id\":\"8254\",\"type\":\"ColumnDataSource\"}},\"id\":\"8257\",\"type\":\"CDSView\"},{\"attributes\":{},\"id\":\"8235\",\"type\":\"BasicTicker\"},{\"attributes\":{},\"id\":\"8367\",\"type\":\"Selection\"},{\"attributes\":{\"dimension\":1,\"ticker\":{\"id\":\"8235\",\"type\":\"BasicTicker\"}},\"id\":\"8238\",\"type\":\"Grid\"},{\"attributes\":{},\"id\":\"8244\",\"type\":\"HelpTool\"},{\"attributes\":{\"label\":{\"value\":\"sport\"},\"renderers\":[{\"id\":\"8273\",\"type\":\"GlyphRenderer\"}]},\"id\":\"8276\",\"type\":\"LegendItem\"},{\"attributes\":{\"fill_alpha\":{\"value\":0.1},\"fill_color\":{\"value\":\"#1f77b4\"},\"line_alpha\":{\"value\":0.1},\"line_color\":{\"value\":\"#1f77b4\"},\"x\":{\"field\":\"x\"},\"y\":{\"field\":\"y\"}},\"id\":\"8272\",\"type\":\"Circle\"},{\"attributes\":{\"data_source\":{\"id\":\"8254\",\"type\":\"ColumnDataSource\"},\"glyph\":{\"id\":\"8271\",\"type\":\"Circle\"},\"hover_glyph\":null,\"muted_glyph\":null,\"nonselection_glyph\":{\"id\":\"8272\",\"type\":\"Circle\"},\"selection_glyph\":null,\"view\":{\"id\":\"8269\",\"type\":\"CDSView\"}},\"id\":\"8273\",\"type\":\"GlyphRenderer\"},{\"attributes\":{},\"id\":\"8239\",\"type\":\"PanTool\"},{\"attributes\":{},\"id\":\"8368\",\"type\":\"UnionRenderers\"},{\"attributes\":{},\"id\":\"8243\",\"type\":\"ResetTool\"},{\"attributes\":{\"axis_label\":\"PC2\",\"formatter\":{\"id\":\"8361\",\"type\":\"BasicTickFormatter\"},\"ticker\":{\"id\":\"8235\",\"type\":\"BasicTicker\"}},\"id\":\"8234\",\"type\":\"LinearAxis\"}],\"root_ids\":[\"8218\"]},\"title\":\"Bokeh Application\",\"version\":\"1.4.0\"}};\n",
       "  var render_items = [{\"docid\":\"3b061749-850e-478f-885c-bf154f416822\",\"roots\":{\"8218\":\"2480671e-ad5d-4679-90f1-9c211207255d\"}}];\n",
       "  root.Bokeh.embed.embed_items_notebook(docs_json, render_items);\n",
       "\n",
       "  }\n",
       "  if (root.Bokeh !== undefined) {\n",
       "    embed_document(root);\n",
       "  } else {\n",
       "    var attempts = 0;\n",
       "    var timer = setInterval(function(root) {\n",
       "      if (root.Bokeh !== undefined) {\n",
       "        clearInterval(timer);\n",
       "        embed_document(root);\n",
       "      } else {\n",
       "        attempts++;\n",
       "        if (attempts > 100) {\n",
       "          clearInterval(timer);\n",
       "          console.log(\"Bokeh: ERROR: Unable to run BokehJS code because BokehJS library is missing\");\n",
       "        }\n",
       "      }\n",
       "    }, 10, root)\n",
       "  }\n",
       "})(window);"
      ],
      "application/vnd.bokehjs_exec.v0+json": ""
     },
     "metadata": {
      "application/vnd.bokehjs_exec.v0+json": {
       "id": "8218"
      }
     },
     "output_type": "display_data"
    }
   ],
   "source": [
    "p = hl.plot.scatter(subset.scores[2],\n",
    "                    subset.scores[3],\n",
    "                    label=subset.group,\n",
    "                    title='PCA', xlabel='PC1', ylabel='PC2')\n",
    "show(p)"
   ]
  },
  {
   "cell_type": "markdown",
   "metadata": {},
   "source": [
    "## 2. Only keep intragenic variants and remove outliers from main mt"
   ]
  },
  {
   "cell_type": "code",
   "execution_count": 6,
   "metadata": {},
   "outputs": [],
   "source": [
    "mt = mt.filter_rows(mt.within_gene == hl.empty_array(hl.tstr), keep = False)"
   ]
  },
  {
   "cell_type": "code",
   "execution_count": 7,
   "metadata": {},
   "outputs": [],
   "source": [
    "mt = mt.filter_cols((mt.s != 'WGS_5') & (mt.s != 'WGS_8'))"
   ]
  },
  {
   "cell_type": "markdown",
   "metadata": {},
   "source": [
    "## 3. Run sample and variant QC, make plots"
   ]
  },
  {
   "cell_type": "code",
   "execution_count": 8,
   "metadata": {},
   "outputs": [
    {
     "name": "stderr",
     "output_type": "stream",
     "text": [
      "2021-12-19 13:22:21 Hail: INFO: wrote matrix table with 1752554 rows and 236 columns in 2500 partitions to /net/archive/groups/plggneuromol/imdik-zekanowski-gts/data/mts/burden-and-family/to-delete-repart.mt\n",
      "    Total size: 13.66 GiB\n",
      "    * Rows/entries: 13.66 GiB\n",
      "    * Columns: 20.70 KiB\n",
      "    * Globals: 11.00 B\n",
      "    * Smallest partition: 0 rows (20.00 B)\n",
      "    * Largest partition:  7295 rows (54.73 MiB)\n"
     ]
    }
   ],
   "source": [
    "mt.naive_coalesce(2500).write('/net/archive/groups/plggneuromol/imdik-zekanowski-gts/data/mts/burden-and-family/to-delete-repart.mt')"
   ]
  },
  {
   "cell_type": "code",
   "execution_count": 11,
   "metadata": {},
   "outputs": [],
   "source": [
    "mt = hl.read_matrix_table('/net/archive/groups/plggneuromol/imdik-zekanowski-gts/data/mts/burden-and-family/to-delete-repart.mt')"
   ]
  },
  {
   "cell_type": "code",
   "execution_count": 12,
   "metadata": {},
   "outputs": [],
   "source": [
    "mt = hl.sample_qc(mt)\n",
    "mt = hl.variant_qc(mt)"
   ]
  },
  {
   "cell_type": "code",
   "execution_count": 13,
   "metadata": {},
   "outputs": [
    {
     "name": "stderr",
     "output_type": "stream",
     "text": [
      "2021-12-19 13:29:05 Hail: INFO: wrote matrix table with 1752554 rows and 236 columns in 2500 partitions to /net/archive/groups/plggneuromol/imdik-zekanowski-gts/data/mts/burden-and-family/for-burden.mt\n"
     ]
    }
   ],
   "source": [
    "mt.write('/net/archive/groups/plggneuromol/imdik-zekanowski-gts/data/mts/burden-and-family/for-burden.mt')"
   ]
  },
  {
   "cell_type": "code",
   "execution_count": 15,
   "metadata": {},
   "outputs": [],
   "source": [
    "mt = hl.read_matrix_table('/net/archive/groups/plggneuromol/imdik-zekanowski-gts/data/mts/burden-and-family/for-burden.mt')"
   ]
  },
  {
   "cell_type": "code",
   "execution_count": 4,
   "metadata": {},
   "outputs": [
    {
     "data": {
      "text/plain": [
       "(1752554, 236)"
      ]
     },
     "execution_count": 4,
     "metadata": {},
     "output_type": "execute_result"
    }
   ],
   "source": [
    "mt.count()"
   ]
  },
  {
   "cell_type": "code",
   "execution_count": 5,
   "metadata": {},
   "outputs": [],
   "source": [
    "mt = mt.filter_cols(mt.s != 'WGS_6827')"
   ]
  },
  {
   "cell_type": "code",
   "execution_count": 6,
   "metadata": {},
   "outputs": [
    {
     "data": {
      "text/plain": [
       "frozendict({'1kg': 98, 'GTS': 37, 'sport': 100})"
      ]
     },
     "execution_count": 6,
     "metadata": {},
     "output_type": "execute_result"
    }
   ],
   "source": [
    "mt.aggregate_cols(hl.agg.counter(mt.group)) "
   ]
  },
  {
   "cell_type": "code",
   "execution_count": 16,
   "metadata": {},
   "outputs": [],
   "source": [
    "#check gq group\n",
    "\n",
    "mt = mt.annotate_rows(variant_qc_per_grop = hl.agg.group_by(mt.group, hl.agg.stats(mt.GQ)))"
   ]
  },
  {
   "cell_type": "code",
   "execution_count": 18,
   "metadata": {},
   "outputs": [
    {
     "name": "stderr",
     "output_type": "stream",
     "text": [
      "[Stage 7:=================================================>  (2370 + 13) / 2500]\r"
     ]
    },
    {
     "data": {
      "text/html": [
       "\n",
       "\n",
       "\n",
       "\n",
       "\n",
       "\n",
       "  <div class=\"bk-root\" id=\"7ad658c5-8fbe-4c19-b524-f21d283abd97\" data-root-id=\"1303\"></div>\n"
      ]
     },
     "metadata": {},
     "output_type": "display_data"
    },
    {
     "data": {
      "application/javascript": [
       "(function(root) {\n",
       "  function embed_document(root) {\n",
       "    \n",
       "  var docs_json = {\"25d23385-a217-424d-a51c-9389f0ba8653\":{\"roots\":{\"references\":[{\"attributes\":{\"background_fill_color\":{\"value\":\"#EEEEEE\"},\"below\":[{\"id\":\"1313\",\"type\":\"LinearAxis\"}],\"center\":[{\"id\":\"1317\",\"type\":\"Grid\"},{\"id\":\"1322\",\"type\":\"Grid\"},{\"id\":\"1347\",\"type\":\"Legend\"}],\"left\":[{\"id\":\"1318\",\"type\":\"LinearAxis\"}],\"renderers\":[{\"id\":\"1339\",\"type\":\"GlyphRenderer\"}],\"title\":null,\"toolbar\":{\"id\":\"1329\",\"type\":\"Toolbar\"},\"x_range\":{\"id\":\"1305\",\"type\":\"Range1d\"},\"x_scale\":{\"id\":\"1309\",\"type\":\"LinearScale\"},\"y_range\":{\"id\":\"1307\",\"type\":\"DataRange1d\"},\"y_scale\":{\"id\":\"1311\",\"type\":\"LinearScale\"}},\"id\":\"1303\",\"subtype\":\"Figure\",\"type\":\"Plot\"},{\"attributes\":{},\"id\":\"1343\",\"type\":\"BasicTickFormatter\"},{\"attributes\":{},\"id\":\"1311\",\"type\":\"LinearScale\"},{\"attributes\":{},\"id\":\"1378\",\"type\":\"Selection\"},{\"attributes\":{\"callback\":null,\"data\":{\"left\":[10.0,11.8,13.6,15.4,17.2,19.0,20.8,22.6,24.4,26.2,28.0,29.8,31.6,33.400000000000006,35.2,37.0,38.8,40.6,42.4,44.2,46.0,47.800000000000004,49.6,51.4,53.2,55.0,56.800000000000004,58.6,60.4,62.2,64.0,65.80000000000001,67.6,69.4,71.2,73.0,74.8,76.60000000000001,78.4,80.2,82.0,83.8,85.60000000000001,87.4,89.2,91.0,92.8,94.60000000000001,96.4,98.2],\"right\":[11.8,13.6,15.4,17.2,19.0,20.8,22.6,24.4,26.2,28.0,29.8,31.6,33.400000000000006,35.2,37.0,38.8,40.6,42.4,44.2,46.0,47.800000000000004,49.6,51.4,53.2,55.0,56.800000000000004,58.6,60.4,62.2,64.0,65.80000000000001,67.6,69.4,71.2,73.0,74.8,76.60000000000001,78.4,80.2,82.0,83.8,85.60000000000001,87.4,89.2,91.0,92.8,94.60000000000001,96.4,98.2,100.0],\"top\":[0,0,0,0,0,0,0,0,0,0,0,0,0,0,0,0,0,0,0,0,0,0,121429,139450,123263,108338,95711,84245,75338,68824,63458,58678,56140,52541,50251,48081,45853,45355,44783,44513,45783,49455,55789,63201,67499,61455,43495,24162,11601,3863]},\"selected\":{\"id\":\"1378\",\"type\":\"Selection\"},\"selection_policy\":{\"id\":\"1377\",\"type\":\"UnionRenderers\"}},\"id\":\"1336\",\"type\":\"ColumnDataSource\"},{\"attributes\":{\"callback\":null,\"end\":104.5,\"start\":5.5},\"id\":\"1305\",\"type\":\"Range1d\"},{\"attributes\":{},\"id\":\"1323\",\"type\":\"PanTool\"},{\"attributes\":{},\"id\":\"1319\",\"type\":\"BasicTicker\"},{\"attributes\":{},\"id\":\"1328\",\"type\":\"HelpTool\"},{\"attributes\":{\"bottom\":{\"value\":0},\"fill_color\":{\"value\":\"#1f77b4\"},\"left\":{\"field\":\"left\"},\"right\":{\"field\":\"right\"},\"top\":{\"field\":\"top\"}},\"id\":\"1337\",\"type\":\"Quad\"},{\"attributes\":{\"active_drag\":\"auto\",\"active_inspect\":\"auto\",\"active_multi\":null,\"active_scroll\":\"auto\",\"active_tap\":\"auto\",\"tools\":[{\"id\":\"1323\",\"type\":\"PanTool\"},{\"id\":\"1324\",\"type\":\"WheelZoomTool\"},{\"id\":\"1325\",\"type\":\"BoxZoomTool\"},{\"id\":\"1326\",\"type\":\"SaveTool\"},{\"id\":\"1327\",\"type\":\"ResetTool\"},{\"id\":\"1328\",\"type\":\"HelpTool\"}]},\"id\":\"1329\",\"type\":\"Toolbar\"},{\"attributes\":{\"bottom\":{\"value\":0},\"fill_alpha\":{\"value\":0.1},\"fill_color\":{\"value\":\"#1f77b4\"},\"left\":{\"field\":\"left\"},\"line_alpha\":{\"value\":0.1},\"line_color\":{\"value\":\"#1f77b4\"},\"right\":{\"field\":\"right\"},\"top\":{\"field\":\"top\"}},\"id\":\"1338\",\"type\":\"Quad\"},{\"attributes\":{\"label\":{\"value\":\"Mean variant GQ 1kg\"},\"renderers\":[{\"id\":\"1339\",\"type\":\"GlyphRenderer\"}]},\"id\":\"1348\",\"type\":\"LegendItem\"},{\"attributes\":{},\"id\":\"1345\",\"type\":\"BasicTickFormatter\"},{\"attributes\":{\"axis_label\":\"Mean variant GQ 1kg\",\"formatter\":{\"id\":\"1343\",\"type\":\"BasicTickFormatter\"},\"ticker\":{\"id\":\"1314\",\"type\":\"BasicTicker\"}},\"id\":\"1313\",\"type\":\"LinearAxis\"},{\"attributes\":{\"overlay\":{\"id\":\"1346\",\"type\":\"BoxAnnotation\"}},\"id\":\"1325\",\"type\":\"BoxZoomTool\"},{\"attributes\":{\"ticker\":{\"id\":\"1314\",\"type\":\"BasicTicker\"}},\"id\":\"1317\",\"type\":\"Grid\"},{\"attributes\":{\"axis_label\":\"Frequency\",\"formatter\":{\"id\":\"1345\",\"type\":\"BasicTickFormatter\"},\"ticker\":{\"id\":\"1319\",\"type\":\"BasicTicker\"}},\"id\":\"1318\",\"type\":\"LinearAxis\"},{\"attributes\":{},\"id\":\"1377\",\"type\":\"UnionRenderers\"},{\"attributes\":{\"bottom_units\":\"screen\",\"fill_alpha\":{\"value\":0.5},\"fill_color\":{\"value\":\"lightgrey\"},\"left_units\":\"screen\",\"level\":\"overlay\",\"line_alpha\":{\"value\":1.0},\"line_color\":{\"value\":\"black\"},\"line_dash\":[4,4],\"line_width\":{\"value\":2},\"render_mode\":\"css\",\"right_units\":\"screen\",\"top_units\":\"screen\"},\"id\":\"1346\",\"type\":\"BoxAnnotation\"},{\"attributes\":{\"data_source\":{\"id\":\"1336\",\"type\":\"ColumnDataSource\"},\"glyph\":{\"id\":\"1337\",\"type\":\"Quad\"},\"hover_glyph\":null,\"muted_glyph\":null,\"nonselection_glyph\":{\"id\":\"1338\",\"type\":\"Quad\"},\"selection_glyph\":null,\"view\":{\"id\":\"1340\",\"type\":\"CDSView\"}},\"id\":\"1339\",\"type\":\"GlyphRenderer\"},{\"attributes\":{},\"id\":\"1314\",\"type\":\"BasicTicker\"},{\"attributes\":{\"items\":[{\"id\":\"1348\",\"type\":\"LegendItem\"}]},\"id\":\"1347\",\"type\":\"Legend\"},{\"attributes\":{\"callback\":null},\"id\":\"1307\",\"type\":\"DataRange1d\"},{\"attributes\":{},\"id\":\"1327\",\"type\":\"ResetTool\"},{\"attributes\":{\"source\":{\"id\":\"1336\",\"type\":\"ColumnDataSource\"}},\"id\":\"1340\",\"type\":\"CDSView\"},{\"attributes\":{\"dimension\":1,\"ticker\":{\"id\":\"1319\",\"type\":\"BasicTicker\"}},\"id\":\"1322\",\"type\":\"Grid\"},{\"attributes\":{},\"id\":\"1326\",\"type\":\"SaveTool\"},{\"attributes\":{},\"id\":\"1324\",\"type\":\"WheelZoomTool\"},{\"attributes\":{},\"id\":\"1309\",\"type\":\"LinearScale\"}],\"root_ids\":[\"1303\"]},\"title\":\"Bokeh Application\",\"version\":\"1.4.0\"}};\n",
       "  var render_items = [{\"docid\":\"25d23385-a217-424d-a51c-9389f0ba8653\",\"roots\":{\"1303\":\"7ad658c5-8fbe-4c19-b524-f21d283abd97\"}}];\n",
       "  root.Bokeh.embed.embed_items_notebook(docs_json, render_items);\n",
       "\n",
       "  }\n",
       "  if (root.Bokeh !== undefined) {\n",
       "    embed_document(root);\n",
       "  } else {\n",
       "    var attempts = 0;\n",
       "    var timer = setInterval(function(root) {\n",
       "      if (root.Bokeh !== undefined) {\n",
       "        clearInterval(timer);\n",
       "        embed_document(root);\n",
       "      } else {\n",
       "        attempts++;\n",
       "        if (attempts > 100) {\n",
       "          clearInterval(timer);\n",
       "          console.log(\"Bokeh: ERROR: Unable to run BokehJS code because BokehJS library is missing\");\n",
       "        }\n",
       "      }\n",
       "    }, 10, root)\n",
       "  }\n",
       "})(window);"
      ],
      "application/vnd.bokehjs_exec.v0+json": ""
     },
     "metadata": {
      "application/vnd.bokehjs_exec.v0+json": {
       "id": "1303"
      }
     },
     "output_type": "display_data"
    }
   ],
   "source": [
    "p = hl.plot.histogram(mt.variant_qc_per_grop['1kg'].mean, range=(10,100), legend='Mean variant GQ 1kg')\n",
    "show(p)"
   ]
  },
  {
   "cell_type": "code",
   "execution_count": 21,
   "metadata": {},
   "outputs": [
    {
     "name": "stderr",
     "output_type": "stream",
     "text": [
      "[Stage 10:=================================================> (2448 + 12) / 2500]\r"
     ]
    },
    {
     "data": {
      "text/html": [
       "\n",
       "\n",
       "\n",
       "\n",
       "\n",
       "\n",
       "  <div class=\"bk-root\" id=\"0bc7f2ae-f6b1-43ca-9383-ea7011019971\" data-root-id=\"1699\"></div>\n"
      ]
     },
     "metadata": {},
     "output_type": "display_data"
    },
    {
     "data": {
      "application/javascript": [
       "(function(root) {\n",
       "  function embed_document(root) {\n",
       "    \n",
       "  var docs_json = {\"313902d5-9e85-4ad1-93d9-cb42c82d34f4\":{\"roots\":{\"references\":[{\"attributes\":{\"background_fill_color\":{\"value\":\"#EEEEEE\"},\"below\":[{\"id\":\"1709\",\"type\":\"LinearAxis\"}],\"center\":[{\"id\":\"1713\",\"type\":\"Grid\"},{\"id\":\"1718\",\"type\":\"Grid\"},{\"id\":\"1743\",\"type\":\"Legend\"}],\"left\":[{\"id\":\"1714\",\"type\":\"LinearAxis\"}],\"renderers\":[{\"id\":\"1735\",\"type\":\"GlyphRenderer\"}],\"title\":null,\"toolbar\":{\"id\":\"1725\",\"type\":\"Toolbar\"},\"x_range\":{\"id\":\"1701\",\"type\":\"Range1d\"},\"x_scale\":{\"id\":\"1705\",\"type\":\"LinearScale\"},\"y_range\":{\"id\":\"1703\",\"type\":\"DataRange1d\"},\"y_scale\":{\"id\":\"1707\",\"type\":\"LinearScale\"}},\"id\":\"1699\",\"subtype\":\"Figure\",\"type\":\"Plot\"},{\"attributes\":{\"ticker\":{\"id\":\"1710\",\"type\":\"BasicTicker\"}},\"id\":\"1713\",\"type\":\"Grid\"},{\"attributes\":{},\"id\":\"1707\",\"type\":\"LinearScale\"},{\"attributes\":{\"bottom\":{\"value\":0},\"fill_alpha\":{\"value\":0.1},\"fill_color\":{\"value\":\"#1f77b4\"},\"left\":{\"field\":\"left\"},\"line_alpha\":{\"value\":0.1},\"line_color\":{\"value\":\"#1f77b4\"},\"right\":{\"field\":\"right\"},\"top\":{\"field\":\"top\"}},\"id\":\"1734\",\"type\":\"Quad\"},{\"attributes\":{\"overlay\":{\"id\":\"1742\",\"type\":\"BoxAnnotation\"}},\"id\":\"1721\",\"type\":\"BoxZoomTool\"},{\"attributes\":{\"active_drag\":\"auto\",\"active_inspect\":\"auto\",\"active_multi\":null,\"active_scroll\":\"auto\",\"active_tap\":\"auto\",\"tools\":[{\"id\":\"1719\",\"type\":\"PanTool\"},{\"id\":\"1720\",\"type\":\"WheelZoomTool\"},{\"id\":\"1721\",\"type\":\"BoxZoomTool\"},{\"id\":\"1722\",\"type\":\"SaveTool\"},{\"id\":\"1723\",\"type\":\"ResetTool\"},{\"id\":\"1724\",\"type\":\"HelpTool\"}]},\"id\":\"1725\",\"type\":\"Toolbar\"},{\"attributes\":{},\"id\":\"1720\",\"type\":\"WheelZoomTool\"},{\"attributes\":{},\"id\":\"1722\",\"type\":\"SaveTool\"},{\"attributes\":{\"data_source\":{\"id\":\"1732\",\"type\":\"ColumnDataSource\"},\"glyph\":{\"id\":\"1733\",\"type\":\"Quad\"},\"hover_glyph\":null,\"muted_glyph\":null,\"nonselection_glyph\":{\"id\":\"1734\",\"type\":\"Quad\"},\"selection_glyph\":null,\"view\":{\"id\":\"1736\",\"type\":\"CDSView\"}},\"id\":\"1735\",\"type\":\"GlyphRenderer\"},{\"attributes\":{\"source\":{\"id\":\"1732\",\"type\":\"ColumnDataSource\"}},\"id\":\"1736\",\"type\":\"CDSView\"},{\"attributes\":{},\"id\":\"1719\",\"type\":\"PanTool\"},{\"attributes\":{},\"id\":\"1724\",\"type\":\"HelpTool\"},{\"attributes\":{},\"id\":\"1705\",\"type\":\"LinearScale\"},{\"attributes\":{\"callback\":null,\"data\":{\"left\":[10.0,11.8,13.6,15.4,17.2,19.0,20.8,22.6,24.4,26.2,28.0,29.8,31.6,33.400000000000006,35.2,37.0,38.8,40.6,42.4,44.2,46.0,47.800000000000004,49.6,51.4,53.2,55.0,56.800000000000004,58.6,60.4,62.2,64.0,65.80000000000001,67.6,69.4,71.2,73.0,74.8,76.60000000000001,78.4,80.2,82.0,83.8,85.60000000000001,87.4,89.2,91.0,92.8,94.60000000000001,96.4,98.2],\"right\":[11.8,13.6,15.4,17.2,19.0,20.8,22.6,24.4,26.2,28.0,29.8,31.6,33.400000000000006,35.2,37.0,38.8,40.6,42.4,44.2,46.0,47.800000000000004,49.6,51.4,53.2,55.0,56.800000000000004,58.6,60.4,62.2,64.0,65.80000000000001,67.6,69.4,71.2,73.0,74.8,76.60000000000001,78.4,80.2,82.0,83.8,85.60000000000001,87.4,89.2,91.0,92.8,94.60000000000001,96.4,98.2,100.0],\"top\":[0,0,0,0,0,0,0,0,0,0,0,0,0,0,0,0,0,0,0,0,0,0,3766,5145,5678,6355,6810,7613,8054,8730,9491,10824,11760,13350,15336,17523,20691,24409,29768,37830,50880,71884,104711,155804,221638,287496,319069,229668,58612,9659]},\"selected\":{\"id\":\"1798\",\"type\":\"Selection\"},\"selection_policy\":{\"id\":\"1797\",\"type\":\"UnionRenderers\"}},\"id\":\"1732\",\"type\":\"ColumnDataSource\"},{\"attributes\":{\"callback\":null},\"id\":\"1703\",\"type\":\"DataRange1d\"},{\"attributes\":{},\"id\":\"1723\",\"type\":\"ResetTool\"},{\"attributes\":{},\"id\":\"1741\",\"type\":\"BasicTickFormatter\"},{\"attributes\":{\"callback\":null,\"end\":104.5,\"start\":5.5},\"id\":\"1701\",\"type\":\"Range1d\"},{\"attributes\":{\"items\":[{\"id\":\"1744\",\"type\":\"LegendItem\"}]},\"id\":\"1743\",\"type\":\"Legend\"},{\"attributes\":{\"axis_label\":\"Frequency\",\"formatter\":{\"id\":\"1741\",\"type\":\"BasicTickFormatter\"},\"ticker\":{\"id\":\"1715\",\"type\":\"BasicTicker\"}},\"id\":\"1714\",\"type\":\"LinearAxis\"},{\"attributes\":{},\"id\":\"1710\",\"type\":\"BasicTicker\"},{\"attributes\":{\"bottom_units\":\"screen\",\"fill_alpha\":{\"value\":0.5},\"fill_color\":{\"value\":\"lightgrey\"},\"left_units\":\"screen\",\"level\":\"overlay\",\"line_alpha\":{\"value\":1.0},\"line_color\":{\"value\":\"black\"},\"line_dash\":[4,4],\"line_width\":{\"value\":2},\"render_mode\":\"css\",\"right_units\":\"screen\",\"top_units\":\"screen\"},\"id\":\"1742\",\"type\":\"BoxAnnotation\"},{\"attributes\":{},\"id\":\"1739\",\"type\":\"BasicTickFormatter\"},{\"attributes\":{},\"id\":\"1798\",\"type\":\"Selection\"},{\"attributes\":{\"label\":{\"value\":\"Mean variant GQ sport\"},\"renderers\":[{\"id\":\"1735\",\"type\":\"GlyphRenderer\"}]},\"id\":\"1744\",\"type\":\"LegendItem\"},{\"attributes\":{\"dimension\":1,\"ticker\":{\"id\":\"1715\",\"type\":\"BasicTicker\"}},\"id\":\"1718\",\"type\":\"Grid\"},{\"attributes\":{\"bottom\":{\"value\":0},\"fill_color\":{\"value\":\"#1f77b4\"},\"left\":{\"field\":\"left\"},\"right\":{\"field\":\"right\"},\"top\":{\"field\":\"top\"}},\"id\":\"1733\",\"type\":\"Quad\"},{\"attributes\":{},\"id\":\"1715\",\"type\":\"BasicTicker\"},{\"attributes\":{\"axis_label\":\"Mean variant GQ sport\",\"formatter\":{\"id\":\"1739\",\"type\":\"BasicTickFormatter\"},\"ticker\":{\"id\":\"1710\",\"type\":\"BasicTicker\"}},\"id\":\"1709\",\"type\":\"LinearAxis\"},{\"attributes\":{},\"id\":\"1797\",\"type\":\"UnionRenderers\"}],\"root_ids\":[\"1699\"]},\"title\":\"Bokeh Application\",\"version\":\"1.4.0\"}};\n",
       "  var render_items = [{\"docid\":\"313902d5-9e85-4ad1-93d9-cb42c82d34f4\",\"roots\":{\"1699\":\"0bc7f2ae-f6b1-43ca-9383-ea7011019971\"}}];\n",
       "  root.Bokeh.embed.embed_items_notebook(docs_json, render_items);\n",
       "\n",
       "  }\n",
       "  if (root.Bokeh !== undefined) {\n",
       "    embed_document(root);\n",
       "  } else {\n",
       "    var attempts = 0;\n",
       "    var timer = setInterval(function(root) {\n",
       "      if (root.Bokeh !== undefined) {\n",
       "        clearInterval(timer);\n",
       "        embed_document(root);\n",
       "      } else {\n",
       "        attempts++;\n",
       "        if (attempts > 100) {\n",
       "          clearInterval(timer);\n",
       "          console.log(\"Bokeh: ERROR: Unable to run BokehJS code because BokehJS library is missing\");\n",
       "        }\n",
       "      }\n",
       "    }, 10, root)\n",
       "  }\n",
       "})(window);"
      ],
      "application/vnd.bokehjs_exec.v0+json": ""
     },
     "metadata": {
      "application/vnd.bokehjs_exec.v0+json": {
       "id": "1699"
      }
     },
     "output_type": "display_data"
    }
   ],
   "source": [
    "p2 = hl.plot.histogram(mt.variant_qc_per_grop['sport'].mean, range=(10,100), legend='Mean variant GQ sport')\n",
    "show(p2)"
   ]
  },
  {
   "cell_type": "code",
   "execution_count": 29,
   "metadata": {},
   "outputs": [
    {
     "name": "stderr",
     "output_type": "stream",
     "text": [
      "[Stage 14:=================================================> (2428 + 12) / 2500]\r"
     ]
    },
    {
     "data": {
      "text/html": [
       "\n",
       "\n",
       "\n",
       "\n",
       "\n",
       "\n",
       "  <div class=\"bk-root\" id=\"1db851a5-e04e-4908-b3d0-1fd8843cd312\" data-root-id=\"1847\"></div>\n"
      ]
     },
     "metadata": {},
     "output_type": "display_data"
    },
    {
     "data": {
      "application/javascript": [
       "(function(root) {\n",
       "  function embed_document(root) {\n",
       "    \n",
       "  var docs_json = {\"0067bb53-4d40-43e0-8ce3-bf0a73305ed9\":{\"roots\":{\"references\":[{\"attributes\":{\"background_fill_color\":{\"value\":\"#EEEEEE\"},\"below\":[{\"id\":\"1857\",\"type\":\"LinearAxis\"}],\"center\":[{\"id\":\"1861\",\"type\":\"Grid\"},{\"id\":\"1866\",\"type\":\"Grid\"},{\"id\":\"1891\",\"type\":\"Legend\"}],\"left\":[{\"id\":\"1862\",\"type\":\"LinearAxis\"}],\"renderers\":[{\"id\":\"1883\",\"type\":\"GlyphRenderer\"},{\"id\":\"1896\",\"type\":\"GlyphRenderer\"}],\"title\":null,\"toolbar\":{\"id\":\"1873\",\"type\":\"Toolbar\"},\"x_range\":{\"id\":\"1849\",\"type\":\"Range1d\"},\"x_scale\":{\"id\":\"1853\",\"type\":\"LinearScale\"},\"y_range\":{\"id\":\"1851\",\"type\":\"DataRange1d\"},\"y_scale\":{\"id\":\"1855\",\"type\":\"LinearScale\"}},\"id\":\"1847\",\"subtype\":\"Figure\",\"type\":\"Plot\"},{\"attributes\":{\"ticker\":{\"id\":\"1858\",\"type\":\"BasicTicker\"}},\"id\":\"1861\",\"type\":\"Grid\"},{\"attributes\":{\"source\":{\"id\":\"1893\",\"type\":\"ColumnDataSource\"}},\"id\":\"1897\",\"type\":\"CDSView\"},{\"attributes\":{\"label\":{\"value\":\"Outliers Below\"},\"renderers\":[{\"id\":\"1896\",\"type\":\"GlyphRenderer\"}]},\"id\":\"1906\",\"type\":\"LegendItem\"},{\"attributes\":{\"data_source\":{\"id\":\"1893\",\"type\":\"ColumnDataSource\"},\"glyph\":{\"id\":\"1894\",\"type\":\"Quad\"},\"hover_glyph\":null,\"muted_glyph\":null,\"nonselection_glyph\":{\"id\":\"1895\",\"type\":\"Quad\"},\"selection_glyph\":null,\"view\":{\"id\":\"1897\",\"type\":\"CDSView\"}},\"id\":\"1896\",\"type\":\"GlyphRenderer\"},{\"attributes\":{\"axis_label\":\"Frequency\",\"formatter\":{\"id\":\"1889\",\"type\":\"BasicTickFormatter\"},\"ticker\":{\"id\":\"1863\",\"type\":\"BasicTicker\"}},\"id\":\"1862\",\"type\":\"LinearAxis\"},{\"attributes\":{\"bottom\":{\"value\":0},\"fill_color\":{\"value\":\"#1f77b4\"},\"left\":{\"field\":\"left\"},\"right\":{\"field\":\"right\"},\"top\":{\"field\":\"top\"}},\"id\":\"1881\",\"type\":\"Quad\"},{\"attributes\":{\"callback\":null,\"data\":{},\"selected\":{\"id\":\"1970\",\"type\":\"Selection\"},\"selection_policy\":{\"id\":\"1969\",\"type\":\"UnionRenderers\"}},\"id\":\"1893\",\"type\":\"ColumnDataSource\"},{\"attributes\":{},\"id\":\"1853\",\"type\":\"LinearScale\"},{\"attributes\":{\"callback\":null,\"end\":104.5,\"start\":5.5},\"id\":\"1849\",\"type\":\"Range1d\"},{\"attributes\":{},\"id\":\"1868\",\"type\":\"WheelZoomTool\"},{\"attributes\":{\"active_drag\":\"auto\",\"active_inspect\":\"auto\",\"active_multi\":null,\"active_scroll\":\"auto\",\"active_tap\":\"auto\",\"tools\":[{\"id\":\"1867\",\"type\":\"PanTool\"},{\"id\":\"1868\",\"type\":\"WheelZoomTool\"},{\"id\":\"1869\",\"type\":\"BoxZoomTool\"},{\"id\":\"1870\",\"type\":\"SaveTool\"},{\"id\":\"1871\",\"type\":\"ResetTool\"},{\"id\":\"1872\",\"type\":\"HelpTool\"}]},\"id\":\"1873\",\"type\":\"Toolbar\"},{\"attributes\":{},\"id\":\"1870\",\"type\":\"SaveTool\"},{\"attributes\":{\"bottom\":{\"value\":0},\"fill_alpha\":{\"value\":0.1},\"fill_color\":{\"value\":\"#1f77b4\"},\"left\":{\"value\":8.2},\"line_alpha\":{\"value\":0.1},\"line_color\":{\"value\":\"#1f77b4\"},\"right\":{\"value\":10.0},\"top\":{\"value\":1}},\"id\":\"1895\",\"type\":\"Quad\"},{\"attributes\":{},\"id\":\"1871\",\"type\":\"ResetTool\"},{\"attributes\":{},\"id\":\"1863\",\"type\":\"BasicTicker\"},{\"attributes\":{},\"id\":\"1969\",\"type\":\"UnionRenderers\"},{\"attributes\":{\"overlay\":{\"id\":\"1890\",\"type\":\"BoxAnnotation\"}},\"id\":\"1869\",\"type\":\"BoxZoomTool\"},{\"attributes\":{},\"id\":\"1970\",\"type\":\"Selection\"},{\"attributes\":{},\"id\":\"1872\",\"type\":\"HelpTool\"},{\"attributes\":{\"items\":[{\"id\":\"1892\",\"type\":\"LegendItem\"},{\"id\":\"1906\",\"type\":\"LegendItem\"}]},\"id\":\"1891\",\"type\":\"Legend\"},{\"attributes\":{},\"id\":\"1855\",\"type\":\"LinearScale\"},{\"attributes\":{},\"id\":\"1905\",\"type\":\"Selection\"},{\"attributes\":{},\"id\":\"1867\",\"type\":\"PanTool\"},{\"attributes\":{},\"id\":\"1887\",\"type\":\"BasicTickFormatter\"},{\"attributes\":{\"callback\":null,\"data\":{\"left\":[10.0,11.8,13.6,15.4,17.2,19.0,20.8,22.6,24.4,26.2,28.0,29.8,31.6,33.400000000000006,35.2,37.0,38.8,40.6,42.4,44.2,46.0,47.800000000000004,49.6,51.4,53.2,55.0,56.800000000000004,58.6,60.4,62.2,64.0,65.80000000000001,67.6,69.4,71.2,73.0,74.8,76.60000000000001,78.4,80.2,82.0,83.8,85.60000000000001,87.4,89.2,91.0,92.8,94.60000000000001,96.4,98.2],\"right\":[11.8,13.6,15.4,17.2,19.0,20.8,22.6,24.4,26.2,28.0,29.8,31.6,33.400000000000006,35.2,37.0,38.8,40.6,42.4,44.2,46.0,47.800000000000004,49.6,51.4,53.2,55.0,56.800000000000004,58.6,60.4,62.2,64.0,65.80000000000001,67.6,69.4,71.2,73.0,74.8,76.60000000000001,78.4,80.2,82.0,83.8,85.60000000000001,87.4,89.2,91.0,92.8,94.60000000000001,96.4,98.2,100.0],\"top\":[0,0,2,0,0,0,1,1,1,4,12,81,348,1616,4944,11369,20696,31347,42164,51257,60343,66740,70271,75730,77894,83055,86778,89216,93150,93393,94005,92446,86890,82019,74200,67388,59090,50870,43531,36262,29973,23916,17914,13270,8793,5369,2986,1683,980,555]},\"selected\":{\"id\":\"1905\",\"type\":\"Selection\"},\"selection_policy\":{\"id\":\"1904\",\"type\":\"UnionRenderers\"}},\"id\":\"1880\",\"type\":\"ColumnDataSource\"},{\"attributes\":{\"bottom\":{\"value\":0},\"fill_alpha\":{\"value\":0.1},\"fill_color\":{\"value\":\"#1f77b4\"},\"left\":{\"field\":\"left\"},\"line_alpha\":{\"value\":0.1},\"line_color\":{\"value\":\"#1f77b4\"},\"right\":{\"field\":\"right\"},\"top\":{\"field\":\"top\"}},\"id\":\"1882\",\"type\":\"Quad\"},{\"attributes\":{},\"id\":\"1904\",\"type\":\"UnionRenderers\"},{\"attributes\":{\"data_source\":{\"id\":\"1880\",\"type\":\"ColumnDataSource\"},\"glyph\":{\"id\":\"1881\",\"type\":\"Quad\"},\"hover_glyph\":null,\"muted_glyph\":null,\"nonselection_glyph\":{\"id\":\"1882\",\"type\":\"Quad\"},\"selection_glyph\":null,\"view\":{\"id\":\"1884\",\"type\":\"CDSView\"}},\"id\":\"1883\",\"type\":\"GlyphRenderer\"},{\"attributes\":{\"label\":{\"value\":\"Mean variant GQ gts\"},\"renderers\":[{\"id\":\"1883\",\"type\":\"GlyphRenderer\"}]},\"id\":\"1892\",\"type\":\"LegendItem\"},{\"attributes\":{\"bottom_units\":\"screen\",\"fill_alpha\":{\"value\":0.5},\"fill_color\":{\"value\":\"lightgrey\"},\"left_units\":\"screen\",\"level\":\"overlay\",\"line_alpha\":{\"value\":1.0},\"line_color\":{\"value\":\"black\"},\"line_dash\":[4,4],\"line_width\":{\"value\":2},\"render_mode\":\"css\",\"right_units\":\"screen\",\"top_units\":\"screen\"},\"id\":\"1890\",\"type\":\"BoxAnnotation\"},{\"attributes\":{\"callback\":null},\"id\":\"1851\",\"type\":\"DataRange1d\"},{\"attributes\":{\"source\":{\"id\":\"1880\",\"type\":\"ColumnDataSource\"}},\"id\":\"1884\",\"type\":\"CDSView\"},{\"attributes\":{},\"id\":\"1858\",\"type\":\"BasicTicker\"},{\"attributes\":{\"dimension\":1,\"ticker\":{\"id\":\"1863\",\"type\":\"BasicTicker\"}},\"id\":\"1866\",\"type\":\"Grid\"},{\"attributes\":{\"bottom\":{\"value\":0},\"fill_color\":{\"value\":\"red\"},\"left\":{\"value\":8.2},\"right\":{\"value\":10.0},\"top\":{\"value\":1}},\"id\":\"1894\",\"type\":\"Quad\"},{\"attributes\":{},\"id\":\"1889\",\"type\":\"BasicTickFormatter\"},{\"attributes\":{\"axis_label\":\"Mean variant GQ gts\",\"formatter\":{\"id\":\"1887\",\"type\":\"BasicTickFormatter\"},\"ticker\":{\"id\":\"1858\",\"type\":\"BasicTicker\"}},\"id\":\"1857\",\"type\":\"LinearAxis\"}],\"root_ids\":[\"1847\"]},\"title\":\"Bokeh Application\",\"version\":\"1.4.0\"}};\n",
       "  var render_items = [{\"docid\":\"0067bb53-4d40-43e0-8ce3-bf0a73305ed9\",\"roots\":{\"1847\":\"1db851a5-e04e-4908-b3d0-1fd8843cd312\"}}];\n",
       "  root.Bokeh.embed.embed_items_notebook(docs_json, render_items);\n",
       "\n",
       "  }\n",
       "  if (root.Bokeh !== undefined) {\n",
       "    embed_document(root);\n",
       "  } else {\n",
       "    var attempts = 0;\n",
       "    var timer = setInterval(function(root) {\n",
       "      if (root.Bokeh !== undefined) {\n",
       "        clearInterval(timer);\n",
       "        embed_document(root);\n",
       "      } else {\n",
       "        attempts++;\n",
       "        if (attempts > 100) {\n",
       "          clearInterval(timer);\n",
       "          console.log(\"Bokeh: ERROR: Unable to run BokehJS code because BokehJS library is missing\");\n",
       "        }\n",
       "      }\n",
       "    }, 10, root)\n",
       "  }\n",
       "})(window);"
      ],
      "application/vnd.bokehjs_exec.v0+json": ""
     },
     "metadata": {
      "application/vnd.bokehjs_exec.v0+json": {
       "id": "1847"
      }
     },
     "output_type": "display_data"
    }
   ],
   "source": [
    "p3 = hl.plot.histogram(mt.variant_qc_per_grop.get('GTS', hl.struct(mean = 0.0, stdev = 0.0, min = 0.0, max = 0.0, n = 0, sum = 0)).mean, range=(10,100), legend='Mean variant GQ gts')\n",
    "show(p3)"
   ]
  },
  {
   "cell_type": "markdown",
   "metadata": {},
   "source": [
    "## 3. Explode rows, group by gene and calculate multiple burden statistics"
   ]
  },
  {
   "cell_type": "code",
   "execution_count": 8,
   "metadata": {},
   "outputs": [
    {
     "name": "stderr",
     "output_type": "stream",
     "text": [
      "2021-12-19 21:49:05 Hail: INFO: wrote matrix table with 1994489 rows and 235 columns in 2500 partitions to /net/archive/groups/plggneuromol/imdik-zekanowski-gts/data/mts/burden-and-family/to-delete-exploded.mt\n"
     ]
    }
   ],
   "source": [
    "mt = mt.explode_rows(mt.within_gene)\n",
    "mt.write('/net/archive/groups/plggneuromol/imdik-zekanowski-gts/data/mts/burden-and-family/to-delete-exploded.mt')"
   ]
  },
  {
   "cell_type": "code",
   "execution_count": 9,
   "metadata": {},
   "outputs": [],
   "source": [
    "#annotate each variant with a burden score:\n",
    "mt = mt.annotate_rows(burden_maf = hl.if_else(hl.is_defined(mt.gnomad_v_3_1.freq.AF[2]),\n",
    "                                                  hl.if_else((mt.gnomad_v_3_1.freq.AF[2] == 0), 5, -hl.log10(mt.gnomad_v_3_1.freq.AF[2])), 5),\n",
    "                      burden_cadd = (2**mt.cadd.cadd_score)) #this is to proiritise variants with high deleteriousness"
   ]
  },
  {
   "cell_type": "code",
   "execution_count": 10,
   "metadata": {},
   "outputs": [
    {
     "name": "stderr",
     "output_type": "stream",
     "text": [
      "2021-12-19 21:51:10 Hail: INFO: wrote matrix table with 1994489 rows and 235 columns in 2500 partitions to /net/archive/groups/plggneuromol/imdik-zekanowski-gts/data/mts/burden-and-family/to-delete-with-burden-scores.mt\n"
     ]
    }
   ],
   "source": [
    "mt.write('/net/archive/groups/plggneuromol/imdik-zekanowski-gts/data/mts/burden-and-family/to-delete-with-burden-scores.mt')"
   ]
  },
  {
   "cell_type": "code",
   "execution_count": 4,
   "metadata": {},
   "outputs": [],
   "source": [
    "mt = hl.read_matrix_table('/net/archive/groups/plggneuromol/imdik-zekanowski-gts/data/mts/burden-and-family/to-delete-with-burden-scores.mt')"
   ]
  },
  {
   "cell_type": "code",
   "execution_count": 5,
   "metadata": {},
   "outputs": [],
   "source": [
    "per_gene = mt.group_rows_by(mt.within_gene).aggregate(\n",
    "    burden_cadd_phred = hl.agg.sum(mt.GT.n_alt_alleles()*mt.cadd.cadd_score))"
   ]
  },
  {
   "cell_type": "code",
   "execution_count": 6,
   "metadata": {},
   "outputs": [
    {
     "name": "stderr",
     "output_type": "stream",
     "text": [
      "2021-12-27 13:06:10 Hail: INFO: Ordering unsorted dataset with network shuffle0]\n",
      "2021-12-27 13:06:29 Hail: INFO: wrote matrix table with 36377 rows and 235 columns in 2500 partitions to /net/archive/groups/plggneuromol/imdik-zekanowski-gts/results/burden-and-family/scores.mt\n",
      "    Total size: 20.77 MiB\n",
      "    * Rows/entries: 20.72 MiB\n",
      "    * Columns: 45.02 KiB\n",
      "    * Globals: 11.00 B\n",
      "    * Smallest partition: 15 rows (1.43 KiB)\n",
      "    * Largest partition:  16 rows (17.59 KiB)\n"
     ]
    }
   ],
   "source": [
    "per_gene.write('/net/archive/groups/plggneuromol/imdik-zekanowski-gts/results/burden-and-family/scores.mt')"
   ]
  },
  {
   "cell_type": "code",
   "execution_count": 7,
   "metadata": {},
   "outputs": [],
   "source": [
    "per_gene = hl.read_matrix_table('/net/archive/groups/plggneuromol/imdik-zekanowski-gts/results/burden-and-family/scores.mt')"
   ]
  },
  {
   "cell_type": "code",
   "execution_count": 9,
   "metadata": {},
   "outputs": [],
   "source": [
    "per_gene = per_gene.annotate_rows(stat = hl.agg.group_by(per_gene.group, hl.agg.stats(per_gene.burden_cadd_phred)))"
   ]
  },
  {
   "cell_type": "markdown",
   "metadata": {},
   "source": [
    "## Run actual burden tests"
   ]
  },
  {
   "cell_type": "code",
   "execution_count": 3,
   "metadata": {},
   "outputs": [],
   "source": [
    "gene_lists = pd.read_csv('/net/archive/groups/plggneuromol/imdik-zekanowski-gts/data/external-data/burden-and-family/gene-lists-burden-and-family.csv', delimiter = ';')"
   ]
  },
  {
   "cell_type": "code",
   "execution_count": 4,
   "metadata": {},
   "outputs": [],
   "source": [
    "gene_lists = gene_lists.fillna('')"
   ]
  },
  {
   "cell_type": "code",
   "execution_count": 5,
   "metadata": {},
   "outputs": [],
   "source": [
    "genes = []\n",
    "\n",
    "for i in gene_lists.columns:\n",
    "    genes.append(list(gene_lists[i]))"
   ]
  },
  {
   "cell_type": "code",
   "execution_count": 6,
   "metadata": {},
   "outputs": [],
   "source": [
    "per_gene = hl.read_matrix_table('/net/archive/groups/plggneuromol/imdik-zekanowski-gts/results/burden-and-family/scores.mt')"
   ]
  },
  {
   "cell_type": "code",
   "execution_count": 7,
   "metadata": {},
   "outputs": [
    {
     "data": {
      "text/plain": [
       "['Cerebral_Cortex',\n",
       " 'Basal_Ganglia',\n",
       " 'Hypothalmus',\n",
       " 'Thalmus',\n",
       " 'Midbrain',\n",
       " 'Dopaminergiczna',\n",
       " 'Serotoninergiczna',\n",
       " 'Noradrenergiczna',\n",
       " 'GABA',\n",
       " 'SLITRK',\n",
       " 'all_neurotransmitters',\n",
       " 'Gutaminian',\n",
       " 'Serotonina_Kannabinoidy',\n",
       " 'Dopamina_Acetylocholina',\n",
       " 'geny_GTS',\n",
       " 'Synapsy',\n",
       " 'Tryptofan',\n",
       " 'Ligand_receptor',\n",
       " 'calcium',\n",
       " 'androgenowy',\n",
       " 'addiction']"
      ]
     },
     "execution_count": 7,
     "metadata": {},
     "output_type": "execute_result"
    }
   ],
   "source": [
    "list(gene_lists.columns)"
   ]
  },
  {
   "cell_type": "code",
   "execution_count": 8,
   "metadata": {},
   "outputs": [],
   "source": [
    "per_gene = per_gene.annotate_rows(cc = hl.literal(genes[0]).contains(per_gene.within_gene),\n",
    "                                  bg = hl.literal(genes[1]).contains(per_gene.within_gene),\n",
    "                                  hp = hl.literal(genes[2]).contains(per_gene.within_gene),\n",
    "                                  t = hl.literal(genes[3]).contains(per_gene.within_gene),\n",
    "                                  mb = hl.literal(genes[4]).contains(per_gene.within_gene),\n",
    "                                  dop = hl.literal(genes[5]).contains(per_gene.within_gene),\n",
    "                                  ser = hl.literal(genes[6]).contains(per_gene.within_gene),\n",
    "                                  nor = hl.literal(genes[7]).contains(per_gene.within_gene),\n",
    "                                  gaba = hl.literal(genes[8]).contains(per_gene.within_gene),\n",
    "                                  slit = hl.literal(genes[9]).contains(per_gene.within_gene),\n",
    "                                  nt = hl.literal(genes[10]).contains(per_gene.within_gene),\n",
    "                                  glut = hl.literal(genes[11]).contains(per_gene.within_gene),\n",
    "                                  sc = hl.literal(genes[12]).contains(per_gene.within_gene),\n",
    "                                  da = hl.literal(genes[13]).contains(per_gene.within_gene),\n",
    "                                  gts = hl.literal(genes[14]).contains(per_gene.within_gene),\n",
    "                                  syn = hl.literal(genes[15]).contains(per_gene.within_gene),\n",
    "                                  trp = hl.literal(genes[16]).contains(per_gene.within_gene),\n",
    "                                  lr = hl.literal(genes[17]).contains(per_gene.within_gene),\n",
    "                                  ca = hl.literal(genes[18]).contains(per_gene.within_gene),\n",
    "                                  andr = hl.literal(genes[19]).contains(per_gene.within_gene),\n",
    "                                  add = hl.literal(genes[20]).contains(per_gene.within_gene))"
   ]
  },
  {
   "cell_type": "code",
   "execution_count": 9,
   "metadata": {},
   "outputs": [],
   "source": [
    "filters = [per_gene.cc, per_gene.bg, per_gene.hp, per_gene.t, per_gene.mb,\n",
    "           per_gene.dop, per_gene.ser, per_gene.nor, per_gene.gaba, per_gene.slit, \n",
    "           per_gene.nt, per_gene.glut, per_gene.sc, per_gene.da, per_gene.gts, per_gene.syn, per_gene.trp,\n",
    "           per_gene.lr, per_gene.ca, per_gene.andr, per_gene.add]                        "
   ]
  },
  {
   "cell_type": "code",
   "execution_count": 10,
   "metadata": {},
   "outputs": [],
   "source": [
    "groups = per_gene.group.collect()"
   ]
  },
  {
   "cell_type": "code",
   "execution_count": 11,
   "metadata": {},
   "outputs": [
    {
     "name": "stderr",
     "output_type": "stream",
     "text": [
      "[Stage 41:===================================================>    (46 + 4) / 50]\r"
     ]
    }
   ],
   "source": [
    "results_list = []\n",
    "for f in filters: \n",
    "    results = per_gene.filter_rows(f)\n",
    "    results = results.annotate_cols(result_score = hl.agg.sum(results['burden_cadd_phred']))\n",
    "    results_list.append(results.result_score.collect())"
   ]
  },
  {
   "cell_type": "code",
   "execution_count": 13,
   "metadata": {},
   "outputs": [],
   "source": [
    "from scipy import stats\n",
    "\n",
    "t_test_gts_sport = []\n",
    "t_test_gts_1kg = []\n",
    "t_test_sport_1kg = []\n",
    "gts_mean = []\n",
    "gts_std = []\n",
    "kg_mean = []\n",
    "kg_std = []\n",
    "sport_mean = []\n",
    "sport_std = []\n",
    "\n",
    "for idx, i in enumerate(list(gene_lists.columns)):\n",
    "    x = np.array(results_list[idx])[np.array(groups) == 'GTS']\n",
    "    y = np.array(results_list[idx])[np.array(groups) == 'sport']\n",
    "    t_test_gts_sport.append(stats.ttest_ind(x,y))\n",
    "    x = np.array(results_list[idx])[np.array(groups) == 'GTS']\n",
    "    y = np.array(results_list[idx])[np.array(groups) == '1kg']\n",
    "    t_test_gts_1kg.append(stats.ttest_ind(x,y))\n",
    "    x = np.array(results_list[idx])[np.array(groups) == 'sport']\n",
    "    y = np.array(results_list[idx])[np.array(groups) == '1kg']\n",
    "    t_test_sport_1kg.append(stats.ttest_ind(x,y))\n",
    "    gts_mean.append(np.mean((np.array(results_list[idx])[np.array(groups) == 'GTS'])))\n",
    "    gts_std.append(np.std(np.array(results_list[idx])[np.array(groups) == 'GTS']))\n",
    "    kg_mean.append(np.mean((np.array(results_list[idx])[np.array(groups) == '1kg'])))\n",
    "    kg_std.append(np.std(np.array(results_list[idx])[np.array(groups) == '1kg']))\n",
    "    sport_mean.append(np.mean((np.array(results_list[idx])[np.array(groups) == 'sport'])))\n",
    "    sport_std.append(np.std(np.array(results_list[idx])[np.array(groups) == 'sport']))"
   ]
  },
  {
   "cell_type": "code",
   "execution_count": 32,
   "metadata": {},
   "outputs": [],
   "source": [
    "p_gts_sport = []\n",
    "\n",
    "for t in t_test_gts_sport:\n",
    "    p_gts_sport.append(t[1])\n",
    "    \n",
    "p_gts_kg = []\n",
    "\n",
    "for t in t_test_gts_1kg:\n",
    "    p_gts_kg.append(t[1])\n",
    "    \n",
    "p_kg_sport = []\n",
    "\n",
    "for t in t_test_sport_1kg:\n",
    "    p_kg_sport.append(t[1])"
   ]
  },
  {
   "cell_type": "code",
   "execution_count": 33,
   "metadata": {},
   "outputs": [],
   "source": [
    "list_results = pd.DataFrame([list(gene_lists.columns), p_gts_sport, p_gts_kg, p_kg_sport, \n",
    "                             gts_mean, gts_std, kg_mean, kg_std, sport_mean, sport_std])"
   ]
  },
  {
   "cell_type": "code",
   "execution_count": 36,
   "metadata": {},
   "outputs": [
    {
     "ename": "TypeError",
     "evalue": "'Ttest_indResult' object is not callable",
     "output_type": "error",
     "traceback": [
      "\u001b[0;31m---------------------------------------------------------------------------\u001b[0m",
      "\u001b[0;31mTypeError\u001b[0m                                 Traceback (most recent call last)",
      "\u001b[0;32m/net/scratch/people/plggosborcz/slurm_jobdir/7962787/tmp/ipykernel_31143/3849535526.py\u001b[0m in \u001b[0;36m<module>\u001b[0;34m\u001b[0m\n\u001b[0;32m----> 1\u001b[0;31m \u001b[0mt\u001b[0m\u001b[0;34m(\u001b[0m\u001b[0mlist_results\u001b[0m\u001b[0;34m)\u001b[0m\u001b[0;34m\u001b[0m\u001b[0;34m\u001b[0m\u001b[0m\n\u001b[0m",
      "\u001b[0;31mTypeError\u001b[0m: 'Ttest_indResult' object is not callable"
     ]
    }
   ],
   "source": [
    "list_results"
   ]
  },
  {
   "cell_type": "code",
   "execution_count": 37,
   "metadata": {},
   "outputs": [],
   "source": [
    "list_results.to_csv('list_results.csv')"
   ]
  },
  {
   "cell_type": "code",
   "execution_count": 15,
   "metadata": {},
   "outputs": [
    {
     "ename": "NameError",
     "evalue": "name 'collect' is not defined",
     "output_type": "error",
     "traceback": [
      "\u001b[0;31m---------------------------------------------------------------------------\u001b[0m",
      "\u001b[0;31mNameError\u001b[0m                                 Traceback (most recent call last)",
      "\u001b[0;32m/net/scratch/people/plggosborcz/slurm_jobdir/7962787/tmp/ipykernel_31143/2197617175.py\u001b[0m in \u001b[0;36m<module>\u001b[0;34m\u001b[0m\n\u001b[1;32m      1\u001b[0m \u001b[0mresults\u001b[0m \u001b[0;34m=\u001b[0m \u001b[0mper_gene\u001b[0m\u001b[0;34m.\u001b[0m\u001b[0mfilter_rows\u001b[0m\u001b[0;34m(\u001b[0m\u001b[0mper_gene\u001b[0m\u001b[0;34m.\u001b[0m\u001b[0mgaba\u001b[0m\u001b[0;34m)\u001b[0m\u001b[0;34m\u001b[0m\u001b[0;34m\u001b[0m\u001b[0m\n\u001b[1;32m      2\u001b[0m \u001b[0;34m\u001b[0m\u001b[0m\n\u001b[0;32m----> 3\u001b[0;31m \u001b[0mgaba_genes\u001b[0m \u001b[0;34m=\u001b[0m \u001b[0mresults\u001b[0m\u001b[0;34m.\u001b[0m\u001b[0mwithin_gene\u001b[0m\u001b[0;34m(\u001b[0m\u001b[0mcollect\u001b[0m\u001b[0;34m)\u001b[0m\u001b[0;34m\u001b[0m\u001b[0;34m\u001b[0m\u001b[0m\n\u001b[0m",
      "\u001b[0;31mNameError\u001b[0m: name 'collect' is not defined"
     ]
    }
   ],
   "source": [
    "results = per_gene.filter_rows(per_gene.gaba)\n",
    "\n",
    "gaba_genes = results.within_gene(collect)"
   ]
  },
  {
   "cell_type": "code",
   "execution_count": null,
   "metadata": {},
   "outputs": [],
   "source": [
    "print(gaba_genes)"
   ]
  },
  {
   "cell_type": "code",
   "execution_count": null,
   "metadata": {},
   "outputs": [],
   "source": [
    "len(gaba-genes)"
   ]
  },
  {
   "cell_type": "code",
   "execution_count": null,
   "metadata": {},
   "outputs": [],
   "source": [
    "for g in gaba_genes:\n",
    "    result = gaba_genes.filter_rows(gaba_genes.within_gene == g)\n",
    "    print(gaba_genes.count())\n",
    "    print('the gene is:'+g)\n",
    "    r = result['burden_cadd_phred'].collect()\n",
    "    print('burden score type - cadd phred results \\n \\t GTS vs sporstmen:')\n",
    "    x = np.array(r)[np.array(groups) == 'GTS']\n",
    "    y = np.array(r)[np.array(groups) == 'sport']\n",
    "    print(stats.ttest_ind(x,y))\n",
    "    print('\\t GTS vs 1kg:')\n",
    "    x = np.array(r)[np.array(groups) == 'GTS']\n",
    "    y = np.array(r)[np.array(groups) == '1kg']\n",
    "    print(stats.ttest_ind(x,y))\n",
    "    print('\\t sportsmen vs 1kg:')\n",
    "    x = np.array(r)[np.array(groups) == 'sport']\n",
    "    y = np.array(r)[np.array(groups) == '1kg']\n",
    "    print(stats.ttest_ind(x,y))\n",
    "    print('\\t stats - mean & sd:')\n",
    "    print('\\t \\t GTS - mean '+str(np.mean((np.array(r)[np.array(groups) == 'GTS'])))+' sd: '+str(np.std(np.array(e[idx][1])[np.array(groups) == 'GTS'])))\n",
    "    print('\\t \\t sport - mean '+str(np.mean((np.array(r)[np.array(groups) == 'sport'])))+' sd: '+str(np.std(np.array(e[idx][1])[np.array(groups) == 'sport'])))\n",
    "    print('\\t \\t 1kg - mean '+str(np.mean((np.array(r)[np.array(groups) == '1kg'])))+' sd: '+str(np.std(np.array(e[idx][1])[np.array(groups) == '1kg'])))\n",
    "    print('\\n')\n",
    "    "
   ]
  },
  {
   "cell_type": "code",
   "execution_count": null,
   "metadata": {},
   "outputs": [],
   "source": []
  }
 ],
 "metadata": {
  "kernelspec": {
   "display_name": "Python 3 (ipykernel)",
   "language": "python",
   "name": "python3"
  },
  "language_info": {
   "codemirror_mode": {
    "name": "ipython",
    "version": 3
   },
   "file_extension": ".py",
   "mimetype": "text/x-python",
   "name": "python",
   "nbconvert_exporter": "python",
   "pygments_lexer": "ipython3",
   "version": "3.7.7"
  }
 },
 "nbformat": 4,
 "nbformat_minor": 4
}
