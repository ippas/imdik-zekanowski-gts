{
 "cells": [
  {
   "cell_type": "code",
   "execution_count": 1,
   "metadata": {},
   "outputs": [
    {
     "data": {
      "text/html": [
       "<style>.container { width:100% !important; }</style>"
      ],
      "text/plain": [
       "<IPython.core.display.HTML object>"
      ]
     },
     "metadata": {},
     "output_type": "display_data"
    },
    {
     "name": "stdout",
     "output_type": "stream",
     "text": [
      "2022-02-02 10:25:16 WARN  NativeCodeLoader:60 - Unable to load native-hadoop library for your platform... using builtin-java classes where applicable\n"
     ]
    },
    {
     "name": "stderr",
     "output_type": "stream",
     "text": [
      "Setting default log level to \"WARN\".\n",
      "To adjust logging level use sc.setLogLevel(newLevel). For SparkR, use setLogLevel(newLevel).\n",
      "Running on Apache Spark version 3.1.2\n",
      "SparkUI available at http://p0604.prometheus:4040\n",
      "Welcome to\n",
      "     __  __     <>__\n",
      "    / /_/ /__  __/ /\n",
      "   / __  / _ `/ / /\n",
      "  /_/ /_/\\_,_/_/_/   version 0.2.79-f141af259254\n",
      "LOGGING: writing to /net/archive/groups/plggneuromol/imdik-zekanowski-gts/analysis/burden-and-family/hail-20220202-1025-0.2.79-f141af259254.log\n"
     ]
    }
   ],
   "source": [
    "from IPython.display import display\n",
    "from IPython.display import HTML\n",
    "import IPython.core.display as di # Example: di.display_html('<h3>%s:</h3>' % str, raw=True)\n",
    "\n",
    "#This line will hide code by default when the notebook is exported as HTML\n",
    "#di.display_html('<script>jQuery(function() {if (jQuery(\"body.notebook_app\").length == 0) { jQuery(\".input_area\").toggle(); jQuery(\".prompt\").toggle();}});</script>', raw=True)\n",
    "\n",
    "display(HTML(\"<style>.container { width:100% !important; }</style>\"))\n",
    "\n",
    "import hail as hl\n",
    "hl.init(tmp_dir='/net/archive/groups/plggneuromol/imdik-zekanowski-gts/data/temp', spark_conf={'spark.driver.memory': '30G', 'spark.executor.memory': '30G'}, default_reference='GRCh38') "
   ]
  },
  {
   "cell_type": "code",
   "execution_count": 2,
   "metadata": {
    "scrolled": true
   },
   "outputs": [
    {
     "data": {
      "text/html": [
       "\n",
       "    <div class=\"bk-root\">\n",
       "        <a href=\"https://bokeh.org\" target=\"_blank\" class=\"bk-logo bk-logo-small bk-logo-notebook\"></a>\n",
       "        <span id=\"1001\">Loading BokehJS ...</span>\n",
       "    </div>"
      ]
     },
     "metadata": {},
     "output_type": "display_data"
    },
    {
     "data": {
      "application/javascript": [
       "\n",
       "(function(root) {\n",
       "  function now() {\n",
       "    return new Date();\n",
       "  }\n",
       "\n",
       "  var force = true;\n",
       "\n",
       "  if (typeof root._bokeh_onload_callbacks === \"undefined\" || force === true) {\n",
       "    root._bokeh_onload_callbacks = [];\n",
       "    root._bokeh_is_loading = undefined;\n",
       "  }\n",
       "\n",
       "  var JS_MIME_TYPE = 'application/javascript';\n",
       "  var HTML_MIME_TYPE = 'text/html';\n",
       "  var EXEC_MIME_TYPE = 'application/vnd.bokehjs_exec.v0+json';\n",
       "  var CLASS_NAME = 'output_bokeh rendered_html';\n",
       "\n",
       "  /**\n",
       "   * Render data to the DOM node\n",
       "   */\n",
       "  function render(props, node) {\n",
       "    var script = document.createElement(\"script\");\n",
       "    node.appendChild(script);\n",
       "  }\n",
       "\n",
       "  /**\n",
       "   * Handle when an output is cleared or removed\n",
       "   */\n",
       "  function handleClearOutput(event, handle) {\n",
       "    var cell = handle.cell;\n",
       "\n",
       "    var id = cell.output_area._bokeh_element_id;\n",
       "    var server_id = cell.output_area._bokeh_server_id;\n",
       "    // Clean up Bokeh references\n",
       "    if (id != null && id in Bokeh.index) {\n",
       "      Bokeh.index[id].model.document.clear();\n",
       "      delete Bokeh.index[id];\n",
       "    }\n",
       "\n",
       "    if (server_id !== undefined) {\n",
       "      // Clean up Bokeh references\n",
       "      var cmd = \"from bokeh.io.state import curstate; print(curstate().uuid_to_server['\" + server_id + \"'].get_sessions()[0].document.roots[0]._id)\";\n",
       "      cell.notebook.kernel.execute(cmd, {\n",
       "        iopub: {\n",
       "          output: function(msg) {\n",
       "            var id = msg.content.text.trim();\n",
       "            if (id in Bokeh.index) {\n",
       "              Bokeh.index[id].model.document.clear();\n",
       "              delete Bokeh.index[id];\n",
       "            }\n",
       "          }\n",
       "        }\n",
       "      });\n",
       "      // Destroy server and session\n",
       "      var cmd = \"import bokeh.io.notebook as ion; ion.destroy_server('\" + server_id + \"')\";\n",
       "      cell.notebook.kernel.execute(cmd);\n",
       "    }\n",
       "  }\n",
       "\n",
       "  /**\n",
       "   * Handle when a new output is added\n",
       "   */\n",
       "  function handleAddOutput(event, handle) {\n",
       "    var output_area = handle.output_area;\n",
       "    var output = handle.output;\n",
       "\n",
       "    // limit handleAddOutput to display_data with EXEC_MIME_TYPE content only\n",
       "    if ((output.output_type != \"display_data\") || (!output.data.hasOwnProperty(EXEC_MIME_TYPE))) {\n",
       "      return\n",
       "    }\n",
       "\n",
       "    var toinsert = output_area.element.find(\".\" + CLASS_NAME.split(' ')[0]);\n",
       "\n",
       "    if (output.metadata[EXEC_MIME_TYPE][\"id\"] !== undefined) {\n",
       "      toinsert[toinsert.length - 1].firstChild.textContent = output.data[JS_MIME_TYPE];\n",
       "      // store reference to embed id on output_area\n",
       "      output_area._bokeh_element_id = output.metadata[EXEC_MIME_TYPE][\"id\"];\n",
       "    }\n",
       "    if (output.metadata[EXEC_MIME_TYPE][\"server_id\"] !== undefined) {\n",
       "      var bk_div = document.createElement(\"div\");\n",
       "      bk_div.innerHTML = output.data[HTML_MIME_TYPE];\n",
       "      var script_attrs = bk_div.children[0].attributes;\n",
       "      for (var i = 0; i < script_attrs.length; i++) {\n",
       "        toinsert[toinsert.length - 1].firstChild.setAttribute(script_attrs[i].name, script_attrs[i].value);\n",
       "      }\n",
       "      // store reference to server id on output_area\n",
       "      output_area._bokeh_server_id = output.metadata[EXEC_MIME_TYPE][\"server_id\"];\n",
       "    }\n",
       "  }\n",
       "\n",
       "  function register_renderer(events, OutputArea) {\n",
       "\n",
       "    function append_mime(data, metadata, element) {\n",
       "      // create a DOM node to render to\n",
       "      var toinsert = this.create_output_subarea(\n",
       "        metadata,\n",
       "        CLASS_NAME,\n",
       "        EXEC_MIME_TYPE\n",
       "      );\n",
       "      this.keyboard_manager.register_events(toinsert);\n",
       "      // Render to node\n",
       "      var props = {data: data, metadata: metadata[EXEC_MIME_TYPE]};\n",
       "      render(props, toinsert[toinsert.length - 1]);\n",
       "      element.append(toinsert);\n",
       "      return toinsert\n",
       "    }\n",
       "\n",
       "    /* Handle when an output is cleared or removed */\n",
       "    events.on('clear_output.CodeCell', handleClearOutput);\n",
       "    events.on('delete.Cell', handleClearOutput);\n",
       "\n",
       "    /* Handle when a new output is added */\n",
       "    events.on('output_added.OutputArea', handleAddOutput);\n",
       "\n",
       "    /**\n",
       "     * Register the mime type and append_mime function with output_area\n",
       "     */\n",
       "    OutputArea.prototype.register_mime_type(EXEC_MIME_TYPE, append_mime, {\n",
       "      /* Is output safe? */\n",
       "      safe: true,\n",
       "      /* Index of renderer in `output_area.display_order` */\n",
       "      index: 0\n",
       "    });\n",
       "  }\n",
       "\n",
       "  // register the mime type if in Jupyter Notebook environment and previously unregistered\n",
       "  if (root.Jupyter !== undefined) {\n",
       "    var events = require('base/js/events');\n",
       "    var OutputArea = require('notebook/js/outputarea').OutputArea;\n",
       "\n",
       "    if (OutputArea.prototype.mime_types().indexOf(EXEC_MIME_TYPE) == -1) {\n",
       "      register_renderer(events, OutputArea);\n",
       "    }\n",
       "  }\n",
       "\n",
       "  \n",
       "  if (typeof (root._bokeh_timeout) === \"undefined\" || force === true) {\n",
       "    root._bokeh_timeout = Date.now() + 5000;\n",
       "    root._bokeh_failed_load = false;\n",
       "  }\n",
       "\n",
       "  var NB_LOAD_WARNING = {'data': {'text/html':\n",
       "     \"<div style='background-color: #fdd'>\\n\"+\n",
       "     \"<p>\\n\"+\n",
       "     \"BokehJS does not appear to have successfully loaded. If loading BokehJS from CDN, this \\n\"+\n",
       "     \"may be due to a slow or bad network connection. Possible fixes:\\n\"+\n",
       "     \"</p>\\n\"+\n",
       "     \"<ul>\\n\"+\n",
       "     \"<li>re-rerun `output_notebook()` to attempt to load from CDN again, or</li>\\n\"+\n",
       "     \"<li>use INLINE resources instead, as so:</li>\\n\"+\n",
       "     \"</ul>\\n\"+\n",
       "     \"<code>\\n\"+\n",
       "     \"from bokeh.resources import INLINE\\n\"+\n",
       "     \"output_notebook(resources=INLINE)\\n\"+\n",
       "     \"</code>\\n\"+\n",
       "     \"</div>\"}};\n",
       "\n",
       "  function display_loaded() {\n",
       "    var el = document.getElementById(\"1001\");\n",
       "    if (el != null) {\n",
       "      el.textContent = \"BokehJS is loading...\";\n",
       "    }\n",
       "    if (root.Bokeh !== undefined) {\n",
       "      if (el != null) {\n",
       "        el.textContent = \"BokehJS \" + root.Bokeh.version + \" successfully loaded.\";\n",
       "      }\n",
       "    } else if (Date.now() < root._bokeh_timeout) {\n",
       "      setTimeout(display_loaded, 100)\n",
       "    }\n",
       "  }\n",
       "\n",
       "\n",
       "  function run_callbacks() {\n",
       "    try {\n",
       "      root._bokeh_onload_callbacks.forEach(function(callback) {\n",
       "        if (callback != null)\n",
       "          callback();\n",
       "      });\n",
       "    } finally {\n",
       "      delete root._bokeh_onload_callbacks\n",
       "    }\n",
       "    console.debug(\"Bokeh: all callbacks have finished\");\n",
       "  }\n",
       "\n",
       "  function load_libs(css_urls, js_urls, callback) {\n",
       "    if (css_urls == null) css_urls = [];\n",
       "    if (js_urls == null) js_urls = [];\n",
       "\n",
       "    root._bokeh_onload_callbacks.push(callback);\n",
       "    if (root._bokeh_is_loading > 0) {\n",
       "      console.debug(\"Bokeh: BokehJS is being loaded, scheduling callback at\", now());\n",
       "      return null;\n",
       "    }\n",
       "    if (js_urls == null || js_urls.length === 0) {\n",
       "      run_callbacks();\n",
       "      return null;\n",
       "    }\n",
       "    console.debug(\"Bokeh: BokehJS not loaded, scheduling load and callback at\", now());\n",
       "    root._bokeh_is_loading = css_urls.length + js_urls.length;\n",
       "\n",
       "    function on_load() {\n",
       "      root._bokeh_is_loading--;\n",
       "      if (root._bokeh_is_loading === 0) {\n",
       "        console.debug(\"Bokeh: all BokehJS libraries/stylesheets loaded\");\n",
       "        run_callbacks()\n",
       "      }\n",
       "    }\n",
       "\n",
       "    function on_error() {\n",
       "      console.error(\"failed to load \" + url);\n",
       "    }\n",
       "\n",
       "    for (var i = 0; i < css_urls.length; i++) {\n",
       "      var url = css_urls[i];\n",
       "      const element = document.createElement(\"link\");\n",
       "      element.onload = on_load;\n",
       "      element.onerror = on_error;\n",
       "      element.rel = \"stylesheet\";\n",
       "      element.type = \"text/css\";\n",
       "      element.href = url;\n",
       "      console.debug(\"Bokeh: injecting link tag for BokehJS stylesheet: \", url);\n",
       "      document.body.appendChild(element);\n",
       "    }\n",
       "\n",
       "    for (var i = 0; i < js_urls.length; i++) {\n",
       "      var url = js_urls[i];\n",
       "      var element = document.createElement('script');\n",
       "      element.onload = on_load;\n",
       "      element.onerror = on_error;\n",
       "      element.async = false;\n",
       "      element.src = url;\n",
       "      console.debug(\"Bokeh: injecting script tag for BokehJS library: \", url);\n",
       "      document.head.appendChild(element);\n",
       "    }\n",
       "  };var element = document.getElementById(\"1001\");\n",
       "  if (element == null) {\n",
       "    console.error(\"Bokeh: ERROR: autoload.js configured with elementid '1001' but no matching script tag was found. \")\n",
       "    return false;\n",
       "  }\n",
       "\n",
       "  function inject_raw_css(css) {\n",
       "    const element = document.createElement(\"style\");\n",
       "    element.appendChild(document.createTextNode(css));\n",
       "    document.body.appendChild(element);\n",
       "  }\n",
       "\n",
       "  \n",
       "  var js_urls = [\"https://cdn.pydata.org/bokeh/release/bokeh-1.4.0.min.js\", \"https://cdn.pydata.org/bokeh/release/bokeh-widgets-1.4.0.min.js\", \"https://cdn.pydata.org/bokeh/release/bokeh-tables-1.4.0.min.js\", \"https://cdn.pydata.org/bokeh/release/bokeh-gl-1.4.0.min.js\"];\n",
       "  var css_urls = [];\n",
       "  \n",
       "\n",
       "  var inline_js = [\n",
       "    function(Bokeh) {\n",
       "      Bokeh.set_log_level(\"info\");\n",
       "    },\n",
       "    function(Bokeh) {\n",
       "    \n",
       "    \n",
       "    }\n",
       "  ];\n",
       "\n",
       "  function run_inline_js() {\n",
       "    \n",
       "    if (root.Bokeh !== undefined || force === true) {\n",
       "      \n",
       "    for (var i = 0; i < inline_js.length; i++) {\n",
       "      inline_js[i].call(root, root.Bokeh);\n",
       "    }\n",
       "    if (force === true) {\n",
       "        display_loaded();\n",
       "      }} else if (Date.now() < root._bokeh_timeout) {\n",
       "      setTimeout(run_inline_js, 100);\n",
       "    } else if (!root._bokeh_failed_load) {\n",
       "      console.log(\"Bokeh: BokehJS failed to load within specified timeout.\");\n",
       "      root._bokeh_failed_load = true;\n",
       "    } else if (force !== true) {\n",
       "      var cell = $(document.getElementById(\"1001\")).parents('.cell').data().cell;\n",
       "      cell.output_area.append_execute_result(NB_LOAD_WARNING)\n",
       "    }\n",
       "\n",
       "  }\n",
       "\n",
       "  if (root._bokeh_is_loading === 0) {\n",
       "    console.debug(\"Bokeh: BokehJS loaded, going straight to plotting\");\n",
       "    run_inline_js();\n",
       "  } else {\n",
       "    load_libs(css_urls, js_urls, function() {\n",
       "      console.debug(\"Bokeh: BokehJS plotting callback run at\", now());\n",
       "      run_inline_js();\n",
       "    });\n",
       "  }\n",
       "}(window));"
      ],
      "application/vnd.bokehjs_load.v0+json": "\n(function(root) {\n  function now() {\n    return new Date();\n  }\n\n  var force = true;\n\n  if (typeof root._bokeh_onload_callbacks === \"undefined\" || force === true) {\n    root._bokeh_onload_callbacks = [];\n    root._bokeh_is_loading = undefined;\n  }\n\n  \n\n  \n  if (typeof (root._bokeh_timeout) === \"undefined\" || force === true) {\n    root._bokeh_timeout = Date.now() + 5000;\n    root._bokeh_failed_load = false;\n  }\n\n  var NB_LOAD_WARNING = {'data': {'text/html':\n     \"<div style='background-color: #fdd'>\\n\"+\n     \"<p>\\n\"+\n     \"BokehJS does not appear to have successfully loaded. If loading BokehJS from CDN, this \\n\"+\n     \"may be due to a slow or bad network connection. Possible fixes:\\n\"+\n     \"</p>\\n\"+\n     \"<ul>\\n\"+\n     \"<li>re-rerun `output_notebook()` to attempt to load from CDN again, or</li>\\n\"+\n     \"<li>use INLINE resources instead, as so:</li>\\n\"+\n     \"</ul>\\n\"+\n     \"<code>\\n\"+\n     \"from bokeh.resources import INLINE\\n\"+\n     \"output_notebook(resources=INLINE)\\n\"+\n     \"</code>\\n\"+\n     \"</div>\"}};\n\n  function display_loaded() {\n    var el = document.getElementById(\"1001\");\n    if (el != null) {\n      el.textContent = \"BokehJS is loading...\";\n    }\n    if (root.Bokeh !== undefined) {\n      if (el != null) {\n        el.textContent = \"BokehJS \" + root.Bokeh.version + \" successfully loaded.\";\n      }\n    } else if (Date.now() < root._bokeh_timeout) {\n      setTimeout(display_loaded, 100)\n    }\n  }\n\n\n  function run_callbacks() {\n    try {\n      root._bokeh_onload_callbacks.forEach(function(callback) {\n        if (callback != null)\n          callback();\n      });\n    } finally {\n      delete root._bokeh_onload_callbacks\n    }\n    console.debug(\"Bokeh: all callbacks have finished\");\n  }\n\n  function load_libs(css_urls, js_urls, callback) {\n    if (css_urls == null) css_urls = [];\n    if (js_urls == null) js_urls = [];\n\n    root._bokeh_onload_callbacks.push(callback);\n    if (root._bokeh_is_loading > 0) {\n      console.debug(\"Bokeh: BokehJS is being loaded, scheduling callback at\", now());\n      return null;\n    }\n    if (js_urls == null || js_urls.length === 0) {\n      run_callbacks();\n      return null;\n    }\n    console.debug(\"Bokeh: BokehJS not loaded, scheduling load and callback at\", now());\n    root._bokeh_is_loading = css_urls.length + js_urls.length;\n\n    function on_load() {\n      root._bokeh_is_loading--;\n      if (root._bokeh_is_loading === 0) {\n        console.debug(\"Bokeh: all BokehJS libraries/stylesheets loaded\");\n        run_callbacks()\n      }\n    }\n\n    function on_error() {\n      console.error(\"failed to load \" + url);\n    }\n\n    for (var i = 0; i < css_urls.length; i++) {\n      var url = css_urls[i];\n      const element = document.createElement(\"link\");\n      element.onload = on_load;\n      element.onerror = on_error;\n      element.rel = \"stylesheet\";\n      element.type = \"text/css\";\n      element.href = url;\n      console.debug(\"Bokeh: injecting link tag for BokehJS stylesheet: \", url);\n      document.body.appendChild(element);\n    }\n\n    for (var i = 0; i < js_urls.length; i++) {\n      var url = js_urls[i];\n      var element = document.createElement('script');\n      element.onload = on_load;\n      element.onerror = on_error;\n      element.async = false;\n      element.src = url;\n      console.debug(\"Bokeh: injecting script tag for BokehJS library: \", url);\n      document.head.appendChild(element);\n    }\n  };var element = document.getElementById(\"1001\");\n  if (element == null) {\n    console.error(\"Bokeh: ERROR: autoload.js configured with elementid '1001' but no matching script tag was found. \")\n    return false;\n  }\n\n  function inject_raw_css(css) {\n    const element = document.createElement(\"style\");\n    element.appendChild(document.createTextNode(css));\n    document.body.appendChild(element);\n  }\n\n  \n  var js_urls = [\"https://cdn.pydata.org/bokeh/release/bokeh-1.4.0.min.js\", \"https://cdn.pydata.org/bokeh/release/bokeh-widgets-1.4.0.min.js\", \"https://cdn.pydata.org/bokeh/release/bokeh-tables-1.4.0.min.js\", \"https://cdn.pydata.org/bokeh/release/bokeh-gl-1.4.0.min.js\"];\n  var css_urls = [];\n  \n\n  var inline_js = [\n    function(Bokeh) {\n      Bokeh.set_log_level(\"info\");\n    },\n    function(Bokeh) {\n    \n    \n    }\n  ];\n\n  function run_inline_js() {\n    \n    if (root.Bokeh !== undefined || force === true) {\n      \n    for (var i = 0; i < inline_js.length; i++) {\n      inline_js[i].call(root, root.Bokeh);\n    }\n    if (force === true) {\n        display_loaded();\n      }} else if (Date.now() < root._bokeh_timeout) {\n      setTimeout(run_inline_js, 100);\n    } else if (!root._bokeh_failed_load) {\n      console.log(\"Bokeh: BokehJS failed to load within specified timeout.\");\n      root._bokeh_failed_load = true;\n    } else if (force !== true) {\n      var cell = $(document.getElementById(\"1001\")).parents('.cell').data().cell;\n      cell.output_area.append_execute_result(NB_LOAD_WARNING)\n    }\n\n  }\n\n  if (root._bokeh_is_loading === 0) {\n    console.debug(\"Bokeh: BokehJS loaded, going straight to plotting\");\n    run_inline_js();\n  } else {\n    load_libs(css_urls, js_urls, function() {\n      console.debug(\"Bokeh: BokehJS plotting callback run at\", now());\n      run_inline_js();\n    });\n  }\n}(window));"
     },
     "metadata": {},
     "output_type": "display_data"
    },
    {
     "data": {
      "text/html": [
       "\n",
       "    <div class=\"bk-root\">\n",
       "        <a href=\"https://bokeh.org\" target=\"_blank\" class=\"bk-logo bk-logo-small bk-logo-notebook\"></a>\n",
       "        <span id=\"1002\">Loading BokehJS ...</span>\n",
       "    </div>"
      ]
     },
     "metadata": {},
     "output_type": "display_data"
    },
    {
     "data": {
      "application/javascript": [
       "\n",
       "(function(root) {\n",
       "  function now() {\n",
       "    return new Date();\n",
       "  }\n",
       "\n",
       "  var force = true;\n",
       "\n",
       "  if (typeof root._bokeh_onload_callbacks === \"undefined\" || force === true) {\n",
       "    root._bokeh_onload_callbacks = [];\n",
       "    root._bokeh_is_loading = undefined;\n",
       "  }\n",
       "\n",
       "  var JS_MIME_TYPE = 'application/javascript';\n",
       "  var HTML_MIME_TYPE = 'text/html';\n",
       "  var EXEC_MIME_TYPE = 'application/vnd.bokehjs_exec.v0+json';\n",
       "  var CLASS_NAME = 'output_bokeh rendered_html';\n",
       "\n",
       "  /**\n",
       "   * Render data to the DOM node\n",
       "   */\n",
       "  function render(props, node) {\n",
       "    var script = document.createElement(\"script\");\n",
       "    node.appendChild(script);\n",
       "  }\n",
       "\n",
       "  /**\n",
       "   * Handle when an output is cleared or removed\n",
       "   */\n",
       "  function handleClearOutput(event, handle) {\n",
       "    var cell = handle.cell;\n",
       "\n",
       "    var id = cell.output_area._bokeh_element_id;\n",
       "    var server_id = cell.output_area._bokeh_server_id;\n",
       "    // Clean up Bokeh references\n",
       "    if (id != null && id in Bokeh.index) {\n",
       "      Bokeh.index[id].model.document.clear();\n",
       "      delete Bokeh.index[id];\n",
       "    }\n",
       "\n",
       "    if (server_id !== undefined) {\n",
       "      // Clean up Bokeh references\n",
       "      var cmd = \"from bokeh.io.state import curstate; print(curstate().uuid_to_server['\" + server_id + \"'].get_sessions()[0].document.roots[0]._id)\";\n",
       "      cell.notebook.kernel.execute(cmd, {\n",
       "        iopub: {\n",
       "          output: function(msg) {\n",
       "            var id = msg.content.text.trim();\n",
       "            if (id in Bokeh.index) {\n",
       "              Bokeh.index[id].model.document.clear();\n",
       "              delete Bokeh.index[id];\n",
       "            }\n",
       "          }\n",
       "        }\n",
       "      });\n",
       "      // Destroy server and session\n",
       "      var cmd = \"import bokeh.io.notebook as ion; ion.destroy_server('\" + server_id + \"')\";\n",
       "      cell.notebook.kernel.execute(cmd);\n",
       "    }\n",
       "  }\n",
       "\n",
       "  /**\n",
       "   * Handle when a new output is added\n",
       "   */\n",
       "  function handleAddOutput(event, handle) {\n",
       "    var output_area = handle.output_area;\n",
       "    var output = handle.output;\n",
       "\n",
       "    // limit handleAddOutput to display_data with EXEC_MIME_TYPE content only\n",
       "    if ((output.output_type != \"display_data\") || (!output.data.hasOwnProperty(EXEC_MIME_TYPE))) {\n",
       "      return\n",
       "    }\n",
       "\n",
       "    var toinsert = output_area.element.find(\".\" + CLASS_NAME.split(' ')[0]);\n",
       "\n",
       "    if (output.metadata[EXEC_MIME_TYPE][\"id\"] !== undefined) {\n",
       "      toinsert[toinsert.length - 1].firstChild.textContent = output.data[JS_MIME_TYPE];\n",
       "      // store reference to embed id on output_area\n",
       "      output_area._bokeh_element_id = output.metadata[EXEC_MIME_TYPE][\"id\"];\n",
       "    }\n",
       "    if (output.metadata[EXEC_MIME_TYPE][\"server_id\"] !== undefined) {\n",
       "      var bk_div = document.createElement(\"div\");\n",
       "      bk_div.innerHTML = output.data[HTML_MIME_TYPE];\n",
       "      var script_attrs = bk_div.children[0].attributes;\n",
       "      for (var i = 0; i < script_attrs.length; i++) {\n",
       "        toinsert[toinsert.length - 1].firstChild.setAttribute(script_attrs[i].name, script_attrs[i].value);\n",
       "      }\n",
       "      // store reference to server id on output_area\n",
       "      output_area._bokeh_server_id = output.metadata[EXEC_MIME_TYPE][\"server_id\"];\n",
       "    }\n",
       "  }\n",
       "\n",
       "  function register_renderer(events, OutputArea) {\n",
       "\n",
       "    function append_mime(data, metadata, element) {\n",
       "      // create a DOM node to render to\n",
       "      var toinsert = this.create_output_subarea(\n",
       "        metadata,\n",
       "        CLASS_NAME,\n",
       "        EXEC_MIME_TYPE\n",
       "      );\n",
       "      this.keyboard_manager.register_events(toinsert);\n",
       "      // Render to node\n",
       "      var props = {data: data, metadata: metadata[EXEC_MIME_TYPE]};\n",
       "      render(props, toinsert[toinsert.length - 1]);\n",
       "      element.append(toinsert);\n",
       "      return toinsert\n",
       "    }\n",
       "\n",
       "    /* Handle when an output is cleared or removed */\n",
       "    events.on('clear_output.CodeCell', handleClearOutput);\n",
       "    events.on('delete.Cell', handleClearOutput);\n",
       "\n",
       "    /* Handle when a new output is added */\n",
       "    events.on('output_added.OutputArea', handleAddOutput);\n",
       "\n",
       "    /**\n",
       "     * Register the mime type and append_mime function with output_area\n",
       "     */\n",
       "    OutputArea.prototype.register_mime_type(EXEC_MIME_TYPE, append_mime, {\n",
       "      /* Is output safe? */\n",
       "      safe: true,\n",
       "      /* Index of renderer in `output_area.display_order` */\n",
       "      index: 0\n",
       "    });\n",
       "  }\n",
       "\n",
       "  // register the mime type if in Jupyter Notebook environment and previously unregistered\n",
       "  if (root.Jupyter !== undefined) {\n",
       "    var events = require('base/js/events');\n",
       "    var OutputArea = require('notebook/js/outputarea').OutputArea;\n",
       "\n",
       "    if (OutputArea.prototype.mime_types().indexOf(EXEC_MIME_TYPE) == -1) {\n",
       "      register_renderer(events, OutputArea);\n",
       "    }\n",
       "  }\n",
       "\n",
       "  \n",
       "  if (typeof (root._bokeh_timeout) === \"undefined\" || force === true) {\n",
       "    root._bokeh_timeout = Date.now() + 5000;\n",
       "    root._bokeh_failed_load = false;\n",
       "  }\n",
       "\n",
       "  var NB_LOAD_WARNING = {'data': {'text/html':\n",
       "     \"<div style='background-color: #fdd'>\\n\"+\n",
       "     \"<p>\\n\"+\n",
       "     \"BokehJS does not appear to have successfully loaded. If loading BokehJS from CDN, this \\n\"+\n",
       "     \"may be due to a slow or bad network connection. Possible fixes:\\n\"+\n",
       "     \"</p>\\n\"+\n",
       "     \"<ul>\\n\"+\n",
       "     \"<li>re-rerun `output_notebook()` to attempt to load from CDN again, or</li>\\n\"+\n",
       "     \"<li>use INLINE resources instead, as so:</li>\\n\"+\n",
       "     \"</ul>\\n\"+\n",
       "     \"<code>\\n\"+\n",
       "     \"from bokeh.resources import INLINE\\n\"+\n",
       "     \"output_notebook(resources=INLINE)\\n\"+\n",
       "     \"</code>\\n\"+\n",
       "     \"</div>\"}};\n",
       "\n",
       "  function display_loaded() {\n",
       "    var el = document.getElementById(\"1002\");\n",
       "    if (el != null) {\n",
       "      el.textContent = \"BokehJS is loading...\";\n",
       "    }\n",
       "    if (root.Bokeh !== undefined) {\n",
       "      if (el != null) {\n",
       "        el.textContent = \"BokehJS \" + root.Bokeh.version + \" successfully loaded.\";\n",
       "      }\n",
       "    } else if (Date.now() < root._bokeh_timeout) {\n",
       "      setTimeout(display_loaded, 100)\n",
       "    }\n",
       "  }\n",
       "\n",
       "\n",
       "  function run_callbacks() {\n",
       "    try {\n",
       "      root._bokeh_onload_callbacks.forEach(function(callback) {\n",
       "        if (callback != null)\n",
       "          callback();\n",
       "      });\n",
       "    } finally {\n",
       "      delete root._bokeh_onload_callbacks\n",
       "    }\n",
       "    console.debug(\"Bokeh: all callbacks have finished\");\n",
       "  }\n",
       "\n",
       "  function load_libs(css_urls, js_urls, callback) {\n",
       "    if (css_urls == null) css_urls = [];\n",
       "    if (js_urls == null) js_urls = [];\n",
       "\n",
       "    root._bokeh_onload_callbacks.push(callback);\n",
       "    if (root._bokeh_is_loading > 0) {\n",
       "      console.debug(\"Bokeh: BokehJS is being loaded, scheduling callback at\", now());\n",
       "      return null;\n",
       "    }\n",
       "    if (js_urls == null || js_urls.length === 0) {\n",
       "      run_callbacks();\n",
       "      return null;\n",
       "    }\n",
       "    console.debug(\"Bokeh: BokehJS not loaded, scheduling load and callback at\", now());\n",
       "    root._bokeh_is_loading = css_urls.length + js_urls.length;\n",
       "\n",
       "    function on_load() {\n",
       "      root._bokeh_is_loading--;\n",
       "      if (root._bokeh_is_loading === 0) {\n",
       "        console.debug(\"Bokeh: all BokehJS libraries/stylesheets loaded\");\n",
       "        run_callbacks()\n",
       "      }\n",
       "    }\n",
       "\n",
       "    function on_error() {\n",
       "      console.error(\"failed to load \" + url);\n",
       "    }\n",
       "\n",
       "    for (var i = 0; i < css_urls.length; i++) {\n",
       "      var url = css_urls[i];\n",
       "      const element = document.createElement(\"link\");\n",
       "      element.onload = on_load;\n",
       "      element.onerror = on_error;\n",
       "      element.rel = \"stylesheet\";\n",
       "      element.type = \"text/css\";\n",
       "      element.href = url;\n",
       "      console.debug(\"Bokeh: injecting link tag for BokehJS stylesheet: \", url);\n",
       "      document.body.appendChild(element);\n",
       "    }\n",
       "\n",
       "    for (var i = 0; i < js_urls.length; i++) {\n",
       "      var url = js_urls[i];\n",
       "      var element = document.createElement('script');\n",
       "      element.onload = on_load;\n",
       "      element.onerror = on_error;\n",
       "      element.async = false;\n",
       "      element.src = url;\n",
       "      console.debug(\"Bokeh: injecting script tag for BokehJS library: \", url);\n",
       "      document.head.appendChild(element);\n",
       "    }\n",
       "  };var element = document.getElementById(\"1002\");\n",
       "  if (element == null) {\n",
       "    console.error(\"Bokeh: ERROR: autoload.js configured with elementid '1002' but no matching script tag was found. \")\n",
       "    return false;\n",
       "  }\n",
       "\n",
       "  function inject_raw_css(css) {\n",
       "    const element = document.createElement(\"style\");\n",
       "    element.appendChild(document.createTextNode(css));\n",
       "    document.body.appendChild(element);\n",
       "  }\n",
       "\n",
       "  \n",
       "  var js_urls = [\"https://cdn.pydata.org/bokeh/release/bokeh-1.4.0.min.js\", \"https://cdn.pydata.org/bokeh/release/bokeh-widgets-1.4.0.min.js\", \"https://cdn.pydata.org/bokeh/release/bokeh-tables-1.4.0.min.js\", \"https://cdn.pydata.org/bokeh/release/bokeh-gl-1.4.0.min.js\"];\n",
       "  var css_urls = [];\n",
       "  \n",
       "\n",
       "  var inline_js = [\n",
       "    function(Bokeh) {\n",
       "      Bokeh.set_log_level(\"info\");\n",
       "    },\n",
       "    function(Bokeh) {\n",
       "    \n",
       "    \n",
       "    }\n",
       "  ];\n",
       "\n",
       "  function run_inline_js() {\n",
       "    \n",
       "    if (root.Bokeh !== undefined || force === true) {\n",
       "      \n",
       "    for (var i = 0; i < inline_js.length; i++) {\n",
       "      inline_js[i].call(root, root.Bokeh);\n",
       "    }\n",
       "    if (force === true) {\n",
       "        display_loaded();\n",
       "      }} else if (Date.now() < root._bokeh_timeout) {\n",
       "      setTimeout(run_inline_js, 100);\n",
       "    } else if (!root._bokeh_failed_load) {\n",
       "      console.log(\"Bokeh: BokehJS failed to load within specified timeout.\");\n",
       "      root._bokeh_failed_load = true;\n",
       "    } else if (force !== true) {\n",
       "      var cell = $(document.getElementById(\"1002\")).parents('.cell').data().cell;\n",
       "      cell.output_area.append_execute_result(NB_LOAD_WARNING)\n",
       "    }\n",
       "\n",
       "  }\n",
       "\n",
       "  if (root._bokeh_is_loading === 0) {\n",
       "    console.debug(\"Bokeh: BokehJS loaded, going straight to plotting\");\n",
       "    run_inline_js();\n",
       "  } else {\n",
       "    load_libs(css_urls, js_urls, function() {\n",
       "      console.debug(\"Bokeh: BokehJS plotting callback run at\", now());\n",
       "      run_inline_js();\n",
       "    });\n",
       "  }\n",
       "}(window));"
      ],
      "application/vnd.bokehjs_load.v0+json": "\n(function(root) {\n  function now() {\n    return new Date();\n  }\n\n  var force = true;\n\n  if (typeof root._bokeh_onload_callbacks === \"undefined\" || force === true) {\n    root._bokeh_onload_callbacks = [];\n    root._bokeh_is_loading = undefined;\n  }\n\n  \n\n  \n  if (typeof (root._bokeh_timeout) === \"undefined\" || force === true) {\n    root._bokeh_timeout = Date.now() + 5000;\n    root._bokeh_failed_load = false;\n  }\n\n  var NB_LOAD_WARNING = {'data': {'text/html':\n     \"<div style='background-color: #fdd'>\\n\"+\n     \"<p>\\n\"+\n     \"BokehJS does not appear to have successfully loaded. If loading BokehJS from CDN, this \\n\"+\n     \"may be due to a slow or bad network connection. Possible fixes:\\n\"+\n     \"</p>\\n\"+\n     \"<ul>\\n\"+\n     \"<li>re-rerun `output_notebook()` to attempt to load from CDN again, or</li>\\n\"+\n     \"<li>use INLINE resources instead, as so:</li>\\n\"+\n     \"</ul>\\n\"+\n     \"<code>\\n\"+\n     \"from bokeh.resources import INLINE\\n\"+\n     \"output_notebook(resources=INLINE)\\n\"+\n     \"</code>\\n\"+\n     \"</div>\"}};\n\n  function display_loaded() {\n    var el = document.getElementById(\"1002\");\n    if (el != null) {\n      el.textContent = \"BokehJS is loading...\";\n    }\n    if (root.Bokeh !== undefined) {\n      if (el != null) {\n        el.textContent = \"BokehJS \" + root.Bokeh.version + \" successfully loaded.\";\n      }\n    } else if (Date.now() < root._bokeh_timeout) {\n      setTimeout(display_loaded, 100)\n    }\n  }\n\n\n  function run_callbacks() {\n    try {\n      root._bokeh_onload_callbacks.forEach(function(callback) {\n        if (callback != null)\n          callback();\n      });\n    } finally {\n      delete root._bokeh_onload_callbacks\n    }\n    console.debug(\"Bokeh: all callbacks have finished\");\n  }\n\n  function load_libs(css_urls, js_urls, callback) {\n    if (css_urls == null) css_urls = [];\n    if (js_urls == null) js_urls = [];\n\n    root._bokeh_onload_callbacks.push(callback);\n    if (root._bokeh_is_loading > 0) {\n      console.debug(\"Bokeh: BokehJS is being loaded, scheduling callback at\", now());\n      return null;\n    }\n    if (js_urls == null || js_urls.length === 0) {\n      run_callbacks();\n      return null;\n    }\n    console.debug(\"Bokeh: BokehJS not loaded, scheduling load and callback at\", now());\n    root._bokeh_is_loading = css_urls.length + js_urls.length;\n\n    function on_load() {\n      root._bokeh_is_loading--;\n      if (root._bokeh_is_loading === 0) {\n        console.debug(\"Bokeh: all BokehJS libraries/stylesheets loaded\");\n        run_callbacks()\n      }\n    }\n\n    function on_error() {\n      console.error(\"failed to load \" + url);\n    }\n\n    for (var i = 0; i < css_urls.length; i++) {\n      var url = css_urls[i];\n      const element = document.createElement(\"link\");\n      element.onload = on_load;\n      element.onerror = on_error;\n      element.rel = \"stylesheet\";\n      element.type = \"text/css\";\n      element.href = url;\n      console.debug(\"Bokeh: injecting link tag for BokehJS stylesheet: \", url);\n      document.body.appendChild(element);\n    }\n\n    for (var i = 0; i < js_urls.length; i++) {\n      var url = js_urls[i];\n      var element = document.createElement('script');\n      element.onload = on_load;\n      element.onerror = on_error;\n      element.async = false;\n      element.src = url;\n      console.debug(\"Bokeh: injecting script tag for BokehJS library: \", url);\n      document.head.appendChild(element);\n    }\n  };var element = document.getElementById(\"1002\");\n  if (element == null) {\n    console.error(\"Bokeh: ERROR: autoload.js configured with elementid '1002' but no matching script tag was found. \")\n    return false;\n  }\n\n  function inject_raw_css(css) {\n    const element = document.createElement(\"style\");\n    element.appendChild(document.createTextNode(css));\n    document.body.appendChild(element);\n  }\n\n  \n  var js_urls = [\"https://cdn.pydata.org/bokeh/release/bokeh-1.4.0.min.js\", \"https://cdn.pydata.org/bokeh/release/bokeh-widgets-1.4.0.min.js\", \"https://cdn.pydata.org/bokeh/release/bokeh-tables-1.4.0.min.js\", \"https://cdn.pydata.org/bokeh/release/bokeh-gl-1.4.0.min.js\"];\n  var css_urls = [];\n  \n\n  var inline_js = [\n    function(Bokeh) {\n      Bokeh.set_log_level(\"info\");\n    },\n    function(Bokeh) {\n    \n    \n    }\n  ];\n\n  function run_inline_js() {\n    \n    if (root.Bokeh !== undefined || force === true) {\n      \n    for (var i = 0; i < inline_js.length; i++) {\n      inline_js[i].call(root, root.Bokeh);\n    }\n    if (force === true) {\n        display_loaded();\n      }} else if (Date.now() < root._bokeh_timeout) {\n      setTimeout(run_inline_js, 100);\n    } else if (!root._bokeh_failed_load) {\n      console.log(\"Bokeh: BokehJS failed to load within specified timeout.\");\n      root._bokeh_failed_load = true;\n    } else if (force !== true) {\n      var cell = $(document.getElementById(\"1002\")).parents('.cell').data().cell;\n      cell.output_area.append_execute_result(NB_LOAD_WARNING)\n    }\n\n  }\n\n  if (root._bokeh_is_loading === 0) {\n    console.debug(\"Bokeh: BokehJS loaded, going straight to plotting\");\n    run_inline_js();\n  } else {\n    load_libs(css_urls, js_urls, function() {\n      console.debug(\"Bokeh: BokehJS plotting callback run at\", now());\n      run_inline_js();\n    });\n  }\n}(window));"
     },
     "metadata": {},
     "output_type": "display_data"
    }
   ],
   "source": [
    "from hail.plot import show\n",
    "from pprint import pprint\n",
    "from bokeh.layouts import gridplot\n",
    "hl.plot.output_notebook()\n",
    "import openpyxl\n",
    "\n",
    "\n",
    "import numpy as np\n",
    "import pandas as pd\n",
    "from functools import reduce\n",
    "from itertools import chain\n",
    "\n",
    "from bokeh.plotting import output_notebook, show, figure\n",
    "from bokeh.palettes import viridis\n",
    "\n",
    "output_notebook() "
   ]
  },
  {
   "cell_type": "markdown",
   "metadata": {},
   "source": [
    "## 1. Filtering for quality "
   ]
  },
  {
   "cell_type": "code",
   "execution_count": null,
   "metadata": {},
   "outputs": [
    {
     "name": "stderr",
     "output_type": "stream",
     "text": [
      "2021-11-17 11:38:55 Hail: INFO: wrote matrix table with 19391598 rows and 124 columns in 97220 partitions to /net/scratch/people/plggosborcz/temp-mts/gts-rpmk.mt\n",
      "    Total size: 14.27 GiB\n",
      "    * Rows/entries: 14.27 GiB\n",
      "    * Columns: 570.00 B\n",
      "    * Globals: 11.00 B\n",
      "    * Smallest partition: 0 rows (20.00 B)\n",
      "    * Largest partition:  6173 rows (6.94 MiB)\n"
     ]
    }
   ],
   "source": [
    "rpmk = hl.read_table('/net/archive/groups/plggneuromol/imdik-zekanowski-gts/data/external-data/repeatmasker-extended-keyed.ht')\n",
    "cov = hl.read_table('/net/archive/groups/plggneuromol/imdik-zekanowski-gts/data/external-data/gnomad/gnomad-cov-keyed.ht')\n",
    "\n",
    "mt = hl.read_matrix_table('/net/archive/groups/plggneuromol/imdik-zekanowski-gts/data/joint-gts-only/fams-unfiltered.mt')\n",
    "mt = mt.filter_rows(hl.is_defined(rpmk[mt.locus]), keep = False)\n",
    "\n",
    "mt.checkpoint('/net/scratch/people/plggosborcz/temp-mts/gts-rpmk.mt')\n",
    "\n",
    "mt = mt.filter_rows(hl.is_defined(cov[mt.locus]), keep = True)\n",
    "mt.checkpoint('/net/scratch/people/plggosborcz/temp-mts/gts-cov.mt')\n",
    "\n",
    "mt = mt.annotate_rows(dp_qc = hl.agg.stats(mt.DP),\n",
    "                     gq_qc = hl.agg.stats(mt.GQ),\n",
    "                     hwe = hl.agg.hardy_weinberg_test(mt.GT))\n",
    "\n",
    "mt = mt.annotate_rows(n_below_dp_3 = hl.agg.count_where(mt.DP < 3),\n",
    "                      n_below_gq_30 = hl.agg.count_where(mt.GQ <30))\n",
    "\n",
    "mt.checkpoint('/net/scratch/people/plggosborcz/temp-mts/gts-qc.mt')\n",
    "\n",
    "mt = mt.filter_rows((mt.dp_qc.mean > 5) &\n",
    "                    (mt.gq_qc.mean > 50) &\n",
    "                    (mt.hwe.p_value > 0.05) &\n",
    "                    (mt.n_below_dp_3 < 3) &\n",
    "                    (mt.n_below_gq_30 < 30))\n",
    "\n",
    "mt.checkpoint('/net/archive/groups/plggneuromol/imdik-zekanowski-gts/data/joint-gts-only/gts-fams-filtered.mt')"
   ]
  },
  {
   "cell_type": "markdown",
   "metadata": {},
   "source": [
    "## 2. Split multiallelic variants and annotate with gnomad and other databases"
   ]
  },
  {
   "cell_type": "code",
   "execution_count": 8,
   "metadata": {
    "scrolled": false
   },
   "outputs": [
    {
     "name": "stderr",
     "output_type": "stream",
     "text": [
      "2021-11-18 11:51:46 Hail: INFO: wrote matrix table with 16691465 rows and 124 columns in 97220 partitions to /net/archive/groups/plggneuromol/imdik-zekanowski-gts/data/joint-gts-only/to-delete.mt\n",
      "    Total size: 12.50 GiB\n",
      "    * Rows/entries: 12.50 GiB\n",
      "    * Columns: 570.00 B\n",
      "    * Globals: 11.00 B\n",
      "    * Smallest partition: 0 rows (20.00 B)\n",
      "    * Largest partition:  2747 rows (2.41 MiB)\n"
     ]
    },
    {
     "data": {
      "text/plain": [
       "<hail.matrixtable.MatrixTable at 0x2b0da8fed7b8>"
      ]
     },
     "execution_count": 8,
     "metadata": {},
     "output_type": "execute_result"
    }
   ],
   "source": [
    "mt = hl.read_matrix_table('/net/archive/groups/plggneuromol/imdik-zekanowski-gts/data/joint-gts-only/gts-fams-filtered.mt')\n",
    "mt = mt.distinct_by_row()\n",
    "mt.checkpoint('/net/archive/groups/plggneuromol/imdik-zekanowski-gts/data/joint-gts-only/to-delete.mt')\n",
    "\n",
    "mt = hl.read_matrix_table('/net/archive/groups/plggneuromol/imdik-zekanowski-gts/data/joint-gts-only/to-delete.mt')\n",
    "\n",
    "mt = mt.key_rows_by(mt.locus, mt.alleles)\n",
    "mt = hl.split_multi_hts(mt)\n",
    "mt.write('/net/archive/groups/plggneuromol/imdik-zekanowski-gts/data/joint-gts-only/fams-split.mt')\n",
    "\n",
    "gnomad = hl.read_table('/net/archive/groups/plggneuromol/ifpan-gosborcz-ukb/raw/gnomad/gnomad.genomes.v3.1.1.sites.ht/')\n",
    "\n",
    "mt = hl.read_matrix_table('/net/archive/groups/plggneuromol/imdik-zekanowski-gts/data/joint-gts-only/fams-split.mt')\n",
    "\n",
    "mt = mt.annotate_rows(gnomad_v_3_1 = gnomad[mt.row_key])\n",
    "\n",
    "mt.write('/net/archive/groups/plggneuromol/imdik-zekanowski-gts/data/joint-gts-only/fams-gnomad.mt')\n",
    "\n",
    "genes = hl.read_table('/net/archive/groups/plggneuromol/imdik-zekanowski-gts/data/external-data/genecode_v32.ht')\n",
    "genes = genes.filter(hl.is_valid_contig(genes['hg38.knownGene.chrom'], reference_genome='GRCh38'))\n",
    "hpo = hl.import_table('/net/archive/groups/plggneuromol/imdik-zekanowski-gts/data/external-data/hpo.tsv', impute = True, no_header=True)\n",
    "\n",
    "start = genes['hg38.knownGene.txStart']\n",
    "stop =  genes['hg38.knownGene.txEnd']\n",
    "\n",
    "genes = genes.transmute(interval = \n",
    "                        hl.locus_interval(genes['hg38.knownGene.chrom'], \n",
    "                                          start,\n",
    "                                          stop,\n",
    "                                          reference_genome='GRCh38', includes_start=False))\n",
    "\n",
    "genes = genes.key_by(genes['hg38.kgXref.geneSymbol'])\n",
    "\n",
    "hpo = hpo.key_by(hpo.f0)\n",
    "\n",
    "genes = genes.annotate(hpo = hpo.index(genes['hg38.kgXref.geneSymbol'], all_matches = True)['f1'])\n",
    "genes = genes.key_by(genes.interval)\n",
    "\n",
    "mt = hl.read_matrix_table('/net/archive/groups/plggneuromol/imdik-zekanowski-gts/data/joint-gts-only/fams-gnomad.mt')\n",
    "\n",
    "mt = mt.annotate_rows(within_gene = hl.array(hl.set(genes.index(mt.locus, all_matches=True)['hg38.kgXref.geneSymbol'])))\n",
    "mt = mt.annotate_rows(hpo = hl.array(hl.set(genes.index(mt.locus, all_matches=True)['hpo'])))\n",
    "mt.write('/net/archive/groups/plggneuromol/imdik-zekanowski-gts/data/joint-gts-only/fams-anno.mt')"
   ]
  },
  {
   "cell_type": "markdown",
   "metadata": {},
   "source": [
    "## 3. Annotate with phenotypes + create a separate mt for each of the larger families"
   ]
  },
  {
   "cell_type": "code",
   "execution_count": 3,
   "metadata": {},
   "outputs": [],
   "source": [
    "mt = hl.read_matrix_table('/net/archive/groups/plggneuromol/imdik-zekanowski-gts/data/joint-gts-only/fams-anno.mt')"
   ]
  },
  {
   "cell_type": "code",
   "execution_count": 4,
   "metadata": {},
   "outputs": [
    {
     "name": "stderr",
     "output_type": "stream",
     "text": [
      "2022-01-05 10:57:35 Hail: INFO: Reading table to impute column types\n",
      "2022-01-05 10:57:38 Hail: INFO: Finished type imputation            (0 + 1) / 1]\n",
      "  Loading field 'ID' as type str (imputed)\n",
      "  Loading field 'family' as type str (imputed)\n",
      "  Loading field 'sex' as type str (imputed)\n",
      "  Loading field 'kinship' as type str (imputed)\n",
      "  Loading field 'disease' as type str (imputed)\n",
      "  Loading field 'phenotype' as type str (imputed)\n",
      "  Loading field 'add_pheno' as type str (imputed)\n",
      "  Loading field 'heavy_tics' as type str (imputed)\n",
      "  Loading field 'heavy_tics_familial' as type str (imputed)\n",
      "  Loading field 'GTS_ASD_group' as type str (imputed)\n",
      "  Loading field 'nonCTD' as type str (imputed)\n"
     ]
    }
   ],
   "source": [
    "pheno = hl.import_table('/net/archive/groups/plggneuromol/imdik-zekanowski-gts/data/pheno/GTS-coded-corrected-june-2021.csv', impute = True, key='ID', delimiter = ',', quote =\"\\\"\")"
   ]
  },
  {
   "cell_type": "code",
   "execution_count": 5,
   "metadata": {},
   "outputs": [],
   "source": [
    "mt = mt.annotate_cols(phenotypes = pheno[mt.s])"
   ]
  },
  {
   "cell_type": "markdown",
   "metadata": {},
   "source": [
    "### 3.1 get CADD"
   ]
  },
  {
   "cell_type": "code",
   "execution_count": 161,
   "metadata": {},
   "outputs": [],
   "source": [
    "cadds = []\n",
    "cadd_per_chr = !ls /net/archive/groups/plggneuromol/imdik-zekanowski-gts/data/external-data/cadd-per-chr/\n",
    "\n",
    "for f in cadd_per_chr:\n",
    "    cadd = hl.read_table('/net/archive/groups/plggneuromol/imdik-zekanowski-gts/data/external-data/cadd-per-chr/'+f)\n",
    "    cadds.append(cadd)"
   ]
  },
  {
   "cell_type": "code",
   "execution_count": 165,
   "metadata": {},
   "outputs": [
    {
     "name": "stderr",
     "output_type": "stream",
     "text": [
      "2021-11-20 14:47:16 Hail: INFO: wrote table with 8812917339 rows in 2603 partitions to /net/archive/groups/plggneuromol/imdik-zekanowski-gts/data/external-data/cadd-full.ht\n",
      "    Total size: 165.53 GiB\n",
      "    * Rows: 165.53 GiB\n",
      "    * Globals: 11.00 B\n",
      "    * Smallest partition: 198873 rows (3.75 MiB)\n",
      "    * Largest partition:  6688041 rows (110.36 MiB)\n"
     ]
    }
   ],
   "source": [
    "cadd_all = hl.Table.union(*cadds)\n",
    "cadd_all.write('/net/archive/groups/plggneuromol/imdik-zekanowski-gts/data/external-data/cadd-full.ht')"
   ]
  },
  {
   "cell_type": "markdown",
   "metadata": {},
   "source": [
    "## 4. For each of the families get intragenic variants with cadd > 10"
   ]
  },
  {
   "cell_type": "code",
   "execution_count": 6,
   "metadata": {},
   "outputs": [],
   "source": [
    "fams = list(set(mt.phenotypes.family.collect()))"
   ]
  },
  {
   "cell_type": "code",
   "execution_count": 7,
   "metadata": {},
   "outputs": [],
   "source": [
    "fams.sort()"
   ]
  },
  {
   "cell_type": "code",
   "execution_count": 8,
   "metadata": {},
   "outputs": [],
   "source": [
    "cadd = hl.read_table('/net/archive/groups/plggneuromol/imdik-zekanowski-gts/data/external-data/cadd-full.ht')"
   ]
  },
  {
   "cell_type": "code",
   "execution_count": null,
   "metadata": {
    "scrolled": true
   },
   "outputs": [
    {
     "name": "stderr",
     "output_type": "stream",
     "text": [
      "2022-01-04 11:28:16 Hail: INFO: wrote matrix table with 106628 rows and 7 columns in 50 partitions to /net/archive/groups/plggneuromol/imdik-zekanowski-gts/data/joint-gts-only/fam-filteredA.mt\n",
      "    Total size: 744.59 MiB\n",
      "    * Rows/entries: 744.59 MiB\n",
      "    * Columns: 166.00 B\n",
      "    * Globals: 11.00 B\n",
      "    * Smallest partition: 64 rows (207.89 KiB)\n",
      "    * Largest partition:  2906 rows (20.44 MiB)\n",
      "2022-01-04 11:57:04 Hail: INFO: wrote matrix table with 113819 rows and 8 columns in 50 partitions to /net/archive/groups/plggneuromol/imdik-zekanowski-gts/data/joint-gts-only/fam-filteredB.mt\n",
      "    Total size: 791.62 MiB\n",
      "    * Rows/entries: 791.62 MiB\n",
      "    * Columns: 206.00 B\n",
      "    * Globals: 11.00 B\n",
      "    * Smallest partition: 88 rows (241.57 KiB)\n",
      "    * Largest partition:  3231 rows (22.41 MiB)\n",
      "2022-01-04 12:22:29 Hail: INFO: wrote matrix table with 116218 rows and 9 columns in 50 partitions to /net/archive/groups/plggneuromol/imdik-zekanowski-gts/data/joint-gts-only/fam-filteredC.mt\n",
      "    Total size: 798.40 MiB\n",
      "    * Rows/entries: 798.40 MiB\n",
      "    * Columns: 183.00 B\n",
      "    * Globals: 11.00 B\n",
      "    * Smallest partition: 88 rows (271.01 KiB)\n",
      "    * Largest partition:  3124 rows (21.62 MiB)\n",
      "2022-01-04 12:43:03 Hail: INFO: wrote matrix table with 108968 rows and 7 columns in 50 partitions to /net/archive/groups/plggneuromol/imdik-zekanowski-gts/data/joint-gts-only/fam-filteredD.mt\n",
      "    Total size: 765.10 MiB\n",
      "    * Rows/entries: 765.10 MiB\n",
      "    * Columns: 183.00 B\n",
      "    * Globals: 11.00 B\n",
      "    * Smallest partition: 54 rows (214.80 KiB)\n",
      "    * Largest partition:  3119 rows (21.85 MiB)\n",
      "2022-01-04 13:03:29 Hail: INFO: wrote matrix table with 101960 rows and 7 columns in 50 partitions to /net/archive/groups/plggneuromol/imdik-zekanowski-gts/data/joint-gts-only/fam-filteredE.mt\n",
      "    Total size: 715.06 MiB\n",
      "    * Rows/entries: 715.06 MiB\n",
      "    * Columns: 156.00 B\n",
      "    * Globals: 11.00 B\n",
      "    * Smallest partition: 68 rows (191.25 KiB)\n",
      "    * Largest partition:  3030 rows (21.30 MiB)\n",
      "2022-01-04 13:29:01 Hail: INFO: wrote matrix table with 120694 rows and 11 columns in 50 partitions to /net/archive/groups/plggneuromol/imdik-zekanowski-gts/data/joint-gts-only/fam-filteredF.mt\n",
      "    Total size: 829.30 MiB\n",
      "    * Rows/entries: 829.30 MiB\n",
      "    * Columns: 205.00 B\n",
      "    * Globals: 11.00 B\n",
      "    * Smallest partition: 111 rows (217.15 KiB)\n",
      "    * Largest partition:  3338 rows (22.77 MiB)\n",
      "2022-01-04 13:55:41 Hail: INFO: wrote matrix table with 93060 rows and 4 columns in 50 partitions to /net/archive/groups/plggneuromol/imdik-zekanowski-gts/data/joint-gts-only/fam-filteredG.mt\n",
      "    Total size: 658.00 MiB\n",
      "    * Rows/entries: 658.00 MiB\n",
      "    * Columns: 120.00 B\n",
      "    * Globals: 11.00 B\n",
      "    * Smallest partition: 35 rows (181.32 KiB)\n",
      "    * Largest partition:  2616 rows (18.22 MiB)\n",
      "2022-01-04 14:18:14 Hail: INFO: wrote matrix table with 105758 rows and 6 columns in 50 partitions to /net/archive/groups/plggneuromol/imdik-zekanowski-gts/data/joint-gts-only/fam-filteredH.mt\n",
      "    Total size: 745.14 MiB\n",
      "    * Rows/entries: 745.14 MiB\n",
      "    * Columns: 161.00 B\n",
      "    * Globals: 11.00 B\n",
      "    * Smallest partition: 66 rows (223.15 KiB)\n",
      "    * Largest partition:  2912 rows (20.73 MiB)\n",
      "2022-01-04 14:39:56 Hail: INFO: wrote matrix table with 104716 rows and 6 columns in 50 partitions to /net/archive/groups/plggneuromol/imdik-zekanowski-gts/data/joint-gts-only/fam-filteredI.mt\n",
      "    Total size: 736.07 MiB\n",
      "    * Rows/entries: 736.07 MiB\n",
      "    * Columns: 154.00 B\n",
      "    * Globals: 11.00 B\n",
      "    * Smallest partition: 67 rows (242.24 KiB)\n",
      "    * Largest partition:  3008 rows (21.18 MiB)\n",
      "[Stage 21:>                                                       (0 + 12) / 50]\r"
     ]
    }
   ],
   "source": [
    "for f in fams:\n",
    "    fam = mt.filter_cols(mt.phenotypes.family == f)\n",
    "    fam = fam.filter_rows(hl.agg.any(fam.GT.is_non_ref()))\n",
    "    fam = fam.naive_coalesce(50)\n",
    "    fam = fam.filter_rows(fam.within_gene == hl.empty_array(hl.tstr), keep = False)\n",
    "    fam = fam.annotate_rows(cadd = cadd[fam.row_key])\n",
    "    fam = fam.filter_rows(fam.cadd.cadd_score > 10)\n",
    "\n",
    "    fam.write('/net/archive/groups/plggneuromol/imdik-zekanowski-gts/data/joint-gts-only/fam-filtered'+f+'.mt')"
   ]
  },
  {
   "cell_type": "markdown",
   "metadata": {},
   "source": [
    "### Additional annotation with vep:"
   ]
  },
  {
   "cell_type": "code",
   "execution_count": 8,
   "metadata": {},
   "outputs": [],
   "source": [
    "vep = hl.read_table('/net/archive/groups/plggneuromol/imdik-zekanowski-sportwgs/data/external-data/vep38/grch38_context_vep_annotated.ht')"
   ]
  },
  {
   "cell_type": "code",
   "execution_count": null,
   "metadata": {
    "scrolled": true
   },
   "outputs": [
    {
     "name": "stderr",
     "output_type": "stream",
     "text": [
      "2022-01-05 11:42:34 Hail: INFO: wrote matrix table with 101960 rows and 7 columns in 50 partitions to /net/archive/groups/plggneuromol/imdik-zekanowski-gts/data/joint-gts-only/fam-vepE.mt\n",
      "2022-01-05 12:26:32 Hail: INFO: wrote matrix table with 120694 rows and 11 columns in 50 partitions to /net/archive/groups/plggneuromol/imdik-zekanowski-gts/data/joint-gts-only/fam-vepF.mt\n",
      "2022-01-05 13:13:40 Hail: INFO: wrote matrix table with 93060 rows and 4 columns in 50 partitions to /net/archive/groups/plggneuromol/imdik-zekanowski-gts/data/joint-gts-only/fam-vepG.mt\n",
      "2022-01-05 13:58:46 Hail: INFO: wrote matrix table with 105758 rows and 6 columns in 50 partitions to /net/archive/groups/plggneuromol/imdik-zekanowski-gts/data/joint-gts-only/fam-vepH.mt\n",
      "2022-01-05 14:45:45 Hail: INFO: wrote matrix table with 104716 rows and 6 columns in 50 partitions to /net/archive/groups/plggneuromol/imdik-zekanowski-gts/data/joint-gts-only/fam-vepI.mt\n",
      "2022-01-05 15:32:22 Hail: INFO: wrote matrix table with 99767 rows and 5 columns in 50 partitions to /net/archive/groups/plggneuromol/imdik-zekanowski-gts/data/joint-gts-only/fam-vepJ.mt\n",
      "2022-01-05 16:18:43 Hail: INFO: wrote matrix table with 100044 rows and 6 columns in 50 partitions to /net/archive/groups/plggneuromol/imdik-zekanowski-gts/data/joint-gts-only/fam-vepR.mt\n",
      "2022-01-05 17:02:25 Hail: INFO: wrote matrix table with 98387 rows and 6 columns in 50 partitions to /net/archive/groups/plggneuromol/imdik-zekanowski-gts/data/joint-gts-only/fam-vepS.mt\n",
      "[Stage 10:====================================================>   (47 + 3) / 50]\r"
     ]
    }
   ],
   "source": [
    "for f in fams:\n",
    "    fam = hl.read_matrix_table('/net/archive/groups/plggneuromol/imdik-zekanowski-gts/data/joint-gts-only/fam-filtered'+f+'.mt')\n",
    "    fam = fam.annotate_rows(vep = vep[fam.row_key])\n",
    "    fam.write('/net/archive/groups/plggneuromol/imdik-zekanowski-gts/data/joint-gts-only/fam-vep'+f+'.mt')"
   ]
  },
  {
   "cell_type": "markdown",
   "metadata": {},
   "source": [
    "## 5. For each of the families find pathogenic variants \n",
    "\n",
    "* first in all of the genes (maf < 0.001 or not in Gnomad)\n",
    "* then in selected genes (maf < 0.05 or not in Gnomad)"
   ]
  },
  {
   "cell_type": "code",
   "execution_count": 3,
   "metadata": {},
   "outputs": [],
   "source": [
    "fams = ['A', 'B', 'C','D', 'E', 'F', 'G', 'H', 'I', 'J', 'R', 'S', 'T', 'U', 'W', 'X', 'Y']\n",
    "fams_all_genes = ['A_all_genes', 'B_all_genes', 'C_all_genes','D_all_genes',\n",
    "                  'E_all_genes', 'F_all_genes', 'G_all_genes', 'H_all_genes',\n",
    "                  'I_all_genes', 'J_all_genes', 'R_all_genes', 'S_all_genes',\n",
    "                  'T_all_genes', 'U_all_genes', 'W_all_genes', 'X_all_genes', 'Y_all_genes']\n",
    "fams_selected_genes = ['A_selected_genes', 'B_selected_genes', 'C_selected_genes','D_selected_genes',\n",
    "                  'E_selected_genes', 'F_selected_genes', 'G_selected_genes', 'H_selected_genes',\n",
    "                  'I_selected_genes', 'J_selected_genes', 'R_selected_genes', 'S_selected_genes',\n",
    "                  'T_selected_genes', 'U_selected_genes', 'W_selected_genes', 'X_selected_genes', 'Y_selected_genes']\n",
    "fams_description = ['A_description', 'B_description', 'C_description','D_description',\n",
    "                  'E_description', 'F_description', 'G_description', 'H_description',\n",
    "                  'I_description', 'J_description', 'R_description', 'S_description',\n",
    "                  'T_description', 'U_description', 'W_description', 'X_description', 'Y_description']\n",
    "\n",
    "fams1 = []\n",
    "fams2 = []\n",
    "fams_to_export_all = []\n",
    "fams_to_export_selected = []\n",
    "descriptions_to_export = []"
   ]
  },
  {
   "cell_type": "code",
   "execution_count": 3,
   "metadata": {},
   "outputs": [],
   "source": [
    "genes = pd.read_csv('/net/archive/groups/plggneuromol/imdik-zekanowski-gts/data/external-data/burden-and-family/all-genes-burde-and-family.csv', names=['gene'])"
   ]
  },
  {
   "cell_type": "code",
   "execution_count": 4,
   "metadata": {},
   "outputs": [],
   "source": [
    "all_genes = set(genes.gene)\n",
    "all_genes = list({x.replace('\\xa0\\xa0\\xa0', '') for x in all_genes})"
   ]
  },
  {
   "cell_type": "code",
   "execution_count": 6,
   "metadata": {
    "scrolled": false
   },
   "outputs": [
    {
     "name": "stderr",
     "output_type": "stream",
     "text": [
      "[Stage 67:========================================>              (37 + 12) / 50]\r"
     ]
    }
   ],
   "source": [
    "genes_fams1 = []\n",
    "genes_fams2 = []\n",
    "\n",
    "for f in fams:\n",
    "    \n",
    "    fam = hl.read_matrix_table('/net/archive/groups/plggneuromol/imdik-zekanowski-gts/data/joint-gts-only/fam-vep'+f+'.mt')\n",
    "    ctrl = fam.aggregate_cols(hl.agg.counter(fam.phenotypes.disease))['NO']\n",
    "    gts = fam.aggregate_cols(hl.agg.counter(fam.phenotypes.disease))['YES']\n",
    "\n",
    "    fam = fam.annotate_rows(segregation = hl.agg.group_by(fam.phenotypes.disease, hl.agg.count_where(fam.GT.is_non_ref())))\n",
    "    fam = fam.filter_rows(((fam.segregation.get('NO', 0))/ctrl < 0.33) & ((fam.segregation.get('YES', 0))/gts > 0.66))\n",
    "    \n",
    "    fam = fam.filter_rows(hl.is_snp(fam.alleles[0], fam.alleles[1]))\n",
    "    \n",
    "    fam1 = fam.filter_rows(hl.if_else(hl.is_defined(fam.gnomad_v_3_1.freq.AF[2]), fam.gnomad_v_3_1.freq.AF[2] < 0.001, True))\n",
    "    genes_fams1.append(fam1.within_gene.collect())\n",
    "    fams1.append(fam1)\n",
    "    \n",
    "    fam2 = fam.filter_rows((hl.any(lambda x: hl.literal(all_genes).contains(x), fam.within_gene)))\n",
    "    fam2 = fam2.filter_rows(hl.if_else(hl.is_defined(fam2.gnomad_v_3_1.freq.AF[2]), fam2.gnomad_v_3_1.freq.AF[2] < 0.05, True))\n",
    "    genes_fams2.append(fam2.within_gene.collect())\n",
    "    fams2.append(fam2)"
   ]
  },
  {
   "cell_type": "code",
   "execution_count": 7,
   "metadata": {},
   "outputs": [],
   "source": [
    "for idx, gene_list in enumerate(genes_fams1):\n",
    "    gene_list = [item for sublist in gene_list for item in sublist] # first flatten the gene list in each family\n",
    "    genes_fams1[idx] = list(set(gene_list))"
   ]
  },
  {
   "cell_type": "code",
   "execution_count": 8,
   "metadata": {},
   "outputs": [],
   "source": [
    "genes_fams1 = [item for sublist in genes_fams1 for item in sublist]"
   ]
  },
  {
   "cell_type": "code",
   "execution_count": 9,
   "metadata": {},
   "outputs": [],
   "source": [
    "seen = set()\n",
    "dupes_1 = [x for x in genes_fams1 if x in seen or seen.add(x)]    "
   ]
  },
  {
   "cell_type": "code",
   "execution_count": 10,
   "metadata": {},
   "outputs": [
    {
     "data": {
      "text/plain": [
       "393"
      ]
     },
     "execution_count": 10,
     "metadata": {},
     "output_type": "execute_result"
    }
   ],
   "source": [
    "len(set(dupes_1))"
   ]
  },
  {
   "cell_type": "code",
   "execution_count": 11,
   "metadata": {},
   "outputs": [],
   "source": [
    "# optional - export only genes with multiple variants:\n",
    "\n",
    "for idx, fam in enumerate(fams1):\n",
    "    fam = fam.filter_rows((hl.any(lambda x: hl.literal(dupes_1).contains(x), fam.within_gene)))\n",
    "    fams1[idx] = fam"
   ]
  },
  {
   "cell_type": "code",
   "execution_count": 12,
   "metadata": {},
   "outputs": [],
   "source": [
    "for idx, gene_list in enumerate(genes_fams2):\n",
    "    gene_list = [item for sublist in gene_list for item in sublist] # first flatten the gene list in each family\n",
    "    genes_fams2[idx] = list(set(gene_list))"
   ]
  },
  {
   "cell_type": "code",
   "execution_count": 13,
   "metadata": {},
   "outputs": [],
   "source": [
    "genes_fams2 = [item for sublist in genes_fams2 for item in sublist]"
   ]
  },
  {
   "cell_type": "code",
   "execution_count": 14,
   "metadata": {},
   "outputs": [
    {
     "data": {
      "text/plain": [
       "446"
      ]
     },
     "execution_count": 14,
     "metadata": {},
     "output_type": "execute_result"
    }
   ],
   "source": [
    "len(set(genes_fams2))"
   ]
  },
  {
   "cell_type": "code",
   "execution_count": 15,
   "metadata": {},
   "outputs": [],
   "source": [
    "seen = set()\n",
    "dupes_2 = [x for x in genes_fams2 if x in seen or seen.add(x)]    "
   ]
  },
  {
   "cell_type": "code",
   "execution_count": 16,
   "metadata": {},
   "outputs": [
    {
     "data": {
      "text/plain": [
       "172"
      ]
     },
     "execution_count": 16,
     "metadata": {},
     "output_type": "execute_result"
    }
   ],
   "source": [
    "len(set(dupes_2))"
   ]
  },
  {
   "cell_type": "code",
   "execution_count": 17,
   "metadata": {},
   "outputs": [],
   "source": [
    "for idx, fam in enumerate(fams2):\n",
    "    fam = fam.filter_rows((hl.any(lambda x: hl.literal(dupes_2).contains(x), fam.within_gene)))\n",
    "    fams2[idx] = fam"
   ]
  },
  {
   "cell_type": "code",
   "execution_count": 18,
   "metadata": {},
   "outputs": [
    {
     "name": "stderr",
     "output_type": "stream",
     "text": [
      "2022-01-12 18:56:21 Hail: WARN: cols(): Resulting column table is sorted by 'col_key'.\n",
      "    To preserve matrix table column order, first unkey columns with 'key_cols_by()'\n",
      "[Stage 152:===================================================>   (47 + 3) / 50]\r"
     ]
    }
   ],
   "source": [
    "for fam in fams1:\n",
    "    fam = fam.drop(fam['a_index'], fam['was_split'])\n",
    "    fam = fam.transmute_rows(DP_stats = fam.dp_qc,\n",
    "                             GQ_stats =fam.gq_qc, \n",
    "                             gnomad_v3_nfe_af = fam.gnomad_v_3_1.freq.AF[2],\n",
    "                             gnomad_v3_nfe_homozygote_count = fam.gnomad_v_3_1.freq.homozygote_count[2],\n",
    "                             cadd = fam.cadd.cadd_score,\n",
    "                             within_gene = fam.within_gene,\n",
    "                             hpo = fam.hpo,\n",
    "                             non_refs_healthy = fam.segregation.get('NO', 0),\n",
    "                             non_refs_gts = fam.segregation.get('YES', 0),\n",
    "                             most_severe_consequence = fam.vep.vep.most_severe_consequence,\n",
    "                             transcript_consequences = fam.vep.vep.transcript_consequences,\n",
    "                             intergenic_consequences = fam.vep.vep.intergenic_consequences,\n",
    "                             motif_feature_consequences = fam.vep.vep.motif_feature_consequences,\n",
    "                             regulatory_feature_consequences = fam.vep.vep.regulatory_feature_consequences)\n",
    "\n",
    "    fam = fam.select_entries(fam.GT)\n",
    "    fams_to_export_all.append(fam.make_table().to_pandas())\n",
    "    descriptions_to_export.append(fam.cols().to_pandas())\n",
    "\n",
    "for idx, f in enumerate(fams_to_export_all):\n",
    "    fams_to_export_all[idx] = f[f.columns.drop(list(f.filter(regex='.phased')))]\n",
    "    \n",
    "    \n",
    "\n",
    "for fam in fams2:\n",
    "    fam = fam.drop(fam['a_index'], fam['was_split'])\n",
    "    fam = fam.transmute_rows(DP_stats = fam.dp_qc,\n",
    "                             GQ_stats =fam.gq_qc, \n",
    "                             gnomad_v3_nfe_af = fam.gnomad_v_3_1.freq.AF[2],\n",
    "                             gnomad_v3_nfe_homozygote_count = fam.gnomad_v_3_1.freq.homozygote_count[2],\n",
    "                             cadd = fam.cadd.cadd_score,\n",
    "                             within_gene = fam.within_gene,\n",
    "                             hpo = fam.hpo,\n",
    "                             non_refs_healthy = fam.segregation.get('NO', 0),\n",
    "                             non_refs_gts = fam.segregation.get('YES', 0),\n",
    "                             most_severe_consequence = fam.vep.vep.most_severe_consequence,\n",
    "                             transcript_consequences = fam.vep.vep.transcript_consequences,\n",
    "                             intergenic_consequences = fam.vep.vep.intergenic_consequences,\n",
    "                             motif_feature_consequences = fam.vep.vep.motif_feature_consequences,\n",
    "                             regulatory_feature_consequences = fam.vep.vep.regulatory_feature_consequences)\n",
    "    \n",
    "    fam = fam.select_entries(fam.GT)\n",
    "    fams_to_export_selected.append(fam.make_table().to_pandas())\n",
    "\n",
    "for idx, f in enumerate(fams_to_export_selected):\n",
    "    fams_to_export_selected[idx] = f[f.columns.drop(list(f.filter(regex='.phased')))]"
   ]
  },
  {
   "cell_type": "code",
   "execution_count": 252,
   "metadata": {},
   "outputs": [],
   "source": [
    "list_of_tables = [fams_to_export_all, fams_to_export_selected, descriptions_to_export]\n",
    "concatenated_list = [val for tup in zip(*list_of_tables) for val in tup]\n",
    "\n",
    "sheet_names = [fams_all_genes, fams_selected_genes, fams_description]\n",
    "concatenated_list_sheets = [val for tup in zip(*sheet_names) for val in tup]\n",
    "\n",
    "with pd.ExcelWriter('/net/archive/groups/plggneuromol/imdik-zekanowski-gts/results/burden-and-family/families-11-2021-duplicate-genes.xlsx') as writer:\n",
    "    for idx, res in enumerate(concatenated_list):\n",
    "        res.to_excel(writer, sheet_name=str(concatenated_list_sheets[idx]), header=True, index=False)"
   ]
  },
  {
   "cell_type": "code",
   "execution_count": 43,
   "metadata": {},
   "outputs": [],
   "source": [
    "loci_all = []\n",
    "loci_selected = []\n",
    "\n",
    "for f in fams_to_export_all:\n",
    "    loci_all.append(list(f['locus.contig']+':'+f['locus.position'].astype(str)))\n",
    "    f['locus'] = f['locus.contig']+':'+f['locus.position'].astype(str)\n",
    "    \n",
    "for f in fams_to_export_selected:\n",
    "    loci_selected.append(list(f['locus.contig']+':'+f['locus.position'].astype(str)))\n",
    "    f['locus'] = f['locus.contig']+':'+f['locus.position'].astype(str)\n",
    "\n",
    "loci_all = [item for sublist in loci_all for item in sublist]\n",
    "loci_selected = [item for sublist in loci_selected for item in sublist]\n",
    "\n",
    "seen = set()\n",
    "dupes_loci_all = [x for x in loci_all if x in seen or seen.add(x)]    \n",
    "\n",
    "seen = set()\n",
    "dupes_loci_selected = [x for x in loci_all if x in seen or seen.add(x)]    "
   ]
  },
  {
   "cell_type": "code",
   "execution_count": 48,
   "metadata": {},
   "outputs": [],
   "source": [
    "fams_to_export_all_filtered = []\n",
    "\n",
    "for f in fams_to_export_all:\n",
    "    f_filtered = f[f.locus.isin(dupes_loci_all)]\n",
    "    fams_to_export_all_filtered.append(f_filtered)\n",
    "    \n",
    "fams_to_export_selected_filtered = []\n",
    "\n",
    "for f in fams_to_export_selected:\n",
    "    f_filtered = f[f.locus.isin(dupes_loci_selected)]\n",
    "    fams_to_export_selected_filtered.append(f_filtered)"
   ]
  },
  {
   "cell_type": "code",
   "execution_count": 49,
   "metadata": {},
   "outputs": [],
   "source": [
    "list_of_tables = [fams_to_export_all_filtered, fams_to_export_selected_filtered, descriptions_to_export]\n",
    "concatenated_list = [val for tup in zip(*list_of_tables) for val in tup]\n",
    "\n",
    "sheet_names = [fams_all_genes, fams_selected_genes, fams_description]\n",
    "concatenated_list_sheets = [val for tup in zip(*sheet_names) for val in tup]\n",
    "\n",
    "with pd.ExcelWriter('/net/archive/groups/plggneuromol/imdik-zekanowski-gts/results/burden-and-family/families-11-2021-duplicated-variants.xlsx') as writer:\n",
    "    for idx, res in enumerate(concatenated_list):\n",
    "        res.to_excel(writer, sheet_name=str(concatenated_list_sheets[idx]), header=True, index=False)"
   ]
  },
  {
   "cell_type": "markdown",
   "metadata": {},
   "source": [
    "## 6. For each of the larger families find pathogenic variants according to the schema by KF"
   ]
  },
  {
   "cell_type": "code",
   "execution_count": 5,
   "metadata": {},
   "outputs": [
    {
     "name": "stderr",
     "output_type": "stream",
     "text": [
      "2022-02-02 10:25:24 Hail: WARN: Name collision: field 'sample' already in object dict. \n",
      "  This field must be referenced with __getitem__ syntax: obj['sample']\n",
      "2022-02-02 10:25:24 Hail: INFO: Reading table to impute column types\n",
      "2022-02-02 10:25:28 Hail: INFO: Finished type imputation\n",
      "  Loading field 'sample' as type str (imputed)\n",
      "  Loading field 'family' as type str (imputed)\n",
      "  Loading field 'mutation_option_1' as type str (imputed)\n",
      "  Loading field 'mutation_option_2' as type str (imputed)\n"
     ]
    }
   ],
   "source": [
    "schema = hl.import_table('/net/archive/groups/plggneuromol/imdik-zekanowski-gts/data/external-data/burden-and-family/familiespattern.csv', impute = True, key='sample', delimiter = '\\;', quote =\"\\\"\")"
   ]
  },
  {
   "cell_type": "code",
   "execution_count": 6,
   "metadata": {},
   "outputs": [],
   "source": [
    "#fams = ['A', 'B', 'C','D', 'E', 'F', 'G', 'H', 'H2', 'I', 'J', 'R', 'S', 'T', 'T2', 'U', 'W', 'X', 'Y']  # I duplicated H and T tables in their folder\n",
    "fams = ['A', 'B', 'C','D', 'E', 'F', 'G', 'H', 'I', 'J', 'R', 'S', 'T', 'U', 'W', 'X', 'Y'] \n",
    "#fams_all_genes = ['A_all_genes', 'B_all_genes', 'C_all_genes','D_all_genes',\n",
    "#                  'E_all_genes', 'F_all_genes', 'G_all_genes', 'H1_all_genes', 'H2_all_genes',\n",
    "#                  'I_all_genes', 'J_all_genes', 'R_all_genes', 'S_all_genes',\n",
    "#                  'T1_all_genes', 'T2_all_genes', 'U_all_genes', 'W_all_genes', 'X_all_genes', 'Y_all_genes']\n",
    "fams_all_genes = ['A_all_genes', 'B_all_genes', 'C_all_genes','D_all_genes',\n",
    "                  'E_all_genes', 'F_all_genes', 'G_all_genes', 'H1_all_genes',\n",
    "                  'I_all_genes', 'J_all_genes', 'R_all_genes', 'S_all_genes',\n",
    "                  'T1_all_genes', 'U_all_genes', 'W_all_genes', 'X_all_genes', 'Y_all_genes']\n",
    "#fams_selected_genes = ['A_selected_genes', 'B_selected_genes', 'C_selected_genes','D_selected_genes',\n",
    "#                  'E_selected_genes', 'F_selected_genes', 'G_selected_genes', 'H1_selected_genes', 'H2_selected_genes',\n",
    "#                  'I_selected_genes', 'J_selected_genes', 'R_selected_genes', 'S_selected_genes',\n",
    "#                  'T1_selected_genes', 'T2_selected_genes', 'U_selected_genes', 'W_selected_genes', 'X_selected_genes', 'Y_selected_genes']\n",
    "fams_selected_genes = ['A_selected_genes', 'B_selected_genes', 'C_selected_genes','D_selected_genes',\n",
    "                  'E_selected_genes', 'F_selected_genes', 'G_selected_genes', 'H1_selected_genes',\n",
    "                  'I_selected_genes', 'J_selected_genes', 'R_selected_genes', 'S_selected_genes',\n",
    "                  'T1_selected_genes', 'U_selected_genes', 'W_selected_genes', 'X_selected_genes', 'Y_selected_genes']\n",
    "\n",
    "#fams_description = ['A_description', 'B_description', 'C_description','D_description',\n",
    "#                  'E_description', 'F_description', 'G_description', 'H1_description', 'H2_description',\n",
    "#                  'I_description', 'J_description', 'R_description', 'S_description',\n",
    "#                  'T1_description', 'T2_description', 'U_description', 'W_description', 'X_description', 'Y_description']\n",
    "\n",
    "fams_description = ['A_description', 'B_description', 'C_description','D_description',\n",
    "                  'E_description', 'F_description', 'G_description', 'H1_description',\n",
    "                  'I_description', 'J_description', 'R_description', 'S_description',\n",
    "                  'T1_description', 'U_description', 'W_description', 'X_description', 'Y_description']\n",
    "\n",
    "\n",
    "fams1 = []\n",
    "fams2 = []\n",
    "fams_to_export_all = []\n",
    "fams_to_export_selected = []\n",
    "descriptions_to_export = []"
   ]
  },
  {
   "cell_type": "code",
   "execution_count": 7,
   "metadata": {
    "scrolled": true
   },
   "outputs": [
    {
     "name": "stderr",
     "output_type": "stream",
     "text": [
      "[Stage 102:=================================>                    (31 + 12) / 50]\r"
     ]
    }
   ],
   "source": [
    "genes_fams1 = []\n",
    "genes_fams2 = []\n",
    "\n",
    "for f in fams:\n",
    "\n",
    "    fam = hl.read_matrix_table('/net/archive/groups/plggneuromol/imdik-zekanowski-gts/data/joint-gts-only/fam-vep'+f+'.mt')\n",
    "    fam = fam.annotate_cols(schema = schema[fam.s])\n",
    "    fam = fam.annotate_rows(segregation = hl.agg.group_by(fam.schema.mutation_option_1, hl.agg.count_where(fam.GT.is_non_ref())))\n",
    "    with_mutation = fam.aggregate_cols((hl.agg.counter(fam.schema.mutation_option_1))['YES'])\n",
    "    fam = fam.filter_rows((fam.segregation.get('NO', 0) == 0) & (fam.segregation.get('YES', 0) == with_mutation))\n",
    "    \n",
    "    fam = fam.filter_rows(hl.is_snp(fam.alleles[0], fam.alleles[1]))\n",
    "    \n",
    "    fam1 = fam.filter_rows(hl.if_else(hl.is_defined(fam.gnomad_v_3_1.freq.AF[2]), fam.gnomad_v_3_1.freq.AF[2] < 0.001, True))\n",
    "\n",
    "    genes_fams1.append(fam1.within_gene.collect())\n",
    "    fams1.append(fam1)\n",
    "    \n",
    "    fam2 = fam.filter_rows((hl.any(lambda x: hl.literal(all_genes).contains(x), fam.within_gene)))\n",
    "    fam2 = fam2.filter_rows(hl.if_else(hl.is_defined(fam2.gnomad_v_3_1.freq.AF[2]), fam2.gnomad_v_3_1.freq.AF[2] < 0.05, True))\n",
    "    genes_fams2.append(fam2.within_gene.collect())\n",
    "    fams2.append(fam2)"
   ]
  },
  {
   "cell_type": "code",
   "execution_count": 9,
   "metadata": {},
   "outputs": [
    {
     "name": "stderr",
     "output_type": "stream",
     "text": [
      "[Stage 126:===========================================>          (40 + 10) / 50]\r"
     ]
    }
   ],
   "source": [
    "#add H2 and T2 option:\n",
    "\n",
    "#fam = hl.read_matrix_table('/net/archive/groups/plggneuromol/imdik-zekanowski-gts/data/joint-gts-only/fam-vep'+fams[8]+'.mt')\n",
    "#fam = fam.annotate_cols(schema = schema[fam.s])\n",
    "#fam = fam.annotate_rows(segregation = hl.agg.group_by(fam.schema.mutation_option_2, hl.agg.count_where(fam.GT.is_non_ref())))\n",
    "#with_mutation = fam.aggregate_cols((hl.agg.counter(fam.schema.mutation_option_2))['YES'])\n",
    "#fam = fam.filter_rows((fam.segregation.get('NO', 0) == 0) & (fam.segregation.get('YES', 0) == with_mutation))\n",
    "    \n",
    "#fam = fam.filter_rows(hl.is_snp(fam.alleles[0], fam.alleles[1]))\n",
    "    \n",
    "#fam1 = fam.filter_rows(hl.if_else(hl.is_defined(fam.gnomad_v_3_1.freq.AF[2]), fam.gnomad_v_3_1.freq.AF[2] < 0.001, True))\n",
    "\n",
    "#fams1[8] = fam1\n",
    "#genes_fams1.append(fam1.within_gene.collect())\n",
    "    \n",
    "#fam2 = fam.filter_rows((hl.any(lambda x: hl.literal(all_genes).contains(x), fam.within_gene)))\n",
    "#fam2 = fam2.filter_rows(hl.if_else(hl.is_defined(fam2.gnomad_v_3_1.freq.AF[2]), fam2.gnomad_v_3_1.freq.AF[2] < 0.05, True))\n",
    "#fams2[8] = fam2\n",
    "#genes_fams2.append(fam2.within_gene.collect())\n",
    "\n",
    "#fam = hl.read_matrix_table('/net/archive/groups/plggneuromol/imdik-zekanowski-gts/data/joint-gts-only/fam-vep'+fams[14]+'.mt')\n",
    "#fam = fam.annotate_cols(schema = schema[fam.s])\n",
    "#fam = fam.annotate_rows(segregation = hl.agg.group_by(fam.schema.mutation_option_2, hl.agg.count_where(fam.GT.is_non_ref())))\n",
    "#with_mutation = fam.aggregate_cols((hl.agg.counter(fam.schema.mutation_option_2))['YES'])\n",
    "#fam = fam.filter_rows((fam.segregation.get('NO', 0) == 0) & (fam.segregation.get('YES', 0) == with_mutation))\n",
    "    \n",
    "#fam = fam.filter_rows(hl.is_snp(fam.alleles[0], fam.alleles[1]))\n",
    "    \n",
    "#fam1 = fam.filter_rows(hl.if_else(hl.is_defined(fam.gnomad_v_3_1.freq.AF[2]), fam.gnomad_v_3_1.freq.AF[2] < 0.001, True))\n",
    "#fams1[14] = fam1\n",
    "#genes_fams1.append(fam1.within_gene.collect())\n",
    "    \n",
    "#fam2 = fam.filter_rows((hl.any(lambda x: hl.literal(all_genes).contains(x), fam.within_gene)))\n",
    "#fam2 = fam2.filter_rows(hl.if_else(hl.is_defined(fam2.gnomad_v_3_1.freq.AF[2]), fam2.gnomad_v_3_1.freq.AF[2] < 0.05, True))\n",
    "#fams2[14] = fam2\n",
    "#genes_fams2.append(fam2.within_gene.collect())"
   ]
  },
  {
   "cell_type": "code",
   "execution_count": 8,
   "metadata": {},
   "outputs": [],
   "source": [
    "for idx, gene_list in enumerate(genes_fams1):\n",
    "    gene_list = [item for sublist in gene_list for item in sublist] # first flatten the gene list in each family\n",
    "    genes_fams1[idx] = list(set(gene_list))"
   ]
  },
  {
   "cell_type": "code",
   "execution_count": 9,
   "metadata": {},
   "outputs": [],
   "source": [
    "genes_fams1 = [item for sublist in genes_fams1 for item in sublist]"
   ]
  },
  {
   "cell_type": "code",
   "execution_count": 10,
   "metadata": {},
   "outputs": [],
   "source": [
    "seen = set()\n",
    "dupes_1 = [x for x in genes_fams1 if x in seen or seen.add(x)]    "
   ]
  },
  {
   "cell_type": "code",
   "execution_count": 11,
   "metadata": {},
   "outputs": [
    {
     "data": {
      "text/plain": [
       "113"
      ]
     },
     "execution_count": 11,
     "metadata": {},
     "output_type": "execute_result"
    }
   ],
   "source": [
    "len(set(dupes_1))"
   ]
  },
  {
   "cell_type": "code",
   "execution_count": 12,
   "metadata": {},
   "outputs": [],
   "source": [
    "# export only genes with multiple variants:\n",
    "for idx, fam in enumerate(fams1):\n",
    "    fam = fam.filter_rows((hl.any(lambda x: hl.literal(dupes_1).contains(x), fam.within_gene)))\n",
    "    fams1[idx] = fam"
   ]
  },
  {
   "cell_type": "code",
   "execution_count": 13,
   "metadata": {},
   "outputs": [],
   "source": [
    "for idx, gene_list in enumerate(genes_fams2):\n",
    "    gene_list = [item for sublist in gene_list for item in sublist] # first flatten the gene list in each family\n",
    "    genes_fams2[idx] = list(set(gene_list))"
   ]
  },
  {
   "cell_type": "code",
   "execution_count": 14,
   "metadata": {},
   "outputs": [],
   "source": [
    "genes_fams2 = [item for sublist in genes_fams2 for item in sublist]"
   ]
  },
  {
   "cell_type": "code",
   "execution_count": 15,
   "metadata": {},
   "outputs": [
    {
     "data": {
      "text/plain": [
       "306"
      ]
     },
     "execution_count": 15,
     "metadata": {},
     "output_type": "execute_result"
    }
   ],
   "source": [
    "len(set(genes_fams2))"
   ]
  },
  {
   "cell_type": "code",
   "execution_count": 16,
   "metadata": {},
   "outputs": [],
   "source": [
    "seen = set()\n",
    "dupes_2 = [x for x in genes_fams2 if x in seen or seen.add(x)]    "
   ]
  },
  {
   "cell_type": "code",
   "execution_count": 17,
   "metadata": {},
   "outputs": [
    {
     "data": {
      "text/plain": [
       "77"
      ]
     },
     "execution_count": 17,
     "metadata": {},
     "output_type": "execute_result"
    }
   ],
   "source": [
    "len(set(dupes_2))"
   ]
  },
  {
   "cell_type": "code",
   "execution_count": 18,
   "metadata": {},
   "outputs": [],
   "source": [
    "for idx, fam in enumerate(fams2):\n",
    "    fam = fam.filter_rows((hl.any(lambda x: hl.literal(dupes_2).contains(x), fam.within_gene)))\n",
    "    fams2[idx] = fam"
   ]
  },
  {
   "cell_type": "code",
   "execution_count": 19,
   "metadata": {
    "scrolled": true
   },
   "outputs": [
    {
     "name": "stderr",
     "output_type": "stream",
     "text": [
      "2022-02-02 10:27:37 Hail: WARN: cols(): Resulting column table is sorted by 'col_key'.\n",
      "    To preserve matrix table column order, first unkey columns with 'key_cols_by()'\n",
      "2022-02-02 10:27:37 Hail: INFO: Coerced sorted dataset\n",
      "2022-02-02 10:27:42 Hail: INFO: Coerced sorted dataset========>   (47 + 3) / 50]\n",
      "2022-02-02 10:27:47 Hail: INFO: Coerced sorted dataset==========> (49 + 1) / 50]\n",
      "2022-02-02 10:27:51 Hail: INFO: Coerced sorted dataset==========> (49 + 1) / 50]\n",
      "2022-02-02 10:27:55 Hail: INFO: Coerced sorted dataset========>   (47 + 3) / 50]\n",
      "2022-02-02 10:27:59 Hail: INFO: Coerced sorted dataset           (39 + 11) / 50]\n",
      "2022-02-02 10:28:04 Hail: INFO: Coerced sorted dataset=====>      (44 + 6) / 50]\n",
      "2022-02-02 10:28:08 Hail: INFO: Coerced sorted dataset=======>    (46 + 4) / 50]\n",
      "2022-02-02 10:28:12 Hail: INFO: Coerced sorted dataset=========>  (48 + 2) / 50]\n",
      "2022-02-02 10:28:16 Hail: INFO: Coerced sorted dataset=========>  (48 + 2) / 50]\n",
      "2022-02-02 10:28:20 Hail: INFO: Coerced sorted dataset==========> (49 + 1) / 50]\n",
      "2022-02-02 10:28:24 Hail: INFO: Coerced sorted dataset           (38 + 12) / 50]\n",
      "2022-02-02 10:28:29 Hail: INFO: Coerced sorted dataset====>       (43 + 7) / 50]\n",
      "2022-02-02 10:28:39 Hail: INFO: Coerced sorted dataset==========> (49 + 1) / 50]\n",
      "2022-02-02 10:28:43 Hail: INFO: Coerced sorted dataset=========>  (48 + 2) / 50]\n",
      "2022-02-02 10:28:47 Hail: INFO: Coerced sorted dataset==========> (49 + 1) / 50]\n",
      "2022-02-02 10:28:51 Hail: INFO: Coerced sorted dataset           (37 + 12) / 50]\n",
      "[Stage 255:==================================================>    (46 + 4) / 50]\r"
     ]
    }
   ],
   "source": [
    "for fam in fams1:\n",
    "    fam = fam.drop(fam['a_index'], fam['was_split'])\n",
    "    fam = fam.transmute_rows(DP_stats = fam.dp_qc,\n",
    "                             GQ_stats =fam.gq_qc, \n",
    "                             gnomad_v3_nfe_af = fam.gnomad_v_3_1.freq.AF[2],\n",
    "                             gnomad_v3_nfe_homozygote_count = fam.gnomad_v_3_1.freq.homozygote_count[2],\n",
    "                             cadd = fam.cadd.cadd_score,\n",
    "                             within_gene = fam.within_gene,\n",
    "                             hpo = fam.hpo,\n",
    "                             non_refs_healthy = fam.segregation.get('NO', 0),\n",
    "                             non_refs_gts = fam.segregation.get('YES', 0),\n",
    "                             most_severe_consequence = fam.vep.vep.most_severe_consequence,\n",
    "                             transcript_consequences = fam.vep.vep.transcript_consequences,\n",
    "                             intergenic_consequences = fam.vep.vep.intergenic_consequences,\n",
    "                             motif_feature_consequences = fam.vep.vep.motif_feature_consequences,\n",
    "                             regulatory_feature_consequences = fam.vep.vep.regulatory_feature_consequences)\n",
    "\n",
    "    fam = fam.select_entries(fam.GT)\n",
    "    fams_to_export_all.append(fam.make_table().to_pandas())\n",
    "    descriptions_to_export.append(fam.cols().to_pandas())\n",
    "\n",
    "for idx, f in enumerate(fams_to_export_all):\n",
    "    fams_to_export_all[idx] = f[f.columns.drop(list(f.filter(regex='.phased')))]\n",
    "    \n",
    "    \n",
    "\n",
    "for fam in fams2:\n",
    "    fam = fam.drop(fam['a_index'], fam['was_split'])\n",
    "    fam = fam.transmute_rows(DP_stats = fam.dp_qc,\n",
    "                             GQ_stats =fam.gq_qc, \n",
    "                             gnomad_v3_nfe_af = fam.gnomad_v_3_1.freq.AF[2],\n",
    "                             gnomad_v3_nfe_homozygote_count = fam.gnomad_v_3_1.freq.homozygote_count[2],\n",
    "                             cadd = fam.cadd.cadd_score,\n",
    "                             within_gene = fam.within_gene,\n",
    "                             hpo = fam.hpo,\n",
    "                             non_refs_healthy = fam.segregation.get('NO', 0),\n",
    "                             non_refs_gts = fam.segregation.get('YES', 0),\n",
    "                             most_severe_consequence = fam.vep.vep.most_severe_consequence,\n",
    "                             transcript_consequences = fam.vep.vep.transcript_consequences,\n",
    "                             intergenic_consequences = fam.vep.vep.intergenic_consequences,\n",
    "                             motif_feature_consequences = fam.vep.vep.motif_feature_consequences,\n",
    "                             regulatory_feature_consequences = fam.vep.vep.regulatory_feature_consequences)\n",
    "    \n",
    "    fam = fam.select_entries(fam.GT)\n",
    "    fams_to_export_selected.append(fam.make_table().to_pandas())\n",
    "\n",
    "for idx, f in enumerate(fams_to_export_selected):\n",
    "    fams_to_export_selected[idx] = f[f.columns.drop(list(f.filter(regex='.phased')))]"
   ]
  },
  {
   "cell_type": "code",
   "execution_count": 20,
   "metadata": {},
   "outputs": [],
   "source": [
    "list_of_tables = [fams_to_export_all, fams_to_export_selected, descriptions_to_export]\n",
    "concatenated_list = [val for tup in zip(*list_of_tables) for val in tup]\n",
    "\n",
    "sheet_names = [fams_all_genes, fams_selected_genes, fams_description]\n",
    "concatenated_list_sheets = [val for tup in zip(*sheet_names) for val in tup]\n",
    "\n",
    "with pd.ExcelWriter('/net/archive/groups/plggneuromol/imdik-zekanowski-gts/results/burden-and-family/families-11-2021-schema-duplicated-genes.xlsx') as writer:\n",
    "    for idx, res in enumerate(concatenated_list):\n",
    "        res.to_excel(writer, sheet_name=str(concatenated_list_sheets[idx]), header=True, index=False)"
   ]
  },
  {
   "cell_type": "code",
   "execution_count": 21,
   "metadata": {},
   "outputs": [],
   "source": [
    "loci_all = []\n",
    "loci_selected = []\n",
    "\n",
    "for f in fams_to_export_all:\n",
    "    loci_all.append(list(f['locus.contig']+':'+f['locus.position'].astype(str)))\n",
    "    f['locus'] = f['locus.contig']+':'+f['locus.position'].astype(str)\n",
    "    \n",
    "for f in fams_to_export_selected:\n",
    "    loci_selected.append(list(f['locus.contig']+':'+f['locus.position'].astype(str)))\n",
    "    f['locus'] = f['locus.contig']+':'+f['locus.position'].astype(str)\n",
    "\n",
    "loci_all = [item for sublist in loci_all for item in sublist]\n",
    "loci_selected = [item for sublist in loci_selected for item in sublist]\n",
    "\n",
    "seen = set()\n",
    "dupes_loci_all = [x for x in loci_all if x in seen or seen.add(x)]    \n",
    "\n",
    "seen = set()\n",
    "dupes_loci_selected = [x for x in loci_selected if x in seen or seen.add(x)]    "
   ]
  },
  {
   "cell_type": "code",
   "execution_count": 22,
   "metadata": {},
   "outputs": [],
   "source": [
    "seen = set()\n",
    "dupes_loci_all = [x for x in loci_all if x in seen or seen.add(x)]    "
   ]
  },
  {
   "cell_type": "code",
   "execution_count": 23,
   "metadata": {
    "scrolled": true
   },
   "outputs": [
    {
     "data": {
      "text/plain": [
       "['chr19:53803962', 'chrY:11322439', 'chr4:109086168', 'chr5:76482747']"
      ]
     },
     "execution_count": 23,
     "metadata": {},
     "output_type": "execute_result"
    }
   ],
   "source": [
    "dupes_loci_all"
   ]
  },
  {
   "cell_type": "code",
   "execution_count": 24,
   "metadata": {},
   "outputs": [],
   "source": [
    "fams_to_export_all_filtered = []\n",
    "\n",
    "for f in fams_to_export_all:\n",
    "    f_filtered = f[f.locus.isin(dupes_loci_all)]\n",
    "    fams_to_export_all_filtered.append(f_filtered)\n",
    "    \n",
    "fams_to_export_selected_filtered = []\n",
    "\n",
    "for f in fams_to_export_selected:\n",
    "    f_filtered = f[f.locus.isin(dupes_loci_selected)]\n",
    "    fams_to_export_selected_filtered.append(f_filtered)"
   ]
  },
  {
   "cell_type": "code",
   "execution_count": 25,
   "metadata": {},
   "outputs": [],
   "source": [
    "list_of_tables = [fams_to_export_all_filtered, fams_to_export_selected_filtered, descriptions_to_export]\n",
    "concatenated_list = [val for tup in zip(*list_of_tables) for val in tup]\n",
    "\n",
    "sheet_names = [fams_all_genes, fams_selected_genes, fams_description]\n",
    "concatenated_list_sheets = [val for tup in zip(*sheet_names) for val in tup]\n",
    "\n",
    "with pd.ExcelWriter('/net/archive/groups/plggneuromol/imdik-zekanowski-gts/results/burden-and-family/families-11-2021-schema-duplicated-variants.xlsx') as writer:\n",
    "    for idx, res in enumerate(concatenated_list):\n",
    "        res.to_excel(writer, sheet_name=str(concatenated_list_sheets[idx]), header=True, index=False)"
   ]
  },
  {
   "cell_type": "markdown",
   "metadata": {},
   "source": [
    "## 7. Find variants that are common across multiple families"
   ]
  }
 ],
 "metadata": {
  "kernelspec": {
   "display_name": "Python 3 (ipykernel)",
   "language": "python",
   "name": "python3"
  },
  "language_info": {
   "codemirror_mode": {
    "name": "ipython",
    "version": 3
   },
   "file_extension": ".py",
   "mimetype": "text/x-python",
   "name": "python",
   "nbconvert_exporter": "python",
   "pygments_lexer": "ipython3",
   "version": "3.7.7"
  }
 },
 "nbformat": 4,
 "nbformat_minor": 4
}
