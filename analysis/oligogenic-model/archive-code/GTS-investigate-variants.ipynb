{
 "cells": [
  {
   "cell_type": "code",
   "execution_count": 1,
   "metadata": {},
   "outputs": [
    {
     "data": {
      "text/html": [
       "<style>.container { width:100% !important; }</style>"
      ],
      "text/plain": [
       "<IPython.core.display.HTML object>"
      ]
     },
     "metadata": {},
     "output_type": "display_data"
    }
   ],
   "source": [
    "from IPython.display import display\n",
    "from IPython.display import HTML\n",
    "import IPython.core.display as di # Example: di.display_html('<h3>%s:</h3>' % str, raw=True)\n",
    "\n",
    "# This line will hide code by default when the notebook is exported as HTML\n",
    "# di.display_html('<script>jQuery(function() {if (jQuery(\"body.notebook_app\").length == 0) { jQuery(\".input_area\").toggle(); jQuery(\".prompt\").toggle();}});</script>', raw=True)\n",
    "\n",
    "display(HTML(\"<style>.container { width:100% !important; }</style>\"))"
   ]
  },
  {
   "cell_type": "code",
   "execution_count": null,
   "metadata": {},
   "outputs": [],
   "source": [
    "import hail as hl\n",
    "hl.init(tmp_dir='/net/scratch/people/plggosborcz')"
   ]
  },
  {
   "cell_type": "code",
   "execution_count": null,
   "metadata": {},
   "outputs": [],
   "source": [
    "display(HTML(\"<style>.container { width:100% !important; }</style>\"))"
   ]
  },
  {
   "cell_type": "code",
   "execution_count": null,
   "metadata": {},
   "outputs": [],
   "source": [
    "from hail.plot import show\n",
    "from pprint import pprint\n",
    "from bokeh.layouts import gridplot\n",
    "hl.plot.output_notebook()\n",
    "\n",
    "import numpy as np\n",
    "import pandas as pd\n",
    "from functools import reduce\n",
    "from itertools import chain\n",
    "import statistics as stat\n",
    "\n",
    "import bokeh.palettes\n",
    "import itertools"
   ]
  },
  {
   "cell_type": "code",
   "execution_count": null,
   "metadata": {},
   "outputs": [],
   "source": [
    "from bokeh.plotting import figure, show, output_notebook\n",
    "output_notebook()"
   ]
  },
  {
   "cell_type": "markdown",
   "metadata": {},
   "source": [
    "## note - the paths in this notebook are outdated"
   ]
  },
  {
   "cell_type": "markdown",
   "metadata": {},
   "source": [
    "## count genes that were included in the SKAT test:"
   ]
  },
  {
   "cell_type": "code",
   "execution_count": null,
   "metadata": {},
   "outputs": [],
   "source": [
    "genes = ['DCC', 'RBFOX', 'SLC30A9', 'DCAF4L1', 'SORCS3', 'KCNQ5', 'KCNQ-IT1', 'APOPT1', 'C14orf2', 'NAA11', 'NEGR1',\n",
    "        'CHADL', 'SOX5', 'PANK2', 'COL27A1', 'PDGFB', 'CELSR3', 'OPA1', 'FBN2', 'WWC1', 'NIPBL', \n",
    "             'FN1', 'FBN2', 'SLITRK1', 'SLITRK2', 'SLITRK3', 'SLITRK4', 'SLITRK5', 'SLITRK6', \n",
    "             'HDC', 'OPRK1', 'PCDH10', 'NTSR2', 'OPRK1', 'CHD8', 'SCUBE1', 'PNKD', 'CNTNAP2', 'MOG', \n",
    "             'DRD2', 'DRD3', 'DRD4', 'DRD5', 'DAT1', 'DBH', 'HTR2A', 'TPH2', 'EAAT1', 'SAPAP3',\n",
    "            'CTNNA3', 'NLGN4', 'FSCB', 'IMMP2L', 'NRXN1', 'AADAC', 'DBH', 'MAOA', 'HTR1A', 'HTR2C', 'SLC6A4',\n",
    "             'TPH2', 'COL27A1', '5-HTTLPR', 'EAAT1', 'COL8A1', 'KCNE1', 'KCNE2',\n",
    "         'RICTOR', 'WWC1', 'CELSR3, NIPBL', 'FN1', 'PNKD', 'CDH26', 'CADM2', 'OPCML', 'CDH9',\n",
    "         'NCAM2', 'CD47', 'CDH5', 'CADM4', 'C1QBP', 'CTTN', 'LSAMP',\n",
    "         'PKP4', 'PCDH1', 'CNTNAP2', 'MBP', 'GABBR2', 'GABBR2', 'GRIK4', 'NCR1', 'FLT3', 'IL12A', 'HDAC9',\n",
    "         'CD180', 'CDH26', 'NCAM2', 'NTM', 'ROBO2']\n",
    "\n",
    "\n",
    "mt = hl.read_matrix_table('/net/archive/groups/plggneuromol/GTS-analysis/data/GTS-gnomad-sex.mt')\n",
    "\n",
    "\n",
    "mt = mt.filter_rows(hl.any(lambda x: hl.literal(genes).contains(x), mt.nearest_genes_20kb))\n",
    "mt.count()"
   ]
  },
  {
   "cell_type": "code",
   "execution_count": null,
   "metadata": {},
   "outputs": [],
   "source": [
    "mt.write('/net/archive/groups/plggneuromol/GTS-analysis/data/skat-gene-variants.mt')"
   ]
  },
  {
   "cell_type": "code",
   "execution_count": null,
   "metadata": {},
   "outputs": [],
   "source": [
    "mt = mt.filter_rows(mt.cadd > 10)\n",
    "mt.count()"
   ]
  },
  {
   "cell_type": "code",
   "execution_count": null,
   "metadata": {},
   "outputs": [],
   "source": [
    "mt = mt.filter_rows(mt.cadd > 20)\n",
    "mt.count()"
   ]
  },
  {
   "cell_type": "code",
   "execution_count": null,
   "metadata": {},
   "outputs": [],
   "source": [
    "mt = hl.read_matrix_table('/net/archive/groups/plggneuromol/GTS-analysis/data/skat-gene-variants.mt')"
   ]
  },
  {
   "cell_type": "code",
   "execution_count": null,
   "metadata": {},
   "outputs": [],
   "source": [
    "mt.aggregate_rows(hl.agg.counter(mt.gnomad_v3.most_severe_consequence))"
   ]
  },
  {
   "cell_type": "markdown",
   "metadata": {},
   "source": [
    "## export table with all of investigated variants - summary stats"
   ]
  },
  {
   "cell_type": "code",
   "execution_count": null,
   "metadata": {},
   "outputs": [],
   "source": [
    "mt = hl.read_matrix_table('/net/archive/groups/plggneuromol/GTS-analysis/data/skat-gene-variants.mt')"
   ]
  },
  {
   "cell_type": "code",
   "execution_count": null,
   "metadata": {},
   "outputs": [],
   "source": [
    "#reasigned phenotypes:\n",
    "pheno = hl.import_table('/net/archive/groups/plggneuromol/GTS-analysis/analysis/GTS-coded-corrected-june-2021.csv', delimiter=',', impute=True,  quote='\\\"')"
   ]
  },
  {
   "cell_type": "code",
   "execution_count": null,
   "metadata": {},
   "outputs": [],
   "source": [
    "pheno = pheno.key_by(pheno.ID)"
   ]
  },
  {
   "cell_type": "code",
   "execution_count": null,
   "metadata": {},
   "outputs": [],
   "source": [
    "mt = mt.annotate_cols(phenotypes = pheno[mt.s])"
   ]
  },
  {
   "cell_type": "code",
   "execution_count": null,
   "metadata": {},
   "outputs": [],
   "source": [
    "mt = mt.annotate_rows(cases_with_gts = hl.agg.group_by(mt.phenotypes.family, hl.agg.count_where(mt.phenotypes.disease == 'YES')),\n",
    "                      variants_with_gts = hl.agg.group_by((mt.phenotypes.family, mt.phenotypes.disease), hl.agg.count_where(mt.GT.is_non_ref())),\n",
    "                      carriers_in_families = hl.agg.group_by(mt.s, hl.agg.count_where(mt.GT.is_non_ref())),\n",
    "                      variants_in_sporadic_cases = hl.agg.group_by((mt.phenotypes.family, mt.phenotypes.disease), hl.agg.counter(mt.GT.is_non_ref()))\n",
    "                     )"
   ]
  },
  {
   "cell_type": "code",
   "execution_count": null,
   "metadata": {},
   "outputs": [],
   "source": [
    "mt.write('/net/archive/groups/plggneuromol/GTS-analysis/data/GTS-with-skat.mt')"
   ]
  },
  {
   "cell_type": "code",
   "execution_count": null,
   "metadata": {},
   "outputs": [],
   "source": [
    "mt = hl.read_matrix_table('/net/archive/groups/plggneuromol/GTS-analysis/data/GTS-with-skat.mt')"
   ]
  },
  {
   "cell_type": "code",
   "execution_count": null,
   "metadata": {},
   "outputs": [],
   "source": [
    "mt = mt.annotate_rows(sporadic_cases_non_refs = hl.if_else(mt.variants_in_sporadic_cases[('.','YES')].contains(True), \n",
    "                                                                mt.variants_in_sporadic_cases[('.','YES')][True],\n",
    "                                                                0),\n",
    "                             sporadic_cases_refs = hl.if_else(mt.variants_in_sporadic_cases[('.','YES')].contains(False), \n",
    "                                                                mt.variants_in_sporadic_cases[('.','YES')][False],\n",
    "                                                                0))"
   ]
  },
  {
   "cell_type": "code",
   "execution_count": null,
   "metadata": {},
   "outputs": [],
   "source": [
    "mt.checkpoint('/net/archive/groups/plggneuromol/GTS-analysis/data/GTS-with-skat-2.mt')"
   ]
  },
  {
   "cell_type": "code",
   "execution_count": null,
   "metadata": {},
   "outputs": [],
   "source": [
    "mt = hl.read_matrix_table('/net/archive/groups/plggneuromol/GTS-analysis/data/GTS-with-skat-2.mt')"
   ]
  },
  {
   "cell_type": "code",
   "execution_count": null,
   "metadata": {},
   "outputs": [],
   "source": [
    "a = hl.read_matrix_table('/net/archive/groups/plggneuromol/GTS-analysis/data/mt-for-skat-may.mt')\n",
    "b = hl.read_matrix_table('/net/archive/groups/plggneuromol/GTS-analysis/data/mt-test-may.mt')\n",
    "\n",
    "samples = a.s.collect() + b.s.collect()"
   ]
  },
  {
   "cell_type": "code",
   "execution_count": null,
   "metadata": {},
   "outputs": [],
   "source": [
    "len(samples)"
   ]
  },
  {
   "cell_type": "code",
   "execution_count": null,
   "metadata": {},
   "outputs": [],
   "source": [
    "mt = mt.filter_cols(hl.literal(samples).contains(mt.s))"
   ]
  },
  {
   "cell_type": "code",
   "execution_count": null,
   "metadata": {},
   "outputs": [],
   "source": [
    "mt.count()"
   ]
  },
  {
   "cell_type": "code",
   "execution_count": null,
   "metadata": {},
   "outputs": [],
   "source": [
    "mt = mt.annotate_rows(variants_in_gnomad = hl.agg.group_by((mt.s.contains('gnomad')), hl.agg.counter(mt.GT.is_non_ref())))"
   ]
  },
  {
   "cell_type": "code",
   "execution_count": null,
   "metadata": {},
   "outputs": [],
   "source": [
    "mt = mt.filter_cols(mt.s.contains('gnomad'), keep = False)"
   ]
  },
  {
   "cell_type": "code",
   "execution_count": null,
   "metadata": {},
   "outputs": [],
   "source": [
    "mt = mt.annotate_rows(variants_in_familial = hl.agg.group_by((mt.phenotypes.disease), hl.agg.counter(mt.GT.is_non_ref())))"
   ]
  },
  {
   "cell_type": "code",
   "execution_count": null,
   "metadata": {},
   "outputs": [],
   "source": [
    "mt = mt.annotate_rows(controls_non_refs = hl.if_else(mt.variants_in_familial['NO'].contains(True), \n",
    "                                                                mt.variants_in_familial['NO'][True],\n",
    "                                                                0),\n",
    "                              controls_refs = hl.if_else(mt.variants_in_familial['NO'].contains(False), \n",
    "                                                                mt.variants_in_familial['NO'][False],\n",
    "                                                                0),\n",
    "                              cases_non_refs = hl.if_else(mt.variants_in_familial['YES'].contains(True), \n",
    "                                                                mt.variants_in_familial['YES'][True],\n",
    "                                                                0),\n",
    "                              cases_refs = hl.if_else(mt.variants_in_familial['YES'].contains(False), \n",
    "                                                                mt.variants_in_familial['YES'][False],\n",
    "                                                                0))"
   ]
  },
  {
   "cell_type": "code",
   "execution_count": null,
   "metadata": {
    "scrolled": false
   },
   "outputs": [],
   "source": [
    "mt.checkpoint('/net/archive/groups/plggneuromol/GTS-analysis/data/GTS-with-skat-3.mt')"
   ]
  },
  {
   "cell_type": "code",
   "execution_count": null,
   "metadata": {},
   "outputs": [],
   "source": [
    "mt = hl.read_matrix_table('/net/archive/groups/plggneuromol/GTS-analysis/data/GTS-with-skat-3.mt')"
   ]
  },
  {
   "cell_type": "code",
   "execution_count": null,
   "metadata": {},
   "outputs": [],
   "source": [
    "mt = mt.filter_rows(mt.cadd > 0)"
   ]
  },
  {
   "cell_type": "code",
   "execution_count": null,
   "metadata": {},
   "outputs": [],
   "source": [
    "mt = mt.rows()"
   ]
  },
  {
   "cell_type": "code",
   "execution_count": null,
   "metadata": {},
   "outputs": [],
   "source": [
    "mt = mt.annotate(gnomads_non_ref = hl.if_else(mt.variants_in_gnomad[True].contains(True), \n",
    "                                                               mt.variants_in_gnomad[True][True],\n",
    "                                                                0))"
   ]
  },
  {
   "cell_type": "code",
   "execution_count": null,
   "metadata": {},
   "outputs": [],
   "source": [
    "mt = mt.select(mt.gnomad_v3.most_severe_consequence,\n",
    "                    mt.hpo, mt.cadd, mt.nearest_genes_20kb, mt.sporadic_cases_non_refs, mt.sporadic_cases_refs, mt.controls_non_refs,\n",
    "               mt.controls_refs, mt.cases_non_refs, mt.cases_refs, mt.gnomads_non_ref)\n",
    "\n",
    "mt = mt.to_pandas()\n",
    "\n",
    "mt.to_csv('/net/archive/groups/plggneuromol/GTS-analysis/data/supplementary-table-T1.csv')"
   ]
  },
  {
   "cell_type": "code",
   "execution_count": null,
   "metadata": {},
   "outputs": [],
   "source": [
    "mt[1:1000].to_csv('/net/archive/groups/plggneuromol/GTS-analysis/data/subset-supplementary-table-T1.csv')"
   ]
  },
  {
   "cell_type": "markdown",
   "metadata": {},
   "source": [
    "## investigate the asignment in families"
   ]
  },
  {
   "cell_type": "code",
   "execution_count": null,
   "metadata": {},
   "outputs": [],
   "source": [
    "mt = hl.read_matrix_table('/net/archive/groups/plggneuromol/GTS-analysis/data/GTS-gnomad-sex.mt')\n",
    "\n",
    "top_genes = ['HDC', 'CHADL', 'MAOA', 'NAA11', 'PCDH10']\n",
    "\n",
    "mt = mt.filter_rows(hl.any(lambda x: hl.literal(top_genes).contains(x), mt.nearest_genes_20kb))\n",
    "mt = mt.filter_rows(mt.cadd > 10)"
   ]
  },
  {
   "cell_type": "code",
   "execution_count": null,
   "metadata": {
    "scrolled": true
   },
   "outputs": [],
   "source": [
    "#reasigned phenotypes:\n",
    "pheno = hl.import_table('/net/archive/groups/plggneuromol/GTS-analysis/analysis/GTS-coded-corrected-june-2021.csv', delimiter=',', impute=True,  quote='\\\"')"
   ]
  },
  {
   "cell_type": "code",
   "execution_count": null,
   "metadata": {},
   "outputs": [],
   "source": [
    "pheno = pheno.key_by(pheno.ID)"
   ]
  },
  {
   "cell_type": "code",
   "execution_count": null,
   "metadata": {},
   "outputs": [],
   "source": [
    "mt = mt.annotate_cols(phenotypes = pheno[mt.s])"
   ]
  },
  {
   "cell_type": "code",
   "execution_count": null,
   "metadata": {},
   "outputs": [],
   "source": [
    "mt.write('/net/archive/groups/plggneuromol/imdik-zekanowski-gts/data/mts/top-variants.mt')"
   ]
  },
  {
   "cell_type": "code",
   "execution_count": null,
   "metadata": {},
   "outputs": [],
   "source": [
    "top = hl.read_matrix_table('/net/archive/groups/plggneuromol/imdik-zekanowski-gts/data/mts/top-variants.mt')"
   ]
  },
  {
   "cell_type": "code",
   "execution_count": null,
   "metadata": {},
   "outputs": [],
   "source": [
    "mt_test = hl.read_matrix_table('/net/archive/groups/plggneuromol/imdik-zekanowski-gts/data/mts/mt_test_10.mt')"
   ]
  },
  {
   "cell_type": "code",
   "execution_count": null,
   "metadata": {},
   "outputs": [],
   "source": [
    "false_pos = np.load('/net/archive/groups/plggneuromol/imdik-zekanowski-gts/results/numpy/may-false_pos5cadd10.npy')\n",
    "true_pos = np.load('/net/archive/groups/plggneuromol/imdik-zekanowski-gts/results/numpy/may-true_pos5cadd10.npy')"
   ]
  },
  {
   "cell_type": "code",
   "execution_count": null,
   "metadata": {},
   "outputs": [],
   "source": [
    "top_test = top.filter_cols(hl.set(['.', 'gnomad']).contains(top.phenotypes.family), keep = False)"
   ]
  },
  {
   "cell_type": "code",
   "execution_count": null,
   "metadata": {},
   "outputs": [],
   "source": [
    "samples = mt_test.s.collect()"
   ]
  },
  {
   "cell_type": "code",
   "execution_count": null,
   "metadata": {},
   "outputs": [],
   "source": [
    "top_test = top_test.filter_cols(hl.set(samples).contains(top_test.s))"
   ]
  },
  {
   "cell_type": "code",
   "execution_count": null,
   "metadata": {},
   "outputs": [],
   "source": [
    "top_test.count()"
   ]
  },
  {
   "cell_type": "code",
   "execution_count": null,
   "metadata": {},
   "outputs": [],
   "source": [
    "families = mt_test.phenotypes.family.collect()"
   ]
  },
  {
   "cell_type": "code",
   "execution_count": null,
   "metadata": {
    "scrolled": true
   },
   "outputs": [],
   "source": [
    "np.where((false_pos < 0.45) & (true_pos > 0.65))"
   ]
  },
  {
   "cell_type": "code",
   "execution_count": null,
   "metadata": {},
   "outputs": [],
   "source": [
    "false_pos[11204]"
   ]
  },
  {
   "cell_type": "code",
   "execution_count": null,
   "metadata": {},
   "outputs": [],
   "source": [
    "true_pos[11204]"
   ]
  },
  {
   "cell_type": "code",
   "execution_count": null,
   "metadata": {},
   "outputs": [],
   "source": [
    "false_pos[10759]"
   ]
  },
  {
   "cell_type": "code",
   "execution_count": null,
   "metadata": {},
   "outputs": [],
   "source": [
    "true_pos[10759]"
   ]
  },
  {
   "cell_type": "code",
   "execution_count": null,
   "metadata": {},
   "outputs": [],
   "source": [
    "test_asignment = np.load('/net/archive/groups/plggneuromol/imdik-zekanowski-gts/results/numpy/may-test_asignment5cadd10.npy')"
   ]
  },
  {
   "cell_type": "code",
   "execution_count": null,
   "metadata": {},
   "outputs": [],
   "source": [
    "len(test_asignment)"
   ]
  },
  {
   "cell_type": "code",
   "execution_count": null,
   "metadata": {
    "scrolled": true
   },
   "outputs": [],
   "source": [
    "test_asignment"
   ]
  },
  {
   "cell_type": "code",
   "execution_count": null,
   "metadata": {},
   "outputs": [],
   "source": [
    "np.linspace(-25,20,20000)[11204]"
   ]
  },
  {
   "cell_type": "code",
   "execution_count": null,
   "metadata": {},
   "outputs": [],
   "source": [
    "best_asignment = test_asignment > np.linspace(-25,20,20000)[11204]"
   ]
  },
  {
   "cell_type": "code",
   "execution_count": null,
   "metadata": {},
   "outputs": [],
   "source": [
    "mt_test = mt_test.annotate_cols(phenotypes = pheno[mt_test.s])"
   ]
  },
  {
   "cell_type": "code",
   "execution_count": null,
   "metadata": {},
   "outputs": [],
   "source": [
    "nonCTS = mt_test.phenotypes.nonCTD.collect()"
   ]
  },
  {
   "cell_type": "code",
   "execution_count": null,
   "metadata": {},
   "outputs": [],
   "source": [
    "ASD = mt_test.phenotypes.add_pheno.contains('ASD').collect()"
   ]
  },
  {
   "cell_type": "code",
   "execution_count": null,
   "metadata": {},
   "outputs": [],
   "source": [
    "group = mt_test.phenotypes.phenotype.collect()"
   ]
  },
  {
   "cell_type": "code",
   "execution_count": null,
   "metadata": {},
   "outputs": [],
   "source": [
    "np.sum((np.array(group) == 'GTS'))"
   ]
  },
  {
   "cell_type": "code",
   "execution_count": null,
   "metadata": {},
   "outputs": [],
   "source": [
    "np.sum((np.array(group) == 'tics') & best_asignment)"
   ]
  },
  {
   "cell_type": "code",
   "execution_count": null,
   "metadata": {},
   "outputs": [],
   "source": [
    "14/42"
   ]
  },
  {
   "cell_type": "code",
   "execution_count": null,
   "metadata": {},
   "outputs": [],
   "source": [
    "np.sum((np.array(nonCTS) == 'YES') & best_asignment)"
   ]
  },
  {
   "cell_type": "code",
   "execution_count": null,
   "metadata": {},
   "outputs": [],
   "source": [
    "4/17"
   ]
  },
  {
   "cell_type": "code",
   "execution_count": null,
   "metadata": {},
   "outputs": [],
   "source": [
    "33/47"
   ]
  },
  {
   "cell_type": "code",
   "execution_count": null,
   "metadata": {},
   "outputs": [],
   "source": [
    "np.sum((np.array(group) == 'GTS') & best_asignment)"
   ]
  },
  {
   "cell_type": "code",
   "execution_count": null,
   "metadata": {},
   "outputs": [],
   "source": [
    "18/47"
   ]
  },
  {
   "cell_type": "code",
   "execution_count": null,
   "metadata": {},
   "outputs": [],
   "source": [
    "np.sum((np.array(group) == '.') & best_asignment)"
   ]
  },
  {
   "cell_type": "code",
   "execution_count": null,
   "metadata": {},
   "outputs": [],
   "source": [
    "(56-15)/56"
   ]
  },
  {
   "cell_type": "code",
   "execution_count": null,
   "metadata": {},
   "outputs": [],
   "source": []
  },
  {
   "cell_type": "code",
   "execution_count": null,
   "metadata": {},
   "outputs": [],
   "source": [
    "top_test.aggregate_cols(hl.agg.filter((top_test.phenotypes.family == 'W'), hl.agg.counter(top_test.phenotypes.phenotype)))"
   ]
  },
  {
   "cell_type": "code",
   "execution_count": null,
   "metadata": {},
   "outputs": [],
   "source": [
    "fam_s = top_test.s.collect()"
   ]
  },
  {
   "cell_type": "code",
   "execution_count": null,
   "metadata": {},
   "outputs": [],
   "source": [
    "np.array(fam_s)[np.array(families) == 'W']"
   ]
  },
  {
   "cell_type": "code",
   "execution_count": null,
   "metadata": {},
   "outputs": [],
   "source": [
    "np.array(best_asignment)[np.array(families) == 'W']"
   ]
  },
  {
   "cell_type": "code",
   "execution_count": null,
   "metadata": {},
   "outputs": [],
   "source": [
    "np.array(group)[np.array(families) == 'W']"
   ]
  },
  {
   "cell_type": "code",
   "execution_count": null,
   "metadata": {},
   "outputs": [],
   "source": [
    "hdc_coding = hl.agg.filter((hl.str(top_test.nearest_genes_20kb).contains('HDC') & ((top_test.gnomad_v3.most_severe_consequence == 'missense_variant') |\n",
    "                                                                            (top_test.gnomad_v3.most_severe_consequence == 'synonymous_variant'))),\n",
    "                           hl.agg.count_where(top_test.GT.is_non_ref()))\n",
    "\n",
    "chadl_coding = hl.agg.filter((hl.str(top_test.nearest_genes_20kb).contains('CHADL') & ((top_test.gnomad_v3.most_severe_consequence == 'missense_variant') |\n",
    "                                                                            (top_test.gnomad_v3.most_severe_consequence == 'synonymous_variant'))),\n",
    "                           hl.agg.count_where(top_test.GT.is_non_ref()))\n",
    "\n",
    "maoa_coding = hl.agg.filter((hl.str(top_test.nearest_genes_20kb).contains('MAOA') & ((top_test.gnomad_v3.most_severe_consequence == 'missense_variant') |\n",
    "                                                                            (top_test.gnomad_v3.most_severe_consequence == 'synonymous_variant'))),\n",
    "                           hl.agg.count_where(top_test.GT.is_non_ref()))\n",
    "naa11_coding = hl.agg.filter((hl.str(top_test.nearest_genes_20kb).contains('NAA11') & ((top_test.gnomad_v3.most_severe_consequence == 'missense_variant') |\n",
    "                                                                            (top_test.gnomad_v3.most_severe_consequence == 'synonymous_variant'))),\n",
    "                           hl.agg.count_where(top_test.GT.is_non_ref()))\n",
    "\n",
    "pcdh10_coding = hl.agg.filter((hl.str(top_test.nearest_genes_20kb).contains('PCDH10') & ((top_test.gnomad_v3.most_severe_consequence == 'missense_variant') |\n",
    "                                                                            (top_test.gnomad_v3.most_severe_consequence == 'synonymous_variant'))),\n",
    "                           hl.agg.count_where(top_test.GT.is_non_ref()))\n",
    "\n",
    "top_test = top_test.annotate_cols(non_refs_hdc = hl.agg.filter(hl.str(top_test.nearest_genes_20kb).contains('HDC'), hl.agg.count_where(top_test.GT.is_non_ref())),\n",
    "                                  non_refs_chadl = hl.agg.filter(hl.str(top_test.nearest_genes_20kb).contains('CHADL'), hl.agg.count_where(top_test.GT.is_non_ref())),\n",
    "                                  non_refs_maoa = hl.agg.filter(hl.str(top_test.nearest_genes_20kb).contains('MAOA'), hl.agg.count_where(top_test.GT.is_non_ref())),\n",
    "                                  non_refs_naa11 = hl.agg.filter(hl.str(top_test.nearest_genes_20kb).contains('NAA11'), hl.agg.count_where(top_test.GT.is_non_ref())),\n",
    "                                  non_refs_pcdh10 = hl.agg.filter(hl.str(top_test.nearest_genes_20kb).contains('PCDH10'), hl.agg.count_where(top_test.GT.is_non_ref())),\n",
    "                                  non_refs_hdc_coding = hdc_coding,\n",
    "                                  non_refs_chadl_coding = chadl_coding,\n",
    "                                  non_refs_maoa_coding = maoa_coding,\n",
    "                                  non_refs_naa11_coding = naa11_coding,\n",
    "                                  non_refs_pcdh10_coding = pcdh10_coding)                     "
   ]
  },
  {
   "cell_type": "code",
   "execution_count": null,
   "metadata": {
    "scrolled": true
   },
   "outputs": [],
   "source": [
    "top_test.write('/net/archive/groups/plggneuromol/GTS-analysis/data/top-test.mt')"
   ]
  },
  {
   "cell_type": "code",
   "execution_count": null,
   "metadata": {},
   "outputs": [],
   "source": [
    "#coding HDC\n",
    "top_test.filter_rows((hl.str(top_test.nearest_genes_20kb).contains('HDC') & ((top_test.gnomad_v3.most_severe_consequence == 'missense_variant') |\n",
    "                                                                            (top_test.gnomad_v3.most_severe_consequence == 'synonymous_variant')))).count()"
   ]
  },
  {
   "cell_type": "code",
   "execution_count": null,
   "metadata": {},
   "outputs": [],
   "source": [
    "#coding CHADL\n",
    "top_test.filter_rows((hl.str(top_test.nearest_genes_20kb).contains('CHADL') & ((top_test.gnomad_v3.most_severe_consequence == 'missense_variant') |\n",
    "                                                                            (top_test.gnomad_v3.most_severe_consequence == 'synonymous_variant')))).count()"
   ]
  },
  {
   "cell_type": "code",
   "execution_count": null,
   "metadata": {},
   "outputs": [],
   "source": [
    "#coding MAOA:\n",
    "top_test.filter_rows((hl.str(top_test.nearest_genes_20kb).contains('MAOA') & ((top_test.gnomad_v3.most_severe_consequence == 'missense_variant') |\n",
    "                                                                            (top_test.gnomad_v3.most_severe_consequence == 'synonymous_variant')))).count()"
   ]
  },
  {
   "cell_type": "code",
   "execution_count": null,
   "metadata": {},
   "outputs": [],
   "source": [
    "#coding NAA11:\n",
    "top_test.filter_rows((hl.str(top_test.nearest_genes_20kb).contains('NAA11') & ((top_test.gnomad_v3.most_severe_consequence == 'missense_variant') |\n",
    "                                                                            (top_test.gnomad_v3.most_severe_consequence == 'synonymous_variant')))).count()"
   ]
  },
  {
   "cell_type": "code",
   "execution_count": null,
   "metadata": {},
   "outputs": [],
   "source": [
    "#coding PCDH10:\n",
    "top_test.filter_rows((hl.str(top_test.nearest_genes_20kb).contains('PCDH10') & ((top_test.gnomad_v3.most_severe_consequence == 'missense_variant') |\n",
    "                                                                            (top_test.gnomad_v3.most_severe_consequence == 'synonymous_variant')))).count()"
   ]
  },
  {
   "cell_type": "code",
   "execution_count": null,
   "metadata": {},
   "outputs": [],
   "source": [
    "#noncoding HDC\n",
    "top_test.filter_rows((hl.str(top_test.nearest_genes_20kb).contains('HDC') & ((top_test.gnomad_v3.most_severe_consequence != 'missense_variant') &\n",
    "                                                                            (top_test.gnomad_v3.most_severe_consequence != 'synonymous_variant')))).count()"
   ]
  },
  {
   "cell_type": "code",
   "execution_count": null,
   "metadata": {},
   "outputs": [],
   "source": [
    "#noncoding CHADL (this should rather be 7)\n",
    "top_test.filter_rows((hl.str(top_test.nearest_genes_20kb).contains('CHADL') & ((top_test.gnomad_v3.most_severe_consequence != 'missense_variant') &\n",
    "                                                                            (top_test.gnomad_v3.most_severe_consequence != 'synonymous_variant')))).count()"
   ]
  },
  {
   "cell_type": "code",
   "execution_count": null,
   "metadata": {},
   "outputs": [],
   "source": [
    "#noncoding MAOA:\n",
    "top_test.filter_rows((hl.str(top_test.nearest_genes_20kb).contains('MAOA') & ((top_test.gnomad_v3.most_severe_consequence != 'missense_variant') &\n",
    "                                                                            (top_test.gnomad_v3.most_severe_consequence != 'synonymous_variant')))).count()"
   ]
  },
  {
   "cell_type": "code",
   "execution_count": null,
   "metadata": {},
   "outputs": [],
   "source": [
    "#noncoding NAA11:\n",
    "top_test.filter_rows((hl.str(top_test.nearest_genes_20kb).contains('NAA11') & ((top_test.gnomad_v3.most_severe_consequence != 'missense_variant') |\n",
    "                                                                            (top_test.gnomad_v3.most_severe_consequence != 'synonymous_variant')))).count()"
   ]
  },
  {
   "cell_type": "code",
   "execution_count": null,
   "metadata": {},
   "outputs": [],
   "source": [
    "#noncoding PCDH10:\n",
    "top_test.filter_rows((hl.str(top_test.nearest_genes_20kb).contains('PCDH10') & ((top_test.gnomad_v3.most_severe_consequence != 'missense_variant') |\n",
    "                                                                            (top_test.gnomad_v3.most_severe_consequence != 'synonymous_variant')))).count()"
   ]
  },
  {
   "cell_type": "code",
   "execution_count": null,
   "metadata": {},
   "outputs": [],
   "source": [
    "#all HDC\n",
    "top_test.filter_rows(hl.str(top_test.nearest_genes_20kb).contains('HDC')).count()"
   ]
  },
  {
   "cell_type": "code",
   "execution_count": null,
   "metadata": {},
   "outputs": [],
   "source": [
    "#all CHADL\n",
    "top_test.filter_rows(hl.str(top_test.nearest_genes_20kb).contains('CHADL')).count()"
   ]
  },
  {
   "cell_type": "code",
   "execution_count": null,
   "metadata": {},
   "outputs": [],
   "source": [
    "#all MAOA\n",
    "top_test.filter_rows(hl.str(top_test.nearest_genes_20kb).contains('MAOA')).count()"
   ]
  },
  {
   "cell_type": "code",
   "execution_count": null,
   "metadata": {},
   "outputs": [],
   "source": [
    "#all NAA11:\n",
    "top_test.filter_rows(hl.str(top_test.nearest_genes_20kb).contains('NAA11')).count()"
   ]
  },
  {
   "cell_type": "code",
   "execution_count": null,
   "metadata": {},
   "outputs": [],
   "source": [
    "#all PCDH10:\n",
    "top_test.filter_rows(hl.str(top_test.nearest_genes_20kb).contains('PCDH10')).count()"
   ]
  },
  {
   "cell_type": "code",
   "execution_count": null,
   "metadata": {},
   "outputs": [],
   "source": [
    "top_test.count()"
   ]
  },
  {
   "cell_type": "code",
   "execution_count": null,
   "metadata": {},
   "outputs": [],
   "source": [
    "top_test = hl.read_matrix_table('/net/archive/groups/plggneuromol/GTS-analysis/data/top-test.mt')"
   ]
  },
  {
   "cell_type": "code",
   "execution_count": null,
   "metadata": {},
   "outputs": [],
   "source": [
    "to_export = top_test.cols()"
   ]
  },
  {
   "cell_type": "code",
   "execution_count": null,
   "metadata": {},
   "outputs": [],
   "source": [
    "families = to_export.to_pandas()"
   ]
  },
  {
   "cell_type": "code",
   "execution_count": null,
   "metadata": {},
   "outputs": [],
   "source": [
    "families"
   ]
  },
  {
   "cell_type": "code",
   "execution_count": null,
   "metadata": {},
   "outputs": [],
   "source": [
    "families.to_csv('family_table')"
   ]
  },
  {
   "cell_type": "code",
   "execution_count": null,
   "metadata": {},
   "outputs": [],
   "source": [
    "variants_gnomad = np.load('/net/archive/groups/plggneuromol/GTS-analysis/data/numpy/may-variants_controls5cadd10.npy')"
   ]
  },
  {
   "cell_type": "code",
   "execution_count": null,
   "metadata": {},
   "outputs": [],
   "source": [
    "np.sum(variants_gnomad) - 1.19"
   ]
  },
  {
   "cell_type": "code",
   "execution_count": null,
   "metadata": {},
   "outputs": [],
   "source": [
    "variants_gts_test = np.load('/net/archive/groups/plggneuromol/GTS-analysis/data/numpy/variants_gts_test5cadd10.npy') "
   ]
  },
  {
   "cell_type": "code",
   "execution_count": null,
   "metadata": {},
   "outputs": [],
   "source": [
    "top_test = hl.read_matrix_table('/net/archive/groups/plggneuromol/GTS-analysis/data/top-test.mt')"
   ]
  },
  {
   "cell_type": "code",
   "execution_count": null,
   "metadata": {},
   "outputs": [],
   "source": [
    "top_test.count()"
   ]
  },
  {
   "cell_type": "markdown",
   "metadata": {},
   "source": [
    "## investigate variants that went into the model"
   ]
  },
  {
   "cell_type": "code",
   "execution_count": null,
   "metadata": {},
   "outputs": [],
   "source": [
    "top = hl.read_matrix_table('/net/archive/groups/plggneuromol/GTS-analysis/data/top-variants.mt')"
   ]
  },
  {
   "cell_type": "code",
   "execution_count": null,
   "metadata": {},
   "outputs": [],
   "source": [
    "top.aggregate_rows(hl.agg.mean(top.cadd))"
   ]
  },
  {
   "cell_type": "code",
   "execution_count": null,
   "metadata": {
    "scrolled": true
   },
   "outputs": [],
   "source": [
    "top.aggregate_rows(hl.agg.approx_median(top.cadd))"
   ]
  },
  {
   "cell_type": "code",
   "execution_count": null,
   "metadata": {
    "scrolled": false
   },
   "outputs": [],
   "source": [
    "cadd_hist = top.aggregate_rows(hl.expr.aggregators.hist(top.cadd, 0, 30, 10))\n",
    "\n",
    "p = hl.plot.histogram(cadd_hist, legend='CADD', title='CADD Histogram')\n",
    "p.xaxis.axis_label_text_font_size = \"15pt\"\n",
    "p.xaxis.major_label_text_font_size = \"15pt\"\n",
    "p.yaxis.axis_label_text_font_size = \"15pt\"\n",
    "p.yaxis.major_label_text_font_size = \"15pt\"\n",
    "show(p)"
   ]
  },
  {
   "cell_type": "code",
   "execution_count": null,
   "metadata": {},
   "outputs": [],
   "source": [
    "top.describe()"
   ]
  },
  {
   "cell_type": "code",
   "execution_count": null,
   "metadata": {
    "scrolled": false
   },
   "outputs": [],
   "source": [
    "top.aggregate_rows(hl.agg.mean(top.gnomad_v3.v3_nfe.AF))"
   ]
  },
  {
   "cell_type": "code",
   "execution_count": null,
   "metadata": {
    "scrolled": true
   },
   "outputs": [],
   "source": [
    "top.aggregate_rows(hl.agg.approx_median(top.gnomad_v3.v3_nfe.AF))"
   ]
  },
  {
   "cell_type": "code",
   "execution_count": null,
   "metadata": {},
   "outputs": [],
   "source": [
    "gnomad_hist = top.aggregate_rows(hl.expr.aggregators.hist(top.gnomad_v3.v3_nfe.AF, 0, 0.2, 20))\n",
    "\n",
    "p2 = hl.plot.histogram(gnomad_hist, legend='gnomAD MAF', title='MAF Histogram')\n",
    "p2.xaxis.axis_label_text_font_size = \"15pt\"\n",
    "p2.xaxis.major_label_text_font_size = \"15pt\"\n",
    "p2.yaxis.axis_label_text_font_size = \"15pt\"\n",
    "p2.yaxis.major_label_text_font_size = \"15pt\"\n",
    "\n",
    "show(p2)"
   ]
  },
  {
   "cell_type": "code",
   "execution_count": null,
   "metadata": {},
   "outputs": [],
   "source": [
    "top.count()"
   ]
  },
  {
   "cell_type": "code",
   "execution_count": null,
   "metadata": {},
   "outputs": [],
   "source": [
    "top.aggregate_rows(hl.agg.counter(top.gnomad_v3.most_severe_consequence))"
   ]
  },
  {
   "cell_type": "code",
   "execution_count": null,
   "metadata": {},
   "outputs": [],
   "source": [
    "top.describe()"
   ]
  },
  {
   "cell_type": "markdown",
   "metadata": {},
   "source": [
    "## export top variants"
   ]
  },
  {
   "cell_type": "code",
   "execution_count": null,
   "metadata": {},
   "outputs": [],
   "source": [
    "top = hl.read_matrix_table('/net/archive/groups/plggneuromol/GTS-analysis/data/top-variants.mt')"
   ]
  },
  {
   "cell_type": "code",
   "execution_count": null,
   "metadata": {},
   "outputs": [],
   "source": [
    "top.count()"
   ]
  },
  {
   "cell_type": "code",
   "execution_count": null,
   "metadata": {},
   "outputs": [],
   "source": [
    "# check group numbers and remove extra controls\n",
    "\n",
    "a = hl.read_matrix_table('/net/archive/groups/plggneuromol/GTS-analysis/data/mt-for-skat-may.mt')\n",
    "b = hl.read_matrix_table('/net/archive/groups/plggneuromol/GTS-analysis/data/mt-test-may.mt')\n",
    "\n",
    "samples = a.s.collect() + b.s.collect()"
   ]
  },
  {
   "cell_type": "code",
   "execution_count": null,
   "metadata": {},
   "outputs": [],
   "source": [
    "top = top.filter_cols(hl.literal(samples).contains(top.s))"
   ]
  },
  {
   "cell_type": "code",
   "execution_count": null,
   "metadata": {},
   "outputs": [],
   "source": [
    "#count controls and other groups"
   ]
  },
  {
   "cell_type": "code",
   "execution_count": null,
   "metadata": {},
   "outputs": [],
   "source": [
    "top.count()"
   ]
  },
  {
   "cell_type": "code",
   "execution_count": null,
   "metadata": {},
   "outputs": [],
   "source": [
    "top.aggregate_cols(hl.agg.filter(~top.s.contains('gnomad'), hl.agg.counter(top.phenotypes.phenotype)))"
   ]
  },
  {
   "cell_type": "code",
   "execution_count": null,
   "metadata": {},
   "outputs": [],
   "source": [
    "top = top.annotate_rows(\n",
    "                      all_gnomads_non_ref = hl.agg.filter((top.s.contains == 'gnomad'), hl.agg.count_where(top.GT.is_non_ref()))/40,\n",
    "                      all_gnomads_hom_var = hl.agg.filter((top.s.contains == 'gnomad'), hl.agg.count_where(top.GT.is_hom_var()))/40,\n",
    "                      controls_non_ref = hl.agg.filter((top.phenotypes.disease == 'NO'), hl.agg.count_where(top.GT.is_non_ref()))/56,\n",
    "                      controls_hom_var = hl.agg.filter((top.phenotypes.disease == 'NO'), hl.agg.count_where(top.GT.is_hom_var()))/56,\n",
    "                      cases_all_non_ref = hl.agg.filter((top.phenotypes.disease == 'YES'), hl.agg.count_where(top.GT.is_non_ref()))/129,\n",
    "                      cases_all_hom_var = hl.agg.filter((top.phenotypes.disease == 'YES'), hl.agg.count_where(top.GT.is_hom_var()))/129)"
   ]
  },
  {
   "cell_type": "code",
   "execution_count": null,
   "metadata": {},
   "outputs": [],
   "source": [
    "top = top.rows()\n",
    "top = top.to_pandas()\n",
    "top.to_csv('/net/archive/groups/plggneuromol/GTS-analysis/data/top-variants.csv')"
   ]
  },
  {
   "cell_type": "markdown",
   "metadata": {},
   "source": [
    "## Validate with GWAS"
   ]
  },
  {
   "cell_type": "markdown",
   "metadata": {},
   "source": [
    "1. ideentify intervals that include the genes of interest"
   ]
  },
  {
   "cell_type": "code",
   "execution_count": null,
   "metadata": {},
   "outputs": [],
   "source": [
    "genes = hl.read_table('/net/archive/groups/plggneuromol/GTS-analysis/analysis/vcf_preprocessing/genecode_v32.ht')\n",
    "genes = genes.filter(hl.is_valid_contig(genes['hg38.knownGene.chrom'], reference_genome='GRCh38'))\n",
    "\n",
    "\n",
    "start = hl.cond(genes['hg38.knownGene.txStart'] < 20000, 1, genes['hg38.knownGene.txStart'] - 20000)\n",
    "stop =  hl.cond(hl.contig_length(genes['hg38.knownGene.chrom'], reference_genome='GRCh38') - genes['hg38.knownGene.txEnd'] < 20000, \n",
    "                hl.contig_length(genes['hg38.knownGene.chrom'], reference_genome='GRCh38'),\n",
    "                genes['hg38.knownGene.txEnd'] + 20000)\n",
    "\n",
    "genes = genes.transmute(interval = \n",
    "                        hl.locus_interval(genes['hg38.knownGene.chrom'], \n",
    "                                          start,\n",
    "                                          stop,\n",
    "                                          reference_genome='GRCh38'))"
   ]
  },
  {
   "cell_type": "code",
   "execution_count": null,
   "metadata": {},
   "outputs": [],
   "source": [
    "genes = genes.key_by(genes.interval)"
   ]
  },
  {
   "cell_type": "code",
   "execution_count": null,
   "metadata": {},
   "outputs": [],
   "source": [
    "gwas = hl.import_table('/net/archive/groups/plggneuromol/GTS-analysis/data/TS_Oct2018', delimiter=' ')"
   ]
  },
  {
   "cell_type": "code",
   "execution_count": null,
   "metadata": {},
   "outputs": [],
   "source": [
    "gwas = gwas.annotate(locus = hl.locus(gwas.CHR, hl.int32(gwas.BP), reference_genome='GRCh37'))"
   ]
  },
  {
   "cell_type": "code",
   "execution_count": null,
   "metadata": {},
   "outputs": [],
   "source": [
    "rg37 = hl.get_reference('GRCh37')  \n",
    "rg38 = hl.get_reference('GRCh38')  \n",
    "rg37.add_liftover('/net/archive/groups/plggneuromol/GTS-analysis/analysis/references_grch37_to_grch38.over.chain.gz', rg38)"
   ]
  },
  {
   "cell_type": "code",
   "execution_count": null,
   "metadata": {},
   "outputs": [],
   "source": [
    "gwas = gwas.annotate(hg39locus = hl.liftover(gwas.locus, 'GRCh38'))"
   ]
  },
  {
   "cell_type": "code",
   "execution_count": null,
   "metadata": {},
   "outputs": [],
   "source": [
    "gwas = gwas.annotate(nearest_genes_20kb = hl.array(hl.set(genes.index(gwas.hg39locus, all_matches=True)['hg38.kgXref.geneSymbol'])))"
   ]
  },
  {
   "cell_type": "code",
   "execution_count": null,
   "metadata": {},
   "outputs": [],
   "source": [
    "gwas.checkpoint('/net/archive/groups/plggneuromol/GTS-analysis/data/gwas.ht')"
   ]
  },
  {
   "cell_type": "code",
   "execution_count": null,
   "metadata": {},
   "outputs": [],
   "source": [
    "gwas = hl.read_table('/net/archive/groups/plggneuromol/GTS-analysis/data/gwas.ht')"
   ]
  },
  {
   "cell_type": "code",
   "execution_count": null,
   "metadata": {},
   "outputs": [],
   "source": [
    "top_genes = ['HDC', 'CHADL', 'MAOA', 'NAA11', 'PCDH10']"
   ]
  },
  {
   "cell_type": "code",
   "execution_count": null,
   "metadata": {},
   "outputs": [],
   "source": [
    "gwas_top = gwas.filter(hl.any(lambda x: hl.literal(top_genes).contains(x), gwas.nearest_genes_20kb))"
   ]
  },
  {
   "cell_type": "code",
   "execution_count": null,
   "metadata": {},
   "outputs": [],
   "source": [
    "p_top = gwas_top.P.collect()"
   ]
  },
  {
   "cell_type": "code",
   "execution_count": null,
   "metadata": {},
   "outputs": [],
   "source": [
    "p_hist = gwas_top.aggregate(hl.expr.aggregators.hist(hl.float64(gwas_top.P), 0, 1, 50))\n",
    "\n",
    "p = hl.plot.histogram(p_hist, legend='p', title='p_value_histogram')\n",
    "p.xaxis.axis_label_text_font_size = \"15pt\"\n",
    "p.xaxis.major_label_text_font_size = \"15pt\"\n",
    "p.yaxis.axis_label_text_font_size = \"15pt\"\n",
    "p.yaxis.major_label_text_font_size = \"15pt\"\n",
    "show(p)"
   ]
  },
  {
   "cell_type": "code",
   "execution_count": null,
   "metadata": {},
   "outputs": [],
   "source": [
    "genes_background = np.load('/net/archive/groups/plggneuromol/GTS-analysis/analysis/numpy/genes_background.npy')"
   ]
  },
  {
   "cell_type": "code",
   "execution_count": null,
   "metadata": {},
   "outputs": [],
   "source": [
    "p_values = []\n",
    "    \n",
    "for p in range(100):\n",
    "    randoms = np.random.randint(len(genes_background), size=5)\n",
    "    genes = [j for i, j in enumerate(genes_background) if i in randoms]\n",
    "        \n",
    "    p_value = gwas.filter(hl.any(lambda x: hl.literal(genes).contains(x), gwas.nearest_genes_20kb)).P.collect()\n",
    "    \n",
    "    p_values.append(p_value)"
   ]
  },
  {
   "cell_type": "code",
   "execution_count": null,
   "metadata": {},
   "outputs": [],
   "source": [
    "y = [float(i) for i in p_top]\n",
    "y = -np.log10(y)\n",
    "hist_top, edge_top = np.histogram(y, bins = 50)"
   ]
  },
  {
   "cell_type": "code",
   "execution_count": null,
   "metadata": {},
   "outputs": [],
   "source": [
    "import bokeh.palettes\n",
    "from bokeh.models import CategoricalColorMapper\n",
    "\n",
    "colors = bokeh.palettes.plasma(200)"
   ]
  },
  {
   "cell_type": "code",
   "execution_count": null,
   "metadata": {},
   "outputs": [],
   "source": [
    "histograms = []\n",
    "edges = []\n",
    "\n",
    "for p in p_values:\n",
    "    x = [float(i) for i in p]\n",
    "    x = -np.log10(x)\n",
    "    hist,edge = np.histogram(x, bins = 50)\n",
    "    histograms.append(hist)\n",
    "    edges.append(edge)"
   ]
  },
  {
   "cell_type": "code",
   "execution_count": null,
   "metadata": {},
   "outputs": [],
   "source": [
    "from bokeh.plotting import figure, show, output_notebook\n",
    "output_notebook()\n",
    "\n",
    "p1 = figure(plot_width=800, plot_height=800)\n",
    "\n",
    "for x in range(100):\n",
    "    p1.quad(top=np.log10(histograms[x]), bottom=0, left=edges[x][:-1], right=edges[x][1:],\n",
    "         fill_color=colors[100], line_color=colors[50], alpha=0.05)\n",
    "    \n",
    "p1.quad(top=np.log10(hist_top), bottom=0, left=edge_top[:-1], right=edge_top[1:],\n",
    "         fill_color=colors[0], line_color=colors[0], alpha=1)\n",
    "\n",
    "p1.xaxis.axis_label = '-log10(p_value)'\n",
    "p1.yaxis.axis_label = 'log10(number of SNPs)'\n",
    "\n",
    "p1.xaxis.axis_label_text_font_size = \"15pt\"\n",
    "p1.xaxis.major_label_text_font_size = \"15pt\"\n",
    "p1.yaxis.axis_label_text_font_size = \"15pt\"\n",
    "p1.yaxis.major_label_text_font_size = \"15pt\"\n",
    "\n",
    "show(p1)"
   ]
  },
  {
   "cell_type": "code",
   "execution_count": null,
   "metadata": {},
   "outputs": [],
   "source": [
    "p_all = []\n",
    "\n",
    "for p in p_values:\n",
    "    x = [float(i) for i in p]\n",
    "    x = -np.log10(x)\n",
    "    p_all.append(x)"
   ]
  },
  {
   "cell_type": "code",
   "execution_count": null,
   "metadata": {},
   "outputs": [],
   "source": [
    "import itertools\n",
    "\n",
    "p_all = (list(itertools.chain.from_iterable(p_all)))"
   ]
  },
  {
   "cell_type": "code",
   "execution_count": null,
   "metadata": {},
   "outputs": [],
   "source": [
    "np.percentile(p_all, 99)"
   ]
  },
  {
   "cell_type": "code",
   "execution_count": null,
   "metadata": {},
   "outputs": [],
   "source": [
    "-np.log10(0.008)"
   ]
  },
  {
   "cell_type": "code",
   "execution_count": null,
   "metadata": {},
   "outputs": [],
   "source": [
    "y.shape"
   ]
  },
  {
   "cell_type": "code",
   "execution_count": null,
   "metadata": {},
   "outputs": [],
   "source": [
    "np.sum(y > 2.09)#/np.shape(y)"
   ]
  },
  {
   "cell_type": "markdown",
   "metadata": {},
   "source": [
    "### For large families see if variants in additional genes segregate.\n",
    "Rule : at least 60% of individuals with GTS are non-ref and at less than 30% of controls are ref. CADD > 10\n"
   ]
  },
  {
   "cell_type": "code",
   "execution_count": null,
   "metadata": {},
   "outputs": [],
   "source": [
    "mt_test = hl.read_matrix_table('/net/archive/groups/plggneuromol/imdik-zekanowski-gts/data/mts/mt_test_10.mt')"
   ]
  },
  {
   "cell_type": "code",
   "execution_count": null,
   "metadata": {},
   "outputs": [],
   "source": [
    "families = ['A','B', 'C', 'D', 'E', 'F', 'G', 'H', 'I', 'J', 'K', 'L', 'M', 'N', 'O', 'P', 'R', 'S', 'T', 'U', 'W', 'X', 'Y', 'Z']"
   ]
  },
  {
   "cell_type": "code",
   "execution_count": null,
   "metadata": {},
   "outputs": [],
   "source": [
    "mt_test.count()"
   ]
  },
  {
   "cell_type": "markdown",
   "metadata": {},
   "source": [
    "variants with CADD > 10 that occur in any of the larger families"
   ]
  },
  {
   "cell_type": "code",
   "execution_count": null,
   "metadata": {},
   "outputs": [],
   "source": [
    "fams = mt_test.aggregate_cols(hl.agg.counter(mt_test.phenotypes.family))"
   ]
  },
  {
   "cell_type": "markdown",
   "metadata": {},
   "source": [
    "16 families with over 5 individuals are included:"
   ]
  },
  {
   "cell_type": "code",
   "execution_count": null,
   "metadata": {},
   "outputs": [],
   "source": [
    "list(np.array(list(fams.keys()))[np.array(list(fams.values())) > 4])"
   ]
  },
  {
   "cell_type": "markdown",
   "metadata": {},
   "source": [
    "each of the families should have at least two individuals with tics or GTS:"
   ]
  },
  {
   "cell_type": "code",
   "execution_count": null,
   "metadata": {},
   "outputs": [],
   "source": [
    "gts = mt_test.aggregate_cols(hl.agg.group_by(mt_test.phenotypes.family, hl.agg.counter(mt_test.phenotypes.disease)))"
   ]
  },
  {
   "cell_type": "code",
   "execution_count": null,
   "metadata": {},
   "outputs": [],
   "source": [
    "gts = { your_key: gts[your_key] for your_key in list(np.array(list(fams.keys()))[np.array(list(fams.values())) > 4]) }"
   ]
  },
  {
   "cell_type": "code",
   "execution_count": null,
   "metadata": {},
   "outputs": [],
   "source": [
    "gts"
   ]
  },
  {
   "cell_type": "code",
   "execution_count": null,
   "metadata": {},
   "outputs": [],
   "source": [
    "mt_test.aggregate_cols(hl.agg.counter(mt_test.phenotypes.disease))"
   ]
  },
  {
   "cell_type": "code",
   "execution_count": null,
   "metadata": {},
   "outputs": [],
   "source": [
    "mt_test.aggregate_cols(hl.agg.counter(mt_test.phenotypes.phenotype))"
   ]
  },
  {
   "cell_type": "markdown",
   "metadata": {},
   "source": [
    "### additionally we will remove families with only 1 or no controls :  U, H"
   ]
  },
  {
   "cell_type": "code",
   "execution_count": null,
   "metadata": {},
   "outputs": [],
   "source": [
    "fams_to_test = ['E', 'T', 'Y', 'J', 'F', 'A', 'I', 'B', 'C', 'W', 'R', 'D', 'S', 'X']"
   ]
  },
  {
   "cell_type": "code",
   "execution_count": null,
   "metadata": {},
   "outputs": [],
   "source": [
    "genes = ['DCC', 'RBFOX', 'SLC30A9', 'DCAF4L1', 'SORCS3', 'KCNQ5', 'KCNQ-IT1', 'APOPT1', 'C14orf2', 'NAA11', 'NEGR1',\n",
    "        'CHADL', 'SOX5', 'PANK2', 'COL27A1', 'PDGFB', 'CELSR3', 'OPA1', 'FBN2', 'WWC1', 'NIPBL', \n",
    "             'FN1', 'FBN2', 'SLITRK1', 'SLITRK2', 'SLITRK3', 'SLITRK4', 'SLITRK5', 'SLITRK6', \n",
    "             'HDC', 'OPRK1', 'PCDH10', 'NTSR2', 'OPRK1', 'CHD8', 'SCUBE1', 'PNKD', 'CNTNAP2', 'MOG', \n",
    "             'DRD2', 'DRD3', 'DRD4', 'DRD5', 'DAT1', 'DBH', 'HTR2A', 'TPH2', 'EAAT1', 'SAPAP3',\n",
    "            'CTNNA3', 'NLGN4', 'FSCB', 'IMMP2L', 'NRXN1', 'AADAC', 'DBH', 'MAOA', 'HTR1A', 'HTR2C', 'SLC6A4',\n",
    "             'TPH2', 'COL27A1', '5-HTTLPR', 'EAAT1', 'COL8A1', 'KCNE1', 'KCNE2',\n",
    "         'RICTOR', 'WWC1', 'CELSR3, NIPBL', 'FN1', 'PNKD', 'CDH26', 'CADM2', 'OPCML', 'CDH9',\n",
    "         'NCAM2', 'CD47', 'CDH5', 'CADM4', 'C1QBP', 'CTTN', 'LSAMP',\n",
    "         'PKP4', 'PCDH1', 'CNTNAP2', 'MBP', 'GABBR2', 'GABBR2', 'GRIK4', 'NCR1', 'FLT3', 'IL12A', 'HDAC9',\n",
    "         'CD180', 'CDH26', 'NCAM2', 'NTM', 'ROBO2']"
   ]
  },
  {
   "cell_type": "code",
   "execution_count": null,
   "metadata": {},
   "outputs": [],
   "source": [
    "mt = hl.read_matrix_table('/net/archive/groups/plggneuromol/GTS-analysis/data/mt_test_10.mt')"
   ]
  },
  {
   "cell_type": "code",
   "execution_count": null,
   "metadata": {
    "scrolled": true
   },
   "outputs": [],
   "source": [
    "mt.count()"
   ]
  },
  {
   "cell_type": "code",
   "execution_count": null,
   "metadata": {},
   "outputs": [],
   "source": [
    "mt = mt.filter_rows(hl.any(lambda x: hl.literal(genes).contains(x), mt.nearest_genes_20kb))\n",
    "mt = mt.filter_rows(hl.agg.any(mt.GT.is_non_ref()))"
   ]
  },
  {
   "cell_type": "code",
   "execution_count": null,
   "metadata": {
    "scrolled": true
   },
   "outputs": [],
   "source": [
    "mt.checkpoint('/net/archive/groups/plggneuromol/GTS-analysis/data/mt_86_genes_cadd_10.mt')"
   ]
  },
  {
   "cell_type": "code",
   "execution_count": null,
   "metadata": {},
   "outputs": [],
   "source": [
    "mt = hl.read_matrix_table('/net/archive/groups/plggneuromol/GTS-analysis/data/mt_86_genes_cadd_10.mt')"
   ]
  },
  {
   "cell_type": "code",
   "execution_count": null,
   "metadata": {},
   "outputs": [],
   "source": [
    "mt.count()"
   ]
  },
  {
   "cell_type": "code",
   "execution_count": null,
   "metadata": {},
   "outputs": [],
   "source": [
    "mt = mt.filter_cols(hl.set(fams_to_test).contains(mt.phenotypes.family))\n",
    "mt = mt.filter_rows(hl.agg.any(mt.GT.is_non_ref()))"
   ]
  },
  {
   "cell_type": "code",
   "execution_count": null,
   "metadata": {
    "scrolled": true
   },
   "outputs": [],
   "source": [
    "mt.checkpoint('/net/archive/groups/plggneuromol/GTS-analysis/data/mt_86_genes_cadd_10_fams.mt')"
   ]
  },
  {
   "cell_type": "code",
   "execution_count": null,
   "metadata": {},
   "outputs": [],
   "source": [
    "mt = hl.read_matrix_table('/net/archive/groups/plggneuromol/imdik-zekanowski-gts/data/mts/mt_86_genes_cadd_10_fams.mt')"
   ]
  },
  {
   "cell_type": "code",
   "execution_count": null,
   "metadata": {},
   "outputs": [],
   "source": [
    "mt_all = hl.read_matrix_table('/net/archive/groups/plggneuromol/imdik-zekanowski-gts/data/mts/GTS-with-pheno.mt')"
   ]
  },
  {
   "cell_type": "code",
   "execution_count": null,
   "metadata": {
    "scrolled": true
   },
   "outputs": [],
   "source": [
    "#reasigned phenotypes:\n",
    "pheno = hl.import_table('/net/archive/groups/plggneuromol/imdik-zekanowski-gts/data/pheno-and-gene-lists/GTS-coded-corrected-june-2021.csv', delimiter=',', impute=True,  quote='\\\"')"
   ]
  },
  {
   "cell_type": "code",
   "execution_count": null,
   "metadata": {},
   "outputs": [],
   "source": [
    "pheno = pheno.key_by(pheno.ID)"
   ]
  },
  {
   "cell_type": "code",
   "execution_count": null,
   "metadata": {},
   "outputs": [],
   "source": [
    "mt_all = mt_all.annotate_cols(phenotypes = pheno[mt_all.s])"
   ]
  },
  {
   "cell_type": "code",
   "execution_count": null,
   "metadata": {},
   "outputs": [],
   "source": [
    "mt_all.checkpoint('/net/archive/groups/plggneuromol/imdik-zekanowski-gts/data/mts/GTS-with-pheno-step1.mt')"
   ]
  },
  {
   "cell_type": "code",
   "execution_count": null,
   "metadata": {
    "scrolled": true
   },
   "outputs": [],
   "source": [
    "mt_all = mt_all.annotate_rows(cases_with_gts = hl.agg.group_by(mt_all.phenotypes.family, hl.agg.count_where(mt_all.phenotypes.disease == 'YES')),\n",
    "                      variants_with_gts = hl.agg.group_by((mt_all.phenotypes.family, mt_all.phenotypes.disease), hl.agg.count_where(mt_all.GT.is_non_ref())),\n",
    "                      carriers_in_families = hl.agg.group_by(mt_all.s, hl.agg.count_where(mt_all.GT.is_non_ref())),\n",
    "                      variants_in_sporadic_cases = hl.agg.group_by((mt_all.phenotypes.family, mt_all.phenotypes.disease), hl.agg.counter(mt_all.GT.is_non_ref()))\n",
    "                     )\n",
    "\n",
    "mt_all = mt_all.annotate_rows(sporadic_cases_non_refs = hl.if_else(mt_all.variants_in_sporadic_cases[('.','YES')].contains(True), \n",
    "                                                                mt_all.variants_in_sporadic_cases[('.','YES')][True],\n",
    "                                                                0),\n",
    "                             sporadic_cases_refs = hl.if_else(mt_all.variants_in_sporadic_cases[('.','YES')].contains(False), \n",
    "                                                                mt_all.variants_in_sporadic_cases[('.','YES')][False],\n",
    "                                                                0))\n",
    "\n",
    "mt_all = mt_all.annotate_rows(variants_in_familial = hl.agg.group_by((mt_all.phenotypes.disease), hl.agg.counter(mt_all.GT.is_non_ref())))\n",
    "\n",
    "mt_all = mt_all.annotate_rows(controls_non_refs = hl.if_else(mt_all.variants_in_familial['NO'].contains(True), \n",
    "                                                                mt_all.variants_in_familial['NO'][True],\n",
    "                                                                0),\n",
    "                              controls_refs = hl.if_else(mt_all.variants_in_familial['NO'].contains(False), \n",
    "                                                                mt_all.variants_in_familial['NO'][False],\n",
    "                                                                0),\n",
    "                              cases_non_refs = hl.if_else(mt_all.variants_in_familial['YES'].contains(True), \n",
    "                                                                mt_all.variants_in_familial['YES'][True],\n",
    "                                                                0),\n",
    "                              cases_refs = hl.if_else(mt_all.variants_in_familial['YES'].contains(False), \n",
    "                                                                mt_all.variants_in_familial['YES'][False],\n",
    "                                                                0))"
   ]
  },
  {
   "cell_type": "code",
   "execution_count": null,
   "metadata": {},
   "outputs": [],
   "source": [
    "mt_all.checkpoint('/net/archive/groups/plggneuromol/imdik-zekanowski-gts/data/mts/GTS-with-pheno-all.mt')"
   ]
  },
  {
   "cell_type": "code",
   "execution_count": null,
   "metadata": {},
   "outputs": [],
   "source": [
    "mt_all = hl.read_matrix_table('/net/archive/groups/plggneuromol/imdik-zekanowski-gts/data/mts/GTS-with-pheno-all.mt')"
   ]
  },
  {
   "cell_type": "code",
   "execution_count": null,
   "metadata": {},
   "outputs": [],
   "source": [
    "mt_all.count()"
   ]
  },
  {
   "cell_type": "code",
   "execution_count": null,
   "metadata": {},
   "outputs": [],
   "source": [
    "fams = []\n",
    "fam_hts = []\n",
    "for f in fams_to_test:\n",
    "    fam = mt.filter_cols(mt.phenotypes.family == f)\n",
    "    fam = fam.filter_rows((hl.agg.any(fam.GT.is_non_ref())))\n",
    "    fam = fam.annotate_rows(variants = hl.agg.group_by((fam.phenotypes.disease), hl.agg.count_where(fam.GT.is_non_ref())))\n",
    "    fam = fam.filter_rows(((fam.variants['NO']/gts[f]['NO']) < 0.2) & ((fam.variants['YES']/gts[f]['YES']) > 0.7))\n",
    "    fam = fam.annotate_rows(cases_refs = mt_all.index_rows(fam.row_key).cases_refs,\n",
    "                            cases_non_refs = mt_all.index_rows(fam.row_key).cases_non_refs,\n",
    "                            controls_refs = mt_all.index_rows(fam.row_key).controls_refs,\n",
    "                            controls_non_refs = mt_all.index_rows(fam.row_key).controls_non_refs)\n",
    "    fam = fam.filter_rows((fam.cases_non_refs/(fam.cases_refs + fam.cases_non_refs) > (fam.controls_non_refs/(fam.controls_refs + fam.controls_non_refs))))\n",
    "    fam = fam.filter_rows(fam.gnomad_v3.v3_nfe.AF < 0.05)\n",
    "    fam = fam.annotate_rows(non_refs_in_fam = hl.agg.group_by((fam.phenotypes.phenotype), hl.agg.count_where(fam.GT.is_non_ref())),\n",
    "                            refs_in_fam = hl.agg.group_by((fam.phenotypes.phenotype), hl.agg.count_where(fam.GT.is_hom_ref())),\n",
    "                            samples = hl.agg.filter(fam.GT.is_non_ref(), hl.agg.collect(fam.s))\n",
    "                           )\n",
    "    fam = fam.annotate_rows(non_refs_fam_controls = fam.non_refs_in_fam['.'],\n",
    "                            non_refs_fam_gts = fam.non_refs_in_fam['GTS'],\n",
    "                            non_refs_fam_tics = hl.cond(fam.non_refs_in_fam.contains('tics'), \n",
    "                                                                fam.non_refs_in_fam['tics'],\n",
    "                                                                0),\n",
    "                            refs_fam_controls = fam.refs_in_fam['.'],\n",
    "                            refs_fam_gts = fam.refs_in_fam['GTS'],\n",
    "                            refs_fam_tics = hl.cond(fam.refs_in_fam.contains('tics'), \n",
    "                                                                fam.refs_in_fam['tics'],\n",
    "                                                                0)\n",
    "                           )\n",
    "    fam = fam.rows()\n",
    "    fam = fam.select(fam.rsid, fam.gnomad_v3.v3_nfe.AF, fam.gnomad_v3.v3_nfe.homozygote_count, fam.gnomad_v3.most_severe_consequence,\n",
    "                    fam.hpo, fam.cadd, fam.nearest_genes_20kb, fam.cases_refs, fam.cases_non_refs, fam.controls_refs, fam.controls_non_refs,\n",
    "                    fam.samples, fam.non_refs_fam_controls, fam.non_refs_fam_gts, fam.non_refs_fam_tics, fam.refs_fam_controls, fam.refs_fam_gts, fam.refs_fam_tics)\n",
    "    fam_hts.append(fam)\n",
    "    \n",
    "    \n",
    "    fam = fam.to_pandas()\n",
    "    fams.append(fam)\n",
    "    fam.to_csv('/net/archive/groups/plggneuromol/imdik-zekanowski-gts/results/fam-analysis-'+f+'variants.csv')"
   ]
  },
  {
   "cell_type": "code",
   "execution_count": null,
   "metadata": {},
   "outputs": [],
   "source": [
    "len(fam_hts)"
   ]
  },
  {
   "cell_type": "code",
   "execution_count": null,
   "metadata": {},
   "outputs": [],
   "source": [
    "len(fams_to_test)"
   ]
  },
  {
   "cell_type": "code",
   "execution_count": null,
   "metadata": {},
   "outputs": [],
   "source": [
    "fam_hts[0].describe()"
   ]
  },
  {
   "cell_type": "code",
   "execution_count": null,
   "metadata": {},
   "outputs": [],
   "source": [
    "gene_dict = {}\n",
    "for idx, fam in enumerate(fams_to_test):\n",
    "    gene_dict[fam] = fam_hts[idx].nearest_genes_20kb.collect()"
   ]
  },
  {
   "cell_type": "code",
   "execution_count": null,
   "metadata": {},
   "outputs": [],
   "source": [
    "for key, value in gene_dict.items():\n",
    "    gene_dict[key] = (set(itertools.chain(*value)))"
   ]
  },
  {
   "cell_type": "code",
   "execution_count": null,
   "metadata": {},
   "outputs": [],
   "source": [
    "goi = {}\n",
    "for key, value in gene_dict.items():\n",
    "    new_value = []\n",
    "    for i in value:\n",
    "        if i in genes:\n",
    "            new_value.append(i)\n",
    "    goi[key] = new_value"
   ]
  },
  {
   "cell_type": "code",
   "execution_count": null,
   "metadata": {},
   "outputs": [],
   "source": [
    "top_genes = list(itertools.chain(*goi.values()))"
   ]
  },
  {
   "cell_type": "code",
   "execution_count": null,
   "metadata": {},
   "outputs": [],
   "source": [
    "cons_dict = {}\n",
    "for idx, fam in enumerate(fams_to_test):\n",
    "    cons_dict[fam] = fam_hts[idx].most_severe_consequence.collect()"
   ]
  },
  {
   "cell_type": "code",
   "execution_count": null,
   "metadata": {},
   "outputs": [],
   "source": [
    "from collections import Counter"
   ]
  },
  {
   "cell_type": "code",
   "execution_count": null,
   "metadata": {},
   "outputs": [],
   "source": [
    "Counter(list(itertools.chain(*cons_dict.values())))"
   ]
  },
  {
   "cell_type": "code",
   "execution_count": null,
   "metadata": {
    "scrolled": true
   },
   "outputs": [],
   "source": [
    "for f in fam_hts:\n",
    "    print(f.count())"
   ]
  },
  {
   "cell_type": "code",
   "execution_count": null,
   "metadata": {},
   "outputs": [],
   "source": [
    "from collections import Counter\n",
    "df = pd.DataFrame(list(Counter(top_genes).items()),columns = ['column1','column2'])"
   ]
  },
  {
   "cell_type": "code",
   "execution_count": null,
   "metadata": {},
   "outputs": [],
   "source": [
    "df[(df['column2'] > 2)]"
   ]
  },
  {
   "cell_type": "code",
   "execution_count": null,
   "metadata": {},
   "outputs": [],
   "source": [
    "df = pd.DataFrame(list(goi.items()),columns = ['family','genes'])"
   ]
  },
  {
   "cell_type": "code",
   "execution_count": null,
   "metadata": {},
   "outputs": [],
   "source": [
    "df.to_csv('/net/archive/groups/plggneuromol/imdik-zekanowski-gts/results/familial_genes_summary.csv')"
   ]
  }
 ],
 "metadata": {
  "kernelspec": {
   "display_name": "Python 3 (ipykernel)",
   "language": "python",
   "name": "python3"
  },
  "language_info": {
   "codemirror_mode": {
    "name": "ipython",
    "version": 3
   },
   "file_extension": ".py",
   "mimetype": "text/x-python",
   "name": "python",
   "nbconvert_exporter": "python",
   "pygments_lexer": "ipython3",
   "version": "3.7.7"
  }
 },
 "nbformat": 4,
 "nbformat_minor": 2
}
