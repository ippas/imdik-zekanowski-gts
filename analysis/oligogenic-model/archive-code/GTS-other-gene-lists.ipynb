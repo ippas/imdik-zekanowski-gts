{
 "cells": [
  {
   "cell_type": "code",
   "execution_count": 1,
   "metadata": {},
   "outputs": [
    {
     "data": {
      "text/html": [
       "<style>.container { width:100% !important; }</style>"
      ],
      "text/plain": [
       "<IPython.core.display.HTML object>"
      ]
     },
     "metadata": {},
     "output_type": "display_data"
    }
   ],
   "source": [
    "from IPython.display import display\n",
    "from IPython.display import HTML\n",
    "import IPython.core.display as di # Example: di.display_html('<h3>%s:</h3>' % str, raw=True)\n",
    "\n",
    "# This line will hide code by default when the notebook is exported as HTML\n",
    "# di.display_html('<script>jQuery(function() {if (jQuery(\"body.notebook_app\").length == 0) { jQuery(\".input_area\").toggle(); jQuery(\".prompt\").toggle();}});</script>', raw=True)\n",
    "\n",
    "display(HTML(\"<style>.container { width:100% !important; }</style>\"))"
   ]
  },
  {
   "cell_type": "code",
   "execution_count": null,
   "metadata": {
    "scrolled": true
   },
   "outputs": [],
   "source": [
    "import hail as hl\n",
    "hl.init(tmp_dir='/net/scratch/people/plggosborcz')"
   ]
  },
  {
   "cell_type": "code",
   "execution_count": null,
   "metadata": {},
   "outputs": [],
   "source": [
    "display(HTML(\"<style>.container { width:100% !important; }</style>\"))"
   ]
  },
  {
   "cell_type": "code",
   "execution_count": null,
   "metadata": {},
   "outputs": [],
   "source": [
    "from hail.plot import show\n",
    "from pprint import pprint\n",
    "from bokeh.layouts import gridplot\n",
    "hl.plot.output_notebook()\n",
    "\n",
    "import numpy as np\n",
    "import pandas as pd\n",
    "from functools import reduce\n",
    "from itertools import chain\n",
    "import statistics as stat\n",
    "\n",
    "import bokeh.palettes"
   ]
  },
  {
   "cell_type": "code",
   "execution_count": null,
   "metadata": {},
   "outputs": [],
   "source": [
    "from bokeh.plotting import figure, show, output_notebook\n",
    "output_notebook()"
   ]
  },
  {
   "cell_type": "markdown",
   "metadata": {},
   "source": [
    "## Load SKAT functions"
   ]
  },
  {
   "cell_type": "code",
   "execution_count": null,
   "metadata": {},
   "outputs": [],
   "source": [
    "def run_skat_log(mtx, gene_list, pcs):\n",
    "    \n",
    "    mtx = mtx.filter_rows(hl.any(lambda x: hl.literal(gene_list).contains(x), mtx.nearest_genes_20kb))\n",
    "    mtx = mtx.filter_rows(hl.agg.any(mtx.GT.is_non_ref()))\n",
    "    mtx = mtx.explode_rows(mtx.nearest_genes_20kb)\n",
    "    mtx = mtx.filter_rows(hl.literal(gene_list).contains(mtx.nearest_genes_20kb))\n",
    "    \n",
    "    \n",
    "    scores = [mtx.scores[x] for x in list(range(pcs))]\n",
    "                          \n",
    "    \n",
    "    skat_table = hl.skat(\n",
    "                         key_expr=mtx.nearest_genes_20kb,\n",
    "                         weight_expr=mtx.cadd,\n",
    "                         y=mtx.category,\n",
    "                         x=mtx.GT.n_alt_alleles(),\n",
    "                         covariates=[1] + scores,\n",
    "                         max_size = 2500,\n",
    "                         logistic = True)\n",
    "    \n",
    "    genes_result = skat_table.filter(skat_table.p_value < 0.05/len(gene_list)).id.collect() \n",
    "\n",
    "    \n",
    "    skat_table.order_by('p_value').show(20)\n",
    "    #skat_table.filter(skat_table.p_value < 0.002).show(20)\n",
    "\n",
    "    qq_plot = hl.plot.qq(skat_table.p_value)\n",
    "    qq_plot.xaxis.axis_label_text_font_size = \"15pt\"\n",
    "    qq_plot.xaxis.major_label_text_font_size = \"15pt\"\n",
    "    qq_plot.yaxis.axis_label_text_font_size = \"15pt\"\n",
    "    qq_plot.yaxis.major_label_text_font_size = \"15pt\"\n",
    "    \n",
    "    show(qq_plot)\n",
    "    \n",
    "    \n",
    "    return(skat_table, genes_result, qq_plot)"
   ]
  },
  {
   "cell_type": "code",
   "execution_count": null,
   "metadata": {},
   "outputs": [],
   "source": [
    "def test_model(geneset_name):  \n",
    "    for c_idx, c in enumerate(cadds):\n",
    "\n",
    "        test_asignment = np.zeros((len(top_genes), 145)) \n",
    "        mt_skat_log = hl.read_matrix_table('/net/archive/groups/plggneuromol/GTS-analysis/data/mt_for_skat_'+str(c)+'.mt')\n",
    "        mt_test_skat_log = hl.read_matrix_table('/net/archive/groups/plggneuromol/GTS-analysis/data/mt_test_'+str(c)+'.mt')\n",
    "      \n",
    "        for rows, n in enumerate(top_genes):\n",
    "\n",
    "            mt_skat_log_gene = mt_skat_log.filter_rows(mt_skat_log.nearest_genes_20kb.contains(n)) # to ma gnomadów i heavy tics\n",
    "        \n",
    "            mt_test_skat_log_gene = mt_test_skat_log.filter_rows(mt_test_skat_log.nearest_genes_20kb.contains(n)) # to ma rodziny\n",
    "\n",
    "            mt_skat_log_gene = mt_skat_log_gene.annotate_cols(non_refs = hl.agg.count_where(mt_skat_log_gene.GT.is_non_ref())) #count variants per sample of gnomads and heavy tics  \n",
    "            non_refs = mt_skat_log_gene.non_refs.collect()\n",
    "                                                \n",
    "            mt_test_skat_log_gene = mt_test_skat_log_gene.annotate_cols(non_refs = hl.agg.count_where(mt_test_skat_log_gene.GT.is_non_ref())) #count variants per sample, prepare also test matrix\n",
    "            non_refs_test = mt_test_skat_log_gene.non_refs.collect()\n",
    "\n",
    "            variants_controls = np.mean(np.array(non_refs)[np.invert(categories)])\n",
    "                \n",
    "            test_asignment[rows] = (non_refs_test - variants_controls)\n",
    "            \n",
    "            print(test_asignment.shape)\n",
    "                \n",
    "        for s in sets:\n",
    "        \n",
    "            test_asignment_subset = test_asignment[range(5-s,5), :]\n",
    "            \n",
    "            print(test_asignment_subset.shape)\n",
    "                \n",
    "            test_asignment_subset = np.sum(test_asignment_subset, axis = 0)\n",
    "                \n",
    "            false_pos = []\n",
    "            true_pos = []\n",
    "            \n",
    "            for x in np.linspace(-100,100,10000):\n",
    "            \n",
    "                false_pos.append(np.sum((test_asignment_subset > x)[np.invert(categories_test)])/56)\n",
    "                true_pos.append(np.sum((test_asignment_subset > x)[categories_test])/89)\n",
    "            \n",
    "            print(np.trapz(false_pos, true_pos))\n",
    "        \n",
    "            np.save('/net/archive/groups/plggneuromol/GTS-analysis/data/numpy/may-false_pos'+str(s)+'cadd'+str(c)+'gene'+geneset_name, false_pos)\n",
    "            np.save('/net/archive/groups/plggneuromol/GTS-analysis/data/numpy/may-true_pos'+str(s)+'cadd'+str(c)+'gene'+geneset_name, true_pos)\n",
    "\n",
    "    \n",
    "    false_pos = []\n",
    "    true_pos = []\n",
    "\n",
    "    for s in sets:\n",
    "        for c in cadds:\n",
    "            a = np.load('/net/archive/groups/plggneuromol/GTS-analysis/data/numpy/may-false_pos'+str(s)+'cadd'+str(c)+'gene'+geneset_name+'.npy')\n",
    "            b = np.load('/net/archive/groups/plggneuromol/GTS-analysis/data/numpy/may-true_pos'+str(s)+'cadd'+str(c)+'gene'+geneset_name+'.npy')\n",
    "            \n",
    "            if (a[0] == 1) & (a[9999] == 0) & (b[0] == 1) & (b[9999] == 0):\n",
    "                false_pos.append(a)\n",
    "                true_pos.append(b)\n",
    "\n",
    "    aucs = []\n",
    "    for i in range(0,14):\n",
    "        aucs.append(np.trapz(true_pos[i], false_pos[i]))\n",
    "\n",
    "    aucs = np.array(aucs)\n",
    "    print(aucs)\n",
    "\n",
    "    test1 = np.array(([0,1,2,4,5], [0,2,2,3,5]))\n",
    "    test2 = np.array(([1,1,1,1,1], [2,2,2,2,2]))\n",
    "\n",
    "    y = np.linspace(0,1,10)\n",
    "    x = np.linspace(0,1,10)\n",
    "\n",
    "    false_pos_ori = []\n",
    "    true_pos_ori = []\n",
    "\n",
    "    for s in sets:\n",
    "        for c in cadds:\n",
    "            false_pos_ori.append(np.load('/net/archive/groups/plggneuromol/GTS-analysis/data/numpy/may-false_pos'+str(s)+'cadd'+str(c)+'.npy'))\n",
    "            true_pos_ori.append(np.load('/net/archive/groups/plggneuromol/GTS-analysis/data/numpy/may-true_pos'+str(s)+'cadd'+str(c)+'.npy'))\n",
    "\n",
    "    p4 = figure(plot_width=800, plot_height=800)\n",
    "    p4.line(x, y, line_width=4, line_color='lightgrey')\n",
    "\n",
    "\n",
    "    for i in range(0,14):\n",
    "        p4.line(false_pos[i], true_pos[i], line_width=1, alpha=0.25)\n",
    "    \n",
    "    p4.line(false_pos_ori[13], true_pos_ori[13], line_width=4, line_color='orange')\n",
    "\n",
    "    p4.xaxis.axis_label = 'false positives'\n",
    "    p4.yaxis.axis_label = 'true positives'\n",
    "\n",
    "\n",
    "    p4.xaxis.axis_label_text_font_size = \"15pt\"\n",
    "    p4.xaxis.major_label_text_font_size = \"15pt\"\n",
    "    p4.yaxis.axis_label_text_font_size = \"15pt\"\n",
    "    p4.yaxis.major_label_text_font_size = \"15pt\"\n",
    "    p4.title.text = geneset_name\n",
    "    p4.title.text_font_size = \"20px\"\n",
    "\n",
    "    # show the results\n",
    "    show(p4)"
   ]
  },
  {
   "cell_type": "code",
   "execution_count": null,
   "metadata": {},
   "outputs": [],
   "source": [
    "sets = [2,3,4,5]\n",
    "cadds = [5,10,15,20]"
   ]
  },
  {
   "cell_type": "markdown",
   "metadata": {},
   "source": [
    "## Run SKAT on all genes"
   ]
  },
  {
   "cell_type": "code",
   "execution_count": null,
   "metadata": {
    "scrolled": false
   },
   "outputs": [],
   "source": [
    "allgenes= np.load('/net/archive/groups/plggneuromol/GTS-analysis/analysis/numpy/genes_background.npy')"
   ]
  },
  {
   "cell_type": "code",
   "execution_count": null,
   "metadata": {},
   "outputs": [],
   "source": [
    "allgenes.shape"
   ]
  },
  {
   "cell_type": "code",
   "execution_count": null,
   "metadata": {},
   "outputs": [],
   "source": [
    "mt = hl.read_matrix_table('/net/archive/groups/plggneuromol/GTS-analysis/data/mt-for-model-expanded-may.mt') #this goes into each model"
   ]
  },
  {
   "cell_type": "code",
   "execution_count": null,
   "metadata": {},
   "outputs": [],
   "source": [
    "mt_for_skat = hl.read_matrix_table('/net/archive/groups/plggneuromol/GTS-analysis/data/mt-for-skat-may.mt')\n",
    "mt_test = hl.read_matrix_table('/net/archive/groups/plggneuromol/GTS-analysis/data/mt-test-may.mt')\n",
    "categories = mt_for_skat.category.collect()\n",
    "categories_test = mt_test.category.collect()"
   ]
  },
  {
   "cell_type": "code",
   "execution_count": null,
   "metadata": {
    "scrolled": false
   },
   "outputs": [],
   "source": [
    "skat_table, genes_result, qq_plot = run_skat_log(mt, list(allgenes), 9)"
   ]
  },
  {
   "cell_type": "code",
   "execution_count": null,
   "metadata": {},
   "outputs": [],
   "source": [
    "skat_table.checkpoint('/net/archive/groups/plggneuromol/GTS-analysis/data/skat-all.mt')"
   ]
  },
  {
   "cell_type": "code",
   "execution_count": null,
   "metadata": {},
   "outputs": [],
   "source": [
    "#assign top genes manually\n",
    "top_genes = ['PCNT', 'CNN2', 'TMEM259', 'FRG2', 'DUX4']"
   ]
  },
  {
   "cell_type": "code",
   "execution_count": null,
   "metadata": {},
   "outputs": [],
   "source": [
    "test_model('allgenes')"
   ]
  },
  {
   "cell_type": "code",
   "execution_count": null,
   "metadata": {},
   "outputs": [],
   "source": [
    "geneset_name='allgenes'"
   ]
  },
  {
   "cell_type": "code",
   "execution_count": null,
   "metadata": {},
   "outputs": [],
   "source": [
    "false_pos = []\n",
    "true_pos = []\n",
    "\n",
    "for s in sets:\n",
    "    for c in cadds:\n",
    "        a = np.load('/net/archive/groups/plggneuromol/GTS-analysis/data/numpy/may-false_pos'+str(s)+'cadd'+str(c)+'gene'+geneset_name+'.npy')\n",
    "        b = np.load('/net/archive/groups/plggneuromol/GTS-analysis/data/numpy/may-true_pos'+str(s)+'cadd'+str(c)+'gene'+geneset_name+'.npy')\n",
    "           \n",
    "        if (a[0] == 1) & (a[9999] == 0) & (b[0] == 1) & (b[9999] == 0):\n",
    "            false_pos.append(a)\n",
    "            true_pos.append(b)"
   ]
  },
  {
   "cell_type": "code",
   "execution_count": null,
   "metadata": {},
   "outputs": [],
   "source": [
    "len(true_pos)"
   ]
  },
  {
   "cell_type": "code",
   "execution_count": null,
   "metadata": {},
   "outputs": [],
   "source": [
    "aucs = []\n",
    "\n",
    "for i in range(0,14):\n",
    "    aucs.append(np.trapz(true_pos[i], false_pos[i]))\n",
    "\n",
    "aucs = np.array(aucs)\n",
    "print(aucs)\n",
    "\n",
    "test1 = np.array(([0,1,2,4,5], [0,2,2,3,5]))\n",
    "test2 = np.array(([1,1,1,1,1], [2,2,2,2,2]))\n",
    "\n",
    "y = np.linspace(0,1,10)\n",
    "x = np.linspace(0,1,10)\n",
    "\n",
    "false_pos_ori = []\n",
    "true_pos_ori = []\n",
    "\n",
    "for s in sets:\n",
    "    for c in cadds:\n",
    "        false_pos_ori.append(np.load('/net/archive/groups/plggneuromol/GTS-analysis/data/numpy/may-false_pos'+str(s)+'cadd'+str(c)+'.npy'))\n",
    "        true_pos_ori.append(np.load('/net/archive/groups/plggneuromol/GTS-analysis/data/numpy/may-true_pos'+str(s)+'cadd'+str(c)+'.npy'))\n",
    "\n",
    "p4 = figure(plot_width=800, plot_height=800)\n",
    "p4.line(x, y, line_width=4, line_color='lightgrey')\n",
    "\n",
    "\n",
    "for i in range(0,14):\n",
    "    p4.line(false_pos[i], true_pos[i], line_width=1, alpha=0.25)\n",
    "\n",
    "p4.line(false_pos_ori[13], true_pos_ori[13], line_width=4, line_color='orange')\n",
    "\n",
    "p4.xaxis.axis_label = 'false positives'\n",
    "p4.yaxis.axis_label = 'true positives'\n",
    "\n",
    "\n",
    "p4.xaxis.axis_label_text_font_size = \"15pt\"\n",
    "p4.xaxis.major_label_text_font_size = \"15pt\"\n",
    "p4.yaxis.axis_label_text_font_size = \"15pt\"\n",
    "p4.yaxis.major_label_text_font_size = \"15pt\"\n",
    "p4.title.text = geneset_name\n",
    "p4.title.text_font_size = \"20px\"\n",
    "\n",
    "# show the results\n",
    "show(p4)"
   ]
  },
  {
   "cell_type": "markdown",
   "metadata": {},
   "source": [
    "## run model on other gene lists\n",
    "\n",
    "- brain enriched\n",
    "- other gene lists"
   ]
  },
  {
   "cell_type": "code",
   "execution_count": null,
   "metadata": {},
   "outputs": [],
   "source": [
    "genes_neuro = list(set([line.rstrip('\\n') for line in open('/net/archive/groups/plggneuromol/GTS-analysis/analysis/gts_gene_lists/brain_enriched.txt')]))"
   ]
  },
  {
   "cell_type": "code",
   "execution_count": null,
   "metadata": {},
   "outputs": [],
   "source": [
    "len(genes_neuro)"
   ]
  },
  {
   "cell_type": "code",
   "execution_count": null,
   "metadata": {
    "scrolled": false
   },
   "outputs": [],
   "source": [
    "skat, genes_result, qq_plot = run_skat_log(mt, genes_neuro, 9)"
   ]
  },
  {
   "cell_type": "markdown",
   "metadata": {},
   "source": [
    "#top genes:\n",
    "\n",
    "\"KCNK4\"\t81\t1.37e+03\t2.54e-05\t0\n",
    "\"S100B\"\t103\t8.07e+02\t6.18e-05\t0\n",
    "\"GABRA2\"\t375\t2.13e+03\t1.19e-04\t0\n",
    "\"GRM1\"\t575\t2.35e+03\t5.58e-04\t0\n",
    "\"ENO2\"\t73\t1.17e+03\t5.81e-04\t0"
   ]
  },
  {
   "cell_type": "code",
   "execution_count": null,
   "metadata": {
    "scrolled": false
   },
   "outputs": [],
   "source": [
    "top_genes = skat.order_by('p_value').id.take(5)\n",
    "test_model('neuro')"
   ]
  }
 ],
 "metadata": {
  "kernelspec": {
   "display_name": "Python 3 (ipykernel)",
   "language": "python",
   "name": "python3"
  },
  "language_info": {
   "codemirror_mode": {
    "name": "ipython",
    "version": 3
   },
   "file_extension": ".py",
   "mimetype": "text/x-python",
   "name": "python",
   "nbconvert_exporter": "python",
   "pygments_lexer": "ipython3",
   "version": "3.7.7"
  }
 },
 "nbformat": 4,
 "nbformat_minor": 2
}
