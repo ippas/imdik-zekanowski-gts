{
 "cells": [
  {
   "cell_type": "code",
   "execution_count": 1,
   "metadata": {},
   "outputs": [
    {
     "data": {
      "text/html": [
       "<style>.container { width:100% !important; }</style>"
      ],
      "text/plain": [
       "<IPython.core.display.HTML object>"
      ]
     },
     "metadata": {},
     "output_type": "display_data"
    }
   ],
   "source": [
    "from IPython.display import display\n",
    "from IPython.display import HTML\n",
    "import IPython.core.display as di # Example: di.display_html('<h3>%s:</h3>' % str, raw=True)\n",
    "\n",
    "# This line will hide code by default when the notebook is exported as HTML\n",
    "# di.display_html('<script>jQuery(function() {if (jQuery(\"body.notebook_app\").length == 0) { jQuery(\".input_area\").toggle(); jQuery(\".prompt\").toggle();}});</script>', raw=True)\n",
    "\n",
    "display(HTML(\"<style>.container { width:100% !important; }</style>\"))"
   ]
  },
  {
   "cell_type": "code",
   "execution_count": 2,
   "metadata": {},
   "outputs": [
    {
     "name": "stderr",
     "output_type": "stream",
     "text": [
      "Running on Apache Spark version 2.4.5\n",
      "SparkUI available at http://p0596.prometheus:4040\n",
      "Welcome to\n",
      "     __  __     <>__\n",
      "    / /_/ /__  __/ /\n",
      "   / __  / _ `/ / /\n",
      "  /_/ /_/\\_,_/_/_/   version 0.2.62-84fa81b9ea3d\n",
      "LOGGING: writing to /net/archive/groups/plggneuromol/imdik-zekanowski-gts/analysis/hail-20210724-1129-0.2.62-84fa81b9ea3d.log\n"
     ]
    }
   ],
   "source": [
    "import hail as hl\n",
    "hl.init(tmp_dir='/net/scratch/people/plggosborcz')"
   ]
  },
  {
   "cell_type": "code",
   "execution_count": 3,
   "metadata": {},
   "outputs": [
    {
     "data": {
      "text/html": [
       "<style>.container { width:100% !important; }</style>"
      ],
      "text/plain": [
       "<IPython.core.display.HTML object>"
      ]
     },
     "metadata": {},
     "output_type": "display_data"
    }
   ],
   "source": [
    "display(HTML(\"<style>.container { width:100% !important; }</style>\"))"
   ]
  },
  {
   "cell_type": "code",
   "execution_count": 4,
   "metadata": {},
   "outputs": [
    {
     "data": {
      "text/html": [
       "\n",
       "    <div class=\"bk-root\">\n",
       "        <a href=\"https://bokeh.org\" target=\"_blank\" class=\"bk-logo bk-logo-small bk-logo-notebook\"></a>\n",
       "        <span id=\"1001\">Loading BokehJS ...</span>\n",
       "    </div>"
      ]
     },
     "metadata": {},
     "output_type": "display_data"
    },
    {
     "data": {
      "application/javascript": [
       "\n",
       "(function(root) {\n",
       "  function now() {\n",
       "    return new Date();\n",
       "  }\n",
       "\n",
       "  var force = true;\n",
       "\n",
       "  if (typeof root._bokeh_onload_callbacks === \"undefined\" || force === true) {\n",
       "    root._bokeh_onload_callbacks = [];\n",
       "    root._bokeh_is_loading = undefined;\n",
       "  }\n",
       "\n",
       "  var JS_MIME_TYPE = 'application/javascript';\n",
       "  var HTML_MIME_TYPE = 'text/html';\n",
       "  var EXEC_MIME_TYPE = 'application/vnd.bokehjs_exec.v0+json';\n",
       "  var CLASS_NAME = 'output_bokeh rendered_html';\n",
       "\n",
       "  /**\n",
       "   * Render data to the DOM node\n",
       "   */\n",
       "  function render(props, node) {\n",
       "    var script = document.createElement(\"script\");\n",
       "    node.appendChild(script);\n",
       "  }\n",
       "\n",
       "  /**\n",
       "   * Handle when an output is cleared or removed\n",
       "   */\n",
       "  function handleClearOutput(event, handle) {\n",
       "    var cell = handle.cell;\n",
       "\n",
       "    var id = cell.output_area._bokeh_element_id;\n",
       "    var server_id = cell.output_area._bokeh_server_id;\n",
       "    // Clean up Bokeh references\n",
       "    if (id != null && id in Bokeh.index) {\n",
       "      Bokeh.index[id].model.document.clear();\n",
       "      delete Bokeh.index[id];\n",
       "    }\n",
       "\n",
       "    if (server_id !== undefined) {\n",
       "      // Clean up Bokeh references\n",
       "      var cmd = \"from bokeh.io.state import curstate; print(curstate().uuid_to_server['\" + server_id + \"'].get_sessions()[0].document.roots[0]._id)\";\n",
       "      cell.notebook.kernel.execute(cmd, {\n",
       "        iopub: {\n",
       "          output: function(msg) {\n",
       "            var id = msg.content.text.trim();\n",
       "            if (id in Bokeh.index) {\n",
       "              Bokeh.index[id].model.document.clear();\n",
       "              delete Bokeh.index[id];\n",
       "            }\n",
       "          }\n",
       "        }\n",
       "      });\n",
       "      // Destroy server and session\n",
       "      var cmd = \"import bokeh.io.notebook as ion; ion.destroy_server('\" + server_id + \"')\";\n",
       "      cell.notebook.kernel.execute(cmd);\n",
       "    }\n",
       "  }\n",
       "\n",
       "  /**\n",
       "   * Handle when a new output is added\n",
       "   */\n",
       "  function handleAddOutput(event, handle) {\n",
       "    var output_area = handle.output_area;\n",
       "    var output = handle.output;\n",
       "\n",
       "    // limit handleAddOutput to display_data with EXEC_MIME_TYPE content only\n",
       "    if ((output.output_type != \"display_data\") || (!output.data.hasOwnProperty(EXEC_MIME_TYPE))) {\n",
       "      return\n",
       "    }\n",
       "\n",
       "    var toinsert = output_area.element.find(\".\" + CLASS_NAME.split(' ')[0]);\n",
       "\n",
       "    if (output.metadata[EXEC_MIME_TYPE][\"id\"] !== undefined) {\n",
       "      toinsert[toinsert.length - 1].firstChild.textContent = output.data[JS_MIME_TYPE];\n",
       "      // store reference to embed id on output_area\n",
       "      output_area._bokeh_element_id = output.metadata[EXEC_MIME_TYPE][\"id\"];\n",
       "    }\n",
       "    if (output.metadata[EXEC_MIME_TYPE][\"server_id\"] !== undefined) {\n",
       "      var bk_div = document.createElement(\"div\");\n",
       "      bk_div.innerHTML = output.data[HTML_MIME_TYPE];\n",
       "      var script_attrs = bk_div.children[0].attributes;\n",
       "      for (var i = 0; i < script_attrs.length; i++) {\n",
       "        toinsert[toinsert.length - 1].firstChild.setAttribute(script_attrs[i].name, script_attrs[i].value);\n",
       "      }\n",
       "      // store reference to server id on output_area\n",
       "      output_area._bokeh_server_id = output.metadata[EXEC_MIME_TYPE][\"server_id\"];\n",
       "    }\n",
       "  }\n",
       "\n",
       "  function register_renderer(events, OutputArea) {\n",
       "\n",
       "    function append_mime(data, metadata, element) {\n",
       "      // create a DOM node to render to\n",
       "      var toinsert = this.create_output_subarea(\n",
       "        metadata,\n",
       "        CLASS_NAME,\n",
       "        EXEC_MIME_TYPE\n",
       "      );\n",
       "      this.keyboard_manager.register_events(toinsert);\n",
       "      // Render to node\n",
       "      var props = {data: data, metadata: metadata[EXEC_MIME_TYPE]};\n",
       "      render(props, toinsert[toinsert.length - 1]);\n",
       "      element.append(toinsert);\n",
       "      return toinsert\n",
       "    }\n",
       "\n",
       "    /* Handle when an output is cleared or removed */\n",
       "    events.on('clear_output.CodeCell', handleClearOutput);\n",
       "    events.on('delete.Cell', handleClearOutput);\n",
       "\n",
       "    /* Handle when a new output is added */\n",
       "    events.on('output_added.OutputArea', handleAddOutput);\n",
       "\n",
       "    /**\n",
       "     * Register the mime type and append_mime function with output_area\n",
       "     */\n",
       "    OutputArea.prototype.register_mime_type(EXEC_MIME_TYPE, append_mime, {\n",
       "      /* Is output safe? */\n",
       "      safe: true,\n",
       "      /* Index of renderer in `output_area.display_order` */\n",
       "      index: 0\n",
       "    });\n",
       "  }\n",
       "\n",
       "  // register the mime type if in Jupyter Notebook environment and previously unregistered\n",
       "  if (root.Jupyter !== undefined) {\n",
       "    var events = require('base/js/events');\n",
       "    var OutputArea = require('notebook/js/outputarea').OutputArea;\n",
       "\n",
       "    if (OutputArea.prototype.mime_types().indexOf(EXEC_MIME_TYPE) == -1) {\n",
       "      register_renderer(events, OutputArea);\n",
       "    }\n",
       "  }\n",
       "\n",
       "  \n",
       "  if (typeof (root._bokeh_timeout) === \"undefined\" || force === true) {\n",
       "    root._bokeh_timeout = Date.now() + 5000;\n",
       "    root._bokeh_failed_load = false;\n",
       "  }\n",
       "\n",
       "  var NB_LOAD_WARNING = {'data': {'text/html':\n",
       "     \"<div style='background-color: #fdd'>\\n\"+\n",
       "     \"<p>\\n\"+\n",
       "     \"BokehJS does not appear to have successfully loaded. If loading BokehJS from CDN, this \\n\"+\n",
       "     \"may be due to a slow or bad network connection. Possible fixes:\\n\"+\n",
       "     \"</p>\\n\"+\n",
       "     \"<ul>\\n\"+\n",
       "     \"<li>re-rerun `output_notebook()` to attempt to load from CDN again, or</li>\\n\"+\n",
       "     \"<li>use INLINE resources instead, as so:</li>\\n\"+\n",
       "     \"</ul>\\n\"+\n",
       "     \"<code>\\n\"+\n",
       "     \"from bokeh.resources import INLINE\\n\"+\n",
       "     \"output_notebook(resources=INLINE)\\n\"+\n",
       "     \"</code>\\n\"+\n",
       "     \"</div>\"}};\n",
       "\n",
       "  function display_loaded() {\n",
       "    var el = document.getElementById(\"1001\");\n",
       "    if (el != null) {\n",
       "      el.textContent = \"BokehJS is loading...\";\n",
       "    }\n",
       "    if (root.Bokeh !== undefined) {\n",
       "      if (el != null) {\n",
       "        el.textContent = \"BokehJS \" + root.Bokeh.version + \" successfully loaded.\";\n",
       "      }\n",
       "    } else if (Date.now() < root._bokeh_timeout) {\n",
       "      setTimeout(display_loaded, 100)\n",
       "    }\n",
       "  }\n",
       "\n",
       "\n",
       "  function run_callbacks() {\n",
       "    try {\n",
       "      root._bokeh_onload_callbacks.forEach(function(callback) {\n",
       "        if (callback != null)\n",
       "          callback();\n",
       "      });\n",
       "    } finally {\n",
       "      delete root._bokeh_onload_callbacks\n",
       "    }\n",
       "    console.debug(\"Bokeh: all callbacks have finished\");\n",
       "  }\n",
       "\n",
       "  function load_libs(css_urls, js_urls, callback) {\n",
       "    if (css_urls == null) css_urls = [];\n",
       "    if (js_urls == null) js_urls = [];\n",
       "\n",
       "    root._bokeh_onload_callbacks.push(callback);\n",
       "    if (root._bokeh_is_loading > 0) {\n",
       "      console.debug(\"Bokeh: BokehJS is being loaded, scheduling callback at\", now());\n",
       "      return null;\n",
       "    }\n",
       "    if (js_urls == null || js_urls.length === 0) {\n",
       "      run_callbacks();\n",
       "      return null;\n",
       "    }\n",
       "    console.debug(\"Bokeh: BokehJS not loaded, scheduling load and callback at\", now());\n",
       "    root._bokeh_is_loading = css_urls.length + js_urls.length;\n",
       "\n",
       "    function on_load() {\n",
       "      root._bokeh_is_loading--;\n",
       "      if (root._bokeh_is_loading === 0) {\n",
       "        console.debug(\"Bokeh: all BokehJS libraries/stylesheets loaded\");\n",
       "        run_callbacks()\n",
       "      }\n",
       "    }\n",
       "\n",
       "    function on_error() {\n",
       "      console.error(\"failed to load \" + url);\n",
       "    }\n",
       "\n",
       "    for (var i = 0; i < css_urls.length; i++) {\n",
       "      var url = css_urls[i];\n",
       "      const element = document.createElement(\"link\");\n",
       "      element.onload = on_load;\n",
       "      element.onerror = on_error;\n",
       "      element.rel = \"stylesheet\";\n",
       "      element.type = \"text/css\";\n",
       "      element.href = url;\n",
       "      console.debug(\"Bokeh: injecting link tag for BokehJS stylesheet: \", url);\n",
       "      document.body.appendChild(element);\n",
       "    }\n",
       "\n",
       "    for (var i = 0; i < js_urls.length; i++) {\n",
       "      var url = js_urls[i];\n",
       "      var element = document.createElement('script');\n",
       "      element.onload = on_load;\n",
       "      element.onerror = on_error;\n",
       "      element.async = false;\n",
       "      element.src = url;\n",
       "      console.debug(\"Bokeh: injecting script tag for BokehJS library: \", url);\n",
       "      document.head.appendChild(element);\n",
       "    }\n",
       "  };var element = document.getElementById(\"1001\");\n",
       "  if (element == null) {\n",
       "    console.error(\"Bokeh: ERROR: autoload.js configured with elementid '1001' but no matching script tag was found. \")\n",
       "    return false;\n",
       "  }\n",
       "\n",
       "  function inject_raw_css(css) {\n",
       "    const element = document.createElement(\"style\");\n",
       "    element.appendChild(document.createTextNode(css));\n",
       "    document.body.appendChild(element);\n",
       "  }\n",
       "\n",
       "  \n",
       "  var js_urls = [\"https://cdn.pydata.org/bokeh/release/bokeh-1.4.0.min.js\", \"https://cdn.pydata.org/bokeh/release/bokeh-widgets-1.4.0.min.js\", \"https://cdn.pydata.org/bokeh/release/bokeh-tables-1.4.0.min.js\", \"https://cdn.pydata.org/bokeh/release/bokeh-gl-1.4.0.min.js\"];\n",
       "  var css_urls = [];\n",
       "  \n",
       "\n",
       "  var inline_js = [\n",
       "    function(Bokeh) {\n",
       "      Bokeh.set_log_level(\"info\");\n",
       "    },\n",
       "    function(Bokeh) {\n",
       "    \n",
       "    \n",
       "    }\n",
       "  ];\n",
       "\n",
       "  function run_inline_js() {\n",
       "    \n",
       "    if (root.Bokeh !== undefined || force === true) {\n",
       "      \n",
       "    for (var i = 0; i < inline_js.length; i++) {\n",
       "      inline_js[i].call(root, root.Bokeh);\n",
       "    }\n",
       "    if (force === true) {\n",
       "        display_loaded();\n",
       "      }} else if (Date.now() < root._bokeh_timeout) {\n",
       "      setTimeout(run_inline_js, 100);\n",
       "    } else if (!root._bokeh_failed_load) {\n",
       "      console.log(\"Bokeh: BokehJS failed to load within specified timeout.\");\n",
       "      root._bokeh_failed_load = true;\n",
       "    } else if (force !== true) {\n",
       "      var cell = $(document.getElementById(\"1001\")).parents('.cell').data().cell;\n",
       "      cell.output_area.append_execute_result(NB_LOAD_WARNING)\n",
       "    }\n",
       "\n",
       "  }\n",
       "\n",
       "  if (root._bokeh_is_loading === 0) {\n",
       "    console.debug(\"Bokeh: BokehJS loaded, going straight to plotting\");\n",
       "    run_inline_js();\n",
       "  } else {\n",
       "    load_libs(css_urls, js_urls, function() {\n",
       "      console.debug(\"Bokeh: BokehJS plotting callback run at\", now());\n",
       "      run_inline_js();\n",
       "    });\n",
       "  }\n",
       "}(window));"
      ],
      "application/vnd.bokehjs_load.v0+json": "\n(function(root) {\n  function now() {\n    return new Date();\n  }\n\n  var force = true;\n\n  if (typeof root._bokeh_onload_callbacks === \"undefined\" || force === true) {\n    root._bokeh_onload_callbacks = [];\n    root._bokeh_is_loading = undefined;\n  }\n\n  \n\n  \n  if (typeof (root._bokeh_timeout) === \"undefined\" || force === true) {\n    root._bokeh_timeout = Date.now() + 5000;\n    root._bokeh_failed_load = false;\n  }\n\n  var NB_LOAD_WARNING = {'data': {'text/html':\n     \"<div style='background-color: #fdd'>\\n\"+\n     \"<p>\\n\"+\n     \"BokehJS does not appear to have successfully loaded. If loading BokehJS from CDN, this \\n\"+\n     \"may be due to a slow or bad network connection. Possible fixes:\\n\"+\n     \"</p>\\n\"+\n     \"<ul>\\n\"+\n     \"<li>re-rerun `output_notebook()` to attempt to load from CDN again, or</li>\\n\"+\n     \"<li>use INLINE resources instead, as so:</li>\\n\"+\n     \"</ul>\\n\"+\n     \"<code>\\n\"+\n     \"from bokeh.resources import INLINE\\n\"+\n     \"output_notebook(resources=INLINE)\\n\"+\n     \"</code>\\n\"+\n     \"</div>\"}};\n\n  function display_loaded() {\n    var el = document.getElementById(\"1001\");\n    if (el != null) {\n      el.textContent = \"BokehJS is loading...\";\n    }\n    if (root.Bokeh !== undefined) {\n      if (el != null) {\n        el.textContent = \"BokehJS \" + root.Bokeh.version + \" successfully loaded.\";\n      }\n    } else if (Date.now() < root._bokeh_timeout) {\n      setTimeout(display_loaded, 100)\n    }\n  }\n\n\n  function run_callbacks() {\n    try {\n      root._bokeh_onload_callbacks.forEach(function(callback) {\n        if (callback != null)\n          callback();\n      });\n    } finally {\n      delete root._bokeh_onload_callbacks\n    }\n    console.debug(\"Bokeh: all callbacks have finished\");\n  }\n\n  function load_libs(css_urls, js_urls, callback) {\n    if (css_urls == null) css_urls = [];\n    if (js_urls == null) js_urls = [];\n\n    root._bokeh_onload_callbacks.push(callback);\n    if (root._bokeh_is_loading > 0) {\n      console.debug(\"Bokeh: BokehJS is being loaded, scheduling callback at\", now());\n      return null;\n    }\n    if (js_urls == null || js_urls.length === 0) {\n      run_callbacks();\n      return null;\n    }\n    console.debug(\"Bokeh: BokehJS not loaded, scheduling load and callback at\", now());\n    root._bokeh_is_loading = css_urls.length + js_urls.length;\n\n    function on_load() {\n      root._bokeh_is_loading--;\n      if (root._bokeh_is_loading === 0) {\n        console.debug(\"Bokeh: all BokehJS libraries/stylesheets loaded\");\n        run_callbacks()\n      }\n    }\n\n    function on_error() {\n      console.error(\"failed to load \" + url);\n    }\n\n    for (var i = 0; i < css_urls.length; i++) {\n      var url = css_urls[i];\n      const element = document.createElement(\"link\");\n      element.onload = on_load;\n      element.onerror = on_error;\n      element.rel = \"stylesheet\";\n      element.type = \"text/css\";\n      element.href = url;\n      console.debug(\"Bokeh: injecting link tag for BokehJS stylesheet: \", url);\n      document.body.appendChild(element);\n    }\n\n    for (var i = 0; i < js_urls.length; i++) {\n      var url = js_urls[i];\n      var element = document.createElement('script');\n      element.onload = on_load;\n      element.onerror = on_error;\n      element.async = false;\n      element.src = url;\n      console.debug(\"Bokeh: injecting script tag for BokehJS library: \", url);\n      document.head.appendChild(element);\n    }\n  };var element = document.getElementById(\"1001\");\n  if (element == null) {\n    console.error(\"Bokeh: ERROR: autoload.js configured with elementid '1001' but no matching script tag was found. \")\n    return false;\n  }\n\n  function inject_raw_css(css) {\n    const element = document.createElement(\"style\");\n    element.appendChild(document.createTextNode(css));\n    document.body.appendChild(element);\n  }\n\n  \n  var js_urls = [\"https://cdn.pydata.org/bokeh/release/bokeh-1.4.0.min.js\", \"https://cdn.pydata.org/bokeh/release/bokeh-widgets-1.4.0.min.js\", \"https://cdn.pydata.org/bokeh/release/bokeh-tables-1.4.0.min.js\", \"https://cdn.pydata.org/bokeh/release/bokeh-gl-1.4.0.min.js\"];\n  var css_urls = [];\n  \n\n  var inline_js = [\n    function(Bokeh) {\n      Bokeh.set_log_level(\"info\");\n    },\n    function(Bokeh) {\n    \n    \n    }\n  ];\n\n  function run_inline_js() {\n    \n    if (root.Bokeh !== undefined || force === true) {\n      \n    for (var i = 0; i < inline_js.length; i++) {\n      inline_js[i].call(root, root.Bokeh);\n    }\n    if (force === true) {\n        display_loaded();\n      }} else if (Date.now() < root._bokeh_timeout) {\n      setTimeout(run_inline_js, 100);\n    } else if (!root._bokeh_failed_load) {\n      console.log(\"Bokeh: BokehJS failed to load within specified timeout.\");\n      root._bokeh_failed_load = true;\n    } else if (force !== true) {\n      var cell = $(document.getElementById(\"1001\")).parents('.cell').data().cell;\n      cell.output_area.append_execute_result(NB_LOAD_WARNING)\n    }\n\n  }\n\n  if (root._bokeh_is_loading === 0) {\n    console.debug(\"Bokeh: BokehJS loaded, going straight to plotting\");\n    run_inline_js();\n  } else {\n    load_libs(css_urls, js_urls, function() {\n      console.debug(\"Bokeh: BokehJS plotting callback run at\", now());\n      run_inline_js();\n    });\n  }\n}(window));"
     },
     "metadata": {},
     "output_type": "display_data"
    }
   ],
   "source": [
    "from hail.plot import show\n",
    "from pprint import pprint\n",
    "from bokeh.layouts import gridplot\n",
    "hl.plot.output_notebook()\n",
    "\n",
    "import numpy as np\n",
    "import pandas as pd\n",
    "from functools import reduce\n",
    "from itertools import chain\n",
    "import statistics as stat\n",
    "\n",
    "import bokeh.palettes\n",
    "import itertools"
   ]
  },
  {
   "cell_type": "code",
   "execution_count": 5,
   "metadata": {},
   "outputs": [
    {
     "data": {
      "text/html": [
       "\n",
       "    <div class=\"bk-root\">\n",
       "        <a href=\"https://bokeh.org\" target=\"_blank\" class=\"bk-logo bk-logo-small bk-logo-notebook\"></a>\n",
       "        <span id=\"1002\">Loading BokehJS ...</span>\n",
       "    </div>"
      ]
     },
     "metadata": {},
     "output_type": "display_data"
    },
    {
     "data": {
      "application/javascript": [
       "\n",
       "(function(root) {\n",
       "  function now() {\n",
       "    return new Date();\n",
       "  }\n",
       "\n",
       "  var force = true;\n",
       "\n",
       "  if (typeof root._bokeh_onload_callbacks === \"undefined\" || force === true) {\n",
       "    root._bokeh_onload_callbacks = [];\n",
       "    root._bokeh_is_loading = undefined;\n",
       "  }\n",
       "\n",
       "  var JS_MIME_TYPE = 'application/javascript';\n",
       "  var HTML_MIME_TYPE = 'text/html';\n",
       "  var EXEC_MIME_TYPE = 'application/vnd.bokehjs_exec.v0+json';\n",
       "  var CLASS_NAME = 'output_bokeh rendered_html';\n",
       "\n",
       "  /**\n",
       "   * Render data to the DOM node\n",
       "   */\n",
       "  function render(props, node) {\n",
       "    var script = document.createElement(\"script\");\n",
       "    node.appendChild(script);\n",
       "  }\n",
       "\n",
       "  /**\n",
       "   * Handle when an output is cleared or removed\n",
       "   */\n",
       "  function handleClearOutput(event, handle) {\n",
       "    var cell = handle.cell;\n",
       "\n",
       "    var id = cell.output_area._bokeh_element_id;\n",
       "    var server_id = cell.output_area._bokeh_server_id;\n",
       "    // Clean up Bokeh references\n",
       "    if (id != null && id in Bokeh.index) {\n",
       "      Bokeh.index[id].model.document.clear();\n",
       "      delete Bokeh.index[id];\n",
       "    }\n",
       "\n",
       "    if (server_id !== undefined) {\n",
       "      // Clean up Bokeh references\n",
       "      var cmd = \"from bokeh.io.state import curstate; print(curstate().uuid_to_server['\" + server_id + \"'].get_sessions()[0].document.roots[0]._id)\";\n",
       "      cell.notebook.kernel.execute(cmd, {\n",
       "        iopub: {\n",
       "          output: function(msg) {\n",
       "            var id = msg.content.text.trim();\n",
       "            if (id in Bokeh.index) {\n",
       "              Bokeh.index[id].model.document.clear();\n",
       "              delete Bokeh.index[id];\n",
       "            }\n",
       "          }\n",
       "        }\n",
       "      });\n",
       "      // Destroy server and session\n",
       "      var cmd = \"import bokeh.io.notebook as ion; ion.destroy_server('\" + server_id + \"')\";\n",
       "      cell.notebook.kernel.execute(cmd);\n",
       "    }\n",
       "  }\n",
       "\n",
       "  /**\n",
       "   * Handle when a new output is added\n",
       "   */\n",
       "  function handleAddOutput(event, handle) {\n",
       "    var output_area = handle.output_area;\n",
       "    var output = handle.output;\n",
       "\n",
       "    // limit handleAddOutput to display_data with EXEC_MIME_TYPE content only\n",
       "    if ((output.output_type != \"display_data\") || (!output.data.hasOwnProperty(EXEC_MIME_TYPE))) {\n",
       "      return\n",
       "    }\n",
       "\n",
       "    var toinsert = output_area.element.find(\".\" + CLASS_NAME.split(' ')[0]);\n",
       "\n",
       "    if (output.metadata[EXEC_MIME_TYPE][\"id\"] !== undefined) {\n",
       "      toinsert[toinsert.length - 1].firstChild.textContent = output.data[JS_MIME_TYPE];\n",
       "      // store reference to embed id on output_area\n",
       "      output_area._bokeh_element_id = output.metadata[EXEC_MIME_TYPE][\"id\"];\n",
       "    }\n",
       "    if (output.metadata[EXEC_MIME_TYPE][\"server_id\"] !== undefined) {\n",
       "      var bk_div = document.createElement(\"div\");\n",
       "      bk_div.innerHTML = output.data[HTML_MIME_TYPE];\n",
       "      var script_attrs = bk_div.children[0].attributes;\n",
       "      for (var i = 0; i < script_attrs.length; i++) {\n",
       "        toinsert[toinsert.length - 1].firstChild.setAttribute(script_attrs[i].name, script_attrs[i].value);\n",
       "      }\n",
       "      // store reference to server id on output_area\n",
       "      output_area._bokeh_server_id = output.metadata[EXEC_MIME_TYPE][\"server_id\"];\n",
       "    }\n",
       "  }\n",
       "\n",
       "  function register_renderer(events, OutputArea) {\n",
       "\n",
       "    function append_mime(data, metadata, element) {\n",
       "      // create a DOM node to render to\n",
       "      var toinsert = this.create_output_subarea(\n",
       "        metadata,\n",
       "        CLASS_NAME,\n",
       "        EXEC_MIME_TYPE\n",
       "      );\n",
       "      this.keyboard_manager.register_events(toinsert);\n",
       "      // Render to node\n",
       "      var props = {data: data, metadata: metadata[EXEC_MIME_TYPE]};\n",
       "      render(props, toinsert[toinsert.length - 1]);\n",
       "      element.append(toinsert);\n",
       "      return toinsert\n",
       "    }\n",
       "\n",
       "    /* Handle when an output is cleared or removed */\n",
       "    events.on('clear_output.CodeCell', handleClearOutput);\n",
       "    events.on('delete.Cell', handleClearOutput);\n",
       "\n",
       "    /* Handle when a new output is added */\n",
       "    events.on('output_added.OutputArea', handleAddOutput);\n",
       "\n",
       "    /**\n",
       "     * Register the mime type and append_mime function with output_area\n",
       "     */\n",
       "    OutputArea.prototype.register_mime_type(EXEC_MIME_TYPE, append_mime, {\n",
       "      /* Is output safe? */\n",
       "      safe: true,\n",
       "      /* Index of renderer in `output_area.display_order` */\n",
       "      index: 0\n",
       "    });\n",
       "  }\n",
       "\n",
       "  // register the mime type if in Jupyter Notebook environment and previously unregistered\n",
       "  if (root.Jupyter !== undefined) {\n",
       "    var events = require('base/js/events');\n",
       "    var OutputArea = require('notebook/js/outputarea').OutputArea;\n",
       "\n",
       "    if (OutputArea.prototype.mime_types().indexOf(EXEC_MIME_TYPE) == -1) {\n",
       "      register_renderer(events, OutputArea);\n",
       "    }\n",
       "  }\n",
       "\n",
       "  \n",
       "  if (typeof (root._bokeh_timeout) === \"undefined\" || force === true) {\n",
       "    root._bokeh_timeout = Date.now() + 5000;\n",
       "    root._bokeh_failed_load = false;\n",
       "  }\n",
       "\n",
       "  var NB_LOAD_WARNING = {'data': {'text/html':\n",
       "     \"<div style='background-color: #fdd'>\\n\"+\n",
       "     \"<p>\\n\"+\n",
       "     \"BokehJS does not appear to have successfully loaded. If loading BokehJS from CDN, this \\n\"+\n",
       "     \"may be due to a slow or bad network connection. Possible fixes:\\n\"+\n",
       "     \"</p>\\n\"+\n",
       "     \"<ul>\\n\"+\n",
       "     \"<li>re-rerun `output_notebook()` to attempt to load from CDN again, or</li>\\n\"+\n",
       "     \"<li>use INLINE resources instead, as so:</li>\\n\"+\n",
       "     \"</ul>\\n\"+\n",
       "     \"<code>\\n\"+\n",
       "     \"from bokeh.resources import INLINE\\n\"+\n",
       "     \"output_notebook(resources=INLINE)\\n\"+\n",
       "     \"</code>\\n\"+\n",
       "     \"</div>\"}};\n",
       "\n",
       "  function display_loaded() {\n",
       "    var el = document.getElementById(\"1002\");\n",
       "    if (el != null) {\n",
       "      el.textContent = \"BokehJS is loading...\";\n",
       "    }\n",
       "    if (root.Bokeh !== undefined) {\n",
       "      if (el != null) {\n",
       "        el.textContent = \"BokehJS \" + root.Bokeh.version + \" successfully loaded.\";\n",
       "      }\n",
       "    } else if (Date.now() < root._bokeh_timeout) {\n",
       "      setTimeout(display_loaded, 100)\n",
       "    }\n",
       "  }\n",
       "\n",
       "\n",
       "  function run_callbacks() {\n",
       "    try {\n",
       "      root._bokeh_onload_callbacks.forEach(function(callback) {\n",
       "        if (callback != null)\n",
       "          callback();\n",
       "      });\n",
       "    } finally {\n",
       "      delete root._bokeh_onload_callbacks\n",
       "    }\n",
       "    console.debug(\"Bokeh: all callbacks have finished\");\n",
       "  }\n",
       "\n",
       "  function load_libs(css_urls, js_urls, callback) {\n",
       "    if (css_urls == null) css_urls = [];\n",
       "    if (js_urls == null) js_urls = [];\n",
       "\n",
       "    root._bokeh_onload_callbacks.push(callback);\n",
       "    if (root._bokeh_is_loading > 0) {\n",
       "      console.debug(\"Bokeh: BokehJS is being loaded, scheduling callback at\", now());\n",
       "      return null;\n",
       "    }\n",
       "    if (js_urls == null || js_urls.length === 0) {\n",
       "      run_callbacks();\n",
       "      return null;\n",
       "    }\n",
       "    console.debug(\"Bokeh: BokehJS not loaded, scheduling load and callback at\", now());\n",
       "    root._bokeh_is_loading = css_urls.length + js_urls.length;\n",
       "\n",
       "    function on_load() {\n",
       "      root._bokeh_is_loading--;\n",
       "      if (root._bokeh_is_loading === 0) {\n",
       "        console.debug(\"Bokeh: all BokehJS libraries/stylesheets loaded\");\n",
       "        run_callbacks()\n",
       "      }\n",
       "    }\n",
       "\n",
       "    function on_error() {\n",
       "      console.error(\"failed to load \" + url);\n",
       "    }\n",
       "\n",
       "    for (var i = 0; i < css_urls.length; i++) {\n",
       "      var url = css_urls[i];\n",
       "      const element = document.createElement(\"link\");\n",
       "      element.onload = on_load;\n",
       "      element.onerror = on_error;\n",
       "      element.rel = \"stylesheet\";\n",
       "      element.type = \"text/css\";\n",
       "      element.href = url;\n",
       "      console.debug(\"Bokeh: injecting link tag for BokehJS stylesheet: \", url);\n",
       "      document.body.appendChild(element);\n",
       "    }\n",
       "\n",
       "    for (var i = 0; i < js_urls.length; i++) {\n",
       "      var url = js_urls[i];\n",
       "      var element = document.createElement('script');\n",
       "      element.onload = on_load;\n",
       "      element.onerror = on_error;\n",
       "      element.async = false;\n",
       "      element.src = url;\n",
       "      console.debug(\"Bokeh: injecting script tag for BokehJS library: \", url);\n",
       "      document.head.appendChild(element);\n",
       "    }\n",
       "  };var element = document.getElementById(\"1002\");\n",
       "  if (element == null) {\n",
       "    console.error(\"Bokeh: ERROR: autoload.js configured with elementid '1002' but no matching script tag was found. \")\n",
       "    return false;\n",
       "  }\n",
       "\n",
       "  function inject_raw_css(css) {\n",
       "    const element = document.createElement(\"style\");\n",
       "    element.appendChild(document.createTextNode(css));\n",
       "    document.body.appendChild(element);\n",
       "  }\n",
       "\n",
       "  \n",
       "  var js_urls = [\"https://cdn.pydata.org/bokeh/release/bokeh-1.4.0.min.js\", \"https://cdn.pydata.org/bokeh/release/bokeh-widgets-1.4.0.min.js\", \"https://cdn.pydata.org/bokeh/release/bokeh-tables-1.4.0.min.js\", \"https://cdn.pydata.org/bokeh/release/bokeh-gl-1.4.0.min.js\"];\n",
       "  var css_urls = [];\n",
       "  \n",
       "\n",
       "  var inline_js = [\n",
       "    function(Bokeh) {\n",
       "      Bokeh.set_log_level(\"info\");\n",
       "    },\n",
       "    function(Bokeh) {\n",
       "    \n",
       "    \n",
       "    }\n",
       "  ];\n",
       "\n",
       "  function run_inline_js() {\n",
       "    \n",
       "    if (root.Bokeh !== undefined || force === true) {\n",
       "      \n",
       "    for (var i = 0; i < inline_js.length; i++) {\n",
       "      inline_js[i].call(root, root.Bokeh);\n",
       "    }\n",
       "    if (force === true) {\n",
       "        display_loaded();\n",
       "      }} else if (Date.now() < root._bokeh_timeout) {\n",
       "      setTimeout(run_inline_js, 100);\n",
       "    } else if (!root._bokeh_failed_load) {\n",
       "      console.log(\"Bokeh: BokehJS failed to load within specified timeout.\");\n",
       "      root._bokeh_failed_load = true;\n",
       "    } else if (force !== true) {\n",
       "      var cell = $(document.getElementById(\"1002\")).parents('.cell').data().cell;\n",
       "      cell.output_area.append_execute_result(NB_LOAD_WARNING)\n",
       "    }\n",
       "\n",
       "  }\n",
       "\n",
       "  if (root._bokeh_is_loading === 0) {\n",
       "    console.debug(\"Bokeh: BokehJS loaded, going straight to plotting\");\n",
       "    run_inline_js();\n",
       "  } else {\n",
       "    load_libs(css_urls, js_urls, function() {\n",
       "      console.debug(\"Bokeh: BokehJS plotting callback run at\", now());\n",
       "      run_inline_js();\n",
       "    });\n",
       "  }\n",
       "}(window));"
      ],
      "application/vnd.bokehjs_load.v0+json": "\n(function(root) {\n  function now() {\n    return new Date();\n  }\n\n  var force = true;\n\n  if (typeof root._bokeh_onload_callbacks === \"undefined\" || force === true) {\n    root._bokeh_onload_callbacks = [];\n    root._bokeh_is_loading = undefined;\n  }\n\n  \n\n  \n  if (typeof (root._bokeh_timeout) === \"undefined\" || force === true) {\n    root._bokeh_timeout = Date.now() + 5000;\n    root._bokeh_failed_load = false;\n  }\n\n  var NB_LOAD_WARNING = {'data': {'text/html':\n     \"<div style='background-color: #fdd'>\\n\"+\n     \"<p>\\n\"+\n     \"BokehJS does not appear to have successfully loaded. If loading BokehJS from CDN, this \\n\"+\n     \"may be due to a slow or bad network connection. Possible fixes:\\n\"+\n     \"</p>\\n\"+\n     \"<ul>\\n\"+\n     \"<li>re-rerun `output_notebook()` to attempt to load from CDN again, or</li>\\n\"+\n     \"<li>use INLINE resources instead, as so:</li>\\n\"+\n     \"</ul>\\n\"+\n     \"<code>\\n\"+\n     \"from bokeh.resources import INLINE\\n\"+\n     \"output_notebook(resources=INLINE)\\n\"+\n     \"</code>\\n\"+\n     \"</div>\"}};\n\n  function display_loaded() {\n    var el = document.getElementById(\"1002\");\n    if (el != null) {\n      el.textContent = \"BokehJS is loading...\";\n    }\n    if (root.Bokeh !== undefined) {\n      if (el != null) {\n        el.textContent = \"BokehJS \" + root.Bokeh.version + \" successfully loaded.\";\n      }\n    } else if (Date.now() < root._bokeh_timeout) {\n      setTimeout(display_loaded, 100)\n    }\n  }\n\n\n  function run_callbacks() {\n    try {\n      root._bokeh_onload_callbacks.forEach(function(callback) {\n        if (callback != null)\n          callback();\n      });\n    } finally {\n      delete root._bokeh_onload_callbacks\n    }\n    console.debug(\"Bokeh: all callbacks have finished\");\n  }\n\n  function load_libs(css_urls, js_urls, callback) {\n    if (css_urls == null) css_urls = [];\n    if (js_urls == null) js_urls = [];\n\n    root._bokeh_onload_callbacks.push(callback);\n    if (root._bokeh_is_loading > 0) {\n      console.debug(\"Bokeh: BokehJS is being loaded, scheduling callback at\", now());\n      return null;\n    }\n    if (js_urls == null || js_urls.length === 0) {\n      run_callbacks();\n      return null;\n    }\n    console.debug(\"Bokeh: BokehJS not loaded, scheduling load and callback at\", now());\n    root._bokeh_is_loading = css_urls.length + js_urls.length;\n\n    function on_load() {\n      root._bokeh_is_loading--;\n      if (root._bokeh_is_loading === 0) {\n        console.debug(\"Bokeh: all BokehJS libraries/stylesheets loaded\");\n        run_callbacks()\n      }\n    }\n\n    function on_error() {\n      console.error(\"failed to load \" + url);\n    }\n\n    for (var i = 0; i < css_urls.length; i++) {\n      var url = css_urls[i];\n      const element = document.createElement(\"link\");\n      element.onload = on_load;\n      element.onerror = on_error;\n      element.rel = \"stylesheet\";\n      element.type = \"text/css\";\n      element.href = url;\n      console.debug(\"Bokeh: injecting link tag for BokehJS stylesheet: \", url);\n      document.body.appendChild(element);\n    }\n\n    for (var i = 0; i < js_urls.length; i++) {\n      var url = js_urls[i];\n      var element = document.createElement('script');\n      element.onload = on_load;\n      element.onerror = on_error;\n      element.async = false;\n      element.src = url;\n      console.debug(\"Bokeh: injecting script tag for BokehJS library: \", url);\n      document.head.appendChild(element);\n    }\n  };var element = document.getElementById(\"1002\");\n  if (element == null) {\n    console.error(\"Bokeh: ERROR: autoload.js configured with elementid '1002' but no matching script tag was found. \")\n    return false;\n  }\n\n  function inject_raw_css(css) {\n    const element = document.createElement(\"style\");\n    element.appendChild(document.createTextNode(css));\n    document.body.appendChild(element);\n  }\n\n  \n  var js_urls = [\"https://cdn.pydata.org/bokeh/release/bokeh-1.4.0.min.js\", \"https://cdn.pydata.org/bokeh/release/bokeh-widgets-1.4.0.min.js\", \"https://cdn.pydata.org/bokeh/release/bokeh-tables-1.4.0.min.js\", \"https://cdn.pydata.org/bokeh/release/bokeh-gl-1.4.0.min.js\"];\n  var css_urls = [];\n  \n\n  var inline_js = [\n    function(Bokeh) {\n      Bokeh.set_log_level(\"info\");\n    },\n    function(Bokeh) {\n    \n    \n    }\n  ];\n\n  function run_inline_js() {\n    \n    if (root.Bokeh !== undefined || force === true) {\n      \n    for (var i = 0; i < inline_js.length; i++) {\n      inline_js[i].call(root, root.Bokeh);\n    }\n    if (force === true) {\n        display_loaded();\n      }} else if (Date.now() < root._bokeh_timeout) {\n      setTimeout(run_inline_js, 100);\n    } else if (!root._bokeh_failed_load) {\n      console.log(\"Bokeh: BokehJS failed to load within specified timeout.\");\n      root._bokeh_failed_load = true;\n    } else if (force !== true) {\n      var cell = $(document.getElementById(\"1002\")).parents('.cell').data().cell;\n      cell.output_area.append_execute_result(NB_LOAD_WARNING)\n    }\n\n  }\n\n  if (root._bokeh_is_loading === 0) {\n    console.debug(\"Bokeh: BokehJS loaded, going straight to plotting\");\n    run_inline_js();\n  } else {\n    load_libs(css_urls, js_urls, function() {\n      console.debug(\"Bokeh: BokehJS plotting callback run at\", now());\n      run_inline_js();\n    });\n  }\n}(window));"
     },
     "metadata": {},
     "output_type": "display_data"
    }
   ],
   "source": [
    "from bokeh.plotting import figure, show, output_notebook\n",
    "output_notebook()"
   ]
  },
  {
   "cell_type": "markdown",
   "metadata": {},
   "source": [
    "## note - the paths in this notebook are outdated"
   ]
  },
  {
   "cell_type": "markdown",
   "metadata": {},
   "source": [
    "## count genes that were included in the SKAT test:"
   ]
  },
  {
   "cell_type": "code",
   "execution_count": 6,
   "metadata": {},
   "outputs": [
    {
     "ename": "FatalError",
     "evalue": "HailException: MatrixTable and Table files are directories; path '/net/archive/groups/plggneuromol/GTS-analysis/data/GTS-gnomad-sex.mt' is not a directory\n\nJava stack trace:\nis.hail.utils.HailException: MatrixTable and Table files are directories; path '/net/archive/groups/plggneuromol/GTS-analysis/data/GTS-gnomad-sex.mt' is not a directory\n\tat is.hail.utils.ErrorHandling$class.fatal(ErrorHandling.scala:11)\n\tat is.hail.utils.package$.fatal(package.scala:77)\n\tat is.hail.expr.ir.RelationalSpec$.readMetadata(AbstractMatrixTableSpec.scala:32)\n\tat is.hail.expr.ir.RelationalSpec$.readReferences(AbstractMatrixTableSpec.scala:66)\n\tat is.hail.variant.ReferenceGenome$.fromHailDataset(ReferenceGenome.scala:596)\n\tat is.hail.variant.ReferenceGenome.fromHailDataset(ReferenceGenome.scala)\n\tat sun.reflect.NativeMethodAccessorImpl.invoke0(Native Method)\n\tat sun.reflect.NativeMethodAccessorImpl.invoke(NativeMethodAccessorImpl.java:62)\n\tat sun.reflect.DelegatingMethodAccessorImpl.invoke(DelegatingMethodAccessorImpl.java:43)\n\tat java.lang.reflect.Method.invoke(Method.java:498)\n\tat py4j.reflection.MethodInvoker.invoke(MethodInvoker.java:244)\n\tat py4j.reflection.ReflectionEngine.invoke(ReflectionEngine.java:357)\n\tat py4j.Gateway.invoke(Gateway.java:282)\n\tat py4j.commands.AbstractCommand.invokeMethod(AbstractCommand.java:132)\n\tat py4j.commands.CallCommand.execute(CallCommand.java:79)\n\tat py4j.GatewayConnection.run(GatewayConnection.java:238)\n\tat java.lang.Thread.run(Thread.java:748)\n\n\n\nHail version: 0.2.62-84fa81b9ea3d\nError summary: HailException: MatrixTable and Table files are directories; path '/net/archive/groups/plggneuromol/GTS-analysis/data/GTS-gnomad-sex.mt' is not a directory",
     "output_type": "error",
     "traceback": [
      "\u001b[0;31m---------------------------------------------------------------------------\u001b[0m",
      "\u001b[0;31mFatalError\u001b[0m                                Traceback (most recent call last)",
      "\u001b[0;32m<ipython-input-6-044e81e56dfa>\u001b[0m in \u001b[0;36m<module>\u001b[0;34m()\u001b[0m\n\u001b[1;32m     12\u001b[0m \u001b[0;34m\u001b[0m\u001b[0m\n\u001b[1;32m     13\u001b[0m \u001b[0;34m\u001b[0m\u001b[0m\n\u001b[0;32m---> 14\u001b[0;31m \u001b[0mmt\u001b[0m \u001b[0;34m=\u001b[0m \u001b[0mhl\u001b[0m\u001b[0;34m.\u001b[0m\u001b[0mread_matrix_table\u001b[0m\u001b[0;34m(\u001b[0m\u001b[0;34m'/net/archive/groups/plggneuromol/GTS-analysis/data/GTS-gnomad-sex.mt'\u001b[0m\u001b[0;34m)\u001b[0m\u001b[0;34m\u001b[0m\u001b[0m\n\u001b[0m\u001b[1;32m     15\u001b[0m \u001b[0;34m\u001b[0m\u001b[0m\n\u001b[1;32m     16\u001b[0m \u001b[0;34m\u001b[0m\u001b[0m\n",
      "\u001b[0;32m<decorator-gen-1430>\u001b[0m in \u001b[0;36mread_matrix_table\u001b[0;34m(path, _intervals, _filter_intervals, _drop_cols, _drop_rows, _n_partitions)\u001b[0m\n",
      "\u001b[0;32m/net/software/local/python/3.6.5/lib/python3.6/site-packages/hail/typecheck/check.py\u001b[0m in \u001b[0;36mwrapper\u001b[0;34m(__original_func, *args, **kwargs)\u001b[0m\n\u001b[1;32m    575\u001b[0m     \u001b[0;32mdef\u001b[0m \u001b[0mwrapper\u001b[0m\u001b[0;34m(\u001b[0m\u001b[0m__original_func\u001b[0m\u001b[0;34m,\u001b[0m \u001b[0;34m*\u001b[0m\u001b[0margs\u001b[0m\u001b[0;34m,\u001b[0m \u001b[0;34m**\u001b[0m\u001b[0mkwargs\u001b[0m\u001b[0;34m)\u001b[0m\u001b[0;34m:\u001b[0m\u001b[0;34m\u001b[0m\u001b[0m\n\u001b[1;32m    576\u001b[0m         \u001b[0margs_\u001b[0m\u001b[0;34m,\u001b[0m \u001b[0mkwargs_\u001b[0m \u001b[0;34m=\u001b[0m \u001b[0mcheck_all\u001b[0m\u001b[0;34m(\u001b[0m\u001b[0m__original_func\u001b[0m\u001b[0;34m,\u001b[0m \u001b[0margs\u001b[0m\u001b[0;34m,\u001b[0m \u001b[0mkwargs\u001b[0m\u001b[0;34m,\u001b[0m \u001b[0mcheckers\u001b[0m\u001b[0;34m,\u001b[0m \u001b[0mis_method\u001b[0m\u001b[0;34m=\u001b[0m\u001b[0mis_method\u001b[0m\u001b[0;34m)\u001b[0m\u001b[0;34m\u001b[0m\u001b[0m\n\u001b[0;32m--> 577\u001b[0;31m         \u001b[0;32mreturn\u001b[0m \u001b[0m__original_func\u001b[0m\u001b[0;34m(\u001b[0m\u001b[0;34m*\u001b[0m\u001b[0margs_\u001b[0m\u001b[0;34m,\u001b[0m \u001b[0;34m**\u001b[0m\u001b[0mkwargs_\u001b[0m\u001b[0;34m)\u001b[0m\u001b[0;34m\u001b[0m\u001b[0m\n\u001b[0m\u001b[1;32m    578\u001b[0m \u001b[0;34m\u001b[0m\u001b[0m\n\u001b[1;32m    579\u001b[0m     \u001b[0;32mreturn\u001b[0m \u001b[0mwrapper\u001b[0m\u001b[0;34m\u001b[0m\u001b[0m\n",
      "\u001b[0;32m/net/software/local/python/3.6.5/lib/python3.6/site-packages/hail/methods/impex.py\u001b[0m in \u001b[0;36mread_matrix_table\u001b[0;34m(path, _intervals, _filter_intervals, _drop_cols, _drop_rows, _n_partitions)\u001b[0m\n\u001b[1;32m   2005\u001b[0m     \u001b[0;34m:\u001b[0m\u001b[0;32mclass\u001b[0m\u001b[0;34m:\u001b[0m\u001b[0;31m`\u001b[0m\u001b[0;34m.\u001b[0m\u001b[0mMatrixTable\u001b[0m\u001b[0;31m`\u001b[0m\u001b[0;34m\u001b[0m\u001b[0m\n\u001b[1;32m   2006\u001b[0m     \"\"\"\n\u001b[0;32m-> 2007\u001b[0;31m     \u001b[0;32mfor\u001b[0m \u001b[0mrg_config\u001b[0m \u001b[0;32min\u001b[0m \u001b[0mEnv\u001b[0m\u001b[0;34m.\u001b[0m\u001b[0mbackend\u001b[0m\u001b[0;34m(\u001b[0m\u001b[0;34m)\u001b[0m\u001b[0;34m.\u001b[0m\u001b[0mload_references_from_dataset\u001b[0m\u001b[0;34m(\u001b[0m\u001b[0mpath\u001b[0m\u001b[0;34m)\u001b[0m\u001b[0;34m:\u001b[0m\u001b[0;34m\u001b[0m\u001b[0m\n\u001b[0m\u001b[1;32m   2008\u001b[0m         \u001b[0mhl\u001b[0m\u001b[0;34m.\u001b[0m\u001b[0mReferenceGenome\u001b[0m\u001b[0;34m.\u001b[0m\u001b[0m_from_config\u001b[0m\u001b[0;34m(\u001b[0m\u001b[0mrg_config\u001b[0m\u001b[0;34m)\u001b[0m\u001b[0;34m\u001b[0m\u001b[0m\n\u001b[1;32m   2009\u001b[0m \u001b[0;34m\u001b[0m\u001b[0m\n",
      "\u001b[0;32m/net/software/local/python/3.6.5/lib/python3.6/site-packages/hail/backend/spark_backend.py\u001b[0m in \u001b[0;36mload_references_from_dataset\u001b[0;34m(self, path)\u001b[0m\n\u001b[1;32m    320\u001b[0m \u001b[0;34m\u001b[0m\u001b[0m\n\u001b[1;32m    321\u001b[0m     \u001b[0;32mdef\u001b[0m \u001b[0mload_references_from_dataset\u001b[0m\u001b[0;34m(\u001b[0m\u001b[0mself\u001b[0m\u001b[0;34m,\u001b[0m \u001b[0mpath\u001b[0m\u001b[0;34m)\u001b[0m\u001b[0;34m:\u001b[0m\u001b[0;34m\u001b[0m\u001b[0m\n\u001b[0;32m--> 322\u001b[0;31m         \u001b[0;32mreturn\u001b[0m \u001b[0mjson\u001b[0m\u001b[0;34m.\u001b[0m\u001b[0mloads\u001b[0m\u001b[0;34m(\u001b[0m\u001b[0mEnv\u001b[0m\u001b[0;34m.\u001b[0m\u001b[0mhail\u001b[0m\u001b[0;34m(\u001b[0m\u001b[0;34m)\u001b[0m\u001b[0;34m.\u001b[0m\u001b[0mvariant\u001b[0m\u001b[0;34m.\u001b[0m\u001b[0mReferenceGenome\u001b[0m\u001b[0;34m.\u001b[0m\u001b[0mfromHailDataset\u001b[0m\u001b[0;34m(\u001b[0m\u001b[0mself\u001b[0m\u001b[0;34m.\u001b[0m\u001b[0mfs\u001b[0m\u001b[0;34m.\u001b[0m\u001b[0m_jfs\u001b[0m\u001b[0;34m,\u001b[0m \u001b[0mpath\u001b[0m\u001b[0;34m)\u001b[0m\u001b[0;34m)\u001b[0m\u001b[0;34m\u001b[0m\u001b[0m\n\u001b[0m\u001b[1;32m    323\u001b[0m \u001b[0;34m\u001b[0m\u001b[0m\n\u001b[1;32m    324\u001b[0m     \u001b[0;32mdef\u001b[0m \u001b[0mfrom_fasta_file\u001b[0m\u001b[0;34m(\u001b[0m\u001b[0mself\u001b[0m\u001b[0;34m,\u001b[0m \u001b[0mname\u001b[0m\u001b[0;34m,\u001b[0m \u001b[0mfasta_file\u001b[0m\u001b[0;34m,\u001b[0m \u001b[0mindex_file\u001b[0m\u001b[0;34m,\u001b[0m \u001b[0mx_contigs\u001b[0m\u001b[0;34m,\u001b[0m \u001b[0my_contigs\u001b[0m\u001b[0;34m,\u001b[0m \u001b[0mmt_contigs\u001b[0m\u001b[0;34m,\u001b[0m \u001b[0mpar\u001b[0m\u001b[0;34m)\u001b[0m\u001b[0;34m:\u001b[0m\u001b[0;34m\u001b[0m\u001b[0m\n",
      "\u001b[0;32m/net/software/local/python/3.6.5/lib/python3.6/site-packages/py4j/java_gateway.py\u001b[0m in \u001b[0;36m__call__\u001b[0;34m(self, *args)\u001b[0m\n\u001b[1;32m   1255\u001b[0m         \u001b[0manswer\u001b[0m \u001b[0;34m=\u001b[0m \u001b[0mself\u001b[0m\u001b[0;34m.\u001b[0m\u001b[0mgateway_client\u001b[0m\u001b[0;34m.\u001b[0m\u001b[0msend_command\u001b[0m\u001b[0;34m(\u001b[0m\u001b[0mcommand\u001b[0m\u001b[0;34m)\u001b[0m\u001b[0;34m\u001b[0m\u001b[0m\n\u001b[1;32m   1256\u001b[0m         return_value = get_return_value(\n\u001b[0;32m-> 1257\u001b[0;31m             answer, self.gateway_client, self.target_id, self.name)\n\u001b[0m\u001b[1;32m   1258\u001b[0m \u001b[0;34m\u001b[0m\u001b[0m\n\u001b[1;32m   1259\u001b[0m         \u001b[0;32mfor\u001b[0m \u001b[0mtemp_arg\u001b[0m \u001b[0;32min\u001b[0m \u001b[0mtemp_args\u001b[0m\u001b[0;34m:\u001b[0m\u001b[0;34m\u001b[0m\u001b[0m\n",
      "\u001b[0;32m/net/software/local/python/3.6.5/lib/python3.6/site-packages/hail/backend/py4j_backend.py\u001b[0m in \u001b[0;36mdeco\u001b[0;34m(*args, **kwargs)\u001b[0m\n\u001b[1;32m     30\u001b[0m                 raise FatalError('%s\\n\\nJava stack trace:\\n%s\\n'\n\u001b[1;32m     31\u001b[0m                                  \u001b[0;34m'Hail version: %s\\n'\u001b[0m\u001b[0;34m\u001b[0m\u001b[0m\n\u001b[0;32m---> 32\u001b[0;31m                                  'Error summary: %s' % (deepest, full, hail.__version__, deepest), error_id) from None\n\u001b[0m\u001b[1;32m     33\u001b[0m         \u001b[0;32mexcept\u001b[0m \u001b[0mpyspark\u001b[0m\u001b[0;34m.\u001b[0m\u001b[0msql\u001b[0m\u001b[0;34m.\u001b[0m\u001b[0mutils\u001b[0m\u001b[0;34m.\u001b[0m\u001b[0mCapturedException\u001b[0m \u001b[0;32mas\u001b[0m \u001b[0me\u001b[0m\u001b[0;34m:\u001b[0m\u001b[0;34m\u001b[0m\u001b[0m\n\u001b[1;32m     34\u001b[0m             raise FatalError('%s\\n\\nJava stack trace:\\n%s\\n'\n",
      "\u001b[0;31mFatalError\u001b[0m: HailException: MatrixTable and Table files are directories; path '/net/archive/groups/plggneuromol/GTS-analysis/data/GTS-gnomad-sex.mt' is not a directory\n\nJava stack trace:\nis.hail.utils.HailException: MatrixTable and Table files are directories; path '/net/archive/groups/plggneuromol/GTS-analysis/data/GTS-gnomad-sex.mt' is not a directory\n\tat is.hail.utils.ErrorHandling$class.fatal(ErrorHandling.scala:11)\n\tat is.hail.utils.package$.fatal(package.scala:77)\n\tat is.hail.expr.ir.RelationalSpec$.readMetadata(AbstractMatrixTableSpec.scala:32)\n\tat is.hail.expr.ir.RelationalSpec$.readReferences(AbstractMatrixTableSpec.scala:66)\n\tat is.hail.variant.ReferenceGenome$.fromHailDataset(ReferenceGenome.scala:596)\n\tat is.hail.variant.ReferenceGenome.fromHailDataset(ReferenceGenome.scala)\n\tat sun.reflect.NativeMethodAccessorImpl.invoke0(Native Method)\n\tat sun.reflect.NativeMethodAccessorImpl.invoke(NativeMethodAccessorImpl.java:62)\n\tat sun.reflect.DelegatingMethodAccessorImpl.invoke(DelegatingMethodAccessorImpl.java:43)\n\tat java.lang.reflect.Method.invoke(Method.java:498)\n\tat py4j.reflection.MethodInvoker.invoke(MethodInvoker.java:244)\n\tat py4j.reflection.ReflectionEngine.invoke(ReflectionEngine.java:357)\n\tat py4j.Gateway.invoke(Gateway.java:282)\n\tat py4j.commands.AbstractCommand.invokeMethod(AbstractCommand.java:132)\n\tat py4j.commands.CallCommand.execute(CallCommand.java:79)\n\tat py4j.GatewayConnection.run(GatewayConnection.java:238)\n\tat java.lang.Thread.run(Thread.java:748)\n\n\n\nHail version: 0.2.62-84fa81b9ea3d\nError summary: HailException: MatrixTable and Table files are directories; path '/net/archive/groups/plggneuromol/GTS-analysis/data/GTS-gnomad-sex.mt' is not a directory"
     ]
    }
   ],
   "source": [
    "genes = ['DCC', 'RBFOX', 'SLC30A9', 'DCAF4L1', 'SORCS3', 'KCNQ5', 'KCNQ-IT1', 'APOPT1', 'C14orf2', 'NAA11', 'NEGR1',\n",
    "        'CHADL', 'SOX5', 'PANK2', 'COL27A1', 'PDGFB', 'CELSR3', 'OPA1', 'FBN2', 'WWC1', 'NIPBL', \n",
    "             'FN1', 'FBN2', 'SLITRK1', 'SLITRK2', 'SLITRK3', 'SLITRK4', 'SLITRK5', 'SLITRK6', \n",
    "             'HDC', 'OPRK1', 'PCDH10', 'NTSR2', 'OPRK1', 'CHD8', 'SCUBE1', 'PNKD', 'CNTNAP2', 'MOG', \n",
    "             'DRD2', 'DRD3', 'DRD4', 'DRD5', 'DAT1', 'DBH', 'HTR2A', 'TPH2', 'EAAT1', 'SAPAP3',\n",
    "            'CTNNA3', 'NLGN4', 'FSCB', 'IMMP2L', 'NRXN1', 'AADAC', 'DBH', 'MAOA', 'HTR1A', 'HTR2C', 'SLC6A4',\n",
    "             'TPH2', 'COL27A1', '5-HTTLPR', 'EAAT1', 'COL8A1', 'KCNE1', 'KCNE2',\n",
    "         'RICTOR', 'WWC1', 'CELSR3, NIPBL', 'FN1', 'PNKD', 'CDH26', 'CADM2', 'OPCML', 'CDH9',\n",
    "         'NCAM2', 'CD47', 'CDH5', 'CADM4', 'C1QBP', 'CTTN', 'LSAMP',\n",
    "         'PKP4', 'PCDH1', 'CNTNAP2', 'MBP', 'GABBR2', 'GABBR2', 'GRIK4', 'NCR1', 'FLT3', 'IL12A', 'HDAC9',\n",
    "         'CD180', 'CDH26', 'NCAM2', 'NTM', 'ROBO2']\n",
    "\n",
    "\n",
    "mt = hl.read_matrix_table('/net/archive/groups/plggneuromol/GTS-analysis/data/GTS-gnomad-sex.mt')\n",
    "\n",
    "\n",
    "mt = mt.filter_rows(hl.any(lambda x: hl.literal(genes).contains(x), mt.nearest_genes_20kb))\n",
    "mt.count()"
   ]
  },
  {
   "cell_type": "code",
   "execution_count": 12,
   "metadata": {},
   "outputs": [
    {
     "name": "stderr",
     "output_type": "stream",
     "text": [
      "2021-06-27 17:21:12 Hail: INFO: wrote matrix table with 130432 rows and 370 columns in 6622 partitions to /net/archive/groups/plggneuromol/GTS-analysis/data/skat-gene-variants.mt\n",
      "    Total size: 116.53 MiB\n",
      "    * Rows/entries: 116.52 MiB\n",
      "    * Columns: 2.88 KiB\n",
      "    * Globals: 11.00 B\n",
      "    * Smallest partition: 0 rows (20.00 B)\n",
      "    * Largest partition:  3555 rows (3.57 MiB)\n"
     ]
    }
   ],
   "source": [
    "mt.write('/net/archive/groups/plggneuromol/GTS-analysis/data/skat-gene-variants.mt')"
   ]
  },
  {
   "cell_type": "code",
   "execution_count": 14,
   "metadata": {},
   "outputs": [
    {
     "data": {
      "text/plain": [
       "(6483, 370)"
      ]
     },
     "execution_count": 14,
     "metadata": {},
     "output_type": "execute_result"
    }
   ],
   "source": [
    "mt = mt.filter_rows(mt.cadd > 10)\n",
    "mt.count()"
   ]
  },
  {
   "cell_type": "code",
   "execution_count": 15,
   "metadata": {},
   "outputs": [
    {
     "data": {
      "text/plain": [
       "(434, 370)"
      ]
     },
     "execution_count": 15,
     "metadata": {},
     "output_type": "execute_result"
    }
   ],
   "source": [
    "mt = mt.filter_rows(mt.cadd > 20)\n",
    "mt.count()"
   ]
  },
  {
   "cell_type": "code",
   "execution_count": 17,
   "metadata": {},
   "outputs": [],
   "source": [
    "mt = hl.read_matrix_table('/net/archive/groups/plggneuromol/GTS-analysis/data/skat-gene-variants.mt')"
   ]
  },
  {
   "cell_type": "code",
   "execution_count": 23,
   "metadata": {},
   "outputs": [
    {
     "data": {
      "text/plain": [
       "{None: 44676,\n",
       " 'stop_lost': 2,\n",
       " 'missense_variant': 335,\n",
       " 'splice_donor_variant': 4,\n",
       " 'splice_region_variant': 95,\n",
       " 'non_coding_transcript_exon_variant': 1177,\n",
       " 'intron_variant': 77100,\n",
       " 'inframe_deletion': 5,\n",
       " 'frameshift_variant': 8,\n",
       " 'TF_binding_site_variant': 37,\n",
       " 'mature_miRNA_variant': 7,\n",
       " 'synonymous_variant': 360,\n",
       " 'splice_acceptor_variant': 5,\n",
       " 'intergenic_variant': 2195,\n",
       " 'upstream_gene_variant': 1268,\n",
       " 'stop_gained': 6,\n",
       " '3_prime_UTR_variant': 1289,\n",
       " 'downstream_gene_variant': 1106,\n",
       " 'inframe_insertion': 2,\n",
       " 'regulatory_region_variant': 519,\n",
       " '5_prime_UTR_variant': 236}"
      ]
     },
     "execution_count": 23,
     "metadata": {},
     "output_type": "execute_result"
    }
   ],
   "source": [
    "mt.aggregate_rows(hl.agg.counter(mt.gnomad_v3.most_severe_consequence))"
   ]
  },
  {
   "cell_type": "markdown",
   "metadata": {},
   "source": [
    "## export table with all of investigated variants - summary stats"
   ]
  },
  {
   "cell_type": "code",
   "execution_count": 15,
   "metadata": {},
   "outputs": [],
   "source": [
    "mt = hl.read_matrix_table('/net/archive/groups/plggneuromol/GTS-analysis/data/skat-gene-variants.mt')"
   ]
  },
  {
   "cell_type": "code",
   "execution_count": 6,
   "metadata": {},
   "outputs": [
    {
     "name": "stderr",
     "output_type": "stream",
     "text": [
      "2021-06-29 14:12:06 Hail: INFO: Reading table to impute column types\n",
      "2021-06-29 14:12:11 Hail: INFO: Finished type imputation\n",
      "  Loading field 'ID' as type str (imputed)\n",
      "  Loading field 'family' as type str (imputed)\n",
      "  Loading field 'sex' as type str (imputed)\n",
      "  Loading field 'kinship' as type str (imputed)\n",
      "  Loading field 'disease' as type str (imputed)\n",
      "  Loading field 'phenotype' as type str (imputed)\n",
      "  Loading field 'add_pheno' as type str (imputed)\n",
      "  Loading field 'heavy_tics' as type str (imputed)\n",
      "  Loading field 'heavy_tics_familial' as type str (imputed)\n",
      "  Loading field 'GTS_ASD_group' as type str (imputed)\n",
      "  Loading field 'nonCTD' as type str (imputed)\n"
     ]
    }
   ],
   "source": [
    "#reasigned phenotypes:\n",
    "pheno = hl.import_table('/net/archive/groups/plggneuromol/GTS-analysis/analysis/GTS-coded-corrected-june-2021.csv', delimiter=',', impute=True,  quote='\\\"')"
   ]
  },
  {
   "cell_type": "code",
   "execution_count": 7,
   "metadata": {},
   "outputs": [],
   "source": [
    "pheno = pheno.key_by(pheno.ID)"
   ]
  },
  {
   "cell_type": "code",
   "execution_count": 17,
   "metadata": {},
   "outputs": [],
   "source": [
    "mt = mt.annotate_cols(phenotypes = pheno[mt.s])"
   ]
  },
  {
   "cell_type": "code",
   "execution_count": 18,
   "metadata": {},
   "outputs": [],
   "source": [
    "mt = mt.annotate_rows(cases_with_gts = hl.agg.group_by(mt.phenotypes.family, hl.agg.count_where(mt.phenotypes.disease == 'YES')),\n",
    "                      variants_with_gts = hl.agg.group_by((mt.phenotypes.family, mt.phenotypes.disease), hl.agg.count_where(mt.GT.is_non_ref())),\n",
    "                      carriers_in_families = hl.agg.group_by(mt.s, hl.agg.count_where(mt.GT.is_non_ref())),\n",
    "                      variants_in_sporadic_cases = hl.agg.group_by((mt.phenotypes.family, mt.phenotypes.disease), hl.agg.counter(mt.GT.is_non_ref()))\n",
    "                     )"
   ]
  },
  {
   "cell_type": "code",
   "execution_count": 19,
   "metadata": {},
   "outputs": [
    {
     "name": "stderr",
     "output_type": "stream",
     "text": [
      "2021-06-27 19:14:28 Hail: INFO: wrote matrix table with 130432 rows and 370 columns in 6622 partitions to /net/archive/groups/plggneuromol/GTS-analysis/data/GTS-with-skat.mt\n",
      "    Total size: 221.94 MiB\n",
      "    * Rows/entries: 221.94 MiB\n",
      "    * Columns: 2.79 KiB\n",
      "    * Globals: 11.00 B\n",
      "    * Smallest partition: 0 rows (20.00 B)\n",
      "    * Largest partition:  3555 rows (7.19 MiB)\n"
     ]
    }
   ],
   "source": [
    "mt.write('/net/archive/groups/plggneuromol/GTS-analysis/data/GTS-with-skat.mt')"
   ]
  },
  {
   "cell_type": "code",
   "execution_count": 20,
   "metadata": {},
   "outputs": [],
   "source": [
    "mt = hl.read_matrix_table('/net/archive/groups/plggneuromol/GTS-analysis/data/GTS-with-skat.mt')"
   ]
  },
  {
   "cell_type": "code",
   "execution_count": 21,
   "metadata": {},
   "outputs": [],
   "source": [
    "mt = mt.annotate_rows(sporadic_cases_non_refs = hl.if_else(mt.variants_in_sporadic_cases[('.','YES')].contains(True), \n",
    "                                                                mt.variants_in_sporadic_cases[('.','YES')][True],\n",
    "                                                                0),\n",
    "                             sporadic_cases_refs = hl.if_else(mt.variants_in_sporadic_cases[('.','YES')].contains(False), \n",
    "                                                                mt.variants_in_sporadic_cases[('.','YES')][False],\n",
    "                                                                0))"
   ]
  },
  {
   "cell_type": "code",
   "execution_count": 22,
   "metadata": {},
   "outputs": [
    {
     "name": "stderr",
     "output_type": "stream",
     "text": [
      "2021-06-27 19:20:10 Hail: INFO: wrote matrix table with 130432 rows and 370 columns in 6622 partitions to /net/archive/groups/plggneuromol/GTS-analysis/data/GTS-with-skat-2.mt\n",
      "    Total size: 294.63 MiB\n",
      "    * Rows/entries: 294.63 MiB\n",
      "    * Columns: 3.49 KiB\n",
      "    * Globals: 11.00 B\n",
      "    * Smallest partition: 0 rows (20.00 B)\n",
      "    * Largest partition:  3555 rows (9.29 MiB)\n"
     ]
    },
    {
     "data": {
      "text/plain": [
       "<hail.matrixtable.MatrixTable at 0x2b120c592c50>"
      ]
     },
     "execution_count": 22,
     "metadata": {},
     "output_type": "execute_result"
    }
   ],
   "source": [
    "mt.checkpoint('/net/archive/groups/plggneuromol/GTS-analysis/data/GTS-with-skat-2.mt')"
   ]
  },
  {
   "cell_type": "code",
   "execution_count": 61,
   "metadata": {},
   "outputs": [],
   "source": [
    "mt = hl.read_matrix_table('/net/archive/groups/plggneuromol/GTS-analysis/data/GTS-with-skat-2.mt')"
   ]
  },
  {
   "cell_type": "code",
   "execution_count": 62,
   "metadata": {},
   "outputs": [],
   "source": [
    "a = hl.read_matrix_table('/net/archive/groups/plggneuromol/GTS-analysis/data/mt-for-skat-may.mt')\n",
    "b = hl.read_matrix_table('/net/archive/groups/plggneuromol/GTS-analysis/data/mt-test-may.mt')\n",
    "\n",
    "samples = a.s.collect() + b.s.collect()"
   ]
  },
  {
   "cell_type": "code",
   "execution_count": 63,
   "metadata": {},
   "outputs": [
    {
     "data": {
      "text/plain": [
       "225"
      ]
     },
     "execution_count": 63,
     "metadata": {},
     "output_type": "execute_result"
    }
   ],
   "source": [
    "len(samples)"
   ]
  },
  {
   "cell_type": "code",
   "execution_count": 64,
   "metadata": {},
   "outputs": [],
   "source": [
    "mt = mt.filter_cols(hl.literal(samples).contains(mt.s))"
   ]
  },
  {
   "cell_type": "code",
   "execution_count": 65,
   "metadata": {},
   "outputs": [
    {
     "data": {
      "text/plain": [
       "(130432, 225)"
      ]
     },
     "execution_count": 65,
     "metadata": {},
     "output_type": "execute_result"
    }
   ],
   "source": [
    "mt.count()"
   ]
  },
  {
   "cell_type": "code",
   "execution_count": 66,
   "metadata": {},
   "outputs": [],
   "source": [
    "mt = mt.annotate_rows(variants_in_gnomad = hl.agg.group_by((mt.s.contains('gnomad')), hl.agg.counter(mt.GT.is_non_ref())))"
   ]
  },
  {
   "cell_type": "code",
   "execution_count": 67,
   "metadata": {},
   "outputs": [],
   "source": [
    "mt = mt.filter_cols(mt.s.contains('gnomad'), keep = False)"
   ]
  },
  {
   "cell_type": "code",
   "execution_count": 68,
   "metadata": {},
   "outputs": [],
   "source": [
    "mt = mt.annotate_rows(variants_in_familial = hl.agg.group_by((mt.phenotypes.disease), hl.agg.counter(mt.GT.is_non_ref())))"
   ]
  },
  {
   "cell_type": "code",
   "execution_count": 69,
   "metadata": {},
   "outputs": [],
   "source": [
    "mt = mt.annotate_rows(controls_non_refs = hl.if_else(mt.variants_in_familial['NO'].contains(True), \n",
    "                                                                mt.variants_in_familial['NO'][True],\n",
    "                                                                0),\n",
    "                              controls_refs = hl.if_else(mt.variants_in_familial['NO'].contains(False), \n",
    "                                                                mt.variants_in_familial['NO'][False],\n",
    "                                                                0),\n",
    "                              cases_non_refs = hl.if_else(mt.variants_in_familial['YES'].contains(True), \n",
    "                                                                mt.variants_in_familial['YES'][True],\n",
    "                                                                0),\n",
    "                              cases_refs = hl.if_else(mt.variants_in_familial['YES'].contains(False), \n",
    "                                                                mt.variants_in_familial['YES'][False],\n",
    "                                                                0))"
   ]
  },
  {
   "cell_type": "code",
   "execution_count": 70,
   "metadata": {
    "scrolled": false
   },
   "outputs": [
    {
     "name": "stderr",
     "output_type": "stream",
     "text": [
      "2021-06-28 10:44:14 Hail: INFO: wrote matrix table with 130432 rows and 185 columns in 6622 partitions to /net/archive/groups/plggneuromol/GTS-analysis/data/GTS-with-skat-3.mt\n",
      "    Total size: 279.51 MiB\n",
      "    * Rows/entries: 279.51 MiB\n",
      "    * Columns: 2.66 KiB\n",
      "    * Globals: 11.00 B\n",
      "    * Smallest partition: 0 rows (20.00 B)\n",
      "    * Largest partition:  3555 rows (8.91 MiB)\n"
     ]
    },
    {
     "data": {
      "text/plain": [
       "<hail.matrixtable.MatrixTable at 0x2b4a71a39128>"
      ]
     },
     "execution_count": 70,
     "metadata": {},
     "output_type": "execute_result"
    }
   ],
   "source": [
    "mt.checkpoint('/net/archive/groups/plggneuromol/GTS-analysis/data/GTS-with-skat-3.mt')"
   ]
  },
  {
   "cell_type": "code",
   "execution_count": 86,
   "metadata": {},
   "outputs": [],
   "source": [
    "mt = hl.read_matrix_table('/net/archive/groups/plggneuromol/GTS-analysis/data/GTS-with-skat-3.mt')"
   ]
  },
  {
   "cell_type": "code",
   "execution_count": 87,
   "metadata": {},
   "outputs": [],
   "source": [
    "mt = mt.filter_rows(mt.cadd > 0)"
   ]
  },
  {
   "cell_type": "code",
   "execution_count": 88,
   "metadata": {},
   "outputs": [],
   "source": [
    "mt = mt.rows()"
   ]
  },
  {
   "cell_type": "code",
   "execution_count": 89,
   "metadata": {},
   "outputs": [],
   "source": [
    "mt = mt.annotate(gnomads_non_ref = hl.if_else(mt.variants_in_gnomad[True].contains(True), \n",
    "                                                               mt.variants_in_gnomad[True][True],\n",
    "                                                                0))"
   ]
  },
  {
   "cell_type": "code",
   "execution_count": 90,
   "metadata": {},
   "outputs": [],
   "source": [
    "mt = mt.select(mt.gnomad_v3.most_severe_consequence,\n",
    "                    mt.hpo, mt.cadd, mt.nearest_genes_20kb, mt.sporadic_cases_non_refs, mt.sporadic_cases_refs, mt.controls_non_refs,\n",
    "               mt.controls_refs, mt.cases_non_refs, mt.cases_refs, mt.gnomads_non_ref)\n",
    "\n",
    "mt = mt.to_pandas()\n",
    "\n",
    "mt.to_csv('/net/archive/groups/plggneuromol/GTS-analysis/data/supplementary-table-T1.csv')"
   ]
  },
  {
   "cell_type": "code",
   "execution_count": 91,
   "metadata": {},
   "outputs": [],
   "source": [
    "mt[1:1000].to_csv('/net/archive/groups/plggneuromol/GTS-analysis/data/subset-supplementary-table-T1.csv')"
   ]
  },
  {
   "cell_type": "markdown",
   "metadata": {},
   "source": [
    "## investigate the asignment in families"
   ]
  },
  {
   "cell_type": "code",
   "execution_count": 12,
   "metadata": {},
   "outputs": [],
   "source": [
    "mt = hl.read_matrix_table('/net/archive/groups/plggneuromol/GTS-analysis/data/GTS-gnomad-sex.mt')\n",
    "\n",
    "top_genes = ['HDC', 'CHADL', 'MAOA', 'NAA11', 'PCDH10']\n",
    "\n",
    "mt = mt.filter_rows(hl.any(lambda x: hl.literal(top_genes).contains(x), mt.nearest_genes_20kb))\n",
    "mt = mt.filter_rows(mt.cadd > 10)"
   ]
  },
  {
   "cell_type": "code",
   "execution_count": 17,
   "metadata": {
    "scrolled": true
   },
   "outputs": [
    {
     "name": "stderr",
     "output_type": "stream",
     "text": [
      "2021-06-29 14:05:16 Hail: INFO: Reading table to impute column types\n",
      "2021-06-29 14:05:17 Hail: INFO: Finished type imputation\n",
      "  Loading field 'ID' as type str (imputed)\n",
      "  Loading field 'family' as type str (imputed)\n",
      "  Loading field 'sex' as type str (imputed)\n",
      "  Loading field 'kinship' as type str (imputed)\n",
      "  Loading field 'disease' as type str (imputed)\n",
      "  Loading field 'phenotype' as type str (imputed)\n",
      "  Loading field 'add_pheno' as type str (imputed)\n",
      "  Loading field 'heavy_tics' as type str (imputed)\n",
      "  Loading field 'heavy_tics_familial' as type str (imputed)\n",
      "  Loading field 'GTS_ASD_group' as type str (imputed)\n",
      "  Loading field 'nonCTD' as type str (imputed)\n"
     ]
    }
   ],
   "source": [
    "#reasigned phenotypes:\n",
    "pheno = hl.import_table('/net/archive/groups/plggneuromol/GTS-analysis/analysis/GTS-coded-corrected-june-2021.csv', delimiter=',', impute=True,  quote='\\\"')"
   ]
  },
  {
   "cell_type": "code",
   "execution_count": 18,
   "metadata": {},
   "outputs": [],
   "source": [
    "pheno = pheno.key_by(pheno.ID)"
   ]
  },
  {
   "cell_type": "code",
   "execution_count": 14,
   "metadata": {},
   "outputs": [],
   "source": [
    "mt = mt.annotate_cols(phenotypes = pheno[mt.s])"
   ]
  },
  {
   "cell_type": "code",
   "execution_count": 15,
   "metadata": {},
   "outputs": [
    {
     "name": "stderr",
     "output_type": "stream",
     "text": [
      "2021-06-29 10:30:21 Hail: INFO: wrote matrix table with 98 rows and 370 columns in 6622 partitions to /net/archive/groups/plggneuromol/GTS-analysis/data/top-variants.mt\n",
      "    Total size: 258.29 KiB\n",
      "    * Rows/entries: 255.48 KiB\n",
      "    * Columns: 2.79 KiB\n",
      "    * Globals: 11.00 B\n",
      "    * Smallest partition: 0 rows (20.00 B)\n",
      "    * Largest partition:  45 rows (51.98 KiB)\n"
     ]
    }
   ],
   "source": [
    "mt.write('/net/archive/groups/plggneuromol/imdik-zekanowski-gts/data/mts/top-variants.mt')"
   ]
  },
  {
   "cell_type": "code",
   "execution_count": 7,
   "metadata": {},
   "outputs": [],
   "source": [
    "top = hl.read_matrix_table('/net/archive/groups/plggneuromol/imdik-zekanowski-gts/data/mts/top-variants.mt')"
   ]
  },
  {
   "cell_type": "code",
   "execution_count": 8,
   "metadata": {},
   "outputs": [],
   "source": [
    "mt_test = hl.read_matrix_table('/net/archive/groups/plggneuromol/imdik-zekanowski-gts/data/mts/mt_test_10.mt')"
   ]
  },
  {
   "cell_type": "code",
   "execution_count": 10,
   "metadata": {},
   "outputs": [],
   "source": [
    "false_pos = np.load('/net/archive/groups/plggneuromol/imdik-zekanowski-gts/results/numpy/may-false_pos5cadd10.npy')\n",
    "true_pos = np.load('/net/archive/groups/plggneuromol/imdik-zekanowski-gts/results/numpy/may-true_pos5cadd10.npy')"
   ]
  },
  {
   "cell_type": "code",
   "execution_count": 11,
   "metadata": {},
   "outputs": [],
   "source": [
    "top_test = top.filter_cols(hl.set(['.', 'gnomad']).contains(top.phenotypes.family), keep = False)"
   ]
  },
  {
   "cell_type": "code",
   "execution_count": 12,
   "metadata": {},
   "outputs": [],
   "source": [
    "samples = mt_test.s.collect()"
   ]
  },
  {
   "cell_type": "code",
   "execution_count": 13,
   "metadata": {},
   "outputs": [],
   "source": [
    "top_test = top_test.filter_cols(hl.set(samples).contains(top_test.s))"
   ]
  },
  {
   "cell_type": "code",
   "execution_count": 14,
   "metadata": {},
   "outputs": [
    {
     "data": {
      "text/plain": [
       "(98, 145)"
      ]
     },
     "execution_count": 14,
     "metadata": {},
     "output_type": "execute_result"
    }
   ],
   "source": [
    "top_test.count()"
   ]
  },
  {
   "cell_type": "code",
   "execution_count": 15,
   "metadata": {},
   "outputs": [],
   "source": [
    "families = mt_test.phenotypes.family.collect()"
   ]
  },
  {
   "cell_type": "code",
   "execution_count": 16,
   "metadata": {
    "scrolled": true
   },
   "outputs": [
    {
     "data": {
      "text/plain": [
       "(array([10315, 10316, 10317, 10318, 10319, 10320, 10321, 10322, 10323,\n",
       "        10324, 10325, 10326, 10327, 10328, 10329, 10330, 10331, 10332,\n",
       "        10333, 10334, 10335, 10336, 10337, 10338, 10339, 10340, 10341,\n",
       "        10342, 10343, 10344, 10345, 10346, 10347, 10348, 10349, 10350,\n",
       "        10351, 10352, 10353, 10354, 10355, 10356, 10357, 10358, 10359,\n",
       "        10360, 10361, 10362, 10363, 10364, 10365, 10366, 10367, 10368,\n",
       "        10369, 10370, 10371, 10372, 10373, 10374, 10375, 10376, 10377,\n",
       "        10378, 10379, 10380, 10381, 10382, 10383, 10384, 10385, 10386,\n",
       "        10387, 10388, 10389, 10390, 10391, 10392, 10393, 10394, 10395,\n",
       "        10396, 10397, 10398, 10399, 10400, 10401, 10402, 10403, 10404,\n",
       "        10405, 10406, 10407, 10408, 10409, 10410, 10411, 10412, 10413,\n",
       "        10414, 10415, 10416, 10417, 10418, 10419, 10420, 10421, 10422,\n",
       "        10423, 10424, 10425, 10426, 10427, 10428, 10429, 10430, 10431,\n",
       "        10432, 10433, 10434, 10435, 10436, 10437, 10438, 10439, 10440,\n",
       "        10441, 10442, 10443, 10444, 10445, 10446, 10447, 10448, 10449,\n",
       "        10450, 10451, 10452, 10453, 10454, 10455, 10456, 10457, 10458,\n",
       "        10459, 10460, 10461, 10462, 10463, 10464, 10465, 10466, 10467,\n",
       "        10468, 10469, 10470, 10471, 10472, 10473, 10474, 10475, 10476,\n",
       "        10477, 10478, 10479, 10480, 10481, 10482, 10483, 10484, 10485,\n",
       "        10486, 10487, 10488, 10489, 10490, 10491, 10492, 10493, 10494,\n",
       "        10495, 10496, 10497, 10498, 10499, 10500, 10501, 10502, 10503,\n",
       "        10504, 10505, 10506, 10507, 10508, 10509, 10510, 10511, 10512,\n",
       "        10513, 10514, 10515, 10516, 10517, 10518, 10519, 10520, 10521,\n",
       "        10522, 10523, 10524, 10525, 10526, 10527, 10528, 10529, 10530,\n",
       "        10531, 10532, 10533, 10534, 10535, 10536, 10537, 10538, 10539,\n",
       "        10540, 10541, 10542, 10543, 10544, 10545, 10546, 10547, 10548,\n",
       "        10549, 10550, 10551, 10552, 10553, 10554, 10555, 10556, 10557,\n",
       "        10558, 10559, 10560, 10561, 10562, 10563, 10564, 10565, 10566,\n",
       "        10567, 10568, 10569, 10570, 10571, 10572, 10573, 10574, 10575,\n",
       "        10576, 10577, 10578, 10579, 10580, 10581, 10582, 10583, 10584,\n",
       "        10585, 10586, 10587, 10588, 10589, 10590, 10591, 10592, 10593,\n",
       "        10594, 10595, 10596, 10597, 10598, 10599, 10600, 10601, 10602,\n",
       "        10603, 10604, 10605, 10606, 10607, 10608, 10609, 10610, 10611,\n",
       "        10612, 10613, 10614, 10615, 10616, 10617, 10618, 10619, 10620,\n",
       "        10621, 10622, 10623, 10624, 10625, 10626, 10627, 10628, 10629,\n",
       "        10630, 10631, 10632, 10633, 10634, 10635, 10636, 10637, 10638,\n",
       "        10639, 10640, 10641, 10642, 10643, 10644, 10645, 10646, 10647,\n",
       "        10648, 10649, 10650, 10651, 10652, 10653, 10654, 10655, 10656,\n",
       "        10657, 10658, 10659, 10660, 10661, 10662, 10663, 10664, 10665,\n",
       "        10666, 10667, 10668, 10669, 10670, 10671, 10672, 10673, 10674,\n",
       "        10675, 10676, 10677, 10678, 10679, 10680, 10681, 10682, 10683,\n",
       "        10684, 10685, 10686, 10687, 10688, 10689, 10690, 10691, 10692,\n",
       "        10693, 10694, 10695, 10696, 10697, 10698, 10699, 10700, 10701,\n",
       "        10702, 10703, 10704, 10705, 10706, 10707, 10708, 10709, 10710,\n",
       "        10711, 10712, 10713, 10714, 10715, 10716, 10717, 10718, 10719,\n",
       "        10720, 10721, 10722, 10723, 10724, 10725, 10726, 10727, 10728,\n",
       "        10729, 10730, 10731, 10732, 10733, 10734, 10735, 10736, 10737,\n",
       "        10738, 10739, 10740, 10741, 10742, 10743, 10744, 10745, 10746,\n",
       "        10747, 10748, 10749, 10750, 10751, 10752, 10753, 10754, 10755,\n",
       "        10756, 10757, 10758, 10759]),)"
      ]
     },
     "execution_count": 16,
     "metadata": {},
     "output_type": "execute_result"
    }
   ],
   "source": [
    "np.where((false_pos < 0.45) & (true_pos > 0.65))"
   ]
  },
  {
   "cell_type": "code",
   "execution_count": 145,
   "metadata": {},
   "outputs": [
    {
     "data": {
      "text/plain": [
       "0.26785714285714285"
      ]
     },
     "execution_count": 145,
     "metadata": {},
     "output_type": "execute_result"
    }
   ],
   "source": [
    "false_pos[11204]"
   ]
  },
  {
   "cell_type": "code",
   "execution_count": 146,
   "metadata": {},
   "outputs": [
    {
     "data": {
      "text/plain": [
       "0.3595505617977528"
      ]
     },
     "execution_count": 146,
     "metadata": {},
     "output_type": "execute_result"
    }
   ],
   "source": [
    "true_pos[11204]"
   ]
  },
  {
   "cell_type": "code",
   "execution_count": 36,
   "metadata": {},
   "outputs": [
    {
     "data": {
      "text/plain": [
       "0.44642857142857145"
      ]
     },
     "execution_count": 36,
     "metadata": {},
     "output_type": "execute_result"
    }
   ],
   "source": [
    "false_pos[10759]"
   ]
  },
  {
   "cell_type": "code",
   "execution_count": 147,
   "metadata": {},
   "outputs": [
    {
     "data": {
      "text/plain": [
       "0.651685393258427"
      ]
     },
     "execution_count": 147,
     "metadata": {},
     "output_type": "execute_result"
    }
   ],
   "source": [
    "true_pos[10759]"
   ]
  },
  {
   "cell_type": "code",
   "execution_count": 39,
   "metadata": {},
   "outputs": [],
   "source": [
    "test_asignment = np.load('/net/archive/groups/plggneuromol/imdik-zekanowski-gts/results/numpy/may-test_asignment5cadd10.npy')"
   ]
  },
  {
   "cell_type": "code",
   "execution_count": 40,
   "metadata": {},
   "outputs": [
    {
     "data": {
      "text/plain": [
       "145"
      ]
     },
     "execution_count": 40,
     "metadata": {},
     "output_type": "execute_result"
    }
   ],
   "source": [
    "len(test_asignment)"
   ]
  },
  {
   "cell_type": "code",
   "execution_count": 41,
   "metadata": {
    "scrolled": true
   },
   "outputs": [
    {
     "data": {
      "text/plain": [
       "array([  9.20930233,   0.20930233,   0.20930233,  -6.79069767,\n",
       "        -2.79069767,  -0.79069767,   6.20930233,  -1.79069767,\n",
       "        -0.79069767,  -3.79069767,  -1.79069767,   4.20930233,\n",
       "         3.20930233,  -1.79069767,   0.20930233,  -2.79069767,\n",
       "         0.20930233,  -4.79069767,  -8.79069767,  -2.79069767,\n",
       "        -0.79069767,  -1.79069767,  -0.79069767,  -0.79069767,\n",
       "        -1.79069767,   0.20930233,   0.20930233,   2.20930233,\n",
       "         0.20930233,   2.20930233,  -1.79069767,  -2.79069767,\n",
       "        -1.79069767,  -3.79069767,  -6.79069767,   0.20930233,\n",
       "        -7.79069767,   1.20930233,   3.20930233,   0.20930233,\n",
       "        -2.79069767,  -7.79069767,  -1.79069767,  -5.79069767,\n",
       "        -1.79069767,  -3.79069767,  -4.79069767,  -2.79069767,\n",
       "        -5.79069767,  -2.79069767,  -5.79069767,  -3.79069767,\n",
       "         2.20930233,  -5.79069767,  -0.79069767,  -2.79069767,\n",
       "        -3.79069767,  -2.79069767,  -3.79069767,  -1.79069767,\n",
       "         4.20930233,   4.20930233,   7.20930233,   5.20930233,\n",
       "         1.20930233,   6.20930233,   0.20930233,   0.20930233,\n",
       "         2.20930233,   3.20930233,  -1.79069767,   5.20930233,\n",
       "         0.20930233,  -1.79069767,  -0.79069767,   3.20930233,\n",
       "         0.20930233,   0.20930233,  -3.79069767,  -5.79069767,\n",
       "        -5.79069767,   0.20930233,  10.20930233, -18.79069767,\n",
       "       -16.79069767, -21.79069767,  -2.79069767,  -0.79069767,\n",
       "        -2.79069767,  -6.79069767,   2.20930233,   2.20930233,\n",
       "         6.20930233,   3.20930233,   0.20930233,   0.20930233,\n",
       "        -2.79069767,  -6.79069767,  -1.79069767,   6.20930233,\n",
       "         5.20930233,   5.20930233,   2.20930233,  -0.79069767,\n",
       "         2.20930233,  -0.79069767,  -0.79069767,   0.20930233,\n",
       "        -0.79069767,   0.20930233,   5.20930233,  -0.79069767,\n",
       "         0.20930233,   2.20930233,  10.20930233,  -5.79069767,\n",
       "        -1.79069767,  -4.79069767,  -6.79069767,  -0.79069767,\n",
       "         1.20930233,  -5.79069767,   1.20930233,   2.20930233,\n",
       "       -18.79069767,   4.20930233,  -3.79069767,  -2.79069767,\n",
       "         1.20930233,   4.20930233,   4.20930233,   3.20930233,\n",
       "         0.20930233,   3.20930233,  -3.79069767,  -0.79069767,\n",
       "        -4.79069767,   2.20930233,   4.20930233,  -7.79069767,\n",
       "         8.20930233,   1.20930233,  -2.79069767,   4.20930233,\n",
       "         1.20930233])"
      ]
     },
     "execution_count": 41,
     "metadata": {},
     "output_type": "execute_result"
    }
   ],
   "source": [
    "test_asignment"
   ]
  },
  {
   "cell_type": "code",
   "execution_count": 148,
   "metadata": {},
   "outputs": [
    {
     "data": {
      "text/plain": [
       "0.21026051302564852"
      ]
     },
     "execution_count": 148,
     "metadata": {},
     "output_type": "execute_result"
    }
   ],
   "source": [
    "np.linspace(-25,20,20000)[11204]"
   ]
  },
  {
   "cell_type": "code",
   "execution_count": 149,
   "metadata": {},
   "outputs": [],
   "source": [
    "best_asignment = test_asignment > np.linspace(-25,20,20000)[11204]"
   ]
  },
  {
   "cell_type": "code",
   "execution_count": 150,
   "metadata": {},
   "outputs": [],
   "source": [
    "mt_test = mt_test.annotate_cols(phenotypes = pheno[mt_test.s])"
   ]
  },
  {
   "cell_type": "code",
   "execution_count": 151,
   "metadata": {},
   "outputs": [],
   "source": [
    "nonCTS = mt_test.phenotypes.nonCTD.collect()"
   ]
  },
  {
   "cell_type": "code",
   "execution_count": 152,
   "metadata": {},
   "outputs": [],
   "source": [
    "ASD = mt_test.phenotypes.add_pheno.contains('ASD').collect()"
   ]
  },
  {
   "cell_type": "code",
   "execution_count": 153,
   "metadata": {},
   "outputs": [],
   "source": [
    "group = mt_test.phenotypes.phenotype.collect()"
   ]
  },
  {
   "cell_type": "code",
   "execution_count": 162,
   "metadata": {},
   "outputs": [
    {
     "data": {
      "text/plain": [
       "47"
      ]
     },
     "execution_count": 162,
     "metadata": {},
     "output_type": "execute_result"
    }
   ],
   "source": [
    "np.sum((np.array(group) == 'GTS'))"
   ]
  },
  {
   "cell_type": "code",
   "execution_count": 155,
   "metadata": {},
   "outputs": [
    {
     "data": {
      "text/plain": [
       "14"
      ]
     },
     "execution_count": 155,
     "metadata": {},
     "output_type": "execute_result"
    }
   ],
   "source": [
    "np.sum((np.array(group) == 'tics') & best_asignment)"
   ]
  },
  {
   "cell_type": "code",
   "execution_count": 156,
   "metadata": {},
   "outputs": [
    {
     "data": {
      "text/plain": [
       "0.3333333333333333"
      ]
     },
     "execution_count": 156,
     "metadata": {},
     "output_type": "execute_result"
    }
   ],
   "source": [
    "14/42"
   ]
  },
  {
   "cell_type": "code",
   "execution_count": 157,
   "metadata": {},
   "outputs": [
    {
     "data": {
      "text/plain": [
       "4"
      ]
     },
     "execution_count": 157,
     "metadata": {},
     "output_type": "execute_result"
    }
   ],
   "source": [
    "np.sum((np.array(nonCTS) == 'YES') & best_asignment)"
   ]
  },
  {
   "cell_type": "code",
   "execution_count": 159,
   "metadata": {},
   "outputs": [
    {
     "data": {
      "text/plain": [
       "0.23529411764705882"
      ]
     },
     "execution_count": 159,
     "metadata": {},
     "output_type": "execute_result"
    }
   ],
   "source": [
    "4/17"
   ]
  },
  {
   "cell_type": "code",
   "execution_count": 117,
   "metadata": {},
   "outputs": [
    {
     "data": {
      "text/plain": [
       "0.7021276595744681"
      ]
     },
     "execution_count": 117,
     "metadata": {},
     "output_type": "execute_result"
    }
   ],
   "source": [
    "33/47"
   ]
  },
  {
   "cell_type": "code",
   "execution_count": 161,
   "metadata": {},
   "outputs": [
    {
     "data": {
      "text/plain": [
       "18"
      ]
     },
     "execution_count": 161,
     "metadata": {},
     "output_type": "execute_result"
    }
   ],
   "source": [
    "np.sum((np.array(group) == 'GTS') & best_asignment)"
   ]
  },
  {
   "cell_type": "code",
   "execution_count": 163,
   "metadata": {},
   "outputs": [
    {
     "data": {
      "text/plain": [
       "0.3829787234042553"
      ]
     },
     "execution_count": 163,
     "metadata": {},
     "output_type": "execute_result"
    }
   ],
   "source": [
    "18/47"
   ]
  },
  {
   "cell_type": "code",
   "execution_count": 164,
   "metadata": {},
   "outputs": [
    {
     "data": {
      "text/plain": [
       "15"
      ]
     },
     "execution_count": 164,
     "metadata": {},
     "output_type": "execute_result"
    }
   ],
   "source": [
    "np.sum((np.array(group) == '.') & best_asignment)"
   ]
  },
  {
   "cell_type": "code",
   "execution_count": 166,
   "metadata": {},
   "outputs": [
    {
     "data": {
      "text/plain": [
       "0.7321428571428571"
      ]
     },
     "execution_count": 166,
     "metadata": {},
     "output_type": "execute_result"
    }
   ],
   "source": [
    "(56-15)/56"
   ]
  },
  {
   "cell_type": "code",
   "execution_count": null,
   "metadata": {},
   "outputs": [],
   "source": []
  },
  {
   "cell_type": "code",
   "execution_count": 54,
   "metadata": {},
   "outputs": [
    {
     "data": {
      "text/plain": [
       "{'.': 6, 'GTS': 4, 'tics': 4}"
      ]
     },
     "execution_count": 54,
     "metadata": {},
     "output_type": "execute_result"
    }
   ],
   "source": [
    "top_test.aggregate_cols(hl.agg.filter((top_test.phenotypes.family == 'W'), hl.agg.counter(top_test.phenotypes.phenotype)))"
   ]
  },
  {
   "cell_type": "code",
   "execution_count": 46,
   "metadata": {},
   "outputs": [],
   "source": [
    "fam_s = top_test.s.collect()"
   ]
  },
  {
   "cell_type": "code",
   "execution_count": 58,
   "metadata": {},
   "outputs": [
    {
     "data": {
      "text/plain": [
       "array(['466', '467', '468', '469', '470', '471', '472', '473', '474',\n",
       "       '475', '476', '477', '478', '479'], dtype='<U9')"
      ]
     },
     "execution_count": 58,
     "metadata": {},
     "output_type": "execute_result"
    }
   ],
   "source": [
    "np.array(fam_s)[np.array(families) == 'W']"
   ]
  },
  {
   "cell_type": "code",
   "execution_count": 59,
   "metadata": {},
   "outputs": [
    {
     "data": {
      "text/plain": [
       "array([ True,  True, False,  True, False, False,  True,  True, False,\n",
       "        True, False,  True, False, False])"
      ]
     },
     "execution_count": 59,
     "metadata": {},
     "output_type": "execute_result"
    }
   ],
   "source": [
    "np.array(best_asignment)[np.array(families) == 'W']"
   ]
  },
  {
   "cell_type": "code",
   "execution_count": 57,
   "metadata": {},
   "outputs": [
    {
     "data": {
      "text/plain": [
       "array(['GTS', 'tics', '.', 'tics', 'tics', 'GTS', 'tics', 'GTS', 'GTS',\n",
       "       '.', '.', '.', '.', '.'], dtype='<U4')"
      ]
     },
     "execution_count": 57,
     "metadata": {},
     "output_type": "execute_result"
    }
   ],
   "source": [
    "np.array(group)[np.array(families) == 'W']"
   ]
  },
  {
   "cell_type": "code",
   "execution_count": 24,
   "metadata": {},
   "outputs": [],
   "source": [
    "hdc_coding = hl.agg.filter((hl.str(top_test.nearest_genes_20kb).contains('HDC') & ((top_test.gnomad_v3.most_severe_consequence == 'missense_variant') |\n",
    "                                                                            (top_test.gnomad_v3.most_severe_consequence == 'synonymous_variant'))),\n",
    "                           hl.agg.count_where(top_test.GT.is_non_ref()))\n",
    "\n",
    "chadl_coding = hl.agg.filter((hl.str(top_test.nearest_genes_20kb).contains('CHADL') & ((top_test.gnomad_v3.most_severe_consequence == 'missense_variant') |\n",
    "                                                                            (top_test.gnomad_v3.most_severe_consequence == 'synonymous_variant'))),\n",
    "                           hl.agg.count_where(top_test.GT.is_non_ref()))\n",
    "\n",
    "maoa_coding = hl.agg.filter((hl.str(top_test.nearest_genes_20kb).contains('MAOA') & ((top_test.gnomad_v3.most_severe_consequence == 'missense_variant') |\n",
    "                                                                            (top_test.gnomad_v3.most_severe_consequence == 'synonymous_variant'))),\n",
    "                           hl.agg.count_where(top_test.GT.is_non_ref()))\n",
    "naa11_coding = hl.agg.filter((hl.str(top_test.nearest_genes_20kb).contains('NAA11') & ((top_test.gnomad_v3.most_severe_consequence == 'missense_variant') |\n",
    "                                                                            (top_test.gnomad_v3.most_severe_consequence == 'synonymous_variant'))),\n",
    "                           hl.agg.count_where(top_test.GT.is_non_ref()))\n",
    "\n",
    "pcdh10_coding = hl.agg.filter((hl.str(top_test.nearest_genes_20kb).contains('PCDH10') & ((top_test.gnomad_v3.most_severe_consequence == 'missense_variant') |\n",
    "                                                                            (top_test.gnomad_v3.most_severe_consequence == 'synonymous_variant'))),\n",
    "                           hl.agg.count_where(top_test.GT.is_non_ref()))\n",
    "\n",
    "top_test = top_test.annotate_cols(non_refs_hdc = hl.agg.filter(hl.str(top_test.nearest_genes_20kb).contains('HDC'), hl.agg.count_where(top_test.GT.is_non_ref())),\n",
    "                                  non_refs_chadl = hl.agg.filter(hl.str(top_test.nearest_genes_20kb).contains('CHADL'), hl.agg.count_where(top_test.GT.is_non_ref())),\n",
    "                                  non_refs_maoa = hl.agg.filter(hl.str(top_test.nearest_genes_20kb).contains('MAOA'), hl.agg.count_where(top_test.GT.is_non_ref())),\n",
    "                                  non_refs_naa11 = hl.agg.filter(hl.str(top_test.nearest_genes_20kb).contains('NAA11'), hl.agg.count_where(top_test.GT.is_non_ref())),\n",
    "                                  non_refs_pcdh10 = hl.agg.filter(hl.str(top_test.nearest_genes_20kb).contains('PCDH10'), hl.agg.count_where(top_test.GT.is_non_ref())),\n",
    "                                  non_refs_hdc_coding = hdc_coding,\n",
    "                                  non_refs_chadl_coding = chadl_coding,\n",
    "                                  non_refs_maoa_coding = maoa_coding,\n",
    "                                  non_refs_naa11_coding = naa11_coding,\n",
    "                                  non_refs_pcdh10_coding = pcdh10_coding)                     "
   ]
  },
  {
   "cell_type": "code",
   "execution_count": 25,
   "metadata": {
    "scrolled": true
   },
   "outputs": [
    {
     "name": "stderr",
     "output_type": "stream",
     "text": [
      "2021-06-29 10:37:50 Hail: INFO: wrote matrix table with 98 rows and 145 columns in 6622 partitions to /net/archive/groups/plggneuromol/GTS-analysis/data/top-test.mt\n",
      "    Total size: 226.40 KiB\n",
      "    * Rows/entries: 223.92 KiB\n",
      "    * Columns: 2.47 KiB\n",
      "    * Globals: 11.00 B\n",
      "    * Smallest partition: 0 rows (20.00 B)\n",
      "    * Largest partition:  45 rows (38.80 KiB)\n"
     ]
    }
   ],
   "source": [
    "top_test.write('/net/archive/groups/plggneuromol/GTS-analysis/data/top-test.mt')"
   ]
  },
  {
   "cell_type": "code",
   "execution_count": 60,
   "metadata": {},
   "outputs": [
    {
     "data": {
      "text/plain": [
       "(3, 145)"
      ]
     },
     "execution_count": 60,
     "metadata": {},
     "output_type": "execute_result"
    }
   ],
   "source": [
    "#coding HDC\n",
    "top_test.filter_rows((hl.str(top_test.nearest_genes_20kb).contains('HDC') & ((top_test.gnomad_v3.most_severe_consequence == 'missense_variant') |\n",
    "                                                                            (top_test.gnomad_v3.most_severe_consequence == 'synonymous_variant')))).count()"
   ]
  },
  {
   "cell_type": "code",
   "execution_count": 61,
   "metadata": {},
   "outputs": [
    {
     "data": {
      "text/plain": [
       "(5, 145)"
      ]
     },
     "execution_count": 61,
     "metadata": {},
     "output_type": "execute_result"
    }
   ],
   "source": [
    "#coding CHADL\n",
    "top_test.filter_rows((hl.str(top_test.nearest_genes_20kb).contains('CHADL') & ((top_test.gnomad_v3.most_severe_consequence == 'missense_variant') |\n",
    "                                                                            (top_test.gnomad_v3.most_severe_consequence == 'synonymous_variant')))).count()"
   ]
  },
  {
   "cell_type": "code",
   "execution_count": 62,
   "metadata": {},
   "outputs": [
    {
     "data": {
      "text/plain": [
       "(0, 145)"
      ]
     },
     "execution_count": 62,
     "metadata": {},
     "output_type": "execute_result"
    }
   ],
   "source": [
    "#coding MAOA:\n",
    "top_test.filter_rows((hl.str(top_test.nearest_genes_20kb).contains('MAOA') & ((top_test.gnomad_v3.most_severe_consequence == 'missense_variant') |\n",
    "                                                                            (top_test.gnomad_v3.most_severe_consequence == 'synonymous_variant')))).count()"
   ]
  },
  {
   "cell_type": "code",
   "execution_count": 63,
   "metadata": {},
   "outputs": [
    {
     "data": {
      "text/plain": [
       "(1, 145)"
      ]
     },
     "execution_count": 63,
     "metadata": {},
     "output_type": "execute_result"
    }
   ],
   "source": [
    "#coding NAA11:\n",
    "top_test.filter_rows((hl.str(top_test.nearest_genes_20kb).contains('NAA11') & ((top_test.gnomad_v3.most_severe_consequence == 'missense_variant') |\n",
    "                                                                            (top_test.gnomad_v3.most_severe_consequence == 'synonymous_variant')))).count()"
   ]
  },
  {
   "cell_type": "code",
   "execution_count": 64,
   "metadata": {},
   "outputs": [
    {
     "data": {
      "text/plain": [
       "(2, 145)"
      ]
     },
     "execution_count": 64,
     "metadata": {},
     "output_type": "execute_result"
    }
   ],
   "source": [
    "#coding PCDH10:\n",
    "top_test.filter_rows((hl.str(top_test.nearest_genes_20kb).contains('PCDH10') & ((top_test.gnomad_v3.most_severe_consequence == 'missense_variant') |\n",
    "                                                                            (top_test.gnomad_v3.most_severe_consequence == 'synonymous_variant')))).count()"
   ]
  },
  {
   "cell_type": "code",
   "execution_count": 65,
   "metadata": {},
   "outputs": [
    {
     "data": {
      "text/plain": [
       "(12, 145)"
      ]
     },
     "execution_count": 65,
     "metadata": {},
     "output_type": "execute_result"
    }
   ],
   "source": [
    "#noncoding HDC\n",
    "top_test.filter_rows((hl.str(top_test.nearest_genes_20kb).contains('HDC') & ((top_test.gnomad_v3.most_severe_consequence != 'missense_variant') &\n",
    "                                                                            (top_test.gnomad_v3.most_severe_consequence != 'synonymous_variant')))).count()"
   ]
  },
  {
   "cell_type": "code",
   "execution_count": 66,
   "metadata": {},
   "outputs": [
    {
     "data": {
      "text/plain": [
       "(5, 145)"
      ]
     },
     "execution_count": 66,
     "metadata": {},
     "output_type": "execute_result"
    }
   ],
   "source": [
    "#noncoding CHADL (this should rather be 7)\n",
    "top_test.filter_rows((hl.str(top_test.nearest_genes_20kb).contains('CHADL') & ((top_test.gnomad_v3.most_severe_consequence != 'missense_variant') &\n",
    "                                                                            (top_test.gnomad_v3.most_severe_consequence != 'synonymous_variant')))).count()"
   ]
  },
  {
   "cell_type": "code",
   "execution_count": 67,
   "metadata": {},
   "outputs": [
    {
     "data": {
      "text/plain": [
       "(3, 145)"
      ]
     },
     "execution_count": 67,
     "metadata": {},
     "output_type": "execute_result"
    }
   ],
   "source": [
    "#noncoding MAOA:\n",
    "top_test.filter_rows((hl.str(top_test.nearest_genes_20kb).contains('MAOA') & ((top_test.gnomad_v3.most_severe_consequence != 'missense_variant') &\n",
    "                                                                            (top_test.gnomad_v3.most_severe_consequence != 'synonymous_variant')))).count()"
   ]
  },
  {
   "cell_type": "code",
   "execution_count": 68,
   "metadata": {},
   "outputs": [
    {
     "data": {
      "text/plain": [
       "(22, 145)"
      ]
     },
     "execution_count": 68,
     "metadata": {},
     "output_type": "execute_result"
    }
   ],
   "source": [
    "#noncoding NAA11:\n",
    "top_test.filter_rows((hl.str(top_test.nearest_genes_20kb).contains('NAA11') & ((top_test.gnomad_v3.most_severe_consequence != 'missense_variant') |\n",
    "                                                                            (top_test.gnomad_v3.most_severe_consequence != 'synonymous_variant')))).count()"
   ]
  },
  {
   "cell_type": "code",
   "execution_count": 69,
   "metadata": {},
   "outputs": [
    {
     "data": {
      "text/plain": [
       "(40, 145)"
      ]
     },
     "execution_count": 69,
     "metadata": {},
     "output_type": "execute_result"
    }
   ],
   "source": [
    "#noncoding PCDH10:\n",
    "top_test.filter_rows((hl.str(top_test.nearest_genes_20kb).contains('PCDH10') & ((top_test.gnomad_v3.most_severe_consequence != 'missense_variant') |\n",
    "                                                                            (top_test.gnomad_v3.most_severe_consequence != 'synonymous_variant')))).count()"
   ]
  },
  {
   "cell_type": "code",
   "execution_count": 70,
   "metadata": {},
   "outputs": [
    {
     "data": {
      "text/plain": [
       "(15, 145)"
      ]
     },
     "execution_count": 70,
     "metadata": {},
     "output_type": "execute_result"
    }
   ],
   "source": [
    "#all HDC\n",
    "top_test.filter_rows(hl.str(top_test.nearest_genes_20kb).contains('HDC')).count()"
   ]
  },
  {
   "cell_type": "code",
   "execution_count": 71,
   "metadata": {},
   "outputs": [
    {
     "data": {
      "text/plain": [
       "(12, 145)"
      ]
     },
     "execution_count": 71,
     "metadata": {},
     "output_type": "execute_result"
    }
   ],
   "source": [
    "#all CHADL\n",
    "top_test.filter_rows(hl.str(top_test.nearest_genes_20kb).contains('CHADL')).count()"
   ]
  },
  {
   "cell_type": "code",
   "execution_count": 72,
   "metadata": {},
   "outputs": [
    {
     "data": {
      "text/plain": [
       "(3, 145)"
      ]
     },
     "execution_count": 72,
     "metadata": {},
     "output_type": "execute_result"
    }
   ],
   "source": [
    "#all MAOA\n",
    "top_test.filter_rows(hl.str(top_test.nearest_genes_20kb).contains('MAOA')).count()"
   ]
  },
  {
   "cell_type": "code",
   "execution_count": 73,
   "metadata": {},
   "outputs": [
    {
     "data": {
      "text/plain": [
       "(23, 145)"
      ]
     },
     "execution_count": 73,
     "metadata": {},
     "output_type": "execute_result"
    }
   ],
   "source": [
    "#all NAA11:\n",
    "top_test.filter_rows(hl.str(top_test.nearest_genes_20kb).contains('NAA11')).count()"
   ]
  },
  {
   "cell_type": "code",
   "execution_count": 74,
   "metadata": {},
   "outputs": [
    {
     "data": {
      "text/plain": [
       "(45, 145)"
      ]
     },
     "execution_count": 74,
     "metadata": {},
     "output_type": "execute_result"
    }
   ],
   "source": [
    "#all PCDH10:\n",
    "top_test.filter_rows(hl.str(top_test.nearest_genes_20kb).contains('PCDH10')).count()"
   ]
  },
  {
   "cell_type": "code",
   "execution_count": 75,
   "metadata": {},
   "outputs": [
    {
     "data": {
      "text/plain": [
       "(98, 145)"
      ]
     },
     "execution_count": 75,
     "metadata": {},
     "output_type": "execute_result"
    }
   ],
   "source": [
    "top_test.count()"
   ]
  },
  {
   "cell_type": "code",
   "execution_count": 26,
   "metadata": {},
   "outputs": [],
   "source": [
    "top_test = hl.read_matrix_table('/net/archive/groups/plggneuromol/GTS-analysis/data/top-test.mt')"
   ]
  },
  {
   "cell_type": "code",
   "execution_count": 27,
   "metadata": {},
   "outputs": [
    {
     "name": "stderr",
     "output_type": "stream",
     "text": [
      "2021-06-29 10:37:50 Hail: WARN: cols(): Resulting column table is sorted by 'col_key'.\n",
      "    To preserve matrix table column order, first unkey columns with 'key_cols_by()'\n"
     ]
    }
   ],
   "source": [
    "to_export = top_test.cols()"
   ]
  },
  {
   "cell_type": "code",
   "execution_count": 28,
   "metadata": {},
   "outputs": [],
   "source": [
    "families = to_export.to_pandas()"
   ]
  },
  {
   "cell_type": "code",
   "execution_count": 29,
   "metadata": {},
   "outputs": [
    {
     "data": {
      "text/html": [
       "<div>\n",
       "<style scoped>\n",
       "    .dataframe tbody tr th:only-of-type {\n",
       "        vertical-align: middle;\n",
       "    }\n",
       "\n",
       "    .dataframe tbody tr th {\n",
       "        vertical-align: top;\n",
       "    }\n",
       "\n",
       "    .dataframe thead th {\n",
       "        text-align: right;\n",
       "    }\n",
       "</style>\n",
       "<table border=\"1\" class=\"dataframe\">\n",
       "  <thead>\n",
       "    <tr style=\"text-align: right;\">\n",
       "      <th></th>\n",
       "      <th>s</th>\n",
       "      <th>phenotypes.family</th>\n",
       "      <th>phenotypes.sex</th>\n",
       "      <th>phenotypes.kinship</th>\n",
       "      <th>phenotypes.disease</th>\n",
       "      <th>phenotypes.phenotype</th>\n",
       "      <th>phenotypes.add_pheno</th>\n",
       "      <th>phenotypes.heavy_tics</th>\n",
       "      <th>phenotypes.heavy_tics_familial</th>\n",
       "      <th>phenotypes.GTS_ASD_group</th>\n",
       "      <th>...</th>\n",
       "      <th>non_refs_hdc</th>\n",
       "      <th>non_refs_chadl</th>\n",
       "      <th>non_refs_maoa</th>\n",
       "      <th>non_refs_naa11</th>\n",
       "      <th>non_refs_pcdh10</th>\n",
       "      <th>non_refs_hdc_coding</th>\n",
       "      <th>non_refs_chadl_coding</th>\n",
       "      <th>non_refs_maoa_coding</th>\n",
       "      <th>non_refs_naa11_coding</th>\n",
       "      <th>non_refs_pcdh10_coding</th>\n",
       "    </tr>\n",
       "  </thead>\n",
       "  <tbody>\n",
       "    <tr>\n",
       "      <th>0</th>\n",
       "      <td>460</td>\n",
       "      <td>U</td>\n",
       "      <td>M</td>\n",
       "      <td>P</td>\n",
       "      <td>YES</td>\n",
       "      <td>GTS</td>\n",
       "      <td>.</td>\n",
       "      <td>.</td>\n",
       "      <td>.</td>\n",
       "      <td>.</td>\n",
       "      <td>...</td>\n",
       "      <td>3</td>\n",
       "      <td>2</td>\n",
       "      <td>0</td>\n",
       "      <td>9</td>\n",
       "      <td>18</td>\n",
       "      <td>0</td>\n",
       "      <td>1</td>\n",
       "      <td>0</td>\n",
       "      <td>0</td>\n",
       "      <td>0</td>\n",
       "    </tr>\n",
       "    <tr>\n",
       "      <th>1</th>\n",
       "      <td>461</td>\n",
       "      <td>U</td>\n",
       "      <td>M</td>\n",
       "      <td>father</td>\n",
       "      <td>YES</td>\n",
       "      <td>tics</td>\n",
       "      <td>.</td>\n",
       "      <td>.</td>\n",
       "      <td>.</td>\n",
       "      <td>.</td>\n",
       "      <td>...</td>\n",
       "      <td>2</td>\n",
       "      <td>2</td>\n",
       "      <td>0</td>\n",
       "      <td>6</td>\n",
       "      <td>13</td>\n",
       "      <td>0</td>\n",
       "      <td>1</td>\n",
       "      <td>0</td>\n",
       "      <td>0</td>\n",
       "      <td>0</td>\n",
       "    </tr>\n",
       "    <tr>\n",
       "      <th>2</th>\n",
       "      <td>462</td>\n",
       "      <td>U</td>\n",
       "      <td>F</td>\n",
       "      <td>mother</td>\n",
       "      <td>NO</td>\n",
       "      <td>.</td>\n",
       "      <td>.</td>\n",
       "      <td>.</td>\n",
       "      <td>.</td>\n",
       "      <td>.</td>\n",
       "      <td>...</td>\n",
       "      <td>3</td>\n",
       "      <td>2</td>\n",
       "      <td>0</td>\n",
       "      <td>4</td>\n",
       "      <td>14</td>\n",
       "      <td>0</td>\n",
       "      <td>1</td>\n",
       "      <td>0</td>\n",
       "      <td>0</td>\n",
       "      <td>0</td>\n",
       "    </tr>\n",
       "    <tr>\n",
       "      <th>3</th>\n",
       "      <td>463</td>\n",
       "      <td>U</td>\n",
       "      <td>M</td>\n",
       "      <td>father_brother_son</td>\n",
       "      <td>YES</td>\n",
       "      <td>GTS</td>\n",
       "      <td>.</td>\n",
       "      <td>.</td>\n",
       "      <td>.</td>\n",
       "      <td>.</td>\n",
       "      <td>...</td>\n",
       "      <td>3</td>\n",
       "      <td>3</td>\n",
       "      <td>0</td>\n",
       "      <td>5</td>\n",
       "      <td>5</td>\n",
       "      <td>1</td>\n",
       "      <td>1</td>\n",
       "      <td>0</td>\n",
       "      <td>0</td>\n",
       "      <td>0</td>\n",
       "    </tr>\n",
       "    <tr>\n",
       "      <th>4</th>\n",
       "      <td>465</td>\n",
       "      <td>U</td>\n",
       "      <td>M</td>\n",
       "      <td>father_father</td>\n",
       "      <td>YES</td>\n",
       "      <td>tics</td>\n",
       "      <td>.</td>\n",
       "      <td>.</td>\n",
       "      <td>.</td>\n",
       "      <td>.</td>\n",
       "      <td>...</td>\n",
       "      <td>5</td>\n",
       "      <td>2</td>\n",
       "      <td>0</td>\n",
       "      <td>6</td>\n",
       "      <td>7</td>\n",
       "      <td>1</td>\n",
       "      <td>1</td>\n",
       "      <td>0</td>\n",
       "      <td>0</td>\n",
       "      <td>0</td>\n",
       "    </tr>\n",
       "    <tr>\n",
       "      <th>...</th>\n",
       "      <td>...</td>\n",
       "      <td>...</td>\n",
       "      <td>...</td>\n",
       "      <td>...</td>\n",
       "      <td>...</td>\n",
       "      <td>...</td>\n",
       "      <td>...</td>\n",
       "      <td>...</td>\n",
       "      <td>...</td>\n",
       "      <td>...</td>\n",
       "      <td>...</td>\n",
       "      <td>...</td>\n",
       "      <td>...</td>\n",
       "      <td>...</td>\n",
       "      <td>...</td>\n",
       "      <td>...</td>\n",
       "      <td>...</td>\n",
       "      <td>...</td>\n",
       "      <td>...</td>\n",
       "      <td>...</td>\n",
       "      <td>...</td>\n",
       "    </tr>\n",
       "    <tr>\n",
       "      <th>140</th>\n",
       "      <td>WGS_D197c</td>\n",
       "      <td>T</td>\n",
       "      <td>M</td>\n",
       "      <td>father</td>\n",
       "      <td>YES</td>\n",
       "      <td>tics</td>\n",
       "      <td>.</td>\n",
       "      <td>.</td>\n",
       "      <td>.</td>\n",
       "      <td>.</td>\n",
       "      <td>...</td>\n",
       "      <td>3</td>\n",
       "      <td>6</td>\n",
       "      <td>0</td>\n",
       "      <td>6</td>\n",
       "      <td>16</td>\n",
       "      <td>0</td>\n",
       "      <td>2</td>\n",
       "      <td>0</td>\n",
       "      <td>0</td>\n",
       "      <td>0</td>\n",
       "    </tr>\n",
       "    <tr>\n",
       "      <th>141</th>\n",
       "      <td>WGS_D6811</td>\n",
       "      <td>T</td>\n",
       "      <td>M</td>\n",
       "      <td>brother</td>\n",
       "      <td>YES</td>\n",
       "      <td>tics</td>\n",
       "      <td>OCD</td>\n",
       "      <td>.</td>\n",
       "      <td>.</td>\n",
       "      <td>.</td>\n",
       "      <td>...</td>\n",
       "      <td>1</td>\n",
       "      <td>4</td>\n",
       "      <td>1</td>\n",
       "      <td>6</td>\n",
       "      <td>12</td>\n",
       "      <td>0</td>\n",
       "      <td>1</td>\n",
       "      <td>0</td>\n",
       "      <td>0</td>\n",
       "      <td>0</td>\n",
       "    </tr>\n",
       "    <tr>\n",
       "      <th>142</th>\n",
       "      <td>WGS_D6813</td>\n",
       "      <td>T</td>\n",
       "      <td>F</td>\n",
       "      <td>mother_sister</td>\n",
       "      <td>NO</td>\n",
       "      <td>.</td>\n",
       "      <td>.</td>\n",
       "      <td>.</td>\n",
       "      <td>.</td>\n",
       "      <td>.</td>\n",
       "      <td>...</td>\n",
       "      <td>1</td>\n",
       "      <td>0</td>\n",
       "      <td>0</td>\n",
       "      <td>7</td>\n",
       "      <td>12</td>\n",
       "      <td>0</td>\n",
       "      <td>0</td>\n",
       "      <td>0</td>\n",
       "      <td>0</td>\n",
       "      <td>0</td>\n",
       "    </tr>\n",
       "    <tr>\n",
       "      <th>143</th>\n",
       "      <td>WGS_D6815</td>\n",
       "      <td>T</td>\n",
       "      <td>F</td>\n",
       "      <td>father_mother</td>\n",
       "      <td>NO</td>\n",
       "      <td>.</td>\n",
       "      <td>.</td>\n",
       "      <td>.</td>\n",
       "      <td>.</td>\n",
       "      <td>.</td>\n",
       "      <td>...</td>\n",
       "      <td>3</td>\n",
       "      <td>2</td>\n",
       "      <td>0</td>\n",
       "      <td>6</td>\n",
       "      <td>16</td>\n",
       "      <td>0</td>\n",
       "      <td>1</td>\n",
       "      <td>0</td>\n",
       "      <td>0</td>\n",
       "      <td>0</td>\n",
       "    </tr>\n",
       "    <tr>\n",
       "      <th>144</th>\n",
       "      <td>WGS_D6816</td>\n",
       "      <td>T</td>\n",
       "      <td>M</td>\n",
       "      <td>father_father</td>\n",
       "      <td>YES</td>\n",
       "      <td>GTS</td>\n",
       "      <td>.</td>\n",
       "      <td>.</td>\n",
       "      <td>.</td>\n",
       "      <td>.</td>\n",
       "      <td>...</td>\n",
       "      <td>3</td>\n",
       "      <td>4</td>\n",
       "      <td>0</td>\n",
       "      <td>5</td>\n",
       "      <td>12</td>\n",
       "      <td>0</td>\n",
       "      <td>1</td>\n",
       "      <td>0</td>\n",
       "      <td>0</td>\n",
       "      <td>0</td>\n",
       "    </tr>\n",
       "  </tbody>\n",
       "</table>\n",
       "<p>145 rows × 21 columns</p>\n",
       "</div>"
      ],
      "text/plain": [
       "             s phenotypes.family phenotypes.sex  phenotypes.kinship  \\\n",
       "0          460                 U              M                   P   \n",
       "1          461                 U              M              father   \n",
       "2          462                 U              F              mother   \n",
       "3          463                 U              M  father_brother_son   \n",
       "4          465                 U              M       father_father   \n",
       "..         ...               ...            ...                 ...   \n",
       "140  WGS_D197c                 T              M              father   \n",
       "141  WGS_D6811                 T              M             brother   \n",
       "142  WGS_D6813                 T              F       mother_sister   \n",
       "143  WGS_D6815                 T              F       father_mother   \n",
       "144  WGS_D6816                 T              M       father_father   \n",
       "\n",
       "    phenotypes.disease phenotypes.phenotype phenotypes.add_pheno  \\\n",
       "0                  YES                  GTS                    .   \n",
       "1                  YES                 tics                    .   \n",
       "2                   NO                    .                    .   \n",
       "3                  YES                  GTS                    .   \n",
       "4                  YES                 tics                    .   \n",
       "..                 ...                  ...                  ...   \n",
       "140                YES                 tics                    .   \n",
       "141                YES                 tics                  OCD   \n",
       "142                 NO                    .                    .   \n",
       "143                 NO                    .                    .   \n",
       "144                YES                  GTS                    .   \n",
       "\n",
       "    phenotypes.heavy_tics phenotypes.heavy_tics_familial  \\\n",
       "0                       .                              .   \n",
       "1                       .                              .   \n",
       "2                       .                              .   \n",
       "3                       .                              .   \n",
       "4                       .                              .   \n",
       "..                    ...                            ...   \n",
       "140                     .                              .   \n",
       "141                     .                              .   \n",
       "142                     .                              .   \n",
       "143                     .                              .   \n",
       "144                     .                              .   \n",
       "\n",
       "    phenotypes.GTS_ASD_group  ... non_refs_hdc  non_refs_chadl  non_refs_maoa  \\\n",
       "0                          .  ...            3               2              0   \n",
       "1                          .  ...            2               2              0   \n",
       "2                          .  ...            3               2              0   \n",
       "3                          .  ...            3               3              0   \n",
       "4                          .  ...            5               2              0   \n",
       "..                       ...  ...          ...             ...            ...   \n",
       "140                        .  ...            3               6              0   \n",
       "141                        .  ...            1               4              1   \n",
       "142                        .  ...            1               0              0   \n",
       "143                        .  ...            3               2              0   \n",
       "144                        .  ...            3               4              0   \n",
       "\n",
       "     non_refs_naa11  non_refs_pcdh10  non_refs_hdc_coding  \\\n",
       "0                 9               18                    0   \n",
       "1                 6               13                    0   \n",
       "2                 4               14                    0   \n",
       "3                 5                5                    1   \n",
       "4                 6                7                    1   \n",
       "..              ...              ...                  ...   \n",
       "140               6               16                    0   \n",
       "141               6               12                    0   \n",
       "142               7               12                    0   \n",
       "143               6               16                    0   \n",
       "144               5               12                    0   \n",
       "\n",
       "     non_refs_chadl_coding  non_refs_maoa_coding  non_refs_naa11_coding  \\\n",
       "0                        1                     0                      0   \n",
       "1                        1                     0                      0   \n",
       "2                        1                     0                      0   \n",
       "3                        1                     0                      0   \n",
       "4                        1                     0                      0   \n",
       "..                     ...                   ...                    ...   \n",
       "140                      2                     0                      0   \n",
       "141                      1                     0                      0   \n",
       "142                      0                     0                      0   \n",
       "143                      1                     0                      0   \n",
       "144                      1                     0                      0   \n",
       "\n",
       "     non_refs_pcdh10_coding  \n",
       "0                         0  \n",
       "1                         0  \n",
       "2                         0  \n",
       "3                         0  \n",
       "4                         0  \n",
       "..                      ...  \n",
       "140                       0  \n",
       "141                       0  \n",
       "142                       0  \n",
       "143                       0  \n",
       "144                       0  \n",
       "\n",
       "[145 rows x 21 columns]"
      ]
     },
     "execution_count": 29,
     "metadata": {},
     "output_type": "execute_result"
    }
   ],
   "source": [
    "families"
   ]
  },
  {
   "cell_type": "code",
   "execution_count": 30,
   "metadata": {},
   "outputs": [],
   "source": [
    "families.to_csv('family_table')"
   ]
  },
  {
   "cell_type": "code",
   "execution_count": 103,
   "metadata": {},
   "outputs": [],
   "source": [
    "variants_gnomad = np.load('/net/archive/groups/plggneuromol/GTS-analysis/data/numpy/may-variants_controls5cadd10.npy')"
   ]
  },
  {
   "cell_type": "code",
   "execution_count": 106,
   "metadata": {},
   "outputs": [
    {
     "data": {
      "text/plain": [
       "21.6006976744186"
      ]
     },
     "execution_count": 106,
     "metadata": {},
     "output_type": "execute_result"
    }
   ],
   "source": [
    "np.sum(variants_gnomad) - 1.19"
   ]
  },
  {
   "cell_type": "code",
   "execution_count": 82,
   "metadata": {},
   "outputs": [],
   "source": [
    "variants_gts_test = np.load('/net/archive/groups/plggneuromol/GTS-analysis/data/numpy/variants_gts_test5cadd10.npy') "
   ]
  },
  {
   "cell_type": "code",
   "execution_count": 15,
   "metadata": {},
   "outputs": [],
   "source": [
    "top_test = hl.read_matrix_table('/net/archive/groups/plggneuromol/GTS-analysis/data/top-test.mt')"
   ]
  },
  {
   "cell_type": "code",
   "execution_count": 16,
   "metadata": {},
   "outputs": [
    {
     "data": {
      "text/plain": [
       "(98, 145)"
      ]
     },
     "execution_count": 16,
     "metadata": {},
     "output_type": "execute_result"
    }
   ],
   "source": [
    "top_test.count()"
   ]
  },
  {
   "cell_type": "markdown",
   "metadata": {},
   "source": [
    "## investigate variants that went into the model"
   ]
  },
  {
   "cell_type": "code",
   "execution_count": 28,
   "metadata": {},
   "outputs": [],
   "source": [
    "top = hl.read_matrix_table('/net/archive/groups/plggneuromol/GTS-analysis/data/top-variants.mt')"
   ]
  },
  {
   "cell_type": "code",
   "execution_count": 84,
   "metadata": {},
   "outputs": [
    {
     "data": {
      "text/plain": [
       "14.443469387755103"
      ]
     },
     "execution_count": 84,
     "metadata": {},
     "output_type": "execute_result"
    }
   ],
   "source": [
    "top.aggregate_rows(hl.agg.mean(top.cadd))"
   ]
  },
  {
   "cell_type": "code",
   "execution_count": 85,
   "metadata": {
    "scrolled": true
   },
   "outputs": [
    {
     "data": {
      "text/plain": [
       "13.74"
      ]
     },
     "execution_count": 85,
     "metadata": {},
     "output_type": "execute_result"
    }
   ],
   "source": [
    "top.aggregate_rows(hl.agg.approx_median(top.cadd))"
   ]
  },
  {
   "cell_type": "code",
   "execution_count": 86,
   "metadata": {
    "scrolled": false
   },
   "outputs": [
    {
     "data": {
      "text/html": [
       "\n",
       "\n",
       "\n",
       "\n",
       "\n",
       "\n",
       "  <div class=\"bk-root\" id=\"06559bb3-3fef-4d64-a49a-978e9fc6419b\" data-root-id=\"1003\"></div>\n"
      ]
     },
     "metadata": {},
     "output_type": "display_data"
    },
    {
     "data": {
      "application/javascript": [
       "(function(root) {\n",
       "  function embed_document(root) {\n",
       "    \n",
       "  var docs_json = {\"a289a32d-f0a1-4884-80de-8cf71620727f\":{\"roots\":{\"references\":[{\"attributes\":{\"background_fill_color\":{\"value\":\"#EEEEEE\"},\"below\":[{\"id\":\"1014\",\"type\":\"LinearAxis\"}],\"center\":[{\"id\":\"1018\",\"type\":\"Grid\"},{\"id\":\"1023\",\"type\":\"Grid\"},{\"id\":\"1048\",\"type\":\"Legend\"}],\"left\":[{\"id\":\"1019\",\"type\":\"LinearAxis\"}],\"renderers\":[{\"id\":\"1040\",\"type\":\"GlyphRenderer\"}],\"title\":{\"id\":\"1004\",\"type\":\"Title\"},\"toolbar\":{\"id\":\"1030\",\"type\":\"Toolbar\"},\"x_range\":{\"id\":\"1006\",\"type\":\"Range1d\"},\"x_scale\":{\"id\":\"1010\",\"type\":\"LinearScale\"},\"y_range\":{\"id\":\"1008\",\"type\":\"DataRange1d\"},\"y_scale\":{\"id\":\"1012\",\"type\":\"LinearScale\"}},\"id\":\"1003\",\"subtype\":\"Figure\",\"type\":\"Plot\"},{\"attributes\":{},\"id\":\"1025\",\"type\":\"WheelZoomTool\"},{\"attributes\":{\"dimension\":1,\"ticker\":{\"id\":\"1020\",\"type\":\"BasicTicker\"}},\"id\":\"1023\",\"type\":\"Grid\"},{\"attributes\":{\"source\":{\"id\":\"1037\",\"type\":\"ColumnDataSource\"}},\"id\":\"1041\",\"type\":\"CDSView\"},{\"attributes\":{},\"id\":\"1055\",\"type\":\"UnionRenderers\"},{\"attributes\":{\"callback\":null},\"id\":\"1008\",\"type\":\"DataRange1d\"},{\"attributes\":{\"active_drag\":\"auto\",\"active_inspect\":\"auto\",\"active_multi\":null,\"active_scroll\":\"auto\",\"active_tap\":\"auto\",\"tools\":[{\"id\":\"1024\",\"type\":\"PanTool\"},{\"id\":\"1025\",\"type\":\"WheelZoomTool\"},{\"id\":\"1026\",\"type\":\"BoxZoomTool\"},{\"id\":\"1027\",\"type\":\"SaveTool\"},{\"id\":\"1028\",\"type\":\"ResetTool\"},{\"id\":\"1029\",\"type\":\"HelpTool\"}]},\"id\":\"1030\",\"type\":\"Toolbar\"},{\"attributes\":{\"bottom_units\":\"screen\",\"fill_alpha\":{\"value\":0.5},\"fill_color\":{\"value\":\"lightgrey\"},\"left_units\":\"screen\",\"level\":\"overlay\",\"line_alpha\":{\"value\":1.0},\"line_color\":{\"value\":\"black\"},\"line_dash\":[4,4],\"line_width\":{\"value\":2},\"render_mode\":\"css\",\"right_units\":\"screen\",\"top_units\":\"screen\"},\"id\":\"1047\",\"type\":\"BoxAnnotation\"},{\"attributes\":{\"data_source\":{\"id\":\"1037\",\"type\":\"ColumnDataSource\"},\"glyph\":{\"id\":\"1038\",\"type\":\"Quad\"},\"hover_glyph\":null,\"muted_glyph\":null,\"nonselection_glyph\":{\"id\":\"1039\",\"type\":\"Quad\"},\"selection_glyph\":null,\"view\":{\"id\":\"1041\",\"type\":\"CDSView\"}},\"id\":\"1040\",\"type\":\"GlyphRenderer\"},{\"attributes\":{},\"id\":\"1044\",\"type\":\"BasicTickFormatter\"},{\"attributes\":{\"label\":{\"value\":\"CADD\"},\"renderers\":[{\"id\":\"1040\",\"type\":\"GlyphRenderer\"}]},\"id\":\"1049\",\"type\":\"LegendItem\"},{\"attributes\":{\"overlay\":{\"id\":\"1047\",\"type\":\"BoxAnnotation\"}},\"id\":\"1026\",\"type\":\"BoxZoomTool\"},{\"attributes\":{},\"id\":\"1027\",\"type\":\"SaveTool\"},{\"attributes\":{\"callback\":null,\"end\":31.5,\"start\":-1.5},\"id\":\"1006\",\"type\":\"Range1d\"},{\"attributes\":{\"bottom\":{\"value\":0},\"fill_alpha\":{\"value\":0.1},\"fill_color\":{\"value\":\"#1f77b4\"},\"left\":{\"field\":\"left\"},\"line_alpha\":{\"value\":0.1},\"line_color\":{\"value\":\"#1f77b4\"},\"right\":{\"field\":\"right\"},\"top\":{\"field\":\"top\"}},\"id\":\"1039\",\"type\":\"Quad\"},{\"attributes\":{},\"id\":\"1010\",\"type\":\"LinearScale\"},{\"attributes\":{},\"id\":\"1024\",\"type\":\"PanTool\"},{\"attributes\":{\"text\":\"CADD Histogram\"},\"id\":\"1004\",\"type\":\"Title\"},{\"attributes\":{},\"id\":\"1056\",\"type\":\"Selection\"},{\"attributes\":{},\"id\":\"1015\",\"type\":\"BasicTicker\"},{\"attributes\":{\"axis_label\":\"CADD\",\"axis_label_text_font_size\":{\"value\":\"15pt\"},\"formatter\":{\"id\":\"1044\",\"type\":\"BasicTickFormatter\"},\"major_label_text_font_size\":{\"value\":\"15pt\"},\"ticker\":{\"id\":\"1015\",\"type\":\"BasicTicker\"}},\"id\":\"1014\",\"type\":\"LinearAxis\"},{\"attributes\":{},\"id\":\"1020\",\"type\":\"BasicTicker\"},{\"attributes\":{\"bottom\":{\"value\":0},\"fill_color\":{\"value\":\"#1f77b4\"},\"left\":{\"field\":\"left\"},\"right\":{\"field\":\"right\"},\"top\":{\"field\":\"top\"}},\"id\":\"1038\",\"type\":\"Quad\"},{\"attributes\":{},\"id\":\"1012\",\"type\":\"LinearScale\"},{\"attributes\":{\"axis_label\":\"Frequency\",\"axis_label_text_font_size\":{\"value\":\"15pt\"},\"formatter\":{\"id\":\"1046\",\"type\":\"BasicTickFormatter\"},\"major_label_text_font_size\":{\"value\":\"15pt\"},\"ticker\":{\"id\":\"1020\",\"type\":\"BasicTicker\"}},\"id\":\"1019\",\"type\":\"LinearAxis\"},{\"attributes\":{},\"id\":\"1029\",\"type\":\"HelpTool\"},{\"attributes\":{},\"id\":\"1046\",\"type\":\"BasicTickFormatter\"},{\"attributes\":{\"ticker\":{\"id\":\"1015\",\"type\":\"BasicTicker\"}},\"id\":\"1018\",\"type\":\"Grid\"},{\"attributes\":{\"callback\":null,\"data\":{\"left\":[0.0,3.0,6.0,9.0,12.0,15.0,18.0,21.0,24.0,27.0],\"right\":[3.0,6.0,9.0,12.0,15.0,18.0,21.0,24.0,27.0,30.0],\"top\":[0,0,0,32,32,18,11,3,2,0]},\"selected\":{\"id\":\"1056\",\"type\":\"Selection\"},\"selection_policy\":{\"id\":\"1055\",\"type\":\"UnionRenderers\"}},\"id\":\"1037\",\"type\":\"ColumnDataSource\"},{\"attributes\":{\"items\":[{\"id\":\"1049\",\"type\":\"LegendItem\"}]},\"id\":\"1048\",\"type\":\"Legend\"},{\"attributes\":{},\"id\":\"1028\",\"type\":\"ResetTool\"}],\"root_ids\":[\"1003\"]},\"title\":\"Bokeh Application\",\"version\":\"1.4.0\"}};\n",
       "  var render_items = [{\"docid\":\"a289a32d-f0a1-4884-80de-8cf71620727f\",\"roots\":{\"1003\":\"06559bb3-3fef-4d64-a49a-978e9fc6419b\"}}];\n",
       "  root.Bokeh.embed.embed_items_notebook(docs_json, render_items);\n",
       "\n",
       "  }\n",
       "  if (root.Bokeh !== undefined) {\n",
       "    embed_document(root);\n",
       "  } else {\n",
       "    var attempts = 0;\n",
       "    var timer = setInterval(function(root) {\n",
       "      if (root.Bokeh !== undefined) {\n",
       "        clearInterval(timer);\n",
       "        embed_document(root);\n",
       "      } else {\n",
       "        attempts++;\n",
       "        if (attempts > 100) {\n",
       "          clearInterval(timer);\n",
       "          console.log(\"Bokeh: ERROR: Unable to run BokehJS code because BokehJS library is missing\");\n",
       "        }\n",
       "      }\n",
       "    }, 10, root)\n",
       "  }\n",
       "})(window);"
      ],
      "application/vnd.bokehjs_exec.v0+json": ""
     },
     "metadata": {
      "application/vnd.bokehjs_exec.v0+json": {
       "id": "1003"
      }
     },
     "output_type": "display_data"
    }
   ],
   "source": [
    "cadd_hist = top.aggregate_rows(hl.expr.aggregators.hist(top.cadd, 0, 30, 10))\n",
    "\n",
    "p = hl.plot.histogram(cadd_hist, legend='CADD', title='CADD Histogram')\n",
    "p.xaxis.axis_label_text_font_size = \"15pt\"\n",
    "p.xaxis.major_label_text_font_size = \"15pt\"\n",
    "p.yaxis.axis_label_text_font_size = \"15pt\"\n",
    "p.yaxis.major_label_text_font_size = \"15pt\"\n",
    "show(p)"
   ]
  },
  {
   "cell_type": "code",
   "execution_count": 87,
   "metadata": {},
   "outputs": [
    {
     "name": "stdout",
     "output_type": "stream",
     "text": [
      "----------------------------------------\n",
      "Global fields:\n",
      "    None\n",
      "----------------------------------------\n",
      "Column fields:\n",
      "    's': str\n",
      "    'phenotypes': struct {\n",
      "        family: str, \n",
      "        sex: str, \n",
      "        kinship: str, \n",
      "        disease: str, \n",
      "        phenotype: str, \n",
      "        add_pheno: str, \n",
      "        heavy_tics: str\n",
      "    }\n",
      "----------------------------------------\n",
      "Row fields:\n",
      "    'locus': locus<GRCh38>\n",
      "    'alleles': array<str>\n",
      "    'rsid': str\n",
      "    'AC': array<int32>\n",
      "    'AF': array<float64>\n",
      "    'AN': int32\n",
      "    'a_index': int32\n",
      "    'was_split': bool\n",
      "    'gnomad_v3': struct {\n",
      "        v3_nfe: struct {\n",
      "            AC: int32, \n",
      "            AF: float64, \n",
      "            AN: int32, \n",
      "            homozygote_count: int32\n",
      "        }, \n",
      "        intergenic_consequences: array<struct {\n",
      "            allele_num: int32, \n",
      "            consequence_terms: array<str>, \n",
      "            impact: str, \n",
      "            minimised: int32, \n",
      "            variant_allele: str\n",
      "        }>, \n",
      "        most_severe_consequence: str, \n",
      "        motif_feature_consequences: array<struct {\n",
      "            allele_num: int32, \n",
      "            consequence_terms: array<str>, \n",
      "            high_inf_pos: str, \n",
      "            impact: str, \n",
      "            minimised: int32, \n",
      "            motif_feature_id: str, \n",
      "            motif_name: str, \n",
      "            motif_pos: int32, \n",
      "            motif_score_change: float64, \n",
      "            strand: int32, \n",
      "            variant_allele: str\n",
      "        }>, \n",
      "        regulatory_feature_consequences: array<struct {\n",
      "            allele_num: int32, \n",
      "            biotype: str, \n",
      "            consequence_terms: array<str>, \n",
      "            impact: str, \n",
      "            minimised: int32, \n",
      "            regulatory_feature_id: str, \n",
      "            variant_allele: str\n",
      "        }>, \n",
      "        transcript_consequences: array<struct {\n",
      "            allele_num: int32, \n",
      "            amino_acids: str, \n",
      "            appris: str, \n",
      "            biotype: str, \n",
      "            canonical: int32, \n",
      "            ccds: str, \n",
      "            cdna_start: int32, \n",
      "            cdna_end: int32, \n",
      "            cds_end: int32, \n",
      "            cds_start: int32, \n",
      "            codons: str, \n",
      "            consequence_terms: array<str>, \n",
      "            distance: int32, \n",
      "            domains: array<struct {\n",
      "                db: str, \n",
      "                name: str\n",
      "            }>, \n",
      "            exon: str, \n",
      "            gene_id: str, \n",
      "            gene_pheno: int32, \n",
      "            gene_symbol: str, \n",
      "            gene_symbol_source: str, \n",
      "            hgnc_id: str, \n",
      "            hgvsc: str, \n",
      "            hgvsp: str, \n",
      "            hgvs_offset: int32, \n",
      "            impact: str, \n",
      "            intron: str, \n",
      "            lof: str, \n",
      "            lof_flags: str, \n",
      "            lof_filter: str, \n",
      "            lof_info: str, \n",
      "            minimised: int32, \n",
      "            polyphen_prediction: str, \n",
      "            polyphen_score: float64, \n",
      "            protein_end: int32, \n",
      "            protein_start: int32, \n",
      "            protein_id: str, \n",
      "            sift_prediction: str, \n",
      "            sift_score: float64, \n",
      "            strand: int32, \n",
      "            swissprot: str, \n",
      "            transcript_id: str, \n",
      "            trembl: str, \n",
      "            tsl: int32, \n",
      "            uniparc: str, \n",
      "            variant_allele: str\n",
      "        }>, \n",
      "        variant_class: str, \n",
      "        rsid: str, \n",
      "        cov_v3: struct {\n",
      "            over_1: float32\n",
      "        }\n",
      "    }\n",
      "    'within_gene': array<str>\n",
      "    'hpo': array<array<str>>\n",
      "    'cadd': float64\n",
      "    'nearest_genes_20kb': array<str>\n",
      "----------------------------------------\n",
      "Entry fields:\n",
      "    'AD': array<int32>\n",
      "    'DP': int32\n",
      "    'GQ': int32\n",
      "    'GT': call\n",
      "    'MIN_DP': int32\n",
      "    'PGT': call\n",
      "    'PID': str\n",
      "    'PL': array<int32>\n",
      "    'PS': int32\n",
      "    'RGQ': int32\n",
      "    'SB': array<int32>\n",
      "----------------------------------------\n",
      "Column key: ['s']\n",
      "Row key: ['locus', 'alleles']\n",
      "----------------------------------------\n"
     ]
    }
   ],
   "source": [
    "top.describe()"
   ]
  },
  {
   "cell_type": "code",
   "execution_count": 88,
   "metadata": {
    "scrolled": false
   },
   "outputs": [
    {
     "data": {
      "text/plain": [
       "0.1787776166342685"
      ]
     },
     "execution_count": 88,
     "metadata": {},
     "output_type": "execute_result"
    }
   ],
   "source": [
    "top.aggregate_rows(hl.agg.mean(top.gnomad_v3.v3_nfe.AF))"
   ]
  },
  {
   "cell_type": "code",
   "execution_count": 89,
   "metadata": {
    "scrolled": true
   },
   "outputs": [
    {
     "data": {
      "text/plain": [
       "0.03460930967202453"
      ]
     },
     "execution_count": 89,
     "metadata": {},
     "output_type": "execute_result"
    }
   ],
   "source": [
    "top.aggregate_rows(hl.agg.approx_median(top.gnomad_v3.v3_nfe.AF))"
   ]
  },
  {
   "cell_type": "code",
   "execution_count": 90,
   "metadata": {},
   "outputs": [
    {
     "data": {
      "text/html": [
       "\n",
       "\n",
       "\n",
       "\n",
       "\n",
       "\n",
       "  <div class=\"bk-root\" id=\"23a6d24c-74d2-49bd-a342-0647de5cad93\" data-root-id=\"1106\"></div>\n"
      ]
     },
     "metadata": {},
     "output_type": "display_data"
    },
    {
     "data": {
      "application/javascript": [
       "(function(root) {\n",
       "  function embed_document(root) {\n",
       "    \n",
       "  var docs_json = {\"3f61168b-28e8-4546-aac6-fe7a2e511627\":{\"roots\":{\"references\":[{\"attributes\":{\"background_fill_color\":{\"value\":\"#EEEEEE\"},\"below\":[{\"id\":\"1117\",\"type\":\"LinearAxis\"}],\"center\":[{\"id\":\"1121\",\"type\":\"Grid\"},{\"id\":\"1126\",\"type\":\"Grid\"},{\"id\":\"1151\",\"type\":\"Legend\"}],\"left\":[{\"id\":\"1122\",\"type\":\"LinearAxis\"}],\"renderers\":[{\"id\":\"1143\",\"type\":\"GlyphRenderer\"},{\"id\":\"1156\",\"type\":\"GlyphRenderer\"}],\"title\":{\"id\":\"1107\",\"type\":\"Title\"},\"toolbar\":{\"id\":\"1133\",\"type\":\"Toolbar\"},\"x_range\":{\"id\":\"1109\",\"type\":\"Range1d\"},\"x_scale\":{\"id\":\"1113\",\"type\":\"LinearScale\"},\"y_range\":{\"id\":\"1111\",\"type\":\"DataRange1d\"},\"y_scale\":{\"id\":\"1115\",\"type\":\"LinearScale\"}},\"id\":\"1106\",\"subtype\":\"Figure\",\"type\":\"Plot\"},{\"attributes\":{\"bottom\":{\"value\":0},\"fill_color\":{\"value\":\"#1f77b4\"},\"left\":{\"field\":\"left\"},\"right\":{\"field\":\"right\"},\"top\":{\"field\":\"top\"}},\"id\":\"1141\",\"type\":\"Quad\"},{\"attributes\":{\"source\":{\"id\":\"1153\",\"type\":\"ColumnDataSource\"}},\"id\":\"1157\",\"type\":\"CDSView\"},{\"attributes\":{\"overlay\":{\"id\":\"1150\",\"type\":\"BoxAnnotation\"}},\"id\":\"1129\",\"type\":\"BoxZoomTool\"},{\"attributes\":{},\"id\":\"1147\",\"type\":\"BasicTickFormatter\"},{\"attributes\":{\"callback\":null,\"data\":{},\"selected\":{\"id\":\"1183\",\"type\":\"Selection\"},\"selection_policy\":{\"id\":\"1182\",\"type\":\"UnionRenderers\"}},\"id\":\"1153\",\"type\":\"ColumnDataSource\"},{\"attributes\":{},\"id\":\"1149\",\"type\":\"BasicTickFormatter\"},{\"attributes\":{\"label\":{\"value\":\"Outliers Above\"},\"renderers\":[{\"id\":\"1156\",\"type\":\"GlyphRenderer\"}]},\"id\":\"1166\",\"type\":\"LegendItem\"},{\"attributes\":{},\"id\":\"1123\",\"type\":\"BasicTicker\"},{\"attributes\":{},\"id\":\"1118\",\"type\":\"BasicTicker\"},{\"attributes\":{},\"id\":\"1183\",\"type\":\"Selection\"},{\"attributes\":{},\"id\":\"1130\",\"type\":\"SaveTool\"},{\"attributes\":{\"data_source\":{\"id\":\"1140\",\"type\":\"ColumnDataSource\"},\"glyph\":{\"id\":\"1141\",\"type\":\"Quad\"},\"hover_glyph\":null,\"muted_glyph\":null,\"nonselection_glyph\":{\"id\":\"1142\",\"type\":\"Quad\"},\"selection_glyph\":null,\"view\":{\"id\":\"1144\",\"type\":\"CDSView\"}},\"id\":\"1143\",\"type\":\"GlyphRenderer\"},{\"attributes\":{\"callback\":null,\"data\":{\"left\":[0.0,0.01,0.02,0.03,0.04,0.05,0.06,0.07,0.08,0.09,0.1,0.11,0.12,0.13,0.14,0.15,0.16,0.17,0.18,0.19],\"right\":[0.01,0.02,0.03,0.04,0.05,0.06,0.07,0.08,0.09,0.1,0.11,0.12,0.13,0.14,0.15,0.16,0.17,0.18,0.19,0.2],\"top\":[30,6,7,3,1,5,0,0,4,3,2,0,0,0,0,2,0,1,1,0]},\"selected\":{\"id\":\"1164\",\"type\":\"Selection\"},\"selection_policy\":{\"id\":\"1163\",\"type\":\"UnionRenderers\"}},\"id\":\"1140\",\"type\":\"ColumnDataSource\"},{\"attributes\":{\"axis_label\":\"gnomAD MAF\",\"axis_label_text_font_size\":{\"value\":\"15pt\"},\"formatter\":{\"id\":\"1147\",\"type\":\"BasicTickFormatter\"},\"major_label_text_font_size\":{\"value\":\"15pt\"},\"ticker\":{\"id\":\"1118\",\"type\":\"BasicTicker\"}},\"id\":\"1117\",\"type\":\"LinearAxis\"},{\"attributes\":{},\"id\":\"1164\",\"type\":\"Selection\"},{\"attributes\":{},\"id\":\"1115\",\"type\":\"LinearScale\"},{\"attributes\":{\"label\":{\"value\":\"gnomAD MAF\"},\"renderers\":[{\"id\":\"1143\",\"type\":\"GlyphRenderer\"}]},\"id\":\"1152\",\"type\":\"LegendItem\"},{\"attributes\":{\"callback\":null,\"end\":0.21000000000000002,\"start\":-0.010000000000000002},\"id\":\"1109\",\"type\":\"Range1d\"},{\"attributes\":{\"bottom\":{\"value\":0},\"fill_alpha\":{\"value\":0.1},\"fill_color\":{\"value\":\"#1f77b4\"},\"left\":{\"field\":\"left\"},\"line_alpha\":{\"value\":0.1},\"line_color\":{\"value\":\"#1f77b4\"},\"right\":{\"field\":\"right\"},\"top\":{\"field\":\"top\"}},\"id\":\"1142\",\"type\":\"Quad\"},{\"attributes\":{\"dimension\":1,\"ticker\":{\"id\":\"1123\",\"type\":\"BasicTicker\"}},\"id\":\"1126\",\"type\":\"Grid\"},{\"attributes\":{},\"id\":\"1182\",\"type\":\"UnionRenderers\"},{\"attributes\":{\"active_drag\":\"auto\",\"active_inspect\":\"auto\",\"active_multi\":null,\"active_scroll\":\"auto\",\"active_tap\":\"auto\",\"tools\":[{\"id\":\"1127\",\"type\":\"PanTool\"},{\"id\":\"1128\",\"type\":\"WheelZoomTool\"},{\"id\":\"1129\",\"type\":\"BoxZoomTool\"},{\"id\":\"1130\",\"type\":\"SaveTool\"},{\"id\":\"1131\",\"type\":\"ResetTool\"},{\"id\":\"1132\",\"type\":\"HelpTool\"}]},\"id\":\"1133\",\"type\":\"Toolbar\"},{\"attributes\":{},\"id\":\"1127\",\"type\":\"PanTool\"},{\"attributes\":{\"callback\":null},\"id\":\"1111\",\"type\":\"DataRange1d\"},{\"attributes\":{\"text\":\"MAF Histogram\"},\"id\":\"1107\",\"type\":\"Title\"},{\"attributes\":{\"bottom\":{\"value\":0},\"fill_alpha\":{\"value\":0.1},\"fill_color\":{\"value\":\"#1f77b4\"},\"left\":{\"value\":0.2},\"line_alpha\":{\"value\":0.1},\"line_color\":{\"value\":\"#1f77b4\"},\"right\":{\"value\":0.21000000000000002},\"top\":{\"value\":25}},\"id\":\"1155\",\"type\":\"Quad\"},{\"attributes\":{},\"id\":\"1131\",\"type\":\"ResetTool\"},{\"attributes\":{},\"id\":\"1132\",\"type\":\"HelpTool\"},{\"attributes\":{\"source\":{\"id\":\"1140\",\"type\":\"ColumnDataSource\"}},\"id\":\"1144\",\"type\":\"CDSView\"},{\"attributes\":{\"items\":[{\"id\":\"1152\",\"type\":\"LegendItem\"},{\"id\":\"1166\",\"type\":\"LegendItem\"}]},\"id\":\"1151\",\"type\":\"Legend\"},{\"attributes\":{},\"id\":\"1163\",\"type\":\"UnionRenderers\"},{\"attributes\":{\"data_source\":{\"id\":\"1153\",\"type\":\"ColumnDataSource\"},\"glyph\":{\"id\":\"1154\",\"type\":\"Quad\"},\"hover_glyph\":null,\"muted_glyph\":null,\"nonselection_glyph\":{\"id\":\"1155\",\"type\":\"Quad\"},\"selection_glyph\":null,\"view\":{\"id\":\"1157\",\"type\":\"CDSView\"}},\"id\":\"1156\",\"type\":\"GlyphRenderer\"},{\"attributes\":{},\"id\":\"1113\",\"type\":\"LinearScale\"},{\"attributes\":{\"bottom_units\":\"screen\",\"fill_alpha\":{\"value\":0.5},\"fill_color\":{\"value\":\"lightgrey\"},\"left_units\":\"screen\",\"level\":\"overlay\",\"line_alpha\":{\"value\":1.0},\"line_color\":{\"value\":\"black\"},\"line_dash\":[4,4],\"line_width\":{\"value\":2},\"render_mode\":\"css\",\"right_units\":\"screen\",\"top_units\":\"screen\"},\"id\":\"1150\",\"type\":\"BoxAnnotation\"},{\"attributes\":{\"axis_label\":\"Frequency\",\"axis_label_text_font_size\":{\"value\":\"15pt\"},\"formatter\":{\"id\":\"1149\",\"type\":\"BasicTickFormatter\"},\"major_label_text_font_size\":{\"value\":\"15pt\"},\"ticker\":{\"id\":\"1123\",\"type\":\"BasicTicker\"}},\"id\":\"1122\",\"type\":\"LinearAxis\"},{\"attributes\":{\"bottom\":{\"value\":0},\"fill_color\":{\"value\":\"green\"},\"left\":{\"value\":0.2},\"right\":{\"value\":0.21000000000000002},\"top\":{\"value\":25}},\"id\":\"1154\",\"type\":\"Quad\"},{\"attributes\":{\"ticker\":{\"id\":\"1118\",\"type\":\"BasicTicker\"}},\"id\":\"1121\",\"type\":\"Grid\"},{\"attributes\":{},\"id\":\"1128\",\"type\":\"WheelZoomTool\"}],\"root_ids\":[\"1106\"]},\"title\":\"Bokeh Application\",\"version\":\"1.4.0\"}};\n",
       "  var render_items = [{\"docid\":\"3f61168b-28e8-4546-aac6-fe7a2e511627\",\"roots\":{\"1106\":\"23a6d24c-74d2-49bd-a342-0647de5cad93\"}}];\n",
       "  root.Bokeh.embed.embed_items_notebook(docs_json, render_items);\n",
       "\n",
       "  }\n",
       "  if (root.Bokeh !== undefined) {\n",
       "    embed_document(root);\n",
       "  } else {\n",
       "    var attempts = 0;\n",
       "    var timer = setInterval(function(root) {\n",
       "      if (root.Bokeh !== undefined) {\n",
       "        clearInterval(timer);\n",
       "        embed_document(root);\n",
       "      } else {\n",
       "        attempts++;\n",
       "        if (attempts > 100) {\n",
       "          clearInterval(timer);\n",
       "          console.log(\"Bokeh: ERROR: Unable to run BokehJS code because BokehJS library is missing\");\n",
       "        }\n",
       "      }\n",
       "    }, 10, root)\n",
       "  }\n",
       "})(window);"
      ],
      "application/vnd.bokehjs_exec.v0+json": ""
     },
     "metadata": {
      "application/vnd.bokehjs_exec.v0+json": {
       "id": "1106"
      }
     },
     "output_type": "display_data"
    }
   ],
   "source": [
    "gnomad_hist = top.aggregate_rows(hl.expr.aggregators.hist(top.gnomad_v3.v3_nfe.AF, 0, 0.2, 20))\n",
    "\n",
    "p2 = hl.plot.histogram(gnomad_hist, legend='gnomAD MAF', title='MAF Histogram')\n",
    "p2.xaxis.axis_label_text_font_size = \"15pt\"\n",
    "p2.xaxis.major_label_text_font_size = \"15pt\"\n",
    "p2.yaxis.axis_label_text_font_size = \"15pt\"\n",
    "p2.yaxis.major_label_text_font_size = \"15pt\"\n",
    "\n",
    "show(p2)"
   ]
  },
  {
   "cell_type": "code",
   "execution_count": 91,
   "metadata": {},
   "outputs": [
    {
     "data": {
      "text/plain": [
       "(98, 370)"
      ]
     },
     "execution_count": 91,
     "metadata": {},
     "output_type": "execute_result"
    }
   ],
   "source": [
    "top.count()"
   ]
  },
  {
   "cell_type": "code",
   "execution_count": 92,
   "metadata": {},
   "outputs": [
    {
     "data": {
      "text/plain": [
       "{None: 8,\n",
       " 'missense_variant': 6,\n",
       " 'non_coding_transcript_exon_variant': 3,\n",
       " 'intron_variant': 48,\n",
       " 'synonymous_variant': 5,\n",
       " 'intergenic_variant': 6,\n",
       " 'upstream_gene_variant': 1,\n",
       " '3_prime_UTR_variant': 10,\n",
       " 'downstream_gene_variant': 7,\n",
       " 'regulatory_region_variant': 2,\n",
       " '5_prime_UTR_variant': 2}"
      ]
     },
     "execution_count": 92,
     "metadata": {},
     "output_type": "execute_result"
    }
   ],
   "source": [
    "top.aggregate_rows(hl.agg.counter(top.gnomad_v3.most_severe_consequence))"
   ]
  },
  {
   "cell_type": "code",
   "execution_count": 93,
   "metadata": {},
   "outputs": [
    {
     "name": "stdout",
     "output_type": "stream",
     "text": [
      "----------------------------------------\n",
      "Global fields:\n",
      "    None\n",
      "----------------------------------------\n",
      "Column fields:\n",
      "    's': str\n",
      "    'phenotypes': struct {\n",
      "        family: str, \n",
      "        sex: str, \n",
      "        kinship: str, \n",
      "        disease: str, \n",
      "        phenotype: str, \n",
      "        add_pheno: str, \n",
      "        heavy_tics: str\n",
      "    }\n",
      "----------------------------------------\n",
      "Row fields:\n",
      "    'locus': locus<GRCh38>\n",
      "    'alleles': array<str>\n",
      "    'rsid': str\n",
      "    'AC': array<int32>\n",
      "    'AF': array<float64>\n",
      "    'AN': int32\n",
      "    'a_index': int32\n",
      "    'was_split': bool\n",
      "    'gnomad_v3': struct {\n",
      "        v3_nfe: struct {\n",
      "            AC: int32, \n",
      "            AF: float64, \n",
      "            AN: int32, \n",
      "            homozygote_count: int32\n",
      "        }, \n",
      "        intergenic_consequences: array<struct {\n",
      "            allele_num: int32, \n",
      "            consequence_terms: array<str>, \n",
      "            impact: str, \n",
      "            minimised: int32, \n",
      "            variant_allele: str\n",
      "        }>, \n",
      "        most_severe_consequence: str, \n",
      "        motif_feature_consequences: array<struct {\n",
      "            allele_num: int32, \n",
      "            consequence_terms: array<str>, \n",
      "            high_inf_pos: str, \n",
      "            impact: str, \n",
      "            minimised: int32, \n",
      "            motif_feature_id: str, \n",
      "            motif_name: str, \n",
      "            motif_pos: int32, \n",
      "            motif_score_change: float64, \n",
      "            strand: int32, \n",
      "            variant_allele: str\n",
      "        }>, \n",
      "        regulatory_feature_consequences: array<struct {\n",
      "            allele_num: int32, \n",
      "            biotype: str, \n",
      "            consequence_terms: array<str>, \n",
      "            impact: str, \n",
      "            minimised: int32, \n",
      "            regulatory_feature_id: str, \n",
      "            variant_allele: str\n",
      "        }>, \n",
      "        transcript_consequences: array<struct {\n",
      "            allele_num: int32, \n",
      "            amino_acids: str, \n",
      "            appris: str, \n",
      "            biotype: str, \n",
      "            canonical: int32, \n",
      "            ccds: str, \n",
      "            cdna_start: int32, \n",
      "            cdna_end: int32, \n",
      "            cds_end: int32, \n",
      "            cds_start: int32, \n",
      "            codons: str, \n",
      "            consequence_terms: array<str>, \n",
      "            distance: int32, \n",
      "            domains: array<struct {\n",
      "                db: str, \n",
      "                name: str\n",
      "            }>, \n",
      "            exon: str, \n",
      "            gene_id: str, \n",
      "            gene_pheno: int32, \n",
      "            gene_symbol: str, \n",
      "            gene_symbol_source: str, \n",
      "            hgnc_id: str, \n",
      "            hgvsc: str, \n",
      "            hgvsp: str, \n",
      "            hgvs_offset: int32, \n",
      "            impact: str, \n",
      "            intron: str, \n",
      "            lof: str, \n",
      "            lof_flags: str, \n",
      "            lof_filter: str, \n",
      "            lof_info: str, \n",
      "            minimised: int32, \n",
      "            polyphen_prediction: str, \n",
      "            polyphen_score: float64, \n",
      "            protein_end: int32, \n",
      "            protein_start: int32, \n",
      "            protein_id: str, \n",
      "            sift_prediction: str, \n",
      "            sift_score: float64, \n",
      "            strand: int32, \n",
      "            swissprot: str, \n",
      "            transcript_id: str, \n",
      "            trembl: str, \n",
      "            tsl: int32, \n",
      "            uniparc: str, \n",
      "            variant_allele: str\n",
      "        }>, \n",
      "        variant_class: str, \n",
      "        rsid: str, \n",
      "        cov_v3: struct {\n",
      "            over_1: float32\n",
      "        }\n",
      "    }\n",
      "    'within_gene': array<str>\n",
      "    'hpo': array<array<str>>\n",
      "    'cadd': float64\n",
      "    'nearest_genes_20kb': array<str>\n",
      "----------------------------------------\n",
      "Entry fields:\n",
      "    'AD': array<int32>\n",
      "    'DP': int32\n",
      "    'GQ': int32\n",
      "    'GT': call\n",
      "    'MIN_DP': int32\n",
      "    'PGT': call\n",
      "    'PID': str\n",
      "    'PL': array<int32>\n",
      "    'PS': int32\n",
      "    'RGQ': int32\n",
      "    'SB': array<int32>\n",
      "----------------------------------------\n",
      "Column key: ['s']\n",
      "Row key: ['locus', 'alleles']\n",
      "----------------------------------------\n"
     ]
    }
   ],
   "source": [
    "top.describe()"
   ]
  },
  {
   "cell_type": "markdown",
   "metadata": {},
   "source": [
    "## export top variants"
   ]
  },
  {
   "cell_type": "code",
   "execution_count": 31,
   "metadata": {},
   "outputs": [],
   "source": [
    "top = hl.read_matrix_table('/net/archive/groups/plggneuromol/GTS-analysis/data/top-variants.mt')"
   ]
  },
  {
   "cell_type": "code",
   "execution_count": 32,
   "metadata": {},
   "outputs": [
    {
     "data": {
      "text/plain": [
       "(98, 370)"
      ]
     },
     "execution_count": 32,
     "metadata": {},
     "output_type": "execute_result"
    }
   ],
   "source": [
    "top.count()"
   ]
  },
  {
   "cell_type": "code",
   "execution_count": 33,
   "metadata": {},
   "outputs": [],
   "source": [
    "# check group numbers and remove extra controls\n",
    "\n",
    "a = hl.read_matrix_table('/net/archive/groups/plggneuromol/GTS-analysis/data/mt-for-skat-may.mt')\n",
    "b = hl.read_matrix_table('/net/archive/groups/plggneuromol/GTS-analysis/data/mt-test-may.mt')\n",
    "\n",
    "samples = a.s.collect() + b.s.collect()"
   ]
  },
  {
   "cell_type": "code",
   "execution_count": 34,
   "metadata": {},
   "outputs": [],
   "source": [
    "top = top.filter_cols(hl.literal(samples).contains(top.s))"
   ]
  },
  {
   "cell_type": "code",
   "execution_count": null,
   "metadata": {},
   "outputs": [],
   "source": [
    "#count controls and other groups"
   ]
  },
  {
   "cell_type": "code",
   "execution_count": 44,
   "metadata": {},
   "outputs": [
    {
     "data": {
      "text/plain": [
       "(98, 225)"
      ]
     },
     "execution_count": 44,
     "metadata": {},
     "output_type": "execute_result"
    }
   ],
   "source": [
    "top.count()"
   ]
  },
  {
   "cell_type": "code",
   "execution_count": 43,
   "metadata": {},
   "outputs": [
    {
     "data": {
      "text/plain": [
       "{'.': 56, 'GTS': 87, 'tics': 42}"
      ]
     },
     "execution_count": 43,
     "metadata": {},
     "output_type": "execute_result"
    }
   ],
   "source": [
    "top.aggregate_cols(hl.agg.filter(~top.s.contains('gnomad'), hl.agg.counter(top.phenotypes.phenotype)))"
   ]
  },
  {
   "cell_type": "code",
   "execution_count": 45,
   "metadata": {},
   "outputs": [],
   "source": [
    "top = top.annotate_rows(\n",
    "                      all_gnomads_non_ref = hl.agg.filter((top.s.contains == 'gnomad'), hl.agg.count_where(top.GT.is_non_ref()))/40,\n",
    "                      all_gnomads_hom_var = hl.agg.filter((top.s.contains == 'gnomad'), hl.agg.count_where(top.GT.is_hom_var()))/40,\n",
    "                      controls_non_ref = hl.agg.filter((top.phenotypes.disease == 'NO'), hl.agg.count_where(top.GT.is_non_ref()))/56,\n",
    "                      controls_hom_var = hl.agg.filter((top.phenotypes.disease == 'NO'), hl.agg.count_where(top.GT.is_hom_var()))/56,\n",
    "                      cases_all_non_ref = hl.agg.filter((top.phenotypes.disease == 'YES'), hl.agg.count_where(top.GT.is_non_ref()))/129,\n",
    "                      cases_all_hom_var = hl.agg.filter((top.phenotypes.disease == 'YES'), hl.agg.count_where(top.GT.is_hom_var()))/129)"
   ]
  },
  {
   "cell_type": "code",
   "execution_count": 46,
   "metadata": {},
   "outputs": [],
   "source": [
    "top = top.rows()\n",
    "top = top.to_pandas()\n",
    "top.to_csv('/net/archive/groups/plggneuromol/GTS-analysis/data/top-variants.csv')"
   ]
  },
  {
   "cell_type": "markdown",
   "metadata": {},
   "source": [
    "## Validate with GWAS"
   ]
  },
  {
   "cell_type": "markdown",
   "metadata": {},
   "source": [
    "1. ideentify intervals that include the genes of interest"
   ]
  },
  {
   "cell_type": "code",
   "execution_count": 6,
   "metadata": {},
   "outputs": [
    {
     "name": "stderr",
     "output_type": "stream",
     "text": [
      "/net/software/local/python/3.6.5/lib/python3.6/site-packages/ipykernel_launcher.py:5: DeprecationWarning: Call to deprecated function (or staticmethod) cond. (Replaced by hl.if_else) -- Deprecated since version 0.2.59.\n",
      "  \"\"\"\n",
      "/net/software/local/python/3.6.5/lib/python3.6/site-packages/ipykernel_launcher.py:8: DeprecationWarning: Call to deprecated function (or staticmethod) cond. (Replaced by hl.if_else) -- Deprecated since version 0.2.59.\n",
      "  \n"
     ]
    }
   ],
   "source": [
    "genes = hl.read_table('/net/archive/groups/plggneuromol/GTS-analysis/analysis/vcf_preprocessing/genecode_v32.ht')\n",
    "genes = genes.filter(hl.is_valid_contig(genes['hg38.knownGene.chrom'], reference_genome='GRCh38'))\n",
    "\n",
    "\n",
    "start = hl.cond(genes['hg38.knownGene.txStart'] < 20000, 1, genes['hg38.knownGene.txStart'] - 20000)\n",
    "stop =  hl.cond(hl.contig_length(genes['hg38.knownGene.chrom'], reference_genome='GRCh38') - genes['hg38.knownGene.txEnd'] < 20000, \n",
    "                hl.contig_length(genes['hg38.knownGene.chrom'], reference_genome='GRCh38'),\n",
    "                genes['hg38.knownGene.txEnd'] + 20000)\n",
    "\n",
    "genes = genes.transmute(interval = \n",
    "                        hl.locus_interval(genes['hg38.knownGene.chrom'], \n",
    "                                          start,\n",
    "                                          stop,\n",
    "                                          reference_genome='GRCh38'))"
   ]
  },
  {
   "cell_type": "code",
   "execution_count": 7,
   "metadata": {},
   "outputs": [],
   "source": [
    "genes = genes.key_by(genes.interval)"
   ]
  },
  {
   "cell_type": "code",
   "execution_count": 8,
   "metadata": {},
   "outputs": [
    {
     "name": "stderr",
     "output_type": "stream",
     "text": [
      "2021-06-28 22:48:34 Hail: INFO: Reading table without type imputation\n",
      "  Loading field 'SNP' as type str (not specified)\n",
      "  Loading field 'CHR' as type str (not specified)\n",
      "  Loading field 'BP' as type str (not specified)\n",
      "  Loading field 'A1' as type str (not specified)\n",
      "  Loading field 'A2' as type str (not specified)\n",
      "  Loading field 'INFO' as type str (not specified)\n",
      "  Loading field 'OR' as type str (not specified)\n",
      "  Loading field 'SE' as type str (not specified)\n",
      "  Loading field 'P' as type str (not specified)\n"
     ]
    }
   ],
   "source": [
    "gwas = hl.import_table('/net/archive/groups/plggneuromol/GTS-analysis/data/TS_Oct2018', delimiter=' ')"
   ]
  },
  {
   "cell_type": "code",
   "execution_count": 9,
   "metadata": {},
   "outputs": [],
   "source": [
    "gwas = gwas.annotate(locus = hl.locus(gwas.CHR, hl.int32(gwas.BP), reference_genome='GRCh37'))"
   ]
  },
  {
   "cell_type": "code",
   "execution_count": 10,
   "metadata": {},
   "outputs": [],
   "source": [
    "rg37 = hl.get_reference('GRCh37')  \n",
    "rg38 = hl.get_reference('GRCh38')  \n",
    "rg37.add_liftover('/net/archive/groups/plggneuromol/GTS-analysis/analysis/references_grch37_to_grch38.over.chain.gz', rg38)"
   ]
  },
  {
   "cell_type": "code",
   "execution_count": 57,
   "metadata": {},
   "outputs": [],
   "source": [
    "gwas = gwas.annotate(hg39locus = hl.liftover(gwas.locus, 'GRCh38'))"
   ]
  },
  {
   "cell_type": "code",
   "execution_count": 58,
   "metadata": {},
   "outputs": [],
   "source": [
    "gwas = gwas.annotate(nearest_genes_20kb = hl.array(hl.set(genes.index(gwas.hg39locus, all_matches=True)['hg38.kgXref.geneSymbol'])))"
   ]
  },
  {
   "cell_type": "code",
   "execution_count": 59,
   "metadata": {},
   "outputs": [
    {
     "name": "stderr",
     "output_type": "stream",
     "text": [
      "2021-02-21 18:03:35 Hail: INFO: Ordering unsorted dataset with network shuffle\n",
      "2021-02-21 18:03:36 Hail: INFO: Ordering unsorted dataset with network shuffle\n",
      "2021-02-21 18:05:33 Hail: INFO: wrote table with 8265318 rows in 3 partitions to /net/archive/groups/plggneuromol/GTS-analysis/data/gwas.ht\n",
      "    Total size: 390.91 MiB\n",
      "    * Rows: 390.91 MiB\n",
      "    * Globals: 11.00 B\n",
      "    * Smallest partition: 2273517 rows (108.47 MiB)\n",
      "    * Largest partition:  3629023 rows (170.90 MiB)\n"
     ]
    },
    {
     "data": {
      "text/plain": [
       "<hail.table.Table at 0x2ab070fc8b00>"
      ]
     },
     "execution_count": 59,
     "metadata": {},
     "output_type": "execute_result"
    }
   ],
   "source": [
    "gwas.checkpoint('/net/archive/groups/plggneuromol/GTS-analysis/data/gwas.ht')"
   ]
  },
  {
   "cell_type": "code",
   "execution_count": 6,
   "metadata": {},
   "outputs": [],
   "source": [
    "gwas = hl.read_table('/net/archive/groups/plggneuromol/GTS-analysis/data/gwas.ht')"
   ]
  },
  {
   "cell_type": "code",
   "execution_count": 7,
   "metadata": {},
   "outputs": [],
   "source": [
    "top_genes = ['HDC', 'CHADL', 'MAOA', 'NAA11', 'PCDH10']"
   ]
  },
  {
   "cell_type": "code",
   "execution_count": 8,
   "metadata": {},
   "outputs": [],
   "source": [
    "gwas_top = gwas.filter(hl.any(lambda x: hl.literal(top_genes).contains(x), gwas.nearest_genes_20kb))"
   ]
  },
  {
   "cell_type": "code",
   "execution_count": 10,
   "metadata": {},
   "outputs": [],
   "source": [
    "p_top = gwas_top.P.collect()"
   ]
  },
  {
   "cell_type": "code",
   "execution_count": 107,
   "metadata": {},
   "outputs": [
    {
     "data": {
      "text/html": [
       "\n",
       "\n",
       "\n",
       "\n",
       "\n",
       "\n",
       "  <div class=\"bk-root\" id=\"d5774e6d-0f9d-4439-be46-891b3f952809\" data-root-id=\"1003\"></div>\n"
      ]
     },
     "metadata": {},
     "output_type": "display_data"
    },
    {
     "data": {
      "application/javascript": [
       "(function(root) {\n",
       "  function embed_document(root) {\n",
       "    \n",
       "  var docs_json = {\"2d5b6586-2c9d-4f56-b5d8-e0250277853c\":{\"roots\":{\"references\":[{\"attributes\":{\"background_fill_color\":{\"value\":\"#EEEEEE\"},\"below\":[{\"id\":\"1014\",\"type\":\"LinearAxis\"}],\"center\":[{\"id\":\"1018\",\"type\":\"Grid\"},{\"id\":\"1023\",\"type\":\"Grid\"},{\"id\":\"1048\",\"type\":\"Legend\"}],\"left\":[{\"id\":\"1019\",\"type\":\"LinearAxis\"}],\"renderers\":[{\"id\":\"1040\",\"type\":\"GlyphRenderer\"}],\"title\":{\"id\":\"1004\",\"type\":\"Title\"},\"toolbar\":{\"id\":\"1030\",\"type\":\"Toolbar\"},\"x_range\":{\"id\":\"1006\",\"type\":\"Range1d\"},\"x_scale\":{\"id\":\"1010\",\"type\":\"LinearScale\"},\"y_range\":{\"id\":\"1008\",\"type\":\"DataRange1d\"},\"y_scale\":{\"id\":\"1012\",\"type\":\"LinearScale\"}},\"id\":\"1003\",\"subtype\":\"Figure\",\"type\":\"Plot\"},{\"attributes\":{},\"id\":\"1046\",\"type\":\"BasicTickFormatter\"},{\"attributes\":{\"axis_label\":\"Frequency\",\"axis_label_text_font_size\":{\"value\":\"15pt\"},\"formatter\":{\"id\":\"1046\",\"type\":\"BasicTickFormatter\"},\"major_label_text_font_size\":{\"value\":\"15pt\"},\"ticker\":{\"id\":\"1020\",\"type\":\"BasicTicker\"}},\"id\":\"1019\",\"type\":\"LinearAxis\"},{\"attributes\":{\"callback\":null},\"id\":\"1008\",\"type\":\"DataRange1d\"},{\"attributes\":{},\"id\":\"1015\",\"type\":\"BasicTicker\"},{\"attributes\":{\"bottom\":{\"value\":0},\"fill_alpha\":{\"value\":0.1},\"fill_color\":{\"value\":\"#1f77b4\"},\"left\":{\"field\":\"left\"},\"line_alpha\":{\"value\":0.1},\"line_color\":{\"value\":\"#1f77b4\"},\"right\":{\"field\":\"right\"},\"top\":{\"field\":\"top\"}},\"id\":\"1039\",\"type\":\"Quad\"},{\"attributes\":{\"callback\":null,\"end\":1.05,\"start\":-0.05},\"id\":\"1006\",\"type\":\"Range1d\"},{\"attributes\":{\"source\":{\"id\":\"1037\",\"type\":\"ColumnDataSource\"}},\"id\":\"1041\",\"type\":\"CDSView\"},{\"attributes\":{},\"id\":\"1044\",\"type\":\"BasicTickFormatter\"},{\"attributes\":{\"axis_label\":\"p\",\"axis_label_text_font_size\":{\"value\":\"15pt\"},\"formatter\":{\"id\":\"1044\",\"type\":\"BasicTickFormatter\"},\"major_label_text_font_size\":{\"value\":\"15pt\"},\"ticker\":{\"id\":\"1015\",\"type\":\"BasicTicker\"}},\"id\":\"1014\",\"type\":\"LinearAxis\"},{\"attributes\":{\"data_source\":{\"id\":\"1037\",\"type\":\"ColumnDataSource\"},\"glyph\":{\"id\":\"1038\",\"type\":\"Quad\"},\"hover_glyph\":null,\"muted_glyph\":null,\"nonselection_glyph\":{\"id\":\"1039\",\"type\":\"Quad\"},\"selection_glyph\":null,\"view\":{\"id\":\"1041\",\"type\":\"CDSView\"}},\"id\":\"1040\",\"type\":\"GlyphRenderer\"},{\"attributes\":{},\"id\":\"1012\",\"type\":\"LinearScale\"},{\"attributes\":{},\"id\":\"1010\",\"type\":\"LinearScale\"},{\"attributes\":{\"callback\":null,\"data\":{\"left\":[0.0,0.02,0.04,0.06,0.08,0.1,0.12,0.14,0.16,0.18,0.2,0.22,0.24,0.26,0.28,0.3,0.32,0.34,0.36,0.38,0.4,0.42,0.44,0.46,0.48,0.5,0.52,0.54,0.56,0.58,0.6,0.62,0.64,0.66,0.68,0.7000000000000001,0.72,0.74,0.76,0.78,0.8,0.8200000000000001,0.84,0.86,0.88,0.9,0.92,0.9400000000000001,0.96,0.98],\"right\":[0.02,0.04,0.06,0.08,0.1,0.12,0.14,0.16,0.18,0.2,0.22,0.24,0.26,0.28,0.3,0.32,0.34,0.36,0.38,0.4,0.42,0.44,0.46,0.48,0.5,0.52,0.54,0.56,0.58,0.6,0.62,0.64,0.66,0.68,0.7000000000000001,0.72,0.74,0.76,0.78,0.8,0.8200000000000001,0.84,0.86,0.88,0.9,0.92,0.9400000000000001,0.96,0.98,1.0],\"top\":[122,29,18,36,47,33,27,10,11,6,17,14,65,18,28,13,4,4,10,7,14,4,7,4,15,31,9,5,12,10,13,17,9,21,10,15,15,12,12,13,8,10,15,16,16,27,21,20,20,19]},\"selected\":{\"id\":\"1055\",\"type\":\"Selection\"},\"selection_policy\":{\"id\":\"1056\",\"type\":\"UnionRenderers\"}},\"id\":\"1037\",\"type\":\"ColumnDataSource\"},{\"attributes\":{\"text\":\"p_value_histogram\"},\"id\":\"1004\",\"type\":\"Title\"},{\"attributes\":{},\"id\":\"1027\",\"type\":\"SaveTool\"},{\"attributes\":{\"ticker\":{\"id\":\"1015\",\"type\":\"BasicTicker\"}},\"id\":\"1018\",\"type\":\"Grid\"},{\"attributes\":{},\"id\":\"1056\",\"type\":\"UnionRenderers\"},{\"attributes\":{\"items\":[{\"id\":\"1049\",\"type\":\"LegendItem\"}]},\"id\":\"1048\",\"type\":\"Legend\"},{\"attributes\":{},\"id\":\"1024\",\"type\":\"PanTool\"},{\"attributes\":{},\"id\":\"1055\",\"type\":\"Selection\"},{\"attributes\":{\"bottom\":{\"value\":0},\"fill_color\":{\"value\":\"#1f77b4\"},\"left\":{\"field\":\"left\"},\"right\":{\"field\":\"right\"},\"top\":{\"field\":\"top\"}},\"id\":\"1038\",\"type\":\"Quad\"},{\"attributes\":{\"dimension\":1,\"ticker\":{\"id\":\"1020\",\"type\":\"BasicTicker\"}},\"id\":\"1023\",\"type\":\"Grid\"},{\"attributes\":{\"overlay\":{\"id\":\"1047\",\"type\":\"BoxAnnotation\"}},\"id\":\"1026\",\"type\":\"BoxZoomTool\"},{\"attributes\":{\"label\":{\"value\":\"p\"},\"renderers\":[{\"id\":\"1040\",\"type\":\"GlyphRenderer\"}]},\"id\":\"1049\",\"type\":\"LegendItem\"},{\"attributes\":{},\"id\":\"1029\",\"type\":\"HelpTool\"},{\"attributes\":{},\"id\":\"1020\",\"type\":\"BasicTicker\"},{\"attributes\":{},\"id\":\"1028\",\"type\":\"ResetTool\"},{\"attributes\":{},\"id\":\"1025\",\"type\":\"WheelZoomTool\"},{\"attributes\":{\"bottom_units\":\"screen\",\"fill_alpha\":{\"value\":0.5},\"fill_color\":{\"value\":\"lightgrey\"},\"left_units\":\"screen\",\"level\":\"overlay\",\"line_alpha\":{\"value\":1.0},\"line_color\":{\"value\":\"black\"},\"line_dash\":[4,4],\"line_width\":{\"value\":2},\"render_mode\":\"css\",\"right_units\":\"screen\",\"top_units\":\"screen\"},\"id\":\"1047\",\"type\":\"BoxAnnotation\"},{\"attributes\":{\"active_drag\":\"auto\",\"active_inspect\":\"auto\",\"active_multi\":null,\"active_scroll\":\"auto\",\"active_tap\":\"auto\",\"tools\":[{\"id\":\"1024\",\"type\":\"PanTool\"},{\"id\":\"1025\",\"type\":\"WheelZoomTool\"},{\"id\":\"1026\",\"type\":\"BoxZoomTool\"},{\"id\":\"1027\",\"type\":\"SaveTool\"},{\"id\":\"1028\",\"type\":\"ResetTool\"},{\"id\":\"1029\",\"type\":\"HelpTool\"}]},\"id\":\"1030\",\"type\":\"Toolbar\"}],\"root_ids\":[\"1003\"]},\"title\":\"Bokeh Application\",\"version\":\"1.4.0\"}};\n",
       "  var render_items = [{\"docid\":\"2d5b6586-2c9d-4f56-b5d8-e0250277853c\",\"roots\":{\"1003\":\"d5774e6d-0f9d-4439-be46-891b3f952809\"}}];\n",
       "  root.Bokeh.embed.embed_items_notebook(docs_json, render_items);\n",
       "\n",
       "  }\n",
       "  if (root.Bokeh !== undefined) {\n",
       "    embed_document(root);\n",
       "  } else {\n",
       "    var attempts = 0;\n",
       "    var timer = setInterval(function(root) {\n",
       "      if (root.Bokeh !== undefined) {\n",
       "        clearInterval(timer);\n",
       "        embed_document(root);\n",
       "      } else {\n",
       "        attempts++;\n",
       "        if (attempts > 100) {\n",
       "          clearInterval(timer);\n",
       "          console.log(\"Bokeh: ERROR: Unable to run BokehJS code because BokehJS library is missing\");\n",
       "        }\n",
       "      }\n",
       "    }, 10, root)\n",
       "  }\n",
       "})(window);"
      ],
      "application/vnd.bokehjs_exec.v0+json": ""
     },
     "metadata": {
      "application/vnd.bokehjs_exec.v0+json": {
       "id": "1003"
      }
     },
     "output_type": "display_data"
    }
   ],
   "source": [
    "p_hist = gwas_top.aggregate(hl.expr.aggregators.hist(hl.float64(gwas_top.P), 0, 1, 50))\n",
    "\n",
    "p = hl.plot.histogram(p_hist, legend='p', title='p_value_histogram')\n",
    "p.xaxis.axis_label_text_font_size = \"15pt\"\n",
    "p.xaxis.major_label_text_font_size = \"15pt\"\n",
    "p.yaxis.axis_label_text_font_size = \"15pt\"\n",
    "p.yaxis.major_label_text_font_size = \"15pt\"\n",
    "show(p)"
   ]
  },
  {
   "cell_type": "code",
   "execution_count": 9,
   "metadata": {},
   "outputs": [],
   "source": [
    "genes_background = np.load('/net/archive/groups/plggneuromol/GTS-analysis/analysis/numpy/genes_background.npy')"
   ]
  },
  {
   "cell_type": "code",
   "execution_count": 120,
   "metadata": {},
   "outputs": [],
   "source": [
    "p_values = []\n",
    "    \n",
    "for p in range(100):\n",
    "    randoms = np.random.randint(len(genes_background), size=5)\n",
    "    genes = [j for i, j in enumerate(genes_background) if i in randoms]\n",
    "        \n",
    "    p_value = gwas.filter(hl.any(lambda x: hl.literal(genes).contains(x), gwas.nearest_genes_20kb)).P.collect()\n",
    "    \n",
    "    p_values.append(p_value)"
   ]
  },
  {
   "cell_type": "code",
   "execution_count": 11,
   "metadata": {},
   "outputs": [],
   "source": [
    "y = [float(i) for i in p_top]\n",
    "y = -np.log10(y)\n",
    "hist_top, edge_top = np.histogram(y, bins = 50)"
   ]
  },
  {
   "cell_type": "code",
   "execution_count": 122,
   "metadata": {},
   "outputs": [],
   "source": [
    "import bokeh.palettes\n",
    "from bokeh.models import CategoricalColorMapper\n",
    "\n",
    "colors = bokeh.palettes.plasma(200)"
   ]
  },
  {
   "cell_type": "code",
   "execution_count": 123,
   "metadata": {},
   "outputs": [],
   "source": [
    "histograms = []\n",
    "edges = []\n",
    "\n",
    "for p in p_values:\n",
    "    x = [float(i) for i in p]\n",
    "    x = -np.log10(x)\n",
    "    hist,edge = np.histogram(x, bins = 50)\n",
    "    histograms.append(hist)\n",
    "    edges.append(edge)"
   ]
  },
  {
   "cell_type": "code",
   "execution_count": 124,
   "metadata": {},
   "outputs": [
    {
     "data": {
      "text/html": [
       "\n",
       "    <div class=\"bk-root\">\n",
       "        <a href=\"https://bokeh.org\" target=\"_blank\" class=\"bk-logo bk-logo-small bk-logo-notebook\"></a>\n",
       "        <span id=\"3115\">Loading BokehJS ...</span>\n",
       "    </div>"
      ]
     },
     "metadata": {},
     "output_type": "display_data"
    },
    {
     "data": {
      "application/javascript": [
       "\n",
       "(function(root) {\n",
       "  function now() {\n",
       "    return new Date();\n",
       "  }\n",
       "\n",
       "  var force = true;\n",
       "\n",
       "  if (typeof root._bokeh_onload_callbacks === \"undefined\" || force === true) {\n",
       "    root._bokeh_onload_callbacks = [];\n",
       "    root._bokeh_is_loading = undefined;\n",
       "  }\n",
       "\n",
       "  var JS_MIME_TYPE = 'application/javascript';\n",
       "  var HTML_MIME_TYPE = 'text/html';\n",
       "  var EXEC_MIME_TYPE = 'application/vnd.bokehjs_exec.v0+json';\n",
       "  var CLASS_NAME = 'output_bokeh rendered_html';\n",
       "\n",
       "  /**\n",
       "   * Render data to the DOM node\n",
       "   */\n",
       "  function render(props, node) {\n",
       "    var script = document.createElement(\"script\");\n",
       "    node.appendChild(script);\n",
       "  }\n",
       "\n",
       "  /**\n",
       "   * Handle when an output is cleared or removed\n",
       "   */\n",
       "  function handleClearOutput(event, handle) {\n",
       "    var cell = handle.cell;\n",
       "\n",
       "    var id = cell.output_area._bokeh_element_id;\n",
       "    var server_id = cell.output_area._bokeh_server_id;\n",
       "    // Clean up Bokeh references\n",
       "    if (id != null && id in Bokeh.index) {\n",
       "      Bokeh.index[id].model.document.clear();\n",
       "      delete Bokeh.index[id];\n",
       "    }\n",
       "\n",
       "    if (server_id !== undefined) {\n",
       "      // Clean up Bokeh references\n",
       "      var cmd = \"from bokeh.io.state import curstate; print(curstate().uuid_to_server['\" + server_id + \"'].get_sessions()[0].document.roots[0]._id)\";\n",
       "      cell.notebook.kernel.execute(cmd, {\n",
       "        iopub: {\n",
       "          output: function(msg) {\n",
       "            var id = msg.content.text.trim();\n",
       "            if (id in Bokeh.index) {\n",
       "              Bokeh.index[id].model.document.clear();\n",
       "              delete Bokeh.index[id];\n",
       "            }\n",
       "          }\n",
       "        }\n",
       "      });\n",
       "      // Destroy server and session\n",
       "      var cmd = \"import bokeh.io.notebook as ion; ion.destroy_server('\" + server_id + \"')\";\n",
       "      cell.notebook.kernel.execute(cmd);\n",
       "    }\n",
       "  }\n",
       "\n",
       "  /**\n",
       "   * Handle when a new output is added\n",
       "   */\n",
       "  function handleAddOutput(event, handle) {\n",
       "    var output_area = handle.output_area;\n",
       "    var output = handle.output;\n",
       "\n",
       "    // limit handleAddOutput to display_data with EXEC_MIME_TYPE content only\n",
       "    if ((output.output_type != \"display_data\") || (!output.data.hasOwnProperty(EXEC_MIME_TYPE))) {\n",
       "      return\n",
       "    }\n",
       "\n",
       "    var toinsert = output_area.element.find(\".\" + CLASS_NAME.split(' ')[0]);\n",
       "\n",
       "    if (output.metadata[EXEC_MIME_TYPE][\"id\"] !== undefined) {\n",
       "      toinsert[toinsert.length - 1].firstChild.textContent = output.data[JS_MIME_TYPE];\n",
       "      // store reference to embed id on output_area\n",
       "      output_area._bokeh_element_id = output.metadata[EXEC_MIME_TYPE][\"id\"];\n",
       "    }\n",
       "    if (output.metadata[EXEC_MIME_TYPE][\"server_id\"] !== undefined) {\n",
       "      var bk_div = document.createElement(\"div\");\n",
       "      bk_div.innerHTML = output.data[HTML_MIME_TYPE];\n",
       "      var script_attrs = bk_div.children[0].attributes;\n",
       "      for (var i = 0; i < script_attrs.length; i++) {\n",
       "        toinsert[toinsert.length - 1].firstChild.setAttribute(script_attrs[i].name, script_attrs[i].value);\n",
       "      }\n",
       "      // store reference to server id on output_area\n",
       "      output_area._bokeh_server_id = output.metadata[EXEC_MIME_TYPE][\"server_id\"];\n",
       "    }\n",
       "  }\n",
       "\n",
       "  function register_renderer(events, OutputArea) {\n",
       "\n",
       "    function append_mime(data, metadata, element) {\n",
       "      // create a DOM node to render to\n",
       "      var toinsert = this.create_output_subarea(\n",
       "        metadata,\n",
       "        CLASS_NAME,\n",
       "        EXEC_MIME_TYPE\n",
       "      );\n",
       "      this.keyboard_manager.register_events(toinsert);\n",
       "      // Render to node\n",
       "      var props = {data: data, metadata: metadata[EXEC_MIME_TYPE]};\n",
       "      render(props, toinsert[toinsert.length - 1]);\n",
       "      element.append(toinsert);\n",
       "      return toinsert\n",
       "    }\n",
       "\n",
       "    /* Handle when an output is cleared or removed */\n",
       "    events.on('clear_output.CodeCell', handleClearOutput);\n",
       "    events.on('delete.Cell', handleClearOutput);\n",
       "\n",
       "    /* Handle when a new output is added */\n",
       "    events.on('output_added.OutputArea', handleAddOutput);\n",
       "\n",
       "    /**\n",
       "     * Register the mime type and append_mime function with output_area\n",
       "     */\n",
       "    OutputArea.prototype.register_mime_type(EXEC_MIME_TYPE, append_mime, {\n",
       "      /* Is output safe? */\n",
       "      safe: true,\n",
       "      /* Index of renderer in `output_area.display_order` */\n",
       "      index: 0\n",
       "    });\n",
       "  }\n",
       "\n",
       "  // register the mime type if in Jupyter Notebook environment and previously unregistered\n",
       "  if (root.Jupyter !== undefined) {\n",
       "    var events = require('base/js/events');\n",
       "    var OutputArea = require('notebook/js/outputarea').OutputArea;\n",
       "\n",
       "    if (OutputArea.prototype.mime_types().indexOf(EXEC_MIME_TYPE) == -1) {\n",
       "      register_renderer(events, OutputArea);\n",
       "    }\n",
       "  }\n",
       "\n",
       "  \n",
       "  if (typeof (root._bokeh_timeout) === \"undefined\" || force === true) {\n",
       "    root._bokeh_timeout = Date.now() + 5000;\n",
       "    root._bokeh_failed_load = false;\n",
       "  }\n",
       "\n",
       "  var NB_LOAD_WARNING = {'data': {'text/html':\n",
       "     \"<div style='background-color: #fdd'>\\n\"+\n",
       "     \"<p>\\n\"+\n",
       "     \"BokehJS does not appear to have successfully loaded. If loading BokehJS from CDN, this \\n\"+\n",
       "     \"may be due to a slow or bad network connection. Possible fixes:\\n\"+\n",
       "     \"</p>\\n\"+\n",
       "     \"<ul>\\n\"+\n",
       "     \"<li>re-rerun `output_notebook()` to attempt to load from CDN again, or</li>\\n\"+\n",
       "     \"<li>use INLINE resources instead, as so:</li>\\n\"+\n",
       "     \"</ul>\\n\"+\n",
       "     \"<code>\\n\"+\n",
       "     \"from bokeh.resources import INLINE\\n\"+\n",
       "     \"output_notebook(resources=INLINE)\\n\"+\n",
       "     \"</code>\\n\"+\n",
       "     \"</div>\"}};\n",
       "\n",
       "  function display_loaded() {\n",
       "    var el = document.getElementById(\"3115\");\n",
       "    if (el != null) {\n",
       "      el.textContent = \"BokehJS is loading...\";\n",
       "    }\n",
       "    if (root.Bokeh !== undefined) {\n",
       "      if (el != null) {\n",
       "        el.textContent = \"BokehJS \" + root.Bokeh.version + \" successfully loaded.\";\n",
       "      }\n",
       "    } else if (Date.now() < root._bokeh_timeout) {\n",
       "      setTimeout(display_loaded, 100)\n",
       "    }\n",
       "  }\n",
       "\n",
       "\n",
       "  function run_callbacks() {\n",
       "    try {\n",
       "      root._bokeh_onload_callbacks.forEach(function(callback) {\n",
       "        if (callback != null)\n",
       "          callback();\n",
       "      });\n",
       "    } finally {\n",
       "      delete root._bokeh_onload_callbacks\n",
       "    }\n",
       "    console.debug(\"Bokeh: all callbacks have finished\");\n",
       "  }\n",
       "\n",
       "  function load_libs(css_urls, js_urls, callback) {\n",
       "    if (css_urls == null) css_urls = [];\n",
       "    if (js_urls == null) js_urls = [];\n",
       "\n",
       "    root._bokeh_onload_callbacks.push(callback);\n",
       "    if (root._bokeh_is_loading > 0) {\n",
       "      console.debug(\"Bokeh: BokehJS is being loaded, scheduling callback at\", now());\n",
       "      return null;\n",
       "    }\n",
       "    if (js_urls == null || js_urls.length === 0) {\n",
       "      run_callbacks();\n",
       "      return null;\n",
       "    }\n",
       "    console.debug(\"Bokeh: BokehJS not loaded, scheduling load and callback at\", now());\n",
       "    root._bokeh_is_loading = css_urls.length + js_urls.length;\n",
       "\n",
       "    function on_load() {\n",
       "      root._bokeh_is_loading--;\n",
       "      if (root._bokeh_is_loading === 0) {\n",
       "        console.debug(\"Bokeh: all BokehJS libraries/stylesheets loaded\");\n",
       "        run_callbacks()\n",
       "      }\n",
       "    }\n",
       "\n",
       "    function on_error() {\n",
       "      console.error(\"failed to load \" + url);\n",
       "    }\n",
       "\n",
       "    for (var i = 0; i < css_urls.length; i++) {\n",
       "      var url = css_urls[i];\n",
       "      const element = document.createElement(\"link\");\n",
       "      element.onload = on_load;\n",
       "      element.onerror = on_error;\n",
       "      element.rel = \"stylesheet\";\n",
       "      element.type = \"text/css\";\n",
       "      element.href = url;\n",
       "      console.debug(\"Bokeh: injecting link tag for BokehJS stylesheet: \", url);\n",
       "      document.body.appendChild(element);\n",
       "    }\n",
       "\n",
       "    for (var i = 0; i < js_urls.length; i++) {\n",
       "      var url = js_urls[i];\n",
       "      var element = document.createElement('script');\n",
       "      element.onload = on_load;\n",
       "      element.onerror = on_error;\n",
       "      element.async = false;\n",
       "      element.src = url;\n",
       "      console.debug(\"Bokeh: injecting script tag for BokehJS library: \", url);\n",
       "      document.head.appendChild(element);\n",
       "    }\n",
       "  };var element = document.getElementById(\"3115\");\n",
       "  if (element == null) {\n",
       "    console.error(\"Bokeh: ERROR: autoload.js configured with elementid '3115' but no matching script tag was found. \")\n",
       "    return false;\n",
       "  }\n",
       "\n",
       "  function inject_raw_css(css) {\n",
       "    const element = document.createElement(\"style\");\n",
       "    element.appendChild(document.createTextNode(css));\n",
       "    document.body.appendChild(element);\n",
       "  }\n",
       "\n",
       "  \n",
       "  var js_urls = [\"https://cdn.pydata.org/bokeh/release/bokeh-1.4.0.min.js\", \"https://cdn.pydata.org/bokeh/release/bokeh-widgets-1.4.0.min.js\", \"https://cdn.pydata.org/bokeh/release/bokeh-tables-1.4.0.min.js\", \"https://cdn.pydata.org/bokeh/release/bokeh-gl-1.4.0.min.js\"];\n",
       "  var css_urls = [];\n",
       "  \n",
       "\n",
       "  var inline_js = [\n",
       "    function(Bokeh) {\n",
       "      Bokeh.set_log_level(\"info\");\n",
       "    },\n",
       "    function(Bokeh) {\n",
       "    \n",
       "    \n",
       "    }\n",
       "  ];\n",
       "\n",
       "  function run_inline_js() {\n",
       "    \n",
       "    if (root.Bokeh !== undefined || force === true) {\n",
       "      \n",
       "    for (var i = 0; i < inline_js.length; i++) {\n",
       "      inline_js[i].call(root, root.Bokeh);\n",
       "    }\n",
       "    if (force === true) {\n",
       "        display_loaded();\n",
       "      }} else if (Date.now() < root._bokeh_timeout) {\n",
       "      setTimeout(run_inline_js, 100);\n",
       "    } else if (!root._bokeh_failed_load) {\n",
       "      console.log(\"Bokeh: BokehJS failed to load within specified timeout.\");\n",
       "      root._bokeh_failed_load = true;\n",
       "    } else if (force !== true) {\n",
       "      var cell = $(document.getElementById(\"3115\")).parents('.cell').data().cell;\n",
       "      cell.output_area.append_execute_result(NB_LOAD_WARNING)\n",
       "    }\n",
       "\n",
       "  }\n",
       "\n",
       "  if (root._bokeh_is_loading === 0) {\n",
       "    console.debug(\"Bokeh: BokehJS loaded, going straight to plotting\");\n",
       "    run_inline_js();\n",
       "  } else {\n",
       "    load_libs(css_urls, js_urls, function() {\n",
       "      console.debug(\"Bokeh: BokehJS plotting callback run at\", now());\n",
       "      run_inline_js();\n",
       "    });\n",
       "  }\n",
       "}(window));"
      ],
      "application/vnd.bokehjs_load.v0+json": "\n(function(root) {\n  function now() {\n    return new Date();\n  }\n\n  var force = true;\n\n  if (typeof root._bokeh_onload_callbacks === \"undefined\" || force === true) {\n    root._bokeh_onload_callbacks = [];\n    root._bokeh_is_loading = undefined;\n  }\n\n  \n\n  \n  if (typeof (root._bokeh_timeout) === \"undefined\" || force === true) {\n    root._bokeh_timeout = Date.now() + 5000;\n    root._bokeh_failed_load = false;\n  }\n\n  var NB_LOAD_WARNING = {'data': {'text/html':\n     \"<div style='background-color: #fdd'>\\n\"+\n     \"<p>\\n\"+\n     \"BokehJS does not appear to have successfully loaded. If loading BokehJS from CDN, this \\n\"+\n     \"may be due to a slow or bad network connection. Possible fixes:\\n\"+\n     \"</p>\\n\"+\n     \"<ul>\\n\"+\n     \"<li>re-rerun `output_notebook()` to attempt to load from CDN again, or</li>\\n\"+\n     \"<li>use INLINE resources instead, as so:</li>\\n\"+\n     \"</ul>\\n\"+\n     \"<code>\\n\"+\n     \"from bokeh.resources import INLINE\\n\"+\n     \"output_notebook(resources=INLINE)\\n\"+\n     \"</code>\\n\"+\n     \"</div>\"}};\n\n  function display_loaded() {\n    var el = document.getElementById(\"3115\");\n    if (el != null) {\n      el.textContent = \"BokehJS is loading...\";\n    }\n    if (root.Bokeh !== undefined) {\n      if (el != null) {\n        el.textContent = \"BokehJS \" + root.Bokeh.version + \" successfully loaded.\";\n      }\n    } else if (Date.now() < root._bokeh_timeout) {\n      setTimeout(display_loaded, 100)\n    }\n  }\n\n\n  function run_callbacks() {\n    try {\n      root._bokeh_onload_callbacks.forEach(function(callback) {\n        if (callback != null)\n          callback();\n      });\n    } finally {\n      delete root._bokeh_onload_callbacks\n    }\n    console.debug(\"Bokeh: all callbacks have finished\");\n  }\n\n  function load_libs(css_urls, js_urls, callback) {\n    if (css_urls == null) css_urls = [];\n    if (js_urls == null) js_urls = [];\n\n    root._bokeh_onload_callbacks.push(callback);\n    if (root._bokeh_is_loading > 0) {\n      console.debug(\"Bokeh: BokehJS is being loaded, scheduling callback at\", now());\n      return null;\n    }\n    if (js_urls == null || js_urls.length === 0) {\n      run_callbacks();\n      return null;\n    }\n    console.debug(\"Bokeh: BokehJS not loaded, scheduling load and callback at\", now());\n    root._bokeh_is_loading = css_urls.length + js_urls.length;\n\n    function on_load() {\n      root._bokeh_is_loading--;\n      if (root._bokeh_is_loading === 0) {\n        console.debug(\"Bokeh: all BokehJS libraries/stylesheets loaded\");\n        run_callbacks()\n      }\n    }\n\n    function on_error() {\n      console.error(\"failed to load \" + url);\n    }\n\n    for (var i = 0; i < css_urls.length; i++) {\n      var url = css_urls[i];\n      const element = document.createElement(\"link\");\n      element.onload = on_load;\n      element.onerror = on_error;\n      element.rel = \"stylesheet\";\n      element.type = \"text/css\";\n      element.href = url;\n      console.debug(\"Bokeh: injecting link tag for BokehJS stylesheet: \", url);\n      document.body.appendChild(element);\n    }\n\n    for (var i = 0; i < js_urls.length; i++) {\n      var url = js_urls[i];\n      var element = document.createElement('script');\n      element.onload = on_load;\n      element.onerror = on_error;\n      element.async = false;\n      element.src = url;\n      console.debug(\"Bokeh: injecting script tag for BokehJS library: \", url);\n      document.head.appendChild(element);\n    }\n  };var element = document.getElementById(\"3115\");\n  if (element == null) {\n    console.error(\"Bokeh: ERROR: autoload.js configured with elementid '3115' but no matching script tag was found. \")\n    return false;\n  }\n\n  function inject_raw_css(css) {\n    const element = document.createElement(\"style\");\n    element.appendChild(document.createTextNode(css));\n    document.body.appendChild(element);\n  }\n\n  \n  var js_urls = [\"https://cdn.pydata.org/bokeh/release/bokeh-1.4.0.min.js\", \"https://cdn.pydata.org/bokeh/release/bokeh-widgets-1.4.0.min.js\", \"https://cdn.pydata.org/bokeh/release/bokeh-tables-1.4.0.min.js\", \"https://cdn.pydata.org/bokeh/release/bokeh-gl-1.4.0.min.js\"];\n  var css_urls = [];\n  \n\n  var inline_js = [\n    function(Bokeh) {\n      Bokeh.set_log_level(\"info\");\n    },\n    function(Bokeh) {\n    \n    \n    }\n  ];\n\n  function run_inline_js() {\n    \n    if (root.Bokeh !== undefined || force === true) {\n      \n    for (var i = 0; i < inline_js.length; i++) {\n      inline_js[i].call(root, root.Bokeh);\n    }\n    if (force === true) {\n        display_loaded();\n      }} else if (Date.now() < root._bokeh_timeout) {\n      setTimeout(run_inline_js, 100);\n    } else if (!root._bokeh_failed_load) {\n      console.log(\"Bokeh: BokehJS failed to load within specified timeout.\");\n      root._bokeh_failed_load = true;\n    } else if (force !== true) {\n      var cell = $(document.getElementById(\"3115\")).parents('.cell').data().cell;\n      cell.output_area.append_execute_result(NB_LOAD_WARNING)\n    }\n\n  }\n\n  if (root._bokeh_is_loading === 0) {\n    console.debug(\"Bokeh: BokehJS loaded, going straight to plotting\");\n    run_inline_js();\n  } else {\n    load_libs(css_urls, js_urls, function() {\n      console.debug(\"Bokeh: BokehJS plotting callback run at\", now());\n      run_inline_js();\n    });\n  }\n}(window));"
     },
     "metadata": {},
     "output_type": "display_data"
    },
    {
     "name": "stderr",
     "output_type": "stream",
     "text": [
      "/net/software/local/python/3.6.5/lib/python3.6/site-packages/ipykernel_launcher.py:7: RuntimeWarning: divide by zero encountered in log10\n",
      "  import sys\n"
     ]
    },
    {
     "data": {
      "text/html": [
       "\n",
       "\n",
       "\n",
       "\n",
       "\n",
       "\n",
       "  <div class=\"bk-root\" id=\"74cf7c43-c409-493e-81f1-ee559996138e\" data-root-id=\"3116\"></div>\n"
      ]
     },
     "metadata": {},
     "output_type": "display_data"
    },
    {
     "data": {
      "application/javascript": [
       "(function(root) {\n",
       "  function embed_document(root) {\n",
       "    \n",
       "  var docs_json = {\"cc94fdde-7889-4343-adc2-9dc51d252e87\":{\"roots\":{\"references\":[{\"attributes\":{\"below\":[{\"id\":\"3125\",\"type\":\"LinearAxis\"}],\"center\":[{\"id\":\"3129\",\"type\":\"Grid\"},{\"id\":\"3134\",\"type\":\"Grid\"}],\"left\":[{\"id\":\"3130\",\"type\":\"LinearAxis\"}],\"plot_height\":800,\"plot_width\":800,\"renderers\":[{\"id\":\"3151\",\"type\":\"GlyphRenderer\"},{\"id\":\"3156\",\"type\":\"GlyphRenderer\"},{\"id\":\"3161\",\"type\":\"GlyphRenderer\"},{\"id\":\"3166\",\"type\":\"GlyphRenderer\"},{\"id\":\"3171\",\"type\":\"GlyphRenderer\"},{\"id\":\"3176\",\"type\":\"GlyphRenderer\"},{\"id\":\"3181\",\"type\":\"GlyphRenderer\"},{\"id\":\"3186\",\"type\":\"GlyphRenderer\"},{\"id\":\"3191\",\"type\":\"GlyphRenderer\"},{\"id\":\"3196\",\"type\":\"GlyphRenderer\"},{\"id\":\"3201\",\"type\":\"GlyphRenderer\"},{\"id\":\"3206\",\"type\":\"GlyphRenderer\"},{\"id\":\"3211\",\"type\":\"GlyphRenderer\"},{\"id\":\"3216\",\"type\":\"GlyphRenderer\"},{\"id\":\"3221\",\"type\":\"GlyphRenderer\"},{\"id\":\"3226\",\"type\":\"GlyphRenderer\"},{\"id\":\"3231\",\"type\":\"GlyphRenderer\"},{\"id\":\"3236\",\"type\":\"GlyphRenderer\"},{\"id\":\"3241\",\"type\":\"GlyphRenderer\"},{\"id\":\"3246\",\"type\":\"GlyphRenderer\"},{\"id\":\"3251\",\"type\":\"GlyphRenderer\"},{\"id\":\"3256\",\"type\":\"GlyphRenderer\"},{\"id\":\"3261\",\"type\":\"GlyphRenderer\"},{\"id\":\"3266\",\"type\":\"GlyphRenderer\"},{\"id\":\"3271\",\"type\":\"GlyphRenderer\"},{\"id\":\"3276\",\"type\":\"GlyphRenderer\"},{\"id\":\"3281\",\"type\":\"GlyphRenderer\"},{\"id\":\"3286\",\"type\":\"GlyphRenderer\"},{\"id\":\"3291\",\"type\":\"GlyphRenderer\"},{\"id\":\"3296\",\"type\":\"GlyphRenderer\"},{\"id\":\"3301\",\"type\":\"GlyphRenderer\"},{\"id\":\"3306\",\"type\":\"GlyphRenderer\"},{\"id\":\"3311\",\"type\":\"GlyphRenderer\"},{\"id\":\"3316\",\"type\":\"GlyphRenderer\"},{\"id\":\"3321\",\"type\":\"GlyphRenderer\"},{\"id\":\"3326\",\"type\":\"GlyphRenderer\"},{\"id\":\"3331\",\"type\":\"GlyphRenderer\"},{\"id\":\"3336\",\"type\":\"GlyphRenderer\"},{\"id\":\"3341\",\"type\":\"GlyphRenderer\"},{\"id\":\"3346\",\"type\":\"GlyphRenderer\"},{\"id\":\"3351\",\"type\":\"GlyphRenderer\"},{\"id\":\"3356\",\"type\":\"GlyphRenderer\"},{\"id\":\"3361\",\"type\":\"GlyphRenderer\"},{\"id\":\"3366\",\"type\":\"GlyphRenderer\"},{\"id\":\"3371\",\"type\":\"GlyphRenderer\"},{\"id\":\"3376\",\"type\":\"GlyphRenderer\"},{\"id\":\"3381\",\"type\":\"GlyphRenderer\"},{\"id\":\"3386\",\"type\":\"GlyphRenderer\"},{\"id\":\"3391\",\"type\":\"GlyphRenderer\"},{\"id\":\"3396\",\"type\":\"GlyphRenderer\"},{\"id\":\"3401\",\"type\":\"GlyphRenderer\"},{\"id\":\"3406\",\"type\":\"GlyphRenderer\"},{\"id\":\"3411\",\"type\":\"GlyphRenderer\"},{\"id\":\"3416\",\"type\":\"GlyphRenderer\"},{\"id\":\"3421\",\"type\":\"GlyphRenderer\"},{\"id\":\"3426\",\"type\":\"GlyphRenderer\"},{\"id\":\"3431\",\"type\":\"GlyphRenderer\"},{\"id\":\"3436\",\"type\":\"GlyphRenderer\"},{\"id\":\"3441\",\"type\":\"GlyphRenderer\"},{\"id\":\"3446\",\"type\":\"GlyphRenderer\"},{\"id\":\"3451\",\"type\":\"GlyphRenderer\"},{\"id\":\"3456\",\"type\":\"GlyphRenderer\"},{\"id\":\"3461\",\"type\":\"GlyphRenderer\"},{\"id\":\"3466\",\"type\":\"GlyphRenderer\"},{\"id\":\"3471\",\"type\":\"GlyphRenderer\"},{\"id\":\"3476\",\"type\":\"GlyphRenderer\"},{\"id\":\"3481\",\"type\":\"GlyphRenderer\"},{\"id\":\"3486\",\"type\":\"GlyphRenderer\"},{\"id\":\"3491\",\"type\":\"GlyphRenderer\"},{\"id\":\"3496\",\"type\":\"GlyphRenderer\"},{\"id\":\"3501\",\"type\":\"GlyphRenderer\"},{\"id\":\"3506\",\"type\":\"GlyphRenderer\"},{\"id\":\"3511\",\"type\":\"GlyphRenderer\"},{\"id\":\"3516\",\"type\":\"GlyphRenderer\"},{\"id\":\"3521\",\"type\":\"GlyphRenderer\"},{\"id\":\"3526\",\"type\":\"GlyphRenderer\"},{\"id\":\"3531\",\"type\":\"GlyphRenderer\"},{\"id\":\"3536\",\"type\":\"GlyphRenderer\"},{\"id\":\"3541\",\"type\":\"GlyphRenderer\"},{\"id\":\"3546\",\"type\":\"GlyphRenderer\"},{\"id\":\"3551\",\"type\":\"GlyphRenderer\"},{\"id\":\"3556\",\"type\":\"GlyphRenderer\"},{\"id\":\"3561\",\"type\":\"GlyphRenderer\"},{\"id\":\"3566\",\"type\":\"GlyphRenderer\"},{\"id\":\"3571\",\"type\":\"GlyphRenderer\"},{\"id\":\"3576\",\"type\":\"GlyphRenderer\"},{\"id\":\"3581\",\"type\":\"GlyphRenderer\"},{\"id\":\"3586\",\"type\":\"GlyphRenderer\"},{\"id\":\"3591\",\"type\":\"GlyphRenderer\"},{\"id\":\"3596\",\"type\":\"GlyphRenderer\"},{\"id\":\"3601\",\"type\":\"GlyphRenderer\"},{\"id\":\"3606\",\"type\":\"GlyphRenderer\"},{\"id\":\"3611\",\"type\":\"GlyphRenderer\"},{\"id\":\"3616\",\"type\":\"GlyphRenderer\"},{\"id\":\"3621\",\"type\":\"GlyphRenderer\"},{\"id\":\"3626\",\"type\":\"GlyphRenderer\"},{\"id\":\"3631\",\"type\":\"GlyphRenderer\"},{\"id\":\"3636\",\"type\":\"GlyphRenderer\"},{\"id\":\"3641\",\"type\":\"GlyphRenderer\"},{\"id\":\"3646\",\"type\":\"GlyphRenderer\"},{\"id\":\"3651\",\"type\":\"GlyphRenderer\"}],\"title\":{\"id\":\"3870\",\"type\":\"Title\"},\"toolbar\":{\"id\":\"3141\",\"type\":\"Toolbar\"},\"x_range\":{\"id\":\"3117\",\"type\":\"DataRange1d\"},\"x_scale\":{\"id\":\"3121\",\"type\":\"LinearScale\"},\"y_range\":{\"id\":\"3119\",\"type\":\"DataRange1d\"},\"y_scale\":{\"id\":\"3123\",\"type\":\"LinearScale\"}},\"id\":\"3116\",\"subtype\":\"Figure\",\"type\":\"Plot\"},{\"attributes\":{\"callback\":null,\"data\":{\"left\":{\"__ndarray__\":\"YHLvnynuMz+So6CklBKlPx+0AHum/rQ/dhaxowJ0vz9mvDBmr/TEP5HtiHpdL8o/vR7hjgtqzz/0p5zRXFLSP4rAyNuz79Q/INn05QqN1z+18SDwYSraP0sKTfq4x9w/4SJ5BBBl3z+7nVKHMwHhPwWqaAzfT+I/ULZ+kYqe4z+bwpQWNu3kP+bOqpvhO+Y/MdvAII2K5z9759alONnoP8bz7CrkJ+o/EQADsI926z9cDBk1O8XsP6cYL7rmE+4/8iRFP5Ji7z+emC3inljwP8SeuKT0//A/6aRDZ0qn8T8Oq84poE7yPzSxWez19fI/Wbfkrkud8z9/vW9xoUT0P6TD+jP36/Q/ycmF9kyT9T/vzxC5ojr2PxTWm3v44fY/OtwmPk6J9z9f4rEApDD4P4ToPMP51/g/qu7HhU9/+T/P9FJIpSb6P/X63Qr7zfo/GgFpzVB1+z8/B/SPphz8P2UNf1L8w/w/ihMKFVJr/T+wGZXXpxL+P9UfIJr9uf4/+yWrXFNh/z8QFpuPVAQAQA==\",\"dtype\":\"float64\",\"shape\":[50]},\"right\":{\"__ndarray__\":\"kqOgpJQSpT8ftAB7pv60P3YWsaMCdL8/ZrwwZq/0xD+R7Yh6XS/KP70e4Y4Las8/9Kec0VxS0j+KwMjbs+/UPyDZ9OUKjdc/tfEg8GEq2j9LCk36uMfcP+EieQQQZd8/u51ShzMB4T8FqmgM30/iP1C2fpGKnuM/m8KUFjbt5D/mzqqb4TvmPzHbwCCNiuc/e+fWpTjZ6D/G8+wq5CfqPxEAA7CPdus/XAwZNTvF7D+nGC+65hPuP/IkRT+SYu8/npgt4p5Y8D/Enrik9P/wP+mkQ2dKp/E/DqvOKaBO8j80sVns9fXyP1m35K5LnfM/f71vcaFE9D+kw/oz9+v0P8nJhfZMk/U/788QuaI69j8U1pt7+OH2PzrcJj5Oifc/X+KxAKQw+D+E6DzD+df4P6rux4VPf/k/z/RSSKUm+j/1+t0K+836PxoBac1Qdfs/Pwf0j6Yc/D9lDX9S/MP8P4oTChVSa/0/sBmV16cS/j/VHyCa/bn+P/slq1xTYf8/EBabj1QEAEAjmeBw/1cAQA==\",\"dtype\":\"float64\",\"shape\":[50]},\"top\":{\"__ndarray__\":\"bomROa5c/j9lXez5537/P7/OhaxzRABAAD8OhV/o/T/uuuRF1Uv4P3/1k+VJovc/6mNrcftl9z8AF2wRRdHyP+6jeDSQevU/5mdYFJ7c9z+fW1Brzyf1P59bUGvPJ/U//3mfUBNE8z9+yU+fmBX0PxDB+1XGdfQ/n1tQa88n9T//eZ9QE0TzP27FUGCLqfA/n0TkWYpW8j/+kAtiWBX2P5d9SzXrr/M/P8x4CwsL6z8BQ7BX9l3mPwAXbBFF0fI//3mfUBNE4z8/zHgLCwvrPwAAAAAAAPA/AAAAAAAAAAD/eZ9QE0TjPz/MeAsLC+s//dVPlieJ3j8AAAAAAAAAAD/MeAsLC+s//dVPlieJ3j//eZ9QE0TTP/95n1ATRNM/AUOwV/Zd5j/91U+WJ4nePwAAAAAAAAAAAAAAAAAAAAD91U+WJ4nePwAAAAAAAPD/AAAAAAAA8P8AAAAAAADw/wAAAAAAAPD/AAAAAAAA8P8AAAAAAADw/wAAAAAAAPD/AAAAAAAA8P8AAAAAAAAAAA==\",\"dtype\":\"float64\",\"shape\":[50]}},\"selected\":{\"id\":\"3908\",\"type\":\"Selection\"},\"selection_policy\":{\"id\":\"3909\",\"type\":\"UnionRenderers\"}},\"id\":\"3228\",\"type\":\"ColumnDataSource\"},{\"attributes\":{\"source\":{\"id\":\"3548\",\"type\":\"ColumnDataSource\"}},\"id\":\"3552\",\"type\":\"CDSView\"},{\"attributes\":{\"bottom\":{\"value\":0},\"fill_alpha\":{\"value\":0.1},\"fill_color\":{\"value\":\"#1f77b4\"},\"left\":{\"field\":\"left\"},\"line_alpha\":{\"value\":0.1},\"line_color\":{\"value\":\"#1f77b4\"},\"right\":{\"field\":\"right\"},\"top\":{\"field\":\"top\"}},\"id\":\"3620\",\"type\":\"Quad\"},{\"attributes\":{\"callback\":null,\"data\":{\"left\":{\"__ndarray__\":\"85buF0vFBj8/n/m/wXqxP1UgSGtVecE/C3GT9kk1yj/hYO9An3jRPzwJlYaZ1tU/l7E6zJM02j/yWeARjpLePyYBwytEeOE/VNWVTkGn4z+BqWhxPtblP659O5Q7Beg/3FEOtzg06j8KJuHZNWPsPzf6s/wyku4/MmfDD5hg8D9J0SyhFnjxP2A7ljKVj/I/d6X/wxOn8z+ND2lVkr70P6R50uYQ1vU/u+M7eI/t9j/RTaUJDgX4P+i3DpuMHPk//yF4LAs0+j8WjOG9iUv7Py32Sk8IY/w/Q2C04IZ6/T9ayh1yBZL+P3E0hwOEqf8/RE94SoFgAEBQBC2TQOwAQFu54dv/dwFAZm6WJL8DAkByI0ttfo8CQH3Y/7U9GwNAiY20/vymA0CUQmlHvDIEQJ/3HZB7vgRAq6zS2DpKBUC2YYch+tUFQMEWPGq5YQZAzcvwsnjtBkDYgKX7N3kHQOM1WkT3BAhA7+oOjbaQCED6n8PVdRwJQAZVeB41qAlAEQotZ/QzCkAcv+Gvs78KQA==\",\"dtype\":\"float64\",\"shape\":[50]},\"right\":{\"__ndarray__\":\"P5/5v8F6sT9VIEhrVXnBPwtxk/ZJNco/4WDvQJ940T88CZWGmdbVP5exOsyTNNo/8lngEY6S3j8mAcMrRHjhP1TVlU5Bp+M/galocT7W5T+ufTuUOwXoP9xRDrc4NOo/Cibh2TVj7D83+rP8MpLuPzJnww+YYPA/SdEsoRZ48T9gO5YylY/yP3el/8MTp/M/jQ9pVZK+9D+kedLmENb1P7vjO3iP7fY/0U2lCQ4F+D/otw6bjBz5P/8heCwLNPo/FozhvYlL+z8t9kpPCGP8P0NgtOCGev0/WsodcgWS/j9xNIcDhKn/P0RPeEqBYABAUAQtk0DsAEBbueHb/3cBQGZuliS/AwJAciNLbX6PAkB92P+1PRsDQImNtP78pgNAlEJpR7wyBECf9x2Qe74EQKus0tg6SgVAtmGHIfrVBUDBFjxquWEGQM3L8LJ47QZA2ICl+zd5B0DjNVpE9wQIQO/qDo22kAhA+p/D1XUcCUAGVXgeNagJQBEKLWf0MwpAHL/hr7O/CkAndJb4cksLQA==\",\"dtype\":\"float64\",\"shape\":[50]},\"top\":{\"__ndarray__\":\"f7LjjVNEAUAoCd4hW+kAQH+bd3wOc/4//9O7uU5z/D/+7i8G7Wv9P/6nd3Od5vg/nwE0ApT4+z8fOng/1Pj5P5CfIyrLRvk/zgdQKQB1+T8fIwwujyf3Px86eD/U+Pk/gDhEPUAA/j+XfUs166/zPz/MeAsLC+s//dVPlieJ7j/91U+WJ4nuP3+y441TRPE//dVPlieJ7j/+kAtiWBX2P3/5myCjyfU//dVPlieJ7j8/zHgLCwvrPwFDsFf2XeY//jbv+Bzm7D//eZ9QE0TjP/95n1ATRNM/AAAAAAAAAAAAAAAAAAAAAP95n1ATRNM/AAAAAAAA8P8AAAAAAADw/wAAAAAAAPD/AAAAAAAA8P//eZ9QE0TjPwAAAAAAAPD/AAAAAAAA8P/91U+WJ4nePwAAAAAAAPD/AAAAAAAA8P8AAAAAAAAAAAAAAAAAAPD/AAAAAAAA8P8AAAAAAADw//3VT5Ynid4/AAAAAAAAAAD91U+WJ4nePwAAAAAAAPD/AAAAAAAA8P8AAAAAAAAAAA==\",\"dtype\":\"float64\",\"shape\":[50]}},\"selected\":{\"id\":\"4066\",\"type\":\"Selection\"},\"selection_policy\":{\"id\":\"4067\",\"type\":\"UnionRenderers\"}},\"id\":\"3623\",\"type\":\"ColumnDataSource\"},{\"attributes\":{},\"id\":\"3955\",\"type\":\"UnionRenderers\"},{\"attributes\":{\"bottom\":{\"value\":0},\"fill_alpha\":{\"value\":0.05},\"fill_color\":{\"value\":\"#CB4777\"},\"left\":{\"field\":\"left\"},\"line_alpha\":{\"value\":0.05},\"line_color\":{\"value\":\"#7E03A7\"},\"right\":{\"field\":\"right\"},\"top\":{\"field\":\"top\"}},\"id\":\"3229\",\"type\":\"Quad\"},{\"attributes\":{\"callback\":null,\"data\":{\"left\":{\"__ndarray__\":\"AAAAAAAAAABxoaZY/reyP3Ghplj+t8I/KvL5hP0TzD9xoaZY/rfSP81J0O79Zdc/KvL5hP0T3D9DzZGN/mDgP3Ghplj+t+I/n3W7I/4O5T/NSdDu/WXnP/sd5bn9vOk/KvL5hP0T7D9Yxg5Q/WruP0PNkY3+YPA/Wjccc36M8T9xoaZY/rfyP4gLMT5+4/M/n3W7I/4O9T+230UJfjr2P81J0O79Zfc/5LNa1H2R+D/7HeW5/bz5PxKIb5996Po/KvL5hP0T/D9BXIRqfT/9P1jGDlD9av4/bzCZNX2W/z9DzZGN/mAAQE4CV4C+9gBAWjccc36MAUBlbOFlPiICQHGhplj+twJAfdZrS75NA0CICzE+fuMDQJRA9jA+eQRAn3W7I/4OBUCrqoAWvqQFQLbfRQl+OgZAwhQL/D3QBkDNSdDu/WUHQNl+leG9+wdA5LNa1H2RCEDw6B/HPScJQPsd5bn9vAlAB1OqrL1SCkASiG+ffegKQB69NJI9fgtAKvL5hP0TDEA1J793vakMQA==\",\"dtype\":\"float64\",\"shape\":[50]},\"right\":{\"__ndarray__\":\"caGmWP63sj9xoaZY/rfCPyry+YT9E8w/caGmWP630j/NSdDu/WXXPyry+YT9E9w/Q82Rjf5g4D9xoaZY/rfiP591uyP+DuU/zUnQ7v1l5z/7HeW5/bzpPyry+YT9E+w/WMYOUP1q7j9DzZGN/mDwP1o3HHN+jPE/caGmWP638j+ICzE+fuPzP591uyP+DvU/tt9FCX469j/NSdDu/WX3P+SzWtR9kfg/+x3luf28+T8SiG+ffej6Pyry+YT9E/w/QVyEan0//T9Yxg5Q/Wr+P28wmTV9lv8/Q82Rjf5gAEBOAleAvvYAQFo3HHN+jAFAZWzhZT4iAkBxoaZY/rcCQH3Wa0u+TQNAiAsxPn7jA0CUQPYwPnkEQJ91uyP+DgVAq6qAFr6kBUC230UJfjoGQMIUC/w90AZAzUnQ7v1lB0DZfpXhvfsHQOSzWtR9kQhA8Ogfxz0nCUD7HeW5/bwJQAdTqqy9UgpAEohvn33oCkAevTSSPX4LQCry+YT9EwxANSe/d72pDEBBXIRqfT8NQA==\",\"dtype\":\"float64\",\"shape\":[50]},\"top\":{\"__ndarray__\":\"F1xzCfCACEDo6WnpRkEHQGlpc1CKcQdA3ljuynVmBkDw2O+2wIwFQB27k9pYnARACFz87cw3BUBLh6vLoeIEQPLqvGaTfwRAo9tHFyW8A0D/1T9X+4YDQDZzamjZ+wFAB4Ua3QqAAUBAMsTBeMYAQLDp20w+JANAKAneIVvpAED91U+WJ4n+P+/mKIyG2Ps/FnPfGjVS+z+AIdgr+y77P4Bg5rBaF/k/7rrkRdVL+D9/WMckGBX4P3/1k+VJovc/AUOwV/Zd9j9+yU+fmBX0P+6jeDSQevU//3mfUBNE8z9PErxDttLxP/95n1ATROM//qd3c53m6D/+Nu/4HObsP/95n1ATRNM/AAAAAAAAAAD/eZ9QE0TTPwFDsFf2XeY/AUOwV/Zd5j//eZ9QE0TjPwFDsFf2XeY/AAAAAAAAAAAAAAAAAAAAAAAAAAAAAAAAAAAAAAAA8P8AAAAAAADw//95n1ATRNM/AAAAAAAAAAAAAAAAAADw/wAAAAAAAAAAAAAAAAAA8P8AAAAAAAAAAA==\",\"dtype\":\"float64\",\"shape\":[50]}},\"selected\":{\"id\":\"4038\",\"type\":\"Selection\"},\"selection_policy\":{\"id\":\"4039\",\"type\":\"UnionRenderers\"}},\"id\":\"3553\",\"type\":\"ColumnDataSource\"},{\"attributes\":{\"source\":{\"id\":\"3618\",\"type\":\"ColumnDataSource\"}},\"id\":\"3622\",\"type\":\"CDSView\"},{\"attributes\":{},\"id\":\"3954\",\"type\":\"Selection\"},{\"attributes\":{\"bottom\":{\"value\":0},\"fill_alpha\":{\"value\":0.1},\"fill_color\":{\"value\":\"#1f77b4\"},\"left\":{\"field\":\"left\"},\"line_alpha\":{\"value\":0.1},\"line_color\":{\"value\":\"#1f77b4\"},\"right\":{\"field\":\"right\"},\"top\":{\"field\":\"top\"}},\"id\":\"3230\",\"type\":\"Quad\"},{\"attributes\":{\"bottom\":{\"value\":0},\"fill_alpha\":{\"value\":0.05},\"fill_color\":{\"value\":\"#CB4777\"},\"left\":{\"field\":\"left\"},\"line_alpha\":{\"value\":0.05},\"line_color\":{\"value\":\"#7E03A7\"},\"right\":{\"field\":\"right\"},\"top\":{\"field\":\"top\"}},\"id\":\"3554\",\"type\":\"Quad\"},{\"attributes\":{},\"id\":\"3948\",\"type\":\"Selection\"},{\"attributes\":{\"data_source\":{\"id\":\"3228\",\"type\":\"ColumnDataSource\"},\"glyph\":{\"id\":\"3229\",\"type\":\"Quad\"},\"hover_glyph\":null,\"muted_glyph\":null,\"nonselection_glyph\":{\"id\":\"3230\",\"type\":\"Quad\"},\"selection_glyph\":null,\"view\":{\"id\":\"3232\",\"type\":\"CDSView\"}},\"id\":\"3231\",\"type\":\"GlyphRenderer\"},{\"attributes\":{\"bottom\":{\"value\":0},\"fill_alpha\":{\"value\":0.1},\"fill_color\":{\"value\":\"#1f77b4\"},\"left\":{\"field\":\"left\"},\"line_alpha\":{\"value\":0.1},\"line_color\":{\"value\":\"#1f77b4\"},\"right\":{\"field\":\"right\"},\"top\":{\"field\":\"top\"}},\"id\":\"3555\",\"type\":\"Quad\"},{\"attributes\":{\"bottom\":{\"value\":0},\"fill_alpha\":{\"value\":0.05},\"fill_color\":{\"value\":\"#CB4777\"},\"left\":{\"field\":\"left\"},\"line_alpha\":{\"value\":0.05},\"line_color\":{\"value\":\"#7E03A7\"},\"right\":{\"field\":\"right\"},\"top\":{\"field\":\"top\"}},\"id\":\"3619\",\"type\":\"Quad\"},{\"attributes\":{},\"id\":\"3933\",\"type\":\"UnionRenderers\"},{\"attributes\":{\"data_source\":{\"id\":\"3618\",\"type\":\"ColumnDataSource\"},\"glyph\":{\"id\":\"3619\",\"type\":\"Quad\"},\"hover_glyph\":null,\"muted_glyph\":null,\"nonselection_glyph\":{\"id\":\"3620\",\"type\":\"Quad\"},\"selection_glyph\":null,\"view\":{\"id\":\"3622\",\"type\":\"CDSView\"}},\"id\":\"3621\",\"type\":\"GlyphRenderer\"},{\"attributes\":{},\"id\":\"3934\",\"type\":\"Selection\"},{\"attributes\":{},\"id\":\"3947\",\"type\":\"UnionRenderers\"},{\"attributes\":{\"data_source\":{\"id\":\"3553\",\"type\":\"ColumnDataSource\"},\"glyph\":{\"id\":\"3554\",\"type\":\"Quad\"},\"hover_glyph\":null,\"muted_glyph\":null,\"nonselection_glyph\":{\"id\":\"3555\",\"type\":\"Quad\"},\"selection_glyph\":null,\"view\":{\"id\":\"3557\",\"type\":\"CDSView\"}},\"id\":\"3556\",\"type\":\"GlyphRenderer\"},{\"attributes\":{\"source\":{\"id\":\"3228\",\"type\":\"ColumnDataSource\"}},\"id\":\"3232\",\"type\":\"CDSView\"},{\"attributes\":{},\"id\":\"3949\",\"type\":\"UnionRenderers\"},{\"attributes\":{},\"id\":\"3932\",\"type\":\"Selection\"},{\"attributes\":{\"callback\":null,\"data\":{\"left\":{\"__ndarray__\":\"ak5/EhN4LD87Xv3gJPytP5QedNfo7b0/Bsc0n99uxj/Bfq/SyubNPz4bFQNbr9I/HHfSnFBr1j/50o82RifaP9cuTdA7490/WkUFtZjP4D9J8+OBk63iPzihwk6Oi+Q/J0+hG4lp5j8W/X/og0foPwSrXrV+Jeo/81g9gnkD7D/iBhxPdOHtP9G0+htvv+8/X7Fs9LTO8D9XCNxasr3xP05fS8GvrPI/Rra6J62b8z89DSqOqor0PzRkmfSnefU/LLsIW6Vo9j8jEnjBolf3Pxtp5yegRvg/EsBWjp01+T8JF8b0miT6PwFuNVuYE/s/+MSkwZUC/D/wGxQok/H8P+dyg46Q4P0/3sny9I3P/j/WIGJbi77/P+e76GDEVgBAYmcgFEPOAEDeEljHwUUBQFq+j3pAvQFA1WnHLb80AkBRFf/gPawCQM3ANpS8IwNASWxuRzubA0DEF6b6uRIEQEDD3a04igRAvG4VYbcBBUA3Gk0UNnkFQLPFhMe08AVAL3G8ejNoBkCqHPQtst8GQA==\",\"dtype\":\"float64\",\"shape\":[50]},\"right\":{\"__ndarray__\":\"O1794CT8rT+UHnTX6O29PwbHNJ/fbsY/wX6v0srmzT8+GxUDW6/SPxx30pxQa9Y/+dKPNkYn2j/XLk3QO+PdP1pFBbWYz+A/SfPjgZOt4j84ocJOjovkPydPoRuJaeY/Fv1/6INH6D8Eq161fiXqP/NYPYJ5A+w/4gYcT3Th7T/RtPobb7/vP1+xbPS0zvA/VwjcWrK98T9OX0vBr6zyP0a2uietm/M/PQ0qjqqK9D80ZJn0p3n1Pyy7CFulaPY/IxJ4waJX9z8baecnoEb4PxLAVo6dNfk/CRfG9Jok+j8BbjVbmBP7P/jEpMGVAvw/8BsUKJPx/D/ncoOOkOD9P97J8vSNz/4/1iBiW4u+/z/nu+hgxFYAQGJnIBRDzgBA3hJYx8FFAUBavo96QL0BQNVpxy2/NAJAURX/4D2sAkDNwDaUvCMDQElsbkc7mwNAxBem+rkSBEBAw92tOIoEQLxuFWG3AQVANxpNFDZ5BUCzxYTHtPAFQC9xvHozaAZAqhz0LbLfBkAmyCvhMFcHQA==\",\"dtype\":\"float64\",\"shape\":[50]},\"top\":{\"__ndarray__\":\"ygTl8wAYAUCAC7aIomgBQL+Ki+aQ2wBAB4Ua3QqAAUCLjOHYfBEBQBdccwnwgPg/fwwA945z+j8eUeRQGcr8P/YwvNGvIvo/kJ8jKstG+T8fOng/1Pj5P/6QC2JYFfY/f1jHJBgV+D9+4Luw3eb2PwAAAAAAAPA//dVPlieJ7j/+p3dzneboP/427/gc5uw//3mfUBNE8z8AAAAAAADwPwFDsFf2XeY//3mfUBNE4z8BQ7BX9l3mP/3VT5Ynid4//dVPlieJ3j//eZ9QE0TjP/95n1ATRNM/AAAAAAAA8P/91U+WJ4neP/95n1ATRNM/AAAAAAAAAAAAAAAAAADw/wAAAAAAAAAA/3mfUBNE0z8AAAAAAAAAAAAAAAAAAPD/AAAAAAAA8P8AAAAAAADw/wAAAAAAAPD/AAAAAAAA8P8AAAAAAADw/wAAAAAAAPD/AAAAAAAA8P8AAAAAAADw/wAAAAAAAPD/AAAAAAAA8P8AAAAAAADw/wAAAAAAAPD/AAAAAAAA8P8AAAAAAAAAAA==\",\"dtype\":\"float64\",\"shape\":[50]}},\"selected\":{\"id\":\"3910\",\"type\":\"Selection\"},\"selection_policy\":{\"id\":\"3911\",\"type\":\"UnionRenderers\"}},\"id\":\"3233\",\"type\":\"ColumnDataSource\"},{\"attributes\":{\"source\":{\"id\":\"3553\",\"type\":\"ColumnDataSource\"}},\"id\":\"3557\",\"type\":\"CDSView\"},{\"attributes\":{\"callback\":null,\"data\":{\"left\":{\"__ndarray__\":\"AdvPOomjST8b5dzH07SrP2VFZ7WMgbs/Hgxww1eUxD+KdSws6WfLP3tvdEq9HdE/MaTS/oWH1D/n2DCzTvHXP50Nj2cXW9s/U0LtG+DE3j+EuyVoVBfhP9/VVMI4zOI/OvCDHB2B5D+VCrN2ATbmP/Ak4tDl6uc/Sz8RK8qf6T+mWUCFrlTrPwF0b9+SCe0/XI6eOXe+7j9b1ObJrTnwP4hh/vYfFPE/tu4VJJLu8T/jey1RBMnyPxEJRX52o/M/PpZcq+h99D9sI3TYWlj1P5mwiwXNMvY/xz2jMj8N9z/0yrpfsef3PyJY0owjwvg/T+XpuZWc+T99cgHnB3f6P6r/GBR6Ufs/14wwQewr/D8FGkhuXgb9PzKnX5vQ4P0/YDR3yEK7/j+NwY71tJX/P14nU5ETOABA9e3ep0ylAECLtGq+hRIBQCJ79tS+fwFAuUGC6/fsAUBQCA4CMVoCQObOmRhqxwJAfZUlL6M0A0AUXLFF3KEDQKsiPVwVDwRAQenIck58BEDYr1SJh+kEQA==\",\"dtype\":\"float64\",\"shape\":[50]},\"right\":{\"__ndarray__\":\"G+Xcx9O0qz9lRWe1jIG7Px4McMNXlMQ/inUsLOlnyz97b3RKvR3RPzGk0v6Fh9Q/59gws07x1z+dDY9nF1vbP1NC7RvgxN4/hLslaFQX4T/f1VTCOMziPzrwgxwdgeQ/lQqzdgE25j/wJOLQ5ernP0s/ESvKn+k/pllAha5U6z8BdG/fkgntP1yOnjl3vu4/W9Tmya058D+IYf72HxTxP7buFSSS7vE/43stUQTJ8j8RCUV+dqPzPz6WXKvoffQ/bCN02FpY9T+ZsIsFzTL2P8c9ozI/Dfc/9Mq6X7Hn9z8iWNKMI8L4P0/l6bmVnPk/fXIB5wd3+j+q/xgUelH7P9eMMEHsK/w/BRpIbl4G/T8yp1+b0OD9P2A0d8hCu/4/jcGO9bSV/z9eJ1OREzgAQPXt3qdMpQBAi7RqvoUSAUAie/bUvn8BQLlBguv37AFAUAgOAjFaAkDmzpkYascCQH2VJS+jNANAFFyxRdyhA0CrIj1cFQ8EQEHpyHJOfARA2K9UiYfpBEBvduCfwFYFQA==\",\"dtype\":\"float64\",\"shape\":[50]},\"top\":{\"__ndarray__\":\"TuZ3/QRG/j+ADTomT3wAQOfWGWDiIgBA/jbv+Bzm/D+OKw3mEC/+P86mdCjRyf8//u4vBu1r/T/OpnQo0cn/P/YwvNGvIvo/gDhEPUAA/j9+4Luw3eb2P4Bg5rBaF/k/WAwCcvbN+T9O5nf9BEb+P59E5FmKVvI/AAAAAAAA8D/+Nu/4HObsP/95n1ATROM/P8x4CwsL6z/+p3dzneboP/3VT5Ynie4//dVPlieJ3j/+p3dzneboP/3VT5Ynid4//3mfUBNE4z//eZ9QE0TTPwAAAAAAAAAAAAAAAAAAAAD/eZ9QE0TTPwAAAAAAAPD/AAAAAAAAAAAAAAAAAAAAAP95n1ATRNM//3mfUBNE0z8AAAAAAADw/wAAAAAAAPD/AAAAAAAA8P8AAAAAAADw/wAAAAAAAPD/AAAAAAAA8P8AAAAAAADw/wAAAAAAAAAAAAAAAAAA8P8AAAAAAADw/wAAAAAAAPD/AAAAAAAA8P8AAAAAAADw/wAAAAAAAPD/AAAAAAAA8P//eZ9QE0TTPw==\",\"dtype\":\"float64\",\"shape\":[50]}},\"selected\":{\"id\":\"4064\",\"type\":\"Selection\"},\"selection_policy\":{\"id\":\"4065\",\"type\":\"UnionRenderers\"}},\"id\":\"3618\",\"type\":\"ColumnDataSource\"},{\"attributes\":{},\"id\":\"3950\",\"type\":\"Selection\"},{\"attributes\":{},\"id\":\"4057\",\"type\":\"UnionRenderers\"},{\"attributes\":{\"bottom\":{\"value\":0},\"fill_alpha\":{\"value\":0.05},\"fill_color\":{\"value\":\"#CB4777\"},\"left\":{\"field\":\"left\"},\"line_alpha\":{\"value\":0.05},\"line_color\":{\"value\":\"#7E03A7\"},\"right\":{\"field\":\"right\"},\"top\":{\"field\":\"top\"}},\"id\":\"3234\",\"type\":\"Quad\"},{\"attributes\":{\"callback\":null,\"data\":{\"left\":{\"__ndarray__\":\"Sd85uJXFFj91M9jCY3utP/0kal2ydb0/IBi0bNkWxj/BHbOq2XLNP7ERWfRsZ9I/gpRYE20V1j9SF1gybcPZPyOaV1Ftcd0/eo4ruLaP4D/iT6vHtmbiP0oRK9e2PeQ/s9Kq5rYU5j8blCr2tuvnP4NVqgW3wuk/7BYqFbeZ6z9U2Kkkt3DtP7yZKTS3R+8/kq3UoVuP8D9GjpSp23rxP/puVLFbZvI/rk8UudtR8z9iMNTAWz30PxcRlMjbKPU/y/FT0FsU9j9/0hPY2//2PzOz099b6/c/55OT59vW+D+bdFPvW8L5P1BVE/fbrfo/BDbT/luZ+z+4FpMG3IT8P2z3Ug5ccP0/INgSFtxb/j/UuNIdXEf/P8VMyRJuGQBAHz2pFi6PAEB5LYka7gQBQNMdaR6uegFALQ5JIm7wAUCH/igmLmYCQOHuCCru2wJAO9/oLa5RA0CVz8gxbscDQO+/qDUuPQRASrCIOe6yBECkoGg9rigFQP6QSEFungVAWIEoRS4UBkCycQhJ7okGQA==\",\"dtype\":\"float64\",\"shape\":[50]},\"right\":{\"__ndarray__\":\"dTPYwmN7rT/9JGpdsnW9PyAYtGzZFsY/wR2zqtlyzT+xEVn0bGfSP4KUWBNtFdY/UhdYMm3D2T8jmldRbXHdP3qOK7i2j+A/4k+rx7Zm4j9KESvXtj3kP7PSqua2FOY/G5Qq9rbr5z+DVaoFt8LpP+wWKhW3mes/VNipJLdw7T+8mSk0t0fvP5Kt1KFbj/A/Ro6Uqdt68T/6blSxW2byP65PFLnbUfM/YjDUwFs99D8XEZTI2yj1P8vxU9BbFPY/f9IT2Nv/9j8zs9PfW+v3P+eTk+fb1vg/m3RT71vC+T9QVRP32636PwQ20/5bmfs/uBaTBtyE/D9s91IOXHD9PyDYEhbcW/4/1LjSHVxH/z/FTMkSbhkAQB89qRYujwBAeS2JGu4EAUDTHWkernoBQC0OSSJu8AFAh/4oJi5mAkDh7ggq7tsCQDvf6C2uUQNAlc/IMW7HA0Dvv6g1Lj0EQEqwiDnusgRApKBoPa4oBUD+kEhBbp4FQFiBKEUuFAZAsnEISe6JBkAMYuhMrv8GQA==\",\"dtype\":\"float64\",\"shape\":[50]},\"top\":{\"__ndarray__\":\"7mDI3Jkc/z9TIAMTwZ79Py5lWjaaN/0/bomROa5c/j9+hp9Horf9PxB+S/7PF/4//r7jhOK3+z9+bzM2Xeb6P39YxyQYFfg/RHpTS6KW+z/+p3dzneb4PxdccwnwgPg/f/mbIKPJ9T9/WMckGBX4P84HUCkAdfk//dVPlieJ7j9+4Luw3eb2P27FUGCLqfA/HyMMLo8n9z+fW1Brzyf1P59E5FmKVvI/l31LNeuv8z8/zHgLCwvrP/95n1ATRNM//3mfUBNE4z8AAAAAAAAAAP95n1ATRNM/AAAAAAAAAAAAAAAAAAAAAAAAAAAAAAAAAAAAAAAAAAAAAAAAAAAAAAAAAAAAAPD//3mfUBNE0z8AAAAAAAAAAAAAAAAAAAAAAAAAAAAA8P//eZ9QE0TTP/95n1ATRNM/AAAAAAAA8P8AAAAAAAAAAAAAAAAAAPD/AAAAAAAA8P8AAAAAAAAAAAAAAAAAAPD/AAAAAAAA8P8AAAAAAADw/wAAAAAAAPD/AAAAAAAA8P8AAAAAAAAAAA==\",\"dtype\":\"float64\",\"shape\":[50]}},\"selected\":{\"id\":\"4040\",\"type\":\"Selection\"},\"selection_policy\":{\"id\":\"4041\",\"type\":\"UnionRenderers\"}},\"id\":\"3558\",\"type\":\"ColumnDataSource\"},{\"attributes\":{},\"id\":\"3917\",\"type\":\"UnionRenderers\"},{\"attributes\":{},\"id\":\"4059\",\"type\":\"UnionRenderers\"},{\"attributes\":{\"bottom\":{\"value\":0},\"fill_alpha\":{\"value\":0.1},\"fill_color\":{\"value\":\"#1f77b4\"},\"left\":{\"field\":\"left\"},\"line_alpha\":{\"value\":0.1},\"line_color\":{\"value\":\"#1f77b4\"},\"right\":{\"field\":\"right\"},\"top\":{\"field\":\"top\"}},\"id\":\"3235\",\"type\":\"Quad\"},{\"attributes\":{\"bottom\":{\"value\":0},\"fill_alpha\":{\"value\":0.05},\"fill_color\":{\"value\":\"#CB4777\"},\"left\":{\"field\":\"left\"},\"line_alpha\":{\"value\":0.05},\"line_color\":{\"value\":\"#7E03A7\"},\"right\":{\"field\":\"right\"},\"top\":{\"field\":\"top\"}},\"id\":\"3559\",\"type\":\"Quad\"},{\"attributes\":{},\"id\":\"3929\",\"type\":\"UnionRenderers\"},{\"attributes\":{},\"id\":\"3928\",\"type\":\"Selection\"},{\"attributes\":{},\"id\":\"3935\",\"type\":\"UnionRenderers\"},{\"attributes\":{\"data_source\":{\"id\":\"3233\",\"type\":\"ColumnDataSource\"},\"glyph\":{\"id\":\"3234\",\"type\":\"Quad\"},\"hover_glyph\":null,\"muted_glyph\":null,\"nonselection_glyph\":{\"id\":\"3235\",\"type\":\"Quad\"},\"selection_glyph\":null,\"view\":{\"id\":\"3237\",\"type\":\"CDSView\"}},\"id\":\"3236\",\"type\":\"GlyphRenderer\"},{\"attributes\":{\"bottom\":{\"value\":0},\"fill_alpha\":{\"value\":0.1},\"fill_color\":{\"value\":\"#1f77b4\"},\"left\":{\"field\":\"left\"},\"line_alpha\":{\"value\":0.1},\"line_color\":{\"value\":\"#1f77b4\"},\"right\":{\"field\":\"right\"},\"top\":{\"field\":\"top\"}},\"id\":\"3560\",\"type\":\"Quad\"},{\"attributes\":{},\"id\":\"3931\",\"type\":\"UnionRenderers\"},{\"attributes\":{},\"id\":\"3924\",\"type\":\"Selection\"},{\"attributes\":{},\"id\":\"4060\",\"type\":\"Selection\"},{\"attributes\":{\"data_source\":{\"id\":\"3558\",\"type\":\"ColumnDataSource\"},\"glyph\":{\"id\":\"3559\",\"type\":\"Quad\"},\"hover_glyph\":null,\"muted_glyph\":null,\"nonselection_glyph\":{\"id\":\"3560\",\"type\":\"Quad\"},\"selection_glyph\":null,\"view\":{\"id\":\"3562\",\"type\":\"CDSView\"}},\"id\":\"3561\",\"type\":\"GlyphRenderer\"},{\"attributes\":{\"source\":{\"id\":\"3233\",\"type\":\"ColumnDataSource\"}},\"id\":\"3237\",\"type\":\"CDSView\"},{\"attributes\":{},\"id\":\"4058\",\"type\":\"Selection\"},{\"attributes\":{},\"id\":\"3930\",\"type\":\"Selection\"},{\"attributes\":{},\"id\":\"3952\",\"type\":\"Selection\"},{\"attributes\":{\"callback\":null,\"data\":{\"left\":{\"__ndarray__\":\"Sd85uJXFFj/0/Iklrg6wP7j10nLVC8A/9uzg0lMQyD8acncZaQrQP7ltfkmoDNQ/WGmFeecO2D/3ZIypJhHcP0uwyeyyCeA/Gy7NhNIK4j/qq9Ac8gvkP7kp1LQRDeY/iafXTDEO6D9ZJdvkUA/qPyij3nxwEOw/9yDiFJAR7j9jz3LWVwnwP0uOdKLnCfE/M012bncK8j8aDHg6BwvzPwLLeQaXC/Q/6ol70iYM9T/RSH2etgz2P7kHf2pGDfc/ocaANtYN+D+JhYICZg75P3FEhM71Dvo/WAOGmoUP+z9AwodmFRD8PyiBiTKlEP0/D0CL/jQR/j/3/ozKxBH/P/BeR0sqCQBAZD5IMXKJAEDYHUkXugkBQEz9Sf0BigFAwNxK40kKAkAzvEvJkYoCQKebTK/ZCgNAG3tNlSGLA0CPWk57aQsEQAM6T2GxiwRAdxlQR/kLBUDr+FAtQYwFQF7YUROJDAZA0rdS+dCMBkBGl1PfGA0HQLp2VMVgjQdALlZVq6gNCECiNVaR8I0IQA==\",\"dtype\":\"float64\",\"shape\":[50]},\"right\":{\"__ndarray__\":\"9PyJJa4OsD+49dJy1QvAP/bs4NJTEMg/GnJ3GWkK0D+5bX5JqAzUP1hphXnnDtg/92SMqSYR3D9LsMnssgngPxsuzYTSCuI/6qvQHPIL5D+5KdS0EQ3mP4mn10wxDug/WSXb5FAP6j8oo958cBDsP/cg4hSQEe4/Y89y1lcJ8D9LjnSi5wnxPzNNdm53CvI/Ggx4OgcL8z8Cy3kGlwv0P+qJe9ImDPU/0Uh9nrYM9j+5B39qRg33P6HGgDbWDfg/iYWCAmYO+T9xRITO9Q76P1gDhpqFD/s/QMKHZhUQ/D8ogYkypRD9Pw9Ai/40Ef4/9/6MysQR/z/wXkdLKgkAQGQ+SDFyiQBA2B1JF7oJAUBM/Un9AYoBQMDcSuNJCgJAM7xLyZGKAkCnm0yv2QoDQBt7TZUhiwNAj1pOe2kLBEADOk9hsYsEQHcZUEf5CwVA6/hQLUGMBUBe2FETiQwGQNK3UvnQjAZARpdT3xgNB0C6dlTFYI0HQC5WVauoDQhAojVWkfCNCEAVFVd3OA4JQA==\",\"dtype\":\"float64\",\"shape\":[50]},\"top\":{\"__ndarray__\":\"Nb7wWK5YA0BWi9/IuQ8CQP8ASm7sCgFAp/5xB6WLAEAQfkv+zxf+PxZz3xo1Uvs/f1jHJBgV+D9O5nf9BEb+Px2ZIIPukf8/gCHYK/su+z+AIdgr+y77P1gMAnL2zfk/7rrkRdVL+D9+yU+fmBX0P+6jeDSQevU//3mfUBNE8z9PErxDttLxP/6nd3Od5ug//qd3c53m6D8AAAAAAADwPwFDsFf2XeY//dVPlieJ3j8AAAAAAAAAAAAAAAAAAPD/AAAAAAAA8P8AAAAAAADw/wAAAAAAAPD/AAAAAAAA8P8AAAAAAAAAAP95n1ATRNM/AAAAAAAA8P8AAAAAAAAAAAAAAAAAAAAAAAAAAAAA8P8AAAAAAADw/wAAAAAAAPD/AAAAAAAA8P8AAAAAAADw/wAAAAAAAPD/AAAAAAAAAAAAAAAAAADw//95n1ATRNM/AAAAAAAA8P8AAAAAAADw/wAAAAAAAAAAAAAAAAAA8P8AAAAAAAAAAAAAAAAAAAAAAAAAAAAA8P8AAAAAAAAAAA==\",\"dtype\":\"float64\",\"shape\":[50]}},\"selected\":{\"id\":\"3912\",\"type\":\"Selection\"},\"selection_policy\":{\"id\":\"3913\",\"type\":\"UnionRenderers\"}},\"id\":\"3238\",\"type\":\"ColumnDataSource\"},{\"attributes\":{\"source\":{\"id\":\"3558\",\"type\":\"ColumnDataSource\"}},\"id\":\"3562\",\"type\":\"CDSView\"},{\"attributes\":{},\"id\":\"3925\",\"type\":\"UnionRenderers\"},{\"attributes\":{},\"id\":\"4061\",\"type\":\"UnionRenderers\"},{\"attributes\":{\"bottom\":{\"value\":0},\"fill_alpha\":{\"value\":0.05},\"fill_color\":{\"value\":\"#CB4777\"},\"left\":{\"field\":\"left\"},\"line_alpha\":{\"value\":0.05},\"line_color\":{\"value\":\"#7E03A7\"},\"right\":{\"field\":\"right\"},\"top\":{\"field\":\"top\"}},\"id\":\"3239\",\"type\":\"Quad\"},{\"attributes\":{\"callback\":null,\"data\":{\"left\":{\"__ndarray__\":\"85buF0vFBj96DVOko5OfP9URjVHyja8/dk54aAmptz8CFCqoGYu/P8bs7fOUtsM/jM/GE52nxz9Ssp8zpZjLPxiVeFOtic8/77uouVq90T9SLZXJ3rXTP7WegdlirtU/GBBu6eam1z97gVr5ap/ZP97yRgnvl9s/QWQzGXOQ3T+k1R8p94jfP4Mjhpy9wOA/NFx8pP+84T/mlHKsQbniP5fNaLSDteM/SQZfvMWx5D/6PlXEB67lP6x3S8xJquY/XbBB1Ium5z8P6TfczaLoP8AhLuQPn+k/clok7FGb6j8jkxr0k5frP9XLEPzVk+w/hgQHBBiQ7T84Pf0LWozuP+l18xOciO8/Tdf0DW9C8D+m8+8RkMDwP/8P6xWxPvE/VyzmGdK88T+wSOEd8zryPwll3CEUufI/YoHXJTU38z+6ndIpVrXzPxO6zS13M/Q/bNbIMZix9D/F8sM1uS/1Px0PvznarfU/diu6Pfsr9j/PR7VBHKr2PyhksEU9KPc/gICrSV6m9z/ZnKZNfyT4Pw==\",\"dtype\":\"float64\",\"shape\":[50]},\"right\":{\"__ndarray__\":\"eg1TpKOTnz/VEY1R8o2vP3ZOeGgJqbc/AhQqqBmLvz/G7O3zlLbDP4zPxhOdp8c/UrKfM6WYyz8YlXhTrYnPP++7qLlavdE/Ui2Vyd610z+1noHZYq7VPxgQbunmptc/e4Fa+Wqf2T/e8kYJ75fbP0FkMxlzkN0/pNUfKfeI3z+DI4acvcDgPzRcfKT/vOE/5pRyrEG54j+XzWi0g7XjP0kGX7zFseQ/+j5VxAeu5T+sd0vMSarmP12wQdSLpuc/D+k33M2i6D/AIS7kD5/pP3JaJOxRm+o/I5Ma9JOX6z/VyxD81ZPsP4YEBwQYkO0/OD39C1qM7j/pdfMTnIjvP03X9A1vQvA/pvPvEZDA8D//D+sVsT7xP1cs5hnSvPE/sEjhHfM68j8JZdwhFLnyP2KB1yU1N/M/up3SKVa18z8Tus0tdzP0P2zWyDGYsfQ/xfLDNbkv9T8dD7852q31P3Yruj37K/Y/z0e1QRyq9j8oZLBFPSj3P4CAq0lepvc/2ZymTX8k+D8yuaFRoKL4Pw==\",\"dtype\":\"float64\",\"shape\":[50]},\"top\":{\"__ndarray__\":\"fuC7sN3m9j/+kAtiWBX2P8/w4xe7o/Y/AL1PqAmi+T9YDAJy9s35PxdccwnwgPg/WAwCcvbN+T+A3ifUBNH0P37gu7Dd5vY/fslPn5gV9D8AF2wRRdHyPwFDsFf2XeY//jbv+Bzm7D/91U+WJ4nuP27FUGCLqfA/AUOwV/Zd5j9+yU+fmBX0PxDB+1XGdfQ/n0TkWYpW8j/+p3dzneboP/427/gc5uw/fslPn5gV9D/+p3dzneboP27FUGCLqfA/P8x4CwsL6z8BQ7BX9l3mP/3VT5Ynid4//jbv+Bzm7D//eZ9QE0TjP/3VT5Ynid4/AUOwV/Zd5j9+yU+fmBX0P/95n1ATROM//3mfUBNE4z8AAAAAAAAAAP95n1ATROM//dVPlieJ3j//eZ9QE0TTP/95n1ATRNM/AAAAAAAAAAAAAAAAAAAAAAAAAAAAAAAA/3mfUBNE4z8AAAAAAAAAAAAAAAAAAAAAAAAAAAAA8P8AAAAAAADw/wAAAAAAAAAAAAAAAAAAAAD/eZ9QE0TTPw==\",\"dtype\":\"float64\",\"shape\":[50]}},\"selected\":{\"id\":\"4042\",\"type\":\"Selection\"},\"selection_policy\":{\"id\":\"4043\",\"type\":\"UnionRenderers\"}},\"id\":\"3563\",\"type\":\"ColumnDataSource\"},{\"attributes\":{},\"id\":\"4056\",\"type\":\"Selection\"},{\"attributes\":{\"bottom\":{\"value\":0},\"fill_alpha\":{\"value\":0.1},\"fill_color\":{\"value\":\"#1f77b4\"},\"left\":{\"field\":\"left\"},\"line_alpha\":{\"value\":0.1},\"line_color\":{\"value\":\"#1f77b4\"},\"right\":{\"field\":\"right\"},\"top\":{\"field\":\"top\"}},\"id\":\"3240\",\"type\":\"Quad\"},{\"attributes\":{\"bottom\":{\"value\":0},\"fill_alpha\":{\"value\":0.05},\"fill_color\":{\"value\":\"#CB4777\"},\"left\":{\"field\":\"left\"},\"line_alpha\":{\"value\":0.05},\"line_color\":{\"value\":\"#7E03A7\"},\"right\":{\"field\":\"right\"},\"top\":{\"field\":\"top\"}},\"id\":\"3564\",\"type\":\"Quad\"},{\"attributes\":{},\"id\":\"3891\",\"type\":\"UnionRenderers\"},{\"attributes\":{\"data_source\":{\"id\":\"3238\",\"type\":\"ColumnDataSource\"},\"glyph\":{\"id\":\"3239\",\"type\":\"Quad\"},\"hover_glyph\":null,\"muted_glyph\":null,\"nonselection_glyph\":{\"id\":\"3240\",\"type\":\"Quad\"},\"selection_glyph\":null,\"view\":{\"id\":\"3242\",\"type\":\"CDSView\"}},\"id\":\"3241\",\"type\":\"GlyphRenderer\"},{\"attributes\":{\"bottom\":{\"value\":0},\"fill_alpha\":{\"value\":0.1},\"fill_color\":{\"value\":\"#1f77b4\"},\"left\":{\"field\":\"left\"},\"line_alpha\":{\"value\":0.1},\"line_color\":{\"value\":\"#1f77b4\"},\"right\":{\"field\":\"right\"},\"top\":{\"field\":\"top\"}},\"id\":\"3565\",\"type\":\"Quad\"},{\"attributes\":{},\"id\":\"3927\",\"type\":\"UnionRenderers\"},{\"attributes\":{},\"id\":\"3893\",\"type\":\"UnionRenderers\"},{\"attributes\":{\"data_source\":{\"id\":\"3563\",\"type\":\"ColumnDataSource\"},\"glyph\":{\"id\":\"3564\",\"type\":\"Quad\"},\"hover_glyph\":null,\"muted_glyph\":null,\"nonselection_glyph\":{\"id\":\"3565\",\"type\":\"Quad\"},\"selection_glyph\":null,\"view\":{\"id\":\"3567\",\"type\":\"CDSView\"}},\"id\":\"3566\",\"type\":\"GlyphRenderer\"},{\"attributes\":{\"source\":{\"id\":\"3238\",\"type\":\"ColumnDataSource\"}},\"id\":\"3242\",\"type\":\"CDSView\"},{\"attributes\":{},\"id\":\"3926\",\"type\":\"Selection\"},{\"attributes\":{},\"id\":\"3892\",\"type\":\"Selection\"},{\"attributes\":{\"callback\":null,\"data\":{\"left\":{\"__ndarray__\":\"YHLvnynuMz/0CdcuGFmqP4EaNwUqRbo/BFiB+eOuwz/IImfwMjvKP8Z2pvPAY9A/KFwZb+ip0z+KQYzqD/DWP+wm/2U3Nto/Tgxy4V583T/XeHIuQ2HgP4jrK+xWBOI/OV7lqWqn4z/q0J5nfkrlP5tDWCWS7eY/TLYR46WQ6D/9KMuguTPqP66bhF7N1us/Xw4+HOF57T8QgffZ9BzvP+B52EsEYPA/OTO1Ko4x8T+R7JEJGAPyP+qlbuih1PI/Ql9Lxyum8z+bGCimtXf0P/PRBIU/SfU/TIvhY8ka9j+kRL5CU+z2P/39miHdvfc/Vbd3AGeP+D+ucFTf8GD5PwYqMb56Mvo/XuMNnQQE+z+3nOp7jtX7Pw9Wx1oYp/w/aA+kOaJ4/T/AyIAYLEr+PxmCXfe1G/8/cTs61j/t/z9leovaZF8AQBLX+ckpyABAvjNoue4wAUBqkNaos5kBQBbtRJh4AgJAw0mzhz1rAkBvpiF3AtQCQBsDkGbHPANAx1/+VYylA0BzvGxFUQ4EQA==\",\"dtype\":\"float64\",\"shape\":[50]},\"right\":{\"__ndarray__\":\"9AnXLhhZqj+BGjcFKkW6PwRYgfnjrsM/yCJn8DI7yj/GdqbzwGPQPyhcGW/oqdM/ikGM6g/w1j/sJv9lNzbaP04McuFefN0/13hyLkNh4D+I6yvsVgTiPzle5alqp+M/6tCeZ35K5T+bQ1glku3mP0y2EeOlkOg//SjLoLkz6j+um4RezdbrP18OPhzhee0/EIH32fQc7z/gedhLBGDwPzkztSqOMfE/keyRCRgD8j/qpW7oodTyP0JfS8crpvM/mxgoprV39D/z0QSFP0n1P0yL4WPJGvY/pES+QlPs9j/9/Zoh3b33P1W3dwBnj/g/rnBU3/Bg+T8GKjG+ejL6P17jDZ0EBPs/t5zqe47V+z8PVsdaGKf8P2gPpDmieP0/wMiAGCxK/j8Zgl33tRv/P3E7OtY/7f8/ZXqL2mRfAEAS1/nJKcgAQL4zaLnuMAFAapDWqLOZAUAW7USYeAICQMNJs4c9awJAb6YhdwLUAkAbA5BmxzwDQMdf/lWMpQNAc7xsRVEOBEAgGds0FncEQA==\",\"dtype\":\"float64\",\"shape\":[50]},\"top\":{\"__ndarray__\":\"iOD9KuM6AkAb4ZfHOgMDQAfWkRAt3QFAP9nxximiAEC1wqFOe0oBQHMSVN5TvwBAiMrbh4p0AECYE9ztpf0AQG2weCsf7v8//k1bCmK3/z9EelNLopb7PxZz3xo1Uvs//r7jhOK3+z+AOEQ9QAD+PxZz3xo1Uvs/7vBA62hV/D9+4Luw3eb2P4Bg5rBaF/k//pALYlgV9j9PErxDttLxP59E5FmKVvI/EMH7VcZ19D9+4Luw3eb2P3/1k+VJovc/n1tQa88n9T8AF2wRRdHyP59E5FmKVvI/gN4n1ATR9D/91U+WJ4nuP3+y441TRPE//dVPlieJ3j/91U+WJ4neP/95n1ATRNM//3mfUBNE0z//eZ9QE0TTP/95n1ATROM/P8x4CwsL6z/91U+WJ4nuP/3VT5Ynid4/AAAAAAAAAAD91U+WJ4nePwAAAAAAAAAAAAAAAAAA8P8AAAAAAAAAAAAAAAAAAPD//dVPlieJ3j8AAAAAAADw/wAAAAAAAPD//3mfUBNE4z//eZ9QE0TjPw==\",\"dtype\":\"float64\",\"shape\":[50]}},\"selected\":{\"id\":\"3914\",\"type\":\"Selection\"},\"selection_policy\":{\"id\":\"3915\",\"type\":\"UnionRenderers\"}},\"id\":\"3243\",\"type\":\"ColumnDataSource\"},{\"attributes\":{\"source\":{\"id\":\"3563\",\"type\":\"ColumnDataSource\"}},\"id\":\"3567\",\"type\":\"CDSView\"},{\"attributes\":{},\"id\":\"3953\",\"type\":\"UnionRenderers\"},{\"attributes\":{\"bottom\":{\"value\":0},\"fill_alpha\":{\"value\":0.05},\"fill_color\":{\"value\":\"#CB4777\"},\"left\":{\"field\":\"left\"},\"line_alpha\":{\"value\":0.05},\"line_color\":{\"value\":\"#7E03A7\"},\"right\":{\"field\":\"right\"},\"top\":{\"field\":\"top\"}},\"id\":\"3244\",\"type\":\"Quad\"},{\"attributes\":{\"callback\":null,\"data\":{\"left\":{\"__ndarray__\":\"a2WUNN88Uz/UktF8UjSuPz9B//9e570/itzKYEpaxj90GJZB5cDNPy+qMBHAk9I/JEiWgQ1H1j8Z5vvxWvrZPw6EYWKord0/ApFj6Xqw4D/9X5ahIYriP/cuyVnIY+Q/8v37EW895j/szC7KFRfoP+ebYYK88Ok/4WqUOmPK6z/cOcfyCaTtP9cI+qqwfe8/6GuWsaur8D9l068Nf5jxP+M6yWlShfI/YKLixSVy8z/dCfwh+V70P1pxFX7MS/U/2Ngu2p849j9VQEg2cyX3P9KnYZJGEvg/UA977hn/+D/NdpRK7ev5P0rerabA2Po/x0XHApTF+z9FreBeZ7L8P8IU+ro6n/0/P3wTFw6M/j+94yxz4Xj/P50lo2faMgBAXNmvFUSpAEAbjbzDrR8BQNlAyXEXlgFAmPTVH4EMAkBXqOLN6oICQBVc73tU+QJA1A/8Kb5vA0CTwwjYJ+YDQFF3FYaRXARAECsiNPvSBEDO3i7iZEkFQI2SO5DOvwVATEZIPjg2BkAK+lTsoawGQA==\",\"dtype\":\"float64\",\"shape\":[50]},\"right\":{\"__ndarray__\":\"1JLRfFI0rj8/Qf//Xue9P4rcymBKWsY/dBiWQeXAzT8vqjARwJPSPyRIloENR9Y/Geb78Vr62T8OhGFiqK3dPwKRY+l6sOA//V+WoSGK4j/3LslZyGPkP/L9+xFvPeY/7MwuyhUX6D/nm2GCvPDpP+FqlDpjyus/3DnH8gmk7T/XCPqqsH3vP+hrlrGrq/A/ZdOvDX+Y8T/jOslpUoXyP2Ci4sUlcvM/3Qn8Ifle9D9acRV+zEv1P9jYLtqfOPY/VUBINnMl9z/Sp2GSRhL4P1APe+4Z//g/zXaUSu3r+T9K3q2mwNj6P8dFxwKUxfs/Ra3gXmey/D/CFPq6Op/9Pz98ExcOjP4/veMsc+F4/z+dJaNn2jIAQFzZrxVEqQBAG428w60fAUDZQMlxF5YBQJj01R+BDAJAV6jizeqCAkAVXO97VPkCQNQP/Cm+bwNAk8MI2CfmA0BRdxWGkVwEQBArIjT70gRAzt4u4mRJBUCNkjuQzr8FQExGSD44NgZACvpU7KGsBkDJrWGaCyMHQA==\",\"dtype\":\"float64\",\"shape\":[50]},\"top\":{\"__ndarray__\":\"/Ibhjy08AEAP8C1rzGQAQM6mdCjRyf8/iMrbh4p0AEBpWf9WRQj/P/7uLwbta/0/zzOUb7EB/T8eUeRQGcr8PxB+S/7PF/4/F1xzCfCA+D9/WMckGBX4P/6QC2JYFfY/TxK8Q7bS8T+fW1Brzyf1PxDB+1XGdfQ/fslPn5gV9D//eZ9QE0TjP/6nd3Od5ug//dVPlieJ7j/91U+WJ4nePwAAAAAAAAAA/qd3c53m6D8AAAAAAAAAAAAAAAAAAPD/AAAAAAAAAAD/eZ9QE0TjPwAAAAAAAAAAAAAAAAAAAAAAAAAAAAAAAP95n1ATRNM/AAAAAAAA8P8AAAAAAADw/wAAAAAAAAAA/3mfUBNE0z8AAAAAAADw/wAAAAAAAAAAAAAAAAAA8P8AAAAAAADw/wAAAAAAAPD/AAAAAAAA8P8AAAAAAADw/wAAAAAAAPD/AAAAAAAA8P8AAAAAAADw/wAAAAAAAPD/AAAAAAAA8P8AAAAAAADw/wAAAAAAAPD/AAAAAAAA8P8AAAAAAAAAAA==\",\"dtype\":\"float64\",\"shape\":[50]}},\"selected\":{\"id\":\"4044\",\"type\":\"Selection\"},\"selection_policy\":{\"id\":\"4045\",\"type\":\"UnionRenderers\"}},\"id\":\"3568\",\"type\":\"ColumnDataSource\"},{\"attributes\":{},\"id\":\"3896\",\"type\":\"Selection\"},{\"attributes\":{},\"id\":\"3920\",\"type\":\"Selection\"},{\"attributes\":{\"bottom\":{\"value\":0},\"fill_alpha\":{\"value\":0.1},\"fill_color\":{\"value\":\"#1f77b4\"},\"left\":{\"field\":\"left\"},\"line_alpha\":{\"value\":0.1},\"line_color\":{\"value\":\"#1f77b4\"},\"right\":{\"field\":\"right\"},\"top\":{\"field\":\"top\"}},\"id\":\"3245\",\"type\":\"Quad\"},{\"attributes\":{\"bottom\":{\"value\":0},\"fill_alpha\":{\"value\":0.05},\"fill_color\":{\"value\":\"#CB4777\"},\"left\":{\"field\":\"left\"},\"line_alpha\":{\"value\":0.05},\"line_color\":{\"value\":\"#7E03A7\"},\"right\":{\"field\":\"right\"},\"top\":{\"field\":\"top\"}},\"id\":\"3569\",\"type\":\"Quad\"},{\"attributes\":{},\"id\":\"3898\",\"type\":\"Selection\"},{\"attributes\":{},\"id\":\"3918\",\"type\":\"Selection\"},{\"attributes\":{},\"id\":\"3936\",\"type\":\"Selection\"},{\"attributes\":{\"data_source\":{\"id\":\"3243\",\"type\":\"ColumnDataSource\"},\"glyph\":{\"id\":\"3244\",\"type\":\"Quad\"},\"hover_glyph\":null,\"muted_glyph\":null,\"nonselection_glyph\":{\"id\":\"3245\",\"type\":\"Quad\"},\"selection_glyph\":null,\"view\":{\"id\":\"3247\",\"type\":\"CDSView\"}},\"id\":\"3246\",\"type\":\"GlyphRenderer\"},{\"attributes\":{\"bottom\":{\"value\":0},\"fill_alpha\":{\"value\":0.1},\"fill_color\":{\"value\":\"#1f77b4\"},\"left\":{\"field\":\"left\"},\"line_alpha\":{\"value\":0.1},\"line_color\":{\"value\":\"#1f77b4\"},\"right\":{\"field\":\"right\"},\"top\":{\"field\":\"top\"}},\"id\":\"3570\",\"type\":\"Quad\"},{\"attributes\":{},\"id\":\"3899\",\"type\":\"UnionRenderers\"},{\"attributes\":{},\"id\":\"3919\",\"type\":\"UnionRenderers\"},{\"attributes\":{},\"id\":\"3946\",\"type\":\"Selection\"},{\"attributes\":{},\"id\":\"4073\",\"type\":\"UnionRenderers\"},{\"attributes\":{\"data_source\":{\"id\":\"3568\",\"type\":\"ColumnDataSource\"},\"glyph\":{\"id\":\"3569\",\"type\":\"Quad\"},\"hover_glyph\":null,\"muted_glyph\":null,\"nonselection_glyph\":{\"id\":\"3570\",\"type\":\"Quad\"},\"selection_glyph\":null,\"view\":{\"id\":\"3572\",\"type\":\"CDSView\"}},\"id\":\"3571\",\"type\":\"GlyphRenderer\"},{\"attributes\":{\"source\":{\"id\":\"3243\",\"type\":\"ColumnDataSource\"}},\"id\":\"3247\",\"type\":\"CDSView\"},{\"attributes\":{},\"id\":\"3902\",\"type\":\"Selection\"},{\"attributes\":{},\"id\":\"3945\",\"type\":\"UnionRenderers\"},{\"attributes\":{},\"id\":\"3894\",\"type\":\"Selection\"},{\"attributes\":{},\"id\":\"4074\",\"type\":\"Selection\"},{\"attributes\":{\"callback\":null,\"data\":{\"left\":{\"__ndarray__\":\"AAAAAAAAAABscZFn8mW9P2xxkWfyZc0/ERWtzXUM1j9scZFn8mXdP+TmuoC3X+I/ERWtzXUM5j8+Q58aNLnpP2xxkWfyZe0/zc9BWliJ8D/k5rqAt1/yP/r9M6cWNvQ/ERWtzXUM9j8oLCb01OL3Pz5Dnxo0ufk/VVoYQZOP+z9scZFn8mX9P4OICo5RPP8/zc9BWliJAEBYW37th3QBQOTmuoC3XwJAb3L3E+dKA0D6/TOnFjYEQIaJcDpGIQVAERWtzXUMBkCcoOlgpfcGQCgsJvTU4gdAs7dihwTOCEA+Q58aNLkJQMrO261jpApAVVoYQZOPC0Dh5VTUwnoMQGxxkWfyZQ1A9/zN+iFRDkCDiAqOUTwPQAeKo5DAExBAzc9BWliJEECSFeAj8P4QQFhbfu2HdBFAHqEctx/qEUDk5rqAt18SQKksWUpP1RJAb3L3E+dKE0A1uJXdfsATQPr9M6cWNhRAwEPScK6rFECGiXA6RiEVQEvPDgTelhVAERWtzXUMFkDXWkuXDYIWQA==\",\"dtype\":\"float64\",\"shape\":[50]},\"right\":{\"__ndarray__\":\"bHGRZ/JlvT9scZFn8mXNPxEVrc11DNY/bHGRZ/Jl3T/k5rqAt1/iPxEVrc11DOY/PkOfGjS56T9scZFn8mXtP83PQVpYifA/5Oa6gLdf8j/6/TOnFjb0PxEVrc11DPY/KCwm9NTi9z8+Q58aNLn5P1VaGEGTj/s/bHGRZ/Jl/T+DiAqOUTz/P83PQVpYiQBAWFt+7Yd0AUDk5rqAt18CQG9y9xPnSgNA+v0zpxY2BECGiXA6RiEFQBEVrc11DAZAnKDpYKX3BkAoLCb01OIHQLO3YocEzghAPkOfGjS5CUDKztutY6QKQFVaGEGTjwtA4eVU1MJ6DEBscZFn8mUNQPf8zfohUQ5Ag4gKjlE8D0AHiqOQwBMQQM3PQVpYiRBAkhXgI/D+EEBYW37th3QRQB6hHLcf6hFA5Oa6gLdfEkCpLFlKT9USQG9y9xPnShNANbiV3X7AE0D6/TOnFjYUQMBD0nCuqxRAholwOkYhFUBLzw4E3pYVQBEVrc11DBZA11pLlw2CFkCcoOlgpfcWQA==\",\"dtype\":\"float64\",\"shape\":[50]},\"top\":{\"__ndarray__\":\"njlCEKh3CEBv5KU/Y/UGQEEfXj+18gVASpJyedYxBUByKcDvmJADQHe/kg98/wJAkFS27r3xAUBuxVBgi6kAQC5lWjaaN/0/gCHYK/su+z/P8OMXu6P2P4DeJ9QE0fQ/EMH7VcZ19D9/suONU0TxP08SvEO20vE/f/WT5Umi9z/P8OMXu6P2PwFDsFf2XeY/AUOwV/Zd5j//eZ9QE0TTP/95n1ATRNM/AAAAAAAA8P8AAAAAAADw/wAAAAAAAAAAAAAAAAAA8P8AAAAAAADw/wAAAAAAAPD/AAAAAAAA8P8AAAAAAADw/wAAAAAAAPD/AAAAAAAA8P8AAAAAAADw/wAAAAAAAPD/AAAAAAAA8P8AAAAAAADw/wAAAAAAAPD/AAAAAAAAAAAAAAAAAADw/wAAAAAAAAAAAAAAAAAAAAAAAAAAAADw//3VT5Ynid4/AAAAAAAA8P8AAAAAAADw/wAAAAAAAAAAAAAAAAAA8P8AAAAAAADw/wAAAAAAAPD/AAAAAAAA8P8AAAAAAAAAAA==\",\"dtype\":\"float64\",\"shape\":[50]}},\"selected\":{\"id\":\"3916\",\"type\":\"Selection\"},\"selection_policy\":{\"id\":\"3917\",\"type\":\"UnionRenderers\"}},\"id\":\"3248\",\"type\":\"ColumnDataSource\"},{\"attributes\":{\"source\":{\"id\":\"3568\",\"type\":\"ColumnDataSource\"}},\"id\":\"3572\",\"type\":\"CDSView\"},{\"attributes\":{},\"id\":\"3944\",\"type\":\"Selection\"},{\"attributes\":{},\"id\":\"3916\",\"type\":\"Selection\"},{\"attributes\":{\"bottom\":{\"value\":0},\"fill_alpha\":{\"value\":0.05},\"fill_color\":{\"value\":\"#CB4777\"},\"left\":{\"field\":\"left\"},\"line_alpha\":{\"value\":0.05},\"line_color\":{\"value\":\"#7E03A7\"},\"right\":{\"field\":\"right\"},\"top\":{\"field\":\"top\"}},\"id\":\"3249\",\"type\":\"Quad\"},{\"attributes\":{\"callback\":null,\"data\":{\"left\":{\"__ndarray__\":\"ak5/EhN4LD/GYYNl0VW1P/PBvmCzTsU/AtO7Dn7yzz8JclxeJEvVP5H6WrUJndo/GINZDO/u3z/QBawxaqDiPxRKK91cSeU/WI6qiE/y5z+c0ik0QpvqP+AWqd80RO0/I1soiyft7z+zz1MbDUvxP9VxE3GGn/I/9xPTxv/z8z8ZtpIceUj1PztYUnLynPY/XfoRyGvx9z9/nNEd5UX5P6E+kXNemvo/w+BQydfu+z/lghAfUUP9Pwcl0HTKl/4/KMePykPs/z+ltCeQXqAAQLaFBzubSgFAx1bn5df0AUDYJ8eQFJ8CQOn4pjtRSQNA+smG5o3zA0ALm2aRyp0EQBxsRjwHSAVALT0m50PyBUA+DgaSgJwGQE/f5Ty9RgdAYLDF5/nwB0BxgaWSNpsIQIJShT1zRQlAkyNl6K/vCUCk9EST7JkKQLXFJD4pRAtAxpYE6WXuC0DXZ+STopgMQOg4xD7fQg1A+Qmk6RvtDUAK24OUWJcOQBusYz+VQQ9AK31D6tHrD0Afp5FKB0sQQA==\",\"dtype\":\"float64\",\"shape\":[50]},\"right\":{\"__ndarray__\":\"xmGDZdFVtT/zwb5gs07FPwLTuw5+8s8/CXJcXiRL1T+R+lq1CZ3aPxiDWQzv7t8/0AWsMWqg4j8USivdXEnlP1iOqohP8uc/nNIpNEKb6j/gFqnfNETtPyNbKIsn7e8/s89TGw1L8T/VcRNxhp/yP/cT08b/8/M/GbaSHHlI9T87WFJy8pz2P136Echr8fc/f5zRHeVF+T+hPpFzXpr6P8PgUMnX7vs/5YIQH1FD/T8HJdB0ypf+PyjHj8pD7P8/pbQnkF6gAEC2hQc7m0oBQMdW5+XX9AFA2CfHkBSfAkDp+KY7UUkDQPrJhuaN8wNAC5tmkcqdBEAcbEY8B0gFQC09JudD8gVAPg4GkoCcBkBP3+U8vUYHQGCwxef58AdAcYGlkjabCECCUoU9c0UJQJMjZeiv7wlApPREk+yZCkC1xSQ+KUQLQMaWBOll7gtA12fkk6KYDEDoOMQ+30INQPkJpOkb7Q1ACtuDlFiXDkAbrGM/lUEPQCt9Q+rR6w9AH6eRSgdLEECnjwGgJaAQQA==\",\"dtype\":\"float64\",\"shape\":[50]},\"top\":{\"__ndarray__\":\"0ejrFA1kAkCAC7aIomgBQE7md/0ERv4/P8x4CwsL+z9/9ZPlSaL3P2S0oaEr0P0/24/4pNkIAEDv5iiMhtj7P566+K7pwPo/T88L7L90+z8BQ7BX9l32PwFDsFf2XfY/gN4n1ATR9D9/+Zsgo8n1P08SvEO20vE//jbv+Bzm7D/91U+WJ4nuP/95n1ATROM//3mfUBNE4z//eZ9QE0TTPwAAAAAAAPA//dVPlieJ7j/91U+WJ4nuPwAXbBFF0fI//dVPlieJ3j8BQ7BX9l3mPwAAAAAAAAAA/3mfUBNE0z8AAAAAAADw/wFDsFf2XeY//3mfUBNE4z8AAAAAAAAAAAAAAAAAAPD/AAAAAAAA8P8AAAAAAAAAAAAAAAAAAPD/AAAAAAAA8P8AAAAAAADw/wAAAAAAAPD/AAAAAAAA8P8AAAAAAADw/wAAAAAAAPD/AAAAAAAA8P8AAAAAAADw/wAAAAAAAPD/AAAAAAAA8P8AAAAAAADw/wAAAAAAAPD/AAAAAAAA8P8AAAAAAAAAAA==\",\"dtype\":\"float64\",\"shape\":[50]}},\"selected\":{\"id\":\"4046\",\"type\":\"Selection\"},\"selection_policy\":{\"id\":\"4047\",\"type\":\"UnionRenderers\"}},\"id\":\"3573\",\"type\":\"ColumnDataSource\"},{\"attributes\":{},\"id\":\"3943\",\"type\":\"UnionRenderers\"},{\"attributes\":{},\"id\":\"3900\",\"type\":\"Selection\"},{\"attributes\":{\"bottom\":{\"value\":0},\"fill_alpha\":{\"value\":0.1},\"fill_color\":{\"value\":\"#1f77b4\"},\"left\":{\"field\":\"left\"},\"line_alpha\":{\"value\":0.1},\"line_color\":{\"value\":\"#1f77b4\"},\"right\":{\"field\":\"right\"},\"top\":{\"field\":\"top\"}},\"id\":\"3250\",\"type\":\"Quad\"},{\"attributes\":{\"bottom\":{\"value\":0},\"fill_alpha\":{\"value\":0.05},\"fill_color\":{\"value\":\"#CB4777\"},\"left\":{\"field\":\"left\"},\"line_alpha\":{\"value\":0.05},\"line_color\":{\"value\":\"#7E03A7\"},\"right\":{\"field\":\"right\"},\"top\":{\"field\":\"top\"}},\"id\":\"3574\",\"type\":\"Quad\"},{\"attributes\":{},\"id\":\"3922\",\"type\":\"Selection\"},{\"attributes\":{},\"id\":\"3942\",\"type\":\"Selection\"},{\"attributes\":{},\"id\":\"4044\",\"type\":\"Selection\"},{\"attributes\":{\"data_source\":{\"id\":\"3248\",\"type\":\"ColumnDataSource\"},\"glyph\":{\"id\":\"3249\",\"type\":\"Quad\"},\"hover_glyph\":null,\"muted_glyph\":null,\"nonselection_glyph\":{\"id\":\"3250\",\"type\":\"Quad\"},\"selection_glyph\":null,\"view\":{\"id\":\"3252\",\"type\":\"CDSView\"}},\"id\":\"3251\",\"type\":\"GlyphRenderer\"},{\"attributes\":{\"bottom\":{\"value\":0},\"fill_alpha\":{\"value\":0.1},\"fill_color\":{\"value\":\"#1f77b4\"},\"left\":{\"field\":\"left\"},\"line_alpha\":{\"value\":0.1},\"line_color\":{\"value\":\"#1f77b4\"},\"right\":{\"field\":\"right\"},\"top\":{\"field\":\"top\"}},\"id\":\"3575\",\"type\":\"Quad\"},{\"attributes\":{},\"id\":\"3908\",\"type\":\"Selection\"},{\"attributes\":{},\"id\":\"3941\",\"type\":\"UnionRenderers\"},{\"attributes\":{},\"id\":\"3909\",\"type\":\"UnionRenderers\"},{\"attributes\":{\"data_source\":{\"id\":\"3573\",\"type\":\"ColumnDataSource\"},\"glyph\":{\"id\":\"3574\",\"type\":\"Quad\"},\"hover_glyph\":null,\"muted_glyph\":null,\"nonselection_glyph\":{\"id\":\"3575\",\"type\":\"Quad\"},\"selection_glyph\":null,\"view\":{\"id\":\"3577\",\"type\":\"CDSView\"}},\"id\":\"3576\",\"type\":\"GlyphRenderer\"},{\"attributes\":{\"source\":{\"id\":\"3248\",\"type\":\"ColumnDataSource\"}},\"id\":\"3252\",\"type\":\"CDSView\"},{\"attributes\":{},\"id\":\"3940\",\"type\":\"Selection\"},{\"attributes\":{},\"id\":\"4077\",\"type\":\"UnionRenderers\"},{\"attributes\":{},\"id\":\"4055\",\"type\":\"UnionRenderers\"},{\"attributes\":{\"callback\":null,\"data\":{\"left\":{\"__ndarray__\":\"85buF0vFBj8h/Hf8OJ6xPzd9xqfMnME/XvxQ0Xxqyj/DvW19FpzRP1f9MpLuAtY/6jz4psZp2j99fL27ntDePwheQWi7m+E/0v2jcifP4z+cnQZ9kwLmP2U9aYf/Neg/L93LkWtp6j/5fC6c15zsP8IckaZD0O4/Rt552NeB8D8rLqvdjZvxPxB+3OJDtfI/9c0N6PnO8z/aHT/tr+j0P79tcPJlAvY/o72h9xsc9z+IDdP80TX4P21dBAKIT/k/Uq01Bz5p+j83/WYM9IL7PxxNmBGqnPw/AZ3JFmC2/T/l7PobFtD+P8o8LCHM6f8/WMYuE8GBAEBLbscVnA4BQD0WYBh3mwFAL774GlIoAkAiZpEdLbUCQBQOKiAIQgNAB7bCIuPOA0D5XVslvlsEQOwF9CeZ6ARA3q2MKnR1BUDRVSUtTwIGQMP9vS8qjwZAtaVWMgUcB0CoTe804KgHQJr1hze7NQhAjZ0gOpbCCEB/Rbk8cU8JQHLtUT9M3AlAZJXqQSdpCkBWPYNEAvYKQA==\",\"dtype\":\"float64\",\"shape\":[50]},\"right\":{\"__ndarray__\":\"Ifx3/DiesT83fcanzJzBP178UNF8aso/w71tfRac0T9X/TKS7gLWP+o8+KbGado/fXy9u57Q3j8IXkFou5vhP9L9o3Inz+M/nJ0GfZMC5j9lPWmH/zXoPy/dy5Fraeo/+XwunNec7D/CHJGmQ9DuP0beedjXgfA/Ky6r3Y2b8T8QftziQ7XyP/XNDej5zvM/2h0/7a/o9D+/bXDyZQL2P6O9ofcbHPc/iA3T/NE1+D9tXQQCiE/5P1KtNQc+afo/N/1mDPSC+z8cTZgRqpz8PwGdyRZgtv0/5ez6GxbQ/j/KPCwhzOn/P1jGLhPBgQBAS27HFZwOAUA9FmAYd5sBQC+++BpSKAJAImaRHS21AkAUDiogCEIDQAe2wiLjzgNA+V1bJb5bBEDsBfQnmegEQN6tjCp0dQVA0VUlLU8CBkDD/b0vKo8GQLWlVjIFHAdAqE3vNOCoB0Ca9Yc3uzUIQI2dIDqWwghAf0W5PHFPCUBy7VE/TNwJQGSV6kEnaQpAVj2DRAL2CkBJ5RtH3YILQA==\",\"dtype\":\"float64\",\"shape\":[50]},\"top\":{\"__ndarray__\":\"GJ8jYebe/j8AKz1L0lwAQHMSVN5TvwBAnhigE9nJ/j9veHjJO1j/P5C2jzsQGPw/zgdQKQB1+T9/9ZPlSaL3P4DeJ9QE0fQ/fslPn5gV9D/91U+WJ4nuPwAAAAAAAPA/TxK8Q7bS8T//eZ9QE0TjP/3VT5Ynid4//3mfUBNE4z/91U+WJ4neP/95n1ATROM//3mfUBNE4z8AAAAAAADw//95n1ATRNM/AAAAAAAAAAAAAAAAAADw/wAAAAAAAPD//3mfUBNE0z8BQ7BX9l3mPwAAAAAAAPD//3mfUBNE0z8AAAAAAADw/wAAAAAAAPD/AAAAAAAA8P8AAAAAAADw/wAAAAAAAAAAAAAAAAAA8P8AAAAAAADw/wAAAAAAAPD/AAAAAAAA8P8AAAAAAADw/wAAAAAAAPD/AAAAAAAA8P8AAAAAAADw/wAAAAAAAPD/AAAAAAAA8P8AAAAAAADw/wAAAAAAAPD/AAAAAAAA8P8AAAAAAAAAAAAAAAAAAPD/AAAAAAAA8P8AAAAAAAAAAA==\",\"dtype\":\"float64\",\"shape\":[50]}},\"selected\":{\"id\":\"3918\",\"type\":\"Selection\"},\"selection_policy\":{\"id\":\"3919\",\"type\":\"UnionRenderers\"}},\"id\":\"3253\",\"type\":\"ColumnDataSource\"},{\"attributes\":{\"source\":{\"id\":\"3573\",\"type\":\"ColumnDataSource\"}},\"id\":\"3577\",\"type\":\"CDSView\"},{\"attributes\":{},\"id\":\"3905\",\"type\":\"UnionRenderers\"},{\"attributes\":{},\"id\":\"3939\",\"type\":\"UnionRenderers\"},{\"attributes\":{},\"id\":\"3906\",\"type\":\"Selection\"},{\"attributes\":{},\"id\":\"4054\",\"type\":\"Selection\"},{\"attributes\":{\"bottom\":{\"value\":0},\"fill_alpha\":{\"value\":0.05},\"fill_color\":{\"value\":\"#CB4777\"},\"left\":{\"field\":\"left\"},\"line_alpha\":{\"value\":0.05},\"line_color\":{\"value\":\"#7E03A7\"},\"right\":{\"field\":\"right\"},\"top\":{\"field\":\"top\"}},\"id\":\"3254\",\"type\":\"Quad\"},{\"attributes\":{\"callback\":null,\"data\":{\"left\":{\"__ndarray__\":\"TVmJSTuGUj+yxpxeQpKhP02hdnEpSLE/Qd+eszHHuT+bjuP6HCPBP5Wt9xuhYsU/j8wLPSWiyT+J6x9eqeHNP0EFmr+WENE/vhQk0Fgw0z87JK7gGlDVP7gzOPHcb9c/NUPCAZ+P2T+yUkwSYa/bPy9i1iIjz90/rHFgM+Xu3z+VQPWhUwfhP1NIOqo0F+I/ElB/shUn4z/RV8S69jbkP49fCcPXRuU/TWdOy7hW5j8Mb5PTmWbnP8t22Nt6dug/iX4d5FuG6T9HhmLsPJbqPwaOp/Qdpus/xZXs/P617D+DnTEF4MXtP0Gldg3B1e4/AK27FaLl7z9fWgCPwXrwPz7eIhOyAvE/HWJFl6KK8T/85WcbkxLyP9xpip+DmvI/u+2sI3Qi8z+acc+nZKrzP3r18StVMvQ/WXkUsEW69D84/TY0NkL1PxeBWbgmyvU/9gR8PBdS9j/WiJ7AB9r2P7UMwUT4Yfc/lJDjyOjp9z90FAZN2XH4P1OYKNHJ+fg/MhxLVbqB+T8RoG3Zqgn6Pw==\",\"dtype\":\"float64\",\"shape\":[50]},\"right\":{\"__ndarray__\":\"ssacXkKSoT9NoXZxKUixP0HfnrMxx7k/m47j+hwjwT+VrfcboWLFP4/MCz0losk/iesfXqnhzT9BBZq/lhDRP74UJNBYMNM/OySu4BpQ1T+4Mzjx3G/XPzVDwgGfj9k/slJMEmGv2z8vYtYiI8/dP6xxYDPl7t8/lUD1oVMH4T9TSDqqNBfiPxJQf7IVJ+M/0VfEuvY25D+PXwnD10blP01nTsu4VuY/DG+T05lm5z/LdtjbenboP4l+HeRbhuk/R4Zi7DyW6j8Gjqf0HabrP8WV7Pz+tew/g50xBeDF7T9BpXYNwdXuPwCtuxWi5e8/X1oAj8F68D8+3iITsgLxPx1iRZeiivE//OVnG5MS8j/caYqfg5ryP7vtrCN0IvM/mnHPp2Sq8z969fErVTL0P1l5FLBFuvQ/OP02NDZC9T8XgVm4Jsr1P/YEfDwXUvY/1oiewAfa9j+1DMFE+GH3P5SQ48jo6fc/dBQGTdlx+D9TmCjRyfn4PzIcS1W6gfk/EaBt2aoJ+j/wI5Bdm5H6Pw==\",\"dtype\":\"float64\",\"shape\":[50]},\"top\":{\"__ndarray__\":\"F1xzCfCA+D9EelNLopb7P+6jeDSQevU/F1xzCfCA+D/+kAtiWBX2PwFDsFf2XfY/ABdsEUXR8j8AAAAAAADwP3+y441TRPE//dVPlieJ7j9+yU+fmBX0P2l/lfPiNwFA/pALYlgV9j/2MLzRryL6P/95n1ATRPM//qd3c53m6D//eZ9QE0TTP27FUGCLqfA/AUOwV/Zd5j8/zHgLCwvrP08SvEO20vE/bsVQYIup8D//eZ9QE0TjPwFDsFf2XeY//qd3c53m6D8AAAAAAADw//95n1ATROM//dVPlieJ3j/+p3dzneboP/95n1ATRNM/AAAAAAAAAAAAAAAAAAAAAAAAAAAAAPD//3mfUBNE0z//eZ9QE0TTP/3VT5Ynid4/AUOwV/Zd5j//eZ9QE0TTP/95n1ATRNM/AAAAAAAA8P8AAAAAAADw//95n1ATRNM//3mfUBNE4z8/zHgLCwvrPwAAAAAAAAAAAAAAAAAAAAAAAAAAAAAAAP95n1ATRNM/AAAAAAAAAAAAAAAAAAAAAA==\",\"dtype\":\"float64\",\"shape\":[50]}},\"selected\":{\"id\":\"4048\",\"type\":\"Selection\"},\"selection_policy\":{\"id\":\"4049\",\"type\":\"UnionRenderers\"}},\"id\":\"3578\",\"type\":\"ColumnDataSource\"},{\"attributes\":{},\"id\":\"3938\",\"type\":\"Selection\"},{\"attributes\":{},\"id\":\"3907\",\"type\":\"UnionRenderers\"},{\"attributes\":{},\"id\":\"4053\",\"type\":\"UnionRenderers\"},{\"attributes\":{\"bottom\":{\"value\":0},\"fill_alpha\":{\"value\":0.1},\"fill_color\":{\"value\":\"#1f77b4\"},\"left\":{\"field\":\"left\"},\"line_alpha\":{\"value\":0.1},\"line_color\":{\"value\":\"#1f77b4\"},\"right\":{\"field\":\"right\"},\"top\":{\"field\":\"top\"}},\"id\":\"3255\",\"type\":\"Quad\"},{\"attributes\":{\"bottom\":{\"value\":0},\"fill_alpha\":{\"value\":0.05},\"fill_color\":{\"value\":\"#CB4777\"},\"left\":{\"field\":\"left\"},\"line_alpha\":{\"value\":0.05},\"line_color\":{\"value\":\"#7E03A7\"},\"right\":{\"field\":\"right\"},\"top\":{\"field\":\"top\"}},\"id\":\"3579\",\"type\":\"Quad\"},{\"attributes\":{},\"id\":\"3921\",\"type\":\"UnionRenderers\"},{\"attributes\":{\"bottom_units\":\"screen\",\"fill_alpha\":{\"value\":0.5},\"fill_color\":{\"value\":\"lightgrey\"},\"left_units\":\"screen\",\"level\":\"overlay\",\"line_alpha\":{\"value\":1.0},\"line_color\":{\"value\":\"black\"},\"line_dash\":[4,4],\"line_width\":{\"value\":2},\"render_mode\":\"css\",\"right_units\":\"screen\",\"top_units\":\"screen\"},\"id\":\"4078\",\"type\":\"BoxAnnotation\"},{\"attributes\":{},\"id\":\"3910\",\"type\":\"Selection\"},{\"attributes\":{},\"id\":\"3951\",\"type\":\"UnionRenderers\"},{\"attributes\":{},\"id\":\"4052\",\"type\":\"Selection\"},{\"attributes\":{\"data_source\":{\"id\":\"3253\",\"type\":\"ColumnDataSource\"},\"glyph\":{\"id\":\"3254\",\"type\":\"Quad\"},\"hover_glyph\":null,\"muted_glyph\":null,\"nonselection_glyph\":{\"id\":\"3255\",\"type\":\"Quad\"},\"selection_glyph\":null,\"view\":{\"id\":\"3257\",\"type\":\"CDSView\"}},\"id\":\"3256\",\"type\":\"GlyphRenderer\"},{\"attributes\":{\"bottom\":{\"value\":0},\"fill_alpha\":{\"value\":0.1},\"fill_color\":{\"value\":\"#1f77b4\"},\"left\":{\"field\":\"left\"},\"line_alpha\":{\"value\":0.1},\"line_color\":{\"value\":\"#1f77b4\"},\"right\":{\"field\":\"right\"},\"top\":{\"field\":\"top\"}},\"id\":\"3580\",\"type\":\"Quad\"},{\"attributes\":{},\"id\":\"3923\",\"type\":\"UnionRenderers\"},{\"attributes\":{},\"id\":\"3937\",\"type\":\"UnionRenderers\"},{\"attributes\":{},\"id\":\"4051\",\"type\":\"UnionRenderers\"},{\"attributes\":{\"data_source\":{\"id\":\"3578\",\"type\":\"ColumnDataSource\"},\"glyph\":{\"id\":\"3579\",\"type\":\"Quad\"},\"hover_glyph\":null,\"muted_glyph\":null,\"nonselection_glyph\":{\"id\":\"3580\",\"type\":\"Quad\"},\"selection_glyph\":null,\"view\":{\"id\":\"3582\",\"type\":\"CDSView\"}},\"id\":\"3581\",\"type\":\"GlyphRenderer\"},{\"attributes\":{\"source\":{\"id\":\"3253\",\"type\":\"ColumnDataSource\"}},\"id\":\"3257\",\"type\":\"CDSView\"},{\"attributes\":{},\"id\":\"3901\",\"type\":\"UnionRenderers\"},{\"attributes\":{},\"id\":\"3904\",\"type\":\"Selection\"},{\"attributes\":{},\"id\":\"4050\",\"type\":\"Selection\"},{\"attributes\":{\"callback\":null,\"data\":{\"left\":{\"__ndarray__\":\"7g5NRGgUIT9AVEC+HrioP7gtHoqUr7g/qRiO2oyBwj91Gg1wT6vIP0EcjAUS1c4/B4+FTWp/0j/tD0WYS5TVP9OQBOMsqdg/uRHELQ6+2z+fkoN479LeP8OJoWHo8+A/NkoBB1l+4j+pCmGsyQjkPxzLwFE6k+U/j4sg96od5z8CTICcG6joP3UM4EGMMuo/6Mw/5/y86z9bjZ+MbUftP85N/zHe0e4/IIevaycu8D9aZ1++X/PwP5NHDxGYuPE/zSe/Y9B98j8GCG+2CEPzP0DoHglBCPQ/ecjOW3nN9D+zqH6usZL1P+yILgHqV/Y/JmneUyId9z9fSY6mWuL3P5kpPvmSp/g/0wnuS8ts+T8M6p2eAzL6P0bKTfE79/o/f6r9Q3S8+z+5iq2WrIH8P/JqXenkRv0/LEsNPB0M/j9lK72OVdH+P58LbeGNlv8/7HUOGuMtAEAJZmZDf5AAQCZWvmwb8wBAQkYWlrdVAUBfNm6/U7gBQHwmxujvGgJAmRYeEox9AkC2BnY7KOACQA==\",\"dtype\":\"float64\",\"shape\":[50]},\"right\":{\"__ndarray__\":\"QFRAvh64qD+4LR6KlK+4P6kYjtqMgcI/dRoNcE+ryD9BHIwFEtXOPwePhU1qf9I/7Q9FmEuU1T/TkATjLKnYP7kRxC0Ovts/n5KDeO/S3j/DiaFh6PPgPzZKAQdZfuI/qQphrMkI5D8cy8BROpPlP4+LIPeqHec/AkyAnBuo6D91DOBBjDLqP+jMP+f8vOs/W42fjG1H7T/OTf8x3tHuPyCHr2snLvA/Wmdfvl/z8D+TRw8RmLjxP80nv2PQffI/BghvtghD8z9A6B4JQQj0P3nIzlt5zfQ/s6h+rrGS9T/siC4B6lf2PyZp3lMiHfc/X0mOplri9z+ZKT75kqf4P9MJ7kvLbPk/DOqdngMy+j9Gyk3xO/f6P3+q/UN0vPs/uYqtlqyB/D/yal3p5Eb9PyxLDTwdDP4/ZSu9jlXR/j+fC23hjZb/P+x1DhrjLQBACWZmQ3+QAEAmVr5sG/MAQEJGFpa3VQFAXzZuv1O4AUB8Jsbo7xoCQJkWHhKMfQJAtgZ2OyjgAkDS9s1kxEIDQA==\",\"dtype\":\"float64\",\"shape\":[50]},\"top\":{\"__ndarray__\":\"LMgzkGorA0ALmJdhH3oCQPc2htdCfQNAgCHYK/suA0AbfwwPXHECQFtPC2yOPwJANnNqaNn7AUCQVLbuvfEBQP8ASm7sCgFAZV3s+ed+/z80RYVDpkwAQH6Gn0eit/0/jisN5hAv/j8uZVo2mjf9P35vMzZd5vo//9fD9Kea+j/mZ1gUntz3P3/1k+VJovc/5mdYFJ7c9z/uo3g0kHr1Px8jDC6PJ/c//qd3c53m+D9+4Luw3eb2P37JT5+YFfQ/F1xzCfCA+D8AF2wRRdHyPwAAAAAAAPA/AAAAAAAA8D9uxVBgi6nwP27FUGCLqfA/gN4n1ATR9D8QwftVxnX0P08SvEO20vE//qd3c53m6D9uxVBgi6nwP8/w4xe7o/Y/AUOwV/Zd5j8BQ7BX9l3mP/6nd3Od5ug/AAAAAAAAAAA/zHgLCwvrPwAAAAAAAAAAAAAAAAAAAAAAAAAAAAAAAAAAAAAAAAAAAAAAAAAA8P8AAAAAAADw/wAAAAAAAPD/AAAAAAAA8P//eZ9QE0TTPw==\",\"dtype\":\"float64\",\"shape\":[50]}},\"selected\":{\"id\":\"3920\",\"type\":\"Selection\"},\"selection_policy\":{\"id\":\"3921\",\"type\":\"UnionRenderers\"}},\"id\":\"3258\",\"type\":\"ColumnDataSource\"},{\"attributes\":{\"source\":{\"id\":\"3578\",\"type\":\"ColumnDataSource\"}},\"id\":\"3582\",\"type\":\"CDSView\"},{\"attributes\":{},\"id\":\"3895\",\"type\":\"UnionRenderers\"},{\"attributes\":{},\"id\":\"3903\",\"type\":\"UnionRenderers\"},{\"attributes\":{},\"id\":\"4049\",\"type\":\"UnionRenderers\"},{\"attributes\":{\"bottom\":{\"value\":0},\"fill_alpha\":{\"value\":0.05},\"fill_color\":{\"value\":\"#CB4777\"},\"left\":{\"field\":\"left\"},\"line_alpha\":{\"value\":0.05},\"line_color\":{\"value\":\"#7E03A7\"},\"right\":{\"field\":\"right\"},\"top\":{\"field\":\"top\"}},\"id\":\"3259\",\"type\":\"Quad\"},{\"attributes\":{\"callback\":null,\"data\":{\"left\":{\"__ndarray__\":\"85buF0vFBj9WWRjOGbOyP2zaZnmtscI/LYjBC84JzD/4Gg5P97DSP9lxO5gHXdc/ucho4RcJ3D/ND0sVlFrgPz274TmcsOI/rWZ4XqQG5T8eEg+DrFznP469pae0suk//mg8zLwI7D9vFNPwxF7uP/DftIpmWvA/qDUAnWqF8T9gi0uvbrDyPxjhlsFy2/M/0Dbi03YG9T+JjC3mejH2P0HiePh+XPc/+TfECoOH+D+xjQ8dh7L5P2njWi+L3fo/ITmmQY8I/D/ajvFTkzP9P5LkPGaXXv4/SjqIeJuJ/z8CyGnFT1oAQN5yj87R7wBAuh2111OFAUCWyNrg1RoCQHJzAOpXsAJATh4m89lFA0AqyUv8W9sDQAZ0cQXecARA4h6XDmAGBUC+ybwX4psFQJt04iBkMQZAdx8IKubGBkBTyi0zaFwHQC91Uzzq8QdACyB5RWyHCEDnyp5O7hwJQMN1xFdwsglAnyDqYPJHCkB7yw9qdN0KQFd2NXP2cgtAMyFbfHgIDEAQzICF+p0MQA==\",\"dtype\":\"float64\",\"shape\":[50]},\"right\":{\"__ndarray__\":\"VlkYzhmzsj9s2mZ5rbHCPy2IwQvOCcw/+BoOT/ew0j/ZcTuYB13XP7nIaOEXCdw/zQ9LFZRa4D89u+E5nLDiP61meF6kBuU/HhIPg6xc5z+OvaWntLLpP/5oPMy8COw/bxTT8MRe7j/w37SKZlrwP6g1AJ1qhfE/YItLr26w8j8Y4ZbBctvzP9A24tN2BvU/iYwt5nox9j9B4nj4flz3P/k3xAqDh/g/sY0PHYey+T9p41ovi936PyE5pkGPCPw/2o7xU5Mz/T+S5Dxml17+P0o6iHibif8/AshpxU9aAEDeco/O0e8AQLodtddThQFAlsja4NUaAkBycwDqV7ACQE4eJvPZRQNAKslL/FvbA0AGdHEF3nAEQOIelw5gBgVAvsm8F+KbBUCbdOIgZDEGQHcfCCrmxgZAU8otM2hcB0AvdVM86vEHQAsgeUVshwhA58qeTu4cCUDDdcRXcLIJQJ8g6mDyRwpAe8sPanTdCkBXdjVz9nILQDMhW3x4CAxAEMyAhfqdDEDrdqaOfDMNQA==\",\"dtype\":\"float64\",\"shape\":[50]},\"top\":{\"__ndarray__\":\"Zw9enSIjBkBRg5/kd28FQJBSZYXytgVA6wzhVtk9BEB6ArxF/0oDQLieG5jY3wNA88eDvFDBAkAF5ZN7wHUCQEiuOWlqdAFAi4zh2HwRAUDbj/ik2QgAQCwSF2S0bABA/jbv+Bzm/D9mRoDooq38Pz/MeAsLC/s/nrr4runA+j8fOng/1Pj5P9ma0zqLtP4/WAwCcvbN+T//18P0p5r6P4DeJ9QE0fQ//3mfUBNE8z8/zHgLCwvrP/3VT5Ynid4/n0TkWYpW8j8/zHgLCwvrP/3VT5Ynie4//3mfUBNE4z/+Nu/4HObsP/3VT5Ynie4/F1xzCfCA+D+XfUs166/zP27FUGCLqfA/z/DjF7uj9j/91U+WJ4neP/6nd3Od5ug//3mfUBNE4z8AAAAAAAAAAAAAAAAAAAAAAAAAAAAAAAAAAAAAAADw/wAAAAAAAPD/AAAAAAAA8P//eZ9QE0TTP27FUGCLqfA/AAAAAAAA8P//eZ9QE0TTP/3VT5Ynid4//3mfUBNE0z//eZ9QE0TTPw==\",\"dtype\":\"float64\",\"shape\":[50]}},\"selected\":{\"id\":\"4050\",\"type\":\"Selection\"},\"selection_policy\":{\"id\":\"4051\",\"type\":\"UnionRenderers\"}},\"id\":\"3583\",\"type\":\"ColumnDataSource\"},{\"attributes\":{},\"id\":\"3915\",\"type\":\"UnionRenderers\"},{\"attributes\":{},\"id\":\"4076\",\"type\":\"Selection\"},{\"attributes\":{},\"id\":\"4048\",\"type\":\"Selection\"},{\"attributes\":{\"bottom\":{\"value\":0},\"fill_alpha\":{\"value\":0.1},\"fill_color\":{\"value\":\"#1f77b4\"},\"left\":{\"field\":\"left\"},\"line_alpha\":{\"value\":0.1},\"line_color\":{\"value\":\"#1f77b4\"},\"right\":{\"field\":\"right\"},\"top\":{\"field\":\"top\"}},\"id\":\"3260\",\"type\":\"Quad\"},{\"attributes\":{\"bottom\":{\"value\":0},\"fill_alpha\":{\"value\":0.05},\"fill_color\":{\"value\":\"#CB4777\"},\"left\":{\"field\":\"left\"},\"line_alpha\":{\"value\":0.05},\"line_color\":{\"value\":\"#7E03A7\"},\"right\":{\"field\":\"right\"},\"top\":{\"field\":\"top\"}},\"id\":\"3584\",\"type\":\"Quad\"},{\"attributes\":{},\"id\":\"3914\",\"type\":\"Selection\"},{\"attributes\":{},\"id\":\"4047\",\"type\":\"UnionRenderers\"},{\"attributes\":{},\"id\":\"4075\",\"type\":\"UnionRenderers\"},{\"attributes\":{\"data_source\":{\"id\":\"3258\",\"type\":\"ColumnDataSource\"},\"glyph\":{\"id\":\"3259\",\"type\":\"Quad\"},\"hover_glyph\":null,\"muted_glyph\":null,\"nonselection_glyph\":{\"id\":\"3260\",\"type\":\"Quad\"},\"selection_glyph\":null,\"view\":{\"id\":\"3262\",\"type\":\"CDSView\"}},\"id\":\"3261\",\"type\":\"GlyphRenderer\"},{\"attributes\":{\"bottom\":{\"value\":0},\"fill_alpha\":{\"value\":0.1},\"fill_color\":{\"value\":\"#1f77b4\"},\"left\":{\"field\":\"left\"},\"line_alpha\":{\"value\":0.1},\"line_color\":{\"value\":\"#1f77b4\"},\"right\":{\"field\":\"right\"},\"top\":{\"field\":\"top\"}},\"id\":\"3585\",\"type\":\"Quad\"},{\"attributes\":{},\"id\":\"3913\",\"type\":\"UnionRenderers\"},{\"attributes\":{},\"id\":\"4046\",\"type\":\"Selection\"},{\"attributes\":{\"data_source\":{\"id\":\"3583\",\"type\":\"ColumnDataSource\"},\"glyph\":{\"id\":\"3584\",\"type\":\"Quad\"},\"hover_glyph\":null,\"muted_glyph\":null,\"nonselection_glyph\":{\"id\":\"3585\",\"type\":\"Quad\"},\"selection_glyph\":null,\"view\":{\"id\":\"3587\",\"type\":\"CDSView\"}},\"id\":\"3586\",\"type\":\"GlyphRenderer\"},{\"attributes\":{\"source\":{\"id\":\"3258\",\"type\":\"ColumnDataSource\"}},\"id\":\"3262\",\"type\":\"CDSView\"},{\"attributes\":{},\"id\":\"3897\",\"type\":\"UnionRenderers\"},{\"attributes\":{},\"id\":\"3912\",\"type\":\"Selection\"},{\"attributes\":{},\"id\":\"4045\",\"type\":\"UnionRenderers\"},{\"attributes\":{\"callback\":null,\"data\":{\"left\":{\"__ndarray__\":\"+0kqPhAVMT+r2T2aor2zP4bEHhIYtcM/N5we116LzT/zOQ/O0rDTP8sljzD2m9g/pBEPkxmH3T++fsd6HjnhP6p0ByywruM/lmpH3UEk5j+CYIeO05noP25Wxz9lD+s/W0wH8faE7T9HQkeiiPrvPxqcwykNOPE/EJdjAtZy8j8GkgPbnq3zP/yMo7Nn6PQ/8odDjDAj9j/oguNk+V33P959gz3CmPg/1HgjFovT+T/Kc8PuUw77P8BuY8ccSfw/t2kDoOWD/T+tZKN4rr7+P6NfQ1F3+f8/TK3xFCCaAEDHqkGBhDcBQEKoke3o1AFAvaXhWU1yAkA4ozHGsQ8DQLOggTIWrQNALp7RnnpKBECpmyEL3+cEQCSZcXdDhQVAn5bB46ciBkAalBFQDMAGQJWRYbxwXQdAEI+xKNX6B0CLjAGVOZgIQAaKUQGeNQlAgYehbQLTCUD8hPHZZnAKQHeCQUbLDQtA8n+Rsi+rC0BtfeEelEgMQOh6MYv45QxAZHiB91yDDUDfddFjwSAOQA==\",\"dtype\":\"float64\",\"shape\":[50]},\"right\":{\"__ndarray__\":\"q9k9mqK9sz+GxB4SGLXDPzecHtdei80/8zkPztKw0z/LJY8w9pvYP6QRD5MZh90/vn7Heh454T+qdAcssK7jP5ZqR91BJOY/gmCHjtOZ6D9uVsc/ZQ/rP1tMB/H2hO0/R0JHooj67z8anMMpDTjxPxCXYwLWcvI/BpID256t8z/8jKOzZ+j0P/KHQ4wwI/Y/6ILjZPld9z/efYM9wpj4P9R4IxaL0/k/ynPD7lMO+z/AbmPHHEn8P7dpA6Dlg/0/rWSjeK6+/j+jX0NRd/n/P0yt8RQgmgBAx6pBgYQ3AUBCqJHt6NQBQL2l4VlNcgJAOKMxxrEPA0CzoIEyFq0DQC6e0Z56SgRAqZshC9/nBEAkmXF3Q4UFQJ+WweOnIgZAGpQRUAzABkCVkWG8cF0HQBCPsSjV+gdAi4wBlTmYCEAGilEBnjUJQIGHoW0C0wlA/ITx2WZwCkB3gkFGyw0LQPJ/kbIvqwtAbX3hHpRIDEDoejGL+OUMQGR4gfdcgw1A33XRY8EgDkBacyHQJb4OQA==\",\"dtype\":\"float64\",\"shape\":[50]},\"top\":{\"__ndarray__\":\"9wn4IqXlBkD3Yor7cXQGQIu5b40aqQVAZ7VBNOfzBEBun12tUsoEQAr0+F2DgANAd192QJc5A0B3v5IPfP8CQDZzamjZ+wFA/wBKbuwKAUCAC7aIomgBQCwSF2S0bABA66uVC5fUAEBuxVBgi6kAQP5NWwpit/8/pgZbk7Mw/z+fATQClPj7P2ZGgOiirfw/Hzp4P9T4+T/+kAtiWBX2P26CoAiVS/o/f/WT5Umi9z9PErxDttLxP3+y441TRPE/AAAAAAAA8D+XfUs166/zP3+y441TRPE/f1jHJBgV+D8QwftVxnX0PwAXbBFF0fI//dVPlieJ7j8AAAAAAADwPwAXbBFF0fI//3mfUBNE4z/91U+WJ4neP/3VT5Ynid4//3mfUBNE0z//eZ9QE0TTP/95n1ATRNM//3mfUBNE0z8/zHgLCwvrPwAAAAAAAPD/AAAAAAAAAAAAAAAAAADw/wAAAAAAAPD/AAAAAAAA8P8AAAAAAADw/wAAAAAAAPD/AAAAAAAA8P8AAAAAAAAAAA==\",\"dtype\":\"float64\",\"shape\":[50]}},\"selected\":{\"id\":\"3922\",\"type\":\"Selection\"},\"selection_policy\":{\"id\":\"3923\",\"type\":\"UnionRenderers\"}},\"id\":\"3263\",\"type\":\"ColumnDataSource\"},{\"attributes\":{\"source\":{\"id\":\"3583\",\"type\":\"ColumnDataSource\"}},\"id\":\"3587\",\"type\":\"CDSView\"},{\"attributes\":{},\"id\":\"3911\",\"type\":\"UnionRenderers\"},{\"attributes\":{\"bottom\":{\"value\":0},\"fill_alpha\":{\"value\":0.05},\"fill_color\":{\"value\":\"#CB4777\"},\"left\":{\"field\":\"left\"},\"line_alpha\":{\"value\":0.05},\"line_color\":{\"value\":\"#7E03A7\"},\"right\":{\"field\":\"right\"},\"top\":{\"field\":\"top\"}},\"id\":\"3264\",\"type\":\"Quad\"},{\"attributes\":{},\"id\":\"4028\",\"type\":\"Selection\"},{\"attributes\":{},\"id\":\"3964\",\"type\":\"Selection\"},{\"attributes\":{\"bottom\":{\"value\":0},\"fill_alpha\":{\"value\":0.1},\"fill_color\":{\"value\":\"#1f77b4\"},\"left\":{\"field\":\"left\"},\"line_alpha\":{\"value\":0.1},\"line_color\":{\"value\":\"#1f77b4\"},\"right\":{\"field\":\"right\"},\"top\":{\"field\":\"top\"}},\"id\":\"3265\",\"type\":\"Quad\"},{\"attributes\":{},\"id\":\"4029\",\"type\":\"UnionRenderers\"},{\"attributes\":{},\"id\":\"3963\",\"type\":\"UnionRenderers\"},{\"attributes\":{},\"id\":\"4033\",\"type\":\"UnionRenderers\"},{\"attributes\":{\"data_source\":{\"id\":\"3263\",\"type\":\"ColumnDataSource\"},\"glyph\":{\"id\":\"3264\",\"type\":\"Quad\"},\"hover_glyph\":null,\"muted_glyph\":null,\"nonselection_glyph\":{\"id\":\"3265\",\"type\":\"Quad\"},\"selection_glyph\":null,\"view\":{\"id\":\"3267\",\"type\":\"CDSView\"}},\"id\":\"3266\",\"type\":\"GlyphRenderer\"},{\"attributes\":{},\"id\":\"3962\",\"type\":\"Selection\"},{\"attributes\":{\"source\":{\"id\":\"3263\",\"type\":\"ColumnDataSource\"}},\"id\":\"3267\",\"type\":\"CDSView\"},{\"attributes\":{},\"id\":\"3977\",\"type\":\"UnionRenderers\"},{\"attributes\":{},\"id\":\"4036\",\"type\":\"Selection\"},{\"attributes\":{},\"id\":\"3973\",\"type\":\"UnionRenderers\"},{\"attributes\":{},\"id\":\"4018\",\"type\":\"Selection\"},{\"attributes\":{\"callback\":null,\"data\":{\"left\":{\"__ndarray__\":\"85buF0vFBj8dE2w5DYGrP0oVCZA0frs/ghCuQfGdxD9gllc7yHzLPx+OgJrPLdE/DlFVFzud1D/9EyqUpgzYP+zW/hASfNs/25nTjX3r3j9kLlSFdC3hP9yPvkMq5eI/U/EoAuCc5D/LUpPAlVTmP0K0/X5LDOg/uhVoPQHE6T8xd9L7tnvrP6jYPLpsM+0/IDqneCLr7j/MzYgbbFHwP4f+vfpGLfE/Qy/z2SEJ8j//Xyi5/OTyP7uQXZjXwPM/dsGSd7Kc9D8y8sdWjXj1P+4i/TVoVPY/qVMyFUMw9z9lhGf0HQz4PyG1nNP45/g/3eXRstPD+T+YFgeSrp/6P1RHPHGJe/s/EHhxUGRX/D/LqKYvPzP9P4fZ2w4aD/4/QwoR7vTq/j//OkbNz8b/P961PVZVUQBAPE7YxUK/AECZ5nI1MC0BQPd+DaUdmwFAVReoFAsJAkCzr0KE+HYCQBFI3fPl5AJAb+B3Y9NSA0DNeBLTwMADQCoRrUKuLgRAiKlHspucBEDmQeIhiQoFQA==\",\"dtype\":\"float64\",\"shape\":[50]},\"right\":{\"__ndarray__\":\"HRNsOQ2Bqz9KFQmQNH67P4IQrkHxncQ/YJZXO8h8yz8fjoCazy3RPw5RVRc7ndQ//RMqlKYM2D/s1v4QEnzbP9uZ0419694/ZC5UhXQt4T/cj75DKuXiP1PxKALgnOQ/y1KTwJVU5j9CtP1+SwzoP7oVaD0BxOk/MXfS+7Z76z+o2Dy6bDPtPyA6p3gi6+4/zM2IG2xR8D+H/r36Ri3xP0Mv89khCfI//18oufzk8j+7kF2Y18DzP3bBkneynPQ/MvLHVo149T/uIv01aFT2P6lTMhVDMPc/ZYRn9B0M+D8htZzT+Of4P93l0bLTw/k/mBYHkq6f+j9URzxxiXv7PxB4cVBkV/w/y6imLz8z/T+H2dsOGg/+P0MKEe706v4//zpGzc/G/z/etT1WVVEAQDxO2MVCvwBAmeZyNTAtAUD3fg2lHZsBQFUXqBQLCQJAs69ChPh2AkARSN3z5eQCQG/gd2PTUgNAzXgS08DAA0AqEa1Cri4EQIipR7KbnARA5kHiIYkKBUBE2nyRdngFQA==\",\"dtype\":\"float64\",\"shape\":[50]},\"top\":{\"__ndarray__\":\"/r2ZFvasAkDPF4YSj80AQCgJ3iFb6QBAEH5L/s8X/j9pWf9WRQj/P+5gyNyZHP8/ZkaA6KKt/D/PM5RvsQH9PxB+S/7PF/4//qd3c53m+D+AYOawWhf5P/6nd3Od5vg/AUOwV/Zd9j/mZ1gUntz3P59bUGvPJ/U//3mfUBNE4z9uxVBgi6nwP/3VT5Ynie4/P8x4CwsL6z/91U+WJ4nuPwFDsFf2XeY/P8x4CwsL6z/+p3dzneboP/427/gc5uw/AAAAAAAA8D8/zHgLCwvrPz/MeAsLC+s//jbv+Bzm7D//eZ9QE0TjP/95n1ATRNM//dVPlieJ3j8AAAAAAAAAAAAAAAAAAPD/P8x4CwsL6z8AAAAAAADw/wAAAAAAAPD//3mfUBNE0z//eZ9QE0TTPwAAAAAAAAAAAAAAAAAA8P//eZ9QE0TTP/95n1ATRNM/AAAAAAAA8P8AAAAAAADw/wAAAAAAAPD/AAAAAAAA8P8AAAAAAADw/wAAAAAAAPD/AAAAAAAA8P//eZ9QE0TTPw==\",\"dtype\":\"float64\",\"shape\":[50]}},\"selected\":{\"id\":\"3924\",\"type\":\"Selection\"},\"selection_policy\":{\"id\":\"3925\",\"type\":\"UnionRenderers\"}},\"id\":\"3268\",\"type\":\"ColumnDataSource\"},{\"attributes\":{},\"id\":\"3980\",\"type\":\"Selection\"},{\"attributes\":{\"bottom\":{\"value\":0},\"fill_alpha\":{\"value\":0.05},\"fill_color\":{\"value\":\"#CB4777\"},\"left\":{\"field\":\"left\"},\"line_alpha\":{\"value\":0.05},\"line_color\":{\"value\":\"#7E03A7\"},\"right\":{\"field\":\"right\"},\"top\":{\"field\":\"top\"}},\"id\":\"3269\",\"type\":\"Quad\"},{\"attributes\":{},\"id\":\"4034\",\"type\":\"Selection\"},{\"attributes\":{\"bottom\":{\"value\":0},\"fill_alpha\":{\"value\":0.1},\"fill_color\":{\"value\":\"#1f77b4\"},\"left\":{\"field\":\"left\"},\"line_alpha\":{\"value\":0.1},\"line_color\":{\"value\":\"#1f77b4\"},\"right\":{\"field\":\"right\"},\"top\":{\"field\":\"top\"}},\"id\":\"3270\",\"type\":\"Quad\"},{\"attributes\":{},\"id\":\"3972\",\"type\":\"Selection\"},{\"attributes\":{\"data_source\":{\"id\":\"3268\",\"type\":\"ColumnDataSource\"},\"glyph\":{\"id\":\"3269\",\"type\":\"Quad\"},\"hover_glyph\":null,\"muted_glyph\":null,\"nonselection_glyph\":{\"id\":\"3270\",\"type\":\"Quad\"},\"selection_glyph\":null,\"view\":{\"id\":\"3272\",\"type\":\"CDSView\"}},\"id\":\"3271\",\"type\":\"GlyphRenderer\"},{\"attributes\":{\"source\":{\"id\":\"3268\",\"type\":\"ColumnDataSource\"}},\"id\":\"3272\",\"type\":\"CDSView\"},{\"attributes\":{},\"id\":\"3981\",\"type\":\"UnionRenderers\"},{\"attributes\":{\"callback\":null,\"data\":{\"left\":{\"__ndarray__\":\"/Bo2MSZpZT95FwIIzJCsP6FmeNaC5bs/w+B31E/BxD81jrM93o/LP9Sdd1M2L9E/jXQViH2W1D9GS7O8xP3XP/8hUfELZds/uPjuJVPM3j+5Z0YtzRnhPxVTlcdwzeI/cj7kYRSB5D/OKTP8tzTmPysVgpZb6Oc/hwDRMP+b6T/k6x/Lok/rP0HXbmVGA+0/ncK9/+m27j/8VgbNRjXwP6vMLZoYD/E/WUJVZ+ro8T8HuHw0vMLyP7UtpAGOnPM/ZKPLzl929D8SGfObMVD1P8COGmkDKvY/bwRCNtUD9z8demkDp933P8vvkNB4t/g/eWW4nUqR+T8o299qHGv6P9ZQBzjuRPs/hMYuBcAe/D8zPFbSkfj8P+GxfZ9j0v0/jyelbDWs/j89ncw5B4b/P3YJeoPsLwBATcQNatWcAEAlf6FQvgkBQPw5NTendgFA0/TIHZDjAUCqr1wEeVACQIFq8OphvQJAWCWE0UoqA0Av4Be4M5cDQAebq54cBARA3lU/hQVxBEC1ENNr7t0EQA==\",\"dtype\":\"float64\",\"shape\":[50]},\"right\":{\"__ndarray__\":\"eRcCCMyQrD+hZnjWguW7P8Pgd9RPwcQ/NY6zPd6Pyz/UnXdTNi/RP410FYh9ltQ/RkuzvMT91z//IVHxC2XbP7j47iVTzN4/uWdGLc0Z4T8VU5XHcM3iP3I+5GEUgeQ/zikz/Lc05j8rFYKWW+jnP4cA0TD/m+k/5Osfy6JP6z9B125lRgPtP53Cvf/ptu4//FYGzUY18D+rzC2aGA/xP1lCVWfq6PE/B7h8NLzC8j+1LaQBjpzzP2Sjy85fdvQ/EhnzmzFQ9T/AjhppAyr2P28EQjbVA/c/HXppA6fd9z/L75DQeLf4P3lluJ1Kkfk/KNvfahxr+j/WUAc47kT7P4TGLgXAHvw/MzxW0pH4/D/hsX2fY9L9P48npWw1rP4/PZ3MOQeG/z92CXqD7C8AQE3EDWrVnABAJX+hUL4JAUD8OTU3p3YBQNP0yB2Q4wFAqq9cBHlQAkCBavDqYb0CQFglhNFKKgNAL+AXuDOXA0AHm6ueHAQEQN5VP4UFcQRAtRDTa+7dBECMy2ZS10oFQA==\",\"dtype\":\"float64\",\"shape\":[50]},\"top\":{\"__ndarray__\":\"l31LNeuv8z8AvU+oCaL5P37gu7Dd5vY/AUOwV/Zd9j9+4Luw3eb2P26CoAiVS/o/nrr4runA+j/uo3g0kHr1PwAXbBFF0fI//jbv+Bzm7D9+yU+fmBX0P59E5FmKVvI/f/WT5Umi9z9+yU+fmBX0P/95n1ATRPM/n0TkWYpW8j//eZ9QE0TjP/95n1ATROM/P8x4CwsL6z/+Nu/4HObsP27FUGCLqfA//jbv+Bzm7D/91U+WJ4neP/427/gc5uw/7qN4NJB69T8/zHgLCwvrP/3VT5Ynie4/n1tQa88n9T8/zHgLCwvrP3+y441TRPE//qd3c53m6D8BQ7BX9l3mP/3VT5Ynid4/AAAAAAAAAAD/eZ9QE0TTP/95n1ATRNM/AAAAAAAAAAAAAAAAAAAAAP95n1ATROM//3mfUBNE0z//eZ9QE0TTPwAAAAAAAPD/AAAAAAAAAAAAAAAAAADw/wAAAAAAAAAAAAAAAAAA8P//eZ9QE0TTPwAAAAAAAPD/AAAAAAAA8P8AAAAAAAAAAA==\",\"dtype\":\"float64\",\"shape\":[50]}},\"selected\":{\"id\":\"3926\",\"type\":\"Selection\"},\"selection_policy\":{\"id\":\"3927\",\"type\":\"UnionRenderers\"}},\"id\":\"3273\",\"type\":\"ColumnDataSource\"},{\"attributes\":{\"bottom\":{\"value\":0},\"fill_alpha\":{\"value\":0.05},\"fill_color\":{\"value\":\"#CB4777\"},\"left\":{\"field\":\"left\"},\"line_alpha\":{\"value\":0.05},\"line_color\":{\"value\":\"#7E03A7\"},\"right\":{\"field\":\"right\"},\"top\":{\"field\":\"top\"}},\"id\":\"3274\",\"type\":\"Quad\"},{\"attributes\":{},\"id\":\"3978\",\"type\":\"Selection\"},{\"attributes\":{\"bottom\":{\"value\":0},\"fill_alpha\":{\"value\":0.1},\"fill_color\":{\"value\":\"#1f77b4\"},\"left\":{\"field\":\"left\"},\"line_alpha\":{\"value\":0.1},\"line_color\":{\"value\":\"#1f77b4\"},\"right\":{\"field\":\"right\"},\"top\":{\"field\":\"top\"}},\"id\":\"3275\",\"type\":\"Quad\"},{\"attributes\":{\"data_source\":{\"id\":\"3273\",\"type\":\"ColumnDataSource\"},\"glyph\":{\"id\":\"3274\",\"type\":\"Quad\"},\"hover_glyph\":null,\"muted_glyph\":null,\"nonselection_glyph\":{\"id\":\"3275\",\"type\":\"Quad\"},\"selection_glyph\":null,\"view\":{\"id\":\"3277\",\"type\":\"CDSView\"}},\"id\":\"3276\",\"type\":\"GlyphRenderer\"},{\"attributes\":{\"callback\":null},\"id\":\"3117\",\"type\":\"DataRange1d\"},{\"attributes\":{\"source\":{\"id\":\"3273\",\"type\":\"ColumnDataSource\"}},\"id\":\"3277\",\"type\":\"CDSView\"},{\"attributes\":{},\"id\":\"4032\",\"type\":\"Selection\"},{\"attributes\":{\"callback\":null},\"id\":\"3119\",\"type\":\"DataRange1d\"},{\"attributes\":{},\"id\":\"4035\",\"type\":\"UnionRenderers\"},{\"attributes\":{},\"id\":\"3121\",\"type\":\"LinearScale\"},{\"attributes\":{\"callback\":null,\"data\":{\"left\":{\"__ndarray__\":\"ak5/EhN4LD8xbWSPhhurP4ot24VKDbs/PhIC4mhGxD+3jRaBLAbLP5iEFRD44tA/VMKf39lC1D8RACqvu6LXP809tH6dAts/iXs+Tn9i3j+jXOSOMOHgP4F7qXYhkeI/X5puXhJB5D89uTNGA/HlPxzY+C30oOc/+va9FeVQ6T/YFYP91QDrP7Y0SOXGsOw/lFMNzbdg7j85OWlaVAjwP6jIS85M4PA/F1guQkW48T+G5xC2PZDyP/V28yk2aPM/ZAbWnS5A9D/TlbgRJxj1P0Ilm4Uf8PU/srR9+RfI9j8hRGBtEKD3P5DTQuEIePg//2IlVQFQ+T9u8gfJ+Sf6P92B6jzy//o/TBHNsOrX+z+7oK8k46/8Pyowkpjbh/0/mb90DNRf/j8IT1eAzDf/PzzvHHriBwBA8zYOtN5zAECrfv/t2t8AQGLG8CfXSwFAGg7iYdO3AUDSVdObzyMCQImdxNXLjwJAQeW1D8j7AkD4LKdJxGcDQLB0mIPA0wNAZ7yJvbw/BEAfBHv3uKsEQA==\",\"dtype\":\"float64\",\"shape\":[50]},\"right\":{\"__ndarray__\":\"MW1kj4Ybqz+KLduFSg27Pz4SAuJoRsQ/t40WgSwGyz+YhBUQ+OLQP1TCn9/ZQtQ/EQAqr7ui1z/NPbR+nQLbP4l7Pk5/Yt4/o1zkjjDh4D+Be6l2IZHiP1+abl4SQeQ/PbkzRgPx5T8c2Pgt9KDnP/r2vRXlUOk/2BWD/dUA6z+2NEjlxrDsP5RTDc23YO4/OTlpWlQI8D+oyEvOTODwPxdYLkJFuPE/hucQtj2Q8j/1dvMpNmjzP2QG1p0uQPQ/05W4EScY9T9CJZuFH/D1P7K0ffkXyPY/IURgbRCg9z+Q00LhCHj4P/9iJVUBUPk/bvIHyfkn+j/dgeo88v/6P0wRzbDq1/s/u6CvJOOv/D8qMJKY24f9P5m/dAzUX/4/CE9XgMw3/z887xx64gcAQPM2DrTecwBAq37/7drfAEBixvAn10sBQBoO4mHTtwFA0lXTm88jAkCJncTVy48CQEHltQ/I+wJA+CynScRnA0CwdJiDwNMDQGe8ib28PwRAHwR797irBEDWS2wxtRcFQA==\",\"dtype\":\"float64\",\"shape\":[50]},\"top\":{\"__ndarray__\":\"v86FrHNEAEB1D+SltPP+P/c7Gnfv9gBA/k1bCmK3/z8Wc98aNVL7P+/mKIyG2Ps/gDhEPUAA/j/+vuOE4rf7P0/PC+y/dPs/z/DjF7uj9j8AvU+oCaL5Px5R5FAZyvw/fwwA945z+j/u8EDraFX8P4Bg5rBaF/k/6mNrcftl9z+gh5SxgLT4PwAXbBFF0fI/f7LjjVNE8T/91U+WJ4nuP08SvEO20vE/AAAAAAAA8D+fRORZilbyPx8jDC6PJ/c/7rrkRdVL+D+XfUs166/zP3+y441TRPE/AAAAAAAA8D8/zHgLCwvrP/427/gc5uw/f7LjjVNE8T//eZ9QE0TTPwAAAAAAAAAA/3mfUBNE4z8AAAAAAADw/wAAAAAAAAAAAAAAAAAAAAAAAAAAAADw/wAAAAAAAAAA/jbv+Bzm7D/+Nu/4HObsPwAAAAAAAPD/AAAAAAAAAAAAAAAAAADw/wAAAAAAAPD/AAAAAAAA8P8AAAAAAADw/wAAAAAAAPD/AAAAAAAA8P//eZ9QE0TTPw==\",\"dtype\":\"float64\",\"shape\":[50]}},\"selected\":{\"id\":\"3928\",\"type\":\"Selection\"},\"selection_policy\":{\"id\":\"3929\",\"type\":\"UnionRenderers\"}},\"id\":\"3278\",\"type\":\"ColumnDataSource\"},{\"attributes\":{},\"id\":\"4026\",\"type\":\"Selection\"},{\"attributes\":{},\"id\":\"4037\",\"type\":\"UnionRenderers\"},{\"attributes\":{},\"id\":\"3123\",\"type\":\"LinearScale\"},{\"attributes\":{\"bottom\":{\"value\":0},\"fill_alpha\":{\"value\":0.05},\"fill_color\":{\"value\":\"#CB4777\"},\"left\":{\"field\":\"left\"},\"line_alpha\":{\"value\":0.05},\"line_color\":{\"value\":\"#7E03A7\"},\"right\":{\"field\":\"right\"},\"top\":{\"field\":\"top\"}},\"id\":\"3279\",\"type\":\"Quad\"},{\"attributes\":{\"axis_label\":\"-log10(p_value)\",\"axis_label_text_font_size\":{\"value\":\"15pt\"},\"formatter\":{\"id\":\"3873\",\"type\":\"BasicTickFormatter\"},\"major_label_text_font_size\":{\"value\":\"15pt\"},\"ticker\":{\"id\":\"3126\",\"type\":\"BasicTicker\"}},\"id\":\"3125\",\"type\":\"LinearAxis\"},{\"attributes\":{\"bottom\":{\"value\":0},\"fill_alpha\":{\"value\":0.1},\"fill_color\":{\"value\":\"#1f77b4\"},\"left\":{\"field\":\"left\"},\"line_alpha\":{\"value\":0.1},\"line_color\":{\"value\":\"#1f77b4\"},\"right\":{\"field\":\"right\"},\"top\":{\"field\":\"top\"}},\"id\":\"3280\",\"type\":\"Quad\"},{\"attributes\":{},\"id\":\"3979\",\"type\":\"UnionRenderers\"},{\"attributes\":{},\"id\":\"3976\",\"type\":\"Selection\"},{\"attributes\":{\"data_source\":{\"id\":\"3278\",\"type\":\"ColumnDataSource\"},\"glyph\":{\"id\":\"3279\",\"type\":\"Quad\"},\"hover_glyph\":null,\"muted_glyph\":null,\"nonselection_glyph\":{\"id\":\"3280\",\"type\":\"Quad\"},\"selection_glyph\":null,\"view\":{\"id\":\"3282\",\"type\":\"CDSView\"}},\"id\":\"3281\",\"type\":\"GlyphRenderer\"},{\"attributes\":{},\"id\":\"3126\",\"type\":\"BasicTicker\"},{\"attributes\":{},\"id\":\"3970\",\"type\":\"Selection\"},{\"attributes\":{\"ticker\":{\"id\":\"3126\",\"type\":\"BasicTicker\"}},\"id\":\"3129\",\"type\":\"Grid\"},{\"attributes\":{\"source\":{\"id\":\"3278\",\"type\":\"ColumnDataSource\"}},\"id\":\"3282\",\"type\":\"CDSView\"},{\"attributes\":{},\"id\":\"4030\",\"type\":\"Selection\"},{\"attributes\":{\"axis_label\":\"log10(number of SNPs)\",\"axis_label_text_font_size\":{\"value\":\"15pt\"},\"formatter\":{\"id\":\"3875\",\"type\":\"BasicTickFormatter\"},\"major_label_text_font_size\":{\"value\":\"15pt\"},\"ticker\":{\"id\":\"3131\",\"type\":\"BasicTicker\"}},\"id\":\"3130\",\"type\":\"LinearAxis\"},{\"attributes\":{\"callback\":null,\"data\":{\"left\":{\"__ndarray__\":\"ak5/EhN4LD9qpEPyuYWwP5cEf+2bfsA/+Dbc4Vq6yD+ttBzrDHvQP95NS2XsmNQ/Dud538u22D8/gKhZq9TcP7iM62lFeeA/UNkCJzWI4j/pJRrkJJfkP4FyMaEUpuY/Gb9IXgS16D+yC2Ab9MPqP0pYd9jj0uw/46SOldPh7j+9+FKpYXjwPwmf3ofZf/E/VUVqZlGH8j+i6/VEyY7zP+6RgSNBlvQ/OjgNArmd9T+G3pjgMKX2P9KEJL+orPc/HiuwnSC0+D9r0Tt8mLv5P7d3x1oQw/o/Ax5TOYjK+z9PxN4XANL8P5tqavZ32f0/6BD21O/g/j80t4GzZ+j/P8CuBsnvdwBA5oFMuKv7AEAMVZKnZ38BQDIo2JYjAwJAWPsdht+GAkB+zmN1mwoDQKWhqWRXjgNAy3TvUxMSBEDxRzVDz5UEQBcbezKLGQVAPe7AIUedBUBjwQYRAyEGQImUTAC/pAZAr2eS73ooB0DVOtjeNqwHQPsNHs7yLwhAIeFjva6zCEBItKmsajcJQA==\",\"dtype\":\"float64\",\"shape\":[50]},\"right\":{\"__ndarray__\":\"aqRD8rmFsD+XBH/tm37AP/g23OFausg/rbQc6wx70D/eTUtl7JjUPw7ned/Lttg/P4CoWavU3D+4jOtpRXngP1DZAic1iOI/6SUa5CSX5D+BcjGhFKbmPxm/SF4Eteg/sgtgG/TD6j9KWHfY49LsP+OkjpXT4e4/vfhSqWF48D8Jn96H2X/xP1VFamZRh/I/ouv1RMmO8z/ukYEjQZb0Pzo4DQK5nfU/ht6Y4DCl9j/ShCS/qKz3Px4rsJ0gtPg/a9E7fJi7+T+3d8daEMP6PwMeUzmIyvs/T8TeFwDS/D+bamr2d9n9P+gQ9tTv4P4/NLeBs2fo/z/ArgbJ73cAQOaBTLir+wBADFWSp2d/AUAyKNiWIwMCQFj7HYbfhgJAfs5jdZsKA0CloalkV44DQMt071MTEgRA8Uc1Q8+VBEAXG3syixkFQD3uwCFHnQVAY8EGEQMhBkCJlEwAv6QGQK9nku96KAdA1TrY3jasB0D7DR7O8i8IQCHhY72uswhASLSprGo3CUBuh++bJrsJQA==\",\"dtype\":\"float64\",\"shape\":[50]},\"top\":{\"__ndarray__\":\"i4zh2HwRAUBirL2P0zMAQH+bd3wOc/4/nhigE9nJ/j9ktKGhK9D9P3+bd3wOc/4/8BtfBLaQ/D9Pzwvsv3T7P0R6U0uilvs/gGDmsFoX+T/v5iiMhtj7P+pja3H7Zfc/gN4n1ATR9D8fIwwujyf3P3/5myCjyfU/f/WT5Umi9z9+yU+fmBX0P37JT5+YFfQ/f7LjjVNE8T/+Nu/4HObsPwFDsFf2XeY/P8x4CwsL6z/91U+WJ4nuP/6nd3Od5ug/AAAAAAAAAAD/eZ9QE0TTP/95n1ATRNM//3mfUBNE4z8AAAAAAAAAAP95n1ATRNM/AAAAAAAAAAD/eZ9QE0TTP/95n1ATRNM//3mfUBNE0z/91U+WJ4nePwAAAAAAAAAAP8x4CwsL6z//eZ9QE0TTPwAAAAAAAAAAAAAAAAAA8P8AAAAAAADw/wAAAAAAAPD/AAAAAAAA8P8AAAAAAADw/wAAAAAAAPD/AAAAAAAA8P//eZ9QE0TjPwAAAAAAAPD/AAAAAAAAAAAAAAAAAAAAAA==\",\"dtype\":\"float64\",\"shape\":[50]}},\"selected\":{\"id\":\"3930\",\"type\":\"Selection\"},\"selection_policy\":{\"id\":\"3931\",\"type\":\"UnionRenderers\"}},\"id\":\"3283\",\"type\":\"ColumnDataSource\"},{\"attributes\":{},\"id\":\"3959\",\"type\":\"UnionRenderers\"},{\"attributes\":{\"bottom\":{\"value\":0},\"fill_alpha\":{\"value\":0.05},\"fill_color\":{\"value\":\"#CB4777\"},\"left\":{\"field\":\"left\"},\"line_alpha\":{\"value\":0.05},\"line_color\":{\"value\":\"#7E03A7\"},\"right\":{\"field\":\"right\"},\"top\":{\"field\":\"top\"}},\"id\":\"3284\",\"type\":\"Quad\"},{\"attributes\":{},\"id\":\"3131\",\"type\":\"BasicTicker\"},{\"attributes\":{\"dimension\":1,\"ticker\":{\"id\":\"3131\",\"type\":\"BasicTicker\"}},\"id\":\"3134\",\"type\":\"Grid\"},{\"attributes\":{\"bottom\":{\"value\":0},\"fill_alpha\":{\"value\":0.1},\"fill_color\":{\"value\":\"#1f77b4\"},\"left\":{\"field\":\"left\"},\"line_alpha\":{\"value\":0.1},\"line_color\":{\"value\":\"#1f77b4\"},\"right\":{\"field\":\"right\"},\"top\":{\"field\":\"top\"}},\"id\":\"3285\",\"type\":\"Quad\"},{\"attributes\":{},\"id\":\"3974\",\"type\":\"Selection\"},{\"attributes\":{\"data_source\":{\"id\":\"3283\",\"type\":\"ColumnDataSource\"},\"glyph\":{\"id\":\"3284\",\"type\":\"Quad\"},\"hover_glyph\":null,\"muted_glyph\":null,\"nonselection_glyph\":{\"id\":\"3285\",\"type\":\"Quad\"},\"selection_glyph\":null,\"view\":{\"id\":\"3287\",\"type\":\"CDSView\"}},\"id\":\"3286\",\"type\":\"GlyphRenderer\"},{\"attributes\":{\"bottom\":{\"value\":0},\"fill_alpha\":{\"value\":0.1},\"fill_color\":{\"value\":\"#1f77b4\"},\"left\":{\"field\":\"left\"},\"line_alpha\":{\"value\":0.1},\"line_color\":{\"value\":\"#1f77b4\"},\"right\":{\"field\":\"right\"},\"top\":{\"field\":\"top\"}},\"id\":\"3150\",\"type\":\"Quad\"},{\"attributes\":{},\"id\":\"4016\",\"type\":\"Selection\"},{\"attributes\":{},\"id\":\"3957\",\"type\":\"UnionRenderers\"},{\"attributes\":{\"bottom\":{\"value\":0},\"fill_alpha\":{\"value\":0.05},\"fill_color\":{\"value\":\"#CB4777\"},\"left\":{\"field\":\"left\"},\"line_alpha\":{\"value\":0.05},\"line_color\":{\"value\":\"#7E03A7\"},\"right\":{\"field\":\"right\"},\"top\":{\"field\":\"top\"}},\"id\":\"3149\",\"type\":\"Quad\"},{\"attributes\":{\"source\":{\"id\":\"3283\",\"type\":\"ColumnDataSource\"}},\"id\":\"3287\",\"type\":\"CDSView\"},{\"attributes\":{},\"id\":\"3961\",\"type\":\"UnionRenderers\"},{\"attributes\":{\"callback\":null,\"data\":{\"left\":{\"__ndarray__\":\"AAAAAAAAAAC9zc55OOG6P73Nznk44co/ThpbW+oo1D+9zc55OOHaP5ZAIUzDzOA/ThpbW+oo5D8F9JRqEYXnP73Nznk44eo/dacIiV897j+WQCFMw8zwP3ItvtPWevI/ThpbW+oo9D8qB/ji/db1PwX0lGoRhfc/4eAx8iQz+T+9zc55OOH6P5m6awFMj/w/dacIiV89/j9QlKUQc+v/P5ZAIUzDzABABLfvD82jAUByLb7T1noCQOCjjJfgUQNAThpbW+ooBEC8kCkf9P8EQCoH+OL91gVAl33GpgeuBkAF9JRqEYUHQHNqYy4bXAhA4eAx8iQzCUBPVwC2LgoKQL3Nznk44QpAK0SdPUK4C0CZumsBTI8MQAcxOsVVZg1AdacIiV89DkDjHddMaRQPQFCUpRBz6w9AXwU6aj5hEECWQCFMw8wQQM17CC5IOBFABLfvD82jEUA78tbxUQ8SQHItvtPWehJAqWiltVvmEkDgo4yX4FETQBffc3llvRNAThpbW+ooFECFVUI9b5QUQA==\",\"dtype\":\"float64\",\"shape\":[50]},\"right\":{\"__ndarray__\":\"vc3OeTjhuj+9zc55OOHKP04aW1vqKNQ/vc3OeTjh2j+WQCFMw8zgP04aW1vqKOQ/BfSUahGF5z+9zc55OOHqP3WnCIlfPe4/lkAhTMPM8D9yLb7T1nryP04aW1vqKPQ/Kgf44v3W9T8F9JRqEYX3P+HgMfIkM/k/vc3OeTjh+j+ZumsBTI/8P3WnCIlfPf4/UJSlEHPr/z+WQCFMw8wAQAS37w/NowFAci2+09Z6AkDgo4yX4FEDQE4aW1vqKARAvJApH/T/BEAqB/ji/dYFQJd9xqYHrgZABfSUahGFB0BzamMuG1wIQOHgMfIkMwlAT1cAti4KCkC9zc55OOEKQCtEnT1CuAtAmbprAUyPDEAHMTrFVWYNQHWnCIlfPQ5A4x3XTGkUD0BQlKUQc+sPQF8FOmo+YRBAlkAhTMPMEEDNewguSDgRQAS37w/NoxFAO/LW8VEPEkByLb7T1noSQKlopbVb5hJA4KOMl+BRE0AX33N5Zb0TQE4aW1vqKBRAhVVCPW+UFEC8kCkf9P8UQA==\",\"dtype\":\"float64\",\"shape\":[50]},\"top\":{\"__ndarray__\":\"f8qJzlgeAkCIytuHinQAQH+268isa/8/gGDmsFoX+T/mZ1gUntz3PywSF2S0bABAoIeUsYC0+D+A3ifUBNH0P6CHlLGAtPg/8BtfBLaQ/D/mZ1gUntz3PxDB+1XGdfQ/bsVQYIup8D9uxVBgi6nwPwAXbBFF0fI//qd3c53m6D/91U+WJ4nuPwFDsFf2XeY//3mfUBNE4z/91U+WJ4neP/95n1ATRNM/AAAAAAAA8D9uxVBgi6nwP3+y441TRPE/n0TkWYpW8j/P8OMXu6P2PwFDsFf2XeY/AAAAAAAA8P8AAAAAAAAAAAAAAAAAAAAAAAAAAAAAAAAAAAAAAAAAAAAAAAAAAPD/AAAAAAAA8P8AAAAAAADw/wAAAAAAAPD/AAAAAAAA8P8AAAAAAADw/wAAAAAAAAAA/dVPlieJ3j//eZ9QE0TTP/95n1ATRNM/AAAAAAAAAAAAAAAAAADw/wAAAAAAAPD/AAAAAAAA8P8AAAAAAADw/wAAAAAAAAAA/3mfUBNE4z8BQ7BX9l3mPw==\",\"dtype\":\"float64\",\"shape\":[50]}},\"selected\":{\"id\":\"4076\",\"type\":\"Selection\"},\"selection_policy\":{\"id\":\"4077\",\"type\":\"UnionRenderers\"}},\"id\":\"3648\",\"type\":\"ColumnDataSource\"},{\"attributes\":{\"active_drag\":\"auto\",\"active_inspect\":\"auto\",\"active_multi\":null,\"active_scroll\":\"auto\",\"active_tap\":\"auto\",\"tools\":[{\"id\":\"3135\",\"type\":\"PanTool\"},{\"id\":\"3136\",\"type\":\"WheelZoomTool\"},{\"id\":\"3137\",\"type\":\"BoxZoomTool\"},{\"id\":\"3138\",\"type\":\"SaveTool\"},{\"id\":\"3139\",\"type\":\"ResetTool\"},{\"id\":\"3140\",\"type\":\"HelpTool\"}]},\"id\":\"3141\",\"type\":\"Toolbar\"},{\"attributes\":{\"callback\":null,\"data\":{\"left\":{\"__ndarray__\":\"nHCfs5U2SD8H25qgy3yyP5c75wqVZMI/qgmBRcSKyz/eaw3AeVjSP+hSWl2R69Y/8Tmn+qh+2z99EPpL4AjgPwKEoBpsUuI/h/dG6feb5D8Ma+23g+XmP5Dek4YPL+k/FVI6VZt46z+axeAjJ8LtP4+cQ3nZBfA/UtaWYJ8q8T8UEOpHZU/yP9ZJPS8rdPM/mYOQFvGY9D9bveP9tr31Px73NuV84vY/4DCKzEIH+D+iat2zCCz5P2WkMJvOUPo/J96DgpR1+z/pF9dpWpr8P6xRKlEgv/0/bot9OObj/j+YYugPVgQAQHn/kQO5lgBAW5w79xspAUA8OeXqfrsBQB3Wjt7hTQJA/nI40kTgAkDfD+LFp3IDQMGsi7kKBQRAokk1rW2XBECD5t6g0CkFQGSDiJQzvAVARSAyiJZOBkAnvdt7+eAGQAhahW9ccwdA6fYuY78FCEDKk9hWIpgIQKswgkqFKglAjM0rPui8CUBuatUxS08KQE8HfyWu4QpAMKQoGRF0C0ARQdIMdAYMQA==\",\"dtype\":\"float64\",\"shape\":[50]},\"right\":{\"__ndarray__\":\"B9uaoMt8sj+XO+cKlWTCP6oJgUXEiss/3msNwHlY0j/oUlpdkevWP/E5p/qofts/fRD6S+AI4D8ChKAabFLiP4f3Run3m+Q/DGvtt4Pl5j+Q3pOGDy/pPxVSOlWbeOs/msXgIyfC7T+PnEN52QXwP1LWlmCfKvE/FBDqR2VP8j/WST0vK3TzP5mDkBbxmPQ/W73j/ba99T8e9zblfOL2P+AwisxCB/g/omrdswgs+T9lpDCbzlD6Pyfeg4KUdfs/6RfXaVqa/D+sUSpRIL/9P26LfTjm4/4/mGLoD1YEAEB5/5EDuZYAQFucO/cbKQFAPDnl6n67AUAd1o7e4U0CQP5yONJE4AJA3w/ixadyA0DBrIu5CgUEQKJJNa1tlwRAg+beoNApBUBkg4iUM7wFQEUgMoiWTgZAJ73be/ngBkAIWoVvXHMHQOn2LmO/BQhAypPYViKYCECrMIJKhSoJQIzNKz7ovAlAbmrVMUtPCkBPB38lruEKQDCkKBkRdAtAEUHSDHQGDEDz3XsA15gMQA==\",\"dtype\":\"float64\",\"shape\":[50]},\"top\":{\"__ndarray__\":\"7ADLKyC4AEAAPw6FX+j9P/5NWwpit/8/kD6US2UrAEA0RYVDpkwAQL+qoN8P3P8/dQ/kpbTz/j+fATQClPj7P+665EXVS/g/fuC7sN3m9j//eZ9QE0TzP37JT5+YFfQ/f7LjjVNE8T/+Nu/4HObsP08SvEO20vE/n0TkWYpW8j8AAAAAAADwP/3VT5Ynie4/n0TkWYpW8j/+p3dzneboP/6nd3Od5ug//3mfUBNE4z9uxVBgi6nwP27FUGCLqfA//3mfUBNE4z8AAAAAAAAAAP3VT5Ynid4/AAAAAAAA8P8AAAAAAADw/wAAAAAAAPD/AAAAAAAA8P8AAAAAAADw/wAAAAAAAPD/AAAAAAAAAAAAAAAAAAAAAAAAAAAAAAAAAAAAAAAA8P8AAAAAAADw/wAAAAAAAPD/AAAAAAAA8P8AAAAAAADw/wAAAAAAAPD/AAAAAAAA8P8AAAAAAADw/wAAAAAAAAAAAAAAAAAA8P8AAAAAAADw/wAAAAAAAPD/AAAAAAAA8P8AAAAAAAAAAA==\",\"dtype\":\"float64\",\"shape\":[50]}},\"selected\":{\"id\":\"3932\",\"type\":\"Selection\"},\"selection_policy\":{\"id\":\"3933\",\"type\":\"UnionRenderers\"}},\"id\":\"3288\",\"type\":\"ColumnDataSource\"},{\"attributes\":{},\"id\":\"4017\",\"type\":\"UnionRenderers\"},{\"attributes\":{},\"id\":\"3135\",\"type\":\"PanTool\"},{\"attributes\":{\"bottom\":{\"value\":0},\"fill_alpha\":{\"value\":0.05},\"fill_color\":{\"value\":\"#CB4777\"},\"left\":{\"field\":\"left\"},\"line_alpha\":{\"value\":0.05},\"line_color\":{\"value\":\"#7E03A7\"},\"right\":{\"field\":\"right\"},\"top\":{\"field\":\"top\"}},\"id\":\"3289\",\"type\":\"Quad\"},{\"attributes\":{},\"id\":\"3956\",\"type\":\"Selection\"},{\"attributes\":{},\"id\":\"4013\",\"type\":\"UnionRenderers\"},{\"attributes\":{},\"id\":\"3136\",\"type\":\"WheelZoomTool\"},{\"attributes\":{},\"id\":\"3960\",\"type\":\"Selection\"},{\"attributes\":{},\"id\":\"4031\",\"type\":\"UnionRenderers\"},{\"attributes\":{\"bottom\":{\"value\":0},\"fill_alpha\":{\"value\":0.1},\"fill_color\":{\"value\":\"#1f77b4\"},\"left\":{\"field\":\"left\"},\"line_alpha\":{\"value\":0.1},\"line_color\":{\"value\":\"#1f77b4\"},\"right\":{\"field\":\"right\"},\"top\":{\"field\":\"top\"}},\"id\":\"3290\",\"type\":\"Quad\"},{\"attributes\":{},\"id\":\"4015\",\"type\":\"UnionRenderers\"},{\"attributes\":{\"overlay\":{\"id\":\"4078\",\"type\":\"BoxAnnotation\"}},\"id\":\"3137\",\"type\":\"BoxZoomTool\"},{\"attributes\":{},\"id\":\"3965\",\"type\":\"UnionRenderers\"},{\"attributes\":{\"data_source\":{\"id\":\"3288\",\"type\":\"ColumnDataSource\"},\"glyph\":{\"id\":\"3289\",\"type\":\"Quad\"},\"hover_glyph\":null,\"muted_glyph\":null,\"nonselection_glyph\":{\"id\":\"3290\",\"type\":\"Quad\"},\"selection_glyph\":null,\"view\":{\"id\":\"3292\",\"type\":\"CDSView\"}},\"id\":\"3291\",\"type\":\"GlyphRenderer\"},{\"attributes\":{},\"id\":\"3982\",\"type\":\"Selection\"},{\"attributes\":{},\"id\":\"3138\",\"type\":\"SaveTool\"},{\"attributes\":{},\"id\":\"3958\",\"type\":\"Selection\"},{\"attributes\":{\"source\":{\"id\":\"3288\",\"type\":\"ColumnDataSource\"}},\"id\":\"3292\",\"type\":\"CDSView\"},{\"attributes\":{},\"id\":\"4027\",\"type\":\"UnionRenderers\"},{\"attributes\":{},\"id\":\"3139\",\"type\":\"ResetTool\"},{\"attributes\":{\"callback\":null,\"data\":{\"left\":{\"__ndarray__\":\"54bbt8pcRT9X/cLKaGyyP9AhCwAMV8I/9cS0muN3yz8MNK+aXUzSP54FBGjJ3NY/MddYNTVt2z/DqK0Cof3fPys9AWgGR+I/9KWrTjyP5D+9DlY1ctfmP4Z3AByoH+k/UOCqAt5n6z8ZSVXpE7DtP+Kx/89J+O8/VQ1V2z8g8T+6QarOWkTyPx92/8F1aPM/g6pUtZCM9D/o3qmoq7D1P0wT/5vG1PY/sUdUj+H49z8VfKmC/Bz5P3qw/nUXQfo/3+RTaTJl+z9DGalcTYn8P6hN/k9orf0/DIJTQ4PR/j9xtqg2nvX/P2r1/pTcjABAnI+pDuoeAUDPKVSI97ABQAHE/gEFQwJAM16pexLVAkBm+FP1H2cDQJiS/m4t+QNAyiyp6DqLBED8xlNiSB0FQC9h/ttVrwVAYfuoVWNBBkCTlVPPcNMGQMYv/kh+ZQdA+Mmowov3B0AqZFM8mYkIQFz+/bWmGwlAj5ioL7StCUDBMlOpwT8KQPPM/SLP0QpAJmeonNxjC0BYAVMW6vULQA==\",\"dtype\":\"float64\",\"shape\":[50]},\"right\":{\"__ndarray__\":\"V/3Cymhssj/QIQsADFfCP/XEtJrjd8s/DDSvml1M0j+eBQRoydzWPzHXWDU1bds/w6itAqH93z8rPQFoBkfiP/Slq048j+Q/vQ5WNXLX5j+GdwAcqB/pP1DgqgLeZ+s/GUlV6ROw7T/isf/PSfjvP1UNVds/IPE/ukGqzlpE8j8fdv/BdWjzP4OqVLWQjPQ/6N6pqKuw9T9ME/+bxtT2P7FHVI/h+Pc/FXypgvwc+T96sP51F0H6P9/kU2kyZfs/QxmpXE2J/D+oTf5PaK39PwyCU0OD0f4/cbaoNp71/z9q9f6U3IwAQJyPqQ7qHgFAzylUiPewAUABxP4BBUMCQDNeqXsS1QJAZvhT9R9nA0CYkv5uLfkDQMosqeg6iwRA/MZTYkgdBUAvYf7bVa8FQGH7qFVjQQZAk5VTz3DTBkDGL/5IfmUHQPjJqMKL9wdAKmRTPJmJCEBc/v21phsJQI+YqC+0rQlAwTJTqcE/CkDzzP0iz9EKQCZnqJzcYwtAWAFTFur1C0CKm/2P94cMQA==\",\"dtype\":\"float64\",\"shape\":[50]},\"top\":{\"__ndarray__\":\"d7+SD3z/AkDR6OsUDWQCQKdCTv5qTQJAOH1DbN2wAEBO5nf9BEb+P2pCk0UAN/w//u4vBu1r/T+mBluTszD/P07md/0ERv4/ZkaA6KKt/D8Wc98aNVL7P+665EXVS/g/z/DjF7uj9j9+yU+fmBX0PxDB+1XGdfQ/fslPn5gV9D9YDAJy9s35P8/w4xe7o/Y/gN4n1ATR9D/uo3g0kHr1P27FUGCLqfA//3mfUBNE4z/+Nu/4HObsP/3VT5Ynie4//3mfUBNE4z//eZ9QE0TTPwAAAAAAAAAA/dVPlieJ3j8BQ7BX9l3mPz/MeAsLC+s/P8x4CwsL6z//eZ9QE0TTP/95n1ATRNM//3mfUBNE4z//eZ9QE0TTPwAAAAAAAAAAAAAAAAAAAAAAAAAAAADw/wAAAAAAAAAAAAAAAAAA8P8AAAAAAADw/wAAAAAAAPD/AAAAAAAA8P8AAAAAAADw/wAAAAAAAPD/AAAAAAAAAAAAAAAAAAAAAAAAAAAAAPD/AAAAAAAA8P8AAAAAAAAAAA==\",\"dtype\":\"float64\",\"shape\":[50]}},\"selected\":{\"id\":\"3934\",\"type\":\"Selection\"},\"selection_policy\":{\"id\":\"3935\",\"type\":\"UnionRenderers\"}},\"id\":\"3293\",\"type\":\"ColumnDataSource\"},{\"attributes\":{},\"id\":\"3975\",\"type\":\"UnionRenderers\"},{\"attributes\":{},\"id\":\"3140\",\"type\":\"HelpTool\"},{\"attributes\":{\"bottom\":{\"value\":0},\"fill_alpha\":{\"value\":0.05},\"fill_color\":{\"value\":\"#CB4777\"},\"left\":{\"field\":\"left\"},\"line_alpha\":{\"value\":0.05},\"line_color\":{\"value\":\"#7E03A7\"},\"right\":{\"field\":\"right\"},\"top\":{\"field\":\"top\"}},\"id\":\"3294\",\"type\":\"Quad\"},{\"attributes\":{},\"id\":\"4025\",\"type\":\"UnionRenderers\"},{\"attributes\":{\"data_source\":{\"id\":\"3148\",\"type\":\"ColumnDataSource\"},\"glyph\":{\"id\":\"3149\",\"type\":\"Quad\"},\"hover_glyph\":null,\"muted_glyph\":null,\"nonselection_glyph\":{\"id\":\"3150\",\"type\":\"Quad\"},\"selection_glyph\":null,\"view\":{\"id\":\"3152\",\"type\":\"CDSView\"}},\"id\":\"3151\",\"type\":\"GlyphRenderer\"},{\"attributes\":{\"source\":{\"id\":\"3223\",\"type\":\"ColumnDataSource\"}},\"id\":\"3227\",\"type\":\"CDSView\"},{\"attributes\":{\"bottom\":{\"value\":0},\"fill_alpha\":{\"value\":0.1},\"fill_color\":{\"value\":\"#1f77b4\"},\"left\":{\"field\":\"left\"},\"line_alpha\":{\"value\":0.1},\"line_color\":{\"value\":\"#1f77b4\"},\"right\":{\"field\":\"right\"},\"top\":{\"field\":\"top\"}},\"id\":\"3295\",\"type\":\"Quad\"},{\"attributes\":{},\"id\":\"4024\",\"type\":\"Selection\"},{\"attributes\":{\"source\":{\"id\":\"3148\",\"type\":\"ColumnDataSource\"}},\"id\":\"3152\",\"type\":\"CDSView\"},{\"attributes\":{},\"id\":\"3971\",\"type\":\"UnionRenderers\"},{\"attributes\":{},\"id\":\"4019\",\"type\":\"UnionRenderers\"},{\"attributes\":{\"data_source\":{\"id\":\"3293\",\"type\":\"ColumnDataSource\"},\"glyph\":{\"id\":\"3294\",\"type\":\"Quad\"},\"hover_glyph\":null,\"muted_glyph\":null,\"nonselection_glyph\":{\"id\":\"3295\",\"type\":\"Quad\"},\"selection_glyph\":null,\"view\":{\"id\":\"3297\",\"type\":\"CDSView\"}},\"id\":\"3296\",\"type\":\"GlyphRenderer\"},{\"attributes\":{},\"id\":\"3966\",\"type\":\"Selection\"},{\"attributes\":{},\"id\":\"4020\",\"type\":\"Selection\"},{\"attributes\":{},\"id\":\"4023\",\"type\":\"UnionRenderers\"},{\"attributes\":{\"callback\":null,\"data\":{\"left\":{\"__ndarray__\":\"M8iLZWAWQT9vLiv8x9WrP94WYDubs7s/QktVPCm+xD8Wi/rahKLLP3XlzzxwQ9E/XoUiDJ611D9IJXXbyyfYPzLFx6r5mds/HGUaeicM3z+DgrakKj/hP3jSX4xB+OI/bCIJdFix5D9hcrJbb2rmP1bCW0OGI+g/SxIFK53c6T9AYq4StJXrPzWyV/rKTu0/KgIB4uEH7z8PKdVkfGDwPwrRqdgHPfE/BHl+TJMZ8j//IFPAHvbyP/nIJzSq0vM/83D8pzWv9D/uGNEbwYv1P+jApY9MaPY/42h6A9hE9z/dEE93YyH4P9i4I+vu/fg/0mD4Xnra+T/NCM3SBbf6P8ewoUaRk/s/wVh2uhxw/D+8AEsuqEz9P7aoH6IzKf4/sVD0Fb8F/z+r+MiJSuL/P1PQzv5qXwBAUSS5uLDNAEBOeKNy9jsBQEvMjSw8qgFASCB45oEYAkBFdGKgx4YCQEPITFoN9QJAQBw3FFNjA0A9cCHOmNEDQDrEC4jePwRANxj2QSSuBEA1bOD7aRwFQA==\",\"dtype\":\"float64\",\"shape\":[50]},\"right\":{\"__ndarray__\":\"by4r/MfVqz/eFmA7m7O7P0JLVTwpvsQ/Fov62oSiyz915c88cEPRP16FIgyetdQ/SCV128sn2D8yxceq+ZnbPxxlGnonDN8/g4K2pCo/4T940l+MQfjiP2wiCXRYseQ/YXKyW29q5j9WwltDhiPoP0sSBSud3Ok/QGKuErSV6z81slf6yk7tPyoCAeLhB+8/DynVZHxg8D8K0anYBz3xPwR5fkyTGfI//yBTwB728j/5yCc0qtLzP/Nw/Kc1r/Q/7hjRG8GL9T/owKWPTGj2P+NoegPYRPc/3RBPd2Mh+D/YuCPr7v34P9Jg+F562vk/zQjN0gW3+j/HsKFGkZP7P8FYdroccPw/vABLLqhM/T+2qB+iMyn+P7FQ9BW/Bf8/q/jIiUri/z9T0M7+al8AQFEkubiwzQBATnijcvY7AUBLzI0sPKoBQEggeOaBGAJARXRioMeGAkBDyExaDfUCQEAcNxRTYwNAPXAhzpjRA0A6xAuI3j8EQDcY9kEkrgRANWzg+2kcBUAywMq1r4oFQA==\",\"dtype\":\"float64\",\"shape\":[50]},\"top\":{\"__ndarray__\":\"2ZrTOou0/j/uYMjcmRz/Py5lWjaaN/0//u4vBu1r/T+fATQClPj7P88zlG+xAf0/keLTgcGk/z/91U+WJ4n+P1gMAnL2zfk/boKgCJVL+j9/WMckGBX4P+pja3H7Zfc//3mfUBNE8z8fIwwujyf3P/6QC2JYFfY/f7LjjVNE8T9/suONU0TxPxDB+1XGdfQ/n0TkWYpW8j9uxVBgi6nwP/427/gc5uw//dVPlieJ7j/91U+WJ4neP/95n1ATRNM//3mfUBNE4z8AAAAAAAAAAP3VT5Ynid4/P8x4CwsL6z/+p3dzneboP/3VT5Ynid4/AAAAAAAAAAAAAAAAAAAAAAAAAAAAAPD/AAAAAAAA8P8AAAAAAADw/wAAAAAAAAAAAAAAAAAA8P8AAAAAAAAAAAAAAAAAAPD/AAAAAAAAAAAAAAAAAADw/wAAAAAAAAAAAAAAAAAA8P8AAAAAAADw/wAAAAAAAPD/AAAAAAAA8P8AAAAAAADw/wAAAAAAAPD/AAAAAAAA8P8AAAAAAAAAAA==\",\"dtype\":\"float64\",\"shape\":[50]}},\"selected\":{\"id\":\"3878\",\"type\":\"Selection\"},\"selection_policy\":{\"id\":\"3879\",\"type\":\"UnionRenderers\"}},\"id\":\"3153\",\"type\":\"ColumnDataSource\"},{\"attributes\":{\"source\":{\"id\":\"3293\",\"type\":\"ColumnDataSource\"}},\"id\":\"3297\",\"type\":\"CDSView\"},{\"attributes\":{},\"id\":\"3969\",\"type\":\"UnionRenderers\"},{\"attributes\":{},\"id\":\"4022\",\"type\":\"Selection\"},{\"attributes\":{\"bottom\":{\"value\":0},\"fill_alpha\":{\"value\":0.05},\"fill_color\":{\"value\":\"#CB4777\"},\"left\":{\"field\":\"left\"},\"line_alpha\":{\"value\":0.05},\"line_color\":{\"value\":\"#7E03A7\"},\"right\":{\"field\":\"right\"},\"top\":{\"field\":\"top\"}},\"id\":\"3154\",\"type\":\"Quad\"},{\"attributes\":{\"callback\":null,\"data\":{\"left\":{\"__ndarray__\":\"AAAAAAAAAADlmaR5EUKpP+WZpHkRQrk/bHM7G43xwj/lmaR5EULJP17ADdiVks8/bHM7G43x0j+oBnBKzxnWP+WZpHkRQtk/Ii3ZqFNq3D9ewA3YlZLfP80poQNsXeE/bHM7G43x4j8KvdUyroXkP6gGcErPGeY/R1AKYvCt5z/lmaR5EULpP4PjPpEy1uo/Ii3ZqFNq7D/AdnPAdP7tP17ADdiVku8//gTUd1uT8D/NKaEDbF3xP51Obo98J/I/bHM7G43x8j87mAinnbvzPwq91TKuhfQ/2eGivr5P9T+oBnBKzxn2P3grPdbf4/Y/R1AKYvCt9z8WddftAHj4P+WZpHkRQvk/tL5xBSIM+j+D4z6RMtb6P1IIDB1DoPs/Ii3ZqFNq/D/xUaY0ZDT9P8B2c8B0/v0/j5tATIXI/j9ewA3YlZL/P5dy7TFTLgBA/gTUd1uTAEBml7q9Y/gAQM0poQNsXQFANbyHSXTCAUCdTm6PfCcCQAThVNWEjAJAbHM7G43xAkDTBSJhlVYDQA==\",\"dtype\":\"float64\",\"shape\":[50]},\"right\":{\"__ndarray__\":\"5ZmkeRFCqT/lmaR5EUK5P2xzOxuN8cI/5ZmkeRFCyT9ewA3YlZLPP2xzOxuN8dI/qAZwSs8Z1j/lmaR5EULZPyIt2ahTatw/XsAN2JWS3z/NKaEDbF3hP2xzOxuN8eI/Cr3VMq6F5D+oBnBKzxnmP0dQCmLwrec/5ZmkeRFC6T+D4z6RMtbqPyIt2ahTauw/wHZzwHT+7T9ewA3YlZLvP/4E1Hdbk/A/zSmhA2xd8T+dTm6PfCfyP2xzOxuN8fI/O5gIp5278z8KvdUyroX0P9nhor6+T/U/qAZwSs8Z9j94Kz3W3+P2P0dQCmLwrfc/FnXX7QB4+D/lmaR5EUL5P7S+cQUiDPo/g+M+kTLW+j9SCAwdQ6D7PyIt2ahTavw/8VGmNGQ0/T/AdnPAdP79P4+bQEyFyP4/XsAN2JWS/z+Xcu0xUy4AQP4E1HdbkwBAZpe6vWP4AEDNKaEDbF0BQDW8h0l0wgFAnU5uj3wnAkAE4VTVhIwCQGxzOxuN8QJA0wUiYZVWA0A7mAinnbsDQA==\",\"dtype\":\"float64\",\"shape\":[50]},\"top\":{\"__ndarray__\":\"FxFV79FsA0B2R9D/kV8CQFAi8ixFKwFAygTl8wAYAUCmBluTszD/P54YoBPZyf4/NEWFQ6ZMAEC/zoWsc0QAQKYGW5OzMP8/9jC80a8i+j/2MLzRryL6P35vMzZd5vo/WAwCcvbN+T/uuuRF1Uv4P6CHlLGAtPg/f1jHJBgV+D9PErxDttLxPxDB+1XGdfQ//3mfUBNE8z9/suONU0TxP27FUGCLqfA/ABdsEUXR8j/91U+WJ4nePz/MeAsLC+s/bsVQYIup8D9/suONU0TxPwAAAAAAAPA//dVPlieJ3j8AAAAAAADw//95n1ATROM/AAAAAAAAAAD91U+WJ4neP/95n1ATROM//3mfUBNE0z8AAAAAAAAAAAAAAAAAAPD//3mfUBNE0z8AAAAAAADw//95n1ATRNM/AAAAAAAA8P8AAAAAAADw/wAAAAAAAPD/AAAAAAAA8P8AAAAAAADw/wAAAAAAAPD/AAAAAAAAAAAAAAAAAADw/wAAAAAAAPD/AAAAAAAAAAAAAAAAAAAAAA==\",\"dtype\":\"float64\",\"shape\":[50]}},\"selected\":{\"id\":\"3936\",\"type\":\"Selection\"},\"selection_policy\":{\"id\":\"3937\",\"type\":\"UnionRenderers\"}},\"id\":\"3298\",\"type\":\"ColumnDataSource\"},{\"attributes\":{},\"id\":\"3967\",\"type\":\"UnionRenderers\"},{\"attributes\":{},\"id\":\"3968\",\"type\":\"Selection\"},{\"attributes\":{},\"id\":\"4021\",\"type\":\"UnionRenderers\"},{\"attributes\":{\"bottom\":{\"value\":0},\"fill_alpha\":{\"value\":0.05},\"fill_color\":{\"value\":\"#CB4777\"},\"left\":{\"field\":\"left\"},\"line_alpha\":{\"value\":0.05},\"line_color\":{\"value\":\"#7E03A7\"},\"right\":{\"field\":\"right\"},\"top\":{\"field\":\"top\"}},\"id\":\"3299\",\"type\":\"Quad\"},{\"attributes\":{\"bottom\":{\"value\":0},\"fill_alpha\":{\"value\":0.1},\"fill_color\":{\"value\":\"#1f77b4\"},\"left\":{\"field\":\"left\"},\"line_alpha\":{\"value\":0.1},\"line_color\":{\"value\":\"#1f77b4\"},\"right\":{\"field\":\"right\"},\"top\":{\"field\":\"top\"}},\"id\":\"3155\",\"type\":\"Quad\"},{\"attributes\":{},\"id\":\"4014\",\"type\":\"Selection\"},{\"attributes\":{\"data_source\":{\"id\":\"3513\",\"type\":\"ColumnDataSource\"},\"glyph\":{\"id\":\"3514\",\"type\":\"Quad\"},\"hover_glyph\":null,\"muted_glyph\":null,\"nonselection_glyph\":{\"id\":\"3515\",\"type\":\"Quad\"},\"selection_glyph\":null,\"view\":{\"id\":\"3517\",\"type\":\"CDSView\"}},\"id\":\"3516\",\"type\":\"GlyphRenderer\"},{\"attributes\":{},\"id\":\"3989\",\"type\":\"UnionRenderers\"},{\"attributes\":{\"source\":{\"id\":\"3513\",\"type\":\"ColumnDataSource\"}},\"id\":\"3517\",\"type\":\"CDSView\"},{\"attributes\":{},\"id\":\"3984\",\"type\":\"Selection\"},{\"attributes\":{\"callback\":null,\"data\":{\"left\":{\"__ndarray__\":\"7g5NRGgUIT9bDFuZo2GnP9PlOGUZWbc/vSLifrCAwT+Q0idL1FTHP2OCbRf4KM0/G5nZ8Y1+0T8EcfzXn2jUP+5IH76xUtc/2CBCpMM82j/B+GSK1SbdP1XoQ7hzCOA/SlRVq3x94T8/wGaehfLiPzMseJGOZ+Q/KJiJhJfc5T8dBJt3oFHnPxJwrGqpxug/B9y9XbI76j/7R89Qu7DrP/Cz4EPEJe0/5R/yNs2a7j/sxQEV6wfwP+d7io5vwvA/4TETCPR88T/b55uBeDfyP9adJPv88fI/0FOtdIGs8z/KCTbuBWf0P8W/vmeKIfU/v3VH4Q7c9T+6K9Bak5b2P7ThWNQXUfc/rpfhTZwL+D+pTWrHIMb4P6MD80ClgPk/nrl7uik7+j+YbwQ0rvX6P5Ilja0ysPs/jdsVJ7dq/D+HkZ6gOyX9P4FHJxrA3/0/fP2vk0Sa/j92szgNyVT/P7i0YMOmBwBAtQ8lAOlkAECzauk8K8IAQLDFrXltHwFArSBytq98AUCqezbz8dkBQA==\",\"dtype\":\"float64\",\"shape\":[50]},\"right\":{\"__ndarray__\":\"WwxbmaNhpz/T5ThlGVm3P70i4n6wgME/kNInS9RUxz9jgm0X+CjNPxuZ2fGNftE/BHH8159o1D/uSB++sVLXP9ggQqTDPNo/wfhkitUm3T9V6EO4cwjgP0pUVat8feE/P8BmnoXy4j8zLHiRjmfkPyiYiYSX3OU/HQSbd6BR5z8ScKxqqcboPwfcvV2yO+o/+0fPULuw6z/ws+BDxCXtP+Uf8jbNmu4/7MUBFesH8D/ne4qOb8LwP+ExEwj0fPE/2+ebgXg38j/WnST7/PHyP9BTrXSBrPM/ygk27gVn9D/Fv75niiH1P791R+EO3PU/uivQWpOW9j+04VjUF1H3P66X4U2cC/g/qU1qxyDG+D+jA/NApYD5P565e7opO/o/mG8ENK71+j+SJY2tMrD7P43bFSe3avw/h5GeoDsl/T+BRycawN/9P3z9r5NEmv4/drM4DclU/z+4tGDDpgcAQLUPJQDpZABAs2rpPCvCAECwxa15bR8BQK0gcravfAFAqns28/HZAUCn1vovNDcCQA==\",\"dtype\":\"float64\",\"shape\":[50]},\"top\":{\"__ndarray__\":\"P9nxximiAEBpWf9WRQj/P54YoBPZyf4/akKTRQA3/D/+7i8G7Wv9PwA/DoVf6P0/akKTRQA3/D/u8EDraFX8P84HUCkAdfk/T88L7L90+z8BQ7BX9l32PwFDsFf2XfY/f/WT5Umi9z9+4Luw3eb2P37gu7Dd5vY/l31LNeuv8z+fW1Brzyf1P/3VT5Ynie4/AUOwV/Zd9j8AvU+oCaL5P37JT5+YFfQ/AAAAAAAA8D+fW1Brzyf1P5d9SzXrr/M/bsVQYIup8D9/+Zsgo8n1P5d9SzXrr/M/n1tQa88n9T//eZ9QE0TzPz/MeAsLC+s//jbv+Bzm7D8/zHgLCwvrP/95n1ATRNM//3mfUBNE0z/+p3dzneboP/427/gc5uw/AUOwV/Zd5j//eZ9QE0TTP/95n1ATRNM/AAAAAAAAAAAAAAAAAADw/wAAAAAAAAAA/dVPlieJ3j8AAAAAAADw/wAAAAAAAPD//3mfUBNE0z8AAAAAAAAAAAAAAAAAAPD/AAAAAAAA8P8AAAAAAAAAAA==\",\"dtype\":\"float64\",\"shape\":[50]}},\"selected\":{\"id\":\"4024\",\"type\":\"Selection\"},\"selection_policy\":{\"id\":\"4025\",\"type\":\"UnionRenderers\"}},\"id\":\"3518\",\"type\":\"ColumnDataSource\"},{\"attributes\":{},\"id\":\"3985\",\"type\":\"UnionRenderers\"},{\"attributes\":{\"callback\":null,\"data\":{\"left\":{\"__ndarray__\":\"Dgw0Xox9TD8k9W6zMsanPwyNspo3jbc/w8/W7aqbwT8AWVQOunDHPz3i0S7JRc0/vbWnJ2yN0T9ceua383fUP/o+JUh7Ytc/mANk2AJN2j83yKJoijfdP2vGcPwIEeA/uiiQxEyG4T8Ji6+MkPviP1ntzlTUcOQ/qE/uHBjm5T/3sQ3lW1vnP0YULa2f0Og/lXZMdeNF6j/l2Gs9J7vrPzQ7iwVrMO0/g52qza6l7j/q/+RKeQ3wPxGx9C4byPA/OWIEE72C8T9hExT3Xj3yP4jEI9sA+PI/sHUzv6Ky8z/YJkOjRG30P//XUofmJ/U/J4lia4ji9T9OOnJPKp32P3brgTPMV/c/npyRF24S+D/FTaH7D834P+3+sN+xh/k/FLDAw1NC+j88YdCn9fz6P2QS4IuXt/s/i8Pvbzly/D+zdP9T2yz9P9slDzh95/0/AtceHB+i/j8qiC4AwVz/P6kcH3KxCwBAPfUmZAJpAEDQzS5WU8YAQGSmNkikIwFA+H4+OvWAAUCMV0YsRt4BQA==\",\"dtype\":\"float64\",\"shape\":[50]},\"right\":{\"__ndarray__\":\"JPVuszLGpz8MjbKaN423P8PP1u2qm8E/AFlUDrpwxz894tEuyUXNP721pydsjdE/XHrmt/N31D/6PiVIe2LXP5gDZNgCTdo/N8iiaIo33T9rxnD8CBHgP7ookMRMhuE/CYuvjJD74j9Z7c5U1HDkP6hP7hwY5uU/97EN5Vtb5z9GFC2tn9DoP5V2THXjReo/5dhrPSe76z80O4sFazDtP4Odqs2upe4/6v/kSnkN8D8RsfQuG8jwPzliBBO9gvE/YRMU91498j+IxCPbAPjyP7B1M7+isvM/2CZDo0Rt9D//11KH5if1PyeJYmuI4vU/TjpyTyqd9j9264EzzFf3P56ckRduEvg/xU2h+w/N+D/t/rDfsYf5PxSwwMNTQvo/PGHQp/X8+j9kEuCLl7f7P4vD7285cvw/s3T/U9ss/T/bJQ84fef9PwLXHhwfov4/KoguAMFc/z+pHB9ysQsAQD31JmQCaQBA0M0uVlPGAEBkpjZIpCMBQPh+Pjr1gAFAjFdGLEbeAUAgME4elzsCQA==\",\"dtype\":\"float64\",\"shape\":[50]},\"top\":{\"__ndarray__\":\"zqZ0KNHJ/z+XOpvd9FH9P3+bd3wOc/4/7+YojIbY+z9ktKGhK9D9P/427/gc5vw/UyADE8Ge/T9/tuvIrGv/P38MAPeOc/o/F1xzCfCA+D8AvU+oCaL5P/6nd3Od5vg//qd3c53m+D9/9ZPlSaL3P+6jeDSQevU/fslPn5gV9D9/9ZPlSaL3P/6+44Tit/s/7rrkRdVL+D/P8OMXu6P2P+665EXVS/g/5mdYFJ7c9z8AAAAAAADwP5d9SzXrr/M/EMH7VcZ19D9/suONU0TxP/427/gc5uw/f7LjjVNE8T//eZ9QE0TjPz/MeAsLC+s//jbv+Bzm7D/+p3dzneboPwFDsFf2XeY//dVPlieJ3j8AAAAAAAAAAAAAAAAAAAAA/dVPlieJ3j8AAAAAAAAAAAAAAAAAAAAAAAAAAAAAAAAAAAAAAAAAAAAAAAAAAPD/AAAAAAAA8P8AAAAAAADw/wAAAAAAAPD/AAAAAAAA8P8AAAAAAADw/wAAAAAAAAAAAAAAAAAA8P8AAAAAAAAAAA==\",\"dtype\":\"float64\",\"shape\":[50]}},\"selected\":{\"id\":\"4054\",\"type\":\"Selection\"},\"selection_policy\":{\"id\":\"4055\",\"type\":\"UnionRenderers\"}},\"id\":\"3593\",\"type\":\"ColumnDataSource\"},{\"attributes\":{},\"id\":\"3983\",\"type\":\"UnionRenderers\"},{\"attributes\":{\"bottom\":{\"value\":0},\"fill_alpha\":{\"value\":0.05},\"fill_color\":{\"value\":\"#CB4777\"},\"left\":{\"field\":\"left\"},\"line_alpha\":{\"value\":0.05},\"line_color\":{\"value\":\"#7E03A7\"},\"right\":{\"field\":\"right\"},\"top\":{\"field\":\"top\"}},\"id\":\"3519\",\"type\":\"Quad\"},{\"attributes\":{},\"id\":\"3986\",\"type\":\"Selection\"},{\"attributes\":{\"bottom\":{\"value\":0},\"fill_alpha\":{\"value\":0.1},\"fill_color\":{\"value\":\"#1f77b4\"},\"left\":{\"field\":\"left\"},\"line_alpha\":{\"value\":0.1},\"line_color\":{\"value\":\"#1f77b4\"},\"right\":{\"field\":\"right\"},\"top\":{\"field\":\"top\"}},\"id\":\"3520\",\"type\":\"Quad\"},{\"attributes\":{},\"id\":\"3987\",\"type\":\"UnionRenderers\"},{\"attributes\":{\"data_source\":{\"id\":\"3518\",\"type\":\"ColumnDataSource\"},\"glyph\":{\"id\":\"3519\",\"type\":\"Quad\"},\"hover_glyph\":null,\"muted_glyph\":null,\"nonselection_glyph\":{\"id\":\"3520\",\"type\":\"Quad\"},\"selection_glyph\":null,\"view\":{\"id\":\"3522\",\"type\":\"CDSView\"}},\"id\":\"3521\",\"type\":\"GlyphRenderer\"},{\"attributes\":{\"source\":{\"id\":\"3518\",\"type\":\"ColumnDataSource\"}},\"id\":\"3522\",\"type\":\"CDSView\"},{\"attributes\":{},\"id\":\"3876\",\"type\":\"Selection\"},{\"attributes\":{},\"id\":\"3988\",\"type\":\"Selection\"},{\"attributes\":{\"callback\":null,\"data\":{\"left\":{\"__ndarray__\":\"85buF0vFBj/76gcSSWC3PxFsVr3cXsc/U3HUeMqG0T+drP2SJl7XP+fnJq2CNd0/mBGoY2+G4T89r7xwHXLkP+JM0X3LXec/h+rlinlJ6j8siPqXJzXtP+mSh9JqEPA/u+ER2UGG8T+NMJzfGPzyP2B/JubvcfQ/M86w7Mbn9T8FHTvznV33P9drxfl00/g/qrpPAExJ+j99CdoGI7/7P09YZA36NP0/IafuE9Gq/j/7ejwNVBAAQGSigZA/ywBAzcnGEyuGAUA28QuXFkECQJ8YURoC/AJACUCWne22A0ByZ9sg2XEEQNuOIKTELAVARbZlJ7DnBUCu3aqqm6IGQBcF8C2HXQdAgCw1sXIYCEDpU3o0XtMIQFN7v7dJjglAvKIEOzVJCkAlykm+IAQLQI/xjkEMvwtA+BjUxPd5DEBhQBlI4zQNQMpnXsvO7w1AM4+jTrqqDkCdtujRpWUPQAPvlqpIEBBAt4I5bL5tEEBsFtwtNMsQQCCqfu+pKBFA1T0hsR+GEUCK0cNyleMRQA==\",\"dtype\":\"float64\",\"shape\":[50]},\"right\":{\"__ndarray__\":\"++oHEklgtz8RbFa93F7HP1Nx1HjKhtE/naz9kiZe1z/n5yatgjXdP5gRqGNvhuE/Pa+8cB1y5D/iTNF9y13nP4fq5Yp5Seo/LIj6lyc17T/pkofSahDwP7vhEdlBhvE/jTCc3xj88j9gfybm73H0PzPOsOzG5/U/BR07851d9z/Xa8X5dNP4P6q6TwBMSfo/fQnaBiO/+z9PWGQN+jT9PyGn7hPRqv4/+3o8DVQQAEBkooGQP8sAQM3JxhMrhgFANvELlxZBAkCfGFEaAvwCQAlAlp3ttgNAcmfbINlxBEDbjiCkxCwFQEW2ZSew5wVArt2qqpuiBkAXBfAth10HQIAsNbFyGAhA6VN6NF7TCEBTe7+3SY4JQLyiBDs1SQpAJcpJviAEC0CP8Y5BDL8LQPgY1MT3eQxAYUAZSOM0DUDKZ17Lzu8NQDOPo066qg5Anbbo0aVlD0AD75aqSBAQQLeCOWy+bRBAbBbcLTTLEEAgqn7vqSgRQNU9IbEfhhFAitHDcpXjEUA+ZWY0C0ESQA==\",\"dtype\":\"float64\",\"shape\":[50]},\"top\":{\"__ndarray__\":\"Fp97FNySBECXfUs1668DQINcYWYhmAJAv+Yr7XgeAUCn/nEHpYsAQBB+S/7PF/4/AAAAAAAAAECOKw3mEC/+P/7uLwbta/0/zgdQKQB1+T+fW1Brzyf1P+pja3H7Zfc/EMH7VcZ19D9+yU+fmBX0P3/5myCjyfU/f1jHJBgV+D9/suONU0TxP3+y441TRPE/f/mbIKPJ9T8AAAAAAADwPz/MeAsLC+s//dVPlieJ3j/91U+WJ4neP/3VT5Ynie4//3mfUBNE4z8AAAAAAADwPwFDsFf2XeY//3mfUBNE0z8AAAAAAADw//95n1ATRNM/AAAAAAAA8P8AAAAAAAAAAP95n1ATRNM//3mfUBNE0z8AAAAAAAAAAAAAAAAAAPD/AAAAAAAA8P8AAAAAAAAAAAAAAAAAAAAAAAAAAAAAAAD/eZ9QE0TTPwAAAAAAAPD//3mfUBNE0z8AAAAAAADw/wAAAAAAAPD/AAAAAAAA8P8AAAAAAADw/wAAAAAAAPD/AAAAAAAA8P8AAAAAAAAAAA==\",\"dtype\":\"float64\",\"shape\":[50]}},\"selected\":{\"id\":\"4026\",\"type\":\"Selection\"},\"selection_policy\":{\"id\":\"4027\",\"type\":\"UnionRenderers\"}},\"id\":\"3523\",\"type\":\"ColumnDataSource\"},{\"attributes\":{},\"id\":\"3878\",\"type\":\"Selection\"},{\"attributes\":{\"bottom\":{\"value\":0},\"fill_alpha\":{\"value\":0.05},\"fill_color\":{\"value\":\"#CB4777\"},\"left\":{\"field\":\"left\"},\"line_alpha\":{\"value\":0.05},\"line_color\":{\"value\":\"#7E03A7\"},\"right\":{\"field\":\"right\"},\"top\":{\"field\":\"top\"}},\"id\":\"3524\",\"type\":\"Quad\"},{\"attributes\":{},\"id\":\"3877\",\"type\":\"UnionRenderers\"},{\"attributes\":{\"bottom\":{\"value\":0},\"fill_alpha\":{\"value\":0.1},\"fill_color\":{\"value\":\"#1f77b4\"},\"left\":{\"field\":\"left\"},\"line_alpha\":{\"value\":0.1},\"line_color\":{\"value\":\"#1f77b4\"},\"right\":{\"field\":\"right\"},\"top\":{\"field\":\"top\"}},\"id\":\"3525\",\"type\":\"Quad\"},{\"attributes\":{\"data_source\":{\"id\":\"3523\",\"type\":\"ColumnDataSource\"},\"glyph\":{\"id\":\"3524\",\"type\":\"Quad\"},\"hover_glyph\":null,\"muted_glyph\":null,\"nonselection_glyph\":{\"id\":\"3525\",\"type\":\"Quad\"},\"selection_glyph\":null,\"view\":{\"id\":\"3527\",\"type\":\"CDSView\"}},\"id\":\"3526\",\"type\":\"GlyphRenderer\"},{\"attributes\":{},\"id\":\"3885\",\"type\":\"UnionRenderers\"},{\"attributes\":{\"source\":{\"id\":\"3523\",\"type\":\"ColumnDataSource\"}},\"id\":\"3527\",\"type\":\"CDSView\"},{\"attributes\":{},\"id\":\"3886\",\"type\":\"Selection\"},{\"attributes\":{\"callback\":null,\"data\":{\"left\":{\"__ndarray__\":\"TVmJSTuGUj87GOpmH3ezP4kFV/ASUsM/9P44LZbozD8vfA21jD/TP+V4flPOCtg/mnXv8Q/W3D8oOTDIqNDgP4O3aJdJNuM/3jWhZuqb5T85tNk1iwHoP5MyEgUsZ+o/7rBK1MzM7D9JL4OjbTLvP9HWXTkHzPA//xX6oNf+8T8sVZYIqDHzP1mUMnB4ZPQ/h9PO10iX9T+0Ems/Gcr2P+JRB6fp/Pc/D5GjDrov+T880D92imL6P2oP3N1alfs/l054RSvI/D/EjRSt+/r9P/LMsBTMLf8/EIYmPk4wAECmpfRxtskAQD3FwqUeYwFA1OSQ2Yb8AUBqBF8N75UCQAEkLUFXLwNAmEP7dL/IA0AuY8moJ2IEQMWCl9yP+wRAXKJlEPiUBUDywTNEYC4GQInhAXjIxwZAIAHQqzBhB0C3IJ7fmPoHQE1AbBMBlAhA5F86R2ktCUB7fwh70cYJQBGf1q45YApAqL6k4qH5CkA/3nIWCpMLQNX9QEpyLAxAbB0PftrFDEADPd2xQl8NQA==\",\"dtype\":\"float64\",\"shape\":[50]},\"right\":{\"__ndarray__\":\"OxjqZh93sz+JBVfwElLDP/T+OC2W6Mw/L3wNtYw/0z/leH5TzgrYP5p17/EP1tw/KDkwyKjQ4D+Dt2iXSTbjP941oWbqm+U/ObTZNYsB6D+TMhIFLGfqP+6wStTMzOw/SS+Do20y7z/R1l05B8zwP/8V+qDX/vE/LFWWCKgx8z9ZlDJweGT0P4fTztdIl/U/tBJrPxnK9j/iUQen6fz3Pw+Row66L/k/PNA/dopi+j9qD9zdWpX7P5dOeEUryPw/xI0Urfv6/T/yzLAUzC3/PxCGJj5OMABApqX0cbbJAEA9xcKlHmMBQNTkkNmG/AFAagRfDe+VAkABJC1BVy8DQJhD+3S/yANALmPJqCdiBEDFgpfcj/sEQFyiZRD4lAVA8sEzRGAuBkCJ4QF4yMcGQCAB0KswYQdAtyCe35j6B0BNQGwTAZQIQORfOkdpLQlAe38Ie9HGCUARn9auOWAKQKi+pOKh+QpAP95yFgqTC0DV/UBKciwMQGwdD37axQxAAz3dsUJfDUCZXKvlqvgNQA==\",\"dtype\":\"float64\",\"shape\":[50]},\"top\":{\"__ndarray__\":\"dQ/kpbTz/j9+hp9Horf9P38MAPeOc/o/9jC80a8i+j8Wc98aNVL7P3/1k+VJovc/EMH7VcZ19D9+bzM2Xeb6P+665EXVS/g//pALYlgV9j8AAAAAAADwP1gMAnL2zfk/f7LjjVNE8T8QwftVxnX0P3+y441TRPE//qd3c53m6D//eZ9QE0TjP/6nd3Od5ug//3mfUBNE4z/+p3dzneboPwAAAAAAAPA//3mfUBNE4z/91U+WJ4neP/427/gc5uw//3mfUBNE4z/91U+WJ4nePwAAAAAAAAAAAAAAAAAA8P/+p3dzneboP/6nd3Od5ug//dVPlieJ3j/+p3dzneboP08SvEO20vE/l31LNeuv8z/91U+WJ4nePwAAAAAAAAAAAAAAAAAAAAA/zHgLCwvrP/95n1ATROM/AAAAAAAAAAD/eZ9QE0TTPwAAAAAAAPD/AAAAAAAAAAAAAAAAAAAAAAAAAAAAAPD/AAAAAAAA8P8AAAAAAADw/wAAAAAAAPD/AAAAAAAAAAD/eZ9QE0TTPw==\",\"dtype\":\"float64\",\"shape\":[50]}},\"selected\":{\"id\":\"4028\",\"type\":\"Selection\"},\"selection_policy\":{\"id\":\"4029\",\"type\":\"UnionRenderers\"}},\"id\":\"3528\",\"type\":\"ColumnDataSource\"},{\"attributes\":{},\"id\":\"3889\",\"type\":\"UnionRenderers\"},{\"attributes\":{\"bottom\":{\"value\":0},\"fill_alpha\":{\"value\":0.05},\"fill_color\":{\"value\":\"#CB4777\"},\"left\":{\"field\":\"left\"},\"line_alpha\":{\"value\":0.05},\"line_color\":{\"value\":\"#7E03A7\"},\"right\":{\"field\":\"right\"},\"top\":{\"field\":\"top\"}},\"id\":\"3529\",\"type\":\"Quad\"},{\"attributes\":{},\"id\":\"3879\",\"type\":\"UnionRenderers\"},{\"attributes\":{},\"id\":\"3883\",\"type\":\"UnionRenderers\"},{\"attributes\":{\"bottom\":{\"value\":0},\"fill_alpha\":{\"value\":0.1},\"fill_color\":{\"value\":\"#1f77b4\"},\"left\":{\"field\":\"left\"},\"line_alpha\":{\"value\":0.1},\"line_color\":{\"value\":\"#1f77b4\"},\"right\":{\"field\":\"right\"},\"top\":{\"field\":\"top\"}},\"id\":\"3530\",\"type\":\"Quad\"},{\"attributes\":{\"data_source\":{\"id\":\"3528\",\"type\":\"ColumnDataSource\"},\"glyph\":{\"id\":\"3529\",\"type\":\"Quad\"},\"hover_glyph\":null,\"muted_glyph\":null,\"nonselection_glyph\":{\"id\":\"3530\",\"type\":\"Quad\"},\"selection_glyph\":null,\"view\":{\"id\":\"3532\",\"type\":\"CDSView\"}},\"id\":\"3531\",\"type\":\"GlyphRenderer\"},{\"attributes\":{},\"id\":\"3887\",\"type\":\"UnionRenderers\"},{\"attributes\":{\"source\":{\"id\":\"3528\",\"type\":\"ColumnDataSource\"}},\"id\":\"3532\",\"type\":\"CDSView\"},{\"attributes\":{\"callback\":null,\"data\":{\"left\":{\"__ndarray__\":\"AAAAAAAAAADQWVpTGKyxP9BZWlMYrME/uIYHfSSCyj/QWVpTGKzRP0TwMGgeF9Y/uIYHfSSC2j8sHd6RKu3eP9BZWlMYrOE/CqXFXZvh4z9E8DBoHhfmP347nHKhTOg/uIYHfSSC6j/y0XKHp7fsPywd3pEq7e4/M7QkzlaR8D/QWVpTGKzxP23/j9jZxvI/CqXFXZvh8z+nSvviXPz0P0TwMGgeF/Y/4ZVm7d8x9z9+O5xyoUz4Pxvh0fdiZ/k/uIYHfSSC+j9VLD0C5pz7P/LRcoent/w/j3eoDGnS/T8sHd6RKu3+P2ThiQv2AwBAM7QkzlaRAEACh7+Qtx4BQNBZWlMYrAFAniz1FXk5AkBt/4/Y2cYCQDzSKps6VANACqXFXZvhA0DYd2Ag/G4EQKdK++Jc/ARAdh2Wpb2JBUBE8DBoHhcGQBLDyyp/pAZA4ZVm7d8xB0CwaAGwQL8HQH47nHKhTAhATA43NQLaCEAb4dH3YmcJQOqzbLrD9AlAuIYHfSSCCkCGWaI/hQ8LQA==\",\"dtype\":\"float64\",\"shape\":[50]},\"right\":{\"__ndarray__\":\"0FlaUxissT/QWVpTGKzBP7iGB30kgso/0FlaUxis0T9E8DBoHhfWP7iGB30kgto/LB3ekSrt3j/QWVpTGKzhPwqlxV2b4eM/RPAwaB4X5j9+O5xyoUzoP7iGB30kguo/8tFyh6e37D8sHd6RKu3uPzO0JM5WkfA/0FlaUxis8T9t/4/Y2cbyPwqlxV2b4fM/p0r74lz89D9E8DBoHhf2P+GVZu3fMfc/fjuccqFM+D8b4dH3Ymf5P7iGB30kgvo/VSw9Auac+z/y0XKHp7f8P493qAxp0v0/LB3ekSrt/j9k4YkL9gMAQDO0JM5WkQBAAoe/kLceAUDQWVpTGKwBQJ4s9RV5OQJAbf+P2NnGAkA80iqbOlQDQAqlxV2b4QNA2HdgIPxuBECnSvviXPwEQHYdlqW9iQVARPAwaB4XBkASw8sqf6QGQOGVZu3fMQdAsGgBsEC/B0B+O5xyoUwIQEwONzUC2ghAG+HR92JnCUDqs2y6w/QJQLiGB30kggpAhlmiP4UPC0BVLD0C5pwLQA==\",\"dtype\":\"float64\",\"shape\":[50]},\"top\":{\"__ndarray__\":\"NyaaQcXlBUD3kpsIc+AEQDINHtF4kARAATBK1TKKA0AnTgSHDbYDQH/IBTGsCgNArLx9B8jCAUCzRBigzIUBQD/Z8cYpogBAiMrbh4p0AEC/qqDfD9z/P2KsvY/TMwBAakKTRQA3/D+XOpvd9FH9P1gMAnL2zfk/6mNrcftl9z8fOng/1Pj5PxZz3xo1Uvs//pALYlgV9j+fRORZilbyP3/5myCjyfU/AL1PqAmi+T/+Nu/4HObsPz/MeAsLC+s//dVPlieJ3j/91U+WJ4neP/95n1ATRNM//3mfUBNE0z9uxVBgi6nwPwFDsFf2XeY//3mfUBNE4z/91U+WJ4neP/3VT5Ynid4/AAAAAAAAAAAAAAAAAADw/wAAAAAAAAAAAAAAAAAAAAAAAAAAAAAAAAAAAAAAAPD/AAAAAAAA8P8AAAAAAAAAAAAAAAAAAPD/AAAAAAAA8P8AAAAAAADw/wAAAAAAAPD/AAAAAAAA8P8AAAAAAADw/wAAAAAAAPD/AAAAAAAA8P8AAAAAAAAAAA==\",\"dtype\":\"float64\",\"shape\":[50]}},\"selected\":{\"id\":\"4030\",\"type\":\"Selection\"},\"selection_policy\":{\"id\":\"4031\",\"type\":\"UnionRenderers\"}},\"id\":\"3533\",\"type\":\"ColumnDataSource\"},{\"attributes\":{\"bottom\":{\"value\":0},\"fill_alpha\":{\"value\":0.05},\"fill_color\":{\"value\":\"#CB4777\"},\"left\":{\"field\":\"left\"},\"line_alpha\":{\"value\":0.05},\"line_color\":{\"value\":\"#7E03A7\"},\"right\":{\"field\":\"right\"},\"top\":{\"field\":\"top\"}},\"id\":\"3534\",\"type\":\"Quad\"},{\"attributes\":{\"bottom\":{\"value\":0},\"fill_alpha\":{\"value\":0.1},\"fill_color\":{\"value\":\"#1f77b4\"},\"left\":{\"field\":\"left\"},\"line_alpha\":{\"value\":0.1},\"line_color\":{\"value\":\"#1f77b4\"},\"right\":{\"field\":\"right\"},\"top\":{\"field\":\"top\"}},\"id\":\"3535\",\"type\":\"Quad\"},{\"attributes\":{\"data_source\":{\"id\":\"3533\",\"type\":\"ColumnDataSource\"},\"glyph\":{\"id\":\"3534\",\"type\":\"Quad\"},\"hover_glyph\":null,\"muted_glyph\":null,\"nonselection_glyph\":{\"id\":\"3535\",\"type\":\"Quad\"},\"selection_glyph\":null,\"view\":{\"id\":\"3537\",\"type\":\"CDSView\"}},\"id\":\"3536\",\"type\":\"GlyphRenderer\"},{\"attributes\":{\"source\":{\"id\":\"3533\",\"type\":\"ColumnDataSource\"}},\"id\":\"3537\",\"type\":\"CDSView\"},{\"attributes\":{\"callback\":null,\"data\":{\"left\":{\"__ndarray__\":\"gxqEr1XHNj9z4tG8yf+wP2Ug+hFm9MA/kU+LRedoyT9fP448tO7QP/XWVtb0KNU/i24fcDVj2T8hBugJdp3dP9tO2FHb6+A/ppq8nvsI4z9x5qDrGyblPzwyhTg8Q+c/B35phVxg6T/SyU3SfH3rP50VMh+dmu0/aGEWbL237z+aVn3cburwP4B87wL/+PE/ZaJhKY8H8z9KyNNPHxb0PzDuRXavJPU/FhS4nD8z9j/7OSrDz0H3P+BfnOlfUPg/xoUOEPBe+T+sq4A2gG36P5HR8lwQfPs/dvdkg6CK/D9cHdepMJn9P0JDSdDAp/4/J2m79lC2/z+Gx5aOcGIAQHnaz6G46QBAbO0ItQBxAUBfAELISPgBQFETe9uQfwJARCa07tgGA0A3Oe0BIY4DQClMJhVpFQRAHF9fKLGcBEAPcpg7+SMFQAKF0U5BqwVA9ZcKYokyBkDnqkN10bkGQNq9fIgZQQdAzdC1m2HIB0C/4+6uqU8IQLL2J8Lx1ghApQlh1TleCUCYHJrogeUJQA==\",\"dtype\":\"float64\",\"shape\":[50]},\"right\":{\"__ndarray__\":\"c+LRvMn/sD9lIPoRZvTAP5FPi0XnaMk/Xz+OPLTu0D/11lbW9CjVP4tuH3A1Y9k/IQboCXad3T/bTthR2+vgP6aavJ77COM/ceag6xsm5T88MoU4PEPnPwd+aYVcYOk/0slN0nx96z+dFTIfnZrtP2hhFmy9t+8/mlZ93G7q8D+AfO8C//jxP2WiYSmPB/M/SsjTTx8W9D8w7kV2ryT1PxYUuJw/M/Y/+zkqw89B9z/gX5zpX1D4P8aFDhDwXvk/rKuANoBt+j+R0fJcEHz7P3b3ZIOgivw/XB3XqTCZ/T9CQ0nQwKf+Pydpu/ZQtv8/hseWjnBiAEB52s+huOkAQGztCLUAcQFAXwBCyEj4AUBRE3vbkH8CQEQmtO7YBgNANzntASGOA0ApTCYVaRUEQBxfXyixnARAD3KYO/kjBUAChdFOQasFQPWXCmKJMgZA56pDddG5BkDavXyIGUEHQM3QtZthyAdAv+PurqlPCECy9ifC8dYIQKUJYdU5XglAmBya6IHlCUCKL9P7yWwKQA==\",\"dtype\":\"float64\",\"shape\":[50]},\"top\":{\"__ndarray__\":\"S8pbI5hAA0DgdqgbAx0DQKdCTv5qTQJAgAu2iKJoAUDMvqWa9dcBQGfiz+iEiwFAOH1DbN2wAEAoCd4hW+kAQG2weCsf7v8/HZkgg+6R/z9lXez5537/P58BNAKU+Ps/kLaPOxAY/D8eUeRQGcr8P39YxyQYFfg/7qN4NJB69T/P8OMXu6P2P3/5myCjyfU/n0TkWYpW8j8AAAAAAADwP59E5FmKVvI/n0TkWYpW8j9/suONU0TxP08SvEO20vE/TxK8Q7bS8T9/suONU0TxP/427/gc5uw//3mfUBNE4z//eZ9QE0TTPwAAAAAAAAAA/3mfUBNE4z8AAAAAAADw/wAAAAAAAPD//3mfUBNE0z8AAAAAAAAAAAAAAAAAAPD/AAAAAAAA8P8AAAAAAADw//95n1ATRNM//3mfUBNE4z8AAAAAAAAAAP3VT5Ynid4/AAAAAAAA8P8AAAAAAAAAAAAAAAAAAPD/AAAAAAAA8P8AAAAAAADw/wAAAAAAAPD/AAAAAAAA8P//eZ9QE0TjPw==\",\"dtype\":\"float64\",\"shape\":[50]}},\"selected\":{\"id\":\"4032\",\"type\":\"Selection\"},\"selection_policy\":{\"id\":\"4033\",\"type\":\"UnionRenderers\"}},\"id\":\"3538\",\"type\":\"ColumnDataSource\"},{\"attributes\":{\"bottom\":{\"value\":0},\"fill_alpha\":{\"value\":0.05},\"fill_color\":{\"value\":\"#CB4777\"},\"left\":{\"field\":\"left\"},\"line_alpha\":{\"value\":0.05},\"line_color\":{\"value\":\"#7E03A7\"},\"right\":{\"field\":\"right\"},\"top\":{\"field\":\"top\"}},\"id\":\"3539\",\"type\":\"Quad\"},{\"attributes\":{},\"id\":\"3888\",\"type\":\"Selection\"},{\"attributes\":{},\"id\":\"3880\",\"type\":\"Selection\"},{\"attributes\":{\"bottom\":{\"value\":0},\"fill_alpha\":{\"value\":0.1},\"fill_color\":{\"value\":\"#1f77b4\"},\"left\":{\"field\":\"left\"},\"line_alpha\":{\"value\":0.1},\"line_color\":{\"value\":\"#1f77b4\"},\"right\":{\"field\":\"right\"},\"top\":{\"field\":\"top\"}},\"id\":\"3540\",\"type\":\"Quad\"},{\"attributes\":{},\"id\":\"3890\",\"type\":\"Selection\"},{\"attributes\":{\"data_source\":{\"id\":\"3538\",\"type\":\"ColumnDataSource\"},\"glyph\":{\"id\":\"3539\",\"type\":\"Quad\"},\"hover_glyph\":null,\"muted_glyph\":null,\"nonselection_glyph\":{\"id\":\"3540\",\"type\":\"Quad\"},\"selection_glyph\":null,\"view\":{\"id\":\"3542\",\"type\":\"CDSView\"}},\"id\":\"3541\",\"type\":\"GlyphRenderer\"},{\"attributes\":{\"source\":{\"id\":\"3538\",\"type\":\"ColumnDataSource\"}},\"id\":\"3542\",\"type\":\"CDSView\"},{\"attributes\":{\"callback\":null,\"data\":{\"left\":{\"__ndarray__\":\"LpODp2tiUD/4hoMeKCSwP9J/NEdjA8A/Jzwnf7L0xz99+Bm3AebPP2lahneo69M/lLh/E1Dk1z+/Fnmv99zbP+p0ckuf1d8/i+m1cyPn4T+gmLJBd+PjP7ZHrw/L3+U/y/ar3R7c5z/hpairctjpP/ZUpXnG1Os/DASiRxrR7T8hs54Vbs3vPxuxzfHg5PA/pgjM2Arj8T8xYMq/NOHyP7u3yKZe3/M/Rg/HjYjd9D/RZsV0stv1P1y+w1vc2fY/5hXCQgbY9z9xbcApMNb4P/zEvhBa1Pk/hhy994PS+j8RdLverdD7P5zLucXXzvw/JyO4rAHN/T+xeraTK8v+PzzStHpVyf8/45TZsL9jAECowFik1OIAQG7s15fpYQFAMxhXi/7gAUD4Q9Z+E2ACQL5vVXIo3wJAg5vUZT1eA0BIx1NZUt0DQA7z0kxnXARA0x5SQHzbBECYStEzkVoFQF52UCem2QVAI6LPGrtYBkDpzU4O0NcGQK75zQHlVgdAcyVN9fnVB0A5UczoDlUIQA==\",\"dtype\":\"float64\",\"shape\":[50]},\"right\":{\"__ndarray__\":\"+IaDHigksD/SfzRHYwPAPyc8J3+y9Mc/ffgZtwHmzz9pWoZ3qOvTP5S4fxNQ5Nc/vxZ5r/fc2z/qdHJLn9XfP4vptXMj5+E/oJiyQXfj4z+2R68Py9/lP8v2q90e3Oc/4aWoq3LY6T/2VKV5xtTrPwwEokca0e0/IbOeFW7N7z8bsc3x4OTwP6YIzNgK4/E/MWDKvzTh8j+7t8imXt/zP0YPx42I3fQ/0WbFdLLb9T9cvsNb3Nn2P+YVwkIG2Pc/cW3AKTDW+D/8xL4QWtT5P4YcvfeD0vo/EXS73q3Q+z+cy7nF1878PycjuKwBzf0/sXq2kyvL/j880rR6Vcn/P+OU2bC/YwBAqMBYpNTiAEBu7NeX6WEBQDMYV4v+4AFA+EPWfhNgAkC+b1VyKN8CQIOb1GU9XgNASMdTWVLdA0AO89JMZ1wEQNMeUkB82wRAmErRM5FaBUBedlAnptkFQCOizxq7WAZA6c1ODtDXBkCu+c0B5VYHQHMlTfX51QdAOVHM6A5VCED+fEvcI9QIQA==\",\"dtype\":\"float64\",\"shape\":[50]},\"top\":{\"__ndarray__\":\"zL6lmvXXAUAHhRrdCoABQNUpQ9YzkQFAQDLEwXjGAEAdmSCD7pH/PzRFhUOmTABA2OopRvue/j91D+SltPP+PwA/DoVf6P0/nrr4runA+j8fOng/1Pj5P/YwvNGvIvo/gN4n1ATR9D8BQ7BX9l32P37JT5+YFfQ/6mNrcftl9z8eUeRQGcr8P8/w4xe7o/Y/5mdYFJ7c9z/uo3g0kHr1P/95n1ATRPM/f/mbIKPJ9T9ugqAIlUv6P5d9SzXrr/M//3mfUBNE4z8AAAAAAAAAAP427/gc5uw/AAAAAAAAAAD+Nu/4HObsP27FUGCLqfA/AUOwV/Zd5j8AAAAAAAAAAP95n1ATRNM/AAAAAAAA8P8AAAAAAADw/wAAAAAAAAAAAAAAAAAA8P8AAAAAAADw/wAAAAAAAPD/AAAAAAAA8P8AAAAAAAAAAAAAAAAAAPD/AAAAAAAA8P8AAAAAAADw//95n1ATRNM/AAAAAAAAAAAAAAAAAADw/wAAAAAAAPD/AAAAAAAA8P//eZ9QE0TTPw==\",\"dtype\":\"float64\",\"shape\":[50]}},\"selected\":{\"id\":\"4034\",\"type\":\"Selection\"},\"selection_policy\":{\"id\":\"4035\",\"type\":\"UnionRenderers\"}},\"id\":\"3543\",\"type\":\"ColumnDataSource\"},{\"attributes\":{},\"id\":\"3882\",\"type\":\"Selection\"},{\"attributes\":{\"bottom\":{\"value\":0},\"fill_alpha\":{\"value\":0.05},\"fill_color\":{\"value\":\"#CB4777\"},\"left\":{\"field\":\"left\"},\"line_alpha\":{\"value\":0.05},\"line_color\":{\"value\":\"#7E03A7\"},\"right\":{\"field\":\"right\"},\"top\":{\"field\":\"top\"}},\"id\":\"3544\",\"type\":\"Quad\"},{\"attributes\":{\"source\":{\"id\":\"3648\",\"type\":\"ColumnDataSource\"}},\"id\":\"3652\",\"type\":\"CDSView\"},{\"attributes\":{\"bottom\":{\"value\":0},\"fill_alpha\":{\"value\":0.1},\"fill_color\":{\"value\":\"#1f77b4\"},\"left\":{\"field\":\"left\"},\"line_alpha\":{\"value\":0.1},\"line_color\":{\"value\":\"#1f77b4\"},\"right\":{\"field\":\"right\"},\"top\":{\"field\":\"top\"}},\"id\":\"3545\",\"type\":\"Quad\"},{\"attributes\":{\"data_source\":{\"id\":\"3543\",\"type\":\"ColumnDataSource\"},\"glyph\":{\"id\":\"3544\",\"type\":\"Quad\"},\"hover_glyph\":null,\"muted_glyph\":null,\"nonselection_glyph\":{\"id\":\"3545\",\"type\":\"Quad\"},\"selection_glyph\":null,\"view\":{\"id\":\"3547\",\"type\":\"CDSView\"}},\"id\":\"3546\",\"type\":\"GlyphRenderer\"},{\"attributes\":{\"text\":\"\"},\"id\":\"3870\",\"type\":\"Title\"},{\"attributes\":{},\"id\":\"3873\",\"type\":\"BasicTickFormatter\"},{\"attributes\":{\"data_source\":{\"id\":\"3648\",\"type\":\"ColumnDataSource\"},\"glyph\":{\"id\":\"3649\",\"type\":\"Quad\"},\"hover_glyph\":null,\"muted_glyph\":null,\"nonselection_glyph\":{\"id\":\"3650\",\"type\":\"Quad\"},\"selection_glyph\":null,\"view\":{\"id\":\"3652\",\"type\":\"CDSView\"}},\"id\":\"3651\",\"type\":\"GlyphRenderer\"},{\"attributes\":{\"data_source\":{\"id\":\"3368\",\"type\":\"ColumnDataSource\"},\"glyph\":{\"id\":\"3369\",\"type\":\"Quad\"},\"hover_glyph\":null,\"muted_glyph\":null,\"nonselection_glyph\":{\"id\":\"3370\",\"type\":\"Quad\"},\"selection_glyph\":null,\"view\":{\"id\":\"3372\",\"type\":\"CDSView\"}},\"id\":\"3371\",\"type\":\"GlyphRenderer\"},{\"attributes\":{\"source\":{\"id\":\"3543\",\"type\":\"ColumnDataSource\"}},\"id\":\"3547\",\"type\":\"CDSView\"},{\"attributes\":{\"callback\":null,\"data\":{\"left\":{\"__ndarray__\":\"LpODp2tiUD+97EFV/1uzP5bl8n06O8M/ztREUXXIzD8DYksS2CrTP59Z9Ht18dc/O1Gd5RK43D9sJKMnWL/gPzqgd9ymIuM/CBxMkfWF5T/WlyBGROnnP6QT9fqSTOo/co/Jr+Gv7D9AC55kMBPvP4dDuYw/u/A/boEj5+bs8T9Vv41Bjh7zPzz995s1UPQ/Izti9tyB9T8KecxQhLP2P/G2Nqsr5fc/2PSgBdMW+T+/Mgtgekj6P6Zwdbohevs/ja7fFMmr/D907ElvcN39P1sqtMkXD/8/IDQPkl8gAEAUU0Q/M7kAQAhyeewGUgFA+5CumdrqAUDur+NGroMCQOLOGPSBHANA1u1NoVW1A0DJDINOKU4EQLwruPv85gRAsErtqNB/BUCkaSJWpBgGQJeIVwN4sQZAiqeMsEtKB0B+xsFdH+MHQHLl9grzewhAZQQsuMYUCUBYI2Flmq0JQExClhJuRgpAQGHLv0HfCkAzgABtFXgLQCafNRrpEAxAGr5qx7ypDEAO3Z90kEINQA==\",\"dtype\":\"float64\",\"shape\":[50]},\"right\":{\"__ndarray__\":\"vexBVf9bsz+W5fJ9OjvDP87URFF1yMw/A2JLEtgq0z+fWfR7dfHXPztRneUSuNw/bCSjJ1i/4D86oHfcpiLjPwgcTJH1heU/1pcgRkTp5z+kE/X6kkzqP3KPya/hr+w/QAueZDAT7z+HQ7mMP7vwP26BI+fm7PE/Vb+NQY4e8z88/febNVD0PyM7YvbcgfU/CnnMUISz9j/xtjarK+X3P9j0oAXTFvk/vzILYHpI+j+mcHW6IXr7P42u3xTJq/w/dOxJb3Dd/T9bKrTJFw//PyA0D5JfIABAFFNEPzO5AEAIcnnsBlIBQPuQrpna6gFA7q/jRq6DAkDizhj0gRwDQNbtTaFVtQNAyQyDTilOBEC8K7j7/OYEQLBK7ajQfwVApGkiVqQYBkCXiFcDeLEGQIqnjLBLSgdAfsbBXR/jB0By5fYK83sIQGUELLjGFAlAWCNhZZqtCUBMQpYSbkYKQEBhy79B3wpAM4AAbRV4C0AmnzUa6RAMQBq+ase8qQxADt2fdJBCDUAB/NQhZNsNQA==\",\"dtype\":\"float64\",\"shape\":[50]},\"top\":{\"__ndarray__\":\"wPxNkNHkAkDfYIZ4qlYBQLdiKLDFVABAYqy9j9MzAEAgZryFhYX9P//Tu7lOc/w/zzOUb7EB/T/2MLzRryL6P+ZnWBSe3Pc/F1xzCfCA+D8QwftVxnX0PwFDsFf2XfY/z/DjF7uj9j9/+Zsgo8n1PwAXbBFF0fI/f7LjjVNE8T8/zHgLCwvrPwAAAAAAAPA//3mfUBNE0z8BQ7BX9l3mP/427/gc5uw/TxK8Q7bS8T8AAAAAAAAAAAAAAAAAAAAAAAAAAAAA8P8AAAAAAADw/wAAAAAAAAAAAAAAAAAA8P8AAAAAAADw/wAAAAAAAPD/AAAAAAAA8P8AAAAAAADw/wAAAAAAAPD/AAAAAAAA8P8AAAAAAADw/wAAAAAAAPD/AAAAAAAA8P8AAAAAAADw/wAAAAAAAPD/AAAAAAAA8P8AAAAAAADw/wAAAAAAAPD/AAAAAAAA8P8AAAAAAADw/wAAAAAAAPD/AAAAAAAA8P8AAAAAAADw/wAAAAAAAPD/AAAAAAAA8P8AAAAAAAAAAA==\",\"dtype\":\"float64\",\"shape\":[50]}},\"selected\":{\"id\":\"4036\",\"type\":\"Selection\"},\"selection_policy\":{\"id\":\"4037\",\"type\":\"UnionRenderers\"}},\"id\":\"3548\",\"type\":\"ColumnDataSource\"},{\"attributes\":{},\"id\":\"3884\",\"type\":\"Selection\"},{\"attributes\":{\"bottom\":{\"value\":0},\"fill_alpha\":{\"value\":0.05},\"fill_color\":{\"value\":\"#CB4777\"},\"left\":{\"field\":\"left\"},\"line_alpha\":{\"value\":0.05},\"line_color\":{\"value\":\"#7E03A7\"},\"right\":{\"field\":\"right\"},\"top\":{\"field\":\"top\"}},\"id\":\"3549\",\"type\":\"Quad\"},{\"attributes\":{\"bottom\":{\"value\":0},\"fill_alpha\":{\"value\":0.1},\"fill_color\":{\"value\":\"#1f77b4\"},\"left\":{\"field\":\"left\"},\"line_alpha\":{\"value\":0.1},\"line_color\":{\"value\":\"#1f77b4\"},\"right\":{\"field\":\"right\"},\"top\":{\"field\":\"top\"}},\"id\":\"3550\",\"type\":\"Quad\"},{\"attributes\":{},\"id\":\"3881\",\"type\":\"UnionRenderers\"},{\"attributes\":{},\"id\":\"3875\",\"type\":\"BasicTickFormatter\"},{\"attributes\":{\"data_source\":{\"id\":\"3548\",\"type\":\"ColumnDataSource\"},\"glyph\":{\"id\":\"3549\",\"type\":\"Quad\"},\"hover_glyph\":null,\"muted_glyph\":null,\"nonselection_glyph\":{\"id\":\"3550\",\"type\":\"Quad\"},\"selection_glyph\":null,\"view\":{\"id\":\"3552\",\"type\":\"CDSView\"}},\"id\":\"3551\",\"type\":\"GlyphRenderer\"},{\"attributes\":{},\"id\":\"4005\",\"type\":\"UnionRenderers\"},{\"attributes\":{},\"id\":\"4006\",\"type\":\"Selection\"},{\"attributes\":{\"data_source\":{\"id\":\"3613\",\"type\":\"ColumnDataSource\"},\"glyph\":{\"id\":\"3614\",\"type\":\"Quad\"},\"hover_glyph\":null,\"muted_glyph\":null,\"nonselection_glyph\":{\"id\":\"3615\",\"type\":\"Quad\"},\"selection_glyph\":null,\"view\":{\"id\":\"3617\",\"type\":\"CDSView\"}},\"id\":\"3616\",\"type\":\"GlyphRenderer\"},{\"attributes\":{},\"id\":\"4004\",\"type\":\"Selection\"},{\"attributes\":{},\"id\":\"4003\",\"type\":\"UnionRenderers\"},{\"attributes\":{\"data_source\":{\"id\":\"3608\",\"type\":\"ColumnDataSource\"},\"glyph\":{\"id\":\"3609\",\"type\":\"Quad\"},\"hover_glyph\":null,\"muted_glyph\":null,\"nonselection_glyph\":{\"id\":\"3610\",\"type\":\"Quad\"},\"selection_glyph\":null,\"view\":{\"id\":\"3612\",\"type\":\"CDSView\"}},\"id\":\"3611\",\"type\":\"GlyphRenderer\"},{\"attributes\":{\"source\":{\"id\":\"3613\",\"type\":\"ColumnDataSource\"}},\"id\":\"3617\",\"type\":\"CDSView\"},{\"attributes\":{},\"id\":\"4007\",\"type\":\"UnionRenderers\"},{\"attributes\":{\"bottom\":{\"value\":0},\"fill_alpha\":{\"value\":0.05},\"fill_color\":{\"value\":\"#CB4777\"},\"left\":{\"field\":\"left\"},\"line_alpha\":{\"value\":0.05},\"line_color\":{\"value\":\"#7E03A7\"},\"right\":{\"field\":\"right\"},\"top\":{\"field\":\"top\"}},\"id\":\"3614\",\"type\":\"Quad\"},{\"attributes\":{},\"id\":\"4008\",\"type\":\"Selection\"},{\"attributes\":{\"bottom\":{\"value\":0},\"fill_alpha\":{\"value\":0.1},\"fill_color\":{\"value\":\"#1f77b4\"},\"left\":{\"field\":\"left\"},\"line_alpha\":{\"value\":0.1},\"line_color\":{\"value\":\"#1f77b4\"},\"right\":{\"field\":\"right\"},\"top\":{\"field\":\"top\"}},\"id\":\"3615\",\"type\":\"Quad\"},{\"attributes\":{},\"id\":\"3990\",\"type\":\"Selection\"},{\"attributes\":{},\"id\":\"4002\",\"type\":\"Selection\"},{\"attributes\":{\"callback\":null,\"data\":{\"left\":{\"__ndarray__\":\"7g5NRGgUIT8PU5SmcRuyP8w/g4wsF8I/EFa8RaAgyz8qtnr/CRXSP0xBF9zDmdY/bsyzuH0e2z+QV1CVN6PfP1lx9rj4E+I/6rZEp1VW5D97/JKVspjmPwxC4YMP2+g/nYcvcmwd6z8uzX1gyV/tP78SzE4mou8/KCyNnkHy8D/wTrQVcBPyP7hx24yeNPM/gZQCBM1V9D9Ktyl7+3b1PxLaUPIpmPY/2vx3aVi59z+jH5/ghtr4P2xCxle1+/k/NGXtzuMc+z/8hxRGEj78P8WqO71AX/0/js1iNG+A/j9W8ImrnaH/P4+JWBFmYQBA9BrsTP3xAEBYrH+IlIIBQLw9E8QrEwJAIM+m/8KjAkCEYDo7WjQDQOnxzXbxxANATYNhsohVBECxFPXtH+YEQBamiCm3dgVAejccZU4HBkDeyK+g5ZcGQEJaQ9x8KAdApuvWFxS5B0ALfWpTq0kIQG8O/o5C2ghA05+RytlqCUA4MSUGcfsJQJzCuEEIjApAAFRMfZ8cC0Bk5d+4Nq0LQA==\",\"dtype\":\"float64\",\"shape\":[50]},\"right\":{\"__ndarray__\":\"D1OUpnEbsj/MP4OMLBfCPxBWvEWgIMs/KrZ6/wkV0j9MQRfcw5nWP27Ms7h9Hts/kFdQlTej3z9Zcfa4+BPiP+q2RKdVVuQ/e/ySlbKY5j8MQuGDD9voP52HL3JsHes/Ls19YMlf7T+/EsxOJqLvPygsjZ5B8vA/8E60FXAT8j+4cduMnjTzP4GUAgTNVfQ/Srcpe/t29T8S2lDyKZj2P9r8d2lYufc/ox+f4Iba+D9sQsZXtfv5PzRl7c7jHPs//IcURhI+/D/Fqju9QF/9P47NYjRvgP4/VvCJq52h/z+PiVgRZmEAQPQa7Ez98QBAWKx/iJSCAUC8PRPEKxMCQCDPpv/CowJAhGA6O1o0A0Dp8c128cQDQE2DYbKIVQRAsRT17R/mBEAWpogpt3YFQHo3HGVOBwZA3sivoOWXBkBCWkPcfCgHQKbr1hcUuQdAC31qU6tJCEBvDv6OQtoIQNOfkcrZaglAODElBnH7CUCcwrhBCIwKQABUTH2fHAtAZOXfuDatC0DJdnP0zT0MQA==\",\"dtype\":\"float64\",\"shape\":[50]},\"top\":{\"__ndarray__\":\"q6Zf/rulBEB3X3ZAlzkDQMi57/EM3QJADGapFSTZAkCpbqldZaADQP69mRb2rAJAgA06Jk98AEA/2fHGKaIAQL+qoN8P3P8/7+YojIbY+z9EelNLopb7P58BNAKU+Ps/T88L7L90+z9+bzM2Xeb6Px5R5FAZyvw/F1xzCfCA+D/+kAtiWBX2P6CHlLGAtPg/bsVQYIup8D9+yU+fmBX0P39YxyQYFfg/TxK8Q7bS8T9/+Zsgo8n1P/95n1ATRPM/ABdsEUXR8j/91U+WJ4neP08SvEO20vE/bsVQYIup8D/91U+WJ4nuP/95n1ATROM//3mfUBNE0z8AAAAAAAAAAAAAAAAAAPD/AAAAAAAAAAD91U+WJ4neP/95n1ATRNM/P8x4CwsL6z//eZ9QE0TjP/95n1ATRNM/AAAAAAAAAAAAAAAAAAAAAAAAAAAAAAAAAAAAAAAA8P8AAAAAAAAAAAAAAAAAAAAAAAAAAAAA8P8AAAAAAADw/wAAAAAAAPD/AAAAAAAA8P8AAAAAAAAAAA==\",\"dtype\":\"float64\",\"shape\":[50]}},\"selected\":{\"id\":\"4062\",\"type\":\"Selection\"},\"selection_policy\":{\"id\":\"4063\",\"type\":\"UnionRenderers\"}},\"id\":\"3613\",\"type\":\"ColumnDataSource\"},{\"attributes\":{},\"id\":\"4001\",\"type\":\"UnionRenderers\"},{\"attributes\":{},\"id\":\"4000\",\"type\":\"Selection\"},{\"attributes\":{},\"id\":\"3999\",\"type\":\"UnionRenderers\"},{\"attributes\":{\"source\":{\"id\":\"3608\",\"type\":\"ColumnDataSource\"}},\"id\":\"3612\",\"type\":\"CDSView\"},{\"attributes\":{},\"id\":\"3998\",\"type\":\"Selection\"},{\"attributes\":{},\"id\":\"3997\",\"type\":\"UnionRenderers\"},{\"attributes\":{\"bottom\":{\"value\":0},\"fill_alpha\":{\"value\":0.1},\"fill_color\":{\"value\":\"#1f77b4\"},\"left\":{\"field\":\"left\"},\"line_alpha\":{\"value\":0.1},\"line_color\":{\"value\":\"#1f77b4\"},\"right\":{\"field\":\"right\"},\"top\":{\"field\":\"top\"}},\"id\":\"3610\",\"type\":\"Quad\"},{\"attributes\":{},\"id\":\"3996\",\"type\":\"Selection\"},{\"attributes\":{\"bottom\":{\"value\":0},\"fill_alpha\":{\"value\":0.05},\"fill_color\":{\"value\":\"#CB4777\"},\"left\":{\"field\":\"left\"},\"line_alpha\":{\"value\":0.05},\"line_color\":{\"value\":\"#7E03A7\"},\"right\":{\"field\":\"right\"},\"top\":{\"field\":\"top\"}},\"id\":\"3609\",\"type\":\"Quad\"},{\"attributes\":{\"bottom\":{\"value\":0},\"fill_alpha\":{\"value\":0.05},\"fill_color\":{\"value\":\"#CB4777\"},\"left\":{\"field\":\"left\"},\"line_alpha\":{\"value\":0.05},\"line_color\":{\"value\":\"#7E03A7\"},\"right\":{\"field\":\"right\"},\"top\":{\"field\":\"top\"}},\"id\":\"3604\",\"type\":\"Quad\"},{\"attributes\":{},\"id\":\"3995\",\"type\":\"UnionRenderers\"},{\"attributes\":{\"bottom\":{\"value\":0},\"fill_alpha\":{\"value\":0.1},\"fill_color\":{\"value\":\"#1f77b4\"},\"left\":{\"field\":\"left\"},\"line_alpha\":{\"value\":0.1},\"line_color\":{\"value\":\"#1f77b4\"},\"right\":{\"field\":\"right\"},\"top\":{\"field\":\"top\"}},\"id\":\"3605\",\"type\":\"Quad\"},{\"attributes\":{\"callback\":null,\"data\":{\"left\":{\"__ndarray__\":\"+L8tHoYQSz9EpUVvP/uuP8RJCWMexb4/c+A3h04Gxz8EHOvcDarOP8orT5nmJtM/k8koRMb41j9cZwLvpcraPyQF3JmFnN4/dtFaojI34T9aoMd3IiDjPz9vNE0SCeU/Iz6hIgLy5j8HDQ748droP+zbes3hw+o/0KrnotGs7D+0eVR4wZXuP0yk4KZYP/A/vguXkdAz8T8wc018SCjyP6LaA2fAHPM/FUK6UTgR9D+HqXA8sAX1P/kQJyco+vU/a3jdEaDu9j/d35P8F+P3P09HSueP1/g/wa4A0gfM+T80Fre8f8D6P6Z9baf3tPs/GOUjkm+p/D+KTNp85539P/yzkGdfkv4/bhtHUteG/z9wwX6epz0AQCn12ZPjtwBA4ig1iR8yAUCbXJB+W6wBQFSQ63OXJgJADcRGadOgAkDG96FeDxsDQIAr/VNLlQNAOV9YSYcPBEDykrM+w4kEQKvGDjT/AwVAZPppKTt+BUAdLsUed/gFQNZhIBSzcgZAj5V7Ce/sBkBIydb+KmcHQA==\",\"dtype\":\"float64\",\"shape\":[50]},\"right\":{\"__ndarray__\":\"RKVFbz/7rj/ESQljHsW+P3PgN4dOBsc/BBzr3A2qzj/KK0+Z5ibTP5PJKETG+NY/XGcC76XK2j8kBdyZhZzeP3bRWqIyN+E/WqDHdyIg4z8/bzRNEgnlPyM+oSIC8uY/Bw0O+PHa6D/s23rN4cPqP9Cq56LRrOw/tHlUeMGV7j9MpOCmWD/wP74Ll5HQM/E/MHNNfEgo8j+i2gNnwBzzPxVCulE4EfQ/h6lwPLAF9T/5ECcnKPr1P2t43RGg7vY/3d+T/Bfj9z9PR0rnj9f4P8GuANIHzPk/NBa3vH/A+j+mfW2n97T7PxjlI5Jvqfw/ikzafOed/T/8s5BnX5L+P24bR1LXhv8/cMF+nqc9AEAp9dmT47cAQOIoNYkfMgFAm1yQflusAUBUkOtzlyYCQA3ERmnToAJAxvehXg8bA0CAK/1TS5UDQDlfWEmHDwRA8pKzPsOJBECrxg40/wMFQGT6aSk7fgVAHS7FHnf4BUDWYSAUs3IGQI+Vewnv7AZASMnW/ipnB0AB/TH0ZuEHQA==\",\"dtype\":\"float64\",\"shape\":[50]},\"top\":{\"__ndarray__\":\"n0TkWYpWAkAAvU+oCaIBQJBUtu698QFAAP6uljTFA0DA/E2Q0eQCQGKsvY/TMwBAfoafR6K3/T+Qto87EBj8Px5R5FAZyvw/WAwCcvbN+T8AvU+oCaL5P+/mKIyG2Ps/7vBA62hV/D91D+SltPP+P6YGW5OzMP8/nhigE9nJ/j+fW1Brzyf1P59bUGvPJ/U/kJ8jKstG+T9/9ZPlSaL3PwFDsFf2XfY/bsVQYIup8D/91U+WJ4nuP38MAPeOc/o/7qN4NJB69T/91U+WJ4nuPwAAAAAAAAAAAAAAAAAA8P//eZ9QE0TTPwAAAAAAAPD/AAAAAAAA8P8AAAAAAADw/wAAAAAAAPD/AAAAAAAA8P8AAAAAAADw/wAAAAAAAPD/AAAAAAAA8P8AAAAAAADw/wAAAAAAAPD/AAAAAAAA8P8AAAAAAADw/wAAAAAAAPD/AAAAAAAA8P8AAAAAAADw/wAAAAAAAPD/AAAAAAAA8P8AAAAAAADw/wAAAAAAAPD/AAAAAAAA8P8AAAAAAAAAAA==\",\"dtype\":\"float64\",\"shape\":[50]}},\"selected\":{\"id\":\"4060\",\"type\":\"Selection\"},\"selection_policy\":{\"id\":\"4061\",\"type\":\"UnionRenderers\"}},\"id\":\"3608\",\"type\":\"ColumnDataSource\"},{\"attributes\":{},\"id\":\"3994\",\"type\":\"Selection\"},{\"attributes\":{},\"id\":\"3993\",\"type\":\"UnionRenderers\"},{\"attributes\":{\"source\":{\"id\":\"3603\",\"type\":\"ColumnDataSource\"}},\"id\":\"3607\",\"type\":\"CDSView\"},{\"attributes\":{},\"id\":\"3992\",\"type\":\"Selection\"},{\"attributes\":{\"data_source\":{\"id\":\"3603\",\"type\":\"ColumnDataSource\"},\"glyph\":{\"id\":\"3604\",\"type\":\"Quad\"},\"hover_glyph\":null,\"muted_glyph\":null,\"nonselection_glyph\":{\"id\":\"3605\",\"type\":\"Quad\"},\"selection_glyph\":null,\"view\":{\"id\":\"3607\",\"type\":\"CDSView\"}},\"id\":\"3606\",\"type\":\"GlyphRenderer\"},{\"attributes\":{},\"id\":\"3991\",\"type\":\"UnionRenderers\"},{\"attributes\":{\"callback\":null,\"data\":{\"left\":{\"__ndarray__\":\"ak5/EhN4LD+KruBQMO+oP+NuV0f04Lg/QUMfMyilwj8Qz5JC1tnIP99aBlKEDs8/V/O8MJmh0j8+uXY48LvVPyZ/MEBH1tg/DkXqR57w2z/1CqRP9QrfP27oriumEuE/YsuLr9Gf4j9Wrmgz/SzkP0mRRbcouuU/PXQiO1RH5z8xV/++f9ToPyU63EKrYeo/GR25xtbu6z8MAJZKAnztPwDjcs4tCe8/+eInqSxL8D9zVBZrwhHxP+3FBC1Y2PE/Zzfz7u2e8j/hqOGwg2XzP1sa0HIZLPQ/1Yu+NK/y9D9O/az2RLn1P8hum7jaf/Y/QuCJenBG9z+8UXg8Bg34PzbDZv6b0/g/sDRVwDGa+T8qpkOCx2D6P6QXMkRdJ/s/HokgBvPt+z+X+g7IiLT8PxFs/Ykee/0/i93rS7RB/j8FT9oNSgj/P3/AyM/fzv8//JjbyLpKAEC50dKpBa4AQHYKyopQEQFAM0PBa5t0AUDwe7hM5tcBQK20ry0xOwJAau2mDnyeAkAnJp7vxgEDQA==\",\"dtype\":\"float64\",\"shape\":[50]},\"right\":{\"__ndarray__\":\"iq7gUDDvqD/jbldH9OC4P0FDHzMopcI/EM+SQtbZyD/fWgZShA7PP1fzvDCZodI/Prl2OPC71T8mfzBAR9bYPw5F6kee8Ns/9QqkT/UK3z9u6K4rphLhP2LLi6/Rn+I/Vq5oM/0s5D9JkUW3KLrlPz10IjtUR+c/MVf/vn/U6D8lOtxCq2HqPxkducbW7us/DACWSgJ87T8A43LOLQnvP/niJ6ksS/A/c1QWa8IR8T/txQQtWNjxP2c38+7tnvI/4ajhsINl8z9bGtByGSz0P9WLvjSv8vQ/Tv2s9kS59T/Ibpu42n/2P0LgiXpwRvc/vFF4PAYN+D82w2b+m9P4P7A0VcAxmvk/KqZDgsdg+j+kFzJEXSf7Px6JIAbz7fs/l/oOyIi0/D8RbP2JHnv9P4vd60u0Qf4/BU/aDUoI/z9/wMjP387/P/yY28i6SgBAudHSqQWuAEB2CsqKUBEBQDNDwWubdAFA8Hu4TObXAUCttK8tMTsCQGrtpg58ngJAJyae78YBA0DkXpXQEWUDQA==\",\"dtype\":\"float64\",\"shape\":[50]},\"top\":{\"__ndarray__\":\"J04Ehw22A0D0m5MVpewBQJgT3O2l/QBAACs9S9JcAEC3Z7TfNpMAQInlOneLbgFAB4Ua3QqAAUA+2js1Fq0BQMuog/ecEQBANEWFQ6ZMAEBmRoDooq38Pz/MeAsLC/s/ZkaA6KKt/D/Y6ilG+57+P/427/gc5vw/P8x4CwsL+z9Pzwvsv3T7P2pCk0UAN/w/z/DjF7uj9j9/+Zsgo8n1P37JT5+YFfQ/7qN4NJB69T/P8OMXu6P2P27FUGCLqfA/TxK8Q7bS8T8AAAAAAADwP3/1k+VJovc/AAAAAAAA8D+fRORZilbyP27FUGCLqfA/f7LjjVNE8T9/suONU0TxP/95n1ATRNM/bsVQYIup8D8BQ7BX9l3mP/6nd3Od5ug/AAAAAAAA8P8AAAAAAAAAAAAAAAAAAPD/AAAAAAAAAAAAAAAAAADw/wAAAAAAAAAAAAAAAAAA8P8AAAAAAADw/wAAAAAAAPD/AAAAAAAAAAAAAAAAAADw/wAAAAAAAAAA/3mfUBNE0z8AAAAAAAAAAA==\",\"dtype\":\"float64\",\"shape\":[50]}},\"selected\":{\"id\":\"4058\",\"type\":\"Selection\"},\"selection_policy\":{\"id\":\"4059\",\"type\":\"UnionRenderers\"}},\"id\":\"3603\",\"type\":\"ColumnDataSource\"},{\"attributes\":{\"data_source\":{\"id\":\"3153\",\"type\":\"ColumnDataSource\"},\"glyph\":{\"id\":\"3154\",\"type\":\"Quad\"},\"hover_glyph\":null,\"muted_glyph\":null,\"nonselection_glyph\":{\"id\":\"3155\",\"type\":\"Quad\"},\"selection_glyph\":null,\"view\":{\"id\":\"3157\",\"type\":\"CDSView\"}},\"id\":\"3156\",\"type\":\"GlyphRenderer\"},{\"attributes\":{\"bottom\":{\"value\":0},\"fill_alpha\":{\"value\":0.1},\"fill_color\":{\"value\":\"#1f77b4\"},\"left\":{\"field\":\"left\"},\"line_alpha\":{\"value\":0.1},\"line_color\":{\"value\":\"#1f77b4\"},\"right\":{\"field\":\"right\"},\"top\":{\"field\":\"top\"}},\"id\":\"3480\",\"type\":\"Quad\"},{\"attributes\":{\"data_source\":{\"id\":\"3478\",\"type\":\"ColumnDataSource\"},\"glyph\":{\"id\":\"3479\",\"type\":\"Quad\"},\"hover_glyph\":null,\"muted_glyph\":null,\"nonselection_glyph\":{\"id\":\"3480\",\"type\":\"Quad\"},\"selection_glyph\":null,\"view\":{\"id\":\"3482\",\"type\":\"CDSView\"}},\"id\":\"3481\",\"type\":\"GlyphRenderer\"},{\"attributes\":{\"source\":{\"id\":\"3153\",\"type\":\"ColumnDataSource\"}},\"id\":\"3157\",\"type\":\"CDSView\"},{\"attributes\":{\"callback\":null,\"data\":{\"left\":{\"__ndarray__\":\"Oc6x+klTPz9hUREwLlSqP5OfFubaNLo/O0sSWs+fwz+sRhlBMSXKPw8hEJRJVdA/yJ6Th/qX0z+AHBd7q9rWPzmamm5cHdo/8hceYg1g3T/VytAqX1HgP7GJkqS38uE/jkhUHhCU4z9qBxaYaDXlP0bG1xHB1uY/I4WZixl46D//Q1sFchnqP9sCHX/Kuus/uMHe+CJc7T+UgKBye/3uP7gfMfZpT/A/Jv8RMxYg8T+U3vJvwvDxPwO+06xuwfI/cZ206RqS8z/ffJUmx2L0P01cdmNzM/U/uztXoB8E9j8pGzjdy9T2P5j6GBp4pfc/Btr5ViR2+D90udqT0Eb5P+KYu9B8F/o/UHicDSno+j++V31K1bj7Pyw3XoeBifw/mxY/xC1a/T8J9h8B2ir+P3fVAD6G+/4/5bThejLM/z8pSuFbb04AQOC5UXrFtgBAlynCmBsfAUBOmTK3cYcBQAUJo9XH7wFAvXgT9B1YAkB06IMSdMACQCtY9DDKKANA4sdkTyCRA0CZN9VtdvkDQA==\",\"dtype\":\"float64\",\"shape\":[50]},\"right\":{\"__ndarray__\":\"YVERMC5Uqj+Tnxbm2jS6PztLElrPn8M/rEYZQTElyj8PIRCUSVXQP8iek4f6l9M/gBwXe6va1j85mppuXB3aP/IXHmINYN0/1crQKl9R4D+xiZKkt/LhP45IVB4QlOM/agcWmGg15T9GxtcRwdbmPyOFmYsZeOg//0NbBXIZ6j/bAh1/yrrrP7jB3vgiXO0/lICgcnv97j+4HzH2aU/wPyb/ETMWIPE/lN7yb8Lw8T8DvtOsbsHyP3GdtOkakvM/33yVJsdi9D9NXHZjczP1P7s7V6AfBPY/KRs43cvU9j+Y+hgaeKX3Pwba+VYkdvg/dLnak9BG+T/imLvQfBf6P1B4nA0p6Po/vld9StW4+z8sN16HgYn8P5sWP8QtWv0/CfYfAdoq/j931QA+hvv+P+W04XoyzP8/KUrhW29OAEDguVF6xbYAQJcpwpgbHwFATpkyt3GHAUAFCaPVx+8BQL14E/QdWAJAdOiDEnTAAkArWPQwyigDQOLHZE8gkQNAmTfVbXb5A0BQp0WMzGEEQA==\",\"dtype\":\"float64\",\"shape\":[50]},\"top\":{\"__ndarray__\":\"EH5L/s8X/j9EelNLopb7P/3VT5Ynif4/2OopRvue/j+Qto87EBj8P88zlG+xAf0/gA06Jk98AECXOpvd9FH9P5c6m930Uf0/oIeUsYC0+D9/DAD3jnP6P+ZnWBSe3Pc/fuC7sN3m9j9ugqAIlUv6P0/PC+y/dPs//pALYlgV9j+XfUs166/zP/3VT5Ynie4/P8x4CwsL6z9PErxDttLxP4DeJ9QE0fQ/f7LjjVNE8T9PErxDttLxPwAXbBFF0fI//jbv+Bzm7D8BQ7BX9l3mPz/MeAsLC+s//3mfUBNE0z/91U+WJ4neP/3VT5Ynid4/AUOwV/Zd5j//eZ9QE0TTPwAAAAAAAPD//3mfUBNE0z8AAAAAAAAAAAAAAAAAAAAAAAAAAAAA8P8AAAAAAAAAAAAAAAAAAAAAAAAAAAAAAAAAAAAAAADw/wAAAAAAAPD/AAAAAAAA8P8AAAAAAADw/wAAAAAAAAAAAAAAAAAA8P8AAAAAAADw/wAAAAAAAPD/AAAAAAAA8P8AAAAAAAAAAA==\",\"dtype\":\"float64\",\"shape\":[50]}},\"selected\":{\"id\":\"3880\",\"type\":\"Selection\"},\"selection_policy\":{\"id\":\"3881\",\"type\":\"UnionRenderers\"}},\"id\":\"3158\",\"type\":\"ColumnDataSource\"},{\"attributes\":{\"source\":{\"id\":\"3478\",\"type\":\"ColumnDataSource\"}},\"id\":\"3482\",\"type\":\"CDSView\"},{\"attributes\":{\"bottom\":{\"value\":0},\"fill_alpha\":{\"value\":0.05},\"fill_color\":{\"value\":\"#CB4777\"},\"left\":{\"field\":\"left\"},\"line_alpha\":{\"value\":0.05},\"line_color\":{\"value\":\"#7E03A7\"},\"right\":{\"field\":\"right\"},\"top\":{\"field\":\"top\"}},\"id\":\"3159\",\"type\":\"Quad\"},{\"attributes\":{\"callback\":null,\"data\":{\"left\":{\"__ndarray__\":\"Y1p1ACvGJj8Jwu5joH2nP1yHbk49crc/2tZyNdWSwT8Gaq7Di2zHPzL96VFCRs0/LsgScPyP0T/EkTC313zUP1pbTv6yadc/8CRsRY5W2j+G7omMaUPdPw7c02kiGOA/2cBiDZCO4T+kpfGw/QTjP2+KgFRre+Q/Om8P+Njx5T8FVJ6bRmjnP9A4LT+03ug/mx284iFV6j9mAkuGj8vrPzHn2Sn9Qe0//MtozWq47j9j2Hs4bBfwP8lKQwqj0vA/Lr0K3NmN8T+UL9KtEEnyP/mhmX9HBPM/XxRhUX6/8z/EhigjtXr0Pyr57/TrNfU/j2u3xiLx9T/13X6YWaz2P1pQRmqQZ/c/v8INPMci+D8lNdUN/t34P4qnnN80mfk/8BlksWtU+j9VjCuDog/7P7v+8lTZyvs/IHG6JhCG/D+G44H4RkH9P+tVScp9/P0/UcgQnLS3/j+2Otht63L/P43Wzx8RFwBAwI+ziKx0AEDzSJfxR9IAQCYCe1rjLwFAWLtew36NAUCLdEIsGusBQA==\",\"dtype\":\"float64\",\"shape\":[50]},\"right\":{\"__ndarray__\":\"CcLuY6B9pz9ch25OPXK3P9rWcjXVksE/Bmquw4tsxz8y/elRQkbNPy7IEnD8j9E/xJEwt9d81D9aW07+smnXP/AkbEWOVto/hu6JjGlD3T8O3NNpIhjgP9nAYg2QjuE/pKXxsP0E4z9vioBUa3vkPzpvD/jY8eU/BVSem0Zo5z/QOC0/tN7oP5sdvOIhVeo/ZgJLho/L6z8x59kp/UHtP/zLaM1quO4/Y9h7OGwX8D/JSkMKo9LwPy69CtzZjfE/lC/SrRBJ8j/5oZl/RwTzP18UYVF+v/M/xIYoI7V69D8q+e/06zX1P49rt8Yi8fU/9d1+mFms9j9aUEZqkGf3P7/CDTzHIvg/JTXVDf7d+D+Kp5zfNJn5P/AZZLFrVPo/VYwrg6IP+z+7/vJU2cr7PyBxuiYQhvw/huOB+EZB/T/rVUnKffz9P1HIEJy0t/4/tjrYbety/z+N1s8fERcAQMCPs4isdABA80iX8UfSAEAmAnta4y8BQFi7XsN+jQFAi3RCLBrrAUC+LSaVtUgCQA==\",\"dtype\":\"float64\",\"shape\":[50]},\"top\":{\"__ndarray__\":\"AD8OhV/o/T9umQwa2hz9P0/PC+y/dPs/kLaPOxAY/D+gh5SxgLT4PxdccwnwgPg/AUOwV/Zd9j+AYOawWhf5PxdccwnwgPg/z/DjF7uj9j/qY2tx+2X3P+ZnWBSe3Pc/f/mbIKPJ9T8AvU+oCaL5Px8jDC6PJ/c/9jC80a8i+j+gh5SxgLT4P+6jeDSQevU/z/DjF7uj9j/+p3dzneboP/3VT5Ynie4/P8x4CwsL6z8AAAAAAAAAAAFDsFf2XeY//qd3c53m6D/+p3dzneboP/427/gc5uw//qd3c53m6D9/+Zsgo8n1P59bUGvPJ/U/f7LjjVNE8T/+p3dzneboP/95n1ATRNM/AUOwV/Zd5j/91U+WJ4nuP/95n1ATRNM/AUOwV/Zd5j/91U+WJ4nePz/MeAsLC+s//3mfUBNE0z//eZ9QE0TjP/95n1ATRNM/AAAAAAAAAAABQ7BX9l3mP/95n1ATRNM//3mfUBNE4z//eZ9QE0TTPwAAAAAAAPD/AAAAAAAA8P8AAAAAAAAAAA==\",\"dtype\":\"float64\",\"shape\":[50]}},\"selected\":{\"id\":\"4010\",\"type\":\"Selection\"},\"selection_policy\":{\"id\":\"4011\",\"type\":\"UnionRenderers\"}},\"id\":\"3483\",\"type\":\"ColumnDataSource\"},{\"attributes\":{\"bottom\":{\"value\":0},\"fill_alpha\":{\"value\":0.1},\"fill_color\":{\"value\":\"#1f77b4\"},\"left\":{\"field\":\"left\"},\"line_alpha\":{\"value\":0.1},\"line_color\":{\"value\":\"#1f77b4\"},\"right\":{\"field\":\"right\"},\"top\":{\"field\":\"top\"}},\"id\":\"3160\",\"type\":\"Quad\"},{\"attributes\":{\"bottom\":{\"value\":0},\"fill_alpha\":{\"value\":0.05},\"fill_color\":{\"value\":\"#CB4777\"},\"left\":{\"field\":\"left\"},\"line_alpha\":{\"value\":0.05},\"line_color\":{\"value\":\"#7E03A7\"},\"right\":{\"field\":\"right\"},\"top\":{\"field\":\"top\"}},\"id\":\"3484\",\"type\":\"Quad\"},{\"attributes\":{\"data_source\":{\"id\":\"3158\",\"type\":\"ColumnDataSource\"},\"glyph\":{\"id\":\"3159\",\"type\":\"Quad\"},\"hover_glyph\":null,\"muted_glyph\":null,\"nonselection_glyph\":{\"id\":\"3160\",\"type\":\"Quad\"},\"selection_glyph\":null,\"view\":{\"id\":\"3162\",\"type\":\"CDSView\"}},\"id\":\"3161\",\"type\":\"GlyphRenderer\"},{\"attributes\":{\"bottom\":{\"value\":0},\"fill_alpha\":{\"value\":0.1},\"fill_color\":{\"value\":\"#1f77b4\"},\"left\":{\"field\":\"left\"},\"line_alpha\":{\"value\":0.1},\"line_color\":{\"value\":\"#1f77b4\"},\"right\":{\"field\":\"right\"},\"top\":{\"field\":\"top\"}},\"id\":\"3485\",\"type\":\"Quad\"},{\"attributes\":{\"data_source\":{\"id\":\"3483\",\"type\":\"ColumnDataSource\"},\"glyph\":{\"id\":\"3484\",\"type\":\"Quad\"},\"hover_glyph\":null,\"muted_glyph\":null,\"nonselection_glyph\":{\"id\":\"3485\",\"type\":\"Quad\"},\"selection_glyph\":null,\"view\":{\"id\":\"3487\",\"type\":\"CDSView\"}},\"id\":\"3486\",\"type\":\"GlyphRenderer\"},{\"attributes\":{\"source\":{\"id\":\"3158\",\"type\":\"ColumnDataSource\"}},\"id\":\"3162\",\"type\":\"CDSView\"},{\"attributes\":{\"callback\":null,\"data\":{\"left\":{\"__ndarray__\":\"85buF0vFBj8lpl/B29+qP1Ko/BcD3bo/yL6kJwwlxD9oKUvDltvKPwTKeK8QydA/VP9L/VUk1D+kNB9Lm3/XP/Rp8pjg2to/RJ/F5iU23j9JakyatcjgP/EENkFYduI/mZ8f6Poj5D9BOgmPndHlP+nU8jVAf+c/kW/c3OIs6T85CsaDhdrqP+GkryooiOw/iT+Z0co17j8x2oJ4bePvP2w6tg+IyPA/wAcrY1mf8T8U1Z+2KnbyP2iiFAr8TPM/vG+JXc0j9D8QPf6wnvr0P2QKcwRw0fU/uNfnV0Go9j8MpVyrEn/3P2By0f7jVfg/tD9GUrUs+T8IDbulhgP6P1zaL/lX2vo/sKekTCmx+z8EdRmg+of8P1hCjvPLXv0/rA8DR501/j8A3Xeabgz/P1Sq7O0/4/8/1LuwoAhdAEB+ImtKccgAQCiJJfTZMwFA0u/fnUKfAUB8VppHqwoCQCa9VPETdgJA0CMPm3zhAkB6islE5UwDQCTxg+5NuANAzlc+mLYjBEB4vvhBH48EQA==\",\"dtype\":\"float64\",\"shape\":[50]},\"right\":{\"__ndarray__\":\"JaZfwdvfqj9SqPwXA926P8i+pCcMJcQ/aClLw5bbyj8EynivEMnQP1T/S/1VJNQ/pDQfS5t/1z/0afKY4NraP0SfxeYlNt4/SWpMmrXI4D/xBDZBWHbiP5mfH+j6I+Q/QToJj53R5T/p1PI1QH/nP5Fv3NziLOk/OQrGg4Xa6j/hpK8qKIjsP4k/mdHKNe4/MdqCeG3j7z9sOrYPiMjwP8AHK2NZn/E/FNWftip28j9oohQK/EzzP7xviV3NI/Q/ED3+sJ769D9kCnMEcNH1P7jX51dBqPY/DKVcqxJ/9z9gctH+41X4P7Q/RlK1LPk/CA27pYYD+j9c2i/5V9r6P7CnpEwpsfs/BHUZoPqH/D9YQo7zy179P6wPA0edNf4/AN13mm4M/z9UquztP+P/P9S7sKAIXQBAfiJrSnHIAEAoiSX02TMBQNLv351CnwFAfFaaR6sKAkAmvVTxE3YCQNAjD5t84QJAeorJROVMA0Ak8YPuTbgDQM5XPpi2IwRAeL74QR+PBEAiJbPrh/oEQA==\",\"dtype\":\"float64\",\"shape\":[50]},\"top\":{\"__ndarray__\":\"LPDelaIgA0DPLai155MCQHe/kg98/wJAiOD9KuM6AkBAMsTBeMYAQL+Ki+aQ2wBAHZkgg+6R/z+uPSJnShoAQEAyxMF4xgBAy6iD95wRAEBzElTeU78AQBZz3xo1Uvs/zgdQKQB1+T/2MLzRryL6P84HUCkAdfk/HyMMLo8n9z/+p3dzneb4P5CfIyrLRvk/f/WT5Umi9z9/suONU0TxP37JT5+YFfQ/7qN4NJB69T//eZ9QE0TzP59bUGvPJ/U//jbv+Bzm7D8AAAAAAADwP/3VT5Ynie4/f7LjjVNE8T/+p3dzneboPwAAAAAAAPA//qd3c53m6D//eZ9QE0TjP/427/gc5uw/P8x4CwsL6z8AAAAAAAAAAH+y441TRPE//dVPlieJ3j/+p3dzneboP/3VT5Ynie4/TxK8Q7bS8T9PErxDttLxPz/MeAsLC+s/AAAAAAAA8P/91U+WJ4neP37JT5+YFfQ//qd3c53m6D+fW1Brzyf1PwAAAAAAAAAAAAAAAAAA8P//eZ9QE0TTPw==\",\"dtype\":\"float64\",\"shape\":[50]}},\"selected\":{\"id\":\"3882\",\"type\":\"Selection\"},\"selection_policy\":{\"id\":\"3883\",\"type\":\"UnionRenderers\"}},\"id\":\"3163\",\"type\":\"ColumnDataSource\"},{\"attributes\":{\"source\":{\"id\":\"3483\",\"type\":\"ColumnDataSource\"}},\"id\":\"3487\",\"type\":\"CDSView\"},{\"attributes\":{\"bottom\":{\"value\":0},\"fill_alpha\":{\"value\":0.05},\"fill_color\":{\"value\":\"#CB4777\"},\"left\":{\"field\":\"left\"},\"line_alpha\":{\"value\":0.05},\"line_color\":{\"value\":\"#7E03A7\"},\"right\":{\"field\":\"right\"},\"top\":{\"field\":\"top\"}},\"id\":\"3164\",\"type\":\"Quad\"},{\"attributes\":{\"callback\":null,\"data\":{\"left\":{\"__ndarray__\":\"tiLw2+V5PD9I5IyhGYemPyb0sLufarY/E7tNU9nIwD8U/MLIYlzGPxU9OD7s78s/C7/W2brB0D+MX5GUf4vTPwwATE9EVdY/jKAGCgkf2T8NQcHEzejbP43he3+Sst4/BkEbnSu+4D9GkXj6DSPiP4fh1Vfwh+M/xzEztdLs5D8HgpAStVHmP0fS7W+Xtuc/hyJLzXkb6T/IcqgqXIDqPwjDBYg+5es/SBNj5SBK7T+IY8BCA6/uP+TZDtDyCfA/BIK9/mO88D8kKmwt1W7xP0TSGlxGIfI/ZXrJirfT8j+FIni5KIbzP6XKJuiZOPQ/xXLVFgvr9D/lGoRFfJ31PwXDMnTtT/Y/JWvhol4C9z9FE5DRz7T3P2W7PgBBZ/g/hWPtLrIZ+T+lC5xdI8z5P8azSoyUfvo/5lv5ugUx+z8GBKjpduP7PyasVhjolfw/RlQFR1lI/T9m/LN1yvr9P4akYqQ7rf4/pkwR06xf/z9j+t8ADwkAQHNON5hHYgBAg6KOL4C7AECT9uXGuBQBQA==\",\"dtype\":\"float64\",\"shape\":[50]},\"right\":{\"__ndarray__\":\"SOSMoRmHpj8m9LC7n2q2PxO7TVPZyMA/FPzCyGJcxj8VPTg+7O/LPwu/1tm6wdA/jF+RlH+L0z8MAExPRFXWP4ygBgoJH9k/DUHBxM3o2z+N4Xt/krLePwZBG50rvuA/RpF4+g0j4j+H4dVX8IfjP8cxM7XS7OQ/B4KQErVR5j9H0u1vl7bnP4ciS815G+k/yHKoKlyA6j8IwwWIPuXrP0gTY+UgSu0/iGPAQgOv7j/k2Q7Q8gnwPwSCvf5jvPA/JCpsLdVu8T9E0hpcRiHyP2V6yYq30/I/hSJ4uSiG8z+lyibomTj0P8Vy1RYL6/Q/5RqERXyd9T8FwzJ07U/2PyVr4aJeAvc/RROQ0c+09z9luz4AQWf4P4Vj7S6yGfk/pQucXSPM+T/Gs0qMlH76P+Zb+boFMfs/BgSo6Xbj+z8mrFYY6JX8P0ZUBUdZSP0/Zvyzdcr6/T+GpGKkO63+P6ZMEdOsX/8/Y/rfAA8JAEBzTjeYR2IAQIOiji+AuwBAk/blxrgUAUCjSj1e8W0BQA==\",\"dtype\":\"float64\",\"shape\":[50]},\"top\":{\"__ndarray__\":\"foafR6K3/T9umQwa2hz9P9ma0zqLtP4/p/5xB6WLAED+7i8G7Wv9Px5R5FAZyvw/7+YojIbY+z/+vuOE4rf7P6CHlLGAtPg/zgdQKQB1+T/OB1ApAHX5PwC9T6gJovk/EMH7VcZ19D/+p3dzneb4P+6jeDSQevU/9jC80a8i+j/+vuOE4rf7P+6jeDSQevU/AUOwV/Zd9j8QwftVxnX0P4DeJ9QE0fQ/n1tQa88n9T8QwftVxnX0P59E5FmKVvI/gN4n1ATR9D/uo3g0kHr1P27FUGCLqfA/l31LNeuv8z9/suONU0TxP08SvEO20vE/n0TkWYpW8j+A3ifUBNH0P/6nd3Od5ug//3mfUBNE0z//eZ9QE0TTPwAAAAAAAAAA/3mfUBNE0z8AAAAAAAAAAAAAAAAAAAAAAAAAAAAA8P8AAAAAAAAAAAAAAAAAAPD/AAAAAAAA8P8AAAAAAAAAAAAAAAAAAPD/AAAAAAAAAAAAAAAAAADw/wAAAAAAAAAAAAAAAAAA8P/91U+WJ4nePw==\",\"dtype\":\"float64\",\"shape\":[50]}},\"selected\":{\"id\":\"4012\",\"type\":\"Selection\"},\"selection_policy\":{\"id\":\"4013\",\"type\":\"UnionRenderers\"}},\"id\":\"3488\",\"type\":\"ColumnDataSource\"},{\"attributes\":{\"bottom\":{\"value\":0},\"fill_alpha\":{\"value\":0.1},\"fill_color\":{\"value\":\"#1f77b4\"},\"left\":{\"field\":\"left\"},\"line_alpha\":{\"value\":0.1},\"line_color\":{\"value\":\"#1f77b4\"},\"right\":{\"field\":\"right\"},\"top\":{\"field\":\"top\"}},\"id\":\"3165\",\"type\":\"Quad\"},{\"attributes\":{\"bottom\":{\"value\":0},\"fill_alpha\":{\"value\":0.05},\"fill_color\":{\"value\":\"#CB4777\"},\"left\":{\"field\":\"left\"},\"line_alpha\":{\"value\":0.05},\"line_color\":{\"value\":\"#7E03A7\"},\"right\":{\"field\":\"right\"},\"top\":{\"field\":\"top\"}},\"id\":\"3489\",\"type\":\"Quad\"},{\"attributes\":{\"data_source\":{\"id\":\"3163\",\"type\":\"ColumnDataSource\"},\"glyph\":{\"id\":\"3164\",\"type\":\"Quad\"},\"hover_glyph\":null,\"muted_glyph\":null,\"nonselection_glyph\":{\"id\":\"3165\",\"type\":\"Quad\"},\"selection_glyph\":null,\"view\":{\"id\":\"3167\",\"type\":\"CDSView\"}},\"id\":\"3166\",\"type\":\"GlyphRenderer\"},{\"attributes\":{\"bottom\":{\"value\":0},\"fill_alpha\":{\"value\":0.1},\"fill_color\":{\"value\":\"#1f77b4\"},\"left\":{\"field\":\"left\"},\"line_alpha\":{\"value\":0.1},\"line_color\":{\"value\":\"#1f77b4\"},\"right\":{\"field\":\"right\"},\"top\":{\"field\":\"top\"}},\"id\":\"3490\",\"type\":\"Quad\"},{\"attributes\":{\"data_source\":{\"id\":\"3488\",\"type\":\"ColumnDataSource\"},\"glyph\":{\"id\":\"3489\",\"type\":\"Quad\"},\"hover_glyph\":null,\"muted_glyph\":null,\"nonselection_glyph\":{\"id\":\"3490\",\"type\":\"Quad\"},\"selection_glyph\":null,\"view\":{\"id\":\"3492\",\"type\":\"CDSView\"}},\"id\":\"3491\",\"type\":\"GlyphRenderer\"},{\"attributes\":{\"source\":{\"id\":\"3163\",\"type\":\"ColumnDataSource\"}},\"id\":\"3167\",\"type\":\"CDSView\"},{\"attributes\":{\"callback\":null,\"data\":{\"left\":{\"__ndarray__\":\"tiLw2+V5PD8I5sjU0T2pP+b17O5XIbk/Y7y6eePRwj/U/f77GhPJP0U/Q35SVM8/W8BDAMXK0j8U4WXBYOvVP8wBiIL8C9k/hCKqQ5gs3D89Q8wENE3fP/ox9+LnNuE/VkKIwzXH4j+yUhmkg1fkPw9jqoTR5+U/a3M7ZR945z/Hg8xFbQjpPyOUXSa7mOo/f6TuBgkp7D/ctH/nVrntPzjFEMikSe8/yupQVPls8D/4cplEIDXxPyb74TRH/fE/VIMqJW7F8j+CC3MVlY3zP7CTuwW8VfQ/3xsE9uId9T8NpEzmCeb1PzssldYwrvY/abTdxld29z+XPCa3fj74P8XEbqelBvk/80y3l8zO+T8h1f+H85b6P09dSHgaX/s/feWQaEEn/D+rbdlYaO/8P9r1IUmPt/0/CH5qObZ//j82BrMp3Uf/PzLH/QwCCABASQsihRVsAEBgT0b9KNAAQHeTanU8NAFAjteO7U+YAUClG7NlY/wBQLxf1912YAJA06P7VYrEAkDq5x/OnSgDQA==\",\"dtype\":\"float64\",\"shape\":[50]},\"right\":{\"__ndarray__\":\"CObI1NE9qT/m9ezuVyG5P2O8unnj0cI/1P3++xoTyT9FP0N+UlTPP1vAQwDFytI/FOFlwWDr1T/MAYiC/AvZP4QiqkOYLNw/PUPMBDRN3z/6Mffi5zbhP1ZCiMM1x+I/slIZpINX5D8PY6qE0eflP2tzO2UfeOc/x4PMRW0I6T8jlF0mu5jqP3+k7gYJKew/3LR/51a57T84xRDIpEnvP8rqUFT5bPA/+HKZRCA18T8m++E0R/3xP1SDKiVuxfI/ggtzFZWN8z+wk7sFvFX0P98bBPbiHfU/DaRM5gnm9T87LJXWMK72P2m03cZXdvc/lzwmt34++D/FxG6npQb5P/NMt5fMzvk/IdX/h/OW+j9PXUh4Gl/7P33lkGhBJ/w/q23ZWGjv/D/a9SFJj7f9Pwh+ajm2f/4/NgazKd1H/z8yx/0MAggAQEkLIoUVbABAYE9G/SjQAEB3k2p1PDQBQI7Xju1PmAFApRuzZWP8AUC8X9fddmACQNOj+1WKxAJA6ucfzp0oA0ABLERGsYwDQA==\",\"dtype\":\"float64\",\"shape\":[50]},\"top\":{\"__ndarray__\":\"AD8OhV/o/T9umQwa2hz9P2S0oaEr0P0/7mDI3Jkc/z8eUeRQGcr8P54YoBPZyf4//dVPlieJ/j/PM5RvsQH9P//Xw/Snmvo/8BtfBLaQ/D/+p3dzneb4P8/w4xe7o/Y/EMH7VcZ19D+A3ifUBNH0P39YxyQYFfg/gN4n1ATR9D//eZ9QE0TzP/6nd3Od5ug//dVPlieJ7j8BQ7BX9l3mP/3VT5Ynid4//3mfUBNE0z/+p3dzneboPwAAAAAAAAAAAUOwV/Zd5j//eZ9QE0TjP/427/gc5uw//jbv+Bzm7D8AAAAAAADwP/95n1ATROM//dVPlieJ3j//eZ9QE0TTP/95n1ATRNM//3mfUBNE0z/91U+WJ4neP/3VT5Ynid4/AAAAAAAAAAABQ7BX9l3mP/95n1ATROM/AAAAAAAA8P8AAAAAAAAAAP95n1ATRNM/AAAAAAAAAAD/eZ9QE0TTPwAAAAAAAPD/AAAAAAAAAAAAAAAAAAAAAP95n1ATRNM//dVPlieJ3j8AAAAAAAAAAA==\",\"dtype\":\"float64\",\"shape\":[50]}},\"selected\":{\"id\":\"3884\",\"type\":\"Selection\"},\"selection_policy\":{\"id\":\"3885\",\"type\":\"UnionRenderers\"}},\"id\":\"3168\",\"type\":\"ColumnDataSource\"},{\"attributes\":{\"source\":{\"id\":\"3488\",\"type\":\"ColumnDataSource\"}},\"id\":\"3492\",\"type\":\"CDSView\"},{\"attributes\":{\"bottom\":{\"value\":0},\"fill_alpha\":{\"value\":0.05},\"fill_color\":{\"value\":\"#CB4777\"},\"left\":{\"field\":\"left\"},\"line_alpha\":{\"value\":0.05},\"line_color\":{\"value\":\"#7E03A7\"},\"right\":{\"field\":\"right\"},\"top\":{\"field\":\"top\"}},\"id\":\"3169\",\"type\":\"Quad\"},{\"attributes\":{\"callback\":null,\"data\":{\"left\":{\"__ndarray__\":\"DF8LJyWDQj/ZRaEvAM+vPxsvU+X5qb8/pd1q2Tm2xz+8IyzAdpfPP+q0dtNZvNM/9lfXRvis1z8B+ze6lp3bPw2emC01jt8/jKB80Gm/4T8S8iwKubfjP5hD3UMIsOU/HpWNfVeo5z+k5j23pqDpPyk47vD1mOs/r4meKkWR7T81205klInvP12W/87xwPA/IL/Xaxm98T/j568IQbnyP6YQiKVotfM/aTlgQpCx9D8sYjjft631P++KEHzfqfY/srPoGAem9z913MC1LqL4PzgFmVJWnvk/+i1x732a+j+9VkmMpZb7P4B/ISnNkvw/Q6j5xfSO/T8G0dFiHIv+P8n5qf9Dh/8/RhFBzrVBAECnJa2cyb8AQAk6GWvdPQFAak6FOfG7AUDMYvEHBToCQC13XdYYuAJAj4vJpCw2A0DwnzVzQLQDQFK0oUFUMgRAs8gNEGiwBEAU3Xneey4FQHbx5ayPrAVA1wVSe6MqBkA5Gr5Jt6gGQJouKhjLJgdA/EKW5t6kB0BdVwK18iIIQA==\",\"dtype\":\"float64\",\"shape\":[50]},\"right\":{\"__ndarray__\":\"2UWhLwDPrz8bL1Pl+am/P6Xdatk5tsc/vCMswHaXzz/qtHbTWbzTP/ZX10b4rNc/Afs3upad2z8NnpgtNY7fP4ygfNBpv+E/EvIsCrm34z+YQ91DCLDlPx6VjX1XqOc/pOY9t6ag6T8pOO7w9ZjrP6+JnipFke0/NdtOZJSJ7z9dlv/O8cDwPyC/12sZvfE/4+evCEG58j+mEIilaLXzP2k5YEKQsfQ/LGI437et9T/vihB836n2P7Kz6BgHpvc/ddzAtS6i+D84BZlSVp75P/otce99mvo/vVZJjKWW+z+AfyEpzZL8P0Oo+cX0jv0/BtHRYhyL/j/J+an/Q4f/P0YRQc61QQBApyWtnMm/AEAJOhlr3T0BQGpOhTnxuwFAzGLxBwU6AkAtd13WGLgCQI+LyaQsNgNA8J81c0C0A0BStKFBVDIEQLPIDRBosARAFN153nsuBUB28eWsj6wFQNcFUnujKgZAORq+SbeoBkCaLioYyyYHQPxClubepAdAXVcCtfIiCEC/a26DBqEIQA==\",\"dtype\":\"float64\",\"shape\":[50]},\"top\":{\"__ndarray__\":\"xpM6RdJIAkDfYIZ4qlYBQMuog/ecEQBAACs9S9JcAEB1D+SltPP+P3+bd3wOc/4/ZkaA6KKt/D+XOpvd9FH9P//Xw/Snmvo/Hzp4P9T4+T8XXHMJ8ID4PwC9T6gJovk/FnPfGjVS+z9/DAD3jnP6Pz/MeAsLC/s/fwwA945z+j8XXHMJ8ID4P4DeJ9QE0fQ/TxK8Q7bS8T8AF2wRRdHyP/95n1ATRNM//3mfUBNE0z8AAAAAAAAAAG7FUGCLqfA/AUOwV/Zd5j//eZ9QE0TTPwAAAAAAAPD/AAAAAAAAAAD/eZ9QE0TTP/95n1ATROM//3mfUBNE4z8AAAAAAAAAAAAAAAAAAPD/AAAAAAAA8P8AAAAAAAAAAAAAAAAAAPD/AAAAAAAA8P8AAAAAAADw/wAAAAAAAPD/AAAAAAAA8P8AAAAAAADw/wAAAAAAAPD/AAAAAAAA8P8AAAAAAADw/wAAAAAAAPD/AAAAAAAA8P8AAAAAAADw/wAAAAAAAPD/AAAAAAAAAAAAAAAAAAAAAA==\",\"dtype\":\"float64\",\"shape\":[50]}},\"selected\":{\"id\":\"4014\",\"type\":\"Selection\"},\"selection_policy\":{\"id\":\"4015\",\"type\":\"UnionRenderers\"}},\"id\":\"3493\",\"type\":\"ColumnDataSource\"},{\"attributes\":{\"bottom\":{\"value\":0},\"fill_alpha\":{\"value\":0.1},\"fill_color\":{\"value\":\"#1f77b4\"},\"left\":{\"field\":\"left\"},\"line_alpha\":{\"value\":0.1},\"line_color\":{\"value\":\"#1f77b4\"},\"right\":{\"field\":\"right\"},\"top\":{\"field\":\"top\"}},\"id\":\"3170\",\"type\":\"Quad\"},{\"attributes\":{\"bottom\":{\"value\":0},\"fill_alpha\":{\"value\":0.05},\"fill_color\":{\"value\":\"#CB4777\"},\"left\":{\"field\":\"left\"},\"line_alpha\":{\"value\":0.05},\"line_color\":{\"value\":\"#7E03A7\"},\"right\":{\"field\":\"right\"},\"top\":{\"field\":\"top\"}},\"id\":\"3494\",\"type\":\"Quad\"},{\"attributes\":{\"data_source\":{\"id\":\"3168\",\"type\":\"ColumnDataSource\"},\"glyph\":{\"id\":\"3169\",\"type\":\"Quad\"},\"hover_glyph\":null,\"muted_glyph\":null,\"nonselection_glyph\":{\"id\":\"3170\",\"type\":\"Quad\"},\"selection_glyph\":null,\"view\":{\"id\":\"3172\",\"type\":\"CDSView\"}},\"id\":\"3171\",\"type\":\"GlyphRenderer\"},{\"attributes\":{\"bottom\":{\"value\":0},\"fill_alpha\":{\"value\":0.1},\"fill_color\":{\"value\":\"#1f77b4\"},\"left\":{\"field\":\"left\"},\"line_alpha\":{\"value\":0.1},\"line_color\":{\"value\":\"#1f77b4\"},\"right\":{\"field\":\"right\"},\"top\":{\"field\":\"top\"}},\"id\":\"3495\",\"type\":\"Quad\"},{\"attributes\":{\"data_source\":{\"id\":\"3493\",\"type\":\"ColumnDataSource\"},\"glyph\":{\"id\":\"3494\",\"type\":\"Quad\"},\"hover_glyph\":null,\"muted_glyph\":null,\"nonselection_glyph\":{\"id\":\"3495\",\"type\":\"Quad\"},\"selection_glyph\":null,\"view\":{\"id\":\"3497\",\"type\":\"CDSView\"}},\"id\":\"3496\",\"type\":\"GlyphRenderer\"},{\"attributes\":{\"source\":{\"id\":\"3168\",\"type\":\"ColumnDataSource\"}},\"id\":\"3172\",\"type\":\"CDSView\"},{\"attributes\":{\"source\":{\"id\":\"3493\",\"type\":\"ColumnDataSource\"}},\"id\":\"3497\",\"type\":\"CDSView\"},{\"attributes\":{\"callback\":null,\"data\":{\"left\":{\"__ndarray__\":\"20vdbZSgOT+O1Kj2Ia+pP0L3OmKBlbk/HsKQ5Lgpwz+cCAQYsYjJPxpPd0up588/y0p1v1Aj0z8K7i7ZzFLWP0mR6PJIgtk/iDSiDMWx3D/H11smQeHfP4K9CqBeiOE/IY/nrBwg4z/BYMS52rfkP2AyocaYT+Y/AAR+01bn5z+f1VrgFH/pPz6nN+3SFus/3ngU+pCu7D99SvEGT0buPx0czhMN3u8/3nZVkOW68D+u38OWxIbxP35IMp2jUvI/TbGgo4Ie8z8dGg+qYerzP+2CfbBAtvQ/vevrth+C9T+MVFq9/k32P1y9yMPdGfc/LCY3yrzl9z/7jqXQm7H4P8v3E9d6ffk/m2CC3VlJ+j9qyfDjOBX7PzoyX+oX4fs/CpvN8Pas/D/ZAzz31Xj9P6lsqv20RP4/edUYBJQQ/z9JPocKc9z/P4zTeggpVABA8weyixi6AEBbPOkOCCABQMNwIJL3hQFAK6VXFefrAUCT2Y6Y1lECQPsNxhvGtwJAYkL9nrUdA0DKdjQipYMDQA==\",\"dtype\":\"float64\",\"shape\":[50]},\"right\":{\"__ndarray__\":\"jtSo9iGvqT9C9zpigZW5Px7CkOS4KcM/nAgEGLGIyT8aT3dLqefPP8tKdb9QI9M/Cu4u2cxS1j9JkejySILZP4g0ogzFsdw/x9dbJkHh3z+CvQqgXojhPyGP56wcIOM/wWDEudq35D9gMqHGmE/mPwAEftNW5+c/n9Va4BR/6T8+pzft0hbrP954FPqQruw/fUrxBk9G7j8dHM4TDd7vP952VZDluvA/rt/DlsSG8T9+SDKdo1LyP02xoKOCHvM/HRoPqmHq8z/tgn2wQLb0P73r67YfgvU/jFRavf5N9j9cvcjD3Rn3PywmN8q85fc/+46l0Jux+D/L9xPXen35P5tggt1ZSfo/asnw4zgV+z86Ml/qF+H7PwqbzfD2rPw/2QM899V4/T+pbKr9tET+P3nVGASUEP8/ST6HCnPc/z+M03oIKVQAQPMHsosYugBAWzzpDgggAUDDcCCS94UBQCulVxXn6wFAk9mOmNZRAkD7DcYbxrcCQGJC/Z61HQNAynY0IqWDA0Ayq2ullOkDQA==\",\"dtype\":\"float64\",\"shape\":[50]},\"top\":{\"__ndarray__\":\"jisN5hAv/j8gZryFhYX9P4A4RD1AAP4/LmVaNpo3/T9Pzwvsv3T7P294eMk7WP8/boKgCJVL+j/2MLzRryL6P+7wQOtoVfw/WAwCcvbN+T9EelNLopb7Px86eD/U+Pk/7rrkRdVL+D8AF2wRRdHyP+pja3H7Zfc//pALYlgV9j+XfUs166/zP8/w4xe7o/Y/gGDmsFoX+T/2MLzRryL6P3/5myCjyfU//3mfUBNE8z+fRORZilbyPwFDsFf2XeY//qd3c53m6D9PErxDttLxP27FUGCLqfA/AUOwV/Zd5j8BQ7BX9l3mP/95n1ATRNM//dVPlieJ3j//eZ9QE0TjPwAAAAAAAAAA/3mfUBNE0z//eZ9QE0TTPwAAAAAAAPD/AAAAAAAA8P8AAAAAAAAAAP95n1ATRNM/AAAAAAAAAAAAAAAAAADw/wAAAAAAAAAAAAAAAAAA8P8AAAAAAADw/wAAAAAAAPD/AAAAAAAA8P8AAAAAAADw/wAAAAAAAPD/AAAAAAAA8P8AAAAAAAAAAA==\",\"dtype\":\"float64\",\"shape\":[50]}},\"selected\":{\"id\":\"3886\",\"type\":\"Selection\"},\"selection_policy\":{\"id\":\"3887\",\"type\":\"UnionRenderers\"}},\"id\":\"3173\",\"type\":\"ColumnDataSource\"},{\"attributes\":{\"bottom\":{\"value\":0},\"fill_alpha\":{\"value\":0.05},\"fill_color\":{\"value\":\"#CB4777\"},\"left\":{\"field\":\"left\"},\"line_alpha\":{\"value\":0.05},\"line_color\":{\"value\":\"#7E03A7\"},\"right\":{\"field\":\"right\"},\"top\":{\"field\":\"top\"}},\"id\":\"3174\",\"type\":\"Quad\"},{\"attributes\":{\"callback\":null,\"data\":{\"left\":{\"__ndarray__\":\"AAAAAAAAAABjB8H1iUKyP2MHwfWJQsI/FIuh8M5jyz9jB8H1iULSPzxJMXMs09Y/FIuh8M5j2z/tzBFucfTfP2MHwfWJQuI/Tyh5NNuK5D88STFzLNPmPyhq6bF9G+k/FIuh8M5j6z8BrFkvIKztP+3MEW5x9O8/7fZkVmEe8T9jB8H1iULyP9kXHZWyZvM/Tyh5NNuK9D/GONXTA6/1PzxJMXMs0/Y/slmNElX39z8oaumxfRv5P556RVGmP/o/FIuh8M5j+z+Lm/2P94f8PwGsWS8grP0/d7y1zkjQ/j/tzBFucfT/P7LutgZNjABA7fZkVmEeAUAo/xKmdbABQGMHwfWJQgJAng9vRZ7UAkDZFx2VsmYDQBQgy+TG+ANATyh5NNuKBECKMCeE7xwFQMY41dMDrwVAAUGDIxhBBkA8STFzLNMGQHdR38JAZQdAslmNElX3B0DtYTtiaYkIQChq6bF9GwlAY3KXAZKtCUCeekVRpj8KQNmC86C60QpAFIuh8M5jC0BQk09A4/ULQA==\",\"dtype\":\"float64\",\"shape\":[50]},\"right\":{\"__ndarray__\":\"YwfB9YlCsj9jB8H1iULCPxSLofDOY8s/YwfB9YlC0j88STFzLNPWPxSLofDOY9s/7cwRbnH03z9jB8H1iULiP08oeTTbiuQ/PEkxcyzT5j8oaumxfRvpPxSLofDOY+s/AaxZLyCs7T/tzBFucfTvP+32ZFZhHvE/YwfB9YlC8j/ZFx2VsmbzP08oeTTbivQ/xjjV0wOv9T88STFzLNP2P7JZjRJV9/c/KGrpsX0b+T+eekVRpj/6PxSLofDOY/s/i5v9j/eH/D8BrFkvIKz9P3e8tc5I0P4/7cwRbnH0/z+y7rYGTYwAQO32ZFZhHgFAKP8SpnWwAUBjB8H1iUICQJ4Pb0We1AJA2RcdlbJmA0AUIMvkxvgDQE8oeTTbigRAijAnhO8cBUDGONXTA68FQAFBgyMYQQZAPEkxcyzTBkB3Ud/CQGUHQLJZjRJV9wdA7WE7YmmJCEAoaumxfRsJQGNylwGSrQlAnnpFUaY/CkDZgvOgutEKQBSLofDOYwtAUJNPQOP1C0CKm/2P94cMQA==\",\"dtype\":\"float64\",\"shape\":[50]},\"top\":{\"__ndarray__\":\"1SlD1jORAUC3H3hYz/YBQFct9w3ybAJADlhGypkxAUCuPSJnShoAQI4rDeYQL/4//dVPlieJ/j9/m3d8DnP+P/7uLwbta/0/9jC80a8i+j8AvU+oCaL5P5d9SzXrr/M/f/WT5Umi9z9/suONU0TxP/95n1ATRPM/ABdsEUXR8j//eZ9QE0TzP/6nd3Od5ug/n0TkWYpW8j/91U+WJ4nuPwAAAAAAAPA//jbv+Bzm7D8/zHgLCwvrP/3VT5Ynie4//3mfUBNE4z//eZ9QE0TjPwFDsFf2XeY//3mfUBNE4z8AAAAAAADwP08SvEO20vE//jbv+Bzm7D/91U+WJ4neP/6nd3Od5ug/AUOwV/Zd5j/91U+WJ4neP/3VT5Ynid4//3mfUBNE0z8AAAAAAADw//3VT5Ynie4/AAAAAAAA8P8AAAAAAADw/wAAAAAAAAAAAAAAAAAA8P8AAAAAAADw/wAAAAAAAPD/AAAAAAAAAAAAAAAAAAAAAAAAAAAAAPD/AAAAAAAA8P8AAAAAAAAAAA==\",\"dtype\":\"float64\",\"shape\":[50]}},\"selected\":{\"id\":\"4016\",\"type\":\"Selection\"},\"selection_policy\":{\"id\":\"4017\",\"type\":\"UnionRenderers\"}},\"id\":\"3498\",\"type\":\"ColumnDataSource\"},{\"attributes\":{\"bottom\":{\"value\":0},\"fill_alpha\":{\"value\":0.1},\"fill_color\":{\"value\":\"#1f77b4\"},\"left\":{\"field\":\"left\"},\"line_alpha\":{\"value\":0.1},\"line_color\":{\"value\":\"#1f77b4\"},\"right\":{\"field\":\"right\"},\"top\":{\"field\":\"top\"}},\"id\":\"3175\",\"type\":\"Quad\"},{\"attributes\":{\"bottom\":{\"value\":0},\"fill_alpha\":{\"value\":0.05},\"fill_color\":{\"value\":\"#CB4777\"},\"left\":{\"field\":\"left\"},\"line_alpha\":{\"value\":0.05},\"line_color\":{\"value\":\"#7E03A7\"},\"right\":{\"field\":\"right\"},\"top\":{\"field\":\"top\"}},\"id\":\"3499\",\"type\":\"Quad\"},{\"attributes\":{\"data_source\":{\"id\":\"3173\",\"type\":\"ColumnDataSource\"},\"glyph\":{\"id\":\"3174\",\"type\":\"Quad\"},\"hover_glyph\":null,\"muted_glyph\":null,\"nonselection_glyph\":{\"id\":\"3175\",\"type\":\"Quad\"},\"selection_glyph\":null,\"view\":{\"id\":\"3177\",\"type\":\"CDSView\"}},\"id\":\"3176\",\"type\":\"GlyphRenderer\"},{\"attributes\":{\"bottom\":{\"value\":0},\"fill_alpha\":{\"value\":0.1},\"fill_color\":{\"value\":\"#1f77b4\"},\"left\":{\"field\":\"left\"},\"line_alpha\":{\"value\":0.1},\"line_color\":{\"value\":\"#1f77b4\"},\"right\":{\"field\":\"right\"},\"top\":{\"field\":\"top\"}},\"id\":\"3500\",\"type\":\"Quad\"},{\"attributes\":{\"data_source\":{\"id\":\"3498\",\"type\":\"ColumnDataSource\"},\"glyph\":{\"id\":\"3499\",\"type\":\"Quad\"},\"hover_glyph\":null,\"muted_glyph\":null,\"nonselection_glyph\":{\"id\":\"3500\",\"type\":\"Quad\"},\"selection_glyph\":null,\"view\":{\"id\":\"3502\",\"type\":\"CDSView\"}},\"id\":\"3501\",\"type\":\"GlyphRenderer\"},{\"attributes\":{\"callback\":null,\"data\":{\"left\":{\"__ndarray__\":\"+0kqPhAVMT+lG286OKqjP1vxMCojmbM/5FQqNypdvT823BGimJDDP/qNjiiccsg/vz8Lr59UzT/B+MOaURvRP6NRAl5TjNM/hapAIVX91T9nA3/kVm7YP0lcvadY39o/LLX7alpQ3T8ODjouXMHfP3gzvPguGeE/6V9b2q9R4j9ajPq7MIrjP8u4mZ2xwuQ/POU4fzL75T+tEdhgszPnPx4+d0I0bOg/j2oWJLWk6T8Al7UFNt3qP3HDVOe2Few/4+/zyDdO7T9UHJOquIbuP8VIMow5v+8/m7roNt178D/UULinHRjxPwznhxhetPE/RX1XiZ5Q8j99Eyf63uzyP7ap9mofifM/7z/G218l9D8n1pVMoMH0P2BsZb3gXfU/mAI1LiH69T/RmASfYZb2Pwkv1A+iMvc/QsWjgOLO9z96W3PxImv4P7PxQmJjB/k/64cS06Oj+T8kHuJD5D/6P1y0sbQk3Po/lUqBJWV4+z/N4FCWpRT8PwZ3IAfmsPw/Pw3wdyZN/T93o7/oZun9Pw==\",\"dtype\":\"float64\",\"shape\":[50]},\"right\":{\"__ndarray__\":\"pRtvOjiqoz9b8TAqI5mzP+RUKjcqXb0/NtwRopiQwz/6jY4onHLIP78/C6+fVM0/wfjDmlEb0T+jUQJeU4zTP4WqQCFV/dU/ZwN/5FZu2D9JXL2nWN/aPyy1+2paUN0/Dg46LlzB3z94M7z4LhnhP+lfW9qvUeI/Woz6uzCK4z/LuJmdscLkPzzlOH8y++U/rRHYYLMz5z8ePndCNGzoP49qFiS1pOk/AJe1BTbd6j9xw1TnthXsP+Pv88g3Tu0/VByTqriG7j/FSDKMOb/vP5u66Dbde/A/1FC4px0Y8T8M54cYXrTxP0V9V4meUPI/fRMn+t7s8j+2qfZqH4nzP+8/xttfJfQ/J9aVTKDB9D9gbGW94F31P5gCNS4h+vU/0ZgEn2GW9j8JL9QPojL3P0LFo4Dizvc/eltz8SJr+D+z8UJiYwf5P+uHEtOjo/k/JB7iQ+Q/+j9ctLG0JNz6P5VKgSVlePs/zeBQlqUU/D8GdyAH5rD8Pz8N8HcmTf0/d6O/6Gbp/T+wOY9Zp4X+Pw==\",\"dtype\":\"float64\",\"shape\":[50]},\"top\":{\"__ndarray__\":\"dZDdjAKEAEA/2fHGKaIAQAArPUvSXABA7mDI3Jkc/z+Qto87EBj8P2Vd7Pnnfv8/LmVaNpo3/T9uiZE5rlz+P26JkTmuXP4/fm8zNl3m+j+XOpvd9FH9P+/mKIyG2Ps/boKgCJVL+j/P8OMXu6P2P/6nd3Od5vg/boKgCJVL+j8fIwwujyf3P+6jeDSQevU/EMH7VcZ19D+fW1Brzyf1PwAXbBFF0fI/TxK8Q7bS8T+A3ifUBNH0P/95n1ATRPM//jbv+Bzm7D8BQ7BX9l3mP/3VT5Ynid4//qd3c53m6D//eZ9QE0TTP/3VT5Ynid4/AUOwV/Zd5j//eZ9QE0TjP/3VT5Ynid4//3mfUBNE4z//eZ9QE0TTP/3VT5Ynid4/AAAAAAAA8P8AAAAAAADw//95n1ATRNM//dVPlieJ3j8AAAAAAAAAAAAAAAAAAAAAAAAAAAAAAAAAAAAAAADw//95n1ATRNM/AAAAAAAA8P8AAAAAAADw//3VT5Ynid4/AAAAAAAAAAABQ7BX9l3mPw==\",\"dtype\":\"float64\",\"shape\":[50]}},\"selected\":{\"id\":\"3876\",\"type\":\"Selection\"},\"selection_policy\":{\"id\":\"3877\",\"type\":\"UnionRenderers\"}},\"id\":\"3148\",\"type\":\"ColumnDataSource\"},{\"attributes\":{\"source\":{\"id\":\"3173\",\"type\":\"ColumnDataSource\"}},\"id\":\"3177\",\"type\":\"CDSView\"},{\"attributes\":{\"callback\":null,\"data\":{\"left\":{\"__ndarray__\":\"gxqEr1XHNj8dsXEsexGwPxDvmYEXBsA/kQX7bHEDyD8JDi6sZQDQP0qZ3qES/9M/iySPl7/91z/Lrz+NbPzbPww78IIZ+98/JmNQPOP84T/GqCi3OfzjP2buADKQ++U/BzTZrOb65z+nebEnPfrpP0e/iaKT+es/6ARiHer47T+ISjqYQPjvPxVIiYnL+/A/5Wr1xnb78T+1jWEEIvvyP4WwzUHN+vM/VdM5f3j69D8l9qW8I/r1P/YYEvrO+fY/xjt+N3r59z+WXup0Jfn4P2aBVrLQ+Pk/NqTC73v4+j8Gxy4tJ/j7P9fpmmrS9/w/pwwHqH33/T93L3PlKPf+P0dS3yLU9v8/jLolsD97AED0y9tOFfsAQFzdke3qegFAxO5HjMD6AUAsAP4qlnoCQJQRtMlr+gJA/CJqaEF6A0BkNCAHF/oDQMxF1qXseQRANFeMRML5BECcaELjl3kFQAR6+IFt+QVAbYuuIEN5BkDVnGS/GPkGQD2uGl7ueAdApb/Q/MP4B0AN0YabmXgIQA==\",\"dtype\":\"float64\",\"shape\":[50]},\"right\":{\"__ndarray__\":\"HbFxLHsRsD8Q75mBFwbAP5EF+2xxA8g/CQ4urGUA0D9Kmd6hEv/TP4skj5e//dc/y68/jWz82z8MO/CCGfvfPyZjUDzj/OE/xqgotzn84z9m7gAykPvlPwc02azm+uc/p3mxJz366T9Hv4mik/nrP+gEYh3q+O0/iEo6mED47z8VSImJy/vwP+Vq9cZ2+/E/tY1hBCL78j+FsM1BzfrzP1XTOX94+vQ/JfalvCP69T/2GBL6zvn2P8Y7fjd6+fc/ll7qdCX5+D9mgVay0Pj5Pzakwu97+Po/BscuLSf4+z/X6Zpq0vf8P6cMB6h99/0/dy9z5Sj3/j9HUt8i1Pb/P4y6JbA/ewBA9MvbThX7AEBc3ZHt6noBQMTuR4zA+gFALAD+KpZ6AkCUEbTJa/oCQPwiamhBegNAZDQgBxf6A0DMRdal7HkEQDRXjETC+QRAnGhC45d5BUAEeviBbfkFQG2LriBDeQZA1Zxkvxj5BkA9rhpe7ngHQKW/0PzD+AdADdGGm5l4CEB14jw6b/gIQA==\",\"dtype\":\"float64\",\"shape\":[50]},\"top\":{\"__ndarray__\":\"iMrbh4p0AECmBluTszD/P+7wQOtoVfw/ZkaA6KKt/D/OB1ApAHX5Px86eD/U+Pk//9fD9Kea+j9/+Zsgo8n1P8/w4xe7o/Y/kJ8jKstG+T9+yU+fmBX0PwFDsFf2XfY/fwwA945z+j/mZ1gUntz3P5C2jzsQGPw/AL1PqAmi+T/+p3dzneb4P/6QC2JYFfY/TxK8Q7bS8T//eZ9QE0TzPz/MeAsLC+s//jbv+Bzm7D/91U+WJ4neP/95n1ATROM/AAAAAAAAAAAAAAAAAAAAAAAAAAAAAAAAAAAAAAAAAAAAAAAAAAAAAAAAAAAAAPD/AUOwV/Zd5j//eZ9QE0TjPwAAAAAAAPD/AAAAAAAA8P8AAAAAAADw/wAAAAAAAPD/AAAAAAAA8P8AAAAAAADw/wAAAAAAAPD/AAAAAAAA8P8AAAAAAADw/wAAAAAAAPD/AAAAAAAA8P8AAAAAAAAAAAAAAAAAAPD/AAAAAAAA8P8AAAAAAADw/wAAAAAAAPD/AAAAAAAA8P8AAAAAAAAAAA==\",\"dtype\":\"float64\",\"shape\":[50]}},\"selected\":{\"id\":\"3888\",\"type\":\"Selection\"},\"selection_policy\":{\"id\":\"3889\",\"type\":\"UnionRenderers\"}},\"id\":\"3178\",\"type\":\"ColumnDataSource\"},{\"attributes\":{\"source\":{\"id\":\"3498\",\"type\":\"ColumnDataSource\"}},\"id\":\"3502\",\"type\":\"CDSView\"},{\"attributes\":{\"bottom\":{\"value\":0},\"fill_alpha\":{\"value\":0.05},\"fill_color\":{\"value\":\"#CB4777\"},\"left\":{\"field\":\"left\"},\"line_alpha\":{\"value\":0.05},\"line_color\":{\"value\":\"#7E03A7\"},\"right\":{\"field\":\"right\"},\"top\":{\"field\":\"top\"}},\"id\":\"3179\",\"type\":\"Quad\"},{\"attributes\":{\"callback\":null,\"data\":{\"left\":{\"__ndarray__\":\"YHLvnynuMz95cBopc7msPwaBev+Epbw/6OQzNSh3xT9NiarqjZvMP9mWEND539E/DOnLqixy1T8/O4eFXwTZP3GNQmCSltw/0e9+nWIU4D/qmNwKfN3hPwRCOniVpuM/HeuX5a5v5T82lPVSyDjnP1A9U8DhAek/aeawLfvK6j+Cjw6bFJTsP5s4bAguXe4/2vDkuiMT8D9nxZNxsPfwP/OZQig93PE/gG7x3snA8j8NQ6CVVqXzP5kXT0zjifQ/Juz9AnBu9T+zwKy5/FL2Pz+VW3CJN/c/zGkKJxYc+D9ZPrndogD5P+USaJQv5fk/cucWS7zJ+j/+u8UBSa77P4uQdLjVkvw/GGUjb2J3/T+kOdIl71v+PzEOgdx7QP8/X/GXSYQSAECmW++kyoQAQOzFRgAR9wBAMjCeW1dpAUB4mvW2ndsBQL8ETRLkTQJABW+kbSrAAkBL2fvIcDIDQJJDUyS3pANA2K2qf/0WBEAeGALbQ4kEQGWCWTaK+wRAq+ywkdBtBUDxVgjtFuAFQA==\",\"dtype\":\"float64\",\"shape\":[50]},\"right\":{\"__ndarray__\":\"eXAaKXO5rD8GgXr/hKW8P+jkMzUod8U/TYmq6o2bzD/ZlhDQ+d/RPwzpy6osctU/PzuHhV8E2T9xjUJgkpbcP9Hvfp1iFOA/6pjcCnzd4T8EQjp4labjPx3rl+Wub+U/NpT1Usg45z9QPVPA4QHpP2nmsC37yuo/go8OmxSU7D+bOGwILl3uP9rw5LojE/A/Z8WTcbD38D/zmUIoPdzxP4Bu8d7JwPI/DUOglVal8z+ZF09M44n0Pybs/QJwbvU/s8CsufxS9j8/lVtwiTf3P8xpCicWHPg/WT653aIA+T/lEmiUL+X5P3LnFku8yfo//rvFAUmu+z+LkHS41ZL8PxhlI29id/0/pDnSJe9b/j8xDoHce0D/P1/xl0mEEgBAplvvpMqEAEDsxUYAEfcAQDIwnltXaQFAeJr1tp3bAUC/BE0S5E0CQAVvpG0qwAJAS9n7yHAyA0CSQ1Mkt6QDQNitqn/9FgRAHhgC20OJBEBlglk2ivsEQKvssJHQbQVA8VYI7RbgBUA4wV9IXVIGQA==\",\"dtype\":\"float64\",\"shape\":[50]},\"top\":{\"__ndarray__\":\"ygTl8wAYAUAYnyNh5t7+P35vMzZd5vo//qd3c53m+D+/iovmkNsAQJc6m930Uf0/TuZ3/QRG/j9+bzM2Xeb6P0/PC+y/dPs//9O7uU5z/D9+bzM2Xeb6P//Xw/Snmvo/HyMMLo8n9z+fRORZilbyP5d9SzXrr/M//pALYlgV9j9/+Zsgo8n1P37JT5+YFfQ/EMH7VcZ19D+fW1Brzyf1P/6nd3Od5ug/7qN4NJB69T8AF2wRRdHyP3+y441TRPE/ABdsEUXR8j8AF2wRRdHyP5d9SzXrr/M/TxK8Q7bS8T/+Nu/4HObsP08SvEO20vE//jbv+Bzm7D8AAAAAAAAAAAFDsFf2XeY//dVPlieJ3j8AAAAAAADw/wAAAAAAAPD/AAAAAAAAAAD/eZ9QE0TjP/95n1ATROM/AAAAAAAAAAD91U+WJ4nePwAAAAAAAAAAAAAAAAAAAAAAAAAAAADw/wAAAAAAAAAAAAAAAAAA8P8AAAAAAADw/wAAAAAAAPD/AAAAAAAA8P8AAAAAAAAAAA==\",\"dtype\":\"float64\",\"shape\":[50]}},\"selected\":{\"id\":\"4018\",\"type\":\"Selection\"},\"selection_policy\":{\"id\":\"4019\",\"type\":\"UnionRenderers\"}},\"id\":\"3503\",\"type\":\"ColumnDataSource\"},{\"attributes\":{\"bottom\":{\"value\":0},\"fill_alpha\":{\"value\":0.1},\"fill_color\":{\"value\":\"#1f77b4\"},\"left\":{\"field\":\"left\"},\"line_alpha\":{\"value\":0.1},\"line_color\":{\"value\":\"#1f77b4\"},\"right\":{\"field\":\"right\"},\"top\":{\"field\":\"top\"}},\"id\":\"3180\",\"type\":\"Quad\"},{\"attributes\":{\"bottom\":{\"value\":0},\"fill_alpha\":{\"value\":0.05},\"fill_color\":{\"value\":\"#CB4777\"},\"left\":{\"field\":\"left\"},\"line_alpha\":{\"value\":0.05},\"line_color\":{\"value\":\"#7E03A7\"},\"right\":{\"field\":\"right\"},\"top\":{\"field\":\"top\"}},\"id\":\"3504\",\"type\":\"Quad\"},{\"attributes\":{\"data_source\":{\"id\":\"3178\",\"type\":\"ColumnDataSource\"},\"glyph\":{\"id\":\"3179\",\"type\":\"Quad\"},\"hover_glyph\":null,\"muted_glyph\":null,\"nonselection_glyph\":{\"id\":\"3180\",\"type\":\"Quad\"},\"selection_glyph\":null,\"view\":{\"id\":\"3182\",\"type\":\"CDSView\"}},\"id\":\"3181\",\"type\":\"GlyphRenderer\"},{\"attributes\":{\"bottom\":{\"value\":0},\"fill_alpha\":{\"value\":0.1},\"fill_color\":{\"value\":\"#1f77b4\"},\"left\":{\"field\":\"left\"},\"line_alpha\":{\"value\":0.1},\"line_color\":{\"value\":\"#1f77b4\"},\"right\":{\"field\":\"right\"},\"top\":{\"field\":\"top\"}},\"id\":\"3505\",\"type\":\"Quad\"},{\"attributes\":{\"data_source\":{\"id\":\"3503\",\"type\":\"ColumnDataSource\"},\"glyph\":{\"id\":\"3504\",\"type\":\"Quad\"},\"hover_glyph\":null,\"muted_glyph\":null,\"nonselection_glyph\":{\"id\":\"3505\",\"type\":\"Quad\"},\"selection_glyph\":null,\"view\":{\"id\":\"3507\",\"type\":\"CDSView\"}},\"id\":\"3506\",\"type\":\"GlyphRenderer\"},{\"attributes\":{\"source\":{\"id\":\"3178\",\"type\":\"ColumnDataSource\"}},\"id\":\"3182\",\"type\":\"CDSView\"},{\"attributes\":{\"callback\":null,\"data\":{\"left\":{\"__ndarray__\":\"Sd85uJXFFj+LWjkTwOWrPxNMy60O4Ls/cPX8qJ7mxD/XRBT7Nd3LPx/KlabmadE/0nGhTzLl1D+GGa34fWDYPznBuKHJ29s/7GjEShVX3z9QCOh5MGnhPyrcbU7WJuM/A7DzInzk5D/dg3n3IaLmP7dX/8vHX+g/kCuFoG0d6j9q/wp1E9vrP0TTkEm5mO0/HacWHl9W7z97PU55AorwP2gnkWPVaPE/VRHUTahH8j9C+xY4eybzPy7lWSJOBfQ/G8+cDCHk9D8Iud/288L1P/WiIuHGofY/4oxly5mA9z/Pdqi1bF/4P7tg658/Pvk/qEouihId+j+VNHF05fv6P4IetF642vs/bwj3SIu5/D9c8jkzXpj9P0ncfB0xd/4/Nca/BwRW/z8SWAF5axoAQAjNIu7UiQBA/kFEYz75AED1tmXYp2gBQOsrh00R2AFA4qCownpHAkDYFco35LYCQM+K66xNJgNAxf8MIreVA0C7dC6XIAUEQLLpTwyKdARAqF5xgfPjBECf05L2XFMFQA==\",\"dtype\":\"float64\",\"shape\":[50]},\"right\":{\"__ndarray__\":\"i1o5E8Dlqz8TTMutDuC7P3D1/Kie5sQ/10QU+zXdyz8fypWm5mnRP9JxoU8y5dQ/hhmt+H1g2D85wbihydvbP+xoxEoVV98/UAjoeTBp4T8q3G1O1ibjPwOw8yJ85OQ/3YN59yGi5j+3V//Lx1/oP5ArhaBtHeo/av8KdRPb6z9E05BJuZjtPx2nFh5fVu8/ez1OeQKK8D9oJ5Fj1WjxP1UR1E2oR/I/QvsWOHsm8z8u5VkiTgX0PxvPnAwh5PQ/CLnf9vPC9T/1oiLhxqH2P+KMZcuZgPc/z3aotWxf+D+7YOufPz75P6hKLooSHfo/lTRxdOX7+j+CHrReuNr7P28I90iLufw/XPI5M16Y/T9J3HwdMXf+PzXGvwcEVv8/ElgBeWsaAEAIzSLu1IkAQP5BRGM++QBA9bZl2KdoAUDrK4dNEdgBQOKgqMJ6RwJA2BXKN+S2AkDPiuusTSYDQMX/DCK3lQNAu3QulyAFBECy6U8MinQEQKhecYHz4wRAn9OS9lxTBUCVSLRrxsIFQA==\",\"dtype\":\"float64\",\"shape\":[50]},\"top\":{\"__ndarray__\":\"Vv2C814OA0BWi9/IuQ8CQJgT3O2l/QBAHZkgg+6R/z9/tuvIrGv/P9jqKUb7nv4/lzqb3fRR/T+fATQClPj7P39YxyQYFfg/z/DjF7uj9j/mZ1gUntz3Px86eD/U+Pk/7vBA62hV/D8AAAAAAADwPwFDsFf2XfY/n0TkWYpW8j//eZ9QE0TjP08SvEO20vE//qd3c53m6D9uxVBgi6nwP+6jeDSQevU/EMH7VcZ19D8/zHgLCwvrP4DeJ9QE0fQ//qd3c53m6D8AAAAAAAAAAAAAAAAAAPA//jbv+Bzm7D8AF2wRRdHyPwFDsFf2XeY/AUOwV/Zd5j//eZ9QE0TTP/95n1ATROM//3mfUBNE0z/+p3dzneboP/3VT5Ynid4/AUOwV/Zd5j9PErxDttLxP/427/gc5uw//3mfUBNE0z8AAAAAAAAAAAAAAAAAAPD//dVPlieJ3j8AAAAAAADw/wAAAAAAAPD/AAAAAAAAAAD/eZ9QE0TTPwAAAAAAAPD/AAAAAAAA8P8AAAAAAAAAAA==\",\"dtype\":\"float64\",\"shape\":[50]}},\"selected\":{\"id\":\"3890\",\"type\":\"Selection\"},\"selection_policy\":{\"id\":\"3891\",\"type\":\"UnionRenderers\"}},\"id\":\"3183\",\"type\":\"ColumnDataSource\"},{\"attributes\":{\"source\":{\"id\":\"3503\",\"type\":\"ColumnDataSource\"}},\"id\":\"3507\",\"type\":\"CDSView\"},{\"attributes\":{\"bottom\":{\"value\":0},\"fill_alpha\":{\"value\":0.05},\"fill_color\":{\"value\":\"#CB4777\"},\"left\":{\"field\":\"left\"},\"line_alpha\":{\"value\":0.05},\"line_color\":{\"value\":\"#7E03A7\"},\"right\":{\"field\":\"right\"},\"top\":{\"field\":\"top\"}},\"id\":\"3184\",\"type\":\"Quad\"},{\"attributes\":{\"callback\":null,\"data\":{\"left\":{\"__ndarray__\":\"gxqEr1XHNj8+iZZeSo6xPzDHvrPmgsE/wUkyOKg+yj8q5lLeNH3RP3OnjKAV29U/u2jGYvY42j8EKgAl15beP6b1nPNbeuE/Sta5VEyp4z/vtta1PNjlP5OX8xYtB+g/N3gQeB026j/cWC3ZDWXsP4A5Sjr+k+4/E42zTXdh8D9l/UF+73jxP7dt0K5nkPI/Cd5e39+n8z9cTu0PWL/0P66+e0DQ1vU/AC8KcUju9j9Sn5ihwAX4P6QPJ9I4Hfk/9n+1ArE0+j9J8EMzKUz7P5tg0mOhY/w/7dBglBl7/T8/Qe/EkZL+P5GxffUJqv8/8hAGE8FgAEAbSU0rfewAQESBlEM5eAFAbbnbW/UDAkCW8SJ0sY8CQL8paoxtGwNA6GGxpCmnA0ARmvi85TIEQDvSP9WhvgRAZAqH7V1KBUCNQs4FGtYFQLZ6FR7WYQZA37JcNpLtBkAI66NOTnkHQDEj62YKBQhAWlsyf8aQCECDk3mXghwJQKzLwK8+qAlA1QMIyPozCkD/O0/gtr8KQA==\",\"dtype\":\"float64\",\"shape\":[50]},\"right\":{\"__ndarray__\":\"PomWXkqOsT8wx76z5oLBP8FJMjioPso/KuZS3jR90T9zp4ygFdvVP7toxmL2ONo/BCoAJdeW3j+m9ZzzW3rhP0rWuVRMqeM/77bWtTzY5T+Tl/MWLQfoPzd4EHgdNuo/3Fgt2Q1l7D+AOUo6/pPuPxONs013YfA/Zf1Bfu948T+3bdCuZ5DyPwneXt/fp/M/XE7tD1i/9D+uvntA0Nb1PwAvCnFI7vY/Up+YocAF+D+kDyfSOB35P/Z/tQKxNPo/SfBDMylM+z+bYNJjoWP8P+3QYJQZe/0/P0HvxJGS/j+RsX31Car/P/IQBhPBYABAG0lNK33sAEBEgZRDOXgBQG2521v1AwJAlvEidLGPAkC/KWqMbRsDQOhhsaQppwNAEZr4vOUyBEA70j/Vob4EQGQKh+1dSgVAjULOBRrWBUC2ehUe1mEGQN+yXDaS7QZACOujTk55B0AxI+tmCgUIQFpbMn/GkAhAg5N5l4IcCUCsy8CvPqgJQNUDCMj6MwpA/ztP4La/CkAndJb4cksLQA==\",\"dtype\":\"float64\",\"shape\":[50]},\"top\":{\"__ndarray__\":\"cxJU3lO/AEA4fUNs3bAAQAAAAAAAAABAKAneIVvpAEAAPw6FX+j9P2pCk0UAN/w/oIeUsYC0+D+A3ifUBNH0P/95n1ATRPM/P8x4CwsL6z9PErxDttLxPxdccwnwgPg/fslPn5gV9D//eZ9QE0TjP/3VT5Ynid4/AAAAAAAAAAD91U+WJ4neP/95n1ATROM//dVPlieJ3j8AAAAAAAAAAP427/gc5uw/AAAAAAAA8P8AAAAAAAAAAP95n1ATRNM/AAAAAAAA8P//eZ9QE0TTPwAAAAAAAAAAAAAAAAAA8P8AAAAAAADw/wAAAAAAAPD/AAAAAAAAAAAAAAAAAADw/wAAAAAAAPD/AAAAAAAA8P8AAAAAAADw/wAAAAAAAPD/AAAAAAAA8P//eZ9QE0TTPwAAAAAAAPD/AAAAAAAA8P8AAAAAAADw/wAAAAAAAPD/AAAAAAAA8P8AAAAAAADw/wAAAAAAAPD/AAAAAAAA8P8AAAAAAADw/wAAAAAAAPD/AAAAAAAA8P8AAAAAAAAAAA==\",\"dtype\":\"float64\",\"shape\":[50]}},\"selected\":{\"id\":\"4020\",\"type\":\"Selection\"},\"selection_policy\":{\"id\":\"4021\",\"type\":\"UnionRenderers\"}},\"id\":\"3508\",\"type\":\"ColumnDataSource\"},{\"attributes\":{\"bottom\":{\"value\":0},\"fill_alpha\":{\"value\":0.1},\"fill_color\":{\"value\":\"#1f77b4\"},\"left\":{\"field\":\"left\"},\"line_alpha\":{\"value\":0.1},\"line_color\":{\"value\":\"#1f77b4\"},\"right\":{\"field\":\"right\"},\"top\":{\"field\":\"top\"}},\"id\":\"3185\",\"type\":\"Quad\"},{\"attributes\":{\"bottom\":{\"value\":0},\"fill_alpha\":{\"value\":0.05},\"fill_color\":{\"value\":\"#CB4777\"},\"left\":{\"field\":\"left\"},\"line_alpha\":{\"value\":0.05},\"line_color\":{\"value\":\"#7E03A7\"},\"right\":{\"field\":\"right\"},\"top\":{\"field\":\"top\"}},\"id\":\"3509\",\"type\":\"Quad\"},{\"attributes\":{\"data_source\":{\"id\":\"3183\",\"type\":\"ColumnDataSource\"},\"glyph\":{\"id\":\"3184\",\"type\":\"Quad\"},\"hover_glyph\":null,\"muted_glyph\":null,\"nonselection_glyph\":{\"id\":\"3185\",\"type\":\"Quad\"},\"selection_glyph\":null,\"view\":{\"id\":\"3187\",\"type\":\"CDSView\"}},\"id\":\"3186\",\"type\":\"GlyphRenderer\"},{\"attributes\":{\"bottom\":{\"value\":0},\"fill_alpha\":{\"value\":0.1},\"fill_color\":{\"value\":\"#1f77b4\"},\"left\":{\"field\":\"left\"},\"line_alpha\":{\"value\":0.1},\"line_color\":{\"value\":\"#1f77b4\"},\"right\":{\"field\":\"right\"},\"top\":{\"field\":\"top\"}},\"id\":\"3510\",\"type\":\"Quad\"},{\"attributes\":{\"data_source\":{\"id\":\"3508\",\"type\":\"ColumnDataSource\"},\"glyph\":{\"id\":\"3509\",\"type\":\"Quad\"},\"hover_glyph\":null,\"muted_glyph\":null,\"nonselection_glyph\":{\"id\":\"3510\",\"type\":\"Quad\"},\"selection_glyph\":null,\"view\":{\"id\":\"3512\",\"type\":\"CDSView\"}},\"id\":\"3511\",\"type\":\"GlyphRenderer\"},{\"attributes\":{\"source\":{\"id\":\"3183\",\"type\":\"ColumnDataSource\"}},\"id\":\"3187\",\"type\":\"CDSView\"},{\"attributes\":{\"callback\":null,\"data\":{\"left\":{\"__ndarray__\":\"20vdbZSgOT9CsonLEv+mP/bUGzdy5bY/Zmg5hK0lwT9Q5uTsodjGPzpkkFWWi8w/E/EdX0Uf0T8IsHOTv/jTP/1uycc50tY/8i0f/LOr2T/n7HQwLoXcP92rymSoXt8/aTWQTBEc4T/jFLtmzojiP1705YCL9eM/2NMQm0hi5T9Tszu1Bc/mP86SZs/CO+g/SHKR6X+o6T/DUbwDPRXrPz0x5x36gew/uBASOLfu7T8z8DxSdFvvP9fnM7YYZPA/lVdJQ3ca8T9Sx17Q1dDxPw83dF00h/I/zKaJ6pI98z+KFp938fPzP0eGtARQqvQ/BPbJka5g9T/CZd8eDRf2P3/V9KtrzfY/PEUKOcqD9z/6tB/GKDr4P7ckNVOH8Pg/dJRK4OWm+T8yBGBtRF36P+9zdfqiE/s/rOOKhwHK+z9pU6AUYID8PyfDtaG+Nv0/5DLLLh3t/T+houC7e6P+P18S9kjaWf8/DsEFaxwIAEDseJCxS2MAQMswG/h6vgBAquilPqoZAUCIoDCF2XQBQA==\",\"dtype\":\"float64\",\"shape\":[50]},\"right\":{\"__ndarray__\":\"QrKJyxL/pj/21Bs3cuW2P2ZoOYStJcE/UObk7KHYxj86ZJBVlovMPxPxHV9FH9E/CLBzk7/40z/9bsnHOdLWP/ItH/yzq9k/5+x0MC6F3D/dq8pkqF7fP2k1kEwRHOE/4xS7Zs6I4j9e9OWAi/XjP9jTEJtIYuU/U7M7tQXP5j/OkmbPwjvoP0hykel/qOk/w1G8Az0V6z89Mecd+oHsP7gQEji37u0/M/A8UnRb7z/X5zO2GGTwP5VXSUN3GvE/Usde0NXQ8T8PN3RdNIfyP8ymieqSPfM/ihafd/Hz8z9HhrQEUKr0PwT2yZGuYPU/wmXfHg0X9j9/1fSra832PzxFCjnKg/c/+rQfxig6+D+3JDVTh/D4P3SUSuDlpvk/MgRgbURd+j/vc3X6ohP7P6zjiocByvs/aVOgFGCA/D8nw7Whvjb9P+Qyyy4d7f0/oaLgu3uj/j9fEvZI2ln/Pw7BBWscCABA7HiQsUtjAEDLMBv4er4AQKropT6qGQFAiKAwhdl0AUBnWLvLCNABQA==\",\"dtype\":\"float64\",\"shape\":[50]},\"top\":{\"__ndarray__\":\"P9nxximiAEBO5nf9BEb+P1MgAxPBnv0//u4vBu1r/T9Pzwvsv3T7PwC9T6gJovk/7rrkRdVL+D+QnyMqy0b5P35vMzZd5vo/5mdYFJ7c9z9/9ZPlSaL3PxDB+1XGdfQ/EMH7VcZ19D/+p3dzneb4P+ZnWBSe3Pc/fuC7sN3m9j/+kAtiWBX2P59E5FmKVvI/AAAAAAAA8D9+yU+fmBX0P08SvEO20vE/f7LjjVNE8T8AAAAAAADwP/3VT5Ynie4/AAAAAAAA8D//eZ9QE0TjPz/MeAsLC+s//dVPlieJ3j//eZ9QE0TjP/6nd3Od5ug//3mfUBNE4z8AAAAAAAAAAP95n1ATRNM/AAAAAAAA8P//eZ9QE0TjPwAAAAAAAPD/AAAAAAAAAAAAAAAAAADw/wAAAAAAAPD/AAAAAAAAAAAAAAAAAADw/wAAAAAAAPD/AAAAAAAA8P8AAAAAAADw/wAAAAAAAPD/AAAAAAAA8P8AAAAAAADw/wAAAAAAAAAAAAAAAAAA8P8AAAAAAAAAAA==\",\"dtype\":\"float64\",\"shape\":[50]}},\"selected\":{\"id\":\"3892\",\"type\":\"Selection\"},\"selection_policy\":{\"id\":\"3893\",\"type\":\"UnionRenderers\"}},\"id\":\"3188\",\"type\":\"ColumnDataSource\"},{\"attributes\":{\"source\":{\"id\":\"3508\",\"type\":\"ColumnDataSource\"}},\"id\":\"3512\",\"type\":\"CDSView\"},{\"attributes\":{\"bottom\":{\"value\":0},\"fill_alpha\":{\"value\":0.05},\"fill_color\":{\"value\":\"#CB4777\"},\"left\":{\"field\":\"left\"},\"line_alpha\":{\"value\":0.05},\"line_color\":{\"value\":\"#7E03A7\"},\"right\":{\"field\":\"right\"},\"top\":{\"field\":\"top\"}},\"id\":\"3189\",\"type\":\"Quad\"},{\"attributes\":{\"callback\":null,\"data\":{\"left\":{\"__ndarray__\":\"85buF0vFBj94KwSQXfGuP6UtoeaE7r4/xyKggi0yxz+7ru+RGO3OP1idn9ABVNM/U2NHWHcx1z9NKe/f7A7bP0fvlmdi7N4/oFqf9+tk4T+dPXO7plPjP5ogR39hQuU/mAMbQxwx5z+V5u4G1x/pP5LJwsqRDus/j6yWjkz97D+Mj2pSB+zuP0U5HwthbfA/wyoJbb5k8T9CHPPOG1zyP8AN3TB5U/M/P//GktZK9D+98LD0M0L1PzzimlaROfY/u9OEuO4w9z85xW4aTCj4P7i2WHypH/k/NqhC3gYX+j+1mSxAZA77PzOLFqLBBfw/snwABB/9/D8wbuplfPT9P69f1MfZ6/4/LlG+KTfj/z9XIdRFSm0AQBYayfb46ABA1RK+p6dkAUCUC7NYVuABQFQEqAkFXAJAE/2curPXAkDS9ZFrYlMDQJLuhhwRzwNAUed7zb9KBEAQ4HB+bsYEQM/YZS8dQgVAj9Fa4Mu9BUBOyk+RejkGQA3DREIptQZAzbs589cwB0CMtC6khqwHQA==\",\"dtype\":\"float64\",\"shape\":[50]},\"right\":{\"__ndarray__\":\"eCsEkF3xrj+lLaHmhO6+P8cioIItMsc/u67vkRjtzj9YnZ/QAVTTP1NjR1h3Mdc/TSnv3+wO2z9H75ZnYuzeP6Ban/frZOE/nT1zu6ZT4z+aIEd/YULlP5gDG0McMec/lebuBtcf6T+SycLKkQ7rP4+slo5M/ew/jI9qUgfs7j9FOR8LYW3wP8MqCW2+ZPE/Qhzzzhtc8j/ADd0weVPzPz//xpLWSvQ/vfCw9DNC9T884ppWkTn2P7vThLjuMPc/OcVuGkwo+D+4tlh8qR/5PzaoQt4GF/o/tZksQGQO+z8zixaiwQX8P7J8AAQf/fw/MG7qZXz0/T+vX9TH2ev+Py5Rvik34/8/VyHURUptAEAWGsn2+OgAQNUSvqenZAFAlAuzWFbgAUBUBKgJBVwCQBP9nLqz1wJA0vWRa2JTA0CS7oYcEc8DQFHne82/SgRAEOBwfm7GBEDP2GUvHUIFQI/RWuDLvQVATspPkXo5BkANw0RCKbUGQM27OfPXMAdAjLQupIasB0BLrSNVNSgIQA==\",\"dtype\":\"float64\",\"shape\":[50]},\"top\":{\"__ndarray__\":\"2ALwVyhmA0DPF4YSj80AQH+268isa/8//uony5NE/z9mRoDooq38PyBmvIWFhf0/FnPfGjVS+z/+p3dzneb4P+7wQOtoVfw/zgdQKQB1+T/+kAtiWBX2PxdccwnwgPg/HyMMLo8n9z8BQ7BX9l32P59E5FmKVvI/n0TkWYpW8j/+p3dzneboP/95n1ATROM/AUOwV/Zd5j/+p3dzneboP/95n1ATRPM//3mfUBNE8z9uxVBgi6nwP/95n1ATROM//qd3c53m6D//eZ9QE0TjPz/MeAsLC+s//dVPlieJ3j//eZ9QE0TjP/95n1ATROM//dVPlieJ3j8AAAAAAAAAAAAAAAAAAAAAAAAAAAAA8P8AAAAAAAAAAP3VT5Ynid4/AAAAAAAAAAD/eZ9QE0TTPwAAAAAAAAAAAAAAAAAA8P8AAAAAAADw/wAAAAAAAPD//3mfUBNE0z//eZ9QE0TTPwAAAAAAAPD/AAAAAAAAAAAAAAAAAADw//95n1ATROM//3mfUBNE0z8AAAAAAAAAAA==\",\"dtype\":\"float64\",\"shape\":[50]}},\"selected\":{\"id\":\"4022\",\"type\":\"Selection\"},\"selection_policy\":{\"id\":\"4023\",\"type\":\"UnionRenderers\"}},\"id\":\"3513\",\"type\":\"ColumnDataSource\"},{\"attributes\":{\"bottom\":{\"value\":0},\"fill_alpha\":{\"value\":0.1},\"fill_color\":{\"value\":\"#1f77b4\"},\"left\":{\"field\":\"left\"},\"line_alpha\":{\"value\":0.1},\"line_color\":{\"value\":\"#1f77b4\"},\"right\":{\"field\":\"right\"},\"top\":{\"field\":\"top\"}},\"id\":\"3190\",\"type\":\"Quad\"},{\"attributes\":{\"bottom\":{\"value\":0},\"fill_alpha\":{\"value\":0.05},\"fill_color\":{\"value\":\"#CB4777\"},\"left\":{\"field\":\"left\"},\"line_alpha\":{\"value\":0.05},\"line_color\":{\"value\":\"#7E03A7\"},\"right\":{\"field\":\"right\"},\"top\":{\"field\":\"top\"}},\"id\":\"3514\",\"type\":\"Quad\"},{\"attributes\":{\"data_source\":{\"id\":\"3188\",\"type\":\"ColumnDataSource\"},\"glyph\":{\"id\":\"3189\",\"type\":\"Quad\"},\"hover_glyph\":null,\"muted_glyph\":null,\"nonselection_glyph\":{\"id\":\"3190\",\"type\":\"Quad\"},\"selection_glyph\":null,\"view\":{\"id\":\"3192\",\"type\":\"CDSView\"}},\"id\":\"3191\",\"type\":\"GlyphRenderer\"},{\"attributes\":{\"bottom\":{\"value\":0},\"fill_alpha\":{\"value\":0.1},\"fill_color\":{\"value\":\"#1f77b4\"},\"left\":{\"field\":\"left\"},\"line_alpha\":{\"value\":0.1},\"line_color\":{\"value\":\"#1f77b4\"},\"right\":{\"field\":\"right\"},\"top\":{\"field\":\"top\"}},\"id\":\"3515\",\"type\":\"Quad\"},{\"attributes\":{\"bottom\":{\"value\":0},\"fill_alpha\":{\"value\":0.1},\"fill_color\":{\"value\":\"#1f77b4\"},\"left\":{\"field\":\"left\"},\"line_alpha\":{\"value\":0.1},\"line_color\":{\"value\":\"#1f77b4\"},\"right\":{\"field\":\"right\"},\"top\":{\"field\":\"top\"}},\"id\":\"3300\",\"type\":\"Quad\"},{\"attributes\":{\"callback\":null,\"data\":{\"left\":{\"__ndarray__\":\"YHLvnynuMz+zzzbLS/OyP/rXZrZU6cI/G0gyhwNZzD8e3P4rWeTSPy6UZJQwnNc/P0zK/AdU3D8nApiy74XgPy/eymbb4eI/N7r9Gsc95T8/ljDPspnnP0dyY4Oe9ek/UE6WN4pR7D9YKsnrda3uPzAD/s+whPA/NHEXqqay8T843zCEnODyPzxNSl6SDvQ/QLtjOIg89T9EKX0Sfmr2P0iXluxzmPc/TAWwxmnG+D9Qc8mgX/T5P1Th4npVIvs/WU/8VEtQ/D9dvRUvQX79P2ErLwk3rP4/ZZlI4yza/z+1A7FeEYQAQLe6vUsMGwFAuXHKOAeyAUC7KNclAkkCQL3f4xL93wJAv5bw//d2A0DBTf3s8g0EQMMECtrtpARAxbsWx+g7BUDHciO049IFQMkpMKHeaQZAy+A8jtkAB0DNl0l71JcHQM9OVmjPLghA0QVjVcrFCEDTvG9CxVwJQNVzfC/A8wlA1yqJHLuKCkDZ4ZUJtiELQNuYovawuAtA3k+v46tPDEDgBrzQpuYMQA==\",\"dtype\":\"float64\",\"shape\":[50]},\"right\":{\"__ndarray__\":\"s882y0vzsj/612a2VOnCPxtIMocDWcw/Htz+K1nk0j8ulGSUMJzXPz9MyvwHVNw/JwKYsu+F4D8v3spm2+HiPze6/RrHPeU/P5Ywz7KZ5z9HcmODnvXpP1BOljeKUew/WCrJ63Wt7j8wA/7PsITwPzRxF6qmsvE/ON8whJzg8j88TUpekg70P0C7YziIPPU/RCl9En5q9j9Il5bsc5j3P0wFsMZpxvg/UHPJoF/0+T9U4eJ6VSL7P1lP/FRLUPw/Xb0VL0F+/T9hKy8JN6z+P2WZSOMs2v8/tQOxXhGEAEC3ur1LDBsBQLlxyjgHsgFAuyjXJQJJAkC93+MS/d8CQL+W8P/3dgNAwU397PINBEDDBAra7aQEQMW7FsfoOwVAx3IjtOPSBUDJKTCh3mkGQMvgPI7ZAAdAzZdJe9SXB0DPTlZozy4IQNEFY1XKxQhA07xvQsVcCUDVc3wvwPMJQNcqiRy7igpA2eGVCbYhC0DbmKL2sLgLQN5Pr+OrTwxA4Aa80KbmDEDhvci9oX0NQA==\",\"dtype\":\"float64\",\"shape\":[50]},\"top\":{\"__ndarray__\":\"bp9drVLKBEBBqsRbKwIEQJd9SzXrrwNAbjjsWW/rA0C3H3hYz/YBQPSbkxWl7AFAgCHYK/suA0BPIzybMTYCQFtPC2yOPwJAACs9S9JcAECuPSJnShoAQPyG4Y8tPABAP8x4CwsL+z/P8OMXu6P2P59bUGvPJ/U/fuC7sN3m9j9+4Luw3eb2P5d9SzXrr/M/gN4n1ATR9D/+kAtiWBX2P08SvEO20vE//qd3c53m6D8AF2wRRdHyP08SvEO20vE//dVPlieJ7j9uxVBgi6nwP/3VT5Ynid4//dVPlieJ7j//eZ9QE0TTP/95n1ATRNM//dVPlieJ3j8AAAAAAADw/wAAAAAAAPD//dVPlieJ3j8AAAAAAAAAAAAAAAAAAAAA/dVPlieJ3j8BQ7BX9l3mPwAAAAAAAPD/AAAAAAAAAAAAAAAAAAAAAP95n1ATROM/AAAAAAAA8P//eZ9QE0TTPwAAAAAAAPD/AAAAAAAA8P8AAAAAAADw/wAAAAAAAPD/AAAAAAAA8P8AAAAAAAAAAA==\",\"dtype\":\"float64\",\"shape\":[50]}},\"selected\":{\"id\":\"3980\",\"type\":\"Selection\"},\"selection_policy\":{\"id\":\"3981\",\"type\":\"UnionRenderers\"}},\"id\":\"3408\",\"type\":\"ColumnDataSource\"},{\"attributes\":{\"bottom\":{\"value\":0},\"fill_alpha\":{\"value\":0.05},\"fill_color\":{\"value\":\"#CB4777\"},\"left\":{\"field\":\"left\"},\"line_alpha\":{\"value\":0.05},\"line_color\":{\"value\":\"#7E03A7\"},\"right\":{\"field\":\"right\"},\"top\":{\"field\":\"top\"}},\"id\":\"3444\",\"type\":\"Quad\"},{\"attributes\":{\"data_source\":{\"id\":\"3298\",\"type\":\"ColumnDataSource\"},\"glyph\":{\"id\":\"3299\",\"type\":\"Quad\"},\"hover_glyph\":null,\"muted_glyph\":null,\"nonselection_glyph\":{\"id\":\"3300\",\"type\":\"Quad\"},\"selection_glyph\":null,\"view\":{\"id\":\"3302\",\"type\":\"CDSView\"}},\"id\":\"3301\",\"type\":\"GlyphRenderer\"},{\"attributes\":{\"bottom\":{\"value\":0},\"fill_alpha\":{\"value\":0.05},\"fill_color\":{\"value\":\"#CB4777\"},\"left\":{\"field\":\"left\"},\"line_alpha\":{\"value\":0.05},\"line_color\":{\"value\":\"#7E03A7\"},\"right\":{\"field\":\"right\"},\"top\":{\"field\":\"top\"}},\"id\":\"3409\",\"type\":\"Quad\"},{\"attributes\":{\"bottom\":{\"value\":0},\"fill_alpha\":{\"value\":0.1},\"fill_color\":{\"value\":\"#1f77b4\"},\"left\":{\"field\":\"left\"},\"line_alpha\":{\"value\":0.1},\"line_color\":{\"value\":\"#1f77b4\"},\"right\":{\"field\":\"right\"},\"top\":{\"field\":\"top\"}},\"id\":\"3445\",\"type\":\"Quad\"},{\"attributes\":{\"data_source\":{\"id\":\"3443\",\"type\":\"ColumnDataSource\"},\"glyph\":{\"id\":\"3444\",\"type\":\"Quad\"},\"hover_glyph\":null,\"muted_glyph\":null,\"nonselection_glyph\":{\"id\":\"3445\",\"type\":\"Quad\"},\"selection_glyph\":null,\"view\":{\"id\":\"3447\",\"type\":\"CDSView\"}},\"id\":\"3446\",\"type\":\"GlyphRenderer\"},{\"attributes\":{\"source\":{\"id\":\"3298\",\"type\":\"ColumnDataSource\"}},\"id\":\"3302\",\"type\":\"CDSView\"},{\"attributes\":{\"bottom\":{\"value\":0},\"fill_alpha\":{\"value\":0.1},\"fill_color\":{\"value\":\"#1f77b4\"},\"left\":{\"field\":\"left\"},\"line_alpha\":{\"value\":0.1},\"line_color\":{\"value\":\"#1f77b4\"},\"right\":{\"field\":\"right\"},\"top\":{\"field\":\"top\"}},\"id\":\"3410\",\"type\":\"Quad\"},{\"attributes\":{\"data_source\":{\"id\":\"3408\",\"type\":\"ColumnDataSource\"},\"glyph\":{\"id\":\"3409\",\"type\":\"Quad\"},\"hover_glyph\":null,\"muted_glyph\":null,\"nonselection_glyph\":{\"id\":\"3410\",\"type\":\"Quad\"},\"selection_glyph\":null,\"view\":{\"id\":\"3412\",\"type\":\"CDSView\"}},\"id\":\"3411\",\"type\":\"GlyphRenderer\"},{\"attributes\":{\"callback\":null,\"data\":{\"left\":{\"__ndarray__\":\"85buF0vFBj9ZIuInwLWwP2+jMNNTtMA/sjVwkscNyT/749eonbPQPx2td4hX4NQ/PnYXaBEN2T9fP7dHyzndP0CEq5NCs+A/0Wh7g5/J4j9iTUtz/N/kP/IxG2NZ9uY/gxbrUrYM6T8U+7pCEyPrP6TfijJwOe0/NcRaIs1P7z9jVBUJFbPwP6tG/YBDvvE/9Djl+HHJ8j88K81woNTzP4UdtejO3/Q/zQ+dYP3q9T8VAoXYK/b2P170bFBaAfg/puZUyIgM+T/u2DxAtxf6PzfLJLjlIvs/f70MMBQu/D/Hr/SnQjn9PxCi3B9xRP4/WJTEl59P/z9RQ9YHZy0AQHU8ykP+sgBAmTW+f5U4AUC9LrK7LL4BQOInpvfDQwJABiGaM1vJAkAqGo5v8k4DQE4TgquJ1ANAcgx25yBaBECXBWojuN8EQLv+XV9PZQVA3/dRm+bqBUAD8UXXfXAGQCfqORMV9gZAS+MtT6x7B0Bw3CGLQwEIQJTVFcfahghAuM4JA3IMCUDcx/0+CZIJQA==\",\"dtype\":\"float64\",\"shape\":[50]},\"right\":{\"__ndarray__\":\"WSLiJ8C1sD9vozDTU7TAP7I1cJLHDck/++PXqJ2z0D8drXeIV+DUPz52F2gRDdk/Xz+3R8s53T9AhKuTQrPgP9Foe4OfyeI/Yk1Lc/zf5D/yMRtjWfbmP4MW61K2DOk/FPu6QhMj6z+k34oycDntPzXEWiLNT+8/Y1QVCRWz8D+rRv2AQ77xP/Q45fhxyfI/PCvNcKDU8z+FHbXozt/0P80PnWD96vU/FQKF2Cv29j9e9GxQWgH4P6bmVMiIDPk/7tg8QLcX+j83yyS45SL7P3+9DDAULvw/x6/0p0I5/T8QotwfcUT+P1iUxJefT/8/UUPWB2ctAEB1PMpD/rIAQJk1vn+VOAFAvS6yuyy+AUDiJ6b3w0MCQAYhmjNbyQJAKhqOb/JOA0BOE4KridQDQHIMducgWgRAlwVqI7jfBEC7/l1fT2UFQN/3UZvm6gVAA/FF131wBkAn6jkTFfYGQEvjLU+sewdAcNwhi0MBCECU1RXH2oYIQLjOCQNyDAlA3Mf9PgmSCUAAwfF6oBcKQA==\",\"dtype\":\"float64\",\"shape\":[50]},\"top\":{\"__ndarray__\":\"RHZZ5An2BED3kpsIc+AEQJ5m0MRFDwVAV0MZsUozBEDvL0DUERsEQLieG5jY3wNACvT4XYOAA0BAGlG1VMUCQFtPC2yOPwJA/r2ZFvasAkB/yonOWB4CQHWQ3YwChABArj0iZ0oaAEAQfkv+zxf+P07md/0ERv4/2ZrTOou0/j/ZmtM6i7T+PxZz3xo1Uvs//u4vBu1r/T+AOEQ9QAD+P2pCk0UAN/w/9jC80a8i+j8XXHMJ8ID4Px8jDC6PJ/c/l31LNeuv8z8/zHgLCwvrP37JT5+YFfQ/P8x4CwsL6z8BQ7BX9l3mP/3VT5Ynie4//jbv+Bzm7D/91U+WJ4neP/3VT5Ynid4//jbv+Bzm7D/91U+WJ4nePwAAAAAAAPD/AAAAAAAA8P8AAAAAAAAAAAAAAAAAAPD/AAAAAAAA8P8AAAAAAADw/wAAAAAAAPD/AAAAAAAA8P8AAAAAAADw/wAAAAAAAPD/AAAAAAAA8P8AAAAAAADw/wAAAAAAAPD/AAAAAAAAAAD/eZ9QE0TTPw==\",\"dtype\":\"float64\",\"shape\":[50]}},\"selected\":{\"id\":\"3938\",\"type\":\"Selection\"},\"selection_policy\":{\"id\":\"3939\",\"type\":\"UnionRenderers\"}},\"id\":\"3303\",\"type\":\"ColumnDataSource\"},{\"attributes\":{\"source\":{\"id\":\"3443\",\"type\":\"ColumnDataSource\"}},\"id\":\"3447\",\"type\":\"CDSView\"},{\"attributes\":{\"bottom\":{\"value\":0},\"fill_alpha\":{\"value\":0.05},\"fill_color\":{\"value\":\"#CB4777\"},\"left\":{\"field\":\"left\"},\"line_alpha\":{\"value\":0.05},\"line_color\":{\"value\":\"#7E03A7\"},\"right\":{\"field\":\"right\"},\"top\":{\"field\":\"top\"}},\"id\":\"3304\",\"type\":\"Quad\"},{\"attributes\":{\"source\":{\"id\":\"3408\",\"type\":\"ColumnDataSource\"}},\"id\":\"3412\",\"type\":\"CDSView\"},{\"attributes\":{\"callback\":null,\"data\":{\"left\":{\"__ndarray__\":\"85buF0vFBj8UE2368jqsP0EVClEaOLw/e9Bukl0pxT9Xllj8rTbMPxouITP/odE/BxEWaKco1T/18wqdT6/YP+PW/9H3Ndw/0bn0BqC83z9fzvQdpKHhP9Y/bzj4ZOM/TLHpUkwo5T/DImRtoOvmPzqU3of0rug/sQVZokhy6j8od9O8nDXsP5/oTdfw+O0/FlrI8US87z/GZSGGzL/wP4KeXpN2ofE/PdeboCCD8j/5D9mtymTzP7RIFrt0RvQ/b4FTyB4o9T8rupDVyAn2P+byzeJy6/Y/oisL8BzN9z9dZEj9xq74PxmdhQpxkPk/1NXCFxty+j+QDgAlxVP7P0tHPTJvNfw/BoB6PxkX/T/CuLdMw/j9P33x9Flt2v4/OSoyZxe8/z97sTe64E4AQNhN1sC1vwBANup0x4owAUCUhhPOX6EBQPEistQ0EgJAT79Q2wmDAkCtW+/h3vMCQAv4jeizZANAaJQs74jVA0DGMMv1XUYEQCTNafwytwRAgWkIAwgoBUDfBacJ3ZgFQA==\",\"dtype\":\"float64\",\"shape\":[50]},\"right\":{\"__ndarray__\":\"FBNt+vI6rD9BFQpRGji8P3vQbpJdKcU/V5ZY/K02zD8aLiEz/6HRPwcRFminKNU/9fMKnU+v2D/j1v/R9zXcP9G59AagvN8/X870HaSh4T/WP284+GTjP0yx6VJMKOU/wyJkbaDr5j86lN6H9K7oP7EFWaJIcuo/KHfTvJw17D+f6E3X8PjtPxZayPFEvO8/xmUhhsy/8D+Cnl6TdqHxPz3Xm6Agg/I/+Q/Zrcpk8z+0SBa7dEb0P2+BU8geKPU/K7qQ1cgJ9j/m8s3icuv2P6IrC/Aczfc/XWRI/cau+D8ZnYUKcZD5P9TVwhcbcvo/kA4AJcVT+z9LRz0ybzX8PwaAej8ZF/0/wri3TMP4/T998fRZbdr+PzkqMmcXvP8/e7E3uuBOAEDYTdbAtb8AQDbqdMeKMAFAlIYTzl+hAUDxIrLUNBICQE+/UNsJgwJArVvv4d7zAkAL+I3os2QDQGiULO+I1QNAxjDL9V1GBEAkzWn8MrcEQIFpCAMIKAVA3wWnCd2YBUA9okUQsgkGQA==\",\"dtype\":\"float64\",\"shape\":[50]},\"top\":{\"__ndarray__\":\"zxeGEo/NAED/AEpu7AoBQI/74/NuzQFAi4zh2HwRAUC/iovmkNsAQJc6m930Uf0/ZkaA6KKt/D/PM5RvsQH9PyBmvIWFhf0/7+YojIbY+z9/DAD3jnP6P0R6U0uilvs//qd3c53m+D9/+Zsgo8n1PwFDsFf2XfY/HyMMLo8n9z/uo3g0kHr1P37JT5+YFfQ//jbv+Bzm7D+fRORZilbyP/6nd3Od5ug//3mfUBNE4z//eZ9QE0TjPwFDsFf2XeY//dVPlieJ3j/+p3dzneboPz/MeAsLC+s//3mfUBNE4z//eZ9QE0TjPz/MeAsLC+s/P8x4CwsL6z8AAAAAAAAAAP95n1ATRNM//3mfUBNE0z//eZ9QE0TTP/95n1ATRNM/AAAAAAAAAAAAAAAAAAAAAAAAAAAAAAAAAAAAAAAA8P8AAAAAAADw/wAAAAAAAPD/AAAAAAAA8P8AAAAAAADw/wAAAAAAAAAAAAAAAAAA8P8AAAAAAAAAAAAAAAAAAPD/AAAAAAAA8P//eZ9QE0TTPw==\",\"dtype\":\"float64\",\"shape\":[50]}},\"selected\":{\"id\":\"3996\",\"type\":\"Selection\"},\"selection_policy\":{\"id\":\"3997\",\"type\":\"UnionRenderers\"}},\"id\":\"3448\",\"type\":\"ColumnDataSource\"},{\"attributes\":{\"bottom\":{\"value\":0},\"fill_alpha\":{\"value\":0.1},\"fill_color\":{\"value\":\"#1f77b4\"},\"left\":{\"field\":\"left\"},\"line_alpha\":{\"value\":0.1},\"line_color\":{\"value\":\"#1f77b4\"},\"right\":{\"field\":\"right\"},\"top\":{\"field\":\"top\"}},\"id\":\"3305\",\"type\":\"Quad\"},{\"attributes\":{\"callback\":null,\"data\":{\"left\":{\"__ndarray__\":\"bJiuxZ0XVj8ON35jQyi1P93Z8icU/MQ/M5gmngZkzz9EKy2K/OXUP28KR8X1Gdo/mulgAO9N3z9iZL0d9EDiP/hTSrvw2uQ/jkPXWO105z8jM2T26Q7qP7gi8ZPmqOw/ThJ+MeNC7z/ygIXnb+7wP7z4SzZuO/I/h3AShWyI8z9S6NjTatX0Px1gnyJpIvY/6NdlcWdv9z+yTyzAZbz4P33H8g5kCfo/SD+5XWJW+z8St3+sYKP8P90uRvte8P0/qKYMSl09/z85j2nMLUUAQB/LzPOs6wBABAcwGyySAUDpQpNCqzgCQM9+9mkq3wJAtLpZkamFA0Ca9ry4KCwEQH8yIOCn0gRAZG6DByd5BUBKquYuph8GQC/mSVYlxgZAFSKtfaRsB0D6XRClIxMIQN+Zc8yiuQhAxdXW8yFgCUCqEToboQYKQI9NnUIgrQpAdYkAap9TC0BaxWORHvoLQD8Bx7idoAxAJT0q4BxHDUAKeY0HnO0NQPC08C4blA5A1fBTVpo6D0C6LLd9GeEPQA==\",\"dtype\":\"float64\",\"shape\":[50]},\"right\":{\"__ndarray__\":\"Djd+Y0MotT/d2fInFPzEPzOYJp4GZM8/RCstivzl1D9vCkfF9RnaP5rpYADvTd8/YmS9HfRA4j/4U0q78NrkP45D11jtdOc/IzNk9ukO6j+4IvGT5qjsP04SfjHjQu8/8oCF52/u8D+8+Es2bjvyP4dwEoVsiPM/UujY02rV9D8dYJ8iaSL2P+jXZXFnb/c/sk8swGW8+D99x/IOZAn6P0g/uV1iVvs/Erd/rGCj/D/dLkb7XvD9P6imDEpdPf8/OY9pzC1FAEAfy8zzrOsAQAQHMBsskgFA6UKTQqs4AkDPfvZpKt8CQLS6WZGphQNAmva8uCgsBEB/MiDgp9IEQGRugwcneQVASqrmLqYfBkAv5klWJcYGQBUirX2kbAdA+l0QpSMTCEDfmXPMorkIQMXV1vMhYAlAqhE6G6EGCkCPTZ1CIK0KQHWJAGqfUwtAWsVjkR76C0A/Ace4naAMQCU9KuAcRw1ACnmNB5ztDUDwtPAuG5QOQNXwU1aaOg9Auiy3fRnhD0BQNI1SzEMQQA==\",\"dtype\":\"float64\",\"shape\":[50]},\"top\":{\"__ndarray__\":\"lzqb3fRR/T9/DAD3jnP6P5C2jzsQGPw/nrr4runA+j+QnyMqy0b5P26JkTmuXP4/fuC7sN3m9j+gh5SxgLT4P6CHlLGAtPg/f7LjjVNE8T8AAAAAAADwPwAXbBFF0fI/bsVQYIup8D9uxVBgi6nwP3+y441TRPE/gN4n1ATR9D9+yU+fmBX0P/95n1ATRPM/f7LjjVNE8T//eZ9QE0TzP5d9SzXrr/M/bsVQYIup8D/91U+WJ4nuP/6nd3Od5ug/bsVQYIup8D/91U+WJ4nuPwFDsFf2XeY//dVPlieJ3j//eZ9QE0TTPwAAAAAAAPD/AAAAAAAAAAAAAAAAAAAAAP95n1ATRNM/AAAAAAAA8P8AAAAAAADw/wAAAAAAAPD/AAAAAAAAAAAAAAAAAADw/wAAAAAAAPD/AAAAAAAA8P8AAAAAAADw/wAAAAAAAAAAAAAAAAAA8P8AAAAAAADw/wAAAAAAAPD/AAAAAAAA8P8AAAAAAADw/wAAAAAAAPD/AAAAAAAAAAD91U+WJ4nePw==\",\"dtype\":\"float64\",\"shape\":[50]}},\"selected\":{\"id\":\"3982\",\"type\":\"Selection\"},\"selection_policy\":{\"id\":\"3983\",\"type\":\"UnionRenderers\"}},\"id\":\"3413\",\"type\":\"ColumnDataSource\"},{\"attributes\":{\"bottom\":{\"value\":0},\"fill_alpha\":{\"value\":0.05},\"fill_color\":{\"value\":\"#CB4777\"},\"left\":{\"field\":\"left\"},\"line_alpha\":{\"value\":0.05},\"line_color\":{\"value\":\"#7E03A7\"},\"right\":{\"field\":\"right\"},\"top\":{\"field\":\"top\"}},\"id\":\"3449\",\"type\":\"Quad\"},{\"attributes\":{\"data_source\":{\"id\":\"3303\",\"type\":\"ColumnDataSource\"},\"glyph\":{\"id\":\"3304\",\"type\":\"Quad\"},\"hover_glyph\":null,\"muted_glyph\":null,\"nonselection_glyph\":{\"id\":\"3305\",\"type\":\"Quad\"},\"selection_glyph\":null,\"view\":{\"id\":\"3307\",\"type\":\"CDSView\"}},\"id\":\"3306\",\"type\":\"GlyphRenderer\"},{\"attributes\":{\"bottom\":{\"value\":0},\"fill_alpha\":{\"value\":0.05},\"fill_color\":{\"value\":\"#CB4777\"},\"left\":{\"field\":\"left\"},\"line_alpha\":{\"value\":0.05},\"line_color\":{\"value\":\"#7E03A7\"},\"right\":{\"field\":\"right\"},\"top\":{\"field\":\"top\"}},\"id\":\"3414\",\"type\":\"Quad\"},{\"attributes\":{\"bottom\":{\"value\":0},\"fill_alpha\":{\"value\":0.1},\"fill_color\":{\"value\":\"#1f77b4\"},\"left\":{\"field\":\"left\"},\"line_alpha\":{\"value\":0.1},\"line_color\":{\"value\":\"#1f77b4\"},\"right\":{\"field\":\"right\"},\"top\":{\"field\":\"top\"}},\"id\":\"3450\",\"type\":\"Quad\"},{\"attributes\":{\"data_source\":{\"id\":\"3448\",\"type\":\"ColumnDataSource\"},\"glyph\":{\"id\":\"3449\",\"type\":\"Quad\"},\"hover_glyph\":null,\"muted_glyph\":null,\"nonselection_glyph\":{\"id\":\"3450\",\"type\":\"Quad\"},\"selection_glyph\":null,\"view\":{\"id\":\"3452\",\"type\":\"CDSView\"}},\"id\":\"3451\",\"type\":\"GlyphRenderer\"},{\"attributes\":{\"source\":{\"id\":\"3303\",\"type\":\"ColumnDataSource\"}},\"id\":\"3307\",\"type\":\"CDSView\"},{\"attributes\":{\"bottom\":{\"value\":0},\"fill_alpha\":{\"value\":0.1},\"fill_color\":{\"value\":\"#1f77b4\"},\"left\":{\"field\":\"left\"},\"line_alpha\":{\"value\":0.1},\"line_color\":{\"value\":\"#1f77b4\"},\"right\":{\"field\":\"right\"},\"top\":{\"field\":\"top\"}},\"id\":\"3415\",\"type\":\"Quad\"},{\"attributes\":{\"data_source\":{\"id\":\"3413\",\"type\":\"ColumnDataSource\"},\"glyph\":{\"id\":\"3414\",\"type\":\"Quad\"},\"hover_glyph\":null,\"muted_glyph\":null,\"nonselection_glyph\":{\"id\":\"3415\",\"type\":\"Quad\"},\"selection_glyph\":null,\"view\":{\"id\":\"3417\",\"type\":\"CDSView\"}},\"id\":\"3416\",\"type\":\"GlyphRenderer\"},{\"attributes\":{\"callback\":null,\"data\":{\"left\":{\"__ndarray__\":\"AAAAAAAAAAAJOFTtatCvPwk4VO1q0L8/Byr/MVDcxz8JOFTtatDPPwajVNRC4tM/Byr/MVDc1z8IsamPXdbbPwk4VO1q0N8/hV9/JTzl4T8Go1TUQuLjP4bmKYNJ3+U/Byr/MVDc5z+HbdTgVtnpPwixqY9d1us/iPR+PmTT7T8JOFTtatDvP8W9FM645vA/hV9/JTzl8T9FAep8v+PyPwajVNRC4vM/xkS/K8bg9D+G5imDSd/1P0aIlNrM3fY/Byr/MVDc9z/Hy2mJ09r4P4dt1OBW2fk/SA8/ONrX+j8IsamPXdb7P8hSFOfg1Pw/iPR+PmTT/T9JlumV59H+Pwk4VO1q0P8/5WxfIndnAEDFvRTOuOYAQKUOynn6ZQFAhV9/JTzlAUBlsDTRfWQCQEUB6ny/4wJAJVKfKAFjA0AGo1TUQuIDQObzCYCEYQRAxkS/K8bgBECmlXTXB2AFQIbmKYNJ3wVAZjffLoteBkBGiJTazN0GQCfZSYYOXQdAByr/MVDcB0DnerTdkVsIQA==\",\"dtype\":\"float64\",\"shape\":[50]},\"right\":{\"__ndarray__\":\"CThU7WrQrz8JOFTtatC/Pwcq/zFQ3Mc/CThU7WrQzz8Go1TUQuLTPwcq/zFQ3Nc/CLGpj13W2z8JOFTtatDfP4VffyU85eE/BqNU1ELi4z+G5imDSd/lPwcq/zFQ3Oc/h23U4FbZ6T8IsamPXdbrP4j0fj5k0+0/CThU7WrQ7z/FvRTOuObwP4VffyU85fE/RQHqfL/j8j8Go1TUQuLzP8ZEvyvG4PQ/huYpg0nf9T9GiJTazN32Pwcq/zFQ3Pc/x8tpidPa+D+HbdTgVtn5P0gPPzja1/o/CLGpj13W+z/IUhTn4NT8P4j0fj5k0/0/SZbplefR/j8JOFTtatD/P+VsXyJ3ZwBAxb0UzrjmAEClDsp5+mUBQIVffyU85QFAZbA00X1kAkBFAep8v+MCQCVSnygBYwNABqNU1ELiA0Dm8wmAhGEEQMZEvyvG4ARAppV01wdgBUCG5imDSd8FQGY33y6LXgZARoiU2szdBkAn2UmGDl0HQAcq/zFQ3AdA53q03ZFbCEDHy2mJ09oIQA==\",\"dtype\":\"float64\",\"shape\":[50]},\"top\":{\"__ndarray__\":\"q6Zf/rulBEAKo14PVMkCQAXlk3vAdQJAAEFf7iojAkDc8YNduJoAQDRFhUOmTABAPto7NRatAUAP8C1rzGQAQO/mKIyG2Ps/P8x4CwsL+z8/zHgLCwv7P1gMAnL2zfk/gGDmsFoX+T9/9ZPlSaL3P39YxyQYFfg/EMH7VcZ19D+fRORZilbyPwAXbBFF0fI//jbv+Bzm7D/91U+WJ4nuP/6nd3Od5ug//3mfUBNE4z8/zHgLCwvrPz/MeAsLC+s//qd3c53m6D//eZ9QE0TjP/95n1ATRNM/AAAAAAAA8P8/zHgLCwvrP/95n1ATROM/AAAAAAAA8P8AAAAAAADw/wAAAAAAAAAAAAAAAAAA8P8AAAAAAADw/wAAAAAAAAAAAAAAAAAAAAAAAAAAAADw/wAAAAAAAAAAAAAAAAAA8P8AAAAAAADw/wAAAAAAAPD/AAAAAAAA8P8AAAAAAADw/wAAAAAAAPD/AAAAAAAA8P8AAAAAAADw/wAAAAAAAPD/AAAAAAAA8P8AAAAAAAAAAA==\",\"dtype\":\"float64\",\"shape\":[50]}},\"selected\":{\"id\":\"3940\",\"type\":\"Selection\"},\"selection_policy\":{\"id\":\"3941\",\"type\":\"UnionRenderers\"}},\"id\":\"3308\",\"type\":\"ColumnDataSource\"},{\"attributes\":{\"source\":{\"id\":\"3448\",\"type\":\"ColumnDataSource\"}},\"id\":\"3452\",\"type\":\"CDSView\"},{\"attributes\":{\"source\":{\"id\":\"3413\",\"type\":\"ColumnDataSource\"}},\"id\":\"3417\",\"type\":\"CDSView\"},{\"attributes\":{\"bottom\":{\"value\":0},\"fill_alpha\":{\"value\":0.05},\"fill_color\":{\"value\":\"#CB4777\"},\"left\":{\"field\":\"left\"},\"line_alpha\":{\"value\":0.05},\"line_color\":{\"value\":\"#7E03A7\"},\"right\":{\"field\":\"right\"},\"top\":{\"field\":\"top\"}},\"id\":\"3309\",\"type\":\"Quad\"},{\"attributes\":{\"callback\":null,\"data\":{\"left\":{\"__ndarray__\":\"DF8LJyWDQj8XyAPqC2qwP7i83MSIV8A/ZZW3lAt6yD8JN0kyR07QP1+jNpqIX9Q/tg8kAspw2D8MfBFqC4LcPzF0/2imSeA/XCr2HEdS4j+H4OzQ51rkP7KW44SIY+Y/3kzaOCls6D8JA9HsyXTqPzS5x6Bqfew/X2++VAuG7j/FkloEVkfwP9vtVV6mS/E/8EhRuPZP8j8GpEwSR1TzPxv/R2yXWPQ/MVpDxudc9T9GtT4gOGH2P1wQOnqIZfc/cms11Nhp+D+HxjAuKW75P50hLIh5cvo/snwn4sl2+z/I1yI8Gnv8P90yHpZqf/0/840Z8LqD/j8I6RRKC4j/Pw8iCNItRgBAms8F/1XIAEAlfQMsfkoBQK8qAVmmzAFAOtj+hc5OAkDFhfyy9tACQFAz+t8eUwNA2uD3DEfVA0BljvU5b1cEQPA782aX2QRAe+nwk79bBUAGl+7A590FQJBE7O0PYAZAG/LpGjjiBkCmn+dHYGQHQDFN5XSI5gdAvPriobBoCEBGqODO2OoIQA==\",\"dtype\":\"float64\",\"shape\":[50]},\"right\":{\"__ndarray__\":\"F8gD6gtqsD+4vNzEiFfAP2WVt5QLesg/CTdJMkdO0D9fozaaiF/UP7YPJALKcNg/DHwRaguC3D8xdP9opkngP1wq9hxHUuI/h+Ds0Oda5D+yluOEiGPmP95M2jgpbOg/CQPR7Ml06j80ucegan3sP19vvlQLhu4/xZJaBFZH8D/b7VVepkvxP/BIUbj2T/I/BqRMEkdU8z8b/0dsl1j0PzFaQ8bnXPU/RrU+IDhh9j9cEDp6iGX3P3JrNdTYafg/h8YwLilu+T+dISyIeXL6P7J8J+LJdvs/yNciPBp7/D/dMh6Wan/9P/ONGfC6g/4/COkUSguI/z8PIgjSLUYAQJrPBf9VyABAJX0DLH5KAUCvKgFZpswBQDrY/oXOTgJAxYX8svbQAkBQM/rfHlMDQNrg9wxH1QNAZY71OW9XBEDwO/Nml9kEQHvp8JO/WwVABpfuwOfdBUCQROztD2AGQBvy6Ro44gZApp/nR2BkB0AxTeV0iOYHQLz64qGwaAhARqjgztjqCEDRVd77AG0JQA==\",\"dtype\":\"float64\",\"shape\":[50]},\"top\":{\"__ndarray__\":\"DGapFSTZAkAPbmht8vcCQNUpQ9YzkQFAygTl8wAYAUByk3d7r2IBQOG3cxh2nAFAiMrbh4p0AEDLqIP3nBEAQGKsvY/TMwBAbomROa5c/j8eUeRQGcr8P/7uLwbta/0/7vBA62hV/D9YDAJy9s35P3/1k+VJovc/ZLShoSvQ/T+AYOawWhf5PwFDsFf2XfY/f7LjjVNE8T8AAAAAAADwP/95n1ATRPM/5mdYFJ7c9z+fRORZilbyP37gu7Dd5vY/AUOwV/Zd9j8AAAAAAADwP/95n1ATRPM/AAAAAAAA8D//eZ9QE0TTP/3VT5Ynid4//qd3c53m6D/91U+WJ4neP/3VT5Ynid4/AAAAAAAA8P//eZ9QE0TTP/3VT5Ynid4/AAAAAAAAAAAAAAAAAADw/wAAAAAAAPD/AAAAAAAA8P8AAAAAAADw/wAAAAAAAAAAAAAAAAAA8P8AAAAAAADw/wAAAAAAAPD/AAAAAAAAAAAAAAAAAADw/wAAAAAAAPD/AAAAAAAA8P8AAAAAAAAAAA==\",\"dtype\":\"float64\",\"shape\":[50]}},\"selected\":{\"id\":\"3998\",\"type\":\"Selection\"},\"selection_policy\":{\"id\":\"3999\",\"type\":\"UnionRenderers\"}},\"id\":\"3453\",\"type\":\"ColumnDataSource\"},{\"attributes\":{\"bottom\":{\"value\":0},\"fill_alpha\":{\"value\":0.1},\"fill_color\":{\"value\":\"#1f77b4\"},\"left\":{\"field\":\"left\"},\"line_alpha\":{\"value\":0.1},\"line_color\":{\"value\":\"#1f77b4\"},\"right\":{\"field\":\"right\"},\"top\":{\"field\":\"top\"}},\"id\":\"3310\",\"type\":\"Quad\"},{\"attributes\":{\"callback\":null,\"data\":{\"left\":{\"__ndarray__\":\"YHLvnynuMz8zcEIiQraoP8CAovhTorg/s+QRcMN0wj8HidLjXJjIP1stk1f2u84/1+ip5cdv0j8BO4qflIHVPyuNallhk9g/Vd9KEy6l2z9/MSvN+rbeP9TBhcNj5OA/6Op1IEpt4j/9E2Z9MPbjPxI9VtoWf+U/J2ZGN/0H5z88jzaU45DoP1G4JvHJGeo/ZuEWTrCi6z97CgerlivtP5Az9wd9tO4/Uq5zsrEe8D/dwuvgJOPwP2fXYw+Yp/E/8evbPQts8j98AFRsfjDzPwYVzJrx9PM/kSlEyWS59D8bPrz31331P6ZSNCZLQvY/MGesVL4G9z+7eySDMcv3P0WQnLGkj/g/z6QU4BdU+T9auYwOixj6P+TNBD3+3Po/b+J8a3Gh+z/59vSZ5GX8P4QLbchXKv0/DiDl9sru/T+ZNF0lPrP+PyNJ1VOxd/8/164mQRIeAEAcuWLYS4AAQGLDnm+F4gBAp83aBr9EAUDs1xae+KYBQDHiUjUyCQJAduyOzGtrAkC89spjpc0CQA==\",\"dtype\":\"float64\",\"shape\":[50]},\"right\":{\"__ndarray__\":\"M3BCIkK2qD/AgKL4U6K4P7PkEXDDdMI/B4nS41yYyD9bLZNX9rvOP9foqeXHb9I/ATuKn5SB1T8rjWpZYZPYP1XfShMupds/fzErzfq23j/UwYXDY+TgP+jqdSBKbeI//RNmfTD24z8SPVbaFn/lPydmRjf9B+c/PI82lOOQ6D9RuCbxyRnqP2bhFk6wous/ewoHq5Yr7T+QM/cHfbTuP1Kuc7KxHvA/3cLr4CTj8D9n12MPmKfxP/Hr2z0LbPI/fABUbH4w8z8GFcya8fTzP5EpRMlkufQ/Gz6899d99T+mUjQmS0L2PzBnrFS+Bvc/u3skgzHL9z9FkJyxpI/4P8+kFOAXVPk/WrmMDosY+j/kzQQ9/tz6P2/ifGtxofs/+fb0meRl/D+EC23IVyr9Pw4g5fbK7v0/mTRdJT6z/j8jSdVTsXf/P9euJkESHgBAHLli2EuAAEBiw55vheIAQKfN2ga/RAFA7NcWnvimAUAx4lI1MgkCQHbsjsxrawJAvPbKY6XNAkABAQf73i8DQA==\",\"dtype\":\"float64\",\"shape\":[50]},\"top\":{\"__ndarray__\":\"YgZWz9cFAkD3s9yG2ZYBQEAyxMF4xgBA97PchtmWAUCADTomT3wAQL/OhaxzRABAbomROa5c/j/wG18EtpD8PwC9T6gJovk/f1jHJBgV+D9YDAJy9s35P//Xw/Snmvo/f1jHJBgV+D+QnyMqy0b5P/95n1ATRPM/f/WT5Umi9z8AF2wRRdHyPxDB+1XGdfQ/HyMMLo8n9z/uo3g0kHr1P84HUCkAdfk//pALYlgV9j9PErxDttLxP/95n1ATROM//dVPlieJ7j8AAAAAAAAAAAAAAAAAAAAA/dVPlieJ3j//eZ9QE0TTP/6nd3Od5ug/AUOwV/Zd5j/91U+WJ4nuP/3VT5Ynid4/P8x4CwsL6z//eZ9QE0TTP/95n1ATROM/AAAAAAAAAAAAAAAAAADw/wAAAAAAAAAAAUOwV/Zd5j/91U+WJ4nePwAAAAAAAAAAAAAAAAAAAAD/eZ9QE0TjP/95n1ATRNM//qd3c53m6D8AAAAAAAAAAP95n1ATRNM/AAAAAAAA8P//eZ9QE0TTPw==\",\"dtype\":\"float64\",\"shape\":[50]}},\"selected\":{\"id\":\"3984\",\"type\":\"Selection\"},\"selection_policy\":{\"id\":\"3985\",\"type\":\"UnionRenderers\"}},\"id\":\"3418\",\"type\":\"ColumnDataSource\"},{\"attributes\":{\"bottom\":{\"value\":0},\"fill_alpha\":{\"value\":0.05},\"fill_color\":{\"value\":\"#CB4777\"},\"left\":{\"field\":\"left\"},\"line_alpha\":{\"value\":0.05},\"line_color\":{\"value\":\"#7E03A7\"},\"right\":{\"field\":\"right\"},\"top\":{\"field\":\"top\"}},\"id\":\"3454\",\"type\":\"Quad\"},{\"attributes\":{\"data_source\":{\"id\":\"3308\",\"type\":\"ColumnDataSource\"},\"glyph\":{\"id\":\"3309\",\"type\":\"Quad\"},\"hover_glyph\":null,\"muted_glyph\":null,\"nonselection_glyph\":{\"id\":\"3310\",\"type\":\"Quad\"},\"selection_glyph\":null,\"view\":{\"id\":\"3312\",\"type\":\"CDSView\"}},\"id\":\"3311\",\"type\":\"GlyphRenderer\"},{\"attributes\":{\"bottom\":{\"value\":0},\"fill_alpha\":{\"value\":0.05},\"fill_color\":{\"value\":\"#CB4777\"},\"left\":{\"field\":\"left\"},\"line_alpha\":{\"value\":0.05},\"line_color\":{\"value\":\"#7E03A7\"},\"right\":{\"field\":\"right\"},\"top\":{\"field\":\"top\"}},\"id\":\"3419\",\"type\":\"Quad\"},{\"attributes\":{\"bottom\":{\"value\":0},\"fill_alpha\":{\"value\":0.1},\"fill_color\":{\"value\":\"#1f77b4\"},\"left\":{\"field\":\"left\"},\"line_alpha\":{\"value\":0.1},\"line_color\":{\"value\":\"#1f77b4\"},\"right\":{\"field\":\"right\"},\"top\":{\"field\":\"top\"}},\"id\":\"3455\",\"type\":\"Quad\"},{\"attributes\":{\"bottom\":{\"value\":0},\"fill_alpha\":{\"value\":0.1},\"fill_color\":{\"value\":\"#1f77b4\"},\"left\":{\"field\":\"left\"},\"line_alpha\":{\"value\":0.1},\"line_color\":{\"value\":\"#1f77b4\"},\"right\":{\"field\":\"right\"},\"top\":{\"field\":\"top\"}},\"id\":\"3420\",\"type\":\"Quad\"},{\"attributes\":{\"data_source\":{\"id\":\"3453\",\"type\":\"ColumnDataSource\"},\"glyph\":{\"id\":\"3454\",\"type\":\"Quad\"},\"hover_glyph\":null,\"muted_glyph\":null,\"nonselection_glyph\":{\"id\":\"3455\",\"type\":\"Quad\"},\"selection_glyph\":null,\"view\":{\"id\":\"3457\",\"type\":\"CDSView\"}},\"id\":\"3456\",\"type\":\"GlyphRenderer\"},{\"attributes\":{\"source\":{\"id\":\"3308\",\"type\":\"ColumnDataSource\"}},\"id\":\"3312\",\"type\":\"CDSView\"},{\"attributes\":{\"data_source\":{\"id\":\"3418\",\"type\":\"ColumnDataSource\"},\"glyph\":{\"id\":\"3419\",\"type\":\"Quad\"},\"hover_glyph\":null,\"muted_glyph\":null,\"nonselection_glyph\":{\"id\":\"3420\",\"type\":\"Quad\"},\"selection_glyph\":null,\"view\":{\"id\":\"3422\",\"type\":\"CDSView\"}},\"id\":\"3421\",\"type\":\"GlyphRenderer\"},{\"attributes\":{\"callback\":null,\"data\":{\"left\":{\"__ndarray__\":\"Y1p1ACvGJj/b63WFona1P4XOtfrwcMU/jVNYWUgT0D/Zv1U1GG7VPyUsUxHoyNo/OEyo9tsR4D9eAqfkQ7/iP4S4pdKrbOU/qm6kwBMa6D/QJKOue8fqP/XaoZzjdO0/jUhQxSUR8D+go0+82WfxP7P+TrONvvI/xllOqkEV9D/ZtE2h9Wv1P+wPTZipwvY//2pMj10Z+D8SxkuGEXD5PyUhS33Fxvo/N3xKdHkd/D9K10lrLXT9P10ySWLhyv4/t0akrMoQAEBB9COoJLwAQMqho6N+ZwFAVE8jn9gSAkDd/KKaMr4CQGeqIpaMaQNA8FeikeYUBEB6BSKNQMAEQAOzoYiaawVAjGAhhPQWBkAWDqF/TsIGQJ+7IHuobQdAKWmgdgIZCECyFiByXMQIQDzEn222bwlAxXEfaRAbCkBPH59kasYKQNjMHmDEcQtAYXqeWx4dDEDrJx5XeMgMQHTVnVLScw1A/oIdTiwfDkCHMJ1JhsoOQBHeHEXgdQ9AzUVOIJ0QEECSHA4eSmYQQA==\",\"dtype\":\"float64\",\"shape\":[50]},\"right\":{\"__ndarray__\":\"2+t1haJ2tT+FzrX68HDFP41TWFlIE9A/2b9VNRhu1T8lLFMR6MjaPzhMqPbbEeA/XgKn5EO/4j+EuKXSq2zlP6pupMATGug/0CSjrnvH6j/12qGc43TtP41IUMUlEfA/oKNPvNln8T+z/k6zjb7yP8ZZTqpBFfQ/2bRNofVr9T/sD02YqcL2P/9qTI9dGfg/EsZLhhFw+T8lIUt9xcb6Pzd8SnR5Hfw/StdJay10/T9dMkli4cr+P7dGpKzKEABAQfQjqCS8AEDKoaOjfmcBQFRPI5/YEgJA3fyimjK+AkBnqiKWjGkDQPBXopHmFARAegUijUDABEADs6GImmsFQIxgIYT0FgZAFg6hf07CBkCfuyB7qG0HQClpoHYCGQhAshYgclzECEA8xJ9ttm8JQMVxH2kQGwpATx+fZGrGCkDYzB5gxHELQGF6nlseHQxA6yceV3jIDEB01Z1S0nMNQP6CHU4sHw5AhzCdSYbKDkAR3hxF4HUPQM1FTiCdEBBAkhwOHkpmEEBX880b97sQQA==\",\"dtype\":\"float64\",\"shape\":[50]},\"top\":{\"__ndarray__\":\"4s2Vu85iA0B2R9D/kV8CQIuM4dh8EQFAfoafR6K3/T+/qqDfD9z/P/7qJ8uTRP8/bbB4Kx/u/z9ktKGhK9D9P2lZ/1ZFCP8/ZkaA6KKt/D+fATQClPj7P5CfIyrLRvk/f/WT5Umi9z8BQ7BX9l32P3/5myCjyfU/5mdYFJ7c9z/+kAtiWBX2P5d9SzXrr/M/f7LjjVNE8T//eZ9QE0TzP59E5FmKVvI//3mfUBNE4z/+p3dzneboPwAAAAAAAPD/n0TkWYpW8j8AAAAAAAAAAAAAAAAAAPD/AUOwV/Zd5j8AAAAAAADw/wAAAAAAAPD/AAAAAAAA8P//eZ9QE0TTPwAAAAAAAPD/AAAAAAAAAAAAAAAAAAAAAAAAAAAAAPD/AAAAAAAAAAAAAAAAAADw/wAAAAAAAAAA/qd3c53m6D/+Nu/4HObsPwAAAAAAAPD//3mfUBNE0z8AAAAAAADw/wAAAAAAAPD/AAAAAAAA8P/91U+WJ4neP/3VT5Ynid4//3mfUBNE0z//eZ9QE0TTPw==\",\"dtype\":\"float64\",\"shape\":[50]}},\"selected\":{\"id\":\"3942\",\"type\":\"Selection\"},\"selection_policy\":{\"id\":\"3943\",\"type\":\"UnionRenderers\"}},\"id\":\"3313\",\"type\":\"ColumnDataSource\"},{\"attributes\":{\"source\":{\"id\":\"3453\",\"type\":\"ColumnDataSource\"}},\"id\":\"3457\",\"type\":\"CDSView\"},{\"attributes\":{\"bottom\":{\"value\":0},\"fill_alpha\":{\"value\":0.05},\"fill_color\":{\"value\":\"#CB4777\"},\"left\":{\"field\":\"left\"},\"line_alpha\":{\"value\":0.05},\"line_color\":{\"value\":\"#7E03A7\"},\"right\":{\"field\":\"right\"},\"top\":{\"field\":\"top\"}},\"id\":\"3314\",\"type\":\"Quad\"},{\"attributes\":{\"source\":{\"id\":\"3418\",\"type\":\"ColumnDataSource\"}},\"id\":\"3422\",\"type\":\"CDSView\"},{\"attributes\":{\"callback\":null,\"data\":{\"left\":{\"__ndarray__\":\"YHLvnynuMz/clJMD8RmrP2ml89kCBrs/MsAOmYY/xD+wrSPFC/zKP5dNnHhI3NA/VsSmDos61D8VO7GkzZjXP9SxuzoQ99o/kyjG0FJV3j+oT2izytngPwiLbf7riOI/Z8ZySQ045D/HAXiULuflPyY9fd9Pluc/hniCKnFF6T/ls4d1kvTqP0TvjMCzo+w/pCqSC9VS7j8Cs0sr+wDwP7FQztCL2PA/Ye5Qdhyw8T8RjNMbrYfyP8EpVsE9X/M/cMfYZs429D8gZVsMXw71P9AC3rHv5fU/f6BgV4C99j8vPuP8EJX3P9/bZaKhbPg/j3noRzJE+T8+F2vtwhv6P+607ZJT8/o/nlJwOOTK+z9N8PLddKL8P/2NdYMFev0/rSv4KJZR/j9dyXrOJin/P4az/rlbAABAXwLADCRsAEA2UYFf7NcAQA6gQrK0QwFA5u4DBX2vAUC+PcVXRRsCQJaMhqoNhwJAbttH/dXyAkBGKglQnl4DQB15yqJmygNA9ceL9S42BEDNFk1I96EEQA==\",\"dtype\":\"float64\",\"shape\":[50]},\"right\":{\"__ndarray__\":\"3JSTA/EZqz9ppfPZAga7PzLADpmGP8Q/sK0jxQv8yj+XTZx4SNzQP1bEpg6LOtQ/FTuxpM2Y1z/Usbs6EPfaP5MoxtBSVd4/qE9os8rZ4D8Ii23+64jiP2fGckkNOOQ/xwF4lC7n5T8mPX3fT5bnP4Z4gipxRek/5bOHdZL06j9E74zAs6PsP6QqkgvVUu4/ArNLK/sA8D+xUM7Qi9jwP2HuUHYcsPE/EYzTG62H8j/BKVbBPV/zP3DH2GbONvQ/IGVbDF8O9T/QAt6x7+X1P3+gYFeAvfY/Lz7j/BCV9z/f22WioWz4P4956EcyRPk/Phdr7cIb+j/utO2SU/P6P55ScDjkyvs/TfDy3XSi/D/9jXWDBXr9P60r+CiWUf4/Xcl6ziYp/z+Gs/65WwAAQF8CwAwkbABANlGBX+zXAEAOoEKytEMBQObuAwV9rwFAvj3FV0UbAkCWjIaqDYcCQG7bR/3V8gJARioJUJ5eA0AdecqiZsoDQPXHi/UuNgRAzRZNSPehBEClZQ6bvw0FQA==\",\"dtype\":\"float64\",\"shape\":[50]},\"top\":{\"__ndarray__\":\"9zaG10J9A0BPIzybMTYCQJHi04HBpP8/1yFBhU8EAUDbj/ik2QgAQJ4YoBPZyf4/aVn/VkUI/z8Wc98aNVL7P1gMAnL2zfk/FnPfGjVS+z+Qto87EBj8P1gMAnL2zfk/f/WT5Umi9z9+yU+fmBX0P6CHlLGAtPg/5mdYFJ7c9z9/suONU0TxPwFDsFf2XeY//qd3c53m6D8BQ7BX9l3mP/95n1ATROM//dVPlieJ7j9PErxDttLxPz/MeAsLC+s/P8x4CwsL6z8AAAAAAAAAAP427/gc5uw//jbv+Bzm7D/91U+WJ4nePwAAAAAAAPA/bsVQYIup8D8BQ7BX9l3mP/6nd3Od5ug/AAAAAAAA8P8AAAAAAADw//3VT5Ynid4/AAAAAAAAAAAAAAAAAADw/wAAAAAAAAAAAAAAAAAA8P8AAAAAAAAAAAAAAAAAAPD/AAAAAAAAAAAAAAAAAAAAAAAAAAAAAPD/AAAAAAAAAAAAAAAAAAAAAAAAAAAAAPD/AAAAAAAA8P8AAAAAAAAAAA==\",\"dtype\":\"float64\",\"shape\":[50]}},\"selected\":{\"id\":\"4000\",\"type\":\"Selection\"},\"selection_policy\":{\"id\":\"4001\",\"type\":\"UnionRenderers\"}},\"id\":\"3458\",\"type\":\"ColumnDataSource\"},{\"attributes\":{\"callback\":null,\"data\":{\"left\":{\"__ndarray__\":\"85buF0vFBj9arvPJp0arP4ewkCDPQ7s/8MQTLiVyxD+dMd/LYkLLPyVP1TRQCdE/fAW7A29x1D/Tu6DSjdnXPylyhqGsQds/fyhscMup3j9q76gf9QjhP5bKG4cEveI/waWO7hNx5D/sgAFWIyXmPxhcdL0y2ec/QzfnJEKN6T9uElqMUUHrP5ntzPNg9ew/xMg/W3Cp7j/4UVnhvy7wP42/EpXHCPE/Iy3MSM/i8T+5moX81rzyP04IP7DelvM/5HX4Y+Zw9D9647EX7kr1Pw9Ra8v1JPY/pb4kf/3+9j87LN4yBdn3P9CZl+YMs/g/ZgdRmhSN+T/7dApOHGf6P5HiwwEkQfs/J1B9tSsb/D+8vTZpM/X8P1Ir8Bw7z/0/55ip0EKp/j99BmOESoP/Pwo6DhypLgBA1fDq9aybAECfp8fPsAgBQGpepKm0dQFANRWBg7jiAUAAzF1dvE8CQMuCOjfAvAJAljkXEcQpA0Bg8PPqx5YDQCun0MTLAwRA9l2tns9wBEDBFIp4090EQA==\",\"dtype\":\"float64\",\"shape\":[50]},\"right\":{\"__ndarray__\":\"Wq7zyadGqz+HsJAgz0O7P/DEEy4lcsQ/nTHfy2JCyz8lT9U0UAnRP3wFuwNvcdQ/07ug0o3Z1z8pcoahrEHbP38obHDLqd4/au+oH/UI4T+WyhuHBL3iP8Glju4TceQ/7IABViMl5j8YXHS9MtnnP0M35yRCjek/bhJajFFB6z+Z7czzYPXsP8TIP1twqe4/+FFZ4b8u8D+NvxKVxwjxPyMtzEjP4vE/uZqF/Na88j9OCD+w3pbzP+R1+GPmcPQ/euOxF+5K9T8PUWvL9ST2P6W+JH/9/vY/OyzeMgXZ9z/QmZfmDLP4P2YHUZoUjfk/+3QKThxn+j+R4sMBJEH7PydQfbUrG/w/vL02aTP1/D9SK/AcO8/9P+eYqdBCqf4/fQZjhEqD/z8KOg4cqS4AQNXw6vWsmwBAn6fHz7AIAUBqXqSptHUBQDUVgYO44gFAAMxdXbxPAkDLgjo3wLwCQJY5FxHEKQNAYPDz6seWA0Arp9DEywMEQPZdrZ7PcARAwRSKeNPdBECMy2ZS10oFQA==\",\"dtype\":\"float64\",\"shape\":[50]},\"top\":{\"__ndarray__\":\"HZkgg+6R/z/v5iiMhtj7P//Xw/Snmvo/WAwCcvbN+T/P8OMXu6P2P+pja3H7Zfc/z/DjF7uj9j8BQ7BX9l32P3/1k+VJovc/gCHYK/su+z8YnyNh5t7+P4Ah2Cv7Lvs//jbv+Bzm/D//07u5TnP8P6CHlLGAtPg/n0TkWYpW8j8AAAAAAADwP08SvEO20vE/gN4n1ATR9D+fRORZilbyP08SvEO20vE/P8x4CwsL6z//eZ9QE0TTP/6nd3Od5ug//3mfUBNE4z/91U+WJ4neP/95n1ATRNM/AAAAAAAAAAD/eZ9QE0TTPwAAAAAAAPD/AAAAAAAAAAA/zHgLCwvrP/3VT5Ynid4//qd3c53m6D8AAAAAAAAAAAFDsFf2XeY/AAAAAAAA8P8AAAAAAAAAAP3VT5Ynid4/AAAAAAAAAAAAAAAAAADw//3VT5Ynid4/TxK8Q7bS8T8AAAAAAADw//95n1ATRNM/AAAAAAAA8P8AAAAAAADw/wAAAAAAAPD/AAAAAAAAAAAAAAAAAAAAAA==\",\"dtype\":\"float64\",\"shape\":[50]}},\"selected\":{\"id\":\"3986\",\"type\":\"Selection\"},\"selection_policy\":{\"id\":\"3987\",\"type\":\"UnionRenderers\"}},\"id\":\"3423\",\"type\":\"ColumnDataSource\"},{\"attributes\":{\"bottom\":{\"value\":0},\"fill_alpha\":{\"value\":0.1},\"fill_color\":{\"value\":\"#1f77b4\"},\"left\":{\"field\":\"left\"},\"line_alpha\":{\"value\":0.1},\"line_color\":{\"value\":\"#1f77b4\"},\"right\":{\"field\":\"right\"},\"top\":{\"field\":\"top\"}},\"id\":\"3315\",\"type\":\"Quad\"},{\"attributes\":{\"bottom\":{\"value\":0},\"fill_alpha\":{\"value\":0.05},\"fill_color\":{\"value\":\"#CB4777\"},\"left\":{\"field\":\"left\"},\"line_alpha\":{\"value\":0.05},\"line_color\":{\"value\":\"#7E03A7\"},\"right\":{\"field\":\"right\"},\"top\":{\"field\":\"top\"}},\"id\":\"3459\",\"type\":\"Quad\"},{\"attributes\":{\"data_source\":{\"id\":\"3313\",\"type\":\"ColumnDataSource\"},\"glyph\":{\"id\":\"3314\",\"type\":\"Quad\"},\"hover_glyph\":null,\"muted_glyph\":null,\"nonselection_glyph\":{\"id\":\"3315\",\"type\":\"Quad\"},\"selection_glyph\":null,\"view\":{\"id\":\"3317\",\"type\":\"CDSView\"}},\"id\":\"3316\",\"type\":\"GlyphRenderer\"},{\"attributes\":{\"bottom\":{\"value\":0},\"fill_alpha\":{\"value\":0.05},\"fill_color\":{\"value\":\"#CB4777\"},\"left\":{\"field\":\"left\"},\"line_alpha\":{\"value\":0.05},\"line_color\":{\"value\":\"#7E03A7\"},\"right\":{\"field\":\"right\"},\"top\":{\"field\":\"top\"}},\"id\":\"3424\",\"type\":\"Quad\"},{\"attributes\":{\"bottom\":{\"value\":0},\"fill_alpha\":{\"value\":0.1},\"fill_color\":{\"value\":\"#1f77b4\"},\"left\":{\"field\":\"left\"},\"line_alpha\":{\"value\":0.1},\"line_color\":{\"value\":\"#1f77b4\"},\"right\":{\"field\":\"right\"},\"top\":{\"field\":\"top\"}},\"id\":\"3460\",\"type\":\"Quad\"},{\"attributes\":{\"data_source\":{\"id\":\"3458\",\"type\":\"ColumnDataSource\"},\"glyph\":{\"id\":\"3459\",\"type\":\"Quad\"},\"hover_glyph\":null,\"muted_glyph\":null,\"nonselection_glyph\":{\"id\":\"3460\",\"type\":\"Quad\"},\"selection_glyph\":null,\"view\":{\"id\":\"3462\",\"type\":\"CDSView\"}},\"id\":\"3461\",\"type\":\"GlyphRenderer\"},{\"attributes\":{\"source\":{\"id\":\"3313\",\"type\":\"ColumnDataSource\"}},\"id\":\"3317\",\"type\":\"CDSView\"},{\"attributes\":{\"bottom\":{\"value\":0},\"fill_alpha\":{\"value\":0.1},\"fill_color\":{\"value\":\"#1f77b4\"},\"left\":{\"field\":\"left\"},\"line_alpha\":{\"value\":0.1},\"line_color\":{\"value\":\"#1f77b4\"},\"right\":{\"field\":\"right\"},\"top\":{\"field\":\"top\"}},\"id\":\"3425\",\"type\":\"Quad\"},{\"attributes\":{\"data_source\":{\"id\":\"3423\",\"type\":\"ColumnDataSource\"},\"glyph\":{\"id\":\"3424\",\"type\":\"Quad\"},\"hover_glyph\":null,\"muted_glyph\":null,\"nonselection_glyph\":{\"id\":\"3425\",\"type\":\"Quad\"},\"selection_glyph\":null,\"view\":{\"id\":\"3427\",\"type\":\"CDSView\"}},\"id\":\"3426\",\"type\":\"GlyphRenderer\"},{\"attributes\":{\"callback\":null,\"data\":{\"left\":{\"__ndarray__\":\"s50hiKvJRj/8S0WiIk+rP8AINUuPIbs/wrWjosZNxD8j56yfxQrLP0IMW07i49A/86TfzGFC1D+jPWRL4aDXP1TW6Mlg/9o/BW9tSOBd3j/aA3njL97gPzJQu6JvjeI/i5z9Ya885D/j6D8h7+vlPzs1guAum+c/lIHEn25K6T/szQZfrvnqP0QaSR7uqOw/nWaL3S1Y7j972WbOtgPwP6f/B65W2/A/0yWpjfay8T//S0ptloryPyxy60w2YvM/WJiMLNY59D+Evi0MdhH1P7DkzusV6fU/3Apwy7XA9j8IMRGrVZj3PzVXsor1b/g/YX1TapVH+T+No/RJNR/6P7nJlSnV9vo/5e82CXXO+z8RFtjoFKb8Pz08eci0ff0/amIaqFRV/j+WiLuH9Cz/P2FXrjNKAgBAd+p+IxpuAECNfU8T6tkAQKMQIAO6RQFAuaPw8omxAUDPNsHiWR0CQOXJkdIpiQJA/Fxiwvn0AkAS8DKyyWADQCiDA6KZzANAPhbUkWk4BEBUqaSBOaQEQA==\",\"dtype\":\"float64\",\"shape\":[50]},\"right\":{\"__ndarray__\":\"/EtFoiJPqz/ACDVLjyG7P8K1o6LGTcQ/I+esn8UKyz9CDFtO4uPQP/Ok38xhQtQ/oz1kS+Gg1z9U1ujJYP/aPwVvbUjgXd4/2gN54y/e4D8yULuib43iP4uc/WGvPOQ/4+g/Ie/r5T87NYLgLpvnP5SBxJ9uSuk/7M0GX6756j9EGkke7qjsP51mi90tWO4/e9lmzrYD8D+n/weuVtvwP9MlqY32svE//0tKbZaK8j8scutMNmLzP1iYjCzWOfQ/hL4tDHYR9T+w5M7rFen1P9wKcMu1wPY/CDERq1WY9z81V7KK9W/4P2F9U2qVR/k/jaP0STUf+j+5yZUp1fb6P+XvNgl1zvs/ERbY6BSm/D89PHnItH39P2piGqhUVf4/loi7h/Qs/z9hV64zSgIAQHfqfiMabgBAjX1PE+rZAECjECADukUBQLmj8PKJsQFAzzbB4lkdAkDlyZHSKYkCQPxcYsL59AJAEvAysslgA0AogwOimcwDQD4W1JFpOARAVKmkgTmkBEBqPHVxCRAFQA==\",\"dtype\":\"float64\",\"shape\":[50]},\"top\":{\"__ndarray__\":\"UCLyLEUrAUD3s9yG2ZYBQFaL38i5DwJArLx9B8jCAUCsvH0HyMIBQKzkKA0AuAFALBIXZLRsAEAAAAAAAAAAQA5YRsqZMQFAOhOo23ziAEDOpnQo0cn/P9uP+KTZCABAnwE0ApT4+z+AOEQ9QAD+P/7qJ8uTRP8/59YZYOIiAEDP8OMXu6P2P37gu7Dd5vY/AAAAAAAA8D9+yU+fmBX0P08SvEO20vE/bsVQYIup8D/+Nu/4HObsP/427/gc5uw/f7LjjVNE8T+fRORZilbyPz/MeAsLC+s/bsVQYIup8D/+Nu/4HObsP3+y441TRPE//qd3c53m6D/+Nu/4HObsP/95n1ATRNM//dVPlieJ3j8AAAAAAAAAAP3VT5Ynid4//3mfUBNE0z8AAAAAAADw/wAAAAAAAAAA/3mfUBNE4z8AAAAAAADw/wAAAAAAAAAA/dVPlieJ3j8AAAAAAAAAAAAAAAAAAAAA/dVPlieJ3j8AAAAAAAAAAAAAAAAAAAAAAAAAAAAAAAAAAAAAAAAAAA==\",\"dtype\":\"float64\",\"shape\":[50]}},\"selected\":{\"id\":\"3944\",\"type\":\"Selection\"},\"selection_policy\":{\"id\":\"3945\",\"type\":\"UnionRenderers\"}},\"id\":\"3318\",\"type\":\"ColumnDataSource\"},{\"attributes\":{\"source\":{\"id\":\"3458\",\"type\":\"ColumnDataSource\"}},\"id\":\"3462\",\"type\":\"CDSView\"},{\"attributes\":{\"bottom\":{\"value\":0},\"fill_alpha\":{\"value\":0.05},\"fill_color\":{\"value\":\"#CB4777\"},\"left\":{\"field\":\"left\"},\"line_alpha\":{\"value\":0.05},\"line_color\":{\"value\":\"#7E03A7\"},\"right\":{\"field\":\"right\"},\"top\":{\"field\":\"top\"}},\"id\":\"3319\",\"type\":\"Quad\"},{\"attributes\":{\"source\":{\"id\":\"3423\",\"type\":\"ColumnDataSource\"}},\"id\":\"3427\",\"type\":\"CDSView\"},{\"attributes\":{\"callback\":null,\"data\":{\"left\":{\"__ndarray__\":\"Y1p1ACvGJj/6ubHQLXqyP6Sc8UV8dMI/S1yKo+Gryz/4jZGAo3HSP8vtXS9WDdc/n00q3gip2z+5VnvGXSLgP6OG4R03cOI/jbZHdRC+5D925q3M6QvnP2AWFCTDWek/SkZ6e5yn6z8zduDSdfXtPw5TI5WnIfA/A2vWQJRI8T/4gonsgG/yP+2aPJhtlvM/4rLvQ1q99D/WyqLvRuT1P8viVZszC/c/wPoIRyAy+D+1ErzyDFn5P6oqb575f/o/n0IiSuam+z+TWtX10s38P4hyiKG/9P0/fYo7Tawb/z84UXd8TCEAQDPdUNLCtABALWkqKDlIAUAo9QN+r9sBQCKB3dMlbwJAHA23KZwCA0AXmZB/EpYDQBElatWIKQRADLFDK/+8BEAGPR2BdVAFQADJ9tbr4wVA+1TQLGJ3BkD14KmC2AoHQPBsg9hOngdA6vhcLsUxCEDkhDaEO8UIQN8QENqxWAlA2ZzpLyjsCUDUKMOFnn8KQM60nNsUEwtAyUB2MYumC0DDzE+HAToMQA==\",\"dtype\":\"float64\",\"shape\":[50]},\"right\":{\"__ndarray__\":\"+rmx0C16sj+knPFFfHTCP0tciqPhq8s/+I2RgKNx0j/L7V0vVg3XP59NKt4Iqds/uVZ7xl0i4D+jhuEdN3DiP422R3UQvuQ/duatzOkL5z9gFhQkw1npP0pGenucp+s/M3bg0nX17T8OUyOVpyHwPwNr1kCUSPE/+IKJ7IBv8j/tmjyYbZbzP+Ky70NavfQ/1sqi70bk9T/L4lWbMwv3P8D6CEcgMvg/tRK88gxZ+T+qKm+e+X/6P59CIkrmpvs/k1rV9dLN/D+Icoihv/T9P32KO02sG/8/OFF3fEwhAEAz3VDSwrQAQC1pKig5SAFAKPUDfq/bAUAigd3TJW8CQBwNtymcAgNAF5mQfxKWA0ARJWrViCkEQAyxQyv/vARABj0dgXVQBUAAyfbW6+MFQPtU0CxidwZA9eCpgtgKB0DwbIPYTp4HQOr4XC7FMQhA5IQ2hDvFCEDfEBDasVgJQNmc6S8o7AlA1CjDhZ5/CkDOtJzbFBMLQMlAdjGLpgtAw8xPhwE6DEC9WCndd80MQA==\",\"dtype\":\"float64\",\"shape\":[50]},\"top\":{\"__ndarray__\":\"Z+LP6ISLAUCAC7aIomgBQA5YRsqZMQFA1yFBhU8EAUB1D+SltPP+P/427/gc5vw/fwwA945z+j8XXHMJ8ID4PwC9T6gJovk/7qN4NJB69T/qY2tx+2X3P+pja3H7Zfc/F1xzCfCA+D9/WMckGBX4P5CfIyrLRvk/F1xzCfCA+D9+4Luw3eb2P4DeJ9QE0fQ/gN4n1ATR9D8fOng/1Pj5PxDB+1XGdfQ/n0TkWYpW8j9/WMckGBX4P/6QC2JYFfY/f7LjjVNE8T/+Nu/4HObsP/6QC2JYFfY/l31LNeuv8z//eZ9QE0TjPwFDsFf2XeY/AAAAAAAAAAAAAAAAAAAAAAAAAAAAAPD/AAAAAAAA8P8AAAAAAADw/wAAAAAAAPD/AAAAAAAA8P8AAAAAAAAAAAAAAAAAAPD/AAAAAAAA8P8AAAAAAADw/wAAAAAAAPD/AAAAAAAAAAAAAAAAAADw/wAAAAAAAPD/AAAAAAAA8P8AAAAAAADw/wAAAAAAAPD/AAAAAAAA8P8AAAAAAAAAAA==\",\"dtype\":\"float64\",\"shape\":[50]}},\"selected\":{\"id\":\"4002\",\"type\":\"Selection\"},\"selection_policy\":{\"id\":\"4003\",\"type\":\"UnionRenderers\"}},\"id\":\"3463\",\"type\":\"ColumnDataSource\"},{\"attributes\":{\"bottom\":{\"value\":0},\"fill_alpha\":{\"value\":0.1},\"fill_color\":{\"value\":\"#1f77b4\"},\"left\":{\"field\":\"left\"},\"line_alpha\":{\"value\":0.1},\"line_color\":{\"value\":\"#1f77b4\"},\"right\":{\"field\":\"right\"},\"top\":{\"field\":\"top\"}},\"id\":\"3320\",\"type\":\"Quad\"},{\"attributes\":{\"callback\":null,\"data\":{\"left\":{\"__ndarray__\":\"AAAAAAAAAACDxx34xnKoP4PHHfjGcrg/olUWOhVWwj+Dxx34xnLIP2Q5JbZ4j84/olUWOhVW0j+TDhoZbmTVP4PHHfjGctg/c4Ah1x+B2z9kOSW2eI/ePyp5lMrozuA/olUWOhVW4j8aMpipQd3jP5MOGhluZOU/C+ubiJrr5j+Dxx34xnLoP/ujn2fz+ek/c4Ah1x+B6z/sXKNGTAjtP2Q5JbZ4j+4/7orTklIL8D8qeZTK6M7wP2ZnVQJ/kvE/olUWOhVW8j/eQ9dxqxnzPxoymKlB3fM/VyBZ4deg9D+TDhoZbmT1P8/82lAEKPY/C+ubiJrr9j9H2VzAMK/3P4PHHfjGcvg/v7XeL102+T/7o59n8/n5PzeSYJ+Jvfo/c4Ah1x+B+z+vbuIOtkT8P+xco0ZMCP0/KEtkfuLL/T9kOSW2eI/+P6An5u0OU/8/7orTklILAEAMArSuHW0AQCp5lMrozgBASPB05rMwAUBmZ1UCf5IBQITeNR5K9AFAolUWOhVWAkDAzPZV4LcCQA==\",\"dtype\":\"float64\",\"shape\":[50]},\"right\":{\"__ndarray__\":\"g8cd+MZyqD+Dxx34xnK4P6JVFjoVVsI/g8cd+MZyyD9kOSW2eI/OP6JVFjoVVtI/kw4aGW5k1T+Dxx34xnLYP3OAIdcfgds/ZDkltniP3j8qeZTK6M7gP6JVFjoVVuI/GjKYqUHd4z+TDhoZbmTlPwvrm4ia6+Y/g8cd+MZy6D/7o59n8/npP3OAIdcfges/7FyjRkwI7T9kOSW2eI/uP+6K05JSC/A/KnmUyujO8D9mZ1UCf5LxP6JVFjoVVvI/3kPXcasZ8z8aMpipQd3zP1cgWeHXoPQ/kw4aGW5k9T/P/NpQBCj2Pwvrm4ia6/Y/R9lcwDCv9z+Dxx34xnL4P7+13i9dNvk/+6OfZ/P5+T83kmCfib36P3OAIdcfgfs/r27iDrZE/D/sXKNGTAj9PyhLZH7iy/0/ZDkltniP/j+gJ+btDlP/P+6K05JSCwBADAK0rh1tAEAqeZTK6M4AQEjwdOazMAFAZmdVAn+SAUCE3jUeSvQBQKJVFjoVVgJAwMz2VeC3AkDeQ9dxqxkDQA==\",\"dtype\":\"float64\",\"shape\":[50]},\"top\":{\"__ndarray__\":\"ANcb89/2A0CutGTKDRIDQAxmqRUk2QJAdkfQ/5FfAkBW/YLzXg4DQLeI+fR/GQJADOC+kh/IAUA2c2po2fsBQEu0OYA/egFAopvR+VWcAkBIrjlpanQBQL+Ki+aQ2wBA24/4pNkIAED+6ifLk0T/PxB+S/7PF/4/v6qg3w/c/z/rq5ULl9QAQE7md/0ERv4/kLaPOxAY/D//07u5TnP8P58BNAKU+Ps/fm8zNl3m+j/2MLzRryL6PwFDsFf2XfY/fslPn5gV9D/91U+WJ4nuP59E5FmKVvI/EMH7VcZ19D9+yU+fmBX0P35vMzZd5vo/EMH7VcZ19D9/+Zsgo8n1P/3VT5Ynid4//3mfUBNE0z/91U+WJ4nePwAAAAAAAPD//dVPlieJ3j//eZ9QE0TTPwAAAAAAAAAAAAAAAAAA8P8AAAAAAADw/wAAAAAAAAAAAAAAAAAAAAAAAAAAAAAAAP95n1ATRNM/AAAAAAAA8P8AAAAAAADw/wAAAAAAAPD/AAAAAAAA8P8AAAAAAAAAAA==\",\"dtype\":\"float64\",\"shape\":[50]}},\"selected\":{\"id\":\"3988\",\"type\":\"Selection\"},\"selection_policy\":{\"id\":\"3989\",\"type\":\"UnionRenderers\"}},\"id\":\"3428\",\"type\":\"ColumnDataSource\"},{\"attributes\":{\"bottom\":{\"value\":0},\"fill_alpha\":{\"value\":0.05},\"fill_color\":{\"value\":\"#CB4777\"},\"left\":{\"field\":\"left\"},\"line_alpha\":{\"value\":0.05},\"line_color\":{\"value\":\"#7E03A7\"},\"right\":{\"field\":\"right\"},\"top\":{\"field\":\"top\"}},\"id\":\"3464\",\"type\":\"Quad\"},{\"attributes\":{\"bottom\":{\"value\":0},\"fill_alpha\":{\"value\":0.05},\"fill_color\":{\"value\":\"#CB4777\"},\"left\":{\"field\":\"left\"},\"line_alpha\":{\"value\":0.05},\"line_color\":{\"value\":\"#7E03A7\"},\"right\":{\"field\":\"right\"},\"top\":{\"field\":\"top\"}},\"id\":\"3429\",\"type\":\"Quad\"},{\"attributes\":{\"data_source\":{\"id\":\"3318\",\"type\":\"ColumnDataSource\"},\"glyph\":{\"id\":\"3319\",\"type\":\"Quad\"},\"hover_glyph\":null,\"muted_glyph\":null,\"nonselection_glyph\":{\"id\":\"3320\",\"type\":\"Quad\"},\"selection_glyph\":null,\"view\":{\"id\":\"3322\",\"type\":\"CDSView\"}},\"id\":\"3321\",\"type\":\"GlyphRenderer\"},{\"attributes\":{\"bottom\":{\"value\":0},\"fill_alpha\":{\"value\":0.1},\"fill_color\":{\"value\":\"#1f77b4\"},\"left\":{\"field\":\"left\"},\"line_alpha\":{\"value\":0.1},\"line_color\":{\"value\":\"#1f77b4\"},\"right\":{\"field\":\"right\"},\"top\":{\"field\":\"top\"}},\"id\":\"3465\",\"type\":\"Quad\"},{\"attributes\":{\"bottom\":{\"value\":0},\"fill_alpha\":{\"value\":0.1},\"fill_color\":{\"value\":\"#1f77b4\"},\"left\":{\"field\":\"left\"},\"line_alpha\":{\"value\":0.1},\"line_color\":{\"value\":\"#1f77b4\"},\"right\":{\"field\":\"right\"},\"top\":{\"field\":\"top\"}},\"id\":\"3430\",\"type\":\"Quad\"},{\"attributes\":{\"data_source\":{\"id\":\"3463\",\"type\":\"ColumnDataSource\"},\"glyph\":{\"id\":\"3464\",\"type\":\"Quad\"},\"hover_glyph\":null,\"muted_glyph\":null,\"nonselection_glyph\":{\"id\":\"3465\",\"type\":\"Quad\"},\"selection_glyph\":null,\"view\":{\"id\":\"3467\",\"type\":\"CDSView\"}},\"id\":\"3466\",\"type\":\"GlyphRenderer\"},{\"attributes\":{\"source\":{\"id\":\"3318\",\"type\":\"ColumnDataSource\"}},\"id\":\"3322\",\"type\":\"CDSView\"},{\"attributes\":{\"data_source\":{\"id\":\"3428\",\"type\":\"ColumnDataSource\"},\"glyph\":{\"id\":\"3429\",\"type\":\"Quad\"},\"hover_glyph\":null,\"muted_glyph\":null,\"nonselection_glyph\":{\"id\":\"3430\",\"type\":\"Quad\"},\"selection_glyph\":null,\"view\":{\"id\":\"3432\",\"type\":\"CDSView\"}},\"id\":\"3431\",\"type\":\"GlyphRenderer\"},{\"attributes\":{\"callback\":null,\"data\":{\"left\":{\"__ndarray__\":\"+0kqPhAVMT8KBwHVXrW1P+Xx4UzUrMU/IrChl3w/0D9SZ9IIj6jVP4IeA3qhEds/2eqZ9Vk94D9xRjIu4/HiPwmiymZspuU/of1in/Va6D85WfvXfg/rP9G0kxAIxO0/NQiWpEg88D8BNuJAjZbxP81jLt3R8PI/mZF6eRZL9D9lv8YVW6X1PzHtErKf//Y//RpfTuRZ+D/JSKvqKLT5P5V294ZtDvs/YaRDI7Jo/D8t0o+/9sL9P/n/21s7Hf8/4hYU/L87AEDILTpK4ugAQK5EYJgElgFAlFuG5iZDAkB6cqw0SfACQGCJ0oJrnQNARqD40I1KBEAstx4fsPcEQBLORG3SpAVA+ORqu/RRBkDe+5AJF/8GQMQSt1c5rAdAqindpVtZCECQQAP0fQYJQHZXKUKgswlAXG5PkMJgCkBChXXe5A0LQCicmywHuwtADrPBeiloDED0yefISxUNQNrgDRduwg1AwPczZZBvDkCmDlqzshwPQIwlgAHVyQ9AOR7Tp3s7EECsKebODJIQQA==\",\"dtype\":\"float64\",\"shape\":[50]},\"right\":{\"__ndarray__\":\"CgcB1V61tT/l8eFM1KzFPyKwoZd8P9A/UmfSCI+o1T+CHgN6oRHbP9nqmfVZPeA/cUYyLuPx4j8JospmbKblP6H9Yp/1Wug/OVn7134P6z/RtJMQCMTtPzUIlqRIPPA/ATbiQI2W8T/NYy7d0fDyP5mRenkWS/Q/Zb/GFVul9T8x7RKyn//2P/0aX07kWfg/yUir6ii0+T+VdveGbQ77P2GkQyOyaPw/LdKPv/bC/T/5/9tbOx3/P+IWFPy/OwBAyC06SuLoAECuRGCYBJYBQJRbhuYmQwJAenKsNEnwAkBgidKCa50DQEag+NCNSgRALLceH7D3BEASzkRt0qQFQPjkarv0UQZA3vuQCRf/BkDEErdXOawHQKop3aVbWQhAkEAD9H0GCUB2VylCoLMJQFxuT5DCYApAQoV13uQNC0AonJssB7sLQA6zwXopaAxA9MnnyEsVDUDa4A0XbsINQMD3M2WQbw5Apg5as7IcD0CMJYAB1ckPQDke06d7OxBArCnmzgySEEAfNfn1negQQA==\",\"dtype\":\"float64\",\"shape\":[50]},\"top\":{\"__ndarray__\":\"h6t+OHftBEC4nhuY2N8DQD+sYxKMCgRANnNqaNn7AUBzNJmtKLUCQHKTd3uvYgFAjisN5hAv/j+eGKAT2cn+PxB+S/7PF/4/gCHYK/su+z8gZryFhYX9P4A4RD1AAP4/9jC80a8i+j9/m3d8DnP+P5Hi04HBpP8/fslPn5gV9D+fW1Brzyf1P/95n1ATRPM//dVPlieJ7j9uxVBgi6nwP59E5FmKVvI/P8x4CwsL6z/+Nu/4HObsP/95n1ATROM//3mfUBNE0z/91U+WJ4nePwAAAAAAAAAAAAAAAAAAAAAAAAAAAAAAAAAAAAAAAPD/AAAAAAAA8P8AAAAAAAAAAP95n1ATRNM/P8x4CwsL6z//eZ9QE0TjPwAAAAAAAAAAAAAAAAAAAAAAAAAAAADw/wAAAAAAAPD/AAAAAAAA8P8AAAAAAADw/wAAAAAAAPD/AAAAAAAA8P8AAAAAAADw/wAAAAAAAPD/AAAAAAAA8P8AAAAAAAAAAAAAAAAAAAAAAAAAAAAA8P//eZ9QE0TTPw==\",\"dtype\":\"float64\",\"shape\":[50]}},\"selected\":{\"id\":\"3946\",\"type\":\"Selection\"},\"selection_policy\":{\"id\":\"3947\",\"type\":\"UnionRenderers\"}},\"id\":\"3323\",\"type\":\"ColumnDataSource\"},{\"attributes\":{\"source\":{\"id\":\"3463\",\"type\":\"ColumnDataSource\"}},\"id\":\"3467\",\"type\":\"CDSView\"},{\"attributes\":{\"bottom\":{\"value\":0},\"fill_alpha\":{\"value\":0.05},\"fill_color\":{\"value\":\"#CB4777\"},\"left\":{\"field\":\"left\"},\"line_alpha\":{\"value\":0.05},\"line_color\":{\"value\":\"#7E03A7\"},\"right\":{\"field\":\"right\"},\"top\":{\"field\":\"top\"}},\"id\":\"3594\",\"type\":\"Quad\"},{\"attributes\":{\"source\":{\"id\":\"3428\",\"type\":\"ColumnDataSource\"}},\"id\":\"3432\",\"type\":\"CDSView\"},{\"attributes\":{\"data_source\":{\"id\":\"3593\",\"type\":\"ColumnDataSource\"},\"glyph\":{\"id\":\"3594\",\"type\":\"Quad\"},\"hover_glyph\":null,\"muted_glyph\":null,\"nonselection_glyph\":{\"id\":\"3595\",\"type\":\"Quad\"},\"selection_glyph\":null,\"view\":{\"id\":\"3597\",\"type\":\"CDSView\"}},\"id\":\"3596\",\"type\":\"GlyphRenderer\"},{\"attributes\":{\"bottom\":{\"value\":0},\"fill_alpha\":{\"value\":0.05},\"fill_color\":{\"value\":\"#CB4777\"},\"left\":{\"field\":\"left\"},\"line_alpha\":{\"value\":0.05},\"line_color\":{\"value\":\"#7E03A7\"},\"right\":{\"field\":\"right\"},\"top\":{\"field\":\"top\"}},\"id\":\"3324\",\"type\":\"Quad\"},{\"attributes\":{\"callback\":null,\"data\":{\"left\":{\"__ndarray__\":\"tiLw2+V5PD+GcPV7mGenP2SAGZYeS7c/QiQcdzhxwT9SiCuj4TzHP2LsOs+KCM0/Oiil/Rlq0T9C2qyT7k/UP0qMtCnDNdc/Uj68v5cb2j9a8MNVbAHdP2Kiy+tA598/NarpwIpm4T85g+0LddniPz1c8VZfTOQ/QTX1oUm/5T9FDvnsMzLnP0nn/Dcepeg/TcAAgwgY6j9RmQTO8orrP1VyCBnd/ew/WUsMZMdw7j9dJBCvsePvP7H+Cf1Nq/A/M+uLIsNk8T+11w1IOB7yPzfEj22t1/I/ubARkyKR8z87nZO4l0r0P72JFd4MBPU/P3aXA4K99T/BYhkp93b2P0NPm05sMPc/xTsddOHp9z9HKJ+ZVqP4P8kUIb/LXPk/SwGj5EAW+j/N7SQKts/6P0/api8rifs/0cYoVaBC/D9Ts6p6Ffz8P9WfLKCKtf0/V4yuxf9u/j/ZeDDrdCj/P1tlshDq4f8/7ygam69NAEAwH9staqoAQHEVnMAkBwFAsgtdU99jAUDzAR7mmcABQA==\",\"dtype\":\"float64\",\"shape\":[50]},\"right\":{\"__ndarray__\":\"hnD1e5hnpz9kgBmWHku3P0IkHHc4ccE/Uogro+E8xz9i7DrPigjNPzoopf0ZatE/Qtqsk+5P1D9KjLQpwzXXP1I+vL+XG9o/WvDDVWwB3T9iosvrQOffPzWq6cCKZuE/OYPtC3XZ4j89XPFWX0zkP0E19aFJv+U/RQ757DMy5z9J5/w3HqXoP03AAIMIGOo/UZkEzvKK6z9VcggZ3f3sP1lLDGTHcO4/XSQQr7Hj7z+x/gn9TavwPzPriyLDZPE/tdcNSDge8j83xI9trdfyP7mwEZMikfM/O52TuJdK9D+9iRXeDAT1Pz92lwOCvfU/wWIZKfd29j9DT5tObDD3P8U7HXTh6fc/RyifmVaj+D/JFCG/y1z5P0sBo+RAFvo/ze0kCrbP+j9P2qYvK4n7P9HGKFWgQvw/U7OqehX8/D/VnyygirX9P1eMrsX/bv4/2Xgw63Qo/z9bZbIQ6uH/P+8oGpuvTQBAMB/bLWqqAEBxFZzAJAcBQLILXVPfYwFA8wEe5pnAAUA0+N54VB0CQA==\",\"dtype\":\"float64\",\"shape\":[50]},\"top\":{\"__ndarray__\":\"wA6bLLJcAUBlXez5537/P/c7Gnfv9gBAS7Q5gD96AUBpWf9WRQj/P/7qJ8uTRP8/bpkMGtoc/T9+bzM2Xeb6Px86eD/U+Pk/ZLShoSvQ/T/wG18EtpD8P38MAPeOc/o/boKgCJVL+j8AvU+oCaL5P84HUCkAdfk/FnPfGjVS+z9qQpNFADf8P/6QC2JYFfY/7rrkRdVL+D9+yU+fmBX0P84HUCkAdfk/oIeUsYC0+D/P8OMXu6P2P/YwvNGvIvo/ABdsEUXR8j/91U+WJ4nuP3+y441TRPE/TxK8Q7bS8T9PErxDttLxP/95n1ATRPM/fslPn5gV9D+fRORZilbyP3+y441TRPE//qd3c53m6D8BQ7BX9l3mPwFDsFf2XeY//dVPlieJ3j8AAAAAAADw//95n1ATRNM/AAAAAAAAAAAAAAAAAAAAAAAAAAAAAPD//3mfUBNE4z//eZ9QE0TjP/3VT5Ynid4/AAAAAAAAAAAAAAAAAADw/wAAAAAAAAAAAUOwV/Zd5j/91U+WJ4nePw==\",\"dtype\":\"float64\",\"shape\":[50]}},\"selected\":{\"id\":\"4004\",\"type\":\"Selection\"},\"selection_policy\":{\"id\":\"4005\",\"type\":\"UnionRenderers\"}},\"id\":\"3468\",\"type\":\"ColumnDataSource\"},{\"attributes\":{\"bottom\":{\"value\":0},\"fill_alpha\":{\"value\":0.1},\"fill_color\":{\"value\":\"#1f77b4\"},\"left\":{\"field\":\"left\"},\"line_alpha\":{\"value\":0.1},\"line_color\":{\"value\":\"#1f77b4\"},\"right\":{\"field\":\"right\"},\"top\":{\"field\":\"top\"}},\"id\":\"3325\",\"type\":\"Quad\"},{\"attributes\":{\"callback\":null,\"data\":{\"left\":{\"__ndarray__\":\"Y1p1ACvGJj/H/aqPhKusPxrDKnohoLw/qQNAVkB1xT/EpWrvb5rMP++jSsTP39E//fTfkGdy1T8KRnVd/wTZPxiXCiqXl9w/E/RPexcV4D+anJphY97hPyFF5Uevp+M/qO0vLvtw5T8vlnoURzrnP7U+xfqSA+k/POcP4d7M6j/Dj1rHKpbsP0o4pa12X+4/aPD3SWEU8D+sRB09B/nwP++YQjCt3fE/M+1nI1PC8j92QY0W+abzP7mVsgmfi/Q//enX/ERw9T9APv3v6lT2P4SSIuOQOfc/x+ZH1jYe+D8KO23J3AL5P06PkryC5/k/keO3ryjM+j/VN92izrD7PxiMApZ0lfw/W+AniRp6/T+fNE18wF7+P+KIcm9mQ/8/ku5LMQYUAEC0mN4qWYYAQNZCcSSs+ABA9+wDHv9qAUAZl5YXUt0BQDtBKRGlTwJAXeu7CvjBAkB+lU4ESzQDQKA/4f2dpgNAwulz9/AYBEDjkwbxQ4sEQAU+meqW/QRAJ+gr5OlvBUBIkr7dPOIFQA==\",\"dtype\":\"float64\",\"shape\":[50]},\"right\":{\"__ndarray__\":\"x/2qj4SrrD8awyp6IaC8P6kDQFZAdcU/xKVq72+azD/vo0rEz9/RP/3035BnctU/CkZ1Xf8E2T8Ylwoql5fcPxP0T3sXFeA/mpyaYWPe4T8hReVHr6fjP6jtLy77cOU/L5Z6FEc65z+1PsX6kgPpPzznD+HezOo/w49axyqW7D9KOKWtdl/uP2jw90lhFPA/rEQdPQf58D/vmEIwrd3xPzPtZyNTwvI/dkGNFvmm8z+5lbIJn4v0P/3p1/xEcPU/QD797+pU9j+EkiLjkDn3P8fmR9Y2Hvg/CjttydwC+T9Oj5K8guf5P5Hjt68ozPo/1Tfdos6w+z8YjAKWdJX8P1vgJ4kaev0/nzRNfMBe/j/iiHJvZkP/P5LuSzEGFABAtJjeKlmGAEDWQnEkrPgAQPfsAx7/agFAGZeWF1LdAUA7QSkRpU8CQF3ruwr4wQJAfpVOBEs0A0CgP+H9naYDQMLpc/fwGARA45MG8UOLBEAFPpnqlv0EQCfoK+TpbwVASJK+3TziBUBqPFHXj1QGQA==\",\"dtype\":\"float64\",\"shape\":[50]},\"top\":{\"__ndarray__\":\"qpZUuhRDBED8fkaUmygEQE5HWjQcmgNAE353vH5pA0AH1pEQLd0BQPdWyEm5+wJAQBpRtVTFAkA3bt44aL0BQIR7j/HkJAFAS7Q5gD96AUBpf5Xz4jcBQIANOiZPfABAYqy9j9MzAEAQfkv+zxf+P1MgAxPBnv0//r7jhOK3+z+euviu6cD6PwC9T6gJovk/kJ8jKstG+T/v5iiMhtj7P/YwvNGvIvo//9fD9Kea+j/mZ1gUntz3P3/1k+VJovc/fuC7sN3m9j+A3ifUBNH0P59bUGvPJ/U/bsVQYIup8D//eZ9QE0TzP08SvEO20vE/f7LjjVNE8T/91U+WJ4nuP/95n1ATRPM/P8x4CwsL6z/91U+WJ4nuP3+y441TRPE//3mfUBNE4z8BQ7BX9l3mP/95n1ATROM/AAAAAAAAAAAAAAAAAADw/wAAAAAAAPD/AAAAAAAA8P8AAAAAAAAAAAAAAAAAAPD/AAAAAAAA8P8AAAAAAAAAAAAAAAAAAPD/AAAAAAAA8P//eZ9QE0TTPw==\",\"dtype\":\"float64\",\"shape\":[50]}},\"selected\":{\"id\":\"3990\",\"type\":\"Selection\"},\"selection_policy\":{\"id\":\"3991\",\"type\":\"UnionRenderers\"}},\"id\":\"3433\",\"type\":\"ColumnDataSource\"},{\"attributes\":{\"bottom\":{\"value\":0},\"fill_alpha\":{\"value\":0.05},\"fill_color\":{\"value\":\"#CB4777\"},\"left\":{\"field\":\"left\"},\"line_alpha\":{\"value\":0.05},\"line_color\":{\"value\":\"#7E03A7\"},\"right\":{\"field\":\"right\"},\"top\":{\"field\":\"top\"}},\"id\":\"3469\",\"type\":\"Quad\"},{\"attributes\":{\"bottom\":{\"value\":0},\"fill_alpha\":{\"value\":0.1},\"fill_color\":{\"value\":\"#1f77b4\"},\"left\":{\"field\":\"left\"},\"line_alpha\":{\"value\":0.1},\"line_color\":{\"value\":\"#1f77b4\"},\"right\":{\"field\":\"right\"},\"top\":{\"field\":\"top\"}},\"id\":\"3595\",\"type\":\"Quad\"},{\"attributes\":{\"data_source\":{\"id\":\"3323\",\"type\":\"ColumnDataSource\"},\"glyph\":{\"id\":\"3324\",\"type\":\"Quad\"},\"hover_glyph\":null,\"muted_glyph\":null,\"nonselection_glyph\":{\"id\":\"3325\",\"type\":\"Quad\"},\"selection_glyph\":null,\"view\":{\"id\":\"3327\",\"type\":\"CDSView\"}},\"id\":\"3326\",\"type\":\"GlyphRenderer\"},{\"attributes\":{\"bottom\":{\"value\":0},\"fill_alpha\":{\"value\":0.05},\"fill_color\":{\"value\":\"#CB4777\"},\"left\":{\"field\":\"left\"},\"line_alpha\":{\"value\":0.05},\"line_color\":{\"value\":\"#7E03A7\"},\"right\":{\"field\":\"right\"},\"top\":{\"field\":\"top\"}},\"id\":\"3434\",\"type\":\"Quad\"},{\"attributes\":{\"bottom\":{\"value\":0},\"fill_alpha\":{\"value\":0.1},\"fill_color\":{\"value\":\"#1f77b4\"},\"left\":{\"field\":\"left\"},\"line_alpha\":{\"value\":0.1},\"line_color\":{\"value\":\"#1f77b4\"},\"right\":{\"field\":\"right\"},\"top\":{\"field\":\"top\"}},\"id\":\"3470\",\"type\":\"Quad\"},{\"attributes\":{\"data_source\":{\"id\":\"3468\",\"type\":\"ColumnDataSource\"},\"glyph\":{\"id\":\"3469\",\"type\":\"Quad\"},\"hover_glyph\":null,\"muted_glyph\":null,\"nonselection_glyph\":{\"id\":\"3470\",\"type\":\"Quad\"},\"selection_glyph\":null,\"view\":{\"id\":\"3472\",\"type\":\"CDSView\"}},\"id\":\"3471\",\"type\":\"GlyphRenderer\"},{\"attributes\":{\"source\":{\"id\":\"3323\",\"type\":\"ColumnDataSource\"}},\"id\":\"3327\",\"type\":\"CDSView\"},{\"attributes\":{\"bottom\":{\"value\":0},\"fill_alpha\":{\"value\":0.1},\"fill_color\":{\"value\":\"#1f77b4\"},\"left\":{\"field\":\"left\"},\"line_alpha\":{\"value\":0.1},\"line_color\":{\"value\":\"#1f77b4\"},\"right\":{\"field\":\"right\"},\"top\":{\"field\":\"top\"}},\"id\":\"3435\",\"type\":\"Quad\"},{\"attributes\":{\"bottom\":{\"value\":0},\"fill_alpha\":{\"value\":0.05},\"fill_color\":{\"value\":\"#CB4777\"},\"left\":{\"field\":\"left\"},\"line_alpha\":{\"value\":0.05},\"line_color\":{\"value\":\"#7E03A7\"},\"right\":{\"field\":\"right\"},\"top\":{\"field\":\"top\"}},\"id\":\"3599\",\"type\":\"Quad\"},{\"attributes\":{\"data_source\":{\"id\":\"3433\",\"type\":\"ColumnDataSource\"},\"glyph\":{\"id\":\"3434\",\"type\":\"Quad\"},\"hover_glyph\":null,\"muted_glyph\":null,\"nonselection_glyph\":{\"id\":\"3435\",\"type\":\"Quad\"},\"selection_glyph\":null,\"view\":{\"id\":\"3437\",\"type\":\"CDSView\"}},\"id\":\"3436\",\"type\":\"GlyphRenderer\"},{\"attributes\":{\"callback\":null,\"data\":{\"left\":{\"__ndarray__\":\"ak5/EhN4LD+YEb1NLkSrP/HRM0TyNbs/jI3EsOZkxD8eMm8/1C7LP1jrDOdg/NA/oj1irldh1D/rj7d1TsbXPzTiDD1FK9s/fTRiBDyQ3j9jw9tlmfrgP4hshskUreI/rRUxLZBf5D/RvtuQCxLmP/ZnhvSGxOc/GhExWAJ36T8/utu7fSnrP2Rjhh/52+w/iAwxg3SO7j/W2m3zdyDwP2gvQ6W1+fA/+4MYV/PS8T+N2O0IMazyPx8tw7puhfM/soGYbKxe9D9E1m0e6jf1P9YqQ9AnEfY/aH8YgmXq9j/70+0zo8P3P40ow+XgnPg/H32Ylx52+T+y0W1JXE/6P0QmQ/uZKPs/1noYrdcB/D9pz+1eFdv8P/sjwxBTtP0/jXiYwpCN/j8gzW10zmb/P9mQIRMGIABAIjsM7KSMAEBr5fbEQ/kAQLSP4Z3iZQFA/jnMdoHSAUBH5LZPID8CQJCOoSi/qwJA2TiMAV4YA0Ai43ba/IQDQGuNYbOb8QNAtTdMjDpeBED+4TZl2coEQA==\",\"dtype\":\"float64\",\"shape\":[50]},\"right\":{\"__ndarray__\":\"mBG9TS5Eqz/x0TNE8jW7P4yNxLDmZMQ/HjJvP9Quyz9Y6wznYPzQP6I9Yq5XYdQ/64+3dU7G1z804gw9RSvbP300YgQ8kN4/Y8PbZZn64D+IbIbJFK3iP60VMS2QX+Q/0b7bkAsS5j/2Z4b0hsTnPxoRMVgCd+k/P7rbu30p6z9kY4Yf+dvsP4gMMYN0ju4/1tpt83cg8D9oL0OltfnwP/uDGFfz0vE/jdjtCDGs8j8fLcO6boXzP7KBmGysXvQ/RNZtHuo39T/WKkPQJxH2P2h/GIJl6vY/+9PtM6PD9z+NKMPl4Jz4Px99mJcedvk/stFtSVxP+j9EJkP7mSj7P9Z6GK3XAfw/ac/tXhXb/D/7I8MQU7T9P414mMKQjf4/IM1tdM5m/z/ZkCETBiAAQCI7DOykjABAa+X2xEP5AEC0j+Gd4mUBQP45zHaB0gFAR+S2TyA/AkCQjqEov6sCQNk4jAFeGANAIuN22vyEA0BrjWGzm/EDQLU3TIw6XgRA/uE2ZdnKBEBHjCE+eDcFQA==\",\"dtype\":\"float64\",\"shape\":[50]},\"top\":{\"__ndarray__\":\"NnNqaNn7AUCsvH0HyMIBQIuM4dh8EQFA3PGDXbiaAECAC7aIomgBQJA+lEtlKwBA7ADLKyC4AEDXIUGFTwQBQL+Ki+aQ2wBAHZkgg+6R/z9lXez5537/P0R6U0uilvs/T88L7L90+z9+bzM2Xeb6Px86eD/U+Pk/zgdQKQB1+T8AvU+oCaL5P+6jeDSQevU/f/WT5Umi9z/+Nu/4HObsP5d9SzXrr/M/bsVQYIup8D8/zHgLCwvrP/3VT5Ynie4/AUOwV/Zd5j/91U+WJ4nuP/95n1ATROM//qd3c53m6D/+p3dzneboP/427/gc5uw/P8x4CwsL6z//eZ9QE0TTP/95n1ATRNM//3mfUBNE0z8AAAAAAAAAAP95n1ATROM//dVPlieJ3j//eZ9QE0TjPwAAAAAAAAAA/3mfUBNE0z8AAAAAAAAAAP95n1ATRNM/AAAAAAAAAAAAAAAAAAAAAAAAAAAAAAAA/3mfUBNE0z//eZ9QE0TTP/3VT5Ynid4/AAAAAAAAAAAAAAAAAAAAAA==\",\"dtype\":\"float64\",\"shape\":[50]}},\"selected\":{\"id\":\"3948\",\"type\":\"Selection\"},\"selection_policy\":{\"id\":\"3949\",\"type\":\"UnionRenderers\"}},\"id\":\"3328\",\"type\":\"ColumnDataSource\"},{\"attributes\":{\"source\":{\"id\":\"3468\",\"type\":\"ColumnDataSource\"}},\"id\":\"3472\",\"type\":\"CDSView\"},{\"attributes\":{\"bottom\":{\"value\":0},\"fill_alpha\":{\"value\":0.1},\"fill_color\":{\"value\":\"#1f77b4\"},\"left\":{\"field\":\"left\"},\"line_alpha\":{\"value\":0.1},\"line_color\":{\"value\":\"#1f77b4\"},\"right\":{\"field\":\"right\"},\"top\":{\"field\":\"top\"}},\"id\":\"3600\",\"type\":\"Quad\"},{\"attributes\":{\"bottom\":{\"value\":0},\"fill_alpha\":{\"value\":0.05},\"fill_color\":{\"value\":\"#CB4777\"},\"left\":{\"field\":\"left\"},\"line_alpha\":{\"value\":0.05},\"line_color\":{\"value\":\"#7E03A7\"},\"right\":{\"field\":\"right\"},\"top\":{\"field\":\"top\"}},\"id\":\"3329\",\"type\":\"Quad\"},{\"attributes\":{\"source\":{\"id\":\"3433\",\"type\":\"ColumnDataSource\"}},\"id\":\"3437\",\"type\":\"CDSView\"},{\"attributes\":{\"callback\":null,\"data\":{\"left\":{\"__ndarray__\":\"nHCfs5U2SD9Ro1w0ZZuvP3Bk9Qj4ar8/nDveux6Exz8AxUFzwVLPPzGnUhWykNM/42sEcQN41z+VMLbMVF/bP0f1ZyimRt8//NwMwvuW4T9Vv+VvpIrjP66hvh1NfuU/B4SXy/Vx5z9gZnB5nmXpP7lISSdHWes/Eisi1e9M7T9rDfuCmEDvP+L3aZggmvA/DmlW7/ST8T872kJGyY3yP2dLL52dh/M/lLwb9HGB9D/ALQhLRnv1P+2e9KEadfY/GRDh+O5u9z9Ggc1Pw2j4P3LyuaaXYvk/n2Om/Wtc+j/L1JJUQFb7P/hFf6sUUPw/JLdrAulJ/T9RKFhZvUP+P32ZRLCRPf8/VYWYA7MbAEDrvQ4vnZgAQIH2hFqHFQFAFy/7hXGSAUCuZ3GxWw8CQESg59xFjAJA2thdCDAJA0BwEdQzGoYDQAdKSl8EAwRAnYLAiu5/BEAzuza22PwEQMnzrOHCeQVAYCwjDa32BUD2ZJk4l3MGQIydD2SB8AZAItaFj2ttB0C4Dvy6VeoHQA==\",\"dtype\":\"float64\",\"shape\":[50]},\"right\":{\"__ndarray__\":\"UaNcNGWbrz9wZPUI+Gq/P5w73rsehMc/AMVBc8FSzz8xp1IVspDTP+NrBHEDeNc/lTC2zFRf2z9H9WcopkbfP/zcDML7luE/Vb/lb6SK4z+uob4dTX7lPweEl8v1cec/YGZweZ5l6T+5SEknR1nrPxIrItXvTO0/aw37gphA7z/i92mYIJrwPw5pVu/0k/E/O9pCRsmN8j9nSy+dnYfzP5S8G/RxgfQ/wC0IS0Z79T/tnvShGnX2PxkQ4fjubvc/RoHNT8No+D9y8rmml2L5P59jpv1rXPo/y9SSVEBW+z/4RX+rFFD8PyS3awLpSf0/UShYWb1D/j99mUSwkT3/P1WFmAOzGwBA670OL52YAECB9oRahxUBQBcv+4VxkgFArmdxsVsPAkBEoOfcRYwCQNrYXQgwCQNAcBHUMxqGA0AHSkpfBAMEQJ2CwIrufwRAM7s2ttj8BEDJ86zhwnkFQGAsIw2t9gVA9mSZOJdzBkCMnQ9kgfAGQCLWhY9rbQdAuA78ulXqB0BPR3LmP2cIQA==\",\"dtype\":\"float64\",\"shape\":[50]},\"top\":{\"__ndarray__\":\"2ZrTOou0/j9pWf9WRQj/P2ZGgOiirfw/T88L7L90+z/u8EDraFX8P5c6m930Uf0/9jC80a8i+j9/WMckGBX4P/95n1ATRPM/TxK8Q7bS8T+fRORZilbyP59bUGvPJ/U//3mfUBNE8z/91U+WJ4nuP/3VT5Ynie4/f7LjjVNE8T/+Nu/4HObsP/3VT5Ynie4//3mfUBNE4z/+p3dzneboP27FUGCLqfA//3mfUBNE4z8BQ7BX9l3mP/95n1ATRNM/AUOwV/Zd5j8BQ7BX9l3mPwAAAAAAAPD/AAAAAAAA8P8AAAAAAAAAAP3VT5Ynid4/AAAAAAAA8P//eZ9QE0TTP/95n1ATRNM/AAAAAAAA8P8AAAAAAAAAAAAAAAAAAPD/AAAAAAAA8P8AAAAAAAAAAAAAAAAAAPD/AAAAAAAA8P8AAAAAAADw/wAAAAAAAPD/AAAAAAAA8P8AAAAAAADw/wAAAAAAAAAAAAAAAAAA8P8AAAAAAADw/wAAAAAAAPD/AAAAAAAA8P8AAAAAAAAAAA==\",\"dtype\":\"float64\",\"shape\":[50]}},\"selected\":{\"id\":\"4006\",\"type\":\"Selection\"},\"selection_policy\":{\"id\":\"4007\",\"type\":\"UnionRenderers\"}},\"id\":\"3473\",\"type\":\"ColumnDataSource\"},{\"attributes\":{\"callback\":null,\"data\":{\"left\":{\"__ndarray__\":\"Sd85uJXFFj86figPG1mqP8JvuqlpU7o/NFDw5SK9wz+GaAP3kFDKP2xAC4T/cdA/lsyUjLa70z+/WB6VbQXXP+jkp50kT9o/EXExptuY3T+dfl1XSXHgP7JEotskFuI/xwrnXwC74z/b0Cvk21/lP/CWcGi3BOc/BF217JKp6D8ZI/pwbk7qPy7pPvVJ8+s/Qq+DeSWY7T9Xdcj9AD3vP7WdBkHucPA/wAApA1xD8T/KY0vFyRXyP9TGbYc36PI/3ymQSaW68z/pjLILE430P/Pv1M2AX/U//VL3j+4x9j8IthlSXAT3PxIZPBTK1vc/HHxe1jep+D8n34CYpXv5PzFCo1oTTvo/O6XFHIEg+z9GCOje7vL7P1BrCqFcxfw/Ws4sY8qX/T9lMU8lOGr+P2+UceelPP8/vfvJ1IkHAEBCLdu1wHAAQMde7Jb32QBATZD9dy5DAUDSwQ5ZZawBQFfzHzqcFQJA3CQxG9N+AkBhVkL8CegCQOaHU91AUQNAbLlkvne6A0Dx6nWfriMEQA==\",\"dtype\":\"float64\",\"shape\":[50]},\"right\":{\"__ndarray__\":\"On4oDxtZqj/Cb7qpaVO6PzRQ8OUivcM/hmgD95BQyj9sQAuE/3HQP5bMlIy2u9M/v1gelW0F1z/o5KedJE/aPxFxMabbmN0/nX5dV0lx4D+yRKLbJBbiP8cK518Au+M/29Ar5Ntf5T/wlnBotwTnPwRdteySqeg/GSP6cG5O6j8u6T71SfPrP0Kvg3klmO0/V3XI/QA97z+1nQZB7nDwP8AAKQNcQ/E/ymNLxckV8j/Uxm2HN+jyP98pkEmluvM/6YyyCxON9D/z79TNgF/1P/1S94/uMfY/CLYZUlwE9z8SGTwUytb3Pxx8XtY3qfg/J9+AmKV7+T8xQqNaE076PzulxRyBIPs/Rgjo3u7y+z9QawqhXMX8P1rOLGPKl/0/ZTFPJThq/j9vlHHnpTz/P737ydSJBwBAQi3btcBwAEDHXuyW99kAQE2Q/XcuQwFA0sEOWWWsAUBX8x86nBUCQNwkMRvTfgJAYVZC/AnoAkDmh1PdQFEDQGy5ZL53ugNA8ep1n64jBEB2HIeA5YwEQA==\",\"dtype\":\"float64\",\"shape\":[50]},\"top\":{\"__ndarray__\":\"EMH7VcZ1BECj20cXJbwDQD+WQW8zRAJAQBpRtVTFAkDpH9kbEVsCQHcr0E6gFAJAYgZWz9cFAkC3iPn0fxkCQNuP+KTZCABA7mDI3Jkc/z+eGKAT2cn+P1MgAxPBnv0/p/5xB6WLAEDPM5RvsQH9P7+qoN8P3P8/N27eOGi9AUDY6ilG+57+P//Tu7lOc/w/WAwCcvbN+T+gh5SxgLT4P37gu7Dd5vY/gGDmsFoX+T8QwftVxnX0P3+y441TRPE/F1xzCfCA+D/uo3g0kHr1P4DeJ9QE0fQ//dVPlieJ7j/+Nu/4HObsPwFDsFf2XeY/P8x4CwsL6z8BQ7BX9l3mP/95n1ATRNM//3mfUBNE0z8AAAAAAAAAAAAAAAAAAPD//qd3c53m6D/+p3dzneboP/3VT5Ynie4//3mfUBNE0z8BQ7BX9l3mP27FUGCLqfA//3mfUBNE8z+A3ifUBNH0P/95n1ATROM/AAAAAAAAAAAAAAAAAAAAAP3VT5Ynid4/AAAAAAAA8P/91U+WJ4nePw==\",\"dtype\":\"float64\",\"shape\":[50]}},\"selected\":{\"id\":\"4056\",\"type\":\"Selection\"},\"selection_policy\":{\"id\":\"4057\",\"type\":\"UnionRenderers\"}},\"id\":\"3598\",\"type\":\"ColumnDataSource\"},{\"attributes\":{\"source\":{\"id\":\"3598\",\"type\":\"ColumnDataSource\"}},\"id\":\"3602\",\"type\":\"CDSView\"},{\"attributes\":{\"bottom\":{\"value\":0},\"fill_alpha\":{\"value\":0.1},\"fill_color\":{\"value\":\"#1f77b4\"},\"left\":{\"field\":\"left\"},\"line_alpha\":{\"value\":0.1},\"line_color\":{\"value\":\"#1f77b4\"},\"right\":{\"field\":\"right\"},\"top\":{\"field\":\"top\"}},\"id\":\"3330\",\"type\":\"Quad\"},{\"attributes\":{\"callback\":null,\"data\":{\"left\":{\"__ndarray__\":\"tAHgz4fzUz9Jlu9MHditP0IWsC1PiL0/rzB02kcSxj8+VhAeaGDNP+c91jBEV9I/rlCkUlT+1T92Y3J0ZKXZPz12QJZ0TN0/gkQHXMJ54D/mTe5sSk3iP0pX1X3SIOQ/rWC8jlr05T8RaqOf4sfnP3VzirBqm+k/2HxxwfJu6z88hljSekLtP6CPP+MCFu8/gUwTesV08D8z0YaCiV7xP+VV+opNSPI/l9ptkxEy8z9JX+Gb1Rv0P/rjVKSZBfU/rGjIrF3v9T9e7Tu1Idn2PxByr73lwvc/wvYixqms+D90e5bObZb5PyUACtcxgPo/14R93/Vp+z+JCfHnuVP8PzuOZPB9Pf0/7RLY+EEn/j+fl0sBBhH/P1EcvwnK+v8/gVAZCUdyAEDaElMNKecAQDPVjBELXAFAjJfGFe3QAUDlWQAaz0UCQD4cOh6xugJAl95zIpMvA0DwoK0mdaQDQElj5ypXGQRAoSUhLzmOBED651ozGwMFQFOqlDf9dwVArGzOO9/sBUAFLwhAwWEGQA==\",\"dtype\":\"float64\",\"shape\":[50]},\"right\":{\"__ndarray__\":\"SZbvTB3YrT9CFrAtT4i9P68wdNpHEsY/PlYQHmhgzT/nPdYwRFfSP65QpFJU/tU/dmNydGSl2T89dkCWdEzdP4JEB1zCeeA/5k3ubEpN4j9KV9V90iDkP61gvI5a9OU/EWqjn+LH5z91c4qwapvpP9h8ccHybus/PIZY0npC7T+gjz/jAhbvP4FME3rFdPA/M9GGgole8T/lVfqKTUjyP5fabZMRMvM/SV/hm9Ub9D/641SkmQX1P6xoyKxd7/U/Xu07tSHZ9j8Qcq+95cL3P8L2IsaprPg/dHuWzm2W+T8lAArXMYD6P9eEfd/1afs/iQnx57lT/D87jmTwfT39P+0S2PhBJ/4/n5dLAQYR/z9RHL8Jyvr/P4FQGQlHcgBA2hJTDSnnAEAz1YwRC1wBQIyXxhXt0AFA5VkAGs9FAkA+HDoesboCQJfecyKTLwNA8KCtJnWkA0BJY+cqVxkEQKElIS85jgRA+udaMxsDBUBTqpQ3/XcFQKxszjvf7AVABS8IQMFhBkBe8UFEo9YGQA==\",\"dtype\":\"float64\",\"shape\":[50]},\"top\":{\"__ndarray__\":\"lzqb3fRR/T8YnyNh5t7+P2lZ/1ZFCP8/32CGeKpWAUCuPSJnShoAQER6U0uilvs//9fD9Kea+j+XOpvd9FH9P1gMAnL2zfk/2OopRvue/j+AYOawWhf5PxifI2Hm3v4//pALYlgV9j+XfUs166/zP08SvEO20vE//qd3c53m+D9+bzM2Xeb6P3+y441TRPE//jbv+Bzm7D8AAAAAAADwP/6nd3Od5ug//dVPlieJ3j/+Nu/4HObsP/95n1ATRNM//jbv+Bzm7D//eZ9QE0TjP/95n1ATROM/AAAAAAAAAAAAAAAAAADw//95n1ATRNM/AAAAAAAA8P8AAAAAAADw/wAAAAAAAAAAAAAAAAAA8P8AAAAAAAAAAAAAAAAAAAAAAAAAAAAA8P//eZ9QE0TTPwAAAAAAAPD/AAAAAAAA8P8AAAAAAAAAAAAAAAAAAPD/AAAAAAAA8P8AAAAAAADw/wAAAAAAAAAAAAAAAAAA8P8AAAAAAADw//95n1ATRNM/AAAAAAAA8P8AAAAAAAAAAA==\",\"dtype\":\"float64\",\"shape\":[50]}},\"selected\":{\"id\":\"3992\",\"type\":\"Selection\"},\"selection_policy\":{\"id\":\"3993\",\"type\":\"UnionRenderers\"}},\"id\":\"3438\",\"type\":\"ColumnDataSource\"},{\"attributes\":{\"bottom\":{\"value\":0},\"fill_alpha\":{\"value\":0.05},\"fill_color\":{\"value\":\"#CB4777\"},\"left\":{\"field\":\"left\"},\"line_alpha\":{\"value\":0.05},\"line_color\":{\"value\":\"#7E03A7\"},\"right\":{\"field\":\"right\"},\"top\":{\"field\":\"top\"}},\"id\":\"3474\",\"type\":\"Quad\"},{\"attributes\":{\"source\":{\"id\":\"3593\",\"type\":\"ColumnDataSource\"}},\"id\":\"3597\",\"type\":\"CDSView\"},{\"attributes\":{\"data_source\":{\"id\":\"3328\",\"type\":\"ColumnDataSource\"},\"glyph\":{\"id\":\"3329\",\"type\":\"Quad\"},\"hover_glyph\":null,\"muted_glyph\":null,\"nonselection_glyph\":{\"id\":\"3330\",\"type\":\"Quad\"},\"selection_glyph\":null,\"view\":{\"id\":\"3332\",\"type\":\"CDSView\"}},\"id\":\"3331\",\"type\":\"GlyphRenderer\"},{\"attributes\":{\"bottom\":{\"value\":0},\"fill_alpha\":{\"value\":0.05},\"fill_color\":{\"value\":\"#CB4777\"},\"left\":{\"field\":\"left\"},\"line_alpha\":{\"value\":0.05},\"line_color\":{\"value\":\"#7E03A7\"},\"right\":{\"field\":\"right\"},\"top\":{\"field\":\"top\"}},\"id\":\"3439\",\"type\":\"Quad\"},{\"attributes\":{\"bottom\":{\"value\":0},\"fill_alpha\":{\"value\":0.1},\"fill_color\":{\"value\":\"#1f77b4\"},\"left\":{\"field\":\"left\"},\"line_alpha\":{\"value\":0.1},\"line_color\":{\"value\":\"#1f77b4\"},\"right\":{\"field\":\"right\"},\"top\":{\"field\":\"top\"}},\"id\":\"3475\",\"type\":\"Quad\"},{\"attributes\":{\"data_source\":{\"id\":\"3473\",\"type\":\"ColumnDataSource\"},\"glyph\":{\"id\":\"3474\",\"type\":\"Quad\"},\"hover_glyph\":null,\"muted_glyph\":null,\"nonselection_glyph\":{\"id\":\"3475\",\"type\":\"Quad\"},\"selection_glyph\":null,\"view\":{\"id\":\"3477\",\"type\":\"CDSView\"}},\"id\":\"3476\",\"type\":\"GlyphRenderer\"},{\"attributes\":{\"data_source\":{\"id\":\"3598\",\"type\":\"ColumnDataSource\"},\"glyph\":{\"id\":\"3599\",\"type\":\"Quad\"},\"hover_glyph\":null,\"muted_glyph\":null,\"nonselection_glyph\":{\"id\":\"3600\",\"type\":\"Quad\"},\"selection_glyph\":null,\"view\":{\"id\":\"3602\",\"type\":\"CDSView\"}},\"id\":\"3601\",\"type\":\"GlyphRenderer\"},{\"attributes\":{\"source\":{\"id\":\"3328\",\"type\":\"ColumnDataSource\"}},\"id\":\"3332\",\"type\":\"CDSView\"},{\"attributes\":{\"bottom\":{\"value\":0},\"fill_alpha\":{\"value\":0.1},\"fill_color\":{\"value\":\"#1f77b4\"},\"left\":{\"field\":\"left\"},\"line_alpha\":{\"value\":0.1},\"line_color\":{\"value\":\"#1f77b4\"},\"right\":{\"field\":\"right\"},\"top\":{\"field\":\"top\"}},\"id\":\"3440\",\"type\":\"Quad\"},{\"attributes\":{\"data_source\":{\"id\":\"3438\",\"type\":\"ColumnDataSource\"},\"glyph\":{\"id\":\"3439\",\"type\":\"Quad\"},\"hover_glyph\":null,\"muted_glyph\":null,\"nonselection_glyph\":{\"id\":\"3440\",\"type\":\"Quad\"},\"selection_glyph\":null,\"view\":{\"id\":\"3442\",\"type\":\"CDSView\"}},\"id\":\"3441\",\"type\":\"GlyphRenderer\"},{\"attributes\":{\"callback\":null,\"data\":{\"left\":{\"__ndarray__\":\"20vdbZSgOT/0lErWZc+jP6i33EHFtbM/1iSUmNeDvT8CyaX39KjDP5l/ASP+j8g/MDZdTgd3zT9jdtw8CC/RP69RitKMotM/+yw4aBEW1j9GCOb9lYnYP5Hjk5Ma/do/3b5BKZ9w3T8pmu++I+TfP7m6TirUK+E/X6gldZZl4j8Flvy/WJ/jP6uD0wob2eQ/UXGqVd0S5j/2XoGgn0znP5xMWOthhug/QjovNiTA6T/nJwaB5vnqP40V3cuoM+w/MwO0Fmtt7T/Z8IphLafuP3/eYazv4O8/E2ac+1iN8D/l3AchOirxP7hTc0Ybx/E/i8rea/xj8j9eQUqR3QDzPzG4tba+nfM/BC8h3J869D/XpYwBgdf0P6oc+CZidPU/fZNjTEMR9j9PCs9xJK72PyKBOpcFS/c/9felvObn9z/IbhHix4T4P5vlfAepIfk/blzoLIq++T9B01NSa1v6PxNKv3dM+Po/5sAqnS2V+z+5N5bCDjL8P4yuAejvzvw/XyVtDdFr/T8ynNgysgj+Pw==\",\"dtype\":\"float64\",\"shape\":[50]},\"right\":{\"__ndarray__\":\"9JRK1mXPoz+ot9xBxbWzP9YklJjXg70/Asml9/Sowz+ZfwEj/o/IPzA2XU4Hd80/Y3bcPAgv0T+vUYrSjKLTP/ssOGgRFtY/Rgjm/ZWJ2D+R45OTGv3aP92+QSmfcN0/KZrvviPk3z+5uk4q1CvhP1+oJXWWZeI/BZb8v1if4z+rg9MKG9nkP1FxqlXdEuY/9l6BoJ9M5z+cTFjrYYboP0I6LzYkwOk/5ycGgeb56j+NFd3LqDPsPzMDtBZrbe0/2fCKYS2n7j9/3mGs7+DvPxNmnPtYjfA/5dwHIToq8T+4U3NGG8fxP4vK3mv8Y/I/XkFKkd0A8z8xuLW2vp3zPwQvIdyfOvQ/16WMAYHX9D+qHPgmYnT1P32TY0xDEfY/TwrPcSSu9j8igTqXBUv3P/X3pbzm5/c/yG4R4seE+D+b5XwHqSH5P25c6CyKvvk/QdNTUmtb+j8TSr93TPj6P+bAKp0tlfs/uTeWwg4y/D+MrgHo7878P18lbQ3Ra/0/MpzYMrII/j8EE0RYk6X+Pw==\",\"dtype\":\"float64\",\"shape\":[50]},\"top\":{\"__ndarray__\":\"Yqy9j9MzAEDv5iiMhtj7P/AbXwS2kPw//qd3c53m+D/uo3g0kHr1P+ZnWBSe3Pc/gGDmsFoX+T+AYOawWhf5P1gMAnL2zfk/9jC80a8i+j//18P0p5r6Px8jDC6PJ/c/f/mbIKPJ9T8AF2wRRdHyP27FUGCLqfA/TxK8Q7bS8T/91U+WJ4nuP5d9SzXrr/M//jbv+Bzm7D9/suONU0TxPwAAAAAAAPA//dVPlieJ7j8/zHgLCwvrP59bUGvPJ/U/f/mbIKPJ9T/91U+WJ4neP/95n1ATROM/bsVQYIup8D/+p3dzneboP/6nd3Od5ug/P8x4CwsL6z//eZ9QE0TjP/95n1ATROM//3mfUBNE0z8AAAAAAAAAAP3VT5Ynid4//dVPlieJ3j8AAAAAAAAAAAAAAAAAAAAAAAAAAAAA8P//eZ9QE0TTP/95n1ATRNM/AAAAAAAA8P8AAAAAAADw/wAAAAAAAPD/AAAAAAAAAAAAAAAAAAAAAP95n1ATRNM//3mfUBNE0z8AAAAAAAAAAA==\",\"dtype\":\"float64\",\"shape\":[50]}},\"selected\":{\"id\":\"3950\",\"type\":\"Selection\"},\"selection_policy\":{\"id\":\"3951\",\"type\":\"UnionRenderers\"}},\"id\":\"3333\",\"type\":\"ColumnDataSource\"},{\"attributes\":{\"source\":{\"id\":\"3473\",\"type\":\"ColumnDataSource\"}},\"id\":\"3477\",\"type\":\"CDSView\"},{\"attributes\":{\"bottom\":{\"value\":0},\"fill_alpha\":{\"value\":0.05},\"fill_color\":{\"value\":\"#CB4777\"},\"left\":{\"field\":\"left\"},\"line_alpha\":{\"value\":0.05},\"line_color\":{\"value\":\"#7E03A7\"},\"right\":{\"field\":\"right\"},\"top\":{\"field\":\"top\"}},\"id\":\"3334\",\"type\":\"Quad\"},{\"attributes\":{\"source\":{\"id\":\"3438\",\"type\":\"ColumnDataSource\"}},\"id\":\"3442\",\"type\":\"CDSView\"},{\"attributes\":{\"callback\":null,\"data\":{\"left\":{\"__ndarray__\":\"TVmJSTuGUj/3UkRr/h+mP5ItHn7l1bU/1RhN4+VNwD/gGosH2bDFP+scySvME8s/e48DqF870D+AkCI62ezSP4aRQcxSntU/jJJgXsxP2D+Rk3/wRQHbP5eUnoK/st0/z8peihwy4D9SS25T2YrhP9TLfRyW4+I/V0yN5VI85D/azJyuD5XlP11NrHfM7eY/4M27QIlG6D9iTssJRp/pP+XO2tIC+Oo/aE/qm79Q7D/rz/lkfKntP25QCS45Au8/eGiM+3ot8D+5KBRg2dnwP/vom8Q3hvE/PKkjKZYy8j99aauN9N7yP78pM/JSi/M/AOq6VrE39D9CqkK7D+T0P4Nqyh9ukPU/xCpShMw89j8G69noKun2P0erYU2Jlfc/iWvpsedB+D/KK3EWRu74Pwvs+Hqkmvk/TayA3wJH+j+ObAhEYfP6P9AskKi/n/s/Ee0XDR5M/D9SrZ9xfPj8P5RtJ9bapP0/1S2vOjlR/j8X7jafl/3+P1iuvgP2qf8/TTcjNCorAEBtF2dmWYEAQA==\",\"dtype\":\"float64\",\"shape\":[50]},\"right\":{\"__ndarray__\":\"91JEa/4fpj+SLR5+5dW1P9UYTePlTcA/4BqLB9mwxT/rHMkrzBPLP3uPA6hfO9A/gJAiOtns0j+GkUHMUp7VP4ySYF7MT9g/kZN/8EUB2z+XlJ6Cv7LdP8/KXoocMuA/UktuU9mK4T/Uy30cluPiP1dMjeVSPOQ/2sycrg+V5T9dTax3zO3mP+DNu0CJRug/Yk7LCUaf6T/lztrSAvjqP2hP6pu/UOw/68/5ZHyp7T9uUAkuOQLvP3hojPt6LfA/uSgUYNnZ8D/76JvEN4bxPzypIymWMvI/fWmrjfTe8j+/KTPyUovzPwDqulaxN/Q/QqpCuw/k9D+DasofbpD1P8QqUoTMPPY/BuvZ6Crp9j9Hq2FNiZX3P4lr6bHnQfg/yitxFkbu+D8L7Ph6pJr5P02sgN8CR/o/jmwIRGHz+j/QLJCov5/7PxHtFw0eTPw/Uq2fcXz4/D+UbSfW2qT9P9Utrzo5Uf4/F+42n5f9/j9Yrr4D9qn/P003IzQqKwBAbRdnZlmBAECO96qYiNcAQA==\",\"dtype\":\"float64\",\"shape\":[50]},\"top\":{\"__ndarray__\":\"/Ibhjy08AEDXIUGFTwQBQGl/lfPiNwFAS7Q5gD96AUC3Z7TfNpMAQKf+cQeliwBAv6qg3w/c/z+fATQClPj7P4A4RD1AAP4/zzOUb7EB/T8eUeRQGcr8P26ZDBraHP0/WAwCcvbN+T/uo3g0kHr1P3/1k+VJovc/l31LNeuv8z9/suONU0TxP/95n1ATRPM//pALYlgV9j8AF2wRRdHyPwFDsFf2XfY/fslPn5gV9D/uo3g0kHr1P37JT5+YFfQ/n1tQa88n9T8QwftVxnX0P5d9SzXrr/M/ABdsEUXR8j9uxVBgi6nwP/3VT5Ynid4//qd3c53m6D//eZ9QE0TTP/95n1ATRNM//3mfUBNE4z//eZ9QE0TTP/95n1ATRNM/AAAAAAAA8P8AAAAAAADw/wAAAAAAAAAA/dVPlieJ3j8AAAAAAADw//95n1ATROM/AAAAAAAA8P8AAAAAAAAAAAAAAAAAAPD/AAAAAAAAAAABQ7BX9l3mPwAAAAAAAAAAAAAAAAAA8P8AAAAAAAAAAA==\",\"dtype\":\"float64\",\"shape\":[50]}},\"selected\":{\"id\":\"4008\",\"type\":\"Selection\"},\"selection_policy\":{\"id\":\"4009\",\"type\":\"UnionRenderers\"}},\"id\":\"3478\",\"type\":\"ColumnDataSource\"},{\"attributes\":{\"bottom\":{\"value\":0},\"fill_alpha\":{\"value\":0.1},\"fill_color\":{\"value\":\"#1f77b4\"},\"left\":{\"field\":\"left\"},\"line_alpha\":{\"value\":0.1},\"line_color\":{\"value\":\"#1f77b4\"},\"right\":{\"field\":\"right\"},\"top\":{\"field\":\"top\"}},\"id\":\"3335\",\"type\":\"Quad\"},{\"attributes\":{\"callback\":null,\"data\":{\"left\":{\"__ndarray__\":\"7g5NRGgUIT9hXK4STFaoP9k1jN7BTbg/wp7g2S44wj+WInvEfEnIP2qmFa/KWs4/IBXYTAw20j8KVyVCsz7VP/SYcjdaR9g/3tq/LAFQ2z/IHA0iqFjeP1kvrYunsOA/T9BTBvs04j9EcfqATrnjPzkSofuhPeU/LrNHdvXB5j8jVO7wSEboPxj1lGucyuk/DZY75u9O6z8CN+JgQ9PsP/fXiNuWV+4/7XgvVurb7z/wDGvoHrDwP2tdvqVIcvE/5q0RY3I08j9g/mQgnPbyP9tOuN3FuPM/VZ8Lm+969D/Q715YGT31P0pAshVD//U/xZAF02zB9j8/4ViQloP3P7oxrE3ARfg/NYL/CuoH+T+v0lLIE8r5PyojpoU9jPo/pHP5QmdO+z8fxEwAkRD8P5kUoL260vw/FGXzeuSU/T+OtUY4Dlf+PwkGmvU3Gf8/hFbtsmHb/z9/UyC4xU4AQLz7yZbarwBA+qNzde8QAUA3TB1UBHIBQHT0xjIZ0wFAspxwES40AkDvRBrwQpUCQA==\",\"dtype\":\"float64\",\"shape\":[50]},\"right\":{\"__ndarray__\":\"YVyuEkxWqD/ZNYzewU24P8Ke4NkuOMI/liJ7xHxJyD9qphWvylrOPyAV2EwMNtI/ClclQrM+1T/0mHI3WkfYP97avywBUNs/yBwNIqhY3j9ZL62Lp7DgP0/QUwb7NOI/RHH6gE654z85EqH7oT3lPy6zR3b1weY/I1Tu8EhG6D8Y9ZRrnMrpPw2WO+bvTus/AjfiYEPT7D/314jbllfuP+14L1bq2+8/8Axr6B6w8D9rXb6lSHLxP+atEWNyNPI/YP5kIJz28j/bTrjdxbjzP1WfC5vvevQ/0O9eWBk99T9KQLIVQ//1P8WQBdNswfY/P+FYkJaD9z+6MaxNwEX4PzWC/wrqB/k/r9JSyBPK+T8qI6aFPYz6P6Rz+UJnTvs/H8RMAJEQ/D+ZFKC9utL8PxRl83rklP0/jrVGOA5X/j8JBpr1Nxn/P4RW7bJh2/8/f1MguMVOAEC8+8mW2q8AQPqjc3XvEAFAN0wdVARyAUB09MYyGdMBQLKccBEuNAJA70Qa8EKVAkAs7cPOV/YCQA==\",\"dtype\":\"float64\",\"shape\":[50]},\"top\":{\"__ndarray__\":\"boKgCJVL+j9ugqAIlUv6P5C2jzsQGPw/fm8zNl3m+j+gh5SxgLT4P/6nd3Od5vg//pALYlgV9j9/+Zsgo8n1P59bUGvPJ/U/f/WT5Umi9z9/+Zsgo8n1P3/5myCjyfU/f/mbIKPJ9T8AAAAAAADwP59bUGvPJ/U/fuC7sN3m9j//eZ9QE0TTP/6nd3Od5ug//3mfUBNE4z8/zHgLCwvrP/6nd3Od5ug//qd3c53m6D9+yU+fmBX0P08SvEO20vE/f7LjjVNE8T/+Nu/4HObsP/427/gc5uw/AUOwV/Zd5j/91U+WJ4neP/3VT5Ynie4//dVPlieJ3j8AAAAAAADwP/95n1ATRNM//3mfUBNE0z//eZ9QE0TTP/95n1ATRNM/AAAAAAAAAAD/eZ9QE0TTPwAAAAAAAPD/AAAAAAAA8P//eZ9QE0TTP/95n1ATRNM/AAAAAAAAAAAAAAAAAADw/wAAAAAAAPD/AAAAAAAA8P//eZ9QE0TjPwAAAAAAAPD/AAAAAAAAAAAAAAAAAAAAAA==\",\"dtype\":\"float64\",\"shape\":[50]}},\"selected\":{\"id\":\"3994\",\"type\":\"Selection\"},\"selection_policy\":{\"id\":\"3995\",\"type\":\"UnionRenderers\"}},\"id\":\"3443\",\"type\":\"ColumnDataSource\"},{\"attributes\":{\"bottom\":{\"value\":0},\"fill_alpha\":{\"value\":0.05},\"fill_color\":{\"value\":\"#CB4777\"},\"left\":{\"field\":\"left\"},\"line_alpha\":{\"value\":0.05},\"line_color\":{\"value\":\"#7E03A7\"},\"right\":{\"field\":\"right\"},\"top\":{\"field\":\"top\"}},\"id\":\"3479\",\"type\":\"Quad\"},{\"attributes\":{\"callback\":null,\"data\":{\"left\":{\"__ndarray__\":\"M6cAqJi6bj+n5R5ExqqnP27g3n7xtLY/BCfX7T/KwD/R3T4cBzrGP56UpkrOqcs/tSWHvMqM0D8cAbtTrkTTP4Lc7uqR/NU/6LcignW02D9Pk1YZWWzbP7ZuirA8JN4/DiXfIxBu4D/BEnnvAcrhP3UAE7vzJeM/KO6shuWB5D/b20ZS193lP47J4B3JOec/Qbd66bqV6D/1pBS1rPHpP6iSroCeTes/W4BITJCp7D8PbuIXggXuP8JbfONzYe8/uySL17Je8D+VG1i9qwzxP24SJaOkuvE/SAnyiJ1o8j8iAL9ulhbzP/v2i1SPxPM/1e1YOohy9D+u5CUggSD1P4jb8gV6zvU/YtK/63J89j87yYzRayr3PxXAWbdk2Pc/7rYmnV2G+D/IrfOCVjT5P6KkwGhP4vk/e5uNTkiQ+j9Vklo0QT77Py+JJxo67Ps/CID0/zKa/D/idsHlK0j9P7xtjssk9v0/lWRbsR2k/j9vWyiXFlL/PySper4HAABAkSRhMQRXAED+n0ekAK4AQA==\",\"dtype\":\"float64\",\"shape\":[50]},\"right\":{\"__ndarray__\":\"p+UeRMaqpz9u4N5+8bS2PwQn1+0/ysA/0d0+HAc6xj+elKZKzqnLP7Ulh7zKjNA/HAG7U65E0z+C3O7qkfzVP+i3IoJ1tNg/T5NWGVls2z+2boqwPCTePw4l3yMQbuA/wRJ57wHK4T91ABO78yXjPyjurIblgeQ/29tGUtfd5T+OyeAdyTnnP0G3eum6leg/9aQUtazx6T+okq6Ank3rP1uASEyQqew/D27iF4IF7j/CW3zjc2HvP7ski9eyXvA/lRtYvasM8T9uEiWjpLrxP0gJ8oidaPI/IgC/bpYW8z/79otUj8TzP9XtWDqIcvQ/ruQlIIEg9T+I2/IFes71P2LSv+tyfPY/O8mM0Wsq9z8VwFm3ZNj3P+62Jp1dhvg/yK3zglY0+T+ipMBoT+L5P3ubjU5IkPo/VZJaNEE++z8viScaOuz7PwiA9P8ymvw/4nbB5StI/T+8bY7LJPb9P5VkW7EdpP4/b1solxZS/z8kqXq+BwAAQJEkYTEEVwBA/p9HpACuAEBrGy4X/QQBQA==\",\"dtype\":\"float64\",\"shape\":[50]},\"top\":{\"__ndarray__\":\"bomROa5c/j9mRoDooq38P3+bd3wOc/4/7+YojIbY+z//07u5TnP8Px5R5FAZyvw/jisN5hAv/j9ugqAIlUv6P+pja3H7Zfc/f1jHJBgV+D9/WMckGBX4P2ZGgOiirfw/ABdsEUXR8j//eZ9QE0TzPx86eD/U+Pk/z/DjF7uj9j9+4Luw3eb2P59bUGvPJ/U/EMH7VcZ19D9PErxDttLxP84HUCkAdfk/n0TkWYpW8j/+Nu/4HObsPwAAAAAAAPA//3mfUBNE0z//eZ9QE0TjPwAAAAAAAAAAAUOwV/Zd5j8AAAAAAAAAAD/MeAsLC+s//dVPlieJ3j/91U+WJ4nePwAAAAAAAAAA/3mfUBNE4z8AAAAAAAAAAAAAAAAAAAAA/3mfUBNE0z//eZ9QE0TTPwAAAAAAAPD/AAAAAAAAAAAAAAAAAAAAAAAAAAAAAAAA/dVPlieJ3j8AAAAAAADw/wAAAAAAAPD/AAAAAAAA8P8AAAAAAAAAAAAAAAAAAPD/AAAAAAAAAAAAAAAAAAAAAA==\",\"dtype\":\"float64\",\"shape\":[50]}},\"selected\":{\"id\":\"4052\",\"type\":\"Selection\"},\"selection_policy\":{\"id\":\"4053\",\"type\":\"UnionRenderers\"}},\"id\":\"3588\",\"type\":\"ColumnDataSource\"},{\"attributes\":{\"bottom\":{\"value\":0},\"fill_alpha\":{\"value\":0.05},\"fill_color\":{\"value\":\"#CB4777\"},\"left\":{\"field\":\"left\"},\"line_alpha\":{\"value\":0.05},\"line_color\":{\"value\":\"#7E03A7\"},\"right\":{\"field\":\"right\"},\"top\":{\"field\":\"top\"}},\"id\":\"3589\",\"type\":\"Quad\"},{\"attributes\":{\"bottom\":{\"value\":0},\"fill_alpha\":{\"value\":0.1},\"fill_color\":{\"value\":\"#1f77b4\"},\"left\":{\"field\":\"left\"},\"line_alpha\":{\"value\":0.1},\"line_color\":{\"value\":\"#1f77b4\"},\"right\":{\"field\":\"right\"},\"top\":{\"field\":\"top\"}},\"id\":\"3590\",\"type\":\"Quad\"},{\"attributes\":{\"data_source\":{\"id\":\"3588\",\"type\":\"ColumnDataSource\"},\"glyph\":{\"id\":\"3589\",\"type\":\"Quad\"},\"hover_glyph\":null,\"muted_glyph\":null,\"nonselection_glyph\":{\"id\":\"3590\",\"type\":\"Quad\"},\"selection_glyph\":null,\"view\":{\"id\":\"3592\",\"type\":\"CDSView\"}},\"id\":\"3591\",\"type\":\"GlyphRenderer\"},{\"attributes\":{\"source\":{\"id\":\"3588\",\"type\":\"ColumnDataSource\"}},\"id\":\"3592\",\"type\":\"CDSView\"},{\"attributes\":{},\"id\":\"4039\",\"type\":\"UnionRenderers\"},{\"attributes\":{},\"id\":\"4041\",\"type\":\"UnionRenderers\"},{\"attributes\":{},\"id\":\"4038\",\"type\":\"Selection\"},{\"attributes\":{},\"id\":\"4042\",\"type\":\"Selection\"},{\"attributes\":{},\"id\":\"4043\",\"type\":\"UnionRenderers\"},{\"attributes\":{},\"id\":\"4040\",\"type\":\"Selection\"},{\"attributes\":{\"data_source\":{\"id\":\"3333\",\"type\":\"ColumnDataSource\"},\"glyph\":{\"id\":\"3334\",\"type\":\"Quad\"},\"hover_glyph\":null,\"muted_glyph\":null,\"nonselection_glyph\":{\"id\":\"3335\",\"type\":\"Quad\"},\"selection_glyph\":null,\"view\":{\"id\":\"3337\",\"type\":\"CDSView\"}},\"id\":\"3336\",\"type\":\"GlyphRenderer\"},{\"attributes\":{\"source\":{\"id\":\"3188\",\"type\":\"ColumnDataSource\"}},\"id\":\"3192\",\"type\":\"CDSView\"},{\"attributes\":{\"source\":{\"id\":\"3368\",\"type\":\"ColumnDataSource\"}},\"id\":\"3372\",\"type\":\"CDSView\"},{\"attributes\":{\"callback\":null,\"data\":{\"left\":{\"__ndarray__\":\"Sd85uJXFFj9tNAMo9bKvP/UllcJDrb8/2liUeIbAxz+5Ht4Pa6rPP0zyk9MnytM/PNU4Hxq/1z8ruN1qDLTbPxubgrb+qN8/Bb8TgfjO4T99MOamccnjP/WhuMzqw+U/bROL8mO+5z/lhF0Y3bjpP1z2Lz5Ws+s/1GcCZM+t7T9M2dSJSKjvP2Gl09dg0fA/Hd68ap3O8T/ZFqb92cvyP5VPj5AWyfM/UYh4I1PG9D8NwWG2j8P1P8n5SknMwPY/hTI03Ai+9z9Bax1vRbv4P/2jBgKCuPk/uNzvlL61+j90Fdkn+7L7PzBOwro3sPw/7IarTXSt/T+ov5TgsKr+P2T4fXPtp/8/kJgzA5VSAEDuNKhMM9EAQEzRHJbRTwFAqm2R32/OAUAICgYpDk0CQGamenKsywJAxELvu0pKA0Ai32MF6cgDQIB72E6HRwRA3hdNmCXGBEA8tMHhw0QFQJpQNitiwwVA+OyqdABCBkBWiR++nsAGQLQllAc9PwdAEsIIUdu9B0BwXn2aeTwIQA==\",\"dtype\":\"float64\",\"shape\":[50]},\"right\":{\"__ndarray__\":\"bTQDKPWyrz/1JZXCQ62/P9pYlHiGwMc/uR7eD2uqzz9M8pPTJ8rTPzzVOB8av9c/K7jdagy02z8bm4K2/qjfPwW/E4H4zuE/fTDmpnHJ4z/1objM6sPlP20Ti/Jjvuc/5YRdGN246T9c9i8+VrPrP9RnAmTPre0/TNnUiUio7z9hpdPXYNHwPx3evGqdzvE/2Ram/dnL8j+VT4+QFsnzP1GIeCNTxvQ/DcFhto/D9T/J+UpJzMD2P4UyNNwIvvc/QWsdb0W7+D/9owYCgrj5P7jc75S+tfo/dBXZJ/uy+z8wTsK6N7D8P+yGq010rf0/qL+U4LCq/j9k+H1z7af/P5CYMwOVUgBA7jSoTDPRAEBM0RyW0U8BQKptkd9vzgFACAoGKQ5NAkBmpnpyrMsCQMRC77tKSgNAIt9jBenIA0CAe9hOh0cEQN4XTZglxgRAPLTB4cNEBUCaUDYrYsMFQPjsqnQAQgZAVokfvp7ABkC0JZQHPT8HQBLCCFHbvQdAcF59mnk8CEDO+vHjF7sIQA==\",\"dtype\":\"float64\",\"shape\":[50]},\"top\":{\"__ndarray__\":\"EZSLevUGA0DfYIZ4qlYBQKy8fQfIwgFAD/Ata8xkAEAAKz1L0lwAQJ4YoBPZyf4/v6qg3w/c/z+Qto87EBj8Px86eD/U+Pk/f1jHJBgV+D+A3ifUBNH0P+6jeDSQevU/fslPn5gV9D+XfUs166/zP59E5FmKVvI/P8x4CwsL6z9uxVBgi6nwP/95n1ATRPM/bsVQYIup8D8BQ7BX9l3mP/3VT5Ynie4//dVPlieJ3j8/zHgLCwvrPwFDsFf2XeY//dVPlieJ3j//eZ9QE0TjPwAAAAAAAPD//3mfUBNE0z//eZ9QE0TTP/3VT5Ynid4/AAAAAAAAAAAAAAAAAADw/wAAAAAAAPD/AAAAAAAA8P8AAAAAAAAAAAAAAAAAAPD/AAAAAAAA8P8AAAAAAADw/wAAAAAAAAAAAAAAAAAAAAAAAAAAAADw//95n1ATRNM/AAAAAAAA8P8AAAAAAAAAAAAAAAAAAPD/AAAAAAAA8P8AAAAAAADw/wAAAAAAAPD/AAAAAAAAAAAAAAAAAAAAAA==\",\"dtype\":\"float64\",\"shape\":[50]}},\"selected\":{\"id\":\"3894\",\"type\":\"Selection\"},\"selection_policy\":{\"id\":\"3895\",\"type\":\"UnionRenderers\"}},\"id\":\"3193\",\"type\":\"ColumnDataSource\"},{\"attributes\":{\"source\":{\"id\":\"3333\",\"type\":\"ColumnDataSource\"}},\"id\":\"3337\",\"type\":\"CDSView\"},{\"attributes\":{\"callback\":null,\"data\":{\"left\":{\"__ndarray__\":\"85buF0vFBj95yx9PxtqpP6bNvKXt17k/x9r0ETxhwz+8TgtRgdbJP1nhEEjjJdA/Uxuc54Vg0z9OVSeHKJvWP0iPsibL1dk/Qsk9xm0Q3T+egeQyiCXgP5seqoLZwuE/mLtv0ipg4z+VWDUifP3kP5P1+nHNmuY/kJLAwR446D+NL4YRcNXpP4rMS2HBcus/h2kRsRIQ7T+FBtcAZK3uP8FRTqhaJfA/PyAxUAP08D++7hP4q8LxPz299p9UkfI/u4vZR/1f8z86WrzvpS70P7gon5dO/fQ/N/eBP/fL9T+2xWTnn5r2PzSUR49Iafc/s2IqN/E3+D8xMQ3fmQb5P7D/74ZC1fk/L87SLuuj+j+tnLXWk3L7PyxrmH48Qfw/qjl7JuUP/T8pCF7Ojd79P6jWQHY2rf4/JqUjHt97/z/TOQPjQyUAQBKh9DaYjABAUQjmiuzzAECRb9feQFsBQNDWyDKVwgFADz66hukpAkBPpavaPZECQI4MnS6S+AJAzXOOguZfA0AN23/WOscDQA==\",\"dtype\":\"float64\",\"shape\":[50]},\"right\":{\"__ndarray__\":\"ecsfT8baqT+mzbyl7de5P8fa9BE8YcM/vE4LUYHWyT9Z4RBI4yXQP1MbnOeFYNM/TlUnhyib1j9Ij7Imy9XZP0LJPcZtEN0/noHkMogl4D+bHqqC2cLhP5i7b9IqYOM/lVg1Inz95D+T9fpxzZrmP5CSwMEeOOg/jS+GEXDV6T+KzEthwXLrP4dpEbESEO0/hQbXAGSt7j/BUU6oWiXwPz8gMVAD9PA/vu4T+KvC8T89vfafVJHyP7uL2Uf9X/M/Olq876Uu9D+4KJ+XTv30Pzf3gT/3y/U/tsVk55+a9j80lEePSGn3P7NiKjfxN/g/MTEN35kG+T+w/++GQtX5Py/O0i7ro/o/rZy11pNy+z8sa5h+PEH8P6o5eyblD/0/KQhezo3e/T+o1kB2Nq3+PyalIx7fe/8/0zkD40MlAEASofQ2mIwAQFEI5ors8wBAkW/X3kBbAUDQ1sgylcIBQA8+uobpKQJAT6Wr2j2RAkCODJ0ukvgCQM1zjoLmXwNADdt/1jrHA0BMQnEqjy4EQA==\",\"dtype\":\"float64\",\"shape\":[50]},\"top\":{\"__ndarray__\":\"7Bbtznh+AkD1sbW4/bIDQBt/DA9ccQJArLx9B8jCAUCLjOHYfBEBQNuP+KTZCABA9jC80a8i+j/2MLzRryL6PwFDsFf2XfY/fuC7sN3m9j/P8OMXu6P2P08SvEO20vE//3mfUBNE8z9PErxDttLxPwAAAAAAAPA/f7LjjVNE8T9PErxDttLxP/6nd3Od5ug/AUOwV/Zd5j8/zHgLCwvrP/95n1ATRNM//dVPlieJ3j8AAAAAAADw/wAAAAAAAAAAAAAAAAAAAAAAAAAAAADw/wAAAAAAAPD/AAAAAAAAAAAAAAAAAADw/wAAAAAAAPD/AAAAAAAA8P8AAAAAAAAAAAAAAAAAAPD/AAAAAAAA8P8AAAAAAADw//95n1ATRNM/AAAAAAAA8P8AAAAAAADw/wAAAAAAAPD/AAAAAAAA8P8AAAAAAADw/wAAAAAAAPD/AAAAAAAA8P8AAAAAAADw/wAAAAAAAPD/AAAAAAAA8P8AAAAAAADw/wAAAAAAAPD/AAAAAAAA8P8AAAAAAAAAAA==\",\"dtype\":\"float64\",\"shape\":[50]}},\"selected\":{\"id\":\"3966\",\"type\":\"Selection\"},\"selection_policy\":{\"id\":\"3967\",\"type\":\"UnionRenderers\"}},\"id\":\"3373\",\"type\":\"ColumnDataSource\"},{\"attributes\":{\"source\":{\"id\":\"3643\",\"type\":\"ColumnDataSource\"}},\"id\":\"3647\",\"type\":\"CDSView\"},{\"attributes\":{\"bottom\":{\"value\":0},\"fill_alpha\":{\"value\":0.1},\"fill_color\":{\"value\":\"#1f77b4\"},\"left\":{\"field\":\"left\"},\"line_alpha\":{\"value\":0.1},\"line_color\":{\"value\":\"#1f77b4\"},\"right\":{\"field\":\"right\"},\"top\":{\"field\":\"top\"}},\"id\":\"3650\",\"type\":\"Quad\"},{\"attributes\":{\"bottom\":{\"value\":0},\"fill_alpha\":{\"value\":0.05},\"fill_color\":{\"value\":\"#CB4777\"},\"left\":{\"field\":\"left\"},\"line_alpha\":{\"value\":0.05},\"line_color\":{\"value\":\"#7E03A7\"},\"right\":{\"field\":\"right\"},\"top\":{\"field\":\"top\"}},\"id\":\"3194\",\"type\":\"Quad\"},{\"attributes\":{\"callback\":null,\"data\":{\"left\":{\"__ndarray__\":\"Oc6x+klTPz9hDfuNWY2vP5NbAEQGbr8/O5iB4K+Kxz+sAgOfXF7PP482wq4EmdM/yOsCDtuC1z8AoUNtsWzbPzlWhMyHVt8/uYXiFS+g4T9V4IJFGpXjP/E6I3UFiuU/jpXDpPB+5z8q8GPU23PpP8ZKBATHaOs/Y6WkM7Jd7T///0RjnVLvP06tcknEo/A/nNpC4Tme8T/qBxN5r5jyPzg14xAlk/M/hmKzqJqN9D/Uj4NAEIj1PyO9U9iFgvY/ceojcPt89z+/F/QHcXf4Pw1FxJ/mcfk/W3KUN1xs+j+pn2TP0Wb7P/jMNGdHYfw/RvoE/7xb/T+UJ9WWMlb+P+JUpS6oUP8/GME6444lAEC/1yKvyaIAQGbuCnsEIAFADQXzRj+dAUC0G9sSehoCQFsyw960lwJAAkmrqu8UA0CpX5N2KpIDQFB2e0JlDwRA94xjDqCMBECeo0va2gkFQEW6M6YVhwVA7dAbclAEBkCU5wM+i4EGQDv+6wnG/gZA4hTU1QB8B0CJK7yhO/kHQA==\",\"dtype\":\"float64\",\"shape\":[50]},\"right\":{\"__ndarray__\":\"YQ37jVmNrz+TWwBEBm6/PzuYgeCvisc/rAIDn1xezz+PNsKuBJnTP8jrAg7bgtc/AKFDbbFs2z85VoTMh1bfP7mF4hUvoOE/VeCCRRqV4z/xOiN1BYrlP46Vw6Twfuc/KvBj1Ntz6T/GSgQEx2jrP2OlpDOyXe0///9EY51S7z9OrXJJxKPwP5zaQuE5nvE/6gcTea+Y8j84NeMQJZPzP4Zis6iajfQ/1I+DQBCI9T8jvVPYhYL2P3HqI3D7fPc/vxf0B3F3+D8NRcSf5nH5P1tylDdcbPo/qZ9kz9Fm+z/4zDRnR2H8P0b6BP+8W/0/lCfVljJW/j/iVKUuqFD/PxjBOuOOJQBAv9cir8miAEBm7gp7BCABQA0F80Y/nQFAtBvbEnoaAkBbMsPetJcCQAJJq6rvFANAqV+TdiqSA0BQdntCZQ8EQPeMYw6gjARAnqNL2toJBUBFujOmFYcFQO3QG3JQBAZAlOcDPouBBkA7/usJxv4GQOIU1NUAfAdAiSu8oTv5B0AwQqRtdnYIQA==\",\"dtype\":\"float64\",\"shape\":[50]},\"top\":{\"__ndarray__\":\"cpN3e69iAUC1wqFOe0oBQA5YRsqZMQFA24/4pNkIAED+7i8G7Wv9P3UP5KW08/4//k1bCmK3/z/Y6ilG+57+PwA/DoVf6P0/aVn/VkUI/z8/zHgLCwv7P//Xw/Snmvo/boKgCJVL+j8Wc98aNVL7P38MAPeOc/o/fuC7sN3m9j/OB1ApAHX5P/YwvNGvIvo/n0TkWYpW8j8AF2wRRdHyP59E5FmKVvI/gN4n1ATR9D/91U+WJ4nuPwAAAAAAAPA//3mfUBNE4z//eZ9QE0TjP/95n1ATRNM/AAAAAAAA8D/+Nu/4HObsP/95n1ATROM//qd3c53m6D//eZ9QE0TjPwAAAAAAAPD/AAAAAAAA8P/91U+WJ4neP/95n1ATRNM/AAAAAAAAAAD+Nu/4HObsP/95n1ATRNM//jbv+Bzm7D8AAAAAAADw/wAAAAAAAPD/AAAAAAAA8P8AAAAAAADw/wAAAAAAAPD/AAAAAAAA8P8AAAAAAADw/wAAAAAAAPD/AAAAAAAA8P8AAAAAAAAAAA==\",\"dtype\":\"float64\",\"shape\":[50]}},\"selected\":{\"id\":\"3952\",\"type\":\"Selection\"},\"selection_policy\":{\"id\":\"3953\",\"type\":\"UnionRenderers\"}},\"id\":\"3338\",\"type\":\"ColumnDataSource\"},{\"attributes\":{\"bottom\":{\"value\":0},\"fill_alpha\":{\"value\":0.05},\"fill_color\":{\"value\":\"#CB4777\"},\"left\":{\"field\":\"left\"},\"line_alpha\":{\"value\":0.05},\"line_color\":{\"value\":\"#7E03A7\"},\"right\":{\"field\":\"right\"},\"top\":{\"field\":\"top\"}},\"id\":\"3374\",\"type\":\"Quad\"},{\"attributes\":{\"callback\":null,\"data\":{\"left\":{\"__ndarray__\":\"Oc6x+klTPz8aI5dx9J6xPzPKmcxKj8E/2QJoYBtPyj/AHRv6dYfRPxM6AkRe59U/ZlbpjUZH2j+5ctDXLqfeP4bH25CLg+E/sFXPtX+z4z/Z48Lac+PlPwJytv9nE+g/LACqJFxD6j9Wjp1JUHPsP38ckW5Eo+4/VFXCSZxp8D9pHDxcloHxP37jtW6QmfI/k6ovgYqx8z+ncamThMn0P7w4I6Z+4fU/0f+cuHj59j/lxhbLchH4P/qNkN1sKfk/D1UK8GZB+j8kHIQCYVn7Pznj/RRbcfw/Tap3J1WJ/T9icfE5T6H+P3c4a0xJuf8/xX9yr6FoAEBQY6+4nvQAQNpG7MGbgAFAZCopy5gMAkDvDWbUlZgCQHnxot2SJANABNXf5o+wA0COuBzwjDwEQBicWfmJyARAo3+WAodUBUAtY9MLhOAFQLdGEBWBbAZAQipNHn74BkDMDYone4QHQFbxxjB4EAhA4dQDOnWcCEBruEBDcigJQPabfUxvtAlAgH+6VWxACkAKY/deacwKQA==\",\"dtype\":\"float64\",\"shape\":[50]},\"right\":{\"__ndarray__\":\"GiOXcfSesT8zypnMSo/BP9kCaGAbT8o/wB0b+nWH0T8TOgJEXufVP2ZW6Y1GR9o/uXLQ1y6n3j+Gx9uQi4PhP7BVz7V/s+M/2ePC2nPj5T8Ccrb/ZxPoPywAqiRcQ+o/Vo6dSVBz7D9/HJFuRKPuP1RVwkmcafA/aRw8XJaB8T9+47VukJnyP5OqL4GKsfM/p3Gpk4TJ9D+8OCOmfuH1P9H/nLh4+fY/5cYWy3IR+D/6jZDdbCn5Pw9VCvBmQfo/JByEAmFZ+z854/0UW3H8P02qdydVif0/YnHxOU+h/j93OGtMSbn/P8V/cq+haABAUGOvuJ70AEDaRuzBm4ABQGQqKcuYDAJA7w1m1JWYAkB58aLdkiQDQATV3+aPsANAjrgc8Iw8BEAYnFn5icgEQKN/lgKHVAVALWPTC4TgBUC3RhAVgWwGQEIqTR5++AZAzA2KJ3uEB0BW8cYweBAIQOHUAzp1nAhAa7hAQ3IoCUD2m31Mb7QJQIB/ulVsQApACmP3XmnMCkCURjRoZlgLQA==\",\"dtype\":\"float64\",\"shape\":[50]},\"top\":{\"__ndarray__\":\"v+SnT8wKAkC/5KdPzAoCQKKb0flVnAJAQDLEwXjGAED91U+WJ4n+P22weCsf7v8//jbv+Bzm/D/2MLzRryL6PwC9T6gJovk/z/DjF7uj9j/uuuRF1Uv4P3+y441TRPE/gGDmsFoX+T/uo3g0kHr1P37gu7Dd5vY/AAAAAAAA8D/+p3dzneboP/6nd3Od5ug/AAAAAAAAAAAAAAAAAADw/wAAAAAAAAAAAAAAAAAAAAD91U+WJ4nePwAAAAAAAPD/AAAAAAAAAAAAAAAAAADw/wAAAAAAAAAAAAAAAAAA8P8AAAAAAAAAAAAAAAAAAPD/AAAAAAAA8P8AAAAAAADw/wAAAAAAAPD/AAAAAAAA8P8AAAAAAADw/wAAAAAAAPD/AAAAAAAA8P8AAAAAAADw/wAAAAAAAPD/AAAAAAAA8P8AAAAAAADw/wAAAAAAAPD/AAAAAAAA8P8AAAAAAADw/wAAAAAAAPD/AAAAAAAA8P8AAAAAAADw/wAAAAAAAPD/AAAAAAAAAAAAAAAAAAAAAA==\",\"dtype\":\"float64\",\"shape\":[50]}},\"selected\":{\"id\":\"4074\",\"type\":\"Selection\"},\"selection_policy\":{\"id\":\"4075\",\"type\":\"UnionRenderers\"}},\"id\":\"3643\",\"type\":\"ColumnDataSource\"},{\"attributes\":{\"bottom\":{\"value\":0},\"fill_alpha\":{\"value\":0.1},\"fill_color\":{\"value\":\"#1f77b4\"},\"left\":{\"field\":\"left\"},\"line_alpha\":{\"value\":0.1},\"line_color\":{\"value\":\"#1f77b4\"},\"right\":{\"field\":\"right\"},\"top\":{\"field\":\"top\"}},\"id\":\"3195\",\"type\":\"Quad\"},{\"attributes\":{\"bottom\":{\"value\":0},\"fill_alpha\":{\"value\":0.05},\"fill_color\":{\"value\":\"#CB4777\"},\"left\":{\"field\":\"left\"},\"line_alpha\":{\"value\":0.05},\"line_color\":{\"value\":\"#7E03A7\"},\"right\":{\"field\":\"right\"},\"top\":{\"field\":\"top\"}},\"id\":\"3339\",\"type\":\"Quad\"},{\"attributes\":{\"bottom\":{\"value\":0},\"fill_alpha\":{\"value\":0.1},\"fill_color\":{\"value\":\"#1f77b4\"},\"left\":{\"field\":\"left\"},\"line_alpha\":{\"value\":0.1},\"line_color\":{\"value\":\"#1f77b4\"},\"right\":{\"field\":\"right\"},\"top\":{\"field\":\"top\"}},\"id\":\"3375\",\"type\":\"Quad\"},{\"attributes\":{\"bottom\":{\"value\":0},\"fill_color\":{\"value\":\"#0C0786\"},\"left\":{\"field\":\"left\"},\"line_color\":{\"value\":\"#0C0786\"},\"right\":{\"field\":\"right\"},\"top\":{\"field\":\"top\"}},\"id\":\"3649\",\"type\":\"Quad\"},{\"attributes\":{\"data_source\":{\"id\":\"3193\",\"type\":\"ColumnDataSource\"},\"glyph\":{\"id\":\"3194\",\"type\":\"Quad\"},\"hover_glyph\":null,\"muted_glyph\":null,\"nonselection_glyph\":{\"id\":\"3195\",\"type\":\"Quad\"},\"selection_glyph\":null,\"view\":{\"id\":\"3197\",\"type\":\"CDSView\"}},\"id\":\"3196\",\"type\":\"GlyphRenderer\"},{\"attributes\":{\"data_source\":{\"id\":\"3373\",\"type\":\"ColumnDataSource\"},\"glyph\":{\"id\":\"3374\",\"type\":\"Quad\"},\"hover_glyph\":null,\"muted_glyph\":null,\"nonselection_glyph\":{\"id\":\"3375\",\"type\":\"Quad\"},\"selection_glyph\":null,\"view\":{\"id\":\"3377\",\"type\":\"CDSView\"}},\"id\":\"3376\",\"type\":\"GlyphRenderer\"},{\"attributes\":{\"bottom\":{\"value\":0},\"fill_alpha\":{\"value\":0.1},\"fill_color\":{\"value\":\"#1f77b4\"},\"left\":{\"field\":\"left\"},\"line_alpha\":{\"value\":0.1},\"line_color\":{\"value\":\"#1f77b4\"},\"right\":{\"field\":\"right\"},\"top\":{\"field\":\"top\"}},\"id\":\"3340\",\"type\":\"Quad\"},{\"attributes\":{\"bottom\":{\"value\":0},\"fill_alpha\":{\"value\":0.05},\"fill_color\":{\"value\":\"#CB4777\"},\"left\":{\"field\":\"left\"},\"line_alpha\":{\"value\":0.05},\"line_color\":{\"value\":\"#7E03A7\"},\"right\":{\"field\":\"right\"},\"top\":{\"field\":\"top\"}},\"id\":\"3644\",\"type\":\"Quad\"},{\"attributes\":{\"data_source\":{\"id\":\"3338\",\"type\":\"ColumnDataSource\"},\"glyph\":{\"id\":\"3339\",\"type\":\"Quad\"},\"hover_glyph\":null,\"muted_glyph\":null,\"nonselection_glyph\":{\"id\":\"3340\",\"type\":\"Quad\"},\"selection_glyph\":null,\"view\":{\"id\":\"3342\",\"type\":\"CDSView\"}},\"id\":\"3341\",\"type\":\"GlyphRenderer\"},{\"attributes\":{\"source\":{\"id\":\"3193\",\"type\":\"ColumnDataSource\"}},\"id\":\"3197\",\"type\":\"CDSView\"},{\"attributes\":{\"source\":{\"id\":\"3373\",\"type\":\"ColumnDataSource\"}},\"id\":\"3377\",\"type\":\"CDSView\"},{\"attributes\":{\"callback\":null,\"data\":{\"left\":{\"__ndarray__\":\"85buF0vFBj/weg5exL+rPx19q7TrvLs/Yd4nnfrMxD8z/vlff7vLPwMPZhECVdE/7R7PckTM1D/WLjjUhkPYP78+oTXJuts/qE4Klwsy3z9Irzn8plThPz037ixIEOM/Mr+iXenL5D8mR1eOiofmPxvPC78rQ+g/D1fA78z+6T8E33QgbrrrP/lmKVEPdu0/7e7dgbAx7z9xO0nZqHbwP2t/o3F5VPE/ZsP9CUoy8j9gB1iiGhDzP1pLsjrr7fM/VY8M07vL9D9P02ZrjKn1P0kXwQNdh/Y/Q1sbnC1l9z8+n3U0/kL4Pzjjz8zOIPk/MicqZZ/++T8ta4T9b9z6Pyev3pVAuvs/IfM4LhGY/D8cN5PG4XX9PxZ77V6yU/4/EL9H94Ix/z+GAdHHqQcAQIMj/hOSdgBAgEUrYHrlAEB9Z1isYlQBQHqJhfhKwwFAeKuyRDMyAkB1zd+QG6ECQHLvDN0DEANAbxE6Kex+A0BsM2d11O0DQGlVlMG8XARAZ3fBDaXLBEBkme5ZjToFQA==\",\"dtype\":\"float64\",\"shape\":[50]},\"right\":{\"__ndarray__\":\"8HoOXsS/qz8dfau067y7P2HeJ536zMQ/M/75X3+7yz8DD2YRAlXRP+0ez3JEzNQ/1i441IZD2D+/PqE1ybrbP6hOCpcLMt8/SK85/KZU4T89N+4sSBDjPzK/ol3py+Q/JkdXjoqH5j8bzwu/K0PoPw9XwO/M/uk/BN90IG666z/5ZilRD3btP+3u3YGwMe8/cTtJ2ah28D9rf6NxeVTxP2bD/QlKMvI/YAdYohoQ8z9aS7I66+3zP1WPDNO7y/Q/T9Nma4yp9T9JF8EDXYf2P0NbG5wtZfc/Pp91NP5C+D8448/MziD5PzInKmWf/vk/LWuE/W/c+j8nr96VQLr7PyHzOC4RmPw/HDeTxuF1/T8We+1eslP+PxC/R/eCMf8/hgHRx6kHAECDI/4TknYAQIBFK2B65QBAfWdYrGJUAUB6iYX4SsMBQHirskQzMgJAdc3fkBuhAkBy7wzdAxADQG8ROinsfgNAbDNnddTtA0BpVZTBvFwEQGd3wQ2lywRAZJnuWY06BUBhuxumdakFQA==\",\"dtype\":\"float64\",\"shape\":[50]},\"top\":{\"__ndarray__\":\"yM8RlWWjBEDQQ8pYQFoEQPMzLApP7gNA5+2FcSf0AkDA+snyJNEDQKKb0flVnAJAj/vj827NAUCEe4/x5CQBQIuM4dh8EQFA7ADLKyC4AEBtsHgrH+7/P+5gyNyZHP8/24/4pNkIAED+6ifLk0T/P58BNAKU+Ps/7vBA62hV/D9/DAD3jnP6P84HUCkAdfk/fwwA945z+j+AYOawWhf5P39YxyQYFfg/Hzp4P9T4+T8fIwwujyf3PyBmvIWFhf0/HyMMLo8n9z+A3ifUBNH0P8/w4xe7o/Y/f7LjjVNE8T/+p3dzneboP27FUGCLqfA/AAAAAAAA8D8BQ7BX9l3mP/95n1ATRNM//qd3c53m6D//eZ9QE0TTP27FUGCLqfA/AAAAAAAAAAD/eZ9QE0TTP/95n1ATRNM/AAAAAAAAAAABQ7BX9l3mP/6nd3Od5ug/AAAAAAAAAAD/eZ9QE0TTPwAAAAAAAAAAAAAAAAAAAAAAAAAAAADw/wAAAAAAAPD/AAAAAAAA8P8AAAAAAAAAAA==\",\"dtype\":\"float64\",\"shape\":[50]}},\"selected\":{\"id\":\"3896\",\"type\":\"Selection\"},\"selection_policy\":{\"id\":\"3897\",\"type\":\"UnionRenderers\"}},\"id\":\"3198\",\"type\":\"ColumnDataSource\"},{\"attributes\":{\"source\":{\"id\":\"3338\",\"type\":\"ColumnDataSource\"}},\"id\":\"3342\",\"type\":\"CDSView\"},{\"attributes\":{\"callback\":null,\"data\":{\"left\":{\"__ndarray__\":\"Sd85uJXFFj/FrHCoPsy1P4mlufVlycU/WHqdS1ZW0D/rIV6c+cfVP37JHu2cOds/ibjvHqBV4D9SDFDHcQ7jPxxgsG9Dx+U/5rMQGBWA6D+vB3HA5jjrP3lb0Wi48e0/odeYCEVV8D+GAcncrbHxP2or+bAWDvM/T1UphX9q9D80f1lZ6Mb1PxmpiS1RI/c//tK5Abp/+D/i/OnVItz5P8cmGqqLOPs/rFBKfvSU/D+RenpSXfH9P3akqibGTf8/LmdtfRdVAEAgfIXnSwMBQBORnVGAsQFABaa1u7RfAkD3us0l6Q0DQOrP5Y8dvANA3OT9+VFqBEDP+RVkhhgFQMEOLs66xgVAsyNGOO90BkCmOF6iIyMHQJhNdgxY0QdAi2KOdox/CEB9d6bgwC0JQG+Mvkr12wlAYqHWtCmKCkBUtu4eXjgLQEfLBomS5gtAOeAe88aUDEAr9TZd+0INQB4KT8cv8Q1AEB9nMWSfDkADNH+bmE0PQPVIlwXN+w9A9K7XtwBVEEBtuePsGqwQQA==\",\"dtype\":\"float64\",\"shape\":[50]},\"right\":{\"__ndarray__\":\"xaxwqD7MtT+Jpbn1ZcnFP1h6nUtWVtA/6yFenPnH1T9+yR7tnDnbP4m47x6gVeA/UgxQx3EO4z8cYLBvQ8flP+azEBgVgOg/rwdxwOY46z95W9FouPHtP6HXmAhFVfA/hgHJ3K2x8T9qK/mwFg7zP09VKYV/avQ/NH9ZWejG9T8ZqYktUSP3P/7SuQG6f/g/4vzp1SLc+T/HJhqqizj7P6xQSn70lPw/kXp6Ul3x/T92pKomxk3/Py5nbX0XVQBAIHyF50sDAUATkZ1RgLEBQAWmtbu0XwJA97rNJekNA0Dqz+WPHbwDQNzk/flRagRAz/kVZIYYBUDBDi7OusYFQLMjRjjvdAZApjheoiMjB0CYTXYMWNEHQItijnaMfwhAfXem4MAtCUBvjL5K9dsJQGKh1rQpigpAVLbuHl44C0BHywaJkuYLQDngHvPGlAxAK/U2XftCDUAeCk/HL/ENQBAfZzFknw5AAzR/m5hND0D1SJcFzfsPQPSu17cAVRBAbbnj7BqsEEDmw+8hNQMRQA==\",\"dtype\":\"float64\",\"shape\":[50]},\"top\":{\"__ndarray__\":\"OH1DbN2wAED+TVsKYrf/PyBmvIWFhf0/fm8zNl3m+j8uZVo2mjf9P4A4RD1AAP4/LmVaNpo3/T8uZVo2mjf9P/427/gc5vw/ZkaA6KKt/D/+kAtiWBX2P3+y441TRPE/fslPn5gV9D/+Nu/4HObsP/95n1ATRNM/FnPfGjVS+z9/9ZPlSaL3P27FUGCLqfA/7qN4NJB69T9uxVBgi6nwP/427/gc5uw//jbv+Bzm7D/+p3dzneboP/3VT5Ynid4//3mfUBNE4z8AAAAAAADw/wAAAAAAAAAAAUOwV/Zd5j8AAAAAAAAAAP3VT5Ynid4/AAAAAAAA8P8AAAAAAAAAAAAAAAAAAAAAAAAAAAAA8P8AAAAAAADw/wAAAAAAAAAAAAAAAAAA8P8AAAAAAADw//95n1ATRNM/AAAAAAAAAAAAAAAAAAAAAAAAAAAAAAAAAAAAAAAA8P8AAAAAAAAAAAAAAAAAAPD/AAAAAAAA8P8AAAAAAADw/wAAAAAAAPD/AAAAAAAA8P8AAAAAAAAAAA==\",\"dtype\":\"float64\",\"shape\":[50]}},\"selected\":{\"id\":\"3968\",\"type\":\"Selection\"},\"selection_policy\":{\"id\":\"3969\",\"type\":\"UnionRenderers\"}},\"id\":\"3378\",\"type\":\"ColumnDataSource\"},{\"attributes\":{\"data_source\":{\"id\":\"3643\",\"type\":\"ColumnDataSource\"},\"glyph\":{\"id\":\"3644\",\"type\":\"Quad\"},\"hover_glyph\":null,\"muted_glyph\":null,\"nonselection_glyph\":{\"id\":\"3645\",\"type\":\"Quad\"},\"selection_glyph\":null,\"view\":{\"id\":\"3647\",\"type\":\"CDSView\"}},\"id\":\"3646\",\"type\":\"GlyphRenderer\"},{\"attributes\":{\"bottom\":{\"value\":0},\"fill_alpha\":{\"value\":0.05},\"fill_color\":{\"value\":\"#CB4777\"},\"left\":{\"field\":\"left\"},\"line_alpha\":{\"value\":0.05},\"line_color\":{\"value\":\"#7E03A7\"},\"right\":{\"field\":\"right\"},\"top\":{\"field\":\"top\"}},\"id\":\"3199\",\"type\":\"Quad\"},{\"attributes\":{\"callback\":null,\"data\":{\"left\":{\"__ndarray__\":\"20vdbZSgOT9yYtX2hrmuPyaFZ2Lmn74/iiyypITxxj+AljAYFpPOPzuA18VTGtM/N7WWfxzr1j8y6lU55bvaPy0fFfOtjN4/FCpqVrsu4T+RxEmzHxfjPw9fKRCE/+Q/jfkIbejn5j8KlOjJTNDoP4guyCaxuOo/BcmngxWh7D+DY4fgeYnuPwF/sx7vOPA/QEwjTSEt8T9+GZN7UyHyP73mAqqFFfM//LNy2LcJ9D87geIG6v30P3pOUjUc8vU/uRvCY07m9j/36DGSgNr3Pza2ocCyzvg/dYMR7+TC+T+0UIEdF7f6P/Md8UtJq/s/Metgenuf/D9wuNCorZP9P6+FQNffh/4/7lKwBRJ8/z8WEBAaIjgAQLX2RzE7sgBAVd1/SFQsAUD0w7dfbaYBQJOq73aGIAJAM5Enjp+aAkDSd1+luBQDQHJel7zRjgNAEUXP0+oIBECwKwfrA4MEQFASPwId/QRA7/h2GTZ3BUCP364wT/EFQC7G5kdoawZAzqweX4HlBkBtk1Z2ml8HQA==\",\"dtype\":\"float64\",\"shape\":[50]},\"right\":{\"__ndarray__\":\"cmLV9oa5rj8mhWdi5p++P4ossqSE8cY/gJYwGBaTzj87gNfFUxrTPze1ln8c69Y/MupVOeW72j8tHxXzrYzePxQqala7LuE/kcRJsx8X4z8PXykQhP/kP435CG3o5+Y/CpToyUzQ6D+ILsgmsbjqPwXJp4MVoew/g2OH4HmJ7j8Bf7Me7zjwP0BMI00hLfE/fhmTe1Mh8j+95gKqhRXzP/yzcti3CfQ/O4HiBur99D96TlI1HPL1P7kbwmNO5vY/9+gxkoDa9z82tqHAss74P3WDEe/kwvk/tFCBHRe3+j/zHfFLSav7PzHrYHp7n/w/cLjQqK2T/T+vhUDX34f+P+5SsAUSfP8/FhAQGiI4AEC19kcxO7IAQFXdf0hULAFA9MO3X22mAUCTqu92hiACQDORJ46fmgJA0ndfpbgUA0ByXpe80Y4DQBFFz9PqCARAsCsH6wODBEBQEj8CHf0EQO/4dhk2dwVAj9+uME/xBUAuxuZHaGsGQM6sHl+B5QZAbZNWdppfB0AMeo6Ns9kHQA==\",\"dtype\":\"float64\",\"shape\":[50]},\"top\":{\"__ndarray__\":\"OynKftWoAkB3K9BOoBQCQI/74/NuzQFAzxeGEo/NAEAdmSCD7pH/P0AyxMF4xgBAgAu2iKJoAUDc8YNduJoAQP/Xw/Snmvo/f1jHJBgV+D+QnyMqy0b5PwC9T6gJovk/l31LNeuv8z/mZ1gUntz3P+6jeDSQevU/fslPn5gV9D8fIwwujyf3P+ZnWBSe3Pc//jbv+Bzm7D/91U+WJ4neP27FUGCLqfA/bsVQYIup8D9uxVBgi6nwP4DeJ9QE0fQ/7qN4NJB69T//eZ9QE0TjPwAAAAAAAPA/AAAAAAAAAAD/eZ9QE0TTPwAAAAAAAAAAAAAAAAAA8P//eZ9QE0TTPwAAAAAAAPD/AAAAAAAA8P8AAAAAAADw/wAAAAAAAAAAAAAAAAAAAAAAAAAAAADw/wAAAAAAAPD/AAAAAAAA8P8AAAAAAAAAAAAAAAAAAPD/AAAAAAAA8P8AAAAAAADw/wAAAAAAAPD/AAAAAAAA8P8AAAAAAADw/wAAAAAAAPD/AAAAAAAA8P8AAAAAAAAAAA==\",\"dtype\":\"float64\",\"shape\":[50]}},\"selected\":{\"id\":\"3954\",\"type\":\"Selection\"},\"selection_policy\":{\"id\":\"3955\",\"type\":\"UnionRenderers\"}},\"id\":\"3343\",\"type\":\"ColumnDataSource\"},{\"attributes\":{\"bottom\":{\"value\":0},\"fill_alpha\":{\"value\":0.05},\"fill_color\":{\"value\":\"#CB4777\"},\"left\":{\"field\":\"left\"},\"line_alpha\":{\"value\":0.05},\"line_color\":{\"value\":\"#7E03A7\"},\"right\":{\"field\":\"right\"},\"top\":{\"field\":\"top\"}},\"id\":\"3379\",\"type\":\"Quad\"},{\"attributes\":{\"bottom\":{\"value\":0},\"fill_alpha\":{\"value\":0.1},\"fill_color\":{\"value\":\"#1f77b4\"},\"left\":{\"field\":\"left\"},\"line_alpha\":{\"value\":0.1},\"line_color\":{\"value\":\"#1f77b4\"},\"right\":{\"field\":\"right\"},\"top\":{\"field\":\"top\"}},\"id\":\"3645\",\"type\":\"Quad\"},{\"attributes\":{\"bottom\":{\"value\":0},\"fill_alpha\":{\"value\":0.1},\"fill_color\":{\"value\":\"#1f77b4\"},\"left\":{\"field\":\"left\"},\"line_alpha\":{\"value\":0.1},\"line_color\":{\"value\":\"#1f77b4\"},\"right\":{\"field\":\"right\"},\"top\":{\"field\":\"top\"}},\"id\":\"3200\",\"type\":\"Quad\"},{\"attributes\":{\"bottom\":{\"value\":0},\"fill_alpha\":{\"value\":0.05},\"fill_color\":{\"value\":\"#CB4777\"},\"left\":{\"field\":\"left\"},\"line_alpha\":{\"value\":0.05},\"line_color\":{\"value\":\"#7E03A7\"},\"right\":{\"field\":\"right\"},\"top\":{\"field\":\"top\"}},\"id\":\"3344\",\"type\":\"Quad\"},{\"attributes\":{\"bottom\":{\"value\":0},\"fill_alpha\":{\"value\":0.1},\"fill_color\":{\"value\":\"#1f77b4\"},\"left\":{\"field\":\"left\"},\"line_alpha\":{\"value\":0.1},\"line_color\":{\"value\":\"#1f77b4\"},\"right\":{\"field\":\"right\"},\"top\":{\"field\":\"top\"}},\"id\":\"3380\",\"type\":\"Quad\"},{\"attributes\":{\"source\":{\"id\":\"3633\",\"type\":\"ColumnDataSource\"}},\"id\":\"3637\",\"type\":\"CDSView\"},{\"attributes\":{\"data_source\":{\"id\":\"3198\",\"type\":\"ColumnDataSource\"},\"glyph\":{\"id\":\"3199\",\"type\":\"Quad\"},\"hover_glyph\":null,\"muted_glyph\":null,\"nonselection_glyph\":{\"id\":\"3200\",\"type\":\"Quad\"},\"selection_glyph\":null,\"view\":{\"id\":\"3202\",\"type\":\"CDSView\"}},\"id\":\"3201\",\"type\":\"GlyphRenderer\"},{\"attributes\":{\"data_source\":{\"id\":\"3378\",\"type\":\"ColumnDataSource\"},\"glyph\":{\"id\":\"3379\",\"type\":\"Quad\"},\"hover_glyph\":null,\"muted_glyph\":null,\"nonselection_glyph\":{\"id\":\"3380\",\"type\":\"Quad\"},\"selection_glyph\":null,\"view\":{\"id\":\"3382\",\"type\":\"CDSView\"}},\"id\":\"3381\",\"type\":\"GlyphRenderer\"},{\"attributes\":{\"data_source\":{\"id\":\"3633\",\"type\":\"ColumnDataSource\"},\"glyph\":{\"id\":\"3634\",\"type\":\"Quad\"},\"hover_glyph\":null,\"muted_glyph\":null,\"nonselection_glyph\":{\"id\":\"3635\",\"type\":\"Quad\"},\"selection_glyph\":null,\"view\":{\"id\":\"3637\",\"type\":\"CDSView\"}},\"id\":\"3636\",\"type\":\"GlyphRenderer\"},{\"attributes\":{\"bottom\":{\"value\":0},\"fill_alpha\":{\"value\":0.1},\"fill_color\":{\"value\":\"#1f77b4\"},\"left\":{\"field\":\"left\"},\"line_alpha\":{\"value\":0.1},\"line_color\":{\"value\":\"#1f77b4\"},\"right\":{\"field\":\"right\"},\"top\":{\"field\":\"top\"}},\"id\":\"3345\",\"type\":\"Quad\"},{\"attributes\":{\"data_source\":{\"id\":\"3343\",\"type\":\"ColumnDataSource\"},\"glyph\":{\"id\":\"3344\",\"type\":\"Quad\"},\"hover_glyph\":null,\"muted_glyph\":null,\"nonselection_glyph\":{\"id\":\"3345\",\"type\":\"Quad\"},\"selection_glyph\":null,\"view\":{\"id\":\"3347\",\"type\":\"CDSView\"}},\"id\":\"3346\",\"type\":\"GlyphRenderer\"},{\"attributes\":{\"source\":{\"id\":\"3198\",\"type\":\"ColumnDataSource\"}},\"id\":\"3202\",\"type\":\"CDSView\"},{\"attributes\":{\"source\":{\"id\":\"3378\",\"type\":\"ColumnDataSource\"}},\"id\":\"3382\",\"type\":\"CDSView\"},{\"attributes\":{\"callback\":null,\"data\":{\"left\":{\"__ndarray__\":\"54bbt8pcRT+pl/y2jBWvP5vgjCHT6r4/sbrN828lxz8UBdVWdtXOP7sn7ly+QtM/7cxxjsEa1z8ecvW/xPLaP1AXefHHyt4/QV5+kWVR4T/aMEAqZz3jP3MDAsNoKeU/DNbDW2oV5z+lqIX0awHpPz17R41t7eo/1k0JJm/Z7D9vIMu+cMXuP4R5xiu5WPA/0GIn+LlO8T8dTIjEukTyP2k16ZC7OvM/th5KXbww9D8CCKspvSb1P07xC/a9HPY/m9pswr4S9z/nw82Ovwj4PzStLlvA/vg/gJaPJ8H0+T/Mf/Dzwer6PxlpUcDC4Ps/ZVKyjMPW/D+yOxNZxMz9P/4kdCXFwv4/Sg7V8cW4/z/L+xpfY1cAQHFwS8Vj0gBAF+V7K2RNAUC+WayRZMgBQGTO3PdkQwJACkMNXmW+AkCwtz3EZTkDQFYsbipmtANA/aCekGYvBECjFc/2ZqoEQEmK/1xnJQVA7/4vw2egBUCVc2ApaBsGQDzokI9olgZA4lzB9WgRB0CI0fFbaYwHQA==\",\"dtype\":\"float64\",\"shape\":[50]},\"right\":{\"__ndarray__\":\"qZf8towVrz+b4Iwh0+q+P7G6zfNvJcc/FAXVVnbVzj+7J+5cvkLTP+3McY7BGtc/HnL1v8Ty2j9QF3nxx8reP0FefpFlUeE/2jBAKmc94z9zAwLDaCnlPwzWw1tqFec/paiF9GsB6T89e0eNbe3qP9ZNCSZv2ew/byDLvnDF7j+EecYruVjwP9BiJ/i5TvE/HUyIxLpE8j9pNemQuzrzP7YeSl28MPQ/AgirKb0m9T9O8Qv2vRz2P5vabMK+Evc/58PNjr8I+D80rS5bwP74P4CWjyfB9Pk/zH/w88Hq+j8ZaVHAwuD7P2VSsozD1vw/sjsTWcTM/T/+JHQlxcL+P0oO1fHFuP8/y/saX2NXAEBxcEvFY9IAQBfleytkTQFAvlmskWTIAUBkztz3ZEMCQApDDV5lvgJAsLc9xGU5A0BWLG4qZrQDQP2gnpBmLwRAoxXP9maqBEBJiv9cZyUFQO/+L8NnoAVAlXNgKWgbBkA86JCPaJYGQOJcwfVoEQdAiNHxW2mMB0AuRiLCaQcIQA==\",\"dtype\":\"float64\",\"shape\":[50]},\"top\":{\"__ndarray__\":\"4s2Vu85iA0Ds0zx3giAEQFct9w3ybAJAhHuP8eQkAUAM4L6SH8gBQA/wLWvMZABA/k1bCmK3/z9lXez5537/PygJ3iFb6QBA8BtfBLaQ/D/v5iiMhtj7P35vMzZd5vo/fslPn5gV9D+A3ifUBNH0P59bUGvPJ/U//pALYlgV9j9/suONU0TxP/95n1ATRPM/fslPn5gV9D/91U+WJ4nuPwFDsFf2XeY//3mfUBNE4z8AAAAAAADwP/95n1ATROM/AAAAAAAAAAAAAAAAAAAAAAAAAAAAAAAA/dVPlieJ3j/91U+WJ4neP/95n1ATROM//dVPlieJ3j/91U+WJ4nePwAAAAAAAAAAAAAAAAAAAAAAAAAAAADw//3VT5Ynid4//3mfUBNE0z8AAAAAAAAAAP3VT5Ynid4//dVPlieJ3j8AAAAAAAAAAAAAAAAAAPD/AAAAAAAA8P8AAAAAAADw/wAAAAAAAPD/AAAAAAAA8P8AAAAAAADw/wAAAAAAAPD/AAAAAAAA8P8AAAAAAAAAAA==\",\"dtype\":\"float64\",\"shape\":[50]}},\"selected\":{\"id\":\"4072\",\"type\":\"Selection\"},\"selection_policy\":{\"id\":\"4073\",\"type\":\"UnionRenderers\"}},\"id\":\"3638\",\"type\":\"ColumnDataSource\"},{\"attributes\":{\"callback\":null,\"data\":{\"left\":{\"__ndarray__\":\"Sd85uJXFFj/Zgs2E6OK4P517FtIP4Mg/5xrjsFWn0j//97p4o97YPxfVkkDxFd8/GFk1hJ+m4j+kRyFoRsLlPzA2DUzt3eg/vCT5L5T56z9IE+UTOxXvP+qA6PtwGPE/MHjebUSm8j92b9TfFzT0P7xmylHrwfU/Al7Aw75P9z9IVbY1kt34P45MrKdla/o/1EOiGTn5+z8aO5iLDIf9P2Ayjv3fFP8/1BTCt1lRAEB3EL1wQxgBQBoMuCkt3wFAvQez4hamAkBgA66bAG0DQAP/qFTqMwRApvqjDdT6BEBJ9p7GvcEFQOzxmX+niAZAj+2UOJFPB0Ay6Y/xehYIQNXkiqpk3QhAeOCFY06kCUAb3IAcOGsKQL7Xe9UhMgtAYdN2jgv5C0AEz3FH9b8MQKfKbADfhg1ASsZnuchNDkDtwWJyshQPQJC9XSuc2w9Amlws8kJREEBr2qnOt7QQQD1YJ6ssGBFADtakh6F7EUDgUyJkFt8RQLHRn0CLQhJAg08dHQCmEkBUzZr5dAkTQA==\",\"dtype\":\"float64\",\"shape\":[50]},\"right\":{\"__ndarray__\":\"2YLNhOjiuD+dexbSD+DIP+ca47BVp9I///e6eKPe2D8X1ZJA8RXfPxhZNYSfpuI/pEchaEbC5T8wNg1M7d3oP7wk+S+U+es/SBPlEzsV7z/qgOj7cBjxPzB43m1EpvI/dm/U3xc09D+8ZspR68H1PwJewMO+T/c/SFW2NZLd+D+OTKynZWv6P9RDohk5+fs/GjuYiwyH/T9gMo793xT/P9QUwrdZUQBAdxC9cEMYAUAaDLgpLd8BQL0Hs+IWpgJAYAOumwBtA0AD/6hU6jMEQKb6ow3U+gRASfaexr3BBUDs8Zl/p4gGQI/tlDiRTwdAMumP8XoWCEDV5IqqZN0IQHjghWNOpAlAG9yAHDhrCkC+13vVITILQGHTdo4L+QtABM9xR/W/DECnymwA34YNQErGZ7nITQ5A7cFicrIUD0CQvV0rnNsPQJpcLPJCURBAa9qpzre0EEA9WCerLBgRQA7WpIehexFA4FMiZBbfEUCx0Z9Ai0ISQINPHR0AphJAVM2a+XQJE0AmSxjW6WwTQA==\",\"dtype\":\"float64\",\"shape\":[50]},\"top\":{\"__ndarray__\":\"BsCkhzq1BUDhiuVj2AQFQBafexTckgRAsoKL5THLA0Bn4s/ohIsBQHMSVN5TvwBAy6iD95wRAEDc8YNduJoAQM6mdCjRyf8/24/4pNkIAEBpWf9WRQj/P1MgAxPBnv0/UyADE8Ge/T/OB1ApAHX5P/6nd3Od5vg/f/WT5Umi9z/uo3g0kHr1P08SvEO20vE/ABdsEUXR8j9uxVBgi6nwP/427/gc5uw/f7LjjVNE8T8/zHgLCwvrP/95n1ATRNM/AAAAAAAA8P/91U+WJ4nePwAAAAAAAAAA/dVPlieJ3j//eZ9QE0TTP/6nd3Od5ug//dVPlieJ7j8AAAAAAAAAAAAAAAAAAPD//3mfUBNE0z/+p3dzneboPwAAAAAAAPD/AAAAAAAA8P8AAAAAAADw/wAAAAAAAPD/AAAAAAAAAAAAAAAAAAAAAAAAAAAAAAAAAAAAAAAA8P8AAAAAAADw/wAAAAAAAPD/AAAAAAAA8P8AAAAAAADw/wAAAAAAAPD/AAAAAAAA8P8AAAAAAAAAAA==\",\"dtype\":\"float64\",\"shape\":[50]}},\"selected\":{\"id\":\"3898\",\"type\":\"Selection\"},\"selection_policy\":{\"id\":\"3899\",\"type\":\"UnionRenderers\"}},\"id\":\"3203\",\"type\":\"ColumnDataSource\"},{\"attributes\":{\"source\":{\"id\":\"3343\",\"type\":\"ColumnDataSource\"}},\"id\":\"3347\",\"type\":\"CDSView\"},{\"attributes\":{\"callback\":null,\"data\":{\"left\":{\"__ndarray__\":\"85buF0vFBj89EsHmQTmqP2oUXj1pNro/2s+twxiowz+Alazo/DTKP5Ot1YbwYNA/ZhBVmWKn0z85c9Sr1O3WPwzWU75GNNo/3zjT0Lh63T/YTalxlWDgP0L/6HrOA+I/q7AohAen4z8VYmiNQErlP34TqJZ57eY/6MTnn7KQ6D9Rdiep6zPqP7onZ7Ik1+s/JNmmu1167T+NiubElh3vP/sdE+dnYPA/sPayawQy8T9lz1LwoAPyPxqo8nQ91fI/zoCS+dmm8z+DWTJ+dnj0Pzgy0gITSvU/7Apyh68b9j+h4xEMTO32P1a8sZDovvc/C5VRFYWQ+D+/bfGZIWL5P3RGkR6+M/o/KR8xo1oF+z/d99An99b7P5LQcKyTqPw/R6kQMTB6/T/8gbC1zEv+P7BaUDppHf8/ZTPwvgXv/z8NBsghUWAAQGjyF2QfyQBAwt5npu0xAUAcy7fou5oBQHe3ByuKAwJA0aNXbVhsAkAskKevJtUCQIZ89/H0PQNA4GhHNMOmA0A7VZd2kQ8EQA==\",\"dtype\":\"float64\",\"shape\":[50]},\"right\":{\"__ndarray__\":\"PRLB5kE5qj9qFF49aTa6P9rPrcMYqMM/gJWs6Pw0yj+TrdWG8GDQP2YQVZlip9M/OXPUq9Tt1j8M1lO+RjTaP98409C4et0/2E2pcZVg4D9C/+h6zgPiP6uwKIQHp+M/FWJojUBK5T9+E6iWee3mP+jE55+ykOg/UXYnqesz6j+6J2eyJNfrPyTZprtdeu0/jYrmxJYd7z/7HRPnZ2DwP7D2smsEMvE/Zc9S8KAD8j8aqPJ0PdXyP86AkvnZpvM/g1kyfnZ49D84MtICE0r1P+wKcoevG/Y/oeMRDEzt9j9WvLGQ6L73PwuVURWFkPg/v23xmSFi+T90RpEevjP6PykfMaNaBfs/3ffQJ/fW+z+S0HCsk6j8P0epEDEwev0//IGwtcxL/j+wWlA6aR3/P2Uz8L4F7/8/DQbIIVFgAEBo8hdkH8kAQMLeZ6btMQFAHMu36LuaAUB3twcrigMCQNGjV21YbAJALJCnrybVAkCGfPfx9D0DQOBoRzTDpgNAO1WXdpEPBECVQee4X3gEQA==\",\"dtype\":\"float64\",\"shape\":[50]},\"top\":{\"__ndarray__\":\"R8Wleq9FBEA1vvBYrlgDQP69mRb2rAJAxGqjW2eNA0BPIzybMTYCQHMSVN5TvwBAbomROa5c/j/+TVsKYrf/P5C2jzsQGPw/nrr4runA+j/v5iiMhtj7P5C2jzsQGPw/7vBA62hV/D/2MLzRryL6P39YxyQYFfg/z/DjF7uj9j/+kAtiWBX2P4DeJ9QE0fQ/bsVQYIup8D8BQ7BX9l32P08SvEO20vE/f1jHJBgV+D8AAAAAAADwP/95n1ATROM//3mfUBNE4z9uxVBgi6nwP59E5FmKVvI//qd3c53m6D8BQ7BX9l3mP/95n1ATRNM//3mfUBNE4z/+p3dzneboPwAAAAAAAPD/AAAAAAAAAAAAAAAAAAAAAP95n1ATROM/TxK8Q7bS8T/+kAtiWBX2P/3VT5Ynid4//3mfUBNE4z//eZ9QE0TTPwAAAAAAAPD//dVPlieJ3j//eZ9QE0TTP/95n1ATRNM/AAAAAAAA8P//eZ9QE0TjPwFDsFf2XeY//3mfUBNE0z/91U+WJ4nePw==\",\"dtype\":\"float64\",\"shape\":[50]}},\"selected\":{\"id\":\"3970\",\"type\":\"Selection\"},\"selection_policy\":{\"id\":\"3971\",\"type\":\"UnionRenderers\"}},\"id\":\"3383\",\"type\":\"ColumnDataSource\"},{\"attributes\":{\"bottom\":{\"value\":0},\"fill_alpha\":{\"value\":0.05},\"fill_color\":{\"value\":\"#CB4777\"},\"left\":{\"field\":\"left\"},\"line_alpha\":{\"value\":0.05},\"line_color\":{\"value\":\"#7E03A7\"},\"right\":{\"field\":\"right\"},\"top\":{\"field\":\"top\"}},\"id\":\"3639\",\"type\":\"Quad\"},{\"attributes\":{\"bottom\":{\"value\":0},\"fill_alpha\":{\"value\":0.05},\"fill_color\":{\"value\":\"#CB4777\"},\"left\":{\"field\":\"left\"},\"line_alpha\":{\"value\":0.05},\"line_color\":{\"value\":\"#7E03A7\"},\"right\":{\"field\":\"right\"},\"top\":{\"field\":\"top\"}},\"id\":\"3204\",\"type\":\"Quad\"},{\"attributes\":{\"callback\":null,\"data\":{\"left\":{\"__ndarray__\":\"Sd85uJXFFj/pFUfGF6WxP60OkBM/osE/ZpL8Q/Jxyj8PizS60qDRP+vMalKsCNY/yA6h6oVw2j+kUNeCX9jeP0DJho0coOE/LuqhWQnU4z8cC70l9gfmPwos2PHiO+g/+Uzzvc9v6j/nbQ6KvKPsP9WOKVap1+4/4VciEcuF8D9Y6C93wZ/xP894Pd23ufI/RglLQ67T8z+9mVippO30PzQqZg+bB/Y/q7pzdZEh9z8iS4Hbhzv4P5nbjkF+Vfk/EWycp3Rv+j+I/KkNa4n7P/+Mt3Nho/w/dh3F2Ve9/T/trdI/Ttf+P2Q+4KVE8f8/buf2hZ2FAECpr/24mBIBQOV3BOyTnwFAIUALH48sAkBcCBJSirkCQJjQGIWFRgNA05gfuIDTA0APYSbre2AEQEopLR537QRAhvEzUXJ6BUDBuTqEbQcGQP2BQbdolAZAOEpI6mMhB0B0Ek8dX64HQK/aVVBaOwhA66Jcg1XICEAma2O2UFUJQGIzaulL4glAnvtwHEdvCkDZw3dPQvwKQA==\",\"dtype\":\"float64\",\"shape\":[50]},\"right\":{\"__ndarray__\":\"6RVHxhelsT+tDpATP6LBP2aS/EPycco/D4s0utKg0T/rzGpSrAjWP8gOoeqFcNo/pFDXgl/Y3j9AyYaNHKDhPy7qoVkJ1OM/HAu9JfYH5j8KLNjx4jvoP/lM873Pb+o/520Oiryj7D/VjilWqdfuP+FXIhHLhfA/WOgvd8Gf8T/PeD3dt7nyP0YJS0Ou0/M/vZlYqaTt9D80KmYPmwf2P6u6c3WRIfc/IkuB24c7+D+Z245BflX5PxFsnKd0b/o/iPypDWuJ+z//jLdzYaP8P3YdxdlXvf0/7a3SP07X/j9kPuClRPH/P27n9oWdhQBAqa/9uJgSAUDldwTsk58BQCFACx+PLAJAXAgSUoq5AkCY0BiFhUYDQNOYH7iA0wNAD2Em63tgBEBKKS0ed+0EQIbxM1FyegVAwbk6hG0HBkD9gUG3aJQGQDhKSOpjIQdAdBJPHV+uB0Cv2lVQWjsIQOuiXINVyAhAJmtjtlBVCUBiM2rpS+IJQJ77cBxHbwpA2cN3T0L8CkAUjH6CPYkLQA==\",\"dtype\":\"float64\",\"shape\":[50]},\"top\":{\"__ndarray__\":\"/pALYlgVBkBI3Uu7tB8FQH8yOkUr+ARADx28H2r8BEC9uORs8eACQE8SvEO20gFATyM8mzE2AkBLtDmAP3oBQM6mdCjRyf8/QDLEwXjGAEAsEhdktGwAQP8ASm7sCgFAHlHkUBnK/D/u8EDraFX8P+ZnWBSe3Pc/zgdQKQB1+T8XXHMJ8ID4PwC9T6gJovk/HyMMLo8n9z+XfUs166/zP3/1k+VJovc/f/mbIKPJ9T/+kAtiWBX2P+665EXVS/g/f7LjjVNE8T9/+Zsgo8n1P37JT5+YFfQ//dVPlieJ7j//eZ9QE0TjP/3VT5Ynid4//3mfUBNE0z8AAAAAAAAAAAAAAAAAAAAA/3mfUBNE0z8AAAAAAADw/wAAAAAAAPD/AAAAAAAA8P8AAAAAAADw/wAAAAAAAPD/AAAAAAAA8P8AAAAAAADw/wAAAAAAAAAAAAAAAAAA8P8AAAAAAAAAAP95n1ATRNM//3mfUBNE0z8AAAAAAADw/wAAAAAAAPD//3mfUBNE0z/91U+WJ4nePw==\",\"dtype\":\"float64\",\"shape\":[50]}},\"selected\":{\"id\":\"3956\",\"type\":\"Selection\"},\"selection_policy\":{\"id\":\"3957\",\"type\":\"UnionRenderers\"}},\"id\":\"3348\",\"type\":\"ColumnDataSource\"},{\"attributes\":{\"bottom\":{\"value\":0},\"fill_alpha\":{\"value\":0.05},\"fill_color\":{\"value\":\"#CB4777\"},\"left\":{\"field\":\"left\"},\"line_alpha\":{\"value\":0.05},\"line_color\":{\"value\":\"#7E03A7\"},\"right\":{\"field\":\"right\"},\"top\":{\"field\":\"top\"}},\"id\":\"3384\",\"type\":\"Quad\"},{\"attributes\":{\"bottom\":{\"value\":0},\"fill_alpha\":{\"value\":0.1},\"fill_color\":{\"value\":\"#1f77b4\"},\"left\":{\"field\":\"left\"},\"line_alpha\":{\"value\":0.1},\"line_color\":{\"value\":\"#1f77b4\"},\"right\":{\"field\":\"right\"},\"top\":{\"field\":\"top\"}},\"id\":\"3205\",\"type\":\"Quad\"},{\"attributes\":{\"bottom\":{\"value\":0},\"fill_alpha\":{\"value\":0.05},\"fill_color\":{\"value\":\"#CB4777\"},\"left\":{\"field\":\"left\"},\"line_alpha\":{\"value\":0.05},\"line_color\":{\"value\":\"#7E03A7\"},\"right\":{\"field\":\"right\"},\"top\":{\"field\":\"top\"}},\"id\":\"3349\",\"type\":\"Quad\"},{\"attributes\":{\"bottom\":{\"value\":0},\"fill_alpha\":{\"value\":0.1},\"fill_color\":{\"value\":\"#1f77b4\"},\"left\":{\"field\":\"left\"},\"line_alpha\":{\"value\":0.1},\"line_color\":{\"value\":\"#1f77b4\"},\"right\":{\"field\":\"right\"},\"top\":{\"field\":\"top\"}},\"id\":\"3385\",\"type\":\"Quad\"},{\"attributes\":{\"bottom\":{\"value\":0},\"fill_alpha\":{\"value\":0.05},\"fill_color\":{\"value\":\"#CB4777\"},\"left\":{\"field\":\"left\"},\"line_alpha\":{\"value\":0.05},\"line_color\":{\"value\":\"#7E03A7\"},\"right\":{\"field\":\"right\"},\"top\":{\"field\":\"top\"}},\"id\":\"3624\",\"type\":\"Quad\"},{\"attributes\":{\"data_source\":{\"id\":\"3203\",\"type\":\"ColumnDataSource\"},\"glyph\":{\"id\":\"3204\",\"type\":\"Quad\"},\"hover_glyph\":null,\"muted_glyph\":null,\"nonselection_glyph\":{\"id\":\"3205\",\"type\":\"Quad\"},\"selection_glyph\":null,\"view\":{\"id\":\"3207\",\"type\":\"CDSView\"}},\"id\":\"3206\",\"type\":\"GlyphRenderer\"},{\"attributes\":{\"data_source\":{\"id\":\"3383\",\"type\":\"ColumnDataSource\"},\"glyph\":{\"id\":\"3384\",\"type\":\"Quad\"},\"hover_glyph\":null,\"muted_glyph\":null,\"nonselection_glyph\":{\"id\":\"3385\",\"type\":\"Quad\"},\"selection_glyph\":null,\"view\":{\"id\":\"3387\",\"type\":\"CDSView\"}},\"id\":\"3386\",\"type\":\"GlyphRenderer\"},{\"attributes\":{\"bottom\":{\"value\":0},\"fill_alpha\":{\"value\":0.1},\"fill_color\":{\"value\":\"#1f77b4\"},\"left\":{\"field\":\"left\"},\"line_alpha\":{\"value\":0.1},\"line_color\":{\"value\":\"#1f77b4\"},\"right\":{\"field\":\"right\"},\"top\":{\"field\":\"top\"}},\"id\":\"3350\",\"type\":\"Quad\"},{\"attributes\":{\"data_source\":{\"id\":\"3348\",\"type\":\"ColumnDataSource\"},\"glyph\":{\"id\":\"3349\",\"type\":\"Quad\"},\"hover_glyph\":null,\"muted_glyph\":null,\"nonselection_glyph\":{\"id\":\"3350\",\"type\":\"Quad\"},\"selection_glyph\":null,\"view\":{\"id\":\"3352\",\"type\":\"CDSView\"}},\"id\":\"3351\",\"type\":\"GlyphRenderer\"},{\"attributes\":{\"source\":{\"id\":\"3203\",\"type\":\"ColumnDataSource\"}},\"id\":\"3207\",\"type\":\"CDSView\"},{\"attributes\":{\"source\":{\"id\":\"3383\",\"type\":\"ColumnDataSource\"}},\"id\":\"3387\",\"type\":\"CDSView\"},{\"attributes\":{\"data_source\":{\"id\":\"3638\",\"type\":\"ColumnDataSource\"},\"glyph\":{\"id\":\"3639\",\"type\":\"Quad\"},\"hover_glyph\":null,\"muted_glyph\":null,\"nonselection_glyph\":{\"id\":\"3640\",\"type\":\"Quad\"},\"selection_glyph\":null,\"view\":{\"id\":\"3642\",\"type\":\"CDSView\"}},\"id\":\"3641\",\"type\":\"GlyphRenderer\"},{\"attributes\":{},\"id\":\"4064\",\"type\":\"Selection\"},{\"attributes\":{\"callback\":null,\"data\":{\"left\":{\"__ndarray__\":\"Y1p1ACvGJj86+3oQRt2oP43A+vri0bg/vwHcdpGawj83ozpwMczIP69EmWnR/c4/E/N7sbiX0j/PQyuuiLDVP4uU2qpYydg/R+WJpyji2z8DNjmk+PreP2BDdFDkCeE/vuvLTkyW4j8clCNNtCLkP3o8e0scr+U/2OTSSYQ75z82jSpI7MfoP5Q1gkZUVOo/8t3ZRLzg6z9QhjFDJG3tP64uiUGM+e4/hmvwH/pC8D+1PxwfLgnxP+QTSB5iz/E/E+hzHZaV8j9CvJ8cylvzP3GQyxv+IfQ/oGT3GjLo9D/POCMaZq71P/4MTxmadPY/LeF6GM469z9ctaYXAgH4P4uJ0hY2x/g/ul3+FWqN+T/pMSoVnlP6PxgGVhTSGfs/R9qBEwbg+z92rq0SOqb8P6WC2RFubP0/1FYFEaIy/j8DKzEQ1vj+PzL/XA8Kv/8/sGlEB59CAEDHU9oGuaUAQN89cAbTCAFA9ycGBu1rAUAOEpwFB88BQCX8MQUhMgJAPebHBDuVAkBV0F0EVfgCQA==\",\"dtype\":\"float64\",\"shape\":[50]},\"right\":{\"__ndarray__\":\"Ovt6EEbdqD+NwPr64tG4P78B3HaRmsI/N6M6cDHMyD+vRJlp0f3OPxPze7G4l9I/z0Mrroiw1T+LlNqqWMnYP0fliaco4ts/AzY5pPj63j9gQ3RQ5AnhP77ry05MluI/HJQjTbQi5D96PHtLHK/lP9jk0kmEO+c/No0qSOzH6D+UNYJGVFTqP/Ld2US84Os/UIYxQyRt7T+uLolBjPnuP4Zr8B/6QvA/tT8cHy4J8T/kE0geYs/xPxPocx2WlfI/QryfHMpb8z9xkMsb/iH0P6Bk9xoy6PQ/zzgjGmau9T/+DE8ZmnT2Py3hehjOOvc/XLWmFwIB+D+LidIWNsf4P7pd/hVqjfk/6TEqFZ5T+j8YBlYU0hn7P0fagRMG4Ps/dq6tEjqm/D+lgtkRbmz9P9RWBRGiMv4/AysxENb4/j8y/1wPCr//P7BpRAefQgBAx1PaBrmlAEDfPXAG0wgBQPcnBgbtawFADhKcBQfPAUAl/DEFITICQD3mxwQ7lQJAVdBdBFX4AkBsuvMDb1sDQA==\",\"dtype\":\"float64\",\"shape\":[50]},\"top\":{\"__ndarray__\":\"i7vzKse8BEDTYdWdXmkEQMnUTuEN1wNAH1saPKOmA0D3NobXQn0DQMD8TZDR5AJAzy2oteeTAkAF5ZN7wHUCQL245Gzx4AJA7iw20cyCAkDGkzpF0kgCQLXCoU57SgFAS7Q5gD96AUDsAMsrILgAQMuog/ecEQBAOH1DbN2wAEB+hp9Horf9P38MAPeOc/o/boKgCJVL+j8eUeRQGcr8PwC9T6gJovk//9fD9Kea+j/v5iiMhtj7P/3VT5Ynif4/AL1PqAmi+T/uuuRF1Uv4P59bUGvPJ/U//pALYlgV9j9/WMckGBX4P4Bg5rBaF/k/oIeUsYC0+D9/+Zsgo8n1P59E5FmKVvI//qd3c53m6D9uxVBgi6nwPwAAAAAAAPA//jbv+Bzm7D9/suONU0TxP37JT5+YFfQ/P8x4CwsL6z/91U+WJ4neP/6nd3Od5ug//dVPlieJ7j/+Nu/4HObsP5d9SzXrr/M/fslPn5gV9D9+4Luw3eb2P/6nd3Od5ug/AAAAAAAA8P//eZ9QE0TTPw==\",\"dtype\":\"float64\",\"shape\":[50]}},\"selected\":{\"id\":\"3900\",\"type\":\"Selection\"},\"selection_policy\":{\"id\":\"3901\",\"type\":\"UnionRenderers\"}},\"id\":\"3208\",\"type\":\"ColumnDataSource\"},{\"attributes\":{\"source\":{\"id\":\"3348\",\"type\":\"ColumnDataSource\"}},\"id\":\"3352\",\"type\":\"CDSView\"},{\"attributes\":{\"callback\":null,\"data\":{\"left\":{\"__ndarray__\":\"Y1p1ACvGJj+V5UBge8KvP+iqwEoYt78/g3GwcnnGxz+SjQDAZrHPP9BUqAYqztM/12JQraDD1z/fcPhTF7nbP+Z+oPqNrt8/d0akUALS4T97TfijvczjP39UTPd4x+U/glugSjTC5z+GYvSd77zpP4ppSPGqt+s/jXCcRGay7T+Rd/CXIa3vP0o/onXu0/A/zEJMH0zR8T9ORvbIqc7yP9BJoHIHzPM/Uk1KHGXJ9D/UUPTFwsb1P1VUnm8gxPY/11dIGX7B9z9ZW/LC2774P9tenGw5vPk/XWJGFpe5+j/fZfC/9Lb7P2BpmmlStPw/4mxEE7Cx/T9kcO68Da/+P+ZzmGZrrP8/szshiORUAEB0PfZck9MAQDU/yzFCUgFA9kCgBvHQAUC3QnXbn08CQHhESrBOzgJAOUYfhf1MA0D6R/RZrMsDQLtJyS5bSgRAfEueAwrJBEA9TXPYuEcFQP5OSK1nxgVAvlAdghZFBkB/UvJWxcMGQEBUxyt0QgdAAVacACPBB0DCV3HV0T8IQA==\",\"dtype\":\"float64\",\"shape\":[50]},\"right\":{\"__ndarray__\":\"leVAYHvCrz/oqsBKGLe/P4NxsHJ5xsc/ko0AwGaxzz/QVKgGKs7TP9diUK2gw9c/33D4Uxe52z/mfqD6ja7fP3dGpFAC0uE/e034o73M4z9/VEz3eMflP4JboEo0wuc/hmL0ne+86T+KaUjxqrfrP41wnERmsu0/kXfwlyGt7z9KP6J17tPwP8xCTB9M0fE/Tkb2yKnO8j/QSaByB8zzP1JNShxlyfQ/1FD0xcLG9T9VVJ5vIMT2P9dXSBl+wfc/WVvywtu++D/bXpxsObz5P11iRhaXufo/32Xwv/S2+z9gaZppUrT8P+JsRBOwsf0/ZHDuvA2v/j/mc5hma6z/P7M7IYjkVABAdD32XJPTAEA1P8sxQlIBQPZAoAbx0AFAt0J1259PAkB4REqwTs4CQDlGH4X9TANA+kf0WazLA0C7SckuW0oEQHxLngMKyQRAPU1z2LhHBUD+TkitZ8YFQL5QHYIWRQZAf1LyVsXDBkBAVMcrdEIHQAFWnAAjwQdAwldx1dE/CECDWUaqgL4IQA==\",\"dtype\":\"float64\",\"shape\":[50]},\"top\":{\"__ndarray__\":\"eGxX1l8ZA0Dzx4O8UMECQDdu3jhovQFAieU6d4tuAUB/suONU0QBQIuM4dh8EQFA66uVC5fUAEB/m3d8DnP+P/6+44Tit/s/WAwCcvbN+T/qY2tx+2X3P/6nd3Od5vg/fwwA945z+j+XfUs166/zPwAAAAAAAPA/TxK8Q7bS8T+A3ifUBNH0P5d9SzXrr/M/7qN4NJB69T8AF2wRRdHyP39YxyQYFfg/P8x4CwsL6z//eZ9QE0TjPwAAAAAAAPA//3mfUBNE0z8AAAAAAADw/wAAAAAAAAAA/3mfUBNE0z8BQ7BX9l3mPwFDsFf2XeY/AAAAAAAA8D8BQ7BX9l3mP/95n1ATRNM//3mfUBNE0z8BQ7BX9l3mPwAAAAAAAAAAAAAAAAAA8P//eZ9QE0TTPwAAAAAAAAAA/dVPlieJ3j/91U+WJ4nePz/MeAsLC+s/AAAAAAAA8D/91U+WJ4neP/95n1ATRNM/AAAAAAAAAAAAAAAAAAAAAAAAAAAAAAAAAAAAAAAAAAAAAAAAAAAAAA==\",\"dtype\":\"float64\",\"shape\":[50]}},\"selected\":{\"id\":\"3972\",\"type\":\"Selection\"},\"selection_policy\":{\"id\":\"3973\",\"type\":\"UnionRenderers\"}},\"id\":\"3388\",\"type\":\"ColumnDataSource\"},{\"attributes\":{},\"id\":\"4063\",\"type\":\"UnionRenderers\"},{\"attributes\":{\"bottom\":{\"value\":0},\"fill_alpha\":{\"value\":0.05},\"fill_color\":{\"value\":\"#CB4777\"},\"left\":{\"field\":\"left\"},\"line_alpha\":{\"value\":0.05},\"line_color\":{\"value\":\"#7E03A7\"},\"right\":{\"field\":\"right\"},\"top\":{\"field\":\"top\"}},\"id\":\"3209\",\"type\":\"Quad\"},{\"attributes\":{\"callback\":null,\"data\":{\"left\":{\"__ndarray__\":\"20vdbZSgOT8EV7lX01qjP7h5S8MyQbM/7ke62vvUvD8SixR5YjTDPy3yywRH/sc/SFmDkCvIzD8xYB0OCMnQP78T+VP6LdM/TcfUmeyS1T/aerDf3vfXP2cujCXRXNo/9eFna8PB3D+DlUOxtSbfP4ekj/vTxeA/Tn59Hk344T8VWGtBxirjP9wxWWQ/XeQ/owtHh7iP5T9p5TSqMcLmPzC/Is2q9Oc/95gQ8CMn6T+9cv4SnVnqP4RM7DUWjOs/SybaWI++7D8SAMh7CPHtP9nZtZ6BI+8/0NnRYP0q8D+zxkjyOcTwP5ezv4N2XfE/eqA2FbP28T9eja2m74/yP0F6JDgsKfM/JGebyWjC8z8IVBJbpVv0P+tAiezh9PQ/zy0Afh6O9T+yGncPWyf2P5UH7qCXwPY/efRkMtRZ9z9c4dvDEPP3Pz/OUlVNjPg/I7vJ5okl+T8GqEB4xr75P+mUtwkDWPo/zYEumz/x+j+wbqUsfIr7P5RbHL64I/w/d0iTT/W8/D9aNQrhMVb9Pw==\",\"dtype\":\"float64\",\"shape\":[50]},\"right\":{\"__ndarray__\":\"BFe5V9Naoz+4eUvDMkGzP+5Hutr71Lw/EosUeWI0wz8t8ssER/7HP0hZg5AryMw/MWAdDgjJ0D+/E/lT+i3TP03H1JnsktU/2nqw39731z9nLowl0VzaP/XhZ2vDwdw/g5VDsbUm3z+HpI/708XgP05+fR5N+OE/FVhrQcYq4z/cMVlkP13kP6MLR4e4j+U/aeU0qjHC5j8wvyLNqvTnP/eYEPAjJ+k/vXL+Ep1Z6j+ETOw1FozrP0sm2liPvuw/EgDIewjx7T/Z2bWegSPvP9DZ0WD9KvA/s8ZI8jnE8D+Xs7+Ddl3xP3qgNhWz9vE/Xo2tpu+P8j9BeiQ4LCnzPyRnm8lowvM/CFQSW6Vb9D/rQIns4fT0P88tAH4ejvU/shp3D1sn9j+VB+6gl8D2P3n0ZDLUWfc/XOHbwxDz9z8/zlJVTYz4PyO7yeaJJfk/BqhAeMa++T/plLcJA1j6P82BLps/8fo/sG6lLHyK+z+UWxy+uCP8P3dIk0/1vPw/WjUK4TFW/T89IoFybu/9Pw==\",\"dtype\":\"float64\",\"shape\":[50]},\"top\":{\"__ndarray__\":\"/u4vBu1r/T8uZVo2mjf9P+7wQOtoVfw//uony5NE/z8uZVo2mjf9P26JkTmuXP4/FnPfGjVS+z//07u5TnP8PxdccwnwgPg/5mdYFJ7c9z9YDAJy9s35P39YxyQYFfg/F1xzCfCA+D+AYOawWhf5PxdccwnwgPg//qd3c53m+D9/+Zsgo8n1PwAXbBFF0fI/6mNrcftl9z8QwftVxnX0P+6jeDSQevU/6mNrcftl9z9/suONU0TxP/427/gc5uw/AUOwV/Zd5j+XfUs166/zPwAAAAAAAPA//dVPlieJ7j9/suONU0TxPz/MeAsLC+s/P8x4CwsL6z9/suONU0TxPwAAAAAAAPA//dVPlieJ7j8AAAAAAAAAAP6nd3Od5ug/AAAAAAAAAAD91U+WJ4neP/95n1ATROM//qd3c53m6D/91U+WJ4nuPwAAAAAAAAAAAAAAAAAAAAAAAAAAAAAAAAAAAAAAAPD//dVPlieJ3j//eZ9QE0TjPwAAAAAAAAAAAAAAAAAAAAD/eZ9QE0TTPw==\",\"dtype\":\"float64\",\"shape\":[50]}},\"selected\":{\"id\":\"3958\",\"type\":\"Selection\"},\"selection_policy\":{\"id\":\"3959\",\"type\":\"UnionRenderers\"}},\"id\":\"3353\",\"type\":\"ColumnDataSource\"},{\"attributes\":{\"bottom\":{\"value\":0},\"fill_alpha\":{\"value\":0.05},\"fill_color\":{\"value\":\"#CB4777\"},\"left\":{\"field\":\"left\"},\"line_alpha\":{\"value\":0.05},\"line_color\":{\"value\":\"#7E03A7\"},\"right\":{\"field\":\"right\"},\"top\":{\"field\":\"top\"}},\"id\":\"3389\",\"type\":\"Quad\"},{\"attributes\":{},\"id\":\"4062\",\"type\":\"Selection\"},{\"attributes\":{\"bottom\":{\"value\":0},\"fill_alpha\":{\"value\":0.1},\"fill_color\":{\"value\":\"#1f77b4\"},\"left\":{\"field\":\"left\"},\"line_alpha\":{\"value\":0.1},\"line_color\":{\"value\":\"#1f77b4\"},\"right\":{\"field\":\"right\"},\"top\":{\"field\":\"top\"}},\"id\":\"3210\",\"type\":\"Quad\"},{\"attributes\":{\"bottom\":{\"value\":0},\"fill_alpha\":{\"value\":0.05},\"fill_color\":{\"value\":\"#CB4777\"},\"left\":{\"field\":\"left\"},\"line_alpha\":{\"value\":0.05},\"line_color\":{\"value\":\"#7E03A7\"},\"right\":{\"field\":\"right\"},\"top\":{\"field\":\"top\"}},\"id\":\"3354\",\"type\":\"Quad\"},{\"attributes\":{\"bottom\":{\"value\":0},\"fill_alpha\":{\"value\":0.1},\"fill_color\":{\"value\":\"#1f77b4\"},\"left\":{\"field\":\"left\"},\"line_alpha\":{\"value\":0.1},\"line_color\":{\"value\":\"#1f77b4\"},\"right\":{\"field\":\"right\"},\"top\":{\"field\":\"top\"}},\"id\":\"3390\",\"type\":\"Quad\"},{\"attributes\":{},\"id\":\"4068\",\"type\":\"Selection\"},{\"attributes\":{\"data_source\":{\"id\":\"3208\",\"type\":\"ColumnDataSource\"},\"glyph\":{\"id\":\"3209\",\"type\":\"Quad\"},\"hover_glyph\":null,\"muted_glyph\":null,\"nonselection_glyph\":{\"id\":\"3210\",\"type\":\"Quad\"},\"selection_glyph\":null,\"view\":{\"id\":\"3212\",\"type\":\"CDSView\"}},\"id\":\"3211\",\"type\":\"GlyphRenderer\"},{\"attributes\":{\"data_source\":{\"id\":\"3388\",\"type\":\"ColumnDataSource\"},\"glyph\":{\"id\":\"3389\",\"type\":\"Quad\"},\"hover_glyph\":null,\"muted_glyph\":null,\"nonselection_glyph\":{\"id\":\"3390\",\"type\":\"Quad\"},\"selection_glyph\":null,\"view\":{\"id\":\"3392\",\"type\":\"CDSView\"}},\"id\":\"3391\",\"type\":\"GlyphRenderer\"},{\"attributes\":{\"bottom\":{\"value\":0},\"fill_alpha\":{\"value\":0.1},\"fill_color\":{\"value\":\"#1f77b4\"},\"left\":{\"field\":\"left\"},\"line_alpha\":{\"value\":0.1},\"line_color\":{\"value\":\"#1f77b4\"},\"right\":{\"field\":\"right\"},\"top\":{\"field\":\"top\"}},\"id\":\"3355\",\"type\":\"Quad\"},{\"attributes\":{},\"id\":\"4071\",\"type\":\"UnionRenderers\"},{\"attributes\":{\"data_source\":{\"id\":\"3353\",\"type\":\"ColumnDataSource\"},\"glyph\":{\"id\":\"3354\",\"type\":\"Quad\"},\"hover_glyph\":null,\"muted_glyph\":null,\"nonselection_glyph\":{\"id\":\"3355\",\"type\":\"Quad\"},\"selection_glyph\":null,\"view\":{\"id\":\"3357\",\"type\":\"CDSView\"}},\"id\":\"3356\",\"type\":\"GlyphRenderer\"},{\"attributes\":{\"source\":{\"id\":\"3208\",\"type\":\"ColumnDataSource\"}},\"id\":\"3212\",\"type\":\"CDSView\"},{\"attributes\":{\"source\":{\"id\":\"3388\",\"type\":\"ColumnDataSource\"}},\"id\":\"3392\",\"type\":\"CDSView\"},{\"attributes\":{\"callback\":null,\"data\":{\"left\":{\"__ndarray__\":\"ak5/EhN4LD/PfqkDzMatPyg/IPqPuL0/dd81+dxGxj9Vn1v1cbHNP5uvwHgDjtI/i4/T9k1D1j97b+Z0mPjZP2tP+fLird0/rheGuJax4D+mh4/3O4ziP573mDbhZuQ/lmeidYZB5j+O16u0KxzoP4ZHtfPQ9uk/fre+MnbR6z92J8hxG6ztP26X0bDAhu8/s4Pt97Kw8D+vO3KXBZ7xP6vz9jZYi/I/p6t71qp48z+jYwB2/WX0P58bhRVQU/U/m9MJtaJA9j+Xi45U9S33P5NDE/RHG/g/j/uXk5oI+T+Lsxwz7fX5P4drodI/4/o/gyMmcpLQ+z9/26oR5b38P3uTL7E3q/0/d0u0UIqY/j9zAznw3IX/P7jd3seXOQBAtjmhF0GwAEC0lWNn6iYBQLLxJbeTnQFAsE3oBj0UAkCuqapW5ooCQKwFbaaPAQNAqmEv9jh4A0CovfFF4u4DQKYZtJWLZQRApHV25TTcBECi0Tg13lIFQKAt+4SHyQVAnom91DBABkCc5X8k2rYGQA==\",\"dtype\":\"float64\",\"shape\":[50]},\"right\":{\"__ndarray__\":\"z36pA8zGrT8oPyD6j7i9P3XfNfncRsY/VZ9b9XGxzT+br8B4A47SP4uP0/ZNQ9Y/e2/mdJj42T9rT/ny4q3dP64XhriWseA/poeP9zuM4j+e95g24WbkP5ZnonWGQeY/jtertCsc6D+GR7Xz0PbpP363vjJ20es/difIcRus7T9ul9GwwIbvP7OD7feysPA/rztylwWe8T+r8/Y2WIvyP6ere9aqePM/o2MAdv1l9D+fG4UVUFP1P5vTCbWiQPY/l4uOVPUt9z+TQxP0Rxv4P4/7l5OaCPk/i7McM+31+T+Ha6HSP+P6P4MjJnKS0Ps/f9uqEeW9/D97ky+xN6v9P3dLtFCKmP4/cwM58NyF/z+43d7HlzkAQLY5oRdBsABAtJVjZ+omAUCy8SW3k50BQLBN6AY9FAJArqmqVuaKAkCsBW2mjwEDQKphL/Y4eANAqL3xReLuA0CmGbSVi2UEQKR1duU03ARAotE4Nd5SBUCgLfuEh8kFQJ6JvdQwQAZAnOV/JNq2BkCaQUJ0gy0HQA==\",\"dtype\":\"float64\",\"shape\":[50]},\"top\":{\"__ndarray__\":\"S8pbI5hAA0Ds0zx3giAEQOmKS3yFoAJAQO8TaoJoAkBPIzybMTYCQAuYl2EfegJAhHuP8eQkAUA0RYVDpkwAQNuP+KTZCABAlzqb3fRR/T9irL2P0zMAQP/Tu7lOc/w/AL1PqAmi+T+AOEQ9QAD+PxZz3xo1Uvs/HyMMLo8n9z/qY2tx+2X3P+6jeDSQevU/6mNrcftl9z+fW1Brzyf1P37JT5+YFfQ/fuC7sN3m9j+A3ifUBNH0P/6nd3Od5ug/P8x4CwsL6z/+Nu/4HObsPwFDsFf2XeY//3mfUBNE4z//eZ9QE0TjP/427/gc5uw//3mfUBNE4z/91U+WJ4nePwAAAAAAAAAAAAAAAAAAAAAAAAAAAADw/wAAAAAAAAAAAAAAAAAA8P8AAAAAAADw/wAAAAAAAPD/AAAAAAAA8P8AAAAAAADw/wAAAAAAAAAAAAAAAAAA8P8AAAAAAADw/wAAAAAAAPD/AAAAAAAA8P8AAAAAAADw/wAAAAAAAAAAAAAAAAAAAAAAAAAAAAAAAA==\",\"dtype\":\"float64\",\"shape\":[50]}},\"selected\":{\"id\":\"3902\",\"type\":\"Selection\"},\"selection_policy\":{\"id\":\"3903\",\"type\":\"UnionRenderers\"}},\"id\":\"3213\",\"type\":\"ColumnDataSource\"},{\"attributes\":{\"source\":{\"id\":\"3353\",\"type\":\"ColumnDataSource\"}},\"id\":\"3357\",\"type\":\"CDSView\"},{\"attributes\":{\"callback\":null,\"data\":{\"left\":{\"__ndarray__\":\"s50hiKvJRj93SchhaASrPzsGuArV1ro/3vNF8roVxD+e5C9fC8DKP6/qDOYttdA/D+OBHFYK1D9v2/ZSfl/XP8/Ta4mmtNo/L8zgv84J3j9H4ip7e6/gP3deZZYPWuI/p9qfsaME5D/XVtrMN6/lPwfTFOjLWec/N09PA2AE6T9ny4ke9K7qP5dHxDmIWew/x8P+VBwE7j/3PzlwsK7vPxTeuUWirPA/LBxXU+yB8T9EWvRgNlfyP1yYkW6ALPM/dNYufMoB9D+MFMyJFNf0P6RSaZderPU/vJAGpaiB9j/UzqOy8lb3P+wMQcA8LPg/BEvezYYB+T8ciXvb0Nb5PzTHGOkarPo/TAW29mSB+z9kQ1MEr1b8P3yB8BH5K/0/lL+NH0MB/j+s/Sotjdb+P8Q7yDrXq/8/7rwypJBAAED6WwGrNasAQAb7z7HaFQFAEpqeuH+AAUAeOW2/JOsBQCrYO8bJVQJANncKzW7AAkBCFtnTEysDQE61p9q4lQNAWlR24V0ABEBm80ToAmsEQA==\",\"dtype\":\"float64\",\"shape\":[50]},\"right\":{\"__ndarray__\":\"d0nIYWgEqz87BrgK1da6P97zRfK6FcQ/nuQvXwvAyj+v6gzmLbXQPw/jgRxWCtQ/b9v2Un5f1z/P02uJprTaPy/M4L/OCd4/R+Iqe3uv4D93XmWWD1riP6fan7GjBOQ/11bazDev5T8H0xToy1nnPzdPTwNgBOk/Z8uJHvSu6j+XR8Q5iFnsP8fD/lQcBO4/9z85cLCu7z8U3rlFoqzwPywcV1PsgfE/RFr0YDZX8j9cmJFugCzzP3TWLnzKAfQ/jBTMiRTX9D+kUmmXXqz1P7yQBqWogfY/1M6jsvJW9z/sDEHAPCz4PwRL3s2GAfk/HIl729DW+T80xxjpGqz6P0wFtvZkgfs/ZENTBK9W/D98gfAR+Sv9P5S/jR9DAf4/rP0qLY3W/j/EO8g616v/P+68MqSQQABA+lsBqzWrAEAG+8+x2hUBQBKanrh/gAFAHjltvyTrAUAq2DvGyVUCQDZ3Cs1uwAJAQhbZ0xMrA0BOtafauJUDQFpUduFdAARAZvNE6AJrBEBykhPvp9UEQA==\",\"dtype\":\"float64\",\"shape\":[50]},\"top\":{\"__ndarray__\":\"b3h4yTtY/z/sAMsrILgAQG6ZDBraHP0/7vBA62hV/D/v5iiMhtj7P//Tu7lOc/w/ZLShoSvQ/T//18P0p5r6P5CfIyrLRvk/f1jHJBgV+D8AvU+oCaL5P38MAPeOc/o/AL1PqAmi+T//eZ9QE0TzP+6jeDSQevU/TxK8Q7bS8T9/suONU0TxP3/1k+VJovc/f/mbIKPJ9T8AAAAAAADwPwAAAAAAAPA/n0TkWYpW8j8AAAAAAADwP/95n1ATROM//jbv+Bzm7D8AAAAAAAAAAP95n1ATROM//dVPlieJ3j8AAAAAAADw//95n1ATROM//3mfUBNE0z//eZ9QE0TjP/95n1ATRNM/AAAAAAAAAAAAAAAAAAAAAAAAAAAAAAAAAAAAAAAA8P8AAAAAAAAAAAAAAAAAAAAA/dVPlieJ3j8AAAAAAAAAAP3VT5Ynid4//jbv+Bzm7D8/zHgLCwvrP/95n1ATRNM/AAAAAAAA8P8AAAAAAADw/wAAAAAAAPD/AAAAAAAA8P8AAAAAAAAAAA==\",\"dtype\":\"float64\",\"shape\":[50]}},\"selected\":{\"id\":\"3974\",\"type\":\"Selection\"},\"selection_policy\":{\"id\":\"3975\",\"type\":\"UnionRenderers\"}},\"id\":\"3393\",\"type\":\"ColumnDataSource\"},{\"attributes\":{},\"id\":\"4066\",\"type\":\"Selection\"},{\"attributes\":{\"source\":{\"id\":\"3638\",\"type\":\"ColumnDataSource\"}},\"id\":\"3642\",\"type\":\"CDSView\"},{\"attributes\":{\"bottom\":{\"value\":0},\"fill_alpha\":{\"value\":0.05},\"fill_color\":{\"value\":\"#CB4777\"},\"left\":{\"field\":\"left\"},\"line_alpha\":{\"value\":0.05},\"line_color\":{\"value\":\"#7E03A7\"},\"right\":{\"field\":\"right\"},\"top\":{\"field\":\"top\"}},\"id\":\"3214\",\"type\":\"Quad\"},{\"attributes\":{\"callback\":null,\"data\":{\"left\":{\"__ndarray__\":\"g19SQvPvQz98+OiLO3GwPx2mpphLXcA//M9Ya/mByD/tfAWfU1PQP9yRXoiqZdQ/zKa3cQF42D+7uxBbWIrcP1XoNKJXTuA/zXLhFoNX4j9E/Y2LrmDkP7yHOgDaaeY/NBLndAVz6D+rnJPpMHzqPyMnQF5chew/mrHs0oeO7j8Jnsyj2UvwP0XjIl5vUPE/gSh5GAVV8j+8bc/SmlnzP/iyJY0wXvQ/NPh7R8Zi9T9wPdIBXGf2P6yCKLzxa/c/6Md+dodw+D8jDdUwHXX5P19SK+uyefo/m5eBpUh++z/X3Ndf3oL8PxMiLhp0h/0/TmeE1AmM/j+KrNqOn5D/P+N4mKSaSgBAgZvDgeXMAEAfvu5eME8BQL3gGTx70QFAWwNFGcZTAkD5JXD2ENYCQJZIm9NbWANANGvGsKbaA0DSjfGN8VwEQHCwHGs83wRADtNHSIdhBUCs9XIl0uMFQEoYngIdZgZA6DrJ32foBkCGXfS8smoHQCSAH5r97AdAwqJKd0hvCEBfxXVUk/EIQA==\",\"dtype\":\"float64\",\"shape\":[50]},\"right\":{\"__ndarray__\":\"fPjoiztxsD8dpqaYS13AP/zPWGv5gcg/7XwFn1NT0D/ckV6IqmXUP8ymt3EBeNg/u7sQW1iK3D9V6DSiV07gP81y4RaDV+I/RP2Ni65g5D+8hzoA2mnmPzQS53QFc+g/q5yT6TB86j8jJ0BeXIXsP5qx7NKHju4/CZ7Mo9lL8D9F4yJeb1DxP4EoeRgFVfI/vG3P0ppZ8z/4siWNMF70PzT4e0fGYvU/cD3SAVxn9j+sgii88Wv3P+jHfnaHcPg/Iw3VMB11+T9fUivrsnn6P5uXgaVIfvs/19zXX96C/D8TIi4adIf9P05nhNQJjP4/iqzajp+Q/z/jeJikmkoAQIGbw4HlzABAH77uXjBPAUC94Bk8e9EBQFsDRRnGUwJA+SVw9hDWAkCWSJvTW1gDQDRrxrCm2gNA0o3xjfFcBEBwsBxrPN8EQA7TR0iHYQVArPVyJdLjBUBKGJ4CHWYGQOg6yd9n6AZAhl30vLJqB0AkgB+a/ewHQMKiSndIbwhAX8V1VJPxCED+56Ax3nMJQA==\",\"dtype\":\"float64\",\"shape\":[50]},\"top\":{\"__ndarray__\":\"4bdzGHacAUCeGKAT2cn+PyBmvIWFhf0/ZkaA6KKt/D9TIAMTwZ79P36Gn0eit/0/gCHYK/su+z/P8OMXu6P2P1gMAnL2zfk/z/DjF7uj9j+fRORZilbyP39YxyQYFfg/7rrkRdVL+D/P8OMXu6P2P5d9SzXrr/M//dVPlieJ7j9/suONU0TxP59E5FmKVvI/TxK8Q7bS8T9+yU+fmBX0PwAAAAAAAPA/AUOwV/Zd9j9/+Zsgo8n1PxDB+1XGdfQ//dVPlieJ7j/91U+WJ4nePwAAAAAAAPD/AUOwV/Zd5j8/zHgLCwvrPz/MeAsLC+s//dVPlieJ3j/91U+WJ4nePwFDsFf2XeY/AAAAAAAAAAAAAAAAAAAAAAAAAAAAAAAAAAAAAAAA8P8AAAAAAADw/wAAAAAAAPD/AAAAAAAAAAAAAAAAAADw/wAAAAAAAPD/AAAAAAAA8P8AAAAAAADw/wAAAAAAAPD/AAAAAAAAAAAAAAAAAADw/wAAAAAAAPD/AAAAAAAAAAD/eZ9QE0TTPw==\",\"dtype\":\"float64\",\"shape\":[50]}},\"selected\":{\"id\":\"3960\",\"type\":\"Selection\"},\"selection_policy\":{\"id\":\"3961\",\"type\":\"UnionRenderers\"}},\"id\":\"3358\",\"type\":\"ColumnDataSource\"},{\"attributes\":{\"bottom\":{\"value\":0},\"fill_alpha\":{\"value\":0.05},\"fill_color\":{\"value\":\"#CB4777\"},\"left\":{\"field\":\"left\"},\"line_alpha\":{\"value\":0.05},\"line_color\":{\"value\":\"#7E03A7\"},\"right\":{\"field\":\"right\"},\"top\":{\"field\":\"top\"}},\"id\":\"3394\",\"type\":\"Quad\"},{\"attributes\":{},\"id\":\"4067\",\"type\":\"UnionRenderers\"},{\"attributes\":{\"bottom\":{\"value\":0},\"fill_alpha\":{\"value\":0.1},\"fill_color\":{\"value\":\"#1f77b4\"},\"left\":{\"field\":\"left\"},\"line_alpha\":{\"value\":0.1},\"line_color\":{\"value\":\"#1f77b4\"},\"right\":{\"field\":\"right\"},\"top\":{\"field\":\"top\"}},\"id\":\"3215\",\"type\":\"Quad\"},{\"attributes\":{\"bottom\":{\"value\":0},\"fill_alpha\":{\"value\":0.05},\"fill_color\":{\"value\":\"#CB4777\"},\"left\":{\"field\":\"left\"},\"line_alpha\":{\"value\":0.05},\"line_color\":{\"value\":\"#7E03A7\"},\"right\":{\"field\":\"right\"},\"top\":{\"field\":\"top\"}},\"id\":\"3359\",\"type\":\"Quad\"},{\"attributes\":{\"bottom\":{\"value\":0},\"fill_alpha\":{\"value\":0.1},\"fill_color\":{\"value\":\"#1f77b4\"},\"left\":{\"field\":\"left\"},\"line_alpha\":{\"value\":0.1},\"line_color\":{\"value\":\"#1f77b4\"},\"right\":{\"field\":\"right\"},\"top\":{\"field\":\"top\"}},\"id\":\"3395\",\"type\":\"Quad\"},{\"attributes\":{},\"id\":\"4072\",\"type\":\"Selection\"},{\"attributes\":{\"bottom\":{\"value\":0},\"fill_alpha\":{\"value\":0.1},\"fill_color\":{\"value\":\"#1f77b4\"},\"left\":{\"field\":\"left\"},\"line_alpha\":{\"value\":0.1},\"line_color\":{\"value\":\"#1f77b4\"},\"right\":{\"field\":\"right\"},\"top\":{\"field\":\"top\"}},\"id\":\"3625\",\"type\":\"Quad\"},{\"attributes\":{\"data_source\":{\"id\":\"3213\",\"type\":\"ColumnDataSource\"},\"glyph\":{\"id\":\"3214\",\"type\":\"Quad\"},\"hover_glyph\":null,\"muted_glyph\":null,\"nonselection_glyph\":{\"id\":\"3215\",\"type\":\"Quad\"},\"selection_glyph\":null,\"view\":{\"id\":\"3217\",\"type\":\"CDSView\"}},\"id\":\"3216\",\"type\":\"GlyphRenderer\"},{\"attributes\":{\"data_source\":{\"id\":\"3393\",\"type\":\"ColumnDataSource\"},\"glyph\":{\"id\":\"3394\",\"type\":\"Quad\"},\"hover_glyph\":null,\"muted_glyph\":null,\"nonselection_glyph\":{\"id\":\"3395\",\"type\":\"Quad\"},\"selection_glyph\":null,\"view\":{\"id\":\"3397\",\"type\":\"CDSView\"}},\"id\":\"3396\",\"type\":\"GlyphRenderer\"},{\"attributes\":{\"bottom\":{\"value\":0},\"fill_alpha\":{\"value\":0.1},\"fill_color\":{\"value\":\"#1f77b4\"},\"left\":{\"field\":\"left\"},\"line_alpha\":{\"value\":0.1},\"line_color\":{\"value\":\"#1f77b4\"},\"right\":{\"field\":\"right\"},\"top\":{\"field\":\"top\"}},\"id\":\"3360\",\"type\":\"Quad\"},{\"attributes\":{\"bottom\":{\"value\":0},\"fill_alpha\":{\"value\":0.1},\"fill_color\":{\"value\":\"#1f77b4\"},\"left\":{\"field\":\"left\"},\"line_alpha\":{\"value\":0.1},\"line_color\":{\"value\":\"#1f77b4\"},\"right\":{\"field\":\"right\"},\"top\":{\"field\":\"top\"}},\"id\":\"3635\",\"type\":\"Quad\"},{\"attributes\":{\"data_source\":{\"id\":\"3358\",\"type\":\"ColumnDataSource\"},\"glyph\":{\"id\":\"3359\",\"type\":\"Quad\"},\"hover_glyph\":null,\"muted_glyph\":null,\"nonselection_glyph\":{\"id\":\"3360\",\"type\":\"Quad\"},\"selection_glyph\":null,\"view\":{\"id\":\"3362\",\"type\":\"CDSView\"}},\"id\":\"3361\",\"type\":\"GlyphRenderer\"},{\"attributes\":{\"source\":{\"id\":\"3213\",\"type\":\"ColumnDataSource\"}},\"id\":\"3217\",\"type\":\"CDSView\"},{\"attributes\":{\"source\":{\"id\":\"3393\",\"type\":\"ColumnDataSource\"}},\"id\":\"3397\",\"type\":\"CDSView\"},{\"attributes\":{\"bottom\":{\"value\":0},\"fill_alpha\":{\"value\":0.05},\"fill_color\":{\"value\":\"#CB4777\"},\"left\":{\"field\":\"left\"},\"line_alpha\":{\"value\":0.05},\"line_color\":{\"value\":\"#7E03A7\"},\"right\":{\"field\":\"right\"},\"top\":{\"field\":\"top\"}},\"id\":\"3634\",\"type\":\"Quad\"},{\"attributes\":{},\"id\":\"4069\",\"type\":\"UnionRenderers\"},{\"attributes\":{\"callback\":null,\"data\":{\"left\":{\"__ndarray__\":\"Y1p1ACvGJj+VGaKyDAWkP+jeIZ2p+bM/BbHy4MzwvT+SwWES+PPDP6EqSrSJ78g/r5MyVhvrzT9ffg18VnPRP+ayAU0f8dM/bef1Hehu1j/1G+rusOzYP3xQ3r95ats/A4XSkELo3T/GXOOwBTPgPwp3XRnqceE/TZHXgc6w4j+Rq1Hqsu/jP9XFy1KXLuU/GOBFu3tt5j9c+r8jYKznP6AUOoxE6+g/4y609Cgq6j8nSS5dDWnrP2tjqMXxp+w/rn0iLtbm7T/yl5yWuiXvPxtZi39PMvA/PWbIs8HR8D9fcwXoM3HxP4CAQhymEPI/oo1/UBiw8j/EmryEik/zP+an+bj87vM/CLU27W6O9D8qwnMh4S31P0zPsFVTzfU/bdzticVs9j+P6Sq+Nwz3P7H2Z/Kpq/c/0wOlJhxL+D/1EOJajur4PxceH48Aivk/OCtcw3Ip+j9aOJn35Mj6P3xF1itXaPs/nlITYMkH/D/AX1CUO6f8P+JsjcitRv0/A3rK/B/m/T8lhwcxkoX+Pw==\",\"dtype\":\"float64\",\"shape\":[50]},\"right\":{\"__ndarray__\":\"lRmisgwFpD/o3iGdqfmzPwWx8uDM8L0/ksFhEvjzwz+hKkq0ie/IP6+TMlYb680/X34NfFZz0T/msgFNH/HTP23n9R3obtY/9Rvq7rDs2D98UN6/eWrbPwOF0pBC6N0/xlzjsAUz4D8Kd10Z6nHhP02R14HOsOI/katR6rLv4z/VxctSly7lPxjgRbt7beY/XPq/I2Cs5z+gFDqMROvoP+MutPQoKuo/J0kuXQ1p6z9rY6jF8afsP659Ii7W5u0/8peclrol7z8bWYt/TzLwPz1myLPB0fA/X3MF6DNx8T+AgEIcphDyP6KNf1AYsPI/xJq8hIpP8z/mp/m4/O7zPwi1Nu1ujvQ/KsJzIeEt9T9Mz7BVU831P23c7YnFbPY/j+kqvjcM9z+x9mfyqav3P9MDpSYcS/g/9RDiWo7q+D8XHh+PAIr5PzgrXMNyKfo/WjiZ9+TI+j98RdYrV2j7P55SE2DJB/w/wF9QlDun/D/ibI3IrUb9PwN6yvwf5v0/JYcHMZKF/j9HlERlBCX/Pw==\",\"dtype\":\"float64\",\"shape\":[50]},\"top\":{\"__ndarray__\":\"cxJU3lO/AEA6E6jbfOIAQJ4YoBPZyf4/zqZ0KNHJ/z+/zoWsc0QAQM8vLFOUpwFAzqZ0KNHJ/z//07u5TnP8Pz/MeAsLC/s/nrr4runA+j+QnyMqy0b5P84HUCkAdfk/5mdYFJ7c9z9mRoDooq38P26CoAiVS/o/n1tQa88n9T9+4Luw3eb2P3/5myCjyfU/ABdsEUXR8j9/+Zsgo8n1P/95n1ATRPM/n0TkWYpW8j9PErxDttLxP3+y441TRPE/gN4n1ATR9D/+kAtiWBX2P08SvEO20vE//jbv+Bzm7D8/zHgLCwvrPxDB+1XGdfQ/l31LNeuv8z9PErxDttLxP+6jeDSQevU//jbv+Bzm7D/91U+WJ4nePwAAAAAAAAAAAAAAAAAAAAD/eZ9QE0TjP/95n1ATROM/AAAAAAAAAAABQ7BX9l3mP/3VT5Ynid4//dVPlieJ3j/91U+WJ4neP/3VT5Ynid4/AAAAAAAAAAD/eZ9QE0TTPwAAAAAAAPD/AAAAAAAAAAAAAAAAAAAAAA==\",\"dtype\":\"float64\",\"shape\":[50]}},\"selected\":{\"id\":\"3904\",\"type\":\"Selection\"},\"selection_policy\":{\"id\":\"3905\",\"type\":\"UnionRenderers\"}},\"id\":\"3218\",\"type\":\"ColumnDataSource\"},{\"attributes\":{\"source\":{\"id\":\"3358\",\"type\":\"ColumnDataSource\"}},\"id\":\"3362\",\"type\":\"CDSView\"},{\"attributes\":{\"callback\":null,\"data\":{\"left\":{\"__ndarray__\":\"Sd85uJXFFj+UbLkZ5f+pPxxeS7Qz+rk/9wLdbTp6wz/gVpQBW/fJP2TVpco9OtA/WX+BFM540z9OKV1eXrfWP0LTOKju9dk/Nn0U8n403T+VE/idhzngP5Do5cLP2OE/ir3T5xd44z+EksEMYBflP39nrzGotuY/eTydVvBV6D9zEYt7OPXpP23meKCAlOs/Z7tmxcgz7T9ikFTqENPuP60yoYcsOfA/Kx0YmtAI8T+oB4+sdNjxPyXyBb8YqPI/otx80bx38z8fx/PjYEf0P5yxavYEF/U/GZzhCKnm9T+XhlgbTbb2PxRxzy3xhfc/kVtGQJVV+D8ORr1SOSX5P4swNGXd9Pk/CBurd4HE+j+FBSKKJZT7PwLwmJzJY/w/f9oPr20z/T/9xIbBEQP+P3qv/dO10v4/95l05lmi/z86wnX8/jgAQHk3sQXRoABAuKzsDqMIAUD2ISgYdXABQDWXYyFH2AFAcwyfKhlAAkCygdoz66cCQPD2FT29DwNAL2xRRo93A0Bu4YxPYd8DQA==\",\"dtype\":\"float64\",\"shape\":[50]},\"right\":{\"__ndarray__\":\"lGy5GeX/qT8cXku0M/q5P/cC3W06esM/4FaUAVv3yT9k1aXKPTrQP1l/gRTOeNM/TildXl631j9C0zio7vXZPzZ9FPJ+NN0/lRP4nYc54D+Q6OXCz9jhP4q90+cXeOM/hJLBDGAX5T9/Z68xqLbmP3k8nVbwVeg/cxGLezj16T9t5niggJTrP2e7ZsXIM+0/YpBU6hDT7j+tMqGHLDnwPysdGJrQCPE/qAePrHTY8T8l8gW/GKjyP6LcfNG8d/M/H8fz42BH9D+csWr2BBf1Pxmc4Qip5vU/l4ZYG0229j8Ucc8t8YX3P5FbRkCVVfg/Dka9Ujkl+T+LMDRl3fT5Pwgbq3eBxPo/hQUiiiWU+z8C8JicyWP8P3/aD69tM/0//cSGwRED/j96r/3TtdL+P/eZdOZZov8/OsJ1/P44AEB5N7EF0aAAQLis7A6jCAFA9iEoGHVwAUA1l2MhR9gBQHMMnyoZQAJAsoHaM+unAkDw9hU9vQ8DQC9sUUaPdwNAbuGMT2HfA0CsVshYM0cEQA==\",\"dtype\":\"float64\",\"shape\":[50]},\"top\":{\"__ndarray__\":\"zzOUb7EB/T/+p3dzneb4P+/mKIyG2Ps/f1jHJBgV+D9ugqAIlUv6PwAAAAAAAABA/r7jhOK3+z/OB1ApAHX5P+665EXVS/g/5mdYFJ7c9z9YDAJy9s35P//Xw/Snmvo/fuC7sN3m9j9+4Luw3eb2PwFDsFf2XfY/EMH7VcZ19D9PErxDttLxP/3VT5Ynid4/n0TkWYpW8j8AAAAAAAAAAP95n1ATROM//qd3c53m6D//eZ9QE0TjPz/MeAsLC+s/AUOwV/Zd5j8BQ7BX9l3mP/95n1ATRNM//dVPlieJ3j//eZ9QE0TTPwAAAAAAAPD//dVPlieJ3j8BQ7BX9l3mP/95n1ATROM/AAAAAAAA8D//eZ9QE0TjPwAAAAAAAPD//3mfUBNE0z8AAAAAAAAAAAAAAAAAAPD//3mfUBNE0z8AAAAAAADw/wAAAAAAAPD/AAAAAAAA8P8AAAAAAADw/wAAAAAAAPD/AAAAAAAA8P8AAAAAAADw/wAAAAAAAPD/AAAAAAAA8P//eZ9QE0TTPw==\",\"dtype\":\"float64\",\"shape\":[50]}},\"selected\":{\"id\":\"3976\",\"type\":\"Selection\"},\"selection_policy\":{\"id\":\"3977\",\"type\":\"UnionRenderers\"}},\"id\":\"3398\",\"type\":\"ColumnDataSource\"},{\"attributes\":{\"callback\":null,\"data\":{\"left\":{\"__ndarray__\":\"M8iLZWAWQT/id1DO7VKxPxrs6m3XQcE/Q5yt9DfayT82Jrg9TDnRP0p+GYF8hdU/X9Z6xKzR2T90LtwH3R3eP0TDnqUGNeE/Tm9Pxx5b4z9YGwDpNoHlP2PHsApPp+c/bXNhLGfN6T93HxJOf/PrP4LLwm+XGe4/xru5yNcf8D/LEZLZ4zLxP9BnaurvRfI/1b1C+/tY8z/aExsMCGz0P99p8xwUf/U/5b/LLSCS9j/qFaQ+LKX3P+9rfE84uPg/9MFUYETL+T/5Fy1xUN76P/5tBYJc8fs/A8TdkmgE/T8JGrajdBf+Pw5wjrSAKv8/CmOzYsYeAEAMjh9rTKgAQA+5i3PSMQFAEuT3e1i7AUAUD2SE3kQCQBc60IxkzgJAGWU8lepXA0AckKidcOEDQB67FKb2agRAIeaArnz0BEAjEe22An4FQCY8Wb+IBwZAKWfFxw6RBkArkjHQlBoHQC69ndgapAdAMOgJ4aAtCEAzE3bpJrcIQDU+4vGsQAlAOGlO+jLKCUA7lLoCuVMKQA==\",\"dtype\":\"float64\",\"shape\":[50]},\"right\":{\"__ndarray__\":\"4ndQzu1SsT8a7Opt10HBP0OcrfQ32sk/Nia4PUw50T9KfhmBfIXVP1/WesSs0dk/dC7cB90d3j9Ew56lBjXhP05vT8ceW+M/WBsA6TaB5T9jx7AKT6fnP21zYSxnzek/dx8STn/z6z+Cy8JvlxnuP8a7ucjXH/A/yxGS2eMy8T/QZ2rq70XyP9W9Qvv7WPM/2hMbDAhs9D/fafMcFH/1P+W/yy0gkvY/6hWkPiyl9z/va3xPOLj4P/TBVGBEy/k/+RctcVDe+j/+bQWCXPH7PwPE3ZJoBP0/CRq2o3QX/j8OcI60gCr/Pwpjs2LGHgBADI4fa0yoAEAPuYtz0jEBQBLk93tYuwFAFA9khN5EAkAXOtCMZM4CQBllPJXqVwNAHJConXDhA0AeuxSm9moEQCHmgK589ARAIxHttgJ+BUAmPFm/iAcGQClnxccOkQZAK5Ix0JQaB0AuvZ3YGqQHQDDoCeGgLQhAMxN26Sa3CEA1PuLxrEAJQDhpTvoyyglAO5S6ArlTCkA9vyYLP90KQA==\",\"dtype\":\"float64\",\"shape\":[50]},\"top\":{\"__ndarray__\":\"b3h4yTtY/z+XOpvd9FH9P58BNAKU+Ps/n1tQa88n9T+gh5SxgLT4P+665EXVS/g/7rrkRdVL+D/uuuRF1Uv4PxDB+1XGdfQ/l31LNeuv8z+XfUs166/zP37JT5+YFfQ/AUOwV/Zd5j//eZ9QE0TjP/95n1ATROM//3mfUBNE4z9uxVBgi6nwP/95n1ATRPM/ABdsEUXR8j8/zHgLCwvrP/95n1ATRNM//dVPlieJ3j8AAAAAAAAAAAAAAAAAAAAAP8x4CwsL6z/91U+WJ4nePwAAAAAAAAAA/dVPlieJ3j8BQ7BX9l3mPwAAAAAAAPD/AAAAAAAA8P8AAAAAAADw/wAAAAAAAPD/AAAAAAAAAAAAAAAAAADw/wAAAAAAAAAAAAAAAAAA8P8AAAAAAAAAAP3VT5Ynid4/AAAAAAAA8D8AAAAAAADw/wAAAAAAAPD/AAAAAAAAAAAAAAAAAAAAAP95n1ATRNM//3mfUBNE0z8AAAAAAADw//427/gc5uw/AAAAAAAA8P8AAAAAAAAAAA==\",\"dtype\":\"float64\",\"shape\":[50]}},\"selected\":{\"id\":\"4070\",\"type\":\"Selection\"},\"selection_policy\":{\"id\":\"4071\",\"type\":\"UnionRenderers\"}},\"id\":\"3633\",\"type\":\"ColumnDataSource\"},{\"attributes\":{\"bottom\":{\"value\":0},\"fill_alpha\":{\"value\":0.05},\"fill_color\":{\"value\":\"#CB4777\"},\"left\":{\"field\":\"left\"},\"line_alpha\":{\"value\":0.05},\"line_color\":{\"value\":\"#7E03A7\"},\"right\":{\"field\":\"right\"},\"top\":{\"field\":\"top\"}},\"id\":\"3219\",\"type\":\"Quad\"},{\"attributes\":{\"callback\":null,\"data\":{\"left\":{\"__ndarray__\":\"Sd85uJXFFj8fIW0GPRuzP+MZtlNkGMM/NqM1JCqjzD9Fllr69xbTP+9amuJa3Nc/mB/ayr2h3D8h8oxZkLPgP3bUrM1BFuM/y7bMQfN45T8gmey1pNvnP3V7DCpWPuo/yV0sngeh7D8eQEwSuQPvPzkRNkM1s/A/ZAJG/Y3k8T+O81W35hXzP7jkZXE/R/Q/49V1K5h49T8Nx4Xl8Kn2Pzi4lZ9J2/c/YqmlWaIM+T+NmrUT+z36P7eLxc1Tb/s/4XzVh6yg/D8MbuVBBdL9PzZf9ftdA/8/MagCW1saAEDGoAq4B7MAQFuZEhW0SwFA8ZEacmDkAUCGiiLPDH0CQBuDKiy5FQNAsHsyiWWuA0BFdDrmEUcEQNtsQkO+3wRAcGVKoGp4BUAFXlL9FhEGQJpWWlrDqQZAME9it29CB0DFR2oUHNsHQFpAcnHIcwhA7zh6znQMCUCEMYIrIaUJQBoqiojNPQpAryKS5XnWCkBEG5pCJm8LQNkTop/SBwxAbgyq/H6gDEAEBbJZKzkNQA==\",\"dtype\":\"float64\",\"shape\":[50]},\"right\":{\"__ndarray__\":\"HyFtBj0bsz/jGbZTZBjDPzajNSQqo8w/RZZa+vcW0z/vWpriWtzXP5gf2sq9odw/IfKMWZCz4D921KzNQRbjP8u2zEHzeOU/IJnstaTb5z91ewwqVj7qP8ldLJ4Hoew/HkBMErkD7z85ETZDNbPwP2QCRv2N5PE/jvNVt+YV8z+45GVxP0f0P+PVdSuYePU/DceF5fCp9j84uJWfSdv3P2KppVmiDPk/jZq1E/s9+j+3i8XNU2/7P+F81YesoPw/DG7lQQXS/T82X/X7XQP/PzGoAltbGgBAxqAKuAezAEBbmRIVtEsBQPGRGnJg5AFAhooizwx9AkAbgyosuRUDQLB7MollrgNARXQ65hFHBEDbbEJDvt8EQHBlSqBqeAVABV5S/RYRBkCaVlpaw6kGQDBPYrdvQgdAxUdqFBzbB0BaQHJxyHMIQO84es50DAlAhDGCKyGlCUAaKoqIzT0KQK8ikuV51gpARBuaQiZvC0DZE6Kf0gcMQG4Mqvx+oAxABAWyWSs5DUCZ/bm219ENQA==\",\"dtype\":\"float64\",\"shape\":[50]},\"top\":{\"__ndarray__\":\"9zaG10J9A0D3VshJufsCQDW+8FiuWANA7iw20cyCAkB3K9BOoBQCQIALtoiiaAFADlhGypkxAUAYnyNh5t7+P2pCk0UAN/w/T88L7L90+z9mRoDooq38P3/1k+VJovc/5mdYFJ7c9z8XXHMJ8ID4P/6+44Tit/s/oIeUsYC0+D8fOng/1Pj5P59E5FmKVvI/bsVQYIup8D9uxVBgi6nwPwAAAAAAAAAA/qd3c53m6D8AAAAAAADw/wAAAAAAAAAAAAAAAAAAAAD/eZ9QE0TTP/95n1ATRNM/AAAAAAAA8P/91U+WJ4nePwAAAAAAAPD//3mfUBNE0z8AAAAAAAAAAAAAAAAAAAAAAAAAAAAA8P8AAAAAAADw/wAAAAAAAPD/AAAAAAAA8P//eZ9QE0TTPwAAAAAAAPD/AAAAAAAA8P8AAAAAAADw/wAAAAAAAPD/AAAAAAAAAAAAAAAAAADw/wAAAAAAAAAA/dVPlieJ3j8AAAAAAAAAAAAAAAAAAAAAAAAAAAAAAAD/eZ9QE0TTPw==\",\"dtype\":\"float64\",\"shape\":[50]}},\"selected\":{\"id\":\"3962\",\"type\":\"Selection\"},\"selection_policy\":{\"id\":\"3963\",\"type\":\"UnionRenderers\"}},\"id\":\"3363\",\"type\":\"ColumnDataSource\"},{\"attributes\":{\"bottom\":{\"value\":0},\"fill_alpha\":{\"value\":0.05},\"fill_color\":{\"value\":\"#CB4777\"},\"left\":{\"field\":\"left\"},\"line_alpha\":{\"value\":0.05},\"line_color\":{\"value\":\"#7E03A7\"},\"right\":{\"field\":\"right\"},\"top\":{\"field\":\"top\"}},\"id\":\"3399\",\"type\":\"Quad\"},{\"attributes\":{\"source\":{\"id\":\"3628\",\"type\":\"ColumnDataSource\"}},\"id\":\"3632\",\"type\":\"CDSView\"},{\"attributes\":{\"data_source\":{\"id\":\"3628\",\"type\":\"ColumnDataSource\"},\"glyph\":{\"id\":\"3629\",\"type\":\"Quad\"},\"hover_glyph\":null,\"muted_glyph\":null,\"nonselection_glyph\":{\"id\":\"3630\",\"type\":\"Quad\"},\"selection_glyph\":null,\"view\":{\"id\":\"3632\",\"type\":\"CDSView\"}},\"id\":\"3631\",\"type\":\"GlyphRenderer\"},{\"attributes\":{\"bottom\":{\"value\":0},\"fill_alpha\":{\"value\":0.1},\"fill_color\":{\"value\":\"#1f77b4\"},\"left\":{\"field\":\"left\"},\"line_alpha\":{\"value\":0.1},\"line_color\":{\"value\":\"#1f77b4\"},\"right\":{\"field\":\"right\"},\"top\":{\"field\":\"top\"}},\"id\":\"3220\",\"type\":\"Quad\"},{\"attributes\":{\"bottom\":{\"value\":0},\"fill_alpha\":{\"value\":0.05},\"fill_color\":{\"value\":\"#CB4777\"},\"left\":{\"field\":\"left\"},\"line_alpha\":{\"value\":0.05},\"line_color\":{\"value\":\"#7E03A7\"},\"right\":{\"field\":\"right\"},\"top\":{\"field\":\"top\"}},\"id\":\"3364\",\"type\":\"Quad\"},{\"attributes\":{\"bottom\":{\"value\":0},\"fill_alpha\":{\"value\":0.1},\"fill_color\":{\"value\":\"#1f77b4\"},\"left\":{\"field\":\"left\"},\"line_alpha\":{\"value\":0.1},\"line_color\":{\"value\":\"#1f77b4\"},\"right\":{\"field\":\"right\"},\"top\":{\"field\":\"top\"}},\"id\":\"3400\",\"type\":\"Quad\"},{\"attributes\":{\"data_source\":{\"id\":\"3218\",\"type\":\"ColumnDataSource\"},\"glyph\":{\"id\":\"3219\",\"type\":\"Quad\"},\"hover_glyph\":null,\"muted_glyph\":null,\"nonselection_glyph\":{\"id\":\"3220\",\"type\":\"Quad\"},\"selection_glyph\":null,\"view\":{\"id\":\"3222\",\"type\":\"CDSView\"}},\"id\":\"3221\",\"type\":\"GlyphRenderer\"},{\"attributes\":{\"data_source\":{\"id\":\"3398\",\"type\":\"ColumnDataSource\"},\"glyph\":{\"id\":\"3399\",\"type\":\"Quad\"},\"hover_glyph\":null,\"muted_glyph\":null,\"nonselection_glyph\":{\"id\":\"3400\",\"type\":\"Quad\"},\"selection_glyph\":null,\"view\":{\"id\":\"3402\",\"type\":\"CDSView\"}},\"id\":\"3401\",\"type\":\"GlyphRenderer\"},{\"attributes\":{\"bottom\":{\"value\":0},\"fill_alpha\":{\"value\":0.1},\"fill_color\":{\"value\":\"#1f77b4\"},\"left\":{\"field\":\"left\"},\"line_alpha\":{\"value\":0.1},\"line_color\":{\"value\":\"#1f77b4\"},\"right\":{\"field\":\"right\"},\"top\":{\"field\":\"top\"}},\"id\":\"3365\",\"type\":\"Quad\"},{\"attributes\":{\"bottom\":{\"value\":0},\"fill_alpha\":{\"value\":0.1},\"fill_color\":{\"value\":\"#1f77b4\"},\"left\":{\"field\":\"left\"},\"line_alpha\":{\"value\":0.1},\"line_color\":{\"value\":\"#1f77b4\"},\"right\":{\"field\":\"right\"},\"top\":{\"field\":\"top\"}},\"id\":\"3630\",\"type\":\"Quad\"},{\"attributes\":{\"data_source\":{\"id\":\"3363\",\"type\":\"ColumnDataSource\"},\"glyph\":{\"id\":\"3364\",\"type\":\"Quad\"},\"hover_glyph\":null,\"muted_glyph\":null,\"nonselection_glyph\":{\"id\":\"3365\",\"type\":\"Quad\"},\"selection_glyph\":null,\"view\":{\"id\":\"3367\",\"type\":\"CDSView\"}},\"id\":\"3366\",\"type\":\"GlyphRenderer\"},{\"attributes\":{\"source\":{\"id\":\"3218\",\"type\":\"ColumnDataSource\"}},\"id\":\"3222\",\"type\":\"CDSView\"},{\"attributes\":{\"source\":{\"id\":\"3398\",\"type\":\"ColumnDataSource\"}},\"id\":\"3402\",\"type\":\"CDSView\"},{\"attributes\":{\"bottom\":{\"value\":0},\"fill_alpha\":{\"value\":0.05},\"fill_color\":{\"value\":\"#CB4777\"},\"left\":{\"field\":\"left\"},\"line_alpha\":{\"value\":0.05},\"line_color\":{\"value\":\"#7E03A7\"},\"right\":{\"field\":\"right\"},\"top\":{\"field\":\"top\"}},\"id\":\"3629\",\"type\":\"Quad\"},{\"attributes\":{\"callback\":null,\"data\":{\"left\":{\"__ndarray__\":\"1O2rMfzNWz9XdZ6ucZ6wP3wdO7bVZsA/TAAnlXJ+yD+OcQm6B0vQP/ZifynWVtQ/XlT1mKRi2D/GRWsIc27cP5eb8LsgPeA/S5Sr8wdD4j//jGYr70jkP7OFIWPWTuY/Z37cmr1U6D8bd5fSpFrqP89vUgqMYOw/g2gNQnNm7j+bMOQ8LTbwP/WswdggOfE/TymfdBQ88j+ppXwQCD/zPwMiWqz7QfQ/XZ43SO9E9T+3GhXk4kf2PxGX8n/WSvc/axPQG8pN+D/Fj623vVD5Px8Mi1OxU/o/eYho76RW+z/TBEaLmFn8Py2BIyeMXP0/h/0Aw39f/j/hed5ec2L/Px77XX2zMgBAS7lMSy20AEB4dzsZpzUBQKU1KucgtwFA0vMYtZo4AkD/sQeDFLoCQCxw9lCOOwNAWS7lHgi9A0CG7NPsgT4EQLOqwrr7vwRA4GixiHVBBUANJ6BW78IFQDrljiRpRAZAZ6N98uLFBkCUYWzAXEcHQMEfW47WyAdA7t1JXFBKCEAbnDgqyssIQA==\",\"dtype\":\"float64\",\"shape\":[50]},\"right\":{\"__ndarray__\":\"V3WernGesD98HTu21WbAP0wAJ5Vyfsg/jnEJugdL0D/2Yn8p1lbUP15U9ZikYtg/xkVrCHNu3D+Xm/C7ID3gP0uUq/MHQ+I//4xmK+9I5D+zhSFj1k7mP2d+3Jq9VOg/G3eX0qRa6j/Pb1IKjGDsP4NoDUJzZu4/mzDkPC028D/1rMHYIDnxP08pn3QUPPI/qaV8EAg/8z8DIlqs+0H0P12eN0jvRPU/txoV5OJH9j8Rl/J/1kr3P2sT0BvKTfg/xY+tt71Q+T8fDItTsVP6P3mIaO+kVvs/0wRGi5hZ/D8tgSMnjFz9P4f9AMN/X/4/4XneXnNi/z8e+119szIAQEu5TEsttABAeHc7Gac1AUClNSrnILcBQNLzGLWaOAJA/7EHgxS6AkAscPZQjjsDQFku5R4IvQNAhuzT7IE+BECzqsK6+78EQOBosYh1QQVADSegVu/CBUA65Y4kaUQGQGejffLixQZAlGFswFxHB0DBH1uO1sgHQO7dSVxQSghAG5w4KsrLCEBIWif4Q00JQA==\",\"dtype\":\"float64\",\"shape\":[50]},\"top\":{\"__ndarray__\":\"COyzs4WjA0DEaqNbZ40DQOcFLLIszgNADweafBE2A0B3v5IPfP8CQNHo6xQNZAJA32CGeKpWAUC3YiiwxVQAQIANOiZPfABA9s7c7ivwAED8huGPLTwAQJA+lEtlKwBAnhigE9nJ/j/91U+WJ4n+P2S0oaEr0P0/kJ8jKstG+T8/zHgLCwv7P38MAPeOc/o/f/WT5Umi9z+A3ifUBNH0P8/w4xe7o/Y/fslPn5gV9D9/+Zsgo8n1Px8jDC6PJ/c/7qN4NJB69T9PErxDttLxP37JT5+YFfQ//dVPlieJ7j/91U+WJ4nuP/6nd3Od5ug//dVPlieJ3j//eZ9QE0TTP/95n1ATROM//3mfUBNE4z//eZ9QE0TTPwAAAAAAAPD/AAAAAAAA8P//eZ9QE0TTPwAAAAAAAPD//dVPlieJ3j8AAAAAAAAAAAAAAAAAAPD/AAAAAAAA8P8AAAAAAADw/wAAAAAAAPD/AAAAAAAA8P8AAAAAAADw/wAAAAAAAPD/AAAAAAAAAAAAAAAAAAAAAA==\",\"dtype\":\"float64\",\"shape\":[50]}},\"selected\":{\"id\":\"3978\",\"type\":\"Selection\"},\"selection_policy\":{\"id\":\"3979\",\"type\":\"UnionRenderers\"}},\"id\":\"3403\",\"type\":\"ColumnDataSource\"},{\"attributes\":{\"callback\":null,\"data\":{\"left\":{\"__ndarray__\":\"Sd85uJXFFj+mCvQ6E2O3P2oDPYg6YMc/wACAuXWH0T/Mf+Euzl7XP9j+QqQmNt0/8T7SjL+G4T93/oLHa3LkP/29MwIYXuc/g33kPMRJ6j8JPZV3cDXtP0f+IlmOEPA/CV57dmSG8T/MvdOTOvzyP48dLLEQcvQ/Un2Ezubn9T8V3dzrvF33P9g8NQmT0/g/m5yNJmlJ+j9e/OVDP7/7PyFcPmEVNf0/47uWfuuq/j/UjffNYBAAQLW9o9xLywBAlu1P6zaGAUB4Hfz5IUECQFlNqAgN/AJAO31UF/i2A0AcrQAm43EEQP7crDTOLAVA3wxZQ7nnBUDBPAVSpKIGQKJssWCPXQdAg5xdb3oYCEBlzAl+ZdMIQEb8tYxQjglAKCximztJCkAJXA6qJgQLQOuLurgRvwtAzLtmx/x5DECu6xLW5zQNQI8bv+TS7w1AcEtr872qDkBSexcCqWUPQJrVYQhKEBBAiu23j79tEEB7BQ4XNcsQQGwdZJ6qKBFAXDW6JSCGEUBNTRCtleMRQA==\",\"dtype\":\"float64\",\"shape\":[50]},\"right\":{\"__ndarray__\":\"pgr0OhNjtz9qAz2IOmDHP8AAgLl1h9E/zH/hLs5e1z/Y/kKkJjbdP/E+0oy/huE/d/6Cx2ty5D/9vTMCGF7nP4N95DzESeo/CT2Vd3A17T9H/iJZjhDwPwlee3ZkhvE/zL3Tkzr88j+PHSyxEHL0P1J9hM7m5/U/Fd3c67xd9z/YPDUJk9P4P5ucjSZpSfo/XvzlQz+/+z8hXD5hFTX9P+O7ln7rqv4/1I33zWAQAEC1vaPcS8sAQJbtT+s2hgFAeB38+SFBAkBZTagIDfwCQDt9VBf4tgNAHK0AJuNxBED+3Kw0ziwFQN8MWUO55wVAwTwFUqSiBkCibLFgj10HQIOcXW96GAhAZcwJfmXTCEBG/LWMUI4JQCgsYps7SQpACVwOqiYEC0Dri7q4Eb8LQMy7Zsf8eQxArusS1uc0DUCPG7/k0u8NQHBLa/O9qg5AUnsXAqllD0Ca1WEIShAQQIrtt4+/bRBAewUOFzXLEEBsHWSeqigRQFw1uiUghhFATU0QrZXjEUA+ZWY0C0ESQA==\",\"dtype\":\"float64\",\"shape\":[50]},\"top\":{\"__ndarray__\":\"GHI+0H2/BUAA/q6WNMUDQH+y441TRAFAOhOo23ziAEC3Z7TfNpMAQJHi04HBpP8/4bdzGHacAUAgZryFhYX9P5c6m930Uf0//9fD9Kea+j/+p3dzneb4P8/w4xe7o/Y/7qN4NJB69T+A3ifUBNH0P39YxyQYFfg/F1xzCfCA+D9+yU+fmBX0P59E5FmKVvI/HyMMLo8n9z/91U+WJ4nuP/6nd3Od5ug//3mfUBNE0z//eZ9QE0TTPz/MeAsLC+s//3mfUBNE4z8AAAAAAADwPwFDsFf2XeY//3mfUBNE0z8AAAAAAADw/wAAAAAAAAAAAAAAAAAA8P8AAAAAAAAAAP95n1ATRNM//3mfUBNE0z8AAAAAAAAAAAAAAAAAAPD/AAAAAAAA8P8AAAAAAADw/wAAAAAAAAAAAAAAAAAAAAD/eZ9QE0TTPwAAAAAAAPD//3mfUBNE0z8AAAAAAADw/wAAAAAAAPD/AAAAAAAA8P8AAAAAAADw/wAAAAAAAPD/AAAAAAAA8P8AAAAAAAAAAA==\",\"dtype\":\"float64\",\"shape\":[50]}},\"selected\":{\"id\":\"3906\",\"type\":\"Selection\"},\"selection_policy\":{\"id\":\"3907\",\"type\":\"UnionRenderers\"}},\"id\":\"3223\",\"type\":\"ColumnDataSource\"},{\"attributes\":{\"source\":{\"id\":\"3363\",\"type\":\"ColumnDataSource\"}},\"id\":\"3367\",\"type\":\"CDSView\"},{\"attributes\":{\"callback\":null,\"data\":{\"left\":{\"__ndarray__\":\"7g5NRGgUIT+cylhYv+2oPxSkNiQ15bg/bnEgTsWpwj/RkCUK8ODIPzSwKsYaGM8/zOcXwaKn0j99dxofOMPVPy8HHX3N3tg/4ZYf22L62z+SJiI5+BXfPyJbksvGGOE/+6KTepGm4j/U6pQpXDTkP6wyltgmwuU/hXqXh/FP5z9ewpg2vN3oPzcKmuWGa+o/EFKblFH56z/omZxDHIftP8HhnfLmFO8/zZTP0FhR8D+5OFAoPhjxP6Xc0H8j3/E/koBR1wim8j9+JNIu7mzzP2vIUobTM/Q/V2zT3bj69D9DEFQ1nsH1PzC01IyDiPY/HFhV5GhP9z8J/NU7Thb4P/WfVpMz3fg/4UPX6hik+T/O51dC/mr6P7qL2JnjMfs/py9Z8cj4+z+T09lIrr/8P393WqCThv0/bBvb93hN/j9Yv1tPXhT/P0Vj3KZD2/8/mYMufxRRAECP1e4qh7QAQIUnr9b5FwFAe3lvgmx7AUBxyy8u394BQGgd8NlRQgJAXm+whcSlAkBUwXAxNwkDQA==\",\"dtype\":\"float64\",\"shape\":[50]},\"right\":{\"__ndarray__\":\"nMpYWL/tqD8UpDYkNeW4P25xIE7FqcI/0ZAlCvDgyD80sCrGGhjPP8znF8Gip9I/fXcaHzjD1T8vBx19zd7YP+GWH9ti+ts/kiYiOfgV3z8iW5LLxhjhP/uik3qRpuI/1OqUKVw05D+sMpbYJsLlP4V6l4fxT+c/XsKYNrzd6D83CprlhmvqPxBSm5RR+es/6JmcQxyH7T/B4Z3y5hTvP82Uz9BYUfA/uThQKD4Y8T+l3NB/I9/xP5KAUdcIpvI/fiTSLu5s8z9ryFKG0zP0P1ds0924+vQ/QxBUNZ7B9T8wtNSMg4j2PxxYVeRoT/c/CfzVO04W+D/1n1aTM934P+FD1+oYpPk/zudXQv5q+j+6i9iZ4zH7P6cvWfHI+Ps/k9PZSK6//D9/d1qgk4b9P2wb2/d4Tf4/WL9bT14U/z9FY9ymQ9v/P5mDLn8UUQBAj9XuKoe0AECFJ6/W+RcBQHt5b4JsewFAccsvLt/eAUBoHfDZUUICQF5vsIXEpQJAVMFwMTcJA0BKEzHdqWwDQA==\",\"dtype\":\"float64\",\"shape\":[50]},\"top\":{\"__ndarray__\":\"OhOo23ziAEBQIvIsRSsBQIjK24eKdABAGJ8jYebe/j/MvqWa9dcBQFMgAxPBnv0/gDhEPUAA/j9+bzM2Xeb6P26CoAiVS/o/F1xzCfCA+D9/WMckGBX4P84HUCkAdfk//9fD9Kea+j9mRoDooq38PxZz3xo1Uvs/Hzp4P9T4+T9+bzM2Xeb6P/AbXwS2kPw/7vBA62hV/D9umQwa2hz9P38MAPeOc/o/AL1PqAmi+T+fW1Brzyf1PwFDsFf2XfY/bsVQYIup8D9/suONU0TxP59bUGvPJ/U/fuC7sN3m9j8BQ7BX9l32PwAAAAAAAPA//qd3c53m6D+XfUs166/zPwAXbBFF0fI/bsVQYIup8D//eZ9QE0TjPz/MeAsLC+s//dVPlieJ3j//eZ9QE0TTP/95n1ATRNM/AAAAAAAA8P//eZ9QE0TjPwFDsFf2XeY//qd3c53m6D//eZ9QE0TTP/6nd3Od5ug/n1tQa88n9T+AYOawWhf5PwFDsFf2XeY/P8x4CwsL6z/91U+WJ4nePw==\",\"dtype\":\"float64\",\"shape\":[50]}},\"selected\":{\"id\":\"4068\",\"type\":\"Selection\"},\"selection_policy\":{\"id\":\"4069\",\"type\":\"UnionRenderers\"}},\"id\":\"3628\",\"type\":\"ColumnDataSource\"},{\"attributes\":{},\"id\":\"4065\",\"type\":\"UnionRenderers\"},{\"attributes\":{},\"id\":\"4070\",\"type\":\"Selection\"},{\"attributes\":{\"bottom\":{\"value\":0},\"fill_alpha\":{\"value\":0.05},\"fill_color\":{\"value\":\"#CB4777\"},\"left\":{\"field\":\"left\"},\"line_alpha\":{\"value\":0.05},\"line_color\":{\"value\":\"#7E03A7\"},\"right\":{\"field\":\"right\"},\"top\":{\"field\":\"top\"}},\"id\":\"3224\",\"type\":\"Quad\"},{\"attributes\":{\"callback\":null,\"data\":{\"left\":{\"__ndarray__\":\"20vdbZSgOT/C75e6EjKnP3YSKiZyGLc/hhaEd+1LwT/QI/PboQvHPxoxYkBWy8w/M59oUoVF0T/YJaCEXyXUP32s17Y5Bdc/IjMP6RPl2T/HuUYb7sTcP21Afk3IpN8/iePaP1FC4T/bpvZYPrLiPy5qEnIrIuQ/gC0uixiS5T/T8EmkBQLnPya0Zb3yceg/eHeB1t/h6T/LOp3vzFHrPx3+uAi6wew/cMHUIacx7j/DhPA6lKHvPwskBqrAiPA/tQWUNrdA8T9e5yHDrfjxPwfJr0+ksPI/sKo93Jpo8z9ajMtokSD0PwNuWfWH2PQ/rE/ngX6Q9T9WMXUOdUj2P/8SA5trAPc/qPSQJ2K49z9S1h60WHD4P/u3rEBPKPk/pJk6zUXg+T9Oe8hZPJj6P/dcVuYyUPs/oD7kcikI/D9JIHL/H8D8P/MBAIwWeP0/nOONGA0w/j9FxRulA+j+P++mqTH6n/8/TMQbX/grAEAgtWKl84cAQPWlqevu4wBAypbwMeo/AUCehzd45ZsBQA==\",\"dtype\":\"float64\",\"shape\":[50]},\"right\":{\"__ndarray__\":\"wu+XuhIypz92Eiomchi3P4YWhHftS8E/0CPz26ELxz8aMWJAVsvMPzOfaFKFRdE/2CWghF8l1D99rNe2OQXXPyIzD+kT5dk/x7lGG+7E3D9tQH5NyKTfP4nj2j9RQuE/26b2WD6y4j8uahJyKyLkP4AtLosYkuU/0/BJpAUC5z8mtGW98nHoP3h3gdbf4ek/yzqd78xR6z8d/rgIusHsP3DB1CGnMe4/w4TwOpSh7z8LJAaqwIjwP7UFlDa3QPE/Xuchw6348T8Hya9PpLDyP7CqPdyaaPM/WozLaJEg9D8Dbln1h9j0P6xP54F+kPU/VjF1DnVI9j//EgObawD3P6j0kCdiuPc/UtYetFhw+D/7t6xATyj5P6SZOs1F4Pk/TnvIWTyY+j/3XFbmMlD7P6A+5HIpCPw/SSBy/x/A/D/zAQCMFnj9P5zjjRgNMP4/RcUbpQPo/j/vpqkx+p//P0zEG1/4KwBAILVipfOHAED1panr7uMAQMqW8DHqPwFAnoc3eOWbAUBzeH6+4PcBQA==\",\"dtype\":\"float64\",\"shape\":[50]},\"top\":{\"__ndarray__\":\"9JuTFaXsAUBpf5Xz4jcBQHLJ5DqYUAFAaX+V8+I3AUDPF4YSj80AQGlZ/1ZFCP8/AAAAAAAAAEDn1hlg4iIAQJc6m930Uf0/aVn/VkUI/z+/iovmkNsAQGVd7Pnnfv8/8BtfBLaQ/D/v5iiMhtj7P2ZGgOiirfw//9fD9Kea+j8uZVo2mjf9P5C2jzsQGPw/aVn/VkUI/z/mZ1gUntz3P84HUCkAdfk/AL1PqAmi+T+fW1Brzyf1P/3VT5Ynie4//dVPlieJ7j8AAAAAAADwP59E5FmKVvI//jbv+Bzm7D+fRORZilbyPxDB+1XGdfQ/l31LNeuv8z9PErxDttLxP/95n1ATROM//dVPlieJ7j8BQ7BX9l3mPwFDsFf2XeY/P8x4CwsL6z8AAAAAAADw//3VT5Ynid4//3mfUBNE0z8BQ7BX9l3mPwAAAAAAAAAAAAAAAAAAAAAAAAAAAAAAAAAAAAAAAPD/AAAAAAAA8P8AAAAAAADw/wAAAAAAAPD/AAAAAAAA8P8AAAAAAAAAAA==\",\"dtype\":\"float64\",\"shape\":[50]}},\"selected\":{\"id\":\"3964\",\"type\":\"Selection\"},\"selection_policy\":{\"id\":\"3965\",\"type\":\"UnionRenderers\"}},\"id\":\"3368\",\"type\":\"ColumnDataSource\"},{\"attributes\":{\"bottom\":{\"value\":0},\"fill_alpha\":{\"value\":0.05},\"fill_color\":{\"value\":\"#CB4777\"},\"left\":{\"field\":\"left\"},\"line_alpha\":{\"value\":0.05},\"line_color\":{\"value\":\"#7E03A7\"},\"right\":{\"field\":\"right\"},\"top\":{\"field\":\"top\"}},\"id\":\"3404\",\"type\":\"Quad\"},{\"attributes\":{\"source\":{\"id\":\"3623\",\"type\":\"ColumnDataSource\"}},\"id\":\"3627\",\"type\":\"CDSView\"},{\"attributes\":{},\"id\":\"4009\",\"type\":\"UnionRenderers\"},{\"attributes\":{\"bottom\":{\"value\":0},\"fill_alpha\":{\"value\":0.1},\"fill_color\":{\"value\":\"#1f77b4\"},\"left\":{\"field\":\"left\"},\"line_alpha\":{\"value\":0.1},\"line_color\":{\"value\":\"#1f77b4\"},\"right\":{\"field\":\"right\"},\"top\":{\"field\":\"top\"}},\"id\":\"3405\",\"type\":\"Quad\"},{\"attributes\":{\"bottom\":{\"value\":0},\"fill_alpha\":{\"value\":0.1},\"fill_color\":{\"value\":\"#1f77b4\"},\"left\":{\"field\":\"left\"},\"line_alpha\":{\"value\":0.1},\"line_color\":{\"value\":\"#1f77b4\"},\"right\":{\"field\":\"right\"},\"top\":{\"field\":\"top\"}},\"id\":\"3225\",\"type\":\"Quad\"},{\"attributes\":{\"bottom\":{\"value\":0},\"fill_alpha\":{\"value\":0.05},\"fill_color\":{\"value\":\"#CB4777\"},\"left\":{\"field\":\"left\"},\"line_alpha\":{\"value\":0.05},\"line_color\":{\"value\":\"#7E03A7\"},\"right\":{\"field\":\"right\"},\"top\":{\"field\":\"top\"}},\"id\":\"3369\",\"type\":\"Quad\"},{\"attributes\":{\"bottom\":{\"value\":0},\"fill_alpha\":{\"value\":0.1},\"fill_color\":{\"value\":\"#1f77b4\"},\"left\":{\"field\":\"left\"},\"line_alpha\":{\"value\":0.1},\"line_color\":{\"value\":\"#1f77b4\"},\"right\":{\"field\":\"right\"},\"top\":{\"field\":\"top\"}},\"id\":\"3640\",\"type\":\"Quad\"},{\"attributes\":{},\"id\":\"4011\",\"type\":\"UnionRenderers\"},{\"attributes\":{\"data_source\":{\"id\":\"3223\",\"type\":\"ColumnDataSource\"},\"glyph\":{\"id\":\"3224\",\"type\":\"Quad\"},\"hover_glyph\":null,\"muted_glyph\":null,\"nonselection_glyph\":{\"id\":\"3225\",\"type\":\"Quad\"},\"selection_glyph\":null,\"view\":{\"id\":\"3227\",\"type\":\"CDSView\"}},\"id\":\"3226\",\"type\":\"GlyphRenderer\"},{\"attributes\":{\"data_source\":{\"id\":\"3403\",\"type\":\"ColumnDataSource\"},\"glyph\":{\"id\":\"3404\",\"type\":\"Quad\"},\"hover_glyph\":null,\"muted_glyph\":null,\"nonselection_glyph\":{\"id\":\"3405\",\"type\":\"Quad\"},\"selection_glyph\":null,\"view\":{\"id\":\"3407\",\"type\":\"CDSView\"}},\"id\":\"3406\",\"type\":\"GlyphRenderer\"},{\"attributes\":{\"bottom\":{\"value\":0},\"fill_alpha\":{\"value\":0.1},\"fill_color\":{\"value\":\"#1f77b4\"},\"left\":{\"field\":\"left\"},\"line_alpha\":{\"value\":0.1},\"line_color\":{\"value\":\"#1f77b4\"},\"right\":{\"field\":\"right\"},\"top\":{\"field\":\"top\"}},\"id\":\"3370\",\"type\":\"Quad\"},{\"attributes\":{\"data_source\":{\"id\":\"3623\",\"type\":\"ColumnDataSource\"},\"glyph\":{\"id\":\"3624\",\"type\":\"Quad\"},\"hover_glyph\":null,\"muted_glyph\":null,\"nonselection_glyph\":{\"id\":\"3625\",\"type\":\"Quad\"},\"selection_glyph\":null,\"view\":{\"id\":\"3627\",\"type\":\"CDSView\"}},\"id\":\"3626\",\"type\":\"GlyphRenderer\"},{\"attributes\":{},\"id\":\"4010\",\"type\":\"Selection\"},{\"attributes\":{\"source\":{\"id\":\"3403\",\"type\":\"ColumnDataSource\"}},\"id\":\"3407\",\"type\":\"CDSView\"},{\"attributes\":{},\"id\":\"4012\",\"type\":\"Selection\"}],\"root_ids\":[\"3116\"]},\"title\":\"Bokeh Application\",\"version\":\"1.4.0\"}};\n",
       "  var render_items = [{\"docid\":\"cc94fdde-7889-4343-adc2-9dc51d252e87\",\"roots\":{\"3116\":\"74cf7c43-c409-493e-81f1-ee559996138e\"}}];\n",
       "  root.Bokeh.embed.embed_items_notebook(docs_json, render_items);\n",
       "\n",
       "  }\n",
       "  if (root.Bokeh !== undefined) {\n",
       "    embed_document(root);\n",
       "  } else {\n",
       "    var attempts = 0;\n",
       "    var timer = setInterval(function(root) {\n",
       "      if (root.Bokeh !== undefined) {\n",
       "        clearInterval(timer);\n",
       "        embed_document(root);\n",
       "      } else {\n",
       "        attempts++;\n",
       "        if (attempts > 100) {\n",
       "          clearInterval(timer);\n",
       "          console.log(\"Bokeh: ERROR: Unable to run BokehJS code because BokehJS library is missing\");\n",
       "        }\n",
       "      }\n",
       "    }, 10, root)\n",
       "  }\n",
       "})(window);"
      ],
      "application/vnd.bokehjs_exec.v0+json": ""
     },
     "metadata": {
      "application/vnd.bokehjs_exec.v0+json": {
       "id": "3116"
      }
     },
     "output_type": "display_data"
    }
   ],
   "source": [
    "from bokeh.plotting import figure, show, output_notebook\n",
    "output_notebook()\n",
    "\n",
    "p1 = figure(plot_width=800, plot_height=800)\n",
    "\n",
    "for x in range(100):\n",
    "    p1.quad(top=np.log10(histograms[x]), bottom=0, left=edges[x][:-1], right=edges[x][1:],\n",
    "         fill_color=colors[100], line_color=colors[50], alpha=0.05)\n",
    "    \n",
    "p1.quad(top=np.log10(hist_top), bottom=0, left=edge_top[:-1], right=edge_top[1:],\n",
    "         fill_color=colors[0], line_color=colors[0], alpha=1)\n",
    "\n",
    "p1.xaxis.axis_label = '-log10(p_value)'\n",
    "p1.yaxis.axis_label = 'log10(number of SNPs)'\n",
    "\n",
    "p1.xaxis.axis_label_text_font_size = \"15pt\"\n",
    "p1.xaxis.major_label_text_font_size = \"15pt\"\n",
    "p1.yaxis.axis_label_text_font_size = \"15pt\"\n",
    "p1.yaxis.major_label_text_font_size = \"15pt\"\n",
    "\n",
    "show(p1)"
   ]
  },
  {
   "cell_type": "code",
   "execution_count": 125,
   "metadata": {},
   "outputs": [],
   "source": [
    "p_all = []\n",
    "\n",
    "for p in p_values:\n",
    "    x = [float(i) for i in p]\n",
    "    x = -np.log10(x)\n",
    "    p_all.append(x)"
   ]
  },
  {
   "cell_type": "code",
   "execution_count": 126,
   "metadata": {},
   "outputs": [],
   "source": [
    "import itertools\n",
    "\n",
    "p_all = (list(itertools.chain.from_iterable(p_all)))"
   ]
  },
  {
   "cell_type": "code",
   "execution_count": 131,
   "metadata": {},
   "outputs": [
    {
     "data": {
      "text/plain": [
       "2.0963165216088004"
      ]
     },
     "execution_count": 131,
     "metadata": {},
     "output_type": "execute_result"
    }
   ],
   "source": [
    "np.percentile(p_all, 99)"
   ]
  },
  {
   "cell_type": "code",
   "execution_count": 135,
   "metadata": {},
   "outputs": [
    {
     "data": {
      "text/plain": [
       "2.0969100130080562"
      ]
     },
     "execution_count": 135,
     "metadata": {},
     "output_type": "execute_result"
    }
   ],
   "source": [
    "-np.log10(0.008)"
   ]
  },
  {
   "cell_type": "code",
   "execution_count": 12,
   "metadata": {},
   "outputs": [
    {
     "data": {
      "text/plain": [
       "(939,)"
      ]
     },
     "execution_count": 12,
     "metadata": {},
     "output_type": "execute_result"
    }
   ],
   "source": [
    "y.shape"
   ]
  },
  {
   "cell_type": "code",
   "execution_count": 14,
   "metadata": {},
   "outputs": [
    {
     "data": {
      "text/plain": [
       "104"
      ]
     },
     "execution_count": 14,
     "metadata": {},
     "output_type": "execute_result"
    }
   ],
   "source": [
    "np.sum(y > 2.09)#/np.shape(y)"
   ]
  },
  {
   "cell_type": "markdown",
   "metadata": {},
   "source": [
    "### For large families see if variants in additional genes segregate.\n",
    "Rule : at least 60% of individuals with GTS are non-ref and at less than 30% of controls are ref. CADD > 10\n"
   ]
  },
  {
   "cell_type": "code",
   "execution_count": 6,
   "metadata": {},
   "outputs": [],
   "source": [
    "mt_test = hl.read_matrix_table('/net/archive/groups/plggneuromol/imdik-zekanowski-gts/data/mts/mt_test_10.mt')"
   ]
  },
  {
   "cell_type": "code",
   "execution_count": 7,
   "metadata": {},
   "outputs": [],
   "source": [
    "families = ['A','B', 'C', 'D', 'E', 'F', 'G', 'H', 'I', 'J', 'K', 'L', 'M', 'N', 'O', 'P', 'R', 'S', 'T', 'U', 'W', 'X', 'Y', 'Z']"
   ]
  },
  {
   "cell_type": "code",
   "execution_count": 8,
   "metadata": {},
   "outputs": [
    {
     "data": {
      "text/plain": [
       "(585211, 145)"
      ]
     },
     "execution_count": 8,
     "metadata": {},
     "output_type": "execute_result"
    }
   ],
   "source": [
    "mt_test.count()"
   ]
  },
  {
   "cell_type": "markdown",
   "metadata": {},
   "source": [
    "variants with CADD > 10 that occur in any of the larger families"
   ]
  },
  {
   "cell_type": "code",
   "execution_count": 9,
   "metadata": {},
   "outputs": [],
   "source": [
    "fams = mt_test.aggregate_cols(hl.agg.counter(mt_test.phenotypes.family))"
   ]
  },
  {
   "cell_type": "markdown",
   "metadata": {},
   "source": [
    "16 families with over 5 individuals are included:"
   ]
  },
  {
   "cell_type": "code",
   "execution_count": 10,
   "metadata": {},
   "outputs": [
    {
     "data": {
      "text/plain": [
       "['E',\n",
       " 'X',\n",
       " 'T',\n",
       " 'Y',\n",
       " 'J',\n",
       " 'U',\n",
       " 'F',\n",
       " 'A',\n",
       " 'I',\n",
       " 'B',\n",
       " 'C',\n",
       " 'H',\n",
       " 'W',\n",
       " 'R',\n",
       " 'D',\n",
       " 'S']"
      ]
     },
     "execution_count": 10,
     "metadata": {},
     "output_type": "execute_result"
    }
   ],
   "source": [
    "list(np.array(list(fams.keys()))[np.array(list(fams.values())) > 4])"
   ]
  },
  {
   "cell_type": "markdown",
   "metadata": {},
   "source": [
    "each of the families should have at least two individuals with tics or GTS:"
   ]
  },
  {
   "cell_type": "code",
   "execution_count": 11,
   "metadata": {},
   "outputs": [],
   "source": [
    "gts = mt_test.aggregate_cols(hl.agg.group_by(mt_test.phenotypes.family, hl.agg.counter(mt_test.phenotypes.disease)))"
   ]
  },
  {
   "cell_type": "code",
   "execution_count": 12,
   "metadata": {},
   "outputs": [],
   "source": [
    "gts = { your_key: gts[your_key] for your_key in list(np.array(list(fams.keys()))[np.array(list(fams.values())) > 4]) }"
   ]
  },
  {
   "cell_type": "code",
   "execution_count": 13,
   "metadata": {},
   "outputs": [
    {
     "data": {
      "text/plain": [
       "{'E': {'NO': 3, 'YES': 4},\n",
       " 'X': {'NO': 2, 'YES': 3},\n",
       " 'T': {'NO': 4, 'YES': 5},\n",
       " 'Y': {'NO': 2, 'YES': 6},\n",
       " 'J': {'NO': 2, 'YES': 3},\n",
       " 'U': {'NO': 1, 'YES': 4},\n",
       " 'F': {'NO': 3, 'YES': 8},\n",
       " 'A': {'NO': 3, 'YES': 4},\n",
       " 'I': {'NO': 2, 'YES': 4},\n",
       " 'B': {'NO': 3, 'YES': 5},\n",
       " 'C': {'NO': 3, 'YES': 6},\n",
       " 'H': {'NO': 1, 'YES': 5},\n",
       " 'W': {'NO': 6, 'YES': 8},\n",
       " 'R': {'NO': 2, 'YES': 4},\n",
       " 'D': {'NO': 3, 'YES': 4},\n",
       " 'S': {'NO': 2, 'YES': 4}}"
      ]
     },
     "execution_count": 13,
     "metadata": {},
     "output_type": "execute_result"
    }
   ],
   "source": [
    "gts"
   ]
  },
  {
   "cell_type": "code",
   "execution_count": 14,
   "metadata": {},
   "outputs": [
    {
     "data": {
      "text/plain": [
       "{'NO': 56, 'YES': 89}"
      ]
     },
     "execution_count": 14,
     "metadata": {},
     "output_type": "execute_result"
    }
   ],
   "source": [
    "mt_test.aggregate_cols(hl.agg.counter(mt_test.phenotypes.disease))"
   ]
  },
  {
   "cell_type": "code",
   "execution_count": 15,
   "metadata": {},
   "outputs": [
    {
     "data": {
      "text/plain": [
       "{'.': 56, 'GTS': 47, 'tics': 42}"
      ]
     },
     "execution_count": 15,
     "metadata": {},
     "output_type": "execute_result"
    }
   ],
   "source": [
    "mt_test.aggregate_cols(hl.agg.counter(mt_test.phenotypes.phenotype))"
   ]
  },
  {
   "cell_type": "markdown",
   "metadata": {},
   "source": [
    "### additionally we will remove families with only 1 or no controls :  U, H"
   ]
  },
  {
   "cell_type": "code",
   "execution_count": 16,
   "metadata": {},
   "outputs": [],
   "source": [
    "fams_to_test = ['E', 'T', 'Y', 'J', 'F', 'A', 'I', 'B', 'C', 'W', 'R', 'D', 'S', 'X']"
   ]
  },
  {
   "cell_type": "code",
   "execution_count": 17,
   "metadata": {},
   "outputs": [],
   "source": [
    "genes = ['DCC', 'RBFOX', 'SLC30A9', 'DCAF4L1', 'SORCS3', 'KCNQ5', 'KCNQ-IT1', 'APOPT1', 'C14orf2', 'NAA11', 'NEGR1',\n",
    "        'CHADL', 'SOX5', 'PANK2', 'COL27A1', 'PDGFB', 'CELSR3', 'OPA1', 'FBN2', 'WWC1', 'NIPBL', \n",
    "             'FN1', 'FBN2', 'SLITRK1', 'SLITRK2', 'SLITRK3', 'SLITRK4', 'SLITRK5', 'SLITRK6', \n",
    "             'HDC', 'OPRK1', 'PCDH10', 'NTSR2', 'OPRK1', 'CHD8', 'SCUBE1', 'PNKD', 'CNTNAP2', 'MOG', \n",
    "             'DRD2', 'DRD3', 'DRD4', 'DRD5', 'DAT1', 'DBH', 'HTR2A', 'TPH2', 'EAAT1', 'SAPAP3',\n",
    "            'CTNNA3', 'NLGN4', 'FSCB', 'IMMP2L', 'NRXN1', 'AADAC', 'DBH', 'MAOA', 'HTR1A', 'HTR2C', 'SLC6A4',\n",
    "             'TPH2', 'COL27A1', '5-HTTLPR', 'EAAT1', 'COL8A1', 'KCNE1', 'KCNE2',\n",
    "         'RICTOR', 'WWC1', 'CELSR3, NIPBL', 'FN1', 'PNKD', 'CDH26', 'CADM2', 'OPCML', 'CDH9',\n",
    "         'NCAM2', 'CD47', 'CDH5', 'CADM4', 'C1QBP', 'CTTN', 'LSAMP',\n",
    "         'PKP4', 'PCDH1', 'CNTNAP2', 'MBP', 'GABBR2', 'GABBR2', 'GRIK4', 'NCR1', 'FLT3', 'IL12A', 'HDAC9',\n",
    "         'CD180', 'CDH26', 'NCAM2', 'NTM', 'ROBO2']"
   ]
  },
  {
   "cell_type": "code",
   "execution_count": 14,
   "metadata": {},
   "outputs": [],
   "source": [
    "mt = hl.read_matrix_table('/net/archive/groups/plggneuromol/GTS-analysis/data/mt_test_10.mt')"
   ]
  },
  {
   "cell_type": "code",
   "execution_count": 15,
   "metadata": {
    "scrolled": true
   },
   "outputs": [
    {
     "data": {
      "text/plain": [
       "(585211, 145)"
      ]
     },
     "execution_count": 15,
     "metadata": {},
     "output_type": "execute_result"
    }
   ],
   "source": [
    "mt.count()"
   ]
  },
  {
   "cell_type": "code",
   "execution_count": 16,
   "metadata": {},
   "outputs": [],
   "source": [
    "mt = mt.filter_rows(hl.any(lambda x: hl.literal(genes).contains(x), mt.nearest_genes_20kb))\n",
    "mt = mt.filter_rows(hl.agg.any(mt.GT.is_non_ref()))"
   ]
  },
  {
   "cell_type": "code",
   "execution_count": 17,
   "metadata": {
    "scrolled": true
   },
   "outputs": [
    {
     "name": "stderr",
     "output_type": "stream",
     "text": [
      "2021-06-29 13:06:59 Hail: INFO: wrote matrix table with 5690 rows and 145 columns in 6622 partitions to /net/archive/groups/plggneuromol/GTS-analysis/data/mt_86_genes_cadd_10.mt\n",
      "    Total size: 6.85 MiB\n",
      "    * Rows/entries: 6.85 MiB\n",
      "    * Columns: 2.01 KiB\n",
      "    * Globals: 11.00 B\n",
      "    * Smallest partition: 0 rows (20.00 B)\n",
      "    * Largest partition:  220 rows (285.02 KiB)\n"
     ]
    },
    {
     "data": {
      "text/plain": [
       "<hail.matrixtable.MatrixTable at 0x2ae783b0b1d0>"
      ]
     },
     "execution_count": 17,
     "metadata": {},
     "output_type": "execute_result"
    }
   ],
   "source": [
    "mt.checkpoint('/net/archive/groups/plggneuromol/GTS-analysis/data/mt_86_genes_cadd_10.mt')"
   ]
  },
  {
   "cell_type": "code",
   "execution_count": 10,
   "metadata": {},
   "outputs": [],
   "source": [
    "mt = hl.read_matrix_table('/net/archive/groups/plggneuromol/GTS-analysis/data/mt_86_genes_cadd_10.mt')"
   ]
  },
  {
   "cell_type": "code",
   "execution_count": 11,
   "metadata": {},
   "outputs": [
    {
     "data": {
      "text/plain": [
       "(5690, 145)"
      ]
     },
     "execution_count": 11,
     "metadata": {},
     "output_type": "execute_result"
    }
   ],
   "source": [
    "mt.count()"
   ]
  },
  {
   "cell_type": "code",
   "execution_count": 12,
   "metadata": {},
   "outputs": [],
   "source": [
    "mt = mt.filter_cols(hl.set(fams_to_test).contains(mt.phenotypes.family))\n",
    "mt = mt.filter_rows(hl.agg.any(mt.GT.is_non_ref()))"
   ]
  },
  {
   "cell_type": "code",
   "execution_count": 13,
   "metadata": {
    "scrolled": true
   },
   "outputs": [
    {
     "name": "stderr",
     "output_type": "stream",
     "text": [
      "2021-06-29 14:04:42 Hail: INFO: wrote matrix table with 5060 rows and 108 columns in 6622 partitions to /net/archive/groups/plggneuromol/GTS-analysis/data/mt_86_genes_cadd_10_fams.mt\n",
      "    Total size: 4.97 MiB\n",
      "    * Rows/entries: 4.97 MiB\n",
      "    * Columns: 1.53 KiB\n",
      "    * Globals: 11.00 B\n",
      "    * Smallest partition: 0 rows (20.00 B)\n",
      "    * Largest partition:  192 rows (206.61 KiB)\n"
     ]
    },
    {
     "data": {
      "text/plain": [
       "<hail.matrixtable.MatrixTable at 0x2ab3e3254128>"
      ]
     },
     "execution_count": 13,
     "metadata": {},
     "output_type": "execute_result"
    }
   ],
   "source": [
    "mt.checkpoint('/net/archive/groups/plggneuromol/GTS-analysis/data/mt_86_genes_cadd_10_fams.mt')"
   ]
  },
  {
   "cell_type": "code",
   "execution_count": 18,
   "metadata": {},
   "outputs": [],
   "source": [
    "mt = hl.read_matrix_table('/net/archive/groups/plggneuromol/imdik-zekanowski-gts/data/mts/mt_86_genes_cadd_10_fams.mt')"
   ]
  },
  {
   "cell_type": "code",
   "execution_count": 19,
   "metadata": {},
   "outputs": [],
   "source": [
    "mt_all = hl.read_matrix_table('/net/archive/groups/plggneuromol/imdik-zekanowski-gts/data/mts/GTS-with-pheno.mt')"
   ]
  },
  {
   "cell_type": "code",
   "execution_count": 45,
   "metadata": {
    "scrolled": true
   },
   "outputs": [
    {
     "name": "stderr",
     "output_type": "stream",
     "text": [
      "2021-07-24 11:39:13 Hail: INFO: Reading table to impute column types\n",
      "2021-07-24 11:39:26 Hail: INFO: Finished type imputation\n",
      "  Loading field 'ID' as type str (imputed)\n",
      "  Loading field 'family' as type str (imputed)\n",
      "  Loading field 'sex' as type str (imputed)\n",
      "  Loading field 'kinship' as type str (imputed)\n",
      "  Loading field 'disease' as type str (imputed)\n",
      "  Loading field 'phenotype' as type str (imputed)\n",
      "  Loading field 'add_pheno' as type str (imputed)\n",
      "  Loading field 'heavy_tics' as type str (imputed)\n",
      "  Loading field 'heavy_tics_familial' as type str (imputed)\n",
      "  Loading field 'GTS_ASD_group' as type str (imputed)\n",
      "  Loading field 'nonCTD' as type str (imputed)\n"
     ]
    }
   ],
   "source": [
    "#reasigned phenotypes:\n",
    "pheno = hl.import_table('/net/archive/groups/plggneuromol/imdik-zekanowski-gts/data/pheno-and-gene-lists/GTS-coded-corrected-june-2021.csv', delimiter=',', impute=True,  quote='\\\"')"
   ]
  },
  {
   "cell_type": "code",
   "execution_count": 46,
   "metadata": {},
   "outputs": [],
   "source": [
    "pheno = pheno.key_by(pheno.ID)"
   ]
  },
  {
   "cell_type": "code",
   "execution_count": 22,
   "metadata": {},
   "outputs": [],
   "source": [
    "mt_all = mt_all.annotate_cols(phenotypes = pheno[mt_all.s])"
   ]
  },
  {
   "cell_type": "code",
   "execution_count": 23,
   "metadata": {},
   "outputs": [
    {
     "name": "stderr",
     "output_type": "stream",
     "text": [
      "2021-07-07 11:40:11 Hail: INFO: wrote matrix table with 16233065 rows and 185 columns in 1604 partitions to /net/archive/groups/plggneuromol/imdik-zekanowski-gts/data/mts/GTS-with-pheno-step1.mt\n",
      "    Total size: 17.82 GiB\n",
      "    * Rows/entries: 17.82 GiB\n",
      "    * Columns: 2.66 KiB\n",
      "    * Globals: 11.00 B\n",
      "    * Smallest partition: 0 rows (20.00 B)\n",
      "    * Largest partition:  27449 rows (29.46 MiB)\n"
     ]
    },
    {
     "data": {
      "text/plain": [
       "<hail.matrixtable.MatrixTable at 0x2b24218b5240>"
      ]
     },
     "execution_count": 23,
     "metadata": {},
     "output_type": "execute_result"
    }
   ],
   "source": [
    "mt_all.checkpoint('/net/archive/groups/plggneuromol/imdik-zekanowski-gts/data/mts/GTS-with-pheno-step1.mt')"
   ]
  },
  {
   "cell_type": "code",
   "execution_count": 24,
   "metadata": {
    "scrolled": true
   },
   "outputs": [],
   "source": [
    "mt_all = mt_all.annotate_rows(cases_with_gts = hl.agg.group_by(mt_all.phenotypes.family, hl.agg.count_where(mt_all.phenotypes.disease == 'YES')),\n",
    "                      variants_with_gts = hl.agg.group_by((mt_all.phenotypes.family, mt_all.phenotypes.disease), hl.agg.count_where(mt_all.GT.is_non_ref())),\n",
    "                      carriers_in_families = hl.agg.group_by(mt_all.s, hl.agg.count_where(mt_all.GT.is_non_ref())),\n",
    "                      variants_in_sporadic_cases = hl.agg.group_by((mt_all.phenotypes.family, mt_all.phenotypes.disease), hl.agg.counter(mt_all.GT.is_non_ref()))\n",
    "                     )\n",
    "\n",
    "mt_all = mt_all.annotate_rows(sporadic_cases_non_refs = hl.if_else(mt_all.variants_in_sporadic_cases[('.','YES')].contains(True), \n",
    "                                                                mt_all.variants_in_sporadic_cases[('.','YES')][True],\n",
    "                                                                0),\n",
    "                             sporadic_cases_refs = hl.if_else(mt_all.variants_in_sporadic_cases[('.','YES')].contains(False), \n",
    "                                                                mt_all.variants_in_sporadic_cases[('.','YES')][False],\n",
    "                                                                0))\n",
    "\n",
    "mt_all = mt_all.annotate_rows(variants_in_familial = hl.agg.group_by((mt_all.phenotypes.disease), hl.agg.counter(mt_all.GT.is_non_ref())))\n",
    "\n",
    "mt_all = mt_all.annotate_rows(controls_non_refs = hl.if_else(mt_all.variants_in_familial['NO'].contains(True), \n",
    "                                                                mt_all.variants_in_familial['NO'][True],\n",
    "                                                                0),\n",
    "                              controls_refs = hl.if_else(mt_all.variants_in_familial['NO'].contains(False), \n",
    "                                                                mt_all.variants_in_familial['NO'][False],\n",
    "                                                                0),\n",
    "                              cases_non_refs = hl.if_else(mt_all.variants_in_familial['YES'].contains(True), \n",
    "                                                                mt_all.variants_in_familial['YES'][True],\n",
    "                                                                0),\n",
    "                              cases_refs = hl.if_else(mt_all.variants_in_familial['YES'].contains(False), \n",
    "                                                                mt_all.variants_in_familial['YES'][False],\n",
    "                                                                0))"
   ]
  },
  {
   "cell_type": "code",
   "execution_count": 25,
   "metadata": {},
   "outputs": [
    {
     "name": "stderr",
     "output_type": "stream",
     "text": [
      "2021-07-07 12:04:27 Hail: INFO: wrote matrix table with 16233065 rows and 185 columns in 1604 partitions to /net/archive/groups/plggneuromol/imdik-zekanowski-gts/data/mts/GTS-with-pheno-all.mt\n",
      "    Total size: 24.18 GiB\n",
      "    * Rows/entries: 24.18 GiB\n",
      "    * Columns: 2.66 KiB\n",
      "    * Globals: 11.00 B\n",
      "    * Smallest partition: 0 rows (20.00 B)\n",
      "    * Largest partition:  19114 rows (40.21 MiB)\n"
     ]
    },
    {
     "data": {
      "text/plain": [
       "<hail.matrixtable.MatrixTable at 0x2b24218aa0f0>"
      ]
     },
     "execution_count": 25,
     "metadata": {},
     "output_type": "execute_result"
    }
   ],
   "source": [
    "mt_all.checkpoint('/net/archive/groups/plggneuromol/imdik-zekanowski-gts/data/mts/GTS-with-pheno-all.mt')"
   ]
  },
  {
   "cell_type": "code",
   "execution_count": 26,
   "metadata": {},
   "outputs": [],
   "source": [
    "mt_all = hl.read_matrix_table('/net/archive/groups/plggneuromol/imdik-zekanowski-gts/data/mts/GTS-with-pheno-all.mt')"
   ]
  },
  {
   "cell_type": "code",
   "execution_count": 27,
   "metadata": {},
   "outputs": [
    {
     "data": {
      "text/plain": [
       "(16233065, 185)"
      ]
     },
     "execution_count": 27,
     "metadata": {},
     "output_type": "execute_result"
    }
   ],
   "source": [
    "mt_all.count()"
   ]
  },
  {
   "cell_type": "code",
   "execution_count": 28,
   "metadata": {},
   "outputs": [
    {
     "name": "stderr",
     "output_type": "stream",
     "text": [
      "/net/software/local/python/3.6.5/lib/python3.6/site-packages/ipykernel_launcher.py:22: DeprecationWarning: Call to deprecated function (or staticmethod) cond. (Replaced by hl.if_else) -- Deprecated since version 0.2.59.\n",
      "/net/software/local/python/3.6.5/lib/python3.6/site-packages/ipykernel_launcher.py:27: DeprecationWarning: Call to deprecated function (or staticmethod) cond. (Replaced by hl.if_else) -- Deprecated since version 0.2.59.\n"
     ]
    }
   ],
   "source": [
    "fams = []\n",
    "fam_hts = []\n",
    "for f in fams_to_test:\n",
    "    fam = mt.filter_cols(mt.phenotypes.family == f)\n",
    "    fam = fam.filter_rows((hl.agg.any(fam.GT.is_non_ref())))\n",
    "    fam = fam.annotate_rows(variants = hl.agg.group_by((fam.phenotypes.disease), hl.agg.count_where(fam.GT.is_non_ref())))\n",
    "    fam = fam.filter_rows(((fam.variants['NO']/gts[f]['NO']) < 0.2) & ((fam.variants['YES']/gts[f]['YES']) > 0.7))\n",
    "    fam = fam.annotate_rows(cases_refs = mt_all.index_rows(fam.row_key).cases_refs,\n",
    "                            cases_non_refs = mt_all.index_rows(fam.row_key).cases_non_refs,\n",
    "                            controls_refs = mt_all.index_rows(fam.row_key).controls_refs,\n",
    "                            controls_non_refs = mt_all.index_rows(fam.row_key).controls_non_refs)\n",
    "    fam = fam.filter_rows((fam.cases_non_refs/(fam.cases_refs + fam.cases_non_refs) > (fam.controls_non_refs/(fam.controls_refs + fam.controls_non_refs))))\n",
    "    fam = fam.filter_rows(fam.gnomad_v3.v3_nfe.AF < 0.05)\n",
    "    fam = fam.annotate_rows(non_refs_in_fam = hl.agg.group_by((fam.phenotypes.phenotype), hl.agg.count_where(fam.GT.is_non_ref())),\n",
    "                            refs_in_fam = hl.agg.group_by((fam.phenotypes.phenotype), hl.agg.count_where(fam.GT.is_hom_ref())),\n",
    "                            samples = hl.agg.filter(fam.GT.is_non_ref(), hl.agg.collect(fam.s))\n",
    "                           )\n",
    "    fam = fam.annotate_rows(non_refs_fam_controls = fam.non_refs_in_fam['.'],\n",
    "                            non_refs_fam_gts = fam.non_refs_in_fam['GTS'],\n",
    "                            non_refs_fam_tics = hl.cond(fam.non_refs_in_fam.contains('tics'), \n",
    "                                                                fam.non_refs_in_fam['tics'],\n",
    "                                                                0),\n",
    "                            refs_fam_controls = fam.refs_in_fam['.'],\n",
    "                            refs_fam_gts = fam.refs_in_fam['GTS'],\n",
    "                            refs_fam_tics = hl.cond(fam.refs_in_fam.contains('tics'), \n",
    "                                                                fam.refs_in_fam['tics'],\n",
    "                                                                0)\n",
    "                           )\n",
    "    fam = fam.rows()\n",
    "    fam = fam.select(fam.rsid, fam.gnomad_v3.v3_nfe.AF, fam.gnomad_v3.v3_nfe.homozygote_count, fam.gnomad_v3.most_severe_consequence,\n",
    "                    fam.hpo, fam.cadd, fam.nearest_genes_20kb, fam.cases_refs, fam.cases_non_refs, fam.controls_refs, fam.controls_non_refs,\n",
    "                    fam.samples, fam.non_refs_fam_controls, fam.non_refs_fam_gts, fam.non_refs_fam_tics, fam.refs_fam_controls, fam.refs_fam_gts, fam.refs_fam_tics)\n",
    "    fam_hts.append(fam)\n",
    "    \n",
    "    \n",
    "    fam = fam.to_pandas()\n",
    "    fams.append(fam)\n",
    "    fam.to_csv('/net/archive/groups/plggneuromol/imdik-zekanowski-gts/results/fam-analysis-'+f+'variants.csv')"
   ]
  },
  {
   "cell_type": "code",
   "execution_count": 29,
   "metadata": {},
   "outputs": [
    {
     "data": {
      "text/plain": [
       "14"
      ]
     },
     "execution_count": 29,
     "metadata": {},
     "output_type": "execute_result"
    }
   ],
   "source": [
    "len(fam_hts)"
   ]
  },
  {
   "cell_type": "code",
   "execution_count": 30,
   "metadata": {},
   "outputs": [
    {
     "data": {
      "text/plain": [
       "14"
      ]
     },
     "execution_count": 30,
     "metadata": {},
     "output_type": "execute_result"
    }
   ],
   "source": [
    "len(fams_to_test)"
   ]
  },
  {
   "cell_type": "code",
   "execution_count": 31,
   "metadata": {},
   "outputs": [
    {
     "name": "stdout",
     "output_type": "stream",
     "text": [
      "----------------------------------------\n",
      "Global fields:\n",
      "    None\n",
      "----------------------------------------\n",
      "Row fields:\n",
      "    'locus': locus<GRCh38> \n",
      "    'alleles': array<str> \n",
      "    'rsid': str \n",
      "    'AF': float64 \n",
      "    'homozygote_count': int32 \n",
      "    'most_severe_consequence': str \n",
      "    'hpo': array<array<str>> \n",
      "    'cadd': float64 \n",
      "    'nearest_genes_20kb': array<str> \n",
      "    'cases_refs': int64 \n",
      "    'cases_non_refs': int64 \n",
      "    'controls_refs': int64 \n",
      "    'controls_non_refs': int64 \n",
      "    'samples': array<str> \n",
      "    'non_refs_fam_controls': int64 \n",
      "    'non_refs_fam_gts': int64 \n",
      "    'non_refs_fam_tics': int64 \n",
      "    'refs_fam_controls': int64 \n",
      "    'refs_fam_gts': int64 \n",
      "    'refs_fam_tics': int64 \n",
      "----------------------------------------\n",
      "Key: ['locus', 'alleles']\n",
      "----------------------------------------\n"
     ]
    }
   ],
   "source": [
    "fam_hts[0].describe()"
   ]
  },
  {
   "cell_type": "code",
   "execution_count": 32,
   "metadata": {},
   "outputs": [],
   "source": [
    "gene_dict = {}\n",
    "for idx, fam in enumerate(fams_to_test):\n",
    "    gene_dict[fam] = fam_hts[idx].nearest_genes_20kb.collect()"
   ]
  },
  {
   "cell_type": "code",
   "execution_count": 33,
   "metadata": {},
   "outputs": [],
   "source": [
    "for key, value in gene_dict.items():\n",
    "    gene_dict[key] = (set(itertools.chain(*value)))"
   ]
  },
  {
   "cell_type": "code",
   "execution_count": 34,
   "metadata": {},
   "outputs": [],
   "source": [
    "goi = {}\n",
    "for key, value in gene_dict.items():\n",
    "    new_value = []\n",
    "    for i in value:\n",
    "        if i in genes:\n",
    "            new_value.append(i)\n",
    "    goi[key] = new_value"
   ]
  },
  {
   "cell_type": "code",
   "execution_count": 35,
   "metadata": {},
   "outputs": [],
   "source": [
    "top_genes = list(itertools.chain(*goi.values()))"
   ]
  },
  {
   "cell_type": "code",
   "execution_count": 36,
   "metadata": {},
   "outputs": [],
   "source": [
    "cons_dict = {}\n",
    "for idx, fam in enumerate(fams_to_test):\n",
    "    cons_dict[fam] = fam_hts[idx].most_severe_consequence.collect()"
   ]
  },
  {
   "cell_type": "code",
   "execution_count": 39,
   "metadata": {},
   "outputs": [],
   "source": [
    "from collections import Counter"
   ]
  },
  {
   "cell_type": "code",
   "execution_count": 40,
   "metadata": {},
   "outputs": [
    {
     "data": {
      "text/plain": [
       "Counter({'intron_variant': 74,\n",
       "         'non_coding_transcript_exon_variant': 3,\n",
       "         '3_prime_UTR_variant': 7,\n",
       "         'intergenic_variant': 4,\n",
       "         'splice_region_variant': 1,\n",
       "         'missense_variant': 3})"
      ]
     },
     "execution_count": 40,
     "metadata": {},
     "output_type": "execute_result"
    }
   ],
   "source": [
    "Counter(list(itertools.chain(*cons_dict.values())))"
   ]
  },
  {
   "cell_type": "code",
   "execution_count": 42,
   "metadata": {
    "scrolled": true
   },
   "outputs": [
    {
     "name": "stdout",
     "output_type": "stream",
     "text": [
      "0\n",
      "2\n",
      "10\n",
      "7\n",
      "1\n",
      "20\n",
      "3\n",
      "0\n",
      "1\n",
      "0\n",
      "22\n",
      "0\n",
      "26\n",
      "0\n"
     ]
    }
   ],
   "source": [
    "for f in fam_hts:\n",
    "    print(f.count())"
   ]
  },
  {
   "cell_type": "code",
   "execution_count": 43,
   "metadata": {},
   "outputs": [],
   "source": [
    "from collections import Counter\n",
    "df = pd.DataFrame(list(Counter(top_genes).items()),columns = ['column1','column2'])"
   ]
  },
  {
   "cell_type": "code",
   "execution_count": 44,
   "metadata": {},
   "outputs": [
    {
     "data": {
      "text/html": [
       "<div>\n",
       "<style scoped>\n",
       "    .dataframe tbody tr th:only-of-type {\n",
       "        vertical-align: middle;\n",
       "    }\n",
       "\n",
       "    .dataframe tbody tr th {\n",
       "        vertical-align: top;\n",
       "    }\n",
       "\n",
       "    .dataframe thead th {\n",
       "        text-align: right;\n",
       "    }\n",
       "</style>\n",
       "<table border=\"1\" class=\"dataframe\">\n",
       "  <thead>\n",
       "    <tr style=\"text-align: right;\">\n",
       "      <th></th>\n",
       "      <th>column1</th>\n",
       "      <th>column2</th>\n",
       "    </tr>\n",
       "  </thead>\n",
       "  <tbody>\n",
       "    <tr>\n",
       "      <th>1</th>\n",
       "      <td>IMMP2L</td>\n",
       "      <td>3</td>\n",
       "    </tr>\n",
       "    <tr>\n",
       "      <th>4</th>\n",
       "      <td>NEGR1</td>\n",
       "      <td>4</td>\n",
       "    </tr>\n",
       "    <tr>\n",
       "      <th>8</th>\n",
       "      <td>NRXN1</td>\n",
       "      <td>4</td>\n",
       "    </tr>\n",
       "    <tr>\n",
       "      <th>10</th>\n",
       "      <td>PKP4</td>\n",
       "      <td>3</td>\n",
       "    </tr>\n",
       "    <tr>\n",
       "      <th>11</th>\n",
       "      <td>CTNNA3</td>\n",
       "      <td>3</td>\n",
       "    </tr>\n",
       "  </tbody>\n",
       "</table>\n",
       "</div>"
      ],
      "text/plain": [
       "   column1  column2\n",
       "1   IMMP2L        3\n",
       "4    NEGR1        4\n",
       "8    NRXN1        4\n",
       "10    PKP4        3\n",
       "11  CTNNA3        3"
      ]
     },
     "execution_count": 44,
     "metadata": {},
     "output_type": "execute_result"
    }
   ],
   "source": [
    "df[(df['column2'] > 2)]"
   ]
  },
  {
   "cell_type": "code",
   "execution_count": 45,
   "metadata": {},
   "outputs": [],
   "source": [
    "df = pd.DataFrame(list(goi.items()),columns = ['family','genes'])"
   ]
  },
  {
   "cell_type": "code",
   "execution_count": 46,
   "metadata": {},
   "outputs": [],
   "source": [
    "df.to_csv('/net/archive/groups/plggneuromol/imdik-zekanowski-gts/results/familial_genes_summary.csv')"
   ]
  },
  {
   "cell_type": "code",
   "execution_count": null,
   "metadata": {},
   "outputs": [],
   "source": []
  }
 ],
 "metadata": {
  "kernelspec": {
   "display_name": "Python 3",
   "language": "python",
   "name": "python3"
  },
  "language_info": {
   "codemirror_mode": {
    "name": "ipython",
    "version": 3
   },
   "file_extension": ".py",
   "mimetype": "text/x-python",
   "name": "python",
   "nbconvert_exporter": "python",
   "pygments_lexer": "ipython3",
   "version": "3.6.5"
  }
 },
 "nbformat": 4,
 "nbformat_minor": 2
}
