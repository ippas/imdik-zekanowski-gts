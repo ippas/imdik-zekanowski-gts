{
 "cells": [
  {
   "cell_type": "code",
   "execution_count": 1,
   "metadata": {},
   "outputs": [
    {
     "data": {
      "text/html": [
       "<style>.container { width:100% !important; }</style>"
      ],
      "text/plain": [
       "<IPython.core.display.HTML object>"
      ]
     },
     "metadata": {},
     "output_type": "display_data"
    }
   ],
   "source": [
    "from IPython.display import display\n",
    "from IPython.display import HTML\n",
    "import IPython.core.display as di # Example: di.display_html('<h3>%s:</h3>' % str, raw=True)\n",
    "\n",
    "# This line will hide code by default when the notebook is exported as HTML\n",
    "# di.display_html('<script>jQuery(function() {if (jQuery(\"body.notebook_app\").length == 0) { jQuery(\".input_area\").toggle(); jQuery(\".prompt\").toggle();}});</script>', raw=True)\n",
    "\n",
    "display(HTML(\"<style>.container { width:100% !important; }</style>\"))"
   ]
  },
  {
   "cell_type": "code",
   "execution_count": 2,
   "metadata": {},
   "outputs": [
    {
     "name": "stderr",
     "output_type": "stream",
     "text": [
      "Running on Apache Spark version 2.4.5\n",
      "SparkUI available at http://p0881.prometheus:4040\n",
      "Welcome to\n",
      "     __  __     <>__\n",
      "    / /_/ /__  __/ /\n",
      "   / __  / _ `/ / /\n",
      "  /_/ /_/\\_,_/_/_/   version 0.2.62-84fa81b9ea3d\n",
      "LOGGING: writing to /net/archive/groups/plggneuromol/GTS-analysis/imdik-zekanowski-gts/hail-20210428-2230-0.2.62-84fa81b9ea3d.log\n"
     ]
    }
   ],
   "source": [
    "import hail as hl\n",
    "hl.init(tmp_dir='/net/scratch/people/plggosborcz')"
   ]
  },
  {
   "cell_type": "code",
   "execution_count": 3,
   "metadata": {},
   "outputs": [
    {
     "data": {
      "text/html": [
       "<style>.container { width:100% !important; }</style>"
      ],
      "text/plain": [
       "<IPython.core.display.HTML object>"
      ]
     },
     "metadata": {},
     "output_type": "display_data"
    }
   ],
   "source": [
    "display(HTML(\"<style>.container { width:100% !important; }</style>\"))"
   ]
  },
  {
   "cell_type": "code",
   "execution_count": 4,
   "metadata": {},
   "outputs": [
    {
     "data": {
      "text/html": [
       "\n",
       "    <div class=\"bk-root\">\n",
       "        <a href=\"https://bokeh.org\" target=\"_blank\" class=\"bk-logo bk-logo-small bk-logo-notebook\"></a>\n",
       "        <span id=\"1001\">Loading BokehJS ...</span>\n",
       "    </div>"
      ]
     },
     "metadata": {},
     "output_type": "display_data"
    },
    {
     "data": {
      "application/javascript": [
       "\n",
       "(function(root) {\n",
       "  function now() {\n",
       "    return new Date();\n",
       "  }\n",
       "\n",
       "  var force = true;\n",
       "\n",
       "  if (typeof root._bokeh_onload_callbacks === \"undefined\" || force === true) {\n",
       "    root._bokeh_onload_callbacks = [];\n",
       "    root._bokeh_is_loading = undefined;\n",
       "  }\n",
       "\n",
       "  var JS_MIME_TYPE = 'application/javascript';\n",
       "  var HTML_MIME_TYPE = 'text/html';\n",
       "  var EXEC_MIME_TYPE = 'application/vnd.bokehjs_exec.v0+json';\n",
       "  var CLASS_NAME = 'output_bokeh rendered_html';\n",
       "\n",
       "  /**\n",
       "   * Render data to the DOM node\n",
       "   */\n",
       "  function render(props, node) {\n",
       "    var script = document.createElement(\"script\");\n",
       "    node.appendChild(script);\n",
       "  }\n",
       "\n",
       "  /**\n",
       "   * Handle when an output is cleared or removed\n",
       "   */\n",
       "  function handleClearOutput(event, handle) {\n",
       "    var cell = handle.cell;\n",
       "\n",
       "    var id = cell.output_area._bokeh_element_id;\n",
       "    var server_id = cell.output_area._bokeh_server_id;\n",
       "    // Clean up Bokeh references\n",
       "    if (id != null && id in Bokeh.index) {\n",
       "      Bokeh.index[id].model.document.clear();\n",
       "      delete Bokeh.index[id];\n",
       "    }\n",
       "\n",
       "    if (server_id !== undefined) {\n",
       "      // Clean up Bokeh references\n",
       "      var cmd = \"from bokeh.io.state import curstate; print(curstate().uuid_to_server['\" + server_id + \"'].get_sessions()[0].document.roots[0]._id)\";\n",
       "      cell.notebook.kernel.execute(cmd, {\n",
       "        iopub: {\n",
       "          output: function(msg) {\n",
       "            var id = msg.content.text.trim();\n",
       "            if (id in Bokeh.index) {\n",
       "              Bokeh.index[id].model.document.clear();\n",
       "              delete Bokeh.index[id];\n",
       "            }\n",
       "          }\n",
       "        }\n",
       "      });\n",
       "      // Destroy server and session\n",
       "      var cmd = \"import bokeh.io.notebook as ion; ion.destroy_server('\" + server_id + \"')\";\n",
       "      cell.notebook.kernel.execute(cmd);\n",
       "    }\n",
       "  }\n",
       "\n",
       "  /**\n",
       "   * Handle when a new output is added\n",
       "   */\n",
       "  function handleAddOutput(event, handle) {\n",
       "    var output_area = handle.output_area;\n",
       "    var output = handle.output;\n",
       "\n",
       "    // limit handleAddOutput to display_data with EXEC_MIME_TYPE content only\n",
       "    if ((output.output_type != \"display_data\") || (!output.data.hasOwnProperty(EXEC_MIME_TYPE))) {\n",
       "      return\n",
       "    }\n",
       "\n",
       "    var toinsert = output_area.element.find(\".\" + CLASS_NAME.split(' ')[0]);\n",
       "\n",
       "    if (output.metadata[EXEC_MIME_TYPE][\"id\"] !== undefined) {\n",
       "      toinsert[toinsert.length - 1].firstChild.textContent = output.data[JS_MIME_TYPE];\n",
       "      // store reference to embed id on output_area\n",
       "      output_area._bokeh_element_id = output.metadata[EXEC_MIME_TYPE][\"id\"];\n",
       "    }\n",
       "    if (output.metadata[EXEC_MIME_TYPE][\"server_id\"] !== undefined) {\n",
       "      var bk_div = document.createElement(\"div\");\n",
       "      bk_div.innerHTML = output.data[HTML_MIME_TYPE];\n",
       "      var script_attrs = bk_div.children[0].attributes;\n",
       "      for (var i = 0; i < script_attrs.length; i++) {\n",
       "        toinsert[toinsert.length - 1].firstChild.setAttribute(script_attrs[i].name, script_attrs[i].value);\n",
       "      }\n",
       "      // store reference to server id on output_area\n",
       "      output_area._bokeh_server_id = output.metadata[EXEC_MIME_TYPE][\"server_id\"];\n",
       "    }\n",
       "  }\n",
       "\n",
       "  function register_renderer(events, OutputArea) {\n",
       "\n",
       "    function append_mime(data, metadata, element) {\n",
       "      // create a DOM node to render to\n",
       "      var toinsert = this.create_output_subarea(\n",
       "        metadata,\n",
       "        CLASS_NAME,\n",
       "        EXEC_MIME_TYPE\n",
       "      );\n",
       "      this.keyboard_manager.register_events(toinsert);\n",
       "      // Render to node\n",
       "      var props = {data: data, metadata: metadata[EXEC_MIME_TYPE]};\n",
       "      render(props, toinsert[toinsert.length - 1]);\n",
       "      element.append(toinsert);\n",
       "      return toinsert\n",
       "    }\n",
       "\n",
       "    /* Handle when an output is cleared or removed */\n",
       "    events.on('clear_output.CodeCell', handleClearOutput);\n",
       "    events.on('delete.Cell', handleClearOutput);\n",
       "\n",
       "    /* Handle when a new output is added */\n",
       "    events.on('output_added.OutputArea', handleAddOutput);\n",
       "\n",
       "    /**\n",
       "     * Register the mime type and append_mime function with output_area\n",
       "     */\n",
       "    OutputArea.prototype.register_mime_type(EXEC_MIME_TYPE, append_mime, {\n",
       "      /* Is output safe? */\n",
       "      safe: true,\n",
       "      /* Index of renderer in `output_area.display_order` */\n",
       "      index: 0\n",
       "    });\n",
       "  }\n",
       "\n",
       "  // register the mime type if in Jupyter Notebook environment and previously unregistered\n",
       "  if (root.Jupyter !== undefined) {\n",
       "    var events = require('base/js/events');\n",
       "    var OutputArea = require('notebook/js/outputarea').OutputArea;\n",
       "\n",
       "    if (OutputArea.prototype.mime_types().indexOf(EXEC_MIME_TYPE) == -1) {\n",
       "      register_renderer(events, OutputArea);\n",
       "    }\n",
       "  }\n",
       "\n",
       "  \n",
       "  if (typeof (root._bokeh_timeout) === \"undefined\" || force === true) {\n",
       "    root._bokeh_timeout = Date.now() + 5000;\n",
       "    root._bokeh_failed_load = false;\n",
       "  }\n",
       "\n",
       "  var NB_LOAD_WARNING = {'data': {'text/html':\n",
       "     \"<div style='background-color: #fdd'>\\n\"+\n",
       "     \"<p>\\n\"+\n",
       "     \"BokehJS does not appear to have successfully loaded. If loading BokehJS from CDN, this \\n\"+\n",
       "     \"may be due to a slow or bad network connection. Possible fixes:\\n\"+\n",
       "     \"</p>\\n\"+\n",
       "     \"<ul>\\n\"+\n",
       "     \"<li>re-rerun `output_notebook()` to attempt to load from CDN again, or</li>\\n\"+\n",
       "     \"<li>use INLINE resources instead, as so:</li>\\n\"+\n",
       "     \"</ul>\\n\"+\n",
       "     \"<code>\\n\"+\n",
       "     \"from bokeh.resources import INLINE\\n\"+\n",
       "     \"output_notebook(resources=INLINE)\\n\"+\n",
       "     \"</code>\\n\"+\n",
       "     \"</div>\"}};\n",
       "\n",
       "  function display_loaded() {\n",
       "    var el = document.getElementById(\"1001\");\n",
       "    if (el != null) {\n",
       "      el.textContent = \"BokehJS is loading...\";\n",
       "    }\n",
       "    if (root.Bokeh !== undefined) {\n",
       "      if (el != null) {\n",
       "        el.textContent = \"BokehJS \" + root.Bokeh.version + \" successfully loaded.\";\n",
       "      }\n",
       "    } else if (Date.now() < root._bokeh_timeout) {\n",
       "      setTimeout(display_loaded, 100)\n",
       "    }\n",
       "  }\n",
       "\n",
       "\n",
       "  function run_callbacks() {\n",
       "    try {\n",
       "      root._bokeh_onload_callbacks.forEach(function(callback) {\n",
       "        if (callback != null)\n",
       "          callback();\n",
       "      });\n",
       "    } finally {\n",
       "      delete root._bokeh_onload_callbacks\n",
       "    }\n",
       "    console.debug(\"Bokeh: all callbacks have finished\");\n",
       "  }\n",
       "\n",
       "  function load_libs(css_urls, js_urls, callback) {\n",
       "    if (css_urls == null) css_urls = [];\n",
       "    if (js_urls == null) js_urls = [];\n",
       "\n",
       "    root._bokeh_onload_callbacks.push(callback);\n",
       "    if (root._bokeh_is_loading > 0) {\n",
       "      console.debug(\"Bokeh: BokehJS is being loaded, scheduling callback at\", now());\n",
       "      return null;\n",
       "    }\n",
       "    if (js_urls == null || js_urls.length === 0) {\n",
       "      run_callbacks();\n",
       "      return null;\n",
       "    }\n",
       "    console.debug(\"Bokeh: BokehJS not loaded, scheduling load and callback at\", now());\n",
       "    root._bokeh_is_loading = css_urls.length + js_urls.length;\n",
       "\n",
       "    function on_load() {\n",
       "      root._bokeh_is_loading--;\n",
       "      if (root._bokeh_is_loading === 0) {\n",
       "        console.debug(\"Bokeh: all BokehJS libraries/stylesheets loaded\");\n",
       "        run_callbacks()\n",
       "      }\n",
       "    }\n",
       "\n",
       "    function on_error() {\n",
       "      console.error(\"failed to load \" + url);\n",
       "    }\n",
       "\n",
       "    for (var i = 0; i < css_urls.length; i++) {\n",
       "      var url = css_urls[i];\n",
       "      const element = document.createElement(\"link\");\n",
       "      element.onload = on_load;\n",
       "      element.onerror = on_error;\n",
       "      element.rel = \"stylesheet\";\n",
       "      element.type = \"text/css\";\n",
       "      element.href = url;\n",
       "      console.debug(\"Bokeh: injecting link tag for BokehJS stylesheet: \", url);\n",
       "      document.body.appendChild(element);\n",
       "    }\n",
       "\n",
       "    for (var i = 0; i < js_urls.length; i++) {\n",
       "      var url = js_urls[i];\n",
       "      var element = document.createElement('script');\n",
       "      element.onload = on_load;\n",
       "      element.onerror = on_error;\n",
       "      element.async = false;\n",
       "      element.src = url;\n",
       "      console.debug(\"Bokeh: injecting script tag for BokehJS library: \", url);\n",
       "      document.head.appendChild(element);\n",
       "    }\n",
       "  };var element = document.getElementById(\"1001\");\n",
       "  if (element == null) {\n",
       "    console.error(\"Bokeh: ERROR: autoload.js configured with elementid '1001' but no matching script tag was found. \")\n",
       "    return false;\n",
       "  }\n",
       "\n",
       "  function inject_raw_css(css) {\n",
       "    const element = document.createElement(\"style\");\n",
       "    element.appendChild(document.createTextNode(css));\n",
       "    document.body.appendChild(element);\n",
       "  }\n",
       "\n",
       "  \n",
       "  var js_urls = [\"https://cdn.pydata.org/bokeh/release/bokeh-1.4.0.min.js\", \"https://cdn.pydata.org/bokeh/release/bokeh-widgets-1.4.0.min.js\", \"https://cdn.pydata.org/bokeh/release/bokeh-tables-1.4.0.min.js\", \"https://cdn.pydata.org/bokeh/release/bokeh-gl-1.4.0.min.js\"];\n",
       "  var css_urls = [];\n",
       "  \n",
       "\n",
       "  var inline_js = [\n",
       "    function(Bokeh) {\n",
       "      Bokeh.set_log_level(\"info\");\n",
       "    },\n",
       "    function(Bokeh) {\n",
       "    \n",
       "    \n",
       "    }\n",
       "  ];\n",
       "\n",
       "  function run_inline_js() {\n",
       "    \n",
       "    if (root.Bokeh !== undefined || force === true) {\n",
       "      \n",
       "    for (var i = 0; i < inline_js.length; i++) {\n",
       "      inline_js[i].call(root, root.Bokeh);\n",
       "    }\n",
       "    if (force === true) {\n",
       "        display_loaded();\n",
       "      }} else if (Date.now() < root._bokeh_timeout) {\n",
       "      setTimeout(run_inline_js, 100);\n",
       "    } else if (!root._bokeh_failed_load) {\n",
       "      console.log(\"Bokeh: BokehJS failed to load within specified timeout.\");\n",
       "      root._bokeh_failed_load = true;\n",
       "    } else if (force !== true) {\n",
       "      var cell = $(document.getElementById(\"1001\")).parents('.cell').data().cell;\n",
       "      cell.output_area.append_execute_result(NB_LOAD_WARNING)\n",
       "    }\n",
       "\n",
       "  }\n",
       "\n",
       "  if (root._bokeh_is_loading === 0) {\n",
       "    console.debug(\"Bokeh: BokehJS loaded, going straight to plotting\");\n",
       "    run_inline_js();\n",
       "  } else {\n",
       "    load_libs(css_urls, js_urls, function() {\n",
       "      console.debug(\"Bokeh: BokehJS plotting callback run at\", now());\n",
       "      run_inline_js();\n",
       "    });\n",
       "  }\n",
       "}(window));"
      ],
      "application/vnd.bokehjs_load.v0+json": "\n(function(root) {\n  function now() {\n    return new Date();\n  }\n\n  var force = true;\n\n  if (typeof root._bokeh_onload_callbacks === \"undefined\" || force === true) {\n    root._bokeh_onload_callbacks = [];\n    root._bokeh_is_loading = undefined;\n  }\n\n  \n\n  \n  if (typeof (root._bokeh_timeout) === \"undefined\" || force === true) {\n    root._bokeh_timeout = Date.now() + 5000;\n    root._bokeh_failed_load = false;\n  }\n\n  var NB_LOAD_WARNING = {'data': {'text/html':\n     \"<div style='background-color: #fdd'>\\n\"+\n     \"<p>\\n\"+\n     \"BokehJS does not appear to have successfully loaded. If loading BokehJS from CDN, this \\n\"+\n     \"may be due to a slow or bad network connection. Possible fixes:\\n\"+\n     \"</p>\\n\"+\n     \"<ul>\\n\"+\n     \"<li>re-rerun `output_notebook()` to attempt to load from CDN again, or</li>\\n\"+\n     \"<li>use INLINE resources instead, as so:</li>\\n\"+\n     \"</ul>\\n\"+\n     \"<code>\\n\"+\n     \"from bokeh.resources import INLINE\\n\"+\n     \"output_notebook(resources=INLINE)\\n\"+\n     \"</code>\\n\"+\n     \"</div>\"}};\n\n  function display_loaded() {\n    var el = document.getElementById(\"1001\");\n    if (el != null) {\n      el.textContent = \"BokehJS is loading...\";\n    }\n    if (root.Bokeh !== undefined) {\n      if (el != null) {\n        el.textContent = \"BokehJS \" + root.Bokeh.version + \" successfully loaded.\";\n      }\n    } else if (Date.now() < root._bokeh_timeout) {\n      setTimeout(display_loaded, 100)\n    }\n  }\n\n\n  function run_callbacks() {\n    try {\n      root._bokeh_onload_callbacks.forEach(function(callback) {\n        if (callback != null)\n          callback();\n      });\n    } finally {\n      delete root._bokeh_onload_callbacks\n    }\n    console.debug(\"Bokeh: all callbacks have finished\");\n  }\n\n  function load_libs(css_urls, js_urls, callback) {\n    if (css_urls == null) css_urls = [];\n    if (js_urls == null) js_urls = [];\n\n    root._bokeh_onload_callbacks.push(callback);\n    if (root._bokeh_is_loading > 0) {\n      console.debug(\"Bokeh: BokehJS is being loaded, scheduling callback at\", now());\n      return null;\n    }\n    if (js_urls == null || js_urls.length === 0) {\n      run_callbacks();\n      return null;\n    }\n    console.debug(\"Bokeh: BokehJS not loaded, scheduling load and callback at\", now());\n    root._bokeh_is_loading = css_urls.length + js_urls.length;\n\n    function on_load() {\n      root._bokeh_is_loading--;\n      if (root._bokeh_is_loading === 0) {\n        console.debug(\"Bokeh: all BokehJS libraries/stylesheets loaded\");\n        run_callbacks()\n      }\n    }\n\n    function on_error() {\n      console.error(\"failed to load \" + url);\n    }\n\n    for (var i = 0; i < css_urls.length; i++) {\n      var url = css_urls[i];\n      const element = document.createElement(\"link\");\n      element.onload = on_load;\n      element.onerror = on_error;\n      element.rel = \"stylesheet\";\n      element.type = \"text/css\";\n      element.href = url;\n      console.debug(\"Bokeh: injecting link tag for BokehJS stylesheet: \", url);\n      document.body.appendChild(element);\n    }\n\n    for (var i = 0; i < js_urls.length; i++) {\n      var url = js_urls[i];\n      var element = document.createElement('script');\n      element.onload = on_load;\n      element.onerror = on_error;\n      element.async = false;\n      element.src = url;\n      console.debug(\"Bokeh: injecting script tag for BokehJS library: \", url);\n      document.head.appendChild(element);\n    }\n  };var element = document.getElementById(\"1001\");\n  if (element == null) {\n    console.error(\"Bokeh: ERROR: autoload.js configured with elementid '1001' but no matching script tag was found. \")\n    return false;\n  }\n\n  function inject_raw_css(css) {\n    const element = document.createElement(\"style\");\n    element.appendChild(document.createTextNode(css));\n    document.body.appendChild(element);\n  }\n\n  \n  var js_urls = [\"https://cdn.pydata.org/bokeh/release/bokeh-1.4.0.min.js\", \"https://cdn.pydata.org/bokeh/release/bokeh-widgets-1.4.0.min.js\", \"https://cdn.pydata.org/bokeh/release/bokeh-tables-1.4.0.min.js\", \"https://cdn.pydata.org/bokeh/release/bokeh-gl-1.4.0.min.js\"];\n  var css_urls = [];\n  \n\n  var inline_js = [\n    function(Bokeh) {\n      Bokeh.set_log_level(\"info\");\n    },\n    function(Bokeh) {\n    \n    \n    }\n  ];\n\n  function run_inline_js() {\n    \n    if (root.Bokeh !== undefined || force === true) {\n      \n    for (var i = 0; i < inline_js.length; i++) {\n      inline_js[i].call(root, root.Bokeh);\n    }\n    if (force === true) {\n        display_loaded();\n      }} else if (Date.now() < root._bokeh_timeout) {\n      setTimeout(run_inline_js, 100);\n    } else if (!root._bokeh_failed_load) {\n      console.log(\"Bokeh: BokehJS failed to load within specified timeout.\");\n      root._bokeh_failed_load = true;\n    } else if (force !== true) {\n      var cell = $(document.getElementById(\"1001\")).parents('.cell').data().cell;\n      cell.output_area.append_execute_result(NB_LOAD_WARNING)\n    }\n\n  }\n\n  if (root._bokeh_is_loading === 0) {\n    console.debug(\"Bokeh: BokehJS loaded, going straight to plotting\");\n    run_inline_js();\n  } else {\n    load_libs(css_urls, js_urls, function() {\n      console.debug(\"Bokeh: BokehJS plotting callback run at\", now());\n      run_inline_js();\n    });\n  }\n}(window));"
     },
     "metadata": {},
     "output_type": "display_data"
    }
   ],
   "source": [
    "from hail.plot import show\n",
    "from pprint import pprint\n",
    "from bokeh.layouts import gridplot\n",
    "hl.plot.output_notebook()\n",
    "\n",
    "import numpy as np\n",
    "import pandas as pd\n",
    "from functools import reduce\n",
    "from itertools import chain\n",
    "import statistics as stat\n",
    "\n",
    "import bokeh.palettes"
   ]
  },
  {
   "cell_type": "code",
   "execution_count": 5,
   "metadata": {},
   "outputs": [
    {
     "data": {
      "text/html": [
       "\n",
       "    <div class=\"bk-root\">\n",
       "        <a href=\"https://bokeh.org\" target=\"_blank\" class=\"bk-logo bk-logo-small bk-logo-notebook\"></a>\n",
       "        <span id=\"1002\">Loading BokehJS ...</span>\n",
       "    </div>"
      ]
     },
     "metadata": {},
     "output_type": "display_data"
    },
    {
     "data": {
      "application/javascript": [
       "\n",
       "(function(root) {\n",
       "  function now() {\n",
       "    return new Date();\n",
       "  }\n",
       "\n",
       "  var force = true;\n",
       "\n",
       "  if (typeof root._bokeh_onload_callbacks === \"undefined\" || force === true) {\n",
       "    root._bokeh_onload_callbacks = [];\n",
       "    root._bokeh_is_loading = undefined;\n",
       "  }\n",
       "\n",
       "  var JS_MIME_TYPE = 'application/javascript';\n",
       "  var HTML_MIME_TYPE = 'text/html';\n",
       "  var EXEC_MIME_TYPE = 'application/vnd.bokehjs_exec.v0+json';\n",
       "  var CLASS_NAME = 'output_bokeh rendered_html';\n",
       "\n",
       "  /**\n",
       "   * Render data to the DOM node\n",
       "   */\n",
       "  function render(props, node) {\n",
       "    var script = document.createElement(\"script\");\n",
       "    node.appendChild(script);\n",
       "  }\n",
       "\n",
       "  /**\n",
       "   * Handle when an output is cleared or removed\n",
       "   */\n",
       "  function handleClearOutput(event, handle) {\n",
       "    var cell = handle.cell;\n",
       "\n",
       "    var id = cell.output_area._bokeh_element_id;\n",
       "    var server_id = cell.output_area._bokeh_server_id;\n",
       "    // Clean up Bokeh references\n",
       "    if (id != null && id in Bokeh.index) {\n",
       "      Bokeh.index[id].model.document.clear();\n",
       "      delete Bokeh.index[id];\n",
       "    }\n",
       "\n",
       "    if (server_id !== undefined) {\n",
       "      // Clean up Bokeh references\n",
       "      var cmd = \"from bokeh.io.state import curstate; print(curstate().uuid_to_server['\" + server_id + \"'].get_sessions()[0].document.roots[0]._id)\";\n",
       "      cell.notebook.kernel.execute(cmd, {\n",
       "        iopub: {\n",
       "          output: function(msg) {\n",
       "            var id = msg.content.text.trim();\n",
       "            if (id in Bokeh.index) {\n",
       "              Bokeh.index[id].model.document.clear();\n",
       "              delete Bokeh.index[id];\n",
       "            }\n",
       "          }\n",
       "        }\n",
       "      });\n",
       "      // Destroy server and session\n",
       "      var cmd = \"import bokeh.io.notebook as ion; ion.destroy_server('\" + server_id + \"')\";\n",
       "      cell.notebook.kernel.execute(cmd);\n",
       "    }\n",
       "  }\n",
       "\n",
       "  /**\n",
       "   * Handle when a new output is added\n",
       "   */\n",
       "  function handleAddOutput(event, handle) {\n",
       "    var output_area = handle.output_area;\n",
       "    var output = handle.output;\n",
       "\n",
       "    // limit handleAddOutput to display_data with EXEC_MIME_TYPE content only\n",
       "    if ((output.output_type != \"display_data\") || (!output.data.hasOwnProperty(EXEC_MIME_TYPE))) {\n",
       "      return\n",
       "    }\n",
       "\n",
       "    var toinsert = output_area.element.find(\".\" + CLASS_NAME.split(' ')[0]);\n",
       "\n",
       "    if (output.metadata[EXEC_MIME_TYPE][\"id\"] !== undefined) {\n",
       "      toinsert[toinsert.length - 1].firstChild.textContent = output.data[JS_MIME_TYPE];\n",
       "      // store reference to embed id on output_area\n",
       "      output_area._bokeh_element_id = output.metadata[EXEC_MIME_TYPE][\"id\"];\n",
       "    }\n",
       "    if (output.metadata[EXEC_MIME_TYPE][\"server_id\"] !== undefined) {\n",
       "      var bk_div = document.createElement(\"div\");\n",
       "      bk_div.innerHTML = output.data[HTML_MIME_TYPE];\n",
       "      var script_attrs = bk_div.children[0].attributes;\n",
       "      for (var i = 0; i < script_attrs.length; i++) {\n",
       "        toinsert[toinsert.length - 1].firstChild.setAttribute(script_attrs[i].name, script_attrs[i].value);\n",
       "      }\n",
       "      // store reference to server id on output_area\n",
       "      output_area._bokeh_server_id = output.metadata[EXEC_MIME_TYPE][\"server_id\"];\n",
       "    }\n",
       "  }\n",
       "\n",
       "  function register_renderer(events, OutputArea) {\n",
       "\n",
       "    function append_mime(data, metadata, element) {\n",
       "      // create a DOM node to render to\n",
       "      var toinsert = this.create_output_subarea(\n",
       "        metadata,\n",
       "        CLASS_NAME,\n",
       "        EXEC_MIME_TYPE\n",
       "      );\n",
       "      this.keyboard_manager.register_events(toinsert);\n",
       "      // Render to node\n",
       "      var props = {data: data, metadata: metadata[EXEC_MIME_TYPE]};\n",
       "      render(props, toinsert[toinsert.length - 1]);\n",
       "      element.append(toinsert);\n",
       "      return toinsert\n",
       "    }\n",
       "\n",
       "    /* Handle when an output is cleared or removed */\n",
       "    events.on('clear_output.CodeCell', handleClearOutput);\n",
       "    events.on('delete.Cell', handleClearOutput);\n",
       "\n",
       "    /* Handle when a new output is added */\n",
       "    events.on('output_added.OutputArea', handleAddOutput);\n",
       "\n",
       "    /**\n",
       "     * Register the mime type and append_mime function with output_area\n",
       "     */\n",
       "    OutputArea.prototype.register_mime_type(EXEC_MIME_TYPE, append_mime, {\n",
       "      /* Is output safe? */\n",
       "      safe: true,\n",
       "      /* Index of renderer in `output_area.display_order` */\n",
       "      index: 0\n",
       "    });\n",
       "  }\n",
       "\n",
       "  // register the mime type if in Jupyter Notebook environment and previously unregistered\n",
       "  if (root.Jupyter !== undefined) {\n",
       "    var events = require('base/js/events');\n",
       "    var OutputArea = require('notebook/js/outputarea').OutputArea;\n",
       "\n",
       "    if (OutputArea.prototype.mime_types().indexOf(EXEC_MIME_TYPE) == -1) {\n",
       "      register_renderer(events, OutputArea);\n",
       "    }\n",
       "  }\n",
       "\n",
       "  \n",
       "  if (typeof (root._bokeh_timeout) === \"undefined\" || force === true) {\n",
       "    root._bokeh_timeout = Date.now() + 5000;\n",
       "    root._bokeh_failed_load = false;\n",
       "  }\n",
       "\n",
       "  var NB_LOAD_WARNING = {'data': {'text/html':\n",
       "     \"<div style='background-color: #fdd'>\\n\"+\n",
       "     \"<p>\\n\"+\n",
       "     \"BokehJS does not appear to have successfully loaded. If loading BokehJS from CDN, this \\n\"+\n",
       "     \"may be due to a slow or bad network connection. Possible fixes:\\n\"+\n",
       "     \"</p>\\n\"+\n",
       "     \"<ul>\\n\"+\n",
       "     \"<li>re-rerun `output_notebook()` to attempt to load from CDN again, or</li>\\n\"+\n",
       "     \"<li>use INLINE resources instead, as so:</li>\\n\"+\n",
       "     \"</ul>\\n\"+\n",
       "     \"<code>\\n\"+\n",
       "     \"from bokeh.resources import INLINE\\n\"+\n",
       "     \"output_notebook(resources=INLINE)\\n\"+\n",
       "     \"</code>\\n\"+\n",
       "     \"</div>\"}};\n",
       "\n",
       "  function display_loaded() {\n",
       "    var el = document.getElementById(\"1002\");\n",
       "    if (el != null) {\n",
       "      el.textContent = \"BokehJS is loading...\";\n",
       "    }\n",
       "    if (root.Bokeh !== undefined) {\n",
       "      if (el != null) {\n",
       "        el.textContent = \"BokehJS \" + root.Bokeh.version + \" successfully loaded.\";\n",
       "      }\n",
       "    } else if (Date.now() < root._bokeh_timeout) {\n",
       "      setTimeout(display_loaded, 100)\n",
       "    }\n",
       "  }\n",
       "\n",
       "\n",
       "  function run_callbacks() {\n",
       "    try {\n",
       "      root._bokeh_onload_callbacks.forEach(function(callback) {\n",
       "        if (callback != null)\n",
       "          callback();\n",
       "      });\n",
       "    } finally {\n",
       "      delete root._bokeh_onload_callbacks\n",
       "    }\n",
       "    console.debug(\"Bokeh: all callbacks have finished\");\n",
       "  }\n",
       "\n",
       "  function load_libs(css_urls, js_urls, callback) {\n",
       "    if (css_urls == null) css_urls = [];\n",
       "    if (js_urls == null) js_urls = [];\n",
       "\n",
       "    root._bokeh_onload_callbacks.push(callback);\n",
       "    if (root._bokeh_is_loading > 0) {\n",
       "      console.debug(\"Bokeh: BokehJS is being loaded, scheduling callback at\", now());\n",
       "      return null;\n",
       "    }\n",
       "    if (js_urls == null || js_urls.length === 0) {\n",
       "      run_callbacks();\n",
       "      return null;\n",
       "    }\n",
       "    console.debug(\"Bokeh: BokehJS not loaded, scheduling load and callback at\", now());\n",
       "    root._bokeh_is_loading = css_urls.length + js_urls.length;\n",
       "\n",
       "    function on_load() {\n",
       "      root._bokeh_is_loading--;\n",
       "      if (root._bokeh_is_loading === 0) {\n",
       "        console.debug(\"Bokeh: all BokehJS libraries/stylesheets loaded\");\n",
       "        run_callbacks()\n",
       "      }\n",
       "    }\n",
       "\n",
       "    function on_error() {\n",
       "      console.error(\"failed to load \" + url);\n",
       "    }\n",
       "\n",
       "    for (var i = 0; i < css_urls.length; i++) {\n",
       "      var url = css_urls[i];\n",
       "      const element = document.createElement(\"link\");\n",
       "      element.onload = on_load;\n",
       "      element.onerror = on_error;\n",
       "      element.rel = \"stylesheet\";\n",
       "      element.type = \"text/css\";\n",
       "      element.href = url;\n",
       "      console.debug(\"Bokeh: injecting link tag for BokehJS stylesheet: \", url);\n",
       "      document.body.appendChild(element);\n",
       "    }\n",
       "\n",
       "    for (var i = 0; i < js_urls.length; i++) {\n",
       "      var url = js_urls[i];\n",
       "      var element = document.createElement('script');\n",
       "      element.onload = on_load;\n",
       "      element.onerror = on_error;\n",
       "      element.async = false;\n",
       "      element.src = url;\n",
       "      console.debug(\"Bokeh: injecting script tag for BokehJS library: \", url);\n",
       "      document.head.appendChild(element);\n",
       "    }\n",
       "  };var element = document.getElementById(\"1002\");\n",
       "  if (element == null) {\n",
       "    console.error(\"Bokeh: ERROR: autoload.js configured with elementid '1002' but no matching script tag was found. \")\n",
       "    return false;\n",
       "  }\n",
       "\n",
       "  function inject_raw_css(css) {\n",
       "    const element = document.createElement(\"style\");\n",
       "    element.appendChild(document.createTextNode(css));\n",
       "    document.body.appendChild(element);\n",
       "  }\n",
       "\n",
       "  \n",
       "  var js_urls = [\"https://cdn.pydata.org/bokeh/release/bokeh-1.4.0.min.js\", \"https://cdn.pydata.org/bokeh/release/bokeh-widgets-1.4.0.min.js\", \"https://cdn.pydata.org/bokeh/release/bokeh-tables-1.4.0.min.js\", \"https://cdn.pydata.org/bokeh/release/bokeh-gl-1.4.0.min.js\"];\n",
       "  var css_urls = [];\n",
       "  \n",
       "\n",
       "  var inline_js = [\n",
       "    function(Bokeh) {\n",
       "      Bokeh.set_log_level(\"info\");\n",
       "    },\n",
       "    function(Bokeh) {\n",
       "    \n",
       "    \n",
       "    }\n",
       "  ];\n",
       "\n",
       "  function run_inline_js() {\n",
       "    \n",
       "    if (root.Bokeh !== undefined || force === true) {\n",
       "      \n",
       "    for (var i = 0; i < inline_js.length; i++) {\n",
       "      inline_js[i].call(root, root.Bokeh);\n",
       "    }\n",
       "    if (force === true) {\n",
       "        display_loaded();\n",
       "      }} else if (Date.now() < root._bokeh_timeout) {\n",
       "      setTimeout(run_inline_js, 100);\n",
       "    } else if (!root._bokeh_failed_load) {\n",
       "      console.log(\"Bokeh: BokehJS failed to load within specified timeout.\");\n",
       "      root._bokeh_failed_load = true;\n",
       "    } else if (force !== true) {\n",
       "      var cell = $(document.getElementById(\"1002\")).parents('.cell').data().cell;\n",
       "      cell.output_area.append_execute_result(NB_LOAD_WARNING)\n",
       "    }\n",
       "\n",
       "  }\n",
       "\n",
       "  if (root._bokeh_is_loading === 0) {\n",
       "    console.debug(\"Bokeh: BokehJS loaded, going straight to plotting\");\n",
       "    run_inline_js();\n",
       "  } else {\n",
       "    load_libs(css_urls, js_urls, function() {\n",
       "      console.debug(\"Bokeh: BokehJS plotting callback run at\", now());\n",
       "      run_inline_js();\n",
       "    });\n",
       "  }\n",
       "}(window));"
      ],
      "application/vnd.bokehjs_load.v0+json": "\n(function(root) {\n  function now() {\n    return new Date();\n  }\n\n  var force = true;\n\n  if (typeof root._bokeh_onload_callbacks === \"undefined\" || force === true) {\n    root._bokeh_onload_callbacks = [];\n    root._bokeh_is_loading = undefined;\n  }\n\n  \n\n  \n  if (typeof (root._bokeh_timeout) === \"undefined\" || force === true) {\n    root._bokeh_timeout = Date.now() + 5000;\n    root._bokeh_failed_load = false;\n  }\n\n  var NB_LOAD_WARNING = {'data': {'text/html':\n     \"<div style='background-color: #fdd'>\\n\"+\n     \"<p>\\n\"+\n     \"BokehJS does not appear to have successfully loaded. If loading BokehJS from CDN, this \\n\"+\n     \"may be due to a slow or bad network connection. Possible fixes:\\n\"+\n     \"</p>\\n\"+\n     \"<ul>\\n\"+\n     \"<li>re-rerun `output_notebook()` to attempt to load from CDN again, or</li>\\n\"+\n     \"<li>use INLINE resources instead, as so:</li>\\n\"+\n     \"</ul>\\n\"+\n     \"<code>\\n\"+\n     \"from bokeh.resources import INLINE\\n\"+\n     \"output_notebook(resources=INLINE)\\n\"+\n     \"</code>\\n\"+\n     \"</div>\"}};\n\n  function display_loaded() {\n    var el = document.getElementById(\"1002\");\n    if (el != null) {\n      el.textContent = \"BokehJS is loading...\";\n    }\n    if (root.Bokeh !== undefined) {\n      if (el != null) {\n        el.textContent = \"BokehJS \" + root.Bokeh.version + \" successfully loaded.\";\n      }\n    } else if (Date.now() < root._bokeh_timeout) {\n      setTimeout(display_loaded, 100)\n    }\n  }\n\n\n  function run_callbacks() {\n    try {\n      root._bokeh_onload_callbacks.forEach(function(callback) {\n        if (callback != null)\n          callback();\n      });\n    } finally {\n      delete root._bokeh_onload_callbacks\n    }\n    console.debug(\"Bokeh: all callbacks have finished\");\n  }\n\n  function load_libs(css_urls, js_urls, callback) {\n    if (css_urls == null) css_urls = [];\n    if (js_urls == null) js_urls = [];\n\n    root._bokeh_onload_callbacks.push(callback);\n    if (root._bokeh_is_loading > 0) {\n      console.debug(\"Bokeh: BokehJS is being loaded, scheduling callback at\", now());\n      return null;\n    }\n    if (js_urls == null || js_urls.length === 0) {\n      run_callbacks();\n      return null;\n    }\n    console.debug(\"Bokeh: BokehJS not loaded, scheduling load and callback at\", now());\n    root._bokeh_is_loading = css_urls.length + js_urls.length;\n\n    function on_load() {\n      root._bokeh_is_loading--;\n      if (root._bokeh_is_loading === 0) {\n        console.debug(\"Bokeh: all BokehJS libraries/stylesheets loaded\");\n        run_callbacks()\n      }\n    }\n\n    function on_error() {\n      console.error(\"failed to load \" + url);\n    }\n\n    for (var i = 0; i < css_urls.length; i++) {\n      var url = css_urls[i];\n      const element = document.createElement(\"link\");\n      element.onload = on_load;\n      element.onerror = on_error;\n      element.rel = \"stylesheet\";\n      element.type = \"text/css\";\n      element.href = url;\n      console.debug(\"Bokeh: injecting link tag for BokehJS stylesheet: \", url);\n      document.body.appendChild(element);\n    }\n\n    for (var i = 0; i < js_urls.length; i++) {\n      var url = js_urls[i];\n      var element = document.createElement('script');\n      element.onload = on_load;\n      element.onerror = on_error;\n      element.async = false;\n      element.src = url;\n      console.debug(\"Bokeh: injecting script tag for BokehJS library: \", url);\n      document.head.appendChild(element);\n    }\n  };var element = document.getElementById(\"1002\");\n  if (element == null) {\n    console.error(\"Bokeh: ERROR: autoload.js configured with elementid '1002' but no matching script tag was found. \")\n    return false;\n  }\n\n  function inject_raw_css(css) {\n    const element = document.createElement(\"style\");\n    element.appendChild(document.createTextNode(css));\n    document.body.appendChild(element);\n  }\n\n  \n  var js_urls = [\"https://cdn.pydata.org/bokeh/release/bokeh-1.4.0.min.js\", \"https://cdn.pydata.org/bokeh/release/bokeh-widgets-1.4.0.min.js\", \"https://cdn.pydata.org/bokeh/release/bokeh-tables-1.4.0.min.js\", \"https://cdn.pydata.org/bokeh/release/bokeh-gl-1.4.0.min.js\"];\n  var css_urls = [];\n  \n\n  var inline_js = [\n    function(Bokeh) {\n      Bokeh.set_log_level(\"info\");\n    },\n    function(Bokeh) {\n    \n    \n    }\n  ];\n\n  function run_inline_js() {\n    \n    if (root.Bokeh !== undefined || force === true) {\n      \n    for (var i = 0; i < inline_js.length; i++) {\n      inline_js[i].call(root, root.Bokeh);\n    }\n    if (force === true) {\n        display_loaded();\n      }} else if (Date.now() < root._bokeh_timeout) {\n      setTimeout(run_inline_js, 100);\n    } else if (!root._bokeh_failed_load) {\n      console.log(\"Bokeh: BokehJS failed to load within specified timeout.\");\n      root._bokeh_failed_load = true;\n    } else if (force !== true) {\n      var cell = $(document.getElementById(\"1002\")).parents('.cell').data().cell;\n      cell.output_area.append_execute_result(NB_LOAD_WARNING)\n    }\n\n  }\n\n  if (root._bokeh_is_loading === 0) {\n    console.debug(\"Bokeh: BokehJS loaded, going straight to plotting\");\n    run_inline_js();\n  } else {\n    load_libs(css_urls, js_urls, function() {\n      console.debug(\"Bokeh: BokehJS plotting callback run at\", now());\n      run_inline_js();\n    });\n  }\n}(window));"
     },
     "metadata": {},
     "output_type": "display_data"
    }
   ],
   "source": [
    "from bokeh.plotting import figure, show, output_notebook\n",
    "output_notebook()"
   ]
  },
  {
   "cell_type": "markdown",
   "metadata": {},
   "source": [
    "## investigate the asignment in families"
   ]
  },
  {
   "cell_type": "code",
   "execution_count": null,
   "metadata": {},
   "outputs": [],
   "source": [
    "mt = hl.read_matrix_table('/net/archive/groups/plggneuromol/GTS-analysis/data/GTS-gnomad-sex.mt')\n",
    "\n",
    "top_genes = ['HDC', 'CHADL', 'MAOA', 'NAA11']\n",
    "\n",
    "mt = mt.filter_rows(hl.any(lambda x: hl.literal(top_genes).contains(x), mt.nearest_genes_20kb))\n",
    "mt.count()\n",
    "mt = mt.filter_rows(mt.cadd > 10)\n",
    "mt.count()\n",
    "\n",
    "#mt.write('/net/archive/groups/plggneuromol/GTS-analysis/data/top-variants.mt')"
   ]
  },
  {
   "cell_type": "code",
   "execution_count": 6,
   "metadata": {},
   "outputs": [],
   "source": [
    "top = hl.read_matrix_table('/net/archive/groups/plggneuromol/GTS-analysis/data/top-variants.mt')"
   ]
  },
  {
   "cell_type": "code",
   "execution_count": 7,
   "metadata": {},
   "outputs": [],
   "source": [
    "false_pos = np.load('/net/archive/groups/plggneuromol/GTS-analysis/data/numpy/false_pos4cadd10.npy')\n",
    "true_pos = np.load('/net/archive/groups/plggneuromol/GTS-analysis/data/numpy/true_pos4cadd10.npy')"
   ]
  },
  {
   "cell_type": "code",
   "execution_count": 8,
   "metadata": {},
   "outputs": [],
   "source": [
    "mt_test = hl.read_matrix_table('/net/archive/groups/plggneuromol/GTS-analysis/data/mt_test_10.mt')"
   ]
  },
  {
   "cell_type": "code",
   "execution_count": 9,
   "metadata": {},
   "outputs": [],
   "source": [
    "samples = mt_test.s.collect()"
   ]
  },
  {
   "cell_type": "code",
   "execution_count": 10,
   "metadata": {},
   "outputs": [
    {
     "data": {
      "text/plain": [
       "(585211, 144)"
      ]
     },
     "execution_count": 10,
     "metadata": {},
     "output_type": "execute_result"
    }
   ],
   "source": [
    "mt_test.count()"
   ]
  },
  {
   "cell_type": "code",
   "execution_count": 11,
   "metadata": {},
   "outputs": [
    {
     "data": {
      "text/plain": [
       "(53, 370)"
      ]
     },
     "execution_count": 11,
     "metadata": {},
     "output_type": "execute_result"
    }
   ],
   "source": [
    "top.count()"
   ]
  },
  {
   "cell_type": "code",
   "execution_count": 12,
   "metadata": {},
   "outputs": [],
   "source": [
    "top_test = top.filter_cols(hl.set(['.', 'gnomad']).contains(top.phenotypes.family), keep = False)"
   ]
  },
  {
   "cell_type": "code",
   "execution_count": 13,
   "metadata": {},
   "outputs": [],
   "source": [
    "top_test = top_test.filter_cols(hl.set(samples).contains(top_test.s))"
   ]
  },
  {
   "cell_type": "code",
   "execution_count": 14,
   "metadata": {},
   "outputs": [
    {
     "data": {
      "text/plain": [
       "(53, 144)"
      ]
     },
     "execution_count": 14,
     "metadata": {},
     "output_type": "execute_result"
    }
   ],
   "source": [
    "top_test.count()"
   ]
  },
  {
   "cell_type": "code",
   "execution_count": 15,
   "metadata": {},
   "outputs": [],
   "source": [
    "families = mt_test.phenotypes.family.collect()"
   ]
  },
  {
   "cell_type": "code",
   "execution_count": 16,
   "metadata": {},
   "outputs": [
    {
     "data": {
      "text/plain": [
       "(array([4699, 4700, 4701, 4702, 4703, 4704, 4705, 4706, 4707, 4708, 4709,\n",
       "        4710, 4711, 4712, 4713, 4714, 4715, 4716, 4717, 4718, 4719, 4720,\n",
       "        4721, 4722, 4723, 4724, 4725, 4726, 4727, 4728, 4729, 4730, 4731,\n",
       "        4732, 4733, 4734, 4735, 4736, 4737, 4738, 4739, 4740, 4741, 4742,\n",
       "        4743, 4744, 4745, 4746, 4747, 4748, 4749, 4750, 4751, 4752, 4753,\n",
       "        4754, 4755, 4756, 4757, 4758, 4759, 4760, 4761, 4762, 4763, 4764,\n",
       "        4765, 4766, 4767, 4768, 4769, 4770, 4771, 4772, 4773, 4774, 4775,\n",
       "        4776, 4777, 4778, 4779, 4780, 4781, 4782, 4783, 4784, 4785, 4786,\n",
       "        4787, 4788, 4789, 4790, 4791, 4792, 4793, 4794, 4795, 4796, 4797,\n",
       "        4798, 4799, 4800, 4801, 4802, 4803, 4804, 4805, 4806, 4807, 4808,\n",
       "        4809, 4810, 4811, 4812, 4813, 4814, 4815, 4816, 4817, 4818, 4819,\n",
       "        4820, 4821, 4822, 4823, 4824, 4825, 4826, 4827, 4828, 4829, 4830,\n",
       "        4831, 4832, 4833, 4834, 4835, 4836, 4837, 4838, 4839, 4840, 4841,\n",
       "        4842, 4843, 4844, 4845, 4846, 4847, 4848, 4849, 4850, 4851, 4852,\n",
       "        4853, 4854, 4855, 4856, 4857, 4858, 4859, 4860, 4861, 4862, 4863,\n",
       "        4864, 4865, 4866, 4867, 4868, 4869, 4870, 4871, 4872, 4873, 4874,\n",
       "        4875, 4876, 4877, 4878, 4879, 4880, 4881, 4882, 4883, 4884, 4885,\n",
       "        4886, 4887, 4888, 4889, 4890, 4891, 4892, 4893, 4894, 4895, 4896,\n",
       "        4897, 4898, 4899, 4900, 4901, 4902, 4903, 4904, 4905, 4906, 4907,\n",
       "        4908, 4909, 4910, 4911, 4912, 4913, 4914, 4915, 4916, 4917, 4918,\n",
       "        4919, 4920, 4921, 4922, 4923, 4924, 4925, 4926, 4927, 4928, 4929,\n",
       "        4930, 4931, 4932, 4933, 4934, 4935, 4936, 4937, 4938, 4939, 4940,\n",
       "        4941, 4942, 4943, 4944, 4945, 4946, 4947, 4948]),)"
      ]
     },
     "execution_count": 16,
     "metadata": {},
     "output_type": "execute_result"
    }
   ],
   "source": [
    "np.where((false_pos < 0.6) & (true_pos > 0.63))"
   ]
  },
  {
   "cell_type": "code",
   "execution_count": 17,
   "metadata": {},
   "outputs": [
    {
     "data": {
      "text/plain": [
       "0.4716981132075472"
      ]
     },
     "execution_count": 17,
     "metadata": {},
     "output_type": "execute_result"
    }
   ],
   "source": [
    "false_pos[4880]"
   ]
  },
  {
   "cell_type": "code",
   "execution_count": 18,
   "metadata": {},
   "outputs": [
    {
     "data": {
      "text/plain": [
       "0.6373626373626373"
      ]
     },
     "execution_count": 18,
     "metadata": {},
     "output_type": "execute_result"
    }
   ],
   "source": [
    "true_pos[4880]"
   ]
  },
  {
   "cell_type": "code",
   "execution_count": 12,
   "metadata": {},
   "outputs": [],
   "source": [
    "test_asignment = np.load('/net/archive/groups/plggneuromol/GTS-analysis/data/numpy/test_asignment4cadd10.npy')"
   ]
  },
  {
   "cell_type": "code",
   "execution_count": 20,
   "metadata": {},
   "outputs": [
    {
     "data": {
      "text/plain": [
       "144"
      ]
     },
     "execution_count": 20,
     "metadata": {},
     "output_type": "execute_result"
    }
   ],
   "source": [
    "len(test_asignment)"
   ]
  },
  {
   "cell_type": "code",
   "execution_count": 21,
   "metadata": {},
   "outputs": [
    {
     "data": {
      "text/plain": [
       "array([ 1.58974359, -2.41025641, -3.41025641, -1.41025641,  0.58974359,\n",
       "        3.58974359,  5.58974359,  1.58974359, -0.41025641, -0.41025641,\n",
       "       -4.41025641, -0.41025641,  2.58974359,  2.58974359,  4.58974359,\n",
       "       -2.41025641,  5.58974359, -2.41025641, -5.41025641,  0.58974359,\n",
       "        2.58974359,  1.58974359,  2.58974359, -2.41025641,  0.58974359,\n",
       "        2.58974359, -0.41025641,  1.58974359, -1.41025641,  0.58974359,\n",
       "        2.58974359, -1.41025641, -3.41025641, -5.41025641, -3.41025641,\n",
       "       -4.41025641, -5.41025641, -0.41025641, -0.41025641,  2.58974359,\n",
       "        0.58974359, -4.41025641,  0.58974359, -2.41025641, -2.41025641,\n",
       "       -7.41025641, -1.41025641,  0.58974359, -2.41025641, -1.41025641,\n",
       "       -2.41025641, -2.41025641,  0.58974359, -2.41025641,  2.58974359,\n",
       "        0.58974359, -0.41025641,  0.58974359, -0.41025641, -2.41025641,\n",
       "        7.58974359, -0.41025641,  0.58974359,  7.58974359, -2.41025641,\n",
       "        6.58974359, -1.41025641,  0.58974359,  2.58974359,  3.58974359,\n",
       "        1.58974359,  5.58974359, -1.41025641,  1.58974359,  2.58974359,\n",
       "        3.58974359, -1.41025641,  0.58974359, -2.41025641, -2.41025641,\n",
       "       -0.41025641, -1.41025641,  6.58974359, -8.41025641, -6.41025641,\n",
       "       -3.41025641,  2.58974359, -2.41025641, -4.41025641,  2.58974359,\n",
       "        6.58974359,  4.58974359,  1.58974359, -2.41025641, -2.41025641,\n",
       "       -1.41025641, -4.41025641, -3.41025641,  6.58974359,  5.58974359,\n",
       "        5.58974359,  2.58974359,  1.58974359,  2.58974359,  1.58974359,\n",
       "       -1.41025641, -0.41025641,  0.58974359, -0.41025641,  6.58974359,\n",
       "       -3.41025641, -1.41025641,  0.58974359,  2.58974359, -5.41025641,\n",
       "       -0.41025641, -3.41025641, -3.41025641, -2.41025641, -4.41025641,\n",
       "       -4.41025641,  1.58974359,  5.58974359, -9.41025641,  2.58974359,\n",
       "       -3.41025641, -2.41025641, -0.41025641,  0.58974359,  0.58974359,\n",
       "        1.58974359,  1.58974359,  6.58974359, -4.41025641, -2.41025641,\n",
       "       -1.41025641,  0.58974359, -0.41025641, -4.41025641,  2.58974359,\n",
       "       -0.41025641, -4.41025641, -1.41025641, -0.41025641])"
      ]
     },
     "execution_count": 21,
     "metadata": {},
     "output_type": "execute_result"
    }
   ],
   "source": [
    "test_asignment"
   ]
  },
  {
   "cell_type": "code",
   "execution_count": 22,
   "metadata": {},
   "outputs": [
    {
     "data": {
      "text/plain": [
       "-0.9560956095609541"
      ]
     },
     "execution_count": 22,
     "metadata": {},
     "output_type": "execute_result"
    }
   ],
   "source": [
    "np.linspace(-40,40,10000)[4880]"
   ]
  },
  {
   "cell_type": "code",
   "execution_count": 23,
   "metadata": {},
   "outputs": [],
   "source": [
    "best_asignment = test_asignment > np.linspace(-40,40,10000)[4880]"
   ]
  },
  {
   "cell_type": "code",
   "execution_count": 15,
   "metadata": {},
   "outputs": [
    {
     "data": {
      "text/plain": [
       "(53, 144)"
      ]
     },
     "execution_count": 15,
     "metadata": {},
     "output_type": "execute_result"
    }
   ],
   "source": [
    "top_test.count()"
   ]
  },
  {
   "cell_type": "code",
   "execution_count": 16,
   "metadata": {},
   "outputs": [],
   "source": [
    "hdc_coding = hl.agg.filter((hl.str(top_test.nearest_genes_20kb).contains('HDC') & ((top_test.gnomad_v3.most_severe_consequence == 'missense_variant') |\n",
    "                                                                            (top_test.gnomad_v3.most_severe_consequence == 'synonymous_variant'))),\n",
    "                           hl.agg.count_where(top_test.GT.is_non_ref()))\n",
    "\n",
    "chadl_coding = hl.agg.filter((hl.str(top_test.nearest_genes_20kb).contains('CHADL') & ((top_test.gnomad_v3.most_severe_consequence == 'missense_variant') |\n",
    "                                                                            (top_test.gnomad_v3.most_severe_consequence == 'synonymous_variant'))),\n",
    "                           hl.agg.count_where(top_test.GT.is_non_ref()))\n",
    "\n",
    "maoa_coding = hl.agg.filter((hl.str(top_test.nearest_genes_20kb).contains('MAOA') & ((top_test.gnomad_v3.most_severe_consequence == 'missense_variant') |\n",
    "                                                                            (top_test.gnomad_v3.most_severe_consequence == 'synonymous_variant'))),\n",
    "                           hl.agg.count_where(top_test.GT.is_non_ref()))\n",
    "naa11_coding = hl.agg.filter((hl.str(top_test.nearest_genes_20kb).contains('NAA11') & ((top_test.gnomad_v3.most_severe_consequence == 'missense_variant') |\n",
    "                                                                            (top_test.gnomad_v3.most_severe_consequence == 'synonymous_variant'))),\n",
    "                           hl.agg.count_where(top_test.GT.is_non_ref()))"
   ]
  },
  {
   "cell_type": "code",
   "execution_count": 17,
   "metadata": {},
   "outputs": [],
   "source": [
    "top_test = top_test.annotate_cols(non_refs_hdc = hl.agg.filter(hl.str(top_test.nearest_genes_20kb).contains('HDC'), hl.agg.count_where(top_test.GT.is_non_ref())),\n",
    "                                  non_refs_chadl = hl.agg.filter(hl.str(top_test.nearest_genes_20kb).contains('CHADL'), hl.agg.count_where(top_test.GT.is_non_ref())),\n",
    "                                  non_refs_maoa = hl.agg.filter(hl.str(top_test.nearest_genes_20kb).contains('MAOA'), hl.agg.count_where(top_test.GT.is_non_ref())),\n",
    "                                  non_refs_naa11 = hl.agg.filter(hl.str(top_test.nearest_genes_20kb).contains('NAA11'), hl.agg.count_where(top_test.GT.is_non_ref())),\n",
    "                                  non_refs_hdc_coding = hdc_coding,\n",
    "                                  non_refs_chadl_coding = chadl_coding,\n",
    "                                  non_refs_maoa_coding = maoa_coding,\n",
    "                                  non_refs_naa11_coding = naa11_coding)"
   ]
  },
  {
   "cell_type": "code",
   "execution_count": 33,
   "metadata": {},
   "outputs": [
    {
     "name": "stderr",
     "output_type": "stream",
     "text": [
      "2021-04-23 13:05:17 Hail: INFO: wrote matrix table with 53 rows and 144 columns in 6622 partitions to /net/archive/groups/plggneuromol/GTS-analysis/data/top-test.mt\n",
      "    Total size: 187.08 KiB\n",
      "    * Rows/entries: 185.05 KiB\n",
      "    * Columns: 2.02 KiB\n",
      "    * Globals: 11.00 B\n",
      "    * Smallest partition: 0 rows (20.00 B)\n",
      "    * Largest partition:  23 rows (22.31 KiB)\n"
     ]
    }
   ],
   "source": [
    "top_test.write('/net/archive/groups/plggneuromol/GTS-analysis/data/top-test.mt')"
   ]
  },
  {
   "cell_type": "code",
   "execution_count": 6,
   "metadata": {},
   "outputs": [],
   "source": [
    "top_test = hl.read_matrix_table('/net/archive/groups/plggneuromol/GTS-analysis/data/top-test.mt')"
   ]
  },
  {
   "cell_type": "code",
   "execution_count": 18,
   "metadata": {},
   "outputs": [
    {
     "name": "stdout",
     "output_type": "stream",
     "text": [
      "----------------------------------------\n",
      "Global fields:\n",
      "    None\n",
      "----------------------------------------\n",
      "Column fields:\n",
      "    's': str\n",
      "    'phenotypes': struct {\n",
      "        family: str, \n",
      "        sex: str, \n",
      "        kinship: str, \n",
      "        disease: str, \n",
      "        phenotype: str, \n",
      "        add_pheno: str, \n",
      "        heavy_tics: str\n",
      "    }\n",
      "    'non_refs_hdc': int64\n",
      "    'non_refs_chadl': int64\n",
      "    'non_refs_maoa': int64\n",
      "    'non_refs_naa11': int64\n",
      "    'non_refs_hdc_coding': int64\n",
      "    'non_refs_chadl_coding': int64\n",
      "    'non_refs_maoa_coding': int64\n",
      "    'non_refs_naa11_coding': int64\n",
      "----------------------------------------\n",
      "Row fields:\n",
      "    'locus': locus<GRCh38>\n",
      "    'alleles': array<str>\n",
      "    'rsid': str\n",
      "    'AC': array<int32>\n",
      "    'AF': array<float64>\n",
      "    'AN': int32\n",
      "    'a_index': int32\n",
      "    'was_split': bool\n",
      "    'gnomad_v3': struct {\n",
      "        v3_nfe: struct {\n",
      "            AC: int32, \n",
      "            AF: float64, \n",
      "            AN: int32, \n",
      "            homozygote_count: int32\n",
      "        }, \n",
      "        intergenic_consequences: array<struct {\n",
      "            allele_num: int32, \n",
      "            consequence_terms: array<str>, \n",
      "            impact: str, \n",
      "            minimised: int32, \n",
      "            variant_allele: str\n",
      "        }>, \n",
      "        most_severe_consequence: str, \n",
      "        motif_feature_consequences: array<struct {\n",
      "            allele_num: int32, \n",
      "            consequence_terms: array<str>, \n",
      "            high_inf_pos: str, \n",
      "            impact: str, \n",
      "            minimised: int32, \n",
      "            motif_feature_id: str, \n",
      "            motif_name: str, \n",
      "            motif_pos: int32, \n",
      "            motif_score_change: float64, \n",
      "            strand: int32, \n",
      "            variant_allele: str\n",
      "        }>, \n",
      "        regulatory_feature_consequences: array<struct {\n",
      "            allele_num: int32, \n",
      "            biotype: str, \n",
      "            consequence_terms: array<str>, \n",
      "            impact: str, \n",
      "            minimised: int32, \n",
      "            regulatory_feature_id: str, \n",
      "            variant_allele: str\n",
      "        }>, \n",
      "        transcript_consequences: array<struct {\n",
      "            allele_num: int32, \n",
      "            amino_acids: str, \n",
      "            appris: str, \n",
      "            biotype: str, \n",
      "            canonical: int32, \n",
      "            ccds: str, \n",
      "            cdna_start: int32, \n",
      "            cdna_end: int32, \n",
      "            cds_end: int32, \n",
      "            cds_start: int32, \n",
      "            codons: str, \n",
      "            consequence_terms: array<str>, \n",
      "            distance: int32, \n",
      "            domains: array<struct {\n",
      "                db: str, \n",
      "                name: str\n",
      "            }>, \n",
      "            exon: str, \n",
      "            gene_id: str, \n",
      "            gene_pheno: int32, \n",
      "            gene_symbol: str, \n",
      "            gene_symbol_source: str, \n",
      "            hgnc_id: str, \n",
      "            hgvsc: str, \n",
      "            hgvsp: str, \n",
      "            hgvs_offset: int32, \n",
      "            impact: str, \n",
      "            intron: str, \n",
      "            lof: str, \n",
      "            lof_flags: str, \n",
      "            lof_filter: str, \n",
      "            lof_info: str, \n",
      "            minimised: int32, \n",
      "            polyphen_prediction: str, \n",
      "            polyphen_score: float64, \n",
      "            protein_end: int32, \n",
      "            protein_start: int32, \n",
      "            protein_id: str, \n",
      "            sift_prediction: str, \n",
      "            sift_score: float64, \n",
      "            strand: int32, \n",
      "            swissprot: str, \n",
      "            transcript_id: str, \n",
      "            trembl: str, \n",
      "            tsl: int32, \n",
      "            uniparc: str, \n",
      "            variant_allele: str\n",
      "        }>, \n",
      "        variant_class: str, \n",
      "        rsid: str, \n",
      "        cov_v3: struct {\n",
      "            over_1: float32\n",
      "        }\n",
      "    }\n",
      "    'within_gene': array<str>\n",
      "    'hpo': array<array<str>>\n",
      "    'cadd': float64\n",
      "    'nearest_genes_20kb': array<str>\n",
      "----------------------------------------\n",
      "Entry fields:\n",
      "    'AD': array<int32>\n",
      "    'DP': int32\n",
      "    'GQ': int32\n",
      "    'GT': call\n",
      "    'MIN_DP': int32\n",
      "    'PGT': call\n",
      "    'PID': str\n",
      "    'PL': array<int32>\n",
      "    'PS': int32\n",
      "    'RGQ': int32\n",
      "    'SB': array<int32>\n",
      "----------------------------------------\n",
      "Column key: ['s']\n",
      "Row key: ['locus', 'alleles']\n",
      "----------------------------------------\n"
     ]
    }
   ],
   "source": [
    "top_test.describe()"
   ]
  },
  {
   "cell_type": "code",
   "execution_count": 19,
   "metadata": {},
   "outputs": [
    {
     "data": {
      "text/plain": [
       "(3, 144)"
      ]
     },
     "execution_count": 19,
     "metadata": {},
     "output_type": "execute_result"
    }
   ],
   "source": [
    "#coding HDC\n",
    "top_test.filter_rows((hl.str(top_test.nearest_genes_20kb).contains('HDC') & ((top_test.gnomad_v3.most_severe_consequence == 'missense_variant') |\n",
    "                                                                            (top_test.gnomad_v3.most_severe_consequence == 'synonymous_variant')))).count()"
   ]
  },
  {
   "cell_type": "code",
   "execution_count": 20,
   "metadata": {},
   "outputs": [
    {
     "data": {
      "text/plain": [
       "(5, 144)"
      ]
     },
     "execution_count": 20,
     "metadata": {},
     "output_type": "execute_result"
    }
   ],
   "source": [
    "#coding CHADL\n",
    "top_test.filter_rows((hl.str(top_test.nearest_genes_20kb).contains('CHADL') & ((top_test.gnomad_v3.most_severe_consequence == 'missense_variant') |\n",
    "                                                                            (top_test.gnomad_v3.most_severe_consequence == 'synonymous_variant')))).count()"
   ]
  },
  {
   "cell_type": "code",
   "execution_count": 21,
   "metadata": {},
   "outputs": [
    {
     "data": {
      "text/plain": [
       "(0, 144)"
      ]
     },
     "execution_count": 21,
     "metadata": {},
     "output_type": "execute_result"
    }
   ],
   "source": [
    "#coding MAOA:\n",
    "top_test.filter_rows((hl.str(top_test.nearest_genes_20kb).contains('MAOA') & ((top_test.gnomad_v3.most_severe_consequence == 'missense_variant') |\n",
    "                                                                            (top_test.gnomad_v3.most_severe_consequence == 'synonymous_variant')))).count()"
   ]
  },
  {
   "cell_type": "code",
   "execution_count": 22,
   "metadata": {},
   "outputs": [
    {
     "data": {
      "text/plain": [
       "(1, 144)"
      ]
     },
     "execution_count": 22,
     "metadata": {},
     "output_type": "execute_result"
    }
   ],
   "source": [
    "#coding NAA11:\n",
    "top_test.filter_rows((hl.str(top_test.nearest_genes_20kb).contains('NAA11') & ((top_test.gnomad_v3.most_severe_consequence == 'missense_variant') |\n",
    "                                                                            (top_test.gnomad_v3.most_severe_consequence == 'synonymous_variant')))).count()"
   ]
  },
  {
   "cell_type": "code",
   "execution_count": 23,
   "metadata": {},
   "outputs": [
    {
     "data": {
      "text/plain": [
       "(12, 144)"
      ]
     },
     "execution_count": 23,
     "metadata": {},
     "output_type": "execute_result"
    }
   ],
   "source": [
    "#noncoding HDC\n",
    "top_test.filter_rows((hl.str(top_test.nearest_genes_20kb).contains('HDC') & ((top_test.gnomad_v3.most_severe_consequence != 'missense_variant') &\n",
    "                                                                            (top_test.gnomad_v3.most_severe_consequence != 'synonymous_variant')))).count()"
   ]
  },
  {
   "cell_type": "code",
   "execution_count": 24,
   "metadata": {},
   "outputs": [
    {
     "data": {
      "text/plain": [
       "(5, 144)"
      ]
     },
     "execution_count": 24,
     "metadata": {},
     "output_type": "execute_result"
    }
   ],
   "source": [
    "#noncoding CHADL (this should rather be 7)\n",
    "top_test.filter_rows((hl.str(top_test.nearest_genes_20kb).contains('CHADL') & ((top_test.gnomad_v3.most_severe_consequence != 'missense_variant') &\n",
    "                                                                            (top_test.gnomad_v3.most_severe_consequence != 'synonymous_variant')))).count()"
   ]
  },
  {
   "cell_type": "code",
   "execution_count": 25,
   "metadata": {},
   "outputs": [
    {
     "data": {
      "text/plain": [
       "(3, 144)"
      ]
     },
     "execution_count": 25,
     "metadata": {},
     "output_type": "execute_result"
    }
   ],
   "source": [
    "#noncoding MAOA:\n",
    "top_test.filter_rows((hl.str(top_test.nearest_genes_20kb).contains('MAOA') & ((top_test.gnomad_v3.most_severe_consequence != 'missense_variant') &\n",
    "                                                                            (top_test.gnomad_v3.most_severe_consequence != 'synonymous_variant')))).count()"
   ]
  },
  {
   "cell_type": "code",
   "execution_count": 26,
   "metadata": {},
   "outputs": [
    {
     "data": {
      "text/plain": [
       "(22, 144)"
      ]
     },
     "execution_count": 26,
     "metadata": {},
     "output_type": "execute_result"
    }
   ],
   "source": [
    "#noncoding NAA11:\n",
    "top_test.filter_rows((hl.str(top_test.nearest_genes_20kb).contains('NAA11') & ((top_test.gnomad_v3.most_severe_consequence != 'missense_variant') |\n",
    "                                                                            (top_test.gnomad_v3.most_severe_consequence != 'synonymous_variant')))).count()"
   ]
  },
  {
   "cell_type": "code",
   "execution_count": 27,
   "metadata": {},
   "outputs": [
    {
     "data": {
      "text/plain": [
       "(15, 144)"
      ]
     },
     "execution_count": 27,
     "metadata": {},
     "output_type": "execute_result"
    }
   ],
   "source": [
    "#all HDC\n",
    "top_test.filter_rows(hl.str(top_test.nearest_genes_20kb).contains('HDC')).count()"
   ]
  },
  {
   "cell_type": "code",
   "execution_count": 28,
   "metadata": {},
   "outputs": [
    {
     "data": {
      "text/plain": [
       "(12, 144)"
      ]
     },
     "execution_count": 28,
     "metadata": {},
     "output_type": "execute_result"
    }
   ],
   "source": [
    "#all CHADL\n",
    "top_test.filter_rows(hl.str(top_test.nearest_genes_20kb).contains('CHADL')).count()"
   ]
  },
  {
   "cell_type": "code",
   "execution_count": 29,
   "metadata": {},
   "outputs": [
    {
     "data": {
      "text/plain": [
       "(3, 144)"
      ]
     },
     "execution_count": 29,
     "metadata": {},
     "output_type": "execute_result"
    }
   ],
   "source": [
    "#all MAOA\n",
    "top_test.filter_rows(hl.str(top_test.nearest_genes_20kb).contains('MAOA')).count()"
   ]
  },
  {
   "cell_type": "code",
   "execution_count": 30,
   "metadata": {},
   "outputs": [
    {
     "data": {
      "text/plain": [
       "(23, 144)"
      ]
     },
     "execution_count": 30,
     "metadata": {},
     "output_type": "execute_result"
    }
   ],
   "source": [
    "#all NAA11:\n",
    "top_test.filter_rows(hl.str(top_test.nearest_genes_20kb).contains('NAA11')).count()"
   ]
  },
  {
   "cell_type": "code",
   "execution_count": 31,
   "metadata": {},
   "outputs": [
    {
     "data": {
      "text/plain": [
       "(53, 144)"
      ]
     },
     "execution_count": 31,
     "metadata": {},
     "output_type": "execute_result"
    }
   ],
   "source": [
    "top_test.count()"
   ]
  },
  {
   "cell_type": "code",
   "execution_count": 32,
   "metadata": {},
   "outputs": [
    {
     "name": "stderr",
     "output_type": "stream",
     "text": [
      "2021-04-28 19:42:52 Hail: WARN: cols(): Resulting column table is sorted by 'col_key'.\n",
      "    To preserve matrix table column order, first unkey columns with 'key_cols_by()'\n"
     ]
    }
   ],
   "source": [
    "to_export = top_test.cols()"
   ]
  },
  {
   "cell_type": "code",
   "execution_count": 33,
   "metadata": {},
   "outputs": [],
   "source": [
    "families = to_export.to_pandas()"
   ]
  },
  {
   "cell_type": "code",
   "execution_count": 34,
   "metadata": {},
   "outputs": [
    {
     "data": {
      "text/html": [
       "<div>\n",
       "<style scoped>\n",
       "    .dataframe tbody tr th:only-of-type {\n",
       "        vertical-align: middle;\n",
       "    }\n",
       "\n",
       "    .dataframe tbody tr th {\n",
       "        vertical-align: top;\n",
       "    }\n",
       "\n",
       "    .dataframe thead th {\n",
       "        text-align: right;\n",
       "    }\n",
       "</style>\n",
       "<table border=\"1\" class=\"dataframe\">\n",
       "  <thead>\n",
       "    <tr style=\"text-align: right;\">\n",
       "      <th></th>\n",
       "      <th>s</th>\n",
       "      <th>phenotypes.family</th>\n",
       "      <th>phenotypes.sex</th>\n",
       "      <th>phenotypes.kinship</th>\n",
       "      <th>phenotypes.disease</th>\n",
       "      <th>phenotypes.phenotype</th>\n",
       "      <th>phenotypes.add_pheno</th>\n",
       "      <th>phenotypes.heavy_tics</th>\n",
       "      <th>non_refs_hdc</th>\n",
       "      <th>non_refs_chadl</th>\n",
       "      <th>non_refs_maoa</th>\n",
       "      <th>non_refs_naa11</th>\n",
       "      <th>non_refs_hdc_coding</th>\n",
       "      <th>non_refs_chadl_coding</th>\n",
       "      <th>non_refs_maoa_coding</th>\n",
       "      <th>non_refs_naa11_coding</th>\n",
       "    </tr>\n",
       "  </thead>\n",
       "  <tbody>\n",
       "    <tr>\n",
       "      <th>0</th>\n",
       "      <td>460</td>\n",
       "      <td>U</td>\n",
       "      <td>M</td>\n",
       "      <td>P</td>\n",
       "      <td>YES</td>\n",
       "      <td>GTS</td>\n",
       "      <td>.</td>\n",
       "      <td>.</td>\n",
       "      <td>3</td>\n",
       "      <td>2</td>\n",
       "      <td>0</td>\n",
       "      <td>9</td>\n",
       "      <td>0</td>\n",
       "      <td>1</td>\n",
       "      <td>0</td>\n",
       "      <td>0</td>\n",
       "    </tr>\n",
       "    <tr>\n",
       "      <th>1</th>\n",
       "      <td>461</td>\n",
       "      <td>U</td>\n",
       "      <td>M</td>\n",
       "      <td>father</td>\n",
       "      <td>YES</td>\n",
       "      <td>tics</td>\n",
       "      <td>.</td>\n",
       "      <td>.</td>\n",
       "      <td>2</td>\n",
       "      <td>2</td>\n",
       "      <td>0</td>\n",
       "      <td>6</td>\n",
       "      <td>0</td>\n",
       "      <td>1</td>\n",
       "      <td>0</td>\n",
       "      <td>0</td>\n",
       "    </tr>\n",
       "    <tr>\n",
       "      <th>2</th>\n",
       "      <td>462</td>\n",
       "      <td>U</td>\n",
       "      <td>F</td>\n",
       "      <td>mother</td>\n",
       "      <td>NO</td>\n",
       "      <td>.</td>\n",
       "      <td>.</td>\n",
       "      <td>.</td>\n",
       "      <td>3</td>\n",
       "      <td>2</td>\n",
       "      <td>0</td>\n",
       "      <td>4</td>\n",
       "      <td>0</td>\n",
       "      <td>1</td>\n",
       "      <td>0</td>\n",
       "      <td>0</td>\n",
       "    </tr>\n",
       "    <tr>\n",
       "      <th>3</th>\n",
       "      <td>463</td>\n",
       "      <td>U</td>\n",
       "      <td>M</td>\n",
       "      <td>father_brother_son</td>\n",
       "      <td>YES</td>\n",
       "      <td>GTS</td>\n",
       "      <td>.</td>\n",
       "      <td>.</td>\n",
       "      <td>3</td>\n",
       "      <td>3</td>\n",
       "      <td>0</td>\n",
       "      <td>5</td>\n",
       "      <td>1</td>\n",
       "      <td>1</td>\n",
       "      <td>0</td>\n",
       "      <td>0</td>\n",
       "    </tr>\n",
       "    <tr>\n",
       "      <th>4</th>\n",
       "      <td>465</td>\n",
       "      <td>U</td>\n",
       "      <td>M</td>\n",
       "      <td>father_father</td>\n",
       "      <td>YES</td>\n",
       "      <td>tics</td>\n",
       "      <td>.</td>\n",
       "      <td>.</td>\n",
       "      <td>5</td>\n",
       "      <td>2</td>\n",
       "      <td>0</td>\n",
       "      <td>6</td>\n",
       "      <td>1</td>\n",
       "      <td>1</td>\n",
       "      <td>0</td>\n",
       "      <td>0</td>\n",
       "    </tr>\n",
       "    <tr>\n",
       "      <th>...</th>\n",
       "      <td>...</td>\n",
       "      <td>...</td>\n",
       "      <td>...</td>\n",
       "      <td>...</td>\n",
       "      <td>...</td>\n",
       "      <td>...</td>\n",
       "      <td>...</td>\n",
       "      <td>...</td>\n",
       "      <td>...</td>\n",
       "      <td>...</td>\n",
       "      <td>...</td>\n",
       "      <td>...</td>\n",
       "      <td>...</td>\n",
       "      <td>...</td>\n",
       "      <td>...</td>\n",
       "      <td>...</td>\n",
       "    </tr>\n",
       "    <tr>\n",
       "      <th>139</th>\n",
       "      <td>WGS_D197c</td>\n",
       "      <td>T</td>\n",
       "      <td>M</td>\n",
       "      <td>father</td>\n",
       "      <td>YES</td>\n",
       "      <td>GTS</td>\n",
       "      <td>.</td>\n",
       "      <td>.</td>\n",
       "      <td>3</td>\n",
       "      <td>6</td>\n",
       "      <td>0</td>\n",
       "      <td>6</td>\n",
       "      <td>0</td>\n",
       "      <td>2</td>\n",
       "      <td>0</td>\n",
       "      <td>0</td>\n",
       "    </tr>\n",
       "    <tr>\n",
       "      <th>140</th>\n",
       "      <td>WGS_D6811</td>\n",
       "      <td>T</td>\n",
       "      <td>M</td>\n",
       "      <td>brother</td>\n",
       "      <td>YES</td>\n",
       "      <td>tics</td>\n",
       "      <td>OCD</td>\n",
       "      <td>.</td>\n",
       "      <td>1</td>\n",
       "      <td>4</td>\n",
       "      <td>1</td>\n",
       "      <td>6</td>\n",
       "      <td>0</td>\n",
       "      <td>1</td>\n",
       "      <td>0</td>\n",
       "      <td>0</td>\n",
       "    </tr>\n",
       "    <tr>\n",
       "      <th>141</th>\n",
       "      <td>WGS_D6813</td>\n",
       "      <td>T</td>\n",
       "      <td>F</td>\n",
       "      <td>mother_sister</td>\n",
       "      <td>NO</td>\n",
       "      <td>.</td>\n",
       "      <td>.</td>\n",
       "      <td>.</td>\n",
       "      <td>1</td>\n",
       "      <td>0</td>\n",
       "      <td>0</td>\n",
       "      <td>7</td>\n",
       "      <td>0</td>\n",
       "      <td>0</td>\n",
       "      <td>0</td>\n",
       "      <td>0</td>\n",
       "    </tr>\n",
       "    <tr>\n",
       "      <th>142</th>\n",
       "      <td>WGS_D6815</td>\n",
       "      <td>T</td>\n",
       "      <td>F</td>\n",
       "      <td>father_mother</td>\n",
       "      <td>NO</td>\n",
       "      <td>.</td>\n",
       "      <td>.</td>\n",
       "      <td>.</td>\n",
       "      <td>3</td>\n",
       "      <td>2</td>\n",
       "      <td>0</td>\n",
       "      <td>6</td>\n",
       "      <td>0</td>\n",
       "      <td>1</td>\n",
       "      <td>0</td>\n",
       "      <td>0</td>\n",
       "    </tr>\n",
       "    <tr>\n",
       "      <th>143</th>\n",
       "      <td>WGS_D6816</td>\n",
       "      <td>T</td>\n",
       "      <td>M</td>\n",
       "      <td>father_father</td>\n",
       "      <td>YES</td>\n",
       "      <td>GTS</td>\n",
       "      <td>.</td>\n",
       "      <td>.</td>\n",
       "      <td>3</td>\n",
       "      <td>4</td>\n",
       "      <td>0</td>\n",
       "      <td>5</td>\n",
       "      <td>0</td>\n",
       "      <td>1</td>\n",
       "      <td>0</td>\n",
       "      <td>0</td>\n",
       "    </tr>\n",
       "  </tbody>\n",
       "</table>\n",
       "<p>144 rows × 16 columns</p>\n",
       "</div>"
      ],
      "text/plain": [
       "             s phenotypes.family phenotypes.sex  phenotypes.kinship  \\\n",
       "0          460                 U              M                   P   \n",
       "1          461                 U              M              father   \n",
       "2          462                 U              F              mother   \n",
       "3          463                 U              M  father_brother_son   \n",
       "4          465                 U              M       father_father   \n",
       "..         ...               ...            ...                 ...   \n",
       "139  WGS_D197c                 T              M              father   \n",
       "140  WGS_D6811                 T              M             brother   \n",
       "141  WGS_D6813                 T              F       mother_sister   \n",
       "142  WGS_D6815                 T              F       father_mother   \n",
       "143  WGS_D6816                 T              M       father_father   \n",
       "\n",
       "    phenotypes.disease phenotypes.phenotype phenotypes.add_pheno  \\\n",
       "0                  YES                  GTS                    .   \n",
       "1                  YES                 tics                    .   \n",
       "2                   NO                    .                    .   \n",
       "3                  YES                  GTS                    .   \n",
       "4                  YES                 tics                    .   \n",
       "..                 ...                  ...                  ...   \n",
       "139                YES                  GTS                    .   \n",
       "140                YES                 tics                  OCD   \n",
       "141                 NO                    .                    .   \n",
       "142                 NO                    .                    .   \n",
       "143                YES                  GTS                    .   \n",
       "\n",
       "    phenotypes.heavy_tics  non_refs_hdc  non_refs_chadl  non_refs_maoa  \\\n",
       "0                       .             3               2              0   \n",
       "1                       .             2               2              0   \n",
       "2                       .             3               2              0   \n",
       "3                       .             3               3              0   \n",
       "4                       .             5               2              0   \n",
       "..                    ...           ...             ...            ...   \n",
       "139                     .             3               6              0   \n",
       "140                     .             1               4              1   \n",
       "141                     .             1               0              0   \n",
       "142                     .             3               2              0   \n",
       "143                     .             3               4              0   \n",
       "\n",
       "     non_refs_naa11  non_refs_hdc_coding  non_refs_chadl_coding  \\\n",
       "0                 9                    0                      1   \n",
       "1                 6                    0                      1   \n",
       "2                 4                    0                      1   \n",
       "3                 5                    1                      1   \n",
       "4                 6                    1                      1   \n",
       "..              ...                  ...                    ...   \n",
       "139               6                    0                      2   \n",
       "140               6                    0                      1   \n",
       "141               7                    0                      0   \n",
       "142               6                    0                      1   \n",
       "143               5                    0                      1   \n",
       "\n",
       "     non_refs_maoa_coding  non_refs_naa11_coding  \n",
       "0                       0                      0  \n",
       "1                       0                      0  \n",
       "2                       0                      0  \n",
       "3                       0                      0  \n",
       "4                       0                      0  \n",
       "..                    ...                    ...  \n",
       "139                     0                      0  \n",
       "140                     0                      0  \n",
       "141                     0                      0  \n",
       "142                     0                      0  \n",
       "143                     0                      0  \n",
       "\n",
       "[144 rows x 16 columns]"
      ]
     },
     "execution_count": 34,
     "metadata": {},
     "output_type": "execute_result"
    }
   ],
   "source": [
    "families"
   ]
  },
  {
   "cell_type": "code",
   "execution_count": 35,
   "metadata": {},
   "outputs": [],
   "source": [
    "families.to_csv('family_table')"
   ]
  },
  {
   "cell_type": "code",
   "execution_count": 36,
   "metadata": {},
   "outputs": [],
   "source": [
    "variants_gnomad = np.load('/net/archive/groups/plggneuromol/GTS-analysis/data/numpy/variants_controls4cadd10.npy')"
   ]
  },
  {
   "cell_type": "code",
   "execution_count": 37,
   "metadata": {},
   "outputs": [],
   "source": [
    "variants_gts_test = np.load('/net/archive/groups/plggneuromol/GTS-analysis/data/numpy/variants_gts_test4cadd10.npy') "
   ]
  },
  {
   "cell_type": "markdown",
   "metadata": {},
   "source": [
    "## investigate variants that went into the model"
   ]
  },
  {
   "cell_type": "code",
   "execution_count": null,
   "metadata": {},
   "outputs": [],
   "source": [
    "top = hl.read_matrix_table('/net/archive/groups/plggneuromol/GTS-analysis/data/top-variants.mt')"
   ]
  },
  {
   "cell_type": "code",
   "execution_count": 163,
   "metadata": {},
   "outputs": [
    {
     "data": {
      "text/plain": [
       "14.699433962264152"
      ]
     },
     "execution_count": 163,
     "metadata": {},
     "output_type": "execute_result"
    }
   ],
   "source": [
    "top.aggregate_rows(hl.agg.mean(top.cadd))"
   ]
  },
  {
   "cell_type": "code",
   "execution_count": 165,
   "metadata": {
    "scrolled": true
   },
   "outputs": [
    {
     "data": {
      "text/plain": [
       "13.99"
      ]
     },
     "execution_count": 165,
     "metadata": {},
     "output_type": "execute_result"
    }
   ],
   "source": [
    "top.aggregate_rows(hl.agg.approx_median(top.cadd))"
   ]
  },
  {
   "cell_type": "code",
   "execution_count": 170,
   "metadata": {
    "scrolled": true
   },
   "outputs": [
    {
     "data": {
      "text/html": [
       "\n",
       "\n",
       "\n",
       "\n",
       "\n",
       "\n",
       "  <div class=\"bk-root\" id=\"875554ed-d7b2-4f31-8987-391933d3e58f\" data-root-id=\"1217\"></div>\n"
      ]
     },
     "metadata": {},
     "output_type": "display_data"
    },
    {
     "data": {
      "application/javascript": [
       "(function(root) {\n",
       "  function embed_document(root) {\n",
       "    \n",
       "  var docs_json = {\"4dde2ee9-3191-48d6-be36-a334af172bf3\":{\"roots\":{\"references\":[{\"attributes\":{\"background_fill_color\":{\"value\":\"#EEEEEE\"},\"below\":[{\"id\":\"1228\",\"type\":\"LinearAxis\"}],\"center\":[{\"id\":\"1232\",\"type\":\"Grid\"},{\"id\":\"1237\",\"type\":\"Grid\"},{\"id\":\"1262\",\"type\":\"Legend\"}],\"left\":[{\"id\":\"1233\",\"type\":\"LinearAxis\"}],\"renderers\":[{\"id\":\"1254\",\"type\":\"GlyphRenderer\"}],\"title\":{\"id\":\"1218\",\"type\":\"Title\"},\"toolbar\":{\"id\":\"1244\",\"type\":\"Toolbar\"},\"x_range\":{\"id\":\"1220\",\"type\":\"Range1d\"},\"x_scale\":{\"id\":\"1224\",\"type\":\"LinearScale\"},\"y_range\":{\"id\":\"1222\",\"type\":\"DataRange1d\"},\"y_scale\":{\"id\":\"1226\",\"type\":\"LinearScale\"}},\"id\":\"1217\",\"subtype\":\"Figure\",\"type\":\"Plot\"},{\"attributes\":{\"bottom\":{\"value\":0},\"fill_color\":{\"value\":\"#1f77b4\"},\"left\":{\"field\":\"left\"},\"right\":{\"field\":\"right\"},\"top\":{\"field\":\"top\"}},\"id\":\"1252\",\"type\":\"Quad\"},{\"attributes\":{},\"id\":\"1241\",\"type\":\"SaveTool\"},{\"attributes\":{\"bottom_units\":\"screen\",\"fill_alpha\":{\"value\":0.5},\"fill_color\":{\"value\":\"lightgrey\"},\"left_units\":\"screen\",\"level\":\"overlay\",\"line_alpha\":{\"value\":1.0},\"line_color\":{\"value\":\"black\"},\"line_dash\":[4,4],\"line_width\":{\"value\":2},\"render_mode\":\"css\",\"right_units\":\"screen\",\"top_units\":\"screen\"},\"id\":\"1261\",\"type\":\"BoxAnnotation\"},{\"attributes\":{},\"id\":\"1285\",\"type\":\"UnionRenderers\"},{\"attributes\":{},\"id\":\"1258\",\"type\":\"BasicTickFormatter\"},{\"attributes\":{\"source\":{\"id\":\"1251\",\"type\":\"ColumnDataSource\"}},\"id\":\"1255\",\"type\":\"CDSView\"},{\"attributes\":{\"active_drag\":\"auto\",\"active_inspect\":\"auto\",\"active_multi\":null,\"active_scroll\":\"auto\",\"active_tap\":\"auto\",\"tools\":[{\"id\":\"1238\",\"type\":\"PanTool\"},{\"id\":\"1239\",\"type\":\"WheelZoomTool\"},{\"id\":\"1240\",\"type\":\"BoxZoomTool\"},{\"id\":\"1241\",\"type\":\"SaveTool\"},{\"id\":\"1242\",\"type\":\"ResetTool\"},{\"id\":\"1243\",\"type\":\"HelpTool\"}]},\"id\":\"1244\",\"type\":\"Toolbar\"},{\"attributes\":{\"axis_label\":\"Frequency\",\"axis_label_text_font_size\":{\"value\":\"15pt\"},\"formatter\":{\"id\":\"1260\",\"type\":\"BasicTickFormatter\"},\"major_label_text_font_size\":{\"value\":\"15pt\"},\"ticker\":{\"id\":\"1234\",\"type\":\"BasicTicker\"}},\"id\":\"1233\",\"type\":\"LinearAxis\"},{\"attributes\":{\"text\":\"CADD Histogram\"},\"id\":\"1218\",\"type\":\"Title\"},{\"attributes\":{\"items\":[{\"id\":\"1263\",\"type\":\"LegendItem\"}]},\"id\":\"1262\",\"type\":\"Legend\"},{\"attributes\":{},\"id\":\"1243\",\"type\":\"HelpTool\"},{\"attributes\":{\"callback\":null,\"data\":{\"left\":[0.0,3.0,6.0,9.0,12.0,15.0,18.0,21.0,24.0,27.0],\"right\":[3.0,6.0,9.0,12.0,15.0,18.0,21.0,24.0,27.0,30.0],\"top\":[0,0,0,14,18,14,4,2,1,0]},\"selected\":{\"id\":\"1286\",\"type\":\"Selection\"},\"selection_policy\":{\"id\":\"1285\",\"type\":\"UnionRenderers\"}},\"id\":\"1251\",\"type\":\"ColumnDataSource\"},{\"attributes\":{\"data_source\":{\"id\":\"1251\",\"type\":\"ColumnDataSource\"},\"glyph\":{\"id\":\"1252\",\"type\":\"Quad\"},\"hover_glyph\":null,\"muted_glyph\":null,\"nonselection_glyph\":{\"id\":\"1253\",\"type\":\"Quad\"},\"selection_glyph\":null,\"view\":{\"id\":\"1255\",\"type\":\"CDSView\"}},\"id\":\"1254\",\"type\":\"GlyphRenderer\"},{\"attributes\":{\"callback\":null},\"id\":\"1222\",\"type\":\"DataRange1d\"},{\"attributes\":{\"ticker\":{\"id\":\"1229\",\"type\":\"BasicTicker\"}},\"id\":\"1232\",\"type\":\"Grid\"},{\"attributes\":{},\"id\":\"1238\",\"type\":\"PanTool\"},{\"attributes\":{},\"id\":\"1286\",\"type\":\"Selection\"},{\"attributes\":{\"callback\":null,\"end\":31.5,\"start\":-1.5},\"id\":\"1220\",\"type\":\"Range1d\"},{\"attributes\":{\"axis_label\":\"CADD\",\"axis_label_text_font_size\":{\"value\":\"15pt\"},\"formatter\":{\"id\":\"1258\",\"type\":\"BasicTickFormatter\"},\"major_label_text_font_size\":{\"value\":\"15pt\"},\"ticker\":{\"id\":\"1229\",\"type\":\"BasicTicker\"}},\"id\":\"1228\",\"type\":\"LinearAxis\"},{\"attributes\":{\"label\":{\"value\":\"CADD\"},\"renderers\":[{\"id\":\"1254\",\"type\":\"GlyphRenderer\"}]},\"id\":\"1263\",\"type\":\"LegendItem\"},{\"attributes\":{},\"id\":\"1260\",\"type\":\"BasicTickFormatter\"},{\"attributes\":{},\"id\":\"1239\",\"type\":\"WheelZoomTool\"},{\"attributes\":{\"overlay\":{\"id\":\"1261\",\"type\":\"BoxAnnotation\"}},\"id\":\"1240\",\"type\":\"BoxZoomTool\"},{\"attributes\":{\"dimension\":1,\"ticker\":{\"id\":\"1234\",\"type\":\"BasicTicker\"}},\"id\":\"1237\",\"type\":\"Grid\"},{\"attributes\":{},\"id\":\"1229\",\"type\":\"BasicTicker\"},{\"attributes\":{},\"id\":\"1224\",\"type\":\"LinearScale\"},{\"attributes\":{},\"id\":\"1242\",\"type\":\"ResetTool\"},{\"attributes\":{},\"id\":\"1234\",\"type\":\"BasicTicker\"},{\"attributes\":{},\"id\":\"1226\",\"type\":\"LinearScale\"},{\"attributes\":{\"bottom\":{\"value\":0},\"fill_alpha\":{\"value\":0.1},\"fill_color\":{\"value\":\"#1f77b4\"},\"left\":{\"field\":\"left\"},\"line_alpha\":{\"value\":0.1},\"line_color\":{\"value\":\"#1f77b4\"},\"right\":{\"field\":\"right\"},\"top\":{\"field\":\"top\"}},\"id\":\"1253\",\"type\":\"Quad\"}],\"root_ids\":[\"1217\"]},\"title\":\"Bokeh Application\",\"version\":\"1.4.0\"}};\n",
       "  var render_items = [{\"docid\":\"4dde2ee9-3191-48d6-be36-a334af172bf3\",\"roots\":{\"1217\":\"875554ed-d7b2-4f31-8987-391933d3e58f\"}}];\n",
       "  root.Bokeh.embed.embed_items_notebook(docs_json, render_items);\n",
       "\n",
       "  }\n",
       "  if (root.Bokeh !== undefined) {\n",
       "    embed_document(root);\n",
       "  } else {\n",
       "    var attempts = 0;\n",
       "    var timer = setInterval(function(root) {\n",
       "      if (root.Bokeh !== undefined) {\n",
       "        clearInterval(timer);\n",
       "        embed_document(root);\n",
       "      } else {\n",
       "        attempts++;\n",
       "        if (attempts > 100) {\n",
       "          clearInterval(timer);\n",
       "          console.log(\"Bokeh: ERROR: Unable to run BokehJS code because BokehJS library is missing\");\n",
       "        }\n",
       "      }\n",
       "    }, 10, root)\n",
       "  }\n",
       "})(window);"
      ],
      "application/vnd.bokehjs_exec.v0+json": ""
     },
     "metadata": {
      "application/vnd.bokehjs_exec.v0+json": {
       "id": "1217"
      }
     },
     "output_type": "display_data"
    }
   ],
   "source": [
    "cadd_hist = top.aggregate_rows(hl.expr.aggregators.hist(top.cadd, 0, 30, 10))\n",
    "\n",
    "p = hl.plot.histogram(cadd_hist, legend='CADD', title='CADD Histogram')\n",
    "p.xaxis.axis_label_text_font_size = \"15pt\"\n",
    "p.xaxis.major_label_text_font_size = \"15pt\"\n",
    "p.yaxis.axis_label_text_font_size = \"15pt\"\n",
    "p.yaxis.major_label_text_font_size = \"15pt\"\n",
    "show(p)"
   ]
  },
  {
   "cell_type": "code",
   "execution_count": 172,
   "metadata": {},
   "outputs": [
    {
     "name": "stdout",
     "output_type": "stream",
     "text": [
      "----------------------------------------\n",
      "Global fields:\n",
      "    None\n",
      "----------------------------------------\n",
      "Column fields:\n",
      "    's': str\n",
      "    'phenotypes': struct {\n",
      "        family: str, \n",
      "        sex: str, \n",
      "        kinship: str, \n",
      "        disease: str, \n",
      "        phenotype: str, \n",
      "        add_pheno: str, \n",
      "        heavy_tics: str\n",
      "    }\n",
      "----------------------------------------\n",
      "Row fields:\n",
      "    'locus': locus<GRCh38>\n",
      "    'alleles': array<str>\n",
      "    'rsid': str\n",
      "    'AC': array<int32>\n",
      "    'AF': array<float64>\n",
      "    'AN': int32\n",
      "    'a_index': int32\n",
      "    'was_split': bool\n",
      "    'gnomad_v3': struct {\n",
      "        v3_nfe: struct {\n",
      "            AC: int32, \n",
      "            AF: float64, \n",
      "            AN: int32, \n",
      "            homozygote_count: int32\n",
      "        }, \n",
      "        intergenic_consequences: array<struct {\n",
      "            allele_num: int32, \n",
      "            consequence_terms: array<str>, \n",
      "            impact: str, \n",
      "            minimised: int32, \n",
      "            variant_allele: str\n",
      "        }>, \n",
      "        most_severe_consequence: str, \n",
      "        motif_feature_consequences: array<struct {\n",
      "            allele_num: int32, \n",
      "            consequence_terms: array<str>, \n",
      "            high_inf_pos: str, \n",
      "            impact: str, \n",
      "            minimised: int32, \n",
      "            motif_feature_id: str, \n",
      "            motif_name: str, \n",
      "            motif_pos: int32, \n",
      "            motif_score_change: float64, \n",
      "            strand: int32, \n",
      "            variant_allele: str\n",
      "        }>, \n",
      "        regulatory_feature_consequences: array<struct {\n",
      "            allele_num: int32, \n",
      "            biotype: str, \n",
      "            consequence_terms: array<str>, \n",
      "            impact: str, \n",
      "            minimised: int32, \n",
      "            regulatory_feature_id: str, \n",
      "            variant_allele: str\n",
      "        }>, \n",
      "        transcript_consequences: array<struct {\n",
      "            allele_num: int32, \n",
      "            amino_acids: str, \n",
      "            appris: str, \n",
      "            biotype: str, \n",
      "            canonical: int32, \n",
      "            ccds: str, \n",
      "            cdna_start: int32, \n",
      "            cdna_end: int32, \n",
      "            cds_end: int32, \n",
      "            cds_start: int32, \n",
      "            codons: str, \n",
      "            consequence_terms: array<str>, \n",
      "            distance: int32, \n",
      "            domains: array<struct {\n",
      "                db: str, \n",
      "                name: str\n",
      "            }>, \n",
      "            exon: str, \n",
      "            gene_id: str, \n",
      "            gene_pheno: int32, \n",
      "            gene_symbol: str, \n",
      "            gene_symbol_source: str, \n",
      "            hgnc_id: str, \n",
      "            hgvsc: str, \n",
      "            hgvsp: str, \n",
      "            hgvs_offset: int32, \n",
      "            impact: str, \n",
      "            intron: str, \n",
      "            lof: str, \n",
      "            lof_flags: str, \n",
      "            lof_filter: str, \n",
      "            lof_info: str, \n",
      "            minimised: int32, \n",
      "            polyphen_prediction: str, \n",
      "            polyphen_score: float64, \n",
      "            protein_end: int32, \n",
      "            protein_start: int32, \n",
      "            protein_id: str, \n",
      "            sift_prediction: str, \n",
      "            sift_score: float64, \n",
      "            strand: int32, \n",
      "            swissprot: str, \n",
      "            transcript_id: str, \n",
      "            trembl: str, \n",
      "            tsl: int32, \n",
      "            uniparc: str, \n",
      "            variant_allele: str\n",
      "        }>, \n",
      "        variant_class: str, \n",
      "        rsid: str, \n",
      "        cov_v3: struct {\n",
      "            over_1: float32\n",
      "        }\n",
      "    }\n",
      "    'within_gene': array<str>\n",
      "    'hpo': array<array<str>>\n",
      "    'cadd': float64\n",
      "    'nearest_genes_20kb': array<str>\n",
      "----------------------------------------\n",
      "Entry fields:\n",
      "    'AD': array<int32>\n",
      "    'DP': int32\n",
      "    'GQ': int32\n",
      "    'GT': call\n",
      "    'MIN_DP': int32\n",
      "    'PGT': call\n",
      "    'PID': str\n",
      "    'PL': array<int32>\n",
      "    'PS': int32\n",
      "    'RGQ': int32\n",
      "    'SB': array<int32>\n",
      "----------------------------------------\n",
      "Column key: ['s']\n",
      "Row key: ['locus', 'alleles']\n",
      "----------------------------------------\n"
     ]
    }
   ],
   "source": [
    "top.describe()"
   ]
  },
  {
   "cell_type": "code",
   "execution_count": 173,
   "metadata": {
    "scrolled": false
   },
   "outputs": [
    {
     "data": {
      "text/plain": [
       "0.1620541948665361"
      ]
     },
     "execution_count": 173,
     "metadata": {},
     "output_type": "execute_result"
    }
   ],
   "source": [
    "top.aggregate_rows(hl.agg.mean(top.gnomad_v3.v3_nfe.AF))"
   ]
  },
  {
   "cell_type": "code",
   "execution_count": 174,
   "metadata": {
    "scrolled": true
   },
   "outputs": [
    {
     "data": {
      "text/plain": [
       "0.05887911270834624"
      ]
     },
     "execution_count": 174,
     "metadata": {},
     "output_type": "execute_result"
    }
   ],
   "source": [
    "top.aggregate_rows(hl.agg.approx_median(top.gnomad_v3.v3_nfe.AF))"
   ]
  },
  {
   "cell_type": "code",
   "execution_count": 184,
   "metadata": {},
   "outputs": [
    {
     "data": {
      "text/html": [
       "\n",
       "\n",
       "\n",
       "\n",
       "\n",
       "\n",
       "  <div class=\"bk-root\" id=\"91fd1ed3-036b-4628-af02-84d4a628340d\" data-root-id=\"2126\"></div>\n"
      ]
     },
     "metadata": {},
     "output_type": "display_data"
    },
    {
     "data": {
      "application/javascript": [
       "(function(root) {\n",
       "  function embed_document(root) {\n",
       "    \n",
       "  var docs_json = {\"392715d6-759f-4968-9f5d-612c7f38bbe1\":{\"roots\":{\"references\":[{\"attributes\":{\"background_fill_color\":{\"value\":\"#EEEEEE\"},\"below\":[{\"id\":\"2137\",\"type\":\"LinearAxis\"}],\"center\":[{\"id\":\"2141\",\"type\":\"Grid\"},{\"id\":\"2146\",\"type\":\"Grid\"},{\"id\":\"2171\",\"type\":\"Legend\"}],\"left\":[{\"id\":\"2142\",\"type\":\"LinearAxis\"}],\"renderers\":[{\"id\":\"2163\",\"type\":\"GlyphRenderer\"},{\"id\":\"2176\",\"type\":\"GlyphRenderer\"}],\"title\":{\"id\":\"2127\",\"type\":\"Title\"},\"toolbar\":{\"id\":\"2153\",\"type\":\"Toolbar\"},\"x_range\":{\"id\":\"2129\",\"type\":\"Range1d\"},\"x_scale\":{\"id\":\"2133\",\"type\":\"LinearScale\"},\"y_range\":{\"id\":\"2131\",\"type\":\"DataRange1d\"},\"y_scale\":{\"id\":\"2135\",\"type\":\"LinearScale\"}},\"id\":\"2126\",\"subtype\":\"Figure\",\"type\":\"Plot\"},{\"attributes\":{},\"id\":\"2150\",\"type\":\"SaveTool\"},{\"attributes\":{\"source\":{\"id\":\"2173\",\"type\":\"ColumnDataSource\"}},\"id\":\"2177\",\"type\":\"CDSView\"},{\"attributes\":{\"callback\":null,\"end\":0.21000000000000002,\"start\":-0.010000000000000002},\"id\":\"2129\",\"type\":\"Range1d\"},{\"attributes\":{\"bottom\":{\"value\":0},\"fill_alpha\":{\"value\":0.1},\"fill_color\":{\"value\":\"#1f77b4\"},\"left\":{\"field\":\"left\"},\"line_alpha\":{\"value\":0.1},\"line_color\":{\"value\":\"#1f77b4\"},\"right\":{\"field\":\"right\"},\"top\":{\"field\":\"top\"}},\"id\":\"2162\",\"type\":\"Quad\"},{\"attributes\":{\"label\":{\"value\":\"Outliers Above\"},\"renderers\":[{\"id\":\"2176\",\"type\":\"GlyphRenderer\"}]},\"id\":\"2186\",\"type\":\"LegendItem\"},{\"attributes\":{\"data_source\":{\"id\":\"2173\",\"type\":\"ColumnDataSource\"},\"glyph\":{\"id\":\"2174\",\"type\":\"Quad\"},\"hover_glyph\":null,\"muted_glyph\":null,\"nonselection_glyph\":{\"id\":\"2175\",\"type\":\"Quad\"},\"selection_glyph\":null,\"view\":{\"id\":\"2177\",\"type\":\"CDSView\"}},\"id\":\"2176\",\"type\":\"GlyphRenderer\"},{\"attributes\":{},\"id\":\"2138\",\"type\":\"BasicTicker\"},{\"attributes\":{\"ticker\":{\"id\":\"2138\",\"type\":\"BasicTicker\"}},\"id\":\"2141\",\"type\":\"Grid\"},{\"attributes\":{\"axis_label\":\"gnomAD MAF\",\"axis_label_text_font_size\":{\"value\":\"15pt\"},\"formatter\":{\"id\":\"2167\",\"type\":\"BasicTickFormatter\"},\"major_label_text_font_size\":{\"value\":\"15pt\"},\"ticker\":{\"id\":\"2138\",\"type\":\"BasicTicker\"}},\"id\":\"2137\",\"type\":\"LinearAxis\"},{\"attributes\":{},\"id\":\"2260\",\"type\":\"UnionRenderers\"},{\"attributes\":{\"active_drag\":\"auto\",\"active_inspect\":\"auto\",\"active_multi\":null,\"active_scroll\":\"auto\",\"active_tap\":\"auto\",\"tools\":[{\"id\":\"2147\",\"type\":\"PanTool\"},{\"id\":\"2148\",\"type\":\"WheelZoomTool\"},{\"id\":\"2149\",\"type\":\"BoxZoomTool\"},{\"id\":\"2150\",\"type\":\"SaveTool\"},{\"id\":\"2151\",\"type\":\"ResetTool\"},{\"id\":\"2152\",\"type\":\"HelpTool\"}]},\"id\":\"2153\",\"type\":\"Toolbar\"},{\"attributes\":{},\"id\":\"2183\",\"type\":\"UnionRenderers\"},{\"attributes\":{},\"id\":\"2184\",\"type\":\"Selection\"},{\"attributes\":{\"bottom\":{\"value\":0},\"fill_alpha\":{\"value\":0.1},\"fill_color\":{\"value\":\"#1f77b4\"},\"left\":{\"value\":0.2},\"line_alpha\":{\"value\":0.1},\"line_color\":{\"value\":\"#1f77b4\"},\"right\":{\"value\":0.21000000000000002},\"top\":{\"value\":14}},\"id\":\"2175\",\"type\":\"Quad\"},{\"attributes\":{\"label\":{\"value\":\"gnomAD MAF\"},\"renderers\":[{\"id\":\"2163\",\"type\":\"GlyphRenderer\"}]},\"id\":\"2172\",\"type\":\"LegendItem\"},{\"attributes\":{},\"id\":\"2151\",\"type\":\"ResetTool\"},{\"attributes\":{\"bottom\":{\"value\":0},\"fill_color\":{\"value\":\"#1f77b4\"},\"left\":{\"field\":\"left\"},\"right\":{\"field\":\"right\"},\"top\":{\"field\":\"top\"}},\"id\":\"2161\",\"type\":\"Quad\"},{\"attributes\":{\"callback\":null,\"data\":{},\"selected\":{\"id\":\"2261\",\"type\":\"Selection\"},\"selection_policy\":{\"id\":\"2260\",\"type\":\"UnionRenderers\"}},\"id\":\"2173\",\"type\":\"ColumnDataSource\"},{\"attributes\":{\"bottom\":{\"value\":0},\"fill_color\":{\"value\":\"green\"},\"left\":{\"value\":0.2},\"right\":{\"value\":0.21000000000000002},\"top\":{\"value\":14}},\"id\":\"2174\",\"type\":\"Quad\"},{\"attributes\":{},\"id\":\"2261\",\"type\":\"Selection\"},{\"attributes\":{\"dimension\":1,\"ticker\":{\"id\":\"2143\",\"type\":\"BasicTicker\"}},\"id\":\"2146\",\"type\":\"Grid\"},{\"attributes\":{\"source\":{\"id\":\"2160\",\"type\":\"ColumnDataSource\"}},\"id\":\"2164\",\"type\":\"CDSView\"},{\"attributes\":{\"items\":[{\"id\":\"2172\",\"type\":\"LegendItem\"},{\"id\":\"2186\",\"type\":\"LegendItem\"}]},\"id\":\"2171\",\"type\":\"Legend\"},{\"attributes\":{},\"id\":\"2143\",\"type\":\"BasicTicker\"},{\"attributes\":{\"text\":\"MAF Histogram\"},\"id\":\"2127\",\"type\":\"Title\"},{\"attributes\":{},\"id\":\"2148\",\"type\":\"WheelZoomTool\"},{\"attributes\":{},\"id\":\"2133\",\"type\":\"LinearScale\"},{\"attributes\":{},\"id\":\"2135\",\"type\":\"LinearScale\"},{\"attributes\":{\"axis_label\":\"Frequency\",\"axis_label_text_font_size\":{\"value\":\"15pt\"},\"formatter\":{\"id\":\"2169\",\"type\":\"BasicTickFormatter\"},\"major_label_text_font_size\":{\"value\":\"15pt\"},\"ticker\":{\"id\":\"2143\",\"type\":\"BasicTicker\"}},\"id\":\"2142\",\"type\":\"LinearAxis\"},{\"attributes\":{\"overlay\":{\"id\":\"2170\",\"type\":\"BoxAnnotation\"}},\"id\":\"2149\",\"type\":\"BoxZoomTool\"},{\"attributes\":{},\"id\":\"2147\",\"type\":\"PanTool\"},{\"attributes\":{\"callback\":null,\"data\":{\"left\":[0.0,0.01,0.02,0.03,0.04,0.05,0.06,0.07,0.08,0.09,0.1,0.11,0.12,0.13,0.14,0.15,0.16,0.17,0.18,0.19],\"right\":[0.01,0.02,0.03,0.04,0.05,0.06,0.07,0.08,0.09,0.1,0.11,0.12,0.13,0.14,0.15,0.16,0.17,0.18,0.19,0.2],\"top\":[15,2,4,2,1,5,0,0,3,0,2,0,0,0,0,2,0,0,0,0]},\"selected\":{\"id\":\"2184\",\"type\":\"Selection\"},\"selection_policy\":{\"id\":\"2183\",\"type\":\"UnionRenderers\"}},\"id\":\"2160\",\"type\":\"ColumnDataSource\"},{\"attributes\":{\"bottom_units\":\"screen\",\"fill_alpha\":{\"value\":0.5},\"fill_color\":{\"value\":\"lightgrey\"},\"left_units\":\"screen\",\"level\":\"overlay\",\"line_alpha\":{\"value\":1.0},\"line_color\":{\"value\":\"black\"},\"line_dash\":[4,4],\"line_width\":{\"value\":2},\"render_mode\":\"css\",\"right_units\":\"screen\",\"top_units\":\"screen\"},\"id\":\"2170\",\"type\":\"BoxAnnotation\"},{\"attributes\":{},\"id\":\"2167\",\"type\":\"BasicTickFormatter\"},{\"attributes\":{},\"id\":\"2169\",\"type\":\"BasicTickFormatter\"},{\"attributes\":{\"data_source\":{\"id\":\"2160\",\"type\":\"ColumnDataSource\"},\"glyph\":{\"id\":\"2161\",\"type\":\"Quad\"},\"hover_glyph\":null,\"muted_glyph\":null,\"nonselection_glyph\":{\"id\":\"2162\",\"type\":\"Quad\"},\"selection_glyph\":null,\"view\":{\"id\":\"2164\",\"type\":\"CDSView\"}},\"id\":\"2163\",\"type\":\"GlyphRenderer\"},{\"attributes\":{},\"id\":\"2152\",\"type\":\"HelpTool\"},{\"attributes\":{\"callback\":null},\"id\":\"2131\",\"type\":\"DataRange1d\"}],\"root_ids\":[\"2126\"]},\"title\":\"Bokeh Application\",\"version\":\"1.4.0\"}};\n",
       "  var render_items = [{\"docid\":\"392715d6-759f-4968-9f5d-612c7f38bbe1\",\"roots\":{\"2126\":\"91fd1ed3-036b-4628-af02-84d4a628340d\"}}];\n",
       "  root.Bokeh.embed.embed_items_notebook(docs_json, render_items);\n",
       "\n",
       "  }\n",
       "  if (root.Bokeh !== undefined) {\n",
       "    embed_document(root);\n",
       "  } else {\n",
       "    var attempts = 0;\n",
       "    var timer = setInterval(function(root) {\n",
       "      if (root.Bokeh !== undefined) {\n",
       "        clearInterval(timer);\n",
       "        embed_document(root);\n",
       "      } else {\n",
       "        attempts++;\n",
       "        if (attempts > 100) {\n",
       "          clearInterval(timer);\n",
       "          console.log(\"Bokeh: ERROR: Unable to run BokehJS code because BokehJS library is missing\");\n",
       "        }\n",
       "      }\n",
       "    }, 10, root)\n",
       "  }\n",
       "})(window);"
      ],
      "application/vnd.bokehjs_exec.v0+json": ""
     },
     "metadata": {
      "application/vnd.bokehjs_exec.v0+json": {
       "id": "2126"
      }
     },
     "output_type": "display_data"
    }
   ],
   "source": [
    "gnomad_hist = top.aggregate_rows(hl.expr.aggregators.hist(top.gnomad_v3.v3_nfe.AF, 0, 0.2, 20))\n",
    "\n",
    "p2 = hl.plot.histogram(gnomad_hist, legend='gnomAD MAF', title='MAF Histogram')\n",
    "p2.xaxis.axis_label_text_font_size = \"15pt\"\n",
    "p2.xaxis.major_label_text_font_size = \"15pt\"\n",
    "p2.yaxis.axis_label_text_font_size = \"15pt\"\n",
    "p2.yaxis.major_label_text_font_size = \"15pt\"\n",
    "\n",
    "show(p2)"
   ]
  },
  {
   "cell_type": "code",
   "execution_count": 169,
   "metadata": {},
   "outputs": [
    {
     "data": {
      "text/plain": [
       "(53, 370)"
      ]
     },
     "execution_count": 169,
     "metadata": {},
     "output_type": "execute_result"
    }
   ],
   "source": [
    "top.count()"
   ]
  },
  {
   "cell_type": "code",
   "execution_count": 191,
   "metadata": {},
   "outputs": [
    {
     "data": {
      "text/plain": [
       "{None: 3,\n",
       " 'missense_variant': 5,\n",
       " 'non_coding_transcript_exon_variant': 2,\n",
       " 'intron_variant': 27,\n",
       " 'synonymous_variant': 4,\n",
       " 'intergenic_variant': 1,\n",
       " 'upstream_gene_variant': 1,\n",
       " '3_prime_UTR_variant': 5,\n",
       " 'downstream_gene_variant': 3,\n",
       " 'regulatory_region_variant': 2}"
      ]
     },
     "execution_count": 191,
     "metadata": {},
     "output_type": "execute_result"
    }
   ],
   "source": [
    "top.aggregate_rows(hl.agg.counter(top.gnomad_v3.most_severe_consequence))"
   ]
  },
  {
   "cell_type": "code",
   "execution_count": 192,
   "metadata": {},
   "outputs": [
    {
     "name": "stdout",
     "output_type": "stream",
     "text": [
      "----------------------------------------\n",
      "Global fields:\n",
      "    None\n",
      "----------------------------------------\n",
      "Column fields:\n",
      "    's': str\n",
      "    'phenotypes': struct {\n",
      "        family: str, \n",
      "        sex: str, \n",
      "        kinship: str, \n",
      "        disease: str, \n",
      "        phenotype: str, \n",
      "        add_pheno: str, \n",
      "        heavy_tics: str\n",
      "    }\n",
      "----------------------------------------\n",
      "Row fields:\n",
      "    'locus': locus<GRCh38>\n",
      "    'alleles': array<str>\n",
      "    'rsid': str\n",
      "    'AC': array<int32>\n",
      "    'AF': array<float64>\n",
      "    'AN': int32\n",
      "    'a_index': int32\n",
      "    'was_split': bool\n",
      "    'gnomad_v3': struct {\n",
      "        v3_nfe: struct {\n",
      "            AC: int32, \n",
      "            AF: float64, \n",
      "            AN: int32, \n",
      "            homozygote_count: int32\n",
      "        }, \n",
      "        intergenic_consequences: array<struct {\n",
      "            allele_num: int32, \n",
      "            consequence_terms: array<str>, \n",
      "            impact: str, \n",
      "            minimised: int32, \n",
      "            variant_allele: str\n",
      "        }>, \n",
      "        most_severe_consequence: str, \n",
      "        motif_feature_consequences: array<struct {\n",
      "            allele_num: int32, \n",
      "            consequence_terms: array<str>, \n",
      "            high_inf_pos: str, \n",
      "            impact: str, \n",
      "            minimised: int32, \n",
      "            motif_feature_id: str, \n",
      "            motif_name: str, \n",
      "            motif_pos: int32, \n",
      "            motif_score_change: float64, \n",
      "            strand: int32, \n",
      "            variant_allele: str\n",
      "        }>, \n",
      "        regulatory_feature_consequences: array<struct {\n",
      "            allele_num: int32, \n",
      "            biotype: str, \n",
      "            consequence_terms: array<str>, \n",
      "            impact: str, \n",
      "            minimised: int32, \n",
      "            regulatory_feature_id: str, \n",
      "            variant_allele: str\n",
      "        }>, \n",
      "        transcript_consequences: array<struct {\n",
      "            allele_num: int32, \n",
      "            amino_acids: str, \n",
      "            appris: str, \n",
      "            biotype: str, \n",
      "            canonical: int32, \n",
      "            ccds: str, \n",
      "            cdna_start: int32, \n",
      "            cdna_end: int32, \n",
      "            cds_end: int32, \n",
      "            cds_start: int32, \n",
      "            codons: str, \n",
      "            consequence_terms: array<str>, \n",
      "            distance: int32, \n",
      "            domains: array<struct {\n",
      "                db: str, \n",
      "                name: str\n",
      "            }>, \n",
      "            exon: str, \n",
      "            gene_id: str, \n",
      "            gene_pheno: int32, \n",
      "            gene_symbol: str, \n",
      "            gene_symbol_source: str, \n",
      "            hgnc_id: str, \n",
      "            hgvsc: str, \n",
      "            hgvsp: str, \n",
      "            hgvs_offset: int32, \n",
      "            impact: str, \n",
      "            intron: str, \n",
      "            lof: str, \n",
      "            lof_flags: str, \n",
      "            lof_filter: str, \n",
      "            lof_info: str, \n",
      "            minimised: int32, \n",
      "            polyphen_prediction: str, \n",
      "            polyphen_score: float64, \n",
      "            protein_end: int32, \n",
      "            protein_start: int32, \n",
      "            protein_id: str, \n",
      "            sift_prediction: str, \n",
      "            sift_score: float64, \n",
      "            strand: int32, \n",
      "            swissprot: str, \n",
      "            transcript_id: str, \n",
      "            trembl: str, \n",
      "            tsl: int32, \n",
      "            uniparc: str, \n",
      "            variant_allele: str\n",
      "        }>, \n",
      "        variant_class: str, \n",
      "        rsid: str, \n",
      "        cov_v3: struct {\n",
      "            over_1: float32\n",
      "        }\n",
      "    }\n",
      "    'within_gene': array<str>\n",
      "    'hpo': array<array<str>>\n",
      "    'cadd': float64\n",
      "    'nearest_genes_20kb': array<str>\n",
      "----------------------------------------\n",
      "Entry fields:\n",
      "    'AD': array<int32>\n",
      "    'DP': int32\n",
      "    'GQ': int32\n",
      "    'GT': call\n",
      "    'MIN_DP': int32\n",
      "    'PGT': call\n",
      "    'PID': str\n",
      "    'PL': array<int32>\n",
      "    'PS': int32\n",
      "    'RGQ': int32\n",
      "    'SB': array<int32>\n",
      "----------------------------------------\n",
      "Column key: ['s']\n",
      "Row key: ['locus', 'alleles']\n",
      "----------------------------------------\n"
     ]
    }
   ],
   "source": [
    "top.describe()"
   ]
  },
  {
   "cell_type": "markdown",
   "metadata": {},
   "source": [
    "## Validate with GWAS"
   ]
  },
  {
   "cell_type": "markdown",
   "metadata": {},
   "source": [
    "1. ideentify intervals that include the genes of interest"
   ]
  },
  {
   "cell_type": "code",
   "execution_count": 16,
   "metadata": {},
   "outputs": [
    {
     "name": "stderr",
     "output_type": "stream",
     "text": [
      "/net/software/local/python/3.6.5/lib/python3.6/site-packages/ipykernel_launcher.py:5: DeprecationWarning: Call to deprecated function (or staticmethod) cond. (Replaced by hl.if_else) -- Deprecated since version 0.2.59.\n",
      "  \"\"\"\n",
      "/net/software/local/python/3.6.5/lib/python3.6/site-packages/ipykernel_launcher.py:8: DeprecationWarning: Call to deprecated function (or staticmethod) cond. (Replaced by hl.if_else) -- Deprecated since version 0.2.59.\n",
      "  \n"
     ]
    }
   ],
   "source": [
    "genes = hl.read_table('/net/archive/groups/plggneuromol/GTS-analysis/analysis/vcf_preprocessing/genecode_v32.ht')\n",
    "genes = genes.filter(hl.is_valid_contig(genes['hg38.knownGene.chrom'], reference_genome='GRCh38'))\n",
    "\n",
    "\n",
    "start = hl.cond(genes['hg38.knownGene.txStart'] < 20000, 1, genes['hg38.knownGene.txStart'] - 20000)\n",
    "stop =  hl.cond(hl.contig_length(genes['hg38.knownGene.chrom'], reference_genome='GRCh38') - genes['hg38.knownGene.txEnd'] < 20000, \n",
    "                hl.contig_length(genes['hg38.knownGene.chrom'], reference_genome='GRCh38'),\n",
    "                genes['hg38.knownGene.txEnd'] + 20000)\n",
    "\n",
    "genes = genes.transmute(interval = \n",
    "                        hl.locus_interval(genes['hg38.knownGene.chrom'], \n",
    "                                          start,\n",
    "                                          stop,\n",
    "                                          reference_genome='GRCh38'))"
   ]
  },
  {
   "cell_type": "code",
   "execution_count": 17,
   "metadata": {},
   "outputs": [],
   "source": [
    "genes = genes.key_by(genes.interval)"
   ]
  },
  {
   "cell_type": "code",
   "execution_count": 55,
   "metadata": {},
   "outputs": [
    {
     "name": "stderr",
     "output_type": "stream",
     "text": [
      "2021-02-21 18:03:04 Hail: INFO: Reading table without type imputation\n",
      "  Loading field 'SNP' as type str (not specified)\n",
      "  Loading field 'CHR' as type str (not specified)\n",
      "  Loading field 'BP' as type str (not specified)\n",
      "  Loading field 'A1' as type str (not specified)\n",
      "  Loading field 'A2' as type str (not specified)\n",
      "  Loading field 'INFO' as type str (not specified)\n",
      "  Loading field 'OR' as type str (not specified)\n",
      "  Loading field 'SE' as type str (not specified)\n",
      "  Loading field 'P' as type str (not specified)\n"
     ]
    }
   ],
   "source": [
    "gwas = hl.import_table('/net/archive/groups/plggneuromol/GTS-analysis/data/TS_Oct2018', delimiter=' ')"
   ]
  },
  {
   "cell_type": "code",
   "execution_count": 56,
   "metadata": {},
   "outputs": [],
   "source": [
    "gwas = gwas.annotate(locus = hl.locus(gwas.CHR, hl.int32(gwas.BP), reference_genome='GRCh37'))"
   ]
  },
  {
   "cell_type": "code",
   "execution_count": 51,
   "metadata": {
    "collapsed": true
   },
   "outputs": [
    {
     "ename": "FatalError",
     "evalue": "HailException: Chain file already exists for source reference 'GRCh37' and destination reference 'GRCh38'.\n\nJava stack trace:\nis.hail.utils.HailException: Chain file already exists for source reference 'GRCh37' and destination reference 'GRCh38'.\n\tat is.hail.utils.ErrorHandling$class.fatal(ErrorHandling.scala:11)\n\tat is.hail.utils.package$.fatal(package.scala:77)\n\tat is.hail.variant.ReferenceGenome.addLiftover(ReferenceGenome.scala:392)\n\tat is.hail.variant.ReferenceGenome$.referenceAddLiftover(ReferenceGenome.scala:646)\n\tat is.hail.backend.spark.SparkBackend$$anonfun$pyReferenceAddLiftover$1$$anonfun$apply$13.apply(SparkBackend.scala:537)\n\tat is.hail.backend.spark.SparkBackend$$anonfun$pyReferenceAddLiftover$1$$anonfun$apply$13.apply(SparkBackend.scala:536)\n\tat is.hail.expr.ir.ExecuteContext$$anonfun$scoped$1.apply(ExecuteContext.scala:25)\n\tat is.hail.expr.ir.ExecuteContext$$anonfun$scoped$1.apply(ExecuteContext.scala:23)\n\tat is.hail.utils.package$.using(package.scala:618)\n\tat is.hail.annotations.RegionPool$.scoped(RegionPool.scala:13)\n\tat is.hail.expr.ir.ExecuteContext$.scoped(ExecuteContext.scala:23)\n\tat is.hail.backend.spark.SparkBackend.withExecuteContext(SparkBackend.scala:254)\n\tat is.hail.backend.spark.SparkBackend$$anonfun$pyReferenceAddLiftover$1.apply(SparkBackend.scala:536)\n\tat is.hail.backend.spark.SparkBackend$$anonfun$pyReferenceAddLiftover$1.apply(SparkBackend.scala:535)\n\tat is.hail.utils.ExecutionTimer$.time(ExecutionTimer.scala:52)\n\tat is.hail.utils.ExecutionTimer$.logTime(ExecutionTimer.scala:59)\n\tat is.hail.backend.spark.SparkBackend.pyReferenceAddLiftover(SparkBackend.scala:535)\n\tat sun.reflect.NativeMethodAccessorImpl.invoke0(Native Method)\n\tat sun.reflect.NativeMethodAccessorImpl.invoke(NativeMethodAccessorImpl.java:62)\n\tat sun.reflect.DelegatingMethodAccessorImpl.invoke(DelegatingMethodAccessorImpl.java:43)\n\tat java.lang.reflect.Method.invoke(Method.java:498)\n\tat py4j.reflection.MethodInvoker.invoke(MethodInvoker.java:244)\n\tat py4j.reflection.ReflectionEngine.invoke(ReflectionEngine.java:357)\n\tat py4j.Gateway.invoke(Gateway.java:282)\n\tat py4j.commands.AbstractCommand.invokeMethod(AbstractCommand.java:132)\n\tat py4j.commands.CallCommand.execute(CallCommand.java:79)\n\tat py4j.GatewayConnection.run(GatewayConnection.java:238)\n\tat java.lang.Thread.run(Thread.java:748)\n\n\n\nHail version: 0.2.62-84fa81b9ea3d\nError summary: HailException: Chain file already exists for source reference 'GRCh37' and destination reference 'GRCh38'.",
     "output_type": "error",
     "traceback": [
      "\u001b[0;31m---------------------------------------------------------------------------\u001b[0m",
      "\u001b[0;31mFatalError\u001b[0m                                Traceback (most recent call last)",
      "\u001b[0;32m<ipython-input-51-0e5c1b4c765e>\u001b[0m in \u001b[0;36m<module>\u001b[0;34m()\u001b[0m\n\u001b[1;32m      1\u001b[0m \u001b[0mrg37\u001b[0m \u001b[0;34m=\u001b[0m \u001b[0mhl\u001b[0m\u001b[0;34m.\u001b[0m\u001b[0mget_reference\u001b[0m\u001b[0;34m(\u001b[0m\u001b[0;34m'GRCh37'\u001b[0m\u001b[0;34m)\u001b[0m\u001b[0;34m\u001b[0m\u001b[0m\n\u001b[1;32m      2\u001b[0m \u001b[0mrg38\u001b[0m \u001b[0;34m=\u001b[0m \u001b[0mhl\u001b[0m\u001b[0;34m.\u001b[0m\u001b[0mget_reference\u001b[0m\u001b[0;34m(\u001b[0m\u001b[0;34m'GRCh38'\u001b[0m\u001b[0;34m)\u001b[0m\u001b[0;34m\u001b[0m\u001b[0m\n\u001b[0;32m----> 3\u001b[0;31m \u001b[0mrg37\u001b[0m\u001b[0;34m.\u001b[0m\u001b[0madd_liftover\u001b[0m\u001b[0;34m(\u001b[0m\u001b[0;34m'/net/archive/groups/plggneuromol/GTS-analysis/analysis/references_grch37_to_grch38.over.chain.gz'\u001b[0m\u001b[0;34m,\u001b[0m \u001b[0mrg38\u001b[0m\u001b[0;34m)\u001b[0m\u001b[0;34m\u001b[0m\u001b[0m\n\u001b[0m",
      "\u001b[0;32m<decorator-gen-168>\u001b[0m in \u001b[0;36madd_liftover\u001b[0;34m(self, chain_file, dest_reference_genome)\u001b[0m\n",
      "\u001b[0;32m/net/software/local/python/3.6.5/lib/python3.6/site-packages/hail/typecheck/check.py\u001b[0m in \u001b[0;36mwrapper\u001b[0;34m(__original_func, *args, **kwargs)\u001b[0m\n\u001b[1;32m    575\u001b[0m     \u001b[0;32mdef\u001b[0m \u001b[0mwrapper\u001b[0m\u001b[0;34m(\u001b[0m\u001b[0m__original_func\u001b[0m\u001b[0;34m,\u001b[0m \u001b[0;34m*\u001b[0m\u001b[0margs\u001b[0m\u001b[0;34m,\u001b[0m \u001b[0;34m**\u001b[0m\u001b[0mkwargs\u001b[0m\u001b[0;34m)\u001b[0m\u001b[0;34m:\u001b[0m\u001b[0;34m\u001b[0m\u001b[0m\n\u001b[1;32m    576\u001b[0m         \u001b[0margs_\u001b[0m\u001b[0;34m,\u001b[0m \u001b[0mkwargs_\u001b[0m \u001b[0;34m=\u001b[0m \u001b[0mcheck_all\u001b[0m\u001b[0;34m(\u001b[0m\u001b[0m__original_func\u001b[0m\u001b[0;34m,\u001b[0m \u001b[0margs\u001b[0m\u001b[0;34m,\u001b[0m \u001b[0mkwargs\u001b[0m\u001b[0;34m,\u001b[0m \u001b[0mcheckers\u001b[0m\u001b[0;34m,\u001b[0m \u001b[0mis_method\u001b[0m\u001b[0;34m=\u001b[0m\u001b[0mis_method\u001b[0m\u001b[0;34m)\u001b[0m\u001b[0;34m\u001b[0m\u001b[0m\n\u001b[0;32m--> 577\u001b[0;31m         \u001b[0;32mreturn\u001b[0m \u001b[0m__original_func\u001b[0m\u001b[0;34m(\u001b[0m\u001b[0;34m*\u001b[0m\u001b[0margs_\u001b[0m\u001b[0;34m,\u001b[0m \u001b[0;34m**\u001b[0m\u001b[0mkwargs_\u001b[0m\u001b[0;34m)\u001b[0m\u001b[0;34m\u001b[0m\u001b[0m\n\u001b[0m\u001b[1;32m    578\u001b[0m \u001b[0;34m\u001b[0m\u001b[0m\n\u001b[1;32m    579\u001b[0m     \u001b[0;32mreturn\u001b[0m \u001b[0mwrapper\u001b[0m\u001b[0;34m\u001b[0m\u001b[0m\n",
      "\u001b[0;32m/net/software/local/python/3.6.5/lib/python3.6/site-packages/hail/genetics/reference_genome.py\u001b[0m in \u001b[0;36madd_liftover\u001b[0;34m(self, chain_file, dest_reference_genome)\u001b[0m\n\u001b[1;32m    489\u001b[0m         \"\"\"\n\u001b[1;32m    490\u001b[0m \u001b[0;34m\u001b[0m\u001b[0m\n\u001b[0;32m--> 491\u001b[0;31m         \u001b[0mEnv\u001b[0m\u001b[0;34m.\u001b[0m\u001b[0mbackend\u001b[0m\u001b[0;34m(\u001b[0m\u001b[0;34m)\u001b[0m\u001b[0;34m.\u001b[0m\u001b[0madd_liftover\u001b[0m\u001b[0;34m(\u001b[0m\u001b[0mself\u001b[0m\u001b[0;34m.\u001b[0m\u001b[0mname\u001b[0m\u001b[0;34m,\u001b[0m \u001b[0mchain_file\u001b[0m\u001b[0;34m,\u001b[0m \u001b[0mdest_reference_genome\u001b[0m\u001b[0;34m.\u001b[0m\u001b[0mname\u001b[0m\u001b[0;34m)\u001b[0m\u001b[0;34m\u001b[0m\u001b[0m\n\u001b[0m\u001b[1;32m    492\u001b[0m         \u001b[0;32mif\u001b[0m \u001b[0mdest_reference_genome\u001b[0m\u001b[0;34m.\u001b[0m\u001b[0mname\u001b[0m \u001b[0;32min\u001b[0m \u001b[0mself\u001b[0m\u001b[0;34m.\u001b[0m\u001b[0m_liftovers\u001b[0m\u001b[0;34m:\u001b[0m\u001b[0;34m\u001b[0m\u001b[0m\n\u001b[1;32m    493\u001b[0m             \u001b[0;32mraise\u001b[0m \u001b[0mKeyError\u001b[0m\u001b[0;34m(\u001b[0m\u001b[0;34mf\"Liftover already exists from {self.name} to {dest_reference_genome.name}.\"\u001b[0m\u001b[0;34m)\u001b[0m\u001b[0;34m\u001b[0m\u001b[0m\n",
      "\u001b[0;32m/net/software/local/python/3.6.5/lib/python3.6/site-packages/hail/backend/spark_backend.py\u001b[0m in \u001b[0;36madd_liftover\u001b[0;34m(self, name, chain_file, dest_reference_genome)\u001b[0m\n\u001b[1;32m    339\u001b[0m \u001b[0;34m\u001b[0m\u001b[0m\n\u001b[1;32m    340\u001b[0m     \u001b[0;32mdef\u001b[0m \u001b[0madd_liftover\u001b[0m\u001b[0;34m(\u001b[0m\u001b[0mself\u001b[0m\u001b[0;34m,\u001b[0m \u001b[0mname\u001b[0m\u001b[0;34m,\u001b[0m \u001b[0mchain_file\u001b[0m\u001b[0;34m,\u001b[0m \u001b[0mdest_reference_genome\u001b[0m\u001b[0;34m)\u001b[0m\u001b[0;34m:\u001b[0m\u001b[0;34m\u001b[0m\u001b[0m\n\u001b[0;32m--> 341\u001b[0;31m         \u001b[0mself\u001b[0m\u001b[0;34m.\u001b[0m\u001b[0m_jbackend\u001b[0m\u001b[0;34m.\u001b[0m\u001b[0mpyReferenceAddLiftover\u001b[0m\u001b[0;34m(\u001b[0m\u001b[0mname\u001b[0m\u001b[0;34m,\u001b[0m \u001b[0mchain_file\u001b[0m\u001b[0;34m,\u001b[0m \u001b[0mdest_reference_genome\u001b[0m\u001b[0;34m)\u001b[0m\u001b[0;34m\u001b[0m\u001b[0m\n\u001b[0m\u001b[1;32m    342\u001b[0m \u001b[0;34m\u001b[0m\u001b[0m\n\u001b[1;32m    343\u001b[0m     \u001b[0;32mdef\u001b[0m \u001b[0mremove_liftover\u001b[0m\u001b[0;34m(\u001b[0m\u001b[0mself\u001b[0m\u001b[0;34m,\u001b[0m \u001b[0mname\u001b[0m\u001b[0;34m,\u001b[0m \u001b[0mdest_reference_genome\u001b[0m\u001b[0;34m)\u001b[0m\u001b[0;34m:\u001b[0m\u001b[0;34m\u001b[0m\u001b[0m\n",
      "\u001b[0;32m/net/software/local/python/3.6.5/lib/python3.6/site-packages/py4j/java_gateway.py\u001b[0m in \u001b[0;36m__call__\u001b[0;34m(self, *args)\u001b[0m\n\u001b[1;32m   1255\u001b[0m         \u001b[0manswer\u001b[0m \u001b[0;34m=\u001b[0m \u001b[0mself\u001b[0m\u001b[0;34m.\u001b[0m\u001b[0mgateway_client\u001b[0m\u001b[0;34m.\u001b[0m\u001b[0msend_command\u001b[0m\u001b[0;34m(\u001b[0m\u001b[0mcommand\u001b[0m\u001b[0;34m)\u001b[0m\u001b[0;34m\u001b[0m\u001b[0m\n\u001b[1;32m   1256\u001b[0m         return_value = get_return_value(\n\u001b[0;32m-> 1257\u001b[0;31m             answer, self.gateway_client, self.target_id, self.name)\n\u001b[0m\u001b[1;32m   1258\u001b[0m \u001b[0;34m\u001b[0m\u001b[0m\n\u001b[1;32m   1259\u001b[0m         \u001b[0;32mfor\u001b[0m \u001b[0mtemp_arg\u001b[0m \u001b[0;32min\u001b[0m \u001b[0mtemp_args\u001b[0m\u001b[0;34m:\u001b[0m\u001b[0;34m\u001b[0m\u001b[0m\n",
      "\u001b[0;32m/net/software/local/python/3.6.5/lib/python3.6/site-packages/hail/backend/py4j_backend.py\u001b[0m in \u001b[0;36mdeco\u001b[0;34m(*args, **kwargs)\u001b[0m\n\u001b[1;32m     30\u001b[0m                 raise FatalError('%s\\n\\nJava stack trace:\\n%s\\n'\n\u001b[1;32m     31\u001b[0m                                  \u001b[0;34m'Hail version: %s\\n'\u001b[0m\u001b[0;34m\u001b[0m\u001b[0m\n\u001b[0;32m---> 32\u001b[0;31m                                  'Error summary: %s' % (deepest, full, hail.__version__, deepest), error_id) from None\n\u001b[0m\u001b[1;32m     33\u001b[0m         \u001b[0;32mexcept\u001b[0m \u001b[0mpyspark\u001b[0m\u001b[0;34m.\u001b[0m\u001b[0msql\u001b[0m\u001b[0;34m.\u001b[0m\u001b[0mutils\u001b[0m\u001b[0;34m.\u001b[0m\u001b[0mCapturedException\u001b[0m \u001b[0;32mas\u001b[0m \u001b[0me\u001b[0m\u001b[0;34m:\u001b[0m\u001b[0;34m\u001b[0m\u001b[0m\n\u001b[1;32m     34\u001b[0m             raise FatalError('%s\\n\\nJava stack trace:\\n%s\\n'\n",
      "\u001b[0;31mFatalError\u001b[0m: HailException: Chain file already exists for source reference 'GRCh37' and destination reference 'GRCh38'.\n\nJava stack trace:\nis.hail.utils.HailException: Chain file already exists for source reference 'GRCh37' and destination reference 'GRCh38'.\n\tat is.hail.utils.ErrorHandling$class.fatal(ErrorHandling.scala:11)\n\tat is.hail.utils.package$.fatal(package.scala:77)\n\tat is.hail.variant.ReferenceGenome.addLiftover(ReferenceGenome.scala:392)\n\tat is.hail.variant.ReferenceGenome$.referenceAddLiftover(ReferenceGenome.scala:646)\n\tat is.hail.backend.spark.SparkBackend$$anonfun$pyReferenceAddLiftover$1$$anonfun$apply$13.apply(SparkBackend.scala:537)\n\tat is.hail.backend.spark.SparkBackend$$anonfun$pyReferenceAddLiftover$1$$anonfun$apply$13.apply(SparkBackend.scala:536)\n\tat is.hail.expr.ir.ExecuteContext$$anonfun$scoped$1.apply(ExecuteContext.scala:25)\n\tat is.hail.expr.ir.ExecuteContext$$anonfun$scoped$1.apply(ExecuteContext.scala:23)\n\tat is.hail.utils.package$.using(package.scala:618)\n\tat is.hail.annotations.RegionPool$.scoped(RegionPool.scala:13)\n\tat is.hail.expr.ir.ExecuteContext$.scoped(ExecuteContext.scala:23)\n\tat is.hail.backend.spark.SparkBackend.withExecuteContext(SparkBackend.scala:254)\n\tat is.hail.backend.spark.SparkBackend$$anonfun$pyReferenceAddLiftover$1.apply(SparkBackend.scala:536)\n\tat is.hail.backend.spark.SparkBackend$$anonfun$pyReferenceAddLiftover$1.apply(SparkBackend.scala:535)\n\tat is.hail.utils.ExecutionTimer$.time(ExecutionTimer.scala:52)\n\tat is.hail.utils.ExecutionTimer$.logTime(ExecutionTimer.scala:59)\n\tat is.hail.backend.spark.SparkBackend.pyReferenceAddLiftover(SparkBackend.scala:535)\n\tat sun.reflect.NativeMethodAccessorImpl.invoke0(Native Method)\n\tat sun.reflect.NativeMethodAccessorImpl.invoke(NativeMethodAccessorImpl.java:62)\n\tat sun.reflect.DelegatingMethodAccessorImpl.invoke(DelegatingMethodAccessorImpl.java:43)\n\tat java.lang.reflect.Method.invoke(Method.java:498)\n\tat py4j.reflection.MethodInvoker.invoke(MethodInvoker.java:244)\n\tat py4j.reflection.ReflectionEngine.invoke(ReflectionEngine.java:357)\n\tat py4j.Gateway.invoke(Gateway.java:282)\n\tat py4j.commands.AbstractCommand.invokeMethod(AbstractCommand.java:132)\n\tat py4j.commands.CallCommand.execute(CallCommand.java:79)\n\tat py4j.GatewayConnection.run(GatewayConnection.java:238)\n\tat java.lang.Thread.run(Thread.java:748)\n\n\n\nHail version: 0.2.62-84fa81b9ea3d\nError summary: HailException: Chain file already exists for source reference 'GRCh37' and destination reference 'GRCh38'."
     ]
    }
   ],
   "source": [
    "rg37 = hl.get_reference('GRCh37')  \n",
    "rg38 = hl.get_reference('GRCh38')  \n",
    "rg37.add_liftover('/net/archive/groups/plggneuromol/GTS-analysis/analysis/references_grch37_to_grch38.over.chain.gz', rg38)"
   ]
  },
  {
   "cell_type": "code",
   "execution_count": 57,
   "metadata": {},
   "outputs": [],
   "source": [
    "gwas = gwas.annotate(hg39locus = hl.liftover(gwas.locus, 'GRCh38'))"
   ]
  },
  {
   "cell_type": "code",
   "execution_count": 58,
   "metadata": {},
   "outputs": [],
   "source": [
    "gwas = gwas.annotate(nearest_genes_20kb = hl.array(hl.set(genes.index(gwas.hg39locus, all_matches=True)['hg38.kgXref.geneSymbol'])))"
   ]
  },
  {
   "cell_type": "code",
   "execution_count": 59,
   "metadata": {},
   "outputs": [
    {
     "name": "stderr",
     "output_type": "stream",
     "text": [
      "2021-02-21 18:03:35 Hail: INFO: Ordering unsorted dataset with network shuffle\n",
      "2021-02-21 18:03:36 Hail: INFO: Ordering unsorted dataset with network shuffle\n",
      "2021-02-21 18:05:33 Hail: INFO: wrote table with 8265318 rows in 3 partitions to /net/archive/groups/plggneuromol/GTS-analysis/data/gwas.ht\n",
      "    Total size: 390.91 MiB\n",
      "    * Rows: 390.91 MiB\n",
      "    * Globals: 11.00 B\n",
      "    * Smallest partition: 2273517 rows (108.47 MiB)\n",
      "    * Largest partition:  3629023 rows (170.90 MiB)\n"
     ]
    },
    {
     "data": {
      "text/plain": [
       "<hail.table.Table at 0x2ab070fc8b00>"
      ]
     },
     "execution_count": 59,
     "metadata": {},
     "output_type": "execute_result"
    }
   ],
   "source": [
    "gwas.checkpoint('/net/archive/groups/plggneuromol/GTS-analysis/data/gwas.ht')"
   ]
  },
  {
   "cell_type": "code",
   "execution_count": 6,
   "metadata": {},
   "outputs": [],
   "source": [
    "gwas = hl.read_table('/net/archive/groups/plggneuromol/GTS-analysis/data/gwas.ht')"
   ]
  },
  {
   "cell_type": "code",
   "execution_count": 7,
   "metadata": {},
   "outputs": [],
   "source": [
    "top_genes = ['HDC', 'CHADL', 'MAOA', 'NAA11']"
   ]
  },
  {
   "cell_type": "code",
   "execution_count": 10,
   "metadata": {},
   "outputs": [],
   "source": [
    "gwas_top = gwas.filter(hl.any(lambda x: hl.literal(top_genes).contains(x), gwas.nearest_genes_20kb))"
   ]
  },
  {
   "cell_type": "code",
   "execution_count": 12,
   "metadata": {},
   "outputs": [],
   "source": [
    "p_top = gwas_top.P.collect()"
   ]
  },
  {
   "cell_type": "code",
   "execution_count": 18,
   "metadata": {},
   "outputs": [
    {
     "data": {
      "text/html": [
       "\n",
       "\n",
       "\n",
       "\n",
       "\n",
       "\n",
       "  <div class=\"bk-root\" id=\"76aece03-0435-45be-a310-cc61442f20c3\" data-root-id=\"1003\"></div>\n"
      ]
     },
     "metadata": {},
     "output_type": "display_data"
    },
    {
     "data": {
      "application/javascript": [
       "(function(root) {\n",
       "  function embed_document(root) {\n",
       "    \n",
       "  var docs_json = {\"ae052fc1-fe52-4523-b6a0-f37fe5607a40\":{\"roots\":{\"references\":[{\"attributes\":{\"background_fill_color\":{\"value\":\"#EEEEEE\"},\"below\":[{\"id\":\"1014\",\"type\":\"LinearAxis\"}],\"center\":[{\"id\":\"1018\",\"type\":\"Grid\"},{\"id\":\"1023\",\"type\":\"Grid\"},{\"id\":\"1048\",\"type\":\"Legend\"}],\"left\":[{\"id\":\"1019\",\"type\":\"LinearAxis\"}],\"renderers\":[{\"id\":\"1040\",\"type\":\"GlyphRenderer\"}],\"title\":{\"id\":\"1004\",\"type\":\"Title\"},\"toolbar\":{\"id\":\"1030\",\"type\":\"Toolbar\"},\"x_range\":{\"id\":\"1006\",\"type\":\"Range1d\"},\"x_scale\":{\"id\":\"1010\",\"type\":\"LinearScale\"},\"y_range\":{\"id\":\"1008\",\"type\":\"DataRange1d\"},\"y_scale\":{\"id\":\"1012\",\"type\":\"LinearScale\"}},\"id\":\"1003\",\"subtype\":\"Figure\",\"type\":\"Plot\"},{\"attributes\":{\"overlay\":{\"id\":\"1047\",\"type\":\"BoxAnnotation\"}},\"id\":\"1026\",\"type\":\"BoxZoomTool\"},{\"attributes\":{},\"id\":\"1028\",\"type\":\"ResetTool\"},{\"attributes\":{\"active_drag\":\"auto\",\"active_inspect\":\"auto\",\"active_multi\":null,\"active_scroll\":\"auto\",\"active_tap\":\"auto\",\"tools\":[{\"id\":\"1024\",\"type\":\"PanTool\"},{\"id\":\"1025\",\"type\":\"WheelZoomTool\"},{\"id\":\"1026\",\"type\":\"BoxZoomTool\"},{\"id\":\"1027\",\"type\":\"SaveTool\"},{\"id\":\"1028\",\"type\":\"ResetTool\"},{\"id\":\"1029\",\"type\":\"HelpTool\"}]},\"id\":\"1030\",\"type\":\"Toolbar\"},{\"attributes\":{},\"id\":\"1027\",\"type\":\"SaveTool\"},{\"attributes\":{\"source\":{\"id\":\"1037\",\"type\":\"ColumnDataSource\"}},\"id\":\"1041\",\"type\":\"CDSView\"},{\"attributes\":{\"bottom_units\":\"screen\",\"fill_alpha\":{\"value\":0.5},\"fill_color\":{\"value\":\"lightgrey\"},\"left_units\":\"screen\",\"level\":\"overlay\",\"line_alpha\":{\"value\":1.0},\"line_color\":{\"value\":\"black\"},\"line_dash\":[4,4],\"line_width\":{\"value\":2},\"render_mode\":\"css\",\"right_units\":\"screen\",\"top_units\":\"screen\"},\"id\":\"1047\",\"type\":\"BoxAnnotation\"},{\"attributes\":{},\"id\":\"1043\",\"type\":\"BasicTickFormatter\"},{\"attributes\":{\"callback\":null,\"end\":1.05,\"start\":-0.05},\"id\":\"1006\",\"type\":\"Range1d\"},{\"attributes\":{},\"id\":\"1045\",\"type\":\"BasicTickFormatter\"},{\"attributes\":{},\"id\":\"1029\",\"type\":\"HelpTool\"},{\"attributes\":{\"callback\":null,\"data\":{\"left\":[0.0,0.02,0.04,0.06,0.08,0.1,0.12,0.14,0.16,0.18,0.2,0.22,0.24,0.26,0.28,0.3,0.32,0.34,0.36,0.38,0.4,0.42,0.44,0.46,0.48,0.5,0.52,0.54,0.56,0.58,0.6,0.62,0.64,0.66,0.68,0.7000000000000001,0.72,0.74,0.76,0.78,0.8,0.8200000000000001,0.84,0.86,0.88,0.9,0.92,0.9400000000000001,0.96,0.98],\"right\":[0.02,0.04,0.06,0.08,0.1,0.12,0.14,0.16,0.18,0.2,0.22,0.24,0.26,0.28,0.3,0.32,0.34,0.36,0.38,0.4,0.42,0.44,0.46,0.48,0.5,0.52,0.54,0.56,0.58,0.6,0.62,0.64,0.66,0.68,0.7000000000000001,0.72,0.74,0.76,0.78,0.8,0.8200000000000001,0.84,0.86,0.88,0.9,0.92,0.9400000000000001,0.96,0.98,1.0],\"top\":[122,15,12,29,39,26,20,6,6,2,6,4,9,8,11,6,2,2,5,3,12,3,3,3,12,27,5,4,4,4,8,12,8,19,9,13,11,4,7,9,7,7,4,7,10,22,15,16,14,15]},\"selected\":{\"id\":\"1055\",\"type\":\"Selection\"},\"selection_policy\":{\"id\":\"1056\",\"type\":\"UnionRenderers\"}},\"id\":\"1037\",\"type\":\"ColumnDataSource\"},{\"attributes\":{},\"id\":\"1020\",\"type\":\"BasicTicker\"},{\"attributes\":{},\"id\":\"1024\",\"type\":\"PanTool\"},{\"attributes\":{\"ticker\":{\"id\":\"1015\",\"type\":\"BasicTicker\"}},\"id\":\"1018\",\"type\":\"Grid\"},{\"attributes\":{},\"id\":\"1025\",\"type\":\"WheelZoomTool\"},{\"attributes\":{\"data_source\":{\"id\":\"1037\",\"type\":\"ColumnDataSource\"},\"glyph\":{\"id\":\"1038\",\"type\":\"Quad\"},\"hover_glyph\":null,\"muted_glyph\":null,\"nonselection_glyph\":{\"id\":\"1039\",\"type\":\"Quad\"},\"selection_glyph\":null,\"view\":{\"id\":\"1041\",\"type\":\"CDSView\"}},\"id\":\"1040\",\"type\":\"GlyphRenderer\"},{\"attributes\":{\"bottom\":{\"value\":0},\"fill_color\":{\"value\":\"#1f77b4\"},\"left\":{\"field\":\"left\"},\"right\":{\"field\":\"right\"},\"top\":{\"field\":\"top\"}},\"id\":\"1038\",\"type\":\"Quad\"},{\"attributes\":{\"axis_label\":\"Frequency\",\"axis_label_text_font_size\":{\"value\":\"15pt\"},\"formatter\":{\"id\":\"1043\",\"type\":\"BasicTickFormatter\"},\"major_label_text_font_size\":{\"value\":\"15pt\"},\"ticker\":{\"id\":\"1020\",\"type\":\"BasicTicker\"}},\"id\":\"1019\",\"type\":\"LinearAxis\"},{\"attributes\":{\"callback\":null},\"id\":\"1008\",\"type\":\"DataRange1d\"},{\"attributes\":{},\"id\":\"1010\",\"type\":\"LinearScale\"},{\"attributes\":{},\"id\":\"1055\",\"type\":\"Selection\"},{\"attributes\":{\"bottom\":{\"value\":0},\"fill_alpha\":{\"value\":0.1},\"fill_color\":{\"value\":\"#1f77b4\"},\"left\":{\"field\":\"left\"},\"line_alpha\":{\"value\":0.1},\"line_color\":{\"value\":\"#1f77b4\"},\"right\":{\"field\":\"right\"},\"top\":{\"field\":\"top\"}},\"id\":\"1039\",\"type\":\"Quad\"},{\"attributes\":{\"axis_label\":\"p\",\"axis_label_text_font_size\":{\"value\":\"15pt\"},\"formatter\":{\"id\":\"1045\",\"type\":\"BasicTickFormatter\"},\"major_label_text_font_size\":{\"value\":\"15pt\"},\"ticker\":{\"id\":\"1015\",\"type\":\"BasicTicker\"}},\"id\":\"1014\",\"type\":\"LinearAxis\"},{\"attributes\":{},\"id\":\"1015\",\"type\":\"BasicTicker\"},{\"attributes\":{\"dimension\":1,\"ticker\":{\"id\":\"1020\",\"type\":\"BasicTicker\"}},\"id\":\"1023\",\"type\":\"Grid\"},{\"attributes\":{},\"id\":\"1012\",\"type\":\"LinearScale\"},{\"attributes\":{\"items\":[{\"id\":\"1049\",\"type\":\"LegendItem\"}]},\"id\":\"1048\",\"type\":\"Legend\"},{\"attributes\":{\"text\":\"p_value_histogram\"},\"id\":\"1004\",\"type\":\"Title\"},{\"attributes\":{\"label\":{\"value\":\"p\"},\"renderers\":[{\"id\":\"1040\",\"type\":\"GlyphRenderer\"}]},\"id\":\"1049\",\"type\":\"LegendItem\"},{\"attributes\":{},\"id\":\"1056\",\"type\":\"UnionRenderers\"}],\"root_ids\":[\"1003\"]},\"title\":\"Bokeh Application\",\"version\":\"1.4.0\"}};\n",
       "  var render_items = [{\"docid\":\"ae052fc1-fe52-4523-b6a0-f37fe5607a40\",\"roots\":{\"1003\":\"76aece03-0435-45be-a310-cc61442f20c3\"}}];\n",
       "  root.Bokeh.embed.embed_items_notebook(docs_json, render_items);\n",
       "\n",
       "  }\n",
       "  if (root.Bokeh !== undefined) {\n",
       "    embed_document(root);\n",
       "  } else {\n",
       "    var attempts = 0;\n",
       "    var timer = setInterval(function(root) {\n",
       "      if (root.Bokeh !== undefined) {\n",
       "        clearInterval(timer);\n",
       "        embed_document(root);\n",
       "      } else {\n",
       "        attempts++;\n",
       "        if (attempts > 100) {\n",
       "          clearInterval(timer);\n",
       "          console.log(\"Bokeh: ERROR: Unable to run BokehJS code because BokehJS library is missing\");\n",
       "        }\n",
       "      }\n",
       "    }, 10, root)\n",
       "  }\n",
       "})(window);"
      ],
      "application/vnd.bokehjs_exec.v0+json": ""
     },
     "metadata": {
      "application/vnd.bokehjs_exec.v0+json": {
       "id": "1003"
      }
     },
     "output_type": "display_data"
    }
   ],
   "source": [
    "p_hist = gwas_top.aggregate(hl.expr.aggregators.hist(hl.float64(gwas_top.P), 0, 1, 50))\n",
    "\n",
    "p = hl.plot.histogram(p_hist, legend='p', title='p_value_histogram')\n",
    "p.xaxis.axis_label_text_font_size = \"15pt\"\n",
    "p.xaxis.major_label_text_font_size = \"15pt\"\n",
    "p.yaxis.axis_label_text_font_size = \"15pt\"\n",
    "p.yaxis.major_label_text_font_size = \"15pt\"\n",
    "show(p)"
   ]
  },
  {
   "cell_type": "code",
   "execution_count": 21,
   "metadata": {},
   "outputs": [],
   "source": [
    "genes_background = np.load('/net/archive/groups/plggneuromol/GTS-analysis/analysis/numpy/genes_background.npy')"
   ]
  },
  {
   "cell_type": "code",
   "execution_count": 33,
   "metadata": {},
   "outputs": [],
   "source": [
    "p_values = []\n",
    "    \n",
    "for p in range(100):\n",
    "    randoms = np.random.randint(len(genes_background), size=4)\n",
    "    genes = [j for i, j in enumerate(genes_background) if i in randoms]\n",
    "        \n",
    "    p_value = gwas.filter(hl.any(lambda x: hl.literal(genes).contains(x), gwas.nearest_genes_20kb)).P.collect()\n",
    "    \n",
    "    p_values.append(p_value)"
   ]
  },
  {
   "cell_type": "code",
   "execution_count": 74,
   "metadata": {},
   "outputs": [],
   "source": [
    "y = [float(i) for i in p_top]\n",
    "y = -np.log10(y)\n",
    "hist_top, edge_top = np.histogram(y, bins = 50)"
   ]
  },
  {
   "cell_type": "code",
   "execution_count": 67,
   "metadata": {},
   "outputs": [],
   "source": [
    "import bokeh.palettes\n",
    "from bokeh.models import CategoricalColorMapper\n",
    "\n",
    "colors = bokeh.palettes.plasma(200)"
   ]
  },
  {
   "cell_type": "code",
   "execution_count": 47,
   "metadata": {},
   "outputs": [],
   "source": [
    "histograms = []\n",
    "edges = []\n",
    "\n",
    "for p in p_values:\n",
    "    x = [float(i) for i in p]\n",
    "    x = -np.log10(x)\n",
    "    hist,edge = np.histogram(x, bins = 50)\n",
    "    histograms.append(hist)\n",
    "    edges.append(edge)"
   ]
  },
  {
   "cell_type": "code",
   "execution_count": 83,
   "metadata": {},
   "outputs": [
    {
     "data": {
      "text/html": [
       "\n",
       "    <div class=\"bk-root\">\n",
       "        <a href=\"https://bokeh.org\" target=\"_blank\" class=\"bk-logo bk-logo-small bk-logo-notebook\"></a>\n",
       "        <span id=\"39696\">Loading BokehJS ...</span>\n",
       "    </div>"
      ]
     },
     "metadata": {},
     "output_type": "display_data"
    },
    {
     "data": {
      "application/javascript": [
       "\n",
       "(function(root) {\n",
       "  function now() {\n",
       "    return new Date();\n",
       "  }\n",
       "\n",
       "  var force = true;\n",
       "\n",
       "  if (typeof root._bokeh_onload_callbacks === \"undefined\" || force === true) {\n",
       "    root._bokeh_onload_callbacks = [];\n",
       "    root._bokeh_is_loading = undefined;\n",
       "  }\n",
       "\n",
       "  var JS_MIME_TYPE = 'application/javascript';\n",
       "  var HTML_MIME_TYPE = 'text/html';\n",
       "  var EXEC_MIME_TYPE = 'application/vnd.bokehjs_exec.v0+json';\n",
       "  var CLASS_NAME = 'output_bokeh rendered_html';\n",
       "\n",
       "  /**\n",
       "   * Render data to the DOM node\n",
       "   */\n",
       "  function render(props, node) {\n",
       "    var script = document.createElement(\"script\");\n",
       "    node.appendChild(script);\n",
       "  }\n",
       "\n",
       "  /**\n",
       "   * Handle when an output is cleared or removed\n",
       "   */\n",
       "  function handleClearOutput(event, handle) {\n",
       "    var cell = handle.cell;\n",
       "\n",
       "    var id = cell.output_area._bokeh_element_id;\n",
       "    var server_id = cell.output_area._bokeh_server_id;\n",
       "    // Clean up Bokeh references\n",
       "    if (id != null && id in Bokeh.index) {\n",
       "      Bokeh.index[id].model.document.clear();\n",
       "      delete Bokeh.index[id];\n",
       "    }\n",
       "\n",
       "    if (server_id !== undefined) {\n",
       "      // Clean up Bokeh references\n",
       "      var cmd = \"from bokeh.io.state import curstate; print(curstate().uuid_to_server['\" + server_id + \"'].get_sessions()[0].document.roots[0]._id)\";\n",
       "      cell.notebook.kernel.execute(cmd, {\n",
       "        iopub: {\n",
       "          output: function(msg) {\n",
       "            var id = msg.content.text.trim();\n",
       "            if (id in Bokeh.index) {\n",
       "              Bokeh.index[id].model.document.clear();\n",
       "              delete Bokeh.index[id];\n",
       "            }\n",
       "          }\n",
       "        }\n",
       "      });\n",
       "      // Destroy server and session\n",
       "      var cmd = \"import bokeh.io.notebook as ion; ion.destroy_server('\" + server_id + \"')\";\n",
       "      cell.notebook.kernel.execute(cmd);\n",
       "    }\n",
       "  }\n",
       "\n",
       "  /**\n",
       "   * Handle when a new output is added\n",
       "   */\n",
       "  function handleAddOutput(event, handle) {\n",
       "    var output_area = handle.output_area;\n",
       "    var output = handle.output;\n",
       "\n",
       "    // limit handleAddOutput to display_data with EXEC_MIME_TYPE content only\n",
       "    if ((output.output_type != \"display_data\") || (!output.data.hasOwnProperty(EXEC_MIME_TYPE))) {\n",
       "      return\n",
       "    }\n",
       "\n",
       "    var toinsert = output_area.element.find(\".\" + CLASS_NAME.split(' ')[0]);\n",
       "\n",
       "    if (output.metadata[EXEC_MIME_TYPE][\"id\"] !== undefined) {\n",
       "      toinsert[toinsert.length - 1].firstChild.textContent = output.data[JS_MIME_TYPE];\n",
       "      // store reference to embed id on output_area\n",
       "      output_area._bokeh_element_id = output.metadata[EXEC_MIME_TYPE][\"id\"];\n",
       "    }\n",
       "    if (output.metadata[EXEC_MIME_TYPE][\"server_id\"] !== undefined) {\n",
       "      var bk_div = document.createElement(\"div\");\n",
       "      bk_div.innerHTML = output.data[HTML_MIME_TYPE];\n",
       "      var script_attrs = bk_div.children[0].attributes;\n",
       "      for (var i = 0; i < script_attrs.length; i++) {\n",
       "        toinsert[toinsert.length - 1].firstChild.setAttribute(script_attrs[i].name, script_attrs[i].value);\n",
       "      }\n",
       "      // store reference to server id on output_area\n",
       "      output_area._bokeh_server_id = output.metadata[EXEC_MIME_TYPE][\"server_id\"];\n",
       "    }\n",
       "  }\n",
       "\n",
       "  function register_renderer(events, OutputArea) {\n",
       "\n",
       "    function append_mime(data, metadata, element) {\n",
       "      // create a DOM node to render to\n",
       "      var toinsert = this.create_output_subarea(\n",
       "        metadata,\n",
       "        CLASS_NAME,\n",
       "        EXEC_MIME_TYPE\n",
       "      );\n",
       "      this.keyboard_manager.register_events(toinsert);\n",
       "      // Render to node\n",
       "      var props = {data: data, metadata: metadata[EXEC_MIME_TYPE]};\n",
       "      render(props, toinsert[toinsert.length - 1]);\n",
       "      element.append(toinsert);\n",
       "      return toinsert\n",
       "    }\n",
       "\n",
       "    /* Handle when an output is cleared or removed */\n",
       "    events.on('clear_output.CodeCell', handleClearOutput);\n",
       "    events.on('delete.Cell', handleClearOutput);\n",
       "\n",
       "    /* Handle when a new output is added */\n",
       "    events.on('output_added.OutputArea', handleAddOutput);\n",
       "\n",
       "    /**\n",
       "     * Register the mime type and append_mime function with output_area\n",
       "     */\n",
       "    OutputArea.prototype.register_mime_type(EXEC_MIME_TYPE, append_mime, {\n",
       "      /* Is output safe? */\n",
       "      safe: true,\n",
       "      /* Index of renderer in `output_area.display_order` */\n",
       "      index: 0\n",
       "    });\n",
       "  }\n",
       "\n",
       "  // register the mime type if in Jupyter Notebook environment and previously unregistered\n",
       "  if (root.Jupyter !== undefined) {\n",
       "    var events = require('base/js/events');\n",
       "    var OutputArea = require('notebook/js/outputarea').OutputArea;\n",
       "\n",
       "    if (OutputArea.prototype.mime_types().indexOf(EXEC_MIME_TYPE) == -1) {\n",
       "      register_renderer(events, OutputArea);\n",
       "    }\n",
       "  }\n",
       "\n",
       "  \n",
       "  if (typeof (root._bokeh_timeout) === \"undefined\" || force === true) {\n",
       "    root._bokeh_timeout = Date.now() + 5000;\n",
       "    root._bokeh_failed_load = false;\n",
       "  }\n",
       "\n",
       "  var NB_LOAD_WARNING = {'data': {'text/html':\n",
       "     \"<div style='background-color: #fdd'>\\n\"+\n",
       "     \"<p>\\n\"+\n",
       "     \"BokehJS does not appear to have successfully loaded. If loading BokehJS from CDN, this \\n\"+\n",
       "     \"may be due to a slow or bad network connection. Possible fixes:\\n\"+\n",
       "     \"</p>\\n\"+\n",
       "     \"<ul>\\n\"+\n",
       "     \"<li>re-rerun `output_notebook()` to attempt to load from CDN again, or</li>\\n\"+\n",
       "     \"<li>use INLINE resources instead, as so:</li>\\n\"+\n",
       "     \"</ul>\\n\"+\n",
       "     \"<code>\\n\"+\n",
       "     \"from bokeh.resources import INLINE\\n\"+\n",
       "     \"output_notebook(resources=INLINE)\\n\"+\n",
       "     \"</code>\\n\"+\n",
       "     \"</div>\"}};\n",
       "\n",
       "  function display_loaded() {\n",
       "    var el = document.getElementById(\"39696\");\n",
       "    if (el != null) {\n",
       "      el.textContent = \"BokehJS is loading...\";\n",
       "    }\n",
       "    if (root.Bokeh !== undefined) {\n",
       "      if (el != null) {\n",
       "        el.textContent = \"BokehJS \" + root.Bokeh.version + \" successfully loaded.\";\n",
       "      }\n",
       "    } else if (Date.now() < root._bokeh_timeout) {\n",
       "      setTimeout(display_loaded, 100)\n",
       "    }\n",
       "  }\n",
       "\n",
       "\n",
       "  function run_callbacks() {\n",
       "    try {\n",
       "      root._bokeh_onload_callbacks.forEach(function(callback) {\n",
       "        if (callback != null)\n",
       "          callback();\n",
       "      });\n",
       "    } finally {\n",
       "      delete root._bokeh_onload_callbacks\n",
       "    }\n",
       "    console.debug(\"Bokeh: all callbacks have finished\");\n",
       "  }\n",
       "\n",
       "  function load_libs(css_urls, js_urls, callback) {\n",
       "    if (css_urls == null) css_urls = [];\n",
       "    if (js_urls == null) js_urls = [];\n",
       "\n",
       "    root._bokeh_onload_callbacks.push(callback);\n",
       "    if (root._bokeh_is_loading > 0) {\n",
       "      console.debug(\"Bokeh: BokehJS is being loaded, scheduling callback at\", now());\n",
       "      return null;\n",
       "    }\n",
       "    if (js_urls == null || js_urls.length === 0) {\n",
       "      run_callbacks();\n",
       "      return null;\n",
       "    }\n",
       "    console.debug(\"Bokeh: BokehJS not loaded, scheduling load and callback at\", now());\n",
       "    root._bokeh_is_loading = css_urls.length + js_urls.length;\n",
       "\n",
       "    function on_load() {\n",
       "      root._bokeh_is_loading--;\n",
       "      if (root._bokeh_is_loading === 0) {\n",
       "        console.debug(\"Bokeh: all BokehJS libraries/stylesheets loaded\");\n",
       "        run_callbacks()\n",
       "      }\n",
       "    }\n",
       "\n",
       "    function on_error() {\n",
       "      console.error(\"failed to load \" + url);\n",
       "    }\n",
       "\n",
       "    for (var i = 0; i < css_urls.length; i++) {\n",
       "      var url = css_urls[i];\n",
       "      const element = document.createElement(\"link\");\n",
       "      element.onload = on_load;\n",
       "      element.onerror = on_error;\n",
       "      element.rel = \"stylesheet\";\n",
       "      element.type = \"text/css\";\n",
       "      element.href = url;\n",
       "      console.debug(\"Bokeh: injecting link tag for BokehJS stylesheet: \", url);\n",
       "      document.body.appendChild(element);\n",
       "    }\n",
       "\n",
       "    for (var i = 0; i < js_urls.length; i++) {\n",
       "      var url = js_urls[i];\n",
       "      var element = document.createElement('script');\n",
       "      element.onload = on_load;\n",
       "      element.onerror = on_error;\n",
       "      element.async = false;\n",
       "      element.src = url;\n",
       "      console.debug(\"Bokeh: injecting script tag for BokehJS library: \", url);\n",
       "      document.head.appendChild(element);\n",
       "    }\n",
       "  };var element = document.getElementById(\"39696\");\n",
       "  if (element == null) {\n",
       "    console.error(\"Bokeh: ERROR: autoload.js configured with elementid '39696' but no matching script tag was found. \")\n",
       "    return false;\n",
       "  }\n",
       "\n",
       "  function inject_raw_css(css) {\n",
       "    const element = document.createElement(\"style\");\n",
       "    element.appendChild(document.createTextNode(css));\n",
       "    document.body.appendChild(element);\n",
       "  }\n",
       "\n",
       "  \n",
       "  var js_urls = [\"https://cdn.pydata.org/bokeh/release/bokeh-1.4.0.min.js\", \"https://cdn.pydata.org/bokeh/release/bokeh-widgets-1.4.0.min.js\", \"https://cdn.pydata.org/bokeh/release/bokeh-tables-1.4.0.min.js\", \"https://cdn.pydata.org/bokeh/release/bokeh-gl-1.4.0.min.js\"];\n",
       "  var css_urls = [];\n",
       "  \n",
       "\n",
       "  var inline_js = [\n",
       "    function(Bokeh) {\n",
       "      Bokeh.set_log_level(\"info\");\n",
       "    },\n",
       "    function(Bokeh) {\n",
       "    \n",
       "    \n",
       "    }\n",
       "  ];\n",
       "\n",
       "  function run_inline_js() {\n",
       "    \n",
       "    if (root.Bokeh !== undefined || force === true) {\n",
       "      \n",
       "    for (var i = 0; i < inline_js.length; i++) {\n",
       "      inline_js[i].call(root, root.Bokeh);\n",
       "    }\n",
       "    if (force === true) {\n",
       "        display_loaded();\n",
       "      }} else if (Date.now() < root._bokeh_timeout) {\n",
       "      setTimeout(run_inline_js, 100);\n",
       "    } else if (!root._bokeh_failed_load) {\n",
       "      console.log(\"Bokeh: BokehJS failed to load within specified timeout.\");\n",
       "      root._bokeh_failed_load = true;\n",
       "    } else if (force !== true) {\n",
       "      var cell = $(document.getElementById(\"39696\")).parents('.cell').data().cell;\n",
       "      cell.output_area.append_execute_result(NB_LOAD_WARNING)\n",
       "    }\n",
       "\n",
       "  }\n",
       "\n",
       "  if (root._bokeh_is_loading === 0) {\n",
       "    console.debug(\"Bokeh: BokehJS loaded, going straight to plotting\");\n",
       "    run_inline_js();\n",
       "  } else {\n",
       "    load_libs(css_urls, js_urls, function() {\n",
       "      console.debug(\"Bokeh: BokehJS plotting callback run at\", now());\n",
       "      run_inline_js();\n",
       "    });\n",
       "  }\n",
       "}(window));"
      ],
      "application/vnd.bokehjs_load.v0+json": "\n(function(root) {\n  function now() {\n    return new Date();\n  }\n\n  var force = true;\n\n  if (typeof root._bokeh_onload_callbacks === \"undefined\" || force === true) {\n    root._bokeh_onload_callbacks = [];\n    root._bokeh_is_loading = undefined;\n  }\n\n  \n\n  \n  if (typeof (root._bokeh_timeout) === \"undefined\" || force === true) {\n    root._bokeh_timeout = Date.now() + 5000;\n    root._bokeh_failed_load = false;\n  }\n\n  var NB_LOAD_WARNING = {'data': {'text/html':\n     \"<div style='background-color: #fdd'>\\n\"+\n     \"<p>\\n\"+\n     \"BokehJS does not appear to have successfully loaded. If loading BokehJS from CDN, this \\n\"+\n     \"may be due to a slow or bad network connection. Possible fixes:\\n\"+\n     \"</p>\\n\"+\n     \"<ul>\\n\"+\n     \"<li>re-rerun `output_notebook()` to attempt to load from CDN again, or</li>\\n\"+\n     \"<li>use INLINE resources instead, as so:</li>\\n\"+\n     \"</ul>\\n\"+\n     \"<code>\\n\"+\n     \"from bokeh.resources import INLINE\\n\"+\n     \"output_notebook(resources=INLINE)\\n\"+\n     \"</code>\\n\"+\n     \"</div>\"}};\n\n  function display_loaded() {\n    var el = document.getElementById(\"39696\");\n    if (el != null) {\n      el.textContent = \"BokehJS is loading...\";\n    }\n    if (root.Bokeh !== undefined) {\n      if (el != null) {\n        el.textContent = \"BokehJS \" + root.Bokeh.version + \" successfully loaded.\";\n      }\n    } else if (Date.now() < root._bokeh_timeout) {\n      setTimeout(display_loaded, 100)\n    }\n  }\n\n\n  function run_callbacks() {\n    try {\n      root._bokeh_onload_callbacks.forEach(function(callback) {\n        if (callback != null)\n          callback();\n      });\n    } finally {\n      delete root._bokeh_onload_callbacks\n    }\n    console.debug(\"Bokeh: all callbacks have finished\");\n  }\n\n  function load_libs(css_urls, js_urls, callback) {\n    if (css_urls == null) css_urls = [];\n    if (js_urls == null) js_urls = [];\n\n    root._bokeh_onload_callbacks.push(callback);\n    if (root._bokeh_is_loading > 0) {\n      console.debug(\"Bokeh: BokehJS is being loaded, scheduling callback at\", now());\n      return null;\n    }\n    if (js_urls == null || js_urls.length === 0) {\n      run_callbacks();\n      return null;\n    }\n    console.debug(\"Bokeh: BokehJS not loaded, scheduling load and callback at\", now());\n    root._bokeh_is_loading = css_urls.length + js_urls.length;\n\n    function on_load() {\n      root._bokeh_is_loading--;\n      if (root._bokeh_is_loading === 0) {\n        console.debug(\"Bokeh: all BokehJS libraries/stylesheets loaded\");\n        run_callbacks()\n      }\n    }\n\n    function on_error() {\n      console.error(\"failed to load \" + url);\n    }\n\n    for (var i = 0; i < css_urls.length; i++) {\n      var url = css_urls[i];\n      const element = document.createElement(\"link\");\n      element.onload = on_load;\n      element.onerror = on_error;\n      element.rel = \"stylesheet\";\n      element.type = \"text/css\";\n      element.href = url;\n      console.debug(\"Bokeh: injecting link tag for BokehJS stylesheet: \", url);\n      document.body.appendChild(element);\n    }\n\n    for (var i = 0; i < js_urls.length; i++) {\n      var url = js_urls[i];\n      var element = document.createElement('script');\n      element.onload = on_load;\n      element.onerror = on_error;\n      element.async = false;\n      element.src = url;\n      console.debug(\"Bokeh: injecting script tag for BokehJS library: \", url);\n      document.head.appendChild(element);\n    }\n  };var element = document.getElementById(\"39696\");\n  if (element == null) {\n    console.error(\"Bokeh: ERROR: autoload.js configured with elementid '39696' but no matching script tag was found. \")\n    return false;\n  }\n\n  function inject_raw_css(css) {\n    const element = document.createElement(\"style\");\n    element.appendChild(document.createTextNode(css));\n    document.body.appendChild(element);\n  }\n\n  \n  var js_urls = [\"https://cdn.pydata.org/bokeh/release/bokeh-1.4.0.min.js\", \"https://cdn.pydata.org/bokeh/release/bokeh-widgets-1.4.0.min.js\", \"https://cdn.pydata.org/bokeh/release/bokeh-tables-1.4.0.min.js\", \"https://cdn.pydata.org/bokeh/release/bokeh-gl-1.4.0.min.js\"];\n  var css_urls = [];\n  \n\n  var inline_js = [\n    function(Bokeh) {\n      Bokeh.set_log_level(\"info\");\n    },\n    function(Bokeh) {\n    \n    \n    }\n  ];\n\n  function run_inline_js() {\n    \n    if (root.Bokeh !== undefined || force === true) {\n      \n    for (var i = 0; i < inline_js.length; i++) {\n      inline_js[i].call(root, root.Bokeh);\n    }\n    if (force === true) {\n        display_loaded();\n      }} else if (Date.now() < root._bokeh_timeout) {\n      setTimeout(run_inline_js, 100);\n    } else if (!root._bokeh_failed_load) {\n      console.log(\"Bokeh: BokehJS failed to load within specified timeout.\");\n      root._bokeh_failed_load = true;\n    } else if (force !== true) {\n      var cell = $(document.getElementById(\"39696\")).parents('.cell').data().cell;\n      cell.output_area.append_execute_result(NB_LOAD_WARNING)\n    }\n\n  }\n\n  if (root._bokeh_is_loading === 0) {\n    console.debug(\"Bokeh: BokehJS loaded, going straight to plotting\");\n    run_inline_js();\n  } else {\n    load_libs(css_urls, js_urls, function() {\n      console.debug(\"Bokeh: BokehJS plotting callback run at\", now());\n      run_inline_js();\n    });\n  }\n}(window));"
     },
     "metadata": {},
     "output_type": "display_data"
    },
    {
     "name": "stderr",
     "output_type": "stream",
     "text": [
      "/net/software/local/python/3.6.5/lib/python3.6/site-packages/ipykernel_launcher.py:7: RuntimeWarning: divide by zero encountered in log10\n",
      "  import sys\n"
     ]
    },
    {
     "data": {
      "text/html": [
       "\n",
       "\n",
       "\n",
       "\n",
       "\n",
       "\n",
       "  <div class=\"bk-root\" id=\"6fdc193b-d0b4-4b11-90e5-00ecdf643629\" data-root-id=\"39697\"></div>\n"
      ]
     },
     "metadata": {},
     "output_type": "display_data"
    },
    {
     "data": {
      "application/javascript": [
       "(function(root) {\n",
       "  function embed_document(root) {\n",
       "    \n",
       "  var docs_json = {\"a4c9c9db-4758-4b0d-af1a-83aac9f7b141\":{\"roots\":{\"references\":[{\"attributes\":{\"below\":[{\"id\":\"39706\",\"type\":\"LinearAxis\"}],\"center\":[{\"id\":\"39710\",\"type\":\"Grid\"},{\"id\":\"39715\",\"type\":\"Grid\"}],\"left\":[{\"id\":\"39711\",\"type\":\"LinearAxis\"}],\"plot_height\":800,\"plot_width\":800,\"renderers\":[{\"id\":\"39732\",\"type\":\"GlyphRenderer\"},{\"id\":\"39737\",\"type\":\"GlyphRenderer\"},{\"id\":\"39742\",\"type\":\"GlyphRenderer\"},{\"id\":\"39747\",\"type\":\"GlyphRenderer\"},{\"id\":\"39752\",\"type\":\"GlyphRenderer\"},{\"id\":\"39757\",\"type\":\"GlyphRenderer\"},{\"id\":\"39762\",\"type\":\"GlyphRenderer\"},{\"id\":\"39767\",\"type\":\"GlyphRenderer\"},{\"id\":\"39772\",\"type\":\"GlyphRenderer\"},{\"id\":\"39777\",\"type\":\"GlyphRenderer\"},{\"id\":\"39782\",\"type\":\"GlyphRenderer\"},{\"id\":\"39787\",\"type\":\"GlyphRenderer\"},{\"id\":\"39792\",\"type\":\"GlyphRenderer\"},{\"id\":\"39797\",\"type\":\"GlyphRenderer\"},{\"id\":\"39802\",\"type\":\"GlyphRenderer\"},{\"id\":\"39807\",\"type\":\"GlyphRenderer\"},{\"id\":\"39812\",\"type\":\"GlyphRenderer\"},{\"id\":\"39817\",\"type\":\"GlyphRenderer\"},{\"id\":\"39822\",\"type\":\"GlyphRenderer\"},{\"id\":\"39827\",\"type\":\"GlyphRenderer\"},{\"id\":\"39832\",\"type\":\"GlyphRenderer\"},{\"id\":\"39837\",\"type\":\"GlyphRenderer\"},{\"id\":\"39842\",\"type\":\"GlyphRenderer\"},{\"id\":\"39847\",\"type\":\"GlyphRenderer\"},{\"id\":\"39852\",\"type\":\"GlyphRenderer\"},{\"id\":\"39857\",\"type\":\"GlyphRenderer\"},{\"id\":\"39862\",\"type\":\"GlyphRenderer\"},{\"id\":\"39867\",\"type\":\"GlyphRenderer\"},{\"id\":\"39872\",\"type\":\"GlyphRenderer\"},{\"id\":\"39877\",\"type\":\"GlyphRenderer\"},{\"id\":\"39882\",\"type\":\"GlyphRenderer\"},{\"id\":\"39887\",\"type\":\"GlyphRenderer\"},{\"id\":\"39892\",\"type\":\"GlyphRenderer\"},{\"id\":\"39897\",\"type\":\"GlyphRenderer\"},{\"id\":\"39902\",\"type\":\"GlyphRenderer\"},{\"id\":\"39907\",\"type\":\"GlyphRenderer\"},{\"id\":\"39912\",\"type\":\"GlyphRenderer\"},{\"id\":\"39917\",\"type\":\"GlyphRenderer\"},{\"id\":\"39922\",\"type\":\"GlyphRenderer\"},{\"id\":\"39927\",\"type\":\"GlyphRenderer\"},{\"id\":\"39932\",\"type\":\"GlyphRenderer\"},{\"id\":\"39937\",\"type\":\"GlyphRenderer\"},{\"id\":\"39942\",\"type\":\"GlyphRenderer\"},{\"id\":\"39947\",\"type\":\"GlyphRenderer\"},{\"id\":\"39952\",\"type\":\"GlyphRenderer\"},{\"id\":\"39957\",\"type\":\"GlyphRenderer\"},{\"id\":\"39962\",\"type\":\"GlyphRenderer\"},{\"id\":\"39967\",\"type\":\"GlyphRenderer\"},{\"id\":\"39972\",\"type\":\"GlyphRenderer\"},{\"id\":\"39977\",\"type\":\"GlyphRenderer\"},{\"id\":\"39982\",\"type\":\"GlyphRenderer\"},{\"id\":\"39987\",\"type\":\"GlyphRenderer\"},{\"id\":\"39992\",\"type\":\"GlyphRenderer\"},{\"id\":\"39997\",\"type\":\"GlyphRenderer\"},{\"id\":\"40002\",\"type\":\"GlyphRenderer\"},{\"id\":\"40007\",\"type\":\"GlyphRenderer\"},{\"id\":\"40012\",\"type\":\"GlyphRenderer\"},{\"id\":\"40017\",\"type\":\"GlyphRenderer\"},{\"id\":\"40022\",\"type\":\"GlyphRenderer\"},{\"id\":\"40027\",\"type\":\"GlyphRenderer\"},{\"id\":\"40032\",\"type\":\"GlyphRenderer\"},{\"id\":\"40037\",\"type\":\"GlyphRenderer\"},{\"id\":\"40042\",\"type\":\"GlyphRenderer\"},{\"id\":\"40047\",\"type\":\"GlyphRenderer\"},{\"id\":\"40052\",\"type\":\"GlyphRenderer\"},{\"id\":\"40057\",\"type\":\"GlyphRenderer\"},{\"id\":\"40062\",\"type\":\"GlyphRenderer\"},{\"id\":\"40067\",\"type\":\"GlyphRenderer\"},{\"id\":\"40072\",\"type\":\"GlyphRenderer\"},{\"id\":\"40077\",\"type\":\"GlyphRenderer\"},{\"id\":\"40082\",\"type\":\"GlyphRenderer\"},{\"id\":\"40087\",\"type\":\"GlyphRenderer\"},{\"id\":\"40092\",\"type\":\"GlyphRenderer\"},{\"id\":\"40097\",\"type\":\"GlyphRenderer\"},{\"id\":\"40102\",\"type\":\"GlyphRenderer\"},{\"id\":\"40107\",\"type\":\"GlyphRenderer\"},{\"id\":\"40112\",\"type\":\"GlyphRenderer\"},{\"id\":\"40117\",\"type\":\"GlyphRenderer\"},{\"id\":\"40122\",\"type\":\"GlyphRenderer\"},{\"id\":\"40127\",\"type\":\"GlyphRenderer\"},{\"id\":\"40132\",\"type\":\"GlyphRenderer\"},{\"id\":\"40137\",\"type\":\"GlyphRenderer\"},{\"id\":\"40142\",\"type\":\"GlyphRenderer\"},{\"id\":\"40147\",\"type\":\"GlyphRenderer\"},{\"id\":\"40152\",\"type\":\"GlyphRenderer\"},{\"id\":\"40157\",\"type\":\"GlyphRenderer\"},{\"id\":\"40162\",\"type\":\"GlyphRenderer\"},{\"id\":\"40167\",\"type\":\"GlyphRenderer\"},{\"id\":\"40172\",\"type\":\"GlyphRenderer\"},{\"id\":\"40177\",\"type\":\"GlyphRenderer\"},{\"id\":\"40182\",\"type\":\"GlyphRenderer\"},{\"id\":\"40187\",\"type\":\"GlyphRenderer\"},{\"id\":\"40192\",\"type\":\"GlyphRenderer\"},{\"id\":\"40197\",\"type\":\"GlyphRenderer\"},{\"id\":\"40202\",\"type\":\"GlyphRenderer\"},{\"id\":\"40207\",\"type\":\"GlyphRenderer\"},{\"id\":\"40212\",\"type\":\"GlyphRenderer\"},{\"id\":\"40217\",\"type\":\"GlyphRenderer\"},{\"id\":\"40222\",\"type\":\"GlyphRenderer\"},{\"id\":\"40227\",\"type\":\"GlyphRenderer\"},{\"id\":\"40232\",\"type\":\"GlyphRenderer\"}],\"title\":{\"id\":\"42765\",\"type\":\"Title\"},\"toolbar\":{\"id\":\"39722\",\"type\":\"Toolbar\"},\"x_range\":{\"id\":\"39698\",\"type\":\"DataRange1d\"},\"x_scale\":{\"id\":\"39702\",\"type\":\"LinearScale\"},\"y_range\":{\"id\":\"39700\",\"type\":\"DataRange1d\"},\"y_scale\":{\"id\":\"39704\",\"type\":\"LinearScale\"}},\"id\":\"39697\",\"subtype\":\"Figure\",\"type\":\"Plot\"},{\"attributes\":{},\"id\":\"42831\",\"type\":\"Selection\"},{\"attributes\":{\"data_source\":{\"id\":\"39934\",\"type\":\"ColumnDataSource\"},\"glyph\":{\"id\":\"39935\",\"type\":\"Quad\"},\"hover_glyph\":null,\"muted_glyph\":null,\"nonselection_glyph\":{\"id\":\"39936\",\"type\":\"Quad\"},\"selection_glyph\":null,\"view\":{\"id\":\"39938\",\"type\":\"CDSView\"}},\"id\":\"39937\",\"type\":\"GlyphRenderer\"},{\"attributes\":{\"source\":{\"id\":\"39789\",\"type\":\"ColumnDataSource\"}},\"id\":\"39793\",\"type\":\"CDSView\"},{\"attributes\":{\"bottom\":{\"value\":0},\"fill_alpha\":{\"value\":0.05},\"fill_color\":{\"value\":\"#CB4777\"},\"left\":{\"field\":\"left\"},\"line_alpha\":{\"value\":0.05},\"line_color\":{\"value\":\"#7E03A7\"},\"right\":{\"field\":\"right\"},\"top\":{\"field\":\"top\"}},\"id\":\"40080\",\"type\":\"Quad\"},{\"attributes\":{\"bottom\":{\"value\":0},\"fill_alpha\":{\"value\":0.1},\"fill_color\":{\"value\":\"#1f77b4\"},\"left\":{\"field\":\"left\"},\"line_alpha\":{\"value\":0.1},\"line_color\":{\"value\":\"#1f77b4\"},\"right\":{\"field\":\"right\"},\"top\":{\"field\":\"top\"}},\"id\":\"40116\",\"type\":\"Quad\"},{\"attributes\":{\"callback\":null,\"data\":{\"left\":{\"__ndarray__\":\"Y1p1ACvGJj8p9uNWDii1P9PYI8xcIsU/kbbVbLKwzz8nysMGhB/VPwa5HNeuZto/5ad1p9mt3z9iS+c7gnriP9LCE6QXHuU/QjpADK3B5z+xsWx0QmXqPyApmdzXCO0/kKDFRG2s7z8ADHlWASjxP7dHjwrMefI/b4OlvpbL8z8nv7tyYR31P9/60SYsb/Y/lzbo2vbA9z9Ocv6OwRL5PwauFEOMZPo/vukq91a2+z91JUGrIQj9Py1hV1/sWf4/5ZxtE7er/z9O7MHjwH4AQCoKzT2mJwFABijYl4vQAUDhRePxcHkCQL1j7ktWIgNAmYH5pTvLA0B1nwQAIXQEQFG9D1oGHQVALdsatOvFBUAJ+SUO0W4GQOUWMWi2FwdAwTQ8wpvAB0CcUkccgWkIQHhwUnZmEglAVI5d0Eu7CUAwrGgqMWQKQAzKc4QWDQtA6Od+3vu1C0DEBYo44V4MQJ8jlZLGBw1Ae0Gg7KuwDUBXX6tGkVkOQDN9tqB2Ag9AD5vB+lurD0B2XGaqICoQQA==\",\"dtype\":\"float64\",\"shape\":[50]},\"right\":{\"__ndarray__\":\"KfbjVg4otT/T2CPMXCLFP5G21WyysM8/J8rDBoQf1T8GuRzXrmbaP+WndafZrd8/YkvnO4J64j/SwhOkFx7lP0I6QAytwec/sbFsdEJl6j8gKZnc1wjtP5CgxURtrO8/AAx5VgEo8T+3R48KzHnyP2+Dpb6Wy/M/J7+7cmEd9T/f+tEmLG/2P5c26Nr2wPc/TnL+jsES+T8GrhRDjGT6P77pKvdWtvs/dSVBqyEI/T8tYVdf7Fn+P+WcbRO3q/8/TuzB48B+AEAqCs09picBQAYo2JeL0AFA4UXj8XB5AkC9Y+5LViIDQJmB+aU7ywNAdZ8EACF0BEBRvQ9aBh0FQC3bGrTrxQVACfklDtFuBkDlFjFothcHQME0PMKbwAdAnFJHHIFpCEB4cFJ2ZhIJQFSOXdBLuwlAMKxoKjFkCkAMynOEFg0LQOjnft77tQtAxAWKOOFeDECfI5WSxgcNQHtBoOyrsA1AV1+rRpFZDkAzfbagdgIPQA+bwfpbqw9AdlxmqiAqEEBk62tXk34QQA==\",\"dtype\":\"float64\",\"shape\":[50]},\"top\":{\"__ndarray__\":\"P5ZBbzNEAkAP8C1rzGQAQGKsvY/TMwBA9JuTFaXsAUC/iovmkNsAQG6ZDBraHP0//jbv+Bzm/D/+Nu/4HOb8P37gu7Dd5vY//r7jhOK3+z8eUeRQGcr8Py5lWjaaN/0/Hzp4P9T4+T8AAAAAAADwP08SvEO20vE/TxK8Q7bS8T8QwftVxnX0Pz/MeAsLC+s/TxK8Q7bS8T8AF2wRRdHyP/6nd3Od5ug//3mfUBNE0z9uxVBgi6nwP/95n1ATRNM/AAAAAAAAAAAAAAAAAADw/wAAAAAAAAAAAAAAAAAAAAAAAAAAAADw/wAAAAAAAPD/AAAAAAAAAAAAAAAAAAAAAAAAAAAAAPD/AAAAAAAA8P8AAAAAAADw/wAAAAAAAPD/AAAAAAAA8P8AAAAAAADw/wAAAAAAAAAAAAAAAAAAAAAAAAAAAADw/wAAAAAAAPD/AAAAAAAA8P8AAAAAAADw/wAAAAAAAPD/AAAAAAAA8P8AAAAAAADw/wAAAAAAAPD/AAAAAAAA8P8AAAAAAAAAAA==\",\"dtype\":\"float64\",\"shape\":[50]}},\"selected\":{\"id\":\"42969\",\"type\":\"Selection\"},\"selection_policy\":{\"id\":\"42970\",\"type\":\"UnionRenderers\"}},\"id\":\"40224\",\"type\":\"ColumnDataSource\"},{\"attributes\":{},\"id\":\"42832\",\"type\":\"UnionRenderers\"},{\"attributes\":{\"data_source\":{\"id\":\"40114\",\"type\":\"ColumnDataSource\"},\"glyph\":{\"id\":\"40115\",\"type\":\"Quad\"},\"hover_glyph\":null,\"muted_glyph\":null,\"nonselection_glyph\":{\"id\":\"40116\",\"type\":\"Quad\"},\"selection_glyph\":null,\"view\":{\"id\":\"40118\",\"type\":\"CDSView\"}},\"id\":\"40117\",\"type\":\"GlyphRenderer\"},{\"attributes\":{\"callback\":null,\"data\":{\"left\":{\"__ndarray__\":\"tiLw2+V5PD8ZhhQePrmtP/eVODjEnL0/cHSzsHQuxj/lnUpFh47NP63j8OxMd9I/aHg8N1Yn1j8jDYiBX9fZP92h08toh90/S5sPC7mb4D+oZTWwvXPiPwYwW1XCS+Q/Y/qA+sYj5j/AxKafy/vnPx6PzETQ0+k/e1ny6dSr6z/YIxiP2YPtPzXuPTTeW+8/SdyxbPGZ8D94wUS/84XxP6am1xH2cfI/1YtqZPhd8z8Ecf22+kn0PzJWkAn9NfU/YTsjXP8h9j+QILauAQ73P74FSQEE+vc/7erbUwbm+D8c0G6mCNL5P0q1AfkKvvo/eZqUSw2q+z+nfyeeD5b8P9ZkuvARgv0/BUpNQxRu/j8zL+CVFlr/PzGKOXQMIwBAyPyCnQ2ZAEBgb8zGDg8BQPfhFfAPhQFAjlRfGRH7AUAlx6hCEnECQL058msT5wJAVKw7lRRdA0DrHoW+FdMDQIORzucWSQRAGgQYERi/BECxdmE6GTUFQEnpqmMaqwVA4Fv0jBshBkB3zj22HJcGQA==\",\"dtype\":\"float64\",\"shape\":[50]},\"right\":{\"__ndarray__\":\"GYYUHj65rT/3lTg4xJy9P3B0s7B0LsY/5Z1KRYeOzT+t4/DsTHfSP2h4PDdWJ9Y/Iw2IgV/X2T/dodPLaIfdP0ubDwu5m+A/qGU1sL1z4j8GMFtVwkvkP2P6gPrGI+Y/wMSmn8v75z8ej8xE0NPpP3tZ8unUq+s/2CMYj9mD7T817j003lvvP0ncsWzxmfA/eMFEv/OF8T+mptcR9nHyP9WLamT4XfM/BHH9tvpJ9D8yVpAJ/TX1P2E7I1z/IfY/kCC2rgEO9z++BUkBBPr3P+3q21MG5vg/HNBupgjS+T9KtQH5Cr76P3malEsNqvs/p38nng+W/D/WZLrwEYL9PwVKTUMUbv4/My/glRZa/z8xijl0DCMAQMj8gp0NmQBAYG/Mxg4PAUD34RXwD4UBQI5UXxkR+wFAJceoQhJxAkC9OfJrE+cCQFSsO5UUXQNA6x6FvhXTA0CDkc7nFkkEQBoEGBEYvwRAsXZhOhk1BUBJ6apjGqsFQOBb9IwbIQZAd849thyXBkAPQYffHQ0HQA==\",\"dtype\":\"float64\",\"shape\":[50]},\"top\":{\"__ndarray__\":\"v6qg3w/c/z9LtDmAP3oBQPYwvNGvIvo/WAwCcvbN+T/+vuOE4rf7P/YwvNGvIvo/n1tQa88n9T9umQwa2hz9PxDB+1XGdfQ/F1xzCfCA+D9+yU+fmBX0P/427/gc5uw/n0TkWYpW8j/+Nu/4HObsPz/MeAsLC+s//3mfUBNE4z8BQ7BX9l3mP/95n1ATROM//3mfUBNE4z/91U+WJ4nePwFDsFf2XeY//qd3c53m6D//eZ9QE0TTP/95n1ATROM/n1tQa88n9T/+p3dzneboPwAAAAAAAAAA/dVPlieJ3j//eZ9QE0TjP/3VT5Ynie4//qd3c53m6D8AAAAAAADw//95n1ATRNM//3mfUBNE0z8AAAAAAAAAAAAAAAAAAAAA/dVPlieJ3j//eZ9QE0TTP/95n1ATRNM/AAAAAAAA8P8AAAAAAAAAAAAAAAAAAPD/AAAAAAAA8P//eZ9QE0TTPwAAAAAAAPD/AAAAAAAA8P//eZ9QE0TTP/95n1ATRNM/AAAAAAAAAAAAAAAAAAAAAA==\",\"dtype\":\"float64\",\"shape\":[50]}},\"selected\":{\"id\":\"42797\",\"type\":\"Selection\"},\"selection_policy\":{\"id\":\"42798\",\"type\":\"UnionRenderers\"}},\"id\":\"39794\",\"type\":\"ColumnDataSource\"},{\"attributes\":{\"source\":{\"id\":\"39934\",\"type\":\"ColumnDataSource\"}},\"id\":\"39938\",\"type\":\"CDSView\"},{\"attributes\":{\"bottom\":{\"value\":0},\"fill_alpha\":{\"value\":0.1},\"fill_color\":{\"value\":\"#1f77b4\"},\"left\":{\"field\":\"left\"},\"line_alpha\":{\"value\":0.1},\"line_color\":{\"value\":\"#1f77b4\"},\"right\":{\"field\":\"right\"},\"top\":{\"field\":\"top\"}},\"id\":\"40081\",\"type\":\"Quad\"},{\"attributes\":{\"bottom\":{\"value\":0},\"fill_alpha\":{\"value\":0.05},\"fill_color\":{\"value\":\"#CB4777\"},\"left\":{\"field\":\"left\"},\"line_alpha\":{\"value\":0.05},\"line_color\":{\"value\":\"#7E03A7\"},\"right\":{\"field\":\"right\"},\"top\":{\"field\":\"top\"}},\"id\":\"40225\",\"type\":\"Quad\"},{\"attributes\":{},\"id\":\"42833\",\"type\":\"Selection\"},{\"attributes\":{\"data_source\":{\"id\":\"40079\",\"type\":\"ColumnDataSource\"},\"glyph\":{\"id\":\"40080\",\"type\":\"Quad\"},\"hover_glyph\":null,\"muted_glyph\":null,\"nonselection_glyph\":{\"id\":\"40081\",\"type\":\"Quad\"},\"selection_glyph\":null,\"view\":{\"id\":\"40083\",\"type\":\"CDSView\"}},\"id\":\"40082\",\"type\":\"GlyphRenderer\"},{\"attributes\":{\"bottom\":{\"value\":0},\"fill_alpha\":{\"value\":0.05},\"fill_color\":{\"value\":\"#CB4777\"},\"left\":{\"field\":\"left\"},\"line_alpha\":{\"value\":0.05},\"line_color\":{\"value\":\"#7E03A7\"},\"right\":{\"field\":\"right\"},\"top\":{\"field\":\"top\"}},\"id\":\"39795\",\"type\":\"Quad\"},{\"attributes\":{\"callback\":null,\"data\":{\"left\":{\"__ndarray__\":\"DLsl9rRXTz+JRS4qSleqPxP6QcCaGLo/sWi2NciCwz9Y1EsLQ/nJPwCgcPDeN9A/1FU7Wxxz0z+nCwbGWa7WP3vB0DCX6dk/T3ebm9Qk3T+RFjMDCTDgP3txmLinzeE/Zcz9bUZr4z9PJ2Mj5QjlPziCyNiDpuY/It0tjiJE6D8MOJNDweHpP/aS+Phff+s/4O1drv4c7T/JSMNjnbruP9lRlAweLPA/Tv9GZ+368D/DrPnBvMnxPzharByMmPI/rQdfd1tn8z8itRHSKjb0P5dixCz6BPU/CxB3h8nT9T+AvSnimKL2P/Vq3Dxocfc/ahiPlzdA+D/fxUHyBg/5P1Rz9EzW3fk/ySCnp6Ws+j8+zlkCdXv7P7N7DF1ESvw/KCm/txMZ/T+d1nES4+f9PxGEJG2ytv4/hjHXx4GF/z9+70SRKCoAQDlGnj6QkQBA85z36/f4AECt81CZX2ABQGhKqkbHxwFAIqED9C4vAkDd91yhlpYCQJdOtk7+/QJAUqUP/GVlA0AM/GipzcwDQA==\",\"dtype\":\"float64\",\"shape\":[50]},\"right\":{\"__ndarray__\":\"iUUuKkpXqj8T+kHAmhi6P7FotjXIgsM/WNRLC0P5yT8AoHDw3jfQP9RVO1scc9M/pwsGxlmu1j97wdAwl+nZP093m5vUJN0/kRYzAwkw4D97cZi4p83hP2XM/W1Ga+M/TydjI+UI5T84gsjYg6bmPyLdLY4iROg/DDiTQ8Hh6T/2kvj4X3/rP+DtXa7+HO0/yUjDY5267j/ZUZQMHizwP07/Rmft+vA/w6z5wbzJ8T84WqwcjJjyP60HX3dbZ/M/IrUR0io29D+XYsQs+gT1PwsQd4fJ0/U/gL0p4pii9j/1atw8aHH3P2oYj5c3QPg/38VB8gYP+T9Uc/RM1t35P8kgp6elrPo/Ps5ZAnV7+z+zewxdREr8Pygpv7cTGf0/ndZxEuPn/T8RhCRtsrb+P4Yx18eBhf8/fu9EkSgqAEA5Rp4+kJEAQPOc9+v3+ABArfNQmV9gAUBoSqpGx8cBQCKhA/QuLwJA3fdcoZaWAkCXTrZO/v0CQFKlD/xlZQNADPxoqc3MA0DHUsJWNTQEQA==\",\"dtype\":\"float64\",\"shape\":[50]},\"top\":{\"__ndarray__\":\"foafR6K3/T8AKz1L0lwAQG6JkTmuXP4/TuZ3/QRG/j9lXez5537/P/AbXwS2kPw/lzqb3fRR/T9ktKGhK9D9P566+K7pwPo/kLaPOxAY/D+AOEQ9QAD+P0/PC+y/dPs/AL1PqAmi+T/+p3dzneb4P5CfIyrLRvk/fuC7sN3m9j+XfUs166/zP/95n1ATRPM/ABdsEUXR8j//eZ9QE0TzP37JT5+YFfQ/f7LjjVNE8T+fRORZilbyP3+y441TRPE/ABdsEUXR8j9PErxDttLxP/95n1ATRNM//qd3c53m6D8AAAAAAADwP/95n1ATRNM//3mfUBNE4z/+p3dzneboP/95n1ATRNM/P8x4CwsL6z8BQ7BX9l3mPwAAAAAAAAAAAAAAAAAA8P8AAAAAAAAAAP95n1ATROM//dVPlieJ3j/91U+WJ4neP/95n1ATRNM/AAAAAAAAAAAAAAAAAAAAAAAAAAAAAPD/AAAAAAAAAAAAAAAAAADw/wAAAAAAAAAA/3mfUBNE0z8AAAAAAAAAAA==\",\"dtype\":\"float64\",\"shape\":[50]}},\"selected\":{\"id\":\"42855\",\"type\":\"Selection\"},\"selection_policy\":{\"id\":\"42856\",\"type\":\"UnionRenderers\"}},\"id\":\"39939\",\"type\":\"ColumnDataSource\"},{\"attributes\":{\"source\":{\"id\":\"40114\",\"type\":\"ColumnDataSource\"}},\"id\":\"40118\",\"type\":\"CDSView\"},{\"attributes\":{\"bottom\":{\"value\":0},\"fill_alpha\":{\"value\":0.1},\"fill_color\":{\"value\":\"#1f77b4\"},\"left\":{\"field\":\"left\"},\"line_alpha\":{\"value\":0.1},\"line_color\":{\"value\":\"#1f77b4\"},\"right\":{\"field\":\"right\"},\"top\":{\"field\":\"top\"}},\"id\":\"40226\",\"type\":\"Quad\"},{\"attributes\":{},\"id\":\"42834\",\"type\":\"UnionRenderers\"},{\"attributes\":{\"data_source\":{\"id\":\"40224\",\"type\":\"ColumnDataSource\"},\"glyph\":{\"id\":\"40225\",\"type\":\"Quad\"},\"hover_glyph\":null,\"muted_glyph\":null,\"nonselection_glyph\":{\"id\":\"40226\",\"type\":\"Quad\"},\"selection_glyph\":null,\"view\":{\"id\":\"40228\",\"type\":\"CDSView\"}},\"id\":\"40227\",\"type\":\"GlyphRenderer\"},{\"attributes\":{\"bottom\":{\"value\":0},\"fill_alpha\":{\"value\":0.1},\"fill_color\":{\"value\":\"#1f77b4\"},\"left\":{\"field\":\"left\"},\"line_alpha\":{\"value\":0.1},\"line_color\":{\"value\":\"#1f77b4\"},\"right\":{\"field\":\"right\"},\"top\":{\"field\":\"top\"}},\"id\":\"39796\",\"type\":\"Quad\"},{\"attributes\":{\"bottom\":{\"value\":0},\"fill_alpha\":{\"value\":0.05},\"fill_color\":{\"value\":\"#CB4777\"},\"left\":{\"field\":\"left\"},\"line_alpha\":{\"value\":0.05},\"line_color\":{\"value\":\"#7E03A7\"},\"right\":{\"field\":\"right\"},\"top\":{\"field\":\"top\"}},\"id\":\"39940\",\"type\":\"Quad\"},{\"attributes\":{\"source\":{\"id\":\"40079\",\"type\":\"ColumnDataSource\"}},\"id\":\"40083\",\"type\":\"CDSView\"},{\"attributes\":{\"callback\":null,\"data\":{\"left\":{\"__ndarray__\":\"tiLw2+V5PD+twkZxsjqmP4vSaos4HrY/3yEZ74uPwD952nyY+w/GPxOT4EFrkMs/1yWidW2I0D8kAlRKpUjTP3HeBR/dCNY/vrq38xTJ2D8Ll2nITInbP1hzG52ESd4/0qfmON6E4D/4lT8j+uThPx+EmA0WReM/RnLx9zGl5D9sYEriTQXmP5JOo8xpZec/uTz8toXF6D/gKlWhoSXqPwYZrou9hes/LAcHdtnl7D9T9V9g9UXuP3rjuEoRpu8/0OiImhaD8D/jX7WPJDPxP/bW4YQy4/E/Ck4OekCT8j8dxTpvTkPzPzA8Z2Rc8/M/RLOTWWqj9D9XKsBOeFP1P2qh7EOGA/Y/fRgZOZSz9j+Qj0UuomP3P6QGciOwE/g/t32eGL7D+D/K9MoNzHP5P95r9wLaI/o/8eIj+OfT+j8EWlDt9YP7PxfRfOIDNPw/Kkip1xHk/D8+v9XMH5T9P1E2AsItRP4/ZK0utzv0/j94JFusSaT/P8XNw9ArKgBATwlayzKCAEDZRPDFOdoAQA==\",\"dtype\":\"float64\",\"shape\":[50]},\"right\":{\"__ndarray__\":\"rcJGcbI6pj+L0mqLOB62P98hGe+Lj8A/edp8mPsPxj8Tk+BBa5DLP9clonVtiNA/JAJUSqVI0z9x3gUf3QjWP766t/MUydg/C5dpyEyJ2z9YcxudhEneP9Kn5jjehOA/+JU/I/rk4T8fhJgNFkXjP0Zy8fcxpeQ/bGBK4k0F5j+STqPMaWXnP7k8/LaFxeg/4CpVoaEl6j8GGa6LvYXrPywHB3bZ5ew/U/VfYPVF7j9647hKEabvP9DoiJoWg/A/41+1jyQz8T/21uGEMuPxPwpODnpAk/I/HcU6b05D8z8wPGdkXPPzP0Szk1lqo/Q/VyrATnhT9T9qoexDhgP2P30YGTmUs/Y/kI9FLqJj9z+kBnIjsBP4P7d9nhi+w/g/yvTKDcxz+T/ea/cC2iP6P/HiI/jn0/o/BFpQ7fWD+z8X0XziAzT8PypIqdcR5Pw/Pr/VzB+U/T9RNgLCLUT+P2StLrc79P4/eCRbrEmk/z/FzcPQKyoAQE8JWssyggBA2UTwxTnaAEBigIbAQDIBQA==\",\"dtype\":\"float64\",\"shape\":[50]},\"top\":{\"__ndarray__\":\"jisN5hAv/j8APw6FX+j9P5c6m930Uf0/nwE0ApT4+z8fOng/1Pj5P4Bg5rBaF/k/gDhEPUAA/j9/DAD3jnP6P9uP+KTZCABAkeLTgcGk/z9umQwa2hz9P/6QC2JYFfY/HyMMLo8n9z8XXHMJ8ID4P4DeJ9QE0fQ/bsVQYIup8D8QwftVxnX0Pz/MeAsLC+s//qd3c53m6D9uxVBgi6nwP3+y441TRPE/bsVQYIup8D8AAAAAAADwPwFDsFf2XeY//qd3c53m6D8BQ7BX9l3mPwFDsFf2XeY//dVPlieJ3j8AAAAAAADw/wAAAAAAAPD/AAAAAAAAAAD/eZ9QE0TTPwAAAAAAAPD/AAAAAAAAAAAAAAAAAAAAAAAAAAAAAPD/AAAAAAAA8P8AAAAAAAAAAAAAAAAAAPD/AAAAAAAA8P//eZ9QE0TTPwAAAAAAAPD/AAAAAAAAAAAAAAAAAADw/wAAAAAAAPD/AAAAAAAAAAAAAAAAAADw/wAAAAAAAPD//3mfUBNE0z8AAAAAAAAAAA==\",\"dtype\":\"float64\",\"shape\":[50]}},\"selected\":{\"id\":\"42927\",\"type\":\"Selection\"},\"selection_policy\":{\"id\":\"42928\",\"type\":\"UnionRenderers\"}},\"id\":\"40119\",\"type\":\"ColumnDataSource\"},{\"attributes\":{},\"id\":\"42835\",\"type\":\"Selection\"},{\"attributes\":{\"data_source\":{\"id\":\"39794\",\"type\":\"ColumnDataSource\"},\"glyph\":{\"id\":\"39795\",\"type\":\"Quad\"},\"hover_glyph\":null,\"muted_glyph\":null,\"nonselection_glyph\":{\"id\":\"39796\",\"type\":\"Quad\"},\"selection_glyph\":null,\"view\":{\"id\":\"39798\",\"type\":\"CDSView\"}},\"id\":\"39797\",\"type\":\"GlyphRenderer\"},{\"attributes\":{\"bottom\":{\"value\":0},\"fill_alpha\":{\"value\":0.1},\"fill_color\":{\"value\":\"#1f77b4\"},\"left\":{\"field\":\"left\"},\"line_alpha\":{\"value\":0.1},\"line_color\":{\"value\":\"#1f77b4\"},\"right\":{\"field\":\"right\"},\"top\":{\"field\":\"top\"}},\"id\":\"39941\",\"type\":\"Quad\"},{\"attributes\":{\"callback\":null,\"data\":{\"left\":{\"__ndarray__\":\"Oc6x+klTPz9BBwxCFj+uP3NVEfjCH74/o1OOZ/2Pxj+M/BNTGRDOP7vSTJ8ayNI/MKcPlSiI1j+ke9KKNkjaPxlQlYBECN4/RxIsOynk4D+BfA02MMTiP7vm7jA3pOQ/9lDQKz6E5j8wu7EmRWToP2olkyFMROo/pY90HFMk7D/f+VUXWgTuPxlkNxJh5O8/KmeMBjTi8D9HHP2DN9LxP2TRbQE7wvI/gYbefj6y8z+eO0/8QaL0P7zwv3lFkvU/2aUw90iC9j/2WqF0THL3PxMQEvJPYvg/MMWCb1NS+T9NevPsVkL6P2svZGpaMvs/iOTU510i/D+lmUVlYRL9P8JOtuJkAv4/3wMnYGjy/j/8uJfda+L/Pww3hK03aQBAm5E8bDnhAEAp7PQqO1kBQLhGrek80QFAR6FlqD5JAkDV+x1nQMECQGRW1iVCOQNA8rCO5EOxA0CBC0ejRSkEQA9m/2FHoQRAnsC3IEkZBUAtG3DfSpEFQLt1KJ5MCQZAStDgXE6BBkDYKpkbUPkGQA==\",\"dtype\":\"float64\",\"shape\":[50]},\"right\":{\"__ndarray__\":\"QQcMQhY/rj9zVRH4wh++P6NTjmf9j8Y/jPwTUxkQzj+70kyfGsjSPzCnD5UoiNY/pHvSijZI2j8ZUJWARAjeP0cSLDsp5OA/gXwNNjDE4j+75u4wN6TkP/ZQ0Cs+hOY/MLuxJkVk6D9qJZMhTETqP6WPdBxTJOw/3/lVF1oE7j8ZZDcSYeTvPypnjAY04vA/Rxz9gzfS8T9k0W0BO8LyP4GG3n4+svM/njtP/EGi9D+88L95RZL1P9mlMPdIgvY/9lqhdExy9z8TEBLyT2L4PzDFgm9TUvk/TXrz7FZC+j9rL2RqWjL7P4jk1OddIvw/pZlFZWES/T/CTrbiZAL+P98DJ2Bo8v4//LiX3Wvi/z8MN4StN2kAQJuRPGw54QBAKez0KjtZAUC4Rq3pPNEBQEehZag+SQJA1fsdZ0DBAkBkVtYlQjkDQPKwjuRDsQNAgQtHo0UpBEAPZv9hR6EEQJ7AtyBJGQVALRtw30qRBUC7dSieTAkGQErQ4FxOgQZA2CqZG1D5BkBnhVHaUXEHQA==\",\"dtype\":\"float64\",\"shape\":[50]},\"top\":{\"__ndarray__\":\"AL1PqAmi+T/OB1ApAHX5P/6QC2JYFfY/5mdYFJ7c9z9qQpNFADf8P84HUCkAdfk/7qN4NJB69T9/9ZPlSaL3P08SvEO20vE/f7LjjVNE8T+fRORZilbyP/427/gc5uw/AUOwV/Zd5j//eZ9QE0TTP/6nd3Od5ug//qd3c53m6D8AAAAAAADwPz/MeAsLC+s//dVPlieJ3j8AAAAAAAAAAP95n1ATROM/AAAAAAAA8P//eZ9QE0TTP/95n1ATRNM//3mfUBNE0z8AAAAAAAAAAAAAAAAAAAAAAAAAAAAAAAAAAAAAAADw/wAAAAAAAPD/AAAAAAAAAAAAAAAAAADw//95n1ATRNM/AAAAAAAAAAD/eZ9QE0TTP/95n1ATROM/AUOwV/Zd5j8AAAAAAADw/wAAAAAAAPD/AAAAAAAA8P8AAAAAAADw/wFDsFf2XeY/AAAAAAAA8P8AAAAAAADw/wAAAAAAAPD/AAAAAAAA8P8AAAAAAADw/wAAAAAAAPD/AAAAAAAAAAAAAAAAAAAAAA==\",\"dtype\":\"float64\",\"shape\":[50]}},\"selected\":{\"id\":\"42913\",\"type\":\"Selection\"},\"selection_policy\":{\"id\":\"42914\",\"type\":\"UnionRenderers\"}},\"id\":\"40084\",\"type\":\"ColumnDataSource\"},{\"attributes\":{\"bottom\":{\"value\":0},\"fill_alpha\":{\"value\":0.05},\"fill_color\":{\"value\":\"#CB4777\"},\"left\":{\"field\":\"left\"},\"line_alpha\":{\"value\":0.05},\"line_color\":{\"value\":\"#7E03A7\"},\"right\":{\"field\":\"right\"},\"top\":{\"field\":\"top\"}},\"id\":\"40120\",\"type\":\"Quad\"},{\"attributes\":{\"source\":{\"id\":\"40224\",\"type\":\"ColumnDataSource\"}},\"id\":\"40228\",\"type\":\"CDSView\"},{\"attributes\":{},\"id\":\"42836\",\"type\":\"UnionRenderers\"},{\"attributes\":{\"data_source\":{\"id\":\"39939\",\"type\":\"ColumnDataSource\"},\"glyph\":{\"id\":\"39940\",\"type\":\"Quad\"},\"hover_glyph\":null,\"muted_glyph\":null,\"nonselection_glyph\":{\"id\":\"39941\",\"type\":\"Quad\"},\"selection_glyph\":null,\"view\":{\"id\":\"39943\",\"type\":\"CDSView\"}},\"id\":\"39942\",\"type\":\"GlyphRenderer\"},{\"attributes\":{\"source\":{\"id\":\"39794\",\"type\":\"ColumnDataSource\"}},\"id\":\"39798\",\"type\":\"CDSView\"},{\"attributes\":{\"bottom\":{\"value\":0},\"fill_alpha\":{\"value\":0.05},\"fill_color\":{\"value\":\"#CB4777\"},\"left\":{\"field\":\"left\"},\"line_alpha\":{\"value\":0.05},\"line_color\":{\"value\":\"#7E03A7\"},\"right\":{\"field\":\"right\"},\"top\":{\"field\":\"top\"}},\"id\":\"40085\",\"type\":\"Quad\"},{\"attributes\":{\"bottom\":{\"value\":0},\"fill_alpha\":{\"value\":0.1},\"fill_color\":{\"value\":\"#1f77b4\"},\"left\":{\"field\":\"left\"},\"line_alpha\":{\"value\":0.1},\"line_color\":{\"value\":\"#1f77b4\"},\"right\":{\"field\":\"right\"},\"top\":{\"field\":\"top\"}},\"id\":\"40121\",\"type\":\"Quad\"},{\"attributes\":{},\"id\":\"42837\",\"type\":\"Selection\"},{\"attributes\":{\"data_source\":{\"id\":\"40119\",\"type\":\"ColumnDataSource\"},\"glyph\":{\"id\":\"40120\",\"type\":\"Quad\"},\"hover_glyph\":null,\"muted_glyph\":null,\"nonselection_glyph\":{\"id\":\"40121\",\"type\":\"Quad\"},\"selection_glyph\":null,\"view\":{\"id\":\"40123\",\"type\":\"CDSView\"}},\"id\":\"40122\",\"type\":\"GlyphRenderer\"},{\"attributes\":{\"callback\":null,\"data\":{\"left\":{\"__ndarray__\":\"icoEMMQLYD8uwxiStGOvP9mcmHBW474/DmwSTGkKxz+vidhfJ6POP6hTz7nyHdM/eWKyw1Hq1j9JcZXNsLbaPxqAeNcPg94/dsetcLcn4T/eTp/15g3jP0bWkHoW9OQ/r12C/0Xa5j8X5XOEdcDoP39sZQmlpuo/6PNWjtSM7D9Qe0gTBHPuP1wBHcyZLPA/EMWVjrEf8T/EiA5RyRLyP3hMhxPhBfM/LBAA1vj48z/g03iYEOz0P5WX8Voo3/U/SVtqHUDS9j/9HuPfV8X3P7HiW6JvuPg/ZabUZIer+T8Zak0nn576P84txum2kfs/gvE+rM6E/D82tbdu5nf9P+p4MDH+av4/njyp8xVe/z8qABHbligAQARiTbwiogBA3sOJna4bAUC4JcZ+OpUBQJKHAmDGDgJAbOk+QVKIAkBGS3si3gEDQCCttwNqewNA+g705PX0A0DUcDDGgW4EQK7SbKcN6ARAiTSpiJlhBUBjluVpJdsFQD34IUuxVAZAF1peLD3OBkDxu5oNyUcHQA==\",\"dtype\":\"float64\",\"shape\":[50]},\"right\":{\"__ndarray__\":\"LsMYkrRjrz/ZnJhwVuO+Pw5sEkxpCsc/r4nYXyejzj+oU8+58h3TP3lissNR6tY/SXGVzbC22j8agHjXD4PeP3bHrXC3J+E/3k6f9eYN4z9G1pB6FvTkP69dgv9F2uY/F+VzhHXA6D9/bGUJpabqP+jzVo7UjOw/UHtIEwRz7j9cAR3MmSzwPxDFlY6xH/E/xIgOUckS8j94TIcT4QXzPywQANb4+PM/4NN4mBDs9D+Vl/FaKN/1P0lbah1A0vY//R7j31fF9z+x4luib7j4P2Wm1GSHq/k/GWpNJ5+e+j/OLcbptpH7P4LxPqzOhPw/NrW3buZ3/T/qeDAx/mr+P548qfMVXv8/KgAR25YoAEAEYk28IqIAQN7DiZ2uGwFAuCXGfjqVAUCShwJgxg4CQGzpPkFSiAJARkt7It4BA0AgrbcDansDQPoO9OT19ANA1HAwxoFuBECu0mynDegEQIk0qYiZYQVAY5blaSXbBUA9+CFLsVQGQBdaXiw9zgZA8buaDclHB0DLHdfuVMEHQA==\",\"dtype\":\"float64\",\"shape\":[50]},\"top\":{\"__ndarray__\":\"IGa8hYWF/T9umQwa2hz9P35vMzZd5vo/f5t3fA5z/j+AIdgr+y77P3/1k+VJovc/z/DjF7uj9j/+kAtiWBX2P/3VT5Ynie4//3mfUBNE8z9uxVBgi6nwP/95n1ATROM//3mfUBNE4z//eZ9QE0TTPwFDsFf2XeY//dVPlieJ3j/91U+WJ4neP/95n1ATRNM//qd3c53m6D//eZ9QE0TjP/95n1ATRNM/AUOwV/Zd5j8AAAAAAAAAAAAAAAAAAPD/AAAAAAAAAAD/eZ9QE0TTPwAAAAAAAAAAAAAAAAAAAAAAAAAAAADw/wAAAAAAAPD/AAAAAAAA8P8AAAAAAADw/wAAAAAAAPD/AAAAAAAA8P8AAAAAAAAAAAAAAAAAAPD/AAAAAAAA8P8AAAAAAADw/wAAAAAAAPD/AAAAAAAA8P8AAAAAAADw/wAAAAAAAPD/AAAAAAAA8P8AAAAAAADw/wAAAAAAAPD/AAAAAAAA8P8AAAAAAADw/wAAAAAAAPD/AAAAAAAA8P8AAAAAAAAAAA==\",\"dtype\":\"float64\",\"shape\":[50]}},\"selected\":{\"id\":\"42799\",\"type\":\"Selection\"},\"selection_policy\":{\"id\":\"42800\",\"type\":\"UnionRenderers\"}},\"id\":\"39799\",\"type\":\"ColumnDataSource\"},{\"attributes\":{\"source\":{\"id\":\"39939\",\"type\":\"ColumnDataSource\"}},\"id\":\"39943\",\"type\":\"CDSView\"},{\"attributes\":{\"bottom\":{\"value\":0},\"fill_alpha\":{\"value\":0.1},\"fill_color\":{\"value\":\"#1f77b4\"},\"left\":{\"field\":\"left\"},\"line_alpha\":{\"value\":0.1},\"line_color\":{\"value\":\"#1f77b4\"},\"right\":{\"field\":\"right\"},\"top\":{\"field\":\"top\"}},\"id\":\"40086\",\"type\":\"Quad\"},{\"attributes\":{\"bottom\":{\"value\":0},\"fill_color\":{\"value\":\"#0C0786\"},\"left\":{\"field\":\"left\"},\"line_color\":{\"value\":\"#0C0786\"},\"right\":{\"field\":\"right\"},\"top\":{\"field\":\"top\"}},\"id\":\"40230\",\"type\":\"Quad\"},{\"attributes\":{},\"id\":\"42838\",\"type\":\"UnionRenderers\"},{\"attributes\":{\"data_source\":{\"id\":\"40084\",\"type\":\"ColumnDataSource\"},\"glyph\":{\"id\":\"40085\",\"type\":\"Quad\"},\"hover_glyph\":null,\"muted_glyph\":null,\"nonselection_glyph\":{\"id\":\"40086\",\"type\":\"Quad\"},\"selection_glyph\":null,\"view\":{\"id\":\"40088\",\"type\":\"CDSView\"}},\"id\":\"40087\",\"type\":\"GlyphRenderer\"},{\"attributes\":{\"bottom\":{\"value\":0},\"fill_alpha\":{\"value\":0.05},\"fill_color\":{\"value\":\"#CB4777\"},\"left\":{\"field\":\"left\"},\"line_alpha\":{\"value\":0.05},\"line_color\":{\"value\":\"#7E03A7\"},\"right\":{\"field\":\"right\"},\"top\":{\"field\":\"top\"}},\"id\":\"39800\",\"type\":\"Quad\"},{\"attributes\":{\"callback\":null,\"data\":{\"left\":{\"__ndarray__\":\"AAAAAAAAAAD2wylznuavP/bDKXOe5r8/+FJf1vbsxz/2wylznubPP3oa+gcj8NM/+FJf1vbs1z93i8SkyunbP/bDKXOe5t8/On7HILnx4T96GvoHI/DjP7m2LO+M7uU/+FJf1vbs5z8475G9YOvpP3eLxKTK6es/tyf3izTo7T/2wylznubvPxswLi2E8vA/On7HILnx8T9azGAU7vDyP3oa+gcj8PM/mWiT+1fv9D+5tizvjO71P9kExuLB7fY/+FJf1vbs9z8YofjJK+z4Pzjvkb1g6/k/WD0rsZXq+j93i8Skyun7P5fZXZj/6Pw/tyf3izTo/T/WdZB/aef+P/bDKXOe5v8/C4lhs+lyAEAbMC4thPIAQCvX+qYecgFAOn7HILnxAUBKJZSaU3ECQFrMYBTu8AJAanMtjohwA0B6GvoHI/ADQIrBxoG9bwRAmWiT+1fvBECpD2B18m4FQLm2LO+M7gVAyV35aCduBkDZBMbiwe0GQOmrklxcbQdA+FJf1vbsB0AI+itQkWwIQA==\",\"dtype\":\"float64\",\"shape\":[50]},\"right\":{\"__ndarray__\":\"9sMpc57mrz/2wylznua/P/hSX9b27Mc/9sMpc57mzz96GvoHI/DTP/hSX9b27Nc/d4vEpMrp2z/2wylznubfPzp+xyC58eE/ehr6ByPw4z+5tizvjO7lP/hSX9b27Oc/OO+RvWDr6T93i8SkyunrP7cn94s06O0/9sMpc57m7z8bMC4thPLwPzp+xyC58fE/WsxgFO7w8j96GvoHI/DzP5lok/tX7/Q/ubYs74zu9T/ZBMbiwe32P/hSX9b27Pc/GKH4ySvs+D8475G9YOv5P1g9K7GV6vo/d4vEpMrp+z+X2V2Y/+j8P7cn94s06P0/1nWQf2nn/j/2wylznub/PwuJYbPpcgBAGzAuLYTyAEAr1/qmHnIBQDp+xyC58QFASiWUmlNxAkBazGAU7vACQGpzLY6IcANAehr6ByPwA0CKwcaBvW8EQJlok/tX7wRAqQ9gdfJuBUC5tizvjO4FQMld+WgnbgZA2QTG4sHtBkDpq5JcXG0HQPhSX9b27AdACPorUJFsCEAYofjJK+wIQA==\",\"dtype\":\"float64\",\"shape\":[50]},\"top\":{\"__ndarray__\":\"9zsad+/2AEAuZVo2mjf9PwAAAAAAAABAfoafR6K3/T+AIdgr+y77P5CfIyrLRvk/9jC80a8i+j+AYOawWhf5P/6nd3Od5vg/HyMMLo8n9z/P8OMXu6P2P3/1k+VJovc/fslPn5gV9D9PErxDttLxPz/MeAsLC+s//jbv+Bzm7D//eZ9QE0TTP5d9SzXrr/M/6mNrcftl9z8XXHMJ8ID4P/6nd3Od5ug/AAAAAAAAAAAAAAAAAAAAAAAAAAAAAAAAAAAAAAAAAAD/eZ9QE0TTPwAAAAAAAAAAAAAAAAAA8P8AAAAAAAAAAAAAAAAAAPD/AAAAAAAA8P8AAAAAAADw/wAAAAAAAPD/AAAAAAAA8P8AAAAAAADw/wAAAAAAAPD/AAAAAAAA8P8AAAAAAADw/wAAAAAAAPD/AAAAAAAA8P8AAAAAAADw/wAAAAAAAPD/AAAAAAAA8P8AAAAAAADw/wAAAAAAAPD/AAAAAAAA8P8AAAAAAADw/wAAAAAAAPD/AAAAAAAA8P8AAAAAAAAAAA==\",\"dtype\":\"float64\",\"shape\":[50]}},\"selected\":{\"id\":\"42857\",\"type\":\"Selection\"},\"selection_policy\":{\"id\":\"42858\",\"type\":\"UnionRenderers\"}},\"id\":\"39944\",\"type\":\"ColumnDataSource\"},{\"attributes\":{\"source\":{\"id\":\"40119\",\"type\":\"ColumnDataSource\"}},\"id\":\"40123\",\"type\":\"CDSView\"},{\"attributes\":{\"bottom\":{\"value\":0},\"fill_alpha\":{\"value\":0.1},\"fill_color\":{\"value\":\"#1f77b4\"},\"left\":{\"field\":\"left\"},\"line_alpha\":{\"value\":0.1},\"line_color\":{\"value\":\"#1f77b4\"},\"right\":{\"field\":\"right\"},\"top\":{\"field\":\"top\"}},\"id\":\"40231\",\"type\":\"Quad\"},{\"attributes\":{},\"id\":\"42839\",\"type\":\"Selection\"},{\"attributes\":{\"data_source\":{\"id\":\"40229\",\"type\":\"ColumnDataSource\"},\"glyph\":{\"id\":\"40230\",\"type\":\"Quad\"},\"hover_glyph\":null,\"muted_glyph\":null,\"nonselection_glyph\":{\"id\":\"40231\",\"type\":\"Quad\"},\"selection_glyph\":null,\"view\":{\"id\":\"40233\",\"type\":\"CDSView\"}},\"id\":\"40232\",\"type\":\"GlyphRenderer\"},{\"attributes\":{\"bottom\":{\"value\":0},\"fill_alpha\":{\"value\":0.1},\"fill_color\":{\"value\":\"#1f77b4\"},\"left\":{\"field\":\"left\"},\"line_alpha\":{\"value\":0.1},\"line_color\":{\"value\":\"#1f77b4\"},\"right\":{\"field\":\"right\"},\"top\":{\"field\":\"top\"}},\"id\":\"39801\",\"type\":\"Quad\"},{\"attributes\":{\"bottom\":{\"value\":0},\"fill_alpha\":{\"value\":0.05},\"fill_color\":{\"value\":\"#CB4777\"},\"left\":{\"field\":\"left\"},\"line_alpha\":{\"value\":0.05},\"line_color\":{\"value\":\"#7E03A7\"},\"right\":{\"field\":\"right\"},\"top\":{\"field\":\"top\"}},\"id\":\"39945\",\"type\":\"Quad\"},{\"attributes\":{\"source\":{\"id\":\"40084\",\"type\":\"ColumnDataSource\"}},\"id\":\"40088\",\"type\":\"CDSView\"},{\"attributes\":{\"callback\":null,\"data\":{\"left\":{\"__ndarray__\":\"Y1p1ACvGJj/nQn/daHqmPzoI/8cFb7Y/gTefkGvQwD/k6j49VGnGP0ee3uk8Asw/1Sg/y5LN0D+GAo8hB5rTPzjc3nd7ZtY/6rUuzu8y2T+bj34kZP/bP01pznrYy94/gCGPaCbM4D9ZDreTYDLiPzH73r6amOM/CugG6tT+5D/j1C4VD2XmP7zBVkBJy+c/la5+a4Mx6T9tm6aWvZfqP0aIzsH3/es/H3X27DFk7T/4YR4YbMruP2gnoyFTGPA/1R03N3DL8D9BFMtMjX7xP64KX2KqMfI/GgHzd8fk8j+G94aN5JfzP/PtGqMBS/Q/X+SuuB7+9D/M2kLOO7H1PzjR1uNYZPY/pMdq+XUX9z8Rvv4Ok8r3P320kiSwffg/6qomOs0w+T9WobpP6uP5P8KXTmUHl/o/L47ieiRK+z+bhHaQQf37Pwh7CqZesPw/dHGeu3tj/T/gZzLRmBb+P01exua1yf4/uVRa/NJ8/z+SJfcI+BcAQMkgwZOGcQBA/xuLHhXLAEA1F1WpoyQBQA==\",\"dtype\":\"float64\",\"shape\":[50]},\"right\":{\"__ndarray__\":\"50J/3Wh6pj86CP/HBW+2P4E3n5Br0MA/5Oo+PVRpxj9Hnt7pPALMP9UoP8uSzdA/hgKPIQea0z843N53e2bWP+q1Ls7vMtk/m49+JGT/2z9Nac562MveP4Ahj2gmzOA/WQ63k2Ay4j8x+96+mpjjPwroBurU/uQ/49QuFQ9l5j+8wVZAScvnP5WufmuDMek/bZumlr2X6j9GiM7B9/3rPx919uwxZO0/+GEeGGzK7j9oJ6MhUxjwP9UdNzdwy/A/QRTLTI1+8T+uCl9iqjHyPxoB83fH5PI/hveGjeSX8z/z7RqjAUv0P1/krrge/vQ/zNpCzjux9T840dbjWGT2P6THavl1F/c/Eb7+DpPK9z99tJIksH34P+qqJjrNMPk/VqG6T+rj+T/Cl05lB5f6Py+O4nokSvs/m4R2kEH9+z8IewqmXrD8P3Rxnrt7Y/0/4Gcy0ZgW/j9NXsbmtcn+P7lUWvzSfP8/kiX3CPgXAEDJIMGThnEAQP8bix4VywBANRdVqaMkAUBrEh80Mn4BQA==\",\"dtype\":\"float64\",\"shape\":[50]},\"top\":{\"__ndarray__\":\"v+Yr7XgeAUBugqAIlUv6Px5R5FAZyvw/nrr4runA+j+OKw3mEC/+PwC9T6gJovk/AUOwV/Zd9j/uo3g0kHr1P4DeJ9QE0fQ/n0TkWYpW8j/+Nu/4HObsP/3VT5Ynie4/AAAAAAAA8D8BQ7BX9l3mP/95n1ATRNM//3mfUBNE0z/91U+WJ4neP/3VT5Ynie4//dVPlieJ7j//eZ9QE0TjPwFDsFf2XeY//dVPlieJ3j//eZ9QE0TTPwFDsFf2XeY//3mfUBNE4z8AAAAAAADw/wAAAAAAAPD//3mfUBNE4z//eZ9QE0TTPwAAAAAAAPD/AAAAAAAA8P8AAAAAAADw/wAAAAAAAPD/AAAAAAAAAAD/eZ9QE0TTP/3VT5Ynid4/AAAAAAAA8P8AAAAAAAAAAAAAAAAAAAAAAAAAAAAA8P8AAAAAAAAAAAAAAAAAAAAAAAAAAAAAAAAAAAAAAADw//95n1ATRNM/AAAAAAAA8P8AAAAAAADw/wAAAAAAAPD/AAAAAAAA8P8AAAAAAAAAAA==\",\"dtype\":\"float64\",\"shape\":[50]}},\"selected\":{\"id\":\"42929\",\"type\":\"Selection\"},\"selection_policy\":{\"id\":\"42930\",\"type\":\"UnionRenderers\"}},\"id\":\"40124\",\"type\":\"ColumnDataSource\"},{\"attributes\":{},\"id\":\"42840\",\"type\":\"UnionRenderers\"},{\"attributes\":{\"data_source\":{\"id\":\"39799\",\"type\":\"ColumnDataSource\"},\"glyph\":{\"id\":\"39800\",\"type\":\"Quad\"},\"hover_glyph\":null,\"muted_glyph\":null,\"nonselection_glyph\":{\"id\":\"39801\",\"type\":\"Quad\"},\"selection_glyph\":null,\"view\":{\"id\":\"39803\",\"type\":\"CDSView\"}},\"id\":\"39802\",\"type\":\"GlyphRenderer\"},{\"attributes\":{\"bottom\":{\"value\":0},\"fill_alpha\":{\"value\":0.1},\"fill_color\":{\"value\":\"#1f77b4\"},\"left\":{\"field\":\"left\"},\"line_alpha\":{\"value\":0.1},\"line_color\":{\"value\":\"#1f77b4\"},\"right\":{\"field\":\"right\"},\"top\":{\"field\":\"top\"}},\"id\":\"39946\",\"type\":\"Quad\"},{\"attributes\":{\"callback\":null,\"data\":{\"left\":{\"__ndarray__\":\"SjZ/wI2TbD+6uPr4yui0P+G7+MF8dsQ/ZRt0B5R4zj91vXemVT3UPzdtNUlhPtk/+Rzz62w/3j9dZlhHPKDhPz4+txjCIOQ/HxYW6keh5j8A7nS7zSHpP+HF04xTous/wp0yXtki7j/RusiXr1HwP8ImeIDykfE/s5InaTXS8j+j/tZReBL0P5Nqhjq7UvU/hNY1I/6S9j91QuULQdP3P2WulPSDE/k/VRpE3cZT+j9GhvPFCZT7Pzfyoq5M1Pw/J15Sl48U/j8XygGA0lT/PwSbWLSKSgBA/VCwKKzqAED1BgidzYoBQO28XxHvKgJA5nK3hRDLAkDeKA/6MWsDQNbeZm5TCwRAzpS+4nSrBEDGShZXlksFQL8Absu36wVAt7bFP9mLBkCvbB20+isHQKgidSgczAdAoNjMnD1sCECYjiQRXwwJQJBEfIWArAlAiPrT+aFMCkCBsCtuw+wKQHlmg+LkjAtAcRzbVgYtDEBq0jLLJ80MQGKIij9JbQ1AWj7is2oNDkBS9DkojK0OQA==\",\"dtype\":\"float64\",\"shape\":[50]},\"right\":{\"__ndarray__\":\"urj6+MrotD/hu/jBfHbEP2UbdAeUeM4/db13plU91D83bTVJYT7ZP/kc8+tsP94/XWZYRzyg4T8+PrcYwiDkPx8WFupHoeY/AO50u80h6T/hxdOMU6LrP8KdMl7ZIu4/0brIl69R8D/CJniA8pHxP7OSJ2k10vI/o/7WUXgS9D+TaoY6u1L1P4TWNSP+kvY/dULlC0HT9z9lrpT0gxP5P1UaRN3GU/o/RobzxQmU+z838qKuTNT8PydeUpePFP4/F8oBgNJU/z8Em1i0ikoAQP1QsCis6gBA9QYInc2KAUDtvF8R7yoCQOZyt4UQywJA3igP+jFrA0DW3mZuUwsEQM6UvuJ0qwRAxkoWV5ZLBUC/AG7Lt+sFQLe2xT/ZiwZAr2wdtPorB0CoInUoHMwHQKDYzJw9bAhAmI4kEV8MCUCQRHyFgKwJQIj60/mhTApAgbArbsPsCkB5ZoPi5IwLQHEc21YGLQxAatIyyyfNDEBiiIo/SW0NQFo+4rNqDQ5AUvQ5KIytDkBKqpGcrU0PQA==\",\"dtype\":\"float64\",\"shape\":[50]},\"top\":{\"__ndarray__\":\"fm8zNl3m+j/2MLzRryL6P3+268isa/8/Hzp4P9T4+T9+bzM2Xeb6P//Tu7lOc/w/f/WT5Umi9z8/zHgLCwv7PxDB+1XGdfQ/n0TkWYpW8j+A3ifUBNH0PwAXbBFF0fI/fuC7sN3m9j9/9ZPlSaL3P37JT5+YFfQ/f/mbIKPJ9T9EelNLopb7P/3VT5Ynie4//qd3c53m6D+XfUs166/zP/95n1ATRNM//3mfUBNE0z8AAAAAAAAAAAAAAAAAAPD/AUOwV/Zd5j8AAAAAAAAAAAAAAAAAAPD/AAAAAAAAAAD91U+WJ4neP/95n1ATRNM/AAAAAAAA8P//eZ9QE0TTPwAAAAAAAAAAAAAAAAAA8P8AAAAAAADw/wAAAAAAAAAAAAAAAAAA8P8AAAAAAADw/wAAAAAAAPD/AAAAAAAA8P8AAAAAAADw/wAAAAAAAPD/AAAAAAAA8P8AAAAAAADw/wAAAAAAAPD/AAAAAAAA8P8AAAAAAADw/wAAAAAAAPD/AAAAAAAA8P//eZ9QE0TjPw==\",\"dtype\":\"float64\",\"shape\":[50]}},\"selected\":{\"id\":\"42915\",\"type\":\"Selection\"},\"selection_policy\":{\"id\":\"42916\",\"type\":\"UnionRenderers\"}},\"id\":\"40089\",\"type\":\"ColumnDataSource\"},{\"attributes\":{\"bottom\":{\"value\":0},\"fill_alpha\":{\"value\":0.05},\"fill_color\":{\"value\":\"#CB4777\"},\"left\":{\"field\":\"left\"},\"line_alpha\":{\"value\":0.05},\"line_color\":{\"value\":\"#7E03A7\"},\"right\":{\"field\":\"right\"},\"top\":{\"field\":\"top\"}},\"id\":\"40125\",\"type\":\"Quad\"},{\"attributes\":{\"source\":{\"id\":\"40229\",\"type\":\"ColumnDataSource\"}},\"id\":\"40233\",\"type\":\"CDSView\"},{\"attributes\":{},\"id\":\"42841\",\"type\":\"Selection\"},{\"attributes\":{\"data_source\":{\"id\":\"39944\",\"type\":\"ColumnDataSource\"},\"glyph\":{\"id\":\"39945\",\"type\":\"Quad\"},\"hover_glyph\":null,\"muted_glyph\":null,\"nonselection_glyph\":{\"id\":\"39946\",\"type\":\"Quad\"},\"selection_glyph\":null,\"view\":{\"id\":\"39948\",\"type\":\"CDSView\"}},\"id\":\"39947\",\"type\":\"GlyphRenderer\"},{\"attributes\":{\"source\":{\"id\":\"39799\",\"type\":\"ColumnDataSource\"}},\"id\":\"39803\",\"type\":\"CDSView\"},{\"attributes\":{\"bottom\":{\"value\":0},\"fill_alpha\":{\"value\":0.05},\"fill_color\":{\"value\":\"#CB4777\"},\"left\":{\"field\":\"left\"},\"line_alpha\":{\"value\":0.05},\"line_color\":{\"value\":\"#7E03A7\"},\"right\":{\"field\":\"right\"},\"top\":{\"field\":\"top\"}},\"id\":\"40090\",\"type\":\"Quad\"},{\"attributes\":{\"bottom\":{\"value\":0},\"fill_alpha\":{\"value\":0.1},\"fill_color\":{\"value\":\"#1f77b4\"},\"left\":{\"field\":\"left\"},\"line_alpha\":{\"value\":0.1},\"line_color\":{\"value\":\"#1f77b4\"},\"right\":{\"field\":\"right\"},\"top\":{\"field\":\"top\"}},\"id\":\"40126\",\"type\":\"Quad\"},{\"attributes\":{},\"id\":\"42769\",\"type\":\"BasicTickFormatter\"},{\"attributes\":{},\"id\":\"42842\",\"type\":\"UnionRenderers\"},{\"attributes\":{\"data_source\":{\"id\":\"40124\",\"type\":\"ColumnDataSource\"},\"glyph\":{\"id\":\"40125\",\"type\":\"Quad\"},\"hover_glyph\":null,\"muted_glyph\":null,\"nonselection_glyph\":{\"id\":\"40126\",\"type\":\"Quad\"},\"selection_glyph\":null,\"view\":{\"id\":\"40128\",\"type\":\"CDSView\"}},\"id\":\"40127\",\"type\":\"GlyphRenderer\"},{\"attributes\":{\"callback\":null,\"data\":{\"left\":{\"__ndarray__\":\"M8iLZWAWQT9wbFwkDoipP99UkWPhZbk/wzl62t0Dwz8XySsDy1TJP2tY3Su4pc8/33NHqlL70j+JO6A+ySPWPzMD+dI/TNk/3cpRZ7Z03D+Hkqr7LJ3fPxitAcjRYuE/7RAuEg334j/CdFpcSIvkP5fYhqaDH+Y/bDyz8L6z5z9BoN86+kfpPxYEDIU13Oo/62c4z3Bw7D/Ay2QZrATuP5UvkWPnmO8/tcneVpGW8D+f+/T7rmDxP4otC6HMKvI/dF8hRur08j9fkTfrB7/zP0nDTZAlifQ/NPVjNUNT9T8eJ3raYB32PwlZkH9+5/Y/84qmJJyx9z/evLzJuXv4P8ju0m7XRfk/siDpE/UP+j+dUv+4Etr6P4eEFV4wpPs/crYrA05u/D9c6EGoazj9P0caWE2JAv4/MUxu8qbM/j8cfoSXxJb/PwRYTR5xMABA+XDY8H+VAEDuiWPDjvoAQOOi7pWdXwFA2bt5aKzEAUDO1AQ7uykCQMPtjw3KjgJAuAYb4NjzAkCtH6ay51gDQA==\",\"dtype\":\"float64\",\"shape\":[50]},\"right\":{\"__ndarray__\":\"cGxcJA6IqT/fVJFj4WW5P8M5etrdA8M/F8krA8tUyT9rWN0ruKXPP99zR6pS+9I/iTugPskj1j8zA/nSP0zZP93KUWe2dNw/h5Kq+yyd3z8YrQHI0WLhP+0QLhIN9+I/wnRaXEiL5D+X2Iamgx/mP2w8s/C+s+c/QaDfOvpH6T8WBAyFNdzqP+tnOM9wcOw/wMtkGawE7j+VL5Fj55jvP7XJ3laRlvA/n/v0+65g8T+KLQuhzCryP3RfIUbq9PI/X5E36we/8z9Jw02QJYn0PzT1YzVDU/U/Hid62mAd9j8JWZB/fuf2P/OKpiScsfc/3ry8ybl7+D/I7tJu10X5P7Ig6RP1D/o/nVL/uBLa+j+HhBVeMKT7P3K2KwNObvw/XOhBqGs4/T9HGlhNiQL+PzFMbvKmzP4/HH6El8SW/z8EWE0ecTAAQPlw2PB/lQBA7oljw476AEDjou6VnV8BQNm7eWisxAFAztQEO7spAkDD7Y8Nyo4CQLgGG+DY8wJArR+msudYA0CjODGF9r0DQA==\",\"dtype\":\"float64\",\"shape\":[50]},\"top\":{\"__ndarray__\":\"24/4pNkIAEA2c2po2fsBQJA+lEtlKwBAf7bryKxr/z8/zHgLCwv7P0R6U0uilvs/nrr4runA+j8AvU+oCaL5P37gu7Dd5vY/7qN4NJB69T+A3ifUBNH0PwAXbBFF0fI/7qN4NJB69T/91U+WJ4nuPxDB+1XGdfQ/AAAAAAAA8D9/suONU0TxP27FUGCLqfA/P8x4CwsL6z9uxVBgi6nwPz/MeAsLC+s/bsVQYIup8D/+Nu/4HObsP/95n1ATRNM/P8x4CwsL6z8/zHgLCwvrP/95n1ATRNM/P8x4CwsL6z/+p3dzneboPwAXbBFF0fI/fslPn5gV9D8BQ7BX9l3mP/3VT5Ynid4/AUOwV/Zd5j/+Nu/4HObsP/3VT5Ynid4/AAAAAAAAAAD/eZ9QE0TjP/95n1ATRNM//dVPlieJ3j//eZ9QE0TTPwAAAAAAAAAAAAAAAAAAAAAAAAAAAADw/wAAAAAAAPD/AAAAAAAA8P8AAAAAAAAAAAAAAAAAAAAAAAAAAAAA8P8AAAAAAAAAAA==\",\"dtype\":\"float64\",\"shape\":[50]}},\"selected\":{\"id\":\"42801\",\"type\":\"Selection\"},\"selection_policy\":{\"id\":\"42802\",\"type\":\"UnionRenderers\"}},\"id\":\"39804\",\"type\":\"ColumnDataSource\"},{\"attributes\":{\"source\":{\"id\":\"39944\",\"type\":\"ColumnDataSource\"}},\"id\":\"39948\",\"type\":\"CDSView\"},{\"attributes\":{\"bottom\":{\"value\":0},\"fill_alpha\":{\"value\":0.1},\"fill_color\":{\"value\":\"#1f77b4\"},\"left\":{\"field\":\"left\"},\"line_alpha\":{\"value\":0.1},\"line_color\":{\"value\":\"#1f77b4\"},\"right\":{\"field\":\"right\"},\"top\":{\"field\":\"top\"}},\"id\":\"40091\",\"type\":\"Quad\"},{\"attributes\":{},\"id\":\"42771\",\"type\":\"Selection\"},{\"attributes\":{},\"id\":\"42843\",\"type\":\"Selection\"},{\"attributes\":{\"data_source\":{\"id\":\"40089\",\"type\":\"ColumnDataSource\"},\"glyph\":{\"id\":\"40090\",\"type\":\"Quad\"},\"hover_glyph\":null,\"muted_glyph\":null,\"nonselection_glyph\":{\"id\":\"40091\",\"type\":\"Quad\"},\"selection_glyph\":null,\"view\":{\"id\":\"40093\",\"type\":\"CDSView\"}},\"id\":\"40092\",\"type\":\"GlyphRenderer\"},{\"attributes\":{\"bottom\":{\"value\":0},\"fill_alpha\":{\"value\":0.05},\"fill_color\":{\"value\":\"#CB4777\"},\"left\":{\"field\":\"left\"},\"line_alpha\":{\"value\":0.05},\"line_color\":{\"value\":\"#7E03A7\"},\"right\":{\"field\":\"right\"},\"top\":{\"field\":\"top\"}},\"id\":\"39805\",\"type\":\"Quad\"},{\"attributes\":{\"callback\":null,\"data\":{\"left\":{\"__ndarray__\":\"Sd85uJXFFj/LCFgA6henP1P66Zo4Erc/IPjTGj5MwT8X8zLoXw/HPw7ukbWB0sw/gnR4wdFK0T/+8SeoYizUP3lv147zDdc/9OyGdYTv2T9wajZcFdHcP+vn5UKmst8/s7LKlBtK4T9xcSII5LriPy8wenusK+Q/7O7R7nSc5T+qrSliPQ3nP2hsgdUFfug/JSvZSM7u6T/j6TC8ll/rP6GoiC9f0Ow/XmfgoidB7j8cJjgW8LHvP2zyx0RckfA/y9FzfsBJ8T8qsR+4JALyP4mQy/GIuvI/6G93K+1y8z9HTyNlUSv0P6Uuz5614/Q/BA572Bmc9T9j7SYSflT2P8LM0kviDPc/Iax+hUbF9z+Aiyq/qn34P99q1vgONvk/PUqCMnPu+T+cKS5s16b6P/sI2qU7X/s/WuiF358X/D+5xzEZBND8Pxin3VJoiP0/doaJjMxA/j/VZTXGMPn+PzRF4f+Usf8/SpLGnPw0AED5gZy5LpEAQKlxctZg7QBAWGFI85JJAUAIUR4QxaUBQA==\",\"dtype\":\"float64\",\"shape\":[50]},\"right\":{\"__ndarray__\":\"ywhYAOoXpz9T+umaOBK3PyD40xo+TME/F/My6F8Pxz8O7pG1gdLMP4J0eMHRStE//vEnqGIs1D95b9eO8w3XP/TshnWE79k/cGo2XBXR3D/r5+VCprLfP7OyypQbSuE/cXEiCOS64j8vMHp7rCvkP+zu0e50nOU/qq0pYj0N5z9obIHVBX7oPyUr2UjO7uk/4+kwvJZf6z+hqIgvX9DsP15n4KInQe4/HCY4FvCx7z9s8sdEXJHwP8vRc37ASfE/KrEfuCQC8j+JkMvxiLryP+hvdyvtcvM/R08jZVEr9D+lLs+eteP0PwQOe9gZnPU/Y+0mEn5U9j/CzNJL4gz3PyGsfoVGxfc/gIsqv6p9+D/fatb4Djb5Pz1KgjJz7vk/nCkubNem+j/7CNqlO1/7P1rohd+fF/w/uccxGQTQ/D8Yp91SaIj9P3aGiYzMQP4/1WU1xjD5/j80ReH/lLH/P0qSxpz8NABA+YGcuS6RAECpcXLWYO0AQFhhSPOSSQFACFEeEMWlAUC3QPQs9wECQA==\",\"dtype\":\"float64\",\"shape\":[50]},\"top\":{\"__ndarray__\":\"txrkuCJ9BEDP6vdd8TUEQKKb0flVnAJAVy33DfJsAkCnQk7+ak0CQEiuOWlqdAFADOC+kh/IAUAoCd4hW+kAQCwSF2S0bABA9zsad+/2AECAOEQ9QAD+PyBmvIWFhf0/7+YojIbY+z/uYMjcmRz/P1gMAnL2zfk/RHpTS6KW+z+3YiiwxVQAQH7JT5+YFfQ/7qN4NJB69T+fW1Brzyf1PwAXbBFF0fI/P8x4CwsL6z/+Nu/4HObsP/6nd3Od5ug/TxK8Q7bS8T/91U+WJ4neP/3VT5Ynid4//3mfUBNE4z/+p3dzneboPz/MeAsLC+s/AUOwV/Zd5j//eZ9QE0TTP/95n1ATRNM/AAAAAAAAAAAAAAAAAAAAAAAAAAAAAAAAAAAAAAAAAAAAAAAAAAAAAH+y441TRPE/AAAAAAAAAAAAAAAAAAAAAAAAAAAAAAAAAAAAAAAAAAAAAAAAAADw/wAAAAAAAPD//3mfUBNE4z8AAAAAAAAAAAAAAAAAAPD/AAAAAAAAAAAAAAAAAAAAAA==\",\"dtype\":\"float64\",\"shape\":[50]}},\"selected\":{\"id\":\"42859\",\"type\":\"Selection\"},\"selection_policy\":{\"id\":\"42860\",\"type\":\"UnionRenderers\"}},\"id\":\"39949\",\"type\":\"ColumnDataSource\"},{\"attributes\":{\"source\":{\"id\":\"40124\",\"type\":\"ColumnDataSource\"}},\"id\":\"40128\",\"type\":\"CDSView\"},{\"attributes\":{},\"id\":\"42772\",\"type\":\"UnionRenderers\"},{\"attributes\":{},\"id\":\"42844\",\"type\":\"UnionRenderers\"},{\"attributes\":{\"bottom\":{\"value\":0},\"fill_alpha\":{\"value\":0.1},\"fill_color\":{\"value\":\"#1f77b4\"},\"left\":{\"field\":\"left\"},\"line_alpha\":{\"value\":0.1},\"line_color\":{\"value\":\"#1f77b4\"},\"right\":{\"field\":\"right\"},\"top\":{\"field\":\"top\"}},\"id\":\"39806\",\"type\":\"Quad\"},{\"attributes\":{\"bottom\":{\"value\":0},\"fill_alpha\":{\"value\":0.05},\"fill_color\":{\"value\":\"#CB4777\"},\"left\":{\"field\":\"left\"},\"line_alpha\":{\"value\":0.05},\"line_color\":{\"value\":\"#7E03A7\"},\"right\":{\"field\":\"right\"},\"top\":{\"field\":\"top\"}},\"id\":\"39950\",\"type\":\"Quad\"},{\"attributes\":{\"source\":{\"id\":\"40089\",\"type\":\"ColumnDataSource\"}},\"id\":\"40093\",\"type\":\"CDSView\"},{\"attributes\":{\"callback\":null,\"data\":{\"left\":{\"__ndarray__\":\"DF8LJyWDQj8qhJ2OF5WoP2xtT0QRcLg/YQyoYMtKwj8NYigfjl3IP7m3qN1QcM4/soYUzolB0j+IsVQt60rVP17clIxMVNg/NAfV661d2z8KMhVLD2feP3CuKlU4uOA/2sPKBOk84j9F2Wq0mcHjP7DuCmRKRuU/GwSrE/vK5j+GGUvDq0/oP/Eu63Jc1Ok/XESLIg1Z6z/HWSvSvd3sPzJvy4FuYu4/nIRrMR/n7z8EzYXw57XwP7nXVUhAePE/buIloJg68j8k7fX38PzyP9n3xU9Jv/M/jwKWp6GB9D9EDWb/+UP1P/oXNldSBvY/ryIGr6rI9j9lLdYGA4v3Pxo4pl5bTfg/z0J2trMP+T+FTUYODNL5PzpYFmZklPo/8GLmvbxW+z+lbbYVFRn8P1t4hm1t2/w/EINWxcWd/T/GjSYdHmD+P3uY9nR2Iv8/MKPGzM7k/z/zVkuSk1MAQE5cM76/tABAqGEb6usVAUADZwMWGHcBQF5s60FE2AFAuHHTbXA5AkATd7uZnJoCQA==\",\"dtype\":\"float64\",\"shape\":[50]},\"right\":{\"__ndarray__\":\"KoSdjheVqD9sbU9EEXC4P2EMqGDLSsI/DWIoH45dyD+5t6jdUHDOP7KGFM6JQdI/iLFULetK1T9e3JSMTFTYPzQH1eutXds/CjIVSw9n3j9wripVOLjgP9rDygTpPOI/RdlqtJnB4z+w7gpkSkblPxsEqxP7yuY/hhlLw6tP6D/xLutyXNTpP1xEiyINWes/x1kr0r3d7D8yb8uBbmLuP5yEazEf5+8/BM2F8Oe18D+511VIQHjxP27iJaCYOvI/JO319/D88j/Z98VPSb/zP48ClqehgfQ/RA1m//lD9T/6FzZXUgb2P68iBq+qyPY/ZS3WBgOL9z8aOKZeW034P89CdrazD/k/hU1GDgzS+T86WBZmZJT6P/Bi5r28Vvs/pW22FRUZ/D9beIZtbdv8PxCDVsXFnf0/xo0mHR5g/j97mPZ0diL/PzCjxszO5P8/81ZLkpNTAEBOXDO+v7QAQKhhG+rrFQFAA2cDFhh3AUBebOtBRNgBQLhx021wOQJAE3e7mZyaAkBufKPFyPsCQA==\",\"dtype\":\"float64\",\"shape\":[50]},\"top\":{\"__ndarray__\":\"dkfQ/5FfAkD69gW9XOIBQL/kp0/MCgJAZ+LP6ISLAUBlXez5537/P9jqKUb7nv4/ZLShoSvQ/T/n1hlg4iIAQJc6m930Uf0/gCHYK/su+z/OB1ApAHX5P4Bg5rBaF/k/5mdYFJ7c9z/qY2tx+2X3P59E5FmKVvI/7qN4NJB69T+XfUs166/zPwAAAAAAAPA//dVPlieJ7j8AAAAAAADwP37JT5+YFfQ/HyMMLo8n9z8AF2wRRdHyP/95n1ATRPM//jbv+Bzm7D8AAAAAAADwP59E5FmKVvI/fslPn5gV9D8AF2wRRdHyP/95n1ATROM//dVPlieJ7j//eZ9QE0TTPwFDsFf2XeY/AUOwV/Zd5j//eZ9QE0TjPwAAAAAAAAAA/3mfUBNE0z8AAAAAAAAAAP95n1ATROM//3mfUBNE4z//eZ9QE0TTPwAAAAAAAAAA/dVPlieJ3j8AAAAAAADw/wAAAAAAAPD/AAAAAAAAAAAAAAAAAAAAAAAAAAAAAPD//3mfUBNE0z//eZ9QE0TTPw==\",\"dtype\":\"float64\",\"shape\":[50]}},\"selected\":{\"id\":\"42931\",\"type\":\"Selection\"},\"selection_policy\":{\"id\":\"42932\",\"type\":\"UnionRenderers\"}},\"id\":\"40129\",\"type\":\"ColumnDataSource\"},{\"attributes\":{},\"id\":\"42773\",\"type\":\"Selection\"},{\"attributes\":{},\"id\":\"42845\",\"type\":\"Selection\"},{\"attributes\":{\"data_source\":{\"id\":\"39804\",\"type\":\"ColumnDataSource\"},\"glyph\":{\"id\":\"39805\",\"type\":\"Quad\"},\"hover_glyph\":null,\"muted_glyph\":null,\"nonselection_glyph\":{\"id\":\"39806\",\"type\":\"Quad\"},\"selection_glyph\":null,\"view\":{\"id\":\"39808\",\"type\":\"CDSView\"}},\"id\":\"39807\",\"type\":\"GlyphRenderer\"},{\"attributes\":{\"bottom\":{\"value\":0},\"fill_alpha\":{\"value\":0.1},\"fill_color\":{\"value\":\"#1f77b4\"},\"left\":{\"field\":\"left\"},\"line_alpha\":{\"value\":0.1},\"line_color\":{\"value\":\"#1f77b4\"},\"right\":{\"field\":\"right\"},\"top\":{\"field\":\"top\"}},\"id\":\"39951\",\"type\":\"Quad\"},{\"attributes\":{\"callback\":null,\"data\":{\"left\":{\"__ndarray__\":\"g19SQvPvQz8L/bQrFOWvP0xYMEU0vb8/ChlDOu/Dxz/tBe5RRKnPP2h5zLRMx9M/2u+hQPe51z9LZnfMoazbP73cTFhMn98/lykRcvvI4T/Q5Pu3UMLjPwmg5v2lu+U/QlvRQ/u05z97FryJUK7pP7PRps+lp+s/7IyRFfug7T8lSHxbUJrvP6+Bs9DSyfA/S9+oc33G8T/oPJ4WKMPyP4Sak7nSv/M/IfiIXH289D+9VX7/J7n1P1mzc6LStfY/9hBpRX2y9z+Sbl7oJ6/4Py/MU4vSq/k/yylJLn2o+j9nhz7RJ6X7PwTlM3TSofw/oEIpF32e/T89oB66J5v+P9n9E13Sl/8/u60EgD5KAECJXH/Rk8gAQFcL+iLpRgFAJbp0dD7FAUD0aO/Fk0MCQMIXahfpwQJAkMbkaD5AA0BedV+6k74DQCwk2gvpPARA+9JUXT67BEDJgc+ukzkFQJcwSgDptwVAZd/EUT42BkAzjj+jk7QGQAI9uvToMgdA0Os0Rj6xB0Cemq+Xky8IQA==\",\"dtype\":\"float64\",\"shape\":[50]},\"right\":{\"__ndarray__\":\"C/20KxTlrz9MWDBFNL2/PwoZQzrvw8c/7QXuUUSpzz9oecy0TMfTP9rvoUD3udc/S2Z3zKGs2z+93ExYTJ/fP5cpEXL7yOE/0OT7t1DC4z8JoOb9pbvlP0Jb0UP7tOc/exa8iVCu6T+z0abPpafrP+yMkRX7oO0/JUh8W1Ca7z+vgbPQ0snwP0vfqHN9xvE/6DyeFijD8j+EmpO50r/zPyH4iFx9vPQ/vVV+/ye59T9Zs3Oi0rX2P/YQaUV9svc/km5e6Cev+D8vzFOL0qv5P8spSS59qPo/Z4c+0Sel+z8E5TN00qH8P6BCKRd9nv0/PaAeuieb/j/Z/RNd0pf/P7utBIA+SgBAiVx/0ZPIAEBXC/oi6UYBQCW6dHQ+xQFA9GjvxZNDAkDCF2oX6cECQJDG5Gg+QANAXnVfupO+A0AsJNoL6TwEQPvSVF0+uwRAyYHPrpM5BUCXMEoA6bcFQGXfxFE+NgZAM44/o5O0BkACPbr06DIHQNDrNEY+sQdAnpqvl5MvCEBsSSrp6K0IQA==\",\"dtype\":\"float64\",\"shape\":[50]},\"top\":{\"__ndarray__\":\"keLTgcGk/z+Qto87EBj8P/7uLwbta/0/f/WT5Umi9z/P8OMXu6P2P//Xw/Snmvo/nwE0ApT4+z9YDAJy9s35P38MAPeOc/o//qd3c53m+D9+yU+fmBX0P59E5FmKVvI/bsVQYIup8D/91U+WJ4nuP08SvEO20vE/TxK8Q7bS8T9uxVBgi6nwPwFDsFf2XeY/AUOwV/Zd5j/+Nu/4HObsP/6nd3Od5ug/P8x4CwsL6z//eZ9QE0TjP/95n1ATROM/P8x4CwsL6z8BQ7BX9l3mPwFDsFf2XeY//dVPlieJ3j/+p3dzneboP/3VT5Ynie4//dVPlieJ3j//eZ9QE0TjPwFDsFf2XeY//dVPlieJ3j//eZ9QE0TjPwAAAAAAAPD/AAAAAAAA8P//eZ9QE0TTPwAAAAAAAAAAAAAAAAAAAAD91U+WJ4nePwAAAAAAAPD/AAAAAAAA8P8AAAAAAAAAAAAAAAAAAPD/AAAAAAAAAAAAAAAAAAAAAAAAAAAAAPD/AAAAAAAA8P8AAAAAAAAAAA==\",\"dtype\":\"float64\",\"shape\":[50]}},\"selected\":{\"id\":\"42917\",\"type\":\"Selection\"},\"selection_policy\":{\"id\":\"42918\",\"type\":\"UnionRenderers\"}},\"id\":\"40094\",\"type\":\"ColumnDataSource\"},{\"attributes\":{\"bottom\":{\"value\":0},\"fill_alpha\":{\"value\":0.05},\"fill_color\":{\"value\":\"#CB4777\"},\"left\":{\"field\":\"left\"},\"line_alpha\":{\"value\":0.05},\"line_color\":{\"value\":\"#7E03A7\"},\"right\":{\"field\":\"right\"},\"top\":{\"field\":\"top\"}},\"id\":\"40130\",\"type\":\"Quad\"},{\"attributes\":{},\"id\":\"42774\",\"type\":\"UnionRenderers\"},{\"attributes\":{},\"id\":\"42846\",\"type\":\"UnionRenderers\"},{\"attributes\":{\"data_source\":{\"id\":\"39949\",\"type\":\"ColumnDataSource\"},\"glyph\":{\"id\":\"39950\",\"type\":\"Quad\"},\"hover_glyph\":null,\"muted_glyph\":null,\"nonselection_glyph\":{\"id\":\"39951\",\"type\":\"Quad\"},\"selection_glyph\":null,\"view\":{\"id\":\"39953\",\"type\":\"CDSView\"}},\"id\":\"39952\",\"type\":\"GlyphRenderer\"},{\"attributes\":{\"source\":{\"id\":\"39804\",\"type\":\"ColumnDataSource\"}},\"id\":\"39808\",\"type\":\"CDSView\"},{\"attributes\":{\"bottom\":{\"value\":0},\"fill_alpha\":{\"value\":0.05},\"fill_color\":{\"value\":\"#CB4777\"},\"left\":{\"field\":\"left\"},\"line_alpha\":{\"value\":0.05},\"line_color\":{\"value\":\"#7E03A7\"},\"right\":{\"field\":\"right\"},\"top\":{\"field\":\"top\"}},\"id\":\"40095\",\"type\":\"Quad\"},{\"attributes\":{\"bottom\":{\"value\":0},\"fill_alpha\":{\"value\":0.1},\"fill_color\":{\"value\":\"#1f77b4\"},\"left\":{\"field\":\"left\"},\"line_alpha\":{\"value\":0.1},\"line_color\":{\"value\":\"#1f77b4\"},\"right\":{\"field\":\"right\"},\"top\":{\"field\":\"top\"}},\"id\":\"40131\",\"type\":\"Quad\"},{\"attributes\":{},\"id\":\"42775\",\"type\":\"Selection\"},{\"attributes\":{},\"id\":\"42847\",\"type\":\"Selection\"},{\"attributes\":{\"data_source\":{\"id\":\"40129\",\"type\":\"ColumnDataSource\"},\"glyph\":{\"id\":\"40130\",\"type\":\"Quad\"},\"hover_glyph\":null,\"muted_glyph\":null,\"nonselection_glyph\":{\"id\":\"40131\",\"type\":\"Quad\"},\"selection_glyph\":null,\"view\":{\"id\":\"40133\",\"type\":\"CDSView\"}},\"id\":\"40132\",\"type\":\"GlyphRenderer\"},{\"attributes\":{\"callback\":null,\"data\":{\"left\":{\"__ndarray__\":\"ToVMx8I7XT8XBEF1AGuoPwLSI2oR9rc//ZDTTFHbwT/4OJXkmbvHP/PgVnzim80/d0QMihW+0T90GO3VOa7UP3LszSFentc/cMCubYKO2j9tlI+5pn7dPzY0uIJlN+A/NZ6oqHev4T80CJnOiSfjPzJyifSbn+Q/Mdx5Gq4X5j8wRmpAwI/nPy+wWmbSB+k/LhpLjOR/6j8shDuy9vfrPyvuK9gIcO0/Klgc/hro7j8UYQaSFjDwPxOW/qQf7PA/E8v2tyio8T8SAO/KMWTyPxI15906IPM/EWrf8EPc8z8Qn9cDTZj0PxDUzxZWVPU/DwnIKV8Q9j8PPsA8aMz2Pw5zuE9xiPc/DaiwYnpE+D8N3ah1gwD5PwwSoYiMvPk/DEeZm5V4+j8LfJGunjT7PwqxicGn8Ps/CuaB1LCs/D8JG3rnuWj9PwlQcvrCJP4/CIVqDczg/j8HumIg1Zz/P4R3rRlvLABABJIpo3OKAECDrKUseOgAQAPHIbZ8RgFAg+GdP4GkAUAC/BnJhQICQA==\",\"dtype\":\"float64\",\"shape\":[50]},\"right\":{\"__ndarray__\":\"FwRBdQBrqD8C0iNqEfa3P/2Q00xR28E/+DiV5Jm7xz/z4FZ84pvNP3dEDIoVvtE/dBjt1Tmu1D9y7M0hXp7XP3DArm2Cjto/bZSPuaZ+3T82NLiCZTfgPzWeqKh3r+E/NAiZzokn4z8ycon0m5/kPzHceRquF+Y/MEZqQMCP5z8vsFpm0gfpPy4aS4zkf+o/LIQ7svb36z8r7ivYCHDtPypYHP4a6O4/FGEGkhYw8D8Tlv6kH+zwPxPL9rcoqPE/EgDvyjFk8j8SNefdOiDzPxFq3/BD3PM/EJ/XA02Y9D8Q1M8WVlT1Pw8JyClfEPY/Dz7APGjM9j8Oc7hPcYj3Pw2osGJ6RPg/Dd2odYMA+T8MEqGIjLz5PwxHmZuVePo/C3yRrp40+z8KsYnBp/D7PwrmgdSwrPw/CRt657lo/T8JUHL6wiT+PwiFag3M4P4/B7piINWc/z+Ed60ZbywAQASSKaNzigBAg6ylLHjoAEADxyG2fEYBQIPhnT+BpAFAAvwZyYUCAkCCFpZSimACQA==\",\"dtype\":\"float64\",\"shape\":[50]},\"top\":{\"__ndarray__\":\"5mdYFJ7c9z8/zHgLCwv7P/95n1ATRPM/oIeUsYC0+D9/+Zsgo8n1PxDB+1XGdfQ//jbv+Bzm7D//eZ9QE0TzP39YxyQYFfg/n1tQa88n9T9/suONU0TxP59E5FmKVvI//dVPlieJ7j/91U+WJ4nuPz/MeAsLC+s//qd3c53m6D/+Nu/4HObsPwFDsFf2XeY//qd3c53m6D8BQ7BX9l3mP/6nd3Od5ug/AUOwV/Zd5j8BQ7BX9l3mP/427/gc5uw/AAAAAAAA8P//eZ9QE0TjP/95n1ATROM//qd3c53m6D//eZ9QE0TTPwAAAAAAAAAA/jbv+Bzm7D8AAAAAAAAAAP3VT5Ynid4//qd3c53m6D8BQ7BX9l3mP/6nd3Od5ug//qd3c53m6D9PErxDttLxP/95n1ATRNM//3mfUBNE0z8AAAAAAADw/wAAAAAAAPD/AAAAAAAAAAAAAAAAAADw/wAAAAAAAPD//3mfUBNE0z//eZ9QE0TTPwAAAAAAAPD/AAAAAAAA8P//eZ9QE0TTPw==\",\"dtype\":\"float64\",\"shape\":[50]}},\"selected\":{\"id\":\"42803\",\"type\":\"Selection\"},\"selection_policy\":{\"id\":\"42804\",\"type\":\"UnionRenderers\"}},\"id\":\"39809\",\"type\":\"ColumnDataSource\"},{\"attributes\":{\"source\":{\"id\":\"39949\",\"type\":\"ColumnDataSource\"}},\"id\":\"39953\",\"type\":\"CDSView\"},{\"attributes\":{\"bottom\":{\"value\":0},\"fill_alpha\":{\"value\":0.1},\"fill_color\":{\"value\":\"#1f77b4\"},\"left\":{\"field\":\"left\"},\"line_alpha\":{\"value\":0.1},\"line_color\":{\"value\":\"#1f77b4\"},\"right\":{\"field\":\"right\"},\"top\":{\"field\":\"top\"}},\"id\":\"40096\",\"type\":\"Quad\"},{\"attributes\":{},\"id\":\"42776\",\"type\":\"UnionRenderers\"},{\"attributes\":{},\"id\":\"42848\",\"type\":\"UnionRenderers\"},{\"attributes\":{\"data_source\":{\"id\":\"40094\",\"type\":\"ColumnDataSource\"},\"glyph\":{\"id\":\"40095\",\"type\":\"Quad\"},\"hover_glyph\":null,\"muted_glyph\":null,\"nonselection_glyph\":{\"id\":\"40096\",\"type\":\"Quad\"},\"selection_glyph\":null,\"view\":{\"id\":\"40098\",\"type\":\"CDSView\"}},\"id\":\"40097\",\"type\":\"GlyphRenderer\"},{\"attributes\":{\"bottom\":{\"value\":0},\"fill_alpha\":{\"value\":0.05},\"fill_color\":{\"value\":\"#CB4777\"},\"left\":{\"field\":\"left\"},\"line_alpha\":{\"value\":0.05},\"line_color\":{\"value\":\"#7E03A7\"},\"right\":{\"field\":\"right\"},\"top\":{\"field\":\"top\"}},\"id\":\"39810\",\"type\":\"Quad\"},{\"attributes\":{\"callback\":null,\"data\":{\"left\":{\"__ndarray__\":\"qSYB/UYeYT9zT8c/dLSnPz1G3weCK7c/YXLt92Q+wT+jQevrCOfGP+UQ6d+sj8w/E3DzaSgc0T+0V/JjevDTP1U/8V3MxNY/9ibwVx6Z2T+XDu9RcG3cPzj27UvCQd8/7W72IgoL4T+94vUfM3XiP45W9Rxc3+M/X8r0GYVJ5T8vPvQWrrPmP/+x8xPXHeg/0CXzEACI6T+hmfINKfLqP3EN8gpSXOw/QYHxB3vG7T8S9fAEpDDvP3E0+IBmTfA/We53/3oC8T9BqPd9j7fxPylid/yjbPI/Ehz3ergh8z/61Xb5zNbzP+KP9nfhi/Q/y0l29vVA9T+zA/Z0Cvb1P5u9dfMeq/Y/g3f1cTNg9z9rMXXwRxX4P1Tr9G5cyvg/PKV07XB/+T8kX/RrhTT6Pw0ZdOqZ6fo/9dLzaK6e+z/djHPnwlP8P8VG82XXCP0/rQBz5Ou9/T+WuvJiAHP+P350cuEUKP8/Zi7yXynd/z8o9DjvHkkAQBzReC6powBAEK64bTP+AEAEi/isvVgBQA==\",\"dtype\":\"float64\",\"shape\":[50]},\"right\":{\"__ndarray__\":\"c0/HP3S0pz89Rt8Hgiu3P2Fy7fdkPsE/o0Hr6wjnxj/lEOnfrI/MPxNw82koHNE/tFfyY3rw0z9VP/FdzMTWP/Ym8Fcemdk/lw7vUXBt3D849u1LwkHfP+1u9iIKC+E/veL1HzN14j+OVvUcXN/jP1/K9BmFSeU/Lz70Fq6z5j//sfMT1x3oP9Al8xAAiOk/oZnyDSny6j9xDfIKUlzsP0GB8Qd7xu0/EvXwBKQw7z9xNPiAZk3wP1nud/96AvE/Qaj3fY+38T8pYnf8o2zyPxIc93q4IfM/+tV2+czW8z/ij/Z34Yv0P8tJdvb1QPU/swP2dAr29T+bvXXzHqv2P4N39XEzYPc/azF18EcV+D9U6/RuXMr4PzyldO1wf/k/JF/0a4U0+j8NGXTqmen6P/XS82iunvs/3Yxz58JT/D/FRvNl1wj9P60Ac+Trvf0/lrryYgBz/j9+dHLhFCj/P2Yu8l8p3f8/KPQ47x5JAEAc0XguqaMAQBCuuG0z/gBABIv4rL1YAUD4ZzjsR7MBQA==\",\"dtype\":\"float64\",\"shape\":[50]},\"top\":{\"__ndarray__\":\"/u4vBu1r/T/uYMjcmRz/Px2ZIIPukf8/zzOUb7EB/T9EelNLopb7P4Ah2Cv7Lvs/gCHYK/su+z9umQwa2hz9P5CfIyrLRvk/RHpTS6KW+z9mRoDooq38Px5R5FAZyvw/7rrkRdVL+D9/+Zsgo8n1PwFDsFf2XfY/HyMMLo8n9z/+p3dzneb4P+665EXVS/g/AL1PqAmi+T9+bzM2Xeb6P/6QC2JYFfY/f/mbIKPJ9T+fRORZilbyP59bUGvPJ/U/EMH7VcZ19D8AAAAAAADwP3/5myCjyfU/7qN4NJB69T+A3ifUBNH0P59E5FmKVvI//jbv+Bzm7D9/suONU0TxP59E5FmKVvI//jbv+Bzm7D/+p3dzneboPz/MeAsLC+s//3mfUBNE0z8AAAAAAAAAAP3VT5Ynid4//dVPlieJ3j//eZ9QE0TTP/3VT5Ynid4/AUOwV/Zd5j//eZ9QE0TjPwFDsFf2XeY//3mfUBNE4z//eZ9QE0TTP/95n1ATRNM/AAAAAAAAAAAAAAAAAAAAAA==\",\"dtype\":\"float64\",\"shape\":[50]}},\"selected\":{\"id\":\"42861\",\"type\":\"Selection\"},\"selection_policy\":{\"id\":\"42862\",\"type\":\"UnionRenderers\"}},\"id\":\"39954\",\"type\":\"ColumnDataSource\"},{\"attributes\":{\"source\":{\"id\":\"40129\",\"type\":\"ColumnDataSource\"}},\"id\":\"40133\",\"type\":\"CDSView\"},{\"attributes\":{},\"id\":\"42777\",\"type\":\"Selection\"},{\"attributes\":{},\"id\":\"42849\",\"type\":\"Selection\"},{\"attributes\":{\"bottom\":{\"value\":0},\"fill_alpha\":{\"value\":0.1},\"fill_color\":{\"value\":\"#1f77b4\"},\"left\":{\"field\":\"left\"},\"line_alpha\":{\"value\":0.1},\"line_color\":{\"value\":\"#1f77b4\"},\"right\":{\"field\":\"right\"},\"top\":{\"field\":\"top\"}},\"id\":\"39811\",\"type\":\"Quad\"},{\"attributes\":{\"bottom\":{\"value\":0},\"fill_alpha\":{\"value\":0.05},\"fill_color\":{\"value\":\"#CB4777\"},\"left\":{\"field\":\"left\"},\"line_alpha\":{\"value\":0.05},\"line_color\":{\"value\":\"#7E03A7\"},\"right\":{\"field\":\"right\"},\"top\":{\"field\":\"top\"}},\"id\":\"39955\",\"type\":\"Quad\"},{\"attributes\":{\"source\":{\"id\":\"40094\",\"type\":\"ColumnDataSource\"}},\"id\":\"40098\",\"type\":\"CDSView\"},{\"attributes\":{\"callback\":null,\"data\":{\"left\":{\"__ndarray__\":\"Oc6x+klTPz+Zc8AIssSuP8vBxb5epb4/5aSVPDL0xj/kaMgZtZXOP3KWffubG9M/cvgWal3s1j9xWrDYHr3aP3G8SUfgjd4/OI/x2lAv4T84QD6SsRfjPzjxikkSAOU/OKLXAHPo5j84UyS409DoPzcEcW80ueo/N7W9JpWh7D83Zgre9YnuP5uLq0orOfA/G+RRplst8T+bPPgBjCHyPxuVnl28FfM/m+1EuewJ9D8bRusUHf70P5uekXBN8vU/G/c3zH3m9j+bT94nrtr3PxuohIPezvg/mgAr3w7D+T8aWdE6P7f6P5qxd5Zvq/s/Ggoe8p+f/D+aYsRN0JP9Pxq7aqkAiP4/mhMRBTF8/z8MtluwMDgAQEziLt5IsgBAjA4CDGEsAUDMOtU5eaYBQAxnqGeRIAJATJN7lamaAkCMv07DwRQDQMzrIfHZjgNADBj1HvIIBEBMRMhMCoMEQIxwm3oi/QRAzJxuqDp3BUAMyUHWUvEFQEz1FARrawZAjCHoMYPlBkDMTbtfm18HQA==\",\"dtype\":\"float64\",\"shape\":[50]},\"right\":{\"__ndarray__\":\"mXPACLLErj/LwcW+XqW+P+WklTwy9MY/5GjIGbWVzj9yln37mxvTP3L4Fmpd7NY/cVqw2B692j9xvElH4I3ePziP8dpQL+E/OEA+krEX4z848YpJEgDlPzii1wBz6OY/OFMkuNPQ6D83BHFvNLnqPze1vSaVoew/N2YK3vWJ7j+bi6tKKznwPxvkUaZbLfE/mzz4AYwh8j8blZ5dvBXzP5vtRLnsCfQ/G0brFB3+9D+bnpFwTfL1Pxv3N8x95vY/m0/eJ67a9z8bqISD3s74P5oAK98Ow/k/GlnROj+3+j+asXeWb6v7PxoKHvKfn/w/mmLETdCT/T8au2qpAIj+P5oTEQUxfP8/DLZbsDA4AEBM4i7eSLIAQIwOAgxhLAFAzDrVOXmmAUAMZ6hnkSACQEyTe5WpmgJAjL9Ow8EUA0DM6yHx2Y4DQAwY9R7yCARATETITAqDBECMcJt6Iv0EQMycbqg6dwVADMlB1lLxBUBM9RQEa2sGQIwh6DGD5QZAzE27X5tfB0AMeo6Ns9kHQA==\",\"dtype\":\"float64\",\"shape\":[50]},\"top\":{\"__ndarray__\":\"UCLyLEUrAUD2ztzuK/AAQJgT3O2l/QBANEWFQ6ZMAEC/iovmkNsAQNUpQ9YzkQFA59YZYOIiAEBveHjJO1j/P36Gn0eit/0/HlHkUBnK/D+OKw3mEC/+P4Bg5rBaF/k/fm8zNl3m+j/uo3g0kHr1PwFDsFf2XfY/oIeUsYC0+D+fATQClPj7P/YwvNGvIvo/z/DjF7uj9j/+Nu/4HObsP5d9SzXrr/M/n0TkWYpW8j8BQ7BX9l32P3+y441TRPE/AAAAAAAA8D8AAAAAAADwPwFDsFf2XfY/l31LNeuv8z//eZ9QE0TzP3+y441TRPE/bsVQYIup8D/91U+WJ4nuP/95n1ATROM//qd3c53m6D//eZ9QE0TjP/3VT5Ynid4//dVPlieJ3j8AAAAAAADw/wAAAAAAAAAAAAAAAAAA8P8AAAAAAADw/wAAAAAAAPD/AAAAAAAA8P8AAAAAAAAAAAAAAAAAAPD/AAAAAAAA8P8AAAAAAAAAAAAAAAAAAPD/AAAAAAAA8P//eZ9QE0TTPw==\",\"dtype\":\"float64\",\"shape\":[50]}},\"selected\":{\"id\":\"42933\",\"type\":\"Selection\"},\"selection_policy\":{\"id\":\"42934\",\"type\":\"UnionRenderers\"}},\"id\":\"40134\",\"type\":\"ColumnDataSource\"},{\"attributes\":{},\"id\":\"42778\",\"type\":\"UnionRenderers\"},{\"attributes\":{},\"id\":\"42850\",\"type\":\"UnionRenderers\"},{\"attributes\":{\"data_source\":{\"id\":\"39809\",\"type\":\"ColumnDataSource\"},\"glyph\":{\"id\":\"39810\",\"type\":\"Quad\"},\"hover_glyph\":null,\"muted_glyph\":null,\"nonselection_glyph\":{\"id\":\"39811\",\"type\":\"Quad\"},\"selection_glyph\":null,\"view\":{\"id\":\"39813\",\"type\":\"CDSView\"}},\"id\":\"39812\",\"type\":\"GlyphRenderer\"},{\"attributes\":{\"bottom\":{\"value\":0},\"fill_alpha\":{\"value\":0.1},\"fill_color\":{\"value\":\"#1f77b4\"},\"left\":{\"field\":\"left\"},\"line_alpha\":{\"value\":0.1},\"line_color\":{\"value\":\"#1f77b4\"},\"right\":{\"field\":\"right\"},\"top\":{\"field\":\"top\"}},\"id\":\"39956\",\"type\":\"Quad\"},{\"attributes\":{\"callback\":null,\"data\":{\"left\":{\"__ndarray__\":\"DF8LJyWDQj8vFo9phsapP3H/QB+Aobk/5TndhN4vwz8S9Bn6/I7JPz+uVm8b7s8/NrRJ8pwm0z9NEegsLFbWP2Nuhme7hdk/ecskokq13D+QKMPc2eTfP9PCsIs0iuE/XvH/KPwh4z/pH0/Gw7nkP3VOnmOLUeY/AH3tAFPp5z+LqzyeGoHpPxbaizviGOs/oQjb2Kmw7D8tNyp2cUjuP7hleRM54O8/IUpkWAC88D9n4Qsn5IfxP614s/XHU/I/8g9bxKsf8z84pwKTj+vzP30+qmFzt/Q/w9VRMFeD9T8Jbfn+Ok/2P04Eoc0eG/c/lJtInALn9z/ZMvBq5rL4Px/KlznKfvk/ZWE/CK5K+j+q+ObWkRb7P/CPjqV14vs/NSc2dFmu/D97vt1CPXr9P8FVhREhRv4/Bu0s4AQS/z9MhNSu6N3/P8kNvj7mVABAa9kRJti6AEAOpWUNyiABQLFwufS7hgFAVDwN3K3sAUD3B2HDn1ICQJnTtKqRuAJAPJ8IkoMeA0Dfalx5dYQDQA==\",\"dtype\":\"float64\",\"shape\":[50]},\"right\":{\"__ndarray__\":\"LxaPaYbGqT9x/0AfgKG5P+U53YTeL8M/EvQZ+vyOyT8/rlZvG+7PPza0SfKcJtM/TRHoLCxW1j9jboZnu4XZP3nLJKJKtdw/kCjD3Nnk3z/TwrCLNIrhP17x/yj8IeM/6R9PxsO55D91Tp5ji1HmPwB97QBT6ec/i6s8nhqB6T8W2os74hjrP6EI29ipsOw/LTcqdnFI7j+4ZXkTOeDvPyFKZFgAvPA/Z+ELJ+SH8T+teLP1x1PyP/IPW8SrH/M/OKcCk4/r8z99Pqphc7f0P8PVUTBXg/U/CW35/jpP9j9OBKHNHhv3P5SbSJwC5/c/2TLwauay+D8fypc5yn75P2VhPwiuSvo/qvjm1pEW+z/wj46ldeL7PzUnNnRZrvw/e77dQj16/T/BVYURIUb+PwbtLOAEEv8/TITUrujd/z/JDb4+5lQAQGvZESbYugBADqVlDcogAUCxcLn0u4YBQFQ8Ddyt7AFA9wdhw59SAkCZ07SqkbgCQDyfCJKDHgNA32pceXWEA0CCNrBgZ+oDQA==\",\"dtype\":\"float64\",\"shape\":[50]},\"top\":{\"__ndarray__\":\"boKgCJVL+j+gh5SxgLT4P/AbXwS2kPw//r7jhOK3+z/OpnQo0cn/Px86eD/U+Pk/nrr4runA+j/P8OMXu6P2P5d9SzXrr/M/gN4n1ATR9D/uuuRF1Uv4P5d9SzXrr/M/n0TkWYpW8j8/zHgLCwvrPz/MeAsLC+s/P8x4CwsL6z/91U+WJ4neP/6nd3Od5ug//dVPlieJ7j/uo3g0kHr1P37gu7Dd5vY//3mfUBNE4z8AAAAAAAAAAAAAAAAAAPD/AAAAAAAAAAAAAAAAAADw//95n1ATRNM/AAAAAAAA8P8AAAAAAADw/wAAAAAAAPD//3mfUBNE0z8AAAAAAADw/wAAAAAAAPD/AAAAAAAA8P8AAAAAAADw/wAAAAAAAPD/AAAAAAAA8P8AAAAAAADw/wAAAAAAAAAAAAAAAAAA8P8AAAAAAADw/wAAAAAAAPD/AAAAAAAA8P8AAAAAAAAAAAAAAAAAAPD/AAAAAAAA8P8AAAAAAADw/wAAAAAAAPD/AAAAAAAA8P8AAAAAAAAAAA==\",\"dtype\":\"float64\",\"shape\":[50]}},\"selected\":{\"id\":\"42919\",\"type\":\"Selection\"},\"selection_policy\":{\"id\":\"42920\",\"type\":\"UnionRenderers\"}},\"id\":\"40099\",\"type\":\"ColumnDataSource\"},{\"attributes\":{\"bottom\":{\"value\":0},\"fill_alpha\":{\"value\":0.05},\"fill_color\":{\"value\":\"#CB4777\"},\"left\":{\"field\":\"left\"},\"line_alpha\":{\"value\":0.05},\"line_color\":{\"value\":\"#7E03A7\"},\"right\":{\"field\":\"right\"},\"top\":{\"field\":\"top\"}},\"id\":\"40135\",\"type\":\"Quad\"},{\"attributes\":{},\"id\":\"42779\",\"type\":\"Selection\"},{\"attributes\":{},\"id\":\"42851\",\"type\":\"Selection\"},{\"attributes\":{\"data_source\":{\"id\":\"39954\",\"type\":\"ColumnDataSource\"},\"glyph\":{\"id\":\"39955\",\"type\":\"Quad\"},\"hover_glyph\":null,\"muted_glyph\":null,\"nonselection_glyph\":{\"id\":\"39956\",\"type\":\"Quad\"},\"selection_glyph\":null,\"view\":{\"id\":\"39958\",\"type\":\"CDSView\"}},\"id\":\"39957\",\"type\":\"GlyphRenderer\"},{\"attributes\":{\"source\":{\"id\":\"39809\",\"type\":\"ColumnDataSource\"}},\"id\":\"39813\",\"type\":\"CDSView\"},{\"attributes\":{\"bottom\":{\"value\":0},\"fill_alpha\":{\"value\":0.05},\"fill_color\":{\"value\":\"#CB4777\"},\"left\":{\"field\":\"left\"},\"line_alpha\":{\"value\":0.05},\"line_color\":{\"value\":\"#7E03A7\"},\"right\":{\"field\":\"right\"},\"top\":{\"field\":\"top\"}},\"id\":\"40100\",\"type\":\"Quad\"},{\"attributes\":{\"bottom\":{\"value\":0},\"fill_alpha\":{\"value\":0.1},\"fill_color\":{\"value\":\"#1f77b4\"},\"left\":{\"field\":\"left\"},\"line_alpha\":{\"value\":0.1},\"line_color\":{\"value\":\"#1f77b4\"},\"right\":{\"field\":\"right\"},\"top\":{\"field\":\"top\"}},\"id\":\"40136\",\"type\":\"Quad\"},{\"attributes\":{},\"id\":\"42780\",\"type\":\"UnionRenderers\"},{\"attributes\":{},\"id\":\"42852\",\"type\":\"UnionRenderers\"},{\"attributes\":{\"data_source\":{\"id\":\"40134\",\"type\":\"ColumnDataSource\"},\"glyph\":{\"id\":\"40135\",\"type\":\"Quad\"},\"hover_glyph\":null,\"muted_glyph\":null,\"nonselection_glyph\":{\"id\":\"40136\",\"type\":\"Quad\"},\"selection_glyph\":null,\"view\":{\"id\":\"40138\",\"type\":\"CDSView\"}},\"id\":\"40137\",\"type\":\"GlyphRenderer\"},{\"attributes\":{\"callback\":null,\"data\":{\"left\":{\"__ndarray__\":\"AAAAAAAAAACRMX/cQxSuP5Exf9xDFL4/LWVf5TKPxj+RMX/cQxTOP/t+z2mqzNI/LWVf5TKP1j9fS+9gu1HaP5Exf9xDFN4/4osHLGbr4D/7fs9pqsziPxRyl6fureQ/LWVf5TKP5j9GWCcjd3DoP19L72C7Ueo/eD63nv8y7D+RMX/cQxTuP6okRxqI9e8/4osHLGbr8D9uhetKCNzxP/t+z2mqzPI/h3iziEy98z8Ucpen7q30P6Bre8aQnvU/LWVf5TKP9j+5XkME1X/3P0ZYJyN3cPg/0lELQhlh+T9fS+9gu1H6P+tE039dQvs/eD63nv8y/D8EOJu9oSP9P5Exf9xDFP4/Hitj++UE/z+qJEcaiPX/PxuPlRwVcwBA4osHLGbrAECoiHk7t2MBQG6F60oI3AFANIJdWllUAkD7fs9pqswCQMF7QXn7RANAh3iziEy9A0BNdSWYnTUEQBRyl6furQRA2m4Jtz8mBUCga3vGkJ4FQGZo7dXhFgZALWVf5TKPBkDzYdH0gwcHQA==\",\"dtype\":\"float64\",\"shape\":[50]},\"right\":{\"__ndarray__\":\"kTF/3EMUrj+RMX/cQxS+Py1lX+Uyj8Y/kTF/3EMUzj/7fs9pqszSPy1lX+Uyj9Y/X0vvYLtR2j+RMX/cQxTeP+KLByxm6+A/+37PaarM4j8Ucpen7q3kPy1lX+Uyj+Y/RlgnI3dw6D9fS+9gu1HqP3g+t57/Muw/kTF/3EMU7j+qJEcaiPXvP+KLByxm6/A/boXrSgjc8T/7fs9pqszyP4d4s4hMvfM/FHKXp+6t9D+ga3vGkJ71Py1lX+Uyj/Y/uV5DBNV/9z9GWCcjd3D4P9JRC0IZYfk/X0vvYLtR+j/rRNN/XUL7P3g+t57/Mvw/BDibvaEj/T+RMX/cQxT+Px4rY/vlBP8/qiRHGoj1/z8bj5UcFXMAQOKLByxm6wBAqIh5O7djAUBuhetKCNwBQDSCXVpZVAJA+37PaarMAkDBe0F5+0QDQId4s4hMvQNATXUlmJ01BEAUcpen7q0EQNpuCbc/JgVAoGt7xpCeBUBmaO3V4RYGQC1lX+UyjwZA82HR9IMHB0C5XkME1X8HQA==\",\"dtype\":\"float64\",\"shape\":[50]},\"top\":{\"__ndarray__\":\"Q6fWIogyA0A4hADcwIMDQOB2qBsDHQNAtAHMVvOWA0CutGTKDRIDQPdRPBpIvQJA97PchtmWAUCJ5Tp3i24BQLXCoU57SgFALBIXZLRsAECADTomT3wAQP7qJ8uTRP8/zzOUb7EB/T8APw6FX+j9P1MgAxPBnv0/bomROa5c/j9EelNLopb7Px8jDC6PJ/c/7rrkRdVL+D8/zHgLCwv7P39YxyQYFfg/n1tQa88n9T/+Nu/4HObsPwAXbBFF0fI/TxK8Q7bS8T9/suONU0TxPwFDsFf2XeY/TxK8Q7bS8T9PErxDttLxP/6nd3Od5ug//3mfUBNE0z/91U+WJ4neP/95n1ATROM//3mfUBNE0z//eZ9QE0TTP/3VT5Ynid4/AAAAAAAA8P//eZ9QE0TTPwAAAAAAAPD/AAAAAAAA8P8AAAAAAADw/wAAAAAAAPD/AAAAAAAA8P8AAAAAAAAAAAAAAAAAAPD/AAAAAAAAAAAAAAAAAADw/wAAAAAAAPD/AAAAAAAA8P8AAAAAAAAAAA==\",\"dtype\":\"float64\",\"shape\":[50]}},\"selected\":{\"id\":\"42805\",\"type\":\"Selection\"},\"selection_policy\":{\"id\":\"42806\",\"type\":\"UnionRenderers\"}},\"id\":\"39814\",\"type\":\"ColumnDataSource\"},{\"attributes\":{\"source\":{\"id\":\"39954\",\"type\":\"ColumnDataSource\"}},\"id\":\"39958\",\"type\":\"CDSView\"},{\"attributes\":{\"bottom\":{\"value\":0},\"fill_alpha\":{\"value\":0.1},\"fill_color\":{\"value\":\"#1f77b4\"},\"left\":{\"field\":\"left\"},\"line_alpha\":{\"value\":0.1},\"line_color\":{\"value\":\"#1f77b4\"},\"right\":{\"field\":\"right\"},\"top\":{\"field\":\"top\"}},\"id\":\"40101\",\"type\":\"Quad\"},{\"attributes\":{},\"id\":\"42781\",\"type\":\"Selection\"},{\"attributes\":{},\"id\":\"42853\",\"type\":\"Selection\"},{\"attributes\":{\"data_source\":{\"id\":\"40099\",\"type\":\"ColumnDataSource\"},\"glyph\":{\"id\":\"40100\",\"type\":\"Quad\"},\"hover_glyph\":null,\"muted_glyph\":null,\"nonselection_glyph\":{\"id\":\"40101\",\"type\":\"Quad\"},\"selection_glyph\":null,\"view\":{\"id\":\"40103\",\"type\":\"CDSView\"}},\"id\":\"40102\",\"type\":\"GlyphRenderer\"},{\"attributes\":{\"bottom\":{\"value\":0},\"fill_alpha\":{\"value\":0.05},\"fill_color\":{\"value\":\"#CB4777\"},\"left\":{\"field\":\"left\"},\"line_alpha\":{\"value\":0.05},\"line_color\":{\"value\":\"#7E03A7\"},\"right\":{\"field\":\"right\"},\"top\":{\"field\":\"top\"}},\"id\":\"39815\",\"type\":\"Quad\"},{\"attributes\":{\"callback\":null,\"data\":{\"left\":{\"__ndarray__\":\"Oc6x+klTPz9K6uI0AlenP3w46OquN7c/6X2vXe5hwT+V3+pFBSjHP0FBJi4c7sw/dtEwixla0T9Mgk7/JD3UPyIzbHMwINc/+OOJ5zsD2j/OlKdbR+bcP6NFxc9Syd8/PHvxIS9W4T+nUwDctMfiPxIsD5Y6OeQ/fQQeUMCq5T/o3CwKRhznP1O1O8TLjeg/vo1KflH/6T8pZlk413DrP5Q+aPJc4uw//hZ3rOJT7j9p74VmaMXvP+pjShB3m/A/H9BR7TlU8T9VPFnK/AzyP4qoYKe/xfI/wBRohIJ+8z/1gG9hRTf0Pyvtdj4I8PQ/YFl+G8uo9T+WxYX4jWH2P8sxjdVQGvc/AJ6UshPT9z82CpyP1ov4P2t2o2yZRPk/oeKqSVz9+T/WTrImH7b6Pwy7uQPibvs/QSfB4KQn/D93k8i9Z+D8P6z/z5oqmf0/4WvXd+1R/j8X2N5UsAr/P0xE5jFzw/8/QNh2Bxs+AEBbjvp1fJoAQHZEfuTd9gBAkPoBUz9TAUCrsIXBoK8BQA==\",\"dtype\":\"float64\",\"shape\":[50]},\"right\":{\"__ndarray__\":\"SuriNAJXpz98OOjqrje3P+l9r13uYcE/ld/qRQUoxz9BQSYuHO7MP3bRMIsZWtE/TIJO/yQ91D8iM2xzMCDXP/jjiec7A9o/zpSnW0fm3D+jRcXPUsnfPzx78SEvVuE/p1MA3LTH4j8SLA+WOjnkP30EHlDAquU/6NwsCkYc5z9TtTvEy43oP76NSn5R/+k/KWZZONdw6z+UPmjyXOLsP/4Wd6ziU+4/ae+FZmjF7z/qY0oQd5vwPx/QUe05VPE/VTxZyvwM8j+KqGCnv8XyP8AUaISCfvM/9YBvYUU39D8r7XY+CPD0P2BZfhvLqPU/lsWF+I1h9j/LMY3VUBr3PwCelLIT0/c/Ngqcj9aL+D9rdqNsmUT5P6Hiqklc/fk/1k6yJh+2+j8Mu7kD4m77P0EnweCkJ/w/d5PIvWfg/D+s/8+aKpn9P+Fr13ftUf4/F9jeVLAK/z9MROYxc8P/P0DYdgcbPgBAW476dXyaAEB2RH7k3fYAQJD6AVM/UwFAq7CFwaCvAUDGZgkwAgwCQA==\",\"dtype\":\"float64\",\"shape\":[50]},\"top\":{\"__ndarray__\":\"7ADLKyC4AEDsAMsrILgAQEAyxMF4xgBAt2e03zaTAECeGKAT2cn+P4A4RD1AAP4//9O7uU5z/D/2MLzRryL6P/6nd3Od5vg/5mdYFJ7c9z//07u5TnP8PyBmvIWFhf0//9O7uU5z/D/+p3dzneb4P/95n1ATRPM/WAwCcvbN+T/uo3g0kHr1P3/5myCjyfU/ABdsEUXR8j//eZ9QE0TjPz/MeAsLC+s/AUOwV/Zd5j9/suONU0TxPwFDsFf2XeY//3mfUBNE4z9/suONU0TxP/427/gc5uw//jbv+Bzm7D9uxVBgi6nwP/3VT5Ynie4/AAAAAAAAAAABQ7BX9l3mP/95n1ATROM//3mfUBNE0z/+p3dzneboP/3VT5Ynid4/l31LNeuv8z/91U+WJ4neP/95n1ATRNM//3mfUBNE4z8AAAAAAAAAAAAAAAAAAPD/AUOwV/Zd5j//eZ9QE0TTP/95n1ATRNM//3mfUBNE0z8AAAAAAADwPwFDsFf2XeY/AAAAAAAAAAAAAAAAAAAAAA==\",\"dtype\":\"float64\",\"shape\":[50]}},\"selected\":{\"id\":\"42863\",\"type\":\"Selection\"},\"selection_policy\":{\"id\":\"42864\",\"type\":\"UnionRenderers\"}},\"id\":\"39959\",\"type\":\"ColumnDataSource\"},{\"attributes\":{\"source\":{\"id\":\"40134\",\"type\":\"ColumnDataSource\"}},\"id\":\"40138\",\"type\":\"CDSView\"},{\"attributes\":{},\"id\":\"42782\",\"type\":\"UnionRenderers\"},{\"attributes\":{},\"id\":\"42854\",\"type\":\"UnionRenderers\"},{\"attributes\":{\"bottom\":{\"value\":0},\"fill_alpha\":{\"value\":0.1},\"fill_color\":{\"value\":\"#1f77b4\"},\"left\":{\"field\":\"left\"},\"line_alpha\":{\"value\":0.1},\"line_color\":{\"value\":\"#1f77b4\"},\"right\":{\"field\":\"right\"},\"top\":{\"field\":\"top\"}},\"id\":\"39816\",\"type\":\"Quad\"},{\"attributes\":{\"bottom\":{\"value\":0},\"fill_alpha\":{\"value\":0.05},\"fill_color\":{\"value\":\"#CB4777\"},\"left\":{\"field\":\"left\"},\"line_alpha\":{\"value\":0.05},\"line_color\":{\"value\":\"#7E03A7\"},\"right\":{\"field\":\"right\"},\"top\":{\"field\":\"top\"}},\"id\":\"39960\",\"type\":\"Quad\"},{\"attributes\":{\"source\":{\"id\":\"40099\",\"type\":\"ColumnDataSource\"}},\"id\":\"40103\",\"type\":\"CDSView\"},{\"attributes\":{\"callback\":null,\"data\":{\"left\":{\"__ndarray__\":\"IdCqgX3/dz9BrHinb0qmPz//Xc93yrQ/Xqj/yrdvvj++qFDjewrEP019IeEb3cg/3VHy3ruvzT82k2HuLUHRP379Se19qtM/xmcy7M0T1j8N0hrrHX3YP1U8A+pt5to/nabr6L1P3T/kENTnDbnfP5U9XvMuEeE/uXLS8tZF4j/dp0byfnrjPwHduvEmr+Q/JRIv8c7j5T9IR6PwdhjnP2x8F/AeTeg/kLGL78aB6T+05v/ubrbqP9gbdO4W6+s//FDo7b4f7T8fhlztZlTuP0O70OwOie8/M3gidtte8D/Fktx1L/nwP1etlnWDk/E/6cdQddct8j974gp1K8jyPw39xHR/YvM/nxd/dNP88z8xMjl0J5f0P8NM83N7MfU/VWetc8/L9T/ngWdzI2b2P3icIXN3APc/Crfbcsua9z+c0ZVyHzX4Py7sT3Jzz/g/wAYKcsdp+T9SIcRxGwT6P+Q7fnFvnvo/dlY4ccM4+z8IcfJwF9P7P5qLrHBrbfw/LKZmcL8H/T+9wCBwE6L9Pw==\",\"dtype\":\"float64\",\"shape\":[50]},\"right\":{\"__ndarray__\":\"Qax4p29Kpj8//13Pd8q0P16o/8q3b74/vqhQ43sKxD9NfSHhG93IP91R8t67r80/NpNh7i1B0T9+/UntfarTP8ZnMuzNE9Y/DdIa6x192D9VPAPqbebaP52m6+i9T90/5BDU5w253z+VPV7zLhHhP7ly0vLWReI/3adG8n564z8B3brxJq/kPyUSL/HO4+U/SEej8HYY5z9sfBfwHk3oP5Cxi+/Ggek/tOb/7m626j/YG3TuFuvrP/xQ6O2+H+0/H4Zc7WZU7j9Du9DsDonvPzN4InbbXvA/xZLcdS/58D9XrZZ1g5PxP+nHUHXXLfI/e+IKdSvI8j8N/cR0f2LzP58Xf3TT/PM/MTI5dCeX9D/DTPNzezH1P1VnrXPPy/U/54FncyNm9j94nCFzdwD3Pwq323LLmvc/nNGVch81+D8u7E9yc8/4P8AGCnLHafk/UiHEcRsE+j/kO35xb576P3ZWOHHDOPs/CHHycBfT+z+ai6xwa238PyymZnC/B/0/vcAgcBOi/T9Q29pvZzz+Pw==\",\"dtype\":\"float64\",\"shape\":[50]},\"top\":{\"__ndarray__\":\"bsVQYIup8D8fIwwujyf3P/95n1ATRPM/F1xzCfCA+D9/+Zsgo8n1PwAAAAAAAPA//dVPlieJ7j8QwftVxnX0P/95n1ATRPM/fslPn5gV9D+A3ifUBNH0P+6jeDSQevU/n0TkWYpW8j/91U+WJ4nuP/95n1ATRPM//jbv+Bzm7D/+p3dzneboP/95n1ATRNM/AUOwV/Zd5j//eZ9QE0TTP/95n1ATRNM/P8x4CwsL6z/91U+WJ4nuPz/MeAsLC+s/n0TkWYpW8j9PErxDttLxP/95n1ATROM//3mfUBNE4z//eZ9QE0TTPwAAAAAAAAAA/3mfUBNE4z//eZ9QE0TTPwAAAAAAAPD//dVPlieJ3j8AAAAAAAAAAAAAAAAAAAAAAAAAAAAAAAAAAAAAAAAAAAAAAAAAAAAA/3mfUBNE0z8AAAAAAAAAAAAAAAAAAAAAAAAAAAAAAAAAAAAAAAAAAAAAAAAAAPD//3mfUBNE0z8AAAAAAADw/wAAAAAAAAAAAAAAAAAA8P8AAAAAAAAAAA==\",\"dtype\":\"float64\",\"shape\":[50]}},\"selected\":{\"id\":\"42935\",\"type\":\"Selection\"},\"selection_policy\":{\"id\":\"42936\",\"type\":\"UnionRenderers\"}},\"id\":\"40139\",\"type\":\"ColumnDataSource\"},{\"attributes\":{},\"id\":\"42783\",\"type\":\"Selection\"},{\"attributes\":{},\"id\":\"42855\",\"type\":\"Selection\"},{\"attributes\":{\"data_source\":{\"id\":\"39814\",\"type\":\"ColumnDataSource\"},\"glyph\":{\"id\":\"39815\",\"type\":\"Quad\"},\"hover_glyph\":null,\"muted_glyph\":null,\"nonselection_glyph\":{\"id\":\"39816\",\"type\":\"Quad\"},\"selection_glyph\":null,\"view\":{\"id\":\"39818\",\"type\":\"CDSView\"}},\"id\":\"39817\",\"type\":\"GlyphRenderer\"},{\"attributes\":{\"bottom\":{\"value\":0},\"fill_alpha\":{\"value\":0.1},\"fill_color\":{\"value\":\"#1f77b4\"},\"left\":{\"field\":\"left\"},\"line_alpha\":{\"value\":0.1},\"line_color\":{\"value\":\"#1f77b4\"},\"right\":{\"field\":\"right\"},\"top\":{\"field\":\"top\"}},\"id\":\"39961\",\"type\":\"Quad\"},{\"attributes\":{\"callback\":null,\"data\":{\"left\":{\"__ndarray__\":\"+0kqPhAVMT8KBwHVXrW1P+Xx4UzUrMU/IrChl3w/0D9SZ9IIj6jVP4IeA3qhEds/2eqZ9Vk94D9xRjIu4/HiPwmiymZspuU/of1in/Va6D85WfvXfg/rP9G0kxAIxO0/NQiWpEg88D8BNuJAjZbxP81jLt3R8PI/mZF6eRZL9D9lv8YVW6X1PzHtErKf//Y//RpfTuRZ+D/JSKvqKLT5P5V294ZtDvs/YaRDI7Jo/D8t0o+/9sL9P/n/21s7Hf8/4hYU/L87AEDILTpK4ugAQK5EYJgElgFAlFuG5iZDAkB6cqw0SfACQGCJ0oJrnQNARqD40I1KBEAstx4fsPcEQBLORG3SpAVA+ORqu/RRBkDe+5AJF/8GQMQSt1c5rAdAqindpVtZCECQQAP0fQYJQHZXKUKgswlAXG5PkMJgCkBChXXe5A0LQCicmywHuwtADrPBeiloDED0yefISxUNQNrgDRduwg1AwPczZZBvDkCmDlqzshwPQIwlgAHVyQ9AOR7Tp3s7EECsKebODJIQQA==\",\"dtype\":\"float64\",\"shape\":[50]},\"right\":{\"__ndarray__\":\"CgcB1V61tT/l8eFM1KzFPyKwoZd8P9A/UmfSCI+o1T+CHgN6oRHbP9nqmfVZPeA/cUYyLuPx4j8JospmbKblP6H9Yp/1Wug/OVn7134P6z/RtJMQCMTtPzUIlqRIPPA/ATbiQI2W8T/NYy7d0fDyP5mRenkWS/Q/Zb/GFVul9T8x7RKyn//2P/0aX07kWfg/yUir6ii0+T+VdveGbQ77P2GkQyOyaPw/LdKPv/bC/T/5/9tbOx3/P+IWFPy/OwBAyC06SuLoAECuRGCYBJYBQJRbhuYmQwJAenKsNEnwAkBgidKCa50DQEag+NCNSgRALLceH7D3BEASzkRt0qQFQPjkarv0UQZA3vuQCRf/BkDEErdXOawHQKop3aVbWQhAkEAD9H0GCUB2VylCoLMJQFxuT5DCYApAQoV13uQNC0AonJssB7sLQA6zwXopaAxA9MnnyEsVDUDa4A0XbsINQMD3M2WQbw5Apg5as7IcD0CMJYAB1ckPQDke06d7OxBArCnmzgySEEAfNfn1negQQA==\",\"dtype\":\"float64\",\"shape\":[50]},\"top\":{\"__ndarray__\":\"bjjsWW/rA0BBqsRbKwIEQKPbRxclvANAf8qJzlgeAkALmJdhH3oCQL+Ki+aQ2wBAZkaA6KKt/D8YnyNh5t7+Px5R5FAZyvw/kLaPOxAY/D/+vuOE4rf7Pz/MeAsLC/s//qd3c53m+D9uiZE5rlz+P/6nd3Od5vg/n0TkWYpW8j9+yU+fmBX0P/95n1ATRPM//3mfUBNE0z9uxVBgi6nwP59E5FmKVvI/P8x4CwsL6z/+Nu/4HObsPwFDsFf2XeY//3mfUBNE0z//eZ9QE0TTPwAAAAAAAPD/AAAAAAAAAAAAAAAAAADw/wAAAAAAAPD/AAAAAAAA8P8AAAAAAADw//95n1ATRNM/P8x4CwsL6z/91U+WJ4nePwAAAAAAAAAAAAAAAAAAAAAAAAAAAADw/wAAAAAAAPD/AAAAAAAA8P8AAAAAAADw/wAAAAAAAPD/AAAAAAAA8P8AAAAAAADw/wAAAAAAAPD/AAAAAAAA8P8AAAAAAAAAAAAAAAAAAAAAAAAAAAAA8P//eZ9QE0TTPw==\",\"dtype\":\"float64\",\"shape\":[50]}},\"selected\":{\"id\":\"42921\",\"type\":\"Selection\"},\"selection_policy\":{\"id\":\"42922\",\"type\":\"UnionRenderers\"}},\"id\":\"40104\",\"type\":\"ColumnDataSource\"},{\"attributes\":{\"bottom\":{\"value\":0},\"fill_alpha\":{\"value\":0.05},\"fill_color\":{\"value\":\"#CB4777\"},\"left\":{\"field\":\"left\"},\"line_alpha\":{\"value\":0.05},\"line_color\":{\"value\":\"#7E03A7\"},\"right\":{\"field\":\"right\"},\"top\":{\"field\":\"top\"}},\"id\":\"40140\",\"type\":\"Quad\"},{\"attributes\":{},\"id\":\"42784\",\"type\":\"UnionRenderers\"},{\"attributes\":{},\"id\":\"42856\",\"type\":\"UnionRenderers\"},{\"attributes\":{\"data_source\":{\"id\":\"39959\",\"type\":\"ColumnDataSource\"},\"glyph\":{\"id\":\"39960\",\"type\":\"Quad\"},\"hover_glyph\":null,\"muted_glyph\":null,\"nonselection_glyph\":{\"id\":\"39961\",\"type\":\"Quad\"},\"selection_glyph\":null,\"view\":{\"id\":\"39963\",\"type\":\"CDSView\"}},\"id\":\"39962\",\"type\":\"GlyphRenderer\"},{\"attributes\":{\"source\":{\"id\":\"39814\",\"type\":\"ColumnDataSource\"}},\"id\":\"39818\",\"type\":\"CDSView\"},{\"attributes\":{\"bottom\":{\"value\":0},\"fill_alpha\":{\"value\":0.05},\"fill_color\":{\"value\":\"#CB4777\"},\"left\":{\"field\":\"left\"},\"line_alpha\":{\"value\":0.05},\"line_color\":{\"value\":\"#7E03A7\"},\"right\":{\"field\":\"right\"},\"top\":{\"field\":\"top\"}},\"id\":\"40105\",\"type\":\"Quad\"},{\"attributes\":{\"bottom\":{\"value\":0},\"fill_alpha\":{\"value\":0.1},\"fill_color\":{\"value\":\"#1f77b4\"},\"left\":{\"field\":\"left\"},\"line_alpha\":{\"value\":0.1},\"line_color\":{\"value\":\"#1f77b4\"},\"right\":{\"field\":\"right\"},\"top\":{\"field\":\"top\"}},\"id\":\"40141\",\"type\":\"Quad\"},{\"attributes\":{},\"id\":\"42785\",\"type\":\"Selection\"},{\"attributes\":{},\"id\":\"42857\",\"type\":\"Selection\"},{\"attributes\":{\"data_source\":{\"id\":\"40139\",\"type\":\"ColumnDataSource\"},\"glyph\":{\"id\":\"40140\",\"type\":\"Quad\"},\"hover_glyph\":null,\"muted_glyph\":null,\"nonselection_glyph\":{\"id\":\"40141\",\"type\":\"Quad\"},\"selection_glyph\":null,\"view\":{\"id\":\"40143\",\"type\":\"CDSView\"}},\"id\":\"40142\",\"type\":\"GlyphRenderer\"},{\"attributes\":{\"callback\":null,\"data\":{\"left\":{\"__ndarray__\":\"s50hiKvJRj/PxFH2iH6zPzKjyUq/Z8M//GNqGjoQzT9jkgV1WlzTP8jy1dyXMNg/LVOmRNUE3T/JWTtWiezgP/uJIwqoVuM/LboLvsbA5T9g6vNx5SroP5Ma3CUEleo/xUrE2SL/7D/3eqyNQWnvP5ZVyiCw6fA/r22+er8e8j/IhbLUzlPzP+Gdpi7eiPQ/+rWaiO299T8Uzo7i/PL2Py3mgjwMKPg/Rv52lhtd+T9gFmvwKpL6P3kuX0o6x/s/kkZTpEn8/D+rXkf+WDH+P8R2O1hoZv8/b8cX2btNAEB80xGGQ+gAQIjfCzPLggFAlesF4FIdAkCh9/+M2rcCQK4D+jliUgNAuw/05unsA0DHG+6TcYcEQNQn6ED5IQVA4DPi7YC8BUDtP9yaCFcGQPpL1keQ8QZABljQ9BeMB0ATZMqhnyYIQCBwxE4nwQhALHy++65bCUA5iLioNvYJQEaUslW+kApAUqCsAkYrC0BfrKavzcULQGu4oFxVYAxAeMSaCd36DECF0JS2ZJUNQA==\",\"dtype\":\"float64\",\"shape\":[50]},\"right\":{\"__ndarray__\":\"z8RR9oh+sz8yo8lKv2fDP/xjaho6EM0/Y5IFdVpc0z/I8tXclzDYPy1TpkTVBN0/yVk7Vons4D/7iSMKqFbjPy26C77GwOU/YOrzceUq6D+TGtwlBJXqP8VKxNki/+w/93qsjUFp7z+WVcogsOnwP69tvnq/HvI/yIWy1M5T8z/hnaYu3oj0P/q1mojtvfU/FM6O4vzy9j8t5oI8DCj4P0b+dpYbXfk/YBZr8CqS+j95Ll9KOsf7P5JGU6RJ/Pw/q15H/lgx/j/EdjtYaGb/P2/HF9m7TQBAfNMRhkPoAECI3wszy4IBQJXrBeBSHQJAoff/jNq3AkCuA/o5YlIDQLsP9Obp7ANAxxvuk3GHBEDUJ+hA+SEFQOAz4u2AvAVA7T/cmghXBkD6S9ZHkPEGQAZY0PQXjAdAE2TKoZ8mCEAgcMROJ8EIQCx8vvuuWwlAOYi4qDb2CUBGlLJVvpAKQFKgrAJGKwtAX6ymr83FC0BruKBcVWAMQHjEmgnd+gxAhdCUtmSVDUCS3I5j7C8OQA==\",\"dtype\":\"float64\",\"shape\":[50]},\"top\":{\"__ndarray__\":\"ZkaA6KKt/D8YnyNh5t7+P07md/0ERv4/AL1PqAmi+T/uuuRF1Uv4P+/mKIyG2Ps/gDhEPUAA/j9pWf9WRQj/P3/5myCjyfU/n0TkWYpW8j8AAAAAAADwPwFDsFf2XeY//jbv+Bzm7D/+Nu/4HObsP3+y441TRPE/TxK8Q7bS8T8AAAAAAADwP4DeJ9QE0fQ//jbv+Bzm7D//eZ9QE0TTP/95n1ATROM/AAAAAAAA8P8AAAAAAAAAAAFDsFf2XeY//3mfUBNE0z8AAAAAAADw/wAAAAAAAPD/AAAAAAAAAAAAAAAAAADw/wAAAAAAAPD/AAAAAAAAAAAAAAAAAADw//95n1ATRNM/AAAAAAAAAAAAAAAAAADw/wAAAAAAAPD/AAAAAAAA8P8AAAAAAADw/wAAAAAAAPD/AAAAAAAA8P8AAAAAAADw/wAAAAAAAPD/AAAAAAAA8P8AAAAAAADw/wAAAAAAAPD/AAAAAAAA8P8AAAAAAADw/wAAAAAAAPD/AAAAAAAAAAD/eZ9QE0TTPw==\",\"dtype\":\"float64\",\"shape\":[50]}},\"selected\":{\"id\":\"42807\",\"type\":\"Selection\"},\"selection_policy\":{\"id\":\"42808\",\"type\":\"UnionRenderers\"}},\"id\":\"39819\",\"type\":\"ColumnDataSource\"},{\"attributes\":{\"source\":{\"id\":\"39959\",\"type\":\"ColumnDataSource\"}},\"id\":\"39963\",\"type\":\"CDSView\"},{\"attributes\":{\"bottom\":{\"value\":0},\"fill_alpha\":{\"value\":0.1},\"fill_color\":{\"value\":\"#1f77b4\"},\"left\":{\"field\":\"left\"},\"line_alpha\":{\"value\":0.1},\"line_color\":{\"value\":\"#1f77b4\"},\"right\":{\"field\":\"right\"},\"top\":{\"field\":\"top\"}},\"id\":\"40106\",\"type\":\"Quad\"},{\"attributes\":{},\"id\":\"42786\",\"type\":\"UnionRenderers\"},{\"attributes\":{},\"id\":\"42858\",\"type\":\"UnionRenderers\"},{\"attributes\":{\"data_source\":{\"id\":\"40104\",\"type\":\"ColumnDataSource\"},\"glyph\":{\"id\":\"40105\",\"type\":\"Quad\"},\"hover_glyph\":null,\"muted_glyph\":null,\"nonselection_glyph\":{\"id\":\"40106\",\"type\":\"Quad\"},\"selection_glyph\":null,\"view\":{\"id\":\"40108\",\"type\":\"CDSView\"}},\"id\":\"40107\",\"type\":\"GlyphRenderer\"},{\"attributes\":{\"bottom\":{\"value\":0},\"fill_alpha\":{\"value\":0.05},\"fill_color\":{\"value\":\"#CB4777\"},\"left\":{\"field\":\"left\"},\"line_alpha\":{\"value\":0.05},\"line_color\":{\"value\":\"#7E03A7\"},\"right\":{\"field\":\"right\"},\"top\":{\"field\":\"top\"}},\"id\":\"39820\",\"type\":\"Quad\"},{\"attributes\":{\"callback\":null,\"data\":{\"left\":{\"__ndarray__\":\"QrVd+5vqTT+iq/ycZzCeP800Dy29uK0/5QnQRaMstj9jeRj153y9P3B0MFKWZsI/L6zUqbgOxj/u43gB27bJP60bHVn9Xs0/t6lg2I+D0D+WxTIEoVfSP3XhBDCyK9Q/Vf3WW8P/1T81GamH1NPXPxQ1e7Plp9k/81BN3/Z72z/TbB8LCFDdP7OI8TYZJN8/SdJhMRV84D844ErHHWbhPyjuM10mUOI/GPwc8y464z8HCgaJNyTkP/cX7x5ADuU/5yXYtEj45T/XM8FKUeLmP8dBquBZzOc/tk+TdmK26D+mXXwMa6DpP5ZrZaJziuo/hXlOOHx06z91hzfOhF7sP2WVIGSNSO0/VaMJ+pUy7j9FsfKPnhzvP5rf7ZJTA/A/k2bi3Vd48D+K7dYoXO3wP4J0y3NgYvE/evu/vmTX8T9ygrQJaUzyP2oJqVRtwfI/YpCdn3E28z9aF5LqdavzP1GehjV6IPQ/SSV7gH6V9D9BrG/Lggr1PzkzZBaHf/U/MbpYYYv09T8pQU2sj2n2Pw==\",\"dtype\":\"float64\",\"shape\":[50]},\"right\":{\"__ndarray__\":\"oqv8nGcwnj/NNA8tvbitP+UJ0EWjLLY/Y3kY9ed8vT9wdDBSlmbCPy+s1Km4DsY/7uN4Adu2yT+tGx1Z/V7NP7epYNiPg9A/lsUyBKFX0j914QQwsivUP1X91lvD/9U/NRmph9TT1z8UNXuz5afZP/NQTd/2e9s/02wfCwhQ3T+ziPE2GSTfP0nSYTEVfOA/OOBKxx1m4T8o7jNdJlDiPxj8HPMuOuM/BwoGiTck5D/3F+8eQA7lP+cl2LRI+OU/1zPBSlHi5j/HQargWcznP7ZPk3Zitug/pl18DGug6T+Wa2Wic4rqP4V5Tjh8dOs/dYc3zoRe7D9llSBkjUjtP1WjCfqVMu4/RbHyj54c7z+a3+2SUwPwP5Nm4t1XePA/iu3WKFzt8D+CdMtzYGLxP3r7v75k1/E/coK0CWlM8j9qCalUbcHyP2KQnZ9xNvM/WheS6nWr8z9RnoY1eiD0P0kle4B+lfQ/Qaxvy4IK9T85M2QWh3/1PzG6WGGL9PU/KUFNrI9p9j8hyEH3k972Pw==\",\"dtype\":\"float64\",\"shape\":[50]},\"top\":{\"__ndarray__\":\"gN4n1ATR9D/+kAtiWBX2P/3VT5Ynie4/AAAAAAAA8D9+yU+fmBX0P5d9SzXrr/M//3mfUBNE8z//eZ9QE0TzP59E5FmKVvI//qd3c53m6D/91U+WJ4nuPz/MeAsLC+s/TxK8Q7bS8T/91U+WJ4neP/95n1ATRNM/AAAAAAAAAAAAAAAAAADw/wAAAAAAAAAAAAAAAAAAAAD/eZ9QE0TTPwAAAAAAAAAAAAAAAAAA8P/91U+WJ4neP/95n1ATROM/AAAAAAAAAAAAAAAAAAAAAP3VT5Ynid4/AAAAAAAA8P8AAAAAAAAAAAAAAAAAAAAAAAAAAAAA8P8AAAAAAADw/wAAAAAAAPD/AAAAAAAA8P8AAAAAAADw//95n1ATRNM/AAAAAAAAAAAAAAAAAADw/wAAAAAAAPD/AAAAAAAA8P8AAAAAAADw/wAAAAAAAPD/AAAAAAAA8P8AAAAAAAAAAAAAAAAAAPD/AAAAAAAA8P8AAAAAAADw/wAAAAAAAPD/AAAAAAAA8P8AAAAAAAAAAA==\",\"dtype\":\"float64\",\"shape\":[50]}},\"selected\":{\"id\":\"42865\",\"type\":\"Selection\"},\"selection_policy\":{\"id\":\"42866\",\"type\":\"UnionRenderers\"}},\"id\":\"39964\",\"type\":\"ColumnDataSource\"},{\"attributes\":{\"source\":{\"id\":\"40139\",\"type\":\"ColumnDataSource\"}},\"id\":\"40143\",\"type\":\"CDSView\"},{\"attributes\":{},\"id\":\"42787\",\"type\":\"Selection\"},{\"attributes\":{},\"id\":\"42859\",\"type\":\"Selection\"},{\"attributes\":{\"bottom\":{\"value\":0},\"fill_alpha\":{\"value\":0.1},\"fill_color\":{\"value\":\"#1f77b4\"},\"left\":{\"field\":\"left\"},\"line_alpha\":{\"value\":0.1},\"line_color\":{\"value\":\"#1f77b4\"},\"right\":{\"field\":\"right\"},\"top\":{\"field\":\"top\"}},\"id\":\"39821\",\"type\":\"Quad\"},{\"attributes\":{\"bottom\":{\"value\":0},\"fill_alpha\":{\"value\":0.05},\"fill_color\":{\"value\":\"#CB4777\"},\"left\":{\"field\":\"left\"},\"line_alpha\":{\"value\":0.05},\"line_color\":{\"value\":\"#7E03A7\"},\"right\":{\"field\":\"right\"},\"top\":{\"field\":\"top\"}},\"id\":\"39965\",\"type\":\"Quad\"},{\"attributes\":{\"source\":{\"id\":\"40104\",\"type\":\"ColumnDataSource\"}},\"id\":\"40108\",\"type\":\"CDSView\"},{\"attributes\":{\"callback\":null,\"data\":{\"left\":{\"__ndarray__\":\"YHLvnynuMz+6BxZ0pIGiP0cYdkq2bbI/sizhWpqauz+OIKY1v2PCP8Oq2z0x+sY/+TQRRqOQyz+XXyOnihPQP7IkPqvDXtI/zelYr/yp1D/nrnOzNfXWPwJ0jrduQNk/HTmpu6eL2z83/sO/4NbdP6hh7+EMEeA/NsT8Y6k24T/DJgrmRVziP1CJF2jigeM/3usk6n6n5D9rTjJsG83lP/iwP+638uY/hhNNcFQY6D8Tdlry8D3pP6DYZ3SNY+o/Ljt19imJ6z+7nYJ4xq7sP0gAkPpi1O0/1WKdfP/57j+xYlX/zQ/wP/gTXECcovA/P8VigWo18T+FdmnCOMjxP8wncAMHW/I/E9l2RNXt8j9Zin2Fo4DzP6A7hMZxE/Q/5+yKB0Cm9D8tnpFIDjn1P3RPmIncy/U/uwCfyqpe9j8BsqULefH2P0hjrExHhPc/jxSzjRUX+D/VxbnO46n4Pxx3wA+yPPk/YyjHUIDP+T+p2c2RTmL6P/CK1NIc9fo/NzzbE+uH+z997eFUuRr8Pw==\",\"dtype\":\"float64\",\"shape\":[50]},\"right\":{\"__ndarray__\":\"ugcWdKSBoj9HGHZKtm2yP7Is4Vqamrs/jiCmNb9jwj/Dqts9MfrGP/k0EUajkMs/l18jp4oT0D+yJD6rw17SP83pWK/8qdQ/565zszX11j8CdI63bkDZPx05qbuni9s/N/7Dv+DW3T+oYe/hDBHgPzbE/GOpNuE/wyYK5kVc4j9QiRdo4oHjP97rJOp+p+Q/a04ybBvN5T/4sD/ut/LmP4YTTXBUGOg/E3Za8vA96T+g2Gd0jWPqPy47dfYpies/u52CeMau7D9IAJD6YtTtP9VinXz/+e4/sWJV/80P8D/4E1xAnKLwPz/FYoFqNfE/hXZpwjjI8T/MJ3ADB1vyPxPZdkTV7fI/WYp9haOA8z+gO4TGcRP0P+fsigdApvQ/LZ6RSA459T90T5iJ3Mv1P7sAn8qqXvY/AbKlC3nx9j9IY6xMR4T3P48Us40VF/g/1cW5zuOp+D8cd8APsjz5P2Mox1CAz/k/qdnNkU5i+j/witTSHPX6Pzc82xPrh/s/fe3hVLka/D/EnuiVh638Pw==\",\"dtype\":\"float64\",\"shape\":[50]},\"top\":{\"__ndarray__\":\"7vBA62hV/D+Qto87EBj8P+/mKIyG2Ps/nwE0ApT4+z/wG18EtpD8Px8jDC6PJ/c/7rrkRdVL+D/+kAtiWBX2Px86eD/U+Pk//qd3c53m+D/uo3g0kHr1P59bUGvPJ/U/n1tQa88n9T+QnyMqy0b5P0/PC+y/dPs/7rrkRdVL+D/+6ifLk0T/P3/5myCjyfU/f7LjjVNE8T/91U+WJ4nuP3+y441TRPE//3mfUBNE4z/+Nu/4HObsPwFDsFf2XeY//3mfUBNE4z//eZ9QE0TjP/3VT5Ynid4//dVPlieJ3j/91U+WJ4neP/95n1ATROM//3mfUBNE4z//eZ9QE0TTPwAAAAAAAPD//qd3c53m6D//eZ9QE0TjP08SvEO20vE/HyMMLo8n9z8AAAAAAADwPwAAAAAAAPA/AAAAAAAAAAD91U+WJ4nePwAXbBFF0fI//3mfUBNE0z/+p3dzneboPwAAAAAAAAAA/3mfUBNE0z8AAAAAAADw/wAAAAAAAAAAAAAAAAAA8P//eZ9QE0TTPw==\",\"dtype\":\"float64\",\"shape\":[50]}},\"selected\":{\"id\":\"42937\",\"type\":\"Selection\"},\"selection_policy\":{\"id\":\"42938\",\"type\":\"UnionRenderers\"}},\"id\":\"40144\",\"type\":\"ColumnDataSource\"},{\"attributes\":{},\"id\":\"42788\",\"type\":\"UnionRenderers\"},{\"attributes\":{},\"id\":\"42860\",\"type\":\"UnionRenderers\"},{\"attributes\":{\"data_source\":{\"id\":\"39819\",\"type\":\"ColumnDataSource\"},\"glyph\":{\"id\":\"39820\",\"type\":\"Quad\"},\"hover_glyph\":null,\"muted_glyph\":null,\"nonselection_glyph\":{\"id\":\"39821\",\"type\":\"Quad\"},\"selection_glyph\":null,\"view\":{\"id\":\"39823\",\"type\":\"CDSView\"}},\"id\":\"39822\",\"type\":\"GlyphRenderer\"},{\"attributes\":{\"bottom\":{\"value\":0},\"fill_alpha\":{\"value\":0.1},\"fill_color\":{\"value\":\"#1f77b4\"},\"left\":{\"field\":\"left\"},\"line_alpha\":{\"value\":0.1},\"line_color\":{\"value\":\"#1f77b4\"},\"right\":{\"field\":\"right\"},\"top\":{\"field\":\"top\"}},\"id\":\"39966\",\"type\":\"Quad\"},{\"attributes\":{\"callback\":null,\"data\":{\"left\":{\"__ndarray__\":\"+0kqPhAVMT8g6YnaTFO0P/vTalLCSsQ/ZrOQN95rzj9oSVsOfUbUPx457gALV9k/0yiB85hn3j9EDApzE7zhPx+EU2xaROQ/+vucZaHM5j/Vc+Ze6FTpP6/rL1gv3es/imN5UXZl7j+zbWGl3nbwP6ApBiICu/E/juWqniX/8j97oU8bSUP0P2hd9Jdsh/U/VhmZFJDL9j9D1T2Rsw/4PzGR4g3XU/k/Hk2HivqX+j8LCSwHHtz7P/nE0INBIP0/5oB1AGVk/j/TPBp9iKj/P2B83/xVdgBAV9oxu2cYAUBNOIR5eboBQESW1jeLXAJAO/Qo9pz+AkAxUnu0rqADQCiwzXLAQgRAHw4gMdLkBEAVbHLv44YFQAzKxK31KAZAAygXbAfLBkD5hWkqGW0HQPDju+gqDwhA50EOpzyxCEDen2BlTlMJQNT9siNg9QlAy1sF4nGXCkDCuVeggzkLQLgXql6V2wtAr3X8HKd9DECm007buB8NQJwxoZnKwQ1Ak4/zV9xjDkCK7UUW7gUPQA==\",\"dtype\":\"float64\",\"shape\":[50]},\"right\":{\"__ndarray__\":\"IOmJ2kxTtD/702pSwkrEP2azkDfea84/aElbDn1G1D8eOe4AC1fZP9MogfOYZ94/RAwKcxO84T8fhFNsWkTkP/r7nGWhzOY/1XPmXuhU6T+v6y9YL93rP4pjeVF2Ze4/s21hpd528D+gKQYiArvxP47lqp4l//I/e6FPG0lD9D9oXfSXbIf1P1YZmRSQy/Y/Q9U9kbMP+D8xkeIN11P5Px5Nh4r6l/o/CwksBx7c+z/5xNCDQSD9P+aAdQBlZP4/0zwafYio/z9gfN/8VXYAQFfaMbtnGAFATTiEeXm6AUBEltY3i1wCQDv0KPac/gJAMVJ7tK6gA0AosM1ywEIEQB8OIDHS5ARAFWxy7+OGBUAMysSt9SgGQAMoF2wHywZA+YVpKhltB0Dw47voKg8IQOdBDqc8sQhA3p9gZU5TCUDU/bIjYPUJQMtbBeJxlwpAwrlXoIM5C0C4F6peldsLQK91/BynfQxAptNO27gfDUCcMaGZysENQJOP81fcYw5Aiu1FFu4FD0CBS5jU/6cPQA==\",\"dtype\":\"float64\",\"shape\":[50]},\"top\":{\"__ndarray__\":\"dQ/kpbTz/j/c8YNduJoAQL/OhaxzRABAbbB4Kx/u/z+ADTomT3wAQDRFhUOmTABAD/Ata8xkAEAfOng/1Pj5Px5R5FAZyvw/nrr4runA+j8fOng/1Pj5P4Ah2Cv7Lvs//qd3c53m+D9YDAJy9s35P58BNAKU+Ps/f7LjjVNE8T8/zHgLCwvrP/3VT5Ynie4//3mfUBNE0z+fW1Brzyf1PwAAAAAAAAAAAAAAAAAA8P8AAAAAAADw/wAAAAAAAAAA/3mfUBNE0z8AAAAAAAAAAAAAAAAAAAAAAAAAAAAAAAAAAAAAAADw/wAAAAAAAPD/AAAAAAAA8P8AAAAAAADw/wAAAAAAAAAAAAAAAAAA8P8AAAAAAAAAAAAAAAAAAPD/AAAAAAAAAAAAAAAAAADw/wAAAAAAAPD/AAAAAAAA8P8AAAAAAADw/wAAAAAAAAAA/qd3c53m6D//eZ9QE0TTPz/MeAsLC+s//3mfUBNE0z/91U+WJ4neP/3VT5Ynid4/AAAAAAAAAAAAAAAAAAAAAA==\",\"dtype\":\"float64\",\"shape\":[50]}},\"selected\":{\"id\":\"42923\",\"type\":\"Selection\"},\"selection_policy\":{\"id\":\"42924\",\"type\":\"UnionRenderers\"}},\"id\":\"40109\",\"type\":\"ColumnDataSource\"},{\"attributes\":{\"bottom\":{\"value\":0},\"fill_alpha\":{\"value\":0.05},\"fill_color\":{\"value\":\"#CB4777\"},\"left\":{\"field\":\"left\"},\"line_alpha\":{\"value\":0.05},\"line_color\":{\"value\":\"#7E03A7\"},\"right\":{\"field\":\"right\"},\"top\":{\"field\":\"top\"}},\"id\":\"40145\",\"type\":\"Quad\"},{\"attributes\":{},\"id\":\"42789\",\"type\":\"Selection\"},{\"attributes\":{},\"id\":\"42861\",\"type\":\"Selection\"},{\"attributes\":{\"data_source\":{\"id\":\"39964\",\"type\":\"ColumnDataSource\"},\"glyph\":{\"id\":\"39965\",\"type\":\"Quad\"},\"hover_glyph\":null,\"muted_glyph\":null,\"nonselection_glyph\":{\"id\":\"39966\",\"type\":\"Quad\"},\"selection_glyph\":null,\"view\":{\"id\":\"39968\",\"type\":\"CDSView\"}},\"id\":\"39967\",\"type\":\"GlyphRenderer\"},{\"attributes\":{\"source\":{\"id\":\"39819\",\"type\":\"ColumnDataSource\"}},\"id\":\"39823\",\"type\":\"CDSView\"},{\"attributes\":{\"bottom\":{\"value\":0},\"fill_alpha\":{\"value\":0.05},\"fill_color\":{\"value\":\"#CB4777\"},\"left\":{\"field\":\"left\"},\"line_alpha\":{\"value\":0.05},\"line_color\":{\"value\":\"#7E03A7\"},\"right\":{\"field\":\"right\"},\"top\":{\"field\":\"top\"}},\"id\":\"40110\",\"type\":\"Quad\"},{\"attributes\":{\"bottom\":{\"value\":0},\"fill_alpha\":{\"value\":0.1},\"fill_color\":{\"value\":\"#1f77b4\"},\"left\":{\"field\":\"left\"},\"line_alpha\":{\"value\":0.1},\"line_color\":{\"value\":\"#1f77b4\"},\"right\":{\"field\":\"right\"},\"top\":{\"field\":\"top\"}},\"id\":\"40146\",\"type\":\"Quad\"},{\"attributes\":{},\"id\":\"42790\",\"type\":\"UnionRenderers\"},{\"attributes\":{},\"id\":\"42862\",\"type\":\"UnionRenderers\"},{\"attributes\":{\"data_source\":{\"id\":\"40144\",\"type\":\"ColumnDataSource\"},\"glyph\":{\"id\":\"40145\",\"type\":\"Quad\"},\"hover_glyph\":null,\"muted_glyph\":null,\"nonselection_glyph\":{\"id\":\"40146\",\"type\":\"Quad\"},\"selection_glyph\":null,\"view\":{\"id\":\"40148\",\"type\":\"CDSView\"}},\"id\":\"40147\",\"type\":\"GlyphRenderer\"},{\"attributes\":{\"callback\":null,\"data\":{\"left\":{\"__ndarray__\":\"85buF0vFBj89KDP4kO+mP2oq0E647LY/WmDDENQwwT+Aqx76S+vGP6b2eePDpcw/5qBq5h0w0T95RhjbWQ3UPwzsxc+V6tY/n5FzxNHH2T8yNyG5DaXcP8Xczq1Jgt8/K0E+0cIv4T/1E5XLYJ7iP77m68X+DOQ/iLlCwJx75T9RjJm6OurmPxpf8LTYWOg/5DFHr3bH6T+tBJ6pFDbrP3fX9KOypOw/QKpLnlAT7j8KfaKY7oHvP+qnfElGePA/ThGoRpUv8T+zetND5ObxPxjk/kAznvI/fE0qPoJV8z/htlU70Qz0P0YggTggxPQ/q4msNW979T8P89cyvjL2P3RcAzAN6vY/2cUuLVyh9z89L1oqq1j4P6KYhSf6D/k/BwKxJEnH+T9sa9whmH76P9DUBx/nNfs/NT4zHDbt+z+ap14ZhaT8P/4QihbUW/0/Y3q1EyMT/j/I4+AQcsr+Py1NDA7Bgf8/SdubBYgcAED8jzGEL3gAQK5ExwLX0wBAYPlcgX4vAUATrvL/JYsBQA==\",\"dtype\":\"float64\",\"shape\":[50]},\"right\":{\"__ndarray__\":\"PSgz+JDvpj9qKtBOuOy2P1pgwxDUMME/gKse+kvrxj+m9nnjw6XMP+agauYdMNE/eUYY21kN1D8M7MXPlerWP5+Rc8TRx9k/MjchuQ2l3D/F3M6tSYLfPytBPtHCL+E/9ROVy2Ce4j++5uvF/gzkP4i5QsCce+U/UYyZujrq5j8aX/C02FjoP+QxR692x+k/rQSeqRQ26z931/SjsqTsP0CqS55QE+4/Cn2imO6B7z/qp3xJRnjwP04RqEaVL/E/s3rTQ+Tm8T8Y5P5AM57yP3xNKj6CVfM/4bZVO9EM9D9GIIE4IMT0P6uJrDVve/U/D/PXMr4y9j90XAMwDer2P9nFLi1cofc/PS9aKqtY+D+imIUn+g/5PwcCsSRJx/k/bGvcIZh++j/Q1Acf5zX7PzU+Mxw27fs/mqdeGYWk/D/+EIoW1Fv9P2N6tRMjE/4/yOPgEHLK/j8tTQwOwYH/P0nbmwWIHABA/I8xhC94AECuRMcC19MAQGD5XIF+LwFAE67y/yWLAUDFYoh+zeYBQA==\",\"dtype\":\"float64\",\"shape\":[50]},\"top\":{\"__ndarray__\":\"7+YojIbY+z/qY2tx+2X3P+ZnWBSe3Pc/ZkaA6KKt/D/PM5RvsQH9P2lZ/1ZFCP8/7ADLKyC4AEDu8EDraFX8P1gMAnL2zfk/nrr4runA+j/mZ1gUntz3P/6QC2JYFfY/l31LNeuv8z+fRORZilbyPwAXbBFF0fI/f7LjjVNE8T/91U+WJ4nuP27FUGCLqfA//jbv+Bzm7D/91U+WJ4nePwAAAAAAAPD//3mfUBNE4z//eZ9QE0TjP/3VT5Ynid4//3mfUBNE4z8/zHgLCwvrPwAAAAAAAAAA/3mfUBNE0z/91U+WJ4nePwAAAAAAAPD//dVPlieJ3j//eZ9QE0TTP/3VT5Ynid4/AAAAAAAA8P//eZ9QE0TTPwAAAAAAAAAAAUOwV/Zd5j8AAAAAAAAAAP3VT5Ynid4/AUOwV/Zd5j8AAAAAAAAAAP3VT5Ynid4/AAAAAAAAAAAAAAAAAADw/wAAAAAAAAAAAAAAAAAAAAAAAAAAAADw/wAAAAAAAAAAAAAAAAAAAAAAAAAAAAAAAA==\",\"dtype\":\"float64\",\"shape\":[50]}},\"selected\":{\"id\":\"42809\",\"type\":\"Selection\"},\"selection_policy\":{\"id\":\"42810\",\"type\":\"UnionRenderers\"}},\"id\":\"39824\",\"type\":\"ColumnDataSource\"},{\"attributes\":{\"source\":{\"id\":\"39964\",\"type\":\"ColumnDataSource\"}},\"id\":\"39968\",\"type\":\"CDSView\"},{\"attributes\":{\"bottom\":{\"value\":0},\"fill_alpha\":{\"value\":0.1},\"fill_color\":{\"value\":\"#1f77b4\"},\"left\":{\"field\":\"left\"},\"line_alpha\":{\"value\":0.1},\"line_color\":{\"value\":\"#1f77b4\"},\"right\":{\"field\":\"right\"},\"top\":{\"field\":\"top\"}},\"id\":\"40111\",\"type\":\"Quad\"},{\"attributes\":{},\"id\":\"42791\",\"type\":\"Selection\"},{\"attributes\":{},\"id\":\"42863\",\"type\":\"Selection\"},{\"attributes\":{\"data_source\":{\"id\":\"40109\",\"type\":\"ColumnDataSource\"},\"glyph\":{\"id\":\"40110\",\"type\":\"Quad\"},\"hover_glyph\":null,\"muted_glyph\":null,\"nonselection_glyph\":{\"id\":\"40111\",\"type\":\"Quad\"},\"selection_glyph\":null,\"view\":{\"id\":\"40113\",\"type\":\"CDSView\"}},\"id\":\"40112\",\"type\":\"GlyphRenderer\"},{\"attributes\":{\"bottom\":{\"value\":0},\"fill_alpha\":{\"value\":0.05},\"fill_color\":{\"value\":\"#CB4777\"},\"left\":{\"field\":\"left\"},\"line_alpha\":{\"value\":0.05},\"line_color\":{\"value\":\"#7E03A7\"},\"right\":{\"field\":\"right\"},\"top\":{\"field\":\"top\"}},\"id\":\"39825\",\"type\":\"Quad\"},{\"attributes\":{\"callback\":null,\"data\":{\"left\":{\"__ndarray__\":\"Sd85uJXFFj9ikvlOY4ClP+qDi+mxerU/Uh/NFZkawD+ufNQ22XfFPwra21cZ1co/tJtxvCwZ0D9iSvXMzMfSPxD5eN1sdtU/vqf87Qwl2D9sVoD+rNPaPxsFBA9Ngt0/5dnDj3YY4D88sQWYxm/hP5OIR6AWx+I/6l+JqGYe5D9BN8uwtnXlP5gODbkGzeY/7+VOwVYk6D9GvZDJpnvpP52U0tH20uo/9WsU2kYq7D9MQ1biloHtP6MamOrm2O4//fhseRsY8D+o5I19w8PwP1TQroFrb/E//7vPhRMb8j+rp/CJu8byP1aTEY5jcvM/An8ykgse9D+talOWs8n0P1lWdJpbdfU/BUKVngMh9j+wLbaiq8z2P1wZ16ZTePc/BwX4qvsj+D+z8Bivo8/4P17cObNLe/k/Cshat/Mm+j+1s3u7m9L6P2GfnL9Dfvs/DYu9w+sp/D+4dt7Hk9X8P2Ri/8s7gf0/D04g0OMs/j+7OUHUi9j+P2YlYtgzhP8/iohB7u0XAEBf/lHwwW0AQA==\",\"dtype\":\"float64\",\"shape\":[50]},\"right\":{\"__ndarray__\":\"YpL5TmOApT/qg4vpsXq1P1IfzRWZGsA/rnzUNtl3xT8K2ttXGdXKP7SbcbwsGdA/Ykr1zMzH0j8Q+XjdbHbVP76n/O0MJdg/bFaA/qzT2j8bBQQPTYLdP+XZw492GOA/PLEFmMZv4T+TiEegFsfiP+pfiahmHuQ/QTfLsLZ15T+YDg25Bs3mP+/lTsFWJOg/Rr2QyaZ76T+dlNLR9tLqP/VrFNpGKuw/TENW4paB7T+jGpjq5tjuP/34bHkbGPA/qOSNfcPD8D9U0K6Ba2/xP/+7z4UTG/I/q6fwibvG8j9WkxGOY3LzPwJ/MpILHvQ/rWpTlrPJ9D9ZVnSaW3X1PwVClZ4DIfY/sC22oqvM9j9cGdemU3j3PwcF+Kr7I/g/s/AYr6PP+D9e3DmzS3v5PwrIWrfzJvo/tbN7u5vS+j9hn5y/Q377Pw2LvcPrKfw/uHbex5PV/D9kYv/LO4H9Pw9OINDjLP4/uzlB1IvY/j9mJWLYM4T/P4qIQe7tFwBAX/5R8MFtAEA1dGLylcMAQA==\",\"dtype\":\"float64\",\"shape\":[50]},\"top\":{\"__ndarray__\":\"RHpTS6KW+z+euviu6cD6P4Bg5rBaF/k/ZkaA6KKt/D8XXHMJ8ID4P84HUCkAdfk/5mdYFJ7c9z+gh5SxgLT4P+665EXVS/g/7qN4NJB69T9/+Zsgo8n1P5d9SzXrr/M/ABdsEUXR8j8AF2wRRdHyP+pja3H7Zfc/n0TkWYpW8j+XfUs166/zP27FUGCLqfA/7qN4NJB69T+XfUs166/zP27FUGCLqfA/AAAAAAAA8D8AF2wRRdHyP3+y441TRPE//dVPlieJ3j/+p3dzneboP/95n1ATRNM//3mfUBNE0z8AAAAAAADw/wAAAAAAAPD/AAAAAAAA8P//eZ9QE0TTPwAAAAAAAPD/AAAAAAAA8P8AAAAAAAAAAAAAAAAAAPD/AAAAAAAA8P8AAAAAAADw/wAAAAAAAAAAAAAAAAAA8P8AAAAAAADw/wAAAAAAAPD/AAAAAAAA8P8AAAAAAADw/wAAAAAAAAAAAAAAAAAA8P8AAAAAAADw/wAAAAAAAPD/AAAAAAAA8P8AAAAAAAAAAA==\",\"dtype\":\"float64\",\"shape\":[50]}},\"selected\":{\"id\":\"42867\",\"type\":\"Selection\"},\"selection_policy\":{\"id\":\"42868\",\"type\":\"UnionRenderers\"}},\"id\":\"39969\",\"type\":\"ColumnDataSource\"},{\"attributes\":{\"source\":{\"id\":\"40144\",\"type\":\"ColumnDataSource\"}},\"id\":\"40148\",\"type\":\"CDSView\"},{\"attributes\":{},\"id\":\"42792\",\"type\":\"UnionRenderers\"},{\"attributes\":{},\"id\":\"42864\",\"type\":\"UnionRenderers\"},{\"attributes\":{\"bottom\":{\"value\":0},\"fill_alpha\":{\"value\":0.1},\"fill_color\":{\"value\":\"#1f77b4\"},\"left\":{\"field\":\"left\"},\"line_alpha\":{\"value\":0.1},\"line_color\":{\"value\":\"#1f77b4\"},\"right\":{\"field\":\"right\"},\"top\":{\"field\":\"top\"}},\"id\":\"39826\",\"type\":\"Quad\"},{\"attributes\":{\"bottom\":{\"value\":0},\"fill_alpha\":{\"value\":0.05},\"fill_color\":{\"value\":\"#CB4777\"},\"left\":{\"field\":\"left\"},\"line_alpha\":{\"value\":0.05},\"line_color\":{\"value\":\"#7E03A7\"},\"right\":{\"field\":\"right\"},\"top\":{\"field\":\"top\"}},\"id\":\"39970\",\"type\":\"Quad\"},{\"attributes\":{\"source\":{\"id\":\"40109\",\"type\":\"ColumnDataSource\"}},\"id\":\"40113\",\"type\":\"CDSView\"},{\"attributes\":{\"callback\":null,\"data\":{\"left\":{\"__ndarray__\":\"ajXH8B+fYz+EsmIuLOutP9h43C4zTr0/OMxDI2jTxT8DXBmvtv/MP+d1d50CFtI/zT1i4yms1T+yBU0pUULZP5jNN2942Nw/vkqR2k834D+xroZ9YwLiP6QSfCB3zeM/l3Zxw4qY5T+K2mZmnmPnP3w+XAmyLuk/b6JRrMX56j9iBkdP2cTsP1VqPPLsj+4/JOeYSoAt8D8emRMcChPxPxdLju2T+PE/Ef0Ivx3e8j8Kr4OQp8PzPwNh/mExqfQ//RJ5M7uO9T/2xPMERXT2P/B2btbOWfc/6Sjpp1g/+D/i2mN54iT5P9yM3kpsCvo/1T5ZHPbv+j/P8NPtf9X7P8iiTr8Ju/w/wVTJkJOg/T+7BkRiHYb+P7S4vjOna/8/VrWcgpgoAEBTDlprXZsAQFBnF1QiDgFATMDUPOeAAUBJGZIlrPMBQEZyTw5xZgJAQ8sM9zXZAkA/JMrf+ksDQDx9h8i/vgNAOdZEsYQxBEA1LwKaSaQEQDKIv4IOFwVAL+F8a9OJBUArOjpUmPwFQA==\",\"dtype\":\"float64\",\"shape\":[50]},\"right\":{\"__ndarray__\":\"hLJiLizrrT/YeNwuM069PzjMQyNo08U/A1wZr7b/zD/ndXedAhbSP809YuMprNU/sgVNKVFC2T+YzTdveNjcP75KkdpPN+A/sa6GfWMC4j+kEnwgd83jP5d2ccOKmOU/itpmZp5j5z98PlwJsi7pP2+iUazF+eo/YgZHT9nE7D9Vajzy7I/uPyTnmEqALfA/HpkTHAoT8T8XS47tk/jxPxH9CL8d3vI/Cq+DkKfD8z8DYf5hMan0P/0SeTO7jvU/9sTzBEV09j/wdm7Wzln3P+ko6adYP/g/4tpjeeIk+T/cjN5KbAr6P9U+WRz27/o/z/DT7X/V+z/Iok6/Cbv8P8FUyZCToP0/uwZEYh2G/j+0uL4zp2v/P1a1nIKYKABAUw5aa12bAEBQZxdUIg4BQEzA1DzngAFASRmSJazzAUBGck8OcWYCQEPLDPc12QJAPyTK3/pLA0A8fYfIv74DQDnWRLGEMQRANS8CmkmkBEAyiL+CDhcFQC/hfGvTiQVAKzo6VJj8BUAok/c8XW8GQA==\",\"dtype\":\"float64\",\"shape\":[50]},\"top\":{\"__ndarray__\":\"/qd3c53m+D+fATQClPj7P26ZDBraHP0/kJ8jKstG+T+A3ifUBNH0P39YxyQYFfg//pALYlgV9j/uo3g0kHr1P/95n1ATRPM/ABdsEUXR8j+fW1Brzyf1P38MAPeOc/o//9fD9Kea+j+gh5SxgLT4PxDB+1XGdfQ/l31LNeuv8z8AF2wRRdHyP/95n1ATROM/AAAAAAAAAAAAAAAAAAAAAP95n1ATRNM//dVPlieJ3j8AAAAAAAAAAP95n1ATROM/P8x4CwsL6z8/zHgLCwvrP/95n1ATRNM//3mfUBNE4z//eZ9QE0TTPwAAAAAAAAAA/3mfUBNE4z/+p3dzneboP/95n1ATRNM/AUOwV/Zd5j8AAAAAAAAAAAFDsFf2XeY/AAAAAAAA8P8AAAAAAADw/wAAAAAAAAAAAAAAAAAAAAD/eZ9QE0TjP/95n1ATRNM/AAAAAAAAAAAAAAAAAADw//95n1ATRNM/AAAAAAAAAAD/eZ9QE0TTPwAAAAAAAAAAAAAAAAAA8P8AAAAAAAAAAA==\",\"dtype\":\"float64\",\"shape\":[50]}},\"selected\":{\"id\":\"42939\",\"type\":\"Selection\"},\"selection_policy\":{\"id\":\"42940\",\"type\":\"UnionRenderers\"}},\"id\":\"40149\",\"type\":\"ColumnDataSource\"},{\"attributes\":{},\"id\":\"42793\",\"type\":\"Selection\"},{\"attributes\":{},\"id\":\"42865\",\"type\":\"Selection\"},{\"attributes\":{\"data_source\":{\"id\":\"39824\",\"type\":\"ColumnDataSource\"},\"glyph\":{\"id\":\"39825\",\"type\":\"Quad\"},\"hover_glyph\":null,\"muted_glyph\":null,\"nonselection_glyph\":{\"id\":\"39826\",\"type\":\"Quad\"},\"selection_glyph\":null,\"view\":{\"id\":\"39828\",\"type\":\"CDSView\"}},\"id\":\"39827\",\"type\":\"GlyphRenderer\"},{\"attributes\":{\"bottom\":{\"value\":0},\"fill_alpha\":{\"value\":0.1},\"fill_color\":{\"value\":\"#1f77b4\"},\"left\":{\"field\":\"left\"},\"line_alpha\":{\"value\":0.1},\"line_color\":{\"value\":\"#1f77b4\"},\"right\":{\"field\":\"right\"},\"top\":{\"field\":\"top\"}},\"id\":\"39971\",\"type\":\"Quad\"},{\"attributes\":{\"callback\":null,\"data\":{\"left\":{\"__ndarray__\":\"AAAAAAAAAAAliEfYQOivPyWIR9hA6L8/HKY1ojDuxz8liEfYQOjPPxe1LIco8dM/HKY1ojDu1z8glz69OOvbPyWIR9hA6N8/lTyoeaTy4T8XtSyHKPHjP5ktsZSs7+U/HKY1ojDu5z+eHrqvtOzpPyCXPr046+s/ow/Dyrzp7T8liEfYQOjvP1QA5nJi8/A/lTyoeaTy8T/WeGqA5vHyPxe1LIco8fM/WPHujWrw9D+ZLbGUrO/1P9tpc5vu7vY/HKY1ojDu9z9d4veocu34P54euq+07Pk/31p8tvbr+j8glz69OOv7P2LTAMR66vw/ow/Dyrzp/T/kS4XR/uj+PyWIR9hA6P8/M+KEb8FzAEBUAOZyYvMAQHQeR3YDcwFAlTyoeaTyAUC1Wgl9RXICQNZ4aoDm8QJA95bLg4dxA0AXtSyHKPEDQDjTjYrJcARAWPHujWrwBEB5D1CRC3AFQJktsZSs7wVAuksSmE1vBkDbaXOb7u4GQPuH1J6PbgdAHKY1ojDuB0A8xJal0W0IQA==\",\"dtype\":\"float64\",\"shape\":[50]},\"right\":{\"__ndarray__\":\"JYhH2EDorz8liEfYQOi/PxymNaIw7sc/JYhH2EDozz8XtSyHKPHTPxymNaIw7tc/IJc+vTjr2z8liEfYQOjfP5U8qHmk8uE/F7Ushyjx4z+ZLbGUrO/lPxymNaIw7uc/nh66r7Ts6T8glz69OOvrP6MPw8q86e0/JYhH2EDo7z9UAOZyYvPwP5U8qHmk8vE/1nhqgObx8j8XtSyHKPHzP1jx7o1q8PQ/mS2xlKzv9T/baXOb7u72PxymNaIw7vc/XeL3qHLt+D+eHrqvtOz5P99afLb26/o/IJc+vTjr+z9i0wDEeur8P6MPw8q86f0/5EuF0f7o/j8liEfYQOj/PzPihG/BcwBAVADmcmLzAEB0Hkd2A3MBQJU8qHmk8gFAtVoJfUVyAkDWeGqA5vECQPeWy4OHcQNAF7UshyjxA0A4042KyXAEQFjx7o1q8ARAeQ9QkQtwBUCZLbGUrO8FQLpLEphNbwZA22lzm+7uBkD7h9Sej24HQBymNaIw7gdAPMSWpdFtCEBd4veocu0IQA==\",\"dtype\":\"float64\",\"shape\":[50]},\"top\":{\"__ndarray__\":\"1SlD1jORAUBA7xNqgmgCQJHi04HBpP8//r7jhOK3+z/+p3dzneb4P6CHlLGAtPg/7qN4NJB69T+AYOawWhf5P3/5myCjyfU/l31LNeuv8z+fRORZilbyP08SvEO20vE/bsVQYIup8D9/suONU0TxP/95n1ATROM/AAAAAAAAAAAAAAAAAADw//95n1ATROM//3mfUBNE4z8AAAAAAAAAAP3VT5Ynid4//3mfUBNE0z//eZ9QE0TjP3+y441TRPE/f/mbIKPJ9T+fRORZilbyPz/MeAsLC+s/fslPn5gV9D9PErxDttLxP/95n1ATRNM/AAAAAAAAAAD/eZ9QE0TTPwAAAAAAAPD/AAAAAAAA8P//eZ9QE0TTPwAAAAAAAPD/AAAAAAAA8P8AAAAAAAAAAAAAAAAAAPD/AAAAAAAAAAAAAAAAAAAAAAAAAAAAAPD/AAAAAAAA8P8AAAAAAADw/wAAAAAAAPD/AAAAAAAA8P8AAAAAAADw/wAAAAAAAPD/AAAAAAAA8P8AAAAAAAAAAA==\",\"dtype\":\"float64\",\"shape\":[50]}},\"selected\":{\"id\":\"42925\",\"type\":\"Selection\"},\"selection_policy\":{\"id\":\"42926\",\"type\":\"UnionRenderers\"}},\"id\":\"40114\",\"type\":\"ColumnDataSource\"},{\"attributes\":{\"bottom\":{\"value\":0},\"fill_alpha\":{\"value\":0.05},\"fill_color\":{\"value\":\"#CB4777\"},\"left\":{\"field\":\"left\"},\"line_alpha\":{\"value\":0.05},\"line_color\":{\"value\":\"#7E03A7\"},\"right\":{\"field\":\"right\"},\"top\":{\"field\":\"top\"}},\"id\":\"40150\",\"type\":\"Quad\"},{\"attributes\":{},\"id\":\"42794\",\"type\":\"UnionRenderers\"},{\"attributes\":{},\"id\":\"42866\",\"type\":\"UnionRenderers\"},{\"attributes\":{\"data_source\":{\"id\":\"39969\",\"type\":\"ColumnDataSource\"},\"glyph\":{\"id\":\"39970\",\"type\":\"Quad\"},\"hover_glyph\":null,\"muted_glyph\":null,\"nonselection_glyph\":{\"id\":\"39971\",\"type\":\"Quad\"},\"selection_glyph\":null,\"view\":{\"id\":\"39973\",\"type\":\"CDSView\"}},\"id\":\"39972\",\"type\":\"GlyphRenderer\"},{\"attributes\":{\"source\":{\"id\":\"39824\",\"type\":\"ColumnDataSource\"}},\"id\":\"39828\",\"type\":\"CDSView\"},{\"attributes\":{\"bottom\":{\"value\":0},\"fill_alpha\":{\"value\":0.05},\"fill_color\":{\"value\":\"#CB4777\"},\"left\":{\"field\":\"left\"},\"line_alpha\":{\"value\":0.05},\"line_color\":{\"value\":\"#7E03A7\"},\"right\":{\"field\":\"right\"},\"top\":{\"field\":\"top\"}},\"id\":\"40115\",\"type\":\"Quad\"},{\"attributes\":{\"bottom\":{\"value\":0},\"fill_alpha\":{\"value\":0.1},\"fill_color\":{\"value\":\"#1f77b4\"},\"left\":{\"field\":\"left\"},\"line_alpha\":{\"value\":0.1},\"line_color\":{\"value\":\"#1f77b4\"},\"right\":{\"field\":\"right\"},\"top\":{\"field\":\"top\"}},\"id\":\"40151\",\"type\":\"Quad\"},{\"attributes\":{},\"id\":\"42939\",\"type\":\"Selection\"},{\"attributes\":{\"callback\":null,\"data\":{\"left\":{\"__ndarray__\":\"Ya6gaEhgWj+/dXbAbI6wP2I0pS+sWcA/5S0P/yFsyD+zkzznSz/QP3SQ8c6GSNQ/No2mtsFR2D/3iVue/FrcP1xDCMMbMuA/vcHiNrk24j8dQL2qVjvkP36+lx70P+Y/3zxykpFE6D8/u0wGL0nqP6A5J3rMTew/ALgB7mlS7j8xG+6wgyvwP2Fa22rSLfE/kpnIJCEw8j/C2LXebzLzP/IXo5i+NPQ/I1eQUg039T9Tln0MXDn2P4PVasaqO/c/tBRYgPk9+D/kU0U6SED5PxSTMvSWQvo/RNIfruVE+z91EQ1oNEf8P6VQ+iGDSf0/1Y/n29FL/j8Gz9SVIE7/PxsH4ac3KABAs6bXBF+pAEBLRs5hhioBQOPlxL6tqwFAfIW7G9UsAkAUJbJ4/K0CQKzEqNUjLwNARGSfMkuwA0DcA5aPcjEEQHSjjOyZsgRADUODScEzBUCl4nmm6LQFQD2CcAMQNgZA1SFnYDe3BkBtwV29XjgHQAVhVBqGuQdAngBLd606CEA2oEHU1LsIQA==\",\"dtype\":\"float64\",\"shape\":[50]},\"right\":{\"__ndarray__\":\"v3V2wGyOsD9iNKUvrFnAP+UtD/8hbMg/s5M850s/0D90kPHOhkjUPzaNprbBUdg/94lbnvxa3D9cQwjDGzLgP73B4ja5NuI/HUC9qlY75D9+vpce9D/mP988cpKRROg/P7tMBi9J6j+gOSd6zE3sPwC4Ae5pUu4/MRvusIMr8D9hWttq0i3xP5KZyCQhMPI/wti13m8y8z/yF6OYvjT0PyNXkFINN/U/U5Z9DFw59j+D1WrGqjv3P7QUWID5Pfg/5FNFOkhA+T8UkzL0lkL6P0TSH67lRPs/dRENaDRH/D+lUPohg0n9P9WP59vRS/4/Bs/UlSBO/z8bB+GnNygAQLOm1wRfqQBAS0bOYYYqAUDj5cS+rasBQHyFuxvVLAJAFCWyePytAkCsxKjVIy8DQERknzJLsANA3AOWj3IxBEB0o4zsmbIEQA1Dg0nBMwVApeJ5pui0BUA9gnADEDYGQNUhZ2A3twZAbcFdvV44B0AFYVQahrkHQJ4AS3etOghANqBB1NS7CEDOPzgx/DwJQA==\",\"dtype\":\"float64\",\"shape\":[50]},\"top\":{\"__ndarray__\":\"f5t3fA5z/j+/zoWsc0QAQIjg/SrjOgJAgAu2iKJoAUDwG18EtpD8Px8jDC6PJ/c/5mdYFJ7c9z8AvU+oCaL5P26CoAiVS/o//9O7uU5z/D8AvU+oCaL5Py5lWjaaN/0/F1xzCfCA+D+fRORZilbyP3+y441TRPE/AAAAAAAA8D9/suONU0TxP/427/gc5uw/TxK8Q7bS8T9PErxDttLxP37gu7Dd5vY/6mNrcftl9z+fRORZilbyPz/MeAsLC+s//dVPlieJ7j/+Nu/4HObsPz/MeAsLC+s//qd3c53m6D8BQ7BX9l3mP/3VT5Ynid4//dVPlieJ3j//eZ9QE0TjP/95n1ATRNM/AUOwV/Zd5j8AAAAAAAAAAP6nd3Od5ug//3mfUBNE0z//eZ9QE0TTPwAAAAAAAPD/AAAAAAAA8P//eZ9QE0TTP/3VT5Ynid4//qd3c53m6D8AAAAAAADw//95n1ATRNM//3mfUBNE0z8AAAAAAADw/wAAAAAAAPD/AAAAAAAA8P8AAAAAAAAAAA==\",\"dtype\":\"float64\",\"shape\":[50]}},\"selected\":{\"id\":\"42883\",\"type\":\"Selection\"},\"selection_policy\":{\"id\":\"42884\",\"type\":\"UnionRenderers\"}},\"id\":\"40009\",\"type\":\"ColumnDataSource\"},{\"attributes\":{\"source\":{\"id\":\"40184\",\"type\":\"ColumnDataSource\"}},\"id\":\"40188\",\"type\":\"CDSView\"},{\"attributes\":{},\"id\":\"42940\",\"type\":\"UnionRenderers\"},{\"attributes\":{\"source\":{\"id\":\"40009\",\"type\":\"ColumnDataSource\"}},\"id\":\"40013\",\"type\":\"CDSView\"},{\"attributes\":{\"callback\":null,\"data\":{\"left\":{\"__ndarray__\":\"20vdbZSgOT/csBd9tW6vP5DTqegUVb8/WedjiWd5xz/q5HKeREjPPz3xwNmQi9M/BnBIZP9y1z/P7s/ubVrbP5dtV3ncQd8/L3bvgaWU4T+TNTPHXIjjP/j0dgwUfOU/XLS6Uctv5z/Ac/6WgmPpPyUzQtw5V+s/ifKFIfFK7T/tsclmqD7vP6m4BtYvmfA/W5ioeAuT8T8NeEob54zyP79X7L3ChvM/cjeOYJ6A9D8kFzADenr1P9b20aVVdPY/iNZzSDFu9z86thXrDGj4P+yVt43oYfk/nnVZMMRb+j9RVfvSn1X7PwM1nXV7T/w/tRQ/GFdJ/T9n9OC6MkP+PxnUgl0OPf8/5VkSAHUbAEC+SWPRYpgAQJc5tKJQFQFAcCkFdD6SAUBJGVZFLA8CQCIJpxYajAJA+/j35wcJA0DU6Ei59YUDQK7YmYrjAgRAh8jqW9F/BEBguDstv/wEQDmojP6seQVAEpjdz5r2BUDrhy6hiHMGQMR3f3J28AZAnWfQQ2RtB0B2VyEVUuoHQA==\",\"dtype\":\"float64\",\"shape\":[50]},\"right\":{\"__ndarray__\":\"3LAXfbVurz+Q06noFFW/P1nnY4lnecc/6uRynkRIzz898cDZkIvTPwZwSGT/ctc/z+7P7m1a2z+XbVd53EHfPy9274GllOE/kzUzx1yI4z/49HYMFHzlP1y0ulHLb+c/wHP+loJj6T8lM0LcOVfrP4nyhSHxSu0/7bHJZqg+7z+puAbWL5nwP1uYqHgLk/E/DXhKG+eM8j+/V+y9wobzP3I3jmCegPQ/JBcwA3p69T/W9tGlVXT2P4jWc0gxbvc/OrYV6wxo+D/slbeN6GH5P551WTDEW/o/UVX70p9V+z8DNZ11e0/8P7UUPxhXSf0/Z/TgujJD/j8Z1IJdDj3/P+VZEgB1GwBAvklj0WKYAECXObSiUBUBQHApBXQ+kgFASRlWRSwPAkAiCacWGowCQPv49+cHCQNA1OhIufWFA0Cu2JmK4wIEQIfI6lvRfwRAYLg7Lb/8BEA5qIz+rHkFQBKY3c+a9gVA64cuoYhzBkDEd39ydvAGQJ1n0ENkbQdAdlchFVLqB0BPR3LmP2cIQA==\",\"dtype\":\"float64\",\"shape\":[50]},\"top\":{\"__ndarray__\":\"v4qL5pDbAECuPSJnShoAQI4rDeYQL/4/D/Ata8xkAED91U+WJ4n+P2pCk0UAN/w//r7jhOK3+z9O5nf9BEb+P36Gn0eit/0//k1bCmK3/z/P8OMXu6P2P5d9SzXrr/M/AAAAAAAA8D9uxVBgi6nwP3+y441TRPE/P8x4CwsL6z9uxVBgi6nwP/6nd3Od5ug//dVPlieJ3j/91U+WJ4nuP/95n1ATRNM//3mfUBNE0z//eZ9QE0TTP/95n1ATRNM//3mfUBNE0z8BQ7BX9l3mPwAAAAAAAPD//3mfUBNE0z//eZ9QE0TTP/95n1ATRNM/AAAAAAAAAAD/eZ9QE0TTPwAAAAAAAAAAAAAAAAAA8P8AAAAAAADw/wAAAAAAAPD/AAAAAAAA8P8AAAAAAAAAAAAAAAAAAPD/AAAAAAAA8P8AAAAAAADw/wAAAAAAAPD/AAAAAAAA8P8AAAAAAADw/wAAAAAAAPD/AAAAAAAA8P8AAAAAAADw/wAAAAAAAPD/AAAAAAAA8P8AAAAAAAAAAA==\",\"dtype\":\"float64\",\"shape\":[50]}},\"selected\":{\"id\":\"42955\",\"type\":\"Selection\"},\"selection_policy\":{\"id\":\"42956\",\"type\":\"UnionRenderers\"}},\"id\":\"40189\",\"type\":\"ColumnDataSource\"},{\"attributes\":{},\"id\":\"42941\",\"type\":\"Selection\"},{\"attributes\":{\"data_source\":{\"id\":\"40009\",\"type\":\"ColumnDataSource\"},\"glyph\":{\"id\":\"40010\",\"type\":\"Quad\"},\"hover_glyph\":null,\"muted_glyph\":null,\"nonselection_glyph\":{\"id\":\"40011\",\"type\":\"Quad\"},\"selection_glyph\":null,\"view\":{\"id\":\"40013\",\"type\":\"CDSView\"}},\"id\":\"40012\",\"type\":\"GlyphRenderer\"},{\"attributes\":{\"bottom\":{\"value\":0},\"fill_alpha\":{\"value\":0.05},\"fill_color\":{\"value\":\"#CB4777\"},\"left\":{\"field\":\"left\"},\"line_alpha\":{\"value\":0.05},\"line_color\":{\"value\":\"#7E03A7\"},\"right\":{\"field\":\"right\"},\"top\":{\"field\":\"top\"}},\"id\":\"40190\",\"type\":\"Quad\"},{\"attributes\":{},\"id\":\"42942\",\"type\":\"UnionRenderers\"},{\"attributes\":{\"bottom\":{\"value\":0},\"fill_alpha\":{\"value\":0.1},\"fill_color\":{\"value\":\"#1f77b4\"},\"left\":{\"field\":\"left\"},\"line_alpha\":{\"value\":0.1},\"line_color\":{\"value\":\"#1f77b4\"},\"right\":{\"field\":\"right\"},\"top\":{\"field\":\"top\"}},\"id\":\"40011\",\"type\":\"Quad\"},{\"attributes\":{\"bottom\":{\"value\":0},\"fill_alpha\":{\"value\":0.1},\"fill_color\":{\"value\":\"#1f77b4\"},\"left\":{\"field\":\"left\"},\"line_alpha\":{\"value\":0.1},\"line_color\":{\"value\":\"#1f77b4\"},\"right\":{\"field\":\"right\"},\"top\":{\"field\":\"top\"}},\"id\":\"40191\",\"type\":\"Quad\"},{\"attributes\":{},\"id\":\"42943\",\"type\":\"Selection\"},{\"attributes\":{\"data_source\":{\"id\":\"40189\",\"type\":\"ColumnDataSource\"},\"glyph\":{\"id\":\"40190\",\"type\":\"Quad\"},\"hover_glyph\":null,\"muted_glyph\":null,\"nonselection_glyph\":{\"id\":\"40191\",\"type\":\"Quad\"},\"selection_glyph\":null,\"view\":{\"id\":\"40193\",\"type\":\"CDSView\"}},\"id\":\"40192\",\"type\":\"GlyphRenderer\"},{\"attributes\":{\"bottom\":{\"value\":0},\"fill_alpha\":{\"value\":0.05},\"fill_color\":{\"value\":\"#CB4777\"},\"left\":{\"field\":\"left\"},\"line_alpha\":{\"value\":0.05},\"line_color\":{\"value\":\"#7E03A7\"},\"right\":{\"field\":\"right\"},\"top\":{\"field\":\"top\"}},\"id\":\"40010\",\"type\":\"Quad\"},{\"attributes\":{},\"id\":\"42944\",\"type\":\"UnionRenderers\"},{\"attributes\":{\"callback\":null,\"data\":{\"left\":{\"__ndarray__\":\"YHLvnynuMz+JV6gC4NSmPxZoCNnxwLY/NFJe2LkLwT9dcDjE+rbGP4aOErA7Ysw/WFb2Tb4G0T9tZePDXtzTP4F00Dn/sdY/lYO9r5+H2T+qkqolQF3cP7+hl5vgMt8/aVjCiEAE4T/z37jDEG/iP35nr/7g2eM/CO+lObFE5T+Sdpx0ga/mPxz+kq9RGug/poWJ6iGF6T8xDYAl8u/qP7uUdmDCWuw/RRxtm5LF7T/Qo2PWYjDvP60VrYiZTfA/clkopgED8T83naPDabjxP/zgHuHRbfI/wSSa/jkj8z+HaBUcotjzP0yskDkKjvQ/EfALV3JD9T/WM4d02vj1P5t3ApJCrvY/YLt9r6pj9z8l//jMEhn4P+pCdOp6zvg/r4bvB+OD+T91ymolSzn6PzoO5kKz7vo//1FhYBuk+z/Eldx9g1n8P4nZV5vrDv0/Th3TuFPE/T8TYU7Wu3n+P9mkyfMjL/8/nuhEEYzk/z8yFmAX+kwAQBS4HSaupwBA91nbNGICAUDa+5hDFl0BQA==\",\"dtype\":\"float64\",\"shape\":[50]},\"right\":{\"__ndarray__\":\"iVeoAuDUpj8WaAjZ8cC2PzRSXti5C8E/XXA4xPq2xj+GjhKwO2LMP1hW9k2+BtE/bWXjw17c0z+BdNA5/7HWP5WDva+fh9k/qpKqJUBd3D+/oZeb4DLfP2lYwohABOE/89+4wxBv4j9+Z6/+4NnjPwjvpTmxROU/knacdIGv5j8c/pKvURroP6aFieohhek/MQ2AJfLv6j+7lHZgwlrsP0UcbZuSxe0/0KNj1mIw7z+tFa2ImU3wP3JZKKYBA/E/N52jw2m48T/84B7h0W3yP8Ekmv45I/M/h2gVHKLY8z9MrJA5Co70PxHwC1dyQ/U/1jOHdNr49T+bdwKSQq72P2C7fa+qY/c/Jf/4zBIZ+D/qQnTqes74P6+G7wfjg/k/dcpqJUs5+j86DuZCs+76P/9RYWAbpPs/xJXcfYNZ/D+J2Veb6w79P04d07hTxP0/E2FO1rt5/j/ZpMnzIy//P57oRBGM5P8/MhZgF/pMAEAUuB0mrqcAQPdZ2zRiAgFA2vuYQxZdAUC8nVZSyrcBQA==\",\"dtype\":\"float64\",\"shape\":[50]},\"top\":{\"__ndarray__\":\"GJ8jYebe/j/+TVsKYrf/P4ANOiZPfABA2ZrTOou0/j/PM5RvsQH9Pz/MeAsLC/s/zzOUb7EB/T+AOEQ9QAD+PwC9T6gJovk/nwE0ApT4+z8/zHgLCwv7P+6jeDSQevU/fslPn5gV9D8AAAAAAADwPwAXbBFF0fI/P8x4CwsL+z8BQ7BX9l32P/95n1ATRPM//3mfUBNE8z//eZ9QE0TTPxDB+1XGdfQ/bsVQYIup8D+XfUs166/zPxDB+1XGdfQ/fslPn5gV9D8BQ7BX9l3mP/3VT5Ynid4/AAAAAAAAAAAAAAAAAAAAAP3VT5Ynid4//3mfUBNE0z//eZ9QE0TTP/6nd3Od5ug//qd3c53m6D/+p3dzneboPz/MeAsLC+s/AAAAAAAA8D8BQ7BX9l3mP/6nd3Od5ug/AAAAAAAAAAD91U+WJ4neP/6nd3Od5ug//qd3c53m6D8AAAAAAADw//95n1ATRNM/AAAAAAAA8P8AAAAAAADw/wAAAAAAAAAAAAAAAAAA8P//eZ9QE0TTPw==\",\"dtype\":\"float64\",\"shape\":[50]}},\"selected\":{\"id\":\"42885\",\"type\":\"Selection\"},\"selection_policy\":{\"id\":\"42886\",\"type\":\"UnionRenderers\"}},\"id\":\"40014\",\"type\":\"ColumnDataSource\"},{\"attributes\":{\"source\":{\"id\":\"40189\",\"type\":\"ColumnDataSource\"}},\"id\":\"40193\",\"type\":\"CDSView\"},{\"attributes\":{},\"id\":\"42945\",\"type\":\"Selection\"},{\"attributes\":{\"callback\":null,\"data\":{\"left\":{\"__ndarray__\":\"YHLvnynuMz/Y8+4E4WSsP2UET9vyULw/b0cTmro3xT+sDH/G+0bMP/VodXkeq9E/k0urD78y1T8yLuGlX7rYP9AQFzwAQtw/bvNM0qDJ3z8Ga0G0oKjhP1VcXP9wbOM/pE13SkEw5T/zPpKVEfTmP0MwreDht+g/kiHIK7J76j/hEuN2gj/sPzAE/sFSA+4/f/UYDSPH7z9n8xmsecXwPw9sp9Fhp/E/tuQ090mJ8j9eXcIcMmvzPwbWT0IaTfQ/rU7dZwIv9T9Vx2qN6hD2P/w/+LLS8vY/pLiF2LrU9z9MMRP+orb4P/OpoCOLmPk/myIuSXN6+j9Cm7tuW1z7P+oTSZRDPvw/kozWuSsg/T85BWTfEwL+P+F98QT84/4/iPZ+KuTF/z+YNwYo5lMAQOzzzDraxABAQLCTTc41AUCUbFpgwqYBQOgoIXO2FwJAO+XnhaqIAkCPoa6YnvkCQONddauSagNANxo8vobbA0CL1gLRekwEQN6SyeNuvQRAMk+Q9mIuBUCGC1cJV58FQA==\",\"dtype\":\"float64\",\"shape\":[50]},\"right\":{\"__ndarray__\":\"2PPuBOFkrD9lBE/b8lC8P29HE5q6N8U/rAx/xvtGzD/1aHV5HqvRP5NLqw+/MtU/Mi7hpV+62D/QEBc8AELcP27zTNKgyd8/BmtBtKCo4T9VXFz/cGzjP6RNd0pBMOU/8z6SlRH05j9DMK3g4bfoP5IhyCuye+o/4RLjdoI/7D8wBP7BUgPuP3/1GA0jx+8/Z/MZrHnF8D8PbKfRYafxP7bkNPdJifI/Xl3CHDJr8z8G1k9CGk30P61O3WcCL/U/VcdqjeoQ9j/8P/iy0vL2P6S4hdi61Pc/TDET/qK2+D/zqaAji5j5P5siLklzevo/Qpu7bltc+z/qE0mUQz78P5KM1rkrIP0/OQVk3xMC/j/hffEE/OP+P4j2firkxf8/mDcGKOZTAEDs88w62sQAQECwk03ONQFAlGxaYMKmAUDoKCFzthcCQDvl54WqiAJAj6GumJ75AkDjXXWrkmoDQDcaPL6G2wNAi9YC0XpMBEDeksnjbr0EQDJPkPZiLgVAhgtXCVefBUDaxx0cSxAGQA==\",\"dtype\":\"float64\",\"shape\":[50]},\"top\":{\"__ndarray__\":\"ZV3s+ed+/z/+7i8G7Wv9P88zlG+xAf0/zzOUb7EB/T/+Nu/4HOb8P6YGW5OzMP8/UyADE8Ge/T9+bzM2Xeb6P/6nd3Od5vg/gGDmsFoX+T8fIwwujyf3PxDB+1XGdfQ/5mdYFJ7c9z9+4Luw3eb2P59E5FmKVvI/f/WT5Umi9z8AF2wRRdHyP39YxyQYFfg/gN4n1ATR9D9/suONU0TxPz/MeAsLC+s/bsVQYIup8D/+Nu/4HObsPz/MeAsLC+s/AUOwV/Zd5j/91U+WJ4nuPwAAAAAAAAAA/jbv+Bzm7D8BQ7BX9l3mP/3VT5Ynid4/AUOwV/Zd5j/+p3dzneboP/95n1ATRNM/AAAAAAAAAAD/eZ9QE0TTP/3VT5Ynid4//dVPlieJ3j8AAAAAAAAAAAAAAAAAAPD//3mfUBNE4z//eZ9QE0TTPwAAAAAAAPD/AAAAAAAA8P8AAAAAAADw/wAAAAAAAPD//3mfUBNE0z8AAAAAAAAAAP95n1ATRNM/AAAAAAAAAAD/eZ9QE0TTPw==\",\"dtype\":\"float64\",\"shape\":[50]}},\"selected\":{\"id\":\"42957\",\"type\":\"Selection\"},\"selection_policy\":{\"id\":\"42958\",\"type\":\"UnionRenderers\"}},\"id\":\"40194\",\"type\":\"ColumnDataSource\"},{\"attributes\":{\"source\":{\"id\":\"40014\",\"type\":\"ColumnDataSource\"}},\"id\":\"40018\",\"type\":\"CDSView\"},{\"attributes\":{},\"id\":\"42946\",\"type\":\"UnionRenderers\"},{\"attributes\":{\"bottom\":{\"value\":0},\"fill_alpha\":{\"value\":0.05},\"fill_color\":{\"value\":\"#CB4777\"},\"left\":{\"field\":\"left\"},\"line_alpha\":{\"value\":0.05},\"line_color\":{\"value\":\"#7E03A7\"},\"right\":{\"field\":\"right\"},\"top\":{\"field\":\"top\"}},\"id\":\"40195\",\"type\":\"Quad\"},{\"attributes\":{\"data_source\":{\"id\":\"40014\",\"type\":\"ColumnDataSource\"},\"glyph\":{\"id\":\"40015\",\"type\":\"Quad\"},\"hover_glyph\":null,\"muted_glyph\":null,\"nonselection_glyph\":{\"id\":\"40016\",\"type\":\"Quad\"},\"selection_glyph\":null,\"view\":{\"id\":\"40018\",\"type\":\"CDSView\"}},\"id\":\"40017\",\"type\":\"GlyphRenderer\"},{\"attributes\":{},\"id\":\"42947\",\"type\":\"Selection\"},{\"attributes\":{\"bottom\":{\"value\":0},\"fill_alpha\":{\"value\":0.1},\"fill_color\":{\"value\":\"#1f77b4\"},\"left\":{\"field\":\"left\"},\"line_alpha\":{\"value\":0.1},\"line_color\":{\"value\":\"#1f77b4\"},\"right\":{\"field\":\"right\"},\"top\":{\"field\":\"top\"}},\"id\":\"40196\",\"type\":\"Quad\"},{\"attributes\":{\"bottom\":{\"value\":0},\"fill_alpha\":{\"value\":0.1},\"fill_color\":{\"value\":\"#1f77b4\"},\"left\":{\"field\":\"left\"},\"line_alpha\":{\"value\":0.1},\"line_color\":{\"value\":\"#1f77b4\"},\"right\":{\"field\":\"right\"},\"top\":{\"field\":\"top\"}},\"id\":\"40016\",\"type\":\"Quad\"},{\"attributes\":{},\"id\":\"42948\",\"type\":\"UnionRenderers\"},{\"attributes\":{\"data_source\":{\"id\":\"40194\",\"type\":\"ColumnDataSource\"},\"glyph\":{\"id\":\"40195\",\"type\":\"Quad\"},\"hover_glyph\":null,\"muted_glyph\":null,\"nonselection_glyph\":{\"id\":\"40196\",\"type\":\"Quad\"},\"selection_glyph\":null,\"view\":{\"id\":\"40198\",\"type\":\"CDSView\"}},\"id\":\"40197\",\"type\":\"GlyphRenderer\"},{\"attributes\":{\"bottom\":{\"value\":0},\"fill_alpha\":{\"value\":0.05},\"fill_color\":{\"value\":\"#CB4777\"},\"left\":{\"field\":\"left\"},\"line_alpha\":{\"value\":0.05},\"line_color\":{\"value\":\"#7E03A7\"},\"right\":{\"field\":\"right\"},\"top\":{\"field\":\"top\"}},\"id\":\"40015\",\"type\":\"Quad\"},{\"attributes\":{},\"id\":\"42949\",\"type\":\"Selection\"},{\"attributes\":{\"data_source\":{\"id\":\"40019\",\"type\":\"ColumnDataSource\"},\"glyph\":{\"id\":\"40020\",\"type\":\"Quad\"},\"hover_glyph\":null,\"muted_glyph\":null,\"nonselection_glyph\":{\"id\":\"40021\",\"type\":\"Quad\"},\"selection_glyph\":null,\"view\":{\"id\":\"40023\",\"type\":\"CDSView\"}},\"id\":\"40022\",\"type\":\"GlyphRenderer\"},{\"attributes\":{\"source\":{\"id\":\"40194\",\"type\":\"ColumnDataSource\"}},\"id\":\"40198\",\"type\":\"CDSView\"},{\"attributes\":{},\"id\":\"42950\",\"type\":\"UnionRenderers\"},{\"attributes\":{\"bottom\":{\"value\":0},\"fill_alpha\":{\"value\":0.1},\"fill_color\":{\"value\":\"#1f77b4\"},\"left\":{\"field\":\"left\"},\"line_alpha\":{\"value\":0.1},\"line_color\":{\"value\":\"#1f77b4\"},\"right\":{\"field\":\"right\"},\"top\":{\"field\":\"top\"}},\"id\":\"40021\",\"type\":\"Quad\"},{\"attributes\":{\"callback\":null,\"data\":{\"left\":{\"__ndarray__\":\"gxqEr1XHNj8JlY6lSK6wP/vStvrkosA/clumoqXuyD/18UolM53QPzG2QnkTw9Q/bHo6zfPo2D+nPjIh1A7dP3EBlTpamuA/j+OQZEqt4j+txYyOOsDkP8qniLgq0+Y/6ImE4hrm6D8GbIAMC/nqPyNOfDb7C+0/QTB4YOse7z8wCTrF7ZjwPz/6N9plovE/Tus1792r8j9d3DMEVrXzP2zNMRnOvvQ/er4vLkbI9T+Jry1DvtH2P5igK1g22/c/p5Epba7k+D+2gieCJu75P8VzJZee9/o/1GQjrBYB/D/iVSHBjgr9P/FGH9YGFP4/ADgd634d/z+IlA2AexMAQA+NjIo3mABAloULlfMcAUAefoqfr6EBQKV2CaprJgJALW+ItCerAkC0Zwe/4y8DQDxghsmftANAw1gF1Fs5BEBLUYTeF74EQNJJA+nTQgVAWUKC84/HBUDhOgH+S0wGQGgzgAgI0QZA8Cv/EsRVB0B3JH4dgNoHQP8c/Sc8XwhAhhV8MvjjCEANDvs8tGgJQA==\",\"dtype\":\"float64\",\"shape\":[50]},\"right\":{\"__ndarray__\":\"CZWOpUiusD/70rb65KLAP3JbpqKl7sg/9fFKJTOd0D8xtkJ5E8PUP2x6Os3z6Ng/pz4yIdQO3T9xAZU6WprgP4/jkGRKreI/rcWMjjrA5D/Kp4i4KtPmP+iJhOIa5ug/BmyADAv56j8jTnw2+wvtP0EweGDrHu8/MAk6xe2Y8D8/+jfaZaLxP07rNe/dq/I/XdwzBFa18z9szTEZzr70P3q+Ly5GyPU/ia8tQ77R9j+YoCtYNtv3P6eRKW2u5Pg/toIngibu+T/FcyWXnvf6P9RkI6wWAfw/4lUhwY4K/T/xRh/WBhT+PwA4Het+Hf8/iJQNgHsTAEAPjYyKN5gAQJaFC5XzHAFAHn6Kn6+hAUCldgmqayYCQC1viLQnqwJAtGcHv+MvA0A8YIbJn7QDQMNYBdRbOQRAS1GE3he+BEDSSQPp00IFQFlCgvOPxwVA4ToB/ktMBkBoM4AICNEGQPAr/xLEVQdAdyR+HYDaB0D/HP0nPF8IQIYVfDL44whADQ77PLRoCUCVBnpHcO0JQA==\",\"dtype\":\"float64\",\"shape\":[50]},\"top\":{\"__ndarray__\":\"UCLyLEUrAUBLtDmAP3oBQGKsvY/TMwBA8BtfBLaQ/D8APw6FX+j9Pz/MeAsLC/s/5mdYFJ7c9z9/m3d8DnP+P3/1k+VJovc/HyMMLo8n9z8QwftVxnX0PwAXbBFF0fI/TxK8Q7bS8T/91U+WJ4nuP3+y441TRPE//qd3c53m6D8AAAAAAADwPwAAAAAAAPA//qd3c53m6D/+kAtiWBX2P/3VT5Ynie4//qd3c53m6D//eZ9QE0TTP/3VT5Ynid4/AAAAAAAA8P8AAAAAAADw/wAAAAAAAPD/AAAAAAAA8P8AAAAAAADw/wAAAAAAAAAAAAAAAAAA8P8AAAAAAAAAAAAAAAAAAPD/AAAAAAAA8P8AAAAAAADw/wAAAAAAAAAAAAAAAAAA8P8AAAAAAAAAAAAAAAAAAAAAAAAAAAAA8P8AAAAAAADw/wAAAAAAAPD/AAAAAAAA8P/91U+WJ4nePwAAAAAAAAAAAAAAAAAA8P8AAAAAAAAAAAAAAAAAAPD/AAAAAAAAAAAAAAAAAAAAAA==\",\"dtype\":\"float64\",\"shape\":[50]}},\"selected\":{\"id\":\"42959\",\"type\":\"Selection\"},\"selection_policy\":{\"id\":\"42960\",\"type\":\"UnionRenderers\"}},\"id\":\"40199\",\"type\":\"ColumnDataSource\"},{\"attributes\":{},\"id\":\"42951\",\"type\":\"Selection\"},{\"attributes\":{\"bottom\":{\"value\":0},\"fill_alpha\":{\"value\":0.05},\"fill_color\":{\"value\":\"#CB4777\"},\"left\":{\"field\":\"left\"},\"line_alpha\":{\"value\":0.05},\"line_color\":{\"value\":\"#7E03A7\"},\"right\":{\"field\":\"right\"},\"top\":{\"field\":\"top\"}},\"id\":\"40020\",\"type\":\"Quad\"},{\"attributes\":{\"bottom\":{\"value\":0},\"fill_alpha\":{\"value\":0.05},\"fill_color\":{\"value\":\"#CB4777\"},\"left\":{\"field\":\"left\"},\"line_alpha\":{\"value\":0.05},\"line_color\":{\"value\":\"#7E03A7\"},\"right\":{\"field\":\"right\"},\"top\":{\"field\":\"top\"}},\"id\":\"40200\",\"type\":\"Quad\"},{\"attributes\":{},\"id\":\"42952\",\"type\":\"UnionRenderers\"},{\"attributes\":{\"callback\":null,\"data\":{\"left\":{\"__ndarray__\":\"Oc6x+klTPz9uxHRnEjuvP6ASeh2/G78/heGcg/pMxz+5uXx4FQzPP/dIrjaYZdM/EjUesSVF1z8sIY4rsyTbP0YN/qVABN8/sPw2EOdx4T+98m7NrWHjP8ropop0UeU/2N7eRztB5z/l1BYFAjHpP/LKTsLIIOs//8CGf48Q7T8Mt748VgDvP41W+3wOePA/k1GX2/Fv8T+aTDM61WfyP6BHz5i4X/M/p0Jr95tX9D+tPQdWf0/1P7Q4o7RiR/Y/uzM/E0Y/9z/BLttxKTf4P8gpd9AML/k/ziQTL/Am+j/VH6+N0x77P9saS+y2Fvw/4hXnSpoO/T/oEIOpfQb+P+8LHwhh/v4/9ga7ZkT2/z/+gKviE3cAQIF++ZEF8wBABHxHQfduAUCHeZXw6OoBQAt345/aZgJAjnQxT8ziAkARcn/+vV4DQJVvza2v2gNAGG0bXaFWBECbamkMk9IEQB5ot7uETgVAomUFa3bKBUAlY1MaaEYGQKhgoclZwgZALF7veEs+B0CvWz0oPboHQA==\",\"dtype\":\"float64\",\"shape\":[50]},\"right\":{\"__ndarray__\":\"bsR0ZxI7rz+gEnodvxu/P4XhnIP6TMc/ubl8eBUMzz/3SK42mGXTPxI1HrElRdc/LCGOK7Mk2z9GDf6lQATfP7D8NhDnceE/vfJuza1h4z/K6KaKdFHlP9je3kc7Qec/5dQWBQIx6T/yyk7CyCDrP//Ahn+PEO0/DLe+PFYA7z+NVvt8DnjwP5NRl9vxb/E/mkwzOtVn8j+gR8+YuF/zP6dCa/ebV/Q/rT0HVn9P9T+0OKO0Ykf2P7szPxNGP/c/wS7bcSk3+D/IKXfQDC/5P84kEy/wJvo/1R+vjdMe+z/bGkvsthb8P+IV50qaDv0/6BCDqX0G/j/vCx8IYf7+P/YGu2ZE9v8//oCr4hN3AECBfvmRBfMAQAR8R0H3bgFAh3mV8OjqAUALd+Of2mYCQI50MU/M4gJAEXJ//r1eA0CVb82tr9oDQBhtG12hVgRAm2ppDJPSBEAeaLe7hE4FQKJlBWt2ygVAJWNTGmhGBkCoYKHJWcIGQCxe73hLPgdAr1s9KD26B0AyWYvXLjYIQA==\",\"dtype\":\"float64\",\"shape\":[50]},\"top\":{\"__ndarray__\":\"ZLShoSvQ/T8Qfkv+zxf+P4A4RD1AAP4/AD8OhV/o/T9Pzwvsv3T7P0R6U0uilvs/T88L7L90+z8AvU+oCaL5P0R6U0uilvs/5mdYFJ7c9z8fIwwujyf3P37JT5+YFfQ/gN4n1ATR9D9/+Zsgo8n1PwAXbBFF0fI//dVPlieJ7j/+p3dzneboPxDB+1XGdfQ/ABdsEUXR8j//eZ9QE0TzP/95n1ATRPM//dVPlieJ7j/+p3dzneboP/95n1ATROM//3mfUBNE4z//eZ9QE0TjPwAAAAAAAPD//3mfUBNE0z8AAAAAAAAAAAAAAAAAAPD//3mfUBNE0z/91U+WJ4nePwAAAAAAAAAA/dVPlieJ3j8AAAAAAADw/wAAAAAAAAAA/dVPlieJ3j/+p3dzneboP/95n1ATRNM//3mfUBNE0z8AAAAAAAAAAAAAAAAAAAAAAAAAAAAA8P8AAAAAAADw/wAAAAAAAPD/AAAAAAAAAAAAAAAAAADw/wAAAAAAAPD/AAAAAAAAAAD/eZ9QE0TTPw==\",\"dtype\":\"float64\",\"shape\":[50]}},\"selected\":{\"id\":\"42887\",\"type\":\"Selection\"},\"selection_policy\":{\"id\":\"42888\",\"type\":\"UnionRenderers\"}},\"id\":\"40019\",\"type\":\"ColumnDataSource\"},{\"attributes\":{\"bottom\":{\"value\":0},\"fill_alpha\":{\"value\":0.1},\"fill_color\":{\"value\":\"#1f77b4\"},\"left\":{\"field\":\"left\"},\"line_alpha\":{\"value\":0.1},\"line_color\":{\"value\":\"#1f77b4\"},\"right\":{\"field\":\"right\"},\"top\":{\"field\":\"top\"}},\"id\":\"40201\",\"type\":\"Quad\"},{\"attributes\":{},\"id\":\"42953\",\"type\":\"Selection\"},{\"attributes\":{\"data_source\":{\"id\":\"40199\",\"type\":\"ColumnDataSource\"},\"glyph\":{\"id\":\"40200\",\"type\":\"Quad\"},\"hover_glyph\":null,\"muted_glyph\":null,\"nonselection_glyph\":{\"id\":\"40201\",\"type\":\"Quad\"},\"selection_glyph\":null,\"view\":{\"id\":\"40203\",\"type\":\"CDSView\"}},\"id\":\"40202\",\"type\":\"GlyphRenderer\"},{\"attributes\":{\"source\":{\"id\":\"40019\",\"type\":\"ColumnDataSource\"}},\"id\":\"40023\",\"type\":\"CDSView\"},{\"attributes\":{},\"id\":\"42954\",\"type\":\"UnionRenderers\"},{\"attributes\":{\"callback\":null,\"data\":{\"left\":{\"__ndarray__\":\"+0kqPhAVMT8DUPEyHtqkP7klsyIJybQ/cKPtKwMlvz+UEJSafsDEP3BPMZ977sk/S47Oo3gczz+T5jXUOiXSPwGGhFY5vNQ/byXT2DdT1z/dxCFbNurZP0tkcN00gdw/uAO/XzMY3z+T0QbxmNfgP0ohLjIYI+I/AXFVc5du4z+4wHy0FrrkP28QpPWVBeY/JmDLNhVR5z/dr/J3lJzoP5T/GbkT6Ok/S09B+pIz6z8Cn2g7En/sP7nuj3yRyu0/bz63vRAW7z8UR2//xzDwP+/uAqCH1vA/y5aWQEd88T+mPirhBiLyP4LmvYHGx/I/XY5RIoZt8z85NuXCRRP0PxTeeGMFufQ/74UMBMVe9T/LLaCkhAT2P6bVM0VEqvY/gn3H5QNQ9z9dJVuGw/X3PznN7iaDm/g/FHWCx0JB+T/wHBZoAuf5P8vEqQjCjPo/p2w9qYEy+z+CFNFJQdj7P168ZOoAfvw/OWT4isAj/T8VDIwrgMn9P/CzH8w/b/4/y1uzbP8U/z+nA0cNv7r/Pw==\",\"dtype\":\"float64\",\"shape\":[50]},\"right\":{\"__ndarray__\":\"A1DxMh7apD+5JbMiCcm0P3Cj7SsDJb8/lBCUmn7AxD9wTzGfe+7JP0uOzqN4HM8/k+Y11Dol0j8BhoRWObzUP28l09g3U9c/3cQhWzbq2T9LZHDdNIHcP7gDv18zGN8/k9EG8ZjX4D9KIS4yGCPiPwFxVXOXbuM/uMB8tBa65D9vEKT1lQXmPyZgyzYVUec/3a/yd5Sc6D+U/xm5E+jpP0tPQfqSM+s/Ap9oOxJ/7D+57o98kcrtP28+t70QFu8/FEdv/8cw8D/v7gKgh9bwP8uWlkBHfPE/pj4q4QYi8j+C5r2BxsfyP12OUSKGbfM/OTblwkUT9D8U3nhjBbn0P++FDATFXvU/yy2gpIQE9j+m1TNFRKr2P4J9x+UDUPc/XSVbhsP19z85ze4mg5v4PxR1gsdCQfk/8BwWaALn+T/LxKkIwoz6P6dsPamBMvs/ghTRSUHY+z9evGTqAH78Pzlk+IrAI/0/FQyMK4DJ/T/wsx/MP2/+P8tbs2z/FP8/pwNHDb+6/z/BVe1WPzAAQA==\",\"dtype\":\"float64\",\"shape\":[50]},\"top\":{\"__ndarray__\":\"66uVC5fUAEAAQV/uKiMCQLdntN82kwBAs0QYoMyFAUDpH9kbEVsCQCgJ3iFb6QBA/jbv+Bzm/D/u8EDraFX8P26ZDBraHP0/fm8zNl3m+j8XXHMJ8ID4P6CHlLGAtPg/n0TkWYpW8j9/suONU0TxP5d9SzXrr/M/f/mbIKPJ9T8AAAAAAADwP08SvEO20vE//pALYlgV9j9/WMckGBX4P/3VT5Ynid4/P8x4CwsL6z9PErxDttLxP/3VT5Ynie4/ABdsEUXR8j/+Nu/4HObsP27FUGCLqfA//jbv+Bzm7D/+p3dzneboP/427/gc5uw/bsVQYIup8D8XXHMJ8ID4P59E5FmKVvI/n0TkWYpW8j/91U+WJ4neP/95n1ATROM//3mfUBNE0z//eZ9QE0TjPwAAAAAAAAAAAAAAAAAAAAAAAAAAAADw/wAAAAAAAPD/AAAAAAAAAAD/eZ9QE0TjPwAAAAAAAPD/AAAAAAAAAAD/eZ9QE0TTP/95n1ATRNM/AAAAAAAA8P8AAAAAAAAAAA==\",\"dtype\":\"float64\",\"shape\":[50]}},\"selected\":{\"id\":\"42889\",\"type\":\"Selection\"},\"selection_policy\":{\"id\":\"42890\",\"type\":\"UnionRenderers\"}},\"id\":\"40024\",\"type\":\"ColumnDataSource\"},{\"attributes\":{\"source\":{\"id\":\"40199\",\"type\":\"ColumnDataSource\"}},\"id\":\"40203\",\"type\":\"CDSView\"},{\"attributes\":{\"source\":{\"id\":\"40024\",\"type\":\"ColumnDataSource\"}},\"id\":\"40028\",\"type\":\"CDSView\"},{\"attributes\":{},\"id\":\"42955\",\"type\":\"Selection\"},{\"attributes\":{\"callback\":null,\"data\":{\"left\":{\"__ndarray__\":\"+0kqPhAVMT/jJUbeqOetP5n7B86T1r0/IHJ2lqlcxj905uhFCc7NP2OtrXq0n9I/jedmUmRY1j+3ISAqFBHaP+Fb2QHEyd0/BUvJ7DnB4D8a6KXYkZ3iPy+FgsTpeeQ/RCJfsEFW5j9ZvzucmTLoP25cGIjxDuo/g/n0c0nr6z+YltFfocftP60zrkv5o+8/YWjFmyjA8D/strORVK7xP3YFooeAnPI/AVSQfayK8z+Lon5z2Hj0PxbxbGkEZ/U/oD9bXzBV9j8rjklVXEP3P7XcN0uIMfg/QCsmQbQf+T/KeRQ34A36P1XIAi0M/Po/3xbxIjjq+z9qZd8YZNj8P/SzzQ6Qxv0/fgK8BLy0/j8JUar656L/P8lPTPiJSABADndD85+/AEBUnjrutTYBQJnFMenLrQFA3uwo5OEkAkAjFCDf95sCQGk7F9oNEwNArmIO1SOKA0DziQXQOQEEQDix/MpPeARAftjzxWXvBEDD/+rAe2YFQAgn4ruR3QVATU7ZtqdUBkCSddCxvcsGQA==\",\"dtype\":\"float64\",\"shape\":[50]},\"right\":{\"__ndarray__\":\"4yVG3qjnrT+Z+wfOk9a9PyBydpapXMY/dOboRQnOzT9jra16tJ/SP43nZlJkWNY/tyEgKhQR2j/hW9kBxMndPwVLyew5weA/Guil2JGd4j8vhYLE6XnkP0QiX7BBVuY/Wb87nJky6D9uXBiI8Q7qP4P59HNJ6+s/mJbRX6HH7T+tM65L+aPvP2FoxZsowPA/7LazkVSu8T92BaKHgJzyPwFUkH2sivM/i6J+c9h49D8W8WxpBGf1P6A/W18wVfY/K45JVVxD9z+13DdLiDH4P0ArJkG0H/k/ynkUN+AN+j9VyAItDPz6P98W8SI46vs/amXfGGTY/D/0s80OkMb9P34CvAS8tP4/CVGq+uei/z/JT0z4iUgAQA53Q/OfvwBAVJ467rU2AUCZxTHpy60BQN7sKOThJAJAIxQg3/ebAkBpOxfaDRMDQK5iDtUjigNA84kF0DkBBEA4sfzKT3gEQH7Y88Vl7wRAw//qwHtmBUAIJ+K7kd0FQE1O2banVAZAknXQsb3LBkDYnMes00IHQA==\",\"dtype\":\"float64\",\"shape\":[50]},\"top\":{\"__ndarray__\":\"91E8Gki9AkBXLfcN8mwCQDdu3jhovQFA2ZrTOou0/j91D+SltPP+P26ZDBraHP0/AL1PqAmi+T//07u5TnP8P5C2jzsQGPw//9fD9Kea+j9ugqAIlUv6P4Ah2Cv7Lvs/oIeUsYC0+D8XXHMJ8ID4P+pja3H7Zfc//3mfUBNE8z+A3ifUBNH0P+ZnWBSe3Pc/l31LNeuv8z+QnyMqy0b5Px8jDC6PJ/c/f7LjjVNE8T9/suONU0TxP/95n1ATRPM//jbv+Bzm7D8AAAAAAADwPwAAAAAAAPA//3mfUBNE0z8BQ7BX9l3mPwFDsFf2XeY//jbv+Bzm7D/91U+WJ4nuP/95n1ATROM//jbv+Bzm7D8AF2wRRdHyPz/MeAsLC+s/AAAAAAAAAAD/eZ9QE0TTP/95n1ATRNM/AAAAAAAAAAAAAAAAAADw//95n1ATRNM//3mfUBNE0z/91U+WJ4nePwAAAAAAAPD/AAAAAAAA8P8AAAAAAAAAAAAAAAAAAPD/AAAAAAAA8P8AAAAAAAAAAA==\",\"dtype\":\"float64\",\"shape\":[50]}},\"selected\":{\"id\":\"42961\",\"type\":\"Selection\"},\"selection_policy\":{\"id\":\"42962\",\"type\":\"UnionRenderers\"}},\"id\":\"40204\",\"type\":\"ColumnDataSource\"},{\"attributes\":{\"data_source\":{\"id\":\"40024\",\"type\":\"ColumnDataSource\"},\"glyph\":{\"id\":\"40025\",\"type\":\"Quad\"},\"hover_glyph\":null,\"muted_glyph\":null,\"nonselection_glyph\":{\"id\":\"40026\",\"type\":\"Quad\"},\"selection_glyph\":null,\"view\":{\"id\":\"40028\",\"type\":\"CDSView\"}},\"id\":\"40027\",\"type\":\"GlyphRenderer\"},{\"attributes\":{},\"id\":\"42956\",\"type\":\"UnionRenderers\"},{\"attributes\":{\"bottom\":{\"value\":0},\"fill_alpha\":{\"value\":0.05},\"fill_color\":{\"value\":\"#CB4777\"},\"left\":{\"field\":\"left\"},\"line_alpha\":{\"value\":0.05},\"line_color\":{\"value\":\"#7E03A7\"},\"right\":{\"field\":\"right\"},\"top\":{\"field\":\"top\"}},\"id\":\"40205\",\"type\":\"Quad\"},{\"attributes\":{\"bottom\":{\"value\":0},\"fill_alpha\":{\"value\":0.1},\"fill_color\":{\"value\":\"#1f77b4\"},\"left\":{\"field\":\"left\"},\"line_alpha\":{\"value\":0.1},\"line_color\":{\"value\":\"#1f77b4\"},\"right\":{\"field\":\"right\"},\"top\":{\"field\":\"top\"}},\"id\":\"40026\",\"type\":\"Quad\"},{\"attributes\":{},\"id\":\"42957\",\"type\":\"Selection\"},{\"attributes\":{\"bottom\":{\"value\":0},\"fill_alpha\":{\"value\":0.1},\"fill_color\":{\"value\":\"#1f77b4\"},\"left\":{\"field\":\"left\"},\"line_alpha\":{\"value\":0.1},\"line_color\":{\"value\":\"#1f77b4\"},\"right\":{\"field\":\"right\"},\"top\":{\"field\":\"top\"}},\"id\":\"40206\",\"type\":\"Quad\"},{\"attributes\":{\"bottom\":{\"value\":0},\"fill_alpha\":{\"value\":0.05},\"fill_color\":{\"value\":\"#CB4777\"},\"left\":{\"field\":\"left\"},\"line_alpha\":{\"value\":0.05},\"line_color\":{\"value\":\"#7E03A7\"},\"right\":{\"field\":\"right\"},\"top\":{\"field\":\"top\"}},\"id\":\"40025\",\"type\":\"Quad\"},{\"attributes\":{},\"id\":\"42958\",\"type\":\"UnionRenderers\"},{\"attributes\":{\"data_source\":{\"id\":\"40204\",\"type\":\"ColumnDataSource\"},\"glyph\":{\"id\":\"40205\",\"type\":\"Quad\"},\"hover_glyph\":null,\"muted_glyph\":null,\"nonselection_glyph\":{\"id\":\"40206\",\"type\":\"Quad\"},\"selection_glyph\":null,\"view\":{\"id\":\"40208\",\"type\":\"CDSView\"}},\"id\":\"40207\",\"type\":\"GlyphRenderer\"},{\"attributes\":{},\"id\":\"42959\",\"type\":\"Selection\"},{\"attributes\":{\"callback\":null,\"data\":{\"left\":{\"__ndarray__\":\"Dgw0Xox9TD9jhYBaQMSnP0sdxEFFi7c/8vsjKzWawT8/6WW1x27HP4zWpz9aQ80/7OH0ZPaL0T+T2BWqP3bUPznPNu+IYNc/38VXNNJK2j+GvHh5GzXdP5bZTF+yD+A/6VTdAdeE4T880G2k+/niP5BL/kYgb+Q/48aO6UTk5T82Qh+MaVnnP4m9ry6Ozug/3DhA0bJD6j8wtNBz17jrP4MvYRb8Le0/1qrxuCCj7j8VE8GtIgzwP79QCf+0xvA/aI5RUEeB8T8SzJmh2TvyP7sJ4vJr9vI/ZUcqRP6w8z8PhXKVkGv0P7jCuuYiJvU/YgADOLXg9T8LPkuJR5v2P7V7k9rZVfc/X7nbK2wQ+D8I9yN9/sr4P7I0bM6Qhfk/W3K0HyNA+j8FsPxwtfr6P6/tRMJHtfs/WCuNE9pv/D8CadVkbCr9P6umHbb+5P0/VeRlB5Gf/j//Ia5YI1r/P9Qv+9RaCgBAqU6f/aNnAEB+bUMm7cQAQFKM5042IgFAJ6uLd39/AUD8yS+gyNwBQA==\",\"dtype\":\"float64\",\"shape\":[50]},\"right\":{\"__ndarray__\":\"Y4WAWkDEpz9LHcRBRYu3P/L7Iys1msE/P+lltcduxz+M1qc/WkPNP+zh9GT2i9E/k9gVqj921D85zzbviGDXP9/FVzTSSto/hrx4eRs13T+W2Uxfsg/gP+lU3QHXhOE/PNBtpPv54j+QS/5GIG/kP+PGjulE5OU/NkIfjGlZ5z+Jva8ujs7oP9w4QNGyQ+o/MLTQc9e46z+DL2EW/C3tP9aq8bggo+4/FRPBrSIM8D+/UAn/tMbwP2iOUVBHgfE/EsyZodk78j+7CeLya/byP2VHKkT+sPM/D4VylZBr9D+4wrrmIib1P2IAAzi14PU/Cz5LiUeb9j+1e5Pa2VX3P1+52ytsEPg/CPcjff7K+D+yNGzOkIX5P1tytB8jQPo/BbD8cLX6+j+v7UTCR7X7P1grjRPab/w/AmnVZGwq/T+rph22/uT9P1XkZQeRn/4//yGuWCNa/z/UL/vUWgoAQKlOn/2jZwBAfm1DJu3EAEBSjOdONiIBQCeri3d/fwFA/MkvoMjcAUDR6NPIEToCQA==\",\"dtype\":\"float64\",\"shape\":[50]},\"top\":{\"__ndarray__\":\"ACs9S9JcAEBuxVBgi6kAQO5gyNyZHP8/RHpTS6KW+z+AOEQ9QAD+P1MgAxPBnv0/9jC80a8i+j+euviu6cD6P35vMzZd5vo//r7jhOK3+z9ugqAIlUv6Px86eD/U+Pk/7rrkRdVL+D/+kAtiWBX2P5d9SzXrr/M/n1tQa88n9T9uxVBgi6nwP3+y441TRPE/EMH7VcZ19D8/zHgLCwvrP08SvEO20vE/P8x4CwsL6z8AAAAAAAAAAP427/gc5uw/f7LjjVNE8T9uxVBgi6nwP27FUGCLqfA//3mfUBNE4z//eZ9QE0TjP/95n1ATRNM//3mfUBNE0z//eZ9QE0TTPwAAAAAAAAAA/3mfUBNE0z//eZ9QE0TTPwAAAAAAAPD/AAAAAAAA8P8AAAAAAADw/wAAAAAAAAAA/3mfUBNE0z8AAAAAAADw/wAAAAAAAAAAAAAAAAAAAAD91U+WJ4neP/3VT5Ynid4/AAAAAAAAAAAAAAAAAADw//95n1ATRNM/AAAAAAAA8P//eZ9QE0TTPw==\",\"dtype\":\"float64\",\"shape\":[50]}},\"selected\":{\"id\":\"42891\",\"type\":\"Selection\"},\"selection_policy\":{\"id\":\"42892\",\"type\":\"UnionRenderers\"}},\"id\":\"40029\",\"type\":\"ColumnDataSource\"},{\"attributes\":{\"source\":{\"id\":\"40204\",\"type\":\"ColumnDataSource\"}},\"id\":\"40208\",\"type\":\"CDSView\"},{\"attributes\":{},\"id\":\"42960\",\"type\":\"UnionRenderers\"},{\"attributes\":{\"callback\":null,\"data\":{\"left\":{\"__ndarray__\":\"Oc6x+klTPz/oHQP5+Cq3PwHFBVRPG8c/iP3EFZFQ0T+OGIeBehPXP5QzSe1j1tw/TqeFrKZM4T/RtGZiGy7kP1TCRxiQD+c/188ozgTx6T9a3QmEedLsP97q6jnus+8/Mfzld7FK8T/ygtbSa7vyP7QJxy0mLPQ/dZC3iOCc9T83F6jjmg33P/mdmD5Vfvg/uiSJmQ/v+T98q3n0yV/7Pz0yak+E0Pw//7haqj5B/j/BP0sF+bH/P0HjHbBZkQBAoiaW3bZJAUACag4LFAICQGOthjhxugJAxPD+Zc5yA0AlNHeTKysEQIZ378CI4wRA5rpn7uWbBUBH/t8bQ1QGQKhBWEmgDAdACYXQdv3EB0BqyEikWn0IQMoLwdG3NQlAK085/xTuCUCMkrEscqYKQO3VKVrPXgtAThmihywXDECuXBq1ic8MQA+gkuLmhw1AcOMKEERADkDRJoM9ofgOQDJq+2r+sA9AydY5zK00EEB6+PVi3JAQQCoasvkK7RBA2ztukDlJEUCLXSonaKURQA==\",\"dtype\":\"float64\",\"shape\":[50]},\"right\":{\"__ndarray__\":\"6B0D+fgqtz8BxQVUTxvHP4j9xBWRUNE/jhiHgXoT1z+UM0ntY9bcP06nhaymTOE/0bRmYhsu5D9UwkcYkA/nP9fPKM4E8ek/Wt0JhHnS7D/e6uo57rPvPzH85XexSvE/8oLW0mu78j+0CcctJiz0P3WQt4jgnPU/Nxeo45oN9z/5nZg+VX74P7okiZkP7/k/fKt59Mlf+z89MmpPhND8P/+4Wqo+Qf4/wT9LBfmx/z9B4x2wWZEAQKImlt22SQFAAmoOCxQCAkBjrYY4cboCQMTw/mXOcgNAJTR3kysrBECGd+/AiOMEQOa6Z+7lmwVAR/7fG0NUBkCoQVhJoAwHQAmF0Hb9xAdAashIpFp9CEDKC8HRtzUJQCtPOf8U7glAjJKxLHKmCkDt1Slaz14LQE4ZoocsFwxArlwatYnPDEAPoJLi5ocNQHDjChBEQA5A0SaDPaH4DkAyavtq/rAPQMnWOcytNBBAevj1YtyQEEAqGrL5Cu0QQNs7bpA5SRFAi10qJ2ilEUA7f+a9lgESQA==\",\"dtype\":\"float64\",\"shape\":[50]},\"top\":{\"__ndarray__\":\"TzlePor8A0Dzx4O8UMECQIuM4dh8EQFALBIXZLRsAEDv5iiMhtj7P//Tu7lOc/w/akKTRQA3/D8AvU+oCaL5P3/1k+VJovc/f/WT5Umi9z9/WMckGBX4PxDB+1XGdfQ/AAAAAAAA8D/+Nu/4HObsP/3VT5Ynie4/AAAAAAAA8D+fW1Brzyf1P/3VT5Ynie4//qd3c53m6D8BQ7BX9l3mP08SvEO20vE//dVPlieJ3j//eZ9QE0TTPwAAAAAAAAAA/dVPlieJ3j8AAAAAAADw/wAAAAAAAPD/AAAAAAAA8P8AAAAAAADw/wAAAAAAAPD/AAAAAAAA8P8AAAAAAADw/wAAAAAAAPD/AAAAAAAA8P8AAAAAAADw/wAAAAAAAPD/AAAAAAAA8P8AAAAAAAAAAAAAAAAAAPD/AAAAAAAAAAAAAAAAAADw/wAAAAAAAPD/AAAAAAAA8P8AAAAAAADw/wAAAAAAAPD/AAAAAAAA8P8AAAAAAADw/wAAAAAAAPD/AAAAAAAA8P8AAAAAAAAAAA==\",\"dtype\":\"float64\",\"shape\":[50]}},\"selected\":{\"id\":\"42963\",\"type\":\"Selection\"},\"selection_policy\":{\"id\":\"42964\",\"type\":\"UnionRenderers\"}},\"id\":\"40209\",\"type\":\"ColumnDataSource\"},{\"attributes\":{\"data_source\":{\"id\":\"40029\",\"type\":\"ColumnDataSource\"},\"glyph\":{\"id\":\"40030\",\"type\":\"Quad\"},\"hover_glyph\":null,\"muted_glyph\":null,\"nonselection_glyph\":{\"id\":\"40031\",\"type\":\"Quad\"},\"selection_glyph\":null,\"view\":{\"id\":\"40033\",\"type\":\"CDSView\"}},\"id\":\"40032\",\"type\":\"GlyphRenderer\"},{\"attributes\":{},\"id\":\"42961\",\"type\":\"Selection\"},{\"attributes\":{\"bottom\":{\"value\":0},\"fill_alpha\":{\"value\":0.05},\"fill_color\":{\"value\":\"#CB4777\"},\"left\":{\"field\":\"left\"},\"line_alpha\":{\"value\":0.05},\"line_color\":{\"value\":\"#7E03A7\"},\"right\":{\"field\":\"right\"},\"top\":{\"field\":\"top\"}},\"id\":\"40210\",\"type\":\"Quad\"},{\"attributes\":{\"bottom\":{\"value\":0},\"fill_alpha\":{\"value\":0.1},\"fill_color\":{\"value\":\"#1f77b4\"},\"left\":{\"field\":\"left\"},\"line_alpha\":{\"value\":0.1},\"line_color\":{\"value\":\"#1f77b4\"},\"right\":{\"field\":\"right\"},\"top\":{\"field\":\"top\"}},\"id\":\"40031\",\"type\":\"Quad\"},{\"attributes\":{},\"id\":\"42962\",\"type\":\"UnionRenderers\"},{\"attributes\":{\"bottom\":{\"value\":0},\"fill_alpha\":{\"value\":0.1},\"fill_color\":{\"value\":\"#1f77b4\"},\"left\":{\"field\":\"left\"},\"line_alpha\":{\"value\":0.1},\"line_color\":{\"value\":\"#1f77b4\"},\"right\":{\"field\":\"right\"},\"top\":{\"field\":\"top\"}},\"id\":\"40211\",\"type\":\"Quad\"},{\"attributes\":{\"bottom\":{\"value\":0},\"fill_alpha\":{\"value\":0.05},\"fill_color\":{\"value\":\"#CB4777\"},\"left\":{\"field\":\"left\"},\"line_alpha\":{\"value\":0.05},\"line_color\":{\"value\":\"#7E03A7\"},\"right\":{\"field\":\"right\"},\"top\":{\"field\":\"top\"}},\"id\":\"40030\",\"type\":\"Quad\"},{\"attributes\":{},\"id\":\"42963\",\"type\":\"Selection\"},{\"attributes\":{\"data_source\":{\"id\":\"40209\",\"type\":\"ColumnDataSource\"},\"glyph\":{\"id\":\"40210\",\"type\":\"Quad\"},\"hover_glyph\":null,\"muted_glyph\":null,\"nonselection_glyph\":{\"id\":\"40211\",\"type\":\"Quad\"},\"selection_glyph\":null,\"view\":{\"id\":\"40213\",\"type\":\"CDSView\"}},\"id\":\"40212\",\"type\":\"GlyphRenderer\"},{\"attributes\":{\"source\":{\"id\":\"40029\",\"type\":\"ColumnDataSource\"}},\"id\":\"40033\",\"type\":\"CDSView\"},{\"attributes\":{},\"id\":\"42964\",\"type\":\"UnionRenderers\"},{\"attributes\":{\"callback\":null,\"data\":{\"left\":{\"__ndarray__\":\"7g5NRGgUIT+cTsx9D66kPxQoqkmFpbQ/2yhu1AL0vj/RFJkvQKHEPzQV+/R+yMk/mBVdur3vzj/9it8/fgvSPy+LkKIdn9Q/YYtBBb0y1z+Si/JnXMbZP8SLo8r7Wdw/9otULZvt3j8UxgJIncDgPyxGW/lsCuI/RcazqjxU4z9eRgxcDJ7kP3fGZA3c5+U/kEa9vqsx5z+oxhVwe3voP8FGbiFLxek/2sbG0hoP6z/zRh+E6ljsPwzHdzW6ou0/JUfQ5ons7j+eYxTMLBvwP6ujwKQUwPA/t+Nsffxk8T/DIxlW5AnyP9BjxS7MrvI/3KNxB7RT8z/p4x3gm/jzP/UjyriDnfQ/AWR2kWtC9T8OpCJqU+f1PxrkzkI7jPY/JyR7GyMx9z8zZCf0Ctb3Pz+k08zyevg/TOR/pdof+T9YJCx+wsT5P2Vk2Faqafo/caSEL5IO+z995DAIerP7P4ok3eBhWPw/lmSJuUn9/D+jpDWSMaL9P6/k4WoZR/4/vCSOQwHs/j/IZDoc6ZD/Pw==\",\"dtype\":\"float64\",\"shape\":[50]},\"right\":{\"__ndarray__\":\"nE7MfQ+upD8UKKpJhaW0P9sobtQC9L4/0RSZL0ChxD80Ffv0fsjJP5gVXbq9784//YrfP34L0j8vi5CiHZ/UP2GLQQW9Mtc/kovyZ1zG2T/Ei6PK+1ncP/aLVC2b7d4/FMYCSJ3A4D8sRlv5bAriP0XGs6o8VOM/XkYMXAye5D93xmQN3OflP5BGvb6rMec/qMYVcHt76D/BRm4hS8XpP9rGxtIaD+s/80YfhOpY7D8Mx3c1uqLtPyVH0OaJ7O4/nmMUzCwb8D+ro8CkFMDwP7fjbH38ZPE/wyMZVuQJ8j/QY8UuzK7yP9yjcQe0U/M/6eMd4Jv48z/1I8q4g530PwFkdpFrQvU/DqQialPn9T8a5M5CO4z2PyckexsjMfc/M2Qn9ArW9z8/pNPM8nr4P0zkf6XaH/k/WCQsfsLE+T9lZNhWqmn6P3GkhC+SDvs/feQwCHqz+z+KJN3gYVj8P5ZkiblJ/fw/o6Q1kjGi/T+v5OFqGUf+P7wkjkMB7P4/yGQ6HOmQ/z9qUnN66BoAQA==\",\"dtype\":\"float64\",\"shape\":[50]},\"top\":{\"__ndarray__\":\"95KbCHPgBEAALY60nZcEQEAwc1itiwRAHbuT2licBEAPH0C9FhAEQE85Xj6K/ANAOIQA3MCDA0DpH9kbEVsCQAXlk3vAdQJA91E8Gki9AkA2c2po2fsBQNUpQ9YzkQFAygTl8wAYAUCLjOHYfBEBQA/wLWvMZABAdQ/kpbTz/j9veHjJO1j/P/3VT5Ynif4/IGa8hYWF/T+AOEQ9QAD+P//Tu7lOc/w//Ibhjy08AECeGKAT2cn+P5c6m930Uf0/5mdYFJ7c9z/qY2tx+2X3PxdccwnwgPg/EMH7VcZ19D//eZ9QE0TzP59bUGvPJ/U/n0TkWYpW8j9+yU+fmBX0P/427/gc5uw/fslPn5gV9D9+yU+fmBX0P+6jeDSQevU/gN4n1ATR9D//eZ9QE0TzP/3VT5Ynie4/P8x4CwsL6z//eZ9QE0TjP/95n1ATROM//3mfUBNE4z/+p3dzneboP/3VT5Ynid4/AAAAAAAA8P8AAAAAAAAAAP95n1ATRNM/AAAAAAAA8P//eZ9QE0TTPw==\",\"dtype\":\"float64\",\"shape\":[50]}},\"selected\":{\"id\":\"42893\",\"type\":\"Selection\"},\"selection_policy\":{\"id\":\"42894\",\"type\":\"UnionRenderers\"}},\"id\":\"40034\",\"type\":\"ColumnDataSource\"},{\"attributes\":{\"source\":{\"id\":\"40209\",\"type\":\"ColumnDataSource\"}},\"id\":\"40213\",\"type\":\"CDSView\"},{\"attributes\":{},\"id\":\"42965\",\"type\":\"Selection\"},{\"attributes\":{\"callback\":null,\"data\":{\"left\":{\"__ndarray__\":\"QrVd+5vqTT+MJD3+UMymPyJpRsZ7kLY//h+3hmfdwD9sC0sqkXLGP9r23s26B8w/JHG5OHLO0D/bZoMKB5nTP5JcTdybY9Y/SVIXrjAu2T8ASOF/xfjbP7c9q1Faw94/tpm6kffG4D+SlJ/6QSziP22PhGOMkeM/SYppzNb25D8khU41IVzmP/9/M55rwec/23oYB7Ym6T+2df1vAIzqP5Jw4thK8es/bWvHQZVW7T9JZqyq37vuP5OwyAmVEPA/AC47PjrD8D9uq61y33XxP9woIKeEKPI/SaaS2ynb8j+3IwUQz43zPyWhd0R0QPQ/kx7qeBnz9D8AnFytvqX1P24Zz+FjWPY/3JZBFgkL9z9JFLRKrr33P7eRJn9TcPg/JQ+Zs/gi+T+TjAvondX5PwAKfhxDiPo/bofwUOg6+z/cBGOFje37P0mC1bkyoPw/t/9H7tdS/T8lfboifQX+P5P6LFciuP4/AHifi8dq/z+3+ghgtg4AQG05QvoIaABAJHh7lFvBAEDbtrQurhoBQA==\",\"dtype\":\"float64\",\"shape\":[50]},\"right\":{\"__ndarray__\":\"jCQ9/lDMpj8iaUbGe5C2P/4ft4Zn3cA/bAtLKpFyxj/a9t7NugfMPyRxuThyztA/22aDCgeZ0z+SXE3cm2PWP0lSF64wLtk/AEjhf8X42z+3PatRWsPeP7aZupH3xuA/kpSf+kEs4j9tj4RjjJHjP0mKaczW9uQ/JIVONSFc5j//fzOea8HnP9t6GAe2Juk/tnX9bwCM6j+ScOLYSvHrP21rx0GVVu0/SWasqt+77j+TsMgJlRDwPwAuOz46w/A/bqutct918T/cKCCnhCjyP0mmktsp2/I/tyMFEM+N8z8loXdEdED0P5Me6ngZ8/Q/AJxcrb6l9T9uGc/hY1j2P9yWQRYJC/c/SRS0Sq699z+3kSZ/U3D4PyUPmbP4Ivk/k4wL6J3V+T8ACn4cQ4j6P26H8FDoOvs/3ARjhY3t+z9JgtW5MqD8P7f/R+7XUv0/JX26In0F/j+T+ixXIrj+PwB4n4vHav8/t/oIYLYOAEBtOUL6CGgAQCR4e5RbwQBA27a0Lq4aAUCS9e3IAHQBQA==\",\"dtype\":\"float64\",\"shape\":[50]},\"top\":{\"__ndarray__\":\"akKTRQA3/D+AIdgr+y77P36Gn0eit/0//jbv+Bzm/D9uiZE5rlz+P/427/gc5vw/f1jHJBgV+D9/WMckGBX4P/YwvNGvIvo/T88L7L90+z+gh5SxgLT4P37gu7Dd5vY/AAAAAAAA8D+fRORZilbyP59E5FmKVvI//3mfUBNE4z/+p3dzneboP37JT5+YFfQ/TxK8Q7bS8T//eZ9QE0TTP/3VT5Ynid4//3mfUBNE4z/91U+WJ4neP/95n1ATROM/P8x4CwsL6z//eZ9QE0TTP/3VT5Ynid4/AAAAAAAA8P8AAAAAAAAAAP95n1ATRNM/AAAAAAAA8P8AAAAAAADw//95n1ATRNM//3mfUBNE0z/91U+WJ4neP/95n1ATRNM/AAAAAAAAAAAAAAAAAADw/wAAAAAAAPD/AAAAAAAAAAAAAAAAAADw//95n1ATRNM/AUOwV/Zd5j//eZ9QE0TjPwAAAAAAAAAAAAAAAAAA8P8AAAAAAADw/wAAAAAAAAAAAAAAAAAA8P8AAAAAAAAAAA==\",\"dtype\":\"float64\",\"shape\":[50]}},\"selected\":{\"id\":\"42965\",\"type\":\"Selection\"},\"selection_policy\":{\"id\":\"42966\",\"type\":\"UnionRenderers\"}},\"id\":\"40214\",\"type\":\"ColumnDataSource\"},{\"attributes\":{\"data_source\":{\"id\":\"40034\",\"type\":\"ColumnDataSource\"},\"glyph\":{\"id\":\"40035\",\"type\":\"Quad\"},\"hover_glyph\":null,\"muted_glyph\":null,\"nonselection_glyph\":{\"id\":\"40036\",\"type\":\"Quad\"},\"selection_glyph\":null,\"view\":{\"id\":\"40038\",\"type\":\"CDSView\"}},\"id\":\"40037\",\"type\":\"GlyphRenderer\"},{\"attributes\":{},\"id\":\"42966\",\"type\":\"UnionRenderers\"},{\"attributes\":{\"bottom\":{\"value\":0},\"fill_alpha\":{\"value\":0.05},\"fill_color\":{\"value\":\"#CB4777\"},\"left\":{\"field\":\"left\"},\"line_alpha\":{\"value\":0.05},\"line_color\":{\"value\":\"#7E03A7\"},\"right\":{\"field\":\"right\"},\"top\":{\"field\":\"top\"}},\"id\":\"40215\",\"type\":\"Quad\"},{\"attributes\":{\"bottom\":{\"value\":0},\"fill_alpha\":{\"value\":0.1},\"fill_color\":{\"value\":\"#1f77b4\"},\"left\":{\"field\":\"left\"},\"line_alpha\":{\"value\":0.1},\"line_color\":{\"value\":\"#1f77b4\"},\"right\":{\"field\":\"right\"},\"top\":{\"field\":\"top\"}},\"id\":\"40036\",\"type\":\"Quad\"},{\"attributes\":{},\"id\":\"42967\",\"type\":\"Selection\"},{\"attributes\":{\"bottom\":{\"value\":0},\"fill_alpha\":{\"value\":0.1},\"fill_color\":{\"value\":\"#1f77b4\"},\"left\":{\"field\":\"left\"},\"line_alpha\":{\"value\":0.1},\"line_color\":{\"value\":\"#1f77b4\"},\"right\":{\"field\":\"right\"},\"top\":{\"field\":\"top\"}},\"id\":\"40216\",\"type\":\"Quad\"},{\"attributes\":{\"bottom\":{\"value\":0},\"fill_alpha\":{\"value\":0.05},\"fill_color\":{\"value\":\"#CB4777\"},\"left\":{\"field\":\"left\"},\"line_alpha\":{\"value\":0.05},\"line_color\":{\"value\":\"#7E03A7\"},\"right\":{\"field\":\"right\"},\"top\":{\"field\":\"top\"}},\"id\":\"40035\",\"type\":\"Quad\"},{\"attributes\":{},\"id\":\"42968\",\"type\":\"UnionRenderers\"},{\"attributes\":{\"data_source\":{\"id\":\"40214\",\"type\":\"ColumnDataSource\"},\"glyph\":{\"id\":\"40215\",\"type\":\"Quad\"},\"hover_glyph\":null,\"muted_glyph\":null,\"nonselection_glyph\":{\"id\":\"40216\",\"type\":\"Quad\"},\"selection_glyph\":null,\"view\":{\"id\":\"40218\",\"type\":\"CDSView\"}},\"id\":\"40217\",\"type\":\"GlyphRenderer\"},{\"attributes\":{\"bottom\":{\"value\":0},\"fill_alpha\":{\"value\":0.1},\"fill_color\":{\"value\":\"#1f77b4\"},\"left\":{\"field\":\"left\"},\"line_alpha\":{\"value\":0.1},\"line_color\":{\"value\":\"#1f77b4\"},\"right\":{\"field\":\"right\"},\"top\":{\"field\":\"top\"}},\"id\":\"40041\",\"type\":\"Quad\"},{\"attributes\":{},\"id\":\"42969\",\"type\":\"Selection\"},{\"attributes\":{\"bottom\":{\"value\":0},\"fill_alpha\":{\"value\":0.05},\"fill_color\":{\"value\":\"#CB4777\"},\"left\":{\"field\":\"left\"},\"line_alpha\":{\"value\":0.05},\"line_color\":{\"value\":\"#7E03A7\"},\"right\":{\"field\":\"right\"},\"top\":{\"field\":\"top\"}},\"id\":\"40040\",\"type\":\"Quad\"},{\"attributes\":{\"source\":{\"id\":\"40214\",\"type\":\"ColumnDataSource\"}},\"id\":\"40218\",\"type\":\"CDSView\"},{\"attributes\":{},\"id\":\"42970\",\"type\":\"UnionRenderers\"},{\"attributes\":{\"callback\":null,\"data\":{\"left\":{\"__ndarray__\":\"s50hiKvJRj+2dPk8dzehP3ox6eXjCbE/mahVLQx4uT/dD2E6GvPAP21LF14uKsU//IbNgUJhyT+MwoOlVpjNPw7/nGS159A/1hx4dj8D0z+eOlOIyR7VP2ZYLppTOtc/LXYJrN1V2T/1k+S9Z3HbP72xv8/xjN0/hc+a4Xuo3z+m9rr5AuLgP4qFqALI7+E/bhSWC4394j9So4MUUgvkPzYycR0XGeU/GsFeJtwm5j/+T0wvoTTnP+LeOThmQug/xW0nQStQ6T+p/BRK8F3qP42LAlO1a+s/cRrwW3p57D9Vqd1kP4ftPzk4y20Ele4/Hce4dsmi7z8BK9M/R1jwP3PyScQp3/A/5bnASAxm8T9XgTfN7uzxP8lIrlHRc/I/OxAl1rP68j+t15taloHzPx+fEt94CPQ/kWaJY1uP9D8DLgDoPRb1P3X1dmwgnfU/57zt8AIk9j9ZhGR15ar2P8tL2/nHMfc/PRNSfqq49z+v2sgCjT/4PyGiP4dvxvg/kmm2C1JN+T8EMS2QNNT5Pw==\",\"dtype\":\"float64\",\"shape\":[50]},\"right\":{\"__ndarray__\":\"tnT5PHc3oT96Menl4wmxP5moVS0MeLk/3Q9hOhrzwD9tSxdeLirFP/yGzYFCYck/jMKDpVaYzT8O/5xktefQP9YceHY/A9M/njpTiMke1T9mWC6aUzrXPy12CazdVdk/9ZPkvWdx2z+9sb/P8YzdP4XPmuF7qN8/pva6+QLi4D+KhagCyO/hP24UlguN/eI/UqODFFIL5D82MnEdFxnlPxrBXibcJuY//k9ML6E05z/i3jk4ZkLoP8VtJ0ErUOk/qfwUSvBd6j+NiwJTtWvrP3Ea8Ft6eew/VandZD+H7T85OMttBJXuPx3HuHbJou8/ASvTP0dY8D9z8knEKd/wP+W5wEgMZvE/V4E3ze7s8T/JSK5R0XPyPzsQJdaz+vI/rdebWpaB8z8fnxLfeAj0P5FmiWNbj/Q/Ay4A6D0W9T919XZsIJ31P+e87fACJPY/WYRkdeWq9j/LS9v5xzH3Pz0TUn6quPc/r9rIAo0/+D8hoj+Hb8b4P5JptgtSTfk/BDEtkDTU+T93+KMUF1v6Pw==\",\"dtype\":\"float64\",\"shape\":[50]},\"top\":{\"__ndarray__\":\"lzqb3fRR/T9mRoDooq38PxB+S/7PF/4/ZkaA6KKt/D//07u5TnP8P566+K7pwPo/fm8zNl3m+j9+4Luw3eb2PwC9T6gJovk/7qN4NJB69T/uuuRF1Uv4P59bUGvPJ/U//3mfUBNE8z+fW1Brzyf1P3/5myCjyfU/AAAAAAAA8D9/suONU0TxP/427/gc5uw/ABdsEUXR8j9/suONU0TxPwAAAAAAAPA/AUOwV/Zd5j8AAAAAAAAAAP427/gc5uw/AAAAAAAA8D9uxVBgi6nwP/95n1ATRPM/bsVQYIup8D+fRORZilbyP/95n1ATROM/AUOwV/Zd5j8AAAAAAAAAAP95n1ATRNM//3mfUBNE0z8AAAAAAADw/wAAAAAAAAAAAAAAAAAAAAD/eZ9QE0TTP/3VT5Ynid4/AAAAAAAAAAD/eZ9QE0TTPwAAAAAAAPD//3mfUBNE0z8AAAAAAADw/wAAAAAAAPD/AAAAAAAA8P8AAAAAAADw/wAAAAAAAPD/AAAAAAAA8P//eZ9QE0TTPw==\",\"dtype\":\"float64\",\"shape\":[50]}},\"selected\":{\"id\":\"42895\",\"type\":\"Selection\"},\"selection_policy\":{\"id\":\"42896\",\"type\":\"UnionRenderers\"}},\"id\":\"40039\",\"type\":\"ColumnDataSource\"},{\"attributes\":{\"callback\":null,\"data\":{\"left\":{\"__ndarray__\":\"YHLvnynuMz/N7XI3tVizPxT2oiK+TsM/QXWMqSHxzD84+jqYwknTP8+5r1v0Gtg/ZXkkHybs3D9+nEzxq97gP0n8BtNER+M/FFzBtN2v5T/gu3uWdhjoP6sbNngPgeo/dnvwWajp7D9C26o7QVLvP4edsg5t3fA/bM2Pf7kR8j9S/WzwBUbzPzgtSmFSevQ/HV0n0p6u9T8DjQRD6+L2P+m84bM3F/g/zuy+JIRL+T+0HJyV0H/6P5pMeQYdtPs/f3xWd2no/D9lrDPotRz+P0vcEFkCUf8/GQb3ZKdCAEAMnmWdzdwAQP411NXzdgFA8c1CDhoRAkDkZbFGQKsCQNf9H39mRQNAypWOt4zfA0C9Lf3vsnkEQLDFayjZEwVAol3aYP+tBUCV9UiZJUgGQIiNt9FL4gZAeyUmCnJ8B0BuvZRCmBYIQGFVA3u+sAhAU+1xs+RKCUBGheDrCuUJQDkdTyQxfwpALLW9XFcZC0AfTSyVfbMLQBLlms2jTQxABH0JBsrnDED3FHg+8IENQA==\",\"dtype\":\"float64\",\"shape\":[50]},\"right\":{\"__ndarray__\":\"ze1yN7VYsz8U9qIivk7DP0F1jKkh8cw/OPo6mMJJ0z/Pua9b9BrYP2V5JB8m7Nw/fpxM8ave4D9J/AbTREfjPxRcwbTdr+U/4Lt7lnYY6D+rGzZ4D4HqP3Z78Fmo6ew/QtuqO0FS7z+HnbIObd3wP2zNj3+5EfI/Uv1s8AVG8z84LUphUnr0Px1dJ9KervU/A40EQ+vi9j/pvOGzNxf4P87sviSES/k/tBycldB/+j+aTHkGHbT7P398Vndp6Pw/Zawz6LUc/j9L3BBZAlH/PxkG92SnQgBADJ5lnc3cAED+NdTV83YBQPHNQg4aEQJA5GWxRkCrAkDX/R9/ZkUDQMqVjreM3wNAvS3977J5BECwxWso2RMFQKJd2mD/rQVAlfVImSVIBkCIjbfRS+IGQHslJgpyfAdAbr2UQpgWCEBhVQN7vrAIQFPtcbPkSglARoXg6wrlCUA5HU8kMX8KQCy1vVxXGQtAH00slX2zC0AS5ZrNo00MQAR9CQbK5wxA9xR4PvCBDUDqrOZ2FhwOQA==\",\"dtype\":\"float64\",\"shape\":[50]},\"top\":{\"__ndarray__\":\"ic8Y1DKoB0CDEPba+/IGQLyXzSWr0wVAW24ged7ZBECWevMyPHgEQD+sYxKMCgRAJ04Ehw22A0BLylsjmEADQHdfdkCXOQNAC5iXYR96AkDsAMsrILgAQL/OhaxzRABAZV3s+ed+/z/PM5RvsQH9Px5R5FAZyvw/nhigE9nJ/j+AIdgr+y77PxdccwnwgPg/6mNrcftl9z/uo3g0kHr1P08SvEO20vE/AUOwV/Zd5j9PErxDttLxP08SvEO20vE/AAAAAAAA8D8BQ7BX9l3mP/95n1ATRNM//dVPlieJ3j8BQ7BX9l3mPwAAAAAAAAAAAAAAAAAAAAAAAAAAAAAAAP95n1ATROM/AAAAAAAA8P//eZ9QE0TTPwAAAAAAAPD/AAAAAAAA8P8AAAAAAAAAAAAAAAAAAPD/AAAAAAAA8P8AAAAAAADw/wAAAAAAAPD/AAAAAAAA8P8AAAAAAADw/wAAAAAAAPD/AAAAAAAA8P8AAAAAAADw/wAAAAAAAPD/AAAAAAAA8P8AAAAAAAAAAA==\",\"dtype\":\"float64\",\"shape\":[50]}},\"selected\":{\"id\":\"42967\",\"type\":\"Selection\"},\"selection_policy\":{\"id\":\"42968\",\"type\":\"UnionRenderers\"}},\"id\":\"40219\",\"type\":\"ColumnDataSource\"},{\"attributes\":{},\"id\":\"42971\",\"type\":\"Selection\"},{\"attributes\":{\"source\":{\"id\":\"40034\",\"type\":\"ColumnDataSource\"}},\"id\":\"40038\",\"type\":\"CDSView\"},{\"attributes\":{\"bottom\":{\"value\":0},\"fill_alpha\":{\"value\":0.05},\"fill_color\":{\"value\":\"#CB4777\"},\"left\":{\"field\":\"left\"},\"line_alpha\":{\"value\":0.05},\"line_color\":{\"value\":\"#7E03A7\"},\"right\":{\"field\":\"right\"},\"top\":{\"field\":\"top\"}},\"id\":\"40220\",\"type\":\"Quad\"},{\"attributes\":{},\"id\":\"42972\",\"type\":\"UnionRenderers\"},{\"attributes\":{\"data_source\":{\"id\":\"40039\",\"type\":\"ColumnDataSource\"},\"glyph\":{\"id\":\"40040\",\"type\":\"Quad\"},\"hover_glyph\":null,\"muted_glyph\":null,\"nonselection_glyph\":{\"id\":\"40041\",\"type\":\"Quad\"},\"selection_glyph\":null,\"view\":{\"id\":\"40043\",\"type\":\"CDSView\"}},\"id\":\"40042\",\"type\":\"GlyphRenderer\"},{\"attributes\":{\"bottom\":{\"value\":0},\"fill_alpha\":{\"value\":0.1},\"fill_color\":{\"value\":\"#1f77b4\"},\"left\":{\"field\":\"left\"},\"line_alpha\":{\"value\":0.1},\"line_color\":{\"value\":\"#1f77b4\"},\"right\":{\"field\":\"right\"},\"top\":{\"field\":\"top\"}},\"id\":\"40221\",\"type\":\"Quad\"},{\"attributes\":{\"bottom_units\":\"screen\",\"fill_alpha\":{\"value\":0.5},\"fill_color\":{\"value\":\"lightgrey\"},\"left_units\":\"screen\",\"level\":\"overlay\",\"line_alpha\":{\"value\":1.0},\"line_color\":{\"value\":\"black\"},\"line_dash\":[4,4],\"line_width\":{\"value\":2},\"render_mode\":\"css\",\"right_units\":\"screen\",\"top_units\":\"screen\"},\"id\":\"42973\",\"type\":\"BoxAnnotation\"},{\"attributes\":{\"data_source\":{\"id\":\"40219\",\"type\":\"ColumnDataSource\"},\"glyph\":{\"id\":\"40220\",\"type\":\"Quad\"},\"hover_glyph\":null,\"muted_glyph\":null,\"nonselection_glyph\":{\"id\":\"40221\",\"type\":\"Quad\"},\"selection_glyph\":null,\"view\":{\"id\":\"40223\",\"type\":\"CDSView\"}},\"id\":\"40222\",\"type\":\"GlyphRenderer\"},{\"attributes\":{\"text\":\"\"},\"id\":\"42765\",\"type\":\"Title\"},{\"attributes\":{\"source\":{\"id\":\"40039\",\"type\":\"ColumnDataSource\"}},\"id\":\"40043\",\"type\":\"CDSView\"},{\"attributes\":{\"source\":{\"id\":\"40219\",\"type\":\"ColumnDataSource\"}},\"id\":\"40223\",\"type\":\"CDSView\"},{\"attributes\":{\"bottom\":{\"value\":0},\"fill_alpha\":{\"value\":0.1},\"fill_color\":{\"value\":\"#1f77b4\"},\"left\":{\"field\":\"left\"},\"line_alpha\":{\"value\":0.1},\"line_color\":{\"value\":\"#1f77b4\"},\"right\":{\"field\":\"right\"},\"top\":{\"field\":\"top\"}},\"id\":\"39901\",\"type\":\"Quad\"},{\"attributes\":{},\"id\":\"42795\",\"type\":\"Selection\"},{\"attributes\":{\"data_source\":{\"id\":\"40149\",\"type\":\"ColumnDataSource\"},\"glyph\":{\"id\":\"40150\",\"type\":\"Quad\"},\"hover_glyph\":null,\"muted_glyph\":null,\"nonselection_glyph\":{\"id\":\"40151\",\"type\":\"Quad\"},\"selection_glyph\":null,\"view\":{\"id\":\"40153\",\"type\":\"CDSView\"}},\"id\":\"40152\",\"type\":\"GlyphRenderer\"},{\"attributes\":{\"source\":{\"id\":\"39969\",\"type\":\"ColumnDataSource\"}},\"id\":\"39973\",\"type\":\"CDSView\"},{\"attributes\":{\"callback\":null,\"data\":{\"left\":{\"__ndarray__\":\"Yegv7llybz/Gk48tDiGzPyXU1sVEo8I/Zt7ldAK2yz9UdPoRYGTSP3X5gem+7dY/lX4JwR132z/bgUhMPgDgP2tEDLjtROI/+wbQI52J5D+MyZOPTM7mPxyMV/v7Euk/rE4bZ6tX6z89Ed/SWpztP83Toj4K4e8/L0sz1dwS8T93LBWLNDXyP78N90CMV/M/B+/Y9uN59D9Q0LqsO5z1P5ixnGKTvvY/4JJ+GOvg9z8odGDOQgP5P3BVQoSaJfo/uDYkOvJH+z8BGAbwSWr8P0n556WhjP0/kdrJW/mu/j/Zu6sRUdH/P5HOxmPUeQBANb+3PgALAUDZr6gZLJwBQH2gmfRXLQJAIZGKz4O+AkDFgXuqr08DQGlybIXb4ANADWNdYAdyBECxU047MwMFQFZEPxZflAVA+jQw8YolBkCeJSHMtrYGQEIWEqfiRwdA5gYDgg7ZB0CK9/NcOmoIQC7o5Ddm+whA0tjVEpKMCUB2ycbtvR0KQBq6t8jprgpAvqqooxVAC0Bjm5l+QdELQA==\",\"dtype\":\"float64\",\"shape\":[50]},\"right\":{\"__ndarray__\":\"xpOPLQ4hsz8l1NbFRKPCP2be5XQCtss/VHT6EWBk0j91+YHpvu3WP5V+CcEdd9s/24FITD4A4D9rRAy47UTiP/sG0COdieQ/jMmTj0zO5j8cjFf7+xLpP6xOG2erV+s/PRHf0lqc7T/N06I+CuHvPy9LM9XcEvE/dywVizQ18j+/DfdAjFfzPwfv2PbjefQ/UNC6rDuc9T+YsZxik772P+CSfhjr4Pc/KHRgzkID+T9wVUKEmiX6P7g2JDryR/s/ARgG8Elq/D9J+eeloYz9P5HayVv5rv4/2burEVHR/z+RzsZj1HkAQDW/tz4ACwFA2a+oGSycAUB9oJn0Vy0CQCGRis+DvgJAxYF7qq9PA0BpcmyF2+ADQA1jXWAHcgRAsVNOOzMDBUBWRD8WX5QFQPo0MPGKJQZAniUhzLa2BkBCFhKn4kcHQOYGA4IO2QdAivfzXDpqCEAu6OQ3ZvsIQNLY1RKSjAlAdsnG7b0dCkAaurfI6a4KQL6qqKMVQAtAY5uZfkHRC0AGjIpZbWIMQA==\",\"dtype\":\"float64\",\"shape\":[50]},\"top\":{\"__ndarray__\":\"gGDmsFoX+T+AYOawWhf5P59bUGvPJ/U/f/WT5Umi9z9/WMckGBX4P+pja3H7Zfc//pALYlgV9j+AYOawWhf5P4Bg5rBaF/k/EMH7VcZ19D/+Nu/4HObsP3+y441TRPE/bsVQYIup8D//eZ9QE0TTP/95n1ATRNM//3mfUBNE0z/91U+WJ4neP/3VT5Ynie4//dVPlieJ3j//eZ9QE0TjP/3VT5Ynid4//jbv+Bzm7D//eZ9QE0TTPwFDsFf2XeY//3mfUBNE0z//eZ9QE0TTPwFDsFf2XeY/AAAAAAAA8P8AAAAAAADw/wAAAAAAAPD/AAAAAAAA8P8AAAAAAADw/wAAAAAAAPD/AAAAAAAAAAAAAAAAAADw/wAAAAAAAPD/AAAAAAAA8P8AAAAAAADw/wAAAAAAAPD/AAAAAAAA8P8AAAAAAADw/wAAAAAAAPD/AAAAAAAA8P8AAAAAAADw/wAAAAAAAPD/AAAAAAAA8P8AAAAAAAAAAAAAAAAAAPD/AAAAAAAA8P//eZ9QE0TTPw==\",\"dtype\":\"float64\",\"shape\":[50]}},\"selected\":{\"id\":\"42897\",\"type\":\"Selection\"},\"selection_policy\":{\"id\":\"42898\",\"type\":\"UnionRenderers\"}},\"id\":\"40044\",\"type\":\"ColumnDataSource\"},{\"attributes\":{\"bottom\":{\"value\":0},\"fill_alpha\":{\"value\":0.05},\"fill_color\":{\"value\":\"#CB4777\"},\"left\":{\"field\":\"left\"},\"line_alpha\":{\"value\":0.05},\"line_color\":{\"value\":\"#7E03A7\"},\"right\":{\"field\":\"right\"},\"top\":{\"field\":\"top\"}},\"id\":\"39905\",\"type\":\"Quad\"},{\"attributes\":{},\"id\":\"42798\",\"type\":\"UnionRenderers\"},{\"attributes\":{\"callback\":null,\"data\":{\"left\":{\"__ndarray__\":\"DLsl9rRXTz8vyQ7KSzOrP7l9ImCc9Lo/bcuebcknxD/+VyyrRNXKP0jyXPRfwdA/kLgjkx0Y1D/Zfuox227XPyFFsdCYxdo/aQt4b1Yc3j/ZaB8HirngP/3LgtboZOI/IS/mpUcQ5D9Fkkl1prvlP2r1rEQFZ+c/jlgQFGQS6T+yu3Pjwr3qP9Ye17Ihaew/+oE6goAU7j8f5Z1R37/vPyGkgBCftfA/s1UyeE6L8T9FB+Tf/WDyP9e4lUetNvM/aWpHr1wM9D/7G/kWDOL0P43Nqn67t/U/IH9c5mqN9j+yMA5OGmP3P0Tiv7XJOPg/1pNxHXkO+T9oRSOFKOT5P/r21OzXufo/jKiGVIeP+z8eWji8NmX8P7AL6iPmOv0/Qr2bi5UQ/j/Ubk3zROb+P2cg/1r0u/8//WhY4dFIAEDGQTGVqbMAQI8aCkmBHgFAWPPi/FiJAUAhzLuwMPQBQOqklGQIXwJAs31tGODJAkB8VkbMtzQDQEUvH4CPnwNADgj4M2cKBEDX4NDnPnUEQA==\",\"dtype\":\"float64\",\"shape\":[50]},\"right\":{\"__ndarray__\":\"L8kOykszqz+5fSJgnPS6P23Lnm3JJ8Q//lcsq0TVyj9I8lz0X8HQP5C4I5MdGNQ/2X7qMdtu1z8hRbHQmMXaP2kLeG9WHN4/2WgfB4q54D/9y4LW6GTiPyEv5qVHEOQ/RZJJdaa75T9q9axEBWfnP45YEBRkEuk/srtz48K96j/WHteyIWnsP/qBOoKAFO4/H+WdUd+/7z8hpIAQn7XwP7NVMnhOi/E/RQfk3/1g8j/XuJVHrTbzP2lqR69cDPQ/+xv5Fgzi9D+Nzap+u7f1PyB/XOZqjfY/sjAOThpj9z9E4r+1yTj4P9aTcR15Dvk/aEUjhSjk+T/69tTs17n6P4yohlSHj/s/Hlo4vDZl/D+wC+oj5jr9P0K9m4uVEP4/1G5N80Tm/j9nIP9a9Lv/P/1oWOHRSABAxkExlamzAECPGgpJgR4BQFjz4vxYiQFAIcy7sDD0AUDqpJRkCF8CQLN9bRjgyQJAfFZGzLc0A0BFLx+Aj58DQA4I+DNnCgRA1+DQ5z51BECguambFuAEQA==\",\"dtype\":\"float64\",\"shape\":[50]},\"top\":{\"__ndarray__\":\"IGa8hYWF/T9+hp9Horf9P4Ah2Cv7Lvs/6mNrcftl9z9/+Zsgo8n1PxDB+1XGdfQ//pALYlgV9j/OB1ApAHX5P26CoAiVS/o//u4vBu1r/T8BQ7BX9l32P5d9SzXrr/M/f7LjjVNE8T8XXHMJ8ID4PxB+S/7PF/4/z/DjF7uj9j/uo3g0kHr1P37JT5+YFfQ//dVPlieJ7j//eZ9QE0TTP/3VT5Ynid4//3mfUBNE4z/91U+WJ4neP/3VT5Ynid4/AUOwV/Zd5j/91U+WJ4neP/95n1ATRNM/AAAAAAAA8P8AAAAAAAAAAP95n1ATRNM/AAAAAAAAAAABQ7BX9l3mP/95n1ATROM//dVPlieJ3j8AAAAAAADwP/95n1ATROM//3mfUBNE0z//eZ9QE0TjPwAAAAAAAAAAAAAAAAAAAAAAAAAAAADw//95n1ATRNM/AAAAAAAA8P8AAAAAAADw/wAAAAAAAPD/AAAAAAAA8P8AAAAAAADw/wAAAAAAAPD/AAAAAAAA8P8AAAAAAAAAAA==\",\"dtype\":\"float64\",\"shape\":[50]}},\"selected\":{\"id\":\"42869\",\"type\":\"Selection\"},\"selection_policy\":{\"id\":\"42870\",\"type\":\"UnionRenderers\"}},\"id\":\"39974\",\"type\":\"ColumnDataSource\"},{\"attributes\":{\"bottom\":{\"value\":0},\"fill_alpha\":{\"value\":0.05},\"fill_color\":{\"value\":\"#CB4777\"},\"left\":{\"field\":\"left\"},\"line_alpha\":{\"value\":0.05},\"line_color\":{\"value\":\"#7E03A7\"},\"right\":{\"field\":\"right\"},\"top\":{\"field\":\"top\"}},\"id\":\"40045\",\"type\":\"Quad\"},{\"attributes\":{\"source\":{\"id\":\"40149\",\"type\":\"ColumnDataSource\"}},\"id\":\"40153\",\"type\":\"CDSView\"},{\"attributes\":{\"callback\":null,\"data\":{\"left\":{\"__ndarray__\":\"tiLw2+V5PD9bua0lgHKmPznJ0T8GVrY/4VpmNma5wD8n0eNMyUfGP21HYWMs1ss/2V7vvEey0D/8GS5IeXnTPx/VbNOqQNY/QpCrXtwH2T9lS+rpDc/bP4cGKXU/lt4/1OAzgLiu4D9mPtNFURLiP/ebcgvqdeM/ifkR0YLZ5D8aV7GWGz3mP6u0UFy0oOc/PRLwIU0E6T/Ob4/n5WfqP2DNLq1+y+s/8SrOchcv7T+CiG04sJLuPxTmDP5I9u8/0iHW4fCs8D+b0KVEvV7xP2R/daeJEPI/LS5FClbC8j/13BRtInTzP76L5M/uJfQ/hzq0MrvX9D9P6YOVh4n1PxiYU/hTO/Y/4UYjWyDt9j+p9fK97J73P3KkwiC5UPg/O1OSg4UC+T8DAmLmUbT5P8ywMUkeZvo/lV8BrOoX+z9eDtEOt8n7Pya9oHGDe/w/72tw1E8t/T+4GkA3HN/9P4DJD5rokP4/SXjf/LRC/z8SJ69fgfT/P+1qP+EmUwBAUUKnEg2sAEC2GQ9E8wQBQA==\",\"dtype\":\"float64\",\"shape\":[50]},\"right\":{\"__ndarray__\":\"W7mtJYBypj85ydE/Bla2P+FaZjZmucA/J9HjTMlHxj9tR2FjLNbLP9le77xHstA//BkuSHl50z8f1WzTqkDWP0KQq17cB9k/ZUvq6Q3P2z+HBil1P5beP9TgM4C4ruA/Zj7TRVES4j/3m3IL6nXjP4n5EdGC2eQ/Glexlhs95j+rtFBctKDnPz0S8CFNBOk/zm+P5+Vn6j9gzS6tfsvrP/EqznIXL+0/gohtOLCS7j8U5gz+SPbvP9Ih1uHwrPA/m9ClRL1e8T9kf3WniRDyPy0uRQpWwvI/9dwUbSJ08z++i+TP7iX0P4c6tDK71/Q/T+mDlYeJ9T8YmFP4Uzv2P+FGI1sg7fY/qfXyveye9z9ypMIguVD4PztTkoOFAvk/AwJi5lG0+T/MsDFJHmb6P5VfAazqF/s/Xg7RDrfJ+z8mvaBxg3v8P+9rcNRPLf0/uBpANxzf/T+AyQ+a6JD+P0l43/y0Qv8/EievX4H0/z/taj/hJlMAQFFCpxINrABAthkPRPMEAUAa8XZ12V0BQA==\",\"dtype\":\"float64\",\"shape\":[50]},\"top\":{\"__ndarray__\":\"aVn/VkUI/z8AKz1L0lwAQIjK24eKdABATuZ3/QRG/j/P8OMXu6P2P/6QC2JYFfY/7rrkRdVL+D+QnyMqy0b5P/6QC2JYFfY/EMH7VcZ19D9+yU+fmBX0P27FUGCLqfA//3mfUBNE8z//eZ9QE0TzP/95n1ATRPM//jbv+Bzm7D+fRORZilbyPwAAAAAAAPA/n0TkWYpW8j/+Nu/4HObsPwFDsFf2XeY//3mfUBNE4z8BQ7BX9l3mPwAAAAAAAAAAP8x4CwsL6z8AAAAAAAAAAP95n1ATRNM/AAAAAAAAAAD/eZ9QE0TTPwAAAAAAAAAA/dVPlieJ3j8AAAAAAADw/wAAAAAAAAAAAAAAAAAAAAAAAAAAAAAAAP95n1ATRNM/AAAAAAAA8P8AAAAAAAAAAP95n1ATRNM/AAAAAAAA8P8AAAAAAADw/wAAAAAAAPD/AAAAAAAA8P8AAAAAAADw//95n1ATRNM/AAAAAAAA8P8AAAAAAADw/wAAAAAAAPD/AAAAAAAA8P8AAAAAAAAAAA==\",\"dtype\":\"float64\",\"shape\":[50]}},\"selected\":{\"id\":\"42841\",\"type\":\"Selection\"},\"selection_policy\":{\"id\":\"42842\",\"type\":\"UnionRenderers\"}},\"id\":\"39904\",\"type\":\"ColumnDataSource\"},{\"attributes\":{},\"id\":\"42797\",\"type\":\"Selection\"},{\"attributes\":{\"bottom\":{\"value\":0},\"fill_alpha\":{\"value\":0.05},\"fill_color\":{\"value\":\"#CB4777\"},\"left\":{\"field\":\"left\"},\"line_alpha\":{\"value\":0.05},\"line_color\":{\"value\":\"#7E03A7\"},\"right\":{\"field\":\"right\"},\"top\":{\"field\":\"top\"}},\"id\":\"39975\",\"type\":\"Quad\"},{\"attributes\":{\"bottom\":{\"value\":0},\"fill_alpha\":{\"value\":0.1},\"fill_color\":{\"value\":\"#1f77b4\"},\"left\":{\"field\":\"left\"},\"line_alpha\":{\"value\":0.1},\"line_color\":{\"value\":\"#1f77b4\"},\"right\":{\"field\":\"right\"},\"top\":{\"field\":\"top\"}},\"id\":\"40046\",\"type\":\"Quad\"},{\"attributes\":{\"callback\":null,\"data\":{\"left\":{\"__ndarray__\":\"85buF0vFBj8s1D8+7HSmP1nW3JQTcrY/TeFMhdjUwD9vVytAp3DGP5HNCft1DMw/2SH0WiLU0D/qXGO4CaLTP/uX0hXxb9Y/DNNBc9g92T8dDrHQvwvcPy1JIC6n2d4/HsLHRcfT4D+nX3/0ujriPy/9NqOuoeM/uJruUaII5T9AOKYAlm/mP8jVXa+J1uc/UXMVXn096T/ZEM0McaTqP2KuhLtkC+w/6ks8alhy7T9y6fMYTNnuP33D1eMfIPA/QZIxu5nT8D8GYY2SE4fxP8ov6WmNOvI/jv5EQQfu8j9SzaAYgaHzPxac/O/6VPQ/22pYx3QI9T+fObSe7rv1P2MIEHZob/Y/J9drTeIi9z/rpcckXNb3P7B0I/zVifg/dEN/0089+T84EtuqyfD5P/zgNoJDpPo/wK+SWb1X+z+Ffu4wNwv8P0lNSgixvvw/DRym3ypy/T/R6gG3pCX+P5W5XY4e2f4/WYi5ZZiM/z+Pq4oeCSAAQPGSOArGeQBAU3rm9YLTAEC2YZThPy0BQA==\",\"dtype\":\"float64\",\"shape\":[50]},\"right\":{\"__ndarray__\":\"LNQ/Pux0pj9Z1tyUE3K2P03hTIXY1MA/b1crQKdwxj+RzQn7dQzMP9kh9Foi1NA/6lxjuAmi0z/7l9IV8W/WPwzTQXPYPdk/HQ6x0L8L3D8tSSAup9nePx7Cx0XH0+A/p19/9Lo64j8v/TajrqHjP7ia7lGiCOU/QDimAJZv5j/I1V2vidbnP1FzFV59Pek/2RDNDHGk6j9iroS7ZAvsP+pLPGpYcu0/cunzGEzZ7j99w9XjHyDwP0GSMbuZ0/A/BmGNkhOH8T/KL+lpjTryP47+REEH7vI/Us2gGIGh8z8WnPzv+lT0P9tqWMd0CPU/nzm0nu679T9jCBB2aG/2PyfXa03iIvc/66XHJFzW9z+wdCP81Yn4P3RDf9NPPfk/OBLbqsnw+T/84DaCQ6T6P8Cvklm9V/s/hX7uMDcL/D9JTUoIsb78Pw0cpt8qcv0/0eoBt6Ql/j+VuV2OHtn+P1mIuWWYjP8/j6uKHgkgAEDxkjgKxnkAQFN65vWC0wBAtmGU4T8tAUAYSULN/IYBQA==\",\"dtype\":\"float64\",\"shape\":[50]},\"top\":{\"__ndarray__\":\"NEWFQ6ZMAEB+hp9Horf9P5Hi04HBpP8/FnPfGjVS+z+XOpvd9FH9P4jK24eKdABAzqZ0KNHJ/z9qQpNFADf8P5C2jzsQGPw/ZkaA6KKt/D9/WMckGBX4PwC9T6gJovk/f1jHJBgV+D9ugqAIlUv6P37gu7Dd5vY/EMH7VcZ19D+XfUs166/zPwAAAAAAAPA/5mdYFJ7c9z9/suONU0TxP27FUGCLqfA//jbv+Bzm7D8/zHgLCwvrP/95n1ATROM//dVPlieJ7j8BQ7BX9l3mPwAXbBFF0fI/EMH7VcZ19D/91U+WJ4nuPwFDsFf2XeY//jbv+Bzm7D//eZ9QE0TTP/95n1ATRNM/AAAAAAAA8P/91U+WJ4neP/95n1ATRNM//3mfUBNE0z8AAAAAAAAAAAAAAAAAAAAAAAAAAAAA8P8AAAAAAADw/wAAAAAAAPD/AAAAAAAA8P8AAAAAAAAAAAAAAAAAAPD/AAAAAAAA8P8AAAAAAADw/wAAAAAAAPD/AAAAAAAA8P//eZ9QE0TTPw==\",\"dtype\":\"float64\",\"shape\":[50]}},\"selected\":{\"id\":\"42941\",\"type\":\"Selection\"},\"selection_policy\":{\"id\":\"42942\",\"type\":\"UnionRenderers\"}},\"id\":\"40154\",\"type\":\"ColumnDataSource\"},{\"attributes\":{\"source\":{\"id\":\"39899\",\"type\":\"ColumnDataSource\"}},\"id\":\"39903\",\"type\":\"CDSView\"},{\"attributes\":{},\"id\":\"42796\",\"type\":\"UnionRenderers\"},{\"attributes\":{\"data_source\":{\"id\":\"40044\",\"type\":\"ColumnDataSource\"},\"glyph\":{\"id\":\"40045\",\"type\":\"Quad\"},\"hover_glyph\":null,\"muted_glyph\":null,\"nonselection_glyph\":{\"id\":\"40046\",\"type\":\"Quad\"},\"selection_glyph\":null,\"view\":{\"id\":\"40048\",\"type\":\"CDSView\"}},\"id\":\"40047\",\"type\":\"GlyphRenderer\"},{\"attributes\":{\"bottom\":{\"value\":0},\"fill_alpha\":{\"value\":0.1},\"fill_color\":{\"value\":\"#1f77b4\"},\"left\":{\"field\":\"left\"},\"line_alpha\":{\"value\":0.1},\"line_color\":{\"value\":\"#1f77b4\"},\"right\":{\"field\":\"right\"},\"top\":{\"field\":\"top\"}},\"id\":\"39976\",\"type\":\"Quad\"},{\"attributes\":{\"bottom\":{\"value\":0},\"fill_alpha\":{\"value\":0.05},\"fill_color\":{\"value\":\"#CB4777\"},\"left\":{\"field\":\"left\"},\"line_alpha\":{\"value\":0.05},\"line_color\":{\"value\":\"#7E03A7\"},\"right\":{\"field\":\"right\"},\"top\":{\"field\":\"top\"}},\"id\":\"40155\",\"type\":\"Quad\"},{\"attributes\":{\"data_source\":{\"id\":\"39899\",\"type\":\"ColumnDataSource\"},\"glyph\":{\"id\":\"39900\",\"type\":\"Quad\"},\"hover_glyph\":null,\"muted_glyph\":null,\"nonselection_glyph\":{\"id\":\"39901\",\"type\":\"Quad\"},\"selection_glyph\":null,\"view\":{\"id\":\"39903\",\"type\":\"CDSView\"}},\"id\":\"39902\",\"type\":\"GlyphRenderer\"},{\"attributes\":{},\"id\":\"42800\",\"type\":\"UnionRenderers\"},{\"attributes\":{\"data_source\":{\"id\":\"39974\",\"type\":\"ColumnDataSource\"},\"glyph\":{\"id\":\"39975\",\"type\":\"Quad\"},\"hover_glyph\":null,\"muted_glyph\":null,\"nonselection_glyph\":{\"id\":\"39976\",\"type\":\"Quad\"},\"selection_glyph\":null,\"view\":{\"id\":\"39978\",\"type\":\"CDSView\"}},\"id\":\"39977\",\"type\":\"GlyphRenderer\"},{\"attributes\":{\"source\":{\"id\":\"40044\",\"type\":\"ColumnDataSource\"}},\"id\":\"40048\",\"type\":\"CDSView\"},{\"attributes\":{\"bottom\":{\"value\":0},\"fill_alpha\":{\"value\":0.1},\"fill_color\":{\"value\":\"#1f77b4\"},\"left\":{\"field\":\"left\"},\"line_alpha\":{\"value\":0.1},\"line_color\":{\"value\":\"#1f77b4\"},\"right\":{\"field\":\"right\"},\"top\":{\"field\":\"top\"}},\"id\":\"40156\",\"type\":\"Quad\"},{\"attributes\":{},\"id\":\"42799\",\"type\":\"Selection\"},{\"attributes\":{\"data_source\":{\"id\":\"40154\",\"type\":\"ColumnDataSource\"},\"glyph\":{\"id\":\"40155\",\"type\":\"Quad\"},\"hover_glyph\":null,\"muted_glyph\":null,\"nonselection_glyph\":{\"id\":\"40156\",\"type\":\"Quad\"},\"selection_glyph\":null,\"view\":{\"id\":\"40158\",\"type\":\"CDSView\"}},\"id\":\"40157\",\"type\":\"GlyphRenderer\"},{\"attributes\":{\"source\":{\"id\":\"39904\",\"type\":\"ColumnDataSource\"}},\"id\":\"39908\",\"type\":\"CDSView\"},{\"attributes\":{\"source\":{\"id\":\"39974\",\"type\":\"ColumnDataSource\"}},\"id\":\"39978\",\"type\":\"CDSView\"},{\"attributes\":{\"callback\":null,\"data\":{\"left\":{\"__ndarray__\":\"gxqEr1XHNj80CnI/sQC0PyZImpRN9cM/M4t7iULqzT8gZy6/m+/TP6YInzkW6tg/LaoPtJDk3T/ZJUCXhW/hP5x2eNTC7OM/X8ewEQBq5j8iGOlOPefoP+VoIYx6ZOs/qblZybfh7T82BUmDei/wP5gt5SEZbvE/+VWBwLes8j9bfh1fVuvzP72muf30KfU/Hs9VnJNo9j+A9/E6Mqf3P+EfjtnQ5fg/Q0gqeG8k+j+kcMYWDmP7PwaZYrWsofw/aMH+U0vg/T/J6Zry6R7/PxWJm0jELgBARp3plxPOAEB3sTfnYm0BQKjFhTayDAJA2NnThQGsAkAJ7iHVUEsDQDoCcCSg6gNAaxa+c++JBECcKgzDPikFQMw+WhKOyAVA/VKoYd1nBkAuZ/awLAcHQF97RAB8pgdAj4+ST8tFCEDAo+CeGuUIQPG3Lu5phAlAIsx8PbkjCkBT4MqMCMMKQIP0GNxXYgtAtAhnK6cBDEDlHLV69qAMQBYxA8pFQA1AR0VRGZXfDUB3WZ9o5H4OQA==\",\"dtype\":\"float64\",\"shape\":[50]},\"right\":{\"__ndarray__\":\"NApyP7EAtD8mSJqUTfXDPzOLe4lC6s0/IGcuv5vv0z+mCJ85FurYPy2qD7SQ5N0/2SVAl4Vv4T+cdnjUwuzjP1/HsBEAauY/IhjpTj3n6D/laCGMemTrP6m5Wcm34e0/NgVJg3ov8D+YLeUhGW7xP/lVgcC3rPI/W34dX1br8z+9prn99Cn1Px7PVZyTaPY/gPfxOjKn9z/hH47Z0OX4P0NIKnhvJPo/pHDGFg5j+z8GmWK1rKH8P2jB/lNL4P0/yema8uke/z8ViZtIxC4AQEad6ZcTzgBAd7E352JtAUCoxYU2sgwCQNjZ04UBrAJACe4h1VBLA0A6AnAkoOoDQGsWvnPviQRAnCoMwz4pBUDMPloSjsgFQP1SqGHdZwZALmf2sCwHB0Bfe0QAfKYHQI+Pkk/LRQhAwKPgnhrlCEDxty7uaYQJQCLMfD25IwpAU+DKjAjDCkCD9BjcV2ILQLQIZyunAQxA5Ry1evagDEAWMQPKRUANQEdFURmV3w1Ad1mfaOR+DkCobe23Mx4PQA==\",\"dtype\":\"float64\",\"shape\":[50]},\"top\":{\"__ndarray__\":\"ygTl8wAYAUCIytuHinQAQJHi04HBpP8//9fD9Kea+j9YDAJy9s35P+ZnWBSe3Pc/fslPn5gV9D9/suONU0TxP/6QC2JYFfY/z/DjF7uj9j8AAAAAAADwPz/MeAsLC+s/7qN4NJB69T//eZ9QE0TjP/3VT5Ynid4/P8x4CwsL6z//eZ9QE0TTP/95n1ATROM//dVPlieJ3j//eZ9QE0TTPwAAAAAAAAAAAAAAAAAA8P//eZ9QE0TTP/95n1ATRNM/AAAAAAAAAAAAAAAAAADw/wAAAAAAAPD/AAAAAAAA8P8AAAAAAADw//95n1ATRNM/AAAAAAAA8P8AAAAAAADw/wAAAAAAAAAAAAAAAAAA8P//eZ9QE0TTPwAAAAAAAPD/AAAAAAAA8P8AAAAAAADw/wAAAAAAAPD/AAAAAAAAAAAAAAAAAADw/wAAAAAAAPD/AAAAAAAA8P8AAAAAAAAAAAAAAAAAAPD//3mfUBNE0z//eZ9QE0TTP/95n1ATRNM/AAAAAAAAAAABQ7BX9l3mPw==\",\"dtype\":\"float64\",\"shape\":[50]}},\"selected\":{\"id\":\"42899\",\"type\":\"Selection\"},\"selection_policy\":{\"id\":\"42900\",\"type\":\"UnionRenderers\"}},\"id\":\"40049\",\"type\":\"ColumnDataSource\"},{\"attributes\":{},\"id\":\"42803\",\"type\":\"Selection\"},{\"attributes\":{\"data_source\":{\"id\":\"39904\",\"type\":\"ColumnDataSource\"},\"glyph\":{\"id\":\"39905\",\"type\":\"Quad\"},\"hover_glyph\":null,\"muted_glyph\":null,\"nonselection_glyph\":{\"id\":\"39906\",\"type\":\"Quad\"},\"selection_glyph\":null,\"view\":{\"id\":\"39908\",\"type\":\"CDSView\"}},\"id\":\"39907\",\"type\":\"GlyphRenderer\"},{\"attributes\":{\"callback\":null,\"data\":{\"left\":{\"__ndarray__\":\"85buF0vFBj804lXtdMG1P0pjpJgIwMU/vupOXatP0D/Wo0tuUr/VP+5cSH/5Lts/A4siSFBP4D+P56DQIwfjPxtEH1n3vuU/p6Cd4cp26D8z/Rtqni7rP79ZmvJx5u0/JluMvSJP8D9sicuBDKvxP7K3Ckb2BvM/+OVJCuBi9D8+FInOyb71P4RCyJKzGvc/ynAHV512+D8Qn0Ybh9L5P1bNhd9wLvs/nPvEo1qK/D/iKQRoROb9PyhYQywuQv8/OENB+AtPAEBb2mDaAP0AQH5xgLz1qgFAoQignupYAkDEn7+A3wYDQOc232LUtANACs7+RMliBEAtZR4nvhAFQFD8PQmzvgVAc5Nd66dsBkCWKn3NnBoHQLnBnK+RyAdA3Fi8kYZ2CED/79tzeyQJQCKH+1Vw0glARR4bOGWACkBotToaWi4LQItMWvxO3AtAruN53kOKDEDRepnAODgNQPQRuaIt5g1AF6nYhCKUDkA6QPhmF0IPQF3XF0kM8A9AQLeblQBPEEDRgqsG+6UQQA==\",\"dtype\":\"float64\",\"shape\":[50]},\"right\":{\"__ndarray__\":\"NOJV7XTBtT9KY6SYCMDFP77qTl2rT9A/1qNLblK/1T/uXEh/+S7bPwOLIkhQT+A/j+eg0CMH4z8bRB9Z977lP6egneHKdug/M/0bap4u6z+/WZrycebtPyZbjL0iT/A/bInLgQyr8T+ytwpG9gbzP/jlSQrgYvQ/PhSJzsm+9T+EQsiSsxr3P8pwB1eddvg/EJ9GG4fS+T9WzYXfcC77P5z7xKNaivw/4ikEaETm/T8oWEMsLkL/PzhDQfgLTwBAW9pg2gD9AEB+cYC89aoBQKEIoJ7qWAJAxJ+/gN8GA0DnNt9i1LQDQArO/kTJYgRALWUeJ74QBUBQ/D0Js74FQHOTXeunbAZAlip9zZwaB0C5wZyvkcgHQNxYvJGGdghA/+/bc3skCUAih/tVcNIJQEUeGzhlgApAaLU6GlouC0CLTFr8TtwLQK7jed5DigxA0XqZwDg4DUD0EbmiLeYNQBep2IQilA5AOkD4ZhdCD0Bd1xdJDPAPQEC3m5UATxBA0YKrBvulEEBjTrt39fwQQA==\",\"dtype\":\"float64\",\"shape\":[50]},\"top\":{\"__ndarray__\":\"r3fCHE0ZCUCRcrNO+tcHQD4PlSFYlAdAr/BXsiCdBkB8KPNlQBIGQE4XaiAcUwVA+g1yzqGzBED3dw1fAoIEQEvKWyOYQANA6YpLfIWgAkCs5CgNALgBQPc7Gnfv9gBA24/4pNkIAEAAPw6FX+j9P/6+44Tit/s/kJ8jKstG+T9/DAD3jnP6PxZz3xo1Uvs//pALYlgV9j8QwftVxnX0P08SvEO20vE//3mfUBNE8z/uo3g0kHr1P5d9SzXrr/M/AL1PqAmi+T8XXHMJ8ID4P59E5FmKVvI/AUOwV/Zd5j/+Nu/4HObsP/427/gc5uw/TxK8Q7bS8T//eZ9QE0TjPwAAAAAAAAAAAAAAAAAAAAAAAAAAAAAAAP95n1ATRNM//3mfUBNE0z8AAAAAAADw/wAAAAAAAPD/AAAAAAAA8P8AAAAAAADw/wFDsFf2XeY/AAAAAAAA8P8AAAAAAADw/wAAAAAAAAAAAAAAAAAA8P8AAAAAAADw/wAAAAAAAPD/AAAAAAAA8P8AAAAAAAAAAA==\",\"dtype\":\"float64\",\"shape\":[50]}},\"selected\":{\"id\":\"42871\",\"type\":\"Selection\"},\"selection_policy\":{\"id\":\"42872\",\"type\":\"UnionRenderers\"}},\"id\":\"39979\",\"type\":\"ColumnDataSource\"},{\"attributes\":{\"bottom\":{\"value\":0},\"fill_alpha\":{\"value\":0.05},\"fill_color\":{\"value\":\"#CB4777\"},\"left\":{\"field\":\"left\"},\"line_alpha\":{\"value\":0.05},\"line_color\":{\"value\":\"#7E03A7\"},\"right\":{\"field\":\"right\"},\"top\":{\"field\":\"top\"}},\"id\":\"40050\",\"type\":\"Quad\"},{\"attributes\":{\"source\":{\"id\":\"40154\",\"type\":\"ColumnDataSource\"}},\"id\":\"40158\",\"type\":\"CDSView\"},{\"attributes\":{},\"id\":\"42802\",\"type\":\"UnionRenderers\"},{\"attributes\":{\"bottom\":{\"value\":0},\"fill_alpha\":{\"value\":0.1},\"fill_color\":{\"value\":\"#1f77b4\"},\"left\":{\"field\":\"left\"},\"line_alpha\":{\"value\":0.1},\"line_color\":{\"value\":\"#1f77b4\"},\"right\":{\"field\":\"right\"},\"top\":{\"field\":\"top\"}},\"id\":\"39906\",\"type\":\"Quad\"},{\"attributes\":{\"bottom\":{\"value\":0},\"fill_alpha\":{\"value\":0.05},\"fill_color\":{\"value\":\"#CB4777\"},\"left\":{\"field\":\"left\"},\"line_alpha\":{\"value\":0.05},\"line_color\":{\"value\":\"#7E03A7\"},\"right\":{\"field\":\"right\"},\"top\":{\"field\":\"top\"}},\"id\":\"39980\",\"type\":\"Quad\"},{\"attributes\":{\"bottom\":{\"value\":0},\"fill_alpha\":{\"value\":0.1},\"fill_color\":{\"value\":\"#1f77b4\"},\"left\":{\"field\":\"left\"},\"line_alpha\":{\"value\":0.1},\"line_color\":{\"value\":\"#1f77b4\"},\"right\":{\"field\":\"right\"},\"top\":{\"field\":\"top\"}},\"id\":\"40051\",\"type\":\"Quad\"},{\"attributes\":{\"callback\":null,\"data\":{\"left\":{\"__ndarray__\":\"gxqEr1XHNj+RewNL2kaxP4O5K6B2O8E/PrXVGoDTyT992L/KxDXRP1vWFIjJgdU/ONRpRc7N2T8V0r4C0xneP/nnCeDrMuE/6Ga0Pu5Y4z/X5V6d8H7lP8VkCfzypOc/tOOzWvXK6T+jYl659/DrP5HhCBj6Fu4/QbBZO34e8D+4765qfzHxPy8vBJqARPI/p25ZyYFX8z8erq74gmr0P5btAyiEffU/DS1ZV4WQ9j+EbK6GhqP3P/yrA7aHtvg/c+tY5YjJ+T/qKq4Uitz6P2JqA0SL7/s/2alYc4wC/T9Q6a2ijRX+P8goA9KOKP8/IDSsAMgdAEDb01aYSKcAQJdzATDJMAFAUxOsx0m6AUAOs1ZfykMCQMpSAfdKzQJAhvKrjstWA0BBklYmTOADQP0xAb7MaQRAudGrVU3zBEB1cVbtzXwFQDARAYVOBgZA7LCrHM+PBkCoUFa0TxkHQGPwAEzQogdAH5Cr41AsCEDbL1Z70bUIQJbPABNSPwlAUm+rqtLICUAOD1ZCU1IKQA==\",\"dtype\":\"float64\",\"shape\":[50]},\"right\":{\"__ndarray__\":\"kXsDS9pGsT+DuSugdjvBPz611RqA08k/fdi/ysQ10T9b1hSIyYHVPzjUaUXOzdk/FdK+AtMZ3j/55wng6zLhP+hmtD7uWOM/1+VenfB+5T/FZAn88qTnP7Tjs1r1yuk/o2Jeuffw6z+R4QgY+hbuP0GwWTt+HvA/uO+uan8x8T8vLwSagETyP6duWcmBV/M/Hq6u+IJq9D+W7QMohH31Pw0tWVeFkPY/hGyuhoaj9z/8qwO2h7b4P3PrWOWIyfk/6iquFIrc+j9iagNEi+/7P9mpWHOMAv0/UOmtoo0V/j/IKAPSjij/PyA0rADIHQBA29NWmEinAECXcwEwyTABQFMTrMdJugFADrNWX8pDAkDKUgH3Ss0CQIbyq47LVgNAQZJWJkzgA0D9MQG+zGkEQLnRq1VN8wRAdXFW7c18BUAwEQGFTgYGQOywqxzPjwZAqFBWtE8ZB0Bj8ABM0KIHQB+Qq+NQLAhA2y9We9G1CECWzwATUj8JQFJvq6rSyAlADg9WQlNSCkDJrgDa09sKQA==\",\"dtype\":\"float64\",\"shape\":[50]},\"top\":{\"__ndarray__\":\"P/Bd2G5zA0BiBlbP1wUCQPPHg7xQwQJApgZbk7Mw/z8dmSCD7pH/P/7uLwbta/0/EH5L/s8X/j+QnyMqy0b5P84HUCkAdfk/6mNrcftl9z/qY2tx+2X3P/6+44Tit/s/bpkMGtoc/T/uuuRF1Uv4Px8jDC6PJ/c/F1xzCfCA+D9/+Zsgo8n1P5d9SzXrr/M/ABdsEUXR8j9+4Luw3eb2P/427/gc5uw//jbv+Bzm7D/+Nu/4HObsP/95n1ATROM//qd3c53m6D/+p3dzneboP/3VT5Ynie4/AAAAAAAAAAD91U+WJ4nePwFDsFf2XeY//3mfUBNE0z8AAAAAAADw/wAAAAAAAAAAAAAAAAAA8P/91U+WJ4neP/95n1ATRNM/AAAAAAAAAAD/eZ9QE0TjPwAAAAAAAPD/AAAAAAAAAAAAAAAAAADw/wAAAAAAAPD/AAAAAAAA8P8AAAAAAADw/wAAAAAAAPD/AAAAAAAA8P8AAAAAAADw/wAAAAAAAPD/AAAAAAAA8P//eZ9QE0TTPw==\",\"dtype\":\"float64\",\"shape\":[50]}},\"selected\":{\"id\":\"42943\",\"type\":\"Selection\"},\"selection_policy\":{\"id\":\"42944\",\"type\":\"UnionRenderers\"}},\"id\":\"40159\",\"type\":\"ColumnDataSource\"},{\"attributes\":{},\"id\":\"42801\",\"type\":\"Selection\"},{\"attributes\":{\"data_source\":{\"id\":\"39909\",\"type\":\"ColumnDataSource\"},\"glyph\":{\"id\":\"39910\",\"type\":\"Quad\"},\"hover_glyph\":null,\"muted_glyph\":null,\"nonselection_glyph\":{\"id\":\"39911\",\"type\":\"Quad\"},\"selection_glyph\":null,\"view\":{\"id\":\"39913\",\"type\":\"CDSView\"}},\"id\":\"39912\",\"type\":\"GlyphRenderer\"},{\"attributes\":{\"data_source\":{\"id\":\"40049\",\"type\":\"ColumnDataSource\"},\"glyph\":{\"id\":\"40050\",\"type\":\"Quad\"},\"hover_glyph\":null,\"muted_glyph\":null,\"nonselection_glyph\":{\"id\":\"40051\",\"type\":\"Quad\"},\"selection_glyph\":null,\"view\":{\"id\":\"40053\",\"type\":\"CDSView\"}},\"id\":\"40052\",\"type\":\"GlyphRenderer\"},{\"attributes\":{\"bottom\":{\"value\":0},\"fill_alpha\":{\"value\":0.1},\"fill_color\":{\"value\":\"#1f77b4\"},\"left\":{\"field\":\"left\"},\"line_alpha\":{\"value\":0.1},\"line_color\":{\"value\":\"#1f77b4\"},\"right\":{\"field\":\"right\"},\"top\":{\"field\":\"top\"}},\"id\":\"39981\",\"type\":\"Quad\"},{\"attributes\":{\"bottom\":{\"value\":0},\"fill_alpha\":{\"value\":0.05},\"fill_color\":{\"value\":\"#CB4777\"},\"left\":{\"field\":\"left\"},\"line_alpha\":{\"value\":0.05},\"line_color\":{\"value\":\"#7E03A7\"},\"right\":{\"field\":\"right\"},\"top\":{\"field\":\"top\"}},\"id\":\"40160\",\"type\":\"Quad\"},{\"attributes\":{},\"id\":\"42806\",\"type\":\"UnionRenderers\"},{\"attributes\":{\"data_source\":{\"id\":\"39979\",\"type\":\"ColumnDataSource\"},\"glyph\":{\"id\":\"39980\",\"type\":\"Quad\"},\"hover_glyph\":null,\"muted_glyph\":null,\"nonselection_glyph\":{\"id\":\"39981\",\"type\":\"Quad\"},\"selection_glyph\":null,\"view\":{\"id\":\"39983\",\"type\":\"CDSView\"}},\"id\":\"39982\",\"type\":\"GlyphRenderer\"},{\"attributes\":{\"bottom\":{\"value\":0},\"fill_alpha\":{\"value\":0.1},\"fill_color\":{\"value\":\"#1f77b4\"},\"left\":{\"field\":\"left\"},\"line_alpha\":{\"value\":0.1},\"line_color\":{\"value\":\"#1f77b4\"},\"right\":{\"field\":\"right\"},\"top\":{\"field\":\"top\"}},\"id\":\"39911\",\"type\":\"Quad\"},{\"attributes\":{\"source\":{\"id\":\"40049\",\"type\":\"ColumnDataSource\"}},\"id\":\"40053\",\"type\":\"CDSView\"},{\"attributes\":{\"bottom\":{\"value\":0},\"fill_alpha\":{\"value\":0.1},\"fill_color\":{\"value\":\"#1f77b4\"},\"left\":{\"field\":\"left\"},\"line_alpha\":{\"value\":0.1},\"line_color\":{\"value\":\"#1f77b4\"},\"right\":{\"field\":\"right\"},\"top\":{\"field\":\"top\"}},\"id\":\"40161\",\"type\":\"Quad\"},{\"attributes\":{},\"id\":\"42805\",\"type\":\"Selection\"},{\"attributes\":{\"data_source\":{\"id\":\"40159\",\"type\":\"ColumnDataSource\"},\"glyph\":{\"id\":\"40160\",\"type\":\"Quad\"},\"hover_glyph\":null,\"muted_glyph\":null,\"nonselection_glyph\":{\"id\":\"40161\",\"type\":\"Quad\"},\"selection_glyph\":null,\"view\":{\"id\":\"40163\",\"type\":\"CDSView\"}},\"id\":\"40162\",\"type\":\"GlyphRenderer\"},{\"attributes\":{\"bottom\":{\"value\":0},\"fill_alpha\":{\"value\":0.05},\"fill_color\":{\"value\":\"#CB4777\"},\"left\":{\"field\":\"left\"},\"line_alpha\":{\"value\":0.05},\"line_color\":{\"value\":\"#7E03A7\"},\"right\":{\"field\":\"right\"},\"top\":{\"field\":\"top\"}},\"id\":\"39910\",\"type\":\"Quad\"},{\"attributes\":{\"source\":{\"id\":\"39979\",\"type\":\"ColumnDataSource\"}},\"id\":\"39983\",\"type\":\"CDSView\"},{\"attributes\":{\"callback\":null,\"data\":{\"left\":{\"__ndarray__\":\"Y1p1ACvGJj9mvMAGKbqxPxCfAHx3tME/7d+gdNqLyj9kkKC2nrHRP9Kw8DJQHdY/QdFArwGJ2j+v8ZArs/TePw+J8FMysOE/RpkYEgvm4z99qUDQ4xvmP7S5aI68Ueg/7MmQTJWH6j8j2rgKbr3sP1rq4MhG8+4/SH2Ew4+U8D9khZgifK/xP4CNrIFoyvI/m5XA4FTl8z+3ndQ/QQD1P9Kl6J4tG/Y/7q38/Rk29z8JthBdBlH4PyW+JLzya/k/QcY4G9+G+j9czkx6y6H7P3jWYNm3vPw/k950OKTX/T+v5oiXkPL+P2V3Tnu+BgBAcnvYqjSUAECAf2LaqiEBQI6D7AkhrwFAnId2OZc8AkCqiwBpDcoCQLePipiDVwNAxZMUyPnkA0DTl573b3IEQOGbKCfm/wRA7p+yVlyNBUD8ozyG0hoGQAqoxrVIqAZAGKxQ5b41B0AmsNoUNcMHQDO0ZESrUAhAQbjucyHeCEBPvHijl2sJQF3AAtMN+QlAa8SMAoSGCkB4yBYy+hMLQA==\",\"dtype\":\"float64\",\"shape\":[50]},\"right\":{\"__ndarray__\":\"ZrzABim6sT8QnwB8d7TBP+3foHTai8o/ZJCgtp6x0T/SsPAyUB3WP0HRQK8Bido/r/GQK7P03j8PifBTMrDhP0aZGBIL5uM/falA0OMb5j+0uWiOvFHoP+zJkEyVh+o/I9q4Cm697D9a6uDIRvPuP0h9hMOPlPA/ZIWYInyv8T+AjayBaMryP5uVwOBU5fM/t53UP0EA9T/SpeieLRv2P+6t/P0ZNvc/CbYQXQZR+D8lviS88mv5P0HGOBvfhvo/XM5Mesuh+z941mDZt7z8P5PedDik1/0/r+aIl5Dy/j9ld057vgYAQHJ72Ko0lABAgH9i2qohAUCOg+wJIa8BQJyHdjmXPAJAqosAaQ3KAkC3j4qYg1cDQMWTFMj55ANA05ee929yBEDhmygn5v8EQO6fslZcjQVA/KM8htIaBkAKqMa1SKgGQBisUOW+NQdAJrDaFDXDB0AztGREq1AIQEG47nMh3ghAT7x4o5drCUBdwALTDfkJQGvEjAKEhgpAeMgWMvoTC0CGzKBhcKELQA==\",\"dtype\":\"float64\",\"shape\":[50]},\"top\":{\"__ndarray__\":\"Vy33DfJsAkAOWEbKmTEBQHMSVN5TvwBA9zsad+/2AEB+hp9Horf9PzRFhUOmTABAv6qg3w/c/z/+6ifLk0T/PxZz3xo1Uvs//u4vBu1r/T/u8EDraFX8Px86eD/U+Pk/Hzp4P9T4+T/qY2tx+2X3P4Bg5rBaF/k/z/DjF7uj9j/+kAtiWBX2P4DeJ9QE0fQ/EMH7VcZ19D//eZ9QE0TzPwAAAAAAAPA//qd3c53m6D/+p3dzneboP/3VT5Ynie4//dVPlieJ7j8AAAAAAAAAAAAAAAAAAAAAAAAAAAAAAAAAAAAAAADw/wAAAAAAAAAAAAAAAAAAAAD91U+WJ4neP/3VT5Ynid4/AAAAAAAAAAAAAAAAAADw/wAAAAAAAPD/AAAAAAAA8P8AAAAAAAAAAAAAAAAAAAAAAAAAAAAA8P8AAAAAAADw/wAAAAAAAPD/AAAAAAAA8P8AAAAAAADw/wAAAAAAAPD/AAAAAAAA8P8AAAAAAADw/wAAAAAAAPD/AAAAAAAA8P8AAAAAAAAAAA==\",\"dtype\":\"float64\",\"shape\":[50]}},\"selected\":{\"id\":\"42901\",\"type\":\"Selection\"},\"selection_policy\":{\"id\":\"42902\",\"type\":\"UnionRenderers\"}},\"id\":\"40054\",\"type\":\"ColumnDataSource\"},{\"attributes\":{},\"id\":\"42804\",\"type\":\"UnionRenderers\"},{\"attributes\":{\"callback\":null,\"data\":{\"left\":{\"__ndarray__\":\"85buF0vFBj/dCRHKg8SqPwoMriCrwbo/kskpLooQxD8gjfzLPsDKP1eo57T5t9A/HgrRA9QP1D/la7pSrmfXP6zNo6GIv9o/cy+N8GIX3j+cSLufnrfgP4D5L8eLY+I/Y6qk7ngP5D9HWxkWZrvlPyoMjj1TZ+c/Dr0CZUAT6T/xbXeMLb/qP9Qe7LMaa+w/uM9g2wcX7j+bgNUC9cLvP78YJRVxt/A/MXHfqGeN8T+jyZk8XmPyPxUiVNBUOfM/hnoOZEsP9D/40sj3QeX0P2org4s4u/U/24M9Hy+R9j9N3PeyJWf3P780skYcPfg/MY1s2hIT+T+i5SZuCen5PxQ+4QEAv/o/hpablfaU+z/37lUp7Wr8P2lHEL3jQP0/25/KUNoW/j9N+ITk0Oz+P75QP3jHwv8/mdT8BV9MAEDRANpPWrcAQAott5lVIgFAQ1mU41CNAUB8hXEtTPgBQLWxTndHYwJA7t0rwULOAkAnCgkLPjkDQF825lQ5pANAmGLDnjQPBEDRjqDoL3oEQA==\",\"dtype\":\"float64\",\"shape\":[50]},\"right\":{\"__ndarray__\":\"3QkRyoPEqj8KDK4gq8G6P5LJKS6KEMQ/II38yz7Ayj9XqOe0+bfQPx4K0QPUD9Q/5Wu6Uq5n1z+szaOhiL/aP3MvjfBiF94/nEi7n5634D+A+S/Hi2PiP2OqpO54D+Q/R1sZFma75T8qDI49U2fnPw69AmVAE+k/8W13jC2/6j/UHuyzGmvsP7jPYNsHF+4/m4DVAvXC7z+/GCUVcbfwPzFx36hnjfE/o8mZPF5j8j8VIlTQVDnzP4Z6DmRLD/Q/+NLI90Hl9D9qK4OLOLv1P9uDPR8vkfY/Tdz3siVn9z+/NLJGHD34PzGNbNoSE/k/ouUmbgnp+T8UPuEBAL/6P4aWm5X2lPs/9+5VKe1q/D9pRxC940D9P9ufylDaFv4/TfiE5NDs/j++UD94x8L/P5nU/AVfTABA0QDaT1q3AEAKLbeZVSIBQENZlONQjQFAfIVxLUz4AUC1sU53R2MCQO7dK8FCzgJAJwoJCz45A0BfNuZUOaQDQJhiw540DwRA0Y6g6C96BEAKu30yK+UEQA==\",\"dtype\":\"float64\",\"shape\":[50]},\"top\":{\"__ndarray__\":\"Nb7wWK5YA0CQEQaXx5MDQAxmqRUk2QJAgA06Jk98AEDZmtM6i7T+P2Vd7Pnnfv8/UyADE8Ge/T/PM5RvsQH9P0/PC+y/dPs//9O7uU5z/D+Qto87EBj8P/YwvNGvIvo/z/DjF7uj9j//eZ9QE0TzP/6QC2JYFfY/n1tQa88n9T9/+Zsgo8n1P/6nd3Od5ug/AAAAAAAA8D/+kAtiWBX2PxdccwnwgPg/n1tQa88n9T+XfUs166/zP/95n1ATRNM/AAAAAAAA8D/+Nu/4HObsP/3VT5Ynid4/AAAAAAAAAAA/zHgLCwvrPz/MeAsLC+s//3mfUBNE4z/91U+WJ4nePwAAAAAAAAAA/dVPlieJ3j8AAAAAAAAAAAAAAAAAAPD/AAAAAAAA8P8AAAAAAAAAAAAAAAAAAPD/AAAAAAAA8P8AAAAAAADw/wAAAAAAAPD/AAAAAAAA8P8AAAAAAADw/wAAAAAAAPD/AAAAAAAA8P8AAAAAAADw/wAAAAAAAPD/AAAAAAAA8P8AAAAAAAAAAA==\",\"dtype\":\"float64\",\"shape\":[50]}},\"selected\":{\"id\":\"42843\",\"type\":\"Selection\"},\"selection_policy\":{\"id\":\"42844\",\"type\":\"UnionRenderers\"}},\"id\":\"39909\",\"type\":\"ColumnDataSource\"},{\"attributes\":{\"callback\":null,\"data\":{\"left\":{\"__ndarray__\":\"7g5NRGgUIT/PHVdkT1qoP0f3NDDFUbg/1C8fVzE7wj8E5CMWgE3IPzSYKNXOX84/MqYWyg450j9KAJkpNkLVP2JaG4ldS9g/erSd6IRU2z+SDiBIrF3eP1U00dNps+A/YWGSg/034j9tjlMzkbzjP3m7FOMkQeU/hejVkrjF5j+RFZdCTEroP51CWPLfzuk/qW8ZonNT6z+1nNpRB9jsP8HJmwGbXO4/zfZcsS7h7z/sEY8w4bLwP3KobwgrdfE/+D5Q4HQ38j9+1TC4vvnyPwRsEZAIvPM/igLyZ1J+9D8QmdI/nED1P5YvsxfmAvY/HMaT7y/F9j+iXHTHeYf3PyjzVJ/DSfg/rok1dw0M+T80IBZPV875P7q29iahkPo/QE3X/upS+z/G47fWNBX8P0x6mK5+1/w/0hB5hsiZ/T9Yp1leElz+P949OjZcHv8/ZNQaDqbg/z91tf3yd1EAQLgA7t6csgBA+0veysETAUA+l8625nQBQIHivqIL1gFAxC2vjjA3AkAHeZ96VZgCQA==\",\"dtype\":\"float64\",\"shape\":[50]},\"right\":{\"__ndarray__\":\"zx1XZE9aqD9H9zQwxVG4P9QvH1cxO8I/BOQjFoBNyD80mCjVzl/OPzKmFsoOOdI/SgCZKTZC1T9iWhuJXUvYP3q0neiEVNs/kg4gSKxd3j9VNNHTabPgP2FhkoP9N+I/bY5TM5G84z95uxTjJEHlP4Xo1ZK4xeY/kRWXQkxK6D+dQljy387pP6lvGaJzU+s/tZzaUQfY7D/ByZsBm1zuP832XLEu4e8/7BGPMOGy8D9yqG8IK3XxP/g+UOB0N/I/ftUwuL758j8EbBGQCLzzP4oC8mdSfvQ/EJnSP5xA9T+WL7MX5gL2PxzGk+8vxfY/olx0x3mH9z8o81Sfw0n4P66JNXcNDPk/NCAWT1fO+T+6tvYmoZD6P0BN1/7qUvs/xuO31jQV/D9Mepiuftf8P9IQeYbImf0/WKdZXhJc/j/ePTo2XB7/P2TUGg6m4P8/dbX98ndRAEC4AO7enLIAQPtL3srBEwFAPpfOtuZ0AUCB4r6iC9YBQMQtr44wNwJAB3mfelWYAkBKxI9mevkCQA==\",\"dtype\":\"float64\",\"shape\":[50]},\"top\":{\"__ndarray__\":\"rLx9B8jCAUAP8C1rzGQAQP/Tu7lOc/w/b3h4yTtY/z/PM5RvsQH9Pzh9Q2zdsABAdQ/kpbTz/j9+4Luw3eb2P/6nd3Od5vg/l31LNeuv8z8QwftVxnX0PxDB+1XGdfQ/ABdsEUXR8j9/suONU0TxPz/MeAsLC+s/TxK8Q7bS8T/+Nu/4HObsP/95n1ATROM//dVPlieJ7j/91U+WJ4neP/3VT5Ynie4/AUOwV/Zd5j8/zHgLCwvrPwFDsFf2XeY//dVPlieJ7j/+Nu/4HObsPwFDsFf2XeY//dVPlieJ3j//eZ9QE0TjP/95n1ATRNM//dVPlieJ3j/91U+WJ4neP/95n1ATRNM/AAAAAAAAAAAAAAAAAADw/wAAAAAAAAAAAAAAAAAAAAAAAAAAAADw/wAAAAAAAAAAAAAAAAAA8P8AAAAAAAAAAAAAAAAAAPD/AAAAAAAA8P8AAAAAAADw/wAAAAAAAPD/AAAAAAAA8P8AAAAAAADw/wAAAAAAAPD/AAAAAAAA8P8AAAAAAAAAAA==\",\"dtype\":\"float64\",\"shape\":[50]}},\"selected\":{\"id\":\"42873\",\"type\":\"Selection\"},\"selection_policy\":{\"id\":\"42874\",\"type\":\"UnionRenderers\"}},\"id\":\"39984\",\"type\":\"ColumnDataSource\"},{\"attributes\":{\"bottom\":{\"value\":0},\"fill_alpha\":{\"value\":0.05},\"fill_color\":{\"value\":\"#CB4777\"},\"left\":{\"field\":\"left\"},\"line_alpha\":{\"value\":0.05},\"line_color\":{\"value\":\"#7E03A7\"},\"right\":{\"field\":\"right\"},\"top\":{\"field\":\"top\"}},\"id\":\"40055\",\"type\":\"Quad\"},{\"attributes\":{\"source\":{\"id\":\"40159\",\"type\":\"ColumnDataSource\"}},\"id\":\"40163\",\"type\":\"CDSView\"},{\"attributes\":{},\"id\":\"42807\",\"type\":\"Selection\"},{\"attributes\":{\"source\":{\"id\":\"39909\",\"type\":\"ColumnDataSource\"}},\"id\":\"39913\",\"type\":\"CDSView\"},{\"attributes\":{\"bottom\":{\"value\":0},\"fill_alpha\":{\"value\":0.05},\"fill_color\":{\"value\":\"#CB4777\"},\"left\":{\"field\":\"left\"},\"line_alpha\":{\"value\":0.05},\"line_color\":{\"value\":\"#7E03A7\"},\"right\":{\"field\":\"right\"},\"top\":{\"field\":\"top\"}},\"id\":\"39985\",\"type\":\"Quad\"},{\"attributes\":{\"bottom\":{\"value\":0},\"fill_alpha\":{\"value\":0.1},\"fill_color\":{\"value\":\"#1f77b4\"},\"left\":{\"field\":\"left\"},\"line_alpha\":{\"value\":0.1},\"line_color\":{\"value\":\"#1f77b4\"},\"right\":{\"field\":\"right\"},\"top\":{\"field\":\"top\"}},\"id\":\"40056\",\"type\":\"Quad\"},{\"attributes\":{\"callback\":null,\"data\":{\"left\":{\"__ndarray__\":\"Ya6gaEhgWj9qMe2dHB+sP7GuSnybtbs/VmLPVNStxD9UbXnr2oDLPyi8EcHwKdE/p8FmDHST1D8mx7tX9/zXP6XMEKN6Zts/JNJl7v3P3j/Ra92cwBzhP5Huh0KC0eI/UHEy6EOG5D8Q9NyNBTvmP892hzPH7+c/j/kx2Yik6T9OfNx+SlnrPw3/hiQMDu0/zYExys3C7j9HAu63xzvwP6ZDw4ooFvE/BoWYXYnw8T9mxm0w6sryP8YHQwNLpfM/JUkY1qt/9D+Fiu2oDFr1P+XLwnttNPY/RA2YTs4O9z+kTm0hL+n3PwSQQvSPw/g/ZNEXx/Cd+T/DEu2ZUXj6PyNUwmyyUvs/g5WXPxMt/D/i1mwSdAf9P0IYQuXU4f0/olkXuDW8/j8Cm+yKlpb/PzHu4K57OABA4Y5LGKylAECQL7aB3BIBQEDQIOsMgAFA8HCLVD3tAUCgEfa9bVoCQFCyYCeexwJAAFPLkM40A0Cw8zX6/qEDQF+UoGMvDwRADzULzV98BEC/1XU2kOkEQA==\",\"dtype\":\"float64\",\"shape\":[50]},\"right\":{\"__ndarray__\":\"ajHtnRwfrD+xrkp8m7W7P1Ziz1TUrcQ/VG1569qAyz8ovBHB8CnRP6fBZgx0k9Q/Jse7V/f81z+lzBCjembbPyTSZe79z94/0WvdnMAc4T+R7odCgtHiP1BxMuhDhuQ/EPTcjQU75j/Pdoczx+/nP4/5MdmIpOk/TnzcfkpZ6z8N/4YkDA7tP82BMcrNwu4/RwLut8c78D+mQ8OKKBbxPwaFmF2J8PE/ZsZtMOrK8j/GB0MDS6XzPyVJGNarf/Q/hYrtqAxa9T/ly8J7bTT2P0QNmE7ODvc/pE5tIS/p9z8EkEL0j8P4P2TRF8fwnfk/wxLtmVF4+j8jVMJsslL7P4OVlz8TLfw/4tZsEnQH/T9CGELl1OH9P6JZF7g1vP4/ApvsipaW/z8x7uCuezgAQOGOSxispQBAkC+2gdwSAUBA0CDrDIABQPBwi1Q97QFAoBH2vW1aAkBQsmAnnscCQABTy5DONANAsPM1+v6hA0BflKBjLw8EQA81C81ffARAv9V1NpDpBEBvduCfwFYFQA==\",\"dtype\":\"float64\",\"shape\":[50]},\"top\":{\"__ndarray__\":\"akKTRQA3/D8YnyNh5t7+P1MgAxPBnv0/f/WT5Umi9z/ZmtM6i7T+P6CHlLGAtPg/7qN4NJB69T9ugqAIlUv6P37JT5+YFfQ/zgdQKQB1+T/+Nu/4HObsP/95n1ATRNM/P8x4CwsL6z9uxVBgi6nwP5d9SzXrr/M//jbv+Bzm7D/91U+WJ4nuPz/MeAsLC+s//jbv+Bzm7D8/zHgLCwvrPwAAAAAAAPA//jbv+Bzm7D/91U+WJ4nuP/3VT5Ynie4//jbv+Bzm7D9PErxDttLxP/95n1ATRPM//jbv+Bzm7D//eZ9QE0TTPwAAAAAAAAAAAAAAAAAAAAAAAAAAAADw//95n1ATRNM//3mfUBNE0z8AAAAAAADw/wAAAAAAAAAAAAAAAAAAAAAAAAAAAADw/wAAAAAAAPD/AAAAAAAA8P8AAAAAAAAAAAAAAAAAAAAAAAAAAAAAAAAAAAAAAADw/wAAAAAAAPD/AAAAAAAA8P8AAAAAAADw/wAAAAAAAPD/AAAAAAAA8P8AAAAAAAAAAA==\",\"dtype\":\"float64\",\"shape\":[50]}},\"selected\":{\"id\":\"42945\",\"type\":\"Selection\"},\"selection_policy\":{\"id\":\"42946\",\"type\":\"UnionRenderers\"}},\"id\":\"40164\",\"type\":\"ColumnDataSource\"},{\"attributes\":{},\"id\":\"42811\",\"type\":\"Selection\"},{\"attributes\":{\"data_source\":{\"id\":\"40054\",\"type\":\"ColumnDataSource\"},\"glyph\":{\"id\":\"40055\",\"type\":\"Quad\"},\"hover_glyph\":null,\"muted_glyph\":null,\"nonselection_glyph\":{\"id\":\"40056\",\"type\":\"Quad\"},\"selection_glyph\":null,\"view\":{\"id\":\"40058\",\"type\":\"CDSView\"}},\"id\":\"40057\",\"type\":\"GlyphRenderer\"},{\"attributes\":{\"bottom\":{\"value\":0},\"fill_alpha\":{\"value\":0.1},\"fill_color\":{\"value\":\"#1f77b4\"},\"left\":{\"field\":\"left\"},\"line_alpha\":{\"value\":0.1},\"line_color\":{\"value\":\"#1f77b4\"},\"right\":{\"field\":\"right\"},\"top\":{\"field\":\"top\"}},\"id\":\"39986\",\"type\":\"Quad\"},{\"attributes\":{\"bottom\":{\"value\":0},\"fill_alpha\":{\"value\":0.05},\"fill_color\":{\"value\":\"#CB4777\"},\"left\":{\"field\":\"left\"},\"line_alpha\":{\"value\":0.05},\"line_color\":{\"value\":\"#7E03A7\"},\"right\":{\"field\":\"right\"},\"top\":{\"field\":\"top\"}},\"id\":\"40165\",\"type\":\"Quad\"},{\"attributes\":{\"data_source\":{\"id\":\"39914\",\"type\":\"ColumnDataSource\"},\"glyph\":{\"id\":\"39915\",\"type\":\"Quad\"},\"hover_glyph\":null,\"muted_glyph\":null,\"nonselection_glyph\":{\"id\":\"39916\",\"type\":\"Quad\"},\"selection_glyph\":null,\"view\":{\"id\":\"39918\",\"type\":\"CDSView\"}},\"id\":\"39917\",\"type\":\"GlyphRenderer\"},{\"attributes\":{},\"id\":\"42810\",\"type\":\"UnionRenderers\"},{\"attributes\":{\"data_source\":{\"id\":\"39984\",\"type\":\"ColumnDataSource\"},\"glyph\":{\"id\":\"39985\",\"type\":\"Quad\"},\"hover_glyph\":null,\"muted_glyph\":null,\"nonselection_glyph\":{\"id\":\"39986\",\"type\":\"Quad\"},\"selection_glyph\":null,\"view\":{\"id\":\"39988\",\"type\":\"CDSView\"}},\"id\":\"39987\",\"type\":\"GlyphRenderer\"},{\"attributes\":{\"source\":{\"id\":\"40054\",\"type\":\"ColumnDataSource\"}},\"id\":\"40058\",\"type\":\"CDSView\"},{\"attributes\":{\"bottom\":{\"value\":0},\"fill_alpha\":{\"value\":0.1},\"fill_color\":{\"value\":\"#1f77b4\"},\"left\":{\"field\":\"left\"},\"line_alpha\":{\"value\":0.1},\"line_color\":{\"value\":\"#1f77b4\"},\"right\":{\"field\":\"right\"},\"top\":{\"field\":\"top\"}},\"id\":\"40166\",\"type\":\"Quad\"},{\"attributes\":{\"bottom\":{\"value\":0},\"fill_alpha\":{\"value\":0.1},\"fill_color\":{\"value\":\"#1f77b4\"},\"left\":{\"field\":\"left\"},\"line_alpha\":{\"value\":0.1},\"line_color\":{\"value\":\"#1f77b4\"},\"right\":{\"field\":\"right\"},\"top\":{\"field\":\"top\"}},\"id\":\"39916\",\"type\":\"Quad\"},{\"attributes\":{},\"id\":\"42809\",\"type\":\"Selection\"},{\"attributes\":{\"data_source\":{\"id\":\"40164\",\"type\":\"ColumnDataSource\"},\"glyph\":{\"id\":\"40165\",\"type\":\"Quad\"},\"hover_glyph\":null,\"muted_glyph\":null,\"nonselection_glyph\":{\"id\":\"40166\",\"type\":\"Quad\"},\"selection_glyph\":null,\"view\":{\"id\":\"40168\",\"type\":\"CDSView\"}},\"id\":\"40167\",\"type\":\"GlyphRenderer\"},{\"attributes\":{\"source\":{\"id\":\"39984\",\"type\":\"ColumnDataSource\"}},\"id\":\"39988\",\"type\":\"CDSView\"},{\"attributes\":{\"callback\":null,\"data\":{\"left\":{\"__ndarray__\":\"U0CBDpzPUT9gbND1yhyvP15nloWM1b4/R0wiyFkOxz/eZHlN7bHOP7o+aGnAKtM/BssTLIr81j9RV7/uU87aP53jarEdoN4/9DcLuvM44T8a/mCb2CHjP0DEtny9CuU/ZooMXqLz5j+MUGI/h9zoP7EWuCBsxeo/19wNAlGu7D/9omPjNZfuP5G0XGINQPA/pJcH03808T+3erJD8ijyP8pdXbRkHfM/3UAIJdcR9D/wI7OVSQb1PwMHXga8+vU/FuoIdy7v9j8pzbPnoOP3PzywXlgT2Pg/TpMJyYXM+T9hdrQ5+MD6P3RZX6pqtfs/hzwKG92p/D+aH7WLT579P60CYPzBkv4/wOUKbTSH/z9p5Npu0z0AQPNVMKcMuABAfMeF30UyAUAGOdsXf6wBQI+qMFC4JgJAGRyGiPGgAkCijdvAKhsDQCz/MPljlQNAtXCGMZ0PBEA+4ttp1okEQMhTMaIPBAVAUcWG2kh+BUDbNtwSgvgFQGSoMUu7cgZA7hmHg/TsBkB3i9y7LWcHQA==\",\"dtype\":\"float64\",\"shape\":[50]},\"right\":{\"__ndarray__\":\"YGzQ9cocrz9eZ5aFjNW+P0dMIshZDsc/3mR5Te2xzj+6PmhpwCrTPwbLEyyK/NY/UVe/7lPO2j+d42qxHaDeP/Q3C7rzOOE/Gv5gm9gh4z9AxLZ8vQrlP2aKDF6i8+Y/jFBiP4fc6D+xFrggbMXqP9fcDQJRruw//aJj4zWX7j+RtFxiDUDwP6SXB9N/NPE/t3qyQ/Io8j/KXV20ZB3zP91ACCXXEfQ/8COzlUkG9T8DB14GvPr1PxbqCHcu7/Y/Kc2z56Dj9z88sF5YE9j4P06TCcmFzPk/YXa0OfjA+j90WV+qarX7P4c8Chvdqfw/mh+1i0+e/T+tAmD8wZL+P8DlCm00h/8/aeTabtM9AEDzVTCnDLgAQHzHhd9FMgFABjnbF3+sAUCPqjBQuCYCQBkchojxoAJAoo3bwCobA0As/zD5Y5UDQLVwhjGdDwRAPuLbadaJBEDIUzGiDwQFQFHFhtpIfgVA2zbcEoL4BUBkqDFLu3IGQO4Zh4P07AZAd4vcuy1nB0AB/TH0ZuEHQA==\",\"dtype\":\"float64\",\"shape\":[50]},\"top\":{\"__ndarray__\":\"7+YojIbY+z//AEpu7AoBQM87pKt5MQJAAD8OhV/o/T/+7i8G7Wv9P59bUGvPJ/U/7qN4NJB69T/uo3g0kHr1P88zlG+xAf0/nrr4runA+j/+Nu/4HOb8P37gu7Dd5vY/n0TkWYpW8j+fRORZilbyPwFDsFf2XeY/P8x4CwsL6z/+p3dzneboPwAAAAAAAAAAAAAAAAAA8P8/zHgLCwvrP/3VT5Ynid4//qd3c53m6D8BQ7BX9l3mP/95n1ATRNM/AAAAAAAAAAAAAAAAAADw/wAAAAAAAPD/AAAAAAAA8P8AAAAAAAAAAAAAAAAAAAAAAAAAAAAA8P8AAAAAAADw//95n1ATRNM/AAAAAAAA8P8AAAAAAADw/wAAAAAAAPD/AAAAAAAA8P8AAAAAAADw/wAAAAAAAPD/AAAAAAAA8P8AAAAAAADw/wAAAAAAAPD/AAAAAAAA8P8AAAAAAADw/wAAAAAAAPD/AAAAAAAA8P8AAAAAAADw/wAAAAAAAPD/AAAAAAAA8P8AAAAAAAAAAA==\",\"dtype\":\"float64\",\"shape\":[50]}},\"selected\":{\"id\":\"42903\",\"type\":\"Selection\"},\"selection_policy\":{\"id\":\"42904\",\"type\":\"UnionRenderers\"}},\"id\":\"40059\",\"type\":\"ColumnDataSource\"},{\"attributes\":{\"bottom\":{\"value\":0},\"fill_alpha\":{\"value\":0.05},\"fill_color\":{\"value\":\"#CB4777\"},\"left\":{\"field\":\"left\"},\"line_alpha\":{\"value\":0.05},\"line_color\":{\"value\":\"#7E03A7\"},\"right\":{\"field\":\"right\"},\"top\":{\"field\":\"top\"}},\"id\":\"39915\",\"type\":\"Quad\"},{\"attributes\":{},\"id\":\"42808\",\"type\":\"UnionRenderers\"},{\"attributes\":{\"callback\":null,\"data\":{\"left\":{\"__ndarray__\":\"Sd85uJXFFj8nb66emYCrP69gQDnoers/5cSU0cGaxD9zWYmGD3jLPwD3vp2uKtE/R0E5eFWZ1D+Oi7NS/AfYP9XVLS2jdts/HCCoB0rl3j8xNRFx+CnhP1VaTt5L4eI/eH+LS5+Y5D+cpMi48k/mP7/JBSZGB+g/4+5Ck5m+6T8GFIAA7XXrPyk5vW1ALe0/TV762pPk7j+4wRuk803wP0lUulqdKfE/2+ZYEUcF8j9teffH8ODyP/8Lln6avPM/kJ40NUSY9D8iMdPr7XP1P7TDcaKXT/Y/RVYQWUEr9z/X6K4P6wb4P2l7TcaU4vg/+w3sfD6++T+MoIoz6Jn6Px4zKeqRdfs/sMXHoDtR/D9BWGZX5Sz9P9PqBA6PCP4/ZX2jxDjk/j/3D0J74r//P0VR8BjGTQBAjpo/9Jq7AEDW447PbykBQB8t3qpElwFAaHYthhkFAkCxv3xh7nICQPoIzDzD4AJAQ1IbGJhOA0CMm2rzbLwDQNTkuc5BKgRAHS4JqhaYBEBmd1iF6wUFQA==\",\"dtype\":\"float64\",\"shape\":[50]},\"right\":{\"__ndarray__\":\"J2+unpmAqz+vYEA56Hq7P+XElNHBmsQ/c1mJhg94yz8A976drirRP0dBOXhVmdQ/jouzUvwH2D/V1S0to3bbPxwgqAdK5d4/MTURcfgp4T9VWk7eS+HiP3h/i0ufmOQ/nKTIuPJP5j+/yQUmRgfoP+PuQpOZvuk/BhSAAO116z8pOb1tQC3tP01e+tqT5O4/uMEbpPNN8D9JVLpanSnxP9vmWBFHBfI/bXn3x/Dg8j//C5Z+mrzzP5CeNDVEmPQ/IjHT6+1z9T+0w3Gil0/2P0VWEFlBK/c/1+iuD+sG+D9pe03GlOL4P/sN7Hw+vvk/jKCKM+iZ+j8eMynqkXX7P7DFx6A7Ufw/QVhmV+Us/T/T6gQOjwj+P2V9o8Q45P4/9w9Ce+K//z9FUfAYxk0AQI6aP/SauwBA1uOOz28pAUAfLd6qRJcBQGh2LYYZBQJAsb98Ye5yAkD6CMw8w+ACQENSGxiYTgNAjJtq82y8A0DU5LnOQSoEQB0uCaoWmARAZndYhesFBUCvwKdgwHMFQA==\",\"dtype\":\"float64\",\"shape\":[50]},\"top\":{\"__ndarray__\":\"RHpTS6KW+z/wG18EtpD8P2ZGgOiirfw/P8x4CwsL+z/OB1ApAHX5P/6nd3Od5vg/AD8OhV/o/T/qY2tx+2X3P/6QC2JYFfY/AL1PqAmi+T+fW1Brzyf1P08SvEO20vE/n0TkWYpW8j9+yU+fmBX0P27FUGCLqfA/AUOwV/Zd9j8QwftVxnX0P3/5myCjyfU/fslPn5gV9D+fRORZilbyP+6jeDSQevU/TxK8Q7bS8T/91U+WJ4nuP/427/gc5uw//qd3c53m6D8AAAAAAADwPz/MeAsLC+s/AAAAAAAA8P8BQ7BX9l3mPwFDsFf2XeY/P8x4CwsL6z//eZ9QE0TTPz/MeAsLC+s//dVPlieJ3j8AAAAAAAAAAAAAAAAAAAAAAAAAAAAAAAD/eZ9QE0TTPwAAAAAAAPD/AAAAAAAA8P8AAAAAAADw/wAAAAAAAAAAAAAAAAAA8P8AAAAAAADw//95n1ATRNM/AAAAAAAA8P8AAAAAAADw//95n1ATRNM/AAAAAAAA8P8AAAAAAAAAAA==\",\"dtype\":\"float64\",\"shape\":[50]}},\"selected\":{\"id\":\"42875\",\"type\":\"Selection\"},\"selection_policy\":{\"id\":\"42876\",\"type\":\"UnionRenderers\"}},\"id\":\"39989\",\"type\":\"ColumnDataSource\"},{\"attributes\":{\"bottom\":{\"value\":0},\"fill_alpha\":{\"value\":0.05},\"fill_color\":{\"value\":\"#CB4777\"},\"left\":{\"field\":\"left\"},\"line_alpha\":{\"value\":0.05},\"line_color\":{\"value\":\"#7E03A7\"},\"right\":{\"field\":\"right\"},\"top\":{\"field\":\"top\"}},\"id\":\"40060\",\"type\":\"Quad\"},{\"attributes\":{\"source\":{\"id\":\"40164\",\"type\":\"ColumnDataSource\"}},\"id\":\"40168\",\"type\":\"CDSView\"},{\"attributes\":{\"callback\":null,\"data\":{\"left\":{\"__ndarray__\":\"+0kqPhAVMT83TNpCVM+xPxI3u7rJxsE/CUgJVOmlyj9/rKt2hMLRP/q0UkMUMtY/dr35D6Sh2j/xxaDcMxHfPzbno9RhwOE/dGv3uin44z+x70qh8S/mP+9znoe5Z+g/LfjxbYGf6j9qfEVUSdfsP6gAmToRD+8/c0J2kGyj8D+SBKCDUL/xP7HGyXY02/I/0IjzaRj38z/uSh1d/BL1Pw0NR1DgLvY/LM9wQ8RK9z9LkZo2qGb4P2pTxCmMgvk/iRXuHHCe+j+n1xcQVLr7P8aZQQM41vw/5Vtr9hvy/T8EHpXp/w3/PxFwX+7xFABAIFH05+OiAEAwMonh1TABQD8THtvHvgFATvSy1LlMAkBe1UfOq9oCQG223MedaANAfZdxwY/2A0CMeAa7gYQEQJtZm7RzEgVAqzowrmWgBUC6G8WnVy4GQMr8WaFJvAZA2d3umjtKB0DovoOULdgHQPifGI4fZghAB4GthxH0CEAXYkKBA4IJQCZD13r1DwpANiRsdOedCkBFBQFu2SsLQA==\",\"dtype\":\"float64\",\"shape\":[50]},\"right\":{\"__ndarray__\":\"N0zaQlTPsT8SN7u6ycbBPwlICVTppco/f6yrdoTC0T/6tFJDFDLWP3a9+Q+kodo/8cWg3DMR3z8256PUYcDhP3Rr97op+OM/se9KofEv5j/vc56HuWfoPy348W2Bn+o/anxFVEnX7D+oAJk6EQ/vP3NCdpBso/A/kgSgg1C/8T+xxsl2NNvyP9CI82kY9/M/7kodXfwS9T8NDUdQ4C72PyzPcEPESvc/S5GaNqhm+D9qU8QpjIL5P4kV7hxwnvo/p9cXEFS6+z/GmUEDONb8P+Vba/Yb8v0/BB6V6f8N/z8RcF/u8RQAQCBR9OfjogBAMDKJ4dUwAUA/Ex7bx74BQE70stS5TAJAXtVHzqvaAkBtttzHnWgDQH2XccGP9gNAjHgGu4GEBECbWZu0cxIFQKs6MK5loAVAuhvFp1cuBkDK/FmhSbwGQNnd7po7SgdA6L6DlC3YB0D4nxiOH2YIQAeBrYcR9AhAF2JCgQOCCUAmQ9d69Q8KQDYkbHTnnQpARQUBbtkrC0BU5pVny7kLQA==\",\"dtype\":\"float64\",\"shape\":[50]},\"top\":{\"__ndarray__\":\"2i0zQJMQB0DLqgeVSSUHQGadysVX2QZA+OL9rM+cBUA+ra2AeBUFQMD6yfIk0QNAEMH7VcZ1BEBAGlG1VMUCQOB2qBsDHQNALMgzkGorA0A3Ky7hcV8DQGKsvY/TMwBAdZDdjAKEAECJ5Tp3i24BQOwAyysguABA2OopRvue/j+QPpRLZSsAQH+268isa/8/2ZrTOou0/j/v5iiMhtj7P/AbXwS2kPw/RHpTS6KW+z/v5iiMhtj7P35vMzZd5vo/9jC80a8i+j/2MLzRryL6Px8jDC6PJ/c/oIeUsYC0+D9+yU+fmBX0P08SvEO20vE//jbv+Bzm7D/91U+WJ4nuP/3VT5Ynid4/AUOwV/Zd5j/+p3dzneboP/95n1ATROM/AAAAAAAAAAAAAAAAAAAAAAAAAAAAAAAAAAAAAAAAAAAAAAAAAADw/wAAAAAAAPD/AAAAAAAAAAAAAAAAAAAAAAAAAAAAAPD/AAAAAAAA8P8AAAAAAADw/wAAAAAAAPD/AAAAAAAA8P8AAAAAAAAAAA==\",\"dtype\":\"float64\",\"shape\":[50]}},\"selected\":{\"id\":\"42845\",\"type\":\"Selection\"},\"selection_policy\":{\"id\":\"42846\",\"type\":\"UnionRenderers\"}},\"id\":\"39914\",\"type\":\"ColumnDataSource\"},{\"attributes\":{},\"id\":\"42815\",\"type\":\"Selection\"},{\"attributes\":{\"bottom\":{\"value\":0},\"fill_alpha\":{\"value\":0.1},\"fill_color\":{\"value\":\"#1f77b4\"},\"left\":{\"field\":\"left\"},\"line_alpha\":{\"value\":0.1},\"line_color\":{\"value\":\"#1f77b4\"},\"right\":{\"field\":\"right\"},\"top\":{\"field\":\"top\"}},\"id\":\"39921\",\"type\":\"Quad\"},{\"attributes\":{\"bottom\":{\"value\":0},\"fill_alpha\":{\"value\":0.05},\"fill_color\":{\"value\":\"#CB4777\"},\"left\":{\"field\":\"left\"},\"line_alpha\":{\"value\":0.05},\"line_color\":{\"value\":\"#7E03A7\"},\"right\":{\"field\":\"right\"},\"top\":{\"field\":\"top\"}},\"id\":\"39990\",\"type\":\"Quad\"},{\"attributes\":{\"bottom\":{\"value\":0},\"fill_alpha\":{\"value\":0.1},\"fill_color\":{\"value\":\"#1f77b4\"},\"left\":{\"field\":\"left\"},\"line_alpha\":{\"value\":0.1},\"line_color\":{\"value\":\"#1f77b4\"},\"right\":{\"field\":\"right\"},\"top\":{\"field\":\"top\"}},\"id\":\"40061\",\"type\":\"Quad\"},{\"attributes\":{\"callback\":null,\"data\":{\"left\":{\"__ndarray__\":\"AAAAAAAAAADuVBLkw5WqP+5UEuTDlbo/sr8N61Lwwz/uVBLkw5XKPxV1i26andA/sr8N61Lw0z9QCpBnC0PXP+5UEuTDldo/jJ+UYHzo3T8VdYtump3gP2SazKz2RuI/sr8N61Lw4z8B5U4pr5nlP1AKkGcLQ+c/ny/RpWfs6D/uVBLkw5XqPz16UyIgP+w/jJ+UYHzo7T/bxNWe2JHvPxV1i26anfA/vAesjUhy8T9kmsys9kbyPwst7cukG/M/sr8N61Lw8z9aUi4KAcX0PwHlTimvmfU/qXdvSF1u9j9QCpBnC0P3P/icsIa5F/g/ny/RpWfs+D9HwvHEFcH5P+5UEuTDlfo/lecyA3Jq+z89elMiID/8P+QMdEHOE/0/jJ+UYHzo/T8zMrV/Kr3+P9vE1Z7Ykf8/wSv7XkMzAEAVdYtump0AQGi+G37xBwFAvAesjUhyAUAQUTydn9wBQGSazKz2RgJAt+NcvE2xAkALLe3LpBsDQF92fdv7hQNAsr8N61LwA0AGCZ76qVoEQA==\",\"dtype\":\"float64\",\"shape\":[50]},\"right\":{\"__ndarray__\":\"7lQS5MOVqj/uVBLkw5W6P7K/DetS8MM/7lQS5MOVyj8VdYtump3QP7K/DetS8NM/UAqQZwtD1z/uVBLkw5XaP4yflGB86N0/FXWLbpqd4D9kmsys9kbiP7K/DetS8OM/AeVOKa+Z5T9QCpBnC0PnP58v0aVn7Og/7lQS5MOV6j89elMiID/sP4yflGB86O0/28TVntiR7z8VdYtump3wP7wHrI1IcvE/ZJrMrPZG8j8LLe3LpBvzP7K/DetS8PM/WlIuCgHF9D8B5U4pr5n1P6l3b0hdbvY/UAqQZwtD9z/4nLCGuRf4P58v0aVn7Pg/R8LxxBXB+T/uVBLkw5X6P5XnMgNyavs/PXpTIiA//D/kDHRBzhP9P4yflGB86P0/MzK1fyq9/j/bxNWe2JH/P8Er+15DMwBAFXWLbpqdAEBovht+8QcBQLwHrI1IcgFAEFE8nZ/cAUBkmsys9kYCQLfjXLxNsQJACy3ty6QbA0Bfdn3b+4UDQLK/DetS8ANABgme+qlaBEBaUi4KAcUEQA==\",\"dtype\":\"float64\",\"shape\":[50]},\"top\":{\"__ndarray__\":\"y6iD95wRAED3Oxp37/YAQAArPUvSXABAAD8OhV/o/T9lXez5537/P/427/gc5vw/ACs9S9JcAECeuviu6cD6P+7wQOtoVfw/bpkMGtoc/T9ugqAIlUv6P+/mKIyG2Ps/WAwCcvbN+T9/+Zsgo8n1PwAAAAAAAPA//3mfUBNE4z8/zHgLCwvrPwAAAAAAAPA/TxK8Q7bS8T//eZ9QE0TzP/3VT5Ynid4//3mfUBNE0z8AAAAAAAAAAAAAAAAAAAAAAAAAAAAA8P//eZ9QE0TTPwAAAAAAAPD/AAAAAAAAAAAAAAAAAAAAAAAAAAAAAPD/AAAAAAAA8P8AAAAAAADw/wAAAAAAAPD/AAAAAAAA8P8AAAAAAADw/wAAAAAAAPD/AAAAAAAA8P8AAAAAAADw/wAAAAAAAPD/AAAAAAAA8P8AAAAAAADw/wAAAAAAAPD/AAAAAAAA8P8AAAAAAADw/wAAAAAAAPD/AAAAAAAA8P8AAAAAAADw/wAAAAAAAPD/AAAAAAAA8P8AAAAAAAAAAA==\",\"dtype\":\"float64\",\"shape\":[50]}},\"selected\":{\"id\":\"42947\",\"type\":\"Selection\"},\"selection_policy\":{\"id\":\"42948\",\"type\":\"UnionRenderers\"}},\"id\":\"40169\",\"type\":\"ColumnDataSource\"},{\"attributes\":{},\"id\":\"42814\",\"type\":\"UnionRenderers\"},{\"attributes\":{\"data_source\":{\"id\":\"40059\",\"type\":\"ColumnDataSource\"},\"glyph\":{\"id\":\"40060\",\"type\":\"Quad\"},\"hover_glyph\":null,\"muted_glyph\":null,\"nonselection_glyph\":{\"id\":\"40061\",\"type\":\"Quad\"},\"selection_glyph\":null,\"view\":{\"id\":\"40063\",\"type\":\"CDSView\"}},\"id\":\"40062\",\"type\":\"GlyphRenderer\"},{\"attributes\":{\"bottom\":{\"value\":0},\"fill_alpha\":{\"value\":0.05},\"fill_color\":{\"value\":\"#CB4777\"},\"left\":{\"field\":\"left\"},\"line_alpha\":{\"value\":0.05},\"line_color\":{\"value\":\"#7E03A7\"},\"right\":{\"field\":\"right\"},\"top\":{\"field\":\"top\"}},\"id\":\"39920\",\"type\":\"Quad\"},{\"attributes\":{\"bottom\":{\"value\":0},\"fill_alpha\":{\"value\":0.1},\"fill_color\":{\"value\":\"#1f77b4\"},\"left\":{\"field\":\"left\"},\"line_alpha\":{\"value\":0.1},\"line_color\":{\"value\":\"#1f77b4\"},\"right\":{\"field\":\"right\"},\"top\":{\"field\":\"top\"}},\"id\":\"39991\",\"type\":\"Quad\"},{\"attributes\":{\"bottom\":{\"value\":0},\"fill_alpha\":{\"value\":0.05},\"fill_color\":{\"value\":\"#CB4777\"},\"left\":{\"field\":\"left\"},\"line_alpha\":{\"value\":0.05},\"line_color\":{\"value\":\"#7E03A7\"},\"right\":{\"field\":\"right\"},\"top\":{\"field\":\"top\"}},\"id\":\"40170\",\"type\":\"Quad\"},{\"attributes\":{},\"id\":\"42813\",\"type\":\"Selection\"},{\"attributes\":{\"data_source\":{\"id\":\"39989\",\"type\":\"ColumnDataSource\"},\"glyph\":{\"id\":\"39990\",\"type\":\"Quad\"},\"hover_glyph\":null,\"muted_glyph\":null,\"nonselection_glyph\":{\"id\":\"39991\",\"type\":\"Quad\"},\"selection_glyph\":null,\"view\":{\"id\":\"39993\",\"type\":\"CDSView\"}},\"id\":\"39992\",\"type\":\"GlyphRenderer\"},{\"attributes\":{\"callback\":null,\"data\":{\"left\":{\"__ndarray__\":\"Sd85uJXFFj9GHCRuu5WuP84NtggKkL4/vAYtLZvqxj+SBv9VMY3OPzSDaL/jF9M/HoPR0y7p1j8JgzroebraP/SCo/zEi94/b0GGCIgu4T9lwbqSLRfjP1pB7xzT/+Q/T8Ejp3jo5j9FQVgxHtHoPzrBjLvDueo/MEHBRWmi7D8lwfXPDovuP40gFS3aOfA/h2Av8iwu8T+CoEm3fyLyP33gY3zSFvM/dyB+QSUL9D9yYJgGeP/0P22gssvK8/U/Z+DMkB3o9j9iIOdVcNz3P11gARvD0Pg/WKAb4BXF+T9S4DWlaLn6P00gUGq7rfs/SGBqLw6i/D9CoIT0YJb9Pz3gnrmziv4/OCC5fgZ//z8asOmhrDkAQBfQdgTWswBAFPADZ/8tAUASEJHJKKgBQA8wHixSIgJADFCrjnucAkAKcDjxpBYDQAeQxVPOkANABLBStvcKBEAC0N8YIYUEQP/vbHtK/wRA/A/63XN5BUD6L4dAnfMFQPdPFKPGbQZA9G+hBfDnBkDyjy5oGWIHQA==\",\"dtype\":\"float64\",\"shape\":[50]},\"right\":{\"__ndarray__\":\"RhwkbruVrj/ODbYICpC+P7wGLS2b6sY/kgb/VTGNzj80g2i/4xfTPx6D0dMu6dY/CYM66Hm62j/0gqP8xIveP29BhgiILuE/ZcG6ki0X4z9aQe8c0//kP0/BI6d46OY/RUFYMR7R6D86wYy7w7nqPzBBwUVpouw/JcH1zw6L7j+NIBUt2jnwP4dgL/IsLvE/gqBJt38i8j994GN80hbzP3cgfkElC/Q/cmCYBnj/9D9toLLLyvP1P2fgzJAd6PY/YiDnVXDc9z9dYAEbw9D4P1igG+AVxfk/UuA1pWi5+j9NIFBqu637P0hgai8Oovw/QqCE9GCW/T894J65s4r+PzgguX4Gf/8/GrDpoaw5AEAX0HYE1rMAQBTwA2f/LQFAEhCRySioAUAPMB4sUiICQAxQq457nAJACnA48aQWA0AHkMVTzpADQASwUrb3CgRAAtDfGCGFBED/72x7Sv8EQPwP+t1zeQVA+i+HQJ3zBUD3TxSjxm0GQPRvoQXw5wZA8o8uaBliB0Dvr7vKQtwHQA==\",\"dtype\":\"float64\",\"shape\":[50]},\"top\":{\"__ndarray__\":\"morCl/7ZA0DizZW7zmIDQBt/DA9ccQJAAL1PqAmiAUB1kN2MAoQAQKYGW5OzMP8/zy8sU5SnAUCsvH0HyMIBQANnCs0RsQJAP9nxximiAEBTIAMTwZ79P5CfIyrLRvk/5mdYFJ7c9z/OB1ApAHX5PxdccwnwgPg/7rrkRdVL+D/P8OMXu6P2P3/1k+VJovc/z/DjF7uj9j+XfUs166/zP/95n1ATRPM/AAAAAAAA8D9/9ZPlSaL3P/6nd3Od5ug//dVPlieJ3j/91U+WJ4neP/3VT5Ynid4//qd3c53m6D//eZ9QE0TjPwAAAAAAAAAAAAAAAAAA8P8AAAAAAADw//95n1ATROM/AAAAAAAAAAD/eZ9QE0TTPwAAAAAAAAAAAAAAAAAA8P8AAAAAAADw/wAAAAAAAPD/AAAAAAAAAAAAAAAAAADw/wAAAAAAAPD/AAAAAAAA8P8AAAAAAADw/wAAAAAAAPD/AAAAAAAA8P8AAAAAAADw/wAAAAAAAPD/AAAAAAAA8P8AAAAAAAAAAA==\",\"dtype\":\"float64\",\"shape\":[50]}},\"selected\":{\"id\":\"42847\",\"type\":\"Selection\"},\"selection_policy\":{\"id\":\"42848\",\"type\":\"UnionRenderers\"}},\"id\":\"39919\",\"type\":\"ColumnDataSource\"},{\"attributes\":{\"source\":{\"id\":\"40059\",\"type\":\"ColumnDataSource\"}},\"id\":\"40063\",\"type\":\"CDSView\"},{\"attributes\":{\"bottom\":{\"value\":0},\"fill_alpha\":{\"value\":0.1},\"fill_color\":{\"value\":\"#1f77b4\"},\"left\":{\"field\":\"left\"},\"line_alpha\":{\"value\":0.1},\"line_color\":{\"value\":\"#1f77b4\"},\"right\":{\"field\":\"right\"},\"top\":{\"field\":\"top\"}},\"id\":\"40171\",\"type\":\"Quad\"},{\"attributes\":{},\"id\":\"42812\",\"type\":\"UnionRenderers\"},{\"attributes\":{\"data_source\":{\"id\":\"40169\",\"type\":\"ColumnDataSource\"},\"glyph\":{\"id\":\"40170\",\"type\":\"Quad\"},\"hover_glyph\":null,\"muted_glyph\":null,\"nonselection_glyph\":{\"id\":\"40171\",\"type\":\"Quad\"},\"selection_glyph\":null,\"view\":{\"id\":\"40173\",\"type\":\"CDSView\"}},\"id\":\"40172\",\"type\":\"GlyphRenderer\"},{\"attributes\":{\"source\":{\"id\":\"39914\",\"type\":\"ColumnDataSource\"}},\"id\":\"39918\",\"type\":\"CDSView\"},{\"attributes\":{\"source\":{\"id\":\"39989\",\"type\":\"ColumnDataSource\"}},\"id\":\"39993\",\"type\":\"CDSView\"},{\"attributes\":{\"callback\":null,\"data\":{\"left\":{\"__ndarray__\":\"AAAAAAAAAAADM9TH0D2sPwMz1MfQPbw/QibflVwuxT8DM9TH0D3MP+Kf5HyiptE/QibflVwu1T+jrNmuFrbYPwMz1MfQPdw/Y7nO4IrF3z/in+R8oqbhPxLjYYl/auM/QibflVwu5T9yaVyiOfLmP6Os2a4Wtug/0+9Wu/N56j8DM9TH0D3sPzN2UdStAe4/Y7nO4IrF7z9K/qX2s8TwP+Kf5HyipvE/ekEjA5GI8j8S42GJf2rzP6qEoA9uTPQ/QibflVwu9T/axx0cSxD2P3JpXKI58vY/CwubKCjU9z+jrNmuFrb4PztOGDUFmPk/0+9Wu/N5+j9rkZVB4lv7PwMz1MfQPfw/m9QSTr8f/T8zdlHUrQH+P8sXkFqc4/4/Y7nO4IrF/z9+rYazvFMAQEr+pfazxABAFk/FOas1AUDin+R8oqYBQK7wA8CZFwJAekEjA5GIAkBGkkJGiPkCQBLjYYl/agNA3jOBzHbbA0CqhKAPbkwEQHbVv1JlvQRAQibflVwuBUAOd/7YU58FQA==\",\"dtype\":\"float64\",\"shape\":[50]},\"right\":{\"__ndarray__\":\"AzPUx9A9rD8DM9TH0D28P0Im35VcLsU/AzPUx9A9zD/in+R8oqbRP0Im35VcLtU/o6zZrha22D8DM9TH0D3cP2O5zuCKxd8/4p/kfKKm4T8S42GJf2rjP0Im35VcLuU/cmlcojny5j+jrNmuFrboP9PvVrvzeeo/AzPUx9A97D8zdlHUrQHuP2O5zuCKxe8/Sv6l9rPE8D/in+R8oqbxP3pBIwORiPI/EuNhiX9q8z+qhKAPbkz0P0Im35VcLvU/2scdHEsQ9j9yaVyiOfL2PwsLmygo1Pc/o6zZrha2+D87Thg1BZj5P9PvVrvzefo/a5GVQeJb+z8DM9TH0D38P5vUEk6/H/0/M3ZR1K0B/j/LF5BanOP+P2O5zuCKxf8/fq2Gs7xTAEBK/qX2s8QAQBZPxTmrNQFA4p/kfKKmAUCu8APAmRcCQHpBIwORiAJARpJCRoj5AkAS42GJf2oDQN4zgcx22wNAqoSgD25MBEB21b9SZb0EQEIm35VcLgVADnf+2FOfBUDaxx0cSxAGQA==\",\"dtype\":\"float64\",\"shape\":[50]},\"top\":{\"__ndarray__\":\"R2+ap+BuBkBz2x9/N7gEQJ5m0MRFDwVAqpZUuhRDBEByKcDvmJADQKKb0flVnAJABeWTe8B1AkCI4P0q4zoCQDdu3jhovQFAaX+V8+I3AUCEe4/x5CQBQH+268isa/8/GJ8jYebe/j8eUeRQGcr8P+7wQOtoVfw/lzqb3fRR/T9YDAJy9s35P+/mKIyG2Ps/F1xzCfCA+D8fIwwujyf3P84HUCkAdfk/7qN4NJB69T/+kAtiWBX2P37JT5+YFfQ/8BtfBLaQ/D+fW1Brzyf1P27FUGCLqfA/AUOwV/Zd5j//eZ9QE0TjP/427/gc5uw//qd3c53m6D/91U+WJ4nePwAAAAAAAAAA/qd3c53m6D8AAAAAAAAAAP3VT5Ynid4/AAAAAAAA8P//eZ9QE0TTPwAAAAAAAAAAAAAAAAAAAAAAAAAAAAAAAAAAAAAAAAAA/3mfUBNE0z//eZ9QE0TTPwAAAAAAAAAAAAAAAAAAAAAAAAAAAAAAAAAAAAAAAAAAAAAAAAAAAAAAAAAAAAAAAA==\",\"dtype\":\"float64\",\"shape\":[50]}},\"selected\":{\"id\":\"42905\",\"type\":\"Selection\"},\"selection_policy\":{\"id\":\"42906\",\"type\":\"UnionRenderers\"}},\"id\":\"40064\",\"type\":\"ColumnDataSource\"},{\"attributes\":{},\"id\":\"42818\",\"type\":\"UnionRenderers\"},{\"attributes\":{\"data_source\":{\"id\":\"39919\",\"type\":\"ColumnDataSource\"},\"glyph\":{\"id\":\"39920\",\"type\":\"Quad\"},\"hover_glyph\":null,\"muted_glyph\":null,\"nonselection_glyph\":{\"id\":\"39921\",\"type\":\"Quad\"},\"selection_glyph\":null,\"view\":{\"id\":\"39923\",\"type\":\"CDSView\"}},\"id\":\"39922\",\"type\":\"GlyphRenderer\"},{\"attributes\":{\"callback\":null,\"data\":{\"left\":{\"__ndarray__\":\"gxqEr1XHNj/G2hLdaAylP6xWY4eh9bQ/9T89oA5lvz+elIvcPerEP0KJ+Gj0Ico/531l9apZzz9GOenAsEjSP5izHweM5NQ/6i1WTWeA1z88qIyTQhzaP44iw9kduNw/4Zz5H/lT3z+ZCxgz6vfgP8JIM9bXReI/64VOecWT4z8Uw2kcs+HkPz0Ahb+gL+Y/Zj2gYo595z+PersFfMvoP7i31qhpGeo/4fTxS1dn6z8KMg3vRLXsPzNvKJIyA+4/XaxDNSBR7z/DdC/shk/wP1gTvb199vA/7LFKj3Sd8T+BUNhga0TyPxXvZTJi6/I/qo3zA1mS8z8+LIHVTzn0P9PKDqdG4PQ/aGmceD2H9T/8BypKNC72P5Gmtxsr1fY/JUVF7SF89z+649K+GCP4P06CYJAPyvg/4yDuYQZx+T93v3sz/Rf6PwxeCQX0vvo/oPyW1upl+z81mySo4Qz8P8k5snnYs/w/Xtg/S89a/T/yds0cxgH+P4cVW+68qP4/HLTov7NP/z+wUnaRqvb/Pw==\",\"dtype\":\"float64\",\"shape\":[50]},\"right\":{\"__ndarray__\":\"xtoS3WgMpT+sVmOHofW0P/U/PaAOZb8/npSL3D3qxD9Cifho9CHKP+d9ZfWqWc8/RjnpwLBI0j+Ysx8HjOTUP+otVk1ngNc/PKiMk0Ic2j+OIsPZHbjcP+Gc+R/5U98/mQsYM+r34D/CSDPW10XiP+uFTnnFk+M/FMNpHLPh5D89AIW/oC/mP2Y9oGKOfec/j3q7BXzL6D+4t9aoaRnqP+H08UtXZ+s/CjIN70S17D8zbyiSMgPuP12sQzUgUe8/w3Qv7IZP8D9YE729ffbwP+yxSo90nfE/gVDYYGtE8j8V72UyYuvyP6qN8wNZkvM/PiyB1U859D/Tyg6nRuD0P2hpnHg9h/U//AcqSjQu9j+RprcbK9X2PyVFRe0hfPc/uuPSvhgj+D9OgmCQD8r4P+Mg7mEGcfk/d797M/0X+j8MXgkF9L76P6D8ltbqZfs/NZskqOEM/D/JObJ52LP8P17YP0vPWv0/8nbNHMYB/j+HFVvuvKj+Pxy06L+zT/8/sFJ2kar2/z+i+IGx0E4AQA==\",\"dtype\":\"float64\",\"shape\":[50]},\"top\":{\"__ndarray__\":\"t2IosMVUAECR4tOBwaT/P99rBtIgPgFAv86FrHNEAEBpWf9WRQj/P0R6U0uilvs//qd3c53m+D+QnyMqy0b5P1gMAnL2zfk/f/mbIKPJ9T8XXHMJ8ID4P37JT5+YFfQ//pALYlgV9j/qY2tx+2X3P37JT5+YFfQ/bsVQYIup8D9+yU+fmBX0P/95n1ATROM//3mfUBNE8z+fRORZilbyP/3VT5Ynie4//jbv+Bzm7D9uxVBgi6nwPz/MeAsLC+s//3mfUBNE4z8QwftVxnX0P59E5FmKVvI/n0TkWYpW8j/+Nu/4HObsP3+y441TRPE//3mfUBNE4z8AAAAAAAAAAP95n1ATRNM//3mfUBNE0z8AAAAAAAAAAP95n1ATRNM/AAAAAAAAAAAAAAAAAADw/wAAAAAAAAAA/dVPlieJ3j//eZ9QE0TTP/95n1ATRNM//3mfUBNE0z8AAAAAAAAAAAAAAAAAAAAAAAAAAAAA8P8AAAAAAADw//95n1ATRNM/AAAAAAAAAAAAAAAAAAAAAA==\",\"dtype\":\"float64\",\"shape\":[50]}},\"selected\":{\"id\":\"42877\",\"type\":\"Selection\"},\"selection_policy\":{\"id\":\"42878\",\"type\":\"UnionRenderers\"}},\"id\":\"39994\",\"type\":\"ColumnDataSource\"},{\"attributes\":{\"bottom\":{\"value\":0},\"fill_alpha\":{\"value\":0.05},\"fill_color\":{\"value\":\"#CB4777\"},\"left\":{\"field\":\"left\"},\"line_alpha\":{\"value\":0.05},\"line_color\":{\"value\":\"#7E03A7\"},\"right\":{\"field\":\"right\"},\"top\":{\"field\":\"top\"}},\"id\":\"40065\",\"type\":\"Quad\"},{\"attributes\":{\"source\":{\"id\":\"40169\",\"type\":\"ColumnDataSource\"}},\"id\":\"40173\",\"type\":\"CDSView\"},{\"attributes\":{},\"id\":\"42817\",\"type\":\"Selection\"},{\"attributes\":{\"bottom\":{\"value\":0},\"fill_alpha\":{\"value\":0.05},\"fill_color\":{\"value\":\"#CB4777\"},\"left\":{\"field\":\"left\"},\"line_alpha\":{\"value\":0.05},\"line_color\":{\"value\":\"#7E03A7\"},\"right\":{\"field\":\"right\"},\"top\":{\"field\":\"top\"}},\"id\":\"39995\",\"type\":\"Quad\"},{\"attributes\":{\"bottom\":{\"value\":0},\"fill_alpha\":{\"value\":0.1},\"fill_color\":{\"value\":\"#1f77b4\"},\"left\":{\"field\":\"left\"},\"line_alpha\":{\"value\":0.1},\"line_color\":{\"value\":\"#1f77b4\"},\"right\":{\"field\":\"right\"},\"top\":{\"field\":\"top\"}},\"id\":\"40066\",\"type\":\"Quad\"},{\"attributes\":{\"callback\":null,\"data\":{\"left\":{\"__ndarray__\":\"Oc6x+klTPz/0GNe0LK+wPw3A2Q+Dn8A/oPNHxW/nyD+aE1s9rpfQP2QtEpiku9Q/LUfJ8prf2D/2YIBNkQPdP2C9G9TDk+A/RUp3Ab+l4j8q19IuurfkPw5kLly1yeY/8/CJibDb6D/YfeW2q+3qP7wKQeSm/+w/oZecEaIR7z9DEnyfzpHwP7XYKTbMmvE/KJ/XzMmj8j+aZYVjx6zzPw0sM/rEtfQ/f/LgkMK+9T/xuI4nwMf2P2R/PL690Pc/1kXqVLvZ+D9IDJjruOL5P7vSRYK26/o/LZnzGLT0+z+fX6Gvsf38PxImT0avBv4/hOz83KwP/z97WdU5VQwAQLQ8LAXUkABA7R+D0FIVAUAmA9qb0ZkBQGDmMGdQHgJAmcmHMs+iAkDSrN79TScDQAuQNcnMqwNARHOMlEswBEB+VuNfyrQEQLc5OitJOQVA8ByR9se9BUApAOjBRkIGQGLjPo3FxgZAm8aVWERLB0DVqewjw88HQA6NQ+9BVAhAR3CausDYCECAU/GFP10JQA==\",\"dtype\":\"float64\",\"shape\":[50]},\"right\":{\"__ndarray__\":\"9BjXtCyvsD8NwNkPg5/AP6DzR8Vv58g/mhNbPa6X0D9kLRKYpLvUPy1HyfKa39g/9mCATZED3T9gvRvUw5PgP0VKdwG/peI/KtfSLrq35D8OZC5ctcnmP/PwiYmw2+g/2H3ltqvt6j+8CkHkpv/sP6GXnBGiEe8/QxJ8n86R8D+12Ck2zJrxPyif18zJo/I/mmWFY8es8z8NLDP6xLX0P3/y4JDCvvU/8biOJ8DH9j9kfzy+vdD3P9ZF6lS72fg/SAyY67ji+T+70kWCtuv6Py2Z8xi09Ps/n1+hr7H9/D8SJk9Grwb+P4Ts/NysD/8/e1nVOVUMAEC0PCwF1JAAQO0fg9BSFQFAJgPam9GZAUBg5jBnUB4CQJnJhzLPogJA0qze/U0nA0ALkDXJzKsDQERzjJRLMARAflbjX8q0BEC3OTorSTkFQPAckfbHvQVAKQDowUZCBkBi4z6NxcYGQJvGlVhESwdA1ansI8PPB0AOjUPvQVQIQEdwmrrA2AhAgFPxhT9dCUC5NkhRvuEJQA==\",\"dtype\":\"float64\",\"shape\":[50]},\"top\":{\"__ndarray__\":\"7gGZcBihBkBBH14/tfIFQD9ps7qVrAVAlfmFbg2wBUB8ZQlkMg0FQL8lBz73LQRAdKdJnkdVA0DCYxZNWPACQNgC8FcoZgNAOynKftWoAkCDIc5KuywCQAzgvpIfyAFASK45aWp0AUAYnyNh5t7+P22weCsf7v8/AAAAAAAAAEDn1hlg4iIAQBB+S/7PF/4/HlHkUBnK/D9qQpNFADf8P1MgAxPBnv0/oIeUsYC0+D8XXHMJ8ID4P/6QC2JYFfY//3mfUBNE8z//eZ9QE0TzP/427/gc5uw//jbv+Bzm7D+fRORZilbyP/3VT5Ynie4//qd3c53m6D8AF2wRRdHyP/6nd3Od5ug//dVPlieJ3j/91U+WJ4nePwFDsFf2XeY//3mfUBNE0z8AAAAAAAAAAP95n1ATRNM//3mfUBNE0z//eZ9QE0TTPwAAAAAAAPD/AAAAAAAAAAD/eZ9QE0TjPwAAAAAAAPD/AAAAAAAA8P8AAAAAAADw/wAAAAAAAPD/AAAAAAAA8P8AAAAAAAAAAA==\",\"dtype\":\"float64\",\"shape\":[50]}},\"selected\":{\"id\":\"42949\",\"type\":\"Selection\"},\"selection_policy\":{\"id\":\"42950\",\"type\":\"UnionRenderers\"}},\"id\":\"40174\",\"type\":\"ColumnDataSource\"},{\"attributes\":{\"bottom\":{\"value\":0},\"fill_alpha\":{\"value\":0.05},\"fill_color\":{\"value\":\"#CB4777\"},\"left\":{\"field\":\"left\"},\"line_alpha\":{\"value\":0.05},\"line_color\":{\"value\":\"#7E03A7\"},\"right\":{\"field\":\"right\"},\"top\":{\"field\":\"top\"}},\"id\":\"39925\",\"type\":\"Quad\"},{\"attributes\":{},\"id\":\"42816\",\"type\":\"UnionRenderers\"},{\"attributes\":{\"data_source\":{\"id\":\"40064\",\"type\":\"ColumnDataSource\"},\"glyph\":{\"id\":\"40065\",\"type\":\"Quad\"},\"hover_glyph\":null,\"muted_glyph\":null,\"nonselection_glyph\":{\"id\":\"40066\",\"type\":\"Quad\"},\"selection_glyph\":null,\"view\":{\"id\":\"40068\",\"type\":\"CDSView\"}},\"id\":\"40067\",\"type\":\"GlyphRenderer\"},{\"attributes\":{\"bottom\":{\"value\":0},\"fill_alpha\":{\"value\":0.1},\"fill_color\":{\"value\":\"#1f77b4\"},\"left\":{\"field\":\"left\"},\"line_alpha\":{\"value\":0.1},\"line_color\":{\"value\":\"#1f77b4\"},\"right\":{\"field\":\"right\"},\"top\":{\"field\":\"top\"}},\"id\":\"39996\",\"type\":\"Quad\"},{\"attributes\":{\"bottom\":{\"value\":0},\"fill_alpha\":{\"value\":0.05},\"fill_color\":{\"value\":\"#CB4777\"},\"left\":{\"field\":\"left\"},\"line_alpha\":{\"value\":0.05},\"line_color\":{\"value\":\"#7E03A7\"},\"right\":{\"field\":\"right\"},\"top\":{\"field\":\"top\"}},\"id\":\"40175\",\"type\":\"Quad\"},{\"attributes\":{\"callback\":null,\"data\":{\"left\":{\"__ndarray__\":\"Y1p1ACvGJj8W+HinWZqtP2m9+JH2jr0/ZH8aKGAoxj8ToDgHRYnNP2FgK/MUddI/uHC6Yocl1j8PgUnS+dXZP2eR2EFsht0/4NCzWG+b4D8MWXuQqHPiPzfhQsjhS+Q/Y2kKABsk5j+P8dE3VPznP7p5mW+N1Ok/5gFhp8as6z8Siijf/4TtPz4S8BY5Xe8/Nc1bJ7ma8D9LkT/D1YbxP2FVI1/ycvI/dhkH+w5f8z+M3eqWK0v0P6KhzjJIN/U/uGWyzmQj9j/OKZZqgQ/3P+TteQae+/c/+rFdorrn+D8PdkE+19P5PyU6Jdrzv/o/O/4IdhCs+z9RwuwRLZj8P2eG0K1JhP0/fUq0SWZw/j+TDpjlglz/P1TpvcBPJABAX8uvDl6aAEBqraFcbBABQHWPk6p6hgFAgHGF+Ij8AUCLU3dGl3ICQJU1aZSl6AJAoBdb4rNeA0Cr+UwwwtQDQLbbPn7QSgRAwb0wzN7ABEDMnyIa7TYFQNeBFGj7rAVA4mMGtgkjBkDtRfgDGJkGQA==\",\"dtype\":\"float64\",\"shape\":[50]},\"right\":{\"__ndarray__\":\"Fvh4p1marT9pvfiR9o69P2R/GihgKMY/E6A4B0WJzT9hYCvzFHXSP7hwumKHJdY/D4FJ0vnV2T9nkdhBbIbdP+DQs1hvm+A/DFl7kKhz4j834ULI4UvkP2NpCgAbJOY/j/HRN1T85z+6eZlvjdTpP+YBYafGrOs/Eooo3/+E7T8+EvAWOV3vPzXNWye5mvA/S5E/w9WG8T9hVSNf8nLyP3YZB/sOX/M/jN3qlitL9D+ioc4ySDf1P7hlss5kI/Y/zimWaoEP9z/k7XkGnvv3P/qxXaK65/g/D3ZBPtfT+T8lOiXa87/6Pzv+CHYQrPs/UcLsES2Y/D9nhtCtSYT9P31KtElmcP4/kw6Y5YJc/z9U6b3ATyQAQF/Lrw5emgBAaq2hXGwQAUB1j5OqeoYBQIBxhfiI/AFAi1N3RpdyAkCVNWmUpegCQKAXW+KzXgNAq/lMMMLUA0C22z5+0EoEQMG9MMzewARAzJ8iGu02BUDXgRRo+6wFQOJjBrYJIwZA7UX4AxiZBkD4J+pRJg8HQA==\",\"dtype\":\"float64\",\"shape\":[50]},\"top\":{\"__ndarray__\":\"P5ZBbzNEAkBQIvIsRSsBQL/OhaxzRABALmVaNpo3/T9umQwa2hz9P3+bd3wOc/4/ZLShoSvQ/T9EelNLopb7PwC9T6gJovk//pALYlgV9j8fIwwujyf3PwFDsFf2XfY/5mdYFJ7c9z/+kAtiWBX2P3+y441TRPE//dVPlieJ7j/+p3dzneboPwFDsFf2XeY//qd3c53m6D/+p3dzneboP/3VT5Ynid4//3mfUBNE0z8BQ7BX9l3mPwAAAAAAAAAA/3mfUBNE0z8AAAAAAAAAAAAAAAAAAPD/AAAAAAAAAAAAAAAAAAAAAP3VT5Ynid4//3mfUBNE0z//eZ9QE0TTPwAAAAAAAPD/AAAAAAAA8P8AAAAAAADw/wAAAAAAAPD/AAAAAAAA8P8/zHgLCwvrP/95n1ATRNM/P8x4CwsL6z//eZ9QE0TjPwAAAAAAAAAAP8x4CwsL6z8AAAAAAAAAAP95n1ATRNM/P8x4CwsL6z8BQ7BX9l3mP/95n1ATROM/AUOwV/Zd5j//eZ9QE0TTPw==\",\"dtype\":\"float64\",\"shape\":[50]}},\"selected\":{\"id\":\"42849\",\"type\":\"Selection\"},\"selection_policy\":{\"id\":\"42850\",\"type\":\"UnionRenderers\"}},\"id\":\"39924\",\"type\":\"ColumnDataSource\"},{\"attributes\":{},\"id\":\"42822\",\"type\":\"UnionRenderers\"},{\"attributes\":{\"data_source\":{\"id\":\"39994\",\"type\":\"ColumnDataSource\"},\"glyph\":{\"id\":\"39995\",\"type\":\"Quad\"},\"hover_glyph\":null,\"muted_glyph\":null,\"nonselection_glyph\":{\"id\":\"39996\",\"type\":\"Quad\"},\"selection_glyph\":null,\"view\":{\"id\":\"39998\",\"type\":\"CDSView\"}},\"id\":\"39997\",\"type\":\"GlyphRenderer\"},{\"attributes\":{\"source\":{\"id\":\"40064\",\"type\":\"ColumnDataSource\"}},\"id\":\"40068\",\"type\":\"CDSView\"},{\"attributes\":{\"bottom\":{\"value\":0},\"fill_alpha\":{\"value\":0.1},\"fill_color\":{\"value\":\"#1f77b4\"},\"left\":{\"field\":\"left\"},\"line_alpha\":{\"value\":0.1},\"line_color\":{\"value\":\"#1f77b4\"},\"right\":{\"field\":\"right\"},\"top\":{\"field\":\"top\"}},\"id\":\"40176\",\"type\":\"Quad\"},{\"attributes\":{\"source\":{\"id\":\"39919\",\"type\":\"ColumnDataSource\"}},\"id\":\"39923\",\"type\":\"CDSView\"},{\"attributes\":{},\"id\":\"42821\",\"type\":\"Selection\"},{\"attributes\":{\"data_source\":{\"id\":\"40174\",\"type\":\"ColumnDataSource\"},\"glyph\":{\"id\":\"40175\",\"type\":\"Quad\"},\"hover_glyph\":null,\"muted_glyph\":null,\"nonselection_glyph\":{\"id\":\"40176\",\"type\":\"Quad\"},\"selection_glyph\":null,\"view\":{\"id\":\"40178\",\"type\":\"CDSView\"}},\"id\":\"40177\",\"type\":\"GlyphRenderer\"},{\"attributes\":{\"source\":{\"id\":\"39994\",\"type\":\"ColumnDataSource\"}},\"id\":\"39998\",\"type\":\"CDSView\"},{\"attributes\":{\"callback\":null,\"data\":{\"left\":{\"__ndarray__\":\"7g5NRGgUIT+7sHd3raCqPzOKVUMjmLo/BZ535ffvwz/wdkQp3pPKP+6niDbim9A/YxRvWNXt0z/YgFV6yD/XP07tO5y7kdo/xFkivq7j3T8dYwTw0JrgP1eZ94DKQ+I/ks/qEcTs4z/NBd6ivZXlPwc80TO3Puc/QnLExLDn6D99qLdVqpDqP7jequajOew/8xSed53i7T8tS5EIl4vvP7RAwkxImvA/0ds7FcVu8T/udrXdQUPyPwwSL6a+F/M/Ka2objvs8z9GSCI3uMD0P2Tjm/80lfU/gX4VyLFp9j+eGY+QLj73P7y0CFmrEvg/2U+CISjn+D/36vvppLv5PxSGdbIhkPo/MSHvep5k+z9PvGhDGzn8P2xX4guYDf0/ivJb1BTi/T+njdWckbb+P8QoT2UOi/8/8WHklsUvAECALyH7A5oAQA79XV9CBAFAncqaw4BuAUAsmNcnv9gBQLplFIz9QgJASTNR8DutAkDYAI5UehcDQGbOyri4gQNA9ZsHHffrA0CEaUSBNVYEQA==\",\"dtype\":\"float64\",\"shape\":[50]},\"right\":{\"__ndarray__\":\"u7B3d62gqj8zilVDI5i6PwWed+X378M/8HZEKd6Tyj/up4g24pvQP2MUb1jV7dM/2IBVesg/1z9O7Tucu5HaP8RZIr6u490/HWME8NCa4D9XmfeAykPiP5LP6hHE7OM/zQXeor2V5T8HPNEztz7nP0JyxMSw5+g/fai3VaqQ6j+43qrmoznsP/MUnned4u0/LUuRCJeL7z+0QMJMSJrwP9HbOxXFbvE/7na13UFD8j8MEi+mvhfzPymtqG477PM/RkgiN7jA9D9k45v/NJX1P4F+FcixafY/nhmPkC4+9z+8tAhZqxL4P9lPgiEo5/g/9+r76aS7+T8UhnWyIZD6PzEh73qeZPs/T7xoQxs5/D9sV+ILmA39P4ryW9QU4v0/p43VnJG2/j/EKE9lDov/P/Fh5JbFLwBAgC8h+wOaAEAO/V1fQgQBQJ3KmsOAbgFALJjXJ7/YAUC6ZRSM/UICQEkzUfA7rQJA2ACOVHoXA0Bmzsq4uIEDQPWbBx336wNAhGlEgTVWBEASN4Hlc8AEQA==\",\"dtype\":\"float64\",\"shape\":[50]},\"top\":{\"__ndarray__\":\"2OopRvue/j/wG18EtpD8P36Gn0eit/0/RHpTS6KW+z8YnyNh5t7+P5CfIyrLRvk/7rrkRdVL+D8fIwwujyf3P+pja3H7Zfc/l31LNeuv8z9/+Zsgo8n1P37JT5+YFfQ/zgdQKQB1+T+XfUs166/zP+6jeDSQevU/fslPn5gV9D8AF2wRRdHyP3+y441TRPE/TxK8Q7bS8T9+yU+fmBX0PxDB+1XGdfQ/bsVQYIup8D8AF2wRRdHyP4DeJ9QE0fQ/n1tQa88n9T+XfUs166/zPwFDsFf2XeY//jbv+Bzm7D8/zHgLCwvrPwFDsFf2XeY/fslPn5gV9D8AF2wRRdHyP/95n1ATROM//dVPlieJ3j8/zHgLCwvrPwAAAAAAAAAA/3mfUBNE0z//eZ9QE0TjP/3VT5Ynid4/AAAAAAAA8P//eZ9QE0TjP/6nd3Od5ug/AAAAAAAAAAAAAAAAAAAAAP95n1ATRNM/AAAAAAAAAAD91U+WJ4nePwAAAAAAAPD/AAAAAAAA8P8AAAAAAAAAAA==\",\"dtype\":\"float64\",\"shape\":[50]}},\"selected\":{\"id\":\"42907\",\"type\":\"Selection\"},\"selection_policy\":{\"id\":\"42908\",\"type\":\"UnionRenderers\"}},\"id\":\"40069\",\"type\":\"ColumnDataSource\"},{\"attributes\":{\"callback\":null,\"data\":{\"left\":{\"__ndarray__\":\"3ZDx+d4wYj+dDuZpexGzP1lI/u23yMI/ZIkJJ7IIzD84ZQowVqTSP74FkExTRNc/Q6YVaVDk2z9ko83CJkLgP6dzEFElkuI/6kNT3yPi5D8tFJZtIjLnP2/k2Psgguk/srQbih/S6z/1hF4YHiLuP5uqUFMOOfA/vRJymg1h8T/eepPhDInyP//itCgMsfM/IUvWbwvZ9D9Cs/e2CgH2P2QbGf4JKfc/hYM6RQlR+D+m61uMCHn5P8hTfdMHofo/6bueGgfJ+z8KJMBhBvH8PyyM4agFGf4/TfQC8ARB/z83LpIbgjQAQEjiIr+ByABAWZazYoFcAUBpSkQGgfABQHr+1KmAhAJAi7JlTYAYA0CbZvbwf6wDQKwah5R/QARAvc4XOH/UBEDNgqjbfmgFQN42OX9+/AVA7+rJIn6QBkAAn1rGfSQHQBBT62l9uAdAIQd8DX1MCEAyuwyxfOAIQEJvnVR8dAlAUyMu+HsICkBk176be5wKQHSLTz97MAtAhT/g4nrEC0CW83CGelgMQA==\",\"dtype\":\"float64\",\"shape\":[50]},\"right\":{\"__ndarray__\":\"nQ7maXsRsz9ZSP7tt8jCP2SJCSeyCMw/OGUKMFak0j++BZBMU0TXP0OmFWlQ5Ns/ZKPNwiZC4D+ncxBRJZLiP+pDU98j4uQ/LRSWbSIy5z9v5Nj7IILpP7K0G4of0us/9YReGB4i7j+bqlBTDjnwP70ScpoNYfE/3nqT4QyJ8j//4rQoDLHzPyFL1m8L2fQ/QrP3tgoB9j9kGxn+CSn3P4WDOkUJUfg/putbjAh5+T/IU33TB6H6P+m7nhoHyfs/CiTAYQbx/D8sjOGoBRn+P030AvAEQf8/Ny6SG4I0AEBI4iK/gcgAQFmWs2KBXAFAaUpEBoHwAUB6/tSpgIQCQIuyZU2AGANAm2b28H+sA0CsGoeUf0AEQL3OFzh/1ARAzYKo235oBUDeNjl/fvwFQO/qySJ+kAZAAJ9axn0kB0AQU+tpfbgHQCEHfA19TAhAMrsMsXzgCEBCb51UfHQJQFMjLvh7CApAZNe+m3ucCkB0i08/ezALQIU/4OJ6xAtAlvNwhnpYDECmpwEqeuwMQA==\",\"dtype\":\"float64\",\"shape\":[50]},\"top\":{\"__ndarray__\":\"nrr4runA+j9mRoDooq38P+pja3H7Zfc//pALYlgV9j9+4Luw3eb2P4Ah2Cv7Lvs/fwwA945z+j+XfUs166/zP/6nd3Od5ug/ABdsEUXR8j8AAAAAAADwP/6nd3Od5ug/AAAAAAAA8D8BQ7BX9l3mPwFDsFf2XeY/AUOwV/Zd5j8BQ7BX9l3mP/3VT5Ynie4/AUOwV/Zd5j8BQ7BX9l3mPwAAAAAAAAAA/3mfUBNE0z/91U+WJ4nePwAAAAAAAAAAAAAAAAAA8D8/zHgLCwvrPz/MeAsLC+s//dVPlieJ3j/91U+WJ4nuP/95n1ATROM/AAAAAAAA8P8AAAAAAADw/wFDsFf2XeY/bsVQYIup8D+fRORZilbyPz/MeAsLC+s/bsVQYIup8D//eZ9QE0TTPwAAAAAAAPD/AAAAAAAA8P8AAAAAAADw/wAAAAAAAPD/AAAAAAAA8P8AAAAAAADw/wAAAAAAAPD/AAAAAAAA8P8AAAAAAADw/wAAAAAAAPD/AAAAAAAA8P8AAAAAAAAAAA==\",\"dtype\":\"float64\",\"shape\":[50]}},\"selected\":{\"id\":\"42851\",\"type\":\"Selection\"},\"selection_policy\":{\"id\":\"42852\",\"type\":\"UnionRenderers\"}},\"id\":\"39929\",\"type\":\"ColumnDataSource\"},{\"attributes\":{},\"id\":\"42820\",\"type\":\"UnionRenderers\"},{\"attributes\":{\"callback\":null,\"data\":{\"left\":{\"__ndarray__\":\"gxqEr1XHNj+W+ybweNCpP3x3d5qxubk/lrhtXpNFwz9utZ/vTa7JPyTZaECEC9A/kNcBieE/0z/81ZrRPnTWP2jUMxqcqNk/1NLMYvnc3D+g6LJVqwjgP9Zn//nZouE/DOdLngg94z9CZphCN9fkP3jl5OZlceY/rmQxi5QL6D/k430vw6XpPxpjytPxP+s/UOIWeCDa7D+GYWMcT3TuP1/wV+A+B/A/+i9+MlbU8D+Vb6SEbaHxPzCvytaEbvI/y+7wKJw78z9mLhd7swj0PwFuPc3K1fQ/nK1jH+Ki9T837Ylx+W/2P9IssMMQPfc/bWzWFSgK+D8IrPxnP9f4P6PrIrpWpPk/PitJDG5x+j/Zam9ehT77P3SqlbCcC/w/D+q7ArTY/D+qKeJUy6X9P0VpCKficv4/4Kgu+fk//z8+dKqliAYAQAuUvU4UbQBA2bPQ95/TAECm0+OgKzoBQHTz9km3oAFAQRMK80IHAkAPMx2czm0CQNxSMEVa1AJAqnJD7uU6A0B3klaXcaEDQA==\",\"dtype\":\"float64\",\"shape\":[50]},\"right\":{\"__ndarray__\":\"lvsm8HjQqT98d3easbm5P5a4bV6TRcM/brWf702uyT8k2WhAhAvQP5DXAYnhP9M//NWa0T501j9o1DManKjZP9TSzGL53Nw/oOiyVasI4D/WZ//52aLhPwznS54IPeM/QmaYQjfX5D945eTmZXHmP65kMYuUC+g/5ON9L8Ol6T8aY8rT8T/rP1DiFngg2uw/hmFjHE907j9f8FfgPgfwP/ovfjJW1PA/lW+khG2h8T8wr8rWhG7yP8vu8CicO/M/Zi4Xe7MI9D8Bbj3NytX0P5ytYx/iovU/N+2Jcflv9j/SLLDDED33P21s1hUoCvg/CKz8Zz/X+D+j6yK6VqT5Pz4rSQxucfo/2WpvXoU++z90qpWwnAv8Pw/quwK02Pw/qiniVMul/T9FaQin4nL+P+CoLvn5P/8/PnSqpYgGAEALlL1OFG0AQNmz0Pef0wBAptPjoCs6AUB08/ZJt6ABQEETCvNCBwJADzMdnM5tAkDcUjBFWtQCQKpyQ+7lOgNAd5JWl3GhA0BFsmlA/QcEQA==\",\"dtype\":\"float64\",\"shape\":[50]},\"top\":{\"__ndarray__\":\"AD8OhV/o/T/OpnQo0cn/P9uP+KTZCABA66uVC5fUAED+7i8G7Wv9PxZz3xo1Uvs/8BtfBLaQ/D8AvU+oCaL5P+ZnWBSe3Pc/n1tQa88n9T8AAAAAAADwP59E5FmKVvI/f7LjjVNE8T/uo3g0kHr1P5d9SzXrr/M/P8x4CwsL6z/qY2tx+2X3PwAAAAAAAPA//qd3c53m6D/+p3dzneboPwAAAAAAAPA/n0TkWYpW8j9uxVBgi6nwPwAXbBFF0fI//dVPlieJ3j/+Nu/4HObsPwFDsFf2XeY/P8x4CwsL6z/91U+WJ4nuP/3VT5Ynid4/AUOwV/Zd5j8/zHgLCwvrPwAAAAAAAPD/AAAAAAAA8P//eZ9QE0TjP/6nd3Od5ug/AAAAAAAAAAD/eZ9QE0TjP/95n1ATRNM//3mfUBNE0z/91U+WJ4neP/95n1ATROM//3mfUBNE0z8AAAAAAAAAAAAAAAAAAAAAAAAAAAAA8P//eZ9QE0TTPwAAAAAAAAAAAAAAAAAA8P//eZ9QE0TTPw==\",\"dtype\":\"float64\",\"shape\":[50]}},\"selected\":{\"id\":\"42879\",\"type\":\"Selection\"},\"selection_policy\":{\"id\":\"42880\",\"type\":\"UnionRenderers\"}},\"id\":\"39999\",\"type\":\"ColumnDataSource\"},{\"attributes\":{\"bottom\":{\"value\":0},\"fill_alpha\":{\"value\":0.05},\"fill_color\":{\"value\":\"#CB4777\"},\"left\":{\"field\":\"left\"},\"line_alpha\":{\"value\":0.05},\"line_color\":{\"value\":\"#7E03A7\"},\"right\":{\"field\":\"right\"},\"top\":{\"field\":\"top\"}},\"id\":\"40070\",\"type\":\"Quad\"},{\"attributes\":{\"source\":{\"id\":\"40174\",\"type\":\"ColumnDataSource\"}},\"id\":\"40178\",\"type\":\"CDSView\"},{\"attributes\":{\"source\":{\"id\":\"39924\",\"type\":\"ColumnDataSource\"}},\"id\":\"39928\",\"type\":\"CDSView\"},{\"attributes\":{},\"id\":\"42819\",\"type\":\"Selection\"},{\"attributes\":{\"bottom\":{\"value\":0},\"fill_alpha\":{\"value\":0.05},\"fill_color\":{\"value\":\"#CB4777\"},\"left\":{\"field\":\"left\"},\"line_alpha\":{\"value\":0.05},\"line_color\":{\"value\":\"#7E03A7\"},\"right\":{\"field\":\"right\"},\"top\":{\"field\":\"top\"}},\"id\":\"40000\",\"type\":\"Quad\"},{\"attributes\":{\"bottom\":{\"value\":0},\"fill_alpha\":{\"value\":0.1},\"fill_color\":{\"value\":\"#1f77b4\"},\"left\":{\"field\":\"left\"},\"line_alpha\":{\"value\":0.1},\"line_color\":{\"value\":\"#1f77b4\"},\"right\":{\"field\":\"right\"},\"top\":{\"field\":\"top\"}},\"id\":\"40071\",\"type\":\"Quad\"},{\"attributes\":{\"callback\":null,\"data\":{\"left\":{\"__ndarray__\":\"7g5NRGgUIT+MaLK7WLerPwRCkIfOrrs/4qejWPjAxD/BLn9tiarLP9BaLUENStE/QB6by9W+1D+v4QhWnjPYPx+lduBmqNs/j2jkai8d3z//Fan6+0jhP7f33z9gA+M/b9kWhcS95D8nu03KKHjmP96chA+NMug/ln67VPHs6T9OYPKZVafrPwZCKd+5Ye0/viNgJB4c7z+6gss0QWvwP5bzZldzSPE/cmQCeqUl8j9O1Z2c1wLzPypGOb8J4PM/BrfU4Tu99D/iJ3AEbpr1P76YCyegd/Y/mQmnSdJU9z91ekJsBDL4P1Hr3Y42D/k/LVx5sWjs+T8JzRTUmsn6P+U9sPbMpvs/wa5LGf+D/D+dH+c7MWH9P3mQgl5jPv4/VQEegZUb/z8xcrmjx/j/P4ZxKuP8agBA9Cl49JXZAEBi4sUFL0gBQNCaExfItgFAPlNhKGElAkCsC685+pMCQBrE/EqTAgNAiHxKXCxxA0D2NJhtxd8DQGTt5X5eTgRA0qUzkPe8BEBAXoGhkCsFQA==\",\"dtype\":\"float64\",\"shape\":[50]},\"right\":{\"__ndarray__\":\"jGiyu1i3qz8EQpCHzq67P+Kno1j4wMQ/wS5/bYmqyz/QWi1BDUrRP0Aem8vVvtQ/r+EIVp4z2D8fpXbgZqjbP49o5GovHd8//xWp+vtI4T+3998/YAPjP2/ZFoXEveQ/J7tNyih45j/enIQPjTLoP5Z+u1Tx7Ok/TmDymVWn6z8GQinfuWHtP74jYCQeHO8/uoLLNEFr8D+W82ZXc0jxP3JkAnqlJfI/TtWdnNcC8z8qRjm/CeDzPwa31OE7vfQ/4idwBG6a9T++mAsnoHf2P5kJp0nSVPc/dXpCbAQy+D9R692ONg/5Py1cebFo7Pk/Cc0U1JrJ+j/lPbD2zKb7P8GuSxn/g/w/nR/nOzFh/T95kIJeYz7+P1UBHoGVG/8/MXK5o8f4/z+GcSrj/GoAQPQpePSV2QBAYuLFBS9IAUDQmhMXyLYBQD5TYShhJQJArAuvOfqTAkAaxPxKkwIDQIh8SlwscQNA9jSYbcXfA0Bk7eV+Xk4EQNKlM5D3vARAQF6BoZArBUCuFs+yKZoFQA==\",\"dtype\":\"float64\",\"shape\":[50]},\"top\":{\"__ndarray__\":\"zqZ0KNHJ/z/+TVsKYrf/P294eMk7WP8/pgZbk7Mw/z9mRoDooq38P36Gn0eit/0/boKgCJVL+j9EelNLopb7P1gMAnL2zfk/WAwCcvbN+T//18P0p5r6P8/w4xe7o/Y/fuC7sN3m9j+fRORZilbyP/6QC2JYFfY//3mfUBNE8z/uo3g0kHr1P/95n1ATRPM/ABdsEUXR8j9PErxDttLxP37JT5+YFfQ//3mfUBNE8z+XfUs166/zP/427/gc5uw//dVPlieJ7j//eZ9QE0TzP27FUGCLqfA/AAAAAAAA8D9/+Zsgo8n1P/3VT5Ynie4/f7LjjVNE8T8/zHgLCwvrP/95n1ATROM//3mfUBNE4z8/zHgLCwvrP/427/gc5uw/TxK8Q7bS8T/91U+WJ4nePwAAAAAAAAAA/3mfUBNE0z8AAAAAAAAAAAAAAAAAAPD/AAAAAAAA8P8AAAAAAADw/wAAAAAAAPD/AAAAAAAAAAAAAAAAAADw/wAAAAAAAPD/AAAAAAAA8P//eZ9QE0TTPw==\",\"dtype\":\"float64\",\"shape\":[50]}},\"selected\":{\"id\":\"42951\",\"type\":\"Selection\"},\"selection_policy\":{\"id\":\"42952\",\"type\":\"UnionRenderers\"}},\"id\":\"40179\",\"type\":\"ColumnDataSource\"},{\"attributes\":{\"data_source\":{\"id\":\"39924\",\"type\":\"ColumnDataSource\"},\"glyph\":{\"id\":\"39925\",\"type\":\"Quad\"},\"hover_glyph\":null,\"muted_glyph\":null,\"nonselection_glyph\":{\"id\":\"39926\",\"type\":\"Quad\"},\"selection_glyph\":null,\"view\":{\"id\":\"39928\",\"type\":\"CDSView\"}},\"id\":\"39927\",\"type\":\"GlyphRenderer\"},{\"attributes\":{},\"id\":\"42826\",\"type\":\"UnionRenderers\"},{\"attributes\":{\"data_source\":{\"id\":\"40069\",\"type\":\"ColumnDataSource\"},\"glyph\":{\"id\":\"40070\",\"type\":\"Quad\"},\"hover_glyph\":null,\"muted_glyph\":null,\"nonselection_glyph\":{\"id\":\"40071\",\"type\":\"Quad\"},\"selection_glyph\":null,\"view\":{\"id\":\"40073\",\"type\":\"CDSView\"}},\"id\":\"40072\",\"type\":\"GlyphRenderer\"},{\"attributes\":{\"bottom\":{\"value\":0},\"fill_alpha\":{\"value\":0.1},\"fill_color\":{\"value\":\"#1f77b4\"},\"left\":{\"field\":\"left\"},\"line_alpha\":{\"value\":0.1},\"line_color\":{\"value\":\"#1f77b4\"},\"right\":{\"field\":\"right\"},\"top\":{\"field\":\"top\"}},\"id\":\"40001\",\"type\":\"Quad\"},{\"attributes\":{\"bottom\":{\"value\":0},\"fill_alpha\":{\"value\":0.05},\"fill_color\":{\"value\":\"#CB4777\"},\"left\":{\"field\":\"left\"},\"line_alpha\":{\"value\":0.05},\"line_color\":{\"value\":\"#7E03A7\"},\"right\":{\"field\":\"right\"},\"top\":{\"field\":\"top\"}},\"id\":\"40180\",\"type\":\"Quad\"},{\"attributes\":{\"bottom\":{\"value\":0},\"fill_alpha\":{\"value\":0.1},\"fill_color\":{\"value\":\"#1f77b4\"},\"left\":{\"field\":\"left\"},\"line_alpha\":{\"value\":0.1},\"line_color\":{\"value\":\"#1f77b4\"},\"right\":{\"field\":\"right\"},\"top\":{\"field\":\"top\"}},\"id\":\"39926\",\"type\":\"Quad\"},{\"attributes\":{},\"id\":\"42825\",\"type\":\"Selection\"},{\"attributes\":{\"data_source\":{\"id\":\"39999\",\"type\":\"ColumnDataSource\"},\"glyph\":{\"id\":\"40000\",\"type\":\"Quad\"},\"hover_glyph\":null,\"muted_glyph\":null,\"nonselection_glyph\":{\"id\":\"40001\",\"type\":\"Quad\"},\"selection_glyph\":null,\"view\":{\"id\":\"40003\",\"type\":\"CDSView\"}},\"id\":\"40002\",\"type\":\"GlyphRenderer\"},{\"attributes\":{\"bottom\":{\"value\":0},\"fill_alpha\":{\"value\":0.1},\"fill_color\":{\"value\":\"#1f77b4\"},\"left\":{\"field\":\"left\"},\"line_alpha\":{\"value\":0.1},\"line_color\":{\"value\":\"#1f77b4\"},\"right\":{\"field\":\"right\"},\"top\":{\"field\":\"top\"}},\"id\":\"39931\",\"type\":\"Quad\"},{\"attributes\":{\"source\":{\"id\":\"40069\",\"type\":\"ColumnDataSource\"}},\"id\":\"40073\",\"type\":\"CDSView\"},{\"attributes\":{\"bottom\":{\"value\":0},\"fill_alpha\":{\"value\":0.1},\"fill_color\":{\"value\":\"#1f77b4\"},\"left\":{\"field\":\"left\"},\"line_alpha\":{\"value\":0.1},\"line_color\":{\"value\":\"#1f77b4\"},\"right\":{\"field\":\"right\"},\"top\":{\"field\":\"top\"}},\"id\":\"40181\",\"type\":\"Quad\"},{\"attributes\":{},\"id\":\"42824\",\"type\":\"UnionRenderers\"},{\"attributes\":{\"data_source\":{\"id\":\"40179\",\"type\":\"ColumnDataSource\"},\"glyph\":{\"id\":\"40180\",\"type\":\"Quad\"},\"hover_glyph\":null,\"muted_glyph\":null,\"nonselection_glyph\":{\"id\":\"40181\",\"type\":\"Quad\"},\"selection_glyph\":null,\"view\":{\"id\":\"40183\",\"type\":\"CDSView\"}},\"id\":\"40182\",\"type\":\"GlyphRenderer\"},{\"attributes\":{\"bottom\":{\"value\":0},\"fill_alpha\":{\"value\":0.05},\"fill_color\":{\"value\":\"#CB4777\"},\"left\":{\"field\":\"left\"},\"line_alpha\":{\"value\":0.05},\"line_color\":{\"value\":\"#7E03A7\"},\"right\":{\"field\":\"right\"},\"top\":{\"field\":\"top\"}},\"id\":\"39930\",\"type\":\"Quad\"},{\"attributes\":{\"source\":{\"id\":\"39999\",\"type\":\"ColumnDataSource\"}},\"id\":\"40003\",\"type\":\"CDSView\"},{\"attributes\":{\"callback\":null,\"data\":{\"left\":{\"__ndarray__\":\"Y1p1ACvGJj8Gf46tU02xP7BhziKiR8E/3YPVbproyT8EU25dyUTRPxrkcYNFldU/MXV1qcHl2T9HBnnPPTbeP69LvvpcQ+E/OhTADZtr4z/F3MEg2ZPlP1ClwzMXvOc/3G3FRlXk6T9nNsdZkwzsP/L+yGzRNO4/vmPlv4cu8D8ESGbJpkLxP0os59LFVvI/jxBo3ORq8z/V9OjlA3/0PxrZae8ik/U/YL3q+EGn9j+loWsCYbv3P+uF7AuAz/g/MWptFZ/j+T92Tu4evvf6P7wybyjdC/w/ARfwMfwf/T9H+3A7GzT+P4zf8UQ6SP8/6GE5pywuAEAL1PkrPLgAQC5GurBLQgFAUbh6NVvMAUB0Kju6alYCQJac+z564AJAuQ68w4lqA0DcgHxImfQDQP/yPM2ofgRAIWX9UbgIBUBE173Wx5IFQGdJflvXHAZAirs+4OamBkCtLf9k9jAHQM+fv+kFuwdA8hGAbhVFCEAVhEDzJM8IQDj2AHg0WQlAW2jB/EPjCUB92oGBU20KQA==\",\"dtype\":\"float64\",\"shape\":[50]},\"right\":{\"__ndarray__\":\"Bn+OrVNNsT+wYc4iokfBP92D1W6a6Mk/BFNuXclE0T8a5HGDRZXVPzF1danB5dk/RwZ5zz023j+vS776XEPhPzoUwA2ba+M/xdzBINmT5T9QpcMzF7znP9xtxUZV5Ok/ZzbHWZMM7D/y/shs0TTuP75j5b+HLvA/BEhmyaZC8T9KLOfSxVbyP48QaNzkavM/1fTo5QN/9D8a2WnvIpP1P2C96vhBp/Y/paFrAmG79z/rhewLgM/4PzFqbRWf4/k/dk7uHr73+j+8Mm8o3Qv8PwEX8DH8H/0/R/twOxs0/j+M3/FEOkj/P+hhOacsLgBAC9T5Kzy4AEAuRrqwS0IBQFG4ejVbzAFAdCo7umpWAkCWnPs+euACQLkOvMOJagNA3IB8SJn0A0D/8jzNqH4EQCFl/VG4CAVARNe91seSBUBnSX5b1xwGQIq7PuDmpgZArS3/ZPYwB0DPn7/pBbsHQPIRgG4VRQhAFYRA8yTPCEA49gB4NFkJQFtowfxD4wlAfdqBgVNtCkCgTEIGY/cKQA==\",\"dtype\":\"float64\",\"shape\":[50]},\"top\":{\"__ndarray__\":\"Vv2C814OA0Cs5CgNALgBQJgT3O2l/QBA/9O7uU5z/D/ZmtM6i7T+Pz/MeAsLC/s//9O7uU5z/D+XOpvd9FH9P/7uLwbta/0/9jC80a8i+j/OB1ApAHX5Px86eD/U+Pk/Hzp4P9T4+T+AIdgr+y77P/6nd3Od5vg/HyMMLo8n9z+AYOawWhf5P3/5myCjyfU/EMH7VcZ19D9+yU+fmBX0P/95n1ATRPM/P8x4CwsL6z/+p3dzneboP/3VT5Ynid4//jbv+Bzm7D9uxVBgi6nwPwFDsFf2XeY//dVPlieJ7j/+p3dzneboP/3VT5Ynid4/AAAAAAAA8P//eZ9QE0TjPwAAAAAAAAAAAAAAAAAA8P//eZ9QE0TTPwAAAAAAAPD/AAAAAAAAAAD/eZ9QE0TTPwAAAAAAAAAAAAAAAAAA8P//eZ9QE0TTPwAAAAAAAAAAAAAAAAAA8P8AAAAAAAAAAAAAAAAAAAAAAAAAAAAA8P8AAAAAAAAAAP95n1ATRNM/AAAAAAAAAAD+p3dzneboPw==\",\"dtype\":\"float64\",\"shape\":[50]}},\"selected\":{\"id\":\"42853\",\"type\":\"Selection\"},\"selection_policy\":{\"id\":\"42854\",\"type\":\"UnionRenderers\"}},\"id\":\"39934\",\"type\":\"ColumnDataSource\"},{\"attributes\":{\"callback\":null,\"data\":{\"left\":{\"__ndarray__\":\"+e1kJFnOVj/5PEerOESnP0GptUb/6LY/A9rjG/EXwT9l32yUYrvGP8fk9QzUXsw/FXW/wiIB0T/G9wN/29LTP3d6SDuUpNY/KP2M90x22T/Zf9GzBUjcP4oCFnC+Gd8/nkItlrv14D/2g0/0l17iP0/FcVJ0x+M/pwaUsFAw5T8ASLYOLZnmP1mJ2GwJAug/scr6yuVq6T8KDB0pwtPqP2JNP4eePOw/u45h5Xql7T8T0INDVw7vP7UI09CZO/A/Yink/wfw8D8OSvUudqTxP7pqBl7kWPI/Z4sXjVIN8z8TrCi8wMHzP7/MOesudvQ/a+1KGp0q9T8YDlxJC9/1P8QubXh5k/Y/cE9+p+dH9z8dcI/WVfz3P8mQoAXEsPg/dbGxNDJl+T8h0sJjoBn6P87y05IOzvo/ehPlwXyC+z8mNPbw6jb8P9NUByBZ6/w/f3UYT8ef/T8rlil+NVT+P9e2Oq2jCP8/hNdL3BG9/z8YfK4FwDgAQG8MNx33kgBAxZy/NC7tAEAbLUhMZUcBQA==\",\"dtype\":\"float64\",\"shape\":[50]},\"right\":{\"__ndarray__\":\"+TxHqzhEpz9BqbVG/+i2PwPa4xvxF8E/Zd9slGK7xj/H5PUM1F7MPxV1v8IiAdE/xvcDf9vS0z93ekg7lKTWPyj9jPdMdtk/2X/RswVI3D+KAhZwvhnfP55CLZa79eA/9oNP9Jde4j9PxXFSdMfjP6cGlLBQMOU/AEi2Di2Z5j9ZidhsCQLoP7HK+srlauk/CgwdKcLT6j9iTT+HnjzsP7uOYeV6pe0/E9CDQ1cO7z+1CNPQmTvwP2Ip5P8H8PA/Dkr1Lnak8T+6agZe5FjyP2eLF41SDfM/E6wovMDB8z+/zDnrLnb0P2vtShqdKvU/GA5cSQvf9T/ELm14eZP2P3BPfqfnR/c/HXCP1lX89z/JkKAFxLD4P3WxsTQyZfk/IdLCY6AZ+j/O8tOSDs76P3oT5cF8gvs/JjT28Oo2/D/TVAcgWev8P391GE/Hn/0/K5YpfjVU/j/Xtjqtowj/P4TXS9wRvf8/GHyuBcA4AEBvDDcd95IAQMWcvzQu7QBAGy1ITGVHAUBxvdBjnKEBQA==\",\"dtype\":\"float64\",\"shape\":[50]},\"top\":{\"__ndarray__\":\"ZkaA6KKt/D9AMsTBeMYAQBB+S/7PF/4/FnPfGjVS+z8XXHMJ8ID4P3/1k+VJovc/n1tQa88n9T9+4Luw3eb2P59bUGvPJ/U/l31LNeuv8z/uo3g0kHr1P4DeJ9QE0fQ//pALYlgV9j9uxVBgi6nwPwAAAAAAAPA//3mfUBNE4z8QwftVxnX0P37gu7Dd5vY/l31LNeuv8z/91U+WJ4nuP/95n1ATROM//dVPlieJ7j//eZ9QE0TjP/3VT5Ynie4//3mfUBNE8z8/zHgLCwvrP39YxyQYFfg/ABdsEUXR8j8/zHgLCwvrP27FUGCLqfA/bsVQYIup8D//eZ9QE0TjP08SvEO20vE/AAAAAAAA8D9uxVBgi6nwP/3VT5Ynid4//dVPlieJ3j8AAAAAAADw/wAAAAAAAAAAAAAAAAAA8P8AAAAAAAAAAAAAAAAAAAAAAAAAAAAA8P8AAAAAAADw/wAAAAAAAAAAAAAAAAAA8P8AAAAAAADw/wAAAAAAAAAAAAAAAAAAAAAAAAAAAAAAAA==\",\"dtype\":\"float64\",\"shape\":[50]}},\"selected\":{\"id\":\"42909\",\"type\":\"Selection\"},\"selection_policy\":{\"id\":\"42910\",\"type\":\"UnionRenderers\"}},\"id\":\"40074\",\"type\":\"ColumnDataSource\"},{\"attributes\":{},\"id\":\"42823\",\"type\":\"Selection\"},{\"attributes\":{\"callback\":null,\"data\":{\"left\":{\"__ndarray__\":\"Sd85uJXFFj+ed4/MTFyxP2Jw2Bl0WcE/9SRpzcEEyj/E7HzAB1jRPw5HRZqurdU/V6ENdFUD2j+g+9VN/FjeP/Uqz5NRV+E/GlizACWC4z8/hZdt+KzlP2Oye9rL1+c/iN9fR58C6j+tDES0ci3sP9E5KCFGWO4/ezMGx4xB8D8NSnh99lbxP59g6jNgbPI/Mndc6smB8z/Ejc6gM5f0P1ekQFedrPU/6bqyDQfC9j970STEcNf3Pw7olnra7Pg/oP4IMUQC+j8yFXvnrRf7P8Ur7Z0XLfw/V0JfVIFC/T/pWNEK61f+P3xvQ8FUbf8/CMPaO19BAEBRzhMXFMwAQJrZTPLIVgFA4+SFzX3hAUAs8L6oMmwCQHb794Pn9gJAvwYxX5yBA0AIEmo6UQwEQFEdoxUGlwRAmijc8LohBUDkMxXMb6wFQC0/TqckNwZAdkqHgtnBBkC/VcBdjkwHQAhh+ThD1wdAUWwyFPhhCECbd2vvrOwIQOSCpMphdwlALY7dpRYCCkB2mRaBy4wKQA==\",\"dtype\":\"float64\",\"shape\":[50]},\"right\":{\"__ndarray__\":\"nnePzExcsT9icNgZdFnBP/Ukac3BBMo/xOx8wAdY0T8OR0Warq3VP1ehDXRVA9o/oPvVTfxY3j/1Ks+TUVfhPxpYswAlguM/P4WXbfis5T9jsnvay9fnP4jfX0efAuo/rQxEtHIt7D/ROSghRljuP3szBseMQfA/DUp4ffZW8T+fYOozYGzyPzJ3XOrJgfM/xI3OoDOX9D9XpEBXnaz1P+m6sg0HwvY/e9EkxHDX9z8O6JZ62uz4P6D+CDFEAvo/MhV7560X+z/FK+2dFy38P1dCX1SBQv0/6VjRCutX/j98b0PBVG3/PwjD2jtfQQBAUc4TFxTMAECa2UzyyFYBQOPkhc194QFALPC+qDJsAkB2+/eD5/YCQL8GMV+cgQNACBJqOlEMBEBRHaMVBpcEQJoo3PC6IQVA5DMVzG+sBUAtP06nJDcGQHZKh4LZwQZAv1XAXY5MB0AIYfk4Q9cHQFFsMhT4YQhAm3dr76zsCEDkgqTKYXcJQC2O3aUWAgpAdpkWgcuMCkDApE9cgBcLQA==\",\"dtype\":\"float64\",\"shape\":[50]},\"top\":{\"__ndarray__\":\"cpN3e69iAUA/2fHGKaIAQBB+S/7PF/4/nhigE9nJ/j8eUeRQGcr8P/427/gc5vw/ZkaA6KKt/D8/zHgLCwv7P4Ah2Cv7Lvs/T88L7L90+z/OB1ApAHX5P39YxyQYFfg/fslPn5gV9D/uo3g0kHr1P37gu7Dd5vY/gN4n1ATR9D/uo3g0kHr1P/427/gc5uw//jbv+Bzm7D/+Nu/4HObsP08SvEO20vE//jbv+Bzm7D/+p3dzneboP/95n1ATRNM//3mfUBNE0z//eZ9QE0TTPwAAAAAAAPD//3mfUBNE0z8AAAAAAAAAAP3VT5Ynid4/AUOwV/Zd5j//eZ9QE0TTP/3VT5Ynid4//3mfUBNE0z/91U+WJ4neP/3VT5Ynid4//3mfUBNE0z8AAAAAAAAAAAAAAAAAAPD/AAAAAAAA8P8AAAAAAADw/wAAAAAAAPD/AAAAAAAAAAD/eZ9QE0TTP/95n1ATRNM/AAAAAAAAAAAAAAAAAAAAAP3VT5Ynid4/AAAAAAAAAAD/eZ9QE0TjPw==\",\"dtype\":\"float64\",\"shape\":[50]}},\"selected\":{\"id\":\"42881\",\"type\":\"Selection\"},\"selection_policy\":{\"id\":\"42882\",\"type\":\"UnionRenderers\"}},\"id\":\"40004\",\"type\":\"ColumnDataSource\"},{\"attributes\":{\"bottom\":{\"value\":0},\"fill_alpha\":{\"value\":0.05},\"fill_color\":{\"value\":\"#CB4777\"},\"left\":{\"field\":\"left\"},\"line_alpha\":{\"value\":0.05},\"line_color\":{\"value\":\"#7E03A7\"},\"right\":{\"field\":\"right\"},\"top\":{\"field\":\"top\"}},\"id\":\"40075\",\"type\":\"Quad\"},{\"attributes\":{\"source\":{\"id\":\"40179\",\"type\":\"ColumnDataSource\"}},\"id\":\"40183\",\"type\":\"CDSView\"},{\"attributes\":{\"source\":{\"id\":\"39929\",\"type\":\"ColumnDataSource\"}},\"id\":\"39933\",\"type\":\"CDSView\"},{\"attributes\":{},\"id\":\"42827\",\"type\":\"Selection\"},{\"attributes\":{\"bottom\":{\"value\":0},\"fill_alpha\":{\"value\":0.05},\"fill_color\":{\"value\":\"#CB4777\"},\"left\":{\"field\":\"left\"},\"line_alpha\":{\"value\":0.05},\"line_color\":{\"value\":\"#7E03A7\"},\"right\":{\"field\":\"right\"},\"top\":{\"field\":\"top\"}},\"id\":\"40005\",\"type\":\"Quad\"},{\"attributes\":{\"bottom\":{\"value\":0},\"fill_alpha\":{\"value\":0.1},\"fill_color\":{\"value\":\"#1f77b4\"},\"left\":{\"field\":\"left\"},\"line_alpha\":{\"value\":0.1},\"line_color\":{\"value\":\"#1f77b4\"},\"right\":{\"field\":\"right\"},\"top\":{\"field\":\"top\"}},\"id\":\"40076\",\"type\":\"Quad\"},{\"attributes\":{\"callback\":null,\"data\":{\"left\":{\"__ndarray__\":\"uyeQNBmFVz/S1Y/Z+SytPzOVvXTlzrw/vp9Z/qaDxT/jdFRC25/MPwSlJ8MH3tE/lw8l5SFs1T8qeiIHPPrYP7zkHylWiNw/p6eOJTgL4D/wXI02RdLhPzoSjEdSmeM/g8eKWF9g5T/MfIlpbCfnPxYyiHp57ug/X+eGi4a16j+onIWck3zsP/FRhK2gQ+4/nYNB31YF8D9C3sBn3ejwP+Y4QPBjzPE/i5O/eOqv8j8w7j4BcZPzP9RIvon3dvQ/eaM9En5a9T8e/ryaBD72P8JYPCOLIfc/Z7O7qxEF+D8MDjs0mOj4P7BourwezPk/VcM5RaWv+j/5HbnNK5P7P554OFaydvw/Q9O33jha/T/nLTdnvz3+P4yItu9FIf8/mPEaPGYCAEDrnlqAKXQAQD1MmsTs5QBAj/nZCLBXAUDhphlNc8kBQDRUWZE2OwJAhgGZ1fmsAkDYrtgZvR4DQCtcGF6AkANAfQlYokMCBEDPtpfmBnQEQCJk1yrK5QRAdBEXb41XBUDGvlazUMkFQA==\",\"dtype\":\"float64\",\"shape\":[50]},\"right\":{\"__ndarray__\":\"0tWP2fksrT8zlb105c68P76fWf6mg8U/43RUQtufzD8EpSfDB97RP5cPJeUhbNU/KnoiBzz62D+85B8pVojcP6enjiU4C+A/8FyNNkXS4T86EoxHUpnjP4PHilhfYOU/zHyJaWwn5z8WMoh6ee7oP1/nhouGteo/qJyFnJN87D/xUYStoEPuP52DQd9WBfA/Qt7AZ93o8D/mOEDwY8zxP4uTv3jqr/I/MO4+AXGT8z/USL6J93b0P3mjPRJ+WvU/Hv68mgQ+9j/CWDwjiyH3P2ezu6sRBfg/DA47NJjo+D+waLq8Hsz5P1XDOUWlr/o/+R25zSuT+z+eeDhWsnb8P0PTt944Wv0/5y03Z789/j+MiLbvRSH/P5jxGjxmAgBA655agCl0AEA9TJrE7OUAQI/52QiwVwFA4aYZTXPJAUA0VFmRNjsCQIYBmdX5rAJA2K7YGb0eA0ArXBhegJADQH0JWKJDAgRAz7aX5gZ0BEAiZNcqyuUEQHQRF2+NVwVAxr5Ws1DJBUAZbJb3EzsGQA==\",\"dtype\":\"float64\",\"shape\":[50]},\"top\":{\"__ndarray__\":\"v+Yr7XgeAUCQto87EBj8PxB+S/7PF/4/akKTRQA3/D+XOpvd9FH9P26ZDBraHP0/Hzp4P9T4+T9umQwa2hz9P+5gyNyZHP8/zgdQKQB1+T/P8OMXu6P2P/6QC2JYFfY/EMH7VcZ19D8QwftVxnX0P+6jeDSQevU/TxK8Q7bS8T+XfUs166/zP3+y441TRPE/l31LNeuv8z8AAAAAAADwP/427/gc5uw//dVPlieJ3j8BQ7BX9l3mPwAAAAAAAPD/AAAAAAAAAAAAAAAAAAAAAP3VT5Ynid4/AAAAAAAAAAAAAAAAAAAAAAAAAAAAAAAAAAAAAAAAAAAAAAAAAADw/wAAAAAAAAAAAAAAAAAA8P//eZ9QE0TTPwAAAAAAAAAAAAAAAAAA8P8AAAAAAADw/wAAAAAAAAAAAAAAAAAAAAAAAAAAAADw/wAAAAAAAPD/AAAAAAAAAAAAAAAAAADw/wAAAAAAAPD/AAAAAAAAAAAAAAAAAADw/wAAAAAAAAAAAAAAAAAA8P8AAAAAAAAAAA==\",\"dtype\":\"float64\",\"shape\":[50]}},\"selected\":{\"id\":\"42953\",\"type\":\"Selection\"},\"selection_policy\":{\"id\":\"42954\",\"type\":\"UnionRenderers\"}},\"id\":\"40184\",\"type\":\"ColumnDataSource\"},{\"attributes\":{\"data_source\":{\"id\":\"39929\",\"type\":\"ColumnDataSource\"},\"glyph\":{\"id\":\"39930\",\"type\":\"Quad\"},\"hover_glyph\":null,\"muted_glyph\":null,\"nonselection_glyph\":{\"id\":\"39931\",\"type\":\"Quad\"},\"selection_glyph\":null,\"view\":{\"id\":\"39933\",\"type\":\"CDSView\"}},\"id\":\"39932\",\"type\":\"GlyphRenderer\"},{\"attributes\":{\"data_source\":{\"id\":\"40074\",\"type\":\"ColumnDataSource\"},\"glyph\":{\"id\":\"40075\",\"type\":\"Quad\"},\"hover_glyph\":null,\"muted_glyph\":null,\"nonselection_glyph\":{\"id\":\"40076\",\"type\":\"Quad\"},\"selection_glyph\":null,\"view\":{\"id\":\"40078\",\"type\":\"CDSView\"}},\"id\":\"40077\",\"type\":\"GlyphRenderer\"},{\"attributes\":{\"bottom\":{\"value\":0},\"fill_alpha\":{\"value\":0.1},\"fill_color\":{\"value\":\"#1f77b4\"},\"left\":{\"field\":\"left\"},\"line_alpha\":{\"value\":0.1},\"line_color\":{\"value\":\"#1f77b4\"},\"right\":{\"field\":\"right\"},\"top\":{\"field\":\"top\"}},\"id\":\"40006\",\"type\":\"Quad\"},{\"attributes\":{\"bottom\":{\"value\":0},\"fill_alpha\":{\"value\":0.05},\"fill_color\":{\"value\":\"#CB4777\"},\"left\":{\"field\":\"left\"},\"line_alpha\":{\"value\":0.05},\"line_color\":{\"value\":\"#7E03A7\"},\"right\":{\"field\":\"right\"},\"top\":{\"field\":\"top\"}},\"id\":\"40185\",\"type\":\"Quad\"},{\"attributes\":{\"bottom\":{\"value\":0},\"fill_alpha\":{\"value\":0.1},\"fill_color\":{\"value\":\"#1f77b4\"},\"left\":{\"field\":\"left\"},\"line_alpha\":{\"value\":0.1},\"line_color\":{\"value\":\"#1f77b4\"},\"right\":{\"field\":\"right\"},\"top\":{\"field\":\"top\"}},\"id\":\"39936\",\"type\":\"Quad\"},{\"attributes\":{},\"id\":\"42830\",\"type\":\"UnionRenderers\"},{\"attributes\":{\"data_source\":{\"id\":\"40004\",\"type\":\"ColumnDataSource\"},\"glyph\":{\"id\":\"40005\",\"type\":\"Quad\"},\"hover_glyph\":null,\"muted_glyph\":null,\"nonselection_glyph\":{\"id\":\"40006\",\"type\":\"Quad\"},\"selection_glyph\":null,\"view\":{\"id\":\"40008\",\"type\":\"CDSView\"}},\"id\":\"40007\",\"type\":\"GlyphRenderer\"},{\"attributes\":{\"source\":{\"id\":\"40074\",\"type\":\"ColumnDataSource\"}},\"id\":\"40078\",\"type\":\"CDSView\"},{\"attributes\":{\"bottom\":{\"value\":0},\"fill_alpha\":{\"value\":0.1},\"fill_color\":{\"value\":\"#1f77b4\"},\"left\":{\"field\":\"left\"},\"line_alpha\":{\"value\":0.1},\"line_color\":{\"value\":\"#1f77b4\"},\"right\":{\"field\":\"right\"},\"top\":{\"field\":\"top\"}},\"id\":\"40186\",\"type\":\"Quad\"},{\"attributes\":{\"bottom\":{\"value\":0},\"fill_alpha\":{\"value\":0.05},\"fill_color\":{\"value\":\"#CB4777\"},\"left\":{\"field\":\"left\"},\"line_alpha\":{\"value\":0.05},\"line_color\":{\"value\":\"#7E03A7\"},\"right\":{\"field\":\"right\"},\"top\":{\"field\":\"top\"}},\"id\":\"39935\",\"type\":\"Quad\"},{\"attributes\":{},\"id\":\"42829\",\"type\":\"Selection\"},{\"attributes\":{\"data_source\":{\"id\":\"40184\",\"type\":\"ColumnDataSource\"},\"glyph\":{\"id\":\"40185\",\"type\":\"Quad\"},\"hover_glyph\":null,\"muted_glyph\":null,\"nonselection_glyph\":{\"id\":\"40186\",\"type\":\"Quad\"},\"selection_glyph\":null,\"view\":{\"id\":\"40188\",\"type\":\"CDSView\"}},\"id\":\"40187\",\"type\":\"GlyphRenderer\"},{\"attributes\":{\"source\":{\"id\":\"40004\",\"type\":\"ColumnDataSource\"}},\"id\":\"40008\",\"type\":\"CDSView\"},{\"attributes\":{\"callback\":null,\"data\":{\"left\":{\"__ndarray__\":\"+L8tHoYQSz+vDEmEQYG1P+/eKv4wZsU/w5sYneAF0D8PyBu7qFjVP1v0Htlwq9o/piAi9zj+3z95ppKKgKjiP588lJnkUeU/xdKVqEj75z/raJe3rKTqPxH/mMYQTu0/NpWa1XT37z+uFU5ybFDxP8HgznkepfI/1KtPgdD58z/ndtCIgk71P/pBUZA0o/Y/DQ3Sl+b39z8g2FKfmEz5PzOj06ZKofo/Rm5Urvz1+z9ZOdW1rkr9P2wEVr1gn/4/fs/WxBL0/z9JzStmYqQAQNIy7Gm7TgFAXJisbRT5AUDl/WxxbaMCQG9jLXXGTQNA+MjteB/4A0CCLq58eKIEQAuUboDRTAVAlPkuhCr3BUAeX++Hg6EGQKfEr4vcSwdAMSpwjzX2B0C6jzCTjqAIQET18JbnSglAzVqxmkD1CUBXwHGemZ8KQOAlMqLySQtAaovypUv0C0Dz8LKppJ4MQH1Wc639SA1ABrwzsVbzDUCQIfS0r50OQBmHtLgISA9Aoux0vGHyD0AWqRpgXU4QQA==\",\"dtype\":\"float64\",\"shape\":[50]},\"right\":{\"__ndarray__\":\"rwxJhEGBtT/v3ir+MGbFP8ObGJ3gBdA/D8gbu6hY1T9b9B7ZcKvaP6YgIvc4/t8/eaaSioCo4j+fPJSZ5FHlP8XSlahI++c/62iXt6yk6j8R/5jGEE7tPzaVmtV09+8/rhVOcmxQ8T/B4M55HqXyP9SrT4HQ+fM/53bQiIJO9T/6QVGQNKP2Pw0N0pfm9/c/INhSn5hM+T8zo9OmSqH6P0ZuVK789fs/WTnVta5K/T9sBFa9YJ/+P37P1sQS9P8/Sc0rZmKkAEDSMuxpu04BQFyYrG0U+QFA5f1scW2jAkBvYy11xk0DQPjI7Xgf+ANAgi6ufHiiBEALlG6A0UwFQJT5LoQq9wVAHl/vh4OhBkCnxK+L3EsHQDEqcI819gdAuo8wk46gCEBE9fCW50oJQM1asZpA9QlAV8BxnpmfCkDgJTKi8kkLQGqL8qVL9AtA8/CyqaSeDEB9VnOt/UgNQAa8M7FW8w1AkCH0tK+dDkAZh7S4CEgPQKLsdLxh8g9AFqkaYF1OEEDb2/rhiaMQQA==\",\"dtype\":\"float64\",\"shape\":[50]},\"top\":{\"__ndarray__\":\"P8x4CwsL+z9pWf9WRQj/P7diKLDFVABA2OopRvue/j/mZ1gUntz3P+665EXVS/g/oIeUsYC0+D8Wc98aNVL7P26ZDBraHP0/EMH7VcZ19D8/2fHGKaIAQD/Z8cYpogBAn0TkWYpW8j/91U+WJ4nuP/427/gc5uw//dVPlieJ3j/+Nu/4HObsP/95n1ATROM/bsVQYIup8D8Wc98aNVL7P/6QC2JYFfY/WAwCcvbN+T+XfUs166/zP/6nd3Od5ug//3mfUBNE0z8AAAAAAAAAAAAAAAAAAAAAAAAAAAAA8P8AAAAAAADw/wAAAAAAAPD/AAAAAAAA8P8AAAAAAADw/wAAAAAAAPD/AAAAAAAAAAAAAAAAAADw/wAAAAAAAPD/AAAAAAAA8P8AAAAAAADw/wAAAAAAAPD/AAAAAAAA8P8AAAAAAADw/wAAAAAAAPD/AAAAAAAA8P8AAAAAAADw/wAAAAAAAPD/AAAAAAAA8P8AAAAAAADw/wAAAAAAAPD/AAAAAAAA8P8AAAAAAAAAAA==\",\"dtype\":\"float64\",\"shape\":[50]}},\"selected\":{\"id\":\"42911\",\"type\":\"Selection\"},\"selection_policy\":{\"id\":\"42912\",\"type\":\"UnionRenderers\"}},\"id\":\"40079\",\"type\":\"ColumnDataSource\"},{\"attributes\":{},\"id\":\"42828\",\"type\":\"UnionRenderers\"},{\"attributes\":{},\"id\":\"42903\",\"type\":\"Selection\"},{\"attributes\":{},\"id\":\"42904\",\"type\":\"UnionRenderers\"},{\"attributes\":{},\"id\":\"42905\",\"type\":\"Selection\"},{\"attributes\":{},\"id\":\"42906\",\"type\":\"UnionRenderers\"},{\"attributes\":{},\"id\":\"42907\",\"type\":\"Selection\"},{\"attributes\":{},\"id\":\"42908\",\"type\":\"UnionRenderers\"},{\"attributes\":{},\"id\":\"42909\",\"type\":\"Selection\"},{\"attributes\":{},\"id\":\"42910\",\"type\":\"UnionRenderers\"},{\"attributes\":{},\"id\":\"42911\",\"type\":\"Selection\"},{\"attributes\":{},\"id\":\"42912\",\"type\":\"UnionRenderers\"},{\"attributes\":{},\"id\":\"42913\",\"type\":\"Selection\"},{\"attributes\":{},\"id\":\"42914\",\"type\":\"UnionRenderers\"},{\"attributes\":{},\"id\":\"42915\",\"type\":\"Selection\"},{\"attributes\":{},\"id\":\"42916\",\"type\":\"UnionRenderers\"},{\"attributes\":{},\"id\":\"42917\",\"type\":\"Selection\"},{\"attributes\":{},\"id\":\"42918\",\"type\":\"UnionRenderers\"},{\"attributes\":{},\"id\":\"42919\",\"type\":\"Selection\"},{\"attributes\":{},\"id\":\"42920\",\"type\":\"UnionRenderers\"},{\"attributes\":{},\"id\":\"42921\",\"type\":\"Selection\"},{\"attributes\":{},\"id\":\"42922\",\"type\":\"UnionRenderers\"},{\"attributes\":{},\"id\":\"42923\",\"type\":\"Selection\"},{\"attributes\":{},\"id\":\"42924\",\"type\":\"UnionRenderers\"},{\"attributes\":{},\"id\":\"42925\",\"type\":\"Selection\"},{\"attributes\":{},\"id\":\"42926\",\"type\":\"UnionRenderers\"},{\"attributes\":{},\"id\":\"42927\",\"type\":\"Selection\"},{\"attributes\":{},\"id\":\"42928\",\"type\":\"UnionRenderers\"},{\"attributes\":{},\"id\":\"42929\",\"type\":\"Selection\"},{\"attributes\":{},\"id\":\"42930\",\"type\":\"UnionRenderers\"},{\"attributes\":{},\"id\":\"42931\",\"type\":\"Selection\"},{\"attributes\":{},\"id\":\"42932\",\"type\":\"UnionRenderers\"},{\"attributes\":{},\"id\":\"42933\",\"type\":\"Selection\"},{\"attributes\":{},\"id\":\"42934\",\"type\":\"UnionRenderers\"},{\"attributes\":{},\"id\":\"42935\",\"type\":\"Selection\"},{\"attributes\":{},\"id\":\"42936\",\"type\":\"UnionRenderers\"},{\"attributes\":{},\"id\":\"42937\",\"type\":\"Selection\"},{\"attributes\":{},\"id\":\"42938\",\"type\":\"UnionRenderers\"},{\"attributes\":{\"bottom\":{\"value\":0},\"fill_alpha\":{\"value\":0.05},\"fill_color\":{\"value\":\"#CB4777\"},\"left\":{\"field\":\"left\"},\"line_alpha\":{\"value\":0.05},\"line_color\":{\"value\":\"#7E03A7\"},\"right\":{\"field\":\"right\"},\"top\":{\"field\":\"top\"}},\"id\":\"39865\",\"type\":\"Quad\"},{\"attributes\":{\"bottom\":{\"value\":0},\"fill_alpha\":{\"value\":0.1},\"fill_color\":{\"value\":\"#1f77b4\"},\"left\":{\"field\":\"left\"},\"line_alpha\":{\"value\":0.1},\"line_color\":{\"value\":\"#1f77b4\"},\"right\":{\"field\":\"right\"},\"top\":{\"field\":\"top\"}},\"id\":\"39866\",\"type\":\"Quad\"},{\"attributes\":{\"data_source\":{\"id\":\"39864\",\"type\":\"ColumnDataSource\"},\"glyph\":{\"id\":\"39865\",\"type\":\"Quad\"},\"hover_glyph\":null,\"muted_glyph\":null,\"nonselection_glyph\":{\"id\":\"39866\",\"type\":\"Quad\"},\"selection_glyph\":null,\"view\":{\"id\":\"39868\",\"type\":\"CDSView\"}},\"id\":\"39867\",\"type\":\"GlyphRenderer\"},{\"attributes\":{\"source\":{\"id\":\"39864\",\"type\":\"ColumnDataSource\"}},\"id\":\"39868\",\"type\":\"CDSView\"},{\"attributes\":{\"callback\":null,\"data\":{\"left\":{\"__ndarray__\":\"LXMvGOdgVT+ifWnbaqytP9a/CD/nVr0/bWAuiMzrxT/vYNhwJSzNP7kwwSw/NtI/+jAWoWvW1T87MWsVmHbZP3wxwInEFt0/35gKf3hb4D8AGTW5jiviPyCZX/Ok++M/QRmKLbvL5T9hmbRn0ZvnP4IZ36Hna+k/opkJ3P076z/DGTQWFAztP+SZXlAq3O4/Ao1ERSBW8D8SzVliKz7xPyMNb382JvI/M02EnEEO8z9DjZm5TPbzP1PNrtZX3vQ/ZA3E82LG9T90TdkQbq72P4SN7i15lvc/lc0DS4R++D+lDRloj2b5P7VNLoWaTvo/xY1DoqU2+z/WzVi/sB78P+YNbty7Bv0/9k2D+cbu/T8HjpgW0tb+PxfOrTPdvv8/E4dhKHRTAEAbJ+y2eccAQCPHdkV/OwFAK2cB1ISvAUA0B4xiiiMCQDynFvGPlwJAREehf5ULA0BM5ysOm38DQFSHtpyg8wNAXCdBK6ZnBEBkx8u5q9sEQG1nVkixTwVAdQfh1rbDBUB9p2tlvDcGQA==\",\"dtype\":\"float64\",\"shape\":[50]},\"right\":{\"__ndarray__\":\"on1p22qsrT/Wvwg/51a9P21gLojM68U/72DYcCUszT+5MMEsPzbSP/owFqFr1tU/OzFrFZh22T98McCJxBbdP9+YCn94W+A/ABk1uY4r4j8gmV/zpPvjP0EZii27y+U/YZm0Z9Gb5z+CGd+h52vpP6KZCdz9O+s/wxk0FhQM7T/kmV5QKtzuPwKNREUgVvA/Es1ZYis+8T8jDW9/NibyPzNNhJxBDvM/Q42ZuUz28z9Tza7WV970P2QNxPNixvU/dE3ZEG6u9j+Eje4teZb3P5XNA0uEfvg/pQ0ZaI9m+T+1TS6Fmk76P8WNQ6KlNvs/1s1Yv7Ae/D/mDW7cuwb9P/ZNg/nG7v0/B46YFtLW/j8Xzq0z3b7/PxOHYSh0UwBAGyfstnnHAEAjx3ZFfzsBQCtnAdSErwFANAeMYoojAkA8pxbxj5cCQERHoX+VCwNATOcrDpt/A0BUh7acoPMDQFwnQSumZwRAZMfLuavbBEBtZ1ZIsU8FQHUH4da2wwVAfadrZbw3BkCFR/bzwasGQA==\",\"dtype\":\"float64\",\"shape\":[50]},\"top\":{\"__ndarray__\":\"nhigE9nJ/j+R4tOBwaT/P36Gn0eit/0//uony5NE/z/2MLzRryL6P//Xw/Snmvo/f1jHJBgV+D/mZ1gUntz3P8/w4xe7o/Y/f7LjjVNE8T8BQ7BX9l32P/3VT5Ynie4/AUOwV/Zd5j8AF2wRRdHyPwAAAAAAAPA/AUOwV/Zd9j9YDAJy9s35PwAXbBFF0fI//dVPlieJ7j8/zHgLCwvrP/6nd3Od5ug//3mfUBNE0z//eZ9QE0TjPwAAAAAAAAAA/3mfUBNE0z8AAAAAAADw//95n1ATRNM//3mfUBNE4z/+p3dzneboP/3VT5Ynie4//jbv+Bzm7D/91U+WJ4nePwAAAAAAAPA//3mfUBNE0z8AAAAAAADw//3VT5Ynid4//dVPlieJ3j8AAAAAAAAAAAAAAAAAAPD/AAAAAAAA8P8AAAAAAADw/wAAAAAAAPD/AAAAAAAA8P8AAAAAAADw/wAAAAAAAPD/AAAAAAAA8P8AAAAAAAAAAAAAAAAAAPD/AAAAAAAA8P8AAAAAAAAAAA==\",\"dtype\":\"float64\",\"shape\":[50]}},\"selected\":{\"id\":\"42827\",\"type\":\"Selection\"},\"selection_policy\":{\"id\":\"42828\",\"type\":\"UnionRenderers\"}},\"id\":\"39869\",\"type\":\"ColumnDataSource\"},{\"attributes\":{\"bottom\":{\"value\":0},\"fill_alpha\":{\"value\":0.05},\"fill_color\":{\"value\":\"#CB4777\"},\"left\":{\"field\":\"left\"},\"line_alpha\":{\"value\":0.05},\"line_color\":{\"value\":\"#7E03A7\"},\"right\":{\"field\":\"right\"},\"top\":{\"field\":\"top\"}},\"id\":\"39870\",\"type\":\"Quad\"},{\"attributes\":{\"bottom\":{\"value\":0},\"fill_alpha\":{\"value\":0.1},\"fill_color\":{\"value\":\"#1f77b4\"},\"left\":{\"field\":\"left\"},\"line_alpha\":{\"value\":0.1},\"line_color\":{\"value\":\"#1f77b4\"},\"right\":{\"field\":\"right\"},\"top\":{\"field\":\"top\"}},\"id\":\"39871\",\"type\":\"Quad\"},{\"attributes\":{\"data_source\":{\"id\":\"39869\",\"type\":\"ColumnDataSource\"},\"glyph\":{\"id\":\"39870\",\"type\":\"Quad\"},\"hover_glyph\":null,\"muted_glyph\":null,\"nonselection_glyph\":{\"id\":\"39871\",\"type\":\"Quad\"},\"selection_glyph\":null,\"view\":{\"id\":\"39873\",\"type\":\"CDSView\"}},\"id\":\"39872\",\"type\":\"GlyphRenderer\"},{\"attributes\":{\"source\":{\"id\":\"39869\",\"type\":\"ColumnDataSource\"}},\"id\":\"39873\",\"type\":\"CDSView\"},{\"attributes\":{\"callback\":null,\"data\":{\"left\":{\"__ndarray__\":\"+0kqPhAVMT8j9k35cnqqP9nLD+ldabo/UE68KsHKwz+0tvBg02DKP4uPkstye9A/vcOs5nvG0z/v98YBhRHXPyEs4RyOXNo/U2D7N5en3T9CyoopUHngP1vkF7fUHuI/dP6kRFnE4z+NGDLS3WnlP6Yyv19iD+c/v0xM7ea06D/YZtl6a1rqP/GAZgjw/+s/CpvzlXSl7T8jtYAj+UrvP57nhtg+ePA/q3RNHwFL8T+3ARRmwx3yP8SO2qyF8PI/0Buh80fD8z/dqGc6Cpb0P+k1LoHMaPU/9sL0x4479j8CULsOUQ73Pw/dgVUT4fc/G2pInNWz+D8o9w7jl4b5PzSE1SlaWfo/QBGccBws+z9NnmK33v77P1krKf6g0fw/ZrjvRGOk/T9yRbaLJXf+P3/SfNLnSf8/xa+hDFUOAEBL9gQwtncAQNI8aFMX4QBAWIPLdnhKAUDeyS6a2bMBQGQQkr06HQJA61b14JuGAkBxnVgE/e8CQPfjuydeWQNAfSofS7/CA0ADcYJuICwEQA==\",\"dtype\":\"float64\",\"shape\":[50]},\"right\":{\"__ndarray__\":\"I/ZN+XJ6qj/Zyw/pXWm6P1BOvCrBysM/tLbwYNNgyj+Lj5LLcnvQP73DrOZ7xtM/7/fGAYUR1z8hLOEcjlzaP1Ng+zeXp90/QsqKKVB54D9b5Be31B7iP3T+pERZxOM/jRgy0t1p5T+mMr9fYg/nP79MTO3mtOg/2GbZemta6j/xgGYI8P/rPwqb85V0pe0/I7WAI/lK7z+e54bYPnjwP6t0TR8BS/E/twEUZsMd8j/EjtqshfDyP9AbofNHw/M/3ahnOgqW9D/pNS6BzGj1P/bC9MeOO/Y/AlC7DlEO9z8P3YFVE+H3PxtqSJzVs/g/KPcO45eG+T80hNUpWln6P0ARnHAcLPs/TZ5it97++z9ZKyn+oNH8P2a470RjpP0/ckW2iyV3/j9/0nzS50n/P8WvoQxVDgBAS/YEMLZ3AEDSPGhTF+EAQFiDy3Z4SgFA3skumtmzAUBkEJK9Oh0CQOtW9eCbhgJAcZ1YBP3vAkD347snXlkDQH0qH0u/wgNAA3GCbiAsBECKt+WRgZUEQA==\",\"dtype\":\"float64\",\"shape\":[50]},\"top\":{\"__ndarray__\":\"qW6pXWWgA0CoKrZNVhgEQANnCs0RsQJAj/vj827NAUAnxi3KZIsCQH+y441TRAFArj0iZ0oaAED/AEpu7AoBQOwAyysguABApgZbk7Mw/z9/tuvIrGv/P2pCk0UAN/w/dQ/kpbTz/j8uZVo2mjf9P0R6U0uilvs/nwE0ApT4+z9qQpNFADf8P0R6U0uilvs/oIeUsYC0+D9/WMckGBX4P+ZnWBSe3Pc/n1tQa88n9T/+kAtiWBX2P37JT5+YFfQ/f7LjjVNE8T/uo3g0kHr1P/6QC2JYFfY/AUOwV/Zd5j8/zHgLCwvrP/427/gc5uw/ABdsEUXR8j8AAAAAAADwP/3VT5Ynie4/l31LNeuv8z8BQ7BX9l3mPwAAAAAAAPA//qd3c53m6D8/zHgLCwvrPwAAAAAAAPD//qd3c53m6D8AAAAAAAAAAAAAAAAAAAAAAUOwV/Zd5j//eZ9QE0TjPwAAAAAAAPD/AAAAAAAA8P8AAAAAAADw/wAAAAAAAAAAAAAAAAAA8P8AAAAAAAAAAA==\",\"dtype\":\"float64\",\"shape\":[50]}},\"selected\":{\"id\":\"42829\",\"type\":\"Selection\"},\"selection_policy\":{\"id\":\"42830\",\"type\":\"UnionRenderers\"}},\"id\":\"39874\",\"type\":\"ColumnDataSource\"},{\"attributes\":{\"bottom\":{\"value\":0},\"fill_alpha\":{\"value\":0.05},\"fill_color\":{\"value\":\"#CB4777\"},\"left\":{\"field\":\"left\"},\"line_alpha\":{\"value\":0.05},\"line_color\":{\"value\":\"#7E03A7\"},\"right\":{\"field\":\"right\"},\"top\":{\"field\":\"top\"}},\"id\":\"39875\",\"type\":\"Quad\"},{\"attributes\":{\"bottom\":{\"value\":0},\"fill_alpha\":{\"value\":0.1},\"fill_color\":{\"value\":\"#1f77b4\"},\"left\":{\"field\":\"left\"},\"line_alpha\":{\"value\":0.1},\"line_color\":{\"value\":\"#1f77b4\"},\"right\":{\"field\":\"right\"},\"top\":{\"field\":\"top\"}},\"id\":\"39876\",\"type\":\"Quad\"},{\"attributes\":{\"data_source\":{\"id\":\"39874\",\"type\":\"ColumnDataSource\"},\"glyph\":{\"id\":\"39875\",\"type\":\"Quad\"},\"hover_glyph\":null,\"muted_glyph\":null,\"nonselection_glyph\":{\"id\":\"39876\",\"type\":\"Quad\"},\"selection_glyph\":null,\"view\":{\"id\":\"39878\",\"type\":\"CDSView\"}},\"id\":\"39877\",\"type\":\"GlyphRenderer\"},{\"attributes\":{\"source\":{\"id\":\"39874\",\"type\":\"ColumnDataSource\"}},\"id\":\"39878\",\"type\":\"CDSView\"},{\"attributes\":{\"callback\":null,\"data\":{\"left\":{\"__ndarray__\":\"zYQ+gwEZUT8X8aag562sPwT3mZqDabw/vzpwsgk+xT/7eZOXUUfMP5xcW75MqNE/OvzssPAs1T/Ym36jlLHYP3Y7EJY4Ntw/FNuhiNy63z9ZvZk9wJ/hPyiN4jYSYuM/91wrMGQk5T/GLHQptubmP5X8vCIIqeg/ZMwFHFpr6j8znE4VrC3sPwJslw7+7+0/0TvgB1Cy7z/QhZQAUbrwP7jtOP15m/E/n1Xd+aJ88j+HvYH2y13zP24lJvP0PvQ/Vo3K7x0g9T899W7sRgH2PyVdE+lv4vY/DMW35ZjD9z/0LFziwaT4P9uUAN/qhfk/w/yk2xNn+j+qZEnYPEj7P5LM7dRlKfw/ejSS0Y4K/T9hnDbOt+v9P0kE28rgzP4/MGx/xwmu/z8M6hFimUcAQAAeZOAtuABA9FG2XsIoAUDohQjdVpkBQNu5WlvrCQJAz+2s2X96AkDDIf9XFOsCQLdVUdaoWwNAqomjVD3MA0CevfXS0TwEQJLxR1FmrQRAhiWaz/odBUB6WexNj44FQA==\",\"dtype\":\"float64\",\"shape\":[50]},\"right\":{\"__ndarray__\":\"F/GmoOetrD8E95mag2m8P786cLIJPsU/+3mTl1FHzD+cXFu+TKjRPzr87LDwLNU/2Jt+o5Sx2D92OxCWODbcPxTboYjcut8/Wb2ZPcCf4T8ojeI2EmLjP/dcKzBkJOU/xix0Kbbm5j+V/LwiCKnoP2TMBRxaa+o/M5xOFawt7D8CbJcO/u/tP9E74AdQsu8/0IWUAFG68D+47Tj9eZvxP59V3fmifPI/h72B9std8z9uJSbz9D70P1aNyu8dIPU/PfVu7EYB9j8lXRPpb+L2PwzFt+WYw/c/9Cxc4sGk+D/blADf6oX5P8P8pNsTZ/o/qmRJ2DxI+z+SzO3UZSn8P3o0ktGOCv0/YZw2zrfr/T9JBNvK4Mz+PzBsf8cJrv8/DOoRYplHAEAAHmTgLbgAQPRRtl7CKAFA6IUI3VaZAUDbuVpb6wkCQM/trNl/egJAwyH/VxTrAkC3VVHWqFsDQKqJo1Q9zANAnr310tE8BECS8UdRZq0EQIYlms/6HQVAelnsTY+OBUBtjT7MI/8FQA==\",\"dtype\":\"float64\",\"shape\":[50]},\"top\":{\"__ndarray__\":\"WAwCcvbN+T9YDAJy9s35P/YwvNGvIvo//jbv+Bzm/D9ugqAIlUv6P0/PC+y/dPs/zzOUb7EB/T+XOpvd9FH9P/6nd3Od5vg//9O7uU5z/D/PM5RvsQH9P+ZnWBSe3Pc/fslPn5gV9D+fW1Brzyf1P/6QC2JYFfY/EMH7VcZ19D8QwftVxnX0P37JT5+YFfQ/AAAAAAAA8D/+p3dzneboP27FUGCLqfA/l31LNeuv8z/91U+WJ4neP/95n1ATROM/AAAAAAAA8P8AAAAAAAAAAP95n1ATROM//3mfUBNE0z8BQ7BX9l3mPwFDsFf2XeY//3mfUBNE0z8AAAAAAADw/wAAAAAAAAAAAAAAAAAA8P8AAAAAAAAAAAAAAAAAAPD/AAAAAAAA8P8AAAAAAADw/wAAAAAAAAAAAAAAAAAA8P/+p3dzneboPwAAAAAAAPD/AAAAAAAAAAAAAAAAAAAAAAAAAAAAAPD/AAAAAAAA8P8AAAAAAADw/wAAAAAAAPD/AAAAAAAA8P8AAAAAAAAAAA==\",\"dtype\":\"float64\",\"shape\":[50]}},\"selected\":{\"id\":\"42831\",\"type\":\"Selection\"},\"selection_policy\":{\"id\":\"42832\",\"type\":\"UnionRenderers\"}},\"id\":\"39879\",\"type\":\"ColumnDataSource\"},{\"attributes\":{\"bottom\":{\"value\":0},\"fill_alpha\":{\"value\":0.05},\"fill_color\":{\"value\":\"#CB4777\"},\"left\":{\"field\":\"left\"},\"line_alpha\":{\"value\":0.05},\"line_color\":{\"value\":\"#7E03A7\"},\"right\":{\"field\":\"right\"},\"top\":{\"field\":\"top\"}},\"id\":\"39880\",\"type\":\"Quad\"},{\"attributes\":{\"bottom\":{\"value\":0},\"fill_alpha\":{\"value\":0.1},\"fill_color\":{\"value\":\"#1f77b4\"},\"left\":{\"field\":\"left\"},\"line_alpha\":{\"value\":0.1},\"line_color\":{\"value\":\"#1f77b4\"},\"right\":{\"field\":\"right\"},\"top\":{\"field\":\"top\"}},\"id\":\"39881\",\"type\":\"Quad\"},{\"attributes\":{\"data_source\":{\"id\":\"39879\",\"type\":\"ColumnDataSource\"},\"glyph\":{\"id\":\"39880\",\"type\":\"Quad\"},\"hover_glyph\":null,\"muted_glyph\":null,\"nonselection_glyph\":{\"id\":\"39881\",\"type\":\"Quad\"},\"selection_glyph\":null,\"view\":{\"id\":\"39883\",\"type\":\"CDSView\"}},\"id\":\"39882\",\"type\":\"GlyphRenderer\"},{\"attributes\":{\"source\":{\"id\":\"39879\",\"type\":\"ColumnDataSource\"}},\"id\":\"39883\",\"type\":\"CDSView\"},{\"attributes\":{\"callback\":null,\"data\":{\"left\":{\"__ndarray__\":\"20vdbZSgOT8UGrL+kzavP8g8RGrzHL8/Q7aXak5Pxz8iTg0gIxDPPwFzwep7aNM/8D58ReZI1z/fCjegUCnbP8/W8fq6Cd8/X1HWqhJ14T9XtzPYR2XjP04dkQV9VeU/RoPuMrJF5z8+6Utg5zXpPzVPqY0cJus/LbUGu1EW7T8lG2TohgbvP4/A4Apee/A/i3OPoXhz8T+HJj44k2vyP4PZ7M6tY/M/foybZchb9D96P0r84lP1P3by+JL9S/Y/cqWnKRhE9z9uWFbAMjz4P2oLBVdNNPk/Zr6z7Wcs+j9hcWKEgiT7P10kERudHPw/Wde/sbcU/T9Vim5I0gz+P1E9Hd/sBP8/TfDLdQf9/z+kUT0GkXoAQCKrlFGe9gBAoATsnKtyAUAeXkPouO4BQJy3mjPGagJAGhHyftPmAkCYaknK4GIDQBXEoBXu3gNAkx34YPtaBEARd0+sCNcEQI/QpvcVUwVADSr+QiPPBUCLg1WOMEsGQAndrNk9xwZAhzYEJUtDB0AFkFtwWL8HQA==\",\"dtype\":\"float64\",\"shape\":[50]},\"right\":{\"__ndarray__\":\"FBqy/pM2rz/IPERq8xy/P0O2l2pOT8c/Ik4NICMQzz8Bc8Hqe2jTP/A+fEXmSNc/3wo3oFAp2z/P1vH6ugnfP19R1qoSdeE/V7cz2Edl4z9OHZEFfVXlP0aD7jKyRec/PulLYOc16T81T6mNHCbrPy21BrtRFu0/JRtk6IYG7z+PwOAKXnvwP4tzj6F4c/E/hyY+OJNr8j+D2ezOrWPzP36Mm2XIW/Q/ej9K/OJT9T928viS/Uv2P3KlpykYRPc/blhWwDI8+D9qCwVXTTT5P2a+s+1nLPo/YXFihIIk+z9dJBEbnRz8P1nXv7G3FP0/VYpuSNIM/j9RPR3f7AT/P03wy3UH/f8/pFE9BpF6AEAiq5RRnvYAQKAE7JyrcgFAHl5D6LjuAUCct5ozxmoCQBoR8n7T5gJAmGpJyuBiA0AVxKAV7t4DQJMd+GD7WgRAEXdPrAjXBECP0Kb3FVMFQA0q/kIjzwVAi4NVjjBLBkAJ3azZPccGQIc2BCVLQwdABZBbcFi/B0CD6bK7ZTsIQA==\",\"dtype\":\"float64\",\"shape\":[50]},\"top\":{\"__ndarray__\":\"t4j59H8ZAkD2ztzuK/AAQGKsvY/TMwBAv6qg3w/c/z9uiZE5rlz+P7+qoN8P3P8/59YZYOIiAED+7i8G7Wv9P/3VT5Ynif4/AL1PqAmi+T8fOng/1Pj5P4DeJ9QE0fQ/gN4n1ATR9D9YDAJy9s35P/95n1ATRPM/AAAAAAAA8D8QwftVxnX0P27FUGCLqfA/n0TkWYpW8j/+Nu/4HObsP/6nd3Od5ug/AUOwV/Zd5j/+p3dzneboP/3VT5Ynid4//3mfUBNE0z8AAAAAAAAAAP95n1ATRNM//3mfUBNE0z/+p3dzneboP/95n1ATRNM//dVPlieJ3j/+p3dzneb4PwAAAAAAAPD/AAAAAAAAAAAAAAAAAADw/wAAAAAAAPD/AAAAAAAA8P8AAAAAAAAAAAAAAAAAAPD/AAAAAAAA8P8AAAAAAAAAAP3VT5Ynid4/P8x4CwsL6z//eZ9QE0TTPwAAAAAAAPD/AAAAAAAA8P8AAAAAAADw/wAAAAAAAPD/AAAAAAAAAAAAAAAAAAAAAA==\",\"dtype\":\"float64\",\"shape\":[50]}},\"selected\":{\"id\":\"42833\",\"type\":\"Selection\"},\"selection_policy\":{\"id\":\"42834\",\"type\":\"UnionRenderers\"}},\"id\":\"39884\",\"type\":\"ColumnDataSource\"},{\"attributes\":{\"bottom\":{\"value\":0},\"fill_alpha\":{\"value\":0.05},\"fill_color\":{\"value\":\"#CB4777\"},\"left\":{\"field\":\"left\"},\"line_alpha\":{\"value\":0.05},\"line_color\":{\"value\":\"#7E03A7\"},\"right\":{\"field\":\"right\"},\"top\":{\"field\":\"top\"}},\"id\":\"39885\",\"type\":\"Quad\"},{\"attributes\":{\"bottom\":{\"value\":0},\"fill_alpha\":{\"value\":0.1},\"fill_color\":{\"value\":\"#1f77b4\"},\"left\":{\"field\":\"left\"},\"line_alpha\":{\"value\":0.1},\"line_color\":{\"value\":\"#1f77b4\"},\"right\":{\"field\":\"right\"},\"top\":{\"field\":\"top\"}},\"id\":\"39886\",\"type\":\"Quad\"},{\"attributes\":{\"data_source\":{\"id\":\"39884\",\"type\":\"ColumnDataSource\"},\"glyph\":{\"id\":\"39885\",\"type\":\"Quad\"},\"hover_glyph\":null,\"muted_glyph\":null,\"nonselection_glyph\":{\"id\":\"39886\",\"type\":\"Quad\"},\"selection_glyph\":null,\"view\":{\"id\":\"39888\",\"type\":\"CDSView\"}},\"id\":\"39887\",\"type\":\"GlyphRenderer\"},{\"attributes\":{\"source\":{\"id\":\"39884\",\"type\":\"ColumnDataSource\"}},\"id\":\"39888\",\"type\":\"CDSView\"},{\"attributes\":{\"callback\":null},\"id\":\"39700\",\"type\":\"DataRange1d\"},{\"attributes\":{\"callback\":null,\"data\":{\"left\":{\"__ndarray__\":\"TVmJSTuGUj+qpwsX1/uxP/iUeKDK1sE/G1Zrtamvyj+eCy9lRMTRPy9sqO+zMNY/wcwheiOd2j9SLZsEkwnfP/JGikcBu+E/O/fGDDnx4z+DpwPScCfmP8xXQJeoXeg/FQh9XOCT6j9duLkhGMrsP6Zo9uZPAO8/d4wZ1kOb8D+b5Le4X7bxP788Vpt70fI/5JT0fZfs8z8I7ZJgswf1PyxFMUPPIvY/UZ3PJes99z919W0IB1n4P5lNDOsidPk/vqWqzT6P+j/i/UiwWqr7PwZW55J2xfw/Kq6FdZLg/T9PBiRYrvv+PzovYR1lCwBATFuwDvOYAEBeh///gCYBQHCzTvEOtAFAgt+d4pxBAkCUC+3TKs8CQKY3PMW4XANAuWOLtkbqA0DLj9qn1HcEQN27KZliBQVA7+d4ivCSBUABFMh7fiAGQBNAF20MrgZAJmxmXpo7B0A4mLVPKMkHQErEBEG2VghAXPBTMkTkCEBuHKMj0nEJQIBI8hRg/wlAk3RBBu6MCkCloJD3exoLQA==\",\"dtype\":\"float64\",\"shape\":[50]},\"right\":{\"__ndarray__\":\"qqcLF9f7sT/4lHigytbBPxtWa7Wpr8o/ngsvZUTE0T8vbKjvszDWP8HMIXojndo/Ui2bBJMJ3z/yRopHAbvhPzv3xgw58eM/g6cD0nAn5j/MV0CXqF3oPxUIfVzgk+o/Xbi5IRjK7D+maPbmTwDvP3eMGdZDm/A/m+S3uF+28T+/PFabe9HyP+SU9H2X7PM/CO2SYLMH9T8sRTFDzyL2P1GdzyXrPfc/dfVtCAdZ+D+ZTQzrInT5P76lqs0+j/o/4v1IsFqq+z8GVueSdsX8PyquhXWS4P0/TwYkWK77/j86L2EdZQsAQExbsA7zmABAXof//4AmAUBws07xDrQBQILfneKcQQJAlAvt0yrPAkCmNzzFuFwDQLlji7ZG6gNAy4/ap9R3BEDduymZYgUFQO/neIrwkgVAARTIe34gBkATQBdtDK4GQCZsZl6aOwdAOJi1TyjJB0BKxARBtlYIQFzwUzJE5AhAbhyjI9JxCUCASPIUYP8JQJN0QQbujApApaCQ93saC0C3zN/oCagLQA==\",\"dtype\":\"float64\",\"shape\":[50]},\"top\":{\"__ndarray__\":\"HlHkUBnK/D/u8EDraFX8P3MSVN5TvwBAf5t3fA5z/j9/tuvIrGv/P26CoAiVS/o/gGDmsFoX+T9/+Zsgo8n1P3/1k+VJovc//pALYlgV9j9+4Luw3eb2P4DeJ9QE0fQ/EMH7VcZ19D9+4Luw3eb2P/95n1ATRPM/P8x4CwsL6z9PErxDttLxPwAXbBFF0fI/AAAAAAAA8D8AAAAAAADwP3+y441TRPE/AUOwV/Zd5j8AAAAAAADw/wAAAAAAAPD/AAAAAAAAAAABQ7BX9l3mP/95n1ATROM//dVPlieJ3j/91U+WJ4nePwAAAAAAAAAAAAAAAAAAAAAAAAAAAAAAAP95n1ATRNM/AAAAAAAAAAAAAAAAAADw//95n1ATRNM/AAAAAAAAAAAAAAAAAADw/wAAAAAAAPD/AAAAAAAAAAAAAAAAAAAAAAAAAAAAAAAAAAAAAAAA8P8AAAAAAADw/wAAAAAAAPD/AAAAAAAA8P8AAAAAAADw/wAAAAAAAPD//3mfUBNE0z8AAAAAAAAAAA==\",\"dtype\":\"float64\",\"shape\":[50]}},\"selected\":{\"id\":\"42835\",\"type\":\"Selection\"},\"selection_policy\":{\"id\":\"42836\",\"type\":\"UnionRenderers\"}},\"id\":\"39889\",\"type\":\"ColumnDataSource\"},{\"attributes\":{\"ticker\":{\"id\":\"39707\",\"type\":\"BasicTicker\"}},\"id\":\"39710\",\"type\":\"Grid\"},{\"attributes\":{\"bottom\":{\"value\":0},\"fill_alpha\":{\"value\":0.05},\"fill_color\":{\"value\":\"#CB4777\"},\"left\":{\"field\":\"left\"},\"line_alpha\":{\"value\":0.05},\"line_color\":{\"value\":\"#7E03A7\"},\"right\":{\"field\":\"right\"},\"top\":{\"field\":\"top\"}},\"id\":\"39890\",\"type\":\"Quad\"},{\"attributes\":{\"bottom\":{\"value\":0},\"fill_alpha\":{\"value\":0.1},\"fill_color\":{\"value\":\"#1f77b4\"},\"left\":{\"field\":\"left\"},\"line_alpha\":{\"value\":0.1},\"line_color\":{\"value\":\"#1f77b4\"},\"right\":{\"field\":\"right\"},\"top\":{\"field\":\"top\"}},\"id\":\"39891\",\"type\":\"Quad\"},{\"attributes\":{},\"id\":\"39707\",\"type\":\"BasicTicker\"},{\"attributes\":{\"data_source\":{\"id\":\"39889\",\"type\":\"ColumnDataSource\"},\"glyph\":{\"id\":\"39890\",\"type\":\"Quad\"},\"hover_glyph\":null,\"muted_glyph\":null,\"nonselection_glyph\":{\"id\":\"39891\",\"type\":\"Quad\"},\"selection_glyph\":null,\"view\":{\"id\":\"39893\",\"type\":\"CDSView\"}},\"id\":\"39892\",\"type\":\"GlyphRenderer\"},{\"attributes\":{\"axis_label\":\"-log10(p_value)\",\"axis_label_text_font_size\":{\"value\":\"15pt\"},\"formatter\":{\"id\":\"42769\",\"type\":\"BasicTickFormatter\"},\"major_label_text_font_size\":{\"value\":\"15pt\"},\"ticker\":{\"id\":\"39707\",\"type\":\"BasicTicker\"}},\"id\":\"39706\",\"type\":\"LinearAxis\"},{\"attributes\":{},\"id\":\"39704\",\"type\":\"LinearScale\"},{\"attributes\":{\"source\":{\"id\":\"39889\",\"type\":\"ColumnDataSource\"}},\"id\":\"39893\",\"type\":\"CDSView\"},{\"attributes\":{},\"id\":\"39702\",\"type\":\"LinearScale\"},{\"attributes\":{\"callback\":null,\"data\":{\"left\":{\"__ndarray__\":\"+0kqPhAVMT/GmfCEydCmP3xvsnS0v7Y/C0l2E4ILwT9XWpPsKbfGP6NrsMXRYsw/eL5mzzwH0T8eR/W7EN3TP8TPg6jkstY/algSlbiI2T8Q4aCBjF7cP7dpL25gNN8/L/leLRoF4T+CPaYjBHDiP9WB7Rnu2uM/KMY0ENhF5T97CnwGwrDmP85Ow/yrG+g/IZMK85WG6T9011Hpf/HqP8cbmd9pXOw/G2Dg1VPH7T9upCfMPTLvP2F0N+GTTvA/ixZb3AgE8T+0uH7XfbnxP95aotLybvI/B/3FzWck8z8xn+nI3NnzP1pBDcRRj/Q/hOMwv8ZE9T+thVS6O/r1P9cneLWwr/Y/AcqbsCVl9z8qbL+rmhr4P1QO46YP0Pg/fbAGooSF+T+nUiqd+Tr6P9D0TZhu8Po/+pZxk+Ol+z8jOZWOWFv8P03buInNEP0/d33chELG/T+gHwCAt3v+P8rBI3ssMf8/82NHdqHm/z8Og7U4C04AQCNUR7bFqABAOCXZM4ADAUBM9mqxOl4BQA==\",\"dtype\":\"float64\",\"shape\":[50]},\"right\":{\"__ndarray__\":\"xpnwhMnQpj98b7J0tL+2PwtJdhOCC8E/V1qT7Cm3xj+ja7DF0WLMP3i+Zs88B9E/Hkf1uxDd0z/Ez4Oo5LLWP2pYEpW4iNk/EOGggYxe3D+3aS9uYDTfPy/5Xi0aBeE/gj2mIwRw4j/Vge0Z7trjPyjGNBDYReU/ewp8BsKw5j/OTsP8qxvoPyGTCvOVhuk/dNdR6X/x6j/HG5nfaVzsPxtg4NVTx+0/bqQnzD0y7z9hdDfhk07wP4sWW9wIBPE/tLh+13258T/eWqLS8m7yPwf9xc1nJPM/MZ/pyNzZ8z9aQQ3EUY/0P4TjML/GRPU/rYVUujv69T/XJ3i1sK/2PwHKm7AlZfc/Kmy/q5oa+D9UDuOmD9D4P32wBqKEhfk/p1Iqnfk6+j/Q9E2YbvD6P/qWcZPjpfs/IzmVjlhb/D9N27iJzRD9P3d93IRCxv0/oB8AgLd7/j/KwSN7LDH/P/NjR3ah5v8/DoO1OAtOAEAjVEe2xagAQDgl2TOAAwFATPZqsTpeAUBhx/wu9bgBQA==\",\"dtype\":\"float64\",\"shape\":[50]},\"top\":{\"__ndarray__\":\"lzqb3fRR/T9/9ZPlSaL3P38MAPeOc/o/P8x4CwsL+z//18P0p5r6P3UP5KW08/4/6mNrcftl9z8XXHMJ8ID4PxDB+1XGdfQ/f/mbIKPJ9T9+yU+fmBX0P59E5FmKVvI/AL1PqAmi+T/P8OMXu6P2Px8jDC6PJ/c/HyMMLo8n9z9PErxDttLxPwAXbBFF0fI//jbv+Bzm7D+XfUs166/zP27FUGCLqfA/AAAAAAAAAAD+p3dzneboP59E5FmKVvI//3mfUBNE8z//eZ9QE0TzPx8jDC6PJ/c/f7LjjVNE8T//eZ9QE0TzP/427/gc5uw//3mfUBNE0z//eZ9QE0TzPwFDsFf2XeY//3mfUBNE0z8AAAAAAAAAAAAAAAAAAAAAAAAAAAAA8P8AAAAAAAAAAAAAAAAAAPD/AAAAAAAA8P8AAAAAAADw/wAAAAAAAPD//dVPlieJ3j8AAAAAAADw/wAAAAAAAPD/AAAAAAAA8P8AAAAAAAAAAAAAAAAAAPD/AAAAAAAA8P//eZ9QE0TTPw==\",\"dtype\":\"float64\",\"shape\":[50]}},\"selected\":{\"id\":\"42837\",\"type\":\"Selection\"},\"selection_policy\":{\"id\":\"42838\",\"type\":\"UnionRenderers\"}},\"id\":\"39894\",\"type\":\"ColumnDataSource\"},{\"attributes\":{\"bottom\":{\"value\":0},\"fill_alpha\":{\"value\":0.05},\"fill_color\":{\"value\":\"#CB4777\"},\"left\":{\"field\":\"left\"},\"line_alpha\":{\"value\":0.05},\"line_color\":{\"value\":\"#7E03A7\"},\"right\":{\"field\":\"right\"},\"top\":{\"field\":\"top\"}},\"id\":\"39895\",\"type\":\"Quad\"},{\"attributes\":{\"callback\":null},\"id\":\"39698\",\"type\":\"DataRange1d\"},{\"attributes\":{\"bottom\":{\"value\":0},\"fill_alpha\":{\"value\":0.1},\"fill_color\":{\"value\":\"#1f77b4\"},\"left\":{\"field\":\"left\"},\"line_alpha\":{\"value\":0.1},\"line_color\":{\"value\":\"#1f77b4\"},\"right\":{\"field\":\"right\"},\"top\":{\"field\":\"top\"}},\"id\":\"39896\",\"type\":\"Quad\"},{\"attributes\":{\"data_source\":{\"id\":\"39894\",\"type\":\"ColumnDataSource\"},\"glyph\":{\"id\":\"39895\",\"type\":\"Quad\"},\"hover_glyph\":null,\"muted_glyph\":null,\"nonselection_glyph\":{\"id\":\"39896\",\"type\":\"Quad\"},\"selection_glyph\":null,\"view\":{\"id\":\"39898\",\"type\":\"CDSView\"}},\"id\":\"39897\",\"type\":\"GlyphRenderer\"},{\"attributes\":{},\"id\":\"42767\",\"type\":\"BasicTickFormatter\"},{\"attributes\":{\"source\":{\"id\":\"39894\",\"type\":\"ColumnDataSource\"}},\"id\":\"39898\",\"type\":\"CDSView\"},{\"attributes\":{\"callback\":null,\"data\":{\"left\":{\"__ndarray__\":\"85buF0vFBj/9WcQ0QrWmPypcYYtpsrY/qkUw/hgFwT9A3a82/bDGP9Z0L2/hXMw/NobX02IE0T8BUhfwVNrTP8wdVwxHsNY/l+mWKDmG2T9itdZEK1zcPy2BFmEdMt8/eyarvgcE4T9hDMvMAG/iP0by6tr52eM/LNgK6fJE5T8Rvir366/mP/ajSgXlGug/3IlqE96F6T/Bb4oh1/DqP6dVqi/QW+w/jDvKPcnG7T9yIepLwjHvP6wDBa1dTvA/nvYUNNoD8T+R6SS7VrnxP4TcNELTbvI/ds9EyU8k8z9pwlRQzNnzP1y1ZNdIj/Q/T6h0XsVE9T9Bm4TlQfr1PzSOlGy+r/Y/J4Gk8zpl9z8ZdLR6txr4PwxnxAE00Pg//1nUiLCF+T/yTOQPLTv6P+Q/9Jap8Po/1zIEHiam+z/KJRSlolv8P7wYJCwfEf0/rws0s5vG/T+i/kM6GHz+P5XxU8GUMf8/h+RjSBHn/z++67nnRk4AQDflQSsFqQBAsN7JbsMDAUAq2FGygV4BQA==\",\"dtype\":\"float64\",\"shape\":[50]},\"right\":{\"__ndarray__\":\"/VnENEK1pj8qXGGLabK2P6pFMP4YBcE/QN2vNv2wxj/WdC9v4VzMPzaG19NiBNE/AVIX8FTa0z/MHVcMR7DWP5fplig5htk/YrXWRCtc3D8tgRZhHTLfP3smq74HBOE/YQzLzABv4j9G8ura+dnjPyzYCunyROU/Eb4q9+uv5j/2o0oF5RroP9yJahPehek/wW+KIdfw6j+nVaov0FvsP4w7yj3Jxu0/ciHqS8Ix7z+sAwWtXU7wP572FDTaA/E/kekku1a58T+E3DRC027yP3bPRMlPJPM/acJUUMzZ8z9ctWTXSI/0P0+odF7FRPU/QZuE5UH69T80jpRsvq/2PyeBpPM6Zfc/GXS0erca+D8MZ8QBNND4P/9Z1Iiwhfk/8kzkDy07+j/kP/SWqfD6P9cyBB4mpvs/yiUUpaJb/D+8GCQsHxH9P68LNLObxv0/ov5DOhh8/j+V8VPBlDH/P4fkY0gR5/8/vuu550ZOAEA35UErBakAQLDeyW7DAwFAKthRsoFeAUCj0dn1P7kBQA==\",\"dtype\":\"float64\",\"shape\":[50]},\"top\":{\"__ndarray__\":\"bsVQYIupAEDfawbSID4BQDoTqNt84gBAYqy9j9MzAEBtsHgrH+7/P2Vd7Pnnfv8/fm8zNl3m+j8/zHgLCwv7P4Ah2Cv7Lvs/TuZ3/QRG/j+fATQClPj7P26CoAiVS/o//r7jhOK3+z//07u5TnP8Pz/MeAsLC/s/F1xzCfCA+D+/qqDfD9z/P/YwvNGvIvo/IGa8hYWF/T8QwftVxnX0P26CoAiVS/o//pALYlgV9j9uxVBgi6nwPz/MeAsLC+s//qd3c53m6D/+Nu/4HObsP/6nd3Od5ug/P8x4CwsL6z//eZ9QE0TjPwAAAAAAAPD//3mfUBNE4z//eZ9QE0TTP/95n1ATROM/AAAAAAAA8P8AAAAAAADw/wAAAAAAAAAAAAAAAAAAAAD/eZ9QE0TTPwAAAAAAAPD/AAAAAAAAAAAAAAAAAAAAAAAAAAAAAPD/AAAAAAAAAAAAAAAAAADw/wAAAAAAAPD/AAAAAAAAAAAAAAAAAADw/wAAAAAAAPD/AAAAAAAA8P8AAAAAAAAAAA==\",\"dtype\":\"float64\",\"shape\":[50]}},\"selected\":{\"id\":\"42771\",\"type\":\"Selection\"},\"selection_policy\":{\"id\":\"42772\",\"type\":\"UnionRenderers\"}},\"id\":\"39729\",\"type\":\"ColumnDataSource\"},{\"attributes\":{\"callback\":null,\"data\":{\"left\":{\"__ndarray__\":\"20vdbZSgOT/XB4xCaPSoP4sqHq7H2rg/lSh7na2dwj/lO+dj983IPzVPUypB/s4/QrFfeEWX0j/qupVbaq/VP5LEyz6Px9g/Os4BIrTf2z/i1zcF2ffeP8TwNvT+B+E/mPXRZRGU4j9s+mzXIyDkP0D/B0k2rOU/FASjukg45z/oCD4sW8ToP7wN2Z1tUOo/kBJ0D4Dc6z9kFw+BkmjtPzgcqvKk9O4/hpAisltA8D/wEvDqZAbxP1qVvSNuzPE/xBeLXHeS8j8umliVgFjzP5gcJs6JHvQ/Ap/zBpPk9D9sIcE/nKr1P9ajjnilcPY/QCZcsa429z+qqCnqt/z3PxQr9yLBwvg/fq3EW8qI+T/oL5KU0076P1KyX83cFPs/vDQtBuba+z8mt/o+76D8P5A5yHf4Zv0/+ruVsAEt/j9kPmPpCvP+P87AMCIUuf8/myF/rY4/AEDQ4uVJk6IAQAWkTOaXBQFAOmWzgpxoAUBvJhofocsBQKTngLulLgJA2ajnV6qRAkAOak70rvQCQA==\",\"dtype\":\"float64\",\"shape\":[50]},\"right\":{\"__ndarray__\":\"1weMQmj0qD+LKh6ux9q4P5Uoe52tncI/5TvnY/fNyD81T1MqQf7OP0KxX3hFl9I/6rqVW2qv1T+SxMs+j8fYPzrOASK039s/4tc3Bdn33j/E8Db0/gfhP5j10WURlOI/bPps1yMg5D9A/wdJNqzlPxQEo7pIOOc/6Ag+LFvE6D+8DdmdbVDqP5ASdA+A3Os/ZBcPgZJo7T84HKrypPTuP4aQIrJbQPA/8BLw6mQG8T9alb0jbszxP8QXi1x3kvI/LppYlYBY8z+YHCbOiR70PwKf8waT5PQ/bCHBP5yq9T/Wo454pXD2P0AmXLGuNvc/qqgp6rf89z8UK/ciwcL4P36txFvKiPk/6C+SlNNO+j9Ssl/N3BT7P7w0LQbm2vs/Jrf6Pu+g/D+QOch3+Gb9P/q7lbABLf4/ZD5j6Qrz/j/OwDAiFLn/P5shf62OPwBA0OLlSZOiAEAFpEzmlwUBQDpls4KcaAFAbyYaH6HLAUCk54C7pS4CQNmo51eqkQJADmpO9K70AkBDK7WQs1cDQA==\",\"dtype\":\"float64\",\"shape\":[50]},\"top\":{\"__ndarray__\":\"1SlD1jORAUBtsHgrH+7/Py5lWjaaN/0/8BtfBLaQ/D9YDAJy9s35P5CfIyrLRvk/ZkaA6KKt/D/+vuOE4rf7Px86eD/U+Pk/zgdQKQB1+T8BQ7BX9l32P+665EXVS/g/Hzp4P9T4+T/OB1ApAHX5P08SvEO20vE/n0TkWYpW8j8AAAAAAADwPxDB+1XGdfQ/fslPn5gV9D/91U+WJ4neP/6nd3Od5ug/n0TkWYpW8j//eZ9QE0TjP/3VT5Ynid4//jbv+Bzm7D8BQ7BX9l3mP/427/gc5uw//3mfUBNE0z8AAAAAAAAAAAAAAAAAAAAA/3mfUBNE0z/91U+WJ4nePwAAAAAAAAAAAAAAAAAA8P8AAAAAAAAAAAAAAAAAAPD/AAAAAAAA8P8AAAAAAADw//95n1ATRNM//dVPlieJ3j8AAAAAAADw/wAAAAAAAAAAAAAAAAAAAAAAAAAAAADw/wAAAAAAAPD/AAAAAAAAAAAAAAAAAAAAAAAAAAAAAPD/AAAAAAAA8P8AAAAAAAAAAA==\",\"dtype\":\"float64\",\"shape\":[50]}},\"selected\":{\"id\":\"42839\",\"type\":\"Selection\"},\"selection_policy\":{\"id\":\"42840\",\"type\":\"UnionRenderers\"}},\"id\":\"39899\",\"type\":\"ColumnDataSource\"},{\"attributes\":{\"bottom\":{\"value\":0},\"fill_alpha\":{\"value\":0.05},\"fill_color\":{\"value\":\"#CB4777\"},\"left\":{\"field\":\"left\"},\"line_alpha\":{\"value\":0.05},\"line_color\":{\"value\":\"#7E03A7\"},\"right\":{\"field\":\"right\"},\"top\":{\"field\":\"top\"}},\"id\":\"39900\",\"type\":\"Quad\"},{\"attributes\":{\"callback\":null,\"data\":{\"left\":{\"__ndarray__\":\"AAAAAAAAAAC9zc55OOG6P73Nznk44co/ThpbW+oo1D+9zc55OOHaP5ZAIUzDzOA/ThpbW+oo5D8F9JRqEYXnP73Nznk44eo/dacIiV897j+WQCFMw8zwP3ItvtPWevI/ThpbW+oo9D8qB/ji/db1PwX0lGoRhfc/4eAx8iQz+T+9zc55OOH6P5m6awFMj/w/dacIiV89/j9QlKUQc+v/P5ZAIUzDzABABLfvD82jAUByLb7T1noCQOCjjJfgUQNAThpbW+ooBEC8kCkf9P8EQCoH+OL91gVAl33GpgeuBkAF9JRqEYUHQHNqYy4bXAhA4eAx8iQzCUBPVwC2LgoKQL3Nznk44QpAK0SdPUK4C0CZumsBTI8MQAcxOsVVZg1AdacIiV89DkDjHddMaRQPQFCUpRBz6w9AXwU6aj5hEECWQCFMw8wQQM17CC5IOBFABLfvD82jEUA78tbxUQ8SQHItvtPWehJAqWiltVvmEkDgo4yX4FETQBffc3llvRNAThpbW+ooFECFVUI9b5QUQA==\",\"dtype\":\"float64\",\"shape\":[50]},\"right\":{\"__ndarray__\":\"vc3OeTjhuj+9zc55OOHKP04aW1vqKNQ/vc3OeTjh2j+WQCFMw8zgP04aW1vqKOQ/BfSUahGF5z+9zc55OOHqP3WnCIlfPe4/lkAhTMPM8D9yLb7T1nryP04aW1vqKPQ/Kgf44v3W9T8F9JRqEYX3P+HgMfIkM/k/vc3OeTjh+j+ZumsBTI/8P3WnCIlfPf4/UJSlEHPr/z+WQCFMw8wAQAS37w/NowFAci2+09Z6AkDgo4yX4FEDQE4aW1vqKARAvJApH/T/BEAqB/ji/dYFQJd9xqYHrgZABfSUahGFB0BzamMuG1wIQOHgMfIkMwlAT1cAti4KCkC9zc55OOEKQCtEnT1CuAtAmbprAUyPDEAHMTrFVWYNQHWnCIlfPQ5A4x3XTGkUD0BQlKUQc+sPQF8FOmo+YRBAlkAhTMPMEEDNewguSDgRQAS37w/NoxFAO/LW8VEPEkByLb7T1noSQKlopbVb5hJA4KOMl+BRE0AX33N5Zb0TQE4aW1vqKBRAhVVCPW+UFEC8kCkf9P8UQA==\",\"dtype\":\"float64\",\"shape\":[50]},\"top\":{\"__ndarray__\":\"QDLEwXjGAECeGKAT2cn+Px5R5FAZyvw/AUOwV/Zd9j8AF2wRRdHyP+pja3H7Zfc/bsVQYIup8D9/suONU0TxP/6QC2JYFfY/T88L7L90+z8BQ7BX9l32PwAXbBFF0fI//qd3c53m6D/+p3dzneboP/6nd3Od5ug/AUOwV/Zd5j/91U+WJ4nuPwFDsFf2XeY//3mfUBNE4z/91U+WJ4neP/95n1ATRNM/AAAAAAAA8D9uxVBgi6nwP3+y441TRPE/n0TkWYpW8j/P8OMXu6P2PwFDsFf2XeY/AAAAAAAA8P8AAAAAAAAAAAAAAAAAAAAAAAAAAAAAAAAAAAAAAAAAAAAAAAAAAPD/AAAAAAAA8P8AAAAAAADw/wAAAAAAAPD/AAAAAAAA8P8AAAAAAADw/wAAAAAAAAAA/dVPlieJ3j//eZ9QE0TTP/95n1ATRNM/AAAAAAAAAAAAAAAAAADw/wAAAAAAAPD/AAAAAAAA8P8AAAAAAADw/wAAAAAAAAAA/3mfUBNE4z8BQ7BX9l3mPw==\",\"dtype\":\"float64\",\"shape\":[50]}},\"selected\":{\"id\":\"42971\",\"type\":\"Selection\"},\"selection_policy\":{\"id\":\"42972\",\"type\":\"UnionRenderers\"}},\"id\":\"40229\",\"type\":\"ColumnDataSource\"},{\"attributes\":{},\"id\":\"39712\",\"type\":\"BasicTicker\"},{\"attributes\":{\"dimension\":1,\"ticker\":{\"id\":\"39712\",\"type\":\"BasicTicker\"}},\"id\":\"39715\",\"type\":\"Grid\"},{\"attributes\":{\"bottom\":{\"value\":0},\"fill_alpha\":{\"value\":0.1},\"fill_color\":{\"value\":\"#1f77b4\"},\"left\":{\"field\":\"left\"},\"line_alpha\":{\"value\":0.1},\"line_color\":{\"value\":\"#1f77b4\"},\"right\":{\"field\":\"right\"},\"top\":{\"field\":\"top\"}},\"id\":\"39731\",\"type\":\"Quad\"},{\"attributes\":{\"axis_label\":\"log10(number of SNPs)\",\"axis_label_text_font_size\":{\"value\":\"15pt\"},\"formatter\":{\"id\":\"42767\",\"type\":\"BasicTickFormatter\"},\"major_label_text_font_size\":{\"value\":\"15pt\"},\"ticker\":{\"id\":\"39712\",\"type\":\"BasicTicker\"}},\"id\":\"39711\",\"type\":\"LinearAxis\"},{\"attributes\":{\"bottom\":{\"value\":0},\"fill_alpha\":{\"value\":0.05},\"fill_color\":{\"value\":\"#CB4777\"},\"left\":{\"field\":\"left\"},\"line_alpha\":{\"value\":0.05},\"line_color\":{\"value\":\"#7E03A7\"},\"right\":{\"field\":\"right\"},\"top\":{\"field\":\"top\"}},\"id\":\"39730\",\"type\":\"Quad\"},{\"attributes\":{\"active_drag\":\"auto\",\"active_inspect\":\"auto\",\"active_multi\":null,\"active_scroll\":\"auto\",\"active_tap\":\"auto\",\"tools\":[{\"id\":\"39716\",\"type\":\"PanTool\"},{\"id\":\"39717\",\"type\":\"WheelZoomTool\"},{\"id\":\"39718\",\"type\":\"BoxZoomTool\"},{\"id\":\"39719\",\"type\":\"SaveTool\"},{\"id\":\"39720\",\"type\":\"ResetTool\"},{\"id\":\"39721\",\"type\":\"HelpTool\"}]},\"id\":\"39722\",\"type\":\"Toolbar\"},{\"attributes\":{},\"id\":\"39716\",\"type\":\"PanTool\"},{\"attributes\":{},\"id\":\"39717\",\"type\":\"WheelZoomTool\"},{\"attributes\":{\"overlay\":{\"id\":\"42973\",\"type\":\"BoxAnnotation\"}},\"id\":\"39718\",\"type\":\"BoxZoomTool\"},{\"attributes\":{},\"id\":\"39719\",\"type\":\"SaveTool\"},{\"attributes\":{},\"id\":\"39720\",\"type\":\"ResetTool\"},{\"attributes\":{},\"id\":\"39721\",\"type\":\"HelpTool\"},{\"attributes\":{\"data_source\":{\"id\":\"39729\",\"type\":\"ColumnDataSource\"},\"glyph\":{\"id\":\"39730\",\"type\":\"Quad\"},\"hover_glyph\":null,\"muted_glyph\":null,\"nonselection_glyph\":{\"id\":\"39731\",\"type\":\"Quad\"},\"selection_glyph\":null,\"view\":{\"id\":\"39733\",\"type\":\"CDSView\"}},\"id\":\"39732\",\"type\":\"GlyphRenderer\"},{\"attributes\":{\"source\":{\"id\":\"39729\",\"type\":\"ColumnDataSource\"}},\"id\":\"39733\",\"type\":\"CDSView\"},{\"attributes\":{\"callback\":null,\"data\":{\"left\":{\"__ndarray__\":\"gxqEr1XHNj9mdjHO5O6lP0zygXgd2LU/spT1RGRcwD8+MKrNuczFP8rLXlYPPcs/rLOJb7JW0D9yAeQz3Q7TPzhPPvgHx9U//pyYvDJ/2D/E6vKAXTfbP4o4TUWI790/KMPThNlT4D8L6gDn7q/hP+4QLkkEDOM/0Tdbqxlo5D+0XogNL8TlP5eFtW9EIOc/eqzi0Vl86D9d0w80b9jpP0D6PJaENOs/IyFq+JmQ7D8GSJdar+ztP+luxLzESO8/58p4D21S8D9YXo/AdwDxP8rxpXGCrvE/O4W8Io1c8j+tGNPTlwrzPx6s6YSiuPM/kD8ANq1m9D8B0xbntxT1P3NmLZjCwvU/5flDSc1w9j9WjVr61x73P8ggcavizPc/ObSHXO16+D+rR54N+Cj5PxzbtL4C1/k/jm7Lbw2F+j//AeIgGDP7P3GV+NEi4fs/4igPgy2P/D9UvCU0OD39P8VPPOVC6/0/N+NSlk2Z/j+odmlHWEf/PxoKgPhi9f8/xk7L1LZRAEB/mFYtvKgAQA==\",\"dtype\":\"float64\",\"shape\":[50]},\"right\":{\"__ndarray__\":\"ZnYxzuTupT9M8oF4Hdi1P7KU9URkXMA/PjCqzbnMxT/Ky15WDz3LP6yziW+yVtA/cgHkM90O0z84Tz74B8fVP/6cmLwyf9g/xOrygF032z+KOE1FiO/dPyjD04TZU+A/C+oA5+6v4T/uEC5JBAzjP9E3W6sZaOQ/tF6IDS/E5T+XhbVvRCDnP3qs4tFZfOg/XdMPNG/Y6T9A+jyWhDTrPyMhaviZkOw/BkiXWq/s7T/pbsS8xEjvP+fKeA9tUvA/WF6PwHcA8T/K8aVxgq7xPzuFvCKNXPI/rRjT05cK8z8erOmEorjzP5A/ADatZvQ/AdMW57cU9T9zZi2YwsL1P+X5Q0nNcPY/Vo1a+tce9z/IIHGr4sz3Pzm0h1ztevg/q0eeDfgo+T8c27S+Atf5P45uy28Nhfo//wHiIBgz+z9xlfjRIuH7P+IoD4Mtj/w/VLwlNDg9/T/FTzzlQuv9PzfjUpZNmf4/qHZpR1hH/z8aCoD4YvX/P8ZOy9S2UQBAf5hWLbyoAEA34uGFwf8AQA==\",\"dtype\":\"float64\",\"shape\":[50]},\"top\":{\"__ndarray__\":\"y6iD95wRAED+TVsKYrf/P3+268isa/8/zzOUb7EB/T/wG18EtpD8P/427/gc5vw/T88L7L90+z/+vuOE4rf7P07md/0ERv4/lzqb3fRR/T/v5iiMhtj7P84HUCkAdfk/gCHYK/su+z9/WMckGBX4P//Xw/Snmvo/f1jHJBgV+D9/+Zsgo8n1P37gu7Dd5vY/HyMMLo8n9z8AF2wRRdHyP08SvEO20vE/f/mbIKPJ9T/91U+WJ4nuP27FUGCLqfA//qd3c53m6D+fRORZilbyP/95n1ATROM/AAAAAAAA8P/91U+WJ4neP/95n1ATRNM//3mfUBNE0z8AAAAAAAAAAP95n1ATROM//3mfUBNE0z8AAAAAAAAAAAAAAAAAAAAA/3mfUBNE4z8AAAAAAADw/wAAAAAAAPD/AAAAAAAA8P8AAAAAAAAAAP95n1ATRNM//qd3c53m6D8AAAAAAAAAAAAAAAAAAPD/AAAAAAAA8P8AAAAAAAAAAAAAAAAAAAAAAAAAAAAAAAD/eZ9QE0TjPw==\",\"dtype\":\"float64\",\"shape\":[50]}},\"selected\":{\"id\":\"42773\",\"type\":\"Selection\"},\"selection_policy\":{\"id\":\"42774\",\"type\":\"UnionRenderers\"}},\"id\":\"39734\",\"type\":\"ColumnDataSource\"},{\"attributes\":{\"bottom\":{\"value\":0},\"fill_alpha\":{\"value\":0.05},\"fill_color\":{\"value\":\"#CB4777\"},\"left\":{\"field\":\"left\"},\"line_alpha\":{\"value\":0.05},\"line_color\":{\"value\":\"#7E03A7\"},\"right\":{\"field\":\"right\"},\"top\":{\"field\":\"top\"}},\"id\":\"39735\",\"type\":\"Quad\"},{\"attributes\":{\"bottom\":{\"value\":0},\"fill_alpha\":{\"value\":0.1},\"fill_color\":{\"value\":\"#1f77b4\"},\"left\":{\"field\":\"left\"},\"line_alpha\":{\"value\":0.1},\"line_color\":{\"value\":\"#1f77b4\"},\"right\":{\"field\":\"right\"},\"top\":{\"field\":\"top\"}},\"id\":\"39736\",\"type\":\"Quad\"},{\"attributes\":{\"data_source\":{\"id\":\"39734\",\"type\":\"ColumnDataSource\"},\"glyph\":{\"id\":\"39735\",\"type\":\"Quad\"},\"hover_glyph\":null,\"muted_glyph\":null,\"nonselection_glyph\":{\"id\":\"39736\",\"type\":\"Quad\"},\"selection_glyph\":null,\"view\":{\"id\":\"39738\",\"type\":\"CDSView\"}},\"id\":\"39737\",\"type\":\"GlyphRenderer\"},{\"attributes\":{\"source\":{\"id\":\"39734\",\"type\":\"ColumnDataSource\"}},\"id\":\"39738\",\"type\":\"CDSView\"},{\"attributes\":{\"callback\":null,\"data\":{\"left\":{\"__ndarray__\":\"DF8LJyWDQj/U9kjDJhSrPxbg+ngg77o/YaIoyBYqxD+31NNTndzKP4eDv++Rx9A/shyVNdUg1D/dtWp7GHrXPwhPQMFb09o/M+gVB58s3j+vwHUm8cLgP0SNYMmSb+I/2llLbDQc5D9wJjYP1sjlPwXzILJ3dec/mr8LVRki6T8wjPb3us7qP8ZY4Zpce+w/WyXMPf4n7j/w8bbgn9TvP0Pf0MGgwPA/jkVGk/GW8T/Yq7tkQm3yPyMSMTaTQ/M/bnimB+QZ9D+53hvZNPD0PwRFkaqFxvU/TqsGfNac9j+ZEXxNJ3P3P+R38R54Sfg/Lt5m8Mgf+T95RNzBGfb5P8SqUZNqzPo/DxHHZLui+z9adzw2DHn8P6TdsQddT/0/70Mn2a0l/j86qpyq/vv+P4QQEnxP0v8/aLvDJlBUAECNbn6PeL8AQLIhOfigKgFA2NTzYMmVAUD9h67J8QACQCI7aTIabAJASO4jm0LXAkBtod4Da0IDQJNUmWyTrQNAuAdU1bsYBEDdug4+5IMEQA==\",\"dtype\":\"float64\",\"shape\":[50]},\"right\":{\"__ndarray__\":\"1PZIwyYUqz8W4Pp4IO+6P2GiKMgWKsQ/t9TTU53cyj+Hg7/vkcfQP7IclTXVINQ/3bVqexh61z8IT0DBW9PaPzPoFQefLN4/r8B1JvHC4D9EjWDJkm/iP9pZS2w0HOQ/cCY2D9bI5T8F8yCyd3XnP5q/C1UZIuk/MIz297rO6j/GWOGaXHvsP1slzD3+J+4/8PG24J/U7z9D39DBoMDwP45FRpPxlvE/2Ku7ZEJt8j8jEjE2k0PzP254pgfkGfQ/ud4b2TTw9D8ERZGqhcb1P06rBnzWnPY/mRF8TSdz9z/kd/EeeEn4Py7eZvDIH/k/eUTcwRn2+T/EqlGTasz6Pw8Rx2S7ovs/Wnc8Ngx5/D+k3bEHXU/9P+9DJ9mtJf4/Oqqcqv77/j+EEBJ8T9L/P2i7wyZQVABAjW5+j3i/AECyITn4oCoBQNjU82DJlQFA/YeuyfEAAkAiO2kyGmwCQEjuI5tC1wJAbaHeA2tCA0CTVJlsk60DQLgHVNW7GARA3boOPuSDBEADbsmmDO8EQA==\",\"dtype\":\"float64\",\"shape\":[50]},\"top\":{\"__ndarray__\":\"/k1bCmK3/z+ADTomT3wAQJHi04HBpP8/bomROa5c/j9+hp9Horf9P26ZDBraHP0//uony5NE/z+AYOawWhf5P+665EXVS/g/f1jHJBgV+D/+kAtiWBX2P5C2jzsQGPw/AL1PqAmi+T+XfUs166/zPxDB+1XGdfQ//pALYlgV9j/OB1ApAHX5PwAAAAAAAPA/n0TkWYpW8j9/suONU0TxP27FUGCLqfA//qd3c53m6D8/zHgLCwvrPwAAAAAAAPA/ABdsEUXR8j//eZ9QE0TjP3+y441TRPE/AUOwV/Zd9j8AF2wRRdHyP/6QC2JYFfY//jbv+Bzm/D8BQ7BX9l3mPwAAAAAAAAAAAAAAAAAAAAAAAAAAAAAAAAAAAAAAAAAA/3mfUBNE0z8AAAAAAADw/wAAAAAAAPD/AAAAAAAA8P8AAAAAAAAAAAAAAAAAAPD/AAAAAAAAAAAAAAAAAADw/wAAAAAAAPD/AAAAAAAA8P8AAAAAAAAAAAAAAAAAAAAAAAAAAAAAAAD91U+WJ4nePw==\",\"dtype\":\"float64\",\"shape\":[50]}},\"selected\":{\"id\":\"42775\",\"type\":\"Selection\"},\"selection_policy\":{\"id\":\"42776\",\"type\":\"UnionRenderers\"}},\"id\":\"39739\",\"type\":\"ColumnDataSource\"},{\"attributes\":{\"bottom\":{\"value\":0},\"fill_alpha\":{\"value\":0.05},\"fill_color\":{\"value\":\"#CB4777\"},\"left\":{\"field\":\"left\"},\"line_alpha\":{\"value\":0.05},\"line_color\":{\"value\":\"#7E03A7\"},\"right\":{\"field\":\"right\"},\"top\":{\"field\":\"top\"}},\"id\":\"39740\",\"type\":\"Quad\"},{\"attributes\":{\"bottom\":{\"value\":0},\"fill_alpha\":{\"value\":0.1},\"fill_color\":{\"value\":\"#1f77b4\"},\"left\":{\"field\":\"left\"},\"line_alpha\":{\"value\":0.1},\"line_color\":{\"value\":\"#1f77b4\"},\"right\":{\"field\":\"right\"},\"top\":{\"field\":\"top\"}},\"id\":\"39741\",\"type\":\"Quad\"},{\"attributes\":{\"data_source\":{\"id\":\"39739\",\"type\":\"ColumnDataSource\"},\"glyph\":{\"id\":\"39740\",\"type\":\"Quad\"},\"hover_glyph\":null,\"muted_glyph\":null,\"nonselection_glyph\":{\"id\":\"39741\",\"type\":\"Quad\"},\"selection_glyph\":null,\"view\":{\"id\":\"39743\",\"type\":\"CDSView\"}},\"id\":\"39742\",\"type\":\"GlyphRenderer\"},{\"attributes\":{\"source\":{\"id\":\"39739\",\"type\":\"ColumnDataSource\"}},\"id\":\"39743\",\"type\":\"CDSView\"},{\"attributes\":{\"callback\":null,\"data\":{\"left\":{\"__ndarray__\":\"Oc6x+klTPz8rzMcBuGSwP0RzylwOVcA/cwCxuMB3yD/RxkuKOU3QP2gNP7iSXtQ/AFQy5utv2D+XmiUURYHcP5dwDCFPSeA/4xMGuPtR4j8ut/9OqFrkP3pa+eVUY+Y/xv3yfAFs6D8RoewTrnTqP11E5qpafew/qOffQQeG7j96xWzsWUfwPyCX6TewS/E/xmhmgwZQ8j9rOuPOXFTzPxEMYBqzWPQ/t93cZQld9T9dr1mxX2H2PwOB1vy1Zfc/qVJTSAxq+D9OJNCTYm75P/T1TN+4cvo/msfJKg93+z9AmUZ2ZXv8P+Zqw8G7f/0/izxADRKE/j8xDr1YaIj/P+vvHFJfRgBAvljbd4rIAECRwZmdtUoBQGQqWMPgzAFAN5MW6QtPAkAK/NQON9ECQNxkkzRiUwNAr81RWo3VA0CCNhCAuFcEQFWfzqXj2QRAKAiNyw5cBUD7cEvxOd4FQM7ZCRdlYAZAoULIPJDiBkB0q4Ziu2QHQEcURYjm5gdAGn0DrhFpCEDs5cHTPOsIQA==\",\"dtype\":\"float64\",\"shape\":[50]},\"right\":{\"__ndarray__\":\"K8zHAbhksD9Ec8pcDlXAP3MAsbjAd8g/0cZLijlN0D9oDT+4kl7UPwBUMubrb9g/l5olFEWB3D+XcAwhT0ngP+MTBrj7UeI/Lrf/Tqha5D96WvnlVGPmP8b98nwBbOg/EaHsE6506j9dROaqWn3sP6jn30EHhu4/esVs7FlH8D8gl+k3sEvxP8ZoZoMGUPI/azrjzlxU8z8RDGAas1j0P7fd3GUJXfU/Xa9ZsV9h9j8Dgdb8tWX3P6lSU0gMavg/TiTQk2Ju+T/09UzfuHL6P5rHySoPd/s/QJlGdmV7/D/masPBu3/9P4s8QA0ShP4/MQ69WGiI/z/r7xxSX0YAQL5Y23eKyABAkcGZnbVKAUBkKljD4MwBQDeTFukLTwJACvzUDjfRAkDcZJM0YlMDQK/NUVqN1QNAgjYQgLhXBEBVn86l49kEQCgIjcsOXAVA+3BL8TneBUDO2QkXZWAGQKFCyDyQ4gZAdKuGYrtkB0BHFEWI5uYHQBp9A64RaQhA7OXB0zzrCEC/ToD5Z20JQA==\",\"dtype\":\"float64\",\"shape\":[50]},\"top\":{\"__ndarray__\":\"keLTgcGk/z/8huGPLTwAQO7wQOtoVfw/kLaPOxAY/D8XXHMJ8ID4P26CoAiVS/o/f/WT5Umi9z9ugqAIlUv6P39YxyQYFfg/7vBA62hV/D/OB1ApAHX5Px8jDC6PJ/c//9fD9Kea+j+A3ifUBNH0PwAXbBFF0fI/gN4n1ATR9D8/zHgLCwvrPwFDsFf2XfY/AUOwV/Zd9j+fRORZilbyP/95n1ATRPM/bsVQYIup8D9PErxDttLxP/6nd3Od5ug/P8x4CwsL6z8BQ7BX9l3mP3+y441TRPE/P8x4CwsL6z+fRORZilbyPwAAAAAAAPA/AUOwV/Zd5j8AAAAAAAAAAP95n1ATRNM//3mfUBNE0z8AAAAAAADw/wAAAAAAAPD/AAAAAAAA8P8AAAAAAAAAAAAAAAAAAPD/AAAAAAAA8P8AAAAAAADw/wAAAAAAAAAAAAAAAAAAAAAAAAAAAADw/wAAAAAAAAAAAAAAAAAA8P8AAAAAAAAAAAAAAAAAAAAA/3mfUBNE4z8AAAAAAAAAAA==\",\"dtype\":\"float64\",\"shape\":[50]}},\"selected\":{\"id\":\"42777\",\"type\":\"Selection\"},\"selection_policy\":{\"id\":\"42778\",\"type\":\"UnionRenderers\"}},\"id\":\"39744\",\"type\":\"ColumnDataSource\"},{\"attributes\":{\"bottom\":{\"value\":0},\"fill_alpha\":{\"value\":0.05},\"fill_color\":{\"value\":\"#CB4777\"},\"left\":{\"field\":\"left\"},\"line_alpha\":{\"value\":0.05},\"line_color\":{\"value\":\"#7E03A7\"},\"right\":{\"field\":\"right\"},\"top\":{\"field\":\"top\"}},\"id\":\"39745\",\"type\":\"Quad\"},{\"attributes\":{\"bottom\":{\"value\":0},\"fill_alpha\":{\"value\":0.1},\"fill_color\":{\"value\":\"#1f77b4\"},\"left\":{\"field\":\"left\"},\"line_alpha\":{\"value\":0.1},\"line_color\":{\"value\":\"#1f77b4\"},\"right\":{\"field\":\"right\"},\"top\":{\"field\":\"top\"}},\"id\":\"39746\",\"type\":\"Quad\"},{\"attributes\":{\"data_source\":{\"id\":\"39744\",\"type\":\"ColumnDataSource\"},\"glyph\":{\"id\":\"39745\",\"type\":\"Quad\"},\"hover_glyph\":null,\"muted_glyph\":null,\"nonselection_glyph\":{\"id\":\"39746\",\"type\":\"Quad\"},\"selection_glyph\":null,\"view\":{\"id\":\"39748\",\"type\":\"CDSView\"}},\"id\":\"39747\",\"type\":\"GlyphRenderer\"},{\"attributes\":{\"source\":{\"id\":\"39744\",\"type\":\"ColumnDataSource\"}},\"id\":\"39748\",\"type\":\"CDSView\"},{\"attributes\":{\"callback\":null,\"data\":{\"left\":{\"__ndarray__\":\"TVmJSTuGUj8rZKqIZ6WwP3lRFxJbgMA/3HDZXwKuyD8fyM3W1G3QP9HXrn2ohNQ/guePJHyb2D8z93DLT7LcP3MDKbmRZOA/TIuZjPtv4j8lEwpgZXvkP/2aejPPhuY/1iLrBjmS6D+vqlvaop3qP4cyzK0Mqew/YLo8gXa07j8coVYq8F/wPwjlDhSlZfE/9SjH/Vlr8j/hbH/nDnHzP86wN9HDdvQ/uvTvunh89T+mOKikLYL2P5N8YI7ih/c/f8AYeJeN+D9rBNFhTJP5P1hIiUsBmfo/RIxBNbae+z8w0Pkea6T8Px0Usgggqv0/CVhq8tSv/j/2myLcibX/P/Fv7WKfXQBA55HJ13ngAEDds6VMVGMBQNTVgcEu5gFAyvddNglpAkDAGTqr4+sCQLY7FiC+bgNArF3ylJjxA0Cjf84Jc3QEQJmhqn5N9wRAj8OG8yd6BUCF5WJoAv0FQHsHP93cfwZAcSkbUrcCB0BoS/fGkYUHQF5t0ztsCAhAVI+vsEaLCEBKsYslIQ4JQA==\",\"dtype\":\"float64\",\"shape\":[50]},\"right\":{\"__ndarray__\":\"K2SqiGelsD95URcSW4DAP9xw2V8Crsg/H8jN1tRt0D/R1659qITUP4LnjyR8m9g/M/dwy0+y3D9zAym5kWTgP0yLmYz7b+I/JRMKYGV75D/9mnozz4bmP9Yi6wY5kug/r6pb2qKd6j+HMsytDKnsP2C6PIF2tO4/HKFWKvBf8D8I5Q4UpWXxP/Uox/1Za/I/4Wx/5w5x8z/OsDfRw3b0P7r077p4fPU/pjiopC2C9j+TfGCO4of3P3/AGHiXjfg/awTRYUyT+T9YSIlLAZn6P0SMQTW2nvs/MND5Hmuk/D8dFLIIIKr9PwlYavLUr/4/9psi3Im1/z/xb+1in10AQOeRydd54ABA3bOlTFRjAUDU1YHBLuYBQMr3XTYJaQJAwBk6q+PrAkC2OxYgvm4DQKxd8pSY8QNAo3/OCXN0BECZoap+TfcEQI/DhvMnegVAheViaAL9BUB7Bz/d3H8GQHEpG1K3AgdAaEv3xpGFB0BebdM7bAgIQFSPr7BGiwhASrGLJSEOCUBA02ea+5AJQA==\",\"dtype\":\"float64\",\"shape\":[50]},\"top\":{\"__ndarray__\":\"/Ibhjy08AEA6E6jbfOIAQIANOiZPfABA2OopRvue/j/wG18EtpD8P38MAPeOc/o/T88L7L90+z/qY2tx+2X3P1gMAnL2zfk/6mNrcftl9z9/+Zsgo8n1P37JT5+YFfQ/ABdsEUXR8j+fRORZilbyP/3VT5Ynie4//3mfUBNE4z/+Nu/4HObsP/6nd3Od5ug//dVPlieJ7j8BQ7BX9l3mP/3VT5Ynid4/AUOwV/Zd5j/91U+WJ4neP/95n1ATROM//3mfUBNE0z/91U+WJ4nePwAAAAAAAPD/AAAAAAAAAAAAAAAAAAAAAAAAAAAAAAAAAAAAAAAAAAAAAAAAAAAAAAAAAAAAAPD/AAAAAAAA8P8AAAAAAADw/wAAAAAAAPD/AAAAAAAA8P8AAAAAAADw/wAAAAAAAAAAAAAAAAAA8P//eZ9QE0TTPwAAAAAAAPD/AAAAAAAA8P8AAAAAAADw/wAAAAAAAPD/AAAAAAAA8P8AAAAAAADw/wAAAAAAAPD/AAAAAAAA8P8AAAAAAAAAAA==\",\"dtype\":\"float64\",\"shape\":[50]}},\"selected\":{\"id\":\"42779\",\"type\":\"Selection\"},\"selection_policy\":{\"id\":\"42780\",\"type\":\"UnionRenderers\"}},\"id\":\"39749\",\"type\":\"ColumnDataSource\"},{\"attributes\":{\"bottom\":{\"value\":0},\"fill_alpha\":{\"value\":0.05},\"fill_color\":{\"value\":\"#CB4777\"},\"left\":{\"field\":\"left\"},\"line_alpha\":{\"value\":0.05},\"line_color\":{\"value\":\"#7E03A7\"},\"right\":{\"field\":\"right\"},\"top\":{\"field\":\"top\"}},\"id\":\"39750\",\"type\":\"Quad\"},{\"attributes\":{\"bottom\":{\"value\":0},\"fill_alpha\":{\"value\":0.1},\"fill_color\":{\"value\":\"#1f77b4\"},\"left\":{\"field\":\"left\"},\"line_alpha\":{\"value\":0.1},\"line_color\":{\"value\":\"#1f77b4\"},\"right\":{\"field\":\"right\"},\"top\":{\"field\":\"top\"}},\"id\":\"39751\",\"type\":\"Quad\"},{\"attributes\":{\"data_source\":{\"id\":\"39749\",\"type\":\"ColumnDataSource\"},\"glyph\":{\"id\":\"39750\",\"type\":\"Quad\"},\"hover_glyph\":null,\"muted_glyph\":null,\"nonselection_glyph\":{\"id\":\"39751\",\"type\":\"Quad\"},\"selection_glyph\":null,\"view\":{\"id\":\"39753\",\"type\":\"CDSView\"}},\"id\":\"39752\",\"type\":\"GlyphRenderer\"},{\"attributes\":{\"source\":{\"id\":\"39749\",\"type\":\"ColumnDataSource\"}},\"id\":\"39753\",\"type\":\"CDSView\"},{\"attributes\":{\"callback\":null,\"data\":{\"left\":{\"__ndarray__\":\"ak5/EhN4LD+fYioX7RqsP/gioQ2xDLw/UYrWx/UFxT8lg9wIkwXMP/098SSYgtE/Zzp0xWYC1T/RNvdlNYLYPzszegYEAtw/pS/9ptKB3z8IFsCj0IDhPz2UAfS3QOM/chJDRJ8A5T+nkISUhsDmP9wOxuRtgOg/EY0HNVVA6j9GC0mFPADsP3uJitUjwO0/sAfMJQuA7z/ywgY7+Z/wPw2CJ+Psf/E/J0FIi+Bf8j9CAGkz1D/zP1y/idvHH/Q/d36qg7v/9D+RPcsrr9/1P6z869Oiv/Y/xrsMfJaf9z/hei0kin/4P/s5Tsx9X/k/FvludHE/+j8wuI8cZR/7P0t3sMRY//s/ZjbRbEzf/D+A9fEUQL/9P5u0Er0zn/4/tXMzZSd//z9oGaqGjS8AQPV4ulqHnwBAgtjKLoEPAUAQONsCe38BQJ2X69Z07wFAKvf7qm5fAkC3Vgx/aM8CQEW2HFNiPwNA0hUtJ1yvA0BfdT37VR8EQOzUTc9PjwRAejReo0n/BEAHlG53Q28FQA==\",\"dtype\":\"float64\",\"shape\":[50]},\"right\":{\"__ndarray__\":\"n2IqF+0arD/4IqENsQy8P1GK1sf1BcU/JYPcCJMFzD/9PfEkmILRP2c6dMVmAtU/0Tb3ZTWC2D87M3oGBALcP6Uv/abSgd8/CBbAo9CA4T89lAH0t0DjP3ISQ0SfAOU/p5CElIbA5j/cDsbkbYDoPxGNBzVVQOo/RgtJhTwA7D97iYrVI8DtP7AHzCULgO8/8sIGO/mf8D8Ngifj7H/xPydBSIvgX/I/QgBpM9Q/8z9cv4nbxx/0P3d+qoO7//Q/kT3LK6/f9T+s/OvTor/2P8a7DHyWn/c/4XotJIp/+D/7OU7MfV/5Pxb5bnRxP/o/MLiPHGUf+z9Ld7DEWP/7P2Y20WxM3/w/gPXxFEC//T+btBK9M5/+P7VzM2Unf/8/aBmqho0vAED1eLpah58AQILYyi6BDwFAEDjbAnt/AUCdl+vWdO8BQCr3+6puXwJAt1YMf2jPAkBFthxTYj8DQNIVLSdcrwNAX3U9+1UfBEDs1E3PT48EQHo0XqNJ/wRAB5Rud0NvBUCU835LPd8FQA==\",\"dtype\":\"float64\",\"shape\":[50]},\"top\":{\"__ndarray__\":\"v86FrHNEAED8huGPLTwAQHUP5KW08/4/bomROa5c/j+euviu6cD6Px5R5FAZyvw/5mdYFJ7c9z8XXHMJ8ID4P4Ah2Cv7Lvs/WAwCcvbN+T+QnyMqy0b5P8/w4xe7o/Y/6mNrcftl9z/P8OMXu6P2P3/1k+VJovc/fslPn5gV9D9/suONU0TxP37JT5+YFfQ//3mfUBNE8z+A3ifUBNH0P/95n1ATROM//qd3c53m6D8BQ7BX9l3mP/95n1ATRNM//3mfUBNE0z//eZ9QE0TjP/95n1ATRNM//3mfUBNE0z8BQ7BX9l3mPwAAAAAAAPD/AAAAAAAA8P//eZ9QE0TTPwAAAAAAAAAAAAAAAAAA8P/91U+WJ4nePwAAAAAAAPD/AAAAAAAAAAABQ7BX9l3mPwAAAAAAAPD//3mfUBNE4z8AAAAAAADw/wAAAAAAAPD/AAAAAAAAAAAAAAAAAADw/wAAAAAAAPD/AAAAAAAAAAAAAAAAAADw/wAAAAAAAPD/AAAAAAAA8P8AAAAAAAAAAA==\",\"dtype\":\"float64\",\"shape\":[50]}},\"selected\":{\"id\":\"42781\",\"type\":\"Selection\"},\"selection_policy\":{\"id\":\"42782\",\"type\":\"UnionRenderers\"}},\"id\":\"39754\",\"type\":\"ColumnDataSource\"},{\"attributes\":{\"bottom\":{\"value\":0},\"fill_alpha\":{\"value\":0.05},\"fill_color\":{\"value\":\"#CB4777\"},\"left\":{\"field\":\"left\"},\"line_alpha\":{\"value\":0.05},\"line_color\":{\"value\":\"#7E03A7\"},\"right\":{\"field\":\"right\"},\"top\":{\"field\":\"top\"}},\"id\":\"39755\",\"type\":\"Quad\"},{\"attributes\":{\"bottom\":{\"value\":0},\"fill_alpha\":{\"value\":0.1},\"fill_color\":{\"value\":\"#1f77b4\"},\"left\":{\"field\":\"left\"},\"line_alpha\":{\"value\":0.1},\"line_color\":{\"value\":\"#1f77b4\"},\"right\":{\"field\":\"right\"},\"top\":{\"field\":\"top\"}},\"id\":\"39756\",\"type\":\"Quad\"},{\"attributes\":{\"data_source\":{\"id\":\"39789\",\"type\":\"ColumnDataSource\"},\"glyph\":{\"id\":\"39790\",\"type\":\"Quad\"},\"hover_glyph\":null,\"muted_glyph\":null,\"nonselection_glyph\":{\"id\":\"39791\",\"type\":\"Quad\"},\"selection_glyph\":null,\"view\":{\"id\":\"39793\",\"type\":\"CDSView\"}},\"id\":\"39792\",\"type\":\"GlyphRenderer\"},{\"attributes\":{},\"id\":\"42867\",\"type\":\"Selection\"},{\"attributes\":{\"data_source\":{\"id\":\"39754\",\"type\":\"ColumnDataSource\"},\"glyph\":{\"id\":\"39755\",\"type\":\"Quad\"},\"hover_glyph\":null,\"muted_glyph\":null,\"nonselection_glyph\":{\"id\":\"39756\",\"type\":\"Quad\"},\"selection_glyph\":null,\"view\":{\"id\":\"39758\",\"type\":\"CDSView\"}},\"id\":\"39757\",\"type\":\"GlyphRenderer\"},{\"attributes\":{\"callback\":null,\"data\":{\"left\":{\"__ndarray__\":\"TTCeF92Ycj/E9McdKUKxP0EDCzVircA/IAwy26+5yD+AiqzA/mLQP/AOwJMladQ/X5PTZkxv2D/PF+c5c3XcPyBOfQbNPeA/WBAHcOBA4j+Q0pDZ80PkP8iUGkMHR+Y//1akrBpK6D83GS4WLk3qP2/bt39BUOw/p51B6VRT7j/vr2UpNCvwPwuRKt69LPE/J3Lvkkcu8j9DU7RH0S/zP180efxaMfQ/exU+seQy9T+X9gJmbjT2P7PXxxr4Nfc/zriMz4E3+D/qmVGECzn5PwZ7FjmVOvo/Ilzb7R48+z8+PaCiqD38P1oeZVcyP/0/dv8pDLxA/j+S4O7ARUL/P9fg2brnIQBAZVE8layiAEDzwZ5vcSMBQIEyAUo2pAFAD6NjJPskAkCdE8b+v6UCQCuEKNmEJgNAufSKs0mnA0BHZe2NDigEQNXVT2jTqARAY0ayQpgpBUDxthQdXaoFQH8nd/chKwZADZjZ0earBkCbCDysqywHQCl5noZwrQdAtukAYTUuCEBEWmM7+q4IQA==\",\"dtype\":\"float64\",\"shape\":[50]},\"right\":{\"__ndarray__\":\"xPTHHSlCsT9BAws1Yq3APyAMMtuvucg/gIqswP5i0D/wDsCTJWnUP1+T02ZMb9g/zxfnOXN13D8gTn0GzT3gP1gQB3DgQOI/kNKQ2fND5D/IlBpDB0fmP/9WpKwaSug/NxkuFi5N6j9v27d/QVDsP6edQelUU+4/769lKTQr8D8LkSrevSzxPydy75JHLvI/Q1O0R9Ev8z9fNHn8WjH0P3sVPrHkMvU/l/YCZm409j+z18ca+DX3P864jM+BN/g/6plRhAs5+T8GexY5lTr6PyJc2+0ePPs/Pj2goqg9/D9aHmVXMj/9P3b/KQy8QP4/kuDuwEVC/z/X4Nm65yEAQGVRPJWsogBA88Geb3EjAUCBMgFKNqQBQA+jYyT7JAJAnRPG/r+lAkArhCjZhCYDQLn0irNJpwNAR2XtjQ4oBEDV1U9o06gEQGNGskKYKQVA8bYUHV2qBUB/J3f3ISsGQA2Y2dHmqwZAmwg8rKssB0ApeZ6GcK0HQLbpAGE1LghARFpjO/quCEDSysUVvy8JQA==\",\"dtype\":\"float64\",\"shape\":[50]},\"top\":{\"__ndarray__\":\"gN4n1ATR9D9PErxDttLxPxZz3xo1Uvs/z/DjF7uj9j9pWf9WRQj/PyBmvIWFhf0/P8x4CwsL6z/91U+WJ4nuP/95n1ATRPM/boKgCJVL+j9Pzwvsv3T7P/6nd3Od5ug//dVPlieJ3j/91U+WJ4nuP5d9SzXrr/M//qd3c53m6D9PErxDttLxP59E5FmKVvI//3mfUBNE4z/+p3dzneboP3+y441TRPE//dVPlieJ7j8BQ7BX9l3mPwFDsFf2XeY/AAAAAAAAAACfRORZilbyP/6nd3Od5vg//qd3c53m6D/+p3dzneboPwFDsFf2XeY/AAAAAAAA8P//eZ9QE0TTP/3VT5Ynid4/AAAAAAAAAAAAAAAAAADw/wAAAAAAAPD/AAAAAAAA8P8AAAAAAADw/wAAAAAAAPD/AAAAAAAA8P8AAAAAAADw/wAAAAAAAPD/AAAAAAAA8P8AAAAAAADw/wAAAAAAAPD/AAAAAAAA8P8AAAAAAAAAAAAAAAAAAPD//dVPlieJ3j//eZ9QE0TTPw==\",\"dtype\":\"float64\",\"shape\":[50]}},\"selected\":{\"id\":\"42811\",\"type\":\"Selection\"},\"selection_policy\":{\"id\":\"42812\",\"type\":\"UnionRenderers\"}},\"id\":\"39829\",\"type\":\"ColumnDataSource\"},{\"attributes\":{},\"id\":\"42868\",\"type\":\"UnionRenderers\"},{\"attributes\":{\"source\":{\"id\":\"39754\",\"type\":\"ColumnDataSource\"}},\"id\":\"39758\",\"type\":\"CDSView\"},{\"attributes\":{\"bottom\":{\"value\":0},\"fill_alpha\":{\"value\":0.05},\"fill_color\":{\"value\":\"#CB4777\"},\"left\":{\"field\":\"left\"},\"line_alpha\":{\"value\":0.05},\"line_color\":{\"value\":\"#7E03A7\"},\"right\":{\"field\":\"right\"},\"top\":{\"field\":\"top\"}},\"id\":\"39830\",\"type\":\"Quad\"},{\"attributes\":{},\"id\":\"42869\",\"type\":\"Selection\"},{\"attributes\":{\"callback\":null,\"data\":{\"left\":{\"__ndarray__\":\"YHLvnynuMz/BmjYbuhOsP06rlvHL/7s/ngTJat36xD+Vs8bc1PXLP0cxYidmeNE/wghh4OH11D894F+ZXXPYP7m3XlLZ8Ns/NY9dC1Vu3z9YMy5i6HXhPxWfrT6mNOM/0wotG2Tz5D+Rdqz3IbLmP07iK9TfcOg/DE6rsJ0v6j/KuSqNW+7rP4glqmkZre0/RpEpRtdr7z+CflSRSpXwP2E0lH+pdPE/P+rTbQhU8j8eoBNcZzPzP/1VU0rGEvQ/3AuTOCXy9D+7wdImhNH1P5p3EhXjsPY/eS1SA0KQ9z9X45HxoG/4PzaZ0d//Tvk/FU8Rzl4u+j/0BFG8vQ37P9O6kKoc7fs/snDQmHvM/D+RJhCH2qv9P3DcT3U5i/4/T5KPY5hq/z8XpOeo+yQAQAd/ByCrlABA9lknl1oEAUDmNEcOCnQBQNUPZ4W54wFAxOqG/GhTAkC0xaZzGMMCQKOgxurHMgNAk3vmYXeiA0CCVgbZJhIEQHIxJlDWgQRAYQxGx4XxBEBQ52U+NWEFQA==\",\"dtype\":\"float64\",\"shape\":[50]},\"right\":{\"__ndarray__\":\"wZo2G7oTrD9Oq5bxy/+7P54EyWrd+sQ/lbPG3NT1yz9HMWInZnjRP8IIYeDh9dQ/PeBfmV1z2D+5t15S2fDbPzWPXQtVbt8/WDMuYuh14T8Vn60+pjTjP9MKLRtk8+Q/kXas9yGy5j9O4ivU33DoPwxOq7CdL+o/yrkqjVvu6z+IJappGa3tP0aRKUbXa+8/gn5UkUqV8D9hNJR/qXTxPz/q020IVPI/HqATXGcz8z/9VVNKxhL0P9wLkzgl8vQ/u8HSJoTR9T+adxIV47D2P3ktUgNCkPc/V+OR8aBv+D82mdHf/075PxVPEc5eLvo/9ARRvL0N+z/TupCqHO37P7Jw0Jh7zPw/kSYQh9qr/T9w3E91OYv+P0+Sj2OYav8/F6TnqPskAEAHfwcgq5QAQPZZJ5daBAFA5jRHDgp0AUDVD2eFueMBQMTqhvxoUwJAtMWmcxjDAkCjoMbqxzIDQJN75mF3ogNAglYG2SYSBEByMSZQ1oEEQGEMRseF8QRAUOdlPjVhBUBAwoW15NAFQA==\",\"dtype\":\"float64\",\"shape\":[50]},\"top\":{\"__ndarray__\":\"8zMsCk/uA0C4nhuY2N8DQJNywTPcAAJArLx9B8jCAUBQIvIsRSsBQInlOneLbgFAVovfyLkPAkB1kN2MAoQAQL+qoN8P3P8/ZLShoSvQ/T+/qqDfD9z/P7diKLDFVABA8BtfBLaQ/D+Qto87EBj8P4Ah2Cv7Lvs/gCHYK/su+z9/WMckGBX4P/6+44Tit/s/7+YojIbY+z9umQwa2hz9P37gu7Dd5vY/6mNrcftl9z/uuuRF1Uv4P/6+44Tit/s/7+YojIbY+z+A3ifUBNH0P/427/gc5uw/n0TkWYpW8j/+Nu/4HObsP59E5FmKVvI/ABdsEUXR8j/qY2tx+2X3P/95n1ATRPM/TxK8Q7bS8T8AAAAAAADwPwFDsFf2XeY//qd3c53m6D//eZ9QE0TTPwAAAAAAAAAAAUOwV/Zd5j8AAAAAAAAAAP95n1ATRNM/AAAAAAAA8P8AAAAAAAAAAAAAAAAAAAAA/dVPlieJ3j8AAAAAAADw/wAAAAAAAPD/AAAAAAAAAAD/eZ9QE0TTPw==\",\"dtype\":\"float64\",\"shape\":[50]}},\"selected\":{\"id\":\"42783\",\"type\":\"Selection\"},\"selection_policy\":{\"id\":\"42784\",\"type\":\"UnionRenderers\"}},\"id\":\"39759\",\"type\":\"ColumnDataSource\"},{\"attributes\":{\"bottom\":{\"value\":0},\"fill_alpha\":{\"value\":0.1},\"fill_color\":{\"value\":\"#1f77b4\"},\"left\":{\"field\":\"left\"},\"line_alpha\":{\"value\":0.1},\"line_color\":{\"value\":\"#1f77b4\"},\"right\":{\"field\":\"right\"},\"top\":{\"field\":\"top\"}},\"id\":\"39831\",\"type\":\"Quad\"},{\"attributes\":{},\"id\":\"42870\",\"type\":\"UnionRenderers\"},{\"attributes\":{\"data_source\":{\"id\":\"39829\",\"type\":\"ColumnDataSource\"},\"glyph\":{\"id\":\"39830\",\"type\":\"Quad\"},\"hover_glyph\":null,\"muted_glyph\":null,\"nonselection_glyph\":{\"id\":\"39831\",\"type\":\"Quad\"},\"selection_glyph\":null,\"view\":{\"id\":\"39833\",\"type\":\"CDSView\"}},\"id\":\"39832\",\"type\":\"GlyphRenderer\"},{\"attributes\":{\"bottom\":{\"value\":0},\"fill_alpha\":{\"value\":0.05},\"fill_color\":{\"value\":\"#CB4777\"},\"left\":{\"field\":\"left\"},\"line_alpha\":{\"value\":0.05},\"line_color\":{\"value\":\"#7E03A7\"},\"right\":{\"field\":\"right\"},\"top\":{\"field\":\"top\"}},\"id\":\"39760\",\"type\":\"Quad\"},{\"attributes\":{},\"id\":\"42871\",\"type\":\"Selection\"},{\"attributes\":{\"bottom\":{\"value\":0},\"fill_alpha\":{\"value\":0.1},\"fill_color\":{\"value\":\"#1f77b4\"},\"left\":{\"field\":\"left\"},\"line_alpha\":{\"value\":0.1},\"line_color\":{\"value\":\"#1f77b4\"},\"right\":{\"field\":\"right\"},\"top\":{\"field\":\"top\"}},\"id\":\"39761\",\"type\":\"Quad\"},{\"attributes\":{\"source\":{\"id\":\"39829\",\"type\":\"ColumnDataSource\"}},\"id\":\"39833\",\"type\":\"CDSView\"},{\"attributes\":{},\"id\":\"42872\",\"type\":\"UnionRenderers\"},{\"attributes\":{\"data_source\":{\"id\":\"39759\",\"type\":\"ColumnDataSource\"},\"glyph\":{\"id\":\"39760\",\"type\":\"Quad\"},\"hover_glyph\":null,\"muted_glyph\":null,\"nonselection_glyph\":{\"id\":\"39761\",\"type\":\"Quad\"},\"selection_glyph\":null,\"view\":{\"id\":\"39763\",\"type\":\"CDSView\"}},\"id\":\"39762\",\"type\":\"GlyphRenderer\"},{\"attributes\":{\"callback\":null,\"data\":{\"left\":{\"__ndarray__\":\"zYQ+gwEZUT9zccrlQ0ukP2B3vd/fBrQ/B7aVzB3ovT9X+rbcreTDP6oZI9NM1cg//jiPyevFzT8orP1fRVvRP9K7M9uU09M/fMtpVuRL1j8l25/RM8TYP8/q1UyDPNs/efoLyNK03T8RBaEhkRbgP+UMPN+4UuE/uhTXnOCO4j+PHHJaCMvjP2QkDRgwB+U/OSyo1VdD5j8NNEOTf3/nP+I73lCnu+g/t0N5Ds/36T+MSxTM9jPrP2FTr4kecOw/NltKR0as7T8KY+UEbujuP3A1QOFKEvA/WrkNwF6w8D9EPdueck7xPy/BqH2G7PE/GUV2XJqK8j8EyUM7rijzP+5MERrCxvM/2NDe+NVk9D/DVKzX6QL1P63Yebb9oPU/mFxHlRE/9j+C4BR0Jd32P2xk4lI5e/c/V+ivMU0Z+D9BbH0QYbf4PyzwSu90Vfk/FnQYzojz+T8A+OWsnJH6P+t7s4uwL/s/1f+AasTN+z/Ag05J2Gv8P6oHHCjsCf0/lYvpBgCo/T9/D7flE0b+Pw==\",\"dtype\":\"float64\",\"shape\":[50]},\"right\":{\"__ndarray__\":\"c3HK5UNLpD9gd73f3wa0Pwe2lcwd6L0/V/q23K3kwz+qGSPTTNXIP/44j8nrxc0/KKz9X0Vb0T/SuzPblNPTP3zLaVbkS9Y/Jduf0TPE2D/P6tVMgzzbP3n6C8jStN0/EQWhIZEW4D/lDDzfuFLhP7oU15zgjuI/jxxyWgjL4z9kJA0YMAflPzksqNVXQ+Y/DTRDk39/5z/iO95Qp7voP7dDeQ7P9+k/jEsUzPYz6z9hU6+JHnDsPzZbSkdGrO0/CmPlBG7o7j9wNUDhShLwP1q5DcBesPA/RD3bnnJO8T8vwah9huzxPxlFdlyaivI/BMlDO64o8z/uTBEawsbzP9jQ3vjVZPQ/w1Ss1+kC9T+t2Hm2/aD1P5hcR5URP/Y/guAUdCXd9j9sZOJSOXv3P1forzFNGfg/QWx9EGG3+D8s8ErvdFX5PxZ0GM6I8/k/APjlrJyR+j/re7OLsC/7P9X/gGrEzfs/wINOSdhr/D+qBxwo7An9P5WL6QYAqP0/fw+35RNG/j9qk4TEJ+T+Pw==\",\"dtype\":\"float64\",\"shape\":[50]},\"top\":{\"__ndarray__\":\"fm8zNl3m+j/OB1ApAHX5PxZz3xo1Uvs//r7jhOK3+z9/DAD3jnP6P/YwvNGvIvo/HyMMLo8n9z/+p3dzneb4PwFDsFf2XfY/F1xzCfCA+D/uo3g0kHr1P/95n1ATRPM/5mdYFJ7c9z+fW1Brzyf1P59E5FmKVvI//r7jhOK3+z//18P0p5r6P5CfIyrLRvk/z/DjF7uj9j9PErxDttLxP37JT5+YFfQ/AAAAAAAA8D+XfUs166/zP27FUGCLqfA//qd3c53m6D/91U+WJ4neP/3VT5Ynie4//dVPlieJ7j//eZ9QE0TjPwAXbBFF0fI/fslPn5gV9D8fIwwujyf3PxDB+1XGdfQ//jbv+Bzm7D9PErxDttLxPwAAAAAAAAAA/3mfUBNE4z8AAAAAAAAAAAAAAAAAAAAAAAAAAAAA8P8AAAAAAAAAAAAAAAAAAAAAAAAAAAAA8P//eZ9QE0TTPwAAAAAAAPD/AAAAAAAAAAAAAAAAAADw/wAAAAAAAPD//3mfUBNE0z8AAAAAAAAAAA==\",\"dtype\":\"float64\",\"shape\":[50]}},\"selected\":{\"id\":\"42813\",\"type\":\"Selection\"},\"selection_policy\":{\"id\":\"42814\",\"type\":\"UnionRenderers\"}},\"id\":\"39834\",\"type\":\"ColumnDataSource\"},{\"attributes\":{},\"id\":\"42873\",\"type\":\"Selection\"},{\"attributes\":{\"source\":{\"id\":\"39759\",\"type\":\"ColumnDataSource\"}},\"id\":\"39763\",\"type\":\"CDSView\"},{\"attributes\":{\"bottom\":{\"value\":0},\"fill_alpha\":{\"value\":0.05},\"fill_color\":{\"value\":\"#CB4777\"},\"left\":{\"field\":\"left\"},\"line_alpha\":{\"value\":0.05},\"line_color\":{\"value\":\"#7E03A7\"},\"right\":{\"field\":\"right\"},\"top\":{\"field\":\"top\"}},\"id\":\"39835\",\"type\":\"Quad\"},{\"attributes\":{},\"id\":\"42874\",\"type\":\"UnionRenderers\"},{\"attributes\":{\"callback\":null,\"data\":{\"left\":{\"__ndarray__\":\"85buF0vFBj/y2O/gCQS2PwhaPoydAsY/zGMCFJuB0D+UmuVh5wHWP1zRyK8zgts/EQTW/j+B4D91n8clZkHjP9k6uUyMAeY/Pdaqc7LB6D+hcZya2IHrPwUNjsH+Qe4/NNQ/dBKB8D/mobiHJeHxP5hvMZs4QfM/Sj2qrkuh9D/8CiPCXgH2P67Ym9VxYfc/YKYU6YTB+D8SdI38lyH6P8RBBhCrgfs/dg9/I77h/D8o3fc20UH+P9qqcErkof8/Rrz0rvuAAEAfI7E4BTEBQPiJbcIO4QFA0fApTBiRAkCqV+bVIUEDQIO+ol8r8QNAXCVf6TShBEA1jBtzPlEFQA7z1/xHAQZA51mUhlGxBkDAwFAQW2EHQJknDZpkEQhAco7JI27BCEBL9YWtd3EJQCRcQjeBIQpA/cL+wIrRCkDWKbtKlIELQK+Qd9SdMQxAiPczXqfhDEBhXvDnsJENQDrFrHG6QQ5AEyxp+8PxDkDskiWFzaEPQOL8cIfrKBBATjBPTPCAEEC7Yy0R9dgQQA==\",\"dtype\":\"float64\",\"shape\":[50]},\"right\":{\"__ndarray__\":\"8tjv4AkEtj8IWj6MnQLGP8xjAhSbgdA/lJrlYecB1j9c0civM4LbPxEE1v4/geA/dZ/HJWZB4z/ZOrlMjAHmPz3WqnOyweg/oXGcmtiB6z8FDY7B/kHuPzTUP3QSgfA/5qG4hyXh8T+YbzGbOEHzP0o9qq5LofQ//Aojwl4B9j+u2JvVcWH3P2CmFOmEwfg/EnSN/Jch+j/EQQYQq4H7P3YPfyO+4fw/KN33NtFB/j/aqnBK5KH/P0a89K77gABAHyOxOAUxAUD4iW3CDuEBQNHwKUwYkQJAqlfm1SFBA0CDvqJfK/EDQFwlX+k0oQRANYwbcz5RBUAO89f8RwEGQOdZlIZRsQZAwMBQEFthB0CZJw2aZBEIQHKOySNuwQhAS/WFrXdxCUAkXEI3gSEKQP3C/sCK0QpA1im7SpSBC0CvkHfUnTEMQIj3M16n4QxAYV7w57CRDUA6xaxxukEOQBMsafvD8Q5A7JIlhc2hD0Di/HCH6ygQQE4wT0zwgBBAu2MtEfXYEEAnlwvW+TARQA==\",\"dtype\":\"float64\",\"shape\":[50]},\"top\":{\"__ndarray__\":\"Dx9AvRYQBEA0i6d/J1UEQEvKWyOYQANAD25obfL3AkDCYxZNWPACQI/74/NuzQFA7ADLKyC4AECADTomT3wAQCBmvIWFhf0/GJ8jYebe/j9/m3d8DnP+P+665EXVS/g/7+YojIbY+z+euviu6cD6P2pCk0UAN/w//u4vBu1r/T8Wc98aNVL7Px8jDC6PJ/c/7qN4NJB69T+A3ifUBNH0P37JT5+YFfQ//qd3c53m6D8BQ7BX9l3mP/95n1ATROM//dVPlieJ3j8AAAAAAADw//95n1ATRNM/AAAAAAAA8P//eZ9QE0TTPwAAAAAAAPD//3mfUBNE0z8AAAAAAADw/wAAAAAAAPD/AAAAAAAA8P8AAAAAAADw/wAAAAAAAPD/AAAAAAAA8P8AAAAAAADw/wAAAAAAAPD/AAAAAAAA8P8AAAAAAADw/wAAAAAAAPD/AAAAAAAA8P8AAAAAAADw/wAAAAAAAAAAAAAAAAAA8P8AAAAAAADw/wAAAAAAAPD/AAAAAAAA8P8AAAAAAAAAAA==\",\"dtype\":\"float64\",\"shape\":[50]}},\"selected\":{\"id\":\"42785\",\"type\":\"Selection\"},\"selection_policy\":{\"id\":\"42786\",\"type\":\"UnionRenderers\"}},\"id\":\"39764\",\"type\":\"ColumnDataSource\"},{\"attributes\":{\"bottom\":{\"value\":0},\"fill_alpha\":{\"value\":0.1},\"fill_color\":{\"value\":\"#1f77b4\"},\"left\":{\"field\":\"left\"},\"line_alpha\":{\"value\":0.1},\"line_color\":{\"value\":\"#1f77b4\"},\"right\":{\"field\":\"right\"},\"top\":{\"field\":\"top\"}},\"id\":\"39836\",\"type\":\"Quad\"},{\"attributes\":{},\"id\":\"42875\",\"type\":\"Selection\"},{\"attributes\":{\"data_source\":{\"id\":\"39834\",\"type\":\"ColumnDataSource\"},\"glyph\":{\"id\":\"39835\",\"type\":\"Quad\"},\"hover_glyph\":null,\"muted_glyph\":null,\"nonselection_glyph\":{\"id\":\"39836\",\"type\":\"Quad\"},\"selection_glyph\":null,\"view\":{\"id\":\"39838\",\"type\":\"CDSView\"}},\"id\":\"39837\",\"type\":\"GlyphRenderer\"},{\"attributes\":{\"bottom\":{\"value\":0},\"fill_alpha\":{\"value\":0.05},\"fill_color\":{\"value\":\"#CB4777\"},\"left\":{\"field\":\"left\"},\"line_alpha\":{\"value\":0.05},\"line_color\":{\"value\":\"#7E03A7\"},\"right\":{\"field\":\"right\"},\"top\":{\"field\":\"top\"}},\"id\":\"39765\",\"type\":\"Quad\"},{\"attributes\":{},\"id\":\"42876\",\"type\":\"UnionRenderers\"},{\"attributes\":{\"bottom\":{\"value\":0},\"fill_alpha\":{\"value\":0.1},\"fill_color\":{\"value\":\"#1f77b4\"},\"left\":{\"field\":\"left\"},\"line_alpha\":{\"value\":0.1},\"line_color\":{\"value\":\"#1f77b4\"},\"right\":{\"field\":\"right\"},\"top\":{\"field\":\"top\"}},\"id\":\"39766\",\"type\":\"Quad\"},{\"attributes\":{\"source\":{\"id\":\"39834\",\"type\":\"ColumnDataSource\"}},\"id\":\"39838\",\"type\":\"CDSView\"},{\"attributes\":{},\"id\":\"42877\",\"type\":\"Selection\"},{\"attributes\":{\"data_source\":{\"id\":\"39764\",\"type\":\"ColumnDataSource\"},\"glyph\":{\"id\":\"39765\",\"type\":\"Quad\"},\"hover_glyph\":null,\"muted_glyph\":null,\"nonselection_glyph\":{\"id\":\"39766\",\"type\":\"Quad\"},\"selection_glyph\":null,\"view\":{\"id\":\"39768\",\"type\":\"CDSView\"}},\"id\":\"39767\",\"type\":\"GlyphRenderer\"},{\"attributes\":{\"callback\":null,\"data\":{\"left\":{\"__ndarray__\":\"85buF0vFBj8cPdKzC1qyPzK+IF+fWMI/111Y5DiEyz++/sc06VfSP5DOY/e17dY/Y57/uYKD2z8at02+pwzgPwOfmx+OV+I/7IbpgHSi5D/VbjfiWu3mP75WhUNBOOk/qD7TpCeD6z+RJiEGDs7tPz2HtzN6DPA/MXteZO0x8T8mbwWVYFfyPxtjrMXTfPM/D1dT9kai9D8ES/omusf1P/g+oVct7fY/7TJIiKAS+D/hJu+4Ezj5P9YalumGXfo/yw49GvqC+z+/AuRKbaj8P7T2invgzf0/qOoxrFPz/j9Pb2xuYwwAQEnpvwYdnwBAQ2MTn9YxAUA+3WY3kMQBQDhXus9JVwJAMtENaAPqAkAtS2EAvXwDQCfFtJh2DwRAIT8IMTCiBEAbuVvJ6TQFQBYzr2GjxwVAEK0C+lxaBkAKJ1aSFu0GQAWhqSrQfwdA/xr9wokSCED5lFBbQ6UIQPMOpPP8NwlA7oj3i7bKCUDoAkskcF0KQOJ8nrwp8ApA3fbxVOOCC0DXcEXtnBUMQA==\",\"dtype\":\"float64\",\"shape\":[50]},\"right\":{\"__ndarray__\":\"HD3Sswtasj8yviBfn1jCP9ddWOQ4hMs/vv7HNOlX0j+QzmP3te3WP2Oe/7mCg9s/GrdNvqcM4D8Dn5sfjlfiP+yG6YB0ouQ/1W434lrt5j++VoVDQTjpP6g+06Qng+s/kSYhBg7O7T89h7czegzwPzF7XmTtMfE/Jm8FlWBX8j8bY6zF03zzPw9XU/ZGovQ/BEv6JrrH9T/4PqFXLe32P+0ySIigEvg/4SbvuBM4+T/WGpbphl36P8sOPRr6gvs/vwLkSm2o/D+09op74M39P6jqMaxT8/4/T29sbmMMAEBJ6b8GHZ8AQENjE5/WMQFAPt1mN5DEAUA4V7rPSVcCQDLRDWgD6gJALUthAL18A0AnxbSYdg8EQCE/CDEwogRAG7lbyek0BUAWM69ho8cFQBCtAvpcWgZACidWkhbtBkAFoakq0H8HQP8a/cKJEghA+ZRQW0OlCEDzDqTz/DcJQO6I94u2yglA6AJLJHBdCkDifJ68KfAKQN328VTjggtA13BF7ZwVDEDR6piFVqgMQA==\",\"dtype\":\"float64\",\"shape\":[50]},\"top\":{\"__ndarray__\":\"P9nxximiAED91U+WJ4n+P/7qJ8uTRP8/ZV3s+ed+/z9uiZE5rlz+P0/PC+y/dPs/ZkaA6KKt/D/mZ1gUntz3P+pja3H7Zfc/9jC80a8i+j9Pzwvsv3T7P4Bg5rBaF/k/F1xzCfCA+D8AvU+oCaL5P3+y441TRPE/bsVQYIup8D9+yU+fmBX0P3/5myCjyfU/TxK8Q7bS8T9/suONU0TxP59E5FmKVvI//qd3c53m6D9uxVBgi6nwPwAAAAAAAAAAAAAAAAAAAAD91U+WJ4neP/95n1ATROM/AAAAAAAAAAAAAAAAAAAAAAAAAAAAAPD/AAAAAAAA8P8AAAAAAAAAAP3VT5Ynid4/AAAAAAAA8P8AAAAAAADw/wAAAAAAAPD/AAAAAAAAAAAAAAAAAADw/wAAAAAAAAAAAAAAAAAA8P8AAAAAAAAAAAAAAAAAAPD/AAAAAAAA8P8AAAAAAADw/wAAAAAAAPD/AAAAAAAA8P8AAAAAAADw/wAAAAAAAPD/AAAAAAAA8P//eZ9QE0TTPw==\",\"dtype\":\"float64\",\"shape\":[50]}},\"selected\":{\"id\":\"42815\",\"type\":\"Selection\"},\"selection_policy\":{\"id\":\"42816\",\"type\":\"UnionRenderers\"}},\"id\":\"39839\",\"type\":\"ColumnDataSource\"},{\"attributes\":{},\"id\":\"42878\",\"type\":\"UnionRenderers\"},{\"attributes\":{\"source\":{\"id\":\"39764\",\"type\":\"ColumnDataSource\"}},\"id\":\"39768\",\"type\":\"CDSView\"},{\"attributes\":{\"bottom\":{\"value\":0},\"fill_alpha\":{\"value\":0.05},\"fill_color\":{\"value\":\"#CB4777\"},\"left\":{\"field\":\"left\"},\"line_alpha\":{\"value\":0.05},\"line_color\":{\"value\":\"#7E03A7\"},\"right\":{\"field\":\"right\"},\"top\":{\"field\":\"top\"}},\"id\":\"39840\",\"type\":\"Quad\"},{\"attributes\":{},\"id\":\"42879\",\"type\":\"Selection\"},{\"attributes\":{\"callback\":null,\"data\":{\"left\":{\"__ndarray__\":\"85buF0vFBj/6ZABTwxSsPydnnanqEbw/6E3d1LkMxT896OtUfhDMP0lBfWohitE/dI6EqgMM1T+f24vq5Y3YP8kokyrID9w/83WaaqqR3z+O4VBVxonhPySIVHW3SuM/uS5YlagL5T9O1Vu1mczmP+R7X9WKjeg/eSJj9XtO6j8OyWYVbQ/sP6NvajVe0O0/OBZuVU+R7z9n3rg6IKnwP7GxusqYifE//IS8WhFq8j9HWL7qiUrzP5ErwHoCK/Q/3P7BCnsL9T8n0sOa8+v1P3GlxSpszPY/vHjHuuSs9z8HTMlKXY34P1Efy9rVbfk/nPLMak5O+j/mxc76xi77PzGZ0Io/D/w/fGzSGrjv/D/GP9SqMND9PxET1jqpsP4/W+bXyiGR/z/U3GwtzTgAQHnGbXUJqQBAHrBuvUUZAUDDmW8FgokBQGmDcE2++QFADm1xlfppAkCzVnLdNtoCQFlAcyVzSgNA/il0ba+6A0CjE3W16yoEQEn9df0nmwRA7uZ2RWQLBUCT0HeNoHsFQA==\",\"dtype\":\"float64\",\"shape\":[50]},\"right\":{\"__ndarray__\":\"+mQAU8MUrD8nZ52p6hG8P+hN3dS5DMU/PejrVH4QzD9JQX1qIYrRP3SOhKoDDNU/n9uL6uWN2D/JKJMqyA/cP/N1mmqqkd8/juFQVcaJ4T8kiFR1t0rjP7kuWJWoC+U/TtVbtZnM5j/ke1/Vio3oP3kiY/V7Tuo/DslmFW0P7D+jb2o1XtDtPzgWblVPke8/Z964OiCp8D+xsbrKmInxP/yEvFoRavI/R1i+6olK8z+RK8B6Aiv0P9z+wQp7C/U/J9LDmvPr9T9xpcUqbMz2P7x4x7rkrPc/B0zJSl2N+D9RH8va1W35P5zyzGpOTvo/5sXO+sYu+z8xmdCKPw/8P3xs0hq47/w/xj/UqjDQ/T8RE9Y6qbD+P1vm18ohkf8/1NxsLc04AEB5xm11CakAQB6wbr1FGQFAw5lvBYKJAUBpg3BNvvkBQA5tcZX6aQJAs1Zy3TbaAkBZQHMlc0oDQP4pdG2vugNAoxN1tesqBEBJ/XX9J5sEQO7mdkVkCwVAk9B3jaB7BUA5unjV3OsFQA==\",\"dtype\":\"float64\",\"shape\":[50]},\"top\":{\"__ndarray__\":\"1SlD1jORAUAP8C1rzGQAQH+268isa/8/EH5L/s8X/j8AAAAAAAAAQBB+S/7PF/4/gA06Jk98AECOKw3mEC/+P/6+44Tit/s/kJ8jKstG+T//18P0p5r6Py5lWjaaN/0//pALYlgV9j+A3ifUBNH0P37gu7Dd5vY/gN4n1ATR9D+XfUs166/zP59bUGvPJ/U//pALYlgV9j+XfUs166/zP/3VT5Ynie4/EMH7VcZ19D8QwftVxnX0P59E5FmKVvI/EMH7VcZ19D/91U+WJ4nuPwAAAAAAAPA//dVPlieJ7j/91U+WJ4neP/95n1ATROM//dVPlieJ3j8AAAAAAAAAAP6nd3Od5ug/AAAAAAAA8P8AAAAAAADw/wAAAAAAAPA//qd3c53m6D8BQ7BX9l3mP/95n1ATRNM/AAAAAAAA8P//eZ9QE0TTPwAAAAAAAAAAAAAAAAAA8P8AAAAAAADw/wAAAAAAAPD/AAAAAAAA8P8AAAAAAADw/wAAAAAAAPD/AAAAAAAAAAAAAAAAAAAAAA==\",\"dtype\":\"float64\",\"shape\":[50]}},\"selected\":{\"id\":\"42787\",\"type\":\"Selection\"},\"selection_policy\":{\"id\":\"42788\",\"type\":\"UnionRenderers\"}},\"id\":\"39769\",\"type\":\"ColumnDataSource\"},{\"attributes\":{\"bottom\":{\"value\":0},\"fill_alpha\":{\"value\":0.1},\"fill_color\":{\"value\":\"#1f77b4\"},\"left\":{\"field\":\"left\"},\"line_alpha\":{\"value\":0.1},\"line_color\":{\"value\":\"#1f77b4\"},\"right\":{\"field\":\"right\"},\"top\":{\"field\":\"top\"}},\"id\":\"39841\",\"type\":\"Quad\"},{\"attributes\":{},\"id\":\"42880\",\"type\":\"UnionRenderers\"},{\"attributes\":{\"data_source\":{\"id\":\"39839\",\"type\":\"ColumnDataSource\"},\"glyph\":{\"id\":\"39840\",\"type\":\"Quad\"},\"hover_glyph\":null,\"muted_glyph\":null,\"nonselection_glyph\":{\"id\":\"39841\",\"type\":\"Quad\"},\"selection_glyph\":null,\"view\":{\"id\":\"39843\",\"type\":\"CDSView\"}},\"id\":\"39842\",\"type\":\"GlyphRenderer\"},{\"attributes\":{\"bottom\":{\"value\":0},\"fill_alpha\":{\"value\":0.05},\"fill_color\":{\"value\":\"#CB4777\"},\"left\":{\"field\":\"left\"},\"line_alpha\":{\"value\":0.05},\"line_color\":{\"value\":\"#7E03A7\"},\"right\":{\"field\":\"right\"},\"top\":{\"field\":\"top\"}},\"id\":\"39770\",\"type\":\"Quad\"},{\"attributes\":{},\"id\":\"42881\",\"type\":\"Selection\"},{\"attributes\":{\"bottom\":{\"value\":0},\"fill_alpha\":{\"value\":0.1},\"fill_color\":{\"value\":\"#1f77b4\"},\"left\":{\"field\":\"left\"},\"line_alpha\":{\"value\":0.1},\"line_color\":{\"value\":\"#1f77b4\"},\"right\":{\"field\":\"right\"},\"top\":{\"field\":\"top\"}},\"id\":\"39771\",\"type\":\"Quad\"},{\"attributes\":{\"source\":{\"id\":\"39839\",\"type\":\"ColumnDataSource\"}},\"id\":\"39843\",\"type\":\"CDSView\"},{\"attributes\":{},\"id\":\"42882\",\"type\":\"UnionRenderers\"},{\"attributes\":{\"data_source\":{\"id\":\"39769\",\"type\":\"ColumnDataSource\"},\"glyph\":{\"id\":\"39770\",\"type\":\"Quad\"},\"hover_glyph\":null,\"muted_glyph\":null,\"nonselection_glyph\":{\"id\":\"39771\",\"type\":\"Quad\"},\"selection_glyph\":null,\"view\":{\"id\":\"39773\",\"type\":\"CDSView\"}},\"id\":\"39772\",\"type\":\"GlyphRenderer\"},{\"attributes\":{\"callback\":null,\"data\":{\"left\":{\"__ndarray__\":\"kH04kHWpWT+gNPNqP86pP6lSspSZZ7k/gYX1uQn0wj+u4ZGpRjTJP9s9LpmDdM8/BE1lRGDa0j8bezO8fvrVPzGpATSdGtk/R9fPq7s63D9eBZ4j2lrfP7oZtk18PeE/xTCdiYvN4j/QR4TFml3kP9xeawGq7eU/53VSPbl95z/yjDl5yA3pP/2jILXXneo/CLsH8eYt7D8U0u4s9r3tPx/p1WgFTu8/FIBeUgpv8D+aC1LwETfxPyCXRY4Z//E/pSI5LCHH8j8rrizKKI/zP7A5IGgwV/Q/NsUTBjgf9T+8UAekP+f1P0Hc+kFHr/Y/x2fu30539z9M8+F9Vj/4P9J+1RteB/k/WArJuWXP+T/dlbxXbZf6P2MhsPV0X/s/6Kyjk3wn/D9uOJcxhO/8P/TDis+Lt/0/eU9+bZN//j//2nELm0f/P0OzslTRBwBABXmsI9VrAEDIPqby2M8AQIsEoMHcMwFATsqZkOCXAUARkJNf5PsBQNNVjS7oXwJAlhuH/evDAkBZ4YDM7ycDQA==\",\"dtype\":\"float64\",\"shape\":[50]},\"right\":{\"__ndarray__\":\"oDTzaj/OqT+pUrKUmWe5P4GF9bkJ9MI/ruGRqUY0yT/bPS6Zg3TPPwRNZURg2tI/G3szvH761T8xqQE0nRrZP0fXz6u7Otw/XgWeI9pa3z+6GbZNfD3hP8UwnYmLzeI/0EeExZpd5D/cXmsBqu3lP+d1Uj25fec/8ow5ecgN6T/9oyC1153qPwi7B/HmLew/FNLuLPa97T8f6dVoBU7vPxSAXlIKb/A/mgtS8BE38T8gl0WOGf/xP6UiOSwhx/I/K64syiiP8z+wOSBoMFf0PzbFEwY4H/U/vFAHpD/n9T9B3PpBR6/2P8dn7t9Od/c/TPPhfVY/+D/SftUbXgf5P1gKybllz/k/3ZW8V22X+j9jIbD1dF/7P+iso5N8J/w/bjiXMYTv/D/0w4rPi7f9P3lPfm2Tf/4//9pxC5tH/z9Ds7JU0QcAQAV5rCPVawBAyD6m8tjPAECLBKDB3DMBQE7KmZDglwFAEZCTX+T7AUDTVY0u6F8CQJYbh/3rwwJAWeGAzO8nA0Acp3qb84sDQA==\",\"dtype\":\"float64\",\"shape\":[50]},\"top\":{\"__ndarray__\":\"z/DjF7uj9j+A3ifUBNH0PxdccwnwgPg/7rrkRdVL+D8QwftVxnX0P5d9SzXrr/M/l31LNeuv8z/91U+WJ4nuP27FUGCLqfA//3mfUBNE4z/+Nu/4HObsP3+y441TRPE//dVPlieJ3j/91U+WJ4neP/95n1ATROM//jbv+Bzm7D/91U+WJ4nuP59E5FmKVvI//dVPlieJ3j/+Nu/4HObsP/427/gc5uw/bsVQYIup8D8AAAAAAADwP08SvEO20vE//3mfUBNE4z+fW1Brzyf1P/6nd3Od5ug/P8x4CwsL6z+XfUs166/zP3+y441TRPE//dVPlieJ3j8AAAAAAAAAAAAAAAAAAAAAAAAAAAAA8P8AAAAAAADw/wAAAAAAAPD/AAAAAAAA8P8AAAAAAAAAAAAAAAAAAPD/AAAAAAAA8P8AAAAAAADw/wAAAAAAAPD/AAAAAAAA8P8AAAAAAADw/wAAAAAAAPD/AAAAAAAA8P8AAAAAAADw/wAAAAAAAPD/AAAAAAAA8P8AAAAAAAAAAA==\",\"dtype\":\"float64\",\"shape\":[50]}},\"selected\":{\"id\":\"42817\",\"type\":\"Selection\"},\"selection_policy\":{\"id\":\"42818\",\"type\":\"UnionRenderers\"}},\"id\":\"39844\",\"type\":\"ColumnDataSource\"},{\"attributes\":{},\"id\":\"42883\",\"type\":\"Selection\"},{\"attributes\":{\"source\":{\"id\":\"39769\",\"type\":\"ColumnDataSource\"}},\"id\":\"39773\",\"type\":\"CDSView\"},{\"attributes\":{\"bottom\":{\"value\":0},\"fill_alpha\":{\"value\":0.05},\"fill_color\":{\"value\":\"#CB4777\"},\"left\":{\"field\":\"left\"},\"line_alpha\":{\"value\":0.05},\"line_color\":{\"value\":\"#7E03A7\"},\"right\":{\"field\":\"right\"},\"top\":{\"field\":\"top\"}},\"id\":\"39845\",\"type\":\"Quad\"},{\"attributes\":{},\"id\":\"42884\",\"type\":\"UnionRenderers\"},{\"attributes\":{\"callback\":null,\"data\":{\"left\":{\"__ndarray__\":\"YHLvnynuMz/usSVnPTyqP3vChT1PKLo/AFa84z+Zwz/CyrUoWB7KP8Of1za4UdA/JFpUWUSU0z+FFNF70NbWP+bOTZ5cGdo/R4nKwOhb3T/UoaNxOk/gPwT/4YKA8OE/NVwglMaR4z9luV6lDDPlP5YWnbZS1OY/xnPbx5h16D/30BnZ3hbqPyguWOokuOs/WIuW+2pZ7T+J6NQMsfruP92iCY/7TfA/ddGol54e8T8NAEigQe/xP6Uu56jkv/I/Pl2GsYeQ8z/WiyW6KmH0P266xMLNMfU/B+ljy3AC9j+fFwPUE9P2PzdGoty2o/c/z3RB5Vl0+D9oo+Dt/ET5PwDSf/afFfo/mAAf/0Lm+j8xL74H5rb7P8ldXRCJh/w/YYz8GCxY/T/5upshzyj+P5LpOipy+f4/KhjaMhXK/z9io7wdXE0AQK46DKKttQBA+tFbJv8dAUBGaauqUIYBQJIA+y6i7gFA3pdKs/NWAkAqL5o3Rb8CQHfG6buWJwNAw105QOiPA0AP9YjEOfgDQA==\",\"dtype\":\"float64\",\"shape\":[50]},\"right\":{\"__ndarray__\":\"7rElZz08qj97woU9Tyi6PwBWvOM/mcM/wsq1KFgeyj/Dn9c2uFHQPyRaVFlElNM/hRTRe9DW1j/mzk2eXBnaP0eJysDoW90/1KGjcTpP4D8E/+GCgPDhPzVcIJTGkeM/ZblepQwz5T+WFp22UtTmP8Zz28eYdeg/99AZ2d4W6j8oLljqJLjrP1iLlvtqWe0/iejUDLH67j/dogmP+03wP3XRqJeeHvE/DQBIoEHv8T+lLueo5L/yPz5dhrGHkPM/1osluiph9D9uusTCzTH1PwfpY8twAvY/nxcD1BPT9j83RqLctqP3P890QeVZdPg/aKPg7fxE+T8A0n/2nxX6P5gAH/9C5vo/MS++B+a2+z/JXV0QiYf8P2GM/BgsWP0/+bqbIc8o/j+S6Toqcvn+PyoY2jIVyv8/YqO8HVxNAECuOgyirbUAQPrRWyb/HQFARmmrqlCGAUCSAPsuou4BQN6XSrPzVgJAKi+aN0W/AkB3xum7licDQMNdOUDojwNAD/WIxDn4A0BbjNhIi2AEQA==\",\"dtype\":\"float64\",\"shape\":[50]},\"top\":{\"__ndarray__\":\"/Ibhjy08AECmBluTszD/P58BNAKU+Ps/bpkMGtoc/T+QnyMqy0b5Px86eD/U+Pk/kJ8jKstG+T/PM5RvsQH9P38MAPeOc/o/T88L7L90+z+fW1Brzyf1P6CHlLGAtPg/7vBA62hV/D+AIdgr+y77PxZz3xo1Uvs/5mdYFJ7c9z9/9ZPlSaL3P5d9SzXrr/M/fslPn5gV9D8QwftVxnX0P/3VT5Ynie4/P8x4CwsL6z/91U+WJ4nuPwFDsFf2XeY/P8x4CwsL6z/91U+WJ4nuP27FUGCLqfA/f7LjjVNE8T8/zHgLCwvrPwC9T6gJovk/bsVQYIup8D/+p3dzneboPz/MeAsLC+s/AAAAAAAA8D8AAAAAAADwP3/5myCjyfU//qd3c53m6D8AAAAAAAAAAAAAAAAAAAAA/3mfUBNE0z8AAAAAAAAAAP95n1ATRNM/AAAAAAAA8P8AAAAAAADw//95n1ATRNM/AAAAAAAAAAAAAAAAAADw/wAAAAAAAPD/AAAAAAAA8P//eZ9QE0TTPw==\",\"dtype\":\"float64\",\"shape\":[50]}},\"selected\":{\"id\":\"42789\",\"type\":\"Selection\"},\"selection_policy\":{\"id\":\"42790\",\"type\":\"UnionRenderers\"}},\"id\":\"39774\",\"type\":\"ColumnDataSource\"},{\"attributes\":{\"bottom\":{\"value\":0},\"fill_alpha\":{\"value\":0.1},\"fill_color\":{\"value\":\"#1f77b4\"},\"left\":{\"field\":\"left\"},\"line_alpha\":{\"value\":0.1},\"line_color\":{\"value\":\"#1f77b4\"},\"right\":{\"field\":\"right\"},\"top\":{\"field\":\"top\"}},\"id\":\"39846\",\"type\":\"Quad\"},{\"attributes\":{},\"id\":\"42885\",\"type\":\"Selection\"},{\"attributes\":{\"data_source\":{\"id\":\"39844\",\"type\":\"ColumnDataSource\"},\"glyph\":{\"id\":\"39845\",\"type\":\"Quad\"},\"hover_glyph\":null,\"muted_glyph\":null,\"nonselection_glyph\":{\"id\":\"39846\",\"type\":\"Quad\"},\"selection_glyph\":null,\"view\":{\"id\":\"39848\",\"type\":\"CDSView\"}},\"id\":\"39847\",\"type\":\"GlyphRenderer\"},{\"attributes\":{\"bottom\":{\"value\":0},\"fill_alpha\":{\"value\":0.05},\"fill_color\":{\"value\":\"#CB4777\"},\"left\":{\"field\":\"left\"},\"line_alpha\":{\"value\":0.05},\"line_color\":{\"value\":\"#7E03A7\"},\"right\":{\"field\":\"right\"},\"top\":{\"field\":\"top\"}},\"id\":\"39775\",\"type\":\"Quad\"},{\"attributes\":{},\"id\":\"42886\",\"type\":\"UnionRenderers\"},{\"attributes\":{\"bottom\":{\"value\":0},\"fill_alpha\":{\"value\":0.1},\"fill_color\":{\"value\":\"#1f77b4\"},\"left\":{\"field\":\"left\"},\"line_alpha\":{\"value\":0.1},\"line_color\":{\"value\":\"#1f77b4\"},\"right\":{\"field\":\"right\"},\"top\":{\"field\":\"top\"}},\"id\":\"39776\",\"type\":\"Quad\"},{\"attributes\":{\"source\":{\"id\":\"39844\",\"type\":\"ColumnDataSource\"}},\"id\":\"39848\",\"type\":\"CDSView\"},{\"attributes\":{},\"id\":\"42887\",\"type\":\"Selection\"},{\"attributes\":{\"data_source\":{\"id\":\"39774\",\"type\":\"ColumnDataSource\"},\"glyph\":{\"id\":\"39775\",\"type\":\"Quad\"},\"hover_glyph\":null,\"muted_glyph\":null,\"nonselection_glyph\":{\"id\":\"39776\",\"type\":\"Quad\"},\"selection_glyph\":null,\"view\":{\"id\":\"39778\",\"type\":\"CDSView\"}},\"id\":\"39777\",\"type\":\"GlyphRenderer\"},{\"attributes\":{\"callback\":null,\"data\":{\"left\":{\"__ndarray__\":\"g19SQvPvQz8iD+nO6tylP2NqZOgKtbU/myaqNNA9wD8EGCL1GqHFP20JmrVlBMs/a/0IO9gz0D8g9kSbfeXSP9TugPsil9U/iOe8W8hI2D894Pi7bfraP/LYNBwTrN0/02g4Ptwu4D8tZVburofhP4hhdJ6B4OI/4l2STlQ55D88WrD+JpLlP5ZWzq756uY/8FLsXsxD6D9LTwoPn5zpP6VLKL9x9eo//0dGb0RO7D9aRGQfF6ftP7RAgs/p/+4/hx7QP14s8D+0HN+Xx9jwP+Ea7u8whfE/Dhn9R5ox8j88FwygA97yP2kVG/hsivM/lhMqUNY29D/DETmoP+P0P/APSACpj/U/HQ5XWBI89j9KDGawe+j2P3cKdQjllPc/pAiEYE5B+D/SBpO4t+34P/8EohAhmvk/LAOxaIpG+j9ZAcDA8/L6P4b/zhhdn/s/s/3dcMZL/D/g++zIL/j8Pw76+yCZpP0/O/gKeQJR/j9o9hnRa/3+P5X0KCnVqf8/YfmbQB8rAEB4eKPsU4EAQA==\",\"dtype\":\"float64\",\"shape\":[50]},\"right\":{\"__ndarray__\":\"Ig/pzurcpT9jamToCrW1P5smqjTQPcA/BBgi9RqhxT9tCZq1ZQTLP2v9CDvYM9A/IPZEm33l0j/U7oD7IpfVP4jnvFvISNg/PeD4u2362j/y2DQcE6zdP9NoOD7cLuA/LWVW7q6H4T+IYXSegeDiP+Jdkk5UOeQ/PFqw/iaS5T+WVs6u+ermP/BS7F7MQ+g/S08KD5+c6T+lSyi/cfXqP/9HRm9ETuw/WkRkHxen7T+0QILP6f/uP4ce0D9eLPA/tBzfl8fY8D/hGu7vMIXxPw4Z/UeaMfI/PBcMoAPe8j9pFRv4bIrzP5YTKlDWNvQ/wxE5qD/j9D/wD0gAqY/1Px0OV1gSPPY/SgxmsHvo9j93CnUI5ZT3P6QIhGBOQfg/0gaTuLft+D//BKIQIZr5PywDsWiKRvo/WQHAwPPy+j+G/84YXZ/7P7P93XDGS/w/4PvsyC/4/D8O+vsgmaT9Pzv4CnkCUf4/aPYZ0Wv9/j+V9Cgp1an/P2H5m0AfKwBAeHij7FOBAECO96qYiNcAQA==\",\"dtype\":\"float64\",\"shape\":[50]},\"top\":{\"__ndarray__\":\"8BtfBLaQ/D/+7i8G7Wv9P/YwvNGvIvo/FnPfGjVS+z9/DAD3jnP6P+/mKIyG2Ps//uony5NE/z8Wc98aNVL7P/6nd3Od5vg/fm8zNl3m+j9/9ZPlSaL3P+7wQOtoVfw/RHpTS6KW+z9EelNLopb7PwC9T6gJovk//qd3c53m+D/+kAtiWBX2PwFDsFf2XfY/n0TkWYpW8j+A3ifUBNH0PxDB+1XGdfQ/ABdsEUXR8j+fW1Brzyf1P+6jeDSQevU/oIeUsYC0+D+XfUs166/zP27FUGCLqfA/n0TkWYpW8j+XfUs166/zP/3VT5Ynie4/n0TkWYpW8j/+p3dzneboP/3VT5Ynid4/f7LjjVNE8T8/zHgLCwvrPz/MeAsLC+s//jbv+Bzm7D8AAAAAAAAAAAAAAAAAAAAA/dVPlieJ3j8AAAAAAAAAAP95n1ATRNM/AAAAAAAAAAAAAAAAAAAAAAAAAAAAAPD/AAAAAAAAAAAAAAAAAAAAAAAAAAAAAAAAAAAAAAAA8P/91U+WJ4nePw==\",\"dtype\":\"float64\",\"shape\":[50]}},\"selected\":{\"id\":\"42819\",\"type\":\"Selection\"},\"selection_policy\":{\"id\":\"42820\",\"type\":\"UnionRenderers\"}},\"id\":\"39849\",\"type\":\"ColumnDataSource\"},{\"attributes\":{},\"id\":\"42888\",\"type\":\"UnionRenderers\"},{\"attributes\":{\"source\":{\"id\":\"39774\",\"type\":\"ColumnDataSource\"}},\"id\":\"39778\",\"type\":\"CDSView\"},{\"attributes\":{\"bottom\":{\"value\":0},\"fill_alpha\":{\"value\":0.05},\"fill_color\":{\"value\":\"#CB4777\"},\"left\":{\"field\":\"left\"},\"line_alpha\":{\"value\":0.05},\"line_color\":{\"value\":\"#7E03A7\"},\"right\":{\"field\":\"right\"},\"top\":{\"field\":\"top\"}},\"id\":\"39850\",\"type\":\"Quad\"},{\"attributes\":{},\"id\":\"42889\",\"type\":\"Selection\"},{\"attributes\":{\"callback\":null,\"data\":{\"left\":{\"__ndarray__\":\"ak5/EhN4LD+cQ3WsPzitP/UD7KIDKr0/DrPOt/PbxT8iZCee5SLNP5sKQMLrNNI/JGNstWTY1T+uu5io3XvZPzgUxZtWH90/YbZ4x2dh4D+m4g5BJDPiP+sOpbrgBOQ/Lzs7NJ3W5T90Z9GtWajnP7mTZycWeuk//r/9oNJL6z9D7JMajx3tP4gYKpRL7+4/ZiLgBoRg8D+IOKtDYknxP6tOdoBAMvI/zWRBvR4b8z/wegz6/AP0PxKR1zbb7PQ/NKeic7nV9T9XvW2wl772P3nTOO11p/c/nOkDKlSQ+D++/85mMnn5P+EVmqMQYvo/Ayxl4O5K+z8mQjAdzTP8P0hY+1mrHP0/am7GlokF/j+NhJHTZ+7+P6+aXBBG1/8/adiTJhJgAEB6Y/lEgdQAQIvuXmPwSAFAnXnEgV+9AUCuBCqgzjECQL+Pj749pgJA0Br13KwaA0DhpVr7G48DQPMwwBmLAwRABLwlOPp3BEAVR4tWaewEQCbS8HTYYAVAN11Wk0fVBUBJ6LuxtkkGQA==\",\"dtype\":\"float64\",\"shape\":[50]},\"right\":{\"__ndarray__\":\"nEN1rD84rT/1A+yiAyq9Pw6zzrfz28U/ImQnnuUizT+bCkDC6zTSPyRjbLVk2NU/rruYqN172T84FMWbVh/dP2G2eMdnYeA/puIOQSQz4j/rDqW64ATkPy87OzSd1uU/dGfRrVmo5z+5k2cnFnrpP/6//aDSS+s/Q+yTGo8d7T+IGCqUS+/uP2Yi4AaEYPA/iDirQ2JJ8T+rTnaAQDLyP81kQb0eG/M/8HoM+vwD9D8Skdc22+z0PzSnonO51fU/V71tsJe+9j950zjtdaf3P5zpAypUkPg/vv/OZjJ5+T/hFZqjEGL6PwMsZeDuSvs/JkIwHc0z/D9IWPtZqxz9P2puxpaJBf4/jYSR02fu/j+vmlwQRtf/P2nYkyYSYABAemP5RIHUAECL7l5j8EgBQJ15xIFfvQFArgQqoM4xAkC/j4++PaYCQNAa9dysGgNA4aVa+xuPA0DzMMAZiwMEQAS8JTj6dwRAFUeLVmnsBEAm0vB02GAFQDddVpNH1QVASei7sbZJBkBacyHQJb4GQA==\",\"dtype\":\"float64\",\"shape\":[50]},\"top\":{\"__ndarray__\":\"4s2Vu85iA0C+5fG9uBUDQN9ghniqVgFA/wBKbuwKAUAAKz1L0lwAQJA+lEtlKwBAt2e03zaTAECuPSJnShoAQG2weCsf7v8/jisN5hAv/j8eUeRQGcr8P26ZDBraHP0/kJ8jKstG+T/uuuRF1Uv4P+ZnWBSe3Pc/kJ8jKstG+T/qY2tx+2X3P/95n1ATRPM/l31LNeuv8z9/suONU0TxP37JT5+YFfQ/f7LjjVNE8T/+p3dzneboPz/MeAsLC+s/f/mbIKPJ9T+fW1Brzyf1P27FUGCLqfA//qd3c53m6D8AAAAAAADw//3VT5Ynid4//3mfUBNE4z//eZ9QE0TTPwFDsFf2XeY//dVPlieJ3j/91U+WJ4nePwFDsFf2XeY//3mfUBNE0z//eZ9QE0TTP/3VT5Ynid4//3mfUBNE4z//eZ9QE0TTP/95n1ATRNM//dVPlieJ3j8AAAAAAADw/wAAAAAAAAAAAAAAAAAA8P8AAAAAAADw/wAAAAAAAPD/AAAAAAAA8P8AAAAAAAAAAA==\",\"dtype\":\"float64\",\"shape\":[50]}},\"selected\":{\"id\":\"42791\",\"type\":\"Selection\"},\"selection_policy\":{\"id\":\"42792\",\"type\":\"UnionRenderers\"}},\"id\":\"39779\",\"type\":\"ColumnDataSource\"},{\"attributes\":{\"bottom\":{\"value\":0},\"fill_alpha\":{\"value\":0.1},\"fill_color\":{\"value\":\"#1f77b4\"},\"left\":{\"field\":\"left\"},\"line_alpha\":{\"value\":0.1},\"line_color\":{\"value\":\"#1f77b4\"},\"right\":{\"field\":\"right\"},\"top\":{\"field\":\"top\"}},\"id\":\"39851\",\"type\":\"Quad\"},{\"attributes\":{},\"id\":\"42890\",\"type\":\"UnionRenderers\"},{\"attributes\":{\"data_source\":{\"id\":\"39849\",\"type\":\"ColumnDataSource\"},\"glyph\":{\"id\":\"39850\",\"type\":\"Quad\"},\"hover_glyph\":null,\"muted_glyph\":null,\"nonselection_glyph\":{\"id\":\"39851\",\"type\":\"Quad\"},\"selection_glyph\":null,\"view\":{\"id\":\"39853\",\"type\":\"CDSView\"}},\"id\":\"39852\",\"type\":\"GlyphRenderer\"},{\"attributes\":{\"bottom\":{\"value\":0},\"fill_alpha\":{\"value\":0.05},\"fill_color\":{\"value\":\"#CB4777\"},\"left\":{\"field\":\"left\"},\"line_alpha\":{\"value\":0.05},\"line_color\":{\"value\":\"#7E03A7\"},\"right\":{\"field\":\"right\"},\"top\":{\"field\":\"top\"}},\"id\":\"39780\",\"type\":\"Quad\"},{\"attributes\":{},\"id\":\"42891\",\"type\":\"Selection\"},{\"attributes\":{\"bottom\":{\"value\":0},\"fill_alpha\":{\"value\":0.1},\"fill_color\":{\"value\":\"#1f77b4\"},\"left\":{\"field\":\"left\"},\"line_alpha\":{\"value\":0.1},\"line_color\":{\"value\":\"#1f77b4\"},\"right\":{\"field\":\"right\"},\"top\":{\"field\":\"top\"}},\"id\":\"39781\",\"type\":\"Quad\"},{\"attributes\":{\"source\":{\"id\":\"39849\",\"type\":\"ColumnDataSource\"}},\"id\":\"39853\",\"type\":\"CDSView\"},{\"attributes\":{},\"id\":\"42892\",\"type\":\"UnionRenderers\"},{\"attributes\":{\"data_source\":{\"id\":\"39779\",\"type\":\"ColumnDataSource\"},\"glyph\":{\"id\":\"39780\",\"type\":\"Quad\"},\"hover_glyph\":null,\"muted_glyph\":null,\"nonselection_glyph\":{\"id\":\"39781\",\"type\":\"Quad\"},\"selection_glyph\":null,\"view\":{\"id\":\"39783\",\"type\":\"CDSView\"}},\"id\":\"39782\",\"type\":\"GlyphRenderer\"},{\"attributes\":{\"callback\":null,\"data\":{\"left\":{\"__ndarray__\":\"Y1p1ACvGJj+fw0WiyB62P0mmhRcXGcY/YTX07mSR0D+dlyVSPhbWP9n5VrUXm9s/DC5EjPiP4D8q39w9ZVLjP0iQde/RFOY/ZkEOoT7X6D+E8qZSq5nrP6OjPwQYXO4/YSrsWkKP8D/wgrizePDxP3/bhAyvUfM/DjRRZeWy9D+djB2+GxT2Pyzl6RZSdfc/uz22b4jW+D9KloLIvjf6P9nuTiH1mPs/aUcbeiv6/D/4n+fSYVv+P4f4syuYvP8/iyhAQueOAEDSVKZugj8BQBqBDJsd8AFAYa1yx7igAkCp2djzU1EDQPAFPyDvAQRAODKlTIqyBEB/Xgt5JWMFQMeKcaXAEwZAD7fX0VvEBkBW4z3+9nQHQJ4PpCqSJQhA5TsKVy3WCEAtaHCDyIYJQHSU1q9jNwpAvMA83P7nCkAD7aIImpgLQEsZCTU1SQxAk0VvYdD5DEDacdWNa6oNQCKeO7oGWw5Aacqh5qELD0Cx9gcTPbwPQH0Rtx9sNhBAoSfqtbmOEEDEPR1MB+cQQA==\",\"dtype\":\"float64\",\"shape\":[50]},\"right\":{\"__ndarray__\":\"n8NFosgetj9JpoUXFxnGP2E19O5kkdA/nZclUj4W1j/Z+Va1F5vbPwwuRIz4j+A/Kt/cPWVS4z9IkHXv0RTmP2ZBDqE+1+g/hPKmUquZ6z+joz8EGFzuP2Eq7FpCj/A/8IK4s3jw8T9/24QMr1HzPw40UWXlsvQ/nYwdvhsU9j8s5ekWUnX3P7s9tm+I1vg/SpaCyL43+j/Z7k4h9Zj7P2lHG3or+vw/+J/n0mFb/j+H+LMrmLz/P4soQELnjgBA0lSmboI/AUAagQybHfABQGGtcse4oAJAqdnY81NRA0DwBT8g7wEEQDgypUyKsgRAf14LeSVjBUDHinGlwBMGQA+319FbxAZAVuM9/vZ0B0CeD6QqkiUIQOU7Clct1ghALWhwg8iGCUB0lNavYzcKQLzAPNz+5wpAA+2iCJqYC0BLGQk1NUkMQJNFb2HQ+QxA2nHVjWuqDUAinju6BlsOQGnKoeahCw9AsfYHEz28D0B9EbcfbDYQQKEn6rW5jhBAxD0dTAfnEEDoU1DiVD8RQA==\",\"dtype\":\"float64\",\"shape\":[50]},\"top\":{\"__ndarray__\":\"TyM8mzE2AkD2ztzuK/AAQLdntN82kwBAQDLEwXjGAEAuZVo2mjf9P/7uLwbta/0/bpkMGtoc/T9YDAJy9s35P4Bg5rBaF/k/F1xzCfCA+D/2MLzRryL6P+6jeDSQevU/TxK8Q7bS8T9uxVBgi6nwPz/MeAsLC+s/bsVQYIup8D+fRORZilbyP3+y441TRPE/f7LjjVNE8T/+Nu/4HObsP/6nd3Od5ug/AUOwV/Zd5j/91U+WJ4nuPwFDsFf2XeY//3mfUBNE4z//eZ9QE0TjPwAAAAAAAPD/AAAAAAAAAAABQ7BX9l3mPz/MeAsLC+s//3mfUBNE0z8AAAAAAADw/wAAAAAAAPD//3mfUBNE0z/91U+WJ4nePwAAAAAAAAAA/dVPlieJ3j8AAAAAAADw/wAAAAAAAAAAAAAAAAAA8P//eZ9QE0TTP/3VT5Ynid4//3mfUBNE4z//eZ9QE0TjP/95n1ATROM//3mfUBNE0z8AAAAAAADw/wAAAAAAAAAAAAAAAAAAAAAAAAAAAAAAAA==\",\"dtype\":\"float64\",\"shape\":[50]}},\"selected\":{\"id\":\"42821\",\"type\":\"Selection\"},\"selection_policy\":{\"id\":\"42822\",\"type\":\"UnionRenderers\"}},\"id\":\"39854\",\"type\":\"ColumnDataSource\"},{\"attributes\":{},\"id\":\"42893\",\"type\":\"Selection\"},{\"attributes\":{\"source\":{\"id\":\"39779\",\"type\":\"ColumnDataSource\"}},\"id\":\"39783\",\"type\":\"CDSView\"},{\"attributes\":{\"bottom\":{\"value\":0},\"fill_alpha\":{\"value\":0.05},\"fill_color\":{\"value\":\"#CB4777\"},\"left\":{\"field\":\"left\"},\"line_alpha\":{\"value\":0.05},\"line_color\":{\"value\":\"#7E03A7\"},\"right\":{\"field\":\"right\"},\"top\":{\"field\":\"top\"}},\"id\":\"39855\",\"type\":\"Quad\"},{\"attributes\":{},\"id\":\"42894\",\"type\":\"UnionRenderers\"},{\"attributes\":{\"callback\":null,\"data\":{\"left\":{\"__ndarray__\":\"Dgw0Xox9TD90JKT5uNmxP2jwRW07vcE/ls65XZqNyj9i1han/K7RP3nFUB8sF9Y/kLSKl1t/2j+no8QPi+feP19J/0Pdp+E/60AcAPXb4z92ODm8DBDmPwEwVngkROg/jSdzNDx46j8ZH5DwU6zsP6QWraxr4O4/GAdltEGK8D/egnOSTaTxP6T+gXBZvvI/anqQTmXY8z8v9p4scfL0P/VxrQp9DPY/u+276Igm9z+AacrGlED4P0bl2KSgWvk/DGHngqx0+j/S3PVguI77P5hYBD/EqPw/XdQSHdDC/T8jUCH729z+P+nLL9nn9v8/1yOf23mIAEC6YabKfxUBQJ2frbmFogFAgN20qIsvAkBjG7yXkbwCQEZZw4aXSQNAKZfKdZ3WA0AL1dFko2MEQO4S2VOp8ARA0VDgQq99BUC0jucxtQoGQJfM7iC7lwZAegr2D8EkB0BdSP3+xrEHQD+GBO7MPghAIsQL3dLLCEAFAhPM2FgJQOg/Grve5QlAy30hquRyCkCuuyiZ6v8KQA==\",\"dtype\":\"float64\",\"shape\":[50]},\"right\":{\"__ndarray__\":\"dCSk+bjZsT9o8EVtO73BP5bOuV2ajco/YtYWp/yu0T95xVAfLBfWP5C0ipdbf9o/p6PED4vn3j9fSf9D3afhP+tAHAD12+M/djg5vAwQ5j8BMFZ4JEToP40nczQ8eOo/GR+Q8FOs7D+kFq2sa+DuPxgHZbRBivA/3oJzkk2k8T+k/oFwWb7yP2p6kE5l2PM/L/aeLHHy9D/1ca0KfQz2P7vtu+iIJvc/gGnKxpRA+D9G5dikoFr5Pwxh54KsdPo/0tz1YLiO+z+YWAQ/xKj8P13UEh3Qwv0/I1Ah+9vc/j/pyy/Z5/b/P9cjn9t5iABAumGmyn8VAUCdn625haIBQIDdtKiLLwJAYxu8l5G8AkBGWcOGl0kDQCmXynWd1gNAC9XRZKNjBEDuEtlTqfAEQNFQ4EKvfQVAtI7nMbUKBkCXzO4gu5cGQHoK9g/BJAdAXUj9/saxB0A/hgTuzD4IQCLEC93SywhABQITzNhYCUDoPxq73uUJQMt9IarkcgpArrsomer/CkCR+S+I8IwLQA==\",\"dtype\":\"float64\",\"shape\":[50]},\"top\":{\"__ndarray__\":\"zzukq3kxAkAAvU+oCaIBQJgT3O2l/QBALBIXZLRsAEC3YiiwxVQAQGZGgOiirfw//uony5NE/z8/zHgLCwv7P5C2jzsQGPw/WAwCcvbN+T//07u5TnP8Px5R5FAZyvw/P8x4CwsL+z+AYOawWhf5Px8jDC6PJ/c/fslPn5gV9D9PErxDttLxPwAAAAAAAPA/z/DjF7uj9j8AAAAAAADwPwFDsFf2XeY/l31LNeuv8z//eZ9QE0TzPxDB+1XGdfQ/ABdsEUXR8j9+4Luw3eb2P+pja3H7Zfc/AAAAAAAA8D8AAAAAAADwPwAAAAAAAPD//jbv+Bzm7D8BQ7BX9l3mPwAAAAAAAPA//3mfUBNE4z/91U+WJ4nePwAAAAAAAPD//dVPlieJ3j8AAAAAAADw//95n1ATRNM//3mfUBNE4z//eZ9QE0TjP/3VT5Ynid4//3mfUBNE0z8AAAAAAAAAAAAAAAAAAAAAAAAAAAAA8P8AAAAAAADw/wAAAAAAAPD/AAAAAAAA8P8AAAAAAAAAAA==\",\"dtype\":\"float64\",\"shape\":[50]}},\"selected\":{\"id\":\"42793\",\"type\":\"Selection\"},\"selection_policy\":{\"id\":\"42794\",\"type\":\"UnionRenderers\"}},\"id\":\"39784\",\"type\":\"ColumnDataSource\"},{\"attributes\":{\"bottom\":{\"value\":0},\"fill_alpha\":{\"value\":0.1},\"fill_color\":{\"value\":\"#1f77b4\"},\"left\":{\"field\":\"left\"},\"line_alpha\":{\"value\":0.1},\"line_color\":{\"value\":\"#1f77b4\"},\"right\":{\"field\":\"right\"},\"top\":{\"field\":\"top\"}},\"id\":\"39856\",\"type\":\"Quad\"},{\"attributes\":{},\"id\":\"42895\",\"type\":\"Selection\"},{\"attributes\":{\"data_source\":{\"id\":\"39854\",\"type\":\"ColumnDataSource\"},\"glyph\":{\"id\":\"39855\",\"type\":\"Quad\"},\"hover_glyph\":null,\"muted_glyph\":null,\"nonselection_glyph\":{\"id\":\"39856\",\"type\":\"Quad\"},\"selection_glyph\":null,\"view\":{\"id\":\"39858\",\"type\":\"CDSView\"}},\"id\":\"39857\",\"type\":\"GlyphRenderer\"},{\"attributes\":{\"bottom\":{\"value\":0},\"fill_alpha\":{\"value\":0.05},\"fill_color\":{\"value\":\"#CB4777\"},\"left\":{\"field\":\"left\"},\"line_alpha\":{\"value\":0.05},\"line_color\":{\"value\":\"#7E03A7\"},\"right\":{\"field\":\"right\"},\"top\":{\"field\":\"top\"}},\"id\":\"39785\",\"type\":\"Quad\"},{\"attributes\":{},\"id\":\"42896\",\"type\":\"UnionRenderers\"},{\"attributes\":{\"bottom\":{\"value\":0},\"fill_alpha\":{\"value\":0.1},\"fill_color\":{\"value\":\"#1f77b4\"},\"left\":{\"field\":\"left\"},\"line_alpha\":{\"value\":0.1},\"line_color\":{\"value\":\"#1f77b4\"},\"right\":{\"field\":\"right\"},\"top\":{\"field\":\"top\"}},\"id\":\"39786\",\"type\":\"Quad\"},{\"attributes\":{\"source\":{\"id\":\"39854\",\"type\":\"ColumnDataSource\"}},\"id\":\"39858\",\"type\":\"CDSView\"},{\"attributes\":{},\"id\":\"42897\",\"type\":\"Selection\"},{\"attributes\":{\"data_source\":{\"id\":\"39784\",\"type\":\"ColumnDataSource\"},\"glyph\":{\"id\":\"39785\",\"type\":\"Quad\"},\"hover_glyph\":null,\"muted_glyph\":null,\"nonselection_glyph\":{\"id\":\"39786\",\"type\":\"Quad\"},\"selection_glyph\":null,\"view\":{\"id\":\"39788\",\"type\":\"CDSView\"}},\"id\":\"39787\",\"type\":\"GlyphRenderer\"},{\"attributes\":{\"callback\":null,\"data\":{\"left\":{\"__ndarray__\":\"Y1p1ACvGJj8SLC8iS0qnP2XxrgzoPrc/YSYjRFVswT8P1O6BNjnHP72Bur8XBs0/tRfDfnxp0T+M7qgd7U/UP2PFjrxdNtc/Opx0W84c2j8Rc1r6PgPdP+hJQJmv6d8/YBATHBBo4T/M+4VrSNviPzfn+LqATuQ/otJrCrnB5T8Ovt5Z8TTnP3qpUakpqOg/5ZTE+GEb6j9QgDdImo7rP7xrqpfSAe0/KFcd5wp17j+TQpA2Q+jvP/+WAcO9rfA/tQy76lln8T9rgnQS9iDyPyH4LTqS2vI/1m3nYS6U8z+M46CJyk30P0JZWrFmB/U/984T2QLB9T+tRM0An3r2P2O6hig7NPc/GTBAUNft9z/Ppfl3c6f4P4Qbs58PYfk/OpFsx6sa+j/wBibvR9T6P6V83xbkjfs/W/KYPoBH/D8RaFJmHAH9P8fdC464uv0/fVPFtVR0/j8yyX7d8C3/P+g+OAWN5/8/Ttp4lpRQAEAplVWqYq0AQARQMr4wCgFA3woP0v5mAUC6xevlzMMBQA==\",\"dtype\":\"float64\",\"shape\":[50]},\"right\":{\"__ndarray__\":\"EiwvIktKpz9l8a4M6D63P2EmI0RVbME/D9TugTY5xz+9gbq/FwbNP7UXw358adE/jO6oHe1P1D9jxY68XTbXPzqcdFvOHNo/EXNa+j4D3T/oSUCZr+nfP2AQExwQaOE/zPuFa0jb4j835/i6gE7kP6LSawq5weU/Dr7eWfE05z96qVGpKajoP+WUxPhhG+o/UIA3SJqO6z+8a6qX0gHtPyhXHecKde4/k0KQNkPo7z//lgHDva3wP7UMu+pZZ/E/a4J0EvYg8j8h+C06ktryP9Zt52EulPM/jOOgicpN9D9CWVqxZgf1P/fOE9kCwfU/rUTNAJ969j9juoYoOzT3PxkwQFDX7fc/z6X5d3On+D+EG7OfD2H5PzqRbMerGvo/8AYm70fU+j+lfN8W5I37P1vymD6AR/w/EWhSZhwB/T/H3QuOuLr9P31TxbVUdP4/Msl+3fAt/z/oPjgFjef/P07aeJaUUABAKZVVqmKtAEAEUDK+MAoBQN8KD9L+ZgFAusXr5czDAUCVgMj5miACQA==\",\"dtype\":\"float64\",\"shape\":[50]},\"top\":{\"__ndarray__\":\"TxK8Q7bSAUBPErxDttIBQGKsvY/TMwBAZV3s+ed+/z8dmSCD7pH/P5c6m930Uf0/bpkMGtoc/T8gZryFhYX9PxZz3xo1Uvs//9O7uU5z/D9lXez5537/P2ZGgOiirfw/Hzp4P9T4+T8fIwwujyf3PxDB+1XGdfQ/7qN4NJB69T//eZ9QE0TzPwC9T6gJovk/fslPn5gV9D9uxVBgi6nwPz/MeAsLC+s//3mfUBNE8z9/suONU0TxP59E5FmKVvI/n0TkWYpW8j/+p3dzneboP/3VT5Ynid4/P8x4CwsL6z/91U+WJ4neP/3VT5Ynid4//dVPlieJ3j//eZ9QE0TTPwAAAAAAAAAA/3mfUBNE0z//eZ9QE0TTPwAAAAAAAAAAAAAAAAAA8P8AAAAAAAAAAAAAAAAAAPD/AAAAAAAA8P8AAAAAAADw/wAAAAAAAPD/AAAAAAAAAAAAAAAAAAAAAAAAAAAAAPD/AAAAAAAAAAAAAAAAAADw/wAAAAAAAPD/AAAAAAAAAAAAAAAAAAAAAA==\",\"dtype\":\"float64\",\"shape\":[50]}},\"selected\":{\"id\":\"42823\",\"type\":\"Selection\"},\"selection_policy\":{\"id\":\"42824\",\"type\":\"UnionRenderers\"}},\"id\":\"39859\",\"type\":\"ColumnDataSource\"},{\"attributes\":{},\"id\":\"42898\",\"type\":\"UnionRenderers\"},{\"attributes\":{\"source\":{\"id\":\"39784\",\"type\":\"ColumnDataSource\"}},\"id\":\"39788\",\"type\":\"CDSView\"},{\"attributes\":{\"bottom\":{\"value\":0},\"fill_alpha\":{\"value\":0.05},\"fill_color\":{\"value\":\"#CB4777\"},\"left\":{\"field\":\"left\"},\"line_alpha\":{\"value\":0.05},\"line_color\":{\"value\":\"#7E03A7\"},\"right\":{\"field\":\"right\"},\"top\":{\"field\":\"top\"}},\"id\":\"39860\",\"type\":\"Quad\"},{\"attributes\":{},\"id\":\"42899\",\"type\":\"Selection\"},{\"attributes\":{\"callback\":null,\"data\":{\"left\":{\"__ndarray__\":\"TVmJSTuGUj/q77YB4iWuP4XKkBTJ270/iw4jlFBSxj/Tt/2dvLbNP40w7FOUjdI/MYXZWMo/1j/V2cZdAPLZP3kutGI2pN0/j8HQMzar4D/ha0c2UYTiPzMWvjhsXeQ/hcA0O4c25j/Xaqs9og/oPykVIkC96Ok/e7+YQtjB6z/NaQ9F85rtPx8UhkcOdO8/OF/+pJSm8D9htDkmIpPxP4oJdaevf/I/s16wKD1s8z/cs+upylj0PwUJJytYRfU/Ll5irOUx9j9Xs50tcx73P4AI2a4AC/g/qV0UMI73+D/Ssk+xG+T5P/sHizKp0Po/JF3Gsza9+z9NsgE1xKn8P3YHPbZRlv0/n1x4N9+C/j/IsbO4bG//P3mD9xz9LQBADS6V3UOkAECh2DKeihoBQDaD0F7RkAFAyy1uHxgHAkBf2AvgXn0CQPOCqaCl8wJAiC1HYexpA0Ad2OQhM+ADQLGCguJ5VgRARS0go8DMBEDa171jB0MFQG+CWyROuQVAAy355JQvBkCX15al26UGQA==\",\"dtype\":\"float64\",\"shape\":[50]},\"right\":{\"__ndarray__\":\"6u+2AeIlrj+FypAUydu9P4sOI5RQUsY/07f9nby2zT+NMOxTlI3SPzGF2VjKP9Y/1dnGXQDy2T95LrRiNqTdP4/B0DM2q+A/4WtHNlGE4j8zFr44bF3kP4XANDuHNuY/12qrPaIP6D8pFSJAvejpP3u/mELYwes/zWkPRfOa7T8fFIZHDnTvPzhf/qSUpvA/YbQ5JiKT8T+KCXWnr3/yP7NesCg9bPM/3LPrqcpY9D8FCScrWEX1Py5eYqzlMfY/V7OdLXMe9z+ACNmuAAv4P6ldFDCO9/g/0rJPsRvk+T/7B4syqdD6PyRdxrM2vfs/TbIBNcSp/D92Bz22UZb9P59ceDffgv4/yLGzuGxv/z95g/cc/S0AQA0uld1DpABAodgynooaAUA2g9Be0ZABQMstbh8YBwJAX9gL4F59AkDzgqmgpfMCQIgtR2HsaQNAHdjkITPgA0CxgoLieVYEQEUtIKPAzARA2te9YwdDBUBvglskTrkFQAMt+eSULwZAl9eWpdulBkAsgjRmIhwHQA==\",\"dtype\":\"float64\",\"shape\":[50]},\"top\":{\"__ndarray__\":\"f7bryKxr/z+/qqDfD9z/P44rDeYQL/4//dVPlieJ/j9uiZE5rlz+Px5R5FAZyvw/AD8OhV/o/T8/zHgLCwv7Pz/MeAsLC/s//u4vBu1r/T/OB1ApAHX5P2pCk0UAN/w/kJ8jKstG+T9ugqAIlUv6P37gu7Dd5vY/dQ/kpbTz/j9/WMckGBX4P/95n1ATRPM/EMH7VcZ19D9+yU+fmBX0P39YxyQYFfg/HyMMLo8n9z//eZ9QE0TzP/95n1ATRPM//3mfUBNE8z9PErxDttLxPwAAAAAAAPA//3mfUBNE8z//eZ9QE0TzP/3VT5Ynie4/TxK8Q7bS8T//eZ9QE0TzP/95n1ATROM//dVPlieJ7j//eZ9QE0TjP/427/gc5uw//qd3c53m6D8BQ7BX9l3mP/95n1ATRNM//3mfUBNE0z//eZ9QE0TTPz/MeAsLC+s//3mfUBNE0z/91U+WJ4nePwAAAAAAAPD/AAAAAAAA8P8AAAAAAAAAAAAAAAAAAPD/AAAAAAAA8P//eZ9QE0TTPw==\",\"dtype\":\"float64\",\"shape\":[50]}},\"selected\":{\"id\":\"42795\",\"type\":\"Selection\"},\"selection_policy\":{\"id\":\"42796\",\"type\":\"UnionRenderers\"}},\"id\":\"39789\",\"type\":\"ColumnDataSource\"},{\"attributes\":{\"bottom\":{\"value\":0},\"fill_alpha\":{\"value\":0.1},\"fill_color\":{\"value\":\"#1f77b4\"},\"left\":{\"field\":\"left\"},\"line_alpha\":{\"value\":0.1},\"line_color\":{\"value\":\"#1f77b4\"},\"right\":{\"field\":\"right\"},\"top\":{\"field\":\"top\"}},\"id\":\"39861\",\"type\":\"Quad\"},{\"attributes\":{},\"id\":\"42900\",\"type\":\"UnionRenderers\"},{\"attributes\":{\"data_source\":{\"id\":\"39859\",\"type\":\"ColumnDataSource\"},\"glyph\":{\"id\":\"39860\",\"type\":\"Quad\"},\"hover_glyph\":null,\"muted_glyph\":null,\"nonselection_glyph\":{\"id\":\"39861\",\"type\":\"Quad\"},\"selection_glyph\":null,\"view\":{\"id\":\"39863\",\"type\":\"CDSView\"}},\"id\":\"39862\",\"type\":\"GlyphRenderer\"},{\"attributes\":{\"bottom\":{\"value\":0},\"fill_alpha\":{\"value\":0.05},\"fill_color\":{\"value\":\"#CB4777\"},\"left\":{\"field\":\"left\"},\"line_alpha\":{\"value\":0.05},\"line_color\":{\"value\":\"#7E03A7\"},\"right\":{\"field\":\"right\"},\"top\":{\"field\":\"top\"}},\"id\":\"39790\",\"type\":\"Quad\"},{\"attributes\":{},\"id\":\"42901\",\"type\":\"Selection\"},{\"attributes\":{\"bottom\":{\"value\":0},\"fill_alpha\":{\"value\":0.1},\"fill_color\":{\"value\":\"#1f77b4\"},\"left\":{\"field\":\"left\"},\"line_alpha\":{\"value\":0.1},\"line_color\":{\"value\":\"#1f77b4\"},\"right\":{\"field\":\"right\"},\"top\":{\"field\":\"top\"}},\"id\":\"39791\",\"type\":\"Quad\"},{\"attributes\":{\"source\":{\"id\":\"39859\",\"type\":\"ColumnDataSource\"}},\"id\":\"39863\",\"type\":\"CDSView\"},{\"attributes\":{},\"id\":\"42902\",\"type\":\"UnionRenderers\"},{\"attributes\":{\"callback\":null,\"data\":{\"left\":{\"__ndarray__\":\"Y1p1ACvGJj9fzl6rWNuuP7KT3pX1z74/G+AGax8Zxz9cdh4LRMrOP04Gm1W0PdM/b9GmpUYW1z+PnLL12O7aP7BnvkVrx94/aRnlyv5P4T/5/uryRzzjP4nk8BqRKOU/Gsr2QtoU5z+qr/xqIwHpPzqVApNs7eo/y3oIu7XZ7D9bYA7j/sXuP/YiigUkWfA/vhWNmUhP8T+GCJAtbUXyP077ksGRO/M/Fu6VVbYx9D/e4Jjp2if1P6fTm33/HfY/b8aeESQU9z83uaGlSAr4P/+rpDltAPk/x56nzZH2+T+Pkaphtuz6P1iErfXa4vs/IHewif/Y/D/oabMdJM/9P7BctrFIxf4/eE+5RW27/z8gId7syFgAQISa3zbb0wBA6BPhgO1OAUBMjeLK/8kBQLAG5BQSRQJAFIDlXiTAAkB4+eaoNjsDQNxy6PJItgNAQOzpPFsxBECkZeuGbawEQAjf7NB/JwVAbVjuGpKiBUDR0e9kpB0GQDVL8a62mAZAmcTy+MgTB0D9PfRC244HQA==\",\"dtype\":\"float64\",\"shape\":[50]},\"right\":{\"__ndarray__\":\"X85eq1jbrj+yk96V9c++PxvgBmsfGcc/XHYeC0TKzj9OBptVtD3TP2/RpqVGFtc/j5yy9dju2j+wZ75Fa8feP2kZ5cr+T+E/+f7q8kc84z+J5PAakSjlPxrK9kLaFOc/qq/8aiMB6T86lQKTbO3qP8t6CLu12ew/W2AO4/7F7j/2IooFJFnwP74VjZlIT/E/hgiQLW1F8j9O+5LBkTvzPxbulVW2MfQ/3uCY6don9T+n05t9/x32P2/GnhEkFPc/N7mhpUgK+D//q6Q5bQD5P8eep82R9vk/j5GqYbbs+j9YhK312uL7PyB3sIn/2Pw/6GmzHSTP/T+wXLaxSMX+P3hPuUVtu/8/ICHe7MhYAECEmt8229MAQOgT4YDtTgFATI3iyv/JAUCwBuQUEkUCQBSA5V4kwAJAePnmqDY7A0DccujySLYDQEDs6TxbMQRApGXrhm2sBEAI3+zQfycFQG1Y7hqSogVA0dHvZKQdBkA1S/GutpgGQJnE8vjIEwdA/T30QtuOB0Bht/WM7QkIQA==\",\"dtype\":\"float64\",\"shape\":[50]},\"top\":{\"__ndarray__\":\"zgdQKQB1+T+IytuHinQAQH7gu7Dd5vY/6mNrcftl9z+Qto87EBj8P/95n1ATRPM/7rrkRdVL+D9+yU+fmBX0P59E5FmKVvI/f1jHJBgV+D9uxVBgi6nwPwAAAAAAAPA//qd3c53m6D/+p3dzneboP59E5FmKVvI/P8x4CwsL6z8BQ7BX9l3mPz/MeAsLC+s//jbv+Bzm7D/91U+WJ4neP/95n1ATROM//dVPlieJ3j/91U+WJ4neP/95n1ATROM//dVPlieJ3j8AAAAAAAAAAAAAAAAAAAAA/dVPlieJ3j8AAAAAAADw//95n1ATRNM/AAAAAAAA8P8AAAAAAADw/wAAAAAAAPD/AAAAAAAA8P8AAAAAAAAAAAAAAAAAAAAAAAAAAAAAAAAAAAAAAADw/wAAAAAAAPD//3mfUBNE4z//eZ9QE0TjPwAAAAAAAAAA/3mfUBNE0z//eZ9QE0TTP/95n1ATRNM/AAAAAAAA8P8AAAAAAADw/wAAAAAAAPD/AAAAAAAA8P8AAAAAAAAAAA==\",\"dtype\":\"float64\",\"shape\":[50]}},\"selected\":{\"id\":\"42825\",\"type\":\"Selection\"},\"selection_policy\":{\"id\":\"42826\",\"type\":\"UnionRenderers\"}},\"id\":\"39864\",\"type\":\"ColumnDataSource\"}],\"root_ids\":[\"39697\"]},\"title\":\"Bokeh Application\",\"version\":\"1.4.0\"}};\n",
       "  var render_items = [{\"docid\":\"a4c9c9db-4758-4b0d-af1a-83aac9f7b141\",\"roots\":{\"39697\":\"6fdc193b-d0b4-4b11-90e5-00ecdf643629\"}}];\n",
       "  root.Bokeh.embed.embed_items_notebook(docs_json, render_items);\n",
       "\n",
       "  }\n",
       "  if (root.Bokeh !== undefined) {\n",
       "    embed_document(root);\n",
       "  } else {\n",
       "    var attempts = 0;\n",
       "    var timer = setInterval(function(root) {\n",
       "      if (root.Bokeh !== undefined) {\n",
       "        clearInterval(timer);\n",
       "        embed_document(root);\n",
       "      } else {\n",
       "        attempts++;\n",
       "        if (attempts > 100) {\n",
       "          clearInterval(timer);\n",
       "          console.log(\"Bokeh: ERROR: Unable to run BokehJS code because BokehJS library is missing\");\n",
       "        }\n",
       "      }\n",
       "    }, 10, root)\n",
       "  }\n",
       "})(window);"
      ],
      "application/vnd.bokehjs_exec.v0+json": ""
     },
     "metadata": {
      "application/vnd.bokehjs_exec.v0+json": {
       "id": "39697"
      }
     },
     "output_type": "display_data"
    }
   ],
   "source": [
    "from bokeh.plotting import figure, show, output_notebook\n",
    "output_notebook()\n",
    "\n",
    "p1 = figure(plot_width=800, plot_height=800)\n",
    "\n",
    "for x in range(100):\n",
    "    p1.quad(top=np.log10(histograms[x]), bottom=0, left=edges[x][:-1], right=edges[x][1:],\n",
    "         fill_color=colors[100], line_color=colors[50], alpha=0.05)\n",
    "    \n",
    "p1.quad(top=np.log10(hist_top), bottom=0, left=edge_top[:-1], right=edge_top[1:],\n",
    "         fill_color=colors[0], line_color=colors[0], alpha=1)\n",
    "\n",
    "p1.xaxis.axis_label = '-log10(p_value)'\n",
    "p1.yaxis.axis_label = 'log10(number of SNPs)'\n",
    "\n",
    "p1.xaxis.axis_label_text_font_size = \"15pt\"\n",
    "p1.xaxis.major_label_text_font_size = \"15pt\"\n",
    "p1.yaxis.axis_label_text_font_size = \"15pt\"\n",
    "p1.yaxis.major_label_text_font_size = \"15pt\"\n",
    "\n",
    "show(p1)"
   ]
  },
  {
   "cell_type": "code",
   "execution_count": 84,
   "metadata": {},
   "outputs": [],
   "source": [
    "p_all = []\n",
    "\n",
    "for p in p_values:\n",
    "    x = [float(i) for i in p]\n",
    "    x = -np.log10(x)\n",
    "    p_all.append(x)"
   ]
  },
  {
   "cell_type": "code",
   "execution_count": 86,
   "metadata": {},
   "outputs": [],
   "source": [
    "import itertools\n",
    "\n",
    "p_all = (list(itertools.chain.from_iterable(p_all)))"
   ]
  },
  {
   "cell_type": "code",
   "execution_count": 88,
   "metadata": {},
   "outputs": [
    {
     "data": {
      "text/plain": [
       "2.0322424168050146"
      ]
     },
     "execution_count": 88,
     "metadata": {},
     "output_type": "execute_result"
    }
   ],
   "source": [
    "np.percentile(p_all, 99)"
   ]
  },
  {
   "cell_type": "code",
   "execution_count": 92,
   "metadata": {},
   "outputs": [
    {
     "data": {
      "text/plain": [
       "2.0"
      ]
     },
     "execution_count": 92,
     "metadata": {},
     "output_type": "execute_result"
    }
   ],
   "source": [
    "-np.log10(0.01)"
   ]
  },
  {
   "cell_type": "code",
   "execution_count": 94,
   "metadata": {},
   "outputs": [
    {
     "data": {
      "text/plain": [
       "(627,)"
      ]
     },
     "execution_count": 94,
     "metadata": {},
     "output_type": "execute_result"
    }
   ],
   "source": [
    "y.shape"
   ]
  },
  {
   "cell_type": "code",
   "execution_count": 93,
   "metadata": {},
   "outputs": [
    {
     "data": {
      "text/plain": [
       "array([0.16746411])"
      ]
     },
     "execution_count": 93,
     "metadata": {},
     "output_type": "execute_result"
    }
   ],
   "source": [
    "np.sum(y > 2.03)/np.shape(y)"
   ]
  },
  {
   "cell_type": "code",
   "execution_count": null,
   "metadata": {},
   "outputs": [],
   "source": [
    "top_genes\n",
    "\n",
    "top = top.annotate_rows(\n",
    "                      all_gnomads_non_ref = hl.agg.filter((top.phenotypes.phenotype == 'gnomad'), hl.agg.count_where(top.GT.is_non_ref()))/185,\n",
    "                      all_gnomads_hom_var = hl.agg.filter((top.phenotypes.phenotype == 'gnomad'), hl.agg.count_where(top.GT.is_hom_var()))/185,\n",
    "                      controls_non_ref = hl.agg.filter((top.phenotypes.disease == 'NO'), hl.agg.count_where(top.GT.is_non_ref()))/53,\n",
    "                      controls_hom_var = hl.agg.filter((top.phenotypes.disease == 'NO'), hl.agg.count_where(top.GT.is_hom_var()))/53,\n",
    "                      gts_all_non_ref = hl.agg.filter((top.phenotypes.disease == 'YES'), hl.agg.count_where(top.GT.is_non_ref()))/130,\n",
    "                      gts_all_hom_var = hl.agg.filter((top.phenotypes.disease == 'YES'), hl.agg.count_where(top.GT.is_hom_var()))/130)\n",
    "\n",
    "# controls = 53 gts = 130 gnomad 185\n",
    "\n",
    "top = top.rows()\n",
    "\n",
    "top = top.to_pandas()\n",
    "\n",
    "top.to_csv('/net/archive/groups/plggneuromol/GTS-analysis/data/top-variants.csv')"
   ]
  },
  {
   "cell_type": "markdown",
   "metadata": {},
   "source": [
    "### For large families see if variants in additional genes segregate.\n",
    "Rule : at least 60% of individuals with GTS are non-ref and at less than 30% of controls are ref. CADD > 10\n"
   ]
  },
  {
   "cell_type": "code",
   "execution_count": 7,
   "metadata": {},
   "outputs": [
    {
     "name": "stdout",
     "output_type": "stream",
     "text": [
      "Defaulting to user installation because normal site-packages is not writeable\n",
      "Requirement already satisfied: openpyxl in /net/people/plggosborcz/.local/lib/python3.6/site-packages (3.0.3)\n",
      "Requirement already satisfied: et-xmlfile in /net/people/plggosborcz/.local/lib/python3.6/site-packages (from openpyxl) (1.0.1)\n",
      "Requirement already satisfied: jdcal in /net/people/plggosborcz/.local/lib/python3.6/site-packages (from openpyxl) (1.4.1)\n",
      "\u001b[33mWARNING: You are using pip version 20.0.2; however, version 21.1 is available.\n",
      "You should consider upgrading via the '/net/software/local/python/3.6.5/bin/python3.6 -m pip install --upgrade pip' command.\u001b[0m\n"
     ]
    }
   ],
   "source": [
    "# Install a pip package in the current Jupyter kernel :)\n",
    "import sys\n",
    "!{sys.executable} -m pip install openpyxl"
   ]
  },
  {
   "cell_type": "code",
   "execution_count": 9,
   "metadata": {},
   "outputs": [],
   "source": [
    "families = ['A','B', 'C', 'D', 'E', 'F', 'G', 'H', 'I', 'J', 'K', 'L', 'M', 'N', 'O', 'P', 'R', 'S', 'T', 'U', 'W', 'X', 'Y', 'Z']"
   ]
  },
  {
   "cell_type": "code",
   "execution_count": 10,
   "metadata": {},
   "outputs": [
    {
     "data": {
      "text/plain": [
       "(585211, 144)"
      ]
     },
     "execution_count": 10,
     "metadata": {},
     "output_type": "execute_result"
    }
   ],
   "source": [
    "mt_test.count()"
   ]
  },
  {
   "cell_type": "markdown",
   "metadata": {},
   "source": [
    "variants with CADD > 10 that occur in any of the larger families"
   ]
  },
  {
   "cell_type": "code",
   "execution_count": 11,
   "metadata": {},
   "outputs": [],
   "source": [
    "fams = mt_test.aggregate_cols(hl.agg.counter(mt_test.phenotypes.family))"
   ]
  },
  {
   "cell_type": "markdown",
   "metadata": {},
   "source": [
    "16 families with over 5 individuals are included:"
   ]
  },
  {
   "cell_type": "code",
   "execution_count": 12,
   "metadata": {},
   "outputs": [
    {
     "data": {
      "text/plain": [
       "['E',\n",
       " 'X',\n",
       " 'T',\n",
       " 'Y',\n",
       " 'J',\n",
       " 'U',\n",
       " 'F',\n",
       " 'A',\n",
       " 'I',\n",
       " 'B',\n",
       " 'C',\n",
       " 'H',\n",
       " 'W',\n",
       " 'R',\n",
       " 'D',\n",
       " 'S']"
      ]
     },
     "execution_count": 12,
     "metadata": {},
     "output_type": "execute_result"
    }
   ],
   "source": [
    "list(np.array(list(fams.keys()))[np.array(list(fams.values())) > 4])"
   ]
  },
  {
   "cell_type": "markdown",
   "metadata": {},
   "source": [
    "each of the families should have at least two individuals with tics or GTS:"
   ]
  },
  {
   "cell_type": "code",
   "execution_count": 13,
   "metadata": {},
   "outputs": [],
   "source": [
    "gts = mt_test.aggregate_cols(hl.agg.group_by(mt_test.phenotypes.family, hl.agg.counter(mt_test.phenotypes.disease)))"
   ]
  },
  {
   "cell_type": "code",
   "execution_count": 14,
   "metadata": {},
   "outputs": [],
   "source": [
    "gts = { your_key: gts[your_key] for your_key in list(np.array(list(fams.keys()))[np.array(list(fams.values())) > 4]) }"
   ]
  },
  {
   "cell_type": "code",
   "execution_count": 15,
   "metadata": {},
   "outputs": [
    {
     "data": {
      "text/plain": [
       "{'E': {'NO': 3, 'YES': 4},\n",
       " 'X': {'YES': 5},\n",
       " 'T': {'NO': 4, 'YES': 5},\n",
       " 'Y': {'NO': 2, 'YES': 6},\n",
       " 'J': {'NO': 2, 'YES': 3},\n",
       " 'U': {'NO': 1, 'YES': 4},\n",
       " 'F': {'NO': 3, 'YES': 8},\n",
       " 'A': {'NO': 3, 'YES': 4},\n",
       " 'I': {'NO': 2, 'YES': 4},\n",
       " 'B': {'NO': 3, 'YES': 4},\n",
       " 'C': {'NO': 3, 'YES': 6},\n",
       " 'H': {'NO': 1, 'YES': 5},\n",
       " 'W': {'NO': 6, 'YES': 8},\n",
       " 'R': {'NO': 2, 'YES': 4},\n",
       " 'D': {'NO': 3, 'YES': 4},\n",
       " 'S': {'NO': 2, 'YES': 4}}"
      ]
     },
     "execution_count": 15,
     "metadata": {},
     "output_type": "execute_result"
    }
   ],
   "source": [
    "gts"
   ]
  },
  {
   "cell_type": "markdown",
   "metadata": {},
   "source": [
    "### additionally we will remove families with only 1 or no controls : X, U, H"
   ]
  },
  {
   "cell_type": "code",
   "execution_count": 16,
   "metadata": {},
   "outputs": [],
   "source": [
    "fams_to_test = ['E', 'T', 'Y', 'J', 'F', 'A', 'I', 'B', 'C', 'W', 'R', 'D', 'S']"
   ]
  },
  {
   "cell_type": "code",
   "execution_count": 17,
   "metadata": {},
   "outputs": [],
   "source": [
    "genes = ['DCC', 'RBFOX', 'SLC30A9', 'DCAF4L1', 'SORCS3', 'KCNQ5', 'KCNQ-IT1', 'APOPT1', 'C14orf2', 'NAA11', 'NEGR1',\n",
    "        'CHADL', 'SOX5', 'PANK2', 'COL27A1', 'PDGFB', 'CELSR3', 'OPA1', 'FBN2', 'WWC1', 'NIPBL', \n",
    "             'FN1', 'FBN2', 'SLITRK1', 'SLITRK2', 'SLITRK3', 'SLITRK4', 'SLITRK5', 'SLITRK6', \n",
    "             'HDC', 'OPRK1', 'PCDH10', 'NTSR2', 'OPRK1', 'CHD8', 'SCUBE1', 'PNKD', 'CNTNAP2', 'MOG', \n",
    "             'DRD2', 'DRD3', 'DRD4', 'DRD5', 'DAT1', 'DBH', 'HTR2A', 'TPH2', 'EAAT1', 'SAPAP3',\n",
    "            'CTNNA3', 'NLGN4', 'FSCB', 'IMMP2L', 'NRXN1', 'AADAC', 'DBH', 'MAOA', 'HTR1A', 'HTR2C', 'SLC6A4',\n",
    "             'TPH2', 'COL27A1', '5-HTTLPR', 'EAAT1', 'COL8A1', 'KCNE1', 'KCNE2',\n",
    "         'RICTOR', 'WWC1', 'CELSR3, NIPBL', 'FN1', 'PNKD', 'CDH26', 'CADM2', 'OPCML', 'CDH9',\n",
    "         'NCAM2', 'CD47', 'CDH5', 'CADM4', 'C1QBP', 'CTTN', 'LSAMP',\n",
    "         'PKP4', 'PCDH1', 'CNTNAP2', 'MBP', 'GABBR2', 'GABBR2', 'GRIK4', 'NCR1', 'FLT3', 'IL12A', 'HDAC9',\n",
    "         'CD180', 'CDH26', 'NCAM2', 'NTM', 'ROBO2']"
   ]
  },
  {
   "cell_type": "code",
   "execution_count": 87,
   "metadata": {},
   "outputs": [],
   "source": [
    "mt = hl.read_matrix_table('/net/archive/groups/plggneuromol/GTS-analysis/data/mt_test_10.mt')"
   ]
  },
  {
   "cell_type": "code",
   "execution_count": 88,
   "metadata": {},
   "outputs": [
    {
     "data": {
      "text/plain": [
       "(585211, 144)"
      ]
     },
     "execution_count": 88,
     "metadata": {},
     "output_type": "execute_result"
    }
   ],
   "source": [
    "mt.count()"
   ]
  },
  {
   "cell_type": "code",
   "execution_count": 89,
   "metadata": {},
   "outputs": [],
   "source": [
    "mt = mt.filter_rows(hl.any(lambda x: hl.literal(genes).contains(x), mt.nearest_genes_20kb))\n",
    "mt = mt.filter_rows(hl.agg.any(mt.GT.is_non_ref()))"
   ]
  },
  {
   "cell_type": "code",
   "execution_count": 90,
   "metadata": {},
   "outputs": [
    {
     "name": "stderr",
     "output_type": "stream",
     "text": [
      "2021-04-28 20:56:41 Hail: INFO: wrote matrix table with 5689 rows and 144 columns in 6622 partitions to /net/archive/groups/plggneuromol/GTS-analysis/data/mt_86_genes_cadd_10.mt\n",
      "    Total size: 6.83 MiB\n",
      "    * Rows/entries: 6.83 MiB\n",
      "    * Columns: 1.98 KiB\n",
      "    * Globals: 11.00 B\n",
      "    * Smallest partition: 0 rows (20.00 B)\n",
      "    * Largest partition:  220 rows (284.24 KiB)\n"
     ]
    },
    {
     "data": {
      "text/plain": [
       "<hail.matrixtable.MatrixTable at 0x2ba2e1e50978>"
      ]
     },
     "execution_count": 90,
     "metadata": {},
     "output_type": "execute_result"
    }
   ],
   "source": [
    "mt.checkpoint('/net/archive/groups/plggneuromol/GTS-analysis/data/mt_86_genes_cadd_10.mt')"
   ]
  },
  {
   "cell_type": "code",
   "execution_count": 91,
   "metadata": {},
   "outputs": [
    {
     "data": {
      "text/plain": [
       "(5689, 144)"
      ]
     },
     "execution_count": 91,
     "metadata": {},
     "output_type": "execute_result"
    }
   ],
   "source": [
    "mt.count()"
   ]
  },
  {
   "cell_type": "code",
   "execution_count": 94,
   "metadata": {},
   "outputs": [],
   "source": [
    "mt = mt.filter_cols(hl.set(fams_to_test).contains(mt.phenotypes.family))\n",
    "mt = mt.filter_rows(hl.agg.any(mt.GT.is_non_ref()))"
   ]
  },
  {
   "cell_type": "code",
   "execution_count": 95,
   "metadata": {},
   "outputs": [
    {
     "name": "stderr",
     "output_type": "stream",
     "text": [
      "2021-04-28 21:03:03 Hail: INFO: wrote matrix table with 4954 rows and 102 columns in 6622 partitions to /net/archive/groups/plggneuromol/GTS-analysis/data/mt_86_genes_cadd_10_fams.mt\n",
      "    Total size: 4.70 MiB\n",
      "    * Rows/entries: 4.70 MiB\n",
      "    * Columns: 1.47 KiB\n",
      "    * Globals: 11.00 B\n",
      "    * Smallest partition: 0 rows (20.00 B)\n",
      "    * Largest partition:  187 rows (194.18 KiB)\n"
     ]
    },
    {
     "data": {
      "text/plain": [
       "<hail.matrixtable.MatrixTable at 0x2ba2e1a855c0>"
      ]
     },
     "execution_count": 95,
     "metadata": {},
     "output_type": "execute_result"
    }
   ],
   "source": [
    "mt.checkpoint('/net/archive/groups/plggneuromol/GTS-analysis/data/mt_86_genes_cadd_10_fams.mt')"
   ]
  },
  {
   "cell_type": "code",
   "execution_count": 18,
   "metadata": {},
   "outputs": [],
   "source": [
    "mt = hl.read_matrix_table('/net/archive/groups/plggneuromol/GTS-analysis/data/mt_86_genes_cadd_10_fams.mt')"
   ]
  },
  {
   "cell_type": "code",
   "execution_count": 19,
   "metadata": {},
   "outputs": [
    {
     "name": "stderr",
     "output_type": "stream",
     "text": [
      "/net/software/local/python/3.6.5/lib/python3.6/site-packages/ipykernel_launcher.py:11: DeprecationWarning: Call to deprecated function (or staticmethod) cond. (Replaced by hl.if_else) -- Deprecated since version 0.2.59.\n",
      "  # This is added back by InteractiveShellApp.init_path()\n",
      "/net/software/local/python/3.6.5/lib/python3.6/site-packages/ipykernel_launcher.py:14: DeprecationWarning: Call to deprecated function (or staticmethod) cond. (Replaced by hl.if_else) -- Deprecated since version 0.2.59.\n",
      "  \n",
      "/net/software/local/python/3.6.5/lib/python3.6/site-packages/ipykernel_launcher.py:20: DeprecationWarning: Call to deprecated function (or staticmethod) cond. (Replaced by hl.if_else) -- Deprecated since version 0.2.59.\n",
      "/net/software/local/python/3.6.5/lib/python3.6/site-packages/ipykernel_launcher.py:23: DeprecationWarning: Call to deprecated function (or staticmethod) cond. (Replaced by hl.if_else) -- Deprecated since version 0.2.59.\n",
      "/net/software/local/python/3.6.5/lib/python3.6/site-packages/ipykernel_launcher.py:26: DeprecationWarning: Call to deprecated function (or staticmethod) cond. (Replaced by hl.if_else) -- Deprecated since version 0.2.59.\n",
      "/net/software/local/python/3.6.5/lib/python3.6/site-packages/ipykernel_launcher.py:29: DeprecationWarning: Call to deprecated function (or staticmethod) cond. (Replaced by hl.if_else) -- Deprecated since version 0.2.59.\n",
      "2021-04-28 22:40:36 Hail: INFO: wrote matrix table with 16233065 rows and 185 columns in 1604 partitions to /net/archive/groups/plggneuromol/GTS-analysis/data/GTS-with-pheno-all.mt_all.mt\n",
      "    Total size: 24.23 GiB\n",
      "    * Rows/entries: 24.23 GiB\n",
      "    * Columns: 2.37 KiB\n",
      "    * Globals: 11.00 B\n",
      "    * Smallest partition: 0 rows (20.00 B)\n",
      "    * Largest partition:  19114 rows (40.31 MiB)\n"
     ]
    },
    {
     "data": {
      "text/plain": [
       "<hail.matrixtable.MatrixTable at 0x2b9b36304fd0>"
      ]
     },
     "execution_count": 19,
     "metadata": {},
     "output_type": "execute_result"
    }
   ],
   "source": [
    "mt_all = hl.read_matrix_table('/net/archive/groups/plggneuromol/GTS-analysis/data/GTS-with-pheno.mt')\n",
    "\n",
    "mt_all = mt_all.annotate_rows(cases_with_gts = hl.agg.group_by(mt_all.phenotypes.family, hl.agg.count_where(mt_all.phenotypes.disease == 'YES')),\n",
    "                      variants_with_gts = hl.agg.group_by((mt_all.phenotypes.family, mt_all.phenotypes.disease), hl.agg.count_where(mt_all.GT.is_non_ref())),\n",
    "                      carriers_in_families = hl.agg.group_by(mt_all.s, hl.agg.count_where(mt_all.GT.is_non_ref())),\n",
    "                      variants_in_sporadic_cases = hl.agg.group_by((mt_all.phenotypes.family, mt_all.phenotypes.disease), hl.agg.counter(mt_all.GT.is_non_ref()))\n",
    "                     )\n",
    "\n",
    "mt_all = mt_all.annotate_rows(sporadic_cases_non_refs = hl.cond(mt_all.variants_in_sporadic_cases[('.','YES')].contains(True), \n",
    "                                                                mt_all.variants_in_sporadic_cases[('.','YES')][True],\n",
    "                                                                0),\n",
    "                             sporadic_cases_refs = hl.cond(mt_all.variants_in_sporadic_cases[('.','YES')].contains(False), \n",
    "                                                                mt_all.variants_in_sporadic_cases[('.','YES')][False],\n",
    "                                                                0))\n",
    "\n",
    "mt_all = mt_all.annotate_rows(variants_in_familial = hl.agg.group_by((mt_all.phenotypes.disease), hl.agg.counter(mt_all.GT.is_non_ref())))\n",
    "\n",
    "mt_all = mt_all.annotate_rows(controls_non_refs = hl.cond(mt_all.variants_in_familial['NO'].contains(True), \n",
    "                                                                mt_all.variants_in_familial['NO'][True],\n",
    "                                                                0),\n",
    "                              controls_refs = hl.cond(mt_all.variants_in_familial['NO'].contains(False), \n",
    "                                                                mt_all.variants_in_familial['NO'][False],\n",
    "                                                                0),\n",
    "                              cases_non_refs = hl.cond(mt_all.variants_in_familial['YES'].contains(True), \n",
    "                                                                mt_all.variants_in_familial['YES'][True],\n",
    "                                                                0),\n",
    "                              cases_refs = hl.cond(mt_all.variants_in_familial['YES'].contains(False), \n",
    "                                                                mt_all.variants_in_familial['YES'][False],\n",
    "                                                                0))\n",
    "\n",
    "mt_all.checkpoint('/net/archive/groups/plggneuromol/GTS-analysis/data/GTS-with-pheno-all.mt_all.mt')"
   ]
  },
  {
   "cell_type": "code",
   "execution_count": 29,
   "metadata": {},
   "outputs": [],
   "source": [
    "fams = []\n",
    "for f in fams_to_test:\n",
    "    fam = mt.filter_cols(mt.phenotypes.family == f)\n",
    "    fam = fam.filter_rows((hl.agg.any(fam.GT.is_non_ref())))\n",
    "    fam = fam.annotate_rows(variants = hl.agg.group_by((fam.phenotypes.disease), hl.agg.count_where(fam.GT.is_non_ref())))\n",
    "    fam = fam.filter_rows(((fam.variants['NO']/gts[f]['NO']) < 0.2) & ((fam.variants['YES']/gts[f]['YES']) > 0.7))\n",
    "    fam = fam.annotate_rows(cases_refs = mt_all.index_rows(fam.row_key).cases_refs,\n",
    "                            cases_non_refs = mt_all.index_rows(fam.row_key).cases_non_refs,\n",
    "                            controls_refs = mt_all.index_rows(fam.row_key).controls_refs,\n",
    "                            controls_non_refs = mt_all.index_rows(fam.row_key).controls_non_refs)\n",
    "    fam = fam.filter_rows((fam.cases_non_refs/(fam.cases_refs + fam.cases_non_refs) > (fam.controls_non_refs/(fam.controls_refs + fam.controls_non_refs))))\n",
    "    fam = fam.filter_rows(fam.gnomad_v3.v3_nfe.AF < 0.05)\n",
    "    fam = fam.rows()\n",
    "    fam = fam.select(fam.rsid, fam.gnomad_v3.v3_nfe.AF, fam.gnomad_v3.v3_nfe.homozygote_count, fam.gnomad_v3.most_severe_consequence,\n",
    "                    fam.hpo, fam.cadd, fam.nearest_genes_20kb, fam.cases_refs, fam.cases_non_refs, fam.controls_refs, fam.controls_non_refs)\n",
    "    fam = fam.to_pandas()\n",
    "    fams.append(fam)\n",
    "    fam.to_csv('/net/archive/groups/plggneuromol/GTS-analysis/data/fam-analysis-'+f+'variants.csv')"
   ]
  },
  {
   "cell_type": "code",
   "execution_count": null,
   "metadata": {},
   "outputs": [],
   "source": []
  }
 ],
 "metadata": {
  "kernelspec": {
   "display_name": "Python 3",
   "language": "python",
   "name": "python3"
  },
  "language_info": {
   "codemirror_mode": {
    "name": "ipython",
    "version": 3
   },
   "file_extension": ".py",
   "mimetype": "text/x-python",
   "name": "python",
   "nbconvert_exporter": "python",
   "pygments_lexer": "ipython3",
   "version": "3.6.5"
  }
 },
 "nbformat": 4,
 "nbformat_minor": 2
}
