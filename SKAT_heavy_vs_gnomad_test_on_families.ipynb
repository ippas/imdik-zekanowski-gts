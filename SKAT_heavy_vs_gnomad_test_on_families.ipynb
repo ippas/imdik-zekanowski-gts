{
 "cells": [
  {
   "cell_type": "code",
   "execution_count": 1,
   "metadata": {
    "scrolled": true
   },
   "outputs": [
    {
     "data": {
      "text/html": [
       "<style>.container { width:100% !important; }</style>"
      ],
      "text/plain": [
       "<IPython.core.display.HTML object>"
      ]
     },
     "metadata": {},
     "output_type": "display_data"
    }
   ],
   "source": [
    "from IPython.display import display\n",
    "from IPython.display import HTML\n",
    "import IPython.core.display as di # Example: di.display_html('<h3>%s:</h3>' % str, raw=True)\n",
    "\n",
    "#This line will hide code by default when the notebook is exported as HTML\n",
    "#di.display_html('<script>jQuery(function() {if (jQuery(\"body.notebook_app\").length == 0) { jQuery(\".input_area\").toggle(); jQuery(\".prompt\").toggle();}});</script>', raw=True)\n",
    "\n",
    "display(HTML(\"<style>.container { width:100% !important; }</style>\"))"
   ]
  },
  {
   "cell_type": "code",
   "execution_count": 2,
   "metadata": {},
   "outputs": [
    {
     "name": "stderr",
     "output_type": "stream",
     "text": [
      "Running on Apache Spark version 2.4.3\n",
      "SparkUI available at http://p0341.prometheus:4040\n",
      "Welcome to\n",
      "     __  __     <>__\n",
      "    / /_/ /__  __/ /\n",
      "   / __  / _ `/ / /\n",
      "  /_/ /_/\\_,_/_/_/   version 0.2.30-2ae07d872f43\n",
      "LOGGING: writing to /net/archive/groups/plggneuromol/GTS-analysis/large_vcf_analysis/hail-20200225-1526-0.2.30-2ae07d872f43.log\n"
     ]
    }
   ],
   "source": [
    "import hail as hl\n",
    "hl.init(tmp_dir='/net/scratch/people/plggosborcz')"
   ]
  },
  {
   "cell_type": "code",
   "execution_count": 3,
   "metadata": {},
   "outputs": [
    {
     "data": {
      "text/html": [
       "\n",
       "    <div class=\"bk-root\">\n",
       "        <a href=\"https://bokeh.pydata.org\" target=\"_blank\" class=\"bk-logo bk-logo-small bk-logo-notebook\"></a>\n",
       "        <span id=\"1001\">Loading BokehJS ...</span>\n",
       "    </div>"
      ]
     },
     "metadata": {},
     "output_type": "display_data"
    },
    {
     "data": {
      "application/javascript": [
       "\n",
       "(function(root) {\n",
       "  function now() {\n",
       "    return new Date();\n",
       "  }\n",
       "\n",
       "  var force = true;\n",
       "\n",
       "  if (typeof root._bokeh_onload_callbacks === \"undefined\" || force === true) {\n",
       "    root._bokeh_onload_callbacks = [];\n",
       "    root._bokeh_is_loading = undefined;\n",
       "  }\n",
       "\n",
       "  var JS_MIME_TYPE = 'application/javascript';\n",
       "  var HTML_MIME_TYPE = 'text/html';\n",
       "  var EXEC_MIME_TYPE = 'application/vnd.bokehjs_exec.v0+json';\n",
       "  var CLASS_NAME = 'output_bokeh rendered_html';\n",
       "\n",
       "  /**\n",
       "   * Render data to the DOM node\n",
       "   */\n",
       "  function render(props, node) {\n",
       "    var script = document.createElement(\"script\");\n",
       "    node.appendChild(script);\n",
       "  }\n",
       "\n",
       "  /**\n",
       "   * Handle when an output is cleared or removed\n",
       "   */\n",
       "  function handleClearOutput(event, handle) {\n",
       "    var cell = handle.cell;\n",
       "\n",
       "    var id = cell.output_area._bokeh_element_id;\n",
       "    var server_id = cell.output_area._bokeh_server_id;\n",
       "    // Clean up Bokeh references\n",
       "    if (id != null && id in Bokeh.index) {\n",
       "      Bokeh.index[id].model.document.clear();\n",
       "      delete Bokeh.index[id];\n",
       "    }\n",
       "\n",
       "    if (server_id !== undefined) {\n",
       "      // Clean up Bokeh references\n",
       "      var cmd = \"from bokeh.io.state import curstate; print(curstate().uuid_to_server['\" + server_id + \"'].get_sessions()[0].document.roots[0]._id)\";\n",
       "      cell.notebook.kernel.execute(cmd, {\n",
       "        iopub: {\n",
       "          output: function(msg) {\n",
       "            var id = msg.content.text.trim();\n",
       "            if (id in Bokeh.index) {\n",
       "              Bokeh.index[id].model.document.clear();\n",
       "              delete Bokeh.index[id];\n",
       "            }\n",
       "          }\n",
       "        }\n",
       "      });\n",
       "      // Destroy server and session\n",
       "      var cmd = \"import bokeh.io.notebook as ion; ion.destroy_server('\" + server_id + \"')\";\n",
       "      cell.notebook.kernel.execute(cmd);\n",
       "    }\n",
       "  }\n",
       "\n",
       "  /**\n",
       "   * Handle when a new output is added\n",
       "   */\n",
       "  function handleAddOutput(event, handle) {\n",
       "    var output_area = handle.output_area;\n",
       "    var output = handle.output;\n",
       "\n",
       "    // limit handleAddOutput to display_data with EXEC_MIME_TYPE content only\n",
       "    if ((output.output_type != \"display_data\") || (!output.data.hasOwnProperty(EXEC_MIME_TYPE))) {\n",
       "      return\n",
       "    }\n",
       "\n",
       "    var toinsert = output_area.element.find(\".\" + CLASS_NAME.split(' ')[0]);\n",
       "\n",
       "    if (output.metadata[EXEC_MIME_TYPE][\"id\"] !== undefined) {\n",
       "      toinsert[toinsert.length - 1].firstChild.textContent = output.data[JS_MIME_TYPE];\n",
       "      // store reference to embed id on output_area\n",
       "      output_area._bokeh_element_id = output.metadata[EXEC_MIME_TYPE][\"id\"];\n",
       "    }\n",
       "    if (output.metadata[EXEC_MIME_TYPE][\"server_id\"] !== undefined) {\n",
       "      var bk_div = document.createElement(\"div\");\n",
       "      bk_div.innerHTML = output.data[HTML_MIME_TYPE];\n",
       "      var script_attrs = bk_div.children[0].attributes;\n",
       "      for (var i = 0; i < script_attrs.length; i++) {\n",
       "        toinsert[toinsert.length - 1].firstChild.setAttribute(script_attrs[i].name, script_attrs[i].value);\n",
       "      }\n",
       "      // store reference to server id on output_area\n",
       "      output_area._bokeh_server_id = output.metadata[EXEC_MIME_TYPE][\"server_id\"];\n",
       "    }\n",
       "  }\n",
       "\n",
       "  function register_renderer(events, OutputArea) {\n",
       "\n",
       "    function append_mime(data, metadata, element) {\n",
       "      // create a DOM node to render to\n",
       "      var toinsert = this.create_output_subarea(\n",
       "        metadata,\n",
       "        CLASS_NAME,\n",
       "        EXEC_MIME_TYPE\n",
       "      );\n",
       "      this.keyboard_manager.register_events(toinsert);\n",
       "      // Render to node\n",
       "      var props = {data: data, metadata: metadata[EXEC_MIME_TYPE]};\n",
       "      render(props, toinsert[toinsert.length - 1]);\n",
       "      element.append(toinsert);\n",
       "      return toinsert\n",
       "    }\n",
       "\n",
       "    /* Handle when an output is cleared or removed */\n",
       "    events.on('clear_output.CodeCell', handleClearOutput);\n",
       "    events.on('delete.Cell', handleClearOutput);\n",
       "\n",
       "    /* Handle when a new output is added */\n",
       "    events.on('output_added.OutputArea', handleAddOutput);\n",
       "\n",
       "    /**\n",
       "     * Register the mime type and append_mime function with output_area\n",
       "     */\n",
       "    OutputArea.prototype.register_mime_type(EXEC_MIME_TYPE, append_mime, {\n",
       "      /* Is output safe? */\n",
       "      safe: true,\n",
       "      /* Index of renderer in `output_area.display_order` */\n",
       "      index: 0\n",
       "    });\n",
       "  }\n",
       "\n",
       "  // register the mime type if in Jupyter Notebook environment and previously unregistered\n",
       "  if (root.Jupyter !== undefined) {\n",
       "    var events = require('base/js/events');\n",
       "    var OutputArea = require('notebook/js/outputarea').OutputArea;\n",
       "\n",
       "    if (OutputArea.prototype.mime_types().indexOf(EXEC_MIME_TYPE) == -1) {\n",
       "      register_renderer(events, OutputArea);\n",
       "    }\n",
       "  }\n",
       "\n",
       "  \n",
       "  if (typeof (root._bokeh_timeout) === \"undefined\" || force === true) {\n",
       "    root._bokeh_timeout = Date.now() + 5000;\n",
       "    root._bokeh_failed_load = false;\n",
       "  }\n",
       "\n",
       "  var NB_LOAD_WARNING = {'data': {'text/html':\n",
       "     \"<div style='background-color: #fdd'>\\n\"+\n",
       "     \"<p>\\n\"+\n",
       "     \"BokehJS does not appear to have successfully loaded. If loading BokehJS from CDN, this \\n\"+\n",
       "     \"may be due to a slow or bad network connection. Possible fixes:\\n\"+\n",
       "     \"</p>\\n\"+\n",
       "     \"<ul>\\n\"+\n",
       "     \"<li>re-rerun `output_notebook()` to attempt to load from CDN again, or</li>\\n\"+\n",
       "     \"<li>use INLINE resources instead, as so:</li>\\n\"+\n",
       "     \"</ul>\\n\"+\n",
       "     \"<code>\\n\"+\n",
       "     \"from bokeh.resources import INLINE\\n\"+\n",
       "     \"output_notebook(resources=INLINE)\\n\"+\n",
       "     \"</code>\\n\"+\n",
       "     \"</div>\"}};\n",
       "\n",
       "  function display_loaded() {\n",
       "    var el = document.getElementById(\"1001\");\n",
       "    if (el != null) {\n",
       "      el.textContent = \"BokehJS is loading...\";\n",
       "    }\n",
       "    if (root.Bokeh !== undefined) {\n",
       "      if (el != null) {\n",
       "        el.textContent = \"BokehJS \" + root.Bokeh.version + \" successfully loaded.\";\n",
       "      }\n",
       "    } else if (Date.now() < root._bokeh_timeout) {\n",
       "      setTimeout(display_loaded, 100)\n",
       "    }\n",
       "  }\n",
       "\n",
       "\n",
       "  function run_callbacks() {\n",
       "    try {\n",
       "      root._bokeh_onload_callbacks.forEach(function(callback) {\n",
       "        if (callback != null)\n",
       "          callback();\n",
       "      });\n",
       "    } finally {\n",
       "      delete root._bokeh_onload_callbacks\n",
       "    }\n",
       "    console.debug(\"Bokeh: all callbacks have finished\");\n",
       "  }\n",
       "\n",
       "  function load_libs(css_urls, js_urls, callback) {\n",
       "    if (css_urls == null) css_urls = [];\n",
       "    if (js_urls == null) js_urls = [];\n",
       "\n",
       "    root._bokeh_onload_callbacks.push(callback);\n",
       "    if (root._bokeh_is_loading > 0) {\n",
       "      console.debug(\"Bokeh: BokehJS is being loaded, scheduling callback at\", now());\n",
       "      return null;\n",
       "    }\n",
       "    if (js_urls == null || js_urls.length === 0) {\n",
       "      run_callbacks();\n",
       "      return null;\n",
       "    }\n",
       "    console.debug(\"Bokeh: BokehJS not loaded, scheduling load and callback at\", now());\n",
       "    root._bokeh_is_loading = css_urls.length + js_urls.length;\n",
       "\n",
       "    function on_load() {\n",
       "      root._bokeh_is_loading--;\n",
       "      if (root._bokeh_is_loading === 0) {\n",
       "        console.debug(\"Bokeh: all BokehJS libraries/stylesheets loaded\");\n",
       "        run_callbacks()\n",
       "      }\n",
       "    }\n",
       "\n",
       "    function on_error() {\n",
       "      console.error(\"failed to load \" + url);\n",
       "    }\n",
       "\n",
       "    for (var i = 0; i < css_urls.length; i++) {\n",
       "      var url = css_urls[i];\n",
       "      const element = document.createElement(\"link\");\n",
       "      element.onload = on_load;\n",
       "      element.onerror = on_error;\n",
       "      element.rel = \"stylesheet\";\n",
       "      element.type = \"text/css\";\n",
       "      element.href = url;\n",
       "      console.debug(\"Bokeh: injecting link tag for BokehJS stylesheet: \", url);\n",
       "      document.body.appendChild(element);\n",
       "    }\n",
       "\n",
       "    for (var i = 0; i < js_urls.length; i++) {\n",
       "      var url = js_urls[i];\n",
       "      var element = document.createElement('script');\n",
       "      element.onload = on_load;\n",
       "      element.onerror = on_error;\n",
       "      element.async = false;\n",
       "      element.src = url;\n",
       "      console.debug(\"Bokeh: injecting script tag for BokehJS library: \", url);\n",
       "      document.head.appendChild(element);\n",
       "    }\n",
       "  };var element = document.getElementById(\"1001\");\n",
       "  if (element == null) {\n",
       "    console.error(\"Bokeh: ERROR: autoload.js configured with elementid '1001' but no matching script tag was found. \")\n",
       "    return false;\n",
       "  }\n",
       "\n",
       "  function inject_raw_css(css) {\n",
       "    const element = document.createElement(\"style\");\n",
       "    element.appendChild(document.createTextNode(css));\n",
       "    document.body.appendChild(element);\n",
       "  }\n",
       "\n",
       "  var js_urls = [\"https://cdn.pydata.org/bokeh/release/bokeh-1.2.0.min.js\", \"https://cdn.pydata.org/bokeh/release/bokeh-widgets-1.2.0.min.js\", \"https://cdn.pydata.org/bokeh/release/bokeh-tables-1.2.0.min.js\", \"https://cdn.pydata.org/bokeh/release/bokeh-gl-1.2.0.min.js\"];\n",
       "  var css_urls = [\"https://cdn.pydata.org/bokeh/release/bokeh-1.2.0.min.css\", \"https://cdn.pydata.org/bokeh/release/bokeh-widgets-1.2.0.min.css\", \"https://cdn.pydata.org/bokeh/release/bokeh-tables-1.2.0.min.css\"];\n",
       "\n",
       "  var inline_js = [\n",
       "    function(Bokeh) {\n",
       "      Bokeh.set_log_level(\"info\");\n",
       "    },\n",
       "    \n",
       "    function(Bokeh) {\n",
       "      \n",
       "    },\n",
       "    function(Bokeh) {} // ensure no trailing comma for IE\n",
       "  ];\n",
       "\n",
       "  function run_inline_js() {\n",
       "    \n",
       "    if ((root.Bokeh !== undefined) || (force === true)) {\n",
       "      for (var i = 0; i < inline_js.length; i++) {\n",
       "        inline_js[i].call(root, root.Bokeh);\n",
       "      }if (force === true) {\n",
       "        display_loaded();\n",
       "      }} else if (Date.now() < root._bokeh_timeout) {\n",
       "      setTimeout(run_inline_js, 100);\n",
       "    } else if (!root._bokeh_failed_load) {\n",
       "      console.log(\"Bokeh: BokehJS failed to load within specified timeout.\");\n",
       "      root._bokeh_failed_load = true;\n",
       "    } else if (force !== true) {\n",
       "      var cell = $(document.getElementById(\"1001\")).parents('.cell').data().cell;\n",
       "      cell.output_area.append_execute_result(NB_LOAD_WARNING)\n",
       "    }\n",
       "\n",
       "  }\n",
       "\n",
       "  if (root._bokeh_is_loading === 0) {\n",
       "    console.debug(\"Bokeh: BokehJS loaded, going straight to plotting\");\n",
       "    run_inline_js();\n",
       "  } else {\n",
       "    load_libs(css_urls, js_urls, function() {\n",
       "      console.debug(\"Bokeh: BokehJS plotting callback run at\", now());\n",
       "      run_inline_js();\n",
       "    });\n",
       "  }\n",
       "}(window));"
      ],
      "application/vnd.bokehjs_load.v0+json": "\n(function(root) {\n  function now() {\n    return new Date();\n  }\n\n  var force = true;\n\n  if (typeof root._bokeh_onload_callbacks === \"undefined\" || force === true) {\n    root._bokeh_onload_callbacks = [];\n    root._bokeh_is_loading = undefined;\n  }\n\n  \n\n  \n  if (typeof (root._bokeh_timeout) === \"undefined\" || force === true) {\n    root._bokeh_timeout = Date.now() + 5000;\n    root._bokeh_failed_load = false;\n  }\n\n  var NB_LOAD_WARNING = {'data': {'text/html':\n     \"<div style='background-color: #fdd'>\\n\"+\n     \"<p>\\n\"+\n     \"BokehJS does not appear to have successfully loaded. If loading BokehJS from CDN, this \\n\"+\n     \"may be due to a slow or bad network connection. Possible fixes:\\n\"+\n     \"</p>\\n\"+\n     \"<ul>\\n\"+\n     \"<li>re-rerun `output_notebook()` to attempt to load from CDN again, or</li>\\n\"+\n     \"<li>use INLINE resources instead, as so:</li>\\n\"+\n     \"</ul>\\n\"+\n     \"<code>\\n\"+\n     \"from bokeh.resources import INLINE\\n\"+\n     \"output_notebook(resources=INLINE)\\n\"+\n     \"</code>\\n\"+\n     \"</div>\"}};\n\n  function display_loaded() {\n    var el = document.getElementById(\"1001\");\n    if (el != null) {\n      el.textContent = \"BokehJS is loading...\";\n    }\n    if (root.Bokeh !== undefined) {\n      if (el != null) {\n        el.textContent = \"BokehJS \" + root.Bokeh.version + \" successfully loaded.\";\n      }\n    } else if (Date.now() < root._bokeh_timeout) {\n      setTimeout(display_loaded, 100)\n    }\n  }\n\n\n  function run_callbacks() {\n    try {\n      root._bokeh_onload_callbacks.forEach(function(callback) {\n        if (callback != null)\n          callback();\n      });\n    } finally {\n      delete root._bokeh_onload_callbacks\n    }\n    console.debug(\"Bokeh: all callbacks have finished\");\n  }\n\n  function load_libs(css_urls, js_urls, callback) {\n    if (css_urls == null) css_urls = [];\n    if (js_urls == null) js_urls = [];\n\n    root._bokeh_onload_callbacks.push(callback);\n    if (root._bokeh_is_loading > 0) {\n      console.debug(\"Bokeh: BokehJS is being loaded, scheduling callback at\", now());\n      return null;\n    }\n    if (js_urls == null || js_urls.length === 0) {\n      run_callbacks();\n      return null;\n    }\n    console.debug(\"Bokeh: BokehJS not loaded, scheduling load and callback at\", now());\n    root._bokeh_is_loading = css_urls.length + js_urls.length;\n\n    function on_load() {\n      root._bokeh_is_loading--;\n      if (root._bokeh_is_loading === 0) {\n        console.debug(\"Bokeh: all BokehJS libraries/stylesheets loaded\");\n        run_callbacks()\n      }\n    }\n\n    function on_error() {\n      console.error(\"failed to load \" + url);\n    }\n\n    for (var i = 0; i < css_urls.length; i++) {\n      var url = css_urls[i];\n      const element = document.createElement(\"link\");\n      element.onload = on_load;\n      element.onerror = on_error;\n      element.rel = \"stylesheet\";\n      element.type = \"text/css\";\n      element.href = url;\n      console.debug(\"Bokeh: injecting link tag for BokehJS stylesheet: \", url);\n      document.body.appendChild(element);\n    }\n\n    for (var i = 0; i < js_urls.length; i++) {\n      var url = js_urls[i];\n      var element = document.createElement('script');\n      element.onload = on_load;\n      element.onerror = on_error;\n      element.async = false;\n      element.src = url;\n      console.debug(\"Bokeh: injecting script tag for BokehJS library: \", url);\n      document.head.appendChild(element);\n    }\n  };var element = document.getElementById(\"1001\");\n  if (element == null) {\n    console.error(\"Bokeh: ERROR: autoload.js configured with elementid '1001' but no matching script tag was found. \")\n    return false;\n  }\n\n  function inject_raw_css(css) {\n    const element = document.createElement(\"style\");\n    element.appendChild(document.createTextNode(css));\n    document.body.appendChild(element);\n  }\n\n  var js_urls = [\"https://cdn.pydata.org/bokeh/release/bokeh-1.2.0.min.js\", \"https://cdn.pydata.org/bokeh/release/bokeh-widgets-1.2.0.min.js\", \"https://cdn.pydata.org/bokeh/release/bokeh-tables-1.2.0.min.js\", \"https://cdn.pydata.org/bokeh/release/bokeh-gl-1.2.0.min.js\"];\n  var css_urls = [\"https://cdn.pydata.org/bokeh/release/bokeh-1.2.0.min.css\", \"https://cdn.pydata.org/bokeh/release/bokeh-widgets-1.2.0.min.css\", \"https://cdn.pydata.org/bokeh/release/bokeh-tables-1.2.0.min.css\"];\n\n  var inline_js = [\n    function(Bokeh) {\n      Bokeh.set_log_level(\"info\");\n    },\n    \n    function(Bokeh) {\n      \n    },\n    function(Bokeh) {} // ensure no trailing comma for IE\n  ];\n\n  function run_inline_js() {\n    \n    if ((root.Bokeh !== undefined) || (force === true)) {\n      for (var i = 0; i < inline_js.length; i++) {\n        inline_js[i].call(root, root.Bokeh);\n      }if (force === true) {\n        display_loaded();\n      }} else if (Date.now() < root._bokeh_timeout) {\n      setTimeout(run_inline_js, 100);\n    } else if (!root._bokeh_failed_load) {\n      console.log(\"Bokeh: BokehJS failed to load within specified timeout.\");\n      root._bokeh_failed_load = true;\n    } else if (force !== true) {\n      var cell = $(document.getElementById(\"1001\")).parents('.cell').data().cell;\n      cell.output_area.append_execute_result(NB_LOAD_WARNING)\n    }\n\n  }\n\n  if (root._bokeh_is_loading === 0) {\n    console.debug(\"Bokeh: BokehJS loaded, going straight to plotting\");\n    run_inline_js();\n  } else {\n    load_libs(css_urls, js_urls, function() {\n      console.debug(\"Bokeh: BokehJS plotting callback run at\", now());\n      run_inline_js();\n    });\n  }\n}(window));"
     },
     "metadata": {},
     "output_type": "display_data"
    }
   ],
   "source": [
    "from hail.plot import show\n",
    "from pprint import pprint\n",
    "from bokeh.layouts import gridplot\n",
    "hl.plot.output_notebook()\n",
    "\n",
    "\n",
    "import numpy as np\n",
    "import pandas as pd\n",
    "from functools import reduce\n",
    "from itertools import chain\n"
   ]
  },
  {
   "cell_type": "code",
   "execution_count": 4,
   "metadata": {},
   "outputs": [],
   "source": [
    "## kinship cut-off 0.125 - fist compare gnomads with heavy tics, then test it on families.\n",
    "\n",
    "def remove_sex_chrom(mtx):\n",
    "    mtx = mtx.filter_rows((mtx.locus.contig != \"chrX\") & (mtx.locus.contig != \"chrY\"))\n",
    "    return(mtx)\n",
    "\n",
    "\n",
    "def remove_related(mtx, mtx_subset):\n",
    "    pc_rel = hl.pc_relate(mtx_subset.GT, 0.001, k=2, statistics='kin')\n",
    "    pairs = pc_rel.filter(pc_rel['kin'] > 0.125)\n",
    "    related_samples_to_remove = hl.maximal_independent_set(pairs.i, pairs.j, keep=False)\n",
    "    \n",
    "    related_samples_to_remove = related_samples_to_remove.annotate(s = related_samples_to_remove.node.s)\n",
    "    related_samples_to_remove = related_samples_to_remove.key_by('s')\n",
    "    \n",
    "    mtx = mtx.key_cols_by()\n",
    "    mtx = mtx.filter_cols(hl.is_defined(related_samples_to_remove[mtx.s]), keep=False)\n",
    "    mtx = mtx.key_cols_by(mtx.s)\n",
    "    \n",
    "    mtx_subset = mtx_subset.filter_cols(hl.is_defined(related_samples_to_remove[mtx_subset.s]), keep=False)\n",
    "    \n",
    "    return(mtx, mtx_subset)\n",
    "\n",
    "\n",
    "def run_pca(mtx, mtx_subset):\n",
    "    eigenvalues, pcs, _ = hl.hwe_normalized_pca(mtx_subset.GT)\n",
    "    mtx = mtx.annotate_cols(scores = pcs[mtx.s].scores)\n",
    "    p = hl.plot.scatter(mtx.scores[0],\n",
    "                    mtx.scores[1],\n",
    "                    label=mtx.phenotypes.family,\n",
    "                    title='PCA', xlabel='PC1', ylabel='PC2')\n",
    "\n",
    "    p2 = hl.plot.scatter(mtx.scores[2],\n",
    "                        mtx.scores[3],\n",
    "                        label=mtx.phenotypes.family,\n",
    "                        title='PCA', xlabel='PC3', ylabel='PC4')\n",
    "\n",
    "    p3 = hl.plot.scatter(mtx.scores[4],\n",
    "                        mtx.scores[5],\n",
    "                        label=mtx.phenotypes.family,\n",
    "                        title='PCA', xlabel='PC5', ylabel='PC6')\n",
    "    show(p)\n",
    "    show(p2)\n",
    "    show(p3)\n",
    "    \n",
    "    return(mtx)\n",
    "\n",
    "\n",
    "\n",
    "def run_skat_lin(mtx, gene_list, pcs): #does not have a family covariate\n",
    "    \n",
    "    mtx = mtx.filter_rows(hl.any(lambda x: hl.literal(gene_list).contains(x), mtx.nearest_genes_20kb))\n",
    "    mtx = mtx.filter_rows(hl.agg.any(mtx.GT.is_non_ref()))\n",
    "    mtx = mtx.explode_rows(mtx.nearest_genes_20kb)\n",
    "    mtx = mtx.filter_rows(hl.literal(gene_list).contains(mtx.nearest_genes_20kb))\n",
    "    \n",
    "    scores = [mtx.scores[x] for x in list(range(pcs))]\n",
    "                          \n",
    "    \n",
    "    skat_table = hl.skat(key_expr=mtx.nearest_genes_20kb,\n",
    "                         weight_expr=mtx.cadd,\n",
    "                         y=mtx.category,\n",
    "                         x=mtx.GT.n_alt_alleles(),\n",
    "                         covariates=[1] + scores,\n",
    "                         max_size = 4000)\n",
    "    \n",
    "    genes_result = skat_table.filter(skat_table.p_value < 0.05/len(gene_list)).id.collect() \n",
    "\n",
    "    skat_table.filter(skat_table.p_value < 0.002).show(20)\n",
    "\n",
    "    skat_table = skat_table.annotate(label = hl.literal(genes).contains(skat_table.id))\n",
    "\n",
    "    qq_plot = hl.plot.qq(skat_table.p_value,\n",
    "                                         label = skat_table.label,\n",
    "                                         n_divisions = len(gene_list))\n",
    "    show(qq_plot)\n",
    "    \n",
    "    return(skat_table, genes_result, qq_plot)\n",
    "\n",
    "\n",
    "def run_skat_log(mtx, gene_list, pcs): #does not have a family covariate\n",
    "    \n",
    "    mtx = mtx.filter_rows(hl.any(lambda x: hl.literal(gene_list).contains(x), mtx.nearest_genes_20kb))\n",
    "    mtx = mtx.filter_rows(hl.agg.any(mtx.GT.is_non_ref()))\n",
    "    mtx = mtx.explode_rows(mtx.nearest_genes_20kb)\n",
    "    mtx = mtx.filter_rows(hl.literal(gene_list).contains(mtx.nearest_genes_20kb))\n",
    "    \n",
    "    scores = [mtx.scores[x] for x in list(range(pcs))]\n",
    "                          \n",
    "    \n",
    "    skat_table = hl.skat(key_expr=mtx.nearest_genes_20kb,\n",
    "                         weight_expr=mtx.cadd,\n",
    "                         y=mtx.category,\n",
    "                         x=mtx.GT.n_alt_alleles(),\n",
    "                         covariates=[1] + scores,\n",
    "                         max_size = 2200,\n",
    "                        logistic = True)\n",
    "    \n",
    "    genes_result = skat_table.filter(skat_table.p_value < 0.05/len(gene_list)).id.collect() \n",
    "\n",
    "    skat_table.filter(skat_table.p_value < 0.002).show(20)\n",
    "\n",
    "    skat_table = skat_table.annotate(label = hl.literal(genes).contains(skat_table.id))\n",
    "\n",
    "    qq_plot = hl.plot.qq(skat_table.p_value,\n",
    "                                         label = skat_table.label,\n",
    "                                         n_divisions = len(gene_list))\n",
    "    show(qq_plot)\n",
    "    \n",
    "    return(skat_table, genes_result, qq_plot)\n",
    "\n",
    "\n",
    "\n",
    "def full_skat_lin(mtx, mtx_subset, gene_list, pcs):\n",
    "    \n",
    "    mtx = remove_sex_chrom(mtx)\n",
    "    mtx_subset = remove_sex_chrom(mtx_subset)\n",
    "    \n",
    "    mtx, mtx_subset = remove_related(mtx, mtx_subset)\n",
    "    \n",
    "    mtx = run_pca(mtx, mtx_subset) #this matrix will be returned, so I can do SKAT with other list and parameters\n",
    "    \n",
    "    skat_table, genes_result, qq_plot = run_skat_lin(mtx, gene_list, pcs)\n",
    "    \n",
    "    return(mtx, skat_table, genes_result, qq_plot)\n",
    "\n",
    "\n",
    "def full_skat_log(mtx, mtx_subset, gene_list, pcs):\n",
    "    \n",
    "    mtx = remove_sex_chrom(mtx)\n",
    "    mtx_subset = remove_sex_chrom(mtx_subset)\n",
    "    \n",
    "    mtx, mtx_subset = remove_related(mtx, mtx_subset)\n",
    "    \n",
    "    mtx = run_pca(mtx, mtx_subset) #this matrix will be returned, so I can do SKAT with other list and parameters\n",
    "    \n",
    "    skat_table, genes_result, qq_plot = run_skat_log(mtx, gene_list, pcs)\n",
    "    \n",
    "    return(mtx, skat_table, genes_result, qq_plot)"
   ]
  },
  {
   "cell_type": "markdown",
   "metadata": {},
   "source": [
    "# import large and smaller matrix table"
   ]
  },
  {
   "cell_type": "code",
   "execution_count": 5,
   "metadata": {},
   "outputs": [],
   "source": [
    "mt = hl.read_matrix_table('/net/archive/groups/plggneuromol/GTS-analysis/large_vcf_filtering_annotation/step6_output.mt')\n",
    "mt = mt.filter_rows(mt.cadd > 0) # this is so I don't do too many tests"
   ]
  },
  {
   "cell_type": "code",
   "execution_count": 6,
   "metadata": {},
   "outputs": [],
   "source": [
    "mt_subset = hl.read_matrix_table('/net/archive/groups/plggneuromol/GTS-analysis/large_vcf_analysis/mt_subset_for_tests.mt')\n",
    "mt_subset = mt_subset.filter_rows(mt_subset.cadd > 0) # this is so I don't do too many tests"
   ]
  },
  {
   "cell_type": "markdown",
   "metadata": {},
   "source": [
    "## prepare the gene lists"
   ]
  },
  {
   "cell_type": "markdown",
   "metadata": {},
   "source": [
    "### get various HPO gene lists from related phenotypes"
   ]
  },
  {
   "cell_type": "code",
   "execution_count": 7,
   "metadata": {},
   "outputs": [
    {
     "name": "stderr",
     "output_type": "stream",
     "text": [
      "2020-02-25 15:26:06 Hail: INFO: Reading table with no type imputation\n",
      "  Loading column 'GENE_ENTREZ_ID' as type 'str' (type not specified)\n",
      "  Loading column 'GENE_SYMBOL' as type 'str' (type not specified)\n",
      "  Loading column 'DISEASE_IDS' as type 'str' (type not specified)\n",
      "\n",
      "2020-02-25 15:26:08 Hail: INFO: Reading table with no type imputation\n",
      "  Loading column 'GENE_ENTREZ_ID' as type 'str' (type not specified)\n",
      "  Loading column 'GENE_SYMBOL' as type 'str' (type not specified)\n",
      "  Loading column 'DISEASE_IDS' as type 'str' (type not specified)\n",
      "\n",
      "2020-02-25 15:26:09 Hail: INFO: Reading table with no type imputation\n",
      "  Loading column 'GENE_ENTREZ_ID' as type 'str' (type not specified)\n",
      "  Loading column 'GENE_SYMBOL' as type 'str' (type not specified)\n",
      "  Loading column 'DISEASE_IDS' as type 'str' (type not specified)\n",
      "\n",
      "2020-02-25 15:26:09 Hail: INFO: Reading table with no type imputation\n",
      "  Loading column 'GENE_ENTREZ_ID' as type 'str' (type not specified)\n",
      "  Loading column 'GENE_SYMBOL' as type 'str' (type not specified)\n",
      "  Loading column 'DISEASE_IDS' as type 'str' (type not specified)\n",
      "\n",
      "2020-02-25 15:26:10 Hail: INFO: Reading table with no type imputation\n",
      "  Loading column 'GENE_ENTREZ_ID' as type 'str' (type not specified)\n",
      "  Loading column 'GENE_SYMBOL' as type 'str' (type not specified)\n",
      "  Loading column 'DISEASE_IDS' as type 'str' (type not specified)\n",
      "\n",
      "2020-02-25 15:26:10 Hail: INFO: Reading table with no type imputation\n",
      "  Loading column 'GENE_ENTREZ_ID' as type 'str' (type not specified)\n",
      "  Loading column 'GENE_SYMBOL' as type 'str' (type not specified)\n",
      "  Loading column 'DISEASE_IDS' as type 'str' (type not specified)\n",
      "\n",
      "2020-02-25 15:26:10 Hail: INFO: Reading table with no type imputation\n",
      "  Loading column 'GENE_ENTREZ_ID' as type 'str' (type not specified)\n",
      "  Loading column 'GENE_SYMBOL' as type 'str' (type not specified)\n",
      "  Loading column 'DISEASE_IDS' as type 'str' (type not specified)\n",
      "\n",
      "2020-02-25 15:26:10 Hail: INFO: Reading table with no type imputation\n",
      "  Loading column 'GENE_ENTREZ_ID' as type 'str' (type not specified)\n",
      "  Loading column 'GENE_SYMBOL' as type 'str' (type not specified)\n",
      "  Loading column 'DISEASE_IDS' as type 'str' (type not specified)\n",
      "\n",
      "2020-02-25 15:26:11 Hail: INFO: Reading table with no type imputation\n",
      "  Loading column 'GENE_ENTREZ_ID' as type 'str' (type not specified)\n",
      "  Loading column 'GENE_SYMBOL' as type 'str' (type not specified)\n",
      "  Loading column 'DISEASE_IDS' as type 'str' (type not specified)\n",
      "\n"
     ]
    }
   ],
   "source": [
    "genes_ecm = list(set([line.rstrip('\\n') for line in open('/net/archive/groups/plggneuromol/GTS-analysis/gts_gene_lists/extracellular-matrix.txt')]))\n",
    "genes_neurodev = list(set([line.rstrip('\\n') for line in open('/net/archive/groups/plggneuromol/GTS-analysis/gts_gene_lists/hpo-neuro-dev.txt')]))\n",
    "\n",
    "bg =  list(set([line.rstrip('\\n') for line in open('/net/archive/groups/plggneuromol/GTS-analysis/gts_gene_lists/brain_category_rna_basal.tsv')]))\n",
    "\n",
    "tics = hl.import_table('/net/archive/groups/plggneuromol/GTS-analysis/gts_gene_lists/tics.csv', delimiter = ',', quote=\"\\\"\")\n",
    "genes_tics = tics.GENE_SYMBOL.collect()\n",
    "\n",
    "self_mut = hl.import_table('/net/archive/groups/plggneuromol/GTS-analysis/gts_gene_lists/self_mut.csv', delimiter = ',', quote=\"\\\"\")\n",
    "genes_self_mut = self_mut.GENE_SYMBOL.collect()\n",
    "\n",
    "phonic = hl.import_table('/net/archive/groups/plggneuromol/GTS-analysis/gts_gene_lists/phonic_tics.csv', delimiter = ',', quote=\"\\\"\")\n",
    "genes_phonic = phonic.GENE_SYMBOL.collect()\n",
    "\n",
    "ocd = hl.import_table('/net/archive/groups/plggneuromol/GTS-analysis/gts_gene_lists/ocd_beh.csv', delimiter = ',', quote=\"\\\"\")\n",
    "genes_ocd = ocd.GENE_SYMBOL.collect()\n",
    "\n",
    "echo = hl.import_table('/net/archive/groups/plggneuromol/GTS-analysis/gts_gene_lists/echolalia.csv', delimiter = ',', quote=\"\\\"\")\n",
    "genes_echo = echo.GENE_SYMBOL.collect()\n",
    "\n",
    "inv_mov = hl.import_table('/net/archive/groups/plggneuromol/GTS-analysis/gts_gene_lists/inv_mov.csv', delimiter = ',', quote=\"\\\"\")\n",
    "genes_inv = inv_mov.GENE_SYMBOL.collect()\n",
    "\n",
    "adhd = hl.import_table('/net/archive/groups/plggneuromol/GTS-analysis/gts_gene_lists/adhd.csv', delimiter = ',', quote=\"\\\"\")\n",
    "genes_adhd = adhd.GENE_SYMBOL.collect()\n",
    "\n",
    "agg_beh = hl.import_table('/net/archive/groups/plggneuromol/GTS-analysis/gts_gene_lists/agg_beh.csv', delimiter = ',', quote=\"\\\"\")\n",
    "genes_agg_beh = agg_beh.GENE_SYMBOL.collect()\n",
    "\n",
    "motor_tics = hl.import_table('/net/archive/groups/plggneuromol/GTS-analysis/gts_gene_lists/motor_tics.csv', delimiter = ',', quote=\"\\\"\")\n",
    "genes_motor_tics = motor_tics.GENE_SYMBOL.collect()"
   ]
  },
  {
   "cell_type": "markdown",
   "metadata": {},
   "source": [
    "A list of genes associated with many psychiatric disorders (from https://www.sciencedirect.com/science/article/pii/S0092867419312760?dgcid=author) and GTS association > 0.85"
   ]
  },
  {
   "cell_type": "code",
   "execution_count": 8,
   "metadata": {},
   "outputs": [],
   "source": [
    "genes = ['DCC', 'RBFOX', 'SLC30A9', 'DCAF4L1', 'SORCS3', 'KCNQ5', 'KCNQ-IT1', 'APOPT1', 'C14orf2', 'NAA11', 'NEGR1',\n",
    "         'CHADL', 'L3MBTL2', 'SOX5']"
   ]
  },
  {
   "cell_type": "code",
   "execution_count": 9,
   "metadata": {},
   "outputs": [],
   "source": [
    "GTS_genes = ['PANK2', 'COL27A1', 'PDGFB', 'CELSR3', 'OPA1', 'FBN2', 'WWC1', 'NIPBL', \n",
    "             'FN1', 'FBN2', 'SLITRK1', 'SLITRK2', 'SLITRK3', 'SLITRK4', 'SLITRK5', 'SLITRK6', \n",
    "             'HDC', 'OPRK1', 'PCDH10', 'NTSR2', 'OPRK1', 'CHD8', 'SCUBE1', 'PNKD', 'CNTNAP2', 'MOG', \n",
    "             'DRD2', 'DRD3', 'DRD4', 'DRD5', 'DAT1', 'DBH', 'HTR2A', 'TPH2', 'EAAT1', 'SAPAP3',\n",
    "            'CTNNA3', 'NLGN4', 'FSCB', 'IMMP2L', 'NRXN1', 'AADAC', 'DBH', 'MAOA', 'HTR1A', 'HTR2C', 'SLC6A4',\n",
    "             'TPH2', 'COL27A1', '5-HTTLPR', 'EAAT1', 'COL8A1', 'KCNE1', 'KCNE2']\n",
    "# a list manually curated from literature"
   ]
  },
  {
   "cell_type": "code",
   "execution_count": 10,
   "metadata": {},
   "outputs": [],
   "source": [
    "genes_scores = genes + GTS_genes"
   ]
  },
  {
   "cell_type": "code",
   "execution_count": 11,
   "metadata": {},
   "outputs": [
    {
     "data": {
      "text/plain": [
       "68"
      ]
     },
     "execution_count": 11,
     "metadata": {},
     "output_type": "execute_result"
    }
   ],
   "source": [
    "len(genes_scores)"
   ]
  },
  {
   "cell_type": "markdown",
   "metadata": {},
   "source": [
    "# give scores"
   ]
  },
  {
   "cell_type": "code",
   "execution_count": 12,
   "metadata": {},
   "outputs": [],
   "source": [
    "mt = mt.annotate_cols(category = hl.cond(mt.s.contains('gnmd'), hl.float(0), hl.cond(mt.phenotypes.disease == 'NO', hl.float(5), \n",
    "                                                                                     hl.cond(mt.phenotypes.phenotype == 'tics', hl.float(25), hl.cond(\n",
    "                                                                                         mt.phenotypes.heavy_tics == 'YES', hl.float(45), hl.cond(\n",
    "                                                                                             mt.phenotypes.phenotype == 'GTS', hl.float(50), hl.float(1000)))))))\n",
    "#linear"
   ]
  },
  {
   "cell_type": "code",
   "execution_count": 13,
   "metadata": {},
   "outputs": [],
   "source": [
    "mt = mt.filter_cols((hl.is_defined(mt.category)) & (mt.category < 100))"
   ]
  },
  {
   "cell_type": "code",
   "execution_count": 14,
   "metadata": {},
   "outputs": [],
   "source": [
    "mt = mt.annotate_cols(category = hl.cond(mt.s.contains('gnmd'), False, (mt.phenotypes.disease == 'YES')))\n",
    "\n",
    "#logistic"
   ]
  },
  {
   "cell_type": "code",
   "execution_count": 15,
   "metadata": {},
   "outputs": [],
   "source": [
    "samples = mt.s.collect()"
   ]
  },
  {
   "cell_type": "code",
   "execution_count": 16,
   "metadata": {},
   "outputs": [],
   "source": [
    "mt = mt.filter_cols(hl.array(samples[0:-111]).contains(mt.s)) # filter out excessive gnomads"
   ]
  },
  {
   "cell_type": "code",
   "execution_count": 17,
   "metadata": {},
   "outputs": [],
   "source": [
    "mt_subset = mt_subset.filter_cols(hl.array(samples[0:-111]).contains(mt_subset.s))"
   ]
  },
  {
   "cell_type": "code",
   "execution_count": 18,
   "metadata": {},
   "outputs": [],
   "source": [
    "mt = mt.filter_cols((mt.s.contains('gnmd')) | (mt.phenotypes.heavy_tics =='YES'))"
   ]
  },
  {
   "cell_type": "code",
   "execution_count": 19,
   "metadata": {},
   "outputs": [],
   "source": [
    "mt_subset = mt_subset.filter_cols((mt_subset.s.contains('gnmd')) | (mt_subset.phenotypes.heavy_tics =='YES'))"
   ]
  },
  {
   "cell_type": "code",
   "execution_count": 20,
   "metadata": {},
   "outputs": [],
   "source": [
    "groups = mt.aggregate_cols(hl.agg.counter(mt.category))"
   ]
  },
  {
   "cell_type": "code",
   "execution_count": 21,
   "metadata": {},
   "outputs": [
    {
     "data": {
      "text/plain": [
       "{False: 40, True: 40}"
      ]
     },
     "execution_count": 21,
     "metadata": {},
     "output_type": "execute_result"
    }
   ],
   "source": [
    "groups"
   ]
  },
  {
   "cell_type": "code",
   "execution_count": 22,
   "metadata": {},
   "outputs": [
    {
     "data": {
      "text/plain": [
       "(6148861, 80)"
      ]
     },
     "execution_count": 22,
     "metadata": {},
     "output_type": "execute_result"
    }
   ],
   "source": [
    "mt.count()"
   ]
  },
  {
   "cell_type": "code",
   "execution_count": 23,
   "metadata": {},
   "outputs": [
    {
     "data": {
      "text/plain": [
       "(6129, 80)"
      ]
     },
     "execution_count": 23,
     "metadata": {},
     "output_type": "execute_result"
    }
   ],
   "source": [
    "mt_subset.count()"
   ]
  },
  {
   "cell_type": "code",
   "execution_count": 24,
   "metadata": {
    "scrolled": false
   },
   "outputs": [
    {
     "name": "stderr",
     "output_type": "stream",
     "text": [
      "2020-02-25 09:21:41 Hail: INFO: hwe_normalized_pca: running PCA using 5032 variants.\n",
      "2020-02-25 09:21:42 Hail: INFO: pca: running PCA with 2 components...\n",
      "2020-02-25 09:21:49 Hail: INFO: Wrote all 2 blocks of 5997 x 80 matrix with block size 4096.\n",
      "2020-02-25 09:21:50 Hail: INFO: wrote matrix with 80 rows and 80 columns as 1 block of size 4096 to file:/net/scratch/people/plggosborcz/hail.nK7QI98AHJOq/FI0VkQNxVK.bm\n",
      "2020-02-25 09:21:51 Hail: INFO: Ordering unsorted dataset with network shuffle\n",
      "2020-02-25 09:21:51 Hail: INFO: wrote table with 1 row in 1 partition to file:/net/scratch/people/plggosborcz/hail.nK7QI98AHJOq/WV5WJlHCO8\n",
      "2020-02-25 09:21:51 Hail: WARN: cols(): Resulting column table is sorted by 'col_key'.\n",
      "    To preserve matrix table column order, first unkey columns with 'key_cols_by()'\n",
      "2020-02-25 09:21:52 Hail: INFO: Coerced sorted dataset\n",
      "2020-02-25 09:21:53 Hail: INFO: hwe_normalized_pca: running PCA using 4998 variants.\n",
      "2020-02-25 09:21:53 Hail: INFO: Coerced sorted dataset\n",
      "2020-02-25 09:21:54 Hail: INFO: pca: running PCA with 10 components...\n",
      "2020-02-25 09:21:56 Hail: INFO: Coerced sorted dataset\n",
      "2020-02-25 09:21:56 Hail: INFO: Coerced sorted dataset\n",
      "2020-02-25 09:21:56 Hail: INFO: Coerced sorted dataset\n",
      "2020-02-25 09:21:57 Hail: INFO: Coerced sorted dataset\n",
      "2020-02-25 09:21:57 Hail: INFO: Coerced sorted dataset\n",
      "2020-02-25 09:21:57 Hail: INFO: Coerced sorted dataset\n",
      "2020-02-25 09:21:58 Hail: INFO: Coerced sorted dataset\n",
      "2020-02-25 09:21:58 Hail: INFO: Coerced sorted dataset\n",
      "2020-02-25 09:21:58 Hail: INFO: Coerced sorted dataset\n"
     ]
    },
    {
     "data": {
      "text/html": [
       "\n",
       "\n",
       "\n",
       "\n",
       "\n",
       "\n",
       "  <div class=\"bk-root\" id=\"bc39e7dc-e7ce-437d-9e7a-d522419e3b81\" data-root-id=\"1002\"></div>\n"
      ]
     },
     "metadata": {},
     "output_type": "display_data"
    },
    {
     "data": {
      "application/javascript": [
       "(function(root) {\n",
       "  function embed_document(root) {\n",
       "    \n",
       "  var docs_json = {\"4b060d1d-1764-4a61-808e-033e14dbadbb\":{\"roots\":{\"references\":[{\"attributes\":{\"below\":[{\"id\":\"1013\",\"type\":\"LinearAxis\"}],\"center\":[{\"id\":\"1017\",\"type\":\"Grid\"},{\"id\":\"1022\",\"type\":\"Grid\"}],\"left\":[{\"id\":\"1018\",\"type\":\"LinearAxis\"},{\"id\":\"1068\",\"type\":\"Legend\"},{\"id\":\"1069\",\"type\":\"ColorBar\"}],\"plot_height\":800,\"plot_width\":800,\"renderers\":[{\"id\":\"1045\",\"type\":\"GlyphRenderer\"},{\"id\":\"1051\",\"type\":\"GlyphRenderer\"},{\"id\":\"1057\",\"type\":\"GlyphRenderer\"},{\"id\":\"1063\",\"type\":\"GlyphRenderer\"}],\"title\":{\"id\":\"1003\",\"type\":\"Title\"},\"toolbar\":{\"id\":\"1029\",\"type\":\"Toolbar\"},\"x_range\":{\"id\":\"1005\",\"type\":\"DataRange1d\"},\"x_scale\":{\"id\":\"1009\",\"type\":\"LinearScale\"},\"y_range\":{\"id\":\"1007\",\"type\":\"DataRange1d\"},\"y_scale\":{\"id\":\"1011\",\"type\":\"LinearScale\"}},\"id\":\"1002\",\"subtype\":\"Figure\",\"type\":\"Plot\"},{\"attributes\":{},\"id\":\"1215\",\"type\":\"Selection\"},{\"attributes\":{},\"id\":\"1009\",\"type\":\"LinearScale\"},{\"attributes\":{\"label\":{\"value\":\"NA\"},\"renderers\":[{\"id\":\"1057\",\"type\":\"GlyphRenderer\"}]},\"id\":\"1066\",\"type\":\"LegendItem\"},{\"attributes\":{\"fill_color\":{\"field\":\"label\",\"transform\":{\"id\":\"1039\",\"type\":\"CategoricalColorMapper\"}},\"line_color\":{\"field\":\"label\",\"transform\":{\"id\":\"1039\",\"type\":\"CategoricalColorMapper\"}},\"x\":{\"field\":\"x\"},\"y\":{\"field\":\"y\"}},\"id\":\"1043\",\"type\":\"Circle\"},{\"attributes\":{},\"id\":\"1027\",\"type\":\"ResetTool\"},{\"attributes\":{},\"id\":\"1212\",\"type\":\"BasicTickFormatter\"},{\"attributes\":{\"fill_alpha\":{\"value\":0.1},\"fill_color\":{\"value\":\"#1f77b4\"},\"line_alpha\":{\"value\":0.1},\"line_color\":{\"value\":\"#1f77b4\"},\"x\":{\"field\":\"x\"},\"y\":{\"field\":\"y\"}},\"id\":\"1062\",\"type\":\"Circle\"},{\"attributes\":{\"data_source\":{\"id\":\"1038\",\"type\":\"ColumnDataSource\"},\"glyph\":{\"id\":\"1061\",\"type\":\"Circle\"},\"hover_glyph\":null,\"muted_glyph\":null,\"nonselection_glyph\":{\"id\":\"1062\",\"type\":\"Circle\"},\"selection_glyph\":null,\"view\":{\"id\":\"1059\",\"type\":\"CDSView\"}},\"id\":\"1063\",\"type\":\"GlyphRenderer\"},{\"attributes\":{\"axis_label\":\"PC1\",\"formatter\":{\"id\":\"1207\",\"type\":\"BasicTickFormatter\"},\"ticker\":{\"id\":\"1014\",\"type\":\"BasicTicker\"}},\"id\":\"1013\",\"type\":\"LinearAxis\"},{\"attributes\":{\"click_policy\":\"hide\",\"items\":[{\"id\":\"1064\",\"type\":\"LegendItem\"},{\"id\":\"1065\",\"type\":\"LegendItem\"},{\"id\":\"1066\",\"type\":\"LegendItem\"},{\"id\":\"1067\",\"type\":\"LegendItem\"}]},\"id\":\"1068\",\"type\":\"Legend\"},{\"attributes\":{},\"id\":\"1019\",\"type\":\"BasicTicker\"},{\"attributes\":{\"data_source\":{\"id\":\"1038\",\"type\":\"ColumnDataSource\"},\"glyph\":{\"id\":\"1049\",\"type\":\"Circle\"},\"hover_glyph\":null,\"muted_glyph\":null,\"nonselection_glyph\":{\"id\":\"1050\",\"type\":\"Circle\"},\"selection_glyph\":null,\"view\":{\"id\":\"1047\",\"type\":\"CDSView\"}},\"id\":\"1051\",\"type\":\"GlyphRenderer\"},{\"attributes\":{\"callback\":null},\"id\":\"1005\",\"type\":\"DataRange1d\"},{\"attributes\":{\"dimension\":1,\"ticker\":{\"id\":\"1019\",\"type\":\"BasicTicker\"}},\"id\":\"1022\",\"type\":\"Grid\"},{\"attributes\":{\"text\":\"PCA\"},\"id\":\"1003\",\"type\":\"Title\"},{\"attributes\":{\"label\":{\"value\":\"S\"},\"renderers\":[{\"id\":\"1063\",\"type\":\"GlyphRenderer\"}]},\"id\":\"1067\",\"type\":\"LegendItem\"},{\"attributes\":{},\"id\":\"1024\",\"type\":\"WheelZoomTool\"},{\"attributes\":{},\"id\":\"1026\",\"type\":\"SaveTool\"},{\"attributes\":{},\"id\":\"1011\",\"type\":\"LinearScale\"},{\"attributes\":{},\"id\":\"1023\",\"type\":\"PanTool\"},{\"attributes\":{},\"id\":\"1207\",\"type\":\"BasicTickFormatter\"},{\"attributes\":{\"column_name\":\"label\",\"group\":\".\"},\"id\":\"1040\",\"type\":\"GroupFilter\"},{\"attributes\":{},\"id\":\"1214\",\"type\":\"UnionRenderers\"},{\"attributes\":{\"factors\":[\"NA\",\".\",\"B\",\"S\"],\"palette\":[\"#1f77b4\",\"#ff7f0e\",\"#2ca02c\",\"#d62728\",\"#9467bd\",\"#8c564b\",\"#e377c2\",\"#7f7f7f\",\"#bcbd22\",\"#17becf\"]},\"id\":\"1039\",\"type\":\"CategoricalColorMapper\"},{\"attributes\":{\"filters\":[{\"id\":\"1040\",\"type\":\"GroupFilter\"}],\"source\":{\"id\":\"1038\",\"type\":\"ColumnDataSource\"}},\"id\":\"1041\",\"type\":\"CDSView\"},{\"attributes\":{\"callback\":null},\"id\":\"1007\",\"type\":\"DataRange1d\"},{\"attributes\":{\"data_source\":{\"id\":\"1038\",\"type\":\"ColumnDataSource\"},\"glyph\":{\"id\":\"1043\",\"type\":\"Circle\"},\"hover_glyph\":null,\"muted_glyph\":null,\"nonselection_glyph\":{\"id\":\"1044\",\"type\":\"Circle\"},\"selection_glyph\":null,\"view\":{\"id\":\"1041\",\"type\":\"CDSView\"}},\"id\":\"1045\",\"type\":\"GlyphRenderer\"},{\"attributes\":{\"data_source\":{\"id\":\"1038\",\"type\":\"ColumnDataSource\"},\"glyph\":{\"id\":\"1055\",\"type\":\"Circle\"},\"hover_glyph\":null,\"muted_glyph\":null,\"nonselection_glyph\":{\"id\":\"1056\",\"type\":\"Circle\"},\"selection_glyph\":null,\"view\":{\"id\":\"1053\",\"type\":\"CDSView\"}},\"id\":\"1057\",\"type\":\"GlyphRenderer\"},{\"attributes\":{},\"id\":\"1028\",\"type\":\"HelpTool\"},{\"attributes\":{\"callback\":null,\"data\":{\"index\":[0,1,2,3,4,5,6,7,8,9,10,11,12,13,14,15,16,17,18,19,20,21,22,23,24,25,26,27,28,29,30,31,32,33,34,35,36,37,38,39,40,41,42,43,44,45,46,47,48,49,50,51,52,53,54,55,56,57,58,59,60,61,62,63,64,65,66,67,68,69,70,71,72,73,74,75,76,77,78],\"label\":[\".\",\".\",\".\",\".\",\".\",\".\",\"NA\",\".\",\".\",\".\",\"S\",\".\",\"NA\",\".\",\"NA\",\"NA\",\"NA\",\".\",\".\",\".\",\"NA\",\"NA\",\".\",\"NA\",\"NA\",\"NA\",\"NA\",\"NA\",\"NA\",\"NA\",\"NA\",\".\",\"NA\",\".\",\"NA\",\"NA\",\".\",\"NA\",\"NA\",\"NA\",\"NA\",\".\",\".\",\"NA\",\"NA\",\"NA\",\"NA\",\"NA\",\".\",\"NA\",\".\",\"NA\",\".\",\"NA\",\"NA\",\"NA\",\"NA\",\"NA\",\"NA\",\"NA\",\"NA\",\"NA\",\".\",\"NA\",\"NA\",\".\",\".\",\".\",\".\",\".\",\".\",\".\",\"B\",\".\",\".\",\".\",\".\",\".\",\".\"],\"x\":{\"__ndarray__\":\"ZqbmvA1b0L94hSpB48jOv3xonJUHp8y/kkdeUM62yr89w06/oD7Jv7oCPtXjlcS/qZg/SiMvxL8p6tvZYbjDv29bMbUQy8G/OsBr40LQwb84sEuUtXnAv7ihbzTEG76/3x1w7nUAvL+QloWM30u5v+X55wqw27i/35Cyy7/Gt7+qqcqaozm3v5Gk4Ybryra/w59pCQt+tr+rpRVtP2K0v4OwfrFdprK/MmzUpXbVsL/7PEatIgquvxijH+1Jgay/O29cq7dirL+sea0m4RGnvxE6H+Hdu6e/tmoMipvKpL/5T4vYDX+iv7GJQYY+waK/I1rx5/22ob8geDIy2aGgv44gaeSsxJq/pX1QHGeLlb/Kbw0eaTWUv5ghlQ0m1pG/hOH0q4n+j7830vvtT3WIv6li0bqtqIi/+I58hC27fL/0W3KmJdB5v8nalbuUn3a/GObp8wlId7/a8NFLmC9Yv/dzU2OOLWW/FMOOlpGNWj+JYzbvfPGHP3wIdVlznow/L4+R76SXkD/5q1lTZHCSPySAfuo8+pM/7ecI31Fblz+af4RYWY2cP2lt2GZJbaA/twdCALznoz8Mq6JL45+mP+4Hr1v5gKg/GoTL12X/qj9in1CxQTCrPx6iX5on1Ko/uLrZ88/6rj/ojwIXeB+xPw5tGGTYx7I/bZpTtOOyuT+umALT2Tq8P2B9YvH4/rw/IEJy617wvj+9aMU3UirAP2dRObHSx8E/2e80xFMLwj+AoxqD6NfEPyG7woutLcU/dFVN6L8rxj+MMNC9wyHGP42WaTmtAMc/F4mkHaO8xz8pmz5plc3PP/LE72D1mtA/5+scp0mR4T8=\",\"dtype\":\"float64\",\"shape\":[79]},\"y\":{\"__ndarray__\":\"LuTwUf91zL8wKNwEfpjfPz73ZZnnINo/miB6xullgj886Wtm9y6zv1/isnHhUp2/dZmcBOuWrr9Mwa/BjGnKP8TO5Z0U1Ue/zT7agJwnlz+BRPgDhFXFv2+aIvY6s7I/zRcBQylDZD/Yj0IRCQqGP9r2L5+cIqi/BQP1Vph0YL8H0DMZSh++v24tKNrwD7+/EXufioupsb9LalIfgtCZP1roKhOFgKK/HNOBjnrhbr8p7L93GQjDvzHXCfgH/7S/iWzoXkRFpT9B5zP4AZahv0Xlyt9yY5E/v8xYNTFNwb/yM6VAwgqAv82QRrgLuJ8/NZGdR/IvnL++rBYnTYdwv4gjw56onZe/Su2Zozbfrr8Rc5D0kEeZP3tSyuKfdLe/gdBaLLbbor9rIMeEnv+DP+z9Y2clZKg/VGhFHe3Jjr97jt2o5aGzP5NXjV7pFrS/GUMGurD5e79KClvXIbSRv77mtpUutJE/Y90cZpBrpr8j8LWlY72Sv2Y9PnJmT7K/UuSqOWXB0j9Yc3F73oKpv62HATiRvaE/85Z7Admuv78Fj+Cqpqp6Pya8ikfM1K8/jkt5Huy0rz/DGouUkPW9v049yiVkAKs/p+I1cveSq7/PuWPYFoScv2oHZqBgpLM/qCAb+CVqp7/d7t+dh2qoP6VngwFPMsE/xXYXoEEptr9f3XmcrTplP/BCSJzi39q/mnAWMkBXsj9OC/O4GEDCv9cW9WhQ4Lc/hbw32rRLwL//JVWyqPm5P5SBsCvpKdA/NcgfstIVpz8JnRfVClnFPxQy+8ESrIm/cjqtg6b8Zr9jp3CRx7+Sv82+xyoPQ72/OlG5MvFmxj8=\",\"dtype\":\"float64\",\"shape\":[79]}},\"selected\":{\"id\":\"1215\",\"type\":\"Selection\"},\"selection_policy\":{\"id\":\"1214\",\"type\":\"UnionRenderers\"}},\"id\":\"1038\",\"type\":\"ColumnDataSource\"},{\"attributes\":{\"overlay\":{\"id\":\"1213\",\"type\":\"BoxAnnotation\"}},\"id\":\"1025\",\"type\":\"BoxZoomTool\"},{\"attributes\":{\"column_name\":\"label\",\"group\":\"B\"},\"id\":\"1046\",\"type\":\"GroupFilter\"},{\"attributes\":{\"fill_alpha\":{\"value\":0.1},\"fill_color\":{\"value\":\"#1f77b4\"},\"line_alpha\":{\"value\":0.1},\"line_color\":{\"value\":\"#1f77b4\"},\"x\":{\"field\":\"x\"},\"y\":{\"field\":\"y\"}},\"id\":\"1056\",\"type\":\"Circle\"},{\"attributes\":{\"callback\":null,\"tooltips\":[[\"x\",\"@x\"],[\"y\",\"@y\"],[\"label\",\"@label\"]]},\"id\":\"1037\",\"type\":\"HoverTool\"},{\"attributes\":{\"bottom_units\":\"screen\",\"fill_alpha\":{\"value\":0.5},\"fill_color\":{\"value\":\"lightgrey\"},\"left_units\":\"screen\",\"level\":\"overlay\",\"line_alpha\":{\"value\":1.0},\"line_color\":{\"value\":\"black\"},\"line_dash\":[4,4],\"line_width\":{\"value\":2},\"render_mode\":\"css\",\"right_units\":\"screen\",\"top_units\":\"screen\"},\"id\":\"1213\",\"type\":\"BoxAnnotation\"},{\"attributes\":{\"active_drag\":\"auto\",\"active_inspect\":\"auto\",\"active_multi\":null,\"active_scroll\":\"auto\",\"active_tap\":\"auto\",\"tools\":[{\"id\":\"1023\",\"type\":\"PanTool\"},{\"id\":\"1024\",\"type\":\"WheelZoomTool\"},{\"id\":\"1025\",\"type\":\"BoxZoomTool\"},{\"id\":\"1026\",\"type\":\"SaveTool\"},{\"id\":\"1027\",\"type\":\"ResetTool\"},{\"id\":\"1028\",\"type\":\"HelpTool\"},{\"id\":\"1037\",\"type\":\"HoverTool\"}]},\"id\":\"1029\",\"type\":\"Toolbar\"},{\"attributes\":{\"fill_color\":{\"field\":\"label\",\"transform\":{\"id\":\"1039\",\"type\":\"CategoricalColorMapper\"}},\"line_color\":{\"field\":\"label\",\"transform\":{\"id\":\"1039\",\"type\":\"CategoricalColorMapper\"}},\"x\":{\"field\":\"x\"},\"y\":{\"field\":\"y\"}},\"id\":\"1055\",\"type\":\"Circle\"},{\"attributes\":{\"label\":{\"value\":\"B\"},\"renderers\":[{\"id\":\"1051\",\"type\":\"GlyphRenderer\"}]},\"id\":\"1065\",\"type\":\"LegendItem\"},{\"attributes\":{\"ticker\":{\"id\":\"1014\",\"type\":\"BasicTicker\"}},\"id\":\"1017\",\"type\":\"Grid\"},{\"attributes\":{\"color_mapper\":null,\"formatter\":{\"id\":\"1212\",\"type\":\"BasicTickFormatter\"},\"ticker\":{\"id\":\"1211\",\"type\":\"BasicTicker\"},\"visible\":false},\"id\":\"1069\",\"type\":\"ColorBar\"},{\"attributes\":{},\"id\":\"1211\",\"type\":\"BasicTicker\"},{\"attributes\":{\"axis_label\":\"PC2\",\"formatter\":{\"id\":\"1209\",\"type\":\"BasicTickFormatter\"},\"ticker\":{\"id\":\"1019\",\"type\":\"BasicTicker\"}},\"id\":\"1018\",\"type\":\"LinearAxis\"},{\"attributes\":{\"fill_alpha\":{\"value\":0.1},\"fill_color\":{\"value\":\"#1f77b4\"},\"line_alpha\":{\"value\":0.1},\"line_color\":{\"value\":\"#1f77b4\"},\"x\":{\"field\":\"x\"},\"y\":{\"field\":\"y\"}},\"id\":\"1044\",\"type\":\"Circle\"},{\"attributes\":{},\"id\":\"1014\",\"type\":\"BasicTicker\"},{\"attributes\":{\"fill_alpha\":{\"value\":0.1},\"fill_color\":{\"value\":\"#1f77b4\"},\"line_alpha\":{\"value\":0.1},\"line_color\":{\"value\":\"#1f77b4\"},\"x\":{\"field\":\"x\"},\"y\":{\"field\":\"y\"}},\"id\":\"1050\",\"type\":\"Circle\"},{\"attributes\":{\"filters\":[{\"id\":\"1058\",\"type\":\"GroupFilter\"}],\"source\":{\"id\":\"1038\",\"type\":\"ColumnDataSource\"}},\"id\":\"1059\",\"type\":\"CDSView\"},{\"attributes\":{\"label\":{\"value\":\".\"},\"renderers\":[{\"id\":\"1045\",\"type\":\"GlyphRenderer\"}]},\"id\":\"1064\",\"type\":\"LegendItem\"},{\"attributes\":{},\"id\":\"1209\",\"type\":\"BasicTickFormatter\"},{\"attributes\":{\"fill_color\":{\"field\":\"label\",\"transform\":{\"id\":\"1039\",\"type\":\"CategoricalColorMapper\"}},\"line_color\":{\"field\":\"label\",\"transform\":{\"id\":\"1039\",\"type\":\"CategoricalColorMapper\"}},\"x\":{\"field\":\"x\"},\"y\":{\"field\":\"y\"}},\"id\":\"1049\",\"type\":\"Circle\"},{\"attributes\":{\"column_name\":\"label\",\"group\":\"S\"},\"id\":\"1058\",\"type\":\"GroupFilter\"},{\"attributes\":{\"column_name\":\"label\",\"group\":\"NA\"},\"id\":\"1052\",\"type\":\"GroupFilter\"},{\"attributes\":{\"filters\":[{\"id\":\"1046\",\"type\":\"GroupFilter\"}],\"source\":{\"id\":\"1038\",\"type\":\"ColumnDataSource\"}},\"id\":\"1047\",\"type\":\"CDSView\"},{\"attributes\":{\"filters\":[{\"id\":\"1052\",\"type\":\"GroupFilter\"}],\"source\":{\"id\":\"1038\",\"type\":\"ColumnDataSource\"}},\"id\":\"1053\",\"type\":\"CDSView\"},{\"attributes\":{\"fill_color\":{\"field\":\"label\",\"transform\":{\"id\":\"1039\",\"type\":\"CategoricalColorMapper\"}},\"line_color\":{\"field\":\"label\",\"transform\":{\"id\":\"1039\",\"type\":\"CategoricalColorMapper\"}},\"x\":{\"field\":\"x\"},\"y\":{\"field\":\"y\"}},\"id\":\"1061\",\"type\":\"Circle\"}],\"root_ids\":[\"1002\"]},\"title\":\"Bokeh Application\",\"version\":\"1.2.0\"}};\n",
       "  var render_items = [{\"docid\":\"4b060d1d-1764-4a61-808e-033e14dbadbb\",\"roots\":{\"1002\":\"bc39e7dc-e7ce-437d-9e7a-d522419e3b81\"}}];\n",
       "  root.Bokeh.embed.embed_items_notebook(docs_json, render_items);\n",
       "\n",
       "  }\n",
       "  if (root.Bokeh !== undefined) {\n",
       "    embed_document(root);\n",
       "  } else {\n",
       "    var attempts = 0;\n",
       "    var timer = setInterval(function(root) {\n",
       "      if (root.Bokeh !== undefined) {\n",
       "        embed_document(root);\n",
       "        clearInterval(timer);\n",
       "      }\n",
       "      attempts++;\n",
       "      if (attempts > 100) {\n",
       "        console.log(\"Bokeh: ERROR: Unable to run BokehJS code because BokehJS library is missing\");\n",
       "        clearInterval(timer);\n",
       "      }\n",
       "    }, 10, root)\n",
       "  }\n",
       "})(window);"
      ],
      "application/vnd.bokehjs_exec.v0+json": ""
     },
     "metadata": {
      "application/vnd.bokehjs_exec.v0+json": {
       "id": "1002"
      }
     },
     "output_type": "display_data"
    },
    {
     "data": {
      "text/html": [
       "\n",
       "\n",
       "\n",
       "\n",
       "\n",
       "\n",
       "  <div class=\"bk-root\" id=\"0d0c586e-3980-483d-a695-6b58dbdb1815\" data-root-id=\"1070\"></div>\n"
      ]
     },
     "metadata": {},
     "output_type": "display_data"
    },
    {
     "data": {
      "application/javascript": [
       "(function(root) {\n",
       "  function embed_document(root) {\n",
       "    \n",
       "  var docs_json = {\"dbae880f-977c-4d65-ba54-13d075ce055b\":{\"roots\":{\"references\":[{\"attributes\":{\"below\":[{\"id\":\"1081\",\"type\":\"LinearAxis\"}],\"center\":[{\"id\":\"1085\",\"type\":\"Grid\"},{\"id\":\"1090\",\"type\":\"Grid\"}],\"left\":[{\"id\":\"1086\",\"type\":\"LinearAxis\"},{\"id\":\"1136\",\"type\":\"Legend\"},{\"id\":\"1137\",\"type\":\"ColorBar\"}],\"plot_height\":800,\"plot_width\":800,\"renderers\":[{\"id\":\"1113\",\"type\":\"GlyphRenderer\"},{\"id\":\"1119\",\"type\":\"GlyphRenderer\"},{\"id\":\"1125\",\"type\":\"GlyphRenderer\"},{\"id\":\"1131\",\"type\":\"GlyphRenderer\"}],\"title\":{\"id\":\"1071\",\"type\":\"Title\"},\"toolbar\":{\"id\":\"1097\",\"type\":\"Toolbar\"},\"x_range\":{\"id\":\"1073\",\"type\":\"DataRange1d\"},\"x_scale\":{\"id\":\"1077\",\"type\":\"LinearScale\"},\"y_range\":{\"id\":\"1075\",\"type\":\"DataRange1d\"},\"y_scale\":{\"id\":\"1079\",\"type\":\"LinearScale\"}},\"id\":\"1070\",\"subtype\":\"Figure\",\"type\":\"Plot\"},{\"attributes\":{},\"id\":\"1087\",\"type\":\"BasicTicker\"},{\"attributes\":{\"fill_color\":{\"field\":\"label\",\"transform\":{\"id\":\"1107\",\"type\":\"CategoricalColorMapper\"}},\"line_color\":{\"field\":\"label\",\"transform\":{\"id\":\"1107\",\"type\":\"CategoricalColorMapper\"}},\"x\":{\"field\":\"x\"},\"y\":{\"field\":\"y\"}},\"id\":\"1129\",\"type\":\"Circle\"},{\"attributes\":{\"fill_alpha\":{\"value\":0.1},\"fill_color\":{\"value\":\"#1f77b4\"},\"line_alpha\":{\"value\":0.1},\"line_color\":{\"value\":\"#1f77b4\"},\"x\":{\"field\":\"x\"},\"y\":{\"field\":\"y\"}},\"id\":\"1118\",\"type\":\"Circle\"},{\"attributes\":{\"axis_label\":\"PC3\",\"formatter\":{\"id\":\"1287\",\"type\":\"BasicTickFormatter\"},\"ticker\":{\"id\":\"1082\",\"type\":\"BasicTicker\"}},\"id\":\"1081\",\"type\":\"LinearAxis\"},{\"attributes\":{\"data_source\":{\"id\":\"1106\",\"type\":\"ColumnDataSource\"},\"glyph\":{\"id\":\"1129\",\"type\":\"Circle\"},\"hover_glyph\":null,\"muted_glyph\":null,\"nonselection_glyph\":{\"id\":\"1130\",\"type\":\"Circle\"},\"selection_glyph\":null,\"view\":{\"id\":\"1127\",\"type\":\"CDSView\"}},\"id\":\"1131\",\"type\":\"GlyphRenderer\"},{\"attributes\":{},\"id\":\"1094\",\"type\":\"SaveTool\"},{\"attributes\":{\"ticker\":{\"id\":\"1082\",\"type\":\"BasicTicker\"}},\"id\":\"1085\",\"type\":\"Grid\"},{\"attributes\":{\"click_policy\":\"hide\",\"items\":[{\"id\":\"1132\",\"type\":\"LegendItem\"},{\"id\":\"1133\",\"type\":\"LegendItem\"},{\"id\":\"1134\",\"type\":\"LegendItem\"},{\"id\":\"1135\",\"type\":\"LegendItem\"}]},\"id\":\"1136\",\"type\":\"Legend\"},{\"attributes\":{\"callback\":null,\"tooltips\":[[\"x\",\"@x\"],[\"y\",\"@y\"],[\"label\",\"@label\"]]},\"id\":\"1105\",\"type\":\"HoverTool\"},{\"attributes\":{\"label\":{\"value\":\"NA\"},\"renderers\":[{\"id\":\"1125\",\"type\":\"GlyphRenderer\"}]},\"id\":\"1134\",\"type\":\"LegendItem\"},{\"attributes\":{\"text\":\"PCA\"},\"id\":\"1071\",\"type\":\"Title\"},{\"attributes\":{\"filters\":[{\"id\":\"1108\",\"type\":\"GroupFilter\"}],\"source\":{\"id\":\"1106\",\"type\":\"ColumnDataSource\"}},\"id\":\"1109\",\"type\":\"CDSView\"},{\"attributes\":{\"column_name\":\"label\",\"group\":\"NA\"},\"id\":\"1120\",\"type\":\"GroupFilter\"},{\"attributes\":{\"fill_color\":{\"field\":\"label\",\"transform\":{\"id\":\"1107\",\"type\":\"CategoricalColorMapper\"}},\"line_color\":{\"field\":\"label\",\"transform\":{\"id\":\"1107\",\"type\":\"CategoricalColorMapper\"}},\"x\":{\"field\":\"x\"},\"y\":{\"field\":\"y\"}},\"id\":\"1123\",\"type\":\"Circle\"},{\"attributes\":{\"label\":{\"value\":\"S\"},\"renderers\":[{\"id\":\"1131\",\"type\":\"GlyphRenderer\"}]},\"id\":\"1135\",\"type\":\"LegendItem\"},{\"attributes\":{\"data_source\":{\"id\":\"1106\",\"type\":\"ColumnDataSource\"},\"glyph\":{\"id\":\"1111\",\"type\":\"Circle\"},\"hover_glyph\":null,\"muted_glyph\":null,\"nonselection_glyph\":{\"id\":\"1112\",\"type\":\"Circle\"},\"selection_glyph\":null,\"view\":{\"id\":\"1109\",\"type\":\"CDSView\"}},\"id\":\"1113\",\"type\":\"GlyphRenderer\"},{\"attributes\":{\"color_mapper\":null,\"formatter\":{\"id\":\"1292\",\"type\":\"BasicTickFormatter\"},\"ticker\":{\"id\":\"1291\",\"type\":\"BasicTicker\"},\"visible\":false},\"id\":\"1137\",\"type\":\"ColorBar\"},{\"attributes\":{\"callback\":null},\"id\":\"1073\",\"type\":\"DataRange1d\"},{\"attributes\":{},\"id\":\"1092\",\"type\":\"WheelZoomTool\"},{\"attributes\":{\"factors\":[\"S\",\"NA\",\".\",\"B\"],\"palette\":[\"#1f77b4\",\"#ff7f0e\",\"#2ca02c\",\"#d62728\",\"#9467bd\",\"#8c564b\",\"#e377c2\",\"#7f7f7f\",\"#bcbd22\",\"#17becf\"]},\"id\":\"1107\",\"type\":\"CategoricalColorMapper\"},{\"attributes\":{},\"id\":\"1079\",\"type\":\"LinearScale\"},{\"attributes\":{\"column_name\":\"label\",\"group\":\"S\"},\"id\":\"1126\",\"type\":\"GroupFilter\"},{\"attributes\":{\"callback\":null},\"id\":\"1075\",\"type\":\"DataRange1d\"},{\"attributes\":{\"fill_alpha\":{\"value\":0.1},\"fill_color\":{\"value\":\"#1f77b4\"},\"line_alpha\":{\"value\":0.1},\"line_color\":{\"value\":\"#1f77b4\"},\"x\":{\"field\":\"x\"},\"y\":{\"field\":\"y\"}},\"id\":\"1124\",\"type\":\"Circle\"},{\"attributes\":{\"fill_alpha\":{\"value\":0.1},\"fill_color\":{\"value\":\"#1f77b4\"},\"line_alpha\":{\"value\":0.1},\"line_color\":{\"value\":\"#1f77b4\"},\"x\":{\"field\":\"x\"},\"y\":{\"field\":\"y\"}},\"id\":\"1112\",\"type\":\"Circle\"},{\"attributes\":{\"filters\":[{\"id\":\"1126\",\"type\":\"GroupFilter\"}],\"source\":{\"id\":\"1106\",\"type\":\"ColumnDataSource\"}},\"id\":\"1127\",\"type\":\"CDSView\"},{\"attributes\":{\"label\":{\"value\":\".\"},\"renderers\":[{\"id\":\"1113\",\"type\":\"GlyphRenderer\"}]},\"id\":\"1132\",\"type\":\"LegendItem\"},{\"attributes\":{\"fill_color\":{\"field\":\"label\",\"transform\":{\"id\":\"1107\",\"type\":\"CategoricalColorMapper\"}},\"line_color\":{\"field\":\"label\",\"transform\":{\"id\":\"1107\",\"type\":\"CategoricalColorMapper\"}},\"x\":{\"field\":\"x\"},\"y\":{\"field\":\"y\"}},\"id\":\"1111\",\"type\":\"Circle\"},{\"attributes\":{\"data_source\":{\"id\":\"1106\",\"type\":\"ColumnDataSource\"},\"glyph\":{\"id\":\"1123\",\"type\":\"Circle\"},\"hover_glyph\":null,\"muted_glyph\":null,\"nonselection_glyph\":{\"id\":\"1124\",\"type\":\"Circle\"},\"selection_glyph\":null,\"view\":{\"id\":\"1121\",\"type\":\"CDSView\"}},\"id\":\"1125\",\"type\":\"GlyphRenderer\"},{\"attributes\":{},\"id\":\"1096\",\"type\":\"HelpTool\"},{\"attributes\":{\"overlay\":{\"id\":\"1293\",\"type\":\"BoxAnnotation\"}},\"id\":\"1093\",\"type\":\"BoxZoomTool\"},{\"attributes\":{\"column_name\":\"label\",\"group\":\".\"},\"id\":\"1108\",\"type\":\"GroupFilter\"},{\"attributes\":{\"data_source\":{\"id\":\"1106\",\"type\":\"ColumnDataSource\"},\"glyph\":{\"id\":\"1117\",\"type\":\"Circle\"},\"hover_glyph\":null,\"muted_glyph\":null,\"nonselection_glyph\":{\"id\":\"1118\",\"type\":\"Circle\"},\"selection_glyph\":null,\"view\":{\"id\":\"1115\",\"type\":\"CDSView\"}},\"id\":\"1119\",\"type\":\"GlyphRenderer\"},{\"attributes\":{},\"id\":\"1077\",\"type\":\"LinearScale\"},{\"attributes\":{\"filters\":[{\"id\":\"1120\",\"type\":\"GroupFilter\"}],\"source\":{\"id\":\"1106\",\"type\":\"ColumnDataSource\"}},\"id\":\"1121\",\"type\":\"CDSView\"},{\"attributes\":{},\"id\":\"1292\",\"type\":\"BasicTickFormatter\"},{\"attributes\":{},\"id\":\"1287\",\"type\":\"BasicTickFormatter\"},{\"attributes\":{\"axis_label\":\"PC4\",\"formatter\":{\"id\":\"1289\",\"type\":\"BasicTickFormatter\"},\"ticker\":{\"id\":\"1087\",\"type\":\"BasicTicker\"}},\"id\":\"1086\",\"type\":\"LinearAxis\"},{\"attributes\":{\"fill_color\":{\"field\":\"label\",\"transform\":{\"id\":\"1107\",\"type\":\"CategoricalColorMapper\"}},\"line_color\":{\"field\":\"label\",\"transform\":{\"id\":\"1107\",\"type\":\"CategoricalColorMapper\"}},\"x\":{\"field\":\"x\"},\"y\":{\"field\":\"y\"}},\"id\":\"1117\",\"type\":\"Circle\"},{\"attributes\":{\"filters\":[{\"id\":\"1114\",\"type\":\"GroupFilter\"}],\"source\":{\"id\":\"1106\",\"type\":\"ColumnDataSource\"}},\"id\":\"1115\",\"type\":\"CDSView\"},{\"attributes\":{},\"id\":\"1295\",\"type\":\"Selection\"},{\"attributes\":{},\"id\":\"1294\",\"type\":\"UnionRenderers\"},{\"attributes\":{\"label\":{\"value\":\"B\"},\"renderers\":[{\"id\":\"1119\",\"type\":\"GlyphRenderer\"}]},\"id\":\"1133\",\"type\":\"LegendItem\"},{\"attributes\":{},\"id\":\"1291\",\"type\":\"BasicTicker\"},{\"attributes\":{},\"id\":\"1095\",\"type\":\"ResetTool\"},{\"attributes\":{\"column_name\":\"label\",\"group\":\"B\"},\"id\":\"1114\",\"type\":\"GroupFilter\"},{\"attributes\":{},\"id\":\"1289\",\"type\":\"BasicTickFormatter\"},{\"attributes\":{\"dimension\":1,\"ticker\":{\"id\":\"1087\",\"type\":\"BasicTicker\"}},\"id\":\"1090\",\"type\":\"Grid\"},{\"attributes\":{\"callback\":null,\"data\":{\"index\":[0,1,2,3,4,5,6,7,8,9,10,11,12,13,14,15,16,17,18,19,20,21,22,23,24,25,26,27,28,29,30,31,32,33,34,35,36,37,38,39,40,41,42,43,44,45,46,47,48,49,50,51,52,53,54,55,56,57,58,59,60,61,62,63,64,65,66,67,68,69,70,71,72,73,74,75,76,77,78],\"label\":[\".\",\".\",\"B\",\".\",\".\",\".\",\".\",\".\",\".\",\".\",\".\",\".\",\".\",\".\",\"NA\",\"NA\",\".\",\".\",\"NA\",\".\",\"NA\",\"NA\",\"NA\",\".\",\"NA\",\"NA\",\"NA\",\"NA\",\"NA\",\"NA\",\".\",\"NA\",\".\",\"NA\",\"NA\",\"NA\",\".\",\"NA\",\"NA\",\"NA\",\"NA\",\"NA\",\"NA\",\"NA\",\"NA\",\"NA\",\"NA\",\"NA\",\"NA\",\"NA\",\"NA\",\"NA\",\"NA\",\"NA\",\"NA\",\".\",\"NA\",\".\",\"NA\",\".\",\"NA\",\".\",\"NA\",\"NA\",\".\",\".\",\".\",\".\",\"S\",\".\",\"NA\",\".\",\".\",\".\",\".\",\".\",\".\",\".\",\".\"],\"x\":{\"__ndarray__\":\"BygdODfi3796/RgpqGPQv0veIe5Y5s+/fmThzPEYyr8+BhG0urvIv+P37eFilci/Fa+2Qawbxr+lOdl/3mTFv0UvV31vj8G/iSUQPI8cwb9kLbY7W0W+vz9QXpzI1Lu/EMSTBjWwu79AShIbKQS5v/hkV4wXu7a/7g5DEN2Os78okEumIO+xv813LhsCsbC/voRCaUgqsL9/B4Lg3n+lv3g6un4xKaW/XGdZpJJuor+mVCvsCJiivyWCdro0fJ2/HOqfISfjnb8y6vSsItCbv4/2CRpFkJq/HeTZ+cR7l79xinjIMriNv98oPjKf746/9FAoXGW/i79lIuqunheMv4yGGGfKpYS/3DwZX3LYY7/T7CWryx1QPwXILRZ82Uo/QCLuXUC6XT/tZ6+cejpgP8Xy2DfnV3U/xmtcNJ2dfz8QxVQW22uGP8tLgBzotIo/unCREdPnjz8A2AEXAkqRP9mFW78tKpM/+FIXEwsglT9RQ/sL5IuWPy+d5oGzvps/01dT9Z9Tmz9IEIfwB6ebP3PLwMYDRJ8/dq4zEbmSoD898cJCF/6gP4pjnpLTeaE/jzQrOedJoj+nAzs+5/moP1AO7ucG2ak/co3wRdkDrj/HEKMRB2quP/u/fjBB3rI/MwQ+Ig7Usj8/3IoGGF2zP8gzrKsLL7Q/ly5BglpVtj9x36unSea2P76FrhDyULg/Ct9SZi/7tz9g1CvYPmu4P4QkWCxBnLk/YMdQSWWduT+DRjT0kAq8P374TKt4Lb0/CgTewejpvj/x06j/d2jDP7OLjLd7dcU//UCF9B4Cxz/MBRCEnBTRP2PYKP66cNM/3FfND5hy2D8=\",\"dtype\":\"float64\",\"shape\":[79]},\"y\":{\"__ndarray__\":\"+aWuz9E4tz98gnAzje7Cv0lh6CU7xcu/sQlBWfkAuD9tr3n55yewPz8lyU+VesU/xhx6yBW32D+C6lhT7We5PzQOQYFJdbO/1eQLYiVCxD+QfPYnGn+Gv/+pBm0CXL2/Wg1+TC0wmD84B/b+34Cuv0hxMLZFzZe/GMTMVWtlsr8rGFLVMZZDv8G7tRO0A6M/IBKZ8ONrqT/XMN3EzUY3v2E3nMKA6rE/AEDTmjwKpD9R+hTFLC67P5d6iWzxxJG/lTh0C1wHkz8Qs3k01Mm0v+etsPQPfr2/aC4v8rJTlL+X35b39lLKv6nnjzNJ57o/krzN8g8czL+XQEZWKhC+v8b4S3HgrbU/YtT4t+vznj+YFnFISjp3v7UJ74VRH68/o6hW7vlAsb9ukC1oXaWrv7CMGN+Okau/DgKN6gvFw7+Rw4029zp+P3+otlvgLLW/rnqX/aZBp781RsMkeNGuvyzaIyDoJcC/1hypXrw4Fr/mXwzC59qkvy/RRpZX67a/kla8JQFKor98YTvTx2yiPxfk2BU0hba/cBnNqYjtdD92NpOjzKOKP/mBQaWNRJm/hKTWr2HRqL+6qfGrIrO1v8JZzIIzJsS/A06Qlxfmtr8OKIEoj519P+CooA3G18e/RYrImhnxsr+dPiH80NzVP3mV9ApWOLm/k5HVWfK6ZL83OLnhrJfRP5SPxk0hgKE/MCZEcoDPzj++j4GaGaWxP77daYvK/6e/PL2d0/Fhoz8aCpYOvZypPygi6oivfa8/MhR+fkODtL9B1fWvvqqkP12Gbc6kbc8/yPb6ZNUyyj/ju+2QUsTKv07/wfxqsdI/2dm0o0YAwr8=\",\"dtype\":\"float64\",\"shape\":[79]}},\"selected\":{\"id\":\"1295\",\"type\":\"Selection\"},\"selection_policy\":{\"id\":\"1294\",\"type\":\"UnionRenderers\"}},\"id\":\"1106\",\"type\":\"ColumnDataSource\"},{\"attributes\":{\"bottom_units\":\"screen\",\"fill_alpha\":{\"value\":0.5},\"fill_color\":{\"value\":\"lightgrey\"},\"left_units\":\"screen\",\"level\":\"overlay\",\"line_alpha\":{\"value\":1.0},\"line_color\":{\"value\":\"black\"},\"line_dash\":[4,4],\"line_width\":{\"value\":2},\"render_mode\":\"css\",\"right_units\":\"screen\",\"top_units\":\"screen\"},\"id\":\"1293\",\"type\":\"BoxAnnotation\"},{\"attributes\":{\"active_drag\":\"auto\",\"active_inspect\":\"auto\",\"active_multi\":null,\"active_scroll\":\"auto\",\"active_tap\":\"auto\",\"tools\":[{\"id\":\"1091\",\"type\":\"PanTool\"},{\"id\":\"1092\",\"type\":\"WheelZoomTool\"},{\"id\":\"1093\",\"type\":\"BoxZoomTool\"},{\"id\":\"1094\",\"type\":\"SaveTool\"},{\"id\":\"1095\",\"type\":\"ResetTool\"},{\"id\":\"1096\",\"type\":\"HelpTool\"},{\"id\":\"1105\",\"type\":\"HoverTool\"}]},\"id\":\"1097\",\"type\":\"Toolbar\"},{\"attributes\":{},\"id\":\"1082\",\"type\":\"BasicTicker\"},{\"attributes\":{},\"id\":\"1091\",\"type\":\"PanTool\"},{\"attributes\":{\"fill_alpha\":{\"value\":0.1},\"fill_color\":{\"value\":\"#1f77b4\"},\"line_alpha\":{\"value\":0.1},\"line_color\":{\"value\":\"#1f77b4\"},\"x\":{\"field\":\"x\"},\"y\":{\"field\":\"y\"}},\"id\":\"1130\",\"type\":\"Circle\"}],\"root_ids\":[\"1070\"]},\"title\":\"Bokeh Application\",\"version\":\"1.2.0\"}};\n",
       "  var render_items = [{\"docid\":\"dbae880f-977c-4d65-ba54-13d075ce055b\",\"roots\":{\"1070\":\"0d0c586e-3980-483d-a695-6b58dbdb1815\"}}];\n",
       "  root.Bokeh.embed.embed_items_notebook(docs_json, render_items);\n",
       "\n",
       "  }\n",
       "  if (root.Bokeh !== undefined) {\n",
       "    embed_document(root);\n",
       "  } else {\n",
       "    var attempts = 0;\n",
       "    var timer = setInterval(function(root) {\n",
       "      if (root.Bokeh !== undefined) {\n",
       "        embed_document(root);\n",
       "        clearInterval(timer);\n",
       "      }\n",
       "      attempts++;\n",
       "      if (attempts > 100) {\n",
       "        console.log(\"Bokeh: ERROR: Unable to run BokehJS code because BokehJS library is missing\");\n",
       "        clearInterval(timer);\n",
       "      }\n",
       "    }, 10, root)\n",
       "  }\n",
       "})(window);"
      ],
      "application/vnd.bokehjs_exec.v0+json": ""
     },
     "metadata": {
      "application/vnd.bokehjs_exec.v0+json": {
       "id": "1070"
      }
     },
     "output_type": "display_data"
    },
    {
     "data": {
      "text/html": [
       "\n",
       "\n",
       "\n",
       "\n",
       "\n",
       "\n",
       "  <div class=\"bk-root\" id=\"9de6f223-81ab-489b-83d6-2d5a3fd8da2d\" data-root-id=\"1138\"></div>\n"
      ]
     },
     "metadata": {},
     "output_type": "display_data"
    },
    {
     "data": {
      "application/javascript": [
       "(function(root) {\n",
       "  function embed_document(root) {\n",
       "    \n",
       "  var docs_json = {\"d3090c86-5ce3-4679-8b91-7f1a7e90fbe3\":{\"roots\":{\"references\":[{\"attributes\":{\"below\":[{\"id\":\"1149\",\"type\":\"LinearAxis\"}],\"center\":[{\"id\":\"1153\",\"type\":\"Grid\"},{\"id\":\"1158\",\"type\":\"Grid\"}],\"left\":[{\"id\":\"1154\",\"type\":\"LinearAxis\"},{\"id\":\"1204\",\"type\":\"Legend\"},{\"id\":\"1205\",\"type\":\"ColorBar\"}],\"plot_height\":800,\"plot_width\":800,\"renderers\":[{\"id\":\"1181\",\"type\":\"GlyphRenderer\"},{\"id\":\"1187\",\"type\":\"GlyphRenderer\"},{\"id\":\"1193\",\"type\":\"GlyphRenderer\"},{\"id\":\"1199\",\"type\":\"GlyphRenderer\"}],\"title\":{\"id\":\"1139\",\"type\":\"Title\"},\"toolbar\":{\"id\":\"1165\",\"type\":\"Toolbar\"},\"x_range\":{\"id\":\"1141\",\"type\":\"DataRange1d\"},\"x_scale\":{\"id\":\"1145\",\"type\":\"LinearScale\"},\"y_range\":{\"id\":\"1143\",\"type\":\"DataRange1d\"},\"y_scale\":{\"id\":\"1147\",\"type\":\"LinearScale\"}},\"id\":\"1138\",\"subtype\":\"Figure\",\"type\":\"Plot\"},{\"attributes\":{\"column_name\":\"label\",\"group\":\"B\"},\"id\":\"1182\",\"type\":\"GroupFilter\"},{\"attributes\":{\"filters\":[{\"id\":\"1182\",\"type\":\"GroupFilter\"}],\"source\":{\"id\":\"1174\",\"type\":\"ColumnDataSource\"}},\"id\":\"1183\",\"type\":\"CDSView\"},{\"attributes\":{\"color_mapper\":null,\"formatter\":{\"id\":\"1382\",\"type\":\"BasicTickFormatter\"},\"ticker\":{\"id\":\"1381\",\"type\":\"BasicTicker\"},\"visible\":false},\"id\":\"1205\",\"type\":\"ColorBar\"},{\"attributes\":{},\"id\":\"1163\",\"type\":\"ResetTool\"},{\"attributes\":{},\"id\":\"1145\",\"type\":\"LinearScale\"},{\"attributes\":{\"click_policy\":\"hide\",\"items\":[{\"id\":\"1200\",\"type\":\"LegendItem\"},{\"id\":\"1201\",\"type\":\"LegendItem\"},{\"id\":\"1202\",\"type\":\"LegendItem\"},{\"id\":\"1203\",\"type\":\"LegendItem\"}]},\"id\":\"1204\",\"type\":\"Legend\"},{\"attributes\":{},\"id\":\"1160\",\"type\":\"WheelZoomTool\"},{\"attributes\":{\"bottom_units\":\"screen\",\"fill_alpha\":{\"value\":0.5},\"fill_color\":{\"value\":\"lightgrey\"},\"left_units\":\"screen\",\"level\":\"overlay\",\"line_alpha\":{\"value\":1.0},\"line_color\":{\"value\":\"black\"},\"line_dash\":[4,4],\"line_width\":{\"value\":2},\"render_mode\":\"css\",\"right_units\":\"screen\",\"top_units\":\"screen\"},\"id\":\"1383\",\"type\":\"BoxAnnotation\"},{\"attributes\":{\"fill_color\":{\"field\":\"label\",\"transform\":{\"id\":\"1175\",\"type\":\"CategoricalColorMapper\"}},\"line_color\":{\"field\":\"label\",\"transform\":{\"id\":\"1175\",\"type\":\"CategoricalColorMapper\"}},\"x\":{\"field\":\"x\"},\"y\":{\"field\":\"y\"}},\"id\":\"1185\",\"type\":\"Circle\"},{\"attributes\":{\"active_drag\":\"auto\",\"active_inspect\":\"auto\",\"active_multi\":null,\"active_scroll\":\"auto\",\"active_tap\":\"auto\",\"tools\":[{\"id\":\"1159\",\"type\":\"PanTool\"},{\"id\":\"1160\",\"type\":\"WheelZoomTool\"},{\"id\":\"1161\",\"type\":\"BoxZoomTool\"},{\"id\":\"1162\",\"type\":\"SaveTool\"},{\"id\":\"1163\",\"type\":\"ResetTool\"},{\"id\":\"1164\",\"type\":\"HelpTool\"},{\"id\":\"1173\",\"type\":\"HoverTool\"}]},\"id\":\"1165\",\"type\":\"Toolbar\"},{\"attributes\":{\"label\":{\"value\":\"S\"},\"renderers\":[{\"id\":\"1199\",\"type\":\"GlyphRenderer\"}]},\"id\":\"1203\",\"type\":\"LegendItem\"},{\"attributes\":{\"filters\":[{\"id\":\"1188\",\"type\":\"GroupFilter\"}],\"source\":{\"id\":\"1174\",\"type\":\"ColumnDataSource\"}},\"id\":\"1189\",\"type\":\"CDSView\"},{\"attributes\":{},\"id\":\"1155\",\"type\":\"BasicTicker\"},{\"attributes\":{\"data_source\":{\"id\":\"1174\",\"type\":\"ColumnDataSource\"},\"glyph\":{\"id\":\"1179\",\"type\":\"Circle\"},\"hover_glyph\":null,\"muted_glyph\":null,\"nonselection_glyph\":{\"id\":\"1180\",\"type\":\"Circle\"},\"selection_glyph\":null,\"view\":{\"id\":\"1177\",\"type\":\"CDSView\"}},\"id\":\"1181\",\"type\":\"GlyphRenderer\"},{\"attributes\":{\"axis_label\":\"PC5\",\"formatter\":{\"id\":\"1377\",\"type\":\"BasicTickFormatter\"},\"ticker\":{\"id\":\"1150\",\"type\":\"BasicTicker\"}},\"id\":\"1149\",\"type\":\"LinearAxis\"},{\"attributes\":{},\"id\":\"1377\",\"type\":\"BasicTickFormatter\"},{\"attributes\":{\"label\":{\"value\":\"NA\"},\"renderers\":[{\"id\":\"1193\",\"type\":\"GlyphRenderer\"}]},\"id\":\"1202\",\"type\":\"LegendItem\"},{\"attributes\":{\"data_source\":{\"id\":\"1174\",\"type\":\"ColumnDataSource\"},\"glyph\":{\"id\":\"1197\",\"type\":\"Circle\"},\"hover_glyph\":null,\"muted_glyph\":null,\"nonselection_glyph\":{\"id\":\"1198\",\"type\":\"Circle\"},\"selection_glyph\":null,\"view\":{\"id\":\"1195\",\"type\":\"CDSView\"}},\"id\":\"1199\",\"type\":\"GlyphRenderer\"},{\"attributes\":{\"fill_alpha\":{\"value\":0.1},\"fill_color\":{\"value\":\"#1f77b4\"},\"line_alpha\":{\"value\":0.1},\"line_color\":{\"value\":\"#1f77b4\"},\"x\":{\"field\":\"x\"},\"y\":{\"field\":\"y\"}},\"id\":\"1180\",\"type\":\"Circle\"},{\"attributes\":{\"fill_alpha\":{\"value\":0.1},\"fill_color\":{\"value\":\"#1f77b4\"},\"line_alpha\":{\"value\":0.1},\"line_color\":{\"value\":\"#1f77b4\"},\"x\":{\"field\":\"x\"},\"y\":{\"field\":\"y\"}},\"id\":\"1198\",\"type\":\"Circle\"},{\"attributes\":{\"column_name\":\"label\",\"group\":\"NA\"},\"id\":\"1188\",\"type\":\"GroupFilter\"},{\"attributes\":{\"text\":\"PCA\"},\"id\":\"1139\",\"type\":\"Title\"},{\"attributes\":{\"fill_color\":{\"field\":\"label\",\"transform\":{\"id\":\"1175\",\"type\":\"CategoricalColorMapper\"}},\"line_color\":{\"field\":\"label\",\"transform\":{\"id\":\"1175\",\"type\":\"CategoricalColorMapper\"}},\"x\":{\"field\":\"x\"},\"y\":{\"field\":\"y\"}},\"id\":\"1197\",\"type\":\"Circle\"},{\"attributes\":{\"data_source\":{\"id\":\"1174\",\"type\":\"ColumnDataSource\"},\"glyph\":{\"id\":\"1185\",\"type\":\"Circle\"},\"hover_glyph\":null,\"muted_glyph\":null,\"nonselection_glyph\":{\"id\":\"1186\",\"type\":\"Circle\"},\"selection_glyph\":null,\"view\":{\"id\":\"1183\",\"type\":\"CDSView\"}},\"id\":\"1187\",\"type\":\"GlyphRenderer\"},{\"attributes\":{\"fill_color\":{\"field\":\"label\",\"transform\":{\"id\":\"1175\",\"type\":\"CategoricalColorMapper\"}},\"line_color\":{\"field\":\"label\",\"transform\":{\"id\":\"1175\",\"type\":\"CategoricalColorMapper\"}},\"x\":{\"field\":\"x\"},\"y\":{\"field\":\"y\"}},\"id\":\"1179\",\"type\":\"Circle\"},{\"attributes\":{\"fill_alpha\":{\"value\":0.1},\"fill_color\":{\"value\":\"#1f77b4\"},\"line_alpha\":{\"value\":0.1},\"line_color\":{\"value\":\"#1f77b4\"},\"x\":{\"field\":\"x\"},\"y\":{\"field\":\"y\"}},\"id\":\"1186\",\"type\":\"Circle\"},{\"attributes\":{\"fill_color\":{\"field\":\"label\",\"transform\":{\"id\":\"1175\",\"type\":\"CategoricalColorMapper\"}},\"line_color\":{\"field\":\"label\",\"transform\":{\"id\":\"1175\",\"type\":\"CategoricalColorMapper\"}},\"x\":{\"field\":\"x\"},\"y\":{\"field\":\"y\"}},\"id\":\"1191\",\"type\":\"Circle\"},{\"attributes\":{},\"id\":\"1381\",\"type\":\"BasicTicker\"},{\"attributes\":{\"filters\":[{\"id\":\"1194\",\"type\":\"GroupFilter\"}],\"source\":{\"id\":\"1174\",\"type\":\"ColumnDataSource\"}},\"id\":\"1195\",\"type\":\"CDSView\"},{\"attributes\":{},\"id\":\"1147\",\"type\":\"LinearScale\"},{\"attributes\":{\"label\":{\"value\":\".\"},\"renderers\":[{\"id\":\"1181\",\"type\":\"GlyphRenderer\"}]},\"id\":\"1200\",\"type\":\"LegendItem\"},{\"attributes\":{\"callback\":null,\"data\":{\"index\":[0,1,2,3,4,5,6,7,8,9,10,11,12,13,14,15,16,17,18,19,20,21,22,23,24,25,26,27,28,29,30,31,32,33,34,35,36,37,38,39,40,41,42,43,44,45,46,47,48,49,50,51,52,53,54,55,56,57,58,59,60,61,62,63,64,65,66,67,68,69,70,71,72,73,74,75,76,77,78],\"label\":[\".\",\".\",\"B\",\".\",\"S\",\".\",\".\",\".\",\"NA\",\".\",\".\",\".\",\"NA\",\".\",\".\",\"NA\",\"NA\",\"NA\",\"NA\",\"NA\",\".\",\"NA\",\".\",\"NA\",\"NA\",\"NA\",\"NA\",\".\",\"NA\",\"NA\",\".\",\".\",\".\",\".\",\"NA\",\"NA\",\"NA\",\"NA\",\".\",\"NA\",\"NA\",\"NA\",\"NA\",\"NA\",\".\",\"NA\",\".\",\".\",\"NA\",\"NA\",\"NA\",\"NA\",\"NA\",\"NA\",\"NA\",\".\",\"NA\",\"NA\",\".\",\".\",\".\",\".\",\"NA\",\".\",\"NA\",\"NA\",\".\",\"NA\",\".\",\"NA\",\".\",\".\",\"NA\",\"NA\",\".\",\".\",\".\",\".\",\".\"],\"x\":{\"__ndarray__\":\"jVZuSNUG0r9HmJU9VePQv359G73cJ9C/Vhw3hN0bz7+ANnybqgXMv1oglDPkmMm/YxD+XrqYxr8miKflqOjDv+wQjODfrcO/MG5t82b1wL/ylx+cQ6u8v+3C2qUG+bi/HnLqHQ/Ws78tE3OOX/WyvwU000ESk7K/0FLFGvhLsr8kpHpaTuqxv4CjAm4/dbG/QHvf8J/NsL84ShBOzfSwv5d9Yt4pU6S/m3LVCKkIpL+qL1XlHCejvxzcVadRpaG/1EKmYIrZob/rqPs3BaqhvzIC2rPPLaG/dDMXePMdn78EmopVOu2av+ZIsghAkZm/YxS9IDg3mL8W4eSpM1eYv39SEjLkBZe/DSK2miNzk78ekbB2k9mSvyzcR0zn0pG/I6vR6J3Ijb8a0Hn21UKAv50epsN7H4C/RwgXie5xeb/t9y24KDZzv7MscsD2YGG/Tbm9o4L0cz84XgwpUZF5P8RoFe9VtHg/LrohYFXrfT+NTztphD+BPz0ucXMX9oE/vYsgbO9OhT+D/sEHDw+KPzbihLCBfI0/Awt0fCHVjj8vCAxgl2uVP3o1Bh4NEJk/EJLTVeKrmD9UUY5ggqCgP6X8uSOvUKA/Z8WyNvyxpj8FA7X/AX6vP8FCnTc3zbA/opFQjrmdsD9Z4j2KvdGzP13SMItPzbQ/pKenQwkntj8WjY9ihOS2P49oKNU8ybc/hvcQxzAEuD/d0zXoWNa5P0M+LfGi8rs/8A+DctbCvD/ZZOCpSJa+P+m7wgl6jMA/miFXRAHhwz/icklaz1fEPwvCemwFJsw/Q534YLVUzT9M86BQoBXRP/DHgBwe5NI/RK4hOFFb3j8=\",\"dtype\":\"float64\",\"shape\":[79]},\"y\":{\"__ndarray__\":\"K7ThF+sunD/em8akHBO4P9L1IHA2+aE/aEP8G6zowL9YtraKjemCP9FgqshVusw/1Vm0I5ITvD9RTn54Jr2iv5hS5uJ0rba/b1CnUjTBy79c6t1m6POvP65JcefuN6M/xG3ji+xIsD8uyGu2O4vNv3B/xbweuKO/V0CBYHkEsL+QRgTmrS+wv1Zf8vpKD5Q/VPvbrBf3vL9oxdypSSKQP5H4k8/crqq/1mxNK7x+j79E0bac1aGpP2BXSe7szaC/nDoAjm7cjr8VzWmbwnB1P50JscnsmrK/ZAS4V4RikD9T4oHyquK1v2B8OcViipu/xy7g6GuMoL+sJX9mhaSjPyy9Zri9gma/K5VD/hhSyT9/QU1BTl7Av77n3t+jcaY/EfMUJKuLhj+SR2uB2Rqyvwter1qGDoq/KzM04p/Pjj9xdqhm7CG0v/KKh9Ue4I4/1fsdBJ+srL8QQiM7Sf+dPyOBk4pyZq0/sD6mPtMOlL9JjcuEdoHIP/Dzd08xFbC/gTyX7ItgkL/hjtWQa/O1P24IXIHVzT0/em5b/EaCvL9dQPUz1LKSv0IUNhXI7qS/+MDbnyCVuz91EoEHta+iv6M8/724lp+/8RC1TpEvnr8OdJFUqL7CP4UULHMijNC/O9jZfK0dwb/1mnQWWnvCP0A1fcUH/ok/0ka8KVQDy7/LeijuLWmBP/6Parf9imc/I1meTRzqkT/f6MwNIsu3v9bELtWRiuY/TpGO4tH9oT/g53rSVlSqPxbcvjRCp8A/3drdcDaskb805UnheDmgv6Up6VzSO7U/X1EoENYTwT8OQHYpLH+pv43RiAZ+AIq/Q7Do2PAWyb8=\",\"dtype\":\"float64\",\"shape\":[79]}},\"selected\":{\"id\":\"1385\",\"type\":\"Selection\"},\"selection_policy\":{\"id\":\"1384\",\"type\":\"UnionRenderers\"}},\"id\":\"1174\",\"type\":\"ColumnDataSource\"},{\"attributes\":{},\"id\":\"1159\",\"type\":\"PanTool\"},{\"attributes\":{\"callback\":null},\"id\":\"1143\",\"type\":\"DataRange1d\"},{\"attributes\":{\"overlay\":{\"id\":\"1383\",\"type\":\"BoxAnnotation\"}},\"id\":\"1161\",\"type\":\"BoxZoomTool\"},{\"attributes\":{\"label\":{\"value\":\"B\"},\"renderers\":[{\"id\":\"1187\",\"type\":\"GlyphRenderer\"}]},\"id\":\"1201\",\"type\":\"LegendItem\"},{\"attributes\":{},\"id\":\"1382\",\"type\":\"BasicTickFormatter\"},{\"attributes\":{},\"id\":\"1379\",\"type\":\"BasicTickFormatter\"},{\"attributes\":{\"ticker\":{\"id\":\"1150\",\"type\":\"BasicTicker\"}},\"id\":\"1153\",\"type\":\"Grid\"},{\"attributes\":{},\"id\":\"1162\",\"type\":\"SaveTool\"},{\"attributes\":{\"callback\":null},\"id\":\"1141\",\"type\":\"DataRange1d\"},{\"attributes\":{},\"id\":\"1164\",\"type\":\"HelpTool\"},{\"attributes\":{\"factors\":[\"S\",\"NA\",\".\",\"B\"],\"palette\":[\"#1f77b4\",\"#ff7f0e\",\"#2ca02c\",\"#d62728\",\"#9467bd\",\"#8c564b\",\"#e377c2\",\"#7f7f7f\",\"#bcbd22\",\"#17becf\"]},\"id\":\"1175\",\"type\":\"CategoricalColorMapper\"},{\"attributes\":{},\"id\":\"1385\",\"type\":\"Selection\"},{\"attributes\":{\"axis_label\":\"PC6\",\"formatter\":{\"id\":\"1379\",\"type\":\"BasicTickFormatter\"},\"ticker\":{\"id\":\"1155\",\"type\":\"BasicTicker\"}},\"id\":\"1154\",\"type\":\"LinearAxis\"},{\"attributes\":{},\"id\":\"1150\",\"type\":\"BasicTicker\"},{\"attributes\":{\"column_name\":\"label\",\"group\":\".\"},\"id\":\"1176\",\"type\":\"GroupFilter\"},{\"attributes\":{\"callback\":null,\"tooltips\":[[\"x\",\"@x\"],[\"y\",\"@y\"],[\"label\",\"@label\"]]},\"id\":\"1173\",\"type\":\"HoverTool\"},{\"attributes\":{\"fill_alpha\":{\"value\":0.1},\"fill_color\":{\"value\":\"#1f77b4\"},\"line_alpha\":{\"value\":0.1},\"line_color\":{\"value\":\"#1f77b4\"},\"x\":{\"field\":\"x\"},\"y\":{\"field\":\"y\"}},\"id\":\"1192\",\"type\":\"Circle\"},{\"attributes\":{\"dimension\":1,\"ticker\":{\"id\":\"1155\",\"type\":\"BasicTicker\"}},\"id\":\"1158\",\"type\":\"Grid\"},{\"attributes\":{\"data_source\":{\"id\":\"1174\",\"type\":\"ColumnDataSource\"},\"glyph\":{\"id\":\"1191\",\"type\":\"Circle\"},\"hover_glyph\":null,\"muted_glyph\":null,\"nonselection_glyph\":{\"id\":\"1192\",\"type\":\"Circle\"},\"selection_glyph\":null,\"view\":{\"id\":\"1189\",\"type\":\"CDSView\"}},\"id\":\"1193\",\"type\":\"GlyphRenderer\"},{\"attributes\":{\"filters\":[{\"id\":\"1176\",\"type\":\"GroupFilter\"}],\"source\":{\"id\":\"1174\",\"type\":\"ColumnDataSource\"}},\"id\":\"1177\",\"type\":\"CDSView\"},{\"attributes\":{\"column_name\":\"label\",\"group\":\"S\"},\"id\":\"1194\",\"type\":\"GroupFilter\"},{\"attributes\":{},\"id\":\"1384\",\"type\":\"UnionRenderers\"}],\"root_ids\":[\"1138\"]},\"title\":\"Bokeh Application\",\"version\":\"1.2.0\"}};\n",
       "  var render_items = [{\"docid\":\"d3090c86-5ce3-4679-8b91-7f1a7e90fbe3\",\"roots\":{\"1138\":\"9de6f223-81ab-489b-83d6-2d5a3fd8da2d\"}}];\n",
       "  root.Bokeh.embed.embed_items_notebook(docs_json, render_items);\n",
       "\n",
       "  }\n",
       "  if (root.Bokeh !== undefined) {\n",
       "    embed_document(root);\n",
       "  } else {\n",
       "    var attempts = 0;\n",
       "    var timer = setInterval(function(root) {\n",
       "      if (root.Bokeh !== undefined) {\n",
       "        embed_document(root);\n",
       "        clearInterval(timer);\n",
       "      }\n",
       "      attempts++;\n",
       "      if (attempts > 100) {\n",
       "        console.log(\"Bokeh: ERROR: Unable to run BokehJS code because BokehJS library is missing\");\n",
       "        clearInterval(timer);\n",
       "      }\n",
       "    }, 10, root)\n",
       "  }\n",
       "})(window);"
      ],
      "application/vnd.bokehjs_exec.v0+json": ""
     },
     "metadata": {
      "application/vnd.bokehjs_exec.v0+json": {
       "id": "1138"
      }
     },
     "output_type": "display_data"
    },
    {
     "name": "stderr",
     "output_type": "stream",
     "text": [
      "2020-02-25 09:21:59 Hail: INFO: Coerced sorted dataset\n",
      "2020-02-25 09:21:59 Hail: INFO: Coerced sorted dataset\n",
      "2020-02-25 09:21:59 Hail: INFO: Coerced sorted dataset\n",
      "2020-02-25 09:22:15 Hail: INFO: Coerced sorted dataset\n",
      "2020-02-25 09:22:15 Hail: INFO: Coerced dataset with out-of-order partitions.\n",
      "2020-02-25 09:22:15 Hail: INFO: Coerced sorted dataset\n",
      "2020-02-25 09:22:15 Hail: INFO: Coerced sorted dataset\n",
      "2020-02-25 09:22:15 Hail: INFO: Coerced sorted dataset\n",
      "2020-02-25 09:22:28 Hail: INFO: Coerced sorted dataset\n",
      "2020-02-25 09:22:28 Hail: INFO: Coerced dataset with out-of-order partitions.\n"
     ]
    },
    {
     "data": {
      "text/html": [
       "<table><thead style=\"font-weight: bold;\"><tr><td>id</td><td>size</td><td>q_stat</td><td>p_value</td><td>fault</td></tr>\n",
       "<tr><td>str</td><td>int32</td><td>float64</td><td>float64</td><td>int32</td></tr>\n",
       "</thead><tbody></tbody></table>"
      ],
      "text/plain": [
       "+-----+-------+---------+---------+-------+\n",
       "| id  |  size |  q_stat | p_value | fault |\n",
       "+-----+-------+---------+---------+-------+\n",
       "| str | int32 | float64 | float64 | int32 |\n",
       "+-----+-------+---------+---------+-------+\n",
       "+-----+-------+---------+---------+-------+"
      ]
     },
     "metadata": {},
     "output_type": "display_data"
    },
    {
     "name": "stderr",
     "output_type": "stream",
     "text": [
      "2020-02-25 09:22:28 Hail: INFO: Coerced sorted dataset\n",
      "2020-02-25 09:22:28 Hail: INFO: Coerced sorted dataset\n",
      "2020-02-25 09:22:28 Hail: INFO: Coerced sorted dataset\n",
      "2020-02-25 09:22:41 Hail: INFO: Coerced sorted dataset\n",
      "2020-02-25 09:22:41 Hail: INFO: Coerced dataset with out-of-order partitions.\n",
      "2020-02-25 09:22:41 Hail: INFO: Coerced sorted dataset\n",
      "2020-02-25 09:22:41 Hail: INFO: Coerced dataset with out-of-order partitions.\n"
     ]
    },
    {
     "data": {
      "text/html": [
       "\n",
       "\n",
       "\n",
       "\n",
       "\n",
       "\n",
       "  <div class=\"bk-root\" id=\"0cd9a747-ef3a-406f-b258-b5efc380b58c\" data-root-id=\"1446\"></div>\n"
      ]
     },
     "metadata": {},
     "output_type": "display_data"
    },
    {
     "data": {
      "application/javascript": [
       "(function(root) {\n",
       "  function embed_document(root) {\n",
       "    \n",
       "  var docs_json = {\"ad6a928d-93ff-4ec6-9a4f-88b470141b5a\":{\"roots\":{\"references\":[{\"attributes\":{\"below\":[{\"id\":\"1457\",\"type\":\"LinearAxis\"}],\"center\":[{\"id\":\"1461\",\"type\":\"Grid\"},{\"id\":\"1466\",\"type\":\"Grid\"},{\"id\":\"1502\",\"type\":\"Slope\"},{\"id\":\"1503\",\"type\":\"Label\"}],\"left\":[{\"id\":\"1462\",\"type\":\"LinearAxis\"},{\"id\":\"1498\",\"type\":\"Legend\"},{\"id\":\"1499\",\"type\":\"ColorBar\"}],\"plot_height\":800,\"plot_width\":800,\"renderers\":[{\"id\":\"1489\",\"type\":\"GlyphRenderer\"},{\"id\":\"1495\",\"type\":\"GlyphRenderer\"}],\"title\":{\"id\":\"1447\",\"type\":\"Title\"},\"toolbar\":{\"id\":\"1473\",\"type\":\"Toolbar\"},\"x_range\":{\"id\":\"1500\",\"type\":\"DataRange1d\"},\"x_scale\":{\"id\":\"1453\",\"type\":\"LinearScale\"},\"y_range\":{\"id\":\"1501\",\"type\":\"DataRange1d\"},\"y_scale\":{\"id\":\"1455\",\"type\":\"LinearScale\"}},\"id\":\"1446\",\"subtype\":\"Figure\",\"type\":\"Plot\"},{\"attributes\":{\"data_source\":{\"id\":\"1482\",\"type\":\"ColumnDataSource\"},\"glyph\":{\"id\":\"1487\",\"type\":\"Circle\"},\"hover_glyph\":null,\"muted_glyph\":null,\"nonselection_glyph\":{\"id\":\"1488\",\"type\":\"Circle\"},\"selection_glyph\":null,\"view\":{\"id\":\"1485\",\"type\":\"CDSView\"}},\"id\":\"1489\",\"type\":\"GlyphRenderer\"},{\"attributes\":{\"callback\":null,\"end\":3.2812905159081853,\"start\":0},\"id\":\"1501\",\"type\":\"DataRange1d\"},{\"attributes\":{},\"id\":\"1470\",\"type\":\"SaveTool\"},{\"attributes\":{},\"id\":\"1542\",\"type\":\"UnionRenderers\"},{\"attributes\":{\"axis_label\":\"Expected -log10(p)\",\"formatter\":{\"id\":\"1535\",\"type\":\"BasicTickFormatter\"},\"ticker\":{\"id\":\"1458\",\"type\":\"BasicTicker\"}},\"id\":\"1457\",\"type\":\"LinearAxis\"},{\"attributes\":{\"callback\":null,\"end\":3.2812905159081853,\"start\":0},\"id\":\"1500\",\"type\":\"DataRange1d\"},{\"attributes\":{\"data_source\":{\"id\":\"1482\",\"type\":\"ColumnDataSource\"},\"glyph\":{\"id\":\"1493\",\"type\":\"Circle\"},\"hover_glyph\":null,\"muted_glyph\":null,\"nonselection_glyph\":{\"id\":\"1494\",\"type\":\"Circle\"},\"selection_glyph\":null,\"view\":{\"id\":\"1491\",\"type\":\"CDSView\"}},\"id\":\"1495\",\"type\":\"GlyphRenderer\"},{\"attributes\":{\"filters\":[{\"id\":\"1484\",\"type\":\"GroupFilter\"}],\"source\":{\"id\":\"1482\",\"type\":\"ColumnDataSource\"}},\"id\":\"1485\",\"type\":\"CDSView\"},{\"attributes\":{\"label\":{\"value\":\"true\"},\"renderers\":[{\"id\":\"1495\",\"type\":\"GlyphRenderer\"}]},\"id\":\"1497\",\"type\":\"LegendItem\"},{\"attributes\":{\"factors\":[\"false\",\"true\"],\"palette\":[\"#1f77b4\",\"#ff7f0e\",\"#2ca02c\",\"#d62728\",\"#9467bd\",\"#8c564b\",\"#e377c2\",\"#7f7f7f\",\"#bcbd22\",\"#17becf\"]},\"id\":\"1483\",\"type\":\"CategoricalColorMapper\"},{\"attributes\":{\"active_drag\":\"auto\",\"active_inspect\":\"auto\",\"active_multi\":null,\"active_scroll\":\"auto\",\"active_tap\":\"auto\",\"tools\":[{\"id\":\"1467\",\"type\":\"PanTool\"},{\"id\":\"1468\",\"type\":\"WheelZoomTool\"},{\"id\":\"1469\",\"type\":\"BoxZoomTool\"},{\"id\":\"1470\",\"type\":\"SaveTool\"},{\"id\":\"1471\",\"type\":\"ResetTool\"},{\"id\":\"1472\",\"type\":\"HelpTool\"},{\"id\":\"1481\",\"type\":\"HoverTool\"}]},\"id\":\"1473\",\"type\":\"Toolbar\"},{\"attributes\":{\"callback\":null,\"tooltips\":[[\"x\",\"@x\"],[\"y\",\"@y\"],[\"label\",\"@label\"],[\"p_value\",\"@p_value\"]]},\"id\":\"1481\",\"type\":\"HoverTool\"},{\"attributes\":{},\"id\":\"1453\",\"type\":\"LinearScale\"},{\"attributes\":{\"fill_alpha\":{\"value\":0.1},\"fill_color\":{\"value\":\"#1f77b4\"},\"line_alpha\":{\"value\":0.1},\"line_color\":{\"value\":\"#1f77b4\"},\"size\":{\"units\":\"screen\",\"value\":6},\"x\":{\"field\":\"x\"},\"y\":{\"field\":\"y\"}},\"id\":\"1488\",\"type\":\"Circle\"},{\"attributes\":{\"column_name\":\"label\",\"group\":\"false\"},\"id\":\"1484\",\"type\":\"GroupFilter\"},{\"attributes\":{},\"id\":\"1458\",\"type\":\"BasicTicker\"},{\"attributes\":{},\"id\":\"1468\",\"type\":\"WheelZoomTool\"},{\"attributes\":{},\"id\":\"1463\",\"type\":\"BasicTicker\"},{\"attributes\":{\"gradient\":1,\"line_color\":{\"value\":\"red\"},\"y_intercept\":0},\"id\":\"1502\",\"type\":\"Slope\"},{\"attributes\":{},\"id\":\"1455\",\"type\":\"LinearScale\"},{\"attributes\":{\"text\":\"Q-Q plot\"},\"id\":\"1447\",\"type\":\"Title\"},{\"attributes\":{\"dimension\":1,\"ticker\":{\"id\":\"1463\",\"type\":\"BasicTicker\"}},\"id\":\"1466\",\"type\":\"Grid\"},{\"attributes\":{\"axis_label\":\"Observed -log10(p)\",\"formatter\":{\"id\":\"1537\",\"type\":\"BasicTickFormatter\"},\"ticker\":{\"id\":\"1463\",\"type\":\"BasicTicker\"}},\"id\":\"1462\",\"type\":\"LinearAxis\"},{\"attributes\":{\"fill_color\":{\"field\":\"label\",\"transform\":{\"id\":\"1483\",\"type\":\"CategoricalColorMapper\"}},\"line_color\":{\"field\":\"label\",\"transform\":{\"id\":\"1483\",\"type\":\"CategoricalColorMapper\"}},\"size\":{\"units\":\"screen\",\"value\":6},\"x\":{\"field\":\"x\"},\"y\":{\"field\":\"y\"}},\"id\":\"1487\",\"type\":\"Circle\"},{\"attributes\":{},\"id\":\"1540\",\"type\":\"BasicTickFormatter\"},{\"attributes\":{},\"id\":\"1467\",\"type\":\"PanTool\"},{\"attributes\":{\"text\":\"\\u03bb GC: 2.50\",\"text_color\":{\"value\":\"red\"},\"text_font_size\":{\"value\":\"14pt\"},\"text_font_style\":\"bold\",\"x\":1.9390969385219574,\"y\":1},\"id\":\"1503\",\"type\":\"Label\"},{\"attributes\":{},\"id\":\"1471\",\"type\":\"ResetTool\"},{\"attributes\":{},\"id\":\"1537\",\"type\":\"BasicTickFormatter\"},{\"attributes\":{\"filters\":[{\"id\":\"1490\",\"type\":\"GroupFilter\"}],\"source\":{\"id\":\"1482\",\"type\":\"ColumnDataSource\"}},\"id\":\"1491\",\"type\":\"CDSView\"},{\"attributes\":{},\"id\":\"1472\",\"type\":\"HelpTool\"},{\"attributes\":{},\"id\":\"1539\",\"type\":\"BasicTicker\"},{\"attributes\":{\"click_policy\":\"hide\",\"items\":[{\"id\":\"1496\",\"type\":\"LegendItem\"},{\"id\":\"1497\",\"type\":\"LegendItem\"}]},\"id\":\"1498\",\"type\":\"Legend\"},{\"attributes\":{\"fill_color\":{\"field\":\"label\",\"transform\":{\"id\":\"1483\",\"type\":\"CategoricalColorMapper\"}},\"line_color\":{\"field\":\"label\",\"transform\":{\"id\":\"1483\",\"type\":\"CategoricalColorMapper\"}},\"size\":{\"units\":\"screen\",\"value\":6},\"x\":{\"field\":\"x\"},\"y\":{\"field\":\"y\"}},\"id\":\"1493\",\"type\":\"Circle\"},{\"attributes\":{},\"id\":\"1535\",\"type\":\"BasicTickFormatter\"},{\"attributes\":{\"overlay\":{\"id\":\"1541\",\"type\":\"BoxAnnotation\"}},\"id\":\"1469\",\"type\":\"BoxZoomTool\"},{\"attributes\":{\"label\":{\"value\":\"false\"},\"renderers\":[{\"id\":\"1489\",\"type\":\"GlyphRenderer\"}]},\"id\":\"1496\",\"type\":\"LegendItem\"},{\"attributes\":{},\"id\":\"1543\",\"type\":\"Selection\"},{\"attributes\":{\"ticker\":{\"id\":\"1458\",\"type\":\"BasicTicker\"}},\"id\":\"1461\",\"type\":\"Grid\"},{\"attributes\":{\"column_name\":\"label\",\"group\":\"true\"},\"id\":\"1490\",\"type\":\"GroupFilter\"},{\"attributes\":{\"callback\":null,\"data\":{\"index\":[0,1,2,3,4,5,6,7,8,9,10,11,12,13,14,15,16,17,18,19,20,21,22,23,24,25,26,27,28,29,30,31,32,33,34,35,36,37,38,39],\"label\":[\"false\",\"false\",\"false\",\"false\",\"false\",\"true\",\"false\",\"false\",\"false\",\"false\",\"true\",\"false\",\"true\",\"false\",\"false\",\"false\",\"false\",\"false\",\"false\",\"false\",\"false\",\"false\",\"false\",\"false\",\"false\",\"false\",\"true\",\"false\",\"false\",\"false\",\"false\",\"false\",\"false\",\"true\",\"false\",\"false\",\"true\",\"false\",\"true\",\"true\"],\"p_value\":{\"__ndarray__\":\"gGH5821B7j+wO9154jntP2djJeZZSeo/l8lwPJ+B6D+jeJW1TXHnP1GFP8ObNeU/HHkgskiT4T98urpjsU3gP54I4jycQOA/GYwRiULL3z/O3hltVRLfP7UZpyGq8Ns/x9XIrrSM1z9os+pztRXXP+jc7XppitY/JVzII7iR1T9kWwacpWTVPw38qIb9ntI/9g1MbhRZ0j/CaFa2D3nRPx6oUx7dCM8/iC09murJzj+wBFJi1/bMP1zJjo1AvMo/ZePBFrt9xj8lI2dhTzvCP1fPSe8bX8E/uHaiJCTSuj+YVwlxQKa4P27NDNHX4rU/95ViopzDsj/Qz3kypC+tP8frZuuFp6g/srIiD+lcoj+eHRWkvtGbP5vG9lrQe5s/K9eArbdymz85J/bQPlaYPxfK0wMwr40/H2gFhqxudT8=\",\"dtype\":\"float64\",\"shape\":[40]},\"x\":{\"__ndarray__\":\"wL2EiMDupz+rOL88ZwutP2UYv25J0bM/9lij8hWQtj/GxZQy/kO8P1hOxbZsI8E/iMLluFK0wj8RIKJMrvnFP6aCp0iXr8c/YVNkvmdzyT9O4uIlCUbLPyndf7d8KM0/cRC0wd4bzz8KaYp/tZDQPzB/J9s/ndE/E5+U01K00j8qAxOhytbTP0fe8pyfBdU/txGwYetB1j+p2P977ozXPz1QSM0Y6Ng/catE3RJV2j8rIQKsydXbPy8YuUZ/bN0/Ujvz9N4b3z+Tdcjxi3PgPxzBvFgBaeE/l3zjlalw4j+VPtn4bo3jP9vFJ1n/wuQ/HuXzDhYW5j+VzVB+7oznP6haySL5L+k/G34MAQsL6z+U+yiheC/tPx2iQ7cfuO8/1IuMZQFp8T9KXLwkwWjzP1RqtDkGOvY/00jcDQsL+z8=\",\"dtype\":\"float64\",\"shape\":[40]},\"y\":{\"__ndarray__\":\"EHYfSrDtmD/GSZ4edimkPwOI4Xfe3bU/NWBiucKpvT+wvHzcZkzBPywXodoO3cY/8nOMVeKn0D8DzDLkX77SPzswaCu21NI/kueGggdy0z/lKRdikRXUPzf1RpZyCdc/5/m+pt/J2z9f0x4juVfcP7dQYppyAd0/VnkJPec63j89Wq/VPHXeP+v7pLFaKOE/w3npd+lc4T/NXDSCxAriPxCLNoMPseM/9TilMlzN4z9lI4EBsabkP0vbs2+Sw+U/zx4YXJUq6D8C4s78kBXrP0B7NfGEwes/N4Fezj5a7z+TiLN8T0PwPyQaH2HSFvE/IDfmaZko8j+LnF7KzufzP8T3Hy34E/U/5MIr8Q8g9z9DGqEPJQ75P3phfKO9I/k/2cLIowom+T81GdRdC/z5P02pV328a/0/RwH0PRVAAkA=\",\"dtype\":\"float64\",\"shape\":[40]}},\"selected\":{\"id\":\"1543\",\"type\":\"Selection\"},\"selection_policy\":{\"id\":\"1542\",\"type\":\"UnionRenderers\"}},\"id\":\"1482\",\"type\":\"ColumnDataSource\"},{\"attributes\":{\"color_mapper\":null,\"formatter\":{\"id\":\"1540\",\"type\":\"BasicTickFormatter\"},\"ticker\":{\"id\":\"1539\",\"type\":\"BasicTicker\"},\"visible\":false},\"id\":\"1499\",\"type\":\"ColorBar\"},{\"attributes\":{\"bottom_units\":\"screen\",\"fill_alpha\":{\"value\":0.5},\"fill_color\":{\"value\":\"lightgrey\"},\"left_units\":\"screen\",\"level\":\"overlay\",\"line_alpha\":{\"value\":1.0},\"line_color\":{\"value\":\"black\"},\"line_dash\":[4,4],\"line_width\":{\"value\":2},\"render_mode\":\"css\",\"right_units\":\"screen\",\"top_units\":\"screen\"},\"id\":\"1541\",\"type\":\"BoxAnnotation\"},{\"attributes\":{\"fill_alpha\":{\"value\":0.1},\"fill_color\":{\"value\":\"#1f77b4\"},\"line_alpha\":{\"value\":0.1},\"line_color\":{\"value\":\"#1f77b4\"},\"size\":{\"units\":\"screen\",\"value\":6},\"x\":{\"field\":\"x\"},\"y\":{\"field\":\"y\"}},\"id\":\"1494\",\"type\":\"Circle\"}],\"root_ids\":[\"1446\"]},\"title\":\"Bokeh Application\",\"version\":\"1.2.0\"}};\n",
       "  var render_items = [{\"docid\":\"ad6a928d-93ff-4ec6-9a4f-88b470141b5a\",\"roots\":{\"1446\":\"0cd9a747-ef3a-406f-b258-b5efc380b58c\"}}];\n",
       "  root.Bokeh.embed.embed_items_notebook(docs_json, render_items);\n",
       "\n",
       "  }\n",
       "  if (root.Bokeh !== undefined) {\n",
       "    embed_document(root);\n",
       "  } else {\n",
       "    var attempts = 0;\n",
       "    var timer = setInterval(function(root) {\n",
       "      if (root.Bokeh !== undefined) {\n",
       "        embed_document(root);\n",
       "        clearInterval(timer);\n",
       "      }\n",
       "      attempts++;\n",
       "      if (attempts > 100) {\n",
       "        console.log(\"Bokeh: ERROR: Unable to run BokehJS code because BokehJS library is missing\");\n",
       "        clearInterval(timer);\n",
       "      }\n",
       "    }, 10, root)\n",
       "  }\n",
       "})(window);"
      ],
      "application/vnd.bokehjs_exec.v0+json": ""
     },
     "metadata": {
      "application/vnd.bokehjs_exec.v0+json": {
       "id": "1446"
      }
     },
     "output_type": "display_data"
    }
   ],
   "source": [
    "mt, skat_table_log, genes_result_log, qq_plot_log = full_skat_log(mt, mt_subset, genes_scores, 2)"
   ]
  },
  {
   "cell_type": "code",
   "execution_count": 73,
   "metadata": {},
   "outputs": [
    {
     "name": "stderr",
     "output_type": "stream",
     "text": [
      "2020-02-24 08:35:21 Hail: INFO: Coerced sorted dataset\n",
      "2020-02-24 08:35:21 Hail: INFO: Coerced sorted dataset\n",
      "2020-02-24 08:35:21 Hail: INFO: Coerced sorted dataset\n",
      "2020-02-24 08:35:34 Hail: INFO: Coerced sorted dataset\n",
      "2020-02-24 08:35:34 Hail: INFO: Coerced dataset with out-of-order partitions.\n",
      "2020-02-24 08:35:35 Hail: INFO: wrote table with 49 rows in 49 partitions to /net/archive/groups/plggneuromol/GTS-analysis/large_vcf_analysis/skat_for_scores_log_40.ht\n"
     ]
    }
   ],
   "source": [
    "skat_table_log.write('/net/archive/groups/plggneuromol/GTS-analysis/large_vcf_analysis/skat_for_scores_log_40.ht')"
   ]
  },
  {
   "cell_type": "markdown",
   "metadata": {},
   "source": [
    "## create a scoring pattern for any model - based on CADD and number of genes\n",
    "\n"
   ]
  },
  {
   "cell_type": "code",
   "execution_count": 16,
   "metadata": {},
   "outputs": [
    {
     "data": {
      "text/html": [
       "\n",
       "    <div class=\"bk-root\">\n",
       "        <a href=\"https://bokeh.pydata.org\" target=\"_blank\" class=\"bk-logo bk-logo-small bk-logo-notebook\"></a>\n",
       "        <span id=\"1002\">Loading BokehJS ...</span>\n",
       "    </div>"
      ]
     },
     "metadata": {},
     "output_type": "display_data"
    },
    {
     "data": {
      "application/javascript": [
       "\n",
       "(function(root) {\n",
       "  function now() {\n",
       "    return new Date();\n",
       "  }\n",
       "\n",
       "  var force = true;\n",
       "\n",
       "  if (typeof root._bokeh_onload_callbacks === \"undefined\" || force === true) {\n",
       "    root._bokeh_onload_callbacks = [];\n",
       "    root._bokeh_is_loading = undefined;\n",
       "  }\n",
       "\n",
       "  var JS_MIME_TYPE = 'application/javascript';\n",
       "  var HTML_MIME_TYPE = 'text/html';\n",
       "  var EXEC_MIME_TYPE = 'application/vnd.bokehjs_exec.v0+json';\n",
       "  var CLASS_NAME = 'output_bokeh rendered_html';\n",
       "\n",
       "  /**\n",
       "   * Render data to the DOM node\n",
       "   */\n",
       "  function render(props, node) {\n",
       "    var script = document.createElement(\"script\");\n",
       "    node.appendChild(script);\n",
       "  }\n",
       "\n",
       "  /**\n",
       "   * Handle when an output is cleared or removed\n",
       "   */\n",
       "  function handleClearOutput(event, handle) {\n",
       "    var cell = handle.cell;\n",
       "\n",
       "    var id = cell.output_area._bokeh_element_id;\n",
       "    var server_id = cell.output_area._bokeh_server_id;\n",
       "    // Clean up Bokeh references\n",
       "    if (id != null && id in Bokeh.index) {\n",
       "      Bokeh.index[id].model.document.clear();\n",
       "      delete Bokeh.index[id];\n",
       "    }\n",
       "\n",
       "    if (server_id !== undefined) {\n",
       "      // Clean up Bokeh references\n",
       "      var cmd = \"from bokeh.io.state import curstate; print(curstate().uuid_to_server['\" + server_id + \"'].get_sessions()[0].document.roots[0]._id)\";\n",
       "      cell.notebook.kernel.execute(cmd, {\n",
       "        iopub: {\n",
       "          output: function(msg) {\n",
       "            var id = msg.content.text.trim();\n",
       "            if (id in Bokeh.index) {\n",
       "              Bokeh.index[id].model.document.clear();\n",
       "              delete Bokeh.index[id];\n",
       "            }\n",
       "          }\n",
       "        }\n",
       "      });\n",
       "      // Destroy server and session\n",
       "      var cmd = \"import bokeh.io.notebook as ion; ion.destroy_server('\" + server_id + \"')\";\n",
       "      cell.notebook.kernel.execute(cmd);\n",
       "    }\n",
       "  }\n",
       "\n",
       "  /**\n",
       "   * Handle when a new output is added\n",
       "   */\n",
       "  function handleAddOutput(event, handle) {\n",
       "    var output_area = handle.output_area;\n",
       "    var output = handle.output;\n",
       "\n",
       "    // limit handleAddOutput to display_data with EXEC_MIME_TYPE content only\n",
       "    if ((output.output_type != \"display_data\") || (!output.data.hasOwnProperty(EXEC_MIME_TYPE))) {\n",
       "      return\n",
       "    }\n",
       "\n",
       "    var toinsert = output_area.element.find(\".\" + CLASS_NAME.split(' ')[0]);\n",
       "\n",
       "    if (output.metadata[EXEC_MIME_TYPE][\"id\"] !== undefined) {\n",
       "      toinsert[toinsert.length - 1].firstChild.textContent = output.data[JS_MIME_TYPE];\n",
       "      // store reference to embed id on output_area\n",
       "      output_area._bokeh_element_id = output.metadata[EXEC_MIME_TYPE][\"id\"];\n",
       "    }\n",
       "    if (output.metadata[EXEC_MIME_TYPE][\"server_id\"] !== undefined) {\n",
       "      var bk_div = document.createElement(\"div\");\n",
       "      bk_div.innerHTML = output.data[HTML_MIME_TYPE];\n",
       "      var script_attrs = bk_div.children[0].attributes;\n",
       "      for (var i = 0; i < script_attrs.length; i++) {\n",
       "        toinsert[toinsert.length - 1].firstChild.setAttribute(script_attrs[i].name, script_attrs[i].value);\n",
       "      }\n",
       "      // store reference to server id on output_area\n",
       "      output_area._bokeh_server_id = output.metadata[EXEC_MIME_TYPE][\"server_id\"];\n",
       "    }\n",
       "  }\n",
       "\n",
       "  function register_renderer(events, OutputArea) {\n",
       "\n",
       "    function append_mime(data, metadata, element) {\n",
       "      // create a DOM node to render to\n",
       "      var toinsert = this.create_output_subarea(\n",
       "        metadata,\n",
       "        CLASS_NAME,\n",
       "        EXEC_MIME_TYPE\n",
       "      );\n",
       "      this.keyboard_manager.register_events(toinsert);\n",
       "      // Render to node\n",
       "      var props = {data: data, metadata: metadata[EXEC_MIME_TYPE]};\n",
       "      render(props, toinsert[toinsert.length - 1]);\n",
       "      element.append(toinsert);\n",
       "      return toinsert\n",
       "    }\n",
       "\n",
       "    /* Handle when an output is cleared or removed */\n",
       "    events.on('clear_output.CodeCell', handleClearOutput);\n",
       "    events.on('delete.Cell', handleClearOutput);\n",
       "\n",
       "    /* Handle when a new output is added */\n",
       "    events.on('output_added.OutputArea', handleAddOutput);\n",
       "\n",
       "    /**\n",
       "     * Register the mime type and append_mime function with output_area\n",
       "     */\n",
       "    OutputArea.prototype.register_mime_type(EXEC_MIME_TYPE, append_mime, {\n",
       "      /* Is output safe? */\n",
       "      safe: true,\n",
       "      /* Index of renderer in `output_area.display_order` */\n",
       "      index: 0\n",
       "    });\n",
       "  }\n",
       "\n",
       "  // register the mime type if in Jupyter Notebook environment and previously unregistered\n",
       "  if (root.Jupyter !== undefined) {\n",
       "    var events = require('base/js/events');\n",
       "    var OutputArea = require('notebook/js/outputarea').OutputArea;\n",
       "\n",
       "    if (OutputArea.prototype.mime_types().indexOf(EXEC_MIME_TYPE) == -1) {\n",
       "      register_renderer(events, OutputArea);\n",
       "    }\n",
       "  }\n",
       "\n",
       "  \n",
       "  if (typeof (root._bokeh_timeout) === \"undefined\" || force === true) {\n",
       "    root._bokeh_timeout = Date.now() + 5000;\n",
       "    root._bokeh_failed_load = false;\n",
       "  }\n",
       "\n",
       "  var NB_LOAD_WARNING = {'data': {'text/html':\n",
       "     \"<div style='background-color: #fdd'>\\n\"+\n",
       "     \"<p>\\n\"+\n",
       "     \"BokehJS does not appear to have successfully loaded. If loading BokehJS from CDN, this \\n\"+\n",
       "     \"may be due to a slow or bad network connection. Possible fixes:\\n\"+\n",
       "     \"</p>\\n\"+\n",
       "     \"<ul>\\n\"+\n",
       "     \"<li>re-rerun `output_notebook()` to attempt to load from CDN again, or</li>\\n\"+\n",
       "     \"<li>use INLINE resources instead, as so:</li>\\n\"+\n",
       "     \"</ul>\\n\"+\n",
       "     \"<code>\\n\"+\n",
       "     \"from bokeh.resources import INLINE\\n\"+\n",
       "     \"output_notebook(resources=INLINE)\\n\"+\n",
       "     \"</code>\\n\"+\n",
       "     \"</div>\"}};\n",
       "\n",
       "  function display_loaded() {\n",
       "    var el = document.getElementById(\"1002\");\n",
       "    if (el != null) {\n",
       "      el.textContent = \"BokehJS is loading...\";\n",
       "    }\n",
       "    if (root.Bokeh !== undefined) {\n",
       "      if (el != null) {\n",
       "        el.textContent = \"BokehJS \" + root.Bokeh.version + \" successfully loaded.\";\n",
       "      }\n",
       "    } else if (Date.now() < root._bokeh_timeout) {\n",
       "      setTimeout(display_loaded, 100)\n",
       "    }\n",
       "  }\n",
       "\n",
       "\n",
       "  function run_callbacks() {\n",
       "    try {\n",
       "      root._bokeh_onload_callbacks.forEach(function(callback) {\n",
       "        if (callback != null)\n",
       "          callback();\n",
       "      });\n",
       "    } finally {\n",
       "      delete root._bokeh_onload_callbacks\n",
       "    }\n",
       "    console.debug(\"Bokeh: all callbacks have finished\");\n",
       "  }\n",
       "\n",
       "  function load_libs(css_urls, js_urls, callback) {\n",
       "    if (css_urls == null) css_urls = [];\n",
       "    if (js_urls == null) js_urls = [];\n",
       "\n",
       "    root._bokeh_onload_callbacks.push(callback);\n",
       "    if (root._bokeh_is_loading > 0) {\n",
       "      console.debug(\"Bokeh: BokehJS is being loaded, scheduling callback at\", now());\n",
       "      return null;\n",
       "    }\n",
       "    if (js_urls == null || js_urls.length === 0) {\n",
       "      run_callbacks();\n",
       "      return null;\n",
       "    }\n",
       "    console.debug(\"Bokeh: BokehJS not loaded, scheduling load and callback at\", now());\n",
       "    root._bokeh_is_loading = css_urls.length + js_urls.length;\n",
       "\n",
       "    function on_load() {\n",
       "      root._bokeh_is_loading--;\n",
       "      if (root._bokeh_is_loading === 0) {\n",
       "        console.debug(\"Bokeh: all BokehJS libraries/stylesheets loaded\");\n",
       "        run_callbacks()\n",
       "      }\n",
       "    }\n",
       "\n",
       "    function on_error() {\n",
       "      console.error(\"failed to load \" + url);\n",
       "    }\n",
       "\n",
       "    for (var i = 0; i < css_urls.length; i++) {\n",
       "      var url = css_urls[i];\n",
       "      const element = document.createElement(\"link\");\n",
       "      element.onload = on_load;\n",
       "      element.onerror = on_error;\n",
       "      element.rel = \"stylesheet\";\n",
       "      element.type = \"text/css\";\n",
       "      element.href = url;\n",
       "      console.debug(\"Bokeh: injecting link tag for BokehJS stylesheet: \", url);\n",
       "      document.body.appendChild(element);\n",
       "    }\n",
       "\n",
       "    for (var i = 0; i < js_urls.length; i++) {\n",
       "      var url = js_urls[i];\n",
       "      var element = document.createElement('script');\n",
       "      element.onload = on_load;\n",
       "      element.onerror = on_error;\n",
       "      element.async = false;\n",
       "      element.src = url;\n",
       "      console.debug(\"Bokeh: injecting script tag for BokehJS library: \", url);\n",
       "      document.head.appendChild(element);\n",
       "    }\n",
       "  };var element = document.getElementById(\"1002\");\n",
       "  if (element == null) {\n",
       "    console.error(\"Bokeh: ERROR: autoload.js configured with elementid '1002' but no matching script tag was found. \")\n",
       "    return false;\n",
       "  }\n",
       "\n",
       "  function inject_raw_css(css) {\n",
       "    const element = document.createElement(\"style\");\n",
       "    element.appendChild(document.createTextNode(css));\n",
       "    document.body.appendChild(element);\n",
       "  }\n",
       "\n",
       "  var js_urls = [\"https://cdn.pydata.org/bokeh/release/bokeh-1.2.0.min.js\", \"https://cdn.pydata.org/bokeh/release/bokeh-widgets-1.2.0.min.js\", \"https://cdn.pydata.org/bokeh/release/bokeh-tables-1.2.0.min.js\", \"https://cdn.pydata.org/bokeh/release/bokeh-gl-1.2.0.min.js\"];\n",
       "  var css_urls = [\"https://cdn.pydata.org/bokeh/release/bokeh-1.2.0.min.css\", \"https://cdn.pydata.org/bokeh/release/bokeh-widgets-1.2.0.min.css\", \"https://cdn.pydata.org/bokeh/release/bokeh-tables-1.2.0.min.css\"];\n",
       "\n",
       "  var inline_js = [\n",
       "    function(Bokeh) {\n",
       "      Bokeh.set_log_level(\"info\");\n",
       "    },\n",
       "    \n",
       "    function(Bokeh) {\n",
       "      \n",
       "    },\n",
       "    function(Bokeh) {} // ensure no trailing comma for IE\n",
       "  ];\n",
       "\n",
       "  function run_inline_js() {\n",
       "    \n",
       "    if ((root.Bokeh !== undefined) || (force === true)) {\n",
       "      for (var i = 0; i < inline_js.length; i++) {\n",
       "        inline_js[i].call(root, root.Bokeh);\n",
       "      }if (force === true) {\n",
       "        display_loaded();\n",
       "      }} else if (Date.now() < root._bokeh_timeout) {\n",
       "      setTimeout(run_inline_js, 100);\n",
       "    } else if (!root._bokeh_failed_load) {\n",
       "      console.log(\"Bokeh: BokehJS failed to load within specified timeout.\");\n",
       "      root._bokeh_failed_load = true;\n",
       "    } else if (force !== true) {\n",
       "      var cell = $(document.getElementById(\"1002\")).parents('.cell').data().cell;\n",
       "      cell.output_area.append_execute_result(NB_LOAD_WARNING)\n",
       "    }\n",
       "\n",
       "  }\n",
       "\n",
       "  if (root._bokeh_is_loading === 0) {\n",
       "    console.debug(\"Bokeh: BokehJS loaded, going straight to plotting\");\n",
       "    run_inline_js();\n",
       "  } else {\n",
       "    load_libs(css_urls, js_urls, function() {\n",
       "      console.debug(\"Bokeh: BokehJS plotting callback run at\", now());\n",
       "      run_inline_js();\n",
       "    });\n",
       "  }\n",
       "}(window));"
      ],
      "application/vnd.bokehjs_load.v0+json": "\n(function(root) {\n  function now() {\n    return new Date();\n  }\n\n  var force = true;\n\n  if (typeof root._bokeh_onload_callbacks === \"undefined\" || force === true) {\n    root._bokeh_onload_callbacks = [];\n    root._bokeh_is_loading = undefined;\n  }\n\n  \n\n  \n  if (typeof (root._bokeh_timeout) === \"undefined\" || force === true) {\n    root._bokeh_timeout = Date.now() + 5000;\n    root._bokeh_failed_load = false;\n  }\n\n  var NB_LOAD_WARNING = {'data': {'text/html':\n     \"<div style='background-color: #fdd'>\\n\"+\n     \"<p>\\n\"+\n     \"BokehJS does not appear to have successfully loaded. If loading BokehJS from CDN, this \\n\"+\n     \"may be due to a slow or bad network connection. Possible fixes:\\n\"+\n     \"</p>\\n\"+\n     \"<ul>\\n\"+\n     \"<li>re-rerun `output_notebook()` to attempt to load from CDN again, or</li>\\n\"+\n     \"<li>use INLINE resources instead, as so:</li>\\n\"+\n     \"</ul>\\n\"+\n     \"<code>\\n\"+\n     \"from bokeh.resources import INLINE\\n\"+\n     \"output_notebook(resources=INLINE)\\n\"+\n     \"</code>\\n\"+\n     \"</div>\"}};\n\n  function display_loaded() {\n    var el = document.getElementById(\"1002\");\n    if (el != null) {\n      el.textContent = \"BokehJS is loading...\";\n    }\n    if (root.Bokeh !== undefined) {\n      if (el != null) {\n        el.textContent = \"BokehJS \" + root.Bokeh.version + \" successfully loaded.\";\n      }\n    } else if (Date.now() < root._bokeh_timeout) {\n      setTimeout(display_loaded, 100)\n    }\n  }\n\n\n  function run_callbacks() {\n    try {\n      root._bokeh_onload_callbacks.forEach(function(callback) {\n        if (callback != null)\n          callback();\n      });\n    } finally {\n      delete root._bokeh_onload_callbacks\n    }\n    console.debug(\"Bokeh: all callbacks have finished\");\n  }\n\n  function load_libs(css_urls, js_urls, callback) {\n    if (css_urls == null) css_urls = [];\n    if (js_urls == null) js_urls = [];\n\n    root._bokeh_onload_callbacks.push(callback);\n    if (root._bokeh_is_loading > 0) {\n      console.debug(\"Bokeh: BokehJS is being loaded, scheduling callback at\", now());\n      return null;\n    }\n    if (js_urls == null || js_urls.length === 0) {\n      run_callbacks();\n      return null;\n    }\n    console.debug(\"Bokeh: BokehJS not loaded, scheduling load and callback at\", now());\n    root._bokeh_is_loading = css_urls.length + js_urls.length;\n\n    function on_load() {\n      root._bokeh_is_loading--;\n      if (root._bokeh_is_loading === 0) {\n        console.debug(\"Bokeh: all BokehJS libraries/stylesheets loaded\");\n        run_callbacks()\n      }\n    }\n\n    function on_error() {\n      console.error(\"failed to load \" + url);\n    }\n\n    for (var i = 0; i < css_urls.length; i++) {\n      var url = css_urls[i];\n      const element = document.createElement(\"link\");\n      element.onload = on_load;\n      element.onerror = on_error;\n      element.rel = \"stylesheet\";\n      element.type = \"text/css\";\n      element.href = url;\n      console.debug(\"Bokeh: injecting link tag for BokehJS stylesheet: \", url);\n      document.body.appendChild(element);\n    }\n\n    for (var i = 0; i < js_urls.length; i++) {\n      var url = js_urls[i];\n      var element = document.createElement('script');\n      element.onload = on_load;\n      element.onerror = on_error;\n      element.async = false;\n      element.src = url;\n      console.debug(\"Bokeh: injecting script tag for BokehJS library: \", url);\n      document.head.appendChild(element);\n    }\n  };var element = document.getElementById(\"1002\");\n  if (element == null) {\n    console.error(\"Bokeh: ERROR: autoload.js configured with elementid '1002' but no matching script tag was found. \")\n    return false;\n  }\n\n  function inject_raw_css(css) {\n    const element = document.createElement(\"style\");\n    element.appendChild(document.createTextNode(css));\n    document.body.appendChild(element);\n  }\n\n  var js_urls = [\"https://cdn.pydata.org/bokeh/release/bokeh-1.2.0.min.js\", \"https://cdn.pydata.org/bokeh/release/bokeh-widgets-1.2.0.min.js\", \"https://cdn.pydata.org/bokeh/release/bokeh-tables-1.2.0.min.js\", \"https://cdn.pydata.org/bokeh/release/bokeh-gl-1.2.0.min.js\"];\n  var css_urls = [\"https://cdn.pydata.org/bokeh/release/bokeh-1.2.0.min.css\", \"https://cdn.pydata.org/bokeh/release/bokeh-widgets-1.2.0.min.css\", \"https://cdn.pydata.org/bokeh/release/bokeh-tables-1.2.0.min.css\"];\n\n  var inline_js = [\n    function(Bokeh) {\n      Bokeh.set_log_level(\"info\");\n    },\n    \n    function(Bokeh) {\n      \n    },\n    function(Bokeh) {} // ensure no trailing comma for IE\n  ];\n\n  function run_inline_js() {\n    \n    if ((root.Bokeh !== undefined) || (force === true)) {\n      for (var i = 0; i < inline_js.length; i++) {\n        inline_js[i].call(root, root.Bokeh);\n      }if (force === true) {\n        display_loaded();\n      }} else if (Date.now() < root._bokeh_timeout) {\n      setTimeout(run_inline_js, 100);\n    } else if (!root._bokeh_failed_load) {\n      console.log(\"Bokeh: BokehJS failed to load within specified timeout.\");\n      root._bokeh_failed_load = true;\n    } else if (force !== true) {\n      var cell = $(document.getElementById(\"1002\")).parents('.cell').data().cell;\n      cell.output_area.append_execute_result(NB_LOAD_WARNING)\n    }\n\n  }\n\n  if (root._bokeh_is_loading === 0) {\n    console.debug(\"Bokeh: BokehJS loaded, going straight to plotting\");\n    run_inline_js();\n  } else {\n    load_libs(css_urls, js_urls, function() {\n      console.debug(\"Bokeh: BokehJS plotting callback run at\", now());\n      run_inline_js();\n    });\n  }\n}(window));"
     },
     "metadata": {},
     "output_type": "display_data"
    }
   ],
   "source": [
    "from bokeh.plotting import output_notebook, show, figure\n",
    "from bokeh.palettes import viridis\n",
    "\n",
    "output_notebook() "
   ]
  },
  {
   "cell_type": "code",
   "execution_count": 15,
   "metadata": {},
   "outputs": [],
   "source": [
    "genes_scores = hl.array(genes_scores)"
   ]
  },
  {
   "cell_type": "code",
   "execution_count": 17,
   "metadata": {},
   "outputs": [],
   "source": [
    "skat_log_40 = hl.read_table('/net/archive/groups/plggneuromol/GTS-analysis/large_vcf_analysis/skat_for_scores_log_40.ht')"
   ]
  },
  {
   "cell_type": "code",
   "execution_count": 18,
   "metadata": {},
   "outputs": [
    {
     "data": {
      "text/html": [
       "<table><thead style=\"font-weight: bold;\"><tr><td>id</td><td>size</td><td>q_stat</td><td>p_value</td><td>fault</td><td>label</td></tr>\n",
       "<tr><td>str</td><td>int32</td><td>float64</td><td>float64</td><td>int32</td><td>bool</td></tr>\n",
       "</thead><tbody><tr><td>&quot;L3MBTL2&quot;</td><td>97</td><td>3.94e+03</td><td>5.23e-03</td><td>0</td><td>true</td></tr>\n",
       "<tr><td>&quot;CHADL&quot;</td><td>99</td><td>2.76e+03</td><td>1.45e-02</td><td>0</td><td>true</td></tr>\n",
       "<tr><td>&quot;PCDH10&quot;</td><td>232</td><td>2.56e+03</td><td>2.38e-02</td><td>0</td><td>false</td></tr>\n",
       "<tr><td>&quot;KCNQ5&quot;</td><td>1141</td><td>9.64e+03</td><td>2.68e-02</td><td>0</td><td>true</td></tr>\n",
       "<tr><td>&quot;DRD2&quot;</td><td>222</td><td>2.89e+03</td><td>2.68e-02</td><td>0</td><td>false</td></tr>\n",
       "<tr><td>&quot;IMMP2L&quot;</td><td>1283</td><td>8.86e+03</td><td>2.72e-02</td><td>0</td><td>false</td></tr>\n",
       "<tr><td>&quot;SORCS3&quot;</td><td>1339</td><td>1.65e+04</td><td>3.59e-02</td><td>0</td><td>true</td></tr>\n",
       "<tr><td>&quot;KCNE2&quot;</td><td>56</td><td>8.33e+02</td><td>4.82e-02</td><td>0</td><td>false</td></tr>\n",
       "<tr><td>&quot;DRD3&quot;</td><td>196</td><td>1.29e+03</td><td>5.70e-02</td><td>0</td><td>false</td></tr>\n",
       "<tr><td>&quot;AADAC&quot;</td><td>134</td><td>1.83e+03</td><td>7.33e-02</td><td>0</td><td>false</td></tr>\n",
       "<tr><td>&quot;HDC&quot;</td><td>121</td><td>1.01e+03</td><td>8.55e-02</td><td>0</td><td>false</td></tr>\n",
       "<tr><td>&quot;FBN2&quot;</td><td>817</td><td>5.97e+03</td><td>9.63e-02</td><td>0</td><td>false</td></tr>\n",
       "<tr><td>&quot;HTR2A&quot;</td><td>250</td><td>2.41e+03</td><td>1.05e-01</td><td>0</td><td>false</td></tr>\n",
       "<tr><td>&quot;NAA11&quot;</td><td>160</td><td>1.66e+03</td><td>1.36e-01</td><td>0</td><td>true</td></tr>\n",
       "<tr><td>&quot;COL27A1&quot;</td><td>553</td><td>5.39e+03</td><td>1.42e-01</td><td>0</td><td>false</td></tr>\n",
       "<tr><td>&quot;FSCB&quot;</td><td>66</td><td>6.94e+02</td><td>1.76e-01</td><td>0</td><td>false</td></tr>\n",
       "<tr><td>&quot;NIPBL&quot;</td><td>217</td><td>1.32e+03</td><td>2.09e-01</td><td>0</td><td>false</td></tr>\n",
       "<tr><td>&quot;WWC1&quot;</td><td>458</td><td>3.29e+03</td><td>2.26e-01</td><td>0</td><td>false</td></tr>\n",
       "<tr><td>&quot;NTSR2&quot;</td><td>135</td><td>8.88e+02</td><td>2.41e-01</td><td>0</td><td>false</td></tr>\n",
       "<tr><td>&quot;SLITRK5&quot;</td><td>147</td><td>9.13e+02</td><td>2.42e-01</td><td>0</td><td>false</td></tr>\n",
       "</tbody></table><p style=\"background: #fdd; padding: 0.4em;\">showing top 20 rows</p>\n"
      ],
      "text/plain": [
       "+-----------+-------+----------+----------+-------+-------+\n",
       "| id        |  size |   q_stat |  p_value | fault | label |\n",
       "+-----------+-------+----------+----------+-------+-------+\n",
       "| str       | int32 |  float64 |  float64 | int32 |  bool |\n",
       "+-----------+-------+----------+----------+-------+-------+\n",
       "| \"L3MBTL2\" |    97 | 3.94e+03 | 5.23e-03 |     0 |  true |\n",
       "| \"CHADL\"   |    99 | 2.76e+03 | 1.45e-02 |     0 |  true |\n",
       "| \"PCDH10\"  |   232 | 2.56e+03 | 2.38e-02 |     0 | false |\n",
       "| \"KCNQ5\"   |  1141 | 9.64e+03 | 2.68e-02 |     0 |  true |\n",
       "| \"DRD2\"    |   222 | 2.89e+03 | 2.68e-02 |     0 | false |\n",
       "| \"IMMP2L\"  |  1283 | 8.86e+03 | 2.72e-02 |     0 | false |\n",
       "| \"SORCS3\"  |  1339 | 1.65e+04 | 3.59e-02 |     0 |  true |\n",
       "| \"KCNE2\"   |    56 | 8.33e+02 | 4.82e-02 |     0 | false |\n",
       "| \"DRD3\"    |   196 | 1.29e+03 | 5.70e-02 |     0 | false |\n",
       "| \"AADAC\"   |   134 | 1.83e+03 | 7.33e-02 |     0 | false |\n",
       "| \"HDC\"     |   121 | 1.01e+03 | 8.55e-02 |     0 | false |\n",
       "| \"FBN2\"    |   817 | 5.97e+03 | 9.63e-02 |     0 | false |\n",
       "| \"HTR2A\"   |   250 | 2.41e+03 | 1.05e-01 |     0 | false |\n",
       "| \"NAA11\"   |   160 | 1.66e+03 | 1.36e-01 |     0 |  true |\n",
       "| \"COL27A1\" |   553 | 5.39e+03 | 1.42e-01 |     0 | false |\n",
       "| \"FSCB\"    |    66 | 6.94e+02 | 1.76e-01 |     0 | false |\n",
       "| \"NIPBL\"   |   217 | 1.32e+03 | 2.09e-01 |     0 | false |\n",
       "| \"WWC1\"    |   458 | 3.29e+03 | 2.26e-01 |     0 | false |\n",
       "| \"NTSR2\"   |   135 | 8.88e+02 | 2.41e-01 |     0 | false |\n",
       "| \"SLITRK5\" |   147 | 9.13e+02 | 2.42e-01 |     0 | false |\n",
       "+-----------+-------+----------+----------+-------+-------+\n",
       "showing top 20 rows"
      ]
     },
     "metadata": {},
     "output_type": "display_data"
    }
   ],
   "source": [
    "skat_log_40.order_by('p_value').show(20)"
   ]
  },
  {
   "cell_type": "markdown",
   "metadata": {
    "scrolled": true
   },
   "source": [
    "### use the mean number of variants detected above to check how stuff works in families"
   ]
  },
  {
   "cell_type": "code",
   "execution_count": 19,
   "metadata": {},
   "outputs": [],
   "source": [
    "#reimport the matrixtable again\n",
    "mt_test = hl.read_matrix_table('/net/archive/groups/plggneuromol/GTS-analysis/large_vcf_filtering_annotation/step6_output.mt')\n",
    "mt_test = mt_test.filter_rows(mt_test.cadd > 0) # this is so I don't do too many tests"
   ]
  },
  {
   "cell_type": "code",
   "execution_count": 20,
   "metadata": {},
   "outputs": [],
   "source": [
    "mt_test = mt_test.annotate_cols(category = hl.cond(mt_test.s.contains('gnmd'), hl.float(0), hl.cond(mt_test.phenotypes.disease == 'NO', hl.float(5), \n",
    "                                                                                     hl.cond(mt_test.phenotypes.phenotype == 'tics', hl.float(25), hl.cond(\n",
    "                                                                                         mt_test.phenotypes.heavy_tics == 'YES', hl.float(45), hl.cond(\n",
    "                                                                                             mt_test.phenotypes.phenotype == 'GTS', hl.float(50), hl.float(1000)))))))\n",
    "#linear"
   ]
  },
  {
   "cell_type": "code",
   "execution_count": 21,
   "metadata": {},
   "outputs": [],
   "source": [
    "mt_test = mt_test.filter_cols((hl.is_defined(mt_test.category)) & (mt_test.category < 100))"
   ]
  },
  {
   "cell_type": "code",
   "execution_count": 22,
   "metadata": {},
   "outputs": [],
   "source": [
    "mt_test = mt_test.annotate_cols(category = hl.cond(mt_test.s.contains('gnmd'), False, (mt_test.phenotypes.disease == 'YES')))\n",
    "\n",
    "#logistic"
   ]
  },
  {
   "cell_type": "code",
   "execution_count": 23,
   "metadata": {},
   "outputs": [],
   "source": [
    "mt_test = mt_test.filter_cols(mt_test.phenotypes.heavy_tics == 'YES', keep = False)"
   ]
  },
  {
   "cell_type": "code",
   "execution_count": 24,
   "metadata": {},
   "outputs": [],
   "source": [
    "mt_test = mt_test.filter_cols(mt_test.s.contains('gnmd'), keep = False)"
   ]
  },
  {
   "cell_type": "code",
   "execution_count": 25,
   "metadata": {},
   "outputs": [
    {
     "data": {
      "text/plain": [
       "(6148861, 105)"
      ]
     },
     "execution_count": 25,
     "metadata": {},
     "output_type": "execute_result"
    }
   ],
   "source": [
    "mt_test.count()"
   ]
  },
  {
   "cell_type": "code",
   "execution_count": 158,
   "metadata": {
    "collapsed": true
   },
   "outputs": [
    {
     "name": "stderr",
     "output_type": "stream",
     "text": [
      "2020-02-24 10:26:48 Hail: INFO: Coerced sorted dataset\n",
      "2020-02-24 10:26:48 Hail: INFO: Coerced sorted dataset\n",
      "2020-02-24 10:26:48 Hail: INFO: Coerced sorted dataset\n",
      "2020-02-24 10:26:59 Hail: INFO: Coerced sorted dataset\n",
      "2020-02-24 10:26:59 Hail: INFO: Coerced sorted dataset\n",
      "2020-02-24 10:26:59 Hail: INFO: Coerced sorted dataset\n",
      "2020-02-24 10:27:00 Hail: INFO: Coerced sorted dataset\n",
      "2020-02-24 10:27:00 Hail: INFO: Coerced sorted dataset\n",
      "2020-02-24 10:27:00 Hail: INFO: Coerced sorted dataset\n",
      "2020-02-24 10:27:00 Hail: INFO: Coerced sorted dataset\n",
      "2020-02-24 10:27:10 Hail: INFO: Coerced sorted dataset\n",
      "2020-02-24 10:27:10 Hail: INFO: Coerced sorted dataset\n",
      "2020-02-24 10:27:10 Hail: INFO: Coerced sorted dataset\n",
      "2020-02-24 10:27:11 Hail: INFO: Coerced sorted dataset\n",
      "2020-02-24 10:27:11 Hail: INFO: Coerced sorted dataset\n",
      "2020-02-24 10:27:11 Hail: INFO: Coerced sorted dataset\n",
      "2020-02-24 10:27:20 Hail: INFO: Coerced sorted dataset\n",
      "2020-02-24 10:27:21 Hail: INFO: Coerced sorted dataset\n",
      "2020-02-24 10:27:21 Hail: INFO: Coerced sorted dataset\n",
      "2020-02-24 10:27:42 Hail: INFO: Coerced sorted dataset\n",
      "2020-02-24 10:27:42 Hail: INFO: Coerced sorted dataset\n",
      "2020-02-24 10:27:42 Hail: INFO: Coerced sorted dataset\n",
      "2020-02-24 10:27:52 Hail: INFO: Coerced sorted dataset\n",
      "2020-02-24 10:27:52 Hail: INFO: Coerced sorted dataset\n",
      "2020-02-24 10:27:52 Hail: INFO: Coerced sorted dataset\n",
      "2020-02-24 10:27:53 Hail: INFO: Coerced sorted dataset\n",
      "2020-02-24 10:27:53 Hail: INFO: Coerced sorted dataset\n",
      "2020-02-24 10:27:53 Hail: INFO: Coerced sorted dataset\n",
      "2020-02-24 10:27:53 Hail: INFO: Coerced sorted dataset\n",
      "2020-02-24 10:28:03 Hail: INFO: Coerced sorted dataset\n",
      "2020-02-24 10:28:03 Hail: INFO: Coerced sorted dataset\n",
      "2020-02-24 10:28:03 Hail: INFO: Coerced sorted dataset\n",
      "2020-02-24 10:28:04 Hail: INFO: Coerced sorted dataset\n",
      "2020-02-24 10:28:04 Hail: INFO: Coerced sorted dataset\n",
      "2020-02-24 10:28:04 Hail: INFO: Coerced sorted dataset\n",
      "2020-02-24 10:28:14 Hail: INFO: Coerced sorted dataset\n",
      "2020-02-24 10:28:14 Hail: INFO: Coerced sorted dataset\n",
      "2020-02-24 10:28:14 Hail: INFO: Coerced sorted dataset\n",
      "2020-02-24 10:28:34 Hail: INFO: Coerced sorted dataset\n",
      "2020-02-24 10:28:35 Hail: INFO: Coerced sorted dataset\n",
      "2020-02-24 10:28:35 Hail: INFO: Coerced sorted dataset\n",
      "2020-02-24 10:28:44 Hail: INFO: Coerced sorted dataset\n",
      "2020-02-24 10:28:45 Hail: INFO: Coerced sorted dataset\n",
      "2020-02-24 10:28:45 Hail: INFO: Coerced sorted dataset\n",
      "2020-02-24 10:28:45 Hail: INFO: Coerced sorted dataset\n",
      "2020-02-24 10:28:45 Hail: INFO: Coerced sorted dataset\n",
      "2020-02-24 10:28:45 Hail: INFO: Coerced sorted dataset\n",
      "2020-02-24 10:28:45 Hail: INFO: Coerced sorted dataset\n",
      "2020-02-24 10:28:55 Hail: INFO: Coerced sorted dataset\n",
      "2020-02-24 10:28:55 Hail: INFO: Coerced sorted dataset\n",
      "2020-02-24 10:28:55 Hail: INFO: Coerced sorted dataset\n",
      "2020-02-24 10:28:55 Hail: INFO: Coerced sorted dataset\n",
      "2020-02-24 10:28:55 Hail: INFO: Coerced sorted dataset\n",
      "2020-02-24 10:28:55 Hail: INFO: Coerced sorted dataset\n",
      "2020-02-24 10:29:05 Hail: INFO: Coerced sorted dataset\n",
      "2020-02-24 10:29:05 Hail: INFO: Coerced sorted dataset\n",
      "2020-02-24 10:29:05 Hail: INFO: Coerced sorted dataset\n",
      "2020-02-24 10:29:25 Hail: INFO: Coerced sorted dataset\n",
      "2020-02-24 10:29:25 Hail: INFO: Coerced sorted dataset\n",
      "2020-02-24 10:29:25 Hail: INFO: Coerced sorted dataset\n",
      "2020-02-24 10:29:35 Hail: INFO: Coerced sorted dataset\n",
      "2020-02-24 10:29:35 Hail: INFO: Coerced sorted dataset\n",
      "2020-02-24 10:29:35 Hail: INFO: Coerced sorted dataset\n",
      "2020-02-24 10:29:35 Hail: INFO: Coerced sorted dataset\n",
      "2020-02-24 10:29:36 Hail: INFO: Coerced sorted dataset\n",
      "2020-02-24 10:29:36 Hail: INFO: Coerced sorted dataset\n",
      "2020-02-24 10:29:36 Hail: INFO: Coerced sorted dataset\n",
      "2020-02-24 10:29:46 Hail: INFO: Coerced sorted dataset\n",
      "2020-02-24 10:29:46 Hail: INFO: Coerced sorted dataset\n",
      "2020-02-24 10:29:46 Hail: INFO: Coerced sorted dataset\n",
      "2020-02-24 10:29:46 Hail: INFO: Coerced sorted dataset\n",
      "2020-02-24 10:29:46 Hail: INFO: Coerced sorted dataset\n",
      "2020-02-24 10:29:46 Hail: INFO: Coerced sorted dataset\n",
      "2020-02-24 10:29:56 Hail: INFO: Coerced sorted dataset\n",
      "2020-02-24 10:29:56 Hail: INFO: Coerced sorted dataset\n",
      "2020-02-24 10:29:56 Hail: INFO: Coerced sorted dataset\n",
      "2020-02-24 10:30:18 Hail: INFO: Coerced sorted dataset\n",
      "2020-02-24 10:30:18 Hail: INFO: Coerced sorted dataset\n",
      "2020-02-24 10:30:18 Hail: INFO: Coerced sorted dataset\n",
      "2020-02-24 10:30:28 Hail: INFO: Coerced sorted dataset\n",
      "2020-02-24 10:30:28 Hail: INFO: Coerced sorted dataset\n",
      "2020-02-24 10:30:28 Hail: INFO: Coerced sorted dataset\n",
      "2020-02-24 10:30:28 Hail: INFO: Coerced sorted dataset\n",
      "2020-02-24 10:30:29 Hail: INFO: Coerced sorted dataset\n",
      "2020-02-24 10:30:29 Hail: INFO: Coerced sorted dataset\n",
      "2020-02-24 10:30:29 Hail: INFO: Coerced sorted dataset\n",
      "2020-02-24 10:30:38 Hail: INFO: Coerced sorted dataset\n",
      "2020-02-24 10:30:38 Hail: INFO: Coerced sorted dataset\n",
      "2020-02-24 10:30:38 Hail: INFO: Coerced sorted dataset\n",
      "2020-02-24 10:30:39 Hail: INFO: Coerced sorted dataset\n",
      "2020-02-24 10:30:39 Hail: INFO: Coerced sorted dataset\n",
      "2020-02-24 10:30:40 Hail: INFO: Coerced sorted dataset\n",
      "2020-02-24 10:30:50 Hail: INFO: Coerced sorted dataset\n",
      "2020-02-24 10:30:50 Hail: INFO: Coerced sorted dataset\n",
      "2020-02-24 10:30:50 Hail: INFO: Coerced sorted dataset\n",
      "2020-02-24 10:31:09 Hail: INFO: Coerced sorted dataset\n",
      "2020-02-24 10:31:10 Hail: INFO: Coerced sorted dataset\n",
      "2020-02-24 10:31:10 Hail: INFO: Coerced sorted dataset\n",
      "2020-02-24 10:31:19 Hail: INFO: Coerced sorted dataset\n",
      "2020-02-24 10:31:19 Hail: INFO: Coerced sorted dataset\n",
      "2020-02-24 10:31:19 Hail: INFO: Coerced sorted dataset\n",
      "2020-02-24 10:31:19 Hail: INFO: Coerced sorted dataset\n",
      "2020-02-24 10:31:20 Hail: INFO: Coerced sorted dataset\n",
      "2020-02-24 10:31:20 Hail: INFO: Coerced sorted dataset\n",
      "2020-02-24 10:31:20 Hail: INFO: Coerced sorted dataset\n",
      "2020-02-24 10:31:31 Hail: INFO: Coerced sorted dataset\n",
      "2020-02-24 10:31:31 Hail: INFO: Coerced sorted dataset\n",
      "2020-02-24 10:31:31 Hail: INFO: Coerced sorted dataset\n",
      "2020-02-24 10:31:31 Hail: INFO: Coerced sorted dataset\n",
      "2020-02-24 10:31:32 Hail: INFO: Coerced sorted dataset\n",
      "2020-02-24 10:31:32 Hail: INFO: Coerced sorted dataset\n",
      "2020-02-24 10:31:41 Hail: INFO: Coerced sorted dataset\n",
      "2020-02-24 10:31:41 Hail: INFO: Coerced sorted dataset\n",
      "2020-02-24 10:31:41 Hail: INFO: Coerced sorted dataset\n",
      "2020-02-24 10:32:02 Hail: INFO: Coerced sorted dataset\n",
      "2020-02-24 10:32:02 Hail: INFO: Coerced sorted dataset\n",
      "2020-02-24 10:32:02 Hail: INFO: Coerced sorted dataset\n",
      "2020-02-24 10:32:12 Hail: INFO: Coerced sorted dataset\n",
      "2020-02-24 10:32:12 Hail: INFO: Coerced sorted dataset\n",
      "2020-02-24 10:32:12 Hail: INFO: Coerced sorted dataset\n",
      "2020-02-24 10:32:12 Hail: INFO: Coerced sorted dataset\n",
      "2020-02-24 10:32:12 Hail: INFO: Coerced sorted dataset\n",
      "2020-02-24 10:32:12 Hail: INFO: Coerced sorted dataset\n",
      "2020-02-24 10:32:12 Hail: INFO: Coerced sorted dataset\n",
      "2020-02-24 10:32:22 Hail: INFO: Coerced sorted dataset\n",
      "2020-02-24 10:32:22 Hail: INFO: Coerced sorted dataset\n",
      "2020-02-24 10:32:22 Hail: INFO: Coerced sorted dataset\n",
      "2020-02-24 10:32:23 Hail: INFO: Coerced sorted dataset\n",
      "2020-02-24 10:32:23 Hail: INFO: Coerced sorted dataset\n",
      "2020-02-24 10:32:24 Hail: INFO: Coerced sorted dataset\n",
      "2020-02-24 10:32:34 Hail: INFO: Coerced sorted dataset\n",
      "2020-02-24 10:32:34 Hail: INFO: Coerced sorted dataset\n",
      "2020-02-24 10:32:34 Hail: INFO: Coerced sorted dataset\n",
      "2020-02-24 10:32:54 Hail: INFO: Coerced sorted dataset\n",
      "2020-02-24 10:32:54 Hail: INFO: Coerced sorted dataset\n",
      "2020-02-24 10:32:54 Hail: INFO: Coerced sorted dataset\n",
      "2020-02-24 10:33:05 Hail: INFO: Coerced sorted dataset\n",
      "2020-02-24 10:33:05 Hail: INFO: Coerced sorted dataset\n",
      "2020-02-24 10:33:05 Hail: INFO: Coerced sorted dataset\n",
      "2020-02-24 10:33:05 Hail: INFO: Coerced sorted dataset\n",
      "2020-02-24 10:33:06 Hail: INFO: Coerced sorted dataset\n",
      "2020-02-24 10:33:06 Hail: INFO: Coerced sorted dataset\n",
      "2020-02-24 10:33:06 Hail: INFO: Coerced sorted dataset\n",
      "2020-02-24 10:33:15 Hail: INFO: Coerced sorted dataset\n",
      "2020-02-24 10:33:15 Hail: INFO: Coerced sorted dataset\n",
      "2020-02-24 10:33:15 Hail: INFO: Coerced sorted dataset\n",
      "2020-02-24 10:33:16 Hail: INFO: Coerced sorted dataset\n",
      "2020-02-24 10:33:16 Hail: INFO: Coerced sorted dataset\n",
      "2020-02-24 10:33:16 Hail: INFO: Coerced sorted dataset\n"
     ]
    },
    {
     "name": "stderr",
     "output_type": "stream",
     "text": [
      "2020-02-24 10:33:26 Hail: INFO: Coerced sorted dataset\n",
      "2020-02-24 10:33:26 Hail: INFO: Coerced sorted dataset\n",
      "2020-02-24 10:33:26 Hail: INFO: Coerced sorted dataset\n",
      "2020-02-24 10:33:45 Hail: INFO: Coerced sorted dataset\n",
      "2020-02-24 10:33:46 Hail: INFO: Coerced sorted dataset\n",
      "2020-02-24 10:33:46 Hail: INFO: Coerced sorted dataset\n",
      "2020-02-24 10:33:55 Hail: INFO: Coerced sorted dataset\n",
      "2020-02-24 10:33:56 Hail: INFO: Coerced sorted dataset\n",
      "2020-02-24 10:33:56 Hail: INFO: Coerced sorted dataset\n",
      "2020-02-24 10:33:56 Hail: INFO: Coerced sorted dataset\n",
      "2020-02-24 10:33:56 Hail: INFO: Coerced sorted dataset\n",
      "2020-02-24 10:33:56 Hail: INFO: Coerced sorted dataset\n",
      "2020-02-24 10:33:56 Hail: INFO: Coerced sorted dataset\n",
      "2020-02-24 10:34:06 Hail: INFO: Coerced sorted dataset\n",
      "2020-02-24 10:34:06 Hail: INFO: Coerced sorted dataset\n",
      "2020-02-24 10:34:06 Hail: INFO: Coerced sorted dataset\n",
      "2020-02-24 10:34:06 Hail: INFO: Coerced sorted dataset\n",
      "2020-02-24 10:34:06 Hail: INFO: Coerced sorted dataset\n",
      "2020-02-24 10:34:06 Hail: INFO: Coerced sorted dataset\n",
      "2020-02-24 10:34:16 Hail: INFO: Coerced sorted dataset\n",
      "2020-02-24 10:34:16 Hail: INFO: Coerced sorted dataset\n",
      "2020-02-24 10:34:16 Hail: INFO: Coerced sorted dataset\n",
      "2020-02-24 10:34:36 Hail: INFO: Coerced sorted dataset\n",
      "2020-02-24 10:34:36 Hail: INFO: Coerced sorted dataset\n",
      "2020-02-24 10:34:36 Hail: INFO: Coerced sorted dataset\n",
      "2020-02-24 10:34:46 Hail: INFO: Coerced sorted dataset\n",
      "2020-02-24 10:34:46 Hail: INFO: Coerced sorted dataset\n",
      "2020-02-24 10:34:46 Hail: INFO: Coerced sorted dataset\n",
      "2020-02-24 10:34:47 Hail: INFO: Coerced sorted dataset\n",
      "2020-02-24 10:34:47 Hail: INFO: Coerced sorted dataset\n",
      "2020-02-24 10:34:47 Hail: INFO: Coerced sorted dataset\n",
      "2020-02-24 10:34:48 Hail: INFO: Coerced sorted dataset\n",
      "2020-02-24 10:34:57 Hail: INFO: Coerced sorted dataset\n",
      "2020-02-24 10:34:57 Hail: INFO: Coerced sorted dataset\n",
      "2020-02-24 10:34:57 Hail: INFO: Coerced sorted dataset\n",
      "2020-02-24 10:34:58 Hail: INFO: Coerced sorted dataset\n",
      "2020-02-24 10:34:58 Hail: INFO: Coerced sorted dataset\n",
      "2020-02-24 10:34:58 Hail: INFO: Coerced sorted dataset\n",
      "2020-02-24 10:35:08 Hail: INFO: Coerced sorted dataset\n",
      "2020-02-24 10:35:08 Hail: INFO: Coerced sorted dataset\n",
      "2020-02-24 10:35:08 Hail: INFO: Coerced sorted dataset\n",
      "2020-02-24 10:35:28 Hail: INFO: Coerced sorted dataset\n",
      "2020-02-24 10:35:28 Hail: INFO: Coerced sorted dataset\n",
      "2020-02-24 10:35:28 Hail: INFO: Coerced sorted dataset\n",
      "2020-02-24 10:35:38 Hail: INFO: Coerced sorted dataset\n",
      "2020-02-24 10:35:38 Hail: INFO: Coerced sorted dataset\n",
      "2020-02-24 10:35:38 Hail: INFO: Coerced sorted dataset\n",
      "2020-02-24 10:35:38 Hail: INFO: Coerced sorted dataset\n",
      "2020-02-24 10:35:39 Hail: INFO: Coerced sorted dataset\n",
      "2020-02-24 10:35:39 Hail: INFO: Coerced sorted dataset\n",
      "2020-02-24 10:35:39 Hail: INFO: Coerced sorted dataset\n",
      "2020-02-24 10:35:48 Hail: INFO: Coerced sorted dataset\n",
      "2020-02-24 10:35:48 Hail: INFO: Coerced sorted dataset\n",
      "2020-02-24 10:35:48 Hail: INFO: Coerced sorted dataset\n",
      "2020-02-24 10:35:49 Hail: INFO: Coerced sorted dataset\n",
      "2020-02-24 10:35:50 Hail: INFO: Coerced sorted dataset\n",
      "2020-02-24 10:35:50 Hail: INFO: Coerced sorted dataset\n",
      "2020-02-24 10:36:00 Hail: INFO: Coerced sorted dataset\n",
      "2020-02-24 10:36:00 Hail: INFO: Coerced sorted dataset\n",
      "2020-02-24 10:36:00 Hail: INFO: Coerced sorted dataset\n",
      "2020-02-24 10:36:20 Hail: INFO: Coerced sorted dataset\n",
      "2020-02-24 10:36:20 Hail: INFO: Coerced sorted dataset\n",
      "2020-02-24 10:36:20 Hail: INFO: Coerced sorted dataset\n",
      "2020-02-24 10:36:29 Hail: INFO: Coerced sorted dataset\n",
      "2020-02-24 10:36:29 Hail: INFO: Coerced sorted dataset\n",
      "2020-02-24 10:36:30 Hail: INFO: Coerced sorted dataset\n",
      "2020-02-24 10:36:30 Hail: INFO: Coerced sorted dataset\n",
      "2020-02-24 10:36:30 Hail: INFO: Coerced sorted dataset\n",
      "2020-02-24 10:36:30 Hail: INFO: Coerced sorted dataset\n",
      "2020-02-24 10:36:30 Hail: INFO: Coerced sorted dataset\n",
      "2020-02-24 10:36:40 Hail: INFO: Coerced sorted dataset\n",
      "2020-02-24 10:36:40 Hail: INFO: Coerced sorted dataset\n",
      "2020-02-24 10:36:40 Hail: INFO: Coerced sorted dataset\n",
      "2020-02-24 10:36:41 Hail: INFO: Coerced sorted dataset\n",
      "2020-02-24 10:36:41 Hail: INFO: Coerced sorted dataset\n",
      "2020-02-24 10:36:41 Hail: INFO: Coerced sorted dataset\n",
      "2020-02-24 10:36:51 Hail: INFO: Coerced sorted dataset\n",
      "2020-02-24 10:36:51 Hail: INFO: Coerced sorted dataset\n",
      "2020-02-24 10:36:51 Hail: INFO: Coerced sorted dataset\n",
      "2020-02-24 10:37:12 Hail: INFO: Coerced sorted dataset\n",
      "2020-02-24 10:37:12 Hail: INFO: Coerced sorted dataset\n",
      "2020-02-24 10:37:12 Hail: INFO: Coerced sorted dataset\n",
      "2020-02-24 10:37:22 Hail: INFO: Coerced sorted dataset\n",
      "2020-02-24 10:37:22 Hail: INFO: Coerced sorted dataset\n",
      "2020-02-24 10:37:22 Hail: INFO: Coerced sorted dataset\n",
      "2020-02-24 10:37:22 Hail: INFO: Coerced sorted dataset\n",
      "2020-02-24 10:37:22 Hail: INFO: Coerced sorted dataset\n",
      "2020-02-24 10:37:22 Hail: INFO: Coerced sorted dataset\n",
      "2020-02-24 10:37:22 Hail: INFO: Coerced sorted dataset\n",
      "2020-02-24 10:37:32 Hail: INFO: Coerced sorted dataset\n",
      "2020-02-24 10:37:32 Hail: INFO: Coerced sorted dataset\n",
      "2020-02-24 10:37:33 Hail: INFO: Coerced sorted dataset\n",
      "2020-02-24 10:37:33 Hail: INFO: Coerced sorted dataset\n",
      "2020-02-24 10:37:33 Hail: INFO: Coerced sorted dataset\n",
      "2020-02-24 10:37:33 Hail: INFO: Coerced sorted dataset\n",
      "2020-02-24 10:37:42 Hail: INFO: Coerced sorted dataset\n",
      "2020-02-24 10:37:43 Hail: INFO: Coerced sorted dataset\n",
      "2020-02-24 10:37:43 Hail: INFO: Coerced sorted dataset\n",
      "2020-02-24 10:38:02 Hail: INFO: Coerced sorted dataset\n",
      "2020-02-24 10:38:02 Hail: INFO: Coerced sorted dataset\n",
      "2020-02-24 10:38:02 Hail: INFO: Coerced sorted dataset\n",
      "2020-02-24 10:38:12 Hail: INFO: Coerced sorted dataset\n",
      "2020-02-24 10:38:12 Hail: INFO: Coerced sorted dataset\n",
      "2020-02-24 10:38:12 Hail: INFO: Coerced sorted dataset\n",
      "2020-02-24 10:38:12 Hail: INFO: Coerced sorted dataset\n",
      "2020-02-24 10:38:12 Hail: INFO: Coerced sorted dataset\n",
      "2020-02-24 10:38:13 Hail: INFO: Coerced sorted dataset\n",
      "2020-02-24 10:38:13 Hail: INFO: Coerced sorted dataset\n",
      "2020-02-24 10:38:23 Hail: INFO: Coerced sorted dataset\n",
      "2020-02-24 10:38:23 Hail: INFO: Coerced sorted dataset\n",
      "2020-02-24 10:38:23 Hail: INFO: Coerced sorted dataset\n",
      "2020-02-24 10:38:24 Hail: INFO: Coerced sorted dataset\n",
      "2020-02-24 10:38:24 Hail: INFO: Coerced sorted dataset\n",
      "2020-02-24 10:38:24 Hail: INFO: Coerced sorted dataset\n",
      "2020-02-24 10:38:34 Hail: INFO: Coerced sorted dataset\n",
      "2020-02-24 10:38:34 Hail: INFO: Coerced sorted dataset\n",
      "2020-02-24 10:38:34 Hail: INFO: Coerced sorted dataset\n",
      "2020-02-24 10:38:54 Hail: INFO: Coerced sorted dataset\n",
      "2020-02-24 10:38:54 Hail: INFO: Coerced sorted dataset\n",
      "2020-02-24 10:38:54 Hail: INFO: Coerced sorted dataset\n",
      "2020-02-24 10:39:04 Hail: INFO: Coerced sorted dataset\n",
      "2020-02-24 10:39:04 Hail: INFO: Coerced sorted dataset\n",
      "2020-02-24 10:39:04 Hail: INFO: Coerced sorted dataset\n",
      "2020-02-24 10:39:04 Hail: INFO: Coerced sorted dataset\n",
      "2020-02-24 10:39:05 Hail: INFO: Coerced sorted dataset\n",
      "2020-02-24 10:39:05 Hail: INFO: Coerced sorted dataset\n",
      "2020-02-24 10:39:05 Hail: INFO: Coerced sorted dataset\n",
      "2020-02-24 10:39:14 Hail: INFO: Coerced sorted dataset\n",
      "2020-02-24 10:39:14 Hail: INFO: Coerced sorted dataset\n",
      "2020-02-24 10:39:14 Hail: INFO: Coerced sorted dataset\n",
      "2020-02-24 10:39:15 Hail: INFO: Coerced sorted dataset\n",
      "2020-02-24 10:39:15 Hail: INFO: Coerced sorted dataset\n",
      "2020-02-24 10:39:15 Hail: INFO: Coerced sorted dataset\n",
      "2020-02-24 10:39:25 Hail: INFO: Coerced sorted dataset\n",
      "2020-02-24 10:39:25 Hail: INFO: Coerced sorted dataset\n",
      "2020-02-24 10:39:25 Hail: INFO: Coerced sorted dataset\n",
      "2020-02-24 10:39:44 Hail: INFO: Coerced sorted dataset\n",
      "2020-02-24 10:39:44 Hail: INFO: Coerced sorted dataset\n",
      "2020-02-24 10:39:44 Hail: INFO: Coerced sorted dataset\n",
      "2020-02-24 10:39:54 Hail: INFO: Coerced sorted dataset\n",
      "2020-02-24 10:39:54 Hail: INFO: Coerced sorted dataset\n",
      "2020-02-24 10:39:54 Hail: INFO: Coerced sorted dataset\n",
      "2020-02-24 10:39:54 Hail: INFO: Coerced sorted dataset\n",
      "2020-02-24 10:39:55 Hail: INFO: Coerced sorted dataset\n",
      "2020-02-24 10:39:55 Hail: INFO: Coerced sorted dataset\n",
      "2020-02-24 10:39:55 Hail: INFO: Coerced sorted dataset\n",
      "2020-02-24 10:40:05 Hail: INFO: Coerced sorted dataset\n",
      "2020-02-24 10:40:05 Hail: INFO: Coerced sorted dataset\n",
      "2020-02-24 10:40:05 Hail: INFO: Coerced sorted dataset\n"
     ]
    },
    {
     "name": "stderr",
     "output_type": "stream",
     "text": [
      "2020-02-24 10:40:05 Hail: INFO: Coerced sorted dataset\n",
      "2020-02-24 10:40:05 Hail: INFO: Coerced sorted dataset\n",
      "2020-02-24 10:40:05 Hail: INFO: Coerced sorted dataset\n",
      "2020-02-24 10:40:15 Hail: INFO: Coerced sorted dataset\n",
      "2020-02-24 10:40:15 Hail: INFO: Coerced sorted dataset\n",
      "2020-02-24 10:40:15 Hail: INFO: Coerced sorted dataset\n",
      "2020-02-24 10:40:35 Hail: INFO: Coerced sorted dataset\n",
      "2020-02-24 10:40:35 Hail: INFO: Coerced sorted dataset\n",
      "2020-02-24 10:40:35 Hail: INFO: Coerced sorted dataset\n",
      "2020-02-24 10:40:45 Hail: INFO: Coerced sorted dataset\n",
      "2020-02-24 10:40:45 Hail: INFO: Coerced sorted dataset\n",
      "2020-02-24 10:40:45 Hail: INFO: Coerced sorted dataset\n",
      "2020-02-24 10:40:45 Hail: INFO: Coerced sorted dataset\n",
      "2020-02-24 10:40:45 Hail: INFO: Coerced sorted dataset\n",
      "2020-02-24 10:40:45 Hail: INFO: Coerced sorted dataset\n",
      "2020-02-24 10:40:45 Hail: INFO: Coerced sorted dataset\n",
      "2020-02-24 10:40:55 Hail: INFO: Coerced sorted dataset\n",
      "2020-02-24 10:40:55 Hail: INFO: Coerced sorted dataset\n",
      "2020-02-24 10:40:55 Hail: INFO: Coerced sorted dataset\n",
      "2020-02-24 10:40:55 Hail: INFO: Coerced sorted dataset\n",
      "2020-02-24 10:40:56 Hail: INFO: Coerced sorted dataset\n",
      "2020-02-24 10:40:56 Hail: INFO: Coerced sorted dataset\n",
      "2020-02-24 10:41:06 Hail: INFO: Coerced sorted dataset\n",
      "2020-02-24 10:41:06 Hail: INFO: Coerced sorted dataset\n",
      "2020-02-24 10:41:06 Hail: INFO: Coerced sorted dataset\n",
      "2020-02-24 10:41:26 Hail: INFO: Coerced sorted dataset\n",
      "2020-02-24 10:41:26 Hail: INFO: Coerced sorted dataset\n",
      "2020-02-24 10:41:26 Hail: INFO: Coerced sorted dataset\n",
      "2020-02-24 10:41:36 Hail: INFO: Coerced sorted dataset\n",
      "2020-02-24 10:41:36 Hail: INFO: Coerced sorted dataset\n",
      "2020-02-24 10:41:36 Hail: INFO: Coerced sorted dataset\n",
      "2020-02-24 10:41:36 Hail: INFO: Coerced sorted dataset\n",
      "2020-02-24 10:41:36 Hail: INFO: Coerced sorted dataset\n",
      "2020-02-24 10:41:36 Hail: INFO: Coerced sorted dataset\n",
      "2020-02-24 10:41:36 Hail: INFO: Coerced sorted dataset\n",
      "2020-02-24 10:41:46 Hail: INFO: Coerced sorted dataset\n",
      "2020-02-24 10:41:46 Hail: INFO: Coerced sorted dataset\n",
      "2020-02-24 10:41:46 Hail: INFO: Coerced sorted dataset\n",
      "2020-02-24 10:41:47 Hail: INFO: Coerced sorted dataset\n",
      "2020-02-24 10:41:47 Hail: INFO: Coerced sorted dataset\n",
      "2020-02-24 10:41:47 Hail: INFO: Coerced sorted dataset\n",
      "2020-02-24 10:41:57 Hail: INFO: Coerced sorted dataset\n",
      "2020-02-24 10:41:57 Hail: INFO: Coerced sorted dataset\n",
      "2020-02-24 10:41:57 Hail: INFO: Coerced sorted dataset\n"
     ]
    }
   ],
   "source": [
    "controls = np.zeros((len([3,4,5]), len([10,11,12,13,14,15])))\n",
    "gts = np.zeros((len([3,4,5]), len([10,11,12,13,14,15])))\n",
    "\n",
    "variants_controls = np.zeros((len([3,4,5]), len([10,11,12,13,14,15])))\n",
    "variants_gts =  np.zeros((len([3,4,5]), len([10,11,12,13,14,15])))\n",
    "\n",
    "controls_test = np.zeros((len([3,4,5]), len([10,11,12,13,14,15])))\n",
    "gts_test = np.zeros((len([3,4,5]), len([10,11,12,13,14,15])))\n",
    "\n",
    "\n",
    "for rows, n in enumerate([3,4,5]):\n",
    "    top_log = hl.array(skat_log_40.order_by('p_value').id.take(n))\n",
    "    mt_skat_log_40 = mt.filter_rows(hl.any(lambda x: hl.literal(top_log).contains(x), mt.nearest_genes_20kb))\n",
    "    mt_test_skat_log_40 = mt_test.filter_rows(hl.any(lambda x: hl.literal(top_log).contains(x), mt_test.nearest_genes_20kb))\n",
    "    \n",
    "    for cols, c in enumerate([10,11,12,13,14,15]):\n",
    "\n",
    "        mt_skat_log_40 = mt_skat_log_40.filter_rows(mt_skat_log_40.cadd > c)\n",
    "        skat_log_40_res = mt_skat_log_40.annotate_cols(non_refs = hl.agg.count_where(mt_skat_log_40.GT.is_non_ref())) #count variants per sample\n",
    "        skat_log_40_sum = skat_log_40_res.cols()\n",
    "\n",
    "        skat_log_40_sum = (skat_log_40_sum.group_by(skat_log_40_sum.category).aggregate(mean_non_refs = hl.agg.mean(skat_log_40_sum.non_refs)))\n",
    "\n",
    "        results = skat_log_40_sum.mean_non_refs.collect()\n",
    "        ctrl = results[0]\n",
    "\n",
    "        variants_controls[rows, cols] = results[0]\n",
    "        variants_gts[rows, cols] = results[1]\n",
    "\n",
    "\n",
    "        test = skat_log_40_res.cols()\n",
    "        test = test.annotate(test_result = (((hl.float(ctrl) - test.non_refs) / hl.float(ctrl)) < -0.1))\n",
    "        test = test.annotate(success = (test.test_result == test.category))\n",
    "        test2 = test.filter(test.s.contains('gnmd'))\n",
    "        test1 = test.filter(test.phenotypes.disease == 'YES')\n",
    "\n",
    "        try:\n",
    "            controls[rows, cols] = test2.aggregate(hl.agg.counter(test2.success))[1]\n",
    "        except KeyError:\n",
    "            controls[rows, cols] = 0\n",
    "\n",
    "        try:\n",
    "            gts[rows, cols] = test1.aggregate(hl.agg.counter(test1.success))[1]\n",
    "        except KeyError:\n",
    "            gts[rows, cols] = 0\n",
    "                \n",
    "        mt_test_skat_log_40 = mt_test_skat_log_40.filter_rows(mt_test_skat_log_40.cadd > c)\n",
    "        skat_log_40_res = mt_test_skat_log_40.annotate_cols(non_refs = hl.agg.count_where(mt_test_skat_log_40.GT.is_non_ref())) #count variants per sample\n",
    "        \n",
    "        test3 = skat_log_40_res.cols()\n",
    "        test3 = test3.annotate(test_result = (((hl.float(ctrl) - test3.non_refs) / hl.float(ctrl)) < -0.1))\n",
    "        test3 = test3.annotate(success = (test3.test_result == test3.category))\n",
    "        test4 = test3.filter(test3.phenotypes.disease == 'NO')\n",
    "        test5 = test3.filter(test3.phenotypes.disease == 'YES')\n",
    "            \n",
    "        try:\n",
    "            controls_test[rows, cols] = test4.aggregate(hl.agg.counter(test4.success))[1]\n",
    "        except KeyError:\n",
    "            controls_test[rows, cols] = 0\n",
    "            \n",
    "        try:\n",
    "            gts_test[rows, cols] = test5.aggregate(hl.agg.counter(test5.success))[1]\n",
    "        except KeyError:\n",
    "            gts_test[rows, cols] = 0\n",
    "                "
   ]
  },
  {
   "cell_type": "code",
   "execution_count": 146,
   "metadata": {},
   "outputs": [],
   "source": [
    "np.save('controls_40', controls)\n",
    "np.save('gts_40', gts)\n",
    "np.save('variants_controls_40', variants_controls)\n",
    "np.save('variants_gts_40', variants_gts)\n",
    "np.save('controls_test_40', controls_test)\n",
    "np.save('gts_test_40', gts_test)"
   ]
  },
  {
   "cell_type": "code",
   "execution_count": 39,
   "metadata": {},
   "outputs": [
    {
     "data": {
      "text/plain": [
       "(6148861, 62)"
      ]
     },
     "execution_count": 39,
     "metadata": {},
     "output_type": "execute_result"
    }
   ],
   "source": [
    "mt_test.filter_cols(mt_test.phenotypes.disease == 'YES').count()"
   ]
  },
  {
   "cell_type": "code",
   "execution_count": 40,
   "metadata": {},
   "outputs": [
    {
     "data": {
      "text/plain": [
       "(6148861, 43)"
      ]
     },
     "execution_count": 40,
     "metadata": {},
     "output_type": "execute_result"
    }
   ],
   "source": [
    "mt_test.filter_cols(mt_test.phenotypes.disease == 'NO').count()"
   ]
  },
  {
   "cell_type": "code",
   "execution_count": 161,
   "metadata": {},
   "outputs": [],
   "source": [
    "a = list((controls_test*100/43).flatten())\n",
    "b = list((gts_test*100/62).flatten())"
   ]
  },
  {
   "cell_type": "code",
   "execution_count": 173,
   "metadata": {},
   "outputs": [
    {
     "data": {
      "text/plain": [
       "(array([0]), array([1]))"
      ]
     },
     "execution_count": 173,
     "metadata": {},
     "output_type": "execute_result"
    }
   ],
   "source": [
    "np.where(((controls_test*100/43) > 50) & ((gts_test*100/62) > 40)) "
   ]
  },
  {
   "cell_type": "code",
   "execution_count": 174,
   "metadata": {},
   "outputs": [
    {
     "data": {
      "text/plain": [
       "31.0"
      ]
     },
     "execution_count": 174,
     "metadata": {},
     "output_type": "execute_result"
    }
   ],
   "source": [
    "controls_test[0,1]"
   ]
  },
  {
   "cell_type": "code",
   "execution_count": 175,
   "metadata": {},
   "outputs": [
    {
     "data": {
      "text/plain": [
       "26.0"
      ]
     },
     "execution_count": 175,
     "metadata": {},
     "output_type": "execute_result"
    }
   ],
   "source": [
    "gts_test[0,1]"
   ]
  },
  {
   "cell_type": "code",
   "execution_count": 162,
   "metadata": {},
   "outputs": [
    {
     "data": {
      "text/html": [
       "\n",
       "\n",
       "\n",
       "\n",
       "\n",
       "\n",
       "  <div class=\"bk-root\" id=\"c6c3b257-8576-4894-b54e-d61923dfe120\" data-root-id=\"5913\"></div>\n"
      ]
     },
     "metadata": {},
     "output_type": "display_data"
    },
    {
     "data": {
      "application/javascript": [
       "(function(root) {\n",
       "  function embed_document(root) {\n",
       "    \n",
       "  var docs_json = {\"25e631d0-8dc6-4723-9720-c59e40ec2309\":{\"roots\":{\"references\":[{\"attributes\":{\"below\":[{\"id\":\"5922\",\"type\":\"LinearAxis\"}],\"center\":[{\"id\":\"5926\",\"type\":\"Grid\"},{\"id\":\"5931\",\"type\":\"Grid\"}],\"left\":[{\"id\":\"5927\",\"type\":\"LinearAxis\"}],\"renderers\":[{\"id\":\"5948\",\"type\":\"GlyphRenderer\"}],\"title\":{\"id\":\"6159\",\"type\":\"Title\"},\"toolbar\":{\"id\":\"5938\",\"type\":\"Toolbar\"},\"x_range\":{\"id\":\"5914\",\"type\":\"DataRange1d\"},\"x_scale\":{\"id\":\"5918\",\"type\":\"LinearScale\"},\"y_range\":{\"id\":\"5916\",\"type\":\"DataRange1d\"},\"y_scale\":{\"id\":\"5920\",\"type\":\"LinearScale\"}},\"id\":\"5913\",\"subtype\":\"Figure\",\"type\":\"Plot\"},{\"attributes\":{\"callback\":null,\"data\":{\"x\":[81.3953488372093,72.09302325581395,76.74418604651163,72.09302325581395,69.76744186046511,67.44186046511628,88.37209302325581,88.37209302325581,90.69767441860465,93.02325581395348,79.06976744186046,79.06976744186046,95.34883720930233,93.02325581395348,93.02325581395348,88.37209302325581,90.69767441860465,83.72093023255815],\"y\":[30.64516129032258,41.935483870967744,27.419354838709676,27.419354838709676,32.25806451612903,33.87096774193548,24.193548387096776,29.032258064516128,22.580645161290324,19.35483870967742,25.806451612903224,29.032258064516128,24.193548387096776,22.580645161290324,19.35483870967742,19.35483870967742,22.580645161290324,29.032258064516128]},\"selected\":{\"id\":\"6165\",\"type\":\"Selection\"},\"selection_policy\":{\"id\":\"6166\",\"type\":\"UnionRenderers\"}},\"id\":\"5945\",\"type\":\"ColumnDataSource\"},{\"attributes\":{},\"id\":\"6163\",\"type\":\"BasicTickFormatter\"},{\"attributes\":{\"fill_alpha\":{\"value\":0.5},\"fill_color\":{\"value\":\"#1f77b4\"},\"line_alpha\":{\"value\":0.5},\"line_color\":{\"value\":\"#1f77b4\"},\"size\":{\"units\":\"screen\",\"value\":10},\"x\":{\"field\":\"x\"},\"y\":{\"field\":\"y\"}},\"id\":\"5946\",\"type\":\"Circle\"},{\"attributes\":{},\"id\":\"5920\",\"type\":\"LinearScale\"},{\"attributes\":{},\"id\":\"5932\",\"type\":\"PanTool\"},{\"attributes\":{\"bottom_units\":\"screen\",\"fill_alpha\":{\"value\":0.5},\"fill_color\":{\"value\":\"lightgrey\"},\"left_units\":\"screen\",\"level\":\"overlay\",\"line_alpha\":{\"value\":1.0},\"line_color\":{\"value\":\"black\"},\"line_dash\":[4,4],\"line_width\":{\"value\":2},\"render_mode\":\"css\",\"right_units\":\"screen\",\"top_units\":\"screen\"},\"id\":\"6167\",\"type\":\"BoxAnnotation\"},{\"attributes\":{\"formatter\":{\"id\":\"6163\",\"type\":\"BasicTickFormatter\"},\"ticker\":{\"id\":\"5923\",\"type\":\"BasicTicker\"}},\"id\":\"5922\",\"type\":\"LinearAxis\"},{\"attributes\":{\"text\":\"\"},\"id\":\"6159\",\"type\":\"Title\"},{\"attributes\":{},\"id\":\"6165\",\"type\":\"Selection\"},{\"attributes\":{\"callback\":null},\"id\":\"5914\",\"type\":\"DataRange1d\"},{\"attributes\":{},\"id\":\"5933\",\"type\":\"WheelZoomTool\"},{\"attributes\":{\"ticker\":{\"id\":\"5923\",\"type\":\"BasicTicker\"}},\"id\":\"5926\",\"type\":\"Grid\"},{\"attributes\":{},\"id\":\"5918\",\"type\":\"LinearScale\"},{\"attributes\":{},\"id\":\"5923\",\"type\":\"BasicTicker\"},{\"attributes\":{},\"id\":\"5936\",\"type\":\"ResetTool\"},{\"attributes\":{\"source\":{\"id\":\"5945\",\"type\":\"ColumnDataSource\"}},\"id\":\"5949\",\"type\":\"CDSView\"},{\"attributes\":{\"formatter\":{\"id\":\"6161\",\"type\":\"BasicTickFormatter\"},\"ticker\":{\"id\":\"5928\",\"type\":\"BasicTicker\"}},\"id\":\"5927\",\"type\":\"LinearAxis\"},{\"attributes\":{},\"id\":\"5928\",\"type\":\"BasicTicker\"},{\"attributes\":{\"data_source\":{\"id\":\"5945\",\"type\":\"ColumnDataSource\"},\"glyph\":{\"id\":\"5946\",\"type\":\"Circle\"},\"hover_glyph\":null,\"muted_glyph\":null,\"nonselection_glyph\":{\"id\":\"5947\",\"type\":\"Circle\"},\"selection_glyph\":null,\"view\":{\"id\":\"5949\",\"type\":\"CDSView\"}},\"id\":\"5948\",\"type\":\"GlyphRenderer\"},{\"attributes\":{\"dimension\":1,\"ticker\":{\"id\":\"5928\",\"type\":\"BasicTicker\"}},\"id\":\"5931\",\"type\":\"Grid\"},{\"attributes\":{},\"id\":\"6166\",\"type\":\"UnionRenderers\"},{\"attributes\":{},\"id\":\"5937\",\"type\":\"HelpTool\"},{\"attributes\":{\"active_drag\":\"auto\",\"active_inspect\":\"auto\",\"active_multi\":null,\"active_scroll\":\"auto\",\"active_tap\":\"auto\",\"tools\":[{\"id\":\"5932\",\"type\":\"PanTool\"},{\"id\":\"5933\",\"type\":\"WheelZoomTool\"},{\"id\":\"5934\",\"type\":\"BoxZoomTool\"},{\"id\":\"5935\",\"type\":\"SaveTool\"},{\"id\":\"5936\",\"type\":\"ResetTool\"},{\"id\":\"5937\",\"type\":\"HelpTool\"}]},\"id\":\"5938\",\"type\":\"Toolbar\"},{\"attributes\":{},\"id\":\"6161\",\"type\":\"BasicTickFormatter\"},{\"attributes\":{\"fill_alpha\":{\"value\":0.1},\"fill_color\":{\"value\":\"#1f77b4\"},\"line_alpha\":{\"value\":0.1},\"line_color\":{\"value\":\"#1f77b4\"},\"size\":{\"units\":\"screen\",\"value\":10},\"x\":{\"field\":\"x\"},\"y\":{\"field\":\"y\"}},\"id\":\"5947\",\"type\":\"Circle\"},{\"attributes\":{},\"id\":\"5935\",\"type\":\"SaveTool\"},{\"attributes\":{\"callback\":null},\"id\":\"5916\",\"type\":\"DataRange1d\"},{\"attributes\":{\"overlay\":{\"id\":\"6167\",\"type\":\"BoxAnnotation\"}},\"id\":\"5934\",\"type\":\"BoxZoomTool\"}],\"root_ids\":[\"5913\"]},\"title\":\"Bokeh Application\",\"version\":\"1.2.0\"}};\n",
       "  var render_items = [{\"docid\":\"25e631d0-8dc6-4723-9720-c59e40ec2309\",\"roots\":{\"5913\":\"c6c3b257-8576-4894-b54e-d61923dfe120\"}}];\n",
       "  root.Bokeh.embed.embed_items_notebook(docs_json, render_items);\n",
       "\n",
       "  }\n",
       "  if (root.Bokeh !== undefined) {\n",
       "    embed_document(root);\n",
       "  } else {\n",
       "    var attempts = 0;\n",
       "    var timer = setInterval(function(root) {\n",
       "      if (root.Bokeh !== undefined) {\n",
       "        embed_document(root);\n",
       "        clearInterval(timer);\n",
       "      }\n",
       "      attempts++;\n",
       "      if (attempts > 100) {\n",
       "        console.log(\"Bokeh: ERROR: Unable to run BokehJS code because BokehJS library is missing\");\n",
       "        clearInterval(timer);\n",
       "      }\n",
       "    }, 10, root)\n",
       "  }\n",
       "})(window);"
      ],
      "application/vnd.bokehjs_exec.v0+json": ""
     },
     "metadata": {
      "application/vnd.bokehjs_exec.v0+json": {
       "id": "5913"
      }
     },
     "output_type": "display_data"
    }
   ],
   "source": [
    "from bokeh.plotting import figure, output_notebook, show\n",
    "\n",
    "output_notebook\n",
    "\n",
    "p2 = figure(plot_width=600, plot_height=600)\n",
    "\n",
    "# add a circle renderer with a size, color, and alpha\n",
    "p2.circle(a, b, size=10, alpha=0.5)\n",
    "\n",
    "# show the results\n",
    "show(p2)\n",
    "\n",
    "#this graph shows % of well asigned controls (x asis) vs well asigned GTS (y axis)"
   ]
  },
  {
   "cell_type": "markdown",
   "metadata": {},
   "source": [
    "## best predictor based on heavy_tics vs gnomads tested on families on the short gene list = 3 genes, 11 cadd\n",
    "\n"
   ]
  },
  {
   "cell_type": "markdown",
   "metadata": {},
   "source": [
    "## Draw a ROC curve \n",
    "\n",
    "for this we need false positived and true positives as a function of treshold"
   ]
  },
  {
   "cell_type": "code",
   "execution_count": 188,
   "metadata": {},
   "outputs": [],
   "source": [
    "false_pos = []\n",
    "true_pos = []\n",
    "\n",
    "for x in np.linspace(-1,1,40):\n",
    "\n",
    "    top_log = hl.array(skat_log_40.order_by('p_value').id.take(3))\n",
    "    mt_test_skat_log = mt_test.filter_rows(hl.any(lambda x: hl.literal(top_log).contains(x), mt_test.nearest_genes_20kb))\n",
    "\n",
    "\n",
    "    mt_test_skat_log = mt_test_skat_log.filter_rows(mt_test_skat_log.cadd > 11)\n",
    "    skat_log_res = mt_test_skat_log.annotate_cols(non_refs = hl.agg.count_where(mt_test_skat_log.GT.is_non_ref())) #count variants per sample\n",
    "\n",
    "    test = skat_log_res.cols()\n",
    "    test = test.annotate(test_result = (((hl.float(variants_controls[0,1]) - test.non_refs) / hl.float(variants_controls[0,1])) < x))\n",
    "    test = test.annotate(success = (test.test_result == test.category))\n",
    "    test2 = test.filter(test.phenotypes.disease == 'NO')\n",
    "    test1 = test.filter(test.phenotypes.disease == 'YES')\n",
    "    \n",
    "    try:\n",
    "        false_pos.append(test2.aggregate(hl.agg.counter(test2.success))[0]/43)\n",
    "        \n",
    "    except(KeyError, TypeError):\n",
    "        false_pos.append(0)\n",
    "                            \n",
    "    try:\n",
    "        true_pos.append(test1.aggregate(hl.agg.counter(test1.success))[1]/62)\n",
    "        \n",
    "    except(KeyError, TypeError):\n",
    "        true_pos.append(0)"
   ]
  },
  {
   "cell_type": "code",
   "execution_count": 189,
   "metadata": {},
   "outputs": [],
   "source": [
    "y = np.linspace(0,1,10)"
   ]
  },
  {
   "cell_type": "code",
   "execution_count": 190,
   "metadata": {},
   "outputs": [],
   "source": [
    "x = np.linspace(0,1,10)"
   ]
  },
  {
   "cell_type": "code",
   "execution_count": 275,
   "metadata": {},
   "outputs": [],
   "source": [
    "np.save('false_pos', false_pos)\n",
    "np.save('true_pos', true_pos)"
   ]
  },
  {
   "cell_type": "code",
   "execution_count": 191,
   "metadata": {},
   "outputs": [
    {
     "data": {
      "text/html": [
       "\n",
       "\n",
       "\n",
       "\n",
       "\n",
       "\n",
       "  <div class=\"bk-root\" id=\"ca36177a-14c0-466f-9e6a-c57c3405a05d\" data-root-id=\"7636\"></div>\n"
      ]
     },
     "metadata": {},
     "output_type": "display_data"
    },
    {
     "data": {
      "application/javascript": [
       "(function(root) {\n",
       "  function embed_document(root) {\n",
       "    \n",
       "  var docs_json = {\"52eee5d4-2022-4acc-ae31-ed3ff7879ecb\":{\"roots\":{\"references\":[{\"attributes\":{\"below\":[{\"id\":\"7645\",\"type\":\"LinearAxis\"}],\"center\":[{\"id\":\"7649\",\"type\":\"Grid\"},{\"id\":\"7654\",\"type\":\"Grid\"}],\"left\":[{\"id\":\"7650\",\"type\":\"LinearAxis\"}],\"plot_height\":800,\"plot_width\":800,\"renderers\":[{\"id\":\"7671\",\"type\":\"GlyphRenderer\"},{\"id\":\"7676\",\"type\":\"GlyphRenderer\"}],\"title\":{\"id\":\"7940\",\"type\":\"Title\"},\"toolbar\":{\"id\":\"7661\",\"type\":\"Toolbar\"},\"x_range\":{\"id\":\"7637\",\"type\":\"DataRange1d\"},\"x_scale\":{\"id\":\"7641\",\"type\":\"LinearScale\"},\"y_range\":{\"id\":\"7639\",\"type\":\"DataRange1d\"},\"y_scale\":{\"id\":\"7643\",\"type\":\"LinearScale\"}},\"id\":\"7636\",\"subtype\":\"Figure\",\"type\":\"Plot\"},{\"attributes\":{},\"id\":\"7646\",\"type\":\"BasicTicker\"},{\"attributes\":{\"data_source\":{\"id\":\"7668\",\"type\":\"ColumnDataSource\"},\"glyph\":{\"id\":\"7669\",\"type\":\"Line\"},\"hover_glyph\":null,\"muted_glyph\":null,\"nonselection_glyph\":{\"id\":\"7670\",\"type\":\"Line\"},\"selection_glyph\":null,\"view\":{\"id\":\"7672\",\"type\":\"CDSView\"}},\"id\":\"7671\",\"type\":\"GlyphRenderer\"},{\"attributes\":{\"ticker\":{\"id\":\"7646\",\"type\":\"BasicTicker\"}},\"id\":\"7649\",\"type\":\"Grid\"},{\"attributes\":{\"line_color\":\"lightgrey\",\"line_width\":4,\"x\":{\"field\":\"x\"},\"y\":{\"field\":\"y\"}},\"id\":\"7669\",\"type\":\"Line\"},{\"attributes\":{\"callback\":null},\"id\":\"7639\",\"type\":\"DataRange1d\"},{\"attributes\":{\"text\":\"\"},\"id\":\"7940\",\"type\":\"Title\"},{\"attributes\":{\"line_alpha\":0.1,\"line_color\":\"#1f77b4\",\"line_width\":4,\"x\":{\"field\":\"x\"},\"y\":{\"field\":\"y\"}},\"id\":\"7675\",\"type\":\"Line\"},{\"attributes\":{},\"id\":\"7643\",\"type\":\"LinearScale\"},{\"attributes\":{},\"id\":\"7651\",\"type\":\"BasicTicker\"},{\"attributes\":{\"source\":{\"id\":\"7673\",\"type\":\"ColumnDataSource\"}},\"id\":\"7677\",\"type\":\"CDSView\"},{\"attributes\":{},\"id\":\"7946\",\"type\":\"Selection\"},{\"attributes\":{\"callback\":null,\"data\":{\"x\":[0,0,0,0,0,0,0,0.023255813953488372,0.023255813953488372,0.023255813953488372,0.023255813953488372,0.06976744186046512,0.06976744186046512,0.06976744186046512,0.06976744186046512,0.13953488372093023,0.13953488372093023,0.13953488372093023,0.27906976744186046,0.27906976744186046,0.37209302325581395,0.37209302325581395,0.5813953488372093,0.5813953488372093,0.7209302325581395,0.7209302325581395,0.7441860465116279,0.7441860465116279,0.7441860465116279,0.8372093023255814,0.8372093023255814,0.9069767441860465,0.9069767441860465,0.9767441860465116,0.9767441860465116,1.0,1.0,1.0,1.0,1.0],\"y\":[0,0,0.016129032258064516,0.016129032258064516,0.03225806451612903,0.03225806451612903,0.03225806451612903,0.03225806451612903,0.03225806451612903,0.04838709677419355,0.04838709677419355,0.08064516129032258,0.08064516129032258,0.20967741935483872,0.20967741935483872,0.22580645161290322,0.22580645161290322,0.22580645161290322,0.41935483870967744,0.41935483870967744,0.5161290322580645,0.5161290322580645,0.6935483870967742,0.6935483870967742,0.7258064516129032,0.7258064516129032,0.8064516129032258,0.8064516129032258,0.8064516129032258,0.9032258064516129,0.9032258064516129,0.9838709677419355,0.9838709677419355,1.0,1.0,1.0,1.0,1.0,1.0,1.0]},\"selected\":{\"id\":\"7948\",\"type\":\"Selection\"},\"selection_policy\":{\"id\":\"7949\",\"type\":\"UnionRenderers\"}},\"id\":\"7673\",\"type\":\"ColumnDataSource\"},{\"attributes\":{\"source\":{\"id\":\"7668\",\"type\":\"ColumnDataSource\"}},\"id\":\"7672\",\"type\":\"CDSView\"},{\"attributes\":{},\"id\":\"7656\",\"type\":\"WheelZoomTool\"},{\"attributes\":{\"dimension\":1,\"ticker\":{\"id\":\"7651\",\"type\":\"BasicTicker\"}},\"id\":\"7654\",\"type\":\"Grid\"},{\"attributes\":{},\"id\":\"7949\",\"type\":\"UnionRenderers\"},{\"attributes\":{\"line_alpha\":0.1,\"line_color\":\"#1f77b4\",\"line_width\":4,\"x\":{\"field\":\"x\"},\"y\":{\"field\":\"y\"}},\"id\":\"7670\",\"type\":\"Line\"},{\"attributes\":{},\"id\":\"7658\",\"type\":\"SaveTool\"},{\"attributes\":{},\"id\":\"7659\",\"type\":\"ResetTool\"},{\"attributes\":{},\"id\":\"7660\",\"type\":\"HelpTool\"},{\"attributes\":{\"axis_label\":\"false positives\",\"formatter\":{\"id\":\"7944\",\"type\":\"BasicTickFormatter\"},\"ticker\":{\"id\":\"7646\",\"type\":\"BasicTicker\"}},\"id\":\"7645\",\"type\":\"LinearAxis\"},{\"attributes\":{\"axis_label\":\"true positives\",\"formatter\":{\"id\":\"7942\",\"type\":\"BasicTickFormatter\"},\"ticker\":{\"id\":\"7651\",\"type\":\"BasicTicker\"}},\"id\":\"7650\",\"type\":\"LinearAxis\"},{\"attributes\":{\"bottom_units\":\"screen\",\"fill_alpha\":{\"value\":0.5},\"fill_color\":{\"value\":\"lightgrey\"},\"left_units\":\"screen\",\"level\":\"overlay\",\"line_alpha\":{\"value\":1.0},\"line_color\":{\"value\":\"black\"},\"line_dash\":[4,4],\"line_width\":{\"value\":2},\"render_mode\":\"css\",\"right_units\":\"screen\",\"top_units\":\"screen\"},\"id\":\"7950\",\"type\":\"BoxAnnotation\"},{\"attributes\":{},\"id\":\"7944\",\"type\":\"BasicTickFormatter\"},{\"attributes\":{\"data_source\":{\"id\":\"7673\",\"type\":\"ColumnDataSource\"},\"glyph\":{\"id\":\"7674\",\"type\":\"Line\"},\"hover_glyph\":null,\"muted_glyph\":null,\"nonselection_glyph\":{\"id\":\"7675\",\"type\":\"Line\"},\"selection_glyph\":null,\"view\":{\"id\":\"7677\",\"type\":\"CDSView\"}},\"id\":\"7676\",\"type\":\"GlyphRenderer\"},{\"attributes\":{\"active_drag\":\"auto\",\"active_inspect\":\"auto\",\"active_multi\":null,\"active_scroll\":\"auto\",\"active_tap\":\"auto\",\"tools\":[{\"id\":\"7655\",\"type\":\"PanTool\"},{\"id\":\"7656\",\"type\":\"WheelZoomTool\"},{\"id\":\"7657\",\"type\":\"BoxZoomTool\"},{\"id\":\"7658\",\"type\":\"SaveTool\"},{\"id\":\"7659\",\"type\":\"ResetTool\"},{\"id\":\"7660\",\"type\":\"HelpTool\"}]},\"id\":\"7661\",\"type\":\"Toolbar\"},{\"attributes\":{},\"id\":\"7942\",\"type\":\"BasicTickFormatter\"},{\"attributes\":{},\"id\":\"7948\",\"type\":\"Selection\"},{\"attributes\":{\"callback\":null,\"data\":{\"x\":{\"__ndarray__\":\"AAAAAAAAAAAcx3Ecx3G8PxzHcRzHccw/VVVVVVVV1T8cx3Ecx3HcP3Icx3Ecx+E/VVVVVVVV5T84juM4juPoPxzHcRzHcew/AAAAAAAA8D8=\",\"dtype\":\"float64\",\"shape\":[10]},\"y\":{\"__ndarray__\":\"AAAAAAAAAAAcx3Ecx3G8PxzHcRzHccw/VVVVVVVV1T8cx3Ecx3HcP3Icx3Ecx+E/VVVVVVVV5T84juM4juPoPxzHcRzHcew/AAAAAAAA8D8=\",\"dtype\":\"float64\",\"shape\":[10]}},\"selected\":{\"id\":\"7946\",\"type\":\"Selection\"},\"selection_policy\":{\"id\":\"7947\",\"type\":\"UnionRenderers\"}},\"id\":\"7668\",\"type\":\"ColumnDataSource\"},{\"attributes\":{},\"id\":\"7641\",\"type\":\"LinearScale\"},{\"attributes\":{\"overlay\":{\"id\":\"7950\",\"type\":\"BoxAnnotation\"}},\"id\":\"7657\",\"type\":\"BoxZoomTool\"},{\"attributes\":{},\"id\":\"7655\",\"type\":\"PanTool\"},{\"attributes\":{\"line_alpha\":0.5,\"line_color\":\"#1f77b4\",\"line_width\":4,\"x\":{\"field\":\"x\"},\"y\":{\"field\":\"y\"}},\"id\":\"7674\",\"type\":\"Line\"},{\"attributes\":{},\"id\":\"7947\",\"type\":\"UnionRenderers\"},{\"attributes\":{\"callback\":null},\"id\":\"7637\",\"type\":\"DataRange1d\"}],\"root_ids\":[\"7636\"]},\"title\":\"Bokeh Application\",\"version\":\"1.2.0\"}};\n",
       "  var render_items = [{\"docid\":\"52eee5d4-2022-4acc-ae31-ed3ff7879ecb\",\"roots\":{\"7636\":\"ca36177a-14c0-466f-9e6a-c57c3405a05d\"}}];\n",
       "  root.Bokeh.embed.embed_items_notebook(docs_json, render_items);\n",
       "\n",
       "  }\n",
       "  if (root.Bokeh !== undefined) {\n",
       "    embed_document(root);\n",
       "  } else {\n",
       "    var attempts = 0;\n",
       "    var timer = setInterval(function(root) {\n",
       "      if (root.Bokeh !== undefined) {\n",
       "        embed_document(root);\n",
       "        clearInterval(timer);\n",
       "      }\n",
       "      attempts++;\n",
       "      if (attempts > 100) {\n",
       "        console.log(\"Bokeh: ERROR: Unable to run BokehJS code because BokehJS library is missing\");\n",
       "        clearInterval(timer);\n",
       "      }\n",
       "    }, 10, root)\n",
       "  }\n",
       "})(window);"
      ],
      "application/vnd.bokehjs_exec.v0+json": ""
     },
     "metadata": {
      "application/vnd.bokehjs_exec.v0+json": {
       "id": "7636"
      }
     },
     "output_type": "display_data"
    }
   ],
   "source": [
    "from bokeh.plotting import figure, output_notebook, show\n",
    "\n",
    "output_notebook\n",
    "\n",
    "p4 = figure(plot_width=800, plot_height=800)\n",
    "\n",
    "\n",
    "\n",
    "p4.line(x, y, line_width=4, line_color='lightgrey')\n",
    "\n",
    "p4.line(false_pos, true_pos, line_width=4, alpha=0.5)\n",
    "\n",
    "p4.xaxis.axis_label = 'false positives'\n",
    "p4.yaxis.axis_label = 'true positives'\n",
    "\n",
    "\n",
    "# show the results\n",
    "show(p4)"
   ]
  },
  {
   "cell_type": "code",
   "execution_count": 192,
   "metadata": {},
   "outputs": [],
   "source": [
    "false_poss = np.array(false_pos)"
   ]
  },
  {
   "cell_type": "code",
   "execution_count": 193,
   "metadata": {},
   "outputs": [],
   "source": [
    "true_poss = np.array(true_pos)"
   ]
  },
  {
   "cell_type": "code",
   "execution_count": 26,
   "metadata": {},
   "outputs": [],
   "source": [
    "def auc(fake, real): #simple integral\n",
    "    area = 0\n",
    "    for i in range(1,len(fake)):\n",
    "        rectangle = (fake[i] - fake[i-1])*real[i]\n",
    "        triangle = ((fake[i] - fake[i-1])/2)*((real[i] - real[i-1]))\n",
    "      \n",
    "        area = area + rectangle + triangle\n",
    "            \n",
    "    return(area)"
   ]
  },
  {
   "cell_type": "code",
   "execution_count": 195,
   "metadata": {},
   "outputs": [
    {
     "data": {
      "text/plain": [
       "0.6866091522880721"
      ]
     },
     "execution_count": 195,
     "metadata": {},
     "output_type": "execute_result"
    }
   ],
   "source": [
    "auc(false_poss, true_poss)"
   ]
  },
  {
   "cell_type": "code",
   "execution_count": 196,
   "metadata": {},
   "outputs": [],
   "source": [
    "def auc2(fake, real): #simple integral\n",
    "    area = 0\n",
    "    for i in range(1,len(fake)):\n",
    "        rectangle = (fake[i] - fake[i-1])*real[i]\n",
    "      \n",
    "        area = area + rectangle\n",
    "            \n",
    "    return(area)"
   ]
  },
  {
   "cell_type": "code",
   "execution_count": 197,
   "metadata": {},
   "outputs": [
    {
     "data": {
      "text/plain": [
       "0.6376594148537134"
      ]
     },
     "execution_count": 197,
     "metadata": {},
     "output_type": "execute_result"
    }
   ],
   "source": [
    "auc2(false_poss, true_poss)"
   ]
  },
  {
   "cell_type": "markdown",
   "metadata": {},
   "source": [
    "## Get the false positive rate\n",
    "\n",
    "discover false positive rate of this roc"
   ]
  },
  {
   "cell_type": "code",
   "execution_count": 27,
   "metadata": {},
   "outputs": [
    {
     "data": {
      "text/plain": [
       "49"
      ]
     },
     "execution_count": 27,
     "metadata": {},
     "output_type": "execute_result"
    }
   ],
   "source": [
    "skat_log_40.count()"
   ]
  },
  {
   "cell_type": "code",
   "execution_count": 28,
   "metadata": {},
   "outputs": [],
   "source": [
    "top_log = hl.array(skat_log_40.order_by('p_value').id.take(3))"
   ]
  },
  {
   "cell_type": "code",
   "execution_count": 29,
   "metadata": {},
   "outputs": [
    {
     "data": {
      "text/plain": [
       "['L3MBTL2', 'CHADL', 'PCDH10']"
      ]
     },
     "execution_count": 29,
     "metadata": {},
     "output_type": "execute_result"
    }
   ],
   "source": [
    "hl.eval(top_log)"
   ]
  },
  {
   "cell_type": "code",
   "execution_count": 30,
   "metadata": {},
   "outputs": [],
   "source": [
    "genes_background = skat_log_40.id.collect()"
   ]
  },
  {
   "cell_type": "code",
   "execution_count": 31,
   "metadata": {},
   "outputs": [],
   "source": [
    "genes_background = [i for i in genes_background if i not in hl.eval(top_log)]"
   ]
  },
  {
   "cell_type": "code",
   "execution_count": 32,
   "metadata": {},
   "outputs": [
    {
     "data": {
      "text/plain": [
       "46"
      ]
     },
     "execution_count": 32,
     "metadata": {},
     "output_type": "execute_result"
    }
   ],
   "source": [
    "len(genes_background)"
   ]
  },
  {
   "cell_type": "code",
   "execution_count": 33,
   "metadata": {},
   "outputs": [],
   "source": [
    "variants_controls = np.load('/net/archive/groups/plggneuromol/GTS-analysis/large_vcf_analysis/variants_controls_40.npy')"
   ]
  },
  {
   "cell_type": "code",
   "execution_count": 34,
   "metadata": {},
   "outputs": [
    {
     "data": {
      "text/plain": [
       "array([[ 43.375,  38.75 ,  28.25 ,  12.1  ,  10.35 ,   8.9  ],\n",
       "       [144.8  , 119.   ,  91.05 ,  43.775,  34.9  ,  29.   ],\n",
       "       [167.75 , 137.675, 107.8  ,  50.125,  40.3  ,  32.8  ],\n",
       "       [268.075, 224.2  , 178.95 ,  88.825,  74.925,  61.475]])"
      ]
     },
     "execution_count": 34,
     "metadata": {},
     "output_type": "execute_result"
    }
   ],
   "source": [
    "variants_controls"
   ]
  },
  {
   "cell_type": "code",
   "execution_count": 35,
   "metadata": {},
   "outputs": [],
   "source": [
    "controls_test = np.load('/net/archive/groups/plggneuromol/GTS-analysis/large_vcf_analysis/controls_test_40.npy')"
   ]
  },
  {
   "cell_type": "code",
   "execution_count": 36,
   "metadata": {},
   "outputs": [
    {
     "data": {
      "text/plain": [
       "31.0"
      ]
     },
     "execution_count": 36,
     "metadata": {},
     "output_type": "execute_result"
    }
   ],
   "source": [
    "controls_test[0,5]"
   ]
  },
  {
   "cell_type": "code",
   "execution_count": 37,
   "metadata": {},
   "outputs": [],
   "source": [
    "gts_test = np.load('/net/archive/groups/plggneuromol/GTS-analysis/large_vcf_analysis/gts_test_40.npy')"
   ]
  },
  {
   "cell_type": "code",
   "execution_count": null,
   "metadata": {},
   "outputs": [],
   "source": [
    "gts_test[0,5]"
   ]
  },
  {
   "cell_type": "code",
   "execution_count": null,
   "metadata": {},
   "outputs": [],
   "source": [
    "false_pos_test = np.zeros((len(range(0,50)), len(np.linspace(-3,3,50))))\n",
    "true_pos_test = np.zeros((len(range(0,50)), len(np.linspace(-3,3,50))))\n",
    "\n",
    "for gene, s in enumerate(range(0,50)):\n",
    "    \n",
    "    \n",
    "    randoms = []\n",
    "    for i in range(0,3):\n",
    "        i = hl.int(hl.rand_unif(0, 46))\n",
    "        randoms.append(i)\n",
    "    top_log = [j for i, j in enumerate(genes_background) if i in hl.eval(randoms)]\n",
    "\n",
    "\n",
    "    for step, z in enumerate(np.linspace(-3,3,50)):\n",
    "\n",
    "        mt_test_skat_log = mt_test.filter_rows(hl.any(lambda x: hl.literal(top_log).contains(x), mt_test.nearest_genes_20kb))\n",
    "\n",
    "\n",
    "        mt_test_skat_log = mt_test_skat_log.filter_rows(mt_test_skat_log.cadd > 11)\n",
    "        skat_log_res = mt_test_skat_log.annotate_cols(non_refs = hl.agg.count_where(mt_test_skat_log.GT.is_non_ref())) #count variants per sample\n",
    "\n",
    "        test = skat_log_res.cols()\n",
    "        test = test.annotate(test_result = (((hl.float(variants_controls[0,5]) - test.non_refs) / hl.float(variants_controls[0,5])) < z))\n",
    "        test = test.annotate(success = (test.test_result == test.category))\n",
    "        test2 = test.filter(test.phenotypes.disease == 'NO')\n",
    "        test1 = test.filter(test.phenotypes.disease == 'YES')\n",
    "\n",
    "        try:\n",
    "            false_pos_test[gene, step] = test2.aggregate(hl.agg.counter(test2.success))[0]/43\n",
    "\n",
    "        except(KeyError, TypeError):\n",
    "            \n",
    "            false_pos_test[gene, step] = 0\n",
    "\n",
    "        try:\n",
    "            true_pos_test[gene, step] = test1.aggregate(hl.agg.counter(test1.success))[1]/62\n",
    "\n",
    "        except(KeyError, TypeError):\n",
    "            true_pos_test[gene, step] = 0"
   ]
  },
  {
   "cell_type": "code",
   "execution_count": 71,
   "metadata": {},
   "outputs": [],
   "source": [
    "aucs = []\n",
    "for i in range(0,50):\n",
    "    aucs.append(auc(false_pos_test[i,], true_pos_test[i,]))"
   ]
  },
  {
   "cell_type": "code",
   "execution_count": 72,
   "metadata": {},
   "outputs": [
    {
     "data": {
      "text/plain": [
       "0.8211365341335334"
      ]
     },
     "execution_count": 72,
     "metadata": {},
     "output_type": "execute_result"
    }
   ],
   "source": [
    "np.percentile(aucs, 95)"
   ]
  },
  {
   "cell_type": "code",
   "execution_count": 73,
   "metadata": {},
   "outputs": [],
   "source": [
    "false_pos = np.load('false_pos.npy')\n",
    "true_pos = np.load('true_pos.npy')"
   ]
  },
  {
   "cell_type": "code",
   "execution_count": 74,
   "metadata": {},
   "outputs": [],
   "source": [
    "auc_test = auc(false_pos, true_pos)"
   ]
  },
  {
   "cell_type": "code",
   "execution_count": 75,
   "metadata": {},
   "outputs": [
    {
     "data": {
      "text/plain": [
       "0.6866091522880721"
      ]
     },
     "execution_count": 75,
     "metadata": {},
     "output_type": "execute_result"
    }
   ],
   "source": [
    "auc_test"
   ]
  },
  {
   "cell_type": "code",
   "execution_count": 76,
   "metadata": {},
   "outputs": [],
   "source": [
    "y = np.linspace(0,1,10)"
   ]
  },
  {
   "cell_type": "code",
   "execution_count": 77,
   "metadata": {},
   "outputs": [],
   "source": [
    "x = np.linspace(0,1,10)"
   ]
  },
  {
   "cell_type": "code",
   "execution_count": 78,
   "metadata": {},
   "outputs": [
    {
     "data": {
      "text/html": [
       "\n",
       "\n",
       "\n",
       "\n",
       "\n",
       "\n",
       "  <div class=\"bk-root\" id=\"eff1fb8b-0c49-410b-b7e7-5774373caee3\" data-root-id=\"2068\"></div>\n"
      ]
     },
     "metadata": {},
     "output_type": "display_data"
    },
    {
     "data": {
      "application/javascript": [
       "(function(root) {\n",
       "  function embed_document(root) {\n",
       "    \n",
       "  var docs_json = {\"32e7bc33-dc41-48fc-be16-55db3ded8264\":{\"roots\":{\"references\":[{\"attributes\":{\"below\":[{\"id\":\"2077\",\"type\":\"LinearAxis\"}],\"center\":[{\"id\":\"2081\",\"type\":\"Grid\"},{\"id\":\"2086\",\"type\":\"Grid\"}],\"left\":[{\"id\":\"2082\",\"type\":\"LinearAxis\"}],\"plot_height\":800,\"plot_width\":800,\"renderers\":[{\"id\":\"2103\",\"type\":\"GlyphRenderer\"},{\"id\":\"2108\",\"type\":\"GlyphRenderer\"},{\"id\":\"2113\",\"type\":\"GlyphRenderer\"},{\"id\":\"2118\",\"type\":\"GlyphRenderer\"},{\"id\":\"2123\",\"type\":\"GlyphRenderer\"},{\"id\":\"2128\",\"type\":\"GlyphRenderer\"},{\"id\":\"2133\",\"type\":\"GlyphRenderer\"},{\"id\":\"2138\",\"type\":\"GlyphRenderer\"},{\"id\":\"2143\",\"type\":\"GlyphRenderer\"},{\"id\":\"2148\",\"type\":\"GlyphRenderer\"},{\"id\":\"2153\",\"type\":\"GlyphRenderer\"},{\"id\":\"2158\",\"type\":\"GlyphRenderer\"},{\"id\":\"2163\",\"type\":\"GlyphRenderer\"},{\"id\":\"2168\",\"type\":\"GlyphRenderer\"},{\"id\":\"2173\",\"type\":\"GlyphRenderer\"},{\"id\":\"2178\",\"type\":\"GlyphRenderer\"},{\"id\":\"2183\",\"type\":\"GlyphRenderer\"},{\"id\":\"2188\",\"type\":\"GlyphRenderer\"},{\"id\":\"2193\",\"type\":\"GlyphRenderer\"},{\"id\":\"2198\",\"type\":\"GlyphRenderer\"},{\"id\":\"2203\",\"type\":\"GlyphRenderer\"},{\"id\":\"2208\",\"type\":\"GlyphRenderer\"}],\"title\":{\"id\":\"2311\",\"type\":\"Title\"},\"toolbar\":{\"id\":\"2093\",\"type\":\"Toolbar\"},\"x_range\":{\"id\":\"2069\",\"type\":\"DataRange1d\"},\"x_scale\":{\"id\":\"2073\",\"type\":\"LinearScale\"},\"y_range\":{\"id\":\"2071\",\"type\":\"DataRange1d\"},\"y_scale\":{\"id\":\"2075\",\"type\":\"LinearScale\"}},\"id\":\"2068\",\"subtype\":\"Figure\",\"type\":\"Plot\"},{\"attributes\":{\"line_alpha\":0.1,\"line_color\":\"#1f77b4\",\"line_width\":4,\"x\":{\"field\":\"x\"},\"y\":{\"field\":\"y\"}},\"id\":\"2167\",\"type\":\"Line\"},{\"attributes\":{\"callback\":null,\"data\":{\"x\":{\"__ndarray__\":\"pZRSSimlxD/43nvvvffOP5VSSimllNI/xhhjjDHG2D8RQgghhBDiPymllFJKKeU/ttZaa6215j/XWmuttdbqP2OMMcYYY+w/77333nvv7T/vvffee+/tP3TOOeecc+4/dM4555xz7j/43nvvvffuP/jee++99+4/+N5777337j9877333nvvPwAAAAAAAPA/AAAAAAAA8D8AAAAAAADwPwAAAAAAAPA/AAAAAAAA8D8AAAAAAADwPwAAAAAAAPA/AAAAAAAA8D8AAAAAAADwPwAAAAAAAPA/AAAAAAAA8D8AAAAAAADwPwAAAAAAAPA/AAAAAAAA8D8AAAAAAADwPwAAAAAAAPA/AAAAAAAA8D8AAAAAAADwPwAAAAAAAPA/AAAAAAAA8D8AAAAAAADwPwAAAAAAAPA/AAAAAAAA8D8AAAAAAADwPwAAAAAAAPA/AAAAAAAA8D8AAAAAAADwPwAAAAAAAPA/AAAAAAAA8D8AAAAAAADwPwAAAAAAAPA/AAAAAAAA8D8AAAAAAADwPw==\",\"dtype\":\"float64\",\"shape\":[50]},\"y\":{\"__ndarray__\":\"NmVNWVPWxD+zpqwpa8rKP3FH3BF3xM0/s6asKWvK2j8Sd8QdcUfcP6esKWvKmuI/ZU1ZU9aU5T9xR9wRd8TtP6Ev6Av6gu4/oS/oC/qC7j8AAAAAAADwPwAAAAAAAPA/AAAAAAAA8D8AAAAAAADwPwAAAAAAAPA/AAAAAAAA8D8AAAAAAADwPwAAAAAAAPA/AAAAAAAA8D8AAAAAAADwPwAAAAAAAPA/AAAAAAAA8D8AAAAAAADwPwAAAAAAAPA/AAAAAAAA8D8AAAAAAADwPwAAAAAAAPA/AAAAAAAA8D8AAAAAAADwPwAAAAAAAPA/AAAAAAAA8D8AAAAAAADwPwAAAAAAAPA/AAAAAAAA8D8AAAAAAADwPwAAAAAAAPA/AAAAAAAA8D8AAAAAAADwPwAAAAAAAPA/AAAAAAAA8D8AAAAAAADwPwAAAAAAAPA/AAAAAAAA8D8AAAAAAADwPwAAAAAAAPA/AAAAAAAA8D8AAAAAAADwPwAAAAAAAPA/AAAAAAAA8D8AAAAAAADwPw==\",\"dtype\":\"float64\",\"shape\":[50]}},\"selected\":{\"id\":\"2354\",\"type\":\"Selection\"},\"selection_policy\":{\"id\":\"2355\",\"type\":\"UnionRenderers\"}},\"id\":\"2195\",\"type\":\"ColumnDataSource\"},{\"attributes\":{},\"id\":\"2090\",\"type\":\"SaveTool\"},{\"attributes\":{\"ticker\":{\"id\":\"2078\",\"type\":\"BasicTicker\"}},\"id\":\"2081\",\"type\":\"Grid\"},{\"attributes\":{\"callback\":null,\"data\":{\"x\":{\"__ndarray__\":\"AAAAAAAAAAAAAAAAAAAAAAAAAAAAAAAAAAAAAAAAAAAAAAAAAAAAAAAAAAAAAAAAAAAAAAAAAAAAAAAAAAAAAAAAAAAAAAAAAAAAAAAAAAAAAAAAAAAAAAAAAAAAAAAAAAAAAAAAAAAAAAAAAAAAAAAAAAAAAAAAAAAAAAAAAAAAAAAAAAAAAAAAAAAAAAAAAAAAAAAAAAAAAAAAAAAAAAAAAAAAAAAAAAAAAAAAAAAAAAAAAAAAAMYYY4wxxrg/pZRSSimlxD+EEEIIIYTQP99777333ts/rbXWWmut5T/XWmuttdbqP3zvvffee+8/AAAAAAAA8D8AAAAAAADwPwAAAAAAAPA/AAAAAAAA8D8AAAAAAADwPwAAAAAAAPA/AAAAAAAA8D8AAAAAAADwPwAAAAAAAPA/AAAAAAAA8D8AAAAAAADwPwAAAAAAAPA/AAAAAAAA8D8AAAAAAADwPwAAAAAAAPA/AAAAAAAA8D8AAAAAAADwPwAAAAAAAPA/AAAAAAAA8D8AAAAAAADwPw==\",\"dtype\":\"float64\",\"shape\":[50]},\"y\":{\"__ndarray__\":\"AAAAAAAAAAAAAAAAAAAAAAAAAAAAAAAAAAAAAAAAAAAAAAAAAAAAAAAAAAAAAAAAAAAAAAAAAAAAAAAAAAAAAAAAAAAAAAAAAAAAAAAAAAAAAAAAAAAAAAAAAAAAAAAAAAAAAAAAAAAAAAAAAAAAAAAAAAAAAAAAAAAAAAAAAAAAAAAAAAAAAAAAAAAAAAAAAAAAAAAAAAAAAAAAAAAAAAAAAAAAAAAAAAAAAAAAAAD0BX1BX9CXP/QFfUFf0Kc/d8QdcUfcwT9xR9wRd8TNP1PWlDVlTdk/Bn1BX9AX5D8k7og74o7oP9AX9AV9Qe8/0Bf0BX1B7z/QF/QFfUHvPwAAAAAAAPA/AAAAAAAA8D8AAAAAAADwPwAAAAAAAPA/AAAAAAAA8D8AAAAAAADwPwAAAAAAAPA/AAAAAAAA8D8AAAAAAADwPwAAAAAAAPA/AAAAAAAA8D8AAAAAAADwPwAAAAAAAPA/AAAAAAAA8D8AAAAAAADwPwAAAAAAAPA/AAAAAAAA8D8AAAAAAADwPw==\",\"dtype\":\"float64\",\"shape\":[50]}},\"selected\":{\"id\":\"2324\",\"type\":\"Selection\"},\"selection_policy\":{\"id\":\"2325\",\"type\":\"UnionRenderers\"}},\"id\":\"2120\",\"type\":\"ColumnDataSource\"},{\"attributes\":{\"line_alpha\":0.1,\"line_color\":\"#1f77b4\",\"line_width\":4,\"x\":{\"field\":\"x\"},\"y\":{\"field\":\"y\"}},\"id\":\"2142\",\"type\":\"Line\"},{\"attributes\":{\"source\":{\"id\":\"2180\",\"type\":\"ColumnDataSource\"}},\"id\":\"2184\",\"type\":\"CDSView\"},{\"attributes\":{\"source\":{\"id\":\"2190\",\"type\":\"ColumnDataSource\"}},\"id\":\"2194\",\"type\":\"CDSView\"},{\"attributes\":{\"line_alpha\":0.1,\"line_color\":\"#1f77b4\",\"line_width\":4,\"x\":{\"field\":\"x\"},\"y\":{\"field\":\"y\"}},\"id\":\"2122\",\"type\":\"Line\"},{\"attributes\":{\"line_alpha\":0.1,\"line_color\":\"#1f77b4\",\"line_width\":4,\"x\":{\"field\":\"x\"},\"y\":{\"field\":\"y\"}},\"id\":\"2197\",\"type\":\"Line\"},{\"attributes\":{\"callback\":null,\"data\":{\"x\":{\"__ndarray__\":\"AAAAAAAAAAAAAAAAAAAAAAAAAAAAAAAAAAAAAAAAAAAAAAAAAAAAAAAAAAAAAAAAhBBCCCGEkD+EEEIIIYSgP8YYY4wxxqg/lVJKKaWUwj+VUkoppZTCP7bWWmuttcY/11prrbXWyj+EEEIIIYTQP6211lprrdU/11prrbXW2j+EEEIIIYTgP6WUUkoppeQ/W2uttdZa6z/fe++9997rP2uttdZaa+0/77333nvv7T90zjnnnHPuP3TOOeecc+4/+N5777337j9877333nvvP3zvvffee+8/fO+999577z8AAAAAAADwPwAAAAAAAPA/AAAAAAAA8D8AAAAAAADwPwAAAAAAAPA/AAAAAAAA8D8AAAAAAADwPwAAAAAAAPA/AAAAAAAA8D8AAAAAAADwPwAAAAAAAPA/AAAAAAAA8D8AAAAAAADwPwAAAAAAAPA/AAAAAAAA8D8AAAAAAADwPwAAAAAAAPA/AAAAAAAA8D8AAAAAAADwPwAAAAAAAPA/AAAAAAAA8D8AAAAAAADwPw==\",\"dtype\":\"float64\",\"shape\":[50]},\"y\":{\"__ndarray__\":\"AAAAAAAAAAAAAAAAAAAAAAAAAAAAAAAAAAAAAAAAAAAAAAAAAAAAAAAAAAAAAAAA9AV9QV/Qlz/0BX1BX9CXP/QFfUFf0Jc/9AV9QV/Qpz93xB1xR9yxP/QFfUFf0Lc/d8QdcUfcwT/0BX1BX9DHP3FH3BF3xM0/EnfEHXFH3D+nrClrypriP9aUNWVNWeM/g76gL+gL6j/ijrgj7ojrP0Ff0Bf0Be0/cUfcEXfE7T+hL+gL+oLuP6Ev6Av6gu4/0Bf0BX1B7z/QF/QFfUHvP9AX9AV9Qe8/AAAAAAAA8D8AAAAAAADwPwAAAAAAAPA/AAAAAAAA8D8AAAAAAADwPwAAAAAAAPA/AAAAAAAA8D8AAAAAAADwPwAAAAAAAPA/AAAAAAAA8D8AAAAAAADwPwAAAAAAAPA/AAAAAAAA8D8AAAAAAADwPwAAAAAAAPA/AAAAAAAA8D8AAAAAAADwPwAAAAAAAPA/AAAAAAAA8D8AAAAAAADwPwAAAAAAAPA/AAAAAAAA8D8AAAAAAADwPw==\",\"dtype\":\"float64\",\"shape\":[50]}},\"selected\":{\"id\":\"2332\",\"type\":\"Selection\"},\"selection_policy\":{\"id\":\"2333\",\"type\":\"UnionRenderers\"}},\"id\":\"2140\",\"type\":\"ColumnDataSource\"},{\"attributes\":{\"line_alpha\":0.1,\"line_color\":\"#1f77b4\",\"line_width\":4,\"x\":{\"field\":\"x\"},\"y\":{\"field\":\"y\"}},\"id\":\"2157\",\"type\":\"Line\"},{\"attributes\":{\"data_source\":{\"id\":\"2125\",\"type\":\"ColumnDataSource\"},\"glyph\":{\"id\":\"2126\",\"type\":\"Line\"},\"hover_glyph\":null,\"muted_glyph\":null,\"nonselection_glyph\":{\"id\":\"2127\",\"type\":\"Line\"},\"selection_glyph\":null,\"view\":{\"id\":\"2129\",\"type\":\"CDSView\"}},\"id\":\"2128\",\"type\":\"GlyphRenderer\"},{\"attributes\":{\"source\":{\"id\":\"2160\",\"type\":\"ColumnDataSource\"}},\"id\":\"2164\",\"type\":\"CDSView\"},{\"attributes\":{},\"id\":\"2073\",\"type\":\"LinearScale\"},{\"attributes\":{\"line_alpha\":0.1,\"line_color\":\"#1f77b4\",\"line_width\":4,\"x\":{\"field\":\"x\"},\"y\":{\"field\":\"y\"}},\"id\":\"2147\",\"type\":\"Line\"},{\"attributes\":{\"source\":{\"id\":\"2165\",\"type\":\"ColumnDataSource\"}},\"id\":\"2169\",\"type\":\"CDSView\"},{\"attributes\":{\"line_alpha\":0.1,\"line_color\":\"#1f77b4\",\"line_width\":4,\"x\":{\"field\":\"x\"},\"y\":{\"field\":\"y\"}},\"id\":\"2127\",\"type\":\"Line\"},{\"attributes\":{\"line_alpha\":0.1,\"line_color\":\"#1f77b4\",\"line_width\":4,\"x\":{\"field\":\"x\"},\"y\":{\"field\":\"y\"}},\"id\":\"2102\",\"type\":\"Line\"},{\"attributes\":{\"line_alpha\":0.5,\"line_color\":\"#1f77b4\",\"line_width\":4,\"x\":{\"field\":\"x\"},\"y\":{\"field\":\"y\"}},\"id\":\"2166\",\"type\":\"Line\"},{\"attributes\":{\"callback\":null,\"data\":{\"x\":{\"__ndarray__\":\"xhhjjDHG6D/XWmuttdbqP1trrbXWWus/55xzzjnn7D/vvffee+/tP++999577+0/+N5777337j8AAAAAAADwPwAAAAAAAPA/AAAAAAAA8D8AAAAAAADwPwAAAAAAAPA/AAAAAAAA8D8AAAAAAADwPwAAAAAAAPA/AAAAAAAA8D8AAAAAAADwPwAAAAAAAPA/AAAAAAAA8D8AAAAAAADwPwAAAAAAAPA/AAAAAAAA8D8AAAAAAADwPwAAAAAAAPA/AAAAAAAA8D8AAAAAAADwPwAAAAAAAPA/AAAAAAAA8D8AAAAAAADwPwAAAAAAAPA/AAAAAAAA8D8AAAAAAADwPwAAAAAAAPA/AAAAAAAA8D8AAAAAAADwPwAAAAAAAPA/AAAAAAAA8D8AAAAAAADwPwAAAAAAAPA/AAAAAAAA8D8AAAAAAADwPwAAAAAAAPA/AAAAAAAA8D8AAAAAAADwPwAAAAAAAPA/AAAAAAAA8D8AAAAAAADwPwAAAAAAAPA/AAAAAAAA8D8AAAAAAADwPw==\",\"dtype\":\"float64\",\"shape\":[50]},\"y\":{\"__ndarray__\":\"s6asKWvK6j/ijrgj7ojrP3FH3BF3xO0/cUfcEXfE7T9xR9wRd8TtP3FH3BF3xO0/oS/oC/qC7j8AAAAAAADwPwAAAAAAAPA/AAAAAAAA8D8AAAAAAADwPwAAAAAAAPA/AAAAAAAA8D8AAAAAAADwPwAAAAAAAPA/AAAAAAAA8D8AAAAAAADwPwAAAAAAAPA/AAAAAAAA8D8AAAAAAADwPwAAAAAAAPA/AAAAAAAA8D8AAAAAAADwPwAAAAAAAPA/AAAAAAAA8D8AAAAAAADwPwAAAAAAAPA/AAAAAAAA8D8AAAAAAADwPwAAAAAAAPA/AAAAAAAA8D8AAAAAAADwPwAAAAAAAPA/AAAAAAAA8D8AAAAAAADwPwAAAAAAAPA/AAAAAAAA8D8AAAAAAADwPwAAAAAAAPA/AAAAAAAA8D8AAAAAAADwPwAAAAAAAPA/AAAAAAAA8D8AAAAAAADwPwAAAAAAAPA/AAAAAAAA8D8AAAAAAADwPwAAAAAAAPA/AAAAAAAA8D8AAAAAAADwPw==\",\"dtype\":\"float64\",\"shape\":[50]}},\"selected\":{\"id\":\"2346\",\"type\":\"Selection\"},\"selection_policy\":{\"id\":\"2347\",\"type\":\"UnionRenderers\"}},\"id\":\"2175\",\"type\":\"ColumnDataSource\"},{\"attributes\":{\"overlay\":{\"id\":\"2360\",\"type\":\"BoxAnnotation\"}},\"id\":\"2089\",\"type\":\"BoxZoomTool\"},{\"attributes\":{\"line_alpha\":0.5,\"line_color\":\"#1f77b4\",\"line_width\":4,\"x\":{\"field\":\"x\"},\"y\":{\"field\":\"y\"}},\"id\":\"2126\",\"type\":\"Line\"},{\"attributes\":{\"source\":{\"id\":\"2145\",\"type\":\"ColumnDataSource\"}},\"id\":\"2149\",\"type\":\"CDSView\"},{\"attributes\":{\"line_alpha\":0.5,\"line_color\":\"#1f77b4\",\"line_width\":4,\"x\":{\"field\":\"x\"},\"y\":{\"field\":\"y\"}},\"id\":\"2196\",\"type\":\"Line\"},{\"attributes\":{\"data_source\":{\"id\":\"2175\",\"type\":\"ColumnDataSource\"},\"glyph\":{\"id\":\"2176\",\"type\":\"Line\"},\"hover_glyph\":null,\"muted_glyph\":null,\"nonselection_glyph\":{\"id\":\"2177\",\"type\":\"Line\"},\"selection_glyph\":null,\"view\":{\"id\":\"2179\",\"type\":\"CDSView\"}},\"id\":\"2178\",\"type\":\"GlyphRenderer\"},{\"attributes\":{\"data_source\":{\"id\":\"2120\",\"type\":\"ColumnDataSource\"},\"glyph\":{\"id\":\"2121\",\"type\":\"Line\"},\"hover_glyph\":null,\"muted_glyph\":null,\"nonselection_glyph\":{\"id\":\"2122\",\"type\":\"Line\"},\"selection_glyph\":null,\"view\":{\"id\":\"2124\",\"type\":\"CDSView\"}},\"id\":\"2123\",\"type\":\"GlyphRenderer\"},{\"attributes\":{\"axis_label\":\"true positives\",\"formatter\":{\"id\":\"2315\",\"type\":\"BasicTickFormatter\"},\"ticker\":{\"id\":\"2083\",\"type\":\"BasicTicker\"}},\"id\":\"2082\",\"type\":\"LinearAxis\"},{\"attributes\":{\"line_alpha\":0.1,\"line_color\":\"#1f77b4\",\"line_width\":4,\"x\":{\"field\":\"x\"},\"y\":{\"field\":\"y\"}},\"id\":\"2132\",\"type\":\"Line\"},{\"attributes\":{},\"id\":\"2357\",\"type\":\"UnionRenderers\"},{\"attributes\":{\"data_source\":{\"id\":\"2160\",\"type\":\"ColumnDataSource\"},\"glyph\":{\"id\":\"2161\",\"type\":\"Line\"},\"hover_glyph\":null,\"muted_glyph\":null,\"nonselection_glyph\":{\"id\":\"2162\",\"type\":\"Line\"},\"selection_glyph\":null,\"view\":{\"id\":\"2164\",\"type\":\"CDSView\"}},\"id\":\"2163\",\"type\":\"GlyphRenderer\"},{\"attributes\":{\"axis_label\":\"false positives\",\"formatter\":{\"id\":\"2313\",\"type\":\"BasicTickFormatter\"},\"ticker\":{\"id\":\"2078\",\"type\":\"BasicTicker\"}},\"id\":\"2077\",\"type\":\"LinearAxis\"},{\"attributes\":{\"source\":{\"id\":\"2135\",\"type\":\"ColumnDataSource\"}},\"id\":\"2139\",\"type\":\"CDSView\"},{\"attributes\":{\"callback\":null,\"data\":{\"x\":{\"__ndarray__\":\"AAAAAAAA8D8AAAAAAADwPwAAAAAAAPA/AAAAAAAA8D8AAAAAAADwPwAAAAAAAPA/AAAAAAAA8D8AAAAAAADwPwAAAAAAAPA/AAAAAAAA8D8AAAAAAADwPwAAAAAAAPA/AAAAAAAA8D8AAAAAAADwPwAAAAAAAPA/AAAAAAAA8D8AAAAAAADwPwAAAAAAAPA/AAAAAAAA8D8AAAAAAADwPwAAAAAAAPA/AAAAAAAA8D8AAAAAAADwPwAAAAAAAPA/AAAAAAAA8D8AAAAAAADwPwAAAAAAAPA/AAAAAAAA8D8AAAAAAADwPwAAAAAAAPA/AAAAAAAA8D8AAAAAAADwPwAAAAAAAPA/AAAAAAAA8D8AAAAAAADwPwAAAAAAAPA/AAAAAAAA8D8AAAAAAADwPwAAAAAAAPA/AAAAAAAA8D8AAAAAAADwPwAAAAAAAPA/AAAAAAAA8D8AAAAAAADwPwAAAAAAAPA/AAAAAAAA8D8AAAAAAADwPwAAAAAAAPA/AAAAAAAA8D8AAAAAAADwPw==\",\"dtype\":\"float64\",\"shape\":[50]},\"y\":{\"__ndarray__\":\"AAAAAAAA8D8AAAAAAADwPwAAAAAAAPA/AAAAAAAA8D8AAAAAAADwPwAAAAAAAPA/AAAAAAAA8D8AAAAAAADwPwAAAAAAAPA/AAAAAAAA8D8AAAAAAADwPwAAAAAAAPA/AAAAAAAA8D8AAAAAAADwPwAAAAAAAPA/AAAAAAAA8D8AAAAAAADwPwAAAAAAAPA/AAAAAAAA8D8AAAAAAADwPwAAAAAAAPA/AAAAAAAA8D8AAAAAAADwPwAAAAAAAPA/AAAAAAAA8D8AAAAAAADwPwAAAAAAAPA/AAAAAAAA8D8AAAAAAADwPwAAAAAAAPA/AAAAAAAA8D8AAAAAAADwPwAAAAAAAPA/AAAAAAAA8D8AAAAAAADwPwAAAAAAAPA/AAAAAAAA8D8AAAAAAADwPwAAAAAAAPA/AAAAAAAA8D8AAAAAAADwPwAAAAAAAPA/AAAAAAAA8D8AAAAAAADwPwAAAAAAAPA/AAAAAAAA8D8AAAAAAADwPwAAAAAAAPA/AAAAAAAA8D8AAAAAAADwPw==\",\"dtype\":\"float64\",\"shape\":[50]}},\"selected\":{\"id\":\"2344\",\"type\":\"Selection\"},\"selection_policy\":{\"id\":\"2345\",\"type\":\"UnionRenderers\"}},\"id\":\"2170\",\"type\":\"ColumnDataSource\"},{\"attributes\":{\"line_alpha\":0.1,\"line_color\":\"#1f77b4\",\"line_width\":4,\"x\":{\"field\":\"x\"},\"y\":{\"field\":\"y\"}},\"id\":\"2187\",\"type\":\"Line\"},{\"attributes\":{\"line_color\":\"orange\",\"line_width\":4,\"x\":{\"field\":\"x\"},\"y\":{\"field\":\"y\"}},\"id\":\"2106\",\"type\":\"Line\"},{\"attributes\":{\"line_alpha\":0.5,\"line_color\":\"#1f77b4\",\"line_width\":4,\"x\":{\"field\":\"x\"},\"y\":{\"field\":\"y\"}},\"id\":\"2131\",\"type\":\"Line\"},{\"attributes\":{},\"id\":\"2344\",\"type\":\"Selection\"},{\"attributes\":{\"callback\":null,\"data\":{\"x\":{\"__ndarray__\":\"AAAAAAAAAAAAAAAAAAAAAAAAAAAAAAAAAAAAAAAAAAAAAAAAAAAAAAAAAAAAAAAAAAAAAAAAAACEEEIIIYSwP4QQQgghhMA/lVJKKaWUwj+llFJKKaXEP9daa6211so/hBBCCCGE0D+21lprrbXWP++99957790/CCGEEEII4T+MMcYYY4zhP6WUUkoppeQ/U0oppZRS6j/fe++9997rP2OMMcYYY+w/55xzzjnn7D/vvffee+/tP3TOOeecc+4/fO+999577z9877333nvvP3zvvffee+8/AAAAAAAA8D8AAAAAAADwPwAAAAAAAPA/AAAAAAAA8D8AAAAAAADwPwAAAAAAAPA/AAAAAAAA8D8AAAAAAADwPwAAAAAAAPA/AAAAAAAA8D8AAAAAAADwPwAAAAAAAPA/AAAAAAAA8D8AAAAAAADwPwAAAAAAAPA/AAAAAAAA8D8AAAAAAADwPwAAAAAAAPA/AAAAAAAA8D8AAAAAAADwPwAAAAAAAPA/AAAAAAAA8D8AAAAAAADwPw==\",\"dtype\":\"float64\",\"shape\":[50]},\"y\":{\"__ndarray__\":\"AAAAAAAAAAAAAAAAAAAAAAAAAAAAAAAAAAAAAAAAAAAAAAAAAAAAAPQFfUFf0Jc/9AV9QV/Qlz/0BX1BX9CXP3fEHXFH3LE/d8QdcUfcsT9xR9wRd8S9PzZlTVlT1sQ/s6asKWvKyj93xB1xR9zRP/QFfUFf0Nc/0Bf0BX1B3z93xB1xR9zhP2VNWVPWlOU/JO6IO+KO6D+DvqAv6AvqPxJ3xB1xR+w/QV/QF/QF7T9BX9AX9AXtP6Ev6Av6gu4/0Bf0BX1B7z/QF/QFfUHvP9AX9AV9Qe8/0Bf0BX1B7z/QF/QFfUHvPwAAAAAAAPA/AAAAAAAA8D8AAAAAAADwPwAAAAAAAPA/AAAAAAAA8D8AAAAAAADwPwAAAAAAAPA/AAAAAAAA8D8AAAAAAADwPwAAAAAAAPA/AAAAAAAA8D8AAAAAAADwPwAAAAAAAPA/AAAAAAAA8D8AAAAAAADwPwAAAAAAAPA/AAAAAAAA8D8AAAAAAADwPwAAAAAAAPA/AAAAAAAA8D8AAAAAAADwPw==\",\"dtype\":\"float64\",\"shape\":[50]}},\"selected\":{\"id\":\"2320\",\"type\":\"Selection\"},\"selection_policy\":{\"id\":\"2321\",\"type\":\"UnionRenderers\"}},\"id\":\"2110\",\"type\":\"ColumnDataSource\"},{\"attributes\":{\"source\":{\"id\":\"2130\",\"type\":\"ColumnDataSource\"}},\"id\":\"2134\",\"type\":\"CDSView\"},{\"attributes\":{},\"id\":\"2343\",\"type\":\"UnionRenderers\"},{\"attributes\":{\"callback\":null,\"data\":{\"x\":{\"__ndarray__\":\"AAAAAAAAAAAAAAAAAAAAAAAAAAAAAAAAAAAAAAAAAAAAAAAAAAAAAAAAAAAAAAAAAAAAAAAAAAAAAAAAAAAAAAAAAAAAAAAAAAAAAAAAAAAAAAAAAAAAAAAAAAAAAAAAAAAAAAAAAAAAAAAAAAAAAAAAAAAAAAAAAAAAAAAAAAAAAAAAAAAAAAAAAAAAAAAAAAAAAAAAAAAAAAAAAAAAAAAAAAAAAAAAAAAAAAAAAAAAAAAAAAAAAIQQQgghhKA/lVJKKaWU0j/XWmuttdbaPymllFJKKeU/+N5777337j/43nvvvffuPwAAAAAAAPA/AAAAAAAA8D8AAAAAAADwPwAAAAAAAPA/AAAAAAAA8D8AAAAAAADwPwAAAAAAAPA/AAAAAAAA8D8AAAAAAADwPwAAAAAAAPA/AAAAAAAA8D8AAAAAAADwPwAAAAAAAPA/AAAAAAAA8D8AAAAAAADwPwAAAAAAAPA/AAAAAAAA8D8AAAAAAADwPwAAAAAAAPA/AAAAAAAA8D8AAAAAAADwPw==\",\"dtype\":\"float64\",\"shape\":[50]},\"y\":{\"__ndarray__\":\"AAAAAAAAAAAAAAAAAAAAAAAAAAAAAAAAAAAAAAAAAAAAAAAAAAAAAAAAAAAAAAAAAAAAAAAAAAAAAAAAAAAAAAAAAAAAAAAAAAAAAAAAAAAAAAAAAAAAAAAAAAAAAAAAAAAAAAAAAAAAAAAAAAAAAAAAAAAAAAAAAAAAAAAAAAAAAAAAAAAAAAAAAAAAAAAAAAAAAAAAAAAAAAAAAAAAAAAAAAAAAAAA9AV9QV/Qlz/0BX1BX9CXP/QFfUFf0Kc/NmVNWVPWxD+VNWVNWVPWPwZ9QV/QF+Q/cUfcEXfE7T+hL+gL+oLuPwAAAAAAAPA/AAAAAAAA8D8AAAAAAADwPwAAAAAAAPA/AAAAAAAA8D8AAAAAAADwPwAAAAAAAPA/AAAAAAAA8D8AAAAAAADwPwAAAAAAAPA/AAAAAAAA8D8AAAAAAADwPwAAAAAAAPA/AAAAAAAA8D8AAAAAAADwPwAAAAAAAPA/AAAAAAAA8D8AAAAAAADwPwAAAAAAAPA/AAAAAAAA8D8AAAAAAADwPw==\",\"dtype\":\"float64\",\"shape\":[50]}},\"selected\":{\"id\":\"2350\",\"type\":\"Selection\"},\"selection_policy\":{\"id\":\"2351\",\"type\":\"UnionRenderers\"}},\"id\":\"2185\",\"type\":\"ColumnDataSource\"},{\"attributes\":{},\"id\":\"2355\",\"type\":\"UnionRenderers\"},{\"attributes\":{\"callback\":null,\"data\":{\"x\":{\"__ndarray__\":\"AAAAAAAA8D8AAAAAAADwPwAAAAAAAPA/AAAAAAAA8D8AAAAAAADwPwAAAAAAAPA/AAAAAAAA8D8AAAAAAADwPwAAAAAAAPA/AAAAAAAA8D8AAAAAAADwPwAAAAAAAPA/AAAAAAAA8D8AAAAAAADwPwAAAAAAAPA/AAAAAAAA8D8AAAAAAADwPwAAAAAAAPA/AAAAAAAA8D8AAAAAAADwPwAAAAAAAPA/AAAAAAAA8D8AAAAAAADwPwAAAAAAAPA/AAAAAAAA8D8AAAAAAADwPwAAAAAAAPA/AAAAAAAA8D8AAAAAAADwPwAAAAAAAPA/AAAAAAAA8D8AAAAAAADwPwAAAAAAAPA/AAAAAAAA8D8AAAAAAADwPwAAAAAAAPA/AAAAAAAA8D8AAAAAAADwPwAAAAAAAPA/AAAAAAAA8D8AAAAAAADwPwAAAAAAAPA/AAAAAAAA8D8AAAAAAADwPwAAAAAAAPA/AAAAAAAA8D8AAAAAAADwPwAAAAAAAPA/AAAAAAAA8D8AAAAAAADwPw==\",\"dtype\":\"float64\",\"shape\":[50]},\"y\":{\"__ndarray__\":\"AAAAAAAA8D8AAAAAAADwPwAAAAAAAPA/AAAAAAAA8D8AAAAAAADwPwAAAAAAAPA/AAAAAAAA8D8AAAAAAADwPwAAAAAAAPA/AAAAAAAA8D8AAAAAAADwPwAAAAAAAPA/AAAAAAAA8D8AAAAAAADwPwAAAAAAAPA/AAAAAAAA8D8AAAAAAADwPwAAAAAAAPA/AAAAAAAA8D8AAAAAAADwPwAAAAAAAPA/AAAAAAAA8D8AAAAAAADwPwAAAAAAAPA/AAAAAAAA8D8AAAAAAADwPwAAAAAAAPA/AAAAAAAA8D8AAAAAAADwPwAAAAAAAPA/AAAAAAAA8D8AAAAAAADwPwAAAAAAAPA/AAAAAAAA8D8AAAAAAADwPwAAAAAAAPA/AAAAAAAA8D8AAAAAAADwPwAAAAAAAPA/AAAAAAAA8D8AAAAAAADwPwAAAAAAAPA/AAAAAAAA8D8AAAAAAADwPwAAAAAAAPA/AAAAAAAA8D8AAAAAAADwPwAAAAAAAPA/AAAAAAAA8D8AAAAAAADwPw==\",\"dtype\":\"float64\",\"shape\":[50]}},\"selected\":{\"id\":\"2328\",\"type\":\"Selection\"},\"selection_policy\":{\"id\":\"2329\",\"type\":\"UnionRenderers\"}},\"id\":\"2130\",\"type\":\"ColumnDataSource\"},{\"attributes\":{\"callback\":null,\"data\":{\"x\":{\"__ndarray__\":\"AAAAAAAAAAAAAAAAAAAAAAAAAAAAAAAAAAAAAAAAAAAAAAAAAAAAAAAAAAAAAAAAAAAAAAAAAAAAAAAAAAAAAAAAAAAAAAAAAAAAAAAAAAAAAAAAAAAAAAAAAAAAAAAAAAAAAAAAAAAAAAAAAAAAAAAAAAAAAAAAAAAAAAAAAAAAAAAAAAAAAAAAAAAAAAAAAAAAAAAAAAAAAAAAAAAAAAAAAAAAAAAAAAAAAAAAAAAAAAAAAAAAAAAAAAAAAAAAAAAAAAAAAADGGGOMMcaoP+ecc84557w/+N577733zj/XWmuttdbaP2OMMcYYY+w/AAAAAAAA8D8AAAAAAADwPwAAAAAAAPA/AAAAAAAA8D8AAAAAAADwPwAAAAAAAPA/AAAAAAAA8D8AAAAAAADwPwAAAAAAAPA/AAAAAAAA8D8AAAAAAADwPwAAAAAAAPA/AAAAAAAA8D8AAAAAAADwPwAAAAAAAPA/AAAAAAAA8D8AAAAAAADwPwAAAAAAAPA/AAAAAAAA8D8AAAAAAADwPw==\",\"dtype\":\"float64\",\"shape\":[50]},\"y\":{\"__ndarray__\":\"AAAAAAAAAAAAAAAAAAAAAAAAAAAAAAAAAAAAAAAAAAAAAAAAAAAAAAAAAAAAAAAAAAAAAAAAAAAAAAAAAAAAAAAAAAAAAAAAAAAAAAAAAAAAAAAAAAAAAAAAAAAAAAAAAAAAAAAAAAAAAAAAAAAAAAAAAAAAAAAAAAAAAAAAAAAAAAAAAAAAAAAAAAAAAAAAAAAAAAAAAAAAAAAAAAAAAAAAAAAAAAAAAAAAAAAAAAAAAAAAAAAAAAAAAAAAAAAA9AV9QV/Qlz/0BX1BX9CnPzZlTVlT1sQ/lTVlTVlT1j+VNWVNWVPmP9AX9AV9Qe8/AAAAAAAA8D8AAAAAAADwPwAAAAAAAPA/AAAAAAAA8D8AAAAAAADwPwAAAAAAAPA/AAAAAAAA8D8AAAAAAADwPwAAAAAAAPA/AAAAAAAA8D8AAAAAAADwPwAAAAAAAPA/AAAAAAAA8D8AAAAAAADwPwAAAAAAAPA/AAAAAAAA8D8AAAAAAADwPwAAAAAAAPA/AAAAAAAA8D8AAAAAAADwPw==\",\"dtype\":\"float64\",\"shape\":[50]}},\"selected\":{\"id\":\"2352\",\"type\":\"Selection\"},\"selection_policy\":{\"id\":\"2353\",\"type\":\"UnionRenderers\"}},\"id\":\"2190\",\"type\":\"ColumnDataSource\"},{\"attributes\":{\"source\":{\"id\":\"2195\",\"type\":\"ColumnDataSource\"}},\"id\":\"2199\",\"type\":\"CDSView\"},{\"attributes\":{},\"id\":\"2356\",\"type\":\"Selection\"},{\"attributes\":{\"source\":{\"id\":\"2100\",\"type\":\"ColumnDataSource\"}},\"id\":\"2104\",\"type\":\"CDSView\"},{\"attributes\":{\"callback\":null,\"data\":{\"x\":{\"__ndarray__\":\"AAAAAAAAAAAAAAAAAAAAAAAAAAAAAAAAAAAAAAAAAAAAAAAAAAAAAAAAAAAAAAAAAAAAAAAAAAAAAAAAAAAAAAAAAAAAAAAAAAAAAAAAAAAAAAAAAAAAAAAAAAAAAAAAAAAAAAAAAAAAAAAAAAAAAAAAAAAAAAAAAAAAAAAAAAAAAAAAAAAAAIQQQgghhJA/xhhjjDHGuD+llFJKKaXEP/jee++9984/xhhjjDHG2D/nnHPOOefcP6WUUkoppeQ/rbXWWmut5T9TSimllFLqP99777333us/55xzzjnn7D90zjnnnHPuPwAAAAAAAPA/AAAAAAAA8D8AAAAAAADwPwAAAAAAAPA/AAAAAAAA8D8AAAAAAADwPwAAAAAAAPA/AAAAAAAA8D8AAAAAAADwPwAAAAAAAPA/AAAAAAAA8D8AAAAAAADwPwAAAAAAAPA/AAAAAAAA8D8AAAAAAADwPwAAAAAAAPA/AAAAAAAA8D8AAAAAAADwPwAAAAAAAPA/AAAAAAAA8D8AAAAAAADwPw==\",\"dtype\":\"float64\",\"shape\":[50]},\"y\":{\"__ndarray__\":\"AAAAAAAAAAAAAAAAAAAAAAAAAAAAAAAAAAAAAAAAAAAAAAAAAAAAAAAAAAAAAAAAAAAAAAAAAAAAAAAAAAAAAAAAAAAAAAAAAAAAAAAAAAAAAAAAAAAAAAAAAAAAAAAAAAAAAAAAAAAAAAAAAAAAAAAAAAAAAAAA9AV9QV/Qlz/0BX1BX9CXP3fEHXFH3LE/cUfcEXfEzT93xB1xR9zRP1PWlDVlTdk/0Bf0BX1B3z93xB1xR9zhP5U1ZU1ZU+Y/g76gL+gL6j9BX9AX9AXtP6Ev6Av6gu4/0Bf0BX1B7z/QF/QFfUHvPwAAAAAAAPA/AAAAAAAA8D8AAAAAAADwPwAAAAAAAPA/AAAAAAAA8D8AAAAAAADwPwAAAAAAAPA/AAAAAAAA8D8AAAAAAADwPwAAAAAAAPA/AAAAAAAA8D8AAAAAAADwPwAAAAAAAPA/AAAAAAAA8D8AAAAAAADwPwAAAAAAAPA/AAAAAAAA8D8AAAAAAADwPwAAAAAAAPA/AAAAAAAA8D8AAAAAAADwPw==\",\"dtype\":\"float64\",\"shape\":[50]}},\"selected\":{\"id\":\"2342\",\"type\":\"Selection\"},\"selection_policy\":{\"id\":\"2343\",\"type\":\"UnionRenderers\"}},\"id\":\"2165\",\"type\":\"ColumnDataSource\"},{\"attributes\":{\"source\":{\"id\":\"2150\",\"type\":\"ColumnDataSource\"}},\"id\":\"2154\",\"type\":\"CDSView\"},{\"attributes\":{},\"id\":\"2346\",\"type\":\"Selection\"},{\"attributes\":{\"line_alpha\":0.5,\"line_color\":\"#1f77b4\",\"line_width\":4,\"x\":{\"field\":\"x\"},\"y\":{\"field\":\"y\"}},\"id\":\"2146\",\"type\":\"Line\"},{\"attributes\":{\"source\":{\"id\":\"2120\",\"type\":\"ColumnDataSource\"}},\"id\":\"2124\",\"type\":\"CDSView\"},{\"attributes\":{},\"id\":\"2092\",\"type\":\"HelpTool\"},{\"attributes\":{},\"id\":\"2359\",\"type\":\"UnionRenderers\"},{\"attributes\":{},\"id\":\"2083\",\"type\":\"BasicTicker\"},{\"attributes\":{\"data_source\":{\"id\":\"2100\",\"type\":\"ColumnDataSource\"},\"glyph\":{\"id\":\"2101\",\"type\":\"Line\"},\"hover_glyph\":null,\"muted_glyph\":null,\"nonselection_glyph\":{\"id\":\"2102\",\"type\":\"Line\"},\"selection_glyph\":null,\"view\":{\"id\":\"2104\",\"type\":\"CDSView\"}},\"id\":\"2103\",\"type\":\"GlyphRenderer\"},{\"attributes\":{\"callback\":null,\"data\":{\"x\":{\"__ndarray__\":\"AAAAAAAAAAAAAAAAAAAAAAAAAAAAAAAAAAAAAAAAAAAAAAAAAAAAAAAAAAAAAAAAAAAAAAAAAAAAAAAAAAAAAAAAAAAAAAAAAAAAAAAAAAAAAAAAAAAAAAAAAAAAAAAAAAAAAAAAAAAAAAAAAAAAAAAAAAAAAAAAAAAAAAAAAAAAAAAAAAAAAAAAAAAAAAAAAAAAAAAAAAAAAAAAAAAAAAAAAAAAAAAAAAAAAAAAAAAAAAAAAAAAAAAAAAAAAAAAhBBCCCGEkD+llFJKKaXEP8YYY4wxxtg/CCGEEEII4T/GGGOMMcboP3zvvffee+8/AAAAAAAA8D8AAAAAAADwPwAAAAAAAPA/AAAAAAAA8D8AAAAAAADwPwAAAAAAAPA/AAAAAAAA8D8AAAAAAADwPwAAAAAAAPA/AAAAAAAA8D8AAAAAAADwPwAAAAAAAPA/AAAAAAAA8D8AAAAAAADwPwAAAAAAAPA/AAAAAAAA8D8AAAAAAADwPwAAAAAAAPA/AAAAAAAA8D8AAAAAAADwPw==\",\"dtype\":\"float64\",\"shape\":[50]},\"y\":{\"__ndarray__\":\"AAAAAAAAAAAAAAAAAAAAAAAAAAAAAAAAAAAAAAAAAAAAAAAAAAAAAAAAAAAAAAAAAAAAAAAAAAAAAAAAAAAAAAAAAAAAAAAAAAAAAAAAAAAAAAAAAAAAAAAAAAAAAAAAAAAAAAAAAAAAAAAAAAAAAAAAAAAAAAAAAAAAAAAAAAAAAAAAAAAAAAAAAAAAAAAAAAAAAAAAAAAAAAAAAAAAAAAAAAAAAAAAAAAAAAAAAAD0BX1BX9CXP/QFfUFf0Kc/9AV9QV/Qpz+zpqwpa8rKPxJ3xB1xR9w/xB1xR9wR5z/ijrgj7ojrP9AX9AV9Qe8/AAAAAAAA8D8AAAAAAADwPwAAAAAAAPA/AAAAAAAA8D8AAAAAAADwPwAAAAAAAPA/AAAAAAAA8D8AAAAAAADwPwAAAAAAAPA/AAAAAAAA8D8AAAAAAADwPwAAAAAAAPA/AAAAAAAA8D8AAAAAAADwPwAAAAAAAPA/AAAAAAAA8D8AAAAAAADwPwAAAAAAAPA/AAAAAAAA8D8AAAAAAADwPw==\",\"dtype\":\"float64\",\"shape\":[50]}},\"selected\":{\"id\":\"2336\",\"type\":\"Selection\"},\"selection_policy\":{\"id\":\"2337\",\"type\":\"UnionRenderers\"}},\"id\":\"2150\",\"type\":\"ColumnDataSource\"},{\"attributes\":{\"callback\":null,\"data\":{\"x\":{\"__ndarray__\":\"AAAAAAAAAAAcx3Ecx3G8PxzHcRzHccw/VVVVVVVV1T8cx3Ecx3HcP3Icx3Ecx+E/VVVVVVVV5T84juM4juPoPxzHcRzHcew/AAAAAAAA8D8=\",\"dtype\":\"float64\",\"shape\":[10]},\"y\":{\"__ndarray__\":\"AAAAAAAAAAAcx3Ecx3G8PxzHcRzHccw/VVVVVVVV1T8cx3Ecx3HcP3Icx3Ecx+E/VVVVVVVV5T84juM4juPoPxzHcRzHcew/AAAAAAAA8D8=\",\"dtype\":\"float64\",\"shape\":[10]}},\"selected\":{\"id\":\"2316\",\"type\":\"Selection\"},\"selection_policy\":{\"id\":\"2317\",\"type\":\"UnionRenderers\"}},\"id\":\"2100\",\"type\":\"ColumnDataSource\"},{\"attributes\":{},\"id\":\"2358\",\"type\":\"Selection\"},{\"attributes\":{\"data_source\":{\"id\":\"2195\",\"type\":\"ColumnDataSource\"},\"glyph\":{\"id\":\"2196\",\"type\":\"Line\"},\"hover_glyph\":null,\"muted_glyph\":null,\"nonselection_glyph\":{\"id\":\"2197\",\"type\":\"Line\"},\"selection_glyph\":null,\"view\":{\"id\":\"2199\",\"type\":\"CDSView\"}},\"id\":\"2198\",\"type\":\"GlyphRenderer\"},{\"attributes\":{},\"id\":\"2091\",\"type\":\"ResetTool\"},{\"attributes\":{\"data_source\":{\"id\":\"2170\",\"type\":\"ColumnDataSource\"},\"glyph\":{\"id\":\"2171\",\"type\":\"Line\"},\"hover_glyph\":null,\"muted_glyph\":null,\"nonselection_glyph\":{\"id\":\"2172\",\"type\":\"Line\"},\"selection_glyph\":null,\"view\":{\"id\":\"2174\",\"type\":\"CDSView\"}},\"id\":\"2173\",\"type\":\"GlyphRenderer\"},{\"attributes\":{\"line_alpha\":0.1,\"line_color\":\"#1f77b4\",\"line_width\":4,\"x\":{\"field\":\"x\"},\"y\":{\"field\":\"y\"}},\"id\":\"2137\",\"type\":\"Line\"},{\"attributes\":{\"data_source\":{\"id\":\"2145\",\"type\":\"ColumnDataSource\"},\"glyph\":{\"id\":\"2146\",\"type\":\"Line\"},\"hover_glyph\":null,\"muted_glyph\":null,\"nonselection_glyph\":{\"id\":\"2147\",\"type\":\"Line\"},\"selection_glyph\":null,\"view\":{\"id\":\"2149\",\"type\":\"CDSView\"}},\"id\":\"2148\",\"type\":\"GlyphRenderer\"},{\"attributes\":{\"data_source\":{\"id\":\"2165\",\"type\":\"ColumnDataSource\"},\"glyph\":{\"id\":\"2166\",\"type\":\"Line\"},\"hover_glyph\":null,\"muted_glyph\":null,\"nonselection_glyph\":{\"id\":\"2167\",\"type\":\"Line\"},\"selection_glyph\":null,\"view\":{\"id\":\"2169\",\"type\":\"CDSView\"}},\"id\":\"2168\",\"type\":\"GlyphRenderer\"},{\"attributes\":{\"callback\":null},\"id\":\"2069\",\"type\":\"DataRange1d\"},{\"attributes\":{\"data_source\":{\"id\":\"2130\",\"type\":\"ColumnDataSource\"},\"glyph\":{\"id\":\"2131\",\"type\":\"Line\"},\"hover_glyph\":null,\"muted_glyph\":null,\"nonselection_glyph\":{\"id\":\"2132\",\"type\":\"Line\"},\"selection_glyph\":null,\"view\":{\"id\":\"2134\",\"type\":\"CDSView\"}},\"id\":\"2133\",\"type\":\"GlyphRenderer\"},{\"attributes\":{\"line_alpha\":0.1,\"line_color\":\"#1f77b4\",\"line_width\":4,\"x\":{\"field\":\"x\"},\"y\":{\"field\":\"y\"}},\"id\":\"2162\",\"type\":\"Line\"},{\"attributes\":{\"data_source\":{\"id\":\"2190\",\"type\":\"ColumnDataSource\"},\"glyph\":{\"id\":\"2191\",\"type\":\"Line\"},\"hover_glyph\":null,\"muted_glyph\":null,\"nonselection_glyph\":{\"id\":\"2192\",\"type\":\"Line\"},\"selection_glyph\":null,\"view\":{\"id\":\"2194\",\"type\":\"CDSView\"}},\"id\":\"2193\",\"type\":\"GlyphRenderer\"},{\"attributes\":{},\"id\":\"2088\",\"type\":\"WheelZoomTool\"},{\"attributes\":{\"callback\":null,\"data\":{\"x\":{\"__ndarray__\":\"AAAAAAAA8D8AAAAAAADwPwAAAAAAAPA/AAAAAAAA8D8AAAAAAADwPwAAAAAAAPA/AAAAAAAA8D8AAAAAAADwPwAAAAAAAPA/AAAAAAAA8D8AAAAAAADwPwAAAAAAAPA/AAAAAAAA8D8AAAAAAADwPwAAAAAAAPA/AAAAAAAA8D8AAAAAAADwPwAAAAAAAPA/AAAAAAAA8D8AAAAAAADwPwAAAAAAAPA/AAAAAAAA8D8AAAAAAADwPwAAAAAAAPA/AAAAAAAA8D8AAAAAAADwPwAAAAAAAPA/AAAAAAAA8D8AAAAAAADwPwAAAAAAAPA/AAAAAAAA8D8AAAAAAADwPwAAAAAAAPA/AAAAAAAA8D8AAAAAAADwPwAAAAAAAPA/AAAAAAAA8D8AAAAAAADwPwAAAAAAAPA/AAAAAAAA8D8AAAAAAADwPwAAAAAAAPA/AAAAAAAA8D8AAAAAAADwPwAAAAAAAPA/AAAAAAAA8D8AAAAAAADwPwAAAAAAAPA/AAAAAAAA8D8AAAAAAADwPw==\",\"dtype\":\"float64\",\"shape\":[50]},\"y\":{\"__ndarray__\":\"AAAAAAAA8D8AAAAAAADwPwAAAAAAAPA/AAAAAAAA8D8AAAAAAADwPwAAAAAAAPA/AAAAAAAA8D8AAAAAAADwPwAAAAAAAPA/AAAAAAAA8D8AAAAAAADwPwAAAAAAAPA/AAAAAAAA8D8AAAAAAADwPwAAAAAAAPA/AAAAAAAA8D8AAAAAAADwPwAAAAAAAPA/AAAAAAAA8D8AAAAAAADwPwAAAAAAAPA/AAAAAAAA8D8AAAAAAADwPwAAAAAAAPA/AAAAAAAA8D8AAAAAAADwPwAAAAAAAPA/AAAAAAAA8D8AAAAAAADwPwAAAAAAAPA/AAAAAAAA8D8AAAAAAADwPwAAAAAAAPA/AAAAAAAA8D8AAAAAAADwPwAAAAAAAPA/AAAAAAAA8D8AAAAAAADwPwAAAAAAAPA/AAAAAAAA8D8AAAAAAADwPwAAAAAAAPA/AAAAAAAA8D8AAAAAAADwPwAAAAAAAPA/AAAAAAAA8D8AAAAAAADwPwAAAAAAAPA/AAAAAAAA8D8AAAAAAADwPw==\",\"dtype\":\"float64\",\"shape\":[50]}},\"selected\":{\"id\":\"2334\",\"type\":\"Selection\"},\"selection_policy\":{\"id\":\"2335\",\"type\":\"UnionRenderers\"}},\"id\":\"2145\",\"type\":\"ColumnDataSource\"},{\"attributes\":{\"line_alpha\":0.5,\"line_color\":\"#1f77b4\",\"line_width\":4,\"x\":{\"field\":\"x\"},\"y\":{\"field\":\"y\"}},\"id\":\"2121\",\"type\":\"Line\"},{\"attributes\":{\"line_alpha\":0.5,\"line_color\":\"#1f77b4\",\"line_width\":4,\"x\":{\"field\":\"x\"},\"y\":{\"field\":\"y\"}},\"id\":\"2141\",\"type\":\"Line\"},{\"attributes\":{\"source\":{\"id\":\"2175\",\"type\":\"ColumnDataSource\"}},\"id\":\"2179\",\"type\":\"CDSView\"},{\"attributes\":{\"line_color\":\"lightgrey\",\"line_width\":4,\"x\":{\"field\":\"x\"},\"y\":{\"field\":\"y\"}},\"id\":\"2101\",\"type\":\"Line\"},{\"attributes\":{\"line_alpha\":0.5,\"line_color\":\"#1f77b4\",\"line_width\":4,\"x\":{\"field\":\"x\"},\"y\":{\"field\":\"y\"}},\"id\":\"2156\",\"type\":\"Line\"},{\"attributes\":{\"source\":{\"id\":\"2185\",\"type\":\"ColumnDataSource\"}},\"id\":\"2189\",\"type\":\"CDSView\"},{\"attributes\":{\"data_source\":{\"id\":\"2185\",\"type\":\"ColumnDataSource\"},\"glyph\":{\"id\":\"2186\",\"type\":\"Line\"},\"hover_glyph\":null,\"muted_glyph\":null,\"nonselection_glyph\":{\"id\":\"2187\",\"type\":\"Line\"},\"selection_glyph\":null,\"view\":{\"id\":\"2189\",\"type\":\"CDSView\"}},\"id\":\"2188\",\"type\":\"GlyphRenderer\"},{\"attributes\":{\"callback\":null,\"data\":{\"x\":{\"__ndarray__\":\"AAAAAAAAAAAAAAAAAAAAAAAAAAAAAAAAAAAAAAAAAAAAAAAAAAAAAAAAAAAAAAAAAAAAAAAAAAAAAAAAAAAAAAAAAAAAAAAAAAAAAAAAAAAAAAAAAAAAAAAAAAAAAAAAhBBCCCGEkD+EEEIIIYSQP4QQQgghhJA/hBBCCCGEoD+llFJKKaXEP4QQQgghhNA/AAAAAAAA4D+VUkoppZTiP7733nvvvec/55xzzjnn7D90zjnnnHPuPwAAAAAAAPA/AAAAAAAA8D8AAAAAAADwPwAAAAAAAPA/AAAAAAAA8D8AAAAAAADwPwAAAAAAAPA/AAAAAAAA8D8AAAAAAADwPwAAAAAAAPA/AAAAAAAA8D8AAAAAAADwPwAAAAAAAPA/AAAAAAAA8D8AAAAAAADwPwAAAAAAAPA/AAAAAAAA8D8AAAAAAADwPwAAAAAAAPA/AAAAAAAA8D8AAAAAAADwPwAAAAAAAPA/AAAAAAAA8D8AAAAAAADwPwAAAAAAAPA/AAAAAAAA8D8AAAAAAADwPw==\",\"dtype\":\"float64\",\"shape\":[50]},\"y\":{\"__ndarray__\":\"AAAAAAAAAAAAAAAAAAAAAAAAAAAAAAAAAAAAAAAAAAAAAAAAAAAAAAAAAAAAAAAAAAAAAAAAAAAAAAAAAAAAAAAAAAAAAAAAAAAAAAAAAAAAAAAAAAAAAAAAAAAAAAAAAAAAAAAAAAAAAAAAAAAAAHfEHXFH3LE/d8QdcUfcwT93xB1xR9zRP5U1ZU1ZU9Y/1pQ1ZU1Z4z9lTVlT1pTlP1PWlDVlTek/cUfcEXfE7T+hL+gL+oLuP9AX9AV9Qe8/AAAAAAAA8D8AAAAAAADwPwAAAAAAAPA/AAAAAAAA8D8AAAAAAADwPwAAAAAAAPA/AAAAAAAA8D8AAAAAAADwPwAAAAAAAPA/AAAAAAAA8D8AAAAAAADwPwAAAAAAAPA/AAAAAAAA8D8AAAAAAADwPwAAAAAAAPA/AAAAAAAA8D8AAAAAAADwPwAAAAAAAPA/AAAAAAAA8D8AAAAAAADwPwAAAAAAAPA/AAAAAAAA8D8AAAAAAADwPwAAAAAAAPA/AAAAAAAA8D8AAAAAAADwPw==\",\"dtype\":\"float64\",\"shape\":[50]}},\"selected\":{\"id\":\"2330\",\"type\":\"Selection\"},\"selection_policy\":{\"id\":\"2331\",\"type\":\"UnionRenderers\"}},\"id\":\"2135\",\"type\":\"ColumnDataSource\"},{\"attributes\":{\"line_alpha\":0.5,\"line_color\":\"#1f77b4\",\"line_width\":4,\"x\":{\"field\":\"x\"},\"y\":{\"field\":\"y\"}},\"id\":\"2151\",\"type\":\"Line\"},{\"attributes\":{},\"id\":\"2087\",\"type\":\"PanTool\"},{\"attributes\":{\"data_source\":{\"id\":\"2150\",\"type\":\"ColumnDataSource\"},\"glyph\":{\"id\":\"2151\",\"type\":\"Line\"},\"hover_glyph\":null,\"muted_glyph\":null,\"nonselection_glyph\":{\"id\":\"2152\",\"type\":\"Line\"},\"selection_glyph\":null,\"view\":{\"id\":\"2154\",\"type\":\"CDSView\"}},\"id\":\"2153\",\"type\":\"GlyphRenderer\"},{\"attributes\":{\"dimension\":1,\"ticker\":{\"id\":\"2083\",\"type\":\"BasicTicker\"}},\"id\":\"2086\",\"type\":\"Grid\"},{\"attributes\":{\"source\":{\"id\":\"2125\",\"type\":\"ColumnDataSource\"}},\"id\":\"2129\",\"type\":\"CDSView\"},{\"attributes\":{\"data_source\":{\"id\":\"2140\",\"type\":\"ColumnDataSource\"},\"glyph\":{\"id\":\"2141\",\"type\":\"Line\"},\"hover_glyph\":null,\"muted_glyph\":null,\"nonselection_glyph\":{\"id\":\"2142\",\"type\":\"Line\"},\"selection_glyph\":null,\"view\":{\"id\":\"2144\",\"type\":\"CDSView\"}},\"id\":\"2143\",\"type\":\"GlyphRenderer\"},{\"attributes\":{},\"id\":\"2078\",\"type\":\"BasicTicker\"},{\"attributes\":{\"line_alpha\":0.1,\"line_color\":\"#1f77b4\",\"line_width\":4,\"x\":{\"field\":\"x\"},\"y\":{\"field\":\"y\"}},\"id\":\"2172\",\"type\":\"Line\"},{\"attributes\":{\"data_source\":{\"id\":\"2155\",\"type\":\"ColumnDataSource\"},\"glyph\":{\"id\":\"2156\",\"type\":\"Line\"},\"hover_glyph\":null,\"muted_glyph\":null,\"nonselection_glyph\":{\"id\":\"2157\",\"type\":\"Line\"},\"selection_glyph\":null,\"view\":{\"id\":\"2159\",\"type\":\"CDSView\"}},\"id\":\"2158\",\"type\":\"GlyphRenderer\"},{\"attributes\":{},\"id\":\"2075\",\"type\":\"LinearScale\"},{\"attributes\":{\"callback\":null,\"data\":{\"x\":{\"__ndarray__\":\"AAAAAAAAAAAAAAAAAAAAAAAAAAAAAAAAAAAAAAAAAAAAAAAAAAAAAAAAAAAAAAAAAAAAAAAAAAAAAAAAAAAAAAAAAAAAAAAAAAAAAAAAAAAAAAAAAAAAAAAAAAAAAAAAAAAAAAAAAAAAAAAAAAAAAAAAAAAAAAAAAAAAAAAAAAAAAAAAAAAAAAAAAAAAAAAAAAAAAAAAAAAAAAAAAAAAAIQQQgghhJA/hBBCCCGEoD+VUkoppZTCP7bWWmuttcY/vvfee++91z+VUkoppZTiPzrnnHPOOec/77333nvv7T8AAAAAAADwPwAAAAAAAPA/AAAAAAAA8D8AAAAAAADwPwAAAAAAAPA/AAAAAAAA8D8AAAAAAADwPwAAAAAAAPA/AAAAAAAA8D8AAAAAAADwPwAAAAAAAPA/AAAAAAAA8D8AAAAAAADwPwAAAAAAAPA/AAAAAAAA8D8AAAAAAADwPwAAAAAAAPA/AAAAAAAA8D8AAAAAAADwPwAAAAAAAPA/AAAAAAAA8D8AAAAAAADwPw==\",\"dtype\":\"float64\",\"shape\":[50]},\"y\":{\"__ndarray__\":\"AAAAAAAAAAAAAAAAAAAAAAAAAAAAAAAAAAAAAAAAAAAAAAAAAAAAAAAAAAAAAAAAAAAAAAAAAAAAAAAAAAAAAAAAAAAAAAAAAAAAAAAAAAAAAAAAAAAAAAAAAAAAAAAAAAAAAAAAAAAAAAAAAAAAAAAAAAAAAAAAAAAAAAAAAAAAAAAAAAAAAAAAAAAAAAAAAAAAAAAAAAAAAAAAAAAAAAAAAAAAAAAAd8QdcUfcsT93xB1xR9zBPxj0BX1BX9A/EnfEHXFH3D82ZU1ZU9bkPxJ3xB1xR+w/0Bf0BX1B7z8AAAAAAADwPwAAAAAAAPA/AAAAAAAA8D8AAAAAAADwPwAAAAAAAPA/AAAAAAAA8D8AAAAAAADwPwAAAAAAAPA/AAAAAAAA8D8AAAAAAADwPwAAAAAAAPA/AAAAAAAA8D8AAAAAAADwPwAAAAAAAPA/AAAAAAAA8D8AAAAAAADwPwAAAAAAAPA/AAAAAAAA8D8AAAAAAADwPwAAAAAAAPA/AAAAAAAA8D8AAAAAAADwPw==\",\"dtype\":\"float64\",\"shape\":[50]}},\"selected\":{\"id\":\"2326\",\"type\":\"Selection\"},\"selection_policy\":{\"id\":\"2327\",\"type\":\"UnionRenderers\"}},\"id\":\"2125\",\"type\":\"ColumnDataSource\"},{\"attributes\":{\"data_source\":{\"id\":\"2180\",\"type\":\"ColumnDataSource\"},\"glyph\":{\"id\":\"2181\",\"type\":\"Line\"},\"hover_glyph\":null,\"muted_glyph\":null,\"nonselection_glyph\":{\"id\":\"2182\",\"type\":\"Line\"},\"selection_glyph\":null,\"view\":{\"id\":\"2184\",\"type\":\"CDSView\"}},\"id\":\"2183\",\"type\":\"GlyphRenderer\"},{\"attributes\":{},\"id\":\"2342\",\"type\":\"Selection\"},{\"attributes\":{\"callback\":null},\"id\":\"2071\",\"type\":\"DataRange1d\"},{\"attributes\":{\"source\":{\"id\":\"2140\",\"type\":\"ColumnDataSource\"}},\"id\":\"2144\",\"type\":\"CDSView\"},{\"attributes\":{\"callback\":null,\"data\":{\"x\":{\"__ndarray__\":\"AAAAAAAAAAAAAAAAAAAAAAAAAAAAAAAAAAAAAAAAAAAAAAAAAAAAAAAAAAAAAAAAAAAAAAAAAAAAAAAAAAAAAAAAAAAAAAAAAAAAAAAAAAAAAAAAAAAAAAAAAAAAAAAAAAAAAAAAAAAAAAAAAAAAAAAAAAAAAAAAAAAAAAAAAAAAAAAAAAAAAAAAAAAAAAAAAAAAAAAAAAAAAAAAAAAAAAAAAAAAAAAAAAAAAAAAAADGGGOMMcaoP+ecc84557w/hBBCCCGE0D/XWmuttdbaP6211lprreU/Y4wxxhhj7D8AAAAAAADwPwAAAAAAAPA/AAAAAAAA8D8AAAAAAADwPwAAAAAAAPA/AAAAAAAA8D8AAAAAAADwPwAAAAAAAPA/AAAAAAAA8D8AAAAAAADwPwAAAAAAAPA/AAAAAAAA8D8AAAAAAADwPwAAAAAAAPA/AAAAAAAA8D8AAAAAAADwPwAAAAAAAPA/AAAAAAAA8D8AAAAAAADwPwAAAAAAAPA/AAAAAAAA8D8AAAAAAADwPw==\",\"dtype\":\"float64\",\"shape\":[50]},\"y\":{\"__ndarray__\":\"AAAAAAAAAAAAAAAAAAAAAAAAAAAAAAAAAAAAAAAAAAAAAAAAAAAAAAAAAAAAAAAAAAAAAAAAAAAAAAAAAAAAAAAAAAAAAAAAAAAAAAAAAAAAAAAAAAAAAAAAAAAAAAAAAAAAAAAAAAAAAAAAAAAAAAAAAAAAAAAAAAAAAAAAAAAAAAAAAAAAAAAAAAAAAAAAAAAAAAAAAAAAAAAAAAAAAPQFfUFf0Jc/9AV9QV/Qpz/0BX1BX9CnPzZlTVlT1sQ/1pQ1ZU1Z0z82ZU1ZU9bkP1PWlDVlTek/oS/oC/qC7j8AAAAAAADwPwAAAAAAAPA/AAAAAAAA8D8AAAAAAADwPwAAAAAAAPA/AAAAAAAA8D8AAAAAAADwPwAAAAAAAPA/AAAAAAAA8D8AAAAAAADwPwAAAAAAAPA/AAAAAAAA8D8AAAAAAADwPwAAAAAAAPA/AAAAAAAA8D8AAAAAAADwPwAAAAAAAPA/AAAAAAAA8D8AAAAAAADwPwAAAAAAAPA/AAAAAAAA8D8AAAAAAADwPw==\",\"dtype\":\"float64\",\"shape\":[50]}},\"selected\":{\"id\":\"2348\",\"type\":\"Selection\"},\"selection_policy\":{\"id\":\"2349\",\"type\":\"UnionRenderers\"}},\"id\":\"2180\",\"type\":\"ColumnDataSource\"},{\"attributes\":{\"line_alpha\":0.1,\"line_color\":\"#1f77b4\",\"line_width\":4,\"x\":{\"field\":\"x\"},\"y\":{\"field\":\"y\"}},\"id\":\"2152\",\"type\":\"Line\"},{\"attributes\":{\"line_alpha\":0.1,\"line_color\":\"#1f77b4\",\"line_width\":4,\"x\":{\"field\":\"x\"},\"y\":{\"field\":\"y\"}},\"id\":\"2182\",\"type\":\"Line\"},{\"attributes\":{\"line_alpha\":0.5,\"line_color\":\"#1f77b4\",\"line_width\":4,\"x\":{\"field\":\"x\"},\"y\":{\"field\":\"y\"}},\"id\":\"2191\",\"type\":\"Line\"},{\"attributes\":{\"line_alpha\":0.5,\"line_color\":\"#1f77b4\",\"line_width\":4,\"x\":{\"field\":\"x\"},\"y\":{\"field\":\"y\"}},\"id\":\"2136\",\"type\":\"Line\"},{\"attributes\":{\"callback\":null,\"data\":{\"x\":{\"__ndarray__\":\"AAAAAAAAAAAAAAAAAAAAAAAAAAAAAAAAAAAAAAAAAAAAAAAAAAAAAAAAAAAAAAAAAAAAAAAAAAD0BX1BX9CXP/QFfUFf0Jc/9AV9QV/Qlz/0BX1BX9CXP3fEHXFH3LE/d8QdcUfcsT93xB1xR9yxP3fEHXFH3LE/d8QdcUfcwT93xB1xR9zBP3fEHXFH3ME/d8QdcUfc0T93xB1xR9zRP/QFfUFf0Nc/9AV9QV/Q1z+nrClrypriP6esKWvKmuI/xB1xR9wR5z/EHXFH3BHnP/QFfUFf0Oc/9AV9QV/Q5z/0BX1BX9DnP7OmrClryuo/s6asKWvK6j9BX9AX9AXtP0Ff0Bf0Be0/0Bf0BX1B7z/QF/QFfUHvPwAAAAAAAPA/AAAAAAAA8D8AAAAAAADwPwAAAAAAAPA/AAAAAAAA8D8=\",\"dtype\":\"float64\",\"shape\":[40]},\"y\":{\"__ndarray__\":\"AAAAAAAAAAAAAAAAAAAAAIQQQgghhJA/hBBCCCGEkD+EEEIIIYSgP4QQQgghhKA/hBBCCCGEoD+EEEIIIYSgP4QQQgghhKA/xhhjjDHGqD/GGGOMMcaoP6WUUkoppbQ/pZRSSimltD/XWmuttdbKP9daa6211so/55xzzjnnzD/nnHPOOefMP+ecc84558w/11prrbXW2j/XWmuttdbaP4QQQgghhOA/hBBCCCGE4D8yxhhjjDHmPzLGGGOMMeY/Ouecc8455z8655xzzjnnP84555xzzuk/zjnnnHPO6T/OOeecc87pP+ecc8455+w/55xzzjnn7D9877333nvvP3zvvffee+8/AAAAAAAA8D8AAAAAAADwPwAAAAAAAPA/AAAAAAAA8D8AAAAAAADwPwAAAAAAAPA/AAAAAAAA8D8=\",\"dtype\":\"float64\",\"shape\":[40]}},\"selected\":{\"id\":\"2318\",\"type\":\"Selection\"},\"selection_policy\":{\"id\":\"2319\",\"type\":\"UnionRenderers\"}},\"id\":\"2105\",\"type\":\"ColumnDataSource\"},{\"attributes\":{\"callback\":null,\"data\":{\"x\":{\"__ndarray__\":\"AAAAAAAAAAAAAAAAAAAAAAAAAAAAAAAAAAAAAAAAAAAAAAAAAAAAAAAAAAAAAAAAAAAAAAAAAAAAAAAAAAAAAAAAAAAAAAAAhBBCCCGEkD+EEEIIIYSQP4QQQgghhJA/hBBCCCGEkD+EEEIIIYSQP4QQQgghhJA/hBBCCCGEkD+EEEIIIYSQP4QQQgghhJA/hBBCCCGEkD/GGGOMMcaoP5VSSimllMI/xhhjjDHGyD+21lprrbXWP/jee++9994/EUIIIYQQ4j++9957773nP84555xzzuk/33vvvffe6z9877333nvvPwAAAAAAAPA/AAAAAAAA8D8AAAAAAADwPwAAAAAAAPA/AAAAAAAA8D8AAAAAAADwPwAAAAAAAPA/AAAAAAAA8D8AAAAAAADwPwAAAAAAAPA/AAAAAAAA8D8AAAAAAADwPwAAAAAAAPA/AAAAAAAA8D8AAAAAAADwPwAAAAAAAPA/AAAAAAAA8D8AAAAAAADwPwAAAAAAAPA/AAAAAAAA8D8AAAAAAADwPw==\",\"dtype\":\"float64\",\"shape\":[50]},\"y\":{\"__ndarray__\":\"AAAAAAAAAAAAAAAAAAAAAAAAAAAAAAAAAAAAAAAAAAAAAAAAAAAAAAAAAAAAAAAAAAAAAAAAAAAAAAAAAAAAAAAAAAAAAAAAAAAAAAAAAAAAAAAAAAAAAAAAAAAAAAAAAAAAAAAAAAAAAAAAAAAAAAAAAAAAAAAAAAAAAAAAAAAAAAAAAAAAAAAAAAAAAAAA9AV9QV/Qlz93xB1xR9yxP3fEHXFH3LE/d8QdcUfcwT/0BX1BX9DHP1PWlDVlTdk/lTVlTVlT5j+DvqAv6AvqPxJ3xB1xR+w/cUfcEXfE7T8AAAAAAADwPwAAAAAAAPA/AAAAAAAA8D8AAAAAAADwPwAAAAAAAPA/AAAAAAAA8D8AAAAAAADwPwAAAAAAAPA/AAAAAAAA8D8AAAAAAADwPwAAAAAAAPA/AAAAAAAA8D8AAAAAAADwPwAAAAAAAPA/AAAAAAAA8D8AAAAAAADwPwAAAAAAAPA/AAAAAAAA8D8AAAAAAADwPwAAAAAAAPA/AAAAAAAA8D8AAAAAAADwPw==\",\"dtype\":\"float64\",\"shape\":[50]}},\"selected\":{\"id\":\"2338\",\"type\":\"Selection\"},\"selection_policy\":{\"id\":\"2339\",\"type\":\"UnionRenderers\"}},\"id\":\"2155\",\"type\":\"ColumnDataSource\"},{\"attributes\":{\"line_alpha\":0.1,\"line_color\":\"#1f77b4\",\"line_width\":4,\"x\":{\"field\":\"x\"},\"y\":{\"field\":\"y\"}},\"id\":\"2177\",\"type\":\"Line\"},{\"attributes\":{\"source\":{\"id\":\"2115\",\"type\":\"ColumnDataSource\"}},\"id\":\"2119\",\"type\":\"CDSView\"},{\"attributes\":{\"callback\":null,\"data\":{\"x\":{\"__ndarray__\":\"AAAAAAAAAAAAAAAAAAAAAAAAAAAAAAAAAAAAAAAAAAAAAAAAAAAAAAAAAAAAAAAAAAAAAAAAAAAAAAAAAAAAAAAAAAAAAAAAAAAAAAAAAAAAAAAAAAAAAAAAAAAAAAAAhBBCCCGEkD+EEEIIIYSwP6WUUkoppbQ/ttZaa621xj+llFJKKaXUP/jee++9994/Ouecc8455z/XWmuttdbqP2OMMcYYY+w/dM4555xz7j/43nvvvffuP3zvvffee+8/AAAAAAAA8D8AAAAAAADwPwAAAAAAAPA/AAAAAAAA8D8AAAAAAADwPwAAAAAAAPA/AAAAAAAA8D8AAAAAAADwPwAAAAAAAPA/AAAAAAAA8D8AAAAAAADwPwAAAAAAAPA/AAAAAAAA8D8AAAAAAADwPwAAAAAAAPA/AAAAAAAA8D8AAAAAAADwPwAAAAAAAPA/AAAAAAAA8D8AAAAAAADwPwAAAAAAAPA/AAAAAAAA8D8AAAAAAADwPwAAAAAAAPA/AAAAAAAA8D8AAAAAAADwPw==\",\"dtype\":\"float64\",\"shape\":[50]},\"y\":{\"__ndarray__\":\"AAAAAAAAAAAAAAAAAAAAAAAAAAAAAAAAAAAAAAAAAAAAAAAAAAAAAAAAAAAAAAAAAAAAAAAAAAAAAAAAAAAAAAAAAAAAAAAAAAAAAAAAAAAAAAAAAAAAAPQFfUFf0Jc/9AV9QV/Qpz93xB1xR9zBP/QFfUFf0Mc/NmVNWVPW1D+zpqwpa8raP3fEHXFH3OE/9AV9QV/Q5z9T1pQ1ZU3pPxJ3xB1xR+w/oS/oC/qC7j8AAAAAAADwPwAAAAAAAPA/AAAAAAAA8D8AAAAAAADwPwAAAAAAAPA/AAAAAAAA8D8AAAAAAADwPwAAAAAAAPA/AAAAAAAA8D8AAAAAAADwPwAAAAAAAPA/AAAAAAAA8D8AAAAAAADwPwAAAAAAAPA/AAAAAAAA8D8AAAAAAADwPwAAAAAAAPA/AAAAAAAA8D8AAAAAAADwPwAAAAAAAPA/AAAAAAAA8D8AAAAAAADwPwAAAAAAAPA/AAAAAAAA8D8AAAAAAADwPwAAAAAAAPA/AAAAAAAA8D8AAAAAAADwPw==\",\"dtype\":\"float64\",\"shape\":[50]}},\"selected\":{\"id\":\"2356\",\"type\":\"Selection\"},\"selection_policy\":{\"id\":\"2357\",\"type\":\"UnionRenderers\"}},\"id\":\"2200\",\"type\":\"ColumnDataSource\"},{\"attributes\":{},\"id\":\"2345\",\"type\":\"UnionRenderers\"},{\"attributes\":{\"bottom_units\":\"screen\",\"fill_alpha\":{\"value\":0.5},\"fill_color\":{\"value\":\"lightgrey\"},\"left_units\":\"screen\",\"level\":\"overlay\",\"line_alpha\":{\"value\":1.0},\"line_color\":{\"value\":\"black\"},\"line_dash\":[4,4],\"line_width\":{\"value\":2},\"render_mode\":\"css\",\"right_units\":\"screen\",\"top_units\":\"screen\"},\"id\":\"2360\",\"type\":\"BoxAnnotation\"},{\"attributes\":{\"line_alpha\":0.5,\"line_color\":\"#1f77b4\",\"line_width\":4,\"x\":{\"field\":\"x\"},\"y\":{\"field\":\"y\"}},\"id\":\"2171\",\"type\":\"Line\"},{\"attributes\":{\"line_alpha\":0.5,\"line_color\":\"#1f77b4\",\"line_width\":4,\"x\":{\"field\":\"x\"},\"y\":{\"field\":\"y\"}},\"id\":\"2176\",\"type\":\"Line\"},{\"attributes\":{\"active_drag\":\"auto\",\"active_inspect\":\"auto\",\"active_multi\":null,\"active_scroll\":\"auto\",\"active_tap\":\"auto\",\"tools\":[{\"id\":\"2087\",\"type\":\"PanTool\"},{\"id\":\"2088\",\"type\":\"WheelZoomTool\"},{\"id\":\"2089\",\"type\":\"BoxZoomTool\"},{\"id\":\"2090\",\"type\":\"SaveTool\"},{\"id\":\"2091\",\"type\":\"ResetTool\"},{\"id\":\"2092\",\"type\":\"HelpTool\"}]},\"id\":\"2093\",\"type\":\"Toolbar\"},{\"attributes\":{\"line_alpha\":0.5,\"line_color\":\"#1f77b4\",\"line_width\":4,\"x\":{\"field\":\"x\"},\"y\":{\"field\":\"y\"}},\"id\":\"2181\",\"type\":\"Line\"},{\"attributes\":{\"source\":{\"id\":\"2170\",\"type\":\"ColumnDataSource\"}},\"id\":\"2174\",\"type\":\"CDSView\"},{\"attributes\":{\"line_alpha\":0.1,\"line_color\":\"#1f77b4\",\"line_width\":4,\"x\":{\"field\":\"x\"},\"y\":{\"field\":\"y\"}},\"id\":\"2192\",\"type\":\"Line\"},{\"attributes\":{\"data_source\":{\"id\":\"2115\",\"type\":\"ColumnDataSource\"},\"glyph\":{\"id\":\"2116\",\"type\":\"Line\"},\"hover_glyph\":null,\"muted_glyph\":null,\"nonselection_glyph\":{\"id\":\"2117\",\"type\":\"Line\"},\"selection_glyph\":null,\"view\":{\"id\":\"2119\",\"type\":\"CDSView\"}},\"id\":\"2118\",\"type\":\"GlyphRenderer\"},{\"attributes\":{\"data_source\":{\"id\":\"2135\",\"type\":\"ColumnDataSource\"},\"glyph\":{\"id\":\"2136\",\"type\":\"Line\"},\"hover_glyph\":null,\"muted_glyph\":null,\"nonselection_glyph\":{\"id\":\"2137\",\"type\":\"Line\"},\"selection_glyph\":null,\"view\":{\"id\":\"2139\",\"type\":\"CDSView\"}},\"id\":\"2138\",\"type\":\"GlyphRenderer\"},{\"attributes\":{\"line_alpha\":0.5,\"line_color\":\"#1f77b4\",\"line_width\":4,\"x\":{\"field\":\"x\"},\"y\":{\"field\":\"y\"}},\"id\":\"2186\",\"type\":\"Line\"},{\"attributes\":{\"callback\":null,\"data\":{\"x\":{\"__ndarray__\":\"AAAAAAAA8D8AAAAAAADwPwAAAAAAAPA/AAAAAAAA8D8AAAAAAADwPwAAAAAAAPA/AAAAAAAA8D8AAAAAAADwPwAAAAAAAPA/AAAAAAAA8D8AAAAAAADwPwAAAAAAAPA/AAAAAAAA8D8AAAAAAADwPwAAAAAAAPA/AAAAAAAA8D8AAAAAAADwPwAAAAAAAPA/AAAAAAAA8D8AAAAAAADwPwAAAAAAAPA/AAAAAAAA8D8AAAAAAADwPwAAAAAAAPA/AAAAAAAA8D8AAAAAAADwPwAAAAAAAPA/AAAAAAAA8D8AAAAAAADwPwAAAAAAAPA/AAAAAAAA8D8AAAAAAADwPwAAAAAAAPA/AAAAAAAA8D8AAAAAAADwPwAAAAAAAPA/AAAAAAAA8D8AAAAAAADwPwAAAAAAAPA/AAAAAAAA8D8AAAAAAADwPwAAAAAAAPA/AAAAAAAA8D8AAAAAAADwPwAAAAAAAPA/AAAAAAAA8D8AAAAAAADwPwAAAAAAAPA/AAAAAAAA8D8AAAAAAADwPw==\",\"dtype\":\"float64\",\"shape\":[50]},\"y\":{\"__ndarray__\":\"AAAAAAAA8D8AAAAAAADwPwAAAAAAAPA/AAAAAAAA8D8AAAAAAADwPwAAAAAAAPA/AAAAAAAA8D8AAAAAAADwPwAAAAAAAPA/AAAAAAAA8D8AAAAAAADwPwAAAAAAAPA/AAAAAAAA8D8AAAAAAADwPwAAAAAAAPA/AAAAAAAA8D8AAAAAAADwPwAAAAAAAPA/AAAAAAAA8D8AAAAAAADwPwAAAAAAAPA/AAAAAAAA8D8AAAAAAADwPwAAAAAAAPA/AAAAAAAA8D8AAAAAAADwPwAAAAAAAPA/AAAAAAAA8D8AAAAAAADwPwAAAAAAAPA/AAAAAAAA8D8AAAAAAADwPwAAAAAAAPA/AAAAAAAA8D8AAAAAAADwPwAAAAAAAPA/AAAAAAAA8D8AAAAAAADwPwAAAAAAAPA/AAAAAAAA8D8AAAAAAADwPwAAAAAAAPA/AAAAAAAA8D8AAAAAAADwPwAAAAAAAPA/AAAAAAAA8D8AAAAAAADwPwAAAAAAAPA/AAAAAAAA8D8AAAAAAADwPw==\",\"dtype\":\"float64\",\"shape\":[50]}},\"selected\":{\"id\":\"2358\",\"type\":\"Selection\"},\"selection_policy\":{\"id\":\"2359\",\"type\":\"UnionRenderers\"}},\"id\":\"2205\",\"type\":\"ColumnDataSource\"},{\"attributes\":{\"source\":{\"id\":\"2110\",\"type\":\"ColumnDataSource\"}},\"id\":\"2114\",\"type\":\"CDSView\"},{\"attributes\":{\"line_alpha\":0.5,\"line_color\":\"#1f77b4\",\"line_width\":4,\"x\":{\"field\":\"x\"},\"y\":{\"field\":\"y\"}},\"id\":\"2161\",\"type\":\"Line\"},{\"attributes\":{\"source\":{\"id\":\"2155\",\"type\":\"ColumnDataSource\"}},\"id\":\"2159\",\"type\":\"CDSView\"},{\"attributes\":{},\"id\":\"2339\",\"type\":\"UnionRenderers\"},{\"attributes\":{},\"id\":\"2348\",\"type\":\"Selection\"},{\"attributes\":{},\"id\":\"2331\",\"type\":\"UnionRenderers\"},{\"attributes\":{},\"id\":\"2338\",\"type\":\"Selection\"},{\"attributes\":{},\"id\":\"2351\",\"type\":\"UnionRenderers\"},{\"attributes\":{},\"id\":\"2333\",\"type\":\"UnionRenderers\"},{\"attributes\":{\"source\":{\"id\":\"2205\",\"type\":\"ColumnDataSource\"}},\"id\":\"2209\",\"type\":\"CDSView\"},{\"attributes\":{},\"id\":\"2353\",\"type\":\"UnionRenderers\"},{\"attributes\":{},\"id\":\"2334\",\"type\":\"Selection\"},{\"attributes\":{},\"id\":\"2349\",\"type\":\"UnionRenderers\"},{\"attributes\":{\"line_alpha\":0.1,\"line_color\":\"#1f77b4\",\"line_width\":4,\"x\":{\"field\":\"x\"},\"y\":{\"field\":\"y\"}},\"id\":\"2117\",\"type\":\"Line\"},{\"attributes\":{\"callback\":null,\"data\":{\"x\":{\"__ndarray__\":\"AAAAAAAAAAAAAAAAAAAAAAAAAAAAAAAAAAAAAAAAAAAAAAAAAAAAAAAAAAAAAAAAAAAAAAAAAAAAAAAAAAAAAAAAAAAAAAAAAAAAAAAAAAAAAAAAAAAAAAAAAAAAAAAAAAAAAAAAAAAAAAAAAAAAAAAAAAAAAAAAAAAAAAAAAAAAAAAAAAAAAAAAAAAAAAAAAAAAAAAAAAAAAAAAAAAAAAAAAAAAAAAAAAAAAAAAAAAAAAAAAAAAAAAAAAAAAAAAAAAAAAAAAAAAAAAAAAAAAAAAAAAAAAAAAAAAAAAAAAAAAAAAAAAAAMYYY4wxxqg/jDHGGGOM0T+21lprrbXmP3TOOeecc+4/AAAAAAAA8D8AAAAAAADwPwAAAAAAAPA/AAAAAAAA8D8AAAAAAADwPwAAAAAAAPA/AAAAAAAA8D8AAAAAAADwPwAAAAAAAPA/AAAAAAAA8D8AAAAAAADwPwAAAAAAAPA/AAAAAAAA8D8AAAAAAADwPwAAAAAAAPA/AAAAAAAA8D8AAAAAAADwPw==\",\"dtype\":\"float64\",\"shape\":[50]},\"y\":{\"__ndarray__\":\"AAAAAAAAAAAAAAAAAAAAAAAAAAAAAAAAAAAAAAAAAAAAAAAAAAAAAAAAAAAAAAAAAAAAAAAAAAAAAAAAAAAAAAAAAAAAAAAAAAAAAAAAAAAAAAAAAAAAAAAAAAAAAAAAAAAAAAAAAAAAAAAAAAAAAAAAAAAAAAAAAAAAAAAAAAAAAAAAAAAAAAAAAAAAAAAAAAAAAAAAAAAAAAAAAAAAAAAAAAAAAAAAAAAAAAAAAAAAAAAAAAAAAAAAAAAAAAAAAAAAAAAAAAAAAAAAAAAAAAAAAAAAAAAAAAAAAAAAAAAAAAAAAAAAAHfEHXFH3LE/GPQFfUFf0D9H3BF3xB3hP6Ev6Av6gu4/AAAAAAAA8D8AAAAAAADwPwAAAAAAAPA/AAAAAAAA8D8AAAAAAADwPwAAAAAAAPA/AAAAAAAA8D8AAAAAAADwPwAAAAAAAPA/AAAAAAAA8D8AAAAAAADwPwAAAAAAAPA/AAAAAAAA8D8AAAAAAADwPwAAAAAAAPA/AAAAAAAA8D8AAAAAAADwPw==\",\"dtype\":\"float64\",\"shape\":[50]}},\"selected\":{\"id\":\"2322\",\"type\":\"Selection\"},\"selection_policy\":{\"id\":\"2323\",\"type\":\"UnionRenderers\"}},\"id\":\"2115\",\"type\":\"ColumnDataSource\"},{\"attributes\":{},\"id\":\"2332\",\"type\":\"Selection\"},{\"attributes\":{},\"id\":\"2350\",\"type\":\"Selection\"},{\"attributes\":{},\"id\":\"2327\",\"type\":\"UnionRenderers\"},{\"attributes\":{},\"id\":\"2335\",\"type\":\"UnionRenderers\"},{\"attributes\":{},\"id\":\"2328\",\"type\":\"Selection\"},{\"attributes\":{\"data_source\":{\"id\":\"2205\",\"type\":\"ColumnDataSource\"},\"glyph\":{\"id\":\"2206\",\"type\":\"Line\"},\"hover_glyph\":null,\"muted_glyph\":null,\"nonselection_glyph\":{\"id\":\"2207\",\"type\":\"Line\"},\"selection_glyph\":null,\"view\":{\"id\":\"2209\",\"type\":\"CDSView\"}},\"id\":\"2208\",\"type\":\"GlyphRenderer\"},{\"attributes\":{\"source\":{\"id\":\"2200\",\"type\":\"ColumnDataSource\"}},\"id\":\"2204\",\"type\":\"CDSView\"},{\"attributes\":{\"data_source\":{\"id\":\"2200\",\"type\":\"ColumnDataSource\"},\"glyph\":{\"id\":\"2201\",\"type\":\"Line\"},\"hover_glyph\":null,\"muted_glyph\":null,\"nonselection_glyph\":{\"id\":\"2202\",\"type\":\"Line\"},\"selection_glyph\":null,\"view\":{\"id\":\"2204\",\"type\":\"CDSView\"}},\"id\":\"2203\",\"type\":\"GlyphRenderer\"},{\"attributes\":{},\"id\":\"2354\",\"type\":\"Selection\"},{\"attributes\":{},\"id\":\"2316\",\"type\":\"Selection\"},{\"attributes\":{},\"id\":\"2321\",\"type\":\"UnionRenderers\"},{\"attributes\":{},\"id\":\"2326\",\"type\":\"Selection\"},{\"attributes\":{},\"id\":\"2337\",\"type\":\"UnionRenderers\"},{\"attributes\":{\"line_alpha\":0.5,\"line_color\":\"#1f77b4\",\"line_width\":4,\"x\":{\"field\":\"x\"},\"y\":{\"field\":\"y\"}},\"id\":\"2116\",\"type\":\"Line\"},{\"attributes\":{\"line_alpha\":0.5,\"line_color\":\"#1f77b4\",\"line_width\":4,\"x\":{\"field\":\"x\"},\"y\":{\"field\":\"y\"}},\"id\":\"2206\",\"type\":\"Line\"},{\"attributes\":{},\"id\":\"2341\",\"type\":\"UnionRenderers\"},{\"attributes\":{},\"id\":\"2322\",\"type\":\"Selection\"},{\"attributes\":{},\"id\":\"2336\",\"type\":\"Selection\"},{\"attributes\":{},\"id\":\"2318\",\"type\":\"Selection\"},{\"attributes\":{},\"id\":\"2340\",\"type\":\"Selection\"},{\"attributes\":{},\"id\":\"2323\",\"type\":\"UnionRenderers\"},{\"attributes\":{\"data_source\":{\"id\":\"2110\",\"type\":\"ColumnDataSource\"},\"glyph\":{\"id\":\"2111\",\"type\":\"Line\"},\"hover_glyph\":null,\"muted_glyph\":null,\"nonselection_glyph\":{\"id\":\"2112\",\"type\":\"Line\"},\"selection_glyph\":null,\"view\":{\"id\":\"2114\",\"type\":\"CDSView\"}},\"id\":\"2113\",\"type\":\"GlyphRenderer\"},{\"attributes\":{},\"id\":\"2347\",\"type\":\"UnionRenderers\"},{\"attributes\":{\"source\":{\"id\":\"2105\",\"type\":\"ColumnDataSource\"}},\"id\":\"2109\",\"type\":\"CDSView\"},{\"attributes\":{},\"id\":\"2330\",\"type\":\"Selection\"},{\"attributes\":{\"text\":\"\"},\"id\":\"2311\",\"type\":\"Title\"},{\"attributes\":{},\"id\":\"2325\",\"type\":\"UnionRenderers\"},{\"attributes\":{\"line_alpha\":0.5,\"line_color\":\"#1f77b4\",\"line_width\":4,\"x\":{\"field\":\"x\"},\"y\":{\"field\":\"y\"}},\"id\":\"2201\",\"type\":\"Line\"},{\"attributes\":{\"line_alpha\":0.1,\"line_color\":\"#1f77b4\",\"line_width\":4,\"x\":{\"field\":\"x\"},\"y\":{\"field\":\"y\"}},\"id\":\"2112\",\"type\":\"Line\"},{\"attributes\":{},\"id\":\"2324\",\"type\":\"Selection\"},{\"attributes\":{},\"id\":\"2319\",\"type\":\"UnionRenderers\"},{\"attributes\":{\"line_alpha\":0.1,\"line_color\":\"#1f77b4\",\"line_width\":4,\"x\":{\"field\":\"x\"},\"y\":{\"field\":\"y\"}},\"id\":\"2202\",\"type\":\"Line\"},{\"attributes\":{\"line_alpha\":0.1,\"line_color\":\"#1f77b4\",\"line_width\":4,\"x\":{\"field\":\"x\"},\"y\":{\"field\":\"y\"}},\"id\":\"2207\",\"type\":\"Line\"},{\"attributes\":{},\"id\":\"2313\",\"type\":\"BasicTickFormatter\"},{\"attributes\":{},\"id\":\"2352\",\"type\":\"Selection\"},{\"attributes\":{\"data_source\":{\"id\":\"2105\",\"type\":\"ColumnDataSource\"},\"glyph\":{\"id\":\"2106\",\"type\":\"Line\"},\"hover_glyph\":null,\"muted_glyph\":null,\"nonselection_glyph\":{\"id\":\"2107\",\"type\":\"Line\"},\"selection_glyph\":null,\"view\":{\"id\":\"2109\",\"type\":\"CDSView\"}},\"id\":\"2108\",\"type\":\"GlyphRenderer\"},{\"attributes\":{\"callback\":null,\"data\":{\"x\":{\"__ndarray__\":\"AAAAAAAA8D8AAAAAAADwPwAAAAAAAPA/AAAAAAAA8D8AAAAAAADwPwAAAAAAAPA/AAAAAAAA8D8AAAAAAADwPwAAAAAAAPA/AAAAAAAA8D8AAAAAAADwPwAAAAAAAPA/AAAAAAAA8D8AAAAAAADwPwAAAAAAAPA/AAAAAAAA8D8AAAAAAADwPwAAAAAAAPA/AAAAAAAA8D8AAAAAAADwPwAAAAAAAPA/AAAAAAAA8D8AAAAAAADwPwAAAAAAAPA/AAAAAAAA8D8AAAAAAADwPwAAAAAAAPA/AAAAAAAA8D8AAAAAAADwPwAAAAAAAPA/AAAAAAAA8D8AAAAAAADwPwAAAAAAAPA/AAAAAAAA8D8AAAAAAADwPwAAAAAAAPA/AAAAAAAA8D8AAAAAAADwPwAAAAAAAPA/AAAAAAAA8D8AAAAAAADwPwAAAAAAAPA/AAAAAAAA8D8AAAAAAADwPwAAAAAAAPA/AAAAAAAA8D8AAAAAAADwPwAAAAAAAPA/AAAAAAAA8D8AAAAAAADwPw==\",\"dtype\":\"float64\",\"shape\":[50]},\"y\":{\"__ndarray__\":\"AAAAAAAA8D8AAAAAAADwPwAAAAAAAPA/AAAAAAAA8D8AAAAAAADwPwAAAAAAAPA/AAAAAAAA8D8AAAAAAADwPwAAAAAAAPA/AAAAAAAA8D8AAAAAAADwPwAAAAAAAPA/AAAAAAAA8D8AAAAAAADwPwAAAAAAAPA/AAAAAAAA8D8AAAAAAADwPwAAAAAAAPA/AAAAAAAA8D8AAAAAAADwPwAAAAAAAPA/AAAAAAAA8D8AAAAAAADwPwAAAAAAAPA/AAAAAAAA8D8AAAAAAADwPwAAAAAAAPA/AAAAAAAA8D8AAAAAAADwPwAAAAAAAPA/AAAAAAAA8D8AAAAAAADwPwAAAAAAAPA/AAAAAAAA8D8AAAAAAADwPwAAAAAAAPA/AAAAAAAA8D8AAAAAAADwPwAAAAAAAPA/AAAAAAAA8D8AAAAAAADwPwAAAAAAAPA/AAAAAAAA8D8AAAAAAADwPwAAAAAAAPA/AAAAAAAA8D8AAAAAAADwPwAAAAAAAPA/AAAAAAAA8D8AAAAAAADwPw==\",\"dtype\":\"float64\",\"shape\":[50]}},\"selected\":{\"id\":\"2340\",\"type\":\"Selection\"},\"selection_policy\":{\"id\":\"2341\",\"type\":\"UnionRenderers\"}},\"id\":\"2160\",\"type\":\"ColumnDataSource\"},{\"attributes\":{},\"id\":\"2317\",\"type\":\"UnionRenderers\"},{\"attributes\":{},\"id\":\"2320\",\"type\":\"Selection\"},{\"attributes\":{\"line_alpha\":0.5,\"line_color\":\"#1f77b4\",\"line_width\":4,\"x\":{\"field\":\"x\"},\"y\":{\"field\":\"y\"}},\"id\":\"2111\",\"type\":\"Line\"},{\"attributes\":{},\"id\":\"2315\",\"type\":\"BasicTickFormatter\"},{\"attributes\":{},\"id\":\"2329\",\"type\":\"UnionRenderers\"},{\"attributes\":{\"line_alpha\":0.1,\"line_color\":\"#1f77b4\",\"line_width\":4,\"x\":{\"field\":\"x\"},\"y\":{\"field\":\"y\"}},\"id\":\"2107\",\"type\":\"Line\"}],\"root_ids\":[\"2068\"]},\"title\":\"Bokeh Application\",\"version\":\"1.2.0\"}};\n",
       "  var render_items = [{\"docid\":\"32e7bc33-dc41-48fc-be16-55db3ded8264\",\"roots\":{\"2068\":\"eff1fb8b-0c49-410b-b7e7-5774373caee3\"}}];\n",
       "  root.Bokeh.embed.embed_items_notebook(docs_json, render_items);\n",
       "\n",
       "  }\n",
       "  if (root.Bokeh !== undefined) {\n",
       "    embed_document(root);\n",
       "  } else {\n",
       "    var attempts = 0;\n",
       "    var timer = setInterval(function(root) {\n",
       "      if (root.Bokeh !== undefined) {\n",
       "        embed_document(root);\n",
       "        clearInterval(timer);\n",
       "      }\n",
       "      attempts++;\n",
       "      if (attempts > 100) {\n",
       "        console.log(\"Bokeh: ERROR: Unable to run BokehJS code because BokehJS library is missing\");\n",
       "        clearInterval(timer);\n",
       "      }\n",
       "    }, 10, root)\n",
       "  }\n",
       "})(window);"
      ],
      "application/vnd.bokehjs_exec.v0+json": ""
     },
     "metadata": {
      "application/vnd.bokehjs_exec.v0+json": {
       "id": "2068"
      }
     },
     "output_type": "display_data"
    }
   ],
   "source": [
    "from bokeh.plotting import figure, output_notebook, show\n",
    "\n",
    "output_notebook\n",
    "\n",
    "\n",
    "p4 = figure(plot_width=800, plot_height=800)\n",
    "\n",
    "\n",
    "\n",
    "p4.line(x, y, line_width=4, line_color='lightgrey')\n",
    "\n",
    "p4.line(false_pos, true_pos, line_width=4, line_color='orange')\n",
    "\n",
    "for i in range(0,20):\n",
    "    p4.line(true_pos_test[i,], false_pos_test[i,], line_width=4, alpha=0.5)\n",
    "\n",
    "p4.xaxis.axis_label = 'false positives'\n",
    "p4.yaxis.axis_label = 'true positives'\n",
    "\n",
    "\n",
    "# show the results\n",
    "show(p4)"
   ]
  }
 ],
 "metadata": {
  "kernelspec": {
   "display_name": "Python 3",
   "language": "python",
   "name": "python3"
  },
  "language_info": {
   "codemirror_mode": {
    "name": "ipython",
    "version": 3
   },
   "file_extension": ".py",
   "mimetype": "text/x-python",
   "name": "python",
   "nbconvert_exporter": "python",
   "pygments_lexer": "ipython3",
   "version": "3.6.5"
  }
 },
 "nbformat": 4,
 "nbformat_minor": 2
}
