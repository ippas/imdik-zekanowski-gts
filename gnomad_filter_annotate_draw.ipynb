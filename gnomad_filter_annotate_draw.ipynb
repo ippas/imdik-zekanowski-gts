{
 "cells": [
  {
   "cell_type": "code",
   "execution_count": 1,
   "metadata": {},
   "outputs": [
    {
     "data": {
      "text/html": [
       "<style>.container { width:100% !important; }</style>"
      ],
      "text/plain": [
       "<IPython.core.display.HTML object>"
      ]
     },
     "metadata": {},
     "output_type": "display_data"
    },
    {
     "name": "stderr",
     "output_type": "stream",
     "text": [
      "Running on Apache Spark version 2.4.1\n",
      "SparkUI available at http://633fc3f91d0f:4040\n",
      "Welcome to\n",
      "     __  __     <>__\n",
      "    / /_/ /__  __/ /\n",
      "   / __  / _ `/ / /\n",
      "  /_/ /_/\\_,_/_/_/   version 0.2.29-cf730c8fc8f6\n",
      "LOGGING: writing to /hail/large_vcf_filtering_annotation/hail-20191221-0735-0.2.29-cf730c8fc8f6.log\n"
     ]
    }
   ],
   "source": [
    "from IPython.display import display\n",
    "from IPython.display import HTML\n",
    "import IPython.core.display as di # Example: di.display_html('<h3>%s:</h3>' % str, raw=True)\n",
    "\n",
    "# This line will hide code by default when the notebook is exported as HTML\n",
    "# di.display_html('<script>jQuery(function() {if (jQuery(\"body.notebook_app\").length == 0) { jQuery(\".input_area\").toggle(); jQuery(\".prompt\").toggle();}});</script>', raw=True)\n",
    "\n",
    "display(HTML(\"<style>.container { width:100% !important; }</style>\"))\n",
    "\n",
    "import hail as hl\n",
    "hl.init()"
   ]
  },
  {
   "cell_type": "code",
   "execution_count": 2,
   "metadata": {},
   "outputs": [],
   "source": [
    "rpmk_files = !ls ./repeatmasker_split"
   ]
  },
  {
   "cell_type": "code",
   "execution_count": 4,
   "metadata": {},
   "outputs": [
    {
     "name": "stderr",
     "output_type": "stream",
     "text": [
      "2019-12-21 07:36:14 Hail: INFO: Reading table with no type imputation\n",
      "  Loading column 'f0' as type 'str' (user-specified)\n",
      "  Loading column 'f1' as type 'int32' (user-specified)\n",
      "  Loading column 'f2' as type 'int32' (user-specified)\n",
      "  Loading column 'f3' as type 'str' (user-specified)\n",
      "  Loading column 'f4' as type 'str' (user-specified)\n",
      "  Loading column 'f5' as type 'str' (type not specified)\n",
      "\n",
      "2019-12-21 07:36:16 Hail: INFO: Ordering unsorted dataset with network shuffle\n",
      "2019-12-21 07:36:18 Hail: INFO: wrote table with 200000 rows in 12 partitions to rpmsk00.ht\n",
      "2019-12-21 07:36:18 Hail: INFO: Reading table with no type imputation\n",
      "  Loading column 'f0' as type 'str' (user-specified)\n",
      "  Loading column 'f1' as type 'int32' (user-specified)\n",
      "  Loading column 'f2' as type 'int32' (user-specified)\n",
      "  Loading column 'f3' as type 'str' (user-specified)\n",
      "  Loading column 'f4' as type 'str' (user-specified)\n",
      "  Loading column 'f5' as type 'str' (type not specified)\n",
      "\n",
      "2019-12-21 07:36:18 Hail: INFO: Ordering unsorted dataset with network shuffle\n",
      "2019-12-21 07:36:19 Hail: INFO: wrote table with 200000 rows in 12 partitions to rpmsk01.ht\n",
      "2019-12-21 07:36:19 Hail: INFO: Reading table with no type imputation\n",
      "  Loading column 'f0' as type 'str' (user-specified)\n",
      "  Loading column 'f1' as type 'int32' (user-specified)\n",
      "  Loading column 'f2' as type 'int32' (user-specified)\n",
      "  Loading column 'f3' as type 'str' (user-specified)\n",
      "  Loading column 'f4' as type 'str' (user-specified)\n",
      "  Loading column 'f5' as type 'str' (type not specified)\n",
      "\n",
      "2019-12-21 07:36:20 Hail: INFO: Ordering unsorted dataset with network shuffle\n",
      "2019-12-21 07:36:21 Hail: INFO: wrote table with 200000 rows in 12 partitions to rpmsk02.ht\n",
      "2019-12-21 07:36:21 Hail: INFO: Reading table with no type imputation\n",
      "  Loading column 'f0' as type 'str' (user-specified)\n",
      "  Loading column 'f1' as type 'int32' (user-specified)\n",
      "  Loading column 'f2' as type 'int32' (user-specified)\n",
      "  Loading column 'f3' as type 'str' (user-specified)\n",
      "  Loading column 'f4' as type 'str' (user-specified)\n",
      "  Loading column 'f5' as type 'str' (type not specified)\n",
      "\n",
      "2019-12-21 07:36:21 Hail: INFO: Ordering unsorted dataset with network shuffle\n",
      "2019-12-21 07:36:22 Hail: INFO: wrote table with 200000 rows in 12 partitions to rpmsk03.ht\n",
      "2019-12-21 07:36:22 Hail: INFO: Reading table with no type imputation\n",
      "  Loading column 'f0' as type 'str' (user-specified)\n",
      "  Loading column 'f1' as type 'int32' (user-specified)\n",
      "  Loading column 'f2' as type 'int32' (user-specified)\n",
      "  Loading column 'f3' as type 'str' (user-specified)\n",
      "  Loading column 'f4' as type 'str' (user-specified)\n",
      "  Loading column 'f5' as type 'str' (type not specified)\n",
      "\n",
      "2019-12-21 07:36:22 Hail: INFO: Ordering unsorted dataset with network shuffle\n",
      "2019-12-21 07:36:23 Hail: INFO: wrote table with 200000 rows in 12 partitions to rpmsk04.ht\n",
      "2019-12-21 07:36:23 Hail: INFO: Reading table with no type imputation\n",
      "  Loading column 'f0' as type 'str' (user-specified)\n",
      "  Loading column 'f1' as type 'int32' (user-specified)\n",
      "  Loading column 'f2' as type 'int32' (user-specified)\n",
      "  Loading column 'f3' as type 'str' (user-specified)\n",
      "  Loading column 'f4' as type 'str' (user-specified)\n",
      "  Loading column 'f5' as type 'str' (type not specified)\n",
      "\n",
      "2019-12-21 07:36:23 Hail: INFO: Coerced sorted dataset\n",
      "2019-12-21 07:36:24 Hail: INFO: wrote table with 200000 rows in 12 partitions to rpmsk05.ht\n",
      "2019-12-21 07:36:24 Hail: INFO: Reading table with no type imputation\n",
      "  Loading column 'f0' as type 'str' (user-specified)\n",
      "  Loading column 'f1' as type 'int32' (user-specified)\n",
      "  Loading column 'f2' as type 'int32' (user-specified)\n",
      "  Loading column 'f3' as type 'str' (user-specified)\n",
      "  Loading column 'f4' as type 'str' (user-specified)\n",
      "  Loading column 'f5' as type 'str' (type not specified)\n",
      "\n",
      "2019-12-21 07:36:24 Hail: INFO: Ordering unsorted dataset with network shuffle\n",
      "2019-12-21 07:36:25 Hail: INFO: wrote table with 200000 rows in 12 partitions to rpmsk06.ht\n",
      "2019-12-21 07:36:25 Hail: INFO: Reading table with no type imputation\n",
      "  Loading column 'f0' as type 'str' (user-specified)\n",
      "  Loading column 'f1' as type 'int32' (user-specified)\n",
      "  Loading column 'f2' as type 'int32' (user-specified)\n",
      "  Loading column 'f3' as type 'str' (user-specified)\n",
      "  Loading column 'f4' as type 'str' (user-specified)\n",
      "  Loading column 'f5' as type 'str' (type not specified)\n",
      "\n",
      "2019-12-21 07:36:25 Hail: INFO: Ordering unsorted dataset with network shuffle\n",
      "2019-12-21 07:36:26 Hail: INFO: wrote table with 200000 rows in 12 partitions to rpmsk07.ht\n",
      "2019-12-21 07:36:26 Hail: INFO: Reading table with no type imputation\n",
      "  Loading column 'f0' as type 'str' (user-specified)\n",
      "  Loading column 'f1' as type 'int32' (user-specified)\n",
      "  Loading column 'f2' as type 'int32' (user-specified)\n",
      "  Loading column 'f3' as type 'str' (user-specified)\n",
      "  Loading column 'f4' as type 'str' (user-specified)\n",
      "  Loading column 'f5' as type 'str' (type not specified)\n",
      "\n",
      "2019-12-21 07:36:26 Hail: INFO: Coerced sorted dataset\n",
      "2019-12-21 07:36:26 Hail: INFO: wrote table with 200000 rows in 12 partitions to rpmsk08.ht\n",
      "2019-12-21 07:36:26 Hail: INFO: Reading table with no type imputation\n",
      "  Loading column 'f0' as type 'str' (user-specified)\n",
      "  Loading column 'f1' as type 'int32' (user-specified)\n",
      "  Loading column 'f2' as type 'int32' (user-specified)\n",
      "  Loading column 'f3' as type 'str' (user-specified)\n",
      "  Loading column 'f4' as type 'str' (user-specified)\n",
      "  Loading column 'f5' as type 'str' (type not specified)\n",
      "\n",
      "2019-12-21 07:36:27 Hail: INFO: Ordering unsorted dataset with network shuffle\n",
      "2019-12-21 07:36:28 Hail: INFO: wrote table with 200000 rows in 12 partitions to rpmsk09.ht\n",
      "2019-12-21 07:36:28 Hail: INFO: Reading table with no type imputation\n",
      "  Loading column 'f0' as type 'str' (user-specified)\n",
      "  Loading column 'f1' as type 'int32' (user-specified)\n",
      "  Loading column 'f2' as type 'int32' (user-specified)\n",
      "  Loading column 'f3' as type 'str' (user-specified)\n",
      "  Loading column 'f4' as type 'str' (user-specified)\n",
      "  Loading column 'f5' as type 'str' (type not specified)\n",
      "\n",
      "2019-12-21 07:36:28 Hail: INFO: Ordering unsorted dataset with network shuffle\n",
      "2019-12-21 07:36:29 Hail: INFO: wrote table with 200000 rows in 12 partitions to rpmsk10.ht\n",
      "2019-12-21 07:36:29 Hail: INFO: Reading table with no type imputation\n",
      "  Loading column 'f0' as type 'str' (user-specified)\n",
      "  Loading column 'f1' as type 'int32' (user-specified)\n",
      "  Loading column 'f2' as type 'int32' (user-specified)\n",
      "  Loading column 'f3' as type 'str' (user-specified)\n",
      "  Loading column 'f4' as type 'str' (user-specified)\n",
      "  Loading column 'f5' as type 'str' (type not specified)\n",
      "\n",
      "2019-12-21 07:36:29 Hail: INFO: Coerced sorted dataset\n",
      "2019-12-21 07:36:29 Hail: INFO: wrote table with 200000 rows in 12 partitions to rpmsk11.ht\n",
      "2019-12-21 07:36:29 Hail: INFO: Reading table with no type imputation\n",
      "  Loading column 'f0' as type 'str' (user-specified)\n",
      "  Loading column 'f1' as type 'int32' (user-specified)\n",
      "  Loading column 'f2' as type 'int32' (user-specified)\n",
      "  Loading column 'f3' as type 'str' (user-specified)\n",
      "  Loading column 'f4' as type 'str' (user-specified)\n",
      "  Loading column 'f5' as type 'str' (type not specified)\n",
      "\n",
      "2019-12-21 07:36:30 Hail: INFO: Ordering unsorted dataset with network shuffle\n",
      "2019-12-21 07:36:30 Hail: INFO: wrote table with 200000 rows in 12 partitions to rpmsk12.ht\n",
      "2019-12-21 07:36:30 Hail: INFO: Reading table with no type imputation\n",
      "  Loading column 'f0' as type 'str' (user-specified)\n",
      "  Loading column 'f1' as type 'int32' (user-specified)\n",
      "  Loading column 'f2' as type 'int32' (user-specified)\n",
      "  Loading column 'f3' as type 'str' (user-specified)\n",
      "  Loading column 'f4' as type 'str' (user-specified)\n",
      "  Loading column 'f5' as type 'str' (type not specified)\n",
      "\n",
      "2019-12-21 07:36:31 Hail: INFO: Ordering unsorted dataset with network shuffle\n",
      "2019-12-21 07:36:31 Hail: INFO: wrote table with 200000 rows in 12 partitions to rpmsk13.ht\n",
      "2019-12-21 07:36:31 Hail: INFO: Reading table with no type imputation\n",
      "  Loading column 'f0' as type 'str' (user-specified)\n",
      "  Loading column 'f1' as type 'int32' (user-specified)\n",
      "  Loading column 'f2' as type 'int32' (user-specified)\n",
      "  Loading column 'f3' as type 'str' (user-specified)\n",
      "  Loading column 'f4' as type 'str' (user-specified)\n",
      "  Loading column 'f5' as type 'str' (type not specified)\n",
      "\n"
     ]
    },
    {
     "name": "stderr",
     "output_type": "stream",
     "text": [
      "2019-12-21 07:36:32 Hail: INFO: Ordering unsorted dataset with network shuffle\n",
      "2019-12-21 07:36:32 Hail: INFO: wrote table with 200000 rows in 12 partitions to rpmsk14.ht\n",
      "2019-12-21 07:36:32 Hail: INFO: Reading table with no type imputation\n",
      "  Loading column 'f0' as type 'str' (user-specified)\n",
      "  Loading column 'f1' as type 'int32' (user-specified)\n",
      "  Loading column 'f2' as type 'int32' (user-specified)\n",
      "  Loading column 'f3' as type 'str' (user-specified)\n",
      "  Loading column 'f4' as type 'str' (user-specified)\n",
      "  Loading column 'f5' as type 'str' (type not specified)\n",
      "\n",
      "2019-12-21 07:36:33 Hail: INFO: Ordering unsorted dataset with network shuffle\n",
      "2019-12-21 07:36:33 Hail: INFO: wrote table with 200000 rows in 12 partitions to rpmsk15.ht\n",
      "2019-12-21 07:36:33 Hail: INFO: Reading table with no type imputation\n",
      "  Loading column 'f0' as type 'str' (user-specified)\n",
      "  Loading column 'f1' as type 'int32' (user-specified)\n",
      "  Loading column 'f2' as type 'int32' (user-specified)\n",
      "  Loading column 'f3' as type 'str' (user-specified)\n",
      "  Loading column 'f4' as type 'str' (user-specified)\n",
      "  Loading column 'f5' as type 'str' (type not specified)\n",
      "\n",
      "2019-12-21 07:36:34 Hail: INFO: Ordering unsorted dataset with network shuffle\n",
      "2019-12-21 07:36:34 Hail: INFO: wrote table with 200000 rows in 12 partitions to rpmsk16.ht\n",
      "2019-12-21 07:36:35 Hail: INFO: Reading table with no type imputation\n",
      "  Loading column 'f0' as type 'str' (user-specified)\n",
      "  Loading column 'f1' as type 'int32' (user-specified)\n",
      "  Loading column 'f2' as type 'int32' (user-specified)\n",
      "  Loading column 'f3' as type 'str' (user-specified)\n",
      "  Loading column 'f4' as type 'str' (user-specified)\n",
      "  Loading column 'f5' as type 'str' (type not specified)\n",
      "\n",
      "2019-12-21 07:36:35 Hail: INFO: Ordering unsorted dataset with network shuffle\n",
      "2019-12-21 07:36:36 Hail: INFO: wrote table with 200000 rows in 12 partitions to rpmsk17.ht\n",
      "2019-12-21 07:36:36 Hail: INFO: Reading table with no type imputation\n",
      "  Loading column 'f0' as type 'str' (user-specified)\n",
      "  Loading column 'f1' as type 'int32' (user-specified)\n",
      "  Loading column 'f2' as type 'int32' (user-specified)\n",
      "  Loading column 'f3' as type 'str' (user-specified)\n",
      "  Loading column 'f4' as type 'str' (user-specified)\n",
      "  Loading column 'f5' as type 'str' (type not specified)\n",
      "\n",
      "2019-12-21 07:36:36 Hail: INFO: Ordering unsorted dataset with network shuffle\n",
      "2019-12-21 07:36:37 Hail: INFO: wrote table with 200000 rows in 12 partitions to rpmsk18.ht\n",
      "2019-12-21 07:36:37 Hail: INFO: Reading table with no type imputation\n",
      "  Loading column 'f0' as type 'str' (user-specified)\n",
      "  Loading column 'f1' as type 'int32' (user-specified)\n",
      "  Loading column 'f2' as type 'int32' (user-specified)\n",
      "  Loading column 'f3' as type 'str' (user-specified)\n",
      "  Loading column 'f4' as type 'str' (user-specified)\n",
      "  Loading column 'f5' as type 'str' (type not specified)\n",
      "\n",
      "2019-12-21 07:36:37 Hail: INFO: Ordering unsorted dataset with network shuffle\n",
      "2019-12-21 07:36:38 Hail: INFO: wrote table with 200000 rows in 12 partitions to rpmsk19.ht\n",
      "2019-12-21 07:36:38 Hail: INFO: Reading table with no type imputation\n",
      "  Loading column 'f0' as type 'str' (user-specified)\n",
      "  Loading column 'f1' as type 'int32' (user-specified)\n",
      "  Loading column 'f2' as type 'int32' (user-specified)\n",
      "  Loading column 'f3' as type 'str' (user-specified)\n",
      "  Loading column 'f4' as type 'str' (user-specified)\n",
      "  Loading column 'f5' as type 'str' (type not specified)\n",
      "\n",
      "2019-12-21 07:36:38 Hail: INFO: Ordering unsorted dataset with network shuffle\n",
      "2019-12-21 07:36:39 Hail: INFO: wrote table with 200000 rows in 12 partitions to rpmsk20.ht\n",
      "2019-12-21 07:36:39 Hail: INFO: Reading table with no type imputation\n",
      "  Loading column 'f0' as type 'str' (user-specified)\n",
      "  Loading column 'f1' as type 'int32' (user-specified)\n",
      "  Loading column 'f2' as type 'int32' (user-specified)\n",
      "  Loading column 'f3' as type 'str' (user-specified)\n",
      "  Loading column 'f4' as type 'str' (user-specified)\n",
      "  Loading column 'f5' as type 'str' (type not specified)\n",
      "\n",
      "2019-12-21 07:36:39 Hail: INFO: Ordering unsorted dataset with network shuffle\n",
      "2019-12-21 07:36:40 Hail: INFO: wrote table with 200000 rows in 12 partitions to rpmsk21.ht\n",
      "2019-12-21 07:36:40 Hail: INFO: Reading table with no type imputation\n",
      "  Loading column 'f0' as type 'str' (user-specified)\n",
      "  Loading column 'f1' as type 'int32' (user-specified)\n",
      "  Loading column 'f2' as type 'int32' (user-specified)\n",
      "  Loading column 'f3' as type 'str' (user-specified)\n",
      "  Loading column 'f4' as type 'str' (user-specified)\n",
      "  Loading column 'f5' as type 'str' (type not specified)\n",
      "\n",
      "2019-12-21 07:36:40 Hail: INFO: Ordering unsorted dataset with network shuffle\n",
      "2019-12-21 07:36:41 Hail: INFO: wrote table with 200000 rows in 12 partitions to rpmsk22.ht\n",
      "2019-12-21 07:36:41 Hail: INFO: Reading table with no type imputation\n",
      "  Loading column 'f0' as type 'str' (user-specified)\n",
      "  Loading column 'f1' as type 'int32' (user-specified)\n",
      "  Loading column 'f2' as type 'int32' (user-specified)\n",
      "  Loading column 'f3' as type 'str' (user-specified)\n",
      "  Loading column 'f4' as type 'str' (user-specified)\n",
      "  Loading column 'f5' as type 'str' (type not specified)\n",
      "\n",
      "2019-12-21 07:36:41 Hail: INFO: Ordering unsorted dataset with network shuffle\n",
      "2019-12-21 07:36:42 Hail: INFO: wrote table with 200000 rows in 12 partitions to rpmsk23.ht\n",
      "2019-12-21 07:36:42 Hail: INFO: Reading table with no type imputation\n",
      "  Loading column 'f0' as type 'str' (user-specified)\n",
      "  Loading column 'f1' as type 'int32' (user-specified)\n",
      "  Loading column 'f2' as type 'int32' (user-specified)\n",
      "  Loading column 'f3' as type 'str' (user-specified)\n",
      "  Loading column 'f4' as type 'str' (user-specified)\n",
      "  Loading column 'f5' as type 'str' (type not specified)\n",
      "\n",
      "2019-12-21 07:36:42 Hail: INFO: Ordering unsorted dataset with network shuffle\n",
      "2019-12-21 07:36:43 Hail: INFO: wrote table with 200000 rows in 12 partitions to rpmsk24.ht\n",
      "2019-12-21 07:36:43 Hail: INFO: Reading table with no type imputation\n",
      "  Loading column 'f0' as type 'str' (user-specified)\n",
      "  Loading column 'f1' as type 'int32' (user-specified)\n",
      "  Loading column 'f2' as type 'int32' (user-specified)\n",
      "  Loading column 'f3' as type 'str' (user-specified)\n",
      "  Loading column 'f4' as type 'str' (user-specified)\n",
      "  Loading column 'f5' as type 'str' (type not specified)\n",
      "\n",
      "2019-12-21 07:36:43 Hail: INFO: Ordering unsorted dataset with network shuffle\n",
      "2019-12-21 07:36:44 Hail: INFO: wrote table with 200000 rows in 12 partitions to rpmsk25.ht\n",
      "2019-12-21 07:36:44 Hail: INFO: Reading table with no type imputation\n",
      "  Loading column 'f0' as type 'str' (user-specified)\n",
      "  Loading column 'f1' as type 'int32' (user-specified)\n",
      "  Loading column 'f2' as type 'int32' (user-specified)\n",
      "  Loading column 'f3' as type 'str' (user-specified)\n",
      "  Loading column 'f4' as type 'str' (user-specified)\n",
      "  Loading column 'f5' as type 'str' (type not specified)\n",
      "\n",
      "2019-12-21 07:36:44 Hail: INFO: Ordering unsorted dataset with network shuffle\n",
      "2019-12-21 07:36:45 Hail: INFO: wrote table with 177373 rows in 12 partitions to rpmsk26.ht\n",
      "2019-12-21 07:36:45 Hail: INFO: Reading table with no type imputation\n",
      "  Loading column 'f0' as type 'str' (user-specified)\n",
      "  Loading column 'f1' as type 'int32' (user-specified)\n",
      "  Loading column 'f2' as type 'int32' (user-specified)\n",
      "  Loading column 'f3' as type 'str' (user-specified)\n",
      "  Loading column 'f4' as type 'str' (user-specified)\n",
      "  Loading column 'f5' as type 'str' (type not specified)\n",
      "\n",
      "2019-12-21 07:36:45 Hail: INFO: Ordering unsorted dataset with network shuffle\n",
      "2019-12-21 07:36:46 Hail: INFO: wrote table with 134906 rows in 12 partitions to rpmsk27.ht\n",
      "2019-12-21 07:36:46 Hail: INFO: Reading table with no type imputation\n",
      "  Loading column 'f0' as type 'str' (user-specified)\n",
      "  Loading column 'f1' as type 'int32' (user-specified)\n",
      "  Loading column 'f2' as type 'int32' (user-specified)\n",
      "  Loading column 'f3' as type 'str' (user-specified)\n",
      "  Loading column 'f4' as type 'str' (user-specified)\n",
      "  Loading column 'f5' as type 'str' (type not specified)\n",
      "\n",
      "2019-12-21 07:36:46 Hail: INFO: Ordering unsorted dataset with network shuffle\n",
      "2019-12-21 07:36:46 Hail: INFO: wrote table with 7738 rows in 12 partitions to rpmsk28.ht\n"
     ]
    }
   ],
   "source": [
    "for file in rpmk_files:\n",
    "    hl.import_bed('./repeatmasker_split/'+file, reference_genome='GRCh38', skip_invalid_intervals=True).write(file+'.ht')"
   ]
  },
  {
   "cell_type": "code",
   "execution_count": 18,
   "metadata": {},
   "outputs": [],
   "source": [
    "gnmd = hl.read_table('/hail/gnomad/gnomad.genomes.r3.0.sites.ht')"
   ]
  },
  {
   "cell_type": "code",
   "execution_count": 19,
   "metadata": {},
   "outputs": [
    {
     "data": {
      "text/plain": [
       "707950943"
      ]
     },
     "execution_count": 19,
     "metadata": {},
     "output_type": "execute_result"
    }
   ],
   "source": [
    "gnmd.count()"
   ]
  },
  {
   "cell_type": "code",
   "execution_count": 20,
   "metadata": {},
   "outputs": [],
   "source": [
    "for file in rpmk_files:\n",
    "    rpmk = hl.read_table(file+'.ht')\n",
    "    gnmd = gnmd.filter(hl.is_defined(rpmk[gnmd.locus]), keep = False)\n",
    "    gnmd = gnmd.key_by()\n",
    "    gnmd = gnmd.key_by(gnmd.locus, gnmd.alleles)"
   ]
  },
  {
   "cell_type": "code",
   "execution_count": 21,
   "metadata": {},
   "outputs": [],
   "source": [
    "gnmd = gnmd.select(v3_nfe = gnmd.freq[2], \n",
    "            intergenic_consequences = gnmd.vep.intergenic_consequences,\n",
    "            most_severe_consequence = gnmd.vep.most_severe_consequence,\n",
    "            motif_feature_consequences = gnmd.vep.motif_feature_consequences,\n",
    "            regulatory_feature_consequences = gnmd.vep.regulatory_feature_consequences,\n",
    "            transcript_consequences = gnmd.vep.transcript_consequences,\n",
    "            variant_class = gnmd.vep.variant_class,\n",
    "            rsid = gnmd.rsid)"
   ]
  },
  {
   "cell_type": "code",
   "execution_count": 22,
   "metadata": {},
   "outputs": [],
   "source": [
    "cov = hl.read_table('/hail/gnomad/gnomad.genomes.r3.0.coverage.ht')"
   ]
  },
  {
   "cell_type": "code",
   "execution_count": 23,
   "metadata": {},
   "outputs": [],
   "source": [
    "cov = cov.select(cov.over_1)"
   ]
  },
  {
   "cell_type": "code",
   "execution_count": 24,
   "metadata": {},
   "outputs": [],
   "source": [
    "gnmd = gnmd.annotate(cov_v3 = cov[gnmd.locus])"
   ]
  },
  {
   "cell_type": "code",
   "execution_count": 25,
   "metadata": {},
   "outputs": [
    {
     "name": "stdout",
     "output_type": "stream",
     "text": [
      "----------------------------------------\n",
      "Global fields:\n",
      "    'freq_meta': array<dict<str, str>> \n",
      "    'filtering_model': struct {\n",
      "        model_id: str, \n",
      "        model_name: str, \n",
      "        score_name: str, \n",
      "        snv_cutoff: struct {\n",
      "            bin: int32, \n",
      "            min_score: float64\n",
      "        }, \n",
      "        indel_cutoff: struct {\n",
      "            bin: int32, \n",
      "            min_score: float64\n",
      "        }\n",
      "    } \n",
      "    'freq_index_dict': dict<str, int32> \n",
      "    'faf_index_dict': dict<str, int32> \n",
      "----------------------------------------\n",
      "Row fields:\n",
      "    'locus': locus<GRCh38> \n",
      "    'alleles': array<str> \n",
      "    'v3_nfe': struct {\n",
      "        AC: int32, \n",
      "        AF: float64, \n",
      "        AN: int32, \n",
      "        homozygote_count: int32\n",
      "    } \n",
      "    'intergenic_consequences': array<struct {\n",
      "        allele_num: int32, \n",
      "        consequence_terms: array<str>, \n",
      "        impact: str, \n",
      "        minimised: int32, \n",
      "        variant_allele: str\n",
      "    }> \n",
      "    'most_severe_consequence': str \n",
      "    'motif_feature_consequences': array<struct {\n",
      "        allele_num: int32, \n",
      "        consequence_terms: array<str>, \n",
      "        high_inf_pos: str, \n",
      "        impact: str, \n",
      "        minimised: int32, \n",
      "        motif_feature_id: str, \n",
      "        motif_name: str, \n",
      "        motif_pos: int32, \n",
      "        motif_score_change: float64, \n",
      "        strand: int32, \n",
      "        variant_allele: str\n",
      "    }> \n",
      "    'regulatory_feature_consequences': array<struct {\n",
      "        allele_num: int32, \n",
      "        biotype: str, \n",
      "        consequence_terms: array<str>, \n",
      "        impact: str, \n",
      "        minimised: int32, \n",
      "        regulatory_feature_id: str, \n",
      "        variant_allele: str\n",
      "    }> \n",
      "    'transcript_consequences': array<struct {\n",
      "        allele_num: int32, \n",
      "        amino_acids: str, \n",
      "        appris: str, \n",
      "        biotype: str, \n",
      "        canonical: int32, \n",
      "        ccds: str, \n",
      "        cdna_start: int32, \n",
      "        cdna_end: int32, \n",
      "        cds_end: int32, \n",
      "        cds_start: int32, \n",
      "        codons: str, \n",
      "        consequence_terms: array<str>, \n",
      "        distance: int32, \n",
      "        domains: array<struct {\n",
      "            db: str, \n",
      "            name: str\n",
      "        }>, \n",
      "        exon: str, \n",
      "        gene_id: str, \n",
      "        gene_pheno: int32, \n",
      "        gene_symbol: str, \n",
      "        gene_symbol_source: str, \n",
      "        hgnc_id: str, \n",
      "        hgvsc: str, \n",
      "        hgvsp: str, \n",
      "        hgvs_offset: int32, \n",
      "        impact: str, \n",
      "        intron: str, \n",
      "        lof: str, \n",
      "        lof_flags: str, \n",
      "        lof_filter: str, \n",
      "        lof_info: str, \n",
      "        minimised: int32, \n",
      "        polyphen_prediction: str, \n",
      "        polyphen_score: float64, \n",
      "        protein_end: int32, \n",
      "        protein_start: int32, \n",
      "        protein_id: str, \n",
      "        sift_prediction: str, \n",
      "        sift_score: float64, \n",
      "        strand: int32, \n",
      "        swissprot: str, \n",
      "        transcript_id: str, \n",
      "        trembl: str, \n",
      "        tsl: int32, \n",
      "        uniparc: str, \n",
      "        variant_allele: str\n",
      "    }> \n",
      "    'variant_class': str \n",
      "    'rsid': str \n",
      "    'cov_v3': struct {\n",
      "        over_1: float32\n",
      "    } \n",
      "----------------------------------------\n",
      "Key: ['locus', 'alleles']\n",
      "----------------------------------------\n"
     ]
    }
   ],
   "source": [
    "gnmd.describe()"
   ]
  },
  {
   "cell_type": "code",
   "execution_count": 26,
   "metadata": {},
   "outputs": [],
   "source": [
    "gnmd = gnmd.filter(gnmd.cov_v3.over_1 > 0.9)"
   ]
  },
  {
   "cell_type": "code",
   "execution_count": null,
   "metadata": {},
   "outputs": [],
   "source": [
    "gnmd.write('/hail/gnomad/gnomad_selected_filtered.ht')"
   ]
  },
  {
   "cell_type": "code",
   "execution_count": 28,
   "metadata": {},
   "outputs": [],
   "source": [
    "gnmd = hl.read_table('/hail/gnomad/gnomad_selected_filtered.ht')"
   ]
  },
  {
   "cell_type": "code",
   "execution_count": 33,
   "metadata": {},
   "outputs": [
    {
     "data": {
      "text/plain": [
       "296269085"
      ]
     },
     "execution_count": 33,
     "metadata": {},
     "output_type": "execute_result"
    }
   ],
   "source": [
    "gnmd.count()"
   ]
  },
  {
   "cell_type": "code",
   "execution_count": 34,
   "metadata": {},
   "outputs": [
    {
     "name": "stderr",
     "output_type": "stream",
     "text": [
      "2019-12-22 16:42:56 Hail: INFO: Reading table with no type imputation\n",
      "  Loading column 'f0' as type 'str' (user-specified)\n",
      "  Loading column 'f1' as type 'int32' (user-specified)\n",
      "  Loading column 'f2' as type 'str' (user-specified)\n",
      "  Loading column 'f3' as type 'str' (user-specified)\n",
      "  Loading column 'f4' as type 'float64' (user-specified)\n",
      "  Loading column 'f5' as type 'float64' (user-specified)\n",
      "\n",
      "2019-12-22 17:40:45 Hail: INFO: wrote table with 8812917339 rows in 2558 partitions to ./cadd/cadd.ht\n"
     ]
    }
   ],
   "source": [
    "hl.import_table('./cadd/whole_genome_SNVs.tsv.gz', force_bgz = True, delimiter='\\t', comment='#', \n",
    "                     types = {'f0':'tstr', 'f1':'tint', 'f2':'tstr', 'f3':'tstr', 'f4':'tfloat', 'f5':'tfloat'},\n",
    "                     no_header = True).write('./cadd/cadd.ht')"
   ]
  },
  {
   "cell_type": "code",
   "execution_count": 35,
   "metadata": {},
   "outputs": [],
   "source": [
    "cadd = hl.read_table('./cadd/cadd.ht')"
   ]
  },
  {
   "cell_type": "code",
   "execution_count": 37,
   "metadata": {},
   "outputs": [
    {
     "name": "stdout",
     "output_type": "stream",
     "text": [
      "----------------------------------------\n",
      "Global fields:\n",
      "    None\n",
      "----------------------------------------\n",
      "Row fields:\n",
      "    'f0': str \n",
      "    'f1': int32 \n",
      "    'f2': str \n",
      "    'f3': str \n",
      "    'f4': float64 \n",
      "    'f5': float64 \n",
      "----------------------------------------\n",
      "Key: []\n",
      "----------------------------------------\n"
     ]
    }
   ],
   "source": [
    "cadd.describe()"
   ]
  },
  {
   "cell_type": "code",
   "execution_count": 40,
   "metadata": {},
   "outputs": [],
   "source": [
    "cadd = cadd.select(variants = hl.parse_variant('chr'+hl.str(cadd.f0)+':'+hl.str(cadd.f1)+':'+hl.str(cadd.f2)+':'+hl.str(cadd.f3), reference_genome='GRCh38'),\n",
    "               cadd_score = cadd.f5)"
   ]
  },
  {
   "cell_type": "code",
   "execution_count": 42,
   "metadata": {},
   "outputs": [],
   "source": [
    "cadd = cadd.key_by(cadd.variants.locus,cadd.variants.alleles)"
   ]
  },
  {
   "cell_type": "code",
   "execution_count": 45,
   "metadata": {},
   "outputs": [],
   "source": [
    "gnmd = gnmd.annotate(cadd = cadd[gnmd.key])\n",
    "gnmd = gnmd.transmute(cadd = gnmd.cadd.cadd_score)"
   ]
  },
  {
   "cell_type": "code",
   "execution_count": null,
   "metadata": {},
   "outputs": [
    {
     "name": "stderr",
     "output_type": "stream",
     "text": [
      "2019-12-22 19:16:29 Hail: INFO: Ordering unsorted dataset with network shuffle\n"
     ]
    }
   ],
   "source": [
    "gnmd.checkpoint('/hail/gnomad/gnomad_selected_filtered_cadd.ht')"
   ]
  },
  {
   "cell_type": "code",
   "execution_count": 48,
   "metadata": {},
   "outputs": [
    {
     "data": {
      "text/plain": [
       "296269085"
      ]
     },
     "execution_count": 48,
     "metadata": {},
     "output_type": "execute_result"
    }
   ],
   "source": [
    "gnmd.count()"
   ]
  }
 ],
 "metadata": {
  "kernelspec": {
   "display_name": "Python 3",
   "language": "python",
   "name": "python3"
  },
  "language_info": {
   "codemirror_mode": {
    "name": "ipython",
    "version": 3
   },
   "file_extension": ".py",
   "mimetype": "text/x-python",
   "name": "python",
   "nbconvert_exporter": "python",
   "pygments_lexer": "ipython3",
   "version": "3.7.4"
  }
 },
 "nbformat": 4,
 "nbformat_minor": 2
}
