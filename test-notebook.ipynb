{
 "cells": [
  {
   "cell_type": "code",
   "execution_count": null,
   "metadata": {},
   "outputs": [],
   "source": [
    "from IPython.display import display\n",
    "from IPython.display import HTML\n",
    "import IPython.core.display as di # Example: di.display_html('<h3>%s:</h3>' % str, raw=True)\n",
    "\n",
    "#This line will hide code by default when the notebook is exported as HTML\n",
    "#di.display_html('<script>jQuery(function() {if (jQuery(\"body.notebook_app\").length == 0) { jQuery(\".input_area\").toggle(); jQuery(\".prompt\").toggle();}});</script>', raw=True)\n",
    "\n",
    "display(HTML(\"<style>.container { width:100% !important; }</style>\"))\n",
    "\n",
    "import hail as hl\n",
    "hl.init(tmp_dir='/net/scratch/people/plggosborcz')\n",
    "\n",
    "from hail.plot import show\n",
    "from pprint import pprint\n",
    "from bokeh.layouts import gridplot\n",
    "\n",
    "hl.plot.output_notebook()\n",
    "\n",
    "\n",
    "import numpy as np\n",
    "import pandas as pd\n",
    "from functools import reduce\n",
    "from itertools import chain\n",
    "\n",
    "from bokeh.plotting import output_notebook, show, figure\n",
    "from bokeh.palettes import viridis\n",
    "\n",
    "output_notebook()\n"
   ]
  },
  {
   "cell_type": "markdown",
   "metadata": {},
   "source": [
    "## Draw gnomad controls"
   ]
  },
  {
   "cell_type": "code",
   "execution_count": null,
   "metadata": {
    "scrolled": true
   },
   "outputs": [],
   "source": [
    "gnomad = hl.read_table('/net/archive/groups/plggneuromol/GTS-analysis/analysis/gnomad/gnomad-ready-to-draw.ht')"
   ]
  },
  {
   "cell_type": "code",
   "execution_count": null,
   "metadata": {},
   "outputs": [],
   "source": [
    "mt = hl.read_matrix_table('/net/archive/groups/plggneuromol/GTS-analysis/data/GTS-pheno-cadd.mt')"
   ]
  },
  {
   "cell_type": "code",
   "execution_count": null,
   "metadata": {},
   "outputs": [],
   "source": [
    "gd = hl.MatrixTable.from_rows_table(gnomad)"
   ]
  },
  {
   "cell_type": "code",
   "execution_count": null,
   "metadata": {},
   "outputs": [],
   "source": [
    "gd = gd.annotate_cols(col_idx = hl.null(hl.tint32))"
   ]
  },
  {
   "cell_type": "code",
   "execution_count": null,
   "metadata": {},
   "outputs": [],
   "source": [
    "gd = gd.key_cols_by(gd.col_idx)"
   ]
  },
  {
   "cell_type": "code",
   "execution_count": null,
   "metadata": {},
   "outputs": [],
   "source": [
    "gnomad_samples = []\n",
    "\n",
    "for i in range(1,186):\n",
    "    gnomad_samples.append(str(i)+'_gnomad')"
   ]
  },
  {
   "cell_type": "code",
   "execution_count": null,
   "metadata": {},
   "outputs": [],
   "source": [
    "gnomad_columns = hl.utils.range_matrix_table(n_rows=0, n_cols=185)"
   ]
  },
  {
   "cell_type": "code",
   "execution_count": null,
   "metadata": {},
   "outputs": [],
   "source": [
    "gnomad_columns = gnomad_columns.annotate_rows(locus = hl.locus(hl.null(hl.tstr), hl.null(hl.tint32), reference_genome='GRCh38'),\n",
    "                                              alleles = hl.null(hl.tarray(hl.tstr)))"
   ]
  },
  {
   "cell_type": "code",
   "execution_count": null,
   "metadata": {},
   "outputs": [],
   "source": [
    "gnomad_columns = gnomad_columns.key_rows_by(gnomad_columns.locus, gnomad_columns.alleles)"
   ]
  },
  {
   "cell_type": "code",
   "execution_count": null,
   "metadata": {},
   "outputs": [],
   "source": [
    "gd = gd.union_cols(gnomad_columns, row_join_type='outer')"
   ]
  },
  {
   "cell_type": "code",
   "execution_count": null,
   "metadata": {},
   "outputs": [],
   "source": [
    "gd = gd.annotate_entries(AD = hl.null(hl.tarray(hl.tint32)),\n",
    "                         DP = hl.null(hl.tint32),\n",
    "                         GQ = hl.null(hl.tint32),\n",
    "                         GT = hl.call(hl.int32(hl.rand_bool(gd.v3_nfe['AF'])), hl.int32(hl.rand_bool(gd.v3_nfe['AF']))),\n",
    "                         MIN_DP = hl.null(hl.tint32),\n",
    "                         PGT = hl.call(hl.int32(hl.rand_bool(gd.v3_nfe['AF'])), hl.int32(hl.rand_bool(gd.v3_nfe['AF']))),\n",
    "                         PID = hl.null(hl.tstr),\n",
    "                         PL = hl.null(hl.tarray(hl.tint32)),\n",
    "                         PS = hl.null(hl.tint32),\n",
    "                         RGQ = hl.null(hl.tint32),\n",
    "                         SB = hl.null(hl.tarray(hl.tint32)))"
   ]
  },
  {
   "cell_type": "code",
   "execution_count": null,
   "metadata": {},
   "outputs": [],
   "source": [
    "gd.write('/net/archive/groups/plggneuromol/GTS-analysis/gnomad/test.ht') #this directory should not exist"
   ]
  }
 ],
 "metadata": {
  "kernelspec": {
   "display_name": "Python 3",
   "language": "python",
   "name": "python3"
  },
  "language_info": {
   "codemirror_mode": {
    "name": "ipython",
    "version": 3
   },
   "file_extension": ".py",
   "mimetype": "text/x-python",
   "name": "python",
   "nbconvert_exporter": "python",
   "pygments_lexer": "ipython3",
   "version": "3.6.5"
  }
 },
 "nbformat": 4,
 "nbformat_minor": 2
}
