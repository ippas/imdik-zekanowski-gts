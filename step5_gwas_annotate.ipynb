{
 "cells": [
  {
   "cell_type": "code",
   "execution_count": 1,
   "metadata": {},
   "outputs": [
    {
     "data": {
      "text/html": [
       "<style>.container { width:100% !important; }</style>"
      ],
      "text/plain": [
       "<IPython.core.display.HTML object>"
      ]
     },
     "metadata": {},
     "output_type": "display_data"
    },
    {
     "name": "stderr",
     "output_type": "stream",
     "text": [
      "Running on Apache Spark version 2.4.1\n",
      "SparkUI available at http://633fc3f91d0f:4040\n",
      "Welcome to\n",
      "     __  __     <>__\n",
      "    / /_/ /__  __/ /\n",
      "   / __  / _ `/ / /\n",
      "  /_/ /_/\\_,_/_/_/   version 0.2.29-cf730c8fc8f6\n",
      "LOGGING: writing to /hail/large_vcf_filtering_annotation/hail-20191221-0627-0.2.29-cf730c8fc8f6.log\n"
     ]
    }
   ],
   "source": [
    "from IPython.display import display\n",
    "from IPython.display import HTML\n",
    "import IPython.core.display as di # Example: di.display_html('<h3>%s:</h3>' % str, raw=True)\n",
    "\n",
    "# This line will hide code by default when the notebook is exported as HTML\n",
    "# di.display_html('<script>jQuery(function() {if (jQuery(\"body.notebook_app\").length == 0) { jQuery(\".input_area\").toggle(); jQuery(\".prompt\").toggle();}});</script>', raw=True)\n",
    "\n",
    "display(HTML(\"<style>.container { width:100% !important; }</style>\"))\n",
    "\n",
    "import hail as hl\n",
    "hl.init()"
   ]
  },
  {
   "cell_type": "code",
   "execution_count": 2,
   "metadata": {},
   "outputs": [],
   "source": [
    "mt = hl.read_matrix_table('step4_output.mt')"
   ]
  },
  {
   "cell_type": "code",
   "execution_count": 9,
   "metadata": {},
   "outputs": [
    {
     "data": {
      "text/html": [
       "<table><thead style=\"font-weight: bold;\"><tr><td>locus</td><td>alleles</td><td><expr></td></tr>\n",
       "<tr><td>locus&lt;GRCh38&gt;</td><td>array&lt;str&gt;</td><td>array&lt;str&gt;</td></tr>\n",
       "</thead><tbody><tr><td>chr1:16059952</td><td>[&quot;G&quot;,&quot;C&quot;]</td><td>[&quot;FAM131C&quot;,&quot;CLCNKB&quot;,&quot;CLCNKB&quot;,&quot;CLCNKB&quot;,&quot;FAM131C&quot;,&quot;CLCNKB&quot;]</td></tr>\n",
       "<tr><td>chr1:20998212</td><td>[&quot;TACACACACACACAC&quot;,&quot;T&quot;]</td><td>[&quot;EIF4G3&quot;,&quot;EIF4G3&quot;,&quot;EIF4G3&quot;,&quot;EIF4G3&quot;,&quot;EIF4G3&quot;,&quot;EIF4G3&quot;,&quot;EIF4G3&quot;,&quot;EIF4G3&quot;]</td></tr>\n",
       "<tr><td>chr1:109899065</td><td>[&quot;A&quot;,&quot;C&quot;]</td><td>[&quot;AL450468.2&quot;]</td></tr>\n",
       "<tr><td>chr1:170227201</td><td>[&quot;A&quot;,&quot;G&quot;]</td><td>[&quot;LINC01681&quot;]</td></tr>\n",
       "<tr><td>chr1:179691844</td><td>[&quot;C&quot;,&quot;CA&quot;]</td><td>[&quot;TDRD5&quot;,&quot;TDRD5&quot;,&quot;TDRD5&quot;,&quot;TDRD5&quot;]</td></tr>\n",
       "<tr><td>chr1:223895728</td><td>[&quot;G&quot;,&quot;A&quot;]</td><td>NA</td></tr>\n",
       "<tr><td>chr1:228223554</td><td>[&quot;G&quot;,&quot;C&quot;]</td><td>[&quot;OBSCN&quot;,&quot;OBSCN&quot;,&quot;OBSCN&quot;,&quot;OBSCN&quot;,&quot;OBSCN&quot;]</td></tr>\n",
       "<tr><td>chr1:234691072</td><td>[&quot;T&quot;,&quot;C&quot;]</td><td>[&quot;AL160408.3&quot;]</td></tr>\n",
       "<tr><td>chr2:5713566</td><td>[&quot;C&quot;,&quot;T&quot;]</td><td>NA</td></tr>\n",
       "<tr><td>chr2:22976861</td><td>[&quot;C&quot;,&quot;T&quot;]</td><td>NA</td></tr>\n",
       "</tbody></table><p style=\"background: #fdd; padding: 0.4em;\">showing top 10 rows</p>\n"
      ],
      "text/plain": [
       "+----------------+-------------------------+---------------------------------------------------------------------------+\n",
       "| locus          | alleles                 | <expr>                                                                    |\n",
       "+----------------+-------------------------+---------------------------------------------------------------------------+\n",
       "| locus<GRCh38>  | array<str>              | array<str>                                                                |\n",
       "+----------------+-------------------------+---------------------------------------------------------------------------+\n",
       "| chr1:16059952  | [\"G\",\"C\"]               | [\"FAM131C\",\"CLCNKB\",\"CLCNKB\",\"CLCNKB\",\"FAM131C\",\"CLCNKB\"]                 |\n",
       "| chr1:20998212  | [\"TACACACACACACAC\",\"T\"] | [\"EIF4G3\",\"EIF4G3\",\"EIF4G3\",\"EIF4G3\",\"EIF4G3\",\"EIF4G3\",\"EIF4G3\",\"EIF4G3\"] |\n",
       "| chr1:109899065 | [\"A\",\"C\"]               | [\"AL450468.2\"]                                                            |\n",
       "| chr1:170227201 | [\"A\",\"G\"]               | [\"LINC01681\"]                                                             |\n",
       "| chr1:179691844 | [\"C\",\"CA\"]              | [\"TDRD5\",\"TDRD5\",\"TDRD5\",\"TDRD5\"]                                         |\n",
       "| chr1:223895728 | [\"G\",\"A\"]               | NA                                                                        |\n",
       "| chr1:228223554 | [\"G\",\"C\"]               | [\"OBSCN\",\"OBSCN\",\"OBSCN\",\"OBSCN\",\"OBSCN\"]                                 |\n",
       "| chr1:234691072 | [\"T\",\"C\"]               | [\"AL160408.3\"]                                                            |\n",
       "| chr2:5713566   | [\"C\",\"T\"]               | NA                                                                        |\n",
       "| chr2:22976861  | [\"C\",\"T\"]               | NA                                                                        |\n",
       "+----------------+-------------------------+---------------------------------------------------------------------------+\n",
       "showing top 10 rows"
      ]
     },
     "metadata": {},
     "output_type": "display_data"
    }
   ],
   "source": [
    "mt.sample_rows(0.00002).gnomad_v3.transcript_consequences.gene_symbol.show()"
   ]
  },
  {
   "cell_type": "code",
   "execution_count": 10,
   "metadata": {},
   "outputs": [],
   "source": [
    "gwas = hl.read_table('./gwas/TS_Oct2018.mt')"
   ]
  },
  {
   "cell_type": "code",
   "execution_count": 11,
   "metadata": {},
   "outputs": [],
   "source": [
    "gwas = gwas.transmute(variant = hl.parse_variant(hl.str(gwas.CHR)+':'+hl.str(gwas.BP)+':'+hl.str(gwas.A1)+':'+hl.str(gwas.A2), reference_genome='GRCh37'))"
   ]
  },
  {
   "cell_type": "code",
   "execution_count": 13,
   "metadata": {},
   "outputs": [],
   "source": [
    "rg37 = hl.get_reference('GRCh37')  \n",
    "rg38 = hl.get_reference('GRCh38')  \n",
    "rg37.add_liftover('references_grch37_to_grch38.over.chain.gz', rg38)"
   ]
  },
  {
   "cell_type": "code",
   "execution_count": 16,
   "metadata": {},
   "outputs": [],
   "source": [
    "gwas = gwas.annotate(new_locus=hl.liftover(gwas.variant.locus, 'GRCh38'))  \n",
    "gwas = gwas.filter(hl.is_defined(gwas.new_locus))  \n",
    "gwas = gwas.key_by(locus=gwas.new_locus, alleles=gwas.variant.alleles)"
   ]
  },
  {
   "cell_type": "code",
   "execution_count": 17,
   "metadata": {},
   "outputs": [],
   "source": [
    "gwas=gwas.select(gwas.SNP, gwas.P)"
   ]
  },
  {
   "cell_type": "code",
   "execution_count": 18,
   "metadata": {},
   "outputs": [],
   "source": [
    "mt = mt.annotate_rows(gwas_p = gwas[mt.row_key])"
   ]
  },
  {
   "cell_type": "code",
   "execution_count": 21,
   "metadata": {},
   "outputs": [
    {
     "name": "stderr",
     "output_type": "stream",
     "text": [
      "2019-12-21 06:57:23 Hail: INFO: Ordering unsorted dataset with network shuffle\n",
      "2019-12-21 06:57:35 Hail: INFO: Ordering unsorted dataset with network shuffle\n",
      "2019-12-21 07:23:00 Hail: INFO: wrote matrix table with 7615409 rows and 151 columns in 591 partitions to step5_output.mt\n"
     ]
    }
   ],
   "source": [
    "mt.write('step5_output.mt')"
   ]
  }
 ],
 "metadata": {
  "kernelspec": {
   "display_name": "Python 3",
   "language": "python",
   "name": "python3"
  },
  "language_info": {
   "codemirror_mode": {
    "name": "ipython",
    "version": 3
   },
   "file_extension": ".py",
   "mimetype": "text/x-python",
   "name": "python",
   "nbconvert_exporter": "python",
   "pygments_lexer": "ipython3",
   "version": "3.7.4"
  }
 },
 "nbformat": 4,
 "nbformat_minor": 2
}
