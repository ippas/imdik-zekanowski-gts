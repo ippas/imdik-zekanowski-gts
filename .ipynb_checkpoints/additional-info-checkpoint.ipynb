{
 "cells": [
  {
   "cell_type": "code",
   "execution_count": 1,
   "metadata": {},
   "outputs": [],
   "source": [
    "import pandas as pd"
   ]
  },
  {
   "cell_type": "code",
   "execution_count": 9,
   "metadata": {},
   "outputs": [],
   "source": [
    "df = pd.read_csv('/net/archive/groups/plggneuromol/GTS-analysis/analysis/GTS-coded.csv',  delimiter='\\t')"
   ]
  },
  {
   "cell_type": "code",
   "execution_count": 12,
   "metadata": {},
   "outputs": [
    {
     "data": {
      "text/html": [
       "<div>\n",
       "<style scoped>\n",
       "    .dataframe tbody tr th:only-of-type {\n",
       "        vertical-align: middle;\n",
       "    }\n",
       "\n",
       "    .dataframe tbody tr th {\n",
       "        vertical-align: top;\n",
       "    }\n",
       "\n",
       "    .dataframe thead th {\n",
       "        text-align: right;\n",
       "    }\n",
       "</style>\n",
       "<table border=\"1\" class=\"dataframe\">\n",
       "  <thead>\n",
       "    <tr style=\"text-align: right;\">\n",
       "      <th></th>\n",
       "      <th>ID</th>\n",
       "      <th>family</th>\n",
       "      <th>sex</th>\n",
       "      <th>kinship</th>\n",
       "      <th>disease</th>\n",
       "      <th>phenotype</th>\n",
       "      <th>add_pheno</th>\n",
       "      <th>heavy_tics</th>\n",
       "    </tr>\n",
       "  </thead>\n",
       "  <tbody>\n",
       "    <tr>\n",
       "      <th>0</th>\n",
       "      <td>S_6981</td>\n",
       "      <td>A</td>\n",
       "      <td>M</td>\n",
       "      <td>relative</td>\n",
       "      <td>YES</td>\n",
       "      <td>tics</td>\n",
       "      <td>.</td>\n",
       "      <td>.</td>\n",
       "    </tr>\n",
       "    <tr>\n",
       "      <th>1</th>\n",
       "      <td>S_6982</td>\n",
       "      <td>A</td>\n",
       "      <td>F</td>\n",
       "      <td>relative</td>\n",
       "      <td>YES</td>\n",
       "      <td>tics</td>\n",
       "      <td>.</td>\n",
       "      <td>.</td>\n",
       "    </tr>\n",
       "    <tr>\n",
       "      <th>2</th>\n",
       "      <td>S_7212</td>\n",
       "      <td>A</td>\n",
       "      <td>M</td>\n",
       "      <td>father</td>\n",
       "      <td>NO</td>\n",
       "      <td>.</td>\n",
       "      <td>.</td>\n",
       "      <td>.</td>\n",
       "    </tr>\n",
       "    <tr>\n",
       "      <th>3</th>\n",
       "      <td>S_7213</td>\n",
       "      <td>A</td>\n",
       "      <td>M</td>\n",
       "      <td>mother_brother</td>\n",
       "      <td>NO</td>\n",
       "      <td>.</td>\n",
       "      <td>.</td>\n",
       "      <td>.</td>\n",
       "    </tr>\n",
       "    <tr>\n",
       "      <th>4</th>\n",
       "      <td>S_7214</td>\n",
       "      <td>A</td>\n",
       "      <td>F</td>\n",
       "      <td>mother_brother_daughter</td>\n",
       "      <td>NO</td>\n",
       "      <td>.</td>\n",
       "      <td>.</td>\n",
       "      <td>.</td>\n",
       "    </tr>\n",
       "    <tr>\n",
       "      <th>...</th>\n",
       "      <td>...</td>\n",
       "      <td>...</td>\n",
       "      <td>...</td>\n",
       "      <td>...</td>\n",
       "      <td>...</td>\n",
       "      <td>...</td>\n",
       "      <td>...</td>\n",
       "      <td>...</td>\n",
       "    </tr>\n",
       "    <tr>\n",
       "      <th>181</th>\n",
       "      <td>490</td>\n",
       "      <td>Y</td>\n",
       "      <td>M</td>\n",
       "      <td>mother_father</td>\n",
       "      <td>NO</td>\n",
       "      <td>.</td>\n",
       "      <td>.</td>\n",
       "      <td>.</td>\n",
       "    </tr>\n",
       "    <tr>\n",
       "      <th>182</th>\n",
       "      <td>491</td>\n",
       "      <td>Y</td>\n",
       "      <td>F</td>\n",
       "      <td>mother_mother</td>\n",
       "      <td>YES</td>\n",
       "      <td>tics</td>\n",
       "      <td>.</td>\n",
       "      <td>.</td>\n",
       "    </tr>\n",
       "    <tr>\n",
       "      <th>183</th>\n",
       "      <td>492</td>\n",
       "      <td>Y</td>\n",
       "      <td>M</td>\n",
       "      <td>father</td>\n",
       "      <td>NO</td>\n",
       "      <td>.</td>\n",
       "      <td>.</td>\n",
       "      <td>.</td>\n",
       "    </tr>\n",
       "    <tr>\n",
       "      <th>184</th>\n",
       "      <td>493</td>\n",
       "      <td>Z</td>\n",
       "      <td>F</td>\n",
       "      <td>mother</td>\n",
       "      <td>YES</td>\n",
       "      <td>tics</td>\n",
       "      <td>.</td>\n",
       "      <td>.</td>\n",
       "    </tr>\n",
       "    <tr>\n",
       "      <th>185</th>\n",
       "      <td>494</td>\n",
       "      <td>Z</td>\n",
       "      <td>M</td>\n",
       "      <td>father</td>\n",
       "      <td>NO</td>\n",
       "      <td>.</td>\n",
       "      <td>.</td>\n",
       "      <td>.</td>\n",
       "    </tr>\n",
       "  </tbody>\n",
       "</table>\n",
       "<p>186 rows × 8 columns</p>\n",
       "</div>"
      ],
      "text/plain": [
       "         ID family sex                  kinship disease phenotype add_pheno  \\\n",
       "0    S_6981      A   M                 relative     YES      tics         .   \n",
       "1    S_6982      A   F                 relative     YES      tics         .   \n",
       "2    S_7212      A   M                   father      NO         .         .   \n",
       "3    S_7213      A   M           mother_brother      NO         .         .   \n",
       "4    S_7214      A   F  mother_brother_daughter      NO         .         .   \n",
       "..      ...    ...  ..                      ...     ...       ...       ...   \n",
       "181     490      Y   M            mother_father      NO         .         .   \n",
       "182     491      Y   F            mother_mother     YES      tics         .   \n",
       "183     492      Y   M                   father      NO         .         .   \n",
       "184     493      Z   F                   mother     YES      tics         .   \n",
       "185     494      Z   M                   father      NO         .         .   \n",
       "\n",
       "    heavy_tics  \n",
       "0            .  \n",
       "1            .  \n",
       "2            .  \n",
       "3            .  \n",
       "4            .  \n",
       "..         ...  \n",
       "181          .  \n",
       "182          .  \n",
       "183          .  \n",
       "184          .  \n",
       "185          .  \n",
       "\n",
       "[186 rows x 8 columns]"
      ]
     },
     "execution_count": 12,
     "metadata": {},
     "output_type": "execute_result"
    }
   ],
   "source": [
    "df"
   ]
  },
  {
   "cell_type": "code",
   "execution_count": 19,
   "metadata": {},
   "outputs": [],
   "source": [
    "a =list(df.family.value_counts())[1:]"
   ]
  },
  {
   "cell_type": "code",
   "execution_count": 21,
   "metadata": {},
   "outputs": [
    {
     "data": {
      "text/plain": [
       "6.083333333333333"
      ]
     },
     "execution_count": 21,
     "metadata": {},
     "output_type": "execute_result"
    }
   ],
   "source": [
    "sum(a) / len(a)"
   ]
  },
  {
   "cell_type": "code",
   "execution_count": 22,
   "metadata": {},
   "outputs": [
    {
     "data": {
      "text/plain": [
       "6.0"
      ]
     },
     "execution_count": 22,
     "metadata": {},
     "output_type": "execute_result"
    }
   ],
   "source": [
    "import statistics\n",
    "statistics.median(a)"
   ]
  },
  {
   "cell_type": "code",
   "execution_count": null,
   "metadata": {},
   "outputs": [],
   "source": []
  }
 ],
 "metadata": {
  "kernelspec": {
   "display_name": "Python 3",
   "language": "python",
   "name": "python3"
  },
  "language_info": {
   "codemirror_mode": {
    "name": "ipython",
    "version": 3
   },
   "file_extension": ".py",
   "mimetype": "text/x-python",
   "name": "python",
   "nbconvert_exporter": "python",
   "pygments_lexer": "ipython3",
   "version": "3.6.5"
  }
 },
 "nbformat": 4,
 "nbformat_minor": 2
}
