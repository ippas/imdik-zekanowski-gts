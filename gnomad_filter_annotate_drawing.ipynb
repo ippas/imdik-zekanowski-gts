{
 "cells": [
  {
   "cell_type": "code",
   "execution_count": 1,
   "metadata": {},
   "outputs": [
    {
     "data": {
      "text/html": [
       "<style>.container { width:100% !important; }</style>"
      ],
      "text/plain": [
       "<IPython.core.display.HTML object>"
      ]
     },
     "metadata": {},
     "output_type": "display_data"
    },
    {
     "name": "stderr",
     "output_type": "stream",
     "text": [
      "Running on Apache Spark version 2.4.1\n",
      "SparkUI available at http://633fc3f91d0f:4041\n",
      "Welcome to\n",
      "     __  __     <>__\n",
      "    / /_/ /__  __/ /\n",
      "   / __  / _ `/ / /\n",
      "  /_/ /_/\\_,_/_/_/   version 0.2.29-cf730c8fc8f6\n",
      "LOGGING: writing to /hail/large_vcf_filtering_annotation/hail-20191231-0753-0.2.29-cf730c8fc8f6.log\n"
     ]
    }
   ],
   "source": [
    "from IPython.display import display\n",
    "from IPython.display import HTML\n",
    "import IPython.core.display as di # Example: di.display_html('<h3>%s:</h3>' % str, raw=True)\n",
    "\n",
    "# This line will hide code by default when the notebook is exported as HTML\n",
    "# di.display_html('<script>jQuery(function() {if (jQuery(\"body.notebook_app\").length == 0) { jQuery(\".input_area\").toggle(); jQuery(\".prompt\").toggle();}});</script>', raw=True)\n",
    "\n",
    "display(HTML(\"<style>.container { width:100% !important; }</style>\"))\n",
    "\n",
    "import hail as hl\n",
    "hl.init()"
   ]
  },
  {
   "cell_type": "code",
   "execution_count": 2,
   "metadata": {},
   "outputs": [],
   "source": [
    "rpmk_files = !ls ./repeatmasker_split\n",
    "\n",
    "for file in rpmk_files:\n",
    "    hl.import_bed('./repeatmasker_split/'+file, reference_genome='GRCh38', skip_invalid_intervals=True).write(file+'.ht')\n",
    "\n",
    "gnmd = hl.read_table('/hail/gnomad/gnomad.genomes.r3.0.sites.ht')\n",
    "\n",
    "for file in rpmk_files:\n",
    "    rpmk = hl.read_table(file+'.ht')\n",
    "    gnmd = gnmd.filter(hl.is_defined(rpmk[gnmd.locus]), keep = False)\n",
    "    gnmd = gnmd.key_by()\n",
    "    gnmd = gnmd.key_by(gnmd.locus, gnmd.alleles)\n",
    "\n",
    "gnmd = gnmd.select(v3_nfe = gnmd.freq[2], \n",
    "            intergenic_consequences = gnmd.vep.intergenic_consequences,\n",
    "            most_severe_consequence = gnmd.vep.most_severe_consequence,\n",
    "            motif_feature_consequences = gnmd.vep.motif_feature_consequences,\n",
    "            regulatory_feature_consequences = gnmd.vep.regulatory_feature_consequences,\n",
    "            transcript_consequences = gnmd.vep.transcript_consequences,\n",
    "            variant_class = gnmd.vep.variant_class,\n",
    "            rsid = gnmd.rsid)\n",
    "\n",
    "cov = hl.read_table('/hail/gnomad/gnomad.genomes.r3.0.coverage.ht')\n",
    "cov = cov.select(cov.over_1)\n",
    "\n",
    "gnmd = gnmd.annotate(cov_v3 = cov[gnmd.locus])\n",
    "gnmd = gnmd.filter(gnmd.cov_v3.over_1 > 0.9)\n",
    "gnmd.write('/hail/gnomad/gnomad_selected_filtered.ht')\n",
    "gnmd = hl.read_table('/hail/gnomad/gnomad_selected_filtered.ht')\n",
    "\n",
    "hl.import_table('./cadd/whole_genome_SNVs.tsv.gz', force_bgz = True, delimiter='\\t', comment='#', \n",
    "                     types = {'f0':'tstr', 'f1':'tint', 'f2':'tstr', 'f3':'tstr', 'f4':'tfloat', 'f5':'tfloat'},\n",
    "                     no_header = True).write('./cadd/cadd.ht')\n",
    "\n",
    "cadd = hl.read_table('./cadd/cadd.ht')\n",
    "cadd = cadd.select(variants = hl.parse_variant('chr'+hl.str(cadd.f0)+':'+hl.str(cadd.f1)+':'+hl.str(cadd.f2)+':'+hl.str(cadd.f3), reference_genome='GRCh38'),cxfd\n",
    "               cadd_score = cadd.f5)\n",
    "\n",
    "cadd = cadd.key_by(cadd.variants.locus,cadd.variants.alleles)\n",
    "\n",
    "gnmd = gnmd.annotate(cadd = cadd[gnmd.key])\n",
    "gnmd = gnmd.transmute(cadd = gnmd.cadd.cadd_score)\n",
    "\n",
    "gnmd.checkpoint('/hail/gnomad/gnomad_selected_filtered_cadd.ht')"
   ]
  },
  {
   "cell_type": "code",
   "execution_count": 15,
   "metadata": {},
   "outputs": [],
   "source": [
    "gnmd = hl.read_table('/hail/gnomad/gnomad_selected_filtered_cadd.ht')\n",
    "gnmd = gnmd.filter(gnmd.v3_nfe.AF != 0)\n",
    "gnmd = hl.MatrixTable.from_rows_table(gnmd)\n",
    "gnmd = gnmd.add_row_index()\n",
    "gnmd = gnmd.key_rows_by(gnmd.row_idx)\n",
    "\n",
    "\n",
    "imaginary_controls = [str(i)+'gnmd' for i in range(1,152)]\n",
    "imaginary_controls = hl.literal(imaginary_controls)"
   ]
  },
  {
   "cell_type": "code",
   "execution_count": 16,
   "metadata": {},
   "outputs": [],
   "source": [
    "genotypes = hl.utils.range_matrix_table(n_rows=gnmd.count()[0], n_cols=151)"
   ]
  },
  {
   "cell_type": "code",
   "execution_count": 17,
   "metadata": {},
   "outputs": [],
   "source": [
    "genotypes = genotypes.add_row_index('added_row_index')\n",
    "genotypes = genotypes.key_rows_by('added_row_index')\n",
    "\n",
    "genotypes = genotypes.annotate_cols(s=imaginary_controls[genotypes['col_idx']])\n",
    "genotypes = genotypes.key_cols_by(genotypes.s)\n",
    "genotypes = genotypes.annotate_rows(g = gnmd.index_rows(genotypes.added_row_index))"
   ]
  },
  {
   "cell_type": "code",
   "execution_count": 18,
   "metadata": {},
   "outputs": [],
   "source": [
    "genotypes = genotypes.annotate_entries(AD = hl.array([0,0,0]),\n",
    "                                       DP = 0,\n",
    "                                       GQ = 0,\n",
    "                                       GT = hl.parse_call(hl.str(hl.cond(hl.rand_bool(genotypes.g.v3_nfe.AF), 1, 0))+'/'+hl.str(hl.cond(hl.rand_bool(genotypes.g.v3_nfe.AF), 1, 0))),\n",
    "                                       PGT = hl.parse_call('0/0'),\n",
    "                                       PID = hl.str('none'),\n",
    "                                       PL = hl.array([0,0,0]))"
   ]
  },
  {
   "cell_type": "code",
   "execution_count": 19,
   "metadata": {},
   "outputs": [],
   "source": [
    "genotypes = genotypes.filter_rows(hl.agg.any(genotypes.GT.is_non_ref()), keep = True)"
   ]
  },
  {
   "cell_type": "code",
   "execution_count": 20,
   "metadata": {},
   "outputs": [],
   "source": [
    "genotypes = genotypes.drop('col_idx')"
   ]
  },
  {
   "cell_type": "code",
   "execution_count": 21,
   "metadata": {},
   "outputs": [],
   "source": [
    "genotypes = genotypes.select_rows(locus = genotypes.g.locus,\n",
    "                             alleles = genotypes.g.alleles,\n",
    "                             rsid = genotypes.g.rsid,\n",
    "                             AC = hl.array([genotypes.g.v3_nfe.AC, genotypes.g.v3_nfe.AC]),\n",
    "                             AF = hl.array([genotypes.g.v3_nfe.AF, genotypes.g.v3_nfe.AF]),\n",
    "                             AN = genotypes.g.v3_nfe.AN,\n",
    "                             a_index = 0,\n",
    "                             was_split = False,\n",
    "                             cov_v3 = genotypes.g.cov_v3,\n",
    "                             gnomad_v3 = genotypes.g.drop('locus','alleles','cov_v3', 'cadd'),\n",
    "                             cadd = genotypes.g.cadd,\n",
    "                             gwas_p = hl.struct(SNP = hl.str('none'), P = hl.float64(0)))"
   ]
  },
  {
   "cell_type": "code",
   "execution_count": 22,
   "metadata": {},
   "outputs": [],
   "source": [
    "genotypes = genotypes.key_rows_by('locus', 'alleles')"
   ]
  },
  {
   "cell_type": "code",
   "execution_count": 23,
   "metadata": {},
   "outputs": [],
   "source": [
    "genotypes = genotypes.drop('added_row_index')"
   ]
  },
  {
   "cell_type": "code",
   "execution_count": 24,
   "metadata": {},
   "outputs": [
    {
     "name": "stderr",
     "output_type": "stream",
     "text": [
      "2020-01-03 17:48:22 Hail: INFO: Coerced sorted dataset\n",
      "2020-01-03 17:50:51 Hail: INFO: Coerced sorted dataset\n"
     ]
    }
   ],
   "source": [
    "count = genotypes.count()"
   ]
  },
  {
   "cell_type": "code",
   "execution_count": 25,
   "metadata": {},
   "outputs": [
    {
     "data": {
      "text/plain": [
       "(9159120, 151)"
      ]
     },
     "execution_count": 25,
     "metadata": {},
     "output_type": "execute_result"
    }
   ],
   "source": [
    "count"
   ]
  },
  {
   "cell_type": "code",
   "execution_count": null,
   "metadata": {},
   "outputs": [
    {
     "name": "stderr",
     "output_type": "stream",
     "text": [
      "2020-01-03 20:50:53 Hail: INFO: Coerced sorted dataset\n",
      "2020-01-03 20:54:59 Hail: INFO: Coerced sorted dataset\n"
     ]
    }
   ],
   "source": [
    "genotypes.write('/hail/gnomad/gnomad_with_drawn_genotypes_ready_to_merge.ht')"
   ]
  }
 ],
 "metadata": {
  "kernelspec": {
   "display_name": "Python 3",
   "language": "python",
   "name": "python3"
  },
  "language_info": {
   "codemirror_mode": {
    "name": "ipython",
    "version": 3
   },
   "file_extension": ".py",
   "mimetype": "text/x-python",
   "name": "python",
   "nbconvert_exporter": "python",
   "pygments_lexer": "ipython3",
   "version": "3.7.4"
  }
 },
 "nbformat": 4,
 "nbformat_minor": 2
}
